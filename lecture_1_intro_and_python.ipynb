{
  "nbformat": 4,
  "nbformat_minor": 0,
  "metadata": {
    "colab": {
      "name": "lecture_1_intro_and_python.ipynb",
      "version": "0.3.2",
      "provenance": [],
      "include_colab_link": true
    },
    "kernelspec": {
      "name": "python3",
      "display_name": "Python 3"
    }
  },
  "cells": [
    {
      "cell_type": "markdown",
      "metadata": {
        "id": "view-in-github",
        "colab_type": "text"
      },
      "source": [
        "<a href=\"https://colab.research.google.com/github/fbeilstein/machine_learning/blob/master/lecture_1_intro_and_python.ipynb\" target=\"_parent\"><img src=\"https://colab.research.google.com/assets/colab-badge.svg\" alt=\"Open In Colab\"/></a>"
      ]
    },
    {
      "cell_type": "markdown",
      "metadata": {
        "id": "C1ClpO9ZpPQ7",
        "colab_type": "text"
      },
      "source": [
        "#Introduction"
      ]
    },
    {
      "cell_type": "markdown",
      "metadata": {
        "id": "x1TiA8pQqlCk",
        "colab_type": "text"
      },
      "source": [
        "#Machine learning landscape"
      ]
    },
    {
      "cell_type": "markdown",
      "metadata": {
        "id": "FDf029NSqgfK",
        "colab_type": "text"
      },
      "source": [
        "#Curriculum"
      ]
    },
    {
      "cell_type": "markdown",
      "metadata": {
        "id": "jH8kq00CrP6R",
        "colab_type": "text"
      },
      "source": [
        "This course will consist of 3 main parts:\n",
        "---\n",
        "\n",
        "  * Intro\n",
        "  * Tools of ML\n",
        "  * Methods of ML\n",
        "---\n",
        "I expect to cover:\n",
        "---\n",
        "\n",
        "---\n",
        "\n",
        "* Intro\n",
        "    - General Info, Python\n",
        "    - More about Python\n",
        "\n",
        "---\n",
        "\n",
        "  * Tools of ML\n",
        "   - NumPy Arrays\n",
        "   - Pandas\n",
        "   - MatPlotLib\n",
        "\n",
        "---\n",
        "\n",
        "  * Methods of ML\n",
        "    - Naive Bayes Classification\n",
        "    - Linear Regression\n",
        "    - Support Vector Machines\n",
        "    - Decision Trees and Random Forests\n",
        "    - Principal Component Analysis\n",
        "    - Manifold Learning\n",
        "    - k-Means Clustering\n",
        "    - Gaussian Mixture Models\n",
        "    - Kernel Density Estimation\n",
        "    - What's next: NNs and beyond\n"
      ]
    },
    {
      "cell_type": "markdown",
      "metadata": {
        "id": "OGtFUCE0qsPp",
        "colab_type": "text"
      },
      "source": [
        "#Instruments we will use"
      ]
    },
    {
      "cell_type": "markdown",
      "metadata": {
        "id": "GERxafEQq3Us",
        "colab_type": "text"
      },
      "source": [
        "#Python (expected to span for at least two lectures)"
      ]
    }
  ]
}