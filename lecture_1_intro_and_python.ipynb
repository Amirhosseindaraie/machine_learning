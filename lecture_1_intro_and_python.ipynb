{
  "nbformat": 4,
  "nbformat_minor": 0,
  "metadata": {
    "colab": {
      "name": "lecture_1_intro_and_python.ipynb",
      "version": "0.3.2",
      "provenance": [],
      "toc_visible": true,
      "include_colab_link": true
    },
    "kernelspec": {
      "name": "python3",
      "display_name": "Python 3"
    }
  },
  "cells": [
    {
      "cell_type": "markdown",
      "metadata": {
        "id": "view-in-github",
        "colab_type": "text"
      },
      "source": [
        "<a href=\"https://colab.research.google.com/github/fbeilstein/machine_learning/blob/master/lecture_1_intro_and_python.ipynb\" target=\"_parent\"><img src=\"https://colab.research.google.com/assets/colab-badge.svg\" alt=\"Open In Colab\"/></a>"
      ]
    },
    {
      "cell_type": "markdown",
      "metadata": {
        "id": "C1ClpO9ZpPQ7",
        "colab_type": "text"
      },
      "source": [
        "#Introduction"
      ]
    },
    {
      "cell_type": "markdown",
      "metadata": {
        "id": "x1TiA8pQqlCk",
        "colab_type": "text"
      },
      "source": [
        "#Machine learning landscape"
      ]
    },
    {
      "cell_type": "markdown",
      "metadata": {
        "id": "FDf029NSqgfK",
        "colab_type": "text"
      },
      "source": [
        "#Curriculum"
      ]
    },
    {
      "cell_type": "markdown",
      "metadata": {
        "id": "jH8kq00CrP6R",
        "colab_type": "text"
      },
      "source": [
        "**This course will consist of 3 main parts:**\n",
        "\n",
        "\n",
        "  * Intro\n",
        "  * Tools of ML\n",
        "  * Methods of ML\n",
        "---\n",
        "\n",
        "**I expect to cover:**\n",
        "\n",
        "---\n",
        "\n",
        "* Intro\n",
        "    - General Info, Python\n",
        "    - More about Python\n",
        "\n",
        "---\n",
        "\n",
        "  * Tools of ML\n",
        "   - NumPy Arrays\n",
        "   - Pandas\n",
        "   - MatPlotLib\n",
        "\n",
        "---\n",
        "\n",
        "  * Methods of ML\n",
        "    - Naive Bayes Classification\n",
        "    - Linear Regression\n",
        "    - Support Vector Machines\n",
        "    - Decision Trees and Random Forests\n",
        "    - Principal Component Analysis\n",
        "    - Manifold Learning\n",
        "    - k-Means Clustering\n",
        "    - Gaussian Mixture Models\n",
        "    - Kernel Density Estimation\n",
        "    - What's next: NNs and beyond\n"
      ]
    },
    {
      "cell_type": "markdown",
      "metadata": {
        "id": "OGtFUCE0qsPp",
        "colab_type": "text"
      },
      "source": [
        "#Instruments we will use"
      ]
    },
    {
      "cell_type": "markdown",
      "metadata": {
        "id": "GERxafEQq3Us",
        "colab_type": "text"
      },
      "source": [
        "#Python (expected to span for at least two lectures)"
      ]
    },
    {
      "cell_type": "markdown",
      "metadata": {
        "id": "GtUXjg-K6Isv",
        "colab_type": "text"
      },
      "source": [
        "##Types and Operators"
      ]
    },
    {
      "cell_type": "markdown",
      "metadata": {
        "id": "LEz6OAsA9xeg",
        "colab_type": "text"
      },
      "source": [
        "###Big picture"
      ]
    },
    {
      "cell_type": "markdown",
      "metadata": {
        "id": "rQb-oYda6-Oo",
        "colab_type": "text"
      },
      "source": [
        "**Preview: built-in objects**\n",
        " \n",
        "Object type | Example constants/usage\n",
        "---|---\n",
        "Numbers | 3.14, 1234, 999L, 3+4j, decimal\n",
        "Strings | 'spam', \"spam's\"\n",
        "Lists | [1, [2, 'three'], 4]\n",
        "Dictionaries | {'food':'spam', 'taste':'yum'}\n",
        "Tuples | (1,'spam', 4, 'U')\n",
        "Files | text = open('eggs', 'r').read()\n",
        "Others | sets, types, None, bool\n",
        "\n",
        " "
      ]
    },
    {
      "cell_type": "markdown",
      "metadata": {
        "id": "KOo9o26y86UG",
        "colab_type": "text"
      },
      "source": [
        "**Built-in Types**\n",
        "\n",
        "   * Key terms: “sequence”, “immutable”, “mapping”\n",
        "   * Key ideas: no fixed types, no fixed sizes, arbitrary nesting\n",
        "   * Full story: dir(object), help(object.method), manuals"
      ]
    },
    {
      "cell_type": "markdown",
      "metadata": {
        "id": "9jAeqlC09ZbA",
        "colab_type": "text"
      },
      "source": [
        "**Python program structure**\n",
        "\n",
        "   * Programs are composed of modules\n",
        "   * Modules contain statements\n",
        "   * Statements contain expressions\n",
        "   * Expressions create and process objects"
      ]
    },
    {
      "cell_type": "markdown",
      "metadata": {
        "id": "YXCVf2R-9gNc",
        "colab_type": "text"
      },
      "source": [
        "**Why use built-in types?**\n",
        "\n",
        "   * Python provides objects and supports extensions\n",
        "   * Built-in objects make simple programs easy to write\n",
        "   * Built-in objects are components of extensions\n",
        "   * Often more efficient than custom data structures"
      ]
    },
    {
      "cell_type": "markdown",
      "metadata": {
        "id": "VAGK4PhS9vPg",
        "colab_type": "text"
      },
      "source": [
        "###Numbers"
      ]
    },
    {
      "cell_type": "markdown",
      "metadata": {
        "id": "CMXHOEiZ90xQ",
        "colab_type": "text"
      },
      "source": [
        "**Standard types and operators**\n",
        "\n",
        "   * Integer, floating-point, hex/octal constants\n",
        "   * ‘long’ integer type with unlimited precision\n",
        "   * Built-in mathematical functions: ‘pow’, ‘abs’\n",
        "   * Utility modules: ‘random’, ‘math’\n",
        "   * Complex numbers, ‘**’ power operator"
      ]
    },
    {
      "cell_type": "markdown",
      "metadata": {
        "id": "EllIsjiW_ivP",
        "colab_type": "text"
      },
      "source": [
        "**Numeric Python (NumPy)**\n",
        "\n",
        "   * An optional extension, beyond core language\n",
        "   * For advanced numeric programming in Python\n",
        "   * Matrix object, interfaces to numeric libraries, etc.\n",
        "   * Plus SciPy, matplotlib, pypar, IPython shell, others\n",
        "   * Python + NumPy = open source MATLAB alternative"
      ]
    },
    {
      "cell_type": "markdown",
      "metadata": {
        "id": "XOCDrtwa_fg0",
        "colab_type": "text"
      },
      "source": [
        "**Numeric literals**\n",
        " \n",
        "Constant | Interpretation\n",
        "---|---\n",
        "1234, -24 | integers (C longs, 3.X: unlimited size)\n",
        "99999999L | 2.X long integers (unlimited size)\n",
        "1.23, 3.14e-10 | floating-point (C doubles)\n",
        "0o177,0x9f,0b101 | octal, hex, binary integer literals\n",
        "3+4j, 3.0+4.0j | complex number literals\n",
        "Decimal('0.11') | fixed-precision decimal (2.4+)\n",
        "Fraction(2, 3) | rational type (2.6+, 3.0+)"
      ]
    },
    {
      "cell_type": "markdown",
      "metadata": {
        "id": "oSPo6zHi_dCl",
        "colab_type": "text"
      },
      "source": [
        " **Python expressions**\n",
        "\n",
        "   * Usual algebraic operators: ‘+’ , ‘-’, ‘*’, ‘/’, . . .\n",
        "   * C’s bitwise operators: “<<”,  “&”, . . .\n",
        "   * Mixed types: converted up just as in C\n",
        "   * Parenthesis group sub-expressions"
      ]
    },
    {
      "cell_type": "markdown",
      "metadata": {
        "id": "9D8zXWeD_aFw",
        "colab_type": "text"
      },
      "source": [
        "**Numbers in action**\n",
        "\n",
        "   * Variables created when assigned\n",
        "   * Variables replaced with their value when used\n",
        "   * Variables must be assigned before used\n",
        "   * Expression results echoed back\n",
        "   * Mixed integer/float: casts up to float\n",
        "   * Integer division truncates (until 3.X: use // to force)"
      ]
    },
    {
      "cell_type": "code",
      "metadata": {
        "id": "wy7prWoa-3xM",
        "colab_type": "code",
        "outputId": "8bf49b60-bea7-46d2-fb51-faffa506c9c6",
        "colab": {
          "base_uri": "https://localhost:8080/",
          "height": 34
        }
      },
      "source": [
        "a = 3 # name created\n",
        "b = 4\n",
        "b / 2 + a # same as ((4 / 2) + 3)"
      ],
      "execution_count": 0,
      "outputs": [
        {
          "output_type": "execute_result",
          "data": {
            "text/plain": [
              "5.0"
            ]
          },
          "metadata": {
            "tags": []
          },
          "execution_count": 1
        }
      ]
    },
    {
      "cell_type": "code",
      "metadata": {
        "id": "sPupbNT-_CaM",
        "colab_type": "code",
        "outputId": "0c86a91a-4de2-4697-b1ce-6dd60f3b3930",
        "colab": {
          "base_uri": "https://localhost:8080/",
          "height": 34
        }
      },
      "source": [
        "b / (2.0 + a) # same as (4 / (2.0 + 3))"
      ],
      "execution_count": 0,
      "outputs": [
        {
          "output_type": "execute_result",
          "data": {
            "text/plain": [
              "0.8"
            ]
          },
          "metadata": {
            "tags": []
          },
          "execution_count": 2
        }
      ]
    },
    {
      "cell_type": "code",
      "metadata": {
        "id": "QNiEu1zT_Gqm",
        "colab_type": "code",
        "outputId": "9fef19aa-8931-4e4a-a343-4d09b109fdcd",
        "colab": {
          "base_uri": "https://localhost:8080/",
          "height": 34
        }
      },
      "source": [
        "1 / 2, 1 // 2 # / keeps remainder, // does not"
      ],
      "execution_count": 0,
      "outputs": [
        {
          "output_type": "execute_result",
          "data": {
            "text/plain": [
              "(0.5, 0)"
            ]
          },
          "metadata": {
            "tags": []
          },
          "execution_count": 3
        }
      ]
    },
    {
      "cell_type": "code",
      "metadata": {
        "id": "dsI9Tqj0_RdE",
        "colab_type": "code",
        "outputId": "9706f041-e8e1-4aa3-f576-927b4c930013",
        "colab": {
          "base_uri": "https://localhost:8080/",
          "height": 34
        }
      },
      "source": [
        "4 / 5.0"
      ],
      "execution_count": 0,
      "outputs": [
        {
          "output_type": "execute_result",
          "data": {
            "text/plain": [
              "0.8"
            ]
          },
          "metadata": {
            "tags": []
          },
          "execution_count": 4
        }
      ]
    },
    {
      "cell_type": "markdown",
      "metadata": {
        "id": "Cx3CuGQxAHcI",
        "colab_type": "text"
      },
      "source": [
        "###The dynamic typing"
      ]
    },
    {
      "cell_type": "code",
      "metadata": {
        "id": "XQm1uUPWPHM5",
        "colab_type": "code",
        "colab": {}
      },
      "source": [
        "a = 3 # Where are the missing declarations?"
      ],
      "execution_count": 0,
      "outputs": []
    },
    {
      "cell_type": "markdown",
      "metadata": {
        "id": "OHp22-DWAJkE",
        "colab_type": "text"
      },
      "source": [
        "   * Names versus objects\n",
        "\n",
        "   * Names are always “references” (pointers) to objects\n",
        "\n",
        "   * Names are created when first assigned (or so)\n",
        "\n",
        "   * Objects have types, names do not\n",
        "\n",
        "   * Each value is a distinct object (normally)\n",
        "\n",
        "   * Objects are pieces of memory with value + operations\n",
        "\n",
        "   * Shared references to mutables are open to side effects (on purpose)"
      ]
    },
    {
      "cell_type": "code",
      "metadata": {
        "id": "oICSlNgvdmxh",
        "colab_type": "code",
        "outputId": "01e3eb84-32c7-4f27-a2bf-b59d9d8ce995",
        "colab": {
          "base_uri": "https://localhost:8080/",
          "height": 34
        }
      },
      "source": [
        "x = 1\n",
        "x << 2 # shift left 2 bits"
      ],
      "execution_count": 0,
      "outputs": [
        {
          "output_type": "execute_result",
          "data": {
            "text/plain": [
              "4"
            ]
          },
          "metadata": {
            "tags": []
          },
          "execution_count": 13
        }
      ]
    },
    {
      "cell_type": "code",
      "metadata": {
        "id": "wEPqhV3EdqV5",
        "colab_type": "code",
        "outputId": "3109e1b2-0913-4724-d55c-0cd253c1e5d4",
        "colab": {
          "base_uri": "https://localhost:8080/",
          "height": 34
        }
      },
      "source": [
        "x | 2 # bitwise OR"
      ],
      "execution_count": 0,
      "outputs": [
        {
          "output_type": "execute_result",
          "data": {
            "text/plain": [
              "3"
            ]
          },
          "metadata": {
            "tags": []
          },
          "execution_count": 14
        }
      ]
    },
    {
      "cell_type": "code",
      "metadata": {
        "id": "CZ0NnhE4dtwh",
        "colab_type": "code",
        "outputId": "728179eb-bb0d-4cfc-8166-b5d54e9d4791",
        "colab": {
          "base_uri": "https://localhost:8080/",
          "height": 34
        }
      },
      "source": [
        "x & 1 # bitwise AND"
      ],
      "execution_count": 0,
      "outputs": [
        {
          "output_type": "execute_result",
          "data": {
            "text/plain": [
              "1"
            ]
          },
          "metadata": {
            "tags": []
          },
          "execution_count": 15
        }
      ]
    },
    {
      "cell_type": "markdown",
      "metadata": {
        "id": "1G-vdBEPdjEq",
        "colab_type": "text"
      },
      "source": [
        "**Long integers**\n",
        "\n",
        "   * int in 3.X Python\n",
        "   * Via ‘L’ suffix\n",
        "   * Some performance penalty\n",
        "   * Auto-converted to long if too big (“L” optional)"
      ]
    },
    {
      "cell_type": "code",
      "metadata": {
        "id": "d8iAP3FVdMws",
        "colab_type": "code",
        "outputId": "ea661095-f65c-4c72-fe08-502cf9fdf716",
        "colab": {
          "base_uri": "https://localhost:8080/",
          "height": 34
        }
      },
      "source": [
        "9999999999999999999999999999 + 1"
      ],
      "execution_count": 0,
      "outputs": [
        {
          "output_type": "execute_result",
          "data": {
            "text/plain": [
              "10000000000000000000000000000"
            ]
          },
          "metadata": {
            "tags": []
          },
          "execution_count": 12
        }
      ]
    },
    {
      "cell_type": "markdown",
      "metadata": {
        "id": "ci6BCWAZS22T",
        "colab_type": "text"
      },
      "source": [
        "**Decimal and Fraction extension types**"
      ]
    },
    {
      "cell_type": "code",
      "metadata": {
        "id": "ZKbKuc1USutm",
        "colab_type": "code",
        "outputId": "22253b2a-8870-4b3a-8d5d-124d2f86c075",
        "colab": {
          "base_uri": "https://localhost:8080/",
          "height": 34
        }
      },
      "source": [
        "0.1 + 0.1 + 0.1 - 0.3 "
      ],
      "execution_count": 0,
      "outputs": [
        {
          "output_type": "execute_result",
          "data": {
            "text/plain": [
              "5.551115123125783e-17"
            ]
          },
          "metadata": {
            "tags": []
          },
          "execution_count": 11
        }
      ]
    },
    {
      "cell_type": "code",
      "metadata": {
        "id": "gviLsQbXScPW",
        "colab_type": "code",
        "outputId": "0ba807fa-e548-4390-d8a3-c6fc48f91a08",
        "colab": {
          "base_uri": "https://localhost:8080/",
          "height": 34
        }
      },
      "source": [
        "from decimal import Decimal\n",
        "\n",
        "Decimal('0.1') + Decimal('0.1') + Decimal('0.1') - Decimal('0.3')"
      ],
      "execution_count": 0,
      "outputs": [
        {
          "output_type": "execute_result",
          "data": {
            "text/plain": [
              "Decimal('0.0')"
            ]
          },
          "metadata": {
            "tags": []
          },
          "execution_count": 9
        }
      ]
    },
    {
      "cell_type": "code",
      "metadata": {
        "id": "bcHCspc9SfjT",
        "colab_type": "code",
        "outputId": "84a80fa2-f42c-4dc9-c097-071dfe79a21e",
        "colab": {
          "base_uri": "https://localhost:8080/",
          "height": 34
        }
      },
      "source": [
        "Decimal('0.1') + Decimal('0.10') + Decimal('0.10') - Decimal('0.30')"
      ],
      "execution_count": 0,
      "outputs": [
        {
          "output_type": "execute_result",
          "data": {
            "text/plain": [
              "Decimal('0.00')"
            ]
          },
          "metadata": {
            "tags": []
          },
          "execution_count": 10
        }
      ]
    },
    {
      "cell_type": "code",
      "metadata": {
        "id": "zXJidzvMRzSW",
        "colab_type": "code",
        "outputId": "05c177a4-99fa-46af-8415-9fac22905649",
        "colab": {
          "base_uri": "https://localhost:8080/",
          "height": 34
        }
      },
      "source": [
        "from fractions import Fraction\n",
        "\n",
        "Fraction(1, 3) + Fraction(2, 8)"
      ],
      "execution_count": 0,
      "outputs": [
        {
          "output_type": "execute_result",
          "data": {
            "text/plain": [
              "Fraction(7, 12)"
            ]
          },
          "metadata": {
            "tags": []
          },
          "execution_count": 7
        }
      ]
    },
    {
      "cell_type": "code",
      "metadata": {
        "id": "8FImnn0bRq6Y",
        "colab_type": "code",
        "outputId": "082d885e-a14e-4645-ccd1-ca6699397644",
        "colab": {
          "base_uri": "https://localhost:8080/",
          "height": 34
        }
      },
      "source": [
        "Fraction(1, 10) + Fraction(1, 10) + Fraction(1, 10) - Fraction(3, 10)"
      ],
      "execution_count": 0,
      "outputs": [
        {
          "output_type": "execute_result",
          "data": {
            "text/plain": [
              "Fraction(0, 1)"
            ]
          },
          "metadata": {
            "tags": []
          },
          "execution_count": 8
        }
      ]
    },
    {
      "cell_type": "markdown",
      "metadata": {
        "id": "rcRZF0wnRAms",
        "colab_type": "text"
      },
      "source": [
        "**Python operators and precedence**\n",
        "\n",
        "   * Operators lower in table bind tighter (parens force order)\n",
        "   * Preview: all Python operators may be overloaded by Python classes and C extension types\n",
        "   * Added in Python 2.0: +=. *=, &=, …  augmented assignment statements, not operators\n",
        "   * Python 3.X: `X` → repr(X), X / Y → true div, X <> Y → X != Y\n",
        "   * Recent operator/expression additions:\n",
        "\n",
        "Operators | Description\n",
        "---|---\n",
        "x if y else z | Ternary if, same as 4-line if/else statement\n",
        "yield [from] x | Generator function’s iteration result (return can send one too)\n",
        "await x | For 3.5+ async def coroutines\n",
        "x @ y | Matrix multiply in 3.5+ (but not used by core Python itself!)\n",
        "[x, *iter] | Unpacks (flattens) objects in literals in 3.5+\n",
        "\n",
        "\n",
        "Operators | Description\n",
        "---|---\n",
        "x or y, lambda args: expr | Logical ‘or’ (y is only evaluated if x is false), anonymous function\n",
        "x and y | Logical ‘and’ (y is only evaluated if x is true)\n",
        "not x | Logical negation\n",
        "<, <=, >, >=, ==, <>, !=, is, is not, in, not in | Comparison operators, sequence membership\n",
        "x \\| y | Bitwise ‘or’\n",
        "x ^ y | Bitwise ‘exclusive or’\n",
        "x & y | Bitwise ‘and’\n",
        "x << y, x >> y | Shift x left or right by y bits\n",
        "x + y, x – y | Addition/concatenation, subtraction\n",
        "x * y, x / y, x % y, x // y | Multiply/repetition, divide, remainder/format, floor divide\n",
        "x ** y, -x, +x, ~x | Power, unary negation, identity, bitwise compliment\n",
        "x[i], x[i:j], x.y, x(...) | Indexing, slicing, qualification, function calls\n",
        "(...), [...], {...}, `...` | Tuple, list, dictionary, conversion to string"
      ]
    },
    {
      "cell_type": "markdown",
      "metadata": {
        "id": "Lb_x0dJ26Jy-",
        "colab_type": "text"
      },
      "source": [
        "##Basic Statements "
      ]
    },
    {
      "cell_type": "markdown",
      "metadata": {
        "id": "NGTc-3m3vVfr",
        "colab_type": "text"
      },
      "source": [
        "##Functions"
      ]
    },
    {
      "cell_type": "markdown",
      "metadata": {
        "id": "JTT1y26hvkHu",
        "colab_type": "text"
      },
      "source": [
        "**Why use functions?**\n",
        "   * Code reuse\n",
        "   * Procedural decomposition\n",
        "   * Alternative to cut-and-paste: redundancy"
      ]
    },
    {
      "cell_type": "markdown",
      "metadata": {
        "id": "mR-U4ZJQwV0L",
        "colab_type": "text"
      },
      "source": [
        "**Function topics**\n",
        "\n",
        "   * The basics\n",
        "   * Scope rules\n",
        "   * Argument matching modes\n",
        "   * Odds and ends\n",
        "   * Generator expressions and functions\n",
        "   * Design concepts\n",
        "   * Functions are objects\n",
        "   * Function gotchas"
      ]
    },
    {
      "cell_type": "markdown",
      "metadata": {
        "id": "DWiT0nEe2C7Y",
        "colab_type": "text"
      },
      "source": [
        "###Function basics"
      ]
    },
    {
      "cell_type": "markdown",
      "metadata": {
        "id": "bi6AGp4I2Jp4",
        "colab_type": "text"
      },
      "source": [
        "   * def is an executable statement; usually run during import\n",
        "   * def creates a function object and assigns to a name\n",
        "   * return sends a result object back to the caller\n",
        "   * Arguments are passed by object reference (assignment)\n",
        "   * Arguments, return types, and variables are not declared\n",
        "   * Polymorphism: code to object interfaces, not datatypes"
      ]
    },
    {
      "cell_type": "markdown",
      "metadata": {
        "id": "0CuOR9JD2OTA",
        "colab_type": "text"
      },
      "source": [
        "**General form**\n",
        "\n",
        "```python\n",
        "def <name>(arg1, arg2,… argN):\n",
        "  <statements>\n",
        "  return <value>\n",
        "```"
      ]
    },
    {
      "cell_type": "markdown",
      "metadata": {
        "id": "_74bCwhRvVf0",
        "colab_type": "text"
      },
      "source": [
        "**Definition**"
      ]
    },
    {
      "cell_type": "code",
      "metadata": {
        "id": "wBxCylXUvVf2",
        "colab_type": "code",
        "colab": {}
      },
      "source": [
        "def times(x, y):      # create and assign function\n",
        "  return x * y      # body executed when called"
      ],
      "execution_count": 0,
      "outputs": []
    },
    {
      "cell_type": "markdown",
      "metadata": {
        "id": "wP8rB_qUvVf5",
        "colab_type": "text"
      },
      "source": [
        "**Calls**"
      ]
    },
    {
      "cell_type": "code",
      "metadata": {
        "id": "R_Y5m2U8vVf5",
        "colab_type": "code",
        "outputId": "2292f00e-6d54-42c8-bea7-5b58613f016e",
        "colab": {
          "base_uri": "https://localhost:8080/",
          "height": 34
        }
      },
      "source": [
        "times(2, 4)           # arguments in parenthesis"
      ],
      "execution_count": 0,
      "outputs": [
        {
          "output_type": "execute_result",
          "data": {
            "text/plain": [
              "8"
            ]
          },
          "metadata": {
            "tags": []
          },
          "execution_count": 2
        }
      ]
    },
    {
      "cell_type": "code",
      "metadata": {
        "id": "W_iQtsh8vVf8",
        "colab_type": "code",
        "outputId": "e98a10fe-9e22-4d4e-a2ba-678463c87763",
        "colab": {
          "base_uri": "https://localhost:8080/",
          "height": 34
        }
      },
      "source": [
        "times('Hi', 4)        # functions are 'typeless'"
      ],
      "execution_count": 0,
      "outputs": [
        {
          "output_type": "execute_result",
          "data": {
            "text/plain": [
              "'HiHiHiHi'"
            ]
          },
          "metadata": {
            "tags": []
          },
          "execution_count": 4
        }
      ]
    },
    {
      "cell_type": "markdown",
      "metadata": {
        "id": "hRaw-gRPvVf-",
        "colab_type": "text"
      },
      "source": [
        "“Polymorphism”\n",
        "\n",
        "\n",
        "The meaning of an operation depends on its subject.\n",
        "By not caring about types, code becomes more flexible.\n",
        "Any object with a compatible interface will work.\n",
        "Most errors are best caught by Python, not your code."
      ]
    },
    {
      "cell_type": "markdown",
      "metadata": {
        "id": "nccse4So2yst",
        "colab_type": "text"
      },
      "source": [
        "**Example: intersecting sequences**\n",
        "\n",
        "   * Definition"
      ]
    },
    {
      "cell_type": "code",
      "metadata": {
        "id": "vdDYTygdvVf_",
        "colab_type": "code",
        "colab": {}
      },
      "source": [
        "def intersect(seq1, seq2):\n",
        "  res = []                     # start empty\n",
        "  for x in seq1:               # scan seq1\n",
        "    if x in seq2:            # common item?\n",
        "        res.append(x)        # add to end\n",
        "  return res"
      ],
      "execution_count": 0,
      "outputs": []
    },
    {
      "cell_type": "markdown",
      "metadata": {
        "id": "RSrh3evxvVgB",
        "colab_type": "text"
      },
      "source": [
        "* Calls"
      ]
    },
    {
      "cell_type": "code",
      "metadata": {
        "id": "tLDewjawvVgC",
        "colab_type": "code",
        "outputId": "be010960-d584-4465-855b-eaadb647c553",
        "colab": {
          "base_uri": "https://localhost:8080/",
          "height": 34
        }
      },
      "source": [
        "s1 = \"SPAM\"\n",
        "s2 = \"SCAM\"\n",
        "intersect(s1, s2)               # strings"
      ],
      "execution_count": 0,
      "outputs": [
        {
          "output_type": "execute_result",
          "data": {
            "text/plain": [
              "['S', 'A', 'M']"
            ]
          },
          "metadata": {
            "tags": []
          },
          "execution_count": 8
        }
      ]
    },
    {
      "cell_type": "code",
      "metadata": {
        "id": "QMsPRDvdvVgJ",
        "colab_type": "code",
        "outputId": "d8b332d8-fb9e-4b3b-d19c-23fee2bf6c84",
        "colab": {
          "base_uri": "https://localhost:8080/",
          "height": 34
        }
      },
      "source": [
        "intersect([1, 2, 3], (1, 4))    # mixed types"
      ],
      "execution_count": 0,
      "outputs": [
        {
          "output_type": "execute_result",
          "data": {
            "text/plain": [
              "[1]"
            ]
          },
          "metadata": {
            "tags": []
          },
          "execution_count": 9
        }
      ]
    },
    {
      "cell_type": "markdown",
      "metadata": {
        "id": "zQXZo_D2vVgL",
        "colab_type": "text"
      },
      "source": [
        "###Scope rules in functions"
      ]
    },
    {
      "cell_type": "markdown",
      "metadata": {
        "id": "W8PuPtLG3bo4",
        "colab_type": "text"
      },
      "source": [
        "   * Enclosing module is a ‘global’ scope\n",
        "   * Each call to a function is a new ‘local’ scope\n",
        "   * Assigned names are local, unless declared “global”\n",
        "   * All other names are global or builtin\n",
        "   * Added in 2.2: ‘nonlocal’ enclosing function locals (if any) searched before global\n",
        "   * Added in 3.X: ‘nonlocal’ variables can be changed if declared, just like ‘globals’\n"
      ]
    },
    {
      "cell_type": "markdown",
      "metadata": {
        "id": "yYi4MZSB3uts",
        "colab_type": "text"
      },
      "source": [
        "**Name resolution: the “LEGB” rule**\n",
        "\n",
        "   *   References search up to 4 scopes:\n",
        "1.    Local                                   (function)\n",
        "2.    Enclosing functions           (if any)\n",
        "3.    Global                                 (module)\n",
        "4.    Builtin                                 (__builtin__ (2.X), builtins (3.X))\n",
        "   *   Assignments create or change local names by default\n",
        "   *   “global” declarations map assigned names to module"
      ]
    },
    {
      "cell_type": "markdown",
      "metadata": {
        "id": "WGNpeGdN319Q",
        "colab_type": "text"
      },
      "source": [
        "Example\n",
        "   * Global names: ‘X’, ‘func’\n",
        "   * Local names: ‘Y’, ‘Z’\n",
        "   * Interactive prompt: module ‘__main__’"
      ]
    },
    {
      "cell_type": "code",
      "metadata": {
        "id": "yGH8cLoavVgM",
        "colab_type": "code",
        "outputId": "e9dcf36d-c76d-4a58-e44b-32b1f8c51025",
        "colab": {
          "base_uri": "https://localhost:8080/",
          "height": 34
        }
      },
      "source": [
        "X = 99            # X and func assigned in module\n",
        "def func(Y): # Y and Z assigned in function\n",
        "  Z = X + Y     # X not assigned: global\n",
        "  return Z\n",
        "func(1) # func in module: result=100"
      ],
      "execution_count": 0,
      "outputs": [
        {
          "output_type": "execute_result",
          "data": {
            "text/plain": [
              "100"
            ]
          },
          "metadata": {
            "tags": []
          },
          "execution_count": 10
        }
      ]
    },
    {
      "cell_type": "markdown",
      "metadata": {
        "id": "-Gus4u-yvVgO",
        "colab_type": "text"
      },
      "source": [
        "**Enclosing Function Scopes (2.2+)**"
      ]
    },
    {
      "cell_type": "code",
      "metadata": {
        "id": "faJu241HvVgO",
        "colab_type": "code",
        "outputId": "aefefc36-be10-482a-8b81-ee06da1a6580",
        "colab": {
          "base_uri": "https://localhost:8080/",
          "height": 34
        }
      },
      "source": [
        "def f1():\n",
        "  x = 88\n",
        "  def f2():\n",
        "    print(x)         # 2.2: x found in enclosing function\n",
        "  f2()\n",
        "\n",
        "f1()"
      ],
      "execution_count": 0,
      "outputs": [
        {
          "output_type": "stream",
          "text": [
            "88\n"
          ],
          "name": "stdout"
        }
      ]
    },
    {
      "cell_type": "markdown",
      "metadata": {
        "id": "edvsu-kMvVgS",
        "colab_type": "text"
      },
      "source": [
        "**More useful with lambda (ahead)**"
      ]
    },
    {
      "cell_type": "code",
      "metadata": {
        "id": "5iONKWUDvVgS",
        "colab_type": "code",
        "outputId": "a20d5de0-631f-4bfe-f036-72836108aecc",
        "colab": {
          "base_uri": "https://localhost:8080/",
          "height": 34
        }
      },
      "source": [
        "def func():\n",
        "  x = 42\n",
        "  action = (lambda n: x ** n)          # 2.2\n",
        "  return action\n",
        "\n",
        "f = func()\n",
        "f(2)"
      ],
      "execution_count": 0,
      "outputs": [
        {
          "output_type": "execute_result",
          "data": {
            "text/plain": [
              "1764"
            ]
          },
          "metadata": {
            "tags": []
          },
          "execution_count": 15
        }
      ]
    },
    {
      "cell_type": "markdown",
      "metadata": {
        "id": "hz1XkTZdvVgV",
        "colab_type": "text"
      },
      "source": [
        "**Most useful for closures: state retention (non-OOP)**"
      ]
    },
    {
      "cell_type": "code",
      "metadata": {
        "id": "v51b87m5vVgW",
        "colab_type": "code",
        "colab": {}
      },
      "source": [
        "def maker(N):\n",
        "  def action(X):            # make, don’t call\n",
        "    return X ** N\n",
        "  return action             # return new func"
      ],
      "execution_count": 0,
      "outputs": []
    },
    {
      "cell_type": "code",
      "metadata": {
        "id": "m8JVuo5UvVgX",
        "colab_type": "code",
        "outputId": "4f5897f3-4f31-464d-9f81-b94f0b1ff87d",
        "colab": {
          "base_uri": "https://localhost:8080/",
          "height": 34
        }
      },
      "source": [
        "f = maker(3)                  # “remembers” 3 (N)\n",
        "f(2), f(3)                    # arg to X, not N"
      ],
      "execution_count": 0,
      "outputs": [
        {
          "output_type": "execute_result",
          "data": {
            "text/plain": [
              "(8, 27)"
            ]
          },
          "metadata": {
            "tags": []
          },
          "execution_count": 18
        }
      ]
    },
    {
      "cell_type": "code",
      "metadata": {
        "id": "rDPvcbQfvVgc",
        "colab_type": "code",
        "outputId": "6066503b-4f34-4343-ea48-efffc066b4be",
        "colab": {
          "base_uri": "https://localhost:8080/",
          "height": 34
        }
      },
      "source": [
        "g = maker(4)                  # “remembers” 4 (N)\n",
        "g(2), g(3)"
      ],
      "execution_count": 0,
      "outputs": [
        {
          "output_type": "execute_result",
          "data": {
            "text/plain": [
              "(16, 81)"
            ]
          },
          "metadata": {
            "tags": []
          },
          "execution_count": 19
        }
      ]
    },
    {
      "cell_type": "code",
      "metadata": {
        "id": "klAbjX8ZvVgg",
        "colab_type": "code",
        "outputId": "a39f014b-4551-45ae-91f6-60611b483ddd",
        "colab": {
          "base_uri": "https://localhost:8080/",
          "height": 34
        }
      },
      "source": [
        "f(2), f(3)                    # f still has 3"
      ],
      "execution_count": 0,
      "outputs": [
        {
          "output_type": "execute_result",
          "data": {
            "text/plain": [
              "(8, 27)"
            ]
          },
          "metadata": {
            "tags": []
          },
          "execution_count": 20
        }
      ]
    },
    {
      "cell_type": "markdown",
      "metadata": {
        "id": "XDgA6Q-ivVgh",
        "colab_type": "text"
      },
      "source": [
        "###More on “global”, and 3.X “nonlocal”"
      ]
    },
    {
      "cell_type": "markdown",
      "metadata": {
        "id": "XdjbDzrS6tc7",
        "colab_type": "text"
      },
      "source": [
        "   * ‘global’ means assigned at top-level of a module file\n",
        "   * Global names must be declared only if assigned\n",
        "   * Global names may be referenced without being declared\n",
        "   * 3.X: “nonlocal X” means X in enclosing def changeable"
      ]
    },
    {
      "cell_type": "markdown",
      "metadata": {
        "id": "5D4n146E7HGf",
        "colab_type": "text"
      },
      "source": [
        "All Pythons"
      ]
    },
    {
      "cell_type": "code",
      "metadata": {
        "id": "sjW1d3yXvVgh",
        "colab_type": "code",
        "outputId": "08e0570a-aee6-41a7-8525-2e887a203ef4",
        "colab": {
          "base_uri": "https://localhost:8080/",
          "height": 34
        }
      },
      "source": [
        "y, z = 1, 2         # global variables in module\n",
        "def all_global():\n",
        "  global x        # declare globals assigned\n",
        "  x = y + z       # no need to declare y,z: 3-scope rule\n",
        "\n",
        "all_global()  \n",
        "print(x)  "
      ],
      "execution_count": 0,
      "outputs": [
        {
          "output_type": "stream",
          "text": [
            "3\n"
          ],
          "name": "stdout"
        }
      ]
    },
    {
      "cell_type": "markdown",
      "metadata": {
        "id": "3vWoMfMavVgj",
        "colab_type": "text"
      },
      "source": [
        "enclosing function vars are changeable (state retention) (Python 3.X Only)"
      ]
    },
    {
      "cell_type": "code",
      "metadata": {
        "id": "ZA4w3o6BvVgj",
        "colab_type": "code",
        "outputId": "bac8e8d7-44be-4e80-fc0a-b5cb82ec8339",
        "colab": {
          "base_uri": "https://localhost:8080/",
          "height": 34
        }
      },
      "source": [
        "def outer():\n",
        "  x = 1\n",
        "  def inner():\n",
        "    nonlocal x\n",
        "    x += 1\n",
        "    print(x)\n",
        "  return inner\n",
        "\n",
        "f = outer()      # f is really an inner\n",
        "f()"
      ],
      "execution_count": 0,
      "outputs": [
        {
          "output_type": "stream",
          "text": [
            "2\n"
          ],
          "name": "stdout"
        }
      ]
    },
    {
      "cell_type": "code",
      "metadata": {
        "id": "3hMOqQbx7nuQ",
        "colab_type": "code",
        "outputId": "a75757c2-01eb-426d-e670-d704317c0d64",
        "colab": {
          "base_uri": "https://localhost:8080/",
          "height": 34
        }
      },
      "source": [
        "f()"
      ],
      "execution_count": 0,
      "outputs": [
        {
          "output_type": "stream",
          "text": [
            "3\n"
          ],
          "name": "stdout"
        }
      ]
    },
    {
      "cell_type": "markdown",
      "metadata": {
        "id": "oWTxaASkvVgn",
        "colab_type": "text"
      },
      "source": [
        "###More on “return”\n"
      ]
    },
    {
      "cell_type": "markdown",
      "metadata": {
        "id": "U8t9cNVt7_ah",
        "colab_type": "text"
      },
      "source": [
        "   * Return sends back an object as value of call\n",
        "   * Can return multiple arguments in a tuple\n",
        "   * Can return modified argument name values"
      ]
    },
    {
      "cell_type": "code",
      "metadata": {
        "id": "TffaACctvVgn",
        "colab_type": "code",
        "outputId": "9c5160a0-3d76-4ddc-bba5-6d0b30ddb9a1",
        "colab": {
          "base_uri": "https://localhost:8080/",
          "height": 34
        }
      },
      "source": [
        "def multiple(x, y):\n",
        "  x = 2\n",
        "  y = [3, 4]\n",
        "  return x, y\n",
        "\n",
        "X = 1\n",
        "L = [1, 2]\n",
        "X, L = multiple(X, L)\n",
        "X, L"
      ],
      "execution_count": 0,
      "outputs": [
        {
          "output_type": "execute_result",
          "data": {
            "text/plain": [
              "(2, [3, 4])"
            ]
          },
          "metadata": {
            "tags": []
          },
          "execution_count": 25
        }
      ]
    },
    {
      "cell_type": "markdown",
      "metadata": {
        "id": "q4BNsNszvVgp",
        "colab_type": "text"
      },
      "source": [
        "###More on argument passing\n"
      ]
    },
    {
      "cell_type": "markdown",
      "metadata": {
        "id": "KWJHFnvS8bwH",
        "colab_type": "text"
      },
      "source": [
        "   * Pass by object reference: assign shared object to local name\n",
        "   * In def, assigning to argument name doesn’t effect caller\n",
        "   * In def, changing mutable object argument may impact caller\n",
        "   * Not pass ‘by reference’ (C++), but:\n",
        "     - Immutables act like ‘by value’ (C)\n",
        "     - Mutables act like ‘by pointer’ (C)"
      ]
    },
    {
      "cell_type": "code",
      "metadata": {
        "id": "qpM1mlf-vVgr",
        "colab_type": "code",
        "outputId": "9affeced-1492-4271-bf4c-6fa6a179f9f5",
        "colab": {
          "base_uri": "https://localhost:8080/",
          "height": 34
        }
      },
      "source": [
        "def changer(a, b):\n",
        "  a = 2             # changes local name's value only\n",
        "  b[0] = 'spam'     # changes shared object in-place\n",
        "\n",
        "X = 1\n",
        "L = [1, 2]\n",
        "changer(X, L)\n",
        "X, L"
      ],
      "execution_count": 0,
      "outputs": [
        {
          "output_type": "execute_result",
          "data": {
            "text/plain": [
              "(1, ['spam', 2])"
            ]
          },
          "metadata": {
            "tags": []
          },
          "execution_count": 26
        }
      ]
    },
    {
      "cell_type": "markdown",
      "metadata": {
        "id": "GCEuJToHvVgv",
        "colab_type": "text"
      },
      "source": [
        "**Equivalent to these assignments:**"
      ]
    },
    {
      "cell_type": "code",
      "metadata": {
        "id": "Hsd1nz-TvVgv",
        "colab_type": "code",
        "outputId": "3d03577e-c8ec-4fc5-f4bf-8aab490e8e74",
        "colab": {
          "base_uri": "https://localhost:8080/",
          "height": 34
        }
      },
      "source": [
        "X = 1\n",
        "a = X           # they share the same object\n",
        "a = 2           # resets a only, X is still 1\n",
        "L = [1, 2]\n",
        "b = L           # they share the same object\n",
        "b[0] = 'spam'   # in-place change: L sees the change too\n",
        "X, L"
      ],
      "execution_count": 0,
      "outputs": [
        {
          "output_type": "execute_result",
          "data": {
            "text/plain": [
              "(1, ['spam', 2])"
            ]
          },
          "metadata": {
            "tags": []
          },
          "execution_count": 27
        }
      ]
    },
    {
      "cell_type": "markdown",
      "metadata": {
        "id": "3BqhN9Ha9rUX",
        "colab_type": "text"
      },
      "source": [
        "![assignments](https://learning-python.com/class/Workbook/unit05_files/image002.gif)"
      ]
    },
    {
      "cell_type": "markdown",
      "metadata": {
        "id": "fLkST1MV95dW",
        "colab_type": "text"
      },
      "source": [
        "###Special argument matching modes"
      ]
    },
    {
      "cell_type": "markdown",
      "metadata": {
        "id": "LbfHkk8m-anv",
        "colab_type": "text"
      },
      "source": [
        "   * Positional      matched left-to-right in header (normal)\n",
        "   * Keywords      matched by name in header\n",
        "   * Varargs        catch unmatched positional or keyword args\n",
        "   * Defaults        header can provide default argument values\n",
        "   * 3.X: Keyword Only, after \"\"*\"\" in def,  must pass by name"
      ]
    },
    {
      "cell_type": "markdown",
      "metadata": {
        "id": "2LnRqgSQ-oEe",
        "colab_type": "text"
      },
      "source": [
        "Operation | Location | Interpretation\n",
        "---|---|---\n",
        "func(value) | caller | normal argument: matched by position\n",
        "func(name=value) | caller | keyword argument: matched by name\n",
        "def func(name) | function | normal argument: matches any by name or position\n",
        "def func(name=value) | function | default argument value, if not passed in call\n",
        "def func(*name) | function | matches remaining positional args (tuple)\n",
        "def func(**name) | function | matches remaining keyword args (dictionary)\n",
        "func(*args, **kargs) | caller | subsumes old apply(): unpack tuple/dict of args\n",
        "def func(a, *b, c) def func(a, *, c) | function | 3.X keyword-only (c must be passed by name only)"
      ]
    },
    {
      "cell_type": "markdown",
      "metadata": {
        "id": "dn2TWb93vVg5",
        "colab_type": "text"
      },
      "source": [
        "About the stars…\n",
        "\n",
        "In Python 3.4 and earlier, the special *X and **X star syntax forms can appear in 3 places:\n",
        "\n",
        "   1.     In assignments, where a *X in the recipient collects unmatched items in a new list (3.X sequence assignments)\n",
        "   2.     In function headers, where the two forms collect unmatched positional and keyword arguments in a tuple and dict\n",
        "   3.     In function calls, where the two forms unpack iterables and dictionaries into individual items (arguments)\n",
        "   \n",
        "In Python 3.5 and later, this star syntax is also usable within data structure literals—where it unpacks collections into individual items, like its original use in function calls (#3 above). The unpacking star syntax now also works in lists, tuples, sets, and dictionaries where it unpacks or \"flattens\" another object's contents in-place:\n",
        "\n",
        "```python\n",
        "[x, *iter]      # list:  unpack iter's items\n",
        "(x, *iter, y)   # tuple: ditto (parenthesis or not)\n",
        "{*iter, x}      # set:   ditto (unordered, unique)\n",
        "{x:y, **dict}   # dict:  unpack dict's keys/values)\n",
        "```"
      ]
    },
    {
      "cell_type": "markdown",
      "metadata": {
        "id": "7BGdD-ctvVg6",
        "colab_type": "text"
      },
      "source": [
        "For example, in 3.5+:"
      ]
    },
    {
      "cell_type": "code",
      "metadata": {
        "id": "FbsoQA6SvVg7",
        "colab_type": "code",
        "outputId": "91eaf02d-5b26-4217-f9be-7585d359ecbb",
        "colab": {
          "base_uri": "https://localhost:8080/",
          "height": 34
        }
      },
      "source": [
        "x = [1, 2]\n",
        "y = [*x, *x]\n",
        "y"
      ],
      "execution_count": 0,
      "outputs": [
        {
          "output_type": "execute_result",
          "data": {
            "text/plain": [
              "[1, 2, 1, 2]"
            ]
          },
          "metadata": {
            "tags": []
          },
          "execution_count": 28
        }
      ]
    },
    {
      "cell_type": "markdown",
      "metadata": {
        "id": "uwdiPA2-vVg8",
        "colab_type": "text"
      },
      "source": [
        "###Examples"
      ]
    },
    {
      "cell_type": "markdown",
      "metadata": {
        "id": "zHH__zUtDlNF",
        "colab_type": "text"
      },
      "source": [
        "**Positionals and keywords**"
      ]
    },
    {
      "cell_type": "code",
      "metadata": {
        "id": "sa_mt97EvVg8",
        "colab_type": "code",
        "outputId": "5227cb16-89b1-4c0d-bb0a-dc3479973ca7",
        "colab": {
          "base_uri": "https://localhost:8080/",
          "height": 34
        }
      },
      "source": [
        "def f(a, b, c): print(a, b, c)\n",
        "  \n",
        "f(1, 2, 3)"
      ],
      "execution_count": 0,
      "outputs": [
        {
          "output_type": "stream",
          "text": [
            "1 2 3\n"
          ],
          "name": "stdout"
        }
      ]
    },
    {
      "cell_type": "code",
      "metadata": {
        "id": "Ut6_Osh8vVhC",
        "colab_type": "code",
        "outputId": "179ba12f-9e93-40d2-98dc-41467cd300f1",
        "colab": {
          "base_uri": "https://localhost:8080/",
          "height": 34
        }
      },
      "source": [
        "f(c=3, b=2, a=1)"
      ],
      "execution_count": 0,
      "outputs": [
        {
          "output_type": "stream",
          "text": [
            "1 2 3\n"
          ],
          "name": "stdout"
        }
      ]
    },
    {
      "cell_type": "code",
      "metadata": {
        "id": "pElhEHTEvVhD",
        "colab_type": "code",
        "outputId": "967d183f-d625-44d0-d274-c52eabbb832e",
        "colab": {
          "base_uri": "https://localhost:8080/",
          "height": 34
        }
      },
      "source": [
        "f(1, c=3, b=2)"
      ],
      "execution_count": 0,
      "outputs": [
        {
          "output_type": "stream",
          "text": [
            "1 2 3\n"
          ],
          "name": "stdout"
        }
      ]
    },
    {
      "cell_type": "markdown",
      "metadata": {
        "id": "QqBnt0jDvVhF",
        "colab_type": "text"
      },
      "source": [
        "**Defaults**"
      ]
    },
    {
      "cell_type": "code",
      "metadata": {
        "id": "TpsBBoHfvVhG",
        "colab_type": "code",
        "outputId": "43c4531f-5b4b-4a1e-9a3f-525f7966b35f",
        "colab": {
          "base_uri": "https://localhost:8080/",
          "height": 34
        }
      },
      "source": [
        "def f(a, b=2, c=3): print(a, b, c)\n",
        "  \n",
        "f(1)"
      ],
      "execution_count": 0,
      "outputs": [
        {
          "output_type": "stream",
          "text": [
            "1 2 3\n"
          ],
          "name": "stdout"
        }
      ]
    },
    {
      "cell_type": "code",
      "metadata": {
        "id": "3PLc7u1cvVhK",
        "colab_type": "code",
        "outputId": "ab8ededa-9c27-4a65-fbca-957fd89b2c41",
        "colab": {
          "base_uri": "https://localhost:8080/",
          "height": 34
        }
      },
      "source": [
        "f(1, 4, 5)"
      ],
      "execution_count": 0,
      "outputs": [
        {
          "output_type": "stream",
          "text": [
            "1 4 5\n"
          ],
          "name": "stdout"
        }
      ]
    },
    {
      "cell_type": "code",
      "metadata": {
        "id": "19Pbiu0MvVhM",
        "colab_type": "code",
        "outputId": "b353bfb0-699c-4d48-a728-188b1ed41149",
        "colab": {
          "base_uri": "https://localhost:8080/",
          "height": 34
        }
      },
      "source": [
        "f(1, c=6)"
      ],
      "execution_count": 0,
      "outputs": [
        {
          "output_type": "stream",
          "text": [
            "1 2 6\n"
          ],
          "name": "stdout"
        }
      ]
    },
    {
      "cell_type": "markdown",
      "metadata": {
        "id": "UX_stF4cvVhN",
        "colab_type": "text"
      },
      "source": [
        "**Arbitrary positionals**"
      ]
    },
    {
      "cell_type": "code",
      "metadata": {
        "id": "bWUJW1fBvVhO",
        "colab_type": "code",
        "outputId": "3de5e78d-373f-4be5-9c91-c7d2294d2574",
        "colab": {
          "base_uri": "https://localhost:8080/",
          "height": 34
        }
      },
      "source": [
        "def f(*args): print(args)\n",
        "\n",
        "f(1)"
      ],
      "execution_count": 0,
      "outputs": [
        {
          "output_type": "stream",
          "text": [
            "(1,)\n"
          ],
          "name": "stdout"
        }
      ]
    },
    {
      "cell_type": "code",
      "metadata": {
        "id": "_vQayl4MvVhR",
        "colab_type": "code",
        "outputId": "a108d724-72c4-4e64-9742-b6ac7be35051",
        "colab": {
          "base_uri": "https://localhost:8080/",
          "height": 34
        }
      },
      "source": [
        "f(1,2,3,4)"
      ],
      "execution_count": 0,
      "outputs": [
        {
          "output_type": "stream",
          "text": [
            "(1, 2, 3, 4)\n"
          ],
          "name": "stdout"
        }
      ]
    },
    {
      "cell_type": "markdown",
      "metadata": {
        "id": "S0vgi753vVhS",
        "colab_type": "text"
      },
      "source": [
        "**Arbitrary keywords**"
      ]
    },
    {
      "cell_type": "code",
      "metadata": {
        "id": "g10CzXtevVhT",
        "colab_type": "code",
        "outputId": "cefb2aa1-75a1-4c49-c3b1-27a99fb56065",
        "colab": {
          "base_uri": "https://localhost:8080/",
          "height": 34
        }
      },
      "source": [
        "def f(**args): print(args)\n",
        "  \n",
        "f()  "
      ],
      "execution_count": 0,
      "outputs": [
        {
          "output_type": "stream",
          "text": [
            "{}\n"
          ],
          "name": "stdout"
        }
      ]
    },
    {
      "cell_type": "code",
      "metadata": {
        "id": "5mV9qgi6vVhW",
        "colab_type": "code",
        "outputId": "6efaae52-1d2f-4d68-c91f-5e69834e05ec",
        "colab": {
          "base_uri": "https://localhost:8080/",
          "height": 34
        }
      },
      "source": [
        "f(a=1, b=2)"
      ],
      "execution_count": 0,
      "outputs": [
        {
          "output_type": "stream",
          "text": [
            "{'a': 1, 'b': 2}\n"
          ],
          "name": "stdout"
        }
      ]
    },
    {
      "cell_type": "code",
      "metadata": {
        "id": "vGandUJPvVhX",
        "colab_type": "code",
        "outputId": "cb30a5ee-ed89-4c6f-d9c8-f48eb7f6362a",
        "colab": {
          "base_uri": "https://localhost:8080/",
          "height": 34
        }
      },
      "source": [
        "def f(a, *pargs, **kargs): print(a, pargs, kargs)\n",
        "  \n",
        "f(1, 2, 3, x=1, y=2)  "
      ],
      "execution_count": 0,
      "outputs": [
        {
          "output_type": "stream",
          "text": [
            "1 (2, 3) {'x': 1, 'y': 2}\n"
          ],
          "name": "stdout"
        }
      ]
    },
    {
      "cell_type": "markdown",
      "metadata": {
        "id": "-bFPc2YvvVha",
        "colab_type": "text"
      },
      "source": [
        "**Example: min value functions**\n",
        "\n",
        "   *   Only deals with matching: still passed by assignment\n",
        "   *   Defaults retain an object: may change if mutable"
      ]
    },
    {
      "cell_type": "code",
      "metadata": {
        "id": "Zc4pJuCEvVhb",
        "colab_type": "code",
        "outputId": "68dc7baa-d339-4553-fcae-48a7db4c1ab5",
        "colab": {
          "base_uri": "https://localhost:8080/",
          "height": 102
        }
      },
      "source": [
        "def func(spam, eggs, toast=0, ham=0):   # first 2 required\n",
        "  print (spam, eggs, toast, ham)\n",
        "  \n",
        "func(1, 2)                      # output: (1, 2, 0, 0)\n",
        "func(1, ham=1, eggs=0)          # output: (1, 0, 0, 1)\n",
        "func(spam=1, eggs=0)            # output: (1, 0, 0, 0)\n",
        "func(toast=1, eggs=2, spam=3)   # output: (3, 2, 1, 0)\n",
        "func(1, 2, 3, 4)                # output: (1, 2, 3, 4)  "
      ],
      "execution_count": 0,
      "outputs": [
        {
          "output_type": "stream",
          "text": [
            "1 2 0 0\n",
            "1 0 0 1\n",
            "1 0 0 0\n",
            "3 2 1 0\n",
            "1 2 3 4\n"
          ],
          "name": "stdout"
        }
      ]
    },
    {
      "cell_type": "markdown",
      "metadata": {
        "id": "Za2AAP9GvVhc",
        "colab_type": "text"
      },
      "source": [
        "**Ordering rules**\n",
        "\n",
        "   * Call: keyword arguments after non-keyword arguments\n",
        "   * Header: normals, then defaults, then *name, then * *name"
      ]
    },
    {
      "cell_type": "markdown",
      "metadata": {
        "id": "pDG4Tg9YGDKc",
        "colab_type": "text"
      },
      "source": [
        "**Matching algorithm (see exercise)**\n",
        "\n",
        "1.   Assign non-keyword arguments by position\n",
        "2.   Assign keyword arguments by matching names\n",
        "3.   Assign extra non-keyword arguments to *name tuple\n",
        "4.   Assign extra keyword arguments to **name dictionary\n",
        "5.   Unassigned arguments in header assigned default values"
      ]
    },
    {
      "cell_type": "markdown",
      "metadata": {
        "id": "0ko7F6eMGIME",
        "colab_type": "text"
      },
      "source": [
        "###Odds and ends"
      ]
    },
    {
      "cell_type": "markdown",
      "metadata": {
        "id": "a3swBuxwGMvU",
        "colab_type": "text"
      },
      "source": [
        "   * lambda expression creates anonymous functions\n",
        "   * list comprehensions, map, filter apply expressions to sequences (see also prior unit)\n",
        "   * Generator expressions (2.4+)\n",
        "   * Generator functions and yield (new in 2.2, 2.3)\n",
        "   * apply function calls functions with arguments tuple\n",
        "   * Functions return ‘None’ if they don’t use a real ‘return’\n",
        "   * Python 3.X function annotations and keyword arguments"
      ]
    },
    {
      "cell_type": "markdown",
      "metadata": {
        "id": "pEUm1oHlGQBc",
        "colab_type": "text"
      },
      "source": [
        "####Lambda expressions"
      ]
    },
    {
      "cell_type": "code",
      "metadata": {
        "id": "X3AskUUGvVhc",
        "colab_type": "code",
        "outputId": "921a2510-3a25-4fc1-a664-ed30bdadc9f6",
        "colab": {
          "base_uri": "https://localhost:8080/",
          "height": 34
        }
      },
      "source": [
        "def func(x, y, z): return x + y + z\n",
        "\n",
        "func(2, 3, 4)"
      ],
      "execution_count": 0,
      "outputs": [
        {
          "output_type": "execute_result",
          "data": {
            "text/plain": [
              "9"
            ]
          },
          "metadata": {
            "tags": []
          },
          "execution_count": 1
        }
      ]
    },
    {
      "cell_type": "code",
      "metadata": {
        "id": "tDmq3T-FvVhf",
        "colab_type": "code",
        "outputId": "de56d903-4cc4-429f-aa4e-4ff33bca55ba",
        "colab": {
          "base_uri": "https://localhost:8080/",
          "height": 34
        }
      },
      "source": [
        "f = lambda x, y, z: x + y + z\n",
        "f(2, 3, 4)"
      ],
      "execution_count": 0,
      "outputs": [
        {
          "output_type": "execute_result",
          "data": {
            "text/plain": [
              "9"
            ]
          },
          "metadata": {
            "tags": []
          },
          "execution_count": 2
        }
      ]
    },
    {
      "cell_type": "markdown",
      "metadata": {
        "id": "mT3yu4ftvVhi",
        "colab_type": "text"
      },
      "source": [
        "####List comprehensions"
      ]
    },
    {
      "cell_type": "code",
      "metadata": {
        "id": "ZUH10-sOvVhi",
        "colab_type": "code",
        "outputId": "a582e554-0259-4e5e-ce41-294828451de9",
        "colab": {
          "base_uri": "https://localhost:8080/",
          "height": 34
        }
      },
      "source": [
        "ord('s')"
      ],
      "execution_count": 0,
      "outputs": [
        {
          "output_type": "execute_result",
          "data": {
            "text/plain": [
              "115"
            ]
          },
          "metadata": {
            "tags": []
          },
          "execution_count": 3
        }
      ]
    },
    {
      "cell_type": "code",
      "metadata": {
        "id": "jWxhfwivvVhl",
        "colab_type": "code",
        "outputId": "fa6931bc-a83b-4453-db4d-25e76e734e49",
        "colab": {
          "base_uri": "https://localhost:8080/",
          "height": 34
        }
      },
      "source": [
        "res = []\n",
        "for x in 'spam': res.append(ord(x))\n",
        "res"
      ],
      "execution_count": 0,
      "outputs": [
        {
          "output_type": "execute_result",
          "data": {
            "text/plain": [
              "[115, 112, 97, 109]"
            ]
          },
          "metadata": {
            "tags": []
          },
          "execution_count": 5
        }
      ]
    },
    {
      "cell_type": "code",
      "metadata": {
        "id": "fRY4CC9QvVhp",
        "colab_type": "code",
        "outputId": "b1e87bba-5065-4ebb-f78d-e6f51ec8fa4d",
        "colab": {
          "base_uri": "https://localhost:8080/",
          "height": 34
        }
      },
      "source": [
        "list(map(ord, 'spam'))              # apply func to sequence"
      ],
      "execution_count": 0,
      "outputs": [
        {
          "output_type": "execute_result",
          "data": {
            "text/plain": [
              "[115, 112, 97, 109]"
            ]
          },
          "metadata": {
            "tags": []
          },
          "execution_count": 8
        }
      ]
    },
    {
      "cell_type": "code",
      "metadata": {
        "id": "0-AZMQb_vVhq",
        "colab_type": "code",
        "outputId": "6f45d2dc-01cd-4271-dd32-dedf61f84a5a",
        "colab": {
          "base_uri": "https://localhost:8080/",
          "height": 34
        }
      },
      "source": [
        "[ord(x) for x in 'spam']      # apply expr to sequence"
      ],
      "execution_count": 0,
      "outputs": [
        {
          "output_type": "execute_result",
          "data": {
            "text/plain": [
              "[115, 112, 97, 109]"
            ]
          },
          "metadata": {
            "tags": []
          },
          "execution_count": 7
        }
      ]
    },
    {
      "cell_type": "markdown",
      "metadata": {
        "id": "7Ustg1v8vVhr",
        "colab_type": "text"
      },
      "source": [
        "**adding arbitrary expressions**"
      ]
    },
    {
      "cell_type": "code",
      "metadata": {
        "id": "W0JYmNkMvVhr",
        "colab_type": "code",
        "outputId": "213299c9-216a-445b-f432-8f8dfd3bb661",
        "colab": {
          "base_uri": "https://localhost:8080/",
          "height": 34
        }
      },
      "source": [
        "[x ** 2 for x in range(10)]"
      ],
      "execution_count": 0,
      "outputs": [
        {
          "output_type": "execute_result",
          "data": {
            "text/plain": [
              "[0, 1, 4, 9, 16, 25, 36, 49, 64, 81]"
            ]
          },
          "metadata": {
            "tags": []
          },
          "execution_count": 9
        }
      ]
    },
    {
      "cell_type": "code",
      "metadata": {
        "id": "YeDwp9XDvVht",
        "colab_type": "code",
        "outputId": "82fec714-5b41-4b0b-f78d-2d602cf805d3",
        "colab": {
          "base_uri": "https://localhost:8080/",
          "height": 34
        }
      },
      "source": [
        "list(map((lambda x: x**2), range(10)))"
      ],
      "execution_count": 0,
      "outputs": [
        {
          "output_type": "execute_result",
          "data": {
            "text/plain": [
              "[0, 1, 4, 9, 16, 25, 36, 49, 64, 81]"
            ]
          },
          "metadata": {
            "tags": []
          },
          "execution_count": 11
        }
      ]
    },
    {
      "cell_type": "code",
      "metadata": {
        "id": "tkn91jw_vVhu",
        "colab_type": "code",
        "outputId": "07065f31-6ff0-4e7a-91f9-ae5b94435756",
        "colab": {
          "base_uri": "https://localhost:8080/",
          "height": 68
        }
      },
      "source": [
        "lines = [line[:-1] for line in open('sample_data/README.md')]\n",
        "lines[:3]"
      ],
      "execution_count": 0,
      "outputs": [
        {
          "output_type": "execute_result",
          "data": {
            "text/plain": [
              "['This directory includes a few sample datasets to get you started.',\n",
              " '',\n",
              " '*   `california_housing_data*.csv` is California housing data from the 1990 US']"
            ]
          },
          "metadata": {
            "tags": []
          },
          "execution_count": 17
        }
      ]
    },
    {
      "cell_type": "markdown",
      "metadata": {
        "id": "zieTPbCdvVhw",
        "colab_type": "text"
      },
      "source": [
        "**adding if tests**"
      ]
    },
    {
      "cell_type": "code",
      "metadata": {
        "id": "r8PadO97vVhw",
        "colab_type": "code",
        "outputId": "78f00693-7791-47cd-e6d3-083687b87c59",
        "colab": {
          "base_uri": "https://localhost:8080/",
          "height": 34
        }
      },
      "source": [
        "[x for x in range(10) if x % 2 == 0]"
      ],
      "execution_count": 0,
      "outputs": [
        {
          "output_type": "execute_result",
          "data": {
            "text/plain": [
              "[0, 2, 4, 6, 8]"
            ]
          },
          "metadata": {
            "tags": []
          },
          "execution_count": 18
        }
      ]
    },
    {
      "cell_type": "code",
      "metadata": {
        "id": "bXghhlOkvVhz",
        "colab_type": "code",
        "outputId": "5783289c-828c-4458-a15b-c958df651973",
        "colab": {
          "base_uri": "https://localhost:8080/",
          "height": 34
        }
      },
      "source": [
        "list(filter((lambda x: x % 2 == 0), range(10)))"
      ],
      "execution_count": 0,
      "outputs": [
        {
          "output_type": "execute_result",
          "data": {
            "text/plain": [
              "[0, 2, 4, 6, 8]"
            ]
          },
          "metadata": {
            "tags": []
          },
          "execution_count": 20
        }
      ]
    },
    {
      "cell_type": "markdown",
      "metadata": {
        "id": "uQs-Ux1KvVh0",
        "colab_type": "text"
      },
      "source": [
        "**advanced usage**"
      ]
    },
    {
      "cell_type": "code",
      "metadata": {
        "id": "gISSt8fQvVh1",
        "colab_type": "code",
        "outputId": "a3010293-eb87-4edd-a4cb-b99ca2050c03",
        "colab": {
          "base_uri": "https://localhost:8080/",
          "height": 34
        }
      },
      "source": [
        "[x**2 for x in range(10) if x % 2 == 0]"
      ],
      "execution_count": 0,
      "outputs": [
        {
          "output_type": "execute_result",
          "data": {
            "text/plain": [
              "[0, 4, 16, 36, 64]"
            ]
          },
          "metadata": {
            "tags": []
          },
          "execution_count": 21
        }
      ]
    },
    {
      "cell_type": "code",
      "metadata": {
        "id": "M-HKDhL2vVh2",
        "colab_type": "code",
        "outputId": "ee2e5ea8-1226-4367-8a20-cca0bae5fad0",
        "colab": {
          "base_uri": "https://localhost:8080/",
          "height": 34
        }
      },
      "source": [
        "[x+y for x in 'abc' for y in 'lmn']"
      ],
      "execution_count": 0,
      "outputs": [
        {
          "output_type": "execute_result",
          "data": {
            "text/plain": [
              "['al', 'am', 'an', 'bl', 'bm', 'bn', 'cl', 'cm', 'cn']"
            ]
          },
          "metadata": {
            "tags": []
          },
          "execution_count": 22
        }
      ]
    },
    {
      "cell_type": "code",
      "metadata": {
        "id": "SV1zE1wavVh5",
        "colab_type": "code",
        "outputId": "075d9faa-7200-4d43-c666-0f4c747d78a1",
        "colab": {
          "base_uri": "https://localhost:8080/",
          "height": 34
        }
      },
      "source": [
        "res = []\n",
        "for x in 'abc':\n",
        "  for y in 'lmn':\n",
        "    res.append(x+y)\n",
        "res"
      ],
      "execution_count": 0,
      "outputs": [
        {
          "output_type": "execute_result",
          "data": {
            "text/plain": [
              "['al', 'am', 'an', 'bl', 'bm', 'bn', 'cl', 'cm', 'cn']"
            ]
          },
          "metadata": {
            "tags": []
          },
          "execution_count": 23
        }
      ]
    },
    {
      "cell_type": "markdown",
      "metadata": {
        "id": "z_8snJrwvVh7",
        "colab_type": "text"
      },
      "source": [
        "**nice for matrixes**"
      ]
    },
    {
      "cell_type": "code",
      "metadata": {
        "id": "r8BvWshlvVh8",
        "colab_type": "code",
        "outputId": "355f67dd-d3a6-462b-c020-79d5ff15f7fd",
        "colab": {
          "base_uri": "https://localhost:8080/",
          "height": 34
        }
      },
      "source": [
        "M = [[1, 2, 3],\n",
        "     [4, 5, 6],\n",
        "     [7, 8, 9]]\n",
        "M[1]"
      ],
      "execution_count": 0,
      "outputs": [
        {
          "output_type": "execute_result",
          "data": {
            "text/plain": [
              "[4, 5, 6]"
            ]
          },
          "metadata": {
            "tags": []
          },
          "execution_count": 24
        }
      ]
    },
    {
      "cell_type": "code",
      "metadata": {
        "id": "v3ybftamvViB",
        "colab_type": "code",
        "outputId": "ac675d81-8a4f-4b2c-f5ef-6cf8859f29c0",
        "colab": {
          "base_uri": "https://localhost:8080/",
          "height": 34
        }
      },
      "source": [
        "col2 = [row[1] for row in M]\n",
        "col2"
      ],
      "execution_count": 0,
      "outputs": [
        {
          "output_type": "execute_result",
          "data": {
            "text/plain": [
              "[2, 5, 8]"
            ]
          },
          "metadata": {
            "tags": []
          },
          "execution_count": 25
        }
      ]
    },
    {
      "cell_type": "code",
      "metadata": {
        "id": "2BxFxow0vViE",
        "colab_type": "code",
        "outputId": "a6f896c8-078c-4569-adfc-b56888116f24",
        "colab": {
          "base_uri": "https://localhost:8080/",
          "height": 34
        }
      },
      "source": [
        "quad = [M[i][j] for i in (0,1) for j in (0, 1)]\n",
        "quad"
      ],
      "execution_count": 0,
      "outputs": [
        {
          "output_type": "execute_result",
          "data": {
            "text/plain": [
              "[1, 2, 4, 5]"
            ]
          },
          "metadata": {
            "tags": []
          },
          "execution_count": 26
        }
      ]
    },
    {
      "cell_type": "markdown",
      "metadata": {
        "id": "Fja7bci-M-j-",
        "colab_type": "text"
      },
      "source": [
        "List comprehensions can become incomprehensible when nested, but map and list comprehensions may be faster than simple for loops"
      ]
    },
    {
      "cell_type": "markdown",
      "metadata": {
        "id": "wJFdn0xevViG",
        "colab_type": "text"
      },
      "source": [
        "####Generator expressions (2.4+)"
      ]
    },
    {
      "cell_type": "markdown",
      "metadata": {
        "id": "xyFaLSq9NNiN",
        "colab_type": "text"
      },
      "source": [
        "**list comprehensions generate entire list in memory**"
      ]
    },
    {
      "cell_type": "code",
      "metadata": {
        "id": "cMKN5nNCvViG",
        "colab_type": "code",
        "outputId": "3a731606-bf42-4272-9b03-7319c5424c64",
        "colab": {
          "base_uri": "https://localhost:8080/",
          "height": 34
        }
      },
      "source": [
        "squares = [x**2 for x in range(5)]\n",
        "squares"
      ],
      "execution_count": 0,
      "outputs": [
        {
          "output_type": "execute_result",
          "data": {
            "text/plain": [
              "[0, 1, 4, 9, 16]"
            ]
          },
          "metadata": {
            "tags": []
          },
          "execution_count": 27
        }
      ]
    },
    {
      "cell_type": "markdown",
      "metadata": {
        "id": "auRrJVeXvViH",
        "colab_type": "text"
      },
      "source": [
        "**generator expressions yield 1 result at a time: saves memory, distributes work**"
      ]
    },
    {
      "cell_type": "code",
      "metadata": {
        "id": "SpCyAg1bvViH",
        "colab_type": "code",
        "outputId": "9f48835a-5074-4327-a8f4-4eb2486f5b72",
        "colab": {
          "base_uri": "https://localhost:8080/",
          "height": 34
        }
      },
      "source": [
        "squares = (x**2 for x in range(5))\n",
        "squares"
      ],
      "execution_count": 0,
      "outputs": [
        {
          "output_type": "execute_result",
          "data": {
            "text/plain": [
              "<generator object <genexpr> at 0x7f379e6745c8>"
            ]
          },
          "metadata": {
            "tags": []
          },
          "execution_count": 28
        }
      ]
    },
    {
      "cell_type": "code",
      "metadata": {
        "id": "aQiuX8CKvViJ",
        "colab_type": "code",
        "outputId": "458b221f-f4ad-44a6-a915-9cc76754739e",
        "colab": {
          "base_uri": "https://localhost:8080/",
          "height": 34
        }
      },
      "source": [
        "next(squares)"
      ],
      "execution_count": 0,
      "outputs": [
        {
          "output_type": "execute_result",
          "data": {
            "text/plain": [
              "0"
            ]
          },
          "metadata": {
            "tags": []
          },
          "execution_count": 29
        }
      ]
    },
    {
      "cell_type": "code",
      "metadata": {
        "id": "P_reEfPLvViJ",
        "colab_type": "code",
        "outputId": "f08ee77e-01dc-46de-c976-9f91ad6c391a",
        "colab": {
          "base_uri": "https://localhost:8080/",
          "height": 34
        }
      },
      "source": [
        "next(squares)"
      ],
      "execution_count": 0,
      "outputs": [
        {
          "output_type": "execute_result",
          "data": {
            "text/plain": [
              "1"
            ]
          },
          "metadata": {
            "tags": []
          },
          "execution_count": 30
        }
      ]
    },
    {
      "cell_type": "code",
      "metadata": {
        "id": "9AMe2iupvViK",
        "colab_type": "code",
        "outputId": "5e77f194-e29b-4e25-eb09-6a4efeb919c1",
        "colab": {
          "base_uri": "https://localhost:8080/",
          "height": 34
        }
      },
      "source": [
        "next(squares)"
      ],
      "execution_count": 0,
      "outputs": [
        {
          "output_type": "execute_result",
          "data": {
            "text/plain": [
              "4"
            ]
          },
          "metadata": {
            "tags": []
          },
          "execution_count": 31
        }
      ]
    },
    {
      "cell_type": "code",
      "metadata": {
        "id": "4EY3yGC5vViL",
        "colab_type": "code",
        "outputId": "027b21ee-d679-424b-ccbb-c5e4d072baeb",
        "colab": {
          "base_uri": "https://localhost:8080/",
          "height": 34
        }
      },
      "source": [
        "list(squares)"
      ],
      "execution_count": 0,
      "outputs": [
        {
          "output_type": "execute_result",
          "data": {
            "text/plain": [
              "[9, 16]"
            ]
          },
          "metadata": {
            "tags": []
          },
          "execution_count": 32
        }
      ]
    },
    {
      "cell_type": "markdown",
      "metadata": {
        "id": "8_Bt3fGWvViM",
        "colab_type": "text"
      },
      "source": [
        "**iteration contexts automatically call next()**"
      ]
    },
    {
      "cell_type": "code",
      "metadata": {
        "id": "XLTCFUipvViM",
        "colab_type": "code",
        "outputId": "868b3b91-3de1-4989-fd9a-ed82fdb86742",
        "colab": {
          "base_uri": "https://localhost:8080/",
          "height": 102
        }
      },
      "source": [
        "for x in (x**2 for x in range(5)):\n",
        "  print(x)"
      ],
      "execution_count": 0,
      "outputs": [
        {
          "output_type": "stream",
          "text": [
            "0\n",
            "1\n",
            "4\n",
            "9\n",
            "16\n"
          ],
          "name": "stdout"
        }
      ]
    },
    {
      "cell_type": "code",
      "metadata": {
        "id": "jSFmafa7OZEf",
        "colab_type": "code",
        "outputId": "40000247-c8c0-4a41-97ac-aabc0c76e355",
        "colab": {
          "base_uri": "https://localhost:8080/",
          "height": 34
        }
      },
      "source": [
        "sum(x**2 for x in range(5))"
      ],
      "execution_count": 0,
      "outputs": [
        {
          "output_type": "execute_result",
          "data": {
            "text/plain": [
              "30"
            ]
          },
          "metadata": {
            "tags": []
          },
          "execution_count": 34
        }
      ]
    },
    {
      "cell_type": "markdown",
      "metadata": {
        "id": "4LXnsve4vViN",
        "colab_type": "text"
      },
      "source": [
        "####Generator functions and yield"
      ]
    },
    {
      "cell_type": "markdown",
      "metadata": {
        "id": "YNuxCREGPGrn",
        "colab_type": "text"
      },
      "source": [
        "  * Generator implements iteration protocol: \\_\\_next__()\n",
        "  * Retains local scope when suspended\n",
        "  * Distributes work over time, may save memory (see also: threads)\n",
        "  * Related: generator expressions, enumerate function, file iterators"
      ]
    },
    {
      "cell_type": "markdown",
      "metadata": {
        "id": "h8YWoAuiPUG7",
        "colab_type": "text"
      },
      "source": [
        "**functions compiled specially when contain yield**"
      ]
    },
    {
      "cell_type": "code",
      "metadata": {
        "id": "TPlxyGcPvViN",
        "colab_type": "code",
        "colab": {}
      },
      "source": [
        "def gensquares(N):\n",
        "  for i in range(N):         # suspends and resumes itself\n",
        "    yield i ** 2           # <- return value and resume here later"
      ],
      "execution_count": 0,
      "outputs": []
    },
    {
      "cell_type": "markdown",
      "metadata": {
        "id": "J-zmFn_6Pai7",
        "colab_type": "text"
      },
      "source": [
        "**generator objects support iteration protocol: \\_\\_next__()**"
      ]
    },
    {
      "cell_type": "code",
      "metadata": {
        "id": "5TSPrhXwvViN",
        "colab_type": "code",
        "outputId": "21553fb5-ca0d-4470-b455-6634fcd0def6",
        "colab": {
          "base_uri": "https://localhost:8080/",
          "height": 34
        }
      },
      "source": [
        "x = gensquares(10)\n",
        "x                              # also retain all local variables between calls"
      ],
      "execution_count": 0,
      "outputs": [
        {
          "output_type": "execute_result",
          "data": {
            "text/plain": [
              "<generator object gensquares at 0x7f379ddab9e8>"
            ]
          },
          "metadata": {
            "tags": []
          },
          "execution_count": 36
        }
      ]
    },
    {
      "cell_type": "code",
      "metadata": {
        "id": "FyZSjKs8vViP",
        "colab_type": "code",
        "outputId": "bbb20647-454f-4050-9676-c171e0471483",
        "colab": {
          "base_uri": "https://localhost:8080/",
          "height": 34
        }
      },
      "source": [
        "x.__next__()"
      ],
      "execution_count": 0,
      "outputs": [
        {
          "output_type": "execute_result",
          "data": {
            "text/plain": [
              "1"
            ]
          },
          "metadata": {
            "tags": []
          },
          "execution_count": 39
        }
      ]
    },
    {
      "cell_type": "code",
      "metadata": {
        "id": "cAfpTVgEvViQ",
        "colab_type": "code",
        "outputId": "c842093f-e3bc-4e9f-e0ec-724b9e39741c",
        "colab": {
          "base_uri": "https://localhost:8080/",
          "height": 34
        }
      },
      "source": [
        "x.__next__()"
      ],
      "execution_count": 0,
      "outputs": [
        {
          "output_type": "execute_result",
          "data": {
            "text/plain": [
              "4"
            ]
          },
          "metadata": {
            "tags": []
          },
          "execution_count": 40
        }
      ]
    },
    {
      "cell_type": "code",
      "metadata": {
        "id": "M3lkUCZ9vViR",
        "colab_type": "code",
        "outputId": "100b4b94-a5cf-44f3-82a5-62c4eadeaf7e",
        "colab": {
          "base_uri": "https://localhost:8080/",
          "height": 34
        }
      },
      "source": [
        "x.__next__()"
      ],
      "execution_count": 0,
      "outputs": [
        {
          "output_type": "execute_result",
          "data": {
            "text/plain": [
              "9"
            ]
          },
          "metadata": {
            "tags": []
          },
          "execution_count": 41
        }
      ]
    },
    {
      "cell_type": "code",
      "metadata": {
        "id": "YAcbGTsHvViS",
        "colab_type": "code",
        "outputId": "baed616b-32bc-41fa-e379-35c9c4032572",
        "colab": {
          "base_uri": "https://localhost:8080/",
          "height": 34
        }
      },
      "source": [
        "x.__next__()"
      ],
      "execution_count": 0,
      "outputs": [
        {
          "output_type": "execute_result",
          "data": {
            "text/plain": [
              "16"
            ]
          },
          "metadata": {
            "tags": []
          },
          "execution_count": 42
        }
      ]
    },
    {
      "cell_type": "markdown",
      "metadata": {
        "id": "Bckhfr2bQJtV",
        "colab_type": "text"
      },
      "source": [
        "…StopIteration exception raised at end…"
      ]
    },
    {
      "cell_type": "markdown",
      "metadata": {
        "id": "j-FShu0nvViT",
        "colab_type": "text"
      },
      "source": [
        "**for loops (and others) automatically call next()**"
      ]
    },
    {
      "cell_type": "code",
      "metadata": {
        "id": "jZlL9FLDvViT",
        "colab_type": "code",
        "outputId": "a90b8ccb-8504-4710-eb72-dd272b109fda",
        "colab": {
          "base_uri": "https://localhost:8080/",
          "height": 102
        }
      },
      "source": [
        "for i in gensquares(5):        # resume the function each time\n",
        "  print(i)               # print last yielded value\n"
      ],
      "execution_count": 0,
      "outputs": [
        {
          "output_type": "stream",
          "text": [
            "0\n",
            "1\n",
            "4\n",
            "9\n",
            "16\n"
          ],
          "name": "stdout"
        }
      ]
    },
    {
      "cell_type": "markdown",
      "metadata": {
        "id": "ghAWD8uTvViU",
        "colab_type": "text"
      },
      "source": [
        "####Apply syntax (all Pys)"
      ]
    },
    {
      "cell_type": "code",
      "metadata": {
        "id": "M7NJoQ5vvViU",
        "colab_type": "code",
        "outputId": "895e8573-a12e-4bbf-b58f-b30091398202",
        "colab": {
          "base_uri": "https://localhost:8080/",
          "height": 34
        }
      },
      "source": [
        "def func(a, b, c):\n",
        "  return a + b + c\n",
        "\n",
        "func(*(2, 3, 4))"
      ],
      "execution_count": 0,
      "outputs": [
        {
          "output_type": "execute_result",
          "data": {
            "text/plain": [
              "9"
            ]
          },
          "metadata": {
            "tags": []
          },
          "execution_count": 51
        }
      ]
    },
    {
      "cell_type": "code",
      "metadata": {
        "id": "cfSkPLo6vViX",
        "colab_type": "code",
        "outputId": "8f36b21a-1dfa-45de-95fb-19f8c0a79558",
        "colab": {
          "base_uri": "https://localhost:8080/",
          "height": 34
        }
      },
      "source": [
        "func(*(2, 3), **{'c': 4})     # 2.X and 3.X"
      ],
      "execution_count": 0,
      "outputs": [
        {
          "output_type": "execute_result",
          "data": {
            "text/plain": [
              "9"
            ]
          },
          "metadata": {
            "tags": []
          },
          "execution_count": 50
        }
      ]
    },
    {
      "cell_type": "markdown",
      "metadata": {
        "id": "Ug8t0OnQvViX",
        "colab_type": "text"
      },
      "source": [
        "**call syntax is more flexible:**"
      ]
    },
    {
      "cell_type": "code",
      "metadata": {
        "id": "hocbdr5nvViX",
        "colab_type": "code",
        "outputId": "ea90c437-386a-4cad-8305-70eae720336d",
        "colab": {
          "base_uri": "https://localhost:8080/",
          "height": 34
        }
      },
      "source": [
        "def func(a, b, c, d): return a + b + c + d\n",
        "\n",
        "args1 = (1, 2)\n",
        "args2 = {'c': 3, 'd': 4}\n",
        "func(*args1, **args2)"
      ],
      "execution_count": 0,
      "outputs": [
        {
          "output_type": "execute_result",
          "data": {
            "text/plain": [
              "10"
            ]
          },
          "metadata": {
            "tags": []
          },
          "execution_count": 1
        }
      ]
    },
    {
      "cell_type": "code",
      "metadata": {
        "id": "K9KgBB_ivVia",
        "colab_type": "code",
        "outputId": "c180b567-7c7f-4ecb-ec67-19b81322dfb2",
        "colab": {
          "base_uri": "https://localhost:8080/",
          "height": 34
        }
      },
      "source": [
        "func(1, *(2,), **args2)"
      ],
      "execution_count": 0,
      "outputs": [
        {
          "output_type": "execute_result",
          "data": {
            "text/plain": [
              "10"
            ]
          },
          "metadata": {
            "tags": []
          },
          "execution_count": 2
        }
      ]
    },
    {
      "cell_type": "markdown",
      "metadata": {
        "id": "ix3jcJN8vVib",
        "colab_type": "text"
      },
      "source": [
        "####Default return values"
      ]
    },
    {
      "cell_type": "code",
      "metadata": {
        "id": "bXggumxtvVib",
        "colab_type": "code",
        "outputId": "76911d2f-a592-4ee1-eeec-f9a357920dd5",
        "colab": {
          "base_uri": "https://localhost:8080/",
          "height": 34
        }
      },
      "source": [
        "def proc(x):\n",
        "  print(x)\n",
        "  \n",
        "x = proc('testing 123...')  "
      ],
      "execution_count": 0,
      "outputs": [
        {
          "output_type": "stream",
          "text": [
            "testing 123...\n"
          ],
          "name": "stdout"
        }
      ]
    },
    {
      "cell_type": "code",
      "metadata": {
        "id": "y7rmNqDBfMfK",
        "colab_type": "code",
        "outputId": "1054aac5-4597-42ec-cb2a-1aa62636ef73",
        "colab": {
          "base_uri": "https://localhost:8080/",
          "height": 34
        }
      },
      "source": [
        "print(x)"
      ],
      "execution_count": 0,
      "outputs": [
        {
          "output_type": "stream",
          "text": [
            "None\n"
          ],
          "name": "stdout"
        }
      ]
    },
    {
      "cell_type": "markdown",
      "metadata": {
        "id": "7EO-LoLHvVid",
        "colab_type": "text"
      },
      "source": [
        "####Python 3.X function annotations"
      ]
    },
    {
      "cell_type": "code",
      "metadata": {
        "id": "Qd3_oJlEvVie",
        "colab_type": "code",
        "outputId": "06c2deb9-b6bc-4c67-d663-5d7898ad820b",
        "colab": {
          "base_uri": "https://localhost:8080/",
          "height": 34
        }
      },
      "source": [
        "def func(a: int, b: 'spam', c: 88 = 99) -> float:\n",
        "  print(a, b, c)\n",
        "\n",
        "func(1, 2)"
      ],
      "execution_count": 0,
      "outputs": [
        {
          "output_type": "stream",
          "text": [
            "1 2 99\n"
          ],
          "name": "stdout"
        }
      ]
    },
    {
      "cell_type": "code",
      "metadata": {
        "id": "q6Llu-nKvVie",
        "colab_type": "code",
        "outputId": "b7afd679-5887-4c35-c2b1-eccee2aed940",
        "colab": {
          "base_uri": "https://localhost:8080/",
          "height": 34
        }
      },
      "source": [
        "func.__annotations__"
      ],
      "execution_count": 0,
      "outputs": [
        {
          "output_type": "execute_result",
          "data": {
            "text/plain": [
              "{'a': int, 'b': 'spam', 'c': 88, 'return': float}"
            ]
          },
          "metadata": {
            "tags": []
          },
          "execution_count": 9
        }
      ]
    },
    {
      "cell_type": "markdown",
      "metadata": {
        "id": "jAbCic8PgIf5",
        "colab_type": "text"
      },
      "source": [
        "####Python 3.X keyword-only arguments"
      ]
    },
    {
      "cell_type": "code",
      "metadata": {
        "id": "sCk4TZXQvVif",
        "colab_type": "code",
        "outputId": "0f0ce1f4-3a07-4f84-fd84-a82e9f7e45de",
        "colab": {
          "base_uri": "https://localhost:8080/",
          "height": 197
        }
      },
      "source": [
        "def f(a, b, *, c=3, d): print(a, b, c, d)\n",
        "\n",
        "print(\"ERROR EXPECTED\")\n",
        "f(1, 2)"
      ],
      "execution_count": 0,
      "outputs": [
        {
          "output_type": "error",
          "ename": "TypeError",
          "evalue": "ignored",
          "traceback": [
            "\u001b[0;31m---------------------------------------------------------------------------\u001b[0m",
            "\u001b[0;31mTypeError\u001b[0m                                 Traceback (most recent call last)",
            "\u001b[0;32m<ipython-input-11-68f5380c98b7>\u001b[0m in \u001b[0;36m<module>\u001b[0;34m()\u001b[0m\n\u001b[1;32m      1\u001b[0m \u001b[0;32mdef\u001b[0m \u001b[0mf\u001b[0m\u001b[0;34m(\u001b[0m\u001b[0ma\u001b[0m\u001b[0;34m,\u001b[0m \u001b[0mb\u001b[0m\u001b[0;34m,\u001b[0m \u001b[0;34m*\u001b[0m\u001b[0;34m,\u001b[0m \u001b[0mc\u001b[0m\u001b[0;34m=\u001b[0m\u001b[0;36m3\u001b[0m\u001b[0;34m,\u001b[0m \u001b[0md\u001b[0m\u001b[0;34m)\u001b[0m\u001b[0;34m:\u001b[0m \u001b[0mprint\u001b[0m\u001b[0;34m(\u001b[0m\u001b[0ma\u001b[0m\u001b[0;34m,\u001b[0m \u001b[0mb\u001b[0m\u001b[0;34m,\u001b[0m \u001b[0mc\u001b[0m\u001b[0;34m,\u001b[0m \u001b[0md\u001b[0m\u001b[0;34m)\u001b[0m\u001b[0;34m\u001b[0m\u001b[0;34m\u001b[0m\u001b[0m\n\u001b[1;32m      2\u001b[0m \u001b[0;34m\u001b[0m\u001b[0m\n\u001b[0;32m----> 3\u001b[0;31m \u001b[0mf\u001b[0m\u001b[0;34m(\u001b[0m\u001b[0;36m1\u001b[0m\u001b[0;34m,\u001b[0m \u001b[0;36m2\u001b[0m\u001b[0;34m)\u001b[0m\u001b[0;34m\u001b[0m\u001b[0;34m\u001b[0m\u001b[0m\n\u001b[0m",
            "\u001b[0;31mTypeError\u001b[0m: f() missing 1 required keyword-only argument: 'd'"
          ]
        }
      ]
    },
    {
      "cell_type": "code",
      "metadata": {
        "id": "vGTLHF-EvVih",
        "colab_type": "code",
        "outputId": "def7b82c-fbe3-428c-92bd-9de51c74bf6c",
        "colab": {
          "base_uri": "https://localhost:8080/",
          "height": 197
        }
      },
      "source": [
        "print(\"ERROR EXPECTED\")\n",
        "f(1, 2, 3)"
      ],
      "execution_count": 0,
      "outputs": [
        {
          "output_type": "stream",
          "text": [
            "ERROR EXPECTED\n"
          ],
          "name": "stdout"
        },
        {
          "output_type": "error",
          "ename": "TypeError",
          "evalue": "ignored",
          "traceback": [
            "\u001b[0;31m---------------------------------------------------------------------------\u001b[0m",
            "\u001b[0;31mTypeError\u001b[0m                                 Traceback (most recent call last)",
            "\u001b[0;32m<ipython-input-13-6dbda9544a7c>\u001b[0m in \u001b[0;36m<module>\u001b[0;34m()\u001b[0m\n\u001b[1;32m      1\u001b[0m \u001b[0mprint\u001b[0m\u001b[0;34m(\u001b[0m\u001b[0;34m\"ERROR EXPECTED\"\u001b[0m\u001b[0;34m)\u001b[0m\u001b[0;34m\u001b[0m\u001b[0;34m\u001b[0m\u001b[0m\n\u001b[0;32m----> 2\u001b[0;31m \u001b[0mf\u001b[0m\u001b[0;34m(\u001b[0m\u001b[0;36m1\u001b[0m\u001b[0;34m,\u001b[0m \u001b[0;36m2\u001b[0m\u001b[0;34m,\u001b[0m \u001b[0;36m3\u001b[0m\u001b[0;34m)\u001b[0m\u001b[0;34m\u001b[0m\u001b[0;34m\u001b[0m\u001b[0m\n\u001b[0m",
            "\u001b[0;31mTypeError\u001b[0m: f() takes 2 positional arguments but 3 were given"
          ]
        }
      ]
    },
    {
      "cell_type": "code",
      "metadata": {
        "id": "BPKBTA4TvVih",
        "colab_type": "code",
        "outputId": "86c91d99-bc46-46e4-8df8-2bbdb183806e",
        "colab": {
          "base_uri": "https://localhost:8080/",
          "height": 34
        }
      },
      "source": [
        "f(1, 2, d=4)"
      ],
      "execution_count": 0,
      "outputs": [
        {
          "output_type": "stream",
          "text": [
            "1 2 3 4\n"
          ],
          "name": "stdout"
        }
      ]
    },
    {
      "cell_type": "code",
      "metadata": {
        "id": "tNfER3DuvVii",
        "colab_type": "code",
        "outputId": "ca67069b-040c-4229-8b37-2494a746173a",
        "colab": {
          "base_uri": "https://localhost:8080/",
          "height": 34
        }
      },
      "source": [
        "f(1, 2, c=3, d=4)"
      ],
      "execution_count": 0,
      "outputs": [
        {
          "output_type": "stream",
          "text": [
            "1 2 3 4\n"
          ],
          "name": "stdout"
        }
      ]
    },
    {
      "cell_type": "markdown",
      "metadata": {
        "id": "c-mDezX8vVii",
        "colab_type": "text"
      },
      "source": [
        "###Function design concepts"
      ]
    },
    {
      "cell_type": "markdown",
      "metadata": {
        "id": "pvcfz_7Fgm9E",
        "colab_type": "text"
      },
      "source": [
        "   * Use global variables only when absolutely necessary\n",
        "   * Use arguments for input, ‘return’ for outputs\n",
        "   * Don’t change mutable arguments unless expected\n",
        "   * But globals are only state-retention tool without classes\n",
        "   * But classes depend on mutable arguments (‘self’)\n",
        "   \n",
        "   ![function](https://learning-python.com/class/Workbook/unit05_files/image004.gif)"
      ]
    },
    {
      "cell_type": "markdown",
      "metadata": {
        "id": "xhQmWdRlg1UY",
        "colab_type": "text"
      },
      "source": [
        "####Functions are objects: indirect calls"
      ]
    },
    {
      "cell_type": "markdown",
      "metadata": {
        "id": "NuQeq2vrg4PL",
        "colab_type": "text"
      },
      "source": [
        "   * Function objects can be assigned, passed, etc.\n",
        "   * Can call objects generically: function, bound method, ..."
      ]
    },
    {
      "cell_type": "code",
      "metadata": {
        "id": "buCx7f7ovVij",
        "colab_type": "code",
        "outputId": "dde95663-60bf-4ac7-f1e6-2be5dc825e94",
        "colab": {
          "base_uri": "https://localhost:8080/",
          "height": 34
        }
      },
      "source": [
        "def echo(message): print(message)\n",
        "\n",
        "x = echo\n",
        "x('Hello world!')"
      ],
      "execution_count": 0,
      "outputs": [
        {
          "output_type": "stream",
          "text": [
            "Hello world!\n"
          ],
          "name": "stdout"
        }
      ]
    },
    {
      "cell_type": "code",
      "metadata": {
        "id": "MSqQO6IP9rGD",
        "colab_type": "code",
        "outputId": "0ad06c3d-198b-46a5-da82-787e29db4226",
        "colab": {
          "base_uri": "https://localhost:8080/",
          "height": 34
        }
      },
      "source": [
        "def indirect(func, arg):\n",
        "  func(arg)\n",
        "\n",
        "indirect(echo, 'Hello world!')"
      ],
      "execution_count": 0,
      "outputs": [
        {
          "output_type": "stream",
          "text": [
            "Hello world!\n"
          ],
          "name": "stdout"
        }
      ]
    },
    {
      "cell_type": "code",
      "metadata": {
        "id": "7IKEGq8K9nje",
        "colab_type": "code",
        "outputId": "08dc4145-cc3a-4433-898f-8a4a4d11231b",
        "colab": {
          "base_uri": "https://localhost:8080/",
          "height": 51
        }
      },
      "source": [
        "schedule = [ (echo, 'Hello!'), (echo, 'Ni!') ]\n",
        "for (func, arg) in schedule:\n",
        "    func(arg)"
      ],
      "execution_count": 0,
      "outputs": [
        {
          "output_type": "stream",
          "text": [
            "Hello!\n",
            "Ni!\n"
          ],
          "name": "stdout"
        }
      ]
    },
    {
      "cell_type": "markdown",
      "metadata": {
        "id": "Bxk3U5CkvVik",
        "colab_type": "text"
      },
      "source": [
        "**File scanners**"
      ]
    },
    {
      "cell_type": "code",
      "metadata": {
        "id": "zGPpKOIM-Obn",
        "colab_type": "code",
        "colab": {}
      },
      "source": [
        "!echo -e \"this \\n is \\n Sparta\" > data.txt"
      ],
      "execution_count": 0,
      "outputs": []
    },
    {
      "cell_type": "code",
      "metadata": {
        "id": "MtIokWcjvVik",
        "colab_type": "code",
        "colab": {}
      },
      "source": [
        "# definition\n",
        "def scanner(name, function):\n",
        "  file = open(name, 'r')          # create file\n",
        "  for line in file.readlines():\n",
        "    function(line)              # call function\n",
        "  file.close()"
      ],
      "execution_count": 0,
      "outputs": []
    },
    {
      "cell_type": "code",
      "metadata": {
        "id": "7JpHpP5EvVil",
        "colab_type": "code",
        "outputId": "97fccfe4-51b5-4bbd-aa2c-e2536c23f80a",
        "colab": {
          "base_uri": "https://localhost:8080/",
          "height": 119
        }
      },
      "source": [
        "# usage\n",
        "def processLine(line):\n",
        "  print(line.upper())\n",
        "  \n",
        "scanner(\"data.txt\", processLine)    # start scanner"
      ],
      "execution_count": 0,
      "outputs": [
        {
          "output_type": "stream",
          "text": [
            "THIS \n",
            "\n",
            " IS \n",
            "\n",
            " SPARTA\n",
            "\n"
          ],
          "name": "stdout"
        }
      ]
    },
    {
      "cell_type": "markdown",
      "metadata": {
        "id": "FgUNQh7OvVim",
        "colab_type": "text"
      },
      "source": [
        "###Function gotchas"
      ]
    },
    {
      "cell_type": "code",
      "metadata": {
        "id": "KGJ4clJbvVin",
        "colab_type": "code",
        "outputId": "2b0108b9-a27c-4b02-ba27-2b8cc456cdea",
        "colab": {
          "base_uri": "https://localhost:8080/",
          "height": 51
        }
      },
      "source": [
        "X = 99\n",
        "\n",
        "def selector():\n",
        "  X = 88          # X classified as a local name\n",
        "  print(X)\n",
        "  \n",
        "selector()\n",
        "X"
      ],
      "execution_count": 0,
      "outputs": [
        {
          "output_type": "stream",
          "text": [
            "88\n"
          ],
          "name": "stdout"
        },
        {
          "output_type": "execute_result",
          "data": {
            "text/plain": [
              "99"
            ]
          },
          "metadata": {
            "tags": []
          },
          "execution_count": 12
        }
      ]
    },
    {
      "cell_type": "code",
      "metadata": {
        "id": "buUJ-NI4vVio",
        "colab_type": "code",
        "outputId": "df043fde-a666-4c28-e5dd-8ddd8d615a1d",
        "colab": {
          "base_uri": "https://localhost:8080/",
          "height": 51
        }
      },
      "source": [
        "X = 99\n",
        "\n",
        "def selector():\n",
        "  global X        # force X to be global\n",
        "  X = 88          # X classified as a global name\n",
        "  print(X)\n",
        "  \n",
        "selector()\n",
        "X"
      ],
      "execution_count": 0,
      "outputs": [
        {
          "output_type": "stream",
          "text": [
            "88\n"
          ],
          "name": "stdout"
        },
        {
          "output_type": "execute_result",
          "data": {
            "text/plain": [
              "88"
            ]
          },
          "metadata": {
            "tags": []
          },
          "execution_count": 13
        }
      ]
    },
    {
      "cell_type": "code",
      "metadata": {
        "id": "g4k6C37tvVir",
        "colab_type": "code",
        "outputId": "cf56e879-b084-4a63-ca81-0ada0ac435da",
        "colab": {
          "base_uri": "https://localhost:8080/",
          "height": 51
        }
      },
      "source": [
        "X = 99\n",
        "\n",
        "def selector():\n",
        "  print(X)        # X classified as a global name\n",
        "  \n",
        "selector()\n",
        "X"
      ],
      "execution_count": 0,
      "outputs": [
        {
          "output_type": "stream",
          "text": [
            "99\n"
          ],
          "name": "stdout"
        },
        {
          "output_type": "execute_result",
          "data": {
            "text/plain": [
              "99"
            ]
          },
          "metadata": {
            "tags": []
          },
          "execution_count": 14
        }
      ]
    },
    {
      "cell_type": "markdown",
      "metadata": {
        "id": "9-D2AYNtvVir",
        "colab_type": "text"
      },
      "source": [
        "**Mutable defaults created just once**"
      ]
    },
    {
      "cell_type": "code",
      "metadata": {
        "id": "tOgVmQPuvViv",
        "colab_type": "code",
        "outputId": "e8ea82c7-aef7-48ed-8c9d-99354c43ff64",
        "colab": {
          "base_uri": "https://localhost:8080/",
          "height": 34
        }
      },
      "source": [
        "def grow(A, B=[]):\n",
        "  B.append(A)\n",
        "  return B\n",
        "\n",
        "grow(1)"
      ],
      "execution_count": 0,
      "outputs": [
        {
          "output_type": "execute_result",
          "data": {
            "text/plain": [
              "[1]"
            ]
          },
          "metadata": {
            "tags": []
          },
          "execution_count": 15
        }
      ]
    },
    {
      "cell_type": "code",
      "metadata": {
        "id": "dXaELtJlvViv",
        "colab_type": "code",
        "outputId": "eb3a456a-87f4-43a8-d670-d81cae15f8cf",
        "colab": {
          "base_uri": "https://localhost:8080/",
          "height": 34
        }
      },
      "source": [
        "grow(1)"
      ],
      "execution_count": 0,
      "outputs": [
        {
          "output_type": "execute_result",
          "data": {
            "text/plain": [
              "[1, 1]"
            ]
          },
          "metadata": {
            "tags": []
          },
          "execution_count": 16
        }
      ]
    },
    {
      "cell_type": "code",
      "metadata": {
        "id": "3L_tHEMEvViw",
        "colab_type": "code",
        "outputId": "df4f8c30-fef0-455f-be29-c07655707438",
        "colab": {
          "base_uri": "https://localhost:8080/",
          "height": 34
        }
      },
      "source": [
        "grow(1)"
      ],
      "execution_count": 0,
      "outputs": [
        {
          "output_type": "execute_result",
          "data": {
            "text/plain": [
              "[1, 1, 1]"
            ]
          },
          "metadata": {
            "tags": []
          },
          "execution_count": 17
        }
      ]
    },
    {
      "cell_type": "markdown",
      "metadata": {
        "id": "hNq9umCyvVi1",
        "colab_type": "text"
      },
      "source": [
        "**Use defaults to save references**\n",
        "\n",
        "still required to retain current value of loop variables!"
      ]
    },
    {
      "cell_type": "code",
      "metadata": {
        "id": "A4sS7mNPvVi1",
        "colab_type": "code",
        "outputId": "a9420231-1cc3-4a54-d961-a116072d59f2",
        "colab": {
          "base_uri": "https://localhost:8080/",
          "height": 34
        }
      },
      "source": [
        "def outer(x, y):\n",
        "  def inner():\n",
        "    return x ** y\n",
        "  return inner\n",
        "\n",
        "x = outer(2, 4)\n",
        "x()"
      ],
      "execution_count": 0,
      "outputs": [
        {
          "output_type": "execute_result",
          "data": {
            "text/plain": [
              "16"
            ]
          },
          "metadata": {
            "tags": []
          },
          "execution_count": 23
        }
      ]
    },
    {
      "cell_type": "code",
      "metadata": {
        "id": "aX5RdirQvVi5",
        "colab_type": "code",
        "outputId": "9d9eaaaa-ddae-4f7d-a074-f34c6a3e868c",
        "colab": {
          "base_uri": "https://localhost:8080/",
          "height": 34
        }
      },
      "source": [
        "def outer(x, y):\n",
        "  return lambda a=x, b=y: a**b\n",
        "\n",
        "y = outer(2, 5)\n",
        "y()"
      ],
      "execution_count": 0,
      "outputs": [
        {
          "output_type": "execute_result",
          "data": {
            "text/plain": [
              "32"
            ]
          },
          "metadata": {
            "tags": []
          },
          "execution_count": 24
        }
      ]
    },
    {
      "cell_type": "markdown",
      "metadata": {
        "id": "07B-j7PVvVi6",
        "colab_type": "text"
      },
      "source": [
        "32\n",
        "for I in someiterable:"
      ]
    },
    {
      "cell_type": "code",
      "metadata": {
        "id": "I69oYILUvVi6",
        "colab_type": "code",
        "outputId": "10ee225b-42f0-4868-db96-bf089fe2fb61",
        "colab": {
          "base_uri": "https://localhost:8080/",
          "height": 34
        }
      },
      "source": [
        "actions = []\n",
        "for I in [0,1,2,3,4]:\n",
        "  actions.append(lambda I=I: print(I))  # retain current I, not last!\n",
        "  \n",
        "actions[2]()"
      ],
      "execution_count": 0,
      "outputs": [
        {
          "output_type": "stream",
          "text": [
            "2\n"
          ],
          "name": "stdout"
        }
      ]
    },
    {
      "cell_type": "markdown",
      "metadata": {
        "id": "lGllul5QvVi7",
        "colab_type": "text"
      },
      "source": [
        "###Optional reading: set functions"
      ]
    },
    {
      "cell_type": "markdown",
      "metadata": {
        "id": "mA091Q8sGXIi",
        "colab_type": "text"
      },
      "source": [
        "   * Functions process passed-in sequence objects\n",
        "   * Work on any type of sequence objects\n",
        "   * Supports mixed types: list and tuple, etc."
      ]
    },
    {
      "cell_type": "code",
      "metadata": {
        "id": "vqjXZseavVi7",
        "colab_type": "code",
        "outputId": "c09898ce-0ecd-4bfe-cefd-fe4f3ffe36a5",
        "colab": {
          "base_uri": "https://localhost:8080/",
          "height": 34
        }
      },
      "source": [
        "def intersect(seq1, seq2):\n",
        "  res = []                     # start with an empty list\n",
        "  for x in seq1:               # scan the first sequence\n",
        "    if x in seq2:\n",
        "      res.append(x)        # add common items to end\n",
        "  return res\n",
        "\n",
        "def union(seq1, seq2):\n",
        "  res = list(seq1)        # copy of seq1\n",
        "  for x in seq2:          # add new items in seq2\n",
        "    if not x in res:\n",
        "      res.append(x)\n",
        "  return res\n",
        "\n",
        "s1 = \"SPAM\"\n",
        "s2 = \"SCAM\"\n",
        "intersect(s1, s2), union(s1, s2)           # strings"
      ],
      "execution_count": 0,
      "outputs": [
        {
          "output_type": "execute_result",
          "data": {
            "text/plain": [
              "(['S', 'A', 'M'], ['S', 'P', 'A', 'M', 'C'])"
            ]
          },
          "metadata": {
            "tags": []
          },
          "execution_count": 37
        }
      ]
    },
    {
      "cell_type": "code",
      "metadata": {
        "id": "yFDJkfNVvVi_",
        "colab_type": "code",
        "outputId": "59941e67-2ba5-4ddf-c42e-fe8976e0cba5",
        "colab": {
          "base_uri": "https://localhost:8080/",
          "height": 34
        }
      },
      "source": [
        "intersect([1,2,3], (1,4))                  # mixed types"
      ],
      "execution_count": 0,
      "outputs": [
        {
          "output_type": "execute_result",
          "data": {
            "text/plain": [
              "[1]"
            ]
          },
          "metadata": {
            "tags": []
          },
          "execution_count": 38
        }
      ]
    },
    {
      "cell_type": "code",
      "metadata": {
        "id": "yNdK4x2_vVjA",
        "colab_type": "code",
        "outputId": "f84ec2b9-e7f7-4d9f-99c4-70d52591da33",
        "colab": {
          "base_uri": "https://localhost:8080/",
          "height": 34
        }
      },
      "source": [
        "union([1,2,3], (1,4))"
      ],
      "execution_count": 0,
      "outputs": [
        {
          "output_type": "execute_result",
          "data": {
            "text/plain": [
              "[1, 2, 3, 4]"
            ]
          },
          "metadata": {
            "tags": []
          },
          "execution_count": 39
        }
      ]
    },
    {
      "cell_type": "markdown",
      "metadata": {
        "id": "mb9y5YbyvVjA",
        "colab_type": "text"
      },
      "source": [
        "###Supporting multiple operands: *varargs"
      ]
    },
    {
      "cell_type": "code",
      "metadata": {
        "id": "hqBllHDmvVjA",
        "colab_type": "code",
        "outputId": "40bc3570-f459-4f13-a45c-fcec8fdd65ca",
        "colab": {
          "base_uri": "https://localhost:8080/",
          "height": 34
        }
      },
      "source": [
        "def intersect(*args):\n",
        "  res = []\n",
        "  for x in args[0]:                  # scan first sequence\n",
        "    for other in args[1:]:         # for all other args\n",
        "      if x not in other: break   # this in each one?\n",
        "      else:\n",
        "        res.append(x)              # add items to end\n",
        "  return res\n",
        "\n",
        "def union(*args):\n",
        "  res = []\n",
        "  for seq in args:                   # for all args\n",
        "    for x in seq:                  # for all nodes\n",
        "      if not x in res:\n",
        "        res.append(x)          # add items to result\n",
        "  return res\n",
        "  \n",
        "s1, s2, s3 = \"SPAM\", \"SCAM\", \"SLAM\"\n",
        "intersect(s1, s2), union(s1, s2)           # 2 operands"
      ],
      "execution_count": 0,
      "outputs": [
        {
          "output_type": "execute_result",
          "data": {
            "text/plain": [
              "(['S', 'A', 'M'], ['S', 'P', 'A', 'M', 'C'])"
            ]
          },
          "metadata": {
            "tags": []
          },
          "execution_count": 40
        }
      ]
    },
    {
      "cell_type": "code",
      "metadata": {
        "id": "90trlenGvVjF",
        "colab_type": "code",
        "outputId": "34b2cb10-056d-4bfc-a390-faa4dc6a1f7c",
        "colab": {
          "base_uri": "https://localhost:8080/",
          "height": 34
        }
      },
      "source": [
        "intersect([1,2,3], (1,4))"
      ],
      "execution_count": 0,
      "outputs": [
        {
          "output_type": "execute_result",
          "data": {
            "text/plain": [
              "[1]"
            ]
          },
          "metadata": {
            "tags": []
          },
          "execution_count": 41
        }
      ]
    },
    {
      "cell_type": "code",
      "metadata": {
        "id": "7bxeXcdlvVjG",
        "colab_type": "code",
        "outputId": "a255dbb3-11b4-4376-ef0b-eeb32909a756",
        "colab": {
          "base_uri": "https://localhost:8080/",
          "height": 34
        }
      },
      "source": [
        "intersect(s1, s2, s3)                      # 3 operands"
      ],
      "execution_count": 0,
      "outputs": [
        {
          "output_type": "execute_result",
          "data": {
            "text/plain": [
              "['S', 'S', 'A', 'A', 'M', 'M']"
            ]
          },
          "metadata": {
            "tags": []
          },
          "execution_count": 42
        }
      ]
    },
    {
      "cell_type": "code",
      "metadata": {
        "id": "nM_xfDW6vVjH",
        "colab_type": "code",
        "outputId": "8d9e43e6-41d0-445b-de70-3559027a5412",
        "colab": {
          "base_uri": "https://localhost:8080/",
          "height": 34
        }
      },
      "source": [
        "union(s1, s2, s3)"
      ],
      "execution_count": 0,
      "outputs": [
        {
          "output_type": "execute_result",
          "data": {
            "text/plain": [
              "['S', 'P', 'A', 'M', 'C', 'L']"
            ]
          },
          "metadata": {
            "tags": []
          },
          "execution_count": 43
        }
      ]
    },
    {
      "cell_type": "markdown",
      "metadata": {
        "id": "-SpTbdy16SJK",
        "colab_type": "text"
      },
      "source": [
        "##Modules"
      ]
    },
    {
      "cell_type": "markdown",
      "metadata": {
        "id": "9lV1cXki6eNN",
        "colab_type": "text"
      },
      "source": [
        "##Classes\n"
      ]
    },
    {
      "cell_type": "markdown",
      "metadata": {
        "id": "mu5HZMsR6kfh",
        "colab_type": "text"
      },
      "source": [
        "**Why use classes?**\n",
        " \n",
        "*     Implementing new objects\n",
        "*      Multiple instances\n",
        "*      Customization via inheritance\n",
        "*      Operator overloading\n"
      ]
    },
    {
      "cell_type": "markdown",
      "metadata": {
        "id": "Zqfz0GiS6t9Y",
        "colab_type": "text"
      },
      "source": [
        "**Class topics**\n",
        "\n",
        "*     Class basics\n",
        "*     The class statement\n",
        "*     Class methods\n",
        "*     Attribute inheritance\n",
        "*     Operator overloading\n",
        "*     Name spaces and scopes\n",
        "*     OOP, inheritance, and composition\n",
        "*     Classes and methods are objects\n",
        "*     Odds and ends\n",
        "*     Class gotchas"
      ]
    },
    {
      "cell_type": "markdown",
      "metadata": {
        "id": "qKbfBfW66z3w",
        "colab_type": "text"
      },
      "source": [
        "###OOP: The Big Picture\n"
      ]
    },
    {
      "cell_type": "markdown",
      "metadata": {
        "id": "fRLiT9Ap66sg",
        "colab_type": "text"
      },
      "source": [
        "**How it works**\n",
        "\n",
        "*      All about: object.attr\n",
        "*      Kicks off a search for first attr → inheritance\n",
        "*      Searches trees of linked namespace objects\n",
        "*      Search is DFLR (except in diamonds), per order in class headers\n",
        "*      Class objects: supers and subs\n",
        "*      Instance objects: generated from a class\n",
        "*      Classes can also define expression behavior"
      ]
    },
    {
      "cell_type": "markdown",
      "metadata": {
        "id": "yL9RhA-M7jaA",
        "colab_type": "text"
      },
      "source": [
        "![classes](https://learning-python.com/class/Workbook/unit07_files/image002.gif)\n",
        "\n",
        "```python\n",
        "class C1: # make class objects (ovals)\n",
        "class C2:\n",
        "class C3(C1, C2): # links to superclasses, search order\n",
        " \n",
        "\n",
        "I1 = C3() # make instance objects (rectangles)\n",
        "I2 = C3() # linked to their class\n",
        "I1.x # finds customized version in C3\n",
        "```"
      ]
    },
    {
      "cell_type": "markdown",
      "metadata": {
        "id": "r8U6luQg6eNS",
        "colab_type": "text"
      },
      "source": [
        "**Why OOP?**\n",
        "\n",
        "*      OOP great at code reuse, structure, and encapsulation\n",
        "*      Program by customizing in new levels of hierarchy, not changing\n",
        "*      Extra structure of classes virtually required once programs hit 1K lines (see frigcal)\n",
        "*      Inheritance: basis of specializing, customizing softwarelower in tree means customization\n",
        "*      Example: an employee database app company, departments, employees\n",
        "*      Much more complete than functional paradigm (though the two can often work together)\n"
      ]
    },
    {
      "cell_type": "markdown",
      "metadata": {
        "id": "y-eEQkE075H4",
        "colab_type": "text"
      },
      "source": [
        "###A first look: class basics\n"
      ]
    },
    {
      "cell_type": "markdown",
      "metadata": {
        "id": "KHVTyisW78Wg",
        "colab_type": "text"
      },
      "source": [
        "*   Multiple Instances\n",
        "*   Specialization by inheritance\n",
        "*   Implementing operators"
      ]
    },
    {
      "cell_type": "markdown",
      "metadata": {
        "id": "wocseSQJ8DAo",
        "colab_type": "text"
      },
      "source": [
        "**1. Classes generate multiple instance objects**\n",
        "\n",
        "*      Classes implement new objects: state + behavior\n",
        "*      Calling a class like a function makes a new instance\n",
        "*      Each instance inherits class attributes, and gets its own\n",
        "*      Assignments in class statements make class attributes\n",
        "*      Assignments to self.attr make per-instance attributes"
      ]
    },
    {
      "cell_type": "code",
      "metadata": {
        "id": "Jgub2Nyy9cu1",
        "colab_type": "code",
        "outputId": "7a588234-f206-4a4b-c0b6-e48a2c358889",
        "colab": {
          "base_uri": "https://localhost:8080/",
          "height": 51
        }
      },
      "source": [
        "class FirstClass: # define a class object\n",
        "  def setdata(self, value): # define class methods\n",
        "    self.data = value # self is the instance\n",
        " \n",
        "  def display(self):\n",
        "    print(self.data) # self.data: per instance\n",
        "\n",
        "    \n",
        "x = FirstClass() # make two instances\n",
        "y = FirstClass() # each is a new namespace\n",
        " \n",
        "x.setdata(\"King Arthur\") # call methods: self=x/y\n",
        "y.setdata(3.14159)\n",
        " \n",
        "\n",
        "x.display() # self.data differs in each\n",
        "y.display()"
      ],
      "execution_count": 0,
      "outputs": [
        {
          "output_type": "stream",
          "text": [
            "King Arthur\n",
            "3.14159\n"
          ],
          "name": "stdout"
        }
      ]
    },
    {
      "cell_type": "code",
      "metadata": {
        "id": "hh_owqZ-9mq4",
        "colab_type": "code",
        "outputId": "837f7fd2-3088-4de7-d9e1-fa574b1da951",
        "colab": {
          "base_uri": "https://localhost:8080/",
          "height": 34
        }
      },
      "source": [
        "x.data = \"New value\" # can get/set attributes\n",
        "x.display() # outside the class too"
      ],
      "execution_count": 0,
      "outputs": [
        {
          "output_type": "stream",
          "text": [
            "New value\n"
          ],
          "name": "stdout"
        }
      ]
    },
    {
      "cell_type": "markdown",
      "metadata": {
        "id": "LZSTl1Up9vVg",
        "colab_type": "text"
      },
      "source": [
        "![2classes](https://learning-python.com/class/Workbook/unit07_files/image004.gif)"
      ]
    },
    {
      "cell_type": "markdown",
      "metadata": {
        "id": "CbKEzMOu92vB",
        "colab_type": "text"
      },
      "source": [
        "**The worlds simplest Python class?**"
      ]
    },
    {
      "cell_type": "code",
      "metadata": {
        "id": "p-SfwMdHPh68",
        "colab_type": "code",
        "colab": {}
      },
      "source": [
        "# an empty class, class and instance attrs filled in later\n",
        "class rec: pass # empty namespace object"
      ],
      "execution_count": 0,
      "outputs": []
    },
    {
      "cell_type": "code",
      "metadata": {
        "id": "kJ6-2ZBbPoel",
        "colab_type": "code",
        "outputId": "14c3d6b7-2288-431c-e86b-3bf53d357ef3",
        "colab": {
          "base_uri": "https://localhost:8080/",
          "height": 34
        }
      },
      "source": [
        "rec.name = 'Bob' # just objects with attributes\n",
        "rec.age = 40\n",
        "\n",
        "print(rec.name) # like a struct in C, a record"
      ],
      "execution_count": 0,
      "outputs": [
        {
          "output_type": "stream",
          "text": [
            "Bob\n"
          ],
          "name": "stdout"
        }
      ]
    },
    {
      "cell_type": "code",
      "metadata": {
        "id": "i-FPS7pnPxUr",
        "colab_type": "code",
        "outputId": "686f28ae-8cdb-47d8-caa7-063275cf91c6",
        "colab": {
          "base_uri": "https://localhost:8080/",
          "height": 34
        }
      },
      "source": [
        "x = rec() # instances inherit class names\n",
        "y = rec()\n",
        "x.name, y.name"
      ],
      "execution_count": 0,
      "outputs": [
        {
          "output_type": "execute_result",
          "data": {
            "text/plain": [
              "('Bob', 'Bob')"
            ]
          },
          "metadata": {
            "tags": []
          },
          "execution_count": 3
        }
      ]
    },
    {
      "cell_type": "code",
      "metadata": {
        "id": "pvB4mbYRP1q-",
        "colab_type": "code",
        "outputId": "75330c77-5755-4bea-95bd-d5085b24e852",
        "colab": {
          "base_uri": "https://localhost:8080/",
          "height": 34
        }
      },
      "source": [
        "x.name = 'Sue' # but assignment changes x only\n",
        "rec.name, x.name, y.name"
      ],
      "execution_count": 0,
      "outputs": [
        {
          "output_type": "execute_result",
          "data": {
            "text/plain": [
              "('Bob', 'Sue', 'Bob')"
            ]
          },
          "metadata": {
            "tags": []
          },
          "execution_count": 4
        }
      ]
    },
    {
      "cell_type": "code",
      "metadata": {
        "id": "V6ME1Kq6QA4K",
        "colab_type": "code",
        "outputId": "8f8bcc6e-0125-4e13-a734-3902876cbd98",
        "colab": {
          "base_uri": "https://localhost:8080/",
          "height": 34
        }
      },
      "source": [
        "# really just linked dictionaries\n",
        "rec.__dict__.keys()"
      ],
      "execution_count": 0,
      "outputs": [
        {
          "output_type": "execute_result",
          "data": {
            "text/plain": [
              "dict_keys(['__module__', '__dict__', '__weakref__', '__doc__', 'name', 'age'])"
            ]
          },
          "metadata": {
            "tags": []
          },
          "execution_count": 5
        }
      ]
    },
    {
      "cell_type": "code",
      "metadata": {
        "id": "fEgIN66qQFGM",
        "colab_type": "code",
        "outputId": "0ac528cb-e5b5-4bac-d3b6-64d9b19433e2",
        "colab": {
          "base_uri": "https://localhost:8080/",
          "height": 34
        }
      },
      "source": [
        "x.__dict__.keys()"
      ],
      "execution_count": 0,
      "outputs": [
        {
          "output_type": "execute_result",
          "data": {
            "text/plain": [
              "dict_keys(['name'])"
            ]
          },
          "metadata": {
            "tags": []
          },
          "execution_count": 6
        }
      ]
    },
    {
      "cell_type": "code",
      "metadata": {
        "id": "DfziOU2uQIOF",
        "colab_type": "code",
        "outputId": "da681091-8bf1-49b7-c0a2-00f60b8a6889",
        "colab": {
          "base_uri": "https://localhost:8080/",
          "height": 34
        }
      },
      "source": [
        "y.__dict__.keys()"
      ],
      "execution_count": 0,
      "outputs": [
        {
          "output_type": "execute_result",
          "data": {
            "text/plain": [
              "dict_keys([])"
            ]
          },
          "metadata": {
            "tags": []
          },
          "execution_count": 7
        }
      ]
    },
    {
      "cell_type": "code",
      "metadata": {
        "id": "i9vs9WQ4QLb6",
        "colab_type": "code",
        "outputId": "aadb7f1f-31b4-43ea-97a6-273608089143",
        "colab": {
          "base_uri": "https://localhost:8080/",
          "height": 34
        }
      },
      "source": [
        "x.__class__"
      ],
      "execution_count": 0,
      "outputs": [
        {
          "output_type": "execute_result",
          "data": {
            "text/plain": [
              "__main__.rec"
            ]
          },
          "metadata": {
            "tags": []
          },
          "execution_count": 8
        }
      ]
    },
    {
      "cell_type": "code",
      "metadata": {
        "id": "MXbE-MGuQZi_",
        "colab_type": "code",
        "outputId": "9d4dfa54-9008-45da-f6ed-63cda7516055",
        "colab": {
          "base_uri": "https://localhost:8080/",
          "height": 34
        }
      },
      "source": [
        "# even methods can be created on the fly (but not typical)\n",
        " \n",
        "def upperName(self):\n",
        "  return self.name.upper() # still needs a self\n",
        "\n",
        "rec.method = upperName\n",
        "x.method()"
      ],
      "execution_count": 0,
      "outputs": [
        {
          "output_type": "execute_result",
          "data": {
            "text/plain": [
              "'SUE'"
            ]
          },
          "metadata": {
            "tags": []
          },
          "execution_count": 9
        }
      ]
    },
    {
      "cell_type": "code",
      "metadata": {
        "id": "Xkj9-FF4QcEL",
        "colab_type": "code",
        "outputId": "1c8f67eb-7f87-4ed2-dc35-df447995bc6e",
        "colab": {
          "base_uri": "https://localhost:8080/",
          "height": 34
        }
      },
      "source": [
        "y.method() # run method to process y"
      ],
      "execution_count": 0,
      "outputs": [
        {
          "output_type": "execute_result",
          "data": {
            "text/plain": [
              "'BOB'"
            ]
          },
          "metadata": {
            "tags": []
          },
          "execution_count": 10
        }
      ]
    },
    {
      "cell_type": "code",
      "metadata": {
        "id": "8QtbG84wQdiY",
        "colab_type": "code",
        "outputId": "54e42b25-95aa-4a54-b7b6-7bea3cb27511",
        "colab": {
          "base_uri": "https://localhost:8080/",
          "height": 34
        }
      },
      "source": [
        "rec.method(x) # can call through instance or class"
      ],
      "execution_count": 0,
      "outputs": [
        {
          "output_type": "execute_result",
          "data": {
            "text/plain": [
              "'SUE'"
            ]
          },
          "metadata": {
            "tags": []
          },
          "execution_count": 11
        }
      ]
    },
    {
      "cell_type": "markdown",
      "metadata": {
        "id": "XLLZn7dRQhT0",
        "colab_type": "text"
      },
      "source": [
        "**2. Classes are specialized by inheritance**\n",
        "\n",
        "*      Superclasses listed in parenthesis in class's header\n",
        "*      Classes inherit attributes from their superclasses\n",
        "*      Instances inherit attributes from all accessible classes\n",
        "*      Logic changes made in subclasses, not in-place"
      ]
    },
    {
      "cell_type": "code",
      "metadata": {
        "id": "LIBC00nrXEuY",
        "colab_type": "code",
        "outputId": "6a0d8edd-db75-4263-c4a0-d5ffde9efe0e",
        "colab": {
          "base_uri": "https://localhost:8080/",
          "height": 34
        }
      },
      "source": [
        "class SecondClass(FirstClass): # inherits setdata\n",
        "  def display(self): # changes display\n",
        "    print('Current value = \"%s\"' % self.data)\n",
        "\n",
        "z = SecondClass()\n",
        "z.setdata(42) # setdata found in FirstClass\n",
        "z.display() # finds/calls overridden method"
      ],
      "execution_count": 0,
      "outputs": [
        {
          "output_type": "stream",
          "text": [
            "Current value = \"42\"\n"
          ],
          "name": "stdout"
        }
      ]
    },
    {
      "cell_type": "code",
      "metadata": {
        "id": "yQsQJ_T16eNS",
        "colab_type": "code",
        "outputId": "d045c1db-2d01-4592-b813-9d71db4d01ea",
        "colab": {
          "base_uri": "https://localhost:8080/",
          "height": 34
        }
      },
      "source": [
        "x.display() # x is a FirstClass instance"
      ],
      "execution_count": 0,
      "outputs": [
        {
          "output_type": "stream",
          "text": [
            "King Arthur\n"
          ],
          "name": "stdout"
        }
      ]
    },
    {
      "cell_type": "markdown",
      "metadata": {
        "id": "mofMReahaG8J",
        "colab_type": "text"
      },
      "source": [
        "![second class](https://learning-python.com/class/Workbook/unit07_files/image006.gif)"
      ]
    },
    {
      "cell_type": "markdown",
      "metadata": {
        "id": "7nZBKGAk6eNV",
        "colab_type": "text"
      },
      "source": [
        "**3. Classes can intercept Python operators**\n",
        "\n",
        "*      Methods with names like \"__X__\" are special hooks\n",
        "*      Called automatically when Python evaluates operators\n",
        "*      Classes may override most built-in type operations\n",
        "*      Allows classes to integrate with Python's object model"
      ]
    },
    {
      "cell_type": "code",
      "metadata": {
        "id": "UePR48wJXoqo",
        "colab_type": "code",
        "outputId": "5cd3ba69-93ac-4b78-d10e-68afc87fc260",
        "colab": {
          "base_uri": "https://localhost:8080/",
          "height": 34
        }
      },
      "source": [
        "class ThirdClass(SecondClass): # isa SecondClass\n",
        "  def __init__(self, value): # \"ThirdClass(x)\"\n",
        "    self.data = value\n",
        "\n",
        "  def __add__(self, other): # \"self + other\"\n",
        "    return ThirdClass(self.data + other)\n",
        "\n",
        "  def __mul__(self, other):\n",
        "    self.data = self.data * other # \"self * other\"\n",
        "\n",
        "a = ThirdClass(\"abc\") # new __init__ called\n",
        "a.display() # inherited method"
      ],
      "execution_count": 0,
      "outputs": [
        {
          "output_type": "stream",
          "text": [
            "Current value = \"abc\"\n"
          ],
          "name": "stdout"
        }
      ]
    },
    {
      "cell_type": "code",
      "metadata": {
        "id": "Eb8OdSNFXxpV",
        "colab_type": "code",
        "outputId": "30e53b02-2f27-4f15-f2fb-bf7c3067a3bd",
        "colab": {
          "base_uri": "https://localhost:8080/",
          "height": 34
        }
      },
      "source": [
        "b = a.__add__(\"de\") # new __add__ called\n",
        "b.display()"
      ],
      "execution_count": 0,
      "outputs": [
        {
          "output_type": "stream",
          "text": [
            "Current value = \"abcde\"\n"
          ],
          "name": "stdout"
        }
      ]
    },
    {
      "cell_type": "code",
      "metadata": {
        "id": "FD7kOIgT6eNW",
        "colab_type": "code",
        "outputId": "33170a29-d62b-41c8-bbde-10cf545d118b",
        "colab": {
          "base_uri": "https://localhost:8080/",
          "height": 34
        }
      },
      "source": [
        "a * 3 # new __mul__ called\n",
        "a.display()"
      ],
      "execution_count": 0,
      "outputs": [
        {
          "output_type": "stream",
          "text": [
            "Current value = \"abcabcabc\"\n"
          ],
          "name": "stdout"
        }
      ]
    },
    {
      "cell_type": "markdown",
      "metadata": {
        "id": "6EaAq34Jc-o7",
        "colab_type": "text"
      },
      "source": [
        "![overload](https://learning-python.com/class/Workbook/unit07_files/image008.gif)"
      ]
    },
    {
      "cell_type": "markdown",
      "metadata": {
        "id": "mg6R0EuDYvaO",
        "colab_type": "text"
      },
      "source": [
        "###A closer look: class terminology"
      ]
    },
    {
      "cell_type": "markdown",
      "metadata": {
        "id": "WbFVjE2ydM54",
        "colab_type": "text"
      },
      "source": [
        "  - Dynamic typing and polymorphism are keys to Python\n",
        "  - self and __init__ are key concepts in Python OOP"
      ]
    },
    {
      "cell_type": "markdown",
      "metadata": {
        "id": "_kCEMLLR6eNY",
        "colab_type": "text"
      },
      "source": [
        "*     Class\n",
        "  *      An object (and statement) which defines inherited members and methods\n",
        "*     Instance\n",
        "  *      Objects created from a class, which inherit its attributes; each instance is a new namespace\n",
        "*     Member\n",
        "  *      An attribute of a class or instance object, thats bound to an object\n",
        "*     Method\n",
        "  *      An attribute of a class object, thats bound to a function object (a callable member)\n",
        "*     Self\n",
        "  *      By convention, the name given to the implied instance object in methods\n",
        "*     Inheritance\n",
        "  *      When an instance or class accesses a classs attributes\n",
        "*     Superclass\n",
        "  *      Class or classes another class inherits attributes from\n",
        "*     Subclass\n",
        "  *      Class which inherits attribute names from another class"
      ]
    },
    {
      "cell_type": "markdown",
      "metadata": {
        "id": "9T8hMs0XdhJW",
        "colab_type": "text"
      },
      "source": [
        "###Using the class statement"
      ]
    },
    {
      "cell_type": "markdown",
      "metadata": {
        "id": "Ag_DWqIrdjo4",
        "colab_type": "text"
      },
      "source": [
        "*     Pythons main OOP tool (like C++)\n",
        "*     Superclasses are listed in parenthesis\n",
        "*     Special protocols, operator overloading: __X__\n",
        "*     Multiple inheritance: class X(A, B, C)\n",
        "*     Search = DFLR, except for new-style BF in diamonds"
      ]
    },
    {
      "cell_type": "markdown",
      "metadata": {
        "id": "fdxT8rQydttw",
        "colab_type": "text"
      },
      "source": [
        "**General form**\n",
        "\n",
        "```python\n",
        "class <name>(superclass,): # assign to name\n",
        "  data = value # shared class data\n",
        "  \n",
        "  def method(self,): # methods\n",
        "    self.member = value # per-instance data\n",
        "```"
      ]
    },
    {
      "cell_type": "markdown",
      "metadata": {
        "id": "nUYgrLAa6eNc",
        "colab_type": "text"
      },
      "source": [
        "**Example**\n",
        "\n",
        "*      class introduces a new local scope\n",
        "*      Assignments in class create class object attributes\n",
        "*      self.name = X creates/changes instance attribute"
      ]
    },
    {
      "cell_type": "code",
      "metadata": {
        "id": "REqvul0m6eNd",
        "colab_type": "code",
        "outputId": "49d4ff69-caf6-41c8-bb11-ddd819f0563c",
        "colab": {
          "base_uri": "https://localhost:8080/",
          "height": 51
        }
      },
      "source": [
        "class Subclass(ThirdClass): # define subclass\n",
        "  data = 'spam' # assign class attr\n",
        "\n",
        "  def __init__(self, value): # assign class attr\n",
        "    self.data = value # assign instance attr\n",
        "\n",
        "  def display(self):\n",
        "    print(self.data, Subclass.data) # instance, class\n",
        "\n",
        "    \n",
        "x, y = Subclass(1), Subclass(2)\n",
        "x.display(); y.display()"
      ],
      "execution_count": 0,
      "outputs": [
        {
          "output_type": "stream",
          "text": [
            "1 spam\n",
            "2 spam\n"
          ],
          "name": "stdout"
        }
      ]
    },
    {
      "cell_type": "markdown",
      "metadata": {
        "id": "YIKYt-UsItz_",
        "colab_type": "text"
      },
      "source": [
        "###Using class methods"
      ]
    },
    {
      "cell_type": "markdown",
      "metadata": {
        "id": "wwbeMbun6eNf",
        "colab_type": "text"
      },
      "source": [
        "*     class statement creates and assigns a class object\n",
        "*     Calling a class object generates an instance object\n",
        "*     Class methods provide behavior for instance objects\n",
        "*     Methods are nested def functions, with a self\n",
        "*     self is passed the implied instance object\n",
        "*     Methods are all public and virtual in C++ terms"
      ]
    },
    {
      "cell_type": "markdown",
      "metadata": {
        "id": "_dLkz2v5jMD0",
        "colab_type": "text"
      },
      "source": [
        "![subclass](https://learning-python.com/class/Workbook/unit07_files/image010.gif)"
      ]
    },
    {
      "cell_type": "markdown",
      "metadata": {
        "id": "P3vrEeVXjT5B",
        "colab_type": "text"
      },
      "source": [
        "**Example**"
      ]
    },
    {
      "cell_type": "code",
      "metadata": {
        "id": "DwvCKram6eNg",
        "colab_type": "code",
        "outputId": "4af1edfe-1251-44d1-f0a3-dea0496179fc",
        "colab": {
          "base_uri": "https://localhost:8080/",
          "height": 34
        }
      },
      "source": [
        "class NextClass: # define class\n",
        "  def printer(self, text): # define method\n",
        "    print(text)\n",
        "\n",
        "x = NextClass() # make instance\n",
        "x.printer('Hello world!') # call its method"
      ],
      "execution_count": 0,
      "outputs": [
        {
          "output_type": "stream",
          "text": [
            "Hello world!\n"
          ],
          "name": "stdout"
        }
      ]
    },
    {
      "cell_type": "code",
      "metadata": {
        "id": "93Wrpqg-jly0",
        "colab_type": "code",
        "outputId": "673532db-d8cc-4553-b108-12051215b509",
        "colab": {
          "base_uri": "https://localhost:8080/",
          "height": 34
        }
      },
      "source": [
        "NextClass.printer(x, 'Hello!') # class method"
      ],
      "execution_count": 0,
      "outputs": [
        {
          "output_type": "stream",
          "text": [
            "Hello!\n"
          ],
          "name": "stdout"
        }
      ]
    },
    {
      "cell_type": "markdown",
      "metadata": {
        "id": "NvOg9axJ6eNi",
        "colab_type": "text"
      },
      "source": [
        "**Commonly used for calling superclass constructors**\n",
        "\n",
        "```python\n",
        "class Super:\n",
        "  def __init__(self, x):\n",
        "    default code\n",
        "\n",
        "class Sub(Super):\n",
        "  def __init__(self, x, y):\n",
        "    Super.__init__(self, x) # run superclass init\n",
        "    custom code # do my init actions\n",
        "\n",
        "I = Sub(1, 2)\n",
        "\n",
        "# See also: super() built-in for generic superclass access\n",
        "# But this call has major issues in multiple-inheritance trees\n",
        "```"
      ]
    },
    {
      "cell_type": "markdown",
      "metadata": {
        "id": "CJ5rLovP6eNl",
        "colab_type": "text"
      },
      "source": [
        "###Customization via inheritance"
      ]
    },
    {
      "cell_type": "markdown",
      "metadata": {
        "id": "2VN84ytLkUrR",
        "colab_type": "text"
      },
      "source": [
        "*     Inheritance uses attribute definition tree (namespaces)\n",
        "*     object.attr searches up namespace tree for first attr\n",
        "*     Lower definitions in the tree override higher ones"
      ]
    },
    {
      "cell_type": "markdown",
      "metadata": {
        "id": "ZEDZzlNUkcAe",
        "colab_type": "text"
      },
      "source": [
        "**Attribute tree construction:**\n",
        " \n",
        "1.    Instance → assignments to self attributes\n",
        "2.    Class → statements (assignments) in class statements\n",
        "3.    Superclasses → classes listed in parenthesis in header"
      ]
    },
    {
      "cell_type": "markdown",
      "metadata": {
        "id": "51-Tx1z2klr_",
        "colab_type": "text"
      },
      "source": [
        "![iheritance](https://learning-python.com/class/Workbook/unit07_files/image012.gif)"
      ]
    },
    {
      "cell_type": "markdown",
      "metadata": {
        "id": "553L1RLTkkuI",
        "colab_type": "text"
      },
      "source": [
        "###Specializing inherited methods"
      ]
    },
    {
      "cell_type": "markdown",
      "metadata": {
        "id": "GlJQ3gNbkwEA",
        "colab_type": "text"
      },
      "source": [
        "*     Inheritance finds names in subclass before superclass\n",
        "*     Subclasses may inherit, replace, extend, or provide\n",
        "*     Direct superclass method calls: Class.method(self,)"
      ]
    },
    {
      "cell_type": "code",
      "metadata": {
        "id": "3B81a5qd6eNm",
        "colab_type": "code",
        "outputId": "3c9533ff-de7d-49c4-b404-5b93eab83de2",
        "colab": {
          "base_uri": "https://localhost:8080/",
          "height": 34
        }
      },
      "source": [
        "class Super:\n",
        "  def method(self):\n",
        "    print('in Super.method')\n",
        "\n",
        "\n",
        "class Sub(Super):\n",
        "  def method(self):\n",
        "    print('starting Sub.method')\n",
        "    Super.method(self)\n",
        "    print('ending Sub.method')\n",
        "\n",
        "\n",
        "x = Super()\n",
        "x.method()"
      ],
      "execution_count": 0,
      "outputs": [
        {
          "output_type": "stream",
          "text": [
            "in Super.method\n"
          ],
          "name": "stdout"
        }
      ]
    },
    {
      "cell_type": "code",
      "metadata": {
        "id": "XPT7qZdalYc-",
        "colab_type": "code",
        "outputId": "c3af2384-a244-4fbe-ddae-4eb6b39e6647",
        "colab": {
          "base_uri": "https://localhost:8080/",
          "height": 68
        }
      },
      "source": [
        "x = Sub()\n",
        "x.method()"
      ],
      "execution_count": 0,
      "outputs": [
        {
          "output_type": "stream",
          "text": [
            "starting Sub.method\n",
            "in Super.method\n",
            "ending Sub.method\n"
          ],
          "name": "stdout"
        }
      ]
    },
    {
      "cell_type": "markdown",
      "metadata": {
        "id": "1JH2AbGm6eNq",
        "colab_type": "text"
      },
      "source": [
        "![inh](https://learning-python.com/class/Workbook/unit07_files/image014.gif)"
      ]
    },
    {
      "cell_type": "code",
      "metadata": {
        "id": "NJDAS1aH6eNr",
        "colab_type": "code",
        "outputId": "dbda630a-316d-430f-8221-0f480cccb064",
        "colab": {
          "base_uri": "https://localhost:8080/",
          "height": 357
        }
      },
      "source": [
        "class Super:\n",
        "  def method(self):\n",
        "    print('in Super.method') # default\n",
        "    \n",
        "  def delegate(self):\n",
        "    self.action() # expected\n",
        "\n",
        "\n",
        "class Inheritor(Super):\n",
        "  pass\n",
        "\n",
        "\n",
        "class Replacer(Super):\n",
        "  def method(self):\n",
        "    print('in Replacer.method')\n",
        "\n",
        "\n",
        "class Extender(Super):\n",
        "  def method(self):\n",
        "    print('starting Extender.method')\n",
        "    Super.method(self)\n",
        "    print('ending Extender.method')\n",
        "\n",
        "\n",
        "class Provider(Super):\n",
        "  def action(self):\n",
        "    print('in Provider.action')\n",
        "\n",
        "\n",
        "for klass in (Inheritor, Replacer, Extender):\n",
        "  print('\\n' + klass.__name__ + '')\n",
        "  klass().method()\n",
        "  print('\\nProvider')\n",
        "  Provider().delegate()"
      ],
      "execution_count": 0,
      "outputs": [
        {
          "output_type": "stream",
          "text": [
            "\n",
            "Inheritor\n",
            "in Super.method\n",
            "\n",
            "Provider\n",
            "in Provider.action\n",
            "\n",
            "Replacer\n",
            "in Replacer.method\n",
            "\n",
            "Provider\n",
            "in Provider.action\n",
            "\n",
            "Extender\n",
            "starting Extender.method\n",
            "in Super.method\n",
            "ending Extender.method\n",
            "\n",
            "Provider\n",
            "in Provider.action\n"
          ],
          "name": "stdout"
        }
      ]
    },
    {
      "cell_type": "markdown",
      "metadata": {
        "id": "sYrwnSNq6eNy",
        "colab_type": "text"
      },
      "source": [
        "###Operator overloading in classes"
      ]
    },
    {
      "cell_type": "markdown",
      "metadata": {
        "id": "9_HyRtkemt86",
        "colab_type": "text"
      },
      "source": [
        "*     Lets classes intercept normal Python operations\n",
        "*     Can overload all Python expression operators\n",
        "*     Can overload object operations: print, call, qualify,\n",
        "*     Makes class instances more like built-in types\n",
        "*     Via providing specially-named class methods"
      ]
    },
    {
      "cell_type": "code",
      "metadata": {
        "id": "sGvR4BIO6eNz",
        "colab_type": "code",
        "outputId": "3f00298c-cbcb-404e-c48a-d80fa9f52866",
        "colab": {
          "base_uri": "https://localhost:8080/",
          "height": 34
        }
      },
      "source": [
        "class Number:\n",
        "  def __init__(self, start): # on Number()\n",
        "    self.data = start\n",
        "    \n",
        "  def __add__(self, other): # on x + other\n",
        "    return Number(self.data + other)\n",
        "  \n",
        "\n",
        "X = Number(4)\n",
        "Y = X + 2\n",
        "Y.data  "
      ],
      "execution_count": 0,
      "outputs": [
        {
          "output_type": "execute_result",
          "data": {
            "text/plain": [
              "6"
            ]
          },
          "metadata": {
            "tags": []
          },
          "execution_count": 62
        }
      ]
    },
    {
      "cell_type": "markdown",
      "metadata": {
        "id": "lxab6FTTnBu8",
        "colab_type": "text"
      },
      "source": [
        "![ovl](https://learning-python.com/class/Workbook/unit07_files/image016.gif)"
      ]
    },
    {
      "cell_type": "markdown",
      "metadata": {
        "id": "1G9Kzcov6eN6",
        "colab_type": "text"
      },
      "source": [
        "**Common operator overloading methods**\n",
        " \n",
        "*     Special method names have 2 _ before and after\n",
        "*     See Python manuals or reference books for the full set"
      ]
    },
    {
      "cell_type": "markdown",
      "metadata": {
        "id": "ueurGRqvsPQ0",
        "colab_type": "text"
      },
      "source": [
        "Method | Overloads | Called for\n",
        "---|---|---\n",
        "__init__ | Constructor | object creation: X()\n",
        "__del__ | Destructor | object reclamation\n",
        "__add__ | operator + | X + Y\n",
        "__or__ | operator \\| | X \\| Y\n",
        "__repr__ | Printing | print X, `X`\n",
        "__call__ | function calls | X()\n",
        "__getattr__ | Qualification | X.undefined\n",
        "__getitem__ | Indexing | X[key], iteration, in\n",
        "__setitem__ | Qualification | X[key] = value\n",
        "__len__ | Length | len(X), truth tests\n",
        "__cmp__ | Comparison, 2.X | X == Y, X < Y\n",
        "__radd__ | operator + | non-instance + X\n",
        "__iter__ | iteration | for item in X, I=iter(X)\n",
        "__next__ | iteration | next(I)\n"
      ]
    },
    {
      "cell_type": "markdown",
      "metadata": {
        "id": "XKS_dbhzs3rt",
        "colab_type": "text"
      },
      "source": [
        " **Examples**\n",
        " \n",
        "*     call: a function interface, with memory"
      ]
    },
    {
      "cell_type": "code",
      "metadata": {
        "id": "EqEaOlw26eN7",
        "colab_type": "code",
        "outputId": "672a7597-1c1b-4ce6-ce5c-23ad7f59b1a1",
        "colab": {
          "base_uri": "https://localhost:8080/",
          "height": 51
        }
      },
      "source": [
        "class Callback:\n",
        "  def __init__(self, color): # state information\n",
        "    self.color = color\n",
        "\n",
        "  def __call__(self, *args): # support calls\n",
        "    print('turn', self.color)\n",
        "\n",
        "      \n",
        "cb1 = Callback('blue') # remember blue\n",
        "cb2 = Callback('green')\n",
        "\n",
        "cb1() # on events\n",
        "cb2()"
      ],
      "execution_count": 0,
      "outputs": [
        {
          "output_type": "stream",
          "text": [
            "turn blue\n",
            "turn green\n"
          ],
          "name": "stdout"
        }
      ]
    },
    {
      "cell_type": "code",
      "metadata": {
        "id": "LlkNi8fWwHVa",
        "colab_type": "code",
        "outputId": "1c394bc8-2d75-4b6e-ca33-9d402dbab69d",
        "colab": {
          "base_uri": "https://localhost:8080/",
          "height": 34
        }
      },
      "source": [
        "cb3 = (lambda color='red': 'turn ' + color) # or: defaults\n",
        "cb3()"
      ],
      "execution_count": 0,
      "outputs": [
        {
          "output_type": "execute_result",
          "data": {
            "text/plain": [
              "'turn red'"
            ]
          },
          "metadata": {
            "tags": []
          },
          "execution_count": 7
        }
      ]
    },
    {
      "cell_type": "markdown",
      "metadata": {
        "id": "xlO2Axwy6eN9",
        "colab_type": "text"
      },
      "source": [
        "*     getitem intercepts all index references"
      ]
    },
    {
      "cell_type": "code",
      "metadata": {
        "id": "TRD8rweg6eN-",
        "colab_type": "code",
        "outputId": "175b9cba-db75-4658-98c5-eb019e9591bf",
        "colab": {
          "base_uri": "https://localhost:8080/",
          "height": 102
        }
      },
      "source": [
        "class indexer:\n",
        "  def __getitem__(self, index):\n",
        "    return index ** 2\n",
        "\n",
        "X = indexer()\n",
        "for i in range(5):\n",
        "  print(X[i]) # __getitem__"
      ],
      "execution_count": 0,
      "outputs": [
        {
          "output_type": "stream",
          "text": [
            "0\n",
            "1\n",
            "4\n",
            "9\n",
            "16\n"
          ],
          "name": "stdout"
        }
      ]
    },
    {
      "cell_type": "markdown",
      "metadata": {
        "id": "BAqhvydK6eOB",
        "colab_type": "text"
      },
      "source": [
        "*     getattr catches undefined attribute references"
      ]
    },
    {
      "cell_type": "code",
      "metadata": {
        "id": "pCsnos3c6eOC",
        "colab_type": "code",
        "outputId": "48ec803c-9b0e-4141-e619-b42619fc2580",
        "colab": {
          "base_uri": "https://localhost:8080/",
          "height": 34
        }
      },
      "source": [
        "class empty:\n",
        "  def __getattr__(self, attrname):\n",
        "    return attrname + ' not supported!'\n",
        "\n",
        "X = empty()\n",
        "X.age # __getattr__"
      ],
      "execution_count": 0,
      "outputs": [
        {
          "output_type": "execute_result",
          "data": {
            "text/plain": [
              "'age not supported!'"
            ]
          },
          "metadata": {
            "tags": []
          },
          "execution_count": 9
        }
      ]
    },
    {
      "cell_type": "markdown",
      "metadata": {
        "id": "jS98tGhD6eOG",
        "colab_type": "text"
      },
      "source": [
        "*     init called on instance creation\n",
        "*     add intercepts + expressions\n",
        "*     repr returns a string when called by print"
      ]
    },
    {
      "cell_type": "code",
      "metadata": {
        "id": "02OINAO06eOI",
        "colab_type": "code",
        "outputId": "ca5ac134-1380-4572-c57d-030bbb908413",
        "colab": {
          "base_uri": "https://localhost:8080/",
          "height": 34
        }
      },
      "source": [
        "class adder:\n",
        "  def __init__(self, value=0):\n",
        "    self.data = value # init data\n",
        "\n",
        "  def __add__(self, other):\n",
        "    self.data = self.data + other # add other\n",
        "\n",
        "  def __repr__(self):\n",
        "    return str(self.data) # to string\n",
        "\n",
        "X = adder(1) # __init__\n",
        "X + 2 # __add__\n",
        "X + 2 # __add__\n",
        "X # __repr__"
      ],
      "execution_count": 0,
      "outputs": [
        {
          "output_type": "execute_result",
          "data": {
            "text/plain": [
              "5"
            ]
          },
          "metadata": {
            "tags": []
          },
          "execution_count": 15
        }
      ]
    },
    {
      "cell_type": "markdown",
      "metadata": {
        "id": "SxQb0hUB6eOK",
        "colab_type": "text"
      },
      "source": [
        "*     iter called on start of iterations, auto or manual\n",
        "*     next called to fetch each item along the way"
      ]
    },
    {
      "cell_type": "code",
      "metadata": {
        "id": "deV3fwZD6eOL",
        "colab_type": "code",
        "outputId": "09d5cbdf-9abf-4691-f258-317c6eb75b12",
        "colab": {
          "base_uri": "https://localhost:8080/",
          "height": 85
        }
      },
      "source": [
        "class squares:\n",
        "  def __init__(self, start): # on squares()\n",
        "    self.count = start\n",
        "    \n",
        "  def __iter__(self): # on iter()\n",
        "    return self # or other object with state\n",
        "  \n",
        "  def __next__(self): # on next()\n",
        "    if self.count == 1:\n",
        "      raise StopIteration # end iteration\n",
        "    else:\n",
        "      self.count -= 1\n",
        "    return self.count ** 2\n",
        "\n",
        "  \n",
        "for i in squares(5): # automatic iterations\n",
        "  print(i)"
      ],
      "execution_count": 0,
      "outputs": [
        {
          "output_type": "stream",
          "text": [
            "16\n",
            "9\n",
            "4\n",
            "1\n"
          ],
          "name": "stdout"
        }
      ]
    },
    {
      "cell_type": "code",
      "metadata": {
        "id": "g9JUPHTVPSxp",
        "colab_type": "code",
        "outputId": "1d0445be-aed2-4cfb-ce33-1351a2e2dd96",
        "colab": {
          "base_uri": "https://localhost:8080/",
          "height": 34
        }
      },
      "source": [
        "S = squares(10) # manual iterations\n",
        "I = iter(S) # iter() optional if returns self\n",
        "next(I)"
      ],
      "execution_count": 0,
      "outputs": [
        {
          "output_type": "execute_result",
          "data": {
            "text/plain": [
              "81"
            ]
          },
          "metadata": {
            "tags": []
          },
          "execution_count": 17
        }
      ]
    },
    {
      "cell_type": "code",
      "metadata": {
        "id": "7YBHYMPpPlCU",
        "colab_type": "code",
        "outputId": "b1f6e506-7b7c-4da7-8b2d-9addcd10683a",
        "colab": {
          "base_uri": "https://localhost:8080/",
          "height": 34
        }
      },
      "source": [
        "next(I)"
      ],
      "execution_count": 0,
      "outputs": [
        {
          "output_type": "execute_result",
          "data": {
            "text/plain": [
              "64"
            ]
          },
          "metadata": {
            "tags": []
          },
          "execution_count": 18
        }
      ]
    },
    {
      "cell_type": "code",
      "metadata": {
        "id": "CFb7AyqYPpS3",
        "colab_type": "code",
        "outputId": "b91e6ec3-0ee5-4046-bec8-cadd12f4154f",
        "colab": {
          "base_uri": "https://localhost:8080/",
          "height": 34
        }
      },
      "source": [
        "list(I)"
      ],
      "execution_count": 0,
      "outputs": [
        {
          "output_type": "execute_result",
          "data": {
            "text/plain": [
              "[49, 36, 25, 16, 9, 4, 1]"
            ]
          },
          "metadata": {
            "tags": []
          },
          "execution_count": 19
        }
      ]
    },
    {
      "cell_type": "markdown",
      "metadata": {
        "id": "43APBT846eOO",
        "colab_type": "text"
      },
      "source": [
        "*     Attribute access management\n",
        "      - setattr: partial attribute privacy for Python classes\n",
        "      - getattr: full get/set attribute privacy for Python classes"
      ]
    },
    {
      "cell_type": "markdown",
      "metadata": {
        "id": "LwgEh8TFP7jj",
        "colab_type": "text"
      },
      "source": [
        "###Namespace rules: the whole story"
      ]
    },
    {
      "cell_type": "markdown",
      "metadata": {
        "id": "PiuRC7J-P_v5",
        "colab_type": "text"
      },
      "source": [
        "*     Unqualified names (X) deal with lexical scopes\n",
        "*     Qualified names (O.X) use object namespaces\n",
        "*     Scopes initialize object namespaces: modules, classes"
      ]
    },
    {
      "cell_type": "markdown",
      "metadata": {
        "id": "dCGqVvV6QFSD",
        "colab_type": "text"
      },
      "source": [
        "**The Zen of Python Namespaces**"
      ]
    },
    {
      "cell_type": "code",
      "metadata": {
        "id": "gbC9Y-t16eOP",
        "colab_type": "code",
        "colab": {}
      },
      "source": [
        "# all 5 Xs are different variables\n",
        "X = 1 # global\n",
        " \n",
        "def f():\n",
        "  X = 2 # local\n",
        "\n",
        "class C:\n",
        "  X = 3 # class\n",
        "  \n",
        "  def m(self):\n",
        "    X = 4 # local\n",
        "    self.X = 5 # instance"
      ],
      "execution_count": 0,
      "outputs": []
    },
    {
      "cell_type": "markdown",
      "metadata": {
        "id": "uXRewiK0RX2p",
        "colab_type": "text"
      },
      "source": [
        "**Unqualified names: global unless assigned**\n",
        "\n",
        "*     Assignment: X = value\n",
        "       -      Makes names local: creates or changes name in the current local scope, unless declared global\n",
        " \n",
        "\n",
        "*     Reference: X\n",
        "        -      Looks for names in the current local scope, then the current global scope, then the outer built-in scope\n",
        " \n",
        "\n",
        " "
      ]
    },
    {
      "cell_type": "markdown",
      "metadata": {
        "id": "jaLV-8ASRN4l",
        "colab_type": "text"
      },
      "source": [
        "**Qualified names: object name-spaces**\n",
        "\n",
        "*     Assignment: X.name = value\n",
        "      -      Creates or alters the attribute name in the namespace of the object being qualified\n",
        "*     Reference: X.name\n",
        "        -      Searches for the attribute name in the object, and then all accessible classes above it (none for modules)\n",
        " \n"
      ]
    },
    {
      "cell_type": "markdown",
      "metadata": {
        "id": "-1DACLHqRKmk",
        "colab_type": "text"
      },
      "source": [
        "**Namespace dictionaries**\n",
        " \n",
        "*     Object name-spaces: built-in __dict__ attributes\n",
        "*     Qualification == indexing a name-space dictionary\n",
        "*      To get a name from a module M:\n",
        "   - ```python   \n",
        "   M.name\n",
        "   ```\n",
        "   - ```python   \n",
        "   M.__dict__['name']\n",
        "   ```\n",
        "   - ```python   \n",
        "   sys.modules['M'].name\n",
        "   ```\n",
        "   - ```python   \n",
        "   sys.modules['M'].__dict__['name']\n",
        "   ```\n",
        "   - ```python   \n",
        "   sys.__dict__['modules']['M'].__dict__['name']\n",
        "   ```\n",
        "*  Attribute inheritance == searching dictionaries"
      ]
    },
    {
      "cell_type": "code",
      "metadata": {
        "id": "_4ulJrK36eOS",
        "colab_type": "code",
        "outputId": "f73483b4-75a4-4acb-8568-c836452b7dbe",
        "colab": {
          "base_uri": "https://localhost:8080/",
          "height": 34
        }
      },
      "source": [
        "class super:\n",
        "  def hello(self):\n",
        "    self.data = 'spam' # in self.__dict__\n",
        "\n",
        "class sub(super):\n",
        "  def howdy(self): pass\n",
        "\n",
        "X = sub()\n",
        "X.__dict__ # a new name-space/dict"
      ],
      "execution_count": 0,
      "outputs": [
        {
          "output_type": "execute_result",
          "data": {
            "text/plain": [
              "{}"
            ]
          },
          "metadata": {
            "tags": []
          },
          "execution_count": 21
        }
      ]
    },
    {
      "cell_type": "code",
      "metadata": {
        "id": "SvKFAN2EXVJA",
        "colab_type": "code",
        "outputId": "4e38977b-1d98-4cdc-a705-16b5700a95ef",
        "colab": {
          "base_uri": "https://localhost:8080/",
          "height": 34
        }
      },
      "source": [
        "X.hola = 42 # add member to X object\n",
        "X.__dict__"
      ],
      "execution_count": 0,
      "outputs": [
        {
          "output_type": "execute_result",
          "data": {
            "text/plain": [
              "{'hola': 42}"
            ]
          },
          "metadata": {
            "tags": []
          },
          "execution_count": 23
        }
      ]
    },
    {
      "cell_type": "code",
      "metadata": {
        "id": "lFqWigFtXbw3",
        "colab_type": "code",
        "outputId": "b013ec74-d498-413c-f987-c3044b1dc58e",
        "colab": {
          "base_uri": "https://localhost:8080/",
          "height": 68
        }
      },
      "source": [
        "sub.__dict__"
      ],
      "execution_count": 0,
      "outputs": [
        {
          "output_type": "execute_result",
          "data": {
            "text/plain": [
              "mappingproxy({'__doc__': None,\n",
              "              '__module__': '__main__',\n",
              "              'howdy': <function __main__.sub.howdy>})"
            ]
          },
          "metadata": {
            "tags": []
          },
          "execution_count": 24
        }
      ]
    },
    {
      "cell_type": "code",
      "metadata": {
        "id": "cPBSlGcCXf3H",
        "colab_type": "code",
        "outputId": "a43559d1-04fa-4327-8f87-006f100ca1a2",
        "colab": {
          "base_uri": "https://localhost:8080/",
          "height": 102
        }
      },
      "source": [
        "super.__dict__"
      ],
      "execution_count": 0,
      "outputs": [
        {
          "output_type": "execute_result",
          "data": {
            "text/plain": [
              "mappingproxy({'__dict__': <attribute '__dict__' of 'super' objects>,\n",
              "              '__doc__': None,\n",
              "              '__module__': '__main__',\n",
              "              '__weakref__': <attribute '__weakref__' of 'super' objects>,\n",
              "              'hello': <function __main__.super.hello>})"
            ]
          },
          "metadata": {
            "tags": []
          },
          "execution_count": 25
        }
      ]
    },
    {
      "cell_type": "code",
      "metadata": {
        "id": "rcfJxDC_XkGB",
        "colab_type": "code",
        "outputId": "54c909b0-f9e6-4b61-ded2-808a4453bb8b",
        "colab": {
          "base_uri": "https://localhost:8080/",
          "height": 34
        }
      },
      "source": [
        "X.hello()\n",
        "X.__dict__"
      ],
      "execution_count": 0,
      "outputs": [
        {
          "output_type": "execute_result",
          "data": {
            "text/plain": [
              "{'data': 'spam', 'hola': 42}"
            ]
          },
          "metadata": {
            "tags": []
          },
          "execution_count": 26
        }
      ]
    },
    {
      "cell_type": "markdown",
      "metadata": {
        "id": "4JjZWWl-6eOU",
        "colab_type": "text"
      },
      "source": [
        "###OOP and inheritance"
      ]
    },
    {
      "cell_type": "markdown",
      "metadata": {
        "id": "jNZxk9-4Xwhx",
        "colab_type": "text"
      },
      "source": [
        "*     Inheritance based on attribute qualification\n",
        "*     In OOP terminology: is-a relationship\n",
        "*     On X.name, looks for name in:\n",
        "  1.   Instance <--- Xs own name-space\n",
        "  2.   Class <--- class that X was made from\n",
        "  3.   Superclasses <--- depth-first, left-to-right"
      ]
    },
    {
      "cell_type": "markdown",
      "metadata": {
        "id": "kUvrplxUYGdY",
        "colab_type": "text"
      },
      "source": [
        "**Example: a zoo hierarchy in Python**"
      ]
    },
    {
      "cell_type": "code",
      "metadata": {
        "id": "YmecthRJ6eOV",
        "colab_type": "code",
        "colab": {}
      },
      "source": [
        "class Animal:\n",
        "  def reply(self): self.speak()\n",
        "    \n",
        "  def speak(self): print('spam')\n",
        "\n",
        "\n",
        "class Mammal(Animal):\n",
        "  def speak(self): print('huh?')\n",
        "\n",
        "\n",
        "class Cat(Mammal):\n",
        "  def speak(self): print('meow')\n",
        "\n",
        "\n",
        "class Dog(Mammal):\n",
        "  def speak(self): print('bark')\n",
        "\n",
        "\n",
        "class Primate(Mammal):\n",
        "  def speak(self): print('Hello world!')\n",
        "\n",
        "\n",
        "class Hacker(Primate): pass"
      ],
      "execution_count": 0,
      "outputs": []
    },
    {
      "cell_type": "markdown",
      "metadata": {
        "id": "L6CmLOh6Y-FI",
        "colab_type": "text"
      },
      "source": [
        "![classes](https://learning-python.com/class/Workbook/unit07_files/image018.gif)"
      ]
    },
    {
      "cell_type": "code",
      "metadata": {
        "id": "74ItPZpY6eOY",
        "colab_type": "code",
        "outputId": "c5a7f035-422d-4c40-b822-bd45b0420f09",
        "colab": {
          "base_uri": "https://localhost:8080/",
          "height": 51
        }
      },
      "source": [
        "spot = Cat()\n",
        "spot.reply() # Animal.reply, Cat.speak\n",
        "data = Hacker() # Animal.reply, Primate.speak\n",
        "data.reply()"
      ],
      "execution_count": 0,
      "outputs": [
        {
          "output_type": "stream",
          "text": [
            "meow\n",
            "Hello world!\n"
          ],
          "name": "stdout"
        }
      ]
    },
    {
      "cell_type": "markdown",
      "metadata": {
        "id": "8CshHgpM6eOa",
        "colab_type": "text"
      },
      "source": [
        "###OOP and composition"
      ]
    },
    {
      "cell_type": "markdown",
      "metadata": {
        "id": "TMvEyoGyZUPZ",
        "colab_type": "text"
      },
      "source": [
        "*     Class instances simulate objects in a domain\n",
        "*     Nouns→classes, verbs→methods\n",
        "*     Class objects embed and activate other objects\n",
        "*     In OOP terminology: has-a relationship"
      ]
    },
    {
      "cell_type": "markdown",
      "metadata": {
        "id": "G4bm_wpIZXBW",
        "colab_type": "text"
      },
      "source": [
        "**Example: the dead-parrot skit in Python**"
      ]
    },
    {
      "cell_type": "code",
      "metadata": {
        "id": "DNdHbbcd6eOb",
        "colab_type": "code",
        "outputId": "e03280c8-400f-4291-f0c9-0714876fe641",
        "colab": {
          "base_uri": "https://localhost:8080/",
          "height": 68
        }
      },
      "source": [
        "class Actor:\n",
        "  def line(self): print(self.name + ':', self.says())\n",
        "\n",
        "\n",
        "class Customer(Actor):\n",
        "  name = 'customer'\n",
        "  \n",
        "  def says(self): return \"that's one ex-bird!\"\n",
        "\n",
        "\n",
        "class Clerk(Actor):\n",
        "  name = 'clerk'\n",
        "\n",
        "  def says(self): return \"no it isn't\"\n",
        "\n",
        "\n",
        "class Parrot(Actor):\n",
        "  name = 'parrot'\n",
        "\n",
        "  def says(self): return None\n",
        "\n",
        "\n",
        "class Scene:\n",
        "  def __init__(self):\n",
        "    self.clerk = Clerk() # embed some instances\n",
        "    self.customer = Customer() # Scene is a composite\n",
        "    self.subject = Parrot()\n",
        "\n",
        "\n",
        "  def action(self):\n",
        "    self.customer.line() # delegate to embedded\n",
        "    self.clerk.line()\n",
        "    self.subject.line()\n",
        "  \n",
        "  \n",
        "Scene().action() # activate nested objects  "
      ],
      "execution_count": 0,
      "outputs": [
        {
          "output_type": "stream",
          "text": [
            "customer: that's one ex-bird!\n",
            "clerk: no it isn't\n",
            "parrot: None\n"
          ],
          "name": "stdout"
        }
      ]
    },
    {
      "cell_type": "markdown",
      "metadata": {
        "id": "p4ZUWL4F6eOi",
        "colab_type": "text"
      },
      "source": [
        "###Classes are objects: factories"
      ]
    },
    {
      "cell_type": "markdown",
      "metadata": {
        "id": "d53bS1zqZ-Cp",
        "colab_type": "text"
      },
      "source": [
        "*     Everything is a first-class object\n",
        "*     Only objects derived from classes are OOP objects\n",
        "*     Classes can be passed around as data objects"
      ]
    },
    {
      "cell_type": "code",
      "metadata": {
        "id": "K5NtwG916eOj",
        "colab_type": "code",
        "outputId": "5a8032b7-061f-4b8a-93fd-bc4b84164b92",
        "colab": {
          "base_uri": "https://localhost:8080/",
          "height": 34
        }
      },
      "source": [
        "def factory(aClass, *args): # varargs tuple\n",
        "  return aClass(*args) # call aClass\n",
        " \n",
        "\n",
        "class Spam:\n",
        "  def doit(self, message):\n",
        "    print(message)\n",
        "    \n",
        "    \n",
        "class Person:\n",
        "  def __init__(self, name, job):\n",
        "    self.name = name\n",
        "    self.job = job\n",
        "    \n",
        "    \n",
        "object1 = factory(Spam) # make a Spam\n",
        "object2 = factory(Person, \"Guido\", \"guru\") # make a Person\n",
        "object2.name"
      ],
      "execution_count": 0,
      "outputs": [
        {
          "output_type": "execute_result",
          "data": {
            "text/plain": [
              "'Guido'"
            ]
          },
          "metadata": {
            "tags": []
          },
          "execution_count": 35
        }
      ]
    },
    {
      "cell_type": "markdown",
      "metadata": {
        "id": "vGDfYA2d6eOn",
        "colab_type": "text"
      },
      "source": [
        "###Methods are objects: bound or unbound"
      ]
    },
    {
      "cell_type": "markdown",
      "metadata": {
        "id": "kufMHUHubCtE",
        "colab_type": "text"
      },
      "source": [
        "*     Unbound class methods: call with a self\n",
        "*     Bound instance methods: instance + method pairs"
      ]
    },
    {
      "cell_type": "code",
      "metadata": {
        "id": "bC9TkuDV6eOo",
        "colab_type": "code",
        "outputId": "74573b71-0772-439d-b950-fcb3b39079d2",
        "colab": {
          "base_uri": "https://localhost:8080/",
          "height": 51
        }
      },
      "source": [
        "object1 = Spam()\n",
        "x = object1.doit # bound method object\n",
        "x('hello world') # instance is implied\n",
        "\n",
        "\n",
        "t = Spam.doit # unbound method object\n",
        "t(object1, 'howdy') # pass in instance"
      ],
      "execution_count": 0,
      "outputs": [
        {
          "output_type": "stream",
          "text": [
            "hello world\n",
            "howdy\n"
          ],
          "name": "stdout"
        }
      ]
    },
    {
      "cell_type": "markdown",
      "metadata": {
        "id": "RFGkvoZi6eOq",
        "colab_type": "text"
      },
      "source": [
        "###Odds and ends"
      ]
    },
    {
      "cell_type": "markdown",
      "metadata": {
        "id": "kFhY349Db2GL",
        "colab_type": "text"
      },
      "source": [
        "**Pseudo-private attributes**\n",
        "\n",
        "*     Data hiding is a convention (until Python1.5 or later)\n",
        "*     Were all consenting adults Pythons BDFL\n",
        "*     1.5 name mangling: self.\\_\\_X → self._Class\\_\\_X\n",
        "*     Class name prefix makes names unique in self instance\n",
        "*     Only works in class, and only if at most 1 trailing _\n",
        "*     Mostly for larger, multi-programmer, OO projects\n",
        "*     See \\_\\_getattr\\_\\_ above for implementing full privacy"
      ]
    },
    {
      "cell_type": "code",
      "metadata": {
        "id": "YSBqUsFs6eOr",
        "colab_type": "code",
        "outputId": "8dfec504-fe09-40f3-9e39-9fd5124c1b78",
        "colab": {
          "base_uri": "https://localhost:8080/",
          "height": 68
        }
      },
      "source": [
        "class C1:\n",
        "  def meth1(self): self.__X = 88 # now X is mine\n",
        "  \n",
        "  def meth2(self): print(self.__X) # becomes _C1__X in I\n",
        "\n",
        "\n",
        "class C2:\n",
        "  def metha(self): self.__X = 99 # me too\n",
        "  \n",
        "  def methb(self): print(self.__X) # becomes _C2__X in I\n",
        "\n",
        "\n",
        "class C3(C1, C2): pass\n",
        "  \n",
        "\n",
        "I = C3() # two X names in I\n",
        "I.meth1()\n",
        "I.metha()\n",
        "print(I.__dict__)\n",
        "\n",
        "I.meth2()\n",
        "I.methb()"
      ],
      "execution_count": 0,
      "outputs": [
        {
          "output_type": "stream",
          "text": [
            "{'_C1__X': 88, '_C2__X': 99}\n",
            "88\n",
            "99\n"
          ],
          "name": "stdout"
        }
      ]
    },
    {
      "cell_type": "markdown",
      "metadata": {
        "id": "MBSrDR5T6eOu",
        "colab_type": "text"
      },
      "source": [
        "**Documentation strings**\n",
        "\n",
        "*     Still not universally used (but very close!)\n",
        "*     Woks for classes, modules, functions, methods\n",
        "*      String constant before any statements\n",
        "*      Stored in objects \\_\\_doc\\_\\_ attribute"
      ]
    },
    {
      "cell_type": "code",
      "metadata": {
        "id": "uEtpnQ2F6eOv",
        "colab_type": "code",
        "colab": {}
      },
      "source": [
        "\"I am: docstr.__doc__\"\n",
        " \n",
        "\n",
        "class spam:\n",
        "  \"I am: spam.__doc__ or docstr.spam.__doc__\"\n",
        "  pass\n",
        " \n",
        "\n",
        "def method(self, arg):\n",
        "  \"I am: spam.method.__doc__ or self.method.__doc__\"\n",
        "  pass\n",
        " \n",
        "\n",
        "def func(args):\n",
        "  \"I am: docstr.func.__doc__\"\n",
        "  pass"
      ],
      "execution_count": 0,
      "outputs": []
    },
    {
      "cell_type": "markdown",
      "metadata": {
        "id": "6WrbNl7X6eOw",
        "colab_type": "text"
      },
      "source": [
        "**Classes versus modules**\n",
        "\n",
        "*     Modules\n",
        "  *     Are data/logic packages\n",
        "  *     Creation: files or extensions\n",
        "  *     Usage: imported\n",
        "\n",
        "*     Classes\n",
        "  *     Implement new objects\n",
        "  *     Always live in a module\n",
        "  *     Creation: statements\n",
        "  *     Usage: called"
      ]
    },
    {
      "cell_type": "markdown",
      "metadata": {
        "id": "aTlJoNXVd-7B",
        "colab_type": "text"
      },
      "source": [
        "**OOP and Python**\n",
        " \n",
        "*     Inheritance\n",
        "  *      Based on attribute lookup: X.name\n",
        "*     Polymorphism\n",
        "  *      In X.method(), the meaning of method depends on the type (class) of X\n",
        "*     Encapsulation\n",
        "  *      Methods and operators implement behavior; data hiding is a convention (for now)"
      ]
    },
    {
      "cell_type": "code",
      "metadata": {
        "id": "rUwjOG-o6eOx",
        "colab_type": "code",
        "colab": {}
      },
      "source": [
        "class C:\n",
        "  def meth(self, x): # like x=1; x=2\n",
        "    pass\n",
        "  \n",
        "  def meth(self, x, y, z): # the last one wins!\n",
        "    pass\n",
        "\n",
        "\n",
        "class C:\n",
        "  def meth(self, *args):\n",
        "    if len(args) == 1:\n",
        "      pass\n",
        "    elif type(arg[0]) == int:\n",
        "      pass\n",
        "\n",
        "\n",
        "class C:\n",
        "  def meth(self, x): # the python way:\n",
        "    x.operation() # assume x does the right thing"
      ],
      "execution_count": 0,
      "outputs": []
    },
    {
      "cell_type": "markdown",
      "metadata": {
        "id": "7hOR1tmv6eO0",
        "colab_type": "text"
      },
      "source": [
        "**Pythons dynamic nature**\n",
        "\n",
        "*      Members may be added/changed outside class methods"
      ]
    },
    {
      "cell_type": "code",
      "metadata": {
        "id": "P5lHmG7V6eO1",
        "colab_type": "code",
        "colab": {}
      },
      "source": [
        "class C: pass\n",
        "\n",
        "X = C()\n",
        "X.name = 'bob'\n",
        "X.job = 'psychologist'"
      ],
      "execution_count": 0,
      "outputs": []
    },
    {
      "cell_type": "markdown",
      "metadata": {
        "id": "2TBZxA9HfPee",
        "colab_type": "text"
      },
      "source": [
        "*     Scopes may be expanded dynamically: run-time binding"
      ]
    },
    {
      "cell_type": "code",
      "metadata": {
        "id": "HGPkrIXA6eO3",
        "colab_type": "code",
        "outputId": "6b626fea-f91c-4ece-af5d-cb31603a7ffc",
        "colab": {
          "base_uri": "https://localhost:8080/",
          "height": 34
        }
      },
      "source": [
        "def printer():\n",
        "  print(message) # name resolved when referenced\n",
        "\n",
        "message = \"Hello\" # set message now\n",
        "printer()"
      ],
      "execution_count": 0,
      "outputs": [
        {
          "output_type": "stream",
          "text": [
            "Hello\n"
          ],
          "name": "stdout"
        }
      ]
    },
    {
      "cell_type": "markdown",
      "metadata": {
        "id": "zk-5_FsE6eO5",
        "colab_type": "text"
      },
      "source": [
        "###Subclassing builtin types"
      ]
    },
    {
      "cell_type": "markdown",
      "metadata": {
        "id": "rPhRnEgpfxVl",
        "colab_type": "text"
      },
      "source": [
        "*     All types behave like classes: list, str, tuple, dict,\n",
        "*     Subclass to customize builtin object behavior\n",
        "*     Alternative to writing wrapper code"
      ]
    },
    {
      "cell_type": "code",
      "metadata": {
        "id": "8eHY2LPz6eO5",
        "colab_type": "code",
        "outputId": "8d53d151-2bc8-4027-c5bb-90c851d41be7",
        "colab": {
          "base_uri": "https://localhost:8080/",
          "height": 153
        }
      },
      "source": [
        "# subclass builtin list type/class\n",
        "# map 1..N to 0..N-1, call back to built-in version\n",
        " \n",
        "\n",
        "class MyList(list):\n",
        "  def __getitem__(self, offset):\n",
        "    print('(indexing %s at %s)' % (self, offset))\n",
        "    return list.__getitem__(self, offset - 1)\n",
        "  \n",
        "  \n",
        "print(list('abc'))\n",
        "x = MyList('abc') # __init__ inherited from list\n",
        "print(x) # __repr__ inherited from list\n",
        "print(x[1]) # MyList.__getitem__\n",
        "print(x[3]) # customizes list superclass method\n",
        "\n",
        "x.append('spam')\n",
        "print(x) # attributes from list superclass\n",
        "\n",
        "x.reverse()\n",
        "print(x)"
      ],
      "execution_count": 0,
      "outputs": [
        {
          "output_type": "stream",
          "text": [
            "['a', 'b', 'c']\n",
            "['a', 'b', 'c']\n",
            "(indexing ['a', 'b', 'c'] at 1)\n",
            "a\n",
            "(indexing ['a', 'b', 'c'] at 3)\n",
            "c\n",
            "['a', 'b', 'c', 'spam']\n",
            "['spam', 'c', 'b', 'a']\n"
          ],
          "name": "stdout"
        }
      ]
    },
    {
      "cell_type": "markdown",
      "metadata": {
        "id": "A9vX5Xyb6eO7",
        "colab_type": "text"
      },
      "source": [
        "###New Style Classes in 2.2+ (Advanced)\n",
        "\n",
        " \n",
        "\n",
        "*     Adds new features, changes one inheritance case (diamonds)\n",
        "*     Py 2.X: only if object or a builtin type as a superclass\n",
        "*     Py 3.X: all classes automatically new style (object added auto)"
      ]
    },
    {
      "cell_type": "code",
      "metadata": {
        "id": "x-y4SUot6eO8",
        "colab_type": "code",
        "colab": {}
      },
      "source": [
        "class newstyle(object): # NS requires object in 2.X only\n",
        "  pass"
      ],
      "execution_count": 0,
      "outputs": []
    },
    {
      "cell_type": "markdown",
      "metadata": {
        "id": "DWd-7UKL6ePA",
        "colab_type": "text"
      },
      "source": [
        "*     Changes: behavior of diamond multiple inheritance\n",
        "Per the linear MRO: the DFLR path, with all but last appearance of each class removed"
      ]
    },
    {
      "cell_type": "code",
      "metadata": {
        "id": "cR2n4bGthpJs",
        "colab_type": "code",
        "outputId": "ef4de6a4-ae5a-4817-f095-271c2bac4de2",
        "colab": {
          "base_uri": "https://localhost:8080/",
          "height": 34
        }
      },
      "source": [
        "class A(object): attr = 1 # NEW STYLE\n",
        "class B(A): pass\n",
        "class C(A): attr = 2\n",
        "class D(B,C): pass # tries C before A\n",
        "x = D() # more breadth-first\n",
        "x.attr"
      ],
      "execution_count": 0,
      "outputs": [
        {
          "output_type": "execute_result",
          "data": {
            "text/plain": [
              "2"
            ]
          },
          "metadata": {
            "tags": []
          },
          "execution_count": 53
        }
      ]
    },
    {
      "cell_type": "markdown",
      "metadata": {
        "id": "2y423NKO6ePC",
        "colab_type": "text"
      },
      "source": [
        "*     Adds: slots, limits legal attributes set\n",
        "Used to catch typos and limit memory requirements in pathological cases (ONLY!)"
      ]
    },
    {
      "cell_type": "code",
      "metadata": {
        "id": "afvfLxJc6ePC",
        "colab_type": "code",
        "outputId": "a8b9cd6d-3b88-4f3c-a06d-76b7e584785e",
        "colab": {
          "base_uri": "https://localhost:8080/",
          "height": 214
        }
      },
      "source": [
        "class limiter(object):\n",
        "  __slots__ = ['age', 'name', 'job']\n",
        "\n",
        "  \n",
        "x = limiter()\n",
        "print(\"ERROR EXPECTED\")\n",
        "x.ape = 1000"
      ],
      "execution_count": 0,
      "outputs": [
        {
          "output_type": "stream",
          "text": [
            "ERROR EXPECTED\n"
          ],
          "name": "stdout"
        },
        {
          "output_type": "error",
          "ename": "AttributeError",
          "evalue": "ignored",
          "traceback": [
            "\u001b[0;31m---------------------------------------------------------------------------\u001b[0m",
            "\u001b[0;31mAttributeError\u001b[0m                            Traceback (most recent call last)",
            "\u001b[0;32m<ipython-input-57-b56a8de1b9ec>\u001b[0m in \u001b[0;36m<module>\u001b[0;34m()\u001b[0m\n\u001b[1;32m      5\u001b[0m \u001b[0mx\u001b[0m \u001b[0;34m=\u001b[0m \u001b[0mlimiter\u001b[0m\u001b[0;34m(\u001b[0m\u001b[0;34m)\u001b[0m\u001b[0;34m\u001b[0m\u001b[0;34m\u001b[0m\u001b[0m\n\u001b[1;32m      6\u001b[0m \u001b[0mprint\u001b[0m\u001b[0;34m(\u001b[0m\u001b[0;34m\"ERROR EXPECTED\"\u001b[0m\u001b[0;34m)\u001b[0m\u001b[0;34m\u001b[0m\u001b[0;34m\u001b[0m\u001b[0m\n\u001b[0;32m----> 7\u001b[0;31m \u001b[0mx\u001b[0m\u001b[0;34m.\u001b[0m\u001b[0mape\u001b[0m \u001b[0;34m=\u001b[0m \u001b[0;36m1000\u001b[0m\u001b[0;34m\u001b[0m\u001b[0;34m\u001b[0m\u001b[0m\n\u001b[0m",
            "\u001b[0;31mAttributeError\u001b[0m: 'limiter' object has no attribute 'ape'"
          ]
        }
      ]
    },
    {
      "cell_type": "markdown",
      "metadata": {
        "id": "iCPxmJFq6ePE",
        "colab_type": "text"
      },
      "source": [
        "*     Adds: properties, computed attributes alternative.\n",
        "Used to route attribute access to databases, approvals, special-case code."
      ]
    },
    {
      "cell_type": "code",
      "metadata": {
        "id": "XreYZlXm6ePE",
        "colab_type": "code",
        "outputId": "e3260138-a63c-4bae-e2ee-94aaac7daba0",
        "colab": {
          "base_uri": "https://localhost:8080/",
          "height": 34
        }
      },
      "source": [
        "class classic():\n",
        "  def __getattr__(self, name):\n",
        "    if name == 'age':\n",
        "      return 40\n",
        "    else:\n",
        "      raise AttributeError\n",
        "\n",
        "x = classic()\n",
        "x.age # <= runs __getattr__"
      ],
      "execution_count": 0,
      "outputs": [
        {
          "output_type": "execute_result",
          "data": {
            "text/plain": [
              "40"
            ]
          },
          "metadata": {
            "tags": []
          },
          "execution_count": 63
        }
      ]
    },
    {
      "cell_type": "code",
      "metadata": {
        "id": "rtVDT7sIjeMU",
        "colab_type": "code",
        "outputId": "b901336f-bda0-4276-c802-d9153fe69cc3",
        "colab": {
          "base_uri": "https://localhost:8080/",
          "height": 34
        }
      },
      "source": [
        "# less verbose way (nneds object in 2.X)\n",
        "class newprops():\n",
        "  def getage(self):\n",
        "    return 40\n",
        "  \n",
        "  age = property(getage, None, None, None) # get,set,del\n",
        "\n",
        "x = newprops()\n",
        "x.age # <= runs getage"
      ],
      "execution_count": 0,
      "outputs": [
        {
          "output_type": "execute_result",
          "data": {
            "text/plain": [
              "40"
            ]
          },
          "metadata": {
            "tags": []
          },
          "execution_count": 60
        }
      ]
    },
    {
      "cell_type": "markdown",
      "metadata": {
        "id": "vVRNeprC6ePG",
        "colab_type": "text"
      },
      "source": [
        "*     Adds: static and class methods, new calling patterns\n",
        "Used to process class data, instead of per-instance date"
      ]
    },
    {
      "cell_type": "code",
      "metadata": {
        "id": "wstrO3e66ePG",
        "colab_type": "code",
        "outputId": "85235b39-4a53-4a0a-99eb-7041cb457f08",
        "colab": {
          "base_uri": "https://localhost:8080/",
          "height": 34
        }
      },
      "source": [
        "class Spam: # static: no self\n",
        "  numInstances = 0 # class: class, not instance\n",
        "\n",
        "  def __init__(self):\n",
        "    Spam.numInstances += 1\n",
        "\n",
        "  def printNumInstances():\n",
        "    print(\"Number of instances:\", Spam.numInstances)\n",
        "\n",
        "  # can avoid this in 3.X\n",
        "  #printNumInstances = staticmethod(printNumInstances)\n",
        "\n",
        "\n",
        "a = Spam()\n",
        "b = Spam()\n",
        "c = Spam()\n",
        "Spam.printNumInstances()"
      ],
      "execution_count": 0,
      "outputs": [
        {
          "output_type": "stream",
          "text": [
            "Number of instances: 3\n"
          ],
          "name": "stdout"
        }
      ]
    },
    {
      "cell_type": "markdown",
      "metadata": {
        "id": "rFAnUnlj6ePH",
        "colab_type": "text"
      },
      "source": [
        "*     Function and class decorators (not just newstyle).\n",
        "Rebinds names to objects that process functions and classes, or later calls to them."
      ]
    },
    {
      "cell_type": "markdown",
      "metadata": {
        "id": "z1HzdHzbrI-v",
        "colab_type": "text"
      },
      "source": [
        "**Function name rebinding**\n",
        "\n",
        "```python\n",
        "@funcdecorator\n",
        "def F():\n",
        "...\n",
        " \n",
        "# is equivalent to\n",
        " \n",
        "def F():\n",
        "  F = funcdecorator(F) # rebind name, possibly to proxy object\n",
        "```\n",
        "\n",
        "**Class name rebinding**\n",
        "\n",
        "```python\n",
        "@classdecorator\n",
        "class C:\n",
        "...\n",
        "\n",
        "# is equivalent to\n",
        " \n",
        "class C:\n",
        "  C = classdecorator(C) # rebind name, possibly to proxy object\n",
        "```\n",
        "  \n",
        "**Use for static methods (and properties, etc.)**\n",
        "\n",
        "```python\n",
        "class C:\n",
        "  @staticmethod\n",
        "  def meth():\n",
        "...\n",
        " \n",
        "# is equivalent to\n",
        " \n",
        "class C:\n",
        "  def meth():\n",
        "  ...\n",
        "  meth = staticmethod(meth) # rebind name to call handler\n",
        " \n",
        "# ditto for properties\n",
        "\n",
        "class newprops(object):\n",
        "  @property\n",
        "  def age(self): # age = property(age)\n",
        "    return 40 # use X.age, not X.age()\n",
        "``` \n",
        "\n",
        "**Nesting: multiple augmentations**\n",
        "\n",
        "```python\n",
        "@A\n",
        "@B\n",
        "@C\n",
        "def f(): \n",
        " \n",
        "# is equivalent to\n",
        "\n",
        "def f(): \n",
        "  f = A(B(C(f)))\n",
        "```\n",
        "\n",
        "**Arguments: closures, retain state for later calls**\n",
        "\n",
        "```python\n",
        "@funchandler(a, b)\n",
        "def F():\n",
        " \n",
        "# is equivalent to\n",
        " \n",
        "def F():\n",
        "  F = funchandler(a, b)(F)\n",
        " ```\n",
        "\n",
        " \n",
        "\n",
        " \n"
      ]
    },
    {
      "cell_type": "markdown",
      "metadata": {
        "id": "LyxddbvQ6ePL",
        "colab_type": "text"
      },
      "source": [
        "###Class gotchas"
      ]
    },
    {
      "cell_type": "markdown",
      "metadata": {
        "id": "p-wAbMvGsyVE",
        "colab_type": "text"
      },
      "source": [
        "*     Multiple inheritance: order matters\n",
        "*      Solution: use sparingly and/or carefully"
      ]
    },
    {
      "cell_type": "code",
      "metadata": {
        "id": "qwgGkx5p6ePM",
        "colab_type": "code",
        "outputId": "6bb59222-b96c-442f-c1b2-85970e1b0a6b",
        "colab": {
          "base_uri": "https://localhost:8080/",
          "height": 68
        }
      },
      "source": [
        "class Super1:\n",
        "  def method2(self): # a 'mixin' superclass\n",
        "    print('in Super1.method2')\n",
        "\n",
        "\n",
        "class Super2:\n",
        "  def method1(self):\n",
        "    self.method2() # calls my method2??\n",
        "  \n",
        "  def method2(self):\n",
        "    print('in Super2.method2')\n",
        "\n",
        "\n",
        "class Sub1(Super1, Super2):\n",
        "  pass # gets Super1's method2\n",
        "\n",
        "\n",
        "class Sub2(Super2, Super1):\n",
        "  pass # gets Super2's method2\n",
        "\n",
        "\n",
        "class Sub3(Super1, Super2):\n",
        "  method2 = Super2.method2 # pick method manually\n",
        "\n",
        "\n",
        "Sub1().method1()\n",
        "Sub2().method1()\n",
        "Sub3().method1()"
      ],
      "execution_count": 0,
      "outputs": [
        {
          "output_type": "stream",
          "text": [
            "in Super1.method2\n",
            "in Super2.method2\n",
            "in Super2.method2\n"
          ],
          "name": "stdout"
        }
      ]
    },
    {
      "cell_type": "markdown",
      "metadata": {
        "id": "c8Mp4Qlht2EL",
        "colab_type": "text"
      },
      "source": [
        "###Example: a set class"
      ]
    },
    {
      "cell_type": "markdown",
      "metadata": {
        "id": "B85MAtje6ePP",
        "colab_type": "text"
      },
      "source": [
        "*     Wraps a Python list in each instance\n",
        "*     Supports multiple instances\n",
        "*     Adds operator overloading\n",
        "*     Supports customization by inheritance\n",
        "*     Allows any type of component: heterogeneous"
      ]
    },
    {
      "cell_type": "code",
      "metadata": {
        "id": "donu-MMb6ePP",
        "colab_type": "code",
        "colab": {}
      },
      "source": [
        "class Set:\n",
        "  def __init__(self, value = []): # constructor\n",
        "    self.data = [] # manages a list\n",
        "    self.concat(value)\n",
        "    \n",
        "  def intersect(self, other): # other is a sequence\n",
        "    res = [] # self is the subject\n",
        "    for x in self.data:\n",
        "      if x in other:\n",
        "        res.append(x)\n",
        "    return Set(res) # return a new Set\n",
        "  \n",
        "  def union(self, other):\n",
        "    res = self.data[:] # copy of my list\n",
        "    for x in other:\n",
        "      if not x in res:\n",
        "        res.append(x)\n",
        "    return Set(res)\n",
        "  \n",
        "  def concat(self, value): # value: list, Set\n",
        "    for x in value: # removes duplicates\n",
        "      if not x in self.data:\n",
        "        self.data.append(x)\n",
        "\n",
        "  def __len__(self): return len(self.data)\n",
        "  def __getitem__(self, key): return self.data[key]\n",
        "  def __and__(self, other): return self.intersect(other)\n",
        "  def __or__(self, other): return self.union(other)\n",
        "  def __repr__(self): return 'Set:' + str(self.data)"
      ],
      "execution_count": 0,
      "outputs": []
    },
    {
      "cell_type": "code",
      "metadata": {
        "id": "INmT98K86ePR",
        "colab_type": "code",
        "outputId": "672a5ba9-9ef3-4413-fa64-79b8a5ce14c9",
        "colab": {
          "base_uri": "https://localhost:8080/",
          "height": 34
        }
      },
      "source": [
        "x = Set([1,2,3,4]) # __init__\n",
        "y = Set([3,4,5])\n",
        "\n",
        "x & y, x | y # __and__,__or__,__repr__"
      ],
      "execution_count": 0,
      "outputs": [
        {
          "output_type": "execute_result",
          "data": {
            "text/plain": [
              "(Set:[3, 4], Set:[1, 2, 3, 4, 5])"
            ]
          },
          "metadata": {
            "tags": []
          },
          "execution_count": 74
        }
      ]
    },
    {
      "cell_type": "code",
      "metadata": {
        "id": "b_GXGzXluj8K",
        "colab_type": "code",
        "outputId": "9ea5c2d6-df1e-4458-cd18-f7a5439bce6d",
        "colab": {
          "base_uri": "https://localhost:8080/",
          "height": 34
        }
      },
      "source": [
        "z = Set(\"hello\") # set of strings\n",
        "z[0] # __getitem__"
      ],
      "execution_count": 0,
      "outputs": [
        {
          "output_type": "execute_result",
          "data": {
            "text/plain": [
              "'h'"
            ]
          },
          "metadata": {
            "tags": []
          },
          "execution_count": 75
        }
      ]
    },
    {
      "cell_type": "code",
      "metadata": {
        "id": "qw7wj1AHutWf",
        "colab_type": "code",
        "outputId": "b08459c2-4298-47c8-cc0c-85f42e2de755",
        "colab": {
          "base_uri": "https://localhost:8080/",
          "height": 34
        }
      },
      "source": [
        "z & \"mello\", z | \"mello\""
      ],
      "execution_count": 0,
      "outputs": [
        {
          "output_type": "execute_result",
          "data": {
            "text/plain": [
              "(Set:['e', 'l', 'o'], Set:['h', 'e', 'l', 'o', 'm'])"
            ]
          },
          "metadata": {
            "tags": []
          },
          "execution_count": 76
        }
      ]
    },
    {
      "cell_type": "markdown",
      "metadata": {
        "id": "_s7T5m-X6ePT",
        "colab_type": "text"
      },
      "source": [
        "###Summary: OOP in Python"
      ]
    },
    {
      "cell_type": "markdown",
      "metadata": {
        "id": "s8NdP0odu1zQ",
        "colab_type": "text"
      },
      "source": [
        "*     Class objects provide default behavior\n",
        "    *      Classes support multiple copies, attribute inheritance, and operator overloading\n",
        "    *      The class statement creates a class object and assigns it to a name\n",
        "    *      Assignments inside class statements create class attributes, which export object state and behavior\n",
        "    *      Class methods are nested defs, with special first arguments to receive the instance\n",
        "*     Instance objects are generated from classes\n",
        "    *      Calling a class object like a function makes a new instance object\n",
        "    *      Each instance object inherits class attributes, and gets its own attribute namespace\n",
        "    *      Assignments to the first argument (\"self\") in methods create per-instance attributes\n",
        "*     Inheritance supports specialization\n",
        "    *      Inheritance happens at attribute qualification time: on object.attribute, if object is a class or instance\n",
        "    *      Classes inherit attributes from all classes listed in their class statement header line (superclasses)\n",
        "    *      Instances inherit attributes from the class they are generated from, plus all its superclasses\n",
        "    *      Inheritance searches the instance, then its class, then all accessible superclasses (depth-first, left-to-right)"
      ]
    },
    {
      "cell_type": "markdown",
      "metadata": {
        "id": "WHMf5OJz6xMp",
        "colab_type": "text"
      },
      "source": [
        "##Exceptions"
      ]
    }
  ]
}