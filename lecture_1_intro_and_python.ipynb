{
  "nbformat": 4,
  "nbformat_minor": 0,
  "metadata": {
    "colab": {
      "name": "lecture_1_intro_and_python.ipynb",
      "version": "0.3.2",
      "provenance": [],
      "toc_visible": true,
      "include_colab_link": true
    },
    "kernelspec": {
      "name": "python3",
      "display_name": "Python 3"
    }
  },
  "cells": [
    {
      "cell_type": "markdown",
      "metadata": {
        "id": "view-in-github",
        "colab_type": "text"
      },
      "source": [
        "<a href=\"https://colab.research.google.com/github/fbeilstein/machine_learning/blob/master/lecture_1_intro_and_python.ipynb\" target=\"_parent\"><img src=\"https://colab.research.google.com/assets/colab-badge.svg\" alt=\"Open In Colab\"/></a>"
      ]
    },
    {
      "cell_type": "markdown",
      "metadata": {
        "id": "C1ClpO9ZpPQ7",
        "colab_type": "text"
      },
      "source": [
        "#Introduction"
      ]
    },
    {
      "cell_type": "markdown",
      "metadata": {
        "id": "x1TiA8pQqlCk",
        "colab_type": "text"
      },
      "source": [
        "#Machine learning landscape"
      ]
    },
    {
      "cell_type": "markdown",
      "metadata": {
        "id": "FDf029NSqgfK",
        "colab_type": "text"
      },
      "source": [
        "#Curriculum"
      ]
    },
    {
      "cell_type": "markdown",
      "metadata": {
        "id": "jH8kq00CrP6R",
        "colab_type": "text"
      },
      "source": [
        "**This course will consist of 3 main parts:**\n",
        "\n",
        "\n",
        "  * Intro\n",
        "  * Tools of ML\n",
        "  * Methods of ML\n",
        "---\n",
        "\n",
        "**I expect to cover:**\n",
        "\n",
        "---\n",
        "\n",
        "* Intro\n",
        "    - General Info, Python\n",
        "    - More about Python\n",
        "\n",
        "---\n",
        "\n",
        "  * Tools of ML\n",
        "   - NumPy Arrays\n",
        "   - Pandas\n",
        "   - MatPlotLib\n",
        "\n",
        "---\n",
        "\n",
        "  * Methods of ML\n",
        "    - Naive Bayes Classification\n",
        "    - Linear Regression\n",
        "    - Support Vector Machines\n",
        "    - Decision Trees and Random Forests\n",
        "    - Principal Component Analysis\n",
        "    - Manifold Learning\n",
        "    - k-Means Clustering\n",
        "    - Gaussian Mixture Models\n",
        "    - Kernel Density Estimation\n",
        "    - What's next: NNs and beyond\n"
      ]
    },
    {
      "cell_type": "markdown",
      "metadata": {
        "id": "OGtFUCE0qsPp",
        "colab_type": "text"
      },
      "source": [
        "#Instruments we will use"
      ]
    },
    {
      "cell_type": "markdown",
      "metadata": {
        "id": "GERxafEQq3Us",
        "colab_type": "text"
      },
      "source": [
        "#Python (expected to span for at least two lectures)"
      ]
    },
    {
      "cell_type": "markdown",
      "metadata": {
        "id": "GtUXjg-K6Isv",
        "colab_type": "text"
      },
      "source": [
        "##Types and Operators"
      ]
    },
    {
      "cell_type": "markdown",
      "metadata": {
        "id": "LEz6OAsA9xeg",
        "colab_type": "text"
      },
      "source": [
        "###Big picture"
      ]
    },
    {
      "cell_type": "markdown",
      "metadata": {
        "id": "rQb-oYda6-Oo",
        "colab_type": "text"
      },
      "source": [
        "**Preview: built-in objects**\n",
        " \n",
        "Object type | Example constants/usage\n",
        "---|---\n",
        "Numbers | 3.14, 1234, 999L, 3+4j, decimal\n",
        "Strings | 'spam', \"spam's\"\n",
        "Lists | [1, [2, 'three'], 4]\n",
        "Dictionaries | {'food':'spam', 'taste':'yum'}\n",
        "Tuples | (1,'spam', 4, 'U')\n",
        "Files | text = open('eggs', 'r').read()\n",
        "Others | sets, types, None, bool\n",
        "\n",
        " "
      ]
    },
    {
      "cell_type": "markdown",
      "metadata": {
        "id": "KOo9o26y86UG",
        "colab_type": "text"
      },
      "source": [
        "**Built-in Types**\n",
        "\n",
        "   * Key terms: “sequence”, “immutable”, “mapping”\n",
        "   * Key ideas: no fixed types, no fixed sizes, arbitrary nesting\n",
        "   * Full story: dir(object), help(object.method), manuals"
      ]
    },
    {
      "cell_type": "markdown",
      "metadata": {
        "id": "9jAeqlC09ZbA",
        "colab_type": "text"
      },
      "source": [
        "**Python program structure**\n",
        "\n",
        "   * Programs are composed of modules\n",
        "   * Modules contain statements\n",
        "   * Statements contain expressions\n",
        "   * Expressions create and process objects"
      ]
    },
    {
      "cell_type": "markdown",
      "metadata": {
        "id": "YXCVf2R-9gNc",
        "colab_type": "text"
      },
      "source": [
        "**Why use built-in types?**\n",
        "\n",
        "   * Python provides objects and supports extensions\n",
        "   * Built-in objects make simple programs easy to write\n",
        "   * Built-in objects are components of extensions\n",
        "   * Often more efficient than custom data structures"
      ]
    },
    {
      "cell_type": "markdown",
      "metadata": {
        "id": "VAGK4PhS9vPg",
        "colab_type": "text"
      },
      "source": [
        "###Numbers"
      ]
    },
    {
      "cell_type": "markdown",
      "metadata": {
        "id": "CMXHOEiZ90xQ",
        "colab_type": "text"
      },
      "source": [
        "**Standard types and operators**\n",
        "\n",
        "   * Integer, floating-point, hex/octal constants\n",
        "   * ‘long’ integer type with unlimited precision\n",
        "   * Built-in mathematical functions: ‘pow’, ‘abs’\n",
        "   * Utility modules: ‘random’, ‘math’\n",
        "   * Complex numbers, ‘**’ power operator"
      ]
    },
    {
      "cell_type": "markdown",
      "metadata": {
        "id": "EllIsjiW_ivP",
        "colab_type": "text"
      },
      "source": [
        "**Numeric Python (NumPy)**\n",
        "\n",
        "   * An optional extension, beyond core language\n",
        "   * For advanced numeric programming in Python\n",
        "   * Matrix object, interfaces to numeric libraries, etc.\n",
        "   * Plus SciPy, matplotlib, pypar, IPython shell, others\n",
        "   * Python + NumPy = open source MATLAB alternative"
      ]
    },
    {
      "cell_type": "markdown",
      "metadata": {
        "id": "XOCDrtwa_fg0",
        "colab_type": "text"
      },
      "source": [
        "**Numeric literals**\n",
        " \n",
        "Constant | Interpretation\n",
        "---|---\n",
        "1234, -24 | integers (C longs, 3.X: unlimited size)\n",
        "99999999L | 2.X long integers (unlimited size)\n",
        "1.23, 3.14e-10 | floating-point (C doubles)\n",
        "0o177,0x9f,0b101 | octal, hex, binary integer literals\n",
        "3+4j, 3.0+4.0j | complex number literals\n",
        "Decimal('0.11') | fixed-precision decimal (2.4+)\n",
        "Fraction(2, 3) | rational type (2.6+, 3.0+)"
      ]
    },
    {
      "cell_type": "markdown",
      "metadata": {
        "id": "oSPo6zHi_dCl",
        "colab_type": "text"
      },
      "source": [
        " **Python expressions**\n",
        "\n",
        "   * Usual algebraic operators: ‘+’ , ‘-’, ‘*’, ‘/’, . . .\n",
        "   * C’s bitwise operators: “<<”,  “&”, . . .\n",
        "   * Mixed types: converted up just as in C\n",
        "   * Parenthesis group sub-expressions"
      ]
    },
    {
      "cell_type": "markdown",
      "metadata": {
        "id": "9D8zXWeD_aFw",
        "colab_type": "text"
      },
      "source": [
        "**Numbers in action**\n",
        "\n",
        "   * Variables created when assigned\n",
        "   * Variables replaced with their value when used\n",
        "   * Variables must be assigned before used\n",
        "   * Expression results echoed back\n",
        "   * Mixed integer/float: casts up to float\n",
        "   * Integer division truncates (until 3.X: use // to force)"
      ]
    },
    {
      "cell_type": "code",
      "metadata": {
        "id": "wy7prWoa-3xM",
        "colab_type": "code",
        "outputId": "8bf49b60-bea7-46d2-fb51-faffa506c9c6",
        "colab": {
          "base_uri": "https://localhost:8080/",
          "height": 34
        }
      },
      "source": [
        "a = 3 # name created\n",
        "b = 4\n",
        "b / 2 + a # same as ((4 / 2) + 3)"
      ],
      "execution_count": 0,
      "outputs": [
        {
          "output_type": "execute_result",
          "data": {
            "text/plain": [
              "5.0"
            ]
          },
          "metadata": {
            "tags": []
          },
          "execution_count": 1
        }
      ]
    },
    {
      "cell_type": "code",
      "metadata": {
        "id": "sPupbNT-_CaM",
        "colab_type": "code",
        "outputId": "0c86a91a-4de2-4697-b1ce-6dd60f3b3930",
        "colab": {
          "base_uri": "https://localhost:8080/",
          "height": 34
        }
      },
      "source": [
        "b / (2.0 + a) # same as (4 / (2.0 + 3))"
      ],
      "execution_count": 0,
      "outputs": [
        {
          "output_type": "execute_result",
          "data": {
            "text/plain": [
              "0.8"
            ]
          },
          "metadata": {
            "tags": []
          },
          "execution_count": 2
        }
      ]
    },
    {
      "cell_type": "code",
      "metadata": {
        "id": "QNiEu1zT_Gqm",
        "colab_type": "code",
        "outputId": "9fef19aa-8931-4e4a-a343-4d09b109fdcd",
        "colab": {
          "base_uri": "https://localhost:8080/",
          "height": 34
        }
      },
      "source": [
        "1 / 2, 1 // 2 # / keeps remainder, // does not"
      ],
      "execution_count": 0,
      "outputs": [
        {
          "output_type": "execute_result",
          "data": {
            "text/plain": [
              "(0.5, 0)"
            ]
          },
          "metadata": {
            "tags": []
          },
          "execution_count": 3
        }
      ]
    },
    {
      "cell_type": "code",
      "metadata": {
        "id": "dsI9Tqj0_RdE",
        "colab_type": "code",
        "outputId": "9706f041-e8e1-4aa3-f576-927b4c930013",
        "colab": {
          "base_uri": "https://localhost:8080/",
          "height": 34
        }
      },
      "source": [
        "4 / 5.0"
      ],
      "execution_count": 0,
      "outputs": [
        {
          "output_type": "execute_result",
          "data": {
            "text/plain": [
              "0.8"
            ]
          },
          "metadata": {
            "tags": []
          },
          "execution_count": 4
        }
      ]
    },
    {
      "cell_type": "markdown",
      "metadata": {
        "id": "Cx3CuGQxAHcI",
        "colab_type": "text"
      },
      "source": [
        "###The dynamic typing"
      ]
    },
    {
      "cell_type": "code",
      "metadata": {
        "id": "XQm1uUPWPHM5",
        "colab_type": "code",
        "colab": {}
      },
      "source": [
        "a = 3 # Where are the missing declarations?"
      ],
      "execution_count": 0,
      "outputs": []
    },
    {
      "cell_type": "markdown",
      "metadata": {
        "id": "OHp22-DWAJkE",
        "colab_type": "text"
      },
      "source": [
        "   * Names versus objects\n",
        "\n",
        "   * Names are always “references” (pointers) to objects\n",
        "\n",
        "   * Names are created when first assigned (or so)\n",
        "\n",
        "   * Objects have types, names do not\n",
        "\n",
        "   * Each value is a distinct object (normally)\n",
        "\n",
        "   * Objects are pieces of memory with value + operations\n",
        "\n",
        "   * Shared references to mutables are open to side effects (on purpose)"
      ]
    },
    {
      "cell_type": "code",
      "metadata": {
        "id": "oICSlNgvdmxh",
        "colab_type": "code",
        "outputId": "01e3eb84-32c7-4f27-a2bf-b59d9d8ce995",
        "colab": {
          "base_uri": "https://localhost:8080/",
          "height": 34
        }
      },
      "source": [
        "x = 1\n",
        "x << 2 # shift left 2 bits"
      ],
      "execution_count": 0,
      "outputs": [
        {
          "output_type": "execute_result",
          "data": {
            "text/plain": [
              "4"
            ]
          },
          "metadata": {
            "tags": []
          },
          "execution_count": 13
        }
      ]
    },
    {
      "cell_type": "code",
      "metadata": {
        "id": "wEPqhV3EdqV5",
        "colab_type": "code",
        "outputId": "3109e1b2-0913-4724-d55c-0cd253c1e5d4",
        "colab": {
          "base_uri": "https://localhost:8080/",
          "height": 34
        }
      },
      "source": [
        "x | 2 # bitwise OR"
      ],
      "execution_count": 0,
      "outputs": [
        {
          "output_type": "execute_result",
          "data": {
            "text/plain": [
              "3"
            ]
          },
          "metadata": {
            "tags": []
          },
          "execution_count": 14
        }
      ]
    },
    {
      "cell_type": "code",
      "metadata": {
        "id": "CZ0NnhE4dtwh",
        "colab_type": "code",
        "outputId": "728179eb-bb0d-4cfc-8166-b5d54e9d4791",
        "colab": {
          "base_uri": "https://localhost:8080/",
          "height": 34
        }
      },
      "source": [
        "x & 1 # bitwise AND"
      ],
      "execution_count": 0,
      "outputs": [
        {
          "output_type": "execute_result",
          "data": {
            "text/plain": [
              "1"
            ]
          },
          "metadata": {
            "tags": []
          },
          "execution_count": 15
        }
      ]
    },
    {
      "cell_type": "markdown",
      "metadata": {
        "id": "1G-vdBEPdjEq",
        "colab_type": "text"
      },
      "source": [
        "**Long integers**\n",
        "\n",
        "   * int in 3.X Python\n",
        "   * Via ‘L’ suffix\n",
        "   * Some performance penalty\n",
        "   * Auto-converted to long if too big (“L” optional)"
      ]
    },
    {
      "cell_type": "code",
      "metadata": {
        "id": "d8iAP3FVdMws",
        "colab_type": "code",
        "outputId": "ea661095-f65c-4c72-fe08-502cf9fdf716",
        "colab": {
          "base_uri": "https://localhost:8080/",
          "height": 34
        }
      },
      "source": [
        "9999999999999999999999999999 + 1"
      ],
      "execution_count": 0,
      "outputs": [
        {
          "output_type": "execute_result",
          "data": {
            "text/plain": [
              "10000000000000000000000000000"
            ]
          },
          "metadata": {
            "tags": []
          },
          "execution_count": 12
        }
      ]
    },
    {
      "cell_type": "markdown",
      "metadata": {
        "id": "ci6BCWAZS22T",
        "colab_type": "text"
      },
      "source": [
        "**Decimal and Fraction extension types**"
      ]
    },
    {
      "cell_type": "code",
      "metadata": {
        "id": "ZKbKuc1USutm",
        "colab_type": "code",
        "outputId": "22253b2a-8870-4b3a-8d5d-124d2f86c075",
        "colab": {
          "base_uri": "https://localhost:8080/",
          "height": 34
        }
      },
      "source": [
        "0.1 + 0.1 + 0.1 - 0.3 "
      ],
      "execution_count": 0,
      "outputs": [
        {
          "output_type": "execute_result",
          "data": {
            "text/plain": [
              "5.551115123125783e-17"
            ]
          },
          "metadata": {
            "tags": []
          },
          "execution_count": 11
        }
      ]
    },
    {
      "cell_type": "code",
      "metadata": {
        "id": "gviLsQbXScPW",
        "colab_type": "code",
        "outputId": "0ba807fa-e548-4390-d8a3-c6fc48f91a08",
        "colab": {
          "base_uri": "https://localhost:8080/",
          "height": 34
        }
      },
      "source": [
        "from decimal import Decimal\n",
        "\n",
        "Decimal('0.1') + Decimal('0.1') + Decimal('0.1') - Decimal('0.3')"
      ],
      "execution_count": 0,
      "outputs": [
        {
          "output_type": "execute_result",
          "data": {
            "text/plain": [
              "Decimal('0.0')"
            ]
          },
          "metadata": {
            "tags": []
          },
          "execution_count": 9
        }
      ]
    },
    {
      "cell_type": "code",
      "metadata": {
        "id": "bcHCspc9SfjT",
        "colab_type": "code",
        "outputId": "84a80fa2-f42c-4dc9-c097-071dfe79a21e",
        "colab": {
          "base_uri": "https://localhost:8080/",
          "height": 34
        }
      },
      "source": [
        "Decimal('0.1') + Decimal('0.10') + Decimal('0.10') - Decimal('0.30')"
      ],
      "execution_count": 0,
      "outputs": [
        {
          "output_type": "execute_result",
          "data": {
            "text/plain": [
              "Decimal('0.00')"
            ]
          },
          "metadata": {
            "tags": []
          },
          "execution_count": 10
        }
      ]
    },
    {
      "cell_type": "code",
      "metadata": {
        "id": "zXJidzvMRzSW",
        "colab_type": "code",
        "outputId": "05c177a4-99fa-46af-8415-9fac22905649",
        "colab": {
          "base_uri": "https://localhost:8080/",
          "height": 34
        }
      },
      "source": [
        "from fractions import Fraction\n",
        "\n",
        "Fraction(1, 3) + Fraction(2, 8)"
      ],
      "execution_count": 0,
      "outputs": [
        {
          "output_type": "execute_result",
          "data": {
            "text/plain": [
              "Fraction(7, 12)"
            ]
          },
          "metadata": {
            "tags": []
          },
          "execution_count": 7
        }
      ]
    },
    {
      "cell_type": "code",
      "metadata": {
        "id": "8FImnn0bRq6Y",
        "colab_type": "code",
        "outputId": "082d885e-a14e-4645-ccd1-ca6699397644",
        "colab": {
          "base_uri": "https://localhost:8080/",
          "height": 34
        }
      },
      "source": [
        "Fraction(1, 10) + Fraction(1, 10) + Fraction(1, 10) - Fraction(3, 10)"
      ],
      "execution_count": 0,
      "outputs": [
        {
          "output_type": "execute_result",
          "data": {
            "text/plain": [
              "Fraction(0, 1)"
            ]
          },
          "metadata": {
            "tags": []
          },
          "execution_count": 8
        }
      ]
    },
    {
      "cell_type": "markdown",
      "metadata": {
        "id": "rcRZF0wnRAms",
        "colab_type": "text"
      },
      "source": [
        "**Python operators and precedence**\n",
        "\n",
        "   * Operators lower in table bind tighter (parens force order)\n",
        "   * Preview: all Python operators may be overloaded by Python classes and C extension types\n",
        "   * Added in Python 2.0: +=. *=, &=, …  augmented assignment statements, not operators\n",
        "   * Python 3.X: `X` → repr(X), X / Y → true div, X <> Y → X != Y\n",
        "   * Recent operator/expression additions:"
      ]
    },
    {
      "cell_type": "markdown",
      "metadata": {
        "id": "-XHjIEb4gO2b",
        "colab_type": "text"
      },
      "source": [
        "Operators | Description\n",
        "---|---\n",
        "x if y else z | Ternary if, same as 4-line if/else statement\n",
        "yield [from] x | Generator function’s iteration result (return can send one too)\n",
        "await x | For 3.5+ async def coroutines\n",
        "x @ y | Matrix multiply in 3.5+ (but not used by core Python itself!)\n",
        "[x, *iter] | Unpacks (flattens) objects in literals in 3.5+"
      ]
    },
    {
      "cell_type": "markdown",
      "metadata": {
        "id": "ljqX1MGTgMYU",
        "colab_type": "text"
      },
      "source": [
        "Operators | Description\n",
        "---|---\n",
        "x or y, lambda args: expr | Logical ‘or’ (y is only evaluated if x is false), anonymous function\n",
        "x and y | Logical ‘and’ (y is only evaluated if x is true)\n",
        "not x | Logical negation\n",
        "<, <=, >, >=, ==, <>, !=, is, is not, in, not in | Comparison operators, sequence membership\n",
        "x \\| y | Bitwise ‘or’\n",
        "x ^ y | Bitwise ‘exclusive or’\n",
        "x & y | Bitwise ‘and’\n",
        "x << y, x >> y | Shift x left or right by y bits\n",
        "x + y, x – y | Addition/concatenation, subtraction\n",
        "x * y, x / y, x % y, x // y | Multiply/repetition, divide, remainder/format, floor divide\n",
        "x ** y, -x, +x, ~x | Power, unary negation, identity, bitwise compliment\n",
        "x[i], x[i:j], x.y, x(...) | Indexing, slicing, qualification, function calls\n",
        "(...), [...], {...}, `...` | Tuple, list, dictionary, conversion to string"
      ]
    },
    {
      "cell_type": "markdown",
      "metadata": {
        "id": "OQSymqWXbzCF",
        "colab_type": "text"
      },
      "source": [
        "###Strings"
      ]
    },
    {
      "cell_type": "markdown",
      "metadata": {
        "id": "HoCcrdImgnRX",
        "colab_type": "text"
      },
      "source": [
        "*     Ordered collections of characters\n",
        "*     No char in Python, just 1-character strings\n",
        "*     Constants, operators, utility modules (string, re)\n",
        "*     Strings are immutable sequences\n",
        "*     See re module for pattern-based text processing"
      ]
    },
    {
      "cell_type": "markdown",
      "metadata": {
        "id": "hiSocFMHgzxI",
        "colab_type": "text"
      },
      "source": [
        "About Unicode support: this section covers basic, ASCII text strings. In 3.X, strings are always Unicode and support encoding to bytes, and bytes strings represent truly binary 8-bit data and support decoding to strings. In 2.X, strings are essentially the same as 3.X bytes strings (containing just 8-bit characters), and Unicode is a special type similar to 3.X strings."
      ]
    },
    {
      "cell_type": "markdown",
      "metadata": {
        "id": "EIJdYNXJbhDU",
        "colab_type": "text"
      },
      "source": [
        "**Common string operations**\n",
        "\n",
        "Operation |\t Interpretation\n",
        "---|---\n",
        "s1 = '' |\tsingle quotes (empty)\n",
        "s2 = \"spam's\" |\tdouble quotes (same)\n",
        "block = \"\"\"...\"\"\" |\ttriple-quoted blocks, can span multiple lines\n",
        "r'C:\\new\\text\\file.txt' |\traw strings (\\ kept)\n",
        "s1 + s2, s2 * 3 |\tconcatenate, repeat\n",
        "s2[i], s2[i:j], s[i:j:k], len(s2) |\tindex, slice, length\n",
        "'a %s parrot' % 'dead' 'a {} parrot'.format('dead') |\tstring formatting: original, 2.6+ option\n",
        "u'A\\xC4B', 'A\\xC4B' |\tUnicode: 2.X, 3.X\n",
        "b'\\x00spam\\x01' |\tbytes: 3.X (and 2.X)\n",
        "f'we get {spam} a lot' |\tformats: 3.6?\n",
        "for x in s2, 'm' in s2 |\titeration/membership"
      ]
    },
    {
      "cell_type": "markdown",
      "metadata": {
        "id": "RfHGLuUA4U2p",
        "colab_type": "text"
      },
      "source": [
        "**Newer extensions**\n",
        "\n",
        "*    String methods:\n",
        "X.split('+') same as older string.split(X, '+')\n",
        "string module requires import, methods do not\n",
        "methods now faster, preferred to string module\n",
        "*    Unicode strings:\n",
        "Multi-byte characters, for internationalization (I18N)\n",
        "U'xxxx' constants, Unicode modules, auto conversions\n",
        "Can mix with normal strings, or convert: str(U), unicode(S)\n",
        "Varies in 3.X: see note box above for more details\n",
        "*    Template formatting: string module, see ahead\n",
        "*    String .format() method: largely redundant with %"
      ]
    },
    {
      "cell_type": "markdown",
      "metadata": {
        "id": "VhoeOtWL4YnY",
        "colab_type": "text"
      },
      "source": [
        "**Strings in action**"
      ]
    },
    {
      "cell_type": "code",
      "metadata": {
        "id": "NEUACvc0bhDV",
        "colab_type": "code",
        "outputId": "f06d1709-38ee-4640-cb42-89143c999689",
        "colab": {
          "base_uri": "https://localhost:8080/",
          "height": 34
        }
      },
      "source": [
        "'abc' + 'def' # concatenation: a new string"
      ],
      "execution_count": 0,
      "outputs": [
        {
          "output_type": "execute_result",
          "data": {
            "text/plain": [
              "'abcdef'"
            ]
          },
          "metadata": {
            "tags": []
          },
          "execution_count": 1
        }
      ]
    },
    {
      "cell_type": "code",
      "metadata": {
        "id": "Siba8lTE4n5E",
        "colab_type": "code",
        "outputId": "dcc96cd3-edca-4a17-d437-0b83e1e0e737",
        "colab": {
          "base_uri": "https://localhost:8080/",
          "height": 34
        }
      },
      "source": [
        "'Ni!' * 4 # like \"Ni!\" + \"Ni!\" + ..."
      ],
      "execution_count": 0,
      "outputs": [
        {
          "output_type": "execute_result",
          "data": {
            "text/plain": [
              "'Ni!Ni!Ni!Ni!'"
            ]
          },
          "metadata": {
            "tags": []
          },
          "execution_count": 2
        }
      ]
    },
    {
      "cell_type": "markdown",
      "metadata": {
        "id": "iAtp7Ck1bhDX",
        "colab_type": "text"
      },
      "source": [
        "**Indexing and slicing**"
      ]
    },
    {
      "cell_type": "code",
      "metadata": {
        "id": "1XVztVCjbhDX",
        "colab_type": "code",
        "outputId": "27f616e5-a2fb-4b57-b38c-f2b8e4b0b846",
        "colab": {
          "base_uri": "https://localhost:8080/",
          "height": 34
        }
      },
      "source": [
        "S = 'spam'\n",
        "S[0], S[-2] # indexing from from or end"
      ],
      "execution_count": 0,
      "outputs": [
        {
          "output_type": "execute_result",
          "data": {
            "text/plain": [
              "('s', 'a')"
            ]
          },
          "metadata": {
            "tags": []
          },
          "execution_count": 3
        }
      ]
    },
    {
      "cell_type": "code",
      "metadata": {
        "id": "fTuOuryj4uN4",
        "colab_type": "code",
        "outputId": "ec62c561-ba87-4bd0-eadb-0d9f2021f67e",
        "colab": {
          "base_uri": "https://localhost:8080/",
          "height": 34
        }
      },
      "source": [
        "S[1:3], S[1:], S[:-1] # slicing: extract section"
      ],
      "execution_count": 0,
      "outputs": [
        {
          "output_type": "execute_result",
          "data": {
            "text/plain": [
              "('pa', 'pam', 'spa')"
            ]
          },
          "metadata": {
            "tags": []
          },
          "execution_count": 4
        }
      ]
    },
    {
      "cell_type": "markdown",
      "metadata": {
        "id": "4CzKrzUlbhDZ",
        "colab_type": "text"
      },
      "source": [
        "**Changing and formatting**"
      ]
    },
    {
      "cell_type": "code",
      "metadata": {
        "id": "Fax2MYwmbhDa",
        "colab_type": "code",
        "outputId": "aa2a136a-0f07-4107-e183-5c6e59620904",
        "colab": {
          "base_uri": "https://localhost:8080/",
          "height": 34
        }
      },
      "source": [
        "S = S + 'Spam!' # to change a string, make a new one\n",
        "S"
      ],
      "execution_count": 0,
      "outputs": [
        {
          "output_type": "execute_result",
          "data": {
            "text/plain": [
              "'spamSpam!'"
            ]
          },
          "metadata": {
            "tags": []
          },
          "execution_count": 5
        }
      ]
    },
    {
      "cell_type": "code",
      "metadata": {
        "id": "VFiXe-IJ40zA",
        "colab_type": "code",
        "outputId": "7f5667d8-2e0f-4bd9-cb6f-8845d7e7887d",
        "colab": {
          "base_uri": "https://localhost:8080/",
          "height": 34
        }
      },
      "source": [
        "'That is %d %s bird!' % (1, 'dead') # like C sprintf"
      ],
      "execution_count": 0,
      "outputs": [
        {
          "output_type": "execute_result",
          "data": {
            "text/plain": [
              "'That is 1 dead bird!'"
            ]
          },
          "metadata": {
            "tags": []
          },
          "execution_count": 6
        }
      ]
    },
    {
      "cell_type": "markdown",
      "metadata": {
        "id": "aCH8bVn4bhDc",
        "colab_type": "text"
      },
      "source": [
        "**Advanced formatting examples**"
      ]
    },
    {
      "cell_type": "code",
      "metadata": {
        "id": "qiTR4RND5EoX",
        "colab_type": "code",
        "outputId": "4b64f61d-9c0c-4886-946f-b28375247b99",
        "colab": {
          "base_uri": "https://localhost:8080/",
          "height": 34
        }
      },
      "source": [
        "x = 1234\n",
        "res = \"integers: ...%d...%-6d...%06d\" % (x, x, x)\n",
        "res"
      ],
      "execution_count": 0,
      "outputs": [
        {
          "output_type": "execute_result",
          "data": {
            "text/plain": [
              "'integers: ...1234...1234  ...001234'"
            ]
          },
          "metadata": {
            "tags": []
          },
          "execution_count": 7
        }
      ]
    },
    {
      "cell_type": "code",
      "metadata": {
        "id": "RTn61FJi5KHH",
        "colab_type": "code",
        "outputId": "6005c506-94a6-48f6-ae92-485dd1461516",
        "colab": {
          "base_uri": "https://localhost:8080/",
          "height": 34
        }
      },
      "source": [
        "x = 1.23456789\n",
        "x"
      ],
      "execution_count": 0,
      "outputs": [
        {
          "output_type": "execute_result",
          "data": {
            "text/plain": [
              "1.23456789"
            ]
          },
          "metadata": {
            "tags": []
          },
          "execution_count": 8
        }
      ]
    },
    {
      "cell_type": "code",
      "metadata": {
        "id": "c7JZ1_8r5MmP",
        "colab_type": "code",
        "outputId": "828c655d-90ed-4360-8ff0-bbffb57224e2",
        "colab": {
          "base_uri": "https://localhost:8080/",
          "height": 34
        }
      },
      "source": [
        "'%e | %f | %g' % (x, x, x)"
      ],
      "execution_count": 0,
      "outputs": [
        {
          "output_type": "execute_result",
          "data": {
            "text/plain": [
              "'1.234568e+00 | 1.234568 | 1.23457'"
            ]
          },
          "metadata": {
            "tags": []
          },
          "execution_count": 9
        }
      ]
    },
    {
      "cell_type": "code",
      "metadata": {
        "id": "T4ASMreW5QPn",
        "colab_type": "code",
        "outputId": "598fe2dd-b238-4757-b3d7-d103086aa4c2",
        "colab": {
          "base_uri": "https://localhost:8080/",
          "height": 34
        }
      },
      "source": [
        "'%-6.2f | %05.2f | %+06.1f' % (x, x, x)"
      ],
      "execution_count": 0,
      "outputs": [
        {
          "output_type": "execute_result",
          "data": {
            "text/plain": [
              "'1.23   | 01.23 | +001.2'"
            ]
          },
          "metadata": {
            "tags": []
          },
          "execution_count": 10
        }
      ]
    },
    {
      "cell_type": "code",
      "metadata": {
        "id": "pbChgyGN5rM_",
        "colab_type": "code",
        "outputId": "ad1597cd-59dd-4e71-d495-9ba71f0c5133",
        "colab": {
          "base_uri": "https://localhost:8080/",
          "height": 34
        }
      },
      "source": [
        "int(x)"
      ],
      "execution_count": 0,
      "outputs": [
        {
          "output_type": "execute_result",
          "data": {
            "text/plain": [
              "1"
            ]
          },
          "metadata": {
            "tags": []
          },
          "execution_count": 11
        }
      ]
    },
    {
      "cell_type": "code",
      "metadata": {
        "id": "Z5jUo1od5uFX",
        "colab_type": "code",
        "outputId": "2f2267cb-e793-4ab0-b50d-e8a8abb91933",
        "colab": {
          "base_uri": "https://localhost:8080/",
          "height": 34
        }
      },
      "source": [
        "round(x, 2)"
      ],
      "execution_count": 0,
      "outputs": [
        {
          "output_type": "execute_result",
          "data": {
            "text/plain": [
              "1.23"
            ]
          },
          "metadata": {
            "tags": []
          },
          "execution_count": 12
        }
      ]
    },
    {
      "cell_type": "code",
      "metadata": {
        "id": "-ujssWai50Yo",
        "colab_type": "code",
        "outputId": "66007217-932c-43df-d505-527e82c83f7b",
        "colab": {
          "base_uri": "https://localhost:8080/",
          "height": 34
        }
      },
      "source": [
        "round(x, 4)"
      ],
      "execution_count": 0,
      "outputs": [
        {
          "output_type": "execute_result",
          "data": {
            "text/plain": [
              "1.2346"
            ]
          },
          "metadata": {
            "tags": []
          },
          "execution_count": 13
        }
      ]
    },
    {
      "cell_type": "code",
      "metadata": {
        "id": "c4G4ThiW545n",
        "colab_type": "code",
        "outputId": "7383d02b-c848-446a-c735-9f52fc362f6b",
        "colab": {
          "base_uri": "https://localhost:8080/",
          "height": 34
        }
      },
      "source": [
        "\"%o %x %X\" % (64, 64, 255)"
      ],
      "execution_count": 0,
      "outputs": [
        {
          "output_type": "execute_result",
          "data": {
            "text/plain": [
              "'100 40 FF'"
            ]
          },
          "metadata": {
            "tags": []
          },
          "execution_count": 14
        }
      ]
    },
    {
      "cell_type": "code",
      "metadata": {
        "id": "XgXql9uc58fo",
        "colab_type": "code",
        "outputId": "24072c59-f362-4a77-b09b-3eb0835cafe9",
        "colab": {
          "base_uri": "https://localhost:8080/",
          "height": 34
        }
      },
      "source": [
        "hex(255), int('0xff', 16), eval('0xFF')"
      ],
      "execution_count": 0,
      "outputs": [
        {
          "output_type": "execute_result",
          "data": {
            "text/plain": [
              "('0xff', 255, 255)"
            ]
          },
          "metadata": {
            "tags": []
          },
          "execution_count": 15
        }
      ]
    },
    {
      "cell_type": "code",
      "metadata": {
        "id": "KlaxmhK45-MX",
        "colab_type": "code",
        "outputId": "29ca3e21-f08c-4162-a897-a4af8a90ceee",
        "colab": {
          "base_uri": "https://localhost:8080/",
          "height": 34
        }
      },
      "source": [
        "ord('s'), chr(115)"
      ],
      "execution_count": 0,
      "outputs": [
        {
          "output_type": "execute_result",
          "data": {
            "text/plain": [
              "(115, 's')"
            ]
          },
          "metadata": {
            "tags": []
          },
          "execution_count": 16
        }
      ]
    },
    {
      "cell_type": "markdown",
      "metadata": {
        "id": "G-6NkZdC6Acv",
        "colab_type": "text"
      },
      "source": [
        "**Formatting with dictionaries**"
      ]
    },
    {
      "cell_type": "code",
      "metadata": {
        "id": "Ebdbfv5v6kZf",
        "colab_type": "code",
        "outputId": "c4b636b1-393a-4a84-9b04-d886c6db0703",
        "colab": {
          "base_uri": "https://localhost:8080/",
          "height": 34
        }
      },
      "source": [
        "D = {'xx': 1, 'yy': 2}\n",
        "\"%(xx)d => %(yy)s\" % D"
      ],
      "execution_count": 0,
      "outputs": [
        {
          "output_type": "execute_result",
          "data": {
            "text/plain": [
              "'1 => 2'"
            ]
          },
          "metadata": {
            "tags": []
          },
          "execution_count": 17
        }
      ]
    },
    {
      "cell_type": "code",
      "metadata": {
        "id": "Q1l76yjv6oqH",
        "colab_type": "code",
        "outputId": "9102fcaa-3a79-4469-f5d6-4ffb098d3ad2",
        "colab": {
          "base_uri": "https://localhost:8080/",
          "height": 34
        }
      },
      "source": [
        "aa = 3\n",
        "bb = 4\n",
        "\"%(aa)d => %(bb)s\" % vars()"
      ],
      "execution_count": 0,
      "outputs": [
        {
          "output_type": "execute_result",
          "data": {
            "text/plain": [
              "'3 => 4'"
            ]
          },
          "metadata": {
            "tags": []
          },
          "execution_count": 18
        }
      ]
    },
    {
      "cell_type": "code",
      "metadata": {
        "id": "zIvxDkm66vLX",
        "colab_type": "code",
        "outputId": "65796192-0dd6-4c2c-d790-7fe9be7435e7",
        "colab": {
          "base_uri": "https://localhost:8080/",
          "height": 102
        }
      },
      "source": [
        "reply = \"\"\"\n",
        "Greetings...\n",
        "Hello %(name)s!\n",
        "Your age squared is %(age)s\n",
        "\"\"\"\n",
        "values = {'name': 'Bob', 'age': 40}\n",
        "print(reply % values)"
      ],
      "execution_count": 0,
      "outputs": [
        {
          "output_type": "stream",
          "text": [
            "\n",
            "Greetings...\n",
            "Hello Bob!\n",
            "Your age squared is 40\n",
            "\n"
          ],
          "name": "stdout"
        }
      ]
    },
    {
      "cell_type": "markdown",
      "metadata": {
        "id": "lNqxk4Ar62CZ",
        "colab_type": "text"
      },
      "source": [
        "**Formatting method**"
      ]
    },
    {
      "cell_type": "code",
      "metadata": {
        "id": "UVxJo5Ri9nbQ",
        "colab_type": "code",
        "outputId": "1951afb5-6873-4c48-9ee5-029f2885b1c0",
        "colab": {
          "base_uri": "https://localhost:8080/",
          "height": 34
        }
      },
      "source": [
        "'{} {}'.format(42, 'spam')"
      ],
      "execution_count": 0,
      "outputs": [
        {
          "output_type": "execute_result",
          "data": {
            "text/plain": [
              "'42 spam'"
            ]
          },
          "metadata": {
            "tags": []
          },
          "execution_count": 20
        }
      ]
    },
    {
      "cell_type": "code",
      "metadata": {
        "id": "7YRSKueD9pS5",
        "colab_type": "code",
        "outputId": "263e0072-71b8-4b6f-efb4-62808330a044",
        "colab": {
          "base_uri": "https://localhost:8080/",
          "height": 34
        }
      },
      "source": [
        "'{0:.2f}'.format(1.234)"
      ],
      "execution_count": 0,
      "outputs": [
        {
          "output_type": "execute_result",
          "data": {
            "text/plain": [
              "'1.23'"
            ]
          },
          "metadata": {
            "tags": []
          },
          "execution_count": 21
        }
      ]
    },
    {
      "cell_type": "code",
      "metadata": {
        "id": "EvdeQDi0bhDf",
        "colab_type": "code",
        "outputId": "cfff68ab-fcb1-4ebc-d8ba-93d340edbd2b",
        "colab": {
          "base_uri": "https://localhost:8080/",
          "height": 34
        }
      },
      "source": [
        "'{0:,.2f}'.format(1234567.234)"
      ],
      "execution_count": 0,
      "outputs": [
        {
          "output_type": "execute_result",
          "data": {
            "text/plain": [
              "'1,234,567.23'"
            ]
          },
          "metadata": {
            "tags": []
          },
          "execution_count": 22
        }
      ]
    },
    {
      "cell_type": "markdown",
      "metadata": {
        "id": "6ms9KiBR9t1O",
        "colab_type": "text"
      },
      "source": [
        "**Template formatting**"
      ]
    },
    {
      "cell_type": "code",
      "metadata": {
        "id": "n8KyecDB9zhn",
        "colab_type": "code",
        "outputId": "30f269c9-bee3-4111-b7a9-61e7a33c6dd6",
        "colab": {
          "base_uri": "https://localhost:8080/",
          "height": 34
        }
      },
      "source": [
        "('%(page)i: %(title)s' % {'page':2, 'title': 'The Best of Times'})"
      ],
      "execution_count": 0,
      "outputs": [
        {
          "output_type": "execute_result",
          "data": {
            "text/plain": [
              "'2: The Best of Times'"
            ]
          },
          "metadata": {
            "tags": []
          },
          "execution_count": 23
        }
      ]
    },
    {
      "cell_type": "code",
      "metadata": {
        "id": "-DF3Udat94bw",
        "colab_type": "code",
        "outputId": "4fc96975-186d-4c1c-cd74-72b0710e76b7",
        "colab": {
          "base_uri": "https://localhost:8080/",
          "height": 34
        }
      },
      "source": [
        "import string\n",
        "t = string.Template('$page: $title')\n",
        "t.substitute({'page':2, 'title': 'The Best of Times'})"
      ],
      "execution_count": 0,
      "outputs": [
        {
          "output_type": "execute_result",
          "data": {
            "text/plain": [
              "'2: The Best of Times'"
            ]
          },
          "metadata": {
            "tags": []
          },
          "execution_count": 24
        }
      ]
    },
    {
      "cell_type": "code",
      "metadata": {
        "id": "hiAuDxoi97f_",
        "colab_type": "code",
        "outputId": "297276a1-0420-4186-a1d7-23d894c9bc3c",
        "colab": {
          "base_uri": "https://localhost:8080/",
          "height": 34
        }
      },
      "source": [
        "s = string.Template('$who likes $what')\n",
        "s.substitute(who='bob', what=3.14)"
      ],
      "execution_count": 0,
      "outputs": [
        {
          "output_type": "execute_result",
          "data": {
            "text/plain": [
              "'bob likes 3.14'"
            ]
          },
          "metadata": {
            "tags": []
          },
          "execution_count": 27
        }
      ]
    },
    {
      "cell_type": "code",
      "metadata": {
        "id": "ur2uYXULbhDh",
        "colab_type": "code",
        "outputId": "5eb06ca9-ec42-4546-c86a-089a5689c26c",
        "colab": {
          "base_uri": "https://localhost:8080/",
          "height": 34
        }
      },
      "source": [
        "s.substitute(dict(who='bob', what=3.14))"
      ],
      "execution_count": 0,
      "outputs": [
        {
          "output_type": "execute_result",
          "data": {
            "text/plain": [
              "'bob likes 3.14'"
            ]
          },
          "metadata": {
            "tags": []
          },
          "execution_count": 28
        }
      ]
    },
    {
      "cell_type": "markdown",
      "metadata": {
        "id": "Su4mM1KAbhDi",
        "colab_type": "text"
      },
      "source": [
        "**Common string tools**"
      ]
    },
    {
      "cell_type": "code",
      "metadata": {
        "id": "eHVa9Gki-TKf",
        "colab_type": "code",
        "outputId": "f0e2dc15-8fc7-40fd-a350-fb632e7d0ea3",
        "colab": {
          "base_uri": "https://localhost:8080/",
          "height": 34
        }
      },
      "source": [
        "S = \"spammify\"\n",
        "S.upper() # convert to uppercase"
      ],
      "execution_count": 0,
      "outputs": [
        {
          "output_type": "execute_result",
          "data": {
            "text/plain": [
              "'SPAMMIFY'"
            ]
          },
          "metadata": {
            "tags": []
          },
          "execution_count": 29
        }
      ]
    },
    {
      "cell_type": "code",
      "metadata": {
        "id": "fySMhl9x-WTX",
        "colab_type": "code",
        "outputId": "5786f989-c250-4f60-f20f-29991e7500a0",
        "colab": {
          "base_uri": "https://localhost:8080/",
          "height": 34
        }
      },
      "source": [
        "S.find(\"mm\") # return index of substring"
      ],
      "execution_count": 0,
      "outputs": [
        {
          "output_type": "execute_result",
          "data": {
            "text/plain": [
              "3"
            ]
          },
          "metadata": {
            "tags": []
          },
          "execution_count": 30
        }
      ]
    },
    {
      "cell_type": "code",
      "metadata": {
        "id": "1U8Gu2-C-Y27",
        "colab_type": "code",
        "outputId": "eb4e0df7-fe44-4680-c19f-9a387a7ef6b0",
        "colab": {
          "base_uri": "https://localhost:8080/",
          "height": 34
        }
      },
      "source": [
        "int(\"42\"), str(42) # convert from/to string"
      ],
      "execution_count": 0,
      "outputs": [
        {
          "output_type": "execute_result",
          "data": {
            "text/plain": [
              "(42, '42')"
            ]
          },
          "metadata": {
            "tags": []
          },
          "execution_count": 31
        }
      ]
    },
    {
      "cell_type": "code",
      "metadata": {
        "id": "XU8jqrVv-cNG",
        "colab_type": "code",
        "outputId": "a10dfe9f-be0c-4320-a94a-ce771e1b9c61",
        "colab": {
          "base_uri": "https://localhost:8080/",
          "height": 34
        }
      },
      "source": [
        "S.split('mm') # splitting and joining"
      ],
      "execution_count": 0,
      "outputs": [
        {
          "output_type": "execute_result",
          "data": {
            "text/plain": [
              "['spa', 'ify']"
            ]
          },
          "metadata": {
            "tags": []
          },
          "execution_count": 32
        }
      ]
    },
    {
      "cell_type": "code",
      "metadata": {
        "id": "zDGkCjHPbhDj",
        "colab_type": "code",
        "outputId": "8cab569f-922e-4454-ecb6-4e12160bf645",
        "colab": {
          "base_uri": "https://localhost:8080/",
          "height": 34
        }
      },
      "source": [
        "'XX'.join(S.split(\"mm\"))"
      ],
      "execution_count": 0,
      "outputs": [
        {
          "output_type": "execute_result",
          "data": {
            "text/plain": [
              "'spaXXify'"
            ]
          },
          "metadata": {
            "tags": []
          },
          "execution_count": 34
        }
      ]
    },
    {
      "cell_type": "markdown",
      "metadata": {
        "id": "Y7HFAdz4-gEe",
        "colab_type": "text"
      },
      "source": [
        "**Example: replacing text**"
      ]
    },
    {
      "cell_type": "code",
      "metadata": {
        "id": "UJQZIlZjGgy3",
        "colab_type": "code",
        "outputId": "5b6f1102-6e73-4d3f-f17c-fad6fd95d366",
        "colab": {
          "base_uri": "https://localhost:8080/",
          "height": 34
        }
      },
      "source": [
        "# replace method\n",
        "S = 'spammy'\n",
        "S = S.replace('mm', 'xx')\n",
        "S"
      ],
      "execution_count": 0,
      "outputs": [
        {
          "output_type": "execute_result",
          "data": {
            "text/plain": [
              "'spaxxy'"
            ]
          },
          "metadata": {
            "tags": []
          },
          "execution_count": 35
        }
      ]
    },
    {
      "cell_type": "code",
      "metadata": {
        "id": "47GVDOT2Gj7d",
        "colab_type": "code",
        "outputId": "f1645819-dc66-4f3b-ddc6-fdeddc39788f",
        "colab": {
          "base_uri": "https://localhost:8080/",
          "height": 34
        }
      },
      "source": [
        "S = 'xxxxSPAMxxxxSPAMxxxx'\n",
        "S.replace('SPAM', 'EGG') # replace all"
      ],
      "execution_count": 0,
      "outputs": [
        {
          "output_type": "execute_result",
          "data": {
            "text/plain": [
              "'xxxxEGGxxxxEGGxxxx'"
            ]
          },
          "metadata": {
            "tags": []
          },
          "execution_count": 36
        }
      ]
    },
    {
      "cell_type": "code",
      "metadata": {
        "id": "EUBs42qJGnYU",
        "colab_type": "code",
        "outputId": "82270a4e-46f7-4f88-e785-65ec92e2e426",
        "colab": {
          "base_uri": "https://localhost:8080/",
          "height": 34
        }
      },
      "source": [
        "# finding and slicing\n",
        "S = 'xxxxSPAMxxxxSPAMxxxx'\n",
        "where = S.find('SPAM') # search for position\n",
        "where # occurs at offset 4"
      ],
      "execution_count": 0,
      "outputs": [
        {
          "output_type": "execute_result",
          "data": {
            "text/plain": [
              "4"
            ]
          },
          "metadata": {
            "tags": []
          },
          "execution_count": 37
        }
      ]
    },
    {
      "cell_type": "code",
      "metadata": {
        "id": "UzgEzD7mGrJs",
        "colab_type": "code",
        "outputId": "65d950c9-d8e1-462d-a0b0-1d125decd977",
        "colab": {
          "base_uri": "https://localhost:8080/",
          "height": 34
        }
      },
      "source": [
        "S = S[:where] + 'EGGS' + S[(where+4):]\n",
        "S"
      ],
      "execution_count": 0,
      "outputs": [
        {
          "output_type": "execute_result",
          "data": {
            "text/plain": [
              "'xxxxEGGSxxxxSPAMxxxx'"
            ]
          },
          "metadata": {
            "tags": []
          },
          "execution_count": 38
        }
      ]
    },
    {
      "cell_type": "code",
      "metadata": {
        "id": "sFvQDpRvGvV4",
        "colab_type": "code",
        "outputId": "c634e900-f0ee-4412-9326-4d825a700788",
        "colab": {
          "base_uri": "https://localhost:8080/",
          "height": 34
        }
      },
      "source": [
        "# exploding to/from list\n",
        "S = 'spammy'\n",
        "L = list(S) # explode to list\n",
        "L"
      ],
      "execution_count": 0,
      "outputs": [
        {
          "output_type": "execute_result",
          "data": {
            "text/plain": [
              "['s', 'p', 'a', 'm', 'm', 'y']"
            ]
          },
          "metadata": {
            "tags": []
          },
          "execution_count": 39
        }
      ]
    },
    {
      "cell_type": "code",
      "metadata": {
        "id": "azg7XVV_GyVV",
        "colab_type": "code",
        "outputId": "f9ed274a-1456-46dc-8198-80ae9ba85ea4",
        "colab": {
          "base_uri": "https://localhost:8080/",
          "height": 34
        }
      },
      "source": [
        "L[3] = 'x' # multiple in-place changes\n",
        "L[4] = 'x' # cant do this for strings\n",
        "L"
      ],
      "execution_count": 0,
      "outputs": [
        {
          "output_type": "execute_result",
          "data": {
            "text/plain": [
              "['s', 'p', 'a', 'x', 'x', 'y']"
            ]
          },
          "metadata": {
            "tags": []
          },
          "execution_count": 40
        }
      ]
    },
    {
      "cell_type": "code",
      "metadata": {
        "id": "NRT0WCYzbhDk",
        "colab_type": "code",
        "outputId": "d81adf1d-3d5b-4571-f340-ec23fecd34db",
        "colab": {
          "base_uri": "https://localhost:8080/",
          "height": 34
        }
      },
      "source": [
        "S = ''.join(L) # implode back to string\n",
        "S"
      ],
      "execution_count": 0,
      "outputs": [
        {
          "output_type": "execute_result",
          "data": {
            "text/plain": [
              "'spaxxy'"
            ]
          },
          "metadata": {
            "tags": []
          },
          "execution_count": 41
        }
      ]
    },
    {
      "cell_type": "markdown",
      "metadata": {
        "id": "o6YOR0L8G3dF",
        "colab_type": "text"
      },
      "source": [
        "**Example: parsing with slices**"
      ]
    },
    {
      "cell_type": "code",
      "metadata": {
        "id": "oscX9GZKG7tk",
        "colab_type": "code",
        "outputId": "933c9485-83da-4c74-9450-b474f5c87a9a",
        "colab": {
          "base_uri": "https://localhost:8080/",
          "height": 34
        }
      },
      "source": [
        "line = 'aaa bbb ccc'\n",
        "col1 = line[0:3] # columns at fixed offsets\n",
        "col3 = line[8:]\n",
        "col1"
      ],
      "execution_count": 0,
      "outputs": [
        {
          "output_type": "execute_result",
          "data": {
            "text/plain": [
              "'aaa'"
            ]
          },
          "metadata": {
            "tags": []
          },
          "execution_count": 42
        }
      ]
    },
    {
      "cell_type": "code",
      "metadata": {
        "id": "ZOGhj_H3bhDm",
        "colab_type": "code",
        "outputId": "fdfc4b2e-f4ae-410e-ef3c-59e4e1d9e18a",
        "colab": {
          "base_uri": "https://localhost:8080/",
          "height": 34
        }
      },
      "source": [
        "col3"
      ],
      "execution_count": 0,
      "outputs": [
        {
          "output_type": "execute_result",
          "data": {
            "text/plain": [
              "'ccc'"
            ]
          },
          "metadata": {
            "tags": []
          },
          "execution_count": 43
        }
      ]
    },
    {
      "cell_type": "markdown",
      "metadata": {
        "id": "wHJ0MBiuG_fF",
        "colab_type": "text"
      },
      "source": [
        "**Example: parsing with splits**"
      ]
    },
    {
      "cell_type": "code",
      "metadata": {
        "id": "2-YRzW0qHB9N",
        "colab_type": "code",
        "outputId": "232b8064-d65f-4d06-8dfa-c5e19a4cd176",
        "colab": {
          "base_uri": "https://localhost:8080/",
          "height": 34
        }
      },
      "source": [
        "line = 'aaa bbb ccc' # split around whitespace\n",
        "cols = line.split()\n",
        "cols"
      ],
      "execution_count": 0,
      "outputs": [
        {
          "output_type": "execute_result",
          "data": {
            "text/plain": [
              "['aaa', 'bbb', 'ccc']"
            ]
          },
          "metadata": {
            "tags": []
          },
          "execution_count": 44
        }
      ]
    },
    {
      "cell_type": "code",
      "metadata": {
        "id": "tF274x0qbhDn",
        "colab_type": "code",
        "outputId": "fdaa9c7a-a583-40db-bdef-e92876bd4c42",
        "colab": {
          "base_uri": "https://localhost:8080/",
          "height": 34
        }
      },
      "source": [
        "line = 'bob,hacker,40' # split around commas\n",
        "line.split(',')"
      ],
      "execution_count": 0,
      "outputs": [
        {
          "output_type": "execute_result",
          "data": {
            "text/plain": [
              "['bob', 'hacker', '40']"
            ]
          },
          "metadata": {
            "tags": []
          },
          "execution_count": 45
        }
      ]
    },
    {
      "cell_type": "markdown",
      "metadata": {
        "id": "Nupns4W4HLA9",
        "colab_type": "text"
      },
      "source": [
        "**Generic type concepts**\n",
        "\n",
        "*    Types share operation sets by categories\n",
        "*    Numbers support addition, multiplication, . . .\n",
        "*    Sequences support indexing, slicing, concatenation, . . .\n",
        "*    Mappings support indexing by key, . . .\n",
        "*    Mutable types can be changed in place\n",
        "*    Strings are immutable sequences"
      ]
    },
    {
      "cell_type": "markdown",
      "metadata": {
        "id": "JS2HWWHQHQ_x",
        "colab_type": "text"
      },
      "source": [
        "**Concatenation and repetition**\n",
        "\n",
        "*      X + Y makes a new sequence object with the contents of both operands\n",
        "*      X * N makes a new sequence object with N copies of the sequence operand"
      ]
    },
    {
      "cell_type": "markdown",
      "metadata": {
        "id": "Vyt2vF6AHbL9",
        "colab_type": "text"
      },
      "source": [
        "**Indexing and slicing**\n",
        "\n",
        "*    Indexing\n",
        "     -      Fetches components via offsets: zero-based\n",
        "     -      Negative indexes: adds length to offset\n",
        "     -      S[0] is the first item\n",
        "     -      S[-2] is the second from the end (4 - 2)\n",
        "     -      Also works on mappings, but index is a key\n",
        "*    Slicing\n",
        "     -      Extracts contiguous sections of a sequence\n",
        "     -      Slices default to 0 and the sequence length if omitted\n",
        "     -      S[1:3] fetches from offsets 1 upto but not including 3\n",
        "     -      S[1:] fetches from offsets 1 through the end (length)\n",
        "     -      S[:-1] fetches from offsets 0 upto but not including last\n",
        "     -      S[I:J:K] newer, I to J by K, K is a stride/step (S[::2])"
      ]
    },
    {
      "cell_type": "markdown",
      "metadata": {
        "id": "H3sTxicbHpRA",
        "colab_type": "text"
      },
      "source": [
        "###Lists"
      ]
    },
    {
      "cell_type": "markdown",
      "metadata": {
        "id": "okYJbAo4Ht7Q",
        "colab_type": "text"
      },
      "source": [
        "*     Arrays of object references\n",
        "*     Access by offset\n",
        "*     Variable length, heterogeneous, arbitrarily nestable\n",
        "*     Category: mutable sequence\n",
        "*     Ordered collections of arbitrary objects"
      ]
    },
    {
      "cell_type": "markdown",
      "metadata": {
        "id": "jibfGVKPbhDo",
        "colab_type": "text"
      },
      "source": [
        "**Common list operations**\n",
        "\n",
        "Operation |\tInterpretation\n",
        "---|---\n",
        "L1 = [] |\tan empty list\n",
        "L2 = [0, 1, 2, 3] |\t4-items: indexes 0..3\n",
        "['abc', ['def', 'ghi']] |\tnested sublists\n",
        "L2[i], L2[i:j], len(L2) |\tindex, slice, length\n",
        "L1 + L2, L2 * 3 |\tconcatenate, repeat\n",
        "L1.sort(), L2.append(4) |\tmethods: sort, grow\n",
        "del L2[k], L2[i:j] = [] |\tshrinking\n",
        "L2[i:j] = [1,2,3] |\tslice assignment\n",
        "range(4), xrange(0, 4) |\tmake integer lists\n",
        "for x in L2, 3 in L2 |\titeration/membership"
      ]
    },
    {
      "cell_type": "markdown",
      "metadata": {
        "id": "SxTL19YgHxEN",
        "colab_type": "text"
      },
      "source": [
        "**Lists in action**"
      ]
    },
    {
      "cell_type": "code",
      "metadata": {
        "id": "e6zSktYqbhDp",
        "colab_type": "code",
        "outputId": "e84f8a31-b4d8-4988-abd2-2df06ed97409",
        "colab": {
          "base_uri": "https://localhost:8080/",
          "height": 34
        }
      },
      "source": [
        "[1, 2, 3] + [4, 5, 6] # concatenation"
      ],
      "execution_count": 0,
      "outputs": [
        {
          "output_type": "execute_result",
          "data": {
            "text/plain": [
              "[1, 2, 3, 4, 5, 6]"
            ]
          },
          "metadata": {
            "tags": []
          },
          "execution_count": 46
        }
      ]
    },
    {
      "cell_type": "code",
      "metadata": {
        "id": "ft-CJjqZIffF",
        "colab_type": "code",
        "outputId": "11917a15-21be-41df-c976-6aab0a2c7104",
        "colab": {
          "base_uri": "https://localhost:8080/",
          "height": 34
        }
      },
      "source": [
        "['Ni!'] * 4 # repetition"
      ],
      "execution_count": 0,
      "outputs": [
        {
          "output_type": "execute_result",
          "data": {
            "text/plain": [
              "['Ni!', 'Ni!', 'Ni!', 'Ni!']"
            ]
          },
          "metadata": {
            "tags": []
          },
          "execution_count": 47
        }
      ]
    },
    {
      "cell_type": "markdown",
      "metadata": {
        "id": "onqAJ5cgbhDq",
        "colab_type": "text"
      },
      "source": [
        "**Indexing and slicing**"
      ]
    },
    {
      "cell_type": "code",
      "metadata": {
        "id": "9qXSD6HDbhDr",
        "colab_type": "code",
        "colab": {}
      },
      "source": [
        "L = ['spam', 'Spam', 'SPAM!']\n",
        "L[2]\n",
        "'SPAM!'\n",
        "L[1:]\n",
        "['Spam', 'SPAM!']\n",
        " \n"
      ],
      "execution_count": 0,
      "outputs": []
    },
    {
      "cell_type": "markdown",
      "metadata": {
        "id": "t8FEJ0UIbhDv",
        "colab_type": "text"
      },
      "source": [
        "**Changing lists in-place**"
      ]
    },
    {
      "cell_type": "code",
      "metadata": {
        "id": "LB_RVdeNKxXV",
        "colab_type": "code",
        "outputId": "431db2a8-a105-4764-f618-1dc32005f22b",
        "colab": {
          "base_uri": "https://localhost:8080/",
          "height": 34
        }
      },
      "source": [
        "L[1] = 'eggs' # index assignment\n",
        "L"
      ],
      "execution_count": 0,
      "outputs": [
        {
          "output_type": "execute_result",
          "data": {
            "text/plain": [
              "['s', 'eggs', 'a', 'x', 'x', 'y']"
            ]
          },
          "metadata": {
            "tags": []
          },
          "execution_count": 48
        }
      ]
    },
    {
      "cell_type": "code",
      "metadata": {
        "id": "6t_cO626Kz9D",
        "colab_type": "code",
        "outputId": "d3e16f54-f889-477e-b2d2-4dfb71d3d472",
        "colab": {
          "base_uri": "https://localhost:8080/",
          "height": 34
        }
      },
      "source": [
        "L[0:2] = ['eat', 'more'] # slice assignment\n",
        "L # replace items 0,1"
      ],
      "execution_count": 0,
      "outputs": [
        {
          "output_type": "execute_result",
          "data": {
            "text/plain": [
              "['eat', 'more', 'a', 'x', 'x', 'y']"
            ]
          },
          "metadata": {
            "tags": []
          },
          "execution_count": 49
        }
      ]
    },
    {
      "cell_type": "code",
      "metadata": {
        "id": "ESveNvIHbhDv",
        "colab_type": "code",
        "outputId": "717cf318-7961-414e-c73e-b2f64ed291f7",
        "colab": {
          "base_uri": "https://localhost:8080/",
          "height": 34
        }
      },
      "source": [
        "L.append('please') # append method call\n",
        "L"
      ],
      "execution_count": 0,
      "outputs": [
        {
          "output_type": "execute_result",
          "data": {
            "text/plain": [
              "['eat', 'more', 'a', 'x', 'x', 'y', 'please']"
            ]
          },
          "metadata": {
            "tags": []
          },
          "execution_count": 50
        }
      ]
    },
    {
      "cell_type": "markdown",
      "metadata": {
        "id": "1QIPO6I1bhDx",
        "colab_type": "text"
      },
      "source": [
        "*      Only works for mutable objects: not strings\n",
        "*      Index assignment replaces an object reference\n",
        "*      Slice assignment deletes a slice and inserts new items\n",
        "*      Append method inserts a new item on the end (realloc)"
      ]
    },
    {
      "cell_type": "markdown",
      "metadata": {
        "id": "b6EjCeCPK65H",
        "colab_type": "text"
      },
      "source": [
        "**Preview: iteration/membership**"
      ]
    },
    {
      "cell_type": "code",
      "metadata": {
        "id": "o20fRFH6bhDy",
        "colab_type": "code",
        "outputId": "a8bc56b3-9ba3-4ba6-9195-298dd0066b69",
        "colab": {
          "base_uri": "https://localhost:8080/",
          "height": 34
        }
      },
      "source": [
        "for x in L: print(x, end=',')"
      ],
      "execution_count": 0,
      "outputs": [
        {
          "output_type": "stream",
          "text": [
            "eat,more,a,x,x,y,please,"
          ],
          "name": "stdout"
        }
      ]
    },
    {
      "cell_type": "markdown",
      "metadata": {
        "id": "khkL8q1XbhDz",
        "colab_type": "text"
      },
      "source": [
        "**Example: 2-dimensional array**"
      ]
    },
    {
      "cell_type": "code",
      "metadata": {
        "id": "mgjtH7EVLE_b",
        "colab_type": "code",
        "outputId": "a7cde48d-be61-4753-9e82-828ed6866195",
        "colab": {
          "base_uri": "https://localhost:8080/",
          "height": 34
        }
      },
      "source": [
        "matrix = [[1, 2, 3],\n",
        "          [4, 5, 6],\n",
        "          [7, 8, 9]]\n",
        "matrix"
      ],
      "execution_count": 0,
      "outputs": [
        {
          "output_type": "execute_result",
          "data": {
            "text/plain": [
              "[[1, 2, 3], [4, 5, 6], [7, 8, 9]]"
            ]
          },
          "metadata": {
            "tags": []
          },
          "execution_count": 52
        }
      ]
    },
    {
      "cell_type": "code",
      "metadata": {
        "id": "JqCuX5EpLIwz",
        "colab_type": "code",
        "outputId": "4ad63865-73f5-4e7a-fba9-1c2d35b5bfcc",
        "colab": {
          "base_uri": "https://localhost:8080/",
          "height": 34
        }
      },
      "source": [
        "matrix[1]"
      ],
      "execution_count": 0,
      "outputs": [
        {
          "output_type": "execute_result",
          "data": {
            "text/plain": [
              "[4, 5, 6]"
            ]
          },
          "metadata": {
            "tags": []
          },
          "execution_count": 53
        }
      ]
    },
    {
      "cell_type": "code",
      "metadata": {
        "id": "UdJClh4NLKOD",
        "colab_type": "code",
        "outputId": "4dcef850-77ba-4391-808f-16c976ad71b7",
        "colab": {
          "base_uri": "https://localhost:8080/",
          "height": 34
        }
      },
      "source": [
        "matrix[1][1]"
      ],
      "execution_count": 0,
      "outputs": [
        {
          "output_type": "execute_result",
          "data": {
            "text/plain": [
              "5"
            ]
          },
          "metadata": {
            "tags": []
          },
          "execution_count": 54
        }
      ]
    },
    {
      "cell_type": "code",
      "metadata": {
        "id": "6Iboh-xdbhDz",
        "colab_type": "code",
        "outputId": "c99fff29-b3d1-4cc6-af94-896cad6cd7c8",
        "colab": {
          "base_uri": "https://localhost:8080/",
          "height": 34
        }
      },
      "source": [
        "matrix[2][0]"
      ],
      "execution_count": 0,
      "outputs": [
        {
          "output_type": "execute_result",
          "data": {
            "text/plain": [
              "7"
            ]
          },
          "metadata": {
            "tags": []
          },
          "execution_count": 55
        }
      ]
    },
    {
      "cell_type": "markdown",
      "metadata": {
        "id": "WlbIkiaHLO-U",
        "colab_type": "text"
      },
      "source": [
        "###Dictionaries"
      ]
    },
    {
      "cell_type": "markdown",
      "metadata": {
        "id": "YxiFxp7fLTkU",
        "colab_type": "text"
      },
      "source": [
        "*     Tables of object references\n",
        "*     Access by key, not offset (hash-tables)\n",
        "*     Variable length, heterogeneous, arbitrarily nestable\n",
        "*     Category: mutable mappings (not a sequence)\n",
        "*     Unordered collections of arbitrary objects"
      ]
    },
    {
      "cell_type": "markdown",
      "metadata": {
        "id": "dCBzV2l1bhD1",
        "colab_type": "text"
      },
      "source": [
        "**Common dictionary operations**\n",
        "\n",
        "Operation |\tInterpretation\n",
        "---|---\n",
        "d1 = {} |\tempty dictionary\n",
        "d2 = {'spam': 2, 'eggs': 3} |\t2 items\n",
        "d3 = {'food': {'ham': 1, 'egg': 2}} |\tnesting\n",
        "d2['eggs'], d3['food']['ham'] |\tindexing by key\n",
        "d2.has_key('eggs'), d2.keys() |\tmethods\n",
        "d2.get('eggs', default) |\tdefault values\n",
        "len(d1) |\tlength (entries)\n",
        "d2[key] = new, del d2[key] |\tadding/changing"
      ]
    },
    {
      "cell_type": "markdown",
      "metadata": {
        "id": "clJiAvKeLWjL",
        "colab_type": "text"
      },
      "source": [
        "**Dictionaries in action**"
      ]
    },
    {
      "cell_type": "code",
      "metadata": {
        "id": "Lf3Qg6xlOH0r",
        "colab_type": "code",
        "outputId": "d8f0887c-52d7-4831-be51-fa875d09ba68",
        "colab": {
          "base_uri": "https://localhost:8080/",
          "height": 34
        }
      },
      "source": [
        "d2 = {'spam': 2, 'ham': 1, 'eggs': 3}\n",
        "d2['spam']"
      ],
      "execution_count": 0,
      "outputs": [
        {
          "output_type": "execute_result",
          "data": {
            "text/plain": [
              "2"
            ]
          },
          "metadata": {
            "tags": []
          },
          "execution_count": 56
        }
      ]
    },
    {
      "cell_type": "code",
      "metadata": {
        "id": "1uZVaY2mOKc7",
        "colab_type": "code",
        "outputId": "b2a213a2-a447-464c-b360-8f70ea044304",
        "colab": {
          "base_uri": "https://localhost:8080/",
          "height": 34
        }
      },
      "source": [
        "len(d2) # number entries"
      ],
      "execution_count": 0,
      "outputs": [
        {
          "output_type": "execute_result",
          "data": {
            "text/plain": [
              "3"
            ]
          },
          "metadata": {
            "tags": []
          },
          "execution_count": 57
        }
      ]
    },
    {
      "cell_type": "code",
      "metadata": {
        "id": "6JHim1pVbhD1",
        "colab_type": "code",
        "outputId": "e3f1b735-6620-4b92-b7d0-2ca4296785c0",
        "colab": {
          "base_uri": "https://localhost:8080/",
          "height": 34
        }
      },
      "source": [
        "d2.keys() # list of keys"
      ],
      "execution_count": 0,
      "outputs": [
        {
          "output_type": "execute_result",
          "data": {
            "text/plain": [
              "dict_keys(['spam', 'ham', 'eggs'])"
            ]
          },
          "metadata": {
            "tags": []
          },
          "execution_count": 58
        }
      ]
    },
    {
      "cell_type": "markdown",
      "metadata": {
        "id": "Gi6fCJTobhD3",
        "colab_type": "text"
      },
      "source": [
        "**Changing dictionaries**"
      ]
    },
    {
      "cell_type": "code",
      "metadata": {
        "id": "Qpq7Hv4xOP1T",
        "colab_type": "code",
        "outputId": "b4f575dc-02bc-47fe-ba9a-789dc4b1121a",
        "colab": {
          "base_uri": "https://localhost:8080/",
          "height": 34
        }
      },
      "source": [
        "d2['ham'] = ['grill', 'bake', 'fry']\n",
        "d2"
      ],
      "execution_count": 0,
      "outputs": [
        {
          "output_type": "execute_result",
          "data": {
            "text/plain": [
              "{'eggs': 3, 'ham': ['grill', 'bake', 'fry'], 'spam': 2}"
            ]
          },
          "metadata": {
            "tags": []
          },
          "execution_count": 59
        }
      ]
    },
    {
      "cell_type": "code",
      "metadata": {
        "id": "XRQpia_hbhD3",
        "colab_type": "code",
        "outputId": "cf9f6b33-9912-4f2d-e7a2-e304b5382a40",
        "colab": {
          "base_uri": "https://localhost:8080/",
          "height": 34
        }
      },
      "source": [
        "del d2['eggs']\n",
        "d2"
      ],
      "execution_count": 0,
      "outputs": [
        {
          "output_type": "execute_result",
          "data": {
            "text/plain": [
              "{'ham': ['grill', 'bake', 'fry'], 'spam': 2}"
            ]
          },
          "metadata": {
            "tags": []
          },
          "execution_count": 60
        }
      ]
    },
    {
      "cell_type": "markdown",
      "metadata": {
        "id": "sGEOAFDNbhD5",
        "colab_type": "text"
      },
      "source": [
        "**Making dictionaries**"
      ]
    },
    {
      "cell_type": "code",
      "metadata": {
        "id": "gxdyphQTbhD5",
        "colab_type": "code",
        "outputId": "2b888b8f-bd0c-4843-8542-b5a5e50afecd",
        "colab": {
          "base_uri": "https://localhost:8080/",
          "height": 34
        }
      },
      "source": [
        "# literals\n",
        "D = {'name': 'Bob', 'age': 42, 'job': 'dev'}\n",
        "D"
      ],
      "execution_count": 0,
      "outputs": [
        {
          "output_type": "execute_result",
          "data": {
            "text/plain": [
              "{'age': 42, 'job': 'dev', 'name': 'Bob'}"
            ]
          },
          "metadata": {
            "tags": []
          },
          "execution_count": 61
        }
      ]
    },
    {
      "cell_type": "code",
      "metadata": {
        "id": "LjunZRaCbhD6",
        "colab_type": "code",
        "outputId": "27f5b57b-92b7-4cf0-8c38-ac4bdc6375f4",
        "colab": {
          "base_uri": "https://localhost:8080/",
          "height": 34
        }
      },
      "source": [
        "# keywords\n",
        "D = dict(name='Bob', age=42, job='dev')\n",
        "D"
      ],
      "execution_count": 0,
      "outputs": [
        {
          "output_type": "execute_result",
          "data": {
            "text/plain": [
              "{'age': 42, 'job': 'dev', 'name': 'Bob'}"
            ]
          },
          "metadata": {
            "tags": []
          },
          "execution_count": 62
        }
      ]
    },
    {
      "cell_type": "code",
      "metadata": {
        "id": "OAwqiZiQbhD7",
        "colab_type": "code",
        "outputId": "55c19592-98f5-4106-f35f-5b52ac236afb",
        "colab": {
          "base_uri": "https://localhost:8080/",
          "height": 34
        }
      },
      "source": [
        "# field by field\n",
        "D = {}\n",
        "D['name'] = 'Bob'\n",
        "D['age'] = 42\n",
        "D['job'] = 'dev'\n",
        "D"
      ],
      "execution_count": 0,
      "outputs": [
        {
          "output_type": "execute_result",
          "data": {
            "text/plain": [
              "{'age': 42, 'job': 'dev', 'name': 'Bob'}"
            ]
          },
          "metadata": {
            "tags": []
          },
          "execution_count": 63
        }
      ]
    },
    {
      "cell_type": "code",
      "metadata": {
        "id": "SijLtHambhD8",
        "colab_type": "code",
        "outputId": "ceb76129-9457-4029-c666-ded49171a851",
        "colab": {
          "base_uri": "https://localhost:8080/",
          "height": 34
        }
      },
      "source": [
        "# zipped keys/values\n",
        "pairs = zip(['name', 'age', 'job'], ('Bob', 42, 'dev'))\n",
        "pairs"
      ],
      "execution_count": 0,
      "outputs": [
        {
          "output_type": "execute_result",
          "data": {
            "text/plain": [
              "<zip at 0x7fb2d7cc9b08>"
            ]
          },
          "metadata": {
            "tags": []
          },
          "execution_count": 64
        }
      ]
    },
    {
      "cell_type": "code",
      "metadata": {
        "id": "cxsEhBPiOgRz",
        "colab_type": "code",
        "outputId": "0090773f-b0a8-449d-e838-373ead99c912",
        "colab": {
          "base_uri": "https://localhost:8080/",
          "height": 34
        }
      },
      "source": [
        "D = dict(pairs)\n",
        "D"
      ],
      "execution_count": 0,
      "outputs": [
        {
          "output_type": "execute_result",
          "data": {
            "text/plain": [
              "{'age': 42, 'job': 'dev', 'name': 'Bob'}"
            ]
          },
          "metadata": {
            "tags": []
          },
          "execution_count": 65
        }
      ]
    },
    {
      "cell_type": "code",
      "metadata": {
        "id": "fJlwrsSEbhD-",
        "colab_type": "code",
        "outputId": "39162481-a248-4e60-eaf5-627f8a0a11a1",
        "colab": {
          "base_uri": "https://localhost:8080/",
          "height": 34
        }
      },
      "source": [
        "# key lists\n",
        "D = dict.fromkeys(['name', 'age', 'job'], '?')\n",
        "D"
      ],
      "execution_count": 0,
      "outputs": [
        {
          "output_type": "execute_result",
          "data": {
            "text/plain": [
              "{'age': '?', 'job': '?', 'name': '?'}"
            ]
          },
          "metadata": {
            "tags": []
          },
          "execution_count": 67
        }
      ]
    },
    {
      "cell_type": "markdown",
      "metadata": {
        "id": "FMSaNPAZbhD_",
        "colab_type": "text"
      },
      "source": [
        "**A language table**"
      ]
    },
    {
      "cell_type": "code",
      "metadata": {
        "id": "OX1p8aTVOvPi",
        "colab_type": "code",
        "outputId": "7df53810-ee9e-4d4c-9e80-c1264e92c840",
        "colab": {
          "base_uri": "https://localhost:8080/",
          "height": 34
        }
      },
      "source": [
        "table = {'Perl': 'Larry Wall', \n",
        "         'Tcl': 'John Ousterhout', \n",
        "         'Python': 'Guido van Rossum' }\n",
        "\n",
        "language = 'Python'\n",
        "creator = table[language]\n",
        "creator"
      ],
      "execution_count": 0,
      "outputs": [
        {
          "output_type": "execute_result",
          "data": {
            "text/plain": [
              "'Guido van Rossum'"
            ]
          },
          "metadata": {
            "tags": []
          },
          "execution_count": 68
        }
      ]
    },
    {
      "cell_type": "code",
      "metadata": {
        "id": "cVUL9BQ0bhEA",
        "colab_type": "code",
        "outputId": "aa7ce38b-6a86-4672-9306-49c8807198ce",
        "colab": {
          "base_uri": "https://localhost:8080/",
          "height": 68
        }
      },
      "source": [
        "for lang in table.keys(): print(lang)"
      ],
      "execution_count": 0,
      "outputs": [
        {
          "output_type": "stream",
          "text": [
            "Perl\n",
            "Tcl\n",
            "Python\n"
          ],
          "name": "stdout"
        }
      ]
    },
    {
      "cell_type": "markdown",
      "metadata": {
        "id": "t6OKSjwXbhEB",
        "colab_type": "text"
      },
      "source": [
        "**Dictionary usage notes**\n",
        "\n",
        "*      Sequence operations dont work!\n",
        "*      Assigning to new indexes adds entries\n",
        "*      Keys need not always be strings"
      ]
    },
    {
      "cell_type": "markdown",
      "metadata": {
        "id": "9j6boZqHO3TA",
        "colab_type": "text"
      },
      "source": [
        "**Example: simulating auto-grown lists**"
      ]
    },
    {
      "cell_type": "code",
      "metadata": {
        "id": "7iuU2sFBSQ9D",
        "colab_type": "code",
        "outputId": "1a157441-ef17-483b-d508-957343ca8b5b",
        "colab": {
          "base_uri": "https://localhost:8080/",
          "height": 214
        }
      },
      "source": [
        "L = [] # L=[0]*100 would help\n",
        "print(\"ERROR EXPECTED\")\n",
        "L[99] = 'spam'"
      ],
      "execution_count": 0,
      "outputs": [
        {
          "output_type": "stream",
          "text": [
            "ERROR EXPECTED\n"
          ],
          "name": "stdout"
        },
        {
          "output_type": "error",
          "ename": "IndexError",
          "evalue": "ignored",
          "traceback": [
            "\u001b[0;31m---------------------------------------------------------------------------\u001b[0m",
            "\u001b[0;31mIndexError\u001b[0m                                Traceback (most recent call last)",
            "\u001b[0;32m<ipython-input-70-3cb2041586c1>\u001b[0m in \u001b[0;36m<module>\u001b[0;34m()\u001b[0m\n\u001b[1;32m      1\u001b[0m \u001b[0mL\u001b[0m \u001b[0;34m=\u001b[0m \u001b[0;34m[\u001b[0m\u001b[0;34m]\u001b[0m \u001b[0;31m# L=[0]*100 would help\u001b[0m\u001b[0;34m\u001b[0m\u001b[0;34m\u001b[0m\u001b[0m\n\u001b[1;32m      2\u001b[0m \u001b[0mprint\u001b[0m\u001b[0;34m(\u001b[0m\u001b[0;34m\"ERROR EXPECTED\"\u001b[0m\u001b[0;34m)\u001b[0m\u001b[0;34m\u001b[0m\u001b[0;34m\u001b[0m\u001b[0m\n\u001b[0;32m----> 3\u001b[0;31m \u001b[0mL\u001b[0m\u001b[0;34m[\u001b[0m\u001b[0;36m99\u001b[0m\u001b[0;34m]\u001b[0m \u001b[0;34m=\u001b[0m \u001b[0;34m'spam'\u001b[0m\u001b[0;34m\u001b[0m\u001b[0;34m\u001b[0m\u001b[0m\n\u001b[0m",
            "\u001b[0;31mIndexError\u001b[0m: list assignment index out of range"
          ]
        }
      ]
    },
    {
      "cell_type": "code",
      "metadata": {
        "id": "2CRsER1ZbhEC",
        "colab_type": "code",
        "outputId": "cdf6ace0-33d1-4df5-d7ad-684040772678",
        "colab": {
          "base_uri": "https://localhost:8080/",
          "height": 34
        }
      },
      "source": [
        "D = {}\n",
        "D[99] = 'spam'\n",
        "D[99]"
      ],
      "execution_count": 0,
      "outputs": [
        {
          "output_type": "execute_result",
          "data": {
            "text/plain": [
              "'spam'"
            ]
          },
          "metadata": {
            "tags": []
          },
          "execution_count": 71
        }
      ]
    },
    {
      "cell_type": "code",
      "metadata": {
        "id": "-P2RCMbASaqi",
        "colab_type": "code",
        "outputId": "db708cc3-2eb4-4c21-fef0-0c40ad901cd4",
        "colab": {
          "base_uri": "https://localhost:8080/",
          "height": 34
        }
      },
      "source": [
        "D"
      ],
      "execution_count": 0,
      "outputs": [
        {
          "output_type": "execute_result",
          "data": {
            "text/plain": [
              "{99: 'spam'}"
            ]
          },
          "metadata": {
            "tags": []
          },
          "execution_count": 72
        }
      ]
    },
    {
      "cell_type": "markdown",
      "metadata": {
        "id": "5__xJqDPbhED",
        "colab_type": "text"
      },
      "source": [
        "**Example: dictionary-based records**"
      ]
    },
    {
      "cell_type": "code",
      "metadata": {
        "id": "X5gtiC6ebhED",
        "colab_type": "code",
        "outputId": "74028714-64f5-4824-925f-9e2748814f03",
        "colab": {
          "base_uri": "https://localhost:8080/",
          "height": 34
        }
      },
      "source": [
        "rec = {}\n",
        "rec['name'] = 'mel'\n",
        "rec['age'] = 40\n",
        "rec['job'] = 'trainer/writer'\n",
        "print(rec['name'])"
      ],
      "execution_count": 0,
      "outputs": [
        {
          "output_type": "stream",
          "text": [
            "mel\n"
          ],
          "name": "stdout"
        }
      ]
    },
    {
      "cell_type": "code",
      "metadata": {
        "id": "ZOFqzHvOS9-p",
        "colab_type": "code",
        "colab": {}
      },
      "source": [
        "mel = {'name': 'Mark', \n",
        "       'jobs': ['trainer', 'writer'], \n",
        "       'web': 'www.rmi.net/~lutz', \n",
        "       'home': {'state': 'CO', 'zip':80503}}"
      ],
      "execution_count": 0,
      "outputs": []
    },
    {
      "cell_type": "code",
      "metadata": {
        "id": "wfDX7C8ATCuS",
        "colab_type": "code",
        "outputId": "047afd1b-2129-4150-99ed-d1ccae7a5d68",
        "colab": {
          "base_uri": "https://localhost:8080/",
          "height": 34
        }
      },
      "source": [
        "mel['jobs']"
      ],
      "execution_count": 0,
      "outputs": [
        {
          "output_type": "execute_result",
          "data": {
            "text/plain": [
              "['trainer', 'writer']"
            ]
          },
          "metadata": {
            "tags": []
          },
          "execution_count": 75
        }
      ]
    },
    {
      "cell_type": "code",
      "metadata": {
        "id": "D7cQLJ9STFlR",
        "colab_type": "code",
        "outputId": "f99d2e4d-aa63-4c0c-ddbb-63c40ca97aef",
        "colab": {
          "base_uri": "https://localhost:8080/",
          "height": 34
        }
      },
      "source": [
        "mel['jobs'][1]"
      ],
      "execution_count": 0,
      "outputs": [
        {
          "output_type": "execute_result",
          "data": {
            "text/plain": [
              "'writer'"
            ]
          },
          "metadata": {
            "tags": []
          },
          "execution_count": 76
        }
      ]
    },
    {
      "cell_type": "code",
      "metadata": {
        "id": "POzVG8I_bhEF",
        "colab_type": "code",
        "outputId": "d5f0d550-7e98-4709-9b54-98ec009b8a28",
        "colab": {
          "base_uri": "https://localhost:8080/",
          "height": 34
        }
      },
      "source": [
        "mel['home']['zip']"
      ],
      "execution_count": 0,
      "outputs": [
        {
          "output_type": "execute_result",
          "data": {
            "text/plain": [
              "80503"
            ]
          },
          "metadata": {
            "tags": []
          },
          "execution_count": 77
        }
      ]
    },
    {
      "cell_type": "markdown",
      "metadata": {
        "id": "KPC8Tp8abhEG",
        "colab_type": "text"
      },
      "source": [
        "**Example: more object nesting**"
      ]
    },
    {
      "cell_type": "code",
      "metadata": {
        "id": "FFHDNvLPUvyd",
        "colab_type": "code",
        "outputId": "a4927cb5-402b-40a6-9767-4f56b9f5d498",
        "colab": {
          "base_uri": "https://localhost:8080/",
          "height": 34
        }
      },
      "source": [
        "rec = {'name': {'first': 'Bob', 'last': 'Smith'},\n",
        "       'job': ['dev', 'mgr'],\n",
        "       'age': 40.5}\n",
        "rec['name']"
      ],
      "execution_count": 0,
      "outputs": [
        {
          "output_type": "execute_result",
          "data": {
            "text/plain": [
              "{'first': 'Bob', 'last': 'Smith'}"
            ]
          },
          "metadata": {
            "tags": []
          },
          "execution_count": 78
        }
      ]
    },
    {
      "cell_type": "code",
      "metadata": {
        "id": "cptX0N9RU0oD",
        "colab_type": "code",
        "outputId": "e19f7d74-b729-4688-acc9-ddef2fc5b654",
        "colab": {
          "base_uri": "https://localhost:8080/",
          "height": 34
        }
      },
      "source": [
        "rec['name']['last']"
      ],
      "execution_count": 0,
      "outputs": [
        {
          "output_type": "execute_result",
          "data": {
            "text/plain": [
              "'Smith'"
            ]
          },
          "metadata": {
            "tags": []
          },
          "execution_count": 79
        }
      ]
    },
    {
      "cell_type": "code",
      "metadata": {
        "id": "qjR31nT8U2tB",
        "colab_type": "code",
        "outputId": "82051c39-ae63-470b-c3a7-a8edcef8aad9",
        "colab": {
          "base_uri": "https://localhost:8080/",
          "height": 34
        }
      },
      "source": [
        "rec['job'][-1]"
      ],
      "execution_count": 0,
      "outputs": [
        {
          "output_type": "execute_result",
          "data": {
            "text/plain": [
              "'mgr'"
            ]
          },
          "metadata": {
            "tags": []
          },
          "execution_count": 80
        }
      ]
    },
    {
      "cell_type": "code",
      "metadata": {
        "id": "GOSTeplXU5lV",
        "colab_type": "code",
        "outputId": "99ab4b04-0809-46f8-ec44-64bdb0119e0c",
        "colab": {
          "base_uri": "https://localhost:8080/",
          "height": 68
        }
      },
      "source": [
        "rec['job'].append('janitor')\n",
        "rec"
      ],
      "execution_count": 0,
      "outputs": [
        {
          "output_type": "execute_result",
          "data": {
            "text/plain": [
              "{'age': 40.5,\n",
              " 'job': ['dev', 'mgr', 'janitor'],\n",
              " 'name': {'first': 'Bob', 'last': 'Smith'}}"
            ]
          },
          "metadata": {
            "tags": []
          },
          "execution_count": 81
        }
      ]
    },
    {
      "cell_type": "code",
      "metadata": {
        "id": "ufEOSvy0bhEH",
        "colab_type": "code",
        "outputId": "4b03cf37-04aa-4182-8823-79e5377d180f",
        "colab": {
          "base_uri": "https://localhost:8080/",
          "height": 68
        }
      },
      "source": [
        "db = {}\n",
        "db['bob'] = rec # collecting records into a db\n",
        "db"
      ],
      "execution_count": 0,
      "outputs": [
        {
          "output_type": "execute_result",
          "data": {
            "text/plain": [
              "{'bob': {'age': 40.5,\n",
              "  'job': ['dev', 'mgr', 'janitor'],\n",
              "  'name': {'first': 'Bob', 'last': 'Smith'}}}"
            ]
          },
          "metadata": {
            "tags": []
          },
          "execution_count": 83
        }
      ]
    },
    {
      "cell_type": "markdown",
      "metadata": {
        "id": "hMDUtbQuU-wp",
        "colab_type": "text"
      },
      "source": [
        "Preview: Bob could be a record in a real database, using shelve or pickle persistence modules: watch for more details on the class and database units. This nested dictionary/list structure is also the genesis of JSON: see Pythons json standard library module for a trivial translation utility, and the Database unit for a simple example."
      ]
    },
    {
      "cell_type": "markdown",
      "metadata": {
        "id": "uaPxnzN0bhEI",
        "colab_type": "text"
      },
      "source": [
        "**Example: dictionary-based sparse matrix**"
      ]
    },
    {
      "cell_type": "code",
      "metadata": {
        "id": "nDpDer1DVPDP",
        "colab_type": "code",
        "outputId": "41f21625-67c3-4895-db1e-2dd0154080a7",
        "colab": {
          "base_uri": "https://localhost:8080/",
          "height": 34
        }
      },
      "source": [
        "Matrix = {}\n",
        "Matrix[(2,3,4)] = 88 # tuple key is coordinates\n",
        "Matrix[(7,8,9)] = 99\n",
        "\n",
        "X = 2; Y = 3; Z = 4 # ; separates statements\n",
        "Matrix[(X,Y,Z)]"
      ],
      "execution_count": 0,
      "outputs": [
        {
          "output_type": "execute_result",
          "data": {
            "text/plain": [
              "88"
            ]
          },
          "metadata": {
            "tags": []
          },
          "execution_count": 84
        }
      ]
    },
    {
      "cell_type": "code",
      "metadata": {
        "id": "IR5pTKyyVSeB",
        "colab_type": "code",
        "outputId": "208facc6-5b01-47d1-816f-45cd0a375ca7",
        "colab": {
          "base_uri": "https://localhost:8080/",
          "height": 34
        }
      },
      "source": [
        "Matrix"
      ],
      "execution_count": 0,
      "outputs": [
        {
          "output_type": "execute_result",
          "data": {
            "text/plain": [
              "{(2, 3, 4): 88, (7, 8, 9): 99}"
            ]
          },
          "metadata": {
            "tags": []
          },
          "execution_count": 85
        }
      ]
    },
    {
      "cell_type": "code",
      "metadata": {
        "id": "StVm5ztwbhEJ",
        "colab_type": "code",
        "outputId": "fb9c40ef-a18e-4588-9459-0c577fd6965f",
        "colab": {
          "base_uri": "https://localhost:8080/",
          "height": 34
        }
      },
      "source": [
        "Matrix.get((0, 1, 2), 'Missing')"
      ],
      "execution_count": 0,
      "outputs": [
        {
          "output_type": "execute_result",
          "data": {
            "text/plain": [
              "'Missing'"
            ]
          },
          "metadata": {
            "tags": []
          },
          "execution_count": 86
        }
      ]
    },
    {
      "cell_type": "markdown",
      "metadata": {
        "id": "y2dypUNFWJLt",
        "colab_type": "text"
      },
      "source": [
        "###Tuples"
      ]
    },
    {
      "cell_type": "markdown",
      "metadata": {
        "id": "urbglN2BbhEL",
        "colab_type": "text"
      },
      "source": [
        "*     Arrays of object references\n",
        "*     Access by offset\n",
        "*     Fixed length, heterogeneous, arbitrarily nestable\n",
        "*     Category: immutable sequences (cant be changed)\n",
        "*     Ordered collections of arbitrary objects"
      ]
    },
    {
      "cell_type": "markdown",
      "metadata": {
        "id": "YChyVDJcWO5a",
        "colab_type": "text"
      },
      "source": [
        "**Common tuple operations**\n",
        "\n",
        "Operation |\tInterpretation\n",
        "---|---\n",
        "() |\tan empty tuple\n",
        "T1 = (0,) |\ta one-item tuple\n",
        "T2 = (0, 1, 2, 3) |\ta 4-item tuple\n",
        "T2 = 0, 1, 2, 3 |\tanother 4-item tuple\n",
        "T3 = ('abc', ('def', 'ghi')) |\tnested tuples\n",
        "T1[i], t1[i:j], len(t1) |\tindex, slice, length\n",
        "T1 + t2, t2 * 3 |\tconcatenate, repeat\n",
        "for x in t2, 3 in t2 |\titeration/membership"
      ]
    },
    {
      "cell_type": "markdown",
      "metadata": {
        "id": "0B4IyvQyWSXB",
        "colab_type": "text"
      },
      "source": [
        "**Tuples in action**"
      ]
    },
    {
      "cell_type": "code",
      "metadata": {
        "id": "UJQapueFWWd4",
        "colab_type": "code",
        "outputId": "3142bc71-4c38-4bef-dc71-b272915fd1e5",
        "colab": {
          "base_uri": "https://localhost:8080/",
          "height": 34
        }
      },
      "source": [
        "T1 = (1, 'spam')\n",
        "T2 = (2, 'ni')\n",
        " \n",
        "T1 + T2"
      ],
      "execution_count": 0,
      "outputs": [
        {
          "output_type": "execute_result",
          "data": {
            "text/plain": [
              "(1, 'spam', 2, 'ni')"
            ]
          },
          "metadata": {
            "tags": []
          },
          "execution_count": 87
        }
      ]
    },
    {
      "cell_type": "code",
      "metadata": {
        "id": "-RQx1uHhbhEL",
        "colab_type": "code",
        "outputId": "bd142695-6409-4e6d-a376-58c315d8ab8c",
        "colab": {
          "base_uri": "https://localhost:8080/",
          "height": 34
        }
      },
      "source": [
        "T1 * 4"
      ],
      "execution_count": 0,
      "outputs": [
        {
          "output_type": "execute_result",
          "data": {
            "text/plain": [
              "(1, 'spam', 1, 'spam', 1, 'spam', 1, 'spam')"
            ]
          },
          "metadata": {
            "tags": []
          },
          "execution_count": 88
        }
      ]
    },
    {
      "cell_type": "code",
      "metadata": {
        "id": "gONrKzY4Wbo-",
        "colab_type": "code",
        "outputId": "59c545cf-6005-4a83-b2fd-9140d03db973",
        "colab": {
          "base_uri": "https://localhost:8080/",
          "height": 34
        }
      },
      "source": [
        "T2[1]"
      ],
      "execution_count": 0,
      "outputs": [
        {
          "output_type": "execute_result",
          "data": {
            "text/plain": [
              "'ni'"
            ]
          },
          "metadata": {
            "tags": []
          },
          "execution_count": 89
        }
      ]
    },
    {
      "cell_type": "code",
      "metadata": {
        "id": "6ctm0CifWeWN",
        "colab_type": "code",
        "outputId": "bf44d02c-7039-4c08-c48a-c6f9dbbd7db4",
        "colab": {
          "base_uri": "https://localhost:8080/",
          "height": 34
        }
      },
      "source": [
        "T2[1:]"
      ],
      "execution_count": 0,
      "outputs": [
        {
          "output_type": "execute_result",
          "data": {
            "text/plain": [
              "('ni',)"
            ]
          },
          "metadata": {
            "tags": []
          },
          "execution_count": 90
        }
      ]
    },
    {
      "cell_type": "markdown",
      "metadata": {
        "id": "xUWJ2HkiWiQA",
        "colab_type": "text"
      },
      "source": [
        "**Why lists and tuples?**\n",
        "\n",
        "*      Immutability provides integrity\n",
        "*      Some built-in operations require tuples (argument lists)\n",
        "*      Guido was a mathematician: sets versus data structures"
      ]
    },
    {
      "cell_type": "markdown",
      "metadata": {
        "id": "RdA5mEeLWlti",
        "colab_type": "text"
      },
      "source": [
        "###Files"
      ]
    },
    {
      "cell_type": "markdown",
      "metadata": {
        "id": "qoVstIIzgv4P",
        "colab_type": "text"
      },
      "source": [
        "*     A wrapper around Cs stdio file system (io module in 3.X)\n",
        "*     The builtin open function returns a file object\n",
        "*     File objects export methods for file operations\n",
        "*     Files are not sequences or mappings (methods only)\n",
        "*     Files are a built-in C extension type"
      ]
    },
    {
      "cell_type": "markdown",
      "metadata": {
        "id": "k03DS3llg8-W",
        "colab_type": "text"
      },
      "source": [
        "**Common file operations**\n",
        "\n",
        "Operation |\tInterpretation\n",
        "---|---\n",
        "O = open('/tmp/spam', 'w') |\tcreate output file\n",
        "I = open('data', 'r') |\tcreate input file\n",
        "I.read(), I.read(1) |\tread file, byte\n",
        "I.readline(), I.readlines() |\tread line, lines list\n",
        "O.write(S), O.writelines(L) |\twrite string, lines\n",
        "O.close() |\tmanual close (or on free)"
      ]
    },
    {
      "cell_type": "markdown",
      "metadata": {
        "id": "u6WvKycsbhEM",
        "colab_type": "text"
      },
      "source": [
        "**Files in action**"
      ]
    },
    {
      "cell_type": "code",
      "metadata": {
        "id": "-dKFqY69bhEO",
        "colab_type": "code",
        "outputId": "11d54a57-e35f-496d-e685-d56c1cdf3e01",
        "colab": {
          "base_uri": "https://localhost:8080/",
          "height": 34
        }
      },
      "source": [
        "newfile = open('test.txt', 'w')\n",
        "newfile.write(('spam' * 5) + '\\n')\n",
        "newfile.close()\n",
        " \n",
        "\n",
        "myfile = open('test.txt')\n",
        "text = myfile.read()\n",
        "text"
      ],
      "execution_count": 0,
      "outputs": [
        {
          "output_type": "execute_result",
          "data": {
            "text/plain": [
              "'spamspamspamspamspam\\n'"
            ]
          },
          "metadata": {
            "tags": []
          },
          "execution_count": 91
        }
      ]
    },
    {
      "cell_type": "markdown",
      "metadata": {
        "id": "Lzn__CmWhHcm",
        "colab_type": "text"
      },
      "source": [
        "**Related Python tools**\n",
        "\n",
        "*      Descriptor based files: os module\n",
        "*      DBM keyed files\n",
        "*      Persistent object shelves\n",
        "*      Pipes, fifos, sockets"
      ]
    },
    {
      "cell_type": "markdown",
      "metadata": {
        "id": "kSY8u0SRhJc8",
        "colab_type": "text"
      },
      "source": [
        "###General object properties"
      ]
    },
    {
      "cell_type": "markdown",
      "metadata": {
        "id": "kU0AydAKhO02",
        "colab_type": "text"
      },
      "source": [
        "**Type categories revisited**\n",
        "\n",
        "*      Objects share operations according to their category\n",
        "*      Only mutable objects may be changed in-place"
      ]
    },
    {
      "cell_type": "markdown",
      "metadata": {
        "id": "h1sj1bpdhRvu",
        "colab_type": "text"
      },
      "source": [
        "Object type |\tCategory |\tMutable?\n",
        "---|---|---\n",
        "Numbers |\tNumeric |\tNo\n",
        "Strings |\tSequence |\tNo\n",
        "Lists |\tSequence |\tYes\n",
        "Dictionaries |\tMapping |\tYes\n",
        "Tuples |\tSequence |\tNo\n",
        "Files |\tExtension |\tn/a"
      ]
    },
    {
      "cell_type": "markdown",
      "metadata": {
        "id": "HyEN6fvKbhEP",
        "colab_type": "text"
      },
      "source": [
        "**Generality**\n",
        "\n",
        "*     Lists, dictionaries, and tuples can hold any kind of object\n",
        "*     Lists, dictionaries, and tuples can be arbitrarily nested\n",
        "*     Lists and dictionaries can dynamically grow and shrink"
      ]
    },
    {
      "cell_type": "markdown",
      "metadata": {
        "id": "RuSE8aaBhf1O",
        "colab_type": "text"
      },
      "source": [
        "**Nesting example**"
      ]
    },
    {
      "cell_type": "code",
      "metadata": {
        "id": "9zbTEPRUhioG",
        "colab_type": "code",
        "outputId": "fdb178cb-be02-45a8-d571-6dcec943bcb8",
        "colab": {
          "base_uri": "https://localhost:8080/",
          "height": 34
        }
      },
      "source": [
        "L = ['abc', [(1, 2), ([3], 4)], 5]\n",
        "L[1][1]"
      ],
      "execution_count": 0,
      "outputs": [
        {
          "output_type": "execute_result",
          "data": {
            "text/plain": [
              "([3], 4)"
            ]
          },
          "metadata": {
            "tags": []
          },
          "execution_count": 92
        }
      ]
    },
    {
      "cell_type": "code",
      "metadata": {
        "id": "VSScAcTZhk6P",
        "colab_type": "code",
        "outputId": "8894dad4-9560-4867-bf1e-43d72f3f409e",
        "colab": {
          "base_uri": "https://localhost:8080/",
          "height": 34
        }
      },
      "source": [
        "L[1][1][0]"
      ],
      "execution_count": 0,
      "outputs": [
        {
          "output_type": "execute_result",
          "data": {
            "text/plain": [
              "[3]"
            ]
          },
          "metadata": {
            "tags": []
          },
          "execution_count": 93
        }
      ]
    },
    {
      "cell_type": "code",
      "metadata": {
        "id": "fLDJGcIxbhEQ",
        "colab_type": "code",
        "outputId": "002e7cf6-bf15-4237-d098-c873e526438d",
        "colab": {
          "base_uri": "https://localhost:8080/",
          "height": 34
        }
      },
      "source": [
        "L[1][1][0][0]"
      ],
      "execution_count": 0,
      "outputs": [
        {
          "output_type": "execute_result",
          "data": {
            "text/plain": [
              "3"
            ]
          },
          "metadata": {
            "tags": []
          },
          "execution_count": 94
        }
      ]
    },
    {
      "cell_type": "markdown",
      "metadata": {
        "id": "xVYQI7yQbhEU",
        "colab_type": "text"
      },
      "source": [
        "**Shared references**\n",
        "\n",
        "*     Assignments always create references to objects\n",
        "*     Can generate shared references to the same object\n",
        "*     Changing a mutable object impacts all references\n",
        "*     To avoid effect: make copies with X[:], list(X), etc.\n",
        "*     Tip: distinguish between names and objects!\n",
        "       -   Names have no \"type\", but objects do"
      ]
    },
    {
      "cell_type": "code",
      "metadata": {
        "id": "0ESQgRcIhvOe",
        "colab_type": "code",
        "outputId": "942f35bf-4250-4450-bd2e-1a7397396be2",
        "colab": {
          "base_uri": "https://localhost:8080/",
          "height": 34
        }
      },
      "source": [
        "X = [1, 2, 3]\n",
        "L = ['a', X, 'b']\n",
        "D = {'x':X, 'y':2}\n",
        "\n",
        "X[1] = 'surprise' # changes all 3 references!\n",
        "L"
      ],
      "execution_count": 0,
      "outputs": [
        {
          "output_type": "execute_result",
          "data": {
            "text/plain": [
              "['a', [1, 'surprise', 3], 'b']"
            ]
          },
          "metadata": {
            "tags": []
          },
          "execution_count": 95
        }
      ]
    },
    {
      "cell_type": "code",
      "metadata": {
        "id": "0fQFw1WXbhEU",
        "colab_type": "code",
        "outputId": "97d6f5c5-cb56-48cb-846a-2875724739d3",
        "colab": {
          "base_uri": "https://localhost:8080/",
          "height": 34
        }
      },
      "source": [
        "D"
      ],
      "execution_count": 0,
      "outputs": [
        {
          "output_type": "execute_result",
          "data": {
            "text/plain": [
              "{'x': [1, 'surprise', 3], 'y': 2}"
            ]
          },
          "metadata": {
            "tags": []
          },
          "execution_count": 96
        }
      ]
    },
    {
      "cell_type": "markdown",
      "metadata": {
        "id": "fcWIZB15bhEV",
        "colab_type": "text"
      },
      "source": [
        "**Equality and truth**\n",
        "\n",
        "*     Applied recursively for nested data structures\n",
        "*     is tests identity (object address)\n",
        "*     True: non-zero number or non-empty data structure\n",
        "*     None is a special empty/false object"
      ]
    },
    {
      "cell_type": "code",
      "metadata": {
        "id": "v97LM7kfbhEW",
        "colab_type": "code",
        "outputId": "000c3fa0-8686-40cb-ad49-6d4732a84914",
        "colab": {
          "base_uri": "https://localhost:8080/",
          "height": 34
        }
      },
      "source": [
        "L1 = [1, ('a', 3)] # same value, unique objects\n",
        "L3 = [1, ('a', 3)]\n",
        "L1 == L3, L1 is L3 # equivalent?, same object?"
      ],
      "execution_count": 0,
      "outputs": [
        {
          "output_type": "execute_result",
          "data": {
            "text/plain": [
              "(True, False)"
            ]
          },
          "metadata": {
            "tags": []
          },
          "execution_count": 97
        }
      ]
    },
    {
      "cell_type": "markdown",
      "metadata": {
        "id": "xiJy4OD-bhEX",
        "colab_type": "text"
      },
      "source": [
        "**Other comparisons**\n",
        "\n",
        "*     Applied recursively for nested data structures\n",
        "*     Strings compared lexicographically\n",
        "*     Lists and tuples compared depth-first, left-to-right\n",
        "*     Dictionaries compared by sorted (key, value) lists\n",
        "*     Disctionaries dont compare in 3.X, but their .items() do"
      ]
    },
    {
      "cell_type": "code",
      "metadata": {
        "id": "35ofik7wbhEY",
        "colab_type": "code",
        "outputId": "afa0e0b0-0573-4dae-b921-10ee29dd56f3",
        "colab": {
          "base_uri": "https://localhost:8080/",
          "height": 34
        }
      },
      "source": [
        "L1 = [1, ('a', 3)]\n",
        "L2 = [1, ('a', 2)]\n",
        "L1 < L2, L1 == L2, L1 > L2"
      ],
      "execution_count": 0,
      "outputs": [
        {
          "output_type": "execute_result",
          "data": {
            "text/plain": [
              "(False, False, True)"
            ]
          },
          "metadata": {
            "tags": []
          },
          "execution_count": 98
        }
      ]
    },
    {
      "cell_type": "markdown",
      "metadata": {
        "id": "WS_Trna8iaWm",
        "colab_type": "text"
      },
      "source": [
        "###Summary: Pythons type hierarchies"
      ]
    },
    {
      "cell_type": "markdown",
      "metadata": {
        "id": "3dbIulWPbhEa",
        "colab_type": "text"
      },
      "source": [
        "*     Everything is an object type in Python: first class\n",
        "*     Types are objects too: type(X) returns type object of X\n",
        "*     Preview: C extension modules and types use same mechanisms as Python types"
      ]
    },
    {
      "cell_type": "markdown",
      "metadata": {
        "id": "o81B0-6Iigku",
        "colab_type": "text"
      },
      "source": [
        "**How to break your codes flexibility**"
      ]
    },
    {
      "cell_type": "code",
      "metadata": {
        "id": "KAjooQtWik7d",
        "colab_type": "code",
        "outputId": "1d3badb0-c3f6-4610-a48d-ad9e9ecdde13",
        "colab": {
          "base_uri": "https://localhost:8080/",
          "height": 34
        }
      },
      "source": [
        "L = [1, 2, 3]\n",
        "if type(L) == type([]):\n",
        "  print('yes')"
      ],
      "execution_count": 0,
      "outputs": [
        {
          "output_type": "stream",
          "text": [
            "yes\n"
          ],
          "name": "stdout"
        }
      ]
    },
    {
      "cell_type": "code",
      "metadata": {
        "id": "MbwMpktYiqMo",
        "colab_type": "code",
        "outputId": "4520674d-c604-4938-ccb3-bb9188c3aae8",
        "colab": {
          "base_uri": "https://localhost:8080/",
          "height": 34
        }
      },
      "source": [
        "if type(L) == list:\n",
        "  print('yes')"
      ],
      "execution_count": 0,
      "outputs": [
        {
          "output_type": "stream",
          "text": [
            "yes\n"
          ],
          "name": "stdout"
        }
      ]
    },
    {
      "cell_type": "code",
      "metadata": {
        "id": "AcguQFffbhEa",
        "colab_type": "code",
        "outputId": "35b24bf1-9143-40aa-f785-5860545da372",
        "colab": {
          "base_uri": "https://localhost:8080/",
          "height": 34
        }
      },
      "source": [
        "if isinstance(L, list):\n",
        "  print('yes')"
      ],
      "execution_count": 0,
      "outputs": [
        {
          "output_type": "stream",
          "text": [
            "yes\n"
          ],
          "name": "stdout"
        }
      ]
    },
    {
      "cell_type": "markdown",
      "metadata": {
        "id": "1yIn3mvbbhEb",
        "colab_type": "text"
      },
      "source": [
        "**Newer types**\n",
        "\n",
        "*      Decimal, fraction (modules): see above\n",
        "*      Boolean (bool, True, False): see next section\n",
        "*      Sets: 2.4 (module in 2.3), 3.X/2.7 literal/comprehension\n",
        "*      Other extension types: namedtuple, collection (std lib)"
      ]
    },
    {
      "cell_type": "code",
      "metadata": {
        "id": "4K1YbAH2jM4V",
        "colab_type": "code",
        "outputId": "0468b9c9-f349-4044-b9e9-a4fa2ef45d91",
        "colab": {
          "base_uri": "https://localhost:8080/",
          "height": 34
        }
      },
      "source": [
        "True + 2 # bool: True/False like 1/0 (next section)"
      ],
      "execution_count": 0,
      "outputs": [
        {
          "output_type": "execute_result",
          "data": {
            "text/plain": [
              "3"
            ]
          },
          "metadata": {
            "tags": []
          },
          "execution_count": 102
        }
      ]
    },
    {
      "cell_type": "markdown",
      "metadata": {
        "id": "5oqnqKscjnl-",
        "colab_type": "text"
      },
      "source": [
        "**Sets**"
      ]
    },
    {
      "cell_type": "code",
      "metadata": {
        "id": "IZ9JF0R_jqIG",
        "colab_type": "code",
        "outputId": "339afcfc-afd2-43af-fabd-74b8f63a1fec",
        "colab": {
          "base_uri": "https://localhost:8080/",
          "height": 34
        }
      },
      "source": [
        "x = set('abcde') # set constructor\n",
        "y = set('bdxyz')\n",
        "x"
      ],
      "execution_count": 0,
      "outputs": [
        {
          "output_type": "execute_result",
          "data": {
            "text/plain": [
              "{'a', 'b', 'c', 'd', 'e'}"
            ]
          },
          "metadata": {
            "tags": []
          },
          "execution_count": 103
        }
      ]
    },
    {
      "cell_type": "code",
      "metadata": {
        "id": "0ppsXNLSjt8e",
        "colab_type": "code",
        "outputId": "27d6a12f-221a-45fb-dce4-b4a8c18456e9",
        "colab": {
          "base_uri": "https://localhost:8080/",
          "height": 34
        }
      },
      "source": [
        "'e' in x # membership"
      ],
      "execution_count": 0,
      "outputs": [
        {
          "output_type": "execute_result",
          "data": {
            "text/plain": [
              "True"
            ]
          },
          "metadata": {
            "tags": []
          },
          "execution_count": 104
        }
      ]
    },
    {
      "cell_type": "code",
      "metadata": {
        "id": "kGP_hUiQjxGG",
        "colab_type": "code",
        "outputId": "bc19eed4-6147-430b-bc0a-5eca431adcb9",
        "colab": {
          "base_uri": "https://localhost:8080/",
          "height": 34
        }
      },
      "source": [
        "x - y # difference"
      ],
      "execution_count": 0,
      "outputs": [
        {
          "output_type": "execute_result",
          "data": {
            "text/plain": [
              "{'a', 'c', 'e'}"
            ]
          },
          "metadata": {
            "tags": []
          },
          "execution_count": 106
        }
      ]
    },
    {
      "cell_type": "code",
      "metadata": {
        "id": "ZccWNJK4j0rV",
        "colab_type": "code",
        "outputId": "a31376bc-bafb-4e80-cdec-5107eeb1f24e",
        "colab": {
          "base_uri": "https://localhost:8080/",
          "height": 34
        }
      },
      "source": [
        "x | y # union"
      ],
      "execution_count": 0,
      "outputs": [
        {
          "output_type": "execute_result",
          "data": {
            "text/plain": [
              "{'a', 'b', 'c', 'd', 'e', 'x', 'y', 'z'}"
            ]
          },
          "metadata": {
            "tags": []
          },
          "execution_count": 107
        }
      ]
    },
    {
      "cell_type": "code",
      "metadata": {
        "id": "_OGIj8z0j3GV",
        "colab_type": "code",
        "outputId": "ce560fa7-5776-4139-e91f-64168ef266e1",
        "colab": {
          "base_uri": "https://localhost:8080/",
          "height": 34
        }
      },
      "source": [
        "x & y # intersection"
      ],
      "execution_count": 0,
      "outputs": [
        {
          "output_type": "execute_result",
          "data": {
            "text/plain": [
              "{'b', 'd'}"
            ]
          },
          "metadata": {
            "tags": []
          },
          "execution_count": 108
        }
      ]
    },
    {
      "cell_type": "code",
      "metadata": {
        "id": "KiKvnG8Mj_Uu",
        "colab_type": "code",
        "outputId": "553ae840-3a2d-4ee9-b84f-3fd8d64f354e",
        "colab": {
          "base_uri": "https://localhost:8080/",
          "height": 34
        }
      },
      "source": [
        "x = {'a', 'b', 'c', 'd'} # 3.X set literal\n",
        "x"
      ],
      "execution_count": 0,
      "outputs": [
        {
          "output_type": "execute_result",
          "data": {
            "text/plain": [
              "{'a', 'b', 'c', 'd'}"
            ]
          },
          "metadata": {
            "tags": []
          },
          "execution_count": 110
        }
      ]
    },
    {
      "cell_type": "code",
      "metadata": {
        "id": "hFDIeWUEkCqF",
        "colab_type": "code",
        "outputId": "e0147f52-03f0-4312-a85d-493662fbf093",
        "colab": {
          "base_uri": "https://localhost:8080/",
          "height": 34
        }
      },
      "source": [
        "{'b', 'd'} < x # subset test"
      ],
      "execution_count": 0,
      "outputs": [
        {
          "output_type": "execute_result",
          "data": {
            "text/plain": [
              "True"
            ]
          },
          "metadata": {
            "tags": []
          },
          "execution_count": 111
        }
      ]
    },
    {
      "cell_type": "code",
      "metadata": {
        "id": "o7somRZrkFPd",
        "colab_type": "code",
        "outputId": "d1f7b410-f837-4956-e393-ba41740a9bf7",
        "colab": {
          "base_uri": "https://localhost:8080/",
          "height": 34
        }
      },
      "source": [
        "{ord(c) for c in 'spam'} # 3.X set comprehension (ahead)"
      ],
      "execution_count": 0,
      "outputs": [
        {
          "output_type": "execute_result",
          "data": {
            "text/plain": [
              "{97, 109, 112, 115}"
            ]
          },
          "metadata": {
            "tags": []
          },
          "execution_count": 112
        }
      ]
    },
    {
      "cell_type": "code",
      "metadata": {
        "id": "-UwpJY3_bhEc",
        "colab_type": "code",
        "outputId": "88e566a4-cb56-4fbc-e967-a40db5a41ae3",
        "colab": {
          "base_uri": "https://localhost:8080/",
          "height": 34
        }
      },
      "source": [
        "{c: ord(c) for c in 'spam'} # 3.X dict comprehension (ahead)"
      ],
      "execution_count": 0,
      "outputs": [
        {
          "output_type": "execute_result",
          "data": {
            "text/plain": [
              "{'a': 97, 'm': 109, 'p': 112, 's': 115}"
            ]
          },
          "metadata": {
            "tags": []
          },
          "execution_count": 113
        }
      ]
    },
    {
      "cell_type": "markdown",
      "metadata": {
        "id": "gC-mRqQdi0V9",
        "colab_type": "text"
      },
      "source": [
        "###Built-in type gotchas"
      ]
    },
    {
      "cell_type": "markdown",
      "metadata": {
        "id": "dn_ixgZubhEe",
        "colab_type": "text"
      },
      "source": [
        "*    Assignment creates references, not copies"
      ]
    },
    {
      "cell_type": "code",
      "metadata": {
        "id": "PYgCijzTktWt",
        "colab_type": "code",
        "outputId": "f0b2f8fd-d2ff-4cb2-f089-e6a5b579be47",
        "colab": {
          "base_uri": "https://localhost:8080/",
          "height": 34
        }
      },
      "source": [
        "L = [1, 2, 3]\n",
        "M = ['X', L, 'Y']\n",
        "M"
      ],
      "execution_count": 0,
      "outputs": [
        {
          "output_type": "execute_result",
          "data": {
            "text/plain": [
              "['X', [1, 2, 3], 'Y']"
            ]
          },
          "metadata": {
            "tags": []
          },
          "execution_count": 114
        }
      ]
    },
    {
      "cell_type": "code",
      "metadata": {
        "id": "8DqoS90DbhEf",
        "colab_type": "code",
        "outputId": "68dfbaf6-3f88-49c7-ddc2-dac2dd259d1c",
        "colab": {
          "base_uri": "https://localhost:8080/",
          "height": 34
        }
      },
      "source": [
        "L[1] = 0\n",
        "M"
      ],
      "execution_count": 0,
      "outputs": [
        {
          "output_type": "execute_result",
          "data": {
            "text/plain": [
              "['X', [1, 0, 3], 'Y']"
            ]
          },
          "metadata": {
            "tags": []
          },
          "execution_count": 115
        }
      ]
    },
    {
      "cell_type": "markdown",
      "metadata": {
        "id": "EG_zeoONbhEh",
        "colab_type": "text"
      },
      "source": [
        "*    Repetition adds 1-level deep"
      ]
    },
    {
      "cell_type": "code",
      "metadata": {
        "id": "Q1W0-mlRk0rd",
        "colab_type": "code",
        "outputId": "201ab0d2-35c2-40ab-cc08-8d5119e64518",
        "colab": {
          "base_uri": "https://localhost:8080/",
          "height": 51
        }
      },
      "source": [
        "L = [4, 5, 6]\n",
        "X = L * 4 # like [4, 5, 6] + [4, 5, 6] + ...\n",
        "Y = [L] * 4 # [L] + [L] + ... = [L, L,...]\n",
        "X, Y"
      ],
      "execution_count": 0,
      "outputs": [
        {
          "output_type": "execute_result",
          "data": {
            "text/plain": [
              "([4, 5, 6, 4, 5, 6, 4, 5, 6, 4, 5, 6],\n",
              " [[4, 5, 6], [4, 5, 6], [4, 5, 6], [4, 5, 6]])"
            ]
          },
          "metadata": {
            "tags": []
          },
          "execution_count": 116
        }
      ]
    },
    {
      "cell_type": "code",
      "metadata": {
        "id": "9NWYPKTNbhEi",
        "colab_type": "code",
        "outputId": "0fd9a301-44e8-4d4c-bbea-dc2a21c152c7",
        "colab": {
          "base_uri": "https://localhost:8080/",
          "height": 51
        }
      },
      "source": [
        "L[1] = 0\n",
        "X, Y"
      ],
      "execution_count": 0,
      "outputs": [
        {
          "output_type": "execute_result",
          "data": {
            "text/plain": [
              "([4, 5, 6, 4, 5, 6, 4, 5, 6, 4, 5, 6],\n",
              " [[4, 0, 6], [4, 0, 6], [4, 0, 6], [4, 0, 6]])"
            ]
          },
          "metadata": {
            "tags": []
          },
          "execution_count": 117
        }
      ]
    },
    {
      "cell_type": "markdown",
      "metadata": {
        "id": "y1v5dSdMbhEj",
        "colab_type": "text"
      },
      "source": [
        "*    Cyclic structures print oddly (loop in 1.5)"
      ]
    },
    {
      "cell_type": "code",
      "metadata": {
        "id": "uFbhRTxJbhEj",
        "colab_type": "code",
        "outputId": "fb0e93bf-1bec-451a-ec10-883d47e208cc",
        "colab": {
          "base_uri": "https://localhost:8080/",
          "height": 34
        }
      },
      "source": [
        "L = ['hi.']; L.append(L) # append reference to self\n",
        "L # dots=cycle today (no loop)"
      ],
      "execution_count": 0,
      "outputs": [
        {
          "output_type": "execute_result",
          "data": {
            "text/plain": [
              "['hi.', [...]]"
            ]
          },
          "metadata": {
            "tags": []
          },
          "execution_count": 118
        }
      ]
    },
    {
      "cell_type": "markdown",
      "metadata": {
        "id": "flaK7VwIbhEk",
        "colab_type": "text"
      },
      "source": [
        "*    Immutable types cant be changed in-place"
      ]
    },
    {
      "cell_type": "code",
      "metadata": {
        "id": "J7-wfR4YlI6X",
        "colab_type": "code",
        "outputId": "ee671c53-a8f2-4120-9b8a-2a19fc148439",
        "colab": {
          "base_uri": "https://localhost:8080/",
          "height": 214
        }
      },
      "source": [
        "T = (1, 2, 3)\n",
        "print(\"ERROR EXPECTED\")\n",
        "T[2] = 4 # error!"
      ],
      "execution_count": 0,
      "outputs": [
        {
          "output_type": "stream",
          "text": [
            "ERROR EXPECTED\n"
          ],
          "name": "stdout"
        },
        {
          "output_type": "error",
          "ename": "TypeError",
          "evalue": "ignored",
          "traceback": [
            "\u001b[0;31m---------------------------------------------------------------------------\u001b[0m",
            "\u001b[0;31mTypeError\u001b[0m                                 Traceback (most recent call last)",
            "\u001b[0;32m<ipython-input-120-1c0433a04f32>\u001b[0m in \u001b[0;36m<module>\u001b[0;34m()\u001b[0m\n\u001b[1;32m      1\u001b[0m \u001b[0mT\u001b[0m \u001b[0;34m=\u001b[0m \u001b[0;34m(\u001b[0m\u001b[0;36m1\u001b[0m\u001b[0;34m,\u001b[0m \u001b[0;36m2\u001b[0m\u001b[0;34m,\u001b[0m \u001b[0;36m3\u001b[0m\u001b[0;34m)\u001b[0m\u001b[0;34m\u001b[0m\u001b[0;34m\u001b[0m\u001b[0m\n\u001b[1;32m      2\u001b[0m \u001b[0mprint\u001b[0m\u001b[0;34m(\u001b[0m\u001b[0;34m\"ERROR EXPECTED\"\u001b[0m\u001b[0;34m)\u001b[0m\u001b[0;34m\u001b[0m\u001b[0;34m\u001b[0m\u001b[0m\n\u001b[0;32m----> 3\u001b[0;31m \u001b[0mT\u001b[0m\u001b[0;34m[\u001b[0m\u001b[0;36m2\u001b[0m\u001b[0;34m]\u001b[0m \u001b[0;34m=\u001b[0m \u001b[0;36m4\u001b[0m \u001b[0;31m# error!\u001b[0m\u001b[0;34m\u001b[0m\u001b[0;34m\u001b[0m\u001b[0m\n\u001b[0m",
            "\u001b[0;31mTypeError\u001b[0m: 'tuple' object does not support item assignment"
          ]
        }
      ]
    },
    {
      "cell_type": "code",
      "metadata": {
        "id": "lquouZFolOgp",
        "colab_type": "code",
        "outputId": "a9a2219a-6a74-4653-e787-33b14cc25e38",
        "colab": {
          "base_uri": "https://localhost:8080/",
          "height": 34
        }
      },
      "source": [
        "T = T[:2] + (4,) # okay: (1, 2, 4)\n",
        "T"
      ],
      "execution_count": 0,
      "outputs": [
        {
          "output_type": "execute_result",
          "data": {
            "text/plain": [
              "(1, 2, 4)"
            ]
          },
          "metadata": {
            "tags": []
          },
          "execution_count": 122
        }
      ]
    },
    {
      "cell_type": "markdown",
      "metadata": {
        "id": "pxa54tHl-qCE",
        "colab_type": "text"
      },
      "source": [
        "##Basic Statements"
      ]
    },
    {
      "cell_type": "markdown",
      "metadata": {
        "id": "-_7mm0NN-vmz",
        "colab_type": "text"
      },
      "source": [
        "**Python program structure**\n",
        "\n",
        "*     Programs are composed of modules\n",
        "*     Modules contain statements\n",
        "*     Statements contain expressions: logic\n",
        "*     Expressions create and process objects"
      ]
    },
    {
      "cell_type": "markdown",
      "metadata": {
        "id": "whsI_a9nZ59w",
        "colab_type": "text"
      },
      "source": [
        "Statement |\tExamples\n",
        "---|---\n",
        "Assignment |\tcurly, moe, larry = 'good', 'bad', 'ugly'\n",
        "Calls |\tstdout.write(\"spam, ham, toast\\n\")\n",
        "Print (a call in 3.X) |\tprint 1, \"spam\", 4, 'u',\n",
        "If/elif/else |\tif \"python\" in text: mail(poster, spam)\n",
        "For/else |\tfor peteSake in spam: print peteSake\n",
        "While/else |\twhile 1: print 'spam',i; i=i+1\n",
        "Pass |\twhile 1: pass\n",
        "Break, Continue |\twhile 1: break\n",
        "Try/except/finally |\ttry: spam() except: print 'spam error'\n",
        "Raise |\traise overWorked, cause\n",
        "Import, From |\timport chips; from refrigerator import beer\n",
        "Def, Return,Yield |\tdef f(a, b, c=1, *d): return a+b+c+d[0]\n",
        "Class |\tclass subclass(superclass): staticData = []\n",
        "Global, Nonlocal (3.X) |\tdef function(): global x, y; x = 'new'\n",
        "Del |\tdel spam[k]; del spam[i:j]; del spam.attr\n",
        "Exec (a call in 3.X) |\texec \"import \" + moduleName in gdict, ldict\n",
        "Assert |\tassert name != \"\", \"empty name field\"\n",
        "With/As (2.6+) |\twith open('text.dat') as F: process(F)"
      ]
    },
    {
      "cell_type": "markdown",
      "metadata": {
        "id": "WhwvH7kXAU8X",
        "colab_type": "text"
      },
      "source": [
        "###General syntax concepts"
      ]
    },
    {
      "cell_type": "markdown",
      "metadata": {
        "id": "MxQk2a16AZiL",
        "colab_type": "text"
      },
      "source": [
        "**Python syntax**\n",
        "\n",
        "*     No variable/type declarations\n",
        "*     No braces or semicolons\n",
        "*     The what you see is what you get of languages"
      ]
    },
    {
      "cell_type": "markdown",
      "metadata": {
        "id": "OcFkYsAjAgd7",
        "colab_type": "text"
      },
      "source": [
        "**Python assignment**\n",
        "\n",
        "*     Assignments create object references\n",
        "*     Names are created when first assigned\n",
        "*     Names must be assigned before being referenced"
      ]
    },
    {
      "cell_type": "markdown",
      "metadata": {
        "id": "yspBwjrfAmxA",
        "colab_type": "text"
      },
      "source": [
        "**A Tale of Two Ifs**\n",
        "\n",
        "C++/Java/etc.:\n",
        "```c\n",
        "if (x)\n",
        "{\n",
        "    x = y + z; // braces, semicolons, parens\n",
        "}\n",
        "```\n",
        "\n",
        "Python:\n",
        "```python\n",
        "if x:\n",
        "  x = y + z # indented blocks, end of line, colon\n",
        "```\n",
        "\n",
        "*      What Python removes [(), ;, {}], and adds [:]\n",
        "*      Why indentation syntax? [readability counts!]"
      ]
    },
    {
      "cell_type": "markdown",
      "metadata": {
        "id": "goHPr7ijBQZe",
        "colab_type": "text"
      },
      "source": [
        "###Assignment"
      ]
    },
    {
      "cell_type": "markdown",
      "metadata": {
        "id": "Bst_ff8WBbeA",
        "colab_type": "text"
      },
      "source": [
        "*     = assigns object references to names or components\n",
        "*     Implicit assignments: import, from, def, class, for, calls"
      ]
    },
    {
      "cell_type": "markdown",
      "metadata": {
        "id": "oBoGo0qZBgGC",
        "colab_type": "text"
      },
      "source": [
        "Operation |\tInterpretation\n",
        "---|---\n",
        "spam = 'SPAM' |\tbasic form\n",
        "spam, ham = 'yum', 'YUM' |\ttuple assignment\n",
        "[spam, ham] = ['yum', 'YUM'] |\tlist assignment\n",
        "a, b, c, d = 'spam' |\tsequence assign\n",
        "spam = ham = 'lunch' |\tmultiple-target\n",
        "spam += 42; ham *= 12 |\tAugmented (2.0)\n",
        "a, *b, c = [1, 2, 3, 4] |\tExtended (3.X)"
      ]
    },
    {
      "cell_type": "markdown",
      "metadata": {
        "id": "CfygsUeYBtTI",
        "colab_type": "text"
      },
      "source": [
        "**Variable name rules**\n",
        "\n",
        "*     (_ or letter) + (any number of letters, digits, _s)\n",
        "*     Case matters: SPAM is not spam\n",
        "*     But cant use reserved words:\n",
        "*     + yield, for generators (2.3 and later)\n",
        "*     + with and as for context managers (2.6, optional in 2.5 though not in 2.5 IDLE!)\n",
        "*     3.X: minus print, exec; plus None, True, False, nonlocal (and in 3.5+: async, await)\n",
        "*     Also applies to module file names:\n",
        "    -     some-code.py can be run, but not imported! (notice dash!)"
      ]
    },
    {
      "cell_type": "markdown",
      "metadata": {
        "id": "qOkU_WWjB5Ly",
        "colab_type": "text"
      },
      "source": [
        "and |\tassert |\tbreak |\tclass\n",
        "---|---|---|---\n",
        "continue |\tdef |\tdel |\telif\n",
        "else |\texcept |\texec |\tfinally\n",
        "for |\tfrom |\tglobal |\tif\n",
        "import |\tin |\tis |\tlambda\n",
        "not |\tor |\tpass |\tprint\n",
        "raise |\treturn |\ttry |\twhile"
      ]
    },
    {
      "cell_type": "markdown",
      "metadata": {
        "id": "ghcvrH-_CH5r",
        "colab_type": "text"
      },
      "source": [
        "###Expressions"
      ]
    },
    {
      "cell_type": "markdown",
      "metadata": {
        "id": "GqcQomBlCL2r",
        "colab_type": "text"
      },
      "source": [
        "*     Useful for calls, and interactive prints\n",
        "*     Expressions can be used as statements\n",
        "*     But statements cannot be used as expressions (=)"
      ]
    },
    {
      "cell_type": "markdown",
      "metadata": {
        "id": "2Fk5NxhcCTHv",
        "colab_type": "text"
      },
      "source": [
        "Operation |\tInterpretation\n",
        "---|---\n",
        "spam(eggs, ham) |\tfunction calls\n",
        "spam.ham(eggs) |\tmethod calls\n",
        "spam |\tinteractive print\n",
        "spam < ham and ham != eggs |\tcompound expr's\n",
        "spam < ham < eggs |\trange tests"
      ]
    },
    {
      "cell_type": "markdown",
      "metadata": {
        "id": "MM6iGEYJCVoY",
        "colab_type": "text"
      },
      "source": [
        "###Print"
      ]
    },
    {
      "cell_type": "markdown",
      "metadata": {
        "id": "JKUyeY-VEDXi",
        "colab_type": "text"
      },
      "source": [
        "*     print statement writes objects to the stdout stream\n",
        "*     File object write methods write strings to files\n",
        "*     Adding a trailing comma suppresses line-feed\n",
        "*     Reset sys.stdout to catch print output\n",
        "*     3.X: a built-in function call with arguments in ()"
      ]
    },
    {
      "cell_type": "markdown",
      "metadata": {
        "id": "9UdCnMCzZ598",
        "colab_type": "text"
      },
      "source": [
        "**Python 2.X form:**\n",
        "\n",
        "Operation |\tInterpretation\n",
        "---|---\n",
        "print spam, ham |\tprint objects to sys.stdout\n",
        "print spam, ham, |\tdont add linefeed at end\n",
        "print>>file, spam |\tPython 2.0: not to stdout"
      ]
    },
    {
      "cell_type": "markdown",
      "metadata": {
        "id": "7J_xDFc-ENaK",
        "colab_type": "text"
      },
      "source": [
        "**Python 3.X form:**\n",
        "\n",
        "```python\n",
        "print(spam, ham, sep='::', end='.\\n', file=open('save.txt', 'w'), flush=True)\n",
        "```"
      ]
    },
    {
      "cell_type": "markdown",
      "metadata": {
        "id": "WoRd5VtXZ59_",
        "colab_type": "text"
      },
      "source": [
        "**Usable in 2.X via:**\n",
        "\n",
        "```python\n",
        "from __future__ import print_function\n",
        "```\n"
      ]
    },
    {
      "cell_type": "markdown",
      "metadata": {
        "id": "_dMz4LkzZ5-C",
        "colab_type": "text"
      },
      "source": [
        "**Otherwise, 2.X to 3.X mappings:**\n",
        "\n",
        "2.X | 3.X\n",
        "---|---\n",
        "print a | print(a)\n",
        "print a, b, c | print(a, b, c)\n",
        "print a, b, | print(a, b, end='')\n",
        "print>>F, a | print(a, file=F)"
      ]
    },
    {
      "cell_type": "markdown",
      "metadata": {
        "id": "KuWxtKT0Z5-F",
        "colab_type": "text"
      },
      "source": [
        "**The Python Hello world program**\n",
        "\n",
        "*    Expression results dont need to be printed at top-level"
      ]
    },
    {
      "cell_type": "code",
      "metadata": {
        "id": "Z9m0zcZTFAvF",
        "colab_type": "code",
        "outputId": "c937fa33-6480-4409-c91b-e87087f05d3d",
        "colab": {
          "base_uri": "https://localhost:8080/",
          "height": 34
        }
      },
      "source": [
        "print('hello world')"
      ],
      "execution_count": 0,
      "outputs": [
        {
          "output_type": "stream",
          "text": [
            "hello world\n"
          ],
          "name": "stdout"
        }
      ]
    },
    {
      "cell_type": "markdown",
      "metadata": {
        "id": "MdV5bxB-FI5Z",
        "colab_type": "text"
      },
      "source": [
        "*    The hard way"
      ]
    },
    {
      "cell_type": "code",
      "metadata": {
        "id": "HbGSObQYFMhn",
        "colab_type": "code",
        "outputId": "d9b2a7d9-0648-4bc7-f183-5c9fb563c637",
        "colab": {
          "base_uri": "https://localhost:8080/",
          "height": 34
        }
      },
      "source": [
        "x = 'hello world'\n",
        "import sys\n",
        "sys.stdout.write(str(x) + '\\n')"
      ],
      "execution_count": 0,
      "outputs": [
        {
          "output_type": "stream",
          "text": [
            "hello world\n"
          ],
          "name": "stdout"
        }
      ]
    },
    {
      "cell_type": "markdown",
      "metadata": {
        "id": "i95ibgGXFRgD",
        "colab_type": "text"
      },
      "source": [
        "*    sys.stdout can be assigned"
      ]
    },
    {
      "cell_type": "code",
      "metadata": {
        "id": "7KpfNNnQZ5-F",
        "colab_type": "code",
        "outputId": "b6b4ca58-2e89-4b70-89c2-b9f6d90a76ea",
        "colab": {
          "base_uri": "https://localhost:8080/",
          "height": 68
        }
      },
      "source": [
        "_old_out = sys.stdout\n",
        "sys.stdout = open('log', 'a') # or a class with .write\n",
        "print(x)\n",
        "sys.stdout = _old_out # restore broken out\n",
        "!cat log"
      ],
      "execution_count": 0,
      "outputs": [
        {
          "output_type": "stream",
          "text": [
            "hello world\n",
            "hello world\n",
            "hello world\n"
          ],
          "name": "stdout"
        }
      ]
    },
    {
      "cell_type": "markdown",
      "metadata": {
        "id": "9DGN35VYHAhP",
        "colab_type": "text"
      },
      "source": [
        "###If selections"
      ]
    },
    {
      "cell_type": "markdown",
      "metadata": {
        "id": "J0qcon5wZ5-H",
        "colab_type": "text"
      },
      "source": [
        "*     Pythons main selection construct\n",
        "*     No switch: via if/elif/else, dictionaries, or lists\n",
        "*     See also expression ahead: X = B if A else C"
      ]
    },
    {
      "cell_type": "markdown",
      "metadata": {
        "id": "X5OOJvmKZViB",
        "colab_type": "text"
      },
      "source": [
        "**General format**\n",
        "\n",
        "```python\n",
        "if <test1>:\n",
        "  <statements1>\n",
        "elif <test2>: # optional elifs\n",
        "  <statements2>\n",
        "else: # optional else\n",
        "  <statements3>\n",
        "```"
      ]
    },
    {
      "cell_type": "markdown",
      "metadata": {
        "id": "3X0AT_R6Zd_Z",
        "colab_type": "text"
      },
      "source": [
        "**Examples**"
      ]
    },
    {
      "cell_type": "code",
      "metadata": {
        "id": "-QTWrQoOZ5-I",
        "colab_type": "code",
        "outputId": "fd85c632-a96e-4098-c2e1-f71559a1e624",
        "colab": {
          "base_uri": "https://localhost:8080/",
          "height": 34
        }
      },
      "source": [
        "if 3 > 2:\n",
        "  print('yep')"
      ],
      "execution_count": 0,
      "outputs": [
        {
          "output_type": "stream",
          "text": [
            "yep\n"
          ],
          "name": "stdout"
        }
      ]
    },
    {
      "cell_type": "code",
      "metadata": {
        "id": "-A2eoe9yZ5-L",
        "colab_type": "code",
        "outputId": "d342657a-1207-47bc-8482-57be89fd3892",
        "colab": {
          "base_uri": "https://localhost:8080/",
          "height": 34
        }
      },
      "source": [
        "x = 'killer rabbit'\n",
        "\n",
        "if x == 'bunny':\n",
        "  print('hello little bunny')\n",
        "elif x == 'bugs':\n",
        "  print(\"what's up doc?\")\n",
        "else:\n",
        "  print('Run away! Run away!')"
      ],
      "execution_count": 0,
      "outputs": [
        {
          "output_type": "stream",
          "text": [
            "Run away! Run away!\n"
          ],
          "name": "stdout"
        }
      ]
    },
    {
      "cell_type": "code",
      "metadata": {
        "id": "w_Ti5pmrZ5-N",
        "colab_type": "code",
        "outputId": "5a29b1ab-31ef-4222-9868-9d74536ec5fd",
        "colab": {
          "base_uri": "https://localhost:8080/",
          "height": 34
        }
      },
      "source": [
        "choice = 'ham'\n",
        "\n",
        "print({'spam': 1.25, # dictionary switch\n",
        "       'ham': 1.99,\n",
        "       'eggs': 0.99,\n",
        "       'bacon': 1.10}[choice])"
      ],
      "execution_count": 0,
      "outputs": [
        {
          "output_type": "stream",
          "text": [
            "1.99\n"
          ],
          "name": "stdout"
        }
      ]
    },
    {
      "cell_type": "code",
      "metadata": {
        "id": "yJde8cGQZ5-O",
        "colab_type": "code",
        "outputId": "b69b2b40-05d3-45e3-d5a4-a7fd1293f8b9",
        "colab": {
          "base_uri": "https://localhost:8080/",
          "height": 34
        }
      },
      "source": [
        "# with actions\n",
        "choice = 'square'\n",
        "arg = 2\n",
        "{'linear': (lambda x: x),\n",
        " 'square': (lambda x: x**2),\n",
        "}[choice](arg)"
      ],
      "execution_count": 0,
      "outputs": [
        {
          "output_type": "execute_result",
          "data": {
            "text/plain": [
              "4"
            ]
          },
          "metadata": {
            "tags": []
          },
          "execution_count": 7
        }
      ]
    },
    {
      "cell_type": "markdown",
      "metadata": {
        "id": "kgZeHYS9Z5-Q",
        "colab_type": "text"
      },
      "source": [
        "###Python syntax rules"
      ]
    },
    {
      "cell_type": "markdown",
      "metadata": {
        "id": "KdeCxhevfTFo",
        "colab_type": "text"
      },
      "source": [
        "*     Compound statements = header, :, indented statements\n",
        "*     Block and statement boundaries detected automatically\n",
        "*     Comments run from # through end of line\n",
        "*     Documentation strings at top of file, class, function"
      ]
    },
    {
      "cell_type": "markdown",
      "metadata": {
        "id": "ceGdgtoxfVpX",
        "colab_type": "text"
      },
      "source": [
        "**Block delimiters**\n",
        "\n",
        "*      Block boundaries detected by line indentation\n",
        "*      Indentation is any combination of spaces and tabs\n",
        "*      Tabs = N spaces up to multiple of 8 (but dont mix)"
      ]
    },
    {
      "cell_type": "markdown",
      "metadata": {
        "id": "AT68SPT5faDn",
        "colab_type": "text"
      },
      "source": [
        "**Statement delimiters**\n",
        "\n",
        "*      Statement normally end at end-of-line, or ';'\n",
        "*      Statements may span lines if open syntactic pair: ( ), { }, [ ]\n",
        "*      Statements may span lines if end in backslash (outdated feature)\n",
        "*      Some string constants span lines too (triple-quotes)"
      ]
    },
    {
      "cell_type": "markdown",
      "metadata": {
        "id": "4fVT3-ydfdwP",
        "colab_type": "text"
      },
      "source": [
        "**Special cases**"
      ]
    },
    {
      "cell_type": "code",
      "metadata": {
        "id": "F-sidBxgZ5-Q",
        "colab_type": "code",
        "outputId": "eaaefe9e-00d1-49b0-da6d-44197729fc3b",
        "colab": {
          "base_uri": "https://localhost:8080/",
          "height": 34
        }
      },
      "source": [
        "L = [\"Good\",\n",
        "     \"Bad\",\n",
        "     \"Ugly\"] # open pairs may span lines\n",
        "L"
      ],
      "execution_count": 0,
      "outputs": [
        {
          "output_type": "execute_result",
          "data": {
            "text/plain": [
              "['Good', 'Bad', 'Ugly']"
            ]
          },
          "metadata": {
            "tags": []
          },
          "execution_count": 9
        }
      ]
    },
    {
      "cell_type": "code",
      "metadata": {
        "id": "hceK7lJCZ5-S",
        "colab_type": "code",
        "outputId": "6c94a926-dcf8-4a75-bae9-dd7671931002",
        "colab": {
          "base_uri": "https://localhost:8080/",
          "height": 34
        }
      },
      "source": [
        "x = 1; y = 2; print(x) # more than 1 simple statement"
      ],
      "execution_count": 0,
      "outputs": [
        {
          "output_type": "stream",
          "text": [
            "1\n"
          ],
          "name": "stdout"
        }
      ]
    },
    {
      "cell_type": "code",
      "metadata": {
        "id": "HrBiRxLGZ5-T",
        "colab_type": "code",
        "outputId": "26f19b4f-7116-46d2-e0f9-d39d3526af9a",
        "colab": {
          "base_uri": "https://localhost:8080/",
          "height": 34
        }
      },
      "source": [
        "if 1: print('hello') # simple statement on header line"
      ],
      "execution_count": 0,
      "outputs": [
        {
          "output_type": "stream",
          "text": [
            "hello\n"
          ],
          "name": "stdout"
        }
      ]
    },
    {
      "cell_type": "markdown",
      "metadata": {
        "id": "dI8txjDkf1PP",
        "colab_type": "text"
      },
      "source": [
        "**Nesting code blocks**"
      ]
    },
    {
      "cell_type": "code",
      "metadata": {
        "id": "PvC3qC7egA7t",
        "colab_type": "code",
        "outputId": "c666dfc3-7802-4882-91c1-0282685ad639",
        "colab": {
          "base_uri": "https://localhost:8080/",
          "height": 68
        }
      },
      "source": [
        "x = 1 # block0\n",
        "if x:\n",
        "  y = 2 # block1\n",
        "  if y:\n",
        "    print('block2')\n",
        "  print('block1')\n",
        "print('block0')"
      ],
      "execution_count": 0,
      "outputs": [
        {
          "output_type": "stream",
          "text": [
            "block2\n",
            "block1\n",
            "block0\n"
          ],
          "name": "stdout"
        }
      ]
    },
    {
      "cell_type": "markdown",
      "metadata": {
        "id": "izj56AbHZ5-V",
        "colab_type": "text"
      },
      "source": [
        "###The documentation sources interlude"
      ]
    },
    {
      "cell_type": "markdown",
      "metadata": {
        "id": "QG5gf7VJ31zK",
        "colab_type": "text"
      },
      "source": [
        "Form |\tRole\n",
        "---|---\n",
        "# comments |\tIn-file documentation\n",
        "The dir function |\tLists of attributes available on objects\n",
        "Docstrings: __doc__ |\tIn-file documentation attached to objects\n",
        "PyDoc: The help function |\tInteractive help for objects\n",
        "PyDoc: HTML reports |\tModule documentation in a browser\n",
        "Standard manual set |\tOfficial language and library descriptions\n",
        "Web resources |\tOnline tutorial, examples, and so on\n",
        "Published books |\tCommercially-available texts (see Resources)"
      ]
    },
    {
      "cell_type": "code",
      "metadata": {
        "id": "af_QFUCw4ACo",
        "colab_type": "code",
        "outputId": "bb5b180d-c7d5-4148-eb65-1808450180d5",
        "colab": {
          "base_uri": "https://localhost:8080/",
          "height": 102
        }
      },
      "source": [
        "import sys\n",
        "dir(sys)[:5] # also works on types, objects, etc."
      ],
      "execution_count": 0,
      "outputs": [
        {
          "output_type": "execute_result",
          "data": {
            "text/plain": [
              "['__displayhook__',\n",
              " '__doc__',\n",
              " '__excepthook__',\n",
              " '__interactivehook__',\n",
              " '__loader__']"
            ]
          },
          "metadata": {
            "tags": []
          },
          "execution_count": 15
        }
      ]
    },
    {
      "cell_type": "code",
      "metadata": {
        "id": "wBDRDSVKZ5-V",
        "colab_type": "code",
        "outputId": "a925f72e-0d7e-43a8-a5ef-97d82cf6667b",
        "colab": {
          "base_uri": "https://localhost:8080/",
          "height": 1000
        }
      },
      "source": [
        "print(sys.__doc__)"
      ],
      "execution_count": 0,
      "outputs": [
        {
          "output_type": "stream",
          "text": [
            "This module provides access to some objects used or maintained by the\n",
            "interpreter and to functions that interact strongly with the interpreter.\n",
            "\n",
            "Dynamic objects:\n",
            "\n",
            "argv -- command line arguments; argv[0] is the script pathname if known\n",
            "path -- module search path; path[0] is the script directory, else ''\n",
            "modules -- dictionary of loaded modules\n",
            "\n",
            "displayhook -- called to show results in an interactive session\n",
            "excepthook -- called to handle any uncaught exception other than SystemExit\n",
            "  To customize printing in an interactive session or to install a custom\n",
            "  top-level exception handler, assign other functions to replace these.\n",
            "\n",
            "stdin -- standard input file object; used by input()\n",
            "stdout -- standard output file object; used by print()\n",
            "stderr -- standard error object; used for error messages\n",
            "  By assigning other file objects (or objects that behave like files)\n",
            "  to these, it is possible to redirect all of the interpreter's I/O.\n",
            "\n",
            "last_type -- type of last uncaught exception\n",
            "last_value -- value of last uncaught exception\n",
            "last_traceback -- traceback of last uncaught exception\n",
            "  These three are only available in an interactive session after a\n",
            "  traceback has been printed.\n",
            "\n",
            "Static objects:\n",
            "\n",
            "builtin_module_names -- tuple of module names built into this interpreter\n",
            "copyright -- copyright notice pertaining to this interpreter\n",
            "exec_prefix -- prefix used to find the machine-specific Python library\n",
            "executable -- absolute path of the executable binary of the Python interpreter\n",
            "float_info -- a struct sequence with information about the float implementation.\n",
            "float_repr_style -- string indicating the style of repr() output for floats\n",
            "hash_info -- a struct sequence with information about the hash algorithm.\n",
            "hexversion -- version information encoded as a single integer\n",
            "implementation -- Python implementation information.\n",
            "int_info -- a struct sequence with information about the int implementation.\n",
            "maxsize -- the largest supported length of containers.\n",
            "maxunicode -- the value of the largest Unicode code point\n",
            "platform -- platform identifier\n",
            "prefix -- prefix used to find the Python library\n",
            "thread_info -- a struct sequence with information about the thread implementation.\n",
            "version -- the version of this interpreter as a string\n",
            "version_info -- version information as a named tuple\n",
            "__stdin__ -- the original stdin; don't touch!\n",
            "__stdout__ -- the original stdout; don't touch!\n",
            "__stderr__ -- the original stderr; don't touch!\n",
            "__displayhook__ -- the original displayhook; don't touch!\n",
            "__excepthook__ -- the original excepthook; don't touch!\n",
            "\n",
            "Functions:\n",
            "\n",
            "displayhook() -- print an object to the screen, and save it in builtins._\n",
            "excepthook() -- print an exception and its traceback to sys.stderr\n",
            "exc_info() -- return thread-safe information about the current exception\n",
            "exit() -- exit the interpreter by raising SystemExit\n",
            "getdlopenflags() -- returns flags to be used for dlopen() calls\n",
            "getprofile() -- get the global profiling function\n",
            "getrefcount() -- return the reference count for an object (plus one :-)\n",
            "getrecursionlimit() -- return the max recursion depth for the interpreter\n",
            "getsizeof() -- return the size of an object in bytes\n",
            "gettrace() -- get the global debug tracing function\n",
            "setcheckinterval() -- control how often the interpreter checks for events\n",
            "setdlopenflags() -- set the flags to be used for dlopen() calls\n",
            "setprofile() -- set the global profiling function\n",
            "setrecursionlimit() -- set the max recursion depth for the interpreter\n",
            "settrace() -- set the global debug tracing function\n",
            "\n"
          ],
          "name": "stdout"
        }
      ]
    },
    {
      "cell_type": "code",
      "metadata": {
        "id": "sxpq5Lcl4OZl",
        "colab_type": "code",
        "outputId": "3b9bffda-e165-4d6b-fba0-57897d835b2d",
        "colab": {
          "base_uri": "https://localhost:8080/",
          "height": 1000
        }
      },
      "source": [
        "help(sys) # Help on built-in module sys"
      ],
      "execution_count": 0,
      "outputs": [
        {
          "output_type": "stream",
          "text": [
            "Help on built-in module sys:\n",
            "\n",
            "NAME\n",
            "    sys\n",
            "\n",
            "MODULE REFERENCE\n",
            "    https://docs.python.org/3.6/library/sys\n",
            "    \n",
            "    The following documentation is automatically generated from the Python\n",
            "    source files.  It may be incomplete, incorrect or include features that\n",
            "    are considered implementation detail and may vary between Python\n",
            "    implementations.  When in doubt, consult the module reference at the\n",
            "    location listed above.\n",
            "\n",
            "DESCRIPTION\n",
            "    This module provides access to some objects used or maintained by the\n",
            "    interpreter and to functions that interact strongly with the interpreter.\n",
            "    \n",
            "    Dynamic objects:\n",
            "    \n",
            "    argv -- command line arguments; argv[0] is the script pathname if known\n",
            "    path -- module search path; path[0] is the script directory, else ''\n",
            "    modules -- dictionary of loaded modules\n",
            "    \n",
            "    displayhook -- called to show results in an interactive session\n",
            "    excepthook -- called to handle any uncaught exception other than SystemExit\n",
            "      To customize printing in an interactive session or to install a custom\n",
            "      top-level exception handler, assign other functions to replace these.\n",
            "    \n",
            "    stdin -- standard input file object; used by input()\n",
            "    stdout -- standard output file object; used by print()\n",
            "    stderr -- standard error object; used for error messages\n",
            "      By assigning other file objects (or objects that behave like files)\n",
            "      to these, it is possible to redirect all of the interpreter's I/O.\n",
            "    \n",
            "    last_type -- type of last uncaught exception\n",
            "    last_value -- value of last uncaught exception\n",
            "    last_traceback -- traceback of last uncaught exception\n",
            "      These three are only available in an interactive session after a\n",
            "      traceback has been printed.\n",
            "    \n",
            "    Static objects:\n",
            "    \n",
            "    builtin_module_names -- tuple of module names built into this interpreter\n",
            "    copyright -- copyright notice pertaining to this interpreter\n",
            "    exec_prefix -- prefix used to find the machine-specific Python library\n",
            "    executable -- absolute path of the executable binary of the Python interpreter\n",
            "    float_info -- a struct sequence with information about the float implementation.\n",
            "    float_repr_style -- string indicating the style of repr() output for floats\n",
            "    hash_info -- a struct sequence with information about the hash algorithm.\n",
            "    hexversion -- version information encoded as a single integer\n",
            "    implementation -- Python implementation information.\n",
            "    int_info -- a struct sequence with information about the int implementation.\n",
            "    maxsize -- the largest supported length of containers.\n",
            "    maxunicode -- the value of the largest Unicode code point\n",
            "    platform -- platform identifier\n",
            "    prefix -- prefix used to find the Python library\n",
            "    thread_info -- a struct sequence with information about the thread implementation.\n",
            "    version -- the version of this interpreter as a string\n",
            "    version_info -- version information as a named tuple\n",
            "    __stdin__ -- the original stdin; don't touch!\n",
            "    __stdout__ -- the original stdout; don't touch!\n",
            "    __stderr__ -- the original stderr; don't touch!\n",
            "    __displayhook__ -- the original displayhook; don't touch!\n",
            "    __excepthook__ -- the original excepthook; don't touch!\n",
            "    \n",
            "    Functions:\n",
            "    \n",
            "    displayhook() -- print an object to the screen, and save it in builtins._\n",
            "    excepthook() -- print an exception and its traceback to sys.stderr\n",
            "    exc_info() -- return thread-safe information about the current exception\n",
            "    exit() -- exit the interpreter by raising SystemExit\n",
            "    getdlopenflags() -- returns flags to be used for dlopen() calls\n",
            "    getprofile() -- get the global profiling function\n",
            "    getrefcount() -- return the reference count for an object (plus one :-)\n",
            "    getrecursionlimit() -- return the max recursion depth for the interpreter\n",
            "    getsizeof() -- return the size of an object in bytes\n",
            "    gettrace() -- get the global debug tracing function\n",
            "    setcheckinterval() -- control how often the interpreter checks for events\n",
            "    setdlopenflags() -- set the flags to be used for dlopen() calls\n",
            "    setprofile() -- set the global profiling function\n",
            "    setrecursionlimit() -- set the max recursion depth for the interpreter\n",
            "    settrace() -- set the global debug tracing function\n",
            "\n",
            "FUNCTIONS\n",
            "    __displayhook__ = displayhook(...)\n",
            "        displayhook(object) -> None\n",
            "        \n",
            "        Print an object to sys.stdout and also save it in builtins._\n",
            "    \n",
            "    __excepthook__ = excepthook(...)\n",
            "        excepthook(exctype, value, traceback) -> None\n",
            "        \n",
            "        Handle an exception by displaying it with a traceback on sys.stderr.\n",
            "    \n",
            "    call_tracing(...)\n",
            "        call_tracing(func, args) -> object\n",
            "        \n",
            "        Call func(*args), while tracing is enabled.  The tracing state is\n",
            "        saved, and restored afterwards.  This is intended to be called from\n",
            "        a debugger from a checkpoint, to recursively debug some other code.\n",
            "    \n",
            "    callstats(...)\n",
            "        callstats() -> tuple of integers\n",
            "        \n",
            "        Return a tuple of function call statistics, if CALL_PROFILE was defined\n",
            "        when Python was built.  Otherwise, return None.\n",
            "        \n",
            "        When enabled, this function returns detailed, implementation-specific\n",
            "        details about the number of function calls executed. The return value is\n",
            "        a 11-tuple where the entries in the tuple are counts of:\n",
            "        0. all function calls\n",
            "        1. calls to PyFunction_Type objects\n",
            "        2. PyFunction calls that do not create an argument tuple\n",
            "        3. PyFunction calls that do not create an argument tuple\n",
            "           and bypass PyEval_EvalCodeEx()\n",
            "        4. PyMethod calls\n",
            "        5. PyMethod calls on bound methods\n",
            "        6. PyType calls\n",
            "        7. PyCFunction calls\n",
            "        8. generator calls\n",
            "        9. All other calls\n",
            "        10. Number of stack pops performed by call_function()\n",
            "    \n",
            "    exc_info(...)\n",
            "        exc_info() -> (type, value, traceback)\n",
            "        \n",
            "        Return information about the most recent exception caught by an except\n",
            "        clause in the current stack frame or in an older stack frame.\n",
            "    \n",
            "    exit(...)\n",
            "        exit([status])\n",
            "        \n",
            "        Exit the interpreter by raising SystemExit(status).\n",
            "        If the status is omitted or None, it defaults to zero (i.e., success).\n",
            "        If the status is an integer, it will be used as the system exit status.\n",
            "        If it is another kind of object, it will be printed and the system\n",
            "        exit status will be one (i.e., failure).\n",
            "    \n",
            "    get_asyncgen_hooks(...)\n",
            "        get_asyncgen_hooks()\n",
            "        \n",
            "        Return a namedtuple of installed asynchronous generators hooks (firstiter, finalizer).\n",
            "    \n",
            "    get_coroutine_wrapper(...)\n",
            "        get_coroutine_wrapper()\n",
            "        \n",
            "        Return the wrapper for coroutine objects set by sys.set_coroutine_wrapper.\n",
            "    \n",
            "    getallocatedblocks(...)\n",
            "        getallocatedblocks() -> integer\n",
            "        \n",
            "        Return the number of memory blocks currently allocated, regardless of their\n",
            "        size.\n",
            "    \n",
            "    getcheckinterval(...)\n",
            "        getcheckinterval() -> current check interval; see setcheckinterval().\n",
            "    \n",
            "    getdefaultencoding(...)\n",
            "        getdefaultencoding() -> string\n",
            "        \n",
            "        Return the current default string encoding used by the Unicode \n",
            "        implementation.\n",
            "    \n",
            "    getdlopenflags(...)\n",
            "        getdlopenflags() -> int\n",
            "        \n",
            "        Return the current value of the flags that are used for dlopen calls.\n",
            "        The flag constants are defined in the os module.\n",
            "    \n",
            "    getfilesystemencodeerrors(...)\n",
            "        getfilesystemencodeerrors() -> string\n",
            "        \n",
            "        Return the error mode used to convert Unicode filenames in\n",
            "        operating system filenames.\n",
            "    \n",
            "    getfilesystemencoding(...)\n",
            "        getfilesystemencoding() -> string\n",
            "        \n",
            "        Return the encoding used to convert Unicode filenames in\n",
            "        operating system filenames.\n",
            "    \n",
            "    getprofile(...)\n",
            "        getprofile()\n",
            "        \n",
            "        Return the profiling function set with sys.setprofile.\n",
            "        See the profiler chapter in the library manual.\n",
            "    \n",
            "    getrecursionlimit(...)\n",
            "        getrecursionlimit()\n",
            "        \n",
            "        Return the current value of the recursion limit, the maximum depth\n",
            "        of the Python interpreter stack.  This limit prevents infinite\n",
            "        recursion from causing an overflow of the C stack and crashing Python.\n",
            "    \n",
            "    getrefcount(...)\n",
            "        getrefcount(object) -> integer\n",
            "        \n",
            "        Return the reference count of object.  The count returned is generally\n",
            "        one higher than you might expect, because it includes the (temporary)\n",
            "        reference as an argument to getrefcount().\n",
            "    \n",
            "    getsizeof(...)\n",
            "        getsizeof(object, default) -> int\n",
            "        \n",
            "        Return the size of object in bytes.\n",
            "    \n",
            "    getswitchinterval(...)\n",
            "        getswitchinterval() -> current thread switch interval; see setswitchinterval().\n",
            "    \n",
            "    gettrace(...)\n",
            "        gettrace()\n",
            "        \n",
            "        Return the global debug tracing function set with sys.settrace.\n",
            "        See the debugger chapter in the library manual.\n",
            "    \n",
            "    intern(...)\n",
            "        intern(string) -> string\n",
            "        \n",
            "        ``Intern'' the given string.  This enters the string in the (global)\n",
            "        table of interned strings whose purpose is to speed up dictionary lookups.\n",
            "        Return the string itself or the previously interned string object with the\n",
            "        same value.\n",
            "    \n",
            "    is_finalizing(...)\n",
            "        is_finalizing()\n",
            "        Return True if Python is exiting.\n",
            "    \n",
            "    set_asyncgen_hooks(...)\n",
            "        set_asyncgen_hooks(*, firstiter=None, finalizer=None)\n",
            "        \n",
            "        Set a finalizer for async generators objects.\n",
            "    \n",
            "    set_coroutine_wrapper(...)\n",
            "        set_coroutine_wrapper(wrapper)\n",
            "        \n",
            "        Set a wrapper for coroutine objects.\n",
            "    \n",
            "    setcheckinterval(...)\n",
            "        setcheckinterval(n)\n",
            "        \n",
            "        Tell the Python interpreter to check for asynchronous events every\n",
            "        n instructions.  This also affects how often thread switches occur.\n",
            "    \n",
            "    setdlopenflags(...)\n",
            "        setdlopenflags(n) -> None\n",
            "        \n",
            "        Set the flags used by the interpreter for dlopen calls, such as when the\n",
            "        interpreter loads extension modules.  Among other things, this will enable\n",
            "        a lazy resolving of symbols when importing a module, if called as\n",
            "        sys.setdlopenflags(0).  To share symbols across extension modules, call as\n",
            "        sys.setdlopenflags(os.RTLD_GLOBAL).  Symbolic names for the flag modules\n",
            "        can be found in the os module (RTLD_xxx constants, e.g. os.RTLD_LAZY).\n",
            "    \n",
            "    setprofile(...)\n",
            "        setprofile(function)\n",
            "        \n",
            "        Set the profiling function.  It will be called on each function call\n",
            "        and return.  See the profiler chapter in the library manual.\n",
            "    \n",
            "    setrecursionlimit(...)\n",
            "        setrecursionlimit(n)\n",
            "        \n",
            "        Set the maximum depth of the Python interpreter stack to n.  This\n",
            "        limit prevents infinite recursion from causing an overflow of the C\n",
            "        stack and crashing Python.  The highest possible limit is platform-\n",
            "        dependent.\n",
            "    \n",
            "    setswitchinterval(...)\n",
            "        setswitchinterval(n)\n",
            "        \n",
            "        Set the ideal thread switching delay inside the Python interpreter\n",
            "        The actual frequency of switching threads can be lower if the\n",
            "        interpreter executes long sequences of uninterruptible code\n",
            "        (this is implementation-specific and workload-dependent).\n",
            "        \n",
            "        The parameter must represent the desired switching delay in seconds\n",
            "        A typical value is 0.005 (5 milliseconds).\n",
            "    \n",
            "    settrace(...)\n",
            "        settrace(function)\n",
            "        \n",
            "        Set the global debug tracing function.  It will be called on each\n",
            "        function call.  See the debugger chapter in the library manual.\n",
            "\n",
            "DATA\n",
            "    __stderr__ = <_io.TextIOWrapper name='<stderr>' mode='w' encoding='UTF...\n",
            "    __stdin__ = <_io.TextIOWrapper name='<stdin>' mode='r' encoding='UTF-8...\n",
            "    __stdout__ = <_io.TextIOWrapper name='<stdout>' mode='w' encoding='UTF...\n",
            "    abiflags = 'm'\n",
            "    api_version = 1013\n",
            "    argv = ['/usr/local/lib/python3.6/dist-packages/ipykernel_launcher.py'...\n",
            "    base_exec_prefix = '/usr'\n",
            "    base_prefix = '/usr'\n",
            "    builtin_module_names = ('_ast', '_bisect', '_blake2', '_codecs', '_col...\n",
            "    byteorder = 'little'\n",
            "    copyright = 'Copyright (c) 2001-2018 Python Software Foundati...ematis...\n",
            "    displayhook = <ipykernel.displayhook.ZMQShellDisplayHook object>\n",
            "    dont_write_bytecode = False\n",
            "    exec_prefix = '/usr'\n",
            "    executable = '/usr/bin/python3'\n",
            "    flags = sys.flags(debug=0, inspect=0, interactive=0, opt...ing=0, quie...\n",
            "    float_info = sys.float_info(max=1.7976931348623157e+308, max_...epsilo...\n",
            "    float_repr_style = 'short'\n",
            "    hash_info = sys.hash_info(width=64, modulus=2305843009213693...iphash2...\n",
            "    hexversion = 50727152\n",
            "    implementation = namespace(_multiarch='x86_64-linux-gnu', cache_t...in...\n",
            "    int_info = sys.int_info(bits_per_digit=30, sizeof_digit=4)\n",
            "    last_value = AttributeError(\"'NoneType' object has no attribute 'split...\n",
            "    maxsize = 9223372036854775807\n",
            "    maxunicode = 1114111\n",
            "    meta_path = [<google.colab._import_hooks._cv2._OpenCVImportHook object...\n",
            "    modules = {'IPython': <module 'IPython' from '/usr/local/lib/python3.6...\n",
            "    path = ['', '/env/python', '/usr/lib/python36.zip', '/usr/lib/python3....\n",
            "    path_hooks = [<class 'zipimport.zipimporter'>, <function FileFinder.pa...\n",
            "    path_importer_cache = {'/content': FileFinder('/content'), '/env/pytho...\n",
            "    platform = 'linux'\n",
            "    prefix = '/usr'\n",
            "    ps1 = 'In : '\n",
            "    ps2 = '...: '\n",
            "    ps3 = 'Out: '\n",
            "    stderr = <ipykernel.iostream.OutStream object>\n",
            "    stdin = <_io.TextIOWrapper name='<stdin>' mode='r' encoding='UTF-8'>\n",
            "    stdout = <ipykernel.iostream.OutStream object>\n",
            "    thread_info = sys.thread_info(name='pthread', lock='semaphore', versio...\n",
            "    version = '3.6.8 (default, Jan 14 2019, 11:02:34) \\n[GCC 8.0.1 2018041...\n",
            "    version_info = sys.version_info(major=3, minor=6, micro=8, releaseleve...\n",
            "    warnoptions = ['ignore:::pip._internal.cli.base_command']\n",
            "\n",
            "FILE\n",
            "    (built-in)\n",
            "\n",
            "\n"
          ],
          "name": "stdout"
        }
      ]
    },
    {
      "cell_type": "markdown",
      "metadata": {
        "id": "NmSFPCB_Z5-X",
        "colab_type": "text"
      },
      "source": [
        "**PyDoc**\n",
        "\n",
        "*      GUI till 3.2:\n",
        "*      Start/App menu, PythonXX/ModuleDocs\n",
        "*      Or run Python script pydocgui.pyw in std lib\n",
        "*      Or command line python -m pydoc g (or C:\\Python3x\\python )\n",
        "*      Browser in 3.2+:\n",
        "*      Command line python -m pydoc b\n",
        "*      Or on Windows py −3 -m pydoc b\n",
        "*      Or on some Python 3.X: Start/App menu, PythonXX/ModuleDocs"
      ]
    },
    {
      "cell_type": "code",
      "metadata": {
        "id": "-YzomRerZ5-X",
        "colab_type": "code",
        "outputId": "e1e640e5-a7b8-47ea-ef61-d825df6503bb",
        "colab": {
          "base_uri": "https://localhost:8080/",
          "height": 357
        }
      },
      "source": [
        "\"\"\"\n",
        "Module documentation\n",
        "Words Go Here\n",
        "\"\"\"\n",
        "\n",
        "spam = 40\n",
        " \n",
        "def square(x):\n",
        "  \"\"\"\n",
        "  function documentation\n",
        "  can we have your liver then?\n",
        "  \"\"\"\n",
        "  return x ** 2\n",
        " \n",
        "\n",
        "class SomeClass: # see ahead\n",
        "  \"\"\"\n",
        "  class docs go here, and can also\n",
        "  be in nested method def statements\n",
        "  \"\"\"\n",
        "  pass\n",
        " \n",
        "\n",
        "\n",
        "help(SomeClass)\n",
        "help(square)"
      ],
      "execution_count": 0,
      "outputs": [
        {
          "output_type": "stream",
          "text": [
            "Help on class SomeClass in module __main__:\n",
            "\n",
            "class SomeClass(builtins.object)\n",
            " |  class docs go here, and can also\n",
            " |  be in nested method def statements\n",
            " |  \n",
            " |  Data descriptors defined here:\n",
            " |  \n",
            " |  __dict__\n",
            " |      dictionary for instance variables (if defined)\n",
            " |  \n",
            " |  __weakref__\n",
            " |      list of weak references to the object (if defined)\n",
            "\n",
            "Help on function square in module __main__:\n",
            "\n",
            "square(x)\n",
            "    function documentation\n",
            "    can we have your liver then?\n",
            "\n"
          ],
          "name": "stdout"
        }
      ]
    },
    {
      "cell_type": "markdown",
      "metadata": {
        "id": "jXH-NYKcZ5-Y",
        "colab_type": "text"
      },
      "source": [
        "###Truth tests revisited"
      ]
    },
    {
      "cell_type": "markdown",
      "metadata": {
        "id": "PyB8qv5h7jh6",
        "colab_type": "text"
      },
      "source": [
        "*     True = non-zero number, or non-empty object\n",
        "*     Comparisons operators return True (1) or False (0)\n",
        "*     Boolean operators short-circuit when result known\n",
        "*     Boolean operators return an operand object"
      ]
    },
    {
      "cell_type": "markdown",
      "metadata": {
        "id": "L1NLP16K7mYh",
        "colab_type": "text"
      },
      "source": [
        "Object |\tValue\n",
        "---|---\n",
        "\"spam\" |\ttrue\n",
        "\"\" |\tfalse\n",
        "[] |\tfalse\n",
        "{} |\tfalse\n",
        "1 |\ttrue\n",
        "0.0 |\tfalse\n",
        "None |\tfalse"
      ]
    },
    {
      "cell_type": "markdown",
      "metadata": {
        "id": "HsGlc9z97rTo",
        "colab_type": "text"
      },
      "source": [
        "**Examples**"
      ]
    },
    {
      "cell_type": "code",
      "metadata": {
        "id": "e4e-6_R3765R",
        "colab_type": "code",
        "outputId": "9bbd97e7-1519-4898-b9d1-33dc858bd903",
        "colab": {
          "base_uri": "https://localhost:8080/",
          "height": 34
        }
      },
      "source": [
        "2 < 3, 3 < 2 # return True (1) or False (0)"
      ],
      "execution_count": 0,
      "outputs": [
        {
          "output_type": "execute_result",
          "data": {
            "text/plain": [
              "(True, False)"
            ]
          },
          "metadata": {
            "tags": []
          },
          "execution_count": 22
        }
      ]
    },
    {
      "cell_type": "code",
      "metadata": {
        "id": "O8J_6dKS7-XW",
        "colab_type": "code",
        "outputId": "d49e5911-f65d-419e-a5ea-c4736c8715ef",
        "colab": {
          "base_uri": "https://localhost:8080/",
          "height": 34
        }
      },
      "source": [
        "2 or 3, 3 or 2 # return left operand if true else return right operand (T|F)"
      ],
      "execution_count": 0,
      "outputs": [
        {
          "output_type": "execute_result",
          "data": {
            "text/plain": [
              "(2, 3)"
            ]
          },
          "metadata": {
            "tags": []
          },
          "execution_count": 23
        }
      ]
    },
    {
      "cell_type": "code",
      "metadata": {
        "id": "ko649X598AvJ",
        "colab_type": "code",
        "outputId": "c36747ae-8f94-4223-ccd4-1aa292ced07a",
        "colab": {
          "base_uri": "https://localhost:8080/",
          "height": 34
        }
      },
      "source": [
        "[] or 3"
      ],
      "execution_count": 0,
      "outputs": [
        {
          "output_type": "execute_result",
          "data": {
            "text/plain": [
              "3"
            ]
          },
          "metadata": {
            "tags": []
          },
          "execution_count": 24
        }
      ]
    },
    {
      "cell_type": "code",
      "metadata": {
        "id": "4wXfglry8DO1",
        "colab_type": "code",
        "outputId": "5726faab-ce70-487b-d0e4-9122a0b9cf22",
        "colab": {
          "base_uri": "https://localhost:8080/",
          "height": 34
        }
      },
      "source": [
        "[] or {}"
      ],
      "execution_count": 0,
      "outputs": [
        {
          "output_type": "execute_result",
          "data": {
            "text/plain": [
              "{}"
            ]
          },
          "metadata": {
            "tags": []
          },
          "execution_count": 31
        }
      ]
    },
    {
      "cell_type": "code",
      "metadata": {
        "id": "Q40V13lF8mDT",
        "colab_type": "code",
        "outputId": "a4e1adb2-44a6-47c7-c23f-4993c6060c8b",
        "colab": {
          "base_uri": "https://localhost:8080/",
          "height": 34
        }
      },
      "source": [
        "{} or []"
      ],
      "execution_count": 0,
      "outputs": [
        {
          "output_type": "execute_result",
          "data": {
            "text/plain": [
              "[]"
            ]
          },
          "metadata": {
            "tags": []
          },
          "execution_count": 32
        }
      ]
    },
    {
      "cell_type": "code",
      "metadata": {
        "id": "zZT-4-7e8VEC",
        "colab_type": "code",
        "outputId": "70380718-93e9-4623-dea6-8acfa1a0c72a",
        "colab": {
          "base_uri": "https://localhost:8080/",
          "height": 34
        }
      },
      "source": [
        "2 and 3, 3 and 2 # return left operand if false lse return right operand (T|F)"
      ],
      "execution_count": 0,
      "outputs": [
        {
          "output_type": "execute_result",
          "data": {
            "text/plain": [
              "(3, 2)"
            ]
          },
          "metadata": {
            "tags": []
          },
          "execution_count": 26
        }
      ]
    },
    {
      "cell_type": "code",
      "metadata": {
        "id": "qZ8awzgCZ5-Z",
        "colab_type": "code",
        "outputId": "40067faf-37c0-491b-c9cf-b5439d2a6b40",
        "colab": {
          "base_uri": "https://localhost:8080/",
          "height": 34
        }
      },
      "source": [
        "[] and {}"
      ],
      "execution_count": 0,
      "outputs": [
        {
          "output_type": "execute_result",
          "data": {
            "text/plain": [
              "[]"
            ]
          },
          "metadata": {
            "tags": []
          },
          "execution_count": 27
        }
      ]
    },
    {
      "cell_type": "code",
      "metadata": {
        "id": "bKC7w8i08bqF",
        "colab_type": "code",
        "outputId": "30ecb368-2a5b-40e2-d507-5e9eb1a651e6",
        "colab": {
          "base_uri": "https://localhost:8080/",
          "height": 34
        }
      },
      "source": [
        "3 and []"
      ],
      "execution_count": 0,
      "outputs": [
        {
          "output_type": "execute_result",
          "data": {
            "text/plain": [
              "[]"
            ]
          },
          "metadata": {
            "tags": []
          },
          "execution_count": 28
        }
      ]
    },
    {
      "cell_type": "markdown",
      "metadata": {
        "id": "TftMXeVn7wf7",
        "colab_type": "text"
      },
      "source": [
        "**Ternary operator in Python**"
      ]
    },
    {
      "cell_type": "code",
      "metadata": {
        "id": "DqjCmSvp73gE",
        "colab_type": "code",
        "outputId": "6d7c7785-0462-4037-f7c2-6b049585d43b",
        "colab": {
          "base_uri": "https://localhost:8080/",
          "height": 34
        }
      },
      "source": [
        "x = 'a' if 3 > 2 else 'b'\n",
        "x"
      ],
      "execution_count": 0,
      "outputs": [
        {
          "output_type": "execute_result",
          "data": {
            "text/plain": [
              "'a'"
            ]
          },
          "metadata": {
            "tags": []
          },
          "execution_count": 34
        }
      ]
    },
    {
      "cell_type": "markdown",
      "metadata": {
        "id": "o3cnritBZ5-a",
        "colab_type": "text"
      },
      "source": [
        "**Boolean type**\n",
        "\n",
        "*     bool is a subclass of int\n",
        "*      bool has two instances: True and False\n",
        "*      True,False are 1,0 but print differently"
      ]
    },
    {
      "cell_type": "code",
      "metadata": {
        "id": "0Ab2Wz0d9JWo",
        "colab_type": "code",
        "outputId": "71392e1d-724b-45f9-e6d0-3046e00e9f12",
        "colab": {
          "base_uri": "https://localhost:8080/",
          "height": 34
        }
      },
      "source": [
        "1 > 0"
      ],
      "execution_count": 0,
      "outputs": [
        {
          "output_type": "execute_result",
          "data": {
            "text/plain": [
              "True"
            ]
          },
          "metadata": {
            "tags": []
          },
          "execution_count": 35
        }
      ]
    },
    {
      "cell_type": "code",
      "metadata": {
        "id": "UMNO0BHLZ5-b",
        "colab_type": "code",
        "outputId": "44f16294-aa11-4a0e-cbd5-bc3530b4166e",
        "colab": {
          "base_uri": "https://localhost:8080/",
          "height": 34
        }
      },
      "source": [
        "True == 1, True is 1"
      ],
      "execution_count": 0,
      "outputs": [
        {
          "output_type": "execute_result",
          "data": {
            "text/plain": [
              "(True, False)"
            ]
          },
          "metadata": {
            "tags": []
          },
          "execution_count": 36
        }
      ]
    },
    {
      "cell_type": "code",
      "metadata": {
        "id": "Zm0WaROw9OKj",
        "colab_type": "code",
        "outputId": "71e0d8da-874c-42ea-f906-8b00fcc80503",
        "colab": {
          "base_uri": "https://localhost:8080/",
          "height": 34
        }
      },
      "source": [
        "True + 1"
      ],
      "execution_count": 0,
      "outputs": [
        {
          "output_type": "execute_result",
          "data": {
            "text/plain": [
              "2"
            ]
          },
          "metadata": {
            "tags": []
          },
          "execution_count": 37
        }
      ]
    },
    {
      "cell_type": "markdown",
      "metadata": {
        "id": "Ug8_b3UzZ5-e",
        "colab_type": "text"
      },
      "source": [
        "###While loops"
      ]
    },
    {
      "cell_type": "markdown",
      "metadata": {
        "id": "SKOYYBfX9SfA",
        "colab_type": "text"
      },
      "source": [
        "*     Pythons most general iteration construct\n",
        "*     One of two looping statements: while, for\n",
        "*     Implicit looping tools: map, reduce, filter, in, list (and other) comprehensions"
      ]
    },
    {
      "cell_type": "markdown",
      "metadata": {
        "id": "HcQXDern9UdY",
        "colab_type": "text"
      },
      "source": [
        "**General format**\n",
        "\n",
        "```python\n",
        "while <test>:\n",
        "  <statements>\n",
        "else: # optional else\n",
        "  <statements2> # run if didn't exit with break\n",
        "```"
      ]
    },
    {
      "cell_type": "markdown",
      "metadata": {
        "id": "mZWSdAWA9dao",
        "colab_type": "text"
      },
      "source": [
        "**Examples**"
      ]
    },
    {
      "cell_type": "code",
      "metadata": {
        "id": "L0wEiEJlZ5-f",
        "colab_type": "code",
        "colab": {}
      },
      "source": [
        "while True:\n",
        "  print('Press Stop to stop me!')"
      ],
      "execution_count": 0,
      "outputs": []
    },
    {
      "cell_type": "code",
      "metadata": {
        "id": "XjnQ9x2DZ5-h",
        "colab_type": "code",
        "outputId": "9b8eca89-ec85-42db-abe5-2c4bd4bf4599",
        "colab": {
          "base_uri": "https://localhost:8080/",
          "height": 102
        }
      },
      "source": [
        "count = 5\n",
        "while count:\n",
        "  print(count)\n",
        "  count -= 1"
      ],
      "execution_count": 0,
      "outputs": [
        {
          "output_type": "stream",
          "text": [
            "5\n",
            "4\n",
            "3\n",
            "2\n",
            "1\n"
          ],
          "name": "stdout"
        }
      ]
    },
    {
      "cell_type": "code",
      "metadata": {
        "id": "iP02e8PG99LB",
        "colab_type": "code",
        "outputId": "f1335e38-56fa-4930-82dc-09c6b09f77ee",
        "colab": {
          "base_uri": "https://localhost:8080/",
          "height": 85
        }
      },
      "source": [
        "x = 'spam'\n",
        "while x:\n",
        "  print(x)\n",
        "  x = x[1:] # strip first char off x"
      ],
      "execution_count": 0,
      "outputs": [
        {
          "output_type": "stream",
          "text": [
            "spam\n",
            "pam\n",
            "am\n",
            "m\n"
          ],
          "name": "stdout"
        }
      ]
    },
    {
      "cell_type": "code",
      "metadata": {
        "id": "xulpXQIjZ5-j",
        "colab_type": "code",
        "outputId": "c2a5b424-2286-4d53-839f-538d9d6e6f97",
        "colab": {
          "base_uri": "https://localhost:8080/",
          "height": 34
        }
      },
      "source": [
        "a=0; b=10\n",
        "while a < b: # one way to code counter loops\n",
        "  print(a, end=',')\n",
        "  a += 1"
      ],
      "execution_count": 0,
      "outputs": [
        {
          "output_type": "stream",
          "text": [
            "0,1,2,3,4,5,6,7,8,9,"
          ],
          "name": "stdout"
        }
      ]
    },
    {
      "cell_type": "markdown",
      "metadata": {
        "id": "iL8kaIC2Z5-k",
        "colab_type": "text"
      },
      "source": [
        "###Break, continue, pass, and the loop else"
      ]
    },
    {
      "cell_type": "markdown",
      "metadata": {
        "id": "riqtHld8-mAI",
        "colab_type": "text"
      },
      "source": [
        "*     break jumps out of the closest enclosing loop\n",
        "*     continue jumps to the top of the closest enclosing loop\n",
        "*     pass does nothing: an empty statement placeholder\n",
        "*     loop else run if loop exits normally, without a break\n",
        "*     3.X a literal ellipsis can work like a pass"
      ]
    },
    {
      "cell_type": "markdown",
      "metadata": {
        "id": "RBU49Ywv-oPg",
        "colab_type": "text"
      },
      "source": [
        "**General loop format**\n",
        "\n",
        "```python\n",
        "while <test>:\n",
        "  <statements>\n",
        "  if <test>: break # exit loop now, skip else\n",
        "  if <test>: continue # go to top of loop now\n",
        "else:\n",
        "  <statements> # if we didnt hit a break\n",
        "```"
      ]
    },
    {
      "cell_type": "markdown",
      "metadata": {
        "id": "81-5tCGd-yHo",
        "colab_type": "text"
      },
      "source": [
        "**Examples**\n",
        "\n",
        "*    Pass: an infinite loop\n",
        "*    Better example: stubbed-out function bodies, TBD"
      ]
    },
    {
      "cell_type": "code",
      "metadata": {
        "id": "c6ZIYxMuZ5-m",
        "colab_type": "code",
        "colab": {}
      },
      "source": [
        "while True: pass # Stop button to stop!"
      ],
      "execution_count": 0,
      "outputs": []
    },
    {
      "cell_type": "markdown",
      "metadata": {
        "id": "Bi71tSRaZ5-n",
        "colab_type": "text"
      },
      "source": [
        "*    Continue: print even numbers\n",
        "*    Avoids statement nesting (but use sparingly!)"
      ]
    },
    {
      "cell_type": "code",
      "metadata": {
        "id": "hRyrnz9wZ5-o",
        "colab_type": "code",
        "outputId": "853f46c2-a8be-4824-c272-422b2e9dfd43",
        "colab": {
          "base_uri": "https://localhost:8080/",
          "height": 34
        }
      },
      "source": [
        "x = 10\n",
        "while x:\n",
        "  x = x-1\n",
        "  if x % 2 != 0: continue # odd?--skip\n",
        "  print(x, end=\",\")"
      ],
      "execution_count": 0,
      "outputs": [
        {
          "output_type": "stream",
          "text": [
            "8,6,4,2,0,"
          ],
          "name": "stdout"
        }
      ]
    },
    {
      "cell_type": "markdown",
      "metadata": {
        "id": "DsdpipdyZ5-p",
        "colab_type": "text"
      },
      "source": [
        "*    Break: find factors\n",
        "*    Avoids search status flags"
      ]
    },
    {
      "cell_type": "code",
      "metadata": {
        "id": "zJ3wFWYuZ5-p",
        "colab_type": "code",
        "outputId": "b3d8c783-47f2-404f-c4f2-cb2f4fecaba6",
        "colab": {
          "base_uri": "https://localhost:8080/",
          "height": 34
        }
      },
      "source": [
        "y = 121\n",
        "x = y // 2\n",
        "while x > 1:\n",
        "  if y % x == 0: # remainder\n",
        "    print(y, 'has factor', x)\n",
        "    break # skip else\n",
        "  x = x-1\n",
        "else: # normal exit\n",
        "  print(y, 'is prime')\n",
        " \n"
      ],
      "execution_count": 0,
      "outputs": [
        {
          "output_type": "stream",
          "text": [
            "121 has factor 11\n"
          ],
          "name": "stdout"
        }
      ]
    },
    {
      "cell_type": "markdown",
      "metadata": {
        "id": "mTm9HWQBZ5-q",
        "colab_type": "text"
      },
      "source": [
        "###For loops"
      ]
    },
    {
      "cell_type": "markdown",
      "metadata": {
        "id": "FicJuaxwDiRU",
        "colab_type": "text"
      },
      "source": [
        "*     A general sequence (iterable) iterator\n",
        "*     Works on strings, lists, tuples, other\n",
        "*     Replaces most counter style loops\n",
        "*     Original: repeatedly indexes object until IndexError detected\n",
        "*     Newer: repeatedly calls next(iter(object)) until StopIteration\n",
        "*     Preview: also works on Python classes and C types"
      ]
    },
    {
      "cell_type": "markdown",
      "metadata": {
        "id": "HTw8FSSPDrYT",
        "colab_type": "text"
      },
      "source": [
        "**General format**\n",
        "\n",
        "```python\n",
        "for <target> in <object>: # assign object items to target\n",
        "  <statements>\n",
        "  if <test>: break # exit loop now, skip else\n",
        "  if <test>: continue # go to top of loop now\n",
        "else:\n",
        "  <statements> # if we didnt hit a break\n",
        " ```"
      ]
    },
    {
      "cell_type": "markdown",
      "metadata": {
        "id": "BSA_m2VzDzg-",
        "colab_type": "text"
      },
      "source": [
        "**Examples**"
      ]
    },
    {
      "cell_type": "code",
      "metadata": {
        "id": "AmjVZbjsKT3u",
        "colab_type": "code",
        "outputId": "cb54f362-3f79-48f1-8702-cf9e70474d8f",
        "colab": {
          "base_uri": "https://localhost:8080/",
          "height": 68
        }
      },
      "source": [
        "for x in [\"spam\", \"eggs\", \"spam\"]:\n",
        "  print(x)"
      ],
      "execution_count": 0,
      "outputs": [
        {
          "output_type": "stream",
          "text": [
            "spam\n",
            "eggs\n",
            "spam\n"
          ],
          "name": "stdout"
        }
      ]
    },
    {
      "cell_type": "code",
      "metadata": {
        "id": "pO3sEmXQKa9K",
        "colab_type": "code",
        "outputId": "9bb99268-6147-4d45-ced2-5b3f45981f6c",
        "colab": {
          "base_uri": "https://localhost:8080/",
          "height": 34
        }
      },
      "source": [
        "prod = 1\n",
        "for i in (1, 2, 3, 4): prod *= i # tuples\n",
        "\n",
        "prod"
      ],
      "execution_count": 0,
      "outputs": [
        {
          "output_type": "execute_result",
          "data": {
            "text/plain": [
              "24"
            ]
          },
          "metadata": {
            "tags": []
          },
          "execution_count": 49
        }
      ]
    },
    {
      "cell_type": "code",
      "metadata": {
        "id": "1turvzgDZ5-r",
        "colab_type": "code",
        "outputId": "334280f9-72d8-4501-8f61-151d8b98527f",
        "colab": {
          "base_uri": "https://localhost:8080/",
          "height": 85
        }
      },
      "source": [
        "S = 'spam'\n",
        "for c in S: print(c) # strings"
      ],
      "execution_count": 0,
      "outputs": [
        {
          "output_type": "stream",
          "text": [
            "s\n",
            "p\n",
            "a\n",
            "m\n"
          ],
          "name": "stdout"
        }
      ]
    },
    {
      "cell_type": "markdown",
      "metadata": {
        "id": "u9UipQFtZ5-s",
        "colab_type": "text"
      },
      "source": [
        "**Works on any iterable object: files, dicts**"
      ]
    },
    {
      "cell_type": "code",
      "metadata": {
        "id": "uFeR8PPFLDoO",
        "colab_type": "code",
        "colab": {}
      },
      "source": [
        "! echo \"hello\" >  data.txt &&\\\n",
        "  echo \"world\" >> data.txt &&\\\n",
        "  echo \"!!!!\" >> data.txt"
      ],
      "execution_count": 0,
      "outputs": []
    },
    {
      "cell_type": "code",
      "metadata": {
        "id": "e5lzK0qqZ5-t",
        "colab_type": "code",
        "outputId": "bfbfd676-6ec4-42ee-f9cb-90562b20e181",
        "colab": {
          "base_uri": "https://localhost:8080/",
          "height": 119
        }
      },
      "source": [
        "for line in open('data.txt'):\n",
        "  print(line.upper()) # calls next(), catches exc"
      ],
      "execution_count": 0,
      "outputs": [
        {
          "output_type": "stream",
          "text": [
            "HELLO\n",
            "\n",
            "WORLD\n",
            "\n",
            "!!!!\n",
            "\n"
          ],
          "name": "stdout"
        }
      ]
    },
    {
      "cell_type": "code",
      "metadata": {
        "id": "5L1iTGIMLacW",
        "colab_type": "code",
        "outputId": "9bb417e6-91cc-427c-e907-e58f1504611a",
        "colab": {
          "base_uri": "https://localhost:8080/",
          "height": 51
        }
      },
      "source": [
        "D = {'hello':'world', 'this is':'Sparta'}\n",
        "for key in D:\n",
        "  print(key, D[key])"
      ],
      "execution_count": 0,
      "outputs": [
        {
          "output_type": "stream",
          "text": [
            "hello world\n",
            "this is Sparta\n"
          ],
          "name": "stdout"
        }
      ]
    },
    {
      "cell_type": "markdown",
      "metadata": {
        "id": "RN9z56W3Z5-u",
        "colab_type": "text"
      },
      "source": [
        "**iteration protocol and files**\n",
        "\n",
        "*      file.__next__() gets next line, like file.readline(), but eof differs\n",
        "*      Use file.next() in 2.X, or next(file) in either 2.X or 3.X\n",
        "*      All iteration tools/contexts use the iteration protocol\n",
        "*      Protocol: I=iter(X), call next(I) * N, catch StopIteration\n",
        "*      iter(X) optional for single-scan iterables (e.g., files)\n",
        "*      Any such object works in for loops, comprehensions,\n",
        "*      line.rstrip(), line.upper() are string methods"
      ]
    },
    {
      "cell_type": "markdown",
      "metadata": {
        "id": "9deAvz84Lyiy",
        "colab_type": "text"
      },
      "source": [
        "**Comprehensions:**\n",
        "\n",
        "*      [expr-with-var for var in iterable]\n",
        "*      [expr-with-var for var in iterable if expr-with-var]\n",
        "*      [expr-with-vars for var1 in iterable1 for var2 in iterable2]\n",
        "*      Also works for sets, dictionaries, generators in 2.7+: {}, ()\n",
        "*      Hint: comps have statement equivalents: for/if/append() nesting\n",
        "*      Hint: KISS! if its hard for you read, dont do it"
      ]
    },
    {
      "cell_type": "markdown",
      "metadata": {
        "id": "r-xOsUI8L2KN",
        "colab_type": "text"
      },
      "source": [
        "###Loop coding techniques"
      ]
    },
    {
      "cell_type": "markdown",
      "metadata": {
        "id": "i-tzevgbL5bN",
        "colab_type": "text"
      },
      "source": [
        "*     for subsumes most counter loops\n",
        "*     range generates a list of integers to iterate over\n",
        "*     xrange similar, but doesnt create a real list\n",
        "*     avoid range, and the temptation to count things!"
      ]
    },
    {
      "cell_type": "code",
      "metadata": {
        "id": "PtKnhzUdSeSs",
        "colab_type": "code",
        "outputId": "216f403e-871e-4e45-a745-6c8f857a8178",
        "colab": {
          "base_uri": "https://localhost:8080/",
          "height": 85
        }
      },
      "source": [
        "# The easy (and fast) way\n",
        "\n",
        "X = 'spam'\n",
        "for item in X: print(item) # step through items"
      ],
      "execution_count": 0,
      "outputs": [
        {
          "output_type": "stream",
          "text": [
            "s\n",
            "p\n",
            "a\n",
            "m\n"
          ],
          "name": "stdout"
        }
      ]
    },
    {
      "cell_type": "code",
      "metadata": {
        "id": "k9UctjyCZ5-v",
        "colab_type": "code",
        "outputId": "eed68625-e158-49b0-8f2c-bcc0df80d0a3",
        "colab": {
          "base_uri": "https://localhost:8080/",
          "height": 85
        }
      },
      "source": [
        "# The hard way: a C-style for loop\n",
        "\n",
        "i = 0\n",
        "while i < len(X): # manual while indexing\n",
        "  print(X[i]); i += 1"
      ],
      "execution_count": 0,
      "outputs": [
        {
          "output_type": "stream",
          "text": [
            "s\n",
            "p\n",
            "a\n",
            "m\n"
          ],
          "name": "stdout"
        }
      ]
    },
    {
      "cell_type": "code",
      "metadata": {
        "id": "CuDvCIh5YoZC",
        "colab_type": "code",
        "outputId": "93040396-ab5f-41ed-f3ea-49cca1e3093e",
        "colab": {
          "base_uri": "https://localhost:8080/",
          "height": 34
        }
      },
      "source": [
        "# Range and fixed repitions\n",
        "list(range(5)), list(range(2, 5))"
      ],
      "execution_count": 0,
      "outputs": [
        {
          "output_type": "execute_result",
          "data": {
            "text/plain": [
              "([0, 1, 2, 3, 4], [2, 3, 4])"
            ]
          },
          "metadata": {
            "tags": []
          },
          "execution_count": 59
        }
      ]
    },
    {
      "cell_type": "code",
      "metadata": {
        "id": "y7DK1ChNYvsJ",
        "colab_type": "code",
        "outputId": "2a013524-967e-4a45-f4e1-9dbdeb7bfac8",
        "colab": {
          "base_uri": "https://localhost:8080/",
          "height": 85
        }
      },
      "source": [
        "for i in range(4): print('A shrubbery!')"
      ],
      "execution_count": 0,
      "outputs": [
        {
          "output_type": "stream",
          "text": [
            "A shrubbery!\n",
            "A shrubbery!\n",
            "A shrubbery!\n",
            "A shrubbery!\n"
          ],
          "name": "stdout"
        }
      ]
    },
    {
      "cell_type": "code",
      "metadata": {
        "id": "UoLbUNiKc6LT",
        "colab_type": "code",
        "outputId": "159e666c-e895-4ac5-b671-8d7b40a920ae",
        "colab": {
          "base_uri": "https://localhost:8080/",
          "height": 34
        }
      },
      "source": [
        "X = 'spam'\n",
        "len(X)"
      ],
      "execution_count": 0,
      "outputs": [
        {
          "output_type": "execute_result",
          "data": {
            "text/plain": [
              "4"
            ]
          },
          "metadata": {
            "tags": []
          },
          "execution_count": 63
        }
      ]
    },
    {
      "cell_type": "code",
      "metadata": {
        "id": "vmxUOEkWdFFx",
        "colab_type": "code",
        "outputId": "75a80e28-40c9-4a94-aa4d-1c8e3265d114",
        "colab": {
          "base_uri": "https://localhost:8080/",
          "height": 34
        }
      },
      "source": [
        "# Using range to generate offsets (not items!)\n",
        "list(range(len(X)))"
      ],
      "execution_count": 0,
      "outputs": [
        {
          "output_type": "execute_result",
          "data": {
            "text/plain": [
              "[0, 1, 2, 3]"
            ]
          },
          "metadata": {
            "tags": []
          },
          "execution_count": 64
        }
      ]
    },
    {
      "cell_type": "code",
      "metadata": {
        "id": "iovyOzwhdItO",
        "colab_type": "code",
        "outputId": "41f74a57-d3ef-4a89-d303-d5aeaeda544b",
        "colab": {
          "base_uri": "https://localhost:8080/",
          "height": 85
        }
      },
      "source": [
        "for i in range(len(X)): print(X[i]) # step through offsets"
      ],
      "execution_count": 0,
      "outputs": [
        {
          "output_type": "stream",
          "text": [
            "s\n",
            "p\n",
            "a\n",
            "m\n"
          ],
          "name": "stdout"
        }
      ]
    },
    {
      "cell_type": "code",
      "metadata": {
        "id": "0XHjezAxdPcp",
        "colab_type": "code",
        "outputId": "97ef89b4-f275-4296-adee-d871151b130f",
        "colab": {
          "base_uri": "https://localhost:8080/",
          "height": 34
        }
      },
      "source": [
        "# Using range and slicing for non-exhaustive traversals\n",
        "list(range(2, 10, 2))"
      ],
      "execution_count": 0,
      "outputs": [
        {
          "output_type": "execute_result",
          "data": {
            "text/plain": [
              "[2, 4, 6, 8]"
            ]
          },
          "metadata": {
            "tags": []
          },
          "execution_count": 66
        }
      ]
    },
    {
      "cell_type": "code",
      "metadata": {
        "id": "nCEffKLJeO9B",
        "colab_type": "code",
        "outputId": "f2e6eabb-0b65-4dc5-96f7-bd5c3d67cdd0",
        "colab": {
          "base_uri": "https://localhost:8080/",
          "height": 119
        }
      },
      "source": [
        "S = 'abcdefghijk'\n",
        "for i in range(0,len(S),2): print(S[i])"
      ],
      "execution_count": 0,
      "outputs": [
        {
          "output_type": "stream",
          "text": [
            "a\n",
            "c\n",
            "e\n",
            "g\n",
            "i\n",
            "k\n"
          ],
          "name": "stdout"
        }
      ]
    },
    {
      "cell_type": "code",
      "metadata": {
        "id": "JbmB342QeT35",
        "colab_type": "code",
        "outputId": "227dd5fd-6319-44a0-f910-bd9cf731a395",
        "colab": {
          "base_uri": "https://localhost:8080/",
          "height": 119
        }
      },
      "source": [
        "for c in S[::2]: print(c) # S[::-1] reverses"
      ],
      "execution_count": 0,
      "outputs": [
        {
          "output_type": "stream",
          "text": [
            "a\n",
            "c\n",
            "e\n",
            "g\n",
            "i\n",
            "k\n"
          ],
          "name": "stdout"
        }
      ]
    },
    {
      "cell_type": "code",
      "metadata": {
        "id": "SqM01rbbeceC",
        "colab_type": "code",
        "outputId": "ca78b504-7217-4f67-80ba-ee963d9c018d",
        "colab": {
          "base_uri": "https://localhost:8080/",
          "height": 34
        }
      },
      "source": [
        "# Using range and enumerate\n",
        "L = [1, 2, 3, 4]\n",
        "for x in L: x += 10\n",
        "L"
      ],
      "execution_count": 0,
      "outputs": [
        {
          "output_type": "execute_result",
          "data": {
            "text/plain": [
              "[1, 2, 3, 4]"
            ]
          },
          "metadata": {
            "tags": []
          },
          "execution_count": 81
        }
      ]
    },
    {
      "cell_type": "code",
      "metadata": {
        "id": "znc1GJmMenAA",
        "colab_type": "code",
        "outputId": "a3980623-8f87-4777-c837-163e0c735916",
        "colab": {
          "base_uri": "https://localhost:8080/",
          "height": 34
        }
      },
      "source": [
        "for i in range(len(L)): L[i] += 10\n",
        "L"
      ],
      "execution_count": 0,
      "outputs": [
        {
          "output_type": "execute_result",
          "data": {
            "text/plain": [
              "[11, 12, 13, 14]"
            ]
          },
          "metadata": {
            "tags": []
          },
          "execution_count": 73
        }
      ]
    },
    {
      "cell_type": "code",
      "metadata": {
        "id": "QGhPYesrrTfk",
        "colab_type": "code",
        "outputId": "3987795c-dacd-45c3-f880-6e04bc6fc29e",
        "colab": {
          "base_uri": "https://localhost:8080/",
          "height": 34
        }
      },
      "source": [
        "#List comprehensions\n",
        "M = [x + 10 for x in L]\n",
        "M"
      ],
      "execution_count": 0,
      "outputs": [
        {
          "output_type": "execute_result",
          "data": {
            "text/plain": [
              "[21, 22, 23, 24]"
            ]
          },
          "metadata": {
            "tags": []
          },
          "execution_count": 74
        }
      ]
    },
    {
      "cell_type": "code",
      "metadata": {
        "id": "VpTFkYWurZ-X",
        "colab_type": "code",
        "outputId": "71e62886-8bce-463b-9ba3-1df07a236234",
        "colab": {
          "base_uri": "https://localhost:8080/",
          "height": 102
        }
      },
      "source": [
        "lines = [line.rstrip() for line in open('sample_data/README.md')]\n",
        "lines[:5]"
      ],
      "execution_count": 0,
      "outputs": [
        {
          "output_type": "execute_result",
          "data": {
            "text/plain": [
              "['This directory includes a few sample datasets to get you started.',\n",
              " '',\n",
              " '*   `california_housing_data*.csv` is California housing data from the 1990 US',\n",
              " '    Census; more information is available at:',\n",
              " '    https://developers.google.com/machine-learning/crash-course/california-housing-data-description']"
            ]
          },
          "metadata": {
            "tags": []
          },
          "execution_count": 77
        }
      ]
    },
    {
      "cell_type": "code",
      "metadata": {
        "id": "6A_BLUTJrr8R",
        "colab_type": "code",
        "outputId": "9d52f9f5-067a-4a84-98eb-0c34f3779e09",
        "colab": {
          "base_uri": "https://localhost:8080/",
          "height": 34
        }
      },
      "source": [
        "matrix = [[1,2,3], \n",
        "          [4,5,6], \n",
        "          [7,8,9]]\n",
        "[row[1] for row in matrix] "
      ],
      "execution_count": 0,
      "outputs": [
        {
          "output_type": "execute_result",
          "data": {
            "text/plain": [
              "[2, 5, 8]"
            ]
          },
          "metadata": {
            "tags": []
          },
          "execution_count": 78
        }
      ]
    },
    {
      "cell_type": "code",
      "metadata": {
        "id": "15VyC9y96gTn",
        "colab_type": "code",
        "outputId": "64e6f3cf-4b65-4ed2-b145-874292639a77",
        "colab": {
          "base_uri": "https://localhost:8080/",
          "height": 34
        }
      },
      "source": [
        "for (i, x) in enumerate(L):\n",
        "  L[i] = x * 2\n",
        "\n",
        "L"
      ],
      "execution_count": 0,
      "outputs": [
        {
          "output_type": "execute_result",
          "data": {
            "text/plain": [
              "[4, 8, 12, 16]"
            ]
          },
          "metadata": {
            "tags": []
          },
          "execution_count": 84
        }
      ]
    },
    {
      "cell_type": "code",
      "metadata": {
        "id": "W55eg4uV6qlz",
        "colab_type": "code",
        "outputId": "dcf14b35-5b9f-4e7e-d1ef-2ddbd7ed9063",
        "colab": {
          "base_uri": "https://localhost:8080/",
          "height": 34
        }
      },
      "source": [
        "enumerate(L)"
      ],
      "execution_count": 0,
      "outputs": [
        {
          "output_type": "execute_result",
          "data": {
            "text/plain": [
              "<enumerate at 0x7efc2ed67090>"
            ]
          },
          "metadata": {
            "tags": []
          },
          "execution_count": 85
        }
      ]
    },
    {
      "cell_type": "code",
      "metadata": {
        "id": "4Kb28bZk6s0i",
        "colab_type": "code",
        "outputId": "fd935e39-1717-46ce-cd7f-4c116372ed2c",
        "colab": {
          "base_uri": "https://localhost:8080/",
          "height": 34
        }
      },
      "source": [
        "list(enumerate(L))"
      ],
      "execution_count": 0,
      "outputs": [
        {
          "output_type": "execute_result",
          "data": {
            "text/plain": [
              "[(0, 4), (1, 8), (2, 12), (3, 16)]"
            ]
          },
          "metadata": {
            "tags": []
          },
          "execution_count": 86
        }
      ]
    },
    {
      "cell_type": "code",
      "metadata": {
        "id": "plvRsvj86vrC",
        "colab_type": "code",
        "outputId": "e7fa1311-ce0c-4e67-c77f-a99d968430d9",
        "colab": {
          "base_uri": "https://localhost:8080/",
          "height": 34
        }
      },
      "source": [
        "E = enumerate(L)\n",
        "E.__next__()"
      ],
      "execution_count": 0,
      "outputs": [
        {
          "output_type": "execute_result",
          "data": {
            "text/plain": [
              "(0, 4)"
            ]
          },
          "metadata": {
            "tags": []
          },
          "execution_count": 88
        }
      ]
    },
    {
      "cell_type": "code",
      "metadata": {
        "id": "26DaudYp7RcF",
        "colab_type": "code",
        "outputId": "dbda6d60-f266-4328-ef30-845a9da2f1da",
        "colab": {
          "base_uri": "https://localhost:8080/",
          "height": 34
        }
      },
      "source": [
        "E.__next__()"
      ],
      "execution_count": 0,
      "outputs": [
        {
          "output_type": "execute_result",
          "data": {
            "text/plain": [
              "(1, 8)"
            ]
          },
          "metadata": {
            "tags": []
          },
          "execution_count": 89
        }
      ]
    },
    {
      "cell_type": "code",
      "metadata": {
        "id": "JmXvi5cn7VXm",
        "colab_type": "code",
        "outputId": "9e0fd94a-f962-4910-a041-cda02f3d6beb",
        "colab": {
          "base_uri": "https://localhost:8080/",
          "height": 34
        }
      },
      "source": [
        "# Traversing sequences in parallel with zip\n",
        "L1 = [1,2,3,4]\n",
        "L2 = [5,6,7,8]\n",
        "list(zip(L1,L2))"
      ],
      "execution_count": 0,
      "outputs": [
        {
          "output_type": "execute_result",
          "data": {
            "text/plain": [
              "[(1, 5), (2, 6), (3, 7), (4, 8)]"
            ]
          },
          "metadata": {
            "tags": []
          },
          "execution_count": 91
        }
      ]
    },
    {
      "cell_type": "code",
      "metadata": {
        "id": "QHeX0UOU7ZXa",
        "colab_type": "code",
        "outputId": "f2e242f9-b7ae-4642-b1ed-a7519a1d5812",
        "colab": {
          "base_uri": "https://localhost:8080/",
          "height": 85
        }
      },
      "source": [
        "for (x,y) in zip(L1, L2):\n",
        "  print(x, y, '--', x+y)"
      ],
      "execution_count": 0,
      "outputs": [
        {
          "output_type": "stream",
          "text": [
            "1 5 -- 6\n",
            "2 6 -- 8\n",
            "3 7 -- 10\n",
            "4 8 -- 12\n"
          ],
          "name": "stdout"
        }
      ]
    },
    {
      "cell_type": "code",
      "metadata": {
        "id": "N8IXkzvu7e6y",
        "colab_type": "code",
        "outputId": "7f4c07cf-8fb3-48af-8936-576445570b51",
        "colab": {
          "base_uri": "https://localhost:8080/",
          "height": 34
        }
      },
      "source": [
        "# Traversing dictionaries by sorted keys\n",
        "D = {'a':1, 'b':2, 'c':3}\n",
        "D"
      ],
      "execution_count": 0,
      "outputs": [
        {
          "output_type": "execute_result",
          "data": {
            "text/plain": [
              "{'a': 1, 'b': 2, 'c': 3}"
            ]
          },
          "metadata": {
            "tags": []
          },
          "execution_count": 94
        }
      ]
    },
    {
      "cell_type": "code",
      "metadata": {
        "id": "pfsgZ7cl7hND",
        "colab_type": "code",
        "outputId": "227ba2d1-9511-4a48-dde5-7cec75c262c9",
        "colab": {
          "base_uri": "https://localhost:8080/",
          "height": 68
        }
      },
      "source": [
        "Ks = sorted(D.keys())\n",
        "for k in Ks: print(D[k])"
      ],
      "execution_count": 0,
      "outputs": [
        {
          "output_type": "stream",
          "text": [
            "1\n",
            "2\n",
            "3\n"
          ],
          "name": "stdout"
        }
      ]
    },
    {
      "cell_type": "markdown",
      "metadata": {
        "id": "sZFAIvZf71we",
        "colab_type": "text"
      },
      "source": [
        "###Comprehensive loop examples"
      ]
    },
    {
      "cell_type": "markdown",
      "metadata": {
        "id": "344EO2S87_j2",
        "colab_type": "text"
      },
      "source": [
        "**Common ways to read from files**"
      ]
    },
    {
      "cell_type": "code",
      "metadata": {
        "id": "VMOXEDdw8WIO",
        "colab_type": "code",
        "colab": {}
      },
      "source": [
        "# file creation\n",
        "myfile = open('myfile.txt', 'w')\n",
        "for i in range(3):\n",
        "  myfile.write(('spam' * (i+1)) + '\\n')\n",
        "myfile.close()"
      ],
      "execution_count": 0,
      "outputs": []
    },
    {
      "cell_type": "code",
      "metadata": {
        "id": "Sp9ITYSQ8bWp",
        "colab_type": "code",
        "outputId": "ef6fa88e-ffee-4721-ed98-82bf2aaf15ff",
        "colab": {
          "base_uri": "https://localhost:8080/",
          "height": 85
        }
      },
      "source": [
        "# all at once\n",
        "print(open('myfile.txt').read())"
      ],
      "execution_count": 0,
      "outputs": [
        {
          "output_type": "stream",
          "text": [
            "spam\n",
            "spamspam\n",
            "spamspamspam\n",
            "\n"
          ],
          "name": "stdout"
        }
      ]
    },
    {
      "cell_type": "code",
      "metadata": {
        "id": "IzKd6cer8kzW",
        "colab_type": "code",
        "outputId": "9590eff5-3a14-4c5e-d50e-2403c935f433",
        "colab": {
          "base_uri": "https://localhost:8080/",
          "height": 119
        }
      },
      "source": [
        "# line by line\n",
        "myfile = open('myfile.txt')\n",
        "while True:\n",
        "  line = myfile.readline()\n",
        "  if not line: break\n",
        "  print(line)"
      ],
      "execution_count": 0,
      "outputs": [
        {
          "output_type": "stream",
          "text": [
            "spam\n",
            "\n",
            "spamspam\n",
            "\n",
            "spamspamspam\n",
            "\n"
          ],
          "name": "stdout"
        }
      ]
    },
    {
      "cell_type": "code",
      "metadata": {
        "id": "wdJtL43a_Zxi",
        "colab_type": "code",
        "outputId": "12fc3b01-fe1c-445b-e06d-ef99006d8f07",
        "colab": {
          "base_uri": "https://localhost:8080/",
          "height": 119
        }
      },
      "source": [
        "# all lines at once\n",
        "for line in open('myfile.txt').readlines():\n",
        "  print(line)"
      ],
      "execution_count": 0,
      "outputs": [
        {
          "output_type": "stream",
          "text": [
            "spam\n",
            "\n",
            "spamspam\n",
            "\n",
            "spamspamspam\n",
            "\n"
          ],
          "name": "stdout"
        }
      ]
    },
    {
      "cell_type": "code",
      "metadata": {
        "id": "BryzEFx7_g5p",
        "colab_type": "code",
        "outputId": "80857a55-42f2-4c3c-9eb9-01bec6e38e5e",
        "colab": {
          "base_uri": "https://localhost:8080/",
          "height": 119
        }
      },
      "source": [
        "# file iterators: line by line\n",
        "for line in open('myfile.txt'):\n",
        "  print(line)"
      ],
      "execution_count": 0,
      "outputs": [
        {
          "output_type": "stream",
          "text": [
            "spam\n",
            "\n",
            "spamspam\n",
            "\n",
            "spamspamspam\n",
            "\n"
          ],
          "name": "stdout"
        }
      ]
    },
    {
      "cell_type": "code",
      "metadata": {
        "id": "TSHiV0V_Z5-w",
        "colab_type": "code",
        "outputId": "49676015-ad5c-4c43-d08a-e91d29e59b00",
        "colab": {
          "base_uri": "https://localhost:8080/",
          "height": 119
        }
      },
      "source": [
        "# by byte counts\n",
        "myfile = open('myfile.txt')\n",
        "while True:\n",
        "  line = myfile.read(10)\n",
        "  if not line: break\n",
        "  print('[' + line + ']')"
      ],
      "execution_count": 0,
      "outputs": [
        {
          "output_type": "stream",
          "text": [
            "[spam\n",
            "spams]\n",
            "[pam\n",
            "spamsp]\n",
            "[amspam\n",
            "]\n"
          ],
          "name": "stdout"
        }
      ]
    },
    {
      "cell_type": "markdown",
      "metadata": {
        "id": "QnqrEQZNZ5-y",
        "colab_type": "text"
      },
      "source": [
        "**Summing data file columns**"
      ]
    },
    {
      "cell_type": "code",
      "metadata": {
        "id": "bj3VlC8p_z6h",
        "colab_type": "code",
        "colab": {}
      },
      "source": [
        "! echo \"001.1 002.2 003.3\" > data.txt &&\\\n",
        "  echo \"010.1 020.2 030.3 040.4\" >> data.txt &&\\\n",
        "  echo \"100.1 200.2 300.3\" >> data.txt"
      ],
      "execution_count": 0,
      "outputs": []
    },
    {
      "cell_type": "code",
      "metadata": {
        "id": "fFX-AOAbAOhJ",
        "colab_type": "code",
        "outputId": "932cc18b-15e2-4755-8fe0-2a983c52ddc6",
        "colab": {
          "base_uri": "https://localhost:8080/",
          "height": 85
        }
      },
      "source": [
        "print(open('data.txt').read())"
      ],
      "execution_count": 0,
      "outputs": [
        {
          "output_type": "stream",
          "text": [
            "001.1 002.2 003.3\n",
            "010.1 020.2 030.3 040.4\n",
            "100.1 200.2 300.3\n",
            "\n"
          ],
          "name": "stdout"
        }
      ]
    },
    {
      "cell_type": "code",
      "metadata": {
        "id": "2LdXuiuBAXLJ",
        "colab_type": "code",
        "outputId": "8393c497-5b91-41f2-b836-006f72ce850c",
        "colab": {
          "base_uri": "https://localhost:8080/",
          "height": 85
        }
      },
      "source": [
        "sums = {}\n",
        "for line in open('data.txt'):\n",
        "  cols = [float(col) for col in line.split()] # next!\n",
        "  for pos, val in enumerate(cols):\n",
        "    sums[pos] = sums.get(pos, 0.0) + val\n",
        "\n",
        "for key in sorted(sums):\n",
        "  print(key, '=', sums[key])"
      ],
      "execution_count": 0,
      "outputs": [
        {
          "output_type": "stream",
          "text": [
            "0 = 111.3\n",
            "1 = 222.6\n",
            "2 = 333.90000000000003\n",
            "3 = 40.4\n"
          ],
          "name": "stdout"
        }
      ]
    },
    {
      "cell_type": "code",
      "metadata": {
        "id": "B7eCcEvNAedk",
        "colab_type": "code",
        "outputId": "dde1e5fc-70b7-42de-e48d-1d9ea57538c0",
        "colab": {
          "base_uri": "https://localhost:8080/",
          "height": 34
        }
      },
      "source": [
        "sums"
      ],
      "execution_count": 0,
      "outputs": [
        {
          "output_type": "execute_result",
          "data": {
            "text/plain": [
              "{0: 111.3, 1: 222.6, 2: 333.90000000000003, 3: 40.4}"
            ]
          },
          "metadata": {
            "tags": []
          },
          "execution_count": 17
        }
      ]
    },
    {
      "cell_type": "markdown",
      "metadata": {
        "id": "XNejFZyFZ5-z",
        "colab_type": "text"
      },
      "source": [
        "###Basic coding gotchas"
      ]
    },
    {
      "cell_type": "markdown",
      "metadata": {
        "id": "e7QhncInsB35",
        "colab_type": "text"
      },
      "source": [
        "*    Dont forget to type a : at the end of compound statement headers\n",
        "*    Be sure to start top-level (unnested) code in column 1\n",
        "*    Blank lines in compound statements are ignored in files, but end the statement at the interactive prompt\n",
        "*    Avoid mixing tabs and spaces in indentation, unless youre sure what your editor does with tabs\n",
        "*    C programmers: you dont need ( ) around tests in if and while; you cant use { } around blocks\n",
        "*    In-place change operations like list.append() and list.sort() dont return a value (really, they return None); call them without assigning the result.\n",
        "*    Add parens to call a function: file.close() is a call, file.close is a reference only"
      ]
    },
    {
      "cell_type": "markdown",
      "metadata": {
        "id": "NGTc-3m3vVfr",
        "colab_type": "text"
      },
      "source": [
        "##Functions"
      ]
    },
    {
      "cell_type": "markdown",
      "metadata": {
        "id": "JTT1y26hvkHu",
        "colab_type": "text"
      },
      "source": [
        "**Why use functions?**\n",
        "   * Code reuse\n",
        "   * Procedural decomposition\n",
        "   * Alternative to cut-and-paste: redundancy"
      ]
    },
    {
      "cell_type": "markdown",
      "metadata": {
        "id": "mR-U4ZJQwV0L",
        "colab_type": "text"
      },
      "source": [
        "**Function topics**\n",
        "\n",
        "   * The basics\n",
        "   * Scope rules\n",
        "   * Argument matching modes\n",
        "   * Odds and ends\n",
        "   * Generator expressions and functions\n",
        "   * Design concepts\n",
        "   * Functions are objects\n",
        "   * Function gotchas"
      ]
    },
    {
      "cell_type": "markdown",
      "metadata": {
        "id": "DWiT0nEe2C7Y",
        "colab_type": "text"
      },
      "source": [
        "###Function basics"
      ]
    },
    {
      "cell_type": "markdown",
      "metadata": {
        "id": "bi6AGp4I2Jp4",
        "colab_type": "text"
      },
      "source": [
        "   * def is an executable statement; usually run during import\n",
        "   * def creates a function object and assigns to a name\n",
        "   * return sends a result object back to the caller\n",
        "   * Arguments are passed by object reference (assignment)\n",
        "   * Arguments, return types, and variables are not declared\n",
        "   * Polymorphism: code to object interfaces, not datatypes"
      ]
    },
    {
      "cell_type": "markdown",
      "metadata": {
        "id": "0CuOR9JD2OTA",
        "colab_type": "text"
      },
      "source": [
        "**General form**\n",
        "\n",
        "```python\n",
        "def <name>(arg1, arg2,… argN):\n",
        "  <statements>\n",
        "  return <value>\n",
        "```"
      ]
    },
    {
      "cell_type": "markdown",
      "metadata": {
        "id": "_74bCwhRvVf0",
        "colab_type": "text"
      },
      "source": [
        "**Definition**"
      ]
    },
    {
      "cell_type": "code",
      "metadata": {
        "id": "wBxCylXUvVf2",
        "colab_type": "code",
        "colab": {}
      },
      "source": [
        "def times(x, y):      # create and assign function\n",
        "  return x * y      # body executed when called"
      ],
      "execution_count": 0,
      "outputs": []
    },
    {
      "cell_type": "markdown",
      "metadata": {
        "id": "wP8rB_qUvVf5",
        "colab_type": "text"
      },
      "source": [
        "**Calls**"
      ]
    },
    {
      "cell_type": "code",
      "metadata": {
        "id": "R_Y5m2U8vVf5",
        "colab_type": "code",
        "outputId": "2292f00e-6d54-42c8-bea7-5b58613f016e",
        "colab": {
          "base_uri": "https://localhost:8080/",
          "height": 34
        }
      },
      "source": [
        "times(2, 4)           # arguments in parenthesis"
      ],
      "execution_count": 0,
      "outputs": [
        {
          "output_type": "execute_result",
          "data": {
            "text/plain": [
              "8"
            ]
          },
          "metadata": {
            "tags": []
          },
          "execution_count": 2
        }
      ]
    },
    {
      "cell_type": "code",
      "metadata": {
        "id": "W_iQtsh8vVf8",
        "colab_type": "code",
        "outputId": "e98a10fe-9e22-4d4e-a2ba-678463c87763",
        "colab": {
          "base_uri": "https://localhost:8080/",
          "height": 34
        }
      },
      "source": [
        "times('Hi', 4)        # functions are 'typeless'"
      ],
      "execution_count": 0,
      "outputs": [
        {
          "output_type": "execute_result",
          "data": {
            "text/plain": [
              "'HiHiHiHi'"
            ]
          },
          "metadata": {
            "tags": []
          },
          "execution_count": 4
        }
      ]
    },
    {
      "cell_type": "markdown",
      "metadata": {
        "id": "hRaw-gRPvVf-",
        "colab_type": "text"
      },
      "source": [
        "“Polymorphism”\n",
        "\n",
        "\n",
        "The meaning of an operation depends on its subject.\n",
        "By not caring about types, code becomes more flexible.\n",
        "Any object with a compatible interface will work.\n",
        "Most errors are best caught by Python, not your code."
      ]
    },
    {
      "cell_type": "markdown",
      "metadata": {
        "id": "nccse4So2yst",
        "colab_type": "text"
      },
      "source": [
        "**Example: intersecting sequences**\n",
        "\n",
        "   * Definition"
      ]
    },
    {
      "cell_type": "code",
      "metadata": {
        "id": "vdDYTygdvVf_",
        "colab_type": "code",
        "colab": {}
      },
      "source": [
        "def intersect(seq1, seq2):\n",
        "  res = []                     # start empty\n",
        "  for x in seq1:               # scan seq1\n",
        "    if x in seq2:            # common item?\n",
        "        res.append(x)        # add to end\n",
        "  return res"
      ],
      "execution_count": 0,
      "outputs": []
    },
    {
      "cell_type": "markdown",
      "metadata": {
        "id": "RSrh3evxvVgB",
        "colab_type": "text"
      },
      "source": [
        "* Calls"
      ]
    },
    {
      "cell_type": "code",
      "metadata": {
        "id": "tLDewjawvVgC",
        "colab_type": "code",
        "outputId": "be010960-d584-4465-855b-eaadb647c553",
        "colab": {
          "base_uri": "https://localhost:8080/",
          "height": 34
        }
      },
      "source": [
        "s1 = \"SPAM\"\n",
        "s2 = \"SCAM\"\n",
        "intersect(s1, s2)               # strings"
      ],
      "execution_count": 0,
      "outputs": [
        {
          "output_type": "execute_result",
          "data": {
            "text/plain": [
              "['S', 'A', 'M']"
            ]
          },
          "metadata": {
            "tags": []
          },
          "execution_count": 8
        }
      ]
    },
    {
      "cell_type": "code",
      "metadata": {
        "id": "QMsPRDvdvVgJ",
        "colab_type": "code",
        "outputId": "d8b332d8-fb9e-4b3b-d19c-23fee2bf6c84",
        "colab": {
          "base_uri": "https://localhost:8080/",
          "height": 34
        }
      },
      "source": [
        "intersect([1, 2, 3], (1, 4))    # mixed types"
      ],
      "execution_count": 0,
      "outputs": [
        {
          "output_type": "execute_result",
          "data": {
            "text/plain": [
              "[1]"
            ]
          },
          "metadata": {
            "tags": []
          },
          "execution_count": 9
        }
      ]
    },
    {
      "cell_type": "markdown",
      "metadata": {
        "id": "zQXZo_D2vVgL",
        "colab_type": "text"
      },
      "source": [
        "###Scope rules in functions"
      ]
    },
    {
      "cell_type": "markdown",
      "metadata": {
        "id": "W8PuPtLG3bo4",
        "colab_type": "text"
      },
      "source": [
        "   * Enclosing module is a ‘global’ scope\n",
        "   * Each call to a function is a new ‘local’ scope\n",
        "   * Assigned names are local, unless declared “global”\n",
        "   * All other names are global or builtin\n",
        "   * Added in 2.2: ‘nonlocal’ enclosing function locals (if any) searched before global\n",
        "   * Added in 3.X: ‘nonlocal’ variables can be changed if declared, just like ‘globals’\n"
      ]
    },
    {
      "cell_type": "markdown",
      "metadata": {
        "id": "yYi4MZSB3uts",
        "colab_type": "text"
      },
      "source": [
        "**Name resolution: the “LEGB” rule**\n",
        "\n",
        "   *   References search up to 4 scopes:\n",
        "1.    Local                                   (function)\n",
        "2.    Enclosing functions           (if any)\n",
        "3.    Global                                 (module)\n",
        "4.    Builtin                                 (__builtin__ (2.X), builtins (3.X))\n",
        "   *   Assignments create or change local names by default\n",
        "   *   “global” declarations map assigned names to module"
      ]
    },
    {
      "cell_type": "markdown",
      "metadata": {
        "id": "WGNpeGdN319Q",
        "colab_type": "text"
      },
      "source": [
        "Example\n",
        "   * Global names: ‘X’, ‘func’\n",
        "   * Local names: ‘Y’, ‘Z’\n",
        "   * Interactive prompt: module ‘__main__’"
      ]
    },
    {
      "cell_type": "code",
      "metadata": {
        "id": "yGH8cLoavVgM",
        "colab_type": "code",
        "outputId": "e9dcf36d-c76d-4a58-e44b-32b1f8c51025",
        "colab": {
          "base_uri": "https://localhost:8080/",
          "height": 34
        }
      },
      "source": [
        "X = 99            # X and func assigned in module\n",
        "def func(Y): # Y and Z assigned in function\n",
        "  Z = X + Y     # X not assigned: global\n",
        "  return Z\n",
        "func(1) # func in module: result=100"
      ],
      "execution_count": 0,
      "outputs": [
        {
          "output_type": "execute_result",
          "data": {
            "text/plain": [
              "100"
            ]
          },
          "metadata": {
            "tags": []
          },
          "execution_count": 10
        }
      ]
    },
    {
      "cell_type": "markdown",
      "metadata": {
        "id": "-Gus4u-yvVgO",
        "colab_type": "text"
      },
      "source": [
        "**Enclosing Function Scopes (2.2+)**"
      ]
    },
    {
      "cell_type": "code",
      "metadata": {
        "id": "faJu241HvVgO",
        "colab_type": "code",
        "outputId": "aefefc36-be10-482a-8b81-ee06da1a6580",
        "colab": {
          "base_uri": "https://localhost:8080/",
          "height": 34
        }
      },
      "source": [
        "def f1():\n",
        "  x = 88\n",
        "  def f2():\n",
        "    print(x)         # 2.2: x found in enclosing function\n",
        "  f2()\n",
        "\n",
        "f1()"
      ],
      "execution_count": 0,
      "outputs": [
        {
          "output_type": "stream",
          "text": [
            "88\n"
          ],
          "name": "stdout"
        }
      ]
    },
    {
      "cell_type": "markdown",
      "metadata": {
        "id": "edvsu-kMvVgS",
        "colab_type": "text"
      },
      "source": [
        "**More useful with lambda (ahead)**"
      ]
    },
    {
      "cell_type": "code",
      "metadata": {
        "id": "5iONKWUDvVgS",
        "colab_type": "code",
        "outputId": "a20d5de0-631f-4bfe-f036-72836108aecc",
        "colab": {
          "base_uri": "https://localhost:8080/",
          "height": 34
        }
      },
      "source": [
        "def func():\n",
        "  x = 42\n",
        "  action = (lambda n: x ** n)          # 2.2\n",
        "  return action\n",
        "\n",
        "f = func()\n",
        "f(2)"
      ],
      "execution_count": 0,
      "outputs": [
        {
          "output_type": "execute_result",
          "data": {
            "text/plain": [
              "1764"
            ]
          },
          "metadata": {
            "tags": []
          },
          "execution_count": 15
        }
      ]
    },
    {
      "cell_type": "markdown",
      "metadata": {
        "id": "hz1XkTZdvVgV",
        "colab_type": "text"
      },
      "source": [
        "**Most useful for closures: state retention (non-OOP)**"
      ]
    },
    {
      "cell_type": "code",
      "metadata": {
        "id": "v51b87m5vVgW",
        "colab_type": "code",
        "colab": {}
      },
      "source": [
        "def maker(N):\n",
        "  def action(X):            # make, don’t call\n",
        "    return X ** N\n",
        "  return action             # return new func"
      ],
      "execution_count": 0,
      "outputs": []
    },
    {
      "cell_type": "code",
      "metadata": {
        "id": "m8JVuo5UvVgX",
        "colab_type": "code",
        "outputId": "4f5897f3-4f31-464d-9f81-b94f0b1ff87d",
        "colab": {
          "base_uri": "https://localhost:8080/",
          "height": 34
        }
      },
      "source": [
        "f = maker(3)                  # “remembers” 3 (N)\n",
        "f(2), f(3)                    # arg to X, not N"
      ],
      "execution_count": 0,
      "outputs": [
        {
          "output_type": "execute_result",
          "data": {
            "text/plain": [
              "(8, 27)"
            ]
          },
          "metadata": {
            "tags": []
          },
          "execution_count": 18
        }
      ]
    },
    {
      "cell_type": "code",
      "metadata": {
        "id": "rDPvcbQfvVgc",
        "colab_type": "code",
        "outputId": "6066503b-4f34-4343-ea48-efffc066b4be",
        "colab": {
          "base_uri": "https://localhost:8080/",
          "height": 34
        }
      },
      "source": [
        "g = maker(4)                  # “remembers” 4 (N)\n",
        "g(2), g(3)"
      ],
      "execution_count": 0,
      "outputs": [
        {
          "output_type": "execute_result",
          "data": {
            "text/plain": [
              "(16, 81)"
            ]
          },
          "metadata": {
            "tags": []
          },
          "execution_count": 19
        }
      ]
    },
    {
      "cell_type": "code",
      "metadata": {
        "id": "klAbjX8ZvVgg",
        "colab_type": "code",
        "outputId": "a39f014b-4551-45ae-91f6-60611b483ddd",
        "colab": {
          "base_uri": "https://localhost:8080/",
          "height": 34
        }
      },
      "source": [
        "f(2), f(3)                    # f still has 3"
      ],
      "execution_count": 0,
      "outputs": [
        {
          "output_type": "execute_result",
          "data": {
            "text/plain": [
              "(8, 27)"
            ]
          },
          "metadata": {
            "tags": []
          },
          "execution_count": 20
        }
      ]
    },
    {
      "cell_type": "markdown",
      "metadata": {
        "id": "XDgA6Q-ivVgh",
        "colab_type": "text"
      },
      "source": [
        "###More on “global”, and 3.X “nonlocal”"
      ]
    },
    {
      "cell_type": "markdown",
      "metadata": {
        "id": "XdjbDzrS6tc7",
        "colab_type": "text"
      },
      "source": [
        "   * ‘global’ means assigned at top-level of a module file\n",
        "   * Global names must be declared only if assigned\n",
        "   * Global names may be referenced without being declared\n",
        "   * 3.X: “nonlocal X” means X in enclosing def changeable"
      ]
    },
    {
      "cell_type": "markdown",
      "metadata": {
        "id": "5D4n146E7HGf",
        "colab_type": "text"
      },
      "source": [
        "All Pythons"
      ]
    },
    {
      "cell_type": "code",
      "metadata": {
        "id": "sjW1d3yXvVgh",
        "colab_type": "code",
        "outputId": "08e0570a-aee6-41a7-8525-2e887a203ef4",
        "colab": {
          "base_uri": "https://localhost:8080/",
          "height": 34
        }
      },
      "source": [
        "y, z = 1, 2         # global variables in module\n",
        "def all_global():\n",
        "  global x        # declare globals assigned\n",
        "  x = y + z       # no need to declare y,z: 3-scope rule\n",
        "\n",
        "all_global()  \n",
        "print(x)  "
      ],
      "execution_count": 0,
      "outputs": [
        {
          "output_type": "stream",
          "text": [
            "3\n"
          ],
          "name": "stdout"
        }
      ]
    },
    {
      "cell_type": "markdown",
      "metadata": {
        "id": "3vWoMfMavVgj",
        "colab_type": "text"
      },
      "source": [
        "enclosing function vars are changeable (state retention) (Python 3.X Only)"
      ]
    },
    {
      "cell_type": "code",
      "metadata": {
        "id": "ZA4w3o6BvVgj",
        "colab_type": "code",
        "outputId": "bac8e8d7-44be-4e80-fc0a-b5cb82ec8339",
        "colab": {
          "base_uri": "https://localhost:8080/",
          "height": 34
        }
      },
      "source": [
        "def outer():\n",
        "  x = 1\n",
        "  def inner():\n",
        "    nonlocal x\n",
        "    x += 1\n",
        "    print(x)\n",
        "  return inner\n",
        "\n",
        "f = outer()      # f is really an inner\n",
        "f()"
      ],
      "execution_count": 0,
      "outputs": [
        {
          "output_type": "stream",
          "text": [
            "2\n"
          ],
          "name": "stdout"
        }
      ]
    },
    {
      "cell_type": "code",
      "metadata": {
        "id": "3hMOqQbx7nuQ",
        "colab_type": "code",
        "outputId": "a75757c2-01eb-426d-e670-d704317c0d64",
        "colab": {
          "base_uri": "https://localhost:8080/",
          "height": 34
        }
      },
      "source": [
        "f()"
      ],
      "execution_count": 0,
      "outputs": [
        {
          "output_type": "stream",
          "text": [
            "3\n"
          ],
          "name": "stdout"
        }
      ]
    },
    {
      "cell_type": "markdown",
      "metadata": {
        "id": "oWTxaASkvVgn",
        "colab_type": "text"
      },
      "source": [
        "###More on “return”\n"
      ]
    },
    {
      "cell_type": "markdown",
      "metadata": {
        "id": "U8t9cNVt7_ah",
        "colab_type": "text"
      },
      "source": [
        "   * Return sends back an object as value of call\n",
        "   * Can return multiple arguments in a tuple\n",
        "   * Can return modified argument name values"
      ]
    },
    {
      "cell_type": "code",
      "metadata": {
        "id": "TffaACctvVgn",
        "colab_type": "code",
        "outputId": "9c5160a0-3d76-4ddc-bba5-6d0b30ddb9a1",
        "colab": {
          "base_uri": "https://localhost:8080/",
          "height": 34
        }
      },
      "source": [
        "def multiple(x, y):\n",
        "  x = 2\n",
        "  y = [3, 4]\n",
        "  return x, y\n",
        "\n",
        "X = 1\n",
        "L = [1, 2]\n",
        "X, L = multiple(X, L)\n",
        "X, L"
      ],
      "execution_count": 0,
      "outputs": [
        {
          "output_type": "execute_result",
          "data": {
            "text/plain": [
              "(2, [3, 4])"
            ]
          },
          "metadata": {
            "tags": []
          },
          "execution_count": 25
        }
      ]
    },
    {
      "cell_type": "markdown",
      "metadata": {
        "id": "q4BNsNszvVgp",
        "colab_type": "text"
      },
      "source": [
        "###More on argument passing\n"
      ]
    },
    {
      "cell_type": "markdown",
      "metadata": {
        "id": "KWJHFnvS8bwH",
        "colab_type": "text"
      },
      "source": [
        "   * Pass by object reference: assign shared object to local name\n",
        "   * In def, assigning to argument name doesn’t effect caller\n",
        "   * In def, changing mutable object argument may impact caller\n",
        "   * Not pass ‘by reference’ (C++), but:\n",
        "     - Immutables act like ‘by value’ (C)\n",
        "     - Mutables act like ‘by pointer’ (C)"
      ]
    },
    {
      "cell_type": "code",
      "metadata": {
        "id": "qpM1mlf-vVgr",
        "colab_type": "code",
        "outputId": "9affeced-1492-4271-bf4c-6fa6a179f9f5",
        "colab": {
          "base_uri": "https://localhost:8080/",
          "height": 34
        }
      },
      "source": [
        "def changer(a, b):\n",
        "  a = 2             # changes local name's value only\n",
        "  b[0] = 'spam'     # changes shared object in-place\n",
        "\n",
        "X = 1\n",
        "L = [1, 2]\n",
        "changer(X, L)\n",
        "X, L"
      ],
      "execution_count": 0,
      "outputs": [
        {
          "output_type": "execute_result",
          "data": {
            "text/plain": [
              "(1, ['spam', 2])"
            ]
          },
          "metadata": {
            "tags": []
          },
          "execution_count": 26
        }
      ]
    },
    {
      "cell_type": "markdown",
      "metadata": {
        "id": "GCEuJToHvVgv",
        "colab_type": "text"
      },
      "source": [
        "**Equivalent to these assignments:**"
      ]
    },
    {
      "cell_type": "code",
      "metadata": {
        "id": "Hsd1nz-TvVgv",
        "colab_type": "code",
        "outputId": "3d03577e-c8ec-4fc5-f4bf-8aab490e8e74",
        "colab": {
          "base_uri": "https://localhost:8080/",
          "height": 34
        }
      },
      "source": [
        "X = 1\n",
        "a = X           # they share the same object\n",
        "a = 2           # resets a only, X is still 1\n",
        "L = [1, 2]\n",
        "b = L           # they share the same object\n",
        "b[0] = 'spam'   # in-place change: L sees the change too\n",
        "X, L"
      ],
      "execution_count": 0,
      "outputs": [
        {
          "output_type": "execute_result",
          "data": {
            "text/plain": [
              "(1, ['spam', 2])"
            ]
          },
          "metadata": {
            "tags": []
          },
          "execution_count": 27
        }
      ]
    },
    {
      "cell_type": "markdown",
      "metadata": {
        "id": "3BqhN9Ha9rUX",
        "colab_type": "text"
      },
      "source": [
        "![assignments](https://learning-python.com/class/Workbook/unit05_files/image002.gif)"
      ]
    },
    {
      "cell_type": "markdown",
      "metadata": {
        "id": "fLkST1MV95dW",
        "colab_type": "text"
      },
      "source": [
        "###Special argument matching modes"
      ]
    },
    {
      "cell_type": "markdown",
      "metadata": {
        "id": "LbfHkk8m-anv",
        "colab_type": "text"
      },
      "source": [
        "   * Positional      matched left-to-right in header (normal)\n",
        "   * Keywords      matched by name in header\n",
        "   * Varargs        catch unmatched positional or keyword args\n",
        "   * Defaults        header can provide default argument values\n",
        "   * 3.X: Keyword Only, after \"\"*\"\" in def,  must pass by name"
      ]
    },
    {
      "cell_type": "markdown",
      "metadata": {
        "id": "2LnRqgSQ-oEe",
        "colab_type": "text"
      },
      "source": [
        "Operation | Location | Interpretation\n",
        "---|---|---\n",
        "func(value) | caller | normal argument: matched by position\n",
        "func(name=value) | caller | keyword argument: matched by name\n",
        "def func(name) | function | normal argument: matches any by name or position\n",
        "def func(name=value) | function | default argument value, if not passed in call\n",
        "def func(*name) | function | matches remaining positional args (tuple)\n",
        "def func(**name) | function | matches remaining keyword args (dictionary)\n",
        "func(*args, **kargs) | caller | subsumes old apply(): unpack tuple/dict of args\n",
        "def func(a, *b, c) def func(a, *, c) | function | 3.X keyword-only (c must be passed by name only)"
      ]
    },
    {
      "cell_type": "markdown",
      "metadata": {
        "id": "dn2TWb93vVg5",
        "colab_type": "text"
      },
      "source": [
        "About the stars…\n",
        "\n",
        "In Python 3.4 and earlier, the special *X and **X star syntax forms can appear in 3 places:\n",
        "\n",
        "   1.     In assignments, where a *X in the recipient collects unmatched items in a new list (3.X sequence assignments)\n",
        "   2.     In function headers, where the two forms collect unmatched positional and keyword arguments in a tuple and dict\n",
        "   3.     In function calls, where the two forms unpack iterables and dictionaries into individual items (arguments)\n",
        "   \n",
        "In Python 3.5 and later, this star syntax is also usable within data structure literals—where it unpacks collections into individual items, like its original use in function calls (#3 above). The unpacking star syntax now also works in lists, tuples, sets, and dictionaries where it unpacks or \"flattens\" another object's contents in-place:\n",
        "\n",
        "```python\n",
        "[x, *iter]      # list:  unpack iter's items\n",
        "(x, *iter, y)   # tuple: ditto (parenthesis or not)\n",
        "{*iter, x}      # set:   ditto (unordered, unique)\n",
        "{x:y, **dict}   # dict:  unpack dict's keys/values)\n",
        "```"
      ]
    },
    {
      "cell_type": "markdown",
      "metadata": {
        "id": "7BGdD-ctvVg6",
        "colab_type": "text"
      },
      "source": [
        "For example, in 3.5+:"
      ]
    },
    {
      "cell_type": "code",
      "metadata": {
        "id": "FbsoQA6SvVg7",
        "colab_type": "code",
        "outputId": "91eaf02d-5b26-4217-f9be-7585d359ecbb",
        "colab": {
          "base_uri": "https://localhost:8080/",
          "height": 34
        }
      },
      "source": [
        "x = [1, 2]\n",
        "y = [*x, *x]\n",
        "y"
      ],
      "execution_count": 0,
      "outputs": [
        {
          "output_type": "execute_result",
          "data": {
            "text/plain": [
              "[1, 2, 1, 2]"
            ]
          },
          "metadata": {
            "tags": []
          },
          "execution_count": 28
        }
      ]
    },
    {
      "cell_type": "markdown",
      "metadata": {
        "id": "uwdiPA2-vVg8",
        "colab_type": "text"
      },
      "source": [
        "###Examples"
      ]
    },
    {
      "cell_type": "markdown",
      "metadata": {
        "id": "zHH__zUtDlNF",
        "colab_type": "text"
      },
      "source": [
        "**Positionals and keywords**"
      ]
    },
    {
      "cell_type": "code",
      "metadata": {
        "id": "sa_mt97EvVg8",
        "colab_type": "code",
        "outputId": "5227cb16-89b1-4c0d-bb0a-dc3479973ca7",
        "colab": {
          "base_uri": "https://localhost:8080/",
          "height": 34
        }
      },
      "source": [
        "def f(a, b, c): print(a, b, c)\n",
        "  \n",
        "f(1, 2, 3)"
      ],
      "execution_count": 0,
      "outputs": [
        {
          "output_type": "stream",
          "text": [
            "1 2 3\n"
          ],
          "name": "stdout"
        }
      ]
    },
    {
      "cell_type": "code",
      "metadata": {
        "id": "Ut6_Osh8vVhC",
        "colab_type": "code",
        "outputId": "179ba12f-9e93-40d2-98dc-41467cd300f1",
        "colab": {
          "base_uri": "https://localhost:8080/",
          "height": 34
        }
      },
      "source": [
        "f(c=3, b=2, a=1)"
      ],
      "execution_count": 0,
      "outputs": [
        {
          "output_type": "stream",
          "text": [
            "1 2 3\n"
          ],
          "name": "stdout"
        }
      ]
    },
    {
      "cell_type": "code",
      "metadata": {
        "id": "pElhEHTEvVhD",
        "colab_type": "code",
        "outputId": "967d183f-d625-44d0-d274-c52eabbb832e",
        "colab": {
          "base_uri": "https://localhost:8080/",
          "height": 34
        }
      },
      "source": [
        "f(1, c=3, b=2)"
      ],
      "execution_count": 0,
      "outputs": [
        {
          "output_type": "stream",
          "text": [
            "1 2 3\n"
          ],
          "name": "stdout"
        }
      ]
    },
    {
      "cell_type": "markdown",
      "metadata": {
        "id": "QqBnt0jDvVhF",
        "colab_type": "text"
      },
      "source": [
        "**Defaults**"
      ]
    },
    {
      "cell_type": "code",
      "metadata": {
        "id": "TpsBBoHfvVhG",
        "colab_type": "code",
        "outputId": "43c4531f-5b4b-4a1e-9a3f-525f7966b35f",
        "colab": {
          "base_uri": "https://localhost:8080/",
          "height": 34
        }
      },
      "source": [
        "def f(a, b=2, c=3): print(a, b, c)\n",
        "  \n",
        "f(1)"
      ],
      "execution_count": 0,
      "outputs": [
        {
          "output_type": "stream",
          "text": [
            "1 2 3\n"
          ],
          "name": "stdout"
        }
      ]
    },
    {
      "cell_type": "code",
      "metadata": {
        "id": "3PLc7u1cvVhK",
        "colab_type": "code",
        "outputId": "ab8ededa-9c27-4a65-fbca-957fd89b2c41",
        "colab": {
          "base_uri": "https://localhost:8080/",
          "height": 34
        }
      },
      "source": [
        "f(1, 4, 5)"
      ],
      "execution_count": 0,
      "outputs": [
        {
          "output_type": "stream",
          "text": [
            "1 4 5\n"
          ],
          "name": "stdout"
        }
      ]
    },
    {
      "cell_type": "code",
      "metadata": {
        "id": "19Pbiu0MvVhM",
        "colab_type": "code",
        "outputId": "b353bfb0-699c-4d48-a728-188b1ed41149",
        "colab": {
          "base_uri": "https://localhost:8080/",
          "height": 34
        }
      },
      "source": [
        "f(1, c=6)"
      ],
      "execution_count": 0,
      "outputs": [
        {
          "output_type": "stream",
          "text": [
            "1 2 6\n"
          ],
          "name": "stdout"
        }
      ]
    },
    {
      "cell_type": "markdown",
      "metadata": {
        "id": "UX_stF4cvVhN",
        "colab_type": "text"
      },
      "source": [
        "**Arbitrary positionals**"
      ]
    },
    {
      "cell_type": "code",
      "metadata": {
        "id": "bWUJW1fBvVhO",
        "colab_type": "code",
        "outputId": "3de5e78d-373f-4be5-9c91-c7d2294d2574",
        "colab": {
          "base_uri": "https://localhost:8080/",
          "height": 34
        }
      },
      "source": [
        "def f(*args): print(args)\n",
        "\n",
        "f(1)"
      ],
      "execution_count": 0,
      "outputs": [
        {
          "output_type": "stream",
          "text": [
            "(1,)\n"
          ],
          "name": "stdout"
        }
      ]
    },
    {
      "cell_type": "code",
      "metadata": {
        "id": "_vQayl4MvVhR",
        "colab_type": "code",
        "outputId": "a108d724-72c4-4e64-9742-b6ac7be35051",
        "colab": {
          "base_uri": "https://localhost:8080/",
          "height": 34
        }
      },
      "source": [
        "f(1,2,3,4)"
      ],
      "execution_count": 0,
      "outputs": [
        {
          "output_type": "stream",
          "text": [
            "(1, 2, 3, 4)\n"
          ],
          "name": "stdout"
        }
      ]
    },
    {
      "cell_type": "markdown",
      "metadata": {
        "id": "S0vgi753vVhS",
        "colab_type": "text"
      },
      "source": [
        "**Arbitrary keywords**"
      ]
    },
    {
      "cell_type": "code",
      "metadata": {
        "id": "g10CzXtevVhT",
        "colab_type": "code",
        "outputId": "cefb2aa1-75a1-4c49-c3b1-27a99fb56065",
        "colab": {
          "base_uri": "https://localhost:8080/",
          "height": 34
        }
      },
      "source": [
        "def f(**args): print(args)\n",
        "  \n",
        "f()  "
      ],
      "execution_count": 0,
      "outputs": [
        {
          "output_type": "stream",
          "text": [
            "{}\n"
          ],
          "name": "stdout"
        }
      ]
    },
    {
      "cell_type": "code",
      "metadata": {
        "id": "5mV9qgi6vVhW",
        "colab_type": "code",
        "outputId": "6efaae52-1d2f-4d68-c91f-5e69834e05ec",
        "colab": {
          "base_uri": "https://localhost:8080/",
          "height": 34
        }
      },
      "source": [
        "f(a=1, b=2)"
      ],
      "execution_count": 0,
      "outputs": [
        {
          "output_type": "stream",
          "text": [
            "{'a': 1, 'b': 2}\n"
          ],
          "name": "stdout"
        }
      ]
    },
    {
      "cell_type": "code",
      "metadata": {
        "id": "vGandUJPvVhX",
        "colab_type": "code",
        "outputId": "cb30a5ee-ed89-4c6f-d9c8-f48eb7f6362a",
        "colab": {
          "base_uri": "https://localhost:8080/",
          "height": 34
        }
      },
      "source": [
        "def f(a, *pargs, **kargs): print(a, pargs, kargs)\n",
        "  \n",
        "f(1, 2, 3, x=1, y=2)  "
      ],
      "execution_count": 0,
      "outputs": [
        {
          "output_type": "stream",
          "text": [
            "1 (2, 3) {'x': 1, 'y': 2}\n"
          ],
          "name": "stdout"
        }
      ]
    },
    {
      "cell_type": "markdown",
      "metadata": {
        "id": "-bFPc2YvvVha",
        "colab_type": "text"
      },
      "source": [
        "**Example: min value functions**\n",
        "\n",
        "   *   Only deals with matching: still passed by assignment\n",
        "   *   Defaults retain an object: may change if mutable"
      ]
    },
    {
      "cell_type": "code",
      "metadata": {
        "id": "Zc4pJuCEvVhb",
        "colab_type": "code",
        "outputId": "68dc7baa-d339-4553-fcae-48a7db4c1ab5",
        "colab": {
          "base_uri": "https://localhost:8080/",
          "height": 102
        }
      },
      "source": [
        "def func(spam, eggs, toast=0, ham=0):   # first 2 required\n",
        "  print (spam, eggs, toast, ham)\n",
        "  \n",
        "func(1, 2)                      # output: (1, 2, 0, 0)\n",
        "func(1, ham=1, eggs=0)          # output: (1, 0, 0, 1)\n",
        "func(spam=1, eggs=0)            # output: (1, 0, 0, 0)\n",
        "func(toast=1, eggs=2, spam=3)   # output: (3, 2, 1, 0)\n",
        "func(1, 2, 3, 4)                # output: (1, 2, 3, 4)  "
      ],
      "execution_count": 0,
      "outputs": [
        {
          "output_type": "stream",
          "text": [
            "1 2 0 0\n",
            "1 0 0 1\n",
            "1 0 0 0\n",
            "3 2 1 0\n",
            "1 2 3 4\n"
          ],
          "name": "stdout"
        }
      ]
    },
    {
      "cell_type": "markdown",
      "metadata": {
        "id": "Za2AAP9GvVhc",
        "colab_type": "text"
      },
      "source": [
        "**Ordering rules**\n",
        "\n",
        "   * Call: keyword arguments after non-keyword arguments\n",
        "   * Header: normals, then defaults, then *name, then * *name"
      ]
    },
    {
      "cell_type": "markdown",
      "metadata": {
        "id": "pDG4Tg9YGDKc",
        "colab_type": "text"
      },
      "source": [
        "**Matching algorithm (see exercise)**\n",
        "\n",
        "1.   Assign non-keyword arguments by position\n",
        "2.   Assign keyword arguments by matching names\n",
        "3.   Assign extra non-keyword arguments to *name tuple\n",
        "4.   Assign extra keyword arguments to **name dictionary\n",
        "5.   Unassigned arguments in header assigned default values"
      ]
    },
    {
      "cell_type": "markdown",
      "metadata": {
        "id": "0ko7F6eMGIME",
        "colab_type": "text"
      },
      "source": [
        "###Odds and ends"
      ]
    },
    {
      "cell_type": "markdown",
      "metadata": {
        "id": "a3swBuxwGMvU",
        "colab_type": "text"
      },
      "source": [
        "   * lambda expression creates anonymous functions\n",
        "   * list comprehensions, map, filter apply expressions to sequences (see also prior unit)\n",
        "   * Generator expressions (2.4+)\n",
        "   * Generator functions and yield (new in 2.2, 2.3)\n",
        "   * apply function calls functions with arguments tuple\n",
        "   * Functions return ‘None’ if they don’t use a real ‘return’\n",
        "   * Python 3.X function annotations and keyword arguments"
      ]
    },
    {
      "cell_type": "markdown",
      "metadata": {
        "id": "pEUm1oHlGQBc",
        "colab_type": "text"
      },
      "source": [
        "####Lambda expressions"
      ]
    },
    {
      "cell_type": "code",
      "metadata": {
        "id": "X3AskUUGvVhc",
        "colab_type": "code",
        "outputId": "921a2510-3a25-4fc1-a664-ed30bdadc9f6",
        "colab": {
          "base_uri": "https://localhost:8080/",
          "height": 34
        }
      },
      "source": [
        "def func(x, y, z): return x + y + z\n",
        "\n",
        "func(2, 3, 4)"
      ],
      "execution_count": 0,
      "outputs": [
        {
          "output_type": "execute_result",
          "data": {
            "text/plain": [
              "9"
            ]
          },
          "metadata": {
            "tags": []
          },
          "execution_count": 1
        }
      ]
    },
    {
      "cell_type": "code",
      "metadata": {
        "id": "tDmq3T-FvVhf",
        "colab_type": "code",
        "outputId": "de56d903-4cc4-429f-aa4e-4ff33bca55ba",
        "colab": {
          "base_uri": "https://localhost:8080/",
          "height": 34
        }
      },
      "source": [
        "f = lambda x, y, z: x + y + z\n",
        "f(2, 3, 4)"
      ],
      "execution_count": 0,
      "outputs": [
        {
          "output_type": "execute_result",
          "data": {
            "text/plain": [
              "9"
            ]
          },
          "metadata": {
            "tags": []
          },
          "execution_count": 2
        }
      ]
    },
    {
      "cell_type": "markdown",
      "metadata": {
        "id": "mT3yu4ftvVhi",
        "colab_type": "text"
      },
      "source": [
        "####List comprehensions"
      ]
    },
    {
      "cell_type": "code",
      "metadata": {
        "id": "ZUH10-sOvVhi",
        "colab_type": "code",
        "outputId": "a582e554-0259-4e5e-ce41-294828451de9",
        "colab": {
          "base_uri": "https://localhost:8080/",
          "height": 34
        }
      },
      "source": [
        "ord('s')"
      ],
      "execution_count": 0,
      "outputs": [
        {
          "output_type": "execute_result",
          "data": {
            "text/plain": [
              "115"
            ]
          },
          "metadata": {
            "tags": []
          },
          "execution_count": 3
        }
      ]
    },
    {
      "cell_type": "code",
      "metadata": {
        "id": "jWxhfwivvVhl",
        "colab_type": "code",
        "outputId": "fa6931bc-a83b-4453-db4d-25e76e734e49",
        "colab": {
          "base_uri": "https://localhost:8080/",
          "height": 34
        }
      },
      "source": [
        "res = []\n",
        "for x in 'spam': res.append(ord(x))\n",
        "res"
      ],
      "execution_count": 0,
      "outputs": [
        {
          "output_type": "execute_result",
          "data": {
            "text/plain": [
              "[115, 112, 97, 109]"
            ]
          },
          "metadata": {
            "tags": []
          },
          "execution_count": 5
        }
      ]
    },
    {
      "cell_type": "code",
      "metadata": {
        "id": "fRY4CC9QvVhp",
        "colab_type": "code",
        "outputId": "b1e87bba-5065-4ebb-f78d-e6f51ec8fa4d",
        "colab": {
          "base_uri": "https://localhost:8080/",
          "height": 34
        }
      },
      "source": [
        "list(map(ord, 'spam'))              # apply func to sequence"
      ],
      "execution_count": 0,
      "outputs": [
        {
          "output_type": "execute_result",
          "data": {
            "text/plain": [
              "[115, 112, 97, 109]"
            ]
          },
          "metadata": {
            "tags": []
          },
          "execution_count": 8
        }
      ]
    },
    {
      "cell_type": "code",
      "metadata": {
        "id": "0-AZMQb_vVhq",
        "colab_type": "code",
        "outputId": "6f45d2dc-01cd-4271-dd32-dedf61f84a5a",
        "colab": {
          "base_uri": "https://localhost:8080/",
          "height": 34
        }
      },
      "source": [
        "[ord(x) for x in 'spam']      # apply expr to sequence"
      ],
      "execution_count": 0,
      "outputs": [
        {
          "output_type": "execute_result",
          "data": {
            "text/plain": [
              "[115, 112, 97, 109]"
            ]
          },
          "metadata": {
            "tags": []
          },
          "execution_count": 7
        }
      ]
    },
    {
      "cell_type": "markdown",
      "metadata": {
        "id": "7Ustg1v8vVhr",
        "colab_type": "text"
      },
      "source": [
        "**adding arbitrary expressions**"
      ]
    },
    {
      "cell_type": "code",
      "metadata": {
        "id": "W0JYmNkMvVhr",
        "colab_type": "code",
        "outputId": "213299c9-216a-445b-f432-8f8dfd3bb661",
        "colab": {
          "base_uri": "https://localhost:8080/",
          "height": 34
        }
      },
      "source": [
        "[x ** 2 for x in range(10)]"
      ],
      "execution_count": 0,
      "outputs": [
        {
          "output_type": "execute_result",
          "data": {
            "text/plain": [
              "[0, 1, 4, 9, 16, 25, 36, 49, 64, 81]"
            ]
          },
          "metadata": {
            "tags": []
          },
          "execution_count": 9
        }
      ]
    },
    {
      "cell_type": "code",
      "metadata": {
        "id": "YeDwp9XDvVht",
        "colab_type": "code",
        "outputId": "82fec714-5b41-4b0b-f78d-2d602cf805d3",
        "colab": {
          "base_uri": "https://localhost:8080/",
          "height": 34
        }
      },
      "source": [
        "list(map((lambda x: x**2), range(10)))"
      ],
      "execution_count": 0,
      "outputs": [
        {
          "output_type": "execute_result",
          "data": {
            "text/plain": [
              "[0, 1, 4, 9, 16, 25, 36, 49, 64, 81]"
            ]
          },
          "metadata": {
            "tags": []
          },
          "execution_count": 11
        }
      ]
    },
    {
      "cell_type": "code",
      "metadata": {
        "id": "tkn91jw_vVhu",
        "colab_type": "code",
        "outputId": "07065f31-6ff0-4e7a-91f9-ae5b94435756",
        "colab": {
          "base_uri": "https://localhost:8080/",
          "height": 68
        }
      },
      "source": [
        "lines = [line[:-1] for line in open('sample_data/README.md')]\n",
        "lines[:3]"
      ],
      "execution_count": 0,
      "outputs": [
        {
          "output_type": "execute_result",
          "data": {
            "text/plain": [
              "['This directory includes a few sample datasets to get you started.',\n",
              " '',\n",
              " '*   `california_housing_data*.csv` is California housing data from the 1990 US']"
            ]
          },
          "metadata": {
            "tags": []
          },
          "execution_count": 17
        }
      ]
    },
    {
      "cell_type": "markdown",
      "metadata": {
        "id": "zieTPbCdvVhw",
        "colab_type": "text"
      },
      "source": [
        "**adding if tests**"
      ]
    },
    {
      "cell_type": "code",
      "metadata": {
        "id": "r8PadO97vVhw",
        "colab_type": "code",
        "outputId": "78f00693-7791-47cd-e6d3-083687b87c59",
        "colab": {
          "base_uri": "https://localhost:8080/",
          "height": 34
        }
      },
      "source": [
        "[x for x in range(10) if x % 2 == 0]"
      ],
      "execution_count": 0,
      "outputs": [
        {
          "output_type": "execute_result",
          "data": {
            "text/plain": [
              "[0, 2, 4, 6, 8]"
            ]
          },
          "metadata": {
            "tags": []
          },
          "execution_count": 18
        }
      ]
    },
    {
      "cell_type": "code",
      "metadata": {
        "id": "bXghhlOkvVhz",
        "colab_type": "code",
        "outputId": "5783289c-828c-4458-a15b-c958df651973",
        "colab": {
          "base_uri": "https://localhost:8080/",
          "height": 34
        }
      },
      "source": [
        "list(filter((lambda x: x % 2 == 0), range(10)))"
      ],
      "execution_count": 0,
      "outputs": [
        {
          "output_type": "execute_result",
          "data": {
            "text/plain": [
              "[0, 2, 4, 6, 8]"
            ]
          },
          "metadata": {
            "tags": []
          },
          "execution_count": 20
        }
      ]
    },
    {
      "cell_type": "markdown",
      "metadata": {
        "id": "uQs-Ux1KvVh0",
        "colab_type": "text"
      },
      "source": [
        "**advanced usage**"
      ]
    },
    {
      "cell_type": "code",
      "metadata": {
        "id": "gISSt8fQvVh1",
        "colab_type": "code",
        "outputId": "a3010293-eb87-4edd-a4cb-b99ca2050c03",
        "colab": {
          "base_uri": "https://localhost:8080/",
          "height": 34
        }
      },
      "source": [
        "[x**2 for x in range(10) if x % 2 == 0]"
      ],
      "execution_count": 0,
      "outputs": [
        {
          "output_type": "execute_result",
          "data": {
            "text/plain": [
              "[0, 4, 16, 36, 64]"
            ]
          },
          "metadata": {
            "tags": []
          },
          "execution_count": 21
        }
      ]
    },
    {
      "cell_type": "code",
      "metadata": {
        "id": "M-HKDhL2vVh2",
        "colab_type": "code",
        "outputId": "ee2e5ea8-1226-4367-8a20-cca0bae5fad0",
        "colab": {
          "base_uri": "https://localhost:8080/",
          "height": 34
        }
      },
      "source": [
        "[x+y for x in 'abc' for y in 'lmn']"
      ],
      "execution_count": 0,
      "outputs": [
        {
          "output_type": "execute_result",
          "data": {
            "text/plain": [
              "['al', 'am', 'an', 'bl', 'bm', 'bn', 'cl', 'cm', 'cn']"
            ]
          },
          "metadata": {
            "tags": []
          },
          "execution_count": 22
        }
      ]
    },
    {
      "cell_type": "code",
      "metadata": {
        "id": "SV1zE1wavVh5",
        "colab_type": "code",
        "outputId": "075d9faa-7200-4d43-c666-0f4c747d78a1",
        "colab": {
          "base_uri": "https://localhost:8080/",
          "height": 34
        }
      },
      "source": [
        "res = []\n",
        "for x in 'abc':\n",
        "  for y in 'lmn':\n",
        "    res.append(x+y)\n",
        "res"
      ],
      "execution_count": 0,
      "outputs": [
        {
          "output_type": "execute_result",
          "data": {
            "text/plain": [
              "['al', 'am', 'an', 'bl', 'bm', 'bn', 'cl', 'cm', 'cn']"
            ]
          },
          "metadata": {
            "tags": []
          },
          "execution_count": 23
        }
      ]
    },
    {
      "cell_type": "markdown",
      "metadata": {
        "id": "z_8snJrwvVh7",
        "colab_type": "text"
      },
      "source": [
        "**nice for matrixes**"
      ]
    },
    {
      "cell_type": "code",
      "metadata": {
        "id": "r8BvWshlvVh8",
        "colab_type": "code",
        "outputId": "355f67dd-d3a6-462b-c020-79d5ff15f7fd",
        "colab": {
          "base_uri": "https://localhost:8080/",
          "height": 34
        }
      },
      "source": [
        "M = [[1, 2, 3],\n",
        "     [4, 5, 6],\n",
        "     [7, 8, 9]]\n",
        "M[1]"
      ],
      "execution_count": 0,
      "outputs": [
        {
          "output_type": "execute_result",
          "data": {
            "text/plain": [
              "[4, 5, 6]"
            ]
          },
          "metadata": {
            "tags": []
          },
          "execution_count": 24
        }
      ]
    },
    {
      "cell_type": "code",
      "metadata": {
        "id": "v3ybftamvViB",
        "colab_type": "code",
        "outputId": "ac675d81-8a4f-4b2c-f5ef-6cf8859f29c0",
        "colab": {
          "base_uri": "https://localhost:8080/",
          "height": 34
        }
      },
      "source": [
        "col2 = [row[1] for row in M]\n",
        "col2"
      ],
      "execution_count": 0,
      "outputs": [
        {
          "output_type": "execute_result",
          "data": {
            "text/plain": [
              "[2, 5, 8]"
            ]
          },
          "metadata": {
            "tags": []
          },
          "execution_count": 25
        }
      ]
    },
    {
      "cell_type": "code",
      "metadata": {
        "id": "2BxFxow0vViE",
        "colab_type": "code",
        "outputId": "a6f896c8-078c-4569-adfc-b56888116f24",
        "colab": {
          "base_uri": "https://localhost:8080/",
          "height": 34
        }
      },
      "source": [
        "quad = [M[i][j] for i in (0,1) for j in (0, 1)]\n",
        "quad"
      ],
      "execution_count": 0,
      "outputs": [
        {
          "output_type": "execute_result",
          "data": {
            "text/plain": [
              "[1, 2, 4, 5]"
            ]
          },
          "metadata": {
            "tags": []
          },
          "execution_count": 26
        }
      ]
    },
    {
      "cell_type": "markdown",
      "metadata": {
        "id": "Fja7bci-M-j-",
        "colab_type": "text"
      },
      "source": [
        "List comprehensions can become incomprehensible when nested, but map and list comprehensions may be faster than simple for loops"
      ]
    },
    {
      "cell_type": "markdown",
      "metadata": {
        "id": "wJFdn0xevViG",
        "colab_type": "text"
      },
      "source": [
        "####Generator expressions (2.4+)"
      ]
    },
    {
      "cell_type": "markdown",
      "metadata": {
        "id": "xyFaLSq9NNiN",
        "colab_type": "text"
      },
      "source": [
        "**list comprehensions generate entire list in memory**"
      ]
    },
    {
      "cell_type": "code",
      "metadata": {
        "id": "cMKN5nNCvViG",
        "colab_type": "code",
        "outputId": "3a731606-bf42-4272-9b03-7319c5424c64",
        "colab": {
          "base_uri": "https://localhost:8080/",
          "height": 34
        }
      },
      "source": [
        "squares = [x**2 for x in range(5)]\n",
        "squares"
      ],
      "execution_count": 0,
      "outputs": [
        {
          "output_type": "execute_result",
          "data": {
            "text/plain": [
              "[0, 1, 4, 9, 16]"
            ]
          },
          "metadata": {
            "tags": []
          },
          "execution_count": 27
        }
      ]
    },
    {
      "cell_type": "markdown",
      "metadata": {
        "id": "auRrJVeXvViH",
        "colab_type": "text"
      },
      "source": [
        "**generator expressions yield 1 result at a time: saves memory, distributes work**"
      ]
    },
    {
      "cell_type": "code",
      "metadata": {
        "id": "SpCyAg1bvViH",
        "colab_type": "code",
        "outputId": "9f48835a-5074-4327-a8f4-4eb2486f5b72",
        "colab": {
          "base_uri": "https://localhost:8080/",
          "height": 34
        }
      },
      "source": [
        "squares = (x**2 for x in range(5))\n",
        "squares"
      ],
      "execution_count": 0,
      "outputs": [
        {
          "output_type": "execute_result",
          "data": {
            "text/plain": [
              "<generator object <genexpr> at 0x7f379e6745c8>"
            ]
          },
          "metadata": {
            "tags": []
          },
          "execution_count": 28
        }
      ]
    },
    {
      "cell_type": "code",
      "metadata": {
        "id": "aQiuX8CKvViJ",
        "colab_type": "code",
        "outputId": "458b221f-f4ad-44a6-a915-9cc76754739e",
        "colab": {
          "base_uri": "https://localhost:8080/",
          "height": 34
        }
      },
      "source": [
        "next(squares)"
      ],
      "execution_count": 0,
      "outputs": [
        {
          "output_type": "execute_result",
          "data": {
            "text/plain": [
              "0"
            ]
          },
          "metadata": {
            "tags": []
          },
          "execution_count": 29
        }
      ]
    },
    {
      "cell_type": "code",
      "metadata": {
        "id": "P_reEfPLvViJ",
        "colab_type": "code",
        "outputId": "f08ee77e-01dc-46de-c976-9f91ad6c391a",
        "colab": {
          "base_uri": "https://localhost:8080/",
          "height": 34
        }
      },
      "source": [
        "next(squares)"
      ],
      "execution_count": 0,
      "outputs": [
        {
          "output_type": "execute_result",
          "data": {
            "text/plain": [
              "1"
            ]
          },
          "metadata": {
            "tags": []
          },
          "execution_count": 30
        }
      ]
    },
    {
      "cell_type": "code",
      "metadata": {
        "id": "9AMe2iupvViK",
        "colab_type": "code",
        "outputId": "5e77f194-e29b-4e25-eb09-6a4efeb919c1",
        "colab": {
          "base_uri": "https://localhost:8080/",
          "height": 34
        }
      },
      "source": [
        "next(squares)"
      ],
      "execution_count": 0,
      "outputs": [
        {
          "output_type": "execute_result",
          "data": {
            "text/plain": [
              "4"
            ]
          },
          "metadata": {
            "tags": []
          },
          "execution_count": 31
        }
      ]
    },
    {
      "cell_type": "code",
      "metadata": {
        "id": "4EY3yGC5vViL",
        "colab_type": "code",
        "outputId": "027b21ee-d679-424b-ccbb-c5e4d072baeb",
        "colab": {
          "base_uri": "https://localhost:8080/",
          "height": 34
        }
      },
      "source": [
        "list(squares)"
      ],
      "execution_count": 0,
      "outputs": [
        {
          "output_type": "execute_result",
          "data": {
            "text/plain": [
              "[9, 16]"
            ]
          },
          "metadata": {
            "tags": []
          },
          "execution_count": 32
        }
      ]
    },
    {
      "cell_type": "markdown",
      "metadata": {
        "id": "8_Bt3fGWvViM",
        "colab_type": "text"
      },
      "source": [
        "**iteration contexts automatically call next()**"
      ]
    },
    {
      "cell_type": "code",
      "metadata": {
        "id": "XLTCFUipvViM",
        "colab_type": "code",
        "outputId": "868b3b91-3de1-4989-fd9a-ed82fdb86742",
        "colab": {
          "base_uri": "https://localhost:8080/",
          "height": 102
        }
      },
      "source": [
        "for x in (x**2 for x in range(5)):\n",
        "  print(x)"
      ],
      "execution_count": 0,
      "outputs": [
        {
          "output_type": "stream",
          "text": [
            "0\n",
            "1\n",
            "4\n",
            "9\n",
            "16\n"
          ],
          "name": "stdout"
        }
      ]
    },
    {
      "cell_type": "code",
      "metadata": {
        "id": "jSFmafa7OZEf",
        "colab_type": "code",
        "outputId": "40000247-c8c0-4a41-97ac-aabc0c76e355",
        "colab": {
          "base_uri": "https://localhost:8080/",
          "height": 34
        }
      },
      "source": [
        "sum(x**2 for x in range(5))"
      ],
      "execution_count": 0,
      "outputs": [
        {
          "output_type": "execute_result",
          "data": {
            "text/plain": [
              "30"
            ]
          },
          "metadata": {
            "tags": []
          },
          "execution_count": 34
        }
      ]
    },
    {
      "cell_type": "markdown",
      "metadata": {
        "id": "4LXnsve4vViN",
        "colab_type": "text"
      },
      "source": [
        "####Generator functions and yield"
      ]
    },
    {
      "cell_type": "markdown",
      "metadata": {
        "id": "YNuxCREGPGrn",
        "colab_type": "text"
      },
      "source": [
        "  * Generator implements iteration protocol: \\_\\_next__()\n",
        "  * Retains local scope when suspended\n",
        "  * Distributes work over time, may save memory (see also: threads)\n",
        "  * Related: generator expressions, enumerate function, file iterators"
      ]
    },
    {
      "cell_type": "markdown",
      "metadata": {
        "id": "h8YWoAuiPUG7",
        "colab_type": "text"
      },
      "source": [
        "**functions compiled specially when contain yield**"
      ]
    },
    {
      "cell_type": "code",
      "metadata": {
        "id": "TPlxyGcPvViN",
        "colab_type": "code",
        "colab": {}
      },
      "source": [
        "def gensquares(N):\n",
        "  for i in range(N):         # suspends and resumes itself\n",
        "    yield i ** 2           # <- return value and resume here later"
      ],
      "execution_count": 0,
      "outputs": []
    },
    {
      "cell_type": "markdown",
      "metadata": {
        "id": "J-zmFn_6Pai7",
        "colab_type": "text"
      },
      "source": [
        "**generator objects support iteration protocol: \\_\\_next__()**"
      ]
    },
    {
      "cell_type": "code",
      "metadata": {
        "id": "5TSPrhXwvViN",
        "colab_type": "code",
        "outputId": "21553fb5-ca0d-4470-b455-6634fcd0def6",
        "colab": {
          "base_uri": "https://localhost:8080/",
          "height": 34
        }
      },
      "source": [
        "x = gensquares(10)\n",
        "x                              # also retain all local variables between calls"
      ],
      "execution_count": 0,
      "outputs": [
        {
          "output_type": "execute_result",
          "data": {
            "text/plain": [
              "<generator object gensquares at 0x7f379ddab9e8>"
            ]
          },
          "metadata": {
            "tags": []
          },
          "execution_count": 36
        }
      ]
    },
    {
      "cell_type": "code",
      "metadata": {
        "id": "FyZSjKs8vViP",
        "colab_type": "code",
        "outputId": "bbb20647-454f-4050-9676-c171e0471483",
        "colab": {
          "base_uri": "https://localhost:8080/",
          "height": 34
        }
      },
      "source": [
        "x.__next__()"
      ],
      "execution_count": 0,
      "outputs": [
        {
          "output_type": "execute_result",
          "data": {
            "text/plain": [
              "1"
            ]
          },
          "metadata": {
            "tags": []
          },
          "execution_count": 39
        }
      ]
    },
    {
      "cell_type": "code",
      "metadata": {
        "id": "cAfpTVgEvViQ",
        "colab_type": "code",
        "outputId": "c842093f-e3bc-4e9f-e0ec-724b9e39741c",
        "colab": {
          "base_uri": "https://localhost:8080/",
          "height": 34
        }
      },
      "source": [
        "x.__next__()"
      ],
      "execution_count": 0,
      "outputs": [
        {
          "output_type": "execute_result",
          "data": {
            "text/plain": [
              "4"
            ]
          },
          "metadata": {
            "tags": []
          },
          "execution_count": 40
        }
      ]
    },
    {
      "cell_type": "code",
      "metadata": {
        "id": "M3lkUCZ9vViR",
        "colab_type": "code",
        "outputId": "100b4b94-a5cf-44f3-82a5-62c4eadeaf7e",
        "colab": {
          "base_uri": "https://localhost:8080/",
          "height": 34
        }
      },
      "source": [
        "x.__next__()"
      ],
      "execution_count": 0,
      "outputs": [
        {
          "output_type": "execute_result",
          "data": {
            "text/plain": [
              "9"
            ]
          },
          "metadata": {
            "tags": []
          },
          "execution_count": 41
        }
      ]
    },
    {
      "cell_type": "code",
      "metadata": {
        "id": "YAcbGTsHvViS",
        "colab_type": "code",
        "outputId": "baed616b-32bc-41fa-e379-35c9c4032572",
        "colab": {
          "base_uri": "https://localhost:8080/",
          "height": 34
        }
      },
      "source": [
        "x.__next__()"
      ],
      "execution_count": 0,
      "outputs": [
        {
          "output_type": "execute_result",
          "data": {
            "text/plain": [
              "16"
            ]
          },
          "metadata": {
            "tags": []
          },
          "execution_count": 42
        }
      ]
    },
    {
      "cell_type": "markdown",
      "metadata": {
        "id": "Bckhfr2bQJtV",
        "colab_type": "text"
      },
      "source": [
        "…StopIteration exception raised at end…"
      ]
    },
    {
      "cell_type": "markdown",
      "metadata": {
        "id": "j-FShu0nvViT",
        "colab_type": "text"
      },
      "source": [
        "**for loops (and others) automatically call next()**"
      ]
    },
    {
      "cell_type": "code",
      "metadata": {
        "id": "jZlL9FLDvViT",
        "colab_type": "code",
        "outputId": "a90b8ccb-8504-4710-eb72-dd272b109fda",
        "colab": {
          "base_uri": "https://localhost:8080/",
          "height": 102
        }
      },
      "source": [
        "for i in gensquares(5):        # resume the function each time\n",
        "  print(i)               # print last yielded value\n"
      ],
      "execution_count": 0,
      "outputs": [
        {
          "output_type": "stream",
          "text": [
            "0\n",
            "1\n",
            "4\n",
            "9\n",
            "16\n"
          ],
          "name": "stdout"
        }
      ]
    },
    {
      "cell_type": "markdown",
      "metadata": {
        "id": "ghAWD8uTvViU",
        "colab_type": "text"
      },
      "source": [
        "####Apply syntax (all Pys)"
      ]
    },
    {
      "cell_type": "code",
      "metadata": {
        "id": "M7NJoQ5vvViU",
        "colab_type": "code",
        "outputId": "895e8573-a12e-4bbf-b58f-b30091398202",
        "colab": {
          "base_uri": "https://localhost:8080/",
          "height": 34
        }
      },
      "source": [
        "def func(a, b, c):\n",
        "  return a + b + c\n",
        "\n",
        "func(*(2, 3, 4))"
      ],
      "execution_count": 0,
      "outputs": [
        {
          "output_type": "execute_result",
          "data": {
            "text/plain": [
              "9"
            ]
          },
          "metadata": {
            "tags": []
          },
          "execution_count": 51
        }
      ]
    },
    {
      "cell_type": "code",
      "metadata": {
        "id": "cfSkPLo6vViX",
        "colab_type": "code",
        "outputId": "8f36b21a-1dfa-45de-95fb-19f8c0a79558",
        "colab": {
          "base_uri": "https://localhost:8080/",
          "height": 34
        }
      },
      "source": [
        "func(*(2, 3), **{'c': 4})     # 2.X and 3.X"
      ],
      "execution_count": 0,
      "outputs": [
        {
          "output_type": "execute_result",
          "data": {
            "text/plain": [
              "9"
            ]
          },
          "metadata": {
            "tags": []
          },
          "execution_count": 50
        }
      ]
    },
    {
      "cell_type": "markdown",
      "metadata": {
        "id": "Ug8t0OnQvViX",
        "colab_type": "text"
      },
      "source": [
        "**call syntax is more flexible:**"
      ]
    },
    {
      "cell_type": "code",
      "metadata": {
        "id": "hocbdr5nvViX",
        "colab_type": "code",
        "outputId": "ea90c437-386a-4cad-8305-70eae720336d",
        "colab": {
          "base_uri": "https://localhost:8080/",
          "height": 34
        }
      },
      "source": [
        "def func(a, b, c, d): return a + b + c + d\n",
        "\n",
        "args1 = (1, 2)\n",
        "args2 = {'c': 3, 'd': 4}\n",
        "func(*args1, **args2)"
      ],
      "execution_count": 0,
      "outputs": [
        {
          "output_type": "execute_result",
          "data": {
            "text/plain": [
              "10"
            ]
          },
          "metadata": {
            "tags": []
          },
          "execution_count": 1
        }
      ]
    },
    {
      "cell_type": "code",
      "metadata": {
        "id": "K9KgBB_ivVia",
        "colab_type": "code",
        "outputId": "c180b567-7c7f-4ecb-ec67-19b81322dfb2",
        "colab": {
          "base_uri": "https://localhost:8080/",
          "height": 34
        }
      },
      "source": [
        "func(1, *(2,), **args2)"
      ],
      "execution_count": 0,
      "outputs": [
        {
          "output_type": "execute_result",
          "data": {
            "text/plain": [
              "10"
            ]
          },
          "metadata": {
            "tags": []
          },
          "execution_count": 2
        }
      ]
    },
    {
      "cell_type": "markdown",
      "metadata": {
        "id": "ix3jcJN8vVib",
        "colab_type": "text"
      },
      "source": [
        "####Default return values"
      ]
    },
    {
      "cell_type": "code",
      "metadata": {
        "id": "bXggumxtvVib",
        "colab_type": "code",
        "outputId": "76911d2f-a592-4ee1-eeec-f9a357920dd5",
        "colab": {
          "base_uri": "https://localhost:8080/",
          "height": 34
        }
      },
      "source": [
        "def proc(x):\n",
        "  print(x)\n",
        "  \n",
        "x = proc('testing 123...')  "
      ],
      "execution_count": 0,
      "outputs": [
        {
          "output_type": "stream",
          "text": [
            "testing 123...\n"
          ],
          "name": "stdout"
        }
      ]
    },
    {
      "cell_type": "code",
      "metadata": {
        "id": "y7rmNqDBfMfK",
        "colab_type": "code",
        "outputId": "1054aac5-4597-42ec-cb2a-1aa62636ef73",
        "colab": {
          "base_uri": "https://localhost:8080/",
          "height": 34
        }
      },
      "source": [
        "print(x)"
      ],
      "execution_count": 0,
      "outputs": [
        {
          "output_type": "stream",
          "text": [
            "None\n"
          ],
          "name": "stdout"
        }
      ]
    },
    {
      "cell_type": "markdown",
      "metadata": {
        "id": "7EO-LoLHvVid",
        "colab_type": "text"
      },
      "source": [
        "####Python 3.X function annotations"
      ]
    },
    {
      "cell_type": "code",
      "metadata": {
        "id": "Qd3_oJlEvVie",
        "colab_type": "code",
        "outputId": "06c2deb9-b6bc-4c67-d663-5d7898ad820b",
        "colab": {
          "base_uri": "https://localhost:8080/",
          "height": 34
        }
      },
      "source": [
        "def func(a: int, b: 'spam', c: 88 = 99) -> float:\n",
        "  print(a, b, c)\n",
        "\n",
        "func(1, 2)"
      ],
      "execution_count": 0,
      "outputs": [
        {
          "output_type": "stream",
          "text": [
            "1 2 99\n"
          ],
          "name": "stdout"
        }
      ]
    },
    {
      "cell_type": "code",
      "metadata": {
        "id": "q6Llu-nKvVie",
        "colab_type": "code",
        "outputId": "b7afd679-5887-4c35-c2b1-eccee2aed940",
        "colab": {
          "base_uri": "https://localhost:8080/",
          "height": 34
        }
      },
      "source": [
        "func.__annotations__"
      ],
      "execution_count": 0,
      "outputs": [
        {
          "output_type": "execute_result",
          "data": {
            "text/plain": [
              "{'a': int, 'b': 'spam', 'c': 88, 'return': float}"
            ]
          },
          "metadata": {
            "tags": []
          },
          "execution_count": 9
        }
      ]
    },
    {
      "cell_type": "markdown",
      "metadata": {
        "id": "jAbCic8PgIf5",
        "colab_type": "text"
      },
      "source": [
        "####Python 3.X keyword-only arguments"
      ]
    },
    {
      "cell_type": "code",
      "metadata": {
        "id": "sCk4TZXQvVif",
        "colab_type": "code",
        "outputId": "0f0ce1f4-3a07-4f84-fd84-a82e9f7e45de",
        "colab": {
          "base_uri": "https://localhost:8080/",
          "height": 197
        }
      },
      "source": [
        "def f(a, b, *, c=3, d): print(a, b, c, d)\n",
        "\n",
        "print(\"ERROR EXPECTED\")\n",
        "f(1, 2)"
      ],
      "execution_count": 0,
      "outputs": [
        {
          "output_type": "error",
          "ename": "TypeError",
          "evalue": "ignored",
          "traceback": [
            "\u001b[0;31m---------------------------------------------------------------------------\u001b[0m",
            "\u001b[0;31mTypeError\u001b[0m                                 Traceback (most recent call last)",
            "\u001b[0;32m<ipython-input-11-68f5380c98b7>\u001b[0m in \u001b[0;36m<module>\u001b[0;34m()\u001b[0m\n\u001b[1;32m      1\u001b[0m \u001b[0;32mdef\u001b[0m \u001b[0mf\u001b[0m\u001b[0;34m(\u001b[0m\u001b[0ma\u001b[0m\u001b[0;34m,\u001b[0m \u001b[0mb\u001b[0m\u001b[0;34m,\u001b[0m \u001b[0;34m*\u001b[0m\u001b[0;34m,\u001b[0m \u001b[0mc\u001b[0m\u001b[0;34m=\u001b[0m\u001b[0;36m3\u001b[0m\u001b[0;34m,\u001b[0m \u001b[0md\u001b[0m\u001b[0;34m)\u001b[0m\u001b[0;34m:\u001b[0m \u001b[0mprint\u001b[0m\u001b[0;34m(\u001b[0m\u001b[0ma\u001b[0m\u001b[0;34m,\u001b[0m \u001b[0mb\u001b[0m\u001b[0;34m,\u001b[0m \u001b[0mc\u001b[0m\u001b[0;34m,\u001b[0m \u001b[0md\u001b[0m\u001b[0;34m)\u001b[0m\u001b[0;34m\u001b[0m\u001b[0;34m\u001b[0m\u001b[0m\n\u001b[1;32m      2\u001b[0m \u001b[0;34m\u001b[0m\u001b[0m\n\u001b[0;32m----> 3\u001b[0;31m \u001b[0mf\u001b[0m\u001b[0;34m(\u001b[0m\u001b[0;36m1\u001b[0m\u001b[0;34m,\u001b[0m \u001b[0;36m2\u001b[0m\u001b[0;34m)\u001b[0m\u001b[0;34m\u001b[0m\u001b[0;34m\u001b[0m\u001b[0m\n\u001b[0m",
            "\u001b[0;31mTypeError\u001b[0m: f() missing 1 required keyword-only argument: 'd'"
          ]
        }
      ]
    },
    {
      "cell_type": "code",
      "metadata": {
        "id": "vGTLHF-EvVih",
        "colab_type": "code",
        "outputId": "def7b82c-fbe3-428c-92bd-9de51c74bf6c",
        "colab": {
          "base_uri": "https://localhost:8080/",
          "height": 197
        }
      },
      "source": [
        "print(\"ERROR EXPECTED\")\n",
        "f(1, 2, 3)"
      ],
      "execution_count": 0,
      "outputs": [
        {
          "output_type": "stream",
          "text": [
            "ERROR EXPECTED\n"
          ],
          "name": "stdout"
        },
        {
          "output_type": "error",
          "ename": "TypeError",
          "evalue": "ignored",
          "traceback": [
            "\u001b[0;31m---------------------------------------------------------------------------\u001b[0m",
            "\u001b[0;31mTypeError\u001b[0m                                 Traceback (most recent call last)",
            "\u001b[0;32m<ipython-input-13-6dbda9544a7c>\u001b[0m in \u001b[0;36m<module>\u001b[0;34m()\u001b[0m\n\u001b[1;32m      1\u001b[0m \u001b[0mprint\u001b[0m\u001b[0;34m(\u001b[0m\u001b[0;34m\"ERROR EXPECTED\"\u001b[0m\u001b[0;34m)\u001b[0m\u001b[0;34m\u001b[0m\u001b[0;34m\u001b[0m\u001b[0m\n\u001b[0;32m----> 2\u001b[0;31m \u001b[0mf\u001b[0m\u001b[0;34m(\u001b[0m\u001b[0;36m1\u001b[0m\u001b[0;34m,\u001b[0m \u001b[0;36m2\u001b[0m\u001b[0;34m,\u001b[0m \u001b[0;36m3\u001b[0m\u001b[0;34m)\u001b[0m\u001b[0;34m\u001b[0m\u001b[0;34m\u001b[0m\u001b[0m\n\u001b[0m",
            "\u001b[0;31mTypeError\u001b[0m: f() takes 2 positional arguments but 3 were given"
          ]
        }
      ]
    },
    {
      "cell_type": "code",
      "metadata": {
        "id": "BPKBTA4TvVih",
        "colab_type": "code",
        "outputId": "86c91d99-bc46-46e4-8df8-2bbdb183806e",
        "colab": {
          "base_uri": "https://localhost:8080/",
          "height": 34
        }
      },
      "source": [
        "f(1, 2, d=4)"
      ],
      "execution_count": 0,
      "outputs": [
        {
          "output_type": "stream",
          "text": [
            "1 2 3 4\n"
          ],
          "name": "stdout"
        }
      ]
    },
    {
      "cell_type": "code",
      "metadata": {
        "id": "tNfER3DuvVii",
        "colab_type": "code",
        "outputId": "ca67069b-040c-4229-8b37-2494a746173a",
        "colab": {
          "base_uri": "https://localhost:8080/",
          "height": 34
        }
      },
      "source": [
        "f(1, 2, c=3, d=4)"
      ],
      "execution_count": 0,
      "outputs": [
        {
          "output_type": "stream",
          "text": [
            "1 2 3 4\n"
          ],
          "name": "stdout"
        }
      ]
    },
    {
      "cell_type": "markdown",
      "metadata": {
        "id": "c-mDezX8vVii",
        "colab_type": "text"
      },
      "source": [
        "###Function design concepts"
      ]
    },
    {
      "cell_type": "markdown",
      "metadata": {
        "id": "pvcfz_7Fgm9E",
        "colab_type": "text"
      },
      "source": [
        "   * Use global variables only when absolutely necessary\n",
        "   * Use arguments for input, ‘return’ for outputs\n",
        "   * Don’t change mutable arguments unless expected\n",
        "   * But globals are only state-retention tool without classes\n",
        "   * But classes depend on mutable arguments (‘self’)\n",
        "   \n",
        "   ![function](https://learning-python.com/class/Workbook/unit05_files/image004.gif)"
      ]
    },
    {
      "cell_type": "markdown",
      "metadata": {
        "id": "xhQmWdRlg1UY",
        "colab_type": "text"
      },
      "source": [
        "####Functions are objects: indirect calls"
      ]
    },
    {
      "cell_type": "markdown",
      "metadata": {
        "id": "NuQeq2vrg4PL",
        "colab_type": "text"
      },
      "source": [
        "   * Function objects can be assigned, passed, etc.\n",
        "   * Can call objects generically: function, bound method, ..."
      ]
    },
    {
      "cell_type": "code",
      "metadata": {
        "id": "buCx7f7ovVij",
        "colab_type": "code",
        "outputId": "dde95663-60bf-4ac7-f1e6-2be5dc825e94",
        "colab": {
          "base_uri": "https://localhost:8080/",
          "height": 34
        }
      },
      "source": [
        "def echo(message): print(message)\n",
        "\n",
        "x = echo\n",
        "x('Hello world!')"
      ],
      "execution_count": 0,
      "outputs": [
        {
          "output_type": "stream",
          "text": [
            "Hello world!\n"
          ],
          "name": "stdout"
        }
      ]
    },
    {
      "cell_type": "code",
      "metadata": {
        "id": "MSqQO6IP9rGD",
        "colab_type": "code",
        "outputId": "0ad06c3d-198b-46a5-da82-787e29db4226",
        "colab": {
          "base_uri": "https://localhost:8080/",
          "height": 34
        }
      },
      "source": [
        "def indirect(func, arg):\n",
        "  func(arg)\n",
        "\n",
        "indirect(echo, 'Hello world!')"
      ],
      "execution_count": 0,
      "outputs": [
        {
          "output_type": "stream",
          "text": [
            "Hello world!\n"
          ],
          "name": "stdout"
        }
      ]
    },
    {
      "cell_type": "code",
      "metadata": {
        "id": "7IKEGq8K9nje",
        "colab_type": "code",
        "outputId": "08dc4145-cc3a-4433-898f-8a4a4d11231b",
        "colab": {
          "base_uri": "https://localhost:8080/",
          "height": 51
        }
      },
      "source": [
        "schedule = [ (echo, 'Hello!'), (echo, 'Ni!') ]\n",
        "for (func, arg) in schedule:\n",
        "    func(arg)"
      ],
      "execution_count": 0,
      "outputs": [
        {
          "output_type": "stream",
          "text": [
            "Hello!\n",
            "Ni!\n"
          ],
          "name": "stdout"
        }
      ]
    },
    {
      "cell_type": "markdown",
      "metadata": {
        "id": "Bxk3U5CkvVik",
        "colab_type": "text"
      },
      "source": [
        "**File scanners**"
      ]
    },
    {
      "cell_type": "code",
      "metadata": {
        "id": "zGPpKOIM-Obn",
        "colab_type": "code",
        "colab": {}
      },
      "source": [
        "!echo -e \"this \\n is \\n Sparta\" > data.txt"
      ],
      "execution_count": 0,
      "outputs": []
    },
    {
      "cell_type": "code",
      "metadata": {
        "id": "MtIokWcjvVik",
        "colab_type": "code",
        "colab": {}
      },
      "source": [
        "# definition\n",
        "def scanner(name, function):\n",
        "  file = open(name, 'r')          # create file\n",
        "  for line in file.readlines():\n",
        "    function(line)              # call function\n",
        "  file.close()"
      ],
      "execution_count": 0,
      "outputs": []
    },
    {
      "cell_type": "code",
      "metadata": {
        "id": "7JpHpP5EvVil",
        "colab_type": "code",
        "outputId": "97fccfe4-51b5-4bbd-aa2c-e2536c23f80a",
        "colab": {
          "base_uri": "https://localhost:8080/",
          "height": 119
        }
      },
      "source": [
        "# usage\n",
        "def processLine(line):\n",
        "  print(line.upper())\n",
        "  \n",
        "scanner(\"data.txt\", processLine)    # start scanner"
      ],
      "execution_count": 0,
      "outputs": [
        {
          "output_type": "stream",
          "text": [
            "THIS \n",
            "\n",
            " IS \n",
            "\n",
            " SPARTA\n",
            "\n"
          ],
          "name": "stdout"
        }
      ]
    },
    {
      "cell_type": "markdown",
      "metadata": {
        "id": "FgUNQh7OvVim",
        "colab_type": "text"
      },
      "source": [
        "###Function gotchas"
      ]
    },
    {
      "cell_type": "code",
      "metadata": {
        "id": "KGJ4clJbvVin",
        "colab_type": "code",
        "outputId": "2b0108b9-a27c-4b02-ba27-2b8cc456cdea",
        "colab": {
          "base_uri": "https://localhost:8080/",
          "height": 51
        }
      },
      "source": [
        "X = 99\n",
        "\n",
        "def selector():\n",
        "  X = 88          # X classified as a local name\n",
        "  print(X)\n",
        "  \n",
        "selector()\n",
        "X"
      ],
      "execution_count": 0,
      "outputs": [
        {
          "output_type": "stream",
          "text": [
            "88\n"
          ],
          "name": "stdout"
        },
        {
          "output_type": "execute_result",
          "data": {
            "text/plain": [
              "99"
            ]
          },
          "metadata": {
            "tags": []
          },
          "execution_count": 12
        }
      ]
    },
    {
      "cell_type": "code",
      "metadata": {
        "id": "buUJ-NI4vVio",
        "colab_type": "code",
        "outputId": "df043fde-a666-4c28-e5dd-8ddd8d615a1d",
        "colab": {
          "base_uri": "https://localhost:8080/",
          "height": 51
        }
      },
      "source": [
        "X = 99\n",
        "\n",
        "def selector():\n",
        "  global X        # force X to be global\n",
        "  X = 88          # X classified as a global name\n",
        "  print(X)\n",
        "  \n",
        "selector()\n",
        "X"
      ],
      "execution_count": 0,
      "outputs": [
        {
          "output_type": "stream",
          "text": [
            "88\n"
          ],
          "name": "stdout"
        },
        {
          "output_type": "execute_result",
          "data": {
            "text/plain": [
              "88"
            ]
          },
          "metadata": {
            "tags": []
          },
          "execution_count": 13
        }
      ]
    },
    {
      "cell_type": "code",
      "metadata": {
        "id": "g4k6C37tvVir",
        "colab_type": "code",
        "outputId": "cf56e879-b084-4a63-ca81-0ada0ac435da",
        "colab": {
          "base_uri": "https://localhost:8080/",
          "height": 51
        }
      },
      "source": [
        "X = 99\n",
        "\n",
        "def selector():\n",
        "  print(X)        # X classified as a global name\n",
        "  \n",
        "selector()\n",
        "X"
      ],
      "execution_count": 0,
      "outputs": [
        {
          "output_type": "stream",
          "text": [
            "99\n"
          ],
          "name": "stdout"
        },
        {
          "output_type": "execute_result",
          "data": {
            "text/plain": [
              "99"
            ]
          },
          "metadata": {
            "tags": []
          },
          "execution_count": 14
        }
      ]
    },
    {
      "cell_type": "markdown",
      "metadata": {
        "id": "9-D2AYNtvVir",
        "colab_type": "text"
      },
      "source": [
        "**Mutable defaults created just once**"
      ]
    },
    {
      "cell_type": "code",
      "metadata": {
        "id": "tOgVmQPuvViv",
        "colab_type": "code",
        "outputId": "e8ea82c7-aef7-48ed-8c9d-99354c43ff64",
        "colab": {
          "base_uri": "https://localhost:8080/",
          "height": 34
        }
      },
      "source": [
        "def grow(A, B=[]):\n",
        "  B.append(A)\n",
        "  return B\n",
        "\n",
        "grow(1)"
      ],
      "execution_count": 0,
      "outputs": [
        {
          "output_type": "execute_result",
          "data": {
            "text/plain": [
              "[1]"
            ]
          },
          "metadata": {
            "tags": []
          },
          "execution_count": 15
        }
      ]
    },
    {
      "cell_type": "code",
      "metadata": {
        "id": "dXaELtJlvViv",
        "colab_type": "code",
        "outputId": "eb3a456a-87f4-43a8-d670-d81cae15f8cf",
        "colab": {
          "base_uri": "https://localhost:8080/",
          "height": 34
        }
      },
      "source": [
        "grow(1)"
      ],
      "execution_count": 0,
      "outputs": [
        {
          "output_type": "execute_result",
          "data": {
            "text/plain": [
              "[1, 1]"
            ]
          },
          "metadata": {
            "tags": []
          },
          "execution_count": 16
        }
      ]
    },
    {
      "cell_type": "code",
      "metadata": {
        "id": "3L_tHEMEvViw",
        "colab_type": "code",
        "outputId": "df4f8c30-fef0-455f-be29-c07655707438",
        "colab": {
          "base_uri": "https://localhost:8080/",
          "height": 34
        }
      },
      "source": [
        "grow(1)"
      ],
      "execution_count": 0,
      "outputs": [
        {
          "output_type": "execute_result",
          "data": {
            "text/plain": [
              "[1, 1, 1]"
            ]
          },
          "metadata": {
            "tags": []
          },
          "execution_count": 17
        }
      ]
    },
    {
      "cell_type": "markdown",
      "metadata": {
        "id": "hNq9umCyvVi1",
        "colab_type": "text"
      },
      "source": [
        "**Use defaults to save references**\n",
        "\n",
        "still required to retain current value of loop variables!"
      ]
    },
    {
      "cell_type": "code",
      "metadata": {
        "id": "A4sS7mNPvVi1",
        "colab_type": "code",
        "outputId": "a9420231-1cc3-4a54-d961-a116072d59f2",
        "colab": {
          "base_uri": "https://localhost:8080/",
          "height": 34
        }
      },
      "source": [
        "def outer(x, y):\n",
        "  def inner():\n",
        "    return x ** y\n",
        "  return inner\n",
        "\n",
        "x = outer(2, 4)\n",
        "x()"
      ],
      "execution_count": 0,
      "outputs": [
        {
          "output_type": "execute_result",
          "data": {
            "text/plain": [
              "16"
            ]
          },
          "metadata": {
            "tags": []
          },
          "execution_count": 23
        }
      ]
    },
    {
      "cell_type": "code",
      "metadata": {
        "id": "aX5RdirQvVi5",
        "colab_type": "code",
        "outputId": "9d9eaaaa-ddae-4f7d-a074-f34c6a3e868c",
        "colab": {
          "base_uri": "https://localhost:8080/",
          "height": 34
        }
      },
      "source": [
        "def outer(x, y):\n",
        "  return lambda a=x, b=y: a**b\n",
        "\n",
        "y = outer(2, 5)\n",
        "y()"
      ],
      "execution_count": 0,
      "outputs": [
        {
          "output_type": "execute_result",
          "data": {
            "text/plain": [
              "32"
            ]
          },
          "metadata": {
            "tags": []
          },
          "execution_count": 24
        }
      ]
    },
    {
      "cell_type": "markdown",
      "metadata": {
        "id": "07B-j7PVvVi6",
        "colab_type": "text"
      },
      "source": [
        "32\n",
        "for I in someiterable:"
      ]
    },
    {
      "cell_type": "code",
      "metadata": {
        "id": "I69oYILUvVi6",
        "colab_type": "code",
        "outputId": "10ee225b-42f0-4868-db96-bf089fe2fb61",
        "colab": {
          "base_uri": "https://localhost:8080/",
          "height": 34
        }
      },
      "source": [
        "actions = []\n",
        "for I in [0,1,2,3,4]:\n",
        "  actions.append(lambda I=I: print(I))  # retain current I, not last!\n",
        "  \n",
        "actions[2]()"
      ],
      "execution_count": 0,
      "outputs": [
        {
          "output_type": "stream",
          "text": [
            "2\n"
          ],
          "name": "stdout"
        }
      ]
    },
    {
      "cell_type": "markdown",
      "metadata": {
        "id": "lGllul5QvVi7",
        "colab_type": "text"
      },
      "source": [
        "###Optional reading: set functions"
      ]
    },
    {
      "cell_type": "markdown",
      "metadata": {
        "id": "mA091Q8sGXIi",
        "colab_type": "text"
      },
      "source": [
        "   * Functions process passed-in sequence objects\n",
        "   * Work on any type of sequence objects\n",
        "   * Supports mixed types: list and tuple, etc."
      ]
    },
    {
      "cell_type": "code",
      "metadata": {
        "id": "vqjXZseavVi7",
        "colab_type": "code",
        "outputId": "c09898ce-0ecd-4bfe-cefd-fe4f3ffe36a5",
        "colab": {
          "base_uri": "https://localhost:8080/",
          "height": 34
        }
      },
      "source": [
        "def intersect(seq1, seq2):\n",
        "  res = []                     # start with an empty list\n",
        "  for x in seq1:               # scan the first sequence\n",
        "    if x in seq2:\n",
        "      res.append(x)        # add common items to end\n",
        "  return res\n",
        "\n",
        "def union(seq1, seq2):\n",
        "  res = list(seq1)        # copy of seq1\n",
        "  for x in seq2:          # add new items in seq2\n",
        "    if not x in res:\n",
        "      res.append(x)\n",
        "  return res\n",
        "\n",
        "s1 = \"SPAM\"\n",
        "s2 = \"SCAM\"\n",
        "intersect(s1, s2), union(s1, s2)           # strings"
      ],
      "execution_count": 0,
      "outputs": [
        {
          "output_type": "execute_result",
          "data": {
            "text/plain": [
              "(['S', 'A', 'M'], ['S', 'P', 'A', 'M', 'C'])"
            ]
          },
          "metadata": {
            "tags": []
          },
          "execution_count": 37
        }
      ]
    },
    {
      "cell_type": "code",
      "metadata": {
        "id": "yFDJkfNVvVi_",
        "colab_type": "code",
        "outputId": "59941e67-2ba5-4ddf-c42e-fe8976e0cba5",
        "colab": {
          "base_uri": "https://localhost:8080/",
          "height": 34
        }
      },
      "source": [
        "intersect([1,2,3], (1,4))                  # mixed types"
      ],
      "execution_count": 0,
      "outputs": [
        {
          "output_type": "execute_result",
          "data": {
            "text/plain": [
              "[1]"
            ]
          },
          "metadata": {
            "tags": []
          },
          "execution_count": 38
        }
      ]
    },
    {
      "cell_type": "code",
      "metadata": {
        "id": "yNdK4x2_vVjA",
        "colab_type": "code",
        "outputId": "f84ec2b9-e7f7-4d9f-99c4-70d52591da33",
        "colab": {
          "base_uri": "https://localhost:8080/",
          "height": 34
        }
      },
      "source": [
        "union([1,2,3], (1,4))"
      ],
      "execution_count": 0,
      "outputs": [
        {
          "output_type": "execute_result",
          "data": {
            "text/plain": [
              "[1, 2, 3, 4]"
            ]
          },
          "metadata": {
            "tags": []
          },
          "execution_count": 39
        }
      ]
    },
    {
      "cell_type": "markdown",
      "metadata": {
        "id": "mb9y5YbyvVjA",
        "colab_type": "text"
      },
      "source": [
        "###Supporting multiple operands: *varargs"
      ]
    },
    {
      "cell_type": "code",
      "metadata": {
        "id": "hqBllHDmvVjA",
        "colab_type": "code",
        "outputId": "40bc3570-f459-4f13-a45c-fcec8fdd65ca",
        "colab": {
          "base_uri": "https://localhost:8080/",
          "height": 34
        }
      },
      "source": [
        "def intersect(*args):\n",
        "  res = []\n",
        "  for x in args[0]:                  # scan first sequence\n",
        "    for other in args[1:]:         # for all other args\n",
        "      if x not in other: break   # this in each one?\n",
        "      else:\n",
        "        res.append(x)              # add items to end\n",
        "  return res\n",
        "\n",
        "def union(*args):\n",
        "  res = []\n",
        "  for seq in args:                   # for all args\n",
        "    for x in seq:                  # for all nodes\n",
        "      if not x in res:\n",
        "        res.append(x)          # add items to result\n",
        "  return res\n",
        "  \n",
        "s1, s2, s3 = \"SPAM\", \"SCAM\", \"SLAM\"\n",
        "intersect(s1, s2), union(s1, s2)           # 2 operands"
      ],
      "execution_count": 0,
      "outputs": [
        {
          "output_type": "execute_result",
          "data": {
            "text/plain": [
              "(['S', 'A', 'M'], ['S', 'P', 'A', 'M', 'C'])"
            ]
          },
          "metadata": {
            "tags": []
          },
          "execution_count": 40
        }
      ]
    },
    {
      "cell_type": "code",
      "metadata": {
        "id": "90trlenGvVjF",
        "colab_type": "code",
        "outputId": "34b2cb10-056d-4bfc-a390-faa4dc6a1f7c",
        "colab": {
          "base_uri": "https://localhost:8080/",
          "height": 34
        }
      },
      "source": [
        "intersect([1,2,3], (1,4))"
      ],
      "execution_count": 0,
      "outputs": [
        {
          "output_type": "execute_result",
          "data": {
            "text/plain": [
              "[1]"
            ]
          },
          "metadata": {
            "tags": []
          },
          "execution_count": 41
        }
      ]
    },
    {
      "cell_type": "code",
      "metadata": {
        "id": "7bxeXcdlvVjG",
        "colab_type": "code",
        "outputId": "a255dbb3-11b4-4376-ef0b-eeb32909a756",
        "colab": {
          "base_uri": "https://localhost:8080/",
          "height": 34
        }
      },
      "source": [
        "intersect(s1, s2, s3)                      # 3 operands"
      ],
      "execution_count": 0,
      "outputs": [
        {
          "output_type": "execute_result",
          "data": {
            "text/plain": [
              "['S', 'S', 'A', 'A', 'M', 'M']"
            ]
          },
          "metadata": {
            "tags": []
          },
          "execution_count": 42
        }
      ]
    },
    {
      "cell_type": "code",
      "metadata": {
        "id": "nM_xfDW6vVjH",
        "colab_type": "code",
        "outputId": "8d9e43e6-41d0-445b-de70-3559027a5412",
        "colab": {
          "base_uri": "https://localhost:8080/",
          "height": 34
        }
      },
      "source": [
        "union(s1, s2, s3)"
      ],
      "execution_count": 0,
      "outputs": [
        {
          "output_type": "execute_result",
          "data": {
            "text/plain": [
              "['S', 'P', 'A', 'M', 'C', 'L']"
            ]
          },
          "metadata": {
            "tags": []
          },
          "execution_count": 43
        }
      ]
    },
    {
      "cell_type": "markdown",
      "metadata": {
        "id": "MlgFudd3jGGV",
        "colab_type": "text"
      },
      "source": [
        "##Modules"
      ]
    },
    {
      "cell_type": "markdown",
      "metadata": {
        "id": "HnlKYXSW0MER",
        "colab_type": "text"
      },
      "source": [
        "**Why use modules?**\n",
        "\n",
        "*     Code reuse\n",
        "*     System name-space partitioning\n",
        "*     Implementing shared services or data"
      ]
    },
    {
      "cell_type": "markdown",
      "metadata": {
        "id": "-wR5o0Ah367X",
        "colab_type": "text"
      },
      "source": [
        "**Module topics**\n",
        " \n",
        "*     The basics\n",
        "*     Import variations\n",
        "*     Reloading modules\n",
        "*     Design concepts\n",
        "*     Modules are objects\n",
        "*     Package imports\n",
        "*     Odds and ends\n",
        "*     Module gotchas"
      ]
    },
    {
      "cell_type": "markdown",
      "metadata": {
        "id": "X4fDbRY93-4n",
        "colab_type": "text"
      },
      "source": [
        "###Module basics"
      ]
    },
    {
      "cell_type": "markdown",
      "metadata": {
        "id": "h3Z7UFQq4CCX",
        "colab_type": "text"
      },
      "source": [
        "*     Creating modules: Python files, C extensions; Java classes (Jython)\n",
        "*     Using modules: import, from, reload(), 3.X: imp.reload()\n",
        "*     Module search path: $PYTHONPATH"
      ]
    },
    {
      "cell_type": "code",
      "metadata": {
        "id": "hUrUlJ0WjGGY",
        "colab_type": "code",
        "colab": {}
      },
      "source": [
        "! echo \"def printer(x): # module attribute\" > module1.py &&\\\n",
        "  echo \"  print(x)\" >> module1.py"
      ],
      "execution_count": 0,
      "outputs": []
    },
    {
      "cell_type": "markdown",
      "metadata": {
        "id": "u8AVLj3IjGGc",
        "colab_type": "text"
      },
      "source": [
        "**Module usage**"
      ]
    },
    {
      "cell_type": "code",
      "metadata": {
        "id": "rhl1DSU5Oe3q",
        "colab_type": "code",
        "outputId": "55ea1574-3666-4507-e3ed-d4aac6f2ab28",
        "colab": {
          "base_uri": "https://localhost:8080/",
          "height": 34
        }
      },
      "source": [
        "import module1 # get module\n",
        "module1.printer('Hello world!')"
      ],
      "execution_count": 0,
      "outputs": [
        {
          "output_type": "stream",
          "text": [
            "Hello world!\n"
          ],
          "name": "stdout"
        }
      ]
    },
    {
      "cell_type": "code",
      "metadata": {
        "id": "SsAEqweuOn2Z",
        "colab_type": "code",
        "outputId": "b91b5679-2e43-4918-c754-896d000bc591",
        "colab": {
          "base_uri": "https://localhost:8080/",
          "height": 34
        }
      },
      "source": [
        "from module1 import printer # get an export\n",
        "printer('Hello world!')"
      ],
      "execution_count": 0,
      "outputs": [
        {
          "output_type": "stream",
          "text": [
            "Hello world!\n"
          ],
          "name": "stdout"
        }
      ]
    },
    {
      "cell_type": "code",
      "metadata": {
        "id": "4jxky0ZgjGGd",
        "colab_type": "code",
        "outputId": "68271472-9a8c-455f-8736-27b2d9edd4a8",
        "colab": {
          "base_uri": "https://localhost:8080/",
          "height": 34
        }
      },
      "source": [
        "from module1 import * # get all exports\n",
        "printer('Hello world!')"
      ],
      "execution_count": 0,
      "outputs": [
        {
          "output_type": "stream",
          "text": [
            "Hello world!\n"
          ],
          "name": "stdout"
        }
      ]
    },
    {
      "cell_type": "markdown",
      "metadata": {
        "id": "QBierGYXjGGg",
        "colab_type": "text"
      },
      "source": [
        "from * can obscure variables meaning"
      ]
    },
    {
      "cell_type": "code",
      "metadata": {
        "id": "-DMS-1fRO3dJ",
        "colab_type": "code",
        "colab": {}
      },
      "source": [
        "! echo \"def func(): # module attribute\" > module1.py &&\\\n",
        "  echo \"  print('module 1')\" >> module1.py\n",
        "! echo \"def func(): # module attribute\" > module2.py &&\\\n",
        "  echo \"  print('module 2')\" >> module2.py\n",
        "! echo \"def func(): # module attribute\" > module3.py &&\\\n",
        "  echo \"  print('module 3')\" >> module3.py"
      ],
      "execution_count": 0,
      "outputs": []
    },
    {
      "cell_type": "code",
      "metadata": {
        "id": "EAeiQREijGGh",
        "colab_type": "code",
        "outputId": "b1da173a-c856-4830-e90b-106f1566262c",
        "colab": {
          "base_uri": "https://localhost:8080/",
          "height": 34
        }
      },
      "source": [
        "from module1 import * # may overwrite my names\n",
        "from module2 import * # no way to tell what we get\n",
        "from module3 import *\n",
        "\n",
        "func() # ← ?!\n",
        "\n",
        "# Advice: use from * with at most 1 module per file"
      ],
      "execution_count": 0,
      "outputs": [
        {
          "output_type": "stream",
          "text": [
            "module 3\n"
          ],
          "name": "stdout"
        }
      ]
    },
    {
      "cell_type": "markdown",
      "metadata": {
        "id": "ZvczlPgqjGGj",
        "colab_type": "text"
      },
      "source": [
        "from does not play well with reload"
      ]
    },
    {
      "cell_type": "code",
      "metadata": {
        "id": "YBxtCbpUPgVS",
        "colab_type": "code",
        "colab": {}
      },
      "source": [
        "! echo \"def func(): # module attribute\" > moduleA.py &&\\\n",
        "  echo \"  print('module before change')\" >> moduleA.py"
      ],
      "execution_count": 0,
      "outputs": []
    },
    {
      "cell_type": "code",
      "metadata": {
        "id": "0OiXMOClPLus",
        "colab_type": "code",
        "outputId": "54f2d163-c6af-4f23-c15e-412bd98d9321",
        "colab": {
          "base_uri": "https://localhost:8080/",
          "height": 34
        }
      },
      "source": [
        "from moduleA import func # copy variable out\n",
        "func() # test it"
      ],
      "execution_count": 0,
      "outputs": [
        {
          "output_type": "stream",
          "text": [
            "module before change\n"
          ],
          "name": "stdout"
        }
      ]
    },
    {
      "cell_type": "code",
      "metadata": {
        "id": "EaOQ_ja-PpEx",
        "colab_type": "code",
        "colab": {}
      },
      "source": [
        "# change moduleA.py\n",
        "\n",
        "! echo \"def func(): # module attribute\" > moduleA.py &&\\\n",
        "  echo \"  print('module AFTER change')\" >> moduleA.py"
      ],
      "execution_count": 0,
      "outputs": []
    },
    {
      "cell_type": "code",
      "metadata": {
        "id": "y0l-YzGuP5AB",
        "colab_type": "code",
        "outputId": "1014aea2-c841-439f-cb3e-5dcb8ecc09b8",
        "colab": {
          "base_uri": "https://localhost:8080/",
          "height": 214
        }
      },
      "source": [
        "from imp import reload # required in 3.X\n",
        "print(\"ERROR EXPECTED\")\n",
        "reload(moduleA) # <- FAILS: unbound name!"
      ],
      "execution_count": 0,
      "outputs": [
        {
          "output_type": "stream",
          "text": [
            "ERROR EXPECTED\n"
          ],
          "name": "stdout"
        },
        {
          "output_type": "error",
          "ename": "NameError",
          "evalue": "ignored",
          "traceback": [
            "\u001b[0;31m---------------------------------------------------------------------------\u001b[0m",
            "\u001b[0;31mNameError\u001b[0m                                 Traceback (most recent call last)",
            "\u001b[0;32m<ipython-input-21-e3140f2732af>\u001b[0m in \u001b[0;36m<module>\u001b[0;34m()\u001b[0m\n\u001b[1;32m      1\u001b[0m \u001b[0;32mfrom\u001b[0m \u001b[0mimp\u001b[0m \u001b[0;32mimport\u001b[0m \u001b[0mreload\u001b[0m \u001b[0;31m# required in 3.X\u001b[0m\u001b[0;34m\u001b[0m\u001b[0;34m\u001b[0m\u001b[0m\n\u001b[1;32m      2\u001b[0m \u001b[0mprint\u001b[0m\u001b[0;34m(\u001b[0m\u001b[0;34m\"ERROR EXPECTED\"\u001b[0m\u001b[0;34m)\u001b[0m\u001b[0;34m\u001b[0m\u001b[0;34m\u001b[0m\u001b[0m\n\u001b[0;32m----> 3\u001b[0;31m \u001b[0mreload\u001b[0m\u001b[0;34m(\u001b[0m\u001b[0mmoduleA\u001b[0m\u001b[0;34m)\u001b[0m \u001b[0;31m# <- FAILS: unbound name!\u001b[0m\u001b[0;34m\u001b[0m\u001b[0;34m\u001b[0m\u001b[0m\n\u001b[0m",
            "\u001b[0;31mNameError\u001b[0m: name 'moduleA' is not defined"
          ]
        }
      ]
    },
    {
      "cell_type": "code",
      "metadata": {
        "id": "mEg0ev92QGT6",
        "colab_type": "code",
        "outputId": "b425e2f1-8512-4977-b51a-2d9bcb03bc9c",
        "colab": {
          "base_uri": "https://localhost:8080/",
          "height": 34
        }
      },
      "source": [
        "import moduleA # must bind name here\n",
        "reload(moduleA) # ok: loads new code\n",
        "func() # <- FAILS: old object!"
      ],
      "execution_count": 0,
      "outputs": [
        {
          "output_type": "stream",
          "text": [
            "module before change\n"
          ],
          "name": "stdout"
        }
      ]
    },
    {
      "cell_type": "code",
      "metadata": {
        "id": "DXEBT4qJQN45",
        "colab_type": "code",
        "outputId": "1ada2693-3a76-4f84-caf6-24bd4a8d0b19",
        "colab": {
          "base_uri": "https://localhost:8080/",
          "height": 34
        }
      },
      "source": [
        "moduleA.func() # this works now"
      ],
      "execution_count": 0,
      "outputs": [
        {
          "output_type": "stream",
          "text": [
            "module AFTER change\n"
          ],
          "name": "stdout"
        }
      ]
    },
    {
      "cell_type": "code",
      "metadata": {
        "id": "1nHSiMsFjGGk",
        "colab_type": "code",
        "outputId": "3c9b4160-7955-4fb4-c181-012bb94740b7",
        "colab": {
          "base_uri": "https://localhost:8080/",
          "height": 34
        }
      },
      "source": [
        "from moduleA import func # so does this\n",
        "func()\n",
        "\n",
        "# Advice: don't do that--run scripts other ways"
      ],
      "execution_count": 0,
      "outputs": [
        {
          "output_type": "stream",
          "text": [
            "module AFTER change\n"
          ],
          "name": "stdout"
        }
      ]
    },
    {
      "cell_type": "markdown",
      "metadata": {
        "id": "ei8hTPdWjGGn",
        "colab_type": "text"
      },
      "source": [
        "###Module files are a namespace"
      ]
    },
    {
      "cell_type": "markdown",
      "metadata": {
        "id": "qtK3mmSOQY55",
        "colab_type": "text"
      },
      "source": [
        "*     A single scope: local==global\n",
        "*     Module statements run on first import\n",
        "*     Top-level assignments create module attributes\n",
        "*     Module namespace: attribute __dict__, or dir()"
      ]
    },
    {
      "cell_type": "code",
      "metadata": {
        "id": "hMCCJr8qjGGo",
        "colab_type": "code",
        "colab": {}
      },
      "source": [
        "# file: moduleB.py\n",
        "\n",
        "! echo \"print('starting to load')\" > moduleB.py &&\\\n",
        "  echo \"import sys\" >> moduleB.py &&\\\n",
        "  echo \"name = 42\" >> moduleB.py &&\\\n",
        "  echo \"def func(): pass\" >> moduleB.py &&\\\n",
        "  echo \"class klass: pass\" >> moduleB.py &&\\\n",
        "  echo \"print('done loading.')\" >> moduleB.py"
      ],
      "execution_count": 0,
      "outputs": []
    },
    {
      "cell_type": "markdown",
      "metadata": {
        "id": "ILuFcwfPjGGq",
        "colab_type": "text"
      },
      "source": [
        "Usage"
      ]
    },
    {
      "cell_type": "code",
      "metadata": {
        "id": "iJkGZEqLXVjt",
        "colab_type": "code",
        "outputId": "b6ec290f-02d1-46b4-8217-297d8ae60b3e",
        "colab": {
          "base_uri": "https://localhost:8080/",
          "height": 51
        }
      },
      "source": [
        "import moduleB"
      ],
      "execution_count": 0,
      "outputs": [
        {
          "output_type": "stream",
          "text": [
            "starting to load\n",
            "done loading.\n"
          ],
          "name": "stdout"
        }
      ]
    },
    {
      "cell_type": "code",
      "metadata": {
        "id": "mtuMeXbPXdbv",
        "colab_type": "code",
        "outputId": "b179dd33-3ca0-4f86-bc07-8ffd31eb153c",
        "colab": {
          "base_uri": "https://localhost:8080/",
          "height": 34
        }
      },
      "source": [
        "moduleB.sys"
      ],
      "execution_count": 0,
      "outputs": [
        {
          "output_type": "execute_result",
          "data": {
            "text/plain": [
              "<module 'sys' (built-in)>"
            ]
          },
          "metadata": {
            "tags": []
          },
          "execution_count": 3
        }
      ]
    },
    {
      "cell_type": "code",
      "metadata": {
        "id": "-2gbYBW7Xgo0",
        "colab_type": "code",
        "outputId": "6fca3ea8-3f86-473d-9a68-acea5e822184",
        "colab": {
          "base_uri": "https://localhost:8080/",
          "height": 34
        }
      },
      "source": [
        "moduleB.name"
      ],
      "execution_count": 0,
      "outputs": [
        {
          "output_type": "execute_result",
          "data": {
            "text/plain": [
              "42"
            ]
          },
          "metadata": {
            "tags": []
          },
          "execution_count": 4
        }
      ]
    },
    {
      "cell_type": "code",
      "metadata": {
        "id": "UdWCu6HtYHcf",
        "colab_type": "code",
        "outputId": "bcc3340f-a1cc-4dc1-affa-55f96c09814a",
        "colab": {
          "base_uri": "https://localhost:8080/",
          "height": 34
        }
      },
      "source": [
        "moduleB.func, moduleB.klass"
      ],
      "execution_count": 0,
      "outputs": [
        {
          "output_type": "execute_result",
          "data": {
            "text/plain": [
              "(<function moduleB.func>, moduleB.klass)"
            ]
          },
          "metadata": {
            "tags": []
          },
          "execution_count": 6
        }
      ]
    },
    {
      "cell_type": "code",
      "metadata": {
        "id": "39fNEI6CjGGq",
        "colab_type": "code",
        "outputId": "f606d5e7-6604-4b82-ac62-c6c743afba77",
        "colab": {
          "base_uri": "https://localhost:8080/",
          "height": 34
        }
      },
      "source": [
        "moduleB.__dict__.keys() # add list() in 3.X"
      ],
      "execution_count": 0,
      "outputs": [
        {
          "output_type": "execute_result",
          "data": {
            "text/plain": [
              "dict_keys(['__name__', '__doc__', '__package__', '__loader__', '__spec__', '__file__', '__cached__', '__builtins__', 'sys', 'name', 'func', 'klass'])"
            ]
          },
          "metadata": {
            "tags": []
          },
          "execution_count": 8
        }
      ]
    },
    {
      "cell_type": "markdown",
      "metadata": {
        "id": "YojRnPCzYaj3",
        "colab_type": "text"
      },
      "source": [
        "###Name qualification"
      ]
    },
    {
      "cell_type": "markdown",
      "metadata": {
        "id": "K1tkDTn8YW3b",
        "colab_type": "text"
      },
      "source": [
        "*     Simple variables\n",
        "      -      X searches for name X in current scopes\n",
        "*     Qualification\n",
        "      -      X.Y searches for attribute Y in object X\n",
        "*     Paths\n",
        "      -      X.Y.Z gives a path of objects to be searched\n",
        "*     Generality\n",
        "      -      Qualification works on all objects with attributes: modules, classes, built-in types, etc."
      ]
    },
    {
      "cell_type": "markdown",
      "metadata": {
        "id": "810weuyKYyES",
        "colab_type": "text"
      },
      "source": [
        "![alt text](https://learning-python.com/class/Workbook/unit06_files/image002.gif)"
      ]
    },
    {
      "cell_type": "markdown",
      "metadata": {
        "id": "ICzVH33uZDXf",
        "colab_type": "text"
      },
      "source": [
        "###Import variants"
      ]
    },
    {
      "cell_type": "markdown",
      "metadata": {
        "id": "6XdqY2N-ZBOl",
        "colab_type": "text"
      },
      "source": [
        "*     Module import model\n",
        "      -      module loaded and run on first import or from\n",
        "      -      running a modules code creates its top-level names\n",
        "      -      later import/from fetches already-loaded module\n",
        "*     import and from are assignments\n",
        "      -      import assigns an entire module object to a name\n",
        "      -      from assigns selected module attributes to names"
      ]
    },
    {
      "cell_type": "markdown",
      "metadata": {
        "id": "jiL_TWjfZMYv",
        "colab_type": "text"
      },
      "source": [
        "Operation |\t Interpretation\n",
        "---|---\n",
        "import mod |\tfetch a module as a whole\n",
        "from mod import name |\tfetch a specific name from a module\n",
        "from mod import * |\tfetch all top-level names from a module\n",
        "imp.reload(mod) |\tforce a reload of modules code"
      ]
    },
    {
      "cell_type": "markdown",
      "metadata": {
        "id": "lNeIlFwWcaZF",
        "colab_type": "text"
      },
      "source": [
        "![alt text](https://learning-python.com/class/Workbook/unit06_files/image004.gif)"
      ]
    },
    {
      "cell_type": "markdown",
      "metadata": {
        "id": "Juhyr9ZVjGGs",
        "colab_type": "text"
      },
      "source": [
        "###Reloading modules"
      ]
    },
    {
      "cell_type": "markdown",
      "metadata": {
        "id": "k3k-oPoFcirm",
        "colab_type": "text"
      },
      "source": [
        "*     Imports only load/run module code first time\n",
        "*     Later imports use already-loaded module\n",
        "*     reload function forces module code reload/rerun\n",
        "*     Allows programs to be changed without stopping\n",
        "*     3.X: must first from imp import reload to use!"
      ]
    },
    {
      "cell_type": "markdown",
      "metadata": {
        "id": "8rxi3xKPcksc",
        "colab_type": "text"
      },
      "source": [
        "**General form**\n",
        "\n",
        "```python\n",
        "import module # initial import\n",
        "[use module.attributes]\n",
        " # change module file\n",
        "\n",
        "from imp import reload # required in 3.X\n",
        "reload(module) # get updated exports\n",
        "[use module.attributes]\n",
        "```"
      ]
    },
    {
      "cell_type": "markdown",
      "metadata": {
        "id": "gyceZ4b3jGGv",
        "colab_type": "text"
      },
      "source": [
        "**Usage details**\n",
        "\n",
        "*     A function, not a statement\n",
        "*     Requires a module object, not a name\n",
        "*     Changes a module object in-place:\n",
        "      -      runs module files new code in current namespace\n",
        "      -      assignments replace top-level names with new values\n",
        "      -      impacts all clients that use import to fetch module\n",
        "      -      impacts future from clients (see earlier example)"
      ]
    },
    {
      "cell_type": "markdown",
      "metadata": {
        "id": "1HXxPysfjGGy",
        "colab_type": "text"
      },
      "source": [
        "**Reload example**\n",
        "\n",
        "*     Changes and reload file without stopping Python\n",
        "*     Other common uses: GUI callbacks, embedded code, etc."
      ]
    },
    {
      "cell_type": "code",
      "metadata": {
        "id": "5TsIyvaxjGGy",
        "colab_type": "code",
        "colab": {}
      },
      "source": [
        "! echo \"message = 'First version'\" > changer.py &&\\\n",
        "  echo \"def printer():\" >> changer.py &&\\\n",
        "  echo \"  print(message)\" >> changer.py"
      ],
      "execution_count": 0,
      "outputs": []
    },
    {
      "cell_type": "code",
      "metadata": {
        "id": "tDwqjesqjIJl",
        "colab_type": "code",
        "outputId": "cb544dd8-5e74-4344-9d4c-4570f6e23d66",
        "colab": {
          "base_uri": "https://localhost:8080/",
          "height": 34
        }
      },
      "source": [
        "import changer\n",
        "changer.printer()"
      ],
      "execution_count": 0,
      "outputs": [
        {
          "output_type": "stream",
          "text": [
            "First version\n"
          ],
          "name": "stdout"
        }
      ]
    },
    {
      "cell_type": "code",
      "metadata": {
        "id": "f2V-G_0SjNd1",
        "colab_type": "code",
        "colab": {}
      },
      "source": [
        "! echo \"message = 'After editing'\" > changer.py &&\\\n",
        "  echo \"def printer():\" >> changer.py &&\\\n",
        "  echo \"  print(message)\" >> changer.py"
      ],
      "execution_count": 0,
      "outputs": []
    },
    {
      "cell_type": "code",
      "metadata": {
        "id": "Ohf5eyYnjGG0",
        "colab_type": "code",
        "outputId": "a7f818ec-de22-44c0-c4d4-c787b749351f",
        "colab": {
          "base_uri": "https://localhost:8080/",
          "height": 34
        }
      },
      "source": [
        "import changer\n",
        "changer.printer() # no effect: uses loaded module"
      ],
      "execution_count": 0,
      "outputs": [
        {
          "output_type": "stream",
          "text": [
            "First version\n"
          ],
          "name": "stdout"
        }
      ]
    },
    {
      "cell_type": "code",
      "metadata": {
        "id": "xlXtxaDRjGG2",
        "colab_type": "code",
        "outputId": "0397dc61-9471-432e-90e8-4a51c0195870",
        "colab": {
          "base_uri": "https://localhost:8080/",
          "height": 34
        }
      },
      "source": [
        "import importlib\n",
        "importlib.reload(changer) # forces new code to load/run\n",
        "changer.printer()"
      ],
      "execution_count": 0,
      "outputs": [
        {
          "output_type": "stream",
          "text": [
            "After editing\n"
          ],
          "name": "stdout"
        }
      ]
    },
    {
      "cell_type": "markdown",
      "metadata": {
        "id": "atuubgbojGG4",
        "colab_type": "text"
      },
      "source": [
        "###Package imports"
      ]
    },
    {
      "cell_type": "markdown",
      "metadata": {
        "id": "j6PoLclvj_vc",
        "colab_type": "text"
      },
      "source": [
        "\n",
        "Module package imports name directory paths:\n",
        "*      Module name -> dir.dir.dir in import statements and reloads\n",
        "       -      import dir1.dir2.mod -> loads dir1\\dir2\\mod.py\n",
        "       -      from dir1.dir2.mod import name\n",
        "*      dir1 must be contained by a directory on sys.path (., PYTHONPATH, etc.)\n",
        "*      Each dir must have \\_\\_init\\_\\_.py file, possibly empty (till 3.3: optional)\n",
        "*      \\_\\_init\\_\\_.py gives directorys namespace, can use \\_\\_all\\_\\_ for from*\n",
        "*      Simplifies path, disambiguates same-named modules files"
      ]
    },
    {
      "cell_type": "markdown",
      "metadata": {
        "id": "n_0xBazUsjmt",
        "colab_type": "text"
      },
      "source": [
        "**Example**\n",
        "\n",
        "```\n",
        "For:\n",
        "    dir0\\dir1\\dir2\\mod.py\n",
        "And:\n",
        "    import dir1.dir2.mod\n",
        "``` \n",
        "\n",
        "-      dir0 (container) must be listed on the module search path\n",
        "-      dir1 and dir2 both must contain an \\_\\_init\\_\\_.py file\n",
        "-      dir0 does not require an \\_\\_init\\_\\_.py\n",
        " \n",
        "```\n",
        "dir0\\\n",
        "    dir1\\\n",
        "      __init__.py\n",
        "      dir2\\\n",
        "          __init__.py\n",
        "          mod.py\n",
        "```"
      ]
    },
    {
      "cell_type": "markdown",
      "metadata": {
        "id": "ggBqDXKhuUrC",
        "colab_type": "text"
      },
      "source": [
        "**Why packages?**\n",
        " \n",
        "\n",
        "```\n",
        "root\\\n",
        "    sys1\\\n",
        "        __init__.py (__init__ needed if dir in import)\n",
        "        util.py\n",
        "        main.py (import util finds here)\n",
        "        other.py\n",
        "    sys2\\\n",
        "        __init__.py\n",
        "        util.py\n",
        "        main.py\n",
        "        other.py\n",
        "    sys3\\ (here or elsewhere)\n",
        "        __init__.py (your new code here)\n",
        "        myfile.py (import util depends on path)\n",
        "                  (import sys1.util doesnt)\n",
        "```"
      ]
    },
    {
      "cell_type": "markdown",
      "metadata": {
        "id": "3CkVrh5guX85",
        "colab_type": "text"
      },
      "source": [
        "**Advanced: Relative import syntax (2.5+)**\n",
        "\n",
        "To enable in 2.X (standard in 3.X):\n",
        "```python\n",
        "from __future__ import absolute_import # till 2.7, from stmt only\n",
        "``` \n",
        "\n",
        "In code located in package folder pkg:\n",
        "\n",
        "```python\n",
        "import string # skips pkg: finds the standard library's version\n",
        "\n",
        "from .string import name1, name2 # import names from pkg.string only\n",
        "from . import string # import pkg.string\n",
        "```"
      ]
    },
    {
      "cell_type": "markdown",
      "metadata": {
        "id": "FamhMc2ouFoC",
        "colab_type": "text"
      },
      "source": [
        "**Advanced: Namespace packages (3.3+)**\n",
        "\n",
        "Extension to usual import algorithm: directories without \\_\\_init\\_\\_.py, located anywhere on path, checked for last, and used only if no normal module or package found at level: concatenation of all found becomes a virtual package for deeper imports. Not yet used much in practice."
      ]
    },
    {
      "cell_type": "markdown",
      "metadata": {
        "id": "ZOXiBoGajGG6",
        "colab_type": "text"
      },
      "source": [
        "###Odds and ends"
      ]
    },
    {
      "cell_type": "markdown",
      "metadata": {
        "id": "zkI-aNCiurhy",
        "colab_type": "text"
      },
      "source": [
        "*     Python 2.0+: import module as name\n",
        "      -      Like import module + name = module\n",
        "      -      Also good for packages: import sys1.util as util\n",
        "\n",
        "*     Loading modules by name string\n",
        "      -      exec(import + name)\n",
        "      -      \\_\\_import\\_\\_(name)\n",
        "\n",
        "*     Modules are compiled to byte code on first import\n",
        "      -      .pyc files serve as recompile dependency\n",
        "      -      compilation is automatic and hidden\n",
        "\n",
        "*     Data hiding is a convention\n",
        "      -      Exports all names defined at the top-level of a module\n",
        "      -      Special case: \\_\\_all\\_\\_ list gives names exported by from *\n",
        "      -      Special case: _X names arent imported by a from*\n",
        "\n",
        "*     The \\_\\_name\\_\\_ == \\_\\_main\\_\\_ trick\n",
        "      -      \\_\\_name\\_\\_ auto set to \\_\\_main\\_\\_ only when run as script\n",
        "      -      allows modules to be imported and/or run\n",
        "      -      Simplest unit test protocol, dual usage modes for code"
      ]
    },
    {
      "cell_type": "code",
      "metadata": {
        "id": "vL82Am20jGG6",
        "colab_type": "code",
        "colab": {}
      },
      "source": [
        "! echo \"def func(s):\" > tester.py &&\\\n",
        "  echo \"  print(s)\" >> tester.py &&\\\n",
        "  echo \"if __name__ == '__main__': # only when run\" >> tester.py &&\\\n",
        "  echo \"  func('This is Sparta') # not when imported\" >> tester.py"
      ],
      "execution_count": 0,
      "outputs": []
    },
    {
      "cell_type": "markdown",
      "metadata": {
        "id": "Vw56YyH8jGG8",
        "colab_type": "text"
      },
      "source": [
        "**Usage modes**"
      ]
    },
    {
      "cell_type": "code",
      "metadata": {
        "id": "gKHWs-JOxWCS",
        "colab_type": "code",
        "outputId": "f219a774-693c-4b27-8a07-e441150bc118",
        "colab": {
          "base_uri": "https://localhost:8080/",
          "height": 34
        }
      },
      "source": [
        "import tester\n",
        "tester.func(\"This is Kyiv\")"
      ],
      "execution_count": 0,
      "outputs": [
        {
          "output_type": "stream",
          "text": [
            "This is Kyiv\n"
          ],
          "name": "stdout"
        }
      ]
    },
    {
      "cell_type": "code",
      "metadata": {
        "id": "1r_aEDPkjGG8",
        "colab_type": "code",
        "outputId": "9cc3e5eb-885e-46aa-add9-48e49f57d447",
        "colab": {
          "base_uri": "https://localhost:8080/",
          "height": 34
        }
      },
      "source": [
        "! python -u tester.py"
      ],
      "execution_count": 0,
      "outputs": [
        {
          "output_type": "stream",
          "text": [
            "This is Sparta\n"
          ],
          "name": "stdout"
        }
      ]
    },
    {
      "cell_type": "markdown",
      "metadata": {
        "id": "mLGmwnwljGG9",
        "colab_type": "text"
      },
      "source": [
        "###Module design concepts"
      ]
    },
    {
      "cell_type": "markdown",
      "metadata": {
        "id": "WPAHAppHx65O",
        "colab_type": "text"
      },
      "source": [
        "*     Always in a module: interactive = module \\_\\_main\\_\\_\n",
        "*     Minimize module coupling: global variables\n",
        "*     Maximize module cohesion: unified purpose\n",
        "*     Modules should rarely change other modules variables"
      ]
    },
    {
      "cell_type": "markdown",
      "metadata": {
        "id": "AdBAB7weytAb",
        "colab_type": "text"
      },
      "source": [
        "**Suppose mod.py contains**\n",
        "\n",
        "```python\n",
        "X = 99 # reader sees only this\n",
        "```\n",
        "\n",
        "**always okay to use**\n",
        "\n",
        "```python\n",
        "import mod\n",
        "print(mod.X ** 2)\n",
        "```\n",
        "\n",
        "**almost always a Bad Idea!**\n",
        "\n",
        "```python\n",
        "import mod\n",
        "mod.X = 88\n",
        "```\n",
        "\n",
        " **better: isolates coupling**\n",
        "\n",
        "```python\n",
        "import mod\n",
        "result = mod.func(88)\n",
        "```"
      ]
    },
    {
      "cell_type": "markdown",
      "metadata": {
        "id": "e7oJZMUCzzJ8",
        "colab_type": "text"
      },
      "source": [
        "![alt text](https://learning-python.com/class/Workbook/unit06_files/image006.gif)"
      ]
    },
    {
      "cell_type": "markdown",
      "metadata": {
        "id": "7_rWyCtx_MM5",
        "colab_type": "text"
      },
      "source": [
        "###Modules are objects: metaprograms"
      ]
    },
    {
      "cell_type": "markdown",
      "metadata": {
        "id": "N_xNxpwDjGG_",
        "colab_type": "text"
      },
      "source": [
        "*     A module which lists namespaces of other modules\n",
        "*     Special attributes: module.\\_\\_name\\_\\_, \\_\\_file\\_\\_, \\_\\_dict\\_\\_\n",
        "*     getattr(object, name) fetches attributes by string name\n",
        "*     Add to $PYTHONSTARTUP to preload automatically"
      ]
    },
    {
      "cell_type": "markdown",
      "metadata": {
        "id": "B6zeNcGsCPbO",
        "colab_type": "text"
      },
      "source": [
        "**Example**\n",
        "\n",
        "```python\n",
        "verbose = 1\n",
        "\n",
        "def listing(module):\n",
        "  if verbose:\n",
        "    print(\"-\" * 30)\n",
        "    print(\"name: %s file: %s\" % (module.__name__, module.__file__))\n",
        "    print(\"-\" * 30)\n",
        " \n",
        "\n",
        "  count = 0\n",
        "  for attr in module.__dict__.keys(): # scan names\n",
        "    print(\"%02d) %s\" % (count, attr), end=\",\")\n",
        "    if attr[0:2] == \"__\":\n",
        "      print(\"<built-in name>\") # skip specials\n",
        "    else:\n",
        "      print(getattr(module, attr)) #__dict__[attr]\n",
        "    count = count+1\n",
        " \n",
        "\n",
        "  if verbose:\n",
        "    print(\"-\" * 30)\n",
        "    print(module.__name__, \"has %d names\" % count)\n",
        "    print(\"-\" * 30)\n",
        "\n",
        "if __name__ == \"__main__\":\n",
        "  import mydir\n",
        "  listing(mydir) # self-test code: list myself\n",
        "  ```"
      ]
    },
    {
      "cell_type": "code",
      "metadata": {
        "id": "M8BVMW4YjGHA",
        "colab_type": "code",
        "outputId": "3def7b78-9966-4d82-8b88-86520d32087b",
        "colab": {
          "base_uri": "https://localhost:8080/",
          "height": 68
        }
      },
      "source": [
        "! curl -O https://raw.githubusercontent.com/fbeilstein/machine_learning/master/lecture_1/mydir.py"
      ],
      "execution_count": 0,
      "outputs": [
        {
          "output_type": "stream",
          "text": [
            "  % Total    % Received % Xferd  Average Speed   Time    Time     Time  Current\n",
            "                                 Dload  Upload   Total   Spent    Left  Speed\n",
            "100   621  100   621    0     0   2083      0 --:--:-- --:--:-- --:--:--  2083\n"
          ],
          "name": "stdout"
        }
      ]
    },
    {
      "cell_type": "markdown",
      "metadata": {
        "id": "UKeyBwXfjGHD",
        "colab_type": "text"
      },
      "source": [
        "*     Running the module on itself"
      ]
    },
    {
      "cell_type": "code",
      "metadata": {
        "id": "wv4Nl0C2jGHD",
        "colab_type": "code",
        "outputId": "38da8c95-d968-4ccb-edc7-dc765aa08344",
        "colab": {
          "base_uri": "https://localhost:8080/",
          "height": 289
        }
      },
      "source": [
        "! python -u mydir.py"
      ],
      "execution_count": 0,
      "outputs": [
        {
          "output_type": "stream",
          "text": [
            "------------------------------\n",
            "name: mydir file: /content/mydir.py\n",
            "------------------------------\n",
            "00) __name__,<built-in name>\n",
            "01) __doc__,<built-in name>\n",
            "02) __package__,<built-in name>\n",
            "03) __loader__,<built-in name>\n",
            "04) __spec__,<built-in name>\n",
            "05) __file__,<built-in name>\n",
            "06) __cached__,<built-in name>\n",
            "07) __builtins__,<built-in name>\n",
            "08) verbose,1\n",
            "09) listing,<function listing at 0x7f2fb5db5d90>\n",
            "------------------------------\n",
            "mydir has 10 names\n",
            "------------------------------\n"
          ],
          "name": "stdout"
        }
      ]
    },
    {
      "cell_type": "markdown",
      "metadata": {
        "id": "oCxNMWWhjGHG",
        "colab_type": "text"
      },
      "source": [
        "**Another program about programs**\n",
        "\n",
        "*     exec runs strings of Python code\n",
        "*     os.system runs a system shell command\n",
        "*     \\_\\_dict\\_\\_ attribute is module namespace dictionary\n",
        "*     sys.modules is the loaded-module dictionary"
      ]
    },
    {
      "cell_type": "code",
      "metadata": {
        "id": "lfSha8hojGHI",
        "colab_type": "code",
        "colab": {}
      },
      "source": [
        "def python(cmd):\n",
        "  import importlib\n",
        "  import __main__\n",
        "  namespace = __main__.__dict__\n",
        "  exec(cmd, namespace, namespace)\n",
        "\n",
        "def fix(modname):\n",
        "  import sys # edit,(re)load\n",
        "  if modname in sys.modules.keys():\n",
        "    python('import importlib; importlib.reload(' + modname + ')')\n",
        "  else:\n",
        "    python('import ' + modname)   "
      ],
      "execution_count": 0,
      "outputs": []
    },
    {
      "cell_type": "code",
      "metadata": {
        "id": "Z71AtQTSFwxh",
        "colab_type": "code",
        "colab": {}
      },
      "source": [
        "! echo \"def func():\" > tester.py &&\\\n",
        "  echo \"  print('UNEDITED')\" >> tester.py"
      ],
      "execution_count": 0,
      "outputs": []
    },
    {
      "cell_type": "code",
      "metadata": {
        "id": "bJNRZtdVjGHK",
        "colab_type": "code",
        "outputId": "85af55ce-13f5-4e84-9572-8ce481908e8b",
        "colab": {
          "base_uri": "https://localhost:8080/",
          "height": 34
        }
      },
      "source": [
        "import tester\n",
        "tester.func()"
      ],
      "execution_count": 0,
      "outputs": [
        {
          "output_type": "stream",
          "text": [
            "UNEDITED\n"
          ],
          "name": "stdout"
        }
      ]
    },
    {
      "cell_type": "code",
      "metadata": {
        "id": "_BOzxLRkGHNU",
        "colab_type": "code",
        "colab": {}
      },
      "source": [
        "! echo \"def func():\" > tester.py &&\\\n",
        "  echo \"  print('hello world')\" >> tester.py"
      ],
      "execution_count": 0,
      "outputs": []
    },
    {
      "cell_type": "code",
      "metadata": {
        "id": "42Q1vLXjGLpK",
        "colab_type": "code",
        "outputId": "18671037-1606-40c8-9ec5-7f3cca7da526",
        "colab": {
          "base_uri": "https://localhost:8080/",
          "height": 34
        }
      },
      "source": [
        "import tester\n",
        "tester.func()"
      ],
      "execution_count": 0,
      "outputs": [
        {
          "output_type": "stream",
          "text": [
            "UNEDITED\n"
          ],
          "name": "stdout"
        }
      ]
    },
    {
      "cell_type": "code",
      "metadata": {
        "id": "68OyGCpuGNxu",
        "colab_type": "code",
        "outputId": "633c6e09-680a-4ff7-87a8-01a77ce7b4c9",
        "colab": {
          "base_uri": "https://localhost:8080/",
          "height": 34
        }
      },
      "source": [
        "fix(\"tester\")\n",
        "tester.func()"
      ],
      "execution_count": 0,
      "outputs": [
        {
          "output_type": "stream",
          "text": [
            "hello world\n"
          ],
          "name": "stdout"
        }
      ]
    },
    {
      "cell_type": "markdown",
      "metadata": {
        "id": "W-QVkfjOjGHL",
        "colab_type": "text"
      },
      "source": [
        "###Module gotchas"
      ]
    },
    {
      "cell_type": "code",
      "metadata": {
        "id": "v-TjE3SfjGHM",
        "colab_type": "code",
        "colab": {}
      },
      "source": [
        "# nested1.py\n",
        "\n",
        "! echo \"X = 99\" > nested1.py &&\\\n",
        "  echo \"def printer(): print(X)\" >> nested1.py\n",
        " \n",
        "# nested2.py\n",
        "\n",
        "! echo \"from nested1 import X, printer\" > nested2.py &&\\\n",
        "  echo \"X = 88\" >> nested2.py &&\\\n",
        "  echo \"printer()\" >> nested2.py\n",
        "\n",
        "# nested3.py\n",
        "! echo \"import nested1\" > nested3.py &&\\\n",
        "  echo \"nested1.X = 88\" >> nested3.py &&\\\n",
        "  echo \"nested1.printer()\" >> nested3.py\n"
      ],
      "execution_count": 0,
      "outputs": []
    },
    {
      "cell_type": "code",
      "metadata": {
        "id": "VksnM78xjGHT",
        "colab_type": "code",
        "outputId": "f8894a2b-1794-4172-ea82-3d0c5d60da6f",
        "colab": {
          "base_uri": "https://localhost:8080/",
          "height": 51
        }
      },
      "source": [
        "! python -u nested2.py\n",
        "! python -u nested3.py"
      ],
      "execution_count": 0,
      "outputs": [
        {
          "output_type": "stream",
          "text": [
            "99\n",
            "88\n"
          ],
          "name": "stdout"
        }
      ]
    },
    {
      "cell_type": "markdown",
      "metadata": {
        "id": "E0UYbaUajGHj",
        "colab_type": "text"
      },
      "source": [
        "Statement order matters at top-level\n",
        " \n",
        "*     Solution: put most immediate code at bottom of file"
      ]
    },
    {
      "cell_type": "code",
      "metadata": {
        "id": "cnYqQECojGHj",
        "colab_type": "code",
        "outputId": "e59642f9-d3ac-4b71-dca0-dc6ea3a44015",
        "colab": {
          "base_uri": "https://localhost:8080/",
          "height": 34
        }
      },
      "source": [
        "#func1() # error: \"func1\" not yet assigned\n",
        "\n",
        "def func1():\n",
        "  print(func2()) # okay: \"func2\" looked up later\n",
        "\n",
        "#func1() # error: \"func2\" not yet assihned\n",
        "\n",
        "def func2():\n",
        "  return \"Hello\"\n",
        "\n",
        "func1() # okay: \"func1\" and \"func2\" assigned"
      ],
      "execution_count": 0,
      "outputs": [
        {
          "output_type": "stream",
          "text": [
            "Hello\n"
          ],
          "name": "stdout"
        }
      ]
    },
    {
      "cell_type": "markdown",
      "metadata": {
        "id": "zXCCwgBKjGHl",
        "colab_type": "text"
      },
      "source": [
        "Recursive from import gotchas\n",
        "\n",
        "*     Solution: use import, or from inside functions"
      ]
    },
    {
      "cell_type": "code",
      "metadata": {
        "id": "TXSefycEjGHl",
        "colab_type": "code",
        "colab": {}
      },
      "source": [
        "#file: recur1.py\n",
        "! echo \"X = 1\" > recur1.py &&\\\n",
        "  echo \"import recur2\" >> recur1.py &&\\\n",
        "  echo \"Y = 2\" >> recur1.py\n",
        "\n",
        "#file recur2.py\n",
        "! echo \"from recur1 import X\" > recur2.py &&\\\n",
        "  echo \"from recur1 import Y\" >> recur2.py"
      ],
      "execution_count": 0,
      "outputs": []
    },
    {
      "cell_type": "code",
      "metadata": {
        "id": "9SoZLOwKjGHo",
        "colab_type": "code",
        "outputId": "a1bf4752-7383-431d-f5fb-166a4ba7a8d6",
        "colab": {
          "base_uri": "https://localhost:8080/",
          "height": 391
        }
      },
      "source": [
        "import recur1"
      ],
      "execution_count": 0,
      "outputs": [
        {
          "output_type": "error",
          "ename": "ImportError",
          "evalue": "ignored",
          "traceback": [
            "\u001b[0;31m---------------------------------------------------------------------------\u001b[0m",
            "\u001b[0;31mImportError\u001b[0m                               Traceback (most recent call last)",
            "\u001b[0;32m<ipython-input-9-8167e3ff62ba>\u001b[0m in \u001b[0;36m<module>\u001b[0;34m()\u001b[0m\n\u001b[0;32m----> 1\u001b[0;31m \u001b[0;32mimport\u001b[0m \u001b[0mrecur1\u001b[0m\u001b[0;34m\u001b[0m\u001b[0;34m\u001b[0m\u001b[0m\n\u001b[0m",
            "\u001b[0;32m/content/recur1.py\u001b[0m in \u001b[0;36m<module>\u001b[0;34m()\u001b[0m\n\u001b[1;32m      1\u001b[0m \u001b[0mX\u001b[0m \u001b[0;34m=\u001b[0m \u001b[0;36m1\u001b[0m\u001b[0;34m\u001b[0m\u001b[0;34m\u001b[0m\u001b[0m\n\u001b[0;32m----> 2\u001b[0;31m \u001b[0;32mimport\u001b[0m \u001b[0mrecur2\u001b[0m\u001b[0;34m\u001b[0m\u001b[0;34m\u001b[0m\u001b[0m\n\u001b[0m\u001b[1;32m      3\u001b[0m \u001b[0mY\u001b[0m \u001b[0;34m=\u001b[0m \u001b[0;36m2\u001b[0m\u001b[0;34m\u001b[0m\u001b[0;34m\u001b[0m\u001b[0m\n",
            "\u001b[0;32m/content/recur2.py\u001b[0m in \u001b[0;36m<module>\u001b[0;34m()\u001b[0m\n\u001b[1;32m      1\u001b[0m \u001b[0;32mfrom\u001b[0m \u001b[0mrecur1\u001b[0m \u001b[0;32mimport\u001b[0m \u001b[0mX\u001b[0m\u001b[0;34m\u001b[0m\u001b[0;34m\u001b[0m\u001b[0m\n\u001b[0;32m----> 2\u001b[0;31m \u001b[0;32mfrom\u001b[0m \u001b[0mrecur1\u001b[0m \u001b[0;32mimport\u001b[0m \u001b[0mY\u001b[0m\u001b[0;34m\u001b[0m\u001b[0;34m\u001b[0m\u001b[0m\n\u001b[0m",
            "\u001b[0;31mImportError\u001b[0m: cannot import name 'Y'",
            "",
            "\u001b[0;31m---------------------------------------------------------------------------\u001b[0;32m\nNOTE: If your import is failing due to a missing package, you can\nmanually install dependencies using either !pip or !apt.\n\nTo view examples of installing some common dependencies, click the\n\"Open Examples\" button below.\n\u001b[0;31m---------------------------------------------------------------------------\u001b[0m\n"
          ]
        }
      ]
    },
    {
      "cell_type": "code",
      "metadata": {
        "id": "R9DExJTmTn4X",
        "colab_type": "code",
        "colab": {}
      },
      "source": [
        "import recur2"
      ],
      "execution_count": 0,
      "outputs": []
    },
    {
      "cell_type": "code",
      "metadata": {
        "id": "1IXtkNPYTpqW",
        "colab_type": "code",
        "colab": {}
      },
      "source": [
        "from recur1 import Y # error: \"Y\" not yet assigned"
      ],
      "execution_count": 0,
      "outputs": []
    },
    {
      "cell_type": "markdown",
      "metadata": {
        "id": "2OlyYhbKUIYt",
        "colab_type": "text"
      },
      "source": [
        "**reload may not impact from imports**\n",
        "\n",
        "*     reload overwrites existing module object\n",
        "*     But from names have no link back to module\n",
        "*     Use import to make reloads more effective\n",
        "\n",
        "-> import module module.X reflects module reloads\n",
        "\n",
        "\n",
        "-> from module import X X may not reflect module reloads!\n",
        "\n",
        "**reload isnt applied transitively**\n",
        "\n",
        "*     Use multiple reloads to update subcomponents\n",
        "*     Or use recursion to traverse import dependencies"
      ]
    },
    {
      "cell_type": "markdown",
      "metadata": {
        "id": "WI1fE6_MjGHq",
        "colab_type": "text"
      },
      "source": [
        "###Optional reading: a shared stack module"
      ]
    },
    {
      "cell_type": "markdown",
      "metadata": {
        "id": "N0zrb3sVUpvW",
        "colab_type": "text"
      },
      "source": [
        "*     Manages a local stack, initialized on first import\n",
        "*     All importers share the same stack: single instance\n",
        "*     Stack accessed through exported functions\n",
        "*     Stack can hold any kind of object (heterogeneous)"
      ]
    },
    {
      "cell_type": "code",
      "metadata": {
        "id": "f880A25-ynwY",
        "colab_type": "code",
        "outputId": "988ed7bd-4e12-402a-a263-50e4ef82ec1c",
        "colab": {
          "base_uri": "https://localhost:8080/",
          "height": 476
        }
      },
      "source": [
        "! curl -O https://raw.githubusercontent.com/fbeilstein/machine_learning/master/lecture_1/mystack.py\n",
        "! cat mystack.py"
      ],
      "execution_count": 0,
      "outputs": [
        {
          "output_type": "stream",
          "text": [
            "  % Total    % Received % Xferd  Average Speed   Time    Time     Time  Current\n",
            "                                 Dload  Upload   Total   Spent    Left  Speed\n",
            "100   727  100   727    0     0   2506      0 --:--:-- --:--:-- --:--:--  2515\n",
            "stack = [] # on first import\n",
            "error = 'mystack.error' # local exceptions\n",
            "\n",
            "def push(obj):\n",
            "  global stack # 'global' to change\n",
            "  stack = [obj] + stack # add item to front\n",
            "\n",
            "def pop():\n",
            "  global stack\n",
            "  if not stack:\n",
            "    raise Exception(error, 'stack underflow') # raise local error\n",
            "  top, stack = stack[0], stack[1:] # remove front item\n",
            "  return top\n",
            "\n",
            "def top():\n",
            "  if not stack: # raise local error\n",
            "    raise Exception(error, 'stack underflow') # or let IndexError\n",
            "  return stack[0]\n",
            "\n",
            "def empty(): return not stack # is the stack []?\n",
            "def member(obj): return obj in stack # item in stack?\n",
            "def item(offset): return stack[offset] # index the stack\n",
            "def length(): return len(stack) # number entries\n",
            "def dump(): print('<Stack:%s>' % stack)\n"
          ],
          "name": "stdout"
        }
      ]
    },
    {
      "cell_type": "markdown",
      "metadata": {
        "id": "YJU-A36rjGHr",
        "colab_type": "text"
      },
      "source": [
        "**Using the stack module**"
      ]
    },
    {
      "cell_type": "code",
      "metadata": {
        "id": "g0sHLsEXjGHs",
        "colab_type": "code",
        "outputId": "2c9b0050-914d-45dc-e488-b35d3c07ba26",
        "colab": {
          "base_uri": "https://localhost:8080/",
          "height": 34
        }
      },
      "source": [
        "import mystack\n",
        "for i in range(5): mystack.push(i)\n",
        "\n",
        "mystack.dump()"
      ],
      "execution_count": 0,
      "outputs": [
        {
          "output_type": "stream",
          "text": [
            "<Stack:[4, 3, 2, 1, 0]>\n"
          ],
          "name": "stdout"
        }
      ]
    },
    {
      "cell_type": "markdown",
      "metadata": {
        "id": "xM8muVjOzuYn",
        "colab_type": "text"
      },
      "source": [
        "**Sequence-like tools**"
      ]
    },
    {
      "cell_type": "code",
      "metadata": {
        "id": "vBEpEJb_zpmO",
        "colab_type": "code",
        "outputId": "5c0e1a68-7356-4da8-a98b-045b6cc8363d",
        "colab": {
          "base_uri": "https://localhost:8080/",
          "height": 34
        }
      },
      "source": [
        "mystack.item(0), mystack.item(-1), mystack.length()"
      ],
      "execution_count": 0,
      "outputs": [
        {
          "output_type": "execute_result",
          "data": {
            "text/plain": [
              "(4, 0, 5)"
            ]
          },
          "metadata": {
            "tags": []
          },
          "execution_count": 8
        }
      ]
    },
    {
      "cell_type": "code",
      "metadata": {
        "id": "qmIjcpJZz1OY",
        "colab_type": "code",
        "outputId": "8abe45a3-4940-42c1-d0f1-a5892c7eb9fc",
        "colab": {
          "base_uri": "https://localhost:8080/",
          "height": 34
        }
      },
      "source": [
        "mystack.pop(), mystack.top()"
      ],
      "execution_count": 0,
      "outputs": [
        {
          "output_type": "execute_result",
          "data": {
            "text/plain": [
              "(4, 3)"
            ]
          },
          "metadata": {
            "tags": []
          },
          "execution_count": 9
        }
      ]
    },
    {
      "cell_type": "code",
      "metadata": {
        "id": "obLAyRtDz46m",
        "colab_type": "code",
        "outputId": "f8ea88b3-406e-44a2-fe88-c8072b25cdfa",
        "colab": {
          "base_uri": "https://localhost:8080/",
          "height": 34
        }
      },
      "source": [
        "mystack.member(4), mystack.member(3)"
      ],
      "execution_count": 0,
      "outputs": [
        {
          "output_type": "execute_result",
          "data": {
            "text/plain": [
              "(False, True)"
            ]
          },
          "metadata": {
            "tags": []
          },
          "execution_count": 11
        }
      ]
    },
    {
      "cell_type": "code",
      "metadata": {
        "id": "rvxB6ogjy3je",
        "colab_type": "code",
        "outputId": "019d8488-270a-43eb-b2d9-cf5ef8389fcf",
        "colab": {
          "base_uri": "https://localhost:8080/",
          "height": 34
        }
      },
      "source": [
        "for i in range(mystack.length()): print(mystack.item(i),end=\",\")"
      ],
      "execution_count": 0,
      "outputs": [
        {
          "output_type": "stream",
          "text": [
            "3,2,1,0,"
          ],
          "name": "stdout"
        }
      ]
    },
    {
      "cell_type": "markdown",
      "metadata": {
        "id": "Q8ogfYh_jGHt",
        "colab_type": "text"
      },
      "source": [
        "**Exceptions**"
      ]
    },
    {
      "cell_type": "code",
      "metadata": {
        "id": "LY2Gb863jGHt",
        "colab_type": "code",
        "outputId": "26b04391-f03d-487e-b1ca-13cea8110b83",
        "colab": {
          "base_uri": "https://localhost:8080/",
          "height": 34
        }
      },
      "source": [
        "while not mystack.empty(): x = mystack.pop(),\n",
        "try:\n",
        "  mystack.pop()\n",
        "except Exception as e:\n",
        "  print(e.args)"
      ],
      "execution_count": 0,
      "outputs": [
        {
          "output_type": "stream",
          "text": [
            "('stack1.error', 'stack underflow')\n"
          ],
          "name": "stdout"
        }
      ]
    },
    {
      "cell_type": "markdown",
      "metadata": {
        "id": "uXuqSRiKjGHv",
        "colab_type": "text"
      },
      "source": [
        "**Module clients**"
      ]
    },
    {
      "cell_type": "code",
      "metadata": {
        "id": "PFpLamgyjGHv",
        "colab_type": "code",
        "outputId": "b2bf9c92-fe9c-437b-eb71-ecb7ca026126",
        "colab": {
          "base_uri": "https://localhost:8080/",
          "height": 34
        }
      },
      "source": [
        "from mystack import *\n",
        "push(123) # module-name not needed\n",
        "dump()"
      ],
      "execution_count": 0,
      "outputs": [
        {
          "output_type": "stream",
          "text": [
            "<Stack:[123]>\n"
          ],
          "name": "stdout"
        }
      ]
    },
    {
      "cell_type": "code",
      "metadata": {
        "id": "8XwfhEz2jGHy",
        "colab_type": "code",
        "outputId": "0bc51d6d-910a-4ca7-9c05-b9ea4d1e9473",
        "colab": {
          "base_uri": "https://localhost:8080/",
          "height": 51
        }
      },
      "source": [
        "import mystack\n",
        "mystack.dump()\n",
        "if not mystack.empty(): # qualify by module name\n",
        "  x = mystack.pop()\n",
        "mystack.push(1.23)\n",
        "mystack.dump()"
      ],
      "execution_count": 0,
      "outputs": [
        {
          "output_type": "stream",
          "text": [
            "<Stack:[123]>\n",
            "<Stack:[1.23]>\n"
          ],
          "name": "stdout"
        }
      ]
    },
    {
      "cell_type": "markdown",
      "metadata": {
        "id": "9lV1cXki6eNN",
        "colab_type": "text"
      },
      "source": [
        "##Classes\n"
      ]
    },
    {
      "cell_type": "markdown",
      "metadata": {
        "id": "mu5HZMsR6kfh",
        "colab_type": "text"
      },
      "source": [
        "**Why use classes?**\n",
        " \n",
        "*     Implementing new objects\n",
        "*      Multiple instances\n",
        "*      Customization via inheritance\n",
        "*      Operator overloading\n"
      ]
    },
    {
      "cell_type": "markdown",
      "metadata": {
        "id": "Zqfz0GiS6t9Y",
        "colab_type": "text"
      },
      "source": [
        "**Class topics**\n",
        "\n",
        "*     Class basics\n",
        "*     The class statement\n",
        "*     Class methods\n",
        "*     Attribute inheritance\n",
        "*     Operator overloading\n",
        "*     Name spaces and scopes\n",
        "*     OOP, inheritance, and composition\n",
        "*     Classes and methods are objects\n",
        "*     Odds and ends\n",
        "*     Class gotchas"
      ]
    },
    {
      "cell_type": "markdown",
      "metadata": {
        "id": "qKbfBfW66z3w",
        "colab_type": "text"
      },
      "source": [
        "###OOP: The Big Picture\n"
      ]
    },
    {
      "cell_type": "markdown",
      "metadata": {
        "id": "fRLiT9Ap66sg",
        "colab_type": "text"
      },
      "source": [
        "**How it works**\n",
        "\n",
        "*      All about: object.attr\n",
        "*      Kicks off a search for first attr → inheritance\n",
        "*      Searches trees of linked namespace objects\n",
        "*      Search is DFLR (except in diamonds), per order in class headers\n",
        "*      Class objects: supers and subs\n",
        "*      Instance objects: generated from a class\n",
        "*      Classes can also define expression behavior"
      ]
    },
    {
      "cell_type": "markdown",
      "metadata": {
        "id": "yL9RhA-M7jaA",
        "colab_type": "text"
      },
      "source": [
        "![classes](https://learning-python.com/class/Workbook/unit07_files/image002.gif)\n",
        "\n",
        "```python\n",
        "class C1: # make class objects (ovals)\n",
        "class C2:\n",
        "class C3(C1, C2): # links to superclasses, search order\n",
        " \n",
        "\n",
        "I1 = C3() # make instance objects (rectangles)\n",
        "I2 = C3() # linked to their class\n",
        "I1.x # finds customized version in C3\n",
        "```"
      ]
    },
    {
      "cell_type": "markdown",
      "metadata": {
        "id": "r8U6luQg6eNS",
        "colab_type": "text"
      },
      "source": [
        "**Why OOP?**\n",
        "\n",
        "*      OOP great at code reuse, structure, and encapsulation\n",
        "*      Program by customizing in new levels of hierarchy, not changing\n",
        "*      Extra structure of classes virtually required once programs hit 1K lines (see frigcal)\n",
        "*      Inheritance: basis of specializing, customizing softwarelower in tree means customization\n",
        "*      Example: an employee database app company, departments, employees\n",
        "*      Much more complete than functional paradigm (though the two can often work together)\n"
      ]
    },
    {
      "cell_type": "markdown",
      "metadata": {
        "id": "y-eEQkE075H4",
        "colab_type": "text"
      },
      "source": [
        "###A first look: class basics\n"
      ]
    },
    {
      "cell_type": "markdown",
      "metadata": {
        "id": "KHVTyisW78Wg",
        "colab_type": "text"
      },
      "source": [
        "*   Multiple Instances\n",
        "*   Specialization by inheritance\n",
        "*   Implementing operators"
      ]
    },
    {
      "cell_type": "markdown",
      "metadata": {
        "id": "wocseSQJ8DAo",
        "colab_type": "text"
      },
      "source": [
        "**1. Classes generate multiple instance objects**\n",
        "\n",
        "*      Classes implement new objects: state + behavior\n",
        "*      Calling a class like a function makes a new instance\n",
        "*      Each instance inherits class attributes, and gets its own\n",
        "*      Assignments in class statements make class attributes\n",
        "*      Assignments to self.attr make per-instance attributes"
      ]
    },
    {
      "cell_type": "code",
      "metadata": {
        "id": "Jgub2Nyy9cu1",
        "colab_type": "code",
        "outputId": "7a588234-f206-4a4b-c0b6-e48a2c358889",
        "colab": {
          "base_uri": "https://localhost:8080/",
          "height": 51
        }
      },
      "source": [
        "class FirstClass: # define a class object\n",
        "  def setdata(self, value): # define class methods\n",
        "    self.data = value # self is the instance\n",
        " \n",
        "  def display(self):\n",
        "    print(self.data) # self.data: per instance\n",
        "\n",
        "    \n",
        "x = FirstClass() # make two instances\n",
        "y = FirstClass() # each is a new namespace\n",
        " \n",
        "x.setdata(\"King Arthur\") # call methods: self=x/y\n",
        "y.setdata(3.14159)\n",
        " \n",
        "\n",
        "x.display() # self.data differs in each\n",
        "y.display()"
      ],
      "execution_count": 0,
      "outputs": [
        {
          "output_type": "stream",
          "text": [
            "King Arthur\n",
            "3.14159\n"
          ],
          "name": "stdout"
        }
      ]
    },
    {
      "cell_type": "code",
      "metadata": {
        "id": "hh_owqZ-9mq4",
        "colab_type": "code",
        "outputId": "837f7fd2-3088-4de7-d9e1-fa574b1da951",
        "colab": {
          "base_uri": "https://localhost:8080/",
          "height": 34
        }
      },
      "source": [
        "x.data = \"New value\" # can get/set attributes\n",
        "x.display() # outside the class too"
      ],
      "execution_count": 0,
      "outputs": [
        {
          "output_type": "stream",
          "text": [
            "New value\n"
          ],
          "name": "stdout"
        }
      ]
    },
    {
      "cell_type": "markdown",
      "metadata": {
        "id": "LZSTl1Up9vVg",
        "colab_type": "text"
      },
      "source": [
        "![2classes](https://learning-python.com/class/Workbook/unit07_files/image004.gif)"
      ]
    },
    {
      "cell_type": "markdown",
      "metadata": {
        "id": "CbKEzMOu92vB",
        "colab_type": "text"
      },
      "source": [
        "**The worlds simplest Python class?**"
      ]
    },
    {
      "cell_type": "code",
      "metadata": {
        "id": "p-SfwMdHPh68",
        "colab_type": "code",
        "colab": {}
      },
      "source": [
        "# an empty class, class and instance attrs filled in later\n",
        "class rec: pass # empty namespace object"
      ],
      "execution_count": 0,
      "outputs": []
    },
    {
      "cell_type": "code",
      "metadata": {
        "id": "kJ6-2ZBbPoel",
        "colab_type": "code",
        "outputId": "14c3d6b7-2288-431c-e86b-3bf53d357ef3",
        "colab": {
          "base_uri": "https://localhost:8080/",
          "height": 34
        }
      },
      "source": [
        "rec.name = 'Bob' # just objects with attributes\n",
        "rec.age = 40\n",
        "\n",
        "print(rec.name) # like a struct in C, a record"
      ],
      "execution_count": 0,
      "outputs": [
        {
          "output_type": "stream",
          "text": [
            "Bob\n"
          ],
          "name": "stdout"
        }
      ]
    },
    {
      "cell_type": "code",
      "metadata": {
        "id": "i-FPS7pnPxUr",
        "colab_type": "code",
        "outputId": "686f28ae-8cdb-47d8-caa7-063275cf91c6",
        "colab": {
          "base_uri": "https://localhost:8080/",
          "height": 34
        }
      },
      "source": [
        "x = rec() # instances inherit class names\n",
        "y = rec()\n",
        "x.name, y.name"
      ],
      "execution_count": 0,
      "outputs": [
        {
          "output_type": "execute_result",
          "data": {
            "text/plain": [
              "('Bob', 'Bob')"
            ]
          },
          "metadata": {
            "tags": []
          },
          "execution_count": 3
        }
      ]
    },
    {
      "cell_type": "code",
      "metadata": {
        "id": "pvB4mbYRP1q-",
        "colab_type": "code",
        "outputId": "75330c77-5755-4bea-95bd-d5085b24e852",
        "colab": {
          "base_uri": "https://localhost:8080/",
          "height": 34
        }
      },
      "source": [
        "x.name = 'Sue' # but assignment changes x only\n",
        "rec.name, x.name, y.name"
      ],
      "execution_count": 0,
      "outputs": [
        {
          "output_type": "execute_result",
          "data": {
            "text/plain": [
              "('Bob', 'Sue', 'Bob')"
            ]
          },
          "metadata": {
            "tags": []
          },
          "execution_count": 4
        }
      ]
    },
    {
      "cell_type": "code",
      "metadata": {
        "id": "V6ME1Kq6QA4K",
        "colab_type": "code",
        "outputId": "8f8bcc6e-0125-4e13-a734-3902876cbd98",
        "colab": {
          "base_uri": "https://localhost:8080/",
          "height": 34
        }
      },
      "source": [
        "# really just linked dictionaries\n",
        "rec.__dict__.keys()"
      ],
      "execution_count": 0,
      "outputs": [
        {
          "output_type": "execute_result",
          "data": {
            "text/plain": [
              "dict_keys(['__module__', '__dict__', '__weakref__', '__doc__', 'name', 'age'])"
            ]
          },
          "metadata": {
            "tags": []
          },
          "execution_count": 5
        }
      ]
    },
    {
      "cell_type": "code",
      "metadata": {
        "id": "fEgIN66qQFGM",
        "colab_type": "code",
        "outputId": "0ac528cb-e5b5-4bac-d3b6-64d9b19433e2",
        "colab": {
          "base_uri": "https://localhost:8080/",
          "height": 34
        }
      },
      "source": [
        "x.__dict__.keys()"
      ],
      "execution_count": 0,
      "outputs": [
        {
          "output_type": "execute_result",
          "data": {
            "text/plain": [
              "dict_keys(['name'])"
            ]
          },
          "metadata": {
            "tags": []
          },
          "execution_count": 6
        }
      ]
    },
    {
      "cell_type": "code",
      "metadata": {
        "id": "DfziOU2uQIOF",
        "colab_type": "code",
        "outputId": "da681091-8bf1-49b7-c0a2-00f60b8a6889",
        "colab": {
          "base_uri": "https://localhost:8080/",
          "height": 34
        }
      },
      "source": [
        "y.__dict__.keys()"
      ],
      "execution_count": 0,
      "outputs": [
        {
          "output_type": "execute_result",
          "data": {
            "text/plain": [
              "dict_keys([])"
            ]
          },
          "metadata": {
            "tags": []
          },
          "execution_count": 7
        }
      ]
    },
    {
      "cell_type": "code",
      "metadata": {
        "id": "i9vs9WQ4QLb6",
        "colab_type": "code",
        "outputId": "aadb7f1f-31b4-43ea-97a6-273608089143",
        "colab": {
          "base_uri": "https://localhost:8080/",
          "height": 34
        }
      },
      "source": [
        "x.__class__"
      ],
      "execution_count": 0,
      "outputs": [
        {
          "output_type": "execute_result",
          "data": {
            "text/plain": [
              "__main__.rec"
            ]
          },
          "metadata": {
            "tags": []
          },
          "execution_count": 8
        }
      ]
    },
    {
      "cell_type": "code",
      "metadata": {
        "id": "MXbE-MGuQZi_",
        "colab_type": "code",
        "outputId": "9d4dfa54-9008-45da-f6ed-63cda7516055",
        "colab": {
          "base_uri": "https://localhost:8080/",
          "height": 34
        }
      },
      "source": [
        "# even methods can be created on the fly (but not typical)\n",
        " \n",
        "def upperName(self):\n",
        "  return self.name.upper() # still needs a self\n",
        "\n",
        "rec.method = upperName\n",
        "x.method()"
      ],
      "execution_count": 0,
      "outputs": [
        {
          "output_type": "execute_result",
          "data": {
            "text/plain": [
              "'SUE'"
            ]
          },
          "metadata": {
            "tags": []
          },
          "execution_count": 9
        }
      ]
    },
    {
      "cell_type": "code",
      "metadata": {
        "id": "Xkj9-FF4QcEL",
        "colab_type": "code",
        "outputId": "1c8f67eb-7f87-4ed2-dc35-df447995bc6e",
        "colab": {
          "base_uri": "https://localhost:8080/",
          "height": 34
        }
      },
      "source": [
        "y.method() # run method to process y"
      ],
      "execution_count": 0,
      "outputs": [
        {
          "output_type": "execute_result",
          "data": {
            "text/plain": [
              "'BOB'"
            ]
          },
          "metadata": {
            "tags": []
          },
          "execution_count": 10
        }
      ]
    },
    {
      "cell_type": "code",
      "metadata": {
        "id": "8QtbG84wQdiY",
        "colab_type": "code",
        "outputId": "54e42b25-95aa-4a54-b7b6-7bea3cb27511",
        "colab": {
          "base_uri": "https://localhost:8080/",
          "height": 34
        }
      },
      "source": [
        "rec.method(x) # can call through instance or class"
      ],
      "execution_count": 0,
      "outputs": [
        {
          "output_type": "execute_result",
          "data": {
            "text/plain": [
              "'SUE'"
            ]
          },
          "metadata": {
            "tags": []
          },
          "execution_count": 11
        }
      ]
    },
    {
      "cell_type": "markdown",
      "metadata": {
        "id": "XLLZn7dRQhT0",
        "colab_type": "text"
      },
      "source": [
        "**2. Classes are specialized by inheritance**\n",
        "\n",
        "*      Superclasses listed in parenthesis in class's header\n",
        "*      Classes inherit attributes from their superclasses\n",
        "*      Instances inherit attributes from all accessible classes\n",
        "*      Logic changes made in subclasses, not in-place"
      ]
    },
    {
      "cell_type": "code",
      "metadata": {
        "id": "LIBC00nrXEuY",
        "colab_type": "code",
        "outputId": "6a0d8edd-db75-4263-c4a0-d5ffde9efe0e",
        "colab": {
          "base_uri": "https://localhost:8080/",
          "height": 34
        }
      },
      "source": [
        "class SecondClass(FirstClass): # inherits setdata\n",
        "  def display(self): # changes display\n",
        "    print('Current value = \"%s\"' % self.data)\n",
        "\n",
        "z = SecondClass()\n",
        "z.setdata(42) # setdata found in FirstClass\n",
        "z.display() # finds/calls overridden method"
      ],
      "execution_count": 0,
      "outputs": [
        {
          "output_type": "stream",
          "text": [
            "Current value = \"42\"\n"
          ],
          "name": "stdout"
        }
      ]
    },
    {
      "cell_type": "code",
      "metadata": {
        "id": "yQsQJ_T16eNS",
        "colab_type": "code",
        "outputId": "d045c1db-2d01-4592-b813-9d71db4d01ea",
        "colab": {
          "base_uri": "https://localhost:8080/",
          "height": 34
        }
      },
      "source": [
        "x.display() # x is a FirstClass instance"
      ],
      "execution_count": 0,
      "outputs": [
        {
          "output_type": "stream",
          "text": [
            "King Arthur\n"
          ],
          "name": "stdout"
        }
      ]
    },
    {
      "cell_type": "markdown",
      "metadata": {
        "id": "mofMReahaG8J",
        "colab_type": "text"
      },
      "source": [
        "![second class](https://learning-python.com/class/Workbook/unit07_files/image006.gif)"
      ]
    },
    {
      "cell_type": "markdown",
      "metadata": {
        "id": "7nZBKGAk6eNV",
        "colab_type": "text"
      },
      "source": [
        "**3. Classes can intercept Python operators**\n",
        "\n",
        "*      Methods with names like \"__X__\" are special hooks\n",
        "*      Called automatically when Python evaluates operators\n",
        "*      Classes may override most built-in type operations\n",
        "*      Allows classes to integrate with Python's object model"
      ]
    },
    {
      "cell_type": "code",
      "metadata": {
        "id": "UePR48wJXoqo",
        "colab_type": "code",
        "outputId": "5cd3ba69-93ac-4b78-d10e-68afc87fc260",
        "colab": {
          "base_uri": "https://localhost:8080/",
          "height": 34
        }
      },
      "source": [
        "class ThirdClass(SecondClass): # isa SecondClass\n",
        "  def __init__(self, value): # \"ThirdClass(x)\"\n",
        "    self.data = value\n",
        "\n",
        "  def __add__(self, other): # \"self + other\"\n",
        "    return ThirdClass(self.data + other)\n",
        "\n",
        "  def __mul__(self, other):\n",
        "    self.data = self.data * other # \"self * other\"\n",
        "\n",
        "a = ThirdClass(\"abc\") # new __init__ called\n",
        "a.display() # inherited method"
      ],
      "execution_count": 0,
      "outputs": [
        {
          "output_type": "stream",
          "text": [
            "Current value = \"abc\"\n"
          ],
          "name": "stdout"
        }
      ]
    },
    {
      "cell_type": "code",
      "metadata": {
        "id": "Eb8OdSNFXxpV",
        "colab_type": "code",
        "outputId": "30e53b02-2f27-4f15-f2fb-bf7c3067a3bd",
        "colab": {
          "base_uri": "https://localhost:8080/",
          "height": 34
        }
      },
      "source": [
        "b = a.__add__(\"de\") # new __add__ called\n",
        "b.display()"
      ],
      "execution_count": 0,
      "outputs": [
        {
          "output_type": "stream",
          "text": [
            "Current value = \"abcde\"\n"
          ],
          "name": "stdout"
        }
      ]
    },
    {
      "cell_type": "code",
      "metadata": {
        "id": "FD7kOIgT6eNW",
        "colab_type": "code",
        "outputId": "33170a29-d62b-41c8-bbde-10cf545d118b",
        "colab": {
          "base_uri": "https://localhost:8080/",
          "height": 34
        }
      },
      "source": [
        "a * 3 # new __mul__ called\n",
        "a.display()"
      ],
      "execution_count": 0,
      "outputs": [
        {
          "output_type": "stream",
          "text": [
            "Current value = \"abcabcabc\"\n"
          ],
          "name": "stdout"
        }
      ]
    },
    {
      "cell_type": "markdown",
      "metadata": {
        "id": "6EaAq34Jc-o7",
        "colab_type": "text"
      },
      "source": [
        "![overload](https://learning-python.com/class/Workbook/unit07_files/image008.gif)"
      ]
    },
    {
      "cell_type": "markdown",
      "metadata": {
        "id": "mg6R0EuDYvaO",
        "colab_type": "text"
      },
      "source": [
        "###A closer look: class terminology"
      ]
    },
    {
      "cell_type": "markdown",
      "metadata": {
        "id": "WbFVjE2ydM54",
        "colab_type": "text"
      },
      "source": [
        "  - Dynamic typing and polymorphism are keys to Python\n",
        "  - self and __init__ are key concepts in Python OOP"
      ]
    },
    {
      "cell_type": "markdown",
      "metadata": {
        "id": "_kCEMLLR6eNY",
        "colab_type": "text"
      },
      "source": [
        "*     Class\n",
        "  *      An object (and statement) which defines inherited members and methods\n",
        "*     Instance\n",
        "  *      Objects created from a class, which inherit its attributes; each instance is a new namespace\n",
        "*     Member\n",
        "  *      An attribute of a class or instance object, thats bound to an object\n",
        "*     Method\n",
        "  *      An attribute of a class object, thats bound to a function object (a callable member)\n",
        "*     Self\n",
        "  *      By convention, the name given to the implied instance object in methods\n",
        "*     Inheritance\n",
        "  *      When an instance or class accesses a classs attributes\n",
        "*     Superclass\n",
        "  *      Class or classes another class inherits attributes from\n",
        "*     Subclass\n",
        "  *      Class which inherits attribute names from another class"
      ]
    },
    {
      "cell_type": "markdown",
      "metadata": {
        "id": "9T8hMs0XdhJW",
        "colab_type": "text"
      },
      "source": [
        "###Using the class statement"
      ]
    },
    {
      "cell_type": "markdown",
      "metadata": {
        "id": "Ag_DWqIrdjo4",
        "colab_type": "text"
      },
      "source": [
        "*     Pythons main OOP tool (like C++)\n",
        "*     Superclasses are listed in parenthesis\n",
        "*     Special protocols, operator overloading: __X__\n",
        "*     Multiple inheritance: class X(A, B, C)\n",
        "*     Search = DFLR, except for new-style BF in diamonds"
      ]
    },
    {
      "cell_type": "markdown",
      "metadata": {
        "id": "fdxT8rQydttw",
        "colab_type": "text"
      },
      "source": [
        "**General form**\n",
        "\n",
        "```python\n",
        "class <name>(superclass,): # assign to name\n",
        "  data = value # shared class data\n",
        "  \n",
        "  def method(self,): # methods\n",
        "    self.member = value # per-instance data\n",
        "```"
      ]
    },
    {
      "cell_type": "markdown",
      "metadata": {
        "id": "nUYgrLAa6eNc",
        "colab_type": "text"
      },
      "source": [
        "**Example**\n",
        "\n",
        "*      class introduces a new local scope\n",
        "*      Assignments in class create class object attributes\n",
        "*      self.name = X creates/changes instance attribute"
      ]
    },
    {
      "cell_type": "code",
      "metadata": {
        "id": "REqvul0m6eNd",
        "colab_type": "code",
        "outputId": "49d4ff69-caf6-41c8-bb11-ddd819f0563c",
        "colab": {
          "base_uri": "https://localhost:8080/",
          "height": 51
        }
      },
      "source": [
        "class Subclass(ThirdClass): # define subclass\n",
        "  data = 'spam' # assign class attr\n",
        "\n",
        "  def __init__(self, value): # assign class attr\n",
        "    self.data = value # assign instance attr\n",
        "\n",
        "  def display(self):\n",
        "    print(self.data, Subclass.data) # instance, class\n",
        "\n",
        "    \n",
        "x, y = Subclass(1), Subclass(2)\n",
        "x.display(); y.display()"
      ],
      "execution_count": 0,
      "outputs": [
        {
          "output_type": "stream",
          "text": [
            "1 spam\n",
            "2 spam\n"
          ],
          "name": "stdout"
        }
      ]
    },
    {
      "cell_type": "markdown",
      "metadata": {
        "id": "YIKYt-UsItz_",
        "colab_type": "text"
      },
      "source": [
        "###Using class methods"
      ]
    },
    {
      "cell_type": "markdown",
      "metadata": {
        "id": "wwbeMbun6eNf",
        "colab_type": "text"
      },
      "source": [
        "*     class statement creates and assigns a class object\n",
        "*     Calling a class object generates an instance object\n",
        "*     Class methods provide behavior for instance objects\n",
        "*     Methods are nested def functions, with a self\n",
        "*     self is passed the implied instance object\n",
        "*     Methods are all public and virtual in C++ terms"
      ]
    },
    {
      "cell_type": "markdown",
      "metadata": {
        "id": "_dLkz2v5jMD0",
        "colab_type": "text"
      },
      "source": [
        "![subclass](https://learning-python.com/class/Workbook/unit07_files/image010.gif)"
      ]
    },
    {
      "cell_type": "markdown",
      "metadata": {
        "id": "P3vrEeVXjT5B",
        "colab_type": "text"
      },
      "source": [
        "**Example**"
      ]
    },
    {
      "cell_type": "code",
      "metadata": {
        "id": "DwvCKram6eNg",
        "colab_type": "code",
        "outputId": "4af1edfe-1251-44d1-f0a3-dea0496179fc",
        "colab": {
          "base_uri": "https://localhost:8080/",
          "height": 34
        }
      },
      "source": [
        "class NextClass: # define class\n",
        "  def printer(self, text): # define method\n",
        "    print(text)\n",
        "\n",
        "x = NextClass() # make instance\n",
        "x.printer('Hello world!') # call its method"
      ],
      "execution_count": 0,
      "outputs": [
        {
          "output_type": "stream",
          "text": [
            "Hello world!\n"
          ],
          "name": "stdout"
        }
      ]
    },
    {
      "cell_type": "code",
      "metadata": {
        "id": "93Wrpqg-jly0",
        "colab_type": "code",
        "outputId": "673532db-d8cc-4553-b108-12051215b509",
        "colab": {
          "base_uri": "https://localhost:8080/",
          "height": 34
        }
      },
      "source": [
        "NextClass.printer(x, 'Hello!') # class method"
      ],
      "execution_count": 0,
      "outputs": [
        {
          "output_type": "stream",
          "text": [
            "Hello!\n"
          ],
          "name": "stdout"
        }
      ]
    },
    {
      "cell_type": "markdown",
      "metadata": {
        "id": "NvOg9axJ6eNi",
        "colab_type": "text"
      },
      "source": [
        "**Commonly used for calling superclass constructors**\n",
        "\n",
        "```python\n",
        "class Super:\n",
        "  def __init__(self, x):\n",
        "    default code\n",
        "\n",
        "class Sub(Super):\n",
        "  def __init__(self, x, y):\n",
        "    Super.__init__(self, x) # run superclass init\n",
        "    custom code # do my init actions\n",
        "\n",
        "I = Sub(1, 2)\n",
        "\n",
        "# See also: super() built-in for generic superclass access\n",
        "# But this call has major issues in multiple-inheritance trees\n",
        "```"
      ]
    },
    {
      "cell_type": "markdown",
      "metadata": {
        "id": "CJ5rLovP6eNl",
        "colab_type": "text"
      },
      "source": [
        "###Customization via inheritance"
      ]
    },
    {
      "cell_type": "markdown",
      "metadata": {
        "id": "2VN84ytLkUrR",
        "colab_type": "text"
      },
      "source": [
        "*     Inheritance uses attribute definition tree (namespaces)\n",
        "*     object.attr searches up namespace tree for first attr\n",
        "*     Lower definitions in the tree override higher ones"
      ]
    },
    {
      "cell_type": "markdown",
      "metadata": {
        "id": "ZEDZzlNUkcAe",
        "colab_type": "text"
      },
      "source": [
        "**Attribute tree construction:**\n",
        " \n",
        "1.    Instance → assignments to self attributes\n",
        "2.    Class → statements (assignments) in class statements\n",
        "3.    Superclasses → classes listed in parenthesis in header"
      ]
    },
    {
      "cell_type": "markdown",
      "metadata": {
        "id": "51-Tx1z2klr_",
        "colab_type": "text"
      },
      "source": [
        "![iheritance](https://learning-python.com/class/Workbook/unit07_files/image012.gif)"
      ]
    },
    {
      "cell_type": "markdown",
      "metadata": {
        "id": "553L1RLTkkuI",
        "colab_type": "text"
      },
      "source": [
        "###Specializing inherited methods"
      ]
    },
    {
      "cell_type": "markdown",
      "metadata": {
        "id": "GlJQ3gNbkwEA",
        "colab_type": "text"
      },
      "source": [
        "*     Inheritance finds names in subclass before superclass\n",
        "*     Subclasses may inherit, replace, extend, or provide\n",
        "*     Direct superclass method calls: Class.method(self,)"
      ]
    },
    {
      "cell_type": "code",
      "metadata": {
        "id": "3B81a5qd6eNm",
        "colab_type": "code",
        "outputId": "3c9533ff-de7d-49c4-b404-5b93eab83de2",
        "colab": {
          "base_uri": "https://localhost:8080/",
          "height": 34
        }
      },
      "source": [
        "class Super:\n",
        "  def method(self):\n",
        "    print('in Super.method')\n",
        "\n",
        "\n",
        "class Sub(Super):\n",
        "  def method(self):\n",
        "    print('starting Sub.method')\n",
        "    Super.method(self)\n",
        "    print('ending Sub.method')\n",
        "\n",
        "\n",
        "x = Super()\n",
        "x.method()"
      ],
      "execution_count": 0,
      "outputs": [
        {
          "output_type": "stream",
          "text": [
            "in Super.method\n"
          ],
          "name": "stdout"
        }
      ]
    },
    {
      "cell_type": "code",
      "metadata": {
        "id": "XPT7qZdalYc-",
        "colab_type": "code",
        "outputId": "c3af2384-a244-4fbe-ddae-4eb6b39e6647",
        "colab": {
          "base_uri": "https://localhost:8080/",
          "height": 68
        }
      },
      "source": [
        "x = Sub()\n",
        "x.method()"
      ],
      "execution_count": 0,
      "outputs": [
        {
          "output_type": "stream",
          "text": [
            "starting Sub.method\n",
            "in Super.method\n",
            "ending Sub.method\n"
          ],
          "name": "stdout"
        }
      ]
    },
    {
      "cell_type": "markdown",
      "metadata": {
        "id": "1JH2AbGm6eNq",
        "colab_type": "text"
      },
      "source": [
        "![inh](https://learning-python.com/class/Workbook/unit07_files/image014.gif)"
      ]
    },
    {
      "cell_type": "code",
      "metadata": {
        "id": "NJDAS1aH6eNr",
        "colab_type": "code",
        "outputId": "dbda630a-316d-430f-8221-0f480cccb064",
        "colab": {
          "base_uri": "https://localhost:8080/",
          "height": 357
        }
      },
      "source": [
        "class Super:\n",
        "  def method(self):\n",
        "    print('in Super.method') # default\n",
        "    \n",
        "  def delegate(self):\n",
        "    self.action() # expected\n",
        "\n",
        "\n",
        "class Inheritor(Super):\n",
        "  pass\n",
        "\n",
        "\n",
        "class Replacer(Super):\n",
        "  def method(self):\n",
        "    print('in Replacer.method')\n",
        "\n",
        "\n",
        "class Extender(Super):\n",
        "  def method(self):\n",
        "    print('starting Extender.method')\n",
        "    Super.method(self)\n",
        "    print('ending Extender.method')\n",
        "\n",
        "\n",
        "class Provider(Super):\n",
        "  def action(self):\n",
        "    print('in Provider.action')\n",
        "\n",
        "\n",
        "for klass in (Inheritor, Replacer, Extender):\n",
        "  print('\\n' + klass.__name__ + '')\n",
        "  klass().method()\n",
        "  print('\\nProvider')\n",
        "  Provider().delegate()"
      ],
      "execution_count": 0,
      "outputs": [
        {
          "output_type": "stream",
          "text": [
            "\n",
            "Inheritor\n",
            "in Super.method\n",
            "\n",
            "Provider\n",
            "in Provider.action\n",
            "\n",
            "Replacer\n",
            "in Replacer.method\n",
            "\n",
            "Provider\n",
            "in Provider.action\n",
            "\n",
            "Extender\n",
            "starting Extender.method\n",
            "in Super.method\n",
            "ending Extender.method\n",
            "\n",
            "Provider\n",
            "in Provider.action\n"
          ],
          "name": "stdout"
        }
      ]
    },
    {
      "cell_type": "markdown",
      "metadata": {
        "id": "sYrwnSNq6eNy",
        "colab_type": "text"
      },
      "source": [
        "###Operator overloading in classes"
      ]
    },
    {
      "cell_type": "markdown",
      "metadata": {
        "id": "9_HyRtkemt86",
        "colab_type": "text"
      },
      "source": [
        "*     Lets classes intercept normal Python operations\n",
        "*     Can overload all Python expression operators\n",
        "*     Can overload object operations: print, call, qualify,\n",
        "*     Makes class instances more like built-in types\n",
        "*     Via providing specially-named class methods"
      ]
    },
    {
      "cell_type": "code",
      "metadata": {
        "id": "sGvR4BIO6eNz",
        "colab_type": "code",
        "outputId": "3f00298c-cbcb-404e-c48a-d80fa9f52866",
        "colab": {
          "base_uri": "https://localhost:8080/",
          "height": 34
        }
      },
      "source": [
        "class Number:\n",
        "  def __init__(self, start): # on Number()\n",
        "    self.data = start\n",
        "    \n",
        "  def __add__(self, other): # on x + other\n",
        "    return Number(self.data + other)\n",
        "  \n",
        "\n",
        "X = Number(4)\n",
        "Y = X + 2\n",
        "Y.data  "
      ],
      "execution_count": 0,
      "outputs": [
        {
          "output_type": "execute_result",
          "data": {
            "text/plain": [
              "6"
            ]
          },
          "metadata": {
            "tags": []
          },
          "execution_count": 62
        }
      ]
    },
    {
      "cell_type": "markdown",
      "metadata": {
        "id": "lxab6FTTnBu8",
        "colab_type": "text"
      },
      "source": [
        "![ovl](https://learning-python.com/class/Workbook/unit07_files/image016.gif)"
      ]
    },
    {
      "cell_type": "markdown",
      "metadata": {
        "id": "1G9Kzcov6eN6",
        "colab_type": "text"
      },
      "source": [
        "**Common operator overloading methods**\n",
        " \n",
        "*     Special method names have 2 _ before and after\n",
        "*     See Python manuals or reference books for the full set"
      ]
    },
    {
      "cell_type": "markdown",
      "metadata": {
        "id": "ueurGRqvsPQ0",
        "colab_type": "text"
      },
      "source": [
        "Method | Overloads | Called for\n",
        "---|---|---\n",
        "__init__ | Constructor | object creation: X()\n",
        "__del__ | Destructor | object reclamation\n",
        "__add__ | operator + | X + Y\n",
        "__or__ | operator \\| | X \\| Y\n",
        "__repr__ | Printing | print X, `X`\n",
        "__call__ | function calls | X()\n",
        "__getattr__ | Qualification | X.undefined\n",
        "__getitem__ | Indexing | X[key], iteration, in\n",
        "__setitem__ | Qualification | X[key] = value\n",
        "__len__ | Length | len(X), truth tests\n",
        "__cmp__ | Comparison, 2.X | X == Y, X < Y\n",
        "__radd__ | operator + | non-instance + X\n",
        "__iter__ | iteration | for item in X, I=iter(X)\n",
        "__next__ | iteration | next(I)\n"
      ]
    },
    {
      "cell_type": "markdown",
      "metadata": {
        "id": "XKS_dbhzs3rt",
        "colab_type": "text"
      },
      "source": [
        " **Examples**\n",
        " \n",
        "*     call: a function interface, with memory"
      ]
    },
    {
      "cell_type": "code",
      "metadata": {
        "id": "EqEaOlw26eN7",
        "colab_type": "code",
        "outputId": "672a7597-1c1b-4ce6-ce5c-23ad7f59b1a1",
        "colab": {
          "base_uri": "https://localhost:8080/",
          "height": 51
        }
      },
      "source": [
        "class Callback:\n",
        "  def __init__(self, color): # state information\n",
        "    self.color = color\n",
        "\n",
        "  def __call__(self, *args): # support calls\n",
        "    print('turn', self.color)\n",
        "\n",
        "      \n",
        "cb1 = Callback('blue') # remember blue\n",
        "cb2 = Callback('green')\n",
        "\n",
        "cb1() # on events\n",
        "cb2()"
      ],
      "execution_count": 0,
      "outputs": [
        {
          "output_type": "stream",
          "text": [
            "turn blue\n",
            "turn green\n"
          ],
          "name": "stdout"
        }
      ]
    },
    {
      "cell_type": "code",
      "metadata": {
        "id": "LlkNi8fWwHVa",
        "colab_type": "code",
        "outputId": "1c394bc8-2d75-4b6e-ca33-9d402dbab69d",
        "colab": {
          "base_uri": "https://localhost:8080/",
          "height": 34
        }
      },
      "source": [
        "cb3 = (lambda color='red': 'turn ' + color) # or: defaults\n",
        "cb3()"
      ],
      "execution_count": 0,
      "outputs": [
        {
          "output_type": "execute_result",
          "data": {
            "text/plain": [
              "'turn red'"
            ]
          },
          "metadata": {
            "tags": []
          },
          "execution_count": 7
        }
      ]
    },
    {
      "cell_type": "markdown",
      "metadata": {
        "id": "xlO2Axwy6eN9",
        "colab_type": "text"
      },
      "source": [
        "*     getitem intercepts all index references"
      ]
    },
    {
      "cell_type": "code",
      "metadata": {
        "id": "TRD8rweg6eN-",
        "colab_type": "code",
        "outputId": "175b9cba-db75-4658-98c5-eb019e9591bf",
        "colab": {
          "base_uri": "https://localhost:8080/",
          "height": 102
        }
      },
      "source": [
        "class indexer:\n",
        "  def __getitem__(self, index):\n",
        "    return index ** 2\n",
        "\n",
        "X = indexer()\n",
        "for i in range(5):\n",
        "  print(X[i]) # __getitem__"
      ],
      "execution_count": 0,
      "outputs": [
        {
          "output_type": "stream",
          "text": [
            "0\n",
            "1\n",
            "4\n",
            "9\n",
            "16\n"
          ],
          "name": "stdout"
        }
      ]
    },
    {
      "cell_type": "markdown",
      "metadata": {
        "id": "BAqhvydK6eOB",
        "colab_type": "text"
      },
      "source": [
        "*     getattr catches undefined attribute references"
      ]
    },
    {
      "cell_type": "code",
      "metadata": {
        "id": "pCsnos3c6eOC",
        "colab_type": "code",
        "outputId": "48ec803c-9b0e-4141-e619-b42619fc2580",
        "colab": {
          "base_uri": "https://localhost:8080/",
          "height": 34
        }
      },
      "source": [
        "class empty:\n",
        "  def __getattr__(self, attrname):\n",
        "    return attrname + ' not supported!'\n",
        "\n",
        "X = empty()\n",
        "X.age # __getattr__"
      ],
      "execution_count": 0,
      "outputs": [
        {
          "output_type": "execute_result",
          "data": {
            "text/plain": [
              "'age not supported!'"
            ]
          },
          "metadata": {
            "tags": []
          },
          "execution_count": 9
        }
      ]
    },
    {
      "cell_type": "markdown",
      "metadata": {
        "id": "jS98tGhD6eOG",
        "colab_type": "text"
      },
      "source": [
        "*     init called on instance creation\n",
        "*     add intercepts + expressions\n",
        "*     repr returns a string when called by print"
      ]
    },
    {
      "cell_type": "code",
      "metadata": {
        "id": "02OINAO06eOI",
        "colab_type": "code",
        "outputId": "ca5ac134-1380-4572-c57d-030bbb908413",
        "colab": {
          "base_uri": "https://localhost:8080/",
          "height": 34
        }
      },
      "source": [
        "class adder:\n",
        "  def __init__(self, value=0):\n",
        "    self.data = value # init data\n",
        "\n",
        "  def __add__(self, other):\n",
        "    self.data = self.data + other # add other\n",
        "\n",
        "  def __repr__(self):\n",
        "    return str(self.data) # to string\n",
        "\n",
        "X = adder(1) # __init__\n",
        "X + 2 # __add__\n",
        "X + 2 # __add__\n",
        "X # __repr__"
      ],
      "execution_count": 0,
      "outputs": [
        {
          "output_type": "execute_result",
          "data": {
            "text/plain": [
              "5"
            ]
          },
          "metadata": {
            "tags": []
          },
          "execution_count": 15
        }
      ]
    },
    {
      "cell_type": "markdown",
      "metadata": {
        "id": "SxQb0hUB6eOK",
        "colab_type": "text"
      },
      "source": [
        "*     iter called on start of iterations, auto or manual\n",
        "*     next called to fetch each item along the way"
      ]
    },
    {
      "cell_type": "code",
      "metadata": {
        "id": "deV3fwZD6eOL",
        "colab_type": "code",
        "outputId": "09d5cbdf-9abf-4691-f258-317c6eb75b12",
        "colab": {
          "base_uri": "https://localhost:8080/",
          "height": 85
        }
      },
      "source": [
        "class squares:\n",
        "  def __init__(self, start): # on squares()\n",
        "    self.count = start\n",
        "    \n",
        "  def __iter__(self): # on iter()\n",
        "    return self # or other object with state\n",
        "  \n",
        "  def __next__(self): # on next()\n",
        "    if self.count == 1:\n",
        "      raise StopIteration # end iteration\n",
        "    else:\n",
        "      self.count -= 1\n",
        "    return self.count ** 2\n",
        "\n",
        "  \n",
        "for i in squares(5): # automatic iterations\n",
        "  print(i)"
      ],
      "execution_count": 0,
      "outputs": [
        {
          "output_type": "stream",
          "text": [
            "16\n",
            "9\n",
            "4\n",
            "1\n"
          ],
          "name": "stdout"
        }
      ]
    },
    {
      "cell_type": "code",
      "metadata": {
        "id": "g9JUPHTVPSxp",
        "colab_type": "code",
        "outputId": "1d0445be-aed2-4cfb-ce33-1351a2e2dd96",
        "colab": {
          "base_uri": "https://localhost:8080/",
          "height": 34
        }
      },
      "source": [
        "S = squares(10) # manual iterations\n",
        "I = iter(S) # iter() optional if returns self\n",
        "next(I)"
      ],
      "execution_count": 0,
      "outputs": [
        {
          "output_type": "execute_result",
          "data": {
            "text/plain": [
              "81"
            ]
          },
          "metadata": {
            "tags": []
          },
          "execution_count": 17
        }
      ]
    },
    {
      "cell_type": "code",
      "metadata": {
        "id": "7YBHYMPpPlCU",
        "colab_type": "code",
        "outputId": "b1f6e506-7b7c-4da7-8b2d-9addcd10683a",
        "colab": {
          "base_uri": "https://localhost:8080/",
          "height": 34
        }
      },
      "source": [
        "next(I)"
      ],
      "execution_count": 0,
      "outputs": [
        {
          "output_type": "execute_result",
          "data": {
            "text/plain": [
              "64"
            ]
          },
          "metadata": {
            "tags": []
          },
          "execution_count": 18
        }
      ]
    },
    {
      "cell_type": "code",
      "metadata": {
        "id": "CFb7AyqYPpS3",
        "colab_type": "code",
        "outputId": "b91e6ec3-0ee5-4046-bec8-cadd12f4154f",
        "colab": {
          "base_uri": "https://localhost:8080/",
          "height": 34
        }
      },
      "source": [
        "list(I)"
      ],
      "execution_count": 0,
      "outputs": [
        {
          "output_type": "execute_result",
          "data": {
            "text/plain": [
              "[49, 36, 25, 16, 9, 4, 1]"
            ]
          },
          "metadata": {
            "tags": []
          },
          "execution_count": 19
        }
      ]
    },
    {
      "cell_type": "markdown",
      "metadata": {
        "id": "43APBT846eOO",
        "colab_type": "text"
      },
      "source": [
        "*     Attribute access management\n",
        "      - setattr: partial attribute privacy for Python classes\n",
        "      - getattr: full get/set attribute privacy for Python classes"
      ]
    },
    {
      "cell_type": "markdown",
      "metadata": {
        "id": "LwgEh8TFP7jj",
        "colab_type": "text"
      },
      "source": [
        "###Namespace rules: the whole story"
      ]
    },
    {
      "cell_type": "markdown",
      "metadata": {
        "id": "PiuRC7J-P_v5",
        "colab_type": "text"
      },
      "source": [
        "*     Unqualified names (X) deal with lexical scopes\n",
        "*     Qualified names (O.X) use object namespaces\n",
        "*     Scopes initialize object namespaces: modules, classes"
      ]
    },
    {
      "cell_type": "markdown",
      "metadata": {
        "id": "dCGqVvV6QFSD",
        "colab_type": "text"
      },
      "source": [
        "**The Zen of Python Namespaces**"
      ]
    },
    {
      "cell_type": "code",
      "metadata": {
        "id": "gbC9Y-t16eOP",
        "colab_type": "code",
        "colab": {}
      },
      "source": [
        "# all 5 Xs are different variables\n",
        "X = 1 # global\n",
        " \n",
        "def f():\n",
        "  X = 2 # local\n",
        "\n",
        "class C:\n",
        "  X = 3 # class\n",
        "  \n",
        "  def m(self):\n",
        "    X = 4 # local\n",
        "    self.X = 5 # instance"
      ],
      "execution_count": 0,
      "outputs": []
    },
    {
      "cell_type": "markdown",
      "metadata": {
        "id": "uXRewiK0RX2p",
        "colab_type": "text"
      },
      "source": [
        "**Unqualified names: global unless assigned**\n",
        "\n",
        "*     Assignment: X = value\n",
        "       -      Makes names local: creates or changes name in the current local scope, unless declared global\n",
        " \n",
        "\n",
        "*     Reference: X\n",
        "        -      Looks for names in the current local scope, then the current global scope, then the outer built-in scope\n",
        " \n",
        "\n",
        " "
      ]
    },
    {
      "cell_type": "markdown",
      "metadata": {
        "id": "jaLV-8ASRN4l",
        "colab_type": "text"
      },
      "source": [
        "**Qualified names: object name-spaces**\n",
        "\n",
        "*     Assignment: X.name = value\n",
        "      -      Creates or alters the attribute name in the namespace of the object being qualified\n",
        "*     Reference: X.name\n",
        "        -      Searches for the attribute name in the object, and then all accessible classes above it (none for modules)\n",
        " \n"
      ]
    },
    {
      "cell_type": "markdown",
      "metadata": {
        "id": "-1DACLHqRKmk",
        "colab_type": "text"
      },
      "source": [
        "**Namespace dictionaries**\n",
        " \n",
        "*     Object name-spaces: built-in __dict__ attributes\n",
        "*     Qualification == indexing a name-space dictionary\n",
        "*      To get a name from a module M:\n",
        "   - ```python   \n",
        "   M.name\n",
        "   ```\n",
        "   - ```python   \n",
        "   M.__dict__['name']\n",
        "   ```\n",
        "   - ```python   \n",
        "   sys.modules['M'].name\n",
        "   ```\n",
        "   - ```python   \n",
        "   sys.modules['M'].__dict__['name']\n",
        "   ```\n",
        "   - ```python   \n",
        "   sys.__dict__['modules']['M'].__dict__['name']\n",
        "   ```\n",
        "*  Attribute inheritance == searching dictionaries"
      ]
    },
    {
      "cell_type": "code",
      "metadata": {
        "id": "_4ulJrK36eOS",
        "colab_type": "code",
        "outputId": "f73483b4-75a4-4acb-8568-c836452b7dbe",
        "colab": {
          "base_uri": "https://localhost:8080/",
          "height": 34
        }
      },
      "source": [
        "class super:\n",
        "  def hello(self):\n",
        "    self.data = 'spam' # in self.__dict__\n",
        "\n",
        "class sub(super):\n",
        "  def howdy(self): pass\n",
        "\n",
        "X = sub()\n",
        "X.__dict__ # a new name-space/dict"
      ],
      "execution_count": 0,
      "outputs": [
        {
          "output_type": "execute_result",
          "data": {
            "text/plain": [
              "{}"
            ]
          },
          "metadata": {
            "tags": []
          },
          "execution_count": 21
        }
      ]
    },
    {
      "cell_type": "code",
      "metadata": {
        "id": "SvKFAN2EXVJA",
        "colab_type": "code",
        "outputId": "4e38977b-1d98-4cdc-a705-16b5700a95ef",
        "colab": {
          "base_uri": "https://localhost:8080/",
          "height": 34
        }
      },
      "source": [
        "X.hola = 42 # add member to X object\n",
        "X.__dict__"
      ],
      "execution_count": 0,
      "outputs": [
        {
          "output_type": "execute_result",
          "data": {
            "text/plain": [
              "{'hola': 42}"
            ]
          },
          "metadata": {
            "tags": []
          },
          "execution_count": 23
        }
      ]
    },
    {
      "cell_type": "code",
      "metadata": {
        "id": "lFqWigFtXbw3",
        "colab_type": "code",
        "outputId": "b013ec74-d498-413c-f987-c3044b1dc58e",
        "colab": {
          "base_uri": "https://localhost:8080/",
          "height": 68
        }
      },
      "source": [
        "sub.__dict__"
      ],
      "execution_count": 0,
      "outputs": [
        {
          "output_type": "execute_result",
          "data": {
            "text/plain": [
              "mappingproxy({'__doc__': None,\n",
              "              '__module__': '__main__',\n",
              "              'howdy': <function __main__.sub.howdy>})"
            ]
          },
          "metadata": {
            "tags": []
          },
          "execution_count": 24
        }
      ]
    },
    {
      "cell_type": "code",
      "metadata": {
        "id": "cPBSlGcCXf3H",
        "colab_type": "code",
        "outputId": "a43559d1-04fa-4327-8f87-006f100ca1a2",
        "colab": {
          "base_uri": "https://localhost:8080/",
          "height": 102
        }
      },
      "source": [
        "super.__dict__"
      ],
      "execution_count": 0,
      "outputs": [
        {
          "output_type": "execute_result",
          "data": {
            "text/plain": [
              "mappingproxy({'__dict__': <attribute '__dict__' of 'super' objects>,\n",
              "              '__doc__': None,\n",
              "              '__module__': '__main__',\n",
              "              '__weakref__': <attribute '__weakref__' of 'super' objects>,\n",
              "              'hello': <function __main__.super.hello>})"
            ]
          },
          "metadata": {
            "tags": []
          },
          "execution_count": 25
        }
      ]
    },
    {
      "cell_type": "code",
      "metadata": {
        "id": "rcfJxDC_XkGB",
        "colab_type": "code",
        "outputId": "54c909b0-f9e6-4b61-ded2-808a4453bb8b",
        "colab": {
          "base_uri": "https://localhost:8080/",
          "height": 34
        }
      },
      "source": [
        "X.hello()\n",
        "X.__dict__"
      ],
      "execution_count": 0,
      "outputs": [
        {
          "output_type": "execute_result",
          "data": {
            "text/plain": [
              "{'data': 'spam', 'hola': 42}"
            ]
          },
          "metadata": {
            "tags": []
          },
          "execution_count": 26
        }
      ]
    },
    {
      "cell_type": "markdown",
      "metadata": {
        "id": "4JjZWWl-6eOU",
        "colab_type": "text"
      },
      "source": [
        "###OOP and inheritance"
      ]
    },
    {
      "cell_type": "markdown",
      "metadata": {
        "id": "jNZxk9-4Xwhx",
        "colab_type": "text"
      },
      "source": [
        "*     Inheritance based on attribute qualification\n",
        "*     In OOP terminology: is-a relationship\n",
        "*     On X.name, looks for name in:\n",
        "  1.   Instance <--- Xs own name-space\n",
        "  2.   Class <--- class that X was made from\n",
        "  3.   Superclasses <--- depth-first, left-to-right"
      ]
    },
    {
      "cell_type": "markdown",
      "metadata": {
        "id": "kUvrplxUYGdY",
        "colab_type": "text"
      },
      "source": [
        "**Example: a zoo hierarchy in Python**"
      ]
    },
    {
      "cell_type": "code",
      "metadata": {
        "id": "YmecthRJ6eOV",
        "colab_type": "code",
        "colab": {}
      },
      "source": [
        "class Animal:\n",
        "  def reply(self): self.speak()\n",
        "    \n",
        "  def speak(self): print('spam')\n",
        "\n",
        "\n",
        "class Mammal(Animal):\n",
        "  def speak(self): print('huh?')\n",
        "\n",
        "\n",
        "class Cat(Mammal):\n",
        "  def speak(self): print('meow')\n",
        "\n",
        "\n",
        "class Dog(Mammal):\n",
        "  def speak(self): print('bark')\n",
        "\n",
        "\n",
        "class Primate(Mammal):\n",
        "  def speak(self): print('Hello world!')\n",
        "\n",
        "\n",
        "class Hacker(Primate): pass"
      ],
      "execution_count": 0,
      "outputs": []
    },
    {
      "cell_type": "markdown",
      "metadata": {
        "id": "L6CmLOh6Y-FI",
        "colab_type": "text"
      },
      "source": [
        "![classes](https://learning-python.com/class/Workbook/unit07_files/image018.gif)"
      ]
    },
    {
      "cell_type": "code",
      "metadata": {
        "id": "74ItPZpY6eOY",
        "colab_type": "code",
        "outputId": "c5a7f035-422d-4c40-b822-bd45b0420f09",
        "colab": {
          "base_uri": "https://localhost:8080/",
          "height": 51
        }
      },
      "source": [
        "spot = Cat()\n",
        "spot.reply() # Animal.reply, Cat.speak\n",
        "data = Hacker() # Animal.reply, Primate.speak\n",
        "data.reply()"
      ],
      "execution_count": 0,
      "outputs": [
        {
          "output_type": "stream",
          "text": [
            "meow\n",
            "Hello world!\n"
          ],
          "name": "stdout"
        }
      ]
    },
    {
      "cell_type": "markdown",
      "metadata": {
        "id": "8CshHgpM6eOa",
        "colab_type": "text"
      },
      "source": [
        "###OOP and composition"
      ]
    },
    {
      "cell_type": "markdown",
      "metadata": {
        "id": "TMvEyoGyZUPZ",
        "colab_type": "text"
      },
      "source": [
        "*     Class instances simulate objects in a domain\n",
        "*     Nouns→classes, verbs→methods\n",
        "*     Class objects embed and activate other objects\n",
        "*     In OOP terminology: has-a relationship"
      ]
    },
    {
      "cell_type": "markdown",
      "metadata": {
        "id": "G4bm_wpIZXBW",
        "colab_type": "text"
      },
      "source": [
        "**Example: the dead-parrot skit in Python**"
      ]
    },
    {
      "cell_type": "code",
      "metadata": {
        "id": "DNdHbbcd6eOb",
        "colab_type": "code",
        "outputId": "e03280c8-400f-4291-f0c9-0714876fe641",
        "colab": {
          "base_uri": "https://localhost:8080/",
          "height": 68
        }
      },
      "source": [
        "class Actor:\n",
        "  def line(self): print(self.name + ':', self.says())\n",
        "\n",
        "\n",
        "class Customer(Actor):\n",
        "  name = 'customer'\n",
        "  \n",
        "  def says(self): return \"that's one ex-bird!\"\n",
        "\n",
        "\n",
        "class Clerk(Actor):\n",
        "  name = 'clerk'\n",
        "\n",
        "  def says(self): return \"no it isn't\"\n",
        "\n",
        "\n",
        "class Parrot(Actor):\n",
        "  name = 'parrot'\n",
        "\n",
        "  def says(self): return None\n",
        "\n",
        "\n",
        "class Scene:\n",
        "  def __init__(self):\n",
        "    self.clerk = Clerk() # embed some instances\n",
        "    self.customer = Customer() # Scene is a composite\n",
        "    self.subject = Parrot()\n",
        "\n",
        "\n",
        "  def action(self):\n",
        "    self.customer.line() # delegate to embedded\n",
        "    self.clerk.line()\n",
        "    self.subject.line()\n",
        "  \n",
        "  \n",
        "Scene().action() # activate nested objects  "
      ],
      "execution_count": 0,
      "outputs": [
        {
          "output_type": "stream",
          "text": [
            "customer: that's one ex-bird!\n",
            "clerk: no it isn't\n",
            "parrot: None\n"
          ],
          "name": "stdout"
        }
      ]
    },
    {
      "cell_type": "markdown",
      "metadata": {
        "id": "p4ZUWL4F6eOi",
        "colab_type": "text"
      },
      "source": [
        "###Classes are objects: factories"
      ]
    },
    {
      "cell_type": "markdown",
      "metadata": {
        "id": "d53bS1zqZ-Cp",
        "colab_type": "text"
      },
      "source": [
        "*     Everything is a first-class object\n",
        "*     Only objects derived from classes are OOP objects\n",
        "*     Classes can be passed around as data objects"
      ]
    },
    {
      "cell_type": "code",
      "metadata": {
        "id": "K5NtwG916eOj",
        "colab_type": "code",
        "outputId": "5a8032b7-061f-4b8a-93fd-bc4b84164b92",
        "colab": {
          "base_uri": "https://localhost:8080/",
          "height": 34
        }
      },
      "source": [
        "def factory(aClass, *args): # varargs tuple\n",
        "  return aClass(*args) # call aClass\n",
        " \n",
        "\n",
        "class Spam:\n",
        "  def doit(self, message):\n",
        "    print(message)\n",
        "    \n",
        "    \n",
        "class Person:\n",
        "  def __init__(self, name, job):\n",
        "    self.name = name\n",
        "    self.job = job\n",
        "    \n",
        "    \n",
        "object1 = factory(Spam) # make a Spam\n",
        "object2 = factory(Person, \"Guido\", \"guru\") # make a Person\n",
        "object2.name"
      ],
      "execution_count": 0,
      "outputs": [
        {
          "output_type": "execute_result",
          "data": {
            "text/plain": [
              "'Guido'"
            ]
          },
          "metadata": {
            "tags": []
          },
          "execution_count": 35
        }
      ]
    },
    {
      "cell_type": "markdown",
      "metadata": {
        "id": "vGDfYA2d6eOn",
        "colab_type": "text"
      },
      "source": [
        "###Methods are objects: bound or unbound"
      ]
    },
    {
      "cell_type": "markdown",
      "metadata": {
        "id": "kufMHUHubCtE",
        "colab_type": "text"
      },
      "source": [
        "*     Unbound class methods: call with a self\n",
        "*     Bound instance methods: instance + method pairs"
      ]
    },
    {
      "cell_type": "code",
      "metadata": {
        "id": "bC9TkuDV6eOo",
        "colab_type": "code",
        "outputId": "74573b71-0772-439d-b950-fcb3b39079d2",
        "colab": {
          "base_uri": "https://localhost:8080/",
          "height": 51
        }
      },
      "source": [
        "object1 = Spam()\n",
        "x = object1.doit # bound method object\n",
        "x('hello world') # instance is implied\n",
        "\n",
        "\n",
        "t = Spam.doit # unbound method object\n",
        "t(object1, 'howdy') # pass in instance"
      ],
      "execution_count": 0,
      "outputs": [
        {
          "output_type": "stream",
          "text": [
            "hello world\n",
            "howdy\n"
          ],
          "name": "stdout"
        }
      ]
    },
    {
      "cell_type": "markdown",
      "metadata": {
        "id": "RFGkvoZi6eOq",
        "colab_type": "text"
      },
      "source": [
        "###Odds and ends"
      ]
    },
    {
      "cell_type": "markdown",
      "metadata": {
        "id": "kFhY349Db2GL",
        "colab_type": "text"
      },
      "source": [
        "**Pseudo-private attributes**\n",
        "\n",
        "*     Data hiding is a convention (until Python1.5 or later)\n",
        "*     Were all consenting adults Pythons BDFL\n",
        "*     1.5 name mangling: self.\\_\\_X → self._Class\\_\\_X\n",
        "*     Class name prefix makes names unique in self instance\n",
        "*     Only works in class, and only if at most 1 trailing _\n",
        "*     Mostly for larger, multi-programmer, OO projects\n",
        "*     See \\_\\_getattr\\_\\_ above for implementing full privacy"
      ]
    },
    {
      "cell_type": "code",
      "metadata": {
        "id": "YSBqUsFs6eOr",
        "colab_type": "code",
        "outputId": "8dfec504-fe09-40f3-9e39-9fd5124c1b78",
        "colab": {
          "base_uri": "https://localhost:8080/",
          "height": 68
        }
      },
      "source": [
        "class C1:\n",
        "  def meth1(self): self.__X = 88 # now X is mine\n",
        "  \n",
        "  def meth2(self): print(self.__X) # becomes _C1__X in I\n",
        "\n",
        "\n",
        "class C2:\n",
        "  def metha(self): self.__X = 99 # me too\n",
        "  \n",
        "  def methb(self): print(self.__X) # becomes _C2__X in I\n",
        "\n",
        "\n",
        "class C3(C1, C2): pass\n",
        "  \n",
        "\n",
        "I = C3() # two X names in I\n",
        "I.meth1()\n",
        "I.metha()\n",
        "print(I.__dict__)\n",
        "\n",
        "I.meth2()\n",
        "I.methb()"
      ],
      "execution_count": 0,
      "outputs": [
        {
          "output_type": "stream",
          "text": [
            "{'_C1__X': 88, '_C2__X': 99}\n",
            "88\n",
            "99\n"
          ],
          "name": "stdout"
        }
      ]
    },
    {
      "cell_type": "markdown",
      "metadata": {
        "id": "MBSrDR5T6eOu",
        "colab_type": "text"
      },
      "source": [
        "**Documentation strings**\n",
        "\n",
        "*     Still not universally used (but very close!)\n",
        "*     Woks for classes, modules, functions, methods\n",
        "*      String constant before any statements\n",
        "*      Stored in objects \\_\\_doc\\_\\_ attribute"
      ]
    },
    {
      "cell_type": "code",
      "metadata": {
        "id": "uEtpnQ2F6eOv",
        "colab_type": "code",
        "colab": {}
      },
      "source": [
        "\"I am: docstr.__doc__\"\n",
        " \n",
        "\n",
        "class spam:\n",
        "  \"I am: spam.__doc__ or docstr.spam.__doc__\"\n",
        "  pass\n",
        " \n",
        "\n",
        "def method(self, arg):\n",
        "  \"I am: spam.method.__doc__ or self.method.__doc__\"\n",
        "  pass\n",
        " \n",
        "\n",
        "def func(args):\n",
        "  \"I am: docstr.func.__doc__\"\n",
        "  pass"
      ],
      "execution_count": 0,
      "outputs": []
    },
    {
      "cell_type": "markdown",
      "metadata": {
        "id": "6WrbNl7X6eOw",
        "colab_type": "text"
      },
      "source": [
        "**Classes versus modules**\n",
        "\n",
        "*     Modules\n",
        "  *     Are data/logic packages\n",
        "  *     Creation: files or extensions\n",
        "  *     Usage: imported\n",
        "\n",
        "*     Classes\n",
        "  *     Implement new objects\n",
        "  *     Always live in a module\n",
        "  *     Creation: statements\n",
        "  *     Usage: called"
      ]
    },
    {
      "cell_type": "markdown",
      "metadata": {
        "id": "aTlJoNXVd-7B",
        "colab_type": "text"
      },
      "source": [
        "**OOP and Python**\n",
        " \n",
        "*     Inheritance\n",
        "  *      Based on attribute lookup: X.name\n",
        "*     Polymorphism\n",
        "  *      In X.method(), the meaning of method depends on the type (class) of X\n",
        "*     Encapsulation\n",
        "  *      Methods and operators implement behavior; data hiding is a convention (for now)"
      ]
    },
    {
      "cell_type": "code",
      "metadata": {
        "id": "rUwjOG-o6eOx",
        "colab_type": "code",
        "colab": {}
      },
      "source": [
        "class C:\n",
        "  def meth(self, x): # like x=1; x=2\n",
        "    pass\n",
        "  \n",
        "  def meth(self, x, y, z): # the last one wins!\n",
        "    pass\n",
        "\n",
        "\n",
        "class C:\n",
        "  def meth(self, *args):\n",
        "    if len(args) == 1:\n",
        "      pass\n",
        "    elif type(arg[0]) == int:\n",
        "      pass\n",
        "\n",
        "\n",
        "class C:\n",
        "  def meth(self, x): # the python way:\n",
        "    x.operation() # assume x does the right thing"
      ],
      "execution_count": 0,
      "outputs": []
    },
    {
      "cell_type": "markdown",
      "metadata": {
        "id": "7hOR1tmv6eO0",
        "colab_type": "text"
      },
      "source": [
        "**Pythons dynamic nature**\n",
        "\n",
        "*      Members may be added/changed outside class methods"
      ]
    },
    {
      "cell_type": "code",
      "metadata": {
        "id": "P5lHmG7V6eO1",
        "colab_type": "code",
        "colab": {}
      },
      "source": [
        "class C: pass\n",
        "\n",
        "X = C()\n",
        "X.name = 'bob'\n",
        "X.job = 'psychologist'"
      ],
      "execution_count": 0,
      "outputs": []
    },
    {
      "cell_type": "markdown",
      "metadata": {
        "id": "2TBZxA9HfPee",
        "colab_type": "text"
      },
      "source": [
        "*     Scopes may be expanded dynamically: run-time binding"
      ]
    },
    {
      "cell_type": "code",
      "metadata": {
        "id": "HGPkrIXA6eO3",
        "colab_type": "code",
        "outputId": "6b626fea-f91c-4ece-af5d-cb31603a7ffc",
        "colab": {
          "base_uri": "https://localhost:8080/",
          "height": 34
        }
      },
      "source": [
        "def printer():\n",
        "  print(message) # name resolved when referenced\n",
        "\n",
        "message = \"Hello\" # set message now\n",
        "printer()"
      ],
      "execution_count": 0,
      "outputs": [
        {
          "output_type": "stream",
          "text": [
            "Hello\n"
          ],
          "name": "stdout"
        }
      ]
    },
    {
      "cell_type": "markdown",
      "metadata": {
        "id": "zk-5_FsE6eO5",
        "colab_type": "text"
      },
      "source": [
        "###Subclassing builtin types"
      ]
    },
    {
      "cell_type": "markdown",
      "metadata": {
        "id": "rPhRnEgpfxVl",
        "colab_type": "text"
      },
      "source": [
        "*     All types behave like classes: list, str, tuple, dict,\n",
        "*     Subclass to customize builtin object behavior\n",
        "*     Alternative to writing wrapper code"
      ]
    },
    {
      "cell_type": "code",
      "metadata": {
        "id": "8eHY2LPz6eO5",
        "colab_type": "code",
        "outputId": "8d53d151-2bc8-4027-c5bb-90c851d41be7",
        "colab": {
          "base_uri": "https://localhost:8080/",
          "height": 153
        }
      },
      "source": [
        "# subclass builtin list type/class\n",
        "# map 1..N to 0..N-1, call back to built-in version\n",
        " \n",
        "\n",
        "class MyList(list):\n",
        "  def __getitem__(self, offset):\n",
        "    print('(indexing %s at %s)' % (self, offset))\n",
        "    return list.__getitem__(self, offset - 1)\n",
        "  \n",
        "  \n",
        "print(list('abc'))\n",
        "x = MyList('abc') # __init__ inherited from list\n",
        "print(x) # __repr__ inherited from list\n",
        "print(x[1]) # MyList.__getitem__\n",
        "print(x[3]) # customizes list superclass method\n",
        "\n",
        "x.append('spam')\n",
        "print(x) # attributes from list superclass\n",
        "\n",
        "x.reverse()\n",
        "print(x)"
      ],
      "execution_count": 0,
      "outputs": [
        {
          "output_type": "stream",
          "text": [
            "['a', 'b', 'c']\n",
            "['a', 'b', 'c']\n",
            "(indexing ['a', 'b', 'c'] at 1)\n",
            "a\n",
            "(indexing ['a', 'b', 'c'] at 3)\n",
            "c\n",
            "['a', 'b', 'c', 'spam']\n",
            "['spam', 'c', 'b', 'a']\n"
          ],
          "name": "stdout"
        }
      ]
    },
    {
      "cell_type": "markdown",
      "metadata": {
        "id": "A9vX5Xyb6eO7",
        "colab_type": "text"
      },
      "source": [
        "###New Style Classes in 2.2+ (Advanced)\n",
        "\n",
        " \n",
        "\n",
        "*     Adds new features, changes one inheritance case (diamonds)\n",
        "*     Py 2.X: only if object or a builtin type as a superclass\n",
        "*     Py 3.X: all classes automatically new style (object added auto)"
      ]
    },
    {
      "cell_type": "code",
      "metadata": {
        "id": "x-y4SUot6eO8",
        "colab_type": "code",
        "colab": {}
      },
      "source": [
        "class newstyle(object): # NS requires object in 2.X only\n",
        "  pass"
      ],
      "execution_count": 0,
      "outputs": []
    },
    {
      "cell_type": "markdown",
      "metadata": {
        "id": "DWd-7UKL6ePA",
        "colab_type": "text"
      },
      "source": [
        "*     Changes: behavior of diamond multiple inheritance\n",
        "Per the linear MRO: the DFLR path, with all but last appearance of each class removed"
      ]
    },
    {
      "cell_type": "code",
      "metadata": {
        "id": "cR2n4bGthpJs",
        "colab_type": "code",
        "outputId": "ef4de6a4-ae5a-4817-f095-271c2bac4de2",
        "colab": {
          "base_uri": "https://localhost:8080/",
          "height": 34
        }
      },
      "source": [
        "class A(object): attr = 1 # NEW STYLE\n",
        "class B(A): pass\n",
        "class C(A): attr = 2\n",
        "class D(B,C): pass # tries C before A\n",
        "x = D() # more breadth-first\n",
        "x.attr"
      ],
      "execution_count": 0,
      "outputs": [
        {
          "output_type": "execute_result",
          "data": {
            "text/plain": [
              "2"
            ]
          },
          "metadata": {
            "tags": []
          },
          "execution_count": 53
        }
      ]
    },
    {
      "cell_type": "markdown",
      "metadata": {
        "id": "2y423NKO6ePC",
        "colab_type": "text"
      },
      "source": [
        "*     Adds: slots, limits legal attributes set\n",
        "Used to catch typos and limit memory requirements in pathological cases (ONLY!)"
      ]
    },
    {
      "cell_type": "code",
      "metadata": {
        "id": "afvfLxJc6ePC",
        "colab_type": "code",
        "outputId": "a8b9cd6d-3b88-4f3c-a06d-76b7e584785e",
        "colab": {
          "base_uri": "https://localhost:8080/",
          "height": 214
        }
      },
      "source": [
        "class limiter(object):\n",
        "  __slots__ = ['age', 'name', 'job']\n",
        "\n",
        "  \n",
        "x = limiter()\n",
        "print(\"ERROR EXPECTED\")\n",
        "x.ape = 1000"
      ],
      "execution_count": 0,
      "outputs": [
        {
          "output_type": "stream",
          "text": [
            "ERROR EXPECTED\n"
          ],
          "name": "stdout"
        },
        {
          "output_type": "error",
          "ename": "AttributeError",
          "evalue": "ignored",
          "traceback": [
            "\u001b[0;31m---------------------------------------------------------------------------\u001b[0m",
            "\u001b[0;31mAttributeError\u001b[0m                            Traceback (most recent call last)",
            "\u001b[0;32m<ipython-input-57-b56a8de1b9ec>\u001b[0m in \u001b[0;36m<module>\u001b[0;34m()\u001b[0m\n\u001b[1;32m      5\u001b[0m \u001b[0mx\u001b[0m \u001b[0;34m=\u001b[0m \u001b[0mlimiter\u001b[0m\u001b[0;34m(\u001b[0m\u001b[0;34m)\u001b[0m\u001b[0;34m\u001b[0m\u001b[0;34m\u001b[0m\u001b[0m\n\u001b[1;32m      6\u001b[0m \u001b[0mprint\u001b[0m\u001b[0;34m(\u001b[0m\u001b[0;34m\"ERROR EXPECTED\"\u001b[0m\u001b[0;34m)\u001b[0m\u001b[0;34m\u001b[0m\u001b[0;34m\u001b[0m\u001b[0m\n\u001b[0;32m----> 7\u001b[0;31m \u001b[0mx\u001b[0m\u001b[0;34m.\u001b[0m\u001b[0mape\u001b[0m \u001b[0;34m=\u001b[0m \u001b[0;36m1000\u001b[0m\u001b[0;34m\u001b[0m\u001b[0;34m\u001b[0m\u001b[0m\n\u001b[0m",
            "\u001b[0;31mAttributeError\u001b[0m: 'limiter' object has no attribute 'ape'"
          ]
        }
      ]
    },
    {
      "cell_type": "markdown",
      "metadata": {
        "id": "iCPxmJFq6ePE",
        "colab_type": "text"
      },
      "source": [
        "*     Adds: properties, computed attributes alternative.\n",
        "Used to route attribute access to databases, approvals, special-case code."
      ]
    },
    {
      "cell_type": "code",
      "metadata": {
        "id": "XreYZlXm6ePE",
        "colab_type": "code",
        "outputId": "e3260138-a63c-4bae-e2ee-94aaac7daba0",
        "colab": {
          "base_uri": "https://localhost:8080/",
          "height": 34
        }
      },
      "source": [
        "class classic():\n",
        "  def __getattr__(self, name):\n",
        "    if name == 'age':\n",
        "      return 40\n",
        "    else:\n",
        "      raise AttributeError\n",
        "\n",
        "x = classic()\n",
        "x.age # <= runs __getattr__"
      ],
      "execution_count": 0,
      "outputs": [
        {
          "output_type": "execute_result",
          "data": {
            "text/plain": [
              "40"
            ]
          },
          "metadata": {
            "tags": []
          },
          "execution_count": 63
        }
      ]
    },
    {
      "cell_type": "code",
      "metadata": {
        "id": "rtVDT7sIjeMU",
        "colab_type": "code",
        "outputId": "b901336f-bda0-4276-c802-d9153fe69cc3",
        "colab": {
          "base_uri": "https://localhost:8080/",
          "height": 34
        }
      },
      "source": [
        "# less verbose way (nneds object in 2.X)\n",
        "class newprops():\n",
        "  def getage(self):\n",
        "    return 40\n",
        "  \n",
        "  age = property(getage, None, None, None) # get,set,del\n",
        "\n",
        "x = newprops()\n",
        "x.age # <= runs getage"
      ],
      "execution_count": 0,
      "outputs": [
        {
          "output_type": "execute_result",
          "data": {
            "text/plain": [
              "40"
            ]
          },
          "metadata": {
            "tags": []
          },
          "execution_count": 60
        }
      ]
    },
    {
      "cell_type": "markdown",
      "metadata": {
        "id": "vVRNeprC6ePG",
        "colab_type": "text"
      },
      "source": [
        "*     Adds: static and class methods, new calling patterns\n",
        "Used to process class data, instead of per-instance date"
      ]
    },
    {
      "cell_type": "code",
      "metadata": {
        "id": "wstrO3e66ePG",
        "colab_type": "code",
        "outputId": "85235b39-4a53-4a0a-99eb-7041cb457f08",
        "colab": {
          "base_uri": "https://localhost:8080/",
          "height": 34
        }
      },
      "source": [
        "class Spam: # static: no self\n",
        "  numInstances = 0 # class: class, not instance\n",
        "\n",
        "  def __init__(self):\n",
        "    Spam.numInstances += 1\n",
        "\n",
        "  def printNumInstances():\n",
        "    print(\"Number of instances:\", Spam.numInstances)\n",
        "\n",
        "  # can avoid this in 3.X\n",
        "  #printNumInstances = staticmethod(printNumInstances)\n",
        "\n",
        "\n",
        "a = Spam()\n",
        "b = Spam()\n",
        "c = Spam()\n",
        "Spam.printNumInstances()"
      ],
      "execution_count": 0,
      "outputs": [
        {
          "output_type": "stream",
          "text": [
            "Number of instances: 3\n"
          ],
          "name": "stdout"
        }
      ]
    },
    {
      "cell_type": "markdown",
      "metadata": {
        "id": "rFAnUnlj6ePH",
        "colab_type": "text"
      },
      "source": [
        "*     Function and class decorators (not just newstyle).\n",
        "Rebinds names to objects that process functions and classes, or later calls to them."
      ]
    },
    {
      "cell_type": "markdown",
      "metadata": {
        "id": "z1HzdHzbrI-v",
        "colab_type": "text"
      },
      "source": [
        "**Function name rebinding**\n",
        "\n",
        "```python\n",
        "@funcdecorator\n",
        "def F():\n",
        "...\n",
        " \n",
        "# is equivalent to\n",
        " \n",
        "def F():\n",
        "  F = funcdecorator(F) # rebind name, possibly to proxy object\n",
        "```\n",
        "\n",
        "**Class name rebinding**\n",
        "\n",
        "```python\n",
        "@classdecorator\n",
        "class C:\n",
        "...\n",
        "\n",
        "# is equivalent to\n",
        " \n",
        "class C:\n",
        "  C = classdecorator(C) # rebind name, possibly to proxy object\n",
        "```\n",
        "  \n",
        "**Use for static methods (and properties, etc.)**\n",
        "\n",
        "```python\n",
        "class C:\n",
        "  @staticmethod\n",
        "  def meth():\n",
        "...\n",
        " \n",
        "# is equivalent to\n",
        " \n",
        "class C:\n",
        "  def meth():\n",
        "  ...\n",
        "  meth = staticmethod(meth) # rebind name to call handler\n",
        " \n",
        "# ditto for properties\n",
        "\n",
        "class newprops(object):\n",
        "  @property\n",
        "  def age(self): # age = property(age)\n",
        "    return 40 # use X.age, not X.age()\n",
        "``` \n",
        "\n",
        "**Nesting: multiple augmentations**\n",
        "\n",
        "```python\n",
        "@A\n",
        "@B\n",
        "@C\n",
        "def f(): \n",
        " \n",
        "# is equivalent to\n",
        "\n",
        "def f(): \n",
        "  f = A(B(C(f)))\n",
        "```\n",
        "\n",
        "**Arguments: closures, retain state for later calls**\n",
        "\n",
        "```python\n",
        "@funchandler(a, b)\n",
        "def F():\n",
        " \n",
        "# is equivalent to\n",
        " \n",
        "def F():\n",
        "  F = funchandler(a, b)(F)\n",
        " ```\n",
        "\n",
        " \n",
        "\n",
        " \n"
      ]
    },
    {
      "cell_type": "markdown",
      "metadata": {
        "id": "LyxddbvQ6ePL",
        "colab_type": "text"
      },
      "source": [
        "###Class gotchas"
      ]
    },
    {
      "cell_type": "markdown",
      "metadata": {
        "id": "p-wAbMvGsyVE",
        "colab_type": "text"
      },
      "source": [
        "*     Multiple inheritance: order matters\n",
        "*      Solution: use sparingly and/or carefully"
      ]
    },
    {
      "cell_type": "code",
      "metadata": {
        "id": "qwgGkx5p6ePM",
        "colab_type": "code",
        "outputId": "6bb59222-b96c-442f-c1b2-85970e1b0a6b",
        "colab": {
          "base_uri": "https://localhost:8080/",
          "height": 68
        }
      },
      "source": [
        "class Super1:\n",
        "  def method2(self): # a 'mixin' superclass\n",
        "    print('in Super1.method2')\n",
        "\n",
        "\n",
        "class Super2:\n",
        "  def method1(self):\n",
        "    self.method2() # calls my method2??\n",
        "  \n",
        "  def method2(self):\n",
        "    print('in Super2.method2')\n",
        "\n",
        "\n",
        "class Sub1(Super1, Super2):\n",
        "  pass # gets Super1's method2\n",
        "\n",
        "\n",
        "class Sub2(Super2, Super1):\n",
        "  pass # gets Super2's method2\n",
        "\n",
        "\n",
        "class Sub3(Super1, Super2):\n",
        "  method2 = Super2.method2 # pick method manually\n",
        "\n",
        "\n",
        "Sub1().method1()\n",
        "Sub2().method1()\n",
        "Sub3().method1()"
      ],
      "execution_count": 0,
      "outputs": [
        {
          "output_type": "stream",
          "text": [
            "in Super1.method2\n",
            "in Super2.method2\n",
            "in Super2.method2\n"
          ],
          "name": "stdout"
        }
      ]
    },
    {
      "cell_type": "markdown",
      "metadata": {
        "id": "c8Mp4Qlht2EL",
        "colab_type": "text"
      },
      "source": [
        "###Example: a set class"
      ]
    },
    {
      "cell_type": "markdown",
      "metadata": {
        "id": "B85MAtje6ePP",
        "colab_type": "text"
      },
      "source": [
        "*     Wraps a Python list in each instance\n",
        "*     Supports multiple instances\n",
        "*     Adds operator overloading\n",
        "*     Supports customization by inheritance\n",
        "*     Allows any type of component: heterogeneous"
      ]
    },
    {
      "cell_type": "code",
      "metadata": {
        "id": "donu-MMb6ePP",
        "colab_type": "code",
        "colab": {}
      },
      "source": [
        "class Set:\n",
        "  def __init__(self, value = []): # constructor\n",
        "    self.data = [] # manages a list\n",
        "    self.concat(value)\n",
        "    \n",
        "  def intersect(self, other): # other is a sequence\n",
        "    res = [] # self is the subject\n",
        "    for x in self.data:\n",
        "      if x in other:\n",
        "        res.append(x)\n",
        "    return Set(res) # return a new Set\n",
        "  \n",
        "  def union(self, other):\n",
        "    res = self.data[:] # copy of my list\n",
        "    for x in other:\n",
        "      if not x in res:\n",
        "        res.append(x)\n",
        "    return Set(res)\n",
        "  \n",
        "  def concat(self, value): # value: list, Set\n",
        "    for x in value: # removes duplicates\n",
        "      if not x in self.data:\n",
        "        self.data.append(x)\n",
        "\n",
        "  def __len__(self): return len(self.data)\n",
        "  def __getitem__(self, key): return self.data[key]\n",
        "  def __and__(self, other): return self.intersect(other)\n",
        "  def __or__(self, other): return self.union(other)\n",
        "  def __repr__(self): return 'Set:' + str(self.data)"
      ],
      "execution_count": 0,
      "outputs": []
    },
    {
      "cell_type": "code",
      "metadata": {
        "id": "INmT98K86ePR",
        "colab_type": "code",
        "outputId": "672a5ba9-9ef3-4413-fa64-79b8a5ce14c9",
        "colab": {
          "base_uri": "https://localhost:8080/",
          "height": 34
        }
      },
      "source": [
        "x = Set([1,2,3,4]) # __init__\n",
        "y = Set([3,4,5])\n",
        "\n",
        "x & y, x | y # __and__,__or__,__repr__"
      ],
      "execution_count": 0,
      "outputs": [
        {
          "output_type": "execute_result",
          "data": {
            "text/plain": [
              "(Set:[3, 4], Set:[1, 2, 3, 4, 5])"
            ]
          },
          "metadata": {
            "tags": []
          },
          "execution_count": 74
        }
      ]
    },
    {
      "cell_type": "code",
      "metadata": {
        "id": "b_GXGzXluj8K",
        "colab_type": "code",
        "outputId": "9ea5c2d6-df1e-4458-cd18-f7a5439bce6d",
        "colab": {
          "base_uri": "https://localhost:8080/",
          "height": 34
        }
      },
      "source": [
        "z = Set(\"hello\") # set of strings\n",
        "z[0] # __getitem__"
      ],
      "execution_count": 0,
      "outputs": [
        {
          "output_type": "execute_result",
          "data": {
            "text/plain": [
              "'h'"
            ]
          },
          "metadata": {
            "tags": []
          },
          "execution_count": 75
        }
      ]
    },
    {
      "cell_type": "code",
      "metadata": {
        "id": "qw7wj1AHutWf",
        "colab_type": "code",
        "outputId": "b08459c2-4298-47c8-cc0c-85f42e2de755",
        "colab": {
          "base_uri": "https://localhost:8080/",
          "height": 34
        }
      },
      "source": [
        "z & \"mello\", z | \"mello\""
      ],
      "execution_count": 0,
      "outputs": [
        {
          "output_type": "execute_result",
          "data": {
            "text/plain": [
              "(Set:['e', 'l', 'o'], Set:['h', 'e', 'l', 'o', 'm'])"
            ]
          },
          "metadata": {
            "tags": []
          },
          "execution_count": 76
        }
      ]
    },
    {
      "cell_type": "markdown",
      "metadata": {
        "id": "_s7T5m-X6ePT",
        "colab_type": "text"
      },
      "source": [
        "###Summary: OOP in Python"
      ]
    },
    {
      "cell_type": "markdown",
      "metadata": {
        "id": "s8NdP0odu1zQ",
        "colab_type": "text"
      },
      "source": [
        "*     Class objects provide default behavior\n",
        "    *      Classes support multiple copies, attribute inheritance, and operator overloading\n",
        "    *      The class statement creates a class object and assigns it to a name\n",
        "    *      Assignments inside class statements create class attributes, which export object state and behavior\n",
        "    *      Class methods are nested defs, with special first arguments to receive the instance\n",
        "*     Instance objects are generated from classes\n",
        "    *      Calling a class object like a function makes a new instance object\n",
        "    *      Each instance object inherits class attributes, and gets its own attribute namespace\n",
        "    *      Assignments to the first argument (\"self\") in methods create per-instance attributes\n",
        "*     Inheritance supports specialization\n",
        "    *      Inheritance happens at attribute qualification time: on object.attribute, if object is a class or instance\n",
        "    *      Classes inherit attributes from all classes listed in their class statement header line (superclasses)\n",
        "    *      Instances inherit attributes from the class they are generated from, plus all its superclasses\n",
        "    *      Inheritance searches the instance, then its class, then all accessible superclasses (depth-first, left-to-right)"
      ]
    },
    {
      "cell_type": "markdown",
      "metadata": {
        "id": "Ix7_0j8M2ODJ",
        "colab_type": "text"
      },
      "source": [
        "##Exceptions"
      ]
    },
    {
      "cell_type": "markdown",
      "metadata": {
        "id": "7SGdQcIj5MjZ",
        "colab_type": "text"
      },
      "source": [
        "**Why use exceptions?**\n",
        "\n",
        "*     Error handling\n",
        "*     Event notification\n",
        "*     Special-case handling\n",
        "*     Unusual control-flows"
      ]
    },
    {
      "cell_type": "markdown",
      "metadata": {
        "id": "_7Q83GbV5QrA",
        "colab_type": "text"
      },
      "source": [
        "**Exception topics**\n",
        "\n",
        "*     The basics\n",
        "*     Exception idioms\n",
        "*     Exception catching modes\n",
        "*     Class exceptions\n",
        "*     Exception gotchas"
      ]
    },
    {
      "cell_type": "markdown",
      "metadata": {
        "id": "LweINeyN5S83",
        "colab_type": "text"
      },
      "source": [
        "###Exception basics"
      ]
    },
    {
      "cell_type": "markdown",
      "metadata": {
        "id": "dOlyYLgn5WBf",
        "colab_type": "text"
      },
      "source": [
        "*     A high-level control flow device\n",
        "*     try statements catch exceptions\n",
        "*     raise statements trigger exceptions\n",
        "*     Exceptions are raised by Python or programs"
      ]
    },
    {
      "cell_type": "markdown",
      "metadata": {
        "id": "K-2i2Z5UZJOz",
        "colab_type": "text"
      },
      "source": [
        "**Basic forms**\n",
        "\n",
        "-      Python 2.5+: except/finally can now be mixed\n",
        "-      Python 2.5+: with/as context managers\n",
        "-      Python 3.X: except E as X, raise from E"
      ]
    },
    {
      "cell_type": "markdown",
      "metadata": {
        "id": "KegzHfZNBJ7o",
        "colab_type": "text"
      },
      "source": [
        "*     try/except/else\n",
        "```python\n",
        "try:\n",
        "<statements> # run/call actions\n",
        "except <name>:\n",
        "<statements> # if name raised during try block\n",
        "except <name> as <var>:\n",
        "<statements> # if name raised during try block\n",
        "else:\n",
        "<statements> # if no exception was raised\n",
        "```\n",
        "\n",
        "*  try/finally\n",
        "```python\n",
        "try:\n",
        "<statements>\n",
        "finally:\n",
        "<statements> # always run 'on the way out'\n",
        "```\n",
        "\n",
        "* raise\n",
        "```python\n",
        "raise <name> # manually trigger an exception\n",
        "```\n",
        "\n",
        "* assert\n",
        "```python\n",
        "assert <test>, <message>\n",
        "# if not test: raise AssertionError, message\n",
        "``` \n",
        "\n",
        "* with/as context managers (2.5+)\n",
        "\n",
        "```python\n",
        "# alternative to common try/finally idioms\n",
        "# \n",
        "file reading example\n",
        "with open('/etc/passwd', 'r') as f: # auto-closed after with\n",
        "  for line in f: # even if exception in block\n",
        "    print line\n",
        "    # more processing code\n",
        " \n",
        "# thread locking example\n",
        "lock = threading.Lock()\n",
        "with lock: # auto acquired, released\n",
        "# critical section of code \n",
        "# classes may define managers\n",
        "```"
      ]
    },
    {
      "cell_type": "markdown",
      "metadata": {
        "id": "B8udnYB1N28D",
        "colab_type": "text"
      },
      "source": [
        "###First examples"
      ]
    },
    {
      "cell_type": "markdown",
      "metadata": {
        "id": "nxDpr8MpZJO7",
        "colab_type": "text"
      },
      "source": [
        "**Builtin exceptions**\n",
        "\n",
        "*     Python triggers builtin exceptions on errors\n",
        "*     Displays message at top-level if not caught"
      ]
    },
    {
      "cell_type": "code",
      "metadata": {
        "id": "gMbjIZZKZJO8",
        "colab_type": "code",
        "outputId": "6c6f45e8-4d9e-43a5-8757-a2bd75bef44d",
        "colab": {
          "base_uri": "https://localhost:8080/",
          "height": 34
        }
      },
      "source": [
        "def kaboom(list, n):\n",
        "  print(list[n]) # trigger IndexError\n",
        "\n",
        "try:\n",
        "  kaboom([0, 1, 2], 30)\n",
        "except IndexError: # catch exception here\n",
        "  print('Hello world!')"
      ],
      "execution_count": 0,
      "outputs": [
        {
          "output_type": "stream",
          "text": [
            "Hello world!\n"
          ],
          "name": "stdout"
        }
      ]
    },
    {
      "cell_type": "markdown",
      "metadata": {
        "id": "mwAvByZxZJO-",
        "colab_type": "text"
      },
      "source": [
        "**User-defined exceptions**\n",
        "\n",
        "*     Python (and C) programs raise exceptions too\n",
        "*     User-defined exceptions are objects"
      ]
    },
    {
      "cell_type": "code",
      "metadata": {
        "id": "3j0zJetVZJO_",
        "colab_type": "code",
        "outputId": "2031bd3e-2a37-44d4-87e7-d83736a78790",
        "colab": {
          "base_uri": "https://localhost:8080/",
          "height": 51
        }
      },
      "source": [
        "class TestFailed(Exception):\n",
        "    def __init__(self, m):\n",
        "        self.message = m\n",
        "    def __str__(self):\n",
        "        return self.message\n",
        "\n",
        "def stuff(args):\n",
        "  raise TestFailed('oops')\n",
        "  \n",
        "  \n",
        "args = 'some data'\n",
        "try:\n",
        "  stuff(args) # raises exception\n",
        "except TestFailed as e:\n",
        "    print(e)\n",
        "finally:\n",
        "  print(\"failed...finally\") # always close file"
      ],
      "execution_count": 0,
      "outputs": [
        {
          "output_type": "stream",
          "text": [
            "oops\n",
            "failed...finally\n"
          ],
          "name": "stdout"
        }
      ]
    },
    {
      "cell_type": "markdown",
      "metadata": {
        "id": "g0WwtttLW1JB",
        "colab_type": "text"
      },
      "source": [
        "###Exception idioms"
      ]
    },
    {
      "cell_type": "markdown",
      "metadata": {
        "id": "UNFtMry7ZJPC",
        "colab_type": "text"
      },
      "source": [
        "*     EOFError sometimes signals end-of-file\n",
        "```python\n",
        "while 1:\n",
        "  try:\n",
        "          line = raw_input() # read from stdin\n",
        "  except EOFError:\n",
        "          break\n",
        "  else:\n",
        "          <process next line here>\n",
        "```\n",
        "\n",
        "*     Outer try statements can be used to debug code\n",
        "```python\n",
        "try:\n",
        "        <run program>\n",
        "except: # all uncaught exceptions come here\n",
        "        import sys\n",
        "        print 'uncaught!', sys.exc_info()[:2] # type, value\n",
        "```"
      ]
    },
    {
      "cell_type": "markdown",
      "metadata": {
        "id": "RAuCsMPvXvCo",
        "colab_type": "text"
      },
      "source": [
        "###Exception catching modes"
      ]
    },
    {
      "cell_type": "markdown",
      "metadata": {
        "id": "6J6vb-3-YLtY",
        "colab_type": "text"
      },
      "source": [
        "*     Try statements nest (are stacked) at runtime\n",
        "*     Python selects first clause that matches exception\n",
        "*     Try blocks can contain a variety of clauses\n",
        "*     Multiple excepts: catch 1-of-N exceptions\n",
        "*     Try can contain except or finally, but not both"
      ]
    },
    {
      "cell_type": "markdown",
      "metadata": {
        "id": "MvCv_adIZJPK",
        "colab_type": "text"
      },
      "source": [
        "**Try block clauses**\n",
        "\n",
        "Operation |\t Interpretation\n",
        "---|---\n",
        "except: |\tcatch all exception types\n",
        "except name: |\tcatch a specific exception only\n",
        "except name, value: |\t2.X: catch exception and its extra data\n",
        "except name as value: |\t3.X: catch exception and its instance\n",
        "except (name1, name2): |\tcatch any of the listed exceptions\n",
        "else: |\trun block if no exceptions raised\n",
        "finally: |\talways perform block, exception or not"
      ]
    },
    {
      "cell_type": "markdown",
      "metadata": {
        "id": "ZYvSC_HuYQ2o",
        "colab_type": "text"
      },
      "source": [
        "*     Exceptions nest at run-time\n",
        "      -      Runs most recent matching except clause"
      ]
    },
    {
      "cell_type": "code",
      "metadata": {
        "id": "XjofVIymZJPK",
        "colab_type": "code",
        "outputId": "178a6b38-27e7-4bd5-ca67-b0661ef09229",
        "colab": {
          "base_uri": "https://localhost:8080/",
          "height": 34
        }
      },
      "source": [
        "def action2():\n",
        "  print(1 + []) # generate TypeError\n",
        "  \n",
        "def action1():\n",
        "  try:\n",
        "    action2()\n",
        "  except TypeError: # most recent matching try\n",
        "    print('inner try')\n",
        "\n",
        "    \n",
        "try:\n",
        "  action1()\n",
        "except TypeError: # here iff action1 re-raises\n",
        "  print('outer try')"
      ],
      "execution_count": 0,
      "outputs": [
        {
          "output_type": "stream",
          "text": [
            "inner try\n"
          ],
          "name": "stdout"
        }
      ]
    },
    {
      "cell_type": "markdown",
      "metadata": {
        "id": "JGrnDib8ZJPP",
        "colab_type": "text"
      },
      "source": [
        "*     Catching 1-of-N exceptions\n",
        "  -      Runs first match: top-to-bottom, left-to-right\n",
        "  -      See manuals or reference text for a complete list"
      ]
    },
    {
      "cell_type": "code",
      "metadata": {
        "id": "uA7kQZgRZJPP",
        "colab_type": "code",
        "outputId": "034e7ac5-5b5b-43ab-d0a3-01c4fb5eb1fc",
        "colab": {
          "base_uri": "https://localhost:8080/",
          "height": 34
        }
      },
      "source": [
        "try:\n",
        "  action2()\n",
        "except NameError:\n",
        "  print(\"name error\")\n",
        "except IndexError:\n",
        "  print(\"index error\")\n",
        "except KeyError:\n",
        "  print(\"key error\")\n",
        "except (AttributeError, TypeError, SyntaxError):\n",
        "  print(\"more errors\")\n",
        "else:\n",
        "  print(\"did not except\")"
      ],
      "execution_count": 0,
      "outputs": [
        {
          "output_type": "stream",
          "text": [
            "more errors\n"
          ],
          "name": "stdout"
        }
      ]
    },
    {
      "cell_type": "markdown",
      "metadata": {
        "id": "dOuTHBWFZJPR",
        "colab_type": "text"
      },
      "source": [
        "*     finally clause executed on the way out\n",
        "  -      useful for cleanup actions: closing files,\n",
        "  -      block executed whether exception occurs or not\n",
        "  -      Python propagates exception after block finishes\n",
        "  -      but exception lost if finally runs a raise, return, or break"
      ]
    },
    {
      "cell_type": "code",
      "metadata": {
        "id": "soEtq6Y0ZJPR",
        "colab_type": "code",
        "outputId": "eb458eca-97d1-4758-dab1-e405ea20c063",
        "colab": {
          "base_uri": "https://localhost:8080/",
          "height": 459
        }
      },
      "source": [
        "def divide(x, y):\n",
        "  return x / y # divide-by-zero error?\n",
        "\n",
        "def tester(y):\n",
        "  try:\n",
        "    print(divide(8, y))\n",
        "  finally:\n",
        "    print('on the way out')\n",
        "    \n",
        "    \n",
        "print('\\nTest 1:')\n",
        "tester(2)\n",
        "print('\\nTest 2:')\n",
        "tester(0) # trigger error"
      ],
      "execution_count": 0,
      "outputs": [
        {
          "output_type": "stream",
          "text": [
            "\n",
            "Test 1:\n",
            "4.0\n",
            "on the way out\n",
            "\n",
            "Test 2:\n",
            "on the way out\n"
          ],
          "name": "stdout"
        },
        {
          "output_type": "error",
          "ename": "ZeroDivisionError",
          "evalue": "ignored",
          "traceback": [
            "\u001b[0;31m---------------------------------------------------------------------------\u001b[0m",
            "\u001b[0;31mZeroDivisionError\u001b[0m                         Traceback (most recent call last)",
            "\u001b[0;32m<ipython-input-12-74ebd0f88acf>\u001b[0m in \u001b[0;36m<module>\u001b[0;34m()\u001b[0m\n\u001b[1;32m     12\u001b[0m \u001b[0mtester\u001b[0m\u001b[0;34m(\u001b[0m\u001b[0;36m2\u001b[0m\u001b[0;34m)\u001b[0m\u001b[0;34m\u001b[0m\u001b[0;34m\u001b[0m\u001b[0m\n\u001b[1;32m     13\u001b[0m \u001b[0mprint\u001b[0m\u001b[0;34m(\u001b[0m\u001b[0;34m'\\nTest 2:'\u001b[0m\u001b[0;34m)\u001b[0m\u001b[0;34m\u001b[0m\u001b[0;34m\u001b[0m\u001b[0m\n\u001b[0;32m---> 14\u001b[0;31m \u001b[0mtester\u001b[0m\u001b[0;34m(\u001b[0m\u001b[0;36m0\u001b[0m\u001b[0;34m)\u001b[0m \u001b[0;31m# trigger error\u001b[0m\u001b[0;34m\u001b[0m\u001b[0;34m\u001b[0m\u001b[0m\n\u001b[0m",
            "\u001b[0;32m<ipython-input-12-74ebd0f88acf>\u001b[0m in \u001b[0;36mtester\u001b[0;34m(y)\u001b[0m\n\u001b[1;32m      4\u001b[0m \u001b[0;32mdef\u001b[0m \u001b[0mtester\u001b[0m\u001b[0;34m(\u001b[0m\u001b[0my\u001b[0m\u001b[0;34m)\u001b[0m\u001b[0;34m:\u001b[0m\u001b[0;34m\u001b[0m\u001b[0;34m\u001b[0m\u001b[0m\n\u001b[1;32m      5\u001b[0m   \u001b[0;32mtry\u001b[0m\u001b[0;34m:\u001b[0m\u001b[0;34m\u001b[0m\u001b[0;34m\u001b[0m\u001b[0m\n\u001b[0;32m----> 6\u001b[0;31m     \u001b[0mprint\u001b[0m\u001b[0;34m(\u001b[0m\u001b[0mdivide\u001b[0m\u001b[0;34m(\u001b[0m\u001b[0;36m8\u001b[0m\u001b[0;34m,\u001b[0m \u001b[0my\u001b[0m\u001b[0;34m)\u001b[0m\u001b[0;34m)\u001b[0m\u001b[0;34m\u001b[0m\u001b[0;34m\u001b[0m\u001b[0m\n\u001b[0m\u001b[1;32m      7\u001b[0m   \u001b[0;32mfinally\u001b[0m\u001b[0;34m:\u001b[0m\u001b[0;34m\u001b[0m\u001b[0;34m\u001b[0m\u001b[0m\n\u001b[1;32m      8\u001b[0m     \u001b[0mprint\u001b[0m\u001b[0;34m(\u001b[0m\u001b[0;34m'on the way out'\u001b[0m\u001b[0;34m)\u001b[0m\u001b[0;34m\u001b[0m\u001b[0;34m\u001b[0m\u001b[0m\n",
            "\u001b[0;32m<ipython-input-12-74ebd0f88acf>\u001b[0m in \u001b[0;36mdivide\u001b[0;34m(x, y)\u001b[0m\n\u001b[1;32m      1\u001b[0m \u001b[0;32mdef\u001b[0m \u001b[0mdivide\u001b[0m\u001b[0;34m(\u001b[0m\u001b[0mx\u001b[0m\u001b[0;34m,\u001b[0m \u001b[0my\u001b[0m\u001b[0;34m)\u001b[0m\u001b[0;34m:\u001b[0m\u001b[0;34m\u001b[0m\u001b[0;34m\u001b[0m\u001b[0m\n\u001b[0;32m----> 2\u001b[0;31m   \u001b[0;32mreturn\u001b[0m \u001b[0mx\u001b[0m \u001b[0;34m/\u001b[0m \u001b[0my\u001b[0m \u001b[0;31m# divide-by-zero error?\u001b[0m\u001b[0;34m\u001b[0m\u001b[0;34m\u001b[0m\u001b[0m\n\u001b[0m\u001b[1;32m      3\u001b[0m \u001b[0;34m\u001b[0m\u001b[0m\n\u001b[1;32m      4\u001b[0m \u001b[0;32mdef\u001b[0m \u001b[0mtester\u001b[0m\u001b[0;34m(\u001b[0m\u001b[0my\u001b[0m\u001b[0;34m)\u001b[0m\u001b[0;34m:\u001b[0m\u001b[0;34m\u001b[0m\u001b[0;34m\u001b[0m\u001b[0m\n\u001b[1;32m      5\u001b[0m   \u001b[0;32mtry\u001b[0m\u001b[0;34m:\u001b[0m\u001b[0;34m\u001b[0m\u001b[0;34m\u001b[0m\u001b[0m\n",
            "\u001b[0;31mZeroDivisionError\u001b[0m: division by zero"
          ]
        }
      ]
    },
    {
      "cell_type": "markdown",
      "metadata": {
        "colab_type": "text",
        "id": "9uhRWd3mZ--V"
      },
      "source": [
        "*     Optional data\n",
        "  -      Provides extra exception details\n",
        "  -      Python passes None if no explicit data"
      ]
    },
    {
      "cell_type": "code",
      "metadata": {
        "id": "02KhUVgFZJPV",
        "colab_type": "code",
        "outputId": "0e95d81f-432d-449d-9c59-0c106c28ea0e",
        "colab": {
          "base_uri": "https://localhost:8080/",
          "height": 51
        }
      },
      "source": [
        "class myException(Exception):\n",
        "    def __init__(self, m):\n",
        "        self.message = m\n",
        "    def __str__(self):\n",
        "        return self.message\n",
        "\n",
        "def raiser1():\n",
        "  raise myException(\"hello\") # raise, pass data\n",
        "  \n",
        "def raiser2():\n",
        "  raise myException(\"world\") # raise, None implied\n",
        "  \n",
        "def tryer(func):\n",
        "  try:\n",
        "    func()\n",
        "  except myException as e:\n",
        "    print('got this:', e)\n",
        "    \n",
        "tryer(raiser1)\n",
        "tryer(raiser2)"
      ],
      "execution_count": 0,
      "outputs": [
        {
          "output_type": "stream",
          "text": [
            "got this: hello\n",
            "got this: world\n"
          ],
          "name": "stdout"
        }
      ]
    },
    {
      "cell_type": "markdown",
      "metadata": {
        "id": "XiMcmPBwZJPX",
        "colab_type": "text"
      },
      "source": [
        "###Class exceptions"
      ]
    },
    {
      "cell_type": "markdown",
      "metadata": {
        "id": "M7lM1z5oolMU",
        "colab_type": "text"
      },
      "source": [
        "-      Should use classes today: only option in 3.X, per BDFL\n",
        "-      Useful for catching categories of exceptions\n",
        "-      String exception match: same object (is identity)\n",
        "-      Class exception match: named class or subclass of it\n",
        "-      Class exceptions support exception hierarchies"
      ]
    },
    {
      "cell_type": "markdown",
      "metadata": {
        "id": "dKUCu7X6oh5n",
        "colab_type": "text"
      },
      "source": [
        "**General raise forms**\n",
        "\n",
        "```python\n",
        "raise Exception(string) # matches same string object\n",
        "raise Exception(string, data) # optional extra data (default=None)\n",
        "raise class, instance # matches class or its superclass\n",
        "raise instance # = instance.__class__, instance\n",
        "```"
      ]
    },
    {
      "cell_type": "code",
      "metadata": {
        "id": "cHGpWfHXZJPa",
        "colab_type": "code",
        "outputId": "efb0c2fa-08fd-4c28-f23f-c4dd5c8c3c35",
        "colab": {
          "base_uri": "https://localhost:8080/",
          "height": 51
        }
      },
      "source": [
        "class Super(Exception): pass\n",
        "class Sub(Super): pass\n",
        " \n",
        "def raiser1():\n",
        "  X = Super() # raise listed class instance\n",
        "  raise X\n",
        " \n",
        "def raiser2():\n",
        "  X = Sub() # raise instance of subclass\n",
        "  raise X\n",
        " \n",
        "for func in (raiser1, raiser2):\n",
        "  try:\n",
        "    func()\n",
        "  except Super: # match Super or a subclass\n",
        "    import sys\n",
        "    print('caught:', sys.exc_info()[0])\n",
        " \n"
      ],
      "execution_count": 0,
      "outputs": [
        {
          "output_type": "stream",
          "text": [
            "caught: <class '__main__.Super'>\n",
            "caught: <class '__main__.Sub'>\n"
          ],
          "name": "stdout"
        }
      ]
    },
    {
      "cell_type": "code",
      "metadata": {
        "id": "Ka2wQEFsptTY",
        "colab_type": "code",
        "outputId": "9edbca70-4bbb-41ce-ff51-025bfc5db78b",
        "colab": {
          "base_uri": "https://localhost:8080/",
          "height": 51
        }
      },
      "source": [
        "class MyBad(Exception):\n",
        "  def __init__(self, file, line):\n",
        "    self.file = file\n",
        "    self.line = line\n",
        "\n",
        "  def display(self):\n",
        "    print(self.file * 2)\n",
        "\n",
        "def parser():\n",
        "  raise MyBad('spam.txt', 5)\n",
        "\n",
        "try:\n",
        "  parser()\n",
        "except MyBad as X:\n",
        "  print(X.file, X.line)\n",
        "  X.display()"
      ],
      "execution_count": 0,
      "outputs": [
        {
          "output_type": "stream",
          "text": [
            "spam.txt 5\n",
            "spam.txtspam.txt\n"
          ],
          "name": "stdout"
        }
      ]
    },
    {
      "cell_type": "code",
      "metadata": {
        "id": "IpsPMo0aZJPh",
        "colab_type": "code",
        "outputId": "6d4491bd-bac5-4e08-f10b-b9c9925cd4be",
        "colab": {
          "base_uri": "https://localhost:8080/",
          "height": 34
        }
      },
      "source": [
        "# built-in file error numbers\n",
        "def parser():\n",
        "  open('nonesuch')\n",
        "\n",
        "try:\n",
        "  parser()\n",
        "except IOError as X:\n",
        "  print(X.errno, '=>', X.strerror)\n",
        " \n"
      ],
      "execution_count": 0,
      "outputs": [
        {
          "output_type": "stream",
          "text": [
            "2 => No such file or directory\n"
          ],
          "name": "stdout"
        }
      ]
    },
    {
      "cell_type": "markdown",
      "metadata": {
        "id": "SefxDguyqViI",
        "colab_type": "text"
      },
      "source": [
        "###Exception gotchas"
      ]
    },
    {
      "cell_type": "markdown",
      "metadata": {
        "id": "09ne5p30ZJPi",
        "colab_type": "text"
      },
      "source": [
        "**What to wrap in a try statement?**\n",
        "\n",
        "-      Things that commonly fail: files, sockets, etc.\n",
        "-      Calls to large functions, not code inside the function\n",
        "-      Anything that shouldnt kill your script\n",
        "-      Simple top-level scripts often should die on errors\n",
        "-      See also atexit module for shutdown time actions"
      ]
    },
    {
      "cell_type": "markdown",
      "metadata": {
        "id": "3-hfJ-VwqYgy",
        "colab_type": "text"
      },
      "source": [
        "**Catching too much?**\n",
        "\n",
        "-      Empty except clauses catch everything\n",
        "-      But may intercept error expected elsewhere\n",
        "```python\n",
        "try:\n",
        "[]\n",
        "except:\n",
        "[] # everything comes here: even sys.exit()!\n",
        "```"
      ]
    },
    {
      "cell_type": "markdown",
      "metadata": {
        "id": "NgE38k03ZJPk",
        "colab_type": "text"
      },
      "source": [
        "**Catching too little?**\n",
        "\n",
        "-      Specific except clauses only catch listed exceptions\n",
        "-      But need to be updated if add new exceptions later\n",
        "-      Class exceptions would help here: category name\n",
        "```python\n",
        "try:\n",
        "[]\n",
        "except (myerror1, myerror2): # what if I add a myerror3?\n",
        "[] # non-errors\n",
        "else:\n",
        "[] # assumed to be an error\n",
        "```\n",
        "\n",
        "**Solution: exception protocol design**"
      ]
    }
  ]
}