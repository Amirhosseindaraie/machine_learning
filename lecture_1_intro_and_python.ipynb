{
  "nbformat": 4,
  "nbformat_minor": 0,
  "metadata": {
    "colab": {
      "name": "lecture_1_intro_and_python.ipynb",
      "version": "0.3.2",
      "provenance": [],
      "include_colab_link": true
    },
    "kernelspec": {
      "name": "python3",
      "display_name": "Python 3"
    }
  },
  "cells": [
    {
      "cell_type": "markdown",
      "metadata": {
        "id": "view-in-github",
        "colab_type": "text"
      },
      "source": [
        "<a href=\"https://colab.research.google.com/github/fbeilstein/machine_learning/blob/master/lecture_1_intro_and_python.ipynb\" target=\"_parent\"><img src=\"https://colab.research.google.com/assets/colab-badge.svg\" alt=\"Open In Colab\"/></a>"
      ]
    },
    {
      "cell_type": "markdown",
      "metadata": {
        "id": "C1ClpO9ZpPQ7",
        "colab_type": "text"
      },
      "source": [
        "#Introduction"
      ]
    },
    {
      "cell_type": "markdown",
      "metadata": {
        "id": "x1TiA8pQqlCk",
        "colab_type": "text"
      },
      "source": [
        "#Machine learning landscape"
      ]
    },
    {
      "cell_type": "markdown",
      "metadata": {
        "id": "FDf029NSqgfK",
        "colab_type": "text"
      },
      "source": [
        "#Curriculum"
      ]
    },
    {
      "cell_type": "markdown",
      "metadata": {
        "id": "jH8kq00CrP6R",
        "colab_type": "text"
      },
      "source": [
        "**This course will consist of 3 main parts:**\n",
        "\n",
        "\n",
        "  * Intro\n",
        "  * Tools of ML\n",
        "  * Methods of ML\n",
        "---\n",
        "\n",
        "**I expect to cover:**\n",
        "\n",
        "---\n",
        "\n",
        "* Intro\n",
        "    - General Info, Python\n",
        "    - More about Python\n",
        "\n",
        "---\n",
        "\n",
        "  * Tools of ML\n",
        "   - NumPy Arrays\n",
        "   - Pandas\n",
        "   - MatPlotLib\n",
        "\n",
        "---\n",
        "\n",
        "  * Methods of ML\n",
        "    - Naive Bayes Classification\n",
        "    - Linear Regression\n",
        "    - Support Vector Machines\n",
        "    - Decision Trees and Random Forests\n",
        "    - Principal Component Analysis\n",
        "    - Manifold Learning\n",
        "    - k-Means Clustering\n",
        "    - Gaussian Mixture Models\n",
        "    - Kernel Density Estimation\n",
        "    - What's next: NNs and beyond\n"
      ]
    },
    {
      "cell_type": "markdown",
      "metadata": {
        "id": "OGtFUCE0qsPp",
        "colab_type": "text"
      },
      "source": [
        "#Instruments we will use"
      ]
    },
    {
      "cell_type": "markdown",
      "metadata": {
        "id": "GERxafEQq3Us",
        "colab_type": "text"
      },
      "source": [
        "#Python (expected to span for at least two lectures)"
      ]
    },
    {
      "cell_type": "markdown",
      "metadata": {
        "id": "GtUXjg-K6Isv",
        "colab_type": "text"
      },
      "source": [
        "##Types and Operators"
      ]
    },
    {
      "cell_type": "markdown",
      "metadata": {
        "id": "LEz6OAsA9xeg",
        "colab_type": "text"
      },
      "source": [
        "###Big picture"
      ]
    },
    {
      "cell_type": "markdown",
      "metadata": {
        "id": "rQb-oYda6-Oo",
        "colab_type": "text"
      },
      "source": [
        "**Preview: built-in objects**\n",
        " \n",
        "Object type | Example constants/usage\n",
        "---|---\n",
        "Numbers | 3.14, 1234, 999L, 3+4j, decimal\n",
        "Strings | 'spam', \"spam's\"\n",
        "Lists | [1, [2, 'three'], 4]\n",
        "Dictionaries | {'food':'spam', 'taste':'yum'}\n",
        "Tuples | (1,'spam', 4, 'U')\n",
        "Files | text = open('eggs', 'r').read()\n",
        "Others | sets, types, None, bool\n",
        "\n",
        " "
      ]
    },
    {
      "cell_type": "markdown",
      "metadata": {
        "id": "KOo9o26y86UG",
        "colab_type": "text"
      },
      "source": [
        "**Built-in Types**\n",
        "\n",
        "   * Key terms: “sequence”, “immutable”, “mapping”\n",
        "   * Key ideas: no fixed types, no fixed sizes, arbitrary nesting\n",
        "   * Full story: dir(object), help(object.method), manuals"
      ]
    },
    {
      "cell_type": "markdown",
      "metadata": {
        "id": "9jAeqlC09ZbA",
        "colab_type": "text"
      },
      "source": [
        "**Python program structure**\n",
        "\n",
        "   * Programs are composed of modules\n",
        "   * Modules contain statements\n",
        "   * Statements contain expressions\n",
        "   * Expressions create and process objects"
      ]
    },
    {
      "cell_type": "markdown",
      "metadata": {
        "id": "YXCVf2R-9gNc",
        "colab_type": "text"
      },
      "source": [
        "**Why use built-in types?**\n",
        "\n",
        "   * Python provides objects and supports extensions\n",
        "   * Built-in objects make simple programs easy to write\n",
        "   * Built-in objects are components of extensions\n",
        "   * Often more efficient than custom data structures"
      ]
    },
    {
      "cell_type": "markdown",
      "metadata": {
        "id": "VAGK4PhS9vPg",
        "colab_type": "text"
      },
      "source": [
        "###Numbers"
      ]
    },
    {
      "cell_type": "markdown",
      "metadata": {
        "id": "CMXHOEiZ90xQ",
        "colab_type": "text"
      },
      "source": [
        "**Standard types and operators**\n",
        "\n",
        "   * Integer, floating-point, hex/octal constants\n",
        "   * ‘long’ integer type with unlimited precision\n",
        "   * Built-in mathematical functions: ‘pow’, ‘abs’\n",
        "   * Utility modules: ‘random’, ‘math’\n",
        "   * Complex numbers, ‘**’ power operator"
      ]
    },
    {
      "cell_type": "markdown",
      "metadata": {
        "id": "EllIsjiW_ivP",
        "colab_type": "text"
      },
      "source": [
        "**Numeric Python (NumPy)**\n",
        "\n",
        "   * An optional extension, beyond core language\n",
        "   * For advanced numeric programming in Python\n",
        "   * Matrix object, interfaces to numeric libraries, etc.\n",
        "   * Plus SciPy, matplotlib, pypar, IPython shell, others\n",
        "   * Python + NumPy = open source MATLAB alternative"
      ]
    },
    {
      "cell_type": "markdown",
      "metadata": {
        "id": "XOCDrtwa_fg0",
        "colab_type": "text"
      },
      "source": [
        "**Numeric literals**\n",
        " \n",
        "Constant | Interpretation\n",
        "---|---\n",
        "1234, -24 | integers (C longs, 3.X: unlimited size)\n",
        "99999999L | 2.X long integers (unlimited size)\n",
        "1.23, 3.14e-10 | floating-point (C doubles)\n",
        "0o177,0x9f,0b101 | octal, hex, binary integer literals\n",
        "3+4j, 3.0+4.0j | complex number literals\n",
        "Decimal('0.11') | fixed-precision decimal (2.4+)\n",
        "Fraction(2, 3) | rational type (2.6+, 3.0+)"
      ]
    },
    {
      "cell_type": "markdown",
      "metadata": {
        "id": "oSPo6zHi_dCl",
        "colab_type": "text"
      },
      "source": [
        " **Python expressions**\n",
        "\n",
        "   * Usual algebraic operators: ‘+’ , ‘-’, ‘*’, ‘/’, . . .\n",
        "   * C’s bitwise operators: “<<”,  “&”, . . .\n",
        "   * Mixed types: converted up just as in C\n",
        "   * Parenthesis group sub-expressions"
      ]
    },
    {
      "cell_type": "markdown",
      "metadata": {
        "id": "9D8zXWeD_aFw",
        "colab_type": "text"
      },
      "source": [
        "**Numbers in action**\n",
        "\n",
        "   * Variables created when assigned\n",
        "   * Variables replaced with their value when used\n",
        "   * Variables must be assigned before used\n",
        "   * Expression results echoed back\n",
        "   * Mixed integer/float: casts up to float\n",
        "   * Integer division truncates (until 3.X: use // to force)"
      ]
    },
    {
      "cell_type": "code",
      "metadata": {
        "id": "wy7prWoa-3xM",
        "colab_type": "code",
        "outputId": "8bf49b60-bea7-46d2-fb51-faffa506c9c6",
        "colab": {
          "base_uri": "https://localhost:8080/",
          "height": 34
        }
      },
      "source": [
        "a = 3 # name created\n",
        "b = 4\n",
        "b / 2 + a # same as ((4 / 2) + 3)"
      ],
      "execution_count": 0,
      "outputs": [
        {
          "output_type": "execute_result",
          "data": {
            "text/plain": [
              "5.0"
            ]
          },
          "metadata": {
            "tags": []
          },
          "execution_count": 1
        }
      ]
    },
    {
      "cell_type": "code",
      "metadata": {
        "id": "sPupbNT-_CaM",
        "colab_type": "code",
        "outputId": "0c86a91a-4de2-4697-b1ce-6dd60f3b3930",
        "colab": {
          "base_uri": "https://localhost:8080/",
          "height": 34
        }
      },
      "source": [
        "b / (2.0 + a) # same as (4 / (2.0 + 3))"
      ],
      "execution_count": 0,
      "outputs": [
        {
          "output_type": "execute_result",
          "data": {
            "text/plain": [
              "0.8"
            ]
          },
          "metadata": {
            "tags": []
          },
          "execution_count": 2
        }
      ]
    },
    {
      "cell_type": "code",
      "metadata": {
        "id": "QNiEu1zT_Gqm",
        "colab_type": "code",
        "outputId": "9fef19aa-8931-4e4a-a343-4d09b109fdcd",
        "colab": {
          "base_uri": "https://localhost:8080/",
          "height": 34
        }
      },
      "source": [
        "1 / 2, 1 // 2 # / keeps remainder, // does not"
      ],
      "execution_count": 0,
      "outputs": [
        {
          "output_type": "execute_result",
          "data": {
            "text/plain": [
              "(0.5, 0)"
            ]
          },
          "metadata": {
            "tags": []
          },
          "execution_count": 3
        }
      ]
    },
    {
      "cell_type": "code",
      "metadata": {
        "id": "dsI9Tqj0_RdE",
        "colab_type": "code",
        "outputId": "9706f041-e8e1-4aa3-f576-927b4c930013",
        "colab": {
          "base_uri": "https://localhost:8080/",
          "height": 34
        }
      },
      "source": [
        "4 / 5.0"
      ],
      "execution_count": 0,
      "outputs": [
        {
          "output_type": "execute_result",
          "data": {
            "text/plain": [
              "0.8"
            ]
          },
          "metadata": {
            "tags": []
          },
          "execution_count": 4
        }
      ]
    },
    {
      "cell_type": "markdown",
      "metadata": {
        "id": "Cx3CuGQxAHcI",
        "colab_type": "text"
      },
      "source": [
        "###The dynamic typing"
      ]
    },
    {
      "cell_type": "code",
      "metadata": {
        "id": "XQm1uUPWPHM5",
        "colab_type": "code",
        "colab": {}
      },
      "source": [
        "a = 3 # Where are the missing declarations?"
      ],
      "execution_count": 0,
      "outputs": []
    },
    {
      "cell_type": "markdown",
      "metadata": {
        "id": "OHp22-DWAJkE",
        "colab_type": "text"
      },
      "source": [
        "   * Names versus objects\n",
        "\n",
        "   * Names are always “references” (pointers) to objects\n",
        "\n",
        "   * Names are created when first assigned (or so)\n",
        "\n",
        "   * Objects have types, names do not\n",
        "\n",
        "   * Each value is a distinct object (normally)\n",
        "\n",
        "   * Objects are pieces of memory with value + operations\n",
        "\n",
        "   * Shared references to mutables are open to side effects (on purpose)"
      ]
    },
    {
      "cell_type": "code",
      "metadata": {
        "id": "oICSlNgvdmxh",
        "colab_type": "code",
        "outputId": "01e3eb84-32c7-4f27-a2bf-b59d9d8ce995",
        "colab": {
          "base_uri": "https://localhost:8080/",
          "height": 34
        }
      },
      "source": [
        "x = 1\n",
        "x << 2 # shift left 2 bits"
      ],
      "execution_count": 0,
      "outputs": [
        {
          "output_type": "execute_result",
          "data": {
            "text/plain": [
              "4"
            ]
          },
          "metadata": {
            "tags": []
          },
          "execution_count": 13
        }
      ]
    },
    {
      "cell_type": "code",
      "metadata": {
        "id": "wEPqhV3EdqV5",
        "colab_type": "code",
        "outputId": "3109e1b2-0913-4724-d55c-0cd253c1e5d4",
        "colab": {
          "base_uri": "https://localhost:8080/",
          "height": 34
        }
      },
      "source": [
        "x | 2 # bitwise OR"
      ],
      "execution_count": 0,
      "outputs": [
        {
          "output_type": "execute_result",
          "data": {
            "text/plain": [
              "3"
            ]
          },
          "metadata": {
            "tags": []
          },
          "execution_count": 14
        }
      ]
    },
    {
      "cell_type": "code",
      "metadata": {
        "id": "CZ0NnhE4dtwh",
        "colab_type": "code",
        "outputId": "728179eb-bb0d-4cfc-8166-b5d54e9d4791",
        "colab": {
          "base_uri": "https://localhost:8080/",
          "height": 34
        }
      },
      "source": [
        "x & 1 # bitwise AND"
      ],
      "execution_count": 0,
      "outputs": [
        {
          "output_type": "execute_result",
          "data": {
            "text/plain": [
              "1"
            ]
          },
          "metadata": {
            "tags": []
          },
          "execution_count": 15
        }
      ]
    },
    {
      "cell_type": "markdown",
      "metadata": {
        "id": "1G-vdBEPdjEq",
        "colab_type": "text"
      },
      "source": [
        "**Long integers**\n",
        "\n",
        "   * int in 3.X Python\n",
        "   * Via ‘L’ suffix\n",
        "   * Some performance penalty\n",
        "   * Auto-converted to long if too big (“L” optional)"
      ]
    },
    {
      "cell_type": "code",
      "metadata": {
        "id": "d8iAP3FVdMws",
        "colab_type": "code",
        "outputId": "ea661095-f65c-4c72-fe08-502cf9fdf716",
        "colab": {
          "base_uri": "https://localhost:8080/",
          "height": 34
        }
      },
      "source": [
        "9999999999999999999999999999 + 1"
      ],
      "execution_count": 0,
      "outputs": [
        {
          "output_type": "execute_result",
          "data": {
            "text/plain": [
              "10000000000000000000000000000"
            ]
          },
          "metadata": {
            "tags": []
          },
          "execution_count": 12
        }
      ]
    },
    {
      "cell_type": "markdown",
      "metadata": {
        "id": "ci6BCWAZS22T",
        "colab_type": "text"
      },
      "source": [
        "**Decimal and Fraction extension types**"
      ]
    },
    {
      "cell_type": "code",
      "metadata": {
        "id": "ZKbKuc1USutm",
        "colab_type": "code",
        "outputId": "22253b2a-8870-4b3a-8d5d-124d2f86c075",
        "colab": {
          "base_uri": "https://localhost:8080/",
          "height": 34
        }
      },
      "source": [
        "0.1 + 0.1 + 0.1 - 0.3 "
      ],
      "execution_count": 0,
      "outputs": [
        {
          "output_type": "execute_result",
          "data": {
            "text/plain": [
              "5.551115123125783e-17"
            ]
          },
          "metadata": {
            "tags": []
          },
          "execution_count": 11
        }
      ]
    },
    {
      "cell_type": "code",
      "metadata": {
        "id": "gviLsQbXScPW",
        "colab_type": "code",
        "outputId": "0ba807fa-e548-4390-d8a3-c6fc48f91a08",
        "colab": {
          "base_uri": "https://localhost:8080/",
          "height": 34
        }
      },
      "source": [
        "from decimal import Decimal\n",
        "\n",
        "Decimal('0.1') + Decimal('0.1') + Decimal('0.1') - Decimal('0.3')"
      ],
      "execution_count": 0,
      "outputs": [
        {
          "output_type": "execute_result",
          "data": {
            "text/plain": [
              "Decimal('0.0')"
            ]
          },
          "metadata": {
            "tags": []
          },
          "execution_count": 9
        }
      ]
    },
    {
      "cell_type": "code",
      "metadata": {
        "id": "bcHCspc9SfjT",
        "colab_type": "code",
        "outputId": "84a80fa2-f42c-4dc9-c097-071dfe79a21e",
        "colab": {
          "base_uri": "https://localhost:8080/",
          "height": 34
        }
      },
      "source": [
        "Decimal('0.1') + Decimal('0.10') + Decimal('0.10') - Decimal('0.30')"
      ],
      "execution_count": 0,
      "outputs": [
        {
          "output_type": "execute_result",
          "data": {
            "text/plain": [
              "Decimal('0.00')"
            ]
          },
          "metadata": {
            "tags": []
          },
          "execution_count": 10
        }
      ]
    },
    {
      "cell_type": "code",
      "metadata": {
        "id": "zXJidzvMRzSW",
        "colab_type": "code",
        "outputId": "05c177a4-99fa-46af-8415-9fac22905649",
        "colab": {
          "base_uri": "https://localhost:8080/",
          "height": 34
        }
      },
      "source": [
        "from fractions import Fraction\n",
        "\n",
        "Fraction(1, 3) + Fraction(2, 8)"
      ],
      "execution_count": 0,
      "outputs": [
        {
          "output_type": "execute_result",
          "data": {
            "text/plain": [
              "Fraction(7, 12)"
            ]
          },
          "metadata": {
            "tags": []
          },
          "execution_count": 7
        }
      ]
    },
    {
      "cell_type": "code",
      "metadata": {
        "id": "8FImnn0bRq6Y",
        "colab_type": "code",
        "outputId": "082d885e-a14e-4645-ccd1-ca6699397644",
        "colab": {
          "base_uri": "https://localhost:8080/",
          "height": 34
        }
      },
      "source": [
        "Fraction(1, 10) + Fraction(1, 10) + Fraction(1, 10) - Fraction(3, 10)"
      ],
      "execution_count": 0,
      "outputs": [
        {
          "output_type": "execute_result",
          "data": {
            "text/plain": [
              "Fraction(0, 1)"
            ]
          },
          "metadata": {
            "tags": []
          },
          "execution_count": 8
        }
      ]
    },
    {
      "cell_type": "markdown",
      "metadata": {
        "id": "rcRZF0wnRAms",
        "colab_type": "text"
      },
      "source": [
        "**Python operators and precedence**\n",
        "\n",
        "   * Operators lower in table bind tighter (parens force order)\n",
        "   * Preview: all Python operators may be overloaded by Python classes and C extension types\n",
        "   * Added in Python 2.0: +=. *=, &=, …  augmented assignment statements, not operators\n",
        "   * Python 3.X: `X` → repr(X), X / Y → true div, X <> Y → X != Y\n",
        "   * Recent operator/expression additions:\n",
        "\n",
        "Operators | Description\n",
        "---|---\n",
        "x if y else z | Ternary if, same as 4-line if/else statement\n",
        "yield [from] x | Generator function’s iteration result (return can send one too)\n",
        "await x | For 3.5+ async def coroutines\n",
        "x @ y | Matrix multiply in 3.5+ (but not used by core Python itself!)\n",
        "[x, *iter] | Unpacks (flattens) objects in literals in 3.5+\n",
        "\n",
        "\n",
        "Operators | Description\n",
        "---|---\n",
        "x or y, lambda args: expr | Logical ‘or’ (y is only evaluated if x is false), anonymous function\n",
        "x and y | Logical ‘and’ (y is only evaluated if x is true)\n",
        "not x | Logical negation\n",
        "<, <=, >, >=, ==, <>, !=, is, is not, in, not in | Comparison operators, sequence membership\n",
        "x \\| y | Bitwise ‘or’\n",
        "x ^ y | Bitwise ‘exclusive or’\n",
        "x & y | Bitwise ‘and’\n",
        "x << y, x >> y | Shift x left or right by y bits\n",
        "x + y, x – y | Addition/concatenation, subtraction\n",
        "x * y, x / y, x % y, x // y | Multiply/repetition, divide, remainder/format, floor divide\n",
        "x ** y, -x, +x, ~x | Power, unary negation, identity, bitwise compliment\n",
        "x[i], x[i:j], x.y, x(...) | Indexing, slicing, qualification, function calls\n",
        "(...), [...], {...}, `...` | Tuple, list, dictionary, conversion to string"
      ]
    },
    {
      "cell_type": "markdown",
      "metadata": {
        "id": "Lb_x0dJ26Jy-",
        "colab_type": "text"
      },
      "source": [
        "##Basic Statements "
      ]
    },
    {
      "cell_type": "markdown",
      "metadata": {
        "id": "Z9vkw9-L6NtJ",
        "colab_type": "text"
      },
      "source": [
        "##Functions"
      ]
    },
    {
      "cell_type": "markdown",
      "metadata": {
        "id": "-SpTbdy16SJK",
        "colab_type": "text"
      },
      "source": [
        "##Modules"
      ]
    },
    {
      "cell_type": "markdown",
      "metadata": {
        "id": "-SqDKqxA6Vzl",
        "colab_type": "text"
      },
      "source": [
        "##Classes"
      ]
    },
    {
      "cell_type": "markdown",
      "metadata": {
        "id": "WHMf5OJz6xMp",
        "colab_type": "text"
      },
      "source": [
        "##Exceptions"
      ]
    }
  ]
}