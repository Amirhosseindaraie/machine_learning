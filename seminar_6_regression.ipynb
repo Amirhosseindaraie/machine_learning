{
  "nbformat": 4,
  "nbformat_minor": 0,
  "metadata": {
    "colab": {
      "name": "seminar_4.5_statistics.ipynb",
      "provenance": [],
      "machine_shape": "hm",
      "include_colab_link": true
    },
    "kernelspec": {
      "name": "python3",
      "display_name": "Python 3"
    }
  },
  "cells": [
    {
      "cell_type": "markdown",
      "metadata": {
        "id": "view-in-github",
        "colab_type": "text"
      },
      "source": [
        "<a href=\"https://colab.research.google.com/github/fbeilstein/machine_learning/blob/master/seminar_6_regression.ipynb\" target=\"_parent\"><img src=\"https://colab.research.google.com/assets/colab-badge.svg\" alt=\"Open In Colab\"/></a>"
      ]
    },
    {
      "cell_type": "markdown",
      "metadata": {
        "id": "c7eWzzJOyZt9",
        "colab_type": "text"
      },
      "source": [
        "#Least squares regression derivation with MLE"
      ]
    },
    {
      "cell_type": "markdown",
      "metadata": {
        "id": "4OtrGDRQswbv",
        "colab_type": "text"
      },
      "source": [
        "In the lecture we assumed that in order to find the best line we should minimize sum of least squares $SS(fit)$.\n",
        "Can we derive it?\n",
        "\n",
        "Suppose that $x$ are not random variables and only $y$ is. This property is called **weak exogeneity**.\n",
        "In other words In other words weak exogeneity means that the predictor variables are assumed to be error-free—that is, not contaminated with measurement errors. \n",
        "\n",
        "Let's assume **linearity** of $y$ with respect to $x$:\n",
        "$$\n",
        "y=a+bx+\\epsilon \\\\\n",
        "\\epsilon \\sim \\mathcal{N}(0,\\,\\sigma^{2})\n",
        "$$\n",
        "\n",
        "![](https://raw.githubusercontent.com/fbeilstein/machine_learning/master/lecture_6/normal.png)\n",
        "\n",
        "Note that $\\sigma$ is constant for all $x$. This is the property of **constant variance** (a.k.a. homoscedasticity).\n",
        "Suppose also that errors $\\epsilon$ are **independent** random variables (iid).\n",
        "$$\n",
        "\\begin{aligned}\n",
        "L(a,b|\\mathbf{y})&=P(\\mathbf{y}|a,b)=\\prod_i P(y_i|a,b)=\\prod_i P(y_i-a-bx|a,b)=\\prod_i \\frac{1}{\\sqrt{2 \\pi \\sigma^2}} e^{-\\frac{(y_i-a-bx)^2}{2\\sigma^2}}=\\\\\n",
        "&=\\frac{1}{\\sqrt{2 \\pi \\sigma^2}}e^{-\\frac{\\sum_i (y_i-a-bx)^2}{2 \\sigma^2}}.\n",
        "\\end{aligned}\n",
        "$$\n",
        "$$\n",
        "l(a,b|\\mathbf{y})=\\log{L(a,b|\\mathbf{y})}=...\n",
        "$$\n",
        "\n",
        "Continue calculation to show that MLE lead to minimization of SS(a,b).\n",
        "By this example we have learned that Least Squares regression is aplicable under following assumptions:\n",
        "* weak exogeneity\n",
        "* linearity\n",
        "* constant variance\n",
        "* independence\n",
        "* lack of perfect multicollinearity (we have not covered this)"
      ]
    },
    {
      "cell_type": "markdown",
      "metadata": {
        "id": "ZHXQzKs727aZ",
        "colab_type": "text"
      },
      "source": [
        "#Ridge regression derivation with MAP"
      ]
    },
    {
      "cell_type": "markdown",
      "metadata": {
        "id": "ezSPO1eWys9s",
        "colab_type": "text"
      },
      "source": [
        "Suppose we are in the Bayesian setup and we have a prior (an intuition) that\n",
        "\n",
        "$$\n",
        "b \\sim \\mathcal{N}(0,\\,\\tau^{2})\n",
        "$$\n",
        "\n",
        "where $\\tau$ is fixed. \n",
        "\n",
        "$$\n",
        "P(b)=\\frac{1}{\\sqrt{2 \\pi \\sigma^2}}e^{-\\frac{b^2}{2\\tau^2}}\n",
        "$$\n",
        "\n",
        "Now we have to minimize\n",
        "\n",
        "$$\n",
        "L(a,b|\\mathbf{y})=P(\\mathbf{y}|a,b)P(b)=\\left(\\prod_i \\frac{1}{\\sqrt{2 \\pi \\sigma^2}} e^{-\\frac{(y_i-a-bx)^2}{2\\sigma^2}}\\right)\\frac{1}{\\sqrt{2 \\pi \\tau^2}}e^{\\frac{b^2}{2\\tau^2}}\n",
        "$$\n",
        "Now logaritmic likelihood function reads as\n",
        "$$\n",
        "l(a,b|\\mathbf{y})=\\log{L(a,b|\\mathbf{y})}=...+\\log{\\frac{1}{\\sqrt{2 \\pi \\tau^2}}}+\\frac{b^2}{2\\tau^2}\n",
        "$$"
      ]
    },
    {
      "cell_type": "markdown",
      "metadata": {
        "id": "d7i7TQds5QbP",
        "colab_type": "text"
      },
      "source": [
        "#Lasso regression derivation with MAP\n",
        "\n",
        "Suppose now Laplace prior for $b$\n",
        "\n",
        "$$\n",
        "P(b)\\sim e^{-\\alpha|b|}\n",
        "$$\n",
        "\n",
        "Show that MAP leads ro lasso regression.\n",
        "This approach was described also Tibshirani (1996) who noticed that robust Lasso regression in Bayesian setting is equivalent to using Laplace prior. Such prior for coefficients are centered around zero (with centered variables) and has wide tails - so most regression coefficients estimated using it end up being exactly zero. This is clear if you look closely at the picture below, Laplace distribution has a peak around zero (there is a greater distribution mass), while Normal distribution is more diffuse around zero, so non-zero values have greater probability mass.\n",
        "\n",
        "![](https://raw.githubusercontent.com/fbeilstein/machine_learning/master/lecture_6/42XfA.png)"
      ]
    },
    {
      "cell_type": "markdown",
      "metadata": {
        "id": "bKDPUiqB2Qd7",
        "colab_type": "text"
      },
      "source": [
        "#Regression line and the center of mass\n",
        "\n",
        "Show that the regression line always passes through the center of mass (aka point of averages) of the point cloud - the point  (⟨x⟩,⟨y⟩) ."
      ]
    },
    {
      "cell_type": "markdown",
      "metadata": {
        "id": "76aPMBSzNoSz",
        "colab_type": "text"
      },
      "source": [
        "#Simple linear regression"
      ]
    },
    {
      "cell_type": "markdown",
      "metadata": {
        "id": "QV7sTfcNNApG",
        "colab_type": "text"
      },
      "source": [
        "Here are the heights in inches of 1,078 fathers and their full-grown sons, in England, circa 1900.\n",
        "This is data from the famous historical study of Karl Pearson on the heritability of height ([On the laws of inheritance in man](https://sci-hub.tw/http://dx.doi.org/10.1093/biomet/2.4.357)).\n",
        "\n",
        "BTW, $1\\, inch  = 2.54 \\, cm.$"
      ]
    },
    {
      "cell_type": "code",
      "metadata": {
        "id": "ENT1pdN3IIVO",
        "colab_type": "code",
        "outputId": "8c31b457-9709-46d5-955a-e1746f3edfd7",
        "colab": {
          "base_uri": "https://localhost:8080/",
          "height": 291
        }
      },
      "source": [
        "import matplotlib.pyplot as plt\n",
        "import seaborn as sns; sns.set()\n",
        "import numpy as np\n",
        "from sklearn.linear_model import LinearRegression\n",
        "\n",
        "fathers=np.array([65., 63.3, 65., 65.8, 61.1, 63., 65.4, 64.7, 66.1, 67., 59., 62.9, 63.7, 64.1, 64.7, 65.2, 66.4, 65.6, 67.4, 66.8, 67.8, 69.5, 62.5, 63.8, 64.5, 65., 64.7, 65.7, 65.5, 65.6, 66.9, 66.6, 66.5, 67.9, 68.3, 67.7, 68.5, 69.4, 71.8, 62.4, 64.5, 64.5, 63.9, 65.4, 65., 65.7, 68.7, 66.5, 64.9, 69.6, 64.8, 65.3, 65.8, 65.8, 65.6, 65.9, 65.8, 67.1, 66.6, 67.4, 67.3, 66.6, 68.2, 67.8, 68.3, 68.1, 69., 68.9, 69.6, 70.4, 70., 72.8, 62.8, 62.9, 63.9, 64.5, 64.5, 66., 65.8, 66., 65.5, 65.7, 66.8, 66.7, 67., 66.9, 66.8, 67.1, 67.7, 68.3, 67.6, 68.4, 67.7, 68.7, 69.3, 68.7, 69.1, 69.3, 68.6, 69.6, 70.4, 71.2, 70.8, 71.7, 73.3, 63., 63.7, 65.4, 64.6, 66.4, 65.8, 65.7, 66.1, 66.5, 66.6, 66.6, 67.7, 68.5, 67.8, 67.6, 68.1, 69.2, 68.7, 68.6, 68.6, 68.6, 70.4, 70., 70.1, 70.2, 71.3, 70.9, 72.2, 75., 64.9, 65.6, 65.7, 65.9, 65.9, 67.4, 67.5, 67.6, 68.5, 68.5, 68.1, 69.5, 69.1, 69.4, 69.4, 69.5, 70.2, 69.9, 70.4, 70.9, 71.3, 72.1, 72.2, 75.4, 64.5, 66.4, 65.6, 66.8, 66.9, 68.2, 67.5, 67.8, 69., 69.3, 68.7, 69.7, 70.3, 70., 70.2, 70.9, 71.2, 72.4, 73., 74.8, 67.4, 67.3, 67.8, 69.3, 68.7, 70., 69.8, 70.7, 71.1, 72.5, 72.5, 67.5, 68.2, 68.8, 69.9, 71.5, 70.8, 71.9, 63.1, 68.2, 70.1, 70.8, 72.6, 67.9, 67.5, 72.8, 62.7, 68.2, 65.1, 73.4, 62.9, 62.5, 69.9, 71.1, 71.1, 69.5, 70.2, 65.5, 62., 63.6, 65.6, 68., 61.8, 63.8, 64.9, 65.8, 66.4, 68.8, 61.8, 64.3, 63.7, 65., 65.3, 64.8, 65.7, 66., 67., 67.8, 69., 62.2, 62.8, 63.9, 65.4, 64.6, 65.6, 66.2, 66., 65.8, 67.4, 67.1, 67.3, 67.9, 68.3, 68., 68.7, 71.2, 62.4, 62.9, 64.1, 63.9, 64.8, 65.4, 64.8, 68.7, 65.2, 64.3, 66.1, 69., 64.5, 66.1, 65.7, 66.5, 65.6, 66.4, 67.3, 66.8, 66.7, 67.3, 67.4, 67.9, 67.8, 68.1, 68.3, 68.8, 69.4, 69.3, 70.5, 70.1, 70.6, 62.4, 63.2, 63.5, 63.9, 64.6, 64.9, 65.9, 66.2, 66.5, 65.5, 66.9, 67.1, 66.8, 67.2, 66.5, 67., 66.6, 68.2, 67.6, 68.3, 68., 69., 69.3, 68.9, 68.9, 69.4, 69.5, 70.3, 69.9, 70.7, 70.6, 72.4, 72.5, 62.7, 63.9, 64.5, 64.8, 65.4, 65.8, 66.3, 65.8, 66.8, 67.2, 67.3, 67.5, 67.9, 68.4, 67.6, 68.5, 68.6, 69.1, 68.6, 69.2, 68.6, 68.5, 69.7, 70.4, 70., 70.3, 71.3, 71.3, 72.6, 64.4, 64.9, 66.3, 66., 65.7, 66.7, 66.6, 68.3, 67.9, 68., 68.3, 68.8, 69.1, 69., 69.4, 69.8, 69.6, 70.5, 69.9, 71., 71.2, 71.5, 71.6, 73.2, 63.9, 66., 66., 67.5, 66.7, 68.3, 67.7, 68.3, 68.4, 69.1, 69.1, 69.7, 70., 69.6, 70., 70.9, 70.6, 72.3, 71.5, 73., 66.2, 67.3, 67.8, 69.1, 69.4, 69.6, 70.1, 70.2, 71.3, 72.1, 72.3, 67.1, 67.9, 69.1, 69.6, 69.7, 70.5, 72.4, 72.8, 68.1, 68.6, 71.3, 72.1, 74.7, 71.2, 68.3, 60.4, 63.9, 63.1, 64., 73.9, 72., 61., 65.4, 72., 71.3, 65.2, 68.9, 64.5, 64., 66.5, 67.1, 62.3, 63.8, 65.4, 65.6, 66.2, 67.6, 60.2, 63., 63.6, 65.2, 65.1, 64.8, 66.2, 66.2, 66.6, 68., 69., 62.1, 63.2, 64.5, 63.8, 64.6, 64.6, 66.1, 66., 65.7, 67.1, 67.3, 67.2, 68.4, 67.6, 67.6, 68.5, 70., 61.1, 62.7, 64.3, 64.1, 63.7, 64.7, 64.7, 68., 64.6, 66.1, 65.3, 69.7, 65.3, 65.5, 66.1, 66.2, 66., 66., 65.9, 67.1, 67., 67.4, 67.4, 67.3, 68.3, 68.3, 67.6, 68.2, 69.1, 68.8, 70.5, 70., 69.5, 61.5, 62.9, 64.1, 63.9, 65.1, 64.6, 65.9, 66.2, 65.7, 66.1, 66.3, 67.2, 66.9, 66.9, 66.6, 67.2, 67.1, 67.9, 67.9, 67.8, 67.9, 68.6, 68.6, 69., 69., 69.1, 68.5, 70.2, 69.8, 69.9, 71.5, 72.4, 71.9, 61., 63., 64.6, 65.4, 64.8, 65.5, 65.6, 66.1, 67.4, 66.6, 67.4, 67.2, 68.2, 67.9, 68., 67.7, 68.9, 68.7, 69.1, 68.8, 68.8, 69.3, 69.6, 69.8, 70.2, 70.1, 71.1, 71.4, 71.8, 64.4, 65.2, 66.1, 65.8, 65.5, 66.7, 67.2, 67.2, 68.1, 67.9, 68.2, 69.3, 68.8, 69.2, 68.7, 69.5, 70., 69.7, 70.2, 70.8, 70.9, 71.3, 72.3, 72.8, 64.4, 64.9, 65.8, 67.4, 67.4, 67.9, 67.9, 68.5, 67.6, 69.4, 69.3, 69.5, 70.2, 70., 69.8, 69.6, 71.5, 72.2, 72.4, 72.5, 64.7, 66.8, 67.8, 68.2, 69.2, 68.9, 70.1, 70.1, 71., 71.4, 72., 72.7, 68., 69., 68.9, 69.6, 71.2, 72., 72.9, 65.9, 68.5, 70.7, 72.3, 72.6, 68.8, 73.5, 70.1, 67.9, 64.7, 60.8, 74.9, 70.6, 60.9, 65.3, 71.4, 71.7, 62.7, 71.4, 66.6, 67.2, 62.5, 64.9, 66.9, 62.4, 63.6, 65.4, 65., 66.4, 66.7, 59.5, 63., 64.1, 64.1, 64.5, 65.2, 66.3, 66., 66.8, 68.2, 68.7, 61.3, 63.3, 63.9, 64.1, 64.8, 64.6, 66.2, 66.5, 66.4, 67.3, 67.4, 67.3, 67.7, 68.4, 67.8, 69.3, 69.7, 60., 62.1, 63.6, 63.8, 64.5, 64.7, 65.4, 65.1, 69.3, 67.7, 64.9, 69.5, 65.1, 65., 65.6, 65.9, 65.7, 65.9, 65.9, 67.4, 66.5, 67.4, 67.2, 67.3, 68.1, 68., 68., 68.4, 68.8, 69.5, 70.2, 69.7, 70.2, 61.1, 62.7, 64.3, 64.3, 65., 64.8, 66.2, 66.1, 66.4, 66.2, 65.9, 67., 67.5, 66.7, 66.7, 67.3, 67.1, 67.8, 68.4, 67.7, 68.1, 67.7, 69., 69.2, 69.3, 69.3, 68.8, 69.6, 69.6, 69.9, 70.6, 72.3, 71.6, 72.9, 63.3, 64.3, 65.1, 65.2, 65.9, 66., 65.6, 65.8, 66.9, 67., 67.4, 67.9, 67.8, 68.4, 68.3, 68.4, 68.7, 69., 69.3, 68.8, 68.9, 69.8, 69.7, 70.4, 70.3, 71., 71.3, 72., 63.3, 64.9, 65.7, 66.1, 66.5, 66.1, 66.7, 67.1, 67.6, 68.2, 68.3, 68.1, 69.2, 69.2, 68.5, 68.8, 69.7, 69.9, 70.5, 71.2, 70.6, 70.5, 72.4, 73.2, 64.1, 64.6, 65.7, 67.1, 66.8, 68.4, 68.3, 68.3, 68.4, 68.7, 68.7, 69., 70.2, 69.9, 70.2, 70.2, 71.4, 70.7, 72.4, 73., 64.7, 67.1, 67.8, 68.4, 69.2, 68.6, 69.9, 70.2, 70.5, 71., 71.8, 72.8, 68., 67.8, 69.3, 70.5, 71.4, 72.3, 71.9, 64.6, 67.8, 69.9, 70.9, 72.7, 69., 72.4, 69.1, 70.2, 72.4, 59.6, 73.3, 68.1, 63.2, 66., 71.5, 68.1, 65.3, 70.4, 68.4, 61.9, 65., 66.2, 59.5, 62.8, 63.9, 64.6, 65.6, 66.3, 70.6, 62.1, 64.4, 64.4, 64.9, 65.3, 65.2, 66.1, 66.1, 67.4, 67.8, 70.3, 63.2, 63.7, 64.1, 64.7, 65.1, 65.9, 65.7, 66., 67.3, 66.7, 66.6, 66.8, 68.2, 67.5, 68.4, 69.1, 70.8, 61.7, 63., 64.3, 63.9, 65.5, 64.7, 64.7, 67.5, 66.8, 65., 69.4, 63.7, 64.6, 66., 66., 66.5, 66.3, 65.7, 66.9, 66.7, 66.5, 67.1, 67., 67.6, 67.6, 67.5, 68.1, 68.6, 68.5, 69.2, 69.8, 69.9, 70.5, 62.8, 63.2, 64.4, 64.3, 64.7, 64.7, 66., 65.6, 65.8, 65.9, 66.6, 66.8, 66.8, 67.2, 67.1, 66.9, 68., 68., 68.3, 68.3, 68.2, 68.5, 68.5, 69.1, 69.2, 69.3, 69.4, 70.3, 69.7, 70.5, 71.3, 72.2, 72.3, 62.9, 63.9, 64.6, 65.5, 65.9, 66.3, 65.8, 66.5, 67.3, 67.4, 67.1, 68.5, 67.7, 68.1, 67.6, 67.8, 69.3, 69.1, 68.7, 69., 68.9, 68.8, 69.9, 70.5, 70., 69.8, 71.4, 71.1, 72.7, 65.3, 66., 65.5, 65.6, 65.9, 67.1, 66.9, 67.9, 67.7, 67.5, 68., 68.8, 69.4, 68.6, 69.1, 70.5, 69.9, 70., 69.6, 71., 70.6, 71.5, 71.6, 73.9, 65., 66.3, 65.9, 66.9, 67.2, 68.1, 67.6, 67.6, 69.4, 68.9, 69.1, 69.8, 70., 69.6, 70.3, 70.7, 70.9, 72.5, 73., 74.4, 67.4, 66.5, 68., 68.8, 69.3, 70.3, 70.2, 70.8, 70.7, 72.4, 72.4, 67.2, 67.8, 68.9, 70.4, 71.2, 71.4, 71.7, 72.6, 67.6, 68.6, 71., 72., 75.2, 73.1, 69.9, 65.5, 72.6, 72.2, 63.2, 73.3, 65.8, 67.7, 67., 71.3, 71.8, 70.7, 70.3]);\n",
        "sons=np.array([59.8, 63.2, 63.3, 62.8, 64.3, 64.2, 64.1, 64., 64.6, 64., 65.2, 65.4, 65.7, 65.4, 65.3, 64.8, 65., 65.5, 65.1, 65.5, 65.1, 65.5, 66.6, 66.4, 66.1, 66., 66., 66.5, 65.7, 66., 65.9, 65.9, 66.5, 65.8, 66.3, 66.1, 66.3, 66.3, 66.4, 67.2, 67.5, 67., 66.8, 67., 66.8, 69.3, 69.1, 61.7, 65.7, 69., 67.4, 67.2, 67.1, 67.3, 67.6, 67.5, 66.9, 67.6, 67.2, 66.8, 67.2, 67.5, 67.6, 67.2, 67.5, 67.4, 67.6, 67.3, 66.8, 66.7, 66.9, 67.6, 68., 68.5, 68., 68.3, 68.3, 68.3, 68.2, 68.5, 68.1, 68.3, 68., 68.6, 67.9, 68.1, 68.4, 67.9, 68.2, 68., 68.2, 67.9, 68.6, 68., 68.3, 67.9, 68.6, 68.2, 68.6, 68.1, 68.4, 67.8, 68.6, 67.9, 67.8, 68.8, 69.6, 69.7, 69.4, 69.7, 69.2, 69.5, 69.6, 69.3, 69.5, 68.7, 69.3, 69.2, 69.2, 69.5, 69.1, 68.9, 69.5, 69.3, 69.2, 68.7, 69.3, 68.9, 69.3, 69.2, 69.6, 69.1, 69.1, 69., 69.9, 70.1, 69.9, 70.3, 70.5, 70.5, 69.8, 70.4, 70., 69.8, 70.7, 70.2, 70.1, 70., 70.3, 69.8, 70., 69.9, 69.7, 70.1, 70., 70.7, 70., 70.1, 71.3, 70.8, 71.4, 71.2, 71.7, 71.4, 70.7, 71.3, 71., 71.3, 70.9, 71.3, 71.6, 71.2, 71., 71.4, 71.6, 71.1, 70.9, 71.7, 72.4, 71.9, 72.3, 72.2, 72.5, 72., 72.3, 72.5, 72.3, 72., 72.2, 72.8, 73., 72.9, 73.2, 73.6, 72.9, 73.2, 74.3, 74.4, 73.8, 73.9, 73.8, 75.6, 75.7, 77.2, 61.3, 74.3, 70.9, 75.3, 61.8, 64., 62.5, 73.7, 66.3, 62.2, 65.4, 64., 62.8, 63.5, 63.5, 62.9, 63.7, 63.7, 64.4, 63.7, 64.4, 64.3, 65.2, 65.1, 65.6, 64.9, 65.1, 65.2, 65.6, 65.6, 64.9, 65.4, 64.7, 65.8, 65.8, 66.7, 66.5, 66.4, 66.3, 66.2, 66.4, 66.7, 66.2, 66.4, 66.7, 65.8, 66.2, 66.3, 65.8, 66.3, 66.9, 66.8, 67.4, 67.7, 67.2, 67.3, 67.5, 69., 62., 64.1, 66., 65.8, 66.9, 66.8, 67., 67.4, 66.8, 67.3, 67.5, 67.2, 67.6, 66.9, 66.7, 67.2, 67.2, 66.8, 66.8, 67.5, 67.1, 67.1, 66.9, 67.5, 66.9, 67.7, 67.9, 68.7, 68.6, 68.4, 68.4, 68.4, 68.4, 67.9, 68.3, 68., 68.2, 68.6, 68.6, 67.8, 67.9, 68.2, 68., 67.9, 67.8, 68.6, 68.1, 67.9, 68.5, 68.6, 68.1, 68.1, 67.7, 68.4, 68.6, 68.3, 68.1, 68.4, 69.4, 69., 69.4, 68.9, 69.4, 69.3, 69., 69.6, 69.2, 69.7, 68.9, 69.1, 69., 69.2, 69.6, 68.8, 69.2, 69.1, 69., 69.3, 69.2, 68.9, 69.4, 68.7, 68.8, 69.4, 69.4, 69.5, 69.2, 70., 69.9, 70., 69.7, 69.8, 69.9, 70.3, 69.8, 69.9, 70.3, 70.7, 70.4, 70.4, 70.6, 70.2, 69.9, 70.2, 70.3, 70.3, 69.8, 70.5, 70., 69.7, 69.9, 70.9, 71.4, 71.2, 70.8, 70.7, 71.3, 70.9, 70.9, 70.9, 71.2, 71.3, 71.2, 71.4, 71.6, 71., 71.2, 71.4, 71.4, 70.9, 71.3, 72.1, 72., 72., 71.7, 71.9, 72.2, 72.3, 72.6, 72., 71.8, 71.8, 73.1, 73.4, 73.2, 73.4, 73.2, 72.9, 72.8, 73.3, 74., 74.6, 73.9, 74.6, 74.3, 75.1, 77.2, 60.8, 62.4, 66.4, 58.5, 70., 71., 65., 70.5, 69.2, 64.9, 68.8, 69.9, 62.5, 63.3, 63.5, 62.9, 63.9, 64.3, 64.2, 64.6, 64.3, 63.8, 65.7, 64.8, 65.6, 64.7, 64.8, 65.1, 65.6, 65.3, 65.1, 65.1, 64.8, 66., 66.4, 66.4, 66.3, 65.8, 66.1, 66.5, 66.3, 66.6, 66., 66.5, 66., 66.5, 66.4, 66.3, 66.3, 66.6, 66.8, 67.5, 67.2, 66.8, 67.3, 66.8, 66.9, 68.1, 63.6, 63.2, 65.7, 67.2, 67.4, 67.6, 67.2, 67.1, 66.8, 67.1, 66.9, 66.8, 67., 67.7, 67.6, 67.7, 67.3, 67., 67., 67.1, 67.2, 67.5, 67.7, 66.9, 67., 67.7, 68.5, 67.9, 67.8, 68.3, 68.2, 68.6, 67.8, 67.9, 67.7, 68., 68.1, 67.8, 68.1, 68.2, 68.6, 68.3, 68.4, 68.6, 68.3, 67.9, 67.7, 68.4, 68.1, 68., 68.2, 68.1, 68.5, 68.6, 67.7, 68.7, 68.6, 68.4, 69.1, 69.4, 69.5, 69.1, 69.6, 69.4, 69.2, 68.8, 69.1, 69., 69.1, 69.1, 68.7, 69., 69., 69.2, 68.8, 68.7, 69., 69.3, 69.4, 68.9, 69.3, 69.6, 69.4, 69., 69.5, 68.7, 69.2, 70.4, 70.1, 70.4, 70., 69.8, 70.4, 70., 70.3, 69.9, 70.7, 70.3, 69.7, 70.3, 70., 69.7, 70.2, 70., 70.3, 70.4, 69.8, 69.8, 70.5, 70., 70.6, 71.1, 71.2, 71., 70.9, 70.8, 71.5, 71.6, 70.8, 71., 71.6, 71.1, 71.5, 71.4, 71.5, 71., 71.6, 71.4, 71.2, 70.9, 71.5, 72.4, 72.6, 71.8, 72., 72., 72.4, 71.9, 72.1, 72.6, 72.5, 71.8, 72.6, 73.1, 73.2, 73.4, 73.4, 73.7, 72.8, 73., 74.7, 73.9, 74.4, 74., 73.9, 75.7, 76.1, 78.2, 61.9, 69.9, 62.3, 71.4, 71.6, 65.5, 71.9, 71.2, 64.5, 65.3, 69.6, 65.1, 61., 63.1, 63.6, 63.5, 63.8, 64.2, 64.7, 64.1, 64.4, 64.6, 64.8, 65.2, 65.6, 65.6, 64.9, 65.6, 65.7, 65.6, 65.1, 64.9, 65.7, 66.5, 66.2, 65.9, 66.3, 66.3, 66.2, 66.1, 66.2, 65.8, 66.6, 66.5, 66.3, 66.5, 66.3, 65.9, 66.6, 66.6, 67.3, 67.4, 67.5, 66.9, 67.1, 67., 66.9, 68.1, 67.5, 63., 67.4, 68.8, 66.9, 67.3, 67.2, 67.1, 67.1, 67.2, 66.7, 66.8, 67.4, 67.4, 67., 67.4, 66.9, 66.9, 66.8, 66.8, 67.2, 67.5, 67.7, 67.1, 67.6, 68., 68.7, 68.4, 68., 68.6, 68.5, 67.8, 68.1, 68.2, 68.5, 68.6, 68.7, 68.4, 68.5, 68.6, 67.9, 68., 68., 68.6, 68.1, 67.9, 68.6, 67.9, 68.6, 68.7, 68.4, 68.2, 68.3, 68.1, 67.8, 68.2, 68., 68., 68.1, 69.2, 69.2, 68.9, 69.3, 69.5, 69., 69.3, 69.6, 69.4, 69., 69.3, 69.1, 69.3, 69.3, 68.7, 69.5, 69.5, 68.9, 68.8, 69.4, 68.8, 69.1, 69.2, 69.3, 68.8, 69.1, 69.4, 68.7, 70.4, 70.5, 70.1, 69.8, 70.3, 70.3, 69.7, 70.1, 70.4, 69.9, 69.8, 69.9, 70.3, 70.2, 70.4, 70.4, 70.7, 69.7, 70.5, 70.5, 70.5, 70.5, 70.3, 70.3, 71.4, 71., 71.6, 70.9, 71.4, 71.5, 71.2, 71.6, 71.6, 71.3, 71.1, 71.5, 71., 71.5, 70.9, 71.4, 71.3, 71.2, 71.5, 70.8, 72.7, 72., 72.3, 72.2, 72.4, 72., 71.8, 72.5, 72.6, 71.9, 72.6, 72.4, 73.1, 73.6, 73.3, 73.1, 73.7, 73.6, 72.9, 73.9, 74.3, 73.9, 74.2, 74.5, 75.1, 76.4, 78.4, 61.2, 72.6, 64.9, 73., 71.8, 65.3, 60.9, 72.1, 71., 61.7, 67.5, 64.4, 63.3, 63.5, 63.7, 63.9, 63.9, 63.9, 64.1, 64.7, 64.4, 63.9, 64.8, 65.3, 65.2, 65.5, 65.2, 65.4, 65.6, 64.7, 64.8, 65.6, 65.4, 66.5, 65.7, 66.1, 66.3, 66.6, 66.4, 66.5, 66.3, 66.4, 66.3, 66.1, 66.5, 66.3, 66.1, 65.9, 65.7, 66.1, 67.6, 67.4, 67., 67.2, 67.2, 67.4, 67.4, 68.2, 62.7, 66.3, 65.7, 68.4, 67.5, 67.2, 67.2, 67.5, 66.9, 67.7, 67., 66.7, 66.8, 67.4, 66.9, 67.5, 66.9, 67., 66.9, 67., 67.1, 67.5, 67.5, 67.3, 67.6, 67.8, 68.1, 68.5, 68.6, 67.9, 68.6, 68.2, 68.3, 68.2, 68.2, 68.2, 68.6, 68.3, 68.7, 68.5, 67.7, 68., 67.8, 68.1, 68.6, 68.2, 68.2, 68.2, 68.1, 68.1, 68.5, 68.4, 68.2, 67.7, 67.9, 68.3, 68.3, 68.3, 69.6, 68.7, 68.9, 68.8, 69.1, 69., 69., 68.7, 69.5, 69.1, 69.1, 69.6, 69.4, 69.2, 68.8, 69., 69.5, 69.6, 69.4, 69.6, 69.4, 68.9, 68.7, 69.3, 68.7, 68.8, 69.5, 69.7, 69.7, 70.5, 70., 70.6, 70.5, 70., 69.9, 70.5, 69.9, 69.7, 70.6, 70.2, 70.3, 70.2, 70.5, 70.5, 70.2, 70., 70.2, 70.2, 70., 70.4, 70.4, 70.2, 70.2, 70.7, 71.5, 71.4, 71.2, 70.9, 71.3, 71.4, 71.2, 71.2, 71.2, 71., 71.4, 71.2, 71.6, 71.3, 71.5, 70.9, 71.5, 71.1, 70.9, 72.7, 71.8, 72.6, 72.5, 71.9, 72.2, 72.6, 72.3, 72.1, 72.3, 72.1, 72.8, 72.8, 73.5, 73.7, 72.8, 73.4, 73., 73.2, 74.5, 73.8, 73.8, 73.8, 73.8, 75.6, 77.2, 60.1, 76.8, 66.7, 58.8, 67.9, 61., 59.8, 70.8, 68.3, 69.3, 69.3, 67.]);\n",
        "\n",
        "model = LinearRegression(fit_intercept=True)\n",
        "plt.scatter(fathers, sons);\n",
        "model.fit(fathers.reshape(-1,1),sons.reshape(-1,1))\n"
      ],
      "execution_count": 0,
      "outputs": [
        {
          "output_type": "execute_result",
          "data": {
            "text/plain": [
              "LinearRegression(copy_X=True, fit_intercept=True, n_jobs=None, normalize=False)"
            ]
          },
          "metadata": {
            "tags": []
          },
          "execution_count": 17
        },
        {
          "output_type": "display_data",
          "data": {
            "image/png": "[encoded data removed]",
            "text/plain": [
              "<Figure size 432x288 with 1 Axes>"
            ]
          },
          "metadata": {
            "tags": []
          }
        }
      ]
    },
    {
      "cell_type": "markdown",
      "metadata": {
        "id": "qnDAThOfPz_p",
        "colab_type": "text"
      },
      "source": [
        "Determine\n",
        "\n",
        "* Average height of fathers and sons\n",
        "* Standard deviation of fathers and sons\n",
        "* Correllation coefficient\n",
        "* Slope and intersept of linear regression line\n",
        "* Coefficient of determination"
      ]
    },
    {
      "cell_type": "markdown",
      "metadata": {
        "id": "U6qCSibdrmGP",
        "colab_type": "text"
      },
      "source": [
        "#Coefficient of Determination\n",
        "\n",
        "Generate $3$ point clouds on a plane with different shapes which coefficient of detemination for simple linear regression is close to $0$."
      ]
    },
    {
      "cell_type": "markdown",
      "metadata": {
        "id": "8l13mJKw6Ffd",
        "colab_type": "text"
      },
      "source": [
        "#$sin$ regression and Taylor series"
      ]
    },
    {
      "cell_type": "markdown",
      "metadata": {
        "id": "aXOw4xZl6BJG",
        "colab_type": "text"
      },
      "source": [
        "Suupose you sampled $sin$ function"
      ]
    },
    {
      "cell_type": "code",
      "metadata": {
        "id": "u45vhWzI6eFc",
        "colab_type": "code",
        "outputId": "d13c71e9-768e-4299-f2a8-7c497291bc9d",
        "colab": {
          "base_uri": "https://localhost:8080/",
          "height": 286
        }
      },
      "source": [
        "import numpy as np\n",
        "import matplotlib.pyplot as plt\n",
        "from sklearn.pipeline import make_pipeline\n",
        "from sklearn.preprocessing import PolynomialFeatures\n",
        "from sklearn.linear_model import LinearRegression\n",
        "\n",
        "poly_model = make_pipeline(PolynomialFeatures(7), LinearRegression())\n",
        "\n",
        "rng = np.random.RandomState(1)\n",
        "N=100\n",
        "x = 10 * rng.rand(N)\n",
        "y = np.sin(x)\n",
        "plt.scatter(x, y)"
      ],
      "execution_count": 0,
      "outputs": [
        {
          "output_type": "execute_result",
          "data": {
            "text/plain": [
              "<matplotlib.collections.PathCollection at 0x7fa325d6d2e8>"
            ]
          },
          "metadata": {
            "tags": []
          },
          "execution_count": 8
        },
        {
          "output_type": "display_data",
          "data": {
            "image/png": "[encoded data removed]",
            "text/plain": [
              "<Figure size 432x288 with 1 Axes>"
            ]
          },
          "metadata": {
            "tags": []
          }
        }
      ]
    },
    {
      "cell_type": "markdown",
      "metadata": {
        "id": "-ur0dw2G7H6f",
        "colab_type": "text"
      },
      "source": [
        "You can approximate $sin$ with the polynomial."
      ]
    },
    {
      "cell_type": "code",
      "metadata": {
        "colab_type": "code",
        "outputId": "886daafd-fd4b-4a0a-e8fe-271b5b7d6429",
        "id": "J26wCTNF58Iy",
        "colab": {
          "base_uri": "https://localhost:8080/",
          "height": 269
        }
      },
      "source": [
        "poly_model.fit(x[:, np.newaxis], y)\n",
        "xfit = np.linspace(0, 10, 1000)\n",
        "yfit = poly_model.predict(xfit[:, np.newaxis])\n",
        "plt.scatter(x, y)\n",
        "plt.plot(xfit, yfit);\n",
        "\n"
      ],
      "execution_count": 0,
      "outputs": [
        {
          "output_type": "display_data",
          "data": {
            "image/png": "[encoded data removed]",
            "text/plain": [
              "<Figure size 432x288 with 1 Axes>"
            ]
          },
          "metadata": {
            "tags": []
          }
        }
      ]
    },
    {
      "cell_type": "markdown",
      "metadata": {
        "id": "vqlu7aem7vK_",
        "colab_type": "text"
      },
      "source": [
        "Its coefficients are"
      ]
    },
    {
      "cell_type": "code",
      "metadata": {
        "id": "WQ8haZDK7xuQ",
        "colab_type": "code",
        "outputId": "210c2dc1-0398-4117-855e-5210241340d0",
        "colab": {
          "base_uri": "https://localhost:8080/",
          "height": 51
        }
      },
      "source": [
        "coeffs = poly_model[1].coef_\n",
        "print(coeffs)"
      ],
      "execution_count": 0,
      "outputs": [
        {
          "output_type": "stream",
          "text": [
            "[ 0.00000000e+00  4.76502622e-01  9.43383248e-01 -8.31361918e-01\n",
            "  2.19572167e-01 -2.48601913e-02  1.20814081e-03 -1.86051194e-05]\n"
          ],
          "name": "stdout"
        }
      ]
    },
    {
      "cell_type": "markdown",
      "metadata": {
        "id": "74Sb1y8w8DY3",
        "colab_type": "text"
      },
      "source": [
        "Taylor expansion\n",
        "$$\n",
        "sin(x)=x-\\frac{x^3}{3!}+\\frac{x^5}{5!}-\\frac{x^7}{7!}+\\cdots \\approx x-0.167\\, x^3+0.0083\\, x^5+0.000198 \\, x^7.\n",
        "$$\n",
        "\n",
        "The coefficients do not look alike the coefficients we obtained.\n",
        "\n",
        "1) Maybe we got not enough points? Explore.\n",
        "\n",
        "\n",
        "2) Our polynomic expansion contains $x$s with even powers while $sin$ Taylor series has only odd powers of $x$. Maybe we could use Lasso regression to eliminate even powers and fix coefficients in front of the odd powers? Explore.\n",
        "\n",
        "3)Maybe there is something wrong with the interval $[0,10]$? Maybe its better to choose another interval? "
      ]
    },
    {
      "cell_type": "markdown",
      "metadata": {
        "id": "EXjIWVM3sdIv",
        "colab_type": "text"
      },
      "source": [
        "#Interpolation, regression, approximation\n",
        "\n",
        "Do you understand a difference between interpolation, regression, approximation? Can you give examples of each?"
      ]
    },
    {
      "cell_type": "markdown",
      "metadata": {
        "id": "PNoq83GZM7Qs",
        "colab_type": "text"
      },
      "source": [
        "#Dimension agjustment in Ridge Regression"
      ]
    },
    {
      "cell_type": "markdown",
      "metadata": {
        "id": "NPZVNwOHM8aB",
        "colab_type": "text"
      },
      "source": [
        "Here are $100$ points that we perform Ridge regression with polynomial basis function. We want to choose optimal order of polynomial $n$. For that after regression we calculate error fuction for Ridge regression\n",
        "\n",
        "$$\n",
        "E=SS(a,b)+E_2=\\sqrt{\\sum_i{(y_i-y_{\\text{prediction}})^2}}+\\alpha \\sum_i{w_i^2}.\n",
        "$$\n",
        "\n",
        "We want to find order of polynomial that minimizes $E$.\n",
        "\n",
        "If $\\alpha=0$ error function would decrease at first and will not depend on $n$ as $n > N$.\n",
        "If $\\alpha \\neq 0$ we have minimum for some $\\hat{n}$.\n",
        "\n",
        "Try out different functions that generate points\n",
        "* sin\n",
        "* polynomial\n",
        "\n",
        "Try different alphas\n",
        "* $\\alpha = 0$\n",
        "* $\\alpha\\neq 0$\n",
        "\n",
        "Also try Lasso Regression instead of Ridge Regression.\n",
        "\n",
        "Note, that minimum is often not sharp."
      ]
    },
    {
      "cell_type": "code",
      "metadata": {
        "id": "D8XzUoDMrc-O",
        "colab_type": "code",
        "outputId": "5bdea921-5540-4848-e73b-c1832c62941f",
        "colab": {
          "base_uri": "https://localhost:8080/",
          "height": 306
        }
      },
      "source": [
        "import numpy as np\n",
        "import matplotlib.pyplot as plt\n",
        "from sklearn.pipeline import make_pipeline\n",
        "from sklearn.preprocessing import PolynomialFeatures\n",
        "from sklearn.linear_model import LinearRegression\n",
        "\n",
        "def ss(y,y_pred):\n",
        "  sum = 0.0\n",
        "  for i in range(1,len(y)):\n",
        "    sum+=(y[i]-y_pred[i])**2 \n",
        "  return np.sqrt(sum)\n",
        "\n",
        "rng = np.random.RandomState(1)\n",
        "N = 100\n",
        "alpha = 5\n",
        "x = 10 * rng.rand(N)\n",
        "y = x**2\n",
        "\n",
        "def losses_n(x,y):\n",
        "  loss = []\n",
        "  n = range(1,20)\n",
        "  for order in n:\n",
        "    poly_model = make_pipeline(PolynomialFeatures(order), LinearRegression())\n",
        "    poly_model.fit(x[:, np.newaxis], y)\n",
        "    yfit = poly_model.predict(x[:, np.newaxis])\n",
        "    sum_squares = ss(y, yfit)\n",
        "    b = poly_model[1].coef_\n",
        "    temp = 0.0\n",
        "    for j in range(0,len(b)):\n",
        "      temp += np.abs(b[j]);\n",
        "    loss.append(sum_squares + alpha * temp)\n",
        "  return [n, loss]\n",
        "\n",
        "(x_out, y_out) = losses_n(x,y)\n",
        "plt.plot(x_out, y_out,'-o')\n",
        "print(y_out)\n",
        "\n"
      ],
      "execution_count": 0,
      "outputs": [
        {
          "output_type": "stream",
          "text": [
            "[124.1328303942125, 5.0000000000001545, 5.00000000000029, 5.000000000001853, 5.000000000000572, 5.0000000000141664, 5.000000000073075, 5.000000000995211, 5.00000000770333, 5.000000082010511, 5.000000504403298, 5.0000051489866335, 5.0000906668501, 8.370494868541522, 7.525574606813884, 7.447547578444054, 4.677537139276472, 5.533721204170048, 13.10182376545364]\n"
          ],
          "name": "stdout"
        },
        {
          "output_type": "display_data",
          "data": {
            "image/png": "[encoded data removed]",
            "text/plain": [
              "<Figure size 432x288 with 1 Axes>"
            ]
          },
          "metadata": {
            "tags": []
          }
        }
      ]
    },
    {
      "cell_type": "code",
      "metadata": {
        "id": "33LqIp03sC_k",
        "colab_type": "code",
        "colab": {}
      },
      "source": [
        ""
      ],
      "execution_count": 0,
      "outputs": []
    }
  ]
}