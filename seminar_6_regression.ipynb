{
  "nbformat": 4,
  "nbformat_minor": 0,
  "metadata": {
    "colab": {
      "name": "seminar_4.5_statistics.ipynb",
      "provenance": [],
      "machine_shape": "hm",
      "include_colab_link": true
    },
    "kernelspec": {
      "name": "python3",
      "display_name": "Python 3"
    }
  },
  "cells": [
    {
      "cell_type": "markdown",
      "metadata": {
        "id": "view-in-github",
        "colab_type": "text"
      },
      "source": [
        "<a href=\"https://colab.research.google.com/github/fbeilstein/machine_learning/blob/master/seminar_6_regression.ipynb\" target=\"_parent\"><img src=\"https://colab.research.google.com/assets/colab-badge.svg\" alt=\"Open In Colab\"/></a>"
      ]
    },
    {
      "cell_type": "markdown",
      "metadata": {
        "id": "bKDPUiqB2Qd7",
        "colab_type": "text"
      },
      "source": [
        "#Regression line and the center of mass\n",
        "\n",
        "Show that the regression line always passes through the center of mass of the point cloud - the point  (⟨x⟩,⟨y⟩) ."
      ]
    },
    {
      "cell_type": "markdown",
      "metadata": {
        "id": "U6qCSibdrmGP",
        "colab_type": "text"
      },
      "source": [
        "#Coefficient of Determination\n",
        "\n",
        "Generate $3$ point clouds on a plane with different shapes which coefficient of detemination for simple linear regression is close to $0$."
      ]
    },
    {
      "cell_type": "markdown",
      "metadata": {
        "id": "8l13mJKw6Ffd",
        "colab_type": "text"
      },
      "source": [
        "#$sin$ regression and Taylor series"
      ]
    },
    {
      "cell_type": "markdown",
      "metadata": {
        "id": "aXOw4xZl6BJG",
        "colab_type": "text"
      },
      "source": [
        "Suupose you sampled $sin$ function"
      ]
    },
    {
      "cell_type": "code",
      "metadata": {
        "id": "u45vhWzI6eFc",
        "colab_type": "code",
        "outputId": "d13c71e9-768e-4299-f2a8-7c497291bc9d",
        "colab": {
          "base_uri": "https://localhost:8080/",
          "height": 286
        }
      },
      "source": [
        "import numpy as np\n",
        "import matplotlib.pyplot as plt\n",
        "from sklearn.pipeline import make_pipeline\n",
        "from sklearn.preprocessing import PolynomialFeatures\n",
        "from sklearn.linear_model import LinearRegression\n",
        "\n",
        "poly_model = make_pipeline(PolynomialFeatures(7), LinearRegression())\n",
        "\n",
        "rng = np.random.RandomState(1)\n",
        "N=100\n",
        "x = 10 * rng.rand(N)\n",
        "y = np.sin(x)\n",
        "plt.scatter(x, y)"
      ],
      "execution_count": 0,
      "outputs": [
        {
          "output_type": "execute_result",
          "data": {
            "text/plain": [
              "<matplotlib.collections.PathCollection at 0x7fa325d6d2e8>"
            ]
          },
          "metadata": {
            "tags": []
          },
          "execution_count": 8
        },
        {
          "output_type": "display_data",
          "data": {
            "image/png": "[encoded data removed]",
            "text/plain": [
              "<Figure size 432x288 with 1 Axes>"
            ]
          },
          "metadata": {
            "tags": []
          }
        }
      ]
    },
    {
      "cell_type": "markdown",
      "metadata": {
        "id": "-ur0dw2G7H6f",
        "colab_type": "text"
      },
      "source": [
        "You can approximate $sin$ with the polynomial."
      ]
    },
    {
      "cell_type": "code",
      "metadata": {
        "colab_type": "code",
        "outputId": "886daafd-fd4b-4a0a-e8fe-271b5b7d6429",
        "id": "J26wCTNF58Iy",
        "colab": {
          "base_uri": "https://localhost:8080/",
          "height": 269
        }
      },
      "source": [
        "poly_model.fit(x[:, np.newaxis], y)\n",
        "xfit = np.linspace(0, 10, 1000)\n",
        "yfit = poly_model.predict(xfit[:, np.newaxis])\n",
        "plt.scatter(x, y)\n",
        "plt.plot(xfit, yfit);\n",
        "\n"
      ],
      "execution_count": 0,
      "outputs": [
        {
          "output_type": "display_data",
          "data": {
            "image/png": "[encoded data removed]",
            "text/plain": [
              "<Figure size 432x288 with 1 Axes>"
            ]
          },
          "metadata": {
            "tags": []
          }
        }
      ]
    },
    {
      "cell_type": "markdown",
      "metadata": {
        "id": "vqlu7aem7vK_",
        "colab_type": "text"
      },
      "source": [
        "Its coefficients are"
      ]
    },
    {
      "cell_type": "code",
      "metadata": {
        "id": "WQ8haZDK7xuQ",
        "colab_type": "code",
        "outputId": "210c2dc1-0398-4117-855e-5210241340d0",
        "colab": {
          "base_uri": "https://localhost:8080/",
          "height": 51
        }
      },
      "source": [
        "coeffs = poly_model[1].coef_\n",
        "print(coeffs)"
      ],
      "execution_count": 0,
      "outputs": [
        {
          "output_type": "stream",
          "text": [
            "[ 0.00000000e+00  4.76502622e-01  9.43383248e-01 -8.31361918e-01\n",
            "  2.19572167e-01 -2.48601913e-02  1.20814081e-03 -1.86051194e-05]\n"
          ],
          "name": "stdout"
        }
      ]
    },
    {
      "cell_type": "markdown",
      "metadata": {
        "id": "74Sb1y8w8DY3",
        "colab_type": "text"
      },
      "source": [
        "Taylor expansion\n",
        "$$\n",
        "sin(x)=x-\\frac{x^3}{3!}+\\frac{x^5}{5!}-\\frac{x^7}{7!}+\\cdots \\approx x-0.167\\, x^3+0.0083\\, x^5+0.000198 \\, x^7.\n",
        "$$\n",
        "\n",
        "The coefficients do not look alike the coefficients we obtained.\n",
        "\n",
        "1) Maybe we got not enough points? Explore.\n",
        "\n",
        "\n",
        "2) Our polynomic expansion contains $x$s with even powers while $sin$ Taylor series has only odd powers of $x$. Maybe we could use Lasso regression to eliminate even powers and fix coefficients in front of the odd powers? Explore.\n",
        "\n",
        "3)Maybe there is something wrong with the interval $[0,10]$? Maybe its better to choose another interval? "
      ]
    },
    {
      "cell_type": "markdown",
      "metadata": {
        "id": "EXjIWVM3sdIv",
        "colab_type": "text"
      },
      "source": [
        "#Interpolation, regression, approximation\n",
        "\n",
        "Do you understand a difference between interpolation, regression, approximation? Can you give examples of each?"
      ]
    }
  ]
}