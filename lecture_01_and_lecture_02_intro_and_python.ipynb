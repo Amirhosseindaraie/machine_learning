{
  "nbformat": 4,
  "nbformat_minor": 0,
  "metadata": {
    "colab": {
      "name": "lecture_01_and_lecture_02_intro_and_python.ipynb",
      "provenance": [],
      "toc_visible": true,
      "include_colab_link": true
    },
    "kernelspec": {
      "name": "python3",
      "display_name": "Python 3"
    }
  },
  "cells": [
    {
      "cell_type": "markdown",
      "metadata": {
        "id": "view-in-github",
        "colab_type": "text"
      },
      "source": [
        "<a href=\"https://colab.research.google.com/github/fbeilstein/machine_learning/blob/master/lecture_01_and_lecture_02_intro_and_python.ipynb\" target=\"_parent\"><img src=\"https://colab.research.google.com/assets/colab-badge.svg\" alt=\"Open In Colab\"/></a>"
      ]
    },
    {
      "cell_type": "markdown",
      "metadata": {
        "id": "C1ClpO9ZpPQ7",
        "colab_type": "text"
      },
      "source": [
        "#Introduction"
      ]
    },
    {
      "cell_type": "markdown",
      "metadata": {
        "id": "tpxymM-0_Kto",
        "colab_type": "text"
      },
      "source": [
        "* This is a semester-long course\n",
        "* I will build it as an \"overview course\":\n",
        "   - This course is broad and shallow, but I will provide additional links so that you can deepen your understanding of the ML method you need\n",
        "   - I will not expect you to remember anything, but I expect you to google whatever we will need"
      ]
    },
    {
      "cell_type": "markdown",
      "metadata": {
        "id": "x1TiA8pQqlCk",
        "colab_type": "text"
      },
      "source": [
        "#Machine learning landscape"
      ]
    },
    {
      "cell_type": "markdown",
      "metadata": {
        "id": "Gv9o-76_vxbL",
        "colab_type": "text"
      },
      "source": [
        "ML is treated as a part of AI.\n",
        "It certainly arouse from research in this context, but anyway it's not the best way to think about it."
      ]
    },
    {
      "cell_type": "markdown",
      "metadata": {
        "id": "7Twxz81NvfrW",
        "colab_type": "text"
      },
      "source": [
        "**ML placement according to Goodfellow I.**\n",
        "\n",
        "![ML position](https://raw.githubusercontent.com/fbeilstein/machine_learning/master/lecture_01_and_lecture_02_intro_and_python/ML_place_Venn_diag.png)"
      ]
    },
    {
      "cell_type": "markdown",
      "metadata": {
        "id": "_5f8zyGnwGXg",
        "colab_type": "text"
      },
      "source": [
        "In the data science application of machine learning methods, it's more helpful to think of machine learning as a means of building models of\n",
        "data.\n",
        "* Fundamentally, machine learning involves building mathematical models to help\n",
        "understand data\n",
        "* \"Learning\" = giving these models tunable\n",
        "parameters that can be adapted to observed data (*I'll better say it sooner than later*)\n",
        "* Once these models have been fit to previously\n",
        "seen data, they can be used to predict and understand aspects of newly observed data"
      ]
    },
    {
      "cell_type": "markdown",
      "metadata": {
        "id": "iwAHHpEZ5bPz",
        "colab_type": "text"
      },
      "source": [
        "\"Traditional\" program | ML program\n",
        "---|---\n",
        "![alt text](https://raw.githubusercontent.com/fbeilstein/machine_learning/master/lecture_01_and_lecture_02_intro_and_python/simple_program.png) | ![alt text](https://raw.githubusercontent.com/fbeilstein/machine_learning/master/lecture_01_and_lecture_02_intro_and_python/ml_program.png)"
      ]
    },
    {
      "cell_type": "markdown",
      "metadata": {
        "id": "aqqIEQBqpx8S",
        "colab_type": "text"
      },
      "source": [
        "**Machine Learning is great for**\n",
        "* problems for which existing solutions require a lot of hand-tuning or long lists of\n",
        "rules: one Machine Learning algorithm can often simplify code and perform better.\n",
        "* complex problems for which there is no good solution at all using a traditional approach: the best Machine Learning techniques can find a solution.\n",
        "* fluctuating environments: a Machine Learning system can adapt to new data.\n",
        "* and getting insights about complex problems and large amounts of data."
      ]
    },
    {
      "cell_type": "markdown",
      "metadata": {
        "id": "gapQzX0m6MKh",
        "colab_type": "text"
      },
      "source": [
        "**ML program can adapt to new data without proctoring**\n",
        "\n",
        "![alt text](https://raw.githubusercontent.com/fbeilstein/machine_learning/master/lecture_01_and_lecture_02_intro_and_python/ml_after_deploy.png)"
      ]
    },
    {
      "cell_type": "markdown",
      "metadata": {
        "id": "4y39TYBn6eOV",
        "colab_type": "text"
      },
      "source": [
        "**Understand problem better with ML**\n",
        "\n",
        "![alt text](https://raw.githubusercontent.com/fbeilstein/machine_learning/master/lecture_01_and_lecture_02_intro_and_python/ml_helps_understanding.png)"
      ]
    },
    {
      "cell_type": "markdown",
      "metadata": {
        "id": "V2KQW03f3Hos",
        "colab_type": "text"
      },
      "source": [
        "* Supervised learning (classification, etc.)\n",
        "  - k-Nearest Neighbors\n",
        "  - Linear Regression\n",
        "  - Logistic Regression\n",
        "  - Support Vector Machines (SVMs)\n",
        "  - Decision Trees and Random Forests\n",
        "  - Some Neural Networks\n",
        "* Unsupervised learning (clustering, etc.)\n",
        "  - Clustering\n",
        "    * k-Means\n",
        "    * Hierarchical Cluster Analysis (HCA)\n",
        "    * Expectation Maximization\n",
        "  - Visualization and dimensionality reduction\n",
        "    * Principal Component Analysis (PCA)\n",
        "    * Kernel PCA\n",
        "    * Locally-Linear Embedding (LLE)\n",
        "    * t-distributed Stochastic Neighbor Embedding (t-SNE)\n",
        "  - Association rule learning\n",
        "    * Apriori\n",
        "    * Eclat\n",
        "* Semi-supervised learning (when partial labels are accessible, etc.)\n",
        "* Reinforcement learning (play Atari game, etc.)"
      ]
    },
    {
      "cell_type": "markdown",
      "metadata": {
        "id": "3OCgpl139uWj",
        "colab_type": "text"
      },
      "source": [
        "![ML position](https://raw.githubusercontent.com/fbeilstein/machine_learning/master/lecture_01_and_lecture_02_intro_and_python/reinforcement_learning.png)"
      ]
    },
    {
      "cell_type": "markdown",
      "metadata": {
        "id": "yn5Ts7aum_uO",
        "colab_type": "text"
      },
      "source": [
        "A **feature** is an individual measurable property or characteristic of a phenomenon being observed.\n",
        "Choosing informative, discriminating and independent features is a crucial step for effective algorithms in pattern recognition, classification and regression. \n",
        "Features are usually numeric, but structural features such as strings and graphs are used in syntactic pattern recognition.\n",
        "The concept of \"feature\" is related to that of explanatory variable used in statistical techniques such as linear regression."
      ]
    },
    {
      "cell_type": "markdown",
      "metadata": {
        "id": "SJ4p3w234D2s",
        "colab_type": "text"
      },
      "source": [
        "**Supervised learning** -- modeling the relationship between measured features of data and some label associated with the data; once this model is determined, it can be used to apply labels to new, unknown data.\n",
        "* classification -- the labels are discrete categories\n",
        "* regression -- the labels are continuous quantities\n",
        "\n",
        "**Unsupervised learning** -- modeling the features of a dataset without reference to\n",
        "any label, and is often described as \"letting the dataset speak for itself.\" \n",
        "* clustering -- identify distinct groups of data\n",
        "* dimensionality reduction -- search for more succinct representations of the data"
      ]
    },
    {
      "cell_type": "markdown",
      "metadata": {
        "id": "pYwN64ZFMfyw",
        "colab_type": "text"
      },
      "source": [
        "**\"simple\" classification is not so simple**\n",
        "\n",
        "![ML position](https://raw.githubusercontent.com/fbeilstein/machine_learning/master/lecture_01_and_lecture_02_intro_and_python/chihuahua_and_muffins.jpeg)"
      ]
    },
    {
      "cell_type": "markdown",
      "metadata": {
        "id": "GxDRoHl36S8P",
        "colab_type": "text"
      },
      "source": [
        "**How to machine-learn**\n",
        "\n",
        "1. Look at the big picture.\n",
        "2. Get the data.\n",
        "3. Discover and visualize the data to gain insights.\n",
        "4. Prepare the data for Machine Learning algorithms.\n",
        "5. Select a model and train it.\n",
        "   * Choose a class of model\n",
        "   * Choose model hyperparameters\n",
        "   * Fit the model to the training data\n",
        "   * Use the model to predict labels for new data\n",
        "6. Fine-tune your model.\n",
        "7. Present your solution.\n",
        "8. Launch, monitor, and maintain your system."
      ]
    },
    {
      "cell_type": "markdown",
      "metadata": {
        "id": "fYmm4nJojpKQ",
        "colab_type": "text"
      },
      "source": [
        "**Why human is still needed**\n",
        "![spurrious correlation](https://raw.githubusercontent.com/fbeilstein/machine_learning/master/lecture_01_and_lecture_02_intro_and_python/spurious_1.png)\n",
        "![spurrious correlation](https://raw.githubusercontent.com/fbeilstein/machine_learning/master/lecture_01_and_lecture_02_intro_and_python/spurious_2.png)\n",
        "![spurrious correlation](https://raw.githubusercontent.com/fbeilstein/machine_learning/master/lecture_01_and_lecture_02_intro_and_python/spurious_3.png)"
      ]
    },
    {
      "cell_type": "markdown",
      "metadata": {
        "id": "shgIfCyWLO74",
        "colab_type": "text"
      },
      "source": [
        "* Machines may be good at processing data but testing data with common sense is still \"the human work\".\n",
        "* Features. Not any two numbers can be added.\n",
        "* Models are chosen by humans.\n",
        "* Human can be aware of \"lurking variable\" (hidden common cause of two unrelated events, e.g. summer $\\rightarrow$ more ice cream and more drowns)."
      ]
    },
    {
      "cell_type": "markdown",
      "metadata": {
        "id": "wZsK-HGk7RQm",
        "colab_type": "text"
      },
      "source": [
        "**Validation** (how good is the model?)\n",
        "\n",
        "**! Never validate model on training set !**\n",
        "\n",
        "* hold-set\n",
        "* cross-validation (carried to extreme -- leave-one-out)"
      ]
    },
    {
      "cell_type": "markdown",
      "metadata": {
        "id": "LaWbkEBy9TkM",
        "colab_type": "text"
      },
      "source": [
        "![ML position](https://raw.githubusercontent.com/fbeilstein/machine_learning/master/lecture_01_and_lecture_02_intro_and_python/cross_val.png)"
      ]
    },
    {
      "cell_type": "markdown",
      "metadata": {
        "id": "SSW-ZG3rWA0x",
        "colab_type": "text"
      },
      "source": [
        "**Model is doing not well. What should I do?**\n",
        "* Use a more complicated/more flexible model\n",
        "* Use a less complicated/less flexible model\n",
        "* Gather more training samples\n",
        "* Gather more data to add features to each sample"
      ]
    },
    {
      "cell_type": "markdown",
      "metadata": {
        "id": "A8rRIE97WflD",
        "colab_type": "text"
      },
      "source": [
        "**Typical problems**\n",
        "\n",
        "| | |\n",
        "| --- | --- |\n",
        "|Insufficient quantity of training data| Even for very simple problems you typically need thousands of examples, and for complex problems such as image or speech recognition you may need millions of examples|\n",
        "|Non representative training data | It is crucial to use a training set that is representative of the cases you want to generalize to |\n",
        "| Poor quality data | errors, outliers and noise | Irrelevant features | garbage in, garbage out |\n",
        "|underfit (high bias) | the data are intrinsically more complicated than the model |\n",
        "| overfit (high variance) | is more reflective of the particular noise properties of the data rather than the intrinsic properties of whatever process generated that data |"
      ]
    },
    {
      "cell_type": "markdown",
      "metadata": {
        "id": "bRwBTwxbtLX9",
        "colab_type": "text"
      },
      "source": [
        "**A famous example of sampling bias**\n",
        "\n",
        "Perhaps the most famous example of sampling bias happened during the U.S. presidential election in 1936 which pitted Landon against Roosevelt: the Literary Digest conducted a very large poll, sending mail to about 10 million people. It got 2.4 million answers, and predicted with high confidence that Landon would get 57% of the votes. Instead, Roosevelt won with 62% of the votes. The flaw was in the Literary Digest's\n",
        "sampling method:\n",
        "* First, to obtain the addresses to send the polls to, they used telephone directories,\n",
        "lists of magazine subscribers, club membership lists, etc. All of these lists tend to\n",
        "favor wealthier people, who are more likely to vote Republican (hence Landon).\n",
        "* Second, less than 25% of the people who received the poll answered. Again, this\n",
        "introduces a sampling bias, by ruling out people who don't care much about politics,\n",
        "people who don't like the Literary Digest, etc. This is a special type of sampling\n",
        "bias called non-response bias."
      ]
    },
    {
      "cell_type": "markdown",
      "metadata": {
        "id": "bP5f_H-3M-rn",
        "colab_type": "text"
      },
      "source": [
        "![ML position](https://raw.githubusercontent.com/fbeilstein/machine_learning/master/lecture_01_and_lecture_02_intro_and_python/under_and_over_fits.png)"
      ]
    },
    {
      "cell_type": "markdown",
      "metadata": {
        "id": "-JWYzwo4eQI6",
        "colab_type": "text"
      },
      "source": [
        "**Coefficient of determination**\n",
        "* $R^2$ is the proportion of the variance in the dependent variable that is predictable from the independent variable(s).\n",
        "* There are several definitions of $R^2$ that are only sometimes equivalent.\n",
        "* In linear least squares multiple regression with an estimated intercept term, $R^2$ equals the square of the Pearson correlation coefficient between the observed $y$ and modeled (predicted) $f$ data values of the dependent variable.\n",
        "* Due to some definitions ranges $0$ to $1$, due to other definitions can be negative.\n",
        "\n",
        "| Value | Meaning |\n",
        "| --- | --- |\n",
        "| $R^2$ = 1 | perfect match |\n",
        "| $0$ $\\lt R^2$ $\\lt1$ | somewhat good |\n",
        "| $R^2$ $=$ $0$ | no better than mean value |\n",
        "| $R^2$ $<$ $0$ | worse than mean value (how did you even achieve that bad result?) |"
      ]
    },
    {
      "cell_type": "markdown",
      "metadata": {
        "id": "B7Otx1oYjDBa",
        "colab_type": "text"
      },
      "source": [
        "**observation**\n",
        "* For high-bias models, the performance of the model on the validation set is similar to the performance on the training set.\n",
        "* For high-variance models, the performance of the model on the validation set is far worse than the performance on the training set.\n",
        "\n",
        "---\n",
        "\n",
        "* The training score is everywhere higher than the validation score. This is generally the case: the model will be a better fit to data it has seen than to data it has not seen.\n",
        "* For very low model complexity (a high-bias model), the training data is underfit, which means that the model is a poor predictor both for the training data and for any previously unseen data.\n",
        "* For very high model complexity (a high-variance model), the training data is\n",
        "overfit, which means that the model predicts the training data very well, but fails\n",
        "for any previously unseen data.\n",
        "* For some intermediate value, the validation curve has a maximum. This level of\n",
        "complexity indicates a suitable trade-off between bias and variance."
      ]
    },
    {
      "cell_type": "markdown",
      "metadata": {
        "id": "nQcgl4IENQaf",
        "colab_type": "text"
      },
      "source": [
        "![ML position](https://raw.githubusercontent.com/fbeilstein/machine_learning/master/lecture_01_and_lecture_02_intro_and_python/complexity_intuitive.png)"
      ]
    },
    {
      "cell_type": "code",
      "metadata": {
        "id": "VaxWZN8tlFd7",
        "colab_type": "code",
        "outputId": "a1f37810-3268-4f56-c40b-9f270bdb739d",
        "colab": {
          "base_uri": "https://localhost:8080/",
          "height": 274
        }
      },
      "source": [
        "from sklearn.preprocessing import PolynomialFeatures\n",
        "from sklearn.linear_model import LinearRegression\n",
        "from sklearn.pipeline import make_pipeline\n",
        "\n",
        "def PolynomialRegression(degree=2, **kwargs):\n",
        "  return make_pipeline(PolynomialFeatures(degree), LinearRegression(**kwargs))\n",
        "\n",
        "import numpy as np\n",
        "\n",
        "def make_data(N, err=1.0, rseed=1):\n",
        "  # randomly sample the data\n",
        "  rng = np.random.RandomState(rseed)\n",
        "  X = rng.rand(N, 1) ** 2\n",
        "  y = 10 - 1. / (X.ravel() + 0.1)\n",
        "  if err > 0:\n",
        "    y += err * rng.randn(N)\n",
        "  return X, y\n",
        "\n",
        "X, y = make_data(40)\n",
        "\n",
        "%matplotlib inline\n",
        "import matplotlib.pyplot as plt\n",
        "import seaborn; seaborn.set() # plot formatting\n",
        "\n",
        "X_test = np.linspace(-0.1, 1.1, 500)[:, None]\n",
        "plt.scatter(X.ravel(), y, color='black')\n",
        "axis = plt.axis()\n",
        "\n",
        "for degree in [1, 3, 5]:\n",
        "  y_test = PolynomialRegression(degree).fit(X, y).predict(X_test)\n",
        "  plt.plot(X_test.ravel(), y_test, label='degree={0}'.format(degree))\n",
        "\n",
        "plt.xlim(-0.1, 1.0)\n",
        "plt.ylim(-2, 12)\n",
        "plt.legend(loc='best');"
      ],
      "execution_count": 0,
      "outputs": [
        {
          "output_type": "display_data",
          "data": {
            "image/png": "[encoded data removed]",
            "text/plain": [
              "<Figure size 432x288 with 1 Axes>"
            ]
          },
          "metadata": {
            "tags": []
          }
        }
      ]
    },
    {
      "cell_type": "code",
      "metadata": {
        "id": "WpitHArglu-O",
        "colab_type": "code",
        "outputId": "75a4c83b-12c9-4e2e-be41-00f2a8dd38b5",
        "colab": {
          "base_uri": "https://localhost:8080/",
          "height": 291
        }
      },
      "source": [
        "from sklearn.model_selection import validation_curve\n",
        "\n",
        "degree = np.arange(0, 21)\n",
        "train_score, val_score = validation_curve(PolynomialRegression(), X, y, 'polynomialfeatures__degree', degree, cv=7)\n",
        "plt.plot(degree, np.median(train_score, 1), color='blue', label='training score')\n",
        "plt.plot(degree, np.median(val_score, 1), color='red', label='validation score')\n",
        "plt.legend(loc='best')\n",
        "plt.ylim(0, 1)\n",
        "plt.xlabel('degree')\n",
        "plt.ylabel('score');"
      ],
      "execution_count": 0,
      "outputs": [
        {
          "output_type": "display_data",
          "data": {
            "image/png": "[encoded data removed]",
            "text/plain": [
              "<Figure size 432x288 with 1 Axes>"
            ]
          },
          "metadata": {
            "tags": []
          }
        }
      ]
    },
    {
      "cell_type": "code",
      "metadata": {
        "id": "mgqPxOTwmKZb",
        "colab_type": "code",
        "outputId": "bf7a540e-5a76-4d73-f402-062f5a57f885",
        "colab": {
          "base_uri": "https://localhost:8080/",
          "height": 274
        }
      },
      "source": [
        "plt.scatter(X.ravel(), y)\n",
        "lim = plt.axis()\n",
        "y_test = PolynomialRegression(3).fit(X, y).predict(X_test)\n",
        "plt.plot(X_test.ravel(), y_test);\n",
        "plt.axis(lim);"
      ],
      "execution_count": 0,
      "outputs": [
        {
          "output_type": "display_data",
          "data": {
            "image/png": "[encoded data removed]",
            "text/plain": [
              "<Figure size 432x288 with 1 Axes>"
            ]
          },
          "metadata": {
            "tags": []
          }
        }
      ]
    },
    {
      "cell_type": "markdown",
      "metadata": {
        "id": "MZfF8590kCwz",
        "colab_type": "text"
      },
      "source": [
        "**dependence on dataset size**\n",
        "* A model of a given complexity will overfit a small dataset: this means the training\n",
        "score will be relatively high, while the validation score will be relatively low.\n",
        "* A model of a given complexity will underfit a large dataset: this means that the\n",
        "training score will decrease, but the validation score will increase.\n",
        "* A model will never, except by chance, give a better score to the validation set than\n",
        "the training set: this means the curves should keep getting closer together but\n",
        "never cross."
      ]
    },
    {
      "cell_type": "markdown",
      "metadata": {
        "id": "YTyRU5pFNXdz",
        "colab_type": "text"
      },
      "source": [
        "![ML position](https://raw.githubusercontent.com/fbeilstein/machine_learning/master/lecture_01_and_lecture_02_intro_and_python/learning_ds_size.png)"
      ]
    },
    {
      "cell_type": "markdown",
      "metadata": {
        "id": "SMfCjbKTyS3m",
        "colab_type": "text"
      },
      "source": [
        "**Feature engineering**\n",
        "\n",
        "feature engineering — taking whatever information you have about your problem and turning it into numbers that you can use to build your feature matrix.\n",
        "\n",
        "**Examples**\n",
        "\n",
        "* Categorical Features -- do not use numbers for categorical features as they imply tons of operations (e.g. +, -, \\*, etc) that may be irrelevant to the features. Do use **one-hot encoding** (additional column with 1 or 0 for each feature), Scikit-Learn’s DictVectorizer will do this for you.\n",
        "\n",
        "* Text Features -- 'simple' ML methods cannot engulf the whole text, you better use **word counts** (take each snippet of a text, count the occurrences of each word within it, and put the results in a table), or **term frequency–inverse document frequency** (weights the word counts by a measure of how often they appear in the documents).\n",
        "\n",
        "* Sound features -- raw data will be probably 'too much too noisy', you better use features: spectral features (energy, spectral centroid, etc.), onsets, chroma, predominant pitch, etc.\n",
        "\n",
        "* Image Features -- 'simple' ML methods cannot process even medium-sized image, use features instead of raw pixels, e.g. corner points, edges, ridges, etc.\n",
        "\n",
        "* Derived Features -- features we get as a combination of simple features."
      ]
    },
    {
      "cell_type": "markdown",
      "metadata": {
        "id": "6iyO3laLutnA",
        "colab_type": "text"
      },
      "source": [
        "**ML placement according to Goodfellow I.**\n",
        "\n",
        "![ML position](https://raw.githubusercontent.com/fbeilstein/machine_learning/master/lecture_01_and_lecture_02_intro_and_python/ML_place.png)"
      ]
    },
    {
      "cell_type": "markdown",
      "metadata": {
        "id": "Mkzr-V0V9tkR",
        "colab_type": "text"
      },
      "source": [
        "**Imputation of Missing Data**\n",
        "\n",
        "Common need in feature engineering is handling missing data.\n",
        "This is known as **imputation** of missing values, and strategies range from simple (e.g., replacing missing values with the mean of the column) to sophisticated (e.g., using matrix completion or a robust model to handle such data).\n",
        "The sophisticated approaches tend to be very application-specific."
      ]
    },
    {
      "cell_type": "markdown",
      "metadata": {
        "id": "QVsDJffxuWja",
        "colab_type": "text"
      },
      "source": [
        "**bird-eye view**\n",
        "\n",
        "* Machine Learning is about making machines get better at some task by learning\n",
        "from data, instead of having to explicitly code rules.\n",
        "* There are many different types of ML systems, supervised or not, batch or online,\n",
        "instance based or model based, and so on.\n",
        "* In a ML project you gather data in a training set, you feed the training set to a\n",
        "learning algorithm, and if it is model based it tunes some parameters to fit the\n",
        "model to the training set (i.e. to make good predictions on the training set itself),\n",
        "then hopefully it will be able to make good predictions on new cases as well. If\n",
        "the algorithm is instance based, it just learns the examples by heart and uses a\n",
        "similarity measure to generalize to new instances.\n",
        "* The system will not perform well if your training set is too small, or if the data is\n",
        "not representative, noisy or polluted with irrelevant features (garbage in, garbage\n",
        "out). Lastly, your model needs to be neither too simple (it will underfit) nor too\n",
        "complex (it will overfit)."
      ]
    },
    {
      "cell_type": "markdown",
      "metadata": {
        "id": "FDf029NSqgfK",
        "colab_type": "text"
      },
      "source": [
        "#Curriculum"
      ]
    },
    {
      "cell_type": "markdown",
      "metadata": {
        "id": "jH8kq00CrP6R",
        "colab_type": "text"
      },
      "source": [
        "**This course will consist of 3 main parts:**\n",
        "\n",
        "\n",
        "  * Intro\n",
        "  * Tools of ML\n",
        "  * Methods of ML\n",
        "---\n",
        "\n",
        "**I expect to cover:**\n",
        "\n",
        "---\n",
        "\n",
        "* Intro\n",
        "    - General Info, Python\n",
        "    - More about Python\n",
        "\n",
        "---\n",
        "\n",
        "  * Tools of ML\n",
        "   - NumPy Arrays\n",
        "   - Pandas\n",
        "   - MatPlotLib\n",
        "\n",
        "---\n",
        "\n",
        "  * Methods of ML\n",
        "    - Naive Bayes Classification\n",
        "    - Linear Regression\n",
        "    - Support Vector Machines\n",
        "    - Decision Trees and Random Forests\n",
        "    - Principal Component Analysis\n",
        "    - Manifold Learning\n",
        "    - k-Means Clustering\n",
        "    - Gaussian Mixture Models\n",
        "    - Kernel Density Estimation\n",
        "    - What's next: NNs and beyond\n"
      ]
    },
    {
      "cell_type": "markdown",
      "metadata": {
        "id": "OGtFUCE0qsPp",
        "colab_type": "text"
      },
      "source": [
        "#Instruments we will use"
      ]
    },
    {
      "cell_type": "markdown",
      "metadata": {
        "id": "FTcPugR6Pl84",
        "colab_type": "text"
      },
      "source": [
        "* GitHub. At least we can use https://github.com/fbeilstein/machine_learning for references as it contains most of the materials I suppose to use during the semester.\n",
        "* Google Colab (at the moment we are already using it) to start and explore code.\n",
        "---\n",
        "* HackerRank -- we will need it for a few seminars.\n",
        "* Code Sculptor -- some visualizations."
      ]
    },
    {
      "cell_type": "markdown",
      "metadata": {
        "id": "OoDm98xb7PL5",
        "colab_type": "text"
      },
      "source": [
        "##Colab"
      ]
    },
    {
      "cell_type": "code",
      "metadata": {
        "id": "5KEzE2RG7F89",
        "colab_type": "code",
        "outputId": "fc5d0298-b0ae-4e18-ef90-cb876d51c093",
        "colab": {
          "base_uri": "https://localhost:8080/",
          "height": 34
        }
      },
      "source": [
        "#you can use bash in colab\n",
        "!ls"
      ],
      "execution_count": 0,
      "outputs": [
        {
          "output_type": "stream",
          "text": [
            "sample_data\n"
          ],
          "name": "stdout"
        }
      ]
    },
    {
      "cell_type": "code",
      "metadata": {
        "id": "1qctgpN_7Vl3",
        "colab_type": "code",
        "outputId": "c12beadc-f7c9-44e4-a65f-aff8967bf3ed",
        "colab": {
          "base_uri": "https://localhost:8080/",
          "height": 68
        }
      },
      "source": [
        "!cd sample_data && ls"
      ],
      "execution_count": 0,
      "outputs": [
        {
          "output_type": "stream",
          "text": [
            "anscombe.json\t\t      mnist_test.csv\n",
            "california_housing_test.csv   mnist_train_small.csv\n",
            "california_housing_train.csv  README.md\n"
          ],
          "name": "stdout"
        }
      ]
    },
    {
      "cell_type": "code",
      "metadata": {
        "id": "9prusf6q7lyw",
        "colab_type": "code",
        "colab": {}
      },
      "source": [
        "#you can use ? to get info\n",
        "len?"
      ],
      "execution_count": 0,
      "outputs": []
    },
    {
      "cell_type": "code",
      "metadata": {
        "id": "0pIBfKh67v5q",
        "colab_type": "code",
        "colab": {}
      },
      "source": [
        "L = [1, 2, 3]\n",
        "L.insert?"
      ],
      "execution_count": 0,
      "outputs": []
    },
    {
      "cell_type": "code",
      "metadata": {
        "id": "rjRL0INk8S7a",
        "colab_type": "code",
        "colab": {}
      },
      "source": [
        "#docstrings are printed on ?\n",
        "def square(x):\n",
        "  \"\"\"square a number\"\"\"\n",
        "  return x ** 2\n",
        "\n",
        "square?"
      ],
      "execution_count": 0,
      "outputs": []
    },
    {
      "cell_type": "code",
      "metadata": {
        "id": "jjJImMgz8Eqz",
        "colab_type": "code",
        "colab": {}
      },
      "source": [
        "#you can use TAB to get autocomplete\n",
        "L."
      ],
      "execution_count": 0,
      "outputs": []
    },
    {
      "cell_type": "code",
      "metadata": {
        "id": "4l1s1k7F8f9F",
        "colab_type": "code",
        "outputId": "40574396-6127-4e7e-9b85-c2aff95182bc",
        "colab": {
          "base_uri": "https://localhost:8080/",
          "height": 34
        }
      },
      "source": [
        "#you can check time that certains operation takes\n",
        "%timeit L = [n ** 2 for n in range(1000)]"
      ],
      "execution_count": 0,
      "outputs": [
        {
          "output_type": "stream",
          "text": [
            "1000 loops, best of 3: 255 µs per loop\n"
          ],
          "name": "stdout"
        }
      ]
    },
    {
      "cell_type": "code",
      "metadata": {
        "id": "lVIWTUZh8rx6",
        "colab_type": "code",
        "outputId": "9e00e327-edda-4c5a-b5dd-495a124f12ca",
        "colab": {
          "base_uri": "https://localhost:8080/",
          "height": 34
        }
      },
      "source": [
        "#you can use two % for multirow code\n",
        "%%timeit\n",
        "L = []\n",
        "for n in range(1000):\n",
        "  L.append(n ** 2)"
      ],
      "execution_count": 0,
      "outputs": [
        {
          "output_type": "stream",
          "text": [
            "1000 loops, best of 3: 316 µs per loop\n"
          ],
          "name": "stdout"
        }
      ]
    },
    {
      "cell_type": "code",
      "metadata": {
        "id": "n2_L_7Oo8_XV",
        "colab_type": "code",
        "outputId": "86d550b7-de97-45da-90bb-6fb3c397ecdf",
        "colab": {
          "base_uri": "https://localhost:8080/",
          "height": 34
        }
      },
      "source": [
        "#underscores retain history\n",
        "2 * 2"
      ],
      "execution_count": 0,
      "outputs": [
        {
          "output_type": "execute_result",
          "data": {
            "text/plain": [
              "4"
            ]
          },
          "metadata": {
            "tags": []
          },
          "execution_count": 9
        }
      ]
    },
    {
      "cell_type": "code",
      "metadata": {
        "id": "N9i1MP6e9K0g",
        "colab_type": "code",
        "outputId": "2cca5750-ebf5-47aa-bfd9-3287d5955f4c",
        "colab": {
          "base_uri": "https://localhost:8080/",
          "height": 34
        }
      },
      "source": [
        "3 * 3"
      ],
      "execution_count": 0,
      "outputs": [
        {
          "output_type": "execute_result",
          "data": {
            "text/plain": [
              "9"
            ]
          },
          "metadata": {
            "tags": []
          },
          "execution_count": 10
        }
      ]
    },
    {
      "cell_type": "code",
      "metadata": {
        "id": "81uyzv7W9Mkj",
        "colab_type": "code",
        "outputId": "b839d904-b68d-4bb9-b05d-17cb3125615c",
        "colab": {
          "base_uri": "https://localhost:8080/",
          "height": 34
        }
      },
      "source": [
        "print(\"history: \", _, __)"
      ],
      "execution_count": 0,
      "outputs": [
        {
          "output_type": "stream",
          "text": [
            "history:  9 4\n"
          ],
          "name": "stdout"
        }
      ]
    },
    {
      "cell_type": "code",
      "metadata": {
        "id": "9Gfo0Xpr9Ufz",
        "colab_type": "code",
        "colab": {}
      },
      "source": [
        "#semicolon suppresses output; history is not altered\n",
        "2*7;"
      ],
      "execution_count": 0,
      "outputs": []
    },
    {
      "cell_type": "markdown",
      "metadata": {
        "id": "GERxafEQq3Us",
        "colab_type": "text"
      },
      "source": [
        "#Python"
      ]
    },
    {
      "cell_type": "code",
      "metadata": {
        "id": "D3PqgMn4WSs3",
        "colab_type": "code",
        "cellView": "form",
        "colab": {}
      },
      "source": [
        "#@title #Helper functions (debugger)\n",
        "\n",
        "from IPython.core.magic import  Magics, magics_class, cell_magic, line_magic\n",
        "\n",
        "@magics_class\n",
        "class Helper(Magics):\n",
        "\n",
        "  def __init__(self, shell=None,  **kwargs):\n",
        "    super().__init__(shell=shell, **kwargs)\n",
        "\n",
        "  @cell_magic\n",
        "  def debug_cell_with_pytutor(self, line, cell):\n",
        "    import urllib.parse\n",
        "    url_src = urllib.parse.quote(cell)\n",
        "    str_begin = '<iframe width=\"1300\" height=\"600\" frameborder=\"0\" src=\"https://pythontutor.com/iframe-embed.html#code='\n",
        "    str_end   = '&cumulative=false&py=3&curInstr=0\"></iframe>'\n",
        "    import IPython\n",
        "    from google.colab import output\n",
        "    display(IPython.display.HTML(str_begin+url_src+str_end))\n",
        "\n",
        "## use ipython load_ext mechanism here if distributed\n",
        "get_ipython().register_magics(Helper)"
      ],
      "execution_count": 0,
      "outputs": []
    },
    {
      "cell_type": "markdown",
      "metadata": {
        "id": "xsDaqdeC9iuG",
        "colab_type": "text"
      },
      "source": [
        "**Different paradigms**\n",
        "![ML position](https://raw.githubusercontent.com/fbeilstein/machine_learning/master/lecture_01_and_lecture_02_intro_and_python/language_paradigms.jpeg)"
      ]
    },
    {
      "cell_type": "markdown",
      "metadata": {
        "id": "GtUXjg-K6Isv",
        "colab_type": "text"
      },
      "source": [
        "##Types and Operators"
      ]
    },
    {
      "cell_type": "markdown",
      "metadata": {
        "id": "LEz6OAsA9xeg",
        "colab_type": "text"
      },
      "source": [
        "###Big picture"
      ]
    },
    {
      "cell_type": "markdown",
      "metadata": {
        "id": "rQb-oYda6-Oo",
        "colab_type": "text"
      },
      "source": [
        "**Preview: built-in objects**\n",
        " \n",
        "Object type | Example constants/usage\n",
        "---|---\n",
        "Numbers | 3.14, 1234, 999L, 3+4j, decimal\n",
        "Strings | 'spam', \"spam's\"\n",
        "Lists | [1, [2, 'three'], 4]\n",
        "Dictionaries | {'food':'spam', 'taste':'yum'}\n",
        "Tuples | (1,'spam', 4, 'U')\n",
        "Files | text = open('eggs', 'r').read()\n",
        "Others | sets, types, None, bool\n",
        "\n",
        " "
      ]
    },
    {
      "cell_type": "markdown",
      "metadata": {
        "id": "KOo9o26y86UG",
        "colab_type": "text"
      },
      "source": [
        "**Built-in Types**\n",
        "\n",
        "   * Key terms: “sequence”, “immutable”, “mapping”\n",
        "   * Key ideas: no fixed types, no fixed sizes, arbitrary nesting\n",
        "   * Full story: dir(object), help(object.method), manuals"
      ]
    },
    {
      "cell_type": "markdown",
      "metadata": {
        "id": "9jAeqlC09ZbA",
        "colab_type": "text"
      },
      "source": [
        "**Python program structure**\n",
        "\n",
        "   * Programs are composed of modules\n",
        "   * Modules contain statements\n",
        "   * Statements contain expressions\n",
        "   * Expressions create and process objects"
      ]
    },
    {
      "cell_type": "markdown",
      "metadata": {
        "id": "YXCVf2R-9gNc",
        "colab_type": "text"
      },
      "source": [
        "**Why use built-in types?**\n",
        "\n",
        "   * Python provides objects and supports extensions\n",
        "   * Built-in objects make simple programs easy to write\n",
        "   * Built-in objects are components of extensions\n",
        "   * Often more efficient than custom data structures"
      ]
    },
    {
      "cell_type": "markdown",
      "metadata": {
        "id": "VAGK4PhS9vPg",
        "colab_type": "text"
      },
      "source": [
        "###Numbers"
      ]
    },
    {
      "cell_type": "markdown",
      "metadata": {
        "id": "CMXHOEiZ90xQ",
        "colab_type": "text"
      },
      "source": [
        "**Standard types and operators**\n",
        "\n",
        "   * Integer, floating-point, hex/octal constants\n",
        "   * ‘long’ integer type with unlimited precision\n",
        "   * Built-in mathematical functions: ‘pow’, ‘abs’\n",
        "   * Utility modules: ‘random’, ‘math’\n",
        "   * Complex numbers, ‘**’ power operator"
      ]
    },
    {
      "cell_type": "markdown",
      "metadata": {
        "id": "htS2otGa9_jY",
        "colab_type": "text"
      },
      "source": [
        "![ML position](https://raw.githubusercontent.com/fbeilstein/machine_learning/master/lecture_01_and_lecture_02_intro_and_python/python_int.png)"
      ]
    },
    {
      "cell_type": "markdown",
      "metadata": {
        "id": "XOCDrtwa_fg0",
        "colab_type": "text"
      },
      "source": [
        "**Numeric literals**\n",
        " \n",
        "Constant | Interpretation\n",
        "---|---\n",
        "1234, -24 | integers (unlimited size)\n",
        "1.23, 3.14e-10 | floating-point (C doubles)\n",
        "0o177,0x9f,0b101 | octal, hex, binary integer literals\n",
        "3+4j, 3.0+4.0j | complex number literals\n",
        "Decimal('0.11') | fixed-precision decimal (2.4+)\n",
        "Fraction(2, 3) | rational type (2.6+, 3.0+)"
      ]
    },
    {
      "cell_type": "markdown",
      "metadata": {
        "id": "oSPo6zHi_dCl",
        "colab_type": "text"
      },
      "source": [
        " **Python expressions**\n",
        "\n",
        "   * Usual algebraic operators: ‘+’ , ‘-’, ‘*’, ‘/’, . . .\n",
        "   * C’s bitwise operators: “<<”,  “&”, . . .\n",
        "   * Mixed types: converted up just as in C\n",
        "   * Parenthesis group sub-expressions"
      ]
    },
    {
      "cell_type": "markdown",
      "metadata": {
        "id": "9D8zXWeD_aFw",
        "colab_type": "text"
      },
      "source": [
        "**Numbers in action**\n",
        "\n",
        "   * Variables created when assigned\n",
        "   * Variables replaced with their value when used\n",
        "   * Variables must be assigned before used\n",
        "   * Expression results echoed back\n",
        "   * Mixed integer/float: casts up to float\n",
        "   * Integer division truncates (until 3.X: use // to force)"
      ]
    },
    {
      "cell_type": "code",
      "metadata": {
        "id": "wy7prWoa-3xM",
        "colab_type": "code",
        "outputId": "0ba0c79e-0015-45b3-b33e-21098d6ac1af",
        "colab": {
          "base_uri": "https://localhost:8080/",
          "height": 35
        }
      },
      "source": [
        "a = 3 # name created\n",
        "b = 4\n",
        "b / 2 + a # same as ((4 / 2) + 3)"
      ],
      "execution_count": 0,
      "outputs": [
        {
          "output_type": "execute_result",
          "data": {
            "text/plain": [
              "5.0"
            ]
          },
          "metadata": {
            "tags": []
          },
          "execution_count": 2
        }
      ]
    },
    {
      "cell_type": "code",
      "metadata": {
        "id": "sPupbNT-_CaM",
        "colab_type": "code",
        "outputId": "0c86a91a-4de2-4697-b1ce-6dd60f3b3930",
        "colab": {
          "base_uri": "https://localhost:8080/",
          "height": 34
        }
      },
      "source": [
        "b / (2.0 + a) # same as (4 / (2.0 + 3))"
      ],
      "execution_count": 0,
      "outputs": [
        {
          "output_type": "execute_result",
          "data": {
            "text/plain": [
              "0.8"
            ]
          },
          "metadata": {
            "tags": []
          },
          "execution_count": 2
        }
      ]
    },
    {
      "cell_type": "code",
      "metadata": {
        "id": "QNiEu1zT_Gqm",
        "colab_type": "code",
        "outputId": "9fef19aa-8931-4e4a-a343-4d09b109fdcd",
        "colab": {
          "base_uri": "https://localhost:8080/",
          "height": 34
        }
      },
      "source": [
        "1 / 2, 1 // 2 # / keeps remainder, // does not"
      ],
      "execution_count": 0,
      "outputs": [
        {
          "output_type": "execute_result",
          "data": {
            "text/plain": [
              "(0.5, 0)"
            ]
          },
          "metadata": {
            "tags": []
          },
          "execution_count": 3
        }
      ]
    },
    {
      "cell_type": "code",
      "metadata": {
        "id": "dsI9Tqj0_RdE",
        "colab_type": "code",
        "outputId": "9706f041-e8e1-4aa3-f576-927b4c930013",
        "colab": {
          "base_uri": "https://localhost:8080/",
          "height": 34
        }
      },
      "source": [
        "4 / 5.0"
      ],
      "execution_count": 0,
      "outputs": [
        {
          "output_type": "execute_result",
          "data": {
            "text/plain": [
              "0.8"
            ]
          },
          "metadata": {
            "tags": []
          },
          "execution_count": 4
        }
      ]
    },
    {
      "cell_type": "code",
      "metadata": {
        "id": "d8iAP3FVdMws",
        "colab_type": "code",
        "outputId": "edc6c330-0f1f-40ae-e257-88af723ba64c",
        "colab": {
          "base_uri": "https://localhost:8080/",
          "height": 35
        }
      },
      "source": [
        "9999999999999999999999999999 + 1"
      ],
      "execution_count": 0,
      "outputs": [
        {
          "output_type": "execute_result",
          "data": {
            "text/plain": [
              "10000000000000000000000000000"
            ]
          },
          "metadata": {
            "tags": []
          },
          "execution_count": 3
        }
      ]
    },
    {
      "cell_type": "markdown",
      "metadata": {
        "id": "Cx3CuGQxAHcI",
        "colab_type": "text"
      },
      "source": [
        "###The dynamic typing"
      ]
    },
    {
      "cell_type": "code",
      "metadata": {
        "id": "XQm1uUPWPHM5",
        "colab_type": "code",
        "colab": {}
      },
      "source": [
        "a = 3 # Where are the missing declarations?"
      ],
      "execution_count": 0,
      "outputs": []
    },
    {
      "cell_type": "markdown",
      "metadata": {
        "id": "OHp22-DWAJkE",
        "colab_type": "text"
      },
      "source": [
        "   * Names versus objects\n",
        "\n",
        "   * Names are always “references” (pointers) to objects\n",
        "\n",
        "   * Names are created when first assigned (or so)\n",
        "\n",
        "   * Objects have types, names do not\n",
        "\n",
        "   * Each value is a distinct object (normally)\n",
        "\n",
        "   * Objects are pieces of memory with value + operations\n",
        "\n",
        "   * Shared references to mutables are open to side effects (on purpose)"
      ]
    },
    {
      "cell_type": "markdown",
      "metadata": {
        "id": "rcRZF0wnRAms",
        "colab_type": "text"
      },
      "source": [
        "**Python operators and precedence**\n",
        "\n",
        "   * Operators lower in table bind tighter (parenthesis force order)\n",
        "   * Preview: all Python operators may be overloaded by Python classes and C extension types\n",
        "   * Added in Python 2.0: +=. *=, &=, …  augmented assignment statements, not operators\n",
        "   * Python 3.X: `X` → repr(X), X / Y → true div, X <> Y → X != Y\n",
        "   * Recent operator/expression additions:"
      ]
    },
    {
      "cell_type": "markdown",
      "metadata": {
        "id": "-XHjIEb4gO2b",
        "colab_type": "text"
      },
      "source": [
        "Operators | Description\n",
        "---|---\n",
        "x if y else z | Ternary if, same as 4-line if/else statement\n",
        "yield [from] x | Generator function's iteration result (return can send one too)\n",
        "await x | For 3.5+ async def coroutines\n",
        "x @ y | Matrix multiply in 3.5+ (but not used by core Python itself!)\n",
        "[x, *iter] | Unpacks (flattens) objects in literals in 3.5+"
      ]
    },
    {
      "cell_type": "markdown",
      "metadata": {
        "id": "ljqX1MGTgMYU",
        "colab_type": "text"
      },
      "source": [
        "Operators | Description\n",
        "---|---\n",
        "x or y, lambda args: expr | Logical ‘or’ (y is only evaluated if x is false), anonymous function\n",
        "x and y | Logical ‘and’ (y is only evaluated if x is true)\n",
        "not x | Logical negation\n",
        "<, <=, >, >=, ==, <>, !=, is, is not, in, not in | Comparison operators, sequence membership\n",
        "x \\| y | Bitwise ‘or’\n",
        "x ^ y | Bitwise ‘exclusive or’\n",
        "x & y | Bitwise ‘and’\n",
        "x << y, x >> y | Shift x left or right by y bits\n",
        "x + y, x – y | Addition/concatenation, subtraction\n",
        "x * y, x / y, x % y, x // y | Multiply/repetition, divide, remainder/format, floor divide\n",
        "x ** y, -x, +x, ~x | Power, unary negation, identity, bitwise compliment\n",
        "x[i], x[i:j], x.y, x(...) | Indexing, slicing, qualification, function calls\n",
        "(...), [...], {...}, `...` | Tuple, list, dictionary, conversion to string"
      ]
    },
    {
      "cell_type": "markdown",
      "metadata": {
        "id": "OQSymqWXbzCF",
        "colab_type": "text"
      },
      "source": [
        "###Strings"
      ]
    },
    {
      "cell_type": "markdown",
      "metadata": {
        "id": "HoCcrdImgnRX",
        "colab_type": "text"
      },
      "source": [
        "*     Ordered collections of characters\n",
        "*     No char in Python, just 1-character strings\n",
        "*     Constants, operators, utility modules (string, re)\n",
        "*     Strings are immutable sequences\n",
        "*     See re module for pattern-based text processing"
      ]
    },
    {
      "cell_type": "markdown",
      "metadata": {
        "id": "hiSocFMHgzxI",
        "colab_type": "text"
      },
      "source": [
        "About Unicode support: in 3.X, strings are always Unicode and support encoding to bytes, and bytes strings represent truly binary 8-bit data and support decoding to strings."
      ]
    },
    {
      "cell_type": "markdown",
      "metadata": {
        "id": "EIJdYNXJbhDU",
        "colab_type": "text"
      },
      "source": [
        "**Common string operations**\n",
        "\n",
        "Operation |\t Interpretation\n",
        "---|---\n",
        "s1 = '' |\tsingle quotes (empty)\n",
        "s2 = \"spam's\" |\tdouble quotes (same)\n",
        "block = \"\"\"...\"\"\" |\ttriple-quoted blocks, can span multiple lines\n",
        "r'C:\\new\\text\\file.txt' |\traw strings (\\ kept)\n",
        "s1 + s2, s2 * 3 |\tconcatenate, repeat\n",
        "s2[i], s2[i:j], s[i:j:k], len(s2) |\tindex, slice, length\n",
        "'a %s parrot' % 'dead' 'a {} parrot'.format('dead') |\tstring formatting: original, 2.6+ option\n",
        "u'A\\xC4B', 'A\\xC4B' |\tUnicode: 2.X, 3.X\n",
        "b'\\x00spam\\x01' |\tbytes: 3.X (and 2.X)\n",
        "f'we get {spam} a lot' |\tformats: 3.6?\n",
        "for x in s2, 'm' in s2 |\titeration/membership"
      ]
    },
    {
      "cell_type": "markdown",
      "metadata": {
        "id": "RfHGLuUA4U2p",
        "colab_type": "text"
      },
      "source": [
        "**Newer extensions**\n",
        "\n",
        "*    String methods:\n",
        "X.split('+') same as older string.split(X, '+')\n",
        "string module requires import, methods do not\n",
        "methods now faster, preferred to string module\n",
        "*    Template formatting: string module, see ahead\n",
        "*    String .format() method: largely redundant with %"
      ]
    },
    {
      "cell_type": "markdown",
      "metadata": {
        "id": "VhoeOtWL4YnY",
        "colab_type": "text"
      },
      "source": [
        "**Strings in action**"
      ]
    },
    {
      "cell_type": "code",
      "metadata": {
        "id": "NEUACvc0bhDV",
        "colab_type": "code",
        "outputId": "f06d1709-38ee-4640-cb42-89143c999689",
        "colab": {
          "base_uri": "https://localhost:8080/",
          "height": 34
        }
      },
      "source": [
        "'abc' + 'def' # concatenation: a new string"
      ],
      "execution_count": 0,
      "outputs": [
        {
          "output_type": "execute_result",
          "data": {
            "text/plain": [
              "'abcdef'"
            ]
          },
          "metadata": {
            "tags": []
          },
          "execution_count": 1
        }
      ]
    },
    {
      "cell_type": "code",
      "metadata": {
        "id": "Siba8lTE4n5E",
        "colab_type": "code",
        "outputId": "f0b52d43-e2f6-4081-ef7d-54a7fcd44495",
        "colab": {
          "base_uri": "https://localhost:8080/",
          "height": 35
        }
      },
      "source": [
        "'Hi!' * 4 # like \"Ni!\" + \"Ni!\" + ..."
      ],
      "execution_count": 0,
      "outputs": [
        {
          "output_type": "execute_result",
          "data": {
            "text/plain": [
              "'Hi!Hi!Hi!Hi!'"
            ]
          },
          "metadata": {
            "tags": []
          },
          "execution_count": 4
        }
      ]
    },
    {
      "cell_type": "markdown",
      "metadata": {
        "id": "iAtp7Ck1bhDX",
        "colab_type": "text"
      },
      "source": [
        "**Indexing and slicing**"
      ]
    },
    {
      "cell_type": "code",
      "metadata": {
        "id": "1XVztVCjbhDX",
        "colab_type": "code",
        "outputId": "b64415cd-8f78-4a45-a1f6-ee503bb2703a",
        "colab": {
          "base_uri": "https://localhost:8080/",
          "height": 35
        }
      },
      "source": [
        "S = 'spam'\n",
        "S[0], S[-2] # indexing from from or end"
      ],
      "execution_count": 0,
      "outputs": [
        {
          "output_type": "execute_result",
          "data": {
            "text/plain": [
              "('s', 'a')"
            ]
          },
          "metadata": {
            "tags": []
          },
          "execution_count": 12
        }
      ]
    },
    {
      "cell_type": "code",
      "metadata": {
        "id": "fTuOuryj4uN4",
        "colab_type": "code",
        "outputId": "51162040-8255-4054-851f-d9c5a664f266",
        "colab": {
          "base_uri": "https://localhost:8080/",
          "height": 35
        }
      },
      "source": [
        "S[1:3], S[1:], S[:-1] # slicing: extract section"
      ],
      "execution_count": 0,
      "outputs": [
        {
          "output_type": "execute_result",
          "data": {
            "text/plain": [
              "('pa', 'pam', 'spa')"
            ]
          },
          "metadata": {
            "tags": []
          },
          "execution_count": 13
        }
      ]
    },
    {
      "cell_type": "code",
      "metadata": {
        "id": "5MlV5atZzZp5",
        "colab_type": "code",
        "outputId": "58eaeb01-d314-4212-e53a-8984122a055f",
        "colab": {
          "base_uri": "https://localhost:8080/",
          "height": 208
        }
      },
      "source": [
        "print(\"ERROR EXPECTED\")\n",
        "S[1] = 'Y'"
      ],
      "execution_count": 0,
      "outputs": [
        {
          "output_type": "stream",
          "text": [
            "ERROR EXPECTED\n"
          ],
          "name": "stdout"
        },
        {
          "output_type": "error",
          "ename": "TypeError",
          "evalue": "ignored",
          "traceback": [
            "\u001b[0;31m---------------------------------------------------------------------------\u001b[0m",
            "\u001b[0;31mTypeError\u001b[0m                                 Traceback (most recent call last)",
            "\u001b[0;32m<ipython-input-6-a5a649fac508>\u001b[0m in \u001b[0;36m<module>\u001b[0;34m()\u001b[0m\n\u001b[1;32m      1\u001b[0m \u001b[0mprint\u001b[0m\u001b[0;34m(\u001b[0m\u001b[0;34m\"ERROR EXPECTED\"\u001b[0m\u001b[0;34m)\u001b[0m\u001b[0;34m\u001b[0m\u001b[0;34m\u001b[0m\u001b[0m\n\u001b[0;32m----> 2\u001b[0;31m \u001b[0mS\u001b[0m\u001b[0;34m[\u001b[0m\u001b[0;36m1\u001b[0m\u001b[0;34m]\u001b[0m \u001b[0;34m=\u001b[0m \u001b[0;34m'Y'\u001b[0m\u001b[0;34m\u001b[0m\u001b[0;34m\u001b[0m\u001b[0m\n\u001b[0m",
            "\u001b[0;31mTypeError\u001b[0m: 'str' object does not support item assignment"
          ]
        }
      ]
    },
    {
      "cell_type": "markdown",
      "metadata": {
        "id": "4CzKrzUlbhDZ",
        "colab_type": "text"
      },
      "source": [
        "**Changing and formatting**"
      ]
    },
    {
      "cell_type": "code",
      "metadata": {
        "id": "Fax2MYwmbhDa",
        "colab_type": "code",
        "outputId": "aa2a136a-0f07-4107-e183-5c6e59620904",
        "colab": {
          "base_uri": "https://localhost:8080/",
          "height": 34
        }
      },
      "source": [
        "S = S + 'Spam!' # to change a string, make a new one\n",
        "S"
      ],
      "execution_count": 0,
      "outputs": [
        {
          "output_type": "execute_result",
          "data": {
            "text/plain": [
              "'spamSpam!'"
            ]
          },
          "metadata": {
            "tags": []
          },
          "execution_count": 5
        }
      ]
    },
    {
      "cell_type": "code",
      "metadata": {
        "id": "VFiXe-IJ40zA",
        "colab_type": "code",
        "outputId": "7f5667d8-2e0f-4bd9-cb6f-8845d7e7887d",
        "colab": {
          "base_uri": "https://localhost:8080/",
          "height": 34
        }
      },
      "source": [
        "'That is %d %s bird!' % (1, 'dead') # like C sprintf"
      ],
      "execution_count": 0,
      "outputs": [
        {
          "output_type": "execute_result",
          "data": {
            "text/plain": [
              "'That is 1 dead bird!'"
            ]
          },
          "metadata": {
            "tags": []
          },
          "execution_count": 6
        }
      ]
    },
    {
      "cell_type": "markdown",
      "metadata": {
        "id": "JS2HWWHQHQ_x",
        "colab_type": "text"
      },
      "source": [
        "**Concatenation and repetition**\n",
        "\n",
        "*      X + Y makes a new sequence object with the contents of both operands\n",
        "*      X * N makes a new sequence object with N copies of the sequence operand"
      ]
    },
    {
      "cell_type": "markdown",
      "metadata": {
        "id": "Vyt2vF6AHbL9",
        "colab_type": "text"
      },
      "source": [
        "**Indexing and slicing**\n",
        "\n",
        "*    Indexing\n",
        "     -      Fetches components via offsets: zero-based\n",
        "     -      Negative indexes: adds length to offset\n",
        "     -      S[0] is the first item\n",
        "     -      S[-2] is the second from the end (4 - 2)\n",
        "     -      Also works on mappings, but index is a key\n",
        "*    Slicing\n",
        "     -      Extracts contiguous sections of a sequence\n",
        "     -      Slices default to 0 and the sequence length if omitted\n",
        "     -      S[1:3] fetches from offsets 1 up to but not including 3\n",
        "     -      S[1:] fetches from offsets 1 through the end (length)\n",
        "     -      S[:-1] fetches from offsets 0 up to but not including last\n",
        "     -      S[I:J:K] newer, I to J by K, K is a stride/step (S[::2])"
      ]
    },
    {
      "cell_type": "markdown",
      "metadata": {
        "id": "H3sTxicbHpRA",
        "colab_type": "text"
      },
      "source": [
        "###Lists"
      ]
    },
    {
      "cell_type": "markdown",
      "metadata": {
        "id": "okYJbAo4Ht7Q",
        "colab_type": "text"
      },
      "source": [
        "*     Arrays of object references\n",
        "*     Access by offset\n",
        "*     Variable length, heterogeneous, arbitrarily nestable\n",
        "*     Category: mutable sequence\n",
        "*     Ordered collections of arbitrary objects"
      ]
    },
    {
      "cell_type": "markdown",
      "metadata": {
        "id": "s-c4t_bC-IQ6",
        "colab_type": "text"
      },
      "source": [
        "![ML position](https://raw.githubusercontent.com/fbeilstein/machine_learning/master/lecture_01_and_lecture_02_intro_and_python/python_list.png)"
      ]
    },
    {
      "cell_type": "markdown",
      "metadata": {
        "id": "jibfGVKPbhDo",
        "colab_type": "text"
      },
      "source": [
        "**Common list operations**\n",
        "\n",
        "Operation |\tInterpretation\n",
        "---|---\n",
        "L1 = [] |\tan empty list\n",
        "L2 = [0, 1, 2, 3] |\t4-items: indexes 0..3\n",
        "['abc', ['def', 'ghi']] |\tnested sublists\n",
        "L2[i], L2[i:j], len(L2) |\tindex, slice, length\n",
        "L1 + L2, L2 * 3 |\tconcatenate, repeat\n",
        "L1.sort(), L2.append(4) |\tmethods: sort, grow\n",
        "del L2[k], L2[i:j] = [] |\tshrinking\n",
        "L2[i:j] = [1,2,3] |\tslice assignment\n",
        "range(4), xrange(0, 4) |\tmake integer lists\n",
        "for x in L2, 3 in L2 |\titeration/membership"
      ]
    },
    {
      "cell_type": "markdown",
      "metadata": {
        "id": "SxTL19YgHxEN",
        "colab_type": "text"
      },
      "source": [
        "**Lists in action**"
      ]
    },
    {
      "cell_type": "code",
      "metadata": {
        "id": "e6zSktYqbhDp",
        "colab_type": "code",
        "outputId": "e84f8a31-b4d8-4988-abd2-2df06ed97409",
        "colab": {
          "base_uri": "https://localhost:8080/",
          "height": 34
        }
      },
      "source": [
        "[1, 2, 3] + [4, 5, 6] # concatenation"
      ],
      "execution_count": 0,
      "outputs": [
        {
          "output_type": "execute_result",
          "data": {
            "text/plain": [
              "[1, 2, 3, 4, 5, 6]"
            ]
          },
          "metadata": {
            "tags": []
          },
          "execution_count": 46
        }
      ]
    },
    {
      "cell_type": "code",
      "metadata": {
        "id": "ft-CJjqZIffF",
        "colab_type": "code",
        "outputId": "6d44aac6-ab1f-4e7c-973f-11ad32f42b10",
        "colab": {
          "base_uri": "https://localhost:8080/",
          "height": 35
        }
      },
      "source": [
        "['Hi!'] * 4 # repetition"
      ],
      "execution_count": 0,
      "outputs": [
        {
          "output_type": "execute_result",
          "data": {
            "text/plain": [
              "['Hi!', 'Hi!', 'Hi!', 'Hi!']"
            ]
          },
          "metadata": {
            "tags": []
          },
          "execution_count": 7
        }
      ]
    },
    {
      "cell_type": "code",
      "metadata": {
        "id": "9qXSD6HDbhDr",
        "colab_type": "code",
        "cellView": "form",
        "outputId": "f4e38534-9a4a-40be-965f-5268de02d2ee",
        "colab": {
          "base_uri": "https://localhost:8080/",
          "height": 820
        }
      },
      "source": [
        "#@title ##Example: indexing, slicing, iteration\n",
        "%%debug_cell_with_pytutor\n",
        "\n",
        "L = ['spam', 'Spam', 'SPAM!']\n",
        "# Indexing and slicing\n",
        "print(L[2])\n",
        "print(L[1:])\n",
        "\n",
        "L[1] = 'eggs' # index assignment\n",
        "print(L)\n",
        "\n",
        "L[0:2] = ['eat', 'more'] # slice assignment\n",
        "print(L) # replace items 0,1\n",
        "\n",
        "L.append('please') # append method call\n",
        "print(L)\n",
        "\n",
        "for x in L: # Preview: iteration/membership\n",
        "  print(x, end=',')"
      ],
      "execution_count": 0,
      "outputs": [
        {
          "output_type": "display_data",
          "data": {
            "text/html": [
              "<iframe width=\"1300\" height=\"800\" frameborder=\"0\" src=\"https://pythontutor.com/iframe-embed.html#code=%0AL%20%3D%20%5B%27spam%27%2C%20%27Spam%27%2C%20%27SPAM%21%27%5D%0Aprint%28L%5B2%5D%29%0Aprint%28L%5B1%3A%5D%29%0A%0AL%5B1%5D%20%3D%20%27eggs%27%20%23%20index%20assignment%0Aprint%28L%29%0A%0AL%5B0%3A2%5D%20%3D%20%5B%27eat%27%2C%20%27more%27%5D%20%23%20slice%20assignment%0Aprint%28L%29%20%23%20replace%20items%200%2C1%0A%0AL.append%28%27please%27%29%20%23%20append%20method%20call%0Aprint%28L%29%0A%0Afor%20x%20in%20L%3A%20%23%20Preview%3A%20iteration/membership%0A%20%20print%28x%2C%20end%3D%27%2C%27%29&cumulative=false&py=3&curInstr=0\"></iframe>"
            ],
            "text/plain": [
              "<IPython.core.display.HTML object>"
            ]
          },
          "metadata": {
            "tags": []
          }
        }
      ]
    },
    {
      "cell_type": "markdown",
      "metadata": {
        "id": "t8FEJ0UIbhDv",
        "colab_type": "text"
      },
      "source": [
        "**Changing lists in-place**"
      ]
    },
    {
      "cell_type": "markdown",
      "metadata": {
        "id": "1QIPO6I1bhDx",
        "colab_type": "text"
      },
      "source": [
        "*      Only works for mutable objects: not strings\n",
        "*      Index assignment replaces an object reference\n",
        "*      Slice assignment deletes a slice and inserts new items\n",
        "*      Append method inserts a new item on the end (realloc)"
      ]
    },
    {
      "cell_type": "markdown",
      "metadata": {
        "id": "khkL8q1XbhDz",
        "colab_type": "text"
      },
      "source": [
        "**Example: 2-dimensional array**"
      ]
    },
    {
      "cell_type": "code",
      "metadata": {
        "id": "mgjtH7EVLE_b",
        "colab_type": "code",
        "outputId": "e6a02fee-224e-4883-d1cb-f6ac923a369b",
        "cellView": "form",
        "colab": {
          "base_uri": "https://localhost:8080/",
          "height": 820
        }
      },
      "source": [
        "#@title ##Example: 2-dimensional array\n",
        "%%debug_cell_with_pytutor\n",
        "\n",
        "matrix = [[1, 2, 3],\n",
        "          [4, 5, 6],\n",
        "          [7, 8, 9]]\n",
        "print(matrix)\n",
        "\n",
        "print(matrix[1])\n",
        "\n",
        "print(matrix[1][1])\n",
        "\n",
        "print(matrix[2][0])"
      ],
      "execution_count": 0,
      "outputs": [
        {
          "output_type": "display_data",
          "data": {
            "text/html": [
              "<iframe width=\"1300\" height=\"800\" frameborder=\"0\" src=\"https://pythontutor.com/iframe-embed.html#code=%0Amatrix%20%3D%20%5B%5B1%2C%202%2C%203%5D%2C%0A%20%20%20%20%20%20%20%20%20%20%5B4%2C%205%2C%206%5D%2C%0A%20%20%20%20%20%20%20%20%20%20%5B7%2C%208%2C%209%5D%5D%0Aprint%28matrix%29%0A%0Aprint%28matrix%5B1%5D%29%0A%0Aprint%28matrix%5B1%5D%5B1%5D%29%0A%0Aprint%28matrix%5B2%5D%5B0%5D%29&cumulative=false&py=3&curInstr=0\"></iframe>"
            ],
            "text/plain": [
              "<IPython.core.display.HTML object>"
            ]
          },
          "metadata": {
            "tags": []
          }
        }
      ]
    },
    {
      "cell_type": "markdown",
      "metadata": {
        "id": "WlbIkiaHLO-U",
        "colab_type": "text"
      },
      "source": [
        "###Dictionaries"
      ]
    },
    {
      "cell_type": "markdown",
      "metadata": {
        "id": "YxiFxp7fLTkU",
        "colab_type": "text"
      },
      "source": [
        "*     Tables of object references\n",
        "*     Access by key, not offset (hash-tables)\n",
        "*     Variable length, heterogeneous, arbitrarily nestable\n",
        "*     Category: mutable mappings (not a sequence)\n",
        "*     Unordered collections of arbitrary objects"
      ]
    },
    {
      "cell_type": "markdown",
      "metadata": {
        "id": "dCBzV2l1bhD1",
        "colab_type": "text"
      },
      "source": [
        "**Common dictionary operations**\n",
        "\n",
        "Operation |\tInterpretation\n",
        "---|---\n",
        "d1 = {} |\tempty dictionary\n",
        "d2 = {'spam': 2, 'eggs': 3} |\t2 items\n",
        "d3 = {'food': {'ham': 1, 'egg': 2}} |\tnesting\n",
        "d2['eggs'], d3['food']['ham'] |\tindexing by key\n",
        "d2.has_key('eggs'), d2.keys() |\tmethods\n",
        "d2.get('eggs', default) |\tdefault values\n",
        "len(d1) |\tlength (entries)\n",
        "d2[key] = new, del d2[key] |\tadding/changing"
      ]
    },
    {
      "cell_type": "markdown",
      "metadata": {
        "id": "clJiAvKeLWjL",
        "colab_type": "text"
      },
      "source": [
        "**Dictionaries in action**"
      ]
    },
    {
      "cell_type": "code",
      "metadata": {
        "id": "Lf3Qg6xlOH0r",
        "colab_type": "code",
        "outputId": "d8f0887c-52d7-4831-be51-fa875d09ba68",
        "colab": {
          "base_uri": "https://localhost:8080/",
          "height": 34
        }
      },
      "source": [
        "d2 = {'spam': 2, 'ham': 1, 'eggs': 3}\n",
        "d2['spam']"
      ],
      "execution_count": 0,
      "outputs": [
        {
          "output_type": "execute_result",
          "data": {
            "text/plain": [
              "2"
            ]
          },
          "metadata": {
            "tags": []
          },
          "execution_count": 56
        }
      ]
    },
    {
      "cell_type": "code",
      "metadata": {
        "id": "1uZVaY2mOKc7",
        "colab_type": "code",
        "outputId": "b2a213a2-a447-464c-b360-8f70ea044304",
        "colab": {
          "base_uri": "https://localhost:8080/",
          "height": 34
        }
      },
      "source": [
        "len(d2) # number entries"
      ],
      "execution_count": 0,
      "outputs": [
        {
          "output_type": "execute_result",
          "data": {
            "text/plain": [
              "3"
            ]
          },
          "metadata": {
            "tags": []
          },
          "execution_count": 57
        }
      ]
    },
    {
      "cell_type": "code",
      "metadata": {
        "id": "6JHim1pVbhD1",
        "colab_type": "code",
        "outputId": "e3f1b735-6620-4b92-b7d0-2ca4296785c0",
        "colab": {
          "base_uri": "https://localhost:8080/",
          "height": 34
        }
      },
      "source": [
        "d2.keys() # list of keys"
      ],
      "execution_count": 0,
      "outputs": [
        {
          "output_type": "execute_result",
          "data": {
            "text/plain": [
              "dict_keys(['spam', 'ham', 'eggs'])"
            ]
          },
          "metadata": {
            "tags": []
          },
          "execution_count": 58
        }
      ]
    },
    {
      "cell_type": "markdown",
      "metadata": {
        "id": "Gi6fCJTobhD3",
        "colab_type": "text"
      },
      "source": [
        "**Changing dictionaries**"
      ]
    },
    {
      "cell_type": "code",
      "metadata": {
        "id": "Qpq7Hv4xOP1T",
        "colab_type": "code",
        "outputId": "b4f575dc-02bc-47fe-ba9a-789dc4b1121a",
        "colab": {
          "base_uri": "https://localhost:8080/",
          "height": 34
        }
      },
      "source": [
        "d2['ham'] = ['grill', 'bake', 'fry']\n",
        "d2"
      ],
      "execution_count": 0,
      "outputs": [
        {
          "output_type": "execute_result",
          "data": {
            "text/plain": [
              "{'eggs': 3, 'ham': ['grill', 'bake', 'fry'], 'spam': 2}"
            ]
          },
          "metadata": {
            "tags": []
          },
          "execution_count": 59
        }
      ]
    },
    {
      "cell_type": "code",
      "metadata": {
        "id": "XRQpia_hbhD3",
        "colab_type": "code",
        "outputId": "cf9f6b33-9912-4f2d-e7a2-e304b5382a40",
        "colab": {
          "base_uri": "https://localhost:8080/",
          "height": 34
        }
      },
      "source": [
        "del d2['eggs']\n",
        "d2"
      ],
      "execution_count": 0,
      "outputs": [
        {
          "output_type": "execute_result",
          "data": {
            "text/plain": [
              "{'ham': ['grill', 'bake', 'fry'], 'spam': 2}"
            ]
          },
          "metadata": {
            "tags": []
          },
          "execution_count": 60
        }
      ]
    },
    {
      "cell_type": "markdown",
      "metadata": {
        "id": "sGEOAFDNbhD5",
        "colab_type": "text"
      },
      "source": [
        "**Making dictionaries**"
      ]
    },
    {
      "cell_type": "code",
      "metadata": {
        "id": "gxdyphQTbhD5",
        "colab_type": "code",
        "outputId": "2b888b8f-bd0c-4843-8542-b5a5e50afecd",
        "colab": {
          "base_uri": "https://localhost:8080/",
          "height": 34
        }
      },
      "source": [
        "# literals\n",
        "D = {'name': 'Bob', 'age': 42, 'job': 'dev'}\n",
        "D"
      ],
      "execution_count": 0,
      "outputs": [
        {
          "output_type": "execute_result",
          "data": {
            "text/plain": [
              "{'age': 42, 'job': 'dev', 'name': 'Bob'}"
            ]
          },
          "metadata": {
            "tags": []
          },
          "execution_count": 61
        }
      ]
    },
    {
      "cell_type": "code",
      "metadata": {
        "id": "LjunZRaCbhD6",
        "colab_type": "code",
        "outputId": "27f5b57b-92b7-4cf0-8c38-ac4bdc6375f4",
        "colab": {
          "base_uri": "https://localhost:8080/",
          "height": 34
        }
      },
      "source": [
        "# keywords\n",
        "D = dict(name='Bob', age=42, job='dev')\n",
        "D"
      ],
      "execution_count": 0,
      "outputs": [
        {
          "output_type": "execute_result",
          "data": {
            "text/plain": [
              "{'age': 42, 'job': 'dev', 'name': 'Bob'}"
            ]
          },
          "metadata": {
            "tags": []
          },
          "execution_count": 62
        }
      ]
    },
    {
      "cell_type": "code",
      "metadata": {
        "id": "OAwqiZiQbhD7",
        "colab_type": "code",
        "outputId": "55c19592-98f5-4106-f35f-5b52ac236afb",
        "colab": {
          "base_uri": "https://localhost:8080/",
          "height": 34
        }
      },
      "source": [
        "# field by field\n",
        "D = {}\n",
        "D['name'] = 'Bob'\n",
        "D['age'] = 42\n",
        "D['job'] = 'dev'\n",
        "D"
      ],
      "execution_count": 0,
      "outputs": [
        {
          "output_type": "execute_result",
          "data": {
            "text/plain": [
              "{'age': 42, 'job': 'dev', 'name': 'Bob'}"
            ]
          },
          "metadata": {
            "tags": []
          },
          "execution_count": 63
        }
      ]
    },
    {
      "cell_type": "code",
      "metadata": {
        "id": "SijLtHambhD8",
        "colab_type": "code",
        "outputId": "ceb76129-9457-4029-c666-ded49171a851",
        "colab": {
          "base_uri": "https://localhost:8080/",
          "height": 34
        }
      },
      "source": [
        "# zipped keys/values\n",
        "pairs = zip(['name', 'age', 'job'], ('Bob', 42, 'dev'))\n",
        "pairs"
      ],
      "execution_count": 0,
      "outputs": [
        {
          "output_type": "execute_result",
          "data": {
            "text/plain": [
              "<zip at 0x7fb2d7cc9b08>"
            ]
          },
          "metadata": {
            "tags": []
          },
          "execution_count": 64
        }
      ]
    },
    {
      "cell_type": "code",
      "metadata": {
        "id": "cxsEhBPiOgRz",
        "colab_type": "code",
        "outputId": "0090773f-b0a8-449d-e838-373ead99c912",
        "colab": {
          "base_uri": "https://localhost:8080/",
          "height": 34
        }
      },
      "source": [
        "D = dict(pairs)\n",
        "D"
      ],
      "execution_count": 0,
      "outputs": [
        {
          "output_type": "execute_result",
          "data": {
            "text/plain": [
              "{'age': 42, 'job': 'dev', 'name': 'Bob'}"
            ]
          },
          "metadata": {
            "tags": []
          },
          "execution_count": 65
        }
      ]
    },
    {
      "cell_type": "code",
      "metadata": {
        "id": "fJlwrsSEbhD-",
        "colab_type": "code",
        "outputId": "39162481-a248-4e60-eaf5-627f8a0a11a1",
        "colab": {
          "base_uri": "https://localhost:8080/",
          "height": 34
        }
      },
      "source": [
        "# key lists\n",
        "D = dict.fromkeys(['name', 'age', 'job'], '?')\n",
        "D"
      ],
      "execution_count": 0,
      "outputs": [
        {
          "output_type": "execute_result",
          "data": {
            "text/plain": [
              "{'age': '?', 'job': '?', 'name': '?'}"
            ]
          },
          "metadata": {
            "tags": []
          },
          "execution_count": 67
        }
      ]
    },
    {
      "cell_type": "code",
      "metadata": {
        "id": "OX1p8aTVOvPi",
        "colab_type": "code",
        "outputId": "39049001-0e08-4841-b5b6-6ae025c23b1b",
        "cellView": "form",
        "colab": {
          "base_uri": "https://localhost:8080/",
          "height": 820
        }
      },
      "source": [
        "#@title ##Example: A language table\n",
        "%%debug_cell_with_pytutor\n",
        "table = {'Perl': 'Larry Wall', \n",
        "         'Tcl': 'John Ousterhout', \n",
        "         'Python': 'Guido van Rossum' }\n",
        "\n",
        "language = 'Python'\n",
        "creator = table[language]\n",
        "print(creator)\n",
        "\n",
        "for lang in table.keys(): \n",
        "  print(lang)"
      ],
      "execution_count": 0,
      "outputs": [
        {
          "output_type": "display_data",
          "data": {
            "text/html": [
              "<iframe width=\"1300\" height=\"800\" frameborder=\"0\" src=\"https://pythontutor.com/iframe-embed.html#code=table%20%3D%20%7B%27Perl%27%3A%20%27Larry%20Wall%27%2C%20%0A%20%20%20%20%20%20%20%20%20%27Tcl%27%3A%20%27John%20Ousterhout%27%2C%20%0A%20%20%20%20%20%20%20%20%20%27Python%27%3A%20%27Guido%20van%20Rossum%27%20%7D%0A%0Alanguage%20%3D%20%27Python%27%0Acreator%20%3D%20table%5Blanguage%5D%0Aprint%28creator%29%0A%0Afor%20lang%20in%20table.keys%28%29%3A%20%0A%20%20print%28lang%29&cumulative=false&py=3&curInstr=0\"></iframe>"
            ],
            "text/plain": [
              "<IPython.core.display.HTML object>"
            ]
          },
          "metadata": {
            "tags": []
          }
        }
      ]
    },
    {
      "cell_type": "markdown",
      "metadata": {
        "id": "t6OKSjwXbhEB",
        "colab_type": "text"
      },
      "source": [
        "**Dictionary usage notes**\n",
        "\n",
        "*      Sequence operations don't work!\n",
        "*      Assigning to new indexes adds entries\n",
        "*      Keys need not always be strings"
      ]
    },
    {
      "cell_type": "markdown",
      "metadata": {
        "id": "9j6boZqHO3TA",
        "colab_type": "text"
      },
      "source": [
        "**Example: simulating auto-grown lists**"
      ]
    },
    {
      "cell_type": "code",
      "metadata": {
        "id": "7iuU2sFBSQ9D",
        "colab_type": "code",
        "outputId": "1a157441-ef17-483b-d508-957343ca8b5b",
        "colab": {
          "base_uri": "https://localhost:8080/",
          "height": 214
        }
      },
      "source": [
        "L = [] # L=[0]*100 would help\n",
        "print(\"ERROR EXPECTED\")\n",
        "L[99] = 'spam'"
      ],
      "execution_count": 0,
      "outputs": [
        {
          "output_type": "stream",
          "text": [
            "ERROR EXPECTED\n"
          ],
          "name": "stdout"
        },
        {
          "output_type": "error",
          "ename": "IndexError",
          "evalue": "ignored",
          "traceback": [
            "\u001b[0;31m---------------------------------------------------------------------------\u001b[0m",
            "\u001b[0;31mIndexError\u001b[0m                                Traceback (most recent call last)",
            "\u001b[0;32m<ipython-input-70-3cb2041586c1>\u001b[0m in \u001b[0;36m<module>\u001b[0;34m()\u001b[0m\n\u001b[1;32m      1\u001b[0m \u001b[0mL\u001b[0m \u001b[0;34m=\u001b[0m \u001b[0;34m[\u001b[0m\u001b[0;34m]\u001b[0m \u001b[0;31m# L=[0]*100 would help\u001b[0m\u001b[0;34m\u001b[0m\u001b[0;34m\u001b[0m\u001b[0m\n\u001b[1;32m      2\u001b[0m \u001b[0mprint\u001b[0m\u001b[0;34m(\u001b[0m\u001b[0;34m\"ERROR EXPECTED\"\u001b[0m\u001b[0;34m)\u001b[0m\u001b[0;34m\u001b[0m\u001b[0;34m\u001b[0m\u001b[0m\n\u001b[0;32m----> 3\u001b[0;31m \u001b[0mL\u001b[0m\u001b[0;34m[\u001b[0m\u001b[0;36m99\u001b[0m\u001b[0;34m]\u001b[0m \u001b[0;34m=\u001b[0m \u001b[0;34m'spam'\u001b[0m\u001b[0;34m\u001b[0m\u001b[0;34m\u001b[0m\u001b[0m\n\u001b[0m",
            "\u001b[0;31mIndexError\u001b[0m: list assignment index out of range"
          ]
        }
      ]
    },
    {
      "cell_type": "code",
      "metadata": {
        "id": "2CRsER1ZbhEC",
        "colab_type": "code",
        "outputId": "cdf6ace0-33d1-4df5-d7ad-684040772678",
        "colab": {
          "base_uri": "https://localhost:8080/",
          "height": 34
        }
      },
      "source": [
        "D = {}\n",
        "D[99] = 'spam'\n",
        "D[99]"
      ],
      "execution_count": 0,
      "outputs": [
        {
          "output_type": "execute_result",
          "data": {
            "text/plain": [
              "'spam'"
            ]
          },
          "metadata": {
            "tags": []
          },
          "execution_count": 71
        }
      ]
    },
    {
      "cell_type": "code",
      "metadata": {
        "id": "-P2RCMbASaqi",
        "colab_type": "code",
        "outputId": "db708cc3-2eb4-4c21-fef0-0c40ad901cd4",
        "colab": {
          "base_uri": "https://localhost:8080/",
          "height": 34
        }
      },
      "source": [
        "D"
      ],
      "execution_count": 0,
      "outputs": [
        {
          "output_type": "execute_result",
          "data": {
            "text/plain": [
              "{99: 'spam'}"
            ]
          },
          "metadata": {
            "tags": []
          },
          "execution_count": 72
        }
      ]
    },
    {
      "cell_type": "markdown",
      "metadata": {
        "id": "y2dypUNFWJLt",
        "colab_type": "text"
      },
      "source": [
        "###Tuples"
      ]
    },
    {
      "cell_type": "markdown",
      "metadata": {
        "id": "urbglN2BbhEL",
        "colab_type": "text"
      },
      "source": [
        "*     Arrays of object references\n",
        "*     Access by offset\n",
        "*     Fixed length, heterogeneous, arbitrarily nestable\n",
        "*     Category: immutable sequences (cant be changed)\n",
        "*     Ordered collections of arbitrary objects"
      ]
    },
    {
      "cell_type": "markdown",
      "metadata": {
        "id": "YChyVDJcWO5a",
        "colab_type": "text"
      },
      "source": [
        "**Common tuple operations**\n",
        "\n",
        "Operation |\tInterpretation\n",
        "---|---\n",
        "() |\tan empty tuple\n",
        "T1 = (0,) |\ta one-item tuple\n",
        "T2 = (0, 1, 2, 3) |\ta 4-item tuple\n",
        "T2 = 0, 1, 2, 3 |\tanother 4-item tuple\n",
        "T3 = ('abc', ('def', 'ghi')) |\tnested tuples\n",
        "T1[i], t1[i:j], len(t1) |\tindex, slice, length\n",
        "T1 + t2, t2 * 3 |\tconcatenate, repeat\n",
        "for x in t2, 3 in t2 |\titeration/membership"
      ]
    },
    {
      "cell_type": "markdown",
      "metadata": {
        "id": "0B4IyvQyWSXB",
        "colab_type": "text"
      },
      "source": [
        "**Tuples in action**"
      ]
    },
    {
      "cell_type": "code",
      "metadata": {
        "id": "UJQapueFWWd4",
        "colab_type": "code",
        "outputId": "3142bc71-4c38-4bef-dc71-b272915fd1e5",
        "colab": {
          "base_uri": "https://localhost:8080/",
          "height": 34
        }
      },
      "source": [
        "T1 = (1, 'spam')\n",
        "T2 = (2, 'ni')\n",
        " \n",
        "T1 + T2"
      ],
      "execution_count": 0,
      "outputs": [
        {
          "output_type": "execute_result",
          "data": {
            "text/plain": [
              "(1, 'spam', 2, 'ni')"
            ]
          },
          "metadata": {
            "tags": []
          },
          "execution_count": 87
        }
      ]
    },
    {
      "cell_type": "code",
      "metadata": {
        "id": "-RQx1uHhbhEL",
        "colab_type": "code",
        "outputId": "bd142695-6409-4e6d-a376-58c315d8ab8c",
        "colab": {
          "base_uri": "https://localhost:8080/",
          "height": 34
        }
      },
      "source": [
        "T1 * 4"
      ],
      "execution_count": 0,
      "outputs": [
        {
          "output_type": "execute_result",
          "data": {
            "text/plain": [
              "(1, 'spam', 1, 'spam', 1, 'spam', 1, 'spam')"
            ]
          },
          "metadata": {
            "tags": []
          },
          "execution_count": 88
        }
      ]
    },
    {
      "cell_type": "code",
      "metadata": {
        "id": "gONrKzY4Wbo-",
        "colab_type": "code",
        "outputId": "59c545cf-6005-4a83-b2fd-9140d03db973",
        "colab": {
          "base_uri": "https://localhost:8080/",
          "height": 34
        }
      },
      "source": [
        "T2[1]"
      ],
      "execution_count": 0,
      "outputs": [
        {
          "output_type": "execute_result",
          "data": {
            "text/plain": [
              "'ni'"
            ]
          },
          "metadata": {
            "tags": []
          },
          "execution_count": 89
        }
      ]
    },
    {
      "cell_type": "code",
      "metadata": {
        "id": "6ctm0CifWeWN",
        "colab_type": "code",
        "outputId": "bf44d02c-7039-4c08-c48a-c6f9dbbd7db4",
        "colab": {
          "base_uri": "https://localhost:8080/",
          "height": 34
        }
      },
      "source": [
        "T2[1:]"
      ],
      "execution_count": 0,
      "outputs": [
        {
          "output_type": "execute_result",
          "data": {
            "text/plain": [
              "('ni',)"
            ]
          },
          "metadata": {
            "tags": []
          },
          "execution_count": 90
        }
      ]
    },
    {
      "cell_type": "markdown",
      "metadata": {
        "id": "xUWJ2HkiWiQA",
        "colab_type": "text"
      },
      "source": [
        "**Why lists and tuples?**\n",
        "\n",
        "*      Immutability provides integrity\n",
        "*      Some built-in operations require tuples (argument lists)\n",
        "*      Guido was a mathematician: sets versus data structures"
      ]
    },
    {
      "cell_type": "markdown",
      "metadata": {
        "id": "kSY8u0SRhJc8",
        "colab_type": "text"
      },
      "source": [
        "###General object properties"
      ]
    },
    {
      "cell_type": "markdown",
      "metadata": {
        "colab_type": "text",
        "id": "vA1Ka87rSyCZ"
      },
      "source": [
        "**Generic type concepts**\n",
        "\n",
        "*    Types share operation sets by categories\n",
        "*    Numbers support addition, multiplication, . . .\n",
        "*    Sequences support indexing, slicing, concatenation, . . .\n",
        "*    Mappings support indexing by key, . . .\n",
        "*    Mutable types can be changed in place\n",
        "*    Strings are **immutable sequences**"
      ]
    },
    {
      "cell_type": "markdown",
      "metadata": {
        "id": "kU0AydAKhO02",
        "colab_type": "text"
      },
      "source": [
        "**Type categories revisited**\n",
        "\n",
        "*      Objects share operations according to their category\n",
        "*      Only mutable objects may be changed in-place"
      ]
    },
    {
      "cell_type": "markdown",
      "metadata": {
        "id": "h1sj1bpdhRvu",
        "colab_type": "text"
      },
      "source": [
        "Object type |\tCategory |\tMutable?\n",
        "---|---|---\n",
        "Numbers |\tNumeric |\tNo\n",
        "Strings |\tSequence |\tNo\n",
        "Lists |\tSequence |\tYes\n",
        "Dictionaries |\tMapping |\tYes\n",
        "Tuples |\tSequence |\tNo\n",
        "Files |\tExtension |\tn/a"
      ]
    },
    {
      "cell_type": "markdown",
      "metadata": {
        "id": "HyEN6fvKbhEP",
        "colab_type": "text"
      },
      "source": [
        "**Generality**\n",
        "\n",
        "*     Lists, dictionaries, and tuples can hold any kind of object\n",
        "*     Lists, dictionaries, and tuples can be arbitrarily nested\n",
        "*     Lists and dictionaries can dynamically grow and shrink"
      ]
    },
    {
      "cell_type": "markdown",
      "metadata": {
        "id": "RuSE8aaBhf1O",
        "colab_type": "text"
      },
      "source": [
        "**Nesting example**"
      ]
    },
    {
      "cell_type": "code",
      "metadata": {
        "id": "9zbTEPRUhioG",
        "colab_type": "code",
        "outputId": "fdb178cb-be02-45a8-d571-6dcec943bcb8",
        "colab": {
          "base_uri": "https://localhost:8080/",
          "height": 34
        }
      },
      "source": [
        "L = ['abc', [(1, 2), ([3], 4)], 5]\n",
        "L[1][1]"
      ],
      "execution_count": 0,
      "outputs": [
        {
          "output_type": "execute_result",
          "data": {
            "text/plain": [
              "([3], 4)"
            ]
          },
          "metadata": {
            "tags": []
          },
          "execution_count": 92
        }
      ]
    },
    {
      "cell_type": "code",
      "metadata": {
        "id": "VSScAcTZhk6P",
        "colab_type": "code",
        "outputId": "8894dad4-9560-4867-bf1e-43d72f3f409e",
        "colab": {
          "base_uri": "https://localhost:8080/",
          "height": 34
        }
      },
      "source": [
        "L[1][1][0]"
      ],
      "execution_count": 0,
      "outputs": [
        {
          "output_type": "execute_result",
          "data": {
            "text/plain": [
              "[3]"
            ]
          },
          "metadata": {
            "tags": []
          },
          "execution_count": 93
        }
      ]
    },
    {
      "cell_type": "code",
      "metadata": {
        "id": "fLDJGcIxbhEQ",
        "colab_type": "code",
        "outputId": "002e7cf6-bf15-4237-d098-c873e526438d",
        "colab": {
          "base_uri": "https://localhost:8080/",
          "height": 34
        }
      },
      "source": [
        "L[1][1][0][0]"
      ],
      "execution_count": 0,
      "outputs": [
        {
          "output_type": "execute_result",
          "data": {
            "text/plain": [
              "3"
            ]
          },
          "metadata": {
            "tags": []
          },
          "execution_count": 94
        }
      ]
    },
    {
      "cell_type": "markdown",
      "metadata": {
        "id": "xVYQI7yQbhEU",
        "colab_type": "text"
      },
      "source": [
        "**Shared references**\n",
        "\n",
        "*     Assignments always create references to objects\n",
        "*     Can generate shared references to the same object\n",
        "*     Changing a mutable object impacts all references\n",
        "*     To avoid effect: make copies with X[:], list(X), etc.\n",
        "*     Tip: distinguish between names and objects!\n",
        "       -   Names have no \"type\", but objects do"
      ]
    },
    {
      "cell_type": "code",
      "metadata": {
        "id": "0ESQgRcIhvOe",
        "colab_type": "code",
        "outputId": "3ef2bbcc-0e4f-448a-a76d-bd0ca234af03",
        "cellView": "form",
        "colab": {
          "base_uri": "https://localhost:8080/",
          "height": 820
        }
      },
      "source": [
        "#@title ##Example: shared references\n",
        "%%debug_cell_with_pytutor\n",
        "\n",
        "X = [1, 2, 3]\n",
        "L = ['a', X, 'b']\n",
        "D = {'x':X, 'y':2}\n",
        "\n",
        "print(L)\n",
        "print(D)\n",
        "\n",
        "X[1] = 'surprise' # changes all 3 references!\n",
        "print(L)\n",
        "print(D)"
      ],
      "execution_count": 0,
      "outputs": [
        {
          "output_type": "display_data",
          "data": {
            "text/html": [
              "<iframe width=\"1300\" height=\"800\" frameborder=\"0\" src=\"https://pythontutor.com/iframe-embed.html#code=%0AX%20%3D%20%5B1%2C%202%2C%203%5D%0AL%20%3D%20%5B%27a%27%2C%20X%2C%20%27b%27%5D%0AD%20%3D%20%7B%27x%27%3AX%2C%20%27y%27%3A2%7D%0A%0AX%5B1%5D%20%3D%20%27surprise%27%20%23%20changes%20all%203%20references%21%0Aprint%28L%29%0Aprint%28D%29&cumulative=false&py=3&curInstr=0\"></iframe>"
            ],
            "text/plain": [
              "<IPython.core.display.HTML object>"
            ]
          },
          "metadata": {
            "tags": []
          }
        }
      ]
    },
    {
      "cell_type": "markdown",
      "metadata": {
        "id": "fcWIZB15bhEV",
        "colab_type": "text"
      },
      "source": [
        "**Equality and truth**\n",
        "\n",
        "*     Applied recursively for nested data structures\n",
        "*     is tests identity (object address)\n",
        "*     True: non-zero number or non-empty data structure\n",
        "*     None is a special empty/false object"
      ]
    },
    {
      "cell_type": "code",
      "metadata": {
        "id": "v97LM7kfbhEW",
        "colab_type": "code",
        "outputId": "000c3fa0-8686-40cb-ad49-6d4732a84914",
        "colab": {
          "base_uri": "https://localhost:8080/",
          "height": 34
        }
      },
      "source": [
        "L1 = [1, ('a', 3)] # same value, unique objects\n",
        "L3 = [1, ('a', 3)]\n",
        "L1 == L3, L1 is L3 # equivalent?, same object?"
      ],
      "execution_count": 0,
      "outputs": [
        {
          "output_type": "execute_result",
          "data": {
            "text/plain": [
              "(True, False)"
            ]
          },
          "metadata": {
            "tags": []
          },
          "execution_count": 97
        }
      ]
    },
    {
      "cell_type": "markdown",
      "metadata": {
        "id": "xiJy4OD-bhEX",
        "colab_type": "text"
      },
      "source": [
        "**Other comparisons**\n",
        "\n",
        "*     Applied recursively for nested data structures\n",
        "*     Strings compared lexicographically\n",
        "*     Lists and tuples compared depth-first, left-to-right\n",
        "*     Dictionaries compared by sorted (key, value) lists\n",
        "*     Dictionaries don't compare in 3.X, but their .items() do"
      ]
    },
    {
      "cell_type": "code",
      "metadata": {
        "id": "35ofik7wbhEY",
        "colab_type": "code",
        "outputId": "afa0e0b0-0573-4dae-b921-10ee29dd56f3",
        "colab": {
          "base_uri": "https://localhost:8080/",
          "height": 34
        }
      },
      "source": [
        "L1 = [1, ('a', 3)]\n",
        "L2 = [1, ('a', 2)]\n",
        "L1 < L2, L1 == L2, L1 > L2"
      ],
      "execution_count": 0,
      "outputs": [
        {
          "output_type": "execute_result",
          "data": {
            "text/plain": [
              "(False, False, True)"
            ]
          },
          "metadata": {
            "tags": []
          },
          "execution_count": 98
        }
      ]
    },
    {
      "cell_type": "markdown",
      "metadata": {
        "id": "gC-mRqQdi0V9",
        "colab_type": "text"
      },
      "source": [
        "###Built-in type gotchas"
      ]
    },
    {
      "cell_type": "markdown",
      "metadata": {
        "id": "dn_ixgZubhEe",
        "colab_type": "text"
      },
      "source": [
        "*    Assignment creates references, not copies"
      ]
    },
    {
      "cell_type": "code",
      "metadata": {
        "id": "PYgCijzTktWt",
        "colab_type": "code",
        "outputId": "3014c6c5-3f77-4b74-e35c-162516322813",
        "cellView": "form",
        "colab": {
          "base_uri": "https://localhost:8080/",
          "height": 820
        }
      },
      "source": [
        "#@title ##Example: list references\n",
        "%%debug_cell_with_pytutor\n",
        "\n",
        "L = [1, 2, 3]\n",
        "M = ['X', L, 'Y']\n",
        "print(L)\n",
        "print(M)\n",
        "\n",
        "L[1] = 0\n",
        "print(L)\n",
        "print(M)"
      ],
      "execution_count": 0,
      "outputs": [
        {
          "output_type": "display_data",
          "data": {
            "text/html": [
              "<iframe width=\"1300\" height=\"800\" frameborder=\"0\" src=\"https://pythontutor.com/iframe-embed.html#code=%0AL%20%3D%20%5B1%2C%202%2C%203%5D%0AM%20%3D%20%5B%27X%27%2C%20L%2C%20%27Y%27%5D%0Aprint%28L%29%0Aprint%28M%29%0AL%5B1%5D%20%3D%200%0Aprint%28L%29%0Aprint%28M%29&cumulative=false&py=3&curInstr=0\"></iframe>"
            ],
            "text/plain": [
              "<IPython.core.display.HTML object>"
            ]
          },
          "metadata": {
            "tags": []
          }
        }
      ]
    },
    {
      "cell_type": "markdown",
      "metadata": {
        "id": "EG_zeoONbhEh",
        "colab_type": "text"
      },
      "source": [
        "*    Repetition adds 1-level deep"
      ]
    },
    {
      "cell_type": "code",
      "metadata": {
        "id": "Q1W0-mlRk0rd",
        "colab_type": "code",
        "outputId": "201ab0d2-35c2-40ab-cc08-8d5119e64518",
        "colab": {
          "base_uri": "https://localhost:8080/",
          "height": 51
        }
      },
      "source": [
        "L = [4, 5, 6]\n",
        "X = L * 4 # like [4, 5, 6] + [4, 5, 6] + ...\n",
        "Y = [L] * 4 # [L] + [L] + ... = [L, L,...]\n",
        "X, Y"
      ],
      "execution_count": 0,
      "outputs": [
        {
          "output_type": "execute_result",
          "data": {
            "text/plain": [
              "([4, 5, 6, 4, 5, 6, 4, 5, 6, 4, 5, 6],\n",
              " [[4, 5, 6], [4, 5, 6], [4, 5, 6], [4, 5, 6]])"
            ]
          },
          "metadata": {
            "tags": []
          },
          "execution_count": 116
        }
      ]
    },
    {
      "cell_type": "code",
      "metadata": {
        "id": "9NWYPKTNbhEi",
        "colab_type": "code",
        "outputId": "0fd9a301-44e8-4d4c-bbea-dc2a21c152c7",
        "colab": {
          "base_uri": "https://localhost:8080/",
          "height": 51
        }
      },
      "source": [
        "L[1] = 0\n",
        "X, Y"
      ],
      "execution_count": 0,
      "outputs": [
        {
          "output_type": "execute_result",
          "data": {
            "text/plain": [
              "([4, 5, 6, 4, 5, 6, 4, 5, 6, 4, 5, 6],\n",
              " [[4, 0, 6], [4, 0, 6], [4, 0, 6], [4, 0, 6]])"
            ]
          },
          "metadata": {
            "tags": []
          },
          "execution_count": 117
        }
      ]
    },
    {
      "cell_type": "markdown",
      "metadata": {
        "id": "y1v5dSdMbhEj",
        "colab_type": "text"
      },
      "source": [
        "*    Cyclic structures print oddly (loop in 1.5)"
      ]
    },
    {
      "cell_type": "code",
      "metadata": {
        "id": "uFbhRTxJbhEj",
        "colab_type": "code",
        "outputId": "fb0e93bf-1bec-451a-ec10-883d47e208cc",
        "colab": {
          "base_uri": "https://localhost:8080/",
          "height": 34
        }
      },
      "source": [
        "L = ['hi.']; L.append(L) # append reference to self\n",
        "L # dots=cycle today (no loop)"
      ],
      "execution_count": 0,
      "outputs": [
        {
          "output_type": "execute_result",
          "data": {
            "text/plain": [
              "['hi.', [...]]"
            ]
          },
          "metadata": {
            "tags": []
          },
          "execution_count": 118
        }
      ]
    },
    {
      "cell_type": "markdown",
      "metadata": {
        "id": "flaK7VwIbhEk",
        "colab_type": "text"
      },
      "source": [
        "*    Immutable types cant be changed in-place"
      ]
    },
    {
      "cell_type": "code",
      "metadata": {
        "id": "J7-wfR4YlI6X",
        "colab_type": "code",
        "outputId": "ee671c53-a8f2-4120-9b8a-2a19fc148439",
        "colab": {
          "base_uri": "https://localhost:8080/",
          "height": 214
        }
      },
      "source": [
        "T = (1, 2, 3)\n",
        "print(\"ERROR EXPECTED\")\n",
        "T[2] = 4 # error!"
      ],
      "execution_count": 0,
      "outputs": [
        {
          "output_type": "stream",
          "text": [
            "ERROR EXPECTED\n"
          ],
          "name": "stdout"
        },
        {
          "output_type": "error",
          "ename": "TypeError",
          "evalue": "ignored",
          "traceback": [
            "\u001b[0;31m---------------------------------------------------------------------------\u001b[0m",
            "\u001b[0;31mTypeError\u001b[0m                                 Traceback (most recent call last)",
            "\u001b[0;32m<ipython-input-120-1c0433a04f32>\u001b[0m in \u001b[0;36m<module>\u001b[0;34m()\u001b[0m\n\u001b[1;32m      1\u001b[0m \u001b[0mT\u001b[0m \u001b[0;34m=\u001b[0m \u001b[0;34m(\u001b[0m\u001b[0;36m1\u001b[0m\u001b[0;34m,\u001b[0m \u001b[0;36m2\u001b[0m\u001b[0;34m,\u001b[0m \u001b[0;36m3\u001b[0m\u001b[0;34m)\u001b[0m\u001b[0;34m\u001b[0m\u001b[0;34m\u001b[0m\u001b[0m\n\u001b[1;32m      2\u001b[0m \u001b[0mprint\u001b[0m\u001b[0;34m(\u001b[0m\u001b[0;34m\"ERROR EXPECTED\"\u001b[0m\u001b[0;34m)\u001b[0m\u001b[0;34m\u001b[0m\u001b[0;34m\u001b[0m\u001b[0m\n\u001b[0;32m----> 3\u001b[0;31m \u001b[0mT\u001b[0m\u001b[0;34m[\u001b[0m\u001b[0;36m2\u001b[0m\u001b[0;34m]\u001b[0m \u001b[0;34m=\u001b[0m \u001b[0;36m4\u001b[0m \u001b[0;31m# error!\u001b[0m\u001b[0;34m\u001b[0m\u001b[0;34m\u001b[0m\u001b[0m\n\u001b[0m",
            "\u001b[0;31mTypeError\u001b[0m: 'tuple' object does not support item assignment"
          ]
        }
      ]
    },
    {
      "cell_type": "code",
      "metadata": {
        "id": "lquouZFolOgp",
        "colab_type": "code",
        "outputId": "a9a2219a-6a74-4653-e787-33b14cc25e38",
        "colab": {
          "base_uri": "https://localhost:8080/",
          "height": 34
        }
      },
      "source": [
        "T = T[:2] + (4,) # okay: (1, 2, 4)\n",
        "T"
      ],
      "execution_count": 0,
      "outputs": [
        {
          "output_type": "execute_result",
          "data": {
            "text/plain": [
              "(1, 2, 4)"
            ]
          },
          "metadata": {
            "tags": []
          },
          "execution_count": 122
        }
      ]
    },
    {
      "cell_type": "markdown",
      "metadata": {
        "id": "pxa54tHl-qCE",
        "colab_type": "text"
      },
      "source": [
        "##Basic Statements"
      ]
    },
    {
      "cell_type": "markdown",
      "metadata": {
        "id": "-_7mm0NN-vmz",
        "colab_type": "text"
      },
      "source": [
        "**Python program structure**\n",
        "\n",
        "*     Programs are composed of modules\n",
        "*     Modules contain statements\n",
        "*     Statements contain expressions: logic\n",
        "*     Expressions create and process objects"
      ]
    },
    {
      "cell_type": "markdown",
      "metadata": {
        "id": "whsI_a9nZ59w",
        "colab_type": "text"
      },
      "source": [
        "Statement |\tExamples\n",
        "---|---\n",
        "Assignment |\tcurly, moe, larry = 'good', 'bad', 'ugly'\n",
        "Calls |\tstdout.write(\"spam, ham, toast\\n\")\n",
        "Print (a call in 3.X) |\tprint 1, \"spam\", 4, 'u',\n",
        "If/elif/else |\tif \"python\" in text: mail(poster, spam)\n",
        "For/else |\tfor peteSake in spam: print peteSake\n",
        "While/else |\twhile 1: print 'spam',i; i=i+1\n",
        "Pass |\twhile 1: pass\n",
        "Break, Continue |\twhile 1: break\n",
        "Try/except/finally |\ttry: spam() except: print 'spam error'\n",
        "Raise |\traise overWorked, cause\n",
        "Import, From |\timport chips; from refrigerator import beer\n",
        "Def, Return,Yield |\tdef f(a, b, c=1, *d): return a+b+c+d[0]\n",
        "Class |\tclass subclass(superclass): staticData = []\n",
        "Global, Nonlocal (3.X) |\tdef function(): global x, y; x = 'new'\n",
        "Del |\tdel spam[k]; del spam[i:j]; del spam.attr\n",
        "Exec (a call in 3.X) |\texec \"import \" + moduleName in gdict, ldict\n",
        "Assert |\tassert name != \"\", \"empty name field\"\n",
        "With/As (2.6+) |\twith open('text.dat') as F: process(F)"
      ]
    },
    {
      "cell_type": "markdown",
      "metadata": {
        "id": "WhwvH7kXAU8X",
        "colab_type": "text"
      },
      "source": [
        "###General syntax concepts"
      ]
    },
    {
      "cell_type": "markdown",
      "metadata": {
        "id": "MxQk2a16AZiL",
        "colab_type": "text"
      },
      "source": [
        "**Python syntax**\n",
        "\n",
        "*     No variable/type declarations\n",
        "*     No braces or semicolons\n",
        "*     The what you see is what you get of languages"
      ]
    },
    {
      "cell_type": "markdown",
      "metadata": {
        "id": "OcFkYsAjAgd7",
        "colab_type": "text"
      },
      "source": [
        "**Python assignment**\n",
        "\n",
        "*     Assignments create object references\n",
        "*     Names are created when first assigned\n",
        "*     Names must be assigned before being referenced"
      ]
    },
    {
      "cell_type": "markdown",
      "metadata": {
        "id": "yspBwjrfAmxA",
        "colab_type": "text"
      },
      "source": [
        "**A Tale of Two Ifs**\n",
        "\n",
        "C++/Java/etc.:\n",
        "```c\n",
        "if (x)\n",
        "{\n",
        "    x = y + z; // braces, semicolons, parenthesis\n",
        "}\n",
        "```\n",
        "\n",
        "Python:\n",
        "```python\n",
        "if x:\n",
        "  x = y + z # indented blocks, end of line, colon\n",
        "```\n",
        "\n",
        "*      What Python removes [(), ;, {}], and adds [:]\n",
        "*      Why indentation syntax? [readability counts!]"
      ]
    },
    {
      "cell_type": "markdown",
      "metadata": {
        "id": "goHPr7ijBQZe",
        "colab_type": "text"
      },
      "source": [
        "###Assignment"
      ]
    },
    {
      "cell_type": "markdown",
      "metadata": {
        "id": "Bst_ff8WBbeA",
        "colab_type": "text"
      },
      "source": [
        "*     = assigns object references to names or components\n",
        "*     Implicit assignments: import, from, def, class, for, calls"
      ]
    },
    {
      "cell_type": "markdown",
      "metadata": {
        "id": "oBoGo0qZBgGC",
        "colab_type": "text"
      },
      "source": [
        "Operation |\tInterpretation\n",
        "---|---\n",
        "spam = 'SPAM' |\tbasic form\n",
        "spam, ham = 'yum', 'YUM' |\ttuple assignment\n",
        "[spam, ham] = ['yum', 'YUM'] |\tlist assignment\n",
        "a, b, c, d = 'spam' |\tsequence assign\n",
        "spam = ham = 'lunch' |\tmultiple-target\n",
        "spam += 42; ham *= 12 |\tAugmented (2.0)\n",
        "a, *b, c = [1, 2, 3, 4] |\tExtended (3.X)"
      ]
    },
    {
      "cell_type": "markdown",
      "metadata": {
        "id": "CfygsUeYBtTI",
        "colab_type": "text"
      },
      "source": [
        "**Variable name rules**\n",
        "\n",
        "*     (_ or letter) + (any number of letters, digits, _s)\n",
        "*     Case matters: SPAM is not spam\n",
        "*     But cant use reserved words:\n",
        "*     + yield, for generators (2.3 and later)\n",
        "*     + with and as for context managers (2.6, optional in 2.5 though not in 2.5 IDLE!)\n",
        "*     3.X: minus print, exec; plus None, True, False, nonlocal (and in 3.5+: async, await)\n",
        "*     Also applies to module file names:\n",
        "    -     some-code.py can be run, but not imported! (notice dash!)"
      ]
    },
    {
      "cell_type": "markdown",
      "metadata": {
        "id": "qOkU_WWjB5Ly",
        "colab_type": "text"
      },
      "source": [
        "and |\tassert |\tbreak |\tclass\n",
        "---|---|---|---\n",
        "continue |\tdef |\tdel |\telif\n",
        "else |\texcept |\texec |\tfinally\n",
        "for |\tfrom |\tglobal |\tif\n",
        "import |\tin |\tis |\tlambda\n",
        "not |\tor |\tpass |\tprint\n",
        "raise |\treturn |\ttry |\twhile"
      ]
    },
    {
      "cell_type": "markdown",
      "metadata": {
        "id": "ghcvrH-_CH5r",
        "colab_type": "text"
      },
      "source": [
        "###Expressions"
      ]
    },
    {
      "cell_type": "markdown",
      "metadata": {
        "id": "GqcQomBlCL2r",
        "colab_type": "text"
      },
      "source": [
        "*     Useful for calls, and interactive prints\n",
        "*     Expressions can be used as statements\n",
        "*     But statements cannot be used as expressions (=)"
      ]
    },
    {
      "cell_type": "markdown",
      "metadata": {
        "id": "2Fk5NxhcCTHv",
        "colab_type": "text"
      },
      "source": [
        "Operation |\tInterpretation\n",
        "---|---\n",
        "spam(eggs, ham) |\tfunction calls\n",
        "spam.ham(eggs) |\tmethod calls\n",
        "spam |\tinteractive print\n",
        "spam < ham and ham != eggs |\tcompound expr's\n",
        "spam < ham < eggs |\trange tests"
      ]
    },
    {
      "cell_type": "markdown",
      "metadata": {
        "id": "MM6iGEYJCVoY",
        "colab_type": "text"
      },
      "source": [
        "###Print"
      ]
    },
    {
      "cell_type": "markdown",
      "metadata": {
        "id": "JKUyeY-VEDXi",
        "colab_type": "text"
      },
      "source": [
        "*     print statement writes objects to the stdout stream\n",
        "*     File object write methods write strings to files\n",
        "*     Adding a trailing comma suppresses line-feed\n",
        "*     Reset sys.stdout to catch print output\n",
        "*     3.X: a built-in function call with arguments in ()"
      ]
    },
    {
      "cell_type": "markdown",
      "metadata": {
        "id": "7J_xDFc-ENaK",
        "colab_type": "text"
      },
      "source": [
        "**Python 3.X form:**\n",
        "\n",
        "```python\n",
        "print(spam, ham, sep='::', end='.\\n', file=open('save.txt', 'w'), flush=True)\n",
        "```"
      ]
    },
    {
      "cell_type": "markdown",
      "metadata": {
        "id": "KuWxtKT0Z5-F",
        "colab_type": "text"
      },
      "source": [
        "**The Python Hello world program**\n",
        "\n",
        "*    Expression results don't need to be printed at top-level"
      ]
    },
    {
      "cell_type": "code",
      "metadata": {
        "id": "Z9m0zcZTFAvF",
        "colab_type": "code",
        "outputId": "c937fa33-6480-4409-c91b-e87087f05d3d",
        "colab": {
          "base_uri": "https://localhost:8080/",
          "height": 34
        }
      },
      "source": [
        "print('hello world')"
      ],
      "execution_count": 0,
      "outputs": [
        {
          "output_type": "stream",
          "text": [
            "hello world\n"
          ],
          "name": "stdout"
        }
      ]
    },
    {
      "cell_type": "markdown",
      "metadata": {
        "id": "9DGN35VYHAhP",
        "colab_type": "text"
      },
      "source": [
        "###If selections"
      ]
    },
    {
      "cell_type": "markdown",
      "metadata": {
        "id": "J0qcon5wZ5-H",
        "colab_type": "text"
      },
      "source": [
        "*     Pythons main selection construct\n",
        "*     No switch: via if/elif/else, dictionaries, or lists\n",
        "*     See also expression ahead: X = B if A else C"
      ]
    },
    {
      "cell_type": "markdown",
      "metadata": {
        "id": "X5OOJvmKZViB",
        "colab_type": "text"
      },
      "source": [
        "**General format**\n",
        "\n",
        "```python\n",
        "if <test1>:\n",
        "  <statements1>\n",
        "elif <test2>: # optional elifs\n",
        "  <statements2>\n",
        "else: # optional else\n",
        "  <statements3>\n",
        "```"
      ]
    },
    {
      "cell_type": "markdown",
      "metadata": {
        "id": "3X0AT_R6Zd_Z",
        "colab_type": "text"
      },
      "source": [
        "**Examples**"
      ]
    },
    {
      "cell_type": "code",
      "metadata": {
        "id": "-QTWrQoOZ5-I",
        "colab_type": "code",
        "outputId": "fd85c632-a96e-4098-c2e1-f71559a1e624",
        "colab": {
          "base_uri": "https://localhost:8080/",
          "height": 34
        }
      },
      "source": [
        "if 3 > 2:\n",
        "  print('yep')"
      ],
      "execution_count": 0,
      "outputs": [
        {
          "output_type": "stream",
          "text": [
            "yep\n"
          ],
          "name": "stdout"
        }
      ]
    },
    {
      "cell_type": "code",
      "metadata": {
        "id": "-A2eoe9yZ5-L",
        "colab_type": "code",
        "outputId": "d342657a-1207-47bc-8482-57be89fd3892",
        "colab": {
          "base_uri": "https://localhost:8080/",
          "height": 34
        }
      },
      "source": [
        "x = 'killer rabbit'\n",
        "\n",
        "if x == 'bunny':\n",
        "  print('hello little bunny')\n",
        "elif x == 'bugs':\n",
        "  print(\"what's up doc?\")\n",
        "else:\n",
        "  print('Run away! Run away!')"
      ],
      "execution_count": 0,
      "outputs": [
        {
          "output_type": "stream",
          "text": [
            "Run away! Run away!\n"
          ],
          "name": "stdout"
        }
      ]
    },
    {
      "cell_type": "code",
      "metadata": {
        "id": "w_Ti5pmrZ5-N",
        "colab_type": "code",
        "outputId": "5a29b1ab-31ef-4222-9868-9d74536ec5fd",
        "colab": {
          "base_uri": "https://localhost:8080/",
          "height": 34
        }
      },
      "source": [
        "choice = 'ham'\n",
        "\n",
        "print({'spam': 1.25, # dictionary switch\n",
        "       'ham': 1.99,\n",
        "       'eggs': 0.99,\n",
        "       'bacon': 1.10}[choice])"
      ],
      "execution_count": 0,
      "outputs": [
        {
          "output_type": "stream",
          "text": [
            "1.99\n"
          ],
          "name": "stdout"
        }
      ]
    },
    {
      "cell_type": "code",
      "metadata": {
        "id": "yJde8cGQZ5-O",
        "colab_type": "code",
        "outputId": "b69b2b40-05d3-45e3-d5a4-a7fd1293f8b9",
        "colab": {
          "base_uri": "https://localhost:8080/",
          "height": 34
        }
      },
      "source": [
        "# with actions\n",
        "choice = 'square'\n",
        "arg = 2\n",
        "{'linear': (lambda x: x),\n",
        " 'square': (lambda x: x**2),\n",
        "}[choice](arg)"
      ],
      "execution_count": 0,
      "outputs": [
        {
          "output_type": "execute_result",
          "data": {
            "text/plain": [
              "4"
            ]
          },
          "metadata": {
            "tags": []
          },
          "execution_count": 7
        }
      ]
    },
    {
      "cell_type": "markdown",
      "metadata": {
        "id": "kgZeHYS9Z5-Q",
        "colab_type": "text"
      },
      "source": [
        "###Python syntax rules"
      ]
    },
    {
      "cell_type": "markdown",
      "metadata": {
        "id": "KdeCxhevfTFo",
        "colab_type": "text"
      },
      "source": [
        "*     Compound statements = header, :, indented statements\n",
        "*     Block and statement boundaries detected automatically\n",
        "*     Comments run from # through end of line\n",
        "*     Documentation strings at top of file, class, function"
      ]
    },
    {
      "cell_type": "markdown",
      "metadata": {
        "id": "ceGdgtoxfVpX",
        "colab_type": "text"
      },
      "source": [
        "**Block delimiters**\n",
        "\n",
        "*      Block boundaries detected by line indentation\n",
        "*      Indentation is any combination of spaces and tabs\n",
        "*      Tabs = N spaces up to multiple of 8 (but don't mix)"
      ]
    },
    {
      "cell_type": "markdown",
      "metadata": {
        "id": "AT68SPT5faDn",
        "colab_type": "text"
      },
      "source": [
        "**Statement delimiters**\n",
        "\n",
        "*      Statement normally end at end-of-line, or ';'\n",
        "*      Statements may span lines if open syntactic pair: ( ), { }, [ ]\n",
        "*      Statements may span lines if end in backslash (outdated feature)\n",
        "*      Some string constants span lines too (triple-quotes)"
      ]
    },
    {
      "cell_type": "markdown",
      "metadata": {
        "id": "jXH-NYKcZ5-Y",
        "colab_type": "text"
      },
      "source": [
        "###Truth tests revisited"
      ]
    },
    {
      "cell_type": "markdown",
      "metadata": {
        "id": "PyB8qv5h7jh6",
        "colab_type": "text"
      },
      "source": [
        "*     True = non-zero number, or non-empty object\n",
        "*     Comparisons operators return True (1) or False (0)\n",
        "*     Boolean operators short-circuit when result known\n",
        "*     Boolean operators return an operand object"
      ]
    },
    {
      "cell_type": "markdown",
      "metadata": {
        "id": "L1NLP16K7mYh",
        "colab_type": "text"
      },
      "source": [
        "Object |\tValue\n",
        "---|---\n",
        "\"spam\" |\ttrue\n",
        "\"\" |\tfalse\n",
        "[] |\tfalse\n",
        "{} |\tfalse\n",
        "1 |\ttrue\n",
        "0.0 |\tfalse\n",
        "None |\tfalse"
      ]
    },
    {
      "cell_type": "markdown",
      "metadata": {
        "id": "HsGlc9z97rTo",
        "colab_type": "text"
      },
      "source": [
        "**Examples**"
      ]
    },
    {
      "cell_type": "code",
      "metadata": {
        "id": "e4e-6_R3765R",
        "colab_type": "code",
        "outputId": "9bbd97e7-1519-4898-b9d1-33dc858bd903",
        "colab": {
          "base_uri": "https://localhost:8080/",
          "height": 34
        }
      },
      "source": [
        "2 < 3, 3 < 2 # return True (1) or False (0)"
      ],
      "execution_count": 0,
      "outputs": [
        {
          "output_type": "execute_result",
          "data": {
            "text/plain": [
              "(True, False)"
            ]
          },
          "metadata": {
            "tags": []
          },
          "execution_count": 22
        }
      ]
    },
    {
      "cell_type": "code",
      "metadata": {
        "id": "O8J_6dKS7-XW",
        "colab_type": "code",
        "outputId": "d49e5911-f65d-419e-a5ea-c4736c8715ef",
        "colab": {
          "base_uri": "https://localhost:8080/",
          "height": 34
        }
      },
      "source": [
        "2 or 3, 3 or 2 # return left operand if true else return right operand (T|F)"
      ],
      "execution_count": 0,
      "outputs": [
        {
          "output_type": "execute_result",
          "data": {
            "text/plain": [
              "(2, 3)"
            ]
          },
          "metadata": {
            "tags": []
          },
          "execution_count": 23
        }
      ]
    },
    {
      "cell_type": "code",
      "metadata": {
        "id": "ko649X598AvJ",
        "colab_type": "code",
        "outputId": "c36747ae-8f94-4223-ccd4-1aa292ced07a",
        "colab": {
          "base_uri": "https://localhost:8080/",
          "height": 34
        }
      },
      "source": [
        "[] or 3"
      ],
      "execution_count": 0,
      "outputs": [
        {
          "output_type": "execute_result",
          "data": {
            "text/plain": [
              "3"
            ]
          },
          "metadata": {
            "tags": []
          },
          "execution_count": 24
        }
      ]
    },
    {
      "cell_type": "code",
      "metadata": {
        "id": "4wXfglry8DO1",
        "colab_type": "code",
        "outputId": "5726faab-ce70-487b-d0e4-9122a0b9cf22",
        "colab": {
          "base_uri": "https://localhost:8080/",
          "height": 34
        }
      },
      "source": [
        "[] or {}"
      ],
      "execution_count": 0,
      "outputs": [
        {
          "output_type": "execute_result",
          "data": {
            "text/plain": [
              "{}"
            ]
          },
          "metadata": {
            "tags": []
          },
          "execution_count": 31
        }
      ]
    },
    {
      "cell_type": "code",
      "metadata": {
        "id": "Q40V13lF8mDT",
        "colab_type": "code",
        "outputId": "a4e1adb2-44a6-47c7-c23f-4993c6060c8b",
        "colab": {
          "base_uri": "https://localhost:8080/",
          "height": 34
        }
      },
      "source": [
        "{} or []"
      ],
      "execution_count": 0,
      "outputs": [
        {
          "output_type": "execute_result",
          "data": {
            "text/plain": [
              "[]"
            ]
          },
          "metadata": {
            "tags": []
          },
          "execution_count": 32
        }
      ]
    },
    {
      "cell_type": "code",
      "metadata": {
        "id": "zZT-4-7e8VEC",
        "colab_type": "code",
        "outputId": "70380718-93e9-4623-dea6-8acfa1a0c72a",
        "colab": {
          "base_uri": "https://localhost:8080/",
          "height": 34
        }
      },
      "source": [
        "2 and 3, 3 and 2 # return left operand if false lse return right operand (T|F)"
      ],
      "execution_count": 0,
      "outputs": [
        {
          "output_type": "execute_result",
          "data": {
            "text/plain": [
              "(3, 2)"
            ]
          },
          "metadata": {
            "tags": []
          },
          "execution_count": 26
        }
      ]
    },
    {
      "cell_type": "code",
      "metadata": {
        "id": "qZ8awzgCZ5-Z",
        "colab_type": "code",
        "outputId": "40067faf-37c0-491b-c9cf-b5439d2a6b40",
        "colab": {
          "base_uri": "https://localhost:8080/",
          "height": 34
        }
      },
      "source": [
        "[] and {}"
      ],
      "execution_count": 0,
      "outputs": [
        {
          "output_type": "execute_result",
          "data": {
            "text/plain": [
              "[]"
            ]
          },
          "metadata": {
            "tags": []
          },
          "execution_count": 27
        }
      ]
    },
    {
      "cell_type": "code",
      "metadata": {
        "id": "bKC7w8i08bqF",
        "colab_type": "code",
        "outputId": "30ecb368-2a5b-40e2-d507-5e9eb1a651e6",
        "colab": {
          "base_uri": "https://localhost:8080/",
          "height": 34
        }
      },
      "source": [
        "3 and []"
      ],
      "execution_count": 0,
      "outputs": [
        {
          "output_type": "execute_result",
          "data": {
            "text/plain": [
              "[]"
            ]
          },
          "metadata": {
            "tags": []
          },
          "execution_count": 28
        }
      ]
    },
    {
      "cell_type": "markdown",
      "metadata": {
        "id": "TftMXeVn7wf7",
        "colab_type": "text"
      },
      "source": [
        "**Ternary operator in Python**"
      ]
    },
    {
      "cell_type": "code",
      "metadata": {
        "id": "DqjCmSvp73gE",
        "colab_type": "code",
        "outputId": "6d7c7785-0462-4037-f7c2-6b049585d43b",
        "colab": {
          "base_uri": "https://localhost:8080/",
          "height": 34
        }
      },
      "source": [
        "x = 'a' if 3 > 2 else 'b'\n",
        "x"
      ],
      "execution_count": 0,
      "outputs": [
        {
          "output_type": "execute_result",
          "data": {
            "text/plain": [
              "'a'"
            ]
          },
          "metadata": {
            "tags": []
          },
          "execution_count": 34
        }
      ]
    },
    {
      "cell_type": "markdown",
      "metadata": {
        "id": "o3cnritBZ5-a",
        "colab_type": "text"
      },
      "source": [
        "**Boolean type**\n",
        "\n",
        "*     bool is a subclass of int\n",
        "*      bool has two instances: True and False\n",
        "*      True,False are 1,0 but print differently"
      ]
    },
    {
      "cell_type": "code",
      "metadata": {
        "id": "0Ab2Wz0d9JWo",
        "colab_type": "code",
        "outputId": "71392e1d-724b-45f9-e6d0-3046e00e9f12",
        "colab": {
          "base_uri": "https://localhost:8080/",
          "height": 34
        }
      },
      "source": [
        "1 > 0"
      ],
      "execution_count": 0,
      "outputs": [
        {
          "output_type": "execute_result",
          "data": {
            "text/plain": [
              "True"
            ]
          },
          "metadata": {
            "tags": []
          },
          "execution_count": 35
        }
      ]
    },
    {
      "cell_type": "code",
      "metadata": {
        "id": "UMNO0BHLZ5-b",
        "colab_type": "code",
        "outputId": "44f16294-aa11-4a0e-cbd5-bc3530b4166e",
        "colab": {
          "base_uri": "https://localhost:8080/",
          "height": 34
        }
      },
      "source": [
        "True == 1, True is 1"
      ],
      "execution_count": 0,
      "outputs": [
        {
          "output_type": "execute_result",
          "data": {
            "text/plain": [
              "(True, False)"
            ]
          },
          "metadata": {
            "tags": []
          },
          "execution_count": 36
        }
      ]
    },
    {
      "cell_type": "code",
      "metadata": {
        "id": "Zm0WaROw9OKj",
        "colab_type": "code",
        "outputId": "71e0d8da-874c-42ea-f906-8b00fcc80503",
        "colab": {
          "base_uri": "https://localhost:8080/",
          "height": 34
        }
      },
      "source": [
        "True + 1"
      ],
      "execution_count": 0,
      "outputs": [
        {
          "output_type": "execute_result",
          "data": {
            "text/plain": [
              "2"
            ]
          },
          "metadata": {
            "tags": []
          },
          "execution_count": 37
        }
      ]
    },
    {
      "cell_type": "markdown",
      "metadata": {
        "id": "Ug8_b3UzZ5-e",
        "colab_type": "text"
      },
      "source": [
        "###While loops"
      ]
    },
    {
      "cell_type": "markdown",
      "metadata": {
        "id": "SKOYYBfX9SfA",
        "colab_type": "text"
      },
      "source": [
        "*     Pythons most general iteration construct\n",
        "*     One of two looping statements: while, for\n",
        "*     Implicit looping tools: map, reduce, filter, in, list (and other) comprehensions"
      ]
    },
    {
      "cell_type": "markdown",
      "metadata": {
        "id": "HcQXDern9UdY",
        "colab_type": "text"
      },
      "source": [
        "**General format**\n",
        "\n",
        "```python\n",
        "while <test>:\n",
        "  <statements>\n",
        "else: # optional else\n",
        "  <statements2> # run if didn't exit with break\n",
        "```"
      ]
    },
    {
      "cell_type": "markdown",
      "metadata": {
        "id": "mZWSdAWA9dao",
        "colab_type": "text"
      },
      "source": [
        "**Examples**"
      ]
    },
    {
      "cell_type": "code",
      "metadata": {
        "id": "XjnQ9x2DZ5-h",
        "colab_type": "code",
        "outputId": "e832485a-e99a-496a-8579-222c4ee4e1e1",
        "cellView": "form",
        "colab": {
          "base_uri": "https://localhost:8080/",
          "height": 820
        }
      },
      "source": [
        "#@title ##Example: simple while 1\n",
        "%%debug_cell_with_pytutor\n",
        "count = 5\n",
        "while count:\n",
        "  print(count)\n",
        "  count -= 1"
      ],
      "execution_count": 0,
      "outputs": [
        {
          "output_type": "display_data",
          "data": {
            "text/html": [
              "<iframe width=\"1300\" height=\"800\" frameborder=\"0\" src=\"https://pythontutor.com/iframe-embed.html#code=count%20%3D%205%0Awhile%20count%3A%0A%20%20print%28count%29%0A%20%20count%20-%3D%201&cumulative=false&py=3&curInstr=0\"></iframe>"
            ],
            "text/plain": [
              "<IPython.core.display.HTML object>"
            ]
          },
          "metadata": {
            "tags": []
          }
        }
      ]
    },
    {
      "cell_type": "code",
      "metadata": {
        "id": "iP02e8PG99LB",
        "colab_type": "code",
        "outputId": "b4380a69-4214-44ca-a9b9-29e285ae6242",
        "cellView": "form",
        "colab": {
          "base_uri": "https://localhost:8080/",
          "height": 820
        }
      },
      "source": [
        "#@title ##Example: simple while 2\n",
        "%%debug_cell_with_pytutor\n",
        "\n",
        "x = 'spam'\n",
        "while x:\n",
        "  print(x)\n",
        "  x = x[1:] # strip first char off x"
      ],
      "execution_count": 0,
      "outputs": [
        {
          "output_type": "display_data",
          "data": {
            "text/html": [
              "<iframe width=\"1300\" height=\"800\" frameborder=\"0\" src=\"https://pythontutor.com/iframe-embed.html#code=%0Ax%20%3D%20%27spam%27%0Awhile%20x%3A%0A%20%20print%28x%29%0A%20%20x%20%3D%20x%5B1%3A%5D%20%23%20strip%20first%20char%20off%20x&cumulative=false&py=3&curInstr=0\"></iframe>"
            ],
            "text/plain": [
              "<IPython.core.display.HTML object>"
            ]
          },
          "metadata": {
            "tags": []
          }
        }
      ]
    },
    {
      "cell_type": "code",
      "metadata": {
        "id": "xulpXQIjZ5-j",
        "colab_type": "code",
        "outputId": "bb378c6e-7af3-4a69-f60d-a90ba10ee4f0",
        "cellView": "form",
        "colab": {
          "base_uri": "https://localhost:8080/",
          "height": 620
        }
      },
      "source": [
        "#@title ##Example: simple while 3\n",
        "%%debug_cell_with_pytutor\n",
        "\n",
        "a=0; b=10\n",
        "while a < b: # one way to code counter loops\n",
        "  print(a, end=',')\n",
        "  a += 1"
      ],
      "execution_count": 3,
      "outputs": [
        {
          "output_type": "display_data",
          "data": {
            "text/html": [
              "<iframe width=\"1300\" height=\"600\" frameborder=\"0\" src=\"https://pythontutor.com/iframe-embed.html#code=%0Aa%3D0%3B%20b%3D10%0Awhile%20a%20%3C%20b%3A%20%23%20one%20way%20to%20code%20counter%20loops%0A%20%20print%28a%2C%20end%3D%27%2C%27%29%0A%20%20a%20%2B%3D%201&cumulative=false&py=3&curInstr=0\"></iframe>"
            ],
            "text/plain": [
              "<IPython.core.display.HTML object>"
            ]
          },
          "metadata": {
            "tags": []
          }
        }
      ]
    },
    {
      "cell_type": "markdown",
      "metadata": {
        "id": "iL8kaIC2Z5-k",
        "colab_type": "text"
      },
      "source": [
        "###Break, continue, pass, and the loop else"
      ]
    },
    {
      "cell_type": "markdown",
      "metadata": {
        "id": "riqtHld8-mAI",
        "colab_type": "text"
      },
      "source": [
        "*     break jumps out of the closest enclosing loop\n",
        "*     continue jumps to the top of the closest enclosing loop\n",
        "*     pass does nothing: an empty statement placeholder\n",
        "*     loop else run if loop exits normally, without a break\n",
        "*     3.X a literal ellipsis can work like a pass"
      ]
    },
    {
      "cell_type": "markdown",
      "metadata": {
        "id": "RBU49Ywv-oPg",
        "colab_type": "text"
      },
      "source": [
        "**General loop format**\n",
        "\n",
        "```python\n",
        "while <test>:\n",
        "  <statements>\n",
        "  if <test>: break # exit loop now, skip else\n",
        "  if <test>: continue # go to top of loop now\n",
        "else:\n",
        "  <statements> # if we didn't hit a break\n",
        "```"
      ]
    },
    {
      "cell_type": "markdown",
      "metadata": {
        "id": "81-5tCGd-yHo",
        "colab_type": "text"
      },
      "source": [
        "**Examples**\n",
        "\n",
        "*    Pass: an infinite loop\n",
        "*    Better example: stubbed-out function bodies, TBD"
      ]
    },
    {
      "cell_type": "markdown",
      "metadata": {
        "id": "Bi71tSRaZ5-n",
        "colab_type": "text"
      },
      "source": [
        "*    Continue: print even numbers\n",
        "*    Avoids statement nesting (but use sparingly!)"
      ]
    },
    {
      "cell_type": "code",
      "metadata": {
        "id": "hRyrnz9wZ5-o",
        "colab_type": "code",
        "outputId": "e864d020-7dd5-4b40-8f01-f18ccb24422d",
        "cellView": "form",
        "colab": {
          "base_uri": "https://localhost:8080/",
          "height": 820
        }
      },
      "source": [
        "#@title ##Example: continue\n",
        "%%debug_cell_with_pytutor\n",
        "\n",
        "x = 10\n",
        "while x:\n",
        "  x = x-1\n",
        "  if x % 2 != 0: \n",
        "    continue # odd?--skip\n",
        "  print(x, end=\",\")"
      ],
      "execution_count": 0,
      "outputs": [
        {
          "output_type": "display_data",
          "data": {
            "text/html": [
              "<iframe width=\"1300\" height=\"800\" frameborder=\"0\" src=\"https://pythontutor.com/iframe-embed.html#code=%0Ax%20%3D%2010%0Awhile%20x%3A%0A%20%20x%20%3D%20x-1%0A%20%20if%20x%20%25%202%20%21%3D%200%3A%20%0A%20%20%20%20continue%20%23%20odd%3F--skip%0A%20%20print%28x%2C%20end%3D%22%2C%22%29&cumulative=false&py=3&curInstr=0\"></iframe>"
            ],
            "text/plain": [
              "<IPython.core.display.HTML object>"
            ]
          },
          "metadata": {
            "tags": []
          }
        }
      ]
    },
    {
      "cell_type": "markdown",
      "metadata": {
        "id": "DsdpipdyZ5-p",
        "colab_type": "text"
      },
      "source": [
        "*    Break: find factors\n",
        "*    Avoids search status flags"
      ]
    },
    {
      "cell_type": "code",
      "metadata": {
        "id": "zJ3wFWYuZ5-p",
        "colab_type": "code",
        "outputId": "ba852aec-38f3-40fc-c805-0fa9d1594dbc",
        "cellView": "form",
        "colab": {
          "base_uri": "https://localhost:8080/",
          "height": 820
        }
      },
      "source": [
        "#@title ##Example: break\n",
        "%%debug_cell_with_pytutor\n",
        "\n",
        "y = 121\n",
        "x = y // 2\n",
        "while x > 1:\n",
        "  if y % x == 0: # remainder\n",
        "    print(y, 'has factor', x)\n",
        "    break # skip else\n",
        "  x = x-1\n",
        "else: # normal exit\n",
        "  print(y, 'is prime')\n",
        " \n"
      ],
      "execution_count": 0,
      "outputs": [
        {
          "output_type": "display_data",
          "data": {
            "text/html": [
              "<iframe width=\"1300\" height=\"800\" frameborder=\"0\" src=\"https://pythontutor.com/iframe-embed.html#code=%0Ay%20%3D%20121%0Ax%20%3D%20y%20//%202%0Awhile%20x%20%3E%201%3A%0A%20%20if%20y%20%25%20x%20%3D%3D%200%3A%20%23%20remainder%0A%20%20%20%20print%28y%2C%20%27has%20factor%27%2C%20x%29%0A%20%20%20%20break%20%23%20skip%20else%0A%20%20x%20%3D%20x-1%0Aelse%3A%20%23%20normal%20exit%0A%20%20print%28y%2C%20%27is%20prime%27%29%0A%20&cumulative=false&py=3&curInstr=0\"></iframe>"
            ],
            "text/plain": [
              "<IPython.core.display.HTML object>"
            ]
          },
          "metadata": {
            "tags": []
          }
        }
      ]
    },
    {
      "cell_type": "markdown",
      "metadata": {
        "id": "mTm9HWQBZ5-q",
        "colab_type": "text"
      },
      "source": [
        "###For loops"
      ]
    },
    {
      "cell_type": "markdown",
      "metadata": {
        "id": "FicJuaxwDiRU",
        "colab_type": "text"
      },
      "source": [
        "*     A general sequence (iterable) iterator\n",
        "*     Works on strings, lists, tuples, other\n",
        "*     Replaces most counter style loops\n",
        "*     Original: repeatedly indexes object until IndexError detected\n",
        "*     Newer: repeatedly calls next(iter(object)) until StopIteration\n",
        "*     Preview: also works on Python classes and C types"
      ]
    },
    {
      "cell_type": "markdown",
      "metadata": {
        "id": "HTw8FSSPDrYT",
        "colab_type": "text"
      },
      "source": [
        "**General format**\n",
        "\n",
        "```python\n",
        "for <target> in <object>: # assign object items to target\n",
        "  <statements>\n",
        "  if <test>: break # exit loop now, skip else\n",
        "  if <test>: continue # go to top of loop now\n",
        "else:\n",
        "  <statements> # if we didn't hit a break\n",
        " ```"
      ]
    },
    {
      "cell_type": "markdown",
      "metadata": {
        "id": "BSA_m2VzDzg-",
        "colab_type": "text"
      },
      "source": [
        "**Examples**"
      ]
    },
    {
      "cell_type": "code",
      "metadata": {
        "id": "AmjVZbjsKT3u",
        "colab_type": "code",
        "outputId": "cb54f362-3f79-48f1-8702-cf9e70474d8f",
        "colab": {
          "base_uri": "https://localhost:8080/",
          "height": 68
        }
      },
      "source": [
        "for x in [\"spam\", \"eggs\", \"spam\"]:\n",
        "  print(x)"
      ],
      "execution_count": 0,
      "outputs": [
        {
          "output_type": "stream",
          "text": [
            "spam\n",
            "eggs\n",
            "spam\n"
          ],
          "name": "stdout"
        }
      ]
    },
    {
      "cell_type": "code",
      "metadata": {
        "id": "pO3sEmXQKa9K",
        "colab_type": "code",
        "outputId": "9bb99268-6147-4d45-ced2-5b3f45981f6c",
        "colab": {
          "base_uri": "https://localhost:8080/",
          "height": 34
        }
      },
      "source": [
        "prod = 1\n",
        "for i in (1, 2, 3, 4): prod *= i # tuples\n",
        "\n",
        "prod"
      ],
      "execution_count": 0,
      "outputs": [
        {
          "output_type": "execute_result",
          "data": {
            "text/plain": [
              "24"
            ]
          },
          "metadata": {
            "tags": []
          },
          "execution_count": 49
        }
      ]
    },
    {
      "cell_type": "code",
      "metadata": {
        "id": "1turvzgDZ5-r",
        "colab_type": "code",
        "outputId": "334280f9-72d8-4501-8f61-151d8b98527f",
        "colab": {
          "base_uri": "https://localhost:8080/",
          "height": 85
        }
      },
      "source": [
        "S = 'spam'\n",
        "for c in S: print(c) # strings"
      ],
      "execution_count": 0,
      "outputs": [
        {
          "output_type": "stream",
          "text": [
            "s\n",
            "p\n",
            "a\n",
            "m\n"
          ],
          "name": "stdout"
        }
      ]
    },
    {
      "cell_type": "markdown",
      "metadata": {
        "id": "u9UipQFtZ5-s",
        "colab_type": "text"
      },
      "source": [
        "**Works on any iterable object: files, dicts**"
      ]
    },
    {
      "cell_type": "code",
      "metadata": {
        "id": "uFeR8PPFLDoO",
        "colab_type": "code",
        "outputId": "0167c5f4-bc86-4b48-a20e-63e0f702662b",
        "colab": {
          "base_uri": "https://localhost:8080/",
          "height": 34
        }
      },
      "source": [
        "%%writefile data.txt\n",
        "\n",
        "hello\n",
        "world\n",
        "!!!!"
      ],
      "execution_count": 0,
      "outputs": [
        {
          "output_type": "stream",
          "text": [
            "Writing data.txt\n"
          ],
          "name": "stdout"
        }
      ]
    },
    {
      "cell_type": "code",
      "metadata": {
        "id": "e5lzK0qqZ5-t",
        "colab_type": "code",
        "outputId": "843f5bb8-09c5-4568-8f59-7ce8258d3568",
        "colab": {
          "base_uri": "https://localhost:8080/",
          "height": 141
        }
      },
      "source": [
        "for line in open('data.txt'):\n",
        "  print(line.upper()) # calls next(), catches exc"
      ],
      "execution_count": 0,
      "outputs": [
        {
          "output_type": "stream",
          "text": [
            "\n",
            "\n",
            "HELLO\n",
            "\n",
            "WORLD\n",
            "\n",
            "!!!!\n"
          ],
          "name": "stdout"
        }
      ]
    },
    {
      "cell_type": "code",
      "metadata": {
        "id": "5L1iTGIMLacW",
        "colab_type": "code",
        "outputId": "9bb417e6-91cc-427c-e907-e58f1504611a",
        "colab": {
          "base_uri": "https://localhost:8080/",
          "height": 51
        }
      },
      "source": [
        "D = {'hello':'world', 'this is':'Sparta'}\n",
        "for key in D:\n",
        "  print(key, D[key])"
      ],
      "execution_count": 0,
      "outputs": [
        {
          "output_type": "stream",
          "text": [
            "hello world\n",
            "this is Sparta\n"
          ],
          "name": "stdout"
        }
      ]
    },
    {
      "cell_type": "markdown",
      "metadata": {
        "id": "RN9z56W3Z5-u",
        "colab_type": "text"
      },
      "source": [
        "**iteration protocol and files**\n",
        "\n",
        "*      file.__next__() gets next line, like file.readline(), but eof differs\n",
        "*      Use file.next() in 2.X, or next(file) in either 2.X or 3.X\n",
        "*      All iteration tools/contexts use the iteration protocol\n",
        "*      Protocol: I=iter(X), call next(I) * N, catch StopIteration\n",
        "*      iter(X) optional for single-scan iterables (e.g., files)\n",
        "*      Any such object works in for loops, comprehensions,\n",
        "*      line.rstrip(), line.upper() are string methods"
      ]
    },
    {
      "cell_type": "markdown",
      "metadata": {
        "id": "9deAvz84Lyiy",
        "colab_type": "text"
      },
      "source": [
        "**Comprehensions:**\n",
        "\n",
        "*      [expr-with-var for var in iterable]\n",
        "*      [expr-with-var for var in iterable if expr-with-var]\n",
        "*      [expr-with-vars for var1 in iterable1 for var2 in iterable2]\n",
        "*      Also works for sets, dictionaries, generators in 2.7+: {}, ()\n",
        "*      Hint: comps have statement equivalents: for/if/append() nesting\n",
        "*      Hint: KISS! if its hard for you read, don't do it"
      ]
    },
    {
      "cell_type": "markdown",
      "metadata": {
        "id": "r-xOsUI8L2KN",
        "colab_type": "text"
      },
      "source": [
        "###Loop coding techniques"
      ]
    },
    {
      "cell_type": "markdown",
      "metadata": {
        "id": "i-tzevgbL5bN",
        "colab_type": "text"
      },
      "source": [
        "*     for subsumes most counter loops\n",
        "*     range generates a list of integers to iterate over\n",
        "*     xrange similar, but doesn't create a real list\n",
        "*     avoid range, and the temptation to count things!"
      ]
    },
    {
      "cell_type": "code",
      "metadata": {
        "id": "PtKnhzUdSeSs",
        "colab_type": "code",
        "outputId": "216f403e-871e-4e45-a745-6c8f857a8178",
        "colab": {
          "base_uri": "https://localhost:8080/",
          "height": 85
        }
      },
      "source": [
        "# The easy (and fast) way\n",
        "\n",
        "X = 'spam'\n",
        "for item in X: \n",
        "  print(item) # step through items"
      ],
      "execution_count": 0,
      "outputs": [
        {
          "output_type": "stream",
          "text": [
            "s\n",
            "p\n",
            "a\n",
            "m\n"
          ],
          "name": "stdout"
        }
      ]
    },
    {
      "cell_type": "code",
      "metadata": {
        "id": "k9UctjyCZ5-v",
        "colab_type": "code",
        "outputId": "eed68625-e158-49b0-8f2c-bcc0df80d0a3",
        "colab": {
          "base_uri": "https://localhost:8080/",
          "height": 85
        }
      },
      "source": [
        "# The hard way: a C-style for loop\n",
        "\n",
        "i = 0\n",
        "while i < len(X): # manual while indexing\n",
        "  print(X[i]); i += 1"
      ],
      "execution_count": 0,
      "outputs": [
        {
          "output_type": "stream",
          "text": [
            "s\n",
            "p\n",
            "a\n",
            "m\n"
          ],
          "name": "stdout"
        }
      ]
    },
    {
      "cell_type": "code",
      "metadata": {
        "id": "CuDvCIh5YoZC",
        "colab_type": "code",
        "outputId": "93040396-ab5f-41ed-f3ea-49cca1e3093e",
        "colab": {
          "base_uri": "https://localhost:8080/",
          "height": 34
        }
      },
      "source": [
        "# Range and fixed repitions\n",
        "list(range(5)), list(range(2, 5))"
      ],
      "execution_count": 0,
      "outputs": [
        {
          "output_type": "execute_result",
          "data": {
            "text/plain": [
              "([0, 1, 2, 3, 4], [2, 3, 4])"
            ]
          },
          "metadata": {
            "tags": []
          },
          "execution_count": 59
        }
      ]
    },
    {
      "cell_type": "code",
      "metadata": {
        "id": "y7DK1ChNYvsJ",
        "colab_type": "code",
        "outputId": "2a013524-967e-4a45-f4e1-9dbdeb7bfac8",
        "colab": {
          "base_uri": "https://localhost:8080/",
          "height": 85
        }
      },
      "source": [
        "for i in range(4): \n",
        "  print('A shrubbery!')"
      ],
      "execution_count": 0,
      "outputs": [
        {
          "output_type": "stream",
          "text": [
            "A shrubbery!\n",
            "A shrubbery!\n",
            "A shrubbery!\n",
            "A shrubbery!\n"
          ],
          "name": "stdout"
        }
      ]
    },
    {
      "cell_type": "code",
      "metadata": {
        "id": "UoLbUNiKc6LT",
        "colab_type": "code",
        "outputId": "159e666c-e895-4ac5-b671-8d7b40a920ae",
        "colab": {
          "base_uri": "https://localhost:8080/",
          "height": 34
        }
      },
      "source": [
        "X = 'spam'\n",
        "len(X)"
      ],
      "execution_count": 0,
      "outputs": [
        {
          "output_type": "execute_result",
          "data": {
            "text/plain": [
              "4"
            ]
          },
          "metadata": {
            "tags": []
          },
          "execution_count": 63
        }
      ]
    },
    {
      "cell_type": "code",
      "metadata": {
        "id": "vmxUOEkWdFFx",
        "colab_type": "code",
        "outputId": "75a80e28-40c9-4a94-aa4d-1c8e3265d114",
        "colab": {
          "base_uri": "https://localhost:8080/",
          "height": 34
        }
      },
      "source": [
        "# Using range to generate offsets (not items!)\n",
        "list(range(len(X)))"
      ],
      "execution_count": 0,
      "outputs": [
        {
          "output_type": "execute_result",
          "data": {
            "text/plain": [
              "[0, 1, 2, 3]"
            ]
          },
          "metadata": {
            "tags": []
          },
          "execution_count": 64
        }
      ]
    },
    {
      "cell_type": "code",
      "metadata": {
        "id": "iovyOzwhdItO",
        "colab_type": "code",
        "outputId": "41f74a57-d3ef-4a89-d303-d5aeaeda544b",
        "colab": {
          "base_uri": "https://localhost:8080/",
          "height": 85
        }
      },
      "source": [
        "for i in range(len(X)): \n",
        "  print(X[i]) # step through offsets"
      ],
      "execution_count": 0,
      "outputs": [
        {
          "output_type": "stream",
          "text": [
            "s\n",
            "p\n",
            "a\n",
            "m\n"
          ],
          "name": "stdout"
        }
      ]
    },
    {
      "cell_type": "code",
      "metadata": {
        "id": "0XHjezAxdPcp",
        "colab_type": "code",
        "outputId": "97ef89b4-f275-4296-adee-d871151b130f",
        "colab": {
          "base_uri": "https://localhost:8080/",
          "height": 34
        }
      },
      "source": [
        "# Using range and slicing for non-exhaustive traversals\n",
        "list(range(2, 10, 2))"
      ],
      "execution_count": 0,
      "outputs": [
        {
          "output_type": "execute_result",
          "data": {
            "text/plain": [
              "[2, 4, 6, 8]"
            ]
          },
          "metadata": {
            "tags": []
          },
          "execution_count": 66
        }
      ]
    },
    {
      "cell_type": "code",
      "metadata": {
        "id": "nCEffKLJeO9B",
        "colab_type": "code",
        "outputId": "f2e6eabb-0b65-4dc5-96f7-bd5c3d67cdd0",
        "colab": {
          "base_uri": "https://localhost:8080/",
          "height": 119
        }
      },
      "source": [
        "S = 'abcdefghijk'\n",
        "for i in range(0,len(S),2): \n",
        "  print(S[i])"
      ],
      "execution_count": 0,
      "outputs": [
        {
          "output_type": "stream",
          "text": [
            "a\n",
            "c\n",
            "e\n",
            "g\n",
            "i\n",
            "k\n"
          ],
          "name": "stdout"
        }
      ]
    },
    {
      "cell_type": "code",
      "metadata": {
        "id": "JbmB342QeT35",
        "colab_type": "code",
        "outputId": "227dd5fd-6319-44a0-f910-bd9cf731a395",
        "colab": {
          "base_uri": "https://localhost:8080/",
          "height": 119
        }
      },
      "source": [
        "for c in S[::2]: \n",
        "  print(c) # S[::-1] reverses"
      ],
      "execution_count": 0,
      "outputs": [
        {
          "output_type": "stream",
          "text": [
            "a\n",
            "c\n",
            "e\n",
            "g\n",
            "i\n",
            "k\n"
          ],
          "name": "stdout"
        }
      ]
    },
    {
      "cell_type": "code",
      "metadata": {
        "id": "SqM01rbbeceC",
        "colab_type": "code",
        "outputId": "ca78b504-7217-4f67-80ba-ee963d9c018d",
        "colab": {
          "base_uri": "https://localhost:8080/",
          "height": 34
        }
      },
      "source": [
        "# Using range and enumerate\n",
        "L = [1, 2, 3, 4]\n",
        "for x in L: x += 10\n",
        "L"
      ],
      "execution_count": 0,
      "outputs": [
        {
          "output_type": "execute_result",
          "data": {
            "text/plain": [
              "[1, 2, 3, 4]"
            ]
          },
          "metadata": {
            "tags": []
          },
          "execution_count": 81
        }
      ]
    },
    {
      "cell_type": "code",
      "metadata": {
        "id": "znc1GJmMenAA",
        "colab_type": "code",
        "outputId": "a3980623-8f87-4777-c837-163e0c735916",
        "colab": {
          "base_uri": "https://localhost:8080/",
          "height": 34
        }
      },
      "source": [
        "for i in range(len(L)): L[i] += 10\n",
        "L"
      ],
      "execution_count": 0,
      "outputs": [
        {
          "output_type": "execute_result",
          "data": {
            "text/plain": [
              "[11, 12, 13, 14]"
            ]
          },
          "metadata": {
            "tags": []
          },
          "execution_count": 73
        }
      ]
    },
    {
      "cell_type": "code",
      "metadata": {
        "id": "QGhPYesrrTfk",
        "colab_type": "code",
        "outputId": "3987795c-dacd-45c3-f880-6e04bc6fc29e",
        "colab": {
          "base_uri": "https://localhost:8080/",
          "height": 34
        }
      },
      "source": [
        "#List comprehensions\n",
        "M = [x + 10 for x in L]\n",
        "M"
      ],
      "execution_count": 0,
      "outputs": [
        {
          "output_type": "execute_result",
          "data": {
            "text/plain": [
              "[21, 22, 23, 24]"
            ]
          },
          "metadata": {
            "tags": []
          },
          "execution_count": 74
        }
      ]
    },
    {
      "cell_type": "code",
      "metadata": {
        "id": "6A_BLUTJrr8R",
        "colab_type": "code",
        "outputId": "9d52f9f5-067a-4a84-98eb-0c34f3779e09",
        "colab": {
          "base_uri": "https://localhost:8080/",
          "height": 34
        }
      },
      "source": [
        "matrix = [[1,2,3], \n",
        "          [4,5,6], \n",
        "          [7,8,9]]\n",
        "[row[1] for row in matrix] "
      ],
      "execution_count": 0,
      "outputs": [
        {
          "output_type": "execute_result",
          "data": {
            "text/plain": [
              "[2, 5, 8]"
            ]
          },
          "metadata": {
            "tags": []
          },
          "execution_count": 78
        }
      ]
    },
    {
      "cell_type": "code",
      "metadata": {
        "id": "15VyC9y96gTn",
        "colab_type": "code",
        "outputId": "64e6f3cf-4b65-4ed2-b145-874292639a77",
        "colab": {
          "base_uri": "https://localhost:8080/",
          "height": 34
        }
      },
      "source": [
        "for (i, x) in enumerate(L):\n",
        "  L[i] = x * 2\n",
        "\n",
        "L"
      ],
      "execution_count": 0,
      "outputs": [
        {
          "output_type": "execute_result",
          "data": {
            "text/plain": [
              "[4, 8, 12, 16]"
            ]
          },
          "metadata": {
            "tags": []
          },
          "execution_count": 84
        }
      ]
    },
    {
      "cell_type": "code",
      "metadata": {
        "id": "W55eg4uV6qlz",
        "colab_type": "code",
        "outputId": "dcf14b35-5b9f-4e7e-d1ef-2ddbd7ed9063",
        "colab": {
          "base_uri": "https://localhost:8080/",
          "height": 34
        }
      },
      "source": [
        "enumerate(L)"
      ],
      "execution_count": 0,
      "outputs": [
        {
          "output_type": "execute_result",
          "data": {
            "text/plain": [
              "<enumerate at 0x7efc2ed67090>"
            ]
          },
          "metadata": {
            "tags": []
          },
          "execution_count": 85
        }
      ]
    },
    {
      "cell_type": "code",
      "metadata": {
        "id": "4Kb28bZk6s0i",
        "colab_type": "code",
        "outputId": "fd935e39-1717-46ce-cd7f-4c116372ed2c",
        "colab": {
          "base_uri": "https://localhost:8080/",
          "height": 34
        }
      },
      "source": [
        "list(enumerate(L))"
      ],
      "execution_count": 0,
      "outputs": [
        {
          "output_type": "execute_result",
          "data": {
            "text/plain": [
              "[(0, 4), (1, 8), (2, 12), (3, 16)]"
            ]
          },
          "metadata": {
            "tags": []
          },
          "execution_count": 86
        }
      ]
    },
    {
      "cell_type": "code",
      "metadata": {
        "id": "plvRsvj86vrC",
        "colab_type": "code",
        "outputId": "e7fa1311-ce0c-4e67-c77f-a99d968430d9",
        "colab": {
          "base_uri": "https://localhost:8080/",
          "height": 34
        }
      },
      "source": [
        "E = enumerate(L)\n",
        "E.__next__()"
      ],
      "execution_count": 0,
      "outputs": [
        {
          "output_type": "execute_result",
          "data": {
            "text/plain": [
              "(0, 4)"
            ]
          },
          "metadata": {
            "tags": []
          },
          "execution_count": 88
        }
      ]
    },
    {
      "cell_type": "code",
      "metadata": {
        "id": "26DaudYp7RcF",
        "colab_type": "code",
        "outputId": "dbda6d60-f266-4328-ef30-845a9da2f1da",
        "colab": {
          "base_uri": "https://localhost:8080/",
          "height": 34
        }
      },
      "source": [
        "E.__next__()"
      ],
      "execution_count": 0,
      "outputs": [
        {
          "output_type": "execute_result",
          "data": {
            "text/plain": [
              "(1, 8)"
            ]
          },
          "metadata": {
            "tags": []
          },
          "execution_count": 89
        }
      ]
    },
    {
      "cell_type": "code",
      "metadata": {
        "id": "JmXvi5cn7VXm",
        "colab_type": "code",
        "outputId": "9e0fd94a-f962-4910-a041-cda02f3d6beb",
        "colab": {
          "base_uri": "https://localhost:8080/",
          "height": 34
        }
      },
      "source": [
        "# Traversing sequences in parallel with zip\n",
        "L1 = [1,2,3,4]\n",
        "L2 = [5,6,7,8]\n",
        "list(zip(L1,L2))"
      ],
      "execution_count": 0,
      "outputs": [
        {
          "output_type": "execute_result",
          "data": {
            "text/plain": [
              "[(1, 5), (2, 6), (3, 7), (4, 8)]"
            ]
          },
          "metadata": {
            "tags": []
          },
          "execution_count": 91
        }
      ]
    },
    {
      "cell_type": "code",
      "metadata": {
        "id": "QHeX0UOU7ZXa",
        "colab_type": "code",
        "outputId": "f2e242f9-b7ae-4642-b1ed-a7519a1d5812",
        "colab": {
          "base_uri": "https://localhost:8080/",
          "height": 85
        }
      },
      "source": [
        "for (x,y) in zip(L1, L2):\n",
        "  print(x, y, '--', x+y)"
      ],
      "execution_count": 0,
      "outputs": [
        {
          "output_type": "stream",
          "text": [
            "1 5 -- 6\n",
            "2 6 -- 8\n",
            "3 7 -- 10\n",
            "4 8 -- 12\n"
          ],
          "name": "stdout"
        }
      ]
    },
    {
      "cell_type": "code",
      "metadata": {
        "id": "N8IXkzvu7e6y",
        "colab_type": "code",
        "outputId": "7f4c07cf-8fb3-48af-8936-576445570b51",
        "colab": {
          "base_uri": "https://localhost:8080/",
          "height": 34
        }
      },
      "source": [
        "# Traversing dictionaries by sorted keys\n",
        "D = {'a':1, 'b':2, 'c':3}\n",
        "D"
      ],
      "execution_count": 0,
      "outputs": [
        {
          "output_type": "execute_result",
          "data": {
            "text/plain": [
              "{'a': 1, 'b': 2, 'c': 3}"
            ]
          },
          "metadata": {
            "tags": []
          },
          "execution_count": 94
        }
      ]
    },
    {
      "cell_type": "code",
      "metadata": {
        "id": "pfsgZ7cl7hND",
        "colab_type": "code",
        "outputId": "227ba2d1-9511-4a48-dde5-7cec75c262c9",
        "colab": {
          "base_uri": "https://localhost:8080/",
          "height": 68
        }
      },
      "source": [
        "Ks = sorted(D.keys())\n",
        "for k in Ks: print(D[k])"
      ],
      "execution_count": 0,
      "outputs": [
        {
          "output_type": "stream",
          "text": [
            "1\n",
            "2\n",
            "3\n"
          ],
          "name": "stdout"
        }
      ]
    },
    {
      "cell_type": "markdown",
      "metadata": {
        "id": "XNejFZyFZ5-z",
        "colab_type": "text"
      },
      "source": [
        "###Basic coding gotchas"
      ]
    },
    {
      "cell_type": "markdown",
      "metadata": {
        "id": "e7QhncInsB35",
        "colab_type": "text"
      },
      "source": [
        "*    Don't forget to type a : at the end of compound statement headers\n",
        "*    Be sure to start top-level (unnested) code in column 1\n",
        "*    Blank lines in compound statements are ignored in files, but end the statement at the interactive prompt\n",
        "*    Avoid mixing tabs and spaces in indentation, unless you're sure what your editor does with tabs\n",
        "*    C programmers: you don't need ( ) around tests in if and while; you cant use { } around blocks\n",
        "*    In-place change operations like list.append() and list.sort() don't return a value (really, they return None); call them without assigning the result.\n",
        "*    Add parenthesis to call a function: file.close() is a call, file.close is a reference only"
      ]
    },
    {
      "cell_type": "markdown",
      "metadata": {
        "id": "NGTc-3m3vVfr",
        "colab_type": "text"
      },
      "source": [
        "##Functions"
      ]
    },
    {
      "cell_type": "markdown",
      "metadata": {
        "id": "JTT1y26hvkHu",
        "colab_type": "text"
      },
      "source": [
        "**Why use functions?**\n",
        "   * Code reuse\n",
        "   * Procedural decomposition\n",
        "   * Alternative to cut-and-paste: redundancy"
      ]
    },
    {
      "cell_type": "markdown",
      "metadata": {
        "id": "mR-U4ZJQwV0L",
        "colab_type": "text"
      },
      "source": [
        "**Function topics**\n",
        "\n",
        "   * The basics\n",
        "   * Scope rules\n",
        "   * Argument matching modes\n",
        "   * Odds and ends\n",
        "   * Generator expressions and functions\n",
        "   * Design concepts\n",
        "   * Functions are objects\n",
        "   * Function gotchas"
      ]
    },
    {
      "cell_type": "markdown",
      "metadata": {
        "id": "DWiT0nEe2C7Y",
        "colab_type": "text"
      },
      "source": [
        "###Function basics"
      ]
    },
    {
      "cell_type": "markdown",
      "metadata": {
        "id": "bi6AGp4I2Jp4",
        "colab_type": "text"
      },
      "source": [
        "   * def is an executable statement; usually run during import\n",
        "   * def creates a function object and assigns to a name\n",
        "   * return sends a result object back to the caller\n",
        "   * Arguments are passed by object reference (assignment)\n",
        "   * Arguments, return types, and variables are not declared\n",
        "   * Polymorphism: code to object interfaces, not datatypes"
      ]
    },
    {
      "cell_type": "markdown",
      "metadata": {
        "id": "0CuOR9JD2OTA",
        "colab_type": "text"
      },
      "source": [
        "**General form**\n",
        "\n",
        "```python\n",
        "def <name>(arg1, arg2,… argN):\n",
        "  <statements>\n",
        "  return <value>\n",
        "```"
      ]
    },
    {
      "cell_type": "markdown",
      "metadata": {
        "id": "_74bCwhRvVf0",
        "colab_type": "text"
      },
      "source": [
        "**Definition**"
      ]
    },
    {
      "cell_type": "code",
      "metadata": {
        "id": "wBxCylXUvVf2",
        "colab_type": "code",
        "colab": {}
      },
      "source": [
        "def times(x, y):      # create and assign function\n",
        "  return x * y      # body executed when called"
      ],
      "execution_count": 0,
      "outputs": []
    },
    {
      "cell_type": "markdown",
      "metadata": {
        "id": "wP8rB_qUvVf5",
        "colab_type": "text"
      },
      "source": [
        "**Calls**"
      ]
    },
    {
      "cell_type": "code",
      "metadata": {
        "id": "R_Y5m2U8vVf5",
        "colab_type": "code",
        "outputId": "2292f00e-6d54-42c8-bea7-5b58613f016e",
        "colab": {
          "base_uri": "https://localhost:8080/",
          "height": 34
        }
      },
      "source": [
        "times(2, 4)           # arguments in parenthesis"
      ],
      "execution_count": 0,
      "outputs": [
        {
          "output_type": "execute_result",
          "data": {
            "text/plain": [
              "8"
            ]
          },
          "metadata": {
            "tags": []
          },
          "execution_count": 2
        }
      ]
    },
    {
      "cell_type": "code",
      "metadata": {
        "id": "W_iQtsh8vVf8",
        "colab_type": "code",
        "outputId": "e98a10fe-9e22-4d4e-a2ba-678463c87763",
        "colab": {
          "base_uri": "https://localhost:8080/",
          "height": 34
        }
      },
      "source": [
        "times('Hi', 4)        # functions are 'typeless'"
      ],
      "execution_count": 0,
      "outputs": [
        {
          "output_type": "execute_result",
          "data": {
            "text/plain": [
              "'HiHiHiHi'"
            ]
          },
          "metadata": {
            "tags": []
          },
          "execution_count": 4
        }
      ]
    },
    {
      "cell_type": "markdown",
      "metadata": {
        "id": "hRaw-gRPvVf-",
        "colab_type": "text"
      },
      "source": [
        "“Polymorphism”\n",
        "\n",
        "\n",
        "The meaning of an operation depends on its subject.\n",
        "By not caring about types, code becomes more flexible.\n",
        "Any object with a compatible interface will work.\n",
        "Most errors are best caught by Python, not your code."
      ]
    },
    {
      "cell_type": "code",
      "metadata": {
        "id": "vdDYTygdvVf_",
        "colab_type": "code",
        "cellView": "form",
        "outputId": "b47813f6-292e-4ef7-9a52-6a647297428a",
        "colab": {
          "base_uri": "https://localhost:8080/",
          "height": 841
        }
      },
      "source": [
        "#@title ##Example: intersecting sequences\n",
        "%%debug_cell_with_pytutor\n",
        "\n",
        "def intersect(seq1, seq2):\n",
        "  res = []                     # start empty\n",
        "  for x in seq1:               # scan seq1\n",
        "    if x in seq2:            # common item?\n",
        "        res.append(x)        # add to end\n",
        "  return res\n",
        "\n",
        "s1 = \"SPAM\"\n",
        "s2 = \"SCAM\"\n",
        "print(intersect(s1, s2))               # strings  \n",
        "print(intersect([1, 2, 3], (1, 4)))    # mixed types"
      ],
      "execution_count": 0,
      "outputs": [
        {
          "output_type": "display_data",
          "data": {
            "text/html": [
              "<iframe width=\"1300\" height=\"800\" frameborder=\"0\" src=\"https://pythontutor.com/iframe-embed.html#code=%0Adef%20intersect%28seq1%2C%20seq2%29%3A%0A%20%20res%20%3D%20%5B%5D%20%20%20%20%20%20%20%20%20%20%20%20%20%20%20%20%20%20%20%20%20%23%20start%20empty%0A%20%20for%20x%20in%20seq1%3A%20%20%20%20%20%20%20%20%20%20%20%20%20%20%20%23%20scan%20seq1%0A%20%20%20%20if%20x%20in%20seq2%3A%20%20%20%20%20%20%20%20%20%20%20%20%23%20common%20item%3F%0A%20%20%20%20%20%20%20%20res.append%28x%29%20%20%20%20%20%20%20%20%23%20add%20to%20end%0A%20%20return%20res%0A%0As1%20%3D%20%22SPAM%22%0As2%20%3D%20%22SCAM%22%0Aprint%28intersect%28s1%2C%20s2%29%29%20%20%20%20%20%20%20%20%20%20%20%20%20%20%20%23%20strings%20%20%0Aprint%28intersect%28%5B1%2C%202%2C%203%5D%2C%20%281%2C%204%29%29%29%20%20%20%20%23%20mixed%20types&cumulative=false&py=3&curInstr=0\"></iframe>"
            ],
            "text/plain": [
              "<IPython.core.display.HTML object>"
            ]
          },
          "metadata": {
            "tags": []
          }
        }
      ]
    },
    {
      "cell_type": "markdown",
      "metadata": {
        "id": "zQXZo_D2vVgL",
        "colab_type": "text"
      },
      "source": [
        "###Scope rules in functions"
      ]
    },
    {
      "cell_type": "markdown",
      "metadata": {
        "id": "W8PuPtLG3bo4",
        "colab_type": "text"
      },
      "source": [
        "   * Enclosing module is a ‘global’ scope\n",
        "   * Each call to a function is a new ‘local’ scope\n",
        "   * Assigned names are local, unless declared “global”\n",
        "   * All other names are global or builtin\n",
        "   * Added in 2.2: ‘nonlocal’ enclosing function locals (if any) searched before global\n",
        "   * Added in 3.X: ‘nonlocal’ variables can be changed if declared, just like ‘globals’\n"
      ]
    },
    {
      "cell_type": "markdown",
      "metadata": {
        "id": "yYi4MZSB3uts",
        "colab_type": "text"
      },
      "source": [
        "**Name resolution: the “LEGB” rule**\n",
        "\n",
        "   *   References search up to 4 scopes:\n",
        "1.    Local                                   (function)\n",
        "2.    Enclosing functions           (if any)\n",
        "3.    Global                                 (module)\n",
        "4.    Builtin                                 (__builtin__ (2.X), builtins (3.X))\n",
        "   *   Assignments create or change local names by default\n",
        "   *   “global” declarations map assigned names to module"
      ]
    },
    {
      "cell_type": "markdown",
      "metadata": {
        "id": "WGNpeGdN319Q",
        "colab_type": "text"
      },
      "source": [
        "Example\n",
        "   * Global names: ‘X’, ‘func’\n",
        "   * Local names: ‘Y’, ‘Z’\n",
        "   * Interactive prompt: module ‘__main__’"
      ]
    },
    {
      "cell_type": "code",
      "metadata": {
        "id": "yGH8cLoavVgM",
        "colab_type": "code",
        "outputId": "e9dcf36d-c76d-4a58-e44b-32b1f8c51025",
        "colab": {
          "base_uri": "https://localhost:8080/",
          "height": 34
        }
      },
      "source": [
        "X = 99            # X and func assigned in module\n",
        "def func(Y): # Y and Z assigned in function\n",
        "  Z = X + Y     # X not assigned: global\n",
        "  return Z\n",
        "func(1) # func in module: result=100"
      ],
      "execution_count": 0,
      "outputs": [
        {
          "output_type": "execute_result",
          "data": {
            "text/plain": [
              "100"
            ]
          },
          "metadata": {
            "tags": []
          },
          "execution_count": 10
        }
      ]
    },
    {
      "cell_type": "markdown",
      "metadata": {
        "id": "XDgA6Q-ivVgh",
        "colab_type": "text"
      },
      "source": [
        "###More on “global”, and 3.X “nonlocal”"
      ]
    },
    {
      "cell_type": "markdown",
      "metadata": {
        "id": "XdjbDzrS6tc7",
        "colab_type": "text"
      },
      "source": [
        "   * ‘global’ means assigned at top-level of a module file\n",
        "   * Global names must be declared only if assigned\n",
        "   * Global names may be referenced without being declared\n",
        "   * 3.X: “nonlocal X” means X in enclosing def changeable"
      ]
    },
    {
      "cell_type": "code",
      "metadata": {
        "id": "sjW1d3yXvVgh",
        "colab_type": "code",
        "outputId": "c03cb21a-07b2-4c13-e03e-7b5463f881ab",
        "cellView": "form",
        "colab": {
          "base_uri": "https://localhost:8080/",
          "height": 841
        }
      },
      "source": [
        "#@title ##Example: globals\n",
        "%%debug_cell_with_pytutor\n",
        "\n",
        "y, z = 1, 2         # global variables in module\n",
        "def all_global():\n",
        "  global x        # declare globals assigned\n",
        "  x = y + z       # no need to declare y,z: 3-scope rule\n",
        "\n",
        "all_global()  \n",
        "print(x)  "
      ],
      "execution_count": 0,
      "outputs": [
        {
          "output_type": "display_data",
          "data": {
            "text/html": [
              "<iframe width=\"1300\" height=\"800\" frameborder=\"0\" src=\"https://pythontutor.com/iframe-embed.html#code=%0Ay%2C%20z%20%3D%201%2C%202%20%20%20%20%20%20%20%20%20%23%20global%20variables%20in%20module%0Adef%20all_global%28%29%3A%0A%20%20global%20x%20%20%20%20%20%20%20%20%23%20declare%20globals%20assigned%0A%20%20x%20%3D%20y%20%2B%20z%20%20%20%20%20%20%20%23%20no%20need%20to%20declare%20y%2Cz%3A%203-scope%20rule%0A%0Aall_global%28%29%20%20%0Aprint%28x%29%20%20&cumulative=false&py=3&curInstr=0\"></iframe>"
            ],
            "text/plain": [
              "<IPython.core.display.HTML object>"
            ]
          },
          "metadata": {
            "tags": []
          }
        }
      ]
    },
    {
      "cell_type": "markdown",
      "metadata": {
        "id": "3vWoMfMavVgj",
        "colab_type": "text"
      },
      "source": [
        "enclosing function vars are changeable (state retention)"
      ]
    },
    {
      "cell_type": "code",
      "metadata": {
        "id": "ZA4w3o6BvVgj",
        "colab_type": "code",
        "outputId": "437b2570-852b-4765-fa97-7ebba8068726",
        "cellView": "form",
        "colab": {
          "base_uri": "https://localhost:8080/",
          "height": 841
        }
      },
      "source": [
        "#@title ##Example: scopes\n",
        "\n",
        "%%debug_cell_with_pytutor\n",
        "def outer():\n",
        "  x = 1\n",
        "  def inner():\n",
        "    nonlocal x\n",
        "    x += 1\n",
        "    print(x)\n",
        "  return inner\n",
        "\n",
        "f = outer()      # f is really an inner\n",
        "\n",
        "print(f())\n",
        "print(f())"
      ],
      "execution_count": 0,
      "outputs": [
        {
          "output_type": "display_data",
          "data": {
            "text/html": [
              "<iframe width=\"1300\" height=\"800\" frameborder=\"0\" src=\"https://pythontutor.com/iframe-embed.html#code=def%20outer%28%29%3A%0A%20%20x%20%3D%201%0A%20%20def%20inner%28%29%3A%0A%20%20%20%20nonlocal%20x%0A%20%20%20%20x%20%2B%3D%201%0A%20%20%20%20print%28x%29%0A%20%20return%20inner%0A%0Af%20%3D%20outer%28%29%20%20%20%20%20%20%23%20f%20is%20really%20an%20inner%0A%0Aprint%28f%28%29%29%0Aprint%28f%28%29%29&cumulative=false&py=3&curInstr=0\"></iframe>"
            ],
            "text/plain": [
              "<IPython.core.display.HTML object>"
            ]
          },
          "metadata": {
            "tags": []
          }
        }
      ]
    },
    {
      "cell_type": "markdown",
      "metadata": {
        "id": "oWTxaASkvVgn",
        "colab_type": "text"
      },
      "source": [
        "###More on “return”\n"
      ]
    },
    {
      "cell_type": "markdown",
      "metadata": {
        "id": "U8t9cNVt7_ah",
        "colab_type": "text"
      },
      "source": [
        "   * Return sends back an object as value of call\n",
        "   * Can return multiple arguments in a tuple\n",
        "   * Can return modified argument name values"
      ]
    },
    {
      "cell_type": "code",
      "metadata": {
        "id": "TffaACctvVgn",
        "colab_type": "code",
        "outputId": "9c5160a0-3d76-4ddc-bba5-6d0b30ddb9a1",
        "colab": {
          "base_uri": "https://localhost:8080/",
          "height": 34
        }
      },
      "source": [
        "def multiple_return():\n",
        "  x = 2\n",
        "  y = [3, 4]\n",
        "  return x, y\n",
        "\n",
        "X, L = multiple_return(X, L)\n",
        "X, L"
      ],
      "execution_count": 0,
      "outputs": [
        {
          "output_type": "execute_result",
          "data": {
            "text/plain": [
              "(2, [3, 4])"
            ]
          },
          "metadata": {
            "tags": []
          },
          "execution_count": 25
        }
      ]
    },
    {
      "cell_type": "markdown",
      "metadata": {
        "id": "q4BNsNszvVgp",
        "colab_type": "text"
      },
      "source": [
        "###More on argument passing\n"
      ]
    },
    {
      "cell_type": "markdown",
      "metadata": {
        "id": "KWJHFnvS8bwH",
        "colab_type": "text"
      },
      "source": [
        "   * Pass by object reference: assign shared object to local name\n",
        "   * In def, assigning to argument name doesn't effect caller\n",
        "   * In def, changing mutable object argument may impact caller\n",
        "   * Not pass ‘by reference’ (C++), but:\n",
        "     - Immutables act like ‘by value’ (C)\n",
        "     - Mutables act like ‘by pointer’ (C)"
      ]
    },
    {
      "cell_type": "markdown",
      "metadata": {
        "id": "3BqhN9Ha9rUX",
        "colab_type": "text"
      },
      "source": [
        "![assignments](https://learning-python.com/class/Workbook/unit05_files/image002.gif)"
      ]
    },
    {
      "cell_type": "code",
      "metadata": {
        "id": "qpM1mlf-vVgr",
        "colab_type": "code",
        "outputId": "0683ea41-354a-43e4-f34b-4b8d3732c295",
        "colab": {
          "base_uri": "https://localhost:8080/",
          "height": 620
        },
        "cellView": "form"
      },
      "source": [
        "#@title ##Example: scopes\n",
        "%%debug_cell_with_pytutor\n",
        "def changer(a, b):\n",
        "  a = 2             # changes local name's value only\n",
        "  b[0] = 'spam'     # changes shared object in-place\n",
        "\n",
        "X = 1\n",
        "L = [1, 2]\n",
        "changer(X, L)\n",
        "X, L"
      ],
      "execution_count": 2,
      "outputs": [
        {
          "output_type": "display_data",
          "data": {
            "text/html": [
              "<iframe width=\"1300\" height=\"600\" frameborder=\"0\" src=\"https://pythontutor.com/iframe-embed.html#code=def%20changer%28a%2C%20b%29%3A%0A%20%20a%20%3D%202%20%20%20%20%20%20%20%20%20%20%20%20%20%23%20changes%20local%20name%27s%20value%20only%0A%20%20b%5B0%5D%20%3D%20%27spam%27%20%20%20%20%20%23%20changes%20shared%20object%20in-place%0A%0AX%20%3D%201%0AL%20%3D%20%5B1%2C%202%5D%0Achanger%28X%2C%20L%29%0AX%2C%20L&cumulative=false&py=3&curInstr=0\"></iframe>"
            ],
            "text/plain": [
              "<IPython.core.display.HTML object>"
            ]
          },
          "metadata": {
            "tags": []
          }
        }
      ]
    },
    {
      "cell_type": "markdown",
      "metadata": {
        "id": "uwdiPA2-vVg8",
        "colab_type": "text"
      },
      "source": [
        "###Examples"
      ]
    },
    {
      "cell_type": "markdown",
      "metadata": {
        "id": "zHH__zUtDlNF",
        "colab_type": "text"
      },
      "source": [
        "**Positionals and keywords**"
      ]
    },
    {
      "cell_type": "code",
      "metadata": {
        "id": "sa_mt97EvVg8",
        "colab_type": "code",
        "outputId": "5227cb16-89b1-4c0d-bb0a-dc3479973ca7",
        "colab": {
          "base_uri": "https://localhost:8080/",
          "height": 34
        }
      },
      "source": [
        "def f(a, b, c): \n",
        "  print(a, b, c)\n",
        "  \n",
        "f(1, 2, 3)"
      ],
      "execution_count": 0,
      "outputs": [
        {
          "output_type": "stream",
          "text": [
            "1 2 3\n"
          ],
          "name": "stdout"
        }
      ]
    },
    {
      "cell_type": "code",
      "metadata": {
        "id": "Ut6_Osh8vVhC",
        "colab_type": "code",
        "outputId": "179ba12f-9e93-40d2-98dc-41467cd300f1",
        "colab": {
          "base_uri": "https://localhost:8080/",
          "height": 34
        }
      },
      "source": [
        "f(c=3, b=2, a=1)"
      ],
      "execution_count": 0,
      "outputs": [
        {
          "output_type": "stream",
          "text": [
            "1 2 3\n"
          ],
          "name": "stdout"
        }
      ]
    },
    {
      "cell_type": "code",
      "metadata": {
        "id": "pElhEHTEvVhD",
        "colab_type": "code",
        "outputId": "967d183f-d625-44d0-d274-c52eabbb832e",
        "colab": {
          "base_uri": "https://localhost:8080/",
          "height": 34
        }
      },
      "source": [
        "f(1, c=3, b=2)"
      ],
      "execution_count": 0,
      "outputs": [
        {
          "output_type": "stream",
          "text": [
            "1 2 3\n"
          ],
          "name": "stdout"
        }
      ]
    },
    {
      "cell_type": "markdown",
      "metadata": {
        "id": "QqBnt0jDvVhF",
        "colab_type": "text"
      },
      "source": [
        "**Defaults**"
      ]
    },
    {
      "cell_type": "code",
      "metadata": {
        "id": "TpsBBoHfvVhG",
        "colab_type": "code",
        "outputId": "43c4531f-5b4b-4a1e-9a3f-525f7966b35f",
        "colab": {
          "base_uri": "https://localhost:8080/",
          "height": 34
        }
      },
      "source": [
        "def f(a, b=2, c=3): \n",
        "  print(a, b, c)\n",
        "  \n",
        "f(1)"
      ],
      "execution_count": 0,
      "outputs": [
        {
          "output_type": "stream",
          "text": [
            "1 2 3\n"
          ],
          "name": "stdout"
        }
      ]
    },
    {
      "cell_type": "code",
      "metadata": {
        "id": "3PLc7u1cvVhK",
        "colab_type": "code",
        "outputId": "ab8ededa-9c27-4a65-fbca-957fd89b2c41",
        "colab": {
          "base_uri": "https://localhost:8080/",
          "height": 34
        }
      },
      "source": [
        "f(1, 4, 5)"
      ],
      "execution_count": 0,
      "outputs": [
        {
          "output_type": "stream",
          "text": [
            "1 4 5\n"
          ],
          "name": "stdout"
        }
      ]
    },
    {
      "cell_type": "code",
      "metadata": {
        "id": "19Pbiu0MvVhM",
        "colab_type": "code",
        "outputId": "b353bfb0-699c-4d48-a728-188b1ed41149",
        "colab": {
          "base_uri": "https://localhost:8080/",
          "height": 34
        }
      },
      "source": [
        "f(1, c=6)"
      ],
      "execution_count": 0,
      "outputs": [
        {
          "output_type": "stream",
          "text": [
            "1 2 6\n"
          ],
          "name": "stdout"
        }
      ]
    },
    {
      "cell_type": "markdown",
      "metadata": {
        "id": "UX_stF4cvVhN",
        "colab_type": "text"
      },
      "source": [
        "**Arbitrary positionals**"
      ]
    },
    {
      "cell_type": "code",
      "metadata": {
        "id": "bWUJW1fBvVhO",
        "colab_type": "code",
        "outputId": "3de5e78d-373f-4be5-9c91-c7d2294d2574",
        "colab": {
          "base_uri": "https://localhost:8080/",
          "height": 34
        }
      },
      "source": [
        "def f(*args): \n",
        "  print(args)\n",
        "\n",
        "f(1)"
      ],
      "execution_count": 0,
      "outputs": [
        {
          "output_type": "stream",
          "text": [
            "(1,)\n"
          ],
          "name": "stdout"
        }
      ]
    },
    {
      "cell_type": "code",
      "metadata": {
        "id": "_vQayl4MvVhR",
        "colab_type": "code",
        "outputId": "a108d724-72c4-4e64-9742-b6ac7be35051",
        "colab": {
          "base_uri": "https://localhost:8080/",
          "height": 34
        }
      },
      "source": [
        "f(1,2,3,4)"
      ],
      "execution_count": 0,
      "outputs": [
        {
          "output_type": "stream",
          "text": [
            "(1, 2, 3, 4)\n"
          ],
          "name": "stdout"
        }
      ]
    },
    {
      "cell_type": "markdown",
      "metadata": {
        "id": "S0vgi753vVhS",
        "colab_type": "text"
      },
      "source": [
        "**Arbitrary keywords**"
      ]
    },
    {
      "cell_type": "code",
      "metadata": {
        "id": "g10CzXtevVhT",
        "colab_type": "code",
        "outputId": "cefb2aa1-75a1-4c49-c3b1-27a99fb56065",
        "colab": {
          "base_uri": "https://localhost:8080/",
          "height": 34
        }
      },
      "source": [
        "def f(**args): \n",
        "  print(args)\n",
        "  \n",
        "f()  "
      ],
      "execution_count": 0,
      "outputs": [
        {
          "output_type": "stream",
          "text": [
            "{}\n"
          ],
          "name": "stdout"
        }
      ]
    },
    {
      "cell_type": "code",
      "metadata": {
        "id": "5mV9qgi6vVhW",
        "colab_type": "code",
        "outputId": "6efaae52-1d2f-4d68-c91f-5e69834e05ec",
        "colab": {
          "base_uri": "https://localhost:8080/",
          "height": 34
        }
      },
      "source": [
        "f(a=1, b=2)"
      ],
      "execution_count": 0,
      "outputs": [
        {
          "output_type": "stream",
          "text": [
            "{'a': 1, 'b': 2}\n"
          ],
          "name": "stdout"
        }
      ]
    },
    {
      "cell_type": "code",
      "metadata": {
        "id": "vGandUJPvVhX",
        "colab_type": "code",
        "outputId": "cb30a5ee-ed89-4c6f-d9c8-f48eb7f6362a",
        "colab": {
          "base_uri": "https://localhost:8080/",
          "height": 34
        }
      },
      "source": [
        "def f(a, *pargs, **kargs): \n",
        "  print(a, pargs, kargs)\n",
        "  \n",
        "f(1, 2, 3, x=1, y=2)  "
      ],
      "execution_count": 0,
      "outputs": [
        {
          "output_type": "stream",
          "text": [
            "1 (2, 3) {'x': 1, 'y': 2}\n"
          ],
          "name": "stdout"
        }
      ]
    },
    {
      "cell_type": "markdown",
      "metadata": {
        "id": "-bFPc2YvvVha",
        "colab_type": "text"
      },
      "source": [
        "**Example: min value functions**\n",
        "\n",
        "   *   Only deals with matching: still passed by assignment\n",
        "   *   Defaults retain an object: may change if mutable"
      ]
    },
    {
      "cell_type": "code",
      "metadata": {
        "id": "Zc4pJuCEvVhb",
        "colab_type": "code",
        "outputId": "68dc7baa-d339-4553-fcae-48a7db4c1ab5",
        "colab": {
          "base_uri": "https://localhost:8080/",
          "height": 102
        }
      },
      "source": [
        "def func(spam, eggs, toast=0, ham=0):   # first 2 required\n",
        "  print (spam, eggs, toast, ham)\n",
        "  \n",
        "func(1, 2)                      # output: (1, 2, 0, 0)\n",
        "func(1, ham=1, eggs=0)          # output: (1, 0, 0, 1)\n",
        "func(spam=1, eggs=0)            # output: (1, 0, 0, 0)\n",
        "func(toast=1, eggs=2, spam=3)   # output: (3, 2, 1, 0)\n",
        "func(1, 2, 3, 4)                # output: (1, 2, 3, 4)  "
      ],
      "execution_count": 0,
      "outputs": [
        {
          "output_type": "stream",
          "text": [
            "1 2 0 0\n",
            "1 0 0 1\n",
            "1 0 0 0\n",
            "3 2 1 0\n",
            "1 2 3 4\n"
          ],
          "name": "stdout"
        }
      ]
    },
    {
      "cell_type": "markdown",
      "metadata": {
        "id": "Za2AAP9GvVhc",
        "colab_type": "text"
      },
      "source": [
        "**Ordering rules**\n",
        "\n",
        "   * Call: keyword arguments after non-keyword arguments\n",
        "   * Header: normals, then defaults, then *name, then * *name"
      ]
    },
    {
      "cell_type": "markdown",
      "metadata": {
        "id": "pDG4Tg9YGDKc",
        "colab_type": "text"
      },
      "source": [
        "**Matching algorithm (see exercise)**\n",
        "\n",
        "1.   Assign non-keyword arguments by position\n",
        "2.   Assign keyword arguments by matching names\n",
        "3.   Assign extra non-keyword arguments to *name tuple\n",
        "4.   Assign extra keyword arguments to **name dictionary\n",
        "5.   Unassigned arguments in header assigned default values"
      ]
    },
    {
      "cell_type": "markdown",
      "metadata": {
        "id": "c-mDezX8vVii",
        "colab_type": "text"
      },
      "source": [
        "###Function design concepts"
      ]
    },
    {
      "cell_type": "markdown",
      "metadata": {
        "id": "pvcfz_7Fgm9E",
        "colab_type": "text"
      },
      "source": [
        "   * Use global variables only when absolutely necessary\n",
        "   * Use arguments for input, ‘return’ for outputs\n",
        "   * Don't change mutable arguments unless expected\n",
        "   * But globals are only state-retention tool without classes\n",
        "   * But classes depend on mutable arguments (‘self’)\n",
        "   \n",
        "   ![function](https://learning-python.com/class/Workbook/unit05_files/image004.gif)"
      ]
    },
    {
      "cell_type": "markdown",
      "metadata": {
        "id": "MlgFudd3jGGV",
        "colab_type": "text"
      },
      "source": [
        "##Modules"
      ]
    },
    {
      "cell_type": "markdown",
      "metadata": {
        "id": "HnlKYXSW0MER",
        "colab_type": "text"
      },
      "source": [
        "**Why use modules?**\n",
        "\n",
        "*     Code reuse\n",
        "*     System name-space partitioning\n",
        "*     Implementing shared services or data"
      ]
    },
    {
      "cell_type": "markdown",
      "metadata": {
        "id": "-wR5o0Ah367X",
        "colab_type": "text"
      },
      "source": [
        "**Module topics**\n",
        " \n",
        "*     The basics\n",
        "*     Import variations\n",
        "*     Reloading modules\n",
        "*     Design concepts\n",
        "*     Modules are objects\n",
        "*     Package imports\n",
        "*     Odds and ends\n",
        "*     Module gotchas"
      ]
    },
    {
      "cell_type": "markdown",
      "metadata": {
        "id": "e7oJZMUCzzJ8",
        "colab_type": "text"
      },
      "source": [
        "![alt text](https://learning-python.com/class/Workbook/unit06_files/image006.gif)"
      ]
    },
    {
      "cell_type": "markdown",
      "metadata": {
        "id": "X4fDbRY93-4n",
        "colab_type": "text"
      },
      "source": [
        "###Module basics"
      ]
    },
    {
      "cell_type": "markdown",
      "metadata": {
        "id": "h3Z7UFQq4CCX",
        "colab_type": "text"
      },
      "source": [
        "*     Creating modules: Python files, C extensions; Java classes (Jython)\n",
        "*     Using modules: import, from, reload(), 3.X: imp.reload()\n",
        "*     Module search path: $PYTHONPATH"
      ]
    },
    {
      "cell_type": "code",
      "metadata": {
        "id": "hUrUlJ0WjGGY",
        "colab_type": "code",
        "outputId": "589a59ab-6c74-4e2f-ea26-6ba5cf294e16",
        "colab": {
          "base_uri": "https://localhost:8080/",
          "height": 34
        }
      },
      "source": [
        "%%writefile module1.py\n",
        "\n",
        "def printer(x): # module attribute\n",
        "  print(x)"
      ],
      "execution_count": 0,
      "outputs": [
        {
          "output_type": "stream",
          "text": [
            "Writing module1.py\n"
          ],
          "name": "stdout"
        }
      ]
    },
    {
      "cell_type": "markdown",
      "metadata": {
        "id": "u8AVLj3IjGGc",
        "colab_type": "text"
      },
      "source": [
        "**Module usage**"
      ]
    },
    {
      "cell_type": "code",
      "metadata": {
        "id": "rhl1DSU5Oe3q",
        "colab_type": "code",
        "outputId": "7d04cc8a-4881-4f3d-deee-4ca27b192524",
        "colab": {
          "base_uri": "https://localhost:8080/",
          "height": 34
        }
      },
      "source": [
        "import module1 # get module\n",
        "module1.printer('Hello world!')"
      ],
      "execution_count": 0,
      "outputs": [
        {
          "output_type": "stream",
          "text": [
            "Hello world!\n"
          ],
          "name": "stdout"
        }
      ]
    },
    {
      "cell_type": "code",
      "metadata": {
        "id": "SsAEqweuOn2Z",
        "colab_type": "code",
        "outputId": "b91b5679-2e43-4918-c754-896d000bc591",
        "colab": {
          "base_uri": "https://localhost:8080/",
          "height": 34
        }
      },
      "source": [
        "from module1 import printer # get an export\n",
        "printer('Hello world!')"
      ],
      "execution_count": 0,
      "outputs": [
        {
          "output_type": "stream",
          "text": [
            "Hello world!\n"
          ],
          "name": "stdout"
        }
      ]
    },
    {
      "cell_type": "code",
      "metadata": {
        "id": "4jxky0ZgjGGd",
        "colab_type": "code",
        "outputId": "68271472-9a8c-455f-8736-27b2d9edd4a8",
        "colab": {
          "base_uri": "https://localhost:8080/",
          "height": 34
        }
      },
      "source": [
        "from module1 import * # get all exports\n",
        "printer('Hello world!')"
      ],
      "execution_count": 0,
      "outputs": [
        {
          "output_type": "stream",
          "text": [
            "Hello world!\n"
          ],
          "name": "stdout"
        }
      ]
    },
    {
      "cell_type": "markdown",
      "metadata": {
        "id": "QBierGYXjGGg",
        "colab_type": "text"
      },
      "source": [
        "`from *` can obscure variables meaning"
      ]
    },
    {
      "cell_type": "code",
      "metadata": {
        "id": "IgoZFQv5V74l",
        "colab_type": "code",
        "outputId": "28405cf2-02fc-4e81-8b91-6d61e45d817e",
        "colab": {
          "base_uri": "https://localhost:8080/",
          "height": 35
        }
      },
      "source": [
        "%%writefile module1.py\n",
        "\n",
        "def func(): # module attribute\n",
        "  print('module 1')"
      ],
      "execution_count": 0,
      "outputs": [
        {
          "output_type": "stream",
          "text": [
            "Writing module1.py\n"
          ],
          "name": "stdout"
        }
      ]
    },
    {
      "cell_type": "code",
      "metadata": {
        "id": "hkVujENxWDXa",
        "colab_type": "code",
        "outputId": "4b0e1f2a-04f3-4dde-aff5-9c65ddd7b8f8",
        "colab": {
          "base_uri": "https://localhost:8080/",
          "height": 35
        }
      },
      "source": [
        "%%writefile module2.py\n",
        "\n",
        "def func(): # module attribute\n",
        "  print('module 2')"
      ],
      "execution_count": 0,
      "outputs": [
        {
          "output_type": "stream",
          "text": [
            "Writing module2.py\n"
          ],
          "name": "stdout"
        }
      ]
    },
    {
      "cell_type": "code",
      "metadata": {
        "id": "LelyZtIIWJZH",
        "colab_type": "code",
        "outputId": "102f593a-eb1f-4f25-9789-d96e450592ef",
        "colab": {
          "base_uri": "https://localhost:8080/",
          "height": 35
        }
      },
      "source": [
        "%%writefile module3.py\n",
        "\n",
        "def func(): # module attribute\n",
        "  print('module 3')"
      ],
      "execution_count": 0,
      "outputs": [
        {
          "output_type": "stream",
          "text": [
            "Writing module3.py\n"
          ],
          "name": "stdout"
        }
      ]
    },
    {
      "cell_type": "code",
      "metadata": {
        "id": "EAeiQREijGGh",
        "colab_type": "code",
        "outputId": "253cfa5f-6285-44c0-a990-ebe0e100e737",
        "colab": {
          "base_uri": "https://localhost:8080/",
          "height": 35
        }
      },
      "source": [
        "from module1 import * # may overwrite my names\n",
        "from module2 import * # no way to tell what we get\n",
        "from module3 import *\n",
        "\n",
        "func() # ← ?!\n",
        "\n",
        "# Advice: use from * with at most 1 module per file"
      ],
      "execution_count": 0,
      "outputs": [
        {
          "output_type": "stream",
          "text": [
            "module 3\n"
          ],
          "name": "stdout"
        }
      ]
    },
    {
      "cell_type": "markdown",
      "metadata": {
        "id": "YojRnPCzYaj3",
        "colab_type": "text"
      },
      "source": [
        "###Name qualification"
      ]
    },
    {
      "cell_type": "markdown",
      "metadata": {
        "id": "K1tkDTn8YW3b",
        "colab_type": "text"
      },
      "source": [
        "*     Simple variables\n",
        "      -      X searches for name X in current scopes\n",
        "*     Qualification\n",
        "      -      X.Y searches for attribute Y in object X\n",
        "*     Paths\n",
        "      -      X.Y.Z gives a path of objects to be searched\n",
        "*     Generality\n",
        "      -      Qualification works on all objects with attributes: modules, classes, built-in types, etc."
      ]
    },
    {
      "cell_type": "markdown",
      "metadata": {
        "id": "810weuyKYyES",
        "colab_type": "text"
      },
      "source": [
        "![alt text](https://learning-python.com/class/Workbook/unit06_files/image002.gif)"
      ]
    },
    {
      "cell_type": "markdown",
      "metadata": {
        "id": "ICzVH33uZDXf",
        "colab_type": "text"
      },
      "source": [
        "###Import variants"
      ]
    },
    {
      "cell_type": "markdown",
      "metadata": {
        "id": "6XdqY2N-ZBOl",
        "colab_type": "text"
      },
      "source": [
        "*     Module import model\n",
        "      -      module loaded and run on first import or from\n",
        "      -      running a modules code creates its top-level names\n",
        "      -      later import/from fetches already-loaded module\n",
        "*     import and from are assignments\n",
        "      -      import assigns an entire module object to a name\n",
        "      -      from assigns selected module attributes to names"
      ]
    },
    {
      "cell_type": "markdown",
      "metadata": {
        "id": "jiL_TWjfZMYv",
        "colab_type": "text"
      },
      "source": [
        "Operation |\t Interpretation\n",
        "---|---\n",
        "import mod |\tfetch a module as a whole\n",
        "from mod import name |\tfetch a specific name from a module\n",
        "from mod import * |\tfetch all top-level names from a module\n",
        "imp.reload(mod) |\tforce a reload of modules code"
      ]
    },
    {
      "cell_type": "markdown",
      "metadata": {
        "id": "lNeIlFwWcaZF",
        "colab_type": "text"
      },
      "source": [
        "![alt text](https://learning-python.com/class/Workbook/unit06_files/image004.gif)"
      ]
    },
    {
      "cell_type": "markdown",
      "metadata": {
        "id": "atuubgbojGG4",
        "colab_type": "text"
      },
      "source": [
        "###Package imports"
      ]
    },
    {
      "cell_type": "markdown",
      "metadata": {
        "id": "j6PoLclvj_vc",
        "colab_type": "text"
      },
      "source": [
        "\n",
        "Module package imports name directory paths:\n",
        "*      Module name -> dir.dir.dir in import statements and reloads\n",
        "       -      import dir1.dir2.mod -> loads dir1\\dir2\\mod.py\n",
        "       -      from dir1.dir2.mod import name\n",
        "*      dir1 must be contained by a directory on sys.path (., PYTHONPATH, etc.)\n",
        "*      Each dir must have \\_\\_init\\_\\_.py file, possibly empty (till 3.3: optional)\n",
        "*      \\_\\_init\\_\\_.py gives directory's namespace, can use \\_\\_all\\_\\_ for from*\n",
        "*      Simplifies path, disambiguates same-named modules files"
      ]
    },
    {
      "cell_type": "markdown",
      "metadata": {
        "id": "n_0xBazUsjmt",
        "colab_type": "text"
      },
      "source": [
        "**Example**\n",
        "\n",
        "```\n",
        "For:\n",
        "    dir0\\dir1\\dir2\\mod.py\n",
        "And:\n",
        "    import dir1.dir2.mod\n",
        "``` \n",
        "\n",
        "-      dir0 (container) must be listed on the module search path\n",
        "-      dir1 and dir2 both must contain an \\_\\_init\\_\\_.py file\n",
        "-      dir0 does not require an \\_\\_init\\_\\_.py\n",
        " \n",
        "```\n",
        "dir0\\\n",
        "    dir1\\\n",
        "      __init__.py\n",
        "      dir2\\\n",
        "          __init__.py\n",
        "          mod.py\n",
        "```"
      ]
    },
    {
      "cell_type": "markdown",
      "metadata": {
        "id": "ggBqDXKhuUrC",
        "colab_type": "text"
      },
      "source": [
        "**Why packages?**\n",
        " \n",
        "\n",
        "```\n",
        "root\\\n",
        "    sys1\\\n",
        "        __init__.py (__init__ needed if dir in import)\n",
        "        util.py\n",
        "        main.py (import util finds here)\n",
        "        other.py\n",
        "    sys2\\\n",
        "        __init__.py\n",
        "        util.py\n",
        "        main.py\n",
        "        other.py\n",
        "    sys3\\ (here or elsewhere)\n",
        "        __init__.py (your new code here)\n",
        "        myfile.py (import util depends on path)\n",
        "                  (import sys1.util doesnt)\n",
        "```"
      ]
    },
    {
      "cell_type": "markdown",
      "metadata": {
        "id": "3CkVrh5guX85",
        "colab_type": "text"
      },
      "source": [
        "**Advanced: Relative import syntax**\n",
        "\n",
        "In code located in package folder pkg:\n",
        "\n",
        "```python\n",
        "import string # skips pkg: finds the standard library's version\n",
        "\n",
        "from .string import name1, name2 # import names from pkg.string only\n",
        "from . import string # import pkg.string\n",
        "```"
      ]
    },
    {
      "cell_type": "markdown",
      "metadata": {
        "id": "FamhMc2ouFoC",
        "colab_type": "text"
      },
      "source": [
        "**Advanced: Namespace packages (3.3+)**\n",
        "\n",
        "Extension to usual import algorithm: directories without \\_\\_init\\_\\_.py, located anywhere on path, checked for last, and used only if no normal module or package found at level: concatenation of all found becomes a virtual package for deeper imports. Not yet used much in practice."
      ]
    },
    {
      "cell_type": "markdown",
      "metadata": {
        "id": "ZOXiBoGajGG6",
        "colab_type": "text"
      },
      "source": [
        "###Odds and ends"
      ]
    },
    {
      "cell_type": "markdown",
      "metadata": {
        "id": "zkI-aNCiurhy",
        "colab_type": "text"
      },
      "source": [
        "*     import module as name\n",
        "      -      Like import module + name = module\n",
        "      -      Also good for packages: import sys1.util as util\n",
        "\n",
        "*     Loading modules by name string\n",
        "      -      exec(import + name)\n",
        "      -      \\_\\_import\\_\\_(name)\n",
        "\n",
        "*     Modules are compiled to byte code on first import\n",
        "      -      .pyc files serve as recompile dependency\n",
        "      -      compilation is automatic and hidden\n",
        "\n",
        "*     Data hiding is a convention\n",
        "      -      Exports all names defined at the top-level of a module\n",
        "      -      Special case: \\_\\_all\\_\\_ list gives names exported by from *\n",
        "      -      Special case: _X names aren't imported by a from*\n",
        "\n",
        "*     The \\_\\_name\\_\\_ == \\_\\_main\\_\\_ trick\n",
        "      -      \\_\\_name\\_\\_ auto set to \\_\\_main\\_\\_ only when run as script\n",
        "      -      allows modules to be imported and/or run\n",
        "      -      Simplest unit test protocol, dual usage modes for code"
      ]
    },
    {
      "cell_type": "code",
      "metadata": {
        "id": "vL82Am20jGG6",
        "colab_type": "code",
        "outputId": "355fafe6-916d-4757-9134-b60546b6b78b",
        "colab": {
          "base_uri": "https://localhost:8080/",
          "height": 34
        }
      },
      "source": [
        "%%writefile tester.py\n",
        "\n",
        "def func(s):\n",
        "  print(s)\n",
        "\n",
        "if __name__ == '__main__': # only when run\n",
        "  func('This is Sparta') # not when imported"
      ],
      "execution_count": 0,
      "outputs": [
        {
          "output_type": "stream",
          "text": [
            "Writing tester.py\n"
          ],
          "name": "stdout"
        }
      ]
    },
    {
      "cell_type": "markdown",
      "metadata": {
        "id": "Vw56YyH8jGG8",
        "colab_type": "text"
      },
      "source": [
        "**Usage modes**"
      ]
    },
    {
      "cell_type": "code",
      "metadata": {
        "id": "gKHWs-JOxWCS",
        "colab_type": "code",
        "outputId": "34d0f052-f653-4148-a837-f3b43ffb7d5f",
        "colab": {
          "base_uri": "https://localhost:8080/",
          "height": 34
        }
      },
      "source": [
        "import tester\n",
        "tester.func(\"This is Kyiv\")"
      ],
      "execution_count": 0,
      "outputs": [
        {
          "output_type": "stream",
          "text": [
            "This is Kyiv\n"
          ],
          "name": "stdout"
        }
      ]
    },
    {
      "cell_type": "code",
      "metadata": {
        "id": "1r_aEDPkjGG8",
        "colab_type": "code",
        "outputId": "e9c7f46c-fe3a-49c2-9079-2e4fb26bbfaf",
        "colab": {
          "base_uri": "https://localhost:8080/",
          "height": 34
        }
      },
      "source": [
        "! python -u tester.py"
      ],
      "execution_count": 0,
      "outputs": [
        {
          "output_type": "stream",
          "text": [
            "This is Sparta\n"
          ],
          "name": "stdout"
        }
      ]
    },
    {
      "cell_type": "markdown",
      "metadata": {
        "id": "mLGmwnwljGG9",
        "colab_type": "text"
      },
      "source": [
        "###Module design concepts"
      ]
    },
    {
      "cell_type": "markdown",
      "metadata": {
        "id": "WPAHAppHx65O",
        "colab_type": "text"
      },
      "source": [
        "*     Always in a module: interactive = module \\_\\_main\\_\\_\n",
        "*     Minimize module coupling: global variables\n",
        "*     Maximize module cohesion: unified purpose\n",
        "*     Modules should rarely change other modules variables"
      ]
    },
    {
      "cell_type": "markdown",
      "metadata": {
        "id": "AdBAB7weytAb",
        "colab_type": "text"
      },
      "source": [
        "**Suppose mod.py contains**\n",
        "\n",
        "```python\n",
        "X = 99 # reader sees only this\n",
        "```\n",
        "\n",
        "**always okay to use**\n",
        "\n",
        "```python\n",
        "import mod\n",
        "print(mod.X ** 2)\n",
        "```\n",
        "\n",
        "**almost always a Bad Idea!**\n",
        "\n",
        "```python\n",
        "import mod\n",
        "mod.X = 88\n",
        "```\n",
        "\n",
        " **better: isolates coupling**\n",
        "\n",
        "```python\n",
        "import mod\n",
        "result = mod.func(88)\n",
        "```"
      ]
    },
    {
      "cell_type": "markdown",
      "metadata": {
        "id": "9lV1cXki6eNN",
        "colab_type": "text"
      },
      "source": [
        "##Classes\n"
      ]
    },
    {
      "cell_type": "markdown",
      "metadata": {
        "id": "mu5HZMsR6kfh",
        "colab_type": "text"
      },
      "source": [
        "**Why use classes?**\n",
        " \n",
        "*     Implementing new objects\n",
        "*      Multiple instances\n",
        "*      Customization via inheritance\n",
        "*      Operator overloading\n"
      ]
    },
    {
      "cell_type": "markdown",
      "metadata": {
        "id": "Zqfz0GiS6t9Y",
        "colab_type": "text"
      },
      "source": [
        "**Class topics**\n",
        "\n",
        "*     Class basics\n",
        "*     The class statement\n",
        "*     Class methods\n",
        "*     Attribute inheritance\n",
        "*     Operator overloading\n",
        "*     Name spaces and scopes\n",
        "*     OOP, inheritance, and composition\n",
        "*     Classes and methods are objects\n",
        "*     Odds and ends\n",
        "*     Class gotchas"
      ]
    },
    {
      "cell_type": "markdown",
      "metadata": {
        "id": "yKSAlDYN-fWq",
        "colab_type": "text"
      },
      "source": [
        "![ML position](https://raw.githubusercontent.com/fbeilstein/machine_learning/master/lecture_01_and_lecture_02_intro_and_python/objects_3d.png)"
      ]
    },
    {
      "cell_type": "markdown",
      "metadata": {
        "id": "b-Ow-75x-T5L",
        "colab_type": "text"
      },
      "source": [
        "![ML position](https://raw.githubusercontent.com/fbeilstein/machine_learning/master/lecture_01_and_lecture_02_intro_and_python/object.png)"
      ]
    },
    {
      "cell_type": "markdown",
      "metadata": {
        "id": "C66XtxAf-3He",
        "colab_type": "text"
      },
      "source": [
        "![ML position](https://raw.githubusercontent.com/fbeilstein/machine_learning/master/lecture_01_and_lecture_02_intro_and_python/inheritance.png)"
      ]
    },
    {
      "cell_type": "markdown",
      "metadata": {
        "id": "K6unZHGO-tKL",
        "colab_type": "text"
      },
      "source": [
        "![ML position](https://raw.githubusercontent.com/fbeilstein/machine_learning/master/lecture_01_and_lecture_02_intro_and_python/shapes_usage.png)"
      ]
    },
    {
      "cell_type": "markdown",
      "metadata": {
        "id": "qKbfBfW66z3w",
        "colab_type": "text"
      },
      "source": [
        "###OOP: The Big Picture\n"
      ]
    },
    {
      "cell_type": "markdown",
      "metadata": {
        "id": "fRLiT9Ap66sg",
        "colab_type": "text"
      },
      "source": [
        "**How it works**\n",
        "\n",
        "*      All about: object.attr\n",
        "*      Kicks off a search for first attr → inheritance\n",
        "*      Searches trees of linked namespace objects\n",
        "*      Search is DFLR (except in diamonds), per order in class headers\n",
        "*      Class objects: supers and subs\n",
        "*      Instance objects: generated from a class\n",
        "*      Classes can also define expression behavior"
      ]
    },
    {
      "cell_type": "markdown",
      "metadata": {
        "id": "yL9RhA-M7jaA",
        "colab_type": "text"
      },
      "source": [
        "![classes](https://learning-python.com/class/Workbook/unit07_files/image002.gif)\n",
        "\n",
        "```python\n",
        "class C1: # make class objects (ovals)\n",
        "class C2:\n",
        "class C3(C1, C2): # links to superclasses, search order\n",
        " \n",
        "\n",
        "I1 = C3() # make instance objects (rectangles)\n",
        "I2 = C3() # linked to their class\n",
        "I1.x # finds customized version in C3\n",
        "```"
      ]
    },
    {
      "cell_type": "markdown",
      "metadata": {
        "id": "r8U6luQg6eNS",
        "colab_type": "text"
      },
      "source": [
        "**Why OOP?**\n",
        "\n",
        "*      OOP great at code reuse, structure, and encapsulation\n",
        "*      Program by customizing in new levels of hierarchy, not changing\n",
        "*      Extra structure of classes virtually required once programs hit 1K lines (see frigcal)\n",
        "*      Inheritance: basis of specializing, customizing software lower in tree means customization\n",
        "*      Example: an employee database app company, departments, employees\n",
        "*      Much more complete than functional paradigm (though the two can often work together)\n"
      ]
    },
    {
      "cell_type": "markdown",
      "metadata": {
        "id": "y-eEQkE075H4",
        "colab_type": "text"
      },
      "source": [
        "###A first look: class basics\n"
      ]
    },
    {
      "cell_type": "markdown",
      "metadata": {
        "id": "KHVTyisW78Wg",
        "colab_type": "text"
      },
      "source": [
        "*   Multiple Instances\n",
        "*   Specialization by inheritance\n",
        "*   Implementing operators"
      ]
    },
    {
      "cell_type": "markdown",
      "metadata": {
        "id": "wocseSQJ8DAo",
        "colab_type": "text"
      },
      "source": [
        "**1. Classes generate multiple instance objects**\n",
        "\n",
        "*      Classes implement new objects: state + behavior\n",
        "*      Calling a class like a function makes a new instance\n",
        "*      Each instance inherits class attributes, and gets its own\n",
        "*      Assignments in class statements make class attributes\n",
        "*      Assignments to self.attr make per-instance attributes"
      ]
    },
    {
      "cell_type": "markdown",
      "metadata": {
        "id": "LZSTl1Up9vVg",
        "colab_type": "text"
      },
      "source": [
        "![2classes](https://learning-python.com/class/Workbook/unit07_files/image004.gif)"
      ]
    },
    {
      "cell_type": "code",
      "metadata": {
        "id": "Jgub2Nyy9cu1",
        "colab_type": "code",
        "outputId": "ba308448-8b1f-4bbe-890a-b0776324a454",
        "cellView": "form",
        "colab": {
          "base_uri": "https://localhost:8080/",
          "height": 820
        }
      },
      "source": [
        "#@title ##Example: simple class\n",
        "\n",
        "%%debug_cell_with_pytutor\n",
        "\n",
        "class FirstClass: # define a class object\n",
        "  def setdata(self, value): # define class methods\n",
        "    self.data = value # self is the instance\n",
        " \n",
        "  def display(self):\n",
        "    print(self.data) # self.data: per instance\n",
        "\n",
        "    \n",
        "x = FirstClass() # make two instances\n",
        "y = FirstClass() # each is a new namespace\n",
        " \n",
        "x.setdata(\"King Arthur\") # call methods: self=x/y\n",
        "y.setdata(3.14159)\n",
        " \n",
        "\n",
        "x.display() # self.data differs in each\n",
        "y.display()\n",
        "\n",
        "x.data = \"New value\" # can get/set attributes\n",
        "x.display() # outside the class too"
      ],
      "execution_count": 0,
      "outputs": [
        {
          "output_type": "display_data",
          "data": {
            "text/html": [
              "<iframe width=\"1300\" height=\"800\" frameborder=\"0\" src=\"https://pythontutor.com/iframe-embed.html#code=%0Aclass%20FirstClass%3A%20%23%20define%20a%20class%20object%0A%20%20def%20setdata%28self%2C%20value%29%3A%20%23%20define%20class%20methods%0A%20%20%20%20self.data%20%3D%20value%20%23%20self%20is%20the%20instance%0A%20%0A%20%20def%20display%28self%29%3A%0A%20%20%20%20print%28self.data%29%20%23%20self.data%3A%20per%20instance%0A%0A%20%20%20%20%0Ax%20%3D%20FirstClass%28%29%20%23%20make%20two%20instances%0Ay%20%3D%20FirstClass%28%29%20%23%20each%20is%20a%20new%20namespace%0A%20%0Ax.setdata%28%22King%20Arthur%22%29%20%23%20call%20methods%3A%20self%3Dx/y%0Ay.setdata%283.14159%29%0A%20%0A%0Ax.display%28%29%20%23%20self.data%20differs%20in%20each%0Ay.display%28%29%0A%0Ax.data%20%3D%20%22New%20value%22%20%23%20can%20get/set%20attributes%0Ax.display%28%29%20%23%20outside%20the%20class%20too&cumulative=false&py=3&curInstr=0\"></iframe>"
            ],
            "text/plain": [
              "<IPython.core.display.HTML object>"
            ]
          },
          "metadata": {
            "tags": []
          }
        }
      ]
    },
    {
      "cell_type": "markdown",
      "metadata": {
        "id": "XLLZn7dRQhT0",
        "colab_type": "text"
      },
      "source": [
        "**2. Classes are specialized by inheritance**\n",
        "\n",
        "*      Superclasses listed in parenthesis in class's header\n",
        "*      Classes inherit attributes from their superclasses\n",
        "*      Instances inherit attributes from all accessible classes\n",
        "*      Logic changes made in subclasses, not in-place"
      ]
    },
    {
      "cell_type": "markdown",
      "metadata": {
        "id": "mofMReahaG8J",
        "colab_type": "text"
      },
      "source": [
        "![second class](https://learning-python.com/class/Workbook/unit07_files/image006.gif)"
      ]
    },
    {
      "cell_type": "code",
      "metadata": {
        "id": "LIBC00nrXEuY",
        "colab_type": "code",
        "outputId": "8c8dff63-a798-4d8a-c532-9d9c7b0bb9e5",
        "cellView": "form",
        "colab": {
          "base_uri": "https://localhost:8080/",
          "height": 820
        }
      },
      "source": [
        "#@title ##Example: inhertance\n",
        "%%debug_cell_with_pytutor\n",
        "\n",
        "class FirstClass: # define a class object\n",
        "  def setdata(self, value): # define class methods\n",
        "    self.data = value # self is the instance\n",
        " \n",
        "  def display(self):\n",
        "    print(self.data) # self.data: per instance\n",
        "\n",
        "class SecondClass(FirstClass): # inherits setdata\n",
        "  def display(self): # changes display\n",
        "    print('Current value = \"%s\"' % self.data)\n",
        "\n",
        "z = SecondClass()\n",
        "z.setdata(42) # setdata found in FirstClass\n",
        "z.display() # finds/calls overridden method\n",
        "\n",
        "x = FirstClass()\n",
        "x.setdata(\"King Arthur\")\n",
        "x.display() # x is a FirstClass instance"
      ],
      "execution_count": 0,
      "outputs": [
        {
          "output_type": "display_data",
          "data": {
            "text/html": [
              "<iframe width=\"1300\" height=\"800\" frameborder=\"0\" src=\"https://pythontutor.com/iframe-embed.html#code=%0Aclass%20FirstClass%3A%20%23%20define%20a%20class%20object%0A%20%20def%20setdata%28self%2C%20value%29%3A%20%23%20define%20class%20methods%0A%20%20%20%20self.data%20%3D%20value%20%23%20self%20is%20the%20instance%0A%20%0A%20%20def%20display%28self%29%3A%0A%20%20%20%20print%28self.data%29%20%23%20self.data%3A%20per%20instance%0A%0Aclass%20SecondClass%28FirstClass%29%3A%20%23%20inherits%20setdata%0A%20%20def%20display%28self%29%3A%20%23%20changes%20display%0A%20%20%20%20print%28%27Current%20value%20%3D%20%22%25s%22%27%20%25%20self.data%29%0A%0Az%20%3D%20SecondClass%28%29%0Az.setdata%2842%29%20%23%20setdata%20found%20in%20FirstClass%0Az.display%28%29%20%23%20finds/calls%20overridden%20method%0A%0Ax%20%3D%20FirstClass%28%29%0Ax.setdata%28%22King%20Arthur%22%29%0Ax.display%28%29%20%23%20x%20is%20a%20FirstClass%20instance&cumulative=false&py=3&curInstr=0\"></iframe>"
            ],
            "text/plain": [
              "<IPython.core.display.HTML object>"
            ]
          },
          "metadata": {
            "tags": []
          }
        }
      ]
    },
    {
      "cell_type": "markdown",
      "metadata": {
        "id": "7nZBKGAk6eNV",
        "colab_type": "text"
      },
      "source": [
        "**3. Classes can intercept Python operators**\n",
        "\n",
        "*      Methods with names like \"__X__\" are special hooks\n",
        "*      Called automatically when Python evaluates operators\n",
        "*      Classes may override most built-in type operations\n",
        "*      Allows classes to integrate with Python's object model"
      ]
    },
    {
      "cell_type": "markdown",
      "metadata": {
        "id": "6EaAq34Jc-o7",
        "colab_type": "text"
      },
      "source": [
        "![overload](https://learning-python.com/class/Workbook/unit07_files/image008.gif)"
      ]
    },
    {
      "cell_type": "code",
      "metadata": {
        "id": "UePR48wJXoqo",
        "colab_type": "code",
        "outputId": "561e2bd0-4af2-4905-fca3-f58b58a994d0",
        "cellView": "form",
        "colab": {
          "base_uri": "https://localhost:8080/",
          "height": 620
        }
      },
      "source": [
        "#@title ##Example:operator overload\n",
        "%%debug_cell_with_pytutor\n",
        "\n",
        "class FirstClass: # define a class object\n",
        "  def setdata(self, value): # define class methods\n",
        "    self.data = value # self is the instance\n",
        " \n",
        "  def display(self):\n",
        "    print(self.data) # self.data: per instance\n",
        "\n",
        "class SecondClass(FirstClass): # inherits setdata\n",
        "  def display(self): # changes display\n",
        "    print('Current value = \"%s\"' % self.data)\n",
        "\n",
        "class ThirdClass(SecondClass): # isa SecondClass\n",
        "  def __init__(self, value): # \"ThirdClass(x)\"\n",
        "    self.data = value\n",
        "\n",
        "  def __add__(self, other): # \"self + other\"\n",
        "    return ThirdClass(self.data + other)\n",
        "\n",
        "  def __mul__(self, other):\n",
        "    self.data = self.data * other # \"self * other\"\n",
        "\n",
        "a = ThirdClass(\"abc\") # new __init__ called\n",
        "a.display() # inherited method\n",
        "\n",
        "b = a.__add__(\"de\") # new __add__ called\n",
        "b.display()\n",
        "\n",
        "a * 3 # new __mul__ called\n",
        "a.display()"
      ],
      "execution_count": 0,
      "outputs": [
        {
          "output_type": "display_data",
          "data": {
            "text/html": [
              "<iframe width=\"1300\" height=\"600\" frameborder=\"0\" src=\"https://pythontutor.com/iframe-embed.html#code=%0Aclass%20FirstClass%3A%20%23%20define%20a%20class%20object%0A%20%20def%20setdata%28self%2C%20value%29%3A%20%23%20define%20class%20methods%0A%20%20%20%20self.data%20%3D%20value%20%23%20self%20is%20the%20instance%0A%20%0A%20%20def%20display%28self%29%3A%0A%20%20%20%20print%28self.data%29%20%23%20self.data%3A%20per%20instance%0A%0Aclass%20SecondClass%28FirstClass%29%3A%20%23%20inherits%20setdata%0A%20%20def%20display%28self%29%3A%20%23%20changes%20display%0A%20%20%20%20print%28%27Current%20value%20%3D%20%22%25s%22%27%20%25%20self.data%29%0A%0Aclass%20ThirdClass%28SecondClass%29%3A%20%23%20isa%20SecondClass%0A%20%20def%20__init__%28self%2C%20value%29%3A%20%23%20%22ThirdClass%28x%29%22%0A%20%20%20%20self.data%20%3D%20value%0A%0A%20%20def%20__add__%28self%2C%20other%29%3A%20%23%20%22self%20%2B%20other%22%0A%20%20%20%20return%20ThirdClass%28self.data%20%2B%20other%29%0A%0A%20%20def%20__mul__%28self%2C%20other%29%3A%0A%20%20%20%20self.data%20%3D%20self.data%20%2A%20other%20%23%20%22self%20%2A%20other%22%0A%0Aa%20%3D%20ThirdClass%28%22abc%22%29%20%23%20new%20__init__%20called%0Aa.display%28%29%20%23%20inherited%20method%0A%0Ab%20%3D%20a.__add__%28%22de%22%29%20%23%20new%20__add__%20called%0Ab.display%28%29%0A%0Aa%20%2A%203%20%23%20new%20__mul__%20called%0Aa.display%28%29&cumulative=false&py=3&curInstr=0\"></iframe>"
            ],
            "text/plain": [
              "<IPython.core.display.HTML object>"
            ]
          },
          "metadata": {
            "tags": []
          }
        }
      ]
    },
    {
      "cell_type": "markdown",
      "metadata": {
        "colab_type": "text",
        "id": "7Ccw2lSsCKfr"
      },
      "source": [
        "*     Lets classes intercept normal Python operations\n",
        "*     Can overload all Python expression operators\n",
        "*     Can overload object operations: print, call, qualify,\n",
        "*     Makes class instances more like built-in types\n",
        "*     Via providing specially-named class methods"
      ]
    },
    {
      "cell_type": "markdown",
      "metadata": {
        "colab_type": "text",
        "id": "eH_9Pj18CKfs"
      },
      "source": [
        "**Common operator overloading methods**\n",
        " \n",
        "*     Special method names have 2 _ before and after\n",
        "*     See Python manuals or reference books for the full set"
      ]
    },
    {
      "cell_type": "markdown",
      "metadata": {
        "colab_type": "text",
        "id": "wGRpFp-xCKft"
      },
      "source": [
        "Method | Overloads | Called for\n",
        "---|---|---\n",
        "__init__ | Constructor | object creation: X()\n",
        "__del__ | Destructor | object reclamation\n",
        "__add__ | operator + | X + Y\n",
        "__or__ | operator \\| | X \\| Y\n",
        "__repr__ | Printing | print X, `X`\n",
        "__call__ | function calls | X()\n",
        "__getattr__ | Qualification | X.undefined\n",
        "__getitem__ | Indexing | X[key], iteration, in\n",
        "__setitem__ | Qualification | X[key] = value\n",
        "__len__ | Length | len(X), truth tests\n",
        "__cmp__ | Comparison, 2.X | X == Y, X < Y\n",
        "__radd__ | operator + | non-instance + X\n",
        "__iter__ | iteration | for item in X, I=iter(X)\n",
        "__next__ | iteration | next(I)\n"
      ]
    },
    {
      "cell_type": "markdown",
      "metadata": {
        "id": "mg6R0EuDYvaO",
        "colab_type": "text"
      },
      "source": [
        "###A closer look: class terminology"
      ]
    },
    {
      "cell_type": "markdown",
      "metadata": {
        "id": "WbFVjE2ydM54",
        "colab_type": "text"
      },
      "source": [
        "  - Dynamic typing and polymorphism are keys to Python\n",
        "  - self and __init__ are key concepts in Python OOP"
      ]
    },
    {
      "cell_type": "markdown",
      "metadata": {
        "id": "_kCEMLLR6eNY",
        "colab_type": "text"
      },
      "source": [
        "*     Class\n",
        "  *      An object (and statement) which defines inherited members and methods\n",
        "*     Instance\n",
        "  *      Objects created from a class, which inherit its attributes; each instance is a new namespace\n",
        "*     Member\n",
        "  *      An attribute of a class or instance object, that is bound to an object\n",
        "*     Method\n",
        "  *      An attribute of a class object, that is bound to a function object (a callable member)\n",
        "*     Self\n",
        "  *      By convention, the name given to the implied instance object in methods\n",
        "*     Inheritance\n",
        "  *      When an instance or class accesses a classes attributes\n",
        "*     Superclass\n",
        "  *      Class or classes another class inherits attributes from\n",
        "*     Subclass\n",
        "  *      Class which inherits attribute names from another class"
      ]
    },
    {
      "cell_type": "markdown",
      "metadata": {
        "id": "9T8hMs0XdhJW",
        "colab_type": "text"
      },
      "source": [
        "###Using the class statement"
      ]
    },
    {
      "cell_type": "markdown",
      "metadata": {
        "id": "Ag_DWqIrdjo4",
        "colab_type": "text"
      },
      "source": [
        "*     Pythons main OOP tool (like C++)\n",
        "*     Superclasses are listed in parenthesis\n",
        "*     Special protocols, operator overloading: __X__\n",
        "*     Multiple inheritance: class X(A, B, C)\n",
        "*     Search = DFLR, except for new-style BF in diamonds"
      ]
    },
    {
      "cell_type": "markdown",
      "metadata": {
        "id": "fdxT8rQydttw",
        "colab_type": "text"
      },
      "source": [
        "**General form**\n",
        "\n",
        "```python\n",
        "class <name>(superclass,): # assign to name\n",
        "  data = value # shared class data\n",
        "  \n",
        "  def method(self,): # methods\n",
        "    self.member = value # per-instance data\n",
        "```"
      ]
    },
    {
      "cell_type": "markdown",
      "metadata": {
        "id": "nUYgrLAa6eNc",
        "colab_type": "text"
      },
      "source": [
        "**Example**\n",
        "\n",
        "*      class introduces a new local scope\n",
        "*      Assignments in class create class object attributes\n",
        "*      self.name = X creates/changes instance attribute"
      ]
    },
    {
      "cell_type": "code",
      "metadata": {
        "id": "REqvul0m6eNd",
        "colab_type": "code",
        "outputId": "0c117dae-a6c4-4eff-9605-6a3abef3df2d",
        "cellView": "form",
        "colab": {
          "base_uri": "https://localhost:8080/",
          "height": 620
        }
      },
      "source": [
        "#@title ##Example: class/object attributes\n",
        "%%debug_cell_with_pytutor\n",
        "\n",
        "class SuperClass():\n",
        "  def __init__(self, value):\n",
        "    self.data = value\n",
        "\n",
        "class Subclass(SuperClass): # define subclass\n",
        "  data = 'spam' # assign class attr\n",
        "\n",
        "  def __init__(self, value): # assign class attr\n",
        "    self.data = value # assign instance attr\n",
        "\n",
        "  def display(self):\n",
        "    print(self.data, Subclass.data) # instance, class\n",
        "\n",
        "    \n",
        "x = Subclass(1)\n",
        "y = Subclass(2)\n",
        "x.display()\n",
        "y.display()"
      ],
      "execution_count": 0,
      "outputs": [
        {
          "output_type": "display_data",
          "data": {
            "text/html": [
              "<iframe width=\"1300\" height=\"600\" frameborder=\"0\" src=\"https://pythontutor.com/iframe-embed.html#code=%0Aclass%20SuperClass%28%29%3A%0A%20%20def%20__init__%28self%2C%20value%29%3A%0A%20%20%20%20self.data%20%3D%20value%0A%0Aclass%20Subclass%28SuperClass%29%3A%20%23%20define%20subclass%0A%20%20data%20%3D%20%27spam%27%20%23%20assign%20class%20attr%0A%0A%20%20def%20__init__%28self%2C%20value%29%3A%20%23%20assign%20class%20attr%0A%20%20%20%20self.data%20%3D%20value%20%23%20assign%20instance%20attr%0A%0A%20%20def%20display%28self%29%3A%0A%20%20%20%20print%28self.data%2C%20Subclass.data%29%20%23%20instance%2C%20class%0A%0A%20%20%20%20%0Ax%20%3D%20Subclass%281%29%0Ay%20%3D%20Subclass%282%29%0Ax.display%28%29%0Ay.display%28%29&cumulative=false&py=3&curInstr=0\"></iframe>"
            ],
            "text/plain": [
              "<IPython.core.display.HTML object>"
            ]
          },
          "metadata": {
            "tags": []
          }
        }
      ]
    },
    {
      "cell_type": "markdown",
      "metadata": {
        "id": "YIKYt-UsItz_",
        "colab_type": "text"
      },
      "source": [
        "###Using class methods"
      ]
    },
    {
      "cell_type": "markdown",
      "metadata": {
        "id": "wwbeMbun6eNf",
        "colab_type": "text"
      },
      "source": [
        "*     class statement creates and assigns a class object\n",
        "*     Calling a class object generates an instance object\n",
        "*     Class methods provide behavior for instance objects\n",
        "*     Methods are nested def functions, with a self\n",
        "*     self is passed the implied instance object\n",
        "*     Methods are all public and virtual in C++ terms"
      ]
    },
    {
      "cell_type": "markdown",
      "metadata": {
        "id": "_dLkz2v5jMD0",
        "colab_type": "text"
      },
      "source": [
        "![subclass](https://learning-python.com/class/Workbook/unit07_files/image010.gif)"
      ]
    },
    {
      "cell_type": "markdown",
      "metadata": {
        "id": "NvOg9axJ6eNi",
        "colab_type": "text"
      },
      "source": [
        "**Commonly used for calling superclass constructors**\n",
        "\n",
        "```python\n",
        "class Super:\n",
        "  def __init__(self, x):\n",
        "    default code\n",
        "\n",
        "class Sub(Super):\n",
        "  def __init__(self, x, y):\n",
        "    Super.__init__(self, x) # run superclass init\n",
        "    custom code # do my init actions\n",
        "\n",
        "I = Sub(1, 2)\n",
        "\n",
        "# See also: super() built-in for generic superclass access\n",
        "# But this call has major issues in multiple-inheritance trees\n",
        "```"
      ]
    },
    {
      "cell_type": "markdown",
      "metadata": {
        "id": "CJ5rLovP6eNl",
        "colab_type": "text"
      },
      "source": [
        "###Customization via inheritance"
      ]
    },
    {
      "cell_type": "markdown",
      "metadata": {
        "id": "2VN84ytLkUrR",
        "colab_type": "text"
      },
      "source": [
        "*     Inheritance uses attribute definition tree (namespaces)\n",
        "*     object.attr searches up namespace tree for first attr\n",
        "*     Lower definitions in the tree override higher ones"
      ]
    },
    {
      "cell_type": "markdown",
      "metadata": {
        "id": "ZEDZzlNUkcAe",
        "colab_type": "text"
      },
      "source": [
        "**Attribute tree construction:**\n",
        " \n",
        "1.    Instance → assignments to self attributes\n",
        "2.    Class → statements (assignments) in class statements\n",
        "3.    Superclasses → classes listed in parenthesis in header"
      ]
    },
    {
      "cell_type": "markdown",
      "metadata": {
        "id": "51-Tx1z2klr_",
        "colab_type": "text"
      },
      "source": [
        "![iheritance](https://learning-python.com/class/Workbook/unit07_files/image012.gif)"
      ]
    },
    {
      "cell_type": "markdown",
      "metadata": {
        "id": "553L1RLTkkuI",
        "colab_type": "text"
      },
      "source": [
        "###Specializing inherited methods"
      ]
    },
    {
      "cell_type": "markdown",
      "metadata": {
        "id": "GlJQ3gNbkwEA",
        "colab_type": "text"
      },
      "source": [
        "*     Inheritance finds names in subclass before superclass\n",
        "*     Subclasses may inherit, replace, extend, or provide\n",
        "*     Direct superclass method calls: Class.method(self,)"
      ]
    },
    {
      "cell_type": "code",
      "metadata": {
        "id": "3B81a5qd6eNm",
        "colab_type": "code",
        "outputId": "4e764f3b-fe9a-4a22-8488-8b130b784a00",
        "cellView": "form",
        "colab": {
          "base_uri": "https://localhost:8080/",
          "height": 620
        }
      },
      "source": [
        "#@title ##Example: Specializing inherited methods\n",
        "%%debug_cell_with_pytutor\n",
        "\n",
        "class Super:\n",
        "  def method(self):\n",
        "    print('in Super.method')\n",
        "\n",
        "\n",
        "class Sub(Super):\n",
        "  def method(self):\n",
        "    print('starting Sub.method')\n",
        "    Super.method(self)\n",
        "    print('ending Sub.method')\n",
        "\n",
        "\n",
        "x = Super()\n",
        "x.method()\n",
        "\n",
        "x = Sub()\n",
        "x.method()"
      ],
      "execution_count": 0,
      "outputs": [
        {
          "output_type": "display_data",
          "data": {
            "text/html": [
              "<iframe width=\"1300\" height=\"600\" frameborder=\"0\" src=\"https://pythontutor.com/iframe-embed.html#code=%0Aclass%20Super%3A%0A%20%20def%20method%28self%29%3A%0A%20%20%20%20print%28%27in%20Super.method%27%29%0A%0A%0Aclass%20Sub%28Super%29%3A%0A%20%20def%20method%28self%29%3A%0A%20%20%20%20print%28%27starting%20Sub.method%27%29%0A%20%20%20%20Super.method%28self%29%0A%20%20%20%20print%28%27ending%20Sub.method%27%29%0A%0A%0Ax%20%3D%20Super%28%29%0Ax.method%28%29%0A%0Ax%20%3D%20Sub%28%29%0Ax.method%28%29&cumulative=false&py=3&curInstr=0\"></iframe>"
            ],
            "text/plain": [
              "<IPython.core.display.HTML object>"
            ]
          },
          "metadata": {
            "tags": []
          }
        }
      ]
    },
    {
      "cell_type": "markdown",
      "metadata": {
        "id": "LwgEh8TFP7jj",
        "colab_type": "text"
      },
      "source": [
        "###Namespace rules: the whole story"
      ]
    },
    {
      "cell_type": "markdown",
      "metadata": {
        "id": "PiuRC7J-P_v5",
        "colab_type": "text"
      },
      "source": [
        "*     Unqualified names (X) deal with lexical scopes\n",
        "*     Qualified names (O.X) use object namespaces\n",
        "*     Scopes initialize object namespaces: modules, classes"
      ]
    },
    {
      "cell_type": "markdown",
      "metadata": {
        "id": "dCGqVvV6QFSD",
        "colab_type": "text"
      },
      "source": [
        "**The Zen of Python Namespaces**"
      ]
    },
    {
      "cell_type": "code",
      "metadata": {
        "id": "gbC9Y-t16eOP",
        "colab_type": "code",
        "cellView": "form",
        "outputId": "046d0d06-34c7-4ba6-c666-34dac73f560f",
        "colab": {
          "base_uri": "https://localhost:8080/",
          "height": 620
        }
      },
      "source": [
        "#@title ##Example: namespaces\n",
        "%%debug_cell_with_pytutor\n",
        "\n",
        "# all 5 Xs are different variables\n",
        "X = 1 # global\n",
        " \n",
        "def f():\n",
        "  X = 2 # local\n",
        "\n",
        "class C:\n",
        "  X = 3 # class\n",
        "  \n",
        "  def m(self):\n",
        "    X = 4 # local\n",
        "    self.X = 5 # instance\n",
        "\n",
        "f()\n",
        "\n",
        "c = C()\n",
        "c.m()"
      ],
      "execution_count": 0,
      "outputs": [
        {
          "output_type": "display_data",
          "data": {
            "text/html": [
              "<iframe width=\"1300\" height=\"600\" frameborder=\"0\" src=\"https://pythontutor.com/iframe-embed.html#code=%0A%23%20all%205%20Xs%20are%20different%20variables%0AX%20%3D%201%20%23%20global%0A%20%0Adef%20f%28%29%3A%0A%20%20X%20%3D%202%20%23%20local%0A%0Aclass%20C%3A%0A%20%20X%20%3D%203%20%23%20class%0A%20%20%0A%20%20def%20m%28self%29%3A%0A%20%20%20%20X%20%3D%204%20%23%20local%0A%20%20%20%20self.X%20%3D%205%20%23%20instance%0A%0Af%28%29%0A%0Ac%20%3D%20C%28%29%0Ac.m%28%29&cumulative=false&py=3&curInstr=0\"></iframe>"
            ],
            "text/plain": [
              "<IPython.core.display.HTML object>"
            ]
          },
          "metadata": {
            "tags": []
          }
        }
      ]
    },
    {
      "cell_type": "markdown",
      "metadata": {
        "id": "uXRewiK0RX2p",
        "colab_type": "text"
      },
      "source": [
        "**Unqualified names: global unless assigned**\n",
        "\n",
        "*     Assignment: X = value\n",
        "       -      Makes names local: creates or changes name in the current local scope, unless declared global\n",
        " \n",
        "\n",
        "*     Reference: X\n",
        "        -      Looks for names in the current local scope, then the current global scope, then the outer built-in scope\n",
        " \n",
        "\n",
        " "
      ]
    },
    {
      "cell_type": "markdown",
      "metadata": {
        "id": "jaLV-8ASRN4l",
        "colab_type": "text"
      },
      "source": [
        "**Qualified names: object name-spaces**\n",
        "\n",
        "*     Assignment: X.name = value\n",
        "      -      Creates or alters the attribute name in the namespace of the object being qualified\n",
        "*     Reference: X.name\n",
        "        -      Searches for the attribute name in the object, and then all accessible classes above it (none for modules)\n",
        " \n"
      ]
    },
    {
      "cell_type": "markdown",
      "metadata": {
        "id": "4JjZWWl-6eOU",
        "colab_type": "text"
      },
      "source": [
        "###OOP and inheritance"
      ]
    },
    {
      "cell_type": "markdown",
      "metadata": {
        "id": "jNZxk9-4Xwhx",
        "colab_type": "text"
      },
      "source": [
        "*     Inheritance based on attribute qualification\n",
        "*     In OOP terminology: is-a relationship\n",
        "*     On X.name, looks for name in:\n",
        "  1.   Instance <--- Xs own name-space\n",
        "  2.   Class <--- class that X was made from\n",
        "  3.   Superclasses <--- depth-first, left-to-right"
      ]
    },
    {
      "cell_type": "markdown",
      "metadata": {
        "id": "L6CmLOh6Y-FI",
        "colab_type": "text"
      },
      "source": [
        "![classes](https://learning-python.com/class/Workbook/unit07_files/image018.gif)"
      ]
    },
    {
      "cell_type": "code",
      "metadata": {
        "id": "YmecthRJ6eOV",
        "colab_type": "code",
        "cellView": "form",
        "outputId": "2e636dbc-5270-4a23-c675-3846ef4cb00d",
        "colab": {
          "base_uri": "https://localhost:8080/",
          "height": 620
        }
      },
      "source": [
        "#@title ##Example: a zoo hierarchy in Python\n",
        "\n",
        "%%debug_cell_with_pytutor\n",
        "\n",
        "class Animal:\n",
        "  def reply(self): \n",
        "    self.speak()\n",
        "    \n",
        "  def speak(self): \n",
        "    print('spam')\n",
        "\n",
        "\n",
        "class Mammal(Animal):\n",
        "  def speak(self): \n",
        "    print('huh?')\n",
        "\n",
        "\n",
        "class Cat(Mammal):\n",
        "  def speak(self): \n",
        "    print('meow')\n",
        "\n",
        "\n",
        "class Dog(Mammal):\n",
        "  def speak(self): \n",
        "    print('bark')\n",
        "\n",
        "\n",
        "class Primate(Mammal):\n",
        "  def speak(self): \n",
        "    print('Hello world!')\n",
        "\n",
        "\n",
        "class Hacker(Primate): \n",
        "  pass\n",
        "\n",
        "spot = Cat()\n",
        "spot.reply() # Animal.reply, Cat.speak\n",
        "data = Hacker() # Animal.reply, Primate.speak\n",
        "data.reply()"
      ],
      "execution_count": 0,
      "outputs": [
        {
          "output_type": "display_data",
          "data": {
            "text/html": [
              "<iframe width=\"1300\" height=\"600\" frameborder=\"0\" src=\"https://pythontutor.com/iframe-embed.html#code=%0Aclass%20Animal%3A%0A%20%20def%20reply%28self%29%3A%20%0A%20%20%20%20self.speak%28%29%0A%20%20%20%20%0A%20%20def%20speak%28self%29%3A%20%0A%20%20%20%20print%28%27spam%27%29%0A%0A%0Aclass%20Mammal%28Animal%29%3A%0A%20%20def%20speak%28self%29%3A%20%0A%20%20%20%20print%28%27huh%3F%27%29%0A%0A%0Aclass%20Cat%28Mammal%29%3A%0A%20%20def%20speak%28self%29%3A%20%0A%20%20%20%20print%28%27meow%27%29%0A%0A%0Aclass%20Dog%28Mammal%29%3A%0A%20%20def%20speak%28self%29%3A%20%0A%20%20%20%20print%28%27bark%27%29%0A%0A%0Aclass%20Primate%28Mammal%29%3A%0A%20%20def%20speak%28self%29%3A%20%0A%20%20%20%20print%28%27Hello%20world%21%27%29%0A%0A%0Aclass%20Hacker%28Primate%29%3A%20%0A%20%20pass%0A%0Aspot%20%3D%20Cat%28%29%0Aspot.reply%28%29%20%23%20Animal.reply%2C%20Cat.speak%0Adata%20%3D%20Hacker%28%29%20%23%20Animal.reply%2C%20Primate.speak%0Adata.reply%28%29&cumulative=false&py=3&curInstr=0\"></iframe>"
            ],
            "text/plain": [
              "<IPython.core.display.HTML object>"
            ]
          },
          "metadata": {
            "tags": []
          }
        }
      ]
    },
    {
      "cell_type": "markdown",
      "metadata": {
        "id": "8CshHgpM6eOa",
        "colab_type": "text"
      },
      "source": [
        "###OOP and composition"
      ]
    },
    {
      "cell_type": "markdown",
      "metadata": {
        "id": "TMvEyoGyZUPZ",
        "colab_type": "text"
      },
      "source": [
        "*     Class instances simulate objects in a domain\n",
        "*     Nouns→classes, verbs→methods\n",
        "*     Class objects embed and activate other objects\n",
        "*     In OOP terminology: has-a relationship"
      ]
    },
    {
      "cell_type": "code",
      "metadata": {
        "id": "DNdHbbcd6eOb",
        "colab_type": "code",
        "outputId": "822150da-6656-4aff-a887-d6d36eca751e",
        "cellView": "form",
        "colab": {
          "base_uri": "https://localhost:8080/",
          "height": 620
        }
      },
      "source": [
        "#@title ##Example: the dead-parrot skit in Python\n",
        "\n",
        "%%debug_cell_with_pytutor\n",
        "\n",
        "class Actor:\n",
        "  def line(self): \n",
        "    print(self.name + ':', self.says())\n",
        "\n",
        "\n",
        "class Customer(Actor):\n",
        "  name = 'customer'\n",
        "  \n",
        "  def says(self): \n",
        "    return \"that's one ex-bird!\"\n",
        "\n",
        "\n",
        "class Clerk(Actor):\n",
        "  name = 'clerk'\n",
        "\n",
        "  def says(self): \n",
        "    return \"no it isn't\"\n",
        "\n",
        "\n",
        "class Parrot(Actor):\n",
        "  name = 'parrot'\n",
        "\n",
        "  def says(self): \n",
        "    return None\n",
        "\n",
        "\n",
        "class Scene:\n",
        "  def __init__(self):\n",
        "    self.clerk = Clerk() # embed some instances\n",
        "    self.customer = Customer() # Scene is a composite\n",
        "    self.subject = Parrot()\n",
        "\n",
        "\n",
        "  def action(self):\n",
        "    self.customer.line() # delegate to embedded\n",
        "    self.clerk.line()\n",
        "    self.subject.line()\n",
        "  \n",
        "Scene().action() # activate nested objects  "
      ],
      "execution_count": 0,
      "outputs": [
        {
          "output_type": "display_data",
          "data": {
            "text/html": [
              "<iframe width=\"1300\" height=\"600\" frameborder=\"0\" src=\"https://pythontutor.com/iframe-embed.html#code=%0Aclass%20Actor%3A%0A%20%20def%20line%28self%29%3A%20%0A%20%20%20%20print%28self.name%20%2B%20%27%3A%27%2C%20self.says%28%29%29%0A%0A%0Aclass%20Customer%28Actor%29%3A%0A%20%20name%20%3D%20%27customer%27%0A%20%20%0A%20%20def%20says%28self%29%3A%20%0A%20%20%20%20return%20%22that%27s%20one%20ex-bird%21%22%0A%0A%0Aclass%20Clerk%28Actor%29%3A%0A%20%20name%20%3D%20%27clerk%27%0A%0A%20%20def%20says%28self%29%3A%20%0A%20%20%20%20return%20%22no%20it%20isn%27t%22%0A%0A%0Aclass%20Parrot%28Actor%29%3A%0A%20%20name%20%3D%20%27parrot%27%0A%0A%20%20def%20says%28self%29%3A%20%0A%20%20%20%20return%20None%0A%0A%0Aclass%20Scene%3A%0A%20%20def%20__init__%28self%29%3A%0A%20%20%20%20self.clerk%20%3D%20Clerk%28%29%20%23%20embed%20some%20instances%0A%20%20%20%20self.customer%20%3D%20Customer%28%29%20%23%20Scene%20is%20a%20composite%0A%20%20%20%20self.subject%20%3D%20Parrot%28%29%0A%0A%0A%20%20def%20action%28self%29%3A%0A%20%20%20%20self.customer.line%28%29%20%23%20delegate%20to%20embedded%0A%20%20%20%20self.clerk.line%28%29%0A%20%20%20%20self.subject.line%28%29%0A%20%20%0AScene%28%29.action%28%29%20%23%20activate%20nested%20objects%20%20&cumulative=false&py=3&curInstr=0\"></iframe>"
            ],
            "text/plain": [
              "<IPython.core.display.HTML object>"
            ]
          },
          "metadata": {
            "tags": []
          }
        }
      ]
    },
    {
      "cell_type": "markdown",
      "metadata": {
        "id": "c8Mp4Qlht2EL",
        "colab_type": "text"
      },
      "source": [
        "###Example: a set class"
      ]
    },
    {
      "cell_type": "markdown",
      "metadata": {
        "id": "B85MAtje6ePP",
        "colab_type": "text"
      },
      "source": [
        "*     Wraps a Python list in each instance\n",
        "*     Supports multiple instances\n",
        "*     Adds operator overloading\n",
        "*     Supports customization by inheritance\n",
        "*     Allows any type of component: heterogeneous"
      ]
    },
    {
      "cell_type": "code",
      "metadata": {
        "id": "donu-MMb6ePP",
        "colab_type": "code",
        "outputId": "5ecc8c33-7f63-4d85-cea0-83df1ea9e35f",
        "cellView": "form",
        "colab": {
          "base_uri": "https://localhost:8080/",
          "height": 620
        }
      },
      "source": [
        "#@title ##Example: a set class\n",
        "%%debug_cell_with_pytutor\n",
        "\n",
        "print()\n",
        "\n",
        "class Set:\n",
        "    def __init__(self, value = []):\n",
        "        self.data = []\n",
        "        self.concat(value)\n",
        "\n",
        "    def intersect(self, other):\n",
        "        res = []\n",
        "        for x in self.data:\n",
        "            if x in other:\n",
        "                res.append(x)\n",
        "        return Set(res)\n",
        "\n",
        "    def union(self, other):\n",
        "        res = self.data[:]\n",
        "        for x in other.data:\n",
        "            if not x in res:\n",
        "                res.append(x)\n",
        "        return Set(res)\n",
        "    \n",
        "    def concat(self, value):\n",
        "        for x in value:\n",
        "            if not x in self.data:\n",
        "                self.data.append(x)\n",
        "\n",
        "    def __len__(self):          \n",
        "        return len(self.data)\n",
        "    def __getitem__(self, key):\n",
        "        return self.data[key]\n",
        "    def __and__(self, other):   \n",
        "        return self.intersect(other)\n",
        "    def __or__(self, other):    \n",
        "        return self.union(other)\n",
        "    def __repr__(self):\n",
        "        to_print = \"Set:\"\n",
        "        for x in self.data:\n",
        "            to_print += str(x) + ','\n",
        "        return to_print\n",
        "        \n",
        "\n",
        "s = Set()\n",
        "x = Set([1,2,2,3,4,4,4])\n",
        "y = Set([3,4,4,5,1])\n",
        "print(x & y)\n",
        "print(x | y)\n",
        "z = Set(\"hello\")\n",
        "print(z[0])\n",
        "z_and = z & Set(\"mello\")\n",
        "z_or = z | Set(\"mello\")"
      ],
      "execution_count": 0,
      "outputs": [
        {
          "output_type": "display_data",
          "data": {
            "text/html": [
              "<iframe width=\"1300\" height=\"600\" frameborder=\"0\" src=\"https://pythontutor.com/iframe-embed.html#code=%0Aprint%28%29%0A%0Aclass%20Set%3A%0A%20%20%20%20def%20__init__%28self%2C%20value%20%3D%20%5B%5D%29%3A%0A%20%20%20%20%20%20%20%20self.data%20%3D%20%5B%5D%0A%20%20%20%20%20%20%20%20self.concat%28value%29%0A%0A%20%20%20%20def%20intersect%28self%2C%20other%29%3A%0A%20%20%20%20%20%20%20%20res%20%3D%20%5B%5D%0A%20%20%20%20%20%20%20%20for%20x%20in%20self.data%3A%0A%20%20%20%20%20%20%20%20%20%20%20%20if%20x%20in%20other%3A%0A%20%20%20%20%20%20%20%20%20%20%20%20%20%20%20%20res.append%28x%29%0A%20%20%20%20%20%20%20%20return%20Set%28res%29%0A%0A%20%20%20%20def%20union%28self%2C%20other%29%3A%0A%20%20%20%20%20%20%20%20res%20%3D%20self.data%5B%3A%5D%0A%20%20%20%20%20%20%20%20for%20x%20in%20other.data%3A%0A%20%20%20%20%20%20%20%20%20%20%20%20if%20not%20x%20in%20res%3A%0A%20%20%20%20%20%20%20%20%20%20%20%20%20%20%20%20res.append%28x%29%0A%20%20%20%20%20%20%20%20return%20Set%28res%29%0A%20%20%20%20%0A%20%20%20%20def%20concat%28self%2C%20value%29%3A%0A%20%20%20%20%20%20%20%20for%20x%20in%20value%3A%0A%20%20%20%20%20%20%20%20%20%20%20%20if%20not%20x%20in%20self.data%3A%0A%20%20%20%20%20%20%20%20%20%20%20%20%20%20%20%20self.data.append%28x%29%0A%0A%20%20%20%20def%20__len__%28self%29%3A%20%20%20%20%20%20%20%20%20%20%0A%20%20%20%20%20%20%20%20return%20len%28self.data%29%0A%20%20%20%20def%20__getitem__%28self%2C%20key%29%3A%0A%20%20%20%20%20%20%20%20return%20self.data%5Bkey%5D%0A%20%20%20%20def%20__and__%28self%2C%20other%29%3A%20%20%20%0A%20%20%20%20%20%20%20%20return%20self.intersect%28other%29%0A%20%20%20%20def%20__or__%28self%2C%20other%29%3A%20%20%20%20%0A%20%20%20%20%20%20%20%20return%20self.union%28other%29%0A%20%20%20%20def%20__repr__%28self%29%3A%0A%20%20%20%20%20%20%20%20to_print%20%3D%20%22Set%3A%22%0A%20%20%20%20%20%20%20%20for%20x%20in%20self.data%3A%0A%20%20%20%20%20%20%20%20%20%20%20%20to_print%20%2B%3D%20str%28x%29%20%2B%20%27%2C%27%0A%20%20%20%20%20%20%20%20return%20to_print%0A%20%20%20%20%20%20%20%20%0A%0As%20%3D%20Set%28%29%0Ax%20%3D%20Set%28%5B1%2C2%2C2%2C3%2C4%2C4%2C4%5D%29%0Ay%20%3D%20Set%28%5B3%2C4%2C4%2C5%2C1%5D%29%0Aprint%28x%20%26%20y%29%0Aprint%28x%20%7C%20y%29%0Az%20%3D%20Set%28%22hello%22%29%0Aprint%28z%5B0%5D%29%0Az_and%20%3D%20z%20%26%20Set%28%22mello%22%29%0Az_or%20%3D%20z%20%7C%20Set%28%22mello%22%29&cumulative=false&py=3&curInstr=0\"></iframe>"
            ],
            "text/plain": [
              "<IPython.core.display.HTML object>"
            ]
          },
          "metadata": {
            "tags": []
          }
        }
      ]
    },
    {
      "cell_type": "markdown",
      "metadata": {
        "id": "_s7T5m-X6ePT",
        "colab_type": "text"
      },
      "source": [
        "###Summary: OOP in Python"
      ]
    },
    {
      "cell_type": "markdown",
      "metadata": {
        "id": "s8NdP0odu1zQ",
        "colab_type": "text"
      },
      "source": [
        "*     Class objects provide default behavior\n",
        "    *      Classes support multiple copies, attribute inheritance, and operator overloading\n",
        "    *      The class statement creates a class object and assigns it to a name\n",
        "    *      Assignments inside class statements create class attributes, which export object state and behavior\n",
        "    *      Class methods are nested defs, with special first arguments to receive the instance\n",
        "*     Instance objects are generated from classes\n",
        "    *      Calling a class object like a function makes a new instance object\n",
        "    *      Each instance object inherits class attributes, and gets its own attribute namespace\n",
        "    *      Assignments to the first argument (\"self\") in methods create per-instance attributes\n",
        "*     Inheritance supports specialization\n",
        "    *      Inheritance happens at attribute qualification time: on object.attribute, if object is a class or instance\n",
        "    *      Classes inherit attributes from all classes listed in their class statement header line (superclasses)\n",
        "    *      Instances inherit attributes from the class they are generated from, plus all its superclasses\n",
        "    *      Inheritance searches the instance, then its class, then all accessible superclasses (depth-first, left-to-right)"
      ]
    }
  ]
}