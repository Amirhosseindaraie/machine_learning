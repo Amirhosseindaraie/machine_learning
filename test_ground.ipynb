{
  "nbformat": 4,
  "nbformat_minor": 0,
  "metadata": {
    "colab": {
      "name": "test_ground.ipynb",
      "provenance": [],
      "toc_visible": true,
      "include_colab_link": true
    },
    "kernelspec": {
      "name": "python3",
      "display_name": "Python 3"
    }
  },
  "cells": [
    {
      "cell_type": "markdown",
      "metadata": {
        "id": "view-in-github",
        "colab_type": "text"
      },
      "source": [
        "<a href=\"https://colab.research.google.com/github/fbeilstein/machine_learning/blob/master/test_ground.ipynb\" target=\"_parent\"><img src=\"https://colab.research.google.com/assets/colab-badge.svg\" alt=\"Open In Colab\"/></a>"
      ]
    },
    {
      "cell_type": "markdown",
      "metadata": {
        "id": "7li6ehu-B1xA",
        "colab_type": "text"
      },
      "source": [
        "Table of Contents:\n",
        "\n",
        "- [Face Recognition](#intro)\n",
        "- [Plotly](#plotly)"
      ]
    },
    {
      "cell_type": "markdown",
      "metadata": {
        "id": "lCM4KnmYyiu-",
        "colab_type": "text"
      },
      "source": [
        "#Altair tests"
      ]
    },
    {
      "cell_type": "code",
      "metadata": {
        "id": "Hz5CFub79PfW",
        "colab_type": "code",
        "colab": {}
      },
      "source": [
        "import altair as alt\n",
        "from vega_datasets import data\n",
        "\n",
        "source = data.population.url\n",
        "\n",
        "pink_blue = alt.Scale(domain=('Male', 'Female'),\n",
        "                      range=[\"steelblue\", \"salmon\"])\n",
        "\n",
        "slider = alt.binding_range(min=1900, max=2000, step=10)\n",
        "select_year = alt.selection_single(name=\"year\", fields=['year'],\n",
        "                                   bind=slider, init={'year': 2000})\n",
        "\n",
        "alt.Chart(source).mark_bar().encode(\n",
        "    x=alt.X('sex:N', title=None),\n",
        "    y=alt.Y('people:Q', scale=alt.Scale(domain=(0, 12000000))),\n",
        "    color=alt.Color('sex:N', scale=pink_blue),\n",
        "    column='age:O'\n",
        ").properties(\n",
        "    width=20\n",
        ").add_selection(\n",
        "    select_year\n",
        ").transform_calculate(\n",
        "    \"sex\", alt.expr.if_(alt.datum.sex == 1, \"Male\", \"Female\")\n",
        ").transform_filter(\n",
        "    select_year\n",
        ").configure_facet(\n",
        "    spacing=8\n",
        ")"
      ],
      "execution_count": 0,
      "outputs": []
    },
    {
      "cell_type": "markdown",
      "metadata": {
        "id": "Q3E73DOVyfRN",
        "colab_type": "text"
      },
      "source": [
        "<a name='plotly'></a>\n",
        "#Plotly tests\n"
      ]
    },
    {
      "cell_type": "code",
      "metadata": {
        "id": "n40e3lyzbPTk",
        "colab_type": "code",
        "colab": {}
      },
      "source": [
        "def enable_plotly_in_cell():\n",
        "  import IPython\n",
        "  from plotly.offline import init_notebook_mode\n",
        "  display(IPython.core.display.HTML('''\n",
        "        <script src=\"/static/components/requirejs/require.js\"></script>\n",
        "  '''))\n",
        "  init_notebook_mode(connected=False)"
      ],
      "execution_count": 0,
      "outputs": []
    },
    {
      "cell_type": "code",
      "metadata": {
        "id": "4YzOOB59bWYb",
        "colab_type": "code",
        "colab": {}
      },
      "source": [
        "enable_plotly_in_cell()\n",
        "import plotly.offline as py\n",
        "import plotly.graph_objs as go\n",
        "\n",
        "import numpy as np\n",
        "\n",
        "s = np.linspace(0, 2 * np.pi, 240)\n",
        "t = np.linspace(0, np.pi, 240)\n",
        "tGrid, sGrid = np.meshgrid(s, t)\n",
        "\n",
        "r = 2 + np.sin(7 * sGrid + 5 * tGrid)  # r = 2 + sin(7s+5t)\n",
        "x = r * np.cos(sGrid) * np.sin(tGrid)  # x = r*cos(s)*sin(t)\n",
        "y = r * np.sin(sGrid) * np.sin(tGrid)  # y = r*sin(s)*sin(t)\n",
        "z = r * np.cos(tGrid)                  # z = r*cos(t)\n",
        "\n",
        "surface = go.Surface(x=x, y=y, z=z)\n",
        "data = [surface]\n",
        "\n",
        "layout = go.Layout(\n",
        "    title='Parametric Plot',\n",
        "    scene=dict(\n",
        "        xaxis=dict(\n",
        "            gridcolor='rgb(255, 255, 255)',\n",
        "            zerolinecolor='rgb(255, 255, 255)',\n",
        "            showbackground=True,\n",
        "            backgroundcolor='rgb(230, 230,230)'\n",
        "        ),\n",
        "        yaxis=dict(\n",
        "            gridcolor='rgb(255, 255, 255)',\n",
        "            zerolinecolor='rgb(255, 255, 255)',\n",
        "            showbackground=True,\n",
        "            backgroundcolor='rgb(230, 230,230)'\n",
        "        ),\n",
        "        zaxis=dict(\n",
        "            gridcolor='rgb(255, 255, 255)',\n",
        "            zerolinecolor='rgb(255, 255, 255)',\n",
        "            showbackground=True,\n",
        "            backgroundcolor='rgb(230, 230,230)'\n",
        "        )\n",
        "    )\n",
        ")\n",
        "\n",
        "fig = go.Figure(data=data, layout=layout)\n",
        "py.iplot(fig)#, filename='jupyter-parametric_plot')"
      ],
      "execution_count": 0,
      "outputs": []
    },
    {
      "cell_type": "code",
      "metadata": {
        "id": "L07WhjSUbd7u",
        "colab_type": "code",
        "colab": {}
      },
      "source": [
        "enable_plotly_in_cell()\n",
        "import plotly.offline as py\n",
        "import numpy as np\n",
        "\n",
        "data = [dict(\n",
        "        visible = False,\n",
        "        line=dict(color='#ff0000', width=6),\n",
        "        name = '𝜈 = '+str(step),\n",
        "        x = np.arange(0,10,0.01),\n",
        "        y = np.sin(step*np.arange(0,10,0.01))) for step in np.arange(0,5,0.1)]\n",
        "data[10]['visible'] = True\n",
        "\n",
        "steps = []\n",
        "for i in range(len(data)):\n",
        "    step = dict(\n",
        "        method = 'restyle',\n",
        "        args = ['visible', [False] * len(data)],\n",
        "    )\n",
        "    step['args'][1][i] = True # Toggle i'th trace to \"visible\"\n",
        "    steps.append(step)\n",
        "\n",
        "sliders = [dict(\n",
        "    active = 10,\n",
        "    currentvalue = {\"prefix\": \"Frequency: \"},\n",
        "    pad = {\"t\": 50},\n",
        "    steps = steps\n",
        ")]\n",
        "\n",
        "layout = dict(sliders=sliders)\n",
        "fig = dict(data=data, layout=layout)\n",
        "\n",
        "py.iplot(fig)#, filename='Sine Wave Slider')"
      ],
      "execution_count": 0,
      "outputs": []
    },
    {
      "cell_type": "code",
      "metadata": {
        "id": "-0OQus2He_F5",
        "colab_type": "code",
        "colab": {}
      },
      "source": [
        "enable_plotly_in_cell()\n",
        "from plotly.offline import init_notebook_mode, iplot\n",
        "from IPython.display import display, HTML\n",
        "\n",
        "init_notebook_mode(connected=False)\n",
        "\n",
        "figure = {'data': [{'x': [0, 1, 2], 'y': [0, 1, 3]}],\n",
        "          'layout': {'xaxis': {'range': [0, 5], 'autorange': False},\n",
        "                     'yaxis': {'range': [0, 5], 'autorange': False},\n",
        "                     'title': 'Start Title',\n",
        "                     'updatemenus': [{'type': 'buttons',\n",
        "                                      'buttons': [{'label': 'Play',\n",
        "                                                   'method': 'animate',\n",
        "                                                   'args': [None]}]}]\n",
        "                    },\n",
        "          'frames': [{'data': [{'x': [1, 2, 2], 'y': [1, 2, 3]}]},\n",
        "                     {'data': [{'x': [1, 4, 2], 'y': [1, 4, 3]}]},\n",
        "                     {'data': [{'x': [3, 4, 2], 'y': [3, 4, 3]}],\n",
        "                      'layout': {'title': 'End Title'}}]}\n",
        "\n",
        "iplot(figure)"
      ],
      "execution_count": 0,
      "outputs": []
    },
    {
      "cell_type": "code",
      "metadata": {
        "id": "zbIjNwWoh8-_",
        "colab_type": "code",
        "colab": {}
      },
      "source": [
        "enable_plotly_in_cell()\n",
        "import plotly.offline as py\n",
        "import plotly.graph_objs as go\n",
        "\n",
        "trace = go.Heatmap(z=[[1, 20, 30],\n",
        "                      [20, 1, 60],\n",
        "                      [30, 60, 1]])\n",
        "data=[trace]\n",
        "py.iplot(data, filename='basic-heatmap')"
      ],
      "execution_count": 0,
      "outputs": []
    },
    {
      "cell_type": "markdown",
      "metadata": {
        "id": "XH-sUOGryWWp",
        "colab_type": "text"
      },
      "source": [
        "# IPyWidgets tests"
      ]
    },
    {
      "cell_type": "code",
      "metadata": {
        "id": "TbcOdQmvLmkR",
        "colab_type": "code",
        "colab": {}
      },
      "source": [
        "import ipywidgets as widgets\n",
        "\n",
        "widgets.IntSlider(\n",
        "    value=7,\n",
        "    min=0,\n",
        "    max=10,\n",
        "    step=1,\n",
        "    description='Test:',\n",
        "    disabled=False,\n",
        "    continuous_update=False,\n",
        "    orientation='horizontal',\n",
        "    readout=True,\n",
        "    readout_format='d'\n",
        ")"
      ],
      "execution_count": 0,
      "outputs": []
    },
    {
      "cell_type": "code",
      "metadata": {
        "id": "cI_521jrMFzW",
        "colab_type": "code",
        "colab": {}
      },
      "source": [
        "a = widgets.IntSlider(description='a')\n",
        "b = widgets.IntSlider(description='b')\n",
        "c = widgets.IntSlider(description='c')\n",
        "def f(a, b, c):\n",
        "    print('{}*{}*{}={}'.format(a, b, c, a*b*c))\n",
        "\n",
        "out = widgets.interactive_output(f, {'a': a, 'b': b, 'c': c})\n",
        "\n",
        "widgets.HBox([widgets.VBox([a, b, c]), out])"
      ],
      "execution_count": 0,
      "outputs": []
    },
    {
      "cell_type": "markdown",
      "metadata": {
        "id": "oVFNWg-AyOjH",
        "colab_type": "text"
      },
      "source": [
        "#Python plus JS tests"
      ]
    },
    {
      "cell_type": "code",
      "metadata": {
        "id": "GsnMot-hcvgs",
        "colab_type": "code",
        "colab": {}
      },
      "source": [
        "import numpy as np\n",
        "\n",
        "f_w = 5\n",
        "f_h = 5\n",
        "mines = [[i+j for i in range(f_w)] for j in range(f_h)]\n",
        "field = [[-1 for i in range(f_w)] for j in range(f_h)]\n",
        "\n",
        "style_str = '''\n",
        "<style>\n",
        "   div { \n",
        "    font-size: 120%; \n",
        "    font-family: Verdana, Arial, Helvetica, sans-serif; \n",
        "    color: #333366; \n",
        "    width:  30px;\n",
        "    height: 30px;\n",
        "    background-color: RGB(50, 255, 50);\n",
        "   }\n",
        "  </style>\n",
        "'''\n",
        "\n",
        "\n",
        "import IPython\n",
        "from google.colab import output\n",
        "\n",
        "def generate_grid_html(w, h, fld):\n",
        "  s = style_str\n",
        "  s += '<table>\\n'\n",
        "  for y in range(h):\n",
        "    s += '\\t<tr>\\n'\n",
        "    for x in range(w):\n",
        "      s += '\\t\\t<td>'\n",
        "      if fld[y][x] == -1:\n",
        "        s += '<div '\n",
        "        s += 'onclick=\\\"google.colab.kernel.invokeFunction(\\'notebook.FieldClick\\', ['\n",
        "        s += str(x) + ',' + str(y) \n",
        "        s += ' ], {})\\\"></div>'\n",
        "      else:\n",
        "        s += str(fld[y][x])\n",
        "      s += '</td>\\n'\n",
        "    s += '\\t</tr>\\n'\n",
        "  s += '</table>'\n",
        "  #print(s)\n",
        "  return s\n",
        "  \n",
        "\n",
        "display(IPython.display.HTML(generate_grid_html(f_w, f_h, field)))\n",
        "\n",
        "\n",
        "def field_click(x, y):\n",
        "  field[y][x] = mines[y][x]\n",
        "  output.clear(wait=False)\n",
        "  display(IPython.display.HTML(generate_grid_html(f_w, f_h, field)))\n",
        "\n",
        "output.register_callback('notebook.FieldClick', field_click)"
      ],
      "execution_count": 0,
      "outputs": []
    },
    {
      "cell_type": "code",
      "metadata": {
        "id": "BVGVhJVf5mw0",
        "colab_type": "code",
        "outputId": "5f6005aa-c160-4716-f285-abf336c67b40",
        "colab": {
          "base_uri": "https://localhost:8080/",
          "height": 521
        }
      },
      "source": [
        "import IPython\n",
        "from google.colab import output\n",
        "import inspect\n",
        "import urllib.parse\n",
        "import dill\n",
        "\n",
        "def main():\n",
        "  def yo(X, Y):\n",
        "   return X + Y\n",
        "\n",
        "  def do_smth():\n",
        "    x = 1\n",
        "    y = 2\n",
        "    for i in range(5):\n",
        "      x = yo(x,y)\n",
        "      print(x)\n",
        "      \n",
        "  do_smth()\n",
        "\n",
        "src = inspect.getsource(main) + 'main()'\n",
        "url_src = urllib.parse.quote(src)\n",
        "#print(src)\n",
        "\n",
        "str_begin = '''\n",
        "<iframe width=\"1000\" height=\"500\" frameborder=\"0\"\n",
        "        src=\"https://pythontutor.com/iframe-embed.html#code='''\n",
        "    \n",
        "str_end = '''\n",
        "&cumulative=false&py=3&curInstr=1\">\n",
        "</iframe>\n",
        "'''\n",
        "\n",
        "display(IPython.display.HTML(str_begin+url_src+str_end))"
      ],
      "execution_count": 17,
      "outputs": [
        {
          "output_type": "display_data",
          "data": {
            "text/html": [
              "\n",
              "<iframe width=\"1000\" height=\"500\" frameborder=\"0\"\n",
              "        src=\"https://pythontutor.com/iframe-embed.html#code=def%20main%28%29%3A%0A%20%20def%20yo%28X%2C%20Y%29%3A%0A%20%20%20return%20X%20%2B%20Y%0A%0A%20%20def%20do_smth%28%29%3A%0A%20%20%20%20x%20%3D%201%0A%20%20%20%20y%20%3D%202%0A%20%20%20%20for%20i%20in%20range%285%29%3A%0A%20%20%20%20%20%20x%20%3D%20yo%28x%2Cy%29%0A%20%20%20%20%20%20print%28x%29%0A%20%20%20%20%20%20%0A%20%20do_smth%28%29%0Amain%28%29\n",
              "&cumulative=false&py=3&curInstr=1\">\n",
              "</iframe>\n"
            ],
            "text/plain": [
              "<IPython.core.display.HTML object>"
            ]
          },
          "metadata": {
            "tags": []
          }
        }
      ]
    },
    {
      "cell_type": "markdown",
      "metadata": {
        "id": "dPZppk5B7Hm5",
        "colab_type": "text"
      },
      "source": [
        "<a name='intro'></a>\n",
        "#Face Recognition Experiments\n"
      ]
    },
    {
      "cell_type": "code",
      "metadata": {
        "id": "udF40JFu7Kiy",
        "colab_type": "code",
        "colab": {}
      },
      "source": [
        "# positive samples\n",
        "from sklearn.datasets import fetch_lfw_people\n",
        "faces = fetch_lfw_people()\n",
        "positive_patches = faces.images\n",
        "positive_patches.shape"
      ],
      "execution_count": 0,
      "outputs": []
    },
    {
      "cell_type": "code",
      "metadata": {
        "id": "D3sJypyY9Agp",
        "colab_type": "code",
        "colab": {}
      },
      "source": [
        "# negative samples\n",
        "from skimage import data, color, feature\n",
        "from skimage import data, transform\n",
        "import numpy as np\n",
        "\n",
        "imgs_to_use = ['camera', 'text', 'coins', 'moon',\n",
        "               'page', 'clock', 'immunohistochemistry',\n",
        "               'chelsea', 'coffee', 'hubble_deep_field']\n",
        "images = [color.rgb2gray(getattr(data, name)()) for name in imgs_to_use]\n",
        "\n",
        "from sklearn.feature_extraction.image import PatchExtractor\n",
        "\n",
        "def extract_patches(img, N, scale=1.0, patch_size=positive_patches[0].shape):\n",
        "    extracted_patch_size = tuple((scale * np.array(patch_size)).astype(int))\n",
        "    extractor = PatchExtractor(patch_size=extracted_patch_size, max_patches=N, random_state=0)\n",
        "    patches = extractor.transform(img[np.newaxis])\n",
        "    if scale != 1:\n",
        "        patches = np.array([transform.resize(patch, patch_size) for patch in patches])\n",
        "    return patches\n",
        "\n",
        "negative_patches = np.vstack([extract_patches(im, 500, scale)\n",
        "                              for im in images for scale in [0.5, 1.0, 2.0]])\n",
        "negative_patches.shape"
      ],
      "execution_count": 0,
      "outputs": []
    },
    {
      "cell_type": "code",
      "metadata": {
        "id": "iD-mttfB-2Ei",
        "colab_type": "code",
        "colab": {}
      },
      "source": [
        "# collect dataset\n",
        "from itertools import chain\n",
        "X_train = np.array([feature.hog(im)\n",
        "                    for im in chain(positive_patches, negative_patches)])\n",
        "y_train = np.zeros(X_train.shape[0])\n",
        "y_train[:positive_patches.shape[0]] = 1\n",
        "X_train.shape"
      ],
      "execution_count": 0,
      "outputs": []
    },
    {
      "cell_type": "code",
      "metadata": {
        "id": "b46tuQmi_E8Y",
        "colab_type": "code",
        "colab": {}
      },
      "source": [
        "# Grid search for best parameters\n",
        "from sklearn.svm import LinearSVC\n",
        "from sklearn.model_selection import GridSearchCV\n",
        "\n",
        "#from sklearn.svm import SVC\n",
        "#model = SVC(kernel='rbf', C=1E1, gamma='auto')\n",
        "#model.fit(X_train, y_train)\n",
        "\n",
        "grid = GridSearchCV(LinearSVC(), {'C': [1.0, 2.0, 4.0, 8.0]}, cv=3)\n",
        "grid.fit(X_train, y_train)\n",
        "print(grid.best_score_)\n",
        "print(grid.best_params_)\n",
        "model = grid.best_estimator_\n",
        "model.fit(X_train, y_train)"
      ],
      "execution_count": 0,
      "outputs": []
    },
    {
      "cell_type": "code",
      "metadata": {
        "id": "Y4E-rt2uCNhM",
        "colab_type": "code",
        "colab": {}
      },
      "source": [
        "from IPython.display import display, Javascript\n",
        "from google.colab.output import eval_js\n",
        "from base64 import b64decode\n",
        "\n",
        "def take_photo(filename='photo.jpg', quality=0.8):\n",
        "  js = Javascript('''\n",
        "    async function takePhoto(quality) {\n",
        "      const div = document.createElement('div');\n",
        "      const capture = document.createElement('button');\n",
        "      capture.textContent = 'Capture';\n",
        "      div.appendChild(capture);\n",
        "\n",
        "      const video = document.createElement('video');\n",
        "      video.style.display = 'block';\n",
        "      const stream = await navigator.mediaDevices.getUserMedia({video: true});\n",
        "\n",
        "      document.body.appendChild(div);\n",
        "      div.appendChild(video);\n",
        "      video.srcObject = stream;\n",
        "      await video.play();\n",
        "\n",
        "      // Resize the output to fit the video element.\n",
        "      google.colab.output.setIframeHeight(document.documentElement.scrollHeight, true);\n",
        "\n",
        "      // Wait for Capture to be clicked.\n",
        "      await new Promise((resolve) => capture.onclick = resolve);\n",
        "\n",
        "      const canvas = document.createElement('canvas');\n",
        "      canvas.width = video.videoWidth;\n",
        "      canvas.height = video.videoHeight;\n",
        "      canvas.getContext('2d').drawImage(video, 0, 0);\n",
        "      stream.getVideoTracks()[0].stop();\n",
        "      div.remove();\n",
        "      return canvas.toDataURL('image/jpeg', quality);\n",
        "    }\n",
        "    ''')\n",
        "  display(js)\n",
        "  data = eval_js('takePhoto({})'.format(quality))\n",
        "  binary = b64decode(data.split(',')[1])\n",
        "  with open(filename, 'wb') as f:\n",
        "    f.write(binary)\n",
        "  return filename"
      ],
      "execution_count": 0,
      "outputs": []
    },
    {
      "cell_type": "code",
      "metadata": {
        "id": "7S0AZrHYCNgR",
        "colab_type": "code",
        "colab": {}
      },
      "source": [
        "from IPython.display import Image\n",
        "try:\n",
        "  filename = take_photo()\n",
        "  print('Saved to {}'.format(filename))\n",
        "  \n",
        "  # Show the image which was just taken.\n",
        "  display(Image(filename))\n",
        "except Exception as err:\n",
        "  # Errors will be thrown if the user does not have a webcam or if they do not\n",
        "  # grant the page permission to access it.\n",
        "  print(str(err))"
      ],
      "execution_count": 0,
      "outputs": []
    },
    {
      "cell_type": "code",
      "metadata": {
        "id": "neXi5r6tBi7L",
        "colab_type": "code",
        "colab": {}
      },
      "source": [
        "import skimage.data\n",
        "import matplotlib.pyplot as plt\n",
        "\n",
        "import imageio\n",
        "test_image = imageio.imread(\"photo.jpg\", pilmode='F')\n",
        "\n",
        "\n",
        "#test_image = skimage.data.astronaut()\n",
        "#test_image = skimage.color.rgb2gray(test_image)\n",
        "test_image = skimage.transform.rescale(test_image, 0.4)\n",
        "#test_image = test_image[:160, 40:180]\n",
        "\n",
        "#print(test_image[:10,:10])\n",
        "\n",
        "plt.imshow(test_image, cmap='gray')\n",
        "plt.axis('off');\n",
        "plt.show()\n",
        "\n",
        "def sliding_window(img):\n",
        "  size = positive_patches[0].shape\n",
        "  istep, jstep = 3, 3\n",
        "  for Nx in [60, 80, 100]:\n",
        "    Ny = int(size[1] / size[0] * Nx)\n",
        "    for i in range(0, img.shape[0] - Nx, istep):\n",
        "      for j in range(0, img.shape[1] - Ny, jstep):\n",
        "        yield (i, j, Ny, Nx), transform.resize(img[i:i + Nx, j:j + Ny], size)\n",
        "            \n",
        "indices, patches = zip(*sliding_window(test_image))\n",
        "patches_hog = np.array([feature.hog(patch) for patch in patches])\n",
        "print(patches_hog.shape)\n",
        "\n",
        "labels = model.predict(patches_hog)\n",
        "print(labels.sum())\n",
        "\n",
        "fig, ax = plt.subplots()\n",
        "ax.imshow(test_image, cmap='gray')\n",
        "ax.axis('off')\n",
        "\n",
        "indices = np.array(indices)\n",
        "\n",
        "for i, j, w, h in indices[labels == 1]:\n",
        "    ax.add_patch(plt.Rectangle((j, i), w, h, edgecolor='red',\n",
        "                               alpha=0.3, lw=2, facecolor='none'))"
      ],
      "execution_count": 0,
      "outputs": []
    },
    {
      "cell_type": "code",
      "metadata": {
        "id": "--9CqKxhAgfM",
        "colab_type": "code",
        "colab": {}
      },
      "source": [
        "!wget http://tamaraberg.com/faceDataset/originalPics.tar.gz\n",
        "!wget http://vis-www.cs.umass.edu/fddb/FDDB-folds.tgz"
      ],
      "execution_count": 0,
      "outputs": []
    },
    {
      "cell_type": "code",
      "metadata": {
        "id": "p3pEdyrIBA_v",
        "colab_type": "code",
        "colab": {}
      },
      "source": [
        "!tar zxvf FDDB-folds.tgz\n",
        "!tar zxvf originalPics.tar.gz"
      ],
      "execution_count": 0,
      "outputs": []
    },
    {
      "cell_type": "code",
      "metadata": {
        "id": "qPm9WapOB7rX",
        "colab_type": "code",
        "colab": {}
      },
      "source": [
        "!cat FDDB-folds/FDDB-fold-01-ellipseList.txt"
      ],
      "execution_count": 0,
      "outputs": []
    },
    {
      "cell_type": "code",
      "metadata": {
        "id": "Z5P9iAMMaqVc",
        "colab_type": "code",
        "colab": {}
      },
      "source": [
        "!rm -rf ./lfwcrop_grey"
      ],
      "execution_count": 0,
      "outputs": []
    },
    {
      "cell_type": "code",
      "metadata": {
        "id": "TbKP-0nP-r4V",
        "colab_type": "code",
        "colab": {}
      },
      "source": [
        "# GET NEW DATASETS\n",
        "!wget http://conradsanderson.id.au/lfwcrop/lfwcrop_grey.zip\n",
        "!unzip lfwcrop_grey.zip > /dev/null\n",
        "!wget http://ai.stanford.edu/~acoates/stl10/stl10_binary.tar.gz\n",
        "!tar zxvf stl10_binary.tar.gz\n",
        "\n",
        "import re\n",
        "import numpy\n",
        "from PIL import Image\n",
        "\n",
        "def read_pgm(filename, byteorder='>'):\n",
        "    \"\"\"Return image data from a raw PGM file as numpy array.\n",
        "    Format specification: http://netpbm.sourceforge.net/doc/pgm.html\n",
        "    \"\"\"\n",
        "    img = Image.open(filename)\n",
        "    img = img.resize((64, 64))\n",
        "    img = img.convert(mode='L')\n",
        "    a = np.array(img)\n",
        "    return a / np.sum(a)\n",
        "\n",
        "def conv_im(img):\n",
        "  img = Image.fromarray(img, 'RGB')\n",
        "  img = img.resize((64, 64))\n",
        "  img = img.convert(mode='L')\n",
        "  a = np.array(img)\n",
        "  return a / np.sum(a)\n",
        "\n",
        "import numpy as np\n",
        "def img_to_arr(path):\n",
        "  image = read_pgm(path, byteorder='<')\n",
        "  arr = image / np.sum(image)\n",
        "  return arr\n",
        "\n",
        "\n",
        "from matplotlib import pyplot\n",
        "import glob\n",
        "\n",
        "def load_and_conv_faces():\n",
        "  files = [f for f in glob.glob(\"./lfwcrop_grey/**/*.pgm\", recursive=True)]\n",
        "  list_faces = []\n",
        "  for f in files:\n",
        "    list_faces.append(img_to_arr(f))\n",
        "  np.save('faces', np.array(list_faces), allow_pickle=False)\n",
        "\n",
        "load_and_conv_faces()\n",
        "\n",
        "def read_all_images(path_to_data):\n",
        "    \"\"\"\n",
        "    :param path_to_data: the file containing the binary images from the STL-10 dataset\n",
        "    :return: an array containing all the images\n",
        "    \"\"\"\n",
        "    with open(path_to_data, 'rb') as f:\n",
        "        everything = np.fromfile(f, dtype=np.uint8)\n",
        "        images = np.reshape(everything, (-1, 3, 96, 96))\n",
        "        images = np.transpose(images, (0, 3, 2, 1))\n",
        "        return images\n",
        "\n",
        "\n",
        "def load_and_conv_other():\n",
        "  arr = read_all_images(\"stl10_binary/unlabeled_X.bin\")\n",
        "  lst_imgs = [conv_im(arr[idx]) for idx in range(0, 100000, 5)]\n",
        "  np.save('not_faces', np.array(lst_imgs), allow_pickle=False)\n",
        "\n",
        "load_and_conv_other()\n",
        "\n",
        "!rm -rf ./lfwcrop_grey\n",
        "!rm -rf ./stl10_binary\n",
        "!rm lfwcrop_grey.zip\n",
        "!rm stl10_binary.tar.gz"
      ],
      "execution_count": 0,
      "outputs": []
    },
    {
      "cell_type": "code",
      "metadata": {
        "id": "9G_1pPst6lzK",
        "colab_type": "code",
        "colab": {}
      },
      "source": [
        "def load():\n",
        "  faces = np.load('faces.npy')\n",
        "  not_faces = np.load('not_faces.npy')\n",
        "  print(faces.shape, not_faces.shape)\n",
        "  return np.concatenate((faces, not_faces), axis=0)\n",
        "\n",
        "all_data = load()\n",
        "\n",
        "from skimage import feature\n",
        "#all_features = np.array([feature.hog(img, multichannel=False) for img in all_data])\n",
        "all_features = np.array([img.ravel() for img in all_data])\n",
        "\n",
        "from sklearn.manifold import Isomap\n",
        "model = Isomap(n_components=2)\n",
        "model.fit(all_features[::100])"
      ],
      "execution_count": 0,
      "outputs": []
    },
    {
      "cell_type": "code",
      "metadata": {
        "id": "Z_Myauv7iWvx",
        "colab_type": "code",
        "colab": {}
      },
      "source": [
        "projected = model.transform(all_features[3::50])\n",
        "y = np.concatenate([np.zeros(13233), np.ones(20000)])\n",
        "y = y[3::50]\n",
        "y.shape, projected.shape"
      ],
      "execution_count": 0,
      "outputs": []
    },
    {
      "cell_type": "code",
      "metadata": {
        "id": "91g_EJfKRQKn",
        "colab_type": "code",
        "colab": {}
      },
      "source": [
        "import matplotlib.pyplot as plt\n",
        "\n",
        "cmap = {0: 'r', 1: 'g'}\n",
        "colors = [cmap[d] for d in y]\n",
        "plt.scatter(projected[:, 0], projected[:, 1], c=colors, edgecolor='none', alpha=0.5)\n",
        "plt.xlabel('component 1')\n",
        "plt.ylabel('component 2')\n",
        "plt.colorbar();"
      ],
      "execution_count": 0,
      "outputs": []
    },
    {
      "cell_type": "code",
      "metadata": {
        "id": "xhmwVQK3AZuC",
        "colab_type": "code",
        "colab": {}
      },
      "source": [
        "import numpy as np\n",
        "from plotly.subplots import make_subplots\n",
        "import plotly.graph_objects as go\n",
        "\n",
        "R, G, B = projected[:, 0], projected[:, 1], projected[:, 2]\n",
        "cmap = {0: 'rgba(0,0,255,255)', 1: 'rgba(0,255,0,255)', 2: 'rgba(255,0,0,255)',\n",
        "        3: 'rgba(0,0,128,255)', 4: 'rgba(0,128,0,255)', 5: 'rgba(128,0,255)',\n",
        "        6: 'rgba(0,0,64,255)', 7: 'rgba(0,64,0,255)', 8: 'rgba(64,0,0,255)',\n",
        "        9: 'rgba(0,0,0,255)'}\n",
        "colors = [cmap[d] for d in y]\n",
        "#['rgba(' + ','.join([str(r*255), str(g*255), str(b*255)]) + ', 255)' for r,g,b in zip(R,G,B)]\n",
        "\n",
        "fig = make_subplots(rows=1, cols=1, specs=[[{\"type\": \"scene\"}]])\n",
        "\n",
        "fig.add_trace(go.Scatter3d(x=R, y=G, z=B, mode='markers', \n",
        "                           marker=dict(size=4, color=colors)),\n",
        "              row=1, col=1)\n",
        "\n",
        "fig.update_layout(width=600, height=600, autosize=False, \n",
        "                  title_text=\"Color scale demonstration\",\n",
        "                  scene={\"xaxis\": {\"title\": \"R\"},\n",
        "                         \"yaxis\": {\"title\": \"G\"},\n",
        "                         \"zaxis\": {\"title\": \"B\"}},\n",
        "                  showlegend=False)\n",
        "      \n",
        "fig.show()"
      ],
      "execution_count": 0,
      "outputs": []
    },
    {
      "cell_type": "code",
      "metadata": {
        "id": "S-PCVFc6lRC2",
        "colab_type": "code",
        "colab": {}
      },
      "source": [
        "from sklearn.svm import SVC # \"Support vector classifier\"\n",
        "\n",
        "model_svm = SVC(kernel='rbf', C=1E-3, gamma='auto')\n",
        "model_svm.fit(projected, y)"
      ],
      "execution_count": 0,
      "outputs": []
    },
    {
      "cell_type": "code",
      "metadata": {
        "id": "J_GDXBiYo7aX",
        "colab_type": "code",
        "colab": {}
      },
      "source": [
        "import skimage.data\n",
        "import matplotlib.pyplot as plt\n",
        "from skimage import data, transform\n",
        "\n",
        "import imageio\n",
        "test_image = imageio.imread(\"download.png\", pilmode='F')\n",
        "\n",
        "\n",
        "#test_image = skimage.data.astronaut()\n",
        "#test_image = skimage.color.rgb2gray(test_image)\n",
        "test_image = skimage.transform.rescale(test_image, 300.0 / test_image.shape[0])\n",
        "#test_image = test_image[:160, 40:180]\n",
        "\n",
        "#print(test_image[:10,:10])\n",
        "\n",
        "plt.imshow(test_image, cmap='gray')\n",
        "plt.axis('off');\n",
        "plt.show()\n",
        "\n",
        "def sliding_window(img):\n",
        "  size = [64, 64]\n",
        "  for Nx in [20, 30, 40]:\n",
        "    Ny = int(size[1] / size[0] * Nx)\n",
        "    istep, jstep = int(Nx / 5), int(Ny / 5)\n",
        "    for i in range(0, img.shape[0] - Nx, istep):\n",
        "      for j in range(0, img.shape[1] - Ny, jstep):\n",
        "        new_img = transform.resize(img[i:i + Nx, j:j + Ny], size)\n",
        "        # division changes result\n",
        "        yield (i, j, Ny, Nx), new_img / np.sum(new_img)\n",
        "            \n",
        "indices, patches = zip(*sliding_window(test_image))\n",
        "patches_hog = np.array([patch.ravel() for patch in patches]) #np.array([feature.hog(patch) for patch in patches])\n",
        "print(patches_hog.shape)\n",
        "features = model.transform(patches_hog)\n",
        "labels = model_svm.predict(features)\n",
        "print(labels.sum())\n",
        "\n",
        "fig, ax = plt.subplots()\n",
        "ax.imshow(test_image, cmap='gray')\n",
        "ax.axis('off')\n",
        "\n",
        "indices = np.array(indices)\n",
        "\n",
        "for i, j, w, h in indices[labels == 0]:\n",
        "    ax.add_patch(plt.Rectangle((j, i), w, h, edgecolor='red',\n",
        "                               alpha=0.3, lw=2, facecolor='none'))"
      ],
      "execution_count": 0,
      "outputs": []
    },
    {
      "cell_type": "code",
      "metadata": {
        "id": "3_asm_NetZVR",
        "colab_type": "code",
        "colab": {}
      },
      "source": [
        "pyplot.imshow(all_data[100])"
      ],
      "execution_count": 0,
      "outputs": []
    },
    {
      "cell_type": "code",
      "metadata": {
        "id": "M0-yCUCpS3_d",
        "colab_type": "code",
        "colab": {}
      },
      "source": [
        "model_svm.predict(model.transform([feature.hog(all_data[-290])]))"
      ],
      "execution_count": 0,
      "outputs": []
    },
    {
      "cell_type": "code",
      "metadata": {
        "id": "J7WGwh6pdpbL",
        "colab_type": "code",
        "colab": {}
      },
      "source": [
        "all_data.shape"
      ],
      "execution_count": 0,
      "outputs": []
    }
  ]
}