{
  "nbformat": 4,
  "nbformat_minor": 0,
  "metadata": {
    "colab": {
      "name": "pandas_problems.ipynb",
      "version": "0.3.2",
      "provenance": [],
      "include_colab_link": true
    },
    "kernelspec": {
      "name": "python3",
      "display_name": "Python 3"
    }
  },
  "cells": [
    {
      "cell_type": "markdown",
      "metadata": {
        "id": "view-in-github",
        "colab_type": "text"
      },
      "source": [
        "<a href=\"https://colab.research.google.com/github/fbeilstein/machine_learning/blob/master/practice_3_pandas_problems.ipynb\" target=\"_parent\"><img src=\"https://colab.research.google.com/assets/colab-badge.svg\" alt=\"Open In Colab\"/></a>"
      ]
    },
    {
      "cell_type": "markdown",
      "metadata": {
        "id": "tv61qZNL0Fpj",
        "colab_type": "text"
      },
      "source": [
        "# Importing pandas\n",
        "\n",
        "Getting started and checking your pandas setup.\n",
        "\n",
        "\n",
        "Difficulty: **easy**"
      ]
    },
    {
      "cell_type": "markdown",
      "metadata": {
        "id": "bm_CDctI0L0f",
        "colab_type": "text"
      },
      "source": [
        "##Problem 1.\n",
        "\n"
      ]
    },
    {
      "cell_type": "markdown",
      "metadata": {
        "id": "O3B5ERgt0dZV",
        "colab_type": "text"
      },
      "source": [
        " Import pandas under the name `pd`."
      ]
    },
    {
      "cell_type": "code",
      "metadata": {
        "id": "gJM62vHA0Fpk",
        "colab_type": "code",
        "colab": {}
      },
      "source": [
        "# Enter your code here"
      ],
      "execution_count": 0,
      "outputs": []
    },
    {
      "cell_type": "markdown",
      "metadata": {
        "id": "cMZFvXS70Fpm",
        "colab_type": "text"
      },
      "source": [
        "###Solution"
      ]
    },
    {
      "cell_type": "code",
      "metadata": {
        "id": "l1oa68Wh0Fpn",
        "colab_type": "code",
        "colab": {}
      },
      "source": [
        "import pandas as pd"
      ],
      "execution_count": 0,
      "outputs": []
    },
    {
      "cell_type": "markdown",
      "metadata": {
        "id": "JnPc49S50Fpo",
        "colab_type": "text"
      },
      "source": [
        "##Problem 2.\n",
        "\n",
        " Print the version of pandas that has been imported."
      ]
    },
    {
      "cell_type": "code",
      "metadata": {
        "id": "dIcdlg9C0Fpp",
        "colab_type": "code",
        "colab": {}
      },
      "source": [
        "# Enter your code here"
      ],
      "execution_count": 0,
      "outputs": []
    },
    {
      "cell_type": "markdown",
      "metadata": {
        "id": "pvnRJFyB0Fpq",
        "colab_type": "text"
      },
      "source": [
        "###Solution"
      ]
    },
    {
      "cell_type": "code",
      "metadata": {
        "id": "XSaqlTH80Fpr",
        "colab_type": "code",
        "colab": {}
      },
      "source": [
        "pd.__version__"
      ],
      "execution_count": 0,
      "outputs": []
    },
    {
      "cell_type": "markdown",
      "metadata": {
        "id": "_s95ygNE0Fps",
        "colab_type": "text"
      },
      "source": [
        "##Problem 3.\n",
        "\n",
        " Print out all the version information of the libraries that are required\n",
        "by the pandas library."
      ]
    },
    {
      "cell_type": "code",
      "metadata": {
        "id": "Pjg_ZomG0Fpt",
        "colab_type": "code",
        "colab": {}
      },
      "source": [
        "# Enter your code here"
      ],
      "execution_count": 0,
      "outputs": []
    },
    {
      "cell_type": "markdown",
      "metadata": {
        "id": "Ormr5VBC0Fpu",
        "colab_type": "text"
      },
      "source": [
        "###Solution"
      ]
    },
    {
      "cell_type": "code",
      "metadata": {
        "id": "uQctTimb0Fpv",
        "colab_type": "code",
        "colab": {}
      },
      "source": [
        "pd.show_versions()"
      ],
      "execution_count": 0,
      "outputs": []
    },
    {
      "cell_type": "markdown",
      "metadata": {
        "id": "32Uywid20Fpw",
        "colab_type": "text"
      },
      "source": [
        "# DataFrame basics\n",
        "\n",
        " A few of the fundamental routines for selecting,\n",
        "sorting, adding and aggregating data in DataFrames\n",
        "\n",
        "Difficulty: *easy*\n",
        "\n",
        "Note:\n",
        "remember to import numpy using:"
      ]
    },
    {
      "cell_type": "code",
      "metadata": {
        "id": "vi9VdmQo0Fpx",
        "colab_type": "code",
        "colab": {}
      },
      "source": [
        "# Enter your code here"
      ],
      "execution_count": 0,
      "outputs": []
    },
    {
      "cell_type": "markdown",
      "metadata": {
        "id": "bc4gJ3FS0Fpz",
        "colab_type": "text"
      },
      "source": [
        "###Solution"
      ]
    },
    {
      "cell_type": "code",
      "metadata": {
        "id": "M-FljJf_0Fp0",
        "colab_type": "code",
        "colab": {}
      },
      "source": [
        "import numpy as np"
      ],
      "execution_count": 0,
      "outputs": []
    },
    {
      "cell_type": "markdown",
      "metadata": {
        "id": "TPOBg-Ht0Fp2",
        "colab_type": "text"
      },
      "source": [
        "Consider the\n",
        "following Python dictionary `data` and Python list `labels`:"
      ]
    },
    {
      "cell_type": "code",
      "metadata": {
        "id": "mZC-l4BC0Fp3",
        "colab_type": "code",
        "colab": {}
      },
      "source": [
        "# Enter your code here"
      ],
      "execution_count": 0,
      "outputs": []
    },
    {
      "cell_type": "markdown",
      "metadata": {
        "id": "-ey94OoW0Fp4",
        "colab_type": "text"
      },
      "source": [
        "###Solution"
      ]
    },
    {
      "cell_type": "code",
      "metadata": {
        "id": "SAjyBUp50Fp4",
        "colab_type": "code",
        "colab": {}
      },
      "source": [
        "data =\n",
        "{'animal': ['cat', 'cat', 'snake', 'dog', 'dog', 'cat', 'snake', 'cat', 'dog',\n",
        "'dog'],\n",
        "        'age': [2.5, 3, 0.5, np.nan, 5, 2, 4.5, np.nan, 7, 3],\n",
        "'visits': [1, 3, 2, 3, 2, 3, 1, 1, 2, 1],\n",
        "        'priority': ['yes', 'yes',\n",
        "'no', 'yes', 'no', 'no', 'no', 'yes', 'no', 'no']}\n",
        "\n",
        "labels = ['a', 'b', 'c',\n",
        "'d', 'e', 'f', 'g', 'h', 'i', 'j']"
      ],
      "execution_count": 0,
      "outputs": []
    },
    {
      "cell_type": "markdown",
      "metadata": {
        "id": "KRzKusR00Fp6",
        "colab_type": "text"
      },
      "source": [
        "(This is just some meaningless data I\n",
        "made up with the theme of animals and trips to a vet.)\n",
        "\n",
        "##Problem 4.\n",
        "\n",
        " Create a\n",
        "DataFrame `df` from this dictionary `data` which has the index `labels`."
      ]
    },
    {
      "cell_type": "code",
      "metadata": {
        "id": "yVNW9-6G0Fp7",
        "colab_type": "code",
        "colab": {}
      },
      "source": [
        "# Enter your code here"
      ],
      "execution_count": 0,
      "outputs": []
    },
    {
      "cell_type": "markdown",
      "metadata": {
        "id": "uWVQBDAe0Fp9",
        "colab_type": "text"
      },
      "source": [
        "###Solution"
      ]
    },
    {
      "cell_type": "code",
      "metadata": {
        "id": "xtDBwdGo0Fp9",
        "colab_type": "code",
        "colab": {}
      },
      "source": [
        "df = pd.DataFrame(data, index=labels)"
      ],
      "execution_count": 0,
      "outputs": []
    },
    {
      "cell_type": "markdown",
      "metadata": {
        "id": "4ZcGduQU0Fp_",
        "colab_type": "text"
      },
      "source": [
        "##Problem 5.\n",
        "\n",
        " Display a summary of the basic information about this DataFrame and its\n",
        "data."
      ]
    },
    {
      "cell_type": "code",
      "metadata": {
        "id": "QP3gyJtH0Fp_",
        "colab_type": "code",
        "colab": {}
      },
      "source": [
        "# Enter your code here"
      ],
      "execution_count": 0,
      "outputs": []
    },
    {
      "cell_type": "markdown",
      "metadata": {
        "id": "JMWwxYzT0FqA",
        "colab_type": "text"
      },
      "source": [
        "###Solution"
      ]
    },
    {
      "cell_type": "code",
      "metadata": {
        "id": "KY1aQgJ90FqB",
        "colab_type": "code",
        "colab": {}
      },
      "source": [
        "df.info()\n",
        "\n",
        "# ...or...\n",
        "\n",
        "df.describe()"
      ],
      "execution_count": 0,
      "outputs": []
    },
    {
      "cell_type": "markdown",
      "metadata": {
        "id": "ThZvUPRp0FqC",
        "colab_type": "text"
      },
      "source": [
        "##Problem 6.\n",
        "\n",
        " Return the first 3 rows of the DataFrame `df`."
      ]
    },
    {
      "cell_type": "code",
      "metadata": {
        "id": "kn-iXYNj0FqC",
        "colab_type": "code",
        "colab": {}
      },
      "source": [
        "# Enter your code here"
      ],
      "execution_count": 0,
      "outputs": []
    },
    {
      "cell_type": "markdown",
      "metadata": {
        "id": "tr-cCA680FqE",
        "colab_type": "text"
      },
      "source": [
        "###Solution"
      ]
    },
    {
      "cell_type": "code",
      "metadata": {
        "id": "eQ4tq0iI0FqF",
        "colab_type": "code",
        "colab": {}
      },
      "source": [
        "df.iloc[:3]\n",
        "\n",
        "# or equivalently\n",
        "\n",
        "df.head(3)"
      ],
      "execution_count": 0,
      "outputs": []
    },
    {
      "cell_type": "markdown",
      "metadata": {
        "id": "Qvb_CZML0FqI",
        "colab_type": "text"
      },
      "source": [
        "##Problem 7.\n",
        "\n",
        " Select just the 'animal' and 'age' columns from the DataFrame `df`."
      ]
    },
    {
      "cell_type": "code",
      "metadata": {
        "id": "D8BXPDKT0FqJ",
        "colab_type": "code",
        "colab": {}
      },
      "source": [
        "# Enter your code here"
      ],
      "execution_count": 0,
      "outputs": []
    },
    {
      "cell_type": "markdown",
      "metadata": {
        "id": "Fse9ayd50FqK",
        "colab_type": "text"
      },
      "source": [
        "###Solution"
      ]
    },
    {
      "cell_type": "code",
      "metadata": {
        "id": "B1DPQPPn0FqL",
        "colab_type": "code",
        "colab": {}
      },
      "source": [
        "df.loc[:, ['animal', 'age']]\n",
        "\n",
        "# or\n",
        "\n",
        "df[['animal', 'age']]"
      ],
      "execution_count": 0,
      "outputs": []
    },
    {
      "cell_type": "markdown",
      "metadata": {
        "id": "RCR8g1eG0FqM",
        "colab_type": "text"
      },
      "source": [
        "##Problem 8.\n",
        "\n",
        " Select the data in rows `[3, 4, 8]` *and* in columns `['animal', 'age']`."
      ]
    },
    {
      "cell_type": "code",
      "metadata": {
        "id": "Jyczbyva0FqM",
        "colab_type": "code",
        "colab": {}
      },
      "source": [
        "# Enter your code here"
      ],
      "execution_count": 0,
      "outputs": []
    },
    {
      "cell_type": "markdown",
      "metadata": {
        "id": "I_a6PysJ0FqN",
        "colab_type": "text"
      },
      "source": [
        "###Solution"
      ]
    },
    {
      "cell_type": "code",
      "metadata": {
        "id": "tYNZ26j90FqO",
        "colab_type": "code",
        "colab": {}
      },
      "source": [
        "df.loc[df.index[[3, 4, 8]], ['animal', 'age']]"
      ],
      "execution_count": 0,
      "outputs": []
    },
    {
      "cell_type": "markdown",
      "metadata": {
        "id": "PtN-xRXV0FqP",
        "colab_type": "text"
      },
      "source": [
        "##Problem 9.\n",
        "\n",
        " Select only the rows where the number of visits is greater than 3."
      ]
    },
    {
      "cell_type": "code",
      "metadata": {
        "id": "DqAikZ5o0FqP",
        "colab_type": "code",
        "colab": {}
      },
      "source": [
        "# Enter your code here"
      ],
      "execution_count": 0,
      "outputs": []
    },
    {
      "cell_type": "markdown",
      "metadata": {
        "id": "Q4lTGYxy0FqR",
        "colab_type": "text"
      },
      "source": [
        "###Solution"
      ]
    },
    {
      "cell_type": "code",
      "metadata": {
        "id": "4Vps03yL0FqR",
        "colab_type": "code",
        "colab": {}
      },
      "source": [
        "df[df['visits'] > 3]"
      ],
      "execution_count": 0,
      "outputs": []
    },
    {
      "cell_type": "markdown",
      "metadata": {
        "id": "4ZDLSVoF0FqS",
        "colab_type": "text"
      },
      "source": [
        "##Problem 10.\n",
        "\n",
        " Select the rows where the age is missing, i.e. is `NaN`."
      ]
    },
    {
      "cell_type": "code",
      "metadata": {
        "id": "CoYoIOo10FqT",
        "colab_type": "code",
        "colab": {}
      },
      "source": [
        "# Enter your code here"
      ],
      "execution_count": 0,
      "outputs": []
    },
    {
      "cell_type": "markdown",
      "metadata": {
        "id": "YLhusB150FqU",
        "colab_type": "text"
      },
      "source": [
        "###Solution"
      ]
    },
    {
      "cell_type": "code",
      "metadata": {
        "id": "mEwPNuet0FqU",
        "colab_type": "code",
        "colab": {}
      },
      "source": [
        "df[df['age'].isnull()]"
      ],
      "execution_count": 0,
      "outputs": []
    },
    {
      "cell_type": "markdown",
      "metadata": {
        "id": "XFU5Za6R0FqW",
        "colab_type": "text"
      },
      "source": [
        "##Problem 11.\n",
        "\n",
        " Select the rows where the animal is a cat *and* the age is less than 3."
      ]
    },
    {
      "cell_type": "code",
      "metadata": {
        "id": "cvQbku2T0FqW",
        "colab_type": "code",
        "colab": {}
      },
      "source": [
        "# Enter your code here"
      ],
      "execution_count": 0,
      "outputs": []
    },
    {
      "cell_type": "markdown",
      "metadata": {
        "id": "v3ZzVx0Z0FqY",
        "colab_type": "text"
      },
      "source": [
        "###Solution"
      ]
    },
    {
      "cell_type": "code",
      "metadata": {
        "id": "1yWRuu_T0FqY",
        "colab_type": "code",
        "colab": {}
      },
      "source": [
        "df[(df['animal'] == 'cat') & (df['age'] < 3)]"
      ],
      "execution_count": 0,
      "outputs": []
    },
    {
      "cell_type": "markdown",
      "metadata": {
        "id": "-z6UCh070FqZ",
        "colab_type": "text"
      },
      "source": [
        "##Problem 12.\n",
        "\n",
        " Select the rows the age is between 2 and 4 (inclusive)."
      ]
    },
    {
      "cell_type": "code",
      "metadata": {
        "id": "HIqJFo0n0Fqa",
        "colab_type": "code",
        "colab": {}
      },
      "source": [
        "# Enter your code here"
      ],
      "execution_count": 0,
      "outputs": []
    },
    {
      "cell_type": "markdown",
      "metadata": {
        "id": "sRpbwvmd0Fqa",
        "colab_type": "text"
      },
      "source": [
        "###Solution"
      ]
    },
    {
      "cell_type": "code",
      "metadata": {
        "id": "l0wsxGVa0Fqb",
        "colab_type": "code",
        "colab": {}
      },
      "source": [
        "df[df['age'].between(2, 4)]"
      ],
      "execution_count": 0,
      "outputs": []
    },
    {
      "cell_type": "markdown",
      "metadata": {
        "id": "dAwY8OZ-0Fqc",
        "colab_type": "text"
      },
      "source": [
        "##Problem 13.\n",
        "\n",
        " Change the age in row 'f' to 1.5."
      ]
    },
    {
      "cell_type": "code",
      "metadata": {
        "id": "-DNusW0c0Fqc",
        "colab_type": "code",
        "colab": {}
      },
      "source": [
        "# Enter your code here"
      ],
      "execution_count": 0,
      "outputs": []
    },
    {
      "cell_type": "markdown",
      "metadata": {
        "id": "fl4xCVxw0Fqd",
        "colab_type": "text"
      },
      "source": [
        "###Solution"
      ]
    },
    {
      "cell_type": "code",
      "metadata": {
        "id": "XzfUCiUq0Fqe",
        "colab_type": "code",
        "colab": {}
      },
      "source": [
        "df.loc['f', 'age'] = 1.5"
      ],
      "execution_count": 0,
      "outputs": []
    },
    {
      "cell_type": "markdown",
      "metadata": {
        "id": "M5i23o_U0Fqf",
        "colab_type": "text"
      },
      "source": [
        "##Problem 14.\n",
        "\n",
        " Calculate the sum of all visits (the total number of visits)."
      ]
    },
    {
      "cell_type": "code",
      "metadata": {
        "id": "Q1u6CvlD0Fqf",
        "colab_type": "code",
        "colab": {}
      },
      "source": [
        "# Enter your code here"
      ],
      "execution_count": 0,
      "outputs": []
    },
    {
      "cell_type": "markdown",
      "metadata": {
        "id": "9rVl5Xhq0Fqg",
        "colab_type": "text"
      },
      "source": [
        "###Solution"
      ]
    },
    {
      "cell_type": "code",
      "metadata": {
        "id": "1UPwfoj80Fqh",
        "colab_type": "code",
        "colab": {}
      },
      "source": [
        "df['visits'].sum()"
      ],
      "execution_count": 0,
      "outputs": []
    },
    {
      "cell_type": "markdown",
      "metadata": {
        "id": "YXjkc4ui0Fqi",
        "colab_type": "text"
      },
      "source": [
        "##Problem 15.\n",
        "\n",
        " Calculate the mean age for each different animal in `df`."
      ]
    },
    {
      "cell_type": "code",
      "metadata": {
        "id": "Hnu67HN10Fqj",
        "colab_type": "code",
        "colab": {}
      },
      "source": [
        "# Enter your code here"
      ],
      "execution_count": 0,
      "outputs": []
    },
    {
      "cell_type": "markdown",
      "metadata": {
        "id": "Kuqrk2lC0Fqk",
        "colab_type": "text"
      },
      "source": [
        "###Solution"
      ]
    },
    {
      "cell_type": "code",
      "metadata": {
        "id": "RLxsO6Qn0Fqn",
        "colab_type": "code",
        "colab": {}
      },
      "source": [
        "df.groupby('animal')['age'].mean()"
      ],
      "execution_count": 0,
      "outputs": []
    },
    {
      "cell_type": "markdown",
      "metadata": {
        "id": "iFavUHtJ0Fqo",
        "colab_type": "text"
      },
      "source": [
        "##Problem 16.\n",
        "\n",
        " Append a new row 'k' to `df` with your choice of values for each column.\n",
        "Then delete that row to return the original DataFrame."
      ]
    },
    {
      "cell_type": "code",
      "metadata": {
        "id": "3zU8fIjm0Fqp",
        "colab_type": "code",
        "colab": {}
      },
      "source": [
        "# Enter your code here"
      ],
      "execution_count": 0,
      "outputs": []
    },
    {
      "cell_type": "markdown",
      "metadata": {
        "id": "uPDBFTdC0Fqq",
        "colab_type": "text"
      },
      "source": [
        "###Solution"
      ]
    },
    {
      "cell_type": "code",
      "metadata": {
        "id": "hPfSFH1x0Fqq",
        "colab_type": "code",
        "colab": {}
      },
      "source": [
        "df.loc['k'] = [5.5, 'dog', 'no', 2]\n",
        "\n",
        "# and then deleting the new row...\n",
        "\n",
        "df = df.drop('k')"
      ],
      "execution_count": 0,
      "outputs": []
    },
    {
      "cell_type": "markdown",
      "metadata": {
        "id": "udvxA5Hm0Fqr",
        "colab_type": "text"
      },
      "source": [
        "##Problem 17.\n",
        "\n",
        " Count the number of each type of animal in `df`."
      ]
    },
    {
      "cell_type": "code",
      "metadata": {
        "id": "CFzvcX5Z0Fqs",
        "colab_type": "code",
        "colab": {}
      },
      "source": [
        "# Enter your code here"
      ],
      "execution_count": 0,
      "outputs": []
    },
    {
      "cell_type": "markdown",
      "metadata": {
        "id": "JAtSBlVI0Fqu",
        "colab_type": "text"
      },
      "source": [
        "###Solution"
      ]
    },
    {
      "cell_type": "code",
      "metadata": {
        "id": "MdXRSMmK0Fqu",
        "colab_type": "code",
        "colab": {}
      },
      "source": [
        "df['animal'].value_counts()"
      ],
      "execution_count": 0,
      "outputs": []
    },
    {
      "cell_type": "markdown",
      "metadata": {
        "id": "rIEWJuUQ0Fqw",
        "colab_type": "text"
      },
      "source": [
        "##Problem 18.\n",
        "\n",
        " Sort `df` first by the values in the 'age' in *decending* order, then by\n",
        "the value in the 'visit' column in *ascending* order."
      ]
    },
    {
      "cell_type": "code",
      "metadata": {
        "id": "qoO7CXeg0Fqw",
        "colab_type": "code",
        "colab": {}
      },
      "source": [
        "# Enter your code here"
      ],
      "execution_count": 0,
      "outputs": []
    },
    {
      "cell_type": "markdown",
      "metadata": {
        "id": "uIns92SI0Fqx",
        "colab_type": "text"
      },
      "source": [
        "###Solution"
      ]
    },
    {
      "cell_type": "code",
      "metadata": {
        "id": "vygQ_ryz0Fqx",
        "colab_type": "code",
        "colab": {}
      },
      "source": [
        "df.sort_values(by=['age', 'visits'], ascending=[False, True])"
      ],
      "execution_count": 0,
      "outputs": []
    },
    {
      "cell_type": "markdown",
      "metadata": {
        "id": "bQ_ies1Q0Fqy",
        "colab_type": "text"
      },
      "source": [
        "##Problem 19.\n",
        "\n",
        " The 'priority' column contains the values 'yes' and 'no'. Replace this\n",
        "column with a column of boolean values: 'yes' should be `True` and 'no' should\n",
        "be `False`."
      ]
    },
    {
      "cell_type": "code",
      "metadata": {
        "id": "KcGXVM5O0Fqy",
        "colab_type": "code",
        "colab": {}
      },
      "source": [
        "# Enter your code here"
      ],
      "execution_count": 0,
      "outputs": []
    },
    {
      "cell_type": "markdown",
      "metadata": {
        "id": "snng_5nn0Fq0",
        "colab_type": "text"
      },
      "source": [
        "###Solution"
      ]
    },
    {
      "cell_type": "code",
      "metadata": {
        "id": "zRg_TwRq0Fq1",
        "colab_type": "code",
        "colab": {}
      },
      "source": [
        "df['priority'] = df['priority'].map({'yes': True, 'no': False})"
      ],
      "execution_count": 0,
      "outputs": []
    },
    {
      "cell_type": "markdown",
      "metadata": {
        "id": "g3lyPnPd0Fq3",
        "colab_type": "text"
      },
      "source": [
        "##Problem 20.\n",
        "\n",
        " In the 'animal' column, change the 'snake' entries to 'python\n",
        "# Enter your code here"
      ]
    },
    {
      "cell_type": "code",
      "metadata": {
        "id": "XbVVq3E40Fq3",
        "colab_type": "code",
        "colab": {}
      },
      "source": [
        "\n",
        "###Solution\n",
        "\n",
        "```python'.\n",
        "\n",
        "```python\n",
        "# Enter your code here"
      ],
      "execution_count": 0,
      "outputs": []
    },
    {
      "cell_type": "markdown",
      "metadata": {
        "id": "FXxrSYo00Fq4",
        "colab_type": "text"
      },
      "source": [
        "###Solution"
      ]
    },
    {
      "cell_type": "code",
      "metadata": {
        "id": "KpEIRw3Q0Fq4",
        "colab_type": "code",
        "colab": {}
      },
      "source": [
        "df['animal'] = df['animal'].replace('snake', 'python\n",
        "# Enter your code here"
      ],
      "execution_count": 0,
      "outputs": []
    },
    {
      "cell_type": "markdown",
      "metadata": {
        "id": "PL5xbiVo0Fq7",
        "colab_type": "text"
      },
      "source": [
        "###Solution"
      ]
    },
    {
      "cell_type": "code",
      "metadata": {
        "id": "V9HW-VIC0Fq7",
        "colab_type": "code",
        "colab": {}
      },
      "source": [
        "```\n",
        "\n",
        "##Problem 21.\n",
        "\n",
        " For each animal type and each number of visits, find the mean age. In\n",
        "other words, each row is an animal, each column is a number of visits and the\n",
        "values are the mean ages (hint: use a pivot table).\n",
        "\n",
        "```python\n",
        "# Enter your code here"
      ],
      "execution_count": 0,
      "outputs": []
    },
    {
      "cell_type": "markdown",
      "metadata": {
        "id": "vpsIm3010Fq8",
        "colab_type": "text"
      },
      "source": [
        "###Solution"
      ]
    },
    {
      "cell_type": "code",
      "metadata": {
        "id": "8yljTSux0Fq8",
        "colab_type": "code",
        "colab": {}
      },
      "source": [
        "df.pivot_table(index='animal', columns='visits', values='age', aggfunc='mean')"
      ],
      "execution_count": 0,
      "outputs": []
    },
    {
      "cell_type": "markdown",
      "metadata": {
        "id": "nft3SLBL0Fq9",
        "colab_type": "text"
      },
      "source": [
        "# DataFrames: beyond the basics\n",
        "\n",
        " Slightly trickier: you may need to combine\n",
        "two or more methods to get the right answer\n",
        "\n",
        "Difficulty: *medium*\n",
        "\n",
        "The previous\n",
        "section was tour through some basic but essential DataFrame operations. Below\n",
        "are some ways that you might need to cut your data, but for which there is no\n",
        "single \"out of the box\" method.\n",
        "\n",
        "##Problem 22.\n",
        "\n",
        " You have a DataFrame `df` with a column 'A' of integers. For example:"
      ]
    },
    {
      "cell_type": "code",
      "metadata": {
        "id": "myF5NgXz0Fq9",
        "colab_type": "code",
        "colab": {}
      },
      "source": [
        "# Enter your code here"
      ],
      "execution_count": 0,
      "outputs": []
    },
    {
      "cell_type": "markdown",
      "metadata": {
        "id": "jQawHudF0Fq_",
        "colab_type": "text"
      },
      "source": [
        "###Solution"
      ]
    },
    {
      "cell_type": "code",
      "metadata": {
        "id": "oeItWFT30Fq_",
        "colab_type": "code",
        "colab": {}
      },
      "source": [
        "df = pd.DataFrame({'A': [1, 2, 2, 3, 4, 5, 5, 5, 6, 7, 7]})"
      ],
      "execution_count": 0,
      "outputs": []
    },
    {
      "cell_type": "markdown",
      "metadata": {
        "id": "p5pXqv7Z0FrA",
        "colab_type": "text"
      },
      "source": [
        "How\n",
        "do you filter out rows which contain the same integer as the row immediately\n",
        "above?"
      ]
    },
    {
      "cell_type": "code",
      "metadata": {
        "id": "hYEgAKjl0FrA",
        "colab_type": "code",
        "colab": {}
      },
      "source": [
        "# Enter your code here"
      ],
      "execution_count": 0,
      "outputs": []
    },
    {
      "cell_type": "markdown",
      "metadata": {
        "id": "J_aYTGrd0FrB",
        "colab_type": "text"
      },
      "source": [
        "###Solution"
      ]
    },
    {
      "cell_type": "code",
      "metadata": {
        "id": "_1w4wp-R0FrB",
        "colab_type": "code",
        "colab": {}
      },
      "source": [
        "df.loc[df['A'].shift() != df['A']]\n",
        "\n",
        "# Alternatively, we could use drop_duplicates() here. Note\n",
        "# that this removes *all* duplicates though, so it won't\n",
        "# work as desired if A is [1, 1, 2, 2, 1, 1] for example.\n",
        "\n",
        "df.drop_duplicates(subset='A')"
      ],
      "execution_count": 0,
      "outputs": []
    },
    {
      "cell_type": "markdown",
      "metadata": {
        "id": "kV4HH6e00FrC",
        "colab_type": "text"
      },
      "source": [
        "##Problem 23.\n",
        "\n",
        " Given a DataFrame of numeric values, say"
      ]
    },
    {
      "cell_type": "code",
      "metadata": {
        "id": "2m0aeBDl0FrD",
        "colab_type": "code",
        "colab": {}
      },
      "source": [
        "# Enter your code here"
      ],
      "execution_count": 0,
      "outputs": []
    },
    {
      "cell_type": "markdown",
      "metadata": {
        "id": "Mgu45c-a0FrE",
        "colab_type": "text"
      },
      "source": [
        "###Solution"
      ]
    },
    {
      "cell_type": "code",
      "metadata": {
        "id": "RQMmua5-0FrG",
        "colab_type": "code",
        "colab": {}
      },
      "source": [
        "df =\n",
        "pd.DataFrame(np.random.random(size=(5, 3))) # a 5x3 frame of float values"
      ],
      "execution_count": 0,
      "outputs": []
    },
    {
      "cell_type": "markdown",
      "metadata": {
        "id": "OOGMKcHS0FrG",
        "colab_type": "text"
      },
      "source": [
        "how do you subtract the row mean from each element in the row?"
      ]
    },
    {
      "cell_type": "code",
      "metadata": {
        "id": "Au8Yc-_10FrH",
        "colab_type": "code",
        "colab": {}
      },
      "source": [
        "# Enter your code here"
      ],
      "execution_count": 0,
      "outputs": []
    },
    {
      "cell_type": "markdown",
      "metadata": {
        "id": "MlKiUGTn0FrH",
        "colab_type": "text"
      },
      "source": [
        "###Solution"
      ]
    },
    {
      "cell_type": "code",
      "metadata": {
        "id": "dAlujSRe0FrH",
        "colab_type": "code",
        "colab": {}
      },
      "source": [
        "df.sub(df.mean(axis=1), axis=0)"
      ],
      "execution_count": 0,
      "outputs": []
    },
    {
      "cell_type": "markdown",
      "metadata": {
        "id": "uGBurm550FrI",
        "colab_type": "text"
      },
      "source": [
        "##Problem 24.\n",
        "\n",
        " Suppose you have DataFrame with 10 columns of real numbers, for example:"
      ]
    },
    {
      "cell_type": "code",
      "metadata": {
        "id": "KAvcTSLb0FrI",
        "colab_type": "code",
        "colab": {}
      },
      "source": [
        "# Enter your code here"
      ],
      "execution_count": 0,
      "outputs": []
    },
    {
      "cell_type": "markdown",
      "metadata": {
        "id": "sqevAeCs0FrJ",
        "colab_type": "text"
      },
      "source": [
        "###Solution"
      ]
    },
    {
      "cell_type": "code",
      "metadata": {
        "id": "XwNHZsuW0FrK",
        "colab_type": "code",
        "colab": {}
      },
      "source": [
        "df = pd.DataFrame(np.random.random(size=(5, 10)),\n",
        "columns=list('abcdefghij'))"
      ],
      "execution_count": 0,
      "outputs": []
    },
    {
      "cell_type": "markdown",
      "metadata": {
        "id": "QQJkf0W80FrL",
        "colab_type": "text"
      },
      "source": [
        "Which column of numbers has the smallest sum?\n",
        "(Find that column's label.)"
      ]
    },
    {
      "cell_type": "code",
      "metadata": {
        "id": "yPNw5qEo0FrL",
        "colab_type": "code",
        "colab": {}
      },
      "source": [
        "# Enter your code here"
      ],
      "execution_count": 0,
      "outputs": []
    },
    {
      "cell_type": "markdown",
      "metadata": {
        "id": "j7wmbFxa0FrM",
        "colab_type": "text"
      },
      "source": [
        "###Solution"
      ]
    },
    {
      "cell_type": "code",
      "metadata": {
        "id": "f1ojxMpv0FrM",
        "colab_type": "code",
        "colab": {}
      },
      "source": [
        "df.sum().idxmin()"
      ],
      "execution_count": 0,
      "outputs": []
    },
    {
      "cell_type": "markdown",
      "metadata": {
        "id": "3uuI-TjJ0FrN",
        "colab_type": "text"
      },
      "source": [
        "##Problem 25.\n",
        "\n",
        " How do you count how many unique rows a DataFrame has (i.e. ignore all\n",
        "rows that are duplicates)?"
      ]
    },
    {
      "cell_type": "code",
      "metadata": {
        "id": "S4na5Wvd0FrN",
        "colab_type": "code",
        "colab": {}
      },
      "source": [
        "# Enter your code here"
      ],
      "execution_count": 0,
      "outputs": []
    },
    {
      "cell_type": "markdown",
      "metadata": {
        "id": "EyTs1PF20FrO",
        "colab_type": "text"
      },
      "source": [
        "###Solution"
      ]
    },
    {
      "cell_type": "code",
      "metadata": {
        "id": "EeyHHUYL0FrP",
        "colab_type": "code",
        "colab": {}
      },
      "source": [
        "len(df) - df.duplicated(keep=False).sum()\n",
        "\n",
        "# or perhaps more simply...\n",
        "\n",
        "len(df.drop_duplicates(keep=False))"
      ],
      "execution_count": 0,
      "outputs": []
    },
    {
      "cell_type": "markdown",
      "metadata": {
        "id": "80HPTF3M0FrQ",
        "colab_type": "text"
      },
      "source": [
        "The next three puzzles are slightly harder...\n",
        "\n",
        "##Problem 26.\n",
        "\n",
        " You have a DataFrame that\n",
        "consists of 10 columns of floating--point numbers. Suppose that exactly 5\n",
        "entries in each row are NaN values. For each row of the DataFrame, find the\n",
        "*column* which contains the *third* NaN value.\n",
        "\n",
        "(You should return a Series of\n",
        "column labels.)"
      ]
    },
    {
      "cell_type": "code",
      "metadata": {
        "id": "IuHKu2qh0FrQ",
        "colab_type": "code",
        "colab": {}
      },
      "source": [
        "# Enter your code here"
      ],
      "execution_count": 0,
      "outputs": []
    },
    {
      "cell_type": "markdown",
      "metadata": {
        "id": "Y1XCBc1i0FrR",
        "colab_type": "text"
      },
      "source": [
        "###Solution"
      ]
    },
    {
      "cell_type": "code",
      "metadata": {
        "id": "DHNRZMFD0FrS",
        "colab_type": "code",
        "colab": {}
      },
      "source": [
        "(df.isnull().cumsum(axis=1) == 3).idxmax(axis=1)"
      ],
      "execution_count": 0,
      "outputs": []
    },
    {
      "cell_type": "markdown",
      "metadata": {
        "id": "e48iw4gU0FrS",
        "colab_type": "text"
      },
      "source": [
        "##Problem 27.\n",
        "\n",
        " A DataFrame has a column of groups 'grps' and and column of numbers\n",
        "'vals'. For example:"
      ]
    },
    {
      "cell_type": "code",
      "metadata": {
        "id": "LNRnfYEV0FrS",
        "colab_type": "code",
        "colab": {}
      },
      "source": [
        "# Enter your code here"
      ],
      "execution_count": 0,
      "outputs": []
    },
    {
      "cell_type": "markdown",
      "metadata": {
        "id": "3iqB5Lu90FrU",
        "colab_type": "text"
      },
      "source": [
        "###Solution"
      ]
    },
    {
      "cell_type": "code",
      "metadata": {
        "id": "AVw6EHTP0FrU",
        "colab_type": "code",
        "colab": {}
      },
      "source": [
        "df = pd.DataFrame({'grps':\n",
        "list('aaabbcaabcccbbc'), \n",
        "                   'vals':\n",
        "[12,345,3,1,45,14,4,52,54,23,235,21,57,3,87]})"
      ],
      "execution_count": 0,
      "outputs": []
    },
    {
      "cell_type": "markdown",
      "metadata": {
        "id": "C4evb9eQ0FrV",
        "colab_type": "text"
      },
      "source": [
        "For each *group*, find the\n",
        "sum of the three greatest values."
      ]
    },
    {
      "cell_type": "code",
      "metadata": {
        "id": "V0W4OvW20FrV",
        "colab_type": "code",
        "colab": {}
      },
      "source": [
        "# Enter your code here"
      ],
      "execution_count": 0,
      "outputs": []
    },
    {
      "cell_type": "markdown",
      "metadata": {
        "id": "xJXkwUv90FrW",
        "colab_type": "text"
      },
      "source": [
        "###Solution"
      ]
    },
    {
      "cell_type": "code",
      "metadata": {
        "id": "q3sSAxc70FrW",
        "colab_type": "code",
        "colab": {}
      },
      "source": [
        "df.groupby('grps')['vals'].nlargest(3).sum(level=0)"
      ],
      "execution_count": 0,
      "outputs": []
    },
    {
      "cell_type": "markdown",
      "metadata": {
        "id": "O-8-zOpJ0FrX",
        "colab_type": "text"
      },
      "source": [
        "##Problem 28.\n",
        "\n",
        " A DataFrame has two integer columns 'A' and 'B'. The values in 'A' are\n",
        "between 1 and 100 (inclusive). For each group of 10 consecutive integers in 'A'\n",
        "(i.e. `(0, 10]`, `(10, 20]`, ...), calculate the sum of the corresponding values\n",
        "in column 'B'."
      ]
    },
    {
      "cell_type": "code",
      "metadata": {
        "id": "69Py3xMa0FrX",
        "colab_type": "code",
        "colab": {}
      },
      "source": [
        "# Enter your code here"
      ],
      "execution_count": 0,
      "outputs": []
    },
    {
      "cell_type": "markdown",
      "metadata": {
        "id": "180KQ4da0FrY",
        "colab_type": "text"
      },
      "source": [
        "###Solution"
      ]
    },
    {
      "cell_type": "code",
      "metadata": {
        "id": "lwrdWcS30FrY",
        "colab_type": "code",
        "colab": {}
      },
      "source": [
        "df.groupby(pd.cut(df['A'], np.arange(0, 101, 10)))['B'].sum()"
      ],
      "execution_count": 0,
      "outputs": []
    },
    {
      "cell_type": "markdown",
      "metadata": {
        "id": "q9UEzPxW0FrZ",
        "colab_type": "text"
      },
      "source": [
        "# DataFrames: harder problems \n",
        "\n",
        " These might require a bit of thinking\n",
        "outside the box...\n",
        "\n",
        "...but all are solvable using just the usual pandas/NumPy\n",
        "methods (and so avoid using explicit `for` loops).\n",
        "\n",
        "Difficulty: *hard*\n",
        "\n",
        "##Problem 29.\n",
        "\n",
        " Consider a DataFrame `df` where there is an integer column 'X':"
      ]
    },
    {
      "cell_type": "code",
      "metadata": {
        "id": "SfZWZehg0Fra",
        "colab_type": "code",
        "colab": {}
      },
      "source": [
        "# Enter your code here"
      ],
      "execution_count": 0,
      "outputs": []
    },
    {
      "cell_type": "markdown",
      "metadata": {
        "id": "DWAv3Sst0Frc",
        "colab_type": "text"
      },
      "source": [
        "###Solution"
      ]
    },
    {
      "cell_type": "code",
      "metadata": {
        "id": "-1uT2E930Frc",
        "colab_type": "code",
        "colab": {}
      },
      "source": [
        "df = pd.DataFrame({'X': [7, 2, 0, 3, 4, 2, 5, 0, 3, 4]})"
      ],
      "execution_count": 0,
      "outputs": []
    },
    {
      "cell_type": "markdown",
      "metadata": {
        "id": "op1mojxb0Frd",
        "colab_type": "text"
      },
      "source": [
        "For each\n",
        "value, count the difference back to the previous zero (or the start of the\n",
        "Series, whichever is closer). These values should therefore be `[1, 2, 0, 1, 2,\n",
        "3, 4, 0, 1, 2]`. Make this a new column 'Y'."
      ]
    },
    {
      "cell_type": "code",
      "metadata": {
        "id": "VXgfQ9aC0Frd",
        "colab_type": "code",
        "colab": {}
      },
      "source": [
        "# Enter your code here"
      ],
      "execution_count": 0,
      "outputs": []
    },
    {
      "cell_type": "markdown",
      "metadata": {
        "id": "QEQwbkjE0Frf",
        "colab_type": "text"
      },
      "source": [
        "###Solution"
      ]
    },
    {
      "cell_type": "code",
      "metadata": {
        "id": "qfLUKPMh0Frf",
        "colab_type": "code",
        "colab": {}
      },
      "source": [
        "izero = np.r_[-1, (df['X'] == 0).nonzero()[0]] # indices of zeros\n",
        "idx = np.arange(len(df))\n",
        "df['Y'] = idx - izero[np.searchsorted(izero - 1, idx) - 1]\n",
        "\n",
        "# http://stackoverflow.com/questions/30730981/how-to-count-distance-to-the-previous-zero-in-pandas-series/\n",
        "# credit: Behzad Nouri"
      ],
      "execution_count": 0,
      "outputs": []
    },
    {
      "cell_type": "markdown",
      "metadata": {
        "id": "g7nknE1E0Frg",
        "colab_type": "text"
      },
      "source": [
        "Here's an alternative approach based on a [cookbook\n",
        "recipe](http://pandas.pydata.org/pandas-docs/stable/cookbook.html#grouping):"
      ]
    },
    {
      "cell_type": "code",
      "metadata": {
        "id": "Ibl_dVEw0Frg",
        "colab_type": "code",
        "colab": {}
      },
      "source": [
        "# Enter your code here"
      ],
      "execution_count": 0,
      "outputs": []
    },
    {
      "cell_type": "markdown",
      "metadata": {
        "id": "XpSNuLJF0Frh",
        "colab_type": "text"
      },
      "source": [
        "###Solution"
      ]
    },
    {
      "cell_type": "code",
      "metadata": {
        "id": "i_qUAsFF0Fri",
        "colab_type": "code",
        "colab": {}
      },
      "source": [
        "x = (df['X'] != 0).cumsum()\n",
        "y = x != x.shift()\n",
        "df['Y'] = y.groupby((y != y.shift()).cumsum()).cumsum()"
      ],
      "execution_count": 0,
      "outputs": []
    },
    {
      "cell_type": "markdown",
      "metadata": {
        "id": "kh7qJAcg0Frj",
        "colab_type": "text"
      },
      "source": [
        "And another approach using a groupby:"
      ]
    },
    {
      "cell_type": "code",
      "metadata": {
        "id": "KKzeyWA10Frj",
        "colab_type": "code",
        "colab": {}
      },
      "source": [
        "# Enter your code here"
      ],
      "execution_count": 0,
      "outputs": []
    },
    {
      "cell_type": "markdown",
      "metadata": {
        "id": "Ojt12WVP0Frk",
        "colab_type": "text"
      },
      "source": [
        "###Solution"
      ]
    },
    {
      "cell_type": "code",
      "metadata": {
        "id": "KZ59W6U40Frk",
        "colab_type": "code",
        "colab": {}
      },
      "source": [
        "df['Y'] = df.groupby((df['X'] == 0).cumsum()).cumcount()\n",
        "# We're off by one before we reach the first zero.\n",
        "first_zero_idx = (df['X'] == 0).idxmax()\n",
        "df['Y'].iloc[0:first_zero_idx] += 1"
      ],
      "execution_count": 0,
      "outputs": []
    },
    {
      "cell_type": "markdown",
      "metadata": {
        "id": "zL7-OSb30Frk",
        "colab_type": "text"
      },
      "source": [
        "##Problem 30.\n",
        "\n",
        " Consider a DataFrame containing rows and columns of purely numerical\n",
        "data. Create a list of the row-column index locations of the 3 largest values."
      ]
    },
    {
      "cell_type": "code",
      "metadata": {
        "id": "L3K7BcQT0Frk",
        "colab_type": "code",
        "colab": {}
      },
      "source": [
        "# Enter your code here"
      ],
      "execution_count": 0,
      "outputs": []
    },
    {
      "cell_type": "markdown",
      "metadata": {
        "id": "BldeQhAH0Frl",
        "colab_type": "text"
      },
      "source": [
        "###Solution"
      ]
    },
    {
      "cell_type": "code",
      "metadata": {
        "id": "7br1lcKO0Frl",
        "colab_type": "code",
        "colab": {}
      },
      "source": [
        "df.unstack().sort_values()[-3:].index.tolist()\n",
        "\n",
        "# http://stackoverflow.com/questions/14941261/index-and-column-for-the-max-value-in-pandas-dataframe/\n",
        "# credit: DSM"
      ],
      "execution_count": 0,
      "outputs": []
    },
    {
      "cell_type": "markdown",
      "metadata": {
        "id": "oLUmo5pv0Frm",
        "colab_type": "text"
      },
      "source": [
        "##Problem 31.\n",
        "\n",
        " Given a DataFrame with a column of group IDs, 'grps', and a column of\n",
        "corresponding integer values, 'vals', replace any negative values in 'vals' with\n",
        "the group mean."
      ]
    },
    {
      "cell_type": "code",
      "metadata": {
        "id": "aPJTU5xI0Frm",
        "colab_type": "code",
        "colab": {}
      },
      "source": [
        "# Enter your code here"
      ],
      "execution_count": 0,
      "outputs": []
    },
    {
      "cell_type": "markdown",
      "metadata": {
        "id": "RTaR6DY10Frm",
        "colab_type": "text"
      },
      "source": [
        "###Solution"
      ]
    },
    {
      "cell_type": "code",
      "metadata": {
        "id": "heqE7S2S0Frn",
        "colab_type": "code",
        "colab": {}
      },
      "source": [
        "def replace(group):\n",
        "    mask = group<0\n",
        "    group[mask] = group[~mask].mean()\n",
        "    return group\n",
        "\n",
        "df.groupby(['grps'])['vals'].transform(replace)\n",
        "\n",
        "# http://stackoverflow.com/questions/14760757/replacing-values-with-groupby-means/\n",
        "# credit: unutbu"
      ],
      "execution_count": 0,
      "outputs": []
    },
    {
      "cell_type": "markdown",
      "metadata": {
        "id": "NBIAC3rn0Frn",
        "colab_type": "text"
      },
      "source": [
        "##Problem 32.\n",
        "\n",
        " Implement a rolling mean over groups with window size 3, which ignores\n",
        "NaN value. For example consider the following DataFrame:"
      ]
    },
    {
      "cell_type": "code",
      "metadata": {
        "id": "2PE8_VvZ0Frn",
        "colab_type": "code",
        "colab": {}
      },
      "source": [
        "# Enter your code here"
      ],
      "execution_count": 0,
      "outputs": []
    },
    {
      "cell_type": "markdown",
      "metadata": {
        "id": "dr68tVL50Fro",
        "colab_type": "text"
      },
      "source": [
        "###Solution"
      ]
    },
    {
      "cell_type": "code",
      "metadata": {
        "id": "eJM9xGfX0Fro",
        "colab_type": "code",
        "colab": {}
      },
      "source": [
        ">>> df =\n",
        "pd.DataFrame({'group': list('aabbabbbabab'),\n",
        "                       'value': [1,\n",
        "2, 3, np.nan, 2, 3, \n",
        "                                 np.nan, 1, 7, 3, np.nan,\n",
        "8]})\n",
        ">>> df\n",
        "   group  value\n",
        "0      a    1.0\n",
        "1      a    2.0\n",
        "2      b    3.0\n",
        "3\n",
        "b    NaN\n",
        "4      a    2.0\n",
        "5      b    3.0\n",
        "6      b    NaN\n",
        "7      b    1.0\n",
        "8\n",
        "a    7.0\n",
        "9      b    3.0\n",
        "10     a    NaN\n",
        "11     b    8.0"
      ],
      "execution_count": 0,
      "outputs": []
    },
    {
      "cell_type": "markdown",
      "metadata": {
        "id": "NsoPAZGZ0Frp",
        "colab_type": "text"
      },
      "source": [
        "The goal is to\n",
        "compute the Series:"
      ]
    },
    {
      "cell_type": "code",
      "metadata": {
        "id": "LJSwYNyO0Frp",
        "colab_type": "code",
        "colab": {}
      },
      "source": [
        "0     1.000000\n",
        "1     1.500000\n",
        "2     3.000000\n",
        "3\n",
        "3.000000\n",
        "4     1.666667\n",
        "5     3.000000\n",
        "6     3.000000\n",
        "7     2.000000\n",
        "8\n",
        "3.666667\n",
        "9     2.000000\n",
        "10    4.500000\n",
        "11    4.000000"
      ],
      "execution_count": 0,
      "outputs": []
    },
    {
      "cell_type": "markdown",
      "metadata": {
        "id": "p1XysP2z0Frq",
        "colab_type": "text"
      },
      "source": [
        "E.g. the first window\n",
        "of size three for group 'b' has values 3.0, NaN and 3.0 and occurs at row index\n",
        "5. Instead of being NaN the value in the new column at this row index should be\n",
        "3.0 (just the two non-NaN values are used to compute the mean (3+3)/2)"
      ]
    },
    {
      "cell_type": "code",
      "metadata": {
        "id": "NljJbb600Frq",
        "colab_type": "code",
        "colab": {}
      },
      "source": [
        "# Enter your code here"
      ],
      "execution_count": 0,
      "outputs": []
    },
    {
      "cell_type": "markdown",
      "metadata": {
        "id": "WGjvHX0x0Frq",
        "colab_type": "text"
      },
      "source": [
        "###Solution"
      ]
    },
    {
      "cell_type": "code",
      "metadata": {
        "id": "yhPnb5H40Frr",
        "colab_type": "code",
        "colab": {}
      },
      "source": [
        "g1 = df.groupby(['group'])['value']              # group values  \n",
        "g2 = df.fillna(0).groupby(['group'])['value']    # fillna, then group values\n",
        "\n",
        "s = g2.rolling(3, min_periods=1).sum() / g1.rolling(3, min_periods=1).count() # compute means\n",
        "\n",
        "s.reset_index(level=0, drop=True).sort_index()  # drop/sort index\n",
        "\n",
        "# http://stackoverflow.com/questions/36988123/pandas-groupby-and-rolling-apply-ignoring-nans/"
      ],
      "execution_count": 0,
      "outputs": []
    },
    {
      "cell_type": "markdown",
      "metadata": {
        "id": "GCyBw02a0Frr",
        "colab_type": "text"
      },
      "source": [
        "# Series and DatetimeIndex\n",
        "\n",
        " Exercises for creating and manipulating Series\n",
        "with datetime data\n",
        "\n",
        "Difficulty: *easy/medium*\n",
        "\n",
        "pandas is fantastic for working\n",
        "with dates and times. These puzzles explore some of this functionality.\n",
        "\n",
        "##Problem 33.\n",
        "\n",
        " Create a DatetimeIndex that contains each business day of 2015 and use\n",
        "it to index a Series of random numbers. Let's call this Series `s`."
      ]
    },
    {
      "cell_type": "code",
      "metadata": {
        "id": "laFf1Pc60Frs",
        "colab_type": "code",
        "colab": {}
      },
      "source": [
        "# Enter your code here"
      ],
      "execution_count": 0,
      "outputs": []
    },
    {
      "cell_type": "markdown",
      "metadata": {
        "id": "FDY2MVO70Frs",
        "colab_type": "text"
      },
      "source": [
        "###Solution"
      ]
    },
    {
      "cell_type": "code",
      "metadata": {
        "id": "zn8WxJDG0Frs",
        "colab_type": "code",
        "colab": {}
      },
      "source": [
        "dti = pd.date_range(start='2015-01-01', end='2015-12-31', freq='B') \n",
        "s = pd.Series(np.random.rand(len(dti)), index=dti)"
      ],
      "execution_count": 0,
      "outputs": []
    },
    {
      "cell_type": "markdown",
      "metadata": {
        "id": "AY5AKfbY0Fru",
        "colab_type": "text"
      },
      "source": [
        "##Problem 34.\n",
        "\n",
        " Find the sum of the values in `s` for every Wednesday."
      ]
    },
    {
      "cell_type": "code",
      "metadata": {
        "id": "cDxSfzaH0Fru",
        "colab_type": "code",
        "colab": {}
      },
      "source": [
        "# Enter your code here"
      ],
      "execution_count": 0,
      "outputs": []
    },
    {
      "cell_type": "markdown",
      "metadata": {
        "id": "Am-XRKVc0Frv",
        "colab_type": "text"
      },
      "source": [
        "###Solution"
      ]
    },
    {
      "cell_type": "code",
      "metadata": {
        "id": "ftj_VRld0Frv",
        "colab_type": "code",
        "colab": {}
      },
      "source": [
        "s[s.index.weekday == 2].sum() "
      ],
      "execution_count": 0,
      "outputs": []
    },
    {
      "cell_type": "markdown",
      "metadata": {
        "id": "Di4pY2X80Frw",
        "colab_type": "text"
      },
      "source": [
        "##Problem 35.\n",
        "\n",
        " For each calendar month in `s`, find the mean of values."
      ]
    },
    {
      "cell_type": "code",
      "metadata": {
        "id": "VIqVsUzo0Frw",
        "colab_type": "code",
        "colab": {}
      },
      "source": [
        "# Enter your code here"
      ],
      "execution_count": 0,
      "outputs": []
    },
    {
      "cell_type": "markdown",
      "metadata": {
        "id": "KDvC6z-S0Frx",
        "colab_type": "text"
      },
      "source": [
        "###Solution"
      ]
    },
    {
      "cell_type": "code",
      "metadata": {
        "id": "gFULJjLd0Frx",
        "colab_type": "code",
        "colab": {}
      },
      "source": [
        "s.resample('M').mean()"
      ],
      "execution_count": 0,
      "outputs": []
    },
    {
      "cell_type": "markdown",
      "metadata": {
        "id": "IOh6N3IU0Fry",
        "colab_type": "text"
      },
      "source": [
        "##Problem 36.\n",
        "\n",
        " For each group of four consecutive calendar months in `s`, find the date\n",
        "on which the highest value occurred."
      ]
    },
    {
      "cell_type": "code",
      "metadata": {
        "id": "w5IAhQpX0Fry",
        "colab_type": "code",
        "colab": {}
      },
      "source": [
        "# Enter your code here"
      ],
      "execution_count": 0,
      "outputs": []
    },
    {
      "cell_type": "markdown",
      "metadata": {
        "id": "eELmyLz-0Fry",
        "colab_type": "text"
      },
      "source": [
        "###Solution"
      ]
    },
    {
      "cell_type": "code",
      "metadata": {
        "id": "Vj9BblHZ0Frz",
        "colab_type": "code",
        "colab": {}
      },
      "source": [
        "s.groupby(pd.TimeGrouper('4M')).idxmax()"
      ],
      "execution_count": 0,
      "outputs": []
    },
    {
      "cell_type": "markdown",
      "metadata": {
        "id": "WdcD84KS0Frz",
        "colab_type": "text"
      },
      "source": [
        "##Problem 37.\n",
        "\n",
        " Create a DateTimeIndex consisting of the third Thursday in each month\n",
        "for the years 2015 and 2016."
      ]
    },
    {
      "cell_type": "code",
      "metadata": {
        "id": "ukuqI7K90Frz",
        "colab_type": "code",
        "colab": {}
      },
      "source": [
        "# Enter your code here"
      ],
      "execution_count": 0,
      "outputs": []
    },
    {
      "cell_type": "markdown",
      "metadata": {
        "id": "McZd5u6J0Fr0",
        "colab_type": "text"
      },
      "source": [
        "###Solution"
      ]
    },
    {
      "cell_type": "code",
      "metadata": {
        "id": "urg_tD-h0Fr0",
        "colab_type": "code",
        "colab": {}
      },
      "source": [
        "pd.date_range('2015-01-01', '2016-12-31', freq='WOM-3THU')"
      ],
      "execution_count": 0,
      "outputs": []
    },
    {
      "cell_type": "markdown",
      "metadata": {
        "id": "0oz0yTYL0Fr1",
        "colab_type": "text"
      },
      "source": [
        "# Cleaning Data\n",
        "\n",
        " Making a DataFrame easier to work with\n",
        "\n",
        "Difficulty:\n",
        "*easy/medium*\n",
        "\n",
        "It happens all the time: someone gives you data containing\n",
        "malformed strings, Python, lists and missing data. How do you tidy it up so you\n",
        "can get on with the analysis?\n",
        "\n",
        "Take this monstrosity as the DataFrame to use in\n",
        "the following puzzles:"
      ]
    },
    {
      "cell_type": "code",
      "metadata": {
        "id": "m_z2TdWJ0Fr1",
        "colab_type": "code",
        "colab": {}
      },
      "source": [
        "# Enter your code here"
      ],
      "execution_count": 0,
      "outputs": []
    },
    {
      "cell_type": "markdown",
      "metadata": {
        "id": "7-46K4Gq0Fr1",
        "colab_type": "text"
      },
      "source": [
        "###Solution"
      ]
    },
    {
      "cell_type": "code",
      "metadata": {
        "id": "OIE0Wuqo0Fr2",
        "colab_type": "code",
        "colab": {}
      },
      "source": [
        "df = pd.DataFrame({'From_To': ['LoNDon_paris',\n",
        "'MAdrid_miLAN', 'londON_StockhOlm',\n",
        "'Budapest_PaRis', 'Brussels_londOn'],\n",
        "              'FlightNumber': [10045,\n",
        "np.nan, 10065, np.nan, 10085],\n",
        "              'RecentDelays': [[23, 47], [], [24,\n",
        "43, 87], [13], [67, 32]],\n",
        "                   'Airline': ['KLM(!)', '<Air France>\n",
        "(12)', '(British Airways. )', \n",
        "                               '12. Air France',\n",
        "'\"Swiss Air\"']})"
      ],
      "execution_count": 0,
      "outputs": []
    },
    {
      "cell_type": "markdown",
      "metadata": {
        "id": "5v-CMT3-0Fr2",
        "colab_type": "text"
      },
      "source": [
        "(It's some flight data I made up; it's not meant to be\n",
        "accurate in any way.)\n",
        "\n",
        "##Problem 38.\n",
        "\n",
        " Some values in the the FlightNumber column are missing. These numbers\n",
        "are meant to increase by 10 with each row so 10055 and 10075 need to be put in\n",
        "place. Fill in these missing numbers and make the column an integer column\n",
        "(instead of a float column)."
      ]
    },
    {
      "cell_type": "code",
      "metadata": {
        "id": "jG5RY_Pw0Fr2",
        "colab_type": "code",
        "colab": {}
      },
      "source": [
        "# Enter your code here"
      ],
      "execution_count": 0,
      "outputs": []
    },
    {
      "cell_type": "markdown",
      "metadata": {
        "id": "bv39FBOr0Fr3",
        "colab_type": "text"
      },
      "source": [
        "###Solution"
      ]
    },
    {
      "cell_type": "code",
      "metadata": {
        "id": "TqHrVKMn0Fr3",
        "colab_type": "code",
        "colab": {}
      },
      "source": [
        "df['FlightNumber'] = df['FlightNumber'].interpolate().astype(int)"
      ],
      "execution_count": 0,
      "outputs": []
    },
    {
      "cell_type": "markdown",
      "metadata": {
        "id": "6Xw2c2dY0Fr4",
        "colab_type": "text"
      },
      "source": [
        "##Problem 39.\n",
        "\n",
        " The From\\_To column would be better as two separate columns! Split each\n",
        "string on the underscore delimiter `_` to give a new temporary DataFrame with\n",
        "the correct values. Assign the correct column names to this temporary DataFrame."
      ]
    },
    {
      "cell_type": "code",
      "metadata": {
        "id": "RCDbPVWb0Fr4",
        "colab_type": "code",
        "colab": {}
      },
      "source": [
        "# Enter your code here"
      ],
      "execution_count": 0,
      "outputs": []
    },
    {
      "cell_type": "markdown",
      "metadata": {
        "id": "GOInAnK-0Fr5",
        "colab_type": "text"
      },
      "source": [
        "###Solution"
      ]
    },
    {
      "cell_type": "code",
      "metadata": {
        "id": "vFbJyruV0Fr5",
        "colab_type": "code",
        "colab": {}
      },
      "source": [
        "temp = df.From_To.str.split('_', expand=True)\n",
        "temp.columns = ['From', 'To']"
      ],
      "execution_count": 0,
      "outputs": []
    },
    {
      "cell_type": "markdown",
      "metadata": {
        "id": "mFkWT9mu0Fr5",
        "colab_type": "text"
      },
      "source": [
        "##Problem 40.\n",
        "\n",
        " Notice how the capitalisation of the city names is all mixed up in this\n",
        "temporary DataFrame. Standardise the strings so that only the first letter is\n",
        "uppercase (e.g. \"londON\" should become \"London\".)"
      ]
    },
    {
      "cell_type": "code",
      "metadata": {
        "id": "kWV4mFp90Fr5",
        "colab_type": "code",
        "colab": {}
      },
      "source": [
        "# Enter your code here"
      ],
      "execution_count": 0,
      "outputs": []
    },
    {
      "cell_type": "markdown",
      "metadata": {
        "id": "oaqm50gT0Fr6",
        "colab_type": "text"
      },
      "source": [
        "###Solution"
      ]
    },
    {
      "cell_type": "code",
      "metadata": {
        "id": "vRySqc0s0Fr6",
        "colab_type": "code",
        "colab": {}
      },
      "source": [
        "temp['From'] = temp['From'].str.capitalize()\n",
        "temp['To'] = temp['To'].str.capitalize()"
      ],
      "execution_count": 0,
      "outputs": []
    },
    {
      "cell_type": "markdown",
      "metadata": {
        "id": "6_E9u7Nc0Fr7",
        "colab_type": "text"
      },
      "source": [
        "##Problem 41.\n",
        "\n",
        " Delete the From_To column from `df` and attach the temporary DataFrame\n",
        "from the previous questions."
      ]
    },
    {
      "cell_type": "code",
      "metadata": {
        "id": "bATrAnwg0Fr7",
        "colab_type": "code",
        "colab": {}
      },
      "source": [
        "# Enter your code here"
      ],
      "execution_count": 0,
      "outputs": []
    },
    {
      "cell_type": "markdown",
      "metadata": {
        "id": "U0qu9OTp0Fr9",
        "colab_type": "text"
      },
      "source": [
        "###Solution"
      ]
    },
    {
      "cell_type": "code",
      "metadata": {
        "id": "9hnDUTDn0Fr9",
        "colab_type": "code",
        "colab": {}
      },
      "source": [
        "df = df.drop('From_To', axis=1)\n",
        "df = df.join(temp)"
      ],
      "execution_count": 0,
      "outputs": []
    },
    {
      "cell_type": "markdown",
      "metadata": {
        "id": "rcj74fum0Fr-",
        "colab_type": "text"
      },
      "source": [
        "##Problem 42\n",
        "\n",
        ". In the Airline column, you can see some extra puctuation and symbols\n",
        "have appeared around the airline names. Pull out just the airline name. E.g.\n",
        "`'(British Airways. )'` should become `'British Airways'`."
      ]
    },
    {
      "cell_type": "code",
      "metadata": {
        "id": "X_FnnR4H0Fr-",
        "colab_type": "code",
        "colab": {}
      },
      "source": [
        "# Enter your code here"
      ],
      "execution_count": 0,
      "outputs": []
    },
    {
      "cell_type": "markdown",
      "metadata": {
        "id": "Ymd-RYI20Fr_",
        "colab_type": "text"
      },
      "source": [
        "###Solution"
      ]
    },
    {
      "cell_type": "code",
      "metadata": {
        "id": "bSSCnUcS0FsA",
        "colab_type": "code",
        "colab": {}
      },
      "source": [
        "df['Airline'] = df['Airline'].str.extract('([a-zA-Z\\s]+)', expand=False).str.strip()\n",
        "# note: using .strip() gets rid of any leading/trailing spaces"
      ],
      "execution_count": 0,
      "outputs": []
    },
    {
      "cell_type": "markdown",
      "metadata": {
        "id": "DPm3fyUz0FsA",
        "colab_type": "text"
      },
      "source": [
        "##Problem 43\n",
        "\n",
        ". In the RecentDelays column, the values have been entered into the\n",
        "DataFrame as a list. We would like each first value in its own column, each\n",
        "second value in its own column, and so on. If there isn't an Nth value, the\n",
        "value should be NaN.\n",
        "\n",
        "Expand the Series of lists into a DataFrame named\n",
        "`delays`, rename the columns `delay_1`, `delay_2`, etc. and replace the unwanted\n",
        "RecentDelays column in `df` with `delays`."
      ]
    },
    {
      "cell_type": "code",
      "metadata": {
        "id": "xYGbybBC0FsB",
        "colab_type": "code",
        "colab": {}
      },
      "source": [
        "# Enter your code here"
      ],
      "execution_count": 0,
      "outputs": []
    },
    {
      "cell_type": "markdown",
      "metadata": {
        "id": "VAppCXaH0FsB",
        "colab_type": "text"
      },
      "source": [
        "###Solution"
      ]
    },
    {
      "cell_type": "code",
      "metadata": {
        "id": "2h4IiFRF0FsC",
        "colab_type": "code",
        "colab": {}
      },
      "source": [
        "# there are several ways to do this, but the following approach is possibly the simplest\n",
        "\n",
        "delays = df['RecentDelays'].apply(pd.Series)\n",
        "\n",
        "delays.columns = ['delay_{}'.format(n) for n in range(1, len(delays.columns)+1)]\n",
        "\n",
        "df = df.drop('RecentDelays', axis=1).join(delays)"
      ],
      "execution_count": 0,
      "outputs": []
    },
    {
      "cell_type": "markdown",
      "metadata": {
        "id": "RxCt2o0K0FsC",
        "colab_type": "text"
      },
      "source": [
        "The DataFrame should look much better now.\n",
        "\n",
        "# Using MultiIndexes\n",
        "\n",
        " Go beyond flat DataFrames with additional index\n",
        "levels\n",
        "\n",
        "Difficulty: *medium*\n",
        "\n",
        "Previous exercises have seen us analysing data\n",
        "from DataFrames equipped with a single index level. However, pandas also gives\n",
        "you the possibilty of indexing your data using *multiple* levels. This is very\n",
        "much like adding new dimensions to a Series or a DataFrame. For example, a\n",
        "Series is 1D, but by using a MultiIndex with 2 levels we gain of much the same\n",
        "functionality as a 2D DataFrame.\n",
        "\n",
        "The set of puzzles below explores how you\n",
        "might use multiple index levels to enhance data analysis.\n",
        "\n",
        "To warm up, we'll\n",
        "look make a Series with two index levels.\n",
        "\n",
        "##Problem 44\n",
        "\n",
        ". Given the lists `letters = ['A', 'B', 'C']` and `numbers =\n",
        "list(range(10))`, construct a MultiIndex object from the product of the two\n",
        "lists. Use it to index a Series of random numbers. Call this Series `s`."
      ]
    },
    {
      "cell_type": "code",
      "metadata": {
        "id": "Pxz9X0_D0FsD",
        "colab_type": "code",
        "colab": {}
      },
      "source": [
        "# Enter your code here"
      ],
      "execution_count": 0,
      "outputs": []
    },
    {
      "cell_type": "markdown",
      "metadata": {
        "id": "-BtncFDa0FsJ",
        "colab_type": "text"
      },
      "source": [
        "###Solution"
      ]
    },
    {
      "cell_type": "code",
      "metadata": {
        "id": "lWn4LV5W0FsK",
        "colab_type": "code",
        "colab": {}
      },
      "source": [
        "letters = ['A', 'B', 'C']\n",
        "numbers = list(range(10))\n",
        "\n",
        "mi = pd.MultiIndex.from_product([letters, numbers])\n",
        "s = pd.Series(np.random.rand(30), index=mi)"
      ],
      "execution_count": 0,
      "outputs": []
    },
    {
      "cell_type": "markdown",
      "metadata": {
        "id": "-V4Cv_m_0FsM",
        "colab_type": "text"
      },
      "source": [
        "##Problem 45.\n",
        "\n",
        " Check the index of `s` is lexicographically sorted (this is a necessary\n",
        "proprty for indexing to work correctly with a MultiIndex)."
      ]
    },
    {
      "cell_type": "code",
      "metadata": {
        "id": "21vV5GEm0FsM",
        "colab_type": "code",
        "colab": {}
      },
      "source": [
        "# Enter your code here"
      ],
      "execution_count": 0,
      "outputs": []
    },
    {
      "cell_type": "markdown",
      "metadata": {
        "id": "UtSj4HvZ0FsO",
        "colab_type": "text"
      },
      "source": [
        "###Solution"
      ]
    },
    {
      "cell_type": "code",
      "metadata": {
        "id": "nyG3PjWd0FsO",
        "colab_type": "code",
        "colab": {}
      },
      "source": [
        "s.index.is_lexsorted()\n",
        "\n",
        "# or more verbosely...\n",
        "s.index.lexsort_depth == s.index.nlevels"
      ],
      "execution_count": 0,
      "outputs": []
    },
    {
      "cell_type": "markdown",
      "metadata": {
        "id": "AjHEXaTK0FsO",
        "colab_type": "text"
      },
      "source": [
        "##Problem 46\n",
        "\n",
        ". Select the labels `1`, `3` and `6` from the second level of the\n",
        "MultiIndexed Series."
      ]
    },
    {
      "cell_type": "code",
      "metadata": {
        "id": "NhWM19A40FsO",
        "colab_type": "code",
        "colab": {}
      },
      "source": [
        "# Enter your code here"
      ],
      "execution_count": 0,
      "outputs": []
    },
    {
      "cell_type": "markdown",
      "metadata": {
        "id": "2pAvXTgq0FsQ",
        "colab_type": "text"
      },
      "source": [
        "###Solution"
      ]
    },
    {
      "cell_type": "code",
      "metadata": {
        "id": "Sr2A69nA0FsQ",
        "colab_type": "code",
        "colab": {}
      },
      "source": [
        "s.loc[:, [1, 3, 6]]"
      ],
      "execution_count": 0,
      "outputs": []
    },
    {
      "cell_type": "markdown",
      "metadata": {
        "id": "I2w372e50FsQ",
        "colab_type": "text"
      },
      "source": [
        "##Problem 47\n",
        "\n",
        ". Slice the Series `s`; slice up to label 'B' for the first level and from\n",
        "label 5 onwards for the second level."
      ]
    },
    {
      "cell_type": "code",
      "metadata": {
        "id": "BmRHSp7R0FsQ",
        "colab_type": "code",
        "colab": {}
      },
      "source": [
        "# Enter your code here"
      ],
      "execution_count": 0,
      "outputs": []
    },
    {
      "cell_type": "markdown",
      "metadata": {
        "id": "9NrAVpub0FsR",
        "colab_type": "text"
      },
      "source": [
        "###Solution"
      ]
    },
    {
      "cell_type": "code",
      "metadata": {
        "id": "A-yaWMbE0FsR",
        "colab_type": "code",
        "colab": {}
      },
      "source": [
        "s.loc[pd.IndexSlice[:'B', 5:]]\n",
        "\n",
        "# or equivalently without IndexSlice...\n",
        "s.loc[slice(None, 'B'), slice(5, None)]"
      ],
      "execution_count": 0,
      "outputs": []
    },
    {
      "cell_type": "markdown",
      "metadata": {
        "id": "A4mFOYju0FsS",
        "colab_type": "text"
      },
      "source": [
        "##Problem 48\n",
        "\n",
        ". Sum the values in `s` for each label in the first level (you should have\n",
        "Series giving you a total for labels A, B and C)."
      ]
    },
    {
      "cell_type": "code",
      "metadata": {
        "id": "awa15Clw0FsS",
        "colab_type": "code",
        "colab": {}
      },
      "source": [
        "# Enter your code here"
      ],
      "execution_count": 0,
      "outputs": []
    },
    {
      "cell_type": "markdown",
      "metadata": {
        "id": "IHGql77Z0FsS",
        "colab_type": "text"
      },
      "source": [
        "###Solution"
      ]
    },
    {
      "cell_type": "code",
      "metadata": {
        "id": "jNZja_Sa0FsT",
        "colab_type": "code",
        "colab": {}
      },
      "source": [
        "s.sum(level=0)"
      ],
      "execution_count": 0,
      "outputs": []
    },
    {
      "cell_type": "markdown",
      "metadata": {
        "id": "l_khSpOR0FsU",
        "colab_type": "text"
      },
      "source": [
        "##Problem 49\n",
        "\n",
        ". Suppose that `sum()` (and other methods) did not accept a `level`\n",
        "keyword argument. How else could you perform the equivalent of `s.sum(level=1)`?"
      ]
    },
    {
      "cell_type": "code",
      "metadata": {
        "id": "0-78He7W0FsU",
        "colab_type": "code",
        "colab": {}
      },
      "source": [
        "# Enter your code here"
      ],
      "execution_count": 0,
      "outputs": []
    },
    {
      "cell_type": "markdown",
      "metadata": {
        "id": "MX_3nLSo0FsV",
        "colab_type": "text"
      },
      "source": [
        "###Solution"
      ]
    },
    {
      "cell_type": "code",
      "metadata": {
        "id": "Boj2OttI0FsV",
        "colab_type": "code",
        "colab": {}
      },
      "source": [
        "# One way is to use .unstack()... \n",
        "# This method should convince you that s is essentially \n",
        "# just a regular DataFrame in disguise!\n",
        "s.unstack().sum(axis=0)"
      ],
      "execution_count": 0,
      "outputs": []
    },
    {
      "cell_type": "markdown",
      "metadata": {
        "id": "ScmeDUTj0FsW",
        "colab_type": "text"
      },
      "source": [
        "##Problem 50\n",
        "\n",
        ". Exchange the levels of the MultiIndex so we have an index of the form\n",
        "(letters, numbers). Is this new Series properly lexsorted? If not, sort it."
      ]
    },
    {
      "cell_type": "code",
      "metadata": {
        "id": "3AK0O7Sq0FsW",
        "colab_type": "code",
        "colab": {}
      },
      "source": [
        "# Enter your code here"
      ],
      "execution_count": 0,
      "outputs": []
    },
    {
      "cell_type": "markdown",
      "metadata": {
        "id": "d83pWi9S0FsX",
        "colab_type": "text"
      },
      "source": [
        "###Solution"
      ]
    },
    {
      "cell_type": "code",
      "metadata": {
        "id": "6djsscnM0FsX",
        "colab_type": "code",
        "colab": {}
      },
      "source": [
        "new_s = s.swaplevel(0, 1)\n",
        "\n",
        "# check\n",
        "new_s.index.is_lexsorted()\n",
        "\n",
        "# sort\n",
        "new_s = new_s.sort_index()"
      ],
      "execution_count": 0,
      "outputs": []
    },
    {
      "cell_type": "markdown",
      "metadata": {
        "id": "EXdxpcp70FsY",
        "colab_type": "text"
      },
      "source": [
        "# Minesweeper\n",
        "\n",
        " Generate the numbers for safe squares in a Minesweeper grid\n",
        "Difficulty: *medium* to *hard*\n",
        "\n",
        "If you've ever used an older version of Windows,\n",
        "there's a good chance you've played with\n",
        "[Minesweeper](https://en.wikipedia.org/wiki/Minesweeper_(video_game). If you're\n",
        "not familiar with the game, imagine a grid of squares: some of these squares\n",
        "conceal a mine. If you click on a mine, you lose instantly. If you click on a\n",
        "safe square, you reveal a number telling you how many mines are found in the\n",
        "squares that are immediately adjacent. The aim of the game is to uncover all\n",
        "squares in the grid that do not contain a mine.\n",
        "\n",
        "In this section, we'll make a\n",
        "DataFrame that contains the necessary data for a game of Minesweeper:\n",
        "coordinates of the squares, whether the square contains a mine and the number of\n",
        "mines found on adjacent squares.\n",
        "\n",
        "##Problem 51\n",
        "\n",
        ". Let's suppose we're playing Minesweeper on a 5 by 4 grid, i.e."
      ]
    },
    {
      "cell_type": "code",
      "metadata": {
        "id": "xQHQoFr00FsY",
        "colab_type": "code",
        "colab": {}
      },
      "source": [
        "X = 5\n",
        "Y = 4"
      ],
      "execution_count": 0,
      "outputs": []
    },
    {
      "cell_type": "markdown",
      "metadata": {
        "id": "J22JempO0FsZ",
        "colab_type": "text"
      },
      "source": [
        "To begin, generate a DataFrame `df` with two columns, `'x'` and `'y'`\n",
        "containing every coordinate for this grid. That is, the DataFrame should start:"
      ]
    },
    {
      "cell_type": "code",
      "metadata": {
        "id": "Y2enRTA00FsZ",
        "colab_type": "code",
        "colab": {}
      },
      "source": [
        "   x  y\n",
        "0  0  0\n",
        "1  0  1\n",
        "2  0  2"
      ],
      "execution_count": 0,
      "outputs": []
    },
    {
      "cell_type": "code",
      "metadata": {
        "id": "kaiminRL0Fsa",
        "colab_type": "code",
        "colab": {}
      },
      "source": [
        "# Enter your code here"
      ],
      "execution_count": 0,
      "outputs": []
    },
    {
      "cell_type": "markdown",
      "metadata": {
        "id": "uS_fqCyS0Fsa",
        "colab_type": "text"
      },
      "source": [
        "###Solution"
      ]
    },
    {
      "cell_type": "code",
      "metadata": {
        "id": "tGttK1BI0Fsa",
        "colab_type": "code",
        "colab": {}
      },
      "source": [
        "p = pd.tools.util.cartesian_product([np.arange(X), np.arange(Y)])\n",
        "df = pd.DataFrame(np.asarray(p).T, columns=['x', 'y'])"
      ],
      "execution_count": 0,
      "outputs": []
    },
    {
      "cell_type": "markdown",
      "metadata": {
        "id": "-nkj8jPV0Fsb",
        "colab_type": "text"
      },
      "source": [
        "##Problem 52\n",
        "\n",
        ". For this DataFrame `df`, create a new column of zeros (safe) and ones\n",
        "(mine). The probability of a mine occuring at each location should be 0.4."
      ]
    },
    {
      "cell_type": "code",
      "metadata": {
        "id": "dFH_kps10Fsb",
        "colab_type": "code",
        "colab": {}
      },
      "source": [
        "# Enter your code here"
      ],
      "execution_count": 0,
      "outputs": []
    },
    {
      "cell_type": "markdown",
      "metadata": {
        "id": "RrIoBfam0Fsc",
        "colab_type": "text"
      },
      "source": [
        "###Solution"
      ]
    },
    {
      "cell_type": "code",
      "metadata": {
        "id": "outYtUTl0Fsc",
        "colab_type": "code",
        "colab": {}
      },
      "source": [
        "# One way is to draw samples from a binomial distribution.\n",
        "\n",
        "df['mine'] = np.random.binomial(1, 0.4, X*Y)"
      ],
      "execution_count": 0,
      "outputs": []
    },
    {
      "cell_type": "markdown",
      "metadata": {
        "id": "KRRoOFCz0Fsd",
        "colab_type": "text"
      },
      "source": [
        "##Problem 53\n",
        "\n",
        ". Now create a new column for this DataFrame called `'adjacent'`. This\n",
        "column should contain the number of mines found on adjacent squares in the grid.\n",
        "(E.g. for the first row, which is the entry for the coordinate `(0, 0)`, count\n",
        "how many mines are found on the coordinates `(0, 1)`, `(1, 0)` and `(1, 1)`.)"
      ]
    },
    {
      "cell_type": "code",
      "metadata": {
        "id": "Eb01N2QV0Fsd",
        "colab_type": "code",
        "colab": {}
      },
      "source": [
        "# Enter your code here"
      ],
      "execution_count": 0,
      "outputs": []
    },
    {
      "cell_type": "markdown",
      "metadata": {
        "id": "Fv6feLBN0Fse",
        "colab_type": "text"
      },
      "source": [
        "###Solution"
      ]
    },
    {
      "cell_type": "code",
      "metadata": {
        "id": "YetpEW8f0Fse",
        "colab_type": "code",
        "colab": {}
      },
      "source": [
        "# Here is one way to solve using merges.\n",
        "# It's not necessary the optimal way, just \n",
        "# the solution I thought of first...\n",
        "\n",
        "df['adjacent'] = \\\n",
        "    df.merge(df + [ 1,  1, 0], on=['x', 'y'], how='left')\\\n",
        "      .merge(df + [ 1, -1, 0], on=['x', 'y'], how='left')\\\n",
        "      .merge(df + [-1,  1, 0], on=['x', 'y'], how='left')\\\n",
        "      .merge(df + [-1, -1, 0], on=['x', 'y'], how='left')\\\n",
        "      .merge(df + [ 1,  0, 0], on=['x', 'y'], how='left')\\\n",
        "      .merge(df + [-1,  0, 0], on=['x', 'y'], how='left')\\\n",
        "      .merge(df + [ 0,  1, 0], on=['x', 'y'], how='left')\\\n",
        "      .merge(df + [ 0, -1, 0], on=['x', 'y'], how='left')\\\n",
        "       .iloc[:, 3:]\\\n",
        "        .sum(axis=1)\n",
        "        \n",
        "# An alternative solution is to pivot the DataFrame \n",
        "# to form the \"actual\" grid of mines and use convolution.\n",
        "# See https://github.com/jakevdp/matplotlib_pydata2013/blob/master/examples/minesweeper.py\n",
        "\n",
        "from scipy.signal import convolve2d\n",
        "\n",
        "mine_grid = df.pivot_table(columns='x', index='y', values='mine')\n",
        "counts = convolve2d(mine_grid.astype(complex), np.ones((3, 3)), mode='same').real.astype(int)\n",
        "df['adjacent'] = (counts - mine_grid).ravel('F')"
      ],
      "execution_count": 0,
      "outputs": []
    },
    {
      "cell_type": "markdown",
      "metadata": {
        "id": "o413snSL0Fse",
        "colab_type": "text"
      },
      "source": [
        "##Problem 54\n",
        "\n",
        ". For rows of the DataFrame that contain a mine, set the value in the\n",
        "`'adjacent'` column to NaN."
      ]
    },
    {
      "cell_type": "code",
      "metadata": {
        "id": "G0Di_Jtr0Fse",
        "colab_type": "code",
        "colab": {}
      },
      "source": [
        "# Enter your code here"
      ],
      "execution_count": 0,
      "outputs": []
    },
    {
      "cell_type": "markdown",
      "metadata": {
        "id": "gE8XAjAj0Fsf",
        "colab_type": "text"
      },
      "source": [
        "###Solution"
      ]
    },
    {
      "cell_type": "code",
      "metadata": {
        "id": "vkBty1-Y0Fsf",
        "colab_type": "code",
        "colab": {}
      },
      "source": [
        "df.loc[df['mine'] == 1, 'adjacent'] = np.nan"
      ],
      "execution_count": 0,
      "outputs": []
    },
    {
      "cell_type": "markdown",
      "metadata": {
        "id": "pq0nPyYj0Fsg",
        "colab_type": "text"
      },
      "source": [
        "##Problem 55\n",
        "\n",
        ". Finally, convert the DataFrame to grid of the adjacent mine counts:\n",
        "columns are the `x` coordinate, rows are the `y` coordinate."
      ]
    },
    {
      "cell_type": "code",
      "metadata": {
        "id": "UWKWoGmy0Fsg",
        "colab_type": "code",
        "colab": {}
      },
      "source": [
        "# Enter your code here"
      ],
      "execution_count": 0,
      "outputs": []
    },
    {
      "cell_type": "markdown",
      "metadata": {
        "id": "pDmP9_UK0Fsg",
        "colab_type": "text"
      },
      "source": [
        "###Solution"
      ]
    },
    {
      "cell_type": "code",
      "metadata": {
        "id": "rb92mdJZ0Fsg",
        "colab_type": "code",
        "colab": {}
      },
      "source": [
        "df.drop('mine', axis=1)\\\n",
        "  .set_index(['y', 'x']).unstack()"
      ],
      "execution_count": 0,
      "outputs": []
    },
    {
      "cell_type": "markdown",
      "metadata": {
        "id": "HMYDpiJF0Fsh",
        "colab_type": "text"
      },
      "source": [
        "# Plotting\n",
        "\n",
        " Visualize trends and patterns in data\n",
        "\n",
        "Difficulty: *medium*\n",
        "\n",
        "To\n",
        "really get a good understanding of the data contained in your DataFrame, it is\n",
        "often essential to create plots: if you're lucky, trends and anomalies will jump\n",
        "right out at you. This functionality is baked into pandas and the puzzles below\n",
        "explore some of what's possible with the library.\n",
        "\n",
        "##Problem 56.\n",
        "\n",
        " Pandas is highly\n",
        "integrated with the plotting library matplotlib, and makes plotting DataFrames\n",
        "very user-friendly! Plotting in a notebook environment usually makes use of the\n",
        "following boilerplate:"
      ]
    },
    {
      "cell_type": "code",
      "metadata": {
        "id": "RQ1FL8Lf0Fsh",
        "colab_type": "code",
        "colab": {}
      },
      "source": [
        "# Enter your code here"
      ],
      "execution_count": 0,
      "outputs": []
    },
    {
      "cell_type": "markdown",
      "metadata": {
        "id": "aznKVHFL0Fsh",
        "colab_type": "text"
      },
      "source": [
        "###Solution"
      ]
    },
    {
      "cell_type": "code",
      "metadata": {
        "id": "OEOJWOyr0Fsh",
        "colab_type": "code",
        "colab": {}
      },
      "source": [
        "import matplotlib.pyplot as plt\n",
        "%matplotlib\n",
        "inline\n",
        "plt.style.use('ggplot')"
      ],
      "execution_count": 0,
      "outputs": []
    },
    {
      "cell_type": "markdown",
      "metadata": {
        "id": "DQtMhqHU0Fsi",
        "colab_type": "text"
      },
      "source": [
        "matplotlib is the plotting library which\n",
        "pandas' plotting functionality is built upon, and it is usually aliased to"
      ]
    },
    {
      "cell_type": "code",
      "metadata": {
        "attributes": {
          "classes": [
            "plt```."
          ],
          "id": ""
        },
        "id": "yPTrr8M60Fsm",
        "colab_type": "code",
        "colab": {}
      },
      "source": [
        "\n",
        "```%matplotlib inline``` tells the notebook to show plots inline,\n",
        "instead of creating them in a separate window.  \n",
        "\n",
        "```plt.style.use('ggplot')```\n",
        "is a style theme that most people find agreeable, based upon the styling of R's\n",
        "ggplot package.\n",
        "\n",
        "For starters, make a scatter plot of this random data, but use\n",
        "black X's instead of the default markers. \n",
        "\n",
        "```df =\n",
        "pd.DataFrame({\"xs\":[1,5,2,8,1], \"ys\":[4,2,1,9,6]})```\n",
        "\n",
        "Consult the\n",
        "[documentation](https://pandas.pydata.org/pandas-\n",
        "docs/stable/generated/pandas.DataFrame.plot.html) if you get stuck!\n",
        "\n",
        "```python\n",
        "# Enter your code here"
      ],
      "execution_count": 0,
      "outputs": []
    },
    {
      "cell_type": "markdown",
      "metadata": {
        "id": "MVHCXr-y0Fsn",
        "colab_type": "text"
      },
      "source": [
        "###Solution"
      ]
    },
    {
      "cell_type": "code",
      "metadata": {
        "id": "55JhKrkg0Fsn",
        "colab_type": "code",
        "colab": {}
      },
      "source": [
        "import matplotlib.pyplot as plt\n",
        "%matplotlib inline\n",
        "plt.style.use('ggplot')\n",
        "\n",
        "df = pd.DataFrame({\"xs\":[1,5,2,8,1], \"ys\":[4,2,1,9,6]})\n",
        "\n",
        "df.plot.scatter(\"xs\", \"ys\", color = \"black\", marker = \"x\")"
      ],
      "execution_count": 0,
      "outputs": []
    },
    {
      "cell_type": "markdown",
      "metadata": {
        "id": "J3HYd2DT0Fsn",
        "colab_type": "text"
      },
      "source": [
        "##Problem 57.\n",
        "\n",
        " Columns in your DataFrame can also be used to modify colors and sizes.\n",
        "Bill has been keeping track of his performance at work over time, as well as how\n",
        "good he was feeling that day, and whether he had a cup of coffee in the morning.\n",
        "Make a plot which incorporates all four features of this DataFrame.\n",
        "\n",
        "(Hint:  If\n",
        "you're having trouble seeing the plot, try multiplying the Series which you\n",
        "choose to represent size by 10 or more)\n",
        "\n",
        "*The chart doesn't have to be pretty:\n",
        "this isn't a course in data viz!*"
      ]
    },
    {
      "cell_type": "code",
      "metadata": {
        "id": "2CMNzyZ_0Fsn",
        "colab_type": "code",
        "colab": {}
      },
      "source": [
        "df =\n",
        "pd.DataFrame({\"productivity\":[5,2,3,1,4,5,6,7,8,3,4,8,9],\n",
        "\"hours_in\"    :[1,9,6,5,3,9,2,9,1,7,4,2,2],\n",
        "                   \"happiness\"\n",
        ":[2,1,3,2,3,1,2,3,1,2,2,1,3],\n",
        "                   \"caffienated\"\n",
        ":[0,0,1,1,0,0,0,0,1,1,0,1,0]})"
      ],
      "execution_count": 0,
      "outputs": []
    },
    {
      "cell_type": "code",
      "metadata": {
        "id": "KQDmwfJv0Fso",
        "colab_type": "code",
        "colab": {}
      },
      "source": [
        "# Enter your code here"
      ],
      "execution_count": 0,
      "outputs": []
    },
    {
      "cell_type": "markdown",
      "metadata": {
        "id": "VWwJ7xxN0Fso",
        "colab_type": "text"
      },
      "source": [
        "###Solution"
      ]
    },
    {
      "cell_type": "code",
      "metadata": {
        "id": "ROxP6XNS0Fso",
        "colab_type": "code",
        "colab": {}
      },
      "source": [
        "df = pd.DataFrame({\"productivity\":[5,2,3,1,4,5,6,7,8,3,4,8,9],\n",
        "                   \"hours_in\"    :[1,9,6,5,3,9,2,9,1,7,4,2,2],\n",
        "                   \"happiness\"   :[2,1,3,2,3,1,2,3,1,2,2,1,3],\n",
        "                   \"caffienated\" :[0,0,1,1,0,0,0,0,1,1,0,1,0]})\n",
        "\n",
        "df.plot.scatter(\"hours_in\", \"productivity\", s = df.happiness * 30, c = df.caffienated)"
      ],
      "execution_count": 0,
      "outputs": []
    },
    {
      "cell_type": "markdown",
      "metadata": {
        "id": "O33Ff-kK0Fso",
        "colab_type": "text"
      },
      "source": [
        "##Problem 58.\n",
        "\n",
        "  What if we want to plot multiple things?  Pandas allows you to pass in\n",
        "a matplotlib *Axis* object for plots, and plots will also return an Axis object.\n",
        "Make a bar plot of monthly revenue with a line plot of monthly advertising\n",
        "spending (numbers in millions)"
      ]
    },
    {
      "cell_type": "code",
      "metadata": {
        "id": "hwcG_UOD0Fsp",
        "colab_type": "code",
        "colab": {}
      },
      "source": [
        "df =\n",
        "pd.DataFrame({\"revenue\":[57,68,63,71,72,90,80,62,59,51,47,52],\n",
        "\"advertising\":[2.1,1.9,2.7,3.0,3.6,3.2,2.7,2.4,1.8,1.6,1.3,1.9],\n",
        "\"month\":range(12)\n",
        "                  })"
      ],
      "execution_count": 0,
      "outputs": []
    },
    {
      "cell_type": "code",
      "metadata": {
        "id": "xFGjkQuP0Fsp",
        "colab_type": "code",
        "colab": {}
      },
      "source": [
        "# Enter your code here"
      ],
      "execution_count": 0,
      "outputs": []
    },
    {
      "cell_type": "markdown",
      "metadata": {
        "id": "xVUjOVsZ0Fsp",
        "colab_type": "text"
      },
      "source": [
        "###Solution"
      ]
    },
    {
      "cell_type": "code",
      "metadata": {
        "id": "YbvEsGKi0Fsp",
        "colab_type": "code",
        "colab": {}
      },
      "source": [
        "df = pd.DataFrame({\"revenue\":[57,68,63,71,72,90,80,62,59,51,47,52],\n",
        "                   \"advertising\":[2.1,1.9,2.7,3.0,3.6,3.2,2.7,2.4,1.8,1.6,1.3,1.9],\n",
        "                   \"month\":range(12)\n",
        "                  })\n",
        "\n",
        "ax = df.plot.bar(\"month\", \"revenue\", color = \"green\")\n",
        "df.plot.line(\"month\", \"advertising\", secondary_y = True, ax = ax)\n",
        "ax.set_xlim((-1,12))"
      ],
      "execution_count": 0,
      "outputs": []
    },
    {
      "cell_type": "markdown",
      "metadata": {
        "id": "UTHxyH600Fss",
        "colab_type": "text"
      },
      "source": [
        "Now we're finally ready to create a candlestick chart, which is a very common\n",
        "tool used to analyze stock price data.  A candlestick chart shows the opening,\n",
        "closing, highest, and lowest price for a stock during a time window.  The color\n",
        "of the \"candle\" (the thick part of the bar) is green if the stock closed above\n",
        "its opening price, or red if below.\n",
        "\n",
        "![Candlestick Example](img/candle.jpg)\n",
        "This was initially designed to be a pandas plotting challenge, but it just so\n",
        "happens that this type of plot is just not feasible using pandas' methods.  If\n",
        "you are unfamiliar with matplotlib, we have provided a function that will plot\n",
        "the chart for you so long as you can use pandas to get the data into the correct\n",
        "format.\n",
        "\n",
        "Your first step should be to get the data in the correct format using\n",
        "pandas' time-series grouping function.  We would like each candle to represent\n",
        "an hour's worth of data.  You can write your own aggregation function which\n",
        "returns the open/high/low/close, but pandas has a built-in which also does this.\n",
        "\n",
        "The below cell contains helper functions.  Call ```day_stock_data()``` to\n",
        "generate a DataFrame containing the prices a hypothetical stock sold for, and\n",
        "the time the sale occurred.  Call ```plot_candlestick(df)``` on your properly\n",
        "aggregated and formatted stock data to print the candlestick chart."
      ]
    },
    {
      "cell_type": "code",
      "metadata": {
        "id": "SWL1Au410Fss",
        "colab_type": "code",
        "colab": {}
      },
      "source": [
        "# Enter your code here"
      ],
      "execution_count": 0,
      "outputs": []
    },
    {
      "cell_type": "markdown",
      "metadata": {
        "id": "VJ1pQmYU0Fst",
        "colab_type": "text"
      },
      "source": [
        "###Solution"
      ]
    },
    {
      "cell_type": "code",
      "metadata": {
        "id": "9noemjoL0Fst",
        "colab_type": "code",
        "colab": {}
      },
      "source": [
        "#This function is designed to create semi-interesting random stock price data\n",
        "\n",
        "import numpy as np\n",
        "def float_to_time(x):\n",
        "    return str(int(x)) + \":\" + str(int(x%1 * 60)).zfill(2) + \":\" + str(int(x*60 % 1 * 60)).zfill(2)\n",
        "\n",
        "def day_stock_data():\n",
        "    #NYSE is open from 9:30 to 4:00\n",
        "    time = 9.5\n",
        "    price = 100\n",
        "    results = [(float_to_time(time), price)]\n",
        "    while time < 16:\n",
        "        elapsed = np.random.exponential(.001)\n",
        "        time += elapsed\n",
        "        if time > 16:\n",
        "            break\n",
        "        price_diff = np.random.uniform(.999, 1.001)\n",
        "        price *= price_diff\n",
        "        results.append((float_to_time(time), price))\n",
        "    \n",
        "    \n",
        "    df = pd.DataFrame(results, columns = ['time','price'])\n",
        "    df.time = pd.to_datetime(df.time)\n",
        "    return df\n",
        "\n",
        "def plot_candlestick(agg):\n",
        "    fig, ax = plt.subplots()\n",
        "    for time in agg.index:\n",
        "        ax.plot([time.hour] * 2, agg.loc[time, [\"high\",\"low\"]].values, color = \"black\")\n",
        "        ax.plot([time.hour] * 2, agg.loc[time, [\"open\",\"close\"]].values, color = agg.loc[time, \"color\"], linewidth = 10)\n",
        "\n",
        "    ax.set_xlim((8,16))\n",
        "    ax.set_ylabel(\"Price\")\n",
        "    ax.set_xlabel(\"Hour\")\n",
        "    ax.set_title(\"OHLC of Stock Value During Trading Day\")\n",
        "    plt.show()"
      ],
      "execution_count": 0,
      "outputs": []
    },
    {
      "cell_type": "markdown",
      "metadata": {
        "id": "1QkTrm_w0Fst",
        "colab_type": "text"
      },
      "source": [
        "##Problem 59.\n",
        "\n",
        " Generate a day's worth of random stock data, and aggregate / reformat it\n",
        "so that it has hourly summaries of the opening, highest, lowest, and closing\n",
        "prices"
      ]
    },
    {
      "cell_type": "code",
      "metadata": {
        "id": "ZIlD9ExM0Fst",
        "colab_type": "code",
        "colab": {}
      },
      "source": [
        "# Enter your code here"
      ],
      "execution_count": 0,
      "outputs": []
    },
    {
      "cell_type": "markdown",
      "metadata": {
        "id": "JTrruRSQ0Fsu",
        "colab_type": "text"
      },
      "source": [
        "###Solution"
      ]
    },
    {
      "cell_type": "code",
      "metadata": {
        "id": "sJwAbSoJ0Fsu",
        "colab_type": "code",
        "colab": {}
      },
      "source": [
        "df = day_stock_data()\n",
        "df.head()"
      ],
      "execution_count": 0,
      "outputs": []
    },
    {
      "cell_type": "code",
      "metadata": {
        "id": "wcwRnPRL0Fsv",
        "colab_type": "code",
        "colab": {}
      },
      "source": [
        "# Enter your code here"
      ],
      "execution_count": 0,
      "outputs": []
    },
    {
      "cell_type": "markdown",
      "metadata": {
        "id": "9PpBNnZJ0Fsw",
        "colab_type": "text"
      },
      "source": [
        "###Solution"
      ]
    },
    {
      "cell_type": "code",
      "metadata": {
        "id": "o7FYOmF40Fsw",
        "colab_type": "code",
        "colab": {}
      },
      "source": [
        "df.set_index(\"time\", inplace = True)\n",
        "agg = df.resample(\"H\").ohlc()\n",
        "agg.columns = agg.columns.droplevel()\n",
        "agg[\"color\"] = (agg.close > agg.open).map({True:\"green\",False:\"red\"})\n",
        "agg.head()"
      ],
      "execution_count": 0,
      "outputs": []
    },
    {
      "cell_type": "markdown",
      "metadata": {
        "id": "d30mKPpb0Fsw",
        "colab_type": "text"
      },
      "source": [
        "##Problem 60.\n",
        "\n",
        " Now that you have your properly-formatted data, try to plot it yourself\n",
        "as a candlestick chart.  Use the ```plot_candlestick(df)``` function above, or\n",
        "matplotlib's [```plot```\n",
        "documentation](https://matplotlib.org/api/_as_gen/matplotlib.axes.Axes.plot.html)\n",
        "if you get stuck."
      ]
    },
    {
      "cell_type": "code",
      "metadata": {
        "id": "_aWGPpv10Fsw",
        "colab_type": "code",
        "colab": {}
      },
      "source": [
        "# Enter your code here"
      ],
      "execution_count": 0,
      "outputs": []
    },
    {
      "cell_type": "markdown",
      "metadata": {
        "id": "8g8hvz0O0Fsx",
        "colab_type": "text"
      },
      "source": [
        "###Solution"
      ]
    },
    {
      "cell_type": "code",
      "metadata": {
        "id": "8ERAOQFM0Fsx",
        "colab_type": "code",
        "colab": {}
      },
      "source": [
        "plot_candlestick(agg)"
      ],
      "execution_count": 0,
      "outputs": []
    },
    {
      "cell_type": "markdown",
      "metadata": {
        "id": "g6FSO8500Fsy",
        "colab_type": "text"
      },
      "source": [
        "*More exercises to follow soon...*"
      ]
    }
  ]
}