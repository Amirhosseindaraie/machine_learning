{
  "nbformat": 4,
  "nbformat_minor": 0,
  "metadata": {
    "colab": {
      "name": "pandas_problems.ipynb",
      "version": "0.3.2",
      "provenance": [],
      "toc_visible": true,
      "include_colab_link": true
    },
    "kernelspec": {
      "name": "python3",
      "display_name": "Python 3"
    }
  },
  "cells": [
    {
      "cell_type": "markdown",
      "metadata": {
        "id": "view-in-github",
        "colab_type": "text"
      },
      "source": [
        "<a href=\"https://colab.research.google.com/github/fbeilstein/machine_learning/blob/master/practice_3_pandas_problems.ipynb\" target=\"_parent\"><img src=\"https://colab.research.google.com/assets/colab-badge.svg\" alt=\"Open In Colab\"/></a>"
      ]
    },
    {
      "cell_type": "markdown",
      "metadata": {
        "id": "tv61qZNL0Fpj",
        "colab_type": "text"
      },
      "source": [
        "# Importing pandas\n",
        "\n",
        "Getting started and checking your pandas setup.\n",
        "\n",
        "\n",
        "Difficulty: **easy**"
      ]
    },
    {
      "cell_type": "markdown",
      "metadata": {
        "id": "bm_CDctI0L0f",
        "colab_type": "text"
      },
      "source": [
        "##Problem 1.\n",
        "\n"
      ]
    },
    {
      "cell_type": "markdown",
      "metadata": {
        "id": "O3B5ERgt0dZV",
        "colab_type": "text"
      },
      "source": [
        " Import pandas under the name `pd`."
      ]
    },
    {
      "cell_type": "code",
      "metadata": {
        "id": "gJM62vHA0Fpk",
        "colab_type": "code",
        "colab": {}
      },
      "source": [
        "# Enter your code here"
      ],
      "execution_count": 0,
      "outputs": []
    },
    {
      "cell_type": "markdown",
      "metadata": {
        "id": "cMZFvXS70Fpm",
        "colab_type": "text"
      },
      "source": [
        "###Solution"
      ]
    },
    {
      "cell_type": "code",
      "metadata": {
        "id": "l1oa68Wh0Fpn",
        "colab_type": "code",
        "colab": {}
      },
      "source": [
        "import pandas as pd"
      ],
      "execution_count": 0,
      "outputs": []
    },
    {
      "cell_type": "markdown",
      "metadata": {
        "id": "JnPc49S50Fpo",
        "colab_type": "text"
      },
      "source": [
        "##Problem 2."
      ]
    },
    {
      "cell_type": "markdown",
      "metadata": {
        "id": "B8RwOU_ZRCyC",
        "colab_type": "text"
      },
      "source": [
        " Print the version of pandas that has been imported."
      ]
    },
    {
      "cell_type": "code",
      "metadata": {
        "id": "dIcdlg9C0Fpp",
        "colab_type": "code",
        "colab": {}
      },
      "source": [
        "import pandas as pd\n",
        "\n",
        "# Enter your code here"
      ],
      "execution_count": 0,
      "outputs": []
    },
    {
      "cell_type": "markdown",
      "metadata": {
        "id": "pvnRJFyB0Fpq",
        "colab_type": "text"
      },
      "source": [
        "###Solution"
      ]
    },
    {
      "cell_type": "code",
      "metadata": {
        "id": "XSaqlTH80Fpr",
        "colab_type": "code",
        "colab": {}
      },
      "source": [
        "import pandas as pd\n",
        "\n",
        "# Solution\n",
        "pd.__version__"
      ],
      "execution_count": 0,
      "outputs": []
    },
    {
      "cell_type": "markdown",
      "metadata": {
        "id": "_s95ygNE0Fps",
        "colab_type": "text"
      },
      "source": [
        "##Problem 3."
      ]
    },
    {
      "cell_type": "markdown",
      "metadata": {
        "id": "AYjIeGivRVYJ",
        "colab_type": "text"
      },
      "source": [
        "Print out all the version information of the libraries that are required by the pandas library."
      ]
    },
    {
      "cell_type": "code",
      "metadata": {
        "id": "Pjg_ZomG0Fpt",
        "colab_type": "code",
        "colab": {}
      },
      "source": [
        "import pandas as pd\n",
        "\n",
        "# Enter your code here"
      ],
      "execution_count": 0,
      "outputs": []
    },
    {
      "cell_type": "markdown",
      "metadata": {
        "id": "Ormr5VBC0Fpu",
        "colab_type": "text"
      },
      "source": [
        "###Solution"
      ]
    },
    {
      "cell_type": "code",
      "metadata": {
        "id": "uQctTimb0Fpv",
        "colab_type": "code",
        "colab": {}
      },
      "source": [
        "import pandas as pd\n",
        "\n",
        "# Solution\n",
        "pd.show_versions()"
      ],
      "execution_count": 0,
      "outputs": []
    },
    {
      "cell_type": "markdown",
      "metadata": {
        "id": "32Uywid20Fpw",
        "colab_type": "text"
      },
      "source": [
        "# DataFrame basics\n",
        "\n",
        "A few of the fundamental routines for selecting, sorting, adding and aggregating data in DataFrames.\n",
        "\n",
        "Difficulty: **easy**\n",
        "\n"
      ]
    },
    {
      "cell_type": "markdown",
      "metadata": {
        "id": "KRzKusR00Fp6",
        "colab_type": "text"
      },
      "source": [
        "##Problem 4.\n"
      ]
    },
    {
      "cell_type": "markdown",
      "metadata": {
        "id": "xIgTH3wESKWg",
        "colab_type": "text"
      },
      "source": [
        "Create a DataFrame from given Python dictionary data\n",
        "\n",
        "**Possible Input:**\n",
        "```python\n",
        "data = {'animal': ['cat', 'cat', 'snake', 'dog', 'dog', 'cat', 'snake', 'cat', 'dog', 'dog'],\n",
        "        'age': [2.5, 3, 0.5, np.nan, 5, 2, 4.5, np.nan, 7, 3],\n",
        "        'visits': [1, 3, 2, 3, 2, 3, 1, 1, 2, 1],\n",
        "        'priority': ['yes', 'yes', 'no', 'yes', 'no', 'no', 'no', 'yes', 'no', 'no']}\n",
        "labels = ['a', 'b', 'c', 'd', 'e', 'f', 'g', 'h', 'i', 'j']\n",
        "```\n",
        "\n",
        "**Expected Output:**\n",
        "```\n",
        "\tanimal\tage\tvisits\tpriority\n",
        "a\tcat\t2.5\t1\tyes\n",
        "b\tcat\t3.0\t3\tyes\n",
        "c\tsnake\t0.5\t2\tno\n",
        "d\tdog\tNaN\t3\tyes\n",
        "e\tdog\t5.0\t2\tno\n",
        "f\tcat\t2.0\t3\tno\n",
        "g\tsnake\t4.5\t1\tno\n",
        "h\tcat\tNaN\t1\tyes\n",
        "i\tdog\t7.0\t2\tno\n",
        "j\tdog\t3.0\t1\tno\n",
        "```\n",
        "\n"
      ]
    },
    {
      "cell_type": "code",
      "metadata": {
        "id": "vi9VdmQo0Fpx",
        "colab_type": "code",
        "colab": {}
      },
      "source": [
        "import numpy as np\n",
        "import pandas as pd\n",
        "\n",
        "# Input\n",
        "data = {'animal'  : ['cat', 'cat', 'snake',  'dog', 'dog', 'cat', 'snake',  'cat', 'dog', 'dog'],\n",
        "        'age'     : [  2.5,     3,     0.5, np.nan,     5,     2,     4.5, np.nan,     7,     3],\n",
        "        'visits'  : [    1,     3,       2,      3,     2,     3,       1,      1,     2,     1],\n",
        "        'priority': ['yes', 'yes',    'no',  'yes',  'no',  'no',    'no',  'yes',  'no',  'no']}\n",
        "labels =            [  'a',   'b',     'c',    'd',   'e',   'f',     'g',    'h',   'i',   'j']\n",
        "df = pd.DataFrame(data, index=labels)\n",
        "\n",
        "# Enter your code here"
      ],
      "execution_count": 0,
      "outputs": []
    },
    {
      "cell_type": "markdown",
      "metadata": {
        "id": "uWVQBDAe0Fp9",
        "colab_type": "text"
      },
      "source": [
        "###Solution"
      ]
    },
    {
      "cell_type": "code",
      "metadata": {
        "id": "xtDBwdGo0Fp9",
        "colab_type": "code",
        "colab": {}
      },
      "source": [
        "import numpy as np\n",
        "import pandas as pd\n",
        "\n",
        "# Input\n",
        "data = {'animal'  : ['cat', 'cat', 'snake',  'dog', 'dog', 'cat', 'snake',  'cat', 'dog', 'dog'],\n",
        "        'age'     : [  2.5,     3,     0.5, np.nan,     5,     2,     4.5, np.nan,     7,     3],\n",
        "        'visits'  : [    1,     3,       2,      3,     2,     3,       1,      1,     2,     1],\n",
        "        'priority': ['yes', 'yes',    'no',  'yes',  'no',  'no',    'no',  'yes',  'no',  'no']}\n",
        "labels =            [  'a',   'b',     'c',    'd',   'e',   'f',     'g',    'h',   'i',   'j']\n",
        "df = pd.DataFrame(data, index=labels)\n",
        "\n",
        "# Solution\n",
        "pd.DataFrame(data, index=labels)"
      ],
      "execution_count": 0,
      "outputs": []
    },
    {
      "cell_type": "markdown",
      "metadata": {
        "id": "4ZcGduQU0Fp_",
        "colab_type": "text"
      },
      "source": [
        "##Problem 5."
      ]
    },
    {
      "cell_type": "markdown",
      "metadata": {
        "id": "gvFBAFnvjN4J",
        "colab_type": "text"
      },
      "source": [
        "**Problem:**\n",
        "Display a summary on Python Objects contained within the given DataFrame.\n",
        "\n",
        "**Possible Input:**\n",
        "```python\n",
        "data = {'animal': ['cat', 'cat', 'snake', 'dog', 'dog', 'cat', 'snake', 'cat', 'dog', 'dog'],\n",
        "        'age': [2.5, 3, 0.5, np.nan, 5, 2, 4.5, np.nan, 7, 3],\n",
        "        'visits': [1, 3, 2, 3, 2, 3, 1, 1, 2, 1],\n",
        "        'priority': ['yes', 'yes', 'no', 'yes', 'no', 'no', 'no', 'yes', 'no', 'no']}\n",
        "labels = ['a', 'b', 'c', 'd', 'e', 'f', 'g', 'h', 'i', 'j']\n",
        "df = pd.DataFrame(data, index=labels)\n",
        "```\n",
        "\n",
        "**Expected Output:**\n",
        "```\n",
        "<class 'pandas.core.frame.DataFrame'>\n",
        "Index: 10 entries, a to j\n",
        "Data columns (total 4 columns):\n",
        "animal      10 non-null object\n",
        "age         8 non-null float64\n",
        "visits      10 non-null int64\n",
        "priority    10 non-null object\n",
        "dtypes: float64(1), int64(1), object(2)\n",
        "memory usage: 400.0+ bytes\n",
        "```"
      ]
    },
    {
      "cell_type": "code",
      "metadata": {
        "id": "QP3gyJtH0Fp_",
        "colab_type": "code",
        "colab": {}
      },
      "source": [
        "import numpy as np\n",
        "import pandas as pd\n",
        "\n",
        "# Input\n",
        "data = {'animal'  : ['cat', 'cat', 'snake',  'dog', 'dog', 'cat', 'snake',  'cat', 'dog', 'dog'],\n",
        "        'age'     : [  2.5,     3,     0.5, np.nan,     5,     2,     4.5, np.nan,     7,     3],\n",
        "        'visits'  : [    1,     3,       2,      3,     2,     3,       1,      1,     2,     1],\n",
        "        'priority': ['yes', 'yes',    'no',  'yes',  'no',  'no',    'no',  'yes',  'no',  'no']}\n",
        "labels =            [  'a',   'b',     'c',    'd',   'e',   'f',     'g',    'h',   'i',   'j']\n",
        "df = pd.DataFrame(data, index=labels)\n",
        "\n",
        "# Enter your code here"
      ],
      "execution_count": 0,
      "outputs": []
    },
    {
      "cell_type": "markdown",
      "metadata": {
        "id": "JMWwxYzT0FqA",
        "colab_type": "text"
      },
      "source": [
        "###Solution:"
      ]
    },
    {
      "cell_type": "code",
      "metadata": {
        "id": "KY1aQgJ90FqB",
        "colab_type": "code",
        "colab": {}
      },
      "source": [
        "import numpy as np\n",
        "import pandas as pd\n",
        "\n",
        "# Input\n",
        "data = {'animal'  : ['cat', 'cat', 'snake',  'dog', 'dog', 'cat', 'snake',  'cat', 'dog', 'dog'],\n",
        "        'age'     : [  2.5,     3,     0.5, np.nan,     5,     2,     4.5, np.nan,     7,     3],\n",
        "        'visits'  : [    1,     3,       2,      3,     2,     3,       1,      1,     2,     1],\n",
        "        'priority': ['yes', 'yes',    'no',  'yes',  'no',  'no',    'no',  'yes',  'no',  'no']}\n",
        "labels =            [  'a',   'b',     'c',    'd',   'e',   'f',     'g',    'h',   'i',   'j']\n",
        "df = pd.DataFrame(data, index=labels)\n",
        "\n",
        "# Solution\n",
        "df.info()"
      ],
      "execution_count": 0,
      "outputs": []
    },
    {
      "cell_type": "markdown",
      "metadata": {
        "colab_type": "text",
        "id": "tsY78ko-iVRS"
      },
      "source": [
        "##Problem 5.5."
      ]
    },
    {
      "cell_type": "markdown",
      "metadata": {
        "id": "G6kFBw49qByV",
        "colab_type": "text"
      },
      "source": [
        "**Problem:**\n",
        "Display a summary on information contained within DataFrame given.\n",
        "\n",
        "**Possible Input:**\n",
        "```python\n",
        "data = {'animal': ['cat', 'cat', 'snake', 'dog', 'dog', 'cat', 'snake', 'cat', 'dog', 'dog'],\n",
        "        'age': [2.5, 3, 0.5, np.nan, 5, 2, 4.5, np.nan, 7, 3],\n",
        "        'visits': [1, 3, 2, 3, 2, 3, 1, 1, 2, 1],\n",
        "        'priority': ['yes', 'yes', 'no', 'yes', 'no', 'no', 'no', 'yes', 'no', 'no']}\n",
        "labels = ['a', 'b', 'c', 'd', 'e', 'f', 'g', 'h', 'i', 'j']\n",
        "df = pd.DataFrame(data, index=labels)\n",
        "```\n",
        "\n",
        "**Expected Output:**\n",
        "```\n",
        "\t         age\tvisits\n",
        "count\t8.000000\t10.000000\n",
        "mean\t3.437500\t1.900000\n",
        "std\t2.007797\t0.875595\n",
        "min\t0.500000\t1.000000\n",
        "25%\t2.375000\t1.000000\n",
        "50%\t3.000000\t2.000000\n",
        "75%\t4.625000\t2.750000\n",
        "max\t7.000000\t3.000000\n",
        "```\n",
        "\n"
      ]
    },
    {
      "cell_type": "code",
      "metadata": {
        "id": "TiuY25jVimNd",
        "colab_type": "code",
        "colab": {}
      },
      "source": [
        "import numpy as np\n",
        "import pandas as pd\n",
        "\n",
        "# Input\n",
        "data = {'animal'  : ['cat', 'cat', 'snake',  'dog', 'dog', 'cat', 'snake',  'cat', 'dog', 'dog'],\n",
        "        'age'     : [  2.5,     3,     0.5, np.nan,     5,     2,     4.5, np.nan,     7,     3],\n",
        "        'visits'  : [    1,     3,       2,      3,     2,     3,       1,      1,     2,     1],\n",
        "        'priority': ['yes', 'yes',    'no',  'yes',  'no',  'no',    'no',  'yes',  'no',  'no']}\n",
        "labels =            [  'a',   'b',     'c',    'd',   'e',   'f',     'g',    'h',   'i',   'j']\n",
        "df = pd.DataFrame(data, index=labels)\n",
        "\n",
        "# Enter your code here"
      ],
      "execution_count": 0,
      "outputs": []
    },
    {
      "cell_type": "markdown",
      "metadata": {
        "id": "7tq67T2OTLtf",
        "colab_type": "text"
      },
      "source": [
        "###Solution:"
      ]
    },
    {
      "cell_type": "code",
      "metadata": {
        "id": "45j5aomzTGWU",
        "colab_type": "code",
        "colab": {}
      },
      "source": [
        "import numpy as np\n",
        "import pandas as pd\n",
        "\n",
        "# Input\n",
        "data = {'animal'  : ['cat', 'cat', 'snake',  'dog', 'dog', 'cat', 'snake',  'cat', 'dog', 'dog'],\n",
        "        'age'     : [  2.5,     3,     0.5, np.nan,     5,     2,     4.5, np.nan,     7,     3],\n",
        "        'visits'  : [    1,     3,       2,      3,     2,     3,       1,      1,     2,     1],\n",
        "        'priority': ['yes', 'yes',    'no',  'yes',  'no',  'no',    'no',  'yes',  'no',  'no']}\n",
        "labels =            [  'a',   'b',     'c',    'd',   'e',   'f',     'g',    'h',   'i',   'j']\n",
        "df = pd.DataFrame(data, index=labels)\n",
        "\n",
        "# Solution\n",
        "df.describe()"
      ],
      "execution_count": 0,
      "outputs": []
    },
    {
      "cell_type": "markdown",
      "metadata": {
        "id": "ThZvUPRp0FqC",
        "colab_type": "text"
      },
      "source": [
        "##Problem 6."
      ]
    },
    {
      "cell_type": "markdown",
      "metadata": {
        "id": "7yQ-TuTBquxw",
        "colab_type": "text"
      },
      "source": [
        "**Problem:**\n",
        "Return the first 3 rows of the DataFrame given.\n",
        "\n",
        "**Possible Input:**\n",
        "```python\n",
        "data = {'animal': ['cat', 'cat', 'snake', 'dog', 'dog', 'cat', 'snake', 'cat', 'dog', 'dog'],\n",
        "        'age': [2.5, 3, 0.5, np.nan, 5, 2, 4.5, np.nan, 7, 3],\n",
        "        'visits': [1, 3, 2, 3, 2, 3, 1, 1, 2, 1],\n",
        "        'priority': ['yes', 'yes', 'no', 'yes', 'no', 'no', 'no', 'yes', 'no', 'no']}\n",
        "labels = ['a', 'b', 'c', 'd', 'e', 'f', 'g', 'h', 'i', 'j']\n",
        "df = pd.DataFrame(data, index=labels)\n",
        "```\n",
        "\n",
        "**Expected Output:**\n",
        "```\n",
        "\tanimal\tage\tvisits\tpriority\n",
        "a\tcat\t2.5\t1\tyes\n",
        "b\tcat\t3.0\t3\tyes\n",
        "c\tsnake\t0.5\t2\tno\n",
        "```\n",
        "\n"
      ]
    },
    {
      "cell_type": "code",
      "metadata": {
        "id": "kn-iXYNj0FqC",
        "colab_type": "code",
        "colab": {}
      },
      "source": [
        "import numpy as np\n",
        "import pandas as pd\n",
        "\n",
        "# Input\n",
        "data = {'animal'  : ['cat', 'cat', 'snake',  'dog', 'dog', 'cat', 'snake',  'cat', 'dog', 'dog'],\n",
        "        'age'     : [  2.5,     3,     0.5, np.nan,     5,     2,     4.5, np.nan,     7,     3],\n",
        "        'visits'  : [    1,     3,       2,      3,     2,     3,       1,      1,     2,     1],\n",
        "        'priority': ['yes', 'yes',    'no',  'yes',  'no',  'no',    'no',  'yes',  'no',  'no']}\n",
        "labels =            [  'a',   'b',     'c',    'd',   'e',   'f',     'g',    'h',   'i',   'j']\n",
        "df = pd.DataFrame(data, index=labels)\n",
        "\n",
        "# Enter your code here"
      ],
      "execution_count": 0,
      "outputs": []
    },
    {
      "cell_type": "markdown",
      "metadata": {
        "id": "tr-cCA680FqE",
        "colab_type": "text"
      },
      "source": [
        "###Solution A:"
      ]
    },
    {
      "cell_type": "code",
      "metadata": {
        "id": "eQ4tq0iI0FqF",
        "colab_type": "code",
        "colab": {}
      },
      "source": [
        "import numpy as np\n",
        "import pandas as pd\n",
        "\n",
        "# Input\n",
        "data = {'animal'  : ['cat', 'cat', 'snake',  'dog', 'dog', 'cat', 'snake',  'cat', 'dog', 'dog'],\n",
        "        'age'     : [  2.5,     3,     0.5, np.nan,     5,     2,     4.5, np.nan,     7,     3],\n",
        "        'visits'  : [    1,     3,       2,      3,     2,     3,       1,      1,     2,     1],\n",
        "        'priority': ['yes', 'yes',    'no',  'yes',  'no',  'no',    'no',  'yes',  'no',  'no']}\n",
        "labels =            [  'a',   'b',     'c',    'd',   'e',   'f',     'g',    'h',   'i',   'j']\n",
        "df = pd.DataFrame(data, index=labels)\n",
        "\n",
        "# Solution\n",
        "df.iloc[:3]"
      ],
      "execution_count": 0,
      "outputs": []
    },
    {
      "cell_type": "markdown",
      "metadata": {
        "id": "TEk8T0Erqmb_",
        "colab_type": "text"
      },
      "source": [
        "###Solution B:"
      ]
    },
    {
      "cell_type": "code",
      "metadata": {
        "id": "JUBF9VMIqOE9",
        "colab_type": "code",
        "colab": {}
      },
      "source": [
        "import numpy as np\n",
        "import pandas as pd\n",
        "\n",
        "# Input\n",
        "data = {'animal'  : ['cat', 'cat', 'snake',  'dog', 'dog', 'cat', 'snake',  'cat', 'dog', 'dog'],\n",
        "        'age'     : [  2.5,     3,     0.5, np.nan,     5,     2,     4.5, np.nan,     7,     3],\n",
        "        'visits'  : [    1,     3,       2,      3,     2,     3,       1,      1,     2,     1],\n",
        "        'priority': ['yes', 'yes',    'no',  'yes',  'no',  'no',    'no',  'yes',  'no',  'no']}\n",
        "labels =            [  'a',   'b',     'c',    'd',   'e',   'f',     'g',    'h',   'i',   'j']\n",
        "df = pd.DataFrame(data, index=labels)\n",
        "\n",
        "# Solution\n",
        "df.head(3)"
      ],
      "execution_count": 0,
      "outputs": []
    },
    {
      "cell_type": "markdown",
      "metadata": {
        "id": "Qvb_CZML0FqI",
        "colab_type": "text"
      },
      "source": [
        "##Problem 7.\n",
        "\n"
      ]
    },
    {
      "cell_type": "markdown",
      "metadata": {
        "id": "JC0uu7wwl8a9",
        "colab_type": "text"
      },
      "source": [
        " **Problem:**\n",
        " Select just the \"animal\" and \"age\" columns from the DataFrame given.\n",
        " \n",
        " **Possible Input:**\n",
        " ```python\n",
        "data = {'animal': ['cat', 'cat', 'snake', 'dog', 'dog', 'cat', 'snake', 'cat', 'dog', 'dog'],\n",
        "        'age': [2.5, 3, 0.5, np.nan, 5, 2, 4.5, np.nan, 7, 3],\n",
        "        'visits': [1, 3, 2, 3, 2, 3, 1, 1, 2, 1],\n",
        "        'priority': ['yes', 'yes', 'no', 'yes', 'no', 'no', 'no', 'yes', 'no', 'no']}\n",
        "labels = ['a', 'b', 'c', 'd', 'e', 'f', 'g', 'h', 'i', 'j']\n",
        "df = pd.DataFrame(data, index=labels)\n",
        "```\n",
        "\n",
        "**Expected Output:**\n",
        "```\n",
        "\tanimal\tage\n",
        "a\tcat\t2.5\n",
        "b\tcat\t3.0\n",
        "c\tsnake\t0.5\n",
        "d\tdog\tNaN\n",
        "e\tdog\t5.0\n",
        "f\tcat\t2.0\n",
        "g\tsnake\t4.5\n",
        "h\tcat\tNaN\n",
        "i\tdog\t7.0\n",
        "j\tdog\t3.0\n",
        "```"
      ]
    },
    {
      "cell_type": "code",
      "metadata": {
        "id": "D8BXPDKT0FqJ",
        "colab_type": "code",
        "colab": {}
      },
      "source": [
        "import numpy as np\n",
        "import pandas as pd\n",
        "\n",
        "# Input\n",
        "data = {'animal'  : ['cat', 'cat', 'snake',  'dog', 'dog', 'cat', 'snake',  'cat', 'dog', 'dog'],\n",
        "        'age'     : [  2.5,     3,     0.5, np.nan,     5,     2,     4.5, np.nan,     7,     3],\n",
        "        'visits'  : [    1,     3,       2,      3,     2,     3,       1,      1,     2,     1],\n",
        "        'priority': ['yes', 'yes',    'no',  'yes',  'no',  'no',    'no',  'yes',  'no',  'no']}\n",
        "labels =            [  'a',   'b',     'c',    'd',   'e',   'f',     'g',    'h',   'i',   'j']\n",
        "df = pd.DataFrame(data, index=labels)\n",
        "\n",
        "# Enter your code here"
      ],
      "execution_count": 0,
      "outputs": []
    },
    {
      "cell_type": "markdown",
      "metadata": {
        "id": "Fse9ayd50FqK",
        "colab_type": "text"
      },
      "source": [
        "###Solution A:"
      ]
    },
    {
      "cell_type": "code",
      "metadata": {
        "id": "B1DPQPPn0FqL",
        "colab_type": "code",
        "colab": {}
      },
      "source": [
        "import numpy as np\n",
        "import pandas as pd\n",
        "\n",
        "# Input\n",
        "data = {'animal'  : ['cat', 'cat', 'snake',  'dog', 'dog', 'cat', 'snake',  'cat', 'dog', 'dog'],\n",
        "        'age'     : [  2.5,     3,     0.5, np.nan,     5,     2,     4.5, np.nan,     7,     3],\n",
        "        'visits'  : [    1,     3,       2,      3,     2,     3,       1,      1,     2,     1],\n",
        "        'priority': ['yes', 'yes',    'no',  'yes',  'no',  'no',    'no',  'yes',  'no',  'no']}\n",
        "labels =            [  'a',   'b',     'c',    'd',   'e',   'f',     'g',    'h',   'i',   'j']\n",
        "df = pd.DataFrame(data, index=labels)\n",
        "\n",
        "# Solution\n",
        "df.loc[:, ['animal', 'age']]"
      ],
      "execution_count": 0,
      "outputs": []
    },
    {
      "cell_type": "markdown",
      "metadata": {
        "id": "50nDtZgXnYW4",
        "colab_type": "text"
      },
      "source": [
        "###Solution B:"
      ]
    },
    {
      "cell_type": "code",
      "metadata": {
        "id": "JAmGlHhrlUqR",
        "colab_type": "code",
        "colab": {}
      },
      "source": [
        "import numpy as np\n",
        "import pandas as pd\n",
        "\n",
        "# Input\n",
        "data = {'animal'  : ['cat', 'cat', 'snake',  'dog', 'dog', 'cat', 'snake',  'cat', 'dog', 'dog'],\n",
        "        'age'     : [  2.5,     3,     0.5, np.nan,     5,     2,     4.5, np.nan,     7,     3],\n",
        "        'visits'  : [    1,     3,       2,      3,     2,     3,       1,      1,     2,     1],\n",
        "        'priority': ['yes', 'yes',    'no',  'yes',  'no',  'no',    'no',  'yes',  'no',  'no']}\n",
        "labels =            [  'a',   'b',     'c',    'd',   'e',   'f',     'g',    'h',   'i',   'j']\n",
        "df = pd.DataFrame(data, index=labels)\n",
        "\n",
        "# Solution\n",
        "df[['animal', 'age']]"
      ],
      "execution_count": 0,
      "outputs": []
    },
    {
      "cell_type": "markdown",
      "metadata": {
        "id": "RCR8g1eG0FqM",
        "colab_type": "text"
      },
      "source": [
        "##Problem 8.\n",
        "\n"
      ]
    },
    {
      "cell_type": "markdown",
      "metadata": {
        "id": "EpqjeOZrn6tf",
        "colab_type": "text"
      },
      "source": [
        " **Problem:**\n",
        " Select the data in rows `[3, 4, 8]` *and* in columns `['animal', 'age']`.\n",
        " \n",
        " **Possible Input:**\n",
        " ```python\n",
        "data = {'animal': ['cat', 'cat', 'snake', 'dog', 'dog', 'cat', 'snake', 'cat', 'dog', 'dog'],\n",
        "        'age': [2.5, 3, 0.5, np.nan, 5, 2, 4.5, np.nan, 7, 3],\n",
        "        'visits': [1, 3, 2, 3, 2, 3, 1, 1, 2, 1],\n",
        "        'priority': ['yes', 'yes', 'no', 'yes', 'no', 'no', 'no', 'yes', 'no', 'no']}\n",
        "labels = ['a', 'b', 'c', 'd', 'e', 'f', 'g', 'h', 'i', 'j']\n",
        "df = pd.DataFrame(data, index=labels)\n",
        "```\n",
        "\n",
        "**Expected Output:**\n",
        "```\n",
        "\tanimal\tage\n",
        "d\tdog\tNaN\n",
        "e\tdog\t5.0\n",
        "i\tdog\t7.0\n",
        "```"
      ]
    },
    {
      "cell_type": "code",
      "metadata": {
        "id": "Jyczbyva0FqM",
        "colab_type": "code",
        "colab": {}
      },
      "source": [
        "import numpy as np\n",
        "import pandas as pd\n",
        "\n",
        "# Input\n",
        "data = {'animal'  : ['cat', 'cat', 'snake',  'dog', 'dog', 'cat', 'snake',  'cat', 'dog', 'dog'],\n",
        "        'age'     : [  2.5,     3,     0.5, np.nan,     5,     2,     4.5, np.nan,     7,     3],\n",
        "        'visits'  : [    1,     3,       2,      3,     2,     3,       1,      1,     2,     1],\n",
        "        'priority': ['yes', 'yes',    'no',  'yes',  'no',  'no',    'no',  'yes',  'no',  'no']}\n",
        "labels =            [  'a',   'b',     'c',    'd',   'e',   'f',     'g',    'h',   'i',   'j']\n",
        "df = pd.DataFrame(data, index=labels)\n",
        "\n",
        "# Enter your code here"
      ],
      "execution_count": 0,
      "outputs": []
    },
    {
      "cell_type": "markdown",
      "metadata": {
        "id": "I_a6PysJ0FqN",
        "colab_type": "text"
      },
      "source": [
        "###Solution"
      ]
    },
    {
      "cell_type": "code",
      "metadata": {
        "id": "tYNZ26j90FqO",
        "colab_type": "code",
        "colab": {}
      },
      "source": [
        "import numpy as np\n",
        "import pandas as pd\n",
        "\n",
        "# Input\n",
        "data = {'animal'  : ['cat', 'cat', 'snake',  'dog', 'dog', 'cat', 'snake',  'cat', 'dog', 'dog'],\n",
        "        'age'     : [  2.5,     3,     0.5, np.nan,     5,     2,     4.5, np.nan,     7,     3],\n",
        "        'visits'  : [    1,     3,       2,      3,     2,     3,       1,      1,     2,     1],\n",
        "        'priority': ['yes', 'yes',    'no',  'yes',  'no',  'no',    'no',  'yes',  'no',  'no']}\n",
        "labels =            [  'a',   'b',     'c',    'd',   'e',   'f',     'g',    'h',   'i',   'j']\n",
        "df = pd.DataFrame(data, index=labels)\n",
        "\n",
        "# Solution\n",
        "df.loc[df.index[[3, 4, 8]], ['animal', 'age']]"
      ],
      "execution_count": 0,
      "outputs": []
    },
    {
      "cell_type": "markdown",
      "metadata": {
        "id": "PtN-xRXV0FqP",
        "colab_type": "text"
      },
      "source": [
        "##Problem 9."
      ]
    },
    {
      "cell_type": "markdown",
      "metadata": {
        "id": "WZzYHyA9s1of",
        "colab_type": "text"
      },
      "source": [
        "**Problem:**\n",
        "Select only the rows where the number of visits is greater than 2.\n",
        "\n",
        " **Possible Input:**\n",
        " ```python\n",
        "data = {'animal': ['cat', 'cat', 'snake', 'dog', 'dog', 'cat', 'snake', 'cat', 'dog', 'dog'],\n",
        "        'age': [2.5, 3, 0.5, np.nan, 5, 2, 4.5, np.nan, 7, 3],\n",
        "        'visits': [1, 3, 2, 3, 2, 3, 1, 1, 2, 1],\n",
        "        'priority': ['yes', 'yes', 'no', 'yes', 'no', 'no', 'no', 'yes', 'no', 'no']}\n",
        "labels = ['a', 'b', 'c', 'd', 'e', 'f', 'g', 'h', 'i', 'j']\n",
        "df = pd.DataFrame(data, index=labels)\n",
        "```\n",
        "\n",
        "**Expected Output:**\n",
        "```\n",
        "\tanimal\tage\tvisits\tpriority\n",
        "b\tcat\t3.0\t3\tyes\n",
        "d\tdog\tNaN\t3\tyes\n",
        "f\tcat\t2.0\t3\tno\n",
        "```\n",
        "\n"
      ]
    },
    {
      "cell_type": "code",
      "metadata": {
        "id": "DqAikZ5o0FqP",
        "colab_type": "code",
        "colab": {}
      },
      "source": [
        "import numpy as np\n",
        "import pandas as pd\n",
        "\n",
        "# Input\n",
        "data = {'animal'  : ['cat', 'cat', 'snake',  'dog', 'dog', 'cat', 'snake',  'cat', 'dog', 'dog'],\n",
        "        'age'     : [  2.5,     3,     0.5, np.nan,     5,     2,     4.5, np.nan,     7,     3],\n",
        "        'visits'  : [    1,     3,       2,      3,     2,     3,       1,      1,     2,     1],\n",
        "        'priority': ['yes', 'yes',    'no',  'yes',  'no',  'no',    'no',  'yes',  'no',  'no']}\n",
        "labels =            [  'a',   'b',     'c',    'd',   'e',   'f',     'g',    'h',   'i',   'j']\n",
        "df = pd.DataFrame(data, index=labels)\n",
        "\n",
        "# Enter your code here"
      ],
      "execution_count": 0,
      "outputs": []
    },
    {
      "cell_type": "markdown",
      "metadata": {
        "id": "Q4lTGYxy0FqR",
        "colab_type": "text"
      },
      "source": [
        "###Solution"
      ]
    },
    {
      "cell_type": "code",
      "metadata": {
        "id": "4Vps03yL0FqR",
        "colab_type": "code",
        "colab": {}
      },
      "source": [
        "import numpy as np\n",
        "import pandas as pd\n",
        "\n",
        "# Input\n",
        "data = {'animal'  : ['cat', 'cat', 'snake',  'dog', 'dog', 'cat', 'snake',  'cat', 'dog', 'dog'],\n",
        "        'age'     : [  2.5,     3,     0.5, np.nan,     5,     2,     4.5, np.nan,     7,     3],\n",
        "        'visits'  : [    1,     3,       2,      3,     2,     3,       1,      1,     2,     1],\n",
        "        'priority': ['yes', 'yes',    'no',  'yes',  'no',  'no',    'no',  'yes',  'no',  'no']}\n",
        "labels =            [  'a',   'b',     'c',    'd',   'e',   'f',     'g',    'h',   'i',   'j']\n",
        "df = pd.DataFrame(data, index=labels)\n",
        "\n",
        "#Solution\n",
        "df[df['visits'] > 2]"
      ],
      "execution_count": 0,
      "outputs": []
    },
    {
      "cell_type": "markdown",
      "metadata": {
        "id": "4ZDLSVoF0FqS",
        "colab_type": "text"
      },
      "source": [
        "##Problem 10."
      ]
    },
    {
      "cell_type": "markdown",
      "metadata": {
        "id": "wucoFyEKs_-x",
        "colab_type": "text"
      },
      "source": [
        "**Problem:**\n",
        "Select the rows where the age is missing, i.e. is `NaN`.\n",
        "\n",
        " **Possible Input:**\n",
        " ```python\n",
        "data = {'animal': ['cat', 'cat', 'snake', 'dog', 'dog', 'cat', 'snake', 'cat', 'dog', 'dog'],\n",
        "        'age': [2.5, 3, 0.5, np.nan, 5, 2, 4.5, np.nan, 7, 3],\n",
        "        'visits': [1, 3, 2, 3, 2, 3, 1, 1, 2, 1],\n",
        "        'priority': ['yes', 'yes', 'no', 'yes', 'no', 'no', 'no', 'yes', 'no', 'no']}\n",
        "labels = ['a', 'b', 'c', 'd', 'e', 'f', 'g', 'h', 'i', 'j']\n",
        "df = pd.DataFrame(data, index=labels)\n",
        "```\n",
        "\n",
        "**Expected Output:**\n",
        "```\n",
        "\tanimal\tage\tvisits\tpriority\n",
        "d\tdog\tNaN\t3\tyes\n",
        "h\tcat\tNaN\t1\tyes\n",
        "```"
      ]
    },
    {
      "cell_type": "code",
      "metadata": {
        "id": "CoYoIOo10FqT",
        "colab_type": "code",
        "colab": {}
      },
      "source": [
        "import numpy as np\n",
        "import pandas as pd\n",
        "\n",
        "# Input\n",
        "data = {'animal'  : ['cat', 'cat', 'snake',  'dog', 'dog', 'cat', 'snake',  'cat', 'dog', 'dog'],\n",
        "        'age'     : [  2.5,     3,     0.5, np.nan,     5,     2,     4.5, np.nan,     7,     3],\n",
        "        'visits'  : [    1,     3,       2,      3,     2,     3,       1,      1,     2,     1],\n",
        "        'priority': ['yes', 'yes',    'no',  'yes',  'no',  'no',    'no',  'yes',  'no',  'no']}\n",
        "labels =            [  'a',   'b',     'c',    'd',   'e',   'f',     'g',    'h',   'i',   'j']\n",
        "df = pd.DataFrame(data, index=labels)\n",
        "\n",
        "# Enter your code here"
      ],
      "execution_count": 0,
      "outputs": []
    },
    {
      "cell_type": "markdown",
      "metadata": {
        "id": "YLhusB150FqU",
        "colab_type": "text"
      },
      "source": [
        "###Solution"
      ]
    },
    {
      "cell_type": "code",
      "metadata": {
        "id": "mEwPNuet0FqU",
        "colab_type": "code",
        "colab": {}
      },
      "source": [
        "import numpy as np\n",
        "import pandas as pd\n",
        "\n",
        "# Input\n",
        "data = {'animal'  : ['cat', 'cat', 'snake',  'dog', 'dog', 'cat', 'snake',  'cat', 'dog', 'dog'],\n",
        "        'age'     : [  2.5,     3,     0.5, np.nan,     5,     2,     4.5, np.nan,     7,     3],\n",
        "        'visits'  : [    1,     3,       2,      3,     2,     3,       1,      1,     2,     1],\n",
        "        'priority': ['yes', 'yes',    'no',  'yes',  'no',  'no',    'no',  'yes',  'no',  'no']}\n",
        "labels =            [  'a',   'b',     'c',    'd',   'e',   'f',     'g',    'h',   'i',   'j']\n",
        "df = pd.DataFrame(data, index=labels)\n",
        "\n",
        "#Solution\n",
        "df[df['age'].isnull()]"
      ],
      "execution_count": 0,
      "outputs": []
    },
    {
      "cell_type": "markdown",
      "metadata": {
        "id": "XFU5Za6R0FqW",
        "colab_type": "text"
      },
      "source": [
        "##Problem 11."
      ]
    },
    {
      "cell_type": "markdown",
      "metadata": {
        "colab_type": "text",
        "id": "P8KRWDZKtEgV"
      },
      "source": [
        "**Problem:**\n",
        "Select the rows where the animal is a cat *and* the age is less than 3.\n",
        "\n",
        " **Possible Input:**\n",
        " ```python\n",
        "data = {'animal': ['cat', 'cat', 'snake', 'dog', 'dog', 'cat', 'snake', 'cat', 'dog', 'dog'],\n",
        "        'age': [2.5, 3, 0.5, np.nan, 5, 2, 4.5, np.nan, 7, 3],\n",
        "        'visits': [1, 3, 2, 3, 2, 3, 1, 1, 2, 1],\n",
        "        'priority': ['yes', 'yes', 'no', 'yes', 'no', 'no', 'no', 'yes', 'no', 'no']}\n",
        "labels = ['a', 'b', 'c', 'd', 'e', 'f', 'g', 'h', 'i', 'j']\n",
        "df = pd.DataFrame(data, index=labels)\n",
        "```\n",
        "\n",
        "**Expected Output:**\n",
        "```\n",
        "\tanimal\tage\tvisits\tpriority\n",
        "a\tcat\t2.5\t1\tyes\n",
        "f\tcat\t2.0\t3\tno\n",
        "```"
      ]
    },
    {
      "cell_type": "code",
      "metadata": {
        "id": "cvQbku2T0FqW",
        "colab_type": "code",
        "colab": {}
      },
      "source": [
        "import numpy as np\n",
        "import pandas as pd\n",
        "\n",
        "# Input\n",
        "data = {'animal'  : ['cat', 'cat', 'snake',  'dog', 'dog', 'cat', 'snake',  'cat', 'dog', 'dog'],\n",
        "        'age'     : [  2.5,     3,     0.5, np.nan,     5,     2,     4.5, np.nan,     7,     3],\n",
        "        'visits'  : [    1,     3,       2,      3,     2,     3,       1,      1,     2,     1],\n",
        "        'priority': ['yes', 'yes',    'no',  'yes',  'no',  'no',    'no',  'yes',  'no',  'no']}\n",
        "labels =            [  'a',   'b',     'c',    'd',   'e',   'f',     'g',    'h',   'i',   'j']\n",
        "df = pd.DataFrame(data, index=labels)\n",
        "\n",
        "# Enter your code here"
      ],
      "execution_count": 0,
      "outputs": []
    },
    {
      "cell_type": "markdown",
      "metadata": {
        "id": "v3ZzVx0Z0FqY",
        "colab_type": "text"
      },
      "source": [
        "###Solution"
      ]
    },
    {
      "cell_type": "code",
      "metadata": {
        "id": "1yWRuu_T0FqY",
        "colab_type": "code",
        "colab": {}
      },
      "source": [
        "import numpy as np\n",
        "import pandas as pd\n",
        "\n",
        "# Input\n",
        "data = {'animal'  : ['cat', 'cat', 'snake',  'dog', 'dog', 'cat', 'snake',  'cat', 'dog', 'dog'],\n",
        "        'age'     : [  2.5,     3,     0.5, np.nan,     5,     2,     4.5, np.nan,     7,     3],\n",
        "        'visits'  : [    1,     3,       2,      3,     2,     3,       1,      1,     2,     1],\n",
        "        'priority': ['yes', 'yes',    'no',  'yes',  'no',  'no',    'no',  'yes',  'no',  'no']}\n",
        "labels =            [  'a',   'b',     'c',    'd',   'e',   'f',     'g',    'h',   'i',   'j']\n",
        "df = pd.DataFrame(data, index=labels)\n",
        "\n",
        "#Solution\n",
        "df[(df['animal'] == 'cat') & (df['age'] < 3)]"
      ],
      "execution_count": 0,
      "outputs": []
    },
    {
      "cell_type": "markdown",
      "metadata": {
        "id": "-z6UCh070FqZ",
        "colab_type": "text"
      },
      "source": [
        "##Problem 12."
      ]
    },
    {
      "cell_type": "markdown",
      "metadata": {
        "colab_type": "text",
        "id": "Hif0WPSAtGK8"
      },
      "source": [
        "**Problem:**\n",
        "Select the rows the age is between 2 and 4 (inclusive).\n",
        "\n",
        " **Possible Input:**\n",
        " ```python\n",
        "data = {'animal': ['cat', 'cat', 'snake', 'dog', 'dog', 'cat', 'snake', 'cat', 'dog', 'dog'],\n",
        "        'age': [2.5, 3, 0.5, np.nan, 5, 2, 4.5, np.nan, 7, 3],\n",
        "        'visits': [1, 3, 2, 3, 2, 3, 1, 1, 2, 1],\n",
        "        'priority': ['yes', 'yes', 'no', 'yes', 'no', 'no', 'no', 'yes', 'no', 'no']}\n",
        "labels = ['a', 'b', 'c', 'd', 'e', 'f', 'g', 'h', 'i', 'j']\n",
        "df = pd.DataFrame(data, index=labels)\n",
        "```\n",
        "\n",
        "**Expected Output:**\n",
        "```\n",
        "\tanimal\tage\tvisits\tpriority\n",
        "a\tcat\t2.5\t1\tyes\n",
        "b\tcat\t3.0\t3\tyes\n",
        "f\tcat\t2.0\t3\tno\n",
        "j\tdog\t3.0\t1\tno\n",
        "```\n"
      ]
    },
    {
      "cell_type": "code",
      "metadata": {
        "id": "HIqJFo0n0Fqa",
        "colab_type": "code",
        "colab": {}
      },
      "source": [
        "import numpy as np\n",
        "import pandas as pd\n",
        "\n",
        "# Input\n",
        "data = {'animal'  : ['cat', 'cat', 'snake',  'dog', 'dog', 'cat', 'snake',  'cat', 'dog', 'dog'],\n",
        "        'age'     : [  2.5,     3,     0.5, np.nan,     5,     2,     4.5, np.nan,     7,     3],\n",
        "        'visits'  : [    1,     3,       2,      3,     2,     3,       1,      1,     2,     1],\n",
        "        'priority': ['yes', 'yes',    'no',  'yes',  'no',  'no',    'no',  'yes',  'no',  'no']}\n",
        "labels =            [  'a',   'b',     'c',    'd',   'e',   'f',     'g',    'h',   'i',   'j']\n",
        "df = pd.DataFrame(data, index=labels)\n",
        "\n",
        "# Enter your code here"
      ],
      "execution_count": 0,
      "outputs": []
    },
    {
      "cell_type": "markdown",
      "metadata": {
        "id": "sRpbwvmd0Fqa",
        "colab_type": "text"
      },
      "source": [
        "###Solution"
      ]
    },
    {
      "cell_type": "code",
      "metadata": {
        "id": "l0wsxGVa0Fqb",
        "colab_type": "code",
        "colab": {}
      },
      "source": [
        "import numpy as np\n",
        "import pandas as pd\n",
        "\n",
        "# Input\n",
        "data = {'animal'  : ['cat', 'cat', 'snake',  'dog', 'dog', 'cat', 'snake',  'cat', 'dog', 'dog'],\n",
        "        'age'     : [  2.5,     3,     0.5, np.nan,     5,     2,     4.5, np.nan,     7,     3],\n",
        "        'visits'  : [    1,     3,       2,      3,     2,     3,       1,      1,     2,     1],\n",
        "        'priority': ['yes', 'yes',    'no',  'yes',  'no',  'no',    'no',  'yes',  'no',  'no']}\n",
        "labels =            [  'a',   'b',     'c',    'd',   'e',   'f',     'g',    'h',   'i',   'j']\n",
        "df = pd.DataFrame(data, index=labels)\n",
        "\n",
        "#Solution\n",
        "df[df['age'].between(2, 4)]"
      ],
      "execution_count": 0,
      "outputs": []
    },
    {
      "cell_type": "markdown",
      "metadata": {
        "id": "dAwY8OZ-0Fqc",
        "colab_type": "text"
      },
      "source": [
        "##Problem 13."
      ]
    },
    {
      "cell_type": "markdown",
      "metadata": {
        "colab_type": "text",
        "id": "gfPwQE5atHeA"
      },
      "source": [
        "**Problem:**\n",
        "Change the age in row 'f' to 1.5.\n",
        "\n",
        " **Possible Input:**\n",
        " ```python\n",
        "data = {'animal': ['cat', 'cat', 'snake', 'dog', 'dog', 'cat', 'snake', 'cat', 'dog', 'dog'],\n",
        "        'age': [2.5, 3, 0.5, np.nan, 5, 2, 4.5, np.nan, 7, 3],\n",
        "        'visits': [1, 3, 2, 3, 2, 3, 1, 1, 2, 1],\n",
        "        'priority': ['yes', 'yes', 'no', 'yes', 'no', 'no', 'no', 'yes', 'no', 'no']}\n",
        "labels = ['a', 'b', 'c', 'd', 'e', 'f', 'g', 'h', 'i', 'j']\n",
        "df = pd.DataFrame(data, index=labels)\n",
        "```\n",
        "\n",
        "**Expected Output:**\n",
        "```\n",
        "\tanimal\tage\tvisits\tpriority\n",
        "a\tcat\t2.5\t1\tyes\n",
        "b\tcat\t3.0\t3\tyes\n",
        "c\tsnake\t0.5\t2\tno\n",
        "d\tdog\tNaN\t3\tyes\n",
        "e\tdog\t5.0\t2\tno\n",
        "f\tcat\t1.5\t3\tno\n",
        "g\tsnake\t4.5\t1\tno\n",
        "h\tcat\tNaN\t1\tyes\n",
        "i\tdog\t7.0\t2\tno\n",
        "j\tdog\t3.0\t1\tno\n",
        "```\n"
      ]
    },
    {
      "cell_type": "code",
      "metadata": {
        "id": "-DNusW0c0Fqc",
        "colab_type": "code",
        "colab": {}
      },
      "source": [
        "import numpy as np\n",
        "import pandas as pd\n",
        "\n",
        "# Input\n",
        "data = {'animal'  : ['cat', 'cat', 'snake',  'dog', 'dog', 'cat', 'snake',  'cat', 'dog', 'dog'],\n",
        "        'age'     : [  2.5,     3,     0.5, np.nan,     5,     2,     4.5, np.nan,     7,     3],\n",
        "        'visits'  : [    1,     3,       2,      3,     2,     3,       1,      1,     2,     1],\n",
        "        'priority': ['yes', 'yes',    'no',  'yes',  'no',  'no',    'no',  'yes',  'no',  'no']}\n",
        "labels =            [  'a',   'b',     'c',    'd',   'e',   'f',     'g',    'h',   'i',   'j']\n",
        "df = pd.DataFrame(data, index=labels)\n",
        "\n",
        "# Enter your code here"
      ],
      "execution_count": 0,
      "outputs": []
    },
    {
      "cell_type": "markdown",
      "metadata": {
        "id": "fl4xCVxw0Fqd",
        "colab_type": "text"
      },
      "source": [
        "###Solution"
      ]
    },
    {
      "cell_type": "code",
      "metadata": {
        "id": "XzfUCiUq0Fqe",
        "colab_type": "code",
        "colab": {}
      },
      "source": [
        "import numpy as np\n",
        "import pandas as pd\n",
        "\n",
        "# Input\n",
        "data = {'animal'  : ['cat', 'cat', 'snake',  'dog', 'dog', 'cat', 'snake',  'cat', 'dog', 'dog'],\n",
        "        'age'     : [  2.5,     3,     0.5, np.nan,     5,     2,     4.5, np.nan,     7,     3],\n",
        "        'visits'  : [    1,     3,       2,      3,     2,     3,       1,      1,     2,     1],\n",
        "        'priority': ['yes', 'yes',    'no',  'yes',  'no',  'no',    'no',  'yes',  'no',  'no']}\n",
        "labels =            [  'a',   'b',     'c',    'd',   'e',   'f',     'g',    'h',   'i',   'j']\n",
        "df = pd.DataFrame(data, index=labels)\n",
        "\n",
        "#Solution\n",
        "df.loc['f', 'age'] = 1.5\n",
        "df"
      ],
      "execution_count": 0,
      "outputs": []
    },
    {
      "cell_type": "markdown",
      "metadata": {
        "id": "M5i23o_U0Fqf",
        "colab_type": "text"
      },
      "source": [
        "##Problem 14."
      ]
    },
    {
      "cell_type": "markdown",
      "metadata": {
        "colab_type": "text",
        "id": "vuzwd3AGtIyo"
      },
      "source": [
        "**Problem:**\n",
        "Calculate the sum of all visits (the total number of visits).\n",
        "\n",
        " **Possible Input:**\n",
        " ```python\n",
        "data = {'animal': ['cat', 'cat', 'snake', 'dog', 'dog', 'cat', 'snake', 'cat', 'dog', 'dog'],\n",
        "        'age': [2.5, 3, 0.5, np.nan, 5, 2, 4.5, np.nan, 7, 3],\n",
        "        'visits': [1, 3, 2, 3, 2, 3, 1, 1, 2, 1],\n",
        "        'priority': ['yes', 'yes', 'no', 'yes', 'no', 'no', 'no', 'yes', 'no', 'no']}\n",
        "labels = ['a', 'b', 'c', 'd', 'e', 'f', 'g', 'h', 'i', 'j']\n",
        "df = pd.DataFrame(data, index=labels)\n",
        "```\n",
        "\n",
        "**Expected Output:**\n",
        "```\n",
        "19\n",
        "```\n"
      ]
    },
    {
      "cell_type": "code",
      "metadata": {
        "id": "Q1u6CvlD0Fqf",
        "colab_type": "code",
        "colab": {}
      },
      "source": [
        "import numpy as np\n",
        "import pandas as pd\n",
        "\n",
        "# Input\n",
        "data = {'animal'  : ['cat', 'cat', 'snake',  'dog', 'dog', 'cat', 'snake',  'cat', 'dog', 'dog'],\n",
        "        'age'     : [  2.5,     3,     0.5, np.nan,     5,     2,     4.5, np.nan,     7,     3],\n",
        "        'visits'  : [    1,     3,       2,      3,     2,     3,       1,      1,     2,     1],\n",
        "        'priority': ['yes', 'yes',    'no',  'yes',  'no',  'no',    'no',  'yes',  'no',  'no']}\n",
        "labels =            [  'a',   'b',     'c',    'd',   'e',   'f',     'g',    'h',   'i',   'j']\n",
        "df = pd.DataFrame(data, index=labels)\n",
        "\n",
        "# Enter your code here"
      ],
      "execution_count": 0,
      "outputs": []
    },
    {
      "cell_type": "markdown",
      "metadata": {
        "id": "9rVl5Xhq0Fqg",
        "colab_type": "text"
      },
      "source": [
        "###Solution"
      ]
    },
    {
      "cell_type": "code",
      "metadata": {
        "id": "1UPwfoj80Fqh",
        "colab_type": "code",
        "colab": {}
      },
      "source": [
        "import numpy as np\n",
        "import pandas as pd\n",
        "\n",
        "# Input\n",
        "data = {'animal'  : ['cat', 'cat', 'snake',  'dog', 'dog', 'cat', 'snake',  'cat', 'dog', 'dog'],\n",
        "        'age'     : [  2.5,     3,     0.5, np.nan,     5,     2,     4.5, np.nan,     7,     3],\n",
        "        'visits'  : [    1,     3,       2,      3,     2,     3,       1,      1,     2,     1],\n",
        "        'priority': ['yes', 'yes',    'no',  'yes',  'no',  'no',    'no',  'yes',  'no',  'no']}\n",
        "labels =            [  'a',   'b',     'c',    'd',   'e',   'f',     'g',    'h',   'i',   'j']\n",
        "df = pd.DataFrame(data, index=labels)\n",
        "\n",
        "#Solution\n",
        "df['visits'].sum()"
      ],
      "execution_count": 0,
      "outputs": []
    },
    {
      "cell_type": "markdown",
      "metadata": {
        "id": "YXjkc4ui0Fqi",
        "colab_type": "text"
      },
      "source": [
        "##Problem 15."
      ]
    },
    {
      "cell_type": "markdown",
      "metadata": {
        "colab_type": "text",
        "id": "Etd5NZoztKKF"
      },
      "source": [
        "**Problem:**\n",
        "Calculate the mean age for each different animal in `df`.\n",
        "\n",
        " **Possible Input:**\n",
        " ```python\n",
        "data = {'animal': ['cat', 'cat', 'snake', 'dog', 'dog', 'cat', 'snake', 'cat', 'dog', 'dog'],\n",
        "        'age': [2.5, 3, 0.5, np.nan, 5, 2, 4.5, np.nan, 7, 3],\n",
        "        'visits': [1, 3, 2, 3, 2, 3, 1, 1, 2, 1],\n",
        "        'priority': ['yes', 'yes', 'no', 'yes', 'no', 'no', 'no', 'yes', 'no', 'no']}\n",
        "labels = ['a', 'b', 'c', 'd', 'e', 'f', 'g', 'h', 'i', 'j']\n",
        "df = pd.DataFrame(data, index=labels)\n",
        "```\n",
        "\n",
        "**Expected Output:**\n",
        "```\n",
        "animal\n",
        "cat      2.5\n",
        "dog      5.0\n",
        "snake    2.5\n",
        "Name: age, dtype: float64\n",
        "```\n"
      ]
    },
    {
      "cell_type": "code",
      "metadata": {
        "id": "Hnu67HN10Fqj",
        "colab_type": "code",
        "colab": {}
      },
      "source": [
        "import numpy as np\n",
        "import pandas as pd\n",
        "\n",
        "# Input\n",
        "data = {'animal'  : ['cat', 'cat', 'snake',  'dog', 'dog', 'cat', 'snake',  'cat', 'dog', 'dog'],\n",
        "        'age'     : [  2.5,     3,     0.5, np.nan,     5,     2,     4.5, np.nan,     7,     3],\n",
        "        'visits'  : [    1,     3,       2,      3,     2,     3,       1,      1,     2,     1],\n",
        "        'priority': ['yes', 'yes',    'no',  'yes',  'no',  'no',    'no',  'yes',  'no',  'no']}\n",
        "labels =            [  'a',   'b',     'c',    'd',   'e',   'f',     'g',    'h',   'i',   'j']\n",
        "df = pd.DataFrame(data, index=labels)\n",
        "\n",
        "# Enter your code here"
      ],
      "execution_count": 0,
      "outputs": []
    },
    {
      "cell_type": "markdown",
      "metadata": {
        "id": "Kuqrk2lC0Fqk",
        "colab_type": "text"
      },
      "source": [
        "###Solution"
      ]
    },
    {
      "cell_type": "code",
      "metadata": {
        "id": "RLxsO6Qn0Fqn",
        "colab_type": "code",
        "colab": {}
      },
      "source": [
        "import numpy as np\n",
        "import pandas as pd\n",
        "\n",
        "# Input\n",
        "data = {'animal'  : ['cat', 'cat', 'snake',  'dog', 'dog', 'cat', 'snake',  'cat', 'dog', 'dog'],\n",
        "        'age'     : [  2.5,     3,     0.5, np.nan,     5,     2,     4.5, np.nan,     7,     3],\n",
        "        'visits'  : [    1,     3,       2,      3,     2,     3,       1,      1,     2,     1],\n",
        "        'priority': ['yes', 'yes',    'no',  'yes',  'no',  'no',    'no',  'yes',  'no',  'no']}\n",
        "labels =            [  'a',   'b',     'c',    'd',   'e',   'f',     'g',    'h',   'i',   'j']\n",
        "df = pd.DataFrame(data, index=labels)\n",
        "\n",
        "#Solution\n",
        "df.groupby('animal')['age'].mean()"
      ],
      "execution_count": 0,
      "outputs": []
    },
    {
      "cell_type": "markdown",
      "metadata": {
        "id": "iFavUHtJ0Fqo",
        "colab_type": "text"
      },
      "source": [
        "##Problem 16."
      ]
    },
    {
      "cell_type": "markdown",
      "metadata": {
        "colab_type": "text",
        "id": "nNLN0GiytLgI"
      },
      "source": [
        "**Problem:**\n",
        "Append a new row 'k' to `df` with your choice of values for each column.\n",
        "Then delete that row to return the original DataFrame.\n",
        "\n",
        " **Possible Input:**\n",
        " ```python\n",
        "data = {'animal': ['cat', 'cat', 'snake', 'dog', 'dog', 'cat', 'snake', 'cat', 'dog', 'dog'],\n",
        "        'age': [2.5, 3, 0.5, np.nan, 5, 2, 4.5, np.nan, 7, 3],\n",
        "        'visits': [1, 3, 2, 3, 2, 3, 1, 1, 2, 1],\n",
        "        'priority': ['yes', 'yes', 'no', 'yes', 'no', 'no', 'no', 'yes', 'no', 'no']}\n",
        "labels = ['a', 'b', 'c', 'd', 'e', 'f', 'g', 'h', 'i', 'j']\n",
        "df = pd.DataFrame(data, index=labels)\n",
        "```\n",
        "\n",
        "**Expected Output:**\n",
        "```\n",
        "ADDED:\n",
        "  animal  age visits priority\n",
        "a    cat  2.5      1      yes\n",
        "b    cat    3      3      yes\n",
        "c  snake  0.5      2       no\n",
        "d    dog  NaN      3      yes\n",
        "e    dog    5      2       no\n",
        "f    cat    2      3       no\n",
        "g  snake  4.5      1       no\n",
        "h    cat  NaN      1      yes\n",
        "i    dog    7      2       no\n",
        "j    dog    3      1       no\n",
        "k    5.5  dog     no        2\n",
        "-------------------\n",
        "DELETED:\n",
        "  animal  age visits priority\n",
        "a    cat  2.5      1      yes\n",
        "b    cat    3      3      yes\n",
        "c  snake  0.5      2       no\n",
        "d    dog  NaN      3      yes\n",
        "e    dog    5      2       no\n",
        "f    cat    2      3       no\n",
        "g  snake  4.5      1       no\n",
        "h    cat  NaN      1      yes\n",
        "i    dog    7      2       no\n",
        "j    dog    3      1       no\n",
        "```\n"
      ]
    },
    {
      "cell_type": "code",
      "metadata": {
        "id": "3zU8fIjm0Fqp",
        "colab_type": "code",
        "colab": {}
      },
      "source": [
        "import numpy as np\n",
        "import pandas as pd\n",
        "\n",
        "# Input\n",
        "data = {'animal'  : ['cat', 'cat', 'snake',  'dog', 'dog', 'cat', 'snake',  'cat', 'dog', 'dog'],\n",
        "        'age'     : [  2.5,     3,     0.5, np.nan,     5,     2,     4.5, np.nan,     7,     3],\n",
        "        'visits'  : [    1,     3,       2,      3,     2,     3,       1,      1,     2,     1],\n",
        "        'priority': ['yes', 'yes',    'no',  'yes',  'no',  'no',    'no',  'yes',  'no',  'no']}\n",
        "labels =            [  'a',   'b',     'c',    'd',   'e',   'f',     'g',    'h',   'i',   'j']\n",
        "df = pd.DataFrame(data, index=labels)\n",
        "\n",
        "# Enter your code here"
      ],
      "execution_count": 0,
      "outputs": []
    },
    {
      "cell_type": "markdown",
      "metadata": {
        "id": "uPDBFTdC0Fqq",
        "colab_type": "text"
      },
      "source": [
        "###Solution"
      ]
    },
    {
      "cell_type": "code",
      "metadata": {
        "id": "hPfSFH1x0Fqq",
        "colab_type": "code",
        "colab": {}
      },
      "source": [
        "import numpy as np\n",
        "import pandas as pd\n",
        "\n",
        "# Input\n",
        "data = {'animal'  : ['cat', 'cat', 'snake',  'dog', 'dog', 'cat', 'snake',  'cat', 'dog', 'dog'],\n",
        "        'age'     : [  2.5,     3,     0.5, np.nan,     5,     2,     4.5, np.nan,     7,     3],\n",
        "        'visits'  : [    1,     3,       2,      3,     2,     3,       1,      1,     2,     1],\n",
        "        'priority': ['yes', 'yes',    'no',  'yes',  'no',  'no',    'no',  'yes',  'no',  'no']}\n",
        "labels =            [  'a',   'b',     'c',    'd',   'e',   'f',     'g',    'h',   'i',   'j']\n",
        "df = pd.DataFrame(data, index=labels)\n",
        "\n",
        "#Solution\n",
        "df.loc['k'] = [5.5, 'dog', 'no', 2]\n",
        "print(\"ADDED:\")\n",
        "print(df)\n",
        "print(\"-------------------\")\n",
        "df = df.drop('k')\n",
        "print(\"DELETED:\")\n",
        "print(df)"
      ],
      "execution_count": 0,
      "outputs": []
    },
    {
      "cell_type": "markdown",
      "metadata": {
        "id": "udvxA5Hm0Fqr",
        "colab_type": "text"
      },
      "source": [
        "##Problem 17."
      ]
    },
    {
      "cell_type": "markdown",
      "metadata": {
        "colab_type": "text",
        "id": "yNfSag_mtNQa"
      },
      "source": [
        "**Problem:**\n",
        "Count the number of each type of animal in `df`.\n",
        "\n",
        " **Possible Input:**\n",
        " ```python\n",
        "data = {'animal': ['cat', 'cat', 'snake', 'dog', 'dog', 'cat', 'snake', 'cat', 'dog', 'dog'],\n",
        "        'age': [2.5, 3, 0.5, np.nan, 5, 2, 4.5, np.nan, 7, 3],\n",
        "        'visits': [1, 3, 2, 3, 2, 3, 1, 1, 2, 1],\n",
        "        'priority': ['yes', 'yes', 'no', 'yes', 'no', 'no', 'no', 'yes', 'no', 'no']}\n",
        "labels = ['a', 'b', 'c', 'd', 'e', 'f', 'g', 'h', 'i', 'j']\n",
        "df = pd.DataFrame(data, index=labels)\n",
        "```\n",
        "\n",
        "**Expected Output:**\n",
        "```\n",
        "cat      4\n",
        "dog      4\n",
        "snake    2\n",
        "Name: animal, dtype: int64\n",
        "```\n"
      ]
    },
    {
      "cell_type": "code",
      "metadata": {
        "id": "CFzvcX5Z0Fqs",
        "colab_type": "code",
        "colab": {}
      },
      "source": [
        "import numpy as np\n",
        "import pandas as pd\n",
        "\n",
        "# Input\n",
        "data = {'animal'  : ['cat', 'cat', 'snake',  'dog', 'dog', 'cat', 'snake',  'cat', 'dog', 'dog'],\n",
        "        'age'     : [  2.5,     3,     0.5, np.nan,     5,     2,     4.5, np.nan,     7,     3],\n",
        "        'visits'  : [    1,     3,       2,      3,     2,     3,       1,      1,     2,     1],\n",
        "        'priority': ['yes', 'yes',    'no',  'yes',  'no',  'no',    'no',  'yes',  'no',  'no']}\n",
        "labels =            [  'a',   'b',     'c',    'd',   'e',   'f',     'g',    'h',   'i',   'j']\n",
        "df = pd.DataFrame(data, index=labels)\n",
        "\n",
        "# Enter your code here"
      ],
      "execution_count": 0,
      "outputs": []
    },
    {
      "cell_type": "markdown",
      "metadata": {
        "id": "JAtSBlVI0Fqu",
        "colab_type": "text"
      },
      "source": [
        "###Solution"
      ]
    },
    {
      "cell_type": "code",
      "metadata": {
        "id": "MdXRSMmK0Fqu",
        "colab_type": "code",
        "colab": {}
      },
      "source": [
        "import numpy as np\n",
        "import pandas as pd\n",
        "\n",
        "# Input\n",
        "data = {'animal'  : ['cat', 'cat', 'snake',  'dog', 'dog', 'cat', 'snake',  'cat', 'dog', 'dog'],\n",
        "        'age'     : [  2.5,     3,     0.5, np.nan,     5,     2,     4.5, np.nan,     7,     3],\n",
        "        'visits'  : [    1,     3,       2,      3,     2,     3,       1,      1,     2,     1],\n",
        "        'priority': ['yes', 'yes',    'no',  'yes',  'no',  'no',    'no',  'yes',  'no',  'no']}\n",
        "labels =            [  'a',   'b',     'c',    'd',   'e',   'f',     'g',    'h',   'i',   'j']\n",
        "df = pd.DataFrame(data, index=labels)\n",
        "\n",
        "#Solution\n",
        "df['animal'].value_counts()"
      ],
      "execution_count": 0,
      "outputs": []
    },
    {
      "cell_type": "markdown",
      "metadata": {
        "id": "rIEWJuUQ0Fqw",
        "colab_type": "text"
      },
      "source": [
        "##Problem 18."
      ]
    },
    {
      "cell_type": "markdown",
      "metadata": {
        "colab_type": "text",
        "id": "9HSXwQtctOjL"
      },
      "source": [
        "**Problem:**\n",
        "Sort `df` first by the values in the 'age' in *decending* order, then by\n",
        "the value in the 'visit' column in *ascending* order.\n",
        "\n",
        " **Possible Input:**\n",
        " ```python\n",
        "data = {'animal': ['cat', 'cat', 'snake', 'dog', 'dog', 'cat', 'snake', 'cat', 'dog', 'dog'],\n",
        "        'age': [2.5, 3, 0.5, np.nan, 5, 2, 4.5, np.nan, 7, 3],\n",
        "        'visits': [1, 3, 2, 3, 2, 3, 1, 1, 2, 1],\n",
        "        'priority': ['yes', 'yes', 'no', 'yes', 'no', 'no', 'no', 'yes', 'no', 'no']}\n",
        "labels = ['a', 'b', 'c', 'd', 'e', 'f', 'g', 'h', 'i', 'j']\n",
        "df = pd.DataFrame(data, index=labels)\n",
        "```\n",
        "\n",
        "**Expected Output:**\n",
        "```\n",
        "animal\tage\tvisits\tpriority\n",
        "i\tdog\t7.0\t2\tno\n",
        "e\tdog\t5.0\t2\tno\n",
        "g\tsnake\t4.5\t1\tno\n",
        "j\tdog\t3.0\t1\tno\n",
        "b\tcat\t3.0\t3\tyes\n",
        "a\tcat\t2.5\t1\tyes\n",
        "f\tcat\t2.0\t3\tno\n",
        "c\tsnake\t0.5\t2\tno\n",
        "h\tcat\tNaN\t1\tyes\n",
        "d\tdog\tNaN\t3\tyes\n",
        "```\n"
      ]
    },
    {
      "cell_type": "code",
      "metadata": {
        "id": "qoO7CXeg0Fqw",
        "colab_type": "code",
        "colab": {}
      },
      "source": [
        "import numpy as np\n",
        "import pandas as pd\n",
        "\n",
        "# Input\n",
        "data = {'animal'  : ['cat', 'cat', 'snake',  'dog', 'dog', 'cat', 'snake',  'cat', 'dog', 'dog'],\n",
        "        'age'     : [  2.5,     3,     0.5, np.nan,     5,     2,     4.5, np.nan,     7,     3],\n",
        "        'visits'  : [    1,     3,       2,      3,     2,     3,       1,      1,     2,     1],\n",
        "        'priority': ['yes', 'yes',    'no',  'yes',  'no',  'no',    'no',  'yes',  'no',  'no']}\n",
        "labels =            [  'a',   'b',     'c',    'd',   'e',   'f',     'g',    'h',   'i',   'j']\n",
        "df = pd.DataFrame(data, index=labels)\n",
        "\n",
        "# Enter your code here"
      ],
      "execution_count": 0,
      "outputs": []
    },
    {
      "cell_type": "markdown",
      "metadata": {
        "id": "uIns92SI0Fqx",
        "colab_type": "text"
      },
      "source": [
        "###Solution"
      ]
    },
    {
      "cell_type": "code",
      "metadata": {
        "id": "vygQ_ryz0Fqx",
        "colab_type": "code",
        "colab": {}
      },
      "source": [
        "import numpy as np\n",
        "import pandas as pd\n",
        "\n",
        "# Input\n",
        "data = {'animal'  : ['cat', 'cat', 'snake',  'dog', 'dog', 'cat', 'snake',  'cat', 'dog', 'dog'],\n",
        "        'age'     : [  2.5,     3,     0.5, np.nan,     5,     2,     4.5, np.nan,     7,     3],\n",
        "        'visits'  : [    1,     3,       2,      3,     2,     3,       1,      1,     2,     1],\n",
        "        'priority': ['yes', 'yes',    'no',  'yes',  'no',  'no',    'no',  'yes',  'no',  'no']}\n",
        "labels =            [  'a',   'b',     'c',    'd',   'e',   'f',     'g',    'h',   'i',   'j']\n",
        "df = pd.DataFrame(data, index=labels)\n",
        "\n",
        "#Solution\n",
        "df.sort_values(by=['age', 'visits'], ascending=[False, True])"
      ],
      "execution_count": 0,
      "outputs": []
    },
    {
      "cell_type": "markdown",
      "metadata": {
        "id": "bQ_ies1Q0Fqy",
        "colab_type": "text"
      },
      "source": [
        "##Problem 19."
      ]
    },
    {
      "cell_type": "markdown",
      "metadata": {
        "colab_type": "text",
        "id": "lIJ7KW9itQ92"
      },
      "source": [
        "**Problem:**\n",
        "The 'priority' column contains the values 'yes' and 'no'.\n",
        "Replace this column with a column of boolean values: 'yes' should be `True` and 'no' should be `False`.\n",
        "\n",
        " **Possible Input:**\n",
        " ```python\n",
        "data = {'animal': ['cat', 'cat', 'snake', 'dog', 'dog', 'cat', 'snake', 'cat', 'dog', 'dog'],\n",
        "        'age': [2.5, 3, 0.5, np.nan, 5, 2, 4.5, np.nan, 7, 3],\n",
        "        'visits': [1, 3, 2, 3, 2, 3, 1, 1, 2, 1],\n",
        "        'priority': ['yes', 'yes', 'no', 'yes', 'no', 'no', 'no', 'yes', 'no', 'no']}\n",
        "labels = ['a', 'b', 'c', 'd', 'e', 'f', 'g', 'h', 'i', 'j']\n",
        "df = pd.DataFrame(data, index=labels)\n",
        "```\n",
        "\n",
        "**Expected Output:**\n",
        "```\n",
        "\tanimal\tage\tvisits\tpriority\n",
        "a\tcat\t2.5\t1\tTrue\n",
        "b\tcat\t3.0\t3\tTrue\n",
        "c\tsnake\t0.5\t2\tFalse\n",
        "d\tdog\tNaN\t3\tTrue\n",
        "e\tdog\t5.0\t2\tFalse\n",
        "f\tcat\t2.0\t3\tFalse\n",
        "g\tsnake\t4.5\t1\tFalse\n",
        "h\tcat\tNaN\t1\tTrue\n",
        "i\tdog\t7.0\t2\tFalse\n",
        "j\tdog\t3.0\t1\tFalse\n",
        "```\n"
      ]
    },
    {
      "cell_type": "code",
      "metadata": {
        "id": "KcGXVM5O0Fqy",
        "colab_type": "code",
        "colab": {}
      },
      "source": [
        "import numpy as np\n",
        "import pandas as pd\n",
        "\n",
        "# Input\n",
        "data = {'animal'  : ['cat', 'cat', 'snake',  'dog', 'dog', 'cat', 'snake',  'cat', 'dog', 'dog'],\n",
        "        'age'     : [  2.5,     3,     0.5, np.nan,     5,     2,     4.5, np.nan,     7,     3],\n",
        "        'visits'  : [    1,     3,       2,      3,     2,     3,       1,      1,     2,     1],\n",
        "        'priority': ['yes', 'yes',    'no',  'yes',  'no',  'no',    'no',  'yes',  'no',  'no']}\n",
        "labels =            [  'a',   'b',     'c',    'd',   'e',   'f',     'g',    'h',   'i',   'j']\n",
        "df = pd.DataFrame(data, index=labels)\n",
        "\n",
        "# Enter your code here"
      ],
      "execution_count": 0,
      "outputs": []
    },
    {
      "cell_type": "markdown",
      "metadata": {
        "id": "snng_5nn0Fq0",
        "colab_type": "text"
      },
      "source": [
        "###Solution"
      ]
    },
    {
      "cell_type": "code",
      "metadata": {
        "id": "zRg_TwRq0Fq1",
        "colab_type": "code",
        "colab": {}
      },
      "source": [
        "import numpy as np\n",
        "import pandas as pd\n",
        "\n",
        "# Input\n",
        "data = {'animal'  : ['cat', 'cat', 'snake',  'dog', 'dog', 'cat', 'snake',  'cat', 'dog', 'dog'],\n",
        "        'age'     : [  2.5,     3,     0.5, np.nan,     5,     2,     4.5, np.nan,     7,     3],\n",
        "        'visits'  : [    1,     3,       2,      3,     2,     3,       1,      1,     2,     1],\n",
        "        'priority': ['yes', 'yes',    'no',  'yes',  'no',  'no',    'no',  'yes',  'no',  'no']}\n",
        "labels =            [  'a',   'b',     'c',    'd',   'e',   'f',     'g',    'h',   'i',   'j']\n",
        "df = pd.DataFrame(data, index=labels)\n",
        "\n",
        "#Solution\n",
        "df['priority'] = df['priority'].map({'yes': True, 'no': False})\n",
        "df"
      ],
      "execution_count": 0,
      "outputs": []
    },
    {
      "cell_type": "markdown",
      "metadata": {
        "id": "g3lyPnPd0Fq3",
        "colab_type": "text"
      },
      "source": [
        "##Problem 20."
      ]
    },
    {
      "cell_type": "markdown",
      "metadata": {
        "colab_type": "text",
        "id": "6F0rCNn1tSgs"
      },
      "source": [
        "**Problem:**\n",
        "In the 'animal' column, change the 'snake' entries to 'python'.\n",
        "\n",
        " **Possible Input:**\n",
        " ```python\n",
        "data = {'animal': ['cat', 'cat', 'snake', 'dog', 'dog', 'cat', 'snake', 'cat', 'dog', 'dog'],\n",
        "        'age': [2.5, 3, 0.5, np.nan, 5, 2, 4.5, np.nan, 7, 3],\n",
        "        'visits': [1, 3, 2, 3, 2, 3, 1, 1, 2, 1],\n",
        "        'priority': ['yes', 'yes', 'no', 'yes', 'no', 'no', 'no', 'yes', 'no', 'no']}\n",
        "labels = ['a', 'b', 'c', 'd', 'e', 'f', 'g', 'h', 'i', 'j']\n",
        "df = pd.DataFrame(data, index=labels)\n",
        "```\n",
        "\n",
        "**Expected Output:**\n",
        "```\n",
        "\tanimal\tage\tvisits\tpriority\n",
        "a\tcat\t2.5\t1\tyes\n",
        "b\tcat\t3.0\t3\tyes\n",
        "c\tpython\t0.5\t2\tno\n",
        "d\tdog\tNaN\t3\tyes\n",
        "e\tdog\t5.0\t2\tno\n",
        "f\tcat\t2.0\t3\tno\n",
        "g\tpython\t4.5\t1\tno\n",
        "h\tcat\tNaN\t1\tyes\n",
        "i\tdog\t7.0\t2\tno\n",
        "j\tdog\t3.0\t1\tno\n",
        "```\n"
      ]
    },
    {
      "cell_type": "code",
      "metadata": {
        "id": "XbVVq3E40Fq3",
        "colab_type": "code",
        "colab": {}
      },
      "source": [
        "import numpy as np\n",
        "import pandas as pd\n",
        "\n",
        "# Input\n",
        "data = {'animal'  : ['cat', 'cat', 'snake',  'dog', 'dog', 'cat', 'snake',  'cat', 'dog', 'dog'],\n",
        "        'age'     : [  2.5,     3,     0.5, np.nan,     5,     2,     4.5, np.nan,     7,     3],\n",
        "        'visits'  : [    1,     3,       2,      3,     2,     3,       1,      1,     2,     1],\n",
        "        'priority': ['yes', 'yes',    'no',  'yes',  'no',  'no',    'no',  'yes',  'no',  'no']}\n",
        "labels =            [  'a',   'b',     'c',    'd',   'e',   'f',     'g',    'h',   'i',   'j']\n",
        "df = pd.DataFrame(data, index=labels)\n",
        "\n",
        "# Enter your code here"
      ],
      "execution_count": 0,
      "outputs": []
    },
    {
      "cell_type": "markdown",
      "metadata": {
        "id": "FXxrSYo00Fq4",
        "colab_type": "text"
      },
      "source": [
        "###Solution"
      ]
    },
    {
      "cell_type": "code",
      "metadata": {
        "id": "KpEIRw3Q0Fq4",
        "colab_type": "code",
        "colab": {}
      },
      "source": [
        "import numpy as np\n",
        "import pandas as pd\n",
        "\n",
        "# Input\n",
        "data = {'animal'  : ['cat', 'cat', 'snake',  'dog', 'dog', 'cat', 'snake',  'cat', 'dog', 'dog'],\n",
        "        'age'     : [  2.5,     3,     0.5, np.nan,     5,     2,     4.5, np.nan,     7,     3],\n",
        "        'visits'  : [    1,     3,       2,      3,     2,     3,       1,      1,     2,     1],\n",
        "        'priority': ['yes', 'yes',    'no',  'yes',  'no',  'no',    'no',  'yes',  'no',  'no']}\n",
        "labels =            [  'a',   'b',     'c',    'd',   'e',   'f',     'g',    'h',   'i',   'j']\n",
        "df = pd.DataFrame(data, index=labels)\n",
        "\n",
        "#Solution\n",
        "df['animal'] = df['animal'].replace('snake', 'python')\n",
        "df"
      ],
      "execution_count": 0,
      "outputs": []
    },
    {
      "cell_type": "markdown",
      "metadata": {
        "id": "PL5xbiVo0Fq7",
        "colab_type": "text"
      },
      "source": [
        "##Problem 21."
      ]
    },
    {
      "cell_type": "markdown",
      "metadata": {
        "colab_type": "text",
        "id": "IEMy6ClYtUMS"
      },
      "source": [
        "**Problem:**\n",
        "For each animal type and each number of visits, find the mean age. \n",
        "In other words, create new table.\n",
        "Each row should be an animal, each column should be a number of visits and the values should be the mean ages.\n",
        "**Hint:** use a pivot table.\n",
        "\n",
        " **Possible Input:**\n",
        " ```python\n",
        "data = {'animal': ['cat', 'cat', 'snake', 'dog', 'dog', 'cat', 'snake', 'cat', 'dog', 'dog'],\n",
        "        'age': [2.5, 3, 0.5, np.nan, 5, 2, 4.5, np.nan, 7, 3],\n",
        "        'visits': [1, 3, 2, 3, 2, 3, 1, 1, 2, 1],\n",
        "        'priority': ['yes', 'yes', 'no', 'yes', 'no', 'no', 'no', 'yes', 'no', 'no']}\n",
        "labels = ['a', 'b', 'c', 'd', 'e', 'f', 'g', 'h', 'i', 'j']\n",
        "df = pd.DataFrame(data, index=labels)\n",
        "```\n",
        "\n",
        "**Expected Output:**\n",
        "```\n",
        "\n",
        "visits\t1\t2\t3\n",
        "animal\t\t\t\n",
        "cat\t2.5\tNaN\t2.5\n",
        "dog\t3.0\t6.0\tNaN\n",
        "snake\t4.5\t0.5\tNaN\n",
        "```\n"
      ]
    },
    {
      "cell_type": "code",
      "metadata": {
        "id": "V9HW-VIC0Fq7",
        "colab_type": "code",
        "colab": {}
      },
      "source": [
        "import numpy as np\n",
        "import pandas as pd\n",
        "\n",
        "# Input\n",
        "data = {'animal'  : ['cat', 'cat', 'snake',  'dog', 'dog', 'cat', 'snake',  'cat', 'dog', 'dog'],\n",
        "        'age'     : [  2.5,     3,     0.5, np.nan,     5,     2,     4.5, np.nan,     7,     3],\n",
        "        'visits'  : [    1,     3,       2,      3,     2,     3,       1,      1,     2,     1],\n",
        "        'priority': ['yes', 'yes',    'no',  'yes',  'no',  'no',    'no',  'yes',  'no',  'no']}\n",
        "labels =            [  'a',   'b',     'c',    'd',   'e',   'f',     'g',    'h',   'i',   'j']\n",
        "df = pd.DataFrame(data, index=labels)\n",
        "\n",
        "# Enter your code here"
      ],
      "execution_count": 0,
      "outputs": []
    },
    {
      "cell_type": "markdown",
      "metadata": {
        "id": "vpsIm3010Fq8",
        "colab_type": "text"
      },
      "source": [
        "###Solution"
      ]
    },
    {
      "cell_type": "code",
      "metadata": {
        "id": "8yljTSux0Fq8",
        "colab_type": "code",
        "colab": {}
      },
      "source": [
        "import numpy as np\n",
        "import pandas as pd\n",
        "\n",
        "# Input\n",
        "data = {'animal'  : ['cat', 'cat', 'snake',  'dog', 'dog', 'cat', 'snake',  'cat', 'dog', 'dog'],\n",
        "        'age'     : [  2.5,     3,     0.5, np.nan,     5,     2,     4.5, np.nan,     7,     3],\n",
        "        'visits'  : [    1,     3,       2,      3,     2,     3,       1,      1,     2,     1],\n",
        "        'priority': ['yes', 'yes',    'no',  'yes',  'no',  'no',    'no',  'yes',  'no',  'no']}\n",
        "labels =            [  'a',   'b',     'c',    'd',   'e',   'f',     'g',    'h',   'i',   'j']\n",
        "df = pd.DataFrame(data, index=labels)\n",
        "\n",
        "#Solution\n",
        "df.pivot_table(index='animal', columns='visits', values='age', aggfunc='mean')"
      ],
      "execution_count": 0,
      "outputs": []
    },
    {
      "cell_type": "markdown",
      "metadata": {
        "id": "nft3SLBL0Fq9",
        "colab_type": "text"
      },
      "source": [
        "# DataFrames: beyond the basics\n",
        "\n",
        "Slightly trickier: you may need to combine two or more methods to get the right answer.\n",
        "\n",
        "Difficulty: **medium**"
      ]
    },
    {
      "cell_type": "markdown",
      "metadata": {
        "id": "7EGdoY8AFF7W",
        "colab_type": "text"
      },
      "source": [
        "##Problem 22."
      ]
    },
    {
      "cell_type": "markdown",
      "metadata": {
        "id": "07Iq_b_bEi6X",
        "colab_type": "text"
      },
      "source": [
        "**Problem:**\n",
        "Given dataframe, consider column \"A\" and filter out rows which contain the same integer as the row immediately above.\n",
        "\n",
        "**Possible Input:**\n",
        "```python\n",
        "df = pd.DataFrame({'A': [1, 2, 2, 3, 4, 5, 5, 5, 2, 2, 2, 2, 6, 7, 7]})\n",
        "```\n",
        "\n",
        "**Expected Output:**\n",
        "```\n",
        "\tA\n",
        "0\t1\n",
        "1\t2\n",
        "3\t3\n",
        "4\t4\n",
        "5\t5\n",
        "8\t2\n",
        "12\t6\n",
        "13\t7\n",
        "```\n"
      ]
    },
    {
      "cell_type": "code",
      "metadata": {
        "id": "myF5NgXz0Fq9",
        "colab_type": "code",
        "colab": {}
      },
      "source": [
        "import numpy as np\n",
        "import pandas as pd\n",
        "\n",
        "# Input\n",
        "df = pd.DataFrame({'A': [1, 2, 2, 3, 4, 5, 5, 5, 2, 2, 2, 2, 6, 7, 7]})\n",
        "\n",
        "# Enter your code here"
      ],
      "execution_count": 0,
      "outputs": []
    },
    {
      "cell_type": "markdown",
      "metadata": {
        "id": "jQawHudF0Fq_",
        "colab_type": "text"
      },
      "source": [
        "###Solution"
      ]
    },
    {
      "cell_type": "code",
      "metadata": {
        "id": "oeItWFT30Fq_",
        "colab_type": "code",
        "colab": {}
      },
      "source": [
        "import numpy as np\n",
        "import pandas as pd\n",
        "\n",
        "# Input\n",
        "df = pd.DataFrame({'A': [1, 2, 2, 3, 4, 5, 5, 5, 2, 2, 2, 2, 6, 7, 7]})\n",
        "\n",
        "# Solution\n",
        "df.loc[df['A'].shift() != df['A']]"
      ],
      "execution_count": 0,
      "outputs": []
    },
    {
      "cell_type": "markdown",
      "metadata": {
        "id": "kV4HH6e00FrC",
        "colab_type": "text"
      },
      "source": [
        "##Problem 23."
      ]
    },
    {
      "cell_type": "markdown",
      "metadata": {
        "id": "U3mcBZK7Jnne",
        "colab_type": "text"
      },
      "source": [
        "**Problem:**\n",
        "Given a DataFrame of numeric values, subtract the row mean from each element in the row.\n",
        "\n",
        "**Possible Input:**\n",
        "```python\n",
        "df = pd.DataFrame({'A': [  5,  -1,  -3,   9,   8],\n",
        "                   'B': [  9,   9,  -1,   5,  -2],\n",
        "                   'C': [ -5,  10,  -5,   9, -10]})\n",
        "\n",
        "\n",
        "```\n",
        "\n",
        "**Expected Output:**\n",
        "```\n",
        "      A\t        B        \tC\n",
        "0\t2.000000\t6.000000\t-8.000000\n",
        "1\t-7.000000\t3.000000\t4.000000\n",
        "2\t0.000000\t2.000000\t-2.000000\n",
        "3\t1.333333\t-2.666667\t1.333333\n",
        "4\t9.333333\t-0.666667\t-8.666667\n",
        "```\n",
        "\n",
        "\n"
      ]
    },
    {
      "cell_type": "code",
      "metadata": {
        "id": "2m0aeBDl0FrD",
        "colab_type": "code",
        "colab": {}
      },
      "source": [
        "import numpy as np\n",
        "import pandas as ps\n",
        "\n",
        "# Input\n",
        "df = pd.DataFrame({'A': [  5,  -1,  -3,   9,   8],\n",
        "                   'B': [  9,   9,  -1,   5,  -2],\n",
        "                   'C': [ -5,  10,  -5,   9, -10]})\n",
        "\n",
        "# Enter your code here"
      ],
      "execution_count": 0,
      "outputs": []
    },
    {
      "cell_type": "markdown",
      "metadata": {
        "id": "Mgu45c-a0FrE",
        "colab_type": "text"
      },
      "source": [
        "###Solution"
      ]
    },
    {
      "cell_type": "code",
      "metadata": {
        "id": "RQMmua5-0FrG",
        "colab_type": "code",
        "colab": {}
      },
      "source": [
        "import numpy as np\n",
        "import pandas as ps\n",
        "\n",
        "# Input\n",
        "df = pd.DataFrame({'A': [  5,  -1,  -3,   9,   8],\n",
        "                   'B': [  9,   9,  -1,   5,  -2],\n",
        "                   'C': [ -5,  10,  -5,   9, -10]})\n",
        "\n",
        "# Solution\n",
        "df.sub(df.mean(axis=1), axis=0)"
      ],
      "execution_count": 0,
      "outputs": []
    },
    {
      "cell_type": "markdown",
      "metadata": {
        "id": "uGBurm550FrI",
        "colab_type": "text"
      },
      "source": [
        "##Problem 24."
      ]
    },
    {
      "cell_type": "markdown",
      "metadata": {
        "id": "qFJr_8uSO-v2",
        "colab_type": "text"
      },
      "source": [
        "**Problem:**\n",
        "A dataframe that contains 10 columns of nubers is given.\n",
        "Find label of the column containing the smallest sum.\n",
        "\n",
        "**Possible Input:**\n",
        "```python\n",
        "df = pd.DataFrame({\n",
        "       'a' : [  2,  -4,  -7, -10,   9],\n",
        "       'b' : [  7,  -9,  -7,  -7,  -4],\n",
        "       'c' : [ -8,  10,  -8,   5,  -3],\n",
        "       'd' : [  3,  -8,   5,  -4, -10],\n",
        "       'e' : [  9,   3,  -5,  -9,   6],\n",
        "       'f' : [ -1,  -7, -10,  -8,  10],\n",
        "       'g' : [  1,   8,   3,   9,   5],\n",
        "       'h' : [  3,   5,   0,   1,  -3],\n",
        "       'i' : [  3,   4,  -5,  -9,  -7],\n",
        "       'j' : [  0,   4,  -6,   3,   9]})\n",
        "```\n",
        "\n",
        "**Expected Output**\n",
        "```\n",
        "'b'\n",
        "```\n",
        "\n"
      ]
    },
    {
      "cell_type": "code",
      "metadata": {
        "id": "KAvcTSLb0FrI",
        "colab_type": "code",
        "colab": {}
      },
      "source": [
        "import numpy as np\n",
        "import pandas as pd\n",
        "\n",
        "# Input\n",
        "df = pd.DataFrame({\n",
        "       'a' : [  2,  -4,  -7, -10,   9],\n",
        "       'b' : [  7,  -9,  -7,  -7,  -4],\n",
        "       'c' : [ -8,  10,  -8,   5,  -3],\n",
        "       'd' : [  3,  -8,   5,  -4, -10],\n",
        "       'e' : [  9,   3,  -5,  -9,   6],\n",
        "       'f' : [ -1,  -7, -10,  -8,  10],\n",
        "       'g' : [  1,   8,   3,   9,   5],\n",
        "       'h' : [  3,   5,   0,   1,  -3],\n",
        "       'i' : [  3,   4,  -5,  -9,  -7],\n",
        "       'j' : [  0,   4,  -6,   3,   9]})\n",
        "\n",
        "# Enter your code here"
      ],
      "execution_count": 0,
      "outputs": []
    },
    {
      "cell_type": "markdown",
      "metadata": {
        "id": "j7wmbFxa0FrM",
        "colab_type": "text"
      },
      "source": [
        "###Solution"
      ]
    },
    {
      "cell_type": "code",
      "metadata": {
        "id": "f1ojxMpv0FrM",
        "colab_type": "code",
        "colab": {}
      },
      "source": [
        "import numpy as np\n",
        "import pandas as pd\n",
        "\n",
        "# Input\n",
        "df = pd.DataFrame({\n",
        "       'a' : [  2,  -4,  -7, -10,   9],\n",
        "       'b' : [  7,  -9,  -7,  -7,  -4],\n",
        "       'c' : [ -8,  10,  -8,   5,  -3],\n",
        "       'd' : [  3,  -8,   5,  -4, -10],\n",
        "       'e' : [  9,   3,  -5,  -9,   6],\n",
        "       'f' : [ -1,  -7, -10,  -8,  10],\n",
        "       'g' : [  1,   8,   3,   9,   5],\n",
        "       'h' : [  3,   5,   0,   1,  -3],\n",
        "       'i' : [  3,   4,  -5,  -9,  -7],\n",
        "       'j' : [  0,   4,  -6,   3,   9]})\n",
        "\n",
        "# Solution\n",
        "df.sum().idxmin()"
      ],
      "execution_count": 0,
      "outputs": []
    },
    {
      "cell_type": "markdown",
      "metadata": {
        "id": "3uuI-TjJ0FrN",
        "colab_type": "text"
      },
      "source": [
        "##Problem 25."
      ]
    },
    {
      "cell_type": "markdown",
      "metadata": {
        "id": "9gEzWrH4Re_z",
        "colab_type": "text"
      },
      "source": [
        "**Problem:**\n",
        "Count the nuber of unique rows in the given dataframe.\n",
        "\n",
        "**Possible Input:**\n",
        "```python\n",
        "df = pd.DataFrame({\n",
        "       'a' : [  2,  -4,   2,   2,  -4],\n",
        "       'b' : [  7,  -9,   7,   7,  -9],\n",
        "       'c' : [ -8,  10,  -8,  -8,  10],\n",
        "       'd' : [  3,  -8,   3,   3,  -8]})\n",
        "\n",
        "\n",
        "```\n",
        "\n",
        "**Expected Output:**\n",
        "```\n",
        "2\n",
        "```\n",
        "\n"
      ]
    },
    {
      "cell_type": "code",
      "metadata": {
        "id": "S4na5Wvd0FrN",
        "colab_type": "code",
        "colab": {}
      },
      "source": [
        "import numpy as np\n",
        "import pandas as pd\n",
        "\n",
        "# Input\n",
        "df = pd.DataFrame({\n",
        "       'a' : [  2,  -4,   2,   2,  -4],\n",
        "       'b' : [  7,  -9,   7,   7,  -9],\n",
        "       'c' : [ -8,  10,  -8,  -8,  10],\n",
        "       'd' : [  3,  -8,   3,   3,  -8]})\n",
        "\n",
        "# Enter your code here"
      ],
      "execution_count": 0,
      "outputs": []
    },
    {
      "cell_type": "markdown",
      "metadata": {
        "id": "EyTs1PF20FrO",
        "colab_type": "text"
      },
      "source": [
        "###Solution A:"
      ]
    },
    {
      "cell_type": "code",
      "metadata": {
        "id": "EeyHHUYL0FrP",
        "colab_type": "code",
        "colab": {}
      },
      "source": [
        "import numpy as np\n",
        "import pandas as pd\n",
        "\n",
        "# Input\n",
        "df = pd.DataFrame({\n",
        "       'a' : [  2,  -4,   2,   2,  -4],\n",
        "       'b' : [  7,  -9,   7,   7,  -9],\n",
        "       'c' : [ -8,  10,  -8,  -8,  10],\n",
        "       'd' : [  3,  -8,   3,   3,  -8]})\n",
        "\n",
        "# Solution\n",
        "len(df.drop_duplicates(keep=\"first\"))"
      ],
      "execution_count": 0,
      "outputs": []
    },
    {
      "cell_type": "markdown",
      "metadata": {
        "id": "vnjBciEHTmAn",
        "colab_type": "text"
      },
      "source": [
        "###Solution B:"
      ]
    },
    {
      "cell_type": "code",
      "metadata": {
        "id": "gPWP1wh0S5IU",
        "colab_type": "code",
        "colab": {}
      },
      "source": [
        "import numpy as np\n",
        "import pandas as pd\n",
        "\n",
        "# Input\n",
        "df = pd.DataFrame({\n",
        "       'a' : [  2,  -4,   2,   2,  -4],\n",
        "       'b' : [  7,  -9,   7,   7,  -9],\n",
        "       'c' : [ -8,  10,  -8,  -8,  10],\n",
        "       'd' : [  3,  -8,   3,   3,  -8]})\n",
        "\n",
        "# Solution\n",
        "len(df) - df.duplicated(keep=\"first\").sum()"
      ],
      "execution_count": 0,
      "outputs": []
    },
    {
      "cell_type": "markdown",
      "metadata": {
        "id": "80HPTF3M0FrQ",
        "colab_type": "text"
      },
      "source": [
        "##Problem 26."
      ]
    },
    {
      "cell_type": "markdown",
      "metadata": {
        "id": "Qn47jaUQu9mH",
        "colab_type": "text"
      },
      "source": [
        "**Problem:**\n",
        "You are given a dataframe that contains numbers and nans.\n",
        "For each row find the column that contains third nan.\n",
        "Print as output pairs row-column with third nan.\n",
        "\n",
        "**Possible Input:**\n",
        "```python\n",
        "df = pd.DataFrame({\n",
        "       'a' : [np.nan,    -4,  -7,   -10,     9],\n",
        "       'b' : [     7,    -9,  -7,np.nan,    -4],\n",
        "       'c' : [    -8,    10,  -8,     5,    -3],\n",
        "       'd' : [np.nan,np.nan,   5,    -4,np.nan],\n",
        "       'e' : [     9,np.nan,  -5,    -9,np.nan],\n",
        "       'f' : [np.nan,    -7, -10,    -8,np.nan],\n",
        "       'g' : [np.nan,     8,   3,     9,     5],\n",
        "       'h' : [np.nan,     5,   0,np.nan,    -3],\n",
        "       'i' : [     3,np.nan,  -5,    -9,    -7],\n",
        "       'j' : [     0,np.nan,  -6,     3,     9]})\n",
        "n = 3\n",
        "```\n",
        "\n",
        "**Expected Output:**\n",
        "```\n",
        "0    f\n",
        "1    i\n",
        "4    f\n",
        "dtype: object\n",
        "```"
      ]
    },
    {
      "cell_type": "code",
      "metadata": {
        "id": "IuHKu2qh0FrQ",
        "colab_type": "code",
        "colab": {}
      },
      "source": [
        "import numpy as np\n",
        "import pandas as pd\n",
        "\n",
        "# Input\n",
        "df = pd.DataFrame({\n",
        "       'a' : [np.nan,    -4,  -7,   -10,     9],\n",
        "       'b' : [     7,    -9,  -7,np.nan,    -4],\n",
        "       'c' : [    -8,    10,  -8,     5,    -3],\n",
        "       'd' : [np.nan,np.nan,   5,    -4,np.nan],\n",
        "       'e' : [     9,np.nan,  -5,    -9,np.nan],\n",
        "       'f' : [np.nan,    -7, -10,    -8,np.nan],\n",
        "       'g' : [np.nan,     8,   3,     9,     5],\n",
        "       'h' : [np.nan,     5,   0,np.nan,    -3],\n",
        "       'i' : [     3,np.nan,  -5,    -9,    -7],\n",
        "       'j' : [     0,np.nan,  -6,     3,     9]})\n",
        "n = 3\n",
        "\n",
        "# Enter your code here"
      ],
      "execution_count": 0,
      "outputs": []
    },
    {
      "cell_type": "markdown",
      "metadata": {
        "id": "Y1XCBc1i0FrR",
        "colab_type": "text"
      },
      "source": [
        "###Solution A:"
      ]
    },
    {
      "cell_type": "code",
      "metadata": {
        "id": "DHNRZMFD0FrS",
        "colab_type": "code",
        "colab": {}
      },
      "source": [
        "import numpy as np\n",
        "import pandas as pd\n",
        "\n",
        "# Input\n",
        "df = pd.DataFrame({\n",
        "       'a' : [np.nan,    -4,  -7,   -10,     9],\n",
        "       'b' : [     7,    -9,  -7,np.nan,    -4],\n",
        "       'c' : [    -8,    10,  -8,     5,    -3],\n",
        "       'd' : [np.nan,np.nan,   5,    -4,np.nan],\n",
        "       'e' : [     9,np.nan,  -5,    -9,np.nan],\n",
        "       'f' : [np.nan,    -7, -10,    -8,np.nan],\n",
        "       'g' : [np.nan,     8,   3,     9,     5],\n",
        "       'h' : [np.nan,     5,   0,np.nan,    -3],\n",
        "       'i' : [     3,np.nan,  -5,    -9,    -7],\n",
        "       'j' : [     0,np.nan,  -6,     3,     9]})\n",
        "n = 3\n",
        "\n",
        "# Solution\n",
        "(df[df.isnull().sum(axis=1) >= n].isnull().cumsum(axis=1) == n).idxmax(axis=1, skipna=True)"
      ],
      "execution_count": 0,
      "outputs": []
    },
    {
      "cell_type": "markdown",
      "metadata": {
        "id": "4ALhhiuNvuPu",
        "colab_type": "text"
      },
      "source": [
        "###Solution B:"
      ]
    },
    {
      "cell_type": "code",
      "metadata": {
        "id": "ZE68zhLGucWW",
        "colab_type": "code",
        "colab": {}
      },
      "source": [
        "import numpy as np\n",
        "import pandas as pd\n",
        "\n",
        "# Input\n",
        "df = pd.DataFrame({\n",
        "       'a' : [np.nan,    -4,  -7,   -10,     9],\n",
        "       'b' : [     7,    -9,  -7,np.nan,    -4],\n",
        "       'c' : [    -8,    10,  -8,     5,    -3],\n",
        "       'd' : [np.nan,np.nan,   5,    -4,np.nan],\n",
        "       'e' : [     9,np.nan,  -5,    -9,np.nan],\n",
        "       'f' : [np.nan,    -7, -10,    -8,np.nan],\n",
        "       'g' : [np.nan,     8,   3,     9,     5],\n",
        "       'h' : [np.nan,     5,   0,np.nan,    -3],\n",
        "       'i' : [     3,np.nan,  -5,    -9,    -7],\n",
        "       'j' : [     0,np.nan,  -6,     3,     9]})\n",
        "n = 3\n",
        "\n",
        "# Solution\n",
        "temp = df.isnull()\n",
        "temp = temp[temp.sum(axis=1) >= n]\n",
        "(temp.cumsum(axis=1) == n).idxmax(axis=1, skipna=True)"
      ],
      "execution_count": 0,
      "outputs": []
    },
    {
      "cell_type": "markdown",
      "metadata": {
        "id": "e48iw4gU0FrS",
        "colab_type": "text"
      },
      "source": [
        "##Problem 27."
      ]
    },
    {
      "cell_type": "markdown",
      "metadata": {
        "id": "Rh55ztRj6dGz",
        "colab_type": "text"
      },
      "source": [
        "**Problem:**\n",
        "A DataFrame has a column \"groups\" and a column \"values\" that contains numbers.\n",
        "For each group, find the sum of the three greatest values.\n",
        "\n",
        "**Possible Input:**\n",
        "```python\n",
        "df = pd.DataFrame({'groups': list('aaabbcaabcccbbc'), \n",
        "                   'values': [12,345,3,1,45,14,4,52,54,23,235,21,57,3,87]})\n",
        "```\n",
        "\n",
        "**Expected Output:**\n",
        "```\n",
        "groups\n",
        "a    409\n",
        "b    156\n",
        "c    345\n",
        "Name: values, dtype: int64\n",
        "```"
      ]
    },
    {
      "cell_type": "code",
      "metadata": {
        "id": "LNRnfYEV0FrS",
        "colab_type": "code",
        "colab": {}
      },
      "source": [
        "import numpy as np\n",
        "import pandas as pd\n",
        "\n",
        "# Input\n",
        "df = pd.DataFrame({'groups': list('aaabbcaabcccbbc'), \n",
        "                   'values': [12,345,3,1,45,14,4,52,54,23,235,21,57,3,87]})\n",
        "\n",
        "# Enter your code here"
      ],
      "execution_count": 0,
      "outputs": []
    },
    {
      "cell_type": "markdown",
      "metadata": {
        "id": "3iqB5Lu90FrU",
        "colab_type": "text"
      },
      "source": [
        "###Solution"
      ]
    },
    {
      "cell_type": "code",
      "metadata": {
        "id": "AVw6EHTP0FrU",
        "colab_type": "code",
        "colab": {}
      },
      "source": [
        "import numpy as np\n",
        "import pandas as pd\n",
        "\n",
        "# Input\n",
        "df = pd.DataFrame({'groups': list('aaabbcaabcccbbc'), \n",
        "                   'values': [12,345,3,1,45,14,4,52,54,23,235,21,57,3,87]})\n",
        "\n",
        "# Solution\n",
        "df.groupby('groups')['values'].nlargest(3).sum(level=0)"
      ],
      "execution_count": 0,
      "outputs": []
    },
    {
      "cell_type": "markdown",
      "metadata": {
        "id": "O-8-zOpJ0FrX",
        "colab_type": "text"
      },
      "source": [
        "##Problem 28."
      ]
    },
    {
      "cell_type": "markdown",
      "metadata": {
        "id": "338cJCi89gYT",
        "colab_type": "text"
      },
      "source": [
        "**Problem:**\n",
        "A DataFrame has two integer columns 'A' and 'B'.\n",
        "The values in 'A' are between 1 and 100 (inclusive).\n",
        "For each group of 10 consecutive integers in 'A' (i.e. `(0, 10]`, `(10, 20]`, ...), calculate the sum of the corresponding values\n",
        "in column 'B'.\n",
        "\n",
        "**Possible Input:**\n",
        "```python\n",
        "df = pd.DataFrame({'A': np.arange(1, 101),\n",
        "                   'B': [2.0**(-n) for n in range(1, 101)]})\n",
        "```\n",
        "\n",
        "**Expected Output:**\n",
        "```\n",
        "A\n",
        "(0, 10]      9.990234e-01\n",
        "(10, 20]     9.756088e-04\n",
        "(20, 30]     9.527430e-07\n",
        "(30, 40]     9.304131e-10\n",
        "(40, 50]     9.086065e-13\n",
        "(50, 60]     8.873111e-16\n",
        "(60, 70]     8.665147e-19\n",
        "(70, 80]     8.462058e-22\n",
        "(80, 90]     8.263728e-25\n",
        "(90, 100]    8.070047e-28\n",
        "Name: B, dtype: float64\n",
        "```\n",
        "\n"
      ]
    },
    {
      "cell_type": "code",
      "metadata": {
        "id": "69Py3xMa0FrX",
        "colab_type": "code",
        "colab": {}
      },
      "source": [
        "import numpy as np\n",
        "import pandas as pd\n",
        "\n",
        "# Input\n",
        "df = pd.DataFrame({'A': np.arange(1, 101),\n",
        "                   'B': [2.0**(-n) for n in range(1, 101)]})\n",
        "\n",
        "# Enter your code here"
      ],
      "execution_count": 0,
      "outputs": []
    },
    {
      "cell_type": "markdown",
      "metadata": {
        "id": "180KQ4da0FrY",
        "colab_type": "text"
      },
      "source": [
        "###Solution"
      ]
    },
    {
      "cell_type": "code",
      "metadata": {
        "id": "lwrdWcS30FrY",
        "colab_type": "code",
        "colab": {}
      },
      "source": [
        "import numpy as np\n",
        "import pandas as pd\n",
        "\n",
        "# Input\n",
        "df = pd.DataFrame({'A': np.arange(1, 101),\n",
        "                   'B': [2.0**(-n) for n in range(1, 101)]})\n",
        "\n",
        "# Solution\n",
        "df.groupby(pd.cut(df['A'], np.arange(0, 101, 10)))['B'].sum()"
      ],
      "execution_count": 0,
      "outputs": []
    },
    {
      "cell_type": "markdown",
      "metadata": {
        "id": "q9UEzPxW0FrZ",
        "colab_type": "text"
      },
      "source": [
        "# DataFrames: harder problems \n",
        "\n",
        "These might require a bit of thinking outside the box...\n",
        "\n",
        "...but all are solvable using just the usual pandas/NumPy methods (and so avoid using explicit `for` loops).\n",
        "\n",
        "Difficulty: **hard**"
      ]
    },
    {
      "cell_type": "markdown",
      "metadata": {
        "id": "tdg2iaag0Mgp",
        "colab_type": "text"
      },
      "source": [
        "##Problem 29.\n",
        "\n"
      ]
    },
    {
      "cell_type": "markdown",
      "metadata": {
        "id": "3tWYLDML3Ap4",
        "colab_type": "text"
      },
      "source": [
        "**Problem:**\n",
        "Consider a DataFrame df containing an integer column X.\n",
        "Create new column Y containing distance (in rows) to the closest previous zero value in X.\n",
        "If all previous values in column X are nonzero -- set entry in Y equal to the distance to the beginning of the array.\n",
        "\n",
        "**Possible Input:**\n",
        "```python\n",
        "f = pd.DataFrame({'X': [7, 2, 0, 3, 4, 2, 5, 0, 3, 4]})\n",
        "```\n",
        "\n",
        "**Expected Output:**\n",
        "```\n",
        "\tX\tY\n",
        "0\t7\t1\n",
        "1\t2\t2\n",
        "2\t0\t0\n",
        "3\t3\t1\n",
        "4\t4\t2\n",
        "5\t2\t3\n",
        "6\t5\t4\n",
        "7\t0\t0\n",
        "8\t3\t1\n",
        "9\t4\t2\n",
        "```"
      ]
    },
    {
      "cell_type": "code",
      "metadata": {
        "id": "SfZWZehg0Fra",
        "colab_type": "code",
        "colab": {}
      },
      "source": [
        "import numpy as np\n",
        "import pandas as pd\n",
        "\n",
        "# Input\n",
        "df = pd.DataFrame({'X': [7, 2, 0, 3, 4, 2, 5, 0, 3, 4]})\n",
        "\n",
        "# Enter your code here"
      ],
      "execution_count": 0,
      "outputs": []
    },
    {
      "cell_type": "markdown",
      "metadata": {
        "id": "DWAv3Sst0Frc",
        "colab_type": "text"
      },
      "source": [
        "###Solution A:"
      ]
    },
    {
      "cell_type": "code",
      "metadata": {
        "id": "-1uT2E930Frc",
        "colab_type": "code",
        "outputId": "8a9b0b8b-c805-45e8-edd7-b4bacf92f908",
        "colab": {
          "base_uri": "https://localhost:8080/",
          "height": 359
        }
      },
      "source": [
        "import numpy as np\n",
        "import pandas as pd\n",
        "\n",
        "# Input\n",
        "df = pd.DataFrame({'X': [7, 2, 0, 3, 4, 2, 5, 0, 3, 4]})\n",
        "\n",
        "# Solution\n",
        "izero = np.r_[-1, (df['X'] == 0).to_numpy().nonzero()[0]] # indices of zeros\n",
        "idx = np.arange(len(df))\n",
        "df['Y'] = idx - izero[np.searchsorted(izero - 1, idx) - 1]\n",
        "df"
      ],
      "execution_count": 0,
      "outputs": [
        {
          "output_type": "execute_result",
          "data": {
            "text/html": [
              "<div>\n",
              "<style scoped>\n",
              "    .dataframe tbody tr th:only-of-type {\n",
              "        vertical-align: middle;\n",
              "    }\n",
              "\n",
              "    .dataframe tbody tr th {\n",
              "        vertical-align: top;\n",
              "    }\n",
              "\n",
              "    .dataframe thead th {\n",
              "        text-align: right;\n",
              "    }\n",
              "</style>\n",
              "<table border=\"1\" class=\"dataframe\">\n",
              "  <thead>\n",
              "    <tr style=\"text-align: right;\">\n",
              "      <th></th>\n",
              "      <th>X</th>\n",
              "      <th>Y</th>\n",
              "    </tr>\n",
              "  </thead>\n",
              "  <tbody>\n",
              "    <tr>\n",
              "      <th>0</th>\n",
              "      <td>7</td>\n",
              "      <td>1</td>\n",
              "    </tr>\n",
              "    <tr>\n",
              "      <th>1</th>\n",
              "      <td>2</td>\n",
              "      <td>2</td>\n",
              "    </tr>\n",
              "    <tr>\n",
              "      <th>2</th>\n",
              "      <td>0</td>\n",
              "      <td>0</td>\n",
              "    </tr>\n",
              "    <tr>\n",
              "      <th>3</th>\n",
              "      <td>3</td>\n",
              "      <td>1</td>\n",
              "    </tr>\n",
              "    <tr>\n",
              "      <th>4</th>\n",
              "      <td>4</td>\n",
              "      <td>2</td>\n",
              "    </tr>\n",
              "    <tr>\n",
              "      <th>5</th>\n",
              "      <td>2</td>\n",
              "      <td>3</td>\n",
              "    </tr>\n",
              "    <tr>\n",
              "      <th>6</th>\n",
              "      <td>5</td>\n",
              "      <td>4</td>\n",
              "    </tr>\n",
              "    <tr>\n",
              "      <th>7</th>\n",
              "      <td>0</td>\n",
              "      <td>0</td>\n",
              "    </tr>\n",
              "    <tr>\n",
              "      <th>8</th>\n",
              "      <td>3</td>\n",
              "      <td>1</td>\n",
              "    </tr>\n",
              "    <tr>\n",
              "      <th>9</th>\n",
              "      <td>4</td>\n",
              "      <td>2</td>\n",
              "    </tr>\n",
              "  </tbody>\n",
              "</table>\n",
              "</div>"
            ],
            "text/plain": [
              "   X  Y\n",
              "0  7  1\n",
              "1  2  2\n",
              "2  0  0\n",
              "3  3  1\n",
              "4  4  2\n",
              "5  2  3\n",
              "6  5  4\n",
              "7  0  0\n",
              "8  3  1\n",
              "9  4  2"
            ]
          },
          "metadata": {
            "tags": []
          },
          "execution_count": 2
        }
      ]
    },
    {
      "cell_type": "markdown",
      "metadata": {
        "id": "QEQwbkjE0Frf",
        "colab_type": "text"
      },
      "source": [
        "###Solution B:"
      ]
    },
    {
      "cell_type": "code",
      "metadata": {
        "id": "qfLUKPMh0Frf",
        "colab_type": "code",
        "outputId": "2679313d-5708-4710-f5a9-a444df47f6e5",
        "colab": {
          "base_uri": "https://localhost:8080/",
          "height": 359
        }
      },
      "source": [
        "import numpy as np\n",
        "import pandas as pd\n",
        "\n",
        "# Input\n",
        "df = pd.DataFrame({'X': [7, 2, 0, 3, 4, 2, 5, 0, 3, 4]})\n",
        "\n",
        "# Solution\n",
        "izero = np.r_[-1, (df['X'] == 0).to_numpy().nonzero()[0]] # indices of zeros\n",
        "idx = np.arange(len(df))\n",
        "df['Y'] = idx - izero[np.searchsorted(izero - 1, idx) - 1]\n",
        "df"
      ],
      "execution_count": 0,
      "outputs": [
        {
          "output_type": "execute_result",
          "data": {
            "text/html": [
              "<div>\n",
              "<style scoped>\n",
              "    .dataframe tbody tr th:only-of-type {\n",
              "        vertical-align: middle;\n",
              "    }\n",
              "\n",
              "    .dataframe tbody tr th {\n",
              "        vertical-align: top;\n",
              "    }\n",
              "\n",
              "    .dataframe thead th {\n",
              "        text-align: right;\n",
              "    }\n",
              "</style>\n",
              "<table border=\"1\" class=\"dataframe\">\n",
              "  <thead>\n",
              "    <tr style=\"text-align: right;\">\n",
              "      <th></th>\n",
              "      <th>X</th>\n",
              "      <th>Y</th>\n",
              "    </tr>\n",
              "  </thead>\n",
              "  <tbody>\n",
              "    <tr>\n",
              "      <th>0</th>\n",
              "      <td>7</td>\n",
              "      <td>1</td>\n",
              "    </tr>\n",
              "    <tr>\n",
              "      <th>1</th>\n",
              "      <td>2</td>\n",
              "      <td>2</td>\n",
              "    </tr>\n",
              "    <tr>\n",
              "      <th>2</th>\n",
              "      <td>0</td>\n",
              "      <td>0</td>\n",
              "    </tr>\n",
              "    <tr>\n",
              "      <th>3</th>\n",
              "      <td>3</td>\n",
              "      <td>1</td>\n",
              "    </tr>\n",
              "    <tr>\n",
              "      <th>4</th>\n",
              "      <td>4</td>\n",
              "      <td>2</td>\n",
              "    </tr>\n",
              "    <tr>\n",
              "      <th>5</th>\n",
              "      <td>2</td>\n",
              "      <td>3</td>\n",
              "    </tr>\n",
              "    <tr>\n",
              "      <th>6</th>\n",
              "      <td>5</td>\n",
              "      <td>4</td>\n",
              "    </tr>\n",
              "    <tr>\n",
              "      <th>7</th>\n",
              "      <td>0</td>\n",
              "      <td>0</td>\n",
              "    </tr>\n",
              "    <tr>\n",
              "      <th>8</th>\n",
              "      <td>3</td>\n",
              "      <td>1</td>\n",
              "    </tr>\n",
              "    <tr>\n",
              "      <th>9</th>\n",
              "      <td>4</td>\n",
              "      <td>2</td>\n",
              "    </tr>\n",
              "  </tbody>\n",
              "</table>\n",
              "</div>"
            ],
            "text/plain": [
              "   X  Y\n",
              "0  7  1\n",
              "1  2  2\n",
              "2  0  0\n",
              "3  3  1\n",
              "4  4  2\n",
              "5  2  3\n",
              "6  5  4\n",
              "7  0  0\n",
              "8  3  1\n",
              "9  4  2"
            ]
          },
          "metadata": {
            "tags": []
          },
          "execution_count": 4
        }
      ]
    },
    {
      "cell_type": "markdown",
      "metadata": {
        "id": "XpSNuLJF0Frh",
        "colab_type": "text"
      },
      "source": [
        "###Solution C:"
      ]
    },
    {
      "cell_type": "code",
      "metadata": {
        "id": "i_qUAsFF0Fri",
        "colab_type": "code",
        "outputId": "2b424b7e-7024-4fb3-c584-a3a17d965a2e",
        "colab": {
          "base_uri": "https://localhost:8080/",
          "height": 359
        }
      },
      "source": [
        "import numpy as np\n",
        "import pandas as pd\n",
        "\n",
        "# Input\n",
        "df = pd.DataFrame({'X': [7, 2, 0, 3, 4, 2, 5, 0, 3, 4]})\n",
        "\n",
        "# Solution\n",
        "x = (df['X'] != 0).cumsum()\n",
        "y = x != x.shift()\n",
        "df['Y'] = y.groupby((y != y.shift()).cumsum()).cumsum().astype('int')\n",
        "df"
      ],
      "execution_count": 0,
      "outputs": [
        {
          "output_type": "execute_result",
          "data": {
            "text/html": [
              "<div>\n",
              "<style scoped>\n",
              "    .dataframe tbody tr th:only-of-type {\n",
              "        vertical-align: middle;\n",
              "    }\n",
              "\n",
              "    .dataframe tbody tr th {\n",
              "        vertical-align: top;\n",
              "    }\n",
              "\n",
              "    .dataframe thead th {\n",
              "        text-align: right;\n",
              "    }\n",
              "</style>\n",
              "<table border=\"1\" class=\"dataframe\">\n",
              "  <thead>\n",
              "    <tr style=\"text-align: right;\">\n",
              "      <th></th>\n",
              "      <th>X</th>\n",
              "      <th>Y</th>\n",
              "    </tr>\n",
              "  </thead>\n",
              "  <tbody>\n",
              "    <tr>\n",
              "      <th>0</th>\n",
              "      <td>7</td>\n",
              "      <td>1</td>\n",
              "    </tr>\n",
              "    <tr>\n",
              "      <th>1</th>\n",
              "      <td>2</td>\n",
              "      <td>2</td>\n",
              "    </tr>\n",
              "    <tr>\n",
              "      <th>2</th>\n",
              "      <td>0</td>\n",
              "      <td>0</td>\n",
              "    </tr>\n",
              "    <tr>\n",
              "      <th>3</th>\n",
              "      <td>3</td>\n",
              "      <td>1</td>\n",
              "    </tr>\n",
              "    <tr>\n",
              "      <th>4</th>\n",
              "      <td>4</td>\n",
              "      <td>2</td>\n",
              "    </tr>\n",
              "    <tr>\n",
              "      <th>5</th>\n",
              "      <td>2</td>\n",
              "      <td>3</td>\n",
              "    </tr>\n",
              "    <tr>\n",
              "      <th>6</th>\n",
              "      <td>5</td>\n",
              "      <td>4</td>\n",
              "    </tr>\n",
              "    <tr>\n",
              "      <th>7</th>\n",
              "      <td>0</td>\n",
              "      <td>0</td>\n",
              "    </tr>\n",
              "    <tr>\n",
              "      <th>8</th>\n",
              "      <td>3</td>\n",
              "      <td>1</td>\n",
              "    </tr>\n",
              "    <tr>\n",
              "      <th>9</th>\n",
              "      <td>4</td>\n",
              "      <td>2</td>\n",
              "    </tr>\n",
              "  </tbody>\n",
              "</table>\n",
              "</div>"
            ],
            "text/plain": [
              "   X  Y\n",
              "0  7  1\n",
              "1  2  2\n",
              "2  0  0\n",
              "3  3  1\n",
              "4  4  2\n",
              "5  2  3\n",
              "6  5  4\n",
              "7  0  0\n",
              "8  3  1\n",
              "9  4  2"
            ]
          },
          "metadata": {
            "tags": []
          },
          "execution_count": 7
        }
      ]
    },
    {
      "cell_type": "markdown",
      "metadata": {
        "id": "Ojt12WVP0Frk",
        "colab_type": "text"
      },
      "source": [
        "###Solution D:"
      ]
    },
    {
      "cell_type": "code",
      "metadata": {
        "id": "KZ59W6U40Frk",
        "colab_type": "code",
        "outputId": "f4982654-bde8-4fd1-a4ce-f47b85e22199",
        "colab": {
          "base_uri": "https://localhost:8080/",
          "height": 359
        }
      },
      "source": [
        "import numpy as np\n",
        "import pandas as pd\n",
        "\n",
        "# Input\n",
        "df = pd.DataFrame({'X': [7, 2, 0, 3, 4, 2, 5, 0, 3, 4]})\n",
        "\n",
        "# Solution\n",
        "df['Y'] = df.groupby((df['X'] == 0).cumsum()).cumcount()\n",
        "# We're off by one before we reach the first zero.\n",
        "first_zero_idx = (df['X'] == 0).idxmax()\n",
        "df['Y'].iloc[0:first_zero_idx] += 1\n",
        "df"
      ],
      "execution_count": 0,
      "outputs": [
        {
          "output_type": "execute_result",
          "data": {
            "text/html": [
              "<div>\n",
              "<style scoped>\n",
              "    .dataframe tbody tr th:only-of-type {\n",
              "        vertical-align: middle;\n",
              "    }\n",
              "\n",
              "    .dataframe tbody tr th {\n",
              "        vertical-align: top;\n",
              "    }\n",
              "\n",
              "    .dataframe thead th {\n",
              "        text-align: right;\n",
              "    }\n",
              "</style>\n",
              "<table border=\"1\" class=\"dataframe\">\n",
              "  <thead>\n",
              "    <tr style=\"text-align: right;\">\n",
              "      <th></th>\n",
              "      <th>X</th>\n",
              "      <th>Y</th>\n",
              "    </tr>\n",
              "  </thead>\n",
              "  <tbody>\n",
              "    <tr>\n",
              "      <th>0</th>\n",
              "      <td>7</td>\n",
              "      <td>1</td>\n",
              "    </tr>\n",
              "    <tr>\n",
              "      <th>1</th>\n",
              "      <td>2</td>\n",
              "      <td>2</td>\n",
              "    </tr>\n",
              "    <tr>\n",
              "      <th>2</th>\n",
              "      <td>0</td>\n",
              "      <td>0</td>\n",
              "    </tr>\n",
              "    <tr>\n",
              "      <th>3</th>\n",
              "      <td>3</td>\n",
              "      <td>1</td>\n",
              "    </tr>\n",
              "    <tr>\n",
              "      <th>4</th>\n",
              "      <td>4</td>\n",
              "      <td>2</td>\n",
              "    </tr>\n",
              "    <tr>\n",
              "      <th>5</th>\n",
              "      <td>2</td>\n",
              "      <td>3</td>\n",
              "    </tr>\n",
              "    <tr>\n",
              "      <th>6</th>\n",
              "      <td>5</td>\n",
              "      <td>4</td>\n",
              "    </tr>\n",
              "    <tr>\n",
              "      <th>7</th>\n",
              "      <td>0</td>\n",
              "      <td>0</td>\n",
              "    </tr>\n",
              "    <tr>\n",
              "      <th>8</th>\n",
              "      <td>3</td>\n",
              "      <td>1</td>\n",
              "    </tr>\n",
              "    <tr>\n",
              "      <th>9</th>\n",
              "      <td>4</td>\n",
              "      <td>2</td>\n",
              "    </tr>\n",
              "  </tbody>\n",
              "</table>\n",
              "</div>"
            ],
            "text/plain": [
              "   X  Y\n",
              "0  7  1\n",
              "1  2  2\n",
              "2  0  0\n",
              "3  3  1\n",
              "4  4  2\n",
              "5  2  3\n",
              "6  5  4\n",
              "7  0  0\n",
              "8  3  1\n",
              "9  4  2"
            ]
          },
          "metadata": {
            "tags": []
          },
          "execution_count": 9
        }
      ]
    },
    {
      "cell_type": "markdown",
      "metadata": {
        "id": "zL7-OSb30Frk",
        "colab_type": "text"
      },
      "source": [
        "##Problem 30."
      ]
    },
    {
      "cell_type": "markdown",
      "metadata": {
        "id": "CPLups1rcuWf",
        "colab_type": "text"
      },
      "source": [
        "**Problem:**\n",
        "Consider a DataFrame containing rows and columns of purely numerical data. \n",
        "Create a list of the row-column index locations of the 3 largest values.\n",
        "\n",
        "**Possible Input:**\n",
        "```python\n",
        "df = pd.DataFrame({\n",
        "       'a' : [  2,  -4,  -7, -10,   9],\n",
        "       'b' : [  7,  -9,  -7,  -7,  -4],\n",
        "       'c' : [ -8,  10,  -8,   5,  -3],\n",
        "       'd' : [  3,  -8,   5,  -4, -10],\n",
        "       'e' : [  9,   3,  -5,  -9,   6],\n",
        "       'f' : [ -1,  -7, -10,  -8,  10],\n",
        "       'g' : [  1,   8,   3,   9,   5],\n",
        "       'h' : [  3,   5,   0,   1,  -3],\n",
        "       'i' : [  3,   4,  -5,  -9,  -7],\n",
        "       'j' : [  0,   4,  -6,   3,   9]})\n",
        "```\n",
        "\n",
        "**Expected Output:**\n",
        "```\n",
        "[('j', 4), ('f', 4), ('c', 1)]\n",
        "```\n",
        "\n"
      ]
    },
    {
      "cell_type": "code",
      "metadata": {
        "id": "L3K7BcQT0Frk",
        "colab_type": "code",
        "colab": {}
      },
      "source": [
        "import numpy as np\n",
        "import pandas as pd\n",
        "\n",
        "# Input\n",
        "df = pd.DataFrame({\n",
        "       'a' : [  2,  -4,  -7, -10,   9],\n",
        "       'b' : [  7,  -9,  -7,  -7,  -4],\n",
        "       'c' : [ -8,  10,  -8,   5,  -3],\n",
        "       'd' : [  3,  -8,   5,  -4, -10],\n",
        "       'e' : [  9,   3,  -5,  -9,   6],\n",
        "       'f' : [ -1,  -7, -10,  -8,  10],\n",
        "       'g' : [  1,   8,   3,   9,   5],\n",
        "       'h' : [  3,   5,   0,   1,  -3],\n",
        "       'i' : [  3,   4,  -5,  -9,  -7],\n",
        "       'j' : [  0,   4,  -6,   3,   9]})\n",
        "\n",
        "# Enter your code here"
      ],
      "execution_count": 0,
      "outputs": []
    },
    {
      "cell_type": "markdown",
      "metadata": {
        "id": "BldeQhAH0Frl",
        "colab_type": "text"
      },
      "source": [
        "###Solution"
      ]
    },
    {
      "cell_type": "code",
      "metadata": {
        "id": "7br1lcKO0Frl",
        "colab_type": "code",
        "outputId": "c5ea40dd-172f-4241-9efb-77994eccef3e",
        "colab": {
          "base_uri": "https://localhost:8080/",
          "height": 34
        }
      },
      "source": [
        "import numpy as np\n",
        "import pandas as pd\n",
        "\n",
        "# Input\n",
        "df = pd.DataFrame({\n",
        "       'a' : [  2,  -4,  -7, -10,   9],\n",
        "       'b' : [  7,  -9,  -7,  -7,  -4],\n",
        "       'c' : [ -8,  10,  -8,   5,  -3],\n",
        "       'd' : [  3,  -8,   5,  -4, -10],\n",
        "       'e' : [  9,   3,  -5,  -9,   6],\n",
        "       'f' : [ -1,  -7, -10,  -8,  10],\n",
        "       'g' : [  1,   8,   3,   9,   5],\n",
        "       'h' : [  3,   5,   0,   1,  -3],\n",
        "       'i' : [  3,   4,  -5,  -9,  -7],\n",
        "       'j' : [  0,   4,  -6,   3,   9]})\n",
        "\n",
        "# Solution\n",
        "df.unstack().sort_values()[-3:].index.tolist()"
      ],
      "execution_count": 0,
      "outputs": [
        {
          "output_type": "execute_result",
          "data": {
            "text/plain": [
              "[('j', 4), ('f', 4), ('c', 1)]"
            ]
          },
          "metadata": {
            "tags": []
          },
          "execution_count": 10
        }
      ]
    },
    {
      "cell_type": "markdown",
      "metadata": {
        "id": "oLUmo5pv0Frm",
        "colab_type": "text"
      },
      "source": [
        "##Problem 31."
      ]
    },
    {
      "cell_type": "markdown",
      "metadata": {
        "id": "oyygCgTArnOr",
        "colab_type": "text"
      },
      "source": [
        "**Problem:**\n",
        "Given a DataFrame with a column \"groups\" and a column  \"values\", replace any negative entry in \"values\" column with the group mean over positive values.\n",
        "\n",
        "**Possible Input:**\n",
        "```python\n",
        "df = pd.DataFrame({'groups': list('aaabbcaabcccbbc'), \n",
        "                   'values': [12, -35, -3, 1, -45, 14, 4, 52, 54, -23, 235, 21, 57, -3, 87]})\n",
        "```\n",
        "\n",
        "**Expected Output:**\n",
        "```\n",
        "\tgroups\tvalues\n",
        "0\ta\t12.000000\n",
        "1\ta\t22.666667\n",
        "2\ta\t22.666667\n",
        "3\tb\t1.000000\n",
        "4\tb\t37.333333\n",
        "5\tc\t14.000000\n",
        "6\ta\t4.000000\n",
        "7\ta\t52.000000\n",
        "8\tb\t54.000000\n",
        "9\tc\t89.250000\n",
        "10\tc\t235.000000\n",
        "11\tc\t21.000000\n",
        "12\tb\t57.000000\n",
        "13\tb\t37.333333\n",
        "14\tc\t87.000000\n",
        "```\n",
        "\n"
      ]
    },
    {
      "cell_type": "code",
      "metadata": {
        "id": "aPJTU5xI0Frm",
        "colab_type": "code",
        "colab": {}
      },
      "source": [
        "import numpy as np\n",
        "import pandas as pd\n",
        "\n",
        "# Input\n",
        "df = pd.DataFrame({'groups': list('aaabbcaabcccbbc'), \n",
        "                   'values': [12, -35, -3, 1, -45, 14, 4, 52, 54, -23, 235, 21, 57, -3, 87]})\n",
        "\n",
        "# Enter your code here"
      ],
      "execution_count": 0,
      "outputs": []
    },
    {
      "cell_type": "markdown",
      "metadata": {
        "id": "RTaR6DY10Frm",
        "colab_type": "text"
      },
      "source": [
        "###Solution"
      ]
    },
    {
      "cell_type": "code",
      "metadata": {
        "id": "heqE7S2S0Frn",
        "colab_type": "code",
        "outputId": "255fad48-3596-42f3-9812-ab1262851afb",
        "colab": {
          "base_uri": "https://localhost:8080/",
          "height": 514
        }
      },
      "source": [
        "import numpy as np\n",
        "import pandas as pd\n",
        "\n",
        "# Input\n",
        "df = pd.DataFrame({'groups': list('aaabbcaabcccbbc'), \n",
        "                   'values': [12, -35, -3, 1, -45, 14, 4, 52, 54, -23, 235, 21, 57, -3, 87]})\n",
        "\n",
        "# Solution\n",
        "def replace(grp):\n",
        "    grp[grp < 0] = grp[grp >= 0].mean()\n",
        "    return grp\n",
        "\n",
        "df['values'] = df.groupby(['groups'])['values'].transform(replace)\n",
        "df"
      ],
      "execution_count": 0,
      "outputs": [
        {
          "output_type": "execute_result",
          "data": {
            "text/html": [
              "<div>\n",
              "<style scoped>\n",
              "    .dataframe tbody tr th:only-of-type {\n",
              "        vertical-align: middle;\n",
              "    }\n",
              "\n",
              "    .dataframe tbody tr th {\n",
              "        vertical-align: top;\n",
              "    }\n",
              "\n",
              "    .dataframe thead th {\n",
              "        text-align: right;\n",
              "    }\n",
              "</style>\n",
              "<table border=\"1\" class=\"dataframe\">\n",
              "  <thead>\n",
              "    <tr style=\"text-align: right;\">\n",
              "      <th></th>\n",
              "      <th>groups</th>\n",
              "      <th>values</th>\n",
              "    </tr>\n",
              "  </thead>\n",
              "  <tbody>\n",
              "    <tr>\n",
              "      <th>0</th>\n",
              "      <td>a</td>\n",
              "      <td>12.000000</td>\n",
              "    </tr>\n",
              "    <tr>\n",
              "      <th>1</th>\n",
              "      <td>a</td>\n",
              "      <td>22.666667</td>\n",
              "    </tr>\n",
              "    <tr>\n",
              "      <th>2</th>\n",
              "      <td>a</td>\n",
              "      <td>22.666667</td>\n",
              "    </tr>\n",
              "    <tr>\n",
              "      <th>3</th>\n",
              "      <td>b</td>\n",
              "      <td>1.000000</td>\n",
              "    </tr>\n",
              "    <tr>\n",
              "      <th>4</th>\n",
              "      <td>b</td>\n",
              "      <td>37.333333</td>\n",
              "    </tr>\n",
              "    <tr>\n",
              "      <th>5</th>\n",
              "      <td>c</td>\n",
              "      <td>14.000000</td>\n",
              "    </tr>\n",
              "    <tr>\n",
              "      <th>6</th>\n",
              "      <td>a</td>\n",
              "      <td>4.000000</td>\n",
              "    </tr>\n",
              "    <tr>\n",
              "      <th>7</th>\n",
              "      <td>a</td>\n",
              "      <td>52.000000</td>\n",
              "    </tr>\n",
              "    <tr>\n",
              "      <th>8</th>\n",
              "      <td>b</td>\n",
              "      <td>54.000000</td>\n",
              "    </tr>\n",
              "    <tr>\n",
              "      <th>9</th>\n",
              "      <td>c</td>\n",
              "      <td>89.250000</td>\n",
              "    </tr>\n",
              "    <tr>\n",
              "      <th>10</th>\n",
              "      <td>c</td>\n",
              "      <td>235.000000</td>\n",
              "    </tr>\n",
              "    <tr>\n",
              "      <th>11</th>\n",
              "      <td>c</td>\n",
              "      <td>21.000000</td>\n",
              "    </tr>\n",
              "    <tr>\n",
              "      <th>12</th>\n",
              "      <td>b</td>\n",
              "      <td>57.000000</td>\n",
              "    </tr>\n",
              "    <tr>\n",
              "      <th>13</th>\n",
              "      <td>b</td>\n",
              "      <td>37.333333</td>\n",
              "    </tr>\n",
              "    <tr>\n",
              "      <th>14</th>\n",
              "      <td>c</td>\n",
              "      <td>87.000000</td>\n",
              "    </tr>\n",
              "  </tbody>\n",
              "</table>\n",
              "</div>"
            ],
            "text/plain": [
              "   groups      values\n",
              "0       a   12.000000\n",
              "1       a   22.666667\n",
              "2       a   22.666667\n",
              "3       b    1.000000\n",
              "4       b   37.333333\n",
              "5       c   14.000000\n",
              "6       a    4.000000\n",
              "7       a   52.000000\n",
              "8       b   54.000000\n",
              "9       c   89.250000\n",
              "10      c  235.000000\n",
              "11      c   21.000000\n",
              "12      b   57.000000\n",
              "13      b   37.333333\n",
              "14      c   87.000000"
            ]
          },
          "metadata": {
            "tags": []
          },
          "execution_count": 20
        }
      ]
    },
    {
      "cell_type": "markdown",
      "metadata": {
        "id": "NBIAC3rn0Frn",
        "colab_type": "text"
      },
      "source": [
        "##Problem 32."
      ]
    },
    {
      "cell_type": "markdown",
      "metadata": {
        "id": "R2C_S19hyD3q",
        "colab_type": "text"
      },
      "source": [
        "**Problem:**\n",
        "Implement a rolling mean over groups with window size 3, which ignores NaN value.\n",
        "\n",
        "**Possible Input:**\n",
        "```python\n",
        "df = pd.DataFrame({'group': list('aabbabbbabab'),\n",
        "                   'value': [1, 2, 3, np.nan, 2, 3, np.nan, 1, 7, 3, np.nan, 8]})\n",
        "```\n",
        "\n",
        "**Expected Output:**\n",
        "```\n",
        "0     1.000000\n",
        "1     1.500000\n",
        "2     3.000000\n",
        "3     3.000000\n",
        "4     1.666667\n",
        "5     3.000000\n",
        "6     3.000000\n",
        "7     2.000000\n",
        "8     3.666667\n",
        "9     2.000000\n",
        "10    4.500000\n",
        "11    4.000000\n",
        "Name: value, dtype: float64\n",
        "```\n",
        "\n",
        "**Note:**\n",
        "For better understanding consider the action of the rolling mean function on one group, say \"b\".\n",
        "The following table demonstrates expected result.\n",
        "```\n",
        "   group\tvalue\trol_mean\n",
        "2\tb\t3.0\t3.0\n",
        "3\tb\tNaN\t3.0\n",
        "5\tb\t3.0\t3.0\n",
        "6\tb\tNaN\t3.0\n",
        "7\tb\t1.0\t2.0\n",
        "9\tb\t3.0\t2.0\n",
        "11\tb\t8.0\t4.0\n",
        "```\n",
        "\n"
      ]
    },
    {
      "cell_type": "code",
      "metadata": {
        "id": "2PE8_VvZ0Frn",
        "colab_type": "code",
        "colab": {}
      },
      "source": [
        "import numpy as np\n",
        "import pandas as pd\n",
        "\n",
        "# Input\n",
        "df = pd.DataFrame({'group': list('aabbabbbabab'),\n",
        "                   'value': [1, 2, 3, np.nan, 2, 3, np.nan, 1, 7, 3, np.nan, 8]})\n",
        "\n",
        "# Enter your code here"
      ],
      "execution_count": 0,
      "outputs": []
    },
    {
      "cell_type": "markdown",
      "metadata": {
        "id": "dr68tVL50Fro",
        "colab_type": "text"
      },
      "source": [
        "###Solution"
      ]
    },
    {
      "cell_type": "code",
      "metadata": {
        "id": "eJM9xGfX0Fro",
        "colab_type": "code",
        "outputId": "fca5f491-84af-4089-a488-3bfceccb7134",
        "colab": {
          "base_uri": "https://localhost:8080/",
          "height": 238
        }
      },
      "source": [
        "import numpy as np\n",
        "import pandas as pd\n",
        "\n",
        "# Input\n",
        "df = pd.DataFrame({'group': list('aabbabbbabab'),\n",
        "                   'value': [1, 2, 3, np.nan, 2, 3, np.nan, 1, 7, 3, np.nan, 8]})\n",
        "\n",
        "# Solution\n",
        "g1 = df.groupby(['group'])['value']\n",
        "g2 = df.fillna(0).groupby(['group'])['value']\n",
        "s = g2.rolling(3, min_periods=1).sum() / g1.rolling(3, min_periods=1).count()\n",
        "s.reset_index(level=0, drop=True).sort_index()"
      ],
      "execution_count": 0,
      "outputs": [
        {
          "output_type": "execute_result",
          "data": {
            "text/plain": [
              "0     1.000000\n",
              "1     1.500000\n",
              "2     3.000000\n",
              "3     3.000000\n",
              "4     1.666667\n",
              "5     3.000000\n",
              "6     3.000000\n",
              "7     2.000000\n",
              "8     3.666667\n",
              "9     2.000000\n",
              "10    4.500000\n",
              "11    4.000000\n",
              "Name: value, dtype: float64"
            ]
          },
          "metadata": {
            "tags": []
          },
          "execution_count": 31
        }
      ]
    },
    {
      "cell_type": "markdown",
      "metadata": {
        "id": "GCyBw02a0Frr",
        "colab_type": "text"
      },
      "source": [
        "# Series and DatetimeIndex\n",
        "\n",
        "Exercises for creating and manipulating Series with datetime data\n",
        "\n",
        "Difficulty: **easy/medium**"
      ]
    },
    {
      "cell_type": "markdown",
      "metadata": {
        "id": "CSrPU7zP-lpo",
        "colab_type": "text"
      },
      "source": [
        "##Problem 33."
      ]
    },
    {
      "cell_type": "markdown",
      "metadata": {
        "id": "VHCu3XFy-h0v",
        "colab_type": "text"
      },
      "source": [
        "**Problem:**\n",
        "Create a DatetimeIndex that contains each business day between '2019-06-01' and '2019-07-01'.\n",
        "Use it to index a Series of of consequtive numbers starting at 1 (i.e. enumerate each business day).\n",
        "\n",
        "**Expected Output:**\n",
        "```\n",
        "2019-06-03     1\n",
        "2019-06-04     2\n",
        "2019-06-05     3\n",
        "2019-06-06     4\n",
        "2019-06-07     5\n",
        "2019-06-10     6\n",
        "2019-06-11     7\n",
        "2019-06-12     8\n",
        "2019-06-13     9\n",
        "2019-06-14    10\n",
        "2019-06-17    11\n",
        "2019-06-18    12\n",
        "2019-06-19    13\n",
        "2019-06-20    14\n",
        "2019-06-21    15\n",
        "2019-06-24    16\n",
        "2019-06-25    17\n",
        "2019-06-26    18\n",
        "2019-06-27    19\n",
        "2019-06-28    20\n",
        "2019-07-01    21\n",
        "Freq: B, dtype: int64\n",
        "```"
      ]
    },
    {
      "cell_type": "code",
      "metadata": {
        "id": "laFf1Pc60Frs",
        "colab_type": "code",
        "colab": {}
      },
      "source": [
        "import numpy as np\n",
        "import pandas as pd\n",
        "\n",
        "# Enter your code here"
      ],
      "execution_count": 0,
      "outputs": []
    },
    {
      "cell_type": "markdown",
      "metadata": {
        "id": "FDY2MVO70Frs",
        "colab_type": "text"
      },
      "source": [
        "###Solution"
      ]
    },
    {
      "cell_type": "code",
      "metadata": {
        "id": "zn8WxJDG0Frs",
        "colab_type": "code",
        "outputId": "c3a201d3-6c58-44ce-c876-869c66ba45dc",
        "colab": {
          "base_uri": "https://localhost:8080/",
          "height": 391
        }
      },
      "source": [
        "import numpy as np\n",
        "import pandas as pd\n",
        "\n",
        "# Solution\n",
        "dti = pd.date_range(start='2019-06-01', end='2019-07-01', freq='B') \n",
        "pd.Series(1 + np.arange(len(dti)), index=dti)"
      ],
      "execution_count": 0,
      "outputs": [
        {
          "output_type": "execute_result",
          "data": {
            "text/plain": [
              "2019-06-03     1\n",
              "2019-06-04     2\n",
              "2019-06-05     3\n",
              "2019-06-06     4\n",
              "2019-06-07     5\n",
              "2019-06-10     6\n",
              "2019-06-11     7\n",
              "2019-06-12     8\n",
              "2019-06-13     9\n",
              "2019-06-14    10\n",
              "2019-06-17    11\n",
              "2019-06-18    12\n",
              "2019-06-19    13\n",
              "2019-06-20    14\n",
              "2019-06-21    15\n",
              "2019-06-24    16\n",
              "2019-06-25    17\n",
              "2019-06-26    18\n",
              "2019-06-27    19\n",
              "2019-06-28    20\n",
              "2019-07-01    21\n",
              "Freq: B, dtype: int64"
            ]
          },
          "metadata": {
            "tags": []
          },
          "execution_count": 38
        }
      ]
    },
    {
      "cell_type": "markdown",
      "metadata": {
        "id": "AY5AKfbY0Fru",
        "colab_type": "text"
      },
      "source": [
        "##Problem 34."
      ]
    },
    {
      "cell_type": "markdown",
      "metadata": {
        "id": "rZgHEJIArtHz",
        "colab_type": "text"
      },
      "source": [
        "**Problem:**\n",
        " Find the sum of the values in the given Series for every Wednesday.\n",
        " \n",
        " **Possible Input:**\n",
        " ```python\n",
        "dti = pd.date_range(start='2019-06-01', end='2019-07-01', freq='B') \n",
        "s   = pd.Series([0, 4, 8, 9, 9, 5, 1, -3, -7, -9, -9, -7, -2, 2, 6, 9, 9, 7, 4, 0, -5], index=dti)\n",
        "\n",
        "```\n",
        "\n",
        "**Expected Output:**\n",
        "```\n",
        "10\n",
        "```\n",
        "\n"
      ]
    },
    {
      "cell_type": "code",
      "metadata": {
        "id": "cDxSfzaH0Fru",
        "colab_type": "code",
        "colab": {}
      },
      "source": [
        "import numpy as np\n",
        "import pandas as pd\n",
        "\n",
        "# Input\n",
        "dti = pd.date_range(start='2019-06-01', end='2019-07-01', freq='B') \n",
        "s   = pd.Series([0, 4, 8, 9, 9, 5, 1, -3, -7, -9, -9, -7, -2, 2, 6, 9, 9, 7, 4, 0, -5], index=dti)\n",
        "\n",
        "# Enter your code here"
      ],
      "execution_count": 0,
      "outputs": []
    },
    {
      "cell_type": "markdown",
      "metadata": {
        "id": "Am-XRKVc0Frv",
        "colab_type": "text"
      },
      "source": [
        "###Solution"
      ]
    },
    {
      "cell_type": "code",
      "metadata": {
        "id": "ftj_VRld0Frv",
        "colab_type": "code",
        "colab": {
          "base_uri": "https://localhost:8080/",
          "height": 34
        },
        "outputId": "aea90e08-6b6f-4793-b91d-69a8309a1569"
      },
      "source": [
        "import numpy as np\n",
        "import pandas as pd\n",
        "\n",
        "# Input\n",
        "dti = pd.date_range(start='2019-06-01', end='2019-07-01', freq='B') \n",
        "s = pd.Series([0, 4, 8, 9, 9, 5, 1, -3, -7, -9, -9, -7, -2, 2, 6, 9, 9, 7, 4, 0, -5], index=dti)\n",
        "\n",
        "# Solution\n",
        "s[s.index.weekday == 2].sum()"
      ],
      "execution_count": 18,
      "outputs": [
        {
          "output_type": "execute_result",
          "data": {
            "text/plain": [
              "10"
            ]
          },
          "metadata": {
            "tags": []
          },
          "execution_count": 18
        }
      ]
    },
    {
      "cell_type": "markdown",
      "metadata": {
        "id": "Di4pY2X80Frw",
        "colab_type": "text"
      },
      "source": [
        "##Problem 35.\n",
        "\n",
        " For each calendar month in `s`, find the mean of values."
      ]
    },
    {
      "cell_type": "code",
      "metadata": {
        "id": "VIqVsUzo0Frw",
        "colab_type": "code",
        "colab": {}
      },
      "source": [
        "# Enter your code here"
      ],
      "execution_count": 0,
      "outputs": []
    },
    {
      "cell_type": "markdown",
      "metadata": {
        "id": "KDvC6z-S0Frx",
        "colab_type": "text"
      },
      "source": [
        "###Solution"
      ]
    },
    {
      "cell_type": "code",
      "metadata": {
        "id": "gFULJjLd0Frx",
        "colab_type": "code",
        "colab": {}
      },
      "source": [
        "s.resample('M').mean()"
      ],
      "execution_count": 0,
      "outputs": []
    },
    {
      "cell_type": "markdown",
      "metadata": {
        "id": "IOh6N3IU0Fry",
        "colab_type": "text"
      },
      "source": [
        "##Problem 36.\n",
        "\n",
        " For each group of four consecutive calendar months in `s`, find the date\n",
        "on which the highest value occurred."
      ]
    },
    {
      "cell_type": "code",
      "metadata": {
        "id": "w5IAhQpX0Fry",
        "colab_type": "code",
        "colab": {}
      },
      "source": [
        "# Enter your code here"
      ],
      "execution_count": 0,
      "outputs": []
    },
    {
      "cell_type": "markdown",
      "metadata": {
        "id": "eELmyLz-0Fry",
        "colab_type": "text"
      },
      "source": [
        "###Solution"
      ]
    },
    {
      "cell_type": "code",
      "metadata": {
        "id": "Vj9BblHZ0Frz",
        "colab_type": "code",
        "colab": {}
      },
      "source": [
        "s.groupby(pd.TimeGrouper('4M')).idxmax()"
      ],
      "execution_count": 0,
      "outputs": []
    },
    {
      "cell_type": "markdown",
      "metadata": {
        "id": "WdcD84KS0Frz",
        "colab_type": "text"
      },
      "source": [
        "##Problem 37.\n",
        "\n",
        " Create a DateTimeIndex consisting of the third Thursday in each month\n",
        "for the years 2015 and 2016."
      ]
    },
    {
      "cell_type": "code",
      "metadata": {
        "id": "ukuqI7K90Frz",
        "colab_type": "code",
        "colab": {}
      },
      "source": [
        "# Enter your code here"
      ],
      "execution_count": 0,
      "outputs": []
    },
    {
      "cell_type": "markdown",
      "metadata": {
        "id": "McZd5u6J0Fr0",
        "colab_type": "text"
      },
      "source": [
        "###Solution"
      ]
    },
    {
      "cell_type": "code",
      "metadata": {
        "id": "urg_tD-h0Fr0",
        "colab_type": "code",
        "colab": {}
      },
      "source": [
        "pd.date_range('2015-01-01', '2016-12-31', freq='WOM-3THU')"
      ],
      "execution_count": 0,
      "outputs": []
    },
    {
      "cell_type": "markdown",
      "metadata": {
        "id": "0oz0yTYL0Fr1",
        "colab_type": "text"
      },
      "source": [
        "# Cleaning Data\n",
        "\n",
        " Making a DataFrame easier to work with\n",
        "\n",
        "Difficulty:\n",
        "*easy/medium*\n",
        "\n",
        "It happens all the time: someone gives you data containing\n",
        "malformed strings, Python, lists and missing data. How do you tidy it up so you\n",
        "can get on with the analysis?\n",
        "\n",
        "Take this monstrosity as the DataFrame to use in\n",
        "the following puzzles:"
      ]
    },
    {
      "cell_type": "code",
      "metadata": {
        "id": "m_z2TdWJ0Fr1",
        "colab_type": "code",
        "colab": {}
      },
      "source": [
        "# Enter your code here"
      ],
      "execution_count": 0,
      "outputs": []
    },
    {
      "cell_type": "markdown",
      "metadata": {
        "id": "7-46K4Gq0Fr1",
        "colab_type": "text"
      },
      "source": [
        "###Solution"
      ]
    },
    {
      "cell_type": "code",
      "metadata": {
        "id": "OIE0Wuqo0Fr2",
        "colab_type": "code",
        "colab": {}
      },
      "source": [
        "df = pd.DataFrame({'From_To': ['LoNDon_paris',\n",
        "'MAdrid_miLAN', 'londON_StockhOlm',\n",
        "'Budapest_PaRis', 'Brussels_londOn'],\n",
        "              'FlightNumber': [10045,\n",
        "np.nan, 10065, np.nan, 10085],\n",
        "              'RecentDelays': [[23, 47], [], [24,\n",
        "43, 87], [13], [67, 32]],\n",
        "                   'Airline': ['KLM(!)', '<Air France>\n",
        "(12)', '(British Airways. )', \n",
        "                               '12. Air France',\n",
        "'\"Swiss Air\"']})"
      ],
      "execution_count": 0,
      "outputs": []
    },
    {
      "cell_type": "markdown",
      "metadata": {
        "id": "5v-CMT3-0Fr2",
        "colab_type": "text"
      },
      "source": [
        "(It's some flight data I made up; it's not meant to be\n",
        "accurate in any way.)\n",
        "\n",
        "##Problem 38.\n",
        "\n",
        " Some values in the the FlightNumber column are missing. These numbers\n",
        "are meant to increase by 10 with each row so 10055 and 10075 need to be put in\n",
        "place. Fill in these missing numbers and make the column an integer column\n",
        "(instead of a float column)."
      ]
    },
    {
      "cell_type": "code",
      "metadata": {
        "id": "jG5RY_Pw0Fr2",
        "colab_type": "code",
        "colab": {}
      },
      "source": [
        "# Enter your code here"
      ],
      "execution_count": 0,
      "outputs": []
    },
    {
      "cell_type": "markdown",
      "metadata": {
        "id": "bv39FBOr0Fr3",
        "colab_type": "text"
      },
      "source": [
        "###Solution"
      ]
    },
    {
      "cell_type": "code",
      "metadata": {
        "id": "TqHrVKMn0Fr3",
        "colab_type": "code",
        "colab": {}
      },
      "source": [
        "df['FlightNumber'] = df['FlightNumber'].interpolate().astype(int)"
      ],
      "execution_count": 0,
      "outputs": []
    },
    {
      "cell_type": "markdown",
      "metadata": {
        "id": "6Xw2c2dY0Fr4",
        "colab_type": "text"
      },
      "source": [
        "##Problem 39.\n",
        "\n",
        " The From\\_To column would be better as two separate columns! Split each\n",
        "string on the underscore delimiter `_` to give a new temporary DataFrame with\n",
        "the correct values. Assign the correct column names to this temporary DataFrame."
      ]
    },
    {
      "cell_type": "code",
      "metadata": {
        "id": "RCDbPVWb0Fr4",
        "colab_type": "code",
        "colab": {}
      },
      "source": [
        "# Enter your code here"
      ],
      "execution_count": 0,
      "outputs": []
    },
    {
      "cell_type": "markdown",
      "metadata": {
        "id": "GOInAnK-0Fr5",
        "colab_type": "text"
      },
      "source": [
        "###Solution"
      ]
    },
    {
      "cell_type": "code",
      "metadata": {
        "id": "vFbJyruV0Fr5",
        "colab_type": "code",
        "colab": {}
      },
      "source": [
        "temp = df.From_To.str.split('_', expand=True)\n",
        "temp.columns = ['From', 'To']"
      ],
      "execution_count": 0,
      "outputs": []
    },
    {
      "cell_type": "markdown",
      "metadata": {
        "id": "mFkWT9mu0Fr5",
        "colab_type": "text"
      },
      "source": [
        "##Problem 40.\n",
        "\n",
        " Notice how the capitalisation of the city names is all mixed up in this\n",
        "temporary DataFrame. Standardise the strings so that only the first letter is\n",
        "uppercase (e.g. \"londON\" should become \"London\".)"
      ]
    },
    {
      "cell_type": "code",
      "metadata": {
        "id": "kWV4mFp90Fr5",
        "colab_type": "code",
        "colab": {}
      },
      "source": [
        "# Enter your code here"
      ],
      "execution_count": 0,
      "outputs": []
    },
    {
      "cell_type": "markdown",
      "metadata": {
        "id": "oaqm50gT0Fr6",
        "colab_type": "text"
      },
      "source": [
        "###Solution"
      ]
    },
    {
      "cell_type": "code",
      "metadata": {
        "id": "vRySqc0s0Fr6",
        "colab_type": "code",
        "colab": {}
      },
      "source": [
        "temp['From'] = temp['From'].str.capitalize()\n",
        "temp['To'] = temp['To'].str.capitalize()"
      ],
      "execution_count": 0,
      "outputs": []
    },
    {
      "cell_type": "markdown",
      "metadata": {
        "id": "6_E9u7Nc0Fr7",
        "colab_type": "text"
      },
      "source": [
        "##Problem 41.\n",
        "\n",
        " Delete the From_To column from `df` and attach the temporary DataFrame\n",
        "from the previous questions."
      ]
    },
    {
      "cell_type": "code",
      "metadata": {
        "id": "bATrAnwg0Fr7",
        "colab_type": "code",
        "colab": {}
      },
      "source": [
        "# Enter your code here"
      ],
      "execution_count": 0,
      "outputs": []
    },
    {
      "cell_type": "markdown",
      "metadata": {
        "id": "U0qu9OTp0Fr9",
        "colab_type": "text"
      },
      "source": [
        "###Solution"
      ]
    },
    {
      "cell_type": "code",
      "metadata": {
        "id": "9hnDUTDn0Fr9",
        "colab_type": "code",
        "colab": {}
      },
      "source": [
        "df = df.drop('From_To', axis=1)\n",
        "df = df.join(temp)"
      ],
      "execution_count": 0,
      "outputs": []
    },
    {
      "cell_type": "markdown",
      "metadata": {
        "id": "rcj74fum0Fr-",
        "colab_type": "text"
      },
      "source": [
        "##Problem 42\n",
        "\n",
        ". In the Airline column, you can see some extra puctuation and symbols\n",
        "have appeared around the airline names. Pull out just the airline name. E.g.\n",
        "`'(British Airways. )'` should become `'British Airways'`."
      ]
    },
    {
      "cell_type": "code",
      "metadata": {
        "id": "X_FnnR4H0Fr-",
        "colab_type": "code",
        "colab": {}
      },
      "source": [
        "# Enter your code here"
      ],
      "execution_count": 0,
      "outputs": []
    },
    {
      "cell_type": "markdown",
      "metadata": {
        "id": "Ymd-RYI20Fr_",
        "colab_type": "text"
      },
      "source": [
        "###Solution"
      ]
    },
    {
      "cell_type": "code",
      "metadata": {
        "id": "bSSCnUcS0FsA",
        "colab_type": "code",
        "colab": {}
      },
      "source": [
        "df['Airline'] = df['Airline'].str.extract('([a-zA-Z\\s]+)', expand=False).str.strip()\n",
        "# note: using .strip() gets rid of any leading/trailing spaces"
      ],
      "execution_count": 0,
      "outputs": []
    },
    {
      "cell_type": "markdown",
      "metadata": {
        "id": "DPm3fyUz0FsA",
        "colab_type": "text"
      },
      "source": [
        "##Problem 43\n",
        "\n",
        ". In the RecentDelays column, the values have been entered into the\n",
        "DataFrame as a list. We would like each first value in its own column, each\n",
        "second value in its own column, and so on. If there isn't an Nth value, the\n",
        "value should be NaN.\n",
        "\n",
        "Expand the Series of lists into a DataFrame named\n",
        "`delays`, rename the columns `delay_1`, `delay_2`, etc. and replace the unwanted\n",
        "RecentDelays column in `df` with `delays`."
      ]
    },
    {
      "cell_type": "code",
      "metadata": {
        "id": "xYGbybBC0FsB",
        "colab_type": "code",
        "colab": {}
      },
      "source": [
        "# Enter your code here"
      ],
      "execution_count": 0,
      "outputs": []
    },
    {
      "cell_type": "markdown",
      "metadata": {
        "id": "VAppCXaH0FsB",
        "colab_type": "text"
      },
      "source": [
        "###Solution"
      ]
    },
    {
      "cell_type": "code",
      "metadata": {
        "id": "2h4IiFRF0FsC",
        "colab_type": "code",
        "colab": {}
      },
      "source": [
        "# there are several ways to do this, but the following approach is possibly the simplest\n",
        "\n",
        "delays = df['RecentDelays'].apply(pd.Series)\n",
        "\n",
        "delays.columns = ['delay_{}'.format(n) for n in range(1, len(delays.columns)+1)]\n",
        "\n",
        "df = df.drop('RecentDelays', axis=1).join(delays)"
      ],
      "execution_count": 0,
      "outputs": []
    },
    {
      "cell_type": "markdown",
      "metadata": {
        "id": "RxCt2o0K0FsC",
        "colab_type": "text"
      },
      "source": [
        "The DataFrame should look much better now.\n",
        "\n",
        "# Using MultiIndexes\n",
        "\n",
        " Go beyond flat DataFrames with additional index\n",
        "levels\n",
        "\n",
        "Difficulty: *medium*\n",
        "\n",
        "Previous exercises have seen us analysing data\n",
        "from DataFrames equipped with a single index level. However, pandas also gives\n",
        "you the possibilty of indexing your data using *multiple* levels. This is very\n",
        "much like adding new dimensions to a Series or a DataFrame. For example, a\n",
        "Series is 1D, but by using a MultiIndex with 2 levels we gain of much the same\n",
        "functionality as a 2D DataFrame.\n",
        "\n",
        "The set of puzzles below explores how you\n",
        "might use multiple index levels to enhance data analysis.\n",
        "\n",
        "To warm up, we'll\n",
        "look make a Series with two index levels.\n",
        "\n",
        "##Problem 44\n",
        "\n",
        ". Given the lists `letters = ['A', 'B', 'C']` and `numbers =\n",
        "list(range(10))`, construct a MultiIndex object from the product of the two\n",
        "lists. Use it to index a Series of random numbers. Call this Series `s`."
      ]
    },
    {
      "cell_type": "code",
      "metadata": {
        "id": "Pxz9X0_D0FsD",
        "colab_type": "code",
        "colab": {}
      },
      "source": [
        "# Enter your code here"
      ],
      "execution_count": 0,
      "outputs": []
    },
    {
      "cell_type": "markdown",
      "metadata": {
        "id": "-BtncFDa0FsJ",
        "colab_type": "text"
      },
      "source": [
        "###Solution"
      ]
    },
    {
      "cell_type": "code",
      "metadata": {
        "id": "lWn4LV5W0FsK",
        "colab_type": "code",
        "colab": {}
      },
      "source": [
        "letters = ['A', 'B', 'C']\n",
        "numbers = list(range(10))\n",
        "\n",
        "mi = pd.MultiIndex.from_product([letters, numbers])\n",
        "s = pd.Series(np.random.rand(30), index=mi)"
      ],
      "execution_count": 0,
      "outputs": []
    },
    {
      "cell_type": "markdown",
      "metadata": {
        "id": "-V4Cv_m_0FsM",
        "colab_type": "text"
      },
      "source": [
        "##Problem 45.\n",
        "\n",
        " Check the index of `s` is lexicographically sorted (this is a necessary\n",
        "proprty for indexing to work correctly with a MultiIndex)."
      ]
    },
    {
      "cell_type": "code",
      "metadata": {
        "id": "21vV5GEm0FsM",
        "colab_type": "code",
        "colab": {}
      },
      "source": [
        "# Enter your code here"
      ],
      "execution_count": 0,
      "outputs": []
    },
    {
      "cell_type": "markdown",
      "metadata": {
        "id": "UtSj4HvZ0FsO",
        "colab_type": "text"
      },
      "source": [
        "###Solution"
      ]
    },
    {
      "cell_type": "code",
      "metadata": {
        "id": "nyG3PjWd0FsO",
        "colab_type": "code",
        "colab": {}
      },
      "source": [
        "s.index.is_lexsorted()\n",
        "\n",
        "# or more verbosely...\n",
        "s.index.lexsort_depth == s.index.nlevels"
      ],
      "execution_count": 0,
      "outputs": []
    },
    {
      "cell_type": "markdown",
      "metadata": {
        "id": "AjHEXaTK0FsO",
        "colab_type": "text"
      },
      "source": [
        "##Problem 46\n",
        "\n",
        ". Select the labels `1`, `3` and `6` from the second level of the\n",
        "MultiIndexed Series."
      ]
    },
    {
      "cell_type": "code",
      "metadata": {
        "id": "NhWM19A40FsO",
        "colab_type": "code",
        "colab": {}
      },
      "source": [
        "# Enter your code here"
      ],
      "execution_count": 0,
      "outputs": []
    },
    {
      "cell_type": "markdown",
      "metadata": {
        "id": "2pAvXTgq0FsQ",
        "colab_type": "text"
      },
      "source": [
        "###Solution"
      ]
    },
    {
      "cell_type": "code",
      "metadata": {
        "id": "Sr2A69nA0FsQ",
        "colab_type": "code",
        "colab": {}
      },
      "source": [
        "s.loc[:, [1, 3, 6]]"
      ],
      "execution_count": 0,
      "outputs": []
    },
    {
      "cell_type": "markdown",
      "metadata": {
        "id": "I2w372e50FsQ",
        "colab_type": "text"
      },
      "source": [
        "##Problem 47\n",
        "\n",
        ". Slice the Series `s`; slice up to label 'B' for the first level and from\n",
        "label 5 onwards for the second level."
      ]
    },
    {
      "cell_type": "code",
      "metadata": {
        "id": "BmRHSp7R0FsQ",
        "colab_type": "code",
        "colab": {}
      },
      "source": [
        "# Enter your code here"
      ],
      "execution_count": 0,
      "outputs": []
    },
    {
      "cell_type": "markdown",
      "metadata": {
        "id": "9NrAVpub0FsR",
        "colab_type": "text"
      },
      "source": [
        "###Solution"
      ]
    },
    {
      "cell_type": "code",
      "metadata": {
        "id": "A-yaWMbE0FsR",
        "colab_type": "code",
        "colab": {}
      },
      "source": [
        "s.loc[pd.IndexSlice[:'B', 5:]]\n",
        "\n",
        "# or equivalently without IndexSlice...\n",
        "s.loc[slice(None, 'B'), slice(5, None)]"
      ],
      "execution_count": 0,
      "outputs": []
    },
    {
      "cell_type": "markdown",
      "metadata": {
        "id": "A4mFOYju0FsS",
        "colab_type": "text"
      },
      "source": [
        "##Problem 48\n",
        "\n",
        ". Sum the values in `s` for each label in the first level (you should have\n",
        "Series giving you a total for labels A, B and C)."
      ]
    },
    {
      "cell_type": "code",
      "metadata": {
        "id": "awa15Clw0FsS",
        "colab_type": "code",
        "colab": {}
      },
      "source": [
        "# Enter your code here"
      ],
      "execution_count": 0,
      "outputs": []
    },
    {
      "cell_type": "markdown",
      "metadata": {
        "id": "IHGql77Z0FsS",
        "colab_type": "text"
      },
      "source": [
        "###Solution"
      ]
    },
    {
      "cell_type": "code",
      "metadata": {
        "id": "jNZja_Sa0FsT",
        "colab_type": "code",
        "colab": {}
      },
      "source": [
        "s.sum(level=0)"
      ],
      "execution_count": 0,
      "outputs": []
    },
    {
      "cell_type": "markdown",
      "metadata": {
        "id": "l_khSpOR0FsU",
        "colab_type": "text"
      },
      "source": [
        "##Problem 49\n",
        "\n",
        ". Suppose that `sum()` (and other methods) did not accept a `level`\n",
        "keyword argument. How else could you perform the equivalent of `s.sum(level=1)`?"
      ]
    },
    {
      "cell_type": "code",
      "metadata": {
        "id": "0-78He7W0FsU",
        "colab_type": "code",
        "colab": {}
      },
      "source": [
        "# Enter your code here"
      ],
      "execution_count": 0,
      "outputs": []
    },
    {
      "cell_type": "markdown",
      "metadata": {
        "id": "MX_3nLSo0FsV",
        "colab_type": "text"
      },
      "source": [
        "###Solution"
      ]
    },
    {
      "cell_type": "code",
      "metadata": {
        "id": "Boj2OttI0FsV",
        "colab_type": "code",
        "colab": {}
      },
      "source": [
        "# One way is to use .unstack()... \n",
        "# This method should convince you that s is essentially \n",
        "# just a regular DataFrame in disguise!\n",
        "s.unstack().sum(axis=0)"
      ],
      "execution_count": 0,
      "outputs": []
    },
    {
      "cell_type": "markdown",
      "metadata": {
        "id": "ScmeDUTj0FsW",
        "colab_type": "text"
      },
      "source": [
        "##Problem 50\n",
        "\n",
        ". Exchange the levels of the MultiIndex so we have an index of the form\n",
        "(letters, numbers). Is this new Series properly lexsorted? If not, sort it."
      ]
    },
    {
      "cell_type": "code",
      "metadata": {
        "id": "3AK0O7Sq0FsW",
        "colab_type": "code",
        "colab": {}
      },
      "source": [
        "# Enter your code here"
      ],
      "execution_count": 0,
      "outputs": []
    },
    {
      "cell_type": "markdown",
      "metadata": {
        "id": "d83pWi9S0FsX",
        "colab_type": "text"
      },
      "source": [
        "###Solution"
      ]
    },
    {
      "cell_type": "code",
      "metadata": {
        "id": "6djsscnM0FsX",
        "colab_type": "code",
        "colab": {}
      },
      "source": [
        "new_s = s.swaplevel(0, 1)\n",
        "\n",
        "# check\n",
        "new_s.index.is_lexsorted()\n",
        "\n",
        "# sort\n",
        "new_s = new_s.sort_index()"
      ],
      "execution_count": 0,
      "outputs": []
    },
    {
      "cell_type": "markdown",
      "metadata": {
        "id": "EXdxpcp70FsY",
        "colab_type": "text"
      },
      "source": [
        "# Minesweeper\n",
        "\n",
        " Generate the numbers for safe squares in a Minesweeper grid\n",
        "Difficulty: *medium* to *hard*\n",
        "\n",
        "If you've ever used an older version of Windows,\n",
        "there's a good chance you've played with\n",
        "[Minesweeper](https://en.wikipedia.org/wiki/Minesweeper_(video_game). If you're\n",
        "not familiar with the game, imagine a grid of squares: some of these squares\n",
        "conceal a mine. If you click on a mine, you lose instantly. If you click on a\n",
        "safe square, you reveal a number telling you how many mines are found in the\n",
        "squares that are immediately adjacent. The aim of the game is to uncover all\n",
        "squares in the grid that do not contain a mine.\n",
        "\n",
        "In this section, we'll make a\n",
        "DataFrame that contains the necessary data for a game of Minesweeper:\n",
        "coordinates of the squares, whether the square contains a mine and the number of\n",
        "mines found on adjacent squares.\n",
        "\n",
        "##Problem 51\n",
        "\n",
        ". Let's suppose we're playing Minesweeper on a 5 by 4 grid, i.e."
      ]
    },
    {
      "cell_type": "code",
      "metadata": {
        "id": "xQHQoFr00FsY",
        "colab_type": "code",
        "colab": {}
      },
      "source": [
        "X = 5\n",
        "Y = 4"
      ],
      "execution_count": 0,
      "outputs": []
    },
    {
      "cell_type": "markdown",
      "metadata": {
        "id": "J22JempO0FsZ",
        "colab_type": "text"
      },
      "source": [
        "To begin, generate a DataFrame `df` with two columns, `'x'` and `'y'`\n",
        "containing every coordinate for this grid. That is, the DataFrame should start:"
      ]
    },
    {
      "cell_type": "code",
      "metadata": {
        "id": "Y2enRTA00FsZ",
        "colab_type": "code",
        "colab": {}
      },
      "source": [
        "   x  y\n",
        "0  0  0\n",
        "1  0  1\n",
        "2  0  2"
      ],
      "execution_count": 0,
      "outputs": []
    },
    {
      "cell_type": "code",
      "metadata": {
        "id": "kaiminRL0Fsa",
        "colab_type": "code",
        "colab": {}
      },
      "source": [
        "# Enter your code here"
      ],
      "execution_count": 0,
      "outputs": []
    },
    {
      "cell_type": "markdown",
      "metadata": {
        "id": "uS_fqCyS0Fsa",
        "colab_type": "text"
      },
      "source": [
        "###Solution"
      ]
    },
    {
      "cell_type": "code",
      "metadata": {
        "id": "tGttK1BI0Fsa",
        "colab_type": "code",
        "colab": {}
      },
      "source": [
        "p = pd.tools.util.cartesian_product([np.arange(X), np.arange(Y)])\n",
        "df = pd.DataFrame(np.asarray(p).T, columns=['x', 'y'])"
      ],
      "execution_count": 0,
      "outputs": []
    },
    {
      "cell_type": "markdown",
      "metadata": {
        "id": "-nkj8jPV0Fsb",
        "colab_type": "text"
      },
      "source": [
        "##Problem 52\n",
        "\n",
        ". For this DataFrame `df`, create a new column of zeros (safe) and ones\n",
        "(mine). The probability of a mine occuring at each location should be 0.4."
      ]
    },
    {
      "cell_type": "code",
      "metadata": {
        "id": "dFH_kps10Fsb",
        "colab_type": "code",
        "colab": {}
      },
      "source": [
        "# Enter your code here"
      ],
      "execution_count": 0,
      "outputs": []
    },
    {
      "cell_type": "markdown",
      "metadata": {
        "id": "RrIoBfam0Fsc",
        "colab_type": "text"
      },
      "source": [
        "###Solution"
      ]
    },
    {
      "cell_type": "code",
      "metadata": {
        "id": "outYtUTl0Fsc",
        "colab_type": "code",
        "colab": {}
      },
      "source": [
        "# One way is to draw samples from a binomial distribution.\n",
        "\n",
        "df['mine'] = np.random.binomial(1, 0.4, X*Y)"
      ],
      "execution_count": 0,
      "outputs": []
    },
    {
      "cell_type": "markdown",
      "metadata": {
        "id": "KRRoOFCz0Fsd",
        "colab_type": "text"
      },
      "source": [
        "##Problem 53\n",
        "\n",
        ". Now create a new column for this DataFrame called `'adjacent'`. This\n",
        "column should contain the number of mines found on adjacent squares in the grid.\n",
        "(E.g. for the first row, which is the entry for the coordinate `(0, 0)`, count\n",
        "how many mines are found on the coordinates `(0, 1)`, `(1, 0)` and `(1, 1)`.)"
      ]
    },
    {
      "cell_type": "code",
      "metadata": {
        "id": "Eb01N2QV0Fsd",
        "colab_type": "code",
        "colab": {}
      },
      "source": [
        "# Enter your code here"
      ],
      "execution_count": 0,
      "outputs": []
    },
    {
      "cell_type": "markdown",
      "metadata": {
        "id": "Fv6feLBN0Fse",
        "colab_type": "text"
      },
      "source": [
        "###Solution"
      ]
    },
    {
      "cell_type": "code",
      "metadata": {
        "id": "YetpEW8f0Fse",
        "colab_type": "code",
        "colab": {}
      },
      "source": [
        "# Here is one way to solve using merges.\n",
        "# It's not necessary the optimal way, just \n",
        "# the solution I thought of first...\n",
        "\n",
        "df['adjacent'] = \\\n",
        "    df.merge(df + [ 1,  1, 0], on=['x', 'y'], how='left')\\\n",
        "      .merge(df + [ 1, -1, 0], on=['x', 'y'], how='left')\\\n",
        "      .merge(df + [-1,  1, 0], on=['x', 'y'], how='left')\\\n",
        "      .merge(df + [-1, -1, 0], on=['x', 'y'], how='left')\\\n",
        "      .merge(df + [ 1,  0, 0], on=['x', 'y'], how='left')\\\n",
        "      .merge(df + [-1,  0, 0], on=['x', 'y'], how='left')\\\n",
        "      .merge(df + [ 0,  1, 0], on=['x', 'y'], how='left')\\\n",
        "      .merge(df + [ 0, -1, 0], on=['x', 'y'], how='left')\\\n",
        "       .iloc[:, 3:]\\\n",
        "        .sum(axis=1)\n",
        "        \n",
        "# An alternative solution is to pivot the DataFrame \n",
        "# to form the \"actual\" grid of mines and use convolution.\n",
        "# See https://github.com/jakevdp/matplotlib_pydata2013/blob/master/examples/minesweeper.py\n",
        "\n",
        "from scipy.signal import convolve2d\n",
        "\n",
        "mine_grid = df.pivot_table(columns='x', index='y', values='mine')\n",
        "counts = convolve2d(mine_grid.astype(complex), np.ones((3, 3)), mode='same').real.astype(int)\n",
        "df['adjacent'] = (counts - mine_grid).ravel('F')"
      ],
      "execution_count": 0,
      "outputs": []
    },
    {
      "cell_type": "markdown",
      "metadata": {
        "id": "o413snSL0Fse",
        "colab_type": "text"
      },
      "source": [
        "##Problem 54\n",
        "\n",
        ". For rows of the DataFrame that contain a mine, set the value in the\n",
        "`'adjacent'` column to NaN."
      ]
    },
    {
      "cell_type": "code",
      "metadata": {
        "id": "G0Di_Jtr0Fse",
        "colab_type": "code",
        "colab": {}
      },
      "source": [
        "# Enter your code here"
      ],
      "execution_count": 0,
      "outputs": []
    },
    {
      "cell_type": "markdown",
      "metadata": {
        "id": "gE8XAjAj0Fsf",
        "colab_type": "text"
      },
      "source": [
        "###Solution"
      ]
    },
    {
      "cell_type": "code",
      "metadata": {
        "id": "vkBty1-Y0Fsf",
        "colab_type": "code",
        "colab": {}
      },
      "source": [
        "df.loc[df['mine'] == 1, 'adjacent'] = np.nan"
      ],
      "execution_count": 0,
      "outputs": []
    },
    {
      "cell_type": "markdown",
      "metadata": {
        "id": "pq0nPyYj0Fsg",
        "colab_type": "text"
      },
      "source": [
        "##Problem 55\n",
        "\n",
        ". Finally, convert the DataFrame to grid of the adjacent mine counts:\n",
        "columns are the `x` coordinate, rows are the `y` coordinate."
      ]
    },
    {
      "cell_type": "code",
      "metadata": {
        "id": "UWKWoGmy0Fsg",
        "colab_type": "code",
        "colab": {}
      },
      "source": [
        "# Enter your code here"
      ],
      "execution_count": 0,
      "outputs": []
    },
    {
      "cell_type": "markdown",
      "metadata": {
        "id": "pDmP9_UK0Fsg",
        "colab_type": "text"
      },
      "source": [
        "###Solution"
      ]
    },
    {
      "cell_type": "code",
      "metadata": {
        "id": "rb92mdJZ0Fsg",
        "colab_type": "code",
        "colab": {}
      },
      "source": [
        "df.drop('mine', axis=1)\\\n",
        "  .set_index(['y', 'x']).unstack()"
      ],
      "execution_count": 0,
      "outputs": []
    }
  ]
}