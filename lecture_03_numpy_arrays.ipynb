{
  "nbformat": 4,
  "nbformat_minor": 0,
  "metadata": {
    "colab": {
      "name": "lecture_03_numpy_arrays.ipynb",
      "provenance": [],
      "toc_visible": true,
      "include_colab_link": true
    },
    "kernelspec": {
      "name": "python3",
      "display_name": "Python 3"
    }
  },
  "cells": [
    {
      "cell_type": "markdown",
      "metadata": {
        "id": "view-in-github",
        "colab_type": "text"
      },
      "source": [
        "<a href=\"https://colab.research.google.com/github/fbeilstein/machine_learning/blob/master/lecture_03_numpy_arrays.ipynb\" target=\"_parent\"><img src=\"https://colab.research.google.com/assets/colab-badge.svg\" alt=\"Open In Colab\"/></a>"
      ]
    },
    {
      "cell_type": "code",
      "metadata": {
        "id": "lqUcDhM6Y-xl",
        "colab_type": "code",
        "cellView": "form",
        "colab": {}
      },
      "source": [
        "#@title Helper Functions\n",
        "\n",
        "str_style = '''\n",
        "<style>\n",
        "table {\n",
        "  border-collapse: collapse;\n",
        "}\n",
        "\n",
        "td {\n",
        "  border: 3px solid #666666;\n",
        "  min-width:30px;\n",
        "  height: 30px;\n",
        "  position: relative; \n",
        "  text-align:center; \n",
        "  color: #474747;\n",
        "  font-size:20px;\n",
        "  font-weight: bolder;\n",
        "  padding: 19px;\n",
        "}\n",
        "\n",
        ".up{\n",
        "  position: absolute; \n",
        "  right: 0;\n",
        "  top: 0;\n",
        "  background: white;\n",
        "  text-align: right;\n",
        "  font-size: 16px;\n",
        "  font-family: Courier;\n",
        "  font-weight: bolder;\n",
        "  color: blue;\n",
        "  opacity: 1.0;\n",
        "  background-color:rgba(0, 0, 0, 0.0);\n",
        "}\n",
        "\n",
        ".down{\n",
        "  position: absolute; \n",
        "  right: 0;\n",
        "  bottom: 0;\n",
        "  background: white;\n",
        "  text-align: right;\n",
        "  font-size: 16px;\n",
        "  font-family: Courier;\n",
        "  font-weight: bolder;\n",
        "  color: red;\n",
        "  opacity: 0.9;\n",
        "  background-color:rgba(0, 0, 0, 0.0);\n",
        "}\n",
        "</style>\n",
        "'''\n",
        "\n",
        "#background-color:rgba(0, 0, 0, 0.0);\n",
        "\n",
        "def enclose_element(element, idx_up, idx_down):\n",
        "  return ('\\t<td>' + str(element) + '<span class=\"up\">' \n",
        "                   + str(idx_up)  + '</span><span class=\"down\">' \n",
        "                   + str(idx_down) + '</span></td>')\n",
        "\n",
        "def horizontal_tbl(array, color):\n",
        "  result = '<table bgcolor=\"' + color + '\"><tr>\\n'\n",
        "  max_count = len(array)\n",
        "  for idx, e in enumerate(array):\n",
        "    result += enclose_element(e, idx, idx - max_count) + '\\n'\n",
        "  result += '</tr></table>\\n'\n",
        "  return result\n",
        "\n",
        "def vertical_tbl(array, color):\n",
        "  result = '<table bgcolor=\"' + color + '\">\\n'\n",
        "  max_count = len(array)\n",
        "  for idx, e in enumerate(array):\n",
        "    result += '<tr>' + enclose_element(e, idx, idx - max_count) + '</tr>\\n'\n",
        "  result += '</table>\\n'\n",
        "  return result\n",
        "\n",
        "def recursive_tbl(array, parity, max_levels, level=0, color_A=[150,200,255], color_B=[75, 100, 170]):\n",
        "  if len(array.shape) == 1:\n",
        "    return horizontal_tbl(array, \"\".join([\"%02x\" % int(c) for c in color_A]))\n",
        "  mix = np.array(color_A) * (level/max_levels) + np.array(color_B) * (1.0 - level/max_levels)\n",
        "  color = \"\".join([\"%02x\" % int(c) for c in mix])\n",
        "  if parity:\n",
        "    return horizontal_tbl([recursive_tbl(x, not parity, max_levels, level+1, color_A, color_B) for x in array], color)\n",
        "  else:\n",
        "    return vertical_tbl([recursive_tbl(x, not parity, max_levels, level+1, color_A, color_B) for x in array], color)\n",
        "\n",
        "def array_to_html(array):\n",
        "  return str_style + recursive_tbl(array, len(array.shape) % 2, len(array.shape)-1)\n",
        "\n",
        "def visualize_array(array):\n",
        "  array_str = array_to_html(array)\n",
        "  import IPython\n",
        "  from google.colab import output\n",
        "  display(IPython.display.HTML(array_str))\n",
        "\n",
        "str_style_bigtbl = '''\n",
        "<style>\n",
        ".bigtable {\n",
        "  border-collapse: collapse;\n",
        "}\n",
        "\n",
        ".bigtd {\n",
        "  border: 3px solid #f900003f;\n",
        "  min-width:30px;\n",
        "  height: 30px;\n",
        "  position: relative; \n",
        "  text-align:center; \n",
        "  color: #474747;\n",
        "  font-size:20px;\n",
        "  font-weight: bolder;\n",
        "  padding: 19px;\n",
        "}\n",
        "\n",
        "</style>\n",
        "'''\n",
        "\n",
        "def draw_tbl(lst):\n",
        "  result = '<table class=\"bigtable\">\\n'\n",
        "  for row in lst:\n",
        "    result += '<tr>\\n\\t'\n",
        "    for e in row:\n",
        "      result += '<td class=\"bigtd\">' + str(e) + '</td>'\n",
        "    result += '\\n</tr>\\n'\n",
        "  result += '</table>'\n",
        "  import IPython\n",
        "  from google.colab import output\n",
        "  display(IPython.display.HTML(str_style_bigtbl + result))\n",
        "\n"
      ],
      "execution_count": 0,
      "outputs": []
    },
    {
      "cell_type": "markdown",
      "metadata": {
        "id": "2TStn_0_UY1d",
        "colab_type": "text"
      },
      "source": [
        "#The Basics of NumPy Arrays"
      ]
    },
    {
      "cell_type": "markdown",
      "metadata": {
        "id": "E8QxSgO3eMK4",
        "colab_type": "text"
      },
      "source": [
        "##NumPy Array Attributes"
      ]
    },
    {
      "cell_type": "markdown",
      "metadata": {
        "id": "YcqiHudBflI3",
        "colab_type": "text"
      },
      "source": [
        "| Data type\t    | Description |\n",
        "|---------------|-------------|\n",
        "| ``bool_``     | Boolean (True or False) stored as a byte |\n",
        "| ``int_``      | Default integer type (same as C ``long``; normally either ``int64`` or ``int32``)| \n",
        "| ``intc``      | Identical to C ``int`` (normally ``int32`` or ``int64``)| \n",
        "| ``intp``      | Integer used for indexing (same as C ``ssize_t``; normally either ``int32`` or ``int64``)| \n",
        "| ``int8``      | Byte (-128 to 127)| \n",
        "| ``int16``     | Integer (-32768 to 32767)|\n",
        "| ``int32``     | Integer (-2147483648 to 2147483647)|\n",
        "| ``int64``     | Integer (-9223372036854775808 to 9223372036854775807)| \n",
        "| ``uint8``     | Unsigned integer (0 to 255)| \n",
        "| ``uint16``    | Unsigned integer (0 to 65535)| \n",
        "| ``uint32``    | Unsigned integer (0 to 4294967295)| \n",
        "| ``uint64``    | Unsigned integer (0 to 18446744073709551615)| \n",
        "| ``float_``    | Shorthand for ``float64``.| \n",
        "| ``float16``   | Half precision float: sign bit, 5 bits exponent, 10 bits mantissa| \n",
        "| ``float32``   | Single precision float: sign bit, 8 bits exponent, 23 bits mantissa| \n",
        "| ``float64``   | Double precision float: sign bit, 11 bits exponent, 52 bits mantissa| \n",
        "| ``complex_``  | Shorthand for ``complex128``.| \n",
        "| ``complex64`` | Complex number, represented by two 32-bit floats| \n",
        "| ``complex128``| Complex number, represented by two 64-bit floats| "
      ]
    },
    {
      "cell_type": "code",
      "metadata": {
        "id": "bnObZdktc0YQ",
        "colab_type": "code",
        "outputId": "cfbae836-b82c-4135-cc55-9cd9ec1cad5b",
        "colab": {
          "base_uri": "https://localhost:8080/",
          "height": 588
        }
      },
      "source": [
        "import numpy as np\n",
        "\n",
        "np.random.seed(0) # seed for reproducibility\n",
        "x = np.random.randint(10, size=(3, 4, 5)) # Three-dimensional array\n",
        "\n",
        "draw_tbl([[\"x = np.random.randint(10, size=(3, 4, 5))\"],\n",
        "          [\"code\", \"output\"],\n",
        "          [\"x.ndim \", x.ndim],\n",
        "          [\"x.shape\", x.shape],\n",
        "          [\"x.size \", x.size],\n",
        "          [\"x.dtype \", x.dtype],\n",
        "          [\"x.itemsize (bytes):\", x.itemsize],\n",
        "          [\"x.nbytes (bytes):\", x.nbytes]])"
      ],
      "execution_count": 0,
      "outputs": [
        {
          "output_type": "display_data",
          "data": {
            "text/html": [
              "\n",
              "<style>\n",
              ".bigtable {\n",
              "  border-collapse: collapse;\n",
              "}\n",
              "\n",
              ".bigtd {\n",
              "  border: 3px solid #f900003f;\n",
              "  min-width:30px;\n",
              "  height: 30px;\n",
              "  position: relative; \n",
              "  text-align:center; \n",
              "  color: #474747;\n",
              "  font-size:20px;\n",
              "  font-weight: bolder;\n",
              "  padding: 19px;\n",
              "}\n",
              "\n",
              "</style>\n",
              "<table class=\"bigtable\">\n",
              "<tr>\n",
              "\t<td class=\"bigtd\">x = np.random.randint(10, size=(3, 4, 5))</td>\n",
              "</tr>\n",
              "<tr>\n",
              "\t<td class=\"bigtd\">code</td><td class=\"bigtd\">output</td>\n",
              "</tr>\n",
              "<tr>\n",
              "\t<td class=\"bigtd\">x.ndim </td><td class=\"bigtd\">3</td>\n",
              "</tr>\n",
              "<tr>\n",
              "\t<td class=\"bigtd\">x.shape</td><td class=\"bigtd\">(3, 4, 5)</td>\n",
              "</tr>\n",
              "<tr>\n",
              "\t<td class=\"bigtd\">x.size </td><td class=\"bigtd\">60</td>\n",
              "</tr>\n",
              "<tr>\n",
              "\t<td class=\"bigtd\">x.dtype </td><td class=\"bigtd\">int64</td>\n",
              "</tr>\n",
              "<tr>\n",
              "\t<td class=\"bigtd\">x.itemsize (bytes):</td><td class=\"bigtd\">8</td>\n",
              "</tr>\n",
              "<tr>\n",
              "\t<td class=\"bigtd\">x.nbytes (bytes):</td><td class=\"bigtd\">480</td>\n",
              "</tr>\n",
              "</table>"
            ],
            "text/plain": [
              "<IPython.core.display.HTML object>"
            ]
          },
          "metadata": {
            "tags": []
          }
        }
      ]
    },
    {
      "cell_type": "markdown",
      "metadata": {
        "id": "EpGjSyT5eZVA",
        "colab_type": "text"
      },
      "source": [
        "##Array Indexing: Accessing Single Elements"
      ]
    },
    {
      "cell_type": "code",
      "metadata": {
        "id": "d5OLSC1EdKtB",
        "colab_type": "code",
        "outputId": "cdc17db4-4e0f-4e9f-8743-3655802915ce",
        "colab": {
          "base_uri": "https://localhost:8080/",
          "height": 34
        }
      },
      "source": [
        "import numpy as np\n",
        "np.random.seed(0) # seed for reproducibility\n",
        "x1 = np.random.randint(10, size=6) # One-dimensional array\n",
        "x1"
      ],
      "execution_count": 0,
      "outputs": [
        {
          "output_type": "execute_result",
          "data": {
            "text/plain": [
              "array([5, 0, 3, 3, 7, 9])"
            ]
          },
          "metadata": {
            "tags": []
          },
          "execution_count": 5
        }
      ]
    },
    {
      "cell_type": "code",
      "metadata": {
        "id": "68hLUs8udMJR",
        "colab_type": "code",
        "outputId": "d5799264-50a7-407d-d232-d3f5de6a4038",
        "colab": {
          "base_uri": "https://localhost:8080/",
          "height": 91
        }
      },
      "source": [
        "visualize_array(x1)"
      ],
      "execution_count": 0,
      "outputs": [
        {
          "output_type": "display_data",
          "data": {
            "text/html": [
              "\n",
              "<style>\n",
              "table {\n",
              "  border-collapse: collapse;\n",
              "}\n",
              "\n",
              "td {\n",
              "  border: 3px solid #666666;\n",
              "  min-width:30px;\n",
              "  height: 30px;\n",
              "  position: relative; \n",
              "  text-align:center; \n",
              "  color: #474747;\n",
              "  font-size:20px;\n",
              "  font-weight: bolder;\n",
              "  padding: 19px;\n",
              "}\n",
              "\n",
              ".up{\n",
              "  position: absolute; \n",
              "  right: 0;\n",
              "  top: 0;\n",
              "  background: white;\n",
              "  text-align: right;\n",
              "  font-size: 16px;\n",
              "  font-family: Courier;\n",
              "  font-weight: bolder;\n",
              "  color: blue;\n",
              "  opacity: 1.0;\n",
              "  background-color:rgba(0, 0, 0, 0.0);\n",
              "}\n",
              "\n",
              ".down{\n",
              "  position: absolute; \n",
              "  right: 0;\n",
              "  bottom: 0;\n",
              "  background: white;\n",
              "  text-align: right;\n",
              "  font-size: 16px;\n",
              "  font-family: Courier;\n",
              "  font-weight: bolder;\n",
              "  color: red;\n",
              "  opacity: 0.9;\n",
              "  background-color:rgba(0, 0, 0, 0.0);\n",
              "}\n",
              "</style>\n",
              "<table bgcolor=\"96c8ff\"><tr>\n",
              "\t<td>5<span class=\"up\">0</span><span class=\"down\">-6</span></td>\n",
              "\t<td>0<span class=\"up\">1</span><span class=\"down\">-5</span></td>\n",
              "\t<td>3<span class=\"up\">2</span><span class=\"down\">-4</span></td>\n",
              "\t<td>3<span class=\"up\">3</span><span class=\"down\">-3</span></td>\n",
              "\t<td>7<span class=\"up\">4</span><span class=\"down\">-2</span></td>\n",
              "\t<td>9<span class=\"up\">5</span><span class=\"down\">-1</span></td>\n",
              "</tr></table>\n"
            ],
            "text/plain": [
              "<IPython.core.display.HTML object>"
            ]
          },
          "metadata": {
            "tags": []
          }
        }
      ]
    },
    {
      "cell_type": "code",
      "metadata": {
        "id": "-Khz7EjY_HDC",
        "colab_type": "code",
        "outputId": "a6688d35-9055-42b6-c85b-52d9a0c6387d",
        "colab": {
          "base_uri": "https://localhost:8080/",
          "height": 162
        }
      },
      "source": [
        "draw_tbl([['code:',  'x1[0]', 'x1[4]', 'x1[-1]', 'x1[-2]'],\n",
        "          ['result:', x1[0] ,  x1[4] ,  x1[-1] ,  x1[-2] ]])"
      ],
      "execution_count": 0,
      "outputs": [
        {
          "output_type": "display_data",
          "data": {
            "text/html": [
              "\n",
              "<style>\n",
              ".bigtable {\n",
              "  border-collapse: collapse;\n",
              "}\n",
              "\n",
              ".bigtd {\n",
              "  border: 3px solid #f900003f;\n",
              "  min-width:30px;\n",
              "  height: 30px;\n",
              "  position: relative; \n",
              "  text-align:center; \n",
              "  color: #474747;\n",
              "  font-size:20px;\n",
              "  font-weight: bolder;\n",
              "  padding: 19px;\n",
              "}\n",
              "\n",
              "</style>\n",
              "<table class=\"bigtable\">\n",
              "<tr>\n",
              "\t<td class=\"bigtd\">code:</td><td class=\"bigtd\">x1[0]</td><td class=\"bigtd\">x1[4]</td><td class=\"bigtd\">x1[-1]</td><td class=\"bigtd\">x1[-2]</td>\n",
              "</tr>\n",
              "<tr>\n",
              "\t<td class=\"bigtd\">result:</td><td class=\"bigtd\">5</td><td class=\"bigtd\">7</td><td class=\"bigtd\">9</td><td class=\"bigtd\">7</td>\n",
              "</tr>\n",
              "</table>"
            ],
            "text/plain": [
              "<IPython.core.display.HTML object>"
            ]
          },
          "metadata": {
            "tags": []
          }
        }
      ]
    },
    {
      "cell_type": "code",
      "metadata": {
        "id": "zUqT_IdTg54R",
        "colab_type": "code",
        "outputId": "98728c8c-9a28-4abd-9e8b-2b963ce71309",
        "colab": {
          "base_uri": "https://localhost:8080/",
          "height": 321
        }
      },
      "source": [
        "import numpy as np\n",
        "np.random.seed(0) # seed for reproducibility\n",
        "x1 = np.random.randint(10, size=6) # One-dimensional array\n",
        "x1_old = x1.copy()\n",
        "x1[0] = 123.456789\n",
        "\n",
        "draw_tbl([[array_to_html(x1_old), 'dtype = ' + str(x1.dtype)],\n",
        "          ['x1[0] = 123.456789'],\n",
        "          [array_to_html(x1), 'truncated!']])"
      ],
      "execution_count": 0,
      "outputs": [
        {
          "output_type": "display_data",
          "data": {
            "text/html": [
              "\n",
              "<style>\n",
              ".bigtable {\n",
              "  border-collapse: collapse;\n",
              "}\n",
              "\n",
              ".bigtd {\n",
              "  border: 3px solid #f900003f;\n",
              "  min-width:30px;\n",
              "  height: 30px;\n",
              "  position: relative; \n",
              "  text-align:center; \n",
              "  color: #474747;\n",
              "  font-size:20px;\n",
              "  font-weight: bolder;\n",
              "  padding: 19px;\n",
              "}\n",
              "\n",
              "</style>\n",
              "<table class=\"bigtable\">\n",
              "<tr>\n",
              "\t<td class=\"bigtd\">\n",
              "<style>\n",
              "table {\n",
              "  border-collapse: collapse;\n",
              "}\n",
              "\n",
              "td {\n",
              "  border: 3px solid #666666;\n",
              "  min-width:30px;\n",
              "  height: 30px;\n",
              "  position: relative; \n",
              "  text-align:center; \n",
              "  color: #474747;\n",
              "  font-size:20px;\n",
              "  font-weight: bolder;\n",
              "  padding: 19px;\n",
              "}\n",
              "\n",
              ".up{\n",
              "  position: absolute; \n",
              "  right: 0;\n",
              "  top: 0;\n",
              "  background: white;\n",
              "  text-align: right;\n",
              "  font-size: 16px;\n",
              "  font-family: Courier;\n",
              "  font-weight: bolder;\n",
              "  color: blue;\n",
              "  opacity: 1.0;\n",
              "  background-color:rgba(0, 0, 0, 0.0);\n",
              "}\n",
              "\n",
              ".down{\n",
              "  position: absolute; \n",
              "  right: 0;\n",
              "  bottom: 0;\n",
              "  background: white;\n",
              "  text-align: right;\n",
              "  font-size: 16px;\n",
              "  font-family: Courier;\n",
              "  font-weight: bolder;\n",
              "  color: red;\n",
              "  opacity: 0.9;\n",
              "  background-color:rgba(0, 0, 0, 0.0);\n",
              "}\n",
              "</style>\n",
              "<table bgcolor=\"96c8ff\"><tr>\n",
              "\t<td>5<span class=\"up\">0</span><span class=\"down\">-6</span></td>\n",
              "\t<td>0<span class=\"up\">1</span><span class=\"down\">-5</span></td>\n",
              "\t<td>3<span class=\"up\">2</span><span class=\"down\">-4</span></td>\n",
              "\t<td>3<span class=\"up\">3</span><span class=\"down\">-3</span></td>\n",
              "\t<td>7<span class=\"up\">4</span><span class=\"down\">-2</span></td>\n",
              "\t<td>9<span class=\"up\">5</span><span class=\"down\">-1</span></td>\n",
              "</tr></table>\n",
              "</td><td class=\"bigtd\">dtype = int64</td>\n",
              "</tr>\n",
              "<tr>\n",
              "\t<td class=\"bigtd\">x1[0] = 123.456789</td>\n",
              "</tr>\n",
              "<tr>\n",
              "\t<td class=\"bigtd\">\n",
              "<style>\n",
              "table {\n",
              "  border-collapse: collapse;\n",
              "}\n",
              "\n",
              "td {\n",
              "  border: 3px solid #666666;\n",
              "  min-width:30px;\n",
              "  height: 30px;\n",
              "  position: relative; \n",
              "  text-align:center; \n",
              "  color: #474747;\n",
              "  font-size:20px;\n",
              "  font-weight: bolder;\n",
              "  padding: 19px;\n",
              "}\n",
              "\n",
              ".up{\n",
              "  position: absolute; \n",
              "  right: 0;\n",
              "  top: 0;\n",
              "  background: white;\n",
              "  text-align: right;\n",
              "  font-size: 16px;\n",
              "  font-family: Courier;\n",
              "  font-weight: bolder;\n",
              "  color: blue;\n",
              "  opacity: 1.0;\n",
              "  background-color:rgba(0, 0, 0, 0.0);\n",
              "}\n",
              "\n",
              ".down{\n",
              "  position: absolute; \n",
              "  right: 0;\n",
              "  bottom: 0;\n",
              "  background: white;\n",
              "  text-align: right;\n",
              "  font-size: 16px;\n",
              "  font-family: Courier;\n",
              "  font-weight: bolder;\n",
              "  color: red;\n",
              "  opacity: 0.9;\n",
              "  background-color:rgba(0, 0, 0, 0.0);\n",
              "}\n",
              "</style>\n",
              "<table bgcolor=\"96c8ff\"><tr>\n",
              "\t<td>123<span class=\"up\">0</span><span class=\"down\">-6</span></td>\n",
              "\t<td>0<span class=\"up\">1</span><span class=\"down\">-5</span></td>\n",
              "\t<td>3<span class=\"up\">2</span><span class=\"down\">-4</span></td>\n",
              "\t<td>3<span class=\"up\">3</span><span class=\"down\">-3</span></td>\n",
              "\t<td>7<span class=\"up\">4</span><span class=\"down\">-2</span></td>\n",
              "\t<td>9<span class=\"up\">5</span><span class=\"down\">-1</span></td>\n",
              "</tr></table>\n",
              "</td><td class=\"bigtd\">truncated!</td>\n",
              "</tr>\n",
              "</table>"
            ],
            "text/plain": [
              "<IPython.core.display.HTML object>"
            ]
          },
          "metadata": {
            "tags": []
          }
        }
      ]
    },
    {
      "cell_type": "code",
      "metadata": {
        "id": "7-IoPDURDe1_",
        "colab_type": "code",
        "outputId": "b26fa390-e4ee-4e1c-8ea1-3bd194972a75",
        "colab": {
          "base_uri": "https://localhost:8080/",
          "height": 68
        }
      },
      "source": [
        "import numpy as np\n",
        "np.random.seed(0) # seed for reproducibility\n",
        "x2 = np.random.randint(10, size=(3, 4)) # Two-dimensional array\n",
        "x2"
      ],
      "execution_count": 0,
      "outputs": [
        {
          "output_type": "execute_result",
          "data": {
            "text/plain": [
              "array([[5, 0, 3, 3],\n",
              "       [7, 9, 3, 5],\n",
              "       [2, 4, 7, 6]])"
            ]
          },
          "metadata": {
            "tags": []
          },
          "execution_count": 9
        }
      ]
    },
    {
      "cell_type": "code",
      "metadata": {
        "id": "_iAHN8mOdg8o",
        "colab_type": "code",
        "outputId": "2ddde634-f321-4b5f-be5c-f882dd461ea1",
        "colab": {
          "base_uri": "https://localhost:8080/",
          "height": 365
        }
      },
      "source": [
        "visualize_array(x2)"
      ],
      "execution_count": 0,
      "outputs": [
        {
          "output_type": "display_data",
          "data": {
            "text/html": [
              "\n",
              "<style>\n",
              "table {\n",
              "  border-collapse: collapse;\n",
              "}\n",
              "\n",
              "td {\n",
              "  border: 3px solid #666666;\n",
              "  min-width:30px;\n",
              "  height: 30px;\n",
              "  position: relative; \n",
              "  text-align:center; \n",
              "  color: #474747;\n",
              "  font-size:20px;\n",
              "  font-weight: bolder;\n",
              "  padding: 19px;\n",
              "}\n",
              "\n",
              ".up{\n",
              "  position: absolute; \n",
              "  right: 0;\n",
              "  top: 0;\n",
              "  background: white;\n",
              "  text-align: right;\n",
              "  font-size: 16px;\n",
              "  font-family: Courier;\n",
              "  font-weight: bolder;\n",
              "  color: blue;\n",
              "  opacity: 1.0;\n",
              "  background-color:rgba(0, 0, 0, 0.0);\n",
              "}\n",
              "\n",
              ".down{\n",
              "  position: absolute; \n",
              "  right: 0;\n",
              "  bottom: 0;\n",
              "  background: white;\n",
              "  text-align: right;\n",
              "  font-size: 16px;\n",
              "  font-family: Courier;\n",
              "  font-weight: bolder;\n",
              "  color: red;\n",
              "  opacity: 0.9;\n",
              "  background-color:rgba(0, 0, 0, 0.0);\n",
              "}\n",
              "</style>\n",
              "<table bgcolor=\"4b64aa\">\n",
              "<tr>\t<td><table bgcolor=\"96c8ff\"><tr>\n",
              "\t<td>5<span class=\"up\">0</span><span class=\"down\">-4</span></td>\n",
              "\t<td>0<span class=\"up\">1</span><span class=\"down\">-3</span></td>\n",
              "\t<td>3<span class=\"up\">2</span><span class=\"down\">-2</span></td>\n",
              "\t<td>3<span class=\"up\">3</span><span class=\"down\">-1</span></td>\n",
              "</tr></table>\n",
              "<span class=\"up\">0</span><span class=\"down\">-3</span></td></tr>\n",
              "<tr>\t<td><table bgcolor=\"96c8ff\"><tr>\n",
              "\t<td>7<span class=\"up\">0</span><span class=\"down\">-4</span></td>\n",
              "\t<td>9<span class=\"up\">1</span><span class=\"down\">-3</span></td>\n",
              "\t<td>3<span class=\"up\">2</span><span class=\"down\">-2</span></td>\n",
              "\t<td>5<span class=\"up\">3</span><span class=\"down\">-1</span></td>\n",
              "</tr></table>\n",
              "<span class=\"up\">1</span><span class=\"down\">-2</span></td></tr>\n",
              "<tr>\t<td><table bgcolor=\"96c8ff\"><tr>\n",
              "\t<td>2<span class=\"up\">0</span><span class=\"down\">-4</span></td>\n",
              "\t<td>4<span class=\"up\">1</span><span class=\"down\">-3</span></td>\n",
              "\t<td>7<span class=\"up\">2</span><span class=\"down\">-2</span></td>\n",
              "\t<td>6<span class=\"up\">3</span><span class=\"down\">-1</span></td>\n",
              "</tr></table>\n",
              "<span class=\"up\">2</span><span class=\"down\">-1</span></td></tr>\n",
              "</table>\n"
            ],
            "text/plain": [
              "<IPython.core.display.HTML object>"
            ]
          },
          "metadata": {
            "tags": []
          }
        }
      ]
    },
    {
      "cell_type": "code",
      "metadata": {
        "id": "D9CBnsBwDK65",
        "colab_type": "code",
        "outputId": "22460aba-ead3-41a9-a3fb-58b465eed5c6",
        "colab": {
          "base_uri": "https://localhost:8080/",
          "height": 162
        }
      },
      "source": [
        "draw_tbl([['code:',  'x2[0,0]', 'x2[2,0]', 'x2[2,-1]'],\n",
        "          ['result:', x2[0,0] ,  x2[2,0] ,  x2[2,-1] ]])"
      ],
      "execution_count": 0,
      "outputs": [
        {
          "output_type": "display_data",
          "data": {
            "text/html": [
              "\n",
              "<style>\n",
              ".bigtable {\n",
              "  border-collapse: collapse;\n",
              "}\n",
              "\n",
              ".bigtd {\n",
              "  border: 3px solid #f900003f;\n",
              "  min-width:30px;\n",
              "  height: 30px;\n",
              "  position: relative; \n",
              "  text-align:center; \n",
              "  color: #474747;\n",
              "  font-size:20px;\n",
              "  font-weight: bolder;\n",
              "  padding: 19px;\n",
              "}\n",
              "\n",
              "</style>\n",
              "<table class=\"bigtable\">\n",
              "<tr>\n",
              "\t<td class=\"bigtd\">code:</td><td class=\"bigtd\">x2[0,0]</td><td class=\"bigtd\">x2[2,0]</td><td class=\"bigtd\">x2[2,-1]</td>\n",
              "</tr>\n",
              "<tr>\n",
              "\t<td class=\"bigtd\">result:</td><td class=\"bigtd\">5</td><td class=\"bigtd\">2</td><td class=\"bigtd\">6</td>\n",
              "</tr>\n",
              "</table>"
            ],
            "text/plain": [
              "<IPython.core.display.HTML object>"
            ]
          },
          "metadata": {
            "tags": []
          }
        }
      ]
    },
    {
      "cell_type": "code",
      "metadata": {
        "id": "iU9itRPGdsfm",
        "colab_type": "code",
        "outputId": "c2c3f2f4-27f8-4227-c394-052cf16d833b",
        "colab": {
          "base_uri": "https://localhost:8080/",
          "height": 480
        }
      },
      "source": [
        "x2_old = x2.copy()\n",
        "x2[0, 0] = 12\n",
        "draw_tbl([['Initial', 'x2[0, 0] = 12'],\n",
        "          [array_to_html(x2_old), array_to_html(x2)]])"
      ],
      "execution_count": 0,
      "outputs": [
        {
          "output_type": "display_data",
          "data": {
            "text/html": [
              "\n",
              "<style>\n",
              ".bigtable {\n",
              "  border-collapse: collapse;\n",
              "}\n",
              "\n",
              ".bigtd {\n",
              "  border: 3px solid #f900003f;\n",
              "  min-width:30px;\n",
              "  height: 30px;\n",
              "  position: relative; \n",
              "  text-align:center; \n",
              "  color: #474747;\n",
              "  font-size:20px;\n",
              "  font-weight: bolder;\n",
              "  padding: 19px;\n",
              "}\n",
              "\n",
              "</style>\n",
              "<table class=\"bigtable\">\n",
              "<tr>\n",
              "\t<td class=\"bigtd\">Initial</td><td class=\"bigtd\">x2[0, 0] = 12</td>\n",
              "</tr>\n",
              "<tr>\n",
              "\t<td class=\"bigtd\">\n",
              "<style>\n",
              "table {\n",
              "  border-collapse: collapse;\n",
              "}\n",
              "\n",
              "td {\n",
              "  border: 3px solid #666666;\n",
              "  min-width:30px;\n",
              "  height: 30px;\n",
              "  position: relative; \n",
              "  text-align:center; \n",
              "  color: #474747;\n",
              "  font-size:20px;\n",
              "  font-weight: bolder;\n",
              "  padding: 19px;\n",
              "}\n",
              "\n",
              ".up{\n",
              "  position: absolute; \n",
              "  right: 0;\n",
              "  top: 0;\n",
              "  background: white;\n",
              "  text-align: right;\n",
              "  font-size: 16px;\n",
              "  font-family: Courier;\n",
              "  font-weight: bolder;\n",
              "  color: blue;\n",
              "  opacity: 1.0;\n",
              "  background-color:rgba(0, 0, 0, 0.0);\n",
              "}\n",
              "\n",
              ".down{\n",
              "  position: absolute; \n",
              "  right: 0;\n",
              "  bottom: 0;\n",
              "  background: white;\n",
              "  text-align: right;\n",
              "  font-size: 16px;\n",
              "  font-family: Courier;\n",
              "  font-weight: bolder;\n",
              "  color: red;\n",
              "  opacity: 0.9;\n",
              "  background-color:rgba(0, 0, 0, 0.0);\n",
              "}\n",
              "</style>\n",
              "<table bgcolor=\"4b64aa\">\n",
              "<tr>\t<td><table bgcolor=\"96c8ff\"><tr>\n",
              "\t<td>5<span class=\"up\">0</span><span class=\"down\">-4</span></td>\n",
              "\t<td>0<span class=\"up\">1</span><span class=\"down\">-3</span></td>\n",
              "\t<td>3<span class=\"up\">2</span><span class=\"down\">-2</span></td>\n",
              "\t<td>3<span class=\"up\">3</span><span class=\"down\">-1</span></td>\n",
              "</tr></table>\n",
              "<span class=\"up\">0</span><span class=\"down\">-3</span></td></tr>\n",
              "<tr>\t<td><table bgcolor=\"96c8ff\"><tr>\n",
              "\t<td>7<span class=\"up\">0</span><span class=\"down\">-4</span></td>\n",
              "\t<td>9<span class=\"up\">1</span><span class=\"down\">-3</span></td>\n",
              "\t<td>3<span class=\"up\">2</span><span class=\"down\">-2</span></td>\n",
              "\t<td>5<span class=\"up\">3</span><span class=\"down\">-1</span></td>\n",
              "</tr></table>\n",
              "<span class=\"up\">1</span><span class=\"down\">-2</span></td></tr>\n",
              "<tr>\t<td><table bgcolor=\"96c8ff\"><tr>\n",
              "\t<td>2<span class=\"up\">0</span><span class=\"down\">-4</span></td>\n",
              "\t<td>4<span class=\"up\">1</span><span class=\"down\">-3</span></td>\n",
              "\t<td>7<span class=\"up\">2</span><span class=\"down\">-2</span></td>\n",
              "\t<td>6<span class=\"up\">3</span><span class=\"down\">-1</span></td>\n",
              "</tr></table>\n",
              "<span class=\"up\">2</span><span class=\"down\">-1</span></td></tr>\n",
              "</table>\n",
              "</td><td class=\"bigtd\">\n",
              "<style>\n",
              "table {\n",
              "  border-collapse: collapse;\n",
              "}\n",
              "\n",
              "td {\n",
              "  border: 3px solid #666666;\n",
              "  min-width:30px;\n",
              "  height: 30px;\n",
              "  position: relative; \n",
              "  text-align:center; \n",
              "  color: #474747;\n",
              "  font-size:20px;\n",
              "  font-weight: bolder;\n",
              "  padding: 19px;\n",
              "}\n",
              "\n",
              ".up{\n",
              "  position: absolute; \n",
              "  right: 0;\n",
              "  top: 0;\n",
              "  background: white;\n",
              "  text-align: right;\n",
              "  font-size: 16px;\n",
              "  font-family: Courier;\n",
              "  font-weight: bolder;\n",
              "  color: blue;\n",
              "  opacity: 1.0;\n",
              "  background-color:rgba(0, 0, 0, 0.0);\n",
              "}\n",
              "\n",
              ".down{\n",
              "  position: absolute; \n",
              "  right: 0;\n",
              "  bottom: 0;\n",
              "  background: white;\n",
              "  text-align: right;\n",
              "  font-size: 16px;\n",
              "  font-family: Courier;\n",
              "  font-weight: bolder;\n",
              "  color: red;\n",
              "  opacity: 0.9;\n",
              "  background-color:rgba(0, 0, 0, 0.0);\n",
              "}\n",
              "</style>\n",
              "<table bgcolor=\"4b64aa\">\n",
              "<tr>\t<td><table bgcolor=\"96c8ff\"><tr>\n",
              "\t<td>12<span class=\"up\">0</span><span class=\"down\">-4</span></td>\n",
              "\t<td>0<span class=\"up\">1</span><span class=\"down\">-3</span></td>\n",
              "\t<td>3<span class=\"up\">2</span><span class=\"down\">-2</span></td>\n",
              "\t<td>3<span class=\"up\">3</span><span class=\"down\">-1</span></td>\n",
              "</tr></table>\n",
              "<span class=\"up\">0</span><span class=\"down\">-3</span></td></tr>\n",
              "<tr>\t<td><table bgcolor=\"96c8ff\"><tr>\n",
              "\t<td>7<span class=\"up\">0</span><span class=\"down\">-4</span></td>\n",
              "\t<td>9<span class=\"up\">1</span><span class=\"down\">-3</span></td>\n",
              "\t<td>3<span class=\"up\">2</span><span class=\"down\">-2</span></td>\n",
              "\t<td>5<span class=\"up\">3</span><span class=\"down\">-1</span></td>\n",
              "</tr></table>\n",
              "<span class=\"up\">1</span><span class=\"down\">-2</span></td></tr>\n",
              "<tr>\t<td><table bgcolor=\"96c8ff\"><tr>\n",
              "\t<td>2<span class=\"up\">0</span><span class=\"down\">-4</span></td>\n",
              "\t<td>4<span class=\"up\">1</span><span class=\"down\">-3</span></td>\n",
              "\t<td>7<span class=\"up\">2</span><span class=\"down\">-2</span></td>\n",
              "\t<td>6<span class=\"up\">3</span><span class=\"down\">-1</span></td>\n",
              "</tr></table>\n",
              "<span class=\"up\">2</span><span class=\"down\">-1</span></td></tr>\n",
              "</table>\n",
              "</td>\n",
              "</tr>\n",
              "</table>"
            ],
            "text/plain": [
              "<IPython.core.display.HTML object>"
            ]
          },
          "metadata": {
            "tags": []
          }
        }
      ]
    },
    {
      "cell_type": "markdown",
      "metadata": {
        "id": "wadou4UgedOZ",
        "colab_type": "text"
      },
      "source": [
        "##Array Slicing: Accessing Subarrays"
      ]
    },
    {
      "cell_type": "code",
      "metadata": {
        "id": "1PtvQHOOFAVk",
        "colab_type": "code",
        "cellView": "form",
        "outputId": "23d5217f-0b97-40e7-a9fa-1b3bb7b2a05e",
        "colab": {
          "base_uri": "https://localhost:8080/",
          "height": 1000
        }
      },
      "source": [
        "#@title Indexing 1D array\n",
        "\n",
        "str_ex_1 = '''\n",
        "<svg width=\"98.037mm\" height=\"16.462mm\" version=\"1.1\" viewBox=\"0 0 98.037 16.462\" xmlns=\"http://www.w3.org/2000/svg\">\n",
        " <g transform=\"translate(-36.14 -9.4543)\">\n",
        "  <g fill=\"#0054ff\" fill-opacity=\".15942\" stroke=\"#0059d0\" stroke-linecap=\"square\" stroke-miterlimit=\"10.433\" stroke-opacity=\".12941\" stroke-width=\".669\">\n",
        "   <rect x=\"36.475\" y=\"16.731\" width=\"8.8516\" height=\"8.8516\"/>\n",
        "   <rect x=\"45.326\" y=\"16.731\" width=\"8.8516\" height=\"8.8516\"/>\n",
        "   <rect x=\"54.178\" y=\"16.731\" width=\"8.8516\" height=\"8.8516\"/>\n",
        "   <rect x=\"63.03\" y=\"16.731\" width=\"8.8516\" height=\"8.8516\"/>\n",
        "   <rect x=\"71.881\" y=\"16.731\" width=\"8.8516\" height=\"8.8516\"/>\n",
        "  </g>\n",
        "  <g fill-opacity=\"0\" stroke=\"#0059d0\" stroke-linecap=\"square\" stroke-miterlimit=\"10.433\" stroke-opacity=\".12941\" stroke-width=\".669\">\n",
        "   <rect x=\"80.733\" y=\"16.731\" width=\"8.8516\" height=\"8.8516\"/>\n",
        "   <rect x=\"89.585\" y=\"16.731\" width=\"8.8516\" height=\"8.8516\"/>\n",
        "   <rect x=\"98.436\" y=\"16.731\" width=\"8.8516\" height=\"8.8516\"/>\n",
        "   <rect x=\"107.29\" y=\"16.731\" width=\"8.8516\" height=\"8.8516\"/>\n",
        "   <rect x=\"116.14\" y=\"16.731\" width=\"8.8516\" height=\"8.8516\"/>\n",
        "  </g>\n",
        "  <g fill=\"#000000\" fill-opacity=\".47059\" font-family=\"'Courier New'\" font-size=\"5.9912px\" font-weight=\"bold\" letter-spacing=\"0px\" stroke-opacity=\".21739\" stroke-width=\".26458\" word-spacing=\"0px\">\n",
        "   <text x=\"39.164585\" y=\"13.476597\" style=\"font-feature-settings:normal;font-variant-caps:normal;font-variant-ligatures:normal;font-variant-numeric:normal;line-height:1.25\" xml:space=\"preserve\"><tspan x=\"39.164585\" y=\"13.476597\" fill=\"#000000\" fill-opacity=\".47059\" font-family=\"'Courier New'\" font-size=\"5.9912px\" font-weight=\"bold\" stroke-opacity=\".21739\" stroke-width=\".26458\" style=\"font-feature-settings:normal;font-variant-caps:normal;font-variant-ligatures:normal;font-variant-numeric:normal\">0</tspan></text>\n",
        "   <text x=\"48.377216\" y=\"13.477852\" style=\"font-feature-settings:normal;font-variant-caps:normal;font-variant-ligatures:normal;font-variant-numeric:normal;line-height:1.25\" xml:space=\"preserve\"><tspan x=\"48.377216\" y=\"13.477852\" fill=\"#000000\" fill-opacity=\".47059\" font-family=\"'Courier New'\" font-size=\"5.9912px\" font-weight=\"bold\" stroke-opacity=\".21739\" stroke-width=\".26458\" style=\"font-feature-settings:normal;font-variant-caps:normal;font-variant-ligatures:normal;font-variant-numeric:normal\">1</tspan></text>\n",
        "   <text x=\"57.047047\" y=\"13.501475\" style=\"font-feature-settings:normal;font-variant-caps:normal;font-variant-ligatures:normal;font-variant-numeric:normal;line-height:1.25\" xml:space=\"preserve\"><tspan x=\"57.047047\" y=\"13.501475\" fill=\"#000000\" fill-opacity=\".47059\" font-family=\"'Courier New'\" font-size=\"5.9912px\" font-weight=\"bold\" stroke-opacity=\".21739\" stroke-width=\".26458\" style=\"font-feature-settings:normal;font-variant-caps:normal;font-variant-ligatures:normal;font-variant-numeric:normal\">2</tspan></text>\n",
        "   <text x=\"65.886887\" y=\"13.38645\" style=\"font-feature-settings:normal;font-variant-caps:normal;font-variant-ligatures:normal;font-variant-numeric:normal;line-height:1.25\" xml:space=\"preserve\"><tspan x=\"65.886887\" y=\"13.38645\" fill=\"#000000\" fill-opacity=\".47059\" font-family=\"'Courier New'\" font-size=\"5.9912px\" font-weight=\"bold\" stroke-opacity=\".21739\" stroke-width=\".26458\" style=\"font-feature-settings:normal;font-variant-caps:normal;font-variant-ligatures:normal;font-variant-numeric:normal\">3</tspan></text>\n",
        "   <text x=\"74.539742\" y=\"13.503381\" style=\"font-feature-settings:normal;font-variant-caps:normal;font-variant-ligatures:normal;font-variant-numeric:normal;line-height:1.25\" xml:space=\"preserve\"><tspan x=\"74.539742\" y=\"13.503381\" fill=\"#000000\" fill-opacity=\".47059\" font-family=\"'Courier New'\" font-size=\"5.9912px\" font-weight=\"bold\" stroke-opacity=\".21739\" stroke-width=\".26458\" style=\"font-feature-settings:normal;font-variant-caps:normal;font-variant-ligatures:normal;font-variant-numeric:normal\">4</tspan></text>\n",
        "   <text x=\"83.453674\" y=\"13.42299\" style=\"font-feature-settings:normal;font-variant-caps:normal;font-variant-ligatures:normal;font-variant-numeric:normal;line-height:1.25\" xml:space=\"preserve\"><tspan x=\"83.453674\" y=\"13.42299\" fill=\"#000000\" fill-opacity=\".47059\" font-family=\"'Courier New'\" font-size=\"5.9912px\" font-weight=\"bold\" stroke-opacity=\".21739\" stroke-width=\".26458\" style=\"font-feature-settings:normal;font-variant-caps:normal;font-variant-ligatures:normal;font-variant-numeric:normal\">5</tspan></text>\n",
        "   <text x=\"92.127968\" y=\"13.406981\" style=\"font-feature-settings:normal;font-variant-caps:normal;font-variant-ligatures:normal;font-variant-numeric:normal;line-height:1.25\" xml:space=\"preserve\"><tspan x=\"92.127968\" y=\"13.406981\" fill=\"#000000\" fill-opacity=\".47059\" font-family=\"'Courier New'\" font-size=\"5.9912px\" font-weight=\"bold\" stroke-opacity=\".21739\" stroke-width=\".26458\" style=\"font-feature-settings:normal;font-variant-caps:normal;font-variant-ligatures:normal;font-variant-numeric:normal\">6</tspan></text>\n",
        "   <text x=\"101.3001\" y=\"13.386451\" style=\"font-feature-settings:normal;font-variant-caps:normal;font-variant-ligatures:normal;font-variant-numeric:normal;line-height:1.25\" xml:space=\"preserve\"><tspan x=\"101.3001\" y=\"13.386451\" fill=\"#000000\" fill-opacity=\".47059\" font-family=\"'Courier New'\" font-size=\"5.9912px\" font-weight=\"bold\" stroke-opacity=\".21739\" stroke-width=\".26458\" style=\"font-feature-settings:normal;font-variant-caps:normal;font-variant-ligatures:normal;font-variant-numeric:normal\">7</tspan></text>\n",
        "   <text x=\"110.05318\" y=\"13.436563\" style=\"font-feature-settings:normal;font-variant-caps:normal;font-variant-ligatures:normal;font-variant-numeric:normal;line-height:1.25\" xml:space=\"preserve\"><tspan x=\"110.05318\" y=\"13.436563\" fill=\"#000000\" fill-opacity=\".47059\" font-family=\"'Courier New'\" font-size=\"5.9912px\" font-weight=\"bold\" stroke-opacity=\".21739\" stroke-width=\".26458\" style=\"font-feature-settings:normal;font-variant-caps:normal;font-variant-ligatures:normal;font-variant-numeric:normal\">8</tspan></text>\n",
        "   <text x=\"119.45772\" y=\"13.336337\" style=\"font-feature-settings:normal;font-variant-caps:normal;font-variant-ligatures:normal;font-variant-numeric:normal;line-height:1.25\" xml:space=\"preserve\"><tspan x=\"119.45772\" y=\"13.336337\" fill=\"#000000\" fill-opacity=\".47059\" font-family=\"'Courier New'\" font-size=\"5.9912px\" font-weight=\"bold\" stroke-opacity=\".21739\" stroke-width=\".26458\" style=\"font-feature-settings:normal;font-variant-caps:normal;font-variant-ligatures:normal;font-variant-numeric:normal\">9</tspan></text>\n",
        "   <text x=\"126.75752\" y=\"13.419859\" style=\"font-feature-settings:normal;font-variant-caps:normal;font-variant-ligatures:normal;font-variant-numeric:normal;line-height:1.25\" xml:space=\"preserve\"><tspan x=\"126.75752\" y=\"13.419859\" fill=\"#000000\" fill-opacity=\".47059\" font-family=\"'Courier New'\" font-size=\"5.9912px\" font-weight=\"bold\" stroke-opacity=\".21739\" stroke-width=\".26458\" style=\"font-feature-settings:normal;font-variant-caps:normal;font-variant-ligatures:normal;font-variant-numeric:normal\">10</tspan></text>\n",
        "  </g>\n",
        "  <rect x=\"124.99\" y=\"16.731\" width=\"8.8516\" height=\"8.8516\" fill-opacity=\"0\" stroke=\"#0059d0\" stroke-linecap=\"square\" stroke-miterlimit=\"10.433\" stroke-opacity=\".12941\" stroke-width=\".669\"/>\n",
        " </g>\n",
        "</svg>\n",
        "'''\n",
        "str_ex_2 = '''\n",
        "<svg width=\"107.52mm\" height=\"16.462mm\" version=\"1.1\" viewBox=\"0 0 107.52 16.462\" xmlns=\"http://www.w3.org/2000/svg\">\n",
        " <g transform=\"translate(-35.908 -40.475)\">\n",
        "  <g fill=\"#0054ff\" stroke=\"#0059d0\" stroke-linecap=\"square\" stroke-miterlimit=\"10.433\" stroke-opacity=\".12941\" stroke-width=\".669\">\n",
        "   <g fill-opacity=\".0048309\">\n",
        "    <rect x=\"36.853\" y=\"47.752\" width=\"8.8516\" height=\"8.8516\"/>\n",
        "    <rect x=\"45.705\" y=\"47.752\" width=\"8.8516\" height=\"8.8516\"/>\n",
        "    <rect x=\"54.556\" y=\"47.752\" width=\"8.8516\" height=\"8.8516\"/>\n",
        "    <rect x=\"63.408\" y=\"47.752\" width=\"8.8516\" height=\"8.8516\"/>\n",
        "    <rect x=\"72.26\" y=\"47.752\" width=\"8.8516\" height=\"8.8516\"/>\n",
        "   </g>\n",
        "   <g fill-opacity=\".16078\">\n",
        "    <rect x=\"81.111\" y=\"47.752\" width=\"8.8516\" height=\"8.8516\"/>\n",
        "    <rect x=\"89.963\" y=\"47.752\" width=\"8.8516\" height=\"8.8516\"/>\n",
        "    <rect x=\"98.814\" y=\"47.752\" width=\"8.8516\" height=\"8.8516\"/>\n",
        "    <rect x=\"107.67\" y=\"47.752\" width=\"8.8516\" height=\"8.8516\"/>\n",
        "    <rect x=\"116.52\" y=\"47.752\" width=\"8.8516\" height=\"8.8516\"/>\n",
        "   </g>\n",
        "  </g>\n",
        "  <text x=\"39.542854\" y=\"44.497643\" fill=\"#000000\" fill-opacity=\".47059\" font-family=\"'Courier New'\" font-size=\"5.9912px\" font-weight=\"bold\" letter-spacing=\"0px\" stroke-opacity=\".21739\" stroke-width=\".26458\" word-spacing=\"0px\" style=\"font-feature-settings:normal;font-variant-caps:normal;font-variant-ligatures:normal;font-variant-numeric:normal;line-height:1.25\" xml:space=\"preserve\"><tspan x=\"39.542854\" y=\"44.497643\" fill=\"#000000\" fill-opacity=\".47059\" font-family=\"'Courier New'\" font-size=\"5.9912px\" font-weight=\"bold\" stroke-opacity=\".21739\" stroke-width=\".26458\" style=\"font-feature-settings:normal;font-variant-caps:normal;font-variant-ligatures:normal;font-variant-numeric:normal\">0</tspan></text>\n",
        "  <path d=\"m35.908 44.822h107.52\" fill-opacity=\".37681\"/>\n",
        "  <g fill=\"#000000\" fill-opacity=\".47059\" font-family=\"'Courier New'\" font-size=\"5.9912px\" font-weight=\"bold\" letter-spacing=\"0px\" stroke-opacity=\".21739\" stroke-width=\".26458\" word-spacing=\"0px\">\n",
        "   <text x=\"48.755486\" y=\"44.498898\" style=\"font-feature-settings:normal;font-variant-caps:normal;font-variant-ligatures:normal;font-variant-numeric:normal;line-height:1.25\" xml:space=\"preserve\"><tspan x=\"48.755486\" y=\"44.498898\" fill=\"#000000\" fill-opacity=\".47059\" font-family=\"'Courier New'\" font-size=\"5.9912px\" font-weight=\"bold\" stroke-opacity=\".21739\" stroke-width=\".26458\" style=\"font-feature-settings:normal;font-variant-caps:normal;font-variant-ligatures:normal;font-variant-numeric:normal\">1</tspan></text>\n",
        "   <text x=\"57.425316\" y=\"44.522522\" style=\"font-feature-settings:normal;font-variant-caps:normal;font-variant-ligatures:normal;font-variant-numeric:normal;line-height:1.25\" xml:space=\"preserve\"><tspan x=\"57.425316\" y=\"44.522522\" fill=\"#000000\" fill-opacity=\".47059\" font-family=\"'Courier New'\" font-size=\"5.9912px\" font-weight=\"bold\" stroke-opacity=\".21739\" stroke-width=\".26458\" style=\"font-feature-settings:normal;font-variant-caps:normal;font-variant-ligatures:normal;font-variant-numeric:normal\">2</tspan></text>\n",
        "   <text x=\"66.265152\" y=\"44.407494\" style=\"font-feature-settings:normal;font-variant-caps:normal;font-variant-ligatures:normal;font-variant-numeric:normal;line-height:1.25\" xml:space=\"preserve\"><tspan x=\"66.265152\" y=\"44.407494\" fill=\"#000000\" fill-opacity=\".47059\" font-family=\"'Courier New'\" font-size=\"5.9912px\" font-weight=\"bold\" stroke-opacity=\".21739\" stroke-width=\".26458\" style=\"font-feature-settings:normal;font-variant-caps:normal;font-variant-ligatures:normal;font-variant-numeric:normal\">3</tspan></text>\n",
        "   <text x=\"74.918007\" y=\"44.524426\" style=\"font-feature-settings:normal;font-variant-caps:normal;font-variant-ligatures:normal;font-variant-numeric:normal;line-height:1.25\" xml:space=\"preserve\"><tspan x=\"74.918007\" y=\"44.524426\" fill=\"#000000\" fill-opacity=\".47059\" font-family=\"'Courier New'\" font-size=\"5.9912px\" font-weight=\"bold\" stroke-opacity=\".21739\" stroke-width=\".26458\" style=\"font-feature-settings:normal;font-variant-caps:normal;font-variant-ligatures:normal;font-variant-numeric:normal\">4</tspan></text>\n",
        "   <text x=\"83.83194\" y=\"44.444035\" style=\"font-feature-settings:normal;font-variant-caps:normal;font-variant-ligatures:normal;font-variant-numeric:normal;line-height:1.25\" xml:space=\"preserve\"><tspan x=\"83.83194\" y=\"44.444035\" fill=\"#000000\" fill-opacity=\".47059\" font-family=\"'Courier New'\" font-size=\"5.9912px\" font-weight=\"bold\" stroke-opacity=\".21739\" stroke-width=\".26458\" style=\"font-feature-settings:normal;font-variant-caps:normal;font-variant-ligatures:normal;font-variant-numeric:normal\">5</tspan></text>\n",
        "   <text x=\"92.506233\" y=\"44.428028\" style=\"font-feature-settings:normal;font-variant-caps:normal;font-variant-ligatures:normal;font-variant-numeric:normal;line-height:1.25\" xml:space=\"preserve\"><tspan x=\"92.506233\" y=\"44.428028\" fill=\"#000000\" fill-opacity=\".47059\" font-family=\"'Courier New'\" font-size=\"5.9912px\" font-weight=\"bold\" stroke-opacity=\".21739\" stroke-width=\".26458\" style=\"font-feature-settings:normal;font-variant-caps:normal;font-variant-ligatures:normal;font-variant-numeric:normal\">6</tspan></text>\n",
        "   <text x=\"101.67836\" y=\"44.407494\" style=\"font-feature-settings:normal;font-variant-caps:normal;font-variant-ligatures:normal;font-variant-numeric:normal;line-height:1.25\" xml:space=\"preserve\"><tspan x=\"101.67836\" y=\"44.407494\" fill=\"#000000\" fill-opacity=\".47059\" font-family=\"'Courier New'\" font-size=\"5.9912px\" font-weight=\"bold\" stroke-opacity=\".21739\" stroke-width=\".26458\" style=\"font-feature-settings:normal;font-variant-caps:normal;font-variant-ligatures:normal;font-variant-numeric:normal\">7</tspan></text>\n",
        "   <text x=\"110.43144\" y=\"44.457607\" style=\"font-feature-settings:normal;font-variant-caps:normal;font-variant-ligatures:normal;font-variant-numeric:normal;line-height:1.25\" xml:space=\"preserve\"><tspan x=\"110.43144\" y=\"44.457607\" fill=\"#000000\" fill-opacity=\".47059\" font-family=\"'Courier New'\" font-size=\"5.9912px\" font-weight=\"bold\" stroke-opacity=\".21739\" stroke-width=\".26458\" style=\"font-feature-settings:normal;font-variant-caps:normal;font-variant-ligatures:normal;font-variant-numeric:normal\">8</tspan></text>\n",
        "   <text x=\"119.83599\" y=\"44.357384\" style=\"font-feature-settings:normal;font-variant-caps:normal;font-variant-ligatures:normal;font-variant-numeric:normal;line-height:1.25\" xml:space=\"preserve\"><tspan x=\"119.83599\" y=\"44.357384\" fill=\"#000000\" fill-opacity=\".47059\" font-family=\"'Courier New'\" font-size=\"5.9912px\" font-weight=\"bold\" stroke-opacity=\".21739\" stroke-width=\".26458\" style=\"font-feature-settings:normal;font-variant-caps:normal;font-variant-ligatures:normal;font-variant-numeric:normal\">9</tspan></text>\n",
        "   <text x=\"127.1358\" y=\"44.440903\" style=\"font-feature-settings:normal;font-variant-caps:normal;font-variant-ligatures:normal;font-variant-numeric:normal;line-height:1.25\" xml:space=\"preserve\"><tspan x=\"127.1358\" y=\"44.440903\" fill=\"#000000\" fill-opacity=\".47059\" font-family=\"'Courier New'\" font-size=\"5.9912px\" font-weight=\"bold\" stroke-opacity=\".21739\" stroke-width=\".26458\" style=\"font-feature-settings:normal;font-variant-caps:normal;font-variant-ligatures:normal;font-variant-numeric:normal\">10</tspan></text>\n",
        "  </g>\n",
        "  <rect x=\"125.37\" y=\"47.752\" width=\"8.8516\" height=\"8.8516\" fill=\"#0054ff\" fill-opacity=\".16078\" stroke=\"#0059d0\" stroke-linecap=\"square\" stroke-miterlimit=\"10.433\" stroke-opacity=\".12941\" stroke-width=\".669\"/>\n",
        " </g>\n",
        "</svg>\n",
        "'''\n",
        "str_ex_3 = '''\n",
        "<svg width=\"107.52mm\" height=\"16.462mm\" version=\"1.1\" viewBox=\"0 0 107.52 16.462\" xmlns=\"http://www.w3.org/2000/svg\">\n",
        " <g transform=\"translate(-36.309 -73.617)\">\n",
        "  <g fill=\"#0054ff\" stroke=\"#0059d0\" stroke-linecap=\"square\" stroke-miterlimit=\"10.433\" stroke-opacity=\".12941\" stroke-width=\".669\">\n",
        "   <g fill-opacity=\".0048309\">\n",
        "    <rect x=\"37.254\" y=\"80.893\" width=\"8.8516\" height=\"8.8516\"/>\n",
        "    <rect x=\"46.106\" y=\"80.893\" width=\"8.8516\" height=\"8.8516\"/>\n",
        "    <rect x=\"54.957\" y=\"80.893\" width=\"8.8516\" height=\"8.8516\"/>\n",
        "    <rect x=\"63.809\" y=\"80.893\" width=\"8.8516\" height=\"8.8516\"/>\n",
        "   </g>\n",
        "   <g fill-opacity=\".16078\">\n",
        "    <rect x=\"72.66\" y=\"80.893\" width=\"8.8516\" height=\"8.8516\"/>\n",
        "    <rect x=\"81.512\" y=\"80.893\" width=\"8.8516\" height=\"8.8516\"/>\n",
        "    <rect x=\"90.364\" y=\"80.893\" width=\"8.8516\" height=\"8.8516\"/>\n",
        "    <rect x=\"99.215\" y=\"80.893\" width=\"8.8516\" height=\"8.8516\"/>\n",
        "   </g>\n",
        "  </g>\n",
        "  <rect x=\"108.07\" y=\"80.893\" width=\"8.8516\" height=\"8.8516\" fill-opacity=\"0\" stroke=\"#0059d0\" stroke-linecap=\"square\" stroke-miterlimit=\"10.433\" stroke-opacity=\".12941\" stroke-width=\".669\"/>\n",
        "  <rect x=\"116.92\" y=\"80.893\" width=\"8.8516\" height=\"8.8516\" fill-opacity=\"0\" stroke=\"#0059d0\" stroke-linecap=\"square\" stroke-miterlimit=\"10.433\" stroke-opacity=\".12941\" stroke-width=\".669\"/>\n",
        "  <text x=\"39.943764\" y=\"77.639061\" fill=\"#000000\" fill-opacity=\".47059\" font-family=\"'Courier New'\" font-size=\"5.9912px\" font-weight=\"bold\" letter-spacing=\"0px\" stroke-opacity=\".21739\" stroke-width=\".26458\" word-spacing=\"0px\" style=\"font-feature-settings:normal;font-variant-caps:normal;font-variant-ligatures:normal;font-variant-numeric:normal;line-height:1.25\" xml:space=\"preserve\"><tspan x=\"39.943764\" y=\"77.639061\" fill=\"#000000\" fill-opacity=\".47059\" font-family=\"'Courier New'\" font-size=\"5.9912px\" font-weight=\"bold\" stroke-opacity=\".21739\" stroke-width=\".26458\" style=\"font-feature-settings:normal;font-variant-caps:normal;font-variant-ligatures:normal;font-variant-numeric:normal\">0</tspan></text>\n",
        "  <path d=\"m36.309 77.964h107.52\" fill-opacity=\".37681\"/>\n",
        "  <g fill=\"#000000\" fill-opacity=\".47059\" font-family=\"'Courier New'\" font-size=\"5.9912px\" font-weight=\"bold\" letter-spacing=\"0px\" stroke-opacity=\".21739\" stroke-width=\".26458\" word-spacing=\"0px\">\n",
        "   <text x=\"49.156395\" y=\"77.64032\" style=\"font-feature-settings:normal;font-variant-caps:normal;font-variant-ligatures:normal;font-variant-numeric:normal;line-height:1.25\" xml:space=\"preserve\"><tspan x=\"49.156395\" y=\"77.64032\" fill=\"#000000\" fill-opacity=\".47059\" font-family=\"'Courier New'\" font-size=\"5.9912px\" font-weight=\"bold\" stroke-opacity=\".21739\" stroke-width=\".26458\" style=\"font-feature-settings:normal;font-variant-caps:normal;font-variant-ligatures:normal;font-variant-numeric:normal\">1</tspan></text>\n",
        "   <text x=\"57.826225\" y=\"77.66394\" style=\"font-feature-settings:normal;font-variant-caps:normal;font-variant-ligatures:normal;font-variant-numeric:normal;line-height:1.25\" xml:space=\"preserve\"><tspan x=\"57.826225\" y=\"77.66394\" fill=\"#000000\" fill-opacity=\".47059\" font-family=\"'Courier New'\" font-size=\"5.9912px\" font-weight=\"bold\" stroke-opacity=\".21739\" stroke-width=\".26458\" style=\"font-feature-settings:normal;font-variant-caps:normal;font-variant-ligatures:normal;font-variant-numeric:normal\">2</tspan></text>\n",
        "   <text x=\"66.666061\" y=\"77.548912\" style=\"font-feature-settings:normal;font-variant-caps:normal;font-variant-ligatures:normal;font-variant-numeric:normal;line-height:1.25\" xml:space=\"preserve\"><tspan x=\"66.666061\" y=\"77.548912\" fill=\"#000000\" fill-opacity=\".47059\" font-family=\"'Courier New'\" font-size=\"5.9912px\" font-weight=\"bold\" stroke-opacity=\".21739\" stroke-width=\".26458\" style=\"font-feature-settings:normal;font-variant-caps:normal;font-variant-ligatures:normal;font-variant-numeric:normal\">3</tspan></text>\n",
        "   <text x=\"75.318916\" y=\"77.665848\" style=\"font-feature-settings:normal;font-variant-caps:normal;font-variant-ligatures:normal;font-variant-numeric:normal;line-height:1.25\" xml:space=\"preserve\"><tspan x=\"75.318916\" y=\"77.665848\" fill=\"#000000\" fill-opacity=\".47059\" font-family=\"'Courier New'\" font-size=\"5.9912px\" font-weight=\"bold\" stroke-opacity=\".21739\" stroke-width=\".26458\" style=\"font-feature-settings:normal;font-variant-caps:normal;font-variant-ligatures:normal;font-variant-numeric:normal\">4</tspan></text>\n",
        "   <text x=\"84.232849\" y=\"77.585457\" style=\"font-feature-settings:normal;font-variant-caps:normal;font-variant-ligatures:normal;font-variant-numeric:normal;line-height:1.25\" xml:space=\"preserve\"><tspan x=\"84.232849\" y=\"77.585457\" fill=\"#000000\" fill-opacity=\".47059\" font-family=\"'Courier New'\" font-size=\"5.9912px\" font-weight=\"bold\" stroke-opacity=\".21739\" stroke-width=\".26458\" style=\"font-feature-settings:normal;font-variant-caps:normal;font-variant-ligatures:normal;font-variant-numeric:normal\">5</tspan></text>\n",
        "   <text x=\"92.907143\" y=\"77.56945\" style=\"font-feature-settings:normal;font-variant-caps:normal;font-variant-ligatures:normal;font-variant-numeric:normal;line-height:1.25\" xml:space=\"preserve\"><tspan x=\"92.907143\" y=\"77.56945\" fill=\"#000000\" fill-opacity=\".47059\" font-family=\"'Courier New'\" font-size=\"5.9912px\" font-weight=\"bold\" stroke-opacity=\".21739\" stroke-width=\".26458\" style=\"font-feature-settings:normal;font-variant-caps:normal;font-variant-ligatures:normal;font-variant-numeric:normal\">6</tspan></text>\n",
        "   <text x=\"102.07927\" y=\"77.548912\" style=\"font-feature-settings:normal;font-variant-caps:normal;font-variant-ligatures:normal;font-variant-numeric:normal;line-height:1.25\" xml:space=\"preserve\"><tspan x=\"102.07927\" y=\"77.548912\" fill=\"#000000\" fill-opacity=\".47059\" font-family=\"'Courier New'\" font-size=\"5.9912px\" font-weight=\"bold\" stroke-opacity=\".21739\" stroke-width=\".26458\" style=\"font-feature-settings:normal;font-variant-caps:normal;font-variant-ligatures:normal;font-variant-numeric:normal\">7</tspan></text>\n",
        "   <text x=\"110.83235\" y=\"77.59903\" style=\"font-feature-settings:normal;font-variant-caps:normal;font-variant-ligatures:normal;font-variant-numeric:normal;line-height:1.25\" xml:space=\"preserve\"><tspan x=\"110.83235\" y=\"77.59903\" fill=\"#000000\" fill-opacity=\".47059\" font-family=\"'Courier New'\" font-size=\"5.9912px\" font-weight=\"bold\" stroke-opacity=\".21739\" stroke-width=\".26458\" style=\"font-feature-settings:normal;font-variant-caps:normal;font-variant-ligatures:normal;font-variant-numeric:normal\">8</tspan></text>\n",
        "   <text x=\"120.23691\" y=\"77.498802\" style=\"font-feature-settings:normal;font-variant-caps:normal;font-variant-ligatures:normal;font-variant-numeric:normal;line-height:1.25\" xml:space=\"preserve\"><tspan x=\"120.23691\" y=\"77.498802\" fill=\"#000000\" fill-opacity=\".47059\" font-family=\"'Courier New'\" font-size=\"5.9912px\" font-weight=\"bold\" stroke-opacity=\".21739\" stroke-width=\".26458\" style=\"font-feature-settings:normal;font-variant-caps:normal;font-variant-ligatures:normal;font-variant-numeric:normal\">9</tspan></text>\n",
        "   <text x=\"127.53672\" y=\"77.582321\" style=\"font-feature-settings:normal;font-variant-caps:normal;font-variant-ligatures:normal;font-variant-numeric:normal;line-height:1.25\" xml:space=\"preserve\"><tspan x=\"127.53672\" y=\"77.582321\" fill=\"#000000\" fill-opacity=\".47059\" font-family=\"'Courier New'\" font-size=\"5.9912px\" font-weight=\"bold\" stroke-opacity=\".21739\" stroke-width=\".26458\" style=\"font-feature-settings:normal;font-variant-caps:normal;font-variant-ligatures:normal;font-variant-numeric:normal\">10</tspan></text>\n",
        "  </g>\n",
        "  <rect x=\"125.77\" y=\"80.893\" width=\"8.8516\" height=\"8.8516\" fill-opacity=\"0\" stroke=\"#0059d0\" stroke-linecap=\"square\" stroke-miterlimit=\"10.433\" stroke-opacity=\".12941\" stroke-width=\".669\"/>\n",
        " </g>\n",
        "</svg>\n",
        "'''\n",
        "str_ex_4 = '''\n",
        "<svg width=\"98.037mm\" height=\"16.462mm\" version=\"1.1\" viewBox=\"0 0 98.037 16.462\" xmlns=\"http://www.w3.org/2000/svg\">\n",
        " <g transform=\"translate(-37.31 -110.77)\">\n",
        "  <g fill=\"#0054ff\" stroke=\"#0059d0\" stroke-linecap=\"square\" stroke-miterlimit=\"10.433\" stroke-opacity=\".12941\" stroke-width=\".669\">\n",
        "   <rect x=\"37.644\" y=\"118.04\" width=\"8.8516\" height=\"8.8516\" fill-opacity=\".16078\"/>\n",
        "   <rect x=\"46.496\" y=\"118.04\" width=\"8.8516\" height=\"8.8516\" fill-opacity=\".0048309\"/>\n",
        "   <rect x=\"55.347\" y=\"118.04\" width=\"8.8516\" height=\"8.8516\" fill-opacity=\".16078\"/>\n",
        "   <rect x=\"64.199\" y=\"118.04\" width=\"8.8516\" height=\"8.8516\" fill-opacity=\".0048309\"/>\n",
        "   <rect x=\"73.051\" y=\"118.04\" width=\"8.8516\" height=\"8.8516\" fill-opacity=\".16078\"/>\n",
        "  </g>\n",
        "  <g stroke=\"#0059d0\" stroke-linecap=\"square\" stroke-miterlimit=\"10.433\" stroke-opacity=\".12941\" stroke-width=\".669\">\n",
        "   <rect x=\"81.902\" y=\"118.04\" width=\"8.8516\" height=\"8.8516\" fill-opacity=\"0\"/>\n",
        "   <rect x=\"90.754\" y=\"118.04\" width=\"8.8516\" height=\"8.8516\" fill=\"#0054ff\" fill-opacity=\".16078\"/>\n",
        "   <rect x=\"99.606\" y=\"118.04\" width=\"8.8516\" height=\"8.8516\" fill-opacity=\"0\"/>\n",
        "   <rect x=\"108.46\" y=\"118.04\" width=\"8.8516\" height=\"8.8516\" fill=\"#0054ff\" fill-opacity=\".16078\"/>\n",
        "   <rect x=\"117.31\" y=\"118.04\" width=\"8.8516\" height=\"8.8516\" fill-opacity=\"0\"/>\n",
        "  </g>\n",
        "  <g fill=\"#000000\" fill-opacity=\".47059\" font-family=\"'Courier New'\" font-size=\"5.9912px\" font-weight=\"bold\" letter-spacing=\"0px\" stroke-opacity=\".21739\" stroke-width=\".26458\" word-spacing=\"0px\">\n",
        "   <text x=\"40.333889\" y=\"114.78953\" style=\"font-feature-settings:normal;font-variant-caps:normal;font-variant-ligatures:normal;font-variant-numeric:normal;line-height:1.25\" xml:space=\"preserve\"><tspan x=\"40.333889\" y=\"114.78953\" fill=\"#000000\" fill-opacity=\".47059\" font-family=\"'Courier New'\" font-size=\"5.9912px\" font-weight=\"bold\" stroke-opacity=\".21739\" stroke-width=\".26458\" style=\"font-feature-settings:normal;font-variant-caps:normal;font-variant-ligatures:normal;font-variant-numeric:normal\">0</tspan></text>\n",
        "   <text x=\"49.54652\" y=\"114.79079\" style=\"font-feature-settings:normal;font-variant-caps:normal;font-variant-ligatures:normal;font-variant-numeric:normal;line-height:1.25\" xml:space=\"preserve\"><tspan x=\"49.54652\" y=\"114.79079\" fill=\"#000000\" fill-opacity=\".47059\" font-family=\"'Courier New'\" font-size=\"5.9912px\" font-weight=\"bold\" stroke-opacity=\".21739\" stroke-width=\".26458\" style=\"font-feature-settings:normal;font-variant-caps:normal;font-variant-ligatures:normal;font-variant-numeric:normal\">1</tspan></text>\n",
        "   <text x=\"58.216351\" y=\"114.81441\" style=\"font-feature-settings:normal;font-variant-caps:normal;font-variant-ligatures:normal;font-variant-numeric:normal;line-height:1.25\" xml:space=\"preserve\"><tspan x=\"58.216351\" y=\"114.81441\" fill=\"#000000\" fill-opacity=\".47059\" font-family=\"'Courier New'\" font-size=\"5.9912px\" font-weight=\"bold\" stroke-opacity=\".21739\" stroke-width=\".26458\" style=\"font-feature-settings:normal;font-variant-caps:normal;font-variant-ligatures:normal;font-variant-numeric:normal\">2</tspan></text>\n",
        "   <text x=\"67.05619\" y=\"114.69937\" style=\"font-feature-settings:normal;font-variant-caps:normal;font-variant-ligatures:normal;font-variant-numeric:normal;line-height:1.25\" xml:space=\"preserve\"><tspan x=\"67.05619\" y=\"114.69937\" fill=\"#000000\" fill-opacity=\".47059\" font-family=\"'Courier New'\" font-size=\"5.9912px\" font-weight=\"bold\" stroke-opacity=\".21739\" stroke-width=\".26458\" style=\"font-feature-settings:normal;font-variant-caps:normal;font-variant-ligatures:normal;font-variant-numeric:normal\">3</tspan></text>\n",
        "   <text x=\"75.709045\" y=\"114.81631\" style=\"font-feature-settings:normal;font-variant-caps:normal;font-variant-ligatures:normal;font-variant-numeric:normal;line-height:1.25\" xml:space=\"preserve\"><tspan x=\"75.709045\" y=\"114.81631\" fill=\"#000000\" fill-opacity=\".47059\" font-family=\"'Courier New'\" font-size=\"5.9912px\" font-weight=\"bold\" stroke-opacity=\".21739\" stroke-width=\".26458\" style=\"font-feature-settings:normal;font-variant-caps:normal;font-variant-ligatures:normal;font-variant-numeric:normal\">4</tspan></text>\n",
        "   <text x=\"84.622978\" y=\"114.73592\" style=\"font-feature-settings:normal;font-variant-caps:normal;font-variant-ligatures:normal;font-variant-numeric:normal;line-height:1.25\" xml:space=\"preserve\"><tspan x=\"84.622978\" y=\"114.73592\" fill=\"#000000\" fill-opacity=\".47059\" font-family=\"'Courier New'\" font-size=\"5.9912px\" font-weight=\"bold\" stroke-opacity=\".21739\" stroke-width=\".26458\" style=\"font-feature-settings:normal;font-variant-caps:normal;font-variant-ligatures:normal;font-variant-numeric:normal\">5</tspan></text>\n",
        "   <text x=\"93.297272\" y=\"114.71992\" style=\"font-feature-settings:normal;font-variant-caps:normal;font-variant-ligatures:normal;font-variant-numeric:normal;line-height:1.25\" xml:space=\"preserve\"><tspan x=\"93.297272\" y=\"114.71992\" fill=\"#000000\" fill-opacity=\".47059\" font-family=\"'Courier New'\" font-size=\"5.9912px\" font-weight=\"bold\" stroke-opacity=\".21739\" stroke-width=\".26458\" style=\"font-feature-settings:normal;font-variant-caps:normal;font-variant-ligatures:normal;font-variant-numeric:normal\">6</tspan></text>\n",
        "   <text x=\"102.4694\" y=\"114.69937\" style=\"font-feature-settings:normal;font-variant-caps:normal;font-variant-ligatures:normal;font-variant-numeric:normal;line-height:1.25\" xml:space=\"preserve\"><tspan x=\"102.4694\" y=\"114.69937\" fill=\"#000000\" fill-opacity=\".47059\" font-family=\"'Courier New'\" font-size=\"5.9912px\" font-weight=\"bold\" stroke-opacity=\".21739\" stroke-width=\".26458\" style=\"font-feature-settings:normal;font-variant-caps:normal;font-variant-ligatures:normal;font-variant-numeric:normal\">7</tspan></text>\n",
        "   <text x=\"111.22248\" y=\"114.7495\" style=\"font-feature-settings:normal;font-variant-caps:normal;font-variant-ligatures:normal;font-variant-numeric:normal;line-height:1.25\" xml:space=\"preserve\"><tspan x=\"111.22248\" y=\"114.7495\" fill=\"#000000\" fill-opacity=\".47059\" font-family=\"'Courier New'\" font-size=\"5.9912px\" font-weight=\"bold\" stroke-opacity=\".21739\" stroke-width=\".26458\" style=\"font-feature-settings:normal;font-variant-caps:normal;font-variant-ligatures:normal;font-variant-numeric:normal\">8</tspan></text>\n",
        "   <text x=\"120.62704\" y=\"114.64926\" style=\"font-feature-settings:normal;font-variant-caps:normal;font-variant-ligatures:normal;font-variant-numeric:normal;line-height:1.25\" xml:space=\"preserve\"><tspan x=\"120.62704\" y=\"114.64926\" fill=\"#000000\" fill-opacity=\".47059\" font-family=\"'Courier New'\" font-size=\"5.9912px\" font-weight=\"bold\" stroke-opacity=\".21739\" stroke-width=\".26458\" style=\"font-feature-settings:normal;font-variant-caps:normal;font-variant-ligatures:normal;font-variant-numeric:normal\">9</tspan></text>\n",
        "   <text x=\"127.92686\" y=\"114.73279\" style=\"font-feature-settings:normal;font-variant-caps:normal;font-variant-ligatures:normal;font-variant-numeric:normal;line-height:1.25\" xml:space=\"preserve\"><tspan x=\"127.92686\" y=\"114.73279\" fill=\"#000000\" fill-opacity=\".47059\" font-family=\"'Courier New'\" font-size=\"5.9912px\" font-weight=\"bold\" stroke-opacity=\".21739\" stroke-width=\".26458\" style=\"font-feature-settings:normal;font-variant-caps:normal;font-variant-ligatures:normal;font-variant-numeric:normal\">10</tspan></text>\n",
        "  </g>\n",
        "  <rect x=\"126.16\" y=\"118.04\" width=\"8.8516\" height=\"8.8516\" fill=\"#0054ff\" fill-opacity=\".16078\" stroke=\"#0059d0\" stroke-linecap=\"square\" stroke-miterlimit=\"10.433\" stroke-opacity=\".12941\" stroke-width=\".669\"/>\n",
        " </g>\n",
        "</svg>\n",
        "'''\n",
        "str_ex_5 = '''\n",
        "<svg width=\"98.037mm\" height=\"16.462mm\" version=\"1.1\" viewBox=\"0 0 98.037 16.462\" xmlns=\"http://www.w3.org/2000/svg\">\n",
        " <g transform=\"translate(-37.978 -145.11)\">\n",
        "  <g stroke=\"#0059d0\" stroke-linecap=\"square\" stroke-miterlimit=\"10.433\" stroke-opacity=\".12941\" stroke-width=\".669\">\n",
        "   <rect x=\"38.312\" y=\"152.39\" width=\"8.8516\" height=\"8.8516\" fill-opacity=\"0\"/>\n",
        "   <rect x=\"47.164\" y=\"152.39\" width=\"8.8516\" height=\"8.8516\" fill=\"#0054ff\" fill-opacity=\".16078\"/>\n",
        "   <rect x=\"56.015\" y=\"152.39\" width=\"8.8516\" height=\"8.8516\" fill-opacity=\"0\"/>\n",
        "   <rect x=\"64.867\" y=\"152.39\" width=\"8.8516\" height=\"8.8516\" fill=\"#0054ff\" fill-opacity=\".16078\"/>\n",
        "   <rect x=\"73.719\" y=\"152.39\" width=\"8.8516\" height=\"8.8516\" fill-opacity=\"0\"/>\n",
        "   <rect x=\"82.57\" y=\"152.39\" width=\"8.8516\" height=\"8.8516\" fill=\"#0054ff\" fill-opacity=\".16078\"/>\n",
        "   <rect x=\"91.422\" y=\"152.39\" width=\"8.8516\" height=\"8.8516\" fill-opacity=\"0\"/>\n",
        "   <rect x=\"100.27\" y=\"152.39\" width=\"8.8516\" height=\"8.8516\" fill=\"#0054ff\" fill-opacity=\".16078\"/>\n",
        "   <rect x=\"109.13\" y=\"152.39\" width=\"8.8516\" height=\"8.8516\" fill-opacity=\"0\"/>\n",
        "   <rect x=\"117.98\" y=\"152.39\" width=\"8.8516\" height=\"8.8516\" fill=\"#0054ff\" fill-opacity=\".16078\"/>\n",
        "  </g>\n",
        "  <g fill=\"#000000\" fill-opacity=\".47059\" font-family=\"'Courier New'\" font-size=\"5.9912px\" font-weight=\"bold\" letter-spacing=\"0px\" stroke-opacity=\".21739\" stroke-width=\".26458\" word-spacing=\"0px\">\n",
        "   <text x=\"41.002064\" y=\"149.13367\" style=\"font-feature-settings:normal;font-variant-caps:normal;font-variant-ligatures:normal;font-variant-numeric:normal;line-height:1.25\" xml:space=\"preserve\"><tspan x=\"41.002064\" y=\"149.13367\" fill=\"#000000\" fill-opacity=\".47059\" font-family=\"'Courier New'\" font-size=\"5.9912px\" font-weight=\"bold\" stroke-opacity=\".21739\" stroke-width=\".26458\" style=\"font-feature-settings:normal;font-variant-caps:normal;font-variant-ligatures:normal;font-variant-numeric:normal\">0</tspan></text>\n",
        "   <text x=\"50.214695\" y=\"149.13493\" style=\"font-feature-settings:normal;font-variant-caps:normal;font-variant-ligatures:normal;font-variant-numeric:normal;line-height:1.25\" xml:space=\"preserve\"><tspan x=\"50.214695\" y=\"149.13493\" fill=\"#000000\" fill-opacity=\".47059\" font-family=\"'Courier New'\" font-size=\"5.9912px\" font-weight=\"bold\" stroke-opacity=\".21739\" stroke-width=\".26458\" style=\"font-feature-settings:normal;font-variant-caps:normal;font-variant-ligatures:normal;font-variant-numeric:normal\">1</tspan></text>\n",
        "   <text x=\"58.884525\" y=\"149.15855\" style=\"font-feature-settings:normal;font-variant-caps:normal;font-variant-ligatures:normal;font-variant-numeric:normal;line-height:1.25\" xml:space=\"preserve\"><tspan x=\"58.884525\" y=\"149.15855\" fill=\"#000000\" fill-opacity=\".47059\" font-family=\"'Courier New'\" font-size=\"5.9912px\" font-weight=\"bold\" stroke-opacity=\".21739\" stroke-width=\".26458\" style=\"font-feature-settings:normal;font-variant-caps:normal;font-variant-ligatures:normal;font-variant-numeric:normal\">2</tspan></text>\n",
        "   <text x=\"67.724373\" y=\"149.04352\" style=\"font-feature-settings:normal;font-variant-caps:normal;font-variant-ligatures:normal;font-variant-numeric:normal;line-height:1.25\" xml:space=\"preserve\"><tspan x=\"67.724373\" y=\"149.04352\" fill=\"#000000\" fill-opacity=\".47059\" font-family=\"'Courier New'\" font-size=\"5.9912px\" font-weight=\"bold\" stroke-opacity=\".21739\" stroke-width=\".26458\" style=\"font-feature-settings:normal;font-variant-caps:normal;font-variant-ligatures:normal;font-variant-numeric:normal\">3</tspan></text>\n",
        "   <text x=\"76.37722\" y=\"149.16045\" style=\"font-feature-settings:normal;font-variant-caps:normal;font-variant-ligatures:normal;font-variant-numeric:normal;line-height:1.25\" xml:space=\"preserve\"><tspan x=\"76.37722\" y=\"149.16045\" fill=\"#000000\" fill-opacity=\".47059\" font-family=\"'Courier New'\" font-size=\"5.9912px\" font-weight=\"bold\" stroke-opacity=\".21739\" stroke-width=\".26458\" style=\"font-feature-settings:normal;font-variant-caps:normal;font-variant-ligatures:normal;font-variant-numeric:normal\">4</tspan></text>\n",
        "   <text x=\"85.291161\" y=\"149.08006\" style=\"font-feature-settings:normal;font-variant-caps:normal;font-variant-ligatures:normal;font-variant-numeric:normal;line-height:1.25\" xml:space=\"preserve\"><tspan x=\"85.291161\" y=\"149.08006\" fill=\"#000000\" fill-opacity=\".47059\" font-family=\"'Courier New'\" font-size=\"5.9912px\" font-weight=\"bold\" stroke-opacity=\".21739\" stroke-width=\".26458\" style=\"font-feature-settings:normal;font-variant-caps:normal;font-variant-ligatures:normal;font-variant-numeric:normal\">5</tspan></text>\n",
        "   <text x=\"93.965454\" y=\"149.06406\" style=\"font-feature-settings:normal;font-variant-caps:normal;font-variant-ligatures:normal;font-variant-numeric:normal;line-height:1.25\" xml:space=\"preserve\"><tspan x=\"93.965454\" y=\"149.06406\" fill=\"#000000\" fill-opacity=\".47059\" font-family=\"'Courier New'\" font-size=\"5.9912px\" font-weight=\"bold\" stroke-opacity=\".21739\" stroke-width=\".26458\" style=\"font-feature-settings:normal;font-variant-caps:normal;font-variant-ligatures:normal;font-variant-numeric:normal\">6</tspan></text>\n",
        "   <text x=\"103.13757\" y=\"149.04352\" style=\"font-feature-settings:normal;font-variant-caps:normal;font-variant-ligatures:normal;font-variant-numeric:normal;line-height:1.25\" xml:space=\"preserve\"><tspan x=\"103.13757\" y=\"149.04352\" fill=\"#000000\" fill-opacity=\".47059\" font-family=\"'Courier New'\" font-size=\"5.9912px\" font-weight=\"bold\" stroke-opacity=\".21739\" stroke-width=\".26458\" style=\"font-feature-settings:normal;font-variant-caps:normal;font-variant-ligatures:normal;font-variant-numeric:normal\">7</tspan></text>\n",
        "   <text x=\"111.89066\" y=\"149.09364\" style=\"font-feature-settings:normal;font-variant-caps:normal;font-variant-ligatures:normal;font-variant-numeric:normal;line-height:1.25\" xml:space=\"preserve\"><tspan x=\"111.89066\" y=\"149.09364\" fill=\"#000000\" fill-opacity=\".47059\" font-family=\"'Courier New'\" font-size=\"5.9912px\" font-weight=\"bold\" stroke-opacity=\".21739\" stroke-width=\".26458\" style=\"font-feature-settings:normal;font-variant-caps:normal;font-variant-ligatures:normal;font-variant-numeric:normal\">8</tspan></text>\n",
        "   <text x=\"121.29522\" y=\"148.99341\" style=\"font-feature-settings:normal;font-variant-caps:normal;font-variant-ligatures:normal;font-variant-numeric:normal;line-height:1.25\" xml:space=\"preserve\"><tspan x=\"121.29522\" y=\"148.99341\" fill=\"#000000\" fill-opacity=\".47059\" font-family=\"'Courier New'\" font-size=\"5.9912px\" font-weight=\"bold\" stroke-opacity=\".21739\" stroke-width=\".26458\" style=\"font-feature-settings:normal;font-variant-caps:normal;font-variant-ligatures:normal;font-variant-numeric:normal\">9</tspan></text>\n",
        "   <text x=\"128.59503\" y=\"149.07693\" style=\"font-feature-settings:normal;font-variant-caps:normal;font-variant-ligatures:normal;font-variant-numeric:normal;line-height:1.25\" xml:space=\"preserve\"><tspan x=\"128.59503\" y=\"149.07693\" fill=\"#000000\" fill-opacity=\".47059\" font-family=\"'Courier New'\" font-size=\"5.9912px\" font-weight=\"bold\" stroke-opacity=\".21739\" stroke-width=\".26458\" style=\"font-feature-settings:normal;font-variant-caps:normal;font-variant-ligatures:normal;font-variant-numeric:normal\">10</tspan></text>\n",
        "  </g>\n",
        "  <rect x=\"126.83\" y=\"152.39\" width=\"8.8516\" height=\"8.8516\" fill-opacity=\"0\" stroke=\"#0059d0\" stroke-linecap=\"square\" stroke-miterlimit=\"10.433\" stroke-opacity=\".12941\" stroke-width=\".669\"/>\n",
        " </g>\n",
        "</svg>\n",
        "'''\n",
        "str_ex_6 = '''\n",
        "<svg width=\"98.705mm\" height=\"39.05mm\" version=\"1.1\" viewBox=\"0 0 98.705 39.05\" xmlns=\"http://www.w3.org/2000/svg\">\n",
        " <defs>\n",
        "  <marker id=\"a\" overflow=\"visible\" orient=\"auto\">\n",
        "   <path transform=\"matrix(-.4 0 0 -.4 -4 0)\" d=\"m0 0 5-5-17.5 5 17.5 5z\" fill-opacity=\".55072\" fill-rule=\"evenodd\" stroke=\"#000\" stroke-opacity=\".55072\" stroke-width=\"1pt\"/>\n",
        "  </marker>\n",
        " </defs>\n",
        " <g transform=\"translate(-37.844 -180.12)\">\n",
        "  <rect x=\"38.179\" y=\"187.4\" width=\"8.8516\" height=\"8.8516\" fill=\"#00f\" fill-opacity=\".039216\" stroke=\"#0059d0\" stroke-linecap=\"square\" stroke-miterlimit=\"10.433\" stroke-opacity=\".12941\" stroke-width=\".669\"/>\n",
        "  <g stroke=\"#0059d0\" stroke-linecap=\"square\" stroke-miterlimit=\"10.433\" stroke-opacity=\".12941\" stroke-width=\".669\">\n",
        "   <rect x=\"47.03\" y=\"187.4\" width=\"8.8516\" height=\"8.8516\" fill-opacity=\".078431\"/>\n",
        "   <rect x=\"55.882\" y=\"187.4\" width=\"8.8516\" height=\"8.8516\" fill-opacity=\".11765\"/>\n",
        "   <rect x=\"64.733\" y=\"187.4\" width=\"8.8516\" height=\"8.8516\" fill-opacity=\".15686\"/>\n",
        "   <rect x=\"73.585\" y=\"187.4\" width=\"8.8516\" height=\"8.8516\" fill-opacity=\".19608\"/>\n",
        "   <rect x=\"82.437\" y=\"187.4\" width=\"8.8516\" height=\"8.8516\" fill-opacity=\".23529\"/>\n",
        "   <rect x=\"91.288\" y=\"187.4\" width=\"8.8516\" height=\"8.8516\" fill-opacity=\".27451\"/>\n",
        "   <rect x=\"100.14\" y=\"187.4\" width=\"8.8516\" height=\"8.8516\" fill-opacity=\".31373\"/>\n",
        "   <rect x=\"108.99\" y=\"187.4\" width=\"8.8516\" height=\"8.8516\" fill-opacity=\".35294\"/>\n",
        "   <rect x=\"117.84\" y=\"187.4\" width=\"8.8516\" height=\"8.8516\" fill-opacity=\".39216\"/>\n",
        "  </g>\n",
        "  <g fill=\"#000000\" fill-opacity=\".47059\" font-family=\"'Courier New'\" font-size=\"5.9912px\" font-weight=\"bold\" letter-spacing=\"0px\" stroke-opacity=\".21739\" stroke-width=\".26458\" word-spacing=\"0px\">\n",
        "   <text x=\"40.868423\" y=\"184.14597\" style=\"font-feature-settings:normal;font-variant-caps:normal;font-variant-ligatures:normal;font-variant-numeric:normal;line-height:1.25\" xml:space=\"preserve\"><tspan x=\"40.868423\" y=\"184.14597\" fill=\"#000000\" fill-opacity=\".47059\" font-family=\"'Courier New'\" font-size=\"5.9912px\" font-weight=\"bold\" stroke-opacity=\".21739\" stroke-width=\".26458\" style=\"font-feature-settings:normal;font-variant-caps:normal;font-variant-ligatures:normal;font-variant-numeric:normal\">0</tspan></text>\n",
        "   <text x=\"50.081055\" y=\"184.14723\" style=\"font-feature-settings:normal;font-variant-caps:normal;font-variant-ligatures:normal;font-variant-numeric:normal;line-height:1.25\" xml:space=\"preserve\"><tspan x=\"50.081055\" y=\"184.14723\" fill=\"#000000\" fill-opacity=\".47059\" font-family=\"'Courier New'\" font-size=\"5.9912px\" font-weight=\"bold\" stroke-opacity=\".21739\" stroke-width=\".26458\" style=\"font-feature-settings:normal;font-variant-caps:normal;font-variant-ligatures:normal;font-variant-numeric:normal\">1</tspan></text>\n",
        "   <text x=\"58.750885\" y=\"184.17085\" style=\"font-feature-settings:normal;font-variant-caps:normal;font-variant-ligatures:normal;font-variant-numeric:normal;line-height:1.25\" xml:space=\"preserve\"><tspan x=\"58.750885\" y=\"184.17085\" fill=\"#000000\" fill-opacity=\".47059\" font-family=\"'Courier New'\" font-size=\"5.9912px\" font-weight=\"bold\" stroke-opacity=\".21739\" stroke-width=\".26458\" style=\"font-feature-settings:normal;font-variant-caps:normal;font-variant-ligatures:normal;font-variant-numeric:normal\">2</tspan></text>\n",
        "   <text x=\"67.590729\" y=\"184.05582\" style=\"font-feature-settings:normal;font-variant-caps:normal;font-variant-ligatures:normal;font-variant-numeric:normal;line-height:1.25\" xml:space=\"preserve\"><tspan x=\"67.590729\" y=\"184.05582\" fill=\"#000000\" fill-opacity=\".47059\" font-family=\"'Courier New'\" font-size=\"5.9912px\" font-weight=\"bold\" stroke-opacity=\".21739\" stroke-width=\".26458\" style=\"font-feature-settings:normal;font-variant-caps:normal;font-variant-ligatures:normal;font-variant-numeric:normal\">3</tspan></text>\n",
        "   <text x=\"76.243576\" y=\"184.17274\" style=\"font-feature-settings:normal;font-variant-caps:normal;font-variant-ligatures:normal;font-variant-numeric:normal;line-height:1.25\" xml:space=\"preserve\"><tspan x=\"76.243576\" y=\"184.17274\" fill=\"#000000\" fill-opacity=\".47059\" font-family=\"'Courier New'\" font-size=\"5.9912px\" font-weight=\"bold\" stroke-opacity=\".21739\" stroke-width=\".26458\" style=\"font-feature-settings:normal;font-variant-caps:normal;font-variant-ligatures:normal;font-variant-numeric:normal\">4</tspan></text>\n",
        "   <text x=\"85.157516\" y=\"184.09236\" style=\"font-feature-settings:normal;font-variant-caps:normal;font-variant-ligatures:normal;font-variant-numeric:normal;line-height:1.25\" xml:space=\"preserve\"><tspan x=\"85.157516\" y=\"184.09236\" fill=\"#000000\" fill-opacity=\".47059\" font-family=\"'Courier New'\" font-size=\"5.9912px\" font-weight=\"bold\" stroke-opacity=\".21739\" stroke-width=\".26458\" style=\"font-feature-settings:normal;font-variant-caps:normal;font-variant-ligatures:normal;font-variant-numeric:normal\">5</tspan></text>\n",
        "   <text x=\"93.831818\" y=\"184.07635\" style=\"font-feature-settings:normal;font-variant-caps:normal;font-variant-ligatures:normal;font-variant-numeric:normal;line-height:1.25\" xml:space=\"preserve\"><tspan x=\"93.831818\" y=\"184.07635\" fill=\"#000000\" fill-opacity=\".47059\" font-family=\"'Courier New'\" font-size=\"5.9912px\" font-weight=\"bold\" stroke-opacity=\".21739\" stroke-width=\".26458\" style=\"font-feature-settings:normal;font-variant-caps:normal;font-variant-ligatures:normal;font-variant-numeric:normal\">6</tspan></text>\n",
        "   <text x=\"103.00393\" y=\"184.05582\" style=\"font-feature-settings:normal;font-variant-caps:normal;font-variant-ligatures:normal;font-variant-numeric:normal;line-height:1.25\" xml:space=\"preserve\"><tspan x=\"103.00393\" y=\"184.05582\" fill=\"#000000\" fill-opacity=\".47059\" font-family=\"'Courier New'\" font-size=\"5.9912px\" font-weight=\"bold\" stroke-opacity=\".21739\" stroke-width=\".26458\" style=\"font-feature-settings:normal;font-variant-caps:normal;font-variant-ligatures:normal;font-variant-numeric:normal\">7</tspan></text>\n",
        "   <text x=\"111.75702\" y=\"184.10594\" style=\"font-feature-settings:normal;font-variant-caps:normal;font-variant-ligatures:normal;font-variant-numeric:normal;line-height:1.25\" xml:space=\"preserve\"><tspan x=\"111.75702\" y=\"184.10594\" fill=\"#000000\" fill-opacity=\".47059\" font-family=\"'Courier New'\" font-size=\"5.9912px\" font-weight=\"bold\" stroke-opacity=\".21739\" stroke-width=\".26458\" style=\"font-feature-settings:normal;font-variant-caps:normal;font-variant-ligatures:normal;font-variant-numeric:normal\">8</tspan></text>\n",
        "   <text x=\"121.16158\" y=\"184.00571\" style=\"font-feature-settings:normal;font-variant-caps:normal;font-variant-ligatures:normal;font-variant-numeric:normal;line-height:1.25\" xml:space=\"preserve\"><tspan x=\"121.16158\" y=\"184.00571\" fill=\"#000000\" fill-opacity=\".47059\" font-family=\"'Courier New'\" font-size=\"5.9912px\" font-weight=\"bold\" stroke-opacity=\".21739\" stroke-width=\".26458\" style=\"font-feature-settings:normal;font-variant-caps:normal;font-variant-ligatures:normal;font-variant-numeric:normal\">9</tspan></text>\n",
        "   <text x=\"128.4614\" y=\"184.08923\" style=\"font-feature-settings:normal;font-variant-caps:normal;font-variant-ligatures:normal;font-variant-numeric:normal;line-height:1.25\" xml:space=\"preserve\"><tspan x=\"128.4614\" y=\"184.08923\" fill=\"#000000\" fill-opacity=\".47059\" font-family=\"'Courier New'\" font-size=\"5.9912px\" font-weight=\"bold\" stroke-opacity=\".21739\" stroke-width=\".26458\" style=\"font-feature-settings:normal;font-variant-caps:normal;font-variant-ligatures:normal;font-variant-numeric:normal\">10</tspan></text>\n",
        "  </g>\n",
        "  <rect x=\"126.7\" y=\"187.4\" width=\"8.8516\" height=\"8.8516\" fill-opacity=\".39216\" stroke=\"#0059d0\" stroke-linecap=\"square\" stroke-miterlimit=\"10.433\" stroke-opacity=\".12941\" stroke-width=\".669\"/>\n",
        "  <rect transform=\"scale(-1)\" x=\"-136.21\" y=\"-218.84\" width=\"8.8516\" height=\"8.8516\" fill=\"#00f\" fill-opacity=\".039216\" stroke=\"#0059d0\" stroke-linecap=\"square\" stroke-miterlimit=\"10.433\" stroke-opacity=\".12941\" stroke-width=\".669\"/>\n",
        "  <g stroke=\"#0059d0\" stroke-linecap=\"square\" stroke-miterlimit=\"10.433\" stroke-opacity=\".12941\" stroke-width=\".669\">\n",
        "   <rect transform=\"scale(-1)\" x=\"-127.36\" y=\"-218.84\" width=\"8.8516\" height=\"8.8516\" fill-opacity=\".078431\"/>\n",
        "   <rect transform=\"scale(-1)\" x=\"-118.51\" y=\"-218.84\" width=\"8.8516\" height=\"8.8516\" fill-opacity=\".11765\"/>\n",
        "   <rect transform=\"scale(-1)\" x=\"-109.66\" y=\"-218.84\" width=\"8.8516\" height=\"8.8516\" fill-opacity=\".15686\"/>\n",
        "   <rect transform=\"scale(-1)\" x=\"-100.81\" y=\"-218.84\" width=\"8.8516\" height=\"8.8516\" fill-opacity=\".19608\"/>\n",
        "   <rect transform=\"scale(-1)\" x=\"-91.957\" y=\"-218.84\" width=\"8.8516\" height=\"8.8516\" fill-opacity=\".23529\"/>\n",
        "   <rect transform=\"scale(-1)\" x=\"-83.105\" y=\"-218.84\" width=\"8.8516\" height=\"8.8516\" fill-opacity=\".27451\"/>\n",
        "   <rect transform=\"scale(-1)\" x=\"-74.253\" y=\"-218.84\" width=\"8.8516\" height=\"8.8516\" fill-opacity=\".31373\"/>\n",
        "   <rect transform=\"scale(-1)\" x=\"-65.402\" y=\"-218.84\" width=\"8.8516\" height=\"8.8516\" fill-opacity=\".35294\"/>\n",
        "   <rect transform=\"scale(-1)\" x=\"-56.55\" y=\"-218.84\" width=\"8.8516\" height=\"8.8516\" fill-opacity=\".39216\"/>\n",
        "   <rect transform=\"scale(-1)\" x=\"-47.698\" y=\"-218.84\" width=\"8.8516\" height=\"8.8516\" fill-opacity=\".39216\"/>\n",
        "  </g>\n",
        "  <path d=\"m88.333 198.32v8.5526\" fill=\"none\" marker-end=\"url(#a)\" stroke=\"#000\" stroke-opacity=\".55072\" stroke-width=\".465\"/>\n",
        " </g>\n",
        "</svg>\n",
        "'''\n",
        "str_ex_7 = '''\n",
        "<svg width=\"98.169mm\" height=\"39.459mm\" version=\"1.1\" viewBox=\"0 0 98.169 39.459\" xmlns=\"http://www.w3.org/2000/svg\">\n",
        " <defs>\n",
        "  <marker id=\"a\" overflow=\"visible\" orient=\"auto\">\n",
        "   <path transform=\"matrix(-.4 0 0 -.4 -4 0)\" d=\"m0 0 5-5-17.5 5 17.5 5z\" fill-opacity=\".55072\" fill-rule=\"evenodd\" stroke=\"#000\" stroke-opacity=\".55072\" stroke-width=\"1pt\"/>\n",
        "  </marker>\n",
        " </defs>\n",
        " <g transform=\"translate(-39.65 -236.32)\">\n",
        "  <g stroke=\"#0059d0\" stroke-linecap=\"square\" stroke-miterlimit=\"10.433\" stroke-opacity=\".12941\" stroke-width=\".669\">\n",
        "   <rect x=\"40.116\" y=\"243.59\" width=\"8.8516\" height=\"8.8516\" fill-opacity=\"0\"/>\n",
        "   <rect x=\"48.968\" y=\"243.59\" width=\"8.8516\" height=\"8.8516\" fill=\"#0054ff\" fill-opacity=\".078431\"/>\n",
        "   <rect x=\"57.82\" y=\"243.59\" width=\"8.8516\" height=\"8.8516\" fill-opacity=\"0\"/>\n",
        "   <rect x=\"66.671\" y=\"243.59\" width=\"8.8516\" height=\"8.8516\" fill=\"#0054ff\" fill-opacity=\".15686\"/>\n",
        "   <rect x=\"75.523\" y=\"243.59\" width=\"8.8516\" height=\"8.8516\" fill-opacity=\"0\"/>\n",
        "   <rect x=\"84.374\" y=\"243.59\" width=\"8.8516\" height=\"8.8516\" fill=\"#0054ff\" fill-opacity=\".23529\"/>\n",
        "   <rect x=\"93.226\" y=\"243.59\" width=\"8.8516\" height=\"8.8516\" fill-opacity=\"0\"/>\n",
        "   <rect x=\"102.08\" y=\"243.59\" width=\"8.8516\" height=\"8.8516\" fill=\"#0054ff\" fill-opacity=\".31373\"/>\n",
        "   <rect x=\"110.93\" y=\"243.59\" width=\"8.8516\" height=\"8.8516\" fill-opacity=\"0\"/>\n",
        "   <rect x=\"119.78\" y=\"243.59\" width=\"8.8516\" height=\"8.8516\" fill=\"#0054ff\" fill-opacity=\".39216\"/>\n",
        "  </g>\n",
        "  <g fill=\"#000000\" fill-opacity=\".47059\" font-family=\"'Courier New'\" font-size=\"5.9912px\" font-weight=\"bold\" letter-spacing=\"0px\" stroke-opacity=\".21739\" stroke-width=\".26458\" word-spacing=\"0px\">\n",
        "   <text x=\"42.806126\" y=\"240.33759\" style=\"font-feature-settings:normal;font-variant-caps:normal;font-variant-ligatures:normal;font-variant-numeric:normal;line-height:1.25\" xml:space=\"preserve\"><tspan x=\"42.806126\" y=\"240.33759\" fill=\"#000000\" fill-opacity=\".47059\" font-family=\"'Courier New'\" font-size=\"5.9912px\" font-weight=\"bold\" stroke-opacity=\".21739\" stroke-width=\".26458\" style=\"font-feature-settings:normal;font-variant-caps:normal;font-variant-ligatures:normal;font-variant-numeric:normal\">0</tspan></text>\n",
        "   <text x=\"52.018757\" y=\"240.33885\" style=\"font-feature-settings:normal;font-variant-caps:normal;font-variant-ligatures:normal;font-variant-numeric:normal;line-height:1.25\" xml:space=\"preserve\"><tspan x=\"52.018757\" y=\"240.33885\" fill=\"#000000\" fill-opacity=\".47059\" font-family=\"'Courier New'\" font-size=\"5.9912px\" font-weight=\"bold\" stroke-opacity=\".21739\" stroke-width=\".26458\" style=\"font-feature-settings:normal;font-variant-caps:normal;font-variant-ligatures:normal;font-variant-numeric:normal\">1</tspan></text>\n",
        "   <text x=\"60.688587\" y=\"240.36247\" style=\"font-feature-settings:normal;font-variant-caps:normal;font-variant-ligatures:normal;font-variant-numeric:normal;line-height:1.25\" xml:space=\"preserve\"><tspan x=\"60.688587\" y=\"240.36247\" fill=\"#000000\" fill-opacity=\".47059\" font-family=\"'Courier New'\" font-size=\"5.9912px\" font-weight=\"bold\" stroke-opacity=\".21739\" stroke-width=\".26458\" style=\"font-feature-settings:normal;font-variant-caps:normal;font-variant-ligatures:normal;font-variant-numeric:normal\">2</tspan></text>\n",
        "   <text x=\"69.528435\" y=\"240.24744\" style=\"font-feature-settings:normal;font-variant-caps:normal;font-variant-ligatures:normal;font-variant-numeric:normal;line-height:1.25\" xml:space=\"preserve\"><tspan x=\"69.528435\" y=\"240.24744\" fill=\"#000000\" fill-opacity=\".47059\" font-family=\"'Courier New'\" font-size=\"5.9912px\" font-weight=\"bold\" stroke-opacity=\".21739\" stroke-width=\".26458\" style=\"font-feature-settings:normal;font-variant-caps:normal;font-variant-ligatures:normal;font-variant-numeric:normal\">3</tspan></text>\n",
        "   <text x=\"78.181274\" y=\"240.36436\" style=\"font-feature-settings:normal;font-variant-caps:normal;font-variant-ligatures:normal;font-variant-numeric:normal;line-height:1.25\" xml:space=\"preserve\"><tspan x=\"78.181274\" y=\"240.36436\" fill=\"#000000\" fill-opacity=\".47059\" font-family=\"'Courier New'\" font-size=\"5.9912px\" font-weight=\"bold\" stroke-opacity=\".21739\" stroke-width=\".26458\" style=\"font-feature-settings:normal;font-variant-caps:normal;font-variant-ligatures:normal;font-variant-numeric:normal\">4</tspan></text>\n",
        "   <text x=\"87.095215\" y=\"240.28398\" style=\"font-feature-settings:normal;font-variant-caps:normal;font-variant-ligatures:normal;font-variant-numeric:normal;line-height:1.25\" xml:space=\"preserve\"><tspan x=\"87.095215\" y=\"240.28398\" fill=\"#000000\" fill-opacity=\".47059\" font-family=\"'Courier New'\" font-size=\"5.9912px\" font-weight=\"bold\" stroke-opacity=\".21739\" stroke-width=\".26458\" style=\"font-feature-settings:normal;font-variant-caps:normal;font-variant-ligatures:normal;font-variant-numeric:normal\">5</tspan></text>\n",
        "   <text x=\"95.769524\" y=\"240.26797\" style=\"font-feature-settings:normal;font-variant-caps:normal;font-variant-ligatures:normal;font-variant-numeric:normal;line-height:1.25\" xml:space=\"preserve\"><tspan x=\"95.769524\" y=\"240.26797\" fill=\"#000000\" fill-opacity=\".47059\" font-family=\"'Courier New'\" font-size=\"5.9912px\" font-weight=\"bold\" stroke-opacity=\".21739\" stroke-width=\".26458\" style=\"font-feature-settings:normal;font-variant-caps:normal;font-variant-ligatures:normal;font-variant-numeric:normal\">6</tspan></text>\n",
        "   <text x=\"104.94163\" y=\"240.24744\" style=\"font-feature-settings:normal;font-variant-caps:normal;font-variant-ligatures:normal;font-variant-numeric:normal;line-height:1.25\" xml:space=\"preserve\"><tspan x=\"104.94163\" y=\"240.24744\" fill=\"#000000\" fill-opacity=\".47059\" font-family=\"'Courier New'\" font-size=\"5.9912px\" font-weight=\"bold\" stroke-opacity=\".21739\" stroke-width=\".26458\" style=\"font-feature-settings:normal;font-variant-caps:normal;font-variant-ligatures:normal;font-variant-numeric:normal\">7</tspan></text>\n",
        "   <text x=\"113.69472\" y=\"240.29756\" style=\"font-feature-settings:normal;font-variant-caps:normal;font-variant-ligatures:normal;font-variant-numeric:normal;line-height:1.25\" xml:space=\"preserve\"><tspan x=\"113.69472\" y=\"240.29756\" fill=\"#000000\" fill-opacity=\".47059\" font-family=\"'Courier New'\" font-size=\"5.9912px\" font-weight=\"bold\" stroke-opacity=\".21739\" stroke-width=\".26458\" style=\"font-feature-settings:normal;font-variant-caps:normal;font-variant-ligatures:normal;font-variant-numeric:normal\">8</tspan></text>\n",
        "   <text x=\"123.09929\" y=\"240.19733\" style=\"font-feature-settings:normal;font-variant-caps:normal;font-variant-ligatures:normal;font-variant-numeric:normal;line-height:1.25\" xml:space=\"preserve\"><tspan x=\"123.09929\" y=\"240.19733\" fill=\"#000000\" fill-opacity=\".47059\" font-family=\"'Courier New'\" font-size=\"5.9912px\" font-weight=\"bold\" stroke-opacity=\".21739\" stroke-width=\".26458\" style=\"font-feature-settings:normal;font-variant-caps:normal;font-variant-ligatures:normal;font-variant-numeric:normal\">9</tspan></text>\n",
        "   <text x=\"130.39909\" y=\"240.28085\" style=\"font-feature-settings:normal;font-variant-caps:normal;font-variant-ligatures:normal;font-variant-numeric:normal;line-height:1.25\" xml:space=\"preserve\"><tspan x=\"130.39909\" y=\"240.28085\" fill=\"#000000\" fill-opacity=\".47059\" font-family=\"'Courier New'\" font-size=\"5.9912px\" font-weight=\"bold\" stroke-opacity=\".21739\" stroke-width=\".26458\" style=\"font-feature-settings:normal;font-variant-caps:normal;font-variant-ligatures:normal;font-variant-numeric:normal\">10</tspan></text>\n",
        "  </g>\n",
        "  <rect x=\"128.63\" y=\"243.59\" width=\"8.8516\" height=\"8.8516\" fill-opacity=\"0\" stroke=\"#0059d0\" stroke-linecap=\"square\" stroke-miterlimit=\"10.433\" stroke-opacity=\".12941\" stroke-width=\".669\"/>\n",
        "  <path d=\"m91.339 254.97v8.5526\" fill=\"none\" marker-end=\"url(#a)\" stroke=\"#000\" stroke-opacity=\".55072\" stroke-width=\".465\"/>\n",
        "  <g fill=\"#0054ff\" stroke=\"#0059d0\" stroke-linecap=\"square\" stroke-miterlimit=\"10.433\" stroke-opacity=\".12941\" stroke-width=\".669\">\n",
        "   <rect transform=\"scale(-1,1)\" x=\"-75.391\" y=\"266.59\" width=\"8.8516\" height=\"8.8516\" fill-opacity=\".15686\"/>\n",
        "   <rect transform=\"scale(-1,1)\" x=\"-66.539\" y=\"266.59\" width=\"8.8516\" height=\"8.8516\" fill-opacity=\".23529\"/>\n",
        "   <rect transform=\"scale(-1,1)\" x=\"-57.688\" y=\"266.59\" width=\"8.8516\" height=\"8.8516\" fill-opacity=\".31373\"/>\n",
        "   <rect transform=\"scale(-1,1)\" x=\"-48.836\" y=\"266.59\" width=\"8.8516\" height=\"8.8516\" fill-opacity=\".39216\"/>\n",
        "  </g>\n",
        " </g>\n",
        "</svg>\n",
        "'''\n",
        "\n",
        "draw_tbl([['code', 'result'],\n",
        "          ['x[:5]', str_ex_1],\n",
        "          ['x[5:]', str_ex_2],\n",
        "          ['x[4:7]', str_ex_3],\n",
        "          ['x[::2]', str_ex_4],\n",
        "          ['x[1::2]', str_ex_5],\n",
        "          ['x[::-1]', str_ex_6],\n",
        "          ['x[9::-2]', str_ex_7]])"
      ],
      "execution_count": 0,
      "outputs": [
        {
          "output_type": "display_data",
          "data": {
            "text/html": [
              "\n",
              "<style>\n",
              ".bigtable {\n",
              "  border-collapse: collapse;\n",
              "}\n",
              "\n",
              ".bigtd {\n",
              "  border: 3px solid #f900003f;\n",
              "  min-width:30px;\n",
              "  height: 30px;\n",
              "  position: relative; \n",
              "  text-align:center; \n",
              "  color: #474747;\n",
              "  font-size:20px;\n",
              "  font-weight: bolder;\n",
              "  padding: 19px;\n",
              "}\n",
              "\n",
              "</style>\n",
              "<table class=\"bigtable\">\n",
              "<tr>\n",
              "\t<td class=\"bigtd\">code</td><td class=\"bigtd\">result</td>\n",
              "</tr>\n",
              "<tr>\n",
              "\t<td class=\"bigtd\">x[:5]</td><td class=\"bigtd\">\n",
              "<svg width=\"98.037mm\" height=\"16.462mm\" version=\"1.1\" viewBox=\"0 0 98.037 16.462\" xmlns=\"http://www.w3.org/2000/svg\">\n",
              " <g transform=\"translate(-36.14 -9.4543)\">\n",
              "  <g fill=\"#0054ff\" fill-opacity=\".15942\" stroke=\"#0059d0\" stroke-linecap=\"square\" stroke-miterlimit=\"10.433\" stroke-opacity=\".12941\" stroke-width=\".669\">\n",
              "   <rect x=\"36.475\" y=\"16.731\" width=\"8.8516\" height=\"8.8516\"/>\n",
              "   <rect x=\"45.326\" y=\"16.731\" width=\"8.8516\" height=\"8.8516\"/>\n",
              "   <rect x=\"54.178\" y=\"16.731\" width=\"8.8516\" height=\"8.8516\"/>\n",
              "   <rect x=\"63.03\" y=\"16.731\" width=\"8.8516\" height=\"8.8516\"/>\n",
              "   <rect x=\"71.881\" y=\"16.731\" width=\"8.8516\" height=\"8.8516\"/>\n",
              "  </g>\n",
              "  <g fill-opacity=\"0\" stroke=\"#0059d0\" stroke-linecap=\"square\" stroke-miterlimit=\"10.433\" stroke-opacity=\".12941\" stroke-width=\".669\">\n",
              "   <rect x=\"80.733\" y=\"16.731\" width=\"8.8516\" height=\"8.8516\"/>\n",
              "   <rect x=\"89.585\" y=\"16.731\" width=\"8.8516\" height=\"8.8516\"/>\n",
              "   <rect x=\"98.436\" y=\"16.731\" width=\"8.8516\" height=\"8.8516\"/>\n",
              "   <rect x=\"107.29\" y=\"16.731\" width=\"8.8516\" height=\"8.8516\"/>\n",
              "   <rect x=\"116.14\" y=\"16.731\" width=\"8.8516\" height=\"8.8516\"/>\n",
              "  </g>\n",
              "  <g fill=\"#000000\" fill-opacity=\".47059\" font-family=\"'Courier New'\" font-size=\"5.9912px\" font-weight=\"bold\" letter-spacing=\"0px\" stroke-opacity=\".21739\" stroke-width=\".26458\" word-spacing=\"0px\">\n",
              "   <text x=\"39.164585\" y=\"13.476597\" style=\"font-feature-settings:normal;font-variant-caps:normal;font-variant-ligatures:normal;font-variant-numeric:normal;line-height:1.25\" xml:space=\"preserve\"><tspan x=\"39.164585\" y=\"13.476597\" fill=\"#000000\" fill-opacity=\".47059\" font-family=\"'Courier New'\" font-size=\"5.9912px\" font-weight=\"bold\" stroke-opacity=\".21739\" stroke-width=\".26458\" style=\"font-feature-settings:normal;font-variant-caps:normal;font-variant-ligatures:normal;font-variant-numeric:normal\">0</tspan></text>\n",
              "   <text x=\"48.377216\" y=\"13.477852\" style=\"font-feature-settings:normal;font-variant-caps:normal;font-variant-ligatures:normal;font-variant-numeric:normal;line-height:1.25\" xml:space=\"preserve\"><tspan x=\"48.377216\" y=\"13.477852\" fill=\"#000000\" fill-opacity=\".47059\" font-family=\"'Courier New'\" font-size=\"5.9912px\" font-weight=\"bold\" stroke-opacity=\".21739\" stroke-width=\".26458\" style=\"font-feature-settings:normal;font-variant-caps:normal;font-variant-ligatures:normal;font-variant-numeric:normal\">1</tspan></text>\n",
              "   <text x=\"57.047047\" y=\"13.501475\" style=\"font-feature-settings:normal;font-variant-caps:normal;font-variant-ligatures:normal;font-variant-numeric:normal;line-height:1.25\" xml:space=\"preserve\"><tspan x=\"57.047047\" y=\"13.501475\" fill=\"#000000\" fill-opacity=\".47059\" font-family=\"'Courier New'\" font-size=\"5.9912px\" font-weight=\"bold\" stroke-opacity=\".21739\" stroke-width=\".26458\" style=\"font-feature-settings:normal;font-variant-caps:normal;font-variant-ligatures:normal;font-variant-numeric:normal\">2</tspan></text>\n",
              "   <text x=\"65.886887\" y=\"13.38645\" style=\"font-feature-settings:normal;font-variant-caps:normal;font-variant-ligatures:normal;font-variant-numeric:normal;line-height:1.25\" xml:space=\"preserve\"><tspan x=\"65.886887\" y=\"13.38645\" fill=\"#000000\" fill-opacity=\".47059\" font-family=\"'Courier New'\" font-size=\"5.9912px\" font-weight=\"bold\" stroke-opacity=\".21739\" stroke-width=\".26458\" style=\"font-feature-settings:normal;font-variant-caps:normal;font-variant-ligatures:normal;font-variant-numeric:normal\">3</tspan></text>\n",
              "   <text x=\"74.539742\" y=\"13.503381\" style=\"font-feature-settings:normal;font-variant-caps:normal;font-variant-ligatures:normal;font-variant-numeric:normal;line-height:1.25\" xml:space=\"preserve\"><tspan x=\"74.539742\" y=\"13.503381\" fill=\"#000000\" fill-opacity=\".47059\" font-family=\"'Courier New'\" font-size=\"5.9912px\" font-weight=\"bold\" stroke-opacity=\".21739\" stroke-width=\".26458\" style=\"font-feature-settings:normal;font-variant-caps:normal;font-variant-ligatures:normal;font-variant-numeric:normal\">4</tspan></text>\n",
              "   <text x=\"83.453674\" y=\"13.42299\" style=\"font-feature-settings:normal;font-variant-caps:normal;font-variant-ligatures:normal;font-variant-numeric:normal;line-height:1.25\" xml:space=\"preserve\"><tspan x=\"83.453674\" y=\"13.42299\" fill=\"#000000\" fill-opacity=\".47059\" font-family=\"'Courier New'\" font-size=\"5.9912px\" font-weight=\"bold\" stroke-opacity=\".21739\" stroke-width=\".26458\" style=\"font-feature-settings:normal;font-variant-caps:normal;font-variant-ligatures:normal;font-variant-numeric:normal\">5</tspan></text>\n",
              "   <text x=\"92.127968\" y=\"13.406981\" style=\"font-feature-settings:normal;font-variant-caps:normal;font-variant-ligatures:normal;font-variant-numeric:normal;line-height:1.25\" xml:space=\"preserve\"><tspan x=\"92.127968\" y=\"13.406981\" fill=\"#000000\" fill-opacity=\".47059\" font-family=\"'Courier New'\" font-size=\"5.9912px\" font-weight=\"bold\" stroke-opacity=\".21739\" stroke-width=\".26458\" style=\"font-feature-settings:normal;font-variant-caps:normal;font-variant-ligatures:normal;font-variant-numeric:normal\">6</tspan></text>\n",
              "   <text x=\"101.3001\" y=\"13.386451\" style=\"font-feature-settings:normal;font-variant-caps:normal;font-variant-ligatures:normal;font-variant-numeric:normal;line-height:1.25\" xml:space=\"preserve\"><tspan x=\"101.3001\" y=\"13.386451\" fill=\"#000000\" fill-opacity=\".47059\" font-family=\"'Courier New'\" font-size=\"5.9912px\" font-weight=\"bold\" stroke-opacity=\".21739\" stroke-width=\".26458\" style=\"font-feature-settings:normal;font-variant-caps:normal;font-variant-ligatures:normal;font-variant-numeric:normal\">7</tspan></text>\n",
              "   <text x=\"110.05318\" y=\"13.436563\" style=\"font-feature-settings:normal;font-variant-caps:normal;font-variant-ligatures:normal;font-variant-numeric:normal;line-height:1.25\" xml:space=\"preserve\"><tspan x=\"110.05318\" y=\"13.436563\" fill=\"#000000\" fill-opacity=\".47059\" font-family=\"'Courier New'\" font-size=\"5.9912px\" font-weight=\"bold\" stroke-opacity=\".21739\" stroke-width=\".26458\" style=\"font-feature-settings:normal;font-variant-caps:normal;font-variant-ligatures:normal;font-variant-numeric:normal\">8</tspan></text>\n",
              "   <text x=\"119.45772\" y=\"13.336337\" style=\"font-feature-settings:normal;font-variant-caps:normal;font-variant-ligatures:normal;font-variant-numeric:normal;line-height:1.25\" xml:space=\"preserve\"><tspan x=\"119.45772\" y=\"13.336337\" fill=\"#000000\" fill-opacity=\".47059\" font-family=\"'Courier New'\" font-size=\"5.9912px\" font-weight=\"bold\" stroke-opacity=\".21739\" stroke-width=\".26458\" style=\"font-feature-settings:normal;font-variant-caps:normal;font-variant-ligatures:normal;font-variant-numeric:normal\">9</tspan></text>\n",
              "   <text x=\"126.75752\" y=\"13.419859\" style=\"font-feature-settings:normal;font-variant-caps:normal;font-variant-ligatures:normal;font-variant-numeric:normal;line-height:1.25\" xml:space=\"preserve\"><tspan x=\"126.75752\" y=\"13.419859\" fill=\"#000000\" fill-opacity=\".47059\" font-family=\"'Courier New'\" font-size=\"5.9912px\" font-weight=\"bold\" stroke-opacity=\".21739\" stroke-width=\".26458\" style=\"font-feature-settings:normal;font-variant-caps:normal;font-variant-ligatures:normal;font-variant-numeric:normal\">10</tspan></text>\n",
              "  </g>\n",
              "  <rect x=\"124.99\" y=\"16.731\" width=\"8.8516\" height=\"8.8516\" fill-opacity=\"0\" stroke=\"#0059d0\" stroke-linecap=\"square\" stroke-miterlimit=\"10.433\" stroke-opacity=\".12941\" stroke-width=\".669\"/>\n",
              " </g>\n",
              "</svg>\n",
              "</td>\n",
              "</tr>\n",
              "<tr>\n",
              "\t<td class=\"bigtd\">x[5:]</td><td class=\"bigtd\">\n",
              "<svg width=\"107.52mm\" height=\"16.462mm\" version=\"1.1\" viewBox=\"0 0 107.52 16.462\" xmlns=\"http://www.w3.org/2000/svg\">\n",
              " <g transform=\"translate(-35.908 -40.475)\">\n",
              "  <g fill=\"#0054ff\" stroke=\"#0059d0\" stroke-linecap=\"square\" stroke-miterlimit=\"10.433\" stroke-opacity=\".12941\" stroke-width=\".669\">\n",
              "   <g fill-opacity=\".0048309\">\n",
              "    <rect x=\"36.853\" y=\"47.752\" width=\"8.8516\" height=\"8.8516\"/>\n",
              "    <rect x=\"45.705\" y=\"47.752\" width=\"8.8516\" height=\"8.8516\"/>\n",
              "    <rect x=\"54.556\" y=\"47.752\" width=\"8.8516\" height=\"8.8516\"/>\n",
              "    <rect x=\"63.408\" y=\"47.752\" width=\"8.8516\" height=\"8.8516\"/>\n",
              "    <rect x=\"72.26\" y=\"47.752\" width=\"8.8516\" height=\"8.8516\"/>\n",
              "   </g>\n",
              "   <g fill-opacity=\".16078\">\n",
              "    <rect x=\"81.111\" y=\"47.752\" width=\"8.8516\" height=\"8.8516\"/>\n",
              "    <rect x=\"89.963\" y=\"47.752\" width=\"8.8516\" height=\"8.8516\"/>\n",
              "    <rect x=\"98.814\" y=\"47.752\" width=\"8.8516\" height=\"8.8516\"/>\n",
              "    <rect x=\"107.67\" y=\"47.752\" width=\"8.8516\" height=\"8.8516\"/>\n",
              "    <rect x=\"116.52\" y=\"47.752\" width=\"8.8516\" height=\"8.8516\"/>\n",
              "   </g>\n",
              "  </g>\n",
              "  <text x=\"39.542854\" y=\"44.497643\" fill=\"#000000\" fill-opacity=\".47059\" font-family=\"'Courier New'\" font-size=\"5.9912px\" font-weight=\"bold\" letter-spacing=\"0px\" stroke-opacity=\".21739\" stroke-width=\".26458\" word-spacing=\"0px\" style=\"font-feature-settings:normal;font-variant-caps:normal;font-variant-ligatures:normal;font-variant-numeric:normal;line-height:1.25\" xml:space=\"preserve\"><tspan x=\"39.542854\" y=\"44.497643\" fill=\"#000000\" fill-opacity=\".47059\" font-family=\"'Courier New'\" font-size=\"5.9912px\" font-weight=\"bold\" stroke-opacity=\".21739\" stroke-width=\".26458\" style=\"font-feature-settings:normal;font-variant-caps:normal;font-variant-ligatures:normal;font-variant-numeric:normal\">0</tspan></text>\n",
              "  <path d=\"m35.908 44.822h107.52\" fill-opacity=\".37681\"/>\n",
              "  <g fill=\"#000000\" fill-opacity=\".47059\" font-family=\"'Courier New'\" font-size=\"5.9912px\" font-weight=\"bold\" letter-spacing=\"0px\" stroke-opacity=\".21739\" stroke-width=\".26458\" word-spacing=\"0px\">\n",
              "   <text x=\"48.755486\" y=\"44.498898\" style=\"font-feature-settings:normal;font-variant-caps:normal;font-variant-ligatures:normal;font-variant-numeric:normal;line-height:1.25\" xml:space=\"preserve\"><tspan x=\"48.755486\" y=\"44.498898\" fill=\"#000000\" fill-opacity=\".47059\" font-family=\"'Courier New'\" font-size=\"5.9912px\" font-weight=\"bold\" stroke-opacity=\".21739\" stroke-width=\".26458\" style=\"font-feature-settings:normal;font-variant-caps:normal;font-variant-ligatures:normal;font-variant-numeric:normal\">1</tspan></text>\n",
              "   <text x=\"57.425316\" y=\"44.522522\" style=\"font-feature-settings:normal;font-variant-caps:normal;font-variant-ligatures:normal;font-variant-numeric:normal;line-height:1.25\" xml:space=\"preserve\"><tspan x=\"57.425316\" y=\"44.522522\" fill=\"#000000\" fill-opacity=\".47059\" font-family=\"'Courier New'\" font-size=\"5.9912px\" font-weight=\"bold\" stroke-opacity=\".21739\" stroke-width=\".26458\" style=\"font-feature-settings:normal;font-variant-caps:normal;font-variant-ligatures:normal;font-variant-numeric:normal\">2</tspan></text>\n",
              "   <text x=\"66.265152\" y=\"44.407494\" style=\"font-feature-settings:normal;font-variant-caps:normal;font-variant-ligatures:normal;font-variant-numeric:normal;line-height:1.25\" xml:space=\"preserve\"><tspan x=\"66.265152\" y=\"44.407494\" fill=\"#000000\" fill-opacity=\".47059\" font-family=\"'Courier New'\" font-size=\"5.9912px\" font-weight=\"bold\" stroke-opacity=\".21739\" stroke-width=\".26458\" style=\"font-feature-settings:normal;font-variant-caps:normal;font-variant-ligatures:normal;font-variant-numeric:normal\">3</tspan></text>\n",
              "   <text x=\"74.918007\" y=\"44.524426\" style=\"font-feature-settings:normal;font-variant-caps:normal;font-variant-ligatures:normal;font-variant-numeric:normal;line-height:1.25\" xml:space=\"preserve\"><tspan x=\"74.918007\" y=\"44.524426\" fill=\"#000000\" fill-opacity=\".47059\" font-family=\"'Courier New'\" font-size=\"5.9912px\" font-weight=\"bold\" stroke-opacity=\".21739\" stroke-width=\".26458\" style=\"font-feature-settings:normal;font-variant-caps:normal;font-variant-ligatures:normal;font-variant-numeric:normal\">4</tspan></text>\n",
              "   <text x=\"83.83194\" y=\"44.444035\" style=\"font-feature-settings:normal;font-variant-caps:normal;font-variant-ligatures:normal;font-variant-numeric:normal;line-height:1.25\" xml:space=\"preserve\"><tspan x=\"83.83194\" y=\"44.444035\" fill=\"#000000\" fill-opacity=\".47059\" font-family=\"'Courier New'\" font-size=\"5.9912px\" font-weight=\"bold\" stroke-opacity=\".21739\" stroke-width=\".26458\" style=\"font-feature-settings:normal;font-variant-caps:normal;font-variant-ligatures:normal;font-variant-numeric:normal\">5</tspan></text>\n",
              "   <text x=\"92.506233\" y=\"44.428028\" style=\"font-feature-settings:normal;font-variant-caps:normal;font-variant-ligatures:normal;font-variant-numeric:normal;line-height:1.25\" xml:space=\"preserve\"><tspan x=\"92.506233\" y=\"44.428028\" fill=\"#000000\" fill-opacity=\".47059\" font-family=\"'Courier New'\" font-size=\"5.9912px\" font-weight=\"bold\" stroke-opacity=\".21739\" stroke-width=\".26458\" style=\"font-feature-settings:normal;font-variant-caps:normal;font-variant-ligatures:normal;font-variant-numeric:normal\">6</tspan></text>\n",
              "   <text x=\"101.67836\" y=\"44.407494\" style=\"font-feature-settings:normal;font-variant-caps:normal;font-variant-ligatures:normal;font-variant-numeric:normal;line-height:1.25\" xml:space=\"preserve\"><tspan x=\"101.67836\" y=\"44.407494\" fill=\"#000000\" fill-opacity=\".47059\" font-family=\"'Courier New'\" font-size=\"5.9912px\" font-weight=\"bold\" stroke-opacity=\".21739\" stroke-width=\".26458\" style=\"font-feature-settings:normal;font-variant-caps:normal;font-variant-ligatures:normal;font-variant-numeric:normal\">7</tspan></text>\n",
              "   <text x=\"110.43144\" y=\"44.457607\" style=\"font-feature-settings:normal;font-variant-caps:normal;font-variant-ligatures:normal;font-variant-numeric:normal;line-height:1.25\" xml:space=\"preserve\"><tspan x=\"110.43144\" y=\"44.457607\" fill=\"#000000\" fill-opacity=\".47059\" font-family=\"'Courier New'\" font-size=\"5.9912px\" font-weight=\"bold\" stroke-opacity=\".21739\" stroke-width=\".26458\" style=\"font-feature-settings:normal;font-variant-caps:normal;font-variant-ligatures:normal;font-variant-numeric:normal\">8</tspan></text>\n",
              "   <text x=\"119.83599\" y=\"44.357384\" style=\"font-feature-settings:normal;font-variant-caps:normal;font-variant-ligatures:normal;font-variant-numeric:normal;line-height:1.25\" xml:space=\"preserve\"><tspan x=\"119.83599\" y=\"44.357384\" fill=\"#000000\" fill-opacity=\".47059\" font-family=\"'Courier New'\" font-size=\"5.9912px\" font-weight=\"bold\" stroke-opacity=\".21739\" stroke-width=\".26458\" style=\"font-feature-settings:normal;font-variant-caps:normal;font-variant-ligatures:normal;font-variant-numeric:normal\">9</tspan></text>\n",
              "   <text x=\"127.1358\" y=\"44.440903\" style=\"font-feature-settings:normal;font-variant-caps:normal;font-variant-ligatures:normal;font-variant-numeric:normal;line-height:1.25\" xml:space=\"preserve\"><tspan x=\"127.1358\" y=\"44.440903\" fill=\"#000000\" fill-opacity=\".47059\" font-family=\"'Courier New'\" font-size=\"5.9912px\" font-weight=\"bold\" stroke-opacity=\".21739\" stroke-width=\".26458\" style=\"font-feature-settings:normal;font-variant-caps:normal;font-variant-ligatures:normal;font-variant-numeric:normal\">10</tspan></text>\n",
              "  </g>\n",
              "  <rect x=\"125.37\" y=\"47.752\" width=\"8.8516\" height=\"8.8516\" fill=\"#0054ff\" fill-opacity=\".16078\" stroke=\"#0059d0\" stroke-linecap=\"square\" stroke-miterlimit=\"10.433\" stroke-opacity=\".12941\" stroke-width=\".669\"/>\n",
              " </g>\n",
              "</svg>\n",
              "</td>\n",
              "</tr>\n",
              "<tr>\n",
              "\t<td class=\"bigtd\">x[4:7]</td><td class=\"bigtd\">\n",
              "<svg width=\"107.52mm\" height=\"16.462mm\" version=\"1.1\" viewBox=\"0 0 107.52 16.462\" xmlns=\"http://www.w3.org/2000/svg\">\n",
              " <g transform=\"translate(-36.309 -73.617)\">\n",
              "  <g fill=\"#0054ff\" stroke=\"#0059d0\" stroke-linecap=\"square\" stroke-miterlimit=\"10.433\" stroke-opacity=\".12941\" stroke-width=\".669\">\n",
              "   <g fill-opacity=\".0048309\">\n",
              "    <rect x=\"37.254\" y=\"80.893\" width=\"8.8516\" height=\"8.8516\"/>\n",
              "    <rect x=\"46.106\" y=\"80.893\" width=\"8.8516\" height=\"8.8516\"/>\n",
              "    <rect x=\"54.957\" y=\"80.893\" width=\"8.8516\" height=\"8.8516\"/>\n",
              "    <rect x=\"63.809\" y=\"80.893\" width=\"8.8516\" height=\"8.8516\"/>\n",
              "   </g>\n",
              "   <g fill-opacity=\".16078\">\n",
              "    <rect x=\"72.66\" y=\"80.893\" width=\"8.8516\" height=\"8.8516\"/>\n",
              "    <rect x=\"81.512\" y=\"80.893\" width=\"8.8516\" height=\"8.8516\"/>\n",
              "    <rect x=\"90.364\" y=\"80.893\" width=\"8.8516\" height=\"8.8516\"/>\n",
              "    <rect x=\"99.215\" y=\"80.893\" width=\"8.8516\" height=\"8.8516\"/>\n",
              "   </g>\n",
              "  </g>\n",
              "  <rect x=\"108.07\" y=\"80.893\" width=\"8.8516\" height=\"8.8516\" fill-opacity=\"0\" stroke=\"#0059d0\" stroke-linecap=\"square\" stroke-miterlimit=\"10.433\" stroke-opacity=\".12941\" stroke-width=\".669\"/>\n",
              "  <rect x=\"116.92\" y=\"80.893\" width=\"8.8516\" height=\"8.8516\" fill-opacity=\"0\" stroke=\"#0059d0\" stroke-linecap=\"square\" stroke-miterlimit=\"10.433\" stroke-opacity=\".12941\" stroke-width=\".669\"/>\n",
              "  <text x=\"39.943764\" y=\"77.639061\" fill=\"#000000\" fill-opacity=\".47059\" font-family=\"'Courier New'\" font-size=\"5.9912px\" font-weight=\"bold\" letter-spacing=\"0px\" stroke-opacity=\".21739\" stroke-width=\".26458\" word-spacing=\"0px\" style=\"font-feature-settings:normal;font-variant-caps:normal;font-variant-ligatures:normal;font-variant-numeric:normal;line-height:1.25\" xml:space=\"preserve\"><tspan x=\"39.943764\" y=\"77.639061\" fill=\"#000000\" fill-opacity=\".47059\" font-family=\"'Courier New'\" font-size=\"5.9912px\" font-weight=\"bold\" stroke-opacity=\".21739\" stroke-width=\".26458\" style=\"font-feature-settings:normal;font-variant-caps:normal;font-variant-ligatures:normal;font-variant-numeric:normal\">0</tspan></text>\n",
              "  <path d=\"m36.309 77.964h107.52\" fill-opacity=\".37681\"/>\n",
              "  <g fill=\"#000000\" fill-opacity=\".47059\" font-family=\"'Courier New'\" font-size=\"5.9912px\" font-weight=\"bold\" letter-spacing=\"0px\" stroke-opacity=\".21739\" stroke-width=\".26458\" word-spacing=\"0px\">\n",
              "   <text x=\"49.156395\" y=\"77.64032\" style=\"font-feature-settings:normal;font-variant-caps:normal;font-variant-ligatures:normal;font-variant-numeric:normal;line-height:1.25\" xml:space=\"preserve\"><tspan x=\"49.156395\" y=\"77.64032\" fill=\"#000000\" fill-opacity=\".47059\" font-family=\"'Courier New'\" font-size=\"5.9912px\" font-weight=\"bold\" stroke-opacity=\".21739\" stroke-width=\".26458\" style=\"font-feature-settings:normal;font-variant-caps:normal;font-variant-ligatures:normal;font-variant-numeric:normal\">1</tspan></text>\n",
              "   <text x=\"57.826225\" y=\"77.66394\" style=\"font-feature-settings:normal;font-variant-caps:normal;font-variant-ligatures:normal;font-variant-numeric:normal;line-height:1.25\" xml:space=\"preserve\"><tspan x=\"57.826225\" y=\"77.66394\" fill=\"#000000\" fill-opacity=\".47059\" font-family=\"'Courier New'\" font-size=\"5.9912px\" font-weight=\"bold\" stroke-opacity=\".21739\" stroke-width=\".26458\" style=\"font-feature-settings:normal;font-variant-caps:normal;font-variant-ligatures:normal;font-variant-numeric:normal\">2</tspan></text>\n",
              "   <text x=\"66.666061\" y=\"77.548912\" style=\"font-feature-settings:normal;font-variant-caps:normal;font-variant-ligatures:normal;font-variant-numeric:normal;line-height:1.25\" xml:space=\"preserve\"><tspan x=\"66.666061\" y=\"77.548912\" fill=\"#000000\" fill-opacity=\".47059\" font-family=\"'Courier New'\" font-size=\"5.9912px\" font-weight=\"bold\" stroke-opacity=\".21739\" stroke-width=\".26458\" style=\"font-feature-settings:normal;font-variant-caps:normal;font-variant-ligatures:normal;font-variant-numeric:normal\">3</tspan></text>\n",
              "   <text x=\"75.318916\" y=\"77.665848\" style=\"font-feature-settings:normal;font-variant-caps:normal;font-variant-ligatures:normal;font-variant-numeric:normal;line-height:1.25\" xml:space=\"preserve\"><tspan x=\"75.318916\" y=\"77.665848\" fill=\"#000000\" fill-opacity=\".47059\" font-family=\"'Courier New'\" font-size=\"5.9912px\" font-weight=\"bold\" stroke-opacity=\".21739\" stroke-width=\".26458\" style=\"font-feature-settings:normal;font-variant-caps:normal;font-variant-ligatures:normal;font-variant-numeric:normal\">4</tspan></text>\n",
              "   <text x=\"84.232849\" y=\"77.585457\" style=\"font-feature-settings:normal;font-variant-caps:normal;font-variant-ligatures:normal;font-variant-numeric:normal;line-height:1.25\" xml:space=\"preserve\"><tspan x=\"84.232849\" y=\"77.585457\" fill=\"#000000\" fill-opacity=\".47059\" font-family=\"'Courier New'\" font-size=\"5.9912px\" font-weight=\"bold\" stroke-opacity=\".21739\" stroke-width=\".26458\" style=\"font-feature-settings:normal;font-variant-caps:normal;font-variant-ligatures:normal;font-variant-numeric:normal\">5</tspan></text>\n",
              "   <text x=\"92.907143\" y=\"77.56945\" style=\"font-feature-settings:normal;font-variant-caps:normal;font-variant-ligatures:normal;font-variant-numeric:normal;line-height:1.25\" xml:space=\"preserve\"><tspan x=\"92.907143\" y=\"77.56945\" fill=\"#000000\" fill-opacity=\".47059\" font-family=\"'Courier New'\" font-size=\"5.9912px\" font-weight=\"bold\" stroke-opacity=\".21739\" stroke-width=\".26458\" style=\"font-feature-settings:normal;font-variant-caps:normal;font-variant-ligatures:normal;font-variant-numeric:normal\">6</tspan></text>\n",
              "   <text x=\"102.07927\" y=\"77.548912\" style=\"font-feature-settings:normal;font-variant-caps:normal;font-variant-ligatures:normal;font-variant-numeric:normal;line-height:1.25\" xml:space=\"preserve\"><tspan x=\"102.07927\" y=\"77.548912\" fill=\"#000000\" fill-opacity=\".47059\" font-family=\"'Courier New'\" font-size=\"5.9912px\" font-weight=\"bold\" stroke-opacity=\".21739\" stroke-width=\".26458\" style=\"font-feature-settings:normal;font-variant-caps:normal;font-variant-ligatures:normal;font-variant-numeric:normal\">7</tspan></text>\n",
              "   <text x=\"110.83235\" y=\"77.59903\" style=\"font-feature-settings:normal;font-variant-caps:normal;font-variant-ligatures:normal;font-variant-numeric:normal;line-height:1.25\" xml:space=\"preserve\"><tspan x=\"110.83235\" y=\"77.59903\" fill=\"#000000\" fill-opacity=\".47059\" font-family=\"'Courier New'\" font-size=\"5.9912px\" font-weight=\"bold\" stroke-opacity=\".21739\" stroke-width=\".26458\" style=\"font-feature-settings:normal;font-variant-caps:normal;font-variant-ligatures:normal;font-variant-numeric:normal\">8</tspan></text>\n",
              "   <text x=\"120.23691\" y=\"77.498802\" style=\"font-feature-settings:normal;font-variant-caps:normal;font-variant-ligatures:normal;font-variant-numeric:normal;line-height:1.25\" xml:space=\"preserve\"><tspan x=\"120.23691\" y=\"77.498802\" fill=\"#000000\" fill-opacity=\".47059\" font-family=\"'Courier New'\" font-size=\"5.9912px\" font-weight=\"bold\" stroke-opacity=\".21739\" stroke-width=\".26458\" style=\"font-feature-settings:normal;font-variant-caps:normal;font-variant-ligatures:normal;font-variant-numeric:normal\">9</tspan></text>\n",
              "   <text x=\"127.53672\" y=\"77.582321\" style=\"font-feature-settings:normal;font-variant-caps:normal;font-variant-ligatures:normal;font-variant-numeric:normal;line-height:1.25\" xml:space=\"preserve\"><tspan x=\"127.53672\" y=\"77.582321\" fill=\"#000000\" fill-opacity=\".47059\" font-family=\"'Courier New'\" font-size=\"5.9912px\" font-weight=\"bold\" stroke-opacity=\".21739\" stroke-width=\".26458\" style=\"font-feature-settings:normal;font-variant-caps:normal;font-variant-ligatures:normal;font-variant-numeric:normal\">10</tspan></text>\n",
              "  </g>\n",
              "  <rect x=\"125.77\" y=\"80.893\" width=\"8.8516\" height=\"8.8516\" fill-opacity=\"0\" stroke=\"#0059d0\" stroke-linecap=\"square\" stroke-miterlimit=\"10.433\" stroke-opacity=\".12941\" stroke-width=\".669\"/>\n",
              " </g>\n",
              "</svg>\n",
              "</td>\n",
              "</tr>\n",
              "<tr>\n",
              "\t<td class=\"bigtd\">x[::2]</td><td class=\"bigtd\">\n",
              "<svg width=\"98.037mm\" height=\"16.462mm\" version=\"1.1\" viewBox=\"0 0 98.037 16.462\" xmlns=\"http://www.w3.org/2000/svg\">\n",
              " <g transform=\"translate(-37.31 -110.77)\">\n",
              "  <g fill=\"#0054ff\" stroke=\"#0059d0\" stroke-linecap=\"square\" stroke-miterlimit=\"10.433\" stroke-opacity=\".12941\" stroke-width=\".669\">\n",
              "   <rect x=\"37.644\" y=\"118.04\" width=\"8.8516\" height=\"8.8516\" fill-opacity=\".16078\"/>\n",
              "   <rect x=\"46.496\" y=\"118.04\" width=\"8.8516\" height=\"8.8516\" fill-opacity=\".0048309\"/>\n",
              "   <rect x=\"55.347\" y=\"118.04\" width=\"8.8516\" height=\"8.8516\" fill-opacity=\".16078\"/>\n",
              "   <rect x=\"64.199\" y=\"118.04\" width=\"8.8516\" height=\"8.8516\" fill-opacity=\".0048309\"/>\n",
              "   <rect x=\"73.051\" y=\"118.04\" width=\"8.8516\" height=\"8.8516\" fill-opacity=\".16078\"/>\n",
              "  </g>\n",
              "  <g stroke=\"#0059d0\" stroke-linecap=\"square\" stroke-miterlimit=\"10.433\" stroke-opacity=\".12941\" stroke-width=\".669\">\n",
              "   <rect x=\"81.902\" y=\"118.04\" width=\"8.8516\" height=\"8.8516\" fill-opacity=\"0\"/>\n",
              "   <rect x=\"90.754\" y=\"118.04\" width=\"8.8516\" height=\"8.8516\" fill=\"#0054ff\" fill-opacity=\".16078\"/>\n",
              "   <rect x=\"99.606\" y=\"118.04\" width=\"8.8516\" height=\"8.8516\" fill-opacity=\"0\"/>\n",
              "   <rect x=\"108.46\" y=\"118.04\" width=\"8.8516\" height=\"8.8516\" fill=\"#0054ff\" fill-opacity=\".16078\"/>\n",
              "   <rect x=\"117.31\" y=\"118.04\" width=\"8.8516\" height=\"8.8516\" fill-opacity=\"0\"/>\n",
              "  </g>\n",
              "  <g fill=\"#000000\" fill-opacity=\".47059\" font-family=\"'Courier New'\" font-size=\"5.9912px\" font-weight=\"bold\" letter-spacing=\"0px\" stroke-opacity=\".21739\" stroke-width=\".26458\" word-spacing=\"0px\">\n",
              "   <text x=\"40.333889\" y=\"114.78953\" style=\"font-feature-settings:normal;font-variant-caps:normal;font-variant-ligatures:normal;font-variant-numeric:normal;line-height:1.25\" xml:space=\"preserve\"><tspan x=\"40.333889\" y=\"114.78953\" fill=\"#000000\" fill-opacity=\".47059\" font-family=\"'Courier New'\" font-size=\"5.9912px\" font-weight=\"bold\" stroke-opacity=\".21739\" stroke-width=\".26458\" style=\"font-feature-settings:normal;font-variant-caps:normal;font-variant-ligatures:normal;font-variant-numeric:normal\">0</tspan></text>\n",
              "   <text x=\"49.54652\" y=\"114.79079\" style=\"font-feature-settings:normal;font-variant-caps:normal;font-variant-ligatures:normal;font-variant-numeric:normal;line-height:1.25\" xml:space=\"preserve\"><tspan x=\"49.54652\" y=\"114.79079\" fill=\"#000000\" fill-opacity=\".47059\" font-family=\"'Courier New'\" font-size=\"5.9912px\" font-weight=\"bold\" stroke-opacity=\".21739\" stroke-width=\".26458\" style=\"font-feature-settings:normal;font-variant-caps:normal;font-variant-ligatures:normal;font-variant-numeric:normal\">1</tspan></text>\n",
              "   <text x=\"58.216351\" y=\"114.81441\" style=\"font-feature-settings:normal;font-variant-caps:normal;font-variant-ligatures:normal;font-variant-numeric:normal;line-height:1.25\" xml:space=\"preserve\"><tspan x=\"58.216351\" y=\"114.81441\" fill=\"#000000\" fill-opacity=\".47059\" font-family=\"'Courier New'\" font-size=\"5.9912px\" font-weight=\"bold\" stroke-opacity=\".21739\" stroke-width=\".26458\" style=\"font-feature-settings:normal;font-variant-caps:normal;font-variant-ligatures:normal;font-variant-numeric:normal\">2</tspan></text>\n",
              "   <text x=\"67.05619\" y=\"114.69937\" style=\"font-feature-settings:normal;font-variant-caps:normal;font-variant-ligatures:normal;font-variant-numeric:normal;line-height:1.25\" xml:space=\"preserve\"><tspan x=\"67.05619\" y=\"114.69937\" fill=\"#000000\" fill-opacity=\".47059\" font-family=\"'Courier New'\" font-size=\"5.9912px\" font-weight=\"bold\" stroke-opacity=\".21739\" stroke-width=\".26458\" style=\"font-feature-settings:normal;font-variant-caps:normal;font-variant-ligatures:normal;font-variant-numeric:normal\">3</tspan></text>\n",
              "   <text x=\"75.709045\" y=\"114.81631\" style=\"font-feature-settings:normal;font-variant-caps:normal;font-variant-ligatures:normal;font-variant-numeric:normal;line-height:1.25\" xml:space=\"preserve\"><tspan x=\"75.709045\" y=\"114.81631\" fill=\"#000000\" fill-opacity=\".47059\" font-family=\"'Courier New'\" font-size=\"5.9912px\" font-weight=\"bold\" stroke-opacity=\".21739\" stroke-width=\".26458\" style=\"font-feature-settings:normal;font-variant-caps:normal;font-variant-ligatures:normal;font-variant-numeric:normal\">4</tspan></text>\n",
              "   <text x=\"84.622978\" y=\"114.73592\" style=\"font-feature-settings:normal;font-variant-caps:normal;font-variant-ligatures:normal;font-variant-numeric:normal;line-height:1.25\" xml:space=\"preserve\"><tspan x=\"84.622978\" y=\"114.73592\" fill=\"#000000\" fill-opacity=\".47059\" font-family=\"'Courier New'\" font-size=\"5.9912px\" font-weight=\"bold\" stroke-opacity=\".21739\" stroke-width=\".26458\" style=\"font-feature-settings:normal;font-variant-caps:normal;font-variant-ligatures:normal;font-variant-numeric:normal\">5</tspan></text>\n",
              "   <text x=\"93.297272\" y=\"114.71992\" style=\"font-feature-settings:normal;font-variant-caps:normal;font-variant-ligatures:normal;font-variant-numeric:normal;line-height:1.25\" xml:space=\"preserve\"><tspan x=\"93.297272\" y=\"114.71992\" fill=\"#000000\" fill-opacity=\".47059\" font-family=\"'Courier New'\" font-size=\"5.9912px\" font-weight=\"bold\" stroke-opacity=\".21739\" stroke-width=\".26458\" style=\"font-feature-settings:normal;font-variant-caps:normal;font-variant-ligatures:normal;font-variant-numeric:normal\">6</tspan></text>\n",
              "   <text x=\"102.4694\" y=\"114.69937\" style=\"font-feature-settings:normal;font-variant-caps:normal;font-variant-ligatures:normal;font-variant-numeric:normal;line-height:1.25\" xml:space=\"preserve\"><tspan x=\"102.4694\" y=\"114.69937\" fill=\"#000000\" fill-opacity=\".47059\" font-family=\"'Courier New'\" font-size=\"5.9912px\" font-weight=\"bold\" stroke-opacity=\".21739\" stroke-width=\".26458\" style=\"font-feature-settings:normal;font-variant-caps:normal;font-variant-ligatures:normal;font-variant-numeric:normal\">7</tspan></text>\n",
              "   <text x=\"111.22248\" y=\"114.7495\" style=\"font-feature-settings:normal;font-variant-caps:normal;font-variant-ligatures:normal;font-variant-numeric:normal;line-height:1.25\" xml:space=\"preserve\"><tspan x=\"111.22248\" y=\"114.7495\" fill=\"#000000\" fill-opacity=\".47059\" font-family=\"'Courier New'\" font-size=\"5.9912px\" font-weight=\"bold\" stroke-opacity=\".21739\" stroke-width=\".26458\" style=\"font-feature-settings:normal;font-variant-caps:normal;font-variant-ligatures:normal;font-variant-numeric:normal\">8</tspan></text>\n",
              "   <text x=\"120.62704\" y=\"114.64926\" style=\"font-feature-settings:normal;font-variant-caps:normal;font-variant-ligatures:normal;font-variant-numeric:normal;line-height:1.25\" xml:space=\"preserve\"><tspan x=\"120.62704\" y=\"114.64926\" fill=\"#000000\" fill-opacity=\".47059\" font-family=\"'Courier New'\" font-size=\"5.9912px\" font-weight=\"bold\" stroke-opacity=\".21739\" stroke-width=\".26458\" style=\"font-feature-settings:normal;font-variant-caps:normal;font-variant-ligatures:normal;font-variant-numeric:normal\">9</tspan></text>\n",
              "   <text x=\"127.92686\" y=\"114.73279\" style=\"font-feature-settings:normal;font-variant-caps:normal;font-variant-ligatures:normal;font-variant-numeric:normal;line-height:1.25\" xml:space=\"preserve\"><tspan x=\"127.92686\" y=\"114.73279\" fill=\"#000000\" fill-opacity=\".47059\" font-family=\"'Courier New'\" font-size=\"5.9912px\" font-weight=\"bold\" stroke-opacity=\".21739\" stroke-width=\".26458\" style=\"font-feature-settings:normal;font-variant-caps:normal;font-variant-ligatures:normal;font-variant-numeric:normal\">10</tspan></text>\n",
              "  </g>\n",
              "  <rect x=\"126.16\" y=\"118.04\" width=\"8.8516\" height=\"8.8516\" fill=\"#0054ff\" fill-opacity=\".16078\" stroke=\"#0059d0\" stroke-linecap=\"square\" stroke-miterlimit=\"10.433\" stroke-opacity=\".12941\" stroke-width=\".669\"/>\n",
              " </g>\n",
              "</svg>\n",
              "</td>\n",
              "</tr>\n",
              "<tr>\n",
              "\t<td class=\"bigtd\">x[1::2]</td><td class=\"bigtd\">\n",
              "<svg width=\"98.037mm\" height=\"16.462mm\" version=\"1.1\" viewBox=\"0 0 98.037 16.462\" xmlns=\"http://www.w3.org/2000/svg\">\n",
              " <g transform=\"translate(-37.978 -145.11)\">\n",
              "  <g stroke=\"#0059d0\" stroke-linecap=\"square\" stroke-miterlimit=\"10.433\" stroke-opacity=\".12941\" stroke-width=\".669\">\n",
              "   <rect x=\"38.312\" y=\"152.39\" width=\"8.8516\" height=\"8.8516\" fill-opacity=\"0\"/>\n",
              "   <rect x=\"47.164\" y=\"152.39\" width=\"8.8516\" height=\"8.8516\" fill=\"#0054ff\" fill-opacity=\".16078\"/>\n",
              "   <rect x=\"56.015\" y=\"152.39\" width=\"8.8516\" height=\"8.8516\" fill-opacity=\"0\"/>\n",
              "   <rect x=\"64.867\" y=\"152.39\" width=\"8.8516\" height=\"8.8516\" fill=\"#0054ff\" fill-opacity=\".16078\"/>\n",
              "   <rect x=\"73.719\" y=\"152.39\" width=\"8.8516\" height=\"8.8516\" fill-opacity=\"0\"/>\n",
              "   <rect x=\"82.57\" y=\"152.39\" width=\"8.8516\" height=\"8.8516\" fill=\"#0054ff\" fill-opacity=\".16078\"/>\n",
              "   <rect x=\"91.422\" y=\"152.39\" width=\"8.8516\" height=\"8.8516\" fill-opacity=\"0\"/>\n",
              "   <rect x=\"100.27\" y=\"152.39\" width=\"8.8516\" height=\"8.8516\" fill=\"#0054ff\" fill-opacity=\".16078\"/>\n",
              "   <rect x=\"109.13\" y=\"152.39\" width=\"8.8516\" height=\"8.8516\" fill-opacity=\"0\"/>\n",
              "   <rect x=\"117.98\" y=\"152.39\" width=\"8.8516\" height=\"8.8516\" fill=\"#0054ff\" fill-opacity=\".16078\"/>\n",
              "  </g>\n",
              "  <g fill=\"#000000\" fill-opacity=\".47059\" font-family=\"'Courier New'\" font-size=\"5.9912px\" font-weight=\"bold\" letter-spacing=\"0px\" stroke-opacity=\".21739\" stroke-width=\".26458\" word-spacing=\"0px\">\n",
              "   <text x=\"41.002064\" y=\"149.13367\" style=\"font-feature-settings:normal;font-variant-caps:normal;font-variant-ligatures:normal;font-variant-numeric:normal;line-height:1.25\" xml:space=\"preserve\"><tspan x=\"41.002064\" y=\"149.13367\" fill=\"#000000\" fill-opacity=\".47059\" font-family=\"'Courier New'\" font-size=\"5.9912px\" font-weight=\"bold\" stroke-opacity=\".21739\" stroke-width=\".26458\" style=\"font-feature-settings:normal;font-variant-caps:normal;font-variant-ligatures:normal;font-variant-numeric:normal\">0</tspan></text>\n",
              "   <text x=\"50.214695\" y=\"149.13493\" style=\"font-feature-settings:normal;font-variant-caps:normal;font-variant-ligatures:normal;font-variant-numeric:normal;line-height:1.25\" xml:space=\"preserve\"><tspan x=\"50.214695\" y=\"149.13493\" fill=\"#000000\" fill-opacity=\".47059\" font-family=\"'Courier New'\" font-size=\"5.9912px\" font-weight=\"bold\" stroke-opacity=\".21739\" stroke-width=\".26458\" style=\"font-feature-settings:normal;font-variant-caps:normal;font-variant-ligatures:normal;font-variant-numeric:normal\">1</tspan></text>\n",
              "   <text x=\"58.884525\" y=\"149.15855\" style=\"font-feature-settings:normal;font-variant-caps:normal;font-variant-ligatures:normal;font-variant-numeric:normal;line-height:1.25\" xml:space=\"preserve\"><tspan x=\"58.884525\" y=\"149.15855\" fill=\"#000000\" fill-opacity=\".47059\" font-family=\"'Courier New'\" font-size=\"5.9912px\" font-weight=\"bold\" stroke-opacity=\".21739\" stroke-width=\".26458\" style=\"font-feature-settings:normal;font-variant-caps:normal;font-variant-ligatures:normal;font-variant-numeric:normal\">2</tspan></text>\n",
              "   <text x=\"67.724373\" y=\"149.04352\" style=\"font-feature-settings:normal;font-variant-caps:normal;font-variant-ligatures:normal;font-variant-numeric:normal;line-height:1.25\" xml:space=\"preserve\"><tspan x=\"67.724373\" y=\"149.04352\" fill=\"#000000\" fill-opacity=\".47059\" font-family=\"'Courier New'\" font-size=\"5.9912px\" font-weight=\"bold\" stroke-opacity=\".21739\" stroke-width=\".26458\" style=\"font-feature-settings:normal;font-variant-caps:normal;font-variant-ligatures:normal;font-variant-numeric:normal\">3</tspan></text>\n",
              "   <text x=\"76.37722\" y=\"149.16045\" style=\"font-feature-settings:normal;font-variant-caps:normal;font-variant-ligatures:normal;font-variant-numeric:normal;line-height:1.25\" xml:space=\"preserve\"><tspan x=\"76.37722\" y=\"149.16045\" fill=\"#000000\" fill-opacity=\".47059\" font-family=\"'Courier New'\" font-size=\"5.9912px\" font-weight=\"bold\" stroke-opacity=\".21739\" stroke-width=\".26458\" style=\"font-feature-settings:normal;font-variant-caps:normal;font-variant-ligatures:normal;font-variant-numeric:normal\">4</tspan></text>\n",
              "   <text x=\"85.291161\" y=\"149.08006\" style=\"font-feature-settings:normal;font-variant-caps:normal;font-variant-ligatures:normal;font-variant-numeric:normal;line-height:1.25\" xml:space=\"preserve\"><tspan x=\"85.291161\" y=\"149.08006\" fill=\"#000000\" fill-opacity=\".47059\" font-family=\"'Courier New'\" font-size=\"5.9912px\" font-weight=\"bold\" stroke-opacity=\".21739\" stroke-width=\".26458\" style=\"font-feature-settings:normal;font-variant-caps:normal;font-variant-ligatures:normal;font-variant-numeric:normal\">5</tspan></text>\n",
              "   <text x=\"93.965454\" y=\"149.06406\" style=\"font-feature-settings:normal;font-variant-caps:normal;font-variant-ligatures:normal;font-variant-numeric:normal;line-height:1.25\" xml:space=\"preserve\"><tspan x=\"93.965454\" y=\"149.06406\" fill=\"#000000\" fill-opacity=\".47059\" font-family=\"'Courier New'\" font-size=\"5.9912px\" font-weight=\"bold\" stroke-opacity=\".21739\" stroke-width=\".26458\" style=\"font-feature-settings:normal;font-variant-caps:normal;font-variant-ligatures:normal;font-variant-numeric:normal\">6</tspan></text>\n",
              "   <text x=\"103.13757\" y=\"149.04352\" style=\"font-feature-settings:normal;font-variant-caps:normal;font-variant-ligatures:normal;font-variant-numeric:normal;line-height:1.25\" xml:space=\"preserve\"><tspan x=\"103.13757\" y=\"149.04352\" fill=\"#000000\" fill-opacity=\".47059\" font-family=\"'Courier New'\" font-size=\"5.9912px\" font-weight=\"bold\" stroke-opacity=\".21739\" stroke-width=\".26458\" style=\"font-feature-settings:normal;font-variant-caps:normal;font-variant-ligatures:normal;font-variant-numeric:normal\">7</tspan></text>\n",
              "   <text x=\"111.89066\" y=\"149.09364\" style=\"font-feature-settings:normal;font-variant-caps:normal;font-variant-ligatures:normal;font-variant-numeric:normal;line-height:1.25\" xml:space=\"preserve\"><tspan x=\"111.89066\" y=\"149.09364\" fill=\"#000000\" fill-opacity=\".47059\" font-family=\"'Courier New'\" font-size=\"5.9912px\" font-weight=\"bold\" stroke-opacity=\".21739\" stroke-width=\".26458\" style=\"font-feature-settings:normal;font-variant-caps:normal;font-variant-ligatures:normal;font-variant-numeric:normal\">8</tspan></text>\n",
              "   <text x=\"121.29522\" y=\"148.99341\" style=\"font-feature-settings:normal;font-variant-caps:normal;font-variant-ligatures:normal;font-variant-numeric:normal;line-height:1.25\" xml:space=\"preserve\"><tspan x=\"121.29522\" y=\"148.99341\" fill=\"#000000\" fill-opacity=\".47059\" font-family=\"'Courier New'\" font-size=\"5.9912px\" font-weight=\"bold\" stroke-opacity=\".21739\" stroke-width=\".26458\" style=\"font-feature-settings:normal;font-variant-caps:normal;font-variant-ligatures:normal;font-variant-numeric:normal\">9</tspan></text>\n",
              "   <text x=\"128.59503\" y=\"149.07693\" style=\"font-feature-settings:normal;font-variant-caps:normal;font-variant-ligatures:normal;font-variant-numeric:normal;line-height:1.25\" xml:space=\"preserve\"><tspan x=\"128.59503\" y=\"149.07693\" fill=\"#000000\" fill-opacity=\".47059\" font-family=\"'Courier New'\" font-size=\"5.9912px\" font-weight=\"bold\" stroke-opacity=\".21739\" stroke-width=\".26458\" style=\"font-feature-settings:normal;font-variant-caps:normal;font-variant-ligatures:normal;font-variant-numeric:normal\">10</tspan></text>\n",
              "  </g>\n",
              "  <rect x=\"126.83\" y=\"152.39\" width=\"8.8516\" height=\"8.8516\" fill-opacity=\"0\" stroke=\"#0059d0\" stroke-linecap=\"square\" stroke-miterlimit=\"10.433\" stroke-opacity=\".12941\" stroke-width=\".669\"/>\n",
              " </g>\n",
              "</svg>\n",
              "</td>\n",
              "</tr>\n",
              "<tr>\n",
              "\t<td class=\"bigtd\">x[::-1]</td><td class=\"bigtd\">\n",
              "<svg width=\"98.705mm\" height=\"39.05mm\" version=\"1.1\" viewBox=\"0 0 98.705 39.05\" xmlns=\"http://www.w3.org/2000/svg\">\n",
              " <defs>\n",
              "  <marker id=\"a\" overflow=\"visible\" orient=\"auto\">\n",
              "   <path transform=\"matrix(-.4 0 0 -.4 -4 0)\" d=\"m0 0 5-5-17.5 5 17.5 5z\" fill-opacity=\".55072\" fill-rule=\"evenodd\" stroke=\"#000\" stroke-opacity=\".55072\" stroke-width=\"1pt\"/>\n",
              "  </marker>\n",
              " </defs>\n",
              " <g transform=\"translate(-37.844 -180.12)\">\n",
              "  <rect x=\"38.179\" y=\"187.4\" width=\"8.8516\" height=\"8.8516\" fill=\"#00f\" fill-opacity=\".039216\" stroke=\"#0059d0\" stroke-linecap=\"square\" stroke-miterlimit=\"10.433\" stroke-opacity=\".12941\" stroke-width=\".669\"/>\n",
              "  <g stroke=\"#0059d0\" stroke-linecap=\"square\" stroke-miterlimit=\"10.433\" stroke-opacity=\".12941\" stroke-width=\".669\">\n",
              "   <rect x=\"47.03\" y=\"187.4\" width=\"8.8516\" height=\"8.8516\" fill-opacity=\".078431\"/>\n",
              "   <rect x=\"55.882\" y=\"187.4\" width=\"8.8516\" height=\"8.8516\" fill-opacity=\".11765\"/>\n",
              "   <rect x=\"64.733\" y=\"187.4\" width=\"8.8516\" height=\"8.8516\" fill-opacity=\".15686\"/>\n",
              "   <rect x=\"73.585\" y=\"187.4\" width=\"8.8516\" height=\"8.8516\" fill-opacity=\".19608\"/>\n",
              "   <rect x=\"82.437\" y=\"187.4\" width=\"8.8516\" height=\"8.8516\" fill-opacity=\".23529\"/>\n",
              "   <rect x=\"91.288\" y=\"187.4\" width=\"8.8516\" height=\"8.8516\" fill-opacity=\".27451\"/>\n",
              "   <rect x=\"100.14\" y=\"187.4\" width=\"8.8516\" height=\"8.8516\" fill-opacity=\".31373\"/>\n",
              "   <rect x=\"108.99\" y=\"187.4\" width=\"8.8516\" height=\"8.8516\" fill-opacity=\".35294\"/>\n",
              "   <rect x=\"117.84\" y=\"187.4\" width=\"8.8516\" height=\"8.8516\" fill-opacity=\".39216\"/>\n",
              "  </g>\n",
              "  <g fill=\"#000000\" fill-opacity=\".47059\" font-family=\"'Courier New'\" font-size=\"5.9912px\" font-weight=\"bold\" letter-spacing=\"0px\" stroke-opacity=\".21739\" stroke-width=\".26458\" word-spacing=\"0px\">\n",
              "   <text x=\"40.868423\" y=\"184.14597\" style=\"font-feature-settings:normal;font-variant-caps:normal;font-variant-ligatures:normal;font-variant-numeric:normal;line-height:1.25\" xml:space=\"preserve\"><tspan x=\"40.868423\" y=\"184.14597\" fill=\"#000000\" fill-opacity=\".47059\" font-family=\"'Courier New'\" font-size=\"5.9912px\" font-weight=\"bold\" stroke-opacity=\".21739\" stroke-width=\".26458\" style=\"font-feature-settings:normal;font-variant-caps:normal;font-variant-ligatures:normal;font-variant-numeric:normal\">0</tspan></text>\n",
              "   <text x=\"50.081055\" y=\"184.14723\" style=\"font-feature-settings:normal;font-variant-caps:normal;font-variant-ligatures:normal;font-variant-numeric:normal;line-height:1.25\" xml:space=\"preserve\"><tspan x=\"50.081055\" y=\"184.14723\" fill=\"#000000\" fill-opacity=\".47059\" font-family=\"'Courier New'\" font-size=\"5.9912px\" font-weight=\"bold\" stroke-opacity=\".21739\" stroke-width=\".26458\" style=\"font-feature-settings:normal;font-variant-caps:normal;font-variant-ligatures:normal;font-variant-numeric:normal\">1</tspan></text>\n",
              "   <text x=\"58.750885\" y=\"184.17085\" style=\"font-feature-settings:normal;font-variant-caps:normal;font-variant-ligatures:normal;font-variant-numeric:normal;line-height:1.25\" xml:space=\"preserve\"><tspan x=\"58.750885\" y=\"184.17085\" fill=\"#000000\" fill-opacity=\".47059\" font-family=\"'Courier New'\" font-size=\"5.9912px\" font-weight=\"bold\" stroke-opacity=\".21739\" stroke-width=\".26458\" style=\"font-feature-settings:normal;font-variant-caps:normal;font-variant-ligatures:normal;font-variant-numeric:normal\">2</tspan></text>\n",
              "   <text x=\"67.590729\" y=\"184.05582\" style=\"font-feature-settings:normal;font-variant-caps:normal;font-variant-ligatures:normal;font-variant-numeric:normal;line-height:1.25\" xml:space=\"preserve\"><tspan x=\"67.590729\" y=\"184.05582\" fill=\"#000000\" fill-opacity=\".47059\" font-family=\"'Courier New'\" font-size=\"5.9912px\" font-weight=\"bold\" stroke-opacity=\".21739\" stroke-width=\".26458\" style=\"font-feature-settings:normal;font-variant-caps:normal;font-variant-ligatures:normal;font-variant-numeric:normal\">3</tspan></text>\n",
              "   <text x=\"76.243576\" y=\"184.17274\" style=\"font-feature-settings:normal;font-variant-caps:normal;font-variant-ligatures:normal;font-variant-numeric:normal;line-height:1.25\" xml:space=\"preserve\"><tspan x=\"76.243576\" y=\"184.17274\" fill=\"#000000\" fill-opacity=\".47059\" font-family=\"'Courier New'\" font-size=\"5.9912px\" font-weight=\"bold\" stroke-opacity=\".21739\" stroke-width=\".26458\" style=\"font-feature-settings:normal;font-variant-caps:normal;font-variant-ligatures:normal;font-variant-numeric:normal\">4</tspan></text>\n",
              "   <text x=\"85.157516\" y=\"184.09236\" style=\"font-feature-settings:normal;font-variant-caps:normal;font-variant-ligatures:normal;font-variant-numeric:normal;line-height:1.25\" xml:space=\"preserve\"><tspan x=\"85.157516\" y=\"184.09236\" fill=\"#000000\" fill-opacity=\".47059\" font-family=\"'Courier New'\" font-size=\"5.9912px\" font-weight=\"bold\" stroke-opacity=\".21739\" stroke-width=\".26458\" style=\"font-feature-settings:normal;font-variant-caps:normal;font-variant-ligatures:normal;font-variant-numeric:normal\">5</tspan></text>\n",
              "   <text x=\"93.831818\" y=\"184.07635\" style=\"font-feature-settings:normal;font-variant-caps:normal;font-variant-ligatures:normal;font-variant-numeric:normal;line-height:1.25\" xml:space=\"preserve\"><tspan x=\"93.831818\" y=\"184.07635\" fill=\"#000000\" fill-opacity=\".47059\" font-family=\"'Courier New'\" font-size=\"5.9912px\" font-weight=\"bold\" stroke-opacity=\".21739\" stroke-width=\".26458\" style=\"font-feature-settings:normal;font-variant-caps:normal;font-variant-ligatures:normal;font-variant-numeric:normal\">6</tspan></text>\n",
              "   <text x=\"103.00393\" y=\"184.05582\" style=\"font-feature-settings:normal;font-variant-caps:normal;font-variant-ligatures:normal;font-variant-numeric:normal;line-height:1.25\" xml:space=\"preserve\"><tspan x=\"103.00393\" y=\"184.05582\" fill=\"#000000\" fill-opacity=\".47059\" font-family=\"'Courier New'\" font-size=\"5.9912px\" font-weight=\"bold\" stroke-opacity=\".21739\" stroke-width=\".26458\" style=\"font-feature-settings:normal;font-variant-caps:normal;font-variant-ligatures:normal;font-variant-numeric:normal\">7</tspan></text>\n",
              "   <text x=\"111.75702\" y=\"184.10594\" style=\"font-feature-settings:normal;font-variant-caps:normal;font-variant-ligatures:normal;font-variant-numeric:normal;line-height:1.25\" xml:space=\"preserve\"><tspan x=\"111.75702\" y=\"184.10594\" fill=\"#000000\" fill-opacity=\".47059\" font-family=\"'Courier New'\" font-size=\"5.9912px\" font-weight=\"bold\" stroke-opacity=\".21739\" stroke-width=\".26458\" style=\"font-feature-settings:normal;font-variant-caps:normal;font-variant-ligatures:normal;font-variant-numeric:normal\">8</tspan></text>\n",
              "   <text x=\"121.16158\" y=\"184.00571\" style=\"font-feature-settings:normal;font-variant-caps:normal;font-variant-ligatures:normal;font-variant-numeric:normal;line-height:1.25\" xml:space=\"preserve\"><tspan x=\"121.16158\" y=\"184.00571\" fill=\"#000000\" fill-opacity=\".47059\" font-family=\"'Courier New'\" font-size=\"5.9912px\" font-weight=\"bold\" stroke-opacity=\".21739\" stroke-width=\".26458\" style=\"font-feature-settings:normal;font-variant-caps:normal;font-variant-ligatures:normal;font-variant-numeric:normal\">9</tspan></text>\n",
              "   <text x=\"128.4614\" y=\"184.08923\" style=\"font-feature-settings:normal;font-variant-caps:normal;font-variant-ligatures:normal;font-variant-numeric:normal;line-height:1.25\" xml:space=\"preserve\"><tspan x=\"128.4614\" y=\"184.08923\" fill=\"#000000\" fill-opacity=\".47059\" font-family=\"'Courier New'\" font-size=\"5.9912px\" font-weight=\"bold\" stroke-opacity=\".21739\" stroke-width=\".26458\" style=\"font-feature-settings:normal;font-variant-caps:normal;font-variant-ligatures:normal;font-variant-numeric:normal\">10</tspan></text>\n",
              "  </g>\n",
              "  <rect x=\"126.7\" y=\"187.4\" width=\"8.8516\" height=\"8.8516\" fill-opacity=\".39216\" stroke=\"#0059d0\" stroke-linecap=\"square\" stroke-miterlimit=\"10.433\" stroke-opacity=\".12941\" stroke-width=\".669\"/>\n",
              "  <rect transform=\"scale(-1)\" x=\"-136.21\" y=\"-218.84\" width=\"8.8516\" height=\"8.8516\" fill=\"#00f\" fill-opacity=\".039216\" stroke=\"#0059d0\" stroke-linecap=\"square\" stroke-miterlimit=\"10.433\" stroke-opacity=\".12941\" stroke-width=\".669\"/>\n",
              "  <g stroke=\"#0059d0\" stroke-linecap=\"square\" stroke-miterlimit=\"10.433\" stroke-opacity=\".12941\" stroke-width=\".669\">\n",
              "   <rect transform=\"scale(-1)\" x=\"-127.36\" y=\"-218.84\" width=\"8.8516\" height=\"8.8516\" fill-opacity=\".078431\"/>\n",
              "   <rect transform=\"scale(-1)\" x=\"-118.51\" y=\"-218.84\" width=\"8.8516\" height=\"8.8516\" fill-opacity=\".11765\"/>\n",
              "   <rect transform=\"scale(-1)\" x=\"-109.66\" y=\"-218.84\" width=\"8.8516\" height=\"8.8516\" fill-opacity=\".15686\"/>\n",
              "   <rect transform=\"scale(-1)\" x=\"-100.81\" y=\"-218.84\" width=\"8.8516\" height=\"8.8516\" fill-opacity=\".19608\"/>\n",
              "   <rect transform=\"scale(-1)\" x=\"-91.957\" y=\"-218.84\" width=\"8.8516\" height=\"8.8516\" fill-opacity=\".23529\"/>\n",
              "   <rect transform=\"scale(-1)\" x=\"-83.105\" y=\"-218.84\" width=\"8.8516\" height=\"8.8516\" fill-opacity=\".27451\"/>\n",
              "   <rect transform=\"scale(-1)\" x=\"-74.253\" y=\"-218.84\" width=\"8.8516\" height=\"8.8516\" fill-opacity=\".31373\"/>\n",
              "   <rect transform=\"scale(-1)\" x=\"-65.402\" y=\"-218.84\" width=\"8.8516\" height=\"8.8516\" fill-opacity=\".35294\"/>\n",
              "   <rect transform=\"scale(-1)\" x=\"-56.55\" y=\"-218.84\" width=\"8.8516\" height=\"8.8516\" fill-opacity=\".39216\"/>\n",
              "   <rect transform=\"scale(-1)\" x=\"-47.698\" y=\"-218.84\" width=\"8.8516\" height=\"8.8516\" fill-opacity=\".39216\"/>\n",
              "  </g>\n",
              "  <path d=\"m88.333 198.32v8.5526\" fill=\"none\" marker-end=\"url(#a)\" stroke=\"#000\" stroke-opacity=\".55072\" stroke-width=\".465\"/>\n",
              " </g>\n",
              "</svg>\n",
              "</td>\n",
              "</tr>\n",
              "<tr>\n",
              "\t<td class=\"bigtd\">x[9::-2]</td><td class=\"bigtd\">\n",
              "<svg width=\"98.169mm\" height=\"39.459mm\" version=\"1.1\" viewBox=\"0 0 98.169 39.459\" xmlns=\"http://www.w3.org/2000/svg\">\n",
              " <defs>\n",
              "  <marker id=\"a\" overflow=\"visible\" orient=\"auto\">\n",
              "   <path transform=\"matrix(-.4 0 0 -.4 -4 0)\" d=\"m0 0 5-5-17.5 5 17.5 5z\" fill-opacity=\".55072\" fill-rule=\"evenodd\" stroke=\"#000\" stroke-opacity=\".55072\" stroke-width=\"1pt\"/>\n",
              "  </marker>\n",
              " </defs>\n",
              " <g transform=\"translate(-39.65 -236.32)\">\n",
              "  <g stroke=\"#0059d0\" stroke-linecap=\"square\" stroke-miterlimit=\"10.433\" stroke-opacity=\".12941\" stroke-width=\".669\">\n",
              "   <rect x=\"40.116\" y=\"243.59\" width=\"8.8516\" height=\"8.8516\" fill-opacity=\"0\"/>\n",
              "   <rect x=\"48.968\" y=\"243.59\" width=\"8.8516\" height=\"8.8516\" fill=\"#0054ff\" fill-opacity=\".078431\"/>\n",
              "   <rect x=\"57.82\" y=\"243.59\" width=\"8.8516\" height=\"8.8516\" fill-opacity=\"0\"/>\n",
              "   <rect x=\"66.671\" y=\"243.59\" width=\"8.8516\" height=\"8.8516\" fill=\"#0054ff\" fill-opacity=\".15686\"/>\n",
              "   <rect x=\"75.523\" y=\"243.59\" width=\"8.8516\" height=\"8.8516\" fill-opacity=\"0\"/>\n",
              "   <rect x=\"84.374\" y=\"243.59\" width=\"8.8516\" height=\"8.8516\" fill=\"#0054ff\" fill-opacity=\".23529\"/>\n",
              "   <rect x=\"93.226\" y=\"243.59\" width=\"8.8516\" height=\"8.8516\" fill-opacity=\"0\"/>\n",
              "   <rect x=\"102.08\" y=\"243.59\" width=\"8.8516\" height=\"8.8516\" fill=\"#0054ff\" fill-opacity=\".31373\"/>\n",
              "   <rect x=\"110.93\" y=\"243.59\" width=\"8.8516\" height=\"8.8516\" fill-opacity=\"0\"/>\n",
              "   <rect x=\"119.78\" y=\"243.59\" width=\"8.8516\" height=\"8.8516\" fill=\"#0054ff\" fill-opacity=\".39216\"/>\n",
              "  </g>\n",
              "  <g fill=\"#000000\" fill-opacity=\".47059\" font-family=\"'Courier New'\" font-size=\"5.9912px\" font-weight=\"bold\" letter-spacing=\"0px\" stroke-opacity=\".21739\" stroke-width=\".26458\" word-spacing=\"0px\">\n",
              "   <text x=\"42.806126\" y=\"240.33759\" style=\"font-feature-settings:normal;font-variant-caps:normal;font-variant-ligatures:normal;font-variant-numeric:normal;line-height:1.25\" xml:space=\"preserve\"><tspan x=\"42.806126\" y=\"240.33759\" fill=\"#000000\" fill-opacity=\".47059\" font-family=\"'Courier New'\" font-size=\"5.9912px\" font-weight=\"bold\" stroke-opacity=\".21739\" stroke-width=\".26458\" style=\"font-feature-settings:normal;font-variant-caps:normal;font-variant-ligatures:normal;font-variant-numeric:normal\">0</tspan></text>\n",
              "   <text x=\"52.018757\" y=\"240.33885\" style=\"font-feature-settings:normal;font-variant-caps:normal;font-variant-ligatures:normal;font-variant-numeric:normal;line-height:1.25\" xml:space=\"preserve\"><tspan x=\"52.018757\" y=\"240.33885\" fill=\"#000000\" fill-opacity=\".47059\" font-family=\"'Courier New'\" font-size=\"5.9912px\" font-weight=\"bold\" stroke-opacity=\".21739\" stroke-width=\".26458\" style=\"font-feature-settings:normal;font-variant-caps:normal;font-variant-ligatures:normal;font-variant-numeric:normal\">1</tspan></text>\n",
              "   <text x=\"60.688587\" y=\"240.36247\" style=\"font-feature-settings:normal;font-variant-caps:normal;font-variant-ligatures:normal;font-variant-numeric:normal;line-height:1.25\" xml:space=\"preserve\"><tspan x=\"60.688587\" y=\"240.36247\" fill=\"#000000\" fill-opacity=\".47059\" font-family=\"'Courier New'\" font-size=\"5.9912px\" font-weight=\"bold\" stroke-opacity=\".21739\" stroke-width=\".26458\" style=\"font-feature-settings:normal;font-variant-caps:normal;font-variant-ligatures:normal;font-variant-numeric:normal\">2</tspan></text>\n",
              "   <text x=\"69.528435\" y=\"240.24744\" style=\"font-feature-settings:normal;font-variant-caps:normal;font-variant-ligatures:normal;font-variant-numeric:normal;line-height:1.25\" xml:space=\"preserve\"><tspan x=\"69.528435\" y=\"240.24744\" fill=\"#000000\" fill-opacity=\".47059\" font-family=\"'Courier New'\" font-size=\"5.9912px\" font-weight=\"bold\" stroke-opacity=\".21739\" stroke-width=\".26458\" style=\"font-feature-settings:normal;font-variant-caps:normal;font-variant-ligatures:normal;font-variant-numeric:normal\">3</tspan></text>\n",
              "   <text x=\"78.181274\" y=\"240.36436\" style=\"font-feature-settings:normal;font-variant-caps:normal;font-variant-ligatures:normal;font-variant-numeric:normal;line-height:1.25\" xml:space=\"preserve\"><tspan x=\"78.181274\" y=\"240.36436\" fill=\"#000000\" fill-opacity=\".47059\" font-family=\"'Courier New'\" font-size=\"5.9912px\" font-weight=\"bold\" stroke-opacity=\".21739\" stroke-width=\".26458\" style=\"font-feature-settings:normal;font-variant-caps:normal;font-variant-ligatures:normal;font-variant-numeric:normal\">4</tspan></text>\n",
              "   <text x=\"87.095215\" y=\"240.28398\" style=\"font-feature-settings:normal;font-variant-caps:normal;font-variant-ligatures:normal;font-variant-numeric:normal;line-height:1.25\" xml:space=\"preserve\"><tspan x=\"87.095215\" y=\"240.28398\" fill=\"#000000\" fill-opacity=\".47059\" font-family=\"'Courier New'\" font-size=\"5.9912px\" font-weight=\"bold\" stroke-opacity=\".21739\" stroke-width=\".26458\" style=\"font-feature-settings:normal;font-variant-caps:normal;font-variant-ligatures:normal;font-variant-numeric:normal\">5</tspan></text>\n",
              "   <text x=\"95.769524\" y=\"240.26797\" style=\"font-feature-settings:normal;font-variant-caps:normal;font-variant-ligatures:normal;font-variant-numeric:normal;line-height:1.25\" xml:space=\"preserve\"><tspan x=\"95.769524\" y=\"240.26797\" fill=\"#000000\" fill-opacity=\".47059\" font-family=\"'Courier New'\" font-size=\"5.9912px\" font-weight=\"bold\" stroke-opacity=\".21739\" stroke-width=\".26458\" style=\"font-feature-settings:normal;font-variant-caps:normal;font-variant-ligatures:normal;font-variant-numeric:normal\">6</tspan></text>\n",
              "   <text x=\"104.94163\" y=\"240.24744\" style=\"font-feature-settings:normal;font-variant-caps:normal;font-variant-ligatures:normal;font-variant-numeric:normal;line-height:1.25\" xml:space=\"preserve\"><tspan x=\"104.94163\" y=\"240.24744\" fill=\"#000000\" fill-opacity=\".47059\" font-family=\"'Courier New'\" font-size=\"5.9912px\" font-weight=\"bold\" stroke-opacity=\".21739\" stroke-width=\".26458\" style=\"font-feature-settings:normal;font-variant-caps:normal;font-variant-ligatures:normal;font-variant-numeric:normal\">7</tspan></text>\n",
              "   <text x=\"113.69472\" y=\"240.29756\" style=\"font-feature-settings:normal;font-variant-caps:normal;font-variant-ligatures:normal;font-variant-numeric:normal;line-height:1.25\" xml:space=\"preserve\"><tspan x=\"113.69472\" y=\"240.29756\" fill=\"#000000\" fill-opacity=\".47059\" font-family=\"'Courier New'\" font-size=\"5.9912px\" font-weight=\"bold\" stroke-opacity=\".21739\" stroke-width=\".26458\" style=\"font-feature-settings:normal;font-variant-caps:normal;font-variant-ligatures:normal;font-variant-numeric:normal\">8</tspan></text>\n",
              "   <text x=\"123.09929\" y=\"240.19733\" style=\"font-feature-settings:normal;font-variant-caps:normal;font-variant-ligatures:normal;font-variant-numeric:normal;line-height:1.25\" xml:space=\"preserve\"><tspan x=\"123.09929\" y=\"240.19733\" fill=\"#000000\" fill-opacity=\".47059\" font-family=\"'Courier New'\" font-size=\"5.9912px\" font-weight=\"bold\" stroke-opacity=\".21739\" stroke-width=\".26458\" style=\"font-feature-settings:normal;font-variant-caps:normal;font-variant-ligatures:normal;font-variant-numeric:normal\">9</tspan></text>\n",
              "   <text x=\"130.39909\" y=\"240.28085\" style=\"font-feature-settings:normal;font-variant-caps:normal;font-variant-ligatures:normal;font-variant-numeric:normal;line-height:1.25\" xml:space=\"preserve\"><tspan x=\"130.39909\" y=\"240.28085\" fill=\"#000000\" fill-opacity=\".47059\" font-family=\"'Courier New'\" font-size=\"5.9912px\" font-weight=\"bold\" stroke-opacity=\".21739\" stroke-width=\".26458\" style=\"font-feature-settings:normal;font-variant-caps:normal;font-variant-ligatures:normal;font-variant-numeric:normal\">10</tspan></text>\n",
              "  </g>\n",
              "  <rect x=\"128.63\" y=\"243.59\" width=\"8.8516\" height=\"8.8516\" fill-opacity=\"0\" stroke=\"#0059d0\" stroke-linecap=\"square\" stroke-miterlimit=\"10.433\" stroke-opacity=\".12941\" stroke-width=\".669\"/>\n",
              "  <path d=\"m91.339 254.97v8.5526\" fill=\"none\" marker-end=\"url(#a)\" stroke=\"#000\" stroke-opacity=\".55072\" stroke-width=\".465\"/>\n",
              "  <g fill=\"#0054ff\" stroke=\"#0059d0\" stroke-linecap=\"square\" stroke-miterlimit=\"10.433\" stroke-opacity=\".12941\" stroke-width=\".669\">\n",
              "   <rect transform=\"scale(-1,1)\" x=\"-75.391\" y=\"266.59\" width=\"8.8516\" height=\"8.8516\" fill-opacity=\".15686\"/>\n",
              "   <rect transform=\"scale(-1,1)\" x=\"-66.539\" y=\"266.59\" width=\"8.8516\" height=\"8.8516\" fill-opacity=\".23529\"/>\n",
              "   <rect transform=\"scale(-1,1)\" x=\"-57.688\" y=\"266.59\" width=\"8.8516\" height=\"8.8516\" fill-opacity=\".31373\"/>\n",
              "   <rect transform=\"scale(-1,1)\" x=\"-48.836\" y=\"266.59\" width=\"8.8516\" height=\"8.8516\" fill-opacity=\".39216\"/>\n",
              "  </g>\n",
              " </g>\n",
              "</svg>\n",
              "</td>\n",
              "</tr>\n",
              "</table>"
            ],
            "text/plain": [
              "<IPython.core.display.HTML object>"
            ]
          },
          "metadata": {
            "tags": []
          }
        }
      ]
    },
    {
      "cell_type": "code",
      "metadata": {
        "id": "-bcrCXI8Q9TP",
        "colab_type": "code",
        "cellView": "form",
        "outputId": "df7a4540-4464-4033-d3ed-936a7c0f2481",
        "colab": {
          "base_uri": "https://localhost:8080/",
          "height": 1000
        }
      },
      "source": [
        "#@title Indexing 2D array\n",
        "\n",
        "str_ex_8 = '''\n",
        "<svg width=\"60.594mm\" height=\"51.819mm\" version=\"1.1\" viewBox=\"0 0 60.594 51.819\" xmlns=\"http://www.w3.org/2000/svg\">\n",
        " <g transform=\"translate(-32.51 -300.31)\">\n",
        "  <g fill=\"#0054ff\" fill-opacity=\".15942\" stroke=\"#0059d0\" stroke-linecap=\"square\" stroke-miterlimit=\"10.433\" stroke-opacity=\".12941\" stroke-width=\".669\">\n",
        "   <rect x=\"39.659\" y=\"307.54\" width=\"8.8516\" height=\"8.8516\"/>\n",
        "   <rect x=\"48.511\" y=\"307.54\" width=\"8.8516\" height=\"8.8516\"/>\n",
        "   <rect x=\"57.363\" y=\"307.54\" width=\"8.8516\" height=\"8.8516\"/>\n",
        "   <rect x=\"66.214\" y=\"307.54\" width=\"8.8516\" height=\"8.8516\"/>\n",
        "   <rect x=\"75.066\" y=\"307.54\" width=\"8.8516\" height=\"8.8516\"/>\n",
        "  </g>\n",
        "  <rect x=\"83.918\" y=\"307.54\" width=\"8.8516\" height=\"8.8516\" fill-opacity=\"0\" stroke=\"#0059d0\" stroke-linecap=\"square\" stroke-miterlimit=\"10.433\" stroke-opacity=\".12941\" stroke-width=\".669\"/>\n",
        "  <g fill=\"#000000\" fill-opacity=\".47059\" font-family=\"'Courier New'\" font-size=\"5.9912px\" font-weight=\"bold\" letter-spacing=\"0px\" stroke-opacity=\".21739\" stroke-width=\".26458\" word-spacing=\"0px\">\n",
        "   <text x=\"42.349182\" y=\"304.28363\" style=\"font-feature-settings:normal;font-variant-caps:normal;font-variant-ligatures:normal;font-variant-numeric:normal;line-height:1.25\" xml:space=\"preserve\"><tspan x=\"42.349182\" y=\"304.28363\" fill=\"#000000\" fill-opacity=\".47059\" font-family=\"'Courier New'\" font-size=\"5.9912px\" font-weight=\"bold\" stroke-opacity=\".21739\" stroke-width=\".26458\" style=\"font-feature-settings:normal;font-variant-caps:normal;font-variant-ligatures:normal;font-variant-numeric:normal\">0</tspan></text>\n",
        "   <text x=\"51.561813\" y=\"304.28488\" style=\"font-feature-settings:normal;font-variant-caps:normal;font-variant-ligatures:normal;font-variant-numeric:normal;line-height:1.25\" xml:space=\"preserve\"><tspan x=\"51.561813\" y=\"304.28488\" fill=\"#000000\" fill-opacity=\".47059\" font-family=\"'Courier New'\" font-size=\"5.9912px\" font-weight=\"bold\" stroke-opacity=\".21739\" stroke-width=\".26458\" style=\"font-feature-settings:normal;font-variant-caps:normal;font-variant-ligatures:normal;font-variant-numeric:normal\">1</tspan></text>\n",
        "   <text x=\"60.231644\" y=\"304.3085\" style=\"font-feature-settings:normal;font-variant-caps:normal;font-variant-ligatures:normal;font-variant-numeric:normal;line-height:1.25\" xml:space=\"preserve\"><tspan x=\"60.231644\" y=\"304.3085\" fill=\"#000000\" fill-opacity=\".47059\" font-family=\"'Courier New'\" font-size=\"5.9912px\" font-weight=\"bold\" stroke-opacity=\".21739\" stroke-width=\".26458\" style=\"font-feature-settings:normal;font-variant-caps:normal;font-variant-ligatures:normal;font-variant-numeric:normal\">2</tspan></text>\n",
        "   <text x=\"69.071487\" y=\"304.19348\" style=\"font-feature-settings:normal;font-variant-caps:normal;font-variant-ligatures:normal;font-variant-numeric:normal;line-height:1.25\" xml:space=\"preserve\"><tspan x=\"69.071487\" y=\"304.19348\" fill=\"#000000\" fill-opacity=\".47059\" font-family=\"'Courier New'\" font-size=\"5.9912px\" font-weight=\"bold\" stroke-opacity=\".21739\" stroke-width=\".26458\" style=\"font-feature-settings:normal;font-variant-caps:normal;font-variant-ligatures:normal;font-variant-numeric:normal\">3</tspan></text>\n",
        "   <text x=\"77.724342\" y=\"304.31042\" style=\"font-feature-settings:normal;font-variant-caps:normal;font-variant-ligatures:normal;font-variant-numeric:normal;line-height:1.25\" xml:space=\"preserve\"><tspan x=\"77.724342\" y=\"304.31042\" fill=\"#000000\" fill-opacity=\".47059\" font-family=\"'Courier New'\" font-size=\"5.9912px\" font-weight=\"bold\" stroke-opacity=\".21739\" stroke-width=\".26458\" style=\"font-feature-settings:normal;font-variant-caps:normal;font-variant-ligatures:normal;font-variant-numeric:normal\">4</tspan></text>\n",
        "   <text x=\"86.638275\" y=\"304.23001\" style=\"font-feature-settings:normal;font-variant-caps:normal;font-variant-ligatures:normal;font-variant-numeric:normal;line-height:1.25\" xml:space=\"preserve\"><tspan x=\"86.638275\" y=\"304.23001\" fill=\"#000000\" fill-opacity=\".47059\" font-family=\"'Courier New'\" font-size=\"5.9912px\" font-weight=\"bold\" stroke-opacity=\".21739\" stroke-width=\".26458\" style=\"font-feature-settings:normal;font-variant-caps:normal;font-variant-ligatures:normal;font-variant-numeric:normal\">5</tspan></text>\n",
        "  </g>\n",
        "  <g fill=\"#0054ff\" fill-opacity=\".15942\" stroke=\"#0059d0\" stroke-linecap=\"square\" stroke-miterlimit=\"10.433\" stroke-opacity=\".12941\" stroke-width=\".669\">\n",
        "   <rect x=\"39.659\" y=\"316.39\" width=\"8.8516\" height=\"8.8516\"/>\n",
        "   <rect x=\"48.511\" y=\"316.39\" width=\"8.8516\" height=\"8.8516\"/>\n",
        "   <rect x=\"57.363\" y=\"316.39\" width=\"8.8516\" height=\"8.8516\"/>\n",
        "   <rect x=\"66.214\" y=\"316.39\" width=\"8.8516\" height=\"8.8516\"/>\n",
        "   <rect x=\"75.066\" y=\"316.39\" width=\"8.8516\" height=\"8.8516\"/>\n",
        "  </g>\n",
        "  <rect x=\"83.918\" y=\"316.39\" width=\"8.8516\" height=\"8.8516\" fill-opacity=\"0\" stroke=\"#0059d0\" stroke-linecap=\"square\" stroke-miterlimit=\"10.433\" stroke-opacity=\".12941\" stroke-width=\".669\"/>\n",
        "  <g fill=\"#0054ff\" fill-opacity=\".15942\" stroke=\"#0059d0\" stroke-linecap=\"square\" stroke-miterlimit=\"10.433\" stroke-opacity=\".12941\" stroke-width=\".669\">\n",
        "   <rect x=\"39.659\" y=\"325.24\" width=\"8.8516\" height=\"8.8516\"/>\n",
        "   <rect x=\"48.511\" y=\"325.24\" width=\"8.8516\" height=\"8.8516\"/>\n",
        "   <rect x=\"57.363\" y=\"325.24\" width=\"8.8516\" height=\"8.8516\"/>\n",
        "   <rect x=\"66.214\" y=\"325.24\" width=\"8.8516\" height=\"8.8516\"/>\n",
        "   <rect x=\"75.066\" y=\"325.24\" width=\"8.8516\" height=\"8.8516\"/>\n",
        "  </g>\n",
        "  <rect x=\"83.918\" y=\"325.24\" width=\"8.8516\" height=\"8.8516\" fill-opacity=\"0\" stroke=\"#0059d0\" stroke-linecap=\"square\" stroke-miterlimit=\"10.433\" stroke-opacity=\".12941\" stroke-width=\".669\"/>\n",
        "  <g fill=\"#0054ff\" fill-opacity=\".15942\" stroke=\"#0059d0\" stroke-linecap=\"square\" stroke-miterlimit=\"10.433\" stroke-opacity=\".12941\" stroke-width=\".669\">\n",
        "   <rect x=\"39.659\" y=\"334.09\" width=\"8.8516\" height=\"8.8516\"/>\n",
        "   <rect x=\"48.511\" y=\"334.09\" width=\"8.8516\" height=\"8.8516\"/>\n",
        "   <rect x=\"57.363\" y=\"334.09\" width=\"8.8516\" height=\"8.8516\"/>\n",
        "   <rect x=\"66.214\" y=\"334.09\" width=\"8.8516\" height=\"8.8516\"/>\n",
        "   <rect x=\"75.066\" y=\"334.09\" width=\"8.8516\" height=\"8.8516\"/>\n",
        "  </g>\n",
        "  <g fill-opacity=\"0\" stroke=\"#0059d0\" stroke-linecap=\"square\" stroke-miterlimit=\"10.433\" stroke-opacity=\".12941\" stroke-width=\".669\">\n",
        "   <rect x=\"83.918\" y=\"334.09\" width=\"8.8516\" height=\"8.8516\"/>\n",
        "   <rect x=\"39.659\" y=\"342.94\" width=\"8.8516\" height=\"8.8516\"/>\n",
        "   <rect x=\"48.511\" y=\"342.94\" width=\"8.8516\" height=\"8.8516\"/>\n",
        "   <rect x=\"57.363\" y=\"342.94\" width=\"8.8516\" height=\"8.8516\"/>\n",
        "   <rect x=\"66.214\" y=\"342.94\" width=\"8.8516\" height=\"8.8516\"/>\n",
        "   <rect x=\"75.066\" y=\"342.94\" width=\"8.8516\" height=\"8.8516\"/>\n",
        "   <rect x=\"83.918\" y=\"342.94\" width=\"8.8516\" height=\"8.8516\"/>\n",
        "  </g>\n",
        "  <g fill=\"#000000\" fill-opacity=\".47059\" font-family=\"'Courier New'\" font-size=\"5.9912px\" font-weight=\"bold\" letter-spacing=\"0px\" stroke-opacity=\".21739\" stroke-width=\".26458\" word-spacing=\"0px\">\n",
        "   <text x=\"32.377968\" y=\"314.46558\" style=\"font-feature-settings:normal;font-variant-caps:normal;font-variant-ligatures:normal;font-variant-numeric:normal;line-height:1.25\" xml:space=\"preserve\"><tspan x=\"32.377968\" y=\"314.46558\" fill=\"#000000\" fill-opacity=\".47059\" font-family=\"'Courier New'\" font-size=\"5.9912px\" font-weight=\"bold\" stroke-opacity=\".21739\" stroke-width=\".26458\" style=\"font-feature-settings:normal;font-variant-caps:normal;font-variant-ligatures:normal;font-variant-numeric:normal\">0</tspan></text>\n",
        "   <text x=\"32.168564\" y=\"323.5567\" style=\"font-feature-settings:normal;font-variant-caps:normal;font-variant-ligatures:normal;font-variant-numeric:normal;line-height:1.25\" xml:space=\"preserve\"><tspan x=\"32.168564\" y=\"323.5567\" fill=\"#000000\" fill-opacity=\".47059\" font-family=\"'Courier New'\" font-size=\"5.9912px\" font-weight=\"bold\" stroke-opacity=\".21739\" stroke-width=\".26458\" style=\"font-feature-settings:normal;font-variant-caps:normal;font-variant-ligatures:normal;font-variant-numeric:normal\">1</tspan></text>\n",
        "   <text x=\"32.18816\" y=\"332.06116\" style=\"font-feature-settings:normal;font-variant-caps:normal;font-variant-ligatures:normal;font-variant-numeric:normal;line-height:1.25\" xml:space=\"preserve\"><tspan x=\"32.18816\" y=\"332.06116\" fill=\"#000000\" fill-opacity=\".47059\" font-family=\"'Courier New'\" font-size=\"5.9912px\" font-weight=\"bold\" stroke-opacity=\".21739\" stroke-width=\".26458\" style=\"font-feature-settings:normal;font-variant-caps:normal;font-variant-ligatures:normal;font-variant-numeric:normal\">2</tspan></text>\n",
        "   <text x=\"32.323467\" y=\"340.66351\" style=\"font-feature-settings:normal;font-variant-caps:normal;font-variant-ligatures:normal;font-variant-numeric:normal;line-height:1.25\" xml:space=\"preserve\"><tspan x=\"32.323467\" y=\"340.66351\" fill=\"#000000\" fill-opacity=\".47059\" font-family=\"'Courier New'\" font-size=\"5.9912px\" font-weight=\"bold\" stroke-opacity=\".21739\" stroke-width=\".26458\" style=\"font-feature-settings:normal;font-variant-caps:normal;font-variant-ligatures:normal;font-variant-numeric:normal\">3</tspan></text>\n",
        "   <text x=\"32.222683\" y=\"349.82504\" style=\"font-feature-settings:normal;font-variant-caps:normal;font-variant-ligatures:normal;font-variant-numeric:normal;line-height:1.25\" xml:space=\"preserve\"><tspan x=\"32.222683\" y=\"349.82504\" fill=\"#000000\" fill-opacity=\".47059\" font-family=\"'Courier New'\" font-size=\"5.9912px\" font-weight=\"bold\" stroke-opacity=\".21739\" stroke-width=\".26458\" style=\"font-feature-settings:normal;font-variant-caps:normal;font-variant-ligatures:normal;font-variant-numeric:normal\">4</tspan></text>\n",
        "  </g>\n",
        " </g>\n",
        "</svg>\n",
        "'''\n",
        "str_ex_9 = '''\n",
        "<svg width=\"60.594mm\" height=\"51.819mm\" version=\"1.1\" viewBox=\"0 0 60.594 51.819\" xmlns=\"http://www.w3.org/2000/svg\">\n",
        " <g transform=\"translate(-168.18 -300.1)\">\n",
        "  <g fill=\"#0054ff\" fill-opacity=\".15942\" stroke=\"#0059d0\" stroke-linecap=\"square\" stroke-miterlimit=\"10.433\" stroke-opacity=\".12941\" stroke-width=\".669\">\n",
        "   <rect x=\"175.33\" y=\"307.32\" width=\"8.8516\" height=\"8.8516\"/>\n",
        "   <rect x=\"184.18\" y=\"307.32\" width=\"8.8516\" height=\"8.8516\"/>\n",
        "   <rect x=\"193.03\" y=\"307.32\" width=\"8.8516\" height=\"8.8516\"/>\n",
        "  </g>\n",
        "  <g fill-opacity=\"0\" stroke=\"#0059d0\" stroke-linecap=\"square\" stroke-miterlimit=\"10.433\" stroke-opacity=\".12941\" stroke-width=\".669\">\n",
        "   <rect x=\"201.88\" y=\"307.32\" width=\"8.8516\" height=\"8.8516\"/>\n",
        "   <rect x=\"210.73\" y=\"307.32\" width=\"8.8516\" height=\"8.8516\"/>\n",
        "   <rect x=\"219.59\" y=\"307.32\" width=\"8.8516\" height=\"8.8516\"/>\n",
        "  </g>\n",
        "  <g fill=\"#000000\" fill-opacity=\".47059\" font-family=\"'Courier New'\" font-size=\"5.9912px\" font-weight=\"bold\" letter-spacing=\"0px\" stroke-opacity=\".21739\" stroke-width=\".26458\" word-spacing=\"0px\">\n",
        "   <text x=\"178.01706\" y=\"304.07059\" style=\"font-feature-settings:normal;font-variant-caps:normal;font-variant-ligatures:normal;font-variant-numeric:normal;line-height:1.25\" xml:space=\"preserve\"><tspan x=\"178.01706\" y=\"304.07059\" fill=\"#000000\" fill-opacity=\".47059\" font-family=\"'Courier New'\" font-size=\"5.9912px\" font-weight=\"bold\" stroke-opacity=\".21739\" stroke-width=\".26458\" style=\"font-feature-settings:normal;font-variant-caps:normal;font-variant-ligatures:normal;font-variant-numeric:normal\">0</tspan></text>\n",
        "   <text x=\"187.22969\" y=\"304.07184\" style=\"font-feature-settings:normal;font-variant-caps:normal;font-variant-ligatures:normal;font-variant-numeric:normal;line-height:1.25\" xml:space=\"preserve\"><tspan x=\"187.22969\" y=\"304.07184\" fill=\"#000000\" fill-opacity=\".47059\" font-family=\"'Courier New'\" font-size=\"5.9912px\" font-weight=\"bold\" stroke-opacity=\".21739\" stroke-width=\".26458\" style=\"font-feature-settings:normal;font-variant-caps:normal;font-variant-ligatures:normal;font-variant-numeric:normal\">1</tspan></text>\n",
        "   <text x=\"195.89952\" y=\"304.09546\" style=\"font-feature-settings:normal;font-variant-caps:normal;font-variant-ligatures:normal;font-variant-numeric:normal;line-height:1.25\" xml:space=\"preserve\"><tspan x=\"195.89952\" y=\"304.09546\" fill=\"#000000\" fill-opacity=\".47059\" font-family=\"'Courier New'\" font-size=\"5.9912px\" font-weight=\"bold\" stroke-opacity=\".21739\" stroke-width=\".26458\" style=\"font-feature-settings:normal;font-variant-caps:normal;font-variant-ligatures:normal;font-variant-numeric:normal\">2</tspan></text>\n",
        "   <text x=\"204.73936\" y=\"303.98044\" style=\"font-feature-settings:normal;font-variant-caps:normal;font-variant-ligatures:normal;font-variant-numeric:normal;line-height:1.25\" xml:space=\"preserve\"><tspan x=\"204.73936\" y=\"303.98044\" fill=\"#000000\" fill-opacity=\".47059\" font-family=\"'Courier New'\" font-size=\"5.9912px\" font-weight=\"bold\" stroke-opacity=\".21739\" stroke-width=\".26458\" style=\"font-feature-settings:normal;font-variant-caps:normal;font-variant-ligatures:normal;font-variant-numeric:normal\">3</tspan></text>\n",
        "   <text x=\"213.39223\" y=\"304.09738\" style=\"font-feature-settings:normal;font-variant-caps:normal;font-variant-ligatures:normal;font-variant-numeric:normal;line-height:1.25\" xml:space=\"preserve\"><tspan x=\"213.39223\" y=\"304.09738\" fill=\"#000000\" fill-opacity=\".47059\" font-family=\"'Courier New'\" font-size=\"5.9912px\" font-weight=\"bold\" stroke-opacity=\".21739\" stroke-width=\".26458\" style=\"font-feature-settings:normal;font-variant-caps:normal;font-variant-ligatures:normal;font-variant-numeric:normal\">4</tspan></text>\n",
        "   <text x=\"222.30615\" y=\"304.01697\" style=\"font-feature-settings:normal;font-variant-caps:normal;font-variant-ligatures:normal;font-variant-numeric:normal;line-height:1.25\" xml:space=\"preserve\"><tspan x=\"222.30615\" y=\"304.01697\" fill=\"#000000\" fill-opacity=\".47059\" font-family=\"'Courier New'\" font-size=\"5.9912px\" font-weight=\"bold\" stroke-opacity=\".21739\" stroke-width=\".26458\" style=\"font-feature-settings:normal;font-variant-caps:normal;font-variant-ligatures:normal;font-variant-numeric:normal\">5</tspan></text>\n",
        "  </g>\n",
        "  <g fill-opacity=\"0\" stroke=\"#0059d0\" stroke-linecap=\"square\" stroke-miterlimit=\"10.433\" stroke-opacity=\".12941\" stroke-width=\".669\">\n",
        "   <rect x=\"175.33\" y=\"316.18\" width=\"8.8516\" height=\"8.8516\"/>\n",
        "   <rect x=\"184.18\" y=\"316.18\" width=\"8.8516\" height=\"8.8516\"/>\n",
        "   <rect x=\"193.03\" y=\"316.18\" width=\"8.8516\" height=\"8.8516\"/>\n",
        "   <rect x=\"201.88\" y=\"316.18\" width=\"8.8516\" height=\"8.8516\"/>\n",
        "   <rect x=\"210.73\" y=\"316.18\" width=\"8.8516\" height=\"8.8516\"/>\n",
        "   <rect x=\"219.59\" y=\"316.18\" width=\"8.8516\" height=\"8.8516\"/>\n",
        "  </g>\n",
        "  <g fill=\"#0054ff\" fill-opacity=\".15942\" stroke=\"#0059d0\" stroke-linecap=\"square\" stroke-miterlimit=\"10.433\" stroke-opacity=\".12941\" stroke-width=\".669\">\n",
        "   <rect x=\"175.33\" y=\"325.03\" width=\"8.8516\" height=\"8.8516\"/>\n",
        "   <rect x=\"184.18\" y=\"325.03\" width=\"8.8516\" height=\"8.8516\"/>\n",
        "   <rect x=\"193.03\" y=\"325.03\" width=\"8.8516\" height=\"8.8516\"/>\n",
        "  </g>\n",
        "  <g fill-opacity=\"0\" stroke=\"#0059d0\" stroke-linecap=\"square\" stroke-miterlimit=\"10.433\" stroke-opacity=\".12941\" stroke-width=\".669\">\n",
        "   <rect x=\"201.88\" y=\"325.03\" width=\"8.8516\" height=\"8.8516\"/>\n",
        "   <rect x=\"210.73\" y=\"325.03\" width=\"8.8516\" height=\"8.8516\"/>\n",
        "   <rect x=\"219.59\" y=\"325.03\" width=\"8.8516\" height=\"8.8516\"/>\n",
        "   <rect x=\"175.33\" y=\"333.88\" width=\"8.8516\" height=\"8.8516\"/>\n",
        "   <rect x=\"184.18\" y=\"333.88\" width=\"8.8516\" height=\"8.8516\"/>\n",
        "   <rect x=\"193.03\" y=\"333.88\" width=\"8.8516\" height=\"8.8516\"/>\n",
        "   <rect x=\"201.88\" y=\"333.88\" width=\"8.8516\" height=\"8.8516\"/>\n",
        "   <rect x=\"210.73\" y=\"333.88\" width=\"8.8516\" height=\"8.8516\"/>\n",
        "   <rect x=\"219.59\" y=\"333.88\" width=\"8.8516\" height=\"8.8516\"/>\n",
        "  </g>\n",
        "  <g fill=\"#0054ff\" fill-opacity=\".16078\" stroke=\"#0059d0\" stroke-linecap=\"square\" stroke-miterlimit=\"10.433\" stroke-opacity=\".12941\" stroke-width=\".669\">\n",
        "   <rect x=\"175.33\" y=\"342.73\" width=\"8.8516\" height=\"8.8516\"/>\n",
        "   <rect x=\"184.18\" y=\"342.73\" width=\"8.8516\" height=\"8.8516\"/>\n",
        "   <rect x=\"193.03\" y=\"342.73\" width=\"8.8516\" height=\"8.8516\"/>\n",
        "  </g>\n",
        "  <g fill-opacity=\"0\" stroke=\"#0059d0\" stroke-linecap=\"square\" stroke-miterlimit=\"10.433\" stroke-opacity=\".12941\" stroke-width=\".669\">\n",
        "   <rect x=\"201.88\" y=\"342.73\" width=\"8.8516\" height=\"8.8516\"/>\n",
        "   <rect x=\"210.73\" y=\"342.73\" width=\"8.8516\" height=\"8.8516\"/>\n",
        "   <rect x=\"219.59\" y=\"342.73\" width=\"8.8516\" height=\"8.8516\"/>\n",
        "  </g>\n",
        "  <g fill=\"#000000\" fill-opacity=\".47059\" font-family=\"'Courier New'\" font-size=\"5.9912px\" font-weight=\"bold\" letter-spacing=\"0px\" stroke-opacity=\".21739\" stroke-width=\".26458\" word-spacing=\"0px\">\n",
        "   <text x=\"168.04585\" y=\"314.25253\" style=\"font-feature-settings:normal;font-variant-caps:normal;font-variant-ligatures:normal;font-variant-numeric:normal;line-height:1.25\" xml:space=\"preserve\"><tspan x=\"168.04585\" y=\"314.25253\" fill=\"#000000\" fill-opacity=\".47059\" font-family=\"'Courier New'\" font-size=\"5.9912px\" font-weight=\"bold\" stroke-opacity=\".21739\" stroke-width=\".26458\" style=\"font-feature-settings:normal;font-variant-caps:normal;font-variant-ligatures:normal;font-variant-numeric:normal\">0</tspan></text>\n",
        "   <text x=\"167.83644\" y=\"323.34366\" style=\"font-feature-settings:normal;font-variant-caps:normal;font-variant-ligatures:normal;font-variant-numeric:normal;line-height:1.25\" xml:space=\"preserve\"><tspan x=\"167.83644\" y=\"323.34366\" fill=\"#000000\" fill-opacity=\".47059\" font-family=\"'Courier New'\" font-size=\"5.9912px\" font-weight=\"bold\" stroke-opacity=\".21739\" stroke-width=\".26458\" style=\"font-feature-settings:normal;font-variant-caps:normal;font-variant-ligatures:normal;font-variant-numeric:normal\">1</tspan></text>\n",
        "   <text x=\"167.85605\" y=\"331.84811\" style=\"font-feature-settings:normal;font-variant-caps:normal;font-variant-ligatures:normal;font-variant-numeric:normal;line-height:1.25\" xml:space=\"preserve\"><tspan x=\"167.85605\" y=\"331.84811\" fill=\"#000000\" fill-opacity=\".47059\" font-family=\"'Courier New'\" font-size=\"5.9912px\" font-weight=\"bold\" stroke-opacity=\".21739\" stroke-width=\".26458\" style=\"font-feature-settings:normal;font-variant-caps:normal;font-variant-ligatures:normal;font-variant-numeric:normal\">2</tspan></text>\n",
        "   <text x=\"167.99135\" y=\"340.45047\" style=\"font-feature-settings:normal;font-variant-caps:normal;font-variant-ligatures:normal;font-variant-numeric:normal;line-height:1.25\" xml:space=\"preserve\"><tspan x=\"167.99135\" y=\"340.45047\" fill=\"#000000\" fill-opacity=\".47059\" font-family=\"'Courier New'\" font-size=\"5.9912px\" font-weight=\"bold\" stroke-opacity=\".21739\" stroke-width=\".26458\" style=\"font-feature-settings:normal;font-variant-caps:normal;font-variant-ligatures:normal;font-variant-numeric:normal\">3</tspan></text>\n",
        "   <text x=\"167.89056\" y=\"349.612\" style=\"font-feature-settings:normal;font-variant-caps:normal;font-variant-ligatures:normal;font-variant-numeric:normal;line-height:1.25\" xml:space=\"preserve\"><tspan x=\"167.89056\" y=\"349.612\" fill=\"#000000\" fill-opacity=\".47059\" font-family=\"'Courier New'\" font-size=\"5.9912px\" font-weight=\"bold\" stroke-opacity=\".21739\" stroke-width=\".26458\" style=\"font-feature-settings:normal;font-variant-caps:normal;font-variant-ligatures:normal;font-variant-numeric:normal\">4</tspan></text>\n",
        "  </g>\n",
        " </g>\n",
        "</svg>\n",
        "'''\n",
        "str_ex_10 = '''\n",
        "<svg width=\"60.594mm\" height=\"51.819mm\" version=\"1.1\" viewBox=\"0 0 60.594 51.819\" xmlns=\"http://www.w3.org/2000/svg\">\n",
        " <g transform=\"translate(-32.138 -376.8)\">\n",
        "  <g fill=\"#0054ff\" fill-opacity=\".16078\" stroke=\"#0059d0\" stroke-linecap=\"square\" stroke-miterlimit=\"10.433\" stroke-opacity=\".12941\" stroke-width=\".669\">\n",
        "   <rect x=\"39.287\" y=\"384.03\" width=\"8.8516\" height=\"8.8516\"/>\n",
        "   <rect x=\"48.139\" y=\"384.03\" width=\"8.8516\" height=\"8.8516\"/>\n",
        "   <rect x=\"56.99\" y=\"384.03\" width=\"8.8516\" height=\"8.8516\"/>\n",
        "   <rect x=\"65.842\" y=\"384.03\" width=\"8.8516\" height=\"8.8516\"/>\n",
        "   <rect x=\"74.694\" y=\"384.03\" width=\"8.8516\" height=\"8.8516\"/>\n",
        "   <rect x=\"83.545\" y=\"384.03\" width=\"8.8516\" height=\"8.8516\"/>\n",
        "  </g>\n",
        "  <g fill=\"#000000\" fill-opacity=\".47059\" font-family=\"'Courier New'\" font-size=\"5.9912px\" font-weight=\"bold\" letter-spacing=\"0px\" stroke-opacity=\".21739\" stroke-width=\".26458\" word-spacing=\"0px\">\n",
        "   <text x=\"41.976875\" y=\"380.77695\" style=\"font-feature-settings:normal;font-variant-caps:normal;font-variant-ligatures:normal;font-variant-numeric:normal;line-height:1.25\" xml:space=\"preserve\"><tspan x=\"41.976875\" y=\"380.77695\" fill=\"#000000\" fill-opacity=\".47059\" font-family=\"'Courier New'\" font-size=\"5.9912px\" font-weight=\"bold\" stroke-opacity=\".21739\" stroke-width=\".26458\" style=\"font-feature-settings:normal;font-variant-caps:normal;font-variant-ligatures:normal;font-variant-numeric:normal\">0</tspan></text>\n",
        "   <text x=\"51.189507\" y=\"380.7782\" style=\"font-feature-settings:normal;font-variant-caps:normal;font-variant-ligatures:normal;font-variant-numeric:normal;line-height:1.25\" xml:space=\"preserve\"><tspan x=\"51.189507\" y=\"380.7782\" fill=\"#000000\" fill-opacity=\".47059\" font-family=\"'Courier New'\" font-size=\"5.9912px\" font-weight=\"bold\" stroke-opacity=\".21739\" stroke-width=\".26458\" style=\"font-feature-settings:normal;font-variant-caps:normal;font-variant-ligatures:normal;font-variant-numeric:normal\">1</tspan></text>\n",
        "   <text x=\"59.859337\" y=\"380.80182\" style=\"font-feature-settings:normal;font-variant-caps:normal;font-variant-ligatures:normal;font-variant-numeric:normal;line-height:1.25\" xml:space=\"preserve\"><tspan x=\"59.859337\" y=\"380.80182\" fill=\"#000000\" fill-opacity=\".47059\" font-family=\"'Courier New'\" font-size=\"5.9912px\" font-weight=\"bold\" stroke-opacity=\".21739\" stroke-width=\".26458\" style=\"font-feature-settings:normal;font-variant-caps:normal;font-variant-ligatures:normal;font-variant-numeric:normal\">2</tspan></text>\n",
        "   <text x=\"68.699181\" y=\"380.6868\" style=\"font-feature-settings:normal;font-variant-caps:normal;font-variant-ligatures:normal;font-variant-numeric:normal;line-height:1.25\" xml:space=\"preserve\"><tspan x=\"68.699181\" y=\"380.6868\" fill=\"#000000\" fill-opacity=\".47059\" font-family=\"'Courier New'\" font-size=\"5.9912px\" font-weight=\"bold\" stroke-opacity=\".21739\" stroke-width=\".26458\" style=\"font-feature-settings:normal;font-variant-caps:normal;font-variant-ligatures:normal;font-variant-numeric:normal\">3</tspan></text>\n",
        "   <text x=\"77.352036\" y=\"380.80374\" style=\"font-feature-settings:normal;font-variant-caps:normal;font-variant-ligatures:normal;font-variant-numeric:normal;line-height:1.25\" xml:space=\"preserve\"><tspan x=\"77.352036\" y=\"380.80374\" fill=\"#000000\" fill-opacity=\".47059\" font-family=\"'Courier New'\" font-size=\"5.9912px\" font-weight=\"bold\" stroke-opacity=\".21739\" stroke-width=\".26458\" style=\"font-feature-settings:normal;font-variant-caps:normal;font-variant-ligatures:normal;font-variant-numeric:normal\">4</tspan></text>\n",
        "   <text x=\"86.265968\" y=\"380.72333\" style=\"font-feature-settings:normal;font-variant-caps:normal;font-variant-ligatures:normal;font-variant-numeric:normal;line-height:1.25\" xml:space=\"preserve\"><tspan x=\"86.265968\" y=\"380.72333\" fill=\"#000000\" fill-opacity=\".47059\" font-family=\"'Courier New'\" font-size=\"5.9912px\" font-weight=\"bold\" stroke-opacity=\".21739\" stroke-width=\".26458\" style=\"font-feature-settings:normal;font-variant-caps:normal;font-variant-ligatures:normal;font-variant-numeric:normal\">5</tspan></text>\n",
        "  </g>\n",
        "  <g fill-opacity=\"0\" stroke=\"#0059d0\" stroke-linecap=\"square\" stroke-miterlimit=\"10.433\" stroke-opacity=\".12941\" stroke-width=\".669\">\n",
        "   <rect x=\"39.287\" y=\"392.88\" width=\"8.8516\" height=\"8.8516\"/>\n",
        "   <rect x=\"48.139\" y=\"392.88\" width=\"8.8516\" height=\"8.8516\"/>\n",
        "   <rect x=\"56.99\" y=\"392.88\" width=\"8.8516\" height=\"8.8516\"/>\n",
        "   <rect x=\"65.842\" y=\"392.88\" width=\"8.8516\" height=\"8.8516\"/>\n",
        "   <rect x=\"74.694\" y=\"392.88\" width=\"8.8516\" height=\"8.8516\"/>\n",
        "   <rect x=\"83.545\" y=\"392.88\" width=\"8.8516\" height=\"8.8516\"/>\n",
        "   <rect x=\"39.287\" y=\"401.73\" width=\"8.8516\" height=\"8.8516\"/>\n",
        "   <rect x=\"48.139\" y=\"401.73\" width=\"8.8516\" height=\"8.8516\"/>\n",
        "   <rect x=\"56.99\" y=\"401.73\" width=\"8.8516\" height=\"8.8516\"/>\n",
        "   <rect x=\"65.842\" y=\"401.73\" width=\"8.8516\" height=\"8.8516\"/>\n",
        "   <rect x=\"74.694\" y=\"401.73\" width=\"8.8516\" height=\"8.8516\"/>\n",
        "   <rect x=\"83.545\" y=\"401.73\" width=\"8.8516\" height=\"8.8516\"/>\n",
        "   <rect x=\"39.287\" y=\"410.59\" width=\"8.8516\" height=\"8.8516\"/>\n",
        "   <rect x=\"48.139\" y=\"410.59\" width=\"8.8516\" height=\"8.8516\"/>\n",
        "   <rect x=\"56.99\" y=\"410.59\" width=\"8.8516\" height=\"8.8516\"/>\n",
        "   <rect x=\"65.842\" y=\"410.59\" width=\"8.8516\" height=\"8.8516\"/>\n",
        "   <rect x=\"74.694\" y=\"410.59\" width=\"8.8516\" height=\"8.8516\"/>\n",
        "   <rect x=\"83.545\" y=\"410.59\" width=\"8.8516\" height=\"8.8516\"/>\n",
        "   <rect x=\"39.287\" y=\"419.44\" width=\"8.8516\" height=\"8.8516\"/>\n",
        "   <rect x=\"48.139\" y=\"419.44\" width=\"8.8516\" height=\"8.8516\"/>\n",
        "   <rect x=\"56.99\" y=\"419.44\" width=\"8.8516\" height=\"8.8516\"/>\n",
        "   <rect x=\"65.842\" y=\"419.44\" width=\"8.8516\" height=\"8.8516\"/>\n",
        "   <rect x=\"74.694\" y=\"419.44\" width=\"8.8516\" height=\"8.8516\"/>\n",
        "   <rect x=\"83.545\" y=\"419.44\" width=\"8.8516\" height=\"8.8516\"/>\n",
        "  </g>\n",
        "  <g fill=\"#000000\" fill-opacity=\".47059\" font-family=\"'Courier New'\" font-size=\"5.9912px\" font-weight=\"bold\" letter-spacing=\"0px\" stroke-opacity=\".21739\" stroke-width=\".26458\" word-spacing=\"0px\">\n",
        "   <text x=\"32.005661\" y=\"390.95889\" style=\"font-feature-settings:normal;font-variant-caps:normal;font-variant-ligatures:normal;font-variant-numeric:normal;line-height:1.25\" xml:space=\"preserve\"><tspan x=\"32.005661\" y=\"390.95889\" fill=\"#000000\" fill-opacity=\".47059\" font-family=\"'Courier New'\" font-size=\"5.9912px\" font-weight=\"bold\" stroke-opacity=\".21739\" stroke-width=\".26458\" style=\"font-feature-settings:normal;font-variant-caps:normal;font-variant-ligatures:normal;font-variant-numeric:normal\">0</tspan></text>\n",
        "   <text x=\"31.796257\" y=\"400.05002\" style=\"font-feature-settings:normal;font-variant-caps:normal;font-variant-ligatures:normal;font-variant-numeric:normal;line-height:1.25\" xml:space=\"preserve\"><tspan x=\"31.796257\" y=\"400.05002\" fill=\"#000000\" fill-opacity=\".47059\" font-family=\"'Courier New'\" font-size=\"5.9912px\" font-weight=\"bold\" stroke-opacity=\".21739\" stroke-width=\".26458\" style=\"font-feature-settings:normal;font-variant-caps:normal;font-variant-ligatures:normal;font-variant-numeric:normal\">1</tspan></text>\n",
        "   <text x=\"31.815853\" y=\"408.55447\" style=\"font-feature-settings:normal;font-variant-caps:normal;font-variant-ligatures:normal;font-variant-numeric:normal;line-height:1.25\" xml:space=\"preserve\"><tspan x=\"31.815853\" y=\"408.55447\" fill=\"#000000\" fill-opacity=\".47059\" font-family=\"'Courier New'\" font-size=\"5.9912px\" font-weight=\"bold\" stroke-opacity=\".21739\" stroke-width=\".26458\" style=\"font-feature-settings:normal;font-variant-caps:normal;font-variant-ligatures:normal;font-variant-numeric:normal\">2</tspan></text>\n",
        "   <text x=\"31.95116\" y=\"417.15683\" style=\"font-feature-settings:normal;font-variant-caps:normal;font-variant-ligatures:normal;font-variant-numeric:normal;line-height:1.25\" xml:space=\"preserve\"><tspan x=\"31.95116\" y=\"417.15683\" fill=\"#000000\" fill-opacity=\".47059\" font-family=\"'Courier New'\" font-size=\"5.9912px\" font-weight=\"bold\" stroke-opacity=\".21739\" stroke-width=\".26458\" style=\"font-feature-settings:normal;font-variant-caps:normal;font-variant-ligatures:normal;font-variant-numeric:normal\">3</tspan></text>\n",
        "   <text x=\"31.850376\" y=\"426.31836\" style=\"font-feature-settings:normal;font-variant-caps:normal;font-variant-ligatures:normal;font-variant-numeric:normal;line-height:1.25\" xml:space=\"preserve\"><tspan x=\"31.850376\" y=\"426.31836\" fill=\"#000000\" fill-opacity=\".47059\" font-family=\"'Courier New'\" font-size=\"5.9912px\" font-weight=\"bold\" stroke-opacity=\".21739\" stroke-width=\".26458\" style=\"font-feature-settings:normal;font-variant-caps:normal;font-variant-ligatures:normal;font-variant-numeric:normal\">4</tspan></text>\n",
        "  </g>\n",
        " </g>\n",
        "</svg>\n",
        "'''\n",
        "str_ex_11 = '''\n",
        "<svg width=\"60.594mm\" height=\"51.819mm\" version=\"1.1\" viewBox=\"0 0 60.594 51.819\" xmlns=\"http://www.w3.org/2000/svg\">\n",
        " <g transform=\"translate(-32.076 -445.59)\">\n",
        "  <rect x=\"39.225\" y=\"452.81\" width=\"8.8516\" height=\"8.8516\" fill=\"#0054fb\" fill-opacity=\".16078\" stroke=\"#0059d0\" stroke-linecap=\"square\" stroke-miterlimit=\"10.433\" stroke-opacity=\".12941\" stroke-width=\".669\"/>\n",
        "  <g fill-opacity=\"0\" stroke=\"#0059d0\" stroke-linecap=\"square\" stroke-miterlimit=\"10.433\" stroke-opacity=\".12941\" stroke-width=\".669\">\n",
        "   <rect x=\"48.077\" y=\"452.81\" width=\"8.8516\" height=\"8.8516\"/>\n",
        "   <rect x=\"56.928\" y=\"452.81\" width=\"8.8516\" height=\"8.8516\"/>\n",
        "   <rect x=\"65.78\" y=\"452.81\" width=\"8.8516\" height=\"8.8516\"/>\n",
        "   <rect x=\"74.632\" y=\"452.81\" width=\"8.8516\" height=\"8.8516\"/>\n",
        "   <rect x=\"83.483\" y=\"452.81\" width=\"8.8516\" height=\"8.8516\"/>\n",
        "  </g>\n",
        "  <g fill=\"#000000\" fill-opacity=\".47059\" font-family=\"'Courier New'\" font-size=\"5.9912px\" font-weight=\"bold\" letter-spacing=\"0px\" stroke-opacity=\".21739\" stroke-width=\".26458\" word-spacing=\"0px\">\n",
        "   <text x=\"41.914806\" y=\"449.55969\" style=\"font-feature-settings:normal;font-variant-caps:normal;font-variant-ligatures:normal;font-variant-numeric:normal;line-height:1.25\" xml:space=\"preserve\"><tspan x=\"41.914806\" y=\"449.55969\" fill=\"#000000\" fill-opacity=\".47059\" font-family=\"'Courier New'\" font-size=\"5.9912px\" font-weight=\"bold\" stroke-opacity=\".21739\" stroke-width=\".26458\" style=\"font-feature-settings:normal;font-variant-caps:normal;font-variant-ligatures:normal;font-variant-numeric:normal\">0</tspan></text>\n",
        "   <text x=\"51.127438\" y=\"449.56094\" style=\"font-feature-settings:normal;font-variant-caps:normal;font-variant-ligatures:normal;font-variant-numeric:normal;line-height:1.25\" xml:space=\"preserve\"><tspan x=\"51.127438\" y=\"449.56094\" fill=\"#000000\" fill-opacity=\".47059\" font-family=\"'Courier New'\" font-size=\"5.9912px\" font-weight=\"bold\" stroke-opacity=\".21739\" stroke-width=\".26458\" style=\"font-feature-settings:normal;font-variant-caps:normal;font-variant-ligatures:normal;font-variant-numeric:normal\">1</tspan></text>\n",
        "   <text x=\"59.797268\" y=\"449.58456\" style=\"font-feature-settings:normal;font-variant-caps:normal;font-variant-ligatures:normal;font-variant-numeric:normal;line-height:1.25\" xml:space=\"preserve\"><tspan x=\"59.797268\" y=\"449.58456\" fill=\"#000000\" fill-opacity=\".47059\" font-family=\"'Courier New'\" font-size=\"5.9912px\" font-weight=\"bold\" stroke-opacity=\".21739\" stroke-width=\".26458\" style=\"font-feature-settings:normal;font-variant-caps:normal;font-variant-ligatures:normal;font-variant-numeric:normal\">2</tspan></text>\n",
        "   <text x=\"68.637115\" y=\"449.46954\" style=\"font-feature-settings:normal;font-variant-caps:normal;font-variant-ligatures:normal;font-variant-numeric:normal;line-height:1.25\" xml:space=\"preserve\"><tspan x=\"68.637115\" y=\"449.46954\" fill=\"#000000\" fill-opacity=\".47059\" font-family=\"'Courier New'\" font-size=\"5.9912px\" font-weight=\"bold\" stroke-opacity=\".21739\" stroke-width=\".26458\" style=\"font-feature-settings:normal;font-variant-caps:normal;font-variant-ligatures:normal;font-variant-numeric:normal\">3</tspan></text>\n",
        "   <text x=\"77.289963\" y=\"449.58649\" style=\"font-feature-settings:normal;font-variant-caps:normal;font-variant-ligatures:normal;font-variant-numeric:normal;line-height:1.25\" xml:space=\"preserve\"><tspan x=\"77.289963\" y=\"449.58649\" fill=\"#000000\" fill-opacity=\".47059\" font-family=\"'Courier New'\" font-size=\"5.9912px\" font-weight=\"bold\" stroke-opacity=\".21739\" stroke-width=\".26458\" style=\"font-feature-settings:normal;font-variant-caps:normal;font-variant-ligatures:normal;font-variant-numeric:normal\">4</tspan></text>\n",
        "   <text x=\"86.203903\" y=\"449.50607\" style=\"font-feature-settings:normal;font-variant-caps:normal;font-variant-ligatures:normal;font-variant-numeric:normal;line-height:1.25\" xml:space=\"preserve\"><tspan x=\"86.203903\" y=\"449.50607\" fill=\"#000000\" fill-opacity=\".47059\" font-family=\"'Courier New'\" font-size=\"5.9912px\" font-weight=\"bold\" stroke-opacity=\".21739\" stroke-width=\".26458\" style=\"font-feature-settings:normal;font-variant-caps:normal;font-variant-ligatures:normal;font-variant-numeric:normal\">5</tspan></text>\n",
        "  </g>\n",
        "  <rect x=\"39.225\" y=\"461.67\" width=\"8.8516\" height=\"8.8516\" fill=\"#0054fb\" fill-opacity=\".16078\" stroke=\"#0059d0\" stroke-linecap=\"square\" stroke-miterlimit=\"10.433\" stroke-opacity=\".12941\" stroke-width=\".669\"/>\n",
        "  <g fill-opacity=\"0\" stroke=\"#0059d0\" stroke-linecap=\"square\" stroke-miterlimit=\"10.433\" stroke-opacity=\".12941\" stroke-width=\".669\">\n",
        "   <rect x=\"48.077\" y=\"461.67\" width=\"8.8516\" height=\"8.8516\"/>\n",
        "   <rect x=\"56.928\" y=\"461.67\" width=\"8.8516\" height=\"8.8516\"/>\n",
        "   <rect x=\"65.78\" y=\"461.67\" width=\"8.8516\" height=\"8.8516\"/>\n",
        "   <rect x=\"74.632\" y=\"461.67\" width=\"8.8516\" height=\"8.8516\"/>\n",
        "   <rect x=\"83.483\" y=\"461.67\" width=\"8.8516\" height=\"8.8516\"/>\n",
        "  </g>\n",
        "  <rect x=\"39.225\" y=\"470.52\" width=\"8.8516\" height=\"8.8516\" fill=\"#0054fb\" fill-opacity=\".16078\" stroke=\"#0059d0\" stroke-linecap=\"square\" stroke-miterlimit=\"10.433\" stroke-opacity=\".12941\" stroke-width=\".669\"/>\n",
        "  <g fill-opacity=\"0\" stroke=\"#0059d0\" stroke-linecap=\"square\" stroke-miterlimit=\"10.433\" stroke-opacity=\".12941\" stroke-width=\".669\">\n",
        "   <rect x=\"48.077\" y=\"470.52\" width=\"8.8516\" height=\"8.8516\"/>\n",
        "   <rect x=\"56.928\" y=\"470.52\" width=\"8.8516\" height=\"8.8516\"/>\n",
        "   <rect x=\"65.78\" y=\"470.52\" width=\"8.8516\" height=\"8.8516\"/>\n",
        "   <rect x=\"74.632\" y=\"470.52\" width=\"8.8516\" height=\"8.8516\"/>\n",
        "   <rect x=\"83.483\" y=\"470.52\" width=\"8.8516\" height=\"8.8516\"/>\n",
        "  </g>\n",
        "  <rect x=\"39.225\" y=\"479.37\" width=\"8.8516\" height=\"8.8516\" fill=\"#0054fb\" fill-opacity=\".16078\" stroke=\"#0059d0\" stroke-linecap=\"square\" stroke-miterlimit=\"10.433\" stroke-opacity=\".12941\" stroke-width=\".669\"/>\n",
        "  <g fill-opacity=\"0\" stroke=\"#0059d0\" stroke-linecap=\"square\" stroke-miterlimit=\"10.433\" stroke-opacity=\".12941\" stroke-width=\".669\">\n",
        "   <rect x=\"48.077\" y=\"479.37\" width=\"8.8516\" height=\"8.8516\"/>\n",
        "   <rect x=\"56.928\" y=\"479.37\" width=\"8.8516\" height=\"8.8516\"/>\n",
        "   <rect x=\"65.78\" y=\"479.37\" width=\"8.8516\" height=\"8.8516\"/>\n",
        "   <rect x=\"74.632\" y=\"479.37\" width=\"8.8516\" height=\"8.8516\"/>\n",
        "   <rect x=\"83.483\" y=\"479.37\" width=\"8.8516\" height=\"8.8516\"/>\n",
        "  </g>\n",
        "  <rect x=\"39.225\" y=\"488.22\" width=\"8.8516\" height=\"8.8516\" fill=\"#0054fb\" fill-opacity=\".16078\" stroke=\"#0059d0\" stroke-linecap=\"square\" stroke-miterlimit=\"10.433\" stroke-opacity=\".12941\" stroke-width=\".669\"/>\n",
        "  <g fill-opacity=\"0\" stroke=\"#0059d0\" stroke-linecap=\"square\" stroke-miterlimit=\"10.433\" stroke-opacity=\".12941\" stroke-width=\".669\">\n",
        "   <rect x=\"48.077\" y=\"488.22\" width=\"8.8516\" height=\"8.8516\"/>\n",
        "   <rect x=\"56.928\" y=\"488.22\" width=\"8.8516\" height=\"8.8516\"/>\n",
        "   <rect x=\"65.78\" y=\"488.22\" width=\"8.8516\" height=\"8.8516\"/>\n",
        "   <rect x=\"74.632\" y=\"488.22\" width=\"8.8516\" height=\"8.8516\"/>\n",
        "   <rect x=\"83.483\" y=\"488.22\" width=\"8.8516\" height=\"8.8516\"/>\n",
        "  </g>\n",
        "  <g fill=\"#000000\" fill-opacity=\".47059\" font-family=\"'Courier New'\" font-size=\"5.9912px\" font-weight=\"bold\" letter-spacing=\"0px\" stroke-opacity=\".21739\" stroke-width=\".26458\" word-spacing=\"0px\">\n",
        "   <text x=\"31.943592\" y=\"459.74164\" style=\"font-feature-settings:normal;font-variant-caps:normal;font-variant-ligatures:normal;font-variant-numeric:normal;line-height:1.25\" xml:space=\"preserve\"><tspan x=\"31.943592\" y=\"459.74164\" fill=\"#000000\" fill-opacity=\".47059\" font-family=\"'Courier New'\" font-size=\"5.9912px\" font-weight=\"bold\" stroke-opacity=\".21739\" stroke-width=\".26458\" style=\"font-feature-settings:normal;font-variant-caps:normal;font-variant-ligatures:normal;font-variant-numeric:normal\">0</tspan></text>\n",
        "   <text x=\"31.734188\" y=\"468.83276\" style=\"font-feature-settings:normal;font-variant-caps:normal;font-variant-ligatures:normal;font-variant-numeric:normal;line-height:1.25\" xml:space=\"preserve\"><tspan x=\"31.734188\" y=\"468.83276\" fill=\"#000000\" fill-opacity=\".47059\" font-family=\"'Courier New'\" font-size=\"5.9912px\" font-weight=\"bold\" stroke-opacity=\".21739\" stroke-width=\".26458\" style=\"font-feature-settings:normal;font-variant-caps:normal;font-variant-ligatures:normal;font-variant-numeric:normal\">1</tspan></text>\n",
        "   <text x=\"31.753784\" y=\"477.33722\" style=\"font-feature-settings:normal;font-variant-caps:normal;font-variant-ligatures:normal;font-variant-numeric:normal;line-height:1.25\" xml:space=\"preserve\"><tspan x=\"31.753784\" y=\"477.33722\" fill=\"#000000\" fill-opacity=\".47059\" font-family=\"'Courier New'\" font-size=\"5.9912px\" font-weight=\"bold\" stroke-opacity=\".21739\" stroke-width=\".26458\" style=\"font-feature-settings:normal;font-variant-caps:normal;font-variant-ligatures:normal;font-variant-numeric:normal\">2</tspan></text>\n",
        "   <text x=\"31.889091\" y=\"485.93958\" style=\"font-feature-settings:normal;font-variant-caps:normal;font-variant-ligatures:normal;font-variant-numeric:normal;line-height:1.25\" xml:space=\"preserve\"><tspan x=\"31.889091\" y=\"485.93958\" fill=\"#000000\" fill-opacity=\".47059\" font-family=\"'Courier New'\" font-size=\"5.9912px\" font-weight=\"bold\" stroke-opacity=\".21739\" stroke-width=\".26458\" style=\"font-feature-settings:normal;font-variant-caps:normal;font-variant-ligatures:normal;font-variant-numeric:normal\">3</tspan></text>\n",
        "   <text x=\"31.788307\" y=\"495.1011\" style=\"font-feature-settings:normal;font-variant-caps:normal;font-variant-ligatures:normal;font-variant-numeric:normal;line-height:1.25\" xml:space=\"preserve\"><tspan x=\"31.788307\" y=\"495.1011\" fill=\"#000000\" fill-opacity=\".47059\" font-family=\"'Courier New'\" font-size=\"5.9912px\" font-weight=\"bold\" stroke-opacity=\".21739\" stroke-width=\".26458\" style=\"font-feature-settings:normal;font-variant-caps:normal;font-variant-ligatures:normal;font-variant-numeric:normal\">4</tspan></text>\n",
        "  </g>\n",
        " </g>\n",
        "</svg>\n",
        "'''\n",
        "str_ex_12 = '''\n",
        "<svg width=\"149.66mm\" height=\"52.507mm\" version=\"1.1\" viewBox=\"0 0 149.66 52.507\" xmlns=\"http://www.w3.org/2000/svg\">\n",
        " <defs>\n",
        "  <marker id=\"a\" overflow=\"visible\" orient=\"auto\">\n",
        "   <path transform=\"matrix(-.4 0 0 -.4 -4 0)\" d=\"m0 0 5-5-17.5 5 17.5 5z\" fill-opacity=\".55072\" fill-rule=\"evenodd\" stroke=\"#000\" stroke-opacity=\".55072\" stroke-width=\"1pt\"/>\n",
        "  </marker>\n",
        " </defs>\n",
        " <g transform=\"translate(-166.15 -374.91)\">\n",
        "  <rect x=\"173.3\" y=\"382.82\" width=\"8.8516\" height=\"8.8516\" fill-opacity=\"0\" stroke=\"#0059d0\" stroke-linecap=\"square\" stroke-miterlimit=\"10.433\" stroke-opacity=\".12941\" stroke-width=\".669\"/>\n",
        "  <g stroke=\"#0059d0\" stroke-linecap=\"square\" stroke-miterlimit=\"10.433\" stroke-opacity=\".12941\" stroke-width=\".669\">\n",
        "   <rect x=\"182.15\" y=\"382.82\" width=\"8.8516\" height=\"8.8516\" fill-opacity=\".039216\"/>\n",
        "   <rect x=\"191\" y=\"382.82\" width=\"8.8516\" height=\"8.8516\" fill-opacity=\".058824\"/>\n",
        "   <rect x=\"199.85\" y=\"382.82\" width=\"8.8516\" height=\"8.8516\" fill-opacity=\".078431\"/>\n",
        "   <rect x=\"208.7\" y=\"382.82\" width=\"8.8516\" height=\"8.8516\" fill-opacity=\".098039\"/>\n",
        "   <rect x=\"217.55\" y=\"382.82\" width=\"8.8516\" height=\"8.8516\" fill-opacity=\".11765\"/>\n",
        "  </g>\n",
        "  <g fill=\"#000000\" fill-opacity=\".47059\" font-family=\"'Courier New'\" font-size=\"5.9912px\" font-weight=\"bold\" letter-spacing=\"0px\" stroke-opacity=\".21739\" stroke-width=\".26458\" word-spacing=\"0px\">\n",
        "   <text x=\"175.98546\" y=\"379.56506\" style=\"font-feature-settings:normal;font-variant-caps:normal;font-variant-ligatures:normal;font-variant-numeric:normal;line-height:1.25\" xml:space=\"preserve\"><tspan x=\"175.98546\" y=\"379.56506\" fill=\"#000000\" fill-opacity=\".47059\" font-family=\"'Courier New'\" font-size=\"5.9912px\" font-weight=\"bold\" stroke-opacity=\".21739\" stroke-width=\".26458\" style=\"font-feature-settings:normal;font-variant-caps:normal;font-variant-ligatures:normal;font-variant-numeric:normal\">0</tspan></text>\n",
        "   <text x=\"185.19809\" y=\"379.56631\" style=\"font-feature-settings:normal;font-variant-caps:normal;font-variant-ligatures:normal;font-variant-numeric:normal;line-height:1.25\" xml:space=\"preserve\"><tspan x=\"185.19809\" y=\"379.56631\" fill=\"#000000\" fill-opacity=\".47059\" font-family=\"'Courier New'\" font-size=\"5.9912px\" font-weight=\"bold\" stroke-opacity=\".21739\" stroke-width=\".26458\" style=\"font-feature-settings:normal;font-variant-caps:normal;font-variant-ligatures:normal;font-variant-numeric:normal\">1</tspan></text>\n",
        "   <text x=\"193.86794\" y=\"379.58994\" style=\"font-feature-settings:normal;font-variant-caps:normal;font-variant-ligatures:normal;font-variant-numeric:normal;line-height:1.25\" xml:space=\"preserve\"><tspan x=\"193.86794\" y=\"379.58994\" fill=\"#000000\" fill-opacity=\".47059\" font-family=\"'Courier New'\" font-size=\"5.9912px\" font-weight=\"bold\" stroke-opacity=\".21739\" stroke-width=\".26458\" style=\"font-feature-settings:normal;font-variant-caps:normal;font-variant-ligatures:normal;font-variant-numeric:normal\">2</tspan></text>\n",
        "   <text x=\"202.70778\" y=\"379.47491\" style=\"font-feature-settings:normal;font-variant-caps:normal;font-variant-ligatures:normal;font-variant-numeric:normal;line-height:1.25\" xml:space=\"preserve\"><tspan x=\"202.70778\" y=\"379.47491\" fill=\"#000000\" fill-opacity=\".47059\" font-family=\"'Courier New'\" font-size=\"5.9912px\" font-weight=\"bold\" stroke-opacity=\".21739\" stroke-width=\".26458\" style=\"font-feature-settings:normal;font-variant-caps:normal;font-variant-ligatures:normal;font-variant-numeric:normal\">3</tspan></text>\n",
        "   <text x=\"211.36063\" y=\"379.59186\" style=\"font-feature-settings:normal;font-variant-caps:normal;font-variant-ligatures:normal;font-variant-numeric:normal;line-height:1.25\" xml:space=\"preserve\"><tspan x=\"211.36063\" y=\"379.59186\" fill=\"#000000\" fill-opacity=\".47059\" font-family=\"'Courier New'\" font-size=\"5.9912px\" font-weight=\"bold\" stroke-opacity=\".21739\" stroke-width=\".26458\" style=\"font-feature-settings:normal;font-variant-caps:normal;font-variant-ligatures:normal;font-variant-numeric:normal\">4</tspan></text>\n",
        "   <text x=\"220.27457\" y=\"379.51144\" style=\"font-feature-settings:normal;font-variant-caps:normal;font-variant-ligatures:normal;font-variant-numeric:normal;line-height:1.25\" xml:space=\"preserve\"><tspan x=\"220.27457\" y=\"379.51144\" fill=\"#000000\" fill-opacity=\".47059\" font-family=\"'Courier New'\" font-size=\"5.9912px\" font-weight=\"bold\" stroke-opacity=\".21739\" stroke-width=\".26458\" style=\"font-feature-settings:normal;font-variant-caps:normal;font-variant-ligatures:normal;font-variant-numeric:normal\">5</tspan></text>\n",
        "  </g>\n",
        "  <g stroke=\"#0059d0\" stroke-linecap=\"square\" stroke-miterlimit=\"10.433\" stroke-opacity=\".12941\" stroke-width=\".669\">\n",
        "   <rect x=\"173.3\" y=\"391.67\" width=\"8.8516\" height=\"8.8516\" fill-opacity=\".039216\"/>\n",
        "   <rect x=\"182.15\" y=\"391.67\" width=\"8.8516\" height=\"8.8516\" fill-opacity=\".078431\"/>\n",
        "   <rect x=\"191\" y=\"391.67\" width=\"8.8516\" height=\"8.8516\" fill-opacity=\".098039\"/>\n",
        "   <rect x=\"199.85\" y=\"391.67\" width=\"8.8516\" height=\"8.8516\" fill-opacity=\".11765\"/>\n",
        "   <rect x=\"208.7\" y=\"391.67\" width=\"8.8516\" height=\"8.8516\" fill-opacity=\".13725\"/>\n",
        "   <rect x=\"217.55\" y=\"391.67\" width=\"8.8516\" height=\"8.8516\" fill-opacity=\".15686\"/>\n",
        "   <rect x=\"173.3\" y=\"400.52\" width=\"8.8516\" height=\"8.8516\" fill-opacity=\".058824\"/>\n",
        "   <rect x=\"182.15\" y=\"400.52\" width=\"8.8516\" height=\"8.8516\" fill-opacity=\".078431\"/>\n",
        "   <rect x=\"191\" y=\"400.52\" width=\"8.8516\" height=\"8.8516\" fill-opacity=\".098039\"/>\n",
        "   <rect x=\"199.85\" y=\"400.52\" width=\"8.8516\" height=\"8.8516\" fill-opacity=\".11765\"/>\n",
        "   <rect x=\"208.7\" y=\"400.52\" width=\"8.8516\" height=\"8.8516\" fill-opacity=\".13725\"/>\n",
        "   <rect x=\"217.55\" y=\"400.52\" width=\"8.8516\" height=\"8.8516\" fill-opacity=\".15686\"/>\n",
        "   <rect x=\"173.3\" y=\"409.37\" width=\"8.8516\" height=\"8.8516\" fill-opacity=\".078431\"/>\n",
        "   <rect x=\"182.15\" y=\"409.37\" width=\"8.8516\" height=\"8.8516\" fill-opacity=\".098039\"/>\n",
        "   <rect x=\"191\" y=\"409.37\" width=\"8.8516\" height=\"8.8516\" fill-opacity=\".11765\"/>\n",
        "   <rect x=\"199.85\" y=\"409.37\" width=\"8.8516\" height=\"8.8516\" fill-opacity=\".13725\"/>\n",
        "   <rect x=\"208.7\" y=\"409.37\" width=\"8.8516\" height=\"8.8516\" fill-opacity=\".15686\"/>\n",
        "   <rect x=\"217.55\" y=\"409.37\" width=\"8.8516\" height=\"8.8516\" fill-opacity=\".17647\"/>\n",
        "   <rect x=\"173.3\" y=\"418.23\" width=\"8.8516\" height=\"8.8516\" fill-opacity=\".098039\"/>\n",
        "   <rect x=\"182.15\" y=\"418.23\" width=\"8.8516\" height=\"8.8516\" fill-opacity=\".13725\"/>\n",
        "   <rect x=\"191\" y=\"418.23\" width=\"8.8516\" height=\"8.8516\" fill-opacity=\".15686\"/>\n",
        "   <rect x=\"199.85\" y=\"418.23\" width=\"8.8516\" height=\"8.8516\" fill-opacity=\".17647\"/>\n",
        "   <rect x=\"208.7\" y=\"418.23\" width=\"8.8516\" height=\"8.8516\" fill-opacity=\".19608\"/>\n",
        "   <rect x=\"217.55\" y=\"418.23\" width=\"8.8516\" height=\"8.8516\" fill-opacity=\".21569\"/>\n",
        "  </g>\n",
        "  <g fill=\"#000000\" fill-opacity=\".47059\" font-family=\"'Courier New'\" font-size=\"5.9912px\" font-weight=\"bold\" letter-spacing=\"0px\" stroke-opacity=\".21739\" stroke-width=\".26458\" word-spacing=\"0px\">\n",
        "   <text x=\"166.01425\" y=\"389.74701\" style=\"font-feature-settings:normal;font-variant-caps:normal;font-variant-ligatures:normal;font-variant-numeric:normal;line-height:1.25\" xml:space=\"preserve\"><tspan x=\"166.01425\" y=\"389.74701\" fill=\"#000000\" fill-opacity=\".47059\" font-family=\"'Courier New'\" font-size=\"5.9912px\" font-weight=\"bold\" stroke-opacity=\".21739\" stroke-width=\".26458\" style=\"font-feature-settings:normal;font-variant-caps:normal;font-variant-ligatures:normal;font-variant-numeric:normal\">0</tspan></text>\n",
        "   <text x=\"165.80484\" y=\"398.83813\" style=\"font-feature-settings:normal;font-variant-caps:normal;font-variant-ligatures:normal;font-variant-numeric:normal;line-height:1.25\" xml:space=\"preserve\"><tspan x=\"165.80484\" y=\"398.83813\" fill=\"#000000\" fill-opacity=\".47059\" font-family=\"'Courier New'\" font-size=\"5.9912px\" font-weight=\"bold\" stroke-opacity=\".21739\" stroke-width=\".26458\" style=\"font-feature-settings:normal;font-variant-caps:normal;font-variant-ligatures:normal;font-variant-numeric:normal\">1</tspan></text>\n",
        "   <text x=\"165.82445\" y=\"407.34259\" style=\"font-feature-settings:normal;font-variant-caps:normal;font-variant-ligatures:normal;font-variant-numeric:normal;line-height:1.25\" xml:space=\"preserve\"><tspan x=\"165.82445\" y=\"407.34259\" fill=\"#000000\" fill-opacity=\".47059\" font-family=\"'Courier New'\" font-size=\"5.9912px\" font-weight=\"bold\" stroke-opacity=\".21739\" stroke-width=\".26458\" style=\"font-feature-settings:normal;font-variant-caps:normal;font-variant-ligatures:normal;font-variant-numeric:normal\">2</tspan></text>\n",
        "   <text x=\"165.95975\" y=\"415.94495\" style=\"font-feature-settings:normal;font-variant-caps:normal;font-variant-ligatures:normal;font-variant-numeric:normal;line-height:1.25\" xml:space=\"preserve\"><tspan x=\"165.95975\" y=\"415.94495\" fill=\"#000000\" fill-opacity=\".47059\" font-family=\"'Courier New'\" font-size=\"5.9912px\" font-weight=\"bold\" stroke-opacity=\".21739\" stroke-width=\".26458\" style=\"font-feature-settings:normal;font-variant-caps:normal;font-variant-ligatures:normal;font-variant-numeric:normal\">3</tspan></text>\n",
        "   <text x=\"165.85896\" y=\"425.10648\" style=\"font-feature-settings:normal;font-variant-caps:normal;font-variant-ligatures:normal;font-variant-numeric:normal;line-height:1.25\" xml:space=\"preserve\"><tspan x=\"165.85896\" y=\"425.10648\" fill=\"#000000\" fill-opacity=\".47059\" font-family=\"'Courier New'\" font-size=\"5.9912px\" font-weight=\"bold\" stroke-opacity=\".21739\" stroke-width=\".26458\" style=\"font-feature-settings:normal;font-variant-caps:normal;font-variant-ligatures:normal;font-variant-numeric:normal\">4</tspan></text>\n",
        "  </g>\n",
        "  <rect transform=\"scale(-1)\" x=\"-315.48\" y=\"-426.39\" width=\"8.8516\" height=\"8.8516\" fill=\"#00f\" fill-opacity=\".014493\" stroke=\"#0059d0\" stroke-linecap=\"square\" stroke-miterlimit=\"10.433\" stroke-opacity=\".12941\" stroke-width=\".669\"/>\n",
        "  <rect transform=\"scale(-1)\" x=\"-306.62\" y=\"-426.39\" width=\"8.8516\" height=\"8.8516\" fill=\"#0054ff\" fill-opacity=\".039216\" stroke=\"#0059d0\" stroke-linecap=\"square\" stroke-miterlimit=\"10.433\" stroke-opacity=\".12941\" stroke-width=\".669\"/>\n",
        "  <g stroke=\"#0059d0\" stroke-linecap=\"square\" stroke-miterlimit=\"10.433\" stroke-opacity=\".12941\" stroke-width=\".669\">\n",
        "   <rect transform=\"scale(-1)\" x=\"-297.77\" y=\"-426.39\" width=\"8.8516\" height=\"8.8516\" fill-opacity=\".058824\"/>\n",
        "   <rect transform=\"scale(-1)\" x=\"-288.92\" y=\"-426.39\" width=\"8.8516\" height=\"8.8516\" fill-opacity=\".078431\"/>\n",
        "   <rect transform=\"scale(-1)\" x=\"-280.07\" y=\"-426.39\" width=\"8.8516\" height=\"8.8516\" fill-opacity=\".098039\"/>\n",
        "   <rect transform=\"scale(-1)\" x=\"-271.22\" y=\"-426.39\" width=\"8.8516\" height=\"8.8516\" fill-opacity=\".11765\"/>\n",
        "  </g>\n",
        "  <g fill=\"#000000\" fill-opacity=\".47059\" font-family=\"'Courier New'\" font-size=\"5.9912px\" font-weight=\"bold\" letter-spacing=\"0px\" stroke-opacity=\".21739\" stroke-width=\".26458\" word-spacing=\"0px\">\n",
        "   <text x=\"265.05655\" y=\"378.87738\" style=\"font-feature-settings:normal;font-variant-caps:normal;font-variant-ligatures:normal;font-variant-numeric:normal;line-height:1.25\" xml:space=\"preserve\"><tspan x=\"265.05655\" y=\"378.87738\" fill=\"#000000\" fill-opacity=\".47059\" font-family=\"'Courier New'\" font-size=\"5.9912px\" font-weight=\"bold\" stroke-opacity=\".21739\" stroke-width=\".26458\" style=\"font-feature-settings:normal;font-variant-caps:normal;font-variant-ligatures:normal;font-variant-numeric:normal\">0</tspan></text>\n",
        "   <text x=\"274.26917\" y=\"378.87863\" style=\"font-feature-settings:normal;font-variant-caps:normal;font-variant-ligatures:normal;font-variant-numeric:normal;line-height:1.25\" xml:space=\"preserve\"><tspan x=\"274.26917\" y=\"378.87863\" fill=\"#000000\" fill-opacity=\".47059\" font-family=\"'Courier New'\" font-size=\"5.9912px\" font-weight=\"bold\" stroke-opacity=\".21739\" stroke-width=\".26458\" style=\"font-feature-settings:normal;font-variant-caps:normal;font-variant-ligatures:normal;font-variant-numeric:normal\">1</tspan></text>\n",
        "   <text x=\"282.93903\" y=\"378.90225\" style=\"font-feature-settings:normal;font-variant-caps:normal;font-variant-ligatures:normal;font-variant-numeric:normal;line-height:1.25\" xml:space=\"preserve\"><tspan x=\"282.93903\" y=\"378.90225\" fill=\"#000000\" fill-opacity=\".47059\" font-family=\"'Courier New'\" font-size=\"5.9912px\" font-weight=\"bold\" stroke-opacity=\".21739\" stroke-width=\".26458\" style=\"font-feature-settings:normal;font-variant-caps:normal;font-variant-ligatures:normal;font-variant-numeric:normal\">2</tspan></text>\n",
        "   <text x=\"291.77887\" y=\"378.78723\" style=\"font-feature-settings:normal;font-variant-caps:normal;font-variant-ligatures:normal;font-variant-numeric:normal;line-height:1.25\" xml:space=\"preserve\"><tspan x=\"291.77887\" y=\"378.78723\" fill=\"#000000\" fill-opacity=\".47059\" font-family=\"'Courier New'\" font-size=\"5.9912px\" font-weight=\"bold\" stroke-opacity=\".21739\" stroke-width=\".26458\" style=\"font-feature-settings:normal;font-variant-caps:normal;font-variant-ligatures:normal;font-variant-numeric:normal\">3</tspan></text>\n",
        "   <text x=\"300.4317\" y=\"378.90417\" style=\"font-feature-settings:normal;font-variant-caps:normal;font-variant-ligatures:normal;font-variant-numeric:normal;line-height:1.25\" xml:space=\"preserve\"><tspan x=\"300.4317\" y=\"378.90417\" fill=\"#000000\" fill-opacity=\".47059\" font-family=\"'Courier New'\" font-size=\"5.9912px\" font-weight=\"bold\" stroke-opacity=\".21739\" stroke-width=\".26458\" style=\"font-feature-settings:normal;font-variant-caps:normal;font-variant-ligatures:normal;font-variant-numeric:normal\">4</tspan></text>\n",
        "   <text x=\"309.34564\" y=\"378.82376\" style=\"font-feature-settings:normal;font-variant-caps:normal;font-variant-ligatures:normal;font-variant-numeric:normal;line-height:1.25\" xml:space=\"preserve\"><tspan x=\"309.34564\" y=\"378.82376\" fill=\"#000000\" fill-opacity=\".47059\" font-family=\"'Courier New'\" font-size=\"5.9912px\" font-weight=\"bold\" stroke-opacity=\".21739\" stroke-width=\".26458\" style=\"font-feature-settings:normal;font-variant-caps:normal;font-variant-ligatures:normal;font-variant-numeric:normal\">5</tspan></text>\n",
        "  </g>\n",
        "  <g stroke=\"#0059d0\" stroke-linecap=\"square\" stroke-miterlimit=\"10.433\" stroke-opacity=\".12941\" stroke-width=\".669\">\n",
        "   <rect transform=\"scale(-1)\" x=\"-315.48\" y=\"-417.54\" width=\"8.8516\" height=\"8.8516\" fill-opacity=\".039216\"/>\n",
        "   <rect transform=\"scale(-1)\" x=\"-306.62\" y=\"-417.54\" width=\"8.8516\" height=\"8.8516\" fill-opacity=\".078431\"/>\n",
        "   <rect transform=\"scale(-1)\" x=\"-297.77\" y=\"-417.54\" width=\"8.8516\" height=\"8.8516\" fill-opacity=\".098039\"/>\n",
        "   <rect transform=\"scale(-1)\" x=\"-288.92\" y=\"-417.54\" width=\"8.8516\" height=\"8.8516\" fill-opacity=\".11765\"/>\n",
        "   <rect transform=\"scale(-1)\" x=\"-280.07\" y=\"-417.54\" width=\"8.8516\" height=\"8.8516\" fill-opacity=\".13725\"/>\n",
        "   <rect transform=\"scale(-1)\" x=\"-271.22\" y=\"-417.54\" width=\"8.8516\" height=\"8.8516\" fill-opacity=\".15686\"/>\n",
        "   <rect transform=\"scale(-1)\" x=\"-315.48\" y=\"-408.69\" width=\"8.8516\" height=\"8.8516\" fill-opacity=\".058824\"/>\n",
        "   <rect transform=\"scale(-1)\" x=\"-306.62\" y=\"-408.69\" width=\"8.8516\" height=\"8.8516\" fill-opacity=\".078431\"/>\n",
        "   <rect transform=\"scale(-1)\" x=\"-297.77\" y=\"-408.69\" width=\"8.8516\" height=\"8.8516\" fill-opacity=\".098039\"/>\n",
        "   <rect transform=\"scale(-1)\" x=\"-288.92\" y=\"-408.69\" width=\"8.8516\" height=\"8.8516\" fill-opacity=\".11765\"/>\n",
        "   <rect transform=\"scale(-1)\" x=\"-280.07\" y=\"-408.69\" width=\"8.8516\" height=\"8.8516\" fill-opacity=\".13725\"/>\n",
        "   <rect transform=\"scale(-1)\" x=\"-271.22\" y=\"-408.69\" width=\"8.8516\" height=\"8.8516\" fill-opacity=\".15686\"/>\n",
        "   <rect transform=\"scale(-1)\" x=\"-315.48\" y=\"-399.83\" width=\"8.8516\" height=\"8.8516\" fill-opacity=\".078431\"/>\n",
        "   <rect transform=\"scale(-1)\" x=\"-306.62\" y=\"-399.83\" width=\"8.8516\" height=\"8.8516\" fill-opacity=\".098039\"/>\n",
        "   <rect transform=\"scale(-1)\" x=\"-297.77\" y=\"-399.83\" width=\"8.8516\" height=\"8.8516\" fill-opacity=\".11765\"/>\n",
        "   <rect transform=\"scale(-1)\" x=\"-288.92\" y=\"-399.83\" width=\"8.8516\" height=\"8.8516\" fill-opacity=\".13725\"/>\n",
        "   <rect transform=\"scale(-1)\" x=\"-280.07\" y=\"-399.83\" width=\"8.8516\" height=\"8.8516\" fill-opacity=\".15686\"/>\n",
        "   <rect transform=\"scale(-1)\" x=\"-271.22\" y=\"-399.83\" width=\"8.8516\" height=\"8.8516\" fill-opacity=\".17647\"/>\n",
        "   <rect transform=\"scale(-1)\" x=\"-315.48\" y=\"-390.98\" width=\"8.8516\" height=\"8.8516\" fill-opacity=\".098039\"/>\n",
        "   <rect transform=\"scale(-1)\" x=\"-306.62\" y=\"-390.98\" width=\"8.8516\" height=\"8.8516\" fill-opacity=\".13725\"/>\n",
        "   <rect transform=\"scale(-1)\" x=\"-297.77\" y=\"-390.98\" width=\"8.8516\" height=\"8.8516\" fill-opacity=\".15686\"/>\n",
        "   <rect transform=\"scale(-1)\" x=\"-288.92\" y=\"-390.98\" width=\"8.8516\" height=\"8.8516\" fill-opacity=\".17647\"/>\n",
        "   <rect transform=\"scale(-1)\" x=\"-280.07\" y=\"-390.98\" width=\"8.8516\" height=\"8.8516\" fill-opacity=\".19608\"/>\n",
        "   <rect transform=\"scale(-1)\" x=\"-271.22\" y=\"-390.98\" width=\"8.8516\" height=\"8.8516\" fill-opacity=\".21569\"/>\n",
        "  </g>\n",
        "  <g fill=\"#000000\" fill-opacity=\".47059\" font-family=\"'Courier New'\" font-size=\"5.9912px\" font-weight=\"bold\" letter-spacing=\"0px\" stroke-opacity=\".21739\" stroke-width=\".26458\" word-spacing=\"0px\">\n",
        "   <text x=\"255.08534\" y=\"389.05933\" style=\"font-feature-settings:normal;font-variant-caps:normal;font-variant-ligatures:normal;font-variant-numeric:normal;line-height:1.25\" xml:space=\"preserve\"><tspan x=\"255.08534\" y=\"389.05933\" fill=\"#000000\" fill-opacity=\".47059\" font-family=\"'Courier New'\" font-size=\"5.9912px\" font-weight=\"bold\" stroke-opacity=\".21739\" stroke-width=\".26458\" style=\"font-feature-settings:normal;font-variant-caps:normal;font-variant-ligatures:normal;font-variant-numeric:normal\">0</tspan></text>\n",
        "   <text x=\"254.87593\" y=\"398.15045\" style=\"font-feature-settings:normal;font-variant-caps:normal;font-variant-ligatures:normal;font-variant-numeric:normal;line-height:1.25\" xml:space=\"preserve\"><tspan x=\"254.87593\" y=\"398.15045\" fill=\"#000000\" fill-opacity=\".47059\" font-family=\"'Courier New'\" font-size=\"5.9912px\" font-weight=\"bold\" stroke-opacity=\".21739\" stroke-width=\".26458\" style=\"font-feature-settings:normal;font-variant-caps:normal;font-variant-ligatures:normal;font-variant-numeric:normal\">1</tspan></text>\n",
        "   <text x=\"254.89554\" y=\"406.65491\" style=\"font-feature-settings:normal;font-variant-caps:normal;font-variant-ligatures:normal;font-variant-numeric:normal;line-height:1.25\" xml:space=\"preserve\"><tspan x=\"254.89554\" y=\"406.65491\" fill=\"#000000\" fill-opacity=\".47059\" font-family=\"'Courier New'\" font-size=\"5.9912px\" font-weight=\"bold\" stroke-opacity=\".21739\" stroke-width=\".26458\" style=\"font-feature-settings:normal;font-variant-caps:normal;font-variant-ligatures:normal;font-variant-numeric:normal\">2</tspan></text>\n",
        "   <text x=\"255.03084\" y=\"415.25726\" style=\"font-feature-settings:normal;font-variant-caps:normal;font-variant-ligatures:normal;font-variant-numeric:normal;line-height:1.25\" xml:space=\"preserve\"><tspan x=\"255.03084\" y=\"415.25726\" fill=\"#000000\" fill-opacity=\".47059\" font-family=\"'Courier New'\" font-size=\"5.9912px\" font-weight=\"bold\" stroke-opacity=\".21739\" stroke-width=\".26458\" style=\"font-feature-settings:normal;font-variant-caps:normal;font-variant-ligatures:normal;font-variant-numeric:normal\">3</tspan></text>\n",
        "   <text x=\"254.93005\" y=\"424.41879\" style=\"font-feature-settings:normal;font-variant-caps:normal;font-variant-ligatures:normal;font-variant-numeric:normal;line-height:1.25\" xml:space=\"preserve\"><tspan x=\"254.93005\" y=\"424.41879\" fill=\"#000000\" fill-opacity=\".47059\" font-family=\"'Courier New'\" font-size=\"5.9912px\" font-weight=\"bold\" stroke-opacity=\".21739\" stroke-width=\".26458\" style=\"font-feature-settings:normal;font-variant-caps:normal;font-variant-ligatures:normal;font-variant-numeric:normal\">4</tspan></text>\n",
        "  </g>\n",
        "  <path d=\"m238.54 404.65h8.5526\" fill=\"none\" marker-end=\"url(#a)\" stroke=\"#000\" stroke-opacity=\".55072\" stroke-width=\".465\"/>\n",
        " </g>\n",
        "</svg>\n",
        "'''\n",
        "\n",
        "draw_tbl([['code', 'result'],\n",
        "          ['x2[:4, :5]', str_ex_8],\n",
        "          ['x2[::2,:3]', str_ex_9],\n",
        "          ['x2[0, :]', str_ex_10],\n",
        "          ['x2[0]', str_ex_10],\n",
        "          ['x2[:, 0]', str_ex_11],\n",
        "          ['x2[::-1, ::-1]', str_ex_12]])"
      ],
      "execution_count": 0,
      "outputs": [
        {
          "output_type": "display_data",
          "data": {
            "text/html": [
              "\n",
              "<style>\n",
              ".bigtable {\n",
              "  border-collapse: collapse;\n",
              "}\n",
              "\n",
              ".bigtd {\n",
              "  border: 3px solid #f900003f;\n",
              "  min-width:30px;\n",
              "  height: 30px;\n",
              "  position: relative; \n",
              "  text-align:center; \n",
              "  color: #474747;\n",
              "  font-size:20px;\n",
              "  font-weight: bolder;\n",
              "  padding: 19px;\n",
              "}\n",
              "\n",
              "</style>\n",
              "<table class=\"bigtable\">\n",
              "<tr>\n",
              "\t<td class=\"bigtd\">code</td><td class=\"bigtd\">result</td>\n",
              "</tr>\n",
              "<tr>\n",
              "\t<td class=\"bigtd\">x2[:4, :5]</td><td class=\"bigtd\">\n",
              "<svg width=\"60.594mm\" height=\"51.819mm\" version=\"1.1\" viewBox=\"0 0 60.594 51.819\" xmlns=\"http://www.w3.org/2000/svg\">\n",
              " <g transform=\"translate(-32.51 -300.31)\">\n",
              "  <g fill=\"#0054ff\" fill-opacity=\".15942\" stroke=\"#0059d0\" stroke-linecap=\"square\" stroke-miterlimit=\"10.433\" stroke-opacity=\".12941\" stroke-width=\".669\">\n",
              "   <rect x=\"39.659\" y=\"307.54\" width=\"8.8516\" height=\"8.8516\"/>\n",
              "   <rect x=\"48.511\" y=\"307.54\" width=\"8.8516\" height=\"8.8516\"/>\n",
              "   <rect x=\"57.363\" y=\"307.54\" width=\"8.8516\" height=\"8.8516\"/>\n",
              "   <rect x=\"66.214\" y=\"307.54\" width=\"8.8516\" height=\"8.8516\"/>\n",
              "   <rect x=\"75.066\" y=\"307.54\" width=\"8.8516\" height=\"8.8516\"/>\n",
              "  </g>\n",
              "  <rect x=\"83.918\" y=\"307.54\" width=\"8.8516\" height=\"8.8516\" fill-opacity=\"0\" stroke=\"#0059d0\" stroke-linecap=\"square\" stroke-miterlimit=\"10.433\" stroke-opacity=\".12941\" stroke-width=\".669\"/>\n",
              "  <g fill=\"#000000\" fill-opacity=\".47059\" font-family=\"'Courier New'\" font-size=\"5.9912px\" font-weight=\"bold\" letter-spacing=\"0px\" stroke-opacity=\".21739\" stroke-width=\".26458\" word-spacing=\"0px\">\n",
              "   <text x=\"42.349182\" y=\"304.28363\" style=\"font-feature-settings:normal;font-variant-caps:normal;font-variant-ligatures:normal;font-variant-numeric:normal;line-height:1.25\" xml:space=\"preserve\"><tspan x=\"42.349182\" y=\"304.28363\" fill=\"#000000\" fill-opacity=\".47059\" font-family=\"'Courier New'\" font-size=\"5.9912px\" font-weight=\"bold\" stroke-opacity=\".21739\" stroke-width=\".26458\" style=\"font-feature-settings:normal;font-variant-caps:normal;font-variant-ligatures:normal;font-variant-numeric:normal\">0</tspan></text>\n",
              "   <text x=\"51.561813\" y=\"304.28488\" style=\"font-feature-settings:normal;font-variant-caps:normal;font-variant-ligatures:normal;font-variant-numeric:normal;line-height:1.25\" xml:space=\"preserve\"><tspan x=\"51.561813\" y=\"304.28488\" fill=\"#000000\" fill-opacity=\".47059\" font-family=\"'Courier New'\" font-size=\"5.9912px\" font-weight=\"bold\" stroke-opacity=\".21739\" stroke-width=\".26458\" style=\"font-feature-settings:normal;font-variant-caps:normal;font-variant-ligatures:normal;font-variant-numeric:normal\">1</tspan></text>\n",
              "   <text x=\"60.231644\" y=\"304.3085\" style=\"font-feature-settings:normal;font-variant-caps:normal;font-variant-ligatures:normal;font-variant-numeric:normal;line-height:1.25\" xml:space=\"preserve\"><tspan x=\"60.231644\" y=\"304.3085\" fill=\"#000000\" fill-opacity=\".47059\" font-family=\"'Courier New'\" font-size=\"5.9912px\" font-weight=\"bold\" stroke-opacity=\".21739\" stroke-width=\".26458\" style=\"font-feature-settings:normal;font-variant-caps:normal;font-variant-ligatures:normal;font-variant-numeric:normal\">2</tspan></text>\n",
              "   <text x=\"69.071487\" y=\"304.19348\" style=\"font-feature-settings:normal;font-variant-caps:normal;font-variant-ligatures:normal;font-variant-numeric:normal;line-height:1.25\" xml:space=\"preserve\"><tspan x=\"69.071487\" y=\"304.19348\" fill=\"#000000\" fill-opacity=\".47059\" font-family=\"'Courier New'\" font-size=\"5.9912px\" font-weight=\"bold\" stroke-opacity=\".21739\" stroke-width=\".26458\" style=\"font-feature-settings:normal;font-variant-caps:normal;font-variant-ligatures:normal;font-variant-numeric:normal\">3</tspan></text>\n",
              "   <text x=\"77.724342\" y=\"304.31042\" style=\"font-feature-settings:normal;font-variant-caps:normal;font-variant-ligatures:normal;font-variant-numeric:normal;line-height:1.25\" xml:space=\"preserve\"><tspan x=\"77.724342\" y=\"304.31042\" fill=\"#000000\" fill-opacity=\".47059\" font-family=\"'Courier New'\" font-size=\"5.9912px\" font-weight=\"bold\" stroke-opacity=\".21739\" stroke-width=\".26458\" style=\"font-feature-settings:normal;font-variant-caps:normal;font-variant-ligatures:normal;font-variant-numeric:normal\">4</tspan></text>\n",
              "   <text x=\"86.638275\" y=\"304.23001\" style=\"font-feature-settings:normal;font-variant-caps:normal;font-variant-ligatures:normal;font-variant-numeric:normal;line-height:1.25\" xml:space=\"preserve\"><tspan x=\"86.638275\" y=\"304.23001\" fill=\"#000000\" fill-opacity=\".47059\" font-family=\"'Courier New'\" font-size=\"5.9912px\" font-weight=\"bold\" stroke-opacity=\".21739\" stroke-width=\".26458\" style=\"font-feature-settings:normal;font-variant-caps:normal;font-variant-ligatures:normal;font-variant-numeric:normal\">5</tspan></text>\n",
              "  </g>\n",
              "  <g fill=\"#0054ff\" fill-opacity=\".15942\" stroke=\"#0059d0\" stroke-linecap=\"square\" stroke-miterlimit=\"10.433\" stroke-opacity=\".12941\" stroke-width=\".669\">\n",
              "   <rect x=\"39.659\" y=\"316.39\" width=\"8.8516\" height=\"8.8516\"/>\n",
              "   <rect x=\"48.511\" y=\"316.39\" width=\"8.8516\" height=\"8.8516\"/>\n",
              "   <rect x=\"57.363\" y=\"316.39\" width=\"8.8516\" height=\"8.8516\"/>\n",
              "   <rect x=\"66.214\" y=\"316.39\" width=\"8.8516\" height=\"8.8516\"/>\n",
              "   <rect x=\"75.066\" y=\"316.39\" width=\"8.8516\" height=\"8.8516\"/>\n",
              "  </g>\n",
              "  <rect x=\"83.918\" y=\"316.39\" width=\"8.8516\" height=\"8.8516\" fill-opacity=\"0\" stroke=\"#0059d0\" stroke-linecap=\"square\" stroke-miterlimit=\"10.433\" stroke-opacity=\".12941\" stroke-width=\".669\"/>\n",
              "  <g fill=\"#0054ff\" fill-opacity=\".15942\" stroke=\"#0059d0\" stroke-linecap=\"square\" stroke-miterlimit=\"10.433\" stroke-opacity=\".12941\" stroke-width=\".669\">\n",
              "   <rect x=\"39.659\" y=\"325.24\" width=\"8.8516\" height=\"8.8516\"/>\n",
              "   <rect x=\"48.511\" y=\"325.24\" width=\"8.8516\" height=\"8.8516\"/>\n",
              "   <rect x=\"57.363\" y=\"325.24\" width=\"8.8516\" height=\"8.8516\"/>\n",
              "   <rect x=\"66.214\" y=\"325.24\" width=\"8.8516\" height=\"8.8516\"/>\n",
              "   <rect x=\"75.066\" y=\"325.24\" width=\"8.8516\" height=\"8.8516\"/>\n",
              "  </g>\n",
              "  <rect x=\"83.918\" y=\"325.24\" width=\"8.8516\" height=\"8.8516\" fill-opacity=\"0\" stroke=\"#0059d0\" stroke-linecap=\"square\" stroke-miterlimit=\"10.433\" stroke-opacity=\".12941\" stroke-width=\".669\"/>\n",
              "  <g fill=\"#0054ff\" fill-opacity=\".15942\" stroke=\"#0059d0\" stroke-linecap=\"square\" stroke-miterlimit=\"10.433\" stroke-opacity=\".12941\" stroke-width=\".669\">\n",
              "   <rect x=\"39.659\" y=\"334.09\" width=\"8.8516\" height=\"8.8516\"/>\n",
              "   <rect x=\"48.511\" y=\"334.09\" width=\"8.8516\" height=\"8.8516\"/>\n",
              "   <rect x=\"57.363\" y=\"334.09\" width=\"8.8516\" height=\"8.8516\"/>\n",
              "   <rect x=\"66.214\" y=\"334.09\" width=\"8.8516\" height=\"8.8516\"/>\n",
              "   <rect x=\"75.066\" y=\"334.09\" width=\"8.8516\" height=\"8.8516\"/>\n",
              "  </g>\n",
              "  <g fill-opacity=\"0\" stroke=\"#0059d0\" stroke-linecap=\"square\" stroke-miterlimit=\"10.433\" stroke-opacity=\".12941\" stroke-width=\".669\">\n",
              "   <rect x=\"83.918\" y=\"334.09\" width=\"8.8516\" height=\"8.8516\"/>\n",
              "   <rect x=\"39.659\" y=\"342.94\" width=\"8.8516\" height=\"8.8516\"/>\n",
              "   <rect x=\"48.511\" y=\"342.94\" width=\"8.8516\" height=\"8.8516\"/>\n",
              "   <rect x=\"57.363\" y=\"342.94\" width=\"8.8516\" height=\"8.8516\"/>\n",
              "   <rect x=\"66.214\" y=\"342.94\" width=\"8.8516\" height=\"8.8516\"/>\n",
              "   <rect x=\"75.066\" y=\"342.94\" width=\"8.8516\" height=\"8.8516\"/>\n",
              "   <rect x=\"83.918\" y=\"342.94\" width=\"8.8516\" height=\"8.8516\"/>\n",
              "  </g>\n",
              "  <g fill=\"#000000\" fill-opacity=\".47059\" font-family=\"'Courier New'\" font-size=\"5.9912px\" font-weight=\"bold\" letter-spacing=\"0px\" stroke-opacity=\".21739\" stroke-width=\".26458\" word-spacing=\"0px\">\n",
              "   <text x=\"32.377968\" y=\"314.46558\" style=\"font-feature-settings:normal;font-variant-caps:normal;font-variant-ligatures:normal;font-variant-numeric:normal;line-height:1.25\" xml:space=\"preserve\"><tspan x=\"32.377968\" y=\"314.46558\" fill=\"#000000\" fill-opacity=\".47059\" font-family=\"'Courier New'\" font-size=\"5.9912px\" font-weight=\"bold\" stroke-opacity=\".21739\" stroke-width=\".26458\" style=\"font-feature-settings:normal;font-variant-caps:normal;font-variant-ligatures:normal;font-variant-numeric:normal\">0</tspan></text>\n",
              "   <text x=\"32.168564\" y=\"323.5567\" style=\"font-feature-settings:normal;font-variant-caps:normal;font-variant-ligatures:normal;font-variant-numeric:normal;line-height:1.25\" xml:space=\"preserve\"><tspan x=\"32.168564\" y=\"323.5567\" fill=\"#000000\" fill-opacity=\".47059\" font-family=\"'Courier New'\" font-size=\"5.9912px\" font-weight=\"bold\" stroke-opacity=\".21739\" stroke-width=\".26458\" style=\"font-feature-settings:normal;font-variant-caps:normal;font-variant-ligatures:normal;font-variant-numeric:normal\">1</tspan></text>\n",
              "   <text x=\"32.18816\" y=\"332.06116\" style=\"font-feature-settings:normal;font-variant-caps:normal;font-variant-ligatures:normal;font-variant-numeric:normal;line-height:1.25\" xml:space=\"preserve\"><tspan x=\"32.18816\" y=\"332.06116\" fill=\"#000000\" fill-opacity=\".47059\" font-family=\"'Courier New'\" font-size=\"5.9912px\" font-weight=\"bold\" stroke-opacity=\".21739\" stroke-width=\".26458\" style=\"font-feature-settings:normal;font-variant-caps:normal;font-variant-ligatures:normal;font-variant-numeric:normal\">2</tspan></text>\n",
              "   <text x=\"32.323467\" y=\"340.66351\" style=\"font-feature-settings:normal;font-variant-caps:normal;font-variant-ligatures:normal;font-variant-numeric:normal;line-height:1.25\" xml:space=\"preserve\"><tspan x=\"32.323467\" y=\"340.66351\" fill=\"#000000\" fill-opacity=\".47059\" font-family=\"'Courier New'\" font-size=\"5.9912px\" font-weight=\"bold\" stroke-opacity=\".21739\" stroke-width=\".26458\" style=\"font-feature-settings:normal;font-variant-caps:normal;font-variant-ligatures:normal;font-variant-numeric:normal\">3</tspan></text>\n",
              "   <text x=\"32.222683\" y=\"349.82504\" style=\"font-feature-settings:normal;font-variant-caps:normal;font-variant-ligatures:normal;font-variant-numeric:normal;line-height:1.25\" xml:space=\"preserve\"><tspan x=\"32.222683\" y=\"349.82504\" fill=\"#000000\" fill-opacity=\".47059\" font-family=\"'Courier New'\" font-size=\"5.9912px\" font-weight=\"bold\" stroke-opacity=\".21739\" stroke-width=\".26458\" style=\"font-feature-settings:normal;font-variant-caps:normal;font-variant-ligatures:normal;font-variant-numeric:normal\">4</tspan></text>\n",
              "  </g>\n",
              " </g>\n",
              "</svg>\n",
              "</td>\n",
              "</tr>\n",
              "<tr>\n",
              "\t<td class=\"bigtd\">x2[::2,:3]</td><td class=\"bigtd\">\n",
              "<svg width=\"60.594mm\" height=\"51.819mm\" version=\"1.1\" viewBox=\"0 0 60.594 51.819\" xmlns=\"http://www.w3.org/2000/svg\">\n",
              " <g transform=\"translate(-168.18 -300.1)\">\n",
              "  <g fill=\"#0054ff\" fill-opacity=\".15942\" stroke=\"#0059d0\" stroke-linecap=\"square\" stroke-miterlimit=\"10.433\" stroke-opacity=\".12941\" stroke-width=\".669\">\n",
              "   <rect x=\"175.33\" y=\"307.32\" width=\"8.8516\" height=\"8.8516\"/>\n",
              "   <rect x=\"184.18\" y=\"307.32\" width=\"8.8516\" height=\"8.8516\"/>\n",
              "   <rect x=\"193.03\" y=\"307.32\" width=\"8.8516\" height=\"8.8516\"/>\n",
              "  </g>\n",
              "  <g fill-opacity=\"0\" stroke=\"#0059d0\" stroke-linecap=\"square\" stroke-miterlimit=\"10.433\" stroke-opacity=\".12941\" stroke-width=\".669\">\n",
              "   <rect x=\"201.88\" y=\"307.32\" width=\"8.8516\" height=\"8.8516\"/>\n",
              "   <rect x=\"210.73\" y=\"307.32\" width=\"8.8516\" height=\"8.8516\"/>\n",
              "   <rect x=\"219.59\" y=\"307.32\" width=\"8.8516\" height=\"8.8516\"/>\n",
              "  </g>\n",
              "  <g fill=\"#000000\" fill-opacity=\".47059\" font-family=\"'Courier New'\" font-size=\"5.9912px\" font-weight=\"bold\" letter-spacing=\"0px\" stroke-opacity=\".21739\" stroke-width=\".26458\" word-spacing=\"0px\">\n",
              "   <text x=\"178.01706\" y=\"304.07059\" style=\"font-feature-settings:normal;font-variant-caps:normal;font-variant-ligatures:normal;font-variant-numeric:normal;line-height:1.25\" xml:space=\"preserve\"><tspan x=\"178.01706\" y=\"304.07059\" fill=\"#000000\" fill-opacity=\".47059\" font-family=\"'Courier New'\" font-size=\"5.9912px\" font-weight=\"bold\" stroke-opacity=\".21739\" stroke-width=\".26458\" style=\"font-feature-settings:normal;font-variant-caps:normal;font-variant-ligatures:normal;font-variant-numeric:normal\">0</tspan></text>\n",
              "   <text x=\"187.22969\" y=\"304.07184\" style=\"font-feature-settings:normal;font-variant-caps:normal;font-variant-ligatures:normal;font-variant-numeric:normal;line-height:1.25\" xml:space=\"preserve\"><tspan x=\"187.22969\" y=\"304.07184\" fill=\"#000000\" fill-opacity=\".47059\" font-family=\"'Courier New'\" font-size=\"5.9912px\" font-weight=\"bold\" stroke-opacity=\".21739\" stroke-width=\".26458\" style=\"font-feature-settings:normal;font-variant-caps:normal;font-variant-ligatures:normal;font-variant-numeric:normal\">1</tspan></text>\n",
              "   <text x=\"195.89952\" y=\"304.09546\" style=\"font-feature-settings:normal;font-variant-caps:normal;font-variant-ligatures:normal;font-variant-numeric:normal;line-height:1.25\" xml:space=\"preserve\"><tspan x=\"195.89952\" y=\"304.09546\" fill=\"#000000\" fill-opacity=\".47059\" font-family=\"'Courier New'\" font-size=\"5.9912px\" font-weight=\"bold\" stroke-opacity=\".21739\" stroke-width=\".26458\" style=\"font-feature-settings:normal;font-variant-caps:normal;font-variant-ligatures:normal;font-variant-numeric:normal\">2</tspan></text>\n",
              "   <text x=\"204.73936\" y=\"303.98044\" style=\"font-feature-settings:normal;font-variant-caps:normal;font-variant-ligatures:normal;font-variant-numeric:normal;line-height:1.25\" xml:space=\"preserve\"><tspan x=\"204.73936\" y=\"303.98044\" fill=\"#000000\" fill-opacity=\".47059\" font-family=\"'Courier New'\" font-size=\"5.9912px\" font-weight=\"bold\" stroke-opacity=\".21739\" stroke-width=\".26458\" style=\"font-feature-settings:normal;font-variant-caps:normal;font-variant-ligatures:normal;font-variant-numeric:normal\">3</tspan></text>\n",
              "   <text x=\"213.39223\" y=\"304.09738\" style=\"font-feature-settings:normal;font-variant-caps:normal;font-variant-ligatures:normal;font-variant-numeric:normal;line-height:1.25\" xml:space=\"preserve\"><tspan x=\"213.39223\" y=\"304.09738\" fill=\"#000000\" fill-opacity=\".47059\" font-family=\"'Courier New'\" font-size=\"5.9912px\" font-weight=\"bold\" stroke-opacity=\".21739\" stroke-width=\".26458\" style=\"font-feature-settings:normal;font-variant-caps:normal;font-variant-ligatures:normal;font-variant-numeric:normal\">4</tspan></text>\n",
              "   <text x=\"222.30615\" y=\"304.01697\" style=\"font-feature-settings:normal;font-variant-caps:normal;font-variant-ligatures:normal;font-variant-numeric:normal;line-height:1.25\" xml:space=\"preserve\"><tspan x=\"222.30615\" y=\"304.01697\" fill=\"#000000\" fill-opacity=\".47059\" font-family=\"'Courier New'\" font-size=\"5.9912px\" font-weight=\"bold\" stroke-opacity=\".21739\" stroke-width=\".26458\" style=\"font-feature-settings:normal;font-variant-caps:normal;font-variant-ligatures:normal;font-variant-numeric:normal\">5</tspan></text>\n",
              "  </g>\n",
              "  <g fill-opacity=\"0\" stroke=\"#0059d0\" stroke-linecap=\"square\" stroke-miterlimit=\"10.433\" stroke-opacity=\".12941\" stroke-width=\".669\">\n",
              "   <rect x=\"175.33\" y=\"316.18\" width=\"8.8516\" height=\"8.8516\"/>\n",
              "   <rect x=\"184.18\" y=\"316.18\" width=\"8.8516\" height=\"8.8516\"/>\n",
              "   <rect x=\"193.03\" y=\"316.18\" width=\"8.8516\" height=\"8.8516\"/>\n",
              "   <rect x=\"201.88\" y=\"316.18\" width=\"8.8516\" height=\"8.8516\"/>\n",
              "   <rect x=\"210.73\" y=\"316.18\" width=\"8.8516\" height=\"8.8516\"/>\n",
              "   <rect x=\"219.59\" y=\"316.18\" width=\"8.8516\" height=\"8.8516\"/>\n",
              "  </g>\n",
              "  <g fill=\"#0054ff\" fill-opacity=\".15942\" stroke=\"#0059d0\" stroke-linecap=\"square\" stroke-miterlimit=\"10.433\" stroke-opacity=\".12941\" stroke-width=\".669\">\n",
              "   <rect x=\"175.33\" y=\"325.03\" width=\"8.8516\" height=\"8.8516\"/>\n",
              "   <rect x=\"184.18\" y=\"325.03\" width=\"8.8516\" height=\"8.8516\"/>\n",
              "   <rect x=\"193.03\" y=\"325.03\" width=\"8.8516\" height=\"8.8516\"/>\n",
              "  </g>\n",
              "  <g fill-opacity=\"0\" stroke=\"#0059d0\" stroke-linecap=\"square\" stroke-miterlimit=\"10.433\" stroke-opacity=\".12941\" stroke-width=\".669\">\n",
              "   <rect x=\"201.88\" y=\"325.03\" width=\"8.8516\" height=\"8.8516\"/>\n",
              "   <rect x=\"210.73\" y=\"325.03\" width=\"8.8516\" height=\"8.8516\"/>\n",
              "   <rect x=\"219.59\" y=\"325.03\" width=\"8.8516\" height=\"8.8516\"/>\n",
              "   <rect x=\"175.33\" y=\"333.88\" width=\"8.8516\" height=\"8.8516\"/>\n",
              "   <rect x=\"184.18\" y=\"333.88\" width=\"8.8516\" height=\"8.8516\"/>\n",
              "   <rect x=\"193.03\" y=\"333.88\" width=\"8.8516\" height=\"8.8516\"/>\n",
              "   <rect x=\"201.88\" y=\"333.88\" width=\"8.8516\" height=\"8.8516\"/>\n",
              "   <rect x=\"210.73\" y=\"333.88\" width=\"8.8516\" height=\"8.8516\"/>\n",
              "   <rect x=\"219.59\" y=\"333.88\" width=\"8.8516\" height=\"8.8516\"/>\n",
              "  </g>\n",
              "  <g fill=\"#0054ff\" fill-opacity=\".16078\" stroke=\"#0059d0\" stroke-linecap=\"square\" stroke-miterlimit=\"10.433\" stroke-opacity=\".12941\" stroke-width=\".669\">\n",
              "   <rect x=\"175.33\" y=\"342.73\" width=\"8.8516\" height=\"8.8516\"/>\n",
              "   <rect x=\"184.18\" y=\"342.73\" width=\"8.8516\" height=\"8.8516\"/>\n",
              "   <rect x=\"193.03\" y=\"342.73\" width=\"8.8516\" height=\"8.8516\"/>\n",
              "  </g>\n",
              "  <g fill-opacity=\"0\" stroke=\"#0059d0\" stroke-linecap=\"square\" stroke-miterlimit=\"10.433\" stroke-opacity=\".12941\" stroke-width=\".669\">\n",
              "   <rect x=\"201.88\" y=\"342.73\" width=\"8.8516\" height=\"8.8516\"/>\n",
              "   <rect x=\"210.73\" y=\"342.73\" width=\"8.8516\" height=\"8.8516\"/>\n",
              "   <rect x=\"219.59\" y=\"342.73\" width=\"8.8516\" height=\"8.8516\"/>\n",
              "  </g>\n",
              "  <g fill=\"#000000\" fill-opacity=\".47059\" font-family=\"'Courier New'\" font-size=\"5.9912px\" font-weight=\"bold\" letter-spacing=\"0px\" stroke-opacity=\".21739\" stroke-width=\".26458\" word-spacing=\"0px\">\n",
              "   <text x=\"168.04585\" y=\"314.25253\" style=\"font-feature-settings:normal;font-variant-caps:normal;font-variant-ligatures:normal;font-variant-numeric:normal;line-height:1.25\" xml:space=\"preserve\"><tspan x=\"168.04585\" y=\"314.25253\" fill=\"#000000\" fill-opacity=\".47059\" font-family=\"'Courier New'\" font-size=\"5.9912px\" font-weight=\"bold\" stroke-opacity=\".21739\" stroke-width=\".26458\" style=\"font-feature-settings:normal;font-variant-caps:normal;font-variant-ligatures:normal;font-variant-numeric:normal\">0</tspan></text>\n",
              "   <text x=\"167.83644\" y=\"323.34366\" style=\"font-feature-settings:normal;font-variant-caps:normal;font-variant-ligatures:normal;font-variant-numeric:normal;line-height:1.25\" xml:space=\"preserve\"><tspan x=\"167.83644\" y=\"323.34366\" fill=\"#000000\" fill-opacity=\".47059\" font-family=\"'Courier New'\" font-size=\"5.9912px\" font-weight=\"bold\" stroke-opacity=\".21739\" stroke-width=\".26458\" style=\"font-feature-settings:normal;font-variant-caps:normal;font-variant-ligatures:normal;font-variant-numeric:normal\">1</tspan></text>\n",
              "   <text x=\"167.85605\" y=\"331.84811\" style=\"font-feature-settings:normal;font-variant-caps:normal;font-variant-ligatures:normal;font-variant-numeric:normal;line-height:1.25\" xml:space=\"preserve\"><tspan x=\"167.85605\" y=\"331.84811\" fill=\"#000000\" fill-opacity=\".47059\" font-family=\"'Courier New'\" font-size=\"5.9912px\" font-weight=\"bold\" stroke-opacity=\".21739\" stroke-width=\".26458\" style=\"font-feature-settings:normal;font-variant-caps:normal;font-variant-ligatures:normal;font-variant-numeric:normal\">2</tspan></text>\n",
              "   <text x=\"167.99135\" y=\"340.45047\" style=\"font-feature-settings:normal;font-variant-caps:normal;font-variant-ligatures:normal;font-variant-numeric:normal;line-height:1.25\" xml:space=\"preserve\"><tspan x=\"167.99135\" y=\"340.45047\" fill=\"#000000\" fill-opacity=\".47059\" font-family=\"'Courier New'\" font-size=\"5.9912px\" font-weight=\"bold\" stroke-opacity=\".21739\" stroke-width=\".26458\" style=\"font-feature-settings:normal;font-variant-caps:normal;font-variant-ligatures:normal;font-variant-numeric:normal\">3</tspan></text>\n",
              "   <text x=\"167.89056\" y=\"349.612\" style=\"font-feature-settings:normal;font-variant-caps:normal;font-variant-ligatures:normal;font-variant-numeric:normal;line-height:1.25\" xml:space=\"preserve\"><tspan x=\"167.89056\" y=\"349.612\" fill=\"#000000\" fill-opacity=\".47059\" font-family=\"'Courier New'\" font-size=\"5.9912px\" font-weight=\"bold\" stroke-opacity=\".21739\" stroke-width=\".26458\" style=\"font-feature-settings:normal;font-variant-caps:normal;font-variant-ligatures:normal;font-variant-numeric:normal\">4</tspan></text>\n",
              "  </g>\n",
              " </g>\n",
              "</svg>\n",
              "</td>\n",
              "</tr>\n",
              "<tr>\n",
              "\t<td class=\"bigtd\">x2[0, :]</td><td class=\"bigtd\">\n",
              "<svg width=\"60.594mm\" height=\"51.819mm\" version=\"1.1\" viewBox=\"0 0 60.594 51.819\" xmlns=\"http://www.w3.org/2000/svg\">\n",
              " <g transform=\"translate(-32.138 -376.8)\">\n",
              "  <g fill=\"#0054ff\" fill-opacity=\".16078\" stroke=\"#0059d0\" stroke-linecap=\"square\" stroke-miterlimit=\"10.433\" stroke-opacity=\".12941\" stroke-width=\".669\">\n",
              "   <rect x=\"39.287\" y=\"384.03\" width=\"8.8516\" height=\"8.8516\"/>\n",
              "   <rect x=\"48.139\" y=\"384.03\" width=\"8.8516\" height=\"8.8516\"/>\n",
              "   <rect x=\"56.99\" y=\"384.03\" width=\"8.8516\" height=\"8.8516\"/>\n",
              "   <rect x=\"65.842\" y=\"384.03\" width=\"8.8516\" height=\"8.8516\"/>\n",
              "   <rect x=\"74.694\" y=\"384.03\" width=\"8.8516\" height=\"8.8516\"/>\n",
              "   <rect x=\"83.545\" y=\"384.03\" width=\"8.8516\" height=\"8.8516\"/>\n",
              "  </g>\n",
              "  <g fill=\"#000000\" fill-opacity=\".47059\" font-family=\"'Courier New'\" font-size=\"5.9912px\" font-weight=\"bold\" letter-spacing=\"0px\" stroke-opacity=\".21739\" stroke-width=\".26458\" word-spacing=\"0px\">\n",
              "   <text x=\"41.976875\" y=\"380.77695\" style=\"font-feature-settings:normal;font-variant-caps:normal;font-variant-ligatures:normal;font-variant-numeric:normal;line-height:1.25\" xml:space=\"preserve\"><tspan x=\"41.976875\" y=\"380.77695\" fill=\"#000000\" fill-opacity=\".47059\" font-family=\"'Courier New'\" font-size=\"5.9912px\" font-weight=\"bold\" stroke-opacity=\".21739\" stroke-width=\".26458\" style=\"font-feature-settings:normal;font-variant-caps:normal;font-variant-ligatures:normal;font-variant-numeric:normal\">0</tspan></text>\n",
              "   <text x=\"51.189507\" y=\"380.7782\" style=\"font-feature-settings:normal;font-variant-caps:normal;font-variant-ligatures:normal;font-variant-numeric:normal;line-height:1.25\" xml:space=\"preserve\"><tspan x=\"51.189507\" y=\"380.7782\" fill=\"#000000\" fill-opacity=\".47059\" font-family=\"'Courier New'\" font-size=\"5.9912px\" font-weight=\"bold\" stroke-opacity=\".21739\" stroke-width=\".26458\" style=\"font-feature-settings:normal;font-variant-caps:normal;font-variant-ligatures:normal;font-variant-numeric:normal\">1</tspan></text>\n",
              "   <text x=\"59.859337\" y=\"380.80182\" style=\"font-feature-settings:normal;font-variant-caps:normal;font-variant-ligatures:normal;font-variant-numeric:normal;line-height:1.25\" xml:space=\"preserve\"><tspan x=\"59.859337\" y=\"380.80182\" fill=\"#000000\" fill-opacity=\".47059\" font-family=\"'Courier New'\" font-size=\"5.9912px\" font-weight=\"bold\" stroke-opacity=\".21739\" stroke-width=\".26458\" style=\"font-feature-settings:normal;font-variant-caps:normal;font-variant-ligatures:normal;font-variant-numeric:normal\">2</tspan></text>\n",
              "   <text x=\"68.699181\" y=\"380.6868\" style=\"font-feature-settings:normal;font-variant-caps:normal;font-variant-ligatures:normal;font-variant-numeric:normal;line-height:1.25\" xml:space=\"preserve\"><tspan x=\"68.699181\" y=\"380.6868\" fill=\"#000000\" fill-opacity=\".47059\" font-family=\"'Courier New'\" font-size=\"5.9912px\" font-weight=\"bold\" stroke-opacity=\".21739\" stroke-width=\".26458\" style=\"font-feature-settings:normal;font-variant-caps:normal;font-variant-ligatures:normal;font-variant-numeric:normal\">3</tspan></text>\n",
              "   <text x=\"77.352036\" y=\"380.80374\" style=\"font-feature-settings:normal;font-variant-caps:normal;font-variant-ligatures:normal;font-variant-numeric:normal;line-height:1.25\" xml:space=\"preserve\"><tspan x=\"77.352036\" y=\"380.80374\" fill=\"#000000\" fill-opacity=\".47059\" font-family=\"'Courier New'\" font-size=\"5.9912px\" font-weight=\"bold\" stroke-opacity=\".21739\" stroke-width=\".26458\" style=\"font-feature-settings:normal;font-variant-caps:normal;font-variant-ligatures:normal;font-variant-numeric:normal\">4</tspan></text>\n",
              "   <text x=\"86.265968\" y=\"380.72333\" style=\"font-feature-settings:normal;font-variant-caps:normal;font-variant-ligatures:normal;font-variant-numeric:normal;line-height:1.25\" xml:space=\"preserve\"><tspan x=\"86.265968\" y=\"380.72333\" fill=\"#000000\" fill-opacity=\".47059\" font-family=\"'Courier New'\" font-size=\"5.9912px\" font-weight=\"bold\" stroke-opacity=\".21739\" stroke-width=\".26458\" style=\"font-feature-settings:normal;font-variant-caps:normal;font-variant-ligatures:normal;font-variant-numeric:normal\">5</tspan></text>\n",
              "  </g>\n",
              "  <g fill-opacity=\"0\" stroke=\"#0059d0\" stroke-linecap=\"square\" stroke-miterlimit=\"10.433\" stroke-opacity=\".12941\" stroke-width=\".669\">\n",
              "   <rect x=\"39.287\" y=\"392.88\" width=\"8.8516\" height=\"8.8516\"/>\n",
              "   <rect x=\"48.139\" y=\"392.88\" width=\"8.8516\" height=\"8.8516\"/>\n",
              "   <rect x=\"56.99\" y=\"392.88\" width=\"8.8516\" height=\"8.8516\"/>\n",
              "   <rect x=\"65.842\" y=\"392.88\" width=\"8.8516\" height=\"8.8516\"/>\n",
              "   <rect x=\"74.694\" y=\"392.88\" width=\"8.8516\" height=\"8.8516\"/>\n",
              "   <rect x=\"83.545\" y=\"392.88\" width=\"8.8516\" height=\"8.8516\"/>\n",
              "   <rect x=\"39.287\" y=\"401.73\" width=\"8.8516\" height=\"8.8516\"/>\n",
              "   <rect x=\"48.139\" y=\"401.73\" width=\"8.8516\" height=\"8.8516\"/>\n",
              "   <rect x=\"56.99\" y=\"401.73\" width=\"8.8516\" height=\"8.8516\"/>\n",
              "   <rect x=\"65.842\" y=\"401.73\" width=\"8.8516\" height=\"8.8516\"/>\n",
              "   <rect x=\"74.694\" y=\"401.73\" width=\"8.8516\" height=\"8.8516\"/>\n",
              "   <rect x=\"83.545\" y=\"401.73\" width=\"8.8516\" height=\"8.8516\"/>\n",
              "   <rect x=\"39.287\" y=\"410.59\" width=\"8.8516\" height=\"8.8516\"/>\n",
              "   <rect x=\"48.139\" y=\"410.59\" width=\"8.8516\" height=\"8.8516\"/>\n",
              "   <rect x=\"56.99\" y=\"410.59\" width=\"8.8516\" height=\"8.8516\"/>\n",
              "   <rect x=\"65.842\" y=\"410.59\" width=\"8.8516\" height=\"8.8516\"/>\n",
              "   <rect x=\"74.694\" y=\"410.59\" width=\"8.8516\" height=\"8.8516\"/>\n",
              "   <rect x=\"83.545\" y=\"410.59\" width=\"8.8516\" height=\"8.8516\"/>\n",
              "   <rect x=\"39.287\" y=\"419.44\" width=\"8.8516\" height=\"8.8516\"/>\n",
              "   <rect x=\"48.139\" y=\"419.44\" width=\"8.8516\" height=\"8.8516\"/>\n",
              "   <rect x=\"56.99\" y=\"419.44\" width=\"8.8516\" height=\"8.8516\"/>\n",
              "   <rect x=\"65.842\" y=\"419.44\" width=\"8.8516\" height=\"8.8516\"/>\n",
              "   <rect x=\"74.694\" y=\"419.44\" width=\"8.8516\" height=\"8.8516\"/>\n",
              "   <rect x=\"83.545\" y=\"419.44\" width=\"8.8516\" height=\"8.8516\"/>\n",
              "  </g>\n",
              "  <g fill=\"#000000\" fill-opacity=\".47059\" font-family=\"'Courier New'\" font-size=\"5.9912px\" font-weight=\"bold\" letter-spacing=\"0px\" stroke-opacity=\".21739\" stroke-width=\".26458\" word-spacing=\"0px\">\n",
              "   <text x=\"32.005661\" y=\"390.95889\" style=\"font-feature-settings:normal;font-variant-caps:normal;font-variant-ligatures:normal;font-variant-numeric:normal;line-height:1.25\" xml:space=\"preserve\"><tspan x=\"32.005661\" y=\"390.95889\" fill=\"#000000\" fill-opacity=\".47059\" font-family=\"'Courier New'\" font-size=\"5.9912px\" font-weight=\"bold\" stroke-opacity=\".21739\" stroke-width=\".26458\" style=\"font-feature-settings:normal;font-variant-caps:normal;font-variant-ligatures:normal;font-variant-numeric:normal\">0</tspan></text>\n",
              "   <text x=\"31.796257\" y=\"400.05002\" style=\"font-feature-settings:normal;font-variant-caps:normal;font-variant-ligatures:normal;font-variant-numeric:normal;line-height:1.25\" xml:space=\"preserve\"><tspan x=\"31.796257\" y=\"400.05002\" fill=\"#000000\" fill-opacity=\".47059\" font-family=\"'Courier New'\" font-size=\"5.9912px\" font-weight=\"bold\" stroke-opacity=\".21739\" stroke-width=\".26458\" style=\"font-feature-settings:normal;font-variant-caps:normal;font-variant-ligatures:normal;font-variant-numeric:normal\">1</tspan></text>\n",
              "   <text x=\"31.815853\" y=\"408.55447\" style=\"font-feature-settings:normal;font-variant-caps:normal;font-variant-ligatures:normal;font-variant-numeric:normal;line-height:1.25\" xml:space=\"preserve\"><tspan x=\"31.815853\" y=\"408.55447\" fill=\"#000000\" fill-opacity=\".47059\" font-family=\"'Courier New'\" font-size=\"5.9912px\" font-weight=\"bold\" stroke-opacity=\".21739\" stroke-width=\".26458\" style=\"font-feature-settings:normal;font-variant-caps:normal;font-variant-ligatures:normal;font-variant-numeric:normal\">2</tspan></text>\n",
              "   <text x=\"31.95116\" y=\"417.15683\" style=\"font-feature-settings:normal;font-variant-caps:normal;font-variant-ligatures:normal;font-variant-numeric:normal;line-height:1.25\" xml:space=\"preserve\"><tspan x=\"31.95116\" y=\"417.15683\" fill=\"#000000\" fill-opacity=\".47059\" font-family=\"'Courier New'\" font-size=\"5.9912px\" font-weight=\"bold\" stroke-opacity=\".21739\" stroke-width=\".26458\" style=\"font-feature-settings:normal;font-variant-caps:normal;font-variant-ligatures:normal;font-variant-numeric:normal\">3</tspan></text>\n",
              "   <text x=\"31.850376\" y=\"426.31836\" style=\"font-feature-settings:normal;font-variant-caps:normal;font-variant-ligatures:normal;font-variant-numeric:normal;line-height:1.25\" xml:space=\"preserve\"><tspan x=\"31.850376\" y=\"426.31836\" fill=\"#000000\" fill-opacity=\".47059\" font-family=\"'Courier New'\" font-size=\"5.9912px\" font-weight=\"bold\" stroke-opacity=\".21739\" stroke-width=\".26458\" style=\"font-feature-settings:normal;font-variant-caps:normal;font-variant-ligatures:normal;font-variant-numeric:normal\">4</tspan></text>\n",
              "  </g>\n",
              " </g>\n",
              "</svg>\n",
              "</td>\n",
              "</tr>\n",
              "<tr>\n",
              "\t<td class=\"bigtd\">x2[0]</td><td class=\"bigtd\">\n",
              "<svg width=\"60.594mm\" height=\"51.819mm\" version=\"1.1\" viewBox=\"0 0 60.594 51.819\" xmlns=\"http://www.w3.org/2000/svg\">\n",
              " <g transform=\"translate(-32.138 -376.8)\">\n",
              "  <g fill=\"#0054ff\" fill-opacity=\".16078\" stroke=\"#0059d0\" stroke-linecap=\"square\" stroke-miterlimit=\"10.433\" stroke-opacity=\".12941\" stroke-width=\".669\">\n",
              "   <rect x=\"39.287\" y=\"384.03\" width=\"8.8516\" height=\"8.8516\"/>\n",
              "   <rect x=\"48.139\" y=\"384.03\" width=\"8.8516\" height=\"8.8516\"/>\n",
              "   <rect x=\"56.99\" y=\"384.03\" width=\"8.8516\" height=\"8.8516\"/>\n",
              "   <rect x=\"65.842\" y=\"384.03\" width=\"8.8516\" height=\"8.8516\"/>\n",
              "   <rect x=\"74.694\" y=\"384.03\" width=\"8.8516\" height=\"8.8516\"/>\n",
              "   <rect x=\"83.545\" y=\"384.03\" width=\"8.8516\" height=\"8.8516\"/>\n",
              "  </g>\n",
              "  <g fill=\"#000000\" fill-opacity=\".47059\" font-family=\"'Courier New'\" font-size=\"5.9912px\" font-weight=\"bold\" letter-spacing=\"0px\" stroke-opacity=\".21739\" stroke-width=\".26458\" word-spacing=\"0px\">\n",
              "   <text x=\"41.976875\" y=\"380.77695\" style=\"font-feature-settings:normal;font-variant-caps:normal;font-variant-ligatures:normal;font-variant-numeric:normal;line-height:1.25\" xml:space=\"preserve\"><tspan x=\"41.976875\" y=\"380.77695\" fill=\"#000000\" fill-opacity=\".47059\" font-family=\"'Courier New'\" font-size=\"5.9912px\" font-weight=\"bold\" stroke-opacity=\".21739\" stroke-width=\".26458\" style=\"font-feature-settings:normal;font-variant-caps:normal;font-variant-ligatures:normal;font-variant-numeric:normal\">0</tspan></text>\n",
              "   <text x=\"51.189507\" y=\"380.7782\" style=\"font-feature-settings:normal;font-variant-caps:normal;font-variant-ligatures:normal;font-variant-numeric:normal;line-height:1.25\" xml:space=\"preserve\"><tspan x=\"51.189507\" y=\"380.7782\" fill=\"#000000\" fill-opacity=\".47059\" font-family=\"'Courier New'\" font-size=\"5.9912px\" font-weight=\"bold\" stroke-opacity=\".21739\" stroke-width=\".26458\" style=\"font-feature-settings:normal;font-variant-caps:normal;font-variant-ligatures:normal;font-variant-numeric:normal\">1</tspan></text>\n",
              "   <text x=\"59.859337\" y=\"380.80182\" style=\"font-feature-settings:normal;font-variant-caps:normal;font-variant-ligatures:normal;font-variant-numeric:normal;line-height:1.25\" xml:space=\"preserve\"><tspan x=\"59.859337\" y=\"380.80182\" fill=\"#000000\" fill-opacity=\".47059\" font-family=\"'Courier New'\" font-size=\"5.9912px\" font-weight=\"bold\" stroke-opacity=\".21739\" stroke-width=\".26458\" style=\"font-feature-settings:normal;font-variant-caps:normal;font-variant-ligatures:normal;font-variant-numeric:normal\">2</tspan></text>\n",
              "   <text x=\"68.699181\" y=\"380.6868\" style=\"font-feature-settings:normal;font-variant-caps:normal;font-variant-ligatures:normal;font-variant-numeric:normal;line-height:1.25\" xml:space=\"preserve\"><tspan x=\"68.699181\" y=\"380.6868\" fill=\"#000000\" fill-opacity=\".47059\" font-family=\"'Courier New'\" font-size=\"5.9912px\" font-weight=\"bold\" stroke-opacity=\".21739\" stroke-width=\".26458\" style=\"font-feature-settings:normal;font-variant-caps:normal;font-variant-ligatures:normal;font-variant-numeric:normal\">3</tspan></text>\n",
              "   <text x=\"77.352036\" y=\"380.80374\" style=\"font-feature-settings:normal;font-variant-caps:normal;font-variant-ligatures:normal;font-variant-numeric:normal;line-height:1.25\" xml:space=\"preserve\"><tspan x=\"77.352036\" y=\"380.80374\" fill=\"#000000\" fill-opacity=\".47059\" font-family=\"'Courier New'\" font-size=\"5.9912px\" font-weight=\"bold\" stroke-opacity=\".21739\" stroke-width=\".26458\" style=\"font-feature-settings:normal;font-variant-caps:normal;font-variant-ligatures:normal;font-variant-numeric:normal\">4</tspan></text>\n",
              "   <text x=\"86.265968\" y=\"380.72333\" style=\"font-feature-settings:normal;font-variant-caps:normal;font-variant-ligatures:normal;font-variant-numeric:normal;line-height:1.25\" xml:space=\"preserve\"><tspan x=\"86.265968\" y=\"380.72333\" fill=\"#000000\" fill-opacity=\".47059\" font-family=\"'Courier New'\" font-size=\"5.9912px\" font-weight=\"bold\" stroke-opacity=\".21739\" stroke-width=\".26458\" style=\"font-feature-settings:normal;font-variant-caps:normal;font-variant-ligatures:normal;font-variant-numeric:normal\">5</tspan></text>\n",
              "  </g>\n",
              "  <g fill-opacity=\"0\" stroke=\"#0059d0\" stroke-linecap=\"square\" stroke-miterlimit=\"10.433\" stroke-opacity=\".12941\" stroke-width=\".669\">\n",
              "   <rect x=\"39.287\" y=\"392.88\" width=\"8.8516\" height=\"8.8516\"/>\n",
              "   <rect x=\"48.139\" y=\"392.88\" width=\"8.8516\" height=\"8.8516\"/>\n",
              "   <rect x=\"56.99\" y=\"392.88\" width=\"8.8516\" height=\"8.8516\"/>\n",
              "   <rect x=\"65.842\" y=\"392.88\" width=\"8.8516\" height=\"8.8516\"/>\n",
              "   <rect x=\"74.694\" y=\"392.88\" width=\"8.8516\" height=\"8.8516\"/>\n",
              "   <rect x=\"83.545\" y=\"392.88\" width=\"8.8516\" height=\"8.8516\"/>\n",
              "   <rect x=\"39.287\" y=\"401.73\" width=\"8.8516\" height=\"8.8516\"/>\n",
              "   <rect x=\"48.139\" y=\"401.73\" width=\"8.8516\" height=\"8.8516\"/>\n",
              "   <rect x=\"56.99\" y=\"401.73\" width=\"8.8516\" height=\"8.8516\"/>\n",
              "   <rect x=\"65.842\" y=\"401.73\" width=\"8.8516\" height=\"8.8516\"/>\n",
              "   <rect x=\"74.694\" y=\"401.73\" width=\"8.8516\" height=\"8.8516\"/>\n",
              "   <rect x=\"83.545\" y=\"401.73\" width=\"8.8516\" height=\"8.8516\"/>\n",
              "   <rect x=\"39.287\" y=\"410.59\" width=\"8.8516\" height=\"8.8516\"/>\n",
              "   <rect x=\"48.139\" y=\"410.59\" width=\"8.8516\" height=\"8.8516\"/>\n",
              "   <rect x=\"56.99\" y=\"410.59\" width=\"8.8516\" height=\"8.8516\"/>\n",
              "   <rect x=\"65.842\" y=\"410.59\" width=\"8.8516\" height=\"8.8516\"/>\n",
              "   <rect x=\"74.694\" y=\"410.59\" width=\"8.8516\" height=\"8.8516\"/>\n",
              "   <rect x=\"83.545\" y=\"410.59\" width=\"8.8516\" height=\"8.8516\"/>\n",
              "   <rect x=\"39.287\" y=\"419.44\" width=\"8.8516\" height=\"8.8516\"/>\n",
              "   <rect x=\"48.139\" y=\"419.44\" width=\"8.8516\" height=\"8.8516\"/>\n",
              "   <rect x=\"56.99\" y=\"419.44\" width=\"8.8516\" height=\"8.8516\"/>\n",
              "   <rect x=\"65.842\" y=\"419.44\" width=\"8.8516\" height=\"8.8516\"/>\n",
              "   <rect x=\"74.694\" y=\"419.44\" width=\"8.8516\" height=\"8.8516\"/>\n",
              "   <rect x=\"83.545\" y=\"419.44\" width=\"8.8516\" height=\"8.8516\"/>\n",
              "  </g>\n",
              "  <g fill=\"#000000\" fill-opacity=\".47059\" font-family=\"'Courier New'\" font-size=\"5.9912px\" font-weight=\"bold\" letter-spacing=\"0px\" stroke-opacity=\".21739\" stroke-width=\".26458\" word-spacing=\"0px\">\n",
              "   <text x=\"32.005661\" y=\"390.95889\" style=\"font-feature-settings:normal;font-variant-caps:normal;font-variant-ligatures:normal;font-variant-numeric:normal;line-height:1.25\" xml:space=\"preserve\"><tspan x=\"32.005661\" y=\"390.95889\" fill=\"#000000\" fill-opacity=\".47059\" font-family=\"'Courier New'\" font-size=\"5.9912px\" font-weight=\"bold\" stroke-opacity=\".21739\" stroke-width=\".26458\" style=\"font-feature-settings:normal;font-variant-caps:normal;font-variant-ligatures:normal;font-variant-numeric:normal\">0</tspan></text>\n",
              "   <text x=\"31.796257\" y=\"400.05002\" style=\"font-feature-settings:normal;font-variant-caps:normal;font-variant-ligatures:normal;font-variant-numeric:normal;line-height:1.25\" xml:space=\"preserve\"><tspan x=\"31.796257\" y=\"400.05002\" fill=\"#000000\" fill-opacity=\".47059\" font-family=\"'Courier New'\" font-size=\"5.9912px\" font-weight=\"bold\" stroke-opacity=\".21739\" stroke-width=\".26458\" style=\"font-feature-settings:normal;font-variant-caps:normal;font-variant-ligatures:normal;font-variant-numeric:normal\">1</tspan></text>\n",
              "   <text x=\"31.815853\" y=\"408.55447\" style=\"font-feature-settings:normal;font-variant-caps:normal;font-variant-ligatures:normal;font-variant-numeric:normal;line-height:1.25\" xml:space=\"preserve\"><tspan x=\"31.815853\" y=\"408.55447\" fill=\"#000000\" fill-opacity=\".47059\" font-family=\"'Courier New'\" font-size=\"5.9912px\" font-weight=\"bold\" stroke-opacity=\".21739\" stroke-width=\".26458\" style=\"font-feature-settings:normal;font-variant-caps:normal;font-variant-ligatures:normal;font-variant-numeric:normal\">2</tspan></text>\n",
              "   <text x=\"31.95116\" y=\"417.15683\" style=\"font-feature-settings:normal;font-variant-caps:normal;font-variant-ligatures:normal;font-variant-numeric:normal;line-height:1.25\" xml:space=\"preserve\"><tspan x=\"31.95116\" y=\"417.15683\" fill=\"#000000\" fill-opacity=\".47059\" font-family=\"'Courier New'\" font-size=\"5.9912px\" font-weight=\"bold\" stroke-opacity=\".21739\" stroke-width=\".26458\" style=\"font-feature-settings:normal;font-variant-caps:normal;font-variant-ligatures:normal;font-variant-numeric:normal\">3</tspan></text>\n",
              "   <text x=\"31.850376\" y=\"426.31836\" style=\"font-feature-settings:normal;font-variant-caps:normal;font-variant-ligatures:normal;font-variant-numeric:normal;line-height:1.25\" xml:space=\"preserve\"><tspan x=\"31.850376\" y=\"426.31836\" fill=\"#000000\" fill-opacity=\".47059\" font-family=\"'Courier New'\" font-size=\"5.9912px\" font-weight=\"bold\" stroke-opacity=\".21739\" stroke-width=\".26458\" style=\"font-feature-settings:normal;font-variant-caps:normal;font-variant-ligatures:normal;font-variant-numeric:normal\">4</tspan></text>\n",
              "  </g>\n",
              " </g>\n",
              "</svg>\n",
              "</td>\n",
              "</tr>\n",
              "<tr>\n",
              "\t<td class=\"bigtd\">x2[:, 0]</td><td class=\"bigtd\">\n",
              "<svg width=\"60.594mm\" height=\"51.819mm\" version=\"1.1\" viewBox=\"0 0 60.594 51.819\" xmlns=\"http://www.w3.org/2000/svg\">\n",
              " <g transform=\"translate(-32.076 -445.59)\">\n",
              "  <rect x=\"39.225\" y=\"452.81\" width=\"8.8516\" height=\"8.8516\" fill=\"#0054fb\" fill-opacity=\".16078\" stroke=\"#0059d0\" stroke-linecap=\"square\" stroke-miterlimit=\"10.433\" stroke-opacity=\".12941\" stroke-width=\".669\"/>\n",
              "  <g fill-opacity=\"0\" stroke=\"#0059d0\" stroke-linecap=\"square\" stroke-miterlimit=\"10.433\" stroke-opacity=\".12941\" stroke-width=\".669\">\n",
              "   <rect x=\"48.077\" y=\"452.81\" width=\"8.8516\" height=\"8.8516\"/>\n",
              "   <rect x=\"56.928\" y=\"452.81\" width=\"8.8516\" height=\"8.8516\"/>\n",
              "   <rect x=\"65.78\" y=\"452.81\" width=\"8.8516\" height=\"8.8516\"/>\n",
              "   <rect x=\"74.632\" y=\"452.81\" width=\"8.8516\" height=\"8.8516\"/>\n",
              "   <rect x=\"83.483\" y=\"452.81\" width=\"8.8516\" height=\"8.8516\"/>\n",
              "  </g>\n",
              "  <g fill=\"#000000\" fill-opacity=\".47059\" font-family=\"'Courier New'\" font-size=\"5.9912px\" font-weight=\"bold\" letter-spacing=\"0px\" stroke-opacity=\".21739\" stroke-width=\".26458\" word-spacing=\"0px\">\n",
              "   <text x=\"41.914806\" y=\"449.55969\" style=\"font-feature-settings:normal;font-variant-caps:normal;font-variant-ligatures:normal;font-variant-numeric:normal;line-height:1.25\" xml:space=\"preserve\"><tspan x=\"41.914806\" y=\"449.55969\" fill=\"#000000\" fill-opacity=\".47059\" font-family=\"'Courier New'\" font-size=\"5.9912px\" font-weight=\"bold\" stroke-opacity=\".21739\" stroke-width=\".26458\" style=\"font-feature-settings:normal;font-variant-caps:normal;font-variant-ligatures:normal;font-variant-numeric:normal\">0</tspan></text>\n",
              "   <text x=\"51.127438\" y=\"449.56094\" style=\"font-feature-settings:normal;font-variant-caps:normal;font-variant-ligatures:normal;font-variant-numeric:normal;line-height:1.25\" xml:space=\"preserve\"><tspan x=\"51.127438\" y=\"449.56094\" fill=\"#000000\" fill-opacity=\".47059\" font-family=\"'Courier New'\" font-size=\"5.9912px\" font-weight=\"bold\" stroke-opacity=\".21739\" stroke-width=\".26458\" style=\"font-feature-settings:normal;font-variant-caps:normal;font-variant-ligatures:normal;font-variant-numeric:normal\">1</tspan></text>\n",
              "   <text x=\"59.797268\" y=\"449.58456\" style=\"font-feature-settings:normal;font-variant-caps:normal;font-variant-ligatures:normal;font-variant-numeric:normal;line-height:1.25\" xml:space=\"preserve\"><tspan x=\"59.797268\" y=\"449.58456\" fill=\"#000000\" fill-opacity=\".47059\" font-family=\"'Courier New'\" font-size=\"5.9912px\" font-weight=\"bold\" stroke-opacity=\".21739\" stroke-width=\".26458\" style=\"font-feature-settings:normal;font-variant-caps:normal;font-variant-ligatures:normal;font-variant-numeric:normal\">2</tspan></text>\n",
              "   <text x=\"68.637115\" y=\"449.46954\" style=\"font-feature-settings:normal;font-variant-caps:normal;font-variant-ligatures:normal;font-variant-numeric:normal;line-height:1.25\" xml:space=\"preserve\"><tspan x=\"68.637115\" y=\"449.46954\" fill=\"#000000\" fill-opacity=\".47059\" font-family=\"'Courier New'\" font-size=\"5.9912px\" font-weight=\"bold\" stroke-opacity=\".21739\" stroke-width=\".26458\" style=\"font-feature-settings:normal;font-variant-caps:normal;font-variant-ligatures:normal;font-variant-numeric:normal\">3</tspan></text>\n",
              "   <text x=\"77.289963\" y=\"449.58649\" style=\"font-feature-settings:normal;font-variant-caps:normal;font-variant-ligatures:normal;font-variant-numeric:normal;line-height:1.25\" xml:space=\"preserve\"><tspan x=\"77.289963\" y=\"449.58649\" fill=\"#000000\" fill-opacity=\".47059\" font-family=\"'Courier New'\" font-size=\"5.9912px\" font-weight=\"bold\" stroke-opacity=\".21739\" stroke-width=\".26458\" style=\"font-feature-settings:normal;font-variant-caps:normal;font-variant-ligatures:normal;font-variant-numeric:normal\">4</tspan></text>\n",
              "   <text x=\"86.203903\" y=\"449.50607\" style=\"font-feature-settings:normal;font-variant-caps:normal;font-variant-ligatures:normal;font-variant-numeric:normal;line-height:1.25\" xml:space=\"preserve\"><tspan x=\"86.203903\" y=\"449.50607\" fill=\"#000000\" fill-opacity=\".47059\" font-family=\"'Courier New'\" font-size=\"5.9912px\" font-weight=\"bold\" stroke-opacity=\".21739\" stroke-width=\".26458\" style=\"font-feature-settings:normal;font-variant-caps:normal;font-variant-ligatures:normal;font-variant-numeric:normal\">5</tspan></text>\n",
              "  </g>\n",
              "  <rect x=\"39.225\" y=\"461.67\" width=\"8.8516\" height=\"8.8516\" fill=\"#0054fb\" fill-opacity=\".16078\" stroke=\"#0059d0\" stroke-linecap=\"square\" stroke-miterlimit=\"10.433\" stroke-opacity=\".12941\" stroke-width=\".669\"/>\n",
              "  <g fill-opacity=\"0\" stroke=\"#0059d0\" stroke-linecap=\"square\" stroke-miterlimit=\"10.433\" stroke-opacity=\".12941\" stroke-width=\".669\">\n",
              "   <rect x=\"48.077\" y=\"461.67\" width=\"8.8516\" height=\"8.8516\"/>\n",
              "   <rect x=\"56.928\" y=\"461.67\" width=\"8.8516\" height=\"8.8516\"/>\n",
              "   <rect x=\"65.78\" y=\"461.67\" width=\"8.8516\" height=\"8.8516\"/>\n",
              "   <rect x=\"74.632\" y=\"461.67\" width=\"8.8516\" height=\"8.8516\"/>\n",
              "   <rect x=\"83.483\" y=\"461.67\" width=\"8.8516\" height=\"8.8516\"/>\n",
              "  </g>\n",
              "  <rect x=\"39.225\" y=\"470.52\" width=\"8.8516\" height=\"8.8516\" fill=\"#0054fb\" fill-opacity=\".16078\" stroke=\"#0059d0\" stroke-linecap=\"square\" stroke-miterlimit=\"10.433\" stroke-opacity=\".12941\" stroke-width=\".669\"/>\n",
              "  <g fill-opacity=\"0\" stroke=\"#0059d0\" stroke-linecap=\"square\" stroke-miterlimit=\"10.433\" stroke-opacity=\".12941\" stroke-width=\".669\">\n",
              "   <rect x=\"48.077\" y=\"470.52\" width=\"8.8516\" height=\"8.8516\"/>\n",
              "   <rect x=\"56.928\" y=\"470.52\" width=\"8.8516\" height=\"8.8516\"/>\n",
              "   <rect x=\"65.78\" y=\"470.52\" width=\"8.8516\" height=\"8.8516\"/>\n",
              "   <rect x=\"74.632\" y=\"470.52\" width=\"8.8516\" height=\"8.8516\"/>\n",
              "   <rect x=\"83.483\" y=\"470.52\" width=\"8.8516\" height=\"8.8516\"/>\n",
              "  </g>\n",
              "  <rect x=\"39.225\" y=\"479.37\" width=\"8.8516\" height=\"8.8516\" fill=\"#0054fb\" fill-opacity=\".16078\" stroke=\"#0059d0\" stroke-linecap=\"square\" stroke-miterlimit=\"10.433\" stroke-opacity=\".12941\" stroke-width=\".669\"/>\n",
              "  <g fill-opacity=\"0\" stroke=\"#0059d0\" stroke-linecap=\"square\" stroke-miterlimit=\"10.433\" stroke-opacity=\".12941\" stroke-width=\".669\">\n",
              "   <rect x=\"48.077\" y=\"479.37\" width=\"8.8516\" height=\"8.8516\"/>\n",
              "   <rect x=\"56.928\" y=\"479.37\" width=\"8.8516\" height=\"8.8516\"/>\n",
              "   <rect x=\"65.78\" y=\"479.37\" width=\"8.8516\" height=\"8.8516\"/>\n",
              "   <rect x=\"74.632\" y=\"479.37\" width=\"8.8516\" height=\"8.8516\"/>\n",
              "   <rect x=\"83.483\" y=\"479.37\" width=\"8.8516\" height=\"8.8516\"/>\n",
              "  </g>\n",
              "  <rect x=\"39.225\" y=\"488.22\" width=\"8.8516\" height=\"8.8516\" fill=\"#0054fb\" fill-opacity=\".16078\" stroke=\"#0059d0\" stroke-linecap=\"square\" stroke-miterlimit=\"10.433\" stroke-opacity=\".12941\" stroke-width=\".669\"/>\n",
              "  <g fill-opacity=\"0\" stroke=\"#0059d0\" stroke-linecap=\"square\" stroke-miterlimit=\"10.433\" stroke-opacity=\".12941\" stroke-width=\".669\">\n",
              "   <rect x=\"48.077\" y=\"488.22\" width=\"8.8516\" height=\"8.8516\"/>\n",
              "   <rect x=\"56.928\" y=\"488.22\" width=\"8.8516\" height=\"8.8516\"/>\n",
              "   <rect x=\"65.78\" y=\"488.22\" width=\"8.8516\" height=\"8.8516\"/>\n",
              "   <rect x=\"74.632\" y=\"488.22\" width=\"8.8516\" height=\"8.8516\"/>\n",
              "   <rect x=\"83.483\" y=\"488.22\" width=\"8.8516\" height=\"8.8516\"/>\n",
              "  </g>\n",
              "  <g fill=\"#000000\" fill-opacity=\".47059\" font-family=\"'Courier New'\" font-size=\"5.9912px\" font-weight=\"bold\" letter-spacing=\"0px\" stroke-opacity=\".21739\" stroke-width=\".26458\" word-spacing=\"0px\">\n",
              "   <text x=\"31.943592\" y=\"459.74164\" style=\"font-feature-settings:normal;font-variant-caps:normal;font-variant-ligatures:normal;font-variant-numeric:normal;line-height:1.25\" xml:space=\"preserve\"><tspan x=\"31.943592\" y=\"459.74164\" fill=\"#000000\" fill-opacity=\".47059\" font-family=\"'Courier New'\" font-size=\"5.9912px\" font-weight=\"bold\" stroke-opacity=\".21739\" stroke-width=\".26458\" style=\"font-feature-settings:normal;font-variant-caps:normal;font-variant-ligatures:normal;font-variant-numeric:normal\">0</tspan></text>\n",
              "   <text x=\"31.734188\" y=\"468.83276\" style=\"font-feature-settings:normal;font-variant-caps:normal;font-variant-ligatures:normal;font-variant-numeric:normal;line-height:1.25\" xml:space=\"preserve\"><tspan x=\"31.734188\" y=\"468.83276\" fill=\"#000000\" fill-opacity=\".47059\" font-family=\"'Courier New'\" font-size=\"5.9912px\" font-weight=\"bold\" stroke-opacity=\".21739\" stroke-width=\".26458\" style=\"font-feature-settings:normal;font-variant-caps:normal;font-variant-ligatures:normal;font-variant-numeric:normal\">1</tspan></text>\n",
              "   <text x=\"31.753784\" y=\"477.33722\" style=\"font-feature-settings:normal;font-variant-caps:normal;font-variant-ligatures:normal;font-variant-numeric:normal;line-height:1.25\" xml:space=\"preserve\"><tspan x=\"31.753784\" y=\"477.33722\" fill=\"#000000\" fill-opacity=\".47059\" font-family=\"'Courier New'\" font-size=\"5.9912px\" font-weight=\"bold\" stroke-opacity=\".21739\" stroke-width=\".26458\" style=\"font-feature-settings:normal;font-variant-caps:normal;font-variant-ligatures:normal;font-variant-numeric:normal\">2</tspan></text>\n",
              "   <text x=\"31.889091\" y=\"485.93958\" style=\"font-feature-settings:normal;font-variant-caps:normal;font-variant-ligatures:normal;font-variant-numeric:normal;line-height:1.25\" xml:space=\"preserve\"><tspan x=\"31.889091\" y=\"485.93958\" fill=\"#000000\" fill-opacity=\".47059\" font-family=\"'Courier New'\" font-size=\"5.9912px\" font-weight=\"bold\" stroke-opacity=\".21739\" stroke-width=\".26458\" style=\"font-feature-settings:normal;font-variant-caps:normal;font-variant-ligatures:normal;font-variant-numeric:normal\">3</tspan></text>\n",
              "   <text x=\"31.788307\" y=\"495.1011\" style=\"font-feature-settings:normal;font-variant-caps:normal;font-variant-ligatures:normal;font-variant-numeric:normal;line-height:1.25\" xml:space=\"preserve\"><tspan x=\"31.788307\" y=\"495.1011\" fill=\"#000000\" fill-opacity=\".47059\" font-family=\"'Courier New'\" font-size=\"5.9912px\" font-weight=\"bold\" stroke-opacity=\".21739\" stroke-width=\".26458\" style=\"font-feature-settings:normal;font-variant-caps:normal;font-variant-ligatures:normal;font-variant-numeric:normal\">4</tspan></text>\n",
              "  </g>\n",
              " </g>\n",
              "</svg>\n",
              "</td>\n",
              "</tr>\n",
              "<tr>\n",
              "\t<td class=\"bigtd\">x2[::-1, ::-1]</td><td class=\"bigtd\">\n",
              "<svg width=\"149.66mm\" height=\"52.507mm\" version=\"1.1\" viewBox=\"0 0 149.66 52.507\" xmlns=\"http://www.w3.org/2000/svg\">\n",
              " <defs>\n",
              "  <marker id=\"a\" overflow=\"visible\" orient=\"auto\">\n",
              "   <path transform=\"matrix(-.4 0 0 -.4 -4 0)\" d=\"m0 0 5-5-17.5 5 17.5 5z\" fill-opacity=\".55072\" fill-rule=\"evenodd\" stroke=\"#000\" stroke-opacity=\".55072\" stroke-width=\"1pt\"/>\n",
              "  </marker>\n",
              " </defs>\n",
              " <g transform=\"translate(-166.15 -374.91)\">\n",
              "  <rect x=\"173.3\" y=\"382.82\" width=\"8.8516\" height=\"8.8516\" fill-opacity=\"0\" stroke=\"#0059d0\" stroke-linecap=\"square\" stroke-miterlimit=\"10.433\" stroke-opacity=\".12941\" stroke-width=\".669\"/>\n",
              "  <g stroke=\"#0059d0\" stroke-linecap=\"square\" stroke-miterlimit=\"10.433\" stroke-opacity=\".12941\" stroke-width=\".669\">\n",
              "   <rect x=\"182.15\" y=\"382.82\" width=\"8.8516\" height=\"8.8516\" fill-opacity=\".039216\"/>\n",
              "   <rect x=\"191\" y=\"382.82\" width=\"8.8516\" height=\"8.8516\" fill-opacity=\".058824\"/>\n",
              "   <rect x=\"199.85\" y=\"382.82\" width=\"8.8516\" height=\"8.8516\" fill-opacity=\".078431\"/>\n",
              "   <rect x=\"208.7\" y=\"382.82\" width=\"8.8516\" height=\"8.8516\" fill-opacity=\".098039\"/>\n",
              "   <rect x=\"217.55\" y=\"382.82\" width=\"8.8516\" height=\"8.8516\" fill-opacity=\".11765\"/>\n",
              "  </g>\n",
              "  <g fill=\"#000000\" fill-opacity=\".47059\" font-family=\"'Courier New'\" font-size=\"5.9912px\" font-weight=\"bold\" letter-spacing=\"0px\" stroke-opacity=\".21739\" stroke-width=\".26458\" word-spacing=\"0px\">\n",
              "   <text x=\"175.98546\" y=\"379.56506\" style=\"font-feature-settings:normal;font-variant-caps:normal;font-variant-ligatures:normal;font-variant-numeric:normal;line-height:1.25\" xml:space=\"preserve\"><tspan x=\"175.98546\" y=\"379.56506\" fill=\"#000000\" fill-opacity=\".47059\" font-family=\"'Courier New'\" font-size=\"5.9912px\" font-weight=\"bold\" stroke-opacity=\".21739\" stroke-width=\".26458\" style=\"font-feature-settings:normal;font-variant-caps:normal;font-variant-ligatures:normal;font-variant-numeric:normal\">0</tspan></text>\n",
              "   <text x=\"185.19809\" y=\"379.56631\" style=\"font-feature-settings:normal;font-variant-caps:normal;font-variant-ligatures:normal;font-variant-numeric:normal;line-height:1.25\" xml:space=\"preserve\"><tspan x=\"185.19809\" y=\"379.56631\" fill=\"#000000\" fill-opacity=\".47059\" font-family=\"'Courier New'\" font-size=\"5.9912px\" font-weight=\"bold\" stroke-opacity=\".21739\" stroke-width=\".26458\" style=\"font-feature-settings:normal;font-variant-caps:normal;font-variant-ligatures:normal;font-variant-numeric:normal\">1</tspan></text>\n",
              "   <text x=\"193.86794\" y=\"379.58994\" style=\"font-feature-settings:normal;font-variant-caps:normal;font-variant-ligatures:normal;font-variant-numeric:normal;line-height:1.25\" xml:space=\"preserve\"><tspan x=\"193.86794\" y=\"379.58994\" fill=\"#000000\" fill-opacity=\".47059\" font-family=\"'Courier New'\" font-size=\"5.9912px\" font-weight=\"bold\" stroke-opacity=\".21739\" stroke-width=\".26458\" style=\"font-feature-settings:normal;font-variant-caps:normal;font-variant-ligatures:normal;font-variant-numeric:normal\">2</tspan></text>\n",
              "   <text x=\"202.70778\" y=\"379.47491\" style=\"font-feature-settings:normal;font-variant-caps:normal;font-variant-ligatures:normal;font-variant-numeric:normal;line-height:1.25\" xml:space=\"preserve\"><tspan x=\"202.70778\" y=\"379.47491\" fill=\"#000000\" fill-opacity=\".47059\" font-family=\"'Courier New'\" font-size=\"5.9912px\" font-weight=\"bold\" stroke-opacity=\".21739\" stroke-width=\".26458\" style=\"font-feature-settings:normal;font-variant-caps:normal;font-variant-ligatures:normal;font-variant-numeric:normal\">3</tspan></text>\n",
              "   <text x=\"211.36063\" y=\"379.59186\" style=\"font-feature-settings:normal;font-variant-caps:normal;font-variant-ligatures:normal;font-variant-numeric:normal;line-height:1.25\" xml:space=\"preserve\"><tspan x=\"211.36063\" y=\"379.59186\" fill=\"#000000\" fill-opacity=\".47059\" font-family=\"'Courier New'\" font-size=\"5.9912px\" font-weight=\"bold\" stroke-opacity=\".21739\" stroke-width=\".26458\" style=\"font-feature-settings:normal;font-variant-caps:normal;font-variant-ligatures:normal;font-variant-numeric:normal\">4</tspan></text>\n",
              "   <text x=\"220.27457\" y=\"379.51144\" style=\"font-feature-settings:normal;font-variant-caps:normal;font-variant-ligatures:normal;font-variant-numeric:normal;line-height:1.25\" xml:space=\"preserve\"><tspan x=\"220.27457\" y=\"379.51144\" fill=\"#000000\" fill-opacity=\".47059\" font-family=\"'Courier New'\" font-size=\"5.9912px\" font-weight=\"bold\" stroke-opacity=\".21739\" stroke-width=\".26458\" style=\"font-feature-settings:normal;font-variant-caps:normal;font-variant-ligatures:normal;font-variant-numeric:normal\">5</tspan></text>\n",
              "  </g>\n",
              "  <g stroke=\"#0059d0\" stroke-linecap=\"square\" stroke-miterlimit=\"10.433\" stroke-opacity=\".12941\" stroke-width=\".669\">\n",
              "   <rect x=\"173.3\" y=\"391.67\" width=\"8.8516\" height=\"8.8516\" fill-opacity=\".039216\"/>\n",
              "   <rect x=\"182.15\" y=\"391.67\" width=\"8.8516\" height=\"8.8516\" fill-opacity=\".078431\"/>\n",
              "   <rect x=\"191\" y=\"391.67\" width=\"8.8516\" height=\"8.8516\" fill-opacity=\".098039\"/>\n",
              "   <rect x=\"199.85\" y=\"391.67\" width=\"8.8516\" height=\"8.8516\" fill-opacity=\".11765\"/>\n",
              "   <rect x=\"208.7\" y=\"391.67\" width=\"8.8516\" height=\"8.8516\" fill-opacity=\".13725\"/>\n",
              "   <rect x=\"217.55\" y=\"391.67\" width=\"8.8516\" height=\"8.8516\" fill-opacity=\".15686\"/>\n",
              "   <rect x=\"173.3\" y=\"400.52\" width=\"8.8516\" height=\"8.8516\" fill-opacity=\".058824\"/>\n",
              "   <rect x=\"182.15\" y=\"400.52\" width=\"8.8516\" height=\"8.8516\" fill-opacity=\".078431\"/>\n",
              "   <rect x=\"191\" y=\"400.52\" width=\"8.8516\" height=\"8.8516\" fill-opacity=\".098039\"/>\n",
              "   <rect x=\"199.85\" y=\"400.52\" width=\"8.8516\" height=\"8.8516\" fill-opacity=\".11765\"/>\n",
              "   <rect x=\"208.7\" y=\"400.52\" width=\"8.8516\" height=\"8.8516\" fill-opacity=\".13725\"/>\n",
              "   <rect x=\"217.55\" y=\"400.52\" width=\"8.8516\" height=\"8.8516\" fill-opacity=\".15686\"/>\n",
              "   <rect x=\"173.3\" y=\"409.37\" width=\"8.8516\" height=\"8.8516\" fill-opacity=\".078431\"/>\n",
              "   <rect x=\"182.15\" y=\"409.37\" width=\"8.8516\" height=\"8.8516\" fill-opacity=\".098039\"/>\n",
              "   <rect x=\"191\" y=\"409.37\" width=\"8.8516\" height=\"8.8516\" fill-opacity=\".11765\"/>\n",
              "   <rect x=\"199.85\" y=\"409.37\" width=\"8.8516\" height=\"8.8516\" fill-opacity=\".13725\"/>\n",
              "   <rect x=\"208.7\" y=\"409.37\" width=\"8.8516\" height=\"8.8516\" fill-opacity=\".15686\"/>\n",
              "   <rect x=\"217.55\" y=\"409.37\" width=\"8.8516\" height=\"8.8516\" fill-opacity=\".17647\"/>\n",
              "   <rect x=\"173.3\" y=\"418.23\" width=\"8.8516\" height=\"8.8516\" fill-opacity=\".098039\"/>\n",
              "   <rect x=\"182.15\" y=\"418.23\" width=\"8.8516\" height=\"8.8516\" fill-opacity=\".13725\"/>\n",
              "   <rect x=\"191\" y=\"418.23\" width=\"8.8516\" height=\"8.8516\" fill-opacity=\".15686\"/>\n",
              "   <rect x=\"199.85\" y=\"418.23\" width=\"8.8516\" height=\"8.8516\" fill-opacity=\".17647\"/>\n",
              "   <rect x=\"208.7\" y=\"418.23\" width=\"8.8516\" height=\"8.8516\" fill-opacity=\".19608\"/>\n",
              "   <rect x=\"217.55\" y=\"418.23\" width=\"8.8516\" height=\"8.8516\" fill-opacity=\".21569\"/>\n",
              "  </g>\n",
              "  <g fill=\"#000000\" fill-opacity=\".47059\" font-family=\"'Courier New'\" font-size=\"5.9912px\" font-weight=\"bold\" letter-spacing=\"0px\" stroke-opacity=\".21739\" stroke-width=\".26458\" word-spacing=\"0px\">\n",
              "   <text x=\"166.01425\" y=\"389.74701\" style=\"font-feature-settings:normal;font-variant-caps:normal;font-variant-ligatures:normal;font-variant-numeric:normal;line-height:1.25\" xml:space=\"preserve\"><tspan x=\"166.01425\" y=\"389.74701\" fill=\"#000000\" fill-opacity=\".47059\" font-family=\"'Courier New'\" font-size=\"5.9912px\" font-weight=\"bold\" stroke-opacity=\".21739\" stroke-width=\".26458\" style=\"font-feature-settings:normal;font-variant-caps:normal;font-variant-ligatures:normal;font-variant-numeric:normal\">0</tspan></text>\n",
              "   <text x=\"165.80484\" y=\"398.83813\" style=\"font-feature-settings:normal;font-variant-caps:normal;font-variant-ligatures:normal;font-variant-numeric:normal;line-height:1.25\" xml:space=\"preserve\"><tspan x=\"165.80484\" y=\"398.83813\" fill=\"#000000\" fill-opacity=\".47059\" font-family=\"'Courier New'\" font-size=\"5.9912px\" font-weight=\"bold\" stroke-opacity=\".21739\" stroke-width=\".26458\" style=\"font-feature-settings:normal;font-variant-caps:normal;font-variant-ligatures:normal;font-variant-numeric:normal\">1</tspan></text>\n",
              "   <text x=\"165.82445\" y=\"407.34259\" style=\"font-feature-settings:normal;font-variant-caps:normal;font-variant-ligatures:normal;font-variant-numeric:normal;line-height:1.25\" xml:space=\"preserve\"><tspan x=\"165.82445\" y=\"407.34259\" fill=\"#000000\" fill-opacity=\".47059\" font-family=\"'Courier New'\" font-size=\"5.9912px\" font-weight=\"bold\" stroke-opacity=\".21739\" stroke-width=\".26458\" style=\"font-feature-settings:normal;font-variant-caps:normal;font-variant-ligatures:normal;font-variant-numeric:normal\">2</tspan></text>\n",
              "   <text x=\"165.95975\" y=\"415.94495\" style=\"font-feature-settings:normal;font-variant-caps:normal;font-variant-ligatures:normal;font-variant-numeric:normal;line-height:1.25\" xml:space=\"preserve\"><tspan x=\"165.95975\" y=\"415.94495\" fill=\"#000000\" fill-opacity=\".47059\" font-family=\"'Courier New'\" font-size=\"5.9912px\" font-weight=\"bold\" stroke-opacity=\".21739\" stroke-width=\".26458\" style=\"font-feature-settings:normal;font-variant-caps:normal;font-variant-ligatures:normal;font-variant-numeric:normal\">3</tspan></text>\n",
              "   <text x=\"165.85896\" y=\"425.10648\" style=\"font-feature-settings:normal;font-variant-caps:normal;font-variant-ligatures:normal;font-variant-numeric:normal;line-height:1.25\" xml:space=\"preserve\"><tspan x=\"165.85896\" y=\"425.10648\" fill=\"#000000\" fill-opacity=\".47059\" font-family=\"'Courier New'\" font-size=\"5.9912px\" font-weight=\"bold\" stroke-opacity=\".21739\" stroke-width=\".26458\" style=\"font-feature-settings:normal;font-variant-caps:normal;font-variant-ligatures:normal;font-variant-numeric:normal\">4</tspan></text>\n",
              "  </g>\n",
              "  <rect transform=\"scale(-1)\" x=\"-315.48\" y=\"-426.39\" width=\"8.8516\" height=\"8.8516\" fill=\"#00f\" fill-opacity=\".014493\" stroke=\"#0059d0\" stroke-linecap=\"square\" stroke-miterlimit=\"10.433\" stroke-opacity=\".12941\" stroke-width=\".669\"/>\n",
              "  <rect transform=\"scale(-1)\" x=\"-306.62\" y=\"-426.39\" width=\"8.8516\" height=\"8.8516\" fill=\"#0054ff\" fill-opacity=\".039216\" stroke=\"#0059d0\" stroke-linecap=\"square\" stroke-miterlimit=\"10.433\" stroke-opacity=\".12941\" stroke-width=\".669\"/>\n",
              "  <g stroke=\"#0059d0\" stroke-linecap=\"square\" stroke-miterlimit=\"10.433\" stroke-opacity=\".12941\" stroke-width=\".669\">\n",
              "   <rect transform=\"scale(-1)\" x=\"-297.77\" y=\"-426.39\" width=\"8.8516\" height=\"8.8516\" fill-opacity=\".058824\"/>\n",
              "   <rect transform=\"scale(-1)\" x=\"-288.92\" y=\"-426.39\" width=\"8.8516\" height=\"8.8516\" fill-opacity=\".078431\"/>\n",
              "   <rect transform=\"scale(-1)\" x=\"-280.07\" y=\"-426.39\" width=\"8.8516\" height=\"8.8516\" fill-opacity=\".098039\"/>\n",
              "   <rect transform=\"scale(-1)\" x=\"-271.22\" y=\"-426.39\" width=\"8.8516\" height=\"8.8516\" fill-opacity=\".11765\"/>\n",
              "  </g>\n",
              "  <g fill=\"#000000\" fill-opacity=\".47059\" font-family=\"'Courier New'\" font-size=\"5.9912px\" font-weight=\"bold\" letter-spacing=\"0px\" stroke-opacity=\".21739\" stroke-width=\".26458\" word-spacing=\"0px\">\n",
              "   <text x=\"265.05655\" y=\"378.87738\" style=\"font-feature-settings:normal;font-variant-caps:normal;font-variant-ligatures:normal;font-variant-numeric:normal;line-height:1.25\" xml:space=\"preserve\"><tspan x=\"265.05655\" y=\"378.87738\" fill=\"#000000\" fill-opacity=\".47059\" font-family=\"'Courier New'\" font-size=\"5.9912px\" font-weight=\"bold\" stroke-opacity=\".21739\" stroke-width=\".26458\" style=\"font-feature-settings:normal;font-variant-caps:normal;font-variant-ligatures:normal;font-variant-numeric:normal\">0</tspan></text>\n",
              "   <text x=\"274.26917\" y=\"378.87863\" style=\"font-feature-settings:normal;font-variant-caps:normal;font-variant-ligatures:normal;font-variant-numeric:normal;line-height:1.25\" xml:space=\"preserve\"><tspan x=\"274.26917\" y=\"378.87863\" fill=\"#000000\" fill-opacity=\".47059\" font-family=\"'Courier New'\" font-size=\"5.9912px\" font-weight=\"bold\" stroke-opacity=\".21739\" stroke-width=\".26458\" style=\"font-feature-settings:normal;font-variant-caps:normal;font-variant-ligatures:normal;font-variant-numeric:normal\">1</tspan></text>\n",
              "   <text x=\"282.93903\" y=\"378.90225\" style=\"font-feature-settings:normal;font-variant-caps:normal;font-variant-ligatures:normal;font-variant-numeric:normal;line-height:1.25\" xml:space=\"preserve\"><tspan x=\"282.93903\" y=\"378.90225\" fill=\"#000000\" fill-opacity=\".47059\" font-family=\"'Courier New'\" font-size=\"5.9912px\" font-weight=\"bold\" stroke-opacity=\".21739\" stroke-width=\".26458\" style=\"font-feature-settings:normal;font-variant-caps:normal;font-variant-ligatures:normal;font-variant-numeric:normal\">2</tspan></text>\n",
              "   <text x=\"291.77887\" y=\"378.78723\" style=\"font-feature-settings:normal;font-variant-caps:normal;font-variant-ligatures:normal;font-variant-numeric:normal;line-height:1.25\" xml:space=\"preserve\"><tspan x=\"291.77887\" y=\"378.78723\" fill=\"#000000\" fill-opacity=\".47059\" font-family=\"'Courier New'\" font-size=\"5.9912px\" font-weight=\"bold\" stroke-opacity=\".21739\" stroke-width=\".26458\" style=\"font-feature-settings:normal;font-variant-caps:normal;font-variant-ligatures:normal;font-variant-numeric:normal\">3</tspan></text>\n",
              "   <text x=\"300.4317\" y=\"378.90417\" style=\"font-feature-settings:normal;font-variant-caps:normal;font-variant-ligatures:normal;font-variant-numeric:normal;line-height:1.25\" xml:space=\"preserve\"><tspan x=\"300.4317\" y=\"378.90417\" fill=\"#000000\" fill-opacity=\".47059\" font-family=\"'Courier New'\" font-size=\"5.9912px\" font-weight=\"bold\" stroke-opacity=\".21739\" stroke-width=\".26458\" style=\"font-feature-settings:normal;font-variant-caps:normal;font-variant-ligatures:normal;font-variant-numeric:normal\">4</tspan></text>\n",
              "   <text x=\"309.34564\" y=\"378.82376\" style=\"font-feature-settings:normal;font-variant-caps:normal;font-variant-ligatures:normal;font-variant-numeric:normal;line-height:1.25\" xml:space=\"preserve\"><tspan x=\"309.34564\" y=\"378.82376\" fill=\"#000000\" fill-opacity=\".47059\" font-family=\"'Courier New'\" font-size=\"5.9912px\" font-weight=\"bold\" stroke-opacity=\".21739\" stroke-width=\".26458\" style=\"font-feature-settings:normal;font-variant-caps:normal;font-variant-ligatures:normal;font-variant-numeric:normal\">5</tspan></text>\n",
              "  </g>\n",
              "  <g stroke=\"#0059d0\" stroke-linecap=\"square\" stroke-miterlimit=\"10.433\" stroke-opacity=\".12941\" stroke-width=\".669\">\n",
              "   <rect transform=\"scale(-1)\" x=\"-315.48\" y=\"-417.54\" width=\"8.8516\" height=\"8.8516\" fill-opacity=\".039216\"/>\n",
              "   <rect transform=\"scale(-1)\" x=\"-306.62\" y=\"-417.54\" width=\"8.8516\" height=\"8.8516\" fill-opacity=\".078431\"/>\n",
              "   <rect transform=\"scale(-1)\" x=\"-297.77\" y=\"-417.54\" width=\"8.8516\" height=\"8.8516\" fill-opacity=\".098039\"/>\n",
              "   <rect transform=\"scale(-1)\" x=\"-288.92\" y=\"-417.54\" width=\"8.8516\" height=\"8.8516\" fill-opacity=\".11765\"/>\n",
              "   <rect transform=\"scale(-1)\" x=\"-280.07\" y=\"-417.54\" width=\"8.8516\" height=\"8.8516\" fill-opacity=\".13725\"/>\n",
              "   <rect transform=\"scale(-1)\" x=\"-271.22\" y=\"-417.54\" width=\"8.8516\" height=\"8.8516\" fill-opacity=\".15686\"/>\n",
              "   <rect transform=\"scale(-1)\" x=\"-315.48\" y=\"-408.69\" width=\"8.8516\" height=\"8.8516\" fill-opacity=\".058824\"/>\n",
              "   <rect transform=\"scale(-1)\" x=\"-306.62\" y=\"-408.69\" width=\"8.8516\" height=\"8.8516\" fill-opacity=\".078431\"/>\n",
              "   <rect transform=\"scale(-1)\" x=\"-297.77\" y=\"-408.69\" width=\"8.8516\" height=\"8.8516\" fill-opacity=\".098039\"/>\n",
              "   <rect transform=\"scale(-1)\" x=\"-288.92\" y=\"-408.69\" width=\"8.8516\" height=\"8.8516\" fill-opacity=\".11765\"/>\n",
              "   <rect transform=\"scale(-1)\" x=\"-280.07\" y=\"-408.69\" width=\"8.8516\" height=\"8.8516\" fill-opacity=\".13725\"/>\n",
              "   <rect transform=\"scale(-1)\" x=\"-271.22\" y=\"-408.69\" width=\"8.8516\" height=\"8.8516\" fill-opacity=\".15686\"/>\n",
              "   <rect transform=\"scale(-1)\" x=\"-315.48\" y=\"-399.83\" width=\"8.8516\" height=\"8.8516\" fill-opacity=\".078431\"/>\n",
              "   <rect transform=\"scale(-1)\" x=\"-306.62\" y=\"-399.83\" width=\"8.8516\" height=\"8.8516\" fill-opacity=\".098039\"/>\n",
              "   <rect transform=\"scale(-1)\" x=\"-297.77\" y=\"-399.83\" width=\"8.8516\" height=\"8.8516\" fill-opacity=\".11765\"/>\n",
              "   <rect transform=\"scale(-1)\" x=\"-288.92\" y=\"-399.83\" width=\"8.8516\" height=\"8.8516\" fill-opacity=\".13725\"/>\n",
              "   <rect transform=\"scale(-1)\" x=\"-280.07\" y=\"-399.83\" width=\"8.8516\" height=\"8.8516\" fill-opacity=\".15686\"/>\n",
              "   <rect transform=\"scale(-1)\" x=\"-271.22\" y=\"-399.83\" width=\"8.8516\" height=\"8.8516\" fill-opacity=\".17647\"/>\n",
              "   <rect transform=\"scale(-1)\" x=\"-315.48\" y=\"-390.98\" width=\"8.8516\" height=\"8.8516\" fill-opacity=\".098039\"/>\n",
              "   <rect transform=\"scale(-1)\" x=\"-306.62\" y=\"-390.98\" width=\"8.8516\" height=\"8.8516\" fill-opacity=\".13725\"/>\n",
              "   <rect transform=\"scale(-1)\" x=\"-297.77\" y=\"-390.98\" width=\"8.8516\" height=\"8.8516\" fill-opacity=\".15686\"/>\n",
              "   <rect transform=\"scale(-1)\" x=\"-288.92\" y=\"-390.98\" width=\"8.8516\" height=\"8.8516\" fill-opacity=\".17647\"/>\n",
              "   <rect transform=\"scale(-1)\" x=\"-280.07\" y=\"-390.98\" width=\"8.8516\" height=\"8.8516\" fill-opacity=\".19608\"/>\n",
              "   <rect transform=\"scale(-1)\" x=\"-271.22\" y=\"-390.98\" width=\"8.8516\" height=\"8.8516\" fill-opacity=\".21569\"/>\n",
              "  </g>\n",
              "  <g fill=\"#000000\" fill-opacity=\".47059\" font-family=\"'Courier New'\" font-size=\"5.9912px\" font-weight=\"bold\" letter-spacing=\"0px\" stroke-opacity=\".21739\" stroke-width=\".26458\" word-spacing=\"0px\">\n",
              "   <text x=\"255.08534\" y=\"389.05933\" style=\"font-feature-settings:normal;font-variant-caps:normal;font-variant-ligatures:normal;font-variant-numeric:normal;line-height:1.25\" xml:space=\"preserve\"><tspan x=\"255.08534\" y=\"389.05933\" fill=\"#000000\" fill-opacity=\".47059\" font-family=\"'Courier New'\" font-size=\"5.9912px\" font-weight=\"bold\" stroke-opacity=\".21739\" stroke-width=\".26458\" style=\"font-feature-settings:normal;font-variant-caps:normal;font-variant-ligatures:normal;font-variant-numeric:normal\">0</tspan></text>\n",
              "   <text x=\"254.87593\" y=\"398.15045\" style=\"font-feature-settings:normal;font-variant-caps:normal;font-variant-ligatures:normal;font-variant-numeric:normal;line-height:1.25\" xml:space=\"preserve\"><tspan x=\"254.87593\" y=\"398.15045\" fill=\"#000000\" fill-opacity=\".47059\" font-family=\"'Courier New'\" font-size=\"5.9912px\" font-weight=\"bold\" stroke-opacity=\".21739\" stroke-width=\".26458\" style=\"font-feature-settings:normal;font-variant-caps:normal;font-variant-ligatures:normal;font-variant-numeric:normal\">1</tspan></text>\n",
              "   <text x=\"254.89554\" y=\"406.65491\" style=\"font-feature-settings:normal;font-variant-caps:normal;font-variant-ligatures:normal;font-variant-numeric:normal;line-height:1.25\" xml:space=\"preserve\"><tspan x=\"254.89554\" y=\"406.65491\" fill=\"#000000\" fill-opacity=\".47059\" font-family=\"'Courier New'\" font-size=\"5.9912px\" font-weight=\"bold\" stroke-opacity=\".21739\" stroke-width=\".26458\" style=\"font-feature-settings:normal;font-variant-caps:normal;font-variant-ligatures:normal;font-variant-numeric:normal\">2</tspan></text>\n",
              "   <text x=\"255.03084\" y=\"415.25726\" style=\"font-feature-settings:normal;font-variant-caps:normal;font-variant-ligatures:normal;font-variant-numeric:normal;line-height:1.25\" xml:space=\"preserve\"><tspan x=\"255.03084\" y=\"415.25726\" fill=\"#000000\" fill-opacity=\".47059\" font-family=\"'Courier New'\" font-size=\"5.9912px\" font-weight=\"bold\" stroke-opacity=\".21739\" stroke-width=\".26458\" style=\"font-feature-settings:normal;font-variant-caps:normal;font-variant-ligatures:normal;font-variant-numeric:normal\">3</tspan></text>\n",
              "   <text x=\"254.93005\" y=\"424.41879\" style=\"font-feature-settings:normal;font-variant-caps:normal;font-variant-ligatures:normal;font-variant-numeric:normal;line-height:1.25\" xml:space=\"preserve\"><tspan x=\"254.93005\" y=\"424.41879\" fill=\"#000000\" fill-opacity=\".47059\" font-family=\"'Courier New'\" font-size=\"5.9912px\" font-weight=\"bold\" stroke-opacity=\".21739\" stroke-width=\".26458\" style=\"font-feature-settings:normal;font-variant-caps:normal;font-variant-ligatures:normal;font-variant-numeric:normal\">4</tspan></text>\n",
              "  </g>\n",
              "  <path d=\"m238.54 404.65h8.5526\" fill=\"none\" marker-end=\"url(#a)\" stroke=\"#000\" stroke-opacity=\".55072\" stroke-width=\".465\"/>\n",
              " </g>\n",
              "</svg>\n",
              "</td>\n",
              "</tr>\n",
              "</table>"
            ],
            "text/plain": [
              "<IPython.core.display.HTML object>"
            ]
          },
          "metadata": {
            "tags": []
          }
        }
      ]
    },
    {
      "cell_type": "markdown",
      "metadata": {
        "id": "NUZqI8wKju-I",
        "colab_type": "text"
      },
      "source": [
        "##Memory management during slicing"
      ]
    },
    {
      "cell_type": "code",
      "metadata": {
        "id": "yFay59AaTSZ_",
        "colab_type": "code",
        "colab": {
          "base_uri": "https://localhost:8080/",
          "height": 580
        },
        "outputId": "52ded0b9-e0a1-4bac-cefd-8cc303e8e300"
      },
      "source": [
        "import numpy as np\n",
        "\n",
        "x2 = np.array([['0,0', '1,0', '2,0', '3,0'],\n",
        "               ['0,1', '1,1', '2,1', '3,1'],\n",
        "               ['0,2', '1,2', '2,2', '3,2'],\n",
        "               ['0,3', '1,3', '2,3', '3,3']])\n",
        "x2_sub = x2[:2, :2]\n",
        "\n",
        "draw_tbl([['x2', 'x2_sub'],\n",
        "          [array_to_html(x2), array_to_html(x2_sub)]])"
      ],
      "execution_count": 11,
      "outputs": [
        {
          "output_type": "display_data",
          "data": {
            "text/html": [
              "\n",
              "<style>\n",
              ".bigtable {\n",
              "  border-collapse: collapse;\n",
              "}\n",
              "\n",
              ".bigtd {\n",
              "  border: 3px solid #f900003f;\n",
              "  min-width:30px;\n",
              "  height: 30px;\n",
              "  position: relative; \n",
              "  text-align:center; \n",
              "  color: #474747;\n",
              "  font-size:20px;\n",
              "  font-weight: bolder;\n",
              "  padding: 19px;\n",
              "}\n",
              "\n",
              "</style>\n",
              "<table class=\"bigtable\">\n",
              "<tr>\n",
              "\t<td class=\"bigtd\">x2</td><td class=\"bigtd\">x2_sub</td>\n",
              "</tr>\n",
              "<tr>\n",
              "\t<td class=\"bigtd\">\n",
              "<style>\n",
              "table {\n",
              "  border-collapse: collapse;\n",
              "}\n",
              "\n",
              "td {\n",
              "  border: 3px solid #666666;\n",
              "  min-width:30px;\n",
              "  height: 30px;\n",
              "  position: relative; \n",
              "  text-align:center; \n",
              "  color: #474747;\n",
              "  font-size:20px;\n",
              "  font-weight: bolder;\n",
              "  padding: 19px;\n",
              "}\n",
              "\n",
              ".up{\n",
              "  position: absolute; \n",
              "  right: 0;\n",
              "  top: 0;\n",
              "  background: white;\n",
              "  text-align: right;\n",
              "  font-size: 16px;\n",
              "  font-family: Courier;\n",
              "  font-weight: bolder;\n",
              "  color: blue;\n",
              "  opacity: 1.0;\n",
              "  background-color:rgba(0, 0, 0, 0.0);\n",
              "}\n",
              "\n",
              ".down{\n",
              "  position: absolute; \n",
              "  right: 0;\n",
              "  bottom: 0;\n",
              "  background: white;\n",
              "  text-align: right;\n",
              "  font-size: 16px;\n",
              "  font-family: Courier;\n",
              "  font-weight: bolder;\n",
              "  color: red;\n",
              "  opacity: 0.9;\n",
              "  background-color:rgba(0, 0, 0, 0.0);\n",
              "}\n",
              "</style>\n",
              "<table bgcolor=\"4b64aa\">\n",
              "<tr>\t<td><table bgcolor=\"96c8ff\"><tr>\n",
              "\t<td>0,0<span class=\"up\">0</span><span class=\"down\">-4</span></td>\n",
              "\t<td>1,0<span class=\"up\">1</span><span class=\"down\">-3</span></td>\n",
              "\t<td>2,0<span class=\"up\">2</span><span class=\"down\">-2</span></td>\n",
              "\t<td>3,0<span class=\"up\">3</span><span class=\"down\">-1</span></td>\n",
              "</tr></table>\n",
              "<span class=\"up\">0</span><span class=\"down\">-4</span></td></tr>\n",
              "<tr>\t<td><table bgcolor=\"96c8ff\"><tr>\n",
              "\t<td>0,1<span class=\"up\">0</span><span class=\"down\">-4</span></td>\n",
              "\t<td>1,1<span class=\"up\">1</span><span class=\"down\">-3</span></td>\n",
              "\t<td>2,1<span class=\"up\">2</span><span class=\"down\">-2</span></td>\n",
              "\t<td>3,1<span class=\"up\">3</span><span class=\"down\">-1</span></td>\n",
              "</tr></table>\n",
              "<span class=\"up\">1</span><span class=\"down\">-3</span></td></tr>\n",
              "<tr>\t<td><table bgcolor=\"96c8ff\"><tr>\n",
              "\t<td>0,2<span class=\"up\">0</span><span class=\"down\">-4</span></td>\n",
              "\t<td>1,2<span class=\"up\">1</span><span class=\"down\">-3</span></td>\n",
              "\t<td>2,2<span class=\"up\">2</span><span class=\"down\">-2</span></td>\n",
              "\t<td>3,2<span class=\"up\">3</span><span class=\"down\">-1</span></td>\n",
              "</tr></table>\n",
              "<span class=\"up\">2</span><span class=\"down\">-2</span></td></tr>\n",
              "<tr>\t<td><table bgcolor=\"96c8ff\"><tr>\n",
              "\t<td>0,3<span class=\"up\">0</span><span class=\"down\">-4</span></td>\n",
              "\t<td>1,3<span class=\"up\">1</span><span class=\"down\">-3</span></td>\n",
              "\t<td>2,3<span class=\"up\">2</span><span class=\"down\">-2</span></td>\n",
              "\t<td>3,3<span class=\"up\">3</span><span class=\"down\">-1</span></td>\n",
              "</tr></table>\n",
              "<span class=\"up\">3</span><span class=\"down\">-1</span></td></tr>\n",
              "</table>\n",
              "</td><td class=\"bigtd\">\n",
              "<style>\n",
              "table {\n",
              "  border-collapse: collapse;\n",
              "}\n",
              "\n",
              "td {\n",
              "  border: 3px solid #666666;\n",
              "  min-width:30px;\n",
              "  height: 30px;\n",
              "  position: relative; \n",
              "  text-align:center; \n",
              "  color: #474747;\n",
              "  font-size:20px;\n",
              "  font-weight: bolder;\n",
              "  padding: 19px;\n",
              "}\n",
              "\n",
              ".up{\n",
              "  position: absolute; \n",
              "  right: 0;\n",
              "  top: 0;\n",
              "  background: white;\n",
              "  text-align: right;\n",
              "  font-size: 16px;\n",
              "  font-family: Courier;\n",
              "  font-weight: bolder;\n",
              "  color: blue;\n",
              "  opacity: 1.0;\n",
              "  background-color:rgba(0, 0, 0, 0.0);\n",
              "}\n",
              "\n",
              ".down{\n",
              "  position: absolute; \n",
              "  right: 0;\n",
              "  bottom: 0;\n",
              "  background: white;\n",
              "  text-align: right;\n",
              "  font-size: 16px;\n",
              "  font-family: Courier;\n",
              "  font-weight: bolder;\n",
              "  color: red;\n",
              "  opacity: 0.9;\n",
              "  background-color:rgba(0, 0, 0, 0.0);\n",
              "}\n",
              "</style>\n",
              "<table bgcolor=\"4b64aa\">\n",
              "<tr>\t<td><table bgcolor=\"96c8ff\"><tr>\n",
              "\t<td>0,0<span class=\"up\">0</span><span class=\"down\">-2</span></td>\n",
              "\t<td>1,0<span class=\"up\">1</span><span class=\"down\">-1</span></td>\n",
              "</tr></table>\n",
              "<span class=\"up\">0</span><span class=\"down\">-2</span></td></tr>\n",
              "<tr>\t<td><table bgcolor=\"96c8ff\"><tr>\n",
              "\t<td>0,1<span class=\"up\">0</span><span class=\"down\">-2</span></td>\n",
              "\t<td>1,1<span class=\"up\">1</span><span class=\"down\">-1</span></td>\n",
              "</tr></table>\n",
              "<span class=\"up\">1</span><span class=\"down\">-1</span></td></tr>\n",
              "</table>\n",
              "</td>\n",
              "</tr>\n",
              "</table>"
            ],
            "text/plain": [
              "<IPython.core.display.HTML object>"
            ]
          },
          "metadata": {
            "tags": []
          }
        }
      ]
    },
    {
      "cell_type": "code",
      "metadata": {
        "id": "TvSaEHUuMyUs",
        "colab_type": "code",
        "colab": {
          "base_uri": "https://localhost:8080/",
          "height": 580
        },
        "outputId": "50339657-0b5f-4c57-e0a7-e84848ad5898"
      },
      "source": [
        "x2_sub[0,0] = '***'\n",
        "draw_tbl([['x2', 'x2_sub'],\n",
        "          [array_to_html(x2), array_to_html(x2_sub)]])"
      ],
      "execution_count": 12,
      "outputs": [
        {
          "output_type": "display_data",
          "data": {
            "text/html": [
              "\n",
              "<style>\n",
              ".bigtable {\n",
              "  border-collapse: collapse;\n",
              "}\n",
              "\n",
              ".bigtd {\n",
              "  border: 3px solid #f900003f;\n",
              "  min-width:30px;\n",
              "  height: 30px;\n",
              "  position: relative; \n",
              "  text-align:center; \n",
              "  color: #474747;\n",
              "  font-size:20px;\n",
              "  font-weight: bolder;\n",
              "  padding: 19px;\n",
              "}\n",
              "\n",
              "</style>\n",
              "<table class=\"bigtable\">\n",
              "<tr>\n",
              "\t<td class=\"bigtd\">x2</td><td class=\"bigtd\">x2_sub</td>\n",
              "</tr>\n",
              "<tr>\n",
              "\t<td class=\"bigtd\">\n",
              "<style>\n",
              "table {\n",
              "  border-collapse: collapse;\n",
              "}\n",
              "\n",
              "td {\n",
              "  border: 3px solid #666666;\n",
              "  min-width:30px;\n",
              "  height: 30px;\n",
              "  position: relative; \n",
              "  text-align:center; \n",
              "  color: #474747;\n",
              "  font-size:20px;\n",
              "  font-weight: bolder;\n",
              "  padding: 19px;\n",
              "}\n",
              "\n",
              ".up{\n",
              "  position: absolute; \n",
              "  right: 0;\n",
              "  top: 0;\n",
              "  background: white;\n",
              "  text-align: right;\n",
              "  font-size: 16px;\n",
              "  font-family: Courier;\n",
              "  font-weight: bolder;\n",
              "  color: blue;\n",
              "  opacity: 1.0;\n",
              "  background-color:rgba(0, 0, 0, 0.0);\n",
              "}\n",
              "\n",
              ".down{\n",
              "  position: absolute; \n",
              "  right: 0;\n",
              "  bottom: 0;\n",
              "  background: white;\n",
              "  text-align: right;\n",
              "  font-size: 16px;\n",
              "  font-family: Courier;\n",
              "  font-weight: bolder;\n",
              "  color: red;\n",
              "  opacity: 0.9;\n",
              "  background-color:rgba(0, 0, 0, 0.0);\n",
              "}\n",
              "</style>\n",
              "<table bgcolor=\"4b64aa\">\n",
              "<tr>\t<td><table bgcolor=\"96c8ff\"><tr>\n",
              "\t<td>***<span class=\"up\">0</span><span class=\"down\">-4</span></td>\n",
              "\t<td>1,0<span class=\"up\">1</span><span class=\"down\">-3</span></td>\n",
              "\t<td>2,0<span class=\"up\">2</span><span class=\"down\">-2</span></td>\n",
              "\t<td>3,0<span class=\"up\">3</span><span class=\"down\">-1</span></td>\n",
              "</tr></table>\n",
              "<span class=\"up\">0</span><span class=\"down\">-4</span></td></tr>\n",
              "<tr>\t<td><table bgcolor=\"96c8ff\"><tr>\n",
              "\t<td>0,1<span class=\"up\">0</span><span class=\"down\">-4</span></td>\n",
              "\t<td>1,1<span class=\"up\">1</span><span class=\"down\">-3</span></td>\n",
              "\t<td>2,1<span class=\"up\">2</span><span class=\"down\">-2</span></td>\n",
              "\t<td>3,1<span class=\"up\">3</span><span class=\"down\">-1</span></td>\n",
              "</tr></table>\n",
              "<span class=\"up\">1</span><span class=\"down\">-3</span></td></tr>\n",
              "<tr>\t<td><table bgcolor=\"96c8ff\"><tr>\n",
              "\t<td>0,2<span class=\"up\">0</span><span class=\"down\">-4</span></td>\n",
              "\t<td>1,2<span class=\"up\">1</span><span class=\"down\">-3</span></td>\n",
              "\t<td>2,2<span class=\"up\">2</span><span class=\"down\">-2</span></td>\n",
              "\t<td>3,2<span class=\"up\">3</span><span class=\"down\">-1</span></td>\n",
              "</tr></table>\n",
              "<span class=\"up\">2</span><span class=\"down\">-2</span></td></tr>\n",
              "<tr>\t<td><table bgcolor=\"96c8ff\"><tr>\n",
              "\t<td>0,3<span class=\"up\">0</span><span class=\"down\">-4</span></td>\n",
              "\t<td>1,3<span class=\"up\">1</span><span class=\"down\">-3</span></td>\n",
              "\t<td>2,3<span class=\"up\">2</span><span class=\"down\">-2</span></td>\n",
              "\t<td>3,3<span class=\"up\">3</span><span class=\"down\">-1</span></td>\n",
              "</tr></table>\n",
              "<span class=\"up\">3</span><span class=\"down\">-1</span></td></tr>\n",
              "</table>\n",
              "</td><td class=\"bigtd\">\n",
              "<style>\n",
              "table {\n",
              "  border-collapse: collapse;\n",
              "}\n",
              "\n",
              "td {\n",
              "  border: 3px solid #666666;\n",
              "  min-width:30px;\n",
              "  height: 30px;\n",
              "  position: relative; \n",
              "  text-align:center; \n",
              "  color: #474747;\n",
              "  font-size:20px;\n",
              "  font-weight: bolder;\n",
              "  padding: 19px;\n",
              "}\n",
              "\n",
              ".up{\n",
              "  position: absolute; \n",
              "  right: 0;\n",
              "  top: 0;\n",
              "  background: white;\n",
              "  text-align: right;\n",
              "  font-size: 16px;\n",
              "  font-family: Courier;\n",
              "  font-weight: bolder;\n",
              "  color: blue;\n",
              "  opacity: 1.0;\n",
              "  background-color:rgba(0, 0, 0, 0.0);\n",
              "}\n",
              "\n",
              ".down{\n",
              "  position: absolute; \n",
              "  right: 0;\n",
              "  bottom: 0;\n",
              "  background: white;\n",
              "  text-align: right;\n",
              "  font-size: 16px;\n",
              "  font-family: Courier;\n",
              "  font-weight: bolder;\n",
              "  color: red;\n",
              "  opacity: 0.9;\n",
              "  background-color:rgba(0, 0, 0, 0.0);\n",
              "}\n",
              "</style>\n",
              "<table bgcolor=\"4b64aa\">\n",
              "<tr>\t<td><table bgcolor=\"96c8ff\"><tr>\n",
              "\t<td>***<span class=\"up\">0</span><span class=\"down\">-2</span></td>\n",
              "\t<td>1,0<span class=\"up\">1</span><span class=\"down\">-1</span></td>\n",
              "</tr></table>\n",
              "<span class=\"up\">0</span><span class=\"down\">-2</span></td></tr>\n",
              "<tr>\t<td><table bgcolor=\"96c8ff\"><tr>\n",
              "\t<td>0,1<span class=\"up\">0</span><span class=\"down\">-2</span></td>\n",
              "\t<td>1,1<span class=\"up\">1</span><span class=\"down\">-1</span></td>\n",
              "</tr></table>\n",
              "<span class=\"up\">1</span><span class=\"down\">-1</span></td></tr>\n",
              "</table>\n",
              "</td>\n",
              "</tr>\n",
              "</table>"
            ],
            "text/plain": [
              "<IPython.core.display.HTML object>"
            ]
          },
          "metadata": {
            "tags": []
          }
        }
      ]
    },
    {
      "cell_type": "code",
      "metadata": {
        "id": "NkXStYmWkn7y",
        "colab_type": "code",
        "colab": {
          "base_uri": "https://localhost:8080/",
          "height": 580
        },
        "outputId": "281f5f84-e66a-4d13-81f5-76bb04895cef"
      },
      "source": [
        "import numpy as np\n",
        "\n",
        "x2 = np.array([['0,0', '1,0', '2,0', '3,0'],\n",
        "               ['0,1', '1,1', '2,1', '3,1'],\n",
        "               ['0,2', '1,2', '2,2', '3,2'],\n",
        "               ['0,3', '1,3', '2,3', '3,3']])\n",
        "x2_sub = x2[:2, :2].copy()\n",
        "\n",
        "draw_tbl([['x2', 'x2_sub'],\n",
        "          [array_to_html(x2), array_to_html(x2_sub)]])"
      ],
      "execution_count": 13,
      "outputs": [
        {
          "output_type": "display_data",
          "data": {
            "text/html": [
              "\n",
              "<style>\n",
              ".bigtable {\n",
              "  border-collapse: collapse;\n",
              "}\n",
              "\n",
              ".bigtd {\n",
              "  border: 3px solid #f900003f;\n",
              "  min-width:30px;\n",
              "  height: 30px;\n",
              "  position: relative; \n",
              "  text-align:center; \n",
              "  color: #474747;\n",
              "  font-size:20px;\n",
              "  font-weight: bolder;\n",
              "  padding: 19px;\n",
              "}\n",
              "\n",
              "</style>\n",
              "<table class=\"bigtable\">\n",
              "<tr>\n",
              "\t<td class=\"bigtd\">x2</td><td class=\"bigtd\">x2_sub</td>\n",
              "</tr>\n",
              "<tr>\n",
              "\t<td class=\"bigtd\">\n",
              "<style>\n",
              "table {\n",
              "  border-collapse: collapse;\n",
              "}\n",
              "\n",
              "td {\n",
              "  border: 3px solid #666666;\n",
              "  min-width:30px;\n",
              "  height: 30px;\n",
              "  position: relative; \n",
              "  text-align:center; \n",
              "  color: #474747;\n",
              "  font-size:20px;\n",
              "  font-weight: bolder;\n",
              "  padding: 19px;\n",
              "}\n",
              "\n",
              ".up{\n",
              "  position: absolute; \n",
              "  right: 0;\n",
              "  top: 0;\n",
              "  background: white;\n",
              "  text-align: right;\n",
              "  font-size: 16px;\n",
              "  font-family: Courier;\n",
              "  font-weight: bolder;\n",
              "  color: blue;\n",
              "  opacity: 1.0;\n",
              "  background-color:rgba(0, 0, 0, 0.0);\n",
              "}\n",
              "\n",
              ".down{\n",
              "  position: absolute; \n",
              "  right: 0;\n",
              "  bottom: 0;\n",
              "  background: white;\n",
              "  text-align: right;\n",
              "  font-size: 16px;\n",
              "  font-family: Courier;\n",
              "  font-weight: bolder;\n",
              "  color: red;\n",
              "  opacity: 0.9;\n",
              "  background-color:rgba(0, 0, 0, 0.0);\n",
              "}\n",
              "</style>\n",
              "<table bgcolor=\"4b64aa\">\n",
              "<tr>\t<td><table bgcolor=\"96c8ff\"><tr>\n",
              "\t<td>0,0<span class=\"up\">0</span><span class=\"down\">-4</span></td>\n",
              "\t<td>1,0<span class=\"up\">1</span><span class=\"down\">-3</span></td>\n",
              "\t<td>2,0<span class=\"up\">2</span><span class=\"down\">-2</span></td>\n",
              "\t<td>3,0<span class=\"up\">3</span><span class=\"down\">-1</span></td>\n",
              "</tr></table>\n",
              "<span class=\"up\">0</span><span class=\"down\">-4</span></td></tr>\n",
              "<tr>\t<td><table bgcolor=\"96c8ff\"><tr>\n",
              "\t<td>0,1<span class=\"up\">0</span><span class=\"down\">-4</span></td>\n",
              "\t<td>1,1<span class=\"up\">1</span><span class=\"down\">-3</span></td>\n",
              "\t<td>2,1<span class=\"up\">2</span><span class=\"down\">-2</span></td>\n",
              "\t<td>3,1<span class=\"up\">3</span><span class=\"down\">-1</span></td>\n",
              "</tr></table>\n",
              "<span class=\"up\">1</span><span class=\"down\">-3</span></td></tr>\n",
              "<tr>\t<td><table bgcolor=\"96c8ff\"><tr>\n",
              "\t<td>0,2<span class=\"up\">0</span><span class=\"down\">-4</span></td>\n",
              "\t<td>1,2<span class=\"up\">1</span><span class=\"down\">-3</span></td>\n",
              "\t<td>2,2<span class=\"up\">2</span><span class=\"down\">-2</span></td>\n",
              "\t<td>3,2<span class=\"up\">3</span><span class=\"down\">-1</span></td>\n",
              "</tr></table>\n",
              "<span class=\"up\">2</span><span class=\"down\">-2</span></td></tr>\n",
              "<tr>\t<td><table bgcolor=\"96c8ff\"><tr>\n",
              "\t<td>0,3<span class=\"up\">0</span><span class=\"down\">-4</span></td>\n",
              "\t<td>1,3<span class=\"up\">1</span><span class=\"down\">-3</span></td>\n",
              "\t<td>2,3<span class=\"up\">2</span><span class=\"down\">-2</span></td>\n",
              "\t<td>3,3<span class=\"up\">3</span><span class=\"down\">-1</span></td>\n",
              "</tr></table>\n",
              "<span class=\"up\">3</span><span class=\"down\">-1</span></td></tr>\n",
              "</table>\n",
              "</td><td class=\"bigtd\">\n",
              "<style>\n",
              "table {\n",
              "  border-collapse: collapse;\n",
              "}\n",
              "\n",
              "td {\n",
              "  border: 3px solid #666666;\n",
              "  min-width:30px;\n",
              "  height: 30px;\n",
              "  position: relative; \n",
              "  text-align:center; \n",
              "  color: #474747;\n",
              "  font-size:20px;\n",
              "  font-weight: bolder;\n",
              "  padding: 19px;\n",
              "}\n",
              "\n",
              ".up{\n",
              "  position: absolute; \n",
              "  right: 0;\n",
              "  top: 0;\n",
              "  background: white;\n",
              "  text-align: right;\n",
              "  font-size: 16px;\n",
              "  font-family: Courier;\n",
              "  font-weight: bolder;\n",
              "  color: blue;\n",
              "  opacity: 1.0;\n",
              "  background-color:rgba(0, 0, 0, 0.0);\n",
              "}\n",
              "\n",
              ".down{\n",
              "  position: absolute; \n",
              "  right: 0;\n",
              "  bottom: 0;\n",
              "  background: white;\n",
              "  text-align: right;\n",
              "  font-size: 16px;\n",
              "  font-family: Courier;\n",
              "  font-weight: bolder;\n",
              "  color: red;\n",
              "  opacity: 0.9;\n",
              "  background-color:rgba(0, 0, 0, 0.0);\n",
              "}\n",
              "</style>\n",
              "<table bgcolor=\"4b64aa\">\n",
              "<tr>\t<td><table bgcolor=\"96c8ff\"><tr>\n",
              "\t<td>0,0<span class=\"up\">0</span><span class=\"down\">-2</span></td>\n",
              "\t<td>1,0<span class=\"up\">1</span><span class=\"down\">-1</span></td>\n",
              "</tr></table>\n",
              "<span class=\"up\">0</span><span class=\"down\">-2</span></td></tr>\n",
              "<tr>\t<td><table bgcolor=\"96c8ff\"><tr>\n",
              "\t<td>0,1<span class=\"up\">0</span><span class=\"down\">-2</span></td>\n",
              "\t<td>1,1<span class=\"up\">1</span><span class=\"down\">-1</span></td>\n",
              "</tr></table>\n",
              "<span class=\"up\">1</span><span class=\"down\">-1</span></td></tr>\n",
              "</table>\n",
              "</td>\n",
              "</tr>\n",
              "</table>"
            ],
            "text/plain": [
              "<IPython.core.display.HTML object>"
            ]
          },
          "metadata": {
            "tags": []
          }
        }
      ]
    },
    {
      "cell_type": "code",
      "metadata": {
        "id": "5IHjiBH2NVcF",
        "colab_type": "code",
        "colab": {
          "base_uri": "https://localhost:8080/",
          "height": 580
        },
        "outputId": "7dde972d-9439-4901-fe18-289091f3f527"
      },
      "source": [
        "x2_sub[0,0] = '***'\n",
        "draw_tbl([['x2', 'x2_sub'],\n",
        "          [array_to_html(x2), array_to_html(x2_sub)]])"
      ],
      "execution_count": 14,
      "outputs": [
        {
          "output_type": "display_data",
          "data": {
            "text/html": [
              "\n",
              "<style>\n",
              ".bigtable {\n",
              "  border-collapse: collapse;\n",
              "}\n",
              "\n",
              ".bigtd {\n",
              "  border: 3px solid #f900003f;\n",
              "  min-width:30px;\n",
              "  height: 30px;\n",
              "  position: relative; \n",
              "  text-align:center; \n",
              "  color: #474747;\n",
              "  font-size:20px;\n",
              "  font-weight: bolder;\n",
              "  padding: 19px;\n",
              "}\n",
              "\n",
              "</style>\n",
              "<table class=\"bigtable\">\n",
              "<tr>\n",
              "\t<td class=\"bigtd\">x2</td><td class=\"bigtd\">x2_sub</td>\n",
              "</tr>\n",
              "<tr>\n",
              "\t<td class=\"bigtd\">\n",
              "<style>\n",
              "table {\n",
              "  border-collapse: collapse;\n",
              "}\n",
              "\n",
              "td {\n",
              "  border: 3px solid #666666;\n",
              "  min-width:30px;\n",
              "  height: 30px;\n",
              "  position: relative; \n",
              "  text-align:center; \n",
              "  color: #474747;\n",
              "  font-size:20px;\n",
              "  font-weight: bolder;\n",
              "  padding: 19px;\n",
              "}\n",
              "\n",
              ".up{\n",
              "  position: absolute; \n",
              "  right: 0;\n",
              "  top: 0;\n",
              "  background: white;\n",
              "  text-align: right;\n",
              "  font-size: 16px;\n",
              "  font-family: Courier;\n",
              "  font-weight: bolder;\n",
              "  color: blue;\n",
              "  opacity: 1.0;\n",
              "  background-color:rgba(0, 0, 0, 0.0);\n",
              "}\n",
              "\n",
              ".down{\n",
              "  position: absolute; \n",
              "  right: 0;\n",
              "  bottom: 0;\n",
              "  background: white;\n",
              "  text-align: right;\n",
              "  font-size: 16px;\n",
              "  font-family: Courier;\n",
              "  font-weight: bolder;\n",
              "  color: red;\n",
              "  opacity: 0.9;\n",
              "  background-color:rgba(0, 0, 0, 0.0);\n",
              "}\n",
              "</style>\n",
              "<table bgcolor=\"4b64aa\">\n",
              "<tr>\t<td><table bgcolor=\"96c8ff\"><tr>\n",
              "\t<td>0,0<span class=\"up\">0</span><span class=\"down\">-4</span></td>\n",
              "\t<td>1,0<span class=\"up\">1</span><span class=\"down\">-3</span></td>\n",
              "\t<td>2,0<span class=\"up\">2</span><span class=\"down\">-2</span></td>\n",
              "\t<td>3,0<span class=\"up\">3</span><span class=\"down\">-1</span></td>\n",
              "</tr></table>\n",
              "<span class=\"up\">0</span><span class=\"down\">-4</span></td></tr>\n",
              "<tr>\t<td><table bgcolor=\"96c8ff\"><tr>\n",
              "\t<td>0,1<span class=\"up\">0</span><span class=\"down\">-4</span></td>\n",
              "\t<td>1,1<span class=\"up\">1</span><span class=\"down\">-3</span></td>\n",
              "\t<td>2,1<span class=\"up\">2</span><span class=\"down\">-2</span></td>\n",
              "\t<td>3,1<span class=\"up\">3</span><span class=\"down\">-1</span></td>\n",
              "</tr></table>\n",
              "<span class=\"up\">1</span><span class=\"down\">-3</span></td></tr>\n",
              "<tr>\t<td><table bgcolor=\"96c8ff\"><tr>\n",
              "\t<td>0,2<span class=\"up\">0</span><span class=\"down\">-4</span></td>\n",
              "\t<td>1,2<span class=\"up\">1</span><span class=\"down\">-3</span></td>\n",
              "\t<td>2,2<span class=\"up\">2</span><span class=\"down\">-2</span></td>\n",
              "\t<td>3,2<span class=\"up\">3</span><span class=\"down\">-1</span></td>\n",
              "</tr></table>\n",
              "<span class=\"up\">2</span><span class=\"down\">-2</span></td></tr>\n",
              "<tr>\t<td><table bgcolor=\"96c8ff\"><tr>\n",
              "\t<td>0,3<span class=\"up\">0</span><span class=\"down\">-4</span></td>\n",
              "\t<td>1,3<span class=\"up\">1</span><span class=\"down\">-3</span></td>\n",
              "\t<td>2,3<span class=\"up\">2</span><span class=\"down\">-2</span></td>\n",
              "\t<td>3,3<span class=\"up\">3</span><span class=\"down\">-1</span></td>\n",
              "</tr></table>\n",
              "<span class=\"up\">3</span><span class=\"down\">-1</span></td></tr>\n",
              "</table>\n",
              "</td><td class=\"bigtd\">\n",
              "<style>\n",
              "table {\n",
              "  border-collapse: collapse;\n",
              "}\n",
              "\n",
              "td {\n",
              "  border: 3px solid #666666;\n",
              "  min-width:30px;\n",
              "  height: 30px;\n",
              "  position: relative; \n",
              "  text-align:center; \n",
              "  color: #474747;\n",
              "  font-size:20px;\n",
              "  font-weight: bolder;\n",
              "  padding: 19px;\n",
              "}\n",
              "\n",
              ".up{\n",
              "  position: absolute; \n",
              "  right: 0;\n",
              "  top: 0;\n",
              "  background: white;\n",
              "  text-align: right;\n",
              "  font-size: 16px;\n",
              "  font-family: Courier;\n",
              "  font-weight: bolder;\n",
              "  color: blue;\n",
              "  opacity: 1.0;\n",
              "  background-color:rgba(0, 0, 0, 0.0);\n",
              "}\n",
              "\n",
              ".down{\n",
              "  position: absolute; \n",
              "  right: 0;\n",
              "  bottom: 0;\n",
              "  background: white;\n",
              "  text-align: right;\n",
              "  font-size: 16px;\n",
              "  font-family: Courier;\n",
              "  font-weight: bolder;\n",
              "  color: red;\n",
              "  opacity: 0.9;\n",
              "  background-color:rgba(0, 0, 0, 0.0);\n",
              "}\n",
              "</style>\n",
              "<table bgcolor=\"4b64aa\">\n",
              "<tr>\t<td><table bgcolor=\"96c8ff\"><tr>\n",
              "\t<td>***<span class=\"up\">0</span><span class=\"down\">-2</span></td>\n",
              "\t<td>1,0<span class=\"up\">1</span><span class=\"down\">-1</span></td>\n",
              "</tr></table>\n",
              "<span class=\"up\">0</span><span class=\"down\">-2</span></td></tr>\n",
              "<tr>\t<td><table bgcolor=\"96c8ff\"><tr>\n",
              "\t<td>0,1<span class=\"up\">0</span><span class=\"down\">-2</span></td>\n",
              "\t<td>1,1<span class=\"up\">1</span><span class=\"down\">-1</span></td>\n",
              "</tr></table>\n",
              "<span class=\"up\">1</span><span class=\"down\">-1</span></td></tr>\n",
              "</table>\n",
              "</td>\n",
              "</tr>\n",
              "</table>"
            ],
            "text/plain": [
              "<IPython.core.display.HTML object>"
            ]
          },
          "metadata": {
            "tags": []
          }
        }
      ]
    },
    {
      "cell_type": "markdown",
      "metadata": {
        "id": "282bQAMENepq",
        "colab_type": "text"
      },
      "source": [
        "##Reshaping of Arrays"
      ]
    },
    {
      "cell_type": "code",
      "metadata": {
        "id": "0p5yhpxByuA5",
        "colab_type": "code",
        "colab": {
          "base_uri": "https://localhost:8080/",
          "height": 467
        },
        "outputId": "7a1b81af-9807-4c21-dcf4-f21e157b2ecd"
      },
      "source": [
        "draw_tbl([['np.arange(1, 10)', 'np.arange(1, 10).reshape((3, 3))'],\n",
        "          [array_to_html(np.arange(1, 10)), array_to_html(np.arange(1, 10).reshape((3, 3)))]])"
      ],
      "execution_count": 17,
      "outputs": [
        {
          "output_type": "display_data",
          "data": {
            "text/html": [
              "\n",
              "<style>\n",
              ".bigtable {\n",
              "  border-collapse: collapse;\n",
              "}\n",
              "\n",
              ".bigtd {\n",
              "  border: 3px solid #f900003f;\n",
              "  min-width:30px;\n",
              "  height: 30px;\n",
              "  position: relative; \n",
              "  text-align:center; \n",
              "  color: #474747;\n",
              "  font-size:20px;\n",
              "  font-weight: bolder;\n",
              "  padding: 19px;\n",
              "}\n",
              "\n",
              "</style>\n",
              "<table class=\"bigtable\">\n",
              "<tr>\n",
              "\t<td class=\"bigtd\">np.arange(1, 10)</td><td class=\"bigtd\">np.arange(1, 10).reshape((3, 3))</td>\n",
              "</tr>\n",
              "<tr>\n",
              "\t<td class=\"bigtd\">\n",
              "<style>\n",
              "table {\n",
              "  border-collapse: collapse;\n",
              "}\n",
              "\n",
              "td {\n",
              "  border: 3px solid #666666;\n",
              "  min-width:30px;\n",
              "  height: 30px;\n",
              "  position: relative; \n",
              "  text-align:center; \n",
              "  color: #474747;\n",
              "  font-size:20px;\n",
              "  font-weight: bolder;\n",
              "  padding: 19px;\n",
              "}\n",
              "\n",
              ".up{\n",
              "  position: absolute; \n",
              "  right: 0;\n",
              "  top: 0;\n",
              "  background: white;\n",
              "  text-align: right;\n",
              "  font-size: 16px;\n",
              "  font-family: Courier;\n",
              "  font-weight: bolder;\n",
              "  color: blue;\n",
              "  opacity: 1.0;\n",
              "  background-color:rgba(0, 0, 0, 0.0);\n",
              "}\n",
              "\n",
              ".down{\n",
              "  position: absolute; \n",
              "  right: 0;\n",
              "  bottom: 0;\n",
              "  background: white;\n",
              "  text-align: right;\n",
              "  font-size: 16px;\n",
              "  font-family: Courier;\n",
              "  font-weight: bolder;\n",
              "  color: red;\n",
              "  opacity: 0.9;\n",
              "  background-color:rgba(0, 0, 0, 0.0);\n",
              "}\n",
              "</style>\n",
              "<table bgcolor=\"96c8ff\"><tr>\n",
              "\t<td>1<span class=\"up\">0</span><span class=\"down\">-9</span></td>\n",
              "\t<td>2<span class=\"up\">1</span><span class=\"down\">-8</span></td>\n",
              "\t<td>3<span class=\"up\">2</span><span class=\"down\">-7</span></td>\n",
              "\t<td>4<span class=\"up\">3</span><span class=\"down\">-6</span></td>\n",
              "\t<td>5<span class=\"up\">4</span><span class=\"down\">-5</span></td>\n",
              "\t<td>6<span class=\"up\">5</span><span class=\"down\">-4</span></td>\n",
              "\t<td>7<span class=\"up\">6</span><span class=\"down\">-3</span></td>\n",
              "\t<td>8<span class=\"up\">7</span><span class=\"down\">-2</span></td>\n",
              "\t<td>9<span class=\"up\">8</span><span class=\"down\">-1</span></td>\n",
              "</tr></table>\n",
              "</td><td class=\"bigtd\">\n",
              "<style>\n",
              "table {\n",
              "  border-collapse: collapse;\n",
              "}\n",
              "\n",
              "td {\n",
              "  border: 3px solid #666666;\n",
              "  min-width:30px;\n",
              "  height: 30px;\n",
              "  position: relative; \n",
              "  text-align:center; \n",
              "  color: #474747;\n",
              "  font-size:20px;\n",
              "  font-weight: bolder;\n",
              "  padding: 19px;\n",
              "}\n",
              "\n",
              ".up{\n",
              "  position: absolute; \n",
              "  right: 0;\n",
              "  top: 0;\n",
              "  background: white;\n",
              "  text-align: right;\n",
              "  font-size: 16px;\n",
              "  font-family: Courier;\n",
              "  font-weight: bolder;\n",
              "  color: blue;\n",
              "  opacity: 1.0;\n",
              "  background-color:rgba(0, 0, 0, 0.0);\n",
              "}\n",
              "\n",
              ".down{\n",
              "  position: absolute; \n",
              "  right: 0;\n",
              "  bottom: 0;\n",
              "  background: white;\n",
              "  text-align: right;\n",
              "  font-size: 16px;\n",
              "  font-family: Courier;\n",
              "  font-weight: bolder;\n",
              "  color: red;\n",
              "  opacity: 0.9;\n",
              "  background-color:rgba(0, 0, 0, 0.0);\n",
              "}\n",
              "</style>\n",
              "<table bgcolor=\"4b64aa\">\n",
              "<tr>\t<td><table bgcolor=\"96c8ff\"><tr>\n",
              "\t<td>1<span class=\"up\">0</span><span class=\"down\">-3</span></td>\n",
              "\t<td>2<span class=\"up\">1</span><span class=\"down\">-2</span></td>\n",
              "\t<td>3<span class=\"up\">2</span><span class=\"down\">-1</span></td>\n",
              "</tr></table>\n",
              "<span class=\"up\">0</span><span class=\"down\">-3</span></td></tr>\n",
              "<tr>\t<td><table bgcolor=\"96c8ff\"><tr>\n",
              "\t<td>4<span class=\"up\">0</span><span class=\"down\">-3</span></td>\n",
              "\t<td>5<span class=\"up\">1</span><span class=\"down\">-2</span></td>\n",
              "\t<td>6<span class=\"up\">2</span><span class=\"down\">-1</span></td>\n",
              "</tr></table>\n",
              "<span class=\"up\">1</span><span class=\"down\">-2</span></td></tr>\n",
              "<tr>\t<td><table bgcolor=\"96c8ff\"><tr>\n",
              "\t<td>7<span class=\"up\">0</span><span class=\"down\">-3</span></td>\n",
              "\t<td>8<span class=\"up\">1</span><span class=\"down\">-2</span></td>\n",
              "\t<td>9<span class=\"up\">2</span><span class=\"down\">-1</span></td>\n",
              "</tr></table>\n",
              "<span class=\"up\">2</span><span class=\"down\">-1</span></td></tr>\n",
              "</table>\n",
              "</td>\n",
              "</tr>\n",
              "</table>"
            ],
            "text/plain": [
              "<IPython.core.display.HTML object>"
            ]
          },
          "metadata": {
            "tags": []
          }
        }
      ]
    },
    {
      "cell_type": "code",
      "metadata": {
        "id": "MvOpm-NmzO7-",
        "colab_type": "code",
        "colab": {
          "base_uri": "https://localhost:8080/",
          "height": 511
        },
        "outputId": "90f080ed-e432-446b-be72-d50548078cc0"
      },
      "source": [
        "x = np.array([1, 2, 3])\n",
        "draw_tbl([['np.array([1, 2, 3])', \n",
        "           'np.array([1, 2, 3]).reshape((1, 3))<br>or<br>x[np.newaxis, :]',\n",
        "           'np.array([1, 2, 3]).reshape((3, 1))<br>or<br>x[:, np.newaxis]'],\n",
        "          [array_to_html(x), array_to_html(x.reshape((1, 3))), array_to_html(x.reshape((3, 1)))]])"
      ],
      "execution_count": 23,
      "outputs": [
        {
          "output_type": "display_data",
          "data": {
            "text/html": [
              "\n",
              "<style>\n",
              ".bigtable {\n",
              "  border-collapse: collapse;\n",
              "}\n",
              "\n",
              ".bigtd {\n",
              "  border: 3px solid #f900003f;\n",
              "  min-width:30px;\n",
              "  height: 30px;\n",
              "  position: relative; \n",
              "  text-align:center; \n",
              "  color: #474747;\n",
              "  font-size:20px;\n",
              "  font-weight: bolder;\n",
              "  padding: 19px;\n",
              "}\n",
              "\n",
              "</style>\n",
              "<table class=\"bigtable\">\n",
              "<tr>\n",
              "\t<td class=\"bigtd\">np.array([1, 2, 3])</td><td class=\"bigtd\">np.array([1, 2, 3]).reshape((1, 3))<br>or<br>x[np.newaxis, :]</td><td class=\"bigtd\">np.array([1, 2, 3]).reshape((3, 1))<br>or<br>x[:, np.newaxis]</td>\n",
              "</tr>\n",
              "<tr>\n",
              "\t<td class=\"bigtd\">\n",
              "<style>\n",
              "table {\n",
              "  border-collapse: collapse;\n",
              "}\n",
              "\n",
              "td {\n",
              "  border: 3px solid #666666;\n",
              "  min-width:30px;\n",
              "  height: 30px;\n",
              "  position: relative; \n",
              "  text-align:center; \n",
              "  color: #474747;\n",
              "  font-size:20px;\n",
              "  font-weight: bolder;\n",
              "  padding: 19px;\n",
              "}\n",
              "\n",
              ".up{\n",
              "  position: absolute; \n",
              "  right: 0;\n",
              "  top: 0;\n",
              "  background: white;\n",
              "  text-align: right;\n",
              "  font-size: 16px;\n",
              "  font-family: Courier;\n",
              "  font-weight: bolder;\n",
              "  color: blue;\n",
              "  opacity: 1.0;\n",
              "  background-color:rgba(0, 0, 0, 0.0);\n",
              "}\n",
              "\n",
              ".down{\n",
              "  position: absolute; \n",
              "  right: 0;\n",
              "  bottom: 0;\n",
              "  background: white;\n",
              "  text-align: right;\n",
              "  font-size: 16px;\n",
              "  font-family: Courier;\n",
              "  font-weight: bolder;\n",
              "  color: red;\n",
              "  opacity: 0.9;\n",
              "  background-color:rgba(0, 0, 0, 0.0);\n",
              "}\n",
              "</style>\n",
              "<table bgcolor=\"96c8ff\"><tr>\n",
              "\t<td>1<span class=\"up\">0</span><span class=\"down\">-3</span></td>\n",
              "\t<td>2<span class=\"up\">1</span><span class=\"down\">-2</span></td>\n",
              "\t<td>3<span class=\"up\">2</span><span class=\"down\">-1</span></td>\n",
              "</tr></table>\n",
              "</td><td class=\"bigtd\">\n",
              "<style>\n",
              "table {\n",
              "  border-collapse: collapse;\n",
              "}\n",
              "\n",
              "td {\n",
              "  border: 3px solid #666666;\n",
              "  min-width:30px;\n",
              "  height: 30px;\n",
              "  position: relative; \n",
              "  text-align:center; \n",
              "  color: #474747;\n",
              "  font-size:20px;\n",
              "  font-weight: bolder;\n",
              "  padding: 19px;\n",
              "}\n",
              "\n",
              ".up{\n",
              "  position: absolute; \n",
              "  right: 0;\n",
              "  top: 0;\n",
              "  background: white;\n",
              "  text-align: right;\n",
              "  font-size: 16px;\n",
              "  font-family: Courier;\n",
              "  font-weight: bolder;\n",
              "  color: blue;\n",
              "  opacity: 1.0;\n",
              "  background-color:rgba(0, 0, 0, 0.0);\n",
              "}\n",
              "\n",
              ".down{\n",
              "  position: absolute; \n",
              "  right: 0;\n",
              "  bottom: 0;\n",
              "  background: white;\n",
              "  text-align: right;\n",
              "  font-size: 16px;\n",
              "  font-family: Courier;\n",
              "  font-weight: bolder;\n",
              "  color: red;\n",
              "  opacity: 0.9;\n",
              "  background-color:rgba(0, 0, 0, 0.0);\n",
              "}\n",
              "</style>\n",
              "<table bgcolor=\"4b64aa\">\n",
              "<tr>\t<td><table bgcolor=\"96c8ff\"><tr>\n",
              "\t<td>1<span class=\"up\">0</span><span class=\"down\">-3</span></td>\n",
              "\t<td>2<span class=\"up\">1</span><span class=\"down\">-2</span></td>\n",
              "\t<td>3<span class=\"up\">2</span><span class=\"down\">-1</span></td>\n",
              "</tr></table>\n",
              "<span class=\"up\">0</span><span class=\"down\">-1</span></td></tr>\n",
              "</table>\n",
              "</td><td class=\"bigtd\">\n",
              "<style>\n",
              "table {\n",
              "  border-collapse: collapse;\n",
              "}\n",
              "\n",
              "td {\n",
              "  border: 3px solid #666666;\n",
              "  min-width:30px;\n",
              "  height: 30px;\n",
              "  position: relative; \n",
              "  text-align:center; \n",
              "  color: #474747;\n",
              "  font-size:20px;\n",
              "  font-weight: bolder;\n",
              "  padding: 19px;\n",
              "}\n",
              "\n",
              ".up{\n",
              "  position: absolute; \n",
              "  right: 0;\n",
              "  top: 0;\n",
              "  background: white;\n",
              "  text-align: right;\n",
              "  font-size: 16px;\n",
              "  font-family: Courier;\n",
              "  font-weight: bolder;\n",
              "  color: blue;\n",
              "  opacity: 1.0;\n",
              "  background-color:rgba(0, 0, 0, 0.0);\n",
              "}\n",
              "\n",
              ".down{\n",
              "  position: absolute; \n",
              "  right: 0;\n",
              "  bottom: 0;\n",
              "  background: white;\n",
              "  text-align: right;\n",
              "  font-size: 16px;\n",
              "  font-family: Courier;\n",
              "  font-weight: bolder;\n",
              "  color: red;\n",
              "  opacity: 0.9;\n",
              "  background-color:rgba(0, 0, 0, 0.0);\n",
              "}\n",
              "</style>\n",
              "<table bgcolor=\"4b64aa\">\n",
              "<tr>\t<td><table bgcolor=\"96c8ff\"><tr>\n",
              "\t<td>1<span class=\"up\">0</span><span class=\"down\">-1</span></td>\n",
              "</tr></table>\n",
              "<span class=\"up\">0</span><span class=\"down\">-3</span></td></tr>\n",
              "<tr>\t<td><table bgcolor=\"96c8ff\"><tr>\n",
              "\t<td>2<span class=\"up\">0</span><span class=\"down\">-1</span></td>\n",
              "</tr></table>\n",
              "<span class=\"up\">1</span><span class=\"down\">-2</span></td></tr>\n",
              "<tr>\t<td><table bgcolor=\"96c8ff\"><tr>\n",
              "\t<td>3<span class=\"up\">0</span><span class=\"down\">-1</span></td>\n",
              "</tr></table>\n",
              "<span class=\"up\">2</span><span class=\"down\">-1</span></td></tr>\n",
              "</table>\n",
              "</td>\n",
              "</tr>\n",
              "</table>"
            ],
            "text/plain": [
              "<IPython.core.display.HTML object>"
            ]
          },
          "metadata": {
            "tags": []
          }
        }
      ]
    },
    {
      "cell_type": "markdown",
      "metadata": {
        "id": "lRftDh6SSGFw",
        "colab_type": "text"
      },
      "source": [
        "##Array Concatenation and Splitting"
      ]
    },
    {
      "cell_type": "code",
      "metadata": {
        "id": "YD0LFiEsSHiB",
        "colab_type": "code",
        "colab": {}
      },
      "source": [
        "x = np.array([1, 2, 3])\n",
        "y = np.array([3, 2, 1])\n",
        "np.concatenate([x, y])"
      ],
      "execution_count": 0,
      "outputs": []
    },
    {
      "cell_type": "code",
      "metadata": {
        "id": "HDzLJXw-Sr38",
        "colab_type": "code",
        "colab": {}
      },
      "source": [
        "z = [99, 99, 99]\n",
        "print(np.concatenate([x, y, z]))"
      ],
      "execution_count": 0,
      "outputs": []
    },
    {
      "cell_type": "code",
      "metadata": {
        "id": "nHDWRk_WSy_8",
        "colab_type": "code",
        "colab": {}
      },
      "source": [
        "grid = np.array([[1, 2, 3], [4, 5, 6]])\n",
        "# concatenate along the first axis\n",
        "np.concatenate([grid, grid])"
      ],
      "execution_count": 0,
      "outputs": []
    },
    {
      "cell_type": "code",
      "metadata": {
        "id": "Mv0vtgr9S7V0",
        "colab_type": "code",
        "colab": {}
      },
      "source": [
        "# concatenate along the second axis (zero-indexed)\n",
        "np.concatenate([grid, grid], axis=1)"
      ],
      "execution_count": 0,
      "outputs": []
    },
    {
      "cell_type": "code",
      "metadata": {
        "id": "QMEzicLBTEu3",
        "colab_type": "code",
        "colab": {}
      },
      "source": [
        "x = np.array([1, 2, 3])\n",
        "grid = np.array([[9, 8, 7], [6, 5, 4]])\n",
        "# vertically stack the arrays\n",
        "np.vstack([x, grid])"
      ],
      "execution_count": 0,
      "outputs": []
    },
    {
      "cell_type": "code",
      "metadata": {
        "id": "tZNuHX9CTIw0",
        "colab_type": "code",
        "colab": {}
      },
      "source": [
        "# horizontally stack the arrays\n",
        "y = np.array([[99], [99]])\n",
        "np.hstack([grid, y])"
      ],
      "execution_count": 0,
      "outputs": []
    },
    {
      "cell_type": "code",
      "metadata": {
        "id": "c93OafiYTRLq",
        "colab_type": "code",
        "colab": {}
      },
      "source": [
        "x = [1, 2, 3, 99, 99, 3, 2, 1]\n",
        "x1, x2, x3 = np.split(x, [3, 5])\n",
        "print(x1, x2, x3)"
      ],
      "execution_count": 0,
      "outputs": []
    },
    {
      "cell_type": "code",
      "metadata": {
        "id": "VF6Wsh4oTTo0",
        "colab_type": "code",
        "colab": {}
      },
      "source": [
        "grid = np.arange(16).reshape((4, 4))\n",
        "grid"
      ],
      "execution_count": 0,
      "outputs": []
    },
    {
      "cell_type": "code",
      "metadata": {
        "id": "Iu_A96oRTjS1",
        "colab_type": "code",
        "colab": {}
      },
      "source": [
        "upper, lower = np.vsplit(grid, [2])\n",
        "print(upper)\n",
        "print(lower)"
      ],
      "execution_count": 0,
      "outputs": []
    },
    {
      "cell_type": "code",
      "metadata": {
        "id": "mNplDpW6TqZy",
        "colab_type": "code",
        "colab": {}
      },
      "source": [
        "left, right = np.hsplit(grid, [2])\n",
        "print(left)\n",
        "print(right)"
      ],
      "execution_count": 0,
      "outputs": []
    },
    {
      "cell_type": "markdown",
      "metadata": {
        "id": "I0J4rVgzVP2T",
        "colab_type": "text"
      },
      "source": [
        "#Computation on NumPy Arrays: Universal Functions"
      ]
    },
    {
      "cell_type": "markdown",
      "metadata": {
        "id": "knNVa-x3fIv3",
        "colab_type": "text"
      },
      "source": [
        "| Operator\t    | Equivalent ufunc    | Description                           |\n",
        "|---------------|---------------------|---------------------------------------|\n",
        "|``+``          |``np.add``           |Addition (e.g., ``1 + 1 = 2``)         |\n",
        "|``-``          |``np.subtract``      |Subtraction (e.g., ``3 - 2 = 1``)      |\n",
        "|``-``          |``np.negative``      |Unary negation (e.g., ``-2``)          |\n",
        "|``*``          |``np.multiply``      |Multiplication (e.g., ``2 * 3 = 6``)   |\n",
        "|``/``          |``np.divide``        |Division (e.g., ``3 / 2 = 1.5``)       |\n",
        "|``//``         |``np.floor_divide``  |Floor division (e.g., ``3 // 2 = 1``)  |\n",
        "|``**``         |``np.power``         |Exponentiation (e.g., ``2 ** 3 = 8``)  |\n",
        "|``%``          |``np.mod``           |Modulus/remainder (e.g., ``9 % 4 = 1``)|"
      ]
    },
    {
      "cell_type": "markdown",
      "metadata": {
        "id": "xRB68Kt5WRN7",
        "colab_type": "text"
      },
      "source": [
        "##The Slowness of Loops"
      ]
    },
    {
      "cell_type": "code",
      "metadata": {
        "id": "HWVoz6FpWRx2",
        "colab_type": "code",
        "colab": {}
      },
      "source": [
        "import numpy as np\n",
        "np.random.seed(0)\n",
        "\n",
        "\n",
        "def compute_reciprocals(values):\n",
        "  output = np.empty(len(values))\n",
        "  for i in range(len(values)):\n",
        "    output[i] = 1.0 / values[i]\n",
        "  return output\n",
        "\n",
        "\n",
        "values = np.random.randint(1, 10, size=5)\n",
        "compute_reciprocals(values)"
      ],
      "execution_count": 0,
      "outputs": []
    },
    {
      "cell_type": "code",
      "metadata": {
        "id": "ktFok2SWX2ZE",
        "colab_type": "code",
        "colab": {}
      },
      "source": [
        "big_array = np.random.randint(1, 100, size=1000000)\n",
        "%timeit compute_reciprocals(big_array)"
      ],
      "execution_count": 0,
      "outputs": []
    },
    {
      "cell_type": "markdown",
      "metadata": {
        "id": "IQ0Rfi_PYD2e",
        "colab_type": "text"
      },
      "source": [
        "##Introducing UFuncs"
      ]
    },
    {
      "cell_type": "code",
      "metadata": {
        "id": "oRKfH8hCYFdr",
        "colab_type": "code",
        "colab": {}
      },
      "source": [
        "print(compute_reciprocals(values))\n",
        "print(1.0 / values)"
      ],
      "execution_count": 0,
      "outputs": []
    },
    {
      "cell_type": "code",
      "metadata": {
        "id": "fsvRg0hdj9Qy",
        "colab_type": "code",
        "colab": {}
      },
      "source": [
        "%timeit (1.0 / big_array)"
      ],
      "execution_count": 0,
      "outputs": []
    },
    {
      "cell_type": "code",
      "metadata": {
        "id": "TfjsuEWAkBqg",
        "colab_type": "code",
        "colab": {}
      },
      "source": [
        "np.arange(5) / np.arange(1, 6)"
      ],
      "execution_count": 0,
      "outputs": []
    },
    {
      "cell_type": "code",
      "metadata": {
        "id": "5-vNiXZgkjYY",
        "colab_type": "code",
        "colab": {}
      },
      "source": [
        "x = np.arange(9).reshape((3, 3))\n",
        "2 ** x"
      ],
      "execution_count": 0,
      "outputs": []
    },
    {
      "cell_type": "markdown",
      "metadata": {
        "id": "dEj1UBYukpcR",
        "colab_type": "text"
      },
      "source": [
        "##Exploring NumPy’s UFuncs"
      ]
    },
    {
      "cell_type": "code",
      "metadata": {
        "id": "esjumaUukrmw",
        "colab_type": "code",
        "colab": {}
      },
      "source": [
        "x = np.arange(4)\n",
        "print(\"x =\", x)\n",
        "print(\"x + 5 =\", x + 5)\n",
        "print(\"x - 5 =\", x - 5)\n",
        "print(\"x * 2 =\", x * 2)\n",
        "print(\"x / 2 =\", x / 2)\n",
        "print(\"x // 2 =\", x // 2) # floor division"
      ],
      "execution_count": 0,
      "outputs": []
    },
    {
      "cell_type": "code",
      "metadata": {
        "id": "K1cZ61wbL9oy",
        "colab_type": "code",
        "colab": {}
      },
      "source": [
        "print(\"-x = \", -x)\n",
        "print(\"x ** 2 = \", x ** 2)\n",
        "print(\"x % 2 = \", x % 2)"
      ],
      "execution_count": 0,
      "outputs": []
    },
    {
      "cell_type": "code",
      "metadata": {
        "id": "EyFymCIlQwH7",
        "colab_type": "code",
        "colab": {}
      },
      "source": [
        "-(0.5*x + 1) ** 2"
      ],
      "execution_count": 0,
      "outputs": []
    },
    {
      "cell_type": "code",
      "metadata": {
        "id": "1dTkaaWBQzZR",
        "colab_type": "code",
        "colab": {}
      },
      "source": [
        "np.add(x, 2)"
      ],
      "execution_count": 0,
      "outputs": []
    },
    {
      "cell_type": "code",
      "metadata": {
        "id": "UE4jS-IWQ-bK",
        "colab_type": "code",
        "colab": {}
      },
      "source": [
        "x = np.array([-2, -1, 0, 1, 2])\n",
        "abs(x)\n",
        "np.absolute(x)\n",
        "np.abs(x)"
      ],
      "execution_count": 0,
      "outputs": []
    },
    {
      "cell_type": "code",
      "metadata": {
        "id": "2PWJ0qh59SiH",
        "colab_type": "code",
        "colab": {}
      },
      "source": [
        "x = np.array([3 - 4j, 4 - 3j, 2 + 0j, 0 + 1j])\n",
        "np.abs(x)"
      ],
      "execution_count": 0,
      "outputs": []
    },
    {
      "cell_type": "code",
      "metadata": {
        "id": "LxULJTDU9lzd",
        "colab_type": "code",
        "colab": {}
      },
      "source": [
        "theta = np.linspace(0, np.pi, 3)\n",
        "print(\"theta = \", theta)\n",
        "print(\"sin(theta) = \", np.sin(theta))\n",
        "print(\"cos(theta) = \", np.cos(theta))\n",
        "print(\"tan(theta) = \", np.tan(theta))"
      ],
      "execution_count": 0,
      "outputs": []
    },
    {
      "cell_type": "code",
      "metadata": {
        "id": "P9jdmjN4-CdD",
        "colab_type": "code",
        "colab": {}
      },
      "source": [
        "x = [-1, 0, 1]\n",
        "print(\"x = \", x)\n",
        "print(\"arcsin(x) = \", np.arcsin(x))\n",
        "print(\"arccos(x) = \", np.arccos(x))\n",
        "print(\"arctan(x) = \", np.arctan(x))"
      ],
      "execution_count": 0,
      "outputs": []
    },
    {
      "cell_type": "code",
      "metadata": {
        "id": "_FyyiTVt-GrO",
        "colab_type": "code",
        "colab": {}
      },
      "source": [
        "x = [1, 2, 3]\n",
        "print(\"x =\", x)\n",
        "print(\"e^x =\", np.exp(x))\n",
        "print(\"2^x =\", np.exp2(x))\n",
        "print(\"3^x =\", np.power(3, x))"
      ],
      "execution_count": 0,
      "outputs": []
    },
    {
      "cell_type": "code",
      "metadata": {
        "id": "1l4kTUdS-PaC",
        "colab_type": "code",
        "colab": {}
      },
      "source": [
        "x = [1, 2, 4, 10]\n",
        "print(\"x =\", x)\n",
        "print(\"ln(x) =\", np.log(x))\n",
        "print(\"log2(x) =\", np.log2(x))\n",
        "print(\"log10(x) =\", np.log10(x))"
      ],
      "execution_count": 0,
      "outputs": []
    },
    {
      "cell_type": "code",
      "metadata": {
        "id": "mx9GILXh-YWd",
        "colab_type": "code",
        "colab": {}
      },
      "source": [
        "x = [0, 0.001, 0.01, 0.1]\n",
        "print(\"exp(x) - 1 =\", np.expm1(x))\n",
        "print(\"log(1 + x) =\", np.log1p(x))"
      ],
      "execution_count": 0,
      "outputs": []
    },
    {
      "cell_type": "code",
      "metadata": {
        "id": "EfTx3aznGPk9",
        "colab_type": "code",
        "colab": {}
      },
      "source": [
        "from scipy import special\n",
        "# Gamma functions (generalized factorials) and related functions\n",
        "x = [1, 5, 10]\n",
        "print(\"gamma(x) =\", special.gamma(x))\n",
        "print(\"ln|gamma(x)| =\", special.gammaln(x))\n",
        "print(\"beta(x, 2) =\", special.beta(x, 2))"
      ],
      "execution_count": 0,
      "outputs": []
    },
    {
      "cell_type": "code",
      "metadata": {
        "id": "G1FY6iIiGaWa",
        "colab_type": "code",
        "colab": {}
      },
      "source": [
        "# Error function (integral of Gaussian)\n",
        "# its complement, and its inverse\n",
        "x = np.array([0, 0.3, 0.7, 1.0])\n",
        "print(\"erf(x) =\", special.erf(x))\n",
        "print(\"erfc(x) =\", special.erfc(x))\n",
        "print(\"erfinv(x) =\", special.erfinv(x))"
      ],
      "execution_count": 0,
      "outputs": []
    },
    {
      "cell_type": "markdown",
      "metadata": {
        "id": "_tJlMt1MGmzW",
        "colab_type": "text"
      },
      "source": [
        "##Advanced Ufunc Features"
      ]
    },
    {
      "cell_type": "code",
      "metadata": {
        "id": "Hc_jxD_IGoGJ",
        "colab_type": "code",
        "colab": {}
      },
      "source": [
        "x = np.arange(5)\n",
        "y = np.empty(5)\n",
        "np.multiply(x, 10, out=y)\n",
        "print(y)"
      ],
      "execution_count": 0,
      "outputs": []
    },
    {
      "cell_type": "code",
      "metadata": {
        "id": "qSGg4jyzH5fU",
        "colab_type": "code",
        "colab": {}
      },
      "source": [
        "y = np.zeros(10)\n",
        "np.power(2, x, out=y[::2])\n",
        "print(y)"
      ],
      "execution_count": 0,
      "outputs": []
    },
    {
      "cell_type": "code",
      "metadata": {
        "id": "Mrl6N7XxIJZC",
        "colab_type": "code",
        "colab": {}
      },
      "source": [
        "x = np.arange(1, 6)\n",
        "np.add.reduce(x)"
      ],
      "execution_count": 0,
      "outputs": []
    },
    {
      "cell_type": "code",
      "metadata": {
        "id": "-j0dPeObILqx",
        "colab_type": "code",
        "colab": {}
      },
      "source": [
        "np.multiply.reduce(x)"
      ],
      "execution_count": 0,
      "outputs": []
    },
    {
      "cell_type": "code",
      "metadata": {
        "id": "DbfPMnjlIRN7",
        "colab_type": "code",
        "colab": {}
      },
      "source": [
        "np.add.accumulate(x)"
      ],
      "execution_count": 0,
      "outputs": []
    },
    {
      "cell_type": "code",
      "metadata": {
        "id": "r2YUAtl_IgxY",
        "colab_type": "code",
        "colab": {}
      },
      "source": [
        "np.multiply.accumulate(x)"
      ],
      "execution_count": 0,
      "outputs": []
    },
    {
      "cell_type": "code",
      "metadata": {
        "id": "LiEjycLmKgvz",
        "colab_type": "code",
        "colab": {}
      },
      "source": [
        "x = np.arange(1, 6)\n",
        "np.multiply.outer(x, x)"
      ],
      "execution_count": 0,
      "outputs": []
    },
    {
      "cell_type": "markdown",
      "metadata": {
        "id": "P_scjVc3KvRj",
        "colab_type": "text"
      },
      "source": [
        "#Aggregations: Min, Max, and Everything in Between"
      ]
    },
    {
      "cell_type": "markdown",
      "metadata": {
        "id": "wQnFLg5QK1-N",
        "colab_type": "text"
      },
      "source": [
        "##Summing the Values in an Array"
      ]
    },
    {
      "cell_type": "code",
      "metadata": {
        "id": "R_yl1Up9K3dM",
        "colab_type": "code",
        "colab": {}
      },
      "source": [
        "import numpy as np\n",
        "L = np.random.random(100)\n",
        "sum(L)"
      ],
      "execution_count": 0,
      "outputs": []
    },
    {
      "cell_type": "code",
      "metadata": {
        "id": "_NFIXw2SLDAF",
        "colab_type": "code",
        "colab": {}
      },
      "source": [
        "np.sum(L)"
      ],
      "execution_count": 0,
      "outputs": []
    },
    {
      "cell_type": "code",
      "metadata": {
        "id": "13C1ShJWLGSZ",
        "colab_type": "code",
        "colab": {}
      },
      "source": [
        "big_array = np.random.rand(1000000)\n",
        "%timeit sum(big_array)\n",
        "%timeit np.sum(big_array)"
      ],
      "execution_count": 0,
      "outputs": []
    },
    {
      "cell_type": "markdown",
      "metadata": {
        "id": "iPWnLKuiLQax",
        "colab_type": "text"
      },
      "source": [
        "##Minimum and Maximum"
      ]
    },
    {
      "cell_type": "markdown",
      "metadata": {
        "id": "hZPo59HUeuTV",
        "colab_type": "text"
      },
      "source": [
        "\n",
        "|Function Name      |   NaN-safe Version  | Description                                   |\n",
        "|-------------------|---------------------|-----------------------------------------------|\n",
        "| ``np.sum``        | ``np.nansum``       | Compute sum of elements                       |\n",
        "| ``np.prod``       | ``np.nanprod``      | Compute product of elements                   |\n",
        "| ``np.mean``       | ``np.nanmean``      | Compute mean of elements                      |\n",
        "| ``np.std``        | ``np.nanstd``       | Compute standard deviation                    |\n",
        "| ``np.var``        | ``np.nanvar``       | Compute variance                              |\n",
        "| ``np.min``        | ``np.nanmin``       | Find minimum value                            |\n",
        "| ``np.max``        | ``np.nanmax``       | Find maximum value                            |\n",
        "| ``np.argmin``     | ``np.nanargmin``    | Find index of minimum value                   |\n",
        "| ``np.argmax``     | ``np.nanargmax``    | Find index of maximum value                   |\n",
        "| ``np.median``     | ``np.nanmedian``    | Compute median of elements                    |\n",
        "| ``np.percentile`` | ``np.nanpercentile``| Compute rank-based statistics of elements     |\n",
        "| ``np.any``        | N/A                 | Evaluate whether any elements are true        |\n",
        "| ``np.all``        | N/A                 | Evaluate whether all elements are true        |"
      ]
    },
    {
      "cell_type": "code",
      "metadata": {
        "id": "mNfOl77rLTMD",
        "colab_type": "code",
        "colab": {}
      },
      "source": [
        "min(big_array), max(big_array)"
      ],
      "execution_count": 0,
      "outputs": []
    },
    {
      "cell_type": "code",
      "metadata": {
        "id": "II1acIuwLd94",
        "colab_type": "code",
        "colab": {}
      },
      "source": [
        "np.min(big_array), np.max(big_array)"
      ],
      "execution_count": 0,
      "outputs": []
    },
    {
      "cell_type": "code",
      "metadata": {
        "id": "Qvk-02MpLhin",
        "colab_type": "code",
        "colab": {}
      },
      "source": [
        "%timeit min(big_array)\n",
        "%timeit np.min(big_array)"
      ],
      "execution_count": 0,
      "outputs": []
    },
    {
      "cell_type": "code",
      "metadata": {
        "id": "eGQB-JIWMDbz",
        "colab_type": "code",
        "colab": {}
      },
      "source": [
        "print(big_array.min(), big_array.max(), big_array.sum())"
      ],
      "execution_count": 0,
      "outputs": []
    },
    {
      "cell_type": "code",
      "metadata": {
        "id": "Y-tytYIqMN-T",
        "colab_type": "code",
        "colab": {}
      },
      "source": [
        "M = np.random.random((3, 4))\n",
        "print(M)"
      ],
      "execution_count": 0,
      "outputs": []
    },
    {
      "cell_type": "code",
      "metadata": {
        "id": "nPva56c3MUYj",
        "colab_type": "code",
        "colab": {}
      },
      "source": [
        "M.sum()"
      ],
      "execution_count": 0,
      "outputs": []
    },
    {
      "cell_type": "code",
      "metadata": {
        "id": "DwGpuPZJMXW7",
        "colab_type": "code",
        "colab": {}
      },
      "source": [
        "M.min(axis=0)"
      ],
      "execution_count": 0,
      "outputs": []
    },
    {
      "cell_type": "code",
      "metadata": {
        "id": "sP_R7Dk9Mak7",
        "colab_type": "code",
        "colab": {}
      },
      "source": [
        "M.max(axis=1)"
      ],
      "execution_count": 0,
      "outputs": []
    },
    {
      "cell_type": "markdown",
      "metadata": {
        "id": "dG5OZiDAMkmb",
        "colab_type": "text"
      },
      "source": [
        "#Example: What Is the Average Weight of US Cars?"
      ]
    },
    {
      "cell_type": "code",
      "metadata": {
        "id": "XzDyMhrNMoML",
        "colab_type": "code",
        "colab": {}
      },
      "source": [
        "import numpy as np\n",
        "from vega_datasets import data\n",
        "data.list_datasets()"
      ],
      "execution_count": 0,
      "outputs": []
    },
    {
      "cell_type": "code",
      "metadata": {
        "id": "A3PbGx4GUQ8W",
        "colab_type": "code",
        "colab": {}
      },
      "source": [
        "d_cars = data.cars()\n",
        "d_cars.head()"
      ],
      "execution_count": 0,
      "outputs": []
    },
    {
      "cell_type": "code",
      "metadata": {
        "id": "D_C6gUJeVgmp",
        "colab_type": "code",
        "colab": {}
      },
      "source": [
        "d_weights = np.array(d_cars['Weight_in_lbs'])\n",
        "print(d_weights)"
      ],
      "execution_count": 0,
      "outputs": []
    },
    {
      "cell_type": "code",
      "metadata": {
        "id": "1BNXu7rRV_YX",
        "colab_type": "code",
        "colab": {}
      },
      "source": [
        "print(\"Mean weight: \", d_weights.mean())\n",
        "print(\"Standard deviation:\", d_weights.std())\n",
        "print(\"Minimum weight: \", d_weights.min())\n",
        "print(\"Maximum weight: \", d_weights.max())"
      ],
      "execution_count": 0,
      "outputs": []
    },
    {
      "cell_type": "code",
      "metadata": {
        "id": "9H4sf_FNXalj",
        "colab_type": "code",
        "colab": {}
      },
      "source": [
        "print(\"25th percentile: \", np.percentile(d_weights, 25))\n",
        "print(\"Median: \", np.median(d_weights))\n",
        "print(\"75th percentile: \", np.percentile(d_weights, 75))"
      ],
      "execution_count": 0,
      "outputs": []
    },
    {
      "cell_type": "code",
      "metadata": {
        "id": "LlizrQAcXftF",
        "colab_type": "code",
        "colab": {}
      },
      "source": [
        "%matplotlib inline\n",
        "import matplotlib.pyplot as plt\n",
        "import seaborn; seaborn.set() # set plot style\n",
        "plt.hist(d_weights)\n",
        "plt.title('Weight Distribution of US Cars')\n",
        "plt.xlabel('weight (lbs)')\n",
        "plt.ylabel('number');"
      ],
      "execution_count": 0,
      "outputs": []
    },
    {
      "cell_type": "markdown",
      "metadata": {
        "id": "1YnWYewQYJL1",
        "colab_type": "text"
      },
      "source": [
        "#Computation on Arrays: Broadcasting"
      ]
    },
    {
      "cell_type": "code",
      "metadata": {
        "id": "iwLWTtA1tmXC",
        "colab_type": "code",
        "cellView": "both",
        "outputId": "33116d73-861a-488c-a847-85b81e482f21",
        "colab": {
          "base_uri": "https://localhost:8080/",
          "height": 85
        }
      },
      "source": [
        "#@title ##1\n",
        "\n",
        "%%html\n",
        "\n",
        "<svg width=\"168.6mm\" height=\"16.995mm\" version=\"1.1\" viewBox=\"0 0 168.6 16.995\" xmlns=\"http://www.w3.org/2000/svg\" xmlns:ns0=\"http://www.iki.fi/pav/software/textext/\">\n",
        " <defs>\n",
        "  <marker id=\"a\" overflow=\"visible\" orient=\"auto\">\n",
        "   <path transform=\"matrix(-.4 0 0 -.4 -4 0)\" d=\"m0 0 5-5-17.5 5 17.5 5z\" fill-opacity=\".28019\" fill-rule=\"evenodd\" stroke=\"#000\" stroke-opacity=\".28019\" stroke-width=\"1pt\"/>\n",
        "  </marker>\n",
        "  <marker id=\"b\" overflow=\"visible\" orient=\"auto\">\n",
        "   <path transform=\"matrix(-.4 0 0 -.4 -4 0)\" d=\"m0 0 5-5-17.5 5 17.5 5z\" fill-opacity=\".28019\" fill-rule=\"evenodd\" stroke=\"#000\" stroke-opacity=\".28019\" stroke-width=\"1pt\"/>\n",
        "  </marker>\n",
        "  <marker id=\"Arrow1Mend\" overflow=\"visible\" orient=\"auto\">\n",
        "   <path transform=\"matrix(-.4 0 0 -.4 -4 0)\" d=\"m0 0 5-5-17.5 5 17.5 5z\" fill-opacity=\".28019\" fill-rule=\"evenodd\" stroke=\"#000\" stroke-opacity=\".28019\" stroke-width=\"1pt\"/>\n",
        "  </marker>\n",
        " </defs>\n",
        " <g transform=\"translate(143.9 -49.872)\">\n",
        "  <text x=\"35.246281\" y=\"42.149555\" fill=\"#000000\" font-family=\"Verdana\" font-size=\"10.583px\" letter-spacing=\"0px\" stroke-width=\".26458\" word-spacing=\"0px\" style=\"line-height:1.25\" xml:space=\"preserve\"><tspan x=\"35.246281\" y=\"51.80505\" stroke-width=\".26458\"/></text>\n",
        "  <text x=\"76.906807\" y=\"21.511925\" fill=\"#000000\" font-family=\"Verdana\" font-size=\"10.583px\" letter-spacing=\"0px\" stroke-width=\".26458\" word-spacing=\"0px\" style=\"line-height:1.25\" xml:space=\"preserve\"><tspan x=\"76.906807\" y=\"31.167419\" stroke-width=\".26458\"/></text>\n",
        "  <g transform=\"matrix(1.2512,0,0,-1.2512,-160.51,876.57)\" fill-rule=\"evenodd\" stroke=\"#000\" stroke-miterlimit=\"10.433\" stroke-width=\"1.1988\" ns0:preamble=\"default_packages.tex\" ns0:text=\"$p q$\\n\" xml:space=\"preserve\"><g transform=\"matrix(1.5,0,0,-1.5,-165.9,1212.8)\" fill-rule=\"evenodd\" stroke=\"#000\" stroke-miterlimit=\"10.433\" ns0:preamble=\"default_packages.tex\" ns0:text=\"$\\\\text{delete readjust}$\\n\" xml:space=\"preserve\"><g transform=\"matrix(1.5,0,0,-1.5,-165.59,1212.8)\" fill-rule=\"evenodd\" stroke-miterlimit=\"10.433\" ns0:preamble=\"default_packages.tex\" ns0:text=\"$delete readjust$\\n\" xml:space=\"preserve\"><flowRoot fill=\"#000000\" font-family=\"Verdana\" font-size=\"40px\" letter-spacing=\"0px\" stroke=\"none\" word-spacing=\"0px\" style=\"line-height:1.25\" xml:space=\"preserve\"><flowRegion><rect x=\"78.929\" y=\"457.16\" width=\"60\" height=\"76.429\"/></flowRegion><flowPara/></flowRoot><g transform=\"matrix(.20006 0 0 .20006 165.85 418.79)\" fill-rule=\"evenodd\" stroke=\"#000\" stroke-miterlimit=\"10.433\" stroke-width=\"8.9882\" ns0:preamble=\"default_packages.tex\" ns0:text=\"$f bias variance All functions Learnable functions$\\n\" xml:space=\"preserve\"><g transform=\"matrix(1.5,0,0,1.5,17.997,-402.96)\" fill-rule=\"evenodd\" stroke=\"#000\" stroke-miterlimit=\"10.433\" ns0:preamble=\"default_packages.tex\" ns0:text=\"feature $x y$\\n\" xml:space=\"preserve\"><g transform=\"matrix(1.0127,0,0,1.0127,-139.78,42.633)\" fill-rule=\"evenodd\" stroke=\"#000\" stroke-miterlimit=\"10.433\" stroke-width=\"13.314\" ns0:preamble=\"default_packages.tex\" ns0:text=\"$a s_1(a) s_2(a) s$\\n\" xml:space=\"preserve\"><g transform=\"matrix(1.1688,0,0,-1.1688,1.4337,749.97)\"><g transform=\"matrix(1.5,0,0,-1.5,-351.92,1227.8)\" fill-rule=\"evenodd\" stroke=\"#000\" stroke-miterlimit=\"10.433\" ns0:preamble=\"default_packages.tex\" ns0:text=\"$$\\\\text{Example: Knowledge bases}$$\\n\" xml:space=\"preserve\"><g transform=\"matrix(1.5,0,0,-1.5,-352.93,1195)\" fill-rule=\"evenodd\" stroke=\"#000\" stroke-miterlimit=\"10.433\" ns0:preamble=\"default_packages.tex\" ns0:text=\"$$\\\\text{AI (e.g. Knowledge bases)}$$\\n\" xml:space=\"preserve\"><g transform=\"matrix(.43863 0 0 -.43863 259.71 522.41)\" fill-rule=\"evenodd\" stroke=\"#000\" stroke-miterlimit=\"10.433\" stroke-width=\"13.314\" ns0:preamble=\"default_packages.tex\" ns0:text=\"$$\\\\text{trial 1}$$\\n$$\\\\text{trial 2}$$\\n$$\\\\text{trial 3}$$\\n$$\\\\text{trial 4}$$\\n$$\\\\text{trial 5}$$\\n\" xml:space=\"preserve\"/></g></g></g></g></g></g></g></g></g>\n",
        " </g>\n",
        " <g fill=\"#0040af\" stroke=\"#0059d0\" stroke-linecap=\"square\" stroke-miterlimit=\"3\" stroke-opacity=\".20773\" stroke-width=\".653\">\n",
        "  <g fill-opacity=\".1256\">\n",
        "   <rect x=\".3265\" y=\"4.9157\" width=\"11.753\" height=\"11.753\"/>\n",
        "   <rect x=\"12.08\" y=\"4.9157\" width=\"11.753\" height=\"11.753\"/>\n",
        "   <rect x=\"23.833\" y=\"4.9157\" width=\"11.753\" height=\"11.753\"/>\n",
        "   <rect x=\"35.586\" y=\"4.9157\" width=\"11.753\" height=\"11.753\"/>\n",
        "  </g>\n",
        "  <rect x=\"61.051\" y=\"4.8126\" width=\"11.753\" height=\"11.753\" fill-opacity=\".12549\"/>\n",
        " </g>\n",
        " <g fill=\"none\" stroke=\"#0059d0\" stroke-linecap=\"square\" stroke-miterlimit=\"3\" stroke-opacity=\".10628\" stroke-width=\".653\">\n",
        "  <rect x=\"72.804\" y=\"4.8126\" width=\"11.753\" height=\"11.753\"/>\n",
        "  <rect x=\"84.557\" y=\"4.8126\" width=\"11.753\" height=\"11.753\"/>\n",
        "  <rect x=\"96.31\" y=\"4.8126\" width=\"11.753\" height=\"11.753\"/>\n",
        " </g>\n",
        " <g fill=\"#0040af\" fill-opacity=\".12549\" stroke=\"#0059d0\" stroke-linecap=\"square\" stroke-miterlimit=\"3\" stroke-opacity=\".20773\" stroke-width=\".653\">\n",
        "  <rect x=\"121.27\" y=\"4.8674\" width=\"11.753\" height=\"11.753\"/>\n",
        "  <rect x=\"133.02\" y=\"4.8674\" width=\"11.753\" height=\"11.753\"/>\n",
        "  <rect x=\"144.77\" y=\"4.8674\" width=\"11.753\" height=\"11.753\"/>\n",
        "  <rect x=\"156.52\" y=\"4.8674\" width=\"11.753\" height=\"11.753\"/>\n",
        " </g>\n",
        " <g fill=\"#000000\" font-family=\"Verdana\" letter-spacing=\"0px\" stroke-width=\".26458\" word-spacing=\"0px\">\n",
        "  <g>\n",
        "   <text x=\"52.17606\" y=\"13.366611\" font-size=\"8.7876px\" style=\"line-height:1.25\" xml:space=\"preserve\"><tspan x=\"52.17606\" y=\"13.366611\" fill=\"#000000\" fill-opacity=\".61836\" font-family=\"'Courier New'\" font-size=\"8.7876px\" font-weight=\"bold\" stroke-width=\".26458\" style=\"font-feature-settings:normal;font-variant-caps:normal;font-variant-ligatures:normal;font-variant-numeric:normal\">+</tspan></text>\n",
        "   <text x=\"111.94216\" y=\"13.377199\" font-size=\"8.7876px\" style=\"line-height:1.25\" xml:space=\"preserve\"><tspan x=\"111.94216\" y=\"13.377199\" fill=\"#000000\" fill-opacity=\".61836\" font-family=\"'Courier New'\" font-size=\"8.7876px\" font-weight=\"bold\" stroke-width=\".26458\" style=\"font-feature-settings:normal;font-variant-caps:normal;font-variant-ligatures:normal;font-variant-numeric:normal\">=</tspan></text>\n",
        "   <g font-size=\"8.2692px\">\n",
        "    <text x=\"3.8198557\" y=\"13.613109\" style=\"line-height:1.25\" xml:space=\"preserve\"><tspan x=\"3.8198557\" y=\"13.613109\" fill=\"#000000\" fill-opacity=\".50242\" font-family=\"'Courier New'\" font-size=\"8.2692px\" font-weight=\"bold\" stroke-width=\".26458\" style=\"font-feature-settings:normal;font-variant-caps:normal;font-variant-ligatures:normal;font-variant-numeric:normal\">0</tspan></text>\n",
        "    <text x=\"15.838583\" y=\"13.832622\" style=\"line-height:1.25\" xml:space=\"preserve\"><tspan x=\"15.838583\" y=\"13.832622\" fill=\"#000000\" fill-opacity=\".50242\" font-family=\"'Courier New'\" font-size=\"8.2692px\" font-weight=\"bold\" stroke-width=\".26458\" style=\"font-feature-settings:normal;font-variant-caps:normal;font-variant-ligatures:normal;font-variant-numeric:normal\">1</tspan></text>\n",
        "    <text x=\"27.723074\" y=\"13.649931\" style=\"line-height:1.25\" xml:space=\"preserve\"><tspan x=\"27.723074\" y=\"13.649931\" fill=\"#000000\" fill-opacity=\".50242\" font-family=\"'Courier New'\" font-size=\"8.2692px\" font-weight=\"bold\" stroke-width=\".26458\" style=\"font-feature-settings:normal;font-variant-caps:normal;font-variant-ligatures:normal;font-variant-numeric:normal\">2</tspan></text>\n",
        "    <text x=\"39.079102\" y=\"13.795558\" style=\"line-height:1.25\" xml:space=\"preserve\"><tspan x=\"39.079102\" y=\"13.795558\" fill=\"#000000\" fill-opacity=\".50242\" font-family=\"'Courier New'\" font-size=\"8.2692px\" font-weight=\"bold\" stroke-width=\".26458\" style=\"font-feature-settings:normal;font-variant-caps:normal;font-variant-ligatures:normal;font-variant-numeric:normal\">3</tspan></text>\n",
        "    <text x=\"64.780014\" y=\"13.753027\" style=\"line-height:1.25\" xml:space=\"preserve\"><tspan x=\"64.780014\" y=\"13.753027\" fill=\"#000000\" fill-opacity=\".50242\" font-family=\"'Courier New'\" font-size=\"8.2692px\" font-weight=\"bold\" stroke-width=\".26458\" style=\"font-feature-settings:normal;font-variant-caps:normal;font-variant-ligatures:normal;font-variant-numeric:normal\">1</tspan></text>\n",
        "   </g>\n",
        "  </g>\n",
        "  <g fill-opacity=\".1401\" font-size=\"8.2692px\">\n",
        "   <text x=\"77.000687\" y=\"13.753027\" style=\"line-height:1.25\" xml:space=\"preserve\"><tspan x=\"77.000687\" y=\"13.753027\" fill=\"#000000\" fill-opacity=\".1401\" font-family=\"'Courier New'\" font-size=\"8.2692px\" font-weight=\"bold\" stroke-width=\".26458\" style=\"font-feature-settings:normal;font-variant-caps:normal;font-variant-ligatures:normal;font-variant-numeric:normal\">1</tspan></text>\n",
        "   <text x=\"88.444473\" y=\"13.64993\" style=\"line-height:1.25\" xml:space=\"preserve\"><tspan x=\"88.444473\" y=\"13.64993\" fill=\"#000000\" fill-opacity=\".1401\" font-family=\"'Courier New'\" font-size=\"8.2692px\" font-weight=\"bold\" stroke-width=\".26458\" style=\"font-feature-settings:normal;font-variant-caps:normal;font-variant-ligatures:normal;font-variant-numeric:normal\">1</tspan></text>\n",
        "   <text x=\"99.785156\" y=\"13.443737\" style=\"line-height:1.25\" xml:space=\"preserve\"><tspan x=\"99.785156\" y=\"13.443737\" fill=\"#000000\" fill-opacity=\".1401\" font-family=\"'Courier New'\" font-size=\"8.2692px\" font-weight=\"bold\" stroke-width=\".26458\" style=\"font-feature-settings:normal;font-variant-caps:normal;font-variant-ligatures:normal;font-variant-numeric:normal\">1</tspan></text>\n",
        "  </g>\n",
        "  <g font-size=\"8.2692px\">\n",
        "   <text x=\"125.55915\" y=\"13.718453\" style=\"line-height:1.25\" xml:space=\"preserve\"><tspan x=\"125.55915\" y=\"13.718453\" fill=\"#000000\" fill-opacity=\".50242\" font-family=\"'Courier New'\" font-size=\"8.2692px\" font-weight=\"bold\" stroke-width=\".26458\" style=\"font-feature-settings:normal;font-variant-caps:normal;font-variant-ligatures:normal;font-variant-numeric:normal\">1</tspan></text>\n",
        "   <text x=\"137.44366\" y=\"13.535762\" style=\"line-height:1.25\" xml:space=\"preserve\"><tspan x=\"137.44366\" y=\"13.535762\" fill=\"#000000\" fill-opacity=\".50242\" font-family=\"'Courier New'\" font-size=\"8.2692px\" font-weight=\"bold\" stroke-width=\".26458\" style=\"font-feature-settings:normal;font-variant-caps:normal;font-variant-ligatures:normal;font-variant-numeric:normal\">2</tspan></text>\n",
        "   <text x=\"148.7997\" y=\"13.681389\" style=\"line-height:1.25\" xml:space=\"preserve\"><tspan x=\"148.7997\" y=\"13.681389\" fill=\"#000000\" fill-opacity=\".50242\" font-family=\"'Courier New'\" font-size=\"8.2692px\" font-weight=\"bold\" stroke-width=\".26458\" style=\"font-feature-settings:normal;font-variant-caps:normal;font-variant-ligatures:normal;font-variant-numeric:normal\">3</tspan></text>\n",
        "   <text x=\"160.18761\" y=\"13.612984\" style=\"line-height:1.25\" xml:space=\"preserve\"><tspan x=\"160.18761\" y=\"13.612984\" fill=\"#000000\" fill-opacity=\".50242\" font-family=\"'Courier New'\" font-size=\"8.2692px\" font-weight=\"bold\" stroke-width=\".26458\" style=\"font-feature-settings:normal;font-variant-caps:normal;font-variant-ligatures:normal;font-variant-numeric:normal\">4</tspan></text>\n",
        "  </g>\n",
        " </g>\n",
        " <g fill=\"none\" stroke=\"#000\" stroke-opacity=\".28019\" stroke-width=\".39687\">\n",
        "  <path d=\"m68.436 3.0449c3.4243-2.8829 6.9078-4.6121 10.716 0\" marker-end=\"url(#a)\"/>\n",
        "  <path d=\"m79.772 3.2272c3.4243-2.8829 6.9078-4.6121 10.716 0\" marker-end=\"url(#b)\"/>\n",
        "  <path d=\"m91.153 3.4915c3.4243-2.8829 6.9078-4.6121 10.716 0\" marker-end=\"url(#Arrow1Mend)\"/>\n",
        " </g>\n",
        " <text x=\"-0.41239136\" y=\"-6.8648891\" fill=\"#000000\" font-family=\"Verdana\" font-size=\"10.583px\" letter-spacing=\"0px\" stroke-width=\".26458\" word-spacing=\"0px\" style=\"line-height:1.25\" xml:space=\"preserve\"><tspan x=\"-0.41239136\" y=\"2.7906065\" stroke-width=\".26458\"/></text>\n",
        "</svg>\n"
      ],
      "execution_count": 0,
      "outputs": [
        {
          "output_type": "display_data",
          "data": {
            "text/html": [
              "\n",
              "<svg width=\"168.6mm\" height=\"16.995mm\" version=\"1.1\" viewBox=\"0 0 168.6 16.995\" xmlns=\"http://www.w3.org/2000/svg\" xmlns:ns0=\"http://www.iki.fi/pav/software/textext/\">\n",
              " <defs>\n",
              "  <marker id=\"a\" overflow=\"visible\" orient=\"auto\">\n",
              "   <path transform=\"matrix(-.4 0 0 -.4 -4 0)\" d=\"m0 0 5-5-17.5 5 17.5 5z\" fill-opacity=\".28019\" fill-rule=\"evenodd\" stroke=\"#000\" stroke-opacity=\".28019\" stroke-width=\"1pt\"/>\n",
              "  </marker>\n",
              "  <marker id=\"b\" overflow=\"visible\" orient=\"auto\">\n",
              "   <path transform=\"matrix(-.4 0 0 -.4 -4 0)\" d=\"m0 0 5-5-17.5 5 17.5 5z\" fill-opacity=\".28019\" fill-rule=\"evenodd\" stroke=\"#000\" stroke-opacity=\".28019\" stroke-width=\"1pt\"/>\n",
              "  </marker>\n",
              "  <marker id=\"Arrow1Mend\" overflow=\"visible\" orient=\"auto\">\n",
              "   <path transform=\"matrix(-.4 0 0 -.4 -4 0)\" d=\"m0 0 5-5-17.5 5 17.5 5z\" fill-opacity=\".28019\" fill-rule=\"evenodd\" stroke=\"#000\" stroke-opacity=\".28019\" stroke-width=\"1pt\"/>\n",
              "  </marker>\n",
              " </defs>\n",
              " <g transform=\"translate(143.9 -49.872)\">\n",
              "  <text x=\"35.246281\" y=\"42.149555\" fill=\"#000000\" font-family=\"Verdana\" font-size=\"10.583px\" letter-spacing=\"0px\" stroke-width=\".26458\" word-spacing=\"0px\" style=\"line-height:1.25\" xml:space=\"preserve\"><tspan x=\"35.246281\" y=\"51.80505\" stroke-width=\".26458\"/></text>\n",
              "  <text x=\"76.906807\" y=\"21.511925\" fill=\"#000000\" font-family=\"Verdana\" font-size=\"10.583px\" letter-spacing=\"0px\" stroke-width=\".26458\" word-spacing=\"0px\" style=\"line-height:1.25\" xml:space=\"preserve\"><tspan x=\"76.906807\" y=\"31.167419\" stroke-width=\".26458\"/></text>\n",
              "  <g transform=\"matrix(1.2512,0,0,-1.2512,-160.51,876.57)\" fill-rule=\"evenodd\" stroke=\"#000\" stroke-miterlimit=\"10.433\" stroke-width=\"1.1988\" ns0:preamble=\"default_packages.tex\" ns0:text=\"$p q$\\n\" xml:space=\"preserve\"><g transform=\"matrix(1.5,0,0,-1.5,-165.9,1212.8)\" fill-rule=\"evenodd\" stroke=\"#000\" stroke-miterlimit=\"10.433\" ns0:preamble=\"default_packages.tex\" ns0:text=\"$\\\\text{delete readjust}$\\n\" xml:space=\"preserve\"><g transform=\"matrix(1.5,0,0,-1.5,-165.59,1212.8)\" fill-rule=\"evenodd\" stroke-miterlimit=\"10.433\" ns0:preamble=\"default_packages.tex\" ns0:text=\"$delete readjust$\\n\" xml:space=\"preserve\"><flowRoot fill=\"#000000\" font-family=\"Verdana\" font-size=\"40px\" letter-spacing=\"0px\" stroke=\"none\" word-spacing=\"0px\" style=\"line-height:1.25\" xml:space=\"preserve\"><flowRegion><rect x=\"78.929\" y=\"457.16\" width=\"60\" height=\"76.429\"/></flowRegion><flowPara/></flowRoot><g transform=\"matrix(.20006 0 0 .20006 165.85 418.79)\" fill-rule=\"evenodd\" stroke=\"#000\" stroke-miterlimit=\"10.433\" stroke-width=\"8.9882\" ns0:preamble=\"default_packages.tex\" ns0:text=\"$f bias variance All functions Learnable functions$\\n\" xml:space=\"preserve\"><g transform=\"matrix(1.5,0,0,1.5,17.997,-402.96)\" fill-rule=\"evenodd\" stroke=\"#000\" stroke-miterlimit=\"10.433\" ns0:preamble=\"default_packages.tex\" ns0:text=\"feature $x y$\\n\" xml:space=\"preserve\"><g transform=\"matrix(1.0127,0,0,1.0127,-139.78,42.633)\" fill-rule=\"evenodd\" stroke=\"#000\" stroke-miterlimit=\"10.433\" stroke-width=\"13.314\" ns0:preamble=\"default_packages.tex\" ns0:text=\"$a s_1(a) s_2(a) s$\\n\" xml:space=\"preserve\"><g transform=\"matrix(1.1688,0,0,-1.1688,1.4337,749.97)\"><g transform=\"matrix(1.5,0,0,-1.5,-351.92,1227.8)\" fill-rule=\"evenodd\" stroke=\"#000\" stroke-miterlimit=\"10.433\" ns0:preamble=\"default_packages.tex\" ns0:text=\"$$\\\\text{Example: Knowledge bases}$$\\n\" xml:space=\"preserve\"><g transform=\"matrix(1.5,0,0,-1.5,-352.93,1195)\" fill-rule=\"evenodd\" stroke=\"#000\" stroke-miterlimit=\"10.433\" ns0:preamble=\"default_packages.tex\" ns0:text=\"$$\\\\text{AI (e.g. Knowledge bases)}$$\\n\" xml:space=\"preserve\"><g transform=\"matrix(.43863 0 0 -.43863 259.71 522.41)\" fill-rule=\"evenodd\" stroke=\"#000\" stroke-miterlimit=\"10.433\" stroke-width=\"13.314\" ns0:preamble=\"default_packages.tex\" ns0:text=\"$$\\\\text{trial 1}$$\\n$$\\\\text{trial 2}$$\\n$$\\\\text{trial 3}$$\\n$$\\\\text{trial 4}$$\\n$$\\\\text{trial 5}$$\\n\" xml:space=\"preserve\"/></g></g></g></g></g></g></g></g></g>\n",
              " </g>\n",
              " <g fill=\"#0040af\" stroke=\"#0059d0\" stroke-linecap=\"square\" stroke-miterlimit=\"3\" stroke-opacity=\".20773\" stroke-width=\".653\">\n",
              "  <g fill-opacity=\".1256\">\n",
              "   <rect x=\".3265\" y=\"4.9157\" width=\"11.753\" height=\"11.753\"/>\n",
              "   <rect x=\"12.08\" y=\"4.9157\" width=\"11.753\" height=\"11.753\"/>\n",
              "   <rect x=\"23.833\" y=\"4.9157\" width=\"11.753\" height=\"11.753\"/>\n",
              "   <rect x=\"35.586\" y=\"4.9157\" width=\"11.753\" height=\"11.753\"/>\n",
              "  </g>\n",
              "  <rect x=\"61.051\" y=\"4.8126\" width=\"11.753\" height=\"11.753\" fill-opacity=\".12549\"/>\n",
              " </g>\n",
              " <g fill=\"none\" stroke=\"#0059d0\" stroke-linecap=\"square\" stroke-miterlimit=\"3\" stroke-opacity=\".10628\" stroke-width=\".653\">\n",
              "  <rect x=\"72.804\" y=\"4.8126\" width=\"11.753\" height=\"11.753\"/>\n",
              "  <rect x=\"84.557\" y=\"4.8126\" width=\"11.753\" height=\"11.753\"/>\n",
              "  <rect x=\"96.31\" y=\"4.8126\" width=\"11.753\" height=\"11.753\"/>\n",
              " </g>\n",
              " <g fill=\"#0040af\" fill-opacity=\".12549\" stroke=\"#0059d0\" stroke-linecap=\"square\" stroke-miterlimit=\"3\" stroke-opacity=\".20773\" stroke-width=\".653\">\n",
              "  <rect x=\"121.27\" y=\"4.8674\" width=\"11.753\" height=\"11.753\"/>\n",
              "  <rect x=\"133.02\" y=\"4.8674\" width=\"11.753\" height=\"11.753\"/>\n",
              "  <rect x=\"144.77\" y=\"4.8674\" width=\"11.753\" height=\"11.753\"/>\n",
              "  <rect x=\"156.52\" y=\"4.8674\" width=\"11.753\" height=\"11.753\"/>\n",
              " </g>\n",
              " <g fill=\"#000000\" font-family=\"Verdana\" letter-spacing=\"0px\" stroke-width=\".26458\" word-spacing=\"0px\">\n",
              "  <g>\n",
              "   <text x=\"52.17606\" y=\"13.366611\" font-size=\"8.7876px\" style=\"line-height:1.25\" xml:space=\"preserve\"><tspan x=\"52.17606\" y=\"13.366611\" fill=\"#000000\" fill-opacity=\".61836\" font-family=\"'Courier New'\" font-size=\"8.7876px\" font-weight=\"bold\" stroke-width=\".26458\" style=\"font-feature-settings:normal;font-variant-caps:normal;font-variant-ligatures:normal;font-variant-numeric:normal\">+</tspan></text>\n",
              "   <text x=\"111.94216\" y=\"13.377199\" font-size=\"8.7876px\" style=\"line-height:1.25\" xml:space=\"preserve\"><tspan x=\"111.94216\" y=\"13.377199\" fill=\"#000000\" fill-opacity=\".61836\" font-family=\"'Courier New'\" font-size=\"8.7876px\" font-weight=\"bold\" stroke-width=\".26458\" style=\"font-feature-settings:normal;font-variant-caps:normal;font-variant-ligatures:normal;font-variant-numeric:normal\">=</tspan></text>\n",
              "   <g font-size=\"8.2692px\">\n",
              "    <text x=\"3.8198557\" y=\"13.613109\" style=\"line-height:1.25\" xml:space=\"preserve\"><tspan x=\"3.8198557\" y=\"13.613109\" fill=\"#000000\" fill-opacity=\".50242\" font-family=\"'Courier New'\" font-size=\"8.2692px\" font-weight=\"bold\" stroke-width=\".26458\" style=\"font-feature-settings:normal;font-variant-caps:normal;font-variant-ligatures:normal;font-variant-numeric:normal\">0</tspan></text>\n",
              "    <text x=\"15.838583\" y=\"13.832622\" style=\"line-height:1.25\" xml:space=\"preserve\"><tspan x=\"15.838583\" y=\"13.832622\" fill=\"#000000\" fill-opacity=\".50242\" font-family=\"'Courier New'\" font-size=\"8.2692px\" font-weight=\"bold\" stroke-width=\".26458\" style=\"font-feature-settings:normal;font-variant-caps:normal;font-variant-ligatures:normal;font-variant-numeric:normal\">1</tspan></text>\n",
              "    <text x=\"27.723074\" y=\"13.649931\" style=\"line-height:1.25\" xml:space=\"preserve\"><tspan x=\"27.723074\" y=\"13.649931\" fill=\"#000000\" fill-opacity=\".50242\" font-family=\"'Courier New'\" font-size=\"8.2692px\" font-weight=\"bold\" stroke-width=\".26458\" style=\"font-feature-settings:normal;font-variant-caps:normal;font-variant-ligatures:normal;font-variant-numeric:normal\">2</tspan></text>\n",
              "    <text x=\"39.079102\" y=\"13.795558\" style=\"line-height:1.25\" xml:space=\"preserve\"><tspan x=\"39.079102\" y=\"13.795558\" fill=\"#000000\" fill-opacity=\".50242\" font-family=\"'Courier New'\" font-size=\"8.2692px\" font-weight=\"bold\" stroke-width=\".26458\" style=\"font-feature-settings:normal;font-variant-caps:normal;font-variant-ligatures:normal;font-variant-numeric:normal\">3</tspan></text>\n",
              "    <text x=\"64.780014\" y=\"13.753027\" style=\"line-height:1.25\" xml:space=\"preserve\"><tspan x=\"64.780014\" y=\"13.753027\" fill=\"#000000\" fill-opacity=\".50242\" font-family=\"'Courier New'\" font-size=\"8.2692px\" font-weight=\"bold\" stroke-width=\".26458\" style=\"font-feature-settings:normal;font-variant-caps:normal;font-variant-ligatures:normal;font-variant-numeric:normal\">1</tspan></text>\n",
              "   </g>\n",
              "  </g>\n",
              "  <g fill-opacity=\".1401\" font-size=\"8.2692px\">\n",
              "   <text x=\"77.000687\" y=\"13.753027\" style=\"line-height:1.25\" xml:space=\"preserve\"><tspan x=\"77.000687\" y=\"13.753027\" fill=\"#000000\" fill-opacity=\".1401\" font-family=\"'Courier New'\" font-size=\"8.2692px\" font-weight=\"bold\" stroke-width=\".26458\" style=\"font-feature-settings:normal;font-variant-caps:normal;font-variant-ligatures:normal;font-variant-numeric:normal\">1</tspan></text>\n",
              "   <text x=\"88.444473\" y=\"13.64993\" style=\"line-height:1.25\" xml:space=\"preserve\"><tspan x=\"88.444473\" y=\"13.64993\" fill=\"#000000\" fill-opacity=\".1401\" font-family=\"'Courier New'\" font-size=\"8.2692px\" font-weight=\"bold\" stroke-width=\".26458\" style=\"font-feature-settings:normal;font-variant-caps:normal;font-variant-ligatures:normal;font-variant-numeric:normal\">1</tspan></text>\n",
              "   <text x=\"99.785156\" y=\"13.443737\" style=\"line-height:1.25\" xml:space=\"preserve\"><tspan x=\"99.785156\" y=\"13.443737\" fill=\"#000000\" fill-opacity=\".1401\" font-family=\"'Courier New'\" font-size=\"8.2692px\" font-weight=\"bold\" stroke-width=\".26458\" style=\"font-feature-settings:normal;font-variant-caps:normal;font-variant-ligatures:normal;font-variant-numeric:normal\">1</tspan></text>\n",
              "  </g>\n",
              "  <g font-size=\"8.2692px\">\n",
              "   <text x=\"125.55915\" y=\"13.718453\" style=\"line-height:1.25\" xml:space=\"preserve\"><tspan x=\"125.55915\" y=\"13.718453\" fill=\"#000000\" fill-opacity=\".50242\" font-family=\"'Courier New'\" font-size=\"8.2692px\" font-weight=\"bold\" stroke-width=\".26458\" style=\"font-feature-settings:normal;font-variant-caps:normal;font-variant-ligatures:normal;font-variant-numeric:normal\">1</tspan></text>\n",
              "   <text x=\"137.44366\" y=\"13.535762\" style=\"line-height:1.25\" xml:space=\"preserve\"><tspan x=\"137.44366\" y=\"13.535762\" fill=\"#000000\" fill-opacity=\".50242\" font-family=\"'Courier New'\" font-size=\"8.2692px\" font-weight=\"bold\" stroke-width=\".26458\" style=\"font-feature-settings:normal;font-variant-caps:normal;font-variant-ligatures:normal;font-variant-numeric:normal\">2</tspan></text>\n",
              "   <text x=\"148.7997\" y=\"13.681389\" style=\"line-height:1.25\" xml:space=\"preserve\"><tspan x=\"148.7997\" y=\"13.681389\" fill=\"#000000\" fill-opacity=\".50242\" font-family=\"'Courier New'\" font-size=\"8.2692px\" font-weight=\"bold\" stroke-width=\".26458\" style=\"font-feature-settings:normal;font-variant-caps:normal;font-variant-ligatures:normal;font-variant-numeric:normal\">3</tspan></text>\n",
              "   <text x=\"160.18761\" y=\"13.612984\" style=\"line-height:1.25\" xml:space=\"preserve\"><tspan x=\"160.18761\" y=\"13.612984\" fill=\"#000000\" fill-opacity=\".50242\" font-family=\"'Courier New'\" font-size=\"8.2692px\" font-weight=\"bold\" stroke-width=\".26458\" style=\"font-feature-settings:normal;font-variant-caps:normal;font-variant-ligatures:normal;font-variant-numeric:normal\">4</tspan></text>\n",
              "  </g>\n",
              " </g>\n",
              " <g fill=\"none\" stroke=\"#000\" stroke-opacity=\".28019\" stroke-width=\".39687\">\n",
              "  <path d=\"m68.436 3.0449c3.4243-2.8829 6.9078-4.6121 10.716 0\" marker-end=\"url(#a)\"/>\n",
              "  <path d=\"m79.772 3.2272c3.4243-2.8829 6.9078-4.6121 10.716 0\" marker-end=\"url(#b)\"/>\n",
              "  <path d=\"m91.153 3.4915c3.4243-2.8829 6.9078-4.6121 10.716 0\" marker-end=\"url(#Arrow1Mend)\"/>\n",
              " </g>\n",
              " <text x=\"-0.41239136\" y=\"-6.8648891\" fill=\"#000000\" font-family=\"Verdana\" font-size=\"10.583px\" letter-spacing=\"0px\" stroke-width=\".26458\" word-spacing=\"0px\" style=\"line-height:1.25\" xml:space=\"preserve\"><tspan x=\"-0.41239136\" y=\"2.7906065\" stroke-width=\".26458\"/></text>\n",
              "</svg>"
            ],
            "text/plain": [
              "<IPython.core.display.HTML object>"
            ]
          },
          "metadata": {
            "tags": []
          }
        }
      ]
    },
    {
      "cell_type": "code",
      "metadata": {
        "id": "gG-giZ_-t_K6",
        "colab_type": "code",
        "cellView": "form",
        "outputId": "91dae474-2ecb-4d88-bd08-2461dee130e3",
        "colab": {
          "base_uri": "https://localhost:8080/",
          "height": 203
        }
      },
      "source": [
        "#@title ##2\n",
        "\n",
        "%%html\n",
        "\n",
        "<svg width=\"168.94mm\" height=\"48.096mm\" version=\"1.1\" viewBox=\"0 0 168.94 48.096\" xmlns=\"http://www.w3.org/2000/svg\" xmlns:ns0=\"http://www.iki.fi/pav/software/textext/\">\n",
        " <defs>\n",
        "  <marker id=\"a\" overflow=\"visible\" orient=\"auto\">\n",
        "   <path transform=\"matrix(-.4 0 0 -.4 -4 0)\" d=\"m0 0 5-5-17.5 5 17.5 5z\" fill-opacity=\".28019\" fill-rule=\"evenodd\" stroke=\"#000\" stroke-opacity=\".28019\" stroke-width=\"1pt\"/>\n",
        "  </marker>\n",
        "  <marker id=\"b\" overflow=\"visible\" orient=\"auto\">\n",
        "   <path transform=\"matrix(-.4 0 0 -.4 -4 0)\" d=\"m0 0 5-5-17.5 5 17.5 5z\" fill-opacity=\".28019\" fill-rule=\"evenodd\" stroke=\"#000\" stroke-opacity=\".28019\" stroke-width=\"1pt\"/>\n",
        "  </marker>\n",
        "  <marker id=\"c\" overflow=\"visible\" orient=\"auto\">\n",
        "   <path transform=\"matrix(-.4 0 0 -.4 -4 0)\" d=\"m0 0 5-5-17.5 5 17.5 5z\" fill-opacity=\".28019\" fill-rule=\"evenodd\" stroke=\"#000\" stroke-opacity=\".28019\" stroke-width=\"1pt\"/>\n",
        "  </marker>\n",
        " </defs>\n",
        " <g transform=\"translate(144.21 -83.104)\">\n",
        "  <text x=\"35.246281\" y=\"42.149555\" fill=\"#000000\" font-family=\"Verdana\" font-size=\"10.583px\" letter-spacing=\"0px\" stroke-width=\".26458\" word-spacing=\"0px\" style=\"line-height:1.25\" xml:space=\"preserve\"><tspan x=\"35.246281\" y=\"51.80505\" stroke-width=\".26458\"/></text>\n",
        "  <text x=\"76.906807\" y=\"21.511925\" fill=\"#000000\" font-family=\"Verdana\" font-size=\"10.583px\" letter-spacing=\"0px\" stroke-width=\".26458\" word-spacing=\"0px\" style=\"line-height:1.25\" xml:space=\"preserve\"><tspan x=\"76.906807\" y=\"31.167419\" stroke-width=\".26458\"/></text>\n",
        "  <g transform=\"matrix(1.2512,0,0,-1.2512,-160.51,876.57)\" fill-rule=\"evenodd\" stroke=\"#000\" stroke-miterlimit=\"10.433\" stroke-width=\"1.1988\" ns0:preamble=\"default_packages.tex\" ns0:text=\"$p q$\\n\" xml:space=\"preserve\"><g transform=\"matrix(1.5,0,0,-1.5,-165.9,1212.8)\" fill-rule=\"evenodd\" stroke=\"#000\" stroke-miterlimit=\"10.433\" ns0:preamble=\"default_packages.tex\" ns0:text=\"$\\\\text{delete readjust}$\\n\" xml:space=\"preserve\"><g transform=\"matrix(1.5,0,0,-1.5,-165.59,1212.8)\" fill-rule=\"evenodd\" stroke-miterlimit=\"10.433\" ns0:preamble=\"default_packages.tex\" ns0:text=\"$delete readjust$\\n\" xml:space=\"preserve\"><flowRoot fill=\"#000000\" font-family=\"Verdana\" font-size=\"40px\" letter-spacing=\"0px\" stroke=\"none\" word-spacing=\"0px\" style=\"line-height:1.25\" xml:space=\"preserve\"><flowRegion><rect x=\"78.929\" y=\"457.16\" width=\"60\" height=\"76.429\"/></flowRegion><flowPara/></flowRoot><g transform=\"matrix(.20006 0 0 .20006 165.85 418.79)\" fill-rule=\"evenodd\" stroke=\"#000\" stroke-miterlimit=\"10.433\" stroke-width=\"8.9882\" ns0:preamble=\"default_packages.tex\" ns0:text=\"$f bias variance All functions Learnable functions$\\n\" xml:space=\"preserve\"><g transform=\"matrix(1.5,0,0,1.5,17.997,-402.96)\" fill-rule=\"evenodd\" stroke=\"#000\" stroke-miterlimit=\"10.433\" ns0:preamble=\"default_packages.tex\" ns0:text=\"feature $x y$\\n\" xml:space=\"preserve\"><g transform=\"matrix(1.0127,0,0,1.0127,-139.78,42.633)\" fill-rule=\"evenodd\" stroke=\"#000\" stroke-miterlimit=\"10.433\" stroke-width=\"13.314\" ns0:preamble=\"default_packages.tex\" ns0:text=\"$a s_1(a) s_2(a) s$\\n\" xml:space=\"preserve\"><g transform=\"matrix(1.1688,0,0,-1.1688,1.4337,749.97)\"><g transform=\"matrix(1.5,0,0,-1.5,-351.92,1227.8)\" fill-rule=\"evenodd\" stroke=\"#000\" stroke-miterlimit=\"10.433\" ns0:preamble=\"default_packages.tex\" ns0:text=\"$$\\\\text{Example: Knowledge bases}$$\\n\" xml:space=\"preserve\"><g transform=\"matrix(1.5,0,0,-1.5,-352.93,1195)\" fill-rule=\"evenodd\" stroke=\"#000\" stroke-miterlimit=\"10.433\" ns0:preamble=\"default_packages.tex\" ns0:text=\"$$\\\\text{AI (e.g. Knowledge bases)}$$\\n\" xml:space=\"preserve\"><g transform=\"matrix(.43863 0 0 -.43863 259.71 522.41)\" fill-rule=\"evenodd\" stroke=\"#000\" stroke-miterlimit=\"10.433\" stroke-width=\"13.314\" ns0:preamble=\"default_packages.tex\" ns0:text=\"$$\\\\text{trial 1}$$\\n$$\\\\text{trial 2}$$\\n$$\\\\text{trial 3}$$\\n$$\\\\text{trial 4}$$\\n$$\\\\text{trial 5}$$\\n\" xml:space=\"preserve\"/></g></g></g></g></g></g></g></g></g>\n",
        " </g>\n",
        " <g fill=\"#0040af\" fill-opacity=\".12549\" stroke=\"#0059d0\" stroke-linecap=\"square\" stroke-miterlimit=\"3\" stroke-opacity=\".20773\" stroke-width=\".653\">\n",
        "  <rect x=\".3265\" y=\".75714\" width=\"11.753\" height=\"11.753\"/>\n",
        "  <rect x=\"12.08\" y=\".75714\" width=\"11.753\" height=\"11.753\"/>\n",
        "  <rect x=\"23.833\" y=\".75714\" width=\"11.753\" height=\"11.753\"/>\n",
        "  <rect x=\"35.586\" y=\".75714\" width=\"11.753\" height=\"11.753\"/>\n",
        "  <rect x=\".3265\" y=\"12.51\" width=\"11.753\" height=\"11.753\"/>\n",
        "  <rect x=\"12.08\" y=\"12.51\" width=\"11.753\" height=\"11.753\"/>\n",
        "  <rect x=\"23.833\" y=\"12.51\" width=\"11.753\" height=\"11.753\"/>\n",
        "  <rect x=\"35.586\" y=\"12.51\" width=\"11.753\" height=\"11.753\"/>\n",
        "  <rect x=\".3265\" y=\"24.263\" width=\"11.753\" height=\"11.753\"/>\n",
        "  <rect x=\"12.08\" y=\"24.263\" width=\"11.753\" height=\"11.753\"/>\n",
        "  <rect x=\"23.833\" y=\"24.263\" width=\"11.753\" height=\"11.753\"/>\n",
        "  <rect x=\"35.586\" y=\"24.263\" width=\"11.753\" height=\"11.753\"/>\n",
        "  <rect x=\".3265\" y=\"36.016\" width=\"11.753\" height=\"11.753\"/>\n",
        "  <rect x=\"12.08\" y=\"36.016\" width=\"11.753\" height=\"11.753\"/>\n",
        "  <rect x=\"23.833\" y=\"36.016\" width=\"11.753\" height=\"11.753\"/>\n",
        "  <rect x=\"35.586\" y=\"36.016\" width=\"11.753\" height=\"11.753\"/>\n",
        "  <rect x=\"61.257\" y=\".44785\" width=\"11.753\" height=\"11.753\"/>\n",
        "  <rect x=\"73.01\" y=\".44785\" width=\"11.753\" height=\"11.753\"/>\n",
        "  <rect x=\"84.763\" y=\".44785\" width=\"11.753\" height=\"11.753\"/>\n",
        "  <rect x=\"96.516\" y=\".44785\" width=\"11.753\" height=\"11.753\"/>\n",
        " </g>\n",
        " <g fill=\"none\" stroke=\"#0059d0\" stroke-linecap=\"square\" stroke-miterlimit=\"3\" stroke-opacity=\".20773\" stroke-width=\".653\">\n",
        "  <rect x=\"61.257\" y=\"12.201\" width=\"11.753\" height=\"11.753\"/>\n",
        "  <rect x=\"73.01\" y=\"12.201\" width=\"11.753\" height=\"11.753\"/>\n",
        "  <rect x=\"84.763\" y=\"12.201\" width=\"11.753\" height=\"11.753\"/>\n",
        "  <rect x=\"96.516\" y=\"12.201\" width=\"11.753\" height=\"11.753\"/>\n",
        "  <rect x=\"61.257\" y=\"23.954\" width=\"11.753\" height=\"11.753\"/>\n",
        "  <rect x=\"73.01\" y=\"23.954\" width=\"11.753\" height=\"11.753\"/>\n",
        "  <rect x=\"84.763\" y=\"23.954\" width=\"11.753\" height=\"11.753\"/>\n",
        "  <rect x=\"96.516\" y=\"23.954\" width=\"11.753\" height=\"11.753\"/>\n",
        "  <rect x=\"61.257\" y=\"35.707\" width=\"11.753\" height=\"11.753\"/>\n",
        "  <rect x=\"73.01\" y=\"35.707\" width=\"11.753\" height=\"11.753\"/>\n",
        "  <rect x=\"84.763\" y=\"35.707\" width=\"11.753\" height=\"11.753\"/>\n",
        "  <rect x=\"96.516\" y=\"35.707\" width=\"11.753\" height=\"11.753\"/>\n",
        " </g>\n",
        " <g fill=\"#0040af\" fill-opacity=\".12549\" stroke=\"#0059d0\" stroke-linecap=\"square\" stroke-miterlimit=\"3\" stroke-opacity=\".20773\" stroke-width=\".653\">\n",
        "  <rect x=\"121.6\" y=\".3265\" width=\"11.753\" height=\"11.753\"/>\n",
        "  <rect x=\"133.35\" y=\".3265\" width=\"11.753\" height=\"11.753\"/>\n",
        "  <rect x=\"145.11\" y=\".3265\" width=\"11.753\" height=\"11.753\"/>\n",
        "  <rect x=\"156.86\" y=\".3265\" width=\"11.753\" height=\"11.753\"/>\n",
        "  <rect x=\"121.6\" y=\"12.08\" width=\"11.753\" height=\"11.753\"/>\n",
        "  <rect x=\"133.35\" y=\"12.08\" width=\"11.753\" height=\"11.753\"/>\n",
        "  <rect x=\"145.11\" y=\"12.08\" width=\"11.753\" height=\"11.753\"/>\n",
        "  <rect x=\"156.86\" y=\"12.08\" width=\"11.753\" height=\"11.753\"/>\n",
        "  <rect x=\"121.6\" y=\"23.833\" width=\"11.753\" height=\"11.753\"/>\n",
        "  <rect x=\"133.35\" y=\"23.833\" width=\"11.753\" height=\"11.753\"/>\n",
        "  <rect x=\"145.11\" y=\"23.833\" width=\"11.753\" height=\"11.753\"/>\n",
        "  <rect x=\"156.86\" y=\"23.833\" width=\"11.753\" height=\"11.753\"/>\n",
        "  <rect x=\"121.6\" y=\"35.586\" width=\"11.753\" height=\"11.753\"/>\n",
        "  <rect x=\"133.35\" y=\"35.586\" width=\"11.753\" height=\"11.753\"/>\n",
        "  <rect x=\"145.11\" y=\"35.586\" width=\"11.753\" height=\"11.753\"/>\n",
        "  <rect x=\"156.86\" y=\"35.586\" width=\"11.753\" height=\"11.753\"/>\n",
        " </g>\n",
        " <g fill=\"#000000\" font-family=\"Verdana\" letter-spacing=\"0px\" stroke-width=\".26458\" word-spacing=\"0px\">\n",
        "  <g>\n",
        "   <text x=\"51.645809\" y=\"26.839989\" font-size=\"10.583px\" style=\"line-height:1.25\" xml:space=\"preserve\"><tspan x=\"51.645809\" y=\"26.839989\" fill=\"#000000\" fill-opacity=\".61836\" font-family=\"'Courier New'\" font-size=\"10.583px\" font-weight=\"bold\" stroke-width=\".26458\" style=\"font-feature-settings:normal;font-variant-caps:normal;font-variant-ligatures:normal;font-variant-numeric:normal\">+</tspan></text>\n",
        "   <text x=\"113.02045\" y=\"26.884197\" font-size=\"10.583px\" style=\"line-height:1.25\" xml:space=\"preserve\"><tspan x=\"113.02045\" y=\"26.884197\" fill=\"#000000\" fill-opacity=\".61836\" font-family=\"'Courier New'\" font-size=\"10.583px\" font-weight=\"bold\" stroke-width=\".26458\" style=\"font-feature-settings:normal;font-variant-caps:normal;font-variant-ligatures:normal;font-variant-numeric:normal\">=</tspan></text>\n",
        "   <g font-size=\"8.2692px\">\n",
        "    <text x=\"65.07357\" y=\"9.4887085\" style=\"line-height:1.25\" xml:space=\"preserve\"><tspan x=\"65.07357\" y=\"9.4887085\" fill=\"#000000\" fill-opacity=\".50242\" font-family=\"'Courier New'\" font-size=\"8.2692px\" font-weight=\"bold\" stroke-width=\".26458\" style=\"font-feature-settings:normal;font-variant-caps:normal;font-variant-ligatures:normal;font-variant-numeric:normal\">0</tspan></text>\n",
        "    <text x=\"77.0923\" y=\"9.7082214\" style=\"line-height:1.25\" xml:space=\"preserve\"><tspan x=\"77.0923\" y=\"9.7082214\" fill=\"#000000\" fill-opacity=\".50242\" font-family=\"'Courier New'\" font-size=\"8.2692px\" font-weight=\"bold\" stroke-width=\".26458\" style=\"font-feature-settings:normal;font-variant-caps:normal;font-variant-ligatures:normal;font-variant-numeric:normal\">1</tspan></text>\n",
        "    <text x=\"88.976791\" y=\"9.5255318\" style=\"line-height:1.25\" xml:space=\"preserve\"><tspan x=\"88.976791\" y=\"9.5255318\" fill=\"#000000\" fill-opacity=\".50242\" font-family=\"'Courier New'\" font-size=\"8.2692px\" font-weight=\"bold\" stroke-width=\".26458\" style=\"font-feature-settings:normal;font-variant-caps:normal;font-variant-ligatures:normal;font-variant-numeric:normal\">2</tspan></text>\n",
        "    <text x=\"100.33282\" y=\"9.6711578\" style=\"line-height:1.25\" xml:space=\"preserve\"><tspan x=\"100.33282\" y=\"9.6711578\" fill=\"#000000\" fill-opacity=\".50242\" font-family=\"'Courier New'\" font-size=\"8.2692px\" font-weight=\"bold\" stroke-width=\".26458\" style=\"font-feature-settings:normal;font-variant-caps:normal;font-variant-ligatures:normal;font-variant-numeric:normal\">3</tspan></text>\n",
        "   </g>\n",
        "  </g>\n",
        "  <g fill-opacity=\".14118\" font-size=\"8.2692px\">\n",
        "   <text x=\"65.186905\" y=\"21.237831\" style=\"line-height:1.25\" xml:space=\"preserve\"><tspan x=\"65.186905\" y=\"21.237831\" fill=\"#000000\" fill-opacity=\".14118\" font-family=\"'Courier New'\" font-size=\"8.2692px\" font-weight=\"bold\" stroke-width=\".26458\" style=\"font-feature-settings:normal;font-variant-caps:normal;font-variant-ligatures:normal;font-variant-numeric:normal\">0</tspan></text>\n",
        "   <text x=\"77.205635\" y=\"21.457344\" style=\"line-height:1.25\" xml:space=\"preserve\"><tspan x=\"77.205635\" y=\"21.457344\" fill=\"#000000\" fill-opacity=\".14118\" font-family=\"'Courier New'\" font-size=\"8.2692px\" font-weight=\"bold\" stroke-width=\".26458\" style=\"font-feature-settings:normal;font-variant-caps:normal;font-variant-ligatures:normal;font-variant-numeric:normal\">1</tspan></text>\n",
        "   <text x=\"89.090126\" y=\"21.274654\" style=\"line-height:1.25\" xml:space=\"preserve\"><tspan x=\"89.090126\" y=\"21.274654\" fill=\"#000000\" fill-opacity=\".14118\" font-family=\"'Courier New'\" font-size=\"8.2692px\" font-weight=\"bold\" stroke-width=\".26458\" style=\"font-feature-settings:normal;font-variant-caps:normal;font-variant-ligatures:normal;font-variant-numeric:normal\">2</tspan></text>\n",
        "   <text x=\"100.44616\" y=\"21.42028\" style=\"line-height:1.25\" xml:space=\"preserve\"><tspan x=\"100.44616\" y=\"21.42028\" fill=\"#000000\" fill-opacity=\".14118\" font-family=\"'Courier New'\" font-size=\"8.2692px\" font-weight=\"bold\" stroke-width=\".26458\" style=\"font-feature-settings:normal;font-variant-caps:normal;font-variant-ligatures:normal;font-variant-numeric:normal\">3</tspan></text>\n",
        "   <text x=\"65.393097\" y=\"32.887817\" style=\"line-height:1.25\" xml:space=\"preserve\"><tspan x=\"65.393097\" y=\"32.887817\" fill=\"#000000\" fill-opacity=\".14118\" font-family=\"'Courier New'\" font-size=\"8.2692px\" font-weight=\"bold\" stroke-width=\".26458\" style=\"font-feature-settings:normal;font-variant-caps:normal;font-variant-ligatures:normal;font-variant-numeric:normal\">0</tspan></text>\n",
        "   <text x=\"77.411827\" y=\"33.10733\" style=\"line-height:1.25\" xml:space=\"preserve\"><tspan x=\"77.411827\" y=\"33.10733\" fill=\"#000000\" fill-opacity=\".14118\" font-family=\"'Courier New'\" font-size=\"8.2692px\" font-weight=\"bold\" stroke-width=\".26458\" style=\"font-feature-settings:normal;font-variant-caps:normal;font-variant-ligatures:normal;font-variant-numeric:normal\">1</tspan></text>\n",
        "   <text x=\"89.296318\" y=\"32.924637\" style=\"line-height:1.25\" xml:space=\"preserve\"><tspan x=\"89.296318\" y=\"32.924637\" fill=\"#000000\" fill-opacity=\".14118\" font-family=\"'Courier New'\" font-size=\"8.2692px\" font-weight=\"bold\" stroke-width=\".26458\" style=\"font-feature-settings:normal;font-variant-caps:normal;font-variant-ligatures:normal;font-variant-numeric:normal\">2</tspan></text>\n",
        "   <text x=\"100.65234\" y=\"33.070267\" style=\"line-height:1.25\" xml:space=\"preserve\"><tspan x=\"100.65234\" y=\"33.070267\" fill=\"#000000\" fill-opacity=\".14118\" font-family=\"'Courier New'\" font-size=\"8.2692px\" font-weight=\"bold\" stroke-width=\".26458\" style=\"font-feature-settings:normal;font-variant-caps:normal;font-variant-ligatures:normal;font-variant-numeric:normal\">3</tspan></text>\n",
        "   <text x=\"65.186905\" y=\"44.74398\" style=\"line-height:1.25\" xml:space=\"preserve\"><tspan x=\"65.186905\" y=\"44.74398\" fill=\"#000000\" fill-opacity=\".14118\" font-family=\"'Courier New'\" font-size=\"8.2692px\" font-weight=\"bold\" stroke-width=\".26458\" style=\"font-feature-settings:normal;font-variant-caps:normal;font-variant-ligatures:normal;font-variant-numeric:normal\">0</tspan></text>\n",
        "   <text x=\"77.205635\" y=\"44.963493\" style=\"line-height:1.25\" xml:space=\"preserve\"><tspan x=\"77.205635\" y=\"44.963493\" fill=\"#000000\" fill-opacity=\".14118\" font-family=\"'Courier New'\" font-size=\"8.2692px\" font-weight=\"bold\" stroke-width=\".26458\" style=\"font-feature-settings:normal;font-variant-caps:normal;font-variant-ligatures:normal;font-variant-numeric:normal\">1</tspan></text>\n",
        "   <text x=\"89.090126\" y=\"44.780807\" style=\"line-height:1.25\" xml:space=\"preserve\"><tspan x=\"89.090126\" y=\"44.780807\" fill=\"#000000\" fill-opacity=\".14118\" font-family=\"'Courier New'\" font-size=\"8.2692px\" font-weight=\"bold\" stroke-width=\".26458\" style=\"font-feature-settings:normal;font-variant-caps:normal;font-variant-ligatures:normal;font-variant-numeric:normal\">2</tspan></text>\n",
        "   <text x=\"100.44616\" y=\"44.92643\" style=\"line-height:1.25\" xml:space=\"preserve\"><tspan x=\"100.44616\" y=\"44.92643\" fill=\"#000000\" fill-opacity=\".14118\" font-family=\"'Courier New'\" font-size=\"8.2692px\" font-weight=\"bold\" stroke-width=\".26458\" style=\"font-feature-settings:normal;font-variant-caps:normal;font-variant-ligatures:normal;font-variant-numeric:normal\">3</tspan></text>\n",
        "  </g>\n",
        "  <g font-size=\"8.2692px\">\n",
        "   <text x=\"3.6986148\" y=\"9.8007088\" style=\"line-height:1.25\" xml:space=\"preserve\"><tspan x=\"3.6986148\" y=\"9.8007088\" fill=\"#000000\" fill-opacity=\".50242\" font-family=\"'Courier New'\" font-size=\"8.2692px\" font-weight=\"bold\" stroke-width=\".26458\" style=\"font-feature-settings:normal;font-variant-caps:normal;font-variant-ligatures:normal;font-variant-numeric:normal\">1</tspan></text>\n",
        "   <text x=\"15.760981\" y=\"9.9038086\" style=\"line-height:1.25\" xml:space=\"preserve\"><tspan x=\"15.760981\" y=\"9.9038086\" fill=\"#000000\" fill-opacity=\".50242\" font-family=\"'Courier New'\" font-size=\"8.2692px\" font-weight=\"bold\" stroke-width=\".26458\" style=\"font-feature-settings:normal;font-variant-caps:normal;font-variant-ligatures:normal;font-variant-numeric:normal\">1</tspan></text>\n",
        "   <text x=\"27.823349\" y=\"9.9038086\" style=\"line-height:1.25\" xml:space=\"preserve\"><tspan x=\"27.823349\" y=\"9.9038086\" fill=\"#000000\" fill-opacity=\".50242\" font-family=\"'Courier New'\" font-size=\"8.2692px\" font-weight=\"bold\" stroke-width=\".26458\" style=\"font-feature-settings:normal;font-variant-caps:normal;font-variant-ligatures:normal;font-variant-numeric:normal\">1</tspan></text>\n",
        "   <text x=\"39.473328\" y=\"9.8007088\" style=\"line-height:1.25\" xml:space=\"preserve\"><tspan x=\"39.473328\" y=\"9.8007088\" fill=\"#000000\" fill-opacity=\".50242\" font-family=\"'Courier New'\" font-size=\"8.2692px\" font-weight=\"bold\" stroke-width=\".26458\" style=\"font-feature-settings:normal;font-variant-caps:normal;font-variant-ligatures:normal;font-variant-numeric:normal\">1</tspan></text>\n",
        "   <text x=\"3.6826577\" y=\"21.502628\" style=\"line-height:1.25\" xml:space=\"preserve\"><tspan x=\"3.6826577\" y=\"21.502628\" fill=\"#000000\" fill-opacity=\".50242\" font-family=\"'Courier New'\" font-size=\"8.2692px\" font-weight=\"bold\" stroke-width=\".26458\" style=\"font-feature-settings:normal;font-variant-caps:normal;font-variant-ligatures:normal;font-variant-numeric:normal\">1</tspan></text>\n",
        "   <text x=\"15.745025\" y=\"21.605728\" style=\"line-height:1.25\" xml:space=\"preserve\"><tspan x=\"15.745025\" y=\"21.605728\" fill=\"#000000\" fill-opacity=\".50242\" font-family=\"'Courier New'\" font-size=\"8.2692px\" font-weight=\"bold\" stroke-width=\".26458\" style=\"font-feature-settings:normal;font-variant-caps:normal;font-variant-ligatures:normal;font-variant-numeric:normal\">1</tspan></text>\n",
        "   <text x=\"27.807392\" y=\"21.605728\" style=\"line-height:1.25\" xml:space=\"preserve\"><tspan x=\"27.807392\" y=\"21.605728\" fill=\"#000000\" fill-opacity=\".50242\" font-family=\"'Courier New'\" font-size=\"8.2692px\" font-weight=\"bold\" stroke-width=\".26458\" style=\"font-feature-settings:normal;font-variant-caps:normal;font-variant-ligatures:normal;font-variant-numeric:normal\">1</tspan></text>\n",
        "   <text x=\"39.457375\" y=\"21.502628\" style=\"line-height:1.25\" xml:space=\"preserve\"><tspan x=\"39.457375\" y=\"21.502628\" fill=\"#000000\" fill-opacity=\".50242\" font-family=\"'Courier New'\" font-size=\"8.2692px\" font-weight=\"bold\" stroke-width=\".26458\" style=\"font-feature-settings:normal;font-variant-caps:normal;font-variant-ligatures:normal;font-variant-numeric:normal\">1</tspan></text>\n",
        "   <text x=\"4.055141\" y=\"33.366539\" style=\"line-height:1.25\" xml:space=\"preserve\"><tspan x=\"4.055141\" y=\"33.366539\" fill=\"#000000\" fill-opacity=\".50242\" font-family=\"'Courier New'\" font-size=\"8.2692px\" font-weight=\"bold\" stroke-width=\".26458\" style=\"font-feature-settings:normal;font-variant-caps:normal;font-variant-ligatures:normal;font-variant-numeric:normal\">1</tspan></text>\n",
        "   <text x=\"16.117508\" y=\"33.469643\" style=\"line-height:1.25\" xml:space=\"preserve\"><tspan x=\"16.117508\" y=\"33.469643\" fill=\"#000000\" fill-opacity=\".50242\" font-family=\"'Courier New'\" font-size=\"8.2692px\" font-weight=\"bold\" stroke-width=\".26458\" style=\"font-feature-settings:normal;font-variant-caps:normal;font-variant-ligatures:normal;font-variant-numeric:normal\">1</tspan></text>\n",
        "   <text x=\"28.179876\" y=\"33.469643\" style=\"line-height:1.25\" xml:space=\"preserve\"><tspan x=\"28.179876\" y=\"33.469643\" fill=\"#000000\" fill-opacity=\".50242\" font-family=\"'Courier New'\" font-size=\"8.2692px\" font-weight=\"bold\" stroke-width=\".26458\" style=\"font-feature-settings:normal;font-variant-caps:normal;font-variant-ligatures:normal;font-variant-numeric:normal\">1</tspan></text>\n",
        "   <text x=\"39.829853\" y=\"33.366539\" style=\"line-height:1.25\" xml:space=\"preserve\"><tspan x=\"39.829853\" y=\"33.366539\" fill=\"#000000\" fill-opacity=\".50242\" font-family=\"'Courier New'\" font-size=\"8.2692px\" font-weight=\"bold\" stroke-width=\".26458\" style=\"font-feature-settings:normal;font-variant-caps:normal;font-variant-ligatures:normal;font-variant-numeric:normal\">1</tspan></text>\n",
        "   <text x=\"4.0391841\" y=\"45.068459\" style=\"line-height:1.25\" xml:space=\"preserve\"><tspan x=\"4.0391841\" y=\"45.068459\" fill=\"#000000\" fill-opacity=\".50242\" font-family=\"'Courier New'\" font-size=\"8.2692px\" font-weight=\"bold\" stroke-width=\".26458\" style=\"font-feature-settings:normal;font-variant-caps:normal;font-variant-ligatures:normal;font-variant-numeric:normal\">1</tspan></text>\n",
        "   <text x=\"16.101553\" y=\"45.171562\" style=\"line-height:1.25\" xml:space=\"preserve\"><tspan x=\"16.101553\" y=\"45.171562\" fill=\"#000000\" fill-opacity=\".50242\" font-family=\"'Courier New'\" font-size=\"8.2692px\" font-weight=\"bold\" stroke-width=\".26458\" style=\"font-feature-settings:normal;font-variant-caps:normal;font-variant-ligatures:normal;font-variant-numeric:normal\">1</tspan></text>\n",
        "   <text x=\"28.163919\" y=\"45.171562\" style=\"line-height:1.25\" xml:space=\"preserve\"><tspan x=\"28.163919\" y=\"45.171562\" fill=\"#000000\" fill-opacity=\".50242\" font-family=\"'Courier New'\" font-size=\"8.2692px\" font-weight=\"bold\" stroke-width=\".26458\" style=\"font-feature-settings:normal;font-variant-caps:normal;font-variant-ligatures:normal;font-variant-numeric:normal\">1</tspan></text>\n",
        "   <text x=\"39.813904\" y=\"45.068459\" style=\"line-height:1.25\" xml:space=\"preserve\"><tspan x=\"39.813904\" y=\"45.068459\" fill=\"#000000\" fill-opacity=\".50242\" font-family=\"'Courier New'\" font-size=\"8.2692px\" font-weight=\"bold\" stroke-width=\".26458\" style=\"font-feature-settings:normal;font-variant-caps:normal;font-variant-ligatures:normal;font-variant-numeric:normal\">1</tspan></text>\n",
        "  </g>\n",
        " </g>\n",
        " <g fill=\"none\" stroke=\"#000\" stroke-opacity=\".28019\" stroke-width=\".39687\">\n",
        "  <path d=\"m109.29 5.8754c2.8829 3.4243 4.6121 6.9077 0 10.716\" marker-end=\"url(#b)\"/>\n",
        "  <path d=\"m109.08 17.086c2.8829 3.4243 4.6121 6.9078 0 10.716\" marker-end=\"url(#c)\"/>\n",
        "  <path d=\"m108.77 28.324c2.8829 3.4243 4.6121 6.9078 0 10.716\" marker-end=\"url(#a)\"/>\n",
        " </g>\n",
        " <g fill=\"#000000\" font-family=\"Verdana\" letter-spacing=\"0px\" stroke-width=\".26458\" word-spacing=\"0px\">\n",
        "  <g font-size=\"8.2692px\">\n",
        "   <text x=\"125.72318\" y=\"9.1530724\" style=\"line-height:1.25\" xml:space=\"preserve\"><tspan x=\"125.72318\" y=\"9.1530724\" fill=\"#000000\" fill-opacity=\".50242\" font-family=\"'Courier New'\" font-size=\"8.2692px\" font-weight=\"bold\" stroke-width=\".26458\" style=\"font-feature-settings:normal;font-variant-caps:normal;font-variant-ligatures:normal;font-variant-numeric:normal\">1</tspan></text>\n",
        "   <text x=\"137.60768\" y=\"8.9703789\" style=\"line-height:1.25\" xml:space=\"preserve\"><tspan x=\"137.60768\" y=\"8.9703789\" fill=\"#000000\" fill-opacity=\".50242\" font-family=\"'Courier New'\" font-size=\"8.2692px\" font-weight=\"bold\" stroke-width=\".26458\" style=\"font-feature-settings:normal;font-variant-caps:normal;font-variant-ligatures:normal;font-variant-numeric:normal\">2</tspan></text>\n",
        "   <text x=\"148.96368\" y=\"9.1160088\" style=\"line-height:1.25\" xml:space=\"preserve\"><tspan x=\"148.96368\" y=\"9.1160088\" fill=\"#000000\" fill-opacity=\".50242\" font-family=\"'Courier New'\" font-size=\"8.2692px\" font-weight=\"bold\" stroke-width=\".26458\" style=\"font-feature-settings:normal;font-variant-caps:normal;font-variant-ligatures:normal;font-variant-numeric:normal\">3</tspan></text>\n",
        "   <text x=\"160.89665\" y=\"9.2306099\" style=\"line-height:1.25\" xml:space=\"preserve\"><tspan x=\"160.89665\" y=\"9.2306099\" fill=\"#000000\" fill-opacity=\".50242\" font-family=\"'Courier New'\" font-size=\"8.2692px\" font-weight=\"bold\" stroke-width=\".26458\" style=\"font-feature-settings:normal;font-variant-caps:normal;font-variant-ligatures:normal;font-variant-numeric:normal\">4</tspan></text>\n",
        "   <text x=\"125.57738\" y=\"21.035885\" style=\"line-height:1.25\" xml:space=\"preserve\"><tspan x=\"125.57738\" y=\"21.035885\" fill=\"#000000\" fill-opacity=\".50242\" font-family=\"'Courier New'\" font-size=\"8.2692px\" font-weight=\"bold\" stroke-width=\".26458\" style=\"font-feature-settings:normal;font-variant-caps:normal;font-variant-ligatures:normal;font-variant-numeric:normal\">1</tspan></text>\n",
        "   <text x=\"137.46187\" y=\"20.853191\" style=\"line-height:1.25\" xml:space=\"preserve\"><tspan x=\"137.46187\" y=\"20.853191\" fill=\"#000000\" fill-opacity=\".50242\" font-family=\"'Courier New'\" font-size=\"8.2692px\" font-weight=\"bold\" stroke-width=\".26458\" style=\"font-feature-settings:normal;font-variant-caps:normal;font-variant-ligatures:normal;font-variant-numeric:normal\">2</tspan></text>\n",
        "   <text x=\"148.81789\" y=\"20.998821\" style=\"line-height:1.25\" xml:space=\"preserve\"><tspan x=\"148.81789\" y=\"20.998821\" fill=\"#000000\" fill-opacity=\".50242\" font-family=\"'Courier New'\" font-size=\"8.2692px\" font-weight=\"bold\" stroke-width=\".26458\" style=\"font-feature-settings:normal;font-variant-caps:normal;font-variant-ligatures:normal;font-variant-numeric:normal\">3</tspan></text>\n",
        "   <text x=\"160.75085\" y=\"21.113422\" style=\"line-height:1.25\" xml:space=\"preserve\"><tspan x=\"160.75085\" y=\"21.113422\" fill=\"#000000\" fill-opacity=\".50242\" font-family=\"'Courier New'\" font-size=\"8.2692px\" font-weight=\"bold\" stroke-width=\".26458\" style=\"font-feature-settings:normal;font-variant-caps:normal;font-variant-ligatures:normal;font-variant-numeric:normal\">4</tspan></text>\n",
        "   <text x=\"125.50448\" y=\"32.772903\" style=\"line-height:1.25\" xml:space=\"preserve\"><tspan x=\"125.50448\" y=\"32.772903\" fill=\"#000000\" fill-opacity=\".50242\" font-family=\"'Courier New'\" font-size=\"8.2692px\" font-weight=\"bold\" stroke-width=\".26458\" style=\"font-feature-settings:normal;font-variant-caps:normal;font-variant-ligatures:normal;font-variant-numeric:normal\">1</tspan></text>\n",
        "   <text x=\"137.38896\" y=\"32.59021\" style=\"line-height:1.25\" xml:space=\"preserve\"><tspan x=\"137.38896\" y=\"32.59021\" fill=\"#000000\" fill-opacity=\".50242\" font-family=\"'Courier New'\" font-size=\"8.2692px\" font-weight=\"bold\" stroke-width=\".26458\" style=\"font-feature-settings:normal;font-variant-caps:normal;font-variant-ligatures:normal;font-variant-numeric:normal\">2</tspan></text>\n",
        "   <text x=\"148.74498\" y=\"32.73584\" style=\"line-height:1.25\" xml:space=\"preserve\"><tspan x=\"148.74498\" y=\"32.73584\" fill=\"#000000\" fill-opacity=\".50242\" font-family=\"'Courier New'\" font-size=\"8.2692px\" font-weight=\"bold\" stroke-width=\".26458\" style=\"font-feature-settings:normal;font-variant-caps:normal;font-variant-ligatures:normal;font-variant-numeric:normal\">3</tspan></text>\n",
        "   <text x=\"160.67795\" y=\"32.850441\" style=\"line-height:1.25\" xml:space=\"preserve\"><tspan x=\"160.67795\" y=\"32.850441\" fill=\"#000000\" fill-opacity=\".50242\" font-family=\"'Courier New'\" font-size=\"8.2692px\" font-weight=\"bold\" stroke-width=\".26458\" style=\"font-feature-settings:normal;font-variant-caps:normal;font-variant-ligatures:normal;font-variant-numeric:normal\">4</tspan></text>\n",
        "   <text x=\"125.65028\" y=\"44.145409\" style=\"line-height:1.25\" xml:space=\"preserve\"><tspan x=\"125.65028\" y=\"44.145409\" fill=\"#000000\" fill-opacity=\".50242\" font-family=\"'Courier New'\" font-size=\"8.2692px\" font-weight=\"bold\" stroke-width=\".26458\" style=\"font-feature-settings:normal;font-variant-caps:normal;font-variant-ligatures:normal;font-variant-numeric:normal\">1</tspan></text>\n",
        "   <text x=\"137.53477\" y=\"43.962715\" style=\"line-height:1.25\" xml:space=\"preserve\"><tspan x=\"137.53477\" y=\"43.962715\" fill=\"#000000\" fill-opacity=\".50242\" font-family=\"'Courier New'\" font-size=\"8.2692px\" font-weight=\"bold\" stroke-width=\".26458\" style=\"font-feature-settings:normal;font-variant-caps:normal;font-variant-ligatures:normal;font-variant-numeric:normal\">2</tspan></text>\n",
        "   <text x=\"148.89079\" y=\"44.108345\" style=\"line-height:1.25\" xml:space=\"preserve\"><tspan x=\"148.89079\" y=\"44.108345\" fill=\"#000000\" fill-opacity=\".50242\" font-family=\"'Courier New'\" font-size=\"8.2692px\" font-weight=\"bold\" stroke-width=\".26458\" style=\"font-feature-settings:normal;font-variant-caps:normal;font-variant-ligatures:normal;font-variant-numeric:normal\">3</tspan></text>\n",
        "   <text x=\"160.82376\" y=\"44.222946\" style=\"line-height:1.25\" xml:space=\"preserve\"><tspan x=\"160.82376\" y=\"44.222946\" fill=\"#000000\" fill-opacity=\".50242\" font-family=\"'Courier New'\" font-size=\"8.2692px\" font-weight=\"bold\" stroke-width=\".26458\" style=\"font-feature-settings:normal;font-variant-caps:normal;font-variant-ligatures:normal;font-variant-numeric:normal\">4</tspan></text>\n",
        "  </g>\n",
        "  <text x=\"-0.10309716\" y=\"-40.096798\" font-size=\"10.583px\" style=\"line-height:1.25\" xml:space=\"preserve\"><tspan x=\"-0.10309716\" y=\"-30.441303\" stroke-width=\".26458\"/></text>\n",
        " </g>\n",
        "</svg>\n",
        "\n"
      ],
      "execution_count": 0,
      "outputs": [
        {
          "output_type": "display_data",
          "data": {
            "text/html": [
              "\n",
              "<svg width=\"168.94mm\" height=\"48.096mm\" version=\"1.1\" viewBox=\"0 0 168.94 48.096\" xmlns=\"http://www.w3.org/2000/svg\" xmlns:ns0=\"http://www.iki.fi/pav/software/textext/\">\n",
              " <defs>\n",
              "  <marker id=\"a\" overflow=\"visible\" orient=\"auto\">\n",
              "   <path transform=\"matrix(-.4 0 0 -.4 -4 0)\" d=\"m0 0 5-5-17.5 5 17.5 5z\" fill-opacity=\".28019\" fill-rule=\"evenodd\" stroke=\"#000\" stroke-opacity=\".28019\" stroke-width=\"1pt\"/>\n",
              "  </marker>\n",
              "  <marker id=\"b\" overflow=\"visible\" orient=\"auto\">\n",
              "   <path transform=\"matrix(-.4 0 0 -.4 -4 0)\" d=\"m0 0 5-5-17.5 5 17.5 5z\" fill-opacity=\".28019\" fill-rule=\"evenodd\" stroke=\"#000\" stroke-opacity=\".28019\" stroke-width=\"1pt\"/>\n",
              "  </marker>\n",
              "  <marker id=\"c\" overflow=\"visible\" orient=\"auto\">\n",
              "   <path transform=\"matrix(-.4 0 0 -.4 -4 0)\" d=\"m0 0 5-5-17.5 5 17.5 5z\" fill-opacity=\".28019\" fill-rule=\"evenodd\" stroke=\"#000\" stroke-opacity=\".28019\" stroke-width=\"1pt\"/>\n",
              "  </marker>\n",
              " </defs>\n",
              " <g transform=\"translate(144.21 -83.104)\">\n",
              "  <text x=\"35.246281\" y=\"42.149555\" fill=\"#000000\" font-family=\"Verdana\" font-size=\"10.583px\" letter-spacing=\"0px\" stroke-width=\".26458\" word-spacing=\"0px\" style=\"line-height:1.25\" xml:space=\"preserve\"><tspan x=\"35.246281\" y=\"51.80505\" stroke-width=\".26458\"/></text>\n",
              "  <text x=\"76.906807\" y=\"21.511925\" fill=\"#000000\" font-family=\"Verdana\" font-size=\"10.583px\" letter-spacing=\"0px\" stroke-width=\".26458\" word-spacing=\"0px\" style=\"line-height:1.25\" xml:space=\"preserve\"><tspan x=\"76.906807\" y=\"31.167419\" stroke-width=\".26458\"/></text>\n",
              "  <g transform=\"matrix(1.2512,0,0,-1.2512,-160.51,876.57)\" fill-rule=\"evenodd\" stroke=\"#000\" stroke-miterlimit=\"10.433\" stroke-width=\"1.1988\" ns0:preamble=\"default_packages.tex\" ns0:text=\"$p q$\\n\" xml:space=\"preserve\"><g transform=\"matrix(1.5,0,0,-1.5,-165.9,1212.8)\" fill-rule=\"evenodd\" stroke=\"#000\" stroke-miterlimit=\"10.433\" ns0:preamble=\"default_packages.tex\" ns0:text=\"$\\\\text{delete readjust}$\\n\" xml:space=\"preserve\"><g transform=\"matrix(1.5,0,0,-1.5,-165.59,1212.8)\" fill-rule=\"evenodd\" stroke-miterlimit=\"10.433\" ns0:preamble=\"default_packages.tex\" ns0:text=\"$delete readjust$\\n\" xml:space=\"preserve\"><flowRoot fill=\"#000000\" font-family=\"Verdana\" font-size=\"40px\" letter-spacing=\"0px\" stroke=\"none\" word-spacing=\"0px\" style=\"line-height:1.25\" xml:space=\"preserve\"><flowRegion><rect x=\"78.929\" y=\"457.16\" width=\"60\" height=\"76.429\"/></flowRegion><flowPara/></flowRoot><g transform=\"matrix(.20006 0 0 .20006 165.85 418.79)\" fill-rule=\"evenodd\" stroke=\"#000\" stroke-miterlimit=\"10.433\" stroke-width=\"8.9882\" ns0:preamble=\"default_packages.tex\" ns0:text=\"$f bias variance All functions Learnable functions$\\n\" xml:space=\"preserve\"><g transform=\"matrix(1.5,0,0,1.5,17.997,-402.96)\" fill-rule=\"evenodd\" stroke=\"#000\" stroke-miterlimit=\"10.433\" ns0:preamble=\"default_packages.tex\" ns0:text=\"feature $x y$\\n\" xml:space=\"preserve\"><g transform=\"matrix(1.0127,0,0,1.0127,-139.78,42.633)\" fill-rule=\"evenodd\" stroke=\"#000\" stroke-miterlimit=\"10.433\" stroke-width=\"13.314\" ns0:preamble=\"default_packages.tex\" ns0:text=\"$a s_1(a) s_2(a) s$\\n\" xml:space=\"preserve\"><g transform=\"matrix(1.1688,0,0,-1.1688,1.4337,749.97)\"><g transform=\"matrix(1.5,0,0,-1.5,-351.92,1227.8)\" fill-rule=\"evenodd\" stroke=\"#000\" stroke-miterlimit=\"10.433\" ns0:preamble=\"default_packages.tex\" ns0:text=\"$$\\\\text{Example: Knowledge bases}$$\\n\" xml:space=\"preserve\"><g transform=\"matrix(1.5,0,0,-1.5,-352.93,1195)\" fill-rule=\"evenodd\" stroke=\"#000\" stroke-miterlimit=\"10.433\" ns0:preamble=\"default_packages.tex\" ns0:text=\"$$\\\\text{AI (e.g. Knowledge bases)}$$\\n\" xml:space=\"preserve\"><g transform=\"matrix(.43863 0 0 -.43863 259.71 522.41)\" fill-rule=\"evenodd\" stroke=\"#000\" stroke-miterlimit=\"10.433\" stroke-width=\"13.314\" ns0:preamble=\"default_packages.tex\" ns0:text=\"$$\\\\text{trial 1}$$\\n$$\\\\text{trial 2}$$\\n$$\\\\text{trial 3}$$\\n$$\\\\text{trial 4}$$\\n$$\\\\text{trial 5}$$\\n\" xml:space=\"preserve\"/></g></g></g></g></g></g></g></g></g>\n",
              " </g>\n",
              " <g fill=\"#0040af\" fill-opacity=\".12549\" stroke=\"#0059d0\" stroke-linecap=\"square\" stroke-miterlimit=\"3\" stroke-opacity=\".20773\" stroke-width=\".653\">\n",
              "  <rect x=\".3265\" y=\".75714\" width=\"11.753\" height=\"11.753\"/>\n",
              "  <rect x=\"12.08\" y=\".75714\" width=\"11.753\" height=\"11.753\"/>\n",
              "  <rect x=\"23.833\" y=\".75714\" width=\"11.753\" height=\"11.753\"/>\n",
              "  <rect x=\"35.586\" y=\".75714\" width=\"11.753\" height=\"11.753\"/>\n",
              "  <rect x=\".3265\" y=\"12.51\" width=\"11.753\" height=\"11.753\"/>\n",
              "  <rect x=\"12.08\" y=\"12.51\" width=\"11.753\" height=\"11.753\"/>\n",
              "  <rect x=\"23.833\" y=\"12.51\" width=\"11.753\" height=\"11.753\"/>\n",
              "  <rect x=\"35.586\" y=\"12.51\" width=\"11.753\" height=\"11.753\"/>\n",
              "  <rect x=\".3265\" y=\"24.263\" width=\"11.753\" height=\"11.753\"/>\n",
              "  <rect x=\"12.08\" y=\"24.263\" width=\"11.753\" height=\"11.753\"/>\n",
              "  <rect x=\"23.833\" y=\"24.263\" width=\"11.753\" height=\"11.753\"/>\n",
              "  <rect x=\"35.586\" y=\"24.263\" width=\"11.753\" height=\"11.753\"/>\n",
              "  <rect x=\".3265\" y=\"36.016\" width=\"11.753\" height=\"11.753\"/>\n",
              "  <rect x=\"12.08\" y=\"36.016\" width=\"11.753\" height=\"11.753\"/>\n",
              "  <rect x=\"23.833\" y=\"36.016\" width=\"11.753\" height=\"11.753\"/>\n",
              "  <rect x=\"35.586\" y=\"36.016\" width=\"11.753\" height=\"11.753\"/>\n",
              "  <rect x=\"61.257\" y=\".44785\" width=\"11.753\" height=\"11.753\"/>\n",
              "  <rect x=\"73.01\" y=\".44785\" width=\"11.753\" height=\"11.753\"/>\n",
              "  <rect x=\"84.763\" y=\".44785\" width=\"11.753\" height=\"11.753\"/>\n",
              "  <rect x=\"96.516\" y=\".44785\" width=\"11.753\" height=\"11.753\"/>\n",
              " </g>\n",
              " <g fill=\"none\" stroke=\"#0059d0\" stroke-linecap=\"square\" stroke-miterlimit=\"3\" stroke-opacity=\".20773\" stroke-width=\".653\">\n",
              "  <rect x=\"61.257\" y=\"12.201\" width=\"11.753\" height=\"11.753\"/>\n",
              "  <rect x=\"73.01\" y=\"12.201\" width=\"11.753\" height=\"11.753\"/>\n",
              "  <rect x=\"84.763\" y=\"12.201\" width=\"11.753\" height=\"11.753\"/>\n",
              "  <rect x=\"96.516\" y=\"12.201\" width=\"11.753\" height=\"11.753\"/>\n",
              "  <rect x=\"61.257\" y=\"23.954\" width=\"11.753\" height=\"11.753\"/>\n",
              "  <rect x=\"73.01\" y=\"23.954\" width=\"11.753\" height=\"11.753\"/>\n",
              "  <rect x=\"84.763\" y=\"23.954\" width=\"11.753\" height=\"11.753\"/>\n",
              "  <rect x=\"96.516\" y=\"23.954\" width=\"11.753\" height=\"11.753\"/>\n",
              "  <rect x=\"61.257\" y=\"35.707\" width=\"11.753\" height=\"11.753\"/>\n",
              "  <rect x=\"73.01\" y=\"35.707\" width=\"11.753\" height=\"11.753\"/>\n",
              "  <rect x=\"84.763\" y=\"35.707\" width=\"11.753\" height=\"11.753\"/>\n",
              "  <rect x=\"96.516\" y=\"35.707\" width=\"11.753\" height=\"11.753\"/>\n",
              " </g>\n",
              " <g fill=\"#0040af\" fill-opacity=\".12549\" stroke=\"#0059d0\" stroke-linecap=\"square\" stroke-miterlimit=\"3\" stroke-opacity=\".20773\" stroke-width=\".653\">\n",
              "  <rect x=\"121.6\" y=\".3265\" width=\"11.753\" height=\"11.753\"/>\n",
              "  <rect x=\"133.35\" y=\".3265\" width=\"11.753\" height=\"11.753\"/>\n",
              "  <rect x=\"145.11\" y=\".3265\" width=\"11.753\" height=\"11.753\"/>\n",
              "  <rect x=\"156.86\" y=\".3265\" width=\"11.753\" height=\"11.753\"/>\n",
              "  <rect x=\"121.6\" y=\"12.08\" width=\"11.753\" height=\"11.753\"/>\n",
              "  <rect x=\"133.35\" y=\"12.08\" width=\"11.753\" height=\"11.753\"/>\n",
              "  <rect x=\"145.11\" y=\"12.08\" width=\"11.753\" height=\"11.753\"/>\n",
              "  <rect x=\"156.86\" y=\"12.08\" width=\"11.753\" height=\"11.753\"/>\n",
              "  <rect x=\"121.6\" y=\"23.833\" width=\"11.753\" height=\"11.753\"/>\n",
              "  <rect x=\"133.35\" y=\"23.833\" width=\"11.753\" height=\"11.753\"/>\n",
              "  <rect x=\"145.11\" y=\"23.833\" width=\"11.753\" height=\"11.753\"/>\n",
              "  <rect x=\"156.86\" y=\"23.833\" width=\"11.753\" height=\"11.753\"/>\n",
              "  <rect x=\"121.6\" y=\"35.586\" width=\"11.753\" height=\"11.753\"/>\n",
              "  <rect x=\"133.35\" y=\"35.586\" width=\"11.753\" height=\"11.753\"/>\n",
              "  <rect x=\"145.11\" y=\"35.586\" width=\"11.753\" height=\"11.753\"/>\n",
              "  <rect x=\"156.86\" y=\"35.586\" width=\"11.753\" height=\"11.753\"/>\n",
              " </g>\n",
              " <g fill=\"#000000\" font-family=\"Verdana\" letter-spacing=\"0px\" stroke-width=\".26458\" word-spacing=\"0px\">\n",
              "  <g>\n",
              "   <text x=\"51.645809\" y=\"26.839989\" font-size=\"10.583px\" style=\"line-height:1.25\" xml:space=\"preserve\"><tspan x=\"51.645809\" y=\"26.839989\" fill=\"#000000\" fill-opacity=\".61836\" font-family=\"'Courier New'\" font-size=\"10.583px\" font-weight=\"bold\" stroke-width=\".26458\" style=\"font-feature-settings:normal;font-variant-caps:normal;font-variant-ligatures:normal;font-variant-numeric:normal\">+</tspan></text>\n",
              "   <text x=\"113.02045\" y=\"26.884197\" font-size=\"10.583px\" style=\"line-height:1.25\" xml:space=\"preserve\"><tspan x=\"113.02045\" y=\"26.884197\" fill=\"#000000\" fill-opacity=\".61836\" font-family=\"'Courier New'\" font-size=\"10.583px\" font-weight=\"bold\" stroke-width=\".26458\" style=\"font-feature-settings:normal;font-variant-caps:normal;font-variant-ligatures:normal;font-variant-numeric:normal\">=</tspan></text>\n",
              "   <g font-size=\"8.2692px\">\n",
              "    <text x=\"65.07357\" y=\"9.4887085\" style=\"line-height:1.25\" xml:space=\"preserve\"><tspan x=\"65.07357\" y=\"9.4887085\" fill=\"#000000\" fill-opacity=\".50242\" font-family=\"'Courier New'\" font-size=\"8.2692px\" font-weight=\"bold\" stroke-width=\".26458\" style=\"font-feature-settings:normal;font-variant-caps:normal;font-variant-ligatures:normal;font-variant-numeric:normal\">0</tspan></text>\n",
              "    <text x=\"77.0923\" y=\"9.7082214\" style=\"line-height:1.25\" xml:space=\"preserve\"><tspan x=\"77.0923\" y=\"9.7082214\" fill=\"#000000\" fill-opacity=\".50242\" font-family=\"'Courier New'\" font-size=\"8.2692px\" font-weight=\"bold\" stroke-width=\".26458\" style=\"font-feature-settings:normal;font-variant-caps:normal;font-variant-ligatures:normal;font-variant-numeric:normal\">1</tspan></text>\n",
              "    <text x=\"88.976791\" y=\"9.5255318\" style=\"line-height:1.25\" xml:space=\"preserve\"><tspan x=\"88.976791\" y=\"9.5255318\" fill=\"#000000\" fill-opacity=\".50242\" font-family=\"'Courier New'\" font-size=\"8.2692px\" font-weight=\"bold\" stroke-width=\".26458\" style=\"font-feature-settings:normal;font-variant-caps:normal;font-variant-ligatures:normal;font-variant-numeric:normal\">2</tspan></text>\n",
              "    <text x=\"100.33282\" y=\"9.6711578\" style=\"line-height:1.25\" xml:space=\"preserve\"><tspan x=\"100.33282\" y=\"9.6711578\" fill=\"#000000\" fill-opacity=\".50242\" font-family=\"'Courier New'\" font-size=\"8.2692px\" font-weight=\"bold\" stroke-width=\".26458\" style=\"font-feature-settings:normal;font-variant-caps:normal;font-variant-ligatures:normal;font-variant-numeric:normal\">3</tspan></text>\n",
              "   </g>\n",
              "  </g>\n",
              "  <g fill-opacity=\".14118\" font-size=\"8.2692px\">\n",
              "   <text x=\"65.186905\" y=\"21.237831\" style=\"line-height:1.25\" xml:space=\"preserve\"><tspan x=\"65.186905\" y=\"21.237831\" fill=\"#000000\" fill-opacity=\".14118\" font-family=\"'Courier New'\" font-size=\"8.2692px\" font-weight=\"bold\" stroke-width=\".26458\" style=\"font-feature-settings:normal;font-variant-caps:normal;font-variant-ligatures:normal;font-variant-numeric:normal\">0</tspan></text>\n",
              "   <text x=\"77.205635\" y=\"21.457344\" style=\"line-height:1.25\" xml:space=\"preserve\"><tspan x=\"77.205635\" y=\"21.457344\" fill=\"#000000\" fill-opacity=\".14118\" font-family=\"'Courier New'\" font-size=\"8.2692px\" font-weight=\"bold\" stroke-width=\".26458\" style=\"font-feature-settings:normal;font-variant-caps:normal;font-variant-ligatures:normal;font-variant-numeric:normal\">1</tspan></text>\n",
              "   <text x=\"89.090126\" y=\"21.274654\" style=\"line-height:1.25\" xml:space=\"preserve\"><tspan x=\"89.090126\" y=\"21.274654\" fill=\"#000000\" fill-opacity=\".14118\" font-family=\"'Courier New'\" font-size=\"8.2692px\" font-weight=\"bold\" stroke-width=\".26458\" style=\"font-feature-settings:normal;font-variant-caps:normal;font-variant-ligatures:normal;font-variant-numeric:normal\">2</tspan></text>\n",
              "   <text x=\"100.44616\" y=\"21.42028\" style=\"line-height:1.25\" xml:space=\"preserve\"><tspan x=\"100.44616\" y=\"21.42028\" fill=\"#000000\" fill-opacity=\".14118\" font-family=\"'Courier New'\" font-size=\"8.2692px\" font-weight=\"bold\" stroke-width=\".26458\" style=\"font-feature-settings:normal;font-variant-caps:normal;font-variant-ligatures:normal;font-variant-numeric:normal\">3</tspan></text>\n",
              "   <text x=\"65.393097\" y=\"32.887817\" style=\"line-height:1.25\" xml:space=\"preserve\"><tspan x=\"65.393097\" y=\"32.887817\" fill=\"#000000\" fill-opacity=\".14118\" font-family=\"'Courier New'\" font-size=\"8.2692px\" font-weight=\"bold\" stroke-width=\".26458\" style=\"font-feature-settings:normal;font-variant-caps:normal;font-variant-ligatures:normal;font-variant-numeric:normal\">0</tspan></text>\n",
              "   <text x=\"77.411827\" y=\"33.10733\" style=\"line-height:1.25\" xml:space=\"preserve\"><tspan x=\"77.411827\" y=\"33.10733\" fill=\"#000000\" fill-opacity=\".14118\" font-family=\"'Courier New'\" font-size=\"8.2692px\" font-weight=\"bold\" stroke-width=\".26458\" style=\"font-feature-settings:normal;font-variant-caps:normal;font-variant-ligatures:normal;font-variant-numeric:normal\">1</tspan></text>\n",
              "   <text x=\"89.296318\" y=\"32.924637\" style=\"line-height:1.25\" xml:space=\"preserve\"><tspan x=\"89.296318\" y=\"32.924637\" fill=\"#000000\" fill-opacity=\".14118\" font-family=\"'Courier New'\" font-size=\"8.2692px\" font-weight=\"bold\" stroke-width=\".26458\" style=\"font-feature-settings:normal;font-variant-caps:normal;font-variant-ligatures:normal;font-variant-numeric:normal\">2</tspan></text>\n",
              "   <text x=\"100.65234\" y=\"33.070267\" style=\"line-height:1.25\" xml:space=\"preserve\"><tspan x=\"100.65234\" y=\"33.070267\" fill=\"#000000\" fill-opacity=\".14118\" font-family=\"'Courier New'\" font-size=\"8.2692px\" font-weight=\"bold\" stroke-width=\".26458\" style=\"font-feature-settings:normal;font-variant-caps:normal;font-variant-ligatures:normal;font-variant-numeric:normal\">3</tspan></text>\n",
              "   <text x=\"65.186905\" y=\"44.74398\" style=\"line-height:1.25\" xml:space=\"preserve\"><tspan x=\"65.186905\" y=\"44.74398\" fill=\"#000000\" fill-opacity=\".14118\" font-family=\"'Courier New'\" font-size=\"8.2692px\" font-weight=\"bold\" stroke-width=\".26458\" style=\"font-feature-settings:normal;font-variant-caps:normal;font-variant-ligatures:normal;font-variant-numeric:normal\">0</tspan></text>\n",
              "   <text x=\"77.205635\" y=\"44.963493\" style=\"line-height:1.25\" xml:space=\"preserve\"><tspan x=\"77.205635\" y=\"44.963493\" fill=\"#000000\" fill-opacity=\".14118\" font-family=\"'Courier New'\" font-size=\"8.2692px\" font-weight=\"bold\" stroke-width=\".26458\" style=\"font-feature-settings:normal;font-variant-caps:normal;font-variant-ligatures:normal;font-variant-numeric:normal\">1</tspan></text>\n",
              "   <text x=\"89.090126\" y=\"44.780807\" style=\"line-height:1.25\" xml:space=\"preserve\"><tspan x=\"89.090126\" y=\"44.780807\" fill=\"#000000\" fill-opacity=\".14118\" font-family=\"'Courier New'\" font-size=\"8.2692px\" font-weight=\"bold\" stroke-width=\".26458\" style=\"font-feature-settings:normal;font-variant-caps:normal;font-variant-ligatures:normal;font-variant-numeric:normal\">2</tspan></text>\n",
              "   <text x=\"100.44616\" y=\"44.92643\" style=\"line-height:1.25\" xml:space=\"preserve\"><tspan x=\"100.44616\" y=\"44.92643\" fill=\"#000000\" fill-opacity=\".14118\" font-family=\"'Courier New'\" font-size=\"8.2692px\" font-weight=\"bold\" stroke-width=\".26458\" style=\"font-feature-settings:normal;font-variant-caps:normal;font-variant-ligatures:normal;font-variant-numeric:normal\">3</tspan></text>\n",
              "  </g>\n",
              "  <g font-size=\"8.2692px\">\n",
              "   <text x=\"3.6986148\" y=\"9.8007088\" style=\"line-height:1.25\" xml:space=\"preserve\"><tspan x=\"3.6986148\" y=\"9.8007088\" fill=\"#000000\" fill-opacity=\".50242\" font-family=\"'Courier New'\" font-size=\"8.2692px\" font-weight=\"bold\" stroke-width=\".26458\" style=\"font-feature-settings:normal;font-variant-caps:normal;font-variant-ligatures:normal;font-variant-numeric:normal\">1</tspan></text>\n",
              "   <text x=\"15.760981\" y=\"9.9038086\" style=\"line-height:1.25\" xml:space=\"preserve\"><tspan x=\"15.760981\" y=\"9.9038086\" fill=\"#000000\" fill-opacity=\".50242\" font-family=\"'Courier New'\" font-size=\"8.2692px\" font-weight=\"bold\" stroke-width=\".26458\" style=\"font-feature-settings:normal;font-variant-caps:normal;font-variant-ligatures:normal;font-variant-numeric:normal\">1</tspan></text>\n",
              "   <text x=\"27.823349\" y=\"9.9038086\" style=\"line-height:1.25\" xml:space=\"preserve\"><tspan x=\"27.823349\" y=\"9.9038086\" fill=\"#000000\" fill-opacity=\".50242\" font-family=\"'Courier New'\" font-size=\"8.2692px\" font-weight=\"bold\" stroke-width=\".26458\" style=\"font-feature-settings:normal;font-variant-caps:normal;font-variant-ligatures:normal;font-variant-numeric:normal\">1</tspan></text>\n",
              "   <text x=\"39.473328\" y=\"9.8007088\" style=\"line-height:1.25\" xml:space=\"preserve\"><tspan x=\"39.473328\" y=\"9.8007088\" fill=\"#000000\" fill-opacity=\".50242\" font-family=\"'Courier New'\" font-size=\"8.2692px\" font-weight=\"bold\" stroke-width=\".26458\" style=\"font-feature-settings:normal;font-variant-caps:normal;font-variant-ligatures:normal;font-variant-numeric:normal\">1</tspan></text>\n",
              "   <text x=\"3.6826577\" y=\"21.502628\" style=\"line-height:1.25\" xml:space=\"preserve\"><tspan x=\"3.6826577\" y=\"21.502628\" fill=\"#000000\" fill-opacity=\".50242\" font-family=\"'Courier New'\" font-size=\"8.2692px\" font-weight=\"bold\" stroke-width=\".26458\" style=\"font-feature-settings:normal;font-variant-caps:normal;font-variant-ligatures:normal;font-variant-numeric:normal\">1</tspan></text>\n",
              "   <text x=\"15.745025\" y=\"21.605728\" style=\"line-height:1.25\" xml:space=\"preserve\"><tspan x=\"15.745025\" y=\"21.605728\" fill=\"#000000\" fill-opacity=\".50242\" font-family=\"'Courier New'\" font-size=\"8.2692px\" font-weight=\"bold\" stroke-width=\".26458\" style=\"font-feature-settings:normal;font-variant-caps:normal;font-variant-ligatures:normal;font-variant-numeric:normal\">1</tspan></text>\n",
              "   <text x=\"27.807392\" y=\"21.605728\" style=\"line-height:1.25\" xml:space=\"preserve\"><tspan x=\"27.807392\" y=\"21.605728\" fill=\"#000000\" fill-opacity=\".50242\" font-family=\"'Courier New'\" font-size=\"8.2692px\" font-weight=\"bold\" stroke-width=\".26458\" style=\"font-feature-settings:normal;font-variant-caps:normal;font-variant-ligatures:normal;font-variant-numeric:normal\">1</tspan></text>\n",
              "   <text x=\"39.457375\" y=\"21.502628\" style=\"line-height:1.25\" xml:space=\"preserve\"><tspan x=\"39.457375\" y=\"21.502628\" fill=\"#000000\" fill-opacity=\".50242\" font-family=\"'Courier New'\" font-size=\"8.2692px\" font-weight=\"bold\" stroke-width=\".26458\" style=\"font-feature-settings:normal;font-variant-caps:normal;font-variant-ligatures:normal;font-variant-numeric:normal\">1</tspan></text>\n",
              "   <text x=\"4.055141\" y=\"33.366539\" style=\"line-height:1.25\" xml:space=\"preserve\"><tspan x=\"4.055141\" y=\"33.366539\" fill=\"#000000\" fill-opacity=\".50242\" font-family=\"'Courier New'\" font-size=\"8.2692px\" font-weight=\"bold\" stroke-width=\".26458\" style=\"font-feature-settings:normal;font-variant-caps:normal;font-variant-ligatures:normal;font-variant-numeric:normal\">1</tspan></text>\n",
              "   <text x=\"16.117508\" y=\"33.469643\" style=\"line-height:1.25\" xml:space=\"preserve\"><tspan x=\"16.117508\" y=\"33.469643\" fill=\"#000000\" fill-opacity=\".50242\" font-family=\"'Courier New'\" font-size=\"8.2692px\" font-weight=\"bold\" stroke-width=\".26458\" style=\"font-feature-settings:normal;font-variant-caps:normal;font-variant-ligatures:normal;font-variant-numeric:normal\">1</tspan></text>\n",
              "   <text x=\"28.179876\" y=\"33.469643\" style=\"line-height:1.25\" xml:space=\"preserve\"><tspan x=\"28.179876\" y=\"33.469643\" fill=\"#000000\" fill-opacity=\".50242\" font-family=\"'Courier New'\" font-size=\"8.2692px\" font-weight=\"bold\" stroke-width=\".26458\" style=\"font-feature-settings:normal;font-variant-caps:normal;font-variant-ligatures:normal;font-variant-numeric:normal\">1</tspan></text>\n",
              "   <text x=\"39.829853\" y=\"33.366539\" style=\"line-height:1.25\" xml:space=\"preserve\"><tspan x=\"39.829853\" y=\"33.366539\" fill=\"#000000\" fill-opacity=\".50242\" font-family=\"'Courier New'\" font-size=\"8.2692px\" font-weight=\"bold\" stroke-width=\".26458\" style=\"font-feature-settings:normal;font-variant-caps:normal;font-variant-ligatures:normal;font-variant-numeric:normal\">1</tspan></text>\n",
              "   <text x=\"4.0391841\" y=\"45.068459\" style=\"line-height:1.25\" xml:space=\"preserve\"><tspan x=\"4.0391841\" y=\"45.068459\" fill=\"#000000\" fill-opacity=\".50242\" font-family=\"'Courier New'\" font-size=\"8.2692px\" font-weight=\"bold\" stroke-width=\".26458\" style=\"font-feature-settings:normal;font-variant-caps:normal;font-variant-ligatures:normal;font-variant-numeric:normal\">1</tspan></text>\n",
              "   <text x=\"16.101553\" y=\"45.171562\" style=\"line-height:1.25\" xml:space=\"preserve\"><tspan x=\"16.101553\" y=\"45.171562\" fill=\"#000000\" fill-opacity=\".50242\" font-family=\"'Courier New'\" font-size=\"8.2692px\" font-weight=\"bold\" stroke-width=\".26458\" style=\"font-feature-settings:normal;font-variant-caps:normal;font-variant-ligatures:normal;font-variant-numeric:normal\">1</tspan></text>\n",
              "   <text x=\"28.163919\" y=\"45.171562\" style=\"line-height:1.25\" xml:space=\"preserve\"><tspan x=\"28.163919\" y=\"45.171562\" fill=\"#000000\" fill-opacity=\".50242\" font-family=\"'Courier New'\" font-size=\"8.2692px\" font-weight=\"bold\" stroke-width=\".26458\" style=\"font-feature-settings:normal;font-variant-caps:normal;font-variant-ligatures:normal;font-variant-numeric:normal\">1</tspan></text>\n",
              "   <text x=\"39.813904\" y=\"45.068459\" style=\"line-height:1.25\" xml:space=\"preserve\"><tspan x=\"39.813904\" y=\"45.068459\" fill=\"#000000\" fill-opacity=\".50242\" font-family=\"'Courier New'\" font-size=\"8.2692px\" font-weight=\"bold\" stroke-width=\".26458\" style=\"font-feature-settings:normal;font-variant-caps:normal;font-variant-ligatures:normal;font-variant-numeric:normal\">1</tspan></text>\n",
              "  </g>\n",
              " </g>\n",
              " <g fill=\"none\" stroke=\"#000\" stroke-opacity=\".28019\" stroke-width=\".39687\">\n",
              "  <path d=\"m109.29 5.8754c2.8829 3.4243 4.6121 6.9077 0 10.716\" marker-end=\"url(#b)\"/>\n",
              "  <path d=\"m109.08 17.086c2.8829 3.4243 4.6121 6.9078 0 10.716\" marker-end=\"url(#c)\"/>\n",
              "  <path d=\"m108.77 28.324c2.8829 3.4243 4.6121 6.9078 0 10.716\" marker-end=\"url(#a)\"/>\n",
              " </g>\n",
              " <g fill=\"#000000\" font-family=\"Verdana\" letter-spacing=\"0px\" stroke-width=\".26458\" word-spacing=\"0px\">\n",
              "  <g font-size=\"8.2692px\">\n",
              "   <text x=\"125.72318\" y=\"9.1530724\" style=\"line-height:1.25\" xml:space=\"preserve\"><tspan x=\"125.72318\" y=\"9.1530724\" fill=\"#000000\" fill-opacity=\".50242\" font-family=\"'Courier New'\" font-size=\"8.2692px\" font-weight=\"bold\" stroke-width=\".26458\" style=\"font-feature-settings:normal;font-variant-caps:normal;font-variant-ligatures:normal;font-variant-numeric:normal\">1</tspan></text>\n",
              "   <text x=\"137.60768\" y=\"8.9703789\" style=\"line-height:1.25\" xml:space=\"preserve\"><tspan x=\"137.60768\" y=\"8.9703789\" fill=\"#000000\" fill-opacity=\".50242\" font-family=\"'Courier New'\" font-size=\"8.2692px\" font-weight=\"bold\" stroke-width=\".26458\" style=\"font-feature-settings:normal;font-variant-caps:normal;font-variant-ligatures:normal;font-variant-numeric:normal\">2</tspan></text>\n",
              "   <text x=\"148.96368\" y=\"9.1160088\" style=\"line-height:1.25\" xml:space=\"preserve\"><tspan x=\"148.96368\" y=\"9.1160088\" fill=\"#000000\" fill-opacity=\".50242\" font-family=\"'Courier New'\" font-size=\"8.2692px\" font-weight=\"bold\" stroke-width=\".26458\" style=\"font-feature-settings:normal;font-variant-caps:normal;font-variant-ligatures:normal;font-variant-numeric:normal\">3</tspan></text>\n",
              "   <text x=\"160.89665\" y=\"9.2306099\" style=\"line-height:1.25\" xml:space=\"preserve\"><tspan x=\"160.89665\" y=\"9.2306099\" fill=\"#000000\" fill-opacity=\".50242\" font-family=\"'Courier New'\" font-size=\"8.2692px\" font-weight=\"bold\" stroke-width=\".26458\" style=\"font-feature-settings:normal;font-variant-caps:normal;font-variant-ligatures:normal;font-variant-numeric:normal\">4</tspan></text>\n",
              "   <text x=\"125.57738\" y=\"21.035885\" style=\"line-height:1.25\" xml:space=\"preserve\"><tspan x=\"125.57738\" y=\"21.035885\" fill=\"#000000\" fill-opacity=\".50242\" font-family=\"'Courier New'\" font-size=\"8.2692px\" font-weight=\"bold\" stroke-width=\".26458\" style=\"font-feature-settings:normal;font-variant-caps:normal;font-variant-ligatures:normal;font-variant-numeric:normal\">1</tspan></text>\n",
              "   <text x=\"137.46187\" y=\"20.853191\" style=\"line-height:1.25\" xml:space=\"preserve\"><tspan x=\"137.46187\" y=\"20.853191\" fill=\"#000000\" fill-opacity=\".50242\" font-family=\"'Courier New'\" font-size=\"8.2692px\" font-weight=\"bold\" stroke-width=\".26458\" style=\"font-feature-settings:normal;font-variant-caps:normal;font-variant-ligatures:normal;font-variant-numeric:normal\">2</tspan></text>\n",
              "   <text x=\"148.81789\" y=\"20.998821\" style=\"line-height:1.25\" xml:space=\"preserve\"><tspan x=\"148.81789\" y=\"20.998821\" fill=\"#000000\" fill-opacity=\".50242\" font-family=\"'Courier New'\" font-size=\"8.2692px\" font-weight=\"bold\" stroke-width=\".26458\" style=\"font-feature-settings:normal;font-variant-caps:normal;font-variant-ligatures:normal;font-variant-numeric:normal\">3</tspan></text>\n",
              "   <text x=\"160.75085\" y=\"21.113422\" style=\"line-height:1.25\" xml:space=\"preserve\"><tspan x=\"160.75085\" y=\"21.113422\" fill=\"#000000\" fill-opacity=\".50242\" font-family=\"'Courier New'\" font-size=\"8.2692px\" font-weight=\"bold\" stroke-width=\".26458\" style=\"font-feature-settings:normal;font-variant-caps:normal;font-variant-ligatures:normal;font-variant-numeric:normal\">4</tspan></text>\n",
              "   <text x=\"125.50448\" y=\"32.772903\" style=\"line-height:1.25\" xml:space=\"preserve\"><tspan x=\"125.50448\" y=\"32.772903\" fill=\"#000000\" fill-opacity=\".50242\" font-family=\"'Courier New'\" font-size=\"8.2692px\" font-weight=\"bold\" stroke-width=\".26458\" style=\"font-feature-settings:normal;font-variant-caps:normal;font-variant-ligatures:normal;font-variant-numeric:normal\">1</tspan></text>\n",
              "   <text x=\"137.38896\" y=\"32.59021\" style=\"line-height:1.25\" xml:space=\"preserve\"><tspan x=\"137.38896\" y=\"32.59021\" fill=\"#000000\" fill-opacity=\".50242\" font-family=\"'Courier New'\" font-size=\"8.2692px\" font-weight=\"bold\" stroke-width=\".26458\" style=\"font-feature-settings:normal;font-variant-caps:normal;font-variant-ligatures:normal;font-variant-numeric:normal\">2</tspan></text>\n",
              "   <text x=\"148.74498\" y=\"32.73584\" style=\"line-height:1.25\" xml:space=\"preserve\"><tspan x=\"148.74498\" y=\"32.73584\" fill=\"#000000\" fill-opacity=\".50242\" font-family=\"'Courier New'\" font-size=\"8.2692px\" font-weight=\"bold\" stroke-width=\".26458\" style=\"font-feature-settings:normal;font-variant-caps:normal;font-variant-ligatures:normal;font-variant-numeric:normal\">3</tspan></text>\n",
              "   <text x=\"160.67795\" y=\"32.850441\" style=\"line-height:1.25\" xml:space=\"preserve\"><tspan x=\"160.67795\" y=\"32.850441\" fill=\"#000000\" fill-opacity=\".50242\" font-family=\"'Courier New'\" font-size=\"8.2692px\" font-weight=\"bold\" stroke-width=\".26458\" style=\"font-feature-settings:normal;font-variant-caps:normal;font-variant-ligatures:normal;font-variant-numeric:normal\">4</tspan></text>\n",
              "   <text x=\"125.65028\" y=\"44.145409\" style=\"line-height:1.25\" xml:space=\"preserve\"><tspan x=\"125.65028\" y=\"44.145409\" fill=\"#000000\" fill-opacity=\".50242\" font-family=\"'Courier New'\" font-size=\"8.2692px\" font-weight=\"bold\" stroke-width=\".26458\" style=\"font-feature-settings:normal;font-variant-caps:normal;font-variant-ligatures:normal;font-variant-numeric:normal\">1</tspan></text>\n",
              "   <text x=\"137.53477\" y=\"43.962715\" style=\"line-height:1.25\" xml:space=\"preserve\"><tspan x=\"137.53477\" y=\"43.962715\" fill=\"#000000\" fill-opacity=\".50242\" font-family=\"'Courier New'\" font-size=\"8.2692px\" font-weight=\"bold\" stroke-width=\".26458\" style=\"font-feature-settings:normal;font-variant-caps:normal;font-variant-ligatures:normal;font-variant-numeric:normal\">2</tspan></text>\n",
              "   <text x=\"148.89079\" y=\"44.108345\" style=\"line-height:1.25\" xml:space=\"preserve\"><tspan x=\"148.89079\" y=\"44.108345\" fill=\"#000000\" fill-opacity=\".50242\" font-family=\"'Courier New'\" font-size=\"8.2692px\" font-weight=\"bold\" stroke-width=\".26458\" style=\"font-feature-settings:normal;font-variant-caps:normal;font-variant-ligatures:normal;font-variant-numeric:normal\">3</tspan></text>\n",
              "   <text x=\"160.82376\" y=\"44.222946\" style=\"line-height:1.25\" xml:space=\"preserve\"><tspan x=\"160.82376\" y=\"44.222946\" fill=\"#000000\" fill-opacity=\".50242\" font-family=\"'Courier New'\" font-size=\"8.2692px\" font-weight=\"bold\" stroke-width=\".26458\" style=\"font-feature-settings:normal;font-variant-caps:normal;font-variant-ligatures:normal;font-variant-numeric:normal\">4</tspan></text>\n",
              "  </g>\n",
              "  <text x=\"-0.10309716\" y=\"-40.096798\" font-size=\"10.583px\" style=\"line-height:1.25\" xml:space=\"preserve\"><tspan x=\"-0.10309716\" y=\"-30.441303\" stroke-width=\".26458\"/></text>\n",
              " </g>\n",
              "</svg>\n"
            ],
            "text/plain": [
              "<IPython.core.display.HTML object>"
            ]
          },
          "metadata": {
            "tags": []
          }
        }
      ]
    },
    {
      "cell_type": "code",
      "metadata": {
        "id": "gT6UlF21uHDI",
        "colab_type": "code",
        "cellView": "form",
        "outputId": "45a60ba9-208c-4aa8-af32-3427e18f9a7c",
        "colab": {
          "base_uri": "https://localhost:8080/",
          "height": 217
        }
      },
      "source": [
        "#@title ##3\n",
        "\n",
        "%%html\n",
        "\n",
        "<svg width=\"168.48mm\" height=\"51.921mm\" version=\"1.1\" viewBox=\"0 0 168.48 51.921\" xmlns=\"http://www.w3.org/2000/svg\" xmlns:ns0=\"http://www.iki.fi/pav/software/textext/\">\n",
        " <defs>\n",
        "  <marker id=\"a\" overflow=\"visible\" orient=\"auto\">\n",
        "   <path transform=\"matrix(-.4 0 0 -.4 -4 0)\" d=\"m0 0 5-5-17.5 5 17.5 5z\" fill-opacity=\".28019\" fill-rule=\"evenodd\" stroke=\"#000\" stroke-opacity=\".28019\" stroke-width=\"1pt\"/>\n",
        "  </marker>\n",
        "  <marker id=\"b\" overflow=\"visible\" orient=\"auto\">\n",
        "   <path transform=\"matrix(-.4 0 0 -.4 -4 0)\" d=\"m0 0 5-5-17.5 5 17.5 5z\" fill-opacity=\".28019\" fill-rule=\"evenodd\" stroke=\"#000\" stroke-opacity=\".28019\" stroke-width=\"1pt\"/>\n",
        "  </marker>\n",
        "  <marker id=\"c\" overflow=\"visible\" orient=\"auto\">\n",
        "   <path transform=\"matrix(-.4 0 0 -.4 -4 0)\" d=\"m0 0 5-5-17.5 5 17.5 5z\" fill-opacity=\".28019\" fill-rule=\"evenodd\" stroke=\"#000\" stroke-opacity=\".28019\" stroke-width=\"1pt\"/>\n",
        "  </marker>\n",
        "  <marker id=\"d\" overflow=\"visible\" orient=\"auto\">\n",
        "   <path transform=\"matrix(-.4 0 0 -.4 -4 0)\" d=\"m0 0 5-5-17.5 5 17.5 5z\" fill-opacity=\".28019\" fill-rule=\"evenodd\" stroke=\"#000\" stroke-opacity=\".28019\" stroke-width=\"1pt\"/>\n",
        "  </marker>\n",
        "  <marker id=\"e\" overflow=\"visible\" orient=\"auto\">\n",
        "   <path transform=\"matrix(-.4 0 0 -.4 -4 0)\" d=\"m0 0 5-5-17.5 5 17.5 5z\" fill-opacity=\".28019\" fill-rule=\"evenodd\" stroke=\"#000\" stroke-opacity=\".28019\" stroke-width=\"1pt\"/>\n",
        "  </marker>\n",
        "  <marker id=\"f\" overflow=\"visible\" orient=\"auto\">\n",
        "   <path transform=\"matrix(-.4 0 0 -.4 -4 0)\" d=\"m0 0 5-5-17.5 5 17.5 5z\" fill-opacity=\".28019\" fill-rule=\"evenodd\" stroke=\"#000\" stroke-opacity=\".28019\" stroke-width=\"1pt\"/>\n",
        "  </marker>\n",
        " </defs>\n",
        " <g transform=\"translate(143.58 -144.39)\">\n",
        "  <text x=\"35.246281\" y=\"42.149555\" fill=\"#000000\" font-family=\"Verdana\" font-size=\"10.583px\" letter-spacing=\"0px\" stroke-width=\".26458\" word-spacing=\"0px\" style=\"line-height:1.25\" xml:space=\"preserve\"><tspan x=\"35.246281\" y=\"51.80505\" stroke-width=\".26458\"/></text>\n",
        "  <text x=\"76.906807\" y=\"21.511925\" fill=\"#000000\" font-family=\"Verdana\" font-size=\"10.583px\" letter-spacing=\"0px\" stroke-width=\".26458\" word-spacing=\"0px\" style=\"line-height:1.25\" xml:space=\"preserve\"><tspan x=\"76.906807\" y=\"31.167419\" stroke-width=\".26458\"/></text>\n",
        "  <g transform=\"matrix(1.2512,0,0,-1.2512,-160.51,876.57)\" fill-rule=\"evenodd\" stroke=\"#000\" stroke-miterlimit=\"10.433\" stroke-width=\"1.1988\" ns0:preamble=\"default_packages.tex\" ns0:text=\"$p q$\\n\" xml:space=\"preserve\"><g transform=\"matrix(1.5,0,0,-1.5,-165.9,1212.8)\" fill-rule=\"evenodd\" stroke=\"#000\" stroke-miterlimit=\"10.433\" ns0:preamble=\"default_packages.tex\" ns0:text=\"$\\\\text{delete readjust}$\\n\" xml:space=\"preserve\"><g transform=\"matrix(1.5,0,0,-1.5,-165.59,1212.8)\" fill-rule=\"evenodd\" stroke-miterlimit=\"10.433\" ns0:preamble=\"default_packages.tex\" ns0:text=\"$delete readjust$\\n\" xml:space=\"preserve\"><flowRoot fill=\"#000000\" font-family=\"Verdana\" font-size=\"40px\" letter-spacing=\"0px\" stroke=\"none\" word-spacing=\"0px\" style=\"line-height:1.25\" xml:space=\"preserve\"><flowRegion><rect x=\"78.929\" y=\"457.16\" width=\"60\" height=\"76.429\"/></flowRegion><flowPara/></flowRoot><g transform=\"matrix(.20006 0 0 .20006 165.85 418.79)\" fill-rule=\"evenodd\" stroke=\"#000\" stroke-miterlimit=\"10.433\" stroke-width=\"8.9882\" ns0:preamble=\"default_packages.tex\" ns0:text=\"$f bias variance All functions Learnable functions$\\n\" xml:space=\"preserve\"><g transform=\"matrix(1.5,0,0,1.5,17.997,-402.96)\" fill-rule=\"evenodd\" stroke=\"#000\" stroke-miterlimit=\"10.433\" ns0:preamble=\"default_packages.tex\" ns0:text=\"feature $x y$\\n\" xml:space=\"preserve\"><g transform=\"matrix(1.0127,0,0,1.0127,-139.78,42.633)\" fill-rule=\"evenodd\" stroke=\"#000\" stroke-miterlimit=\"10.433\" stroke-width=\"13.314\" ns0:preamble=\"default_packages.tex\" ns0:text=\"$a s_1(a) s_2(a) s$\\n\" xml:space=\"preserve\"><g transform=\"matrix(1.1688,0,0,-1.1688,1.4337,749.97)\"><g transform=\"matrix(1.5,0,0,-1.5,-351.92,1227.8)\" fill-rule=\"evenodd\" stroke=\"#000\" stroke-miterlimit=\"10.433\" ns0:preamble=\"default_packages.tex\" ns0:text=\"$$\\\\text{Example: Knowledge bases}$$\\n\" xml:space=\"preserve\"><g transform=\"matrix(1.5,0,0,-1.5,-352.93,1195)\" fill-rule=\"evenodd\" stroke=\"#000\" stroke-miterlimit=\"10.433\" ns0:preamble=\"default_packages.tex\" ns0:text=\"$$\\\\text{AI (e.g. Knowledge bases)}$$\\n\" xml:space=\"preserve\"><g transform=\"matrix(.43863 0 0 -.43863 259.71 522.41)\" fill-rule=\"evenodd\" stroke=\"#000\" stroke-miterlimit=\"10.433\" stroke-width=\"13.314\" ns0:preamble=\"default_packages.tex\" ns0:text=\"$$\\\\text{trial 1}$$\\n$$\\\\text{trial 2}$$\\n$$\\\\text{trial 3}$$\\n$$\\\\text{trial 4}$$\\n$$\\\\text{trial 5}$$\\n\" xml:space=\"preserve\"/></g></g></g></g></g></g></g></g></g>\n",
        " </g>\n",
        " <rect x=\".3265\" y=\"4.24\" width=\"11.753\" height=\"11.753\" fill=\"#0040af\" fill-opacity=\".12549\" stroke=\"#0059d0\" stroke-linecap=\"square\" stroke-miterlimit=\"3\" stroke-opacity=\".20773\" stroke-width=\".653\"/>\n",
        " <g fill=\"none\" stroke=\"#0059d0\" stroke-linecap=\"square\" stroke-miterlimit=\"3\" stroke-opacity=\".20773\" stroke-width=\".653\">\n",
        "  <rect x=\"12.08\" y=\"4.24\" width=\"11.753\" height=\"11.753\"/>\n",
        "  <rect x=\"23.833\" y=\"4.24\" width=\"11.753\" height=\"11.753\"/>\n",
        "  <rect x=\"35.586\" y=\"4.24\" width=\"11.753\" height=\"11.753\"/>\n",
        " </g>\n",
        " <rect x=\".3265\" y=\"15.993\" width=\"11.753\" height=\"11.753\" fill=\"#0040af\" fill-opacity=\".12549\" stroke=\"#0059d0\" stroke-linecap=\"square\" stroke-miterlimit=\"3\" stroke-opacity=\".20773\" stroke-width=\".653\"/>\n",
        " <g fill=\"none\" stroke=\"#0059d0\" stroke-linecap=\"square\" stroke-miterlimit=\"3\" stroke-opacity=\".20773\" stroke-width=\".653\">\n",
        "  <rect x=\"12.08\" y=\"15.993\" width=\"11.753\" height=\"11.753\"/>\n",
        "  <rect x=\"23.833\" y=\"15.993\" width=\"11.753\" height=\"11.753\"/>\n",
        "  <rect x=\"35.586\" y=\"15.993\" width=\"11.753\" height=\"11.753\"/>\n",
        " </g>\n",
        " <rect x=\".3265\" y=\"27.746\" width=\"11.753\" height=\"11.753\" fill=\"#0040af\" fill-opacity=\".12549\" stroke=\"#0059d0\" stroke-linecap=\"square\" stroke-miterlimit=\"3\" stroke-opacity=\".20773\" stroke-width=\".653\"/>\n",
        " <g fill=\"none\" stroke=\"#0059d0\" stroke-linecap=\"square\" stroke-miterlimit=\"3\" stroke-opacity=\".20773\" stroke-width=\".653\">\n",
        "  <rect x=\"12.08\" y=\"27.746\" width=\"11.753\" height=\"11.753\"/>\n",
        "  <rect x=\"23.833\" y=\"27.746\" width=\"11.753\" height=\"11.753\"/>\n",
        "  <rect x=\"35.586\" y=\"27.746\" width=\"11.753\" height=\"11.753\"/>\n",
        " </g>\n",
        " <rect x=\".3265\" y=\"39.499\" width=\"11.753\" height=\"11.753\" fill=\"#0040af\" fill-opacity=\".12549\" stroke=\"#0059d0\" stroke-linecap=\"square\" stroke-miterlimit=\"3\" stroke-opacity=\".20773\" stroke-width=\".653\"/>\n",
        " <g fill=\"none\" stroke=\"#0059d0\" stroke-linecap=\"square\" stroke-miterlimit=\"3\" stroke-opacity=\".20773\" stroke-width=\".653\">\n",
        "  <rect x=\"12.08\" y=\"39.499\" width=\"11.753\" height=\"11.753\"/>\n",
        "  <rect x=\"23.833\" y=\"39.499\" width=\"11.753\" height=\"11.753\"/>\n",
        "  <rect x=\"35.586\" y=\"39.499\" width=\"11.753\" height=\"11.753\"/>\n",
        " </g>\n",
        " <g fill=\"#0040af\" fill-opacity=\".12549\" stroke=\"#0059d0\" stroke-linecap=\"square\" stroke-miterlimit=\"3\" stroke-opacity=\".20773\" stroke-width=\".653\">\n",
        "  <rect x=\"61.257\" y=\"3.9307\" width=\"11.753\" height=\"11.753\"/>\n",
        "  <rect x=\"73.01\" y=\"3.9307\" width=\"11.753\" height=\"11.753\"/>\n",
        "  <rect x=\"84.763\" y=\"3.9307\" width=\"11.753\" height=\"11.753\"/>\n",
        "  <rect x=\"96.516\" y=\"3.9307\" width=\"11.753\" height=\"11.753\"/>\n",
        " </g>\n",
        " <g fill=\"none\" stroke=\"#0059d0\" stroke-linecap=\"square\" stroke-miterlimit=\"3\" stroke-opacity=\".20773\" stroke-width=\".653\">\n",
        "  <rect x=\"61.257\" y=\"15.684\" width=\"11.753\" height=\"11.753\"/>\n",
        "  <rect x=\"73.01\" y=\"15.684\" width=\"11.753\" height=\"11.753\"/>\n",
        "  <rect x=\"84.763\" y=\"15.684\" width=\"11.753\" height=\"11.753\"/>\n",
        "  <rect x=\"96.516\" y=\"15.684\" width=\"11.753\" height=\"11.753\"/>\n",
        "  <rect x=\"61.257\" y=\"27.437\" width=\"11.753\" height=\"11.753\"/>\n",
        "  <rect x=\"73.01\" y=\"27.437\" width=\"11.753\" height=\"11.753\"/>\n",
        "  <rect x=\"84.763\" y=\"27.437\" width=\"11.753\" height=\"11.753\"/>\n",
        "  <rect x=\"96.516\" y=\"27.437\" width=\"11.753\" height=\"11.753\"/>\n",
        "  <rect x=\"61.257\" y=\"39.19\" width=\"11.753\" height=\"11.753\"/>\n",
        "  <rect x=\"73.01\" y=\"39.19\" width=\"11.753\" height=\"11.753\"/>\n",
        "  <rect x=\"84.763\" y=\"39.19\" width=\"11.753\" height=\"11.753\"/>\n",
        "  <rect x=\"96.516\" y=\"39.19\" width=\"11.753\" height=\"11.753\"/>\n",
        " </g>\n",
        " <g fill=\"#0040af\" fill-opacity=\".12549\" stroke=\"#0059d0\" stroke-linecap=\"square\" stroke-miterlimit=\"3\" stroke-opacity=\".20773\" stroke-width=\".653\">\n",
        "  <rect x=\"121.14\" y=\"4.5826\" width=\"11.753\" height=\"11.753\"/>\n",
        "  <rect x=\"132.89\" y=\"4.5826\" width=\"11.753\" height=\"11.753\"/>\n",
        "  <rect x=\"144.64\" y=\"4.5826\" width=\"11.753\" height=\"11.753\"/>\n",
        "  <rect x=\"156.4\" y=\"4.5826\" width=\"11.753\" height=\"11.753\"/>\n",
        "  <rect x=\"121.14\" y=\"16.336\" width=\"11.753\" height=\"11.753\"/>\n",
        "  <rect x=\"132.89\" y=\"16.336\" width=\"11.753\" height=\"11.753\"/>\n",
        "  <rect x=\"144.64\" y=\"16.336\" width=\"11.753\" height=\"11.753\"/>\n",
        "  <rect x=\"156.4\" y=\"16.336\" width=\"11.753\" height=\"11.753\"/>\n",
        "  <rect x=\"121.14\" y=\"28.089\" width=\"11.753\" height=\"11.753\"/>\n",
        "  <rect x=\"132.89\" y=\"28.089\" width=\"11.753\" height=\"11.753\"/>\n",
        "  <rect x=\"144.64\" y=\"28.089\" width=\"11.753\" height=\"11.753\"/>\n",
        "  <rect x=\"156.4\" y=\"28.089\" width=\"11.753\" height=\"11.753\"/>\n",
        "  <rect x=\"121.14\" y=\"39.842\" width=\"11.753\" height=\"11.753\"/>\n",
        "  <rect x=\"132.89\" y=\"39.842\" width=\"11.753\" height=\"11.753\"/>\n",
        "  <rect x=\"144.64\" y=\"39.842\" width=\"11.753\" height=\"11.753\"/>\n",
        "  <rect x=\"156.4\" y=\"39.842\" width=\"11.753\" height=\"11.753\"/>\n",
        " </g>\n",
        " <g fill=\"#000000\" font-family=\"Verdana\" letter-spacing=\"0px\" stroke-width=\".26458\" word-spacing=\"0px\">\n",
        "  <g>\n",
        "   <text x=\"51.019161\" y=\"31.1633\" font-size=\"10.583px\" style=\"line-height:1.25\" xml:space=\"preserve\"><tspan x=\"51.019161\" y=\"31.1633\" fill=\"#000000\" fill-opacity=\".61836\" font-family=\"'Courier New'\" font-size=\"10.583px\" font-weight=\"bold\" stroke-width=\".26458\" style=\"font-feature-settings:normal;font-variant-caps:normal;font-variant-ligatures:normal;font-variant-numeric:normal\">+</tspan></text>\n",
        "   <text x=\"112.95189\" y=\"30.964798\" font-size=\"10.583px\" style=\"line-height:1.25\" xml:space=\"preserve\"><tspan x=\"112.95189\" y=\"30.964798\" fill=\"#000000\" fill-opacity=\".61836\" font-family=\"'Courier New'\" font-size=\"10.583px\" font-weight=\"bold\" stroke-width=\".26458\" style=\"font-feature-settings:normal;font-variant-caps:normal;font-variant-ligatures:normal;font-variant-numeric:normal\">=</tspan></text>\n",
        "   <g font-size=\"8.2692px\">\n",
        "    <text x=\"4.3517365\" y=\"12.722169\" style=\"line-height:1.25\" xml:space=\"preserve\"><tspan x=\"4.3517365\" y=\"12.722169\" fill=\"#000000\" fill-opacity=\".50242\" font-family=\"'Courier New'\" font-size=\"8.2692px\" font-weight=\"bold\" stroke-width=\".26458\" style=\"font-feature-settings:normal;font-variant-caps:normal;font-variant-ligatures:normal;font-variant-numeric:normal\">0</tspan></text>\n",
        "    <text x=\"4.3985848\" y=\"24.339203\" style=\"line-height:1.25\" xml:space=\"preserve\"><tspan x=\"4.3985848\" y=\"24.339203\" fill=\"#000000\" fill-opacity=\".50242\" font-family=\"'Courier New'\" font-size=\"8.2692px\" font-weight=\"bold\" stroke-width=\".26458\" style=\"font-feature-settings:normal;font-variant-caps:normal;font-variant-ligatures:normal;font-variant-numeric:normal\">1</tspan></text>\n",
        "    <text x=\"3.9826889\" y=\"36.000282\" style=\"line-height:1.25\" xml:space=\"preserve\"><tspan x=\"3.9826889\" y=\"36.000282\" fill=\"#000000\" fill-opacity=\".50242\" font-family=\"'Courier New'\" font-size=\"8.2692px\" font-weight=\"bold\" stroke-width=\".26458\" style=\"font-feature-settings:normal;font-variant-caps:normal;font-variant-ligatures:normal;font-variant-numeric:normal\">2</tspan></text>\n",
        "    <text x=\"3.7261534\" y=\"48.119316\" style=\"line-height:1.25\" xml:space=\"preserve\"><tspan x=\"3.7261534\" y=\"48.119316\" fill=\"#000000\" fill-opacity=\".50242\" font-family=\"'Courier New'\" font-size=\"8.2692px\" font-weight=\"bold\" stroke-width=\".26458\" style=\"font-feature-settings:normal;font-variant-caps:normal;font-variant-ligatures:normal;font-variant-numeric:normal\">3</tspan></text>\n",
        "   </g>\n",
        "  </g>\n",
        "  <g fill-opacity=\".1401\" font-size=\"8.2692px\">\n",
        "   <text x=\"15.89182\" y=\"13.08635\" style=\"line-height:1.25\" xml:space=\"preserve\"><tspan x=\"15.89182\" y=\"13.08635\" fill=\"#000000\" fill-opacity=\".1401\" font-family=\"'Courier New'\" font-size=\"8.2692px\" font-weight=\"bold\" stroke-width=\".26458\" style=\"font-feature-settings:normal;font-variant-caps:normal;font-variant-ligatures:normal;font-variant-numeric:normal\">0</tspan></text>\n",
        "   <text x=\"15.938668\" y=\"24.703377\" style=\"line-height:1.25\" xml:space=\"preserve\"><tspan x=\"15.938668\" y=\"24.703377\" fill=\"#000000\" fill-opacity=\".1401\" font-family=\"'Courier New'\" font-size=\"8.2692px\" font-weight=\"bold\" stroke-width=\".26458\" style=\"font-feature-settings:normal;font-variant-caps:normal;font-variant-ligatures:normal;font-variant-numeric:normal\">1</tspan></text>\n",
        "   <text x=\"15.522773\" y=\"36.364464\" style=\"line-height:1.25\" xml:space=\"preserve\"><tspan x=\"15.522773\" y=\"36.364464\" fill=\"#000000\" fill-opacity=\".1401\" font-family=\"'Courier New'\" font-size=\"8.2692px\" font-weight=\"bold\" stroke-width=\".26458\" style=\"font-feature-settings:normal;font-variant-caps:normal;font-variant-ligatures:normal;font-variant-numeric:normal\">2</tspan></text>\n",
        "   <text x=\"15.266235\" y=\"48.483498\" style=\"line-height:1.25\" xml:space=\"preserve\"><tspan x=\"15.266235\" y=\"48.483498\" fill=\"#000000\" fill-opacity=\".1401\" font-family=\"'Courier New'\" font-size=\"8.2692px\" font-weight=\"bold\" stroke-width=\".26458\" style=\"font-feature-settings:normal;font-variant-caps:normal;font-variant-ligatures:normal;font-variant-numeric:normal\">3</tspan></text>\n",
        "   <text x=\"27.696444\" y=\"12.931687\" style=\"line-height:1.25\" xml:space=\"preserve\"><tspan x=\"27.696444\" y=\"12.931687\" fill=\"#000000\" fill-opacity=\".1401\" font-family=\"'Courier New'\" font-size=\"8.2692px\" font-weight=\"bold\" stroke-width=\".26458\" style=\"font-feature-settings:normal;font-variant-caps:normal;font-variant-ligatures:normal;font-variant-numeric:normal\">0</tspan></text>\n",
        "   <text x=\"27.743292\" y=\"24.548729\" style=\"line-height:1.25\" xml:space=\"preserve\"><tspan x=\"27.743292\" y=\"24.548729\" fill=\"#000000\" fill-opacity=\".1401\" font-family=\"'Courier New'\" font-size=\"8.2692px\" font-weight=\"bold\" stroke-width=\".26458\" style=\"font-feature-settings:normal;font-variant-caps:normal;font-variant-ligatures:normal;font-variant-numeric:normal\">1</tspan></text>\n",
        "   <text x=\"27.327396\" y=\"36.209816\" style=\"line-height:1.25\" xml:space=\"preserve\"><tspan x=\"27.327396\" y=\"36.209816\" fill=\"#000000\" fill-opacity=\".1401\" font-family=\"'Courier New'\" font-size=\"8.2692px\" font-weight=\"bold\" stroke-width=\".26458\" style=\"font-feature-settings:normal;font-variant-caps:normal;font-variant-ligatures:normal;font-variant-numeric:normal\">2</tspan></text>\n",
        "   <text x=\"27.07086\" y=\"48.32885\" style=\"line-height:1.25\" xml:space=\"preserve\"><tspan x=\"27.07086\" y=\"48.32885\" fill=\"#000000\" fill-opacity=\".1401\" font-family=\"'Courier New'\" font-size=\"8.2692px\" font-weight=\"bold\" stroke-width=\".26458\" style=\"font-feature-settings:normal;font-variant-caps:normal;font-variant-ligatures:normal;font-variant-numeric:normal\">3</tspan></text>\n",
        "   <text x=\"39.501068\" y=\"12.880151\" style=\"line-height:1.25\" xml:space=\"preserve\"><tspan x=\"39.501068\" y=\"12.880151\" fill=\"#000000\" fill-opacity=\".1401\" font-family=\"'Courier New'\" font-size=\"8.2692px\" font-weight=\"bold\" stroke-width=\".26458\" style=\"font-feature-settings:normal;font-variant-caps:normal;font-variant-ligatures:normal;font-variant-numeric:normal\">0</tspan></text>\n",
        "   <text x=\"39.547916\" y=\"24.4972\" style=\"line-height:1.25\" xml:space=\"preserve\"><tspan x=\"39.547916\" y=\"24.4972\" fill=\"#000000\" fill-opacity=\".1401\" font-family=\"'Courier New'\" font-size=\"8.2692px\" font-weight=\"bold\" stroke-width=\".26458\" style=\"font-feature-settings:normal;font-variant-caps:normal;font-variant-ligatures:normal;font-variant-numeric:normal\">1</tspan></text>\n",
        "   <text x=\"39.132023\" y=\"36.158272\" style=\"line-height:1.25\" xml:space=\"preserve\"><tspan x=\"39.132023\" y=\"36.158272\" fill=\"#000000\" fill-opacity=\".1401\" font-family=\"'Courier New'\" font-size=\"8.2692px\" font-weight=\"bold\" stroke-width=\".26458\" style=\"font-feature-settings:normal;font-variant-caps:normal;font-variant-ligatures:normal;font-variant-numeric:normal\">2</tspan></text>\n",
        "   <text x=\"38.875484\" y=\"48.277306\" style=\"line-height:1.25\" xml:space=\"preserve\"><tspan x=\"38.875484\" y=\"48.277306\" fill=\"#000000\" fill-opacity=\".1401\" font-family=\"'Courier New'\" font-size=\"8.2692px\" font-weight=\"bold\" stroke-width=\".26458\" style=\"font-feature-settings:normal;font-variant-caps:normal;font-variant-ligatures:normal;font-variant-numeric:normal\">3</tspan></text>\n",
        "  </g>\n",
        "  <g font-size=\"8.2692px\">\n",
        "   <text x=\"64.408394\" y=\"12.687478\" style=\"line-height:1.25\" xml:space=\"preserve\"><tspan x=\"64.408394\" y=\"12.687478\" fill=\"#000000\" fill-opacity=\".50242\" font-family=\"'Courier New'\" font-size=\"8.2692px\" font-weight=\"bold\" stroke-width=\".26458\" style=\"font-feature-settings:normal;font-variant-caps:normal;font-variant-ligatures:normal;font-variant-numeric:normal\">0</tspan></text>\n",
        "   <text x=\"76.427124\" y=\"12.906991\" style=\"line-height:1.25\" xml:space=\"preserve\"><tspan x=\"76.427124\" y=\"12.906991\" fill=\"#000000\" fill-opacity=\".50242\" font-family=\"'Courier New'\" font-size=\"8.2692px\" font-weight=\"bold\" stroke-width=\".26458\" style=\"font-feature-settings:normal;font-variant-caps:normal;font-variant-ligatures:normal;font-variant-numeric:normal\">1</tspan></text>\n",
        "   <text x=\"88.311615\" y=\"12.724298\" style=\"line-height:1.25\" xml:space=\"preserve\"><tspan x=\"88.311615\" y=\"12.724298\" fill=\"#000000\" fill-opacity=\".50242\" font-family=\"'Courier New'\" font-size=\"8.2692px\" font-weight=\"bold\" stroke-width=\".26458\" style=\"font-feature-settings:normal;font-variant-caps:normal;font-variant-ligatures:normal;font-variant-numeric:normal\">2</tspan></text>\n",
        "   <text x=\"99.667641\" y=\"12.869927\" style=\"line-height:1.25\" xml:space=\"preserve\"><tspan x=\"99.667641\" y=\"12.869927\" fill=\"#000000\" fill-opacity=\".50242\" font-family=\"'Courier New'\" font-size=\"8.2692px\" font-weight=\"bold\" stroke-width=\".26458\" style=\"font-feature-settings:normal;font-variant-caps:normal;font-variant-ligatures:normal;font-variant-numeric:normal\">3</tspan></text>\n",
        "  </g>\n",
        "  <g fill-opacity=\".14118\" font-size=\"8.2692px\">\n",
        "   <text x=\"64.766464\" y=\"24.901718\" style=\"line-height:1.25\" xml:space=\"preserve\"><tspan x=\"64.766464\" y=\"24.901718\" fill=\"#000000\" fill-opacity=\".14118\" font-family=\"'Courier New'\" font-size=\"8.2692px\" font-weight=\"bold\" stroke-width=\".26458\" style=\"font-feature-settings:normal;font-variant-caps:normal;font-variant-ligatures:normal;font-variant-numeric:normal\">0</tspan></text>\n",
        "   <text x=\"76.785194\" y=\"25.121223\" style=\"line-height:1.25\" xml:space=\"preserve\"><tspan x=\"76.785194\" y=\"25.121223\" fill=\"#000000\" fill-opacity=\".14118\" font-family=\"'Courier New'\" font-size=\"8.2692px\" font-weight=\"bold\" stroke-width=\".26458\" style=\"font-feature-settings:normal;font-variant-caps:normal;font-variant-ligatures:normal;font-variant-numeric:normal\">1</tspan></text>\n",
        "   <text x=\"88.669685\" y=\"24.938538\" style=\"line-height:1.25\" xml:space=\"preserve\"><tspan x=\"88.669685\" y=\"24.938538\" fill=\"#000000\" fill-opacity=\".14118\" font-family=\"'Courier New'\" font-size=\"8.2692px\" font-weight=\"bold\" stroke-width=\".26458\" style=\"font-feature-settings:normal;font-variant-caps:normal;font-variant-ligatures:normal;font-variant-numeric:normal\">2</tspan></text>\n",
        "   <text x=\"100.02571\" y=\"25.084167\" style=\"line-height:1.25\" xml:space=\"preserve\"><tspan x=\"100.02571\" y=\"25.084167\" fill=\"#000000\" fill-opacity=\".14118\" font-family=\"'Courier New'\" font-size=\"8.2692px\" font-weight=\"bold\" stroke-width=\".26458\" style=\"font-feature-settings:normal;font-variant-caps:normal;font-variant-ligatures:normal;font-variant-numeric:normal\">3</tspan></text>\n",
        "   <text x=\"64.766457\" y=\"48.407875\" style=\"line-height:1.25\" xml:space=\"preserve\"><tspan x=\"64.766457\" y=\"48.407875\" fill=\"#000000\" fill-opacity=\".14118\" font-family=\"'Courier New'\" font-size=\"8.2692px\" font-weight=\"bold\" stroke-width=\".26458\" style=\"font-feature-settings:normal;font-variant-caps:normal;font-variant-ligatures:normal;font-variant-numeric:normal\">0</tspan></text>\n",
        "   <text x=\"76.785194\" y=\"48.627388\" style=\"line-height:1.25\" xml:space=\"preserve\"><tspan x=\"76.785194\" y=\"48.627388\" fill=\"#000000\" fill-opacity=\".14118\" font-family=\"'Courier New'\" font-size=\"8.2692px\" font-weight=\"bold\" stroke-width=\".26458\" style=\"font-feature-settings:normal;font-variant-caps:normal;font-variant-ligatures:normal;font-variant-numeric:normal\">1</tspan></text>\n",
        "   <text x=\"88.669685\" y=\"48.444695\" style=\"line-height:1.25\" xml:space=\"preserve\"><tspan x=\"88.669685\" y=\"48.444695\" fill=\"#000000\" fill-opacity=\".14118\" font-family=\"'Courier New'\" font-size=\"8.2692px\" font-weight=\"bold\" stroke-width=\".26458\" style=\"font-feature-settings:normal;font-variant-caps:normal;font-variant-ligatures:normal;font-variant-numeric:normal\">2</tspan></text>\n",
        "   <text x=\"100.02571\" y=\"48.590324\" style=\"line-height:1.25\" xml:space=\"preserve\"><tspan x=\"100.02571\" y=\"48.590324\" fill=\"#000000\" fill-opacity=\".14118\" font-family=\"'Courier New'\" font-size=\"8.2692px\" font-weight=\"bold\" stroke-width=\".26458\" style=\"font-feature-settings:normal;font-variant-caps:normal;font-variant-ligatures:normal;font-variant-numeric:normal\">3</tspan></text>\n",
        "   <text x=\"65.178848\" y=\"36.036201\" style=\"line-height:1.25\" xml:space=\"preserve\"><tspan x=\"65.178848\" y=\"36.036201\" fill=\"#000000\" fill-opacity=\".14118\" font-family=\"'Courier New'\" font-size=\"8.2692px\" font-weight=\"bold\" stroke-width=\".26458\" style=\"font-feature-settings:normal;font-variant-caps:normal;font-variant-ligatures:normal;font-variant-numeric:normal\">0</tspan></text>\n",
        "   <text x=\"77.197578\" y=\"36.255714\" style=\"line-height:1.25\" xml:space=\"preserve\"><tspan x=\"77.197578\" y=\"36.255714\" fill=\"#000000\" fill-opacity=\".14118\" font-family=\"'Courier New'\" font-size=\"8.2692px\" font-weight=\"bold\" stroke-width=\".26458\" style=\"font-feature-settings:normal;font-variant-caps:normal;font-variant-ligatures:normal;font-variant-numeric:normal\">1</tspan></text>\n",
        "   <text x=\"89.082069\" y=\"36.073021\" style=\"line-height:1.25\" xml:space=\"preserve\"><tspan x=\"89.082069\" y=\"36.073021\" fill=\"#000000\" fill-opacity=\".14118\" font-family=\"'Courier New'\" font-size=\"8.2692px\" font-weight=\"bold\" stroke-width=\".26458\" style=\"font-feature-settings:normal;font-variant-caps:normal;font-variant-ligatures:normal;font-variant-numeric:normal\">2</tspan></text>\n",
        "   <text x=\"100.4381\" y=\"36.218651\" style=\"line-height:1.25\" xml:space=\"preserve\"><tspan x=\"100.4381\" y=\"36.218651\" fill=\"#000000\" fill-opacity=\".14118\" font-family=\"'Courier New'\" font-size=\"8.2692px\" font-weight=\"bold\" stroke-width=\".26458\" style=\"font-feature-settings:normal;font-variant-caps:normal;font-variant-ligatures:normal;font-variant-numeric:normal\">3</tspan></text>\n",
        "  </g>\n",
        "  <g font-size=\"8.2692px\">\n",
        "   <text x=\"125.08492\" y=\"13.340211\" style=\"line-height:1.25\" xml:space=\"preserve\"><tspan x=\"125.08492\" y=\"13.340211\" fill=\"#000000\" fill-opacity=\".50242\" font-family=\"'Courier New'\" font-size=\"8.2692px\" font-weight=\"bold\" stroke-width=\".26458\" style=\"font-feature-settings:normal;font-variant-caps:normal;font-variant-ligatures:normal;font-variant-numeric:normal\">0</tspan></text>\n",
        "   <text x=\"136.96941\" y=\"13.157517\" style=\"line-height:1.25\" xml:space=\"preserve\"><tspan x=\"136.96941\" y=\"13.157517\" fill=\"#000000\" fill-opacity=\".50242\" font-family=\"'Courier New'\" font-size=\"8.2692px\" font-weight=\"bold\" stroke-width=\".26458\" style=\"font-feature-settings:normal;font-variant-caps:normal;font-variant-ligatures:normal;font-variant-numeric:normal\">1</tspan></text>\n",
        "   <text x=\"148.32542\" y=\"13.303147\" style=\"line-height:1.25\" xml:space=\"preserve\"><tspan x=\"148.32542\" y=\"13.303147\" fill=\"#000000\" fill-opacity=\".50242\" font-family=\"'Courier New'\" font-size=\"8.2692px\" font-weight=\"bold\" stroke-width=\".26458\" style=\"font-feature-settings:normal;font-variant-caps:normal;font-variant-ligatures:normal;font-variant-numeric:normal\">2</tspan></text>\n",
        "   <text x=\"160.25839\" y=\"13.417748\" style=\"line-height:1.25\" xml:space=\"preserve\"><tspan x=\"160.25839\" y=\"13.417748\" fill=\"#000000\" fill-opacity=\".50242\" font-family=\"'Courier New'\" font-size=\"8.2692px\" font-weight=\"bold\" stroke-width=\".26458\" style=\"font-feature-settings:normal;font-variant-caps:normal;font-variant-ligatures:normal;font-variant-numeric:normal\">3</tspan></text>\n",
        "   <text x=\"125.18124\" y=\"25.050598\" style=\"line-height:1.25\" xml:space=\"preserve\"><tspan x=\"125.18124\" y=\"25.050598\" fill=\"#000000\" fill-opacity=\".50242\" font-family=\"'Courier New'\" font-size=\"8.2692px\" font-weight=\"bold\" stroke-width=\".26458\" style=\"font-feature-settings:normal;font-variant-caps:normal;font-variant-ligatures:normal;font-variant-numeric:normal\">1</tspan></text>\n",
        "   <text x=\"136.53725\" y=\"25.196228\" style=\"line-height:1.25\" xml:space=\"preserve\"><tspan x=\"136.53725\" y=\"25.196228\" fill=\"#000000\" fill-opacity=\".50242\" font-family=\"'Courier New'\" font-size=\"8.2692px\" font-weight=\"bold\" stroke-width=\".26458\" style=\"font-feature-settings:normal;font-variant-caps:normal;font-variant-ligatures:normal;font-variant-numeric:normal\">2</tspan></text>\n",
        "   <text x=\"148.47021\" y=\"25.310829\" style=\"line-height:1.25\" xml:space=\"preserve\"><tspan x=\"148.47021\" y=\"25.310829\" fill=\"#000000\" fill-opacity=\".50242\" font-family=\"'Courier New'\" font-size=\"8.2692px\" font-weight=\"bold\" stroke-width=\".26458\" style=\"font-feature-settings:normal;font-variant-caps:normal;font-variant-ligatures:normal;font-variant-numeric:normal\">3</tspan></text>\n",
        "   <text x=\"160.32352\" y=\"25.214973\" style=\"line-height:1.25\" xml:space=\"preserve\"><tspan x=\"160.32352\" y=\"25.214973\" fill=\"#000000\" fill-opacity=\".50242\" font-family=\"'Courier New'\" font-size=\"8.2692px\" font-weight=\"bold\" stroke-width=\".26458\" style=\"font-feature-settings:normal;font-variant-caps:normal;font-variant-ligatures:normal;font-variant-numeric:normal\">4</tspan></text>\n",
        "   <text x=\"124.37135\" y=\"37.10125\" style=\"line-height:1.25\" xml:space=\"preserve\"><tspan x=\"124.37135\" y=\"37.10125\" fill=\"#000000\" fill-opacity=\".50242\" font-family=\"'Courier New'\" font-size=\"8.2692px\" font-weight=\"bold\" stroke-width=\".26458\" style=\"font-feature-settings:normal;font-variant-caps:normal;font-variant-ligatures:normal;font-variant-numeric:normal\">2</tspan></text>\n",
        "   <text x=\"136.30431\" y=\"37.215858\" style=\"line-height:1.25\" xml:space=\"preserve\"><tspan x=\"136.30431\" y=\"37.215858\" fill=\"#000000\" fill-opacity=\".50242\" font-family=\"'Courier New'\" font-size=\"8.2692px\" font-weight=\"bold\" stroke-width=\".26458\" style=\"font-feature-settings:normal;font-variant-caps:normal;font-variant-ligatures:normal;font-variant-numeric:normal\">3</tspan></text>\n",
        "   <text x=\"148.15761\" y=\"37.120003\" style=\"line-height:1.25\" xml:space=\"preserve\"><tspan x=\"148.15761\" y=\"37.120003\" fill=\"#000000\" fill-opacity=\".50242\" font-family=\"'Courier New'\" font-size=\"8.2692px\" font-weight=\"bold\" stroke-width=\".26458\" style=\"font-feature-settings:normal;font-variant-caps:normal;font-variant-ligatures:normal;font-variant-numeric:normal\">4</tspan></text>\n",
        "   <text x=\"160.00427\" y=\"37.21949\" style=\"line-height:1.25\" xml:space=\"preserve\"><tspan x=\"160.00427\" y=\"37.21949\" fill=\"#000000\" fill-opacity=\".50242\" font-family=\"'Courier New'\" font-size=\"8.2692px\" font-weight=\"bold\" stroke-width=\".26458\" style=\"font-feature-settings:normal;font-variant-caps:normal;font-variant-ligatures:normal;font-variant-numeric:normal\">5</tspan></text>\n",
        "   <text x=\"125.15919\" y=\"48.504997\" style=\"line-height:1.25\" xml:space=\"preserve\"><tspan x=\"125.15919\" y=\"48.504997\" fill=\"#000000\" fill-opacity=\".50242\" font-family=\"'Courier New'\" font-size=\"8.2692px\" font-weight=\"bold\" stroke-width=\".26458\" style=\"font-feature-settings:normal;font-variant-caps:normal;font-variant-ligatures:normal;font-variant-numeric:normal\">3</tspan></text>\n",
        "   <text x=\"137.01248\" y=\"48.409142\" style=\"line-height:1.25\" xml:space=\"preserve\"><tspan x=\"137.01248\" y=\"48.409142\" fill=\"#000000\" fill-opacity=\".50242\" font-family=\"'Courier New'\" font-size=\"8.2692px\" font-weight=\"bold\" stroke-width=\".26458\" style=\"font-feature-settings:normal;font-variant-caps:normal;font-variant-ligatures:normal;font-variant-numeric:normal\">4</tspan></text>\n",
        "   <text x=\"148.85915\" y=\"48.508629\" style=\"line-height:1.25\" xml:space=\"preserve\"><tspan x=\"148.85915\" y=\"48.508629\" fill=\"#000000\" fill-opacity=\".50242\" font-family=\"'Courier New'\" font-size=\"8.2692px\" font-weight=\"bold\" stroke-width=\".26458\" style=\"font-feature-settings:normal;font-variant-caps:normal;font-variant-ligatures:normal;font-variant-numeric:normal\">5</tspan></text>\n",
        "   <text x=\"160.11462\" y=\"48.624748\" style=\"line-height:1.25\" xml:space=\"preserve\"><tspan x=\"160.11462\" y=\"48.624748\" fill=\"#000000\" fill-opacity=\".50242\" font-family=\"'Courier New'\" font-size=\"8.2692px\" font-weight=\"bold\" stroke-width=\".26458\" style=\"font-feature-settings:normal;font-variant-caps:normal;font-variant-ligatures:normal;font-variant-numeric:normal\">6</tspan></text>\n",
        "  </g>\n",
        " </g>\n",
        " <g fill=\"none\" stroke=\"#000\" stroke-opacity=\".28019\" stroke-width=\".39687\">\n",
        "  <path d=\"m109.59 10.969c2.8829 3.4243 4.6121 6.9078 0 10.716\" marker-end=\"url(#b)\"/>\n",
        "  <path d=\"m109.38 22.18c2.8829 3.4243 4.6121 6.9078 0 10.716\" marker-end=\"url(#c)\"/>\n",
        "  <path d=\"m109.07 33.417c2.8829 3.4243 4.6121 6.9078 0 10.716\" marker-end=\"url(#a)\"/>\n",
        "  <path d=\"m7.082 3.0449c3.4243-2.8829 6.9078-4.6121 10.716 0\" marker-end=\"url(#e)\"/>\n",
        "  <path d=\"m18.418 3.2272c3.4243-2.8829 6.9078-4.6121 10.716 0\" marker-end=\"url(#f)\"/>\n",
        "  <path d=\"m29.799 3.4915c3.4243-2.8829 6.9078-4.6121 10.716 0\" marker-end=\"url(#d)\"/>\n",
        " </g>\n",
        " <text x=\"-0.7297408\" y=\"-101.38412\" fill=\"#000000\" font-family=\"Verdana\" font-size=\"10.583px\" letter-spacing=\"0px\" stroke-width=\".26458\" word-spacing=\"0px\" style=\"line-height:1.25\" xml:space=\"preserve\"><tspan x=\"-0.7297408\" y=\"-91.72863\" stroke-width=\".26458\"/></text>\n",
        "</svg>\n",
        "\n",
        "\n"
      ],
      "execution_count": 0,
      "outputs": [
        {
          "output_type": "display_data",
          "data": {
            "text/html": [
              "\n",
              "<svg width=\"168.48mm\" height=\"51.921mm\" version=\"1.1\" viewBox=\"0 0 168.48 51.921\" xmlns=\"http://www.w3.org/2000/svg\" xmlns:ns0=\"http://www.iki.fi/pav/software/textext/\">\n",
              " <defs>\n",
              "  <marker id=\"a\" overflow=\"visible\" orient=\"auto\">\n",
              "   <path transform=\"matrix(-.4 0 0 -.4 -4 0)\" d=\"m0 0 5-5-17.5 5 17.5 5z\" fill-opacity=\".28019\" fill-rule=\"evenodd\" stroke=\"#000\" stroke-opacity=\".28019\" stroke-width=\"1pt\"/>\n",
              "  </marker>\n",
              "  <marker id=\"b\" overflow=\"visible\" orient=\"auto\">\n",
              "   <path transform=\"matrix(-.4 0 0 -.4 -4 0)\" d=\"m0 0 5-5-17.5 5 17.5 5z\" fill-opacity=\".28019\" fill-rule=\"evenodd\" stroke=\"#000\" stroke-opacity=\".28019\" stroke-width=\"1pt\"/>\n",
              "  </marker>\n",
              "  <marker id=\"c\" overflow=\"visible\" orient=\"auto\">\n",
              "   <path transform=\"matrix(-.4 0 0 -.4 -4 0)\" d=\"m0 0 5-5-17.5 5 17.5 5z\" fill-opacity=\".28019\" fill-rule=\"evenodd\" stroke=\"#000\" stroke-opacity=\".28019\" stroke-width=\"1pt\"/>\n",
              "  </marker>\n",
              "  <marker id=\"d\" overflow=\"visible\" orient=\"auto\">\n",
              "   <path transform=\"matrix(-.4 0 0 -.4 -4 0)\" d=\"m0 0 5-5-17.5 5 17.5 5z\" fill-opacity=\".28019\" fill-rule=\"evenodd\" stroke=\"#000\" stroke-opacity=\".28019\" stroke-width=\"1pt\"/>\n",
              "  </marker>\n",
              "  <marker id=\"e\" overflow=\"visible\" orient=\"auto\">\n",
              "   <path transform=\"matrix(-.4 0 0 -.4 -4 0)\" d=\"m0 0 5-5-17.5 5 17.5 5z\" fill-opacity=\".28019\" fill-rule=\"evenodd\" stroke=\"#000\" stroke-opacity=\".28019\" stroke-width=\"1pt\"/>\n",
              "  </marker>\n",
              "  <marker id=\"f\" overflow=\"visible\" orient=\"auto\">\n",
              "   <path transform=\"matrix(-.4 0 0 -.4 -4 0)\" d=\"m0 0 5-5-17.5 5 17.5 5z\" fill-opacity=\".28019\" fill-rule=\"evenodd\" stroke=\"#000\" stroke-opacity=\".28019\" stroke-width=\"1pt\"/>\n",
              "  </marker>\n",
              " </defs>\n",
              " <g transform=\"translate(143.58 -144.39)\">\n",
              "  <text x=\"35.246281\" y=\"42.149555\" fill=\"#000000\" font-family=\"Verdana\" font-size=\"10.583px\" letter-spacing=\"0px\" stroke-width=\".26458\" word-spacing=\"0px\" style=\"line-height:1.25\" xml:space=\"preserve\"><tspan x=\"35.246281\" y=\"51.80505\" stroke-width=\".26458\"/></text>\n",
              "  <text x=\"76.906807\" y=\"21.511925\" fill=\"#000000\" font-family=\"Verdana\" font-size=\"10.583px\" letter-spacing=\"0px\" stroke-width=\".26458\" word-spacing=\"0px\" style=\"line-height:1.25\" xml:space=\"preserve\"><tspan x=\"76.906807\" y=\"31.167419\" stroke-width=\".26458\"/></text>\n",
              "  <g transform=\"matrix(1.2512,0,0,-1.2512,-160.51,876.57)\" fill-rule=\"evenodd\" stroke=\"#000\" stroke-miterlimit=\"10.433\" stroke-width=\"1.1988\" ns0:preamble=\"default_packages.tex\" ns0:text=\"$p q$\\n\" xml:space=\"preserve\"><g transform=\"matrix(1.5,0,0,-1.5,-165.9,1212.8)\" fill-rule=\"evenodd\" stroke=\"#000\" stroke-miterlimit=\"10.433\" ns0:preamble=\"default_packages.tex\" ns0:text=\"$\\\\text{delete readjust}$\\n\" xml:space=\"preserve\"><g transform=\"matrix(1.5,0,0,-1.5,-165.59,1212.8)\" fill-rule=\"evenodd\" stroke-miterlimit=\"10.433\" ns0:preamble=\"default_packages.tex\" ns0:text=\"$delete readjust$\\n\" xml:space=\"preserve\"><flowRoot fill=\"#000000\" font-family=\"Verdana\" font-size=\"40px\" letter-spacing=\"0px\" stroke=\"none\" word-spacing=\"0px\" style=\"line-height:1.25\" xml:space=\"preserve\"><flowRegion><rect x=\"78.929\" y=\"457.16\" width=\"60\" height=\"76.429\"/></flowRegion><flowPara/></flowRoot><g transform=\"matrix(.20006 0 0 .20006 165.85 418.79)\" fill-rule=\"evenodd\" stroke=\"#000\" stroke-miterlimit=\"10.433\" stroke-width=\"8.9882\" ns0:preamble=\"default_packages.tex\" ns0:text=\"$f bias variance All functions Learnable functions$\\n\" xml:space=\"preserve\"><g transform=\"matrix(1.5,0,0,1.5,17.997,-402.96)\" fill-rule=\"evenodd\" stroke=\"#000\" stroke-miterlimit=\"10.433\" ns0:preamble=\"default_packages.tex\" ns0:text=\"feature $x y$\\n\" xml:space=\"preserve\"><g transform=\"matrix(1.0127,0,0,1.0127,-139.78,42.633)\" fill-rule=\"evenodd\" stroke=\"#000\" stroke-miterlimit=\"10.433\" stroke-width=\"13.314\" ns0:preamble=\"default_packages.tex\" ns0:text=\"$a s_1(a) s_2(a) s$\\n\" xml:space=\"preserve\"><g transform=\"matrix(1.1688,0,0,-1.1688,1.4337,749.97)\"><g transform=\"matrix(1.5,0,0,-1.5,-351.92,1227.8)\" fill-rule=\"evenodd\" stroke=\"#000\" stroke-miterlimit=\"10.433\" ns0:preamble=\"default_packages.tex\" ns0:text=\"$$\\\\text{Example: Knowledge bases}$$\\n\" xml:space=\"preserve\"><g transform=\"matrix(1.5,0,0,-1.5,-352.93,1195)\" fill-rule=\"evenodd\" stroke=\"#000\" stroke-miterlimit=\"10.433\" ns0:preamble=\"default_packages.tex\" ns0:text=\"$$\\\\text{AI (e.g. Knowledge bases)}$$\\n\" xml:space=\"preserve\"><g transform=\"matrix(.43863 0 0 -.43863 259.71 522.41)\" fill-rule=\"evenodd\" stroke=\"#000\" stroke-miterlimit=\"10.433\" stroke-width=\"13.314\" ns0:preamble=\"default_packages.tex\" ns0:text=\"$$\\\\text{trial 1}$$\\n$$\\\\text{trial 2}$$\\n$$\\\\text{trial 3}$$\\n$$\\\\text{trial 4}$$\\n$$\\\\text{trial 5}$$\\n\" xml:space=\"preserve\"/></g></g></g></g></g></g></g></g></g>\n",
              " </g>\n",
              " <rect x=\".3265\" y=\"4.24\" width=\"11.753\" height=\"11.753\" fill=\"#0040af\" fill-opacity=\".12549\" stroke=\"#0059d0\" stroke-linecap=\"square\" stroke-miterlimit=\"3\" stroke-opacity=\".20773\" stroke-width=\".653\"/>\n",
              " <g fill=\"none\" stroke=\"#0059d0\" stroke-linecap=\"square\" stroke-miterlimit=\"3\" stroke-opacity=\".20773\" stroke-width=\".653\">\n",
              "  <rect x=\"12.08\" y=\"4.24\" width=\"11.753\" height=\"11.753\"/>\n",
              "  <rect x=\"23.833\" y=\"4.24\" width=\"11.753\" height=\"11.753\"/>\n",
              "  <rect x=\"35.586\" y=\"4.24\" width=\"11.753\" height=\"11.753\"/>\n",
              " </g>\n",
              " <rect x=\".3265\" y=\"15.993\" width=\"11.753\" height=\"11.753\" fill=\"#0040af\" fill-opacity=\".12549\" stroke=\"#0059d0\" stroke-linecap=\"square\" stroke-miterlimit=\"3\" stroke-opacity=\".20773\" stroke-width=\".653\"/>\n",
              " <g fill=\"none\" stroke=\"#0059d0\" stroke-linecap=\"square\" stroke-miterlimit=\"3\" stroke-opacity=\".20773\" stroke-width=\".653\">\n",
              "  <rect x=\"12.08\" y=\"15.993\" width=\"11.753\" height=\"11.753\"/>\n",
              "  <rect x=\"23.833\" y=\"15.993\" width=\"11.753\" height=\"11.753\"/>\n",
              "  <rect x=\"35.586\" y=\"15.993\" width=\"11.753\" height=\"11.753\"/>\n",
              " </g>\n",
              " <rect x=\".3265\" y=\"27.746\" width=\"11.753\" height=\"11.753\" fill=\"#0040af\" fill-opacity=\".12549\" stroke=\"#0059d0\" stroke-linecap=\"square\" stroke-miterlimit=\"3\" stroke-opacity=\".20773\" stroke-width=\".653\"/>\n",
              " <g fill=\"none\" stroke=\"#0059d0\" stroke-linecap=\"square\" stroke-miterlimit=\"3\" stroke-opacity=\".20773\" stroke-width=\".653\">\n",
              "  <rect x=\"12.08\" y=\"27.746\" width=\"11.753\" height=\"11.753\"/>\n",
              "  <rect x=\"23.833\" y=\"27.746\" width=\"11.753\" height=\"11.753\"/>\n",
              "  <rect x=\"35.586\" y=\"27.746\" width=\"11.753\" height=\"11.753\"/>\n",
              " </g>\n",
              " <rect x=\".3265\" y=\"39.499\" width=\"11.753\" height=\"11.753\" fill=\"#0040af\" fill-opacity=\".12549\" stroke=\"#0059d0\" stroke-linecap=\"square\" stroke-miterlimit=\"3\" stroke-opacity=\".20773\" stroke-width=\".653\"/>\n",
              " <g fill=\"none\" stroke=\"#0059d0\" stroke-linecap=\"square\" stroke-miterlimit=\"3\" stroke-opacity=\".20773\" stroke-width=\".653\">\n",
              "  <rect x=\"12.08\" y=\"39.499\" width=\"11.753\" height=\"11.753\"/>\n",
              "  <rect x=\"23.833\" y=\"39.499\" width=\"11.753\" height=\"11.753\"/>\n",
              "  <rect x=\"35.586\" y=\"39.499\" width=\"11.753\" height=\"11.753\"/>\n",
              " </g>\n",
              " <g fill=\"#0040af\" fill-opacity=\".12549\" stroke=\"#0059d0\" stroke-linecap=\"square\" stroke-miterlimit=\"3\" stroke-opacity=\".20773\" stroke-width=\".653\">\n",
              "  <rect x=\"61.257\" y=\"3.9307\" width=\"11.753\" height=\"11.753\"/>\n",
              "  <rect x=\"73.01\" y=\"3.9307\" width=\"11.753\" height=\"11.753\"/>\n",
              "  <rect x=\"84.763\" y=\"3.9307\" width=\"11.753\" height=\"11.753\"/>\n",
              "  <rect x=\"96.516\" y=\"3.9307\" width=\"11.753\" height=\"11.753\"/>\n",
              " </g>\n",
              " <g fill=\"none\" stroke=\"#0059d0\" stroke-linecap=\"square\" stroke-miterlimit=\"3\" stroke-opacity=\".20773\" stroke-width=\".653\">\n",
              "  <rect x=\"61.257\" y=\"15.684\" width=\"11.753\" height=\"11.753\"/>\n",
              "  <rect x=\"73.01\" y=\"15.684\" width=\"11.753\" height=\"11.753\"/>\n",
              "  <rect x=\"84.763\" y=\"15.684\" width=\"11.753\" height=\"11.753\"/>\n",
              "  <rect x=\"96.516\" y=\"15.684\" width=\"11.753\" height=\"11.753\"/>\n",
              "  <rect x=\"61.257\" y=\"27.437\" width=\"11.753\" height=\"11.753\"/>\n",
              "  <rect x=\"73.01\" y=\"27.437\" width=\"11.753\" height=\"11.753\"/>\n",
              "  <rect x=\"84.763\" y=\"27.437\" width=\"11.753\" height=\"11.753\"/>\n",
              "  <rect x=\"96.516\" y=\"27.437\" width=\"11.753\" height=\"11.753\"/>\n",
              "  <rect x=\"61.257\" y=\"39.19\" width=\"11.753\" height=\"11.753\"/>\n",
              "  <rect x=\"73.01\" y=\"39.19\" width=\"11.753\" height=\"11.753\"/>\n",
              "  <rect x=\"84.763\" y=\"39.19\" width=\"11.753\" height=\"11.753\"/>\n",
              "  <rect x=\"96.516\" y=\"39.19\" width=\"11.753\" height=\"11.753\"/>\n",
              " </g>\n",
              " <g fill=\"#0040af\" fill-opacity=\".12549\" stroke=\"#0059d0\" stroke-linecap=\"square\" stroke-miterlimit=\"3\" stroke-opacity=\".20773\" stroke-width=\".653\">\n",
              "  <rect x=\"121.14\" y=\"4.5826\" width=\"11.753\" height=\"11.753\"/>\n",
              "  <rect x=\"132.89\" y=\"4.5826\" width=\"11.753\" height=\"11.753\"/>\n",
              "  <rect x=\"144.64\" y=\"4.5826\" width=\"11.753\" height=\"11.753\"/>\n",
              "  <rect x=\"156.4\" y=\"4.5826\" width=\"11.753\" height=\"11.753\"/>\n",
              "  <rect x=\"121.14\" y=\"16.336\" width=\"11.753\" height=\"11.753\"/>\n",
              "  <rect x=\"132.89\" y=\"16.336\" width=\"11.753\" height=\"11.753\"/>\n",
              "  <rect x=\"144.64\" y=\"16.336\" width=\"11.753\" height=\"11.753\"/>\n",
              "  <rect x=\"156.4\" y=\"16.336\" width=\"11.753\" height=\"11.753\"/>\n",
              "  <rect x=\"121.14\" y=\"28.089\" width=\"11.753\" height=\"11.753\"/>\n",
              "  <rect x=\"132.89\" y=\"28.089\" width=\"11.753\" height=\"11.753\"/>\n",
              "  <rect x=\"144.64\" y=\"28.089\" width=\"11.753\" height=\"11.753\"/>\n",
              "  <rect x=\"156.4\" y=\"28.089\" width=\"11.753\" height=\"11.753\"/>\n",
              "  <rect x=\"121.14\" y=\"39.842\" width=\"11.753\" height=\"11.753\"/>\n",
              "  <rect x=\"132.89\" y=\"39.842\" width=\"11.753\" height=\"11.753\"/>\n",
              "  <rect x=\"144.64\" y=\"39.842\" width=\"11.753\" height=\"11.753\"/>\n",
              "  <rect x=\"156.4\" y=\"39.842\" width=\"11.753\" height=\"11.753\"/>\n",
              " </g>\n",
              " <g fill=\"#000000\" font-family=\"Verdana\" letter-spacing=\"0px\" stroke-width=\".26458\" word-spacing=\"0px\">\n",
              "  <g>\n",
              "   <text x=\"51.019161\" y=\"31.1633\" font-size=\"10.583px\" style=\"line-height:1.25\" xml:space=\"preserve\"><tspan x=\"51.019161\" y=\"31.1633\" fill=\"#000000\" fill-opacity=\".61836\" font-family=\"'Courier New'\" font-size=\"10.583px\" font-weight=\"bold\" stroke-width=\".26458\" style=\"font-feature-settings:normal;font-variant-caps:normal;font-variant-ligatures:normal;font-variant-numeric:normal\">+</tspan></text>\n",
              "   <text x=\"112.95189\" y=\"30.964798\" font-size=\"10.583px\" style=\"line-height:1.25\" xml:space=\"preserve\"><tspan x=\"112.95189\" y=\"30.964798\" fill=\"#000000\" fill-opacity=\".61836\" font-family=\"'Courier New'\" font-size=\"10.583px\" font-weight=\"bold\" stroke-width=\".26458\" style=\"font-feature-settings:normal;font-variant-caps:normal;font-variant-ligatures:normal;font-variant-numeric:normal\">=</tspan></text>\n",
              "   <g font-size=\"8.2692px\">\n",
              "    <text x=\"4.3517365\" y=\"12.722169\" style=\"line-height:1.25\" xml:space=\"preserve\"><tspan x=\"4.3517365\" y=\"12.722169\" fill=\"#000000\" fill-opacity=\".50242\" font-family=\"'Courier New'\" font-size=\"8.2692px\" font-weight=\"bold\" stroke-width=\".26458\" style=\"font-feature-settings:normal;font-variant-caps:normal;font-variant-ligatures:normal;font-variant-numeric:normal\">0</tspan></text>\n",
              "    <text x=\"4.3985848\" y=\"24.339203\" style=\"line-height:1.25\" xml:space=\"preserve\"><tspan x=\"4.3985848\" y=\"24.339203\" fill=\"#000000\" fill-opacity=\".50242\" font-family=\"'Courier New'\" font-size=\"8.2692px\" font-weight=\"bold\" stroke-width=\".26458\" style=\"font-feature-settings:normal;font-variant-caps:normal;font-variant-ligatures:normal;font-variant-numeric:normal\">1</tspan></text>\n",
              "    <text x=\"3.9826889\" y=\"36.000282\" style=\"line-height:1.25\" xml:space=\"preserve\"><tspan x=\"3.9826889\" y=\"36.000282\" fill=\"#000000\" fill-opacity=\".50242\" font-family=\"'Courier New'\" font-size=\"8.2692px\" font-weight=\"bold\" stroke-width=\".26458\" style=\"font-feature-settings:normal;font-variant-caps:normal;font-variant-ligatures:normal;font-variant-numeric:normal\">2</tspan></text>\n",
              "    <text x=\"3.7261534\" y=\"48.119316\" style=\"line-height:1.25\" xml:space=\"preserve\"><tspan x=\"3.7261534\" y=\"48.119316\" fill=\"#000000\" fill-opacity=\".50242\" font-family=\"'Courier New'\" font-size=\"8.2692px\" font-weight=\"bold\" stroke-width=\".26458\" style=\"font-feature-settings:normal;font-variant-caps:normal;font-variant-ligatures:normal;font-variant-numeric:normal\">3</tspan></text>\n",
              "   </g>\n",
              "  </g>\n",
              "  <g fill-opacity=\".1401\" font-size=\"8.2692px\">\n",
              "   <text x=\"15.89182\" y=\"13.08635\" style=\"line-height:1.25\" xml:space=\"preserve\"><tspan x=\"15.89182\" y=\"13.08635\" fill=\"#000000\" fill-opacity=\".1401\" font-family=\"'Courier New'\" font-size=\"8.2692px\" font-weight=\"bold\" stroke-width=\".26458\" style=\"font-feature-settings:normal;font-variant-caps:normal;font-variant-ligatures:normal;font-variant-numeric:normal\">0</tspan></text>\n",
              "   <text x=\"15.938668\" y=\"24.703377\" style=\"line-height:1.25\" xml:space=\"preserve\"><tspan x=\"15.938668\" y=\"24.703377\" fill=\"#000000\" fill-opacity=\".1401\" font-family=\"'Courier New'\" font-size=\"8.2692px\" font-weight=\"bold\" stroke-width=\".26458\" style=\"font-feature-settings:normal;font-variant-caps:normal;font-variant-ligatures:normal;font-variant-numeric:normal\">1</tspan></text>\n",
              "   <text x=\"15.522773\" y=\"36.364464\" style=\"line-height:1.25\" xml:space=\"preserve\"><tspan x=\"15.522773\" y=\"36.364464\" fill=\"#000000\" fill-opacity=\".1401\" font-family=\"'Courier New'\" font-size=\"8.2692px\" font-weight=\"bold\" stroke-width=\".26458\" style=\"font-feature-settings:normal;font-variant-caps:normal;font-variant-ligatures:normal;font-variant-numeric:normal\">2</tspan></text>\n",
              "   <text x=\"15.266235\" y=\"48.483498\" style=\"line-height:1.25\" xml:space=\"preserve\"><tspan x=\"15.266235\" y=\"48.483498\" fill=\"#000000\" fill-opacity=\".1401\" font-family=\"'Courier New'\" font-size=\"8.2692px\" font-weight=\"bold\" stroke-width=\".26458\" style=\"font-feature-settings:normal;font-variant-caps:normal;font-variant-ligatures:normal;font-variant-numeric:normal\">3</tspan></text>\n",
              "   <text x=\"27.696444\" y=\"12.931687\" style=\"line-height:1.25\" xml:space=\"preserve\"><tspan x=\"27.696444\" y=\"12.931687\" fill=\"#000000\" fill-opacity=\".1401\" font-family=\"'Courier New'\" font-size=\"8.2692px\" font-weight=\"bold\" stroke-width=\".26458\" style=\"font-feature-settings:normal;font-variant-caps:normal;font-variant-ligatures:normal;font-variant-numeric:normal\">0</tspan></text>\n",
              "   <text x=\"27.743292\" y=\"24.548729\" style=\"line-height:1.25\" xml:space=\"preserve\"><tspan x=\"27.743292\" y=\"24.548729\" fill=\"#000000\" fill-opacity=\".1401\" font-family=\"'Courier New'\" font-size=\"8.2692px\" font-weight=\"bold\" stroke-width=\".26458\" style=\"font-feature-settings:normal;font-variant-caps:normal;font-variant-ligatures:normal;font-variant-numeric:normal\">1</tspan></text>\n",
              "   <text x=\"27.327396\" y=\"36.209816\" style=\"line-height:1.25\" xml:space=\"preserve\"><tspan x=\"27.327396\" y=\"36.209816\" fill=\"#000000\" fill-opacity=\".1401\" font-family=\"'Courier New'\" font-size=\"8.2692px\" font-weight=\"bold\" stroke-width=\".26458\" style=\"font-feature-settings:normal;font-variant-caps:normal;font-variant-ligatures:normal;font-variant-numeric:normal\">2</tspan></text>\n",
              "   <text x=\"27.07086\" y=\"48.32885\" style=\"line-height:1.25\" xml:space=\"preserve\"><tspan x=\"27.07086\" y=\"48.32885\" fill=\"#000000\" fill-opacity=\".1401\" font-family=\"'Courier New'\" font-size=\"8.2692px\" font-weight=\"bold\" stroke-width=\".26458\" style=\"font-feature-settings:normal;font-variant-caps:normal;font-variant-ligatures:normal;font-variant-numeric:normal\">3</tspan></text>\n",
              "   <text x=\"39.501068\" y=\"12.880151\" style=\"line-height:1.25\" xml:space=\"preserve\"><tspan x=\"39.501068\" y=\"12.880151\" fill=\"#000000\" fill-opacity=\".1401\" font-family=\"'Courier New'\" font-size=\"8.2692px\" font-weight=\"bold\" stroke-width=\".26458\" style=\"font-feature-settings:normal;font-variant-caps:normal;font-variant-ligatures:normal;font-variant-numeric:normal\">0</tspan></text>\n",
              "   <text x=\"39.547916\" y=\"24.4972\" style=\"line-height:1.25\" xml:space=\"preserve\"><tspan x=\"39.547916\" y=\"24.4972\" fill=\"#000000\" fill-opacity=\".1401\" font-family=\"'Courier New'\" font-size=\"8.2692px\" font-weight=\"bold\" stroke-width=\".26458\" style=\"font-feature-settings:normal;font-variant-caps:normal;font-variant-ligatures:normal;font-variant-numeric:normal\">1</tspan></text>\n",
              "   <text x=\"39.132023\" y=\"36.158272\" style=\"line-height:1.25\" xml:space=\"preserve\"><tspan x=\"39.132023\" y=\"36.158272\" fill=\"#000000\" fill-opacity=\".1401\" font-family=\"'Courier New'\" font-size=\"8.2692px\" font-weight=\"bold\" stroke-width=\".26458\" style=\"font-feature-settings:normal;font-variant-caps:normal;font-variant-ligatures:normal;font-variant-numeric:normal\">2</tspan></text>\n",
              "   <text x=\"38.875484\" y=\"48.277306\" style=\"line-height:1.25\" xml:space=\"preserve\"><tspan x=\"38.875484\" y=\"48.277306\" fill=\"#000000\" fill-opacity=\".1401\" font-family=\"'Courier New'\" font-size=\"8.2692px\" font-weight=\"bold\" stroke-width=\".26458\" style=\"font-feature-settings:normal;font-variant-caps:normal;font-variant-ligatures:normal;font-variant-numeric:normal\">3</tspan></text>\n",
              "  </g>\n",
              "  <g font-size=\"8.2692px\">\n",
              "   <text x=\"64.408394\" y=\"12.687478\" style=\"line-height:1.25\" xml:space=\"preserve\"><tspan x=\"64.408394\" y=\"12.687478\" fill=\"#000000\" fill-opacity=\".50242\" font-family=\"'Courier New'\" font-size=\"8.2692px\" font-weight=\"bold\" stroke-width=\".26458\" style=\"font-feature-settings:normal;font-variant-caps:normal;font-variant-ligatures:normal;font-variant-numeric:normal\">0</tspan></text>\n",
              "   <text x=\"76.427124\" y=\"12.906991\" style=\"line-height:1.25\" xml:space=\"preserve\"><tspan x=\"76.427124\" y=\"12.906991\" fill=\"#000000\" fill-opacity=\".50242\" font-family=\"'Courier New'\" font-size=\"8.2692px\" font-weight=\"bold\" stroke-width=\".26458\" style=\"font-feature-settings:normal;font-variant-caps:normal;font-variant-ligatures:normal;font-variant-numeric:normal\">1</tspan></text>\n",
              "   <text x=\"88.311615\" y=\"12.724298\" style=\"line-height:1.25\" xml:space=\"preserve\"><tspan x=\"88.311615\" y=\"12.724298\" fill=\"#000000\" fill-opacity=\".50242\" font-family=\"'Courier New'\" font-size=\"8.2692px\" font-weight=\"bold\" stroke-width=\".26458\" style=\"font-feature-settings:normal;font-variant-caps:normal;font-variant-ligatures:normal;font-variant-numeric:normal\">2</tspan></text>\n",
              "   <text x=\"99.667641\" y=\"12.869927\" style=\"line-height:1.25\" xml:space=\"preserve\"><tspan x=\"99.667641\" y=\"12.869927\" fill=\"#000000\" fill-opacity=\".50242\" font-family=\"'Courier New'\" font-size=\"8.2692px\" font-weight=\"bold\" stroke-width=\".26458\" style=\"font-feature-settings:normal;font-variant-caps:normal;font-variant-ligatures:normal;font-variant-numeric:normal\">3</tspan></text>\n",
              "  </g>\n",
              "  <g fill-opacity=\".14118\" font-size=\"8.2692px\">\n",
              "   <text x=\"64.766464\" y=\"24.901718\" style=\"line-height:1.25\" xml:space=\"preserve\"><tspan x=\"64.766464\" y=\"24.901718\" fill=\"#000000\" fill-opacity=\".14118\" font-family=\"'Courier New'\" font-size=\"8.2692px\" font-weight=\"bold\" stroke-width=\".26458\" style=\"font-feature-settings:normal;font-variant-caps:normal;font-variant-ligatures:normal;font-variant-numeric:normal\">0</tspan></text>\n",
              "   <text x=\"76.785194\" y=\"25.121223\" style=\"line-height:1.25\" xml:space=\"preserve\"><tspan x=\"76.785194\" y=\"25.121223\" fill=\"#000000\" fill-opacity=\".14118\" font-family=\"'Courier New'\" font-size=\"8.2692px\" font-weight=\"bold\" stroke-width=\".26458\" style=\"font-feature-settings:normal;font-variant-caps:normal;font-variant-ligatures:normal;font-variant-numeric:normal\">1</tspan></text>\n",
              "   <text x=\"88.669685\" y=\"24.938538\" style=\"line-height:1.25\" xml:space=\"preserve\"><tspan x=\"88.669685\" y=\"24.938538\" fill=\"#000000\" fill-opacity=\".14118\" font-family=\"'Courier New'\" font-size=\"8.2692px\" font-weight=\"bold\" stroke-width=\".26458\" style=\"font-feature-settings:normal;font-variant-caps:normal;font-variant-ligatures:normal;font-variant-numeric:normal\">2</tspan></text>\n",
              "   <text x=\"100.02571\" y=\"25.084167\" style=\"line-height:1.25\" xml:space=\"preserve\"><tspan x=\"100.02571\" y=\"25.084167\" fill=\"#000000\" fill-opacity=\".14118\" font-family=\"'Courier New'\" font-size=\"8.2692px\" font-weight=\"bold\" stroke-width=\".26458\" style=\"font-feature-settings:normal;font-variant-caps:normal;font-variant-ligatures:normal;font-variant-numeric:normal\">3</tspan></text>\n",
              "   <text x=\"64.766457\" y=\"48.407875\" style=\"line-height:1.25\" xml:space=\"preserve\"><tspan x=\"64.766457\" y=\"48.407875\" fill=\"#000000\" fill-opacity=\".14118\" font-family=\"'Courier New'\" font-size=\"8.2692px\" font-weight=\"bold\" stroke-width=\".26458\" style=\"font-feature-settings:normal;font-variant-caps:normal;font-variant-ligatures:normal;font-variant-numeric:normal\">0</tspan></text>\n",
              "   <text x=\"76.785194\" y=\"48.627388\" style=\"line-height:1.25\" xml:space=\"preserve\"><tspan x=\"76.785194\" y=\"48.627388\" fill=\"#000000\" fill-opacity=\".14118\" font-family=\"'Courier New'\" font-size=\"8.2692px\" font-weight=\"bold\" stroke-width=\".26458\" style=\"font-feature-settings:normal;font-variant-caps:normal;font-variant-ligatures:normal;font-variant-numeric:normal\">1</tspan></text>\n",
              "   <text x=\"88.669685\" y=\"48.444695\" style=\"line-height:1.25\" xml:space=\"preserve\"><tspan x=\"88.669685\" y=\"48.444695\" fill=\"#000000\" fill-opacity=\".14118\" font-family=\"'Courier New'\" font-size=\"8.2692px\" font-weight=\"bold\" stroke-width=\".26458\" style=\"font-feature-settings:normal;font-variant-caps:normal;font-variant-ligatures:normal;font-variant-numeric:normal\">2</tspan></text>\n",
              "   <text x=\"100.02571\" y=\"48.590324\" style=\"line-height:1.25\" xml:space=\"preserve\"><tspan x=\"100.02571\" y=\"48.590324\" fill=\"#000000\" fill-opacity=\".14118\" font-family=\"'Courier New'\" font-size=\"8.2692px\" font-weight=\"bold\" stroke-width=\".26458\" style=\"font-feature-settings:normal;font-variant-caps:normal;font-variant-ligatures:normal;font-variant-numeric:normal\">3</tspan></text>\n",
              "   <text x=\"65.178848\" y=\"36.036201\" style=\"line-height:1.25\" xml:space=\"preserve\"><tspan x=\"65.178848\" y=\"36.036201\" fill=\"#000000\" fill-opacity=\".14118\" font-family=\"'Courier New'\" font-size=\"8.2692px\" font-weight=\"bold\" stroke-width=\".26458\" style=\"font-feature-settings:normal;font-variant-caps:normal;font-variant-ligatures:normal;font-variant-numeric:normal\">0</tspan></text>\n",
              "   <text x=\"77.197578\" y=\"36.255714\" style=\"line-height:1.25\" xml:space=\"preserve\"><tspan x=\"77.197578\" y=\"36.255714\" fill=\"#000000\" fill-opacity=\".14118\" font-family=\"'Courier New'\" font-size=\"8.2692px\" font-weight=\"bold\" stroke-width=\".26458\" style=\"font-feature-settings:normal;font-variant-caps:normal;font-variant-ligatures:normal;font-variant-numeric:normal\">1</tspan></text>\n",
              "   <text x=\"89.082069\" y=\"36.073021\" style=\"line-height:1.25\" xml:space=\"preserve\"><tspan x=\"89.082069\" y=\"36.073021\" fill=\"#000000\" fill-opacity=\".14118\" font-family=\"'Courier New'\" font-size=\"8.2692px\" font-weight=\"bold\" stroke-width=\".26458\" style=\"font-feature-settings:normal;font-variant-caps:normal;font-variant-ligatures:normal;font-variant-numeric:normal\">2</tspan></text>\n",
              "   <text x=\"100.4381\" y=\"36.218651\" style=\"line-height:1.25\" xml:space=\"preserve\"><tspan x=\"100.4381\" y=\"36.218651\" fill=\"#000000\" fill-opacity=\".14118\" font-family=\"'Courier New'\" font-size=\"8.2692px\" font-weight=\"bold\" stroke-width=\".26458\" style=\"font-feature-settings:normal;font-variant-caps:normal;font-variant-ligatures:normal;font-variant-numeric:normal\">3</tspan></text>\n",
              "  </g>\n",
              "  <g font-size=\"8.2692px\">\n",
              "   <text x=\"125.08492\" y=\"13.340211\" style=\"line-height:1.25\" xml:space=\"preserve\"><tspan x=\"125.08492\" y=\"13.340211\" fill=\"#000000\" fill-opacity=\".50242\" font-family=\"'Courier New'\" font-size=\"8.2692px\" font-weight=\"bold\" stroke-width=\".26458\" style=\"font-feature-settings:normal;font-variant-caps:normal;font-variant-ligatures:normal;font-variant-numeric:normal\">0</tspan></text>\n",
              "   <text x=\"136.96941\" y=\"13.157517\" style=\"line-height:1.25\" xml:space=\"preserve\"><tspan x=\"136.96941\" y=\"13.157517\" fill=\"#000000\" fill-opacity=\".50242\" font-family=\"'Courier New'\" font-size=\"8.2692px\" font-weight=\"bold\" stroke-width=\".26458\" style=\"font-feature-settings:normal;font-variant-caps:normal;font-variant-ligatures:normal;font-variant-numeric:normal\">1</tspan></text>\n",
              "   <text x=\"148.32542\" y=\"13.303147\" style=\"line-height:1.25\" xml:space=\"preserve\"><tspan x=\"148.32542\" y=\"13.303147\" fill=\"#000000\" fill-opacity=\".50242\" font-family=\"'Courier New'\" font-size=\"8.2692px\" font-weight=\"bold\" stroke-width=\".26458\" style=\"font-feature-settings:normal;font-variant-caps:normal;font-variant-ligatures:normal;font-variant-numeric:normal\">2</tspan></text>\n",
              "   <text x=\"160.25839\" y=\"13.417748\" style=\"line-height:1.25\" xml:space=\"preserve\"><tspan x=\"160.25839\" y=\"13.417748\" fill=\"#000000\" fill-opacity=\".50242\" font-family=\"'Courier New'\" font-size=\"8.2692px\" font-weight=\"bold\" stroke-width=\".26458\" style=\"font-feature-settings:normal;font-variant-caps:normal;font-variant-ligatures:normal;font-variant-numeric:normal\">3</tspan></text>\n",
              "   <text x=\"125.18124\" y=\"25.050598\" style=\"line-height:1.25\" xml:space=\"preserve\"><tspan x=\"125.18124\" y=\"25.050598\" fill=\"#000000\" fill-opacity=\".50242\" font-family=\"'Courier New'\" font-size=\"8.2692px\" font-weight=\"bold\" stroke-width=\".26458\" style=\"font-feature-settings:normal;font-variant-caps:normal;font-variant-ligatures:normal;font-variant-numeric:normal\">1</tspan></text>\n",
              "   <text x=\"136.53725\" y=\"25.196228\" style=\"line-height:1.25\" xml:space=\"preserve\"><tspan x=\"136.53725\" y=\"25.196228\" fill=\"#000000\" fill-opacity=\".50242\" font-family=\"'Courier New'\" font-size=\"8.2692px\" font-weight=\"bold\" stroke-width=\".26458\" style=\"font-feature-settings:normal;font-variant-caps:normal;font-variant-ligatures:normal;font-variant-numeric:normal\">2</tspan></text>\n",
              "   <text x=\"148.47021\" y=\"25.310829\" style=\"line-height:1.25\" xml:space=\"preserve\"><tspan x=\"148.47021\" y=\"25.310829\" fill=\"#000000\" fill-opacity=\".50242\" font-family=\"'Courier New'\" font-size=\"8.2692px\" font-weight=\"bold\" stroke-width=\".26458\" style=\"font-feature-settings:normal;font-variant-caps:normal;font-variant-ligatures:normal;font-variant-numeric:normal\">3</tspan></text>\n",
              "   <text x=\"160.32352\" y=\"25.214973\" style=\"line-height:1.25\" xml:space=\"preserve\"><tspan x=\"160.32352\" y=\"25.214973\" fill=\"#000000\" fill-opacity=\".50242\" font-family=\"'Courier New'\" font-size=\"8.2692px\" font-weight=\"bold\" stroke-width=\".26458\" style=\"font-feature-settings:normal;font-variant-caps:normal;font-variant-ligatures:normal;font-variant-numeric:normal\">4</tspan></text>\n",
              "   <text x=\"124.37135\" y=\"37.10125\" style=\"line-height:1.25\" xml:space=\"preserve\"><tspan x=\"124.37135\" y=\"37.10125\" fill=\"#000000\" fill-opacity=\".50242\" font-family=\"'Courier New'\" font-size=\"8.2692px\" font-weight=\"bold\" stroke-width=\".26458\" style=\"font-feature-settings:normal;font-variant-caps:normal;font-variant-ligatures:normal;font-variant-numeric:normal\">2</tspan></text>\n",
              "   <text x=\"136.30431\" y=\"37.215858\" style=\"line-height:1.25\" xml:space=\"preserve\"><tspan x=\"136.30431\" y=\"37.215858\" fill=\"#000000\" fill-opacity=\".50242\" font-family=\"'Courier New'\" font-size=\"8.2692px\" font-weight=\"bold\" stroke-width=\".26458\" style=\"font-feature-settings:normal;font-variant-caps:normal;font-variant-ligatures:normal;font-variant-numeric:normal\">3</tspan></text>\n",
              "   <text x=\"148.15761\" y=\"37.120003\" style=\"line-height:1.25\" xml:space=\"preserve\"><tspan x=\"148.15761\" y=\"37.120003\" fill=\"#000000\" fill-opacity=\".50242\" font-family=\"'Courier New'\" font-size=\"8.2692px\" font-weight=\"bold\" stroke-width=\".26458\" style=\"font-feature-settings:normal;font-variant-caps:normal;font-variant-ligatures:normal;font-variant-numeric:normal\">4</tspan></text>\n",
              "   <text x=\"160.00427\" y=\"37.21949\" style=\"line-height:1.25\" xml:space=\"preserve\"><tspan x=\"160.00427\" y=\"37.21949\" fill=\"#000000\" fill-opacity=\".50242\" font-family=\"'Courier New'\" font-size=\"8.2692px\" font-weight=\"bold\" stroke-width=\".26458\" style=\"font-feature-settings:normal;font-variant-caps:normal;font-variant-ligatures:normal;font-variant-numeric:normal\">5</tspan></text>\n",
              "   <text x=\"125.15919\" y=\"48.504997\" style=\"line-height:1.25\" xml:space=\"preserve\"><tspan x=\"125.15919\" y=\"48.504997\" fill=\"#000000\" fill-opacity=\".50242\" font-family=\"'Courier New'\" font-size=\"8.2692px\" font-weight=\"bold\" stroke-width=\".26458\" style=\"font-feature-settings:normal;font-variant-caps:normal;font-variant-ligatures:normal;font-variant-numeric:normal\">3</tspan></text>\n",
              "   <text x=\"137.01248\" y=\"48.409142\" style=\"line-height:1.25\" xml:space=\"preserve\"><tspan x=\"137.01248\" y=\"48.409142\" fill=\"#000000\" fill-opacity=\".50242\" font-family=\"'Courier New'\" font-size=\"8.2692px\" font-weight=\"bold\" stroke-width=\".26458\" style=\"font-feature-settings:normal;font-variant-caps:normal;font-variant-ligatures:normal;font-variant-numeric:normal\">4</tspan></text>\n",
              "   <text x=\"148.85915\" y=\"48.508629\" style=\"line-height:1.25\" xml:space=\"preserve\"><tspan x=\"148.85915\" y=\"48.508629\" fill=\"#000000\" fill-opacity=\".50242\" font-family=\"'Courier New'\" font-size=\"8.2692px\" font-weight=\"bold\" stroke-width=\".26458\" style=\"font-feature-settings:normal;font-variant-caps:normal;font-variant-ligatures:normal;font-variant-numeric:normal\">5</tspan></text>\n",
              "   <text x=\"160.11462\" y=\"48.624748\" style=\"line-height:1.25\" xml:space=\"preserve\"><tspan x=\"160.11462\" y=\"48.624748\" fill=\"#000000\" fill-opacity=\".50242\" font-family=\"'Courier New'\" font-size=\"8.2692px\" font-weight=\"bold\" stroke-width=\".26458\" style=\"font-feature-settings:normal;font-variant-caps:normal;font-variant-ligatures:normal;font-variant-numeric:normal\">6</tspan></text>\n",
              "  </g>\n",
              " </g>\n",
              " <g fill=\"none\" stroke=\"#000\" stroke-opacity=\".28019\" stroke-width=\".39687\">\n",
              "  <path d=\"m109.59 10.969c2.8829 3.4243 4.6121 6.9078 0 10.716\" marker-end=\"url(#b)\"/>\n",
              "  <path d=\"m109.38 22.18c2.8829 3.4243 4.6121 6.9078 0 10.716\" marker-end=\"url(#c)\"/>\n",
              "  <path d=\"m109.07 33.417c2.8829 3.4243 4.6121 6.9078 0 10.716\" marker-end=\"url(#a)\"/>\n",
              "  <path d=\"m7.082 3.0449c3.4243-2.8829 6.9078-4.6121 10.716 0\" marker-end=\"url(#e)\"/>\n",
              "  <path d=\"m18.418 3.2272c3.4243-2.8829 6.9078-4.6121 10.716 0\" marker-end=\"url(#f)\"/>\n",
              "  <path d=\"m29.799 3.4915c3.4243-2.8829 6.9078-4.6121 10.716 0\" marker-end=\"url(#d)\"/>\n",
              " </g>\n",
              " <text x=\"-0.7297408\" y=\"-101.38412\" fill=\"#000000\" font-family=\"Verdana\" font-size=\"10.583px\" letter-spacing=\"0px\" stroke-width=\".26458\" word-spacing=\"0px\" style=\"line-height:1.25\" xml:space=\"preserve\"><tspan x=\"-0.7297408\" y=\"-91.72863\" stroke-width=\".26458\"/></text>\n",
              "</svg>\n",
              "\n"
            ],
            "text/plain": [
              "<IPython.core.display.HTML object>"
            ]
          },
          "metadata": {
            "tags": []
          }
        }
      ]
    },
    {
      "cell_type": "markdown",
      "metadata": {
        "id": "9LDU9l8xYSih",
        "colab_type": "text"
      },
      "source": [
        "##Introducing Broadcasting"
      ]
    },
    {
      "cell_type": "code",
      "metadata": {
        "id": "W1fnJo-hYTni",
        "colab_type": "code",
        "colab": {}
      },
      "source": [
        "import numpy as np\n",
        "a = np.array([0, 1, 2])\n",
        "b = np.array([5, 5, 5])\n",
        "a + b"
      ],
      "execution_count": 0,
      "outputs": []
    },
    {
      "cell_type": "code",
      "metadata": {
        "id": "1Zzl0ofvYmWo",
        "colab_type": "code",
        "colab": {}
      },
      "source": [
        "a + 5"
      ],
      "execution_count": 0,
      "outputs": []
    },
    {
      "cell_type": "code",
      "metadata": {
        "id": "O46H1lxsY4vn",
        "colab_type": "code",
        "colab": {}
      },
      "source": [
        "M = np.ones((3, 3))\n",
        "M"
      ],
      "execution_count": 0,
      "outputs": []
    },
    {
      "cell_type": "code",
      "metadata": {
        "id": "rHYiSdOwY6kZ",
        "colab_type": "code",
        "colab": {}
      },
      "source": [
        "M + a"
      ],
      "execution_count": 0,
      "outputs": []
    },
    {
      "cell_type": "code",
      "metadata": {
        "id": "T9hsix04ZEgG",
        "colab_type": "code",
        "colab": {}
      },
      "source": [
        "a = np.arange(3)\n",
        "b = np.arange(3)[:, np.newaxis]\n",
        "print(a)\n",
        "print(b)\n",
        "a + b"
      ],
      "execution_count": 0,
      "outputs": []
    },
    {
      "cell_type": "markdown",
      "metadata": {
        "id": "LFvtemt3aFsR",
        "colab_type": "text"
      },
      "source": [
        "##Rules of Broadcasting"
      ]
    },
    {
      "cell_type": "markdown",
      "metadata": {
        "id": "q2C-cug2Z6at",
        "colab_type": "text"
      },
      "source": [
        "*   Rule 1: If the two arrays differ in their number of dimensions, the shape of the\n",
        "one with fewer dimensions is padded with ones on its leading (left) side.\n",
        "*   Rule 2: If the shape of the two arrays does not match in any dimension, the array\n",
        "with shape equal to 1 in that dimension is stretched to match the other shape.\n",
        "*  Rule 3: If in any dimension the sizes disagree and neither is equal to 1, an error is\n",
        "raised.\n",
        "\n"
      ]
    },
    {
      "cell_type": "code",
      "metadata": {
        "id": "ZBV4zO8daJjV",
        "colab_type": "code",
        "colab": {}
      },
      "source": [
        "M = np.ones((2, 3))\n",
        "a = np.arange(3)\n",
        "print(\"M = \", M)\n",
        "print(\"a = \", a)\n",
        "M + a"
      ],
      "execution_count": 0,
      "outputs": []
    },
    {
      "cell_type": "code",
      "metadata": {
        "id": "HGwxEUJXcb02",
        "colab_type": "code",
        "colab": {}
      },
      "source": [
        "a = np.arange(3).reshape((3, 1))\n",
        "b = np.arange(3)\n",
        "a + b"
      ],
      "execution_count": 0,
      "outputs": []
    },
    {
      "cell_type": "code",
      "metadata": {
        "id": "zC9QJ0IbciyY",
        "colab_type": "code",
        "colab": {}
      },
      "source": [
        "M = np.ones((3, 2))\n",
        "a = np.arange(3)\n",
        "print(\"ERROR SHOULD BE GENERATED\")\n",
        "M + a"
      ],
      "execution_count": 0,
      "outputs": []
    },
    {
      "cell_type": "code",
      "metadata": {
        "id": "vTf2GuancuUO",
        "colab_type": "code",
        "colab": {}
      },
      "source": [
        "a[:, np.newaxis].shape\n",
        "M + a[:, np.newaxis]"
      ],
      "execution_count": 0,
      "outputs": []
    },
    {
      "cell_type": "code",
      "metadata": {
        "id": "ZlM5rCRZdAbc",
        "colab_type": "code",
        "colab": {}
      },
      "source": [
        "np.logaddexp(M, a[:, np.newaxis]) # broadcasting works with many other functions"
      ],
      "execution_count": 0,
      "outputs": []
    },
    {
      "cell_type": "markdown",
      "metadata": {
        "id": "QwTAZWe9eKnU",
        "colab_type": "text"
      },
      "source": [
        "##Broadcasting in Practice"
      ]
    },
    {
      "cell_type": "code",
      "metadata": {
        "id": "6YNMkAkBeLqi",
        "colab_type": "code",
        "colab": {}
      },
      "source": [
        "X = np.random.random((10, 3))"
      ],
      "execution_count": 0,
      "outputs": []
    },
    {
      "cell_type": "code",
      "metadata": {
        "id": "QN5zKkGkeZY7",
        "colab_type": "code",
        "colab": {}
      },
      "source": [
        "Xmean = X.mean(0)\n",
        "Xmean"
      ],
      "execution_count": 0,
      "outputs": []
    },
    {
      "cell_type": "code",
      "metadata": {
        "id": "w1JXoDpHecr4",
        "colab_type": "code",
        "colab": {}
      },
      "source": [
        "X_centered = X - Xmean\n",
        "X_centered.mean(0)"
      ],
      "execution_count": 0,
      "outputs": []
    },
    {
      "cell_type": "code",
      "metadata": {
        "id": "Y9CO9zEwelLI",
        "colab_type": "code",
        "colab": {}
      },
      "source": [
        "# x and y have 50 steps from 0 to 5\n",
        "x = np.linspace(0, 5, 50)\n",
        "y = np.linspace(0, 5, 50)[:, np.newaxis]\n",
        "z = np.sin(x) ** 10 + np.cos(10 + y * x) * np.cos(x)\n",
        "\n",
        "%matplotlib inline\n",
        "import matplotlib.pyplot as plt\n",
        "\n",
        "plt.imshow(z, origin='lower', extent=[0, 5, 0, 5],\n",
        "cmap='viridis')\n",
        "plt.colorbar();"
      ],
      "execution_count": 0,
      "outputs": []
    },
    {
      "cell_type": "markdown",
      "metadata": {
        "id": "wFAcdzTKkS-l",
        "colab_type": "text"
      },
      "source": [
        "#Comparisons, Masks, and Boolean Logic"
      ]
    },
    {
      "cell_type": "markdown",
      "metadata": {
        "id": "KKVOjoeNkVDE",
        "colab_type": "text"
      },
      "source": [
        "##Example: Obesity Rate"
      ]
    },
    {
      "cell_type": "code",
      "metadata": {
        "id": "cBfd0hEOkY45",
        "colab_type": "code",
        "colab": {}
      },
      "source": [
        "import numpy as np\n",
        "from vega_datasets import data\n",
        "\n",
        "d_obesity = data.obesity()\n",
        "d_rate = np.array(d_obesity['rate'])\n",
        "\n",
        "%matplotlib inline\n",
        "import matplotlib.pyplot as plt\n",
        "import seaborn; seaborn.set() # set plot styles\n",
        "plt.hist(d_rate, 10);"
      ],
      "execution_count": 0,
      "outputs": []
    },
    {
      "cell_type": "markdown",
      "metadata": {
        "id": "AYA7KU4-r1io",
        "colab_type": "text"
      },
      "source": [
        "##Comparison Operators as ufuncs"
      ]
    },
    {
      "cell_type": "markdown",
      "metadata": {
        "id": "8VR3RcKSd_va",
        "colab_type": "text"
      },
      "source": [
        "| Operator\t    | Equivalent ufunc    || Operator\t   | Equivalent ufunc    |\n",
        "|---------------|---------------------||---------------|---------------------|\n",
        "|``==``         |``np.equal``         ||``!=``         |``np.not_equal``     |\n",
        "|``<``          |``np.less``          ||``<=``         |``np.less_equal``    |\n",
        "|``>``          |``np.greater``       ||``>=``         |``np.greater_equal`` |"
      ]
    },
    {
      "cell_type": "code",
      "metadata": {
        "id": "sNjp-Drsr6yF",
        "colab_type": "code",
        "colab": {}
      },
      "source": [
        "import numpy as np\n",
        "x = np.array([1, 2, 3, 4, 5])\n",
        "print(x)\n",
        "print(x < 3)  # less than\n",
        "print(x > 3)  # greater than\n",
        "print(x <= 3) # less than or equal\n",
        "print(x == 3) # equal \n",
        "print(x != 3) # not equal\n",
        "print(x >= 3) # greater than or equal \n",
        "print((2 * x) == (x ** 2))"
      ],
      "execution_count": 0,
      "outputs": []
    },
    {
      "cell_type": "code",
      "metadata": {
        "id": "NVh1z_5Es8uT",
        "colab_type": "code",
        "colab": {}
      },
      "source": [
        "rng = np.random.RandomState(0)\n",
        "x = rng.randint(10, size=(3, 4))\n",
        "x"
      ],
      "execution_count": 0,
      "outputs": []
    },
    {
      "cell_type": "code",
      "metadata": {
        "id": "SJ11Uvkjs-DR",
        "colab_type": "code",
        "colab": {}
      },
      "source": [
        "x < 6"
      ],
      "execution_count": 0,
      "outputs": []
    },
    {
      "cell_type": "markdown",
      "metadata": {
        "id": "4LowofYnvcXC",
        "colab_type": "text"
      },
      "source": [
        "##Working with Boolean Arrays"
      ]
    },
    {
      "cell_type": "code",
      "metadata": {
        "id": "rKOOXcY_vdmi",
        "colab_type": "code",
        "colab": {}
      },
      "source": [
        "print(x)"
      ],
      "execution_count": 0,
      "outputs": []
    },
    {
      "cell_type": "code",
      "metadata": {
        "id": "avF6Zq9nfws5",
        "colab_type": "code",
        "colab": {}
      },
      "source": [
        "# how many values less than 6?\n",
        "np.count_nonzero(x < 6)"
      ],
      "execution_count": 0,
      "outputs": []
    },
    {
      "cell_type": "code",
      "metadata": {
        "id": "JgHetFd5f1xL",
        "colab_type": "code",
        "colab": {}
      },
      "source": [
        "np.sum(x < 6)"
      ],
      "execution_count": 0,
      "outputs": []
    },
    {
      "cell_type": "code",
      "metadata": {
        "id": "a9M0uGYgf5d_",
        "colab_type": "code",
        "colab": {}
      },
      "source": [
        "# how many values less than 6 in each row?\n",
        "np.sum(x < 6, axis=1)"
      ],
      "execution_count": 0,
      "outputs": []
    },
    {
      "cell_type": "code",
      "metadata": {
        "id": "jrK66jGAf9ZK",
        "colab_type": "code",
        "colab": {}
      },
      "source": [
        "# are there any values greater than 8?\n",
        "np.any(x > 8)"
      ],
      "execution_count": 0,
      "outputs": []
    },
    {
      "cell_type": "code",
      "metadata": {
        "id": "-cnHlTEsgFmB",
        "colab_type": "code",
        "colab": {}
      },
      "source": [
        "# are there any values less than zero?\n",
        "np.any(x < 0)"
      ],
      "execution_count": 0,
      "outputs": []
    },
    {
      "cell_type": "code",
      "metadata": {
        "id": "oZNLzYMVgJAg",
        "colab_type": "code",
        "colab": {}
      },
      "source": [
        "# are all values less than 10?\n",
        "np.all(x < 10)"
      ],
      "execution_count": 0,
      "outputs": []
    },
    {
      "cell_type": "code",
      "metadata": {
        "id": "D_xK7NopgL-w",
        "colab_type": "code",
        "colab": {}
      },
      "source": [
        "# are all values equal to 6?\n",
        " np.all(x == 6)"
      ],
      "execution_count": 0,
      "outputs": []
    },
    {
      "cell_type": "code",
      "metadata": {
        "id": "JUHlilGpheHH",
        "colab_type": "code",
        "colab": {}
      },
      "source": [
        "# are all values in each row less than 8?\n",
        "np.all(x < 8, axis=1)"
      ],
      "execution_count": 0,
      "outputs": []
    },
    {
      "cell_type": "code",
      "metadata": {
        "id": "i9mET0jEjda5",
        "colab_type": "code",
        "colab": {}
      },
      "source": [
        "import numpy as np\n",
        "from vega_datasets import data\n",
        "\n",
        "d_obesity = data.obesity()\n",
        "d_rate = np.array(d_obesity['rate'])\n",
        "\n",
        "print(np.sum((d_rate > 0.1) & (d_rate < 1.0)))\n",
        "print(np.sum(~( (d_rate <= 0.1) | (d_rate >= 1) )))"
      ],
      "execution_count": 0,
      "outputs": []
    },
    {
      "cell_type": "code",
      "metadata": {
        "id": "oQxs1VAM0gQD",
        "colab_type": "code",
        "colab": {}
      },
      "source": [
        "print(\"Number states without obesity: \", np.sum(d_rate == 0))\n",
        "print(\"Number states with obesity: \", np.sum(d_rate != 0))\n",
        "print(\"States with more than 0.15 obesity rate:\", np.sum(d_rate > 0.15))\n",
        "print(\"States with < 0.15 obesity rate:\", np.sum((d_rate > 0) & (d_rate < 0.15)))"
      ],
      "execution_count": 0,
      "outputs": []
    },
    {
      "cell_type": "markdown",
      "metadata": {
        "id": "rCILRjEh1T3K",
        "colab_type": "text"
      },
      "source": [
        "##Boolean Arrays as Masks"
      ]
    },
    {
      "cell_type": "code",
      "metadata": {
        "id": "XmdoxPB91W2l",
        "colab_type": "code",
        "colab": {}
      },
      "source": [
        "x"
      ],
      "execution_count": 0,
      "outputs": []
    },
    {
      "cell_type": "code",
      "metadata": {
        "id": "JJaEJ66L3-6r",
        "colab_type": "code",
        "colab": {}
      },
      "source": [
        "x < 5"
      ],
      "execution_count": 0,
      "outputs": []
    },
    {
      "cell_type": "code",
      "metadata": {
        "id": "LiOlpA5w4Eba",
        "colab_type": "code",
        "colab": {}
      },
      "source": [
        "x[x < 5]"
      ],
      "execution_count": 0,
      "outputs": []
    },
    {
      "cell_type": "code",
      "metadata": {
        "id": "QiyLW8M7Cf6h",
        "colab_type": "code",
        "colab": {}
      },
      "source": [
        "import numpy as np\n",
        "from vega_datasets import data\n",
        "\n",
        "d_cars = data.cars()\n",
        "d_cars.head()\n",
        "d_weights = np.array(d_cars['Weight_in_lbs'])\n",
        "d_cylinders = np.array(d_cars['Cylinders'])\n",
        "d_power = np.array(d_cars['Horsepower'])\n",
        "\n",
        "d_heavy = (d_weights > 2500)\n",
        "d_four_cylinders = (d_cylinders == 4)\n",
        "\n",
        "# Nan values are present! Use special form of median and max\n",
        "print(\"Median power of heavy cars (horsepower): \",\n",
        " np.nanmedian(d_power[d_heavy]))\n",
        "print(\"Median power of four-cylinder cars (horsepower): \",\n",
        " np.nanmedian(d_power[d_four_cylinders]))\n",
        "print(\"Maximum power of heavy cars (horsepower): \",\n",
        " np.nanmax(d_power[d_heavy]))\n",
        "print(\"Median power of non-heavy four-cylinder cars (horsepower):\",\n",
        " np.nanmedian(d_power[d_four_cylinders & ~d_heavy]))"
      ],
      "execution_count": 0,
      "outputs": []
    },
    {
      "cell_type": "code",
      "metadata": {
        "id": "vAW1H1ttcdet",
        "colab_type": "code",
        "colab": {}
      },
      "source": [
        "bool(42), bool(0)"
      ],
      "execution_count": 0,
      "outputs": []
    },
    {
      "cell_type": "code",
      "metadata": {
        "id": "RRJJFXFacyPy",
        "colab_type": "code",
        "colab": {}
      },
      "source": [
        "bool(42 and 0)"
      ],
      "execution_count": 0,
      "outputs": []
    },
    {
      "cell_type": "code",
      "metadata": {
        "id": "r7pAKJhtc0VZ",
        "colab_type": "code",
        "colab": {}
      },
      "source": [
        "bool(42 or 0)"
      ],
      "execution_count": 0,
      "outputs": []
    },
    {
      "cell_type": "code",
      "metadata": {
        "id": "zGj8pCi7c6iJ",
        "colab_type": "code",
        "colab": {}
      },
      "source": [
        "bin(42), bin(59)"
      ],
      "execution_count": 0,
      "outputs": []
    },
    {
      "cell_type": "code",
      "metadata": {
        "id": "XXYCWON-c-Zi",
        "colab_type": "code",
        "colab": {}
      },
      "source": [
        "bin(42 & 59)"
      ],
      "execution_count": 0,
      "outputs": []
    },
    {
      "cell_type": "code",
      "metadata": {
        "id": "j70QLoKjdBtp",
        "colab_type": "code",
        "colab": {}
      },
      "source": [
        "bin(42 | 59)"
      ],
      "execution_count": 0,
      "outputs": []
    },
    {
      "cell_type": "code",
      "metadata": {
        "id": "dyBqmy9ddGnG",
        "colab_type": "code",
        "colab": {}
      },
      "source": [
        "A = np.array([1, 0, 1, 0, 1, 0], dtype=bool)\n",
        "B = np.array([1, 1, 1, 0, 1, 1], dtype=bool)\n",
        "A | B"
      ],
      "execution_count": 0,
      "outputs": []
    },
    {
      "cell_type": "code",
      "metadata": {
        "id": "gljjV6o5dNXK",
        "colab_type": "code",
        "colab": {}
      },
      "source": [
        "print(\"ERROR SHOULD BE GENERATED\")\n",
        "A or B"
      ],
      "execution_count": 0,
      "outputs": []
    },
    {
      "cell_type": "code",
      "metadata": {
        "id": "o1Wg25wRdVUi",
        "colab_type": "code",
        "colab": {}
      },
      "source": [
        "x = np.arange(10)\n",
        "(x > 4) & (x < 8)"
      ],
      "execution_count": 0,
      "outputs": []
    },
    {
      "cell_type": "code",
      "metadata": {
        "id": "5rmbBb2OdYt7",
        "colab_type": "code",
        "colab": {}
      },
      "source": [
        "print(\"ERROR SHOULD BE GENERATED\")\n",
        "(x > 4) and (x < 8)"
      ],
      "execution_count": 0,
      "outputs": []
    },
    {
      "cell_type": "markdown",
      "metadata": {
        "id": "jEs4MVMLdxB5",
        "colab_type": "text"
      },
      "source": [
        "#Fancy Indexing"
      ]
    },
    {
      "cell_type": "markdown",
      "metadata": {
        "id": "g8mBf72SdyY8",
        "colab_type": "text"
      },
      "source": [
        "##Exploring Fancy Indexing"
      ]
    },
    {
      "cell_type": "code",
      "metadata": {
        "id": "vyTn3T5Wd1-C",
        "colab_type": "code",
        "colab": {}
      },
      "source": [
        "import numpy as np\n",
        "rand = np.random.RandomState(42)\n",
        "\n",
        "x = rand.randint(100, size=10)\n",
        "print(x)"
      ],
      "execution_count": 0,
      "outputs": []
    },
    {
      "cell_type": "code",
      "metadata": {
        "id": "L43FHwSNkS_S",
        "colab_type": "code",
        "colab": {}
      },
      "source": [
        " [x[3], x[7], x[2]]"
      ],
      "execution_count": 0,
      "outputs": []
    },
    {
      "cell_type": "code",
      "metadata": {
        "id": "DXPKLESLnN7s",
        "colab_type": "code",
        "colab": {}
      },
      "source": [
        "ind = [3, 7, 4]\n",
        "x[ind]"
      ],
      "execution_count": 0,
      "outputs": []
    },
    {
      "cell_type": "code",
      "metadata": {
        "id": "xZaZw_nTnTpN",
        "colab_type": "code",
        "colab": {}
      },
      "source": [
        "ind = np.array([[3, 7], [4, 5]])\n",
        "x[ind]"
      ],
      "execution_count": 0,
      "outputs": []
    },
    {
      "cell_type": "code",
      "metadata": {
        "id": "B9VoC7H8nYR4",
        "colab_type": "code",
        "colab": {}
      },
      "source": [
        "X = np.arange(12).reshape((3, 4))\n",
        "X"
      ],
      "execution_count": 0,
      "outputs": []
    },
    {
      "cell_type": "code",
      "metadata": {
        "id": "T2YAVJhVniVc",
        "colab_type": "code",
        "colab": {}
      },
      "source": [
        "row = np.array([0, 1, 2])\n",
        "col = np.array([2, 1, 3])\n",
        "X[row, col]"
      ],
      "execution_count": 0,
      "outputs": []
    },
    {
      "cell_type": "markdown",
      "metadata": {
        "id": "yOnLX0oCnoCm",
        "colab_type": "text"
      },
      "source": [
        "**Note:** fancy indexing follows broadcasting rules"
      ]
    },
    {
      "cell_type": "code",
      "metadata": {
        "id": "ghK2mGZUnuTX",
        "colab_type": "code",
        "colab": {}
      },
      "source": [
        "X[row[:, np.newaxis], col]"
      ],
      "execution_count": 0,
      "outputs": []
    },
    {
      "cell_type": "code",
      "metadata": {
        "id": "ItAd3AKpn7tR",
        "colab_type": "code",
        "colab": {}
      },
      "source": [
        "row[:, np.newaxis] * col"
      ],
      "execution_count": 0,
      "outputs": []
    },
    {
      "cell_type": "markdown",
      "metadata": {
        "id": "EowJamjin9S6",
        "colab_type": "text"
      },
      "source": [
        "##Combined Indexing"
      ]
    },
    {
      "cell_type": "code",
      "metadata": {
        "id": "Fbn-vVhXoAFR",
        "colab_type": "code",
        "colab": {}
      },
      "source": [
        "import numpy as np\n",
        "rand = np.random.RandomState(42)\n",
        "\n",
        "X = np.arange(12).reshape((3, 4))\n",
        "X"
      ],
      "execution_count": 0,
      "outputs": []
    },
    {
      "cell_type": "code",
      "metadata": {
        "id": "qWBlngYZ6b-N",
        "colab_type": "code",
        "colab": {}
      },
      "source": [
        "X[2, [2, 0, 1]] #  fancy and simple indices"
      ],
      "execution_count": 0,
      "outputs": []
    },
    {
      "cell_type": "code",
      "metadata": {
        "id": "0UbeJLot6fjK",
        "colab_type": "code",
        "colab": {}
      },
      "source": [
        "X[1:, [2, 0, 1]] # fancy indexing with slicing"
      ],
      "execution_count": 0,
      "outputs": []
    },
    {
      "cell_type": "code",
      "metadata": {
        "id": "0smmm72i6mmc",
        "colab_type": "code",
        "colab": {}
      },
      "source": [
        "mask = np.array([1, 0, 1, 0], dtype=bool)\n",
        "X[row[:, np.newaxis], mask] # fancy indexing with masking"
      ],
      "execution_count": 0,
      "outputs": []
    },
    {
      "cell_type": "markdown",
      "metadata": {
        "id": "MaSBbH4S6tsg",
        "colab_type": "text"
      },
      "source": [
        "##Example: Selecting Random Points"
      ]
    },
    {
      "cell_type": "code",
      "metadata": {
        "id": "BPA6bhf76u07",
        "colab_type": "code",
        "colab": {}
      },
      "source": [
        "mean = [0, 0]\n",
        "cov = [[1, 2],\n",
        "[2, 5]]\n",
        "X = rand.multivariate_normal(mean, cov, 100)\n",
        "X.shape"
      ],
      "execution_count": 0,
      "outputs": []
    },
    {
      "cell_type": "code",
      "metadata": {
        "id": "mW_sS21560PT",
        "colab_type": "code",
        "colab": {}
      },
      "source": [
        "%matplotlib inline\n",
        "import matplotlib.pyplot as plt\n",
        "import seaborn; seaborn.set() # for plot styling\n",
        "plt.scatter(X[:, 0], X[:, 1]);"
      ],
      "execution_count": 0,
      "outputs": []
    },
    {
      "cell_type": "code",
      "metadata": {
        "id": "59YTAMUl682S",
        "colab_type": "code",
        "colab": {}
      },
      "source": [
        "indices = np.random.choice(X.shape[0], 20, replace=False)\n",
        "indices"
      ],
      "execution_count": 0,
      "outputs": []
    },
    {
      "cell_type": "code",
      "metadata": {
        "id": "ThuP1fLn6-Fb",
        "colab_type": "code",
        "colab": {}
      },
      "source": [
        "selection = X[indices] # fancy indexing here\n",
        "selection.shape"
      ],
      "execution_count": 0,
      "outputs": []
    },
    {
      "cell_type": "code",
      "metadata": {
        "id": "qokXytip7HfW",
        "colab_type": "code",
        "colab": {}
      },
      "source": [
        "plt.scatter(X[:, 0], X[:, 1], alpha=1.0)\n",
        "plt.scatter(selection[:, 0], selection[:, 1], facecolor='red', s=200, alpha=0.2);"
      ],
      "execution_count": 0,
      "outputs": []
    },
    {
      "cell_type": "markdown",
      "metadata": {
        "id": "MpJSXdv-7x5z",
        "colab_type": "text"
      },
      "source": [
        "##Modifying Values with Fancy Indexing"
      ]
    },
    {
      "cell_type": "code",
      "metadata": {
        "id": "cL4jMEb_7zBQ",
        "colab_type": "code",
        "colab": {}
      },
      "source": [
        "x = np.arange(10)\n",
        "i = np.array([2, 1, 8, 4])\n",
        "x[i] = 99\n",
        "print(x)"
      ],
      "execution_count": 0,
      "outputs": []
    },
    {
      "cell_type": "code",
      "metadata": {
        "id": "AU0Rl9xX9Jxo",
        "colab_type": "code",
        "colab": {}
      },
      "source": [
        "x[i] -= 10\n",
        "print(x)"
      ],
      "execution_count": 0,
      "outputs": []
    },
    {
      "cell_type": "code",
      "metadata": {
        "id": "lo_kJWQS9dXV",
        "colab_type": "code",
        "colab": {}
      },
      "source": [
        "x = np.zeros(10)\n",
        "x[[0, 0]] = [4, 6] # note: ~ x[0] = 4, followed by x[0] = 6\n",
        "print(x)"
      ],
      "execution_count": 0,
      "outputs": []
    },
    {
      "cell_type": "code",
      "metadata": {
        "id": "6A74zb3W9m7v",
        "colab_type": "code",
        "colab": {}
      },
      "source": [
        "i = [2, 3, 3, 4, 4, 4]\n",
        "x[i] += 1 # note: x[i] += 1 ~ x[i] = x[i] + 1, NO ACCUMULATION\n",
        "x"
      ],
      "execution_count": 0,
      "outputs": []
    },
    {
      "cell_type": "code",
      "metadata": {
        "id": "atT0oZMS94kd",
        "colab_type": "code",
        "colab": {}
      },
      "source": [
        "x = np.zeros(10)\n",
        "np.add.at(x, i, 1) # if accumulation is needed\n",
        "print(x)"
      ],
      "execution_count": 0,
      "outputs": []
    },
    {
      "cell_type": "markdown",
      "metadata": {
        "id": "qUjJ6UqI-RnC",
        "colab_type": "text"
      },
      "source": [
        "##Example: Binning Data"
      ]
    },
    {
      "cell_type": "code",
      "metadata": {
        "id": "2SMKhZAv-PSd",
        "colab_type": "code",
        "colab": {}
      },
      "source": [
        "np.random.seed(42)\n",
        "x = np.random.randn(100)\n",
        "# compute a histogram by hand\n",
        "bins = np.linspace(-5, 5, 20)\n",
        "counts = np.zeros_like(bins)\n",
        "# find the appropriate bin for each x\n",
        "i = np.searchsorted(bins, x)\n",
        "# add 1 to each of these bins\n",
        "np.add.at(counts, i, 1)\n",
        "# plot the results\n",
        "plt.plot(bins, counts, linestyle='steps');"
      ],
      "execution_count": 0,
      "outputs": []
    },
    {
      "cell_type": "code",
      "metadata": {
        "id": "lUB-GKLmBd1J",
        "colab_type": "code",
        "colab": {}
      },
      "source": [
        "plt.hist(x, bins, histtype='step'); # standard way"
      ],
      "execution_count": 0,
      "outputs": []
    },
    {
      "cell_type": "code",
      "metadata": {
        "id": "_0M9UX_nBioJ",
        "colab_type": "code",
        "colab": {}
      },
      "source": [
        "# small size\n",
        "print(\"NumPy routine:\")\n",
        "%timeit counts, edges = np.histogram(x, bins)\n",
        "print(\"Custom routine:\")\n",
        "%timeit np.add.at(counts, np.searchsorted(bins, x), 1)"
      ],
      "execution_count": 0,
      "outputs": []
    },
    {
      "cell_type": "code",
      "metadata": {
        "id": "iGqwupf1BtJB",
        "colab_type": "code",
        "colab": {}
      },
      "source": [
        "# large size\n",
        "x = np.random.randn(1000000)\n",
        "print(\"NumPy routine:\")\n",
        "%timeit counts, edges = np.histogram(x, bins)\n",
        "print(\"Custom routine:\")\n",
        "%timeit np.add.at(counts, np.searchsorted(bins, x), 1)"
      ],
      "execution_count": 0,
      "outputs": []
    },
    {
      "cell_type": "markdown",
      "metadata": {
        "id": "dIt5hPmLB4A1",
        "colab_type": "text"
      },
      "source": [
        "#Sorting Arrays"
      ]
    },
    {
      "cell_type": "code",
      "metadata": {
        "id": "VrbFGVY4B8h0",
        "colab_type": "code",
        "colab": {}
      },
      "source": [
        "import numpy as np\n",
        "\n",
        "def selection_sort(x):\n",
        "  for i in range(len(x)):\n",
        "    swap = i + np.argmin(x[i:])\n",
        "    (x[i], x[swap]) = (x[swap], x[i])\n",
        "  return x\n",
        "\n",
        "x = np.array([2, 1, 4, 3, 5])\n",
        "selection_sort(x)"
      ],
      "execution_count": 0,
      "outputs": []
    },
    {
      "cell_type": "code",
      "metadata": {
        "id": "U-6Am2J4F1pm",
        "colab_type": "code",
        "colab": {}
      },
      "source": [
        "# drug addict's sort\n",
        "def bogosort(x):\n",
        "  while np.any(x[:-1] > x[1:]):\n",
        "    np.random.shuffle(x)\n",
        "  return x\n",
        "\n",
        "x = np.array([2, 1, 4, 3, 5])\n",
        "bogosort(x)"
      ],
      "execution_count": 0,
      "outputs": []
    },
    {
      "cell_type": "markdown",
      "metadata": {
        "id": "M0H8CnwYGDoo",
        "colab_type": "text"
      },
      "source": [
        "##Fast Sorting in NumPy: np.sort and np.argsort"
      ]
    },
    {
      "cell_type": "code",
      "metadata": {
        "id": "Gbf6VclVF9Tl",
        "colab_type": "code",
        "colab": {}
      },
      "source": [
        "x = np.array([2, 1, 4, 3, 5])\n",
        "np.sort(x)"
      ],
      "execution_count": 0,
      "outputs": []
    },
    {
      "cell_type": "code",
      "metadata": {
        "id": "hDA7Wq5mKYhU",
        "colab_type": "code",
        "colab": {}
      },
      "source": [
        "x.sort()\n",
        "print(x)"
      ],
      "execution_count": 0,
      "outputs": []
    },
    {
      "cell_type": "code",
      "metadata": {
        "id": "zThwROtNKeDe",
        "colab_type": "code",
        "colab": {}
      },
      "source": [
        "x = np.array([2, 1, 4, 3, 5])\n",
        "i = np.argsort(x)\n",
        "print(\"indices\", i)\n",
        "x[i]"
      ],
      "execution_count": 0,
      "outputs": []
    },
    {
      "cell_type": "code",
      "metadata": {
        "id": "vfVTmAxuKrsv",
        "colab_type": "code",
        "colab": {}
      },
      "source": [
        "rand = np.random.RandomState(42)\n",
        "X = rand.randint(0, 10, (4, 6))\n",
        "print(X)"
      ],
      "execution_count": 0,
      "outputs": []
    },
    {
      "cell_type": "code",
      "metadata": {
        "id": "xj8pJQFiKw3m",
        "colab_type": "code",
        "colab": {}
      },
      "source": [
        "# sort each column of X\n",
        "np.sort(X, axis=0)"
      ],
      "execution_count": 0,
      "outputs": []
    },
    {
      "cell_type": "code",
      "metadata": {
        "id": "vm-QDk-IKytu",
        "colab_type": "code",
        "colab": {}
      },
      "source": [
        "# sort each row of X\n",
        "np.sort(X, axis=1)"
      ],
      "execution_count": 0,
      "outputs": []
    },
    {
      "cell_type": "markdown",
      "metadata": {
        "id": "GdKsCcdhK9Jn",
        "colab_type": "text"
      },
      "source": [
        "##Partial Sorts: Partitioning"
      ]
    },
    {
      "cell_type": "code",
      "metadata": {
        "id": "qVDD_YFCK8cY",
        "colab_type": "code",
        "colab": {}
      },
      "source": [
        "x = np.array([7, 2, 3, 1, 6, 5, 4])\n",
        "np.partition(x, 3) # 3 smallest values in the array"
      ],
      "execution_count": 0,
      "outputs": []
    },
    {
      "cell_type": "code",
      "metadata": {
        "id": "qCTgFWO_LRHJ",
        "colab_type": "code",
        "colab": {}
      },
      "source": [
        "np.partition(X, 2, axis=1)"
      ],
      "execution_count": 0,
      "outputs": []
    },
    {
      "cell_type": "markdown",
      "metadata": {
        "id": "6VdIMsLFLatg",
        "colab_type": "text"
      },
      "source": [
        "##Example: k-Nearest Neighbors"
      ]
    },
    {
      "cell_type": "code",
      "metadata": {
        "id": "nbeQCvAbLcC8",
        "colab_type": "code",
        "colab": {}
      },
      "source": [
        "X = rand.rand(10, 2)\n",
        "%matplotlib inline\n",
        "import matplotlib.pyplot as plt\n",
        "import seaborn; seaborn.set() # Plot styling\n",
        "plt.scatter(X[:, 0], X[:, 1], s=100);"
      ],
      "execution_count": 0,
      "outputs": []
    },
    {
      "cell_type": "code",
      "metadata": {
        "id": "EjobSx7jMJ7R",
        "colab_type": "code",
        "colab": {}
      },
      "source": [
        "dist_sq = np.sum((X[:,np.newaxis,:] - X[np.newaxis,:,:]) ** 2, axis=-1)\n",
        "dist_sq.diagonal() # check that each point has 0 distance to itself"
      ],
      "execution_count": 0,
      "outputs": []
    },
    {
      "cell_type": "code",
      "metadata": {
        "id": "-fe9ey0mM1ic",
        "colab_type": "code",
        "colab": {}
      },
      "source": [
        "nearest = np.argsort(dist_sq, axis=1)\n",
        "print(nearest)"
      ],
      "execution_count": 0,
      "outputs": []
    },
    {
      "cell_type": "code",
      "metadata": {
        "id": "-RU_BGtRNGYL",
        "colab_type": "code",
        "colab": {}
      },
      "source": [
        "K = 2\n",
        "nearest_partition = np.argpartition(dist_sq, K + 1, axis=1)\n",
        "\n",
        "plt.scatter(X[:, 0], X[:, 1], s=100)\n",
        "# draw lines from each point to its two nearest neighbors\n",
        "K = 2\n",
        "for i in range(X.shape[0]):\n",
        "  for j in nearest_partition[i, :K+1]:\n",
        "    # plot a line from X[i] to X[j]\n",
        "    # use some zip magic to make it happen:\n",
        "    plt.plot(*zip(X[j], X[i]), color='black')"
      ],
      "execution_count": 0,
      "outputs": []
    },
    {
      "cell_type": "markdown",
      "metadata": {
        "id": "hyZbxuTZ6o-8",
        "colab_type": "text"
      },
      "source": [
        "#Structured Data: NumPy’s Structured Arrays"
      ]
    },
    {
      "cell_type": "code",
      "metadata": {
        "id": "-gGNmxha8rnh",
        "colab_type": "code",
        "colab": {}
      },
      "source": [
        "name = ['Alice', 'Bob', 'Cathy', 'Doug']\n",
        "age = [25, 45, 37, 19]\n",
        "weight = [55.0, 85.5, 68.0, 61.5]"
      ],
      "execution_count": 0,
      "outputs": []
    },
    {
      "cell_type": "code",
      "metadata": {
        "id": "NCcYgIvx8taU",
        "colab_type": "code",
        "colab": {}
      },
      "source": [
        "data = np.zeros(4, dtype={'names':('name', 'age', 'weight'),\n",
        "'formats':('U10', 'i4', 'f8')})\n",
        "print(data.dtype)"
      ],
      "execution_count": 0,
      "outputs": []
    },
    {
      "cell_type": "code",
      "metadata": {
        "id": "dLALZILg8xht",
        "colab_type": "code",
        "colab": {}
      },
      "source": [
        "data['name'] = name\n",
        "data['age'] = age\n",
        "data['weight'] = weight\n",
        "print(data)"
      ],
      "execution_count": 0,
      "outputs": []
    },
    {
      "cell_type": "code",
      "metadata": {
        "id": "dpG3yPu981ue",
        "colab_type": "code",
        "colab": {}
      },
      "source": [
        "# Get all names\n",
        "print(data['name'])\n",
        "# Get first row of data\n",
        "print(data[0])\n",
        "# Get the name from the last row\n",
        "print(data[-1]['name'])\n",
        "print(data[data['age'] < 30]['name'])"
      ],
      "execution_count": 0,
      "outputs": []
    },
    {
      "cell_type": "markdown",
      "metadata": {
        "id": "hPPE6H8S6q1a",
        "colab_type": "text"
      },
      "source": [
        "##Creating Structured Arrays"
      ]
    },
    {
      "cell_type": "markdown",
      "metadata": {
        "id": "xjlFQvYPeWG0",
        "colab_type": "text"
      },
      "source": [
        "| Character        | Description           | Example                             |\n",
        "| ---------        | -----------           | -------                             | \n",
        "| ``'b'``          | Byte                  | ``np.dtype('b')``                   |\n",
        "| ``'i'``          | Signed integer        | ``np.dtype('i4') == np.int32``      |\n",
        "| ``'u'``          | Unsigned integer      | ``np.dtype('u1') == np.uint8``      |\n",
        "| ``'f'``          | Floating point        | ``np.dtype('f8') == np.int64``      |\n",
        "| ``'c'``          | Complex floating point| ``np.dtype('c16') == np.complex128``|\n",
        "| ``'S'``, ``'a'`` | String                | ``np.dtype('S5')``                  |\n",
        "| ``'U'``          | Unicode string        | ``np.dtype('U') == np.str_``        |\n",
        "| ``'V'``          | Raw data (void)       | ``np.dtype('V') == np.void``        |"
      ]
    },
    {
      "cell_type": "code",
      "metadata": {
        "id": "p4S84R829O3y",
        "colab_type": "code",
        "colab": {}
      },
      "source": [
        "np.dtype({'names':('name', 'age', 'weight'),\n",
        "'formats':('U10', 'i4', 'f8')})"
      ],
      "execution_count": 0,
      "outputs": []
    },
    {
      "cell_type": "code",
      "metadata": {
        "id": "8YTD7AQV9e4Q",
        "colab_type": "code",
        "colab": {}
      },
      "source": [
        "np.dtype({'names':('name', 'age', 'weight'),\n",
        "'formats':((np.str_, 10), int, np.float32)})"
      ],
      "execution_count": 0,
      "outputs": []
    },
    {
      "cell_type": "code",
      "metadata": {
        "id": "JcZG3DIn9gNQ",
        "colab_type": "code",
        "colab": {}
      },
      "source": [
        "np.dtype([('name', 'S10'), ('age', 'i4'), ('weight', 'f8')])"
      ],
      "execution_count": 0,
      "outputs": []
    },
    {
      "cell_type": "code",
      "metadata": {
        "id": "rwa4Yrhe9jtD",
        "colab_type": "code",
        "colab": {}
      },
      "source": [
        "np.dtype('S10,i4,f8')"
      ],
      "execution_count": 0,
      "outputs": []
    },
    {
      "cell_type": "markdown",
      "metadata": {
        "id": "YDVEDec892Jo",
        "colab_type": "text"
      },
      "source": [
        "##More Advanced Compound Types"
      ]
    },
    {
      "cell_type": "code",
      "metadata": {
        "id": "5liR72BQ91ED",
        "colab_type": "code",
        "colab": {}
      },
      "source": [
        "tp = np.dtype([('id', 'i8'), ('mat', 'f8', (3, 3))])\n",
        "X = np.zeros(1, dtype=tp)\n",
        "print(X[0])\n",
        "print(X['mat'][0])"
      ],
      "execution_count": 0,
      "outputs": []
    },
    {
      "cell_type": "markdown",
      "metadata": {
        "id": "vnfia-9v-HYI",
        "colab_type": "text"
      },
      "source": [
        "##RecordArrays: Structured Arrays with a Twist"
      ]
    },
    {
      "cell_type": "code",
      "metadata": {
        "id": "iy0w5j5J-IjM",
        "colab_type": "code",
        "colab": {}
      },
      "source": [
        "print(data['age'])\n",
        "data_rec = data.view(np.recarray)\n",
        "print(data_rec.age) # fields can be accessed as attributes"
      ],
      "execution_count": 0,
      "outputs": []
    },
    {
      "cell_type": "code",
      "metadata": {
        "id": "2Cb4XgaR-ulr",
        "colab_type": "code",
        "colab": {}
      },
      "source": [
        "%timeit data['age']\n",
        "%timeit data_rec['age']\n",
        "%timeit data_rec.age"
      ],
      "execution_count": 0,
      "outputs": []
    },
    {
      "cell_type": "code",
      "metadata": {
        "id": "SaVHcLcYWQlC",
        "colab_type": "code",
        "colab": {}
      },
      "source": [
        ""
      ],
      "execution_count": 0,
      "outputs": []
    },
    {
      "cell_type": "markdown",
      "metadata": {
        "id": "fs7DMnHfmGEo",
        "colab_type": "text"
      },
      "source": [
        "# Few points to recall"
      ]
    },
    {
      "cell_type": "markdown",
      "metadata": {
        "id": "XNJI9GMfYbPS",
        "colab_type": "text"
      },
      "source": [
        "**Copy on slice**"
      ]
    },
    {
      "cell_type": "code",
      "metadata": {
        "id": "fj3kwJjkYiTk",
        "colab_type": "code",
        "colab": {}
      },
      "source": [
        "x = np.arange(3 * 5).reshape(3, 5)\n",
        "print(\"Input array:\")\n",
        "print(x)\n",
        "\n",
        "y = x[1:, 2:4]\n",
        "print(\"Sliced array:\")\n",
        "print(y)\n",
        "\n",
        "y[0, 0] = 123\n",
        "\n",
        "print(\"X after setting y[0,0] = 123\")\n",
        "print(x)\n",
        "\n",
        "print(\"Y after setting y[0,0] = 123\")\n",
        "print(y)"
      ],
      "execution_count": 0,
      "outputs": []
    },
    {
      "cell_type": "markdown",
      "metadata": {
        "id": "oIys0JgyZZS5",
        "colab_type": "text"
      },
      "source": [
        "**flatten() and ravel()**"
      ]
    },
    {
      "cell_type": "code",
      "metadata": {
        "id": "et8C1GXFZeMM",
        "colab_type": "code",
        "colab": {}
      },
      "source": [
        "x = np.arange(3 * 5).reshape(3, 5)\n",
        "print(\"Input array:\")\n",
        "print(x)\n",
        "\n",
        "y = x.flatten()\n",
        "print(\"Flattened array:\")\n",
        "print(y)\n",
        "\n",
        "z = x.ravel()\n",
        "print(\"Raveled array:\")\n",
        "print(z)\n",
        "\n",
        "y[0] = 123\n",
        "z[1] = 987\n",
        "\n",
        "print(\"X:\")\n",
        "print(x)\n",
        "print(\"Y:\")\n",
        "print(y)\n",
        "print(\"Z:\")\n",
        "print(z)"
      ],
      "execution_count": 0,
      "outputs": []
    },
    {
      "cell_type": "markdown",
      "metadata": {
        "id": "mV_UzZGRZ-Rc",
        "colab_type": "text"
      },
      "source": [
        "**transpose does not copy**"
      ]
    },
    {
      "cell_type": "code",
      "metadata": {
        "id": "osZWyJAhZ_nt",
        "colab_type": "code",
        "colab": {}
      },
      "source": [
        "x = np.arange(3 * 5).reshape(3, 5)\n",
        "print(\"Input array:\")\n",
        "print(x)\n",
        "\n",
        "y = x.transpose(0, 1)\n",
        "print(\"After setting axes order to (0, 1) nothing should be changed:\")\n",
        "print(y)\n",
        "\n",
        "z = x.transpose(1, 0)\n",
        "print(\"After setting axes order to (1, 0) we get transposed array:\")\n",
        "print(z)"
      ],
      "execution_count": 0,
      "outputs": []
    },
    {
      "cell_type": "code",
      "metadata": {
        "id": "jl31xjloaohU",
        "colab_type": "code",
        "colab": {}
      },
      "source": [
        "x = np.arange(2 * 3 * 2 * 3).reshape(2, 3, 2, 3)\n",
        "print(\"Input array:\")\n",
        "print(x)\n",
        "\n",
        "y = x.transpose(2, 0, 1, 3)\n",
        "print(\"After setting axes order to (2, 0, 1, 3):\")\n",
        "print(y)\n",
        "\n",
        "print(\"Comparing x[1, 2, 0, 2] and y[0, 1, 2, 2]:\")\n",
        "print(x[1, 2, 0, 2] == y[0, 1, 2, 2])"
      ],
      "execution_count": 0,
      "outputs": []
    },
    {
      "cell_type": "code",
      "metadata": {
        "id": "z7Lnth0Ybfd6",
        "colab_type": "code",
        "colab": {}
      },
      "source": [
        "x = np.arange(3 * 5).reshape(3, 5)\n",
        "print(\"Input array:\")\n",
        "print(x)\n",
        "\n",
        "y = x.T\n",
        "print(\"In case of 2-dimentional array we can use np.ndarray.T method for transposing:\")\n",
        "print(y)"
      ],
      "execution_count": 0,
      "outputs": []
    },
    {
      "cell_type": "code",
      "metadata": {
        "id": "3PN4WHBPbw7v",
        "colab_type": "code",
        "colab": {}
      },
      "source": [
        "x = np.arange(3 * 5).reshape(3, 5)\n",
        "print(\"Input array:\")\n",
        "print(x)\n",
        "\n",
        "y = x.transpose(1, 0)\n",
        "y[:] = 500\n",
        "\n",
        "print(\"X after setting all values of transposed array to 500:\")\n",
        "print(x)\n",
        "\n",
        "print(\"Y after setting all values of transposed array to 500:\")\n",
        "print(y)"
      ],
      "execution_count": 0,
      "outputs": []
    },
    {
      "cell_type": "markdown",
      "metadata": {
        "id": "woKOMQ1PcVum",
        "colab_type": "text"
      },
      "source": [
        "**broadcasting with many axis**"
      ]
    },
    {
      "cell_type": "code",
      "metadata": {
        "id": "F3o6LeJDcW8z",
        "colab_type": "code",
        "colab": {}
      },
      "source": [
        "a = np.arange(2 * 3 * 4).reshape(2, 3, 4)\n",
        "\n",
        "b1 = a.reshape(1, 2, 1, 3, 4)\n",
        "b2 = (a * 1000).reshape(2, 1, 3, 1 ,4)\n",
        "\n",
        "print(\"b1 shape:\", b1.shape)\n",
        "print(\"b2 shape:\", b2.shape)\n",
        "print(\"b1+b2 shape:\", (b1+b2).shape)"
      ],
      "execution_count": 0,
      "outputs": []
    },
    {
      "cell_type": "markdown",
      "metadata": {
        "id": "ZmUmClZMfryy",
        "colab_type": "text"
      },
      "source": [
        "**numerical derivative (x[1:] - x[:-1]) / dt**"
      ]
    },
    {
      "cell_type": "code",
      "metadata": {
        "id": "VZc2MTqiftjE",
        "colab_type": "code",
        "colab": {}
      },
      "source": [
        "x = np.arange(3 * 4).reshape(3, 4)**2\n",
        "dt0 = 1e-5\n",
        "dt1 = 1e-5\n",
        "\n",
        "print(\"Input x:\")\n",
        "print(x)\n",
        "\n",
        "print(\"dx/dt0 (partial over axis=0):\")\n",
        "print((x[1:]-x[:-1]) / dt0)\n",
        "\n",
        "print(\"dx/dt1 (partial over axis=1):\")\n",
        "print((x[:, 1:]-x[:, :-1]) / dt1)"
      ],
      "execution_count": 0,
      "outputs": []
    }
  ]
}