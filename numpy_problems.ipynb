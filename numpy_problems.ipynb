{
  "nbformat": 4,
  "nbformat_minor": 0,
  "metadata": {
    "colab": {
      "name": "Untitled3.ipynb",
      "version": "0.3.2",
      "provenance": [],
      "include_colab_link": true
    },
    "kernelspec": {
      "name": "python3",
      "display_name": "Python 3"
    }
  },
  "cells": [
    {
      "cell_type": "markdown",
      "metadata": {
        "id": "view-in-github",
        "colab_type": "text"
      },
      "source": [
        "<a href=\"https://colab.research.google.com/github/fbeilstein/machine_learning/blob/master/numpy_problems.ipynb\" target=\"_parent\"><img src=\"https://colab.research.google.com/assets/colab-badge.svg\" alt=\"Open In Colab\"/></a>"
      ]
    },
    {
      "cell_type": "markdown",
      "metadata": {
        "id": "Fc1otDyN-fuR",
        "colab_type": "text"
      },
      "source": [
        "#Beginner"
      ]
    },
    {
      "cell_type": "markdown",
      "metadata": {
        "colab_type": "text",
        "id": "BFMFfsY-AS6T"
      },
      "source": [
        "##Import numpy as np and see the version"
      ]
    },
    {
      "cell_type": "markdown",
      "metadata": {
        "colab_type": "text",
        "id": "y248NJQcAS6W"
      },
      "source": [
        "**Problem:**\n",
        "Import numpy as `np` and print the version number."
      ]
    },
    {
      "cell_type": "code",
      "metadata": {
        "colab_type": "code",
        "id": "SgcNX8JJAS6Y",
        "colab": {}
      },
      "source": [
        "# Enter your code here"
      ],
      "execution_count": 0,
      "outputs": []
    },
    {
      "cell_type": "markdown",
      "metadata": {
        "colab_type": "text",
        "id": "7DXHlc_JAS6a"
      },
      "source": [
        "###Solution:"
      ]
    },
    {
      "cell_type": "code",
      "metadata": {
        "colab_type": "code",
        "outputId": "cb67d530-2828-41c6-e285-220e4cb6f69c",
        "id": "SbCkDN9gAS6a",
        "colab": {
          "base_uri": "https://localhost:8080/",
          "height": 34
        }
      },
      "source": [
        "import numpy as np\n",
        "print(np.__version__)"
      ],
      "execution_count": 0,
      "outputs": [
        {
          "output_type": "stream",
          "text": [
            "1.16.4\n"
          ],
          "name": "stdout"
        }
      ]
    },
    {
      "cell_type": "markdown",
      "metadata": {
        "id": "HtmfapQk_Dxp",
        "colab_type": "text"
      },
      "source": [
        "##How to create a 1D array?"
      ]
    },
    {
      "cell_type": "markdown",
      "metadata": {
        "id": "GnRvRs7r_IZ5",
        "colab_type": "text"
      },
      "source": [
        "**Problem:**\n",
        "Create a 1D array of numbers from 0 to 9\n",
        "\n",
        "**Desired output:**\n",
        "array([0, 1, 2, 3, 4, 5, 6, 7, 8, 9])"
      ]
    },
    {
      "cell_type": "code",
      "metadata": {
        "id": "bvvsMQwy-eNv",
        "colab_type": "code",
        "colab": {}
      },
      "source": [
        "# Enter your code here"
      ],
      "execution_count": 0,
      "outputs": []
    },
    {
      "cell_type": "markdown",
      "metadata": {
        "id": "eapHc7oJ_T3Z",
        "colab_type": "text"
      },
      "source": [
        "###Solution:"
      ]
    },
    {
      "cell_type": "code",
      "metadata": {
        "id": "ajnAv76d_XWx",
        "colab_type": "code",
        "colab": {
          "base_uri": "https://localhost:8080/",
          "height": 34
        },
        "outputId": "1d9e487a-4502-47e7-a3e0-a722f45ab6db"
      },
      "source": [
        "import numpy as np\n",
        "\n",
        "arr = np.arange(10)\n",
        "arr"
      ],
      "execution_count": 2,
      "outputs": [
        {
          "output_type": "execute_result",
          "data": {
            "text/plain": [
              "array([0, 1, 2, 3, 4, 5, 6, 7, 8, 9])"
            ]
          },
          "metadata": {
            "tags": []
          },
          "execution_count": 2
        }
      ]
    },
    {
      "cell_type": "markdown",
      "metadata": {
        "id": "17T3oa0v-tk7",
        "colab_type": "text"
      },
      "source": [
        "#Intermediate"
      ]
    },
    {
      "cell_type": "markdown",
      "metadata": {
        "colab_type": "text",
        "id": "aVWHQH0iARzJ"
      },
      "source": [
        "##Import numpy as np and see the version"
      ]
    },
    {
      "cell_type": "markdown",
      "metadata": {
        "colab_type": "text",
        "id": "-KLGxsjkARzO"
      },
      "source": [
        "**Problem:**\n",
        "Import numpy as `np` and print the version number."
      ]
    },
    {
      "cell_type": "code",
      "metadata": {
        "colab_type": "code",
        "id": "zKWuW9QBARzP",
        "colab": {}
      },
      "source": [
        "# Enter your code here"
      ],
      "execution_count": 0,
      "outputs": []
    },
    {
      "cell_type": "markdown",
      "metadata": {
        "colab_type": "text",
        "id": "YpU9-8sbARzR"
      },
      "source": [
        "###Solution:"
      ]
    },
    {
      "cell_type": "code",
      "metadata": {
        "colab_type": "code",
        "outputId": "cb67d530-2828-41c6-e285-220e4cb6f69c",
        "id": "Qni-GacyARzS",
        "colab": {
          "base_uri": "https://localhost:8080/",
          "height": 34
        }
      },
      "source": [
        "import numpy as np\n",
        "print(np.__version__)"
      ],
      "execution_count": 0,
      "outputs": [
        {
          "output_type": "stream",
          "text": [
            "1.16.4\n"
          ],
          "name": "stdout"
        }
      ]
    },
    {
      "cell_type": "markdown",
      "metadata": {
        "id": "swRQNT4x-vp5",
        "colab_type": "text"
      },
      "source": [
        "#Advanced"
      ]
    },
    {
      "cell_type": "markdown",
      "metadata": {
        "id": "ehIPgaTK-xY6",
        "colab_type": "text"
      },
      "source": [
        "#Expert"
      ]
    }
  ]
}