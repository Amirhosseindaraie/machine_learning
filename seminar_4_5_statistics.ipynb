{
  "nbformat": 4,
  "nbformat_minor": 0,
  "metadata": {
    "colab": {
      "name": "seminar_4.5_statistics.ipynb",
      "version": "0.3.2",
      "provenance": [],
      "include_colab_link": true
    },
    "kernelspec": {
      "name": "python3",
      "display_name": "Python 3"
    }
  },
  "cells": [
    {
      "cell_type": "markdown",
      "metadata": {
        "id": "view-in-github",
        "colab_type": "text"
      },
      "source": [
        "<a href=\"https://colab.research.google.com/github/fbeilstein/machine_learning/blob/master/seminar_4_5_statistics.ipynb\" target=\"_parent\"><img src=\"https://colab.research.google.com/assets/colab-badge.svg\" alt=\"Open In Colab\"/></a>"
      ]
    },
    {
      "cell_type": "markdown",
      "metadata": {
        "id": "rOmWNJaq7y1x",
        "colab_type": "text"
      },
      "source": [
        "1.   Generate data with meadian less than mean. Think about skewed data. \n",
        "2.   Generate more or less uniform set of points and calculate mean and median. Add one outlier. Calculate mean and median again. Draw conclusion how do outliers influence these estimators.\n",
        "3.   Find $\\mu_{MLE}$ and $\\sigma_{MLE}$ for the normaly distributed iids.\n",
        "4.   Why $IQR(sample)$ is always less than $Range(sample)$?\n",
        "\n",
        "\n"
      ]
    },
    {
      "cell_type": "markdown",
      "metadata": {
        "id": "HJHy-wA5f3Ea",
        "colab_type": "text"
      },
      "source": [
        "#Types of data"
      ]
    },
    {
      "cell_type": "markdown",
      "metadata": {
        "id": "laaYHvytgtCz",
        "colab_type": "text"
      },
      "source": [
        "**Problem:**\n",
        "\n",
        "Give an examlpe for each of the following types of data (consult lecture notes if needed)\n",
        "\n",
        "* Nominal\n",
        "* Ordinal\n",
        "* Interval\n",
        "* Ratio\n",
        "\n",
        "Think which operations are possible on each of this types (consider table from lecture notes if needed).\n",
        "Think what ambiguity cares applying \"unsupport\" operations on data, try coming up with about some neat example.\n"
      ]
    },
    {
      "cell_type": "markdown",
      "metadata": {
        "id": "TIGvmXx3h45M",
        "colab_type": "text"
      },
      "source": [
        "#Population and sample"
      ]
    },
    {
      "cell_type": "markdown",
      "metadata": {
        "id": "nQaiL83Wh91U",
        "colab_type": "text"
      },
      "source": [
        "**Problem:**\n",
        "\n",
        "Complete the following function to generate random population of zeros and ones that contains given number of zeros."
      ]
    },
    {
      "cell_type": "code",
      "metadata": {
        "id": "Y3-jno8qi1U8",
        "colab_type": "code",
        "colab": {
          "base_uri": "https://localhost:8080/",
          "height": 34
        },
        "outputId": "1a65ea13-6256-4dc9-fc85-5d3a2f56441d"
      },
      "source": [
        "import numpy as np\n",
        "np.random.seed(0)\n",
        "\n",
        "def generate_population(num_zeros, num_ones):\n",
        "  population = np.hstack([np.ones(num_ones), np.zeros(num_zeros)])\n",
        "  np.random.shuffle(population)\n",
        "  return population\n",
        "\n",
        "print(generate_population(3, 7))"
      ],
      "execution_count": 11,
      "outputs": [
        {
          "output_type": "stream",
          "text": [
            "[1. 0. 1. 0. 1. 1. 0. 1. 1. 1.]\n"
          ],
          "name": "stdout"
        }
      ]
    },
    {
      "cell_type": "code",
      "metadata": {
        "id": "AQnxeijtgbUD",
        "colab_type": "code",
        "colab": {
          "base_uri": "https://localhost:8080/",
          "height": 34
        },
        "outputId": "497b7d72-2dfb-4848-e6e7-6c0a1946d937"
      },
      "source": [
        "%%html\n",
        "<span style=\"color:blue\">some *blue* text</span>."
      ],
      "execution_count": 1,
      "outputs": [
        {
          "output_type": "display_data",
          "data": {
            "text/html": [
              "<span style=\"color:blue\">some *blue* text</span>."
            ],
            "text/plain": [
              "<IPython.core.display.HTML object>"
            ]
          },
          "metadata": {
            "tags": []
          }
        }
      ]
    }
  ]
}