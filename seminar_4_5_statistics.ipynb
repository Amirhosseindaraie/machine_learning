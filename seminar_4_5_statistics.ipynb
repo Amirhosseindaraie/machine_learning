{
  "nbformat": 4,
  "nbformat_minor": 0,
  "metadata": {
    "colab": {
      "name": "seminar_4.5_statistics.ipynb",
      "version": "0.3.2",
      "provenance": [],
      "machine_shape": "hm",
      "include_colab_link": true
    },
    "kernelspec": {
      "name": "python3",
      "display_name": "Python 3"
    }
  },
  "cells": [
    {
      "cell_type": "markdown",
      "metadata": {
        "id": "view-in-github",
        "colab_type": "text"
      },
      "source": [
        "<a href=\"https://colab.research.google.com/github/fbeilstein/machine_learning/blob/master/seminar_4_5_statistics.ipynb\" target=\"_parent\"><img src=\"https://colab.research.google.com/assets/colab-badge.svg\" alt=\"Open In Colab\"/></a>"
      ]
    },
    {
      "cell_type": "markdown",
      "metadata": {
        "id": "rOmWNJaq7y1x",
        "colab_type": "text"
      },
      "source": [
        "1.   Generate data with meadian less than mean. Think about skewed data. \n",
        "2.   Generate more or less uniform set of points and calculate mean and median. Add one outlier. Calculate mean and median again. Draw conclusion how do outliers influence these estimators.\n",
        "3.   Find $\\mu_{MLE}$ and $\\sigma_{MLE}$ for the normaly distributed iids.\n",
        "4.   Why $IQR(sample)$ is always less than $Range(sample)$?\n",
        "\n",
        "\n"
      ]
    },
    {
      "cell_type": "markdown",
      "metadata": {
        "id": "HJHy-wA5f3Ea",
        "colab_type": "text"
      },
      "source": [
        "#Types of data"
      ]
    },
    {
      "cell_type": "markdown",
      "metadata": {
        "id": "laaYHvytgtCz",
        "colab_type": "text"
      },
      "source": [
        "**Problem:**\n",
        "\n",
        "Give an examlpe for each of the following types of data (consult lecture notes if needed)\n",
        "\n",
        "* Nominal\n",
        "* Ordinal\n",
        "* Interval\n",
        "* Ratio\n",
        "\n",
        "Think which operations are possible on each of this types (consider table from lecture notes if needed).\n",
        "Think what ambiguity cares applying \"unsupport\" operations on data, try coming up with about some neat example.\n"
      ]
    },
    {
      "cell_type": "markdown",
      "metadata": {
        "id": "TIGvmXx3h45M",
        "colab_type": "text"
      },
      "source": [
        "#Population and sample"
      ]
    },
    {
      "cell_type": "markdown",
      "metadata": {
        "id": "nQaiL83Wh91U",
        "colab_type": "text"
      },
      "source": [
        "**Problem:**\n",
        "\n",
        "Complete the following function to generate random population of zeros and ones that contains given number of zeros."
      ]
    },
    {
      "cell_type": "code",
      "metadata": {
        "id": "Y3-jno8qi1U8",
        "colab_type": "code",
        "colab": {
          "base_uri": "https://localhost:8080/",
          "height": 34
        },
        "outputId": "ff9f4856-6b4c-419c-ccb7-b00a4d4a1229"
      },
      "source": [
        "import numpy as np\n",
        "np.random.seed(0)\n",
        "\n",
        "def generate_population(num_zeros, num_ones):\n",
        "  population = np.hstack([np.ones(num_ones), np.zeros(num_zeros)])\n",
        "  np.random.shuffle(population)\n",
        "  return population\n",
        "\n",
        "print(generate_population(3, 2))"
      ],
      "execution_count": 2,
      "outputs": [
        {
          "output_type": "stream",
          "text": [
            "[0. 1. 1. 0. 0.]\n"
          ],
          "name": "stdout"
        }
      ]
    },
    {
      "cell_type": "markdown",
      "metadata": {
        "id": "k2NXsxnHrlS-",
        "colab_type": "text"
      },
      "source": [
        "**Problem:**\n",
        "\n",
        "Complete the following function that should generate all possible samples from given population (with replacement!).\n",
        "Do not use populations larger than 5 for testing (*subproblem:* think why)."
      ]
    },
    {
      "cell_type": "code",
      "metadata": {
        "id": "VFFft2yumZYj",
        "colab_type": "code",
        "colab": {
          "base_uri": "https://localhost:8080/",
          "height": 170
        },
        "outputId": "6c9302d7-1f78-4bf8-b5a6-5da266a81380"
      },
      "source": [
        "import numpy as np\n",
        "import itertools\n",
        "\n",
        "def generate_samples(population, elems_in_sample):\n",
        "  return np.array(list(itertools.product(population, repeat=elems_in_sample)))\n",
        "\n",
        "\n",
        "test_arr = np.array([1, 0, 1])\n",
        "samples = generate_samples(test_arr, 2)\n",
        "print(samples)"
      ],
      "execution_count": 13,
      "outputs": [
        {
          "output_type": "stream",
          "text": [
            "[[1 1]\n",
            " [1 0]\n",
            " [1 1]\n",
            " [0 1]\n",
            " [0 0]\n",
            " [0 1]\n",
            " [1 1]\n",
            " [1 0]\n",
            " [1 1]]\n"
          ],
          "name": "stdout"
        }
      ]
    },
    {
      "cell_type": "markdown",
      "metadata": {
        "id": "vaFhVQK9soEI",
        "colab_type": "text"
      },
      "source": [
        "**Problem:**\n",
        "\n",
        "Complete the following function that should calculate percentage of ones in a given array of zeros and ones."
      ]
    },
    {
      "cell_type": "code",
      "metadata": {
        "id": "SDw8V19Rs29I",
        "colab_type": "code",
        "colab": {
          "base_uri": "https://localhost:8080/",
          "height": 34
        },
        "outputId": "cd84476d-73e7-4957-af8a-4155f3cf22a2"
      },
      "source": [
        "import numpy as np\n",
        "\n",
        "def percentage_of_ones(array):\n",
        "  return np.sum(array, axis = 1)/array.shape[1]\n",
        "\n",
        "test_array = np.array([[1, 1], [1, 0], [1, 1], [0, 1], [0, 0], [0, 1], [1, 1], [1, 0], [1, 1]])\n",
        "print(percentage_of_ones(test_array))"
      ],
      "execution_count": 15,
      "outputs": [
        {
          "output_type": "stream",
          "text": [
            "[1.  0.5 1.  0.5 0.  0.5 1.  0.5 1. ]\n"
          ],
          "name": "stdout"
        }
      ]
    },
    {
      "cell_type": "code",
      "metadata": {
        "id": "XEHSFcc4j8_W",
        "colab_type": "code",
        "colab": {
          "base_uri": "https://localhost:8080/",
          "height": 1000
        },
        "outputId": "77cd7c83-2ac3-4358-8252-0b370ecb7366"
      },
      "source": [
        "# A Python program to print all  \n",
        "# combinations of given length \n",
        "from itertools import combinations \n",
        "  \n",
        "# Get all combinations of [1, 2, 3] \n",
        "# and length 2 \n",
        "comb = combinations(np.array([1., 0., 1., 0., 1., 1., 0., 1., 1., 1.]), 6) \n",
        "  \n",
        "# Print the obtained combinations \n",
        "for i in list(comb): \n",
        "    print(i)"
      ],
      "execution_count": 19,
      "outputs": [
        {
          "output_type": "stream",
          "text": [
            "(1.0, 0.0, 1.0, 0.0, 1.0, 1.0)\n",
            "(1.0, 0.0, 1.0, 0.0, 1.0, 0.0)\n",
            "(1.0, 0.0, 1.0, 0.0, 1.0, 1.0)\n",
            "(1.0, 0.0, 1.0, 0.0, 1.0, 1.0)\n",
            "(1.0, 0.0, 1.0, 0.0, 1.0, 1.0)\n",
            "(1.0, 0.0, 1.0, 0.0, 1.0, 0.0)\n",
            "(1.0, 0.0, 1.0, 0.0, 1.0, 1.0)\n",
            "(1.0, 0.0, 1.0, 0.0, 1.0, 1.0)\n",
            "(1.0, 0.0, 1.0, 0.0, 1.0, 1.0)\n",
            "(1.0, 0.0, 1.0, 0.0, 0.0, 1.0)\n",
            "(1.0, 0.0, 1.0, 0.0, 0.0, 1.0)\n",
            "(1.0, 0.0, 1.0, 0.0, 0.0, 1.0)\n",
            "(1.0, 0.0, 1.0, 0.0, 1.0, 1.0)\n",
            "(1.0, 0.0, 1.0, 0.0, 1.0, 1.0)\n",
            "(1.0, 0.0, 1.0, 0.0, 1.0, 1.0)\n",
            "(1.0, 0.0, 1.0, 1.0, 1.0, 0.0)\n",
            "(1.0, 0.0, 1.0, 1.0, 1.0, 1.0)\n",
            "(1.0, 0.0, 1.0, 1.0, 1.0, 1.0)\n",
            "(1.0, 0.0, 1.0, 1.0, 1.0, 1.0)\n",
            "(1.0, 0.0, 1.0, 1.0, 0.0, 1.0)\n",
            "(1.0, 0.0, 1.0, 1.0, 0.0, 1.0)\n",
            "(1.0, 0.0, 1.0, 1.0, 0.0, 1.0)\n",
            "(1.0, 0.0, 1.0, 1.0, 1.0, 1.0)\n",
            "(1.0, 0.0, 1.0, 1.0, 1.0, 1.0)\n",
            "(1.0, 0.0, 1.0, 1.0, 1.0, 1.0)\n",
            "(1.0, 0.0, 1.0, 1.0, 0.0, 1.0)\n",
            "(1.0, 0.0, 1.0, 1.0, 0.0, 1.0)\n",
            "(1.0, 0.0, 1.0, 1.0, 0.0, 1.0)\n",
            "(1.0, 0.0, 1.0, 1.0, 1.0, 1.0)\n",
            "(1.0, 0.0, 1.0, 1.0, 1.0, 1.0)\n",
            "(1.0, 0.0, 1.0, 1.0, 1.0, 1.0)\n",
            "(1.0, 0.0, 1.0, 0.0, 1.0, 1.0)\n",
            "(1.0, 0.0, 1.0, 0.0, 1.0, 1.0)\n",
            "(1.0, 0.0, 1.0, 0.0, 1.0, 1.0)\n",
            "(1.0, 0.0, 1.0, 1.0, 1.0, 1.0)\n",
            "(1.0, 0.0, 0.0, 1.0, 1.0, 0.0)\n",
            "(1.0, 0.0, 0.0, 1.0, 1.0, 1.0)\n",
            "(1.0, 0.0, 0.0, 1.0, 1.0, 1.0)\n",
            "(1.0, 0.0, 0.0, 1.0, 1.0, 1.0)\n",
            "(1.0, 0.0, 0.0, 1.0, 0.0, 1.0)\n",
            "(1.0, 0.0, 0.0, 1.0, 0.0, 1.0)\n",
            "(1.0, 0.0, 0.0, 1.0, 0.0, 1.0)\n",
            "(1.0, 0.0, 0.0, 1.0, 1.0, 1.0)\n",
            "(1.0, 0.0, 0.0, 1.0, 1.0, 1.0)\n",
            "(1.0, 0.0, 0.0, 1.0, 1.0, 1.0)\n",
            "(1.0, 0.0, 0.0, 1.0, 0.0, 1.0)\n",
            "(1.0, 0.0, 0.0, 1.0, 0.0, 1.0)\n",
            "(1.0, 0.0, 0.0, 1.0, 0.0, 1.0)\n",
            "(1.0, 0.0, 0.0, 1.0, 1.0, 1.0)\n",
            "(1.0, 0.0, 0.0, 1.0, 1.0, 1.0)\n",
            "(1.0, 0.0, 0.0, 1.0, 1.0, 1.0)\n",
            "(1.0, 0.0, 0.0, 0.0, 1.0, 1.0)\n",
            "(1.0, 0.0, 0.0, 0.0, 1.0, 1.0)\n",
            "(1.0, 0.0, 0.0, 0.0, 1.0, 1.0)\n",
            "(1.0, 0.0, 0.0, 1.0, 1.0, 1.0)\n",
            "(1.0, 0.0, 1.0, 1.0, 0.0, 1.0)\n",
            "(1.0, 0.0, 1.0, 1.0, 0.0, 1.0)\n",
            "(1.0, 0.0, 1.0, 1.0, 0.0, 1.0)\n",
            "(1.0, 0.0, 1.0, 1.0, 1.0, 1.0)\n",
            "(1.0, 0.0, 1.0, 1.0, 1.0, 1.0)\n",
            "(1.0, 0.0, 1.0, 1.0, 1.0, 1.0)\n",
            "(1.0, 0.0, 1.0, 0.0, 1.0, 1.0)\n",
            "(1.0, 0.0, 1.0, 0.0, 1.0, 1.0)\n",
            "(1.0, 0.0, 1.0, 0.0, 1.0, 1.0)\n",
            "(1.0, 0.0, 1.0, 1.0, 1.0, 1.0)\n",
            "(1.0, 0.0, 1.0, 0.0, 1.0, 1.0)\n",
            "(1.0, 0.0, 1.0, 0.0, 1.0, 1.0)\n",
            "(1.0, 0.0, 1.0, 0.0, 1.0, 1.0)\n",
            "(1.0, 0.0, 1.0, 1.0, 1.0, 1.0)\n",
            "(1.0, 0.0, 0.0, 1.0, 1.0, 1.0)\n",
            "(1.0, 1.0, 0.0, 1.0, 1.0, 0.0)\n",
            "(1.0, 1.0, 0.0, 1.0, 1.0, 1.0)\n",
            "(1.0, 1.0, 0.0, 1.0, 1.0, 1.0)\n",
            "(1.0, 1.0, 0.0, 1.0, 1.0, 1.0)\n",
            "(1.0, 1.0, 0.0, 1.0, 0.0, 1.0)\n",
            "(1.0, 1.0, 0.0, 1.0, 0.0, 1.0)\n",
            "(1.0, 1.0, 0.0, 1.0, 0.0, 1.0)\n",
            "(1.0, 1.0, 0.0, 1.0, 1.0, 1.0)\n",
            "(1.0, 1.0, 0.0, 1.0, 1.0, 1.0)\n",
            "(1.0, 1.0, 0.0, 1.0, 1.0, 1.0)\n",
            "(1.0, 1.0, 0.0, 1.0, 0.0, 1.0)\n",
            "(1.0, 1.0, 0.0, 1.0, 0.0, 1.0)\n",
            "(1.0, 1.0, 0.0, 1.0, 0.0, 1.0)\n",
            "(1.0, 1.0, 0.0, 1.0, 1.0, 1.0)\n",
            "(1.0, 1.0, 0.0, 1.0, 1.0, 1.0)\n",
            "(1.0, 1.0, 0.0, 1.0, 1.0, 1.0)\n",
            "(1.0, 1.0, 0.0, 0.0, 1.0, 1.0)\n",
            "(1.0, 1.0, 0.0, 0.0, 1.0, 1.0)\n",
            "(1.0, 1.0, 0.0, 0.0, 1.0, 1.0)\n",
            "(1.0, 1.0, 0.0, 1.0, 1.0, 1.0)\n",
            "(1.0, 1.0, 1.0, 1.0, 0.0, 1.0)\n",
            "(1.0, 1.0, 1.0, 1.0, 0.0, 1.0)\n",
            "(1.0, 1.0, 1.0, 1.0, 0.0, 1.0)\n",
            "(1.0, 1.0, 1.0, 1.0, 1.0, 1.0)\n",
            "(1.0, 1.0, 1.0, 1.0, 1.0, 1.0)\n",
            "(1.0, 1.0, 1.0, 1.0, 1.0, 1.0)\n",
            "(1.0, 1.0, 1.0, 0.0, 1.0, 1.0)\n",
            "(1.0, 1.0, 1.0, 0.0, 1.0, 1.0)\n",
            "(1.0, 1.0, 1.0, 0.0, 1.0, 1.0)\n",
            "(1.0, 1.0, 1.0, 1.0, 1.0, 1.0)\n",
            "(1.0, 1.0, 1.0, 0.0, 1.0, 1.0)\n",
            "(1.0, 1.0, 1.0, 0.0, 1.0, 1.0)\n",
            "(1.0, 1.0, 1.0, 0.0, 1.0, 1.0)\n",
            "(1.0, 1.0, 1.0, 1.0, 1.0, 1.0)\n",
            "(1.0, 1.0, 0.0, 1.0, 1.0, 1.0)\n",
            "(1.0, 0.0, 1.0, 1.0, 0.0, 1.0)\n",
            "(1.0, 0.0, 1.0, 1.0, 0.0, 1.0)\n",
            "(1.0, 0.0, 1.0, 1.0, 0.0, 1.0)\n",
            "(1.0, 0.0, 1.0, 1.0, 1.0, 1.0)\n",
            "(1.0, 0.0, 1.0, 1.0, 1.0, 1.0)\n",
            "(1.0, 0.0, 1.0, 1.0, 1.0, 1.0)\n",
            "(1.0, 0.0, 1.0, 0.0, 1.0, 1.0)\n",
            "(1.0, 0.0, 1.0, 0.0, 1.0, 1.0)\n",
            "(1.0, 0.0, 1.0, 0.0, 1.0, 1.0)\n",
            "(1.0, 0.0, 1.0, 1.0, 1.0, 1.0)\n",
            "(1.0, 0.0, 1.0, 0.0, 1.0, 1.0)\n",
            "(1.0, 0.0, 1.0, 0.0, 1.0, 1.0)\n",
            "(1.0, 0.0, 1.0, 0.0, 1.0, 1.0)\n",
            "(1.0, 0.0, 1.0, 1.0, 1.0, 1.0)\n",
            "(1.0, 0.0, 0.0, 1.0, 1.0, 1.0)\n",
            "(1.0, 1.0, 1.0, 0.0, 1.0, 1.0)\n",
            "(1.0, 1.0, 1.0, 0.0, 1.0, 1.0)\n",
            "(1.0, 1.0, 1.0, 0.0, 1.0, 1.0)\n",
            "(1.0, 1.0, 1.0, 1.0, 1.0, 1.0)\n",
            "(1.0, 1.0, 0.0, 1.0, 1.0, 1.0)\n",
            "(1.0, 1.0, 0.0, 1.0, 1.0, 1.0)\n",
            "(0.0, 1.0, 0.0, 1.0, 1.0, 0.0)\n",
            "(0.0, 1.0, 0.0, 1.0, 1.0, 1.0)\n",
            "(0.0, 1.0, 0.0, 1.0, 1.0, 1.0)\n",
            "(0.0, 1.0, 0.0, 1.0, 1.0, 1.0)\n",
            "(0.0, 1.0, 0.0, 1.0, 0.0, 1.0)\n",
            "(0.0, 1.0, 0.0, 1.0, 0.0, 1.0)\n",
            "(0.0, 1.0, 0.0, 1.0, 0.0, 1.0)\n",
            "(0.0, 1.0, 0.0, 1.0, 1.0, 1.0)\n",
            "(0.0, 1.0, 0.0, 1.0, 1.0, 1.0)\n",
            "(0.0, 1.0, 0.0, 1.0, 1.0, 1.0)\n",
            "(0.0, 1.0, 0.0, 1.0, 0.0, 1.0)\n",
            "(0.0, 1.0, 0.0, 1.0, 0.0, 1.0)\n",
            "(0.0, 1.0, 0.0, 1.0, 0.0, 1.0)\n",
            "(0.0, 1.0, 0.0, 1.0, 1.0, 1.0)\n",
            "(0.0, 1.0, 0.0, 1.0, 1.0, 1.0)\n",
            "(0.0, 1.0, 0.0, 1.0, 1.0, 1.0)\n",
            "(0.0, 1.0, 0.0, 0.0, 1.0, 1.0)\n",
            "(0.0, 1.0, 0.0, 0.0, 1.0, 1.0)\n",
            "(0.0, 1.0, 0.0, 0.0, 1.0, 1.0)\n",
            "(0.0, 1.0, 0.0, 1.0, 1.0, 1.0)\n",
            "(0.0, 1.0, 1.0, 1.0, 0.0, 1.0)\n",
            "(0.0, 1.0, 1.0, 1.0, 0.0, 1.0)\n",
            "(0.0, 1.0, 1.0, 1.0, 0.0, 1.0)\n",
            "(0.0, 1.0, 1.0, 1.0, 1.0, 1.0)\n",
            "(0.0, 1.0, 1.0, 1.0, 1.0, 1.0)\n",
            "(0.0, 1.0, 1.0, 1.0, 1.0, 1.0)\n",
            "(0.0, 1.0, 1.0, 0.0, 1.0, 1.0)\n",
            "(0.0, 1.0, 1.0, 0.0, 1.0, 1.0)\n",
            "(0.0, 1.0, 1.0, 0.0, 1.0, 1.0)\n",
            "(0.0, 1.0, 1.0, 1.0, 1.0, 1.0)\n",
            "(0.0, 1.0, 1.0, 0.0, 1.0, 1.0)\n",
            "(0.0, 1.0, 1.0, 0.0, 1.0, 1.0)\n",
            "(0.0, 1.0, 1.0, 0.0, 1.0, 1.0)\n",
            "(0.0, 1.0, 1.0, 1.0, 1.0, 1.0)\n",
            "(0.0, 1.0, 0.0, 1.0, 1.0, 1.0)\n",
            "(0.0, 0.0, 1.0, 1.0, 0.0, 1.0)\n",
            "(0.0, 0.0, 1.0, 1.0, 0.0, 1.0)\n",
            "(0.0, 0.0, 1.0, 1.0, 0.0, 1.0)\n",
            "(0.0, 0.0, 1.0, 1.0, 1.0, 1.0)\n",
            "(0.0, 0.0, 1.0, 1.0, 1.0, 1.0)\n",
            "(0.0, 0.0, 1.0, 1.0, 1.0, 1.0)\n",
            "(0.0, 0.0, 1.0, 0.0, 1.0, 1.0)\n",
            "(0.0, 0.0, 1.0, 0.0, 1.0, 1.0)\n",
            "(0.0, 0.0, 1.0, 0.0, 1.0, 1.0)\n",
            "(0.0, 0.0, 1.0, 1.0, 1.0, 1.0)\n",
            "(0.0, 0.0, 1.0, 0.0, 1.0, 1.0)\n",
            "(0.0, 0.0, 1.0, 0.0, 1.0, 1.0)\n",
            "(0.0, 0.0, 1.0, 0.0, 1.0, 1.0)\n",
            "(0.0, 0.0, 1.0, 1.0, 1.0, 1.0)\n",
            "(0.0, 0.0, 0.0, 1.0, 1.0, 1.0)\n",
            "(0.0, 1.0, 1.0, 0.0, 1.0, 1.0)\n",
            "(0.0, 1.0, 1.0, 0.0, 1.0, 1.0)\n",
            "(0.0, 1.0, 1.0, 0.0, 1.0, 1.0)\n",
            "(0.0, 1.0, 1.0, 1.0, 1.0, 1.0)\n",
            "(0.0, 1.0, 0.0, 1.0, 1.0, 1.0)\n",
            "(0.0, 1.0, 0.0, 1.0, 1.0, 1.0)\n",
            "(1.0, 0.0, 1.0, 1.0, 0.0, 1.0)\n",
            "(1.0, 0.0, 1.0, 1.0, 0.0, 1.0)\n",
            "(1.0, 0.0, 1.0, 1.0, 0.0, 1.0)\n",
            "(1.0, 0.0, 1.0, 1.0, 1.0, 1.0)\n",
            "(1.0, 0.0, 1.0, 1.0, 1.0, 1.0)\n",
            "(1.0, 0.0, 1.0, 1.0, 1.0, 1.0)\n",
            "(1.0, 0.0, 1.0, 0.0, 1.0, 1.0)\n",
            "(1.0, 0.0, 1.0, 0.0, 1.0, 1.0)\n",
            "(1.0, 0.0, 1.0, 0.0, 1.0, 1.0)\n",
            "(1.0, 0.0, 1.0, 1.0, 1.0, 1.0)\n",
            "(1.0, 0.0, 1.0, 0.0, 1.0, 1.0)\n",
            "(1.0, 0.0, 1.0, 0.0, 1.0, 1.0)\n",
            "(1.0, 0.0, 1.0, 0.0, 1.0, 1.0)\n",
            "(1.0, 0.0, 1.0, 1.0, 1.0, 1.0)\n",
            "(1.0, 0.0, 0.0, 1.0, 1.0, 1.0)\n",
            "(1.0, 1.0, 1.0, 0.0, 1.0, 1.0)\n",
            "(1.0, 1.0, 1.0, 0.0, 1.0, 1.0)\n",
            "(1.0, 1.0, 1.0, 0.0, 1.0, 1.0)\n",
            "(1.0, 1.0, 1.0, 1.0, 1.0, 1.0)\n",
            "(1.0, 1.0, 0.0, 1.0, 1.0, 1.0)\n",
            "(1.0, 1.0, 0.0, 1.0, 1.0, 1.0)\n",
            "(0.0, 1.0, 1.0, 0.0, 1.0, 1.0)\n",
            "(0.0, 1.0, 1.0, 0.0, 1.0, 1.0)\n",
            "(0.0, 1.0, 1.0, 0.0, 1.0, 1.0)\n",
            "(0.0, 1.0, 1.0, 1.0, 1.0, 1.0)\n",
            "(0.0, 1.0, 0.0, 1.0, 1.0, 1.0)\n",
            "(0.0, 1.0, 0.0, 1.0, 1.0, 1.0)\n",
            "(1.0, 1.0, 0.0, 1.0, 1.0, 1.0)\n"
          ],
          "name": "stdout"
        }
      ]
    },
    {
      "cell_type": "code",
      "metadata": {
        "id": "AQnxeijtgbUD",
        "colab_type": "code",
        "colab": {
          "base_uri": "https://localhost:8080/",
          "height": 34
        },
        "outputId": "497b7d72-2dfb-4848-e6e7-6c0a1946d937"
      },
      "source": [
        "%%html\n",
        "<span style=\"color:blue\">some *blue* text</span>."
      ],
      "execution_count": 1,
      "outputs": [
        {
          "output_type": "display_data",
          "data": {
            "text/html": [
              "<span style=\"color:blue\">some *blue* text</span>."
            ],
            "text/plain": [
              "<IPython.core.display.HTML object>"
            ]
          },
          "metadata": {
            "tags": []
          }
        }
      ]
    }
  ]
}