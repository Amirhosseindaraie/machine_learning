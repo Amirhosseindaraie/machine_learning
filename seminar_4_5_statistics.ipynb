{
  "nbformat": 4,
  "nbformat_minor": 0,
  "metadata": {
    "colab": {
      "name": "seminar_4.5_statistics.ipynb",
      "version": "0.3.2",
      "provenance": [],
      "include_colab_link": true
    },
    "kernelspec": {
      "name": "python3",
      "display_name": "Python 3"
    }
  },
  "cells": [
    {
      "cell_type": "markdown",
      "metadata": {
        "id": "view-in-github",
        "colab_type": "text"
      },
      "source": [
        "<a href=\"https://colab.research.google.com/github/fbeilstein/machine_learning/blob/master/seminar_4_5_statistics.ipynb\" target=\"_parent\"><img src=\"https://colab.research.google.com/assets/colab-badge.svg\" alt=\"Open In Colab\"/></a>"
      ]
    },
    {
      "cell_type": "markdown",
      "metadata": {
        "id": "rOmWNJaq7y1x",
        "colab_type": "text"
      },
      "source": [
        "1.   Generate data with meadian less than mean. Think about skewed data. \n",
        "2.   Generate more or less uniform set of points and calculate mean and median. Add one outlier. Calculate mean and median again. Draw conclusion how do outliers influence these estimators.\n",
        "3.   Find $\\mu_{MLE}$ and $\\sigma_{MLE}$ for the normaly distributed iids.\n",
        "4.   Why $IQR(sample)$ is always less than $Range(sample)$?\n",
        "\n",
        "\n"
      ]
    }
  ]
}