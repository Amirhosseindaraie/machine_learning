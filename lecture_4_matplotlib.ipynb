{
  "nbformat": 4,
  "nbformat_minor": 0,
  "metadata": {
    "colab": {
      "name": "lecture_4_matplotlib.ipynb",
      "version": "0.3.2",
      "provenance": [],
      "include_colab_link": true
    },
    "kernelspec": {
      "name": "python3",
      "display_name": "Python 3"
    }
  },
  "cells": [
    {
      "cell_type": "markdown",
      "metadata": {
        "id": "view-in-github",
        "colab_type": "text"
      },
      "source": [
        "<a href=\"https://colab.research.google.com/github/fbeilstein/machine_learning/blob/master/lecture_4_matplotlib.ipynb\" target=\"_parent\"><img src=\"https://colab.research.google.com/assets/colab-badge.svg\" alt=\"Open In Colab\"/></a>"
      ]
    },
    {
      "cell_type": "markdown",
      "metadata": {
        "id": "EvfHx2CDTPD_",
        "colab_type": "text"
      },
      "source": [
        "#General Matplotlib"
      ]
    },
    {
      "cell_type": "markdown",
      "metadata": {
        "id": "oL-_4Aq9TQ5t",
        "colab_type": "text"
      },
      "source": [
        "##Importing matplotlib"
      ]
    },
    {
      "cell_type": "code",
      "metadata": {
        "id": "MfTbCp77TE_k",
        "colab_type": "code",
        "colab": {}
      },
      "source": [
        "import matplotlib as mpl\n",
        "import matplotlib.pyplot as plt"
      ],
      "execution_count": 0,
      "outputs": []
    },
    {
      "cell_type": "markdown",
      "metadata": {
        "id": "2r8a3lq7TzQd",
        "colab_type": "text"
      },
      "source": [
        "##Setting style"
      ]
    },
    {
      "cell_type": "code",
      "metadata": {
        "id": "lSCN1US3T1FX",
        "colab_type": "code",
        "colab": {}
      },
      "source": [
        "plt.style.use('classic')"
      ],
      "execution_count": 0,
      "outputs": []
    }
  ]
}