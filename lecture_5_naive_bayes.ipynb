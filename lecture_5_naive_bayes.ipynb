{
  "nbformat": 4,
  "nbformat_minor": 0,
  "metadata": {
    "colab": {
      "name": "lecture_5_naive_bayes.ipynb",
      "provenance": [],
      "toc_visible": true,
      "include_colab_link": true
    },
    "kernelspec": {
      "name": "python3",
      "display_name": "Python 3"
    }
  },
  "cells": [
    {
      "cell_type": "markdown",
      "metadata": {
        "id": "view-in-github",
        "colab_type": "text"
      },
      "source": [
        "<a href=\"https://colab.research.google.com/github/fbeilstein/machine_learning/blob/master/lecture_5_naive_bayes.ipynb\" target=\"_parent\"><img src=\"https://colab.research.google.com/assets/colab-badge.svg\" alt=\"Open In Colab\"/></a>"
      ]
    },
    {
      "cell_type": "markdown",
      "metadata": {
        "id": "aDqiCnk_5kyM",
        "colab_type": "text"
      },
      "source": [
        "#Concepts of probability theory we will need"
      ]
    },
    {
      "cell_type": "markdown",
      "metadata": {
        "colab_type": "text",
        "id": "WpWxeTOT5Ihi"
      },
      "source": [
        "In this lecture we are in the realm of probability theory.\n",
        "Let me remind you its key concepts.\n",
        "\n",
        "The atoms of every probability theory problem are elementary outcomes.\n",
        "But the key concept is one of an event -- it's a complex outcome that can include multiple elementary outcomes.\n",
        "Formally it's a subset of the set of the elementary outcomes.\n",
        "We assign probabilities to events.\n",
        "Two events may happen at once. \n",
        "For example if we draw dice we can have an even number and a number divisible by $4$ simultaniously.\n",
        "\n",
        "We can ask what is the probability of event $A$ to happen if we know that event $B$ has happened.\n",
        "In a way we pretend that event $B$ has happened but we didn't notice wheither $A$ has also happened and want to guess.\n",
        "The probability of $A$ given $B$ is called the conditional probability $P(A \\mid B)$.\n",
        "Events can also be joined together (they are sets after all) and we can quire for a probability of the joint event $P(A\\cap B)$ or $P(A, B)$. \n",
        "\n",
        "![](https://raw.githubusercontent.com/fbeilstein/machine_learning/master/lecture_5_naive_bayes/inters.png)\n",
        "\n",
        "If\n",
        "\n",
        "$$\n",
        "P(A\\cap B)=P(A)\\cdot P(B).\n",
        "$$\n",
        "\n",
        "events $A$ and $B$ are called independent.\n",
        "Informally independent events refer to unrelated aspects of the phenomenon we are observing.\n",
        "Don't confuse conditional probability with joint probability. \n",
        "Conditional and joint probabilities are connected by formula\n",
        "\n",
        "$$\n",
        "P(A|B)=\\frac{P(A\\cap B)}{P(B)}.\n",
        "$$\n",
        "\n",
        "Another key concept is random variable. Sometimes it's possible to assign a number to each elementary outcome.\n",
        "We then may think that the result of the trial is the number. \n",
        "We can also use analytical function (probability distribution) to assign probability to get a specific number in a trial.\n",
        "The most popular distributions are Uniform, Binomial, Negative Binomial, Geometric, Gaussian, Poisson.\n",
        "\n"
      ]
    },
    {
      "cell_type": "markdown",
      "metadata": {
        "id": "HsRltUtZ5yjA",
        "colab_type": "text"
      },
      "source": [
        "#Bayes' theorem"
      ]
    },
    {
      "cell_type": "markdown",
      "metadata": {
        "id": "yGHWE8Qm5LY3",
        "colab_type": "text"
      },
      "source": [
        "At first Bayes' theorem seems like a simple statement about conditional probabilities\n",
        "\n",
        "$$P(A|B)=\\frac{P(B|A) P(A)}{P(B)}.$$ \n",
        "\n",
        "where\n",
        "$A$ and $B$ are events and $P(B)\\neq 0$.\n",
        "* $P(A|B)$ is a conditional probability: the likelihood of event $A$ given that $B$ is true.\n",
        "* $P(B|A)$ is a conditional probability: the likelihood of event $B$ given that $A$ is true.\n",
        "* $P(A)$ and $P(B)$ are the probabilities of observing $A$ and $B$ independently of each other; this is known as the marginal probability.\n",
        "\n",
        "Let's prove it. \n",
        "By definition of conditional probability (likelihood)\n",
        "\n",
        "$$P(A|B)=\\frac{P(A\\cap B)}{P(B)}.$$\n",
        "\n",
        "and \n",
        "\n",
        "$$P(B|A)=\\frac{P(A\\cap B)}{P(A)}.$$\n",
        "\n",
        "Therefore substituting $P(A\\cap B)$ (joint probability) from the second equation into the first we get Bayes' rule\n",
        "\n",
        "$$P(A|B)=\\frac{P(B|A) \\cdot P(A)}{P(B)}.$$\n",
        "\n",
        "$\\textbf{Q.E.D.}$\n",
        "\n",
        "\n",
        "Bayes therorem proved to be very inflential as it gave rise to Bayesian interpretation of probability.\n",
        "In this intepretation probability measures a “degree of belief.”  Bayes’ theorem then links the degree of belief in a proposition before and after accounting for evidence. For example, suppose it is believed with 50% certainty that a coin is twice as likely to land heads than tails. If the coin is flipped a number of times and the outcomes observed, that degree of belief may rise, fall or remain the same depending on the results.\n",
        "Also Bayes' theorem has many practical applications. One of the is Naive Bayesian classification.\n",
        "\n",
        "There are two jars (red and blue) with white and black balls in them. The red jar has 3 white and 5 black balls in it and blue has 1 white and 9 black balls. In a dark room you randomly choose a jar and pick a ball then go to another brightly lit room to find out that the ball is white. What is the probability that you got the ball from the red jar?\n",
        "\n",
        "$\\blacktriangleleft$\n",
        "$$P(\\text{red jar}\\mid\\text{white ball})=\\frac{P(\\text{white ball }|\\text{ red jar}) \\cdot P(\\text{red jar})}{P(\\text{white ball})}=\\frac{3/8 \\times 1/2}{P(\\text{white ball})}.$$\n",
        "\n",
        "$P(\\text{white ball})$ needs some extra thinking.  You can draw white ball either from red or from blue jar. So\n",
        "\n",
        "$$\n",
        "\\begin{aligned}\n",
        "P(\\text{white ball})&=P(\\text{white ball}\\mid\\text{red jar}) \\cdot P(\\text{red jar})+P(\\text{white ball}\\mid\\text{blue jar})\\cdot P(\\text{blue jar}),\\\\\n",
        "P(\\text{white ball})&=3/8 \\times 1/2+1/10 \\times 1/2 =19/80.\n",
        "\\end{aligned}\n",
        "$$\n",
        "\n",
        "Substitute back to get\n",
        "\n",
        "$$P(\\text{red jar}\\mid\\text{white ball})=\\frac{3/8 \\times 1/2}{19/80}=15/19.$$\n",
        "\n",
        "$\\blacktriangleleft$\n",
        "\n",
        "As we can see it's almost for sure that we have chosen the red jar. That's an expected result as the blue jar containes only 1 white ball and it seems unlikely that we have chosen it.\n",
        "This problem suggests to rewrite denominator in Bayes' rule in an extended form that takes into account all pathways the event $B$ might happen. As a fact we use the Law of total probability\n",
        "\n",
        "$$P(B)=P(B\\mid A)P(A)+P(B\\mid \\neg A)P(\\neg A).$$\n",
        "\n",
        "Extended form of Bayes' rule reads\n",
        "\n",
        "$$P(A|B)=\\frac{P(B|A) P(A)}{P(B\\mid A)P(A)+P(B\\mid \\neg A)P(\\neg A)}.$$\n",
        "\n",
        "In our problem\n",
        "* $A$ - choosing the white ball;\n",
        "* $B$ - choosing the red jar;\n",
        "* $\\neg B$ - choosing the blue jar.\n",
        "\n",
        "Also note that a priori -- before we left the dark room we know that two jars had equal probability $1/2$ to have been chosen (as they were chosen by random). But after we obtained new evidence - realized that we piсked a white ball, a posteriori probabilities changed. Probability that we chose red jar is now $15/19$. \n",
        "\n",
        "$$\\text{New data}\\Longrightarrow \\text{Probability reevaluation}.$$\n",
        "\n",
        "It is believed the more data(evidence) we get the more accurate our final(posterior) probabilities become. \n",
        "Therefore initial (prior) probabilities could be very crude. In fact they could be just rough guesses or frequences of an event occuring in a small number of experiments. We can also adopt a simple and convinient theoretical distribution as our prior: Gaussian or uniform.\n",
        "\n",
        "\n",
        "Note there is specific terminology connected with Bayes' rule: prior, posterior, likelihood, evidence. Informally Bayes' rule can be rewritten as:\n",
        "\n",
        "$$\n",
        "\\text{posterior}=\\frac{\\text{prior}\\times \\text{likelihood}}{\\text{evidence}}.\n",
        "$$\n",
        "\n",
        "where\n",
        "* $\\text{posterior(probability)} = P(A \\mid B)$;\n",
        "* $\\text{prior(probability)} =P(A)$;\n",
        "* $\\text{likelihood} =P(A|B)$;\n",
        "* $\\text{evidence} =P(B)$.\n",
        "\n",
        "Actually Bayesian theorem became kind of a nerd icon. For example, take a look at this Bayesian t-shirt\n",
        "\n",
        "![](https://raw.githubusercontent.com/fbeilstein/machine_learning/master/lecture_5_naive_bayes/tt.png)\n",
        "\n",
        "\n",
        "\n"
      ]
    },
    {
      "cell_type": "markdown",
      "metadata": {
        "id": "G1pOhUtRvJlb",
        "colab_type": "text"
      },
      "source": [
        "#Bayes theorem example: Monty Hall problem"
      ]
    },
    {
      "cell_type": "markdown",
      "metadata": {
        "id": "xP2AGqw2q2w7",
        "colab_type": "text"
      },
      "source": [
        "The Monty Hall problem is a brain teaser, in the form of a probability puzzle, loosely based on the American television game show *Let's Make a Deal* and named after its original host, Monty Hall. \n",
        "\n",
        "*Suppose you're on a game show, and you're given the choice of three doors: Behind one door is a car; behind the others, goats. You pick a door, say No. 1, and the host, who knows what's behind the doors, opens another door, say No. 3, which has a goat. He then says to you, \"Do you want to pick door No. 2?\" Is it to your advantage to switch your choice?*\n",
        "\n",
        "Here is how it is featured in a 2008 movie \"21\" (directed by Robert Luketic)."
      ]
    },
    {
      "cell_type": "code",
      "metadata": {
        "id": "PvcIWREKWVXC",
        "colab_type": "code",
        "outputId": "d29bdeb1-38d7-4293-c973-6722e65ce6f3",
        "colab": {
          "base_uri": "https://localhost:8080/",
          "height": 421
        }
      },
      "source": [
        "from IPython.display import YouTubeVideo\n",
        "YouTubeVideo('EWdcOID8zxU', width=600, height=400, start=286, end=379)"
      ],
      "execution_count": 0,
      "outputs": [
        {
          "output_type": "execute_result",
          "data": {
            "text/html": [
              "\n",
              "        <iframe\n",
              "            width=\"600\"\n",
              "            height=\"400\"\n",
              "            src=\"https://www.youtube.com/embed/EWdcOID8zxU?start=286&end=379\"\n",
              "            frameborder=\"0\"\n",
              "            allowfullscreen\n",
              "        ></iframe>\n",
              "        "
            ],
            "text/plain": [
              "<IPython.lib.display.YouTubeVideo at 0x7efe750b7a58>"
            ],
            "image/jpeg": "[encoded data removed]"
          },
          "metadata": {
            "tags": []
          },
          "execution_count": 3
        }
      ]
    },
    {
      "cell_type": "markdown",
      "metadata": {
        "id": "XQKgGQAOrVpX",
        "colab_type": "text"
      },
      "source": [
        "Let's solve this puzzle with ~~change of variables~~ Bayes.\n",
        "We have three types of events coming into play:\n",
        "* $Ci$ - car is behind door $i$, e.g. $C2$ means that the car is behind $2$-nd door;\n",
        "* $Pi$ - players chooses door $i$;\n",
        "* $Hi$ - host opens the door $i$.\n",
        "\n",
        "Before any choises are made we know that unconditional probability $P(Ci)=1/3$.\n",
        "Suppose the player initially chooses the door $1$ ($P1$ event) and the host opened the door $3$ ($H3$ event).\n",
        "\n",
        "What is the probabilty $P(C2 | P1, H3)$? We use the Bayes theorem to get\n",
        "\n",
        "\n",
        "$$\n",
        "\\require{cancel}\n",
        "P(C2 | P1, H3) = \\frac{P(P1, H3|C2) \\cdot P(C2)}{P(P1, H3)} =\\frac{P(H3|P1, C2) \\cdot \\cancel{P(P1)}\\cdot P(C2)}{P(H3|P1)\\cdot\\cancel{P(P1)}}=\\frac{P(H3|P1, C2)\\cdot P(C2)}{P(H3|P1)}=\\frac{1\\times1/3}{1/2}=2/3,\n",
        "$$\n",
        "\n",
        "where we have used the fact that $P(H3|P1, C2)=1$ as the host knows where the car is and deliberately opens the door with the goat behind it.\n",
        "We have also used definition of conditional probability a couple of times.\n",
        "Probability of the event that the car is behind door $2$ is now $2/3$ instead of $1/3$ that's why the best strategy is to switch your initial choise."
      ]
    },
    {
      "cell_type": "markdown",
      "metadata": {
        "id": "7J76chGs52RT",
        "colab_type": "text"
      },
      "source": [
        "#Classification problem"
      ]
    },
    {
      "cell_type": "markdown",
      "metadata": {
        "id": "4yJWr5ta5W8_",
        "colab_type": "text"
      },
      "source": [
        "Consider problem of classification: we have a \"thing\" that we should label with \"tags\". In other words we want to identify which of several categories an object belongs.\n",
        "* Say we have a letter and the set of tags is $\\{\\text{spam},\\neg \\text{spam}=\\text{ham}\\}$. This is the example of binary classification.\n",
        "* In an automotive app we want to determine wheither an object is a car, a pedestrian or a sign. This is multiclass classification.\n",
        "* We want to attribute person to a country he was born. \n",
        "* We want attribute a person to a profession \n",
        "\n",
        "In the terminology of machine learning, classification is considered an instance of supervised learning, i.e., learning where a training set of correctly identified observations is available. The corresponding unsupervised procedure is known as clustering, and involves grouping data into categories based on some measure of inherent similarity or distance.\n",
        "An algorithm that implements classification, especially in a concrete implementation, is known as a classifier. "
      ]
    },
    {
      "cell_type": "markdown",
      "metadata": {
        "id": "sSewHu2-SfBi",
        "colab_type": "text"
      },
      "source": [
        "#Naive Bayes"
      ]
    },
    {
      "cell_type": "markdown",
      "metadata": {
        "id": "0KIX63Z4SkHT",
        "colab_type": "text"
      },
      "source": [
        "Naive Bayes classifiers are a family of simple probabilistic classifiers based on applying Bayes' theorem with strong (naive) independence assumptions between the features.\n",
        "Naive Bayes is a simple technique for constructing classifiers: models that assign class labels to problem instances, represented as vectors of feature values, where the class labels are drawn from some finite set. There is not a single algorithm for training such classifiers, but a family of algorithms based on a common principle: all naive Bayes classifiers assume that the value of a particular feature is independent of the value of any other feature, given the class variable. For example, a fruit may be considered to be an apple if it is red, round, and about $10 \\text{cm}$ in diameter. A naive Bayes classifier considers each of these features to contribute independently to the probability that this fruit is an apple, regardless of any possible correlations between the color, roundness, and diameter features.\n",
        "\n",
        "In reality we have not one but a few random variables that characterize the thing we want to classify. Usually they are called features $f_1, f_2, \\dots f_i, \\dots f_N$. In Naive Bayes we assume that this features are independent. \n",
        "\n",
        "$$P(f_1, f_2, \\dots f_i, \\dots f_N |C_k) = P(f_1 | C_k) P(f_2 | C_k) \\dots P(f_i | C_k) \\dots P(f_N |C_k).$$\n",
        "\n",
        "Suppose we want to use Bayes theorem to calculate the probability that our thing belongs to class $C_k$ given $f_1 = x_1, f_2=x_2, \\dots f_i=x_i, \\dots f_N=x_N$\n",
        "\n",
        "$$P(x_1, x_2, \\dots x_i, \\dots x_N |C_k) = \\frac{P(x_1 | C_k) P(x_2 | C_k) \\dots P(x_i | C_k) \\dots P(x_N |C_k) P(C_k)}{P(x_1, x_2, \\dots x_i, \\dots x_N)}.$$\n",
        "\n",
        "\n",
        "The denominator is just a scaling facor that doesn't depend on $C_k$. Let me it denote with Z.\n",
        "\n",
        "$$P(C_k  | x_1, x_2, \\dots x_i, \\dots x_N) = \\frac{\\prod_{i=1}^{N}P(x_i | C_k)P(C_k)}{Z}.$$\n",
        "In other words\n",
        "$$P(C_k  | x_1, x_2, \\dots x_i, \\dots x_N) \\propto P(C_k)\\prod_{i=1}^{N}P(x_i | C_k).$$\n",
        "\n",
        "Once we have probabilities that an object belongs to $C_k$ for any $k$ we need to decide what class do we actually assign our object to. What we were dealing up to now was Naive Bayes probability model. Now we need to choose the so called decision rule. \n",
        "\n",
        "$$\n",
        "\\text{Naive Bayes classifier} = \\text{Naive Bayes probability model} + \\text{Decision rule}.\n",
        "$$\n",
        "\n",
        "One common rule is to pick the hypothesis that is most probable; this is known as the maximum a posteriori or MAP decision rule. The corresponding classifier, a Bayes classifier, is the function that assigns a class label as follows:\n",
        "$$\n",
        "C = \\text{argmax}_{k=1,..,K}P(C_k)\\prod_{i=1}^{N}P(x_i | C_k).\n",
        "$$\n",
        "\n",
        "\n",
        "In real world we do not know $P(x_i | C_k)$  -- we can make assumptions. \n",
        "We could guess what kind of distribution that could be (e.g. Gaussian) but the parameters of that\n",
        "distribution ares still unknown. \n",
        "\n",
        "Depending on the $P(x | C_k)$ we adopt there are $3$ main types of Naive Bayes classifiers:\n",
        "* Gaussian;\n",
        "* Multinomial;\n",
        "* Bernoulli.\n",
        "\n",
        "Once we've made our mind on $P(x | C_k)$ that's where the training comes into play: we use the training set to estimate the parameters of that distribution and to determine $P(C_k)$.\n",
        "\n",
        "Bayes classifiers are implemented in ```sklearn.naive_bayes```:\n",
        "* **GaussianNB**;\n",
        "* **MultinomialNB**;\n",
        "* **BernoulliNB**;\n",
        "* **ComplementNB**.\n",
        "\n",
        "\n",
        "\n",
        "\n",
        "\n",
        "\n"
      ]
    },
    {
      "cell_type": "code",
      "metadata": {
        "id": "yktMv0Tan19a",
        "colab_type": "code",
        "colab": {}
      },
      "source": [
        "%matplotlib inline\n",
        "import numpy as np\n",
        "import matplotlib.pyplot as plt\n",
        "import seaborn as sns; sns.set()"
      ],
      "execution_count": 0,
      "outputs": []
    },
    {
      "cell_type": "markdown",
      "metadata": {
        "id": "1UClv5wbtyeJ",
        "colab_type": "text"
      },
      "source": [
        "#Spam example"
      ]
    },
    {
      "cell_type": "markdown",
      "metadata": {
        "id": "YnjO40Vut2ZZ",
        "colab_type": "text"
      },
      "source": [
        "![](https://raw.githubusercontent.com/fbeilstein/machine_learning/master/lecture_5_naive_bayes/spamham.png)\n",
        "\n",
        "Suppose your training set contains $8$ letters and $6$ of them contain word \"buy\". There are also $25$ ham letters and $2$ of them have \"buy\".\n",
        "\n",
        "You got the letter with word \"buy\". Should you classify it as spam?\n",
        "\n",
        "$$\n",
        "P(spam|\"buy\") = \\frac{P(spam)\\cdot P(\"buy\"|spam)}{P(\"buy\"|spam)\\cdot P(spam)+P(\"buy\"|ham)\\cdot P(ham)}.\n",
        "$$\n",
        "\n",
        "Our training set suggests that\n",
        "\n",
        "$$\n",
        "P(spam) = \\frac{8}{25+8}=0.24, \\\\\n",
        "P(ham) = \\frac{25}{25+8}=0.76.\n",
        "$$\n",
        "\n",
        "So before using Bayesian classifier it's more likely that random letter is not spam.\n",
        "\n",
        "We have \n",
        "\n",
        "$$\n",
        "P(''buy''|spam)=\\frac{6}{8}=0.75, \\\\\n",
        "P(\"buy\"|ham)=\\frac{2}{25}= 0.08.\n",
        "$$\n",
        "\n",
        "$$\n",
        "P(spam|\"buy\") = \\frac{0.24 \\times 0.75}{0.75 \\times 0.24+0.08 \\times 0.76}=0.8.\n",
        "$$\n",
        "\n",
        "Lets do sanity check and calculate\n",
        "\n",
        "$$\n",
        "P(ham|\"buy\") = \\frac{0.24 \\times 0.08}{0.75 \\times 0.24+0.08 \\times 0.76}=0.2.\n",
        "$$\n",
        "\n",
        "We have \n",
        "\n",
        "$$\n",
        "P(spam|\"buy\")+P(ham|\"buy\")=1,\n",
        "$$\n",
        "\n",
        "as it should.\n",
        "\n",
        "We now see that it's now more likely that the letter is actually spam.\n",
        "\n",
        "Training set containes two pieces of information\n",
        "* what fraction of letters is spam;\n",
        "* what fraction of spam/ham letters contains word buy.\n",
        "\n",
        "In our example we had only one feature (\"buy\") $K=1$. In real words the number of feature (words) may reach hundreds of thousands."
      ]
    },
    {
      "cell_type": "markdown",
      "metadata": {
        "id": "QC09dQMPoKKy",
        "colab_type": "text"
      },
      "source": [
        "\n",
        "#Gaussian Naive Bayes"
      ]
    },
    {
      "cell_type": "markdown",
      "metadata": {
        "id": "S5ZoteToV4cL",
        "colab_type": "text"
      },
      "source": [
        "When dealing with continuous data, a typical assumption is that the continuous values associated with each class are distributed according to a normal (or Gaussian) distribution.\n",
        "Suppose we have continous variable $x$ and classes $\\{C_1, C_2, \\dots, C_K\\}$.\n",
        "In Gaussian Naive Bayes we presume that\n",
        "\n",
        "$$P(f=x| C_k) = \\frac{1}{\\sqrt{2 \\pi \\sigma_{k}^2}}e^{-\\frac{(x-\\mu_k)^2}{2\\sigma_{k}^2}}.$$\n",
        "\n",
        "Each class $C_k$ has its own average $\\mu_k$ and standard deviation $\\sigma_k$ that are calculated on a training set with the help of the maximum likelihood method.\n",
        "\n",
        "\n"
      ]
    },
    {
      "cell_type": "markdown",
      "metadata": {
        "id": "RKQ6d0R5vwwU",
        "colab_type": "text"
      },
      "source": [
        "##1D  Example of Gaussian Naive Bayes"
      ]
    },
    {
      "cell_type": "markdown",
      "metadata": {
        "id": "JEhxwh7wv0_d",
        "colab_type": "text"
      },
      "source": [
        "Suppose we want to classify points on the line. That is $N=1$, hence we have only one feature.\n",
        "\n",
        "The tags we want to assign are colors $\\{red, blue\\}$. In fact we want to perform binary classification ($K=2$).\n",
        "\n",
        "We generate two arrays of points that are have normal distributions."
      ]
    },
    {
      "cell_type": "code",
      "metadata": {
        "colab_type": "code",
        "outputId": "8c401059-85c3-4fd9-d83f-9c40fa7774bf",
        "id": "rtgLvx3DOLfQ",
        "colab": {
          "base_uri": "https://localhost:8080/",
          "height": 491
        }
      },
      "source": [
        "from scipy.stats import norm\n",
        "from sklearn.naive_bayes import GaussianNB\n",
        "\n",
        "np.random.seed(1);\n",
        "N_red = 500;\n",
        "N_blue = 50;\n",
        "red_mean = 1;\n",
        "blue_mean = 3;\n",
        "red_std = 1;\n",
        "blue_std = 2.0;\n",
        "\n",
        "arr_red = np.random.normal(loc=red_mean, scale=red_std, size=N_red)\n",
        "arr_blue = np.random.normal(loc=blue_mean, scale=blue_std, size=N_blue)\n",
        "tags_red = np.full(N_red,0)\n",
        "tags_blue = np.full(N_blue,1)\n",
        "training_set = np.hstack((arr_red, arr_blue))\n",
        "x_min = min(training_set)\n",
        "x_max = max(training_set)\n",
        "\n",
        "labels_set = np.hstack((tags_red, tags_blue))\n",
        "training_set = np.expand_dims(training_set, axis=1)\n",
        "\n",
        "model = GaussianNB()\n",
        "model.fit(training_set, labels_set);\n",
        "\n",
        "fig = plt.figure(figsize=(20,8))\n",
        "plt.plot(arr_blue, np.zeros_like(arr_blue)-0.02, 'o', color='b', alpha=0.1)\n",
        "plt.plot(arr_red, np.zeros_like(arr_red)-0.02, 'o', color='r', alpha=0.1)\n",
        "\n",
        "x_axis = np.arange(x_min, x_max, 0.001)\n",
        "plt.plot(x_axis, norm.pdf(x_axis, red_mean, red_std), color='r')\n",
        "plt.plot(x_axis, norm.pdf(x_axis, blue_mean, blue_std), color='b')\n",
        "plt.show()\n",
        "\n",
        "\n"
      ],
      "execution_count": 0,
      "outputs": [
        {
          "output_type": "display_data",
          "data": {
            "image/png": "[encoded data removed]",
            "text/plain": [
              "<Figure size 1440x576 with 1 Axes>"
            ]
          },
          "metadata": {
            "tags": []
          }
        }
      ]
    },
    {
      "cell_type": "markdown",
      "metadata": {
        "id": "LtyNz9eTjfPB",
        "colab_type": "text"
      },
      "source": [
        "Now we generate $200$ equidistant points and apply Gaussian Naive Bayes classifier.\n",
        "We can take a look at posterior probabilities $[P(red|x),P(blue|x)]$ that NB assignes to out test points $X$."
      ]
    },
    {
      "cell_type": "code",
      "metadata": {
        "id": "Xg_AFcMmOSVf",
        "colab_type": "code",
        "outputId": "a77947fb-d348-48bf-9c7e-ad98ce91dbc0",
        "colab": {
          "base_uri": "https://localhost:8080/",
          "height": 491
        }
      },
      "source": [
        "X = np.linspace(x_min, x_max, num=200)\n",
        "X = np.expand_dims(X, axis=1)\n",
        "y_predicted_P = model.predict_proba(X)\n",
        "y_predicted = model.predict(X)\n",
        "fig = plt.figure(figsize=(20,8))\n",
        "plt.plot(X,y_predicted_P[:,0], 'o', color='r')\n",
        "plt.plot(X,y_predicted_P[:,1], 'o', color='b')\n",
        "plt.show()"
      ],
      "execution_count": 0,
      "outputs": [
        {
          "output_type": "display_data",
          "data": {
            "image/png": "[encoded data removed]",
            "text/plain": [
              "<Figure size 1440x576 with 1 Axes>"
            ]
          },
          "metadata": {
            "tags": []
          }
        }
      ]
    },
    {
      "cell_type": "markdown",
      "metadata": {
        "id": "zs1YTnI6jxs1",
        "colab_type": "text"
      },
      "source": [
        "Now we use decision rule to choose the color with the highest probability. If both colors have equal large number of points in the training set NB splits colors in the points of intersections of their Gaussians."
      ]
    },
    {
      "cell_type": "code",
      "metadata": {
        "colab_type": "code",
        "outputId": "86f7ac43-cef7-4d13-86cc-155310ec1509",
        "id": "82C8X3lLaHNR",
        "colab": {
          "base_uri": "https://localhost:8080/",
          "height": 491
        }
      },
      "source": [
        "idx = np.nonzero(y_predicted[:-1] != y_predicted[1:])[0]\n",
        "fig = plt.figure(figsize=(20,8))\n",
        "plt.plot(arr_blue, np.zeros_like(arr_blue)-0.02, 'o', color='b', alpha=0.1)\n",
        "plt.plot(arr_red, np.zeros_like(arr_red)-0.02, 'o', color='r', alpha=0.1)\n",
        "\n",
        "plt.plot(X, norm.pdf(X, red_mean, red_std), color='r')\n",
        "plt.plot(X, norm.pdf(X, blue_mean, blue_std), color='b')\n",
        "clrs = {0:'r', 1:'b'}\n",
        "\n",
        "for i_from, i_to in zip(np.hstack([0, idx]), np.hstack([idx, len(X)-1])):\n",
        "  plt.axvspan(X[i_from], X[i_to], facecolor=clrs[y_predicted[i_from+1]], alpha=0.2)"
      ],
      "execution_count": 0,
      "outputs": [
        {
          "output_type": "display_data",
          "data": {
            "image/png": "[encoded data removed]",
            "text/plain": [
              "<Figure size 1440x576 with 1 Axes>"
            ]
          },
          "metadata": {
            "tags": []
          }
        }
      ]
    },
    {
      "cell_type": "markdown",
      "metadata": {
        "id": "U3qXhYIALEcW",
        "colab_type": "text"
      },
      "source": [
        "##2D  Example of Gaussian Naive Bayes"
      ]
    },
    {
      "cell_type": "markdown",
      "metadata": {
        "id": "lbofZZa9O-Xv",
        "colab_type": "text"
      },
      "source": [
        "Suppose we want to classify points on the $2D$ plane. As before $N=1$, hence we have only one feature.\n",
        "\n",
        "The tags we want to assign are $\\{red, blue\\}$ again. We perform binary classification ($K=2$).\n",
        "\n",
        "The probabilities $P(x | red)$ and $P(x | blue)$ are both Gaussians with std's equal to $1.5$.\n",
        "\n",
        "We generate $100$ points in our training set."
      ]
    },
    {
      "cell_type": "code",
      "metadata": {
        "id": "Zo1YI3uqoLOW",
        "colab_type": "code",
        "outputId": "2501f344-2fd4-49c7-ea00-7acf9944fce0",
        "colab": {
          "base_uri": "https://localhost:8080/",
          "height": 268
        }
      },
      "source": [
        "from sklearn.datasets import make_blobs\n",
        "import matplotlib.pyplot as plt\n",
        "\n",
        "training_set, y = make_blobs(100, 2, centers=2, random_state=2, cluster_std=1.5)\n",
        "plt.scatter(training_set[:, 0], training_set[:, 1], c=y, s=50, cmap='RdBu');"
      ],
      "execution_count": 0,
      "outputs": [
        {
          "output_type": "display_data",
          "data": {
            "image/png": "[encoded data removed]",
            "text/plain": [
              "<Figure size 432x288 with 1 Axes>"
            ]
          },
          "metadata": {
            "tags": []
          }
        }
      ]
    },
    {
      "cell_type": "markdown",
      "metadata": {
        "id": "X3pyeR01QY7q",
        "colab_type": "text"
      },
      "source": [
        "Choose Gaussian model for naive Bayes to fit the training set to the labels."
      ]
    },
    {
      "cell_type": "code",
      "metadata": {
        "id": "-N56m-9UoSs8",
        "colab_type": "code",
        "colab": {}
      },
      "source": [
        "from sklearn.naive_bayes import GaussianNB\n",
        "\n",
        "model = GaussianNB()\n",
        "model.fit(training_set, y);"
      ],
      "execution_count": 0,
      "outputs": []
    },
    {
      "cell_type": "markdown",
      "metadata": {
        "id": "dHvRp3xFRMpc",
        "colab_type": "text"
      },
      "source": [
        "Here is the result. We see a slightly curved boundary in the classifications—in general, the boundary in\n",
        "Gaussian naive Bayes is quadratic."
      ]
    },
    {
      "cell_type": "code",
      "metadata": {
        "id": "1Y85D_0D9NFJ",
        "colab_type": "code",
        "outputId": "80241f52-9ba5-4afc-c7b7-a187739b6bb8",
        "colab": {
          "base_uri": "https://localhost:8080/",
          "height": 594
        }
      },
      "source": [
        "import numpy as np\n",
        "from matplotlib.colors import ListedColormap\n",
        "\n",
        "def visualize(estimator, X, y):\n",
        "  fig = plt.figure(figsize=(10,10))\n",
        "  ax = fig.gca()\n",
        "  \n",
        "  # Plot the training points\n",
        "  rgb = [[210, 0, 0], [0, 0, 150], [107, 142, 35], [150, 0, 150], [220, 105, 0]]\n",
        "    \n",
        "  rgb=np.array(rgb)/255.\n",
        "  ax.scatter(X[:, 0], X[:, 1], c=rgb[y], s=30, zorder=3)\n",
        "  ax.axis('tight')\n",
        "  xlim = [np.min(X[:, 0]), np.max(X[:, 0])]\n",
        "  ylim = [np.min(X[:, 1]), np.max(X[:, 1])]\n",
        "  ax.set_xlim(xlim)\n",
        "  ax.set_ylim(ylim)\n",
        "  \n",
        "  # fit the estimator\n",
        "  xx, yy = np.meshgrid(np.linspace(*xlim, num=700), np.linspace(*ylim, num=700))\n",
        "  Z = estimator.predict(np.c_[xx.ravel(), yy.ravel()])\n",
        "\n",
        "  # Put the result into a color plot\n",
        "  n_classes = 5\n",
        "  Z = Z.reshape(xx.shape)\n",
        "  contours = ax.contourf(xx, yy, Z, alpha=0.3, levels=np.arange(n_classes + 1) - 0.5, cmap=ListedColormap(rgb), zorder=1)\n",
        "\n",
        "  plt.close(fig)\n",
        "\n",
        "  return fig\n",
        "\n",
        "visualize(model, training_set, y)"
      ],
      "execution_count": 0,
      "outputs": [
        {
          "output_type": "execute_result",
          "data": {
            "image/png": "[encoded data removed]",
            "text/plain": [
              "<Figure size 720x720 with 1 Axes>"
            ]
          },
          "metadata": {
            "tags": []
          },
          "execution_count": 4
        }
      ]
    },
    {
      "cell_type": "markdown",
      "metadata": {
        "id": "R4EbeVGSRhYb",
        "colab_type": "text"
      },
      "source": [
        "As before we can take a look at posterior probabilities $[P(red|x),P(blue|x)]$ before decision rule is applied."
      ]
    },
    {
      "cell_type": "code",
      "metadata": {
        "id": "2_VydT5fobm2",
        "colab_type": "code",
        "outputId": "9a80f664-3c8f-467e-bd2c-fdae5c16d596",
        "colab": {
          "base_uri": "https://localhost:8080/",
          "height": 119
        }
      },
      "source": [
        "y_predicted_P = model.predict_proba([[1, 2], [2, 3], [-4, -7], [0, -6], [2, -6], [4, -6]])\n",
        "y_predicted_P.round(2)"
      ],
      "execution_count": 0,
      "outputs": [
        {
          "output_type": "execute_result",
          "data": {
            "text/plain": [
              "array([[0.  , 1.  ],\n",
              "       [0.  , 1.  ],\n",
              "       [1.  , 0.  ],\n",
              "       [0.93, 0.07],\n",
              "       [0.46, 0.54],\n",
              "       [0.03, 0.97]])"
            ]
          },
          "metadata": {
            "tags": []
          },
          "execution_count": 21
        }
      ]
    },
    {
      "cell_type": "markdown",
      "metadata": {
        "id": "EYqhUpqa_cmB",
        "colab_type": "text"
      },
      "source": [
        "#Text classification"
      ]
    },
    {
      "cell_type": "markdown",
      "metadata": {
        "id": "tJ3Vo622_i5p",
        "colab_type": "text"
      },
      "source": [
        "There are two approaches to documents classification:  multi-variate Bernoulli model and multinomial model.\n",
        "\n",
        "Both of them start from a vocabulary of words (that can have thousands them).\n",
        "Training set contains documents that are classified into categories.\n",
        "For example out of $100$ of documents $100$ are labeled as $Physics$, $200$ - as $Literature$ and so on. From that information we can estimate $P(C_k)$ using emphirical frequencies\n",
        "\n",
        "$$\n",
        "\\begin{aligned}\n",
        "P(\\text{\"}Physics\\text{\"})&=\\frac{100}{1000}=0.1,\\\\\n",
        "P(\\text{\"}Literature\\text{\"})&=\\frac{200}{1000}=0.2.\n",
        "\\end{aligned}\n",
        "$$\n",
        "\n",
        "\n",
        "Multi-variate Bernoulli specifies that a document is represented by a vector of binary attributes indicating which words occur and do not occur in the document:\n",
        "\n",
        "$$\n",
        "\\boldsymbol{x}=\\{0,1,0,1\\},\n",
        "$$\n",
        "\n",
        "for words $\\{\\text{\"}physics\\text{\"}, \\text{''lyrics''},\\text{\"}destiny\\text{\"}, \\text{\"}more\\text{\"} \\}$.\n",
        "\n",
        "When calculating the probability of a document, one multiplies probability of all attribute values, including the probability of non-occurrence for words that do not occur in the document.\n",
        "\n",
        "$$P(\\boldsymbol{x}|C_k)=\\prod_{i=1}^{N}p_{ki}^{x_i}(1-p_{ki}^{x_i})^{x_i}$$.\n",
        "\n",
        "Multinomial approach specifies that a document is represented by the set of word occurrences from the document. As above, the order of the words is lost, however, the number of occurrences of each word in the document is captured.\n",
        "\n",
        "$$\n",
        "\\boldsymbol{x}=\\{5,4,0, 2\\}\n",
        "$$\n",
        "\n",
        "for words $\\{\"physics\", \"lyrics\", \"destiny\", \"more\" \\}$.\n",
        "\n",
        "When calculating the probability of a document, one multiplies the probability of the words that occur.\n",
        "\n",
        " $$P(\\boldsymbol{x}|C_k)=\\frac{(\\sum_i x_i)!}{\\prod_i x_i!}\\prod_i p_{ki}^{x_i}=|d|!\\prod_i \\frac{p_{ki}^{x_i}}{ x_i!},$$.\n",
        " \n",
        " We now see that features occurences are independent (hence this method is naive).\n",
        " In both models parameters $p_{ki}$ are estimated from the training set.\n",
        " They are estimated using smoothed empirical frequencies (smoothed MLE estimators aka frequencies with pseudocounts).\n",
        " \n",
        " In Bernoulli:\n",
        " \n",
        " $$\n",
        " p_{ki}=\\frac{\\#\\, of \\, documents\\, labeled \\, \"k\" \\, with \\, word \\, \"i\" \\, in \\, them +\\alpha}{total\\, \\#\\, of \\, documents\\, labeled \\, \"k\"+ \\, \\alpha N}.\n",
        " $$\n",
        " \n",
        "  In Multinomial:\n",
        " \n",
        "  $$\n",
        " p_{ki}=\\frac{\\#\\, of \\, counts\\, of\\, word \\,  \"i\"\\, in\\, all \\, documents \\, labeled \\, \"k\" +\\alpha}{\\#\\, of \\, counts\\, of \\, all\\, words\\, in \\, documents \\, labeles \\, \"k\"+ \\, \\alpha N}.\n",
        " $$\n",
        " \n",
        "Usually $\\alpha =1$ (Laplace smoothing). In the advanced realizations \"counts\" are not just simple counts but rather so called $tfidf$ counts adjusted for the relavance of words so that such abundant and meaningless words as \"is\" and \"the\" do not have sky-rocketing number of counts.\n",
        " \n",
        " \n",
        "In general, multinomial model performs better especially for the large vocabularies and large documents for classification.\n",
        " \n",
        " "
      ]
    },
    {
      "cell_type": "markdown",
      "metadata": {
        "id": "KO5z1IADoown",
        "colab_type": "text"
      },
      "source": [
        "#Multinomial Naive Bayes"
      ]
    },
    {
      "cell_type": "markdown",
      "metadata": {
        "id": "K5qiBLWlY4Xc",
        "colab_type": "text"
      },
      "source": [
        "##Example: Multinomial Naive Bayes\n"
      ]
    },
    {
      "cell_type": "markdown",
      "metadata": {
        "id": "oO7SP-sXS9iC",
        "colab_type": "text"
      },
      "source": [
        "Have you heard about the Multinomial distribution before? This is the generalization on the Binomial distribution.\n",
        "Suppose you pick $n=6$ balls from a big bag with red, blue and green balls ($N=3$).  You are given that the probability to pick red is $p_{\\text{red}}=0.2$, blue — $p_{\\text{blue}}=0.5$ and green — $p_{\\text{green}}=0.3$. What is the probability to pick $3$ red, $2$ blue balls and $1$ green ball? You do not care about order of the appearance of the balls. The answer is given by the Multinomial distribution\n",
        "\n",
        "$$P(\\boldsymbol{x}=[3,2,1])=\\frac{6!}{3! \\times 2! \\times 1!}0.2^{3}\\times0.5^{2} \\times0.1^{1}.$$\n",
        "\n",
        " Why is it called multinomial? It's related to the multinomial theorem that is the generalization of the binomial theorem:\n",
        "\n",
        " $$(p_1+p_2+\\dots+p_N)^n=\\sum_{i_1+i_2+\\dots+i_N=n}\\frac{n!}{i_1!i_2!\\dots i_N!}\\prod_{j=1}^N{p_{j}^{i_j}}.$$\n",
        " \n",
        " For example\n",
        " \n",
        " $$(0.2+0.5+0.3)^6=0.2^6\\times0.5^0\\times0.3^0 +\\dots+\\frac{6!}{3! \\times 2! \\times 1!}0.2^{3}\\times0.5^{2} \\times0.1^{1}+\\dots+0.2^0\\times0.5^0\\times0.3^6. $$\n",
        " \n",
        "Now you have the idea why in Multinomial Naive Bayes we choose\n",
        "\n",
        "$$P(\\boldsymbol{x}|C_k)=\\frac{(\\sum_i x_i)!}{\\prod_i x_i!}\\prod p_{ki}^{x_i},$$\n",
        "\n",
        "where $\\boldsymbol{x}$ is a vector of integers.\n",
        "\n",
        "\n",
        "One place where Multinomial Naive Bayes is often used is in text classification, where the features are related to word counts or frequencies within the documents to be classified. In fact we are pretending that a document is a placeholder where we place words drawn from the bag  (bag-of-words model). \n",
        "Here we will use the sparse word count features from the $20$ Newsgroups corpus to show how we might classify these short documents into categories.\n",
        "Let’s download the data and take a look at the target names:"
      ]
    },
    {
      "cell_type": "code",
      "metadata": {
        "id": "Ohd7q7ZTopnf",
        "colab_type": "code",
        "outputId": "e2a6544b-024b-44e8-ee46-6a87f007aabe",
        "colab": {
          "base_uri": "https://localhost:8080/",
          "height": 51
        }
      },
      "source": [
        "from sklearn.datasets import fetch_20newsgroups\n",
        "data = fetch_20newsgroups()"
      ],
      "execution_count": 0,
      "outputs": [
        {
          "output_type": "stream",
          "text": [
            "Downloading 20news dataset. This may take a few minutes.\n",
            "Downloading dataset from https://ndownloader.figshare.com/files/5975967 (14 MB)\n"
          ],
          "name": "stderr"
        }
      ]
    },
    {
      "cell_type": "markdown",
      "metadata": {
        "id": "nALe6rUBAxgW",
        "colab_type": "text"
      },
      "source": [
        "We will classify text into $K=4$ classes. We divide our data into training set ($\\approx 2000$ documents) and validation set ($\\approx 1000$ documents)."
      ]
    },
    {
      "cell_type": "code",
      "metadata": {
        "id": "2G95e2hloz6u",
        "colab_type": "code",
        "colab": {}
      },
      "source": [
        "categories = ['talk.religion.misc', 'soc.religion.christian', 'sci.space', 'comp.graphics']\n",
        "training_set = fetch_20newsgroups(subset='train', categories=categories)\n",
        "validation_set = fetch_20newsgroups(subset='test', categories=categories)\n"
      ],
      "execution_count": 0,
      "outputs": []
    },
    {
      "cell_type": "markdown",
      "metadata": {
        "id": "OdAHwq9jDixK",
        "colab_type": "text"
      },
      "source": [
        "Typical document looks like this."
      ]
    },
    {
      "cell_type": "code",
      "metadata": {
        "id": "ehEUk4ELo4X1",
        "colab_type": "code",
        "outputId": "41b77ae1-5e7a-4563-bcc3-a23c6bc87ab9",
        "colab": {
          "base_uri": "https://localhost:8080/",
          "height": 323
        }
      },
      "source": [
        "print(training_set.data[5])"
      ],
      "execution_count": 0,
      "outputs": [
        {
          "output_type": "stream",
          "text": [
            "From: dmcgee@uluhe.soest.hawaii.edu (Don McGee)\n",
            "Subject: Federal Hearing\n",
            "Originator: dmcgee@uluhe\n",
            "Organization: School of Ocean and Earth Science and Technology\n",
            "Distribution: usa\n",
            "Lines: 10\n",
            "\n",
            "\n",
            "Fact or rumor....?  Madalyn Murray O'Hare an atheist who eliminated the\n",
            "use of the bible reading and prayer in public schools 15 years ago is now\n",
            "going to appear before the FCC with a petition to stop the reading of the\n",
            "Gospel on the airways of America.  And she is also campaigning to remove\n",
            "Christmas programs, songs, etc from the public schools.  If it is true\n",
            "then mail to Federal Communications Commission 1919 H Street Washington DC\n",
            "20054 expressing your opposition to her request.  Reference Petition number\n",
            "\n",
            "2493.\n",
            "\n"
          ],
          "name": "stdout"
        }
      ]
    },
    {
      "cell_type": "markdown",
      "metadata": {
        "id": "RGYNpT5FTOXy",
        "colab_type": "text"
      },
      "source": [
        "In order to use this data for machine learning, we need to be able to convert the content of each string into a vector of numbers. It's called a vectorization of a document. For this we will use the TF–IDF vectorizer, and create a pipeline that attaches it to a multinomial naive Bayes classifier:"
      ]
    },
    {
      "cell_type": "code",
      "metadata": {
        "id": "EJE9AUGKo70D",
        "colab_type": "code",
        "colab": {}
      },
      "source": [
        "from sklearn.feature_extraction.text import TfidfVectorizer\n",
        "from sklearn.naive_bayes import MultinomialNB\n",
        "from sklearn.pipeline import make_pipeline\n",
        "model = make_pipeline(TfidfVectorizer(), MultinomialNB())"
      ],
      "execution_count": 0,
      "outputs": []
    },
    {
      "cell_type": "markdown",
      "metadata": {
        "id": "M4GMkJP82V0H",
        "colab_type": "text"
      },
      "source": [
        "But before we will talk about ```TfidfVectorizer``` consider simpler kind of vectorizer namely `CountVectorizer`.\n",
        "`CountVectorizer` compiles vocabulary (words) from a corpus and counts a number of times each word occurs in each document. Vectorizer ignores punctuation marks such as colons and semicolons. It also converts all words to lowercase. Thus, vocabulary consists of all lowercased words that are present in the documents of the corpus.\n",
        "Function `toarray()` returns the count matrix ($|corpus|\\times|Vocabulary|$) with counts of every word in every document of the corpus.\n",
        "\n",
        "\n"
      ]
    },
    {
      "cell_type": "code",
      "metadata": {
        "id": "TdRNrPEg389u",
        "colab_type": "code",
        "outputId": "6688deb0-4f3f-4d4e-891d-92ad3a2bd3a7",
        "colab": {
          "base_uri": "https://localhost:8080/",
          "height": 176
        }
      },
      "source": [
        "from sklearn.feature_extraction.text import CountVectorizer\n",
        "from sklearn.feature_extraction.text import TfidfVectorizer\n",
        "\n",
        "corpus = ['This is the first document.', 'This document is the second document.',\n",
        "'And this is the third one.', 'Is this the first document?']\n",
        "\n",
        "\n",
        "print(\"_______________________COUNT VECTORIZER______________________________\")\n",
        "vectorizer_C = CountVectorizer()\n",
        "C = vectorizer_C.fit_transform(corpus)\n",
        "print(\"Vocabulary : \", vectorizer_C.get_feature_names())\n",
        "print(\"Vocabulary size: \", len(vectorizer_C.get_feature_names()))\n",
        "print(\"We had 4 documents and vocabulary has 9 words. That's why vectorizer has dimensions:\", C.shape)\n",
        "print(\"arr :\\n\", C.toarray())"
      ],
      "execution_count": 0,
      "outputs": [
        {
          "output_type": "stream",
          "text": [
            "_______________________COUNT VECTORIZER______________________________\n",
            "Vocabulary :  ['and', 'document', 'first', 'is', 'one', 'second', 'the', 'third', 'this']\n",
            "Vocabulary size:  9\n",
            "We had 4 documents and vocabulary has 9 words. That's why vectorizer has dimensions: (4, 9)\n",
            "arr :\n",
            " [[0 1 1 1 0 0 1 0 1]\n",
            " [0 2 0 1 0 1 1 0 1]\n",
            " [1 0 0 1 1 0 1 1 1]\n",
            " [0 1 1 1 0 0 1 0 1]]\n"
          ],
          "name": "stdout"
        }
      ]
    },
    {
      "cell_type": "markdown",
      "metadata": {
        "id": "EOhd8kZIGLi2",
        "colab_type": "text"
      },
      "source": [
        "The problem with `CountVectorizer` is that it contains many uninformative common words such as 'am', 'is', \"the\", that carry no information about the document class because they are present in every document.\n",
        "\n",
        "In the ```TfidfVectorizer``` the simple counts of the words are substituted by Tf–idf or TFIDF, short for term frequency–inverse document frequency, a numerical statistic that is intended to reflect how important a word is to a document in a collection or corpus.\n",
        "Suppose we have a document $d$, word $t$ and a collection of documents $D$. Then\n",
        "\n",
        "$$tfidf(t,d,D)=tf(t,d)\\times idf(t,D)$$ where\n",
        "\n",
        "* $tf(t,d)$ is term frequency that describes how common is the term in the document. The simpliest choice is to choose tems frequency. You can also choose boolean \"frequencies\": $tf(t,d) = 1$ if $t$ occurs in $d$ and $0$ otherwise.\n",
        "* $idf(t,D)$ is the inverse document frequency equal to $\\log{\\frac{|D|}{|\\{d \\in D\\}|}+1}$. The inverse document frequency is a measure of how much information the word provides, i.e., if it's common or rare across all documents. Its purpose is to filter out common words: words like \"this\" and \"is\" don't provide much information.\n",
        "\n",
        "\n",
        "Here is how ```TfidfVectorizer``` works. As `CountVectorizer` it extracts unique words (features). It then constructs so called Tf-idf-weighted document-term matrix that for each word in each document calculates its $tfidf$. Note that $tfidf$ is more informative than simple counts.\n",
        "\n",
        "\n"
      ]
    },
    {
      "cell_type": "code",
      "metadata": {
        "id": "cCDORxUnElQi",
        "colab_type": "code",
        "outputId": "e20f4d05-2fd9-4e83-bb74-791b59253e15",
        "colab": {
          "base_uri": "https://localhost:8080/",
          "height": 247
        }
      },
      "source": [
        "from sklearn.feature_extraction.text import CountVectorizer\n",
        "from sklearn.feature_extraction.text import TfidfVectorizer\n",
        "\n",
        "print(\"_______________________TFIDF VECTORIZER______________________________\")\n",
        "vectorizer_tfidf = TfidfVectorizer()\n",
        "X = vectorizer_tfidf.fit_transform(corpus)\n",
        "print(\"Vocabulary : \", vectorizer_tfidf.get_feature_names())\n",
        "print(\"Vocabulary size: \", len(vectorizer_tfidf.get_feature_names()))\n",
        "print(\"We had 4 documents and vocabulary has 9 words. That's why vectorizer has dimensions:\", X.shape)\n",
        "print(\"arr :\\n\", X.toarray())\n",
        "\n",
        "\n"
      ],
      "execution_count": 0,
      "outputs": [
        {
          "output_type": "stream",
          "text": [
            "_______________________TFIDF VECTORIZER______________________________\n",
            "Vocabulary :  ['and', 'document', 'first', 'is', 'one', 'second', 'the', 'third', 'this']\n",
            "Vocabulary size:  9\n",
            "We had 4 documents and vocabulary has 9 words. That's why vectorizer has dimensions: (4, 9)\n",
            "arr :\n",
            " [[0.         0.46979139 0.58028582 0.38408524 0.         0.\n",
            "  0.38408524 0.         0.38408524]\n",
            " [0.         0.6876236  0.         0.28108867 0.         0.53864762\n",
            "  0.28108867 0.         0.28108867]\n",
            " [0.51184851 0.         0.         0.26710379 0.51184851 0.\n",
            "  0.26710379 0.51184851 0.26710379]\n",
            " [0.         0.46979139 0.58028582 0.38408524 0.         0.\n",
            "  0.38408524 0.         0.38408524]]\n"
          ],
          "name": "stdout"
        }
      ]
    },
    {
      "cell_type": "markdown",
      "metadata": {
        "id": "0jk5EIp0BhPo",
        "colab_type": "text"
      },
      "source": [
        "Now we can fit our model and determine its parameters. Afterwords we can use this parameters and decision rule to make predictions."
      ]
    },
    {
      "cell_type": "code",
      "metadata": {
        "id": "Plj45naQo-Ni",
        "colab_type": "code",
        "colab": {}
      },
      "source": [
        "model_M.fit(training_set.data, training_set.target)\n",
        "labels_M = model.predict(validation_set.data)"
      ],
      "execution_count": 0,
      "outputs": []
    },
    {
      "cell_type": "markdown",
      "metadata": {
        "id": "lbHuLTG9B1yY",
        "colab_type": "text"
      },
      "source": [
        "We can now use so called confusion matrix to visualize the result. \n",
        "Confusion matrix, also known as an error matrix, is a specific table layout that allows visualization of the performance of an algorithm, typically a supervised learning one. We will see how it works.\n"
      ]
    },
    {
      "cell_type": "code",
      "metadata": {
        "id": "w-IA2yw5pAXN",
        "colab_type": "code",
        "outputId": "7cc0bc44-ac43-48ef-99ba-2a75bf2a2231",
        "colab": {
          "base_uri": "https://localhost:8080/",
          "height": 396
        }
      },
      "source": [
        "import seaborn as sns; sns.set()\n",
        "import matplotlib.pyplot as plt\n",
        "from sklearn.metrics import confusion_matrix\n",
        "mat = confusion_matrix(validation_set.target, labels)\n",
        "sns.heatmap(mat.T, square=True, annot=True, fmt='d', cbar=False,\n",
        "xticklabels=validation_set.target_names, yticklabels=validation_set.target_names)\n",
        "plt.xlabel('true label')\n",
        "plt.ylabel('predicted label');"
      ],
      "execution_count": 0,
      "outputs": [
        {
          "output_type": "display_data",
          "data": {
            "image/png": "[encoded data removed]",
            "text/plain": [
              "<Figure size 432x288 with 1 Axes>"
            ]
          },
          "metadata": {
            "tags": []
          }
        }
      ]
    },
    {
      "cell_type": "markdown",
      "metadata": {
        "id": "O8WN_YzRpVxk",
        "colab_type": "text"
      },
      "source": [
        "What if we used simple count vectorizer?"
      ]
    },
    {
      "cell_type": "code",
      "metadata": {
        "id": "oQilyEekpPyZ",
        "colab_type": "code",
        "outputId": "ee4ef9f9-f1d7-4af9-93da-5caa225f5e91",
        "colab": {
          "base_uri": "https://localhost:8080/",
          "height": 396
        }
      },
      "source": [
        "import seaborn as sns; sns.set()\n",
        "import matplotlib.pyplot as plt\n",
        "from sklearn.metrics import confusion_matrix\n",
        "\n",
        "model_simple_M = make_pipeline(CountVectorizer(), MultinomialNB())\n",
        "model_simple_M.fit(training_set.data, training_set.target)\n",
        "labels_simple_M = model_simple_M.predict(validation_set.data)\n",
        "mat_simple_M = confusion_matrix(validation_set.target, labels_simple_M)\n",
        "sns.heatmap(mat_simple_M.T, square=True, annot=True, fmt='d', cbar=False,\n",
        "xticklabels=validation_set.target_names, yticklabels=validation_set.target_names)\n",
        "plt.xlabel('true label')\n",
        "plt.ylabel('predicted label');"
      ],
      "execution_count": 0,
      "outputs": [
        {
          "output_type": "display_data",
          "data": {
            "image/png": "[encoded data removed]",
            "text/plain": [
              "<Figure size 432x288 with 1 Axes>"
            ]
          },
          "metadata": {
            "tags": []
          }
        }
      ]
    },
    {
      "cell_type": "markdown",
      "metadata": {
        "id": "LWSrPlQwTyX6",
        "colab_type": "text"
      },
      "source": [
        "The very cool thing here is that we now have the tools to determine the category for any string, using the predict() method of this pipeline. Here’s a quick utility function that will return the prediction for a single string:\n"
      ]
    },
    {
      "cell_type": "code",
      "metadata": {
        "id": "vLxb1RXDpDsC",
        "colab_type": "code",
        "colab": {}
      },
      "source": [
        "def predict_category(s, train=training_set, model=model):\n",
        "  pred = model.predict([s])\n",
        "  return training_set.target_names[pred[0]]"
      ],
      "execution_count": 0,
      "outputs": []
    },
    {
      "cell_type": "code",
      "metadata": {
        "id": "YGJCDqpnpGgc",
        "colab_type": "code",
        "outputId": "079ec386-5bb5-4d2e-c03d-f439f0b42735",
        "colab": {
          "base_uri": "https://localhost:8080/",
          "height": 34
        }
      },
      "source": [
        "predict_category('sending a payload to the ISS')"
      ],
      "execution_count": 0,
      "outputs": [
        {
          "output_type": "execute_result",
          "data": {
            "text/plain": [
              "'sci.space'"
            ]
          },
          "metadata": {
            "tags": []
          },
          "execution_count": 15
        }
      ]
    },
    {
      "cell_type": "code",
      "metadata": {
        "id": "SSuugVALpJ7j",
        "colab_type": "code",
        "outputId": "678b246e-5b4e-40b3-e8e8-bf8996cea568",
        "colab": {
          "base_uri": "https://localhost:8080/",
          "height": 34
        }
      },
      "source": [
        "predict_category('discussing islam vs atheism')"
      ],
      "execution_count": 0,
      "outputs": [
        {
          "output_type": "execute_result",
          "data": {
            "text/plain": [
              "'soc.religion.christian'"
            ]
          },
          "metadata": {
            "tags": []
          },
          "execution_count": 16
        }
      ]
    },
    {
      "cell_type": "code",
      "metadata": {
        "id": "U1Uid_BDpMGZ",
        "colab_type": "code",
        "outputId": "b2b3e9d1-18ca-4a9b-b727-20e805ae7bab",
        "colab": {
          "base_uri": "https://localhost:8080/",
          "height": 34
        }
      },
      "source": [
        "predict_category('determining the screen resolution')"
      ],
      "execution_count": 0,
      "outputs": [
        {
          "output_type": "execute_result",
          "data": {
            "text/plain": [
              "'comp.graphics'"
            ]
          },
          "metadata": {
            "tags": []
          },
          "execution_count": 17
        }
      ]
    },
    {
      "cell_type": "code",
      "metadata": {
        "id": "f4S2ALG_UAoI",
        "colab_type": "code",
        "colab": {}
      },
      "source": [
        ""
      ],
      "execution_count": 0,
      "outputs": []
    },
    {
      "cell_type": "markdown",
      "metadata": {
        "id": "5b8zJM_RT-k0",
        "colab_type": "text"
      },
      "source": [
        "Remember that this is nothing more sophisticated than a simple probability model for the (weighted) frequency of each word in the string; nevertheless, the result is striking. Even a very naive algorithm, when used carefully and trained on a large set of high-dimensional data, can be surprisingly effective."
      ]
    },
    {
      "cell_type": "markdown",
      "metadata": {
        "id": "MlCc9NCNyiqI",
        "colab_type": "text"
      },
      "source": [
        "#Bernoulli Naive Bayes"
      ]
    },
    {
      "cell_type": "markdown",
      "metadata": {
        "id": "-FpbhOGSGiXI",
        "colab_type": "text"
      },
      "source": [
        "In the multivariate Bernoulli event model, features are independent booleans (binary variables) describing inputs.\n",
        "\n",
        "$$\n",
        "P(\\boldsymbol{x}|C_k)=\\prod_{i=1}^{N}p_{ki}^{x_i}(1-p_{ki}^{x_i})^{x_i}.\n",
        "$$\n",
        "\n",
        "For example when analyzing a document we can take into account not the number of occurences of a given word in a document but rather it's presence or absence (boolean frequency). \n",
        "For large vocabularies Bernoulli Naive Bayes performs worse than Multinomial Naive Bayes.\n",
        "\n",
        "Let's use Bernoulli Naive Bayes for the example above.\n",
        "Note that we set `binary = True` in `TfidfVectorizer` to obtain boolean frequencies."
      ]
    },
    {
      "cell_type": "code",
      "metadata": {
        "id": "gIwuB_sig59n",
        "colab_type": "code",
        "outputId": "00e0fe43-08ab-4a96-8825-4bc243818e92",
        "colab": {
          "base_uri": "https://localhost:8080/",
          "height": 515
        }
      },
      "source": [
        "from sklearn.feature_extraction.text import TfidfVectorizer\n",
        "from sklearn.naive_bayes import BernoulliNB\n",
        "from sklearn.pipeline import make_pipeline\n",
        "from sklearn.metrics import confusion_matrix\n",
        "import seaborn as sns; sns.set()\n",
        "import matplotlib.pyplot as plt\n",
        "from sklearn.metrics import confusion_matrix\n",
        "\n",
        "vectorizer_B = TfidfVectorizer(binary = True, use_idf = False, smooth_idf = False, norm=False)\n",
        "b=vectorizer_B.fit_transform(corpus)\n",
        "print(\"Vocabulary : \", vectorizer_B.get_feature_names())\n",
        "print(\"Vocabulary size: \", len(vectorizer_B.get_feature_names()))\n",
        "print(\"We had 4 documents and vocabulary has 9 words. That's why vectorizer has dimensions:\", b.shape)\n",
        "print(\"arr :\", b.toarray())\n",
        "\n",
        "model_B = make_pipeline(TfidfVectorizer(binary = True, use_idf = False, norm=False), BernoulliNB())\n",
        "model_B.fit(training_set.data, training_set.target)\n",
        "labels_B = model_B.predict(validation_set.data)\n",
        "\n",
        "mat_B = confusion_matrix(validation_set.target, labels_B)\n",
        "sns.heatmap(mat_B.T, square=True, annot=True, fmt='d', cbar=False,\n",
        "xticklabels=validation_set.target_names, yticklabels=validation_set.target_names)\n",
        "plt.xlabel('true label')\n",
        "plt.ylabel('predicted label');"
      ],
      "execution_count": 0,
      "outputs": [
        {
          "output_type": "stream",
          "text": [
            "Vocabulary :  ['and', 'document', 'first', 'is', 'one', 'second', 'the', 'third', 'this']\n",
            "Vocabulary size:  9\n",
            "We had 4 documents and vocabulary has 9 words. That's why vectorizer has dimensions: (4, 9)\n",
            "arr : [[0. 1. 1. 1. 0. 0. 1. 0. 1.]\n",
            " [0. 1. 0. 1. 0. 1. 1. 0. 1.]\n",
            " [1. 0. 0. 1. 1. 0. 1. 1. 1.]\n",
            " [0. 1. 1. 1. 0. 0. 1. 0. 1.]]\n"
          ],
          "name": "stdout"
        },
        {
          "output_type": "display_data",
          "data": {
            "image/png": "[encoded data removed]",
            "text/plain": [
              "<Figure size 432x288 with 1 Axes>"
            ]
          },
          "metadata": {
            "tags": []
          }
        }
      ]
    },
    {
      "cell_type": "markdown",
      "metadata": {
        "id": "hdi3kFvhGkP2",
        "colab_type": "text"
      },
      "source": [
        "##Example: Guessing binary outcomes"
      ]
    },
    {
      "cell_type": "code",
      "metadata": {
        "id": "wVKE2Tzso6zL",
        "colab_type": "code",
        "colab": {}
      },
      "source": [
        "ones_and_zeros = '''\n",
        "1011010111101001010101010101001010101001010100101011100100101010101010101010101010101010101010101010101010101010101010101001101101101001010101001010101011010101010101010101010101010101010101100001010101010101010001001110100101\n",
        "'''\n",
        "\n",
        "\n",
        "import numpy as np\n",
        "\n",
        "class Predictor():\n",
        "  def __init__(self, Nmax, D):\n",
        "    self.history = [0 for _ in range(D-1)]\n",
        "    self.stats = np.ones(Nmax**D).reshape([Nmax]*D)\n",
        "    self.D = D\n",
        "    \n",
        "  def best_guess(self):\n",
        "    cond_stats = self.stats[tuple(self.history)] if self.D > 1 else self.stats\n",
        "    guess = np.argmax(cond_stats)\n",
        "    certainty = cond_stats[guess] / cond_stats.sum()\n",
        "    return guess, certainty\n",
        "  \n",
        "  def update(self, num):\n",
        "    if self.D <= 1:\n",
        "      self.stats[num] += 1\n",
        "    else:\n",
        "      self.stats[tuple(self.history)][num] += 1\n",
        "      self.history = self.history[1:] + [num]\n",
        "\n",
        "    \n",
        "class BayesGuesser:\n",
        "  def __init__(self, Nmax):\n",
        "    self.predictors = [Predictor(Nmax, D) for D in [1,2,3,4,5]]\n",
        "    \n",
        "  def best_guess(self):\n",
        "    data = np.array([p.best_guess() for p in self.predictors]).T\n",
        "    return int(data[0, np.argmax(data[1])])\n",
        "    \n",
        "    return self.predictors[np.argmax(self.guesses)].best_guess()\n",
        "  \n",
        "  def update(self, num):\n",
        "    for p in self.predictors:\n",
        "      p.update(num)\n",
        "      \n",
        "      \n",
        "ones_and_zeros = ''.join(ones_and_zeros.split())\n",
        "data = [int(i) for i in ones_and_zeros]\n",
        "\n",
        "bg = BayesGuesser(2)\n",
        "for e in data:\n",
        "  bg.update(e)\n"
      ],
      "execution_count": 0,
      "outputs": []
    },
    {
      "cell_type": "code",
      "metadata": {
        "id": "sRWBkTQI2AWt",
        "colab_type": "code",
        "outputId": "d7d28dec-433e-4430-f7fa-8950e3e0bbb5",
        "colab": {
          "base_uri": "https://localhost:8080/",
          "height": 34
        }
      },
      "source": [
        "test = '''\n",
        "0010101010101001001\n",
        "'''\n",
        "\n",
        "test = ''.join(test.split())\n",
        "data = [int(i) for i in test]\n",
        "\n",
        "stat_correct = 0\n",
        "stat_missed = 0\n",
        "\n",
        "for e in data:\n",
        "  if bg.best_guess() == e:\n",
        "    stat_correct += 1\n",
        "  else:\n",
        "    stat_missed += 1\n",
        "  bg.update(e)\n",
        "  \n",
        "print(\"stats: correct = \", stat_correct, \", misses = \", stat_missed, \",  \", stat_correct / (stat_correct + stat_missed) * 100, \"%\")\n"
      ],
      "execution_count": 0,
      "outputs": [
        {
          "output_type": "stream",
          "text": [
            "stats: correct =  16 , misses =  3 ,   84.21052631578947 %\n"
          ],
          "name": "stdout"
        }
      ]
    },
    {
      "cell_type": "code",
      "metadata": {
        "id": "qPIL1srd26QL",
        "colab_type": "code",
        "outputId": "b171edda-9ed6-42d1-964b-42497b25ba97",
        "colab": {
          "base_uri": "https://localhost:8080/",
          "height": 34
        }
      },
      "source": [
        "bg.guesses"
      ],
      "execution_count": 0,
      "outputs": [
        {
          "output_type": "execute_result",
          "data": {
            "text/plain": [
              "array([ 82, 212, 210, 205, 202])"
            ]
          },
          "metadata": {
            "tags": []
          },
          "execution_count": 9
        }
      ]
    },
    {
      "cell_type": "code",
      "metadata": {
        "id": "_P1y0nbS2-v5",
        "colab_type": "code",
        "outputId": "428927fb-090f-411f-fbf2-c5781bc0d204",
        "colab": {
          "base_uri": "https://localhost:8080/",
          "height": 34
        }
      },
      "source": [
        "bg.misses"
      ],
      "execution_count": 0,
      "outputs": [
        {
          "output_type": "execute_result",
          "data": {
            "text/plain": [
              "array([165,  35,  37,  42,  45])"
            ]
          },
          "metadata": {
            "tags": []
          },
          "execution_count": 10
        }
      ]
    },
    {
      "cell_type": "code",
      "metadata": {
        "id": "3pP3dmnSpXMG",
        "colab_type": "code",
        "outputId": "e9d77dc9-15b6-4eac-cccb-536ccd40ae54",
        "colab": {
          "base_uri": "https://localhost:8080/",
          "height": 89
        }
      },
      "source": [
        "import IPython\n",
        "from google.colab import output\n",
        "\n",
        "_const_guess = '''\n",
        "<br> My guess is: %s <br>\n",
        "<button onclick=\\\"google.colab.kernel.invokeFunction(\\'notebook.Guessed\\', [%s], {})\\\"> Correct </button>\n",
        "<button onclick=\\\"google.colab.kernel.invokeFunction(\\'notebook.Missed\\', [%s], {})\\\"> No </button>\n",
        "'''\n",
        "\n",
        "stat_correct = 0\n",
        "stat_missed = 0\n",
        "\n",
        "def guessed_click(number):\n",
        "  global stat_correct\n",
        "  stat_correct += 1\n",
        "  bg.update(int(number))\n",
        "  do_guess()\n",
        "\n",
        "def missed_click(number):\n",
        "  global stat_missed\n",
        "  stat_missed += 1\n",
        "  bg.update(1 - int(number))\n",
        "  do_guess()\n",
        "  \n",
        "def do_guess():\n",
        "  number = bg.best_guess()\n",
        "  output.clear()\n",
        "  display(IPython.display.HTML(_const_guess % (str(number), str(number), str(number))))\n",
        "  output.register_callback('notebook.Guessed', guessed_click)\n",
        "  output.register_callback('notebook.Missed', missed_click)\n",
        "  print(\"stats: correct = \", stat_correct, \", misses = \", stat_missed)\n",
        "  \n",
        "do_guess()"
      ],
      "execution_count": 0,
      "outputs": [
        {
          "output_type": "display_data",
          "data": {
            "text/html": [
              "\n",
              "<br> My guess is: 0 <br>\n",
              "<button onclick=\"google.colab.kernel.invokeFunction('notebook.Guessed', [0], {})\"> Correct </button>\n",
              "<button onclick=\"google.colab.kernel.invokeFunction('notebook.Missed', [0], {})\"> No </button>\n"
            ],
            "text/plain": [
              "<IPython.core.display.HTML object>"
            ]
          },
          "metadata": {
            "tags": []
          }
        },
        {
          "output_type": "stream",
          "text": [
            "stats: correct =  9 , misses =  24\n"
          ],
          "name": "stdout"
        }
      ]
    },
    {
      "cell_type": "markdown",
      "metadata": {
        "id": "WxdGcIulpPY2",
        "colab_type": "text"
      },
      "source": [
        "#Applications of Naive Bayes"
      ]
    },
    {
      "cell_type": "markdown",
      "metadata": {
        "id": "Zk-6ImKkpQcB",
        "colab_type": "text"
      },
      "source": [
        "What are pros of Naive Bayes?\n",
        "*  It is are extremely fast for both training and prediction\n",
        "*  It provides straightforward probabilistic prediction\n",
        "*  It is often very easily interpretable\n",
        "*  It has very few (if any) tunable parameters\n",
        "\n",
        "Where should we use Naive Bayes Classification?\n",
        "*  When the naive assumptions actually match the data (very rare in practice)\n",
        "*  For very well-separated categories, when model complexity is less important\n",
        "*  For very high-dimensional data, when model complexity is less important\n",
        "\n",
        "Industrial applications:\n",
        "* news classification\n",
        "* faces/objects recognition\n",
        "* spam detection (filthy spammers aware of Bayes spam filtering are trying to fool algorithm by so called Bayesian poisoning - addition of random (or even carefully selected) words that are unlikely to appear in a spam message and  cause the spam filter to believe the message to be legitimate.)\n",
        "* medical diagnosis\n",
        "* weather prediction\n",
        "\n"
      ]
    }
  ]
}