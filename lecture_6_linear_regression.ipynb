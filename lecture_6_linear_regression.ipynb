{
  "nbformat": 4,
  "nbformat_minor": 0,
  "metadata": {
    "colab": {
      "name": "lecture_6_linear_regression.ipynb",
      "version": "0.3.2",
      "provenance": [],
      "toc_visible": true,
      "include_colab_link": true
    },
    "kernelspec": {
      "name": "python3",
      "display_name": "Python 3"
    }
  },
  "cells": [
    {
      "cell_type": "markdown",
      "metadata": {
        "id": "view-in-github",
        "colab_type": "text"
      },
      "source": [
        "<a href=\"https://colab.research.google.com/github/fbeilstein/machine_learning/blob/master/lecture_6_linear_regression.ipynb\" target=\"_parent\"><img src=\"https://colab.research.google.com/assets/colab-badge.svg\" alt=\"Open In Colab\"/></a>"
      ]
    },
    {
      "cell_type": "markdown",
      "metadata": {
        "id": "zQ7rkzNEkKDV",
        "colab_type": "text"
      },
      "source": [
        "#Simple linear regression"
      ]
    },
    {
      "cell_type": "markdown",
      "metadata": {
        "id": "28nzh_ZhkQh1",
        "colab_type": "text"
      },
      "source": [
        "Consider you have training data $\\{(x_1,y_1),\\cdots,(x_n,y_n)\\}$ and you want find a line \n",
        "\n",
        "$$\n",
        "y(x)=a+bx\n",
        "$$\n",
        "\n",
        "that fits your data the best. To determine the best parameters $a$ and $b$ we use a measure of discrepancy between  the observed outputs and the linear regression fit such as the sum squared training error. This is also called ordinary least squares and minimises the average vertical projection of the points y to fitted line:\n",
        "\n",
        "$$\n",
        "E(a,b)=\\sum_{i=1}^n(y_i-y(x_i))^2=\\sum_{i=1}^n(y_i-a-bx_i)^2.\n",
        "$$\n",
        "\n",
        "Our task is to find the parameters a and b that minimise $E(a, b)$. \n",
        "BTW this function is called error function or fit function or loss function.\n",
        "\n",
        "We are seeking for\n",
        "\n",
        "$$\n",
        "\\text{argmin}_{a,b} \\, E(a,b)\n",
        "$$\n",
        "\n",
        "Note that we could have chosen for example\n",
        "\n",
        "$$\n",
        "E_{abs}(a,b)=\\sum_{i=1}^n|y_i-y(x_i)|.\n",
        "$$\n",
        "\n",
        "or\n",
        "\n",
        "$$\n",
        "E_k(a,b)=\\sum_{i=1}^n(y_i-y(x_i))^k.\n",
        "$$\n",
        "\n",
        "These $E$s would render different results.\n",
        "\n",
        "Differentiating with respect to $a$ and $b$ we obtain\n",
        "\n",
        "$$\n",
        "\\begin{aligned}\n",
        "\\frac{\\partial}{\\partial a}E(a,b)&=-2\\sum_{i=1}^n(y_i-a-bx_i) \\\\\n",
        "\\frac{\\partial}{\\partial b}E(a,b)&=-2\\sum_{i=1}^n(y_i-a-bx_i)x_i \\\\\n",
        "\\end{aligned}\n",
        "$$\n",
        "\n",
        "Dividing by $N$ and equating to zero, the optimal parameters are given from the solution to the two linear equations\n",
        "\n",
        "$$\n",
        "\\begin{aligned}\n",
        "&\\langle{y}\\rangle-a-b\\langle{x}\\rangle=0 \\\\\n",
        "&\\langle{xy}\\rangle-a\\langle{x}\\rangle-b\\langle{x^2}\\rangle=0\n",
        "\\end{aligned}\n",
        "$$\n",
        "\n",
        "Solving this we obtain\n",
        "\n",
        "$$\n",
        "\\begin{aligned}\n",
        "a&=\\langle{y}\\rangle-b\\langle{x}\\rangle \\\\\n",
        "b&=\\frac{\\langle{xy}\\rangle-\\langle{x}\\rangle\\langle{y}\\rangle}{\\langle{x^2}\\rangle-\\langle{x}\\rangle^2}.\n",
        "\\end{aligned}\n",
        "$$\n",
        "\n",
        "Expression for $b$ could be rewritten as\n",
        "\n",
        "$$\n",
        "b=\\frac{Cov(x,y)}{Var(x)}=\\rho(x,y)\\frac{s_y}{s_x}\n",
        "$$\n",
        "\n",
        "Where\n",
        "* $Cov$ and $Var$ are uncorrected(biased) sample cavariance and variance;\n",
        "* $s$ is uncorrected(biased) sample standard deviation;\n",
        "* $\\rho$ is the sample correlation coefficient.\n",
        "\n",
        "The coefficient of determination (\"$R$ squared\") is equal to $\\rho^2$. This is a statistical measure of how well the regression predictions approximate the real data points. An $R^2$ of $1$ indicates that the regression predictions perfectly fit the data.\n",
        " \n",
        "\n",
        "\n"
      ]
    },
    {
      "cell_type": "markdown",
      "metadata": {
        "id": "mt2TlNOSDVAN",
        "colab_type": "text"
      },
      "source": [
        "#Baby example"
      ]
    },
    {
      "cell_type": "markdown",
      "metadata": {
        "id": "zwU3EXe3DZEz",
        "colab_type": "text"
      },
      "source": [
        "Let's do simple example by hand to get a feel of the method.\n",
        "Suppose you have data $\\{(1,1),(2,4),(4,5)\\}$.\n",
        "We have to calculate a bunch of averages.\n",
        "\n",
        "$$\n",
        "\\begin{aligned}\n",
        "\\langle{x}\\rangle &=\\langle{\\{1,2,4\\}}\\rangle=\\frac{1+2+4}{3}=2.33, \\\\\n",
        "\\langle{y}\\rangle &=\\langle{\\{1,4,5\\}}\\rangle=\\frac{1+4+5}{3}=3.33, \\\\\n",
        "\\langle{xy}\\rangle &=\\langle{\\{1\\times 1,2\\times 4,4\\times 5\\}}\\rangle=\\frac{1+8+20}{3}=9.66, \\\\\n",
        "\\langle{x^2}\\rangle &=\\langle{\\{1,2^2,4^2\\}}\\rangle=\\frac{1+4+16}{3}=7. \n",
        "\\end{aligned}\n",
        "$$\n",
        "\n",
        "Now we obtain\n",
        "\n",
        "$$\n",
        "\\begin{aligned}\n",
        "b&=\\frac{9.66-2.33\\times 3.33}{7-2.33^2}=1.21, \\\\\n",
        "a&=3.33-1.21\\times 2.33=0.51.\n",
        "\\end{aligned}\n",
        "$$\n"
      ]
    },
    {
      "cell_type": "code",
      "metadata": {
        "id": "W4WXEqpA11GQ",
        "colab_type": "code",
        "colab": {
          "base_uri": "https://localhost:8080/",
          "height": 51
        },
        "outputId": "c6e44328-b9b7-4ce0-a6e1-27f2537683ee"
      },
      "source": [
        "%matplotlib inline\n",
        "import matplotlib.pyplot as plt\n",
        "import seaborn as sns; sns.set()\n",
        "import numpy as np\n",
        "\n",
        "model = LinearRegression(fit_intercept=True)\n",
        "x=np.array([1,2,4]).reshape(-1,1)\n",
        "y=np.array([1,4,5]).reshape(-1,1)\n",
        "model.fit(x,y)\n",
        "print(\"Model slope b     = \", model.coef_[0])\n",
        "print(\"Model intercept a = \", model.intercept_)"
      ],
      "execution_count": 54,
      "outputs": [
        {
          "output_type": "stream",
          "text": [
            "Model slope b     =  [1.21428571]\n",
            "Model intercept a =  [0.5]\n"
          ],
          "name": "stdout"
        }
      ]
    },
    {
      "cell_type": "markdown",
      "metadata": {
        "id": "mCyzl6Wi19nz",
        "colab_type": "text"
      },
      "source": [
        "#Simple Linear Regression"
      ]
    },
    {
      "cell_type": "markdown",
      "metadata": {
        "id": "R30pwz6krI8X",
        "colab_type": "text"
      },
      "source": [
        "Here are $50$ points that fit a line $2x-5$ with somewhat randomeness added."
      ]
    },
    {
      "cell_type": "code",
      "metadata": {
        "id": "futPiN6X1-lW",
        "colab_type": "code",
        "outputId": "8b3d05b3-a8c8-4b38-aa55-5601a17a8d70",
        "colab": {
          "base_uri": "https://localhost:8080/",
          "height": 274
        }
      },
      "source": [
        "rng = np.random.RandomState(1)\n",
        "x = 10 * rng.rand(50)\n",
        "y = 2 * x - 5 + rng.randn(50)\n",
        "plt.scatter(x, y);"
      ],
      "execution_count": 58,
      "outputs": [
        {
          "output_type": "display_data",
          "data": {
            "image/png": "[encoded data removed]",
            "text/plain": [
              "<Figure size 432x288 with 1 Axes>"
            ]
          },
          "metadata": {
            "tags": []
          }
        }
      ]
    },
    {
      "cell_type": "code",
      "metadata": {
        "id": "LrLxXaEJ2GQW",
        "colab_type": "code",
        "outputId": "edad5b1d-4a5a-4903-b684-6904865e8a18",
        "colab": {
          "base_uri": "https://localhost:8080/",
          "height": 274
        }
      },
      "source": [
        "from sklearn.linear_model import LinearRegression\n",
        "\n",
        "model = LinearRegression(fit_intercept=True)\n",
        "model.fit(x[:, np.newaxis], y)\n",
        "xfit = np.linspace(0, 10, 1000)\n",
        "yfit = model.predict(xfit[:, np.newaxis])\n",
        "\n",
        "plt.scatter(x, y)\n",
        "plt.plot(xfit, yfit);"
      ],
      "execution_count": 23,
      "outputs": [
        {
          "output_type": "display_data",
          "data": {
            "image/png": "[encoded data removed]",
            "text/plain": [
              "<Figure size 432x288 with 1 Axes>"
            ]
          },
          "metadata": {
            "tags": []
          }
        }
      ]
    },
    {
      "cell_type": "code",
      "metadata": {
        "id": "tWImb_lm2NqK",
        "colab_type": "code",
        "outputId": "1ae0c44f-2a0a-4f26-ae57-dfda269b562b",
        "colab": {
          "base_uri": "https://localhost:8080/",
          "height": 68
        }
      },
      "source": [
        "print(\"Model slope     = \", model.coef_[0])\n",
        "print(\"Model intercept = \", model.intercept_)\n",
        "print(\"R**2            = \", model.score(x.reshape(-1, 1),y))"
      ],
      "execution_count": 0,
      "outputs": [
        {
          "output_type": "stream",
          "text": [
            "Model slope     =  2.0272088103606953\n",
            "Model intercept =  -4.998577085553204\n",
            "R**2            =  0.9790800609430612\n"
          ],
          "name": "stdout"
        }
      ]
    },
    {
      "cell_type": "markdown",
      "metadata": {
        "id": "UBDpLo4ssWup",
        "colab_type": "text"
      },
      "source": [
        "We successfully obtained parameters of the line. The $R^2=0.97$ tells us that the fit is pretty good."
      ]
    },
    {
      "cell_type": "code",
      "metadata": {
        "id": "vhMxUu47MNF1",
        "colab_type": "code",
        "colab": {
          "base_uri": "https://localhost:8080/",
          "height": 291
        },
        "outputId": "ed954e1a-f098-4750-cf0f-6f352437377b"
      },
      "source": [
        "rng = np.random.RandomState(1)\n",
        "x = 10*rng.rand(50)\n",
        "y = 10*rng.randn(50)\n",
        "model = LinearRegression(fit_intercept=True)\n",
        "model.fit(x[:, np.newaxis], y)\n",
        "xfit = np.linspace(0, 10, 1000)\n",
        "yfit = model.predict(xfit[:, np.newaxis])\n",
        "plt.scatter(x, y)\n",
        "plt.plot(xfit, yfit);\n",
        "print(\"R**2            = \", model.score(x.reshape(-1, 1),y))\n"
      ],
      "execution_count": 75,
      "outputs": [
        {
          "output_type": "stream",
          "text": [
            "R**2            =  0.008360528541052514\n"
          ],
          "name": "stdout"
        },
        {
          "output_type": "display_data",
          "data": {
            "image/png": "[encoded data removed]",
            "text/plain": [
              "<Figure size 432x288 with 1 Axes>"
            ]
          },
          "metadata": {
            "tags": []
          }
        }
      ]
    },
    {
      "cell_type": "markdown",
      "metadata": {
        "id": "I5lxDwPrMiQm",
        "colab_type": "text"
      },
      "source": [
        "$R^2$ is almost $0$ as expected."
      ]
    },
    {
      "cell_type": "markdown",
      "metadata": {
        "id": "KpWzqX5NU_BC",
        "colab_type": "text"
      },
      "source": [
        "Now let's reflect all points in the x-axis:"
      ]
    },
    {
      "cell_type": "code",
      "metadata": {
        "id": "R46yANACVFxJ",
        "colab_type": "code",
        "colab": {
          "base_uri": "https://localhost:8080/",
          "height": 291
        },
        "outputId": "95bc826a-ffbc-4269-ecb1-1bca35501eaa"
      },
      "source": [
        "x=np.concatenate((x,x))\n",
        "y=np.concatenate((y,-y))\n",
        "plt.scatter(x, y)"
      ],
      "execution_count": 77,
      "outputs": [
        {
          "output_type": "execute_result",
          "data": {
            "text/plain": [
              "<matplotlib.collections.PathCollection at 0x7f9115ba7278>"
            ]
          },
          "metadata": {
            "tags": []
          },
          "execution_count": 77
        },
        {
          "output_type": "display_data",
          "data": {
            "image/png": "[encoded data removed]",
            "text/plain": [
              "<Figure size 432x288 with 1 Axes>"
            ]
          },
          "metadata": {
            "tags": []
          }
        }
      ]
    },
    {
      "cell_type": "markdown",
      "metadata": {
        "id": "TvqoIi8WVNE4",
        "colab_type": "text"
      },
      "source": [
        "Can you guess what the value of the coefficient of determination will be?"
      ]
    },
    {
      "cell_type": "code",
      "metadata": {
        "id": "_zphXwwVN11F",
        "colab_type": "code",
        "colab": {
          "base_uri": "https://localhost:8080/",
          "height": 291
        },
        "outputId": "626fc665-9aa0-486e-d717-09f102856d9e"
      },
      "source": [
        "model = LinearRegression(fit_intercept=True)\n",
        "model.fit(x[:, np.newaxis], y)\n",
        "xfit = np.linspace(0, 10, 1000)\n",
        "yfit = model.predict(xfit[:, np.newaxis])\n",
        "plt.scatter(x, y)\n",
        "plt.plot(xfit, yfit);\n",
        "print(\"R**2            = \", model.score(x.reshape(-1, 1),y))"
      ],
      "execution_count": 76,
      "outputs": [
        {
          "output_type": "stream",
          "text": [
            "R**2            =  0.0\n"
          ],
          "name": "stdout"
        },
        {
          "output_type": "display_data",
          "data": {
            "image/png": "[encoded data removed]",
            "text/plain": [
              "<Figure size 432x288 with 1 Axes>"
            ]
          },
          "metadata": {
            "tags": []
          }
        }
      ]
    },
    {
      "cell_type": "markdown",
      "metadata": {
        "id": "rh5d6vD1xa2R",
        "colab_type": "text"
      },
      "source": [
        "Here is an example of polylinear regression.\n",
        "\n",
        "Find the hyperline\n",
        "\n",
        "$$\n",
        "y(x_1, \\cdots, x_n)=a_1x_1+a_2x_2+\\cdots+a_nx_n+b \\\\\n",
        "y(\\mathbf{x})=\\mathbf{a}^{\\top} \\mathbf{x}+b\n",
        "$$\n",
        "\n",
        "that fits sample $\\{(\\mathbf{x}_i;y_{i})\\}$."
      ]
    },
    {
      "cell_type": "code",
      "metadata": {
        "id": "qfkbzF8n2aAc",
        "colab_type": "code",
        "outputId": "d5e55f18-f484-44cb-dd06-2d6cfbfd7904",
        "colab": {
          "base_uri": "https://localhost:8080/",
          "height": 51
        }
      },
      "source": [
        "rng = np.random.RandomState(1)\n",
        "X = 10 * rng.rand(100, 3)\n",
        "y = 0.5 + np.dot(X, [1.5, -2., 1.])\n",
        "model.fit(X, y)\n",
        "print(\"b = \", model.intercept_)\n",
        "print(\"a = \", model.coef_)"
      ],
      "execution_count": 0,
      "outputs": [
        {
          "output_type": "stream",
          "text": [
            "b =  0.50000000000001\n",
            "a =  [ 1.5 -2.   1. ]\n"
          ],
          "name": "stdout"
        }
      ]
    },
    {
      "cell_type": "markdown",
      "metadata": {
        "id": "ZQwLjfAj5C9s",
        "colab_type": "text"
      },
      "source": [
        "We can generalize even more\n",
        "\n",
        "$$\n",
        "y(\\mathbf{x})=\\mathbf{w}^{\\top} \\boldsymbol\\phi(\\mathbf{x})\n",
        "$$\n",
        "\n",
        "where $\\phi(\\mathbf{x})$ is a vector valued function of the input vector $\\mathbf{x}$.\n",
        "For example, in the case of a straight line fit, with a scalar input and output, we have\n",
        "\n",
        "$$\n",
        "\\phi(\\mathbf{x})=(1,x)^{\\top}, \\qquad \\mathbf{w}=(a,b)^{\\top}.\n",
        "$$\n",
        "\n",
        "We define the train error as the sum of squared differences between the observed outputs and the predictions under the linear model:\n",
        "\n",
        "$$\n",
        "E(\\mathbf{w})=\\sum_{i=1}^n(y_i-\\mathbf{w}^{\\top} \\boldsymbol{\\phi}_i))^2\n",
        "$$\n",
        "\n",
        "\n",
        "where $\\boldsymbol{\\phi}_i=\\phi(\\mathbf{x}_i)$.\n",
        "\n",
        "We now wish to determine the parameter vector $\\mathbf{w}$ that minimizes $E(\\mathbf{w})$.\n",
        "\n",
        "$$\n",
        "\\mathbf{w}=\\left(\\sum_{i=1}^n \\boldsymbol{\\phi}_i \\boldsymbol{\\phi}_i^{\\top}\\right)^{-1}\\sum_{i=1}^n y_i \\boldsymbol{\\phi}_i\n",
        "$$\n",
        "\n",
        "Example: A cubic polynomial fit\n",
        "If \n",
        "\n",
        "$$\n",
        "y(x)=w_1+w_2x+w_3x^2+w_4x^3\n",
        "$$ \n",
        "\n",
        "we have\n",
        "\n",
        "$$\n",
        "\\boldsymbol{\\phi}(x)=(1,x,x^2,x^3)^{\\top}\n",
        "$$.\n",
        "\n",
        "It is also straightforward to generalise the above framework to vector outputs $\\mathbf{y}$.\n"
      ]
    },
    {
      "cell_type": "markdown",
      "metadata": {
        "id": "bSCFibem2nUO",
        "colab_type": "text"
      },
      "source": [
        "#Basis Function Regression"
      ]
    },
    {
      "cell_type": "markdown",
      "metadata": {
        "id": "oVqA7xOK2w-W",
        "colab_type": "text"
      },
      "source": [
        "##Polynomial basis functions"
      ]
    },
    {
      "cell_type": "markdown",
      "metadata": {
        "id": "UtrEfGEXw7iT",
        "colab_type": "text"
      },
      "source": [
        "Let\n",
        "\n",
        "$$\n",
        "\\boldsymbol{\\phi}(x)=(1,x,x^2,x^3)^{\\top}\n",
        "$$."
      ]
    },
    {
      "cell_type": "code",
      "metadata": {
        "id": "F_A-_EEr2yAK",
        "colab_type": "code",
        "outputId": "827a7fe9-5178-4ab4-e5e7-d19c4e837c99",
        "colab": {
          "base_uri": "https://localhost:8080/",
          "height": 68
        }
      },
      "source": [
        "from sklearn.preprocessing import PolynomialFeatures\n",
        "x = np.array([2, 3, 4])\n",
        "poly = PolynomialFeatures(3, include_bias=False)\n",
        "poly.fit_transform(x[:, None])"
      ],
      "execution_count": 24,
      "outputs": [
        {
          "output_type": "execute_result",
          "data": {
            "text/plain": [
              "array([[ 2.,  4.,  8.],\n",
              "       [ 3.,  9., 27.],\n",
              "       [ 4., 16., 64.]])"
            ]
          },
          "metadata": {
            "tags": []
          },
          "execution_count": 24
        }
      ]
    },
    {
      "cell_type": "markdown",
      "metadata": {
        "id": "lCgX7-TxwrR_",
        "colab_type": "text"
      },
      "source": [
        "Let's choose\n",
        "\n",
        "$$\n",
        "\\boldsymbol{\\phi}(x)=(1,x,x^2,x^3,x^4,x^5,x^6,x^7)^{\\top}\n",
        "$$."
      ]
    },
    {
      "cell_type": "code",
      "metadata": {
        "id": "6COWcAHC28Zp",
        "colab_type": "code",
        "colab": {}
      },
      "source": [
        "from sklearn.pipeline import make_pipeline\n",
        "poly_model = make_pipeline(PolynomialFeatures(7), LinearRegression())"
      ],
      "execution_count": 0,
      "outputs": []
    },
    {
      "cell_type": "markdown",
      "metadata": {
        "id": "qtdHT6VSxD8w",
        "colab_type": "text"
      },
      "source": [
        "We have $50$ points generated by the $\\sin$ fucntion with some random noise added."
      ]
    },
    {
      "cell_type": "code",
      "metadata": {
        "id": "GrLs0yQS30Qa",
        "colab_type": "code",
        "outputId": "f68c4c1e-64cd-4f22-9480-a278a714a89b",
        "colab": {
          "base_uri": "https://localhost:8080/",
          "height": 274
        }
      },
      "source": [
        "rng = np.random.RandomState(1)\n",
        "x = 10 * rng.rand(50)\n",
        "y = np.sin(x) + 0.1 * rng.randn(50)\n",
        "poly_model.fit(x[:, np.newaxis], y)\n",
        "yfit = poly_model.predict(xfit[:, np.newaxis])\n",
        "plt.scatter(x, y)\n",
        "plt.plot(xfit, yfit);"
      ],
      "execution_count": 44,
      "outputs": [
        {
          "output_type": "display_data",
          "data": {
            "image/png": "[encoded data removed]",
            "text/plain": [
              "<Figure size 432x288 with 1 Axes>"
            ]
          },
          "metadata": {
            "tags": []
          }
        }
      ]
    },
    {
      "cell_type": "markdown",
      "metadata": {
        "id": "MGsVJU4I36_a",
        "colab_type": "text"
      },
      "source": [
        "##Gaussian basis functions"
      ]
    },
    {
      "cell_type": "markdown",
      "metadata": {
        "id": "Qu0g2NQ7xLnL",
        "colab_type": "text"
      },
      "source": [
        "Of course, other basis functions are possible. For example, one useful pattern is to fit\n",
        "a model that is not a sum of polynomial bases, but a sum of Gaussian bases. "
      ]
    },
    {
      "cell_type": "code",
      "metadata": {
        "id": "ru7ib5el38K9",
        "colab_type": "code",
        "outputId": "c7bc01b1-0476-4260-d063-7eb81d8fe239",
        "colab": {
          "base_uri": "https://localhost:8080/",
          "height": 274
        }
      },
      "source": [
        "from sklearn.base import BaseEstimator, TransformerMixin\n",
        "\n",
        "class GaussianFeatures(BaseEstimator, TransformerMixin):\n",
        "  \"\"\"Uniformly spaced Gaussian features for one-dimensional input\"\"\"\n",
        "  \n",
        "  def __init__(self, N, width_factor=2.0):\n",
        "    self.N = N\n",
        "    self.width_factor = width_factor\n",
        "\n",
        "  @staticmethod\n",
        "  def _gauss_basis(x, y, width, axis=None):\n",
        "    arg = (x - y) / width\n",
        "    return np.exp(-0.5 * np.sum(arg ** 2, axis))\n",
        "\n",
        "  def fit(self, X, y=None):\n",
        "    # create N centers spread along the data range\n",
        "    self.centers_ = np.linspace(X.min(), X.max(), self.N)\n",
        "    self.width_ = self.width_factor * (self.centers_[1] - self.centers_[0])\n",
        "    return self\n",
        "  \n",
        "  def transform(self, X):\n",
        "    return self._gauss_basis(X[:, :, np.newaxis], self.centers_, self.width_, axis=1)\n",
        "\n",
        "  \n",
        "gauss_model = make_pipeline(GaussianFeatures(20), LinearRegression())\n",
        "gauss_model.fit(x[:, np.newaxis], y)\n",
        "yfit = gauss_model.predict(xfit[:, np.newaxis])\n",
        "\n",
        "plt.scatter(x, y)\n",
        "plt.plot(xfit, yfit)\n",
        "plt.xlim(0, 10);"
      ],
      "execution_count": 48,
      "outputs": [
        {
          "output_type": "display_data",
          "data": {
            "image/png": "[encoded data removed]",
            "text/plain": [
              "<Figure size 432x288 with 1 Axes>"
            ]
          },
          "metadata": {
            "tags": []
          }
        }
      ]
    },
    {
      "cell_type": "markdown",
      "metadata": {
        "id": "JVDth5C0xQoe",
        "colab_type": "text"
      },
      "source": [
        "We put this example here just to make clear that there is nothing magic about poly‐\n",
        "nomial basis functions: if you have some sort of intuition into the generating process\n",
        "of your data that makes you think one basis or another might be appropriate, you can\n",
        "use them as well."
      ]
    },
    {
      "cell_type": "markdown",
      "metadata": {
        "id": "BWeo_jUZ4bke",
        "colab_type": "text"
      },
      "source": [
        "#Regularization"
      ]
    },
    {
      "cell_type": "markdown",
      "metadata": {
        "id": "n65Rqx7zv3Yy",
        "colab_type": "text"
      },
      "source": [
        "The introduction of basis functions into our linear regression makes the model much more flexible, but it also can very quickly lead to overfitting. For example, if we choose too many Gaussian basis functions, we end up with results that don’t look so good"
      ]
    },
    {
      "cell_type": "code",
      "metadata": {
        "id": "E_XiMuz85aRY",
        "colab_type": "code",
        "outputId": "fcc35ce3-93ba-44dd-e93c-faca994e1508",
        "colab": {
          "base_uri": "https://localhost:8080/",
          "height": 291
        }
      },
      "source": [
        "# overfitting\n",
        "model = make_pipeline(GaussianFeatures(30), LinearRegression())\n",
        "model.fit(x[:, np.newaxis], y)\n",
        "plt.scatter(x, y)\n",
        "plt.plot(xfit, model.predict(xfit[:, np.newaxis]))"
      ],
      "execution_count": 0,
      "outputs": [
        {
          "output_type": "execute_result",
          "data": {
            "text/plain": [
              "[<matplotlib.lines.Line2D at 0x7f4acfecbcf8>]"
            ]
          },
          "metadata": {
            "tags": []
          },
          "execution_count": 13
        },
        {
          "output_type": "display_data",
          "data": {
            "image/png": "[encoded data removed]",
            "text/plain": [
              "<Figure size 432x288 with 1 Axes>"
            ]
          },
          "metadata": {
            "tags": []
          }
        }
      ]
    },
    {
      "cell_type": "markdown",
      "metadata": {
        "id": "yXfuoxpFv_e9",
        "colab_type": "text"
      },
      "source": [
        "With the data projected to the $30$-dimensional basis, the model has far too much flexibility and goes to extreme values between locations where it is constrained by data. We can see the reason for this if we plot the coefficients of the Gaussian bases with respect to their locations"
      ]
    },
    {
      "cell_type": "code",
      "metadata": {
        "id": "f5n7rNGi5kR3",
        "colab_type": "code",
        "outputId": "f8ad19cf-2200-4cf3-fc7a-09b72b48342c",
        "colab": {
          "base_uri": "https://localhost:8080/",
          "height": 291
        }
      },
      "source": [
        "def basis_plot(model, title=None):\n",
        "  fig, ax = plt.subplots(2, sharex=True)\n",
        "  model.fit(x[:, np.newaxis], y)\n",
        "  ax[0].scatter(x, y)\n",
        "  ax[0].plot(xfit, model.predict(xfit[:, np.newaxis]))\n",
        "  ax[0].set(xlabel='x', ylabel='y', ylim=(-1.5, 1.5))\n",
        "  if title:\n",
        "    ax[0].set_title(title)\n",
        "  ax[1].plot(model.steps[0][1].centers_, model.steps[1][1].coef_)\n",
        "  ax[1].set(xlabel='basis location', ylabel='coefficient', xlim=(0, 10))\n",
        "    \n",
        "    \n",
        "model = make_pipeline(GaussianFeatures(30), LinearRegression())\n",
        "basis_plot(model)"
      ],
      "execution_count": 0,
      "outputs": [
        {
          "output_type": "display_data",
          "data": {
            "image/png": "[encoded data removed]",
            "text/plain": [
              "<Figure size 432x288 with 2 Axes>"
            ]
          },
          "metadata": {
            "tags": []
          }
        }
      ]
    },
    {
      "cell_type": "markdown",
      "metadata": {
        "id": "eBRrrwgdwFWR",
        "colab_type": "text"
      },
      "source": [
        "The lower panel shows the amplitude of the basis function at each\n",
        "location. This is typical overfitting behavior when basis functions overlap: the coefficients of adjacent basis functions blow up and cancel each other out. We know that such behavior is problematic, and it would be nice if we could limit such spikes explicitly in the model by penalizing large values of the model parameters. Such a penalty is known as regularization, and comes in several forms."
      ]
    },
    {
      "cell_type": "markdown",
      "metadata": {
        "id": "Qi_mGz4U6J_g",
        "colab_type": "text"
      },
      "source": [
        "##Ridge regression ($L_2$ regularization)"
      ]
    },
    {
      "cell_type": "markdown",
      "metadata": {
        "id": "diseI1TovfmT",
        "colab_type": "text"
      },
      "source": [
        "Perhaps the most common form of regularization is known as ridge regression or L2\n",
        "regularization, sometimes also called Tikhonov regularization. This proceeds by penal‐\n",
        "izing the sum of squares (2-norms) of the model coefficients; in this case, the penalty\n",
        "on the model fit would be:\n",
        "\n",
        "$$\n",
        "E_2 = \\alpha \\sum w_i^2.\n",
        "$$\n",
        "\n",
        "Total fit function is now\n",
        "\n",
        "$$\n",
        "E=E(a,b)+E_2.\n",
        "$$\n",
        "\n",
        "α is a free parameter that controls the strength of the penalty. This type of\n",
        "penalized model is built into Scikit-Learn with the Ridge estimator\n",
        "\n"
      ]
    },
    {
      "cell_type": "code",
      "metadata": {
        "id": "uvF1IrwH6NLF",
        "colab_type": "code",
        "outputId": "f030c214-41eb-4793-8148-a5006a550632",
        "colab": {
          "base_uri": "https://localhost:8080/",
          "height": 301
        }
      },
      "source": [
        "from sklearn.linear_model import Ridge\n",
        "\n",
        "model = make_pipeline(GaussianFeatures(30), Ridge(alpha=0.1))\n",
        "basis_plot(model, title='Ridge Regression')"
      ],
      "execution_count": 0,
      "outputs": [
        {
          "output_type": "display_data",
          "data": {
            "image/png": "[encoded data removed]",
            "text/plain": [
              "<Figure size 432x288 with 2 Axes>"
            ]
          },
          "metadata": {
            "tags": []
          }
        }
      ]
    },
    {
      "cell_type": "markdown",
      "metadata": {
        "id": "lBpDDSgf6Z0N",
        "colab_type": "text"
      },
      "source": [
        "*  $\\alpha \\to 0$ --- original linear regression\n",
        "*  $\\alpha \\to \\infty$ --- regression totally suppressed\n",
        "*  it can be computed very efficiently—at hardly more computational cost than the original linear regression model"
      ]
    },
    {
      "cell_type": "markdown",
      "metadata": {
        "id": "-1ZwEM3C6zxm",
        "colab_type": "text"
      },
      "source": [
        "##Lasso regularization ($L_1$)"
      ]
    },
    {
      "cell_type": "markdown",
      "metadata": {
        "id": "_jt8EYvWvH7r",
        "colab_type": "text"
      },
      "source": [
        "Another very common type of regularization is known as lasso, and involves penaliz‐\n",
        "ing the sum of absolute values (1-norms) of regression coefficients:\n",
        "\n",
        "$$\n",
        "E_1 = \\alpha \\sum |w_i|.\n",
        "$$\n",
        "\n",
        "Total fit function is now\n",
        "\n",
        "$$\n",
        "E=E(a,b)+E_1.\n",
        "$$\n",
        "\n",
        "Though this is conceptually very similar to ridge regression, the results can differ surprisingly: for example, due to geometric reasons lasso regression tends to favor sparse models where possible; that is, it preferentially sets model coefficients to exactly zero."
      ]
    },
    {
      "cell_type": "code",
      "metadata": {
        "id": "j0dliCh16mQw",
        "colab_type": "code",
        "outputId": "eb4450e3-7830-4302-efa1-2a1421acd2d0",
        "colab": {
          "base_uri": "https://localhost:8080/",
          "height": 301
        }
      },
      "source": [
        "from sklearn.linear_model import Lasso\n",
        "\n",
        "model = make_pipeline(GaussianFeatures(30), Lasso(alpha=0.001, tol=0.01))\n",
        "basis_plot(model, title='Lasso Regression')"
      ],
      "execution_count": 0,
      "outputs": [
        {
          "output_type": "display_data",
          "data": {
            "image/png": "[encoded data removed]",
            "text/plain": [
              "<Figure size 432x288 with 2 Axes>"
            ]
          },
          "metadata": {
            "tags": []
          }
        }
      ]
    },
    {
      "cell_type": "markdown",
      "metadata": {
        "id": "5WvXemxZNIaE",
        "colab_type": "text"
      },
      "source": [
        "#Example: Predicting Bicycle Traffic"
      ]
    },
    {
      "cell_type": "markdown",
      "metadata": {
        "id": "M5YqFnbXJFWi",
        "colab_type": "text"
      },
      "source": [
        "As an example, let’s take a look at whether we can predict the number of bicycle trips\n",
        "across Seattle’s Fremont Bridge based on weather, season, and other factors."
      ]
    },
    {
      "cell_type": "code",
      "metadata": {
        "id": "kMT2XMKxDX9e",
        "colab_type": "code",
        "outputId": "14ffa7d5-3a96-4a0d-c4e2-a6b2a5eecc4a",
        "colab": {
          "base_uri": "https://localhost:8080/",
          "height": 119
        }
      },
      "source": [
        "# taken from\n",
        "# https://www.ncdc.noaa.gov/cdo-web/datasets/GHCND/stations/GHCND:USW00024233/detail\n",
        "# and\n",
        "# https://data.seattle.gov/api/views/65db-xm6k/rows.csv?accessType=DOWNLOAD\n",
        "!curl -O https://raw.githubusercontent.com/fbeilstein/machine_learning/master/datasets/fremont_bridge.csv\n",
        "!curl -O https://raw.githubusercontent.com/fbeilstein/machine_learning/master/datasets/fremont_weather.csv"
      ],
      "execution_count": 4,
      "outputs": [
        {
          "output_type": "stream",
          "text": [
            "  % Total    % Received % Xferd  Average Speed   Time    Time     Time  Current\n",
            "                                 Dload  Upload   Total   Spent    Left  Speed\n",
            "100 1658k  100 1658k    0     0  4445k      0 --:--:-- --:--:-- --:--:-- 4445k\n",
            "  % Total    % Received % Xferd  Average Speed   Time    Time     Time  Current\n",
            "                                 Dload  Upload   Total   Spent    Left  Speed\n",
            "100  972k  100  972k    0     0  3522k      0 --:--:-- --:--:-- --:--:-- 3522k\n"
          ],
          "name": "stdout"
        }
      ]
    },
    {
      "cell_type": "code",
      "metadata": {
        "id": "TdcYu8g6DxvU",
        "colab_type": "code",
        "colab": {
          "base_uri": "https://localhost:8080/",
          "height": 1000
        },
        "outputId": "7a5f4833-794a-46ab-b2cf-3155a65fae1e"
      },
      "source": [
        "import pandas as pd\n",
        "\n",
        "counts = pd.read_csv('fremont_bridge.csv', index_col='Date', parse_dates=True)\n",
        "weather = pd.read_csv('fremont_weather.csv', index_col='DATE', parse_dates=True)\n",
        "print(counts)"
      ],
      "execution_count": 5,
      "outputs": [
        {
          "output_type": "stream",
          "text": [
            "                     Fremont Bridge East Sidewalk  Fremont Bridge West Sidewalk\n",
            "Date                                                                           \n",
            "2019-06-30 23:00:00                           7.0                          15.0\n",
            "2019-06-30 22:00:00                          20.0                          30.0\n",
            "2019-06-30 21:00:00                          31.0                          32.0\n",
            "2019-06-30 20:00:00                          72.0                          58.0\n",
            "2019-06-30 19:00:00                          58.0                          77.0\n",
            "2019-06-30 18:00:00                          68.0                         139.0\n",
            "2019-06-30 17:00:00                          84.0                         148.0\n",
            "2019-06-30 16:00:00                         148.0                         183.0\n",
            "2019-06-30 15:00:00                         145.0                         216.0\n",
            "2019-06-30 14:00:00                         116.0                         199.0\n",
            "2019-06-30 13:00:00                         148.0                         190.0\n",
            "2019-06-30 12:00:00                         149.0                         187.0\n",
            "2019-06-30 11:00:00                         182.0                         148.0\n",
            "2019-06-30 10:00:00                         117.0                         141.0\n",
            "2019-06-30 09:00:00                          77.0                          92.0\n",
            "2019-06-30 08:00:00                          54.0                          56.0\n",
            "2019-06-30 07:00:00                          19.0                          25.0\n",
            "2019-06-30 06:00:00                          10.0                          16.0\n",
            "2019-06-30 05:00:00                           5.0                           4.0\n",
            "2019-06-30 04:00:00                           1.0                           2.0\n",
            "2019-06-30 03:00:00                           2.0                           0.0\n",
            "2019-06-30 02:00:00                           8.0                           7.0\n",
            "2019-06-30 01:00:00                          11.0                          10.0\n",
            "2019-06-30 00:00:00                           9.0                          18.0\n",
            "2019-06-29 23:00:00                          12.0                          25.0\n",
            "2019-06-29 22:00:00                          17.0                          40.0\n",
            "2019-06-29 21:00:00                          41.0                          45.0\n",
            "2019-06-29 20:00:00                          51.0                          63.0\n",
            "2019-06-29 19:00:00                          57.0                          73.0\n",
            "2019-06-29 18:00:00                         107.0                         103.0\n",
            "...                                           ...                           ...\n",
            "2012-10-04 05:00:00                          15.0                          11.0\n",
            "2012-10-04 04:00:00                           7.0                           1.0\n",
            "2012-10-04 03:00:00                           0.0                           3.0\n",
            "2012-10-04 02:00:00                           3.0                           6.0\n",
            "2012-10-04 01:00:00                           3.0                           0.0\n",
            "2012-10-04 00:00:00                           7.0                          11.0\n",
            "2012-10-03 23:00:00                           5.0                          12.0\n",
            "2012-10-03 22:00:00                          24.0                          25.0\n",
            "2012-10-03 21:00:00                          25.0                          38.0\n",
            "2012-10-03 20:00:00                          29.0                          51.0\n",
            "2012-10-03 19:00:00                          59.0                          69.0\n",
            "2012-10-03 18:00:00                         122.0                         258.0\n",
            "2012-10-03 17:00:00                         192.0                         391.0\n",
            "2012-10-03 16:00:00                         133.0                         182.0\n",
            "2012-10-03 15:00:00                          72.0                          92.0\n",
            "2012-10-03 14:00:00                          77.0                          51.0\n",
            "2012-10-03 13:00:00                          42.0                          48.0\n",
            "2012-10-03 12:00:00                          35.0                          41.0\n",
            "2012-10-03 11:00:00                          10.0                          32.0\n",
            "2012-10-03 10:00:00                          72.0                          46.0\n",
            "2012-10-03 09:00:00                         172.0                         104.0\n",
            "2012-10-03 08:00:00                         291.0                         146.0\n",
            "2012-10-03 07:00:00                         257.0                          95.0\n",
            "2012-10-03 06:00:00                         105.0                          50.0\n",
            "2012-10-03 05:00:00                          21.0                          10.0\n",
            "2012-10-03 04:00:00                           6.0                           1.0\n",
            "2012-10-03 03:00:00                           2.0                           3.0\n",
            "2012-10-03 02:00:00                           1.0                           1.0\n",
            "2012-10-03 01:00:00                           4.0                           6.0\n",
            "2012-10-03 00:00:00                           4.0                           9.0\n",
            "\n",
            "[59088 rows x 2 columns]\n"
          ],
          "name": "stdout"
        }
      ]
    },
    {
      "cell_type": "markdown",
      "metadata": {
        "id": "eAN0LoHQlbyJ",
        "colab_type": "text"
      },
      "source": [
        "We see that we have numbers of cyclist that cross the bridge in both directions indexed by the date. We sum these numbers to get the total number of cyclist in both directions.\n"
      ]
    },
    {
      "cell_type": "code",
      "metadata": {
        "id": "0cxrkq5PIZJA",
        "colab_type": "code",
        "colab": {
          "base_uri": "https://localhost:8080/",
          "height": 1000
        },
        "outputId": "79273061-b4f8-4237-bdb8-594c8738f948"
      },
      "source": [
        "daily = counts.resample('d').sum()\n",
        "daily['Total'] = daily.sum(axis=1)\n",
        "daily = daily[['Total']] # remove other columns\n",
        "print(daily)"
      ],
      "execution_count": 7,
      "outputs": [
        {
          "output_type": "stream",
          "text": [
            "             Total\n",
            "Date              \n",
            "2012-10-03  3521.0\n",
            "2012-10-04  3475.0\n",
            "2012-10-05  3148.0\n",
            "2012-10-06  2006.0\n",
            "2012-10-07  2142.0\n",
            "2012-10-08  3537.0\n",
            "2012-10-09  3501.0\n",
            "2012-10-10  3235.0\n",
            "2012-10-11  3047.0\n",
            "2012-10-12  2011.0\n",
            "2012-10-13   766.0\n",
            "2012-10-14   698.0\n",
            "2012-10-15  2273.0\n",
            "2012-10-16  3036.0\n",
            "2012-10-17  3243.0\n",
            "2012-10-18  2923.0\n",
            "2012-10-19  1977.0\n",
            "2012-10-20  1068.0\n",
            "2012-10-21   989.0\n",
            "2012-10-22  2129.0\n",
            "2012-10-23  2500.0\n",
            "2012-10-24  2429.0\n",
            "2012-10-25  2713.0\n",
            "2012-10-26  2073.0\n",
            "2012-10-27   531.0\n",
            "2012-10-28  1062.0\n",
            "2012-10-29  2217.0\n",
            "2012-10-30  1735.0\n",
            "2012-10-31  1710.0\n",
            "2012-11-01  2091.0\n",
            "...            ...\n",
            "2019-06-01  3059.0\n",
            "2019-06-02  2963.0\n",
            "2019-06-03  5376.0\n",
            "2019-06-04  5791.0\n",
            "2019-06-05  5377.0\n",
            "2019-06-06  4714.0\n",
            "2019-06-07  3287.0\n",
            "2019-06-08  2973.0\n",
            "2019-06-09  2989.0\n",
            "2019-06-10  5719.0\n",
            "2019-06-11  6428.0\n",
            "2019-06-12  6026.0\n",
            "2019-06-13  5995.0\n",
            "2019-06-14  4911.0\n",
            "2019-06-15  3335.0\n",
            "2019-06-16  3270.0\n",
            "2019-06-17  5383.0\n",
            "2019-06-18  3936.0\n",
            "2019-06-19  5372.0\n",
            "2019-06-20  4908.0\n",
            "2019-06-21  4648.0\n",
            "2019-06-22  2778.0\n",
            "2019-06-23  1751.0\n",
            "2019-06-24  4948.0\n",
            "2019-06-25  6060.0\n",
            "2019-06-26  5032.0\n",
            "2019-06-27  3969.0\n",
            "2019-06-28  4797.0\n",
            "2019-06-29  3183.0\n",
            "2019-06-30  3534.0\n",
            "\n",
            "[2462 rows x 1 columns]\n"
          ],
          "name": "stdout"
        }
      ]
    },
    {
      "cell_type": "markdown",
      "metadata": {
        "id": "g9AH_Hcgl0cW",
        "colab_type": "text"
      },
      "source": [
        "We attach $7$ one more columns to indicate the day of the week."
      ]
    },
    {
      "cell_type": "code",
      "metadata": {
        "id": "bGDfhesOLqgM",
        "colab_type": "code",
        "colab": {}
      },
      "source": [
        "days = ['Mon', 'Tue', 'Wed', 'Thu', 'Fri', 'Sat', 'Sun']\n",
        "for i in range(7):\n",
        "  daily[days[i]] = (daily.index.dayofweek == i).astype(float)"
      ],
      "execution_count": 0,
      "outputs": []
    },
    {
      "cell_type": "markdown",
      "metadata": {
        "id": "KEyTXURWl9hY",
        "colab_type": "text"
      },
      "source": [
        "We add one more column to account the national holidays."
      ]
    },
    {
      "cell_type": "code",
      "metadata": {
        "id": "4r10rlOeLv-P",
        "colab_type": "code",
        "colab": {}
      },
      "source": [
        "from pandas.tseries.holiday import USFederalHolidayCalendar\n",
        "\n",
        "cal = USFederalHolidayCalendar()\n",
        "holidays = cal.holidays('2012', '2016')\n",
        "daily = daily.join(pd.Series(1, index=holidays, name='holiday'))\n",
        "daily['holiday'].fillna(0, inplace=True)\n"
      ],
      "execution_count": 0,
      "outputs": []
    },
    {
      "cell_type": "markdown",
      "metadata": {
        "id": "5YAmPKVsmFZz",
        "colab_type": "text"
      },
      "source": [
        "Now we want to add column with hours of daylight which we calculate from the well-known astronomical formula."
      ]
    },
    {
      "cell_type": "code",
      "metadata": {
        "id": "O5f-OG5xL1XK",
        "colab_type": "code",
        "outputId": "90802dec-34b7-44e8-ce27-2f36b91b5255",
        "colab": {
          "base_uri": "https://localhost:8080/",
          "height": 291
        }
      },
      "source": [
        "import numpy as np\n",
        "\n",
        "def hours_of_daylight(date, axis=23.44, latitude=47.61):\n",
        "  \"\"\"Compute the hours of daylight for the given date\"\"\"\n",
        "  days = (date - pd.datetime(2000, 12, 21)).days\n",
        "  m = (1. - np.tan(np.radians(latitude)) * np.tan(np.radians(axis) * np.cos(days * 2 * np.pi / 365.25)))\n",
        "  return 24. * np.degrees(np.arccos(1 - np.clip(m, 0, 2))) / 180.\n",
        "\n",
        "daily['daylight_hrs'] = [hours_of_daylight(d) for d in daily.index] #list(map(hours_of_daylight, daily.index))\n",
        "daily[['daylight_hrs']].plot();"
      ],
      "execution_count": 12,
      "outputs": [
        {
          "output_type": "display_data",
          "data": {
            "image/png": "[encoded data removed]",
            "text/plain": [
              "<Figure size 432x288 with 1 Axes>"
            ]
          },
          "metadata": {
            "tags": []
          }
        }
      ]
    },
    {
      "cell_type": "markdown",
      "metadata": {
        "id": "nrJe8yLwpzq5",
        "colab_type": "text"
      },
      "source": [
        "Earlier we downloaded weather data, and express temperature and PRCP (precipitation) in more convenient units and add one more column indicating whether the day was dry or not. We want for the change in the count of cyclists that due to the time passed from the start of experiment ('annual' feature)."
      ]
    },
    {
      "cell_type": "code",
      "metadata": {
        "id": "UbUTbqlEMHMD",
        "colab_type": "code",
        "outputId": "dd60f9f3-6e54-468d-95dd-9c6feb6b7e04",
        "colab": {
          "base_uri": "https://localhost:8080/",
          "height": 235
        }
      },
      "source": [
        "# temperatures are in 1/10 deg C; convert to C\n",
        "weather['TMIN'] /= 10\n",
        "weather['TMAX'] /= 10\n",
        "weather['Temp (C)'] = 0.5 * (weather['TMIN'] + weather['TMAX'])\n",
        "\n",
        "# precip is in 1/10 mm; convert to inches\n",
        "weather['PRCP'] /= 254\n",
        "weather['dry day'] = (weather['PRCP'] == 0).astype(int)\n",
        "daily = daily.join(weather[['PRCP', 'Temp (C)', 'dry day']])\n",
        "\n",
        "daily['annual'] = (daily.index - daily.index[0]).days / 365\n",
        "\n",
        "daily.head()"
      ],
      "execution_count": 13,
      "outputs": [
        {
          "output_type": "execute_result",
          "data": {
            "text/html": [
              "<div>\n",
              "<style scoped>\n",
              "    .dataframe tbody tr th:only-of-type {\n",
              "        vertical-align: middle;\n",
              "    }\n",
              "\n",
              "    .dataframe tbody tr th {\n",
              "        vertical-align: top;\n",
              "    }\n",
              "\n",
              "    .dataframe thead th {\n",
              "        text-align: right;\n",
              "    }\n",
              "</style>\n",
              "<table border=\"1\" class=\"dataframe\">\n",
              "  <thead>\n",
              "    <tr style=\"text-align: right;\">\n",
              "      <th></th>\n",
              "      <th>Total</th>\n",
              "      <th>Mon</th>\n",
              "      <th>Tue</th>\n",
              "      <th>Wed</th>\n",
              "      <th>Thu</th>\n",
              "      <th>Fri</th>\n",
              "      <th>Sat</th>\n",
              "      <th>Sun</th>\n",
              "      <th>daylight_hrs</th>\n",
              "      <th>holiday</th>\n",
              "      <th>PRCP</th>\n",
              "      <th>Temp (C)</th>\n",
              "      <th>dry day</th>\n",
              "      <th>annual</th>\n",
              "    </tr>\n",
              "    <tr>\n",
              "      <th>Date</th>\n",
              "      <th></th>\n",
              "      <th></th>\n",
              "      <th></th>\n",
              "      <th></th>\n",
              "      <th></th>\n",
              "      <th></th>\n",
              "      <th></th>\n",
              "      <th></th>\n",
              "      <th></th>\n",
              "      <th></th>\n",
              "      <th></th>\n",
              "      <th></th>\n",
              "      <th></th>\n",
              "      <th></th>\n",
              "    </tr>\n",
              "  </thead>\n",
              "  <tbody>\n",
              "    <tr>\n",
              "      <th>2012-10-03</th>\n",
              "      <td>3521.0</td>\n",
              "      <td>0.0</td>\n",
              "      <td>0.0</td>\n",
              "      <td>1.0</td>\n",
              "      <td>0.0</td>\n",
              "      <td>0.0</td>\n",
              "      <td>0.0</td>\n",
              "      <td>0.0</td>\n",
              "      <td>11.277359</td>\n",
              "      <td>0.0</td>\n",
              "      <td>0.0</td>\n",
              "      <td>1.335</td>\n",
              "      <td>1</td>\n",
              "      <td>0.000000</td>\n",
              "    </tr>\n",
              "    <tr>\n",
              "      <th>2012-10-04</th>\n",
              "      <td>3475.0</td>\n",
              "      <td>0.0</td>\n",
              "      <td>0.0</td>\n",
              "      <td>0.0</td>\n",
              "      <td>1.0</td>\n",
              "      <td>0.0</td>\n",
              "      <td>0.0</td>\n",
              "      <td>0.0</td>\n",
              "      <td>11.219142</td>\n",
              "      <td>0.0</td>\n",
              "      <td>0.0</td>\n",
              "      <td>1.360</td>\n",
              "      <td>1</td>\n",
              "      <td>0.002740</td>\n",
              "    </tr>\n",
              "    <tr>\n",
              "      <th>2012-10-05</th>\n",
              "      <td>3148.0</td>\n",
              "      <td>0.0</td>\n",
              "      <td>0.0</td>\n",
              "      <td>0.0</td>\n",
              "      <td>0.0</td>\n",
              "      <td>1.0</td>\n",
              "      <td>0.0</td>\n",
              "      <td>0.0</td>\n",
              "      <td>11.161038</td>\n",
              "      <td>0.0</td>\n",
              "      <td>0.0</td>\n",
              "      <td>1.530</td>\n",
              "      <td>1</td>\n",
              "      <td>0.005479</td>\n",
              "    </tr>\n",
              "    <tr>\n",
              "      <th>2012-10-06</th>\n",
              "      <td>2006.0</td>\n",
              "      <td>0.0</td>\n",
              "      <td>0.0</td>\n",
              "      <td>0.0</td>\n",
              "      <td>0.0</td>\n",
              "      <td>0.0</td>\n",
              "      <td>1.0</td>\n",
              "      <td>0.0</td>\n",
              "      <td>11.103056</td>\n",
              "      <td>0.0</td>\n",
              "      <td>0.0</td>\n",
              "      <td>1.585</td>\n",
              "      <td>1</td>\n",
              "      <td>0.008219</td>\n",
              "    </tr>\n",
              "    <tr>\n",
              "      <th>2012-10-07</th>\n",
              "      <td>2142.0</td>\n",
              "      <td>0.0</td>\n",
              "      <td>0.0</td>\n",
              "      <td>0.0</td>\n",
              "      <td>0.0</td>\n",
              "      <td>0.0</td>\n",
              "      <td>0.0</td>\n",
              "      <td>1.0</td>\n",
              "      <td>11.045208</td>\n",
              "      <td>0.0</td>\n",
              "      <td>0.0</td>\n",
              "      <td>1.585</td>\n",
              "      <td>1</td>\n",
              "      <td>0.010959</td>\n",
              "    </tr>\n",
              "  </tbody>\n",
              "</table>\n",
              "</div>"
            ],
            "text/plain": [
              "             Total  Mon  Tue  Wed  ...  PRCP  Temp (C)  dry day    annual\n",
              "Date                               ...                                   \n",
              "2012-10-03  3521.0  0.0  0.0  1.0  ...   0.0     1.335        1  0.000000\n",
              "2012-10-04  3475.0  0.0  0.0  0.0  ...   0.0     1.360        1  0.002740\n",
              "2012-10-05  3148.0  0.0  0.0  0.0  ...   0.0     1.530        1  0.005479\n",
              "2012-10-06  2006.0  0.0  0.0  0.0  ...   0.0     1.585        1  0.008219\n",
              "2012-10-07  2142.0  0.0  0.0  0.0  ...   0.0     1.585        1  0.010959\n",
              "\n",
              "[5 rows x 14 columns]"
            ]
          },
          "metadata": {
            "tags": []
          },
          "execution_count": 13
        }
      ]
    },
    {
      "cell_type": "markdown",
      "metadata": {
        "id": "WPOvsZqitsbi",
        "colab_type": "text"
      },
      "source": [
        "We now have model with $13$ features. Now we do simple linear regression and look at the prediction."
      ]
    },
    {
      "cell_type": "code",
      "metadata": {
        "id": "MQFYKy6EMS0z",
        "colab_type": "code",
        "outputId": "e6b93339-d87d-4857-a895-c80a20f0b158",
        "colab": {
          "base_uri": "https://localhost:8080/",
          "height": 291
        }
      },
      "source": [
        "from sklearn.linear_model import LinearRegression\n",
        "\n",
        "column_names = ['Mon', 'Tue', 'Wed', 'Thu', 'Fri', 'Sat', 'Sun', 'holiday', 'daylight_hrs', 'PRCP', 'dry day', 'Temp (C)', 'annual']\n",
        "X = daily[column_names]\n",
        "y = daily['Total']\n",
        "\n",
        "model = LinearRegression(fit_intercept=False)\n",
        "model.fit(X, y)\n",
        "daily['predicted'] = model.predict(X)\n",
        "\n",
        "daily[['Total', 'predicted']].plot(alpha=0.5);"
      ],
      "execution_count": 14,
      "outputs": [
        {
          "output_type": "display_data",
          "data": {
            "image/png": "[encoded data removed]",
            "text/plain": [
              "<Figure size 432x288 with 1 Axes>"
            ]
          },
          "metadata": {
            "tags": []
          }
        }
      ]
    },
    {
      "cell_type": "markdown",
      "metadata": {
        "id": "m24SXCmft-K3",
        "colab_type": "text"
      },
      "source": [
        "Here are coefficients of our linear model."
      ]
    },
    {
      "cell_type": "code",
      "metadata": {
        "id": "5qFie19VMxNi",
        "colab_type": "code",
        "outputId": "57cd3a71-bc00-4466-fcb8-9e10c22f0083",
        "colab": {
          "base_uri": "https://localhost:8080/",
          "height": 255
        }
      },
      "source": [
        "params = pd.Series(model.coef_, index=X.columns)\n",
        "params"
      ],
      "execution_count": 15,
      "outputs": [
        {
          "output_type": "execute_result",
          "data": {
            "text/plain": [
              "Mon              472.562051\n",
              "Tue              677.815624\n",
              "Wed              658.769963\n",
              "Thu              505.487985\n",
              "Fri              187.045078\n",
              "Sat            -1168.906823\n",
              "Sun            -1249.929398\n",
              "holiday        -1113.753085\n",
              "daylight_hrs     117.494530\n",
              "PRCP           -6960.460185\n",
              "dry day          508.583021\n",
              "Temp (C)         749.192797\n",
              "annual            49.203277\n",
              "dtype: float64"
            ]
          },
          "metadata": {
            "tags": []
          },
          "execution_count": 15
        }
      ]
    },
    {
      "cell_type": "markdown",
      "metadata": {
        "id": "gOaDJ4Qw0a6w",
        "colab_type": "text"
      },
      "source": [
        "We now use **bootstrapping** technique to get a feeling how uncertain our parameters are.\n",
        "The basic idea of bootstrapping is that inference about a population from sample data (sample → population) can be modelled by resampling the sample data and performing inference about a sample from resampled data (resampled → sample). As the population is unknown, the true error in a sample statistic against its population value is unknown. In bootstrap-resamples, the 'population' is in fact the sample, and this is known; hence the quality of inference of the 'true' sample from resampled data (resampled → sample) is measurable.\n",
        "\n",
        "We resample our training set (with replacement). Some datapoints will be missing, some will occur twise or tree times, etc. We than fit our model, get the coefficients and calculate their std's."
      ]
    },
    {
      "cell_type": "code",
      "metadata": {
        "id": "5wJpEF56Myci",
        "colab_type": "code",
        "outputId": "a9f20a8a-2f84-4810-8f72-b347eece09f4",
        "colab": {
          "base_uri": "https://localhost:8080/",
          "height": 255
        }
      },
      "source": [
        "from sklearn.utils import resample\n",
        "\n",
        "np.random.seed(1)\n",
        "err = np.std([model.fit(*resample(X, y)).coef_ for i in range(1000)], 0)\n",
        "print(pd.DataFrame({'effect': params.round(0), 'error': err.round(0)}))"
      ],
      "execution_count": 22,
      "outputs": [
        {
          "output_type": "stream",
          "text": [
            "              effect  error\n",
            "Mon            473.0   65.0\n",
            "Tue            678.0   64.0\n",
            "Wed            659.0   62.0\n",
            "Thu            505.0   64.0\n",
            "Fri            187.0   62.0\n",
            "Sat          -1169.0   62.0\n",
            "Sun          -1250.0   62.0\n",
            "holiday      -1114.0  149.0\n",
            "daylight_hrs   117.0    7.0\n",
            "PRCP         -6960.0  455.0\n",
            "dry day        509.0   25.0\n",
            "Temp (C)       749.0   32.0\n",
            "annual          49.0    6.0\n"
          ],
          "name": "stdout"
        }
      ]
    },
    {
      "cell_type": "markdown",
      "metadata": {
        "id": "R5BuMYF6AxNL",
        "colab_type": "text"
      },
      "source": [
        "We first see that there is a relatively stable trend in the weekly baseline: there are many more riders on weekdays than on weekends and holidays. We see that for each $404$ additional hour of daylight, $129 \\pm 9$ more people choose to ride; a temperature increase of one degree Celsius encourages $65 \\pm 4$ people to grab their bicycle; a dry day means an average of $546 \\pm 33$ more riders; and each inch of precipitation means $665 \\pm 62$ more people leave their bike at home. Once all these effects are accounted for, we see a modest increase of $28 \\pm 18$ new daily riders each year.\n"
      ]
    },
    {
      "cell_type": "markdown",
      "metadata": {
        "id": "rZWACuwuzEqY",
        "colab_type": "text"
      },
      "source": [
        "Our model is almost certainly missing some relevant information. For example, nonlinear effects (such as effects of precipitation and cold temperature) and nonlinear trends within each variable (such as disinclination to ride at very cold and very hot temperatures) cannot be accounted for in this model. Additionally, we have thrown away some of the finer-grained information (such as the difference between a rainy morning and a rainy afternoon), and we have ignored correlations between days (such as the possible effect of a rainy Tuesday on Wednesday’s numbers, or the effect of an unexpected sunny day after a streak of rainy days). These are all potentially interesting effects, and you now have the tools to begin exploring them if you wish!"
      ]
    }
  ]
}