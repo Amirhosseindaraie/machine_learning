{
  "nbformat": 4,
  "nbformat_minor": 0,
  "metadata": {
    "colab": {
      "name": "temp_4.ipynb",
      "version": "0.3.2",
      "provenance": [],
      "toc_visible": true
    },
    "kernelspec": {
      "name": "python3",
      "display_name": "Python 3"
    }
  },
  "cells": [
    {
      "cell_type": "markdown",
      "metadata": {
        "id": "pxa54tHl-qCE",
        "colab_type": "text"
      },
      "source": [
        "##Basic Statements"
      ]
    },
    {
      "cell_type": "markdown",
      "metadata": {
        "id": "-_7mm0NN-vmz",
        "colab_type": "text"
      },
      "source": [
        "**Python program structure**\n",
        "\n",
        "*     Programs are composed of modules\n",
        "*     Modules contain statements\n",
        "*     Statements contain expressions: logic\n",
        "*     Expressions create and process objects"
      ]
    },
    {
      "cell_type": "markdown",
      "metadata": {
        "id": "whsI_a9nZ59w",
        "colab_type": "text"
      },
      "source": [
        "Statement |\tExamples\n",
        "---|---\n",
        "Assignment |\tcurly, moe, larry = 'good', 'bad', 'ugly'\n",
        "Calls |\tstdout.write(\"spam, ham, toast\\n\")\n",
        "Print (a call in 3.X) |\tprint 1, \"spam\", 4, 'u',\n",
        "If/elif/else |\tif \"python\" in text: mail(poster, spam)\n",
        "For/else |\tfor peteSake in spam: print peteSake\n",
        "While/else |\twhile 1: print 'spam',i; i=i+1\n",
        "Pass |\twhile 1: pass\n",
        "Break, Continue |\twhile 1: break\n",
        "Try/except/finally |\ttry: spam() except: print 'spam error'\n",
        "Raise |\traise overWorked, cause\n",
        "Import, From |\timport chips; from refrigerator import beer\n",
        "Def, Return,Yield |\tdef f(a, b, c=1, *d): return a+b+c+d[0]\n",
        "Class |\tclass subclass(superclass): staticData = []\n",
        "Global, Nonlocal (3.X) |\tdef function(): global x, y; x = 'new'\n",
        "Del |\tdel spam[k]; del spam[i:j]; del spam.attr\n",
        "Exec (a call in 3.X) |\texec \"import \" + moduleName in gdict, ldict\n",
        "Assert |\tassert name != \"\", \"empty name field\"\n",
        "With/As (2.6+) |\twith open('text.dat') as F: process(F)"
      ]
    },
    {
      "cell_type": "markdown",
      "metadata": {
        "id": "WhwvH7kXAU8X",
        "colab_type": "text"
      },
      "source": [
        "###General syntax concepts"
      ]
    },
    {
      "cell_type": "markdown",
      "metadata": {
        "id": "MxQk2a16AZiL",
        "colab_type": "text"
      },
      "source": [
        "**Python syntax**\n",
        "\n",
        "*     No variable/type declarations\n",
        "*     No braces or semicolons\n",
        "*     The what you see is what you get of languages"
      ]
    },
    {
      "cell_type": "markdown",
      "metadata": {
        "id": "OcFkYsAjAgd7",
        "colab_type": "text"
      },
      "source": [
        "**Python assignment**\n",
        "\n",
        "*     Assignments create object references\n",
        "*     Names are created when first assigned\n",
        "*     Names must be assigned before being referenced"
      ]
    },
    {
      "cell_type": "markdown",
      "metadata": {
        "id": "yspBwjrfAmxA",
        "colab_type": "text"
      },
      "source": [
        "**A Tale of Two Ifs**\n",
        "\n",
        "C++/Java/etc.:\n",
        "```c\n",
        "if (x)\n",
        "{\n",
        "    x = y + z; // braces, semicolons, parens\n",
        "}\n",
        "```\n",
        "\n",
        "Python:\n",
        "```python\n",
        "if x:\n",
        "  x = y + z # indented blocks, end of line, colon\n",
        "```\n",
        "\n",
        "*      What Python removes [(), ;, {}], and adds [:]\n",
        "*      Why indentation syntax? [readability counts!]"
      ]
    },
    {
      "cell_type": "markdown",
      "metadata": {
        "id": "goHPr7ijBQZe",
        "colab_type": "text"
      },
      "source": [
        "###Assignment"
      ]
    },
    {
      "cell_type": "markdown",
      "metadata": {
        "id": "Bst_ff8WBbeA",
        "colab_type": "text"
      },
      "source": [
        "*     = assigns object references to names or components\n",
        "*     Implicit assignments: import, from, def, class, for, calls"
      ]
    },
    {
      "cell_type": "markdown",
      "metadata": {
        "id": "oBoGo0qZBgGC",
        "colab_type": "text"
      },
      "source": [
        "Operation |\tInterpretation\n",
        "---|---\n",
        "spam = 'SPAM' |\tbasic form\n",
        "spam, ham = 'yum', 'YUM' |\ttuple assignment\n",
        "[spam, ham] = ['yum', 'YUM'] |\tlist assignment\n",
        "a, b, c, d = 'spam' |\tsequence assign\n",
        "spam = ham = 'lunch' |\tmultiple-target\n",
        "spam += 42; ham *= 12 |\tAugmented (2.0)\n",
        "a, *b, c = [1, 2, 3, 4] |\tExtended (3.X)"
      ]
    },
    {
      "cell_type": "markdown",
      "metadata": {
        "id": "CfygsUeYBtTI",
        "colab_type": "text"
      },
      "source": [
        "**Variable name rules**\n",
        "\n",
        "*     (_ or letter) + (any number of letters, digits, _s)\n",
        "*     Case matters: SPAM is not spam\n",
        "*     But cant use reserved words:\n",
        "*     + yield, for generators (2.3 and later)\n",
        "*     + with and as for context managers (2.6, optional in 2.5 though not in 2.5 IDLE!)\n",
        "*     3.X: minus print, exec; plus None, True, False, nonlocal (and in 3.5+: async, await)\n",
        "*     Also applies to module file names:\n",
        "    -     some-code.py can be run, but not imported! (notice dash!)"
      ]
    },
    {
      "cell_type": "markdown",
      "metadata": {
        "id": "qOkU_WWjB5Ly",
        "colab_type": "text"
      },
      "source": [
        "and |\tassert |\tbreak |\tclass\n",
        "---|---|---|---\n",
        "continue |\tdef |\tdel |\telif\n",
        "else |\texcept |\texec |\tfinally\n",
        "for |\tfrom |\tglobal |\tif\n",
        "import |\tin |\tis |\tlambda\n",
        "not |\tor |\tpass |\tprint\n",
        "raise |\treturn |\ttry |\twhile"
      ]
    },
    {
      "cell_type": "markdown",
      "metadata": {
        "id": "ghcvrH-_CH5r",
        "colab_type": "text"
      },
      "source": [
        "###Expressions"
      ]
    },
    {
      "cell_type": "markdown",
      "metadata": {
        "id": "GqcQomBlCL2r",
        "colab_type": "text"
      },
      "source": [
        "*     Useful for calls, and interactive prints\n",
        "*     Expressions can be used as statements\n",
        "*     But statements cannot be used as expressions (=)"
      ]
    },
    {
      "cell_type": "markdown",
      "metadata": {
        "id": "2Fk5NxhcCTHv",
        "colab_type": "text"
      },
      "source": [
        "Operation |\tInterpretation\n",
        "---|---\n",
        "spam(eggs, ham) |\tfunction calls\n",
        "spam.ham(eggs) |\tmethod calls\n",
        "spam |\tinteractive print\n",
        "spam < ham and ham != eggs |\tcompound expr's\n",
        "spam < ham < eggs |\trange tests"
      ]
    },
    {
      "cell_type": "markdown",
      "metadata": {
        "id": "MM6iGEYJCVoY",
        "colab_type": "text"
      },
      "source": [
        "###Print"
      ]
    },
    {
      "cell_type": "markdown",
      "metadata": {
        "id": "JKUyeY-VEDXi",
        "colab_type": "text"
      },
      "source": [
        "*     print statement writes objects to the stdout stream\n",
        "*     File object write methods write strings to files\n",
        "*     Adding a trailing comma suppresses line-feed\n",
        "*     Reset sys.stdout to catch print output\n",
        "*     3.X: a built-in function call with arguments in ()"
      ]
    },
    {
      "cell_type": "markdown",
      "metadata": {
        "id": "9UdCnMCzZ598",
        "colab_type": "text"
      },
      "source": [
        "**Python 2.X form:**\n",
        "\n",
        "Operation |\tInterpretation\n",
        "---|---\n",
        "print spam, ham |\tprint objects to sys.stdout\n",
        "print spam, ham, |\tdont add linefeed at end\n",
        "print>>file, spam |\tPython 2.0: not to stdout"
      ]
    },
    {
      "cell_type": "markdown",
      "metadata": {
        "id": "7J_xDFc-ENaK",
        "colab_type": "text"
      },
      "source": [
        "**Python 3.X form:**\n",
        "\n",
        "```python\n",
        "print(spam, ham, sep='::', end='.\\n', file=open('save.txt', 'w'), flush=True)\n",
        "```"
      ]
    },
    {
      "cell_type": "markdown",
      "metadata": {
        "id": "WoRd5VtXZ59_",
        "colab_type": "text"
      },
      "source": [
        "**Usable in 2.X via:**\n",
        "\n",
        "```python\n",
        "from __future__ import print_function\n",
        "```\n"
      ]
    },
    {
      "cell_type": "markdown",
      "metadata": {
        "id": "_dMz4LkzZ5-C",
        "colab_type": "text"
      },
      "source": [
        "**Otherwise, 2.X to 3.X mappings:**\n",
        "\n",
        "2.X | 3.X\n",
        "---|---\n",
        "print a | print(a)\n",
        "print a, b, c | print(a, b, c)\n",
        "print a, b, | print(a, b, end='')\n",
        "print>>F, a | print(a, file=F)"
      ]
    },
    {
      "cell_type": "markdown",
      "metadata": {
        "id": "KuWxtKT0Z5-F",
        "colab_type": "text"
      },
      "source": [
        "**The Python Hello world program**\n",
        "\n",
        "*    Expression results dont need to be printed at top-level"
      ]
    },
    {
      "cell_type": "code",
      "metadata": {
        "id": "Z9m0zcZTFAvF",
        "colab_type": "code",
        "colab": {
          "base_uri": "https://localhost:8080/",
          "height": 34
        },
        "outputId": "c937fa33-6480-4409-c91b-e87087f05d3d"
      },
      "source": [
        "print('hello world')"
      ],
      "execution_count": 2,
      "outputs": [
        {
          "output_type": "stream",
          "text": [
            "hello world\n"
          ],
          "name": "stdout"
        }
      ]
    },
    {
      "cell_type": "markdown",
      "metadata": {
        "id": "MdV5bxB-FI5Z",
        "colab_type": "text"
      },
      "source": [
        "*    The hard way"
      ]
    },
    {
      "cell_type": "code",
      "metadata": {
        "id": "HbGSObQYFMhn",
        "colab_type": "code",
        "colab": {
          "base_uri": "https://localhost:8080/",
          "height": 34
        },
        "outputId": "d9b2a7d9-0648-4bc7-f183-5c9fb563c637"
      },
      "source": [
        "x = 'hello world'\n",
        "import sys\n",
        "sys.stdout.write(str(x) + '\\n')"
      ],
      "execution_count": 1,
      "outputs": [
        {
          "output_type": "stream",
          "text": [
            "hello world\n"
          ],
          "name": "stdout"
        }
      ]
    },
    {
      "cell_type": "markdown",
      "metadata": {
        "id": "i95ibgGXFRgD",
        "colab_type": "text"
      },
      "source": [
        "*    sys.stdout can be assigned"
      ]
    },
    {
      "cell_type": "code",
      "metadata": {
        "id": "7KpfNNnQZ5-F",
        "colab_type": "code",
        "colab": {
          "base_uri": "https://localhost:8080/",
          "height": 68
        },
        "outputId": "b6b4ca58-2e89-4b70-89c2-b9f6d90a76ea"
      },
      "source": [
        "_old_out = sys.stdout\n",
        "sys.stdout = open('log', 'a') # or a class with .write\n",
        "print(x)\n",
        "sys.stdout = _old_out # restore broken out\n",
        "!cat log"
      ],
      "execution_count": 2,
      "outputs": [
        {
          "output_type": "stream",
          "text": [
            "hello world\n",
            "hello world\n",
            "hello world\n"
          ],
          "name": "stdout"
        }
      ]
    },
    {
      "cell_type": "markdown",
      "metadata": {
        "id": "9DGN35VYHAhP",
        "colab_type": "text"
      },
      "source": [
        "###If selections"
      ]
    },
    {
      "cell_type": "markdown",
      "metadata": {
        "id": "J0qcon5wZ5-H",
        "colab_type": "text"
      },
      "source": [
        "*     Pythons main selection construct\n",
        "*     No switch: via if/elif/else, dictionaries, or lists\n",
        "*     See also expression ahead: X = B if A else C\n",
        " \n",
        "\n",
        " \n",
        "\n",
        " \n",
        "\n",
        "General format\n",
        " \n",
        "\n",
        "if <test1>:\n",
        "<statements1>\n",
        "elif <test2>: # optional elifs\n",
        "<statements2>\n",
        "else: # optional else\n",
        "<statements3>\n",
        " \n",
        "\n",
        " \n",
        "\n",
        " \n",
        "\n",
        " \n",
        "\n",
        "Examples"
      ]
    },
    {
      "cell_type": "code",
      "metadata": {
        "id": "-QTWrQoOZ5-I",
        "colab_type": "code",
        "colab": {}
      },
      "source": [
        " if 3 > 2:\n",
        " print 'yep'\n",
        "\n",
        "yep\n",
        " \n"
      ],
      "execution_count": 0,
      "outputs": []
    },
    {
      "cell_type": "code",
      "metadata": {
        "id": "-A2eoe9yZ5-L",
        "colab_type": "code",
        "colab": {}
      },
      "source": [
        " x = 'killer rabbit'\n",
        " if x == 'bunny':\n",
        " print 'hello little bunny'\n",
        " elif x == 'bugs':\n",
        " print \"what's up doc?\"\n",
        " else:\n",
        " print 'Run away! Run away!'\n",
        "\n",
        "Run away! Run away!\n",
        " \n"
      ],
      "execution_count": 0,
      "outputs": []
    },
    {
      "cell_type": "code",
      "metadata": {
        "id": "w_Ti5pmrZ5-N",
        "colab_type": "code",
        "colab": {}
      },
      "source": [
        " choice = 'ham'\n",
        " print {'spam': 1.25, # dictionary switch\n",
        " 'ham': 1.99,\n",
        " 'eggs': 0.99,\n",
        " 'bacon': 1.10}[choice]\n",
        "1.99\n",
        " \n"
      ],
      "execution_count": 0,
      "outputs": []
    },
    {
      "cell_type": "code",
      "metadata": {
        "id": "yJde8cGQZ5-O",
        "colab_type": "code",
        "colab": {}
      },
      "source": [
        "# with actions\n",
        "{'spam': (lambda: ),\n",
        "'ham': (lambda: ),\n",
        "}[choice]() \n",
        " \n",
        "\n",
        " \n"
      ],
      "execution_count": 0,
      "outputs": []
    },
    {
      "cell_type": "markdown",
      "metadata": {
        "id": "kgZeHYS9Z5-Q",
        "colab_type": "text"
      },
      "source": [
        "###Python syntax rules\n",
        "\n",
        " \n",
        "\n",
        "*     Compound statements = header, :, indented statements\n",
        "*     Block and statement boundaries detected automatically\n",
        "*     Comments run from # through end of line\n",
        "*     Documentation strings at top of file, class, function\n",
        " \n",
        "\n",
        " \n",
        "\n",
        " \n",
        "\n",
        "Block delimiters\n",
        " \n",
        "\n",
        "*      Block boundaries detected by line indentation\n",
        "*      Indentation is any combination of spaces and tabs\n",
        "*      Tabs = N spaces up to multiple of 8 (but dont mix)\n",
        " \n",
        "\n",
        " \n",
        "\n",
        " \n",
        "\n",
        "Statement delimiters\n",
        " \n",
        "\n",
        "*      Statement normally end at end-of-line, or ';'\n",
        "*      Statements may span lines if open syntactic pair: ( ), { }, [ ]\n",
        "*      Statements may span lines if end in backslash (outdated feature)\n",
        "*      Some string constants span lines too (triple-quotes)\n",
        " \n",
        "\n",
        "\n",
        " \n",
        "\n",
        "Special cases"
      ]
    },
    {
      "cell_type": "code",
      "metadata": {
        "id": "F-sidBxgZ5-Q",
        "colab_type": "code",
        "colab": {}
      },
      "source": [
        "L = [\"Good\",\n",
        "\"Bad\",\n",
        "\"Ugly\"] # open pairs may span lines\n",
        " \n"
      ],
      "execution_count": 0,
      "outputs": []
    },
    {
      "cell_type": "code",
      "metadata": {
        "id": "hceK7lJCZ5-S",
        "colab_type": "code",
        "colab": {}
      },
      "source": [
        "x = 1; y = 2; print x # more than 1 simple statement\n",
        " \n"
      ],
      "execution_count": 0,
      "outputs": []
    },
    {
      "cell_type": "code",
      "metadata": {
        "id": "HrBiRxLGZ5-T",
        "colab_type": "code",
        "colab": {}
      },
      "source": [
        "if 1: print 'hello' # simple statement on header line\n",
        " \n"
      ],
      "execution_count": 0,
      "outputs": []
    },
    {
      "cell_type": "markdown",
      "metadata": {
        "id": "izj56AbHZ5-V",
        "colab_type": "text"
      },
      "source": [
        "Nesting code blocks\n",
        " \n",
        "\n",
        "x = 1 # block0\n",
        "if x:\n",
        "y = 2 # block1\n",
        "if y:\n",
        "print 'block2'\n",
        "print 'block1'\n",
        "print 'block0'\n",
        " \n",
        "\n",
        " \n",
        "\n",
        " \n",
        "\n",
        " \n",
        "\n",
        "###The documentation sources interlude\n",
        "\n",
        " \n",
        "\n",
        " \n",
        "\n",
        "Form |\tRole\n",
        "# comments |\tIn-file documentation\n",
        "The dir function |\tLists of attributes available on objects\n",
        "Docstrings: __doc__ |\tIn-file documentation attached to objects\n",
        "PyDoc: The help function |\tInteractive help for objects\n",
        "PyDoc: HTML reports |\tModule documentation in a browser\n",
        "Standard manual set |\tOfficial language and library descriptions\n",
        "Web resources |\tOnline tutorial, examples, and so on\n",
        "Published books |\tCommercially-available texts (see Resources)"
      ]
    },
    {
      "cell_type": "code",
      "metadata": {
        "id": "wBDRDSVKZ5-V",
        "colab_type": "code",
        "colab": {}
      },
      "source": [
        " import sys\n",
        " dir(sys) # also works on types, objects, etc.\n",
        "['__displayhook__', '__doc__', '__excepthook__', '__name__',\n",
        " \n",
        "\n",
        " \n",
        "\n",
        " print sys.__doc__\n",
        "This module provides access to some objects\n",
        " \n",
        "\n",
        " \n",
        "\n",
        " help(sys)\n",
        "Help on built-in module sys:\n",
        " "
      ],
      "execution_count": 0,
      "outputs": []
    },
    {
      "cell_type": "markdown",
      "metadata": {
        "id": "NmSFPCB_Z5-X",
        "colab_type": "text"
      },
      "source": [
        "PyDoc\n",
        "\n",
        "*      GUI till 3.2:\n",
        "*      Start/App menu, PythonXX/ModuleDocs\n",
        "*      Or run Python script pydocgui.pyw in std lib\n",
        "*      Or command line python -m pydoc g (or C:\\Python3x\\python )\n",
        "*      Browser in 3.2+:\n",
        "*      Command line python -m pydoc b\n",
        "*      Or on Windows py −3 -m pydoc b\n",
        "*      Or on some Python 3.X: Start/App menu, PythonXX/ModuleDocs"
      ]
    },
    {
      "cell_type": "code",
      "metadata": {
        "id": "-YzomRerZ5-X",
        "colab_type": "code",
        "colab": {}
      },
      "source": [
        "# File: docstrings.py\n",
        "\"\"\"\n",
        "Module documentation\n",
        "Words Go Here\n",
        "\"\"\"\n",
        " \n",
        "\n",
        "spam = 40\n",
        " \n",
        "\n",
        "def square(x):\n",
        "\"\"\"\n",
        "function documentation\n",
        "can we have your liver then?\n",
        "\"\"\"\n",
        "return x ** 2\n",
        " \n",
        "\n",
        "class SomeClass: # see ahead\n",
        "\"\"\"\n",
        "class docs go here, and can also\n",
        "be in nested method def statements\n",
        "\"\"\"\n",
        "pass\n",
        " \n",
        "\n",
        " \n",
        "\n",
        " import docstrings\n",
        " help(docstrings)\n",
        " help(docstrings.square)\n",
        "\n",
        " \n"
      ],
      "execution_count": 0,
      "outputs": []
    },
    {
      "cell_type": "markdown",
      "metadata": {
        "id": "jXH-NYKcZ5-Y",
        "colab_type": "text"
      },
      "source": [
        "###Truth tests revisited\n",
        "\n",
        "*     True = non-zero number, or non-empty object\n",
        "*     Comparisons operators return True (1) or False (0)\n",
        "*     Boolean operators short-circuit when result known\n",
        "*     Boolean operators return an operand object\n",
        "\n",
        "\n",
        "\n",
        "Object |\tValue\n",
        "\"spam\" |\ttrue\n",
        "\"\" |\tfalse\n",
        "[] |\tfalse\n",
        "{} |\tfalse\n",
        "1 |\ttrue\n",
        "0.0 |\tfalse\n",
        "None |\tfalse\n",
        " \n",
        "\n",
        " \n",
        "\n",
        "Examples"
      ]
    },
    {
      "cell_type": "code",
      "metadata": {
        "id": "qZ8awzgCZ5-Z",
        "colab_type": "code",
        "colab": {}
      },
      "source": [
        " 2 < 3, 3 < 2 # return True (1) or False (0)\n",
        "(True, False)\n",
        " \n",
        "\n",
        " 2 or 3, 3 or 2 # return left operand if true\n",
        "(2, 3) # else return right operand (T|F)\n",
        " [] or 3\n",
        "3\n",
        "\n",
        " [] or {}\n",
        "{}\n",
        " \n",
        "\n",
        " 2 and 3, 3 and 2 # return left operand if false\n",
        "(3, 2) # else return right operand (T|F)\n",
        " [] and {}\n",
        "[]\n",
        " 3 and []\n",
        "[]\n",
        " ```\n",
        "\n",
        " \n",
        "\n",
        " \n",
        "\n",
        " \n",
        "\n",
        "Cs ternary operator in Python\n",
        "\n",
        "*    Prior to 2.5: X = (A and B) or C\n",
        "*    New in 2.5: X = B if A else C\n",
        "\n",
        "```python\n",
        "if A:\n",
        "X = B\n",
        "else:\n",
        "X = C"
      ],
      "execution_count": 0,
      "outputs": []
    },
    {
      "cell_type": "markdown",
      "metadata": {
        "id": "o3cnritBZ5-a",
        "colab_type": "text"
      },
      "source": [
        "Boolean type (2.3+)\n",
        "\n",
        "\n",
        "\n",
        "*     bool is a subclass of int\n",
        "*      bool has two instances: True and False\n",
        "*      True,False are 1,0 but print differently"
      ]
    },
    {
      "cell_type": "code",
      "metadata": {
        "id": "UMNO0BHLZ5-b",
        "colab_type": "code",
        "colab": {}
      },
      "source": [
        "\n",
        " 1 > 0\n",
        "True\n",
        " \n",
        "\n",
        " True == 1, True is 1\n",
        "(True, False)\n",
        " True + 1\n",
        "2\n",
        "\n",
        " \n"
      ],
      "execution_count": 0,
      "outputs": []
    },
    {
      "cell_type": "markdown",
      "metadata": {
        "id": "Ug8_b3UzZ5-e",
        "colab_type": "text"
      },
      "source": [
        "###While loops\n",
        "\n",
        "*     Pythons most general iteration construct\n",
        "*     One of two looping statements: while, for\n",
        "*     Implicit looping tools: map, reduce, filter, in, list (and other) comprehensions\n",
        " \n",
        "\n",
        " \n",
        "\n",
        "General format\n",
        "\n",
        "\n",
        "while <test>:\n",
        "<statements>\n",
        "else: # optional else\n",
        "<statements2> # run if didnt exit with break\n",
        " \n",
        "\n",
        "\n",
        "\n",
        " \n",
        "\n",
        "Examples"
      ]
    },
    {
      "cell_type": "code",
      "metadata": {
        "id": "L0wEiEJlZ5-f",
        "colab_type": "code",
        "colab": {}
      },
      "source": [
        " while True:\n",
        " print 'Type Ctrl-C to stop me!'\n",
        " \n"
      ],
      "execution_count": 0,
      "outputs": []
    },
    {
      "cell_type": "code",
      "metadata": {
        "id": "XjnQ9x2DZ5-h",
        "colab_type": "code",
        "colab": {}
      },
      "source": [
        " count = 5\n",
        " while count:\n",
        " print count,\n",
        " count -= 1\n",
        "\n",
        "5 4 3 2 1\n",
        " \n"
      ],
      "execution_count": 0,
      "outputs": []
    },
    {
      "cell_type": "code",
      "metadata": {
        "id": "xulpXQIjZ5-j",
        "colab_type": "code",
        "colab": {}
      },
      "source": [
        " x = 'spam'\n",
        " while x:\n",
        " print x,\n",
        " x = x[1:] # strip first char off x\n",
        "\n",
        "spam pam am m\n",
        " \n",
        "\n",
        " \n",
        "\n",
        " a=0; b=10\n",
        " while a < b: # one way to code counter loops\n",
        " print a, # 3.X: print(a, end='')\n",
        " a = a+1 # or: a += 1\n",
        "\n",
        "0 1 2 3 4 5 6 7 8 9\n",
        "\n",
        " \n"
      ],
      "execution_count": 0,
      "outputs": []
    },
    {
      "cell_type": "markdown",
      "metadata": {
        "id": "iL8kaIC2Z5-k",
        "colab_type": "text"
      },
      "source": [
        "###Break, continue, pass, and the loop else\n",
        "\n",
        " \n",
        "\n",
        "*     break jumps out of the closest enclosing loop\n",
        "*     continue jumps to the top of the closest enclosing loop\n",
        "*     pass does nothing: an empty statement placeholder\n",
        "*     loop else run if loop exits normally, without a break\n",
        "*     3.X a literal ellipsis can work like a pass\n",
        " \n",
        "\n",
        " \n",
        "\n",
        " \n",
        "\n",
        "General loop format\n",
        " \n",
        "\n",
        " \n",
        "\n",
        "\n",
        "while <test>:\n",
        "<statements>\n",
        "if <test>: break # exit loop now, skip else\n",
        "if <test>: continue # go to top of loop now\n",
        "else:\n",
        "<statements> # if we didnt hit a break\n",
        " \n",
        "\n",
        "\n",
        "\n",
        " \n",
        "\n",
        "Examples\n",
        " \n",
        "\n",
        " \n",
        "\n",
        " \n",
        "\n",
        "*    Pass: an infinite loop\n",
        "*      Better example: stubbed-out function bodies, TBD"
      ]
    },
    {
      "cell_type": "code",
      "metadata": {
        "id": "c6ZIYxMuZ5-m",
        "colab_type": "code",
        "colab": {}
      },
      "source": [
        "while True: pass # ctrl-C to stop!\n",
        " \n"
      ],
      "execution_count": 0,
      "outputs": []
    },
    {
      "cell_type": "markdown",
      "metadata": {
        "id": "Bi71tSRaZ5-n",
        "colab_type": "text"
      },
      "source": [
        "*    Continue: print even numbers\n",
        "*    Avoids statement nesting (but use sparingly!)"
      ]
    },
    {
      "cell_type": "code",
      "metadata": {
        "id": "hRyrnz9wZ5-o",
        "colab_type": "code",
        "colab": {}
      },
      "source": [
        "x = 10\n",
        "while x:\n",
        "x = x-1\n",
        "if x % 2 != 0: continue # odd?--skip\n",
        "print x,\n",
        " \n"
      ],
      "execution_count": 0,
      "outputs": []
    },
    {
      "cell_type": "markdown",
      "metadata": {
        "id": "DsdpipdyZ5-p",
        "colab_type": "text"
      },
      "source": [
        "*    Break: find factors\n",
        "*    Avoids search status flags"
      ]
    },
    {
      "cell_type": "code",
      "metadata": {
        "id": "zJ3wFWYuZ5-p",
        "colab_type": "code",
        "colab": {}
      },
      "source": [
        "x = y / 2\n",
        "while x > 1:\n",
        "if y % x == 0: # remainder\n",
        "print y, 'has factor', x\n",
        "break # skip else\n",
        "x = x-1\n",
        "else: # normal exit\n",
        "print y, 'is prime'\n",
        " \n"
      ],
      "execution_count": 0,
      "outputs": []
    },
    {
      "cell_type": "markdown",
      "metadata": {
        "id": "mTm9HWQBZ5-q",
        "colab_type": "text"
      },
      "source": [
        "###For loops\n",
        "\n",
        " \n",
        "\n",
        "*     A general sequence (iterable) iterator\n",
        "*     Works on strings, lists, tuples, other\n",
        "*     Replaces most counter style loops\n",
        "*     Original: repeatedly indexes object until IndexError detected\n",
        "*     Newer: repeatedly calls next(iter(object)) until StopIteration\n",
        "*     Preview: also works on Python classes and C types\n",
        " \n",
        "\n",
        " \n",
        "\n",
        " \n",
        "\n",
        "General format\n",
        " \n",
        "\n",
        "\n",
        "for <target> in <object>: # assign object items to target\n",
        "<statements>\n",
        "if <test>: break # exit loop now, skip else\n",
        "if <test>: continue # go to top of loop now\n",
        "else:\n",
        "<statements> # if we didnt hit a break\n",
        " \n",
        "\n",
        "\n",
        " \n",
        "\n",
        "Examples"
      ]
    },
    {
      "cell_type": "code",
      "metadata": {
        "id": "1turvzgDZ5-r",
        "colab_type": "code",
        "colab": {}
      },
      "source": [
        " for x in [\"spam\", \"eggs\", \"spam\"]:\n",
        " print x,\n",
        "\n",
        "spam eggs spam\n",
        " \n",
        "\n",
        " \n",
        "\n",
        " prod = 1\n",
        " for i in (1, 2, 3, 4): prod *= i # tuples\n",
        "\n",
        " prod\n",
        "24\n",
        " \n",
        "\n",
        " \n",
        "\n",
        " S = 'spam'\n",
        " for c in S: print c # strings\n",
        "\n",
        "s\n",
        "\n",
        "p\n",
        "\n",
        "a\n",
        "\n",
        "m\n",
        "\n",
        " \n",
        "\n",
        " \n",
        "\n",
        " \n"
      ],
      "execution_count": 0,
      "outputs": []
    },
    {
      "cell_type": "markdown",
      "metadata": {
        "id": "u9UipQFtZ5-s",
        "colab_type": "text"
      },
      "source": [
        "Works on any iterable object: files, dicts"
      ]
    },
    {
      "cell_type": "code",
      "metadata": {
        "id": "e5lzK0qqZ5-t",
        "colab_type": "code",
        "colab": {}
      },
      "source": [
        " for line in open('data.txt'):\n",
        "print line.upper() # calls next(), catches exc\n",
        " for key in D:\n",
        "print key, D[key]\n",
        " \n"
      ],
      "execution_count": 0,
      "outputs": []
    },
    {
      "cell_type": "markdown",
      "metadata": {
        "id": "RN9z56W3Z5-u",
        "colab_type": "text"
      },
      "source": [
        "Demo: iteration protocol and files\n",
        "\n",
        "*      file.__next__() gets next line, like file.readline(), but eof differs\n",
        "*      Use file.next() in 2.X, or next(file) in either 2.X or 3.X\n",
        "*      All iteration tools/contexts use the iteration protocol\n",
        "*      Protocol: I=iter(X), call next(I) * N, catch StopIteration\n",
        "*      iter(X) optional for single-scan iterables (e.g., files)\n",
        "*      Any such object works in for loops, comprehensions,\n",
        "*      line.rstrip(), line.upper() are string methods\n",
        "\n",
        "Comprehensions:\n",
        "\n",
        "*      [expr-with-var for var in iterable]\n",
        "*      [expr-with-var for var in iterable if expr-with-var]\n",
        "*      [expr-with-vars for var1 in iterable1 for var2 in iterable2]\n",
        "*      Also works for sets, dictionaries, generators in 2.7+: {}, ()\n",
        "*      Hint: comps have statement equivalents: for/if/append() nesting\n",
        "*      Hint: KISS! if its hard for you read, dont do it\n",
        " \n",
        "\n",
        " \n",
        "\n",
        " \n",
        "\n",
        " \n",
        "\n",
        " \n",
        "\n",
        " \n",
        "\n",
        "###Loop coding techniques\n",
        "\n",
        " \n",
        "\n",
        "*     for subsumes most counter loops\n",
        "*     range generates a list of integers to iterate over\n",
        "*     xrange similar, but doesnt create a real list\n",
        "*     avoid range, and the temptation to count things!"
      ]
    },
    {
      "cell_type": "code",
      "metadata": {
        "id": "k9UctjyCZ5-v",
        "colab_type": "code",
        "colab": {}
      },
      "source": [
        "# The easy (and fast) way\n",
        " \n",
        "\n",
        " X = 'spam'\n",
        " for item in X: print item, # step through items\n",
        "\n",
        "s p a m\n",
        " \n",
        "\n",
        " \n",
        "\n",
        " \n",
        "\n",
        "# The hard way: a C-style for loop\n",
        " \n",
        "\n",
        " i = 0\n",
        " while i < len(X): # manual while indexing\n",
        " print X[i],; i += 1\n",
        "\n",
        "s p a m\n",
        " \n",
        "\n",
        " \n",
        "\n",
        " \n",
        "\n"
      ],
      "execution_count": 0,
      "outputs": []
    },
    {
      "cell_type": "code",
      "metadata": {
        "id": "TSHiV0V_Z5-w",
        "colab_type": "code",
        "colab": {}
      },
      "source": [
        "# Range and fixed repitions\n",
        " range(5), range(2, 5)\n",
        "([0, 1, 2, 3, 4], [2, 3, 4])\n",
        " \n",
        "\n",
        " for i in range(4): print 'A shrubbery!'\n",
        "\n",
        "A shrubbery!\n",
        "A shrubbery!\n",
        "A shrubbery!\n",
        "A shrubbery!\n",
        " \n",
        "\n",
        " \n",
        "\n",
        " \n",
        "\n",
        "# Using range to generate offsets (not items!)\n",
        " \n",
        "\n",
        " X\n",
        "'spam'\n",
        " len(X)\n",
        "4\n",
        "\n",
        " range(len(X))\n",
        "[0, 1, 2, 3]\n",
        " \n",
        "\n",
        " for i in range(len(X)): print X[i], # step through offsets\n",
        "\n",
        "s p a m\n",
        " \n",
        "\n",
        " \n",
        "\n",
        " \n",
        "\n",
        "# Using range and slicing for non-exhaustive traversals\n",
        " \n",
        "\n",
        " range(2,10,2)\n",
        "[2, 4, 6, 8]\n",
        " \n",
        "\n",
        " S = 'abcdefghijk'\n",
        " for i in range(0,len(S),2): print S[i],\n",
        "\n",
        "a c e g i k\n",
        " \n",
        "\n",
        " \n",
        "\n",
        "in recent releases\n",
        " \n",
        "\n",
        " for c in S[::2]: print c, # S[::-1] reverses\n",
        "\n",
        "a c e g i k\n",
        " \n",
        "\n",
        " \n",
        "\n",
        " \n",
        "\n",
        "# Using range and enumerate to change a list in-place\n",
        " \n",
        "\n",
        " L = [1, 2, 3, 4]\n",
        " for x in L: x += 10\n",
        " \n",
        "\n",
        " L\n",
        "[1, 2, 3, 4]\n",
        " for i in range(len(L)): L[i] += 10\n",
        " \n",
        "\n",
        " L\n",
        "[11, 12, 13, 14]\n",
        " \n",
        "\n",
        " \n",
        "\n",
        " \n",
        "\n",
        "#List comprehensions\n",
        " M = [x + 10 for x in L]\n",
        " M\n",
        "21, 22, 23, 24]\n",
        " lines = [line.rstrip() for line in open('README.txt')]\n",
        " [row[1] for row in matrix]\n",
        "#more in functions section\n",
        "``` \n",
        "\n",
        " \n",
        "\n",
        " \n",
        "\n",
        "Demo: list comprehensions and files\n",
        "*      Unless covered earlier (see above)\n",
        "\n",
        " \n",
        "\n",
        " \n",
        "\n",
        "Enumerate in 2.3+\n",
        "\n",
        "\n",
        "```python\n",
        " for (i, x) in enumerate(L):\n",
        "L[i] = x * 2\n",
        " \n",
        "\n",
        " L\n",
        "[22, 24, 26, 28]\n",
        " \n",
        "\n",
        " enumerate(L)\n",
        "<enumerate object at 0x00B48440>\n",
        " \n",
        "\n",
        " list(enumerate(L))\n",
        "[(0, 22), (1, 24), (2, 26), (3, 28)]\n",
        " \n",
        "\n",
        " E = enumerate(L)\n",
        " E.next()\n",
        "(0, 22)\n",
        " E.next() # see generators in next section\n",
        "(1, 24)\n",
        " \n",
        "\n",
        " \n",
        "\n",
        " \n",
        "\n",
        "# Traversing sequences in parallel with zip\n",
        " \n",
        "\n",
        " L1 = [1,2,3,4]\n",
        " L2 = [5,6,7,8]\n",
        " \n",
        " zip(L1,L2)\n",
        "[(1, 5), (2, 6), (3, 7), (4, 8)]\n",
        " \n",
        " for (x,y) in zip(L1, L2):\n",
        " print x, y, '--', x+y\n",
        "\n",
        "1 5 -- 6\n",
        "2 6 -- 8\n",
        "3 7 -- 10\n",
        "4 8 -- 12\n",
        " \n",
        "\n",
        " \n",
        "\n",
        " \n",
        "\n",
        "# Traversing dictionaries by sorted keys\n",
        " \n",
        "\n",
        " D = {'a':1, 'b':2, 'c':3}\n",
        " D\n",
        "{'a': 1, 'c': 3, 'b': 2}\n",
        " \n",
        "\n",
        " Ks = D.keys()\n",
        " Ks.sort()\n",
        " for k in Ks: print D[k],\n",
        " \n",
        "\n",
        "1 2 3\n",
        " \n",
        "\n",
        " \n",
        "\n",
        " \n",
        "\n",
        "Sorted in 2.4+\n",
        " D\n",
        "{'a': 1, 'c': 3, 'b': 2}\n",
        " \n",
        "\n",
        " for k in sorted(D): print D[k],\n",
        " \n",
        "\n",
        "1 2 3\n",
        "``` \n",
        "\n",
        " \n",
        "\n",
        " \n",
        "\n",
        " \n",
        "\n",
        "###Comprehensive loop examples\n",
        "\n",
        " \n",
        "\n",
        " \n",
        "\n",
        "Matrix processing, with nested loops + comprehensions\n",
        " \n",
        "\n",
        " \n",
        "\n",
        "See on class CD: Extras\\Code\\Misc\\matrix-code.py\n",
        " \n",
        "\n",
        " \n",
        "\n",
        " \n",
        "\n",
        "Common ways to read from files\n",
        " \n",
        "\n",
        " \n",
        "```python\n",
        "# file creation\n",
        " \n",
        "\n",
        " myfile = open('myfile.txt', 'w')\n",
        " for i in range(3):\n",
        "myfile.write(('spam' * (i+1)) + '\\n')\n",
        " myfile.close()\n",
        " \n",
        "\n",
        " \n",
        "\n",
        "# all at once\n",
        " print open('myfile.txt').read()\n",
        "spam\n",
        "spamspam\n",
        "spamspamspam\n",
        " \n",
        "\n",
        " \n",
        "\n",
        "# line by line\n",
        " myfile = open('myfile.txt')\n",
        " while True:\n",
        "line = myfile.readline()\n",
        "if not line: break\n",
        "print line,\n",
        " \n",
        "\n",
        "spam\n",
        "spamspam\n",
        "spamspamspam\n",
        " \n",
        "\n",
        " \n",
        "\n",
        "# all lines at once\n",
        " \n",
        "\n",
        " for line in open('myfile.txt').readlines():\n",
        "print line,\n",
        "spam\n",
        "spamspam\n",
        "spamspamspam\n",
        " \n",
        "\n",
        " \n",
        "\n",
        "# file iterators: line by line\n",
        " \n",
        "\n",
        " for line in open('myfile.txt'):\n",
        "print line,\n",
        "spam\n",
        "spamspam\n",
        "spamspamspam\n",
        " \n",
        "\n",
        " \n",
        "\n",
        "# by byte counts\n",
        " \n",
        "\n",
        " myfile = open('myfile.txt')\n",
        " while True:\n",
        "line = myfile.read(10)\n",
        "if not line: break\n",
        "print '[' + line + ']',\n",
        " \n",
        "\n",
        "[spam\n",
        "spams] [pam\n",
        "spamsp] [amspam\n",
        "]\n",
        "\n",
        " \n"
      ],
      "execution_count": 0,
      "outputs": []
    },
    {
      "cell_type": "markdown",
      "metadata": {
        "id": "QnqrEQZNZ5-y",
        "colab_type": "text"
      },
      "source": [
        "Summing data file columns"
      ]
    },
    {
      "cell_type": "code",
      "metadata": {
        "id": "DFyUpRMZZ5-y",
        "colab_type": "code",
        "colab": {}
      },
      "source": [
        "\n",
        " print open('data.txt').read()\n",
        "001.1 002.2 003.3\n",
        "010.1 020.2 030.3 040.4\n",
        "100.1 200.2 300.3\n",
        " \n",
        "\n",
        " sums = {}\n",
        " for line in open('data.txt'):\n",
        "cols = [float(col) for col in line.split()] # next!\n",
        "for pos, val in enumerate(cols):\n",
        "sums[pos] = sums.get(pos, 0.0) + val\n",
        " \n",
        "\n",
        " for key in sorted(sums):\n",
        "print key, '=', sums[key]\n",
        " \n",
        "\n",
        "0 = 111.3\n",
        "1 = 222.6\n",
        "2 = 333.9\n",
        "3 = 40.4\n",
        " \n",
        "\n",
        " sums\n",
        "{0: 111.3, 1: 222.59999999999999, 2: 333.90000000000003,\n",
        "3: 40.399999999999999}\n",
        " \n"
      ],
      "execution_count": 0,
      "outputs": []
    },
    {
      "cell_type": "markdown",
      "metadata": {
        "id": "XNejFZyFZ5-z",
        "colab_type": "text"
      },
      "source": [
        "###Basic coding gotchas\n",
        "\n",
        " \n",
        "\n",
        " \n",
        "\n",
        "*    Dont forget to type a : at the end of compound statement headers\n",
        "*    Be sure to start top-level (unnested) code in column 1\n",
        "*    Blank lines in compound statements are ignored in files, but end the statement at the interactive prompt\n",
        "*    Avoid mixing tabs and spaces in indentation, unless youre sure what your editor does with tabs\n",
        "*    C programmers: you dont need ( ) around tests in if and while; you cant use { } around blocks\n",
        "*    In-place change operations like list.append() and list.sort() dont return a value (really, they return None); call them without assigning the result.\n",
        "*    Add parens to call a function: file.close() is a call, file.close is a reference only\n",
        " \n",
        "\n",
        "\n",
        " \n",
        "\n",
        "###Preview: program unit statements\n",
        "\n",
        " \n",
        "\n",
        "*    Create and process higher-level program components\n",
        " \n",
        "\n",
        " \n",
        "\n",
        " \n",
        "\n",
        "Unit |\tRole\n",
        "---|---\n",
        "Functions |\tprocedural units\n",
        "Modules |\tcode/data packages\n",
        "Exceptions |\terrors and special cases\n",
        "Classes |\tnew objects\n",
        "C modules |\toptimization, customization, integration"
      ]
    }
  ]
}