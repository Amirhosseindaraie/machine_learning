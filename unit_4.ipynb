{
  "nbformat": 4,
  "nbformat_minor": 0,
  "metadata": {
    "colab": {
      "name": "temp_4.ipynb",
      "version": "0.3.2",
      "provenance": [],
      "toc_visible": true
    },
    "kernelspec": {
      "name": "python3",
      "display_name": "Python 3"
    }
  },
  "cells": [
    {
      "cell_type": "markdown",
      "metadata": {
        "id": "pxa54tHl-qCE",
        "colab_type": "text"
      },
      "source": [
        "##Basic Statements"
      ]
    },
    {
      "cell_type": "markdown",
      "metadata": {
        "id": "-_7mm0NN-vmz",
        "colab_type": "text"
      },
      "source": [
        "**Python program structure**\n",
        "\n",
        "*     Programs are composed of modules\n",
        "*     Modules contain statements\n",
        "*     Statements contain expressions: logic\n",
        "*     Expressions create and process objects"
      ]
    },
    {
      "cell_type": "markdown",
      "metadata": {
        "id": "whsI_a9nZ59w",
        "colab_type": "text"
      },
      "source": [
        "Statement |\tExamples\n",
        "---|---\n",
        "Assignment |\tcurly, moe, larry = 'good', 'bad', 'ugly'\n",
        "Calls |\tstdout.write(\"spam, ham, toast\\n\")\n",
        "Print (a call in 3.X) |\tprint 1, \"spam\", 4, 'u',\n",
        "If/elif/else |\tif \"python\" in text: mail(poster, spam)\n",
        "For/else |\tfor peteSake in spam: print peteSake\n",
        "While/else |\twhile 1: print 'spam',i; i=i+1\n",
        "Pass |\twhile 1: pass\n",
        "Break, Continue |\twhile 1: break\n",
        "Try/except/finally |\ttry: spam() except: print 'spam error'\n",
        "Raise |\traise overWorked, cause\n",
        "Import, From |\timport chips; from refrigerator import beer\n",
        "Def, Return,Yield |\tdef f(a, b, c=1, *d): return a+b+c+d[0]\n",
        "Class |\tclass subclass(superclass): staticData = []\n",
        "Global, Nonlocal (3.X) |\tdef function(): global x, y; x = 'new'\n",
        "Del |\tdel spam[k]; del spam[i:j]; del spam.attr\n",
        "Exec (a call in 3.X) |\texec \"import \" + moduleName in gdict, ldict\n",
        "Assert |\tassert name != \"\", \"empty name field\"\n",
        "With/As (2.6+) |\twith open('text.dat') as F: process(F)"
      ]
    },
    {
      "cell_type": "markdown",
      "metadata": {
        "id": "WhwvH7kXAU8X",
        "colab_type": "text"
      },
      "source": [
        "###General syntax concepts"
      ]
    },
    {
      "cell_type": "markdown",
      "metadata": {
        "id": "MxQk2a16AZiL",
        "colab_type": "text"
      },
      "source": [
        "**Python syntax**\n",
        "\n",
        "*     No variable/type declarations\n",
        "*     No braces or semicolons\n",
        "*     The what you see is what you get of languages"
      ]
    },
    {
      "cell_type": "markdown",
      "metadata": {
        "id": "OcFkYsAjAgd7",
        "colab_type": "text"
      },
      "source": [
        "**Python assignment**\n",
        "\n",
        "*     Assignments create object references\n",
        "*     Names are created when first assigned\n",
        "*     Names must be assigned before being referenced"
      ]
    },
    {
      "cell_type": "markdown",
      "metadata": {
        "id": "yspBwjrfAmxA",
        "colab_type": "text"
      },
      "source": [
        "**A Tale of Two Ifs**\n",
        "\n",
        "C++/Java/etc.:\n",
        "```c\n",
        "if (x)\n",
        "{\n",
        "    x = y + z; // braces, semicolons, parens\n",
        "}\n",
        "```\n",
        "\n",
        "Python:\n",
        "```python\n",
        "if x:\n",
        "  x = y + z # indented blocks, end of line, colon\n",
        "```\n",
        "\n",
        "*      What Python removes [(), ;, {}], and adds [:]\n",
        "*      Why indentation syntax? [readability counts!]"
      ]
    },
    {
      "cell_type": "markdown",
      "metadata": {
        "id": "goHPr7ijBQZe",
        "colab_type": "text"
      },
      "source": [
        "###Assignment"
      ]
    },
    {
      "cell_type": "markdown",
      "metadata": {
        "id": "Bst_ff8WBbeA",
        "colab_type": "text"
      },
      "source": [
        "*     = assigns object references to names or components\n",
        "*     Implicit assignments: import, from, def, class, for, calls"
      ]
    },
    {
      "cell_type": "markdown",
      "metadata": {
        "id": "oBoGo0qZBgGC",
        "colab_type": "text"
      },
      "source": [
        "Operation |\tInterpretation\n",
        "---|---\n",
        "spam = 'SPAM' |\tbasic form\n",
        "spam, ham = 'yum', 'YUM' |\ttuple assignment\n",
        "[spam, ham] = ['yum', 'YUM'] |\tlist assignment\n",
        "a, b, c, d = 'spam' |\tsequence assign\n",
        "spam = ham = 'lunch' |\tmultiple-target\n",
        "spam += 42; ham *= 12 |\tAugmented (2.0)\n",
        "a, *b, c = [1, 2, 3, 4] |\tExtended (3.X)"
      ]
    },
    {
      "cell_type": "markdown",
      "metadata": {
        "id": "CfygsUeYBtTI",
        "colab_type": "text"
      },
      "source": [
        "**Variable name rules**\n",
        "\n",
        "*     (_ or letter) + (any number of letters, digits, _s)\n",
        "*     Case matters: SPAM is not spam\n",
        "*     But cant use reserved words:\n",
        "*     + yield, for generators (2.3 and later)\n",
        "*     + with and as for context managers (2.6, optional in 2.5 though not in 2.5 IDLE!)\n",
        "*     3.X: minus print, exec; plus None, True, False, nonlocal (and in 3.5+: async, await)\n",
        "*     Also applies to module file names:\n",
        "    -     some-code.py can be run, but not imported! (notice dash!)"
      ]
    },
    {
      "cell_type": "markdown",
      "metadata": {
        "id": "qOkU_WWjB5Ly",
        "colab_type": "text"
      },
      "source": [
        "and |\tassert |\tbreak |\tclass\n",
        "---|---|---|---\n",
        "continue |\tdef |\tdel |\telif\n",
        "else |\texcept |\texec |\tfinally\n",
        "for |\tfrom |\tglobal |\tif\n",
        "import |\tin |\tis |\tlambda\n",
        "not |\tor |\tpass |\tprint\n",
        "raise |\treturn |\ttry |\twhile"
      ]
    },
    {
      "cell_type": "markdown",
      "metadata": {
        "id": "ghcvrH-_CH5r",
        "colab_type": "text"
      },
      "source": [
        "###Expressions"
      ]
    },
    {
      "cell_type": "markdown",
      "metadata": {
        "id": "GqcQomBlCL2r",
        "colab_type": "text"
      },
      "source": [
        "*     Useful for calls, and interactive prints\n",
        "*     Expressions can be used as statements\n",
        "*     But statements cannot be used as expressions (=)"
      ]
    },
    {
      "cell_type": "markdown",
      "metadata": {
        "id": "2Fk5NxhcCTHv",
        "colab_type": "text"
      },
      "source": [
        "Operation |\tInterpretation\n",
        "---|---\n",
        "spam(eggs, ham) |\tfunction calls\n",
        "spam.ham(eggs) |\tmethod calls\n",
        "spam |\tinteractive print\n",
        "spam < ham and ham != eggs |\tcompound expr's\n",
        "spam < ham < eggs |\trange tests"
      ]
    },
    {
      "cell_type": "markdown",
      "metadata": {
        "id": "MM6iGEYJCVoY",
        "colab_type": "text"
      },
      "source": [
        "###Print"
      ]
    },
    {
      "cell_type": "markdown",
      "metadata": {
        "id": "JKUyeY-VEDXi",
        "colab_type": "text"
      },
      "source": [
        "*     print statement writes objects to the stdout stream\n",
        "*     File object write methods write strings to files\n",
        "*     Adding a trailing comma suppresses line-feed\n",
        "*     Reset sys.stdout to catch print output\n",
        "*     3.X: a built-in function call with arguments in ()"
      ]
    },
    {
      "cell_type": "markdown",
      "metadata": {
        "id": "9UdCnMCzZ598",
        "colab_type": "text"
      },
      "source": [
        "**Python 2.X form:**\n",
        "\n",
        "Operation |\tInterpretation\n",
        "---|---\n",
        "print spam, ham |\tprint objects to sys.stdout\n",
        "print spam, ham, |\tdont add linefeed at end\n",
        "print>>file, spam |\tPython 2.0: not to stdout"
      ]
    },
    {
      "cell_type": "markdown",
      "metadata": {
        "id": "7J_xDFc-ENaK",
        "colab_type": "text"
      },
      "source": [
        "**Python 3.X form:**\n",
        "\n",
        "```python\n",
        "print(spam, ham, sep='::', end='.\\n', file=open('save.txt', 'w'), flush=True)\n",
        "```"
      ]
    },
    {
      "cell_type": "markdown",
      "metadata": {
        "id": "WoRd5VtXZ59_",
        "colab_type": "text"
      },
      "source": [
        "**Usable in 2.X via:**\n",
        "\n",
        "```python\n",
        "from __future__ import print_function\n",
        "```\n"
      ]
    },
    {
      "cell_type": "markdown",
      "metadata": {
        "id": "_dMz4LkzZ5-C",
        "colab_type": "text"
      },
      "source": [
        "**Otherwise, 2.X to 3.X mappings:**\n",
        "\n",
        "2.X | 3.X\n",
        "---|---\n",
        "print a | print(a)\n",
        "print a, b, c | print(a, b, c)\n",
        "print a, b, | print(a, b, end='')\n",
        "print>>F, a | print(a, file=F)"
      ]
    },
    {
      "cell_type": "markdown",
      "metadata": {
        "id": "KuWxtKT0Z5-F",
        "colab_type": "text"
      },
      "source": [
        "**The Python Hello world program**\n",
        "\n",
        "*    Expression results dont need to be printed at top-level"
      ]
    },
    {
      "cell_type": "code",
      "metadata": {
        "id": "Z9m0zcZTFAvF",
        "colab_type": "code",
        "outputId": "c937fa33-6480-4409-c91b-e87087f05d3d",
        "colab": {
          "base_uri": "https://localhost:8080/",
          "height": 34
        }
      },
      "source": [
        "print('hello world')"
      ],
      "execution_count": 0,
      "outputs": [
        {
          "output_type": "stream",
          "text": [
            "hello world\n"
          ],
          "name": "stdout"
        }
      ]
    },
    {
      "cell_type": "markdown",
      "metadata": {
        "id": "MdV5bxB-FI5Z",
        "colab_type": "text"
      },
      "source": [
        "*    The hard way"
      ]
    },
    {
      "cell_type": "code",
      "metadata": {
        "id": "HbGSObQYFMhn",
        "colab_type": "code",
        "outputId": "d9b2a7d9-0648-4bc7-f183-5c9fb563c637",
        "colab": {
          "base_uri": "https://localhost:8080/",
          "height": 34
        }
      },
      "source": [
        "x = 'hello world'\n",
        "import sys\n",
        "sys.stdout.write(str(x) + '\\n')"
      ],
      "execution_count": 0,
      "outputs": [
        {
          "output_type": "stream",
          "text": [
            "hello world\n"
          ],
          "name": "stdout"
        }
      ]
    },
    {
      "cell_type": "markdown",
      "metadata": {
        "id": "i95ibgGXFRgD",
        "colab_type": "text"
      },
      "source": [
        "*    sys.stdout can be assigned"
      ]
    },
    {
      "cell_type": "code",
      "metadata": {
        "id": "7KpfNNnQZ5-F",
        "colab_type": "code",
        "outputId": "b6b4ca58-2e89-4b70-89c2-b9f6d90a76ea",
        "colab": {
          "base_uri": "https://localhost:8080/",
          "height": 68
        }
      },
      "source": [
        "_old_out = sys.stdout\n",
        "sys.stdout = open('log', 'a') # or a class with .write\n",
        "print(x)\n",
        "sys.stdout = _old_out # restore broken out\n",
        "!cat log"
      ],
      "execution_count": 0,
      "outputs": [
        {
          "output_type": "stream",
          "text": [
            "hello world\n",
            "hello world\n",
            "hello world\n"
          ],
          "name": "stdout"
        }
      ]
    },
    {
      "cell_type": "markdown",
      "metadata": {
        "id": "9DGN35VYHAhP",
        "colab_type": "text"
      },
      "source": [
        "###If selections"
      ]
    },
    {
      "cell_type": "markdown",
      "metadata": {
        "id": "J0qcon5wZ5-H",
        "colab_type": "text"
      },
      "source": [
        "*     Pythons main selection construct\n",
        "*     No switch: via if/elif/else, dictionaries, or lists\n",
        "*     See also expression ahead: X = B if A else C"
      ]
    },
    {
      "cell_type": "markdown",
      "metadata": {
        "id": "X5OOJvmKZViB",
        "colab_type": "text"
      },
      "source": [
        "**General format**\n",
        "\n",
        "```python\n",
        "if <test1>:\n",
        "  <statements1>\n",
        "elif <test2>: # optional elifs\n",
        "  <statements2>\n",
        "else: # optional else\n",
        "  <statements3>\n",
        "```"
      ]
    },
    {
      "cell_type": "markdown",
      "metadata": {
        "id": "3X0AT_R6Zd_Z",
        "colab_type": "text"
      },
      "source": [
        "**Examples**"
      ]
    },
    {
      "cell_type": "code",
      "metadata": {
        "id": "-QTWrQoOZ5-I",
        "colab_type": "code",
        "colab": {
          "base_uri": "https://localhost:8080/",
          "height": 34
        },
        "outputId": "fd85c632-a96e-4098-c2e1-f71559a1e624"
      },
      "source": [
        "if 3 > 2:\n",
        "  print('yep')"
      ],
      "execution_count": 2,
      "outputs": [
        {
          "output_type": "stream",
          "text": [
            "yep\n"
          ],
          "name": "stdout"
        }
      ]
    },
    {
      "cell_type": "code",
      "metadata": {
        "id": "-A2eoe9yZ5-L",
        "colab_type": "code",
        "colab": {
          "base_uri": "https://localhost:8080/",
          "height": 34
        },
        "outputId": "d342657a-1207-47bc-8482-57be89fd3892"
      },
      "source": [
        "x = 'killer rabbit'\n",
        "\n",
        "if x == 'bunny':\n",
        "  print('hello little bunny')\n",
        "elif x == 'bugs':\n",
        "  print(\"what's up doc?\")\n",
        "else:\n",
        "  print('Run away! Run away!')"
      ],
      "execution_count": 4,
      "outputs": [
        {
          "output_type": "stream",
          "text": [
            "Run away! Run away!\n"
          ],
          "name": "stdout"
        }
      ]
    },
    {
      "cell_type": "code",
      "metadata": {
        "id": "w_Ti5pmrZ5-N",
        "colab_type": "code",
        "colab": {
          "base_uri": "https://localhost:8080/",
          "height": 34
        },
        "outputId": "5a29b1ab-31ef-4222-9868-9d74536ec5fd"
      },
      "source": [
        "choice = 'ham'\n",
        "\n",
        "print({'spam': 1.25, # dictionary switch\n",
        "       'ham': 1.99,\n",
        "       'eggs': 0.99,\n",
        "       'bacon': 1.10}[choice])"
      ],
      "execution_count": 6,
      "outputs": [
        {
          "output_type": "stream",
          "text": [
            "1.99\n"
          ],
          "name": "stdout"
        }
      ]
    },
    {
      "cell_type": "code",
      "metadata": {
        "id": "yJde8cGQZ5-O",
        "colab_type": "code",
        "colab": {
          "base_uri": "https://localhost:8080/",
          "height": 34
        },
        "outputId": "b69b2b40-05d3-45e3-d5a4-a7fd1293f8b9"
      },
      "source": [
        "# with actions\n",
        "choice = 'square'\n",
        "arg = 2\n",
        "{'linear': (lambda x: x),\n",
        " 'square': (lambda x: x**2),\n",
        "}[choice](arg)"
      ],
      "execution_count": 7,
      "outputs": [
        {
          "output_type": "execute_result",
          "data": {
            "text/plain": [
              "4"
            ]
          },
          "metadata": {
            "tags": []
          },
          "execution_count": 7
        }
      ]
    },
    {
      "cell_type": "markdown",
      "metadata": {
        "id": "kgZeHYS9Z5-Q",
        "colab_type": "text"
      },
      "source": [
        "###Python syntax rules"
      ]
    },
    {
      "cell_type": "markdown",
      "metadata": {
        "id": "KdeCxhevfTFo",
        "colab_type": "text"
      },
      "source": [
        "*     Compound statements = header, :, indented statements\n",
        "*     Block and statement boundaries detected automatically\n",
        "*     Comments run from # through end of line\n",
        "*     Documentation strings at top of file, class, function"
      ]
    },
    {
      "cell_type": "markdown",
      "metadata": {
        "id": "ceGdgtoxfVpX",
        "colab_type": "text"
      },
      "source": [
        "**Block delimiters**\n",
        "\n",
        "*      Block boundaries detected by line indentation\n",
        "*      Indentation is any combination of spaces and tabs\n",
        "*      Tabs = N spaces up to multiple of 8 (but dont mix)"
      ]
    },
    {
      "cell_type": "markdown",
      "metadata": {
        "id": "AT68SPT5faDn",
        "colab_type": "text"
      },
      "source": [
        "**Statement delimiters**\n",
        "\n",
        "*      Statement normally end at end-of-line, or ';'\n",
        "*      Statements may span lines if open syntactic pair: ( ), { }, [ ]\n",
        "*      Statements may span lines if end in backslash (outdated feature)\n",
        "*      Some string constants span lines too (triple-quotes)"
      ]
    },
    {
      "cell_type": "markdown",
      "metadata": {
        "id": "4fVT3-ydfdwP",
        "colab_type": "text"
      },
      "source": [
        "**Special cases**"
      ]
    },
    {
      "cell_type": "code",
      "metadata": {
        "id": "F-sidBxgZ5-Q",
        "colab_type": "code",
        "colab": {
          "base_uri": "https://localhost:8080/",
          "height": 34
        },
        "outputId": "eaaefe9e-00d1-49b0-da6d-44197729fc3b"
      },
      "source": [
        "L = [\"Good\",\n",
        "     \"Bad\",\n",
        "     \"Ugly\"] # open pairs may span lines\n",
        "L"
      ],
      "execution_count": 9,
      "outputs": [
        {
          "output_type": "execute_result",
          "data": {
            "text/plain": [
              "['Good', 'Bad', 'Ugly']"
            ]
          },
          "metadata": {
            "tags": []
          },
          "execution_count": 9
        }
      ]
    },
    {
      "cell_type": "code",
      "metadata": {
        "id": "hceK7lJCZ5-S",
        "colab_type": "code",
        "colab": {
          "base_uri": "https://localhost:8080/",
          "height": 34
        },
        "outputId": "6c94a926-dcf8-4a75-bae9-dd7671931002"
      },
      "source": [
        "x = 1; y = 2; print(x) # more than 1 simple statement"
      ],
      "execution_count": 10,
      "outputs": [
        {
          "output_type": "stream",
          "text": [
            "1\n"
          ],
          "name": "stdout"
        }
      ]
    },
    {
      "cell_type": "code",
      "metadata": {
        "id": "HrBiRxLGZ5-T",
        "colab_type": "code",
        "colab": {
          "base_uri": "https://localhost:8080/",
          "height": 34
        },
        "outputId": "26f19b4f-7116-46d2-e0f9-d39d3526af9a"
      },
      "source": [
        "if 1: print('hello') # simple statement on header line"
      ],
      "execution_count": 11,
      "outputs": [
        {
          "output_type": "stream",
          "text": [
            "hello\n"
          ],
          "name": "stdout"
        }
      ]
    },
    {
      "cell_type": "markdown",
      "metadata": {
        "id": "dI8txjDkf1PP",
        "colab_type": "text"
      },
      "source": [
        "**Nesting code blocks**"
      ]
    },
    {
      "cell_type": "code",
      "metadata": {
        "id": "PvC3qC7egA7t",
        "colab_type": "code",
        "colab": {
          "base_uri": "https://localhost:8080/",
          "height": 68
        },
        "outputId": "c666dfc3-7802-4882-91c1-0282685ad639"
      },
      "source": [
        "x = 1 # block0\n",
        "if x:\n",
        "  y = 2 # block1\n",
        "  if y:\n",
        "    print('block2')\n",
        "  print('block1')\n",
        "print('block0')"
      ],
      "execution_count": 13,
      "outputs": [
        {
          "output_type": "stream",
          "text": [
            "block2\n",
            "block1\n",
            "block0\n"
          ],
          "name": "stdout"
        }
      ]
    },
    {
      "cell_type": "markdown",
      "metadata": {
        "id": "izj56AbHZ5-V",
        "colab_type": "text"
      },
      "source": [
        "###The documentation sources interlude"
      ]
    },
    {
      "cell_type": "markdown",
      "metadata": {
        "id": "QG5gf7VJ31zK",
        "colab_type": "text"
      },
      "source": [
        "Form |\tRole\n",
        "---|---\n",
        "# comments |\tIn-file documentation\n",
        "The dir function |\tLists of attributes available on objects\n",
        "Docstrings: __doc__ |\tIn-file documentation attached to objects\n",
        "PyDoc: The help function |\tInteractive help for objects\n",
        "PyDoc: HTML reports |\tModule documentation in a browser\n",
        "Standard manual set |\tOfficial language and library descriptions\n",
        "Web resources |\tOnline tutorial, examples, and so on\n",
        "Published books |\tCommercially-available texts (see Resources)"
      ]
    },
    {
      "cell_type": "code",
      "metadata": {
        "id": "af_QFUCw4ACo",
        "colab_type": "code",
        "colab": {
          "base_uri": "https://localhost:8080/",
          "height": 102
        },
        "outputId": "bb5b180d-c7d5-4148-eb65-1808450180d5"
      },
      "source": [
        "import sys\n",
        "dir(sys)[:5] # also works on types, objects, etc."
      ],
      "execution_count": 15,
      "outputs": [
        {
          "output_type": "execute_result",
          "data": {
            "text/plain": [
              "['__displayhook__',\n",
              " '__doc__',\n",
              " '__excepthook__',\n",
              " '__interactivehook__',\n",
              " '__loader__']"
            ]
          },
          "metadata": {
            "tags": []
          },
          "execution_count": 15
        }
      ]
    },
    {
      "cell_type": "code",
      "metadata": {
        "id": "wBDRDSVKZ5-V",
        "colab_type": "code",
        "colab": {
          "base_uri": "https://localhost:8080/",
          "height": 1000
        },
        "outputId": "a925f72e-0d7e-43a8-a5ef-97d82cf6667b"
      },
      "source": [
        "print(sys.__doc__)"
      ],
      "execution_count": 19,
      "outputs": [
        {
          "output_type": "stream",
          "text": [
            "This module provides access to some objects used or maintained by the\n",
            "interpreter and to functions that interact strongly with the interpreter.\n",
            "\n",
            "Dynamic objects:\n",
            "\n",
            "argv -- command line arguments; argv[0] is the script pathname if known\n",
            "path -- module search path; path[0] is the script directory, else ''\n",
            "modules -- dictionary of loaded modules\n",
            "\n",
            "displayhook -- called to show results in an interactive session\n",
            "excepthook -- called to handle any uncaught exception other than SystemExit\n",
            "  To customize printing in an interactive session or to install a custom\n",
            "  top-level exception handler, assign other functions to replace these.\n",
            "\n",
            "stdin -- standard input file object; used by input()\n",
            "stdout -- standard output file object; used by print()\n",
            "stderr -- standard error object; used for error messages\n",
            "  By assigning other file objects (or objects that behave like files)\n",
            "  to these, it is possible to redirect all of the interpreter's I/O.\n",
            "\n",
            "last_type -- type of last uncaught exception\n",
            "last_value -- value of last uncaught exception\n",
            "last_traceback -- traceback of last uncaught exception\n",
            "  These three are only available in an interactive session after a\n",
            "  traceback has been printed.\n",
            "\n",
            "Static objects:\n",
            "\n",
            "builtin_module_names -- tuple of module names built into this interpreter\n",
            "copyright -- copyright notice pertaining to this interpreter\n",
            "exec_prefix -- prefix used to find the machine-specific Python library\n",
            "executable -- absolute path of the executable binary of the Python interpreter\n",
            "float_info -- a struct sequence with information about the float implementation.\n",
            "float_repr_style -- string indicating the style of repr() output for floats\n",
            "hash_info -- a struct sequence with information about the hash algorithm.\n",
            "hexversion -- version information encoded as a single integer\n",
            "implementation -- Python implementation information.\n",
            "int_info -- a struct sequence with information about the int implementation.\n",
            "maxsize -- the largest supported length of containers.\n",
            "maxunicode -- the value of the largest Unicode code point\n",
            "platform -- platform identifier\n",
            "prefix -- prefix used to find the Python library\n",
            "thread_info -- a struct sequence with information about the thread implementation.\n",
            "version -- the version of this interpreter as a string\n",
            "version_info -- version information as a named tuple\n",
            "__stdin__ -- the original stdin; don't touch!\n",
            "__stdout__ -- the original stdout; don't touch!\n",
            "__stderr__ -- the original stderr; don't touch!\n",
            "__displayhook__ -- the original displayhook; don't touch!\n",
            "__excepthook__ -- the original excepthook; don't touch!\n",
            "\n",
            "Functions:\n",
            "\n",
            "displayhook() -- print an object to the screen, and save it in builtins._\n",
            "excepthook() -- print an exception and its traceback to sys.stderr\n",
            "exc_info() -- return thread-safe information about the current exception\n",
            "exit() -- exit the interpreter by raising SystemExit\n",
            "getdlopenflags() -- returns flags to be used for dlopen() calls\n",
            "getprofile() -- get the global profiling function\n",
            "getrefcount() -- return the reference count for an object (plus one :-)\n",
            "getrecursionlimit() -- return the max recursion depth for the interpreter\n",
            "getsizeof() -- return the size of an object in bytes\n",
            "gettrace() -- get the global debug tracing function\n",
            "setcheckinterval() -- control how often the interpreter checks for events\n",
            "setdlopenflags() -- set the flags to be used for dlopen() calls\n",
            "setprofile() -- set the global profiling function\n",
            "setrecursionlimit() -- set the max recursion depth for the interpreter\n",
            "settrace() -- set the global debug tracing function\n",
            "\n"
          ],
          "name": "stdout"
        }
      ]
    },
    {
      "cell_type": "code",
      "metadata": {
        "id": "sxpq5Lcl4OZl",
        "colab_type": "code",
        "colab": {
          "base_uri": "https://localhost:8080/",
          "height": 1000
        },
        "outputId": "3b9bffda-e165-4d6b-fba0-57897d835b2d"
      },
      "source": [
        "help(sys) # Help on built-in module sys"
      ],
      "execution_count": 20,
      "outputs": [
        {
          "output_type": "stream",
          "text": [
            "Help on built-in module sys:\n",
            "\n",
            "NAME\n",
            "    sys\n",
            "\n",
            "MODULE REFERENCE\n",
            "    https://docs.python.org/3.6/library/sys\n",
            "    \n",
            "    The following documentation is automatically generated from the Python\n",
            "    source files.  It may be incomplete, incorrect or include features that\n",
            "    are considered implementation detail and may vary between Python\n",
            "    implementations.  When in doubt, consult the module reference at the\n",
            "    location listed above.\n",
            "\n",
            "DESCRIPTION\n",
            "    This module provides access to some objects used or maintained by the\n",
            "    interpreter and to functions that interact strongly with the interpreter.\n",
            "    \n",
            "    Dynamic objects:\n",
            "    \n",
            "    argv -- command line arguments; argv[0] is the script pathname if known\n",
            "    path -- module search path; path[0] is the script directory, else ''\n",
            "    modules -- dictionary of loaded modules\n",
            "    \n",
            "    displayhook -- called to show results in an interactive session\n",
            "    excepthook -- called to handle any uncaught exception other than SystemExit\n",
            "      To customize printing in an interactive session or to install a custom\n",
            "      top-level exception handler, assign other functions to replace these.\n",
            "    \n",
            "    stdin -- standard input file object; used by input()\n",
            "    stdout -- standard output file object; used by print()\n",
            "    stderr -- standard error object; used for error messages\n",
            "      By assigning other file objects (or objects that behave like files)\n",
            "      to these, it is possible to redirect all of the interpreter's I/O.\n",
            "    \n",
            "    last_type -- type of last uncaught exception\n",
            "    last_value -- value of last uncaught exception\n",
            "    last_traceback -- traceback of last uncaught exception\n",
            "      These three are only available in an interactive session after a\n",
            "      traceback has been printed.\n",
            "    \n",
            "    Static objects:\n",
            "    \n",
            "    builtin_module_names -- tuple of module names built into this interpreter\n",
            "    copyright -- copyright notice pertaining to this interpreter\n",
            "    exec_prefix -- prefix used to find the machine-specific Python library\n",
            "    executable -- absolute path of the executable binary of the Python interpreter\n",
            "    float_info -- a struct sequence with information about the float implementation.\n",
            "    float_repr_style -- string indicating the style of repr() output for floats\n",
            "    hash_info -- a struct sequence with information about the hash algorithm.\n",
            "    hexversion -- version information encoded as a single integer\n",
            "    implementation -- Python implementation information.\n",
            "    int_info -- a struct sequence with information about the int implementation.\n",
            "    maxsize -- the largest supported length of containers.\n",
            "    maxunicode -- the value of the largest Unicode code point\n",
            "    platform -- platform identifier\n",
            "    prefix -- prefix used to find the Python library\n",
            "    thread_info -- a struct sequence with information about the thread implementation.\n",
            "    version -- the version of this interpreter as a string\n",
            "    version_info -- version information as a named tuple\n",
            "    __stdin__ -- the original stdin; don't touch!\n",
            "    __stdout__ -- the original stdout; don't touch!\n",
            "    __stderr__ -- the original stderr; don't touch!\n",
            "    __displayhook__ -- the original displayhook; don't touch!\n",
            "    __excepthook__ -- the original excepthook; don't touch!\n",
            "    \n",
            "    Functions:\n",
            "    \n",
            "    displayhook() -- print an object to the screen, and save it in builtins._\n",
            "    excepthook() -- print an exception and its traceback to sys.stderr\n",
            "    exc_info() -- return thread-safe information about the current exception\n",
            "    exit() -- exit the interpreter by raising SystemExit\n",
            "    getdlopenflags() -- returns flags to be used for dlopen() calls\n",
            "    getprofile() -- get the global profiling function\n",
            "    getrefcount() -- return the reference count for an object (plus one :-)\n",
            "    getrecursionlimit() -- return the max recursion depth for the interpreter\n",
            "    getsizeof() -- return the size of an object in bytes\n",
            "    gettrace() -- get the global debug tracing function\n",
            "    setcheckinterval() -- control how often the interpreter checks for events\n",
            "    setdlopenflags() -- set the flags to be used for dlopen() calls\n",
            "    setprofile() -- set the global profiling function\n",
            "    setrecursionlimit() -- set the max recursion depth for the interpreter\n",
            "    settrace() -- set the global debug tracing function\n",
            "\n",
            "FUNCTIONS\n",
            "    __displayhook__ = displayhook(...)\n",
            "        displayhook(object) -> None\n",
            "        \n",
            "        Print an object to sys.stdout and also save it in builtins._\n",
            "    \n",
            "    __excepthook__ = excepthook(...)\n",
            "        excepthook(exctype, value, traceback) -> None\n",
            "        \n",
            "        Handle an exception by displaying it with a traceback on sys.stderr.\n",
            "    \n",
            "    call_tracing(...)\n",
            "        call_tracing(func, args) -> object\n",
            "        \n",
            "        Call func(*args), while tracing is enabled.  The tracing state is\n",
            "        saved, and restored afterwards.  This is intended to be called from\n",
            "        a debugger from a checkpoint, to recursively debug some other code.\n",
            "    \n",
            "    callstats(...)\n",
            "        callstats() -> tuple of integers\n",
            "        \n",
            "        Return a tuple of function call statistics, if CALL_PROFILE was defined\n",
            "        when Python was built.  Otherwise, return None.\n",
            "        \n",
            "        When enabled, this function returns detailed, implementation-specific\n",
            "        details about the number of function calls executed. The return value is\n",
            "        a 11-tuple where the entries in the tuple are counts of:\n",
            "        0. all function calls\n",
            "        1. calls to PyFunction_Type objects\n",
            "        2. PyFunction calls that do not create an argument tuple\n",
            "        3. PyFunction calls that do not create an argument tuple\n",
            "           and bypass PyEval_EvalCodeEx()\n",
            "        4. PyMethod calls\n",
            "        5. PyMethod calls on bound methods\n",
            "        6. PyType calls\n",
            "        7. PyCFunction calls\n",
            "        8. generator calls\n",
            "        9. All other calls\n",
            "        10. Number of stack pops performed by call_function()\n",
            "    \n",
            "    exc_info(...)\n",
            "        exc_info() -> (type, value, traceback)\n",
            "        \n",
            "        Return information about the most recent exception caught by an except\n",
            "        clause in the current stack frame or in an older stack frame.\n",
            "    \n",
            "    exit(...)\n",
            "        exit([status])\n",
            "        \n",
            "        Exit the interpreter by raising SystemExit(status).\n",
            "        If the status is omitted or None, it defaults to zero (i.e., success).\n",
            "        If the status is an integer, it will be used as the system exit status.\n",
            "        If it is another kind of object, it will be printed and the system\n",
            "        exit status will be one (i.e., failure).\n",
            "    \n",
            "    get_asyncgen_hooks(...)\n",
            "        get_asyncgen_hooks()\n",
            "        \n",
            "        Return a namedtuple of installed asynchronous generators hooks (firstiter, finalizer).\n",
            "    \n",
            "    get_coroutine_wrapper(...)\n",
            "        get_coroutine_wrapper()\n",
            "        \n",
            "        Return the wrapper for coroutine objects set by sys.set_coroutine_wrapper.\n",
            "    \n",
            "    getallocatedblocks(...)\n",
            "        getallocatedblocks() -> integer\n",
            "        \n",
            "        Return the number of memory blocks currently allocated, regardless of their\n",
            "        size.\n",
            "    \n",
            "    getcheckinterval(...)\n",
            "        getcheckinterval() -> current check interval; see setcheckinterval().\n",
            "    \n",
            "    getdefaultencoding(...)\n",
            "        getdefaultencoding() -> string\n",
            "        \n",
            "        Return the current default string encoding used by the Unicode \n",
            "        implementation.\n",
            "    \n",
            "    getdlopenflags(...)\n",
            "        getdlopenflags() -> int\n",
            "        \n",
            "        Return the current value of the flags that are used for dlopen calls.\n",
            "        The flag constants are defined in the os module.\n",
            "    \n",
            "    getfilesystemencodeerrors(...)\n",
            "        getfilesystemencodeerrors() -> string\n",
            "        \n",
            "        Return the error mode used to convert Unicode filenames in\n",
            "        operating system filenames.\n",
            "    \n",
            "    getfilesystemencoding(...)\n",
            "        getfilesystemencoding() -> string\n",
            "        \n",
            "        Return the encoding used to convert Unicode filenames in\n",
            "        operating system filenames.\n",
            "    \n",
            "    getprofile(...)\n",
            "        getprofile()\n",
            "        \n",
            "        Return the profiling function set with sys.setprofile.\n",
            "        See the profiler chapter in the library manual.\n",
            "    \n",
            "    getrecursionlimit(...)\n",
            "        getrecursionlimit()\n",
            "        \n",
            "        Return the current value of the recursion limit, the maximum depth\n",
            "        of the Python interpreter stack.  This limit prevents infinite\n",
            "        recursion from causing an overflow of the C stack and crashing Python.\n",
            "    \n",
            "    getrefcount(...)\n",
            "        getrefcount(object) -> integer\n",
            "        \n",
            "        Return the reference count of object.  The count returned is generally\n",
            "        one higher than you might expect, because it includes the (temporary)\n",
            "        reference as an argument to getrefcount().\n",
            "    \n",
            "    getsizeof(...)\n",
            "        getsizeof(object, default) -> int\n",
            "        \n",
            "        Return the size of object in bytes.\n",
            "    \n",
            "    getswitchinterval(...)\n",
            "        getswitchinterval() -> current thread switch interval; see setswitchinterval().\n",
            "    \n",
            "    gettrace(...)\n",
            "        gettrace()\n",
            "        \n",
            "        Return the global debug tracing function set with sys.settrace.\n",
            "        See the debugger chapter in the library manual.\n",
            "    \n",
            "    intern(...)\n",
            "        intern(string) -> string\n",
            "        \n",
            "        ``Intern'' the given string.  This enters the string in the (global)\n",
            "        table of interned strings whose purpose is to speed up dictionary lookups.\n",
            "        Return the string itself or the previously interned string object with the\n",
            "        same value.\n",
            "    \n",
            "    is_finalizing(...)\n",
            "        is_finalizing()\n",
            "        Return True if Python is exiting.\n",
            "    \n",
            "    set_asyncgen_hooks(...)\n",
            "        set_asyncgen_hooks(*, firstiter=None, finalizer=None)\n",
            "        \n",
            "        Set a finalizer for async generators objects.\n",
            "    \n",
            "    set_coroutine_wrapper(...)\n",
            "        set_coroutine_wrapper(wrapper)\n",
            "        \n",
            "        Set a wrapper for coroutine objects.\n",
            "    \n",
            "    setcheckinterval(...)\n",
            "        setcheckinterval(n)\n",
            "        \n",
            "        Tell the Python interpreter to check for asynchronous events every\n",
            "        n instructions.  This also affects how often thread switches occur.\n",
            "    \n",
            "    setdlopenflags(...)\n",
            "        setdlopenflags(n) -> None\n",
            "        \n",
            "        Set the flags used by the interpreter for dlopen calls, such as when the\n",
            "        interpreter loads extension modules.  Among other things, this will enable\n",
            "        a lazy resolving of symbols when importing a module, if called as\n",
            "        sys.setdlopenflags(0).  To share symbols across extension modules, call as\n",
            "        sys.setdlopenflags(os.RTLD_GLOBAL).  Symbolic names for the flag modules\n",
            "        can be found in the os module (RTLD_xxx constants, e.g. os.RTLD_LAZY).\n",
            "    \n",
            "    setprofile(...)\n",
            "        setprofile(function)\n",
            "        \n",
            "        Set the profiling function.  It will be called on each function call\n",
            "        and return.  See the profiler chapter in the library manual.\n",
            "    \n",
            "    setrecursionlimit(...)\n",
            "        setrecursionlimit(n)\n",
            "        \n",
            "        Set the maximum depth of the Python interpreter stack to n.  This\n",
            "        limit prevents infinite recursion from causing an overflow of the C\n",
            "        stack and crashing Python.  The highest possible limit is platform-\n",
            "        dependent.\n",
            "    \n",
            "    setswitchinterval(...)\n",
            "        setswitchinterval(n)\n",
            "        \n",
            "        Set the ideal thread switching delay inside the Python interpreter\n",
            "        The actual frequency of switching threads can be lower if the\n",
            "        interpreter executes long sequences of uninterruptible code\n",
            "        (this is implementation-specific and workload-dependent).\n",
            "        \n",
            "        The parameter must represent the desired switching delay in seconds\n",
            "        A typical value is 0.005 (5 milliseconds).\n",
            "    \n",
            "    settrace(...)\n",
            "        settrace(function)\n",
            "        \n",
            "        Set the global debug tracing function.  It will be called on each\n",
            "        function call.  See the debugger chapter in the library manual.\n",
            "\n",
            "DATA\n",
            "    __stderr__ = <_io.TextIOWrapper name='<stderr>' mode='w' encoding='UTF...\n",
            "    __stdin__ = <_io.TextIOWrapper name='<stdin>' mode='r' encoding='UTF-8...\n",
            "    __stdout__ = <_io.TextIOWrapper name='<stdout>' mode='w' encoding='UTF...\n",
            "    abiflags = 'm'\n",
            "    api_version = 1013\n",
            "    argv = ['/usr/local/lib/python3.6/dist-packages/ipykernel_launcher.py'...\n",
            "    base_exec_prefix = '/usr'\n",
            "    base_prefix = '/usr'\n",
            "    builtin_module_names = ('_ast', '_bisect', '_blake2', '_codecs', '_col...\n",
            "    byteorder = 'little'\n",
            "    copyright = 'Copyright (c) 2001-2018 Python Software Foundati...ematis...\n",
            "    displayhook = <ipykernel.displayhook.ZMQShellDisplayHook object>\n",
            "    dont_write_bytecode = False\n",
            "    exec_prefix = '/usr'\n",
            "    executable = '/usr/bin/python3'\n",
            "    flags = sys.flags(debug=0, inspect=0, interactive=0, opt...ing=0, quie...\n",
            "    float_info = sys.float_info(max=1.7976931348623157e+308, max_...epsilo...\n",
            "    float_repr_style = 'short'\n",
            "    hash_info = sys.hash_info(width=64, modulus=2305843009213693...iphash2...\n",
            "    hexversion = 50727152\n",
            "    implementation = namespace(_multiarch='x86_64-linux-gnu', cache_t...in...\n",
            "    int_info = sys.int_info(bits_per_digit=30, sizeof_digit=4)\n",
            "    last_value = AttributeError(\"'NoneType' object has no attribute 'split...\n",
            "    maxsize = 9223372036854775807\n",
            "    maxunicode = 1114111\n",
            "    meta_path = [<google.colab._import_hooks._cv2._OpenCVImportHook object...\n",
            "    modules = {'IPython': <module 'IPython' from '/usr/local/lib/python3.6...\n",
            "    path = ['', '/env/python', '/usr/lib/python36.zip', '/usr/lib/python3....\n",
            "    path_hooks = [<class 'zipimport.zipimporter'>, <function FileFinder.pa...\n",
            "    path_importer_cache = {'/content': FileFinder('/content'), '/env/pytho...\n",
            "    platform = 'linux'\n",
            "    prefix = '/usr'\n",
            "    ps1 = 'In : '\n",
            "    ps2 = '...: '\n",
            "    ps3 = 'Out: '\n",
            "    stderr = <ipykernel.iostream.OutStream object>\n",
            "    stdin = <_io.TextIOWrapper name='<stdin>' mode='r' encoding='UTF-8'>\n",
            "    stdout = <ipykernel.iostream.OutStream object>\n",
            "    thread_info = sys.thread_info(name='pthread', lock='semaphore', versio...\n",
            "    version = '3.6.8 (default, Jan 14 2019, 11:02:34) \\n[GCC 8.0.1 2018041...\n",
            "    version_info = sys.version_info(major=3, minor=6, micro=8, releaseleve...\n",
            "    warnoptions = ['ignore:::pip._internal.cli.base_command']\n",
            "\n",
            "FILE\n",
            "    (built-in)\n",
            "\n",
            "\n"
          ],
          "name": "stdout"
        }
      ]
    },
    {
      "cell_type": "markdown",
      "metadata": {
        "id": "NmSFPCB_Z5-X",
        "colab_type": "text"
      },
      "source": [
        "**PyDoc**\n",
        "\n",
        "*      GUI till 3.2:\n",
        "*      Start/App menu, PythonXX/ModuleDocs\n",
        "*      Or run Python script pydocgui.pyw in std lib\n",
        "*      Or command line python -m pydoc g (or C:\\Python3x\\python )\n",
        "*      Browser in 3.2+:\n",
        "*      Command line python -m pydoc b\n",
        "*      Or on Windows py −3 -m pydoc b\n",
        "*      Or on some Python 3.X: Start/App menu, PythonXX/ModuleDocs"
      ]
    },
    {
      "cell_type": "code",
      "metadata": {
        "id": "-YzomRerZ5-X",
        "colab_type": "code",
        "colab": {
          "base_uri": "https://localhost:8080/",
          "height": 357
        },
        "outputId": "e1e640e5-a7b8-47ea-ef61-d825df6503bb"
      },
      "source": [
        "\"\"\"\n",
        "Module documentation\n",
        "Words Go Here\n",
        "\"\"\"\n",
        "\n",
        "spam = 40\n",
        " \n",
        "def square(x):\n",
        "  \"\"\"\n",
        "  function documentation\n",
        "  can we have your liver then?\n",
        "  \"\"\"\n",
        "  return x ** 2\n",
        " \n",
        "\n",
        "class SomeClass: # see ahead\n",
        "  \"\"\"\n",
        "  class docs go here, and can also\n",
        "  be in nested method def statements\n",
        "  \"\"\"\n",
        "  pass\n",
        " \n",
        "\n",
        "\n",
        "help(SomeClass)\n",
        "help(square)"
      ],
      "execution_count": 21,
      "outputs": [
        {
          "output_type": "stream",
          "text": [
            "Help on class SomeClass in module __main__:\n",
            "\n",
            "class SomeClass(builtins.object)\n",
            " |  class docs go here, and can also\n",
            " |  be in nested method def statements\n",
            " |  \n",
            " |  Data descriptors defined here:\n",
            " |  \n",
            " |  __dict__\n",
            " |      dictionary for instance variables (if defined)\n",
            " |  \n",
            " |  __weakref__\n",
            " |      list of weak references to the object (if defined)\n",
            "\n",
            "Help on function square in module __main__:\n",
            "\n",
            "square(x)\n",
            "    function documentation\n",
            "    can we have your liver then?\n",
            "\n"
          ],
          "name": "stdout"
        }
      ]
    },
    {
      "cell_type": "markdown",
      "metadata": {
        "id": "jXH-NYKcZ5-Y",
        "colab_type": "text"
      },
      "source": [
        "###Truth tests revisited"
      ]
    },
    {
      "cell_type": "markdown",
      "metadata": {
        "id": "PyB8qv5h7jh6",
        "colab_type": "text"
      },
      "source": [
        "*     True = non-zero number, or non-empty object\n",
        "*     Comparisons operators return True (1) or False (0)\n",
        "*     Boolean operators short-circuit when result known\n",
        "*     Boolean operators return an operand object"
      ]
    },
    {
      "cell_type": "markdown",
      "metadata": {
        "id": "L1NLP16K7mYh",
        "colab_type": "text"
      },
      "source": [
        "Object |\tValue\n",
        "---|---\n",
        "\"spam\" |\ttrue\n",
        "\"\" |\tfalse\n",
        "[] |\tfalse\n",
        "{} |\tfalse\n",
        "1 |\ttrue\n",
        "0.0 |\tfalse\n",
        "None |\tfalse"
      ]
    },
    {
      "cell_type": "markdown",
      "metadata": {
        "id": "HsGlc9z97rTo",
        "colab_type": "text"
      },
      "source": [
        "**Examples**"
      ]
    },
    {
      "cell_type": "code",
      "metadata": {
        "id": "e4e-6_R3765R",
        "colab_type": "code",
        "colab": {
          "base_uri": "https://localhost:8080/",
          "height": 34
        },
        "outputId": "9bbd97e7-1519-4898-b9d1-33dc858bd903"
      },
      "source": [
        "2 < 3, 3 < 2 # return True (1) or False (0)"
      ],
      "execution_count": 22,
      "outputs": [
        {
          "output_type": "execute_result",
          "data": {
            "text/plain": [
              "(True, False)"
            ]
          },
          "metadata": {
            "tags": []
          },
          "execution_count": 22
        }
      ]
    },
    {
      "cell_type": "code",
      "metadata": {
        "id": "O8J_6dKS7-XW",
        "colab_type": "code",
        "colab": {
          "base_uri": "https://localhost:8080/",
          "height": 34
        },
        "outputId": "d49e5911-f65d-419e-a5ea-c4736c8715ef"
      },
      "source": [
        "2 or 3, 3 or 2 # return left operand if true else return right operand (T|F)"
      ],
      "execution_count": 23,
      "outputs": [
        {
          "output_type": "execute_result",
          "data": {
            "text/plain": [
              "(2, 3)"
            ]
          },
          "metadata": {
            "tags": []
          },
          "execution_count": 23
        }
      ]
    },
    {
      "cell_type": "code",
      "metadata": {
        "id": "ko649X598AvJ",
        "colab_type": "code",
        "colab": {
          "base_uri": "https://localhost:8080/",
          "height": 34
        },
        "outputId": "c36747ae-8f94-4223-ccd4-1aa292ced07a"
      },
      "source": [
        "[] or 3"
      ],
      "execution_count": 24,
      "outputs": [
        {
          "output_type": "execute_result",
          "data": {
            "text/plain": [
              "3"
            ]
          },
          "metadata": {
            "tags": []
          },
          "execution_count": 24
        }
      ]
    },
    {
      "cell_type": "code",
      "metadata": {
        "id": "4wXfglry8DO1",
        "colab_type": "code",
        "colab": {
          "base_uri": "https://localhost:8080/",
          "height": 34
        },
        "outputId": "5726faab-ce70-487b-d0e4-9122a0b9cf22"
      },
      "source": [
        "[] or {}"
      ],
      "execution_count": 31,
      "outputs": [
        {
          "output_type": "execute_result",
          "data": {
            "text/plain": [
              "{}"
            ]
          },
          "metadata": {
            "tags": []
          },
          "execution_count": 31
        }
      ]
    },
    {
      "cell_type": "code",
      "metadata": {
        "id": "Q40V13lF8mDT",
        "colab_type": "code",
        "colab": {
          "base_uri": "https://localhost:8080/",
          "height": 34
        },
        "outputId": "a4e1adb2-44a6-47c7-c23f-4993c6060c8b"
      },
      "source": [
        "{} or []"
      ],
      "execution_count": 32,
      "outputs": [
        {
          "output_type": "execute_result",
          "data": {
            "text/plain": [
              "[]"
            ]
          },
          "metadata": {
            "tags": []
          },
          "execution_count": 32
        }
      ]
    },
    {
      "cell_type": "code",
      "metadata": {
        "id": "zZT-4-7e8VEC",
        "colab_type": "code",
        "colab": {
          "base_uri": "https://localhost:8080/",
          "height": 34
        },
        "outputId": "70380718-93e9-4623-dea6-8acfa1a0c72a"
      },
      "source": [
        "2 and 3, 3 and 2 # return left operand if false lse return right operand (T|F)"
      ],
      "execution_count": 26,
      "outputs": [
        {
          "output_type": "execute_result",
          "data": {
            "text/plain": [
              "(3, 2)"
            ]
          },
          "metadata": {
            "tags": []
          },
          "execution_count": 26
        }
      ]
    },
    {
      "cell_type": "code",
      "metadata": {
        "id": "qZ8awzgCZ5-Z",
        "colab_type": "code",
        "colab": {
          "base_uri": "https://localhost:8080/",
          "height": 34
        },
        "outputId": "40067faf-37c0-491b-c9cf-b5439d2a6b40"
      },
      "source": [
        "[] and {}"
      ],
      "execution_count": 27,
      "outputs": [
        {
          "output_type": "execute_result",
          "data": {
            "text/plain": [
              "[]"
            ]
          },
          "metadata": {
            "tags": []
          },
          "execution_count": 27
        }
      ]
    },
    {
      "cell_type": "code",
      "metadata": {
        "id": "bKC7w8i08bqF",
        "colab_type": "code",
        "colab": {
          "base_uri": "https://localhost:8080/",
          "height": 34
        },
        "outputId": "30ecb368-2a5b-40e2-d507-5e9eb1a651e6"
      },
      "source": [
        "3 and []"
      ],
      "execution_count": 28,
      "outputs": [
        {
          "output_type": "execute_result",
          "data": {
            "text/plain": [
              "[]"
            ]
          },
          "metadata": {
            "tags": []
          },
          "execution_count": 28
        }
      ]
    },
    {
      "cell_type": "markdown",
      "metadata": {
        "id": "TftMXeVn7wf7",
        "colab_type": "text"
      },
      "source": [
        "**Ternary operator in Python**"
      ]
    },
    {
      "cell_type": "code",
      "metadata": {
        "id": "DqjCmSvp73gE",
        "colab_type": "code",
        "colab": {
          "base_uri": "https://localhost:8080/",
          "height": 34
        },
        "outputId": "6d7c7785-0462-4037-f7c2-6b049585d43b"
      },
      "source": [
        "x = 'a' if 3 > 2 else 'b'\n",
        "x"
      ],
      "execution_count": 34,
      "outputs": [
        {
          "output_type": "execute_result",
          "data": {
            "text/plain": [
              "'a'"
            ]
          },
          "metadata": {
            "tags": []
          },
          "execution_count": 34
        }
      ]
    },
    {
      "cell_type": "markdown",
      "metadata": {
        "id": "o3cnritBZ5-a",
        "colab_type": "text"
      },
      "source": [
        "**Boolean type**\n",
        "\n",
        "*     bool is a subclass of int\n",
        "*      bool has two instances: True and False\n",
        "*      True,False are 1,0 but print differently"
      ]
    },
    {
      "cell_type": "code",
      "metadata": {
        "id": "0Ab2Wz0d9JWo",
        "colab_type": "code",
        "colab": {
          "base_uri": "https://localhost:8080/",
          "height": 34
        },
        "outputId": "71392e1d-724b-45f9-e6d0-3046e00e9f12"
      },
      "source": [
        "1 > 0"
      ],
      "execution_count": 35,
      "outputs": [
        {
          "output_type": "execute_result",
          "data": {
            "text/plain": [
              "True"
            ]
          },
          "metadata": {
            "tags": []
          },
          "execution_count": 35
        }
      ]
    },
    {
      "cell_type": "code",
      "metadata": {
        "id": "UMNO0BHLZ5-b",
        "colab_type": "code",
        "colab": {
          "base_uri": "https://localhost:8080/",
          "height": 34
        },
        "outputId": "44f16294-aa11-4a0e-cbd5-bc3530b4166e"
      },
      "source": [
        "True == 1, True is 1"
      ],
      "execution_count": 36,
      "outputs": [
        {
          "output_type": "execute_result",
          "data": {
            "text/plain": [
              "(True, False)"
            ]
          },
          "metadata": {
            "tags": []
          },
          "execution_count": 36
        }
      ]
    },
    {
      "cell_type": "code",
      "metadata": {
        "id": "Zm0WaROw9OKj",
        "colab_type": "code",
        "colab": {
          "base_uri": "https://localhost:8080/",
          "height": 34
        },
        "outputId": "71e0d8da-874c-42ea-f906-8b00fcc80503"
      },
      "source": [
        "True + 1"
      ],
      "execution_count": 37,
      "outputs": [
        {
          "output_type": "execute_result",
          "data": {
            "text/plain": [
              "2"
            ]
          },
          "metadata": {
            "tags": []
          },
          "execution_count": 37
        }
      ]
    },
    {
      "cell_type": "markdown",
      "metadata": {
        "id": "Ug8_b3UzZ5-e",
        "colab_type": "text"
      },
      "source": [
        "###While loops"
      ]
    },
    {
      "cell_type": "markdown",
      "metadata": {
        "id": "SKOYYBfX9SfA",
        "colab_type": "text"
      },
      "source": [
        "*     Pythons most general iteration construct\n",
        "*     One of two looping statements: while, for\n",
        "*     Implicit looping tools: map, reduce, filter, in, list (and other) comprehensions"
      ]
    },
    {
      "cell_type": "markdown",
      "metadata": {
        "id": "HcQXDern9UdY",
        "colab_type": "text"
      },
      "source": [
        "**General format**\n",
        "\n",
        "```python\n",
        "while <test>:\n",
        "  <statements>\n",
        "else: # optional else\n",
        "  <statements2> # run if didn't exit with break\n",
        "```"
      ]
    },
    {
      "cell_type": "markdown",
      "metadata": {
        "id": "mZWSdAWA9dao",
        "colab_type": "text"
      },
      "source": [
        "**Examples**"
      ]
    },
    {
      "cell_type": "code",
      "metadata": {
        "id": "L0wEiEJlZ5-f",
        "colab_type": "code",
        "colab": {}
      },
      "source": [
        "while True:\n",
        "  print('Press Stop to stop me!')"
      ],
      "execution_count": 0,
      "outputs": []
    },
    {
      "cell_type": "code",
      "metadata": {
        "id": "XjnQ9x2DZ5-h",
        "colab_type": "code",
        "colab": {
          "base_uri": "https://localhost:8080/",
          "height": 102
        },
        "outputId": "9b8eca89-ec85-42db-abe5-2c4bd4bf4599"
      },
      "source": [
        "count = 5\n",
        "while count:\n",
        "  print(count)\n",
        "  count -= 1"
      ],
      "execution_count": 39,
      "outputs": [
        {
          "output_type": "stream",
          "text": [
            "5\n",
            "4\n",
            "3\n",
            "2\n",
            "1\n"
          ],
          "name": "stdout"
        }
      ]
    },
    {
      "cell_type": "code",
      "metadata": {
        "id": "iP02e8PG99LB",
        "colab_type": "code",
        "colab": {
          "base_uri": "https://localhost:8080/",
          "height": 85
        },
        "outputId": "f1335e38-56fa-4930-82dc-09c6b09f77ee"
      },
      "source": [
        "x = 'spam'\n",
        "while x:\n",
        "  print(x)\n",
        "  x = x[1:] # strip first char off x"
      ],
      "execution_count": 40,
      "outputs": [
        {
          "output_type": "stream",
          "text": [
            "spam\n",
            "pam\n",
            "am\n",
            "m\n"
          ],
          "name": "stdout"
        }
      ]
    },
    {
      "cell_type": "code",
      "metadata": {
        "id": "xulpXQIjZ5-j",
        "colab_type": "code",
        "colab": {
          "base_uri": "https://localhost:8080/",
          "height": 34
        },
        "outputId": "c2a5b424-2286-4d53-839f-538d9d6e6f97"
      },
      "source": [
        "a=0; b=10\n",
        "while a < b: # one way to code counter loops\n",
        "  print(a, end=',')\n",
        "  a += 1"
      ],
      "execution_count": 42,
      "outputs": [
        {
          "output_type": "stream",
          "text": [
            "0,1,2,3,4,5,6,7,8,9,"
          ],
          "name": "stdout"
        }
      ]
    },
    {
      "cell_type": "markdown",
      "metadata": {
        "id": "iL8kaIC2Z5-k",
        "colab_type": "text"
      },
      "source": [
        "###Break, continue, pass, and the loop else"
      ]
    },
    {
      "cell_type": "markdown",
      "metadata": {
        "id": "riqtHld8-mAI",
        "colab_type": "text"
      },
      "source": [
        "*     break jumps out of the closest enclosing loop\n",
        "*     continue jumps to the top of the closest enclosing loop\n",
        "*     pass does nothing: an empty statement placeholder\n",
        "*     loop else run if loop exits normally, without a break\n",
        "*     3.X a literal ellipsis can work like a pass"
      ]
    },
    {
      "cell_type": "markdown",
      "metadata": {
        "id": "RBU49Ywv-oPg",
        "colab_type": "text"
      },
      "source": [
        "**General loop format**\n",
        "\n",
        "```python\n",
        "while <test>:\n",
        "  <statements>\n",
        "  if <test>: break # exit loop now, skip else\n",
        "  if <test>: continue # go to top of loop now\n",
        "else:\n",
        "  <statements> # if we didnt hit a break\n",
        "```"
      ]
    },
    {
      "cell_type": "markdown",
      "metadata": {
        "id": "81-5tCGd-yHo",
        "colab_type": "text"
      },
      "source": [
        "**Examples**\n",
        "\n",
        "*    Pass: an infinite loop\n",
        "*    Better example: stubbed-out function bodies, TBD"
      ]
    },
    {
      "cell_type": "code",
      "metadata": {
        "id": "c6ZIYxMuZ5-m",
        "colab_type": "code",
        "colab": {}
      },
      "source": [
        "while True: pass # Stop button to stop!"
      ],
      "execution_count": 0,
      "outputs": []
    },
    {
      "cell_type": "markdown",
      "metadata": {
        "id": "Bi71tSRaZ5-n",
        "colab_type": "text"
      },
      "source": [
        "*    Continue: print even numbers\n",
        "*    Avoids statement nesting (but use sparingly!)"
      ]
    },
    {
      "cell_type": "code",
      "metadata": {
        "id": "hRyrnz9wZ5-o",
        "colab_type": "code",
        "colab": {
          "base_uri": "https://localhost:8080/",
          "height": 34
        },
        "outputId": "853f46c2-a8be-4824-c272-422b2e9dfd43"
      },
      "source": [
        "x = 10\n",
        "while x:\n",
        "  x = x-1\n",
        "  if x % 2 != 0: continue # odd?--skip\n",
        "  print(x, end=\",\")"
      ],
      "execution_count": 44,
      "outputs": [
        {
          "output_type": "stream",
          "text": [
            "8,6,4,2,0,"
          ],
          "name": "stdout"
        }
      ]
    },
    {
      "cell_type": "markdown",
      "metadata": {
        "id": "DsdpipdyZ5-p",
        "colab_type": "text"
      },
      "source": [
        "*    Break: find factors\n",
        "*    Avoids search status flags"
      ]
    },
    {
      "cell_type": "code",
      "metadata": {
        "id": "zJ3wFWYuZ5-p",
        "colab_type": "code",
        "colab": {
          "base_uri": "https://localhost:8080/",
          "height": 34
        },
        "outputId": "b3d8c783-47f2-404f-c4f2-cb2f4fecaba6"
      },
      "source": [
        "y = 121\n",
        "x = y // 2\n",
        "while x > 1:\n",
        "  if y % x == 0: # remainder\n",
        "    print(y, 'has factor', x)\n",
        "    break # skip else\n",
        "  x = x-1\n",
        "else: # normal exit\n",
        "  print(y, 'is prime')\n",
        " \n"
      ],
      "execution_count": 47,
      "outputs": [
        {
          "output_type": "stream",
          "text": [
            "121 has factor 11\n"
          ],
          "name": "stdout"
        }
      ]
    },
    {
      "cell_type": "markdown",
      "metadata": {
        "id": "mTm9HWQBZ5-q",
        "colab_type": "text"
      },
      "source": [
        "###For loops"
      ]
    },
    {
      "cell_type": "markdown",
      "metadata": {
        "id": "FicJuaxwDiRU",
        "colab_type": "text"
      },
      "source": [
        "*     A general sequence (iterable) iterator\n",
        "*     Works on strings, lists, tuples, other\n",
        "*     Replaces most counter style loops\n",
        "*     Original: repeatedly indexes object until IndexError detected\n",
        "*     Newer: repeatedly calls next(iter(object)) until StopIteration\n",
        "*     Preview: also works on Python classes and C types"
      ]
    },
    {
      "cell_type": "markdown",
      "metadata": {
        "id": "HTw8FSSPDrYT",
        "colab_type": "text"
      },
      "source": [
        "**General format**\n",
        "\n",
        "```python\n",
        "for <target> in <object>: # assign object items to target\n",
        "  <statements>\n",
        "  if <test>: break # exit loop now, skip else\n",
        "  if <test>: continue # go to top of loop now\n",
        "else:\n",
        "  <statements> # if we didnt hit a break\n",
        " ```"
      ]
    },
    {
      "cell_type": "markdown",
      "metadata": {
        "id": "BSA_m2VzDzg-",
        "colab_type": "text"
      },
      "source": [
        "**Examples**"
      ]
    },
    {
      "cell_type": "code",
      "metadata": {
        "id": "AmjVZbjsKT3u",
        "colab_type": "code",
        "colab": {
          "base_uri": "https://localhost:8080/",
          "height": 68
        },
        "outputId": "cb54f362-3f79-48f1-8702-cf9e70474d8f"
      },
      "source": [
        "for x in [\"spam\", \"eggs\", \"spam\"]:\n",
        "  print(x)"
      ],
      "execution_count": 48,
      "outputs": [
        {
          "output_type": "stream",
          "text": [
            "spam\n",
            "eggs\n",
            "spam\n"
          ],
          "name": "stdout"
        }
      ]
    },
    {
      "cell_type": "code",
      "metadata": {
        "id": "pO3sEmXQKa9K",
        "colab_type": "code",
        "colab": {
          "base_uri": "https://localhost:8080/",
          "height": 34
        },
        "outputId": "9bb99268-6147-4d45-ced2-5b3f45981f6c"
      },
      "source": [
        "prod = 1\n",
        "for i in (1, 2, 3, 4): prod *= i # tuples\n",
        "\n",
        "prod"
      ],
      "execution_count": 49,
      "outputs": [
        {
          "output_type": "execute_result",
          "data": {
            "text/plain": [
              "24"
            ]
          },
          "metadata": {
            "tags": []
          },
          "execution_count": 49
        }
      ]
    },
    {
      "cell_type": "code",
      "metadata": {
        "id": "1turvzgDZ5-r",
        "colab_type": "code",
        "colab": {
          "base_uri": "https://localhost:8080/",
          "height": 85
        },
        "outputId": "334280f9-72d8-4501-8f61-151d8b98527f"
      },
      "source": [
        "S = 'spam'\n",
        "for c in S: print(c) # strings"
      ],
      "execution_count": 50,
      "outputs": [
        {
          "output_type": "stream",
          "text": [
            "s\n",
            "p\n",
            "a\n",
            "m\n"
          ],
          "name": "stdout"
        }
      ]
    },
    {
      "cell_type": "markdown",
      "metadata": {
        "id": "u9UipQFtZ5-s",
        "colab_type": "text"
      },
      "source": [
        "**Works on any iterable object: files, dicts**"
      ]
    },
    {
      "cell_type": "code",
      "metadata": {
        "id": "uFeR8PPFLDoO",
        "colab_type": "code",
        "colab": {}
      },
      "source": [
        "! echo \"hello\" >  data.txt &&\\\n",
        "  echo \"world\" >> data.txt &&\\\n",
        "  echo \"!!!!\" >> data.txt"
      ],
      "execution_count": 0,
      "outputs": []
    },
    {
      "cell_type": "code",
      "metadata": {
        "id": "e5lzK0qqZ5-t",
        "colab_type": "code",
        "colab": {
          "base_uri": "https://localhost:8080/",
          "height": 119
        },
        "outputId": "bfbfd676-6ec4-42ee-f9cb-90562b20e181"
      },
      "source": [
        "for line in open('data.txt'):\n",
        "  print(line.upper()) # calls next(), catches exc"
      ],
      "execution_count": 54,
      "outputs": [
        {
          "output_type": "stream",
          "text": [
            "HELLO\n",
            "\n",
            "WORLD\n",
            "\n",
            "!!!!\n",
            "\n"
          ],
          "name": "stdout"
        }
      ]
    },
    {
      "cell_type": "code",
      "metadata": {
        "id": "5L1iTGIMLacW",
        "colab_type": "code",
        "colab": {
          "base_uri": "https://localhost:8080/",
          "height": 51
        },
        "outputId": "9bb417e6-91cc-427c-e907-e58f1504611a"
      },
      "source": [
        "D = {'hello':'world', 'this is':'Sparta'}\n",
        "for key in D:\n",
        "  print(key, D[key])"
      ],
      "execution_count": 55,
      "outputs": [
        {
          "output_type": "stream",
          "text": [
            "hello world\n",
            "this is Sparta\n"
          ],
          "name": "stdout"
        }
      ]
    },
    {
      "cell_type": "markdown",
      "metadata": {
        "id": "RN9z56W3Z5-u",
        "colab_type": "text"
      },
      "source": [
        "**iteration protocol and files**\n",
        "\n",
        "*      file.__next__() gets next line, like file.readline(), but eof differs\n",
        "*      Use file.next() in 2.X, or next(file) in either 2.X or 3.X\n",
        "*      All iteration tools/contexts use the iteration protocol\n",
        "*      Protocol: I=iter(X), call next(I) * N, catch StopIteration\n",
        "*      iter(X) optional for single-scan iterables (e.g., files)\n",
        "*      Any such object works in for loops, comprehensions,\n",
        "*      line.rstrip(), line.upper() are string methods"
      ]
    },
    {
      "cell_type": "markdown",
      "metadata": {
        "id": "9deAvz84Lyiy",
        "colab_type": "text"
      },
      "source": [
        "**Comprehensions:**\n",
        "\n",
        "*      [expr-with-var for var in iterable]\n",
        "*      [expr-with-var for var in iterable if expr-with-var]\n",
        "*      [expr-with-vars for var1 in iterable1 for var2 in iterable2]\n",
        "*      Also works for sets, dictionaries, generators in 2.7+: {}, ()\n",
        "*      Hint: comps have statement equivalents: for/if/append() nesting\n",
        "*      Hint: KISS! if its hard for you read, dont do it"
      ]
    },
    {
      "cell_type": "markdown",
      "metadata": {
        "id": "r-xOsUI8L2KN",
        "colab_type": "text"
      },
      "source": [
        "###Loop coding techniques"
      ]
    },
    {
      "cell_type": "markdown",
      "metadata": {
        "id": "i-tzevgbL5bN",
        "colab_type": "text"
      },
      "source": [
        "*     for subsumes most counter loops\n",
        "*     range generates a list of integers to iterate over\n",
        "*     xrange similar, but doesnt create a real list\n",
        "*     avoid range, and the temptation to count things!"
      ]
    },
    {
      "cell_type": "code",
      "metadata": {
        "id": "PtKnhzUdSeSs",
        "colab_type": "code",
        "colab": {
          "base_uri": "https://localhost:8080/",
          "height": 85
        },
        "outputId": "216f403e-871e-4e45-a745-6c8f857a8178"
      },
      "source": [
        "# The easy (and fast) way\n",
        "\n",
        "X = 'spam'\n",
        "for item in X: print(item) # step through items"
      ],
      "execution_count": 56,
      "outputs": [
        {
          "output_type": "stream",
          "text": [
            "s\n",
            "p\n",
            "a\n",
            "m\n"
          ],
          "name": "stdout"
        }
      ]
    },
    {
      "cell_type": "code",
      "metadata": {
        "id": "k9UctjyCZ5-v",
        "colab_type": "code",
        "colab": {
          "base_uri": "https://localhost:8080/",
          "height": 85
        },
        "outputId": "eed68625-e158-49b0-8f2c-bcc0df80d0a3"
      },
      "source": [
        "# The hard way: a C-style for loop\n",
        "\n",
        "i = 0\n",
        "while i < len(X): # manual while indexing\n",
        "  print(X[i]); i += 1"
      ],
      "execution_count": 57,
      "outputs": [
        {
          "output_type": "stream",
          "text": [
            "s\n",
            "p\n",
            "a\n",
            "m\n"
          ],
          "name": "stdout"
        }
      ]
    },
    {
      "cell_type": "code",
      "metadata": {
        "id": "CuDvCIh5YoZC",
        "colab_type": "code",
        "colab": {
          "base_uri": "https://localhost:8080/",
          "height": 34
        },
        "outputId": "93040396-ab5f-41ed-f3ea-49cca1e3093e"
      },
      "source": [
        "# Range and fixed repitions\n",
        "list(range(5)), list(range(2, 5))"
      ],
      "execution_count": 59,
      "outputs": [
        {
          "output_type": "execute_result",
          "data": {
            "text/plain": [
              "([0, 1, 2, 3, 4], [2, 3, 4])"
            ]
          },
          "metadata": {
            "tags": []
          },
          "execution_count": 59
        }
      ]
    },
    {
      "cell_type": "code",
      "metadata": {
        "id": "y7DK1ChNYvsJ",
        "colab_type": "code",
        "colab": {
          "base_uri": "https://localhost:8080/",
          "height": 85
        },
        "outputId": "2a013524-967e-4a45-f4e1-9dbdeb7bfac8"
      },
      "source": [
        "for i in range(4): print('A shrubbery!')"
      ],
      "execution_count": 61,
      "outputs": [
        {
          "output_type": "stream",
          "text": [
            "A shrubbery!\n",
            "A shrubbery!\n",
            "A shrubbery!\n",
            "A shrubbery!\n"
          ],
          "name": "stdout"
        }
      ]
    },
    {
      "cell_type": "code",
      "metadata": {
        "id": "UoLbUNiKc6LT",
        "colab_type": "code",
        "colab": {
          "base_uri": "https://localhost:8080/",
          "height": 34
        },
        "outputId": "159e666c-e895-4ac5-b671-8d7b40a920ae"
      },
      "source": [
        "X = 'spam'\n",
        "len(X)"
      ],
      "execution_count": 63,
      "outputs": [
        {
          "output_type": "execute_result",
          "data": {
            "text/plain": [
              "4"
            ]
          },
          "metadata": {
            "tags": []
          },
          "execution_count": 63
        }
      ]
    },
    {
      "cell_type": "code",
      "metadata": {
        "id": "vmxUOEkWdFFx",
        "colab_type": "code",
        "colab": {
          "base_uri": "https://localhost:8080/",
          "height": 34
        },
        "outputId": "75a80e28-40c9-4a94-aa4d-1c8e3265d114"
      },
      "source": [
        "# Using range to generate offsets (not items!)\n",
        "list(range(len(X)))"
      ],
      "execution_count": 64,
      "outputs": [
        {
          "output_type": "execute_result",
          "data": {
            "text/plain": [
              "[0, 1, 2, 3]"
            ]
          },
          "metadata": {
            "tags": []
          },
          "execution_count": 64
        }
      ]
    },
    {
      "cell_type": "code",
      "metadata": {
        "id": "iovyOzwhdItO",
        "colab_type": "code",
        "colab": {
          "base_uri": "https://localhost:8080/",
          "height": 85
        },
        "outputId": "41f74a57-d3ef-4a89-d303-d5aeaeda544b"
      },
      "source": [
        "for i in range(len(X)): print(X[i]) # step through offsets"
      ],
      "execution_count": 65,
      "outputs": [
        {
          "output_type": "stream",
          "text": [
            "s\n",
            "p\n",
            "a\n",
            "m\n"
          ],
          "name": "stdout"
        }
      ]
    },
    {
      "cell_type": "code",
      "metadata": {
        "id": "0XHjezAxdPcp",
        "colab_type": "code",
        "colab": {
          "base_uri": "https://localhost:8080/",
          "height": 34
        },
        "outputId": "97ef89b4-f275-4296-adee-d871151b130f"
      },
      "source": [
        "# Using range and slicing for non-exhaustive traversals\n",
        "list(range(2, 10, 2))"
      ],
      "execution_count": 66,
      "outputs": [
        {
          "output_type": "execute_result",
          "data": {
            "text/plain": [
              "[2, 4, 6, 8]"
            ]
          },
          "metadata": {
            "tags": []
          },
          "execution_count": 66
        }
      ]
    },
    {
      "cell_type": "code",
      "metadata": {
        "id": "nCEffKLJeO9B",
        "colab_type": "code",
        "colab": {
          "base_uri": "https://localhost:8080/",
          "height": 119
        },
        "outputId": "f2e6eabb-0b65-4dc5-96f7-bd5c3d67cdd0"
      },
      "source": [
        "S = 'abcdefghijk'\n",
        "for i in range(0,len(S),2): print(S[i])"
      ],
      "execution_count": 67,
      "outputs": [
        {
          "output_type": "stream",
          "text": [
            "a\n",
            "c\n",
            "e\n",
            "g\n",
            "i\n",
            "k\n"
          ],
          "name": "stdout"
        }
      ]
    },
    {
      "cell_type": "code",
      "metadata": {
        "id": "JbmB342QeT35",
        "colab_type": "code",
        "colab": {
          "base_uri": "https://localhost:8080/",
          "height": 119
        },
        "outputId": "227dd5fd-6319-44a0-f910-bd9cf731a395"
      },
      "source": [
        "for c in S[::2]: print(c) # S[::-1] reverses"
      ],
      "execution_count": 68,
      "outputs": [
        {
          "output_type": "stream",
          "text": [
            "a\n",
            "c\n",
            "e\n",
            "g\n",
            "i\n",
            "k\n"
          ],
          "name": "stdout"
        }
      ]
    },
    {
      "cell_type": "code",
      "metadata": {
        "id": "SqM01rbbeceC",
        "colab_type": "code",
        "colab": {
          "base_uri": "https://localhost:8080/",
          "height": 34
        },
        "outputId": "ca78b504-7217-4f67-80ba-ee963d9c018d"
      },
      "source": [
        "# Using range and enumerate\n",
        "L = [1, 2, 3, 4]\n",
        "for x in L: x += 10\n",
        "L"
      ],
      "execution_count": 81,
      "outputs": [
        {
          "output_type": "execute_result",
          "data": {
            "text/plain": [
              "[1, 2, 3, 4]"
            ]
          },
          "metadata": {
            "tags": []
          },
          "execution_count": 81
        }
      ]
    },
    {
      "cell_type": "code",
      "metadata": {
        "id": "znc1GJmMenAA",
        "colab_type": "code",
        "colab": {
          "base_uri": "https://localhost:8080/",
          "height": 34
        },
        "outputId": "a3980623-8f87-4777-c837-163e0c735916"
      },
      "source": [
        "for i in range(len(L)): L[i] += 10\n",
        "L"
      ],
      "execution_count": 73,
      "outputs": [
        {
          "output_type": "execute_result",
          "data": {
            "text/plain": [
              "[11, 12, 13, 14]"
            ]
          },
          "metadata": {
            "tags": []
          },
          "execution_count": 73
        }
      ]
    },
    {
      "cell_type": "code",
      "metadata": {
        "id": "QGhPYesrrTfk",
        "colab_type": "code",
        "colab": {
          "base_uri": "https://localhost:8080/",
          "height": 34
        },
        "outputId": "3987795c-dacd-45c3-f880-6e04bc6fc29e"
      },
      "source": [
        "#List comprehensions\n",
        "M = [x + 10 for x in L]\n",
        "M"
      ],
      "execution_count": 74,
      "outputs": [
        {
          "output_type": "execute_result",
          "data": {
            "text/plain": [
              "[21, 22, 23, 24]"
            ]
          },
          "metadata": {
            "tags": []
          },
          "execution_count": 74
        }
      ]
    },
    {
      "cell_type": "code",
      "metadata": {
        "id": "VpTFkYWurZ-X",
        "colab_type": "code",
        "colab": {
          "base_uri": "https://localhost:8080/",
          "height": 102
        },
        "outputId": "71e62886-8bce-463b-9ba3-1df07a236234"
      },
      "source": [
        "lines = [line.rstrip() for line in open('sample_data/README.md')]\n",
        "lines[:5]"
      ],
      "execution_count": 77,
      "outputs": [
        {
          "output_type": "execute_result",
          "data": {
            "text/plain": [
              "['This directory includes a few sample datasets to get you started.',\n",
              " '',\n",
              " '*   `california_housing_data*.csv` is California housing data from the 1990 US',\n",
              " '    Census; more information is available at:',\n",
              " '    https://developers.google.com/machine-learning/crash-course/california-housing-data-description']"
            ]
          },
          "metadata": {
            "tags": []
          },
          "execution_count": 77
        }
      ]
    },
    {
      "cell_type": "code",
      "metadata": {
        "id": "6A_BLUTJrr8R",
        "colab_type": "code",
        "colab": {
          "base_uri": "https://localhost:8080/",
          "height": 34
        },
        "outputId": "9d52f9f5-067a-4a84-98eb-0c34f3779e09"
      },
      "source": [
        "matrix = [[1,2,3], \n",
        "          [4,5,6], \n",
        "          [7,8,9]]\n",
        "[row[1] for row in matrix] "
      ],
      "execution_count": 78,
      "outputs": [
        {
          "output_type": "execute_result",
          "data": {
            "text/plain": [
              "[2, 5, 8]"
            ]
          },
          "metadata": {
            "tags": []
          },
          "execution_count": 78
        }
      ]
    },
    {
      "cell_type": "code",
      "metadata": {
        "id": "15VyC9y96gTn",
        "colab_type": "code",
        "colab": {
          "base_uri": "https://localhost:8080/",
          "height": 34
        },
        "outputId": "64e6f3cf-4b65-4ed2-b145-874292639a77"
      },
      "source": [
        "for (i, x) in enumerate(L):\n",
        "  L[i] = x * 2\n",
        "\n",
        "L"
      ],
      "execution_count": 84,
      "outputs": [
        {
          "output_type": "execute_result",
          "data": {
            "text/plain": [
              "[4, 8, 12, 16]"
            ]
          },
          "metadata": {
            "tags": []
          },
          "execution_count": 84
        }
      ]
    },
    {
      "cell_type": "code",
      "metadata": {
        "id": "W55eg4uV6qlz",
        "colab_type": "code",
        "colab": {
          "base_uri": "https://localhost:8080/",
          "height": 34
        },
        "outputId": "dcf14b35-5b9f-4e7e-d1ef-2ddbd7ed9063"
      },
      "source": [
        "enumerate(L)"
      ],
      "execution_count": 85,
      "outputs": [
        {
          "output_type": "execute_result",
          "data": {
            "text/plain": [
              "<enumerate at 0x7efc2ed67090>"
            ]
          },
          "metadata": {
            "tags": []
          },
          "execution_count": 85
        }
      ]
    },
    {
      "cell_type": "code",
      "metadata": {
        "id": "4Kb28bZk6s0i",
        "colab_type": "code",
        "colab": {
          "base_uri": "https://localhost:8080/",
          "height": 34
        },
        "outputId": "fd935e39-1717-46ce-cd7f-4c116372ed2c"
      },
      "source": [
        "list(enumerate(L))"
      ],
      "execution_count": 86,
      "outputs": [
        {
          "output_type": "execute_result",
          "data": {
            "text/plain": [
              "[(0, 4), (1, 8), (2, 12), (3, 16)]"
            ]
          },
          "metadata": {
            "tags": []
          },
          "execution_count": 86
        }
      ]
    },
    {
      "cell_type": "code",
      "metadata": {
        "id": "plvRsvj86vrC",
        "colab_type": "code",
        "colab": {
          "base_uri": "https://localhost:8080/",
          "height": 34
        },
        "outputId": "e7fa1311-ce0c-4e67-c77f-a99d968430d9"
      },
      "source": [
        "E = enumerate(L)\n",
        "E.__next__()"
      ],
      "execution_count": 88,
      "outputs": [
        {
          "output_type": "execute_result",
          "data": {
            "text/plain": [
              "(0, 4)"
            ]
          },
          "metadata": {
            "tags": []
          },
          "execution_count": 88
        }
      ]
    },
    {
      "cell_type": "code",
      "metadata": {
        "id": "26DaudYp7RcF",
        "colab_type": "code",
        "colab": {
          "base_uri": "https://localhost:8080/",
          "height": 34
        },
        "outputId": "dbda6d60-f266-4328-ef30-845a9da2f1da"
      },
      "source": [
        "E.__next__()"
      ],
      "execution_count": 89,
      "outputs": [
        {
          "output_type": "execute_result",
          "data": {
            "text/plain": [
              "(1, 8)"
            ]
          },
          "metadata": {
            "tags": []
          },
          "execution_count": 89
        }
      ]
    },
    {
      "cell_type": "code",
      "metadata": {
        "id": "JmXvi5cn7VXm",
        "colab_type": "code",
        "colab": {
          "base_uri": "https://localhost:8080/",
          "height": 34
        },
        "outputId": "9e0fd94a-f962-4910-a041-cda02f3d6beb"
      },
      "source": [
        "# Traversing sequences in parallel with zip\n",
        "L1 = [1,2,3,4]\n",
        "L2 = [5,6,7,8]\n",
        "list(zip(L1,L2))"
      ],
      "execution_count": 91,
      "outputs": [
        {
          "output_type": "execute_result",
          "data": {
            "text/plain": [
              "[(1, 5), (2, 6), (3, 7), (4, 8)]"
            ]
          },
          "metadata": {
            "tags": []
          },
          "execution_count": 91
        }
      ]
    },
    {
      "cell_type": "code",
      "metadata": {
        "id": "QHeX0UOU7ZXa",
        "colab_type": "code",
        "colab": {
          "base_uri": "https://localhost:8080/",
          "height": 85
        },
        "outputId": "f2e242f9-b7ae-4642-b1ed-a7519a1d5812"
      },
      "source": [
        "for (x,y) in zip(L1, L2):\n",
        "  print(x, y, '--', x+y)"
      ],
      "execution_count": 92,
      "outputs": [
        {
          "output_type": "stream",
          "text": [
            "1 5 -- 6\n",
            "2 6 -- 8\n",
            "3 7 -- 10\n",
            "4 8 -- 12\n"
          ],
          "name": "stdout"
        }
      ]
    },
    {
      "cell_type": "code",
      "metadata": {
        "id": "N8IXkzvu7e6y",
        "colab_type": "code",
        "colab": {
          "base_uri": "https://localhost:8080/",
          "height": 34
        },
        "outputId": "7f4c07cf-8fb3-48af-8936-576445570b51"
      },
      "source": [
        "# Traversing dictionaries by sorted keys\n",
        "D = {'a':1, 'b':2, 'c':3}\n",
        "D"
      ],
      "execution_count": 94,
      "outputs": [
        {
          "output_type": "execute_result",
          "data": {
            "text/plain": [
              "{'a': 1, 'b': 2, 'c': 3}"
            ]
          },
          "metadata": {
            "tags": []
          },
          "execution_count": 94
        }
      ]
    },
    {
      "cell_type": "code",
      "metadata": {
        "id": "pfsgZ7cl7hND",
        "colab_type": "code",
        "colab": {
          "base_uri": "https://localhost:8080/",
          "height": 68
        },
        "outputId": "227ba2d1-9511-4a48-dde5-7cec75c262c9"
      },
      "source": [
        "Ks = sorted(D.keys())\n",
        "for k in Ks: print(D[k])"
      ],
      "execution_count": 97,
      "outputs": [
        {
          "output_type": "stream",
          "text": [
            "1\n",
            "2\n",
            "3\n"
          ],
          "name": "stdout"
        }
      ]
    },
    {
      "cell_type": "markdown",
      "metadata": {
        "id": "sZFAIvZf71we",
        "colab_type": "text"
      },
      "source": [
        "###Comprehensive loop examples"
      ]
    },
    {
      "cell_type": "markdown",
      "metadata": {
        "id": "344EO2S87_j2",
        "colab_type": "text"
      },
      "source": [
        "**Common ways to read from files**"
      ]
    },
    {
      "cell_type": "code",
      "metadata": {
        "id": "TSHiV0V_Z5-w",
        "colab_type": "code",
        "colab": {
          "base_uri": "https://localhost:8080/",
          "height": 129
        },
        "outputId": "bf77639c-c64c-4c7c-9b4a-3e13871b1b07"
      },
      "source": [
        "# file creation\n",
        " \n",
        "\n",
        " myfile = open('myfile.txt', 'w')\n",
        " for i in range(3):\n",
        "myfile.write(('spam' * (i+1)) + '\\n')\n",
        " myfile.close()\n",
        " \n",
        "\n",
        " \n",
        "\n",
        "# all at once\n",
        " print open('myfile.txt').read()\n",
        "spam\n",
        "spamspam\n",
        "spamspamspam\n",
        " \n",
        "\n",
        " \n",
        "\n",
        "# line by line\n",
        " myfile = open('myfile.txt')\n",
        " while True:\n",
        "line = myfile.readline()\n",
        "if not line: break\n",
        "print line,\n",
        " \n",
        "\n",
        "spam\n",
        "spamspam\n",
        "spamspamspam\n",
        " \n",
        "\n",
        " \n",
        "\n",
        "# all lines at once\n",
        " \n",
        "\n",
        " for line in open('myfile.txt').readlines():\n",
        "print line,\n",
        "spam\n",
        "spamspam\n",
        "spamspamspam\n",
        " \n",
        "\n",
        " \n",
        "\n",
        "# file iterators: line by line\n",
        " \n",
        "\n",
        " for line in open('myfile.txt'):\n",
        "print line,\n",
        "spam\n",
        "spamspam\n",
        "spamspamspam\n",
        " \n",
        "\n",
        " \n",
        "\n",
        "# by byte counts\n",
        " \n",
        "\n",
        " myfile = open('myfile.txt')\n",
        " while True:\n",
        "line = myfile.read(10)\n",
        "if not line: break\n",
        "print '[' + line + ']',\n",
        " \n",
        "\n",
        "[spam\n",
        "spams] [pam\n",
        "spamsp] [amspam\n",
        "]\n",
        "\n",
        " \n"
      ],
      "execution_count": 82,
      "outputs": [
        {
          "output_type": "error",
          "ename": "IndentationError",
          "evalue": "ignored",
          "traceback": [
            "\u001b[0;36m  File \u001b[0;32m\"<ipython-input-82-dd452c0420f7>\"\u001b[0;36m, line \u001b[0;32m9\u001b[0m\n\u001b[0;31m    enumerate(L)\u001b[0m\n\u001b[0m    ^\u001b[0m\n\u001b[0;31mIndentationError\u001b[0m\u001b[0;31m:\u001b[0m unexpected indent\n"
          ]
        }
      ]
    },
    {
      "cell_type": "markdown",
      "metadata": {
        "id": "QnqrEQZNZ5-y",
        "colab_type": "text"
      },
      "source": [
        "Summing data file columns"
      ]
    },
    {
      "cell_type": "code",
      "metadata": {
        "id": "DFyUpRMZZ5-y",
        "colab_type": "code",
        "colab": {}
      },
      "source": [
        "\n",
        " print open('data.txt').read()\n",
        "001.1 002.2 003.3\n",
        "010.1 020.2 030.3 040.4\n",
        "100.1 200.2 300.3\n",
        " \n",
        "\n",
        " sums = {}\n",
        " for line in open('data.txt'):\n",
        "cols = [float(col) for col in line.split()] # next!\n",
        "for pos, val in enumerate(cols):\n",
        "sums[pos] = sums.get(pos, 0.0) + val\n",
        " \n",
        "\n",
        " for key in sorted(sums):\n",
        "print key, '=', sums[key]\n",
        " \n",
        "\n",
        "0 = 111.3\n",
        "1 = 222.6\n",
        "2 = 333.9\n",
        "3 = 40.4\n",
        " \n",
        "\n",
        " sums\n",
        "{0: 111.3, 1: 222.59999999999999, 2: 333.90000000000003,\n",
        "3: 40.399999999999999}\n",
        " \n"
      ],
      "execution_count": 0,
      "outputs": []
    },
    {
      "cell_type": "markdown",
      "metadata": {
        "id": "XNejFZyFZ5-z",
        "colab_type": "text"
      },
      "source": [
        "###Basic coding gotchas"
      ]
    },
    {
      "cell_type": "markdown",
      "metadata": {
        "id": "e7QhncInsB35",
        "colab_type": "text"
      },
      "source": [
        "*    Dont forget to type a : at the end of compound statement headers\n",
        "*    Be sure to start top-level (unnested) code in column 1\n",
        "*    Blank lines in compound statements are ignored in files, but end the statement at the interactive prompt\n",
        "*    Avoid mixing tabs and spaces in indentation, unless youre sure what your editor does with tabs\n",
        "*    C programmers: you dont need ( ) around tests in if and while; you cant use { } around blocks\n",
        "*    In-place change operations like list.append() and list.sort() dont return a value (really, they return None); call them without assigning the result.\n",
        "*    Add parens to call a function: file.close() is a call, file.close is a reference only"
      ]
    }
  ]
}