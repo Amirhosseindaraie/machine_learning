{
  "nbformat": 4,
  "nbformat_minor": 0,
  "metadata": {
    "colab": {
      "name": "upl.ipynb",
      "version": "0.3.2",
      "provenance": [],
      "include_colab_link": true
    },
    "kernelspec": {
      "name": "python3",
      "display_name": "Python 3"
    }
  },
  "cells": [
    {
      "cell_type": "markdown",
      "metadata": {
        "id": "view-in-github",
        "colab_type": "text"
      },
      "source": [
        "<a href=\"https://colab.research.google.com/github/fbeilstein/machine_learning/blob/master/2_numpy_problems.ipynb\" target=\"_parent\"><img src=\"https://colab.research.google.com/assets/colab-badge.svg\" alt=\"Open In Colab\"/></a>"
      ]
    },
    {
      "cell_type": "markdown",
      "metadata": {
        "id": "WdeAk7T7Gubx",
        "colab_type": "text"
      },
      "source": [
        "##1. Import numpy as np and see the version"
      ]
    },
    {
      "cell_type": "markdown",
      "metadata": {
        "id": "vHCgxwI_HM3Z",
        "colab_type": "text"
      },
      "source": [
        "\n",
        "**Level 1**\n",
        "\n",
        "**Problem:**\n",
        "Import numpy as “np” and print the version number."
      ]
    },
    {
      "cell_type": "code",
      "metadata": {
        "id": "JsYrxTWsGubz",
        "colab_type": "code",
        "colab": {}
      },
      "source": [
        "# Enter your code here"
      ],
      "execution_count": 0,
      "outputs": []
    },
    {
      "cell_type": "markdown",
      "metadata": {
        "id": "dVQBH7mVGub3",
        "colab_type": "text"
      },
      "source": [
        "###Solution:"
      ]
    },
    {
      "cell_type": "code",
      "metadata": {
        "id": "bq7CLWBuGub4",
        "colab_type": "code",
        "outputId": "b3a1b971-6db6-48f4-c2a4-128f8256705c",
        "colab": {
          "base_uri": "https://localhost:8080/",
          "height": 34
        }
      },
      "source": [
        "import numpy as np\n",
        "print(np.__version__)"
      ],
      "execution_count": 0,
      "outputs": [
        {
          "output_type": "stream",
          "text": [
            "1.16.4\n"
          ],
          "name": "stdout"
        }
      ]
    },
    {
      "cell_type": "markdown",
      "metadata": {
        "id": "x8_Gd_SOGub7",
        "colab_type": "text"
      },
      "source": [
        "##2. How to create a 1D array?\n"
      ]
    },
    {
      "cell_type": "markdown",
      "metadata": {
        "id": "_yxf32rgHwF5",
        "colab_type": "text"
      },
      "source": [
        "\n",
        "**Level 1**\n",
        "\n",
        "**Problem:**\n",
        "\n",
        "Create a 1D array of numbers from 0 to 9\n",
        "\n",
        "**Expected output:**\n",
        "```\n",
        "array([0, 1, 2, 3, 4, 5, 6, 7, 8, 9])\n",
        "```"
      ]
    },
    {
      "cell_type": "code",
      "metadata": {
        "id": "JuUiYkN9Gub8",
        "colab_type": "code",
        "colab": {}
      },
      "source": [
        "import numpy as np\n",
        "\n",
        "# Enter your code here"
      ],
      "execution_count": 0,
      "outputs": []
    },
    {
      "cell_type": "markdown",
      "metadata": {
        "id": "iPwv8yolGub-",
        "colab_type": "text"
      },
      "source": [
        "###Solution:"
      ]
    },
    {
      "cell_type": "code",
      "metadata": {
        "id": "cuPfPtqFGub_",
        "colab_type": "code",
        "colab": {}
      },
      "source": [
        "import numpy as np\n",
        "\n",
        "# Solution\n",
        "np.arange(10)"
      ],
      "execution_count": 0,
      "outputs": []
    },
    {
      "cell_type": "markdown",
      "metadata": {
        "id": "OtleUkZHGucB",
        "colab_type": "text"
      },
      "source": [
        "##3. How to create a boolean array?"
      ]
    },
    {
      "cell_type": "markdown",
      "metadata": {
        "id": "kTA1WHjHp7EL",
        "colab_type": "text"
      },
      "source": [
        "**Level 1**\n",
        "\n",
        "**Problem:**\n",
        "\n",
        "Create a 3x3 numpy array of all True’s\n",
        "\n",
        "**Expected output:**\n",
        "\n",
        "```\n",
        "array([[ True,  True,  True],\n",
        "       [ True,  True,  True],\n",
        "       [ True,  True,  True]])\n",
        "```"
      ]
    },
    {
      "cell_type": "code",
      "metadata": {
        "id": "ngtPYmVrGucC",
        "colab_type": "code",
        "colab": {}
      },
      "source": [
        "import numpy as np\n",
        "\n",
        "# Enter your code here"
      ],
      "execution_count": 0,
      "outputs": []
    },
    {
      "cell_type": "markdown",
      "metadata": {
        "id": "pCeDPRSDGucE",
        "colab_type": "text"
      },
      "source": [
        "###Solution A:"
      ]
    },
    {
      "cell_type": "code",
      "metadata": {
        "id": "npwUBfk5GucF",
        "colab_type": "code",
        "colab": {}
      },
      "source": [
        "import numpy as np\n",
        "\n",
        "# Solution\n",
        "np.full((3, 3), True, dtype=bool)"
      ],
      "execution_count": 0,
      "outputs": []
    },
    {
      "cell_type": "markdown",
      "metadata": {
        "id": "6kznVyy3pxZ8",
        "colab_type": "text"
      },
      "source": [
        "###Solution B:"
      ]
    },
    {
      "cell_type": "code",
      "metadata": {
        "id": "rDfLd80RpqsC",
        "colab_type": "code",
        "colab": {}
      },
      "source": [
        "import numpy as np\n",
        "\n",
        "# Solution\n",
        "np.ones((3,3), dtype=bool)"
      ],
      "execution_count": 0,
      "outputs": []
    },
    {
      "cell_type": "markdown",
      "metadata": {
        "id": "YjkYxBZdGucH",
        "colab_type": "text"
      },
      "source": [
        "##4. How to extract items that satisfy a given condition from 1D array?"
      ]
    },
    {
      "cell_type": "markdown",
      "metadata": {
        "id": "XaUh5uuZrAUo",
        "colab_type": "text"
      },
      "source": [
        "**Level 1**\n",
        "\n",
        "**Problem:**\n",
        "Extract all odd numbers from numpy.array.\n",
        "\n",
        "**Possible Input:**\n",
        "```\n",
        "arr = np.array([0, 1, 2, 3, 4, 5, 6, 7, 8, 9])\n",
        "```\n",
        "\n",
        "**Desired output:**\n",
        "```\n",
        "array([1, 3, 5, 7, 9])\n",
        "```"
      ]
    },
    {
      "cell_type": "code",
      "metadata": {
        "id": "XdYyA1FiGucI",
        "colab_type": "code",
        "colab": {}
      },
      "source": [
        "import numpy as np\n",
        "\n",
        "# Input\n",
        "arr = np.array([0, 1, 2, 3, 4, 5, 6, 7, 8, 9])\n",
        "\n",
        "# Enter your code here"
      ],
      "execution_count": 0,
      "outputs": []
    },
    {
      "cell_type": "markdown",
      "metadata": {
        "id": "QJ3mp0YVGucK",
        "colab_type": "text"
      },
      "source": [
        "###Solution:"
      ]
    },
    {
      "cell_type": "code",
      "metadata": {
        "id": "DiI7owH4GucL",
        "colab_type": "code",
        "colab": {}
      },
      "source": [
        "import numpy as np\n",
        "\n",
        "# Input\n",
        "arr = np.array([0, 1, 2, 3, 4, 5, 6, 7, 8, 9])\n",
        "\n",
        "# Solution\n",
        "arr[arr % 2 == 1]"
      ],
      "execution_count": 0,
      "outputs": []
    },
    {
      "cell_type": "markdown",
      "metadata": {
        "id": "1Xau_-6iGucN",
        "colab_type": "text"
      },
      "source": [
        "##5. How to replace items that satisfy a condition with another value in numpy array?"
      ]
    },
    {
      "cell_type": "markdown",
      "metadata": {
        "id": "V6Cnp9_dwNt0",
        "colab_type": "text"
      },
      "source": [
        "**Level 1**\n",
        "\n",
        "**Problem:**\n",
        "Replace all odd numbers in numpy.array with -1\n",
        "\n",
        "**Possible Input:**\n",
        "```\n",
        "arr = np.array([0, 1, 2, 3, 4, 5, 6, 7, 8, 9])\n",
        "```\n",
        "\n",
        "**Expected Output:**\n",
        "```\n",
        "array([ 0, -1,  2, -1,  4, -1,  6, -1,  8, -1])\n",
        "```"
      ]
    },
    {
      "cell_type": "code",
      "metadata": {
        "id": "t-K4juTVGucO",
        "colab_type": "code",
        "colab": {}
      },
      "source": [
        "import numpy as np\n",
        "\n",
        "# Input\n",
        "arr = np.array([0, 1, 2, 3, 4, 5, 6, 7, 8, 9])\n",
        "\n",
        "# Enter your code here"
      ],
      "execution_count": 0,
      "outputs": []
    },
    {
      "cell_type": "markdown",
      "metadata": {
        "id": "lFj9GFvCGucP",
        "colab_type": "text"
      },
      "source": [
        "###Solution:"
      ]
    },
    {
      "cell_type": "code",
      "metadata": {
        "id": "bS6AKVIcGucQ",
        "colab_type": "code",
        "colab": {}
      },
      "source": [
        "import numpy as np\n",
        "\n",
        "# Input\n",
        "arr = np.array([0, 1, 2, 3, 4, 5, 6, 7, 8, 9])\n",
        "\n",
        "# Solution\n",
        "arr[arr % 2 == 1] = -1\n",
        "arr"
      ],
      "execution_count": 0,
      "outputs": []
    },
    {
      "cell_type": "markdown",
      "metadata": {
        "id": "86EgQATpGucR",
        "colab_type": "text"
      },
      "source": [
        "##6. How to replace items that satisfy a condition without affecting the original array?"
      ]
    },
    {
      "cell_type": "markdown",
      "metadata": {
        "id": "vc0CICWh0m6c",
        "colab_type": "text"
      },
      "source": [
        "**Level 2**\n",
        "\n",
        "**Problem:**\n",
        "Replace all odd numbers in arr with -1 without changing arr\n",
        "\n",
        "**Possible Input:**\n",
        "arr = np.array([0, 1, 2, 3, 4, 5, 6, 7, 8, 9])\n",
        "\n",
        "**Expected Output:**\n",
        "\n",
        "```\n",
        "print(' arr = ', arr, '\\n out = ', out)\n",
        "```\n",
        "```\n",
        " arr =  [0 1 2 3 4 5 6 7 8 9] \n",
        " out =  [ 0 -1  2 -1  4 -1  6 -1  8 -1]\n",
        "```"
      ]
    },
    {
      "cell_type": "code",
      "metadata": {
        "id": "etsioKd3GucS",
        "colab_type": "code",
        "colab": {}
      },
      "source": [
        "import numpy as np\n",
        "\n",
        "# Input\n",
        "arr = np.array([0, 1, 2, 3, 4, 5, 6, 7, 8, 9])\n",
        "\n",
        "# Enter your code here\n",
        "\n",
        "# Output\n",
        "print(' arr = ', arr, '\\n out = ', out)"
      ],
      "execution_count": 0,
      "outputs": []
    },
    {
      "cell_type": "markdown",
      "metadata": {
        "id": "t8PZIiahGucT",
        "colab_type": "text"
      },
      "source": [
        "###Solution:"
      ]
    },
    {
      "cell_type": "code",
      "metadata": {
        "id": "qdleyALdGucU",
        "colab_type": "code",
        "colab": {}
      },
      "source": [
        "import numpy as np\n",
        "\n",
        "# Input\n",
        "arr = np.array([0, 1, 2, 3, 4, 5, 6, 7, 8, 9])\n",
        "\n",
        "# Solution\n",
        "out = np.where(arr % 2 == 1, -1, arr)\n",
        "\n",
        "# Output\n",
        "print(' arr = ', arr, '\\n out = ', out)"
      ],
      "execution_count": 0,
      "outputs": []
    },
    {
      "cell_type": "markdown",
      "metadata": {
        "id": "Ho98pO7dGucV",
        "colab_type": "text"
      },
      "source": [
        "##7. How to reshape an array?"
      ]
    },
    {
      "cell_type": "markdown",
      "metadata": {
        "id": "YNOXqqfo40GF",
        "colab_type": "text"
      },
      "source": [
        "**Level 1**\n",
        "\n",
        "**Problem:**\n",
        "Convert a 1D array to a 2D array with 2 rows.\n",
        "\n",
        "**Possible Input:**\n",
        "```\n",
        "arr = np.arange(10)\n",
        "```\n",
        "\n",
        "**Expected Output:**\n",
        "```\n",
        "array([[0, 1, 2, 3, 4],\n",
        "       [5, 6, 7, 8, 9]])\n",
        "```"
      ]
    },
    {
      "cell_type": "code",
      "metadata": {
        "id": "Y0FNzACqGucW",
        "colab_type": "code",
        "colab": {}
      },
      "source": [
        "import numpy as np\n",
        "\n",
        "# Input\n",
        "arr = np.arange(10)\n",
        "\n",
        "# Enter your code here"
      ],
      "execution_count": 0,
      "outputs": []
    },
    {
      "cell_type": "markdown",
      "metadata": {
        "id": "kK7guQzmGucX",
        "colab_type": "text"
      },
      "source": [
        "###Solution:"
      ]
    },
    {
      "cell_type": "code",
      "metadata": {
        "id": "1lhfYR0qGucX",
        "colab_type": "code",
        "colab": {}
      },
      "source": [
        "import numpy as np\n",
        "\n",
        "# Input\n",
        "arr = np.arange(10)\n",
        "\n",
        "# Solution\n",
        "arr.reshape(2, -1) # Setting to -1 automatically decides the number of cols"
      ],
      "execution_count": 0,
      "outputs": []
    },
    {
      "cell_type": "markdown",
      "metadata": {
        "id": "myGydaXKGucZ",
        "colab_type": "text"
      },
      "source": [
        "##8. How to stack two arrays vertically?\n"
      ]
    },
    {
      "cell_type": "markdown",
      "metadata": {
        "id": "UVFPwA_SIxx-",
        "colab_type": "text"
      },
      "source": [
        "\n",
        "**Level 2**\n",
        "\n",
        "**Problem:**\n",
        "Stack arrays a and b vertically\n",
        "\n",
        "**Possible Input:**\n",
        "```\n",
        "a = np.arange(10).reshape(2,-1)\n",
        "b = np.repeat(1, 10).reshape(2,-1)\n",
        "```\n",
        "\n",
        "**Expected Output:**\n",
        "```\n",
        "array([[0, 1, 2, 3, 4],\n",
        "       [5, 6, 7, 8, 9],\n",
        "       [1, 1, 1, 1, 1],\n",
        "       [1, 1, 1, 1, 1]])\n",
        "```"
      ]
    },
    {
      "cell_type": "code",
      "metadata": {
        "id": "nG07uKoIGucZ",
        "colab_type": "code",
        "colab": {}
      },
      "source": [
        "import numpy as np\n",
        "\n",
        "# Input\n",
        "a = np.arange(10).reshape(2,-1)\n",
        "b = np.repeat(1, 10).reshape(2,-1)\n",
        "\n",
        "# Enter your code here"
      ],
      "execution_count": 0,
      "outputs": []
    },
    {
      "cell_type": "markdown",
      "metadata": {
        "id": "Gz1cJx-_Gucb",
        "colab_type": "text"
      },
      "source": [
        "###Solution A:"
      ]
    },
    {
      "cell_type": "code",
      "metadata": {
        "id": "PImUWMo9Gucc",
        "colab_type": "code",
        "colab": {}
      },
      "source": [
        "import numpy as np\n",
        "\n",
        "# Input\n",
        "a = np.arange(10).reshape(2,-1)\n",
        "b = np.repeat(1, 10).reshape(2,-1)\n",
        "\n",
        "# Solution\n",
        "np.concatenate([a, b], axis=0)"
      ],
      "execution_count": 0,
      "outputs": []
    },
    {
      "cell_type": "markdown",
      "metadata": {
        "id": "CdFT14AdJGLB",
        "colab_type": "text"
      },
      "source": [
        "###Solution B:"
      ]
    },
    {
      "cell_type": "code",
      "metadata": {
        "id": "wgvG1s7TGucf",
        "colab_type": "code",
        "colab": {}
      },
      "source": [
        "import numpy as np\n",
        "\n",
        "# Input\n",
        "a = np.arange(10).reshape(2,-1)\n",
        "b = np.repeat(1, 10).reshape(2,-1)\n",
        "\n",
        "# Solution\n",
        "np.vstack([a, b])"
      ],
      "execution_count": 0,
      "outputs": []
    },
    {
      "cell_type": "markdown",
      "metadata": {
        "id": "rzuh78rjJIpp",
        "colab_type": "text"
      },
      "source": [
        "###Solution C:"
      ]
    },
    {
      "cell_type": "code",
      "metadata": {
        "id": "NXkDu9epGuci",
        "colab_type": "code",
        "colab": {}
      },
      "source": [
        "import numpy as np\n",
        "\n",
        "# Input\n",
        "a = np.arange(10).reshape(2,-1)\n",
        "b = np.repeat(1, 10).reshape(2,-1)\n",
        "\n",
        "# Solution\n",
        "np.r_[a, b]"
      ],
      "execution_count": 0,
      "outputs": []
    },
    {
      "cell_type": "markdown",
      "metadata": {
        "id": "ZKslOAjrGucj",
        "colab_type": "text"
      },
      "source": [
        "##9. How to stack two arrays horizontally?"
      ]
    },
    {
      "cell_type": "markdown",
      "metadata": {
        "id": "atyjuvJj7NVa",
        "colab_type": "text"
      },
      "source": [
        "**Level 2**\n",
        "\n",
        "**Problem:**\n",
        "Stack the arrays a and b horizontally.\n",
        "\n",
        "**Possible Input:**\n",
        "```\n",
        "a = np.arange(10).reshape(2,-1)\n",
        "b = np.repeat(1, 10).reshape(2,-1)\n",
        "```\n",
        "\n",
        "**Expected Output:**\n",
        "```\n",
        "array([[0, 1, 2, 3, 4, 1, 1, 1, 1, 1],\n",
        "       [5, 6, 7, 8, 9, 1, 1, 1, 1, 1]])\n",
        "```"
      ]
    },
    {
      "cell_type": "code",
      "metadata": {
        "id": "SCuAjmbJGuck",
        "colab_type": "code",
        "colab": {}
      },
      "source": [
        "import numpy as np\n",
        "\n",
        "# Input\n",
        "a = np.arange(10).reshape(2,-1)\n",
        "b = np.repeat(1, 10).reshape(2,-1)\n",
        "\n",
        "# Enter your code here"
      ],
      "execution_count": 0,
      "outputs": []
    },
    {
      "cell_type": "markdown",
      "metadata": {
        "id": "SFowtQdPGucl",
        "colab_type": "text"
      },
      "source": [
        "###Solution A:"
      ]
    },
    {
      "cell_type": "code",
      "metadata": {
        "id": "CapIYtfVGucm",
        "colab_type": "code",
        "colab": {}
      },
      "source": [
        "import numpy as np\n",
        "\n",
        "# Input\n",
        "a = np.arange(10).reshape(2,-1)\n",
        "b = np.repeat(1, 10).reshape(2,-1)\n",
        "\n",
        "# Solution\n",
        "np.concatenate([a, b], axis=1)"
      ],
      "execution_count": 0,
      "outputs": []
    },
    {
      "cell_type": "markdown",
      "metadata": {
        "id": "TqjZbDGV7ZxV",
        "colab_type": "text"
      },
      "source": [
        "###Solution B:"
      ]
    },
    {
      "cell_type": "code",
      "metadata": {
        "id": "OBuBxEjMGucq",
        "colab_type": "code",
        "colab": {}
      },
      "source": [
        "import numpy as np\n",
        "\n",
        "# Input\n",
        "a = np.arange(10).reshape(2,-1)\n",
        "b = np.repeat(1, 10).reshape(2,-1)\n",
        "\n",
        "# Solution\n",
        "np.hstack([a, b])"
      ],
      "execution_count": 0,
      "outputs": []
    },
    {
      "cell_type": "markdown",
      "metadata": {
        "id": "qgJQEm1r7cR5",
        "colab_type": "text"
      },
      "source": [
        "###Solution C:"
      ]
    },
    {
      "cell_type": "code",
      "metadata": {
        "id": "uDrONYKjGucs",
        "colab_type": "code",
        "colab": {}
      },
      "source": [
        "import numpy as np\n",
        "\n",
        "# Input\n",
        "a = np.arange(10).reshape(2,-1)\n",
        "b = np.repeat(1, 10).reshape(2,-1)\n",
        "\n",
        "# Solution\n",
        "np.c_[a, b]"
      ],
      "execution_count": 0,
      "outputs": []
    },
    {
      "cell_type": "markdown",
      "metadata": {
        "id": "7W2jUpLgGucu",
        "colab_type": "text"
      },
      "source": [
        "##10. How to generate custom sequences in numpy without hardcoding?"
      ]
    },
    {
      "cell_type": "markdown",
      "metadata": {
        "id": "ZHsDNyL38miY",
        "colab_type": "text"
      },
      "source": [
        "**Level 2**\n",
        "\n",
        "**Problem:**\n",
        "Create the following pattern without hardcoding. Use only numpy functions and the given array a.\n",
        "\n",
        "\n",
        "**Possible Input:**\n",
        "```\n",
        "a = np.array([1,2,3])\n",
        "```\n",
        "\n",
        "**Expected Output:**\n",
        "```\n",
        "array([1, 1, 1, 2, 2, 2, 3, 3, 3, 1, 2, 3, 1, 2, 3, 1, 2, 3])\n",
        "```"
      ]
    },
    {
      "cell_type": "code",
      "metadata": {
        "id": "7JjnyM8iGucv",
        "colab_type": "code",
        "colab": {}
      },
      "source": [
        "import numpy as np\n",
        "\n",
        "# Input\n",
        "a = np.array([1,2,3])\n",
        "\n",
        "# Enter your code here"
      ],
      "execution_count": 0,
      "outputs": []
    },
    {
      "cell_type": "markdown",
      "metadata": {
        "id": "WR4hxzMTGucx",
        "colab_type": "text"
      },
      "source": [
        "###Solution:"
      ]
    },
    {
      "cell_type": "code",
      "metadata": {
        "id": "i8bkLAD3Gucy",
        "colab_type": "code",
        "colab": {}
      },
      "source": [
        "import numpy as np\n",
        "\n",
        "# Input\n",
        "a = np.array([1,2,3])\n",
        "\n",
        "# Solution\n",
        "np.r_[np.repeat(a, 3), np.tile(a, 3)]"
      ],
      "execution_count": 0,
      "outputs": []
    },
    {
      "cell_type": "markdown",
      "metadata": {
        "id": "rOdQyUlMGuc1",
        "colab_type": "text"
      },
      "source": [
        "##11. How to get the common items between two python numpy arrays?"
      ]
    },
    {
      "cell_type": "markdown",
      "metadata": {
        "id": "3fj14R22_GHJ",
        "colab_type": "text"
      },
      "source": [
        "**Level 2**\n",
        "\n",
        "**Problem:**\n",
        "Get the common items between a and b\n",
        "\n",
        "**Possible Input:**\n",
        "```\n",
        "a = np.array([1,2,3,2,3,4,3,4,5,6])\n",
        "b = np.array([7,2,10,2,7,4,9,4,9,8])\n",
        "```\n",
        "\n",
        "**Expected Output:**\n",
        "```\n",
        "array([2, 4])\n",
        "```"
      ]
    },
    {
      "cell_type": "code",
      "metadata": {
        "id": "ilc43BS9Gudk",
        "colab_type": "code",
        "colab": {}
      },
      "source": [
        "import numpy as np\n",
        "\n",
        "# Input\n",
        "a = np.array([1,2,3,2,3,4,3,4,5,6])\n",
        "b = np.array([7,2,10,2,7,4,9,4,9,8])\n",
        "\n",
        "# Enter your code here"
      ],
      "execution_count": 0,
      "outputs": []
    },
    {
      "cell_type": "markdown",
      "metadata": {
        "id": "DucvmwtiGudm",
        "colab_type": "text"
      },
      "source": [
        "###Solution:"
      ]
    },
    {
      "cell_type": "code",
      "metadata": {
        "id": "SyDcaBy-Gudm",
        "colab_type": "code",
        "colab": {}
      },
      "source": [
        "import numpy as np\n",
        "\n",
        "# Input\n",
        "a = np.array([1,2,3,2,3,4,3,4,5,6])\n",
        "b = np.array([7,2,10,2,7,4,9,4,9,8])\n",
        "\n",
        "#Solution\n",
        "np.intersect1d(a,b)"
      ],
      "execution_count": 0,
      "outputs": []
    },
    {
      "cell_type": "markdown",
      "metadata": {
        "id": "63s0Eb6WGudo",
        "colab_type": "text"
      },
      "source": [
        "##12. How to remove from one array those items that exist in another?"
      ]
    },
    {
      "cell_type": "markdown",
      "metadata": {
        "id": "M5kZ8w9EB0OV",
        "colab_type": "text"
      },
      "source": [
        "**Level 2**\n",
        "\n",
        "**Problem:**\n",
        "From array a remove all items present in array b.\n",
        "\n",
        "**Possible Input:**\n",
        "```\n",
        "a = np.array([1,2,3,4,5])\n",
        "b = np.array([5,6,7,8,9])\n",
        "```\n",
        "\n",
        "**Expected Output:**\n",
        "```\n",
        "array([1, 2, 3, 4])\n",
        "```"
      ]
    },
    {
      "cell_type": "code",
      "metadata": {
        "id": "uuxF0PPFGudo",
        "colab_type": "code",
        "colab": {}
      },
      "source": [
        "import numpy as np\n",
        "\n",
        "# Input\n",
        "a = np.array([1,2,3,4,5])\n",
        "b = np.array([5,6,7,8,9])\n",
        "\n",
        "# Enter your code here"
      ],
      "execution_count": 0,
      "outputs": []
    },
    {
      "cell_type": "markdown",
      "metadata": {
        "id": "E42AnZB9Gudp",
        "colab_type": "text"
      },
      "source": [
        "###Solution:"
      ]
    },
    {
      "cell_type": "code",
      "metadata": {
        "id": "hUkzVTioGudq",
        "colab_type": "code",
        "colab": {}
      },
      "source": [
        "import numpy as np\n",
        "\n",
        "# Input\n",
        "a = np.array([1,2,3,4,5])\n",
        "b = np.array([5,6,7,8,9])\n",
        "\n",
        "# Solution\n",
        "np.setdiff1d(a,b)"
      ],
      "execution_count": 0,
      "outputs": []
    },
    {
      "cell_type": "markdown",
      "metadata": {
        "id": "Emot7SyrGudr",
        "colab_type": "text"
      },
      "source": [
        "##13. How to get the positions where elements of two arrays match?"
      ]
    },
    {
      "cell_type": "markdown",
      "metadata": {
        "id": "uef__2XCI5al",
        "colab_type": "text"
      },
      "source": [
        "**Level 2**\n",
        "\n",
        "**Problem:**\n",
        "Get the positions where elements of a and b match.\n",
        "\n",
        "**Possible Input:**\n",
        "```\n",
        "a = np.array([1,2,3,2,3,4,3,4,5,6])\n",
        "b = np.array([7,2,10,2,7,4,9,4,9,8])\n",
        "```\n",
        "\n",
        "**Expected Output:**\n",
        "```\n",
        "array([1, 3, 5, 7])\n",
        "```"
      ]
    },
    {
      "cell_type": "code",
      "metadata": {
        "id": "-81rB_ryGudr",
        "colab_type": "code",
        "colab": {}
      },
      "source": [
        "import numpy as np\n",
        "\n",
        "# Input\n",
        "a = np.array([1,2,3,2,3,4,3,4,5,6])\n",
        "b = np.array([7,2,10,2,7,4,9,4,9,8])\n",
        "\n",
        "# Enter your code here"
      ],
      "execution_count": 0,
      "outputs": []
    },
    {
      "cell_type": "markdown",
      "metadata": {
        "id": "jQHVxYK5Gudt",
        "colab_type": "text"
      },
      "source": [
        "###Solution A:"
      ]
    },
    {
      "cell_type": "code",
      "metadata": {
        "id": "0p-mVeq6Gudu",
        "colab_type": "code",
        "colab": {}
      },
      "source": [
        "import numpy as np\n",
        "\n",
        "# Input\n",
        "a = np.array([1,2,3,2,3,4,3,4,5,6])\n",
        "b = np.array([7,2,10,2,7,4,9,4,9,8])\n",
        "\n",
        "# Solution\n",
        "np.where(a == b)[0]"
      ],
      "execution_count": 0,
      "outputs": []
    },
    {
      "cell_type": "markdown",
      "metadata": {
        "id": "LeL3voCWIdH3",
        "colab_type": "text"
      },
      "source": [
        "###Solution B:"
      ]
    },
    {
      "cell_type": "code",
      "metadata": {
        "id": "fBUbDYvdIhd8",
        "colab_type": "code",
        "colab": {}
      },
      "source": [
        "import numpy as np\n",
        "\n",
        "# Input\n",
        "a = np.array([1,2,3,2,3,4,3,4,5,6])\n",
        "b = np.array([7,2,10,2,7,4,9,4,9,8])\n",
        "\n",
        "# Solution\n",
        "np.nonzero(a == b)[0]"
      ],
      "execution_count": 0,
      "outputs": []
    },
    {
      "cell_type": "markdown",
      "metadata": {
        "id": "pVUpBUeCGudv",
        "colab_type": "text"
      },
      "source": [
        "##14. How to extract all numbers between a given range from a numpy array?"
      ]
    },
    {
      "cell_type": "markdown",
      "metadata": {
        "id": "ZjAI4JQaKhyQ",
        "colab_type": "text"
      },
      "source": [
        "**Level 2**\n",
        "\n",
        "**Problem:**\n",
        "Get all items between 5 and 10 from a.\n",
        "\n",
        "**Possible Input:**\n",
        "```\n",
        "a = np.array([2, 6, 1, 9, 10, 3, 27])\n",
        "```\n",
        "\n",
        "**Expected Output:**\n",
        "```\n",
        "array([ 6,  9, 10])\n",
        "```"
      ]
    },
    {
      "cell_type": "code",
      "metadata": {
        "id": "E-sZjxcmGudv",
        "colab_type": "code",
        "colab": {}
      },
      "source": [
        "import numpy as np\n",
        "\n",
        "# Input\n",
        "a = np.array([2, 6, 1, 9, 10, 3, 27])\n",
        "\n",
        "# Enter your code here"
      ],
      "execution_count": 0,
      "outputs": []
    },
    {
      "cell_type": "markdown",
      "metadata": {
        "id": "AiOmlvlxGudw",
        "colab_type": "text"
      },
      "source": [
        "###Solution A:"
      ]
    },
    {
      "cell_type": "code",
      "metadata": {
        "id": "FgbznuYgGudx",
        "colab_type": "code",
        "colab": {}
      },
      "source": [
        "import numpy as np\n",
        "\n",
        "# Input\n",
        "a = np.array([2, 6, 1, 9, 10, 3, 27])\n",
        "\n",
        "# Solution\n",
        "index = np.where((a >= 5) & (a <= 10))\n",
        "a[index]"
      ],
      "execution_count": 0,
      "outputs": []
    },
    {
      "cell_type": "markdown",
      "metadata": {
        "id": "pt7m_u5OKoOo",
        "colab_type": "text"
      },
      "source": [
        "###Solution B:"
      ]
    },
    {
      "cell_type": "code",
      "metadata": {
        "id": "SHJ95noXGudy",
        "colab_type": "code",
        "colab": {}
      },
      "source": [
        "import numpy as np\n",
        "\n",
        "# Input\n",
        "a = np.array([2, 6, 1, 9, 10, 3, 27])\n",
        "\n",
        "# Solution\n",
        "index = np.where(np.logical_and(a >= 5, a <= 10))\n",
        "a[index]"
      ],
      "execution_count": 0,
      "outputs": []
    },
    {
      "cell_type": "markdown",
      "metadata": {
        "id": "VPRMfsPeKqah",
        "colab_type": "text"
      },
      "source": [
        "###Solution C:"
      ]
    },
    {
      "cell_type": "code",
      "metadata": {
        "id": "75gYN5CSGud0",
        "colab_type": "code",
        "colab": {}
      },
      "source": [
        "import numpy as np\n",
        "\n",
        "# Input\n",
        "a = np.array([2, 6, 1, 9, 10, 3, 27])\n",
        "\n",
        "# Solution\n",
        "a[(a >= 5) & (a <= 10)]"
      ],
      "execution_count": 0,
      "outputs": []
    },
    {
      "cell_type": "markdown",
      "metadata": {
        "id": "Ep2gCQJuGud1",
        "colab_type": "text"
      },
      "source": [
        "##15. How to make a python function that handles scalars to work on numpy arrays?"
      ]
    },
    {
      "cell_type": "markdown",
      "metadata": {
        "id": "oOBia_IOPP4a",
        "colab_type": "text"
      },
      "source": [
        "**Level 2**\n",
        "\n",
        "**Problem:**\n",
        "Convert the function maxx that works on two scalars to work on two arrays.\n",
        "\n",
        "**Possible Input:**\n",
        "```\n",
        "import numpy as np\n",
        "\n",
        "# Input\n",
        "def maxx(x, y):\n",
        "    \"\"\"Get the maximum of two items\"\"\"\n",
        "    if x >= y:\n",
        "        return x\n",
        "    else:\n",
        "        return y\n",
        "\n",
        "a = np.array([5, 7, 9, 8, 6, 4, 5])\n",
        "b = np.array([6, 3, 4, 8, 9, 7, 1])\n",
        "```\n",
        "\n",
        "**Expected Output:**\n",
        "```\n",
        "array([6., 7., 9., 8., 9., 7., 5.])\n",
        "```"
      ]
    },
    {
      "cell_type": "code",
      "metadata": {
        "id": "KOWRdrvuGud2",
        "colab_type": "code",
        "colab": {}
      },
      "source": [
        "import numpy as np\n",
        "\n",
        "# Input\n",
        "def maxx(x, y):\n",
        "    \"\"\"Get the maximum of two items\"\"\"\n",
        "    if x >= y:\n",
        "        return x\n",
        "    else:\n",
        "        return y\n",
        "\n",
        "a = np.array([5, 7, 9, 8, 6, 4, 5])\n",
        "b = np.array([6, 3, 4, 8, 9, 7, 1])\n",
        "\n",
        "# Enter your code here"
      ],
      "execution_count": 0,
      "outputs": []
    },
    {
      "cell_type": "markdown",
      "metadata": {
        "id": "G9beCah1Gud5",
        "colab_type": "text"
      },
      "source": [
        "###Solution:"
      ]
    },
    {
      "cell_type": "code",
      "metadata": {
        "id": "xxQI2RjYGud5",
        "colab_type": "code",
        "colab": {}
      },
      "source": [
        "import numpy as np\n",
        "\n",
        "# Input\n",
        "def maxx(x, y):\n",
        "    \"\"\"Get the maximum of two items\"\"\"\n",
        "    if x >= y:\n",
        "        return x\n",
        "    else:\n",
        "        return y\n",
        "\n",
        "a = np.array([5, 7, 9, 8, 6, 4, 5])\n",
        "b = np.array([6, 3, 4, 8, 9, 7, 1])\n",
        "\n",
        "# Solution      \n",
        "pair_max = np.vectorize(maxx, otypes=[float])\n",
        "pair_max(a, b)"
      ],
      "execution_count": 0,
      "outputs": []
    },
    {
      "cell_type": "markdown",
      "metadata": {
        "id": "0RYLRR33Gud7",
        "colab_type": "text"
      },
      "source": [
        "##16. How to swap two columns in a 2d numpy array?"
      ]
    },
    {
      "cell_type": "markdown",
      "metadata": {
        "id": "OBtlQr5pRjdk",
        "colab_type": "text"
      },
      "source": [
        "**Level 2**\n",
        "\n",
        "**Problem:**\n",
        "Swap columns 1 and 2 in the numpy.array.\n",
        "\n",
        "**Possible Input:**\n",
        "```\n",
        "arr = np.array([[0, 1, 2],\n",
        "                [3, 4, 5],\n",
        "                [6, 7, 8]])\n",
        "```\n",
        "\n",
        "**Expected Output:**\n",
        "```\n",
        "array([[1, 0, 2],\n",
        "       [4, 3, 5],\n",
        "       [7, 6, 8]])\n",
        "```"
      ]
    },
    {
      "cell_type": "code",
      "metadata": {
        "id": "y_kE68OyGud8",
        "colab_type": "code",
        "colab": {}
      },
      "source": [
        "import numpy as np\n",
        "\n",
        "# Input\n",
        "arr = np.array([[0, 1, 2],\n",
        "                [3, 4, 5],\n",
        "                [6, 7, 8]])\n",
        "\n",
        "# Enter your code here"
      ],
      "execution_count": 0,
      "outputs": []
    },
    {
      "cell_type": "markdown",
      "metadata": {
        "id": "GlW7kXyAGud9",
        "colab_type": "text"
      },
      "source": [
        "###Solution:"
      ]
    },
    {
      "cell_type": "code",
      "metadata": {
        "id": "AQoBFP5lGud-",
        "colab_type": "code",
        "colab": {
          "base_uri": "https://localhost:8080/",
          "height": 68
        },
        "outputId": "224aab4a-0aca-4ed5-8628-174f0a8d7ff8"
      },
      "source": [
        "import numpy as np\n",
        "\n",
        "# Input\n",
        "arr = np.array([[0, 1, 2],\n",
        "                [3, 4, 5],\n",
        "                [6, 7, 8]])\n",
        "\n",
        "# Solution\n",
        "arr[:, [1,0,2]]"
      ],
      "execution_count": 5,
      "outputs": [
        {
          "output_type": "execute_result",
          "data": {
            "text/plain": [
              "array([[1, 0, 2],\n",
              "       [4, 3, 5],\n",
              "       [7, 6, 8]])"
            ]
          },
          "metadata": {
            "tags": []
          },
          "execution_count": 5
        }
      ]
    },
    {
      "cell_type": "markdown",
      "metadata": {
        "id": "XJWnuTcoGueA",
        "colab_type": "text"
      },
      "source": [
        "##17. How to swap two rows in a 2d numpy array?"
      ]
    },
    {
      "cell_type": "markdown",
      "metadata": {
        "id": "eTN9VSZCUDGz",
        "colab_type": "text"
      },
      "source": [
        "**Level 2**\n",
        "\n",
        "**Problem:**\n",
        "Swap rows 1 and 2 in the numpy array.\n",
        "\n",
        "**Possible Input:**\n",
        "```\n",
        "arr = np.array([[3, 4, 5],\n",
        "                [0, 1, 2],\n",
        "                [6, 7, 8]])\n",
        "```\n",
        "\n",
        "**Expected Output:**\n",
        "```\n",
        "array([[0, 1, 2],\n",
        "       [3, 4, 5],\n",
        "       [6, 7, 8]])\n",
        "```"
      ]
    },
    {
      "cell_type": "code",
      "metadata": {
        "id": "NTxY3FOEGueA",
        "colab_type": "code",
        "colab": {}
      },
      "source": [
        "import numpy as np\n",
        "\n",
        "# Input\n",
        "arr = np.array([[3, 4, 5],\n",
        "                [0, 1, 2],\n",
        "                [6, 7, 8]])\n",
        "\n",
        "# Enter your code here"
      ],
      "execution_count": 0,
      "outputs": []
    },
    {
      "cell_type": "markdown",
      "metadata": {
        "id": "QLcbt3cdGueC",
        "colab_type": "text"
      },
      "source": [
        "###Solution:"
      ]
    },
    {
      "cell_type": "code",
      "metadata": {
        "id": "1Pqq3GX0GueC",
        "colab_type": "code",
        "colab": {}
      },
      "source": [
        "import numpy as np\n",
        "\n",
        "# Input\n",
        "arr = np.array([[3, 4, 5],\n",
        "                [0, 1, 2],\n",
        "                [6, 7, 8]])\n",
        "\n",
        "# Solution\n",
        "arr[[1,0,2], :]"
      ],
      "execution_count": 0,
      "outputs": []
    },
    {
      "cell_type": "markdown",
      "metadata": {
        "id": "_xkBpGZAGueE",
        "colab_type": "text"
      },
      "source": [
        "##18. How to reverse the rows of a 2D array?"
      ]
    },
    {
      "cell_type": "markdown",
      "metadata": {
        "id": "rwpiXk04UMmL",
        "colab_type": "text"
      },
      "source": [
        "**Level 2**\n",
        "\n",
        "**Problem:**\n",
        "Reverse the rows of a 2D array.\n",
        "\n",
        "**Possible Input:**\n",
        "```\n",
        "arr = np.array([[3, 4, 5],\n",
        "                [0, 1, 2],\n",
        "                [6, 7, 8]])\n",
        "```\n",
        "\n",
        "**Expected Output:**\n",
        "```\n",
        "array([[6, 7, 8],\n",
        "       [0, 1, 2],\n",
        "       [3, 4, 5]])\n",
        "```"
      ]
    },
    {
      "cell_type": "code",
      "metadata": {
        "id": "oyN_X9PiGueF",
        "colab_type": "code",
        "colab": {}
      },
      "source": [
        "import numpy as np\n",
        "\n",
        "# Input\n",
        "arr = np.array([[3, 4, 5],\n",
        "                [0, 1, 2],\n",
        "                [6, 7, 8]])\n",
        "\n",
        "# Enter your code here"
      ],
      "execution_count": 0,
      "outputs": []
    },
    {
      "cell_type": "markdown",
      "metadata": {
        "id": "m31dp0X2GueG",
        "colab_type": "text"
      },
      "source": [
        "###Solution:"
      ]
    },
    {
      "cell_type": "code",
      "metadata": {
        "id": "7GqHXtLvGueH",
        "colab_type": "code",
        "colab": {}
      },
      "source": [
        "import numpy as np\n",
        "\n",
        "# Input\n",
        "arr = np.array([[3, 4, 5],\n",
        "                [0, 1, 2],\n",
        "                [6, 7, 8]])\n",
        "\n",
        "# Solution\n",
        "arr[::-1]\n"
      ],
      "execution_count": 0,
      "outputs": []
    },
    {
      "cell_type": "markdown",
      "metadata": {
        "id": "VlYEyNtLGueI",
        "colab_type": "text"
      },
      "source": [
        "##19. How to reverse the columns of a 2D array?"
      ]
    },
    {
      "cell_type": "markdown",
      "metadata": {
        "id": "Zo4W3niTU5Ac",
        "colab_type": "text"
      },
      "source": [
        "**Level 2**\n",
        "\n",
        "**Problem:**\n",
        "Reverse the columns of a 2D array arr.\n",
        "\n",
        "**Possible Input:**\n",
        "```\n",
        "arr = np.array([[3, 4, 5],\n",
        "                [0, 1, 2],\n",
        "                [6, 7, 8]])\n",
        "```\n",
        "\n",
        "**Expected Output:**\n",
        "```\n",
        "array([[5, 4, 3],\n",
        "       [2, 1, 0],\n",
        "       [8, 7, 6]])\n",
        "```"
      ]
    },
    {
      "cell_type": "code",
      "metadata": {
        "id": "tZTCf0UVGueI",
        "colab_type": "code",
        "colab": {}
      },
      "source": [
        "import numpy as np\n",
        "\n",
        "# Input\n",
        "arr = np.array([[3, 4, 5],\n",
        "                [0, 1, 2],\n",
        "                [6, 7, 8]])\n",
        "\n",
        "# Enter your code here"
      ],
      "execution_count": 0,
      "outputs": []
    },
    {
      "cell_type": "markdown",
      "metadata": {
        "id": "se6Iy2iWGueJ",
        "colab_type": "text"
      },
      "source": [
        "###Solution:"
      ]
    },
    {
      "cell_type": "code",
      "metadata": {
        "id": "-iyQh8xyGueJ",
        "colab_type": "code",
        "colab": {}
      },
      "source": [
        "import numpy as np\n",
        "\n",
        "# Input\n",
        "arr = np.array([[3, 4, 5],\n",
        "                [0, 1, 2],\n",
        "                [6, 7, 8]])\n",
        "\n",
        "# Solution\n",
        "arr[:, ::-1]"
      ],
      "execution_count": 0,
      "outputs": []
    },
    {
      "cell_type": "markdown",
      "metadata": {
        "id": "2T3lQ1s3GueK",
        "colab_type": "text"
      },
      "source": [
        "##20. How to create a 2D array containing random floats between 5 and 10?"
      ]
    },
    {
      "cell_type": "markdown",
      "metadata": {
        "id": "iopdlb3VZhvW",
        "colab_type": "text"
      },
      "source": [
        "**Level 2**\n",
        "\n",
        "**Problem:**\n",
        "Create a 2D array of shape 5x3 to contain random decimal numbers between 5 and 10.\n",
        "\n",
        "**No input expected**\n",
        "\n",
        "**Expected Output:**\n",
        "Helper function should print \"[OK]\""
      ]
    },
    {
      "cell_type": "code",
      "metadata": {
        "id": "jSTysDv7GueK",
        "colab_type": "code",
        "colab": {}
      },
      "source": [
        "import numpy as np\n",
        "\n",
        "# helper function to check correctness\n",
        "def check_array(arr):\n",
        "  if arr.shape != (5,3):\n",
        "    print(\"[ERROR] Wrong shape\")\n",
        "  elif not np.all((rand_arr <= 10.0) & (rand_arr >= 5.0)):\n",
        "    print(\"[ERROR] Value outside specified interval\")\n",
        "  else:\n",
        "    print(\"[OK]\")\n",
        "########\n",
        "\n",
        "# Enter your code here\n",
        "\n",
        "# Check your result\n",
        "check_array(rand_arr)"
      ],
      "execution_count": 0,
      "outputs": []
    },
    {
      "cell_type": "markdown",
      "metadata": {
        "id": "tLocEf9JGueL",
        "colab_type": "text"
      },
      "source": [
        "###Solution A:"
      ]
    },
    {
      "cell_type": "code",
      "metadata": {
        "id": "kty4crYgGueL",
        "colab_type": "code",
        "colab": {}
      },
      "source": [
        "import numpy as np\n",
        "\n",
        "# Solution\n",
        "rand_arr = np.random.randint(low=5, high=10, size=(5,3)) + np.random.random((5,3))\n",
        "rand_arr"
      ],
      "execution_count": 0,
      "outputs": []
    },
    {
      "cell_type": "markdown",
      "metadata": {
        "id": "zGTlA0LJZau2",
        "colab_type": "text"
      },
      "source": [
        "###Solution B:"
      ]
    },
    {
      "cell_type": "code",
      "metadata": {
        "id": "KO6_EQ9jGueN",
        "colab_type": "code",
        "colab": {}
      },
      "source": [
        "import numpy as np\n",
        "\n",
        "# Solution\n",
        "rand_arr = np.random.uniform(5,10, size=(5,3))\n",
        "rand_arr"
      ],
      "execution_count": 0,
      "outputs": []
    },
    {
      "cell_type": "markdown",
      "metadata": {
        "id": "g6zeZXVmGueO",
        "colab_type": "text"
      },
      "source": [
        "##21. How to print only 3 decimal places in python numpy array?"
      ]
    },
    {
      "cell_type": "markdown",
      "metadata": {
        "id": "tcQEIQiIa_SR",
        "colab_type": "text"
      },
      "source": [
        "**Level 1**\n",
        "\n",
        "**Problem:**\n",
        "Print or show only 3 decimal places of the numpy array rand_arr.\n",
        "\n",
        "**Possible Input:**\n",
        "```\n",
        "rand_arr = np.array([[0.548814, 0.715189, 0.602763],\n",
        "                     [0.544883, 0.423655, 0.645894],\n",
        "                     [0.437587, 0.891773, 0.963663],\n",
        "                     [0.383442, 0.791725, 0.528895],\n",
        "                     [0.568045, 0.925597, 0.071036]])\n",
        "```\n",
        "\n",
        "**Expected Output:**\n",
        "```\n",
        "array([[0.549, 0.715, 0.603],\n",
        "       [0.545, 0.424, 0.646],\n",
        "       [0.438, 0.892, 0.964],\n",
        "       [0.383, 0.792, 0.529],\n",
        "       [0.568, 0.926, 0.071]])\n",
        "```"
      ]
    },
    {
      "cell_type": "code",
      "metadata": {
        "id": "ouF1ggltGueO",
        "colab_type": "code",
        "colab": {}
      },
      "source": [
        "import numpy as np\n",
        "\n",
        "# Input\n",
        "rand_arr = np.array([[0.548814, 0.715189, 0.602763],\n",
        "                     [0.544883, 0.423655, 0.645894],\n",
        "                     [0.437587, 0.891773, 0.963663],\n",
        "                     [0.383442, 0.791725, 0.528895],\n",
        "                     [0.568045, 0.925597, 0.071036]])\n",
        "\n",
        "# Enter your code here"
      ],
      "execution_count": 0,
      "outputs": []
    },
    {
      "cell_type": "markdown",
      "metadata": {
        "id": "w3ouv8r0GueQ",
        "colab_type": "text"
      },
      "source": [
        "###Solution:"
      ]
    },
    {
      "cell_type": "code",
      "metadata": {
        "id": "T5DciI4ZGueQ",
        "colab_type": "code",
        "colab": {}
      },
      "source": [
        "import numpy as np\n",
        "\n",
        "# Input\n",
        "rand_arr = np.array([[0.548814, 0.715189, 0.602763],\n",
        "                     [0.544883, 0.423655, 0.645894],\n",
        "                     [0.437587, 0.891773, 0.963663],\n",
        "                     [0.383442, 0.791725, 0.528895],\n",
        "                     [0.568045, 0.925597, 0.071036]])\n",
        "\n",
        "# Solution\n",
        "np.set_printoptions(precision=3)\n",
        "rand_arr"
      ],
      "execution_count": 0,
      "outputs": []
    },
    {
      "cell_type": "markdown",
      "metadata": {
        "id": "xkqDKmKkGueR",
        "colab_type": "text"
      },
      "source": [
        "##22. How to pretty print a numpy array by suppressing the scientific notation (like 1e10)?"
      ]
    },
    {
      "cell_type": "markdown",
      "metadata": {
        "id": "hHQcgrSDdK0w",
        "colab_type": "text"
      },
      "source": [
        "**Level 1**\n",
        "\n",
        "**Problem:**\n",
        "Pretty print rand_arr by suppressing the scientific notation (like 1e10)\n",
        "\n",
        "**Possible Input:**\n",
        "```\n",
        "rand_arr = np.array([[5.434e-04, 2.784e-04, 4.245e-04],\n",
        "                     [8.448e-04, 4.719e-06, 1.216e-04],\n",
        "                     [6.707e-04, 8.259e-04, 1.367e-04]])\n",
        "```\n",
        "\n",
        "**Expected Output:**\n",
        "```\n",
        "array([[0.000543, 0.000278, 0.000425],\n",
        "       [0.000845, 0.000005, 0.000122],\n",
        "       [0.000671, 0.000826, 0.000137]])\n",
        "```"
      ]
    },
    {
      "cell_type": "code",
      "metadata": {
        "id": "UBhPKIdIGueS",
        "colab_type": "code",
        "colab": {}
      },
      "source": [
        "import numpy as np\n",
        "\n",
        "# Input\n",
        "rand_arr = np.array([[5.434e-04, 2.784e-04, 4.245e-04],\n",
        "                     [8.448e-04, 4.719e-06, 1.216e-04],\n",
        "                     [6.707e-04, 8.259e-04, 1.367e-04]])\n",
        "\n",
        "# Enter your code here"
      ],
      "execution_count": 0,
      "outputs": []
    },
    {
      "cell_type": "markdown",
      "metadata": {
        "id": "1T3qKqXlGueT",
        "colab_type": "text"
      },
      "source": [
        "###Solution:"
      ]
    },
    {
      "cell_type": "code",
      "metadata": {
        "id": "xArwPDF5GueT",
        "colab_type": "code",
        "colab": {}
      },
      "source": [
        "import numpy as np\n",
        "\n",
        "# Input\n",
        "rand_arr = np.array([[5.434e-04, 2.784e-04, 4.245e-04],\n",
        "                     [8.448e-04, 4.719e-06, 1.216e-04],\n",
        "                     [6.707e-04, 8.259e-04, 1.367e-04]])\n",
        "\n",
        "# Solution\n",
        "np.set_printoptions(suppress=True, precision=6)\n",
        "rand_arr"
      ],
      "execution_count": 0,
      "outputs": []
    },
    {
      "cell_type": "markdown",
      "metadata": {
        "id": "83PntHbxGueU",
        "colab_type": "text"
      },
      "source": [
        "##23. How to limit the number of items printed in output of numpy array?"
      ]
    },
    {
      "cell_type": "markdown",
      "metadata": {
        "id": "16ybC3Q8e7Bx",
        "colab_type": "text"
      },
      "source": [
        "**Level 1**\n",
        "\n",
        "**Problem:**\n",
        "Limit the number of items printed in python numpy array a to a maximum of 6 elements.\n",
        "\n",
        "**Possible Input:**\n",
        "```\n",
        "a = np.array([ 0,  1,  2,  3,  4,  5,  6,  7,  8,  9, 10, 11, 12, 13, 14])\n",
        "```\n",
        "\n",
        "**Expected Output:**\n",
        "```\n",
        "array([ 0,  1,  2, ..., 12, 13, 14])\n",
        "```"
      ]
    },
    {
      "cell_type": "code",
      "metadata": {
        "id": "zFUJCTzGGueU",
        "colab_type": "code",
        "colab": {}
      },
      "source": [
        "import numpy as np\n",
        "\n",
        "# Input\n",
        "a = np.array([ 0,  1,  2,  3,  4,  5,  6,  7,  8,  9, 10, 11, 12, 13, 14])\n",
        "\n",
        "# Enter your code here"
      ],
      "execution_count": 0,
      "outputs": []
    },
    {
      "cell_type": "markdown",
      "metadata": {
        "id": "lwFAlNW6GueV",
        "colab_type": "text"
      },
      "source": [
        "###Solution:"
      ]
    },
    {
      "cell_type": "code",
      "metadata": {
        "id": "os3_KBXBGueV",
        "colab_type": "code",
        "colab": {}
      },
      "source": [
        "import numpy as np\n",
        "\n",
        "# Input\n",
        "a = np.array([ 0,  1,  2,  3,  4,  5,  6,  7,  8,  9, 10, 11, 12, 13, 14])\n",
        "\n",
        "# Solution\n",
        "np.set_printoptions(threshold=6)\n",
        "a"
      ],
      "execution_count": 0,
      "outputs": []
    },
    {
      "cell_type": "markdown",
      "metadata": {
        "id": "VzDEVk-mGueX",
        "colab_type": "text"
      },
      "source": [
        "##24. How to print the full numpy array without truncating"
      ]
    },
    {
      "cell_type": "markdown",
      "metadata": {
        "id": "fU8Kqcazf8OJ",
        "colab_type": "text"
      },
      "source": [
        "**Level 1**\n",
        "\n",
        "**Problem:**\n",
        "Print the full numpy array a without truncating.\n",
        "\n",
        "**Possible Input:**\n",
        "```\n",
        "a = np.array([ 0,  1,  2,  3,  4,  5,  6,  7,  8,  9, 10, 11, 12, 13, 14])\n",
        "```\n",
        "\n",
        "**Expected Output:**\n",
        "```\n",
        "array([ 0,  1,  2,  3,  4,  5,  6,  7,  8,  9, 10, 11, 12, 13, 14])\n",
        "```"
      ]
    },
    {
      "cell_type": "code",
      "metadata": {
        "id": "IrgWJHKLGueX",
        "colab_type": "code",
        "colab": {}
      },
      "source": [
        "import numpy as np\n",
        "\n",
        "# Input\n",
        "a = np.array([ 0,  1,  2,  3,  4,  5,  6,  7,  8,  9, 10, 11, 12, 13, 14])\n",
        "\n",
        "# Enter your code here"
      ],
      "execution_count": 0,
      "outputs": []
    },
    {
      "cell_type": "markdown",
      "metadata": {
        "id": "nF7mItm5GueY",
        "colab_type": "text"
      },
      "source": [
        "###Solution:"
      ]
    },
    {
      "cell_type": "code",
      "metadata": {
        "id": "Hi9dAleMGueZ",
        "colab_type": "code",
        "colab": {}
      },
      "source": [
        "import numpy as np\n",
        "\n",
        "# Input\n",
        "a = np.array([ 0,  1,  2,  3,  4,  5,  6,  7,  8,  9, 10, 11, 12, 13, 14])\n",
        "\n",
        "# Solution\n",
        "np.set_printoptions(threshold=np.inf)\n",
        "a"
      ],
      "execution_count": 0,
      "outputs": []
    },
    {
      "cell_type": "markdown",
      "metadata": {
        "id": "xcbKfhk_Guea",
        "colab_type": "text"
      },
      "source": [
        "##25. How to import a dataset with numbers and texts keeping the text intact in python numpy?"
      ]
    },
    {
      "cell_type": "markdown",
      "metadata": {
        "id": "bg3rbGUYiM7y",
        "colab_type": "text"
      },
      "source": [
        "**Level 2**\n",
        "\n",
        "**Problem:**\n",
        "Import the iris dataset keeping the text intact.\n",
        "Print first three rows.\n",
        "\n",
        "**Possible Input:**\n",
        "```\n",
        "url = 'https://archive.ics.uci.edu/ml/machine-learning-databases/iris/iris.data'\n",
        "```\n",
        "\n",
        "**Expected Output:**\n",
        "```\n",
        "array([[b'5.1', b'3.5', b'1.4', b'0.2', b'Iris-setosa'],\n",
        "       [b'4.9', b'3.0', b'1.4', b'0.2', b'Iris-setosa'],\n",
        "       [b'4.7', b'3.2', b'1.3', b'0.2', b'Iris-setosa']], dtype=object)\n",
        "```"
      ]
    },
    {
      "cell_type": "code",
      "metadata": {
        "id": "zkWbicmkGuea",
        "colab_type": "code",
        "colab": {}
      },
      "source": [
        "import numpy as np\n",
        "\n",
        "# Input\n",
        "url = 'https://archive.ics.uci.edu/ml/machine-learning-databases/iris/iris.data'\n",
        "\n",
        "# Enter your code here"
      ],
      "execution_count": 0,
      "outputs": []
    },
    {
      "cell_type": "markdown",
      "metadata": {
        "id": "p4GBk3X-Gueb",
        "colab_type": "text"
      },
      "source": [
        "###Solution:"
      ]
    },
    {
      "cell_type": "code",
      "metadata": {
        "id": "J9CpTcRwGueb",
        "colab_type": "code",
        "colab": {}
      },
      "source": [
        "import numpy as np\n",
        "\n",
        "# Input\n",
        "url = 'https://archive.ics.uci.edu/ml/machine-learning-databases/iris/iris.data'\n",
        "\n",
        "# Solution\n",
        "iris = np.genfromtxt(url, delimiter=',', dtype='object')\n",
        "iris[:3]"
      ],
      "execution_count": 0,
      "outputs": []
    },
    {
      "cell_type": "markdown",
      "metadata": {
        "id": "c9Y0rnkGGuec",
        "colab_type": "text"
      },
      "source": [
        "##26. How to extract a particular column from 2D array?"
      ]
    },
    {
      "cell_type": "markdown",
      "metadata": {
        "id": "DklVpEOgk1kU",
        "colab_type": "text"
      },
      "source": [
        "**Level 2**\n",
        "\n",
        "**Problem:**\n",
        "Extract the text column \"species\" from the iris dataset.\n",
        "Note that species are the fifth column, i.e. has index 4 (indexing starts from 0).\n",
        "Print first 8 species.\n",
        "\n",
        "**Possible Input:**\n",
        "```\n",
        "url = 'https://archive.ics.uci.edu/ml/machine-learning-databases/iris/iris.data'\n",
        "iris = np.genfromtxt(url, delimiter=',', dtype='object')\n",
        "species_column_num = 4\n",
        "```\n",
        "\n",
        "**Expected Output**\n",
        "```\n",
        "array([b'Iris-setosa', b'Iris-setosa', b'Iris-setosa', b'Iris-setosa',\n",
        "       b'Iris-setosa', b'Iris-setosa', b'Iris-setosa', b'Iris-setosa'],\n",
        "      dtype=object)\n",
        "```"
      ]
    },
    {
      "cell_type": "code",
      "metadata": {
        "id": "xYpJb_HOGuec",
        "colab_type": "code",
        "colab": {}
      },
      "source": [
        "import numpy as np\n",
        "\n",
        "# Input:\n",
        "url = 'https://archive.ics.uci.edu/ml/machine-learning-databases/iris/iris.data'\n",
        "iris = np.genfromtxt(url, delimiter=',', dtype='object')\n",
        "species_column_idx = 4\n",
        "\n",
        "# Enter your code here"
      ],
      "execution_count": 0,
      "outputs": []
    },
    {
      "cell_type": "markdown",
      "metadata": {
        "id": "8ENn3DD1Gued",
        "colab_type": "text"
      },
      "source": [
        "###Solution:"
      ]
    },
    {
      "cell_type": "code",
      "metadata": {
        "id": "EnY9hvDTGued",
        "colab_type": "code",
        "colab": {
          "base_uri": "https://localhost:8080/",
          "height": 68
        },
        "outputId": "b3e303e9-6938-4691-c9f3-b9d692a43510"
      },
      "source": [
        "import numpy as np\n",
        "\n",
        "# Input:\n",
        "url = 'https://archive.ics.uci.edu/ml/machine-learning-databases/iris/iris.data'\n",
        "iris = np.genfromtxt(url, delimiter=',', dtype='object')\n",
        "species_column_idx = 4\n",
        "\n",
        "# Solution:\n",
        "species = iris[:, species_column_idx]\n",
        "species[:8]"
      ],
      "execution_count": 1,
      "outputs": [
        {
          "output_type": "execute_result",
          "data": {
            "text/plain": [
              "array([b'Iris-setosa', b'Iris-setosa', b'Iris-setosa', b'Iris-setosa',\n",
              "       b'Iris-setosa', b'Iris-setosa', b'Iris-setosa', b'Iris-setosa'],\n",
              "      dtype=object)"
            ]
          },
          "metadata": {
            "tags": []
          },
          "execution_count": 1
        }
      ]
    },
    {
      "cell_type": "markdown",
      "metadata": {
        "colab_type": "text",
        "id": "klK4PPt1mYHZ"
      },
      "source": [
        "##26.5. How to extract a particular column from 1D array of tuples?"
      ]
    },
    {
      "cell_type": "markdown",
      "metadata": {
        "colab_type": "text",
        "id": "id00XRHTmYHj"
      },
      "source": [
        "**Level 2**\n",
        "\n",
        "**Problem:**\n",
        "Extract the text column \"species\" from the iris dataset.\n",
        "Note that species are the fifth column, i.e. has index 4 (indexing starts from 0).\n",
        "Print first 8 species.\n",
        "\n",
        "**Possible Input:**\n",
        "```\n",
        "url = 'https://archive.ics.uci.edu/ml/machine-learning-databases/iris/iris.data'\n",
        "iris_1d = np.genfromtxt(url, delimiter=',', dtype=None, encoding='ascii')\n",
        "species_column_num = 4\n",
        "```\n",
        "\n",
        "**Expected Output**\n",
        "```\n",
        "array(['Iris-setosa', 'Iris-setosa', 'Iris-setosa', 'Iris-setosa',\n",
        "       'Iris-setosa', 'Iris-setosa', 'Iris-setosa', 'Iris-setosa'],\n",
        "      dtype='<U15')\n",
        "```"
      ]
    },
    {
      "cell_type": "code",
      "metadata": {
        "colab_type": "code",
        "id": "AQxmFfM3mYHl",
        "colab": {}
      },
      "source": [
        "import numpy as np\n",
        "\n",
        "# Input:\n",
        "url = 'https://archive.ics.uci.edu/ml/machine-learning-databases/iris/iris.data'\n",
        "iris = np.genfromtxt(url, delimiter=',', dtype='object')\n",
        "species_column_idx = 4\n",
        "\n",
        "# Enter your code here"
      ],
      "execution_count": 0,
      "outputs": []
    },
    {
      "cell_type": "markdown",
      "metadata": {
        "colab_type": "text",
        "id": "vdXKbE5pmYHw"
      },
      "source": [
        "###Solution:"
      ]
    },
    {
      "cell_type": "code",
      "metadata": {
        "colab_type": "code",
        "id": "AoLPhuGumYHx",
        "colab": {}
      },
      "source": [
        "import numpy as np\n",
        "\n",
        "# Input:\n",
        "url = 'https://archive.ics.uci.edu/ml/machine-learning-databases/iris/iris.data'\n",
        "iris_1d = np.genfromtxt(url, delimiter=',', dtype=None, encoding='ascii')\n",
        "species_column_idx = 4\n",
        "\n",
        "# Solution:\n",
        "species = np.array([row[species_column_idx] for row in iris_1d])\n",
        "species[:8]"
      ],
      "execution_count": 0,
      "outputs": []
    },
    {
      "cell_type": "markdown",
      "metadata": {
        "id": "JNxU-bkjGuef",
        "colab_type": "text"
      },
      "source": [
        "##27. How to convert a 1d array of tuples to a 2d numpy array?"
      ]
    },
    {
      "cell_type": "markdown",
      "metadata": {
        "id": "uLQxT0rCqGyO",
        "colab_type": "text"
      },
      "source": [
        "**Level 2**\n",
        "\n",
        "**Problem:**\n",
        "Convert the 1D iris to 2D array iris_2d.\n",
        "Omit the species text field.\n",
        "Print forst 4 entries.\n",
        "\n",
        "**Possible Input:**\n",
        "```\n",
        "url = 'https://archive.ics.uci.edu/ml/machine-learning-databases/iris/iris.data'\n",
        "iris_1d = np.genfromtxt(url, delimiter=',', dtype=None, encoding='ascii')\n",
        "```\n",
        "\n",
        "**Expected Output:**\n",
        "```\n",
        "array([[5.1, 3.5, 1.4, 0.2],\n",
        "       [4.9, 3. , 1.4, 0.2],\n",
        "       [4.7, 3.2, 1.3, 0.2],\n",
        "       [4.6, 3.1, 1.5, 0.2]])\n",
        "```"
      ]
    },
    {
      "cell_type": "code",
      "metadata": {
        "id": "Y3zgExA2Guef",
        "colab_type": "code",
        "colab": {}
      },
      "source": [
        "import numpy as np\n",
        "\n",
        "# Input:\n",
        "url = 'https://archive.ics.uci.edu/ml/machine-learning-databases/iris/iris.data'\n",
        "iris_1d = np.genfromtxt(url, delimiter=',', dtype=None, encoding='ascii')\n",
        "\n",
        "# Enter your code here"
      ],
      "execution_count": 0,
      "outputs": []
    },
    {
      "cell_type": "markdown",
      "metadata": {
        "id": "uT85qCMLGueg",
        "colab_type": "text"
      },
      "source": [
        "###Solution A:"
      ]
    },
    {
      "cell_type": "code",
      "metadata": {
        "id": "O-F94jJXGueg",
        "colab_type": "code",
        "colab": {}
      },
      "source": [
        "import numpy as np\n",
        "\n",
        "# Input:\n",
        "url = 'https://archive.ics.uci.edu/ml/machine-learning-databases/iris/iris.data'\n",
        "iris_1d = np.genfromtxt(url, delimiter=',', dtype=None, encoding='ascii')\n",
        "\n",
        "# Solution:\n",
        "iris_2d = np.array([row.tolist()[:4] for row in iris_1d])\n",
        "iris_2d[:4]"
      ],
      "execution_count": 0,
      "outputs": []
    },
    {
      "cell_type": "markdown",
      "metadata": {
        "id": "TR86zrFIqBau",
        "colab_type": "text"
      },
      "source": [
        "###Solution B:"
      ]
    },
    {
      "cell_type": "code",
      "metadata": {
        "id": "uywMaMn2Gueh",
        "colab_type": "code",
        "colab": {}
      },
      "source": [
        "import numpy as np\n",
        "\n",
        "# Input:\n",
        "url = 'https://archive.ics.uci.edu/ml/machine-learning-databases/iris/iris.data'\n",
        "#iris_1d = np.genfromtxt(url, delimiter=',', dtype=None, encoding='ascii')\n",
        "# ignore this input\n",
        "\n",
        "# Solution:\n",
        "iris_2d = np.genfromtxt(url, delimiter=',', dtype='float', usecols=[0,1,2,3], encoding='ascii')\n",
        "iris_2d[:4]"
      ],
      "execution_count": 0,
      "outputs": []
    },
    {
      "cell_type": "markdown",
      "metadata": {
        "id": "j6ADk17mGuei",
        "colab_type": "text"
      },
      "source": [
        "##28. How to compute the mean, median, standard deviation of a numpy array?\n",
        "\n",
        "**Level 1**\n",
        "\n",
        "**Problem:**\n",
        "Find the mean, median, standard deviation of iris's sepallength (1st column)\n",
        "url = 'https://archive.ics.uci.edu/ml/machine-learning-databases/iris/iris.data'\n",
        "iris = np.genfromtxt(url, delimiter=',', dtype='object')"
      ]
    },
    {
      "cell_type": "code",
      "metadata": {
        "id": "VGr4TM6eGuej",
        "colab_type": "code",
        "colab": {}
      },
      "source": [
        "# Enter your code here"
      ],
      "execution_count": 0,
      "outputs": []
    },
    {
      "cell_type": "markdown",
      "metadata": {
        "id": "JeXghPBeGuek",
        "colab_type": "text"
      },
      "source": [
        "###Solution:"
      ]
    },
    {
      "cell_type": "code",
      "metadata": {
        "id": "IU4NgOPAGuek",
        "colab_type": "code",
        "colab": {}
      },
      "source": [
        "# Input\n",
        "url = 'https://archive.ics.uci.edu/ml/machine-learning-databases/iris/iris.data'\n",
        "iris = np.genfromtxt(url, delimiter=',', dtype='object')\n",
        "sepallength = np.genfromtxt(url, delimiter=',', dtype='float', usecols=[0])\n",
        "\n",
        "# Solution\n",
        "mu, med, sd = np.mean(sepallength), np.median(sepallength), np.std(sepallength)\n",
        "print(mu, med, sd)"
      ],
      "execution_count": 0,
      "outputs": []
    },
    {
      "cell_type": "markdown",
      "metadata": {
        "id": "Szc94t4DGuem",
        "colab_type": "text"
      },
      "source": [
        "##29. How to normalize an array so the values range exactly between 0 and 1?\n",
        "\n",
        "**Level 2**\n",
        "\n",
        "**Problem:**\n",
        "Create a normalized form of iris's sepallength whose values range exactly between 0 and 1 so that the minimum has value 0 and maximum has value 1.\n",
        "\n",
        "**Possible Input:**\n",
        "url = 'https://archive.ics.uci.edu/ml/machine-learning-databases/iris/iris.data'\n",
        "sepallength = np.genfromtxt(url, delimiter=',', dtype='float', usecols=[0])"
      ]
    },
    {
      "cell_type": "code",
      "metadata": {
        "id": "37Qj4ITWGuem",
        "colab_type": "code",
        "colab": {}
      },
      "source": [
        "# Enter your code here"
      ],
      "execution_count": 0,
      "outputs": []
    },
    {
      "cell_type": "markdown",
      "metadata": {
        "id": "dRG34JkWGuen",
        "colab_type": "text"
      },
      "source": [
        "###Solution:"
      ]
    },
    {
      "cell_type": "code",
      "metadata": {
        "id": "bVe77UIqGuen",
        "colab_type": "code",
        "colab": {}
      },
      "source": [
        "# Input\n",
        "url = 'https://archive.ics.uci.edu/ml/machine-learning-databases/iris/iris.data'\n",
        "sepallength = np.genfromtxt(url, delimiter=',', dtype='float', usecols=[0])\n",
        "\n",
        "# Solution\n",
        "Smax, Smin = sepallength.max(), sepallength.min()\n",
        "S = (sepallength - Smin)/(Smax - Smin)\n",
        "print(S)"
      ],
      "execution_count": 0,
      "outputs": []
    },
    {
      "cell_type": "code",
      "metadata": {
        "id": "iBtfV1IXGueo",
        "colab_type": "code",
        "colab": {}
      },
      "source": [
        "# Input\n",
        "url = 'https://archive.ics.uci.edu/ml/machine-learning-databases/iris/iris.data'\n",
        "sepallength = np.genfromtxt(url, delimiter=',', dtype='float', usecols=[0])\n",
        "\n",
        "# Solution\n",
        "S = (sepallength - Smin)/sepallength.ptp() # Thanks, David Ojeda!\n",
        "print(S)"
      ],
      "execution_count": 0,
      "outputs": []
    },
    {
      "cell_type": "markdown",
      "metadata": {
        "id": "qorRGZnWGuep",
        "colab_type": "text"
      },
      "source": [
        "##30. How to compute the softmax score?\n",
        "\n",
        "**Level 3**\n",
        "\n",
        "**Problem:**\n",
        "Compute the softmax score of sepallength.\n",
        "url = 'https://archive.ics.uci.edu/ml/machine-learning-databases/iris/iris.data'\n",
        "sepallength = np.genfromtxt(url, delimiter=',', dtype='float', usecols=[0])"
      ]
    },
    {
      "cell_type": "code",
      "metadata": {
        "id": "AWLJLBB2Guep",
        "colab_type": "code",
        "colab": {}
      },
      "source": [
        "# Enter your code here"
      ],
      "execution_count": 0,
      "outputs": []
    },
    {
      "cell_type": "markdown",
      "metadata": {
        "id": "CtIRTQokGueq",
        "colab_type": "text"
      },
      "source": [
        "###Solution:"
      ]
    },
    {
      "cell_type": "code",
      "metadata": {
        "id": "gM8IzZgUGuer",
        "colab_type": "code",
        "colab": {}
      },
      "source": [
        "# Input\n",
        "url = 'https://archive.ics.uci.edu/ml/machine-learning-databases/iris/iris.data'\n",
        "iris = np.genfromtxt(url, delimiter=',', dtype='object')\n",
        "sepallength = np.array([float(row[0]) for row in iris])\n",
        "\n",
        "# Solution\n",
        "def softmax(x):\n",
        "    \"\"\"Compute softmax values for each sets of scores in x.\n",
        "       https://stackoverflow.com/questions/34968722/how-to-implement-the-softmax-function-in-python\"\"\"\n",
        "\n",
        "    e_x = np.exp(x - np.max(x))\n",
        "    return e_x / e_x.sum(axis=0)\n",
        "\n",
        "print(softmax(sepallength))"
      ],
      "execution_count": 0,
      "outputs": []
    },
    {
      "cell_type": "markdown",
      "metadata": {
        "id": "O70AdXlmGuer",
        "colab_type": "text"
      },
      "source": [
        "##31. How to find the percentile scores of a numpy array?\n",
        "\n",
        "**Level 1**\n",
        "\n",
        "**Problem:**\n",
        "Find the 5th and 95th percentile of iris's sepallength\n",
        "url = 'https://archive.ics.uci.edu/ml/machine-learning-databases/iris/iris.data'\n",
        "sepallength = np.genfromtxt(url, delimiter=',', dtype='float', usecols=[0])"
      ]
    },
    {
      "cell_type": "code",
      "metadata": {
        "id": "W2mdKguyGuer",
        "colab_type": "code",
        "colab": {}
      },
      "source": [
        "# Enter your code here"
      ],
      "execution_count": 0,
      "outputs": []
    },
    {
      "cell_type": "markdown",
      "metadata": {
        "id": "-pf_gEq8Gues",
        "colab_type": "text"
      },
      "source": [
        "###Solution:"
      ]
    },
    {
      "cell_type": "code",
      "metadata": {
        "id": "wCp_fOBDGuet",
        "colab_type": "code",
        "colab": {}
      },
      "source": [
        "# Input\n",
        "url = 'https://archive.ics.uci.edu/ml/machine-learning-databases/iris/iris.data'\n",
        "sepallength = np.genfromtxt(url, delimiter=',', dtype='float', usecols=[0])\n",
        "\n",
        "# Solution\n",
        "np.percentile(sepallength, q=[5, 95])"
      ],
      "execution_count": 0,
      "outputs": []
    },
    {
      "cell_type": "markdown",
      "metadata": {
        "id": "Oi5PU2MVGuev",
        "colab_type": "text"
      },
      "source": [
        "##32. How to insert values at random positions in an array?\n",
        "\n",
        "**Level 2**\n",
        "\n",
        "**Problem:**\n",
        "Insert np.nan values at 20 random positions in iris_2d dataset\n",
        "# Input\n",
        "url = 'https://archive.ics.uci.edu/ml/machine-learning-databases/iris/iris.data'\n",
        "iris_2d = np.genfromtxt(url, delimiter=',', dtype='object')"
      ]
    },
    {
      "cell_type": "code",
      "metadata": {
        "id": "bhpQDDgLGuev",
        "colab_type": "code",
        "colab": {}
      },
      "source": [
        "# Enter your code here"
      ],
      "execution_count": 0,
      "outputs": []
    },
    {
      "cell_type": "markdown",
      "metadata": {
        "id": "cPrm4N_bGuex",
        "colab_type": "text"
      },
      "source": [
        "###Solution:"
      ]
    },
    {
      "cell_type": "code",
      "metadata": {
        "id": "Gy9L_epJGuex",
        "colab_type": "code",
        "colab": {}
      },
      "source": [
        "# Input\n",
        "url = 'https://archive.ics.uci.edu/ml/machine-learning-databases/iris/iris.data'\n",
        "iris_2d = np.genfromtxt(url, delimiter=',', dtype='object')\n",
        "\n",
        "# Method 1\n",
        "i, j = np.where(iris_2d)\n",
        "# i, j contain the row numbers and column numbers of 600 elements of iris_x\n",
        "np.random.seed(100)\n",
        "iris_2d[np.random.choice((i), 20), np.random.choice((j), 20)] = np.nan\n",
        "\n",
        "# Print first 10 rows\n",
        "print(iris_2d[:10])"
      ],
      "execution_count": 0,
      "outputs": []
    },
    {
      "cell_type": "code",
      "metadata": {
        "id": "1tRne2Y5Guey",
        "colab_type": "code",
        "colab": {}
      },
      "source": [
        "# Input\n",
        "url = 'https://archive.ics.uci.edu/ml/machine-learning-databases/iris/iris.data'\n",
        "iris_2d = np.genfromtxt(url, delimiter=',', dtype='object')\n",
        "\n",
        "# Method 2\n",
        "np.random.seed(100)\n",
        "iris_2d[np.random.randint(150, size=20), np.random.randint(4, size=20)] = np.nan\n",
        "\n",
        "# Print first 10 rows\n",
        "print(iris_2d[:10])"
      ],
      "execution_count": 0,
      "outputs": []
    },
    {
      "cell_type": "markdown",
      "metadata": {
        "id": "eC5IgRbjGuez",
        "colab_type": "text"
      },
      "source": [
        "##33. How to find the position of missing values in numpy array?\n",
        "\n",
        "**Level 2**\n",
        "\n",
        "**Problem:**\n",
        "Find the number and position of missing values in iris_2d's sepallength (1st column)\n",
        "url = 'https://archive.ics.uci.edu/ml/machine-learning-databases/iris/iris.data'\n",
        "iris_2d = np.genfromtxt(url, delimiter=',', dtype='float')\n",
        "iris_2d[np.random.randint(150, size=20), np.random.randint(4, size=20)] = np.nan"
      ]
    },
    {
      "cell_type": "code",
      "metadata": {
        "id": "8mRuVJSBGuez",
        "colab_type": "code",
        "colab": {}
      },
      "source": [
        "# Enter your code here"
      ],
      "execution_count": 0,
      "outputs": []
    },
    {
      "cell_type": "markdown",
      "metadata": {
        "id": "F7qYDUQHGue0",
        "colab_type": "text"
      },
      "source": [
        "###Solution:"
      ]
    },
    {
      "cell_type": "code",
      "metadata": {
        "id": "D68Y26oiGue0",
        "colab_type": "code",
        "colab": {}
      },
      "source": [
        "# Input\n",
        "url = 'https://archive.ics.uci.edu/ml/machine-learning-databases/iris/iris.data'\n",
        "iris_2d = np.genfromtxt(url, delimiter=',', dtype='float', usecols=[0,1,2,3])\n",
        "iris_2d[np.random.randint(150, size=20), np.random.randint(4, size=20)] = np.nan\n",
        "\n",
        "# Solution\n",
        "print(\"Number of missing values: \\n\", np.isnan(iris_2d[:, 0]).sum())\n",
        "print(\"Position of missing values: \\n\", np.where(np.isnan(iris_2d[:, 0])))"
      ],
      "execution_count": 0,
      "outputs": []
    },
    {
      "cell_type": "markdown",
      "metadata": {
        "id": "9kQOi4OuGue1",
        "colab_type": "text"
      },
      "source": [
        "##34. How to filter a numpy array based on two or more conditions?\n",
        "\n",
        "**Level 3**\n",
        "\n",
        "**Problem:**\n",
        "\n",
        "Filter the rows of iris_2d that has petallength (3rd column) > 1.5 and \n",
        "sepallength (1st column) < 5.0\n",
        "url = 'https://archive.ics.uci.edu/ml/machine-learning-databases/iris/iris.data'\n",
        "iris_2d = np.genfromtxt(url, delimiter=',', dtype='float', usecols=[0,1,2,3])"
      ]
    },
    {
      "cell_type": "code",
      "metadata": {
        "id": "a0Oq4vVWGue3",
        "colab_type": "code",
        "colab": {}
      },
      "source": [
        "# Enter your code here"
      ],
      "execution_count": 0,
      "outputs": []
    },
    {
      "cell_type": "markdown",
      "metadata": {
        "id": "VTh6oQ1mGue4",
        "colab_type": "text"
      },
      "source": [
        "###Solution:"
      ]
    },
    {
      "cell_type": "code",
      "metadata": {
        "id": "3X4wTgEBGue4",
        "colab_type": "code",
        "colab": {}
      },
      "source": [
        "# Input\n",
        "url = 'https://archive.ics.uci.edu/ml/machine-learning-databases/iris/iris.data'\n",
        "iris_2d = np.genfromtxt(url, delimiter=',', dtype='float', usecols=[0,1,2,3])\n",
        "\n",
        "# Solution\n",
        "condition = (iris_2d[:, 2] &gt; 1.5) &amp; (iris_2d[:, 0] &lt; 5.0)\n",
        "iris_2d[condition]"
      ],
      "execution_count": 0,
      "outputs": []
    },
    {
      "cell_type": "markdown",
      "metadata": {
        "id": "kqPnkUvtGue4",
        "colab_type": "text"
      },
      "source": [
        "##35. How to drop rows that contain a missing value from a numpy array?\n",
        "Difficulty Level: L3:@Q. Select the rows of iris_2d that does not have any nan value.\n",
        "url = 'https://archive.ics.uci.edu/ml/machine-learning-databases/iris/iris.data'\n",
        "iris_2d = np.genfromtxt(url, delimiter=',', dtype='float', usecols=[0,1,2,3])"
      ]
    },
    {
      "cell_type": "code",
      "metadata": {
        "id": "Tasceh8cGue5",
        "colab_type": "code",
        "colab": {}
      },
      "source": [
        "# Enter your code here"
      ],
      "execution_count": 0,
      "outputs": []
    },
    {
      "cell_type": "markdown",
      "metadata": {
        "id": "n0X8MQp8Gue5",
        "colab_type": "text"
      },
      "source": [
        "###Solution:"
      ]
    },
    {
      "cell_type": "code",
      "metadata": {
        "id": "O5CqDtWsGue6",
        "colab_type": "code",
        "colab": {}
      },
      "source": [
        "# Input\n",
        "url = 'https://archive.ics.uci.edu/ml/machine-learning-databases/iris/iris.data'\n",
        "iris_2d = np.genfromtxt(url, delimiter=',', dtype='float', usecols=[0,1,2,3])\n",
        "iris_2d[np.random.randint(150, size=20), np.random.randint(4, size=20)] = np.nan\n",
        "\n",
        "# Solution\n",
        "# No direct numpy function for this.\n",
        "\n",
        "# Method 1:\n",
        "any_nan_in_row = np.array([~np.any(np.isnan(row)) for row in iris_2d])\n",
        "iris_2d[any_nan_in_row][:5]"
      ],
      "execution_count": 0,
      "outputs": []
    },
    {
      "cell_type": "code",
      "metadata": {
        "id": "3xc9E98hGue6",
        "colab_type": "code",
        "colab": {}
      },
      "source": [
        "# Input\n",
        "url = 'https://archive.ics.uci.edu/ml/machine-learning-databases/iris/iris.data'\n",
        "iris_2d = np.genfromtxt(url, delimiter=',', dtype='float', usecols=[0,1,2,3])\n",
        "iris_2d[np.random.randint(150, size=20), np.random.randint(4, size=20)] = np.nan\n",
        "\n",
        "# Solution\n",
        "# No direct numpy function for this.\n",
        "\n",
        "# Method 2: (By Rong)\n",
        "iris_2d[np.sum(np.isnan(iris_2d), axis = 1) == 0][:5]"
      ],
      "execution_count": 0,
      "outputs": []
    },
    {
      "cell_type": "markdown",
      "metadata": {
        "id": "Q-Ordx57Gue7",
        "colab_type": "text"
      },
      "source": [
        "##36. How to find the correlation between two columns of a numpy array?\n",
        "\n",
        "**Level 2**\n",
        "\n",
        "**Problem:**\n",
        "Find the correlation between SepalLength(1st column) and PetalLength(3rd column) in iris_2d\n",
        "url = 'https://archive.ics.uci.edu/ml/machine-learning-databases/iris/iris.data'\n",
        "iris_2d = np.genfromtxt(url, delimiter=',', dtype='float', usecols=[0,1,2,3])"
      ]
    },
    {
      "cell_type": "code",
      "metadata": {
        "id": "7hbZ0a8WGue7",
        "colab_type": "code",
        "colab": {}
      },
      "source": [
        "# Enter your code here"
      ],
      "execution_count": 0,
      "outputs": []
    },
    {
      "cell_type": "markdown",
      "metadata": {
        "id": "RQDJtK7wGue8",
        "colab_type": "text"
      },
      "source": [
        "###Solution:"
      ]
    },
    {
      "cell_type": "code",
      "metadata": {
        "id": "M5c5Mu5qGue8",
        "colab_type": "code",
        "colab": {}
      },
      "source": [
        "# Input\n",
        "url = 'https://archive.ics.uci.edu/ml/machine-learning-databases/iris/iris.data'\n",
        "iris = np.genfromtxt(url, delimiter=',', dtype='float', usecols=[0,1,2,3])\n",
        "\n",
        "\n",
        "# Solution 1\n",
        "np.corrcoef(iris[:, 0], iris[:, 2])[0, 1]\n",
        "\n",
        "# Correlation coef indicates the degree of linear relationship between two numeric variables.\n",
        "# It can range between -1 to +1.\n",
        "\n",
        "# The p-value roughly indicates the probability of an uncorrelated system producing \n",
        "# datasets that have a correlation at least as extreme as the one computed.\n",
        "\n",
        "# The lower the p-value (<0.01), stronger is the significance of the relationship.\n",
        "# It is not an indicator of the strength."
      ],
      "execution_count": 0,
      "outputs": []
    },
    {
      "cell_type": "code",
      "metadata": {
        "id": "d111PPXnGue9",
        "colab_type": "code",
        "colab": {}
      },
      "source": [
        "# Input\n",
        "url = 'https://archive.ics.uci.edu/ml/machine-learning-databases/iris/iris.data'\n",
        "iris = np.genfromtxt(url, delimiter=',', dtype='float', usecols=[0,1,2,3])\n",
        "\n",
        "\n",
        "# Solution 2\n",
        "from scipy.stats.stats import pearsonr \n",
        "corr, p_value = pearsonr(iris[:, 0], iris[:, 2])\n",
        "print(corr)\n",
        "\n",
        "\n",
        "# Correlation coef indicates the degree of linear relationship between two numeric variables.\n",
        "# It can range between -1 to +1.\n",
        "\n",
        "# The p-value roughly indicates the probability of an uncorrelated system producing \n",
        "# datasets that have a correlation at least as extreme as the one computed.\n",
        "\n",
        "# The lower the p-value (<0.01), stronger is the significance of the relationship.\n",
        "# It is not an indicator of the strength."
      ],
      "execution_count": 0,
      "outputs": []
    },
    {
      "cell_type": "markdown",
      "metadata": {
        "id": "I6sUdgC7Gue-",
        "colab_type": "text"
      },
      "source": [
        "##37. How to find if a given array has any null values?\n",
        "\n",
        "**Level 2**\n",
        "\n",
        "**Problem:**\n",
        "\n",
        "Find out if iris_2d has any missing values.\n",
        "url = 'https://archive.ics.uci.edu/ml/machine-learning-databases/iris/iris.data'\n",
        "iris_2d = np.genfromtxt(url, delimiter=',', dtype='float', usecols=[0,1,2,3])"
      ]
    },
    {
      "cell_type": "code",
      "metadata": {
        "id": "lfYV2ug9Gue-",
        "colab_type": "code",
        "colab": {}
      },
      "source": [
        "# Enter your code here"
      ],
      "execution_count": 0,
      "outputs": []
    },
    {
      "cell_type": "markdown",
      "metadata": {
        "id": "X7pPZUFRGue_",
        "colab_type": "text"
      },
      "source": [
        "###Solution:"
      ]
    },
    {
      "cell_type": "code",
      "metadata": {
        "id": "P1DJzcmzGue_",
        "colab_type": "code",
        "colab": {}
      },
      "source": [
        "# Input\n",
        "url = 'https://archive.ics.uci.edu/ml/machine-learning-databases/iris/iris.data'\n",
        "iris_2d = np.genfromtxt(url, delimiter=',', dtype='float', usecols=[0,1,2,3])\n",
        "\n",
        "\n",
        "\n",
        "np.isnan(iris_2d).any()"
      ],
      "execution_count": 0,
      "outputs": []
    },
    {
      "cell_type": "markdown",
      "metadata": {
        "id": "URCKwjHJGufA",
        "colab_type": "text"
      },
      "source": [
        "##38. How to replace all missing values with 0 in a numpy array?\n",
        "\n",
        "**Level 2**\n",
        "\n",
        "**Problem:**\n",
        "\n",
        "Replace all occurrences of nan with 0 in numpy array\n",
        "# Input\n",
        "url = 'https://archive.ics.uci.edu/ml/machine-learning-databases/iris/iris.data'\n",
        "iris_2d = np.genfromtxt(url, delimiter=',', dtype='float', usecols=[0,1,2,3])\n",
        "iris_2d[np.random.randint(150, size=20), np.random.randint(4, size=20)] = np.nan"
      ]
    },
    {
      "cell_type": "code",
      "metadata": {
        "id": "Qjz4GP3HGufA",
        "colab_type": "code",
        "colab": {}
      },
      "source": [
        "# Enter your code here"
      ],
      "execution_count": 0,
      "outputs": []
    },
    {
      "cell_type": "markdown",
      "metadata": {
        "id": "lpqu64qlGufC",
        "colab_type": "text"
      },
      "source": [
        "###Solution:"
      ]
    },
    {
      "cell_type": "code",
      "metadata": {
        "id": "dlnUdZHqGufC",
        "colab_type": "code",
        "colab": {}
      },
      "source": [
        "# Input\n",
        "url = 'https://archive.ics.uci.edu/ml/machine-learning-databases/iris/iris.data'\n",
        "iris_2d = np.genfromtxt(url, delimiter=',', dtype='float', usecols=[0,1,2,3])\n",
        "iris_2d[np.random.randint(150, size=20), np.random.randint(4, size=20)] = np.nan\n",
        "\n",
        "# Solution\n",
        "iris_2d[np.isnan(iris_2d)] = 0\n",
        "iris_2d[:4]"
      ],
      "execution_count": 0,
      "outputs": []
    },
    {
      "cell_type": "markdown",
      "metadata": {
        "id": "_wupXncbGufD",
        "colab_type": "text"
      },
      "source": [
        "##39. How to find the count of unique values in a numpy array?\n",
        "\n",
        "**Level 2**\n",
        "\n",
        "**Problem:**\n",
        "Find the unique values and the count of unique values in iris's species\n",
        "url = 'https://archive.ics.uci.edu/ml/machine-learning-databases/iris/iris.data'\n",
        "iris = np.genfromtxt(url, delimiter=',', dtype='object')\n",
        "names = ('sepallength', 'sepalwidth', 'petallength', 'petalwidth', 'species')"
      ]
    },
    {
      "cell_type": "code",
      "metadata": {
        "id": "igjAzBPHGufD",
        "colab_type": "code",
        "colab": {}
      },
      "source": [
        "# Enter your code here"
      ],
      "execution_count": 0,
      "outputs": []
    },
    {
      "cell_type": "markdown",
      "metadata": {
        "id": "afISWKqVGufE",
        "colab_type": "text"
      },
      "source": [
        "###Solution:"
      ]
    },
    {
      "cell_type": "code",
      "metadata": {
        "id": "-qYA51XPGufE",
        "colab_type": "code",
        "colab": {}
      },
      "source": [
        "# Import iris keeping the text column intact\n",
        "url = 'https://archive.ics.uci.edu/ml/machine-learning-databases/iris/iris.data'\n",
        "iris = np.genfromtxt(url, delimiter=',', dtype='object')\n",
        "names = ('sepallength', 'sepalwidth', 'petallength', 'petalwidth', 'species')\n",
        "\n",
        "# Solution\n",
        "# Extract the species column as an array\n",
        "species = np.array([row.tolist()[4] for row in iris])\n",
        "\n",
        "\n",
        "# Get the unique values and the counts\n",
        "np.unique(species, return_counts=True)"
      ],
      "execution_count": 0,
      "outputs": []
    },
    {
      "cell_type": "markdown",
      "metadata": {
        "id": "88dnQgYdGufF",
        "colab_type": "text"
      },
      "source": [
        "##40. How to convert a numeric to a categorical (text) array?\n",
        "\n",
        "**Level 2**\n",
        "\n",
        "**Problem:**\n",
        "Bin the petal length (3rd) column of iris_2d to form a text array, such that if petal length is:\n",
        "Less than 3 – 'small', 3-5 – 'medium', >= 5 -- 'large'\n",
        "url = 'https://archive.ics.uci.edu/ml/machine-learning-databases/iris/iris.data'\n",
        "iris = np.genfromtxt(url, delimiter=',', dtype='object')\n",
        "names = ('sepallength', 'sepalwidth', 'petallength', 'petalwidth', 'species')"
      ]
    },
    {
      "cell_type": "code",
      "metadata": {
        "id": "Ca-kyOsBGufF",
        "colab_type": "code",
        "colab": {}
      },
      "source": [
        "# Enter your code here"
      ],
      "execution_count": 0,
      "outputs": []
    },
    {
      "cell_type": "markdown",
      "metadata": {
        "id": "3CUmTAdnGufG",
        "colab_type": "text"
      },
      "source": [
        "###Solution:"
      ]
    },
    {
      "cell_type": "code",
      "metadata": {
        "id": "ms52-oBVGufG",
        "colab_type": "code",
        "colab": {}
      },
      "source": [
        "# Input\n",
        "url = 'https://archive.ics.uci.edu/ml/machine-learning-databases/iris/iris.data'\n",
        "iris = np.genfromtxt(url, delimiter=',', dtype='object')\n",
        "names = ('sepallength', 'sepalwidth', 'petallength', 'petalwidth', 'species')\n",
        "\n",
        "# Bin petallength \n",
        "petal_length_bin = np.digitize(iris[:, 2].astype('float'), [0, 3, 5, 10])\n",
        "\n",
        "# Map it to respective category\n",
        "label_map = {1: 'small', 2: 'medium', 3: 'large', 4: np.nan}\n",
        "petal_length_cat = [label_map[x] for x in petal_length_bin]\n",
        "\n",
        "# View\n",
        "petal_length_cat[:4]"
      ],
      "execution_count": 0,
      "outputs": []
    },
    {
      "cell_type": "markdown",
      "metadata": {
        "id": "LvGnTYBzGufH",
        "colab_type": "text"
      },
      "source": [
        "##41. How to create a new column from existing columns of a numpy array?\n",
        "\n",
        "**Level 2**\n",
        "\n",
        "**Problem:**\n",
        "Create a new column for volume in iris_2d, where volume is (pi x petallength x sepal_length^2)/3\n",
        "url = 'https://archive.ics.uci.edu/ml/machine-learning-databases/iris/iris.data'\n",
        "iris_2d = np.genfromtxt(url, delimiter=',', dtype='object')\n",
        "names = ('sepallength', 'sepalwidth', 'petallength', 'petalwidth', 'species')"
      ]
    },
    {
      "cell_type": "code",
      "metadata": {
        "id": "H8AfTxo3GufI",
        "colab_type": "code",
        "colab": {}
      },
      "source": [
        "# Enter your code here"
      ],
      "execution_count": 0,
      "outputs": []
    },
    {
      "cell_type": "markdown",
      "metadata": {
        "id": "SHEGkwgTGufI",
        "colab_type": "text"
      },
      "source": [
        "###Solution:"
      ]
    },
    {
      "cell_type": "code",
      "metadata": {
        "id": "4hSCP6vPGufI",
        "colab_type": "code",
        "colab": {}
      },
      "source": [
        "# Input\n",
        "url = 'https://archive.ics.uci.edu/ml/machine-learning-databases/iris/iris.data'\n",
        "iris_2d = np.genfromtxt(url, delimiter=',', dtype='object')\n",
        "\n",
        "# Solution\n",
        "\n",
        "# Compute volume\n",
        "sepallength = iris_2d[:, 0].astype('float')\n",
        "petallength = iris_2d[:, 2].astype('float')\n",
        "volume = (np.pi * petallength * (sepallength**2))/3\n",
        "\n",
        "# Introduce new dimension to match iris_2d's\n",
        "volume = volume[:, np.newaxis]\n",
        "\n",
        "# Add the new column\n",
        "out = np.hstack([iris_2d, volume])\n",
        "\n",
        "# View\n",
        "out[:4]"
      ],
      "execution_count": 0,
      "outputs": []
    },
    {
      "cell_type": "markdown",
      "metadata": {
        "id": "dNQ9GskaGufJ",
        "colab_type": "text"
      },
      "source": [
        "## 42. How to do probabilistic sampling in numpy?\n",
        "\n",
        "**Level 3**\n",
        "\n",
        "**Problem:**\n",
        "\n",
        "Randomly sample iris’s species such that setose is twice the number of versicolor and virginica\n",
        "url = 'https://archive.ics.uci.edu/ml/machine-learning-databases/iris/iris.data'\n",
        "iris = np.genfromtxt(url, delimiter=',', dtype='object')"
      ]
    },
    {
      "cell_type": "code",
      "metadata": {
        "id": "Qh1xSOqJGufJ",
        "colab_type": "code",
        "colab": {}
      },
      "source": [
        "# Enter your code here"
      ],
      "execution_count": 0,
      "outputs": []
    },
    {
      "cell_type": "markdown",
      "metadata": {
        "id": "QtxVKNGtGufK",
        "colab_type": "text"
      },
      "source": [
        "###Solution:"
      ]
    },
    {
      "cell_type": "code",
      "metadata": {
        "id": "IqynbvWWGufK",
        "colab_type": "code",
        "colab": {}
      },
      "source": [
        "# Import iris keeping the text column intact\n",
        "url = 'https://archive.ics.uci.edu/ml/machine-learning-databases/iris/iris.data'\n",
        "iris = np.genfromtxt(url, delimiter=',', dtype='object')\n",
        "\n",
        "# Solution\n",
        "\n",
        "# Get the species column\n",
        "species = iris[:, 4]\n",
        "\n",
        "# Approach 1: Generate Probablistically\n",
        "np.random.seed(100)\n",
        "a = np.array(['Iris-setosa', 'Iris-versicolor', 'Iris-virginica'])\n",
        "species_out = np.random.choice(a, 150, p=[0.5, 0.25, 0.25])"
      ],
      "execution_count": 0,
      "outputs": []
    },
    {
      "cell_type": "code",
      "metadata": {
        "id": "kCjXNiZZGufK",
        "colab_type": "code",
        "colab": {}
      },
      "source": [
        "# Import iris keeping the text column intact\n",
        "url = 'https://archive.ics.uci.edu/ml/machine-learning-databases/iris/iris.data'\n",
        "iris = np.genfromtxt(url, delimiter=',', dtype='object')\n",
        "\n",
        "# Solution\n",
        "\n",
        "# Get the species column\n",
        "species = iris[:, 4]\n",
        "\n",
        "# Approach 2: Probablistic Sampling (preferred)\n",
        "np.random.seed(100)\n",
        "probs = np.r_[np.linspace(0, 0.500, num=50), np.linspace(0.501, .750, num=50), np.linspace(.751, 1.0, num=50)]\n",
        "index = np.searchsorted(probs, np.random.random(150))\n",
        "species_out = species[index]\n",
        "print(np.unique(species_out, return_counts=True))"
      ],
      "execution_count": 0,
      "outputs": []
    },
    {
      "cell_type": "markdown",
      "metadata": {
        "id": "xjTLPbcQGufL",
        "colab_type": "text"
      },
      "source": [
        "##43. How to get the second largest value of an array when grouped by another array?\n",
        "\n",
        "**Level 2**\n",
        "\n",
        "**Problem:**\n",
        "What is the value of second longest petallength of species setosa\n",
        "url = 'https://archive.ics.uci.edu/ml/machine-learning-databases/iris/iris.data'\n",
        "iris = np.genfromtxt(url, delimiter=',', dtype='object')\n",
        "names = ('sepallength', 'sepalwidth', 'petallength', 'petalwidth', 'species')"
      ]
    },
    {
      "cell_type": "code",
      "metadata": {
        "id": "NxDKPwTFGufL",
        "colab_type": "code",
        "colab": {}
      },
      "source": [
        "# Enter your code here"
      ],
      "execution_count": 0,
      "outputs": []
    },
    {
      "cell_type": "markdown",
      "metadata": {
        "id": "Ir7Dcx8EGufM",
        "colab_type": "text"
      },
      "source": [
        "###Solution:"
      ]
    },
    {
      "cell_type": "code",
      "metadata": {
        "id": "lNAY0dD4GufM",
        "colab_type": "code",
        "colab": {}
      },
      "source": [
        "# Import iris keeping the text column intact\n",
        "url = 'https://archive.ics.uci.edu/ml/machine-learning-databases/iris/iris.data'\n",
        "iris = np.genfromtxt(url, delimiter=',', dtype='object')\n",
        "\n",
        "# Solution\n",
        "# Get the species and petal length columns\n",
        "petal_len_setosa = iris[iris[:, 4] == b'Iris-setosa', [2]].astype('float')\n",
        "\n",
        "# Get the second last value\n",
        "np.unique(np.sort(petal_len_setosa))[-2]"
      ],
      "execution_count": 0,
      "outputs": []
    },
    {
      "cell_type": "markdown",
      "metadata": {
        "id": "yHK3LSteGufO",
        "colab_type": "text"
      },
      "source": [
        "##44. How to sort a 2D array by a column\n",
        "\n",
        "**Level 2**\n",
        "\n",
        "**Problem:**\n",
        "Sort the iris dataset based on sepallength column.\n",
        "url = 'https://archive.ics.uci.edu/ml/machine-learning-databases/iris/iris.data'\n",
        "iris = np.genfromtxt(url, delimiter=',', dtype='object')\n",
        "names = ('sepallength', 'sepalwidth', 'petallength', 'petalwidth', 'species')"
      ]
    },
    {
      "cell_type": "code",
      "metadata": {
        "id": "XhxnjlvNGufO",
        "colab_type": "code",
        "colab": {}
      },
      "source": [
        "# Enter your code here"
      ],
      "execution_count": 0,
      "outputs": []
    },
    {
      "cell_type": "markdown",
      "metadata": {
        "id": "A_Vv_fzjGufP",
        "colab_type": "text"
      },
      "source": [
        "###Solution:"
      ]
    },
    {
      "cell_type": "code",
      "metadata": {
        "id": "mfJkXFUcGufP",
        "colab_type": "code",
        "colab": {}
      },
      "source": [
        "# Sort by column position 0: SepalLength\n",
        "print(iris[iris[:,0].argsort()][:20])"
      ],
      "execution_count": 0,
      "outputs": []
    },
    {
      "cell_type": "markdown",
      "metadata": {
        "id": "CZOJ8I5uGufQ",
        "colab_type": "text"
      },
      "source": [
        "##45. How to find the most frequent value in a numpy array?\n",
        "\n",
        "**Level 1**\n",
        "\n",
        "**Problem:**\n",
        "Find the most frequent value of petal length (3rd column) in iris dataset.\n",
        "\n",
        "**Possible Input:**\n",
        "url = 'https://archive.ics.uci.edu/ml/machine-learning-databases/iris/iris.data'\n",
        "iris = np.genfromtxt(url, delimiter=',', dtype='object')\n",
        "names = ('sepallength', 'sepalwidth', 'petallength', 'petalwidth', 'species')"
      ]
    },
    {
      "cell_type": "code",
      "metadata": {
        "id": "_LcR6Uy4GufQ",
        "colab_type": "code",
        "colab": {}
      },
      "source": [
        "# Enter your code here"
      ],
      "execution_count": 0,
      "outputs": []
    },
    {
      "cell_type": "markdown",
      "metadata": {
        "id": "RVvXVMPwGufQ",
        "colab_type": "text"
      },
      "source": [
        "###Solution:"
      ]
    },
    {
      "cell_type": "code",
      "metadata": {
        "id": "PQzAmgudGufQ",
        "colab_type": "code",
        "colab": {}
      },
      "source": [
        "# Input:\n",
        "url = 'https://archive.ics.uci.edu/ml/machine-learning-databases/iris/iris.data'\n",
        "iris = np.genfromtxt(url, delimiter=',', dtype='object')\n",
        "\n",
        "# Solution:\n",
        "vals, counts = np.unique(iris[:, 2], return_counts=True)\n",
        "print(vals[np.argmax(counts)])"
      ],
      "execution_count": 0,
      "outputs": []
    },
    {
      "cell_type": "markdown",
      "metadata": {
        "id": "buBi6jVmGufR",
        "colab_type": "text"
      },
      "source": [
        "##46. How to find the position of the first occurrence of a value greater than a given value?\n",
        "\n",
        "**Level 2**\n",
        "\n",
        "**Problem:**\n",
        "Find the position of the first occurrence of a value greater than 1.0 in petalwidth 4th column of iris dataset.\n",
        "url = 'https://archive.ics.uci.edu/ml/machine-learning-databases/iris/iris.data'\n",
        "iris = np.genfromtxt(url, delimiter=',', dtype='object')"
      ]
    },
    {
      "cell_type": "code",
      "metadata": {
        "id": "JMl_rpc3GufR",
        "colab_type": "code",
        "colab": {}
      },
      "source": [
        "# Enter your code here"
      ],
      "execution_count": 0,
      "outputs": []
    },
    {
      "cell_type": "markdown",
      "metadata": {
        "id": "wizPdNdQGufS",
        "colab_type": "text"
      },
      "source": [
        "###Solution:"
      ]
    },
    {
      "cell_type": "code",
      "metadata": {
        "id": "9A4Es5K3GufS",
        "colab_type": "code",
        "colab": {}
      },
      "source": [
        "# Input:\n",
        "url = 'https://archive.ics.uci.edu/ml/machine-learning-databases/iris/iris.data'\n",
        "iris = np.genfromtxt(url, delimiter=',', dtype='object')\n",
        "\n",
        "# Solution: (edit: changed argmax to argwhere. Thanks Rong!)\n",
        "np.argwhere(iris[:, 3].astype(float) &gt; 1.0)[0]"
      ],
      "execution_count": 0,
      "outputs": []
    },
    {
      "cell_type": "markdown",
      "metadata": {
        "id": "B0iE--mGGufS",
        "colab_type": "text"
      },
      "source": [
        "##47. How to replace all values greater than a given value to a given cutoff?\n",
        "\n",
        "**Level 2**\n",
        "\n",
        "**Problem:**\n",
        "From the array a, replace all values greater than 30 to 30 and less than 10 to 10.\n",
        "\n",
        "**Possible Input:**\n",
        "np.random.seed(100)\n",
        "a = np.random.uniform(1,50, 20)"
      ]
    },
    {
      "cell_type": "code",
      "metadata": {
        "id": "_ZDOsdyZGufS",
        "colab_type": "code",
        "colab": {}
      },
      "source": [
        "# Enter your code here"
      ],
      "execution_count": 0,
      "outputs": []
    },
    {
      "cell_type": "markdown",
      "metadata": {
        "id": "bYz-avquGufT",
        "colab_type": "text"
      },
      "source": [
        "###Solution:"
      ]
    },
    {
      "cell_type": "code",
      "metadata": {
        "id": "yRY7-SaeGufU",
        "colab_type": "code",
        "colab": {}
      },
      "source": [
        "# Input\n",
        "np.set_printoptions(precision=2)\n",
        "np.random.seed(100)\n",
        "a = np.random.uniform(1,50, 20)\n",
        "\n",
        "# Solution 1: Using np.clip\n",
        "np.clip(a, a_min=10, a_max=30)\n",
        "\n",
        "\n",
        "# Solution 2: Using np.where\n",
        "print(np.where(a &lt; 10, 10, np.where(a &gt; 30, 30, a)))"
      ],
      "execution_count": 0,
      "outputs": []
    },
    {
      "cell_type": "markdown",
      "metadata": {
        "id": "JUB2O-bkGufU",
        "colab_type": "text"
      },
      "source": [
        "##48. How to get the positions of top n values from a numpy array?\n",
        "\n",
        "**Level 2**\n",
        "\n",
        "**Problem:**\n",
        "Get the positions of top 5 maximum values in a given array a.\n",
        "np.random.seed(100)\n",
        "a = np.random.uniform(1,50, 20)"
      ]
    },
    {
      "cell_type": "code",
      "metadata": {
        "id": "DBAKzd5nGufV",
        "colab_type": "code",
        "colab": {}
      },
      "source": [
        "# Enter your code here"
      ],
      "execution_count": 0,
      "outputs": []
    },
    {
      "cell_type": "markdown",
      "metadata": {
        "id": "MTxXNImzGufV",
        "colab_type": "text"
      },
      "source": [
        "###Solution:"
      ]
    },
    {
      "cell_type": "code",
      "metadata": {
        "id": "k1EbZi0UGufV",
        "colab_type": "code",
        "colab": {}
      },
      "source": [
        "# Input\n",
        "np.random.seed(100)\n",
        "a = np.random.uniform(1,50, 20)\n",
        "\n",
        "# Solution:\n",
        "print(a.argsort())"
      ],
      "execution_count": 0,
      "outputs": []
    },
    {
      "cell_type": "code",
      "metadata": {
        "id": "bYNFwblxGufX",
        "colab_type": "code",
        "colab": {}
      },
      "source": [
        "# Input\n",
        "np.random.seed(100)\n",
        "a = np.random.uniform(1,50, 20)\n",
        "\n",
        "# Solution:\n",
        "# Solution 2:\n",
        "np.argpartition(-a, 5)[:5]"
      ],
      "execution_count": 0,
      "outputs": []
    },
    {
      "cell_type": "code",
      "metadata": {
        "id": "7lAybNxuGufX",
        "colab_type": "code",
        "colab": {}
      },
      "source": [
        "# Input\n",
        "np.random.seed(100)\n",
        "a = np.random.uniform(1,50, 20)\n",
        "\n",
        "# Solution:\n",
        "# Method 1:\n",
        "a[a.argsort()][-5:]"
      ],
      "execution_count": 0,
      "outputs": []
    },
    {
      "cell_type": "code",
      "metadata": {
        "id": "Jzl9KidiGufY",
        "colab_type": "code",
        "colab": {}
      },
      "source": [
        "# Input\n",
        "np.random.seed(100)\n",
        "a = np.random.uniform(1,50, 20)\n",
        "\n",
        "# Solution:\n",
        "# Method 2:\n",
        "np.sort(a)[-5:]"
      ],
      "execution_count": 0,
      "outputs": []
    },
    {
      "cell_type": "code",
      "metadata": {
        "id": "FWK96_ykGufY",
        "colab_type": "code",
        "colab": {}
      },
      "source": [
        "# Input\n",
        "np.random.seed(100)\n",
        "a = np.random.uniform(1,50, 20)\n",
        "\n",
        "# Solution:\n",
        "# Method 3:\n",
        "np.partition(a, kth=-5)[-5:]"
      ],
      "execution_count": 0,
      "outputs": []
    },
    {
      "cell_type": "code",
      "metadata": {
        "id": "gIC8snwbGufZ",
        "colab_type": "code",
        "colab": {}
      },
      "source": [
        "# Input\n",
        "np.random.seed(100)\n",
        "a = np.random.uniform(1,50, 20)\n",
        "\n",
        "# Solution:\n",
        "# Method 4:\n",
        "a[np.argpartition(-a, 5)][:5]"
      ],
      "execution_count": 0,
      "outputs": []
    },
    {
      "cell_type": "markdown",
      "metadata": {
        "id": "kMUA3EFPGufZ",
        "colab_type": "text"
      },
      "source": [
        "##49. How to compute the row wise counts of all possible values in an array?\n",
        "\n",
        "**Level 4**\n",
        "\n",
        "**Problem:**\n",
        "Compute the counts of unique values row-wise.\n",
        "\n",
        "**Possible Input:**\n",
        "np.random.seed(100)\n",
        "arr = np.random.randint(1,11,size=(6, 10))\n",
        "\n",
        "**Expected Output:**\n",
        "[[1, 0, 2, 1, 1, 1, 0, 2, 2, 0],\n",
        " [2, 1, 3, 0, 1, 0, 1, 0, 1, 1],\n",
        " [0, 3, 0, 2, 3, 1, 0, 1, 0, 0],\n",
        " [1, 0, 2, 1, 0, 1, 0, 2, 1, 2],\n",
        " [2, 2, 2, 0, 0, 1, 1, 1, 1, 0],\n",
        " [1, 1, 1, 1, 1, 2, 0, 0, 2, 1]]"
      ]
    },
    {
      "cell_type": "code",
      "metadata": {
        "id": "dpOxD1o5Gufa",
        "colab_type": "code",
        "colab": {}
      },
      "source": [
        "# Enter your code here"
      ],
      "execution_count": 0,
      "outputs": []
    },
    {
      "cell_type": "markdown",
      "metadata": {
        "id": "R6LGDuQqGufa",
        "colab_type": "text"
      },
      "source": [
        "###Solution:"
      ]
    },
    {
      "cell_type": "code",
      "metadata": {
        "id": "IvdmRusPGufa",
        "colab_type": "code",
        "colab": {}
      },
      "source": [
        "# Input:\n",
        "np.random.seed(100)\n",
        "arr = np.random.randint(1,11,size=(6, 10))\n",
        "arr"
      ],
      "execution_count": 0,
      "outputs": []
    },
    {
      "cell_type": "code",
      "metadata": {
        "id": "NZknJNVFGufb",
        "colab_type": "code",
        "colab": {}
      },
      "source": [
        "# Solution\n",
        "def counts_of_all_values_rowwise(arr2d):\n",
        "    # Unique values and its counts row wise\n",
        "    num_counts_array = [np.unique(row, return_counts=True) for row in arr2d]\n",
        "    # Counts of all values row wise\n",
        "    return([[int(b[a==i]) if i in a else 0 for i in np.unique(arr2d)] for a, b in num_counts_array])\n",
        "\n",
        "# Print\n",
        "print(np.arange(1,11))\n",
        "counts_of_all_values_rowwise(arr)"
      ],
      "execution_count": 0,
      "outputs": []
    },
    {
      "cell_type": "code",
      "metadata": {
        "id": "VtyLDwrTGufd",
        "colab_type": "code",
        "colab": {}
      },
      "source": [
        "# Example 2:\n",
        "arr = np.array([np.array(list('bill clinton')), np.array(list('narendramodi')), np.array(list('jjayalalitha'))])\n",
        "print(np.unique(arr))\n",
        "counts_of_all_values_rowwise(arr)"
      ],
      "execution_count": 0,
      "outputs": []
    },
    {
      "cell_type": "markdown",
      "metadata": {
        "id": "puuk3pFsGufe",
        "colab_type": "text"
      },
      "source": [
        "##50. How to convert an array of arrays into a flat 1d array?\n",
        "\n",
        "**Level 4**\n",
        "\n",
        "**Problem:**\n",
        "Convert array_of_arrays into a flat linear 1d array.\n",
        "\n",
        "**Possible Input:**\n",
        "arr1 = np.arange(3)\n",
        "arr2 = np.arange(3,7)\n",
        "arr3 = np.arange(7,10)\n",
        "array_of_arrays = np.array([arr1, arr2, arr3])\n",
        "array_of_arrays\n",
        "\n",
        "**Expected Output:**\n",
        "array([0, 1, 2, 3, 4, 5, 6, 7, 8, 9])"
      ]
    },
    {
      "cell_type": "code",
      "metadata": {
        "id": "kB-r5mvmGufe",
        "colab_type": "code",
        "colab": {}
      },
      "source": [
        "# Enter your code here"
      ],
      "execution_count": 0,
      "outputs": []
    },
    {
      "cell_type": "markdown",
      "metadata": {
        "id": "uvTg2jsoGuff",
        "colab_type": "text"
      },
      "source": [
        "###Solution:"
      ]
    },
    {
      "cell_type": "code",
      "metadata": {
        "id": "m2npcaPlGuff",
        "colab_type": "code",
        "colab": {}
      },
      "source": [
        " # Input:\n",
        "arr1 = np.arange(3)\n",
        "arr2 = np.arange(3,7)\n",
        "arr3 = np.arange(7,10)\n",
        "\n",
        "array_of_arrays = np.array([arr1, arr2, arr3])\n",
        "print('array_of_arrays: ', array_of_arrays)\n",
        "\n",
        "# Solution 1\n",
        "arr_2d = np.array([a for arr in array_of_arrays for a in arr])"
      ],
      "execution_count": 0,
      "outputs": []
    },
    {
      "cell_type": "code",
      "metadata": {
        "id": "3LubR2GUGufg",
        "colab_type": "code",
        "colab": {}
      },
      "source": [
        " # Input:\n",
        "arr1 = np.arange(3)\n",
        "arr2 = np.arange(3,7)\n",
        "arr3 = np.arange(7,10)\n",
        "\n",
        "array_of_arrays = np.array([arr1, arr2, arr3])\n",
        "print('array_of_arrays: ', array_of_arrays)\n",
        "\n",
        "# Solution 2:\n",
        "arr_2d = np.concatenate(array_of_arrays)\n",
        "print(arr_2d)"
      ],
      "execution_count": 0,
      "outputs": []
    },
    {
      "cell_type": "markdown",
      "metadata": {
        "id": "l9joSlfHGufh",
        "colab_type": "text"
      },
      "source": [
        "##51. How to generate one-hot encodings for an array in numpy?\n",
        "\n",
        "**Level 4**\n",
        "\n",
        "**Problem:**\n",
        "Compute the one-hot encodings (dummy binary variables for each unique value in the array)\n",
        "\n",
        "\n",
        "**Possible Input:**\n",
        "np.random.seed(101) \n",
        "arr = np.random.randint(1,4, size=6)\n",
        "\n",
        "\n",
        "**Expected Output:**\n",
        "array([[ 0., 1., 0.],\n",
        "       [ 0., 0., 1.],\n",
        "       [ 0., 1., 0.],\n",
        "       [ 0., 1., 0.],\n",
        "       [ 0., 1., 0.],\n",
        "       [ 1., 0., 0.]])"
      ]
    },
    {
      "cell_type": "code",
      "metadata": {
        "id": "hPeNvdXvGufh",
        "colab_type": "code",
        "colab": {}
      },
      "source": [
        "# Enter your code here"
      ],
      "execution_count": 0,
      "outputs": []
    },
    {
      "cell_type": "markdown",
      "metadata": {
        "id": "gSW1TV23Gufi",
        "colab_type": "text"
      },
      "source": [
        "###Solution:"
      ]
    },
    {
      "cell_type": "code",
      "metadata": {
        "id": "4lC-gH-TGufi",
        "colab_type": "code",
        "colab": {}
      },
      "source": [
        "# Input:\n",
        "np.random.seed(101) \n",
        "arr = np.random.randint(1,4, size=6)\n",
        "arr\n",
        "\n",
        "# Solution:\n",
        "def one_hot_encodings(arr):\n",
        "    uniqs = np.unique(arr)\n",
        "    out = np.zeros((arr.shape[0], uniqs.shape[0]))\n",
        "    for i, k in enumerate(arr):\n",
        "        out[i, k-1] = 1\n",
        "    return out\n",
        "\n",
        "\n",
        "one_hot_encodings(arr)"
      ],
      "execution_count": 0,
      "outputs": []
    },
    {
      "cell_type": "code",
      "metadata": {
        "id": "VNJYYfdQGufj",
        "colab_type": "code",
        "colab": {}
      },
      "source": [
        "# Input:\n",
        "np.random.seed(101) \n",
        "arr = np.random.randint(1,4, size=6)\n",
        "arr\n",
        "\n",
        "# Solution:\n",
        "# Method 2:\n",
        "(arr[:, None] == np.unique(arr)).view(np.int8)"
      ],
      "execution_count": 0,
      "outputs": []
    },
    {
      "cell_type": "markdown",
      "metadata": {
        "id": "zSkowvWdGufk",
        "colab_type": "text"
      },
      "source": [
        "##52. How to create row numbers grouped by a categorical variable?\n",
        "\n",
        "**Level 3**\n",
        "\n",
        "**Problem:**\n",
        "Create row numbers grouped by a categorical variable. Use the following sample from iris species as input.\n",
        "\n",
        "**Possible Input:**\n",
        "url = 'https://archive.ics.uci.edu/ml/machine-learning-databases/iris/iris.data'\n",
        "species = np.genfromtxt(url, delimiter=',', dtype='str', usecols=4)\n",
        "species_small = np.sort(np.random.choice(species, size=20))\n",
        "species_small\n",
        "\n",
        "**Expected Output:**\n",
        "[0, 1, 2, 3, 4, 5, 0, 1, 2, 3, 4, 5, 0, 1, 2, 3, 4, 5, 6, 7]"
      ]
    },
    {
      "cell_type": "code",
      "metadata": {
        "id": "fRtTnfzHGufk",
        "colab_type": "code",
        "colab": {}
      },
      "source": [
        "# Enter your code here"
      ],
      "execution_count": 0,
      "outputs": []
    },
    {
      "cell_type": "markdown",
      "metadata": {
        "id": "eM6ZJkbpGufl",
        "colab_type": "text"
      },
      "source": [
        "###Solution:"
      ]
    },
    {
      "cell_type": "code",
      "metadata": {
        "id": "4R3ycffIGufl",
        "colab_type": "code",
        "colab": {}
      },
      "source": [
        "# Input:\n",
        "url = 'https://archive.ics.uci.edu/ml/machine-learning-databases/iris/iris.data'\n",
        "species = np.genfromtxt(url, delimiter=',', dtype='str', usecols=4)\n",
        "np.random.seed(100)\n",
        "species_small = np.sort(np.random.choice(species, size=20))\n",
        "species_small"
      ],
      "execution_count": 0,
      "outputs": []
    },
    {
      "cell_type": "code",
      "metadata": {
        "id": "MYj9xpOyGufm",
        "colab_type": "code",
        "colab": {}
      },
      "source": [
        "print([i for val in np.unique(species_small) for i, grp in enumerate(species_small[species_small==val])])"
      ],
      "execution_count": 0,
      "outputs": []
    },
    {
      "cell_type": "markdown",
      "metadata": {
        "id": "4WfRAX6VGufm",
        "colab_type": "text"
      },
      "source": [
        "##53. How to create groud ids based on a given categorical variable?\n",
        "\n",
        "**Level 4**\n",
        "\n",
        "**Problem:**\n",
        "Create group ids based on a given categorical variable. Use the following sample from iris species as input.\n",
        "\n",
        "**Possible Input:**\n",
        "\n",
        "\n",
        "url = 'https://archive.ics.uci.edu/ml/machine-learning-databases/iris/iris.data'\n",
        "species = np.genfromtxt(url, delimiter=',', dtype='str', usecols=4)\n",
        "species_small = np.sort(np.random.choice(species, size=20))\n",
        "species_small"
      ]
    },
    {
      "cell_type": "code",
      "metadata": {
        "id": "uPhG96evGufn",
        "colab_type": "code",
        "colab": {}
      },
      "source": [
        "\n",
        "**Expected Output:**\n",
        "[0, 0, 0, 0, 0, 1, 1, 1, 1, 1, 1, 1, 1, 1, 2, 2, 2, 2, 2, 2]\n",
        "\n",
        "\n",
        "```python\n",
        "# Enter your code here"
      ],
      "execution_count": 0,
      "outputs": []
    },
    {
      "cell_type": "markdown",
      "metadata": {
        "id": "wVbx71_4Gufo",
        "colab_type": "text"
      },
      "source": [
        "###Solution:"
      ]
    },
    {
      "cell_type": "code",
      "metadata": {
        "id": "oIS4N1AWGufo",
        "colab_type": "code",
        "colab": {}
      },
      "source": [
        "# Input:\n",
        "url = 'https://archive.ics.uci.edu/ml/machine-learning-databases/iris/iris.data'\n",
        "species = np.genfromtxt(url, delimiter=',', dtype='str', usecols=4)\n",
        "np.random.seed(100)\n",
        "species_small = np.sort(np.random.choice(species, size=20))\n",
        "species_small\n",
        "\n",
        "# Solution:\n",
        "output = [np.argwhere(np.unique(species_small) == s).tolist()[0][0] for val in np.unique(species_small) for s in species_small[species_small==val]]\n",
        "\n",
        "\n",
        "# Solution: For Loop version\n",
        "output = []\n",
        "uniqs = np.unique(species_small)\n",
        "\n",
        "\n",
        "for val in uniqs: # uniq values in group\n",
        "    for s in species_small[species_small==val]: # each element in group\n",
        "        groupid = np.argwhere(uniqs == s).tolist()[0][0] # groupid\n",
        "        output.append(groupid)\n",
        "\n",
        "print(output)"
      ],
      "execution_count": 0,
      "outputs": []
    },
    {
      "cell_type": "markdown",
      "metadata": {
        "id": "_M9WKT_UGufp",
        "colab_type": "text"
      },
      "source": [
        "##54. How to rank items in an array using numpy?\n",
        "\n",
        "**Level 2**\n",
        "\n",
        "**Problem:**\n",
        "\n",
        "Create the ranks for the given numeric array a.\n",
        "\n",
        "\n",
        "**Possible Input:**\n",
        "np.random.seed(10)\n",
        "a = np.random.randint(20, size=10)\n",
        "print(a)"
      ]
    },
    {
      "cell_type": "code",
      "metadata": {
        "id": "dsN9-nSZGufp",
        "colab_type": "code",
        "colab": {}
      },
      "source": [
        "\n",
        "**Expected Output:**\n",
        "[4 2 6 0 8 7 9 3 5 1]\n",
        "\n",
        "\n",
        "\n",
        "```python\n",
        "# Enter your code here"
      ],
      "execution_count": 0,
      "outputs": []
    },
    {
      "cell_type": "markdown",
      "metadata": {
        "id": "qnG3TiVxGufp",
        "colab_type": "text"
      },
      "source": [
        "###Solution:"
      ]
    },
    {
      "cell_type": "code",
      "metadata": {
        "id": "B1UwkMmbGufq",
        "colab_type": "code",
        "colab": {}
      },
      "source": [
        "np.random.seed(10)\n",
        "a = np.random.randint(20, size=10)\n",
        "print('Array: ', a)\n",
        "\n",
        "# Solution\n",
        "print(a.argsort().argsort())\n",
        "print('Array: ', a)"
      ],
      "execution_count": 0,
      "outputs": []
    },
    {
      "cell_type": "markdown",
      "metadata": {
        "id": "rg9FqXOvGufq",
        "colab_type": "text"
      },
      "source": [
        "##55. How to rank items in a multidimensional array using numpy?\n",
        "\n",
        "**Level 3**\n",
        "\n",
        "**Problem:**\n",
        "Create a rank array of the same shape as a given numeric array a.\n",
        "\n",
        "\n",
        "**Possible Input:**\n",
        "np.random.seed(10)\n",
        "a = np.random.randint(20, size=[2,5])\n",
        "print(a)\n",
        "\n",
        "\n",
        "**Expected Output:**\n",
        "[[4 2 6 0 8]\n",
        " [7 9 3 5 1]]"
      ]
    },
    {
      "cell_type": "code",
      "metadata": {
        "id": "B7-cGZJEGufq",
        "colab_type": "code",
        "colab": {}
      },
      "source": [
        "# Enter your code here"
      ],
      "execution_count": 0,
      "outputs": []
    },
    {
      "cell_type": "markdown",
      "metadata": {
        "id": "XEy1khtUGufr",
        "colab_type": "text"
      },
      "source": [
        "###Solution:"
      ]
    },
    {
      "cell_type": "code",
      "metadata": {
        "id": "wOrC_yz6Gufr",
        "colab_type": "code",
        "colab": {}
      },
      "source": [
        "# Input:\n",
        "np.random.seed(10)\n",
        "a = np.random.randint(20, size=[2,5])\n",
        "print(a)\n",
        "\n",
        "# Solution\n",
        "print(a.ravel().argsort().argsort().reshape(a.shape))"
      ],
      "execution_count": 0,
      "outputs": []
    },
    {
      "cell_type": "markdown",
      "metadata": {
        "id": "-xNETDGLGufr",
        "colab_type": "text"
      },
      "source": [
        "##56. How to find the maximum value in each row of a numpy array 2d?\n",
        "\n",
        "**Level 2**\n",
        "\n",
        "**Problem:**\n",
        "Compute the maximum for each row in the given array.\n",
        "np.random.seed(100)\n",
        "a = np.random.randint(1,10, [5,3])\n",
        "a"
      ]
    },
    {
      "cell_type": "code",
      "metadata": {
        "id": "nk00z_GbGufs",
        "colab_type": "code",
        "colab": {}
      },
      "source": [
        "# Enter your code here"
      ],
      "execution_count": 0,
      "outputs": []
    },
    {
      "cell_type": "markdown",
      "metadata": {
        "id": "tHTLyj8KGuft",
        "colab_type": "text"
      },
      "source": [
        "###Solution:"
      ]
    },
    {
      "cell_type": "code",
      "metadata": {
        "id": "KsU9wH4EGuft",
        "colab_type": "code",
        "colab": {}
      },
      "source": [
        "# Input\n",
        "np.random.seed(100)\n",
        "a = np.random.randint(1,10, [5,3])\n",
        "\n",
        "# Solution 1\n",
        "np.amax(a, axis=1)"
      ],
      "execution_count": 0,
      "outputs": []
    },
    {
      "cell_type": "code",
      "metadata": {
        "id": "QUI13bqfGufu",
        "colab_type": "code",
        "colab": {}
      },
      "source": [
        "# Input\n",
        "np.random.seed(100)\n",
        "a = np.random.randint(1,10, [5,3])\n",
        "\n",
        "# Solution 2\n",
        "np.apply_along_axis(np.max, arr=a, axis=1)"
      ],
      "execution_count": 0,
      "outputs": []
    },
    {
      "cell_type": "markdown",
      "metadata": {
        "id": "uKxqEB2PGufu",
        "colab_type": "text"
      },
      "source": [
        "##57. How to compute the min-by-max for each row for a numpy array 2d?\n",
        "\n",
        "**Level 3**\n",
        "\n",
        "**Problem:**\n",
        "Compute the min-by-max for each row for given 2d numpy array.\n",
        "np.random.seed(100)\n",
        "a = np.random.randint(1,10, [5,3])\n",
        "a"
      ]
    },
    {
      "cell_type": "code",
      "metadata": {
        "id": "zIdFC7F6Gufu",
        "colab_type": "code",
        "colab": {}
      },
      "source": [
        "# Enter your code here"
      ],
      "execution_count": 0,
      "outputs": []
    },
    {
      "cell_type": "markdown",
      "metadata": {
        "id": "XdIRdcFsGufv",
        "colab_type": "text"
      },
      "source": [
        "###Solution:"
      ]
    },
    {
      "cell_type": "code",
      "metadata": {
        "id": "-IPuGdudGufw",
        "colab_type": "code",
        "colab": {}
      },
      "source": [
        "# Input\n",
        "np.random.seed(100)\n",
        "a = np.random.randint(1,10, [5,3])\n",
        "\n",
        "# Solution\n",
        "np.apply_along_axis(lambda x: np.min(x)/np.max(x), arr=a, axis=1)"
      ],
      "execution_count": 0,
      "outputs": []
    },
    {
      "cell_type": "markdown",
      "metadata": {
        "id": "JsbODT13Gufw",
        "colab_type": "text"
      },
      "source": [
        "##58. How to find the duplicate records in a numpy array?\n",
        "\n",
        "**Level 3**\n",
        "\n",
        "**Problem:**\n",
        "\n",
        "Find the duplicate entries (2nd occurrence onwards) in the given numpy array and mark them as True. First time occurrences should be False.\n",
        "\n",
        "**Possible Input:**\n",
        "np.random.seed(100)\n",
        "a = np.random.randint(0, 5, 10)\n",
        "print('Array: ', a)\n",
        "\n",
        "\n",
        "\n",
        "**Expected Output:**\n",
        "[False True False True False False True True True True]"
      ]
    },
    {
      "cell_type": "code",
      "metadata": {
        "id": "bteDv31VGufw",
        "colab_type": "code",
        "colab": {}
      },
      "source": [
        "# Enter your code here"
      ],
      "execution_count": 0,
      "outputs": []
    },
    {
      "cell_type": "markdown",
      "metadata": {
        "id": "VbR7rNktGufx",
        "colab_type": "text"
      },
      "source": [
        "###Solution:"
      ]
    },
    {
      "cell_type": "code",
      "metadata": {
        "id": "ZfrKPrcUGufy",
        "colab_type": "code",
        "colab": {}
      },
      "source": [
        "# Input\n",
        "np.random.seed(100)\n",
        "a = np.random.randint(0, 5, 10)\n",
        "\n",
        "\n",
        "## Solution\n",
        "# There is no direct function to do this as of 1.13.3\n",
        "# Create an all True array\n",
        "out = np.full(a.shape[0], True)\n",
        "\n",
        "# Find the index positions of unique elements\n",
        "unique_positions = np.unique(a, return_index=True)[1]\n",
        "\n",
        "# Mark those positions as False\n",
        "out[unique_positions] = False\n",
        "\n",
        "print(out)"
      ],
      "execution_count": 0,
      "outputs": []
    },
    {
      "cell_type": "markdown",
      "metadata": {
        "id": "Vpv0nIEZGufy",
        "colab_type": "text"
      },
      "source": [
        "##59. How to find the grouped mean in numpy?\n",
        "\n",
        "**Level 3**\n",
        "\n",
        "Find the mean of a numeric column grouped by a categorical column in a 2D numpy array\n",
        "\n",
        "\n",
        "**Possible Input:**\n",
        "url = 'https://archive.ics.uci.edu/ml/machine-learning-databases/iris/iris.data'\n",
        "iris = np.genfromtxt(url, delimiter=',', dtype='object')\n",
        "names = ('sepallength', 'sepalwidth', 'petallength', 'petalwidth', 'species')\n",
        "\n",
        "\n",
        "**Expected Output:**\n",
        "[[b'Iris-setosa', 3.418],\n",
        " [b'Iris-versicolor', 2.770],\n",
        " [b'Iris-virginica', 2.974]]"
      ]
    },
    {
      "cell_type": "code",
      "metadata": {
        "id": "PE0oONj6Gufy",
        "colab_type": "code",
        "colab": {}
      },
      "source": [
        "# Enter your code here"
      ],
      "execution_count": 0,
      "outputs": []
    },
    {
      "cell_type": "markdown",
      "metadata": {
        "id": "UgU8uKXSGufz",
        "colab_type": "text"
      },
      "source": [
        "###Solution:"
      ]
    },
    {
      "cell_type": "code",
      "metadata": {
        "id": "MBOFT-aWGufz",
        "colab_type": "code",
        "colab": {}
      },
      "source": [
        "# Input\n",
        "url = 'https://archive.ics.uci.edu/ml/machine-learning-databases/iris/iris.data'\n",
        "iris = np.genfromtxt(url, delimiter=',', dtype='object')\n",
        "names = ('sepallength', 'sepalwidth', 'petallength', 'petalwidth', 'species')\n",
        "\n",
        "# Solution\n",
        "# No direct way to implement this. Just a version of a workaround.\n",
        "numeric_column = iris[:, 1].astype('float') # sepalwidth\n",
        "grouping_column = iris[:, 4] # species\n",
        "\n",
        "# List comprehension version\n",
        "[[group_val, numeric_column[grouping_column==group_val].mean()] for group_val in np.unique(grouping_column)]\n",
        "\n",
        "# For Loop version\n",
        "output = []\n",
        "for group_val in np.unique(grouping_column):\n",
        "output.append([group_val, numeric_column[grouping_column==group_val].mean()])\n",
        "\n",
        "output"
      ],
      "execution_count": 0,
      "outputs": []
    },
    {
      "cell_type": "markdown",
      "metadata": {
        "id": "c7FITiK1Gufz",
        "colab_type": "text"
      },
      "source": [
        "##60. How to convert a PIL image to numpy array?\n",
        "\n",
        "**Level 3**\n",
        "\n",
        "**Problem:**\n",
        "Import the image from the following URL and convert it to a numpy array.\n",
        "URL = 'https://upload.wikimedia.org/wikipedia/commons/8/8b/Denali_Mt_McKinley.jpg'"
      ]
    },
    {
      "cell_type": "code",
      "metadata": {
        "id": "0bGHwUibGufz",
        "colab_type": "code",
        "colab": {}
      },
      "source": [
        "# Enter your code here"
      ],
      "execution_count": 0,
      "outputs": []
    },
    {
      "cell_type": "markdown",
      "metadata": {
        "id": "pmnY9122Guf0",
        "colab_type": "text"
      },
      "source": [
        "###Solution:"
      ]
    },
    {
      "cell_type": "code",
      "metadata": {
        "id": "g5w6xb2gGuf0",
        "colab_type": "code",
        "colab": {}
      },
      "source": [
        "from io import BytesIO\n",
        "from PIL import Image\n",
        "import PIL, requests\n",
        "\n",
        "# Import image from URL\n",
        "URL = 'https://upload.wikimedia.org/wikipedia/commons/8/8b/Denali_Mt_McKinley.jpg'\n",
        "response = requests.get(URL)\n",
        "\n",
        "# Read it as Image\n",
        "I = Image.open(BytesIO(response.content))\n",
        "\n",
        "# Optionally resize\n",
        "I = I.resize([150,150])\n",
        "\n",
        "# Convert to numpy array\n",
        "arr = np.asarray(I)\n",
        "\n",
        "# Optionaly Convert it back to an image and show\n",
        "im = PIL.Image.fromarray(np.uint8(arr))\n",
        "Image.Image.show(im)"
      ],
      "execution_count": 0,
      "outputs": []
    },
    {
      "cell_type": "markdown",
      "metadata": {
        "id": "E_CN5pj8Guf0",
        "colab_type": "text"
      },
      "source": [
        "##61. How to drop all missing values from a numpy array?\n",
        "\n",
        "**Level 2**\n",
        "\n",
        "**Problem:**\n",
        "Drop all nan values from a 1D numpy array\n",
        "\n",
        "**Possible Input:**\n",
        "np.array([1,2,3,np.nan,5,6,7,np.nan])\n",
        "\n",
        "**Expected Output:**\n",
        "array([ 1., 2., 3., 5., 6., 7.])"
      ]
    },
    {
      "cell_type": "code",
      "metadata": {
        "id": "xLbSpnjeGuf1",
        "colab_type": "code",
        "colab": {}
      },
      "source": [
        "# Enter your code here"
      ],
      "execution_count": 0,
      "outputs": []
    },
    {
      "cell_type": "markdown",
      "metadata": {
        "id": "5BaSongBGuf1",
        "colab_type": "text"
      },
      "source": [
        "###Solution:"
      ]
    },
    {
      "cell_type": "code",
      "metadata": {
        "id": "qWpKes2iGuf1",
        "colab_type": "code",
        "colab": {}
      },
      "source": [
        "a = np.array([1,2,3,np.nan,5,6,7,np.nan])\n",
        "a[~np.isnan(a)]"
      ],
      "execution_count": 0,
      "outputs": []
    },
    {
      "cell_type": "markdown",
      "metadata": {
        "id": "bHaZarCyGuf2",
        "colab_type": "text"
      },
      "source": [
        "##62. How to compute the euclidean distance between two arrays?\n",
        "\n",
        "**Level 3**\n",
        "\n",
        "**Problem:**\n",
        "Compute the euclidean distance between two arrays a and b.\n",
        "\n",
        "\n",
        "**Possible Input:**\n",
        "a = np.array([1,2,3,4,5])\n",
        "b = np.array([4,5,6,7,8])"
      ]
    },
    {
      "cell_type": "code",
      "metadata": {
        "id": "Nl75OrQ3Guf2",
        "colab_type": "code",
        "colab": {}
      },
      "source": [
        "# Enter your code here"
      ],
      "execution_count": 0,
      "outputs": []
    },
    {
      "cell_type": "markdown",
      "metadata": {
        "id": "rNNpruyBGuf2",
        "colab_type": "text"
      },
      "source": [
        "###Solution:"
      ]
    },
    {
      "cell_type": "code",
      "metadata": {
        "id": "t5WWK9TnGuf2",
        "colab_type": "code",
        "colab": {}
      },
      "source": [
        "# Input\n",
        "a = np.array([1,2,3,4,5])\n",
        "b = np.array([4,5,6,7,8])\n",
        "\n",
        "# Solution\n",
        "dist = np.linalg.norm(a-b)\n",
        "dist"
      ],
      "execution_count": 0,
      "outputs": []
    },
    {
      "cell_type": "markdown",
      "metadata": {
        "id": "WNmo-OttGuf3",
        "colab_type": "text"
      },
      "source": [
        "##63. How to find all the local maxima (or peaks) in a 1d array?\n",
        "\n",
        "**Level 4**\n",
        "\n",
        "**Problem:**\n",
        "Find all the peaks in a 1D numpy array a. Peaks are points surrounded by smaller values on both sides.\n",
        "\n",
        "**Possible Input:**\n",
        "\n",
        "\n",
        "a = np.array([1, 3, 7, 1, 2, 6, 0, 1])\n",
        "\n",
        "\n",
        "**Expected Output:**\n",
        "array([2, 5])\n",
        "where, 2 and 5 are the positions of peak values 7 and 6."
      ]
    },
    {
      "cell_type": "code",
      "metadata": {
        "id": "zMBZaa68Guf3",
        "colab_type": "code",
        "colab": {}
      },
      "source": [
        "# Enter your code here"
      ],
      "execution_count": 0,
      "outputs": []
    },
    {
      "cell_type": "markdown",
      "metadata": {
        "id": "XvNMgmPrGuf3",
        "colab_type": "text"
      },
      "source": [
        "###Solution:"
      ]
    },
    {
      "cell_type": "code",
      "metadata": {
        "id": "DHLW0mF1Guf4",
        "colab_type": "code",
        "colab": {}
      },
      "source": [
        "a = np.array([1, 3, 7, 1, 2, 6, 0, 1])\n",
        "doublediff = np.diff(np.sign(np.diff(a)))\n",
        "peak_locations = np.where(doublediff == -2)[0] + 1\n",
        "peak_locations"
      ],
      "execution_count": 0,
      "outputs": []
    },
    {
      "cell_type": "markdown",
      "metadata": {
        "id": "PjdnOl0kGuf7",
        "colab_type": "text"
      },
      "source": [
        "##64. How to subtract a 1d array from a 2d array, where each item of 1d array subtracts from respective row?\n",
        "\n",
        "**Level 2**\n",
        "\n",
        "**Problem:**\n",
        "Subtract the 1d array b_1d from the 2d array a_2d, such that each item of b_1d subtracts from respective row of a_2d.\n",
        "\n",
        "**Possible Input:**\n",
        "a_2d = np.array([[3,3,3],[4,4,4],[5,5,5]])\n",
        "b_1d = np.array([1,1,1]\n",
        "\n",
        "**Expected Output:**\n",
        "[[2 2 2]\n",
        " [2 2 2]\n",
        " [2 2 2]]"
      ]
    },
    {
      "cell_type": "code",
      "metadata": {
        "id": "gpQqDP9QGuf7",
        "colab_type": "code",
        "colab": {}
      },
      "source": [
        "# Enter your code here"
      ],
      "execution_count": 0,
      "outputs": []
    },
    {
      "cell_type": "markdown",
      "metadata": {
        "id": "HwZBi4IJGuf7",
        "colab_type": "text"
      },
      "source": [
        "###Solution:"
      ]
    },
    {
      "cell_type": "code",
      "metadata": {
        "id": "b4H6We8bGuf7",
        "colab_type": "code",
        "colab": {}
      },
      "source": [
        "# Input\n",
        "a_2d = np.array([[3,3,3],[4,4,4],[5,5,5]])\n",
        "b_1d = np.array([1,2,3])\n",
        "\n",
        "\n",
        "# Solution\n",
        "print(a_2d - b_1d[:,None])"
      ],
      "execution_count": 0,
      "outputs": []
    },
    {
      "cell_type": "markdown",
      "metadata": {
        "id": "4StEYPrOGuf8",
        "colab_type": "text"
      },
      "source": [
        "##65. How to find the index of n'th repetition of an item in an array\n",
        "\n",
        "**Level 2**\n",
        "\n",
        "**Problem:**\n",
        "Find the index of 5th repetition of number 1 in x.\n",
        "x = np.array([1, 2, 1, 1, 3, 4, 3, 1, 1, 2, 1, 1, 2])"
      ]
    },
    {
      "cell_type": "code",
      "metadata": {
        "id": "Vn9zpTF3Guf8",
        "colab_type": "code",
        "colab": {}
      },
      "source": [
        "# Enter your code here"
      ],
      "execution_count": 0,
      "outputs": []
    },
    {
      "cell_type": "markdown",
      "metadata": {
        "id": "QaBSEvWvGuf9",
        "colab_type": "text"
      },
      "source": [
        "###Solution:"
      ]
    },
    {
      "cell_type": "code",
      "metadata": {
        "id": "BzmK3sWJGuf9",
        "colab_type": "code",
        "colab": {}
      },
      "source": [
        "x = np.array([1, 2, 1, 1, 3, 4, 3, 1, 1, 2, 1, 1, 2])\n",
        "n = 5\n",
        "\n",
        "# Solution 1: List comprehension\n",
        "[i for i, v in enumerate(x) if v == 1][n-1]"
      ],
      "execution_count": 0,
      "outputs": []
    },
    {
      "cell_type": "code",
      "metadata": {
        "id": "yJkBjq2KGuf-",
        "colab_type": "code",
        "colab": {}
      },
      "source": [
        "x = np.array([1, 2, 1, 1, 3, 4, 3, 1, 1, 2, 1, 1, 2])\n",
        "n = 5\n",
        "\n",
        "# Solution 2: Numpy version\n",
        "np.where(x == 1)[0][n-1]"
      ],
      "execution_count": 0,
      "outputs": []
    },
    {
      "cell_type": "markdown",
      "metadata": {
        "id": "ZvufDFFmGuf_",
        "colab_type": "text"
      },
      "source": [
        "66. How to convert numpy's datetime64 object to datetime's datetime object?\n",
        "\n",
        "**Level 2**\n",
        "\n",
        "**Problem:**\n",
        "Convert numpy's datetime64 object to datetime's datetime object\n",
        "# Input: a numpy datetime64 object\n",
        "dt64 = np.datetime64('2018-02-25 22:10:10')"
      ]
    },
    {
      "cell_type": "code",
      "metadata": {
        "id": "k-L6dXQuGuf_",
        "colab_type": "code",
        "colab": {}
      },
      "source": [
        "# Enter your code here"
      ],
      "execution_count": 0,
      "outputs": []
    },
    {
      "cell_type": "markdown",
      "metadata": {
        "id": "kHF9OFFHGuf_",
        "colab_type": "text"
      },
      "source": [
        "###Solution:"
      ]
    },
    {
      "cell_type": "code",
      "metadata": {
        "id": "FLM61DUbGuf_",
        "colab_type": "code",
        "colab": {}
      },
      "source": [
        "# Input: a numpy datetime64 object\n",
        "dt64 = np.datetime64('2018-02-25 22:10:10')\n",
        "\n",
        "# Solution\n",
        "from datetime import datetime\n",
        "dt64.tolist()"
      ],
      "execution_count": 0,
      "outputs": []
    },
    {
      "cell_type": "code",
      "metadata": {
        "id": "TOt9itonGugA",
        "colab_type": "code",
        "colab": {}
      },
      "source": [
        "# Input: a numpy datetime64 object\n",
        "dt64 = np.datetime64('2018-02-25 22:10:10')\n",
        "\n",
        "# Solution\n",
        "dt64.astype(datetime)"
      ],
      "execution_count": 0,
      "outputs": []
    },
    {
      "cell_type": "markdown",
      "metadata": {
        "id": "H_7_9ryIGugA",
        "colab_type": "text"
      },
      "source": [
        "##67. How to compute the moving average of a numpy array?\n",
        "\n",
        "**Level 3**\n",
        "\n",
        "**Problem:**\n",
        "Compute the moving average of window size 3, for the given 1D array.\n",
        "\n",
        "**Possible Input:**\n",
        "np.random.seed(100)\n",
        "Z = np.random.randint(10, size=10)"
      ]
    },
    {
      "cell_type": "code",
      "metadata": {
        "id": "B_EtmOPaGugA",
        "colab_type": "code",
        "colab": {}
      },
      "source": [
        "# Enter your code here"
      ],
      "execution_count": 0,
      "outputs": []
    },
    {
      "cell_type": "markdown",
      "metadata": {
        "id": "HrJfYf9iGugB",
        "colab_type": "text"
      },
      "source": [
        "###Solution:"
      ]
    },
    {
      "cell_type": "code",
      "metadata": {
        "id": "4lNSuKyOGugB",
        "colab_type": "code",
        "colab": {}
      },
      "source": [
        "# Solution\n",
        "def moving_average(a, n=3) :\n",
        "    ret = np.cumsum(a, dtype=float)\n",
        "    ret[n:] = ret[n:] - ret[:-n]\n",
        "    return ret[n - 1:] / n\n",
        "\n",
        "np.random.seed(100)\n",
        "Z = np.random.randint(10, size=10)\n",
        "print('array: ', Z)\n",
        "\n",
        "# Method 1\n",
        "moving_average(Z, n=3).round(2)"
      ],
      "execution_count": 0,
      "outputs": []
    },
    {
      "cell_type": "code",
      "metadata": {
        "id": "bFKOZQUMGugC",
        "colab_type": "code",
        "colab": {}
      },
      "source": [
        "# Solution\n",
        "np.random.seed(100)\n",
        "Z = np.random.randint(10, size=10)\n",
        "print('array: ', Z)\n",
        "\n",
        "# np.ones(3)/3 gives equal weights. Use np.ones(4)/4 for window size 4.\n",
        "np.convolve(Z, np.ones(3)/3, mode='valid') . "
      ],
      "execution_count": 0,
      "outputs": []
    },
    {
      "cell_type": "markdown",
      "metadata": {
        "id": "mOlTgouBGugC",
        "colab_type": "text"
      },
      "source": [
        "##68. How to create a numpy array sequence given only the starting point, length and the step?\n",
        "\n",
        "**Level 2**\n",
        "\n",
        "**Problem:**\n",
        "Create a numpy array of length 10, starting from 5 and has a step of 3 between consecutive numbers"
      ]
    },
    {
      "cell_type": "code",
      "metadata": {
        "id": "wU5n3oz2GugC",
        "colab_type": "code",
        "colab": {}
      },
      "source": [
        "# Enter your code here"
      ],
      "execution_count": 0,
      "outputs": []
    },
    {
      "cell_type": "markdown",
      "metadata": {
        "id": "rw0AQhpoGugD",
        "colab_type": "text"
      },
      "source": [
        "###Solution:"
      ]
    },
    {
      "cell_type": "code",
      "metadata": {
        "id": "Z8lqpMPLGugD",
        "colab_type": "code",
        "colab": {}
      },
      "source": [
        "length = 10\n",
        "start = 5\n",
        "step = 3\n",
        "\n",
        "def seq(start, length, step):\n",
        "    end = start + (step*length)\n",
        "    return np.arange(start, end, step)\n",
        "\n",
        "seq(start, length, step)"
      ],
      "execution_count": 0,
      "outputs": []
    },
    {
      "cell_type": "markdown",
      "metadata": {
        "id": "v0KgZYH7GugD",
        "colab_type": "text"
      },
      "source": [
        "##69. How to fill in missing dates in an irregular series of numpy dates?\n",
        "\n",
        "**Level 3**\n",
        "\n",
        "**Problem:**\n",
        "Given an array of a non-continuous sequence of dates. Make it a continuous sequence of dates, by filling in the missing dates.\n",
        "\n",
        "**Possible Input:**\n",
        "dates = np.arange(np.datetime64('2018-02-01'), np.datetime64('2018-02-25'), 2)"
      ]
    },
    {
      "cell_type": "code",
      "metadata": {
        "id": "4LWZwOufGugD",
        "colab_type": "code",
        "colab": {}
      },
      "source": [
        "# Enter your code here"
      ],
      "execution_count": 0,
      "outputs": []
    },
    {
      "cell_type": "markdown",
      "metadata": {
        "id": "B-34xnDrGugD",
        "colab_type": "text"
      },
      "source": [
        "###Solution:"
      ]
    },
    {
      "cell_type": "code",
      "metadata": {
        "id": "_Vg0plnXGugD",
        "colab_type": "code",
        "colab": {}
      },
      "source": [
        "# Input\n",
        "dates = np.arange(np.datetime64('2018-02-01'), np.datetime64('2018-02-25'), 2)\n",
        "print(dates)\n",
        "\n",
        "# Solution ---------------\n",
        "filled_in = np.array([np.arange(date, (date+d)) for date, d in zip(dates, np.diff(dates))]).reshape(-1)\n",
        "\n",
        "# add the last day\n",
        "output = np.hstack([filled_in, dates[-1]])\n",
        "output\n",
        "\n",
        "\n",
        "# For loop version -------\n",
        "out = []\n",
        "for date, d in zip(dates, np.diff(dates)):\n",
        "out.append(np.arange(date, (date+d)))\n",
        "\n",
        "filled_in = np.array(out).reshape(-1)\n",
        "\n",
        "# add the last day\n",
        "output = np.hstack([filled_in, dates[-1]])\n",
        "output"
      ],
      "execution_count": 0,
      "outputs": []
    },
    {
      "cell_type": "markdown",
      "metadata": {
        "id": "oVqGc-WpGugE",
        "colab_type": "text"
      },
      "source": [
        "##70. How to create strides from a given 1D array?\n",
        "\n",
        "**Level 4**\n",
        "\n",
        "**Problem:**\n",
        "From the given 1d array arr, generate a 2d matrix using strides, with a window length of 4 and strides of 2, like [[0,1,2,3], [2,3,4,5], [4,5,6,7]..]\n",
        "\n",
        "**Possible Input:**\n",
        "arr = np.arange(15) \n",
        "arr\n",
        "\n",
        "\n",
        "\n",
        "**Expected Output:**\n",
        "[[ 0 1 2 3]\n",
        " [ 2 3 4 5]\n",
        " [ 4 5 6 7]\n",
        " [ 6 7 8 9]\n",
        " [ 8 9 10 11]\n",
        " [10 11 12 13]]"
      ]
    },
    {
      "cell_type": "code",
      "metadata": {
        "id": "1yTQdQ3oGugE",
        "colab_type": "code",
        "colab": {}
      },
      "source": [
        "# Enter your code here"
      ],
      "execution_count": 0,
      "outputs": []
    },
    {
      "cell_type": "markdown",
      "metadata": {
        "id": "rK0VvaJ0GugF",
        "colab_type": "text"
      },
      "source": [
        "###Solution:"
      ]
    },
    {
      "cell_type": "code",
      "metadata": {
        "id": "rYjt252pGugF",
        "colab_type": "code",
        "colab": {}
      },
      "source": [
        "def gen_strides(a, stride_len=5, window_len=5):\n",
        "    n_strides = ((a.size-window_len)//stride_len) + 1\n",
        "    # return np.array([a[s:(s+window_len)] for s in np.arange(0, a.size, stride_len)[:n_strides]])\n",
        "    return np.array([a[s:(s+window_len)] for s in np.arange(0, n_strides*stride_len, stride_len)])\n",
        "\n",
        "\n",
        "print(gen_strides(np.arange(15), stride_len=2, window_len=4))"
      ],
      "execution_count": 0,
      "outputs": []
    }
  ]
}