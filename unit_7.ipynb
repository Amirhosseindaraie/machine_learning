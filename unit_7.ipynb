{
  "nbformat": 4,
  "nbformat_minor": 0,
  "metadata": {
    "colab": {
      "name": "unit_7.ipynb",
      "version": "0.3.2",
      "provenance": []
    },
    "kernelspec": {
      "name": "python3",
      "display_name": "Python 3"
    }
  },
  "cells": [
    {
      "cell_type": "markdown",
      "metadata": {
        "id": "9lV1cXki6eNN",
        "colab_type": "text"
      },
      "source": [
        "##Classes\n"
      ]
    },
    {
      "cell_type": "markdown",
      "metadata": {
        "id": "mu5HZMsR6kfh",
        "colab_type": "text"
      },
      "source": [
        "**Why use classes?**\n",
        " \n",
        "*     Implementing new objects\n",
        "*      Multiple instances\n",
        "*      Customization via inheritance\n",
        "*      Operator overloading\n"
      ]
    },
    {
      "cell_type": "markdown",
      "metadata": {
        "id": "Zqfz0GiS6t9Y",
        "colab_type": "text"
      },
      "source": [
        "**Class topics**\n",
        "\n",
        "*     Class basics\n",
        "*     The class statement\n",
        "*     Class methods\n",
        "*     Attribute inheritance\n",
        "*     Operator overloading\n",
        "*     Name spaces and scopes\n",
        "*     OOP, inheritance, and composition\n",
        "*     Classes and methods are objects\n",
        "*     Odds and ends\n",
        "*     Class gotchas"
      ]
    },
    {
      "cell_type": "markdown",
      "metadata": {
        "id": "qKbfBfW66z3w",
        "colab_type": "text"
      },
      "source": [
        "###OOP: The Big Picture\n"
      ]
    },
    {
      "cell_type": "markdown",
      "metadata": {
        "id": "fRLiT9Ap66sg",
        "colab_type": "text"
      },
      "source": [
        "**How it works**\n",
        "\n",
        "*      All about: object.attr\n",
        "*      Kicks off a search for first attr → inheritance\n",
        "*      Searches trees of linked namespace objects\n",
        "*      Search is DFLR (except in diamonds), per order in class headers\n",
        "*      Class objects: supers and subs\n",
        "*      Instance objects: generated from a class\n",
        "*      Classes can also define expression behavior"
      ]
    },
    {
      "cell_type": "markdown",
      "metadata": {
        "id": "yL9RhA-M7jaA",
        "colab_type": "text"
      },
      "source": [
        "![classes](https://learning-python.com/class/Workbook/unit07_files/image002.gif)\n",
        "\n",
        "```python\n",
        "class C1: # make class objects (ovals)\n",
        "class C2:\n",
        "class C3(C1, C2): # links to superclasses, search order\n",
        " \n",
        "\n",
        "I1 = C3() # make instance objects (rectangles)\n",
        "I2 = C3() # linked to their class\n",
        "I1.x # finds customized version in C3\n",
        "```"
      ]
    },
    {
      "cell_type": "markdown",
      "metadata": {
        "id": "r8U6luQg6eNS",
        "colab_type": "text"
      },
      "source": [
        "**Why OOP?**\n",
        "\n",
        "*      OOP great at code reuse, structure, and encapsulation\n",
        "*      Program by customizing in new levels of hierarchy, not changing\n",
        "*      Extra structure of classes virtually required once programs hit 1K lines (see frigcal)\n",
        "*      Inheritance: basis of specializing, customizing softwarelower in tree means customization\n",
        "*      Example: an employee database app company, departments, employees\n",
        "*      Much more complete than functional paradigm (though the two can often work together)\n"
      ]
    },
    {
      "cell_type": "markdown",
      "metadata": {
        "id": "y-eEQkE075H4",
        "colab_type": "text"
      },
      "source": [
        "###A first look: class basics\n"
      ]
    },
    {
      "cell_type": "markdown",
      "metadata": {
        "id": "KHVTyisW78Wg",
        "colab_type": "text"
      },
      "source": [
        "*   Multiple Instances\n",
        "*   Specialization by inheritance\n",
        "*   Implementing operators"
      ]
    },
    {
      "cell_type": "markdown",
      "metadata": {
        "id": "wocseSQJ8DAo",
        "colab_type": "text"
      },
      "source": [
        "1. Classes generate multiple instance objects\n",
        "\n",
        "*      Classes implement new objects: state + behavior\n",
        "*      Calling a class like a function makes a new instance\n",
        "*      Each instance inherits class attributes, and gets its own\n",
        "*      Assignments in class statements make class attributes\n",
        "*      Assignments to self.attr make per-instance attributes"
      ]
    },
    {
      "cell_type": "code",
      "metadata": {
        "id": "Jgub2Nyy9cu1",
        "colab_type": "code",
        "colab": {
          "base_uri": "https://localhost:8080/",
          "height": 51
        },
        "outputId": "152a4c76-0b73-4b39-c506-ee56a3f85409"
      },
      "source": [
        "class FirstClass: # define a class object\n",
        "  def setdata(self, value): # define class methods\n",
        "    self.data = value # self is the instance\n",
        " \n",
        "  def display(self):\n",
        "    print(self.data) # self.data: per instance\n",
        "\n",
        "    \n",
        "x = FirstClass() # make two instances\n",
        "y = FirstClass() # each is a new namespace\n",
        " \n",
        "x.setdata(\"King Arthur\") # call methods: self=x/y\n",
        "y.setdata(3.14159)\n",
        " \n",
        "\n",
        "x.display() # self.data differs in each\n",
        "y.display()"
      ],
      "execution_count": 1,
      "outputs": [
        {
          "output_type": "stream",
          "text": [
            "King Arthur\n",
            "3.14159\n"
          ],
          "name": "stdout"
        }
      ]
    },
    {
      "cell_type": "code",
      "metadata": {
        "id": "hh_owqZ-9mq4",
        "colab_type": "code",
        "colab": {
          "base_uri": "https://localhost:8080/",
          "height": 34
        },
        "outputId": "837f7fd2-3088-4de7-d9e1-fa574b1da951"
      },
      "source": [
        "x.data = \"New value\" # can get/set attributes\n",
        "x.display() # outside the class too"
      ],
      "execution_count": 2,
      "outputs": [
        {
          "output_type": "stream",
          "text": [
            "New value\n"
          ],
          "name": "stdout"
        }
      ]
    },
    {
      "cell_type": "markdown",
      "metadata": {
        "id": "LZSTl1Up9vVg",
        "colab_type": "text"
      },
      "source": [
        "![2classes](https://learning-python.com/class/Workbook/unit07_files/image004.gif)"
      ]
    },
    {
      "cell_type": "markdown",
      "metadata": {
        "id": "CbKEzMOu92vB",
        "colab_type": "text"
      },
      "source": [
        "**The worlds simplest Python class?**"
      ]
    },
    {
      "cell_type": "code",
      "metadata": {
        "id": "yQsQJ_T16eNS",
        "colab_type": "code",
        "colab": {}
      },
      "source": [
        "# an empty class, class and instance attrs filled in later\n",
        " \n",
        "\n",
        " class rec: pass # empty namespace object\n",
        " \n",
        "\n",
        " rec.name = 'Bob' # just objects with attributes\n",
        " rec.age = 40\n",
        "\n",
        " print rec.name # like a struct in C, a record\n",
        "Bob\n",
        " \n",
        "\n",
        " x = rec() # instances inherit class names\n",
        " y = rec()\n",
        " x.name, y.name\n",
        "('Bob', 'Bob')\n",
        " \n",
        "\n",
        " x.name = 'Sue' # but assignment changes x only\n",
        " rec.name, x.name, y.name\n",
        "('Bob', 'Sue', 'Bob')\n",
        " \n",
        "\n",
        " \n",
        "\n",
        " \n",
        "\n",
        "# really just linked dictionaries\n",
        " \n",
        "\n",
        " rec.__dict__.keys()\n",
        "['age', '__module__', '__doc__', 'name']\n",
        " x.__dict__.keys()\n",
        "['name']\n",
        " y.__dict__.keys()\n",
        "[]\n",
        " x.__class__\n",
        "<class __main__.rec at 0x00BAFF60>\n",
        " \n",
        "\n",
        " \n",
        "\n",
        " \n",
        "\n",
        "# even methods can be created on the fly (but not typical)\n",
        " \n",
        "\n",
        " def upperName(self):\n",
        "return self.name.upper() # still needs a self\n",
        " \n",
        "\n",
        " rec.method = upperName\n",
        " x.method()\n",
        "'SUE'\n",
        " y.method() # run method to process y\n",
        "'BOB'\n",
        " rec.method(x) # can call through instance or class\n",
        "'SUE'\n",
        " ```\n",
        "\n",
        " \n",
        "\n",
        " \n",
        "\n",
        " \n",
        "\n",
        " \n",
        "\n",
        " \n",
        "\n",
        "2. Classes are specialized by inheritance\n",
        " \n",
        "\n",
        "*      Superclasses listed in parenthesis in class's header\n",
        "*      Classes inherit attributes from their superclasses\n",
        "*      Instances inherit attributes from all accessible classes\n",
        "*      Logic changes made in subclasses, not in-place\n",
        " \n",
        "\n",
        " \n",
        "\n",
        " \n",
        "\n",
        " \n",
        "\n",
        "```python\n",
        " class SecondClass(FirstClass): # inherits setdata\n",
        " def display(self): # changes display\n",
        " print 'Current value = \"%s\"' % self.data\n",
        " \n",
        "\n",
        " \n",
        "\n",
        " z = SecondClass()\n",
        " z.setdata(42) # setdata found in FirstClass\n",
        " \n",
        "\n",
        " z.display() # finds/calls overridden method\n",
        "Current value = \"42\"\n",
        " \n",
        "\n",
        " x.display() # x is a FirstClass instance\n",
        "New value\n",
        " \n"
      ],
      "execution_count": 0,
      "outputs": []
    },
    {
      "cell_type": "markdown",
      "metadata": {
        "id": "7nZBKGAk6eNV",
        "colab_type": "text"
      },
      "source": [
        "3. Classes can intercept Python operators\n",
        " \n",
        "\n",
        "*      Methods with names like \"__X__\" are special hooks\n",
        "*      Called automatically when Python evaluates operators\n",
        "*      Classes may override most built-in type operations\n",
        "*      Allows classes to integrate with Python's object model"
      ]
    },
    {
      "cell_type": "code",
      "metadata": {
        "id": "FD7kOIgT6eNW",
        "colab_type": "code",
        "colab": {}
      },
      "source": [
        " class ThirdClass(SecondClass): # isa SecondClass\n",
        " def __init__(self, value): # \"ThirdClass(x)\"\n",
        " self.data = value\n",
        " def __add__(self, other): # \"self + other\"\n",
        " return ThirdClass(self.data + other)\n",
        " def __mul__(self, other):\n",
        " self.data = self.data * other # \"self * other\"\n",
        " \n",
        "\n",
        " \n",
        "\n",
        " a = ThirdClass(\"abc\") # new __init__ called\n",
        " a.display() # inherited method\n",
        "Current value = \"abc\"\n",
        " \n",
        "\n",
        " b = a + 'xyz' # new __add__ called\n",
        " b.display()\n",
        "Current value = \"abcxyz\"\n",
        " \n",
        "\n",
        " a * 3 # new __mul__ called\n",
        " a.display()\n",
        "Current value = \"abcabcabc\"\n",
        " \n"
      ],
      "execution_count": 0,
      "outputs": []
    },
    {
      "cell_type": "markdown",
      "metadata": {
        "id": "_kCEMLLR6eNY",
        "colab_type": "text"
      },
      "source": [
        "Demo: A More Realistic Example\n",
        "Using class instance objects as database records\n",
        "Key ideas: __init__, methods, operators, subclass, shelves\n",
        "See Extras\\Code\\people for code, or work along live\n",
        " \n",
        "\n",
        " \n",
        "\n",
        " \n",
        "\n",
        " \n",
        "\n",
        " \n",
        "\n",
        " \n",
        "\n",
        " \n",
        "\n",
        " \n",
        "\n",
        "###A closer look: class terminology\n",
        "\n",
        " \n",
        "\n",
        " \n",
        "\n",
        "→ Dynamic typing and polymorphism are keys to Python\n",
        "→ self and __init__ are key concepts in Python OOP\n",
        " \n",
        "\n",
        " \n",
        "\n",
        " \n",
        "\n",
        "*     Class\n",
        "*      An object (and statement) which defines inherited members and methods\n",
        "*     Instance\n",
        "*      Objects created from a class, which inherit its attributes; each instance is a new namespace\n",
        "*     Member\n",
        "*      An attribute of a class or instance object, thats bound to an object\n",
        "*     Method\n",
        "*      An attribute of a class object, thats bound to a function object (a callable member)\n",
        "*     Self\n",
        "*      By convention, the name given to the implied instance object in methods\n",
        "*     Inheritance\n",
        "*      When an instance or class accesses a classs attributes\n",
        "*     Superclass\n",
        "*      Class or classes another class inherits attributes from\n",
        "*     Subclass\n",
        "*      Class which inherits attribute names from another class\n",
        "\n",
        " \n",
        "\n",
        " \n",
        "\n",
        " \n",
        "\n",
        " \n",
        "\n",
        "###Using the class statement\n",
        "\n",
        " \n",
        "\n",
        "*     Pythons main OOP tool (like C++)\n",
        "*     Superclasses are listed in parenthesis\n",
        "*     Special protocols, operator overloading: __X__\n",
        "*     Multiple inheritance: class X(A, B, C)\n",
        "*     Search = DFLR, except for new-style BF in diamonds\n",
        " \n",
        "\n",
        " \n",
        "\n",
        "General form"
      ]
    },
    {
      "cell_type": "code",
      "metadata": {
        "id": "_FblVmEK6eNZ",
        "colab_type": "code",
        "colab": {}
      },
      "source": [
        "\n",
        "class <name>(superclass,): # assign to name\n",
        "data = value # shared class data\n",
        "def method(self,): # methods\n",
        "self.member = value # per-instance data\n",
        " \n"
      ],
      "execution_count": 0,
      "outputs": []
    },
    {
      "cell_type": "markdown",
      "metadata": {
        "id": "nUYgrLAa6eNc",
        "colab_type": "text"
      },
      "source": [
        "Example\n",
        " \n",
        "\n",
        "*      class introduces a new local scope\n",
        "*      Assignments in class create class object attributes\n",
        "*      self.name = X creates/changes instance attribute"
      ]
    },
    {
      "cell_type": "code",
      "metadata": {
        "id": "REqvul0m6eNd",
        "colab_type": "code",
        "colab": {}
      },
      "source": [
        "\n",
        " \n",
        "\n",
        "class Subclass(Superclass): # define subclass\n",
        "data = 'spam' # assign class attr\n",
        "def __init__(self, value): # assign class attr\n",
        "self.data = value # assign instance attr\n",
        "def display(self):\n",
        "print self.data, Subclass.data # instance, class\n",
        " \n",
        "\n",
        " x, y = Subclass(1), Subclass(2)\n",
        " x.display(); y.display()\n",
        "1 spam\n",
        "2 spam\n",
        "\n",
        " \n",
        "\n",
        " \n",
        "\n",
        " \n",
        "\n",
        " \n",
        "\n",
        "\n"
      ],
      "execution_count": 0,
      "outputs": []
    },
    {
      "cell_type": "markdown",
      "metadata": {
        "id": "YIKYt-UsItz_",
        "colab_type": "text"
      },
      "source": [
        "###Using class methods"
      ]
    },
    {
      "cell_type": "markdown",
      "metadata": {
        "id": "wwbeMbun6eNf",
        "colab_type": "text"
      },
      "source": [
        "*     class statement creates and assigns a class object\n",
        "*     Calling a class object generates an instance object\n",
        "*     Class methods provide behavior for instance objects\n",
        "*     Methods are nested def functions, with a self\n",
        "*     self is passed the implied instance object\n",
        "*     Methods are all public and virtual in C++ terms\n",
        " \n",
        "\n",
        " \n",
        "\n",
        " \n",
        "\n",
        "\n",
        " \n",
        "\n",
        " \n",
        "\n",
        " \n",
        "\n",
        " \n",
        "\n",
        "Example"
      ]
    },
    {
      "cell_type": "code",
      "metadata": {
        "id": "DwvCKram6eNg",
        "colab_type": "code",
        "colab": {}
      },
      "source": [
        "class NextClass: # define class\n",
        "def printer(self, text): # define method\n",
        "print text\n",
        " \n",
        "\n",
        " x = NextClass() # make instance\n",
        " x.printer('Hello world!') # call its method\n",
        "Hello world!\n",
        " \n",
        "\n",
        " NextClass.printer(x, 'Hello world!') # class method\n",
        "Hello world!\n",
        " \n"
      ],
      "execution_count": 0,
      "outputs": []
    },
    {
      "cell_type": "markdown",
      "metadata": {
        "id": "NvOg9axJ6eNi",
        "colab_type": "text"
      },
      "source": [
        "Commonly used for calling superclass constructors"
      ]
    },
    {
      "cell_type": "code",
      "metadata": {
        "id": "F3iQWjmB6eNj",
        "colab_type": "code",
        "colab": {}
      },
      "source": [
        "class Super:\n",
        "def __init__(self, x):\n",
        "default code\n",
        " \n",
        "\n",
        "class Sub(Super):\n",
        "def __init__(self, x, y):\n",
        "Super.__init__(self, x) # run superclass init\n",
        "custom code # do my init actions\n",
        " \n",
        "\n",
        "I = Sub(1, 2)\n",
        " \n",
        "\n",
        " \n",
        "\n",
        "# See also: super() built-in for generic superclass access\n",
        "# But this call has major issues in multiple-inheritance trees\n",
        "# For more details, see LP5E and the last part of this PDF\n",
        "\n",
        " \n",
        "\n",
        " \n"
      ],
      "execution_count": 0,
      "outputs": []
    },
    {
      "cell_type": "markdown",
      "metadata": {
        "id": "CJ5rLovP6eNl",
        "colab_type": "text"
      },
      "source": [
        "###Customization via inheritance\n",
        "\n",
        " \n",
        "\n",
        "*     Inheritance uses attribute definition tree (namespaces)\n",
        "*     object.attr searches up namespace tree for first attr\n",
        "*     Lower definitions in the tree override higher ones\n",
        " \n",
        "\n",
        " \n",
        "\n",
        "Attribute tree construction:\n",
        " \n",
        "\n",
        "1.    Instance → assignments to self attributes\n",
        "2.    Class → statements (assignments) in class statements\n",
        "3.    Superclasses → classes listed in parenthesis in header\n",
        " \n",
        "\n",
        " \n",
        "\n",
        " \n",
        "\n",
        "\n",
        " \n",
        "\n",
        " \n",
        "\n",
        " \n",
        "\n",
        "\n",
        " \n",
        "\n",
        "###Specializing inherited methods\n",
        "\n",
        " \n",
        "\n",
        "*     Inheritance finds names in subclass before superclass\n",
        "*     Subclasses may inherit, replace, extend, or provide\n",
        "*     Direct superclass method calls: Class.method(self,)"
      ]
    },
    {
      "cell_type": "code",
      "metadata": {
        "id": "3B81a5qd6eNm",
        "colab_type": "code",
        "colab": {}
      },
      "source": [
        " class Super:\n",
        " def method(self):\n",
        " print 'in Super.method'\n",
        "\n",
        " class Sub(Super):\n",
        " def method(self):\n",
        " print 'starting Sub.method'\n",
        " Super.method(self)\n",
        " print 'ending Sub.method'\n",
        "\n",
        " x = Super()\n",
        " x.method()\n",
        "in Super.method\n",
        " x = Sub()\n",
        " x.method()\n",
        "starting Sub.method\n",
        "in Super.method\n",
        "ending Sub.method\n",
        " \n"
      ],
      "execution_count": 0,
      "outputs": []
    },
    {
      "cell_type": "markdown",
      "metadata": {
        "id": "1JH2AbGm6eNq",
        "colab_type": "text"
      },
      "source": [
        "file: specialize.py"
      ]
    },
    {
      "cell_type": "code",
      "metadata": {
        "id": "NJDAS1aH6eNr",
        "colab_type": "code",
        "colab": {}
      },
      "source": [
        "\n",
        "class Super:\n",
        "def method(self):\n",
        "print 'in Super.method' # default\n",
        "def delegate(self):\n",
        "self.action() # expected\n",
        " \n",
        "\n",
        "class Inheritor(Super):\n",
        "pass\n",
        " \n",
        "\n",
        "class Replacer(Super):\n",
        "def method(self):\n",
        "print 'in Replacer.method'\n",
        " \n",
        "\n",
        "class Extender(Super):\n",
        "def method(self):\n",
        "print 'starting Extender.method'\n",
        "Super.method(self)\n",
        "print 'ending Extender.method'\n",
        " \n",
        "\n",
        "class Provider(Super):\n",
        "def action(self):\n",
        "print 'in Provider.action'\n",
        " \n",
        "\n",
        "if __name__ == '__main__':\n",
        "for klass in (Inheritor, Replacer, Extender):\n",
        "print '\\n' + klass.__name__ + ''\n",
        "klass().method()\n",
        "print '\\nProvider'\n",
        "Provider().delegate()\n",
        " \n"
      ],
      "execution_count": 0,
      "outputs": []
    },
    {
      "cell_type": "code",
      "metadata": {
        "id": "QjdisL6F6eNu",
        "colab_type": "code",
        "colab": {}
      },
      "source": [
        "\n",
        "% python specialize.py"
      ],
      "execution_count": 0,
      "outputs": []
    },
    {
      "cell_type": "code",
      "metadata": {
        "id": "tcvk1qGB6eNw",
        "colab_type": "code",
        "colab": {}
      },
      "source": [
        "Inheritor\n",
        "in Super.method\n",
        " \n",
        "\n",
        "Replacer\n",
        "in Replacer.method\n",
        " \n",
        "\n",
        "Extender\n",
        "starting Extender.method\n",
        "in Super.method\n",
        "ending Extender.method\n",
        " \n",
        "\n",
        "Provider\n",
        "in Provider.action\n",
        "\n",
        " \n"
      ],
      "execution_count": 0,
      "outputs": []
    },
    {
      "cell_type": "markdown",
      "metadata": {
        "id": "sYrwnSNq6eNy",
        "colab_type": "text"
      },
      "source": [
        "###Operator overloading in classes\n",
        "\n",
        " \n",
        "\n",
        " \n",
        "\n",
        "*     Lets classes intercept normal Python operations\n",
        "*     Can overload all Python expression operators\n",
        "*     Can overload object operations: print, call, qualify,\n",
        "*     Makes class instances more like built-in types\n",
        "*     Via providing specially-named class methods"
      ]
    },
    {
      "cell_type": "code",
      "metadata": {
        "id": "sGvR4BIO6eNz",
        "colab_type": "code",
        "colab": {}
      },
      "source": [
        "class Number:\n",
        "def __init__(self, start): # on Number()\n",
        "self.data = start\n",
        "def __add__(self, other): # on x + other\n",
        "return Number(self.data + other)\n",
        " \n"
      ],
      "execution_count": 0,
      "outputs": []
    },
    {
      "cell_type": "code",
      "metadata": {
        "id": "BKNCdvbS6eN1",
        "colab_type": "code",
        "colab": {}
      },
      "source": [
        " X = Number(4)\n",
        " Y = X + 2\n",
        " Y.data\n",
        "6\n",
        "\n",
        " \n"
      ],
      "execution_count": 0,
      "outputs": []
    },
    {
      "cell_type": "code",
      "metadata": {
        "id": "4nuR07dD6eN3",
        "colab_type": "code",
        "colab": {}
      },
      "source": [
        "\n",
        " \n"
      ],
      "execution_count": 0,
      "outputs": []
    },
    {
      "cell_type": "markdown",
      "metadata": {
        "id": "1G9Kzcov6eN6",
        "colab_type": "text"
      },
      "source": [
        "Common operator overloading methods\n",
        " \n",
        "\n",
        " \n",
        "\n",
        "*     Special method names have 2 _ before and after\n",
        "*     See Python manuals or reference books for the full set\n",
        " \n",
        "\n",
        " \n",
        "\n",
        "Method\n",
        "Overloads\n",
        "Called for\n",
        "__init__\n",
        "Constructor\n",
        "object creation: X()\n",
        "__del__\n",
        "Destructor\n",
        "object reclamation\n",
        "__add__\n",
        "operator +\n",
        "X + Y\n",
        "__or__\n",
        "operator |\n",
        "X | Y\n",
        "__repr__\n",
        "Printing\n",
        "print X, `X`\n",
        "__call__\n",
        "function calls\n",
        "X()\n",
        "__getattr__\n",
        "Qualification\n",
        "X.undefined\n",
        "__getitem__\n",
        "Indexing\n",
        "X[key], iteration, in\n",
        "__setitem__\n",
        "Qualification\n",
        "X[key] = value\n",
        "__len__\n",
        "Length\n",
        "len(X), truth tests\n",
        "__cmp__\n",
        "Comparison, 2.X\n",
        "X == Y, X < Y\n",
        "__radd__\n",
        "operator +\n",
        "non-instance + X\n",
        "__iter__\n",
        "iteration\n",
        "for item in X, I=iter(X)\n",
        "__next__\n",
        "iteration\n",
        "next(I)\n",
        " \n",
        "\n",
        " \n",
        "\n",
        " \n",
        "\n",
        " \n",
        "\n",
        "Examples\n",
        " \n",
        "\n",
        " \n",
        "\n",
        " \n",
        "\n",
        "*     call: a function interface, with memory"
      ]
    },
    {
      "cell_type": "code",
      "metadata": {
        "id": "EqEaOlw26eN7",
        "colab_type": "code",
        "colab": {}
      },
      "source": [
        " class Callback:\n",
        "def __init__(self, color): # state information\n",
        "self.color = color\n",
        "def __call__(self, *args): # support calls\n",
        "print 'turn', self.color\n",
        " \n",
        "\n",
        " cb1 = Callback('blue') # remember blue\n",
        " cb2 = Callback('green')\n",
        "\n",
        " Button(command=cb1,) # register handler\n",
        " \n",
        "\n",
        " cb1() # on events\n",
        "turn blue\n",
        " cb2()\n",
        "turn green\n",
        " cb3 = (lambda color='red': 'turn ' + color) # or: defaults\n",
        " cb3()\n",
        "'turn red'\n",
        " \n",
        "\n",
        " \n",
        "\n",
        " \n"
      ],
      "execution_count": 0,
      "outputs": []
    },
    {
      "cell_type": "markdown",
      "metadata": {
        "id": "xlO2Axwy6eN9",
        "colab_type": "text"
      },
      "source": [
        "*     getitem intercepts all index references"
      ]
    },
    {
      "cell_type": "code",
      "metadata": {
        "id": "TRD8rweg6eN-",
        "colab_type": "code",
        "colab": {}
      },
      "source": [
        " class indexer:\n",
        " def __getitem__(self, index):\n",
        " return index ** 2\n",
        "\n",
        " X = indexer()\n",
        " for i in range(5):\n",
        " print X[i], # __getitem__\n",
        "\n",
        "0 1 4 9 16\n",
        " \n"
      ],
      "execution_count": 0,
      "outputs": []
    },
    {
      "cell_type": "markdown",
      "metadata": {
        "id": "BAqhvydK6eOB",
        "colab_type": "text"
      },
      "source": [
        "*     getattr catches undefined attribute references"
      ]
    },
    {
      "cell_type": "code",
      "metadata": {
        "id": "pCsnos3c6eOC",
        "colab_type": "code",
        "colab": {}
      },
      "source": [
        " class empty:\n",
        " def __getattr__(self, attrname):\n",
        " return attrname + ' not supported!'\n",
        "\n",
        " X = empty()\n",
        " X.age # __getattr__\n",
        "'age not supported!'\n",
        " \n"
      ],
      "execution_count": 0,
      "outputs": []
    },
    {
      "cell_type": "markdown",
      "metadata": {
        "id": "jS98tGhD6eOG",
        "colab_type": "text"
      },
      "source": [
        "*     init called on instance creation\n",
        "*     add intercepts + expressions\n",
        "*     repr returns a string when called by print"
      ]
    },
    {
      "cell_type": "code",
      "metadata": {
        "id": "02OINAO06eOI",
        "colab_type": "code",
        "colab": {}
      },
      "source": [
        " class adder:\n",
        " def __init__(self, value=0):\n",
        " self.data = value # init data\n",
        " def __add__(self, other):\n",
        " self.data = self.data + other # add other\n",
        " def __repr__(self):\n",
        " return `self.data` # to string\n",
        "\n",
        " X = adder(1) # __init__\n",
        " X + 2; X + 2 # __add__\n",
        " X # __repr__\n",
        "5\n",
        "\n",
        " \n"
      ],
      "execution_count": 0,
      "outputs": []
    },
    {
      "cell_type": "markdown",
      "metadata": {
        "id": "SxQb0hUB6eOK",
        "colab_type": "text"
      },
      "source": [
        "*     iter called on start of iterations, auto or manual\n",
        "*     next called to fetch each item along the way"
      ]
    },
    {
      "cell_type": "code",
      "metadata": {
        "id": "deV3fwZD6eOL",
        "colab_type": "code",
        "colab": {}
      },
      "source": [
        "\n",
        " class squares:\n",
        " def __init__(self, start): # on squares()\n",
        " self.count = start\n",
        " def __iter__(self): # on iter()\n",
        " return self # or other object with state\n",
        " def __next__(self): # on next()\n",
        " if self.count == 1:\n",
        " raise StopIteration # end iteration\n",
        " else:\n",
        " self.count -= 1\n",
        " return self.count ** 2\n",
        "\n",
        " for i in squares(5): # automatic iterations\n",
        " print(i)\n",
        "\n",
        "16\n",
        "9\n",
        "\n",
        "4\n",
        "\n",
        "1\n",
        "\n",
        " S = squares(10) # manual iterations\n",
        " I = iter(S) # iter() optional if returns self\n",
        " next(I)\n",
        "81\n",
        " next(I)\n",
        "64\n",
        " list(I)\n",
        "[49, 36, 25, 16, 9, 4, 1]\n",
        " \n"
      ],
      "execution_count": 0,
      "outputs": []
    },
    {
      "cell_type": "markdown",
      "metadata": {
        "id": "43APBT846eOO",
        "colab_type": "text"
      },
      "source": [
        "*     Attribute access management\n",
        "■    setattr: partial attribute privacy for Python classes\n",
        "See Extras\\Code\\Misc\\privates.py on class CD"
      ]
    },
    {
      "cell_type": "code",
      "metadata": {
        "id": "gbC9Y-t16eOP",
        "colab_type": "code",
        "colab": {}
      },
      "source": [
        "\n",
        "■    getattr: full get/set attribute privacy for Python classes\n",
        "See Extras\\Code\\OOP\\access.py on class CD\n",
        " \n",
        "\n",
        " \n",
        "\n",
        " \n",
        "\n",
        " \n",
        "\n",
        " \n",
        "\n",
        "###Namespace rules: the whole story\n",
        "\n",
        " \n",
        "\n",
        "*     Unqualified names (X) deal with lexical scopes\n",
        "*     Qualified names (O.X) use object namespaces\n",
        "*     Scopes initialize object namespaces: modules, classes\n",
        " \n",
        "\n",
        " \n",
        "\n",
        " \n",
        "\n",
        "The Zen of Python Namespaces\n",
        " \n",
        "\n",
        " \n",
        "\n",
        "mod.py\n",
        "# all 5 Xs are different variables\n",
        " \n",
        "\n",
        "X = 1 # global\n",
        " \n",
        "\n",
        "def f():\n",
        "X = 2 # local\n",
        " \n",
        "\n",
        "class C:\n",
        "X = 3 # class\n",
        "def m(self):\n",
        "X = 4 # local\n",
        "self.X = 5 # instance\n",
        " \n",
        "\n",
        " \n",
        "\n",
        " \n",
        "\n",
        " \n",
        "\n",
        " \n",
        "\n",
        "Unqualified names: global unless assigned\n",
        " \n",
        "\n",
        "*     Assignment: X = value\n",
        "*      Makes names local: creates or changes name in the current local scope, unless declared global\n",
        " \n",
        "\n",
        "*     Reference: X\n",
        "*      Looks for names in the current local scope, then the current global scope, then the outer built-in scope\n",
        " \n",
        "\n",
        " \n",
        "\n",
        " \n",
        "\n",
        "Qualified names: object name-spaces\n",
        " \n",
        "\n",
        "*     Assignment: X.name = value\n",
        "*      Creates or alters the attribute name in the namespace of the object being qualified\n",
        " \n",
        "\n",
        "*     Reference: X.name\n",
        "*      Searches for the attribute name in the object, and then all accessible classes above it (none for modules)\n",
        " \n",
        "\n",
        "\n",
        " \n",
        "\n",
        "Namespace dictionaries\n",
        " \n",
        "\n",
        " \n",
        "\n",
        "*     Object name-spaces: built-in __dict__ attributes\n",
        "*     Qualification == indexing a name-space dictionary\n",
        " \n",
        "\n",
        "*      To get a name from a module M:\n",
        "```python\n",
        "►    M.name\n",
        "►    M.__dict__['name']\n",
        "►    sys.modules['M'].name\n",
        "►    sys.modules['M'].__dict__['name']\n",
        "►    sys.__dict__['modules']['M'].__dict__['name']\n",
        " \n"
      ],
      "execution_count": 0,
      "outputs": []
    },
    {
      "cell_type": "markdown",
      "metadata": {
        "id": "HiJqUIZ_6eOR",
        "colab_type": "text"
      },
      "source": [
        "*     Attribute inheritance == searching dictionaries"
      ]
    },
    {
      "cell_type": "code",
      "metadata": {
        "id": "_4ulJrK36eOS",
        "colab_type": "code",
        "colab": {}
      },
      "source": [
        " class super:\n",
        " def hello(self):\n",
        " self.data = 'spam' # in self.__dict__\n",
        "\n",
        " class sub(super):\n",
        " def howdy(self): pass\n",
        "\n",
        " X = sub()\n",
        " X.__dict__ # a new name-space/dict\n",
        "{}\n",
        " X.hola = 42 # add member to X object\n",
        " X.__dict__\n",
        "{'hola': 42}\n",
        " \n",
        "\n",
        " sub.__dict__\n",
        "{'__doc__': None, 'howdy': <function howdy at 762100>}\n",
        " \n",
        "\n",
        " super.__dict__\n",
        "{'hello': <function hello at 769fd0>, '__doc__': None}\n",
        " \n",
        "\n",
        " X.hello()\n",
        " X.__dict__\n",
        "{'data': 'spam', 'hola': 42}\n",
        "\n",
        " \n"
      ],
      "execution_count": 0,
      "outputs": []
    },
    {
      "cell_type": "markdown",
      "metadata": {
        "id": "4JjZWWl-6eOU",
        "colab_type": "text"
      },
      "source": [
        "###Optional reading: OOP and inheritance\n",
        "\n",
        "*     Inheritance based on attribute qualification\n",
        "*     In OOP terminology: is-a relationship\n",
        "*     On X.name, looks for name in:\n",
        "1.   Instance ←Xs own name-space\n",
        "2.   Class ←class that X was made from\n",
        "3.   Superclasses ←depth-first, left-to-right\n",
        " \n",
        "\n",
        " \n",
        "\n",
        " \n",
        "\n",
        "Example: a zoo hierarchy in Python\n",
        " \n",
        "\n",
        " \n",
        "\n",
        "file: zoo.py"
      ]
    },
    {
      "cell_type": "code",
      "metadata": {
        "id": "YmecthRJ6eOV",
        "colab_type": "code",
        "colab": {}
      },
      "source": [
        "class Animal:\n",
        "def reply(self): self.speak()\n",
        "def speak(self): print 'spam'\n",
        " \n",
        "\n",
        "class Mammal(Animal):\n",
        "def speak(self): print 'huh?'\n",
        " \n",
        "\n",
        "class Cat(Mammal):\n",
        "def speak(self): print 'meow'\n",
        " \n",
        "\n",
        "class Dog(Mammal):\n",
        "def speak(self): print 'bark'\n",
        " \n",
        "\n",
        "class Primate(Mammal):\n",
        "def speak(self): print 'Hello world!'\n",
        " \n",
        "\n",
        "class Hacker(Primate): pass\n",
        " \n"
      ],
      "execution_count": 0,
      "outputs": []
    },
    {
      "cell_type": "code",
      "metadata": {
        "id": "74ItPZpY6eOY",
        "colab_type": "code",
        "colab": {}
      },
      "source": [
        "% python\n",
        " from zoo import Cat, Hacker\n",
        " spot = Cat()\n",
        " spot.reply() # Animal.reply, Cat.speak\n",
        "meow\n",
        " data = Hacker() # Animal.reply, Primate.speak\n",
        " data.reply()\n",
        "Hello world!\n",
        " \n"
      ],
      "execution_count": 0,
      "outputs": []
    },
    {
      "cell_type": "markdown",
      "metadata": {
        "id": "8CshHgpM6eOa",
        "colab_type": "text"
      },
      "source": [
        "###Optional reading: OOP and composition\n",
        "\n",
        "*     Class instances simulate objects in a domain\n",
        "*     Nouns→classes, verbs→methods\n",
        "*     Class objects embed and activate other objects\n",
        "*     In OOP terminology: has-a relationship\n",
        " \n",
        "\n",
        " \n",
        "\n",
        "Example: the dead-parrot skit in Python\n",
        " \n",
        "\n",
        "file: parrot.py"
      ]
    },
    {
      "cell_type": "code",
      "metadata": {
        "id": "DNdHbbcd6eOb",
        "colab_type": "code",
        "colab": {}
      },
      "source": [
        "\n",
        "class Actor:\n",
        "def line(self): print self.name + ':', `self.says()`\n",
        " \n",
        "\n",
        "class Customer(Actor):\n",
        "name = 'customer'\n",
        "def says(self): return \"that's one ex-bird!\"\n",
        " \n",
        "\n",
        "class Clerk(Actor):\n",
        "name = 'clerk'\n",
        "def says(self): return \"no it isn't\"\n",
        " \n",
        "\n",
        "class Parrot(Actor):\n",
        "name = 'parrot'\n",
        "def says(self): return None\n",
        " \n",
        "\n",
        "class Scene:\n",
        "def __init__(self):\n",
        "self.clerk = Clerk() # embed some instances\n",
        "self.customer = Customer() # Scene is a composite\n",
        "self.subject = Parrot()\n",
        " \n",
        "\n",
        "def action(self):\n",
        "self.customer.line() # delegate to embedded\n",
        "self.clerk.line()\n",
        "self.subject.line()\n",
        " \n"
      ],
      "execution_count": 0,
      "outputs": []
    },
    {
      "cell_type": "code",
      "metadata": {
        "id": "6-RFYNjh6eOe",
        "colab_type": "code",
        "colab": {}
      },
      "source": [
        "% python\n",
        " import parrot\n",
        " parrot.Scene().action() # activate nested objects\n",
        "customer: \"that's one ex-bird!\"\n",
        "clerk: \"no it isn't\"\n",
        "parrot: None\n",
        " \n"
      ],
      "execution_count": 0,
      "outputs": []
    },
    {
      "cell_type": "markdown",
      "metadata": {
        "id": "p4ZUWL4F6eOi",
        "colab_type": "text"
      },
      "source": [
        "###Classes are objects: factories\n",
        "\n",
        " \n",
        "\n",
        "*     Everything is a first-class object\n",
        "*     Only objects derived from classes are OOP objects\n",
        "*     Classes can be passed around as data objects"
      ]
    },
    {
      "cell_type": "code",
      "metadata": {
        "id": "K5NtwG916eOj",
        "colab_type": "code",
        "colab": {}
      },
      "source": [
        "def factory(aClass, *args): # varargs tuple\n",
        "return apply(aClass, args) # call aClass\n",
        " \n",
        "\n",
        "class Spam:\n",
        "def doit(self, message):\n",
        "print message\n",
        " \n",
        "\n",
        "class Person:\n",
        "def __init__(self, name, job):\n",
        "self.name = name\n",
        "self.job = job\n",
        " \n",
        "\n",
        "object1 = factory(Spam) # make a Spam\n",
        "object2 = factory(Person, \"Guido\", \"guru\") # make a Person\n",
        " \n"
      ],
      "execution_count": 0,
      "outputs": []
    },
    {
      "cell_type": "markdown",
      "metadata": {
        "id": "vGDfYA2d6eOn",
        "colab_type": "text"
      },
      "source": [
        "###Methods are objects: bound or unbound\n",
        "\n",
        " \n",
        "\n",
        "*     Unbound class methods: call with a self\n",
        "*     Bound instance methods: instance + method pairs"
      ]
    },
    {
      "cell_type": "code",
      "metadata": {
        "id": "bC9TkuDV6eOo",
        "colab_type": "code",
        "colab": {}
      },
      "source": [
        "object1 = Spam()\n",
        "x = object1.doit # bound method object\n",
        "x('hello world') # instance is implied\n",
        " \n",
        "\n",
        "t = Spam.doit # unbound method object\n",
        "t(object1, 'howdy') # pass in instance\n",
        "\n",
        " \n"
      ],
      "execution_count": 0,
      "outputs": []
    },
    {
      "cell_type": "markdown",
      "metadata": {
        "id": "RFGkvoZi6eOq",
        "colab_type": "text"
      },
      "source": [
        "###Odds and ends\n",
        "\n",
        " \n",
        "\n",
        " \n",
        "\n",
        "Pseudo-private attributes\n",
        " \n",
        "\n",
        "*     Data hiding is a convention (until Python1.5 or later)\n",
        "*     Were all consenting adults Pythons BDFL\n",
        "*     1.5 name mangling: self.__X → self._Class__X\n",
        "*     Class name prefix makes names unique in self instance\n",
        "*     Only works in class, and only if at most 1 trailing _\n",
        "*     Mostly for larger, multi-programmer, OO projects\n",
        "*     See __getattr__ above for implementing full privacy"
      ]
    },
    {
      "cell_type": "code",
      "metadata": {
        "id": "YSBqUsFs6eOr",
        "colab_type": "code",
        "colab": {}
      },
      "source": [
        "class C1:\n",
        "def meth1(self): self.__X = 88 # now X is mine\n",
        "def meth2(self): print self.__X # becomes _C1__X in I\n",
        " \n",
        "\n",
        "class C2:\n",
        "def metha(self): self.__X = 99 # me too\n",
        "def methb(self): print self.__X # becomes _C2__X in I\n",
        " \n",
        "\n",
        "class C3(C1, C2): pass\n",
        "I = C3() # two X names in I\n",
        " \n",
        "\n",
        "I.meth1(); I.metha()\n",
        "print I.__dict__\n",
        "I.meth2(); I.methb()\n",
        " \n",
        "\n",
        "% python private.py\n",
        "{'_C2__X': 99, '_C1__X': 88}\n",
        "88\n",
        "99\n",
        " \n"
      ],
      "execution_count": 0,
      "outputs": []
    },
    {
      "cell_type": "markdown",
      "metadata": {
        "id": "MBSrDR5T6eOu",
        "colab_type": "text"
      },
      "source": [
        "Documentation strings\n",
        " \n",
        "\n",
        "*     Still not universally used (but very close!)\n",
        "*     Woks for classes, modules, functions, methods\n",
        "*      String constant before any statements\n",
        "*      Stored in objects __doc__ attribute\n",
        " \n",
        "\n",
        " \n",
        "\n",
        "file: docstr.py"
      ]
    },
    {
      "cell_type": "code",
      "metadata": {
        "id": "uEtpnQ2F6eOv",
        "colab_type": "code",
        "colab": {}
      },
      "source": [
        "\n",
        "\"I am: docstr.__doc__\"\n",
        " \n",
        "\n",
        "class spam:\n",
        "\"I am: spam.__doc__ or docstr.spam.__doc__\"\n",
        " \n",
        "\n",
        "def method(self, arg):\n",
        "\"I am: spam.method.__doc__ or self.method.__doc__\"\n",
        "code\n",
        " \n",
        "\n",
        "def func(args):\n",
        "\"I am: docstr.func.__doc__\"\n",
        "code\n",
        "\n",
        " \n"
      ],
      "execution_count": 0,
      "outputs": []
    },
    {
      "cell_type": "markdown",
      "metadata": {
        "id": "6WrbNl7X6eOw",
        "colab_type": "text"
      },
      "source": [
        "Classes versus modules\n",
        " \n",
        "\n",
        " \n",
        "\n",
        "*     Modules\n",
        "*     Are data/logic packages\n",
        "*     Creation: files or extensions\n",
        "*     Usage: imported\n",
        " \n",
        "\n",
        "*     Classes\n",
        "*     Implement new objects\n",
        "*     Always live in a module\n",
        "*     Creation: statements\n",
        "*     Usage: called\n",
        " \n",
        "\n",
        " \n",
        "\n",
        " \n",
        "\n",
        " \n",
        "\n",
        " \n",
        "\n",
        "OOP and Python\n",
        " \n",
        "\n",
        " \n",
        "\n",
        "*     Inheritance\n",
        "*      Based on attribute lookup: X.name\n",
        "*     Polymorphism\n",
        "*      In X.method(), the meaning of method depends on the type (class) of X\n",
        "*     Encapsulation\n",
        "*      Methods and operators implement behavior; data hiding is a convention (for now)"
      ]
    },
    {
      "cell_type": "code",
      "metadata": {
        "id": "rUwjOG-o6eOx",
        "colab_type": "code",
        "colab": {}
      },
      "source": [
        "\n",
        "class C:\n",
        "def meth(self, x): # like x=1; x=2\n",
        "def meth(self, x, y, z): # the last one wins!\n",
        " \n",
        "\n",
        "class C:\n",
        "def meth(self, *args):\n",
        "if len(args) == 1:\n",
        "elif type(arg[0]) == int:\n",
        " \n",
        "\n",
        "class C:\n",
        "def meth(self, x): # the python way:\n",
        "x.operation() # assume x does the right thing\n",
        " \n"
      ],
      "execution_count": 0,
      "outputs": []
    },
    {
      "cell_type": "markdown",
      "metadata": {
        "id": "7hOR1tmv6eO0",
        "colab_type": "text"
      },
      "source": [
        "Pythons dynamic nature\n",
        " \n",
        "\n",
        "*      Members may be added/changed outside class methods"
      ]
    },
    {
      "cell_type": "code",
      "metadata": {
        "id": "P5lHmG7V6eO1",
        "colab_type": "code",
        "colab": {}
      },
      "source": [
        " class C: pass\n",
        "\n",
        " X = C()\n",
        " X.name = 'bob'\n",
        " X.job = 'psychologist'\n",
        " \n",
        "\n",
        "*     ```\n",
        "Scopes may be expanded dynamically: run-time binding\n",
        "file: delayed.py\n",
        "```python\n",
        "def printer():\n",
        "print message # name resolved when referenced\n",
        " \n"
      ],
      "execution_count": 0,
      "outputs": []
    },
    {
      "cell_type": "code",
      "metadata": {
        "id": "HGPkrIXA6eO3",
        "colab_type": "code",
        "colab": {}
      },
      "source": [
        "% python\n",
        " import delayed\n",
        " delayed.message = \"Hello\" # set message now\n",
        " delayed.printer()\n",
        "Hello\n",
        "\n",
        " \n"
      ],
      "execution_count": 0,
      "outputs": []
    },
    {
      "cell_type": "markdown",
      "metadata": {
        "id": "zk-5_FsE6eO5",
        "colab_type": "text"
      },
      "source": [
        "###Subclassing builtin types in 2.2 (Advanced)\n",
        "\n",
        "*     All types now behave like classes: list, str, tuple, dict,\n",
        "*     Subclass to customize builtin object behavior\n",
        "*     Alternative to writing wrapper code"
      ]
    },
    {
      "cell_type": "code",
      "metadata": {
        "id": "8eHY2LPz6eO5",
        "colab_type": "code",
        "colab": {}
      },
      "source": [
        "\n",
        "# subclass builtin list type/class\n",
        "# map 1..N to 0..N-1, call back to built-in version\n",
        " \n",
        "\n",
        "class MyList(list):\n",
        "def __getitem__(self, offset):\n",
        "print '(indexing %s at %s)' % (self, offset)\n",
        "return list.__getitem__(self, offset - 1)\n",
        " \n",
        "\n",
        "if __name__ == '__main__':\n",
        "print list('abc')\n",
        "x = MyList('abc') # __init__ inherited from list\n",
        "print x # __repr__ inherited from list\n",
        "print x[1] # MyList.__getitem__\n",
        "print x[3] # customizes list superclass method\n",
        "x.append('spam'); print x # attributes from list superclass\n",
        "x.reverse(); print x\n",
        " \n",
        "\n",
        "% python typesubclass.py\n",
        "['a', 'b', 'c']\n",
        "['a', 'b', 'c']\n",
        "(indexing ['a', 'b', 'c'] at 1)\n",
        "a\n",
        "\n",
        "(indexing ['a', 'b', 'c'] at 3)\n",
        "c\n",
        "\n",
        "['a', 'b', 'c', 'spam']\n",
        "['spam', 'c', 'b', 'a']\n",
        " \n"
      ],
      "execution_count": 0,
      "outputs": []
    },
    {
      "cell_type": "markdown",
      "metadata": {
        "id": "A9vX5Xyb6eO7",
        "colab_type": "text"
      },
      "source": [
        "###New Style Classes in 2.2+ (Advanced)\n",
        "\n",
        " \n",
        "\n",
        "*     Adds new features, changes one inheritance case (diamonds)\n",
        "*     Py 2.X: only if object or a builtin type as a superclass\n",
        "*     Py 3.X: all classes automatically new style (object added auto)"
      ]
    },
    {
      "cell_type": "code",
      "metadata": {
        "id": "x-y4SUot6eO8",
        "colab_type": "code",
        "colab": {}
      },
      "source": [
        "class newstyle(object): # NS requires object in 2.X only\n",
        "normal code\n",
        " \n"
      ],
      "execution_count": 0,
      "outputs": []
    },
    {
      "cell_type": "markdown",
      "metadata": {
        "id": "DWd-7UKL6ePA",
        "colab_type": "text"
      },
      "source": [
        "*     Changes: behavior of diamond multiple inheritance\n",
        "Per the linear MRO: the DFLR path, with all but last appearance of each class removed"
      ]
    },
    {
      "cell_type": "code",
      "metadata": {
        "id": "rykPKGKp6ePA",
        "colab_type": "code",
        "colab": {}
      },
      "source": [
        "\n",
        " class A: attr = 1 # CLASSIC\n",
        " class B(A): pass\n",
        " class C(A): attr = 2\n",
        " class D(B,C): pass # tries A before C\n",
        " x = D() # more depth-first\n",
        " x.attr\n",
        "1\n",
        "\n",
        " \n",
        "\n",
        " class A(object): attr = 1 # NEW STYLE\n",
        " class B(A): pass\n",
        " class C(A): attr = 2\n",
        " class D(B,C): pass # tries C before A\n",
        " x = D() # more breadth-first\n",
        " x.attr\n",
        "2\n",
        "\n",
        " \n"
      ],
      "execution_count": 0,
      "outputs": []
    },
    {
      "cell_type": "markdown",
      "metadata": {
        "id": "2y423NKO6ePC",
        "colab_type": "text"
      },
      "source": [
        "*     Adds: slots, limits legal attributes set\n",
        "Used to catch typos and limit memory requirements in pathological cases (ONLY!)"
      ]
    },
    {
      "cell_type": "code",
      "metadata": {
        "id": "afvfLxJc6ePC",
        "colab_type": "code",
        "colab": {}
      },
      "source": [
        " class limiter(object):\n",
        " __slots__ = ['age', 'name', 'job']\n",
        "\n",
        " x.ape = 1000\n",
        "AttributeError: 'limiter' object has no attribute\n",
        " \n",
        "\n",
        " \n"
      ],
      "execution_count": 0,
      "outputs": []
    },
    {
      "cell_type": "markdown",
      "metadata": {
        "id": "iCPxmJFq6ePE",
        "colab_type": "text"
      },
      "source": [
        "*     Adds: properties, computed attributes alternative\n",
        "Used to route attribute access to databases, approvals, special-case code"
      ]
    },
    {
      "cell_type": "code",
      "metadata": {
        "id": "XreYZlXm6ePE",
        "colab_type": "code",
        "colab": {}
      },
      "source": [
        " class classic:\n",
        " def __getattr__(self, name):\n",
        " if name == 'age':\n",
        " return 40\n",
        " else:\n",
        " raise AttributeError\n",
        "\n",
        " x = classic()\n",
        " x.age # <= runs __getattr__\n",
        "40\n",
        " \n",
        "\n",
        " class newprops(object):\n",
        " def getage(self):\n",
        " return 40\n",
        " age = property(getage, None, None, None) # get,set,del\n",
        "\n",
        " x = newprops()\n",
        " x.age # <= runs getage\n",
        "40\n",
        " \n",
        "\n",
        " \n"
      ],
      "execution_count": 0,
      "outputs": []
    },
    {
      "cell_type": "markdown",
      "metadata": {
        "id": "vVRNeprC6ePG",
        "colab_type": "text"
      },
      "source": [
        "*     Adds: static and class methods, new calling patterns\n",
        "Used to process class data, instead of per-instance date"
      ]
    },
    {
      "cell_type": "code",
      "metadata": {
        "id": "wstrO3e66ePG",
        "colab_type": "code",
        "colab": {}
      },
      "source": [
        "class Spam: # static: no self\n",
        "numInstances = 0 # class: class, not instance\n",
        "def __init__(self):\n",
        "Spam.numInstances += 1\n",
        "def printNumInstances():\n",
        "print \"Number of instances:\", Spam.numInstances\n",
        "printNumInstances = staticmethod(printNumInstances)\n",
        " \n",
        "\n",
        " a = Spam()\n",
        " b = Spam()\n",
        " c = Spam()\n",
        " Spam.printNumInstances()\n",
        "Number of instances: 3\n",
        " \n"
      ],
      "execution_count": 0,
      "outputs": []
    },
    {
      "cell_type": "markdown",
      "metadata": {
        "id": "rFAnUnlj6ePH",
        "colab_type": "text"
      },
      "source": [
        "*     Function and class decorators (not just newstyle)\n",
        "Rebinds names to objects that process functions and classes, or later calls to them"
      ]
    },
    {
      "cell_type": "code",
      "metadata": {
        "id": "TaL79GG86ePK",
        "colab_type": "code",
        "colab": {}
      },
      "source": [
        "\n",
        "Function ```\n",
        "name rebinding\n",
        "```python\n",
        "\n",
        "@funcdecorator\n",
        "def F():\n",
        "\n",
        " \n",
        "\n",
        "# is equivalent to\n",
        " \n",
        "\n",
        "def F():\n",
        "\n",
        "F = funcdecorator(F) # rebind name, possibly to proxy object\n",
        " \n",
        "\n",
        " \n",
        "\n",
        "Class ```\n",
        "name rebinding\n",
        "```python\n",
        "\n",
        "@classdecorator\n",
        "class C:\n",
        "\n",
        " \n",
        "\n",
        "# is equivalent to\n",
        " \n",
        "\n",
        "class C:\n",
        "\n",
        "C = classdecorator(C) # rebind name, possibly to proxy object\n",
        " \n",
        "\n",
        " \n",
        "\n",
        "Use ```\n",
        "for static methods (and properties, etc.)\n",
        "```python\n",
        "\n",
        "class C:\n",
        "@staticmethod\n",
        "def meth():\n",
        "\n",
        " \n",
        "\n",
        "# is equivalent to\n",
        " \n",
        "\n",
        "class C:\n",
        "def meth():\n",
        "\n",
        "meth = staticmethod(meth) # rebind name to call handler\n",
        " \n",
        "\n",
        "# ditto for properties\n",
        " \n",
        "\n",
        "class newprops(object):\n",
        "@property\n",
        "def age(self): # age = property(age)\n",
        "return 40 # use X.age, not X.age()\n",
        " \n",
        "\n",
        " \n",
        "\n",
        "Nesting: ```\n",
        "multiple augmentations\n",
        "```python\n",
        "\n",
        "@A\n",
        "@B\n",
        "@C\n",
        "def f(): \n",
        " \n",
        "\n",
        "# is equivalent to\n",
        "def f(): \n",
        "f = A(B(C(f)))\n",
        " \n",
        "\n",
        " \n",
        "\n",
        "Arguments: ```\n",
        "closures, retain state for later calls\n",
        "```python\n",
        "\n",
        "@funchandler(a, b)\n",
        "def F():\n",
        " \n",
        "\n",
        "# is equivalent to\n",
        " \n",
        "\n",
        "def F():\n",
        "F = funchandler(a, b)(F)\n",
        " \n",
        "\n",
        " \n",
        "\n",
        " \n"
      ],
      "execution_count": 0,
      "outputs": []
    },
    {
      "cell_type": "markdown",
      "metadata": {
        "id": "LyxddbvQ6ePL",
        "colab_type": "text"
      },
      "source": [
        "For More Details\n",
        " \n",
        "\n",
        "*      See the complete function decorator and class decorator examples in the top-level Extras\\Code\\OOP\n",
        "*      New-style inheritance algorithm, MRO, super(), metaclasses, descriptors, decorator coding, too much to cover here\n",
        "*      See the Advanced Topics section, this summary PDF on formal inheritance rules and super(), and the book Learning Python.\n",
        " \n",
        "\n",
        " \n",
        "\n",
        " \n",
        "\n",
        " \n",
        "\n",
        "###Class gotchas\n",
        "\n",
        " \n",
        "\n",
        " \n",
        "\n",
        "*     Multiple inheritance: order matters\n",
        "*      Solution: use sparingly and/or carefully\n",
        " \n",
        "\n",
        " \n",
        "\n",
        " \n",
        "\n",
        "file: mi.py"
      ]
    },
    {
      "cell_type": "code",
      "metadata": {
        "id": "qwgGkx5p6ePM",
        "colab_type": "code",
        "colab": {}
      },
      "source": [
        "class Super1:\n",
        "def method2(self): # a 'mixin' superclass\n",
        "print 'in Super1.method2'\n",
        " \n",
        "\n",
        "class Super2:\n",
        "def method1(self):\n",
        "self.method2() # calls my method2??\n",
        "def method2(self):\n",
        "print 'in Super2.method2'\n",
        " \n",
        "\n",
        "class Sub1(Super1, Super2):\n",
        "pass # gets Super1's method2\n",
        " \n",
        "\n",
        "class Sub2(Super2, Super1):\n",
        "pass # gets Super2's method2\n",
        " \n",
        "\n",
        "class Sub3(Super1, Super2):\n",
        "method2 = Super2.method2 # pick method manually\n",
        " \n",
        "\n",
        "Sub1().method1()\n",
        "Sub2().method1()\n",
        "Sub3().method1()\n",
        " \n"
      ],
      "execution_count": 0,
      "outputs": []
    },
    {
      "cell_type": "code",
      "metadata": {
        "id": "WTMIQgBv6ePN",
        "colab_type": "code",
        "colab": {}
      },
      "source": [
        "% python mi.py\n",
        "in Super1.method2\n",
        "in Super2.method2\n",
        "in Super2.method2\n",
        " \n",
        "\n",
        "\n",
        " \n",
        "\n",
        " \n",
        "\n",
        " \n",
        "\n",
        "###Optional reading: a set class\n"
      ],
      "execution_count": 0,
      "outputs": []
    },
    {
      "cell_type": "markdown",
      "metadata": {
        "id": "B85MAtje6ePP",
        "colab_type": "text"
      },
      "source": [
        "*     Wraps a Python list in each instance\n",
        "*     Supports multiple instances\n",
        "*     Adds operator overloading\n",
        "*     Supports customization by inheritance\n",
        "*     Allows any type of component: heterogeneous\n",
        " \n",
        "\n",
        "\n",
        " \n",
        "\n",
        "file: set.py"
      ]
    },
    {
      "cell_type": "code",
      "metadata": {
        "id": "donu-MMb6ePP",
        "colab_type": "code",
        "colab": {}
      },
      "source": [
        "\n",
        "class Set:\n",
        "def __init__(self, value = []): # constructor\n",
        "self.data = [] # manages a list\n",
        "self.concat(value)\n",
        " \n",
        "\n",
        "def intersect(self, other): # other is a sequence\n",
        "res = [] # self is the subject\n",
        "for x in self.data:\n",
        "if x in other:\n",
        "res.append(x)\n",
        "return Set(res) # return a new Set\n",
        " \n",
        "\n",
        "def union(self, other):\n",
        "res = self.data[:] # copy of my list\n",
        "for x in other:\n",
        "if not x in res:\n",
        "res.append(x)\n",
        "return Set(res)\n",
        " \n",
        "\n",
        "def concat(self, value): # value: list, Set\n",
        "for x in value: # removes duplicates\n",
        "if not x in self.data:\n",
        "self.data.append(x)\n",
        " \n",
        "\n",
        "def __len__(self): return len(self.data)\n",
        "def __getitem__(self, key): return self.data[key]\n",
        "def __and__(self, other): return self.intersect(other)\n",
        "def __or__(self, other): return self.union(other)\n",
        "def __repr__(self): return 'Set:' + `self.data`\n",
        " \n"
      ],
      "execution_count": 0,
      "outputs": []
    },
    {
      "cell_type": "code",
      "metadata": {
        "id": "INmT98K86ePR",
        "colab_type": "code",
        "colab": {}
      },
      "source": [
        "% python\n",
        " from set import Set\n",
        " x = Set([1,2,3,4]) # __init__\n",
        " y = Set([3,4,5])\n",
        " \n",
        "\n",
        " x & y, x | y # __and__,__or__,__repr__\n",
        "(Set:[3, 4], Set:[1, 2, 3, 4, 5])\n",
        " \n",
        "\n",
        " z = Set(\"hello\") # set of strings\n",
        " z[0] # __getitem__\n",
        "'h'\n",
        " z & \"mello\", z | \"mello\"\n",
        "(Set:['e', 'l', 'o'], Set:['h', 'e', 'l', 'o', 'm'])\n",
        "\n",
        " \n"
      ],
      "execution_count": 0,
      "outputs": []
    },
    {
      "cell_type": "markdown",
      "metadata": {
        "id": "_s7T5m-X6ePT",
        "colab_type": "text"
      },
      "source": [
        "###Summary: OOP in Python\n",
        "\n",
        " \n",
        "\n",
        "*     Class objects provide default behavior\n",
        "*      Classes support multiple copies, attribute inheritance, and operator overloading\n",
        "*      The class statement creates a class object and assigns it to a name\n",
        "*      Assignments inside class statements create class attributes, which export object state and behavior\n",
        "*      Class methods are nested defs, with special first arguments to receive the instance\n",
        " \n",
        "\n",
        "*     Instance objects are generated from classes\n",
        "*      Calling a class object like a function makes a new instance object\n",
        "*      Each instance object inherits class attributes, and gets its own attribute namespace\n",
        "*      Assignments to the first argument (\"self\") in methods create per-instance attributes\n",
        " \n",
        "\n",
        "*     Inheritance supports specialization\n",
        "*      Inheritance happens at attribute qualification time: on object.attribute, if object is a class or instance\n",
        "*      Classes inherit attributes from all classes listed in their class statement header line (superclasses)\n",
        "*      Instances inherit attributes from the class they are generated from, plus all its superclasses\n",
        "*      Inheritance searches the instance, then its class, then all accessible superclasses (depth-first, left-to-right)"
      ]
    }
  ]
}