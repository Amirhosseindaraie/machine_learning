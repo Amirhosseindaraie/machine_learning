{
  "nbformat": 4,
  "nbformat_minor": 0,
  "metadata": {
    "colab": {
      "name": "lecture_13_kernel_density_estimation.ipynb",
      "provenance": [],
      "toc_visible": true,
      "include_colab_link": true
    },
    "kernelspec": {
      "name": "python3",
      "display_name": "Python 3"
    },
    "widgets": {
      "application/vnd.jupyter.widget-state+json": {
        "ed225189c923421796de933214a8ad5e": {
          "model_module": "@jupyter-widgets/controls",
          "model_name": "HBoxModel",
          "state": {
            "_view_name": "HBoxView",
            "_dom_classes": [],
            "_model_name": "HBoxModel",
            "_view_module": "@jupyter-widgets/controls",
            "_model_module_version": "1.5.0",
            "_view_count": null,
            "_view_module_version": "1.5.0",
            "box_style": "",
            "layout": "IPY_MODEL_e24b319c0c8a4f8997052e9391a2295d",
            "_model_module": "@jupyter-widgets/controls",
            "children": [
              "IPY_MODEL_69fcfa1ee2614e7ca28cdfee93cac112",
              "IPY_MODEL_5bb8cf961fde413e961c2e328d3c9ace",
              "IPY_MODEL_971e47cbc3e84a9c8827f3572ca319ad",
              "IPY_MODEL_e55235ab78084c518bc4761ee7b485e7"
            ]
          }
        },
        "e24b319c0c8a4f8997052e9391a2295d": {
          "model_module": "@jupyter-widgets/base",
          "model_name": "LayoutModel",
          "state": {
            "_view_name": "LayoutView",
            "grid_template_rows": null,
            "right": null,
            "justify_content": null,
            "_view_module": "@jupyter-widgets/base",
            "overflow": null,
            "_model_module_version": "1.2.0",
            "_view_count": null,
            "flex_flow": null,
            "width": null,
            "min_width": null,
            "border": null,
            "align_items": null,
            "bottom": null,
            "_model_module": "@jupyter-widgets/base",
            "top": null,
            "grid_column": null,
            "overflow_y": null,
            "overflow_x": null,
            "grid_auto_flow": null,
            "grid_area": null,
            "grid_template_columns": null,
            "flex": null,
            "_model_name": "LayoutModel",
            "justify_items": null,
            "grid_row": null,
            "max_height": null,
            "align_content": null,
            "visibility": null,
            "align_self": null,
            "height": null,
            "min_height": null,
            "padding": null,
            "grid_auto_rows": null,
            "grid_gap": null,
            "max_width": null,
            "order": null,
            "_view_module_version": "1.2.0",
            "grid_template_areas": null,
            "object_position": null,
            "object_fit": null,
            "grid_auto_columns": null,
            "margin": null,
            "display": null,
            "left": null
          }
        },
        "69fcfa1ee2614e7ca28cdfee93cac112": {
          "model_module": "@jupyter-widgets/controls",
          "model_name": "VBoxModel",
          "state": {
            "_view_name": "VBoxView",
            "_dom_classes": [],
            "_model_name": "VBoxModel",
            "_view_module": "@jupyter-widgets/controls",
            "_model_module_version": "1.5.0",
            "_view_count": null,
            "_view_module_version": "1.5.0",
            "box_style": "",
            "layout": "IPY_MODEL_393aa8692cf846a5a36cd6a88eca9edf",
            "_model_module": "@jupyter-widgets/controls",
            "children": [
              "IPY_MODEL_9782fa48671645b785b33bec5a7468ba"
            ]
          }
        },
        "5bb8cf961fde413e961c2e328d3c9ace": {
          "model_module": "@jupyter-widgets/controls",
          "model_name": "VBoxModel",
          "state": {
            "_view_name": "VBoxView",
            "_dom_classes": [],
            "_model_name": "VBoxModel",
            "_view_module": "@jupyter-widgets/controls",
            "_model_module_version": "1.5.0",
            "_view_count": null,
            "_view_module_version": "1.5.0",
            "box_style": "",
            "layout": "IPY_MODEL_a2f5f45c682e4f38b24900e1a8b6b4df",
            "_model_module": "@jupyter-widgets/controls",
            "children": [
              "IPY_MODEL_b529ab1a3f624445aad0f01a681ecaaf",
              "IPY_MODEL_f5e49c0e68c44edcae777c13902d2b0d"
            ]
          }
        },
        "971e47cbc3e84a9c8827f3572ca319ad": {
          "model_module": "@jupyter-widgets/controls",
          "model_name": "VBoxModel",
          "state": {
            "_view_name": "VBoxView",
            "_dom_classes": [],
            "_model_name": "VBoxModel",
            "_view_module": "@jupyter-widgets/controls",
            "_model_module_version": "1.5.0",
            "_view_count": null,
            "_view_module_version": "1.5.0",
            "box_style": "",
            "layout": "IPY_MODEL_327ac9dd726648dab8f19197875af672",
            "_model_module": "@jupyter-widgets/controls",
            "children": [
              "IPY_MODEL_448824248329483a986c08b0d02b3894",
              "IPY_MODEL_08347a584156495fb72450c8674a22bb"
            ]
          }
        },
        "e55235ab78084c518bc4761ee7b485e7": {
          "model_module": "@jupyter-widgets/controls",
          "model_name": "VBoxModel",
          "state": {
            "_view_name": "VBoxView",
            "_dom_classes": [],
            "_model_name": "VBoxModel",
            "_view_module": "@jupyter-widgets/controls",
            "_model_module_version": "1.5.0",
            "_view_count": null,
            "_view_module_version": "1.5.0",
            "box_style": "",
            "layout": "IPY_MODEL_4a3a3d1faf774f39b66f244aed65337b",
            "_model_module": "@jupyter-widgets/controls",
            "children": [
              "IPY_MODEL_9dc1a773a02b41e9b3ae9003424c9d70",
              "IPY_MODEL_d90b34d289f84aabafac6577518fb1e6"
            ]
          }
        },
        "393aa8692cf846a5a36cd6a88eca9edf": {
          "model_module": "@jupyter-widgets/base",
          "model_name": "LayoutModel",
          "state": {
            "_view_name": "LayoutView",
            "grid_template_rows": null,
            "right": null,
            "justify_content": null,
            "_view_module": "@jupyter-widgets/base",
            "overflow": null,
            "_model_module_version": "1.2.0",
            "_view_count": null,
            "flex_flow": null,
            "width": null,
            "min_width": null,
            "border": null,
            "align_items": null,
            "bottom": null,
            "_model_module": "@jupyter-widgets/base",
            "top": null,
            "grid_column": null,
            "overflow_y": null,
            "overflow_x": null,
            "grid_auto_flow": null,
            "grid_area": null,
            "grid_template_columns": null,
            "flex": null,
            "_model_name": "LayoutModel",
            "justify_items": null,
            "grid_row": null,
            "max_height": null,
            "align_content": null,
            "visibility": null,
            "align_self": null,
            "height": null,
            "min_height": null,
            "padding": null,
            "grid_auto_rows": null,
            "grid_gap": null,
            "max_width": null,
            "order": null,
            "_view_module_version": "1.2.0",
            "grid_template_areas": null,
            "object_position": null,
            "object_fit": null,
            "grid_auto_columns": null,
            "margin": null,
            "display": null,
            "left": null
          }
        },
        "9782fa48671645b785b33bec5a7468ba": {
          "model_module": "@jupyter-widgets/controls",
          "model_name": "FloatRangeSliderModel",
          "state": {
            "_view_name": "FloatRangeSliderView",
            "style": "IPY_MODEL_df878cd232e040a49ab565121833c2ee",
            "_dom_classes": [],
            "description": "pi(1,2,3)",
            "step": 0.1,
            "_model_name": "FloatRangeSliderModel",
            "orientation": "horizontal",
            "max": 1,
            "_view_module": "@jupyter-widgets/controls",
            "_model_module_version": "1.5.0",
            "value": [
              0.3,
              0.6
            ],
            "_view_count": null,
            "disabled": false,
            "_view_module_version": "1.5.0",
            "min": 0,
            "continuous_update": true,
            "readout_format": ".2f",
            "description_tooltip": null,
            "readout": true,
            "_model_module": "@jupyter-widgets/controls",
            "layout": "IPY_MODEL_51684c7273c64f7692501294d19cc3f2"
          }
        },
        "a2f5f45c682e4f38b24900e1a8b6b4df": {
          "model_module": "@jupyter-widgets/base",
          "model_name": "LayoutModel",
          "state": {
            "_view_name": "LayoutView",
            "grid_template_rows": null,
            "right": null,
            "justify_content": null,
            "_view_module": "@jupyter-widgets/base",
            "overflow": null,
            "_model_module_version": "1.2.0",
            "_view_count": null,
            "flex_flow": null,
            "width": null,
            "min_width": null,
            "border": null,
            "align_items": null,
            "bottom": null,
            "_model_module": "@jupyter-widgets/base",
            "top": null,
            "grid_column": null,
            "overflow_y": null,
            "overflow_x": null,
            "grid_auto_flow": null,
            "grid_area": null,
            "grid_template_columns": null,
            "flex": null,
            "_model_name": "LayoutModel",
            "justify_items": null,
            "grid_row": null,
            "max_height": null,
            "align_content": null,
            "visibility": null,
            "align_self": null,
            "height": null,
            "min_height": null,
            "padding": null,
            "grid_auto_rows": null,
            "grid_gap": null,
            "max_width": null,
            "order": null,
            "_view_module_version": "1.2.0",
            "grid_template_areas": null,
            "object_position": null,
            "object_fit": null,
            "grid_auto_columns": null,
            "margin": null,
            "display": null,
            "left": null
          }
        },
        "b529ab1a3f624445aad0f01a681ecaaf": {
          "model_module": "@jupyter-widgets/controls",
          "model_name": "FloatSliderModel",
          "state": {
            "_view_name": "FloatSliderView",
            "style": "IPY_MODEL_bbde8c320d934f85956466323f7d3b17",
            "_dom_classes": [],
            "description": "mu_1",
            "step": 0.1,
            "_model_name": "FloatSliderModel",
            "orientation": "horizontal",
            "max": 100,
            "_view_module": "@jupyter-widgets/controls",
            "_model_module_version": "1.5.0",
            "value": 10,
            "_view_count": null,
            "disabled": false,
            "_view_module_version": "1.5.0",
            "min": 0,
            "continuous_update": true,
            "readout_format": ".2f",
            "description_tooltip": null,
            "readout": true,
            "_model_module": "@jupyter-widgets/controls",
            "layout": "IPY_MODEL_34579988ecb34168931964069f91e9a5"
          }
        },
        "f5e49c0e68c44edcae777c13902d2b0d": {
          "model_module": "@jupyter-widgets/controls",
          "model_name": "FloatSliderModel",
          "state": {
            "_view_name": "FloatSliderView",
            "style": "IPY_MODEL_45972406d203479da1053ac9b43bdf95",
            "_dom_classes": [],
            "description": "sigma_1",
            "step": 0.1,
            "_model_name": "FloatSliderModel",
            "orientation": "horizontal",
            "max": 10,
            "_view_module": "@jupyter-widgets/controls",
            "_model_module_version": "1.5.0",
            "value": 10,
            "_view_count": null,
            "disabled": false,
            "_view_module_version": "1.5.0",
            "min": 1,
            "continuous_update": true,
            "readout_format": ".2f",
            "description_tooltip": null,
            "readout": true,
            "_model_module": "@jupyter-widgets/controls",
            "layout": "IPY_MODEL_80739d1193164502860c77de2fc05a2f"
          }
        },
        "327ac9dd726648dab8f19197875af672": {
          "model_module": "@jupyter-widgets/base",
          "model_name": "LayoutModel",
          "state": {
            "_view_name": "LayoutView",
            "grid_template_rows": null,
            "right": null,
            "justify_content": null,
            "_view_module": "@jupyter-widgets/base",
            "overflow": null,
            "_model_module_version": "1.2.0",
            "_view_count": null,
            "flex_flow": null,
            "width": null,
            "min_width": null,
            "border": null,
            "align_items": null,
            "bottom": null,
            "_model_module": "@jupyter-widgets/base",
            "top": null,
            "grid_column": null,
            "overflow_y": null,
            "overflow_x": null,
            "grid_auto_flow": null,
            "grid_area": null,
            "grid_template_columns": null,
            "flex": null,
            "_model_name": "LayoutModel",
            "justify_items": null,
            "grid_row": null,
            "max_height": null,
            "align_content": null,
            "visibility": null,
            "align_self": null,
            "height": null,
            "min_height": null,
            "padding": null,
            "grid_auto_rows": null,
            "grid_gap": null,
            "max_width": null,
            "order": null,
            "_view_module_version": "1.2.0",
            "grid_template_areas": null,
            "object_position": null,
            "object_fit": null,
            "grid_auto_columns": null,
            "margin": null,
            "display": null,
            "left": null
          }
        },
        "448824248329483a986c08b0d02b3894": {
          "model_module": "@jupyter-widgets/controls",
          "model_name": "FloatSliderModel",
          "state": {
            "_view_name": "FloatSliderView",
            "style": "IPY_MODEL_f62f66cff3a248608496fe98b49694c4",
            "_dom_classes": [],
            "description": "mu_2",
            "step": 0.1,
            "_model_name": "FloatSliderModel",
            "orientation": "horizontal",
            "max": 100,
            "_view_module": "@jupyter-widgets/controls",
            "_model_module_version": "1.5.0",
            "value": 50,
            "_view_count": null,
            "disabled": false,
            "_view_module_version": "1.5.0",
            "min": 0,
            "continuous_update": true,
            "readout_format": ".2f",
            "description_tooltip": null,
            "readout": true,
            "_model_module": "@jupyter-widgets/controls",
            "layout": "IPY_MODEL_60d1373f60c642c79bac00f8712b360b"
          }
        },
        "08347a584156495fb72450c8674a22bb": {
          "model_module": "@jupyter-widgets/controls",
          "model_name": "FloatSliderModel",
          "state": {
            "_view_name": "FloatSliderView",
            "style": "IPY_MODEL_d8f0b1da2f89446d9936ffc1c96a1b50",
            "_dom_classes": [],
            "description": "sigma_2",
            "step": 0.1,
            "_model_name": "FloatSliderModel",
            "orientation": "horizontal",
            "max": 10,
            "_view_module": "@jupyter-widgets/controls",
            "_model_module_version": "1.5.0",
            "value": 10,
            "_view_count": null,
            "disabled": false,
            "_view_module_version": "1.5.0",
            "min": 1,
            "continuous_update": true,
            "readout_format": ".2f",
            "description_tooltip": null,
            "readout": true,
            "_model_module": "@jupyter-widgets/controls",
            "layout": "IPY_MODEL_e41cf560fc4241b880cbf48ca379d224"
          }
        },
        "4a3a3d1faf774f39b66f244aed65337b": {
          "model_module": "@jupyter-widgets/base",
          "model_name": "LayoutModel",
          "state": {
            "_view_name": "LayoutView",
            "grid_template_rows": null,
            "right": null,
            "justify_content": null,
            "_view_module": "@jupyter-widgets/base",
            "overflow": null,
            "_model_module_version": "1.2.0",
            "_view_count": null,
            "flex_flow": null,
            "width": null,
            "min_width": null,
            "border": null,
            "align_items": null,
            "bottom": null,
            "_model_module": "@jupyter-widgets/base",
            "top": null,
            "grid_column": null,
            "overflow_y": null,
            "overflow_x": null,
            "grid_auto_flow": null,
            "grid_area": null,
            "grid_template_columns": null,
            "flex": null,
            "_model_name": "LayoutModel",
            "justify_items": null,
            "grid_row": null,
            "max_height": null,
            "align_content": null,
            "visibility": null,
            "align_self": null,
            "height": null,
            "min_height": null,
            "padding": null,
            "grid_auto_rows": null,
            "grid_gap": null,
            "max_width": null,
            "order": null,
            "_view_module_version": "1.2.0",
            "grid_template_areas": null,
            "object_position": null,
            "object_fit": null,
            "grid_auto_columns": null,
            "margin": null,
            "display": null,
            "left": null
          }
        },
        "9dc1a773a02b41e9b3ae9003424c9d70": {
          "model_module": "@jupyter-widgets/controls",
          "model_name": "FloatSliderModel",
          "state": {
            "_view_name": "FloatSliderView",
            "style": "IPY_MODEL_c7e37fa7f5d14b049e7e4c8781313d66",
            "_dom_classes": [],
            "description": "mu_3",
            "step": 0.1,
            "_model_name": "FloatSliderModel",
            "orientation": "horizontal",
            "max": 100,
            "_view_module": "@jupyter-widgets/controls",
            "_model_module_version": "1.5.0",
            "value": 90,
            "_view_count": null,
            "disabled": false,
            "_view_module_version": "1.5.0",
            "min": 0,
            "continuous_update": true,
            "readout_format": ".2f",
            "description_tooltip": null,
            "readout": true,
            "_model_module": "@jupyter-widgets/controls",
            "layout": "IPY_MODEL_536f98c568f44c658ef4a5ce17f5fa8e"
          }
        },
        "d90b34d289f84aabafac6577518fb1e6": {
          "model_module": "@jupyter-widgets/controls",
          "model_name": "FloatSliderModel",
          "state": {
            "_view_name": "FloatSliderView",
            "style": "IPY_MODEL_0f3a05aea2a44f7eb8e3d55fe462e3c6",
            "_dom_classes": [],
            "description": "sigma_3",
            "step": 0.1,
            "_model_name": "FloatSliderModel",
            "orientation": "horizontal",
            "max": 10,
            "_view_module": "@jupyter-widgets/controls",
            "_model_module_version": "1.5.0",
            "value": 10,
            "_view_count": null,
            "disabled": false,
            "_view_module_version": "1.5.0",
            "min": 1,
            "continuous_update": true,
            "readout_format": ".2f",
            "description_tooltip": null,
            "readout": true,
            "_model_module": "@jupyter-widgets/controls",
            "layout": "IPY_MODEL_69b5a53237034ede8baf0ef2c7d7560f"
          }
        },
        "df878cd232e040a49ab565121833c2ee": {
          "model_module": "@jupyter-widgets/controls",
          "model_name": "SliderStyleModel",
          "state": {
            "_view_name": "StyleView",
            "handle_color": null,
            "_model_name": "SliderStyleModel",
            "description_width": "",
            "_view_module": "@jupyter-widgets/base",
            "_model_module_version": "1.5.0",
            "_view_count": null,
            "_view_module_version": "1.2.0",
            "_model_module": "@jupyter-widgets/controls"
          }
        },
        "51684c7273c64f7692501294d19cc3f2": {
          "model_module": "@jupyter-widgets/base",
          "model_name": "LayoutModel",
          "state": {
            "_view_name": "LayoutView",
            "grid_template_rows": null,
            "right": null,
            "justify_content": null,
            "_view_module": "@jupyter-widgets/base",
            "overflow": null,
            "_model_module_version": "1.2.0",
            "_view_count": null,
            "flex_flow": null,
            "width": null,
            "min_width": null,
            "border": null,
            "align_items": null,
            "bottom": null,
            "_model_module": "@jupyter-widgets/base",
            "top": null,
            "grid_column": null,
            "overflow_y": null,
            "overflow_x": null,
            "grid_auto_flow": null,
            "grid_area": null,
            "grid_template_columns": null,
            "flex": null,
            "_model_name": "LayoutModel",
            "justify_items": null,
            "grid_row": null,
            "max_height": null,
            "align_content": null,
            "visibility": null,
            "align_self": null,
            "height": null,
            "min_height": null,
            "padding": null,
            "grid_auto_rows": null,
            "grid_gap": null,
            "max_width": null,
            "order": null,
            "_view_module_version": "1.2.0",
            "grid_template_areas": null,
            "object_position": null,
            "object_fit": null,
            "grid_auto_columns": null,
            "margin": null,
            "display": null,
            "left": null
          }
        },
        "bbde8c320d934f85956466323f7d3b17": {
          "model_module": "@jupyter-widgets/controls",
          "model_name": "SliderStyleModel",
          "state": {
            "_view_name": "StyleView",
            "handle_color": null,
            "_model_name": "SliderStyleModel",
            "description_width": "",
            "_view_module": "@jupyter-widgets/base",
            "_model_module_version": "1.5.0",
            "_view_count": null,
            "_view_module_version": "1.2.0",
            "_model_module": "@jupyter-widgets/controls"
          }
        },
        "34579988ecb34168931964069f91e9a5": {
          "model_module": "@jupyter-widgets/base",
          "model_name": "LayoutModel",
          "state": {
            "_view_name": "LayoutView",
            "grid_template_rows": null,
            "right": null,
            "justify_content": null,
            "_view_module": "@jupyter-widgets/base",
            "overflow": null,
            "_model_module_version": "1.2.0",
            "_view_count": null,
            "flex_flow": null,
            "width": null,
            "min_width": null,
            "border": null,
            "align_items": null,
            "bottom": null,
            "_model_module": "@jupyter-widgets/base",
            "top": null,
            "grid_column": null,
            "overflow_y": null,
            "overflow_x": null,
            "grid_auto_flow": null,
            "grid_area": null,
            "grid_template_columns": null,
            "flex": null,
            "_model_name": "LayoutModel",
            "justify_items": null,
            "grid_row": null,
            "max_height": null,
            "align_content": null,
            "visibility": null,
            "align_self": null,
            "height": null,
            "min_height": null,
            "padding": null,
            "grid_auto_rows": null,
            "grid_gap": null,
            "max_width": null,
            "order": null,
            "_view_module_version": "1.2.0",
            "grid_template_areas": null,
            "object_position": null,
            "object_fit": null,
            "grid_auto_columns": null,
            "margin": null,
            "display": null,
            "left": null
          }
        },
        "45972406d203479da1053ac9b43bdf95": {
          "model_module": "@jupyter-widgets/controls",
          "model_name": "SliderStyleModel",
          "state": {
            "_view_name": "StyleView",
            "handle_color": null,
            "_model_name": "SliderStyleModel",
            "description_width": "",
            "_view_module": "@jupyter-widgets/base",
            "_model_module_version": "1.5.0",
            "_view_count": null,
            "_view_module_version": "1.2.0",
            "_model_module": "@jupyter-widgets/controls"
          }
        },
        "80739d1193164502860c77de2fc05a2f": {
          "model_module": "@jupyter-widgets/base",
          "model_name": "LayoutModel",
          "state": {
            "_view_name": "LayoutView",
            "grid_template_rows": null,
            "right": null,
            "justify_content": null,
            "_view_module": "@jupyter-widgets/base",
            "overflow": null,
            "_model_module_version": "1.2.0",
            "_view_count": null,
            "flex_flow": null,
            "width": null,
            "min_width": null,
            "border": null,
            "align_items": null,
            "bottom": null,
            "_model_module": "@jupyter-widgets/base",
            "top": null,
            "grid_column": null,
            "overflow_y": null,
            "overflow_x": null,
            "grid_auto_flow": null,
            "grid_area": null,
            "grid_template_columns": null,
            "flex": null,
            "_model_name": "LayoutModel",
            "justify_items": null,
            "grid_row": null,
            "max_height": null,
            "align_content": null,
            "visibility": null,
            "align_self": null,
            "height": null,
            "min_height": null,
            "padding": null,
            "grid_auto_rows": null,
            "grid_gap": null,
            "max_width": null,
            "order": null,
            "_view_module_version": "1.2.0",
            "grid_template_areas": null,
            "object_position": null,
            "object_fit": null,
            "grid_auto_columns": null,
            "margin": null,
            "display": null,
            "left": null
          }
        },
        "f62f66cff3a248608496fe98b49694c4": {
          "model_module": "@jupyter-widgets/controls",
          "model_name": "SliderStyleModel",
          "state": {
            "_view_name": "StyleView",
            "handle_color": null,
            "_model_name": "SliderStyleModel",
            "description_width": "",
            "_view_module": "@jupyter-widgets/base",
            "_model_module_version": "1.5.0",
            "_view_count": null,
            "_view_module_version": "1.2.0",
            "_model_module": "@jupyter-widgets/controls"
          }
        },
        "60d1373f60c642c79bac00f8712b360b": {
          "model_module": "@jupyter-widgets/base",
          "model_name": "LayoutModel",
          "state": {
            "_view_name": "LayoutView",
            "grid_template_rows": null,
            "right": null,
            "justify_content": null,
            "_view_module": "@jupyter-widgets/base",
            "overflow": null,
            "_model_module_version": "1.2.0",
            "_view_count": null,
            "flex_flow": null,
            "width": null,
            "min_width": null,
            "border": null,
            "align_items": null,
            "bottom": null,
            "_model_module": "@jupyter-widgets/base",
            "top": null,
            "grid_column": null,
            "overflow_y": null,
            "overflow_x": null,
            "grid_auto_flow": null,
            "grid_area": null,
            "grid_template_columns": null,
            "flex": null,
            "_model_name": "LayoutModel",
            "justify_items": null,
            "grid_row": null,
            "max_height": null,
            "align_content": null,
            "visibility": null,
            "align_self": null,
            "height": null,
            "min_height": null,
            "padding": null,
            "grid_auto_rows": null,
            "grid_gap": null,
            "max_width": null,
            "order": null,
            "_view_module_version": "1.2.0",
            "grid_template_areas": null,
            "object_position": null,
            "object_fit": null,
            "grid_auto_columns": null,
            "margin": null,
            "display": null,
            "left": null
          }
        },
        "d8f0b1da2f89446d9936ffc1c96a1b50": {
          "model_module": "@jupyter-widgets/controls",
          "model_name": "SliderStyleModel",
          "state": {
            "_view_name": "StyleView",
            "handle_color": null,
            "_model_name": "SliderStyleModel",
            "description_width": "",
            "_view_module": "@jupyter-widgets/base",
            "_model_module_version": "1.5.0",
            "_view_count": null,
            "_view_module_version": "1.2.0",
            "_model_module": "@jupyter-widgets/controls"
          }
        },
        "e41cf560fc4241b880cbf48ca379d224": {
          "model_module": "@jupyter-widgets/base",
          "model_name": "LayoutModel",
          "state": {
            "_view_name": "LayoutView",
            "grid_template_rows": null,
            "right": null,
            "justify_content": null,
            "_view_module": "@jupyter-widgets/base",
            "overflow": null,
            "_model_module_version": "1.2.0",
            "_view_count": null,
            "flex_flow": null,
            "width": null,
            "min_width": null,
            "border": null,
            "align_items": null,
            "bottom": null,
            "_model_module": "@jupyter-widgets/base",
            "top": null,
            "grid_column": null,
            "overflow_y": null,
            "overflow_x": null,
            "grid_auto_flow": null,
            "grid_area": null,
            "grid_template_columns": null,
            "flex": null,
            "_model_name": "LayoutModel",
            "justify_items": null,
            "grid_row": null,
            "max_height": null,
            "align_content": null,
            "visibility": null,
            "align_self": null,
            "height": null,
            "min_height": null,
            "padding": null,
            "grid_auto_rows": null,
            "grid_gap": null,
            "max_width": null,
            "order": null,
            "_view_module_version": "1.2.0",
            "grid_template_areas": null,
            "object_position": null,
            "object_fit": null,
            "grid_auto_columns": null,
            "margin": null,
            "display": null,
            "left": null
          }
        },
        "c7e37fa7f5d14b049e7e4c8781313d66": {
          "model_module": "@jupyter-widgets/controls",
          "model_name": "SliderStyleModel",
          "state": {
            "_view_name": "StyleView",
            "handle_color": null,
            "_model_name": "SliderStyleModel",
            "description_width": "",
            "_view_module": "@jupyter-widgets/base",
            "_model_module_version": "1.5.0",
            "_view_count": null,
            "_view_module_version": "1.2.0",
            "_model_module": "@jupyter-widgets/controls"
          }
        },
        "536f98c568f44c658ef4a5ce17f5fa8e": {
          "model_module": "@jupyter-widgets/base",
          "model_name": "LayoutModel",
          "state": {
            "_view_name": "LayoutView",
            "grid_template_rows": null,
            "right": null,
            "justify_content": null,
            "_view_module": "@jupyter-widgets/base",
            "overflow": null,
            "_model_module_version": "1.2.0",
            "_view_count": null,
            "flex_flow": null,
            "width": null,
            "min_width": null,
            "border": null,
            "align_items": null,
            "bottom": null,
            "_model_module": "@jupyter-widgets/base",
            "top": null,
            "grid_column": null,
            "overflow_y": null,
            "overflow_x": null,
            "grid_auto_flow": null,
            "grid_area": null,
            "grid_template_columns": null,
            "flex": null,
            "_model_name": "LayoutModel",
            "justify_items": null,
            "grid_row": null,
            "max_height": null,
            "align_content": null,
            "visibility": null,
            "align_self": null,
            "height": null,
            "min_height": null,
            "padding": null,
            "grid_auto_rows": null,
            "grid_gap": null,
            "max_width": null,
            "order": null,
            "_view_module_version": "1.2.0",
            "grid_template_areas": null,
            "object_position": null,
            "object_fit": null,
            "grid_auto_columns": null,
            "margin": null,
            "display": null,
            "left": null
          }
        },
        "0f3a05aea2a44f7eb8e3d55fe462e3c6": {
          "model_module": "@jupyter-widgets/controls",
          "model_name": "SliderStyleModel",
          "state": {
            "_view_name": "StyleView",
            "handle_color": null,
            "_model_name": "SliderStyleModel",
            "description_width": "",
            "_view_module": "@jupyter-widgets/base",
            "_model_module_version": "1.5.0",
            "_view_count": null,
            "_view_module_version": "1.2.0",
            "_model_module": "@jupyter-widgets/controls"
          }
        },
        "69b5a53237034ede8baf0ef2c7d7560f": {
          "model_module": "@jupyter-widgets/base",
          "model_name": "LayoutModel",
          "state": {
            "_view_name": "LayoutView",
            "grid_template_rows": null,
            "right": null,
            "justify_content": null,
            "_view_module": "@jupyter-widgets/base",
            "overflow": null,
            "_model_module_version": "1.2.0",
            "_view_count": null,
            "flex_flow": null,
            "width": null,
            "min_width": null,
            "border": null,
            "align_items": null,
            "bottom": null,
            "_model_module": "@jupyter-widgets/base",
            "top": null,
            "grid_column": null,
            "overflow_y": null,
            "overflow_x": null,
            "grid_auto_flow": null,
            "grid_area": null,
            "grid_template_columns": null,
            "flex": null,
            "_model_name": "LayoutModel",
            "justify_items": null,
            "grid_row": null,
            "max_height": null,
            "align_content": null,
            "visibility": null,
            "align_self": null,
            "height": null,
            "min_height": null,
            "padding": null,
            "grid_auto_rows": null,
            "grid_gap": null,
            "max_width": null,
            "order": null,
            "_view_module_version": "1.2.0",
            "grid_template_areas": null,
            "object_position": null,
            "object_fit": null,
            "grid_auto_columns": null,
            "margin": null,
            "display": null,
            "left": null
          }
        },
        "f030cdc7f7a442f5a41d408d59a9e54d": {
          "model_module": "@jupyter-widgets/output",
          "model_name": "OutputModel",
          "state": {
            "_view_name": "OutputView",
            "msg_id": "",
            "_dom_classes": [],
            "_model_name": "OutputModel",
            "outputs": [
              {
                "output_type": "display_data",
                "metadata": {
                  "tags": []
                },
                "image/png": "iVBORw0KGgoAAAANSUhEUgAAAn8AAAH1CAYAAACHjZjYAAAABHNCSVQICAgIfAhkiAAAAAlwSFlz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\n",
                "text/plain": "<Figure size 720x576 with 1 Axes>"
              }
            ],
            "_view_module": "@jupyter-widgets/output",
            "_model_module_version": "1.0.0",
            "_view_count": null,
            "_view_module_version": "1.0.0",
            "layout": "IPY_MODEL_2111b12a5e994e29af2d121d8807a49c",
            "_model_module": "@jupyter-widgets/output"
          }
        },
        "6d11ee3999f8453f853c3d60c854795c": {
          "model_module": "@jupyter-widgets/controls",
          "model_name": "HBoxModel",
          "state": {
            "_view_name": "HBoxView",
            "_dom_classes": [],
            "_model_name": "HBoxModel",
            "_view_module": "@jupyter-widgets/controls",
            "_model_module_version": "1.5.0",
            "_view_count": null,
            "_view_module_version": "1.5.0",
            "box_style": "",
            "layout": "IPY_MODEL_be37d5d8ce2d417f91357b98fcb872d4",
            "_model_module": "@jupyter-widgets/controls",
            "children": [
              "IPY_MODEL_2d9c49c4b0bc4ca69487223090531088",
              "IPY_MODEL_31f02d1e1787447eb698155376f86c1e"
            ]
          }
        },
        "be37d5d8ce2d417f91357b98fcb872d4": {
          "model_module": "@jupyter-widgets/base",
          "model_name": "LayoutModel",
          "state": {
            "_view_name": "LayoutView",
            "grid_template_rows": null,
            "right": null,
            "justify_content": null,
            "_view_module": "@jupyter-widgets/base",
            "overflow": null,
            "_model_module_version": "1.2.0",
            "_view_count": null,
            "flex_flow": null,
            "width": null,
            "min_width": null,
            "border": null,
            "align_items": null,
            "bottom": null,
            "_model_module": "@jupyter-widgets/base",
            "top": null,
            "grid_column": null,
            "overflow_y": null,
            "overflow_x": null,
            "grid_auto_flow": null,
            "grid_area": null,
            "grid_template_columns": null,
            "flex": null,
            "_model_name": "LayoutModel",
            "justify_items": null,
            "grid_row": null,
            "max_height": null,
            "align_content": null,
            "visibility": null,
            "align_self": null,
            "height": null,
            "min_height": null,
            "padding": null,
            "grid_auto_rows": null,
            "grid_gap": null,
            "max_width": null,
            "order": null,
            "_view_module_version": "1.2.0",
            "grid_template_areas": null,
            "object_position": null,
            "object_fit": null,
            "grid_auto_columns": null,
            "margin": null,
            "display": null,
            "left": null
          }
        },
        "2d9c49c4b0bc4ca69487223090531088": {
          "model_module": "@jupyter-widgets/controls",
          "model_name": "DropdownModel",
          "state": {
            "_options_labels": [
              "gaussian",
              "tophat",
              "epanechnikov",
              "exponential",
              "linear",
              "cosine"
            ],
            "_view_name": "DropdownView",
            "style": "IPY_MODEL_9235fe4c43c84083b45440c36f12bc31",
            "_dom_classes": [],
            "description": "Kernel:",
            "_model_name": "DropdownModel",
            "index": 0,
            "_view_module": "@jupyter-widgets/controls",
            "_model_module_version": "1.5.0",
            "_view_count": null,
            "disabled": false,
            "_view_module_version": "1.5.0",
            "description_tooltip": null,
            "_model_module": "@jupyter-widgets/controls",
            "layout": "IPY_MODEL_2bc8239a25634c87969a720c53e1f21c"
          }
        },
        "31f02d1e1787447eb698155376f86c1e": {
          "model_module": "@jupyter-widgets/controls",
          "model_name": "VBoxModel",
          "state": {
            "_view_name": "VBoxView",
            "_dom_classes": [],
            "_model_name": "VBoxModel",
            "_view_module": "@jupyter-widgets/controls",
            "_model_module_version": "1.5.0",
            "_view_count": null,
            "_view_module_version": "1.5.0",
            "box_style": "",
            "layout": "IPY_MODEL_0b580f735a7c4240a14d3a336ab08116",
            "_model_module": "@jupyter-widgets/controls",
            "children": [
              "IPY_MODEL_0b47fb9681a04660bc689a2c3585499d",
              "IPY_MODEL_14e7227e244b443ab76d898e9f867476"
            ]
          }
        },
        "9235fe4c43c84083b45440c36f12bc31": {
          "model_module": "@jupyter-widgets/controls",
          "model_name": "DescriptionStyleModel",
          "state": {
            "_view_name": "StyleView",
            "_model_name": "DescriptionStyleModel",
            "description_width": "",
            "_view_module": "@jupyter-widgets/base",
            "_model_module_version": "1.5.0",
            "_view_count": null,
            "_view_module_version": "1.2.0",
            "_model_module": "@jupyter-widgets/controls"
          }
        },
        "2bc8239a25634c87969a720c53e1f21c": {
          "model_module": "@jupyter-widgets/base",
          "model_name": "LayoutModel",
          "state": {
            "_view_name": "LayoutView",
            "grid_template_rows": null,
            "right": null,
            "justify_content": null,
            "_view_module": "@jupyter-widgets/base",
            "overflow": null,
            "_model_module_version": "1.2.0",
            "_view_count": null,
            "flex_flow": null,
            "width": null,
            "min_width": null,
            "border": null,
            "align_items": null,
            "bottom": null,
            "_model_module": "@jupyter-widgets/base",
            "top": null,
            "grid_column": null,
            "overflow_y": null,
            "overflow_x": null,
            "grid_auto_flow": null,
            "grid_area": null,
            "grid_template_columns": null,
            "flex": null,
            "_model_name": "LayoutModel",
            "justify_items": null,
            "grid_row": null,
            "max_height": null,
            "align_content": null,
            "visibility": null,
            "align_self": null,
            "height": null,
            "min_height": null,
            "padding": null,
            "grid_auto_rows": null,
            "grid_gap": null,
            "max_width": null,
            "order": null,
            "_view_module_version": "1.2.0",
            "grid_template_areas": null,
            "object_position": null,
            "object_fit": null,
            "grid_auto_columns": null,
            "margin": null,
            "display": null,
            "left": null
          }
        },
        "0b580f735a7c4240a14d3a336ab08116": {
          "model_module": "@jupyter-widgets/base",
          "model_name": "LayoutModel",
          "state": {
            "_view_name": "LayoutView",
            "grid_template_rows": null,
            "right": null,
            "justify_content": null,
            "_view_module": "@jupyter-widgets/base",
            "overflow": null,
            "_model_module_version": "1.2.0",
            "_view_count": null,
            "flex_flow": null,
            "width": null,
            "min_width": null,
            "border": null,
            "align_items": null,
            "bottom": null,
            "_model_module": "@jupyter-widgets/base",
            "top": null,
            "grid_column": null,
            "overflow_y": null,
            "overflow_x": null,
            "grid_auto_flow": null,
            "grid_area": null,
            "grid_template_columns": null,
            "flex": null,
            "_model_name": "LayoutModel",
            "justify_items": null,
            "grid_row": null,
            "max_height": null,
            "align_content": null,
            "visibility": null,
            "align_self": null,
            "height": null,
            "min_height": null,
            "padding": null,
            "grid_auto_rows": null,
            "grid_gap": null,
            "max_width": null,
            "order": null,
            "_view_module_version": "1.2.0",
            "grid_template_areas": null,
            "object_position": null,
            "object_fit": null,
            "grid_auto_columns": null,
            "margin": null,
            "display": null,
            "left": null
          }
        },
        "0b47fb9681a04660bc689a2c3585499d": {
          "model_module": "@jupyter-widgets/controls",
          "model_name": "FloatSliderModel",
          "state": {
            "_view_name": "FloatSliderView",
            "style": "IPY_MODEL_c7facc2873b74e64b6f453f5cad3af4b",
            "_dom_classes": [],
            "description": "bandwidth",
            "step": 0.1,
            "_model_name": "FloatSliderModel",
            "orientation": "horizontal",
            "max": 50,
            "_view_module": "@jupyter-widgets/controls",
            "_model_module_version": "1.5.0",
            "value": 10,
            "_view_count": null,
            "disabled": false,
            "_view_module_version": "1.5.0",
            "min": 1,
            "continuous_update": true,
            "readout_format": ".2f",
            "description_tooltip": null,
            "readout": true,
            "_model_module": "@jupyter-widgets/controls",
            "layout": "IPY_MODEL_7feae0c197ba434ea9512971fc52e588"
          }
        },
        "14e7227e244b443ab76d898e9f867476": {
          "model_module": "@jupyter-widgets/controls",
          "model_name": "ButtonModel",
          "state": {
            "_view_name": "ButtonView",
            "style": "IPY_MODEL_d7815f0ee6cd47d1a2f8d2e2d562b3fd",
            "_dom_classes": [],
            "description": "Cross Validation",
            "_model_name": "ButtonModel",
            "button_style": "",
            "_view_module": "@jupyter-widgets/controls",
            "_model_module_version": "1.5.0",
            "tooltip": "",
            "_view_count": null,
            "disabled": false,
            "_view_module_version": "1.5.0",
            "layout": "IPY_MODEL_708e2675bc3f40b08d48f788a4b60343",
            "_model_module": "@jupyter-widgets/controls",
            "icon": ""
          }
        },
        "c7facc2873b74e64b6f453f5cad3af4b": {
          "model_module": "@jupyter-widgets/controls",
          "model_name": "SliderStyleModel",
          "state": {
            "_view_name": "StyleView",
            "handle_color": null,
            "_model_name": "SliderStyleModel",
            "description_width": "",
            "_view_module": "@jupyter-widgets/base",
            "_model_module_version": "1.5.0",
            "_view_count": null,
            "_view_module_version": "1.2.0",
            "_model_module": "@jupyter-widgets/controls"
          }
        },
        "7feae0c197ba434ea9512971fc52e588": {
          "model_module": "@jupyter-widgets/base",
          "model_name": "LayoutModel",
          "state": {
            "_view_name": "LayoutView",
            "grid_template_rows": null,
            "right": null,
            "justify_content": null,
            "_view_module": "@jupyter-widgets/base",
            "overflow": null,
            "_model_module_version": "1.2.0",
            "_view_count": null,
            "flex_flow": null,
            "width": null,
            "min_width": null,
            "border": null,
            "align_items": null,
            "bottom": null,
            "_model_module": "@jupyter-widgets/base",
            "top": null,
            "grid_column": null,
            "overflow_y": null,
            "overflow_x": null,
            "grid_auto_flow": null,
            "grid_area": null,
            "grid_template_columns": null,
            "flex": null,
            "_model_name": "LayoutModel",
            "justify_items": null,
            "grid_row": null,
            "max_height": null,
            "align_content": null,
            "visibility": null,
            "align_self": null,
            "height": null,
            "min_height": null,
            "padding": null,
            "grid_auto_rows": null,
            "grid_gap": null,
            "max_width": null,
            "order": null,
            "_view_module_version": "1.2.0",
            "grid_template_areas": null,
            "object_position": null,
            "object_fit": null,
            "grid_auto_columns": null,
            "margin": null,
            "display": null,
            "left": null
          }
        },
        "d7815f0ee6cd47d1a2f8d2e2d562b3fd": {
          "model_module": "@jupyter-widgets/controls",
          "model_name": "ButtonStyleModel",
          "state": {
            "_view_name": "StyleView",
            "_model_name": "ButtonStyleModel",
            "_view_module": "@jupyter-widgets/base",
            "_model_module_version": "1.5.0",
            "_view_count": null,
            "button_color": null,
            "font_weight": "",
            "_view_module_version": "1.2.0",
            "_model_module": "@jupyter-widgets/controls"
          }
        },
        "708e2675bc3f40b08d48f788a4b60343": {
          "model_module": "@jupyter-widgets/base",
          "model_name": "LayoutModel",
          "state": {
            "_view_name": "LayoutView",
            "grid_template_rows": null,
            "right": null,
            "justify_content": null,
            "_view_module": "@jupyter-widgets/base",
            "overflow": null,
            "_model_module_version": "1.2.0",
            "_view_count": null,
            "flex_flow": null,
            "width": null,
            "min_width": null,
            "border": null,
            "align_items": null,
            "bottom": null,
            "_model_module": "@jupyter-widgets/base",
            "top": null,
            "grid_column": null,
            "overflow_y": null,
            "overflow_x": null,
            "grid_auto_flow": null,
            "grid_area": null,
            "grid_template_columns": null,
            "flex": null,
            "_model_name": "LayoutModel",
            "justify_items": null,
            "grid_row": null,
            "max_height": null,
            "align_content": null,
            "visibility": null,
            "align_self": null,
            "height": null,
            "min_height": null,
            "padding": null,
            "grid_auto_rows": null,
            "grid_gap": null,
            "max_width": null,
            "order": null,
            "_view_module_version": "1.2.0",
            "grid_template_areas": null,
            "object_position": null,
            "object_fit": null,
            "grid_auto_columns": null,
            "margin": null,
            "display": null,
            "left": null
          }
        },
        "3e400fee91b7499d89ba2880a6d2c1af": {
          "model_module": "@jupyter-widgets/output",
          "model_name": "OutputModel",
          "state": {
            "_view_name": "OutputView",
            "msg_id": "",
            "_dom_classes": [],
            "_model_name": "OutputModel",
            "outputs": [
              {
                "output_type": "display_data",
                "metadata": {
                  "tags": []
                },
                "image/png": "iVBORw0KGgoAAAANSUhEUgAAAn8AAAH1CAYAAACHjZjYAAAABHNCSVQICAgIfAhkiAAAAAlwSFlz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\n",
                "text/plain": "<Figure size 720x576 with 1 Axes>"
              }
            ],
            "_view_module": "@jupyter-widgets/output",
            "_model_module_version": "1.0.0",
            "_view_count": null,
            "_view_module_version": "1.0.0",
            "layout": "IPY_MODEL_113cc6450df54b079f2b1df340e622ca",
            "_model_module": "@jupyter-widgets/output"
          }
        }
      }
    }
  },
  "cells": [
    {
      "cell_type": "markdown",
      "metadata": {
        "id": "view-in-github",
        "colab_type": "text"
      },
      "source": [
        "<a href=\"https://colab.research.google.com/github/fbeilstein/machine_learning/blob/master/lecture_13_kernel_density_estimation.ipynb\" target=\"_parent\"><img src=\"https://colab.research.google.com/assets/colab-badge.svg\" alt=\"Open In Colab\"/></a>"
      ]
    },
    {
      "cell_type": "markdown",
      "metadata": {
        "id": "BJ-DUq6MoqWc",
        "colab_type": "text"
      },
      "source": [
        "#Kernel density estimation / Ядрова оцінка густини розподілу"
      ]
    },
    {
      "cell_type": "markdown",
      "metadata": {
        "id": "gZYadnN3sfQi",
        "colab_type": "text"
      },
      "source": [
        "**K**ernel **D**ensity **E**stimation (KDE) is a technique for estimation of probability distribution of the random variable.\n",
        "Before we had two instruments for that:\n",
        "* histograms to capture emphirical frequencies to approximate underlying probability distribution;\n",
        "* guessing a family of probability distributions that the data probably follows and estimating parameters (using MLE) of a most fit of these distributions.\n",
        "\n",
        "KDE is another option for us. It can be seen as an extention of the histogram technique."
      ]
    },
    {
      "cell_type": "markdown",
      "metadata": {
        "id": "g2i9dmgzT0jN",
        "colab_type": "text"
      },
      "source": [
        "#Motivating KDE: Histograms"
      ]
    },
    {
      "cell_type": "markdown",
      "metadata": {
        "id": "3lzFBpANoxck",
        "colab_type": "text"
      },
      "source": [
        "Although histograms are useful and widely used it's also true that\n",
        "\n",
        "$$\n",
        "\\text{Histograms are trickier than they seem.}\n",
        "$$\n",
        "\n",
        "The bins sizes and location could be chosen in many ways. This can drastically change the overall shape of the histogram."
      ]
    },
    {
      "cell_type": "code",
      "metadata": {
        "id": "FgTGp-GsT13k",
        "colab_type": "code",
        "outputId": "064a4be7-a2d8-40e7-bd4c-622fb936501c",
        "colab": {
          "base_uri": "https://localhost:8080/",
          "height": 274
        }
      },
      "source": [
        "%matplotlib inline\n",
        "import matplotlib.pyplot as plt\n",
        "import seaborn as sns; sns.set()\n",
        "import numpy as np\n",
        "\n",
        "def make_data(N, f=0.3, rseed=1):\n",
        "  rand = np.random.RandomState(rseed)\n",
        "  x = rand.randn(N)\n",
        "  x[int(f * N):] += 5\n",
        "  return x\n",
        "\n",
        "x = make_data(1000)\n",
        "hist = plt.hist(x, bins=30, density=True)"
      ],
      "execution_count": 0,
      "outputs": [
        {
          "output_type": "display_data",
          "data": {
            "image/png": "[encoded data removed]",
            "text/plain": [
              "<Figure size 432x288 with 1 Axes>"
            ]
          },
          "metadata": {
            "tags": []
          }
        }
      ]
    },
    {
      "cell_type": "code",
      "metadata": {
        "id": "wybFbOtjtMuS",
        "colab_type": "code",
        "outputId": "6fd9e0e2-0aeb-4716-8240-7c80a2060a7e",
        "colab": {
          "base_uri": "https://localhost:8080/",
          "height": 34
        }
      },
      "source": [
        "# histogram is normed = area equa to 1\n",
        "density, bins, patches = hist\n",
        "widths = bins[1:] - bins[:-1]\n",
        "(density * widths).sum()"
      ],
      "execution_count": 0,
      "outputs": [
        {
          "output_type": "execute_result",
          "data": {
            "text/plain": [
              "1.0"
            ]
          },
          "metadata": {
            "tags": []
          },
          "execution_count": 6
        }
      ]
    },
    {
      "cell_type": "markdown",
      "metadata": {
        "id": "bLtxb-45122v",
        "colab_type": "text"
      },
      "source": [
        "The issue is that depending on the bins the histograms may have different *qualitive* features. Consider this."
      ]
    },
    {
      "cell_type": "code",
      "metadata": {
        "id": "BgtT92WP1Y26",
        "colab_type": "code",
        "outputId": "3581bdbe-4723-4cbb-ffde-cc94afae90c9",
        "colab": {
          "base_uri": "https://localhost:8080/",
          "height": 274
        }
      },
      "source": [
        "x = make_data(20)\n",
        "bins = np.linspace(-5, 10, 10)\n",
        "fig, ax = plt.subplots(1, 2, figsize=(12, 4), sharex=True, sharey=True, subplot_kw={'xlim':(-4, 9), 'ylim':(-0.02, 0.3)})\n",
        "fig.subplots_adjust(wspace=0.05)\n",
        "for i, offset in enumerate([0.0, 0.6]):\n",
        "  ax[i].hist(x, bins=bins + offset, density=True)\n",
        "  ax[i].plot(x, np.full_like(x, -0.01), '|k', markeredgewidth=1)\n",
        "  \n"
      ],
      "execution_count": 0,
      "outputs": [
        {
          "output_type": "display_data",
          "data": {
            "image/png": "[encoded data removed]",
            "text/plain": [
              "<Figure size 864x288 with 2 Axes>"
            ]
          },
          "metadata": {
            "tags": []
          }
        }
      ]
    },
    {
      "cell_type": "markdown",
      "metadata": {
        "id": "aAoW_Glkphhh",
        "colab_type": "text"
      },
      "source": [
        "So it the underlying distribution bimodal or unimodal?\n",
        "\n",
        "---\n",
        "\n",
        "**Sidenote** \n",
        "\n",
        "---\n",
        "\n",
        "On the above picture we have used **a rug plot** -- a plot of data for a single quantitative variable, displayed as marks along an axis. As such it is analogous to a histogram with zero-width bins, or a one-dimensional scatter plot.\n",
        "Rug plots are often used in combination with two-dimensional scatter plots by placing a rug plot of the x values of the data along the x-axis, and similarly for the y values. This is the origin of the term \"rug plot\", as these rug plots with perpendicular markers look like tassels along the edges of the rectangular \"rug\" of the scatter plot.\n",
        "\n",
        "---\n",
        "\n",
        "We can try to solve the problem with the ambiguity of the bin choice by the following idea.\n",
        "You can rethink histogram as square blocks stacked on each other. Each block represents one point of data. If several datapoints are contained within one bin their blocks are placed one at the top of the other."
      ]
    },
    {
      "cell_type": "code",
      "metadata": {
        "id": "nlOSSBRl155E",
        "colab_type": "code",
        "outputId": "a2ffb0d3-9471-4d68-ca35-41e4c912160a",
        "colab": {
          "base_uri": "https://localhost:8080/",
          "height": 274
        }
      },
      "source": [
        "fig, ax = plt.subplots()\n",
        "bins = np.arange(-3, 8)\n",
        "ax.plot(x, np.full_like(x, -0.1), '|k', markeredgewidth=1)\n",
        "for count, edge in zip(*np.histogram(x, bins)):\n",
        "  for i in range(count):\n",
        "    ax.add_patch(plt.Rectangle((edge, i), 1, 1, alpha=0.5))\n",
        "    ax.set_xlim(-4, 8)\n",
        "    ax.set_ylim(-0.2, 8)"
      ],
      "execution_count": 0,
      "outputs": [
        {
          "output_type": "display_data",
          "data": {
            "image/png": "[encoded data removed]",
            "text/plain": [
              "<Figure size 432x288 with 1 Axes>"
            ]
          },
          "metadata": {
            "tags": []
          }
        }
      ]
    },
    {
      "cell_type": "markdown",
      "metadata": {
        "id": "yn5kCMDVpuIa",
        "colab_type": "text"
      },
      "source": [
        "But what if we placed each block so its center is just below the point it represents."
      ]
    },
    {
      "cell_type": "code",
      "metadata": {
        "id": "PmaIt2FW2XD9",
        "colab_type": "code",
        "outputId": "29fca3e3-6bf5-400f-9cf8-db443c4db1a6",
        "colab": {
          "base_uri": "https://localhost:8080/",
          "height": 274
        }
      },
      "source": [
        "x_d = np.linspace(-4, 8, 2000)\n",
        "density = sum((abs(xi - x_d) < 0.5) for xi in x)\n",
        "plt.fill_between(x_d, density, alpha=0.5)\n",
        "plt.plot(x, np.full_like(x, -0.1), '|k', markeredgewidth=1)\n",
        "plt.axis([-4, 8, -0.2, 8]);"
      ],
      "execution_count": 0,
      "outputs": [
        {
          "output_type": "display_data",
          "data": {
            "image/png": "[encoded data removed]",
            "text/plain": [
              "<Figure size 432x288 with 1 Axes>"
            ]
          },
          "metadata": {
            "tags": []
          }
        }
      ]
    },
    {
      "cell_type": "markdown",
      "metadata": {
        "id": "C7LI-9YHtiZZ",
        "colab_type": "text"
      },
      "source": [
        "Analytically this can be seen as if we have placed a \"square\" function (kernel) centered at each point and then we have summed all the functions up.\n",
        "\n",
        "![](https://raw.githubusercontent.com/fbeilstein/machine_learning/master/lecture_13/tophat.png) \n",
        "\n",
        "<br>\n",
        "\n",
        "This type of kernel is called top hat as it recalls a flat-crowned hat (aka cylinder - another term that is both a hat and a math object). The length of the kernel function has not have to be equal to the height.\n",
        "\n",
        "<br>\n",
        "\n",
        "![](https://raw.githubusercontent.com/fbeilstein/machine_learning/master/lecture_13/hat.png) \n",
        "\n",
        "<br>\n",
        "\n",
        "Now to make things not so \"right angled\" we can sum up smooth functions (for example Gaussians) instead of rectangular shapes (top hats)."
      ]
    },
    {
      "cell_type": "code",
      "metadata": {
        "id": "0NuMPFTb2k4v",
        "colab_type": "code",
        "outputId": "dfbb187a-ee23-46d8-a381-e456b9b2d09e",
        "colab": {
          "base_uri": "https://localhost:8080/",
          "height": 274
        }
      },
      "source": [
        "from scipy.stats import norm\n",
        "\n",
        "x_d = np.linspace(-4, 8, 1000)\n",
        "density = sum(norm(xi).pdf(x_d) for xi in x)\n",
        "plt.fill_between(x_d, density, alpha=0.5)\n",
        "plt.plot(x, np.full_like(x, -0.1), '|k', markeredgewidth=1)\n",
        "plt.axis([-4, 8, -0.2, 5]);\n",
        "\n",
        "# a Gaussian kernel"
      ],
      "execution_count": 0,
      "outputs": [
        {
          "output_type": "display_data",
          "data": {
            "image/png": "[encoded data removed]",
            "text/plain": [
              "<Figure size 432x288 with 1 Axes>"
            ]
          },
          "metadata": {
            "tags": []
          }
        }
      ]
    },
    {
      "cell_type": "markdown",
      "metadata": {
        "id": "UKtTyenQ21oM",
        "colab_type": "text"
      },
      "source": [
        "#Kernel Density Estimation "
      ]
    },
    {
      "cell_type": "markdown",
      "metadata": {
        "id": "spIbstS6H-qt",
        "colab_type": "text"
      },
      "source": [
        "In order to do KDE we need to make our mind about two things:\n",
        "  * kernel, which specifies the shape of the distribution placed at each point\n",
        "  * kernel bandwidth, which controls the size of the kernel at each point\n"
      ]
    },
    {
      "cell_type": "markdown",
      "metadata": {
        "id": "mmMie2p4_Nr0",
        "colab_type": "text"
      },
      "source": [
        "##Choosing kernel"
      ]
    },
    {
      "cell_type": "markdown",
      "metadata": {
        "id": "RU6-AjKD_S15",
        "colab_type": "text"
      },
      "source": [
        "On every data point $x_i$ we place a *kernel* function $K$. The kernel density estimate is then\n",
        "\n",
        "$$\n",
        "\\hat{f}_h(x)=\\frac{1}{Nh}\\sum_{i=1}^N K\\left(\\frac{x-x_i}{h}\\right),\n",
        "$$\n",
        "\n",
        "where $h$ is the scaling parameter caled *bandwidth*.\n",
        "\n",
        "In fact we can subtitute equal factors of $1/N$ with weights that can emphasize one points against the others:\n",
        "\n",
        "$$\n",
        "\\begin{aligned}\n",
        "& \\hat{f}_h(x)=\\frac{1}{h}\\sum_{i=1}^N w_i \\cdot K\\left(\\frac{x-x_i}{h}\\right), \\\\\n",
        "&\\sum_{i=1}^N w_i=1.\n",
        "\\end{aligned}\n",
        "$$\n",
        "\n",
        "The kernel function is typically\n",
        "* non-negative: $K(x) \\geq 0$;\n",
        "* symmetric: $\\,\\,\\,\\,\\, K(x)=K(-x)$;\n",
        "* decreasing: $\\,\\,\\,\\, K'(x)\\leq 0$;\n",
        "* $\\int K(x)dx=1$.\n",
        "\n",
        "$K$ has either compact support or decrease sufficiently fast approaching infinity.\n",
        "\n",
        "In the multivariate case (with $d$ dimensions) we have\n",
        "\n",
        "$$\n",
        "\\hat{f}_h(x)=\\frac{1}{Nh^d}\\sum_{i=1}^N K\\left(\\frac{\\|x-x_i\\|}{h}\\right),\n",
        "$$\n",
        "\n",
        "where $\\|\\cdot \\|$ is a some kind of norm, for example $p$-norm\n",
        "\n",
        "$$ \n",
        "\\|x\\|_p = \\left(\\sum_i |x_i|^p \\right)^{1/p}\n",
        "$$\n",
        "\n",
        "Although it's fun to see how the choise of kernel and metric affects the outcome,  it doesn't matter so much when there are lots of points.\n",
        "\n",
        "Nonetheless, what are our options when choosing the kernels?"
      ]
    },
    {
      "cell_type": "code",
      "metadata": {
        "id": "4R5k0DYyy0nl",
        "colab_type": "code",
        "outputId": "78b81d40-54ec-467f-99d1-f84042c624e6",
        "cellView": "form",
        "colab": {
          "base_uri": "https://localhost:8080/",
          "height": 393
        }
      },
      "source": [
        "#@title Available kernels\n",
        "\n",
        "import numpy as np\n",
        "import matplotlib\n",
        "import matplotlib.pyplot as plt\n",
        "from distutils.version import LooseVersion\n",
        "from scipy.stats import norm\n",
        "from sklearn.neighbors import KernelDensity\n",
        "\n",
        "\n",
        "X_plot = np.linspace(-6, 6, 1000)[:, None]\n",
        "X_src = np.zeros((1, 1))\n",
        "\n",
        "fig, ax = plt.subplots(2, 3, sharex=True, sharey=True, figsize=(10, 6))\n",
        "fig.subplots_adjust(left=0.05, right=0.95, hspace=0.05, wspace=0.05)\n",
        "\n",
        "\n",
        "def format_func(x, loc):\n",
        "    if x == 0:\n",
        "        return '0'\n",
        "    elif x == 1:\n",
        "        return 'h'\n",
        "    elif x == -1:\n",
        "        return '-h'\n",
        "    else:\n",
        "        return '%ih' % x\n",
        "\n",
        "for i, kernel in enumerate(['gaussian', 'tophat', 'epanechnikov',\n",
        "                            'exponential', 'linear', 'cosine']):\n",
        "    axi = ax.ravel()[i]\n",
        "    log_dens = KernelDensity(kernel=kernel).fit(X_src).score_samples(X_plot)\n",
        "    axi.fill(X_plot[:, 0], np.exp(log_dens), '-k', fc='#AAAAFF')\n",
        "    axi.text(-2.6, 0.95, kernel)\n",
        "\n",
        "    axi.xaxis.set_major_formatter(plt.FuncFormatter(format_func))\n",
        "    axi.xaxis.set_major_locator(plt.MultipleLocator(1))\n",
        "    axi.yaxis.set_major_locator(plt.NullLocator())\n",
        "\n",
        "    axi.set_ylim(0, 1.05)\n",
        "    axi.set_xlim(-2.9, 2.9)\n",
        "\n",
        "ax[0, 1].set_title('Available Kernels');\n"
      ],
      "execution_count": 0,
      "outputs": [
        {
          "output_type": "display_data",
          "data": {
            "image/png": "[encoded data removed]",
            "text/plain": [
              "<Figure size 720x432 with 6 Axes>"
            ]
          },
          "metadata": {
            "tags": []
          }
        }
      ]
    },
    {
      "cell_type": "markdown",
      "metadata": {
        "id": "VVGzEnOy8qkx",
        "colab_type": "text"
      },
      "source": [
        "$$\n",
        "\\begin{aligned}\n",
        "& K_{\\text{Gaussian}}(x;h) && \\propto \\quad e^{-\\frac{x^2}{2h^2}}; \\\\\n",
        "& K_{\\text{Tophat}}(x;h) && \\propto \\quad 1, &&& \\text{if   } \\quad x<h; \\\\\n",
        "& K_{\\text{Epanechnikov}}(x;h) && \\propto \\quad 1-\\frac{x^2}{h^2}; \\\\\n",
        "& K_{\\text{Exponential}}(x;h) && \\propto \\quad e^{-\\frac{x}{h}}; \\\\\n",
        "& K_{\\text{Linear}}(x;h) && \\propto \\quad 1-\\frac{|x|}{h}, &&& \\text{if   } \\quad |x|<h; \\\\\n",
        "& K_{\\text{Cosine}}(x;h) && \\propto \\quad \\cos{\\frac{\\pi x}{2 h}}, &&& \\text{if   } \\quad x<h. \\\\\n",
        "\\end{aligned}\n",
        "$$\n",
        "\n",
        "you can choose those by setting `kernel` parameter:\n",
        "* `kernel = 'gaussian';`\n",
        "* `kernel = 'tophat';`\n",
        "* `kernel = 'epanechnikov';`\n",
        "* `kernel = 'exponential';`\n",
        "* `kernel = 'linear';`\n",
        "* `kernel = 'cosine'.`"
      ]
    },
    {
      "cell_type": "markdown",
      "metadata": {
        "id": "UkuES-PX_H28",
        "colab_type": "text"
      },
      "source": [
        "##Choosing bandwidth"
      ]
    },
    {
      "cell_type": "markdown",
      "metadata": {
        "id": "EWh6vAx9_l39",
        "colab_type": "text"
      },
      "source": [
        "The choice of bandwidth within KDE is extremely important (the bias–variance trade-off).\n",
        "\n",
        "   *  too narrow a bandwidth leads to a high-variance estimate (i.e., overfitting)\n",
        "   * too wide a bandwidth leads to a high-bias estimate (i.e., underfitting)\n",
        "\n",
        "<br>\n",
        "\n",
        "   ![](https://raw.githubusercontent.com/fbeilstein/machine_learning/master/lecture_13/band.png) "
      ]
    },
    {
      "cell_type": "markdown",
      "metadata": {
        "id": "am_w-S6sMY4X",
        "colab_type": "text"
      },
      "source": [
        "###Theoretical considerations"
      ]
    },
    {
      "cell_type": "markdown",
      "metadata": {
        "id": "SXcsA8-Wt3y9",
        "colab_type": "text"
      },
      "source": [
        "The most common optimality criterion used to select this parameter is the expected $L_2$ risk function, also termed the **mean integrated squared error**:\n",
        "\n",
        "$$\\text{MISE}(h)=\\mathbb{E}\\left[\\int \\left(\\hat{f}_h(x)-f(x)\\right)^2 dx \\right].$$\n",
        "\n",
        "Under weak assumptions on $f$ and $K$\n",
        "\n",
        "$$\n",
        "\\text{MISE}(h)=\\text{AMISE}(h)+o\\left(\\frac{1}{Nh}+h^4\\right).\n",
        "$$\n",
        "\n",
        "The $\\text{AMISE}$ is the **A**symptotic **MISE** which consists of the two leading terms\n",
        "\n",
        "$$\n",
        "\\text{AMISE}(h)=\\frac{R(K)}{Nh}+\\frac{1}{4}m_2(K)^2h^4R(f''),\n",
        "$$\n",
        "\n",
        "where $R(g)=\\int g(x)^2 dx$ and $m_2(K)=\\int x^2 K(x) dx$. Thus\n",
        "* $R(g)$ is the functional $L_2$-norm;\n",
        "* $m_2(K)=\\mathbb{E}_K[x^2]$ is the so-called $2$-nd non-central moment of the kernel.\n",
        "\n",
        "The minimum of this $\\text{AMISE}$ is the solution to this differential equation\n",
        "\n",
        "$$\n",
        "\\begin{aligned}\n",
        "& \\frac{\\partial}{\\partial h}\\text{AMISE}(h) =-\\frac{R(K)}{N h^2}+m_2(K)^2h^3R(f'')=0 \\color{red}{\\Rightarrow} \\\\\n",
        "& \\color{red}{\\Rightarrow} \\qquad h_{\\text{AMISE}} =\\frac{R(K)^{1/5}}{m_2(K)^{2/5} R(f'')^{1/5}N^{1/5}}.\n",
        "\\end{aligned}\n",
        "$$\n",
        "\n",
        "Neither the $\\text{AMISE}$ nor the $h_\\text{AMISE}$ formulas are able to be used directly since they involve the unknown density function $f$ or its second derivative $f''$, so a variety of automatic, data-based methods have been developed for selecting the bandwidth."
      ]
    },
    {
      "cell_type": "markdown",
      "metadata": {
        "id": "ikXJjC-IJR7B",
        "colab_type": "text"
      },
      "source": [
        "###Silverman's Rule of Thumb"
      ]
    },
    {
      "cell_type": "markdown",
      "metadata": {
        "id": "F9e1Z4OmJT0W",
        "colab_type": "text"
      },
      "source": [
        "If the data is unimodal and close to normal, silverman’s rule of thumb may be used. It’s computationally very fast, but derived by assuming that the true density is normal. This is somewhat paradoxal, since if we knew that the data was truly normal it would render a kernel density estimator unnecessary.\n",
        "\n",
        "$$\n",
        "h=\\left(\\frac{4}{3}\\frac{\\hat{\\sigma}^5}{N}\\right)^{\\frac{1}{5}}.\n",
        "$$"
      ]
    },
    {
      "cell_type": "markdown",
      "metadata": {
        "id": "501YP8v3J1bf",
        "colab_type": "text"
      },
      "source": [
        "###Improved Sheather-Jones (ISJ) algorithm "
      ]
    },
    {
      "cell_type": "markdown",
      "metadata": {
        "id": "8BSBQb_hJ4oZ",
        "colab_type": "text"
      },
      "source": [
        "If much data is available and the data is far from normal or multimodal, the **I**mproved **S**heather **J**ones (ISJ) algorithm may be used. The Improved Sheather-Jones algorithm is a plug-in selector. \n",
        "\n",
        "The ISJ algorithm attempts to find h to minimize the asymptotic mean integrated square error ($\\text{AMISE}$), which depends on the unknown quantity $\\|f''(x)\\|^2$. Using a recursive formula, this is accomplished by computing a sequence of estimates."
      ]
    },
    {
      "cell_type": "markdown",
      "metadata": {
        "id": "q8stjXouIyTz",
        "colab_type": "text"
      },
      "source": [
        "###Selecting the bandwidth via cross-validation"
      ]
    },
    {
      "cell_type": "code",
      "metadata": {
        "id": "P_6K4w_3Izgz",
        "colab_type": "code",
        "outputId": "f9e39b77-e5b2-4eca-9800-879c83423287",
        "colab": {
          "base_uri": "https://localhost:8080/",
          "height": 34
        }
      },
      "source": [
        "from sklearn.model_selection import learning_curve, GridSearchCV\n",
        "from sklearn.model_selection import LeaveOneOut #train_test_split\n",
        "\n",
        "bandwidths = 10 ** np.linspace(-1, 1, 100)\n",
        "loo = LeaveOneOut()\n",
        "grid = GridSearchCV(KernelDensity(kernel='gaussian'), {'bandwidth': bandwidths}, cv=loo)\n",
        "grid.fit(x[:, None]);\n",
        "grid.best_params_"
      ],
      "execution_count": 0,
      "outputs": [
        {
          "output_type": "execute_result",
          "data": {
            "text/plain": [
              "{'bandwidth': 1.1233240329780276}"
            ]
          },
          "metadata": {
            "tags": []
          },
          "execution_count": 20
        }
      ]
    },
    {
      "cell_type": "markdown",
      "metadata": {
        "id": "JGrdMpBf_vRg",
        "colab_type": "text"
      },
      "source": [
        "#Interactive 1D example (kernel and bandwidth)"
      ]
    },
    {
      "cell_type": "code",
      "metadata": {
        "id": "YkXbzJ0IIPu8",
        "colab_type": "code",
        "outputId": "281c9909-e4c1-4d63-ea98-66c31bb82ad0",
        "cellView": "form",
        "colab": {
          "resources": {
            "http://localhost:8080/nbextensions/google.colab/tabbar.css": {
              "data": "Lmdvb2ctdGFie3Bvc2l0aW9uOnJlbGF0aXZlO3BhZGRpbmc6NHB4IDhweDtjb2xvcjojMDBjO3RleHQtZGVjb3JhdGlvbjp1bmRlcmxpbmU7Y3Vyc29yOmRlZmF1bHR9Lmdvb2ctdGFiLWJhci10b3AgLmdvb2ctdGFie21hcmdpbjoxcHggNHB4IDAgMDtib3JkZXItYm90dG9tOjA7ZmxvYXQ6bGVmdH0uZ29vZy10YWItYmFyLXRvcDphZnRlciwuZ29vZy10YWItYmFyLWJvdHRvbTphZnRlcntjb250ZW50OiIgIjtkaXNwbGF5OmJsb2NrO2hlaWdodDowO2NsZWFyOmJvdGg7dmlzaWJpbGl0eTpoaWRkZW59Lmdvb2ctdGFiLWJhci1ib3R0b20gLmdvb2ctdGFie21hcmdpbjowIDRweCAxcHggMDtib3JkZXItdG9wOjA7ZmxvYXQ6bGVmdH0uZ29vZy10YWItYmFyLXN0YXJ0IC5nb29nLXRhYnttYXJnaW46MCAwIDRweCAxcHg7Ym9yZGVyLXJpZ2h0OjB9Lmdvb2ctdGFiLWJhci1lbmQgLmdvb2ctdGFie21hcmdpbjowIDFweCA0cHggMDtib3JkZXItbGVmdDowfS5nb29nLXRhYi1ob3ZlcntiYWNrZ3JvdW5kOiNlZWV9Lmdvb2ctdGFiLWRpc2FibGVke2NvbG9yOiM2NjZ9Lmdvb2ctdGFiLXNlbGVjdGVke2NvbG9yOiMwMDA7YmFja2dyb3VuZDojZmZmO3RleHQtZGVjb3JhdGlvbjpub25lO2ZvbnQtd2VpZ2h0OmJvbGQ7Ym9yZGVyOjFweCBzb2xpZCAjNmI5MGRhfS5nb29nLXRhYi1iYXItdG9we3BhZGRpbmctdG9wOjVweCFpbXBvcnRhbnQ7cGFkZGluZy1sZWZ0OjVweCFpbXBvcnRhbnQ7Ym9yZGVyLWJvdHRvbToxcHggc29saWQgIzZiOTBkYSFpbXBvcnRhbnR9Lmdvb2ctdGFiLWJhci10b3AgLmdvb2ctdGFiLXNlbGVjdGVke3RvcDoxcHg7bWFyZ2luLXRvcDowO3BhZGRpbmctYm90dG9tOjVweH0uZ29vZy10YWItYmFyLWJvdHRvbSAuZ29vZy10YWItc2VsZWN0ZWR7dG9wOi0xcHg7bWFyZ2luLWJvdHRvbTowO3BhZGRpbmctdG9wOjVweH0uZ29vZy10YWItYmFyLXN0YXJ0IC5nb29nLXRhYi1zZWxlY3RlZHtsZWZ0OjFweDttYXJnaW4tbGVmdDowO3BhZGRpbmctcmlnaHQ6OXB4fS5nb29nLXRhYi1iYXItZW5kIC5nb29nLXRhYi1zZWxlY3RlZHtsZWZ0Oi0xcHg7bWFyZ2luLXJpZ2h0OjA7cGFkZGluZy1sZWZ0OjlweH0uZ29vZy10YWItYmFye21hcmdpbjowO2JvcmRlcjowO3BhZGRpbmc6MDtsaXN0LXN0eWxlOm5vbmU7Y3Vyc29yOmRlZmF1bHQ7b3V0bGluZTpub25lO2JhY2tncm91bmQ6I2ViZWZmOX0uZ29vZy10YWItYmFyLWNsZWFye2NsZWFyOmJvdGg7aGVpZ2h0OjA7b3ZlcmZsb3c6aGlkZGVufS5nb29nLXRhYi1iYXItc3RhcnR7ZmxvYXQ6bGVmdH0uZ29vZy10YWItYmFyLWVuZHtmbG9hdDpyaWdodH0qIGh0bWwgLmdvb2ctdGFiLWJhci1zdGFydHttYXJnaW4tcmlnaHQ6LTNweH0qIGh0bWwgLmdvb2ctdGFiLWJhci1lbmR7bWFyZ2luLWxlZnQ6LTNweH0=",
              "ok": true,
              "headers": [
                [
                  "content-type",
                  "text/css"
                ]
              ],
              "status": 200,
              "status_text": ""
            },
            "http://localhost:8080/nbextensions/google.colab/tabbar_main.min.js": {
              "data": "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",
              "ok": true,
              "headers": [
                [
                  "content-type",
                  "application/javascript"
                ]
              ],
              "status": 200,
              "status_text": ""
            }
          },
          "base_uri": "https://localhost:8080/",
          "height": 622,
          "referenced_widgets": [
            "ed225189c923421796de933214a8ad5e",
            "e24b319c0c8a4f8997052e9391a2295d",
            "69fcfa1ee2614e7ca28cdfee93cac112",
            "5bb8cf961fde413e961c2e328d3c9ace",
            "971e47cbc3e84a9c8827f3572ca319ad",
            "e55235ab78084c518bc4761ee7b485e7",
            "393aa8692cf846a5a36cd6a88eca9edf",
            "9782fa48671645b785b33bec5a7468ba",
            "a2f5f45c682e4f38b24900e1a8b6b4df",
            "b529ab1a3f624445aad0f01a681ecaaf",
            "f5e49c0e68c44edcae777c13902d2b0d",
            "327ac9dd726648dab8f19197875af672",
            "448824248329483a986c08b0d02b3894",
            "08347a584156495fb72450c8674a22bb",
            "4a3a3d1faf774f39b66f244aed65337b",
            "9dc1a773a02b41e9b3ae9003424c9d70",
            "d90b34d289f84aabafac6577518fb1e6",
            "df878cd232e040a49ab565121833c2ee",
            "51684c7273c64f7692501294d19cc3f2",
            "bbde8c320d934f85956466323f7d3b17",
            "34579988ecb34168931964069f91e9a5",
            "45972406d203479da1053ac9b43bdf95",
            "80739d1193164502860c77de2fc05a2f",
            "f62f66cff3a248608496fe98b49694c4",
            "60d1373f60c642c79bac00f8712b360b",
            "d8f0b1da2f89446d9936ffc1c96a1b50",
            "e41cf560fc4241b880cbf48ca379d224",
            "c7e37fa7f5d14b049e7e4c8781313d66",
            "536f98c568f44c658ef4a5ce17f5fa8e",
            "0f3a05aea2a44f7eb8e3d55fe462e3c6",
            "69b5a53237034ede8baf0ef2c7d7560f",
            "f030cdc7f7a442f5a41d408d59a9e54d",
            "6d11ee3999f8453f853c3d60c854795c",
            "be37d5d8ce2d417f91357b98fcb872d4",
            "2d9c49c4b0bc4ca69487223090531088",
            "31f02d1e1787447eb698155376f86c1e",
            "9235fe4c43c84083b45440c36f12bc31",
            "2bc8239a25634c87969a720c53e1f21c",
            "0b580f735a7c4240a14d3a336ab08116",
            "0b47fb9681a04660bc689a2c3585499d",
            "14e7227e244b443ab76d898e9f867476",
            "c7facc2873b74e64b6f453f5cad3af4b",
            "7feae0c197ba434ea9512971fc52e588",
            "d7815f0ee6cd47d1a2f8d2e2d562b3fd",
            "708e2675bc3f40b08d48f788a4b60343",
            "3e400fee91b7499d89ba2880a6d2c1af"
          ]
        }
      },
      "source": [
        "#@title Bandwidth and kernel in KDE\n",
        "from google.colab import widgets\n",
        "import ipywidgets\n",
        "import scipy\n",
        "from sklearn.neighbors import KernelDensity\n",
        "from sklearn.model_selection import learning_curve, GridSearchCV\n",
        "from sklearn.model_selection import LeaveOneOut #train_test_split\n",
        "\n",
        "\n",
        "\n",
        "params = []\n",
        "X = []\n",
        "b_w = ipywidgets.FloatSlider(description='bandwidth', min=1, max=50.0, value=15.0)\n",
        "ker_type = ipywidgets.Dropdown(\n",
        "  options=['gaussian', 'tophat', 'epanechnikov', 'exponential','linear','cosine'],\n",
        "  value='gaussian',\n",
        "  description='Kernel:',\n",
        "  disabled=False)\n",
        "\n",
        "def set_slider(x):\n",
        "  bandwidths = 10 ** np.linspace(b_w.min, b_w.max, 100)\n",
        "  loo = LeaveOneOut()\n",
        "  grid = GridSearchCV(KernelDensity(kernel=ker_type.value), {'bandwidth': bandwidths}, cv=loo)\n",
        "  grid.fit(np.array(X)[:, None]);\n",
        "  b_w.value = grid.best_params_['bandwidth']\n",
        "\n",
        "def plot_pdf(plot_separate, k_d = None):\n",
        "  global params\n",
        "  global X\n",
        "  if not params:\n",
        "    return\n",
        "\n",
        "  pi1, pi2, pi3, mu1, sig1, mu2, sig2, mu3, sig3 = params\n",
        "  x = np.linspace(np.min(X), np.max(X), 1001)\n",
        "  fig = plt.figure(figsize=(10, 8))\n",
        "  P_sum = np.zeros(x.shape)\n",
        "  for mu, sig, c, pi, i in [[mu1, sig1, 'r', pi1, 1], [mu2, sig2, 'g', pi2, 2], [mu3, sig3, 'b', pi3, 3]]:\n",
        "    P = scipy.stats.norm.pdf(x, mu, sig)\n",
        "    P_sum += P * pi\n",
        "    if plot_separate:\n",
        "      plt.plot(x, P, c, linewidth=2.0, label=\"{}\".format(i), alpha=np.clip(pi, 0.0, 1.0))\n",
        "  \n",
        "  plt.plot(x, P_sum, 'k', linewidth=3.0, label=\"mixture\")\n",
        "  plt.plot(np.array(X), np.full_like(np.array(X), 0.0), '|k', markeredgewidth=1)\n",
        "  plt.title('True pdf / pdf estimate')\n",
        "  plt.xlabel('x')\n",
        "  plt.ylabel('pdf')\n",
        "  plt.legend()\n",
        "  #plt.show()\n",
        "\n",
        "def set_and_plot(pi, mu1, sig1, mu2, sig2, mu3, sig3):\n",
        "  pi1, pi2 = pi; pi2 -= pi1; pi3 = 1.0 - pi2 - pi1;\n",
        "  global params\n",
        "  global X\n",
        "  X = []\n",
        "  params = [pi1, pi2, pi3, mu1, sig1, mu2, sig2, mu3, sig3]\n",
        "  N = 200\n",
        "  for mu, sig, pi in [[mu1, sig1, pi1], [mu2, sig2, pi2], [mu3, sig3, pi3]]:\n",
        "    X = X + np.random.normal(mu, sig, int(N * pi)).tolist()\n",
        "  plot_pdf(True)\n",
        "\n",
        "\n",
        "def ker_plot(b_w, k_t):\n",
        "  kde = KernelDensity(bandwidth=b_w, kernel=k_t)\n",
        "  global X\n",
        "  kde.fit(np.array(X)[:, None])\n",
        "  x_d = np.linspace(np.min(X), np.max(X), 1001)\n",
        "  logprob = kde.score_samples(x_d[:, None])\n",
        "  plot_pdf(False)\n",
        "  plt.fill_between(x_d, np.exp(logprob), alpha=0.5, color='r')\n",
        "\n",
        "tb = widgets.TabBar(['mix distribution', 'find KDE'], location='top')\n",
        "with tb.output_to(0):\n",
        "  words = ['mu_1', 'sigma_1', 'mu_2', 'sigma_2', 'mu_3', 'sigma_3']\n",
        "  mins  = [0.0, 1.0, 0.0, 1.0, 0.0, 1.0]\n",
        "  maxes = [100.0, 10.0, 100.0, 10.0, 100.0, 10.0]\n",
        "  vals  = [10.0, 10.0, 50.0, 10.0, 90.0, 10.0]\n",
        "  sliders = [ipywidgets.FloatSlider(description=w, min=n, max=x, value=v) for w,x,n,v in zip(words, maxes, mins, vals)]\n",
        "  pi_slider = ipywidgets.FloatRangeSlider(value=[0.3, 0.6], min=0.0, max=1.0, description='pi(1,2,3)')\n",
        "  boxes = [ipywidgets.VBox([pi_slider])]\n",
        "  for slider1, slider2 in zip(sliders[::2], sliders[1::2]):\n",
        "    boxes.append(ipywidgets.VBox([slider1, slider2]))\n",
        "  out = ipywidgets.interactive_output(set_and_plot, {\n",
        "    \"pi\": pi_slider,\n",
        "    \"mu1\": sliders[0], \"sig1\": sliders[1],\n",
        "    \"mu2\": sliders[2], \"sig2\": sliders[3],\n",
        "    \"mu3\": sliders[4], \"sig3\": sliders[5]})\n",
        "  display(ipywidgets.HBox(boxes), out)\n",
        "with tb.output_to(1):\n",
        "  btn = ipywidgets.Button(\n",
        "    description='Cross Validation',\n",
        "    disabled=False,\n",
        "    button_style='')\n",
        "  out = ipywidgets.interactive_output(ker_plot, {\"b_w\": b_w, \"k_t\": ker_type})\n",
        "  display(ipywidgets.HBox([ker_type, ipywidgets.VBox([b_w, btn])]), out)\n",
        "  btn.on_click(set_slider)"
      ],
      "execution_count": 62,
      "outputs": [
        {
          "output_type": "display_data",
          "data": {
            "text/html": [
              "<link rel=stylesheet type=text/css href='/nbextensions/google.colab/tabbar.css'></link>"
            ],
            "text/plain": [
              "<IPython.core.display.HTML object>"
            ]
          },
          "metadata": {
            "tags": [
              "outputarea_id48"
            ]
          }
        },
        {
          "output_type": "display_data",
          "data": {
            "text/html": [
              "<script src='/nbextensions/google.colab/tabbar_main.min.js'></script>"
            ],
            "text/plain": [
              "<IPython.core.display.HTML object>"
            ]
          },
          "metadata": {
            "tags": [
              "outputarea_id48"
            ]
          }
        },
        {
          "output_type": "display_data",
          "data": {
            "text/html": [
              "<div id=\"id48\"></div>"
            ],
            "text/plain": [
              "<IPython.core.display.HTML object>"
            ]
          },
          "metadata": {
            "tags": [
              "outputarea_id48"
            ]
          }
        },
        {
          "output_type": "display_data",
          "data": {
            "application/javascript": [
              "window[\"47ce4e66-17c8-11ea-a39b-0242ac1c0002\"] = colab_lib.createTabBar({\"location\": \"top\", \"elementId\": \"id48\", \"tabNames\": [\"mix distribution\", \"find KDE\"], \"initialSelection\": 0, \"contentBorder\": [\"0px\"], \"contentHeight\": [\"initial\"], \"borderColor\": [\"#a7a7a7\"]});\n",
              "//# sourceURL=js_2901f49a7c"
            ],
            "text/plain": [
              "<IPython.core.display.Javascript object>"
            ]
          },
          "metadata": {
            "tags": [
              "outputarea_id48"
            ]
          }
        },
        {
          "output_type": "display_data",
          "data": {
            "application/javascript": [
              "window[\"47cea546-17c8-11ea-a39b-0242ac1c0002\"] = window[\"id48\"].setSelectedTabIndex(0);\n",
              "//# sourceURL=js_18e7bdd44e"
            ],
            "text/plain": [
              "<IPython.core.display.Javascript object>"
            ]
          },
          "metadata": {
            "tags": [
              "outputarea_id48"
            ]
          }
        },
        {
          "output_type": "display_data",
          "data": {
            "application/javascript": [
              "window[\"47d00b52-17c8-11ea-a39b-0242ac1c0002\"] = google.colab.output.getActiveOutputArea();\n",
              "//# sourceURL=js_331a141aeb"
            ],
            "text/plain": [
              "<IPython.core.display.Javascript object>"
            ]
          },
          "metadata": {
            "tags": [
              "id48_content_0",
              "outputarea_id48"
            ]
          }
        },
        {
          "output_type": "display_data",
          "data": {
            "application/javascript": [
              "window[\"47d04a18-17c8-11ea-a39b-0242ac1c0002\"] = document.querySelector(\"#id48_content_0\");\n",
              "//# sourceURL=js_ace433846c"
            ],
            "text/plain": [
              "<IPython.core.display.Javascript object>"
            ]
          },
          "metadata": {
            "tags": [
              "id48_content_0",
              "outputarea_id48"
            ]
          }
        },
        {
          "output_type": "display_data",
          "data": {
            "application/javascript": [
              "window[\"47d0ae5e-17c8-11ea-a39b-0242ac1c0002\"] = google.colab.output.setActiveOutputArea(window[\"47d04a18-17c8-11ea-a39b-0242ac1c0002\"]);\n",
              "//# sourceURL=js_0ad1464fc5"
            ],
            "text/plain": [
              "<IPython.core.display.Javascript object>"
            ]
          },
          "metadata": {
            "tags": [
              "id48_content_0",
              "outputarea_id48"
            ]
          }
        },
        {
          "output_type": "display_data",
          "data": {
            "application/javascript": [
              "window[\"47d0ed1a-17c8-11ea-a39b-0242ac1c0002\"] = window[\"id48\"].setSelectedTabIndex(0);\n",
              "//# sourceURL=js_3638850fd1"
            ],
            "text/plain": [
              "<IPython.core.display.Javascript object>"
            ]
          },
          "metadata": {
            "tags": [
              "id48_content_0",
              "outputarea_id48"
            ]
          }
        },
        {
          "output_type": "display_data",
          "data": {
            "application/vnd.jupyter.widget-view+json": {
              "model_id": "ed225189c923421796de933214a8ad5e",
              "version_minor": 0,
              "version_major": 2
            },
            "text/plain": [
              "HBox(children=(VBox(children=(FloatRangeSlider(value=(0.3, 0.6), description='pi(1,2,3)', max=1.0),)), VBox(ch…"
            ]
          },
          "metadata": {
            "tags": [
              "id48_content_0",
              "outputarea_id48",
              "user_output"
            ]
          }
        },
        {
          "output_type": "display_data",
          "data": {
            "application/vnd.jupyter.widget-view+json": {
              "model_id": "f030cdc7f7a442f5a41d408d59a9e54d",
              "version_minor": 0,
              "version_major": 2
            },
            "text/plain": [
              "Output()"
            ]
          },
          "metadata": {
            "tags": [
              "id48_content_0",
              "outputarea_id48",
              "user_output"
            ]
          }
        },
        {
          "output_type": "display_data",
          "data": {
            "application/javascript": [
              "window[\"48223f58-17c8-11ea-a39b-0242ac1c0002\"] = google.colab.output.setActiveOutputArea(window[\"47d00b52-17c8-11ea-a39b-0242ac1c0002\"]);\n",
              "//# sourceURL=js_fef730da3c"
            ],
            "text/plain": [
              "<IPython.core.display.Javascript object>"
            ]
          },
          "metadata": {
            "tags": [
              "id48_content_0",
              "outputarea_id48"
            ]
          }
        },
        {
          "output_type": "display_data",
          "data": {
            "application/javascript": [
              "window[\"482376de-17c8-11ea-a39b-0242ac1c0002\"] = google.colab.output.getActiveOutputArea();\n",
              "//# sourceURL=js_0487a0fe84"
            ],
            "text/plain": [
              "<IPython.core.display.Javascript object>"
            ]
          },
          "metadata": {
            "tags": [
              "id48_content_1",
              "outputarea_id48"
            ]
          }
        },
        {
          "output_type": "display_data",
          "data": {
            "application/javascript": [
              "window[\"4823b2de-17c8-11ea-a39b-0242ac1c0002\"] = document.querySelector(\"#id48_content_1\");\n",
              "//# sourceURL=js_2cbe108b21"
            ],
            "text/plain": [
              "<IPython.core.display.Javascript object>"
            ]
          },
          "metadata": {
            "tags": [
              "id48_content_1",
              "outputarea_id48"
            ]
          }
        },
        {
          "output_type": "display_data",
          "data": {
            "application/javascript": [
              "window[\"4823fd5c-17c8-11ea-a39b-0242ac1c0002\"] = google.colab.output.setActiveOutputArea(window[\"4823b2de-17c8-11ea-a39b-0242ac1c0002\"]);\n",
              "//# sourceURL=js_ec1d7416a1"
            ],
            "text/plain": [
              "<IPython.core.display.Javascript object>"
            ]
          },
          "metadata": {
            "tags": [
              "id48_content_1",
              "outputarea_id48"
            ]
          }
        },
        {
          "output_type": "display_data",
          "data": {
            "application/javascript": [
              "window[\"48243632-17c8-11ea-a39b-0242ac1c0002\"] = window[\"id48\"].setSelectedTabIndex(1);\n",
              "//# sourceURL=js_4d0cd90fff"
            ],
            "text/plain": [
              "<IPython.core.display.Javascript object>"
            ]
          },
          "metadata": {
            "tags": [
              "id48_content_1",
              "outputarea_id48"
            ]
          }
        },
        {
          "output_type": "display_data",
          "data": {
            "application/vnd.jupyter.widget-view+json": {
              "model_id": "6d11ee3999f8453f853c3d60c854795c",
              "version_minor": 0,
              "version_major": 2
            },
            "text/plain": [
              "HBox(children=(Dropdown(description='Kernel:', options=('gaussian', 'tophat', 'epanechnikov', 'exponential', '…"
            ]
          },
          "metadata": {
            "tags": [
              "id48_content_1",
              "outputarea_id48",
              "user_output"
            ]
          }
        },
        {
          "output_type": "display_data",
          "data": {
            "application/vnd.jupyter.widget-view+json": {
              "model_id": "3e400fee91b7499d89ba2880a6d2c1af",
              "version_minor": 0,
              "version_major": 2
            },
            "text/plain": [
              "Output()"
            ]
          },
          "metadata": {
            "tags": [
              "id48_content_1",
              "outputarea_id48",
              "user_output"
            ]
          }
        },
        {
          "output_type": "display_data",
          "data": {
            "application/javascript": [
              "window[\"486af3e2-17c8-11ea-a39b-0242ac1c0002\"] = google.colab.output.setActiveOutputArea(window[\"482376de-17c8-11ea-a39b-0242ac1c0002\"]);\n",
              "//# sourceURL=js_a484f8ff78"
            ],
            "text/plain": [
              "<IPython.core.display.Javascript object>"
            ]
          },
          "metadata": {
            "tags": [
              "id48_content_1",
              "outputarea_id48"
            ]
          }
        }
      ]
    },
    {
      "cell_type": "markdown",
      "metadata": {
        "id": "K4ZOQYKOXFct",
        "colab_type": "text"
      },
      "source": [
        "#Interactive 2D example (sample points)"
      ]
    },
    {
      "cell_type": "code",
      "metadata": {
        "id": "C_naQsfwXL8J",
        "colab_type": "code",
        "colab": {}
      },
      "source": [
        "from sklearn.neighbors import KernelDensity\n",
        "# instantiate and fit the KDE model\n",
        "kde = KernelDensity(kernel='tophat')\n",
        "\n",
        "def fit_distribution(X, bandwidth, ker_name):\n",
        "  params = {'bandwidth': bandwidth, 'kernel': ker_name}\n",
        "  kde.set_params(**params)\n",
        "  kde.fit(X)\n",
        "\n",
        "def evaluate_distribution(X):\n",
        "  logprob = kde.score_samples(X)\n",
        "  return np.exp(logprob)"
      ],
      "execution_count": 0,
      "outputs": []
    },
    {
      "cell_type": "code",
      "metadata": {
        "id": "FekYs8I_XUXM",
        "colab_type": "code",
        "cellView": "form",
        "outputId": "72771ff8-b778-4e5f-c8d0-cc6dd55521d1",
        "colab": {
          "base_uri": "https://localhost:8080/",
          "height": 637
        }
      },
      "source": [
        "#@title Interactive 2D KDE\n",
        "import numpy as np\n",
        "import matplotlib.pyplot as plt\n",
        "from matplotlib.colors import ListedColormap\n",
        "from matplotlib import cm\n",
        "import seaborn as sns\n",
        "        \n",
        "def plot_clusters(x_, y_, z_):\n",
        "  fig = plt.figure(figsize=(10,10))\n",
        "  ax = fig.gca()\n",
        "  #ax = sns.kdeplot(X[:,0], X[:,1], cmap=\"Blues\", shade=True, shade_lowest=False)\n",
        "  sns.set()\n",
        "  ax.contourf(x_, y_, z_, alpha=0.5, cmap=\"Blues\")\n",
        "  ax.tick_params(axis=\"y\",direction=\"in\", pad=-60)\n",
        "  ax.tick_params(axis=\"x\",direction=\"in\", pad=-30)\n",
        "  ax.set_xticks(np.arange(-.75, 1, .25))\n",
        "  ax.set_yticks(np.arange(-.75, 1, .25))\n",
        "  ax.set_xlim([-1, 1])\n",
        "  ax.set_ylim([-1, 1])\n",
        "\n",
        "\n",
        "  plt.close(fig)\n",
        "\n",
        "  return fig\n",
        "\n",
        "import base64\n",
        "import io\n",
        "\n",
        "def figure_to_base64(fig):\n",
        "  buf = io.BytesIO()\n",
        "  fig.savefig(buf, format='png', bbox_inches='tight', pad_inches=0);\n",
        "  image_base64 = base64.b64encode(buf.getvalue()).decode('utf-8').replace('\\n', '')\n",
        "  buf.close()\n",
        "  return image_base64\n",
        "\n",
        "\n",
        "\n",
        "import json\n",
        "from IPython.display import display, clear_output\n",
        "\n",
        "def invoke(pts, n, ker_name):\n",
        "  data = np.array(pts).reshape((-1, 2))\n",
        "  X = data / 300.0 - 1.0\n",
        "  X[:, 1] *= -1.0\n",
        "  fit_distribution(X, float(n)/1000.0, ker_name)\n",
        "  x_ = np.linspace(-1.0, +1.0, num=300)\n",
        "  y_ = np.linspace(-1.0, +1.0, num=300)\n",
        "  xx, yy = np.meshgrid(x_, y_)\n",
        "  x_vec = np.transpose(np.vstack([xx.ravel(), yy.ravel()]))\n",
        "  G  = evaluate_distribution(x_vec).reshape((x_.shape[0],y_.shape[0]))\n",
        "  figr = plot_clusters(x_, y_, G)\n",
        "  image_base64 = figure_to_base64(figr)\n",
        "\n",
        "  return IPython.display.JSON({'image': image_base64, \n",
        "                               'g_x': x_.tolist(), 'g_y': y_.tolist(), 'g_z': G.tolist(),\n",
        "                               's_x': X[:, 0].tolist(), 's_y': X[:, 1].tolist(), 's_z': [0]*len(X)})\n",
        "\n",
        "\n",
        "import IPython\n",
        "from google.colab import output\n",
        "\n",
        "main_str = '''\n",
        "  <script src=\"https://cdn.plot.ly/plotly-latest.min.js\"></script> \n",
        "  <script type=\"application/javascript\">\n",
        "  \n",
        "    var active_pt = null;\n",
        "    var all_pts = [];\n",
        "    var classAbtn = [650, 100];\n",
        "    var classBbtn = [650, 200];\n",
        "    var ptR = 10.0;\n",
        "    var params = null;\n",
        "    var debug_txt = \"\";\n",
        "    var bg_image = new Image();\n",
        "\n",
        "    function is_close(pt1, pt2) {\n",
        "      return   (pt1[0] - pt2[0])*(pt1[0] - pt2[0])\n",
        "            +  (pt1[1] - pt2[1])*(pt1[1] - pt2[1])\n",
        "            <= ptR*ptR;\n",
        "    }\n",
        "  \n",
        "    function circ(ctx, pos) {\n",
        "      ctx.beginPath();\n",
        "      ctx.arc(pos[0], pos[1], ptR, 0.0, 2.0 * Math.PI, 0);\n",
        "      ctx.fillStyle = 'rgba(255, 128, 0, 0.5)';\n",
        "      ctx.fill();\n",
        "    }\n",
        "    \n",
        "    \n",
        "    function draw() {\n",
        "      var canvas = document.getElementById('canvas');\n",
        "      if (canvas.getContext) {\n",
        "        var ctx = canvas.getContext('2d');\n",
        "        \n",
        "        ctx.clearRect(0, 0, canvas.width, canvas.height); // cleanup before start\n",
        "        ctx.drawImage(bg_image, 0, 0, 600, 600);\n",
        "        ctx.strokeRect(0, 0, 600, 600); // field\n",
        "        \n",
        "        ctx.font = '20px serif';\n",
        "        ctx.fillStyle = 'black';\n",
        "        ctx.fillText(debug_txt, 200, 200);\n",
        "        \n",
        "        if (active_pt) {\n",
        "          circ(ctx, [active_pt[0], active_pt[1]]);\n",
        "        }\n",
        "        all_pts.forEach(function (item, index) {\n",
        "          circ(ctx, [item[0], item[1]]);\n",
        "        });\n",
        "\n",
        "      }\n",
        "    }\n",
        "    \n",
        "    var timer\n",
        "\n",
        "    function get_state() {\n",
        "      var rates = document.getElementsByName('rate');\n",
        "      for(var i = 0; i < rates.length; i++)\n",
        "        if(rates[i].checked)\n",
        "          return rates[i].value;\n",
        "      return \"none\";\n",
        "    }\n",
        "\n",
        "    \n",
        "    function mdown_handle(evt) {\n",
        "      evt.stopPropagation();\n",
        "      x = evt.offsetX;\n",
        "      y = evt.offsetY;\n",
        "      state = get_state();\n",
        "      if (state == \"add\") {\n",
        "        if (x < 600)\n",
        "            all_pts.push([x, y]);\n",
        "        return;\n",
        "      }\n",
        "\n",
        "      idx = -1;\n",
        "      all_pts.forEach(function (item, index) {\n",
        "        if (is_close([x,y], [item[0], item[1]])) {\n",
        "          idx = index;\n",
        "        }\n",
        "      });\n",
        "      if (idx <= -1)\n",
        "          return;\n",
        "      if (state == \"move\") {\n",
        "        active_pt = all_pts[idx];\n",
        "        all_pts.splice(idx, 1);\n",
        "      }\n",
        "      if (state == \"del\")\n",
        "          all_pts.splice(idx, 1);\n",
        "    }\n",
        "    \n",
        "    function mmove_handle(evt) {\n",
        "      evt.stopPropagation();\n",
        "      if (get_state() != \"move\")\n",
        "          return;\n",
        "      x = evt.offsetX;\n",
        "      y = evt.offsetY;\n",
        "      if (active_pt) {\n",
        "        active_pt[0] = x;\n",
        "        active_pt[1] = y;\n",
        "      }\n",
        "    }\n",
        "    \n",
        "    function mup_handle(evt) {\n",
        "      evt.stopPropagation();\n",
        "      x = evt.offsetX;\n",
        "      y = evt.offsetY;\n",
        "      if (x >= 600) {\n",
        "        active_pt = null;\n",
        "      }\n",
        "      if (active_pt) {\n",
        "        all_pts.push(active_pt);\n",
        "        active_pt = null;\n",
        "      }\n",
        "    }\n",
        "    \n",
        "    function clear_field() {\n",
        "      active_pt = null;\n",
        "      all_pts = [];\n",
        "    }\n",
        "\n",
        "\n",
        "   function plot_3d(g_x, g_y, g_z)\n",
        "   {\n",
        "     cell_for_plot = document.getElementById('for_plotly_plot');\n",
        "     //Plotly.deleteTraces(cell_for_plot, [0, 1]);\n",
        "     var data = [{\n",
        "           x: g_x,\n",
        "           y: g_y,\n",
        "           z: g_z,\n",
        "           type: 'surface',\n",
        "           opacity: 0.9,\n",
        "           showscale: false,\n",
        "           colorscale: \"Viridis\"\n",
        "        }];\n",
        "  \n",
        "     var layout = {\n",
        "          title: 'pdf estimate',\n",
        "          autosize: false,\n",
        "          width: 600,\n",
        "          height: 600,\n",
        "          showlegend: false,\n",
        "          scene: {\n",
        "            camera: {\n",
        "              up: {x: 0, y: 1, z: 0},\n",
        "              center: {x: 0, y: 0, z: 0},\n",
        "              eye: {x: 0.0, y: -1.0, z: 1.4}\n",
        "            }\n",
        "          }\n",
        "        };\n",
        "     Plotly.newPlot(cell_for_plot, data, layout);\n",
        "   }\n",
        "\n",
        "   function plot_scatter(s_x, s_y, s_z)\n",
        "   {\n",
        "          \n",
        "     cell_for_plot = document.getElementById('for_plotly_plot');\n",
        "     var data = [{\n",
        "           x: s_x,\n",
        "           y: s_y,\n",
        "           z: s_z,\n",
        "           type: 'scatter3d',\n",
        "           mode: 'markers',\n",
        "           marker: {\n",
        "             size: 4,\n",
        "             colorscale: \"Viridis\",\n",
        "             line: {\n",
        "               width: 2,\n",
        "               color: 'rgba(0, 0, 0, 0.5)'\n",
        "             }\n",
        "           }\n",
        "        }];\n",
        "    Plotly.plot(cell_for_plot, data, {});\n",
        "   }\n",
        "\n",
        "\n",
        "    var cur_depth = 100;\n",
        "\n",
        "    async function calculate() {\n",
        "      if (!all_pts)\n",
        "        return;\n",
        "      var merged = [].concat.apply([], all_pts);\n",
        "      var e = document.getElementById(\"select_kernel\");\n",
        "      var ker_name = e.options[e.selectedIndex].value;\n",
        "      const result = await google.colab.kernel.invokeFunction('notebook.InvSVM', [merged, cur_depth, ker_name], {});\n",
        "      params = result.data['application/json'];\n",
        "            \n",
        "      bg_image.src = 'data:image/  png;base64,' + params.image;\n",
        "      cell_for_plot = document.getElementById('for_plotly_plot');\n",
        "      \n",
        "      plot_3d(params.g_x, params.g_y, params.g_z);\n",
        "      plot_scatter(params.s_x, params.s_y, params.s_z);\n",
        "      \n",
        "    }\n",
        "\n",
        "   function h_change(x) {\n",
        "    el = document.getElementById(\"slider_val\");\n",
        "    cur_depth = x;\n",
        "    el.innerHTML = x;\n",
        "  }\n",
        "\n",
        " </script>\n",
        "\n",
        "<div id=\"everything\" style=\"height:600px;\">\n",
        "<div id=\"for_plotly_plot\" style=\"position:absolute; top:0px; left:0px; height:600px; width:600px;\">\n",
        "</div>\n",
        "<div id=\"custom_controls\" style=\"position:absolute; top:0px; left:600px;\">\n",
        "  <canvas id=\"canvas\" width=\"800\" height=\"600\" \n",
        "    onmousedown=\"mdown_handle(event)\"\n",
        "    onmousemove=\"mmove_handle(event)\"\n",
        "    onmouseup=\"mup_handle(event)\"></canvas>\n",
        "  <div style=\"position:absolute; top:275px; left:625px;\">\n",
        "   <div style=\"border-style: solid;\">\n",
        "    <input type=\"radio\" id=\"r1\" name=\"rate\" value=\"add\" checked=\"checked\"> Add Feature\n",
        "    <br>\n",
        "    <input type=\"radio\" id=\"r2\" name=\"rate\" value=\"move\"> Move Features\n",
        "    <br>\n",
        "    <input type=\"radio\" id=\"r3\" name=\"rate\" value=\"del\"> Delete Feature\n",
        "    <br>\n",
        "    <button type=\"button\" onclick=\"clear_field();\">\n",
        "      Clear\n",
        "    </button>\n",
        "   </div>\n",
        "   <br><br>Bandwidth x 1000:<br>\n",
        "    <input type=\"range\" min=\"1\" max=\"200\" value=\"100\" oninput=\"h_change(this.value)\">\n",
        "    <br><div id=\"slider_val\">100</div>\n",
        "   <br>Kernel:<br>\n",
        "   <select id=\"select_kernel\">\n",
        "       <option value=\"gaussian\">gaussian</option>\n",
        "       <option value=\"tophat\">tophat</option>\n",
        "       <option value=\"epanechnikov\">epanechnikov</option>\n",
        "       <option value=\"exponential\">exponential</option>\n",
        "       <option value=\"linear\">linear</option>\n",
        "       <option value=\"cosine\">cosine</option>\n",
        "   </select>\n",
        "   <br><br>\n",
        "    <button type=\"button\" onclick=\"calculate();\">\n",
        "      KDE\n",
        "    </button>\n",
        "  </div>\n",
        "</div>\n",
        "<div>\n",
        "  \n",
        "<script>\n",
        "function init()\n",
        "{\n",
        "  timer = setInterval(draw, 10);\n",
        "}\n",
        "\n",
        "init();\n",
        "</script>\n",
        "'''\n",
        "\n",
        "display(IPython.display.HTML(main_str))\n",
        "output.register_callback('notebook.InvSVM', invoke)"
      ],
      "execution_count": 0,
      "outputs": [
        {
          "output_type": "display_data",
          "data": {
            "text/html": [
              "\n",
              "  <script src=\"https://cdn.plot.ly/plotly-latest.min.js\"></script> \n",
              "  <script type=\"application/javascript\">\n",
              "  \n",
              "    var active_pt = null;\n",
              "    var all_pts = [];\n",
              "    var classAbtn = [650, 100];\n",
              "    var classBbtn = [650, 200];\n",
              "    var ptR = 10.0;\n",
              "    var params = null;\n",
              "    var debug_txt = \"\";\n",
              "    var bg_image = new Image();\n",
              "\n",
              "    function is_close(pt1, pt2) {\n",
              "      return   (pt1[0] - pt2[0])*(pt1[0] - pt2[0])\n",
              "            +  (pt1[1] - pt2[1])*(pt1[1] - pt2[1])\n",
              "            <= ptR*ptR;\n",
              "    }\n",
              "  \n",
              "    function circ(ctx, pos) {\n",
              "      ctx.beginPath();\n",
              "      ctx.arc(pos[0], pos[1], ptR, 0.0, 2.0 * Math.PI, 0);\n",
              "      ctx.fillStyle = 'rgba(255, 128, 0, 0.5)';\n",
              "      ctx.fill();\n",
              "    }\n",
              "    \n",
              "    \n",
              "    function draw() {\n",
              "      var canvas = document.getElementById('canvas');\n",
              "      if (canvas.getContext) {\n",
              "        var ctx = canvas.getContext('2d');\n",
              "        \n",
              "        ctx.clearRect(0, 0, canvas.width, canvas.height); // cleanup before start\n",
              "        ctx.drawImage(bg_image, 0, 0, 600, 600);\n",
              "        ctx.strokeRect(0, 0, 600, 600); // field\n",
              "        \n",
              "        ctx.font = '20px serif';\n",
              "        ctx.fillStyle = 'black';\n",
              "        ctx.fillText(debug_txt, 200, 200);\n",
              "        \n",
              "        if (active_pt) {\n",
              "          circ(ctx, [active_pt[0], active_pt[1]]);\n",
              "        }\n",
              "        all_pts.forEach(function (item, index) {\n",
              "          circ(ctx, [item[0], item[1]]);\n",
              "        });\n",
              "\n",
              "      }\n",
              "    }\n",
              "    \n",
              "    var timer\n",
              "\n",
              "    function get_state() {\n",
              "      var rates = document.getElementsByName('rate');\n",
              "      for(var i = 0; i < rates.length; i++)\n",
              "        if(rates[i].checked)\n",
              "          return rates[i].value;\n",
              "      return \"none\";\n",
              "    }\n",
              "\n",
              "    \n",
              "    function mdown_handle(evt) {\n",
              "      evt.stopPropagation();\n",
              "      x = evt.offsetX;\n",
              "      y = evt.offsetY;\n",
              "      state = get_state();\n",
              "      if (state == \"add\") {\n",
              "        if (x < 600)\n",
              "            all_pts.push([x, y]);\n",
              "        return;\n",
              "      }\n",
              "\n",
              "      idx = -1;\n",
              "      all_pts.forEach(function (item, index) {\n",
              "        if (is_close([x,y], [item[0], item[1]])) {\n",
              "          idx = index;\n",
              "        }\n",
              "      });\n",
              "      if (idx <= -1)\n",
              "          return;\n",
              "      if (state == \"move\") {\n",
              "        active_pt = all_pts[idx];\n",
              "        all_pts.splice(idx, 1);\n",
              "      }\n",
              "      if (state == \"del\")\n",
              "          all_pts.splice(idx, 1);\n",
              "    }\n",
              "    \n",
              "    function mmove_handle(evt) {\n",
              "      evt.stopPropagation();\n",
              "      if (get_state() != \"move\")\n",
              "          return;\n",
              "      x = evt.offsetX;\n",
              "      y = evt.offsetY;\n",
              "      if (active_pt) {\n",
              "        active_pt[0] = x;\n",
              "        active_pt[1] = y;\n",
              "      }\n",
              "    }\n",
              "    \n",
              "    function mup_handle(evt) {\n",
              "      evt.stopPropagation();\n",
              "      x = evt.offsetX;\n",
              "      y = evt.offsetY;\n",
              "      if (x >= 600) {\n",
              "        active_pt = null;\n",
              "      }\n",
              "      if (active_pt) {\n",
              "        all_pts.push(active_pt);\n",
              "        active_pt = null;\n",
              "      }\n",
              "    }\n",
              "    \n",
              "    function clear_field() {\n",
              "      active_pt = null;\n",
              "      all_pts = [];\n",
              "    }\n",
              "\n",
              "\n",
              "   function plot_3d(g_x, g_y, g_z)\n",
              "   {\n",
              "     cell_for_plot = document.getElementById('for_plotly_plot');\n",
              "     //Plotly.deleteTraces(cell_for_plot, [0, 1]);\n",
              "     var data = [{\n",
              "           x: g_x,\n",
              "           y: g_y,\n",
              "           z: g_z,\n",
              "           type: 'surface',\n",
              "           opacity: 0.9,\n",
              "           showscale: false,\n",
              "           colorscale: \"Viridis\"\n",
              "        }];\n",
              "  \n",
              "     var layout = {\n",
              "          title: 'pdf estimate',\n",
              "          autosize: false,\n",
              "          width: 600,\n",
              "          height: 600,\n",
              "          showlegend: false,\n",
              "          scene: {\n",
              "            camera: {\n",
              "              up: {x: 0, y: 1, z: 0},\n",
              "              center: {x: 0, y: 0, z: 0},\n",
              "              eye: {x: 0.0, y: -1.0, z: 1.4}\n",
              "            }\n",
              "          }\n",
              "        };\n",
              "     Plotly.newPlot(cell_for_plot, data, layout);\n",
              "   }\n",
              "\n",
              "   function plot_scatter(s_x, s_y, s_z)\n",
              "   {\n",
              "          \n",
              "     cell_for_plot = document.getElementById('for_plotly_plot');\n",
              "     var data = [{\n",
              "           x: s_x,\n",
              "           y: s_y,\n",
              "           z: s_z,\n",
              "           type: 'scatter3d',\n",
              "           mode: 'markers',\n",
              "           marker: {\n",
              "             size: 4,\n",
              "             colorscale: \"Viridis\",\n",
              "             line: {\n",
              "               width: 2,\n",
              "               color: 'rgba(0, 0, 0, 0.5)'\n",
              "             }\n",
              "           }\n",
              "        }];\n",
              "    Plotly.plot(cell_for_plot, data, {});\n",
              "   }\n",
              "\n",
              "\n",
              "    var cur_depth = 100;\n",
              "\n",
              "    async function calculate() {\n",
              "      if (!all_pts)\n",
              "        return;\n",
              "      var merged = [].concat.apply([], all_pts);\n",
              "      var e = document.getElementById(\"select_kernel\");\n",
              "      var ker_name = e.options[e.selectedIndex].value;\n",
              "      const result = await google.colab.kernel.invokeFunction('notebook.InvSVM', [merged, cur_depth, ker_name], {});\n",
              "      params = result.data['application/json'];\n",
              "            \n",
              "      bg_image.src = 'data:image/  png;base64,' + params.image;\n",
              "      cell_for_plot = document.getElementById('for_plotly_plot');\n",
              "      \n",
              "      plot_3d(params.g_x, params.g_y, params.g_z);\n",
              "      plot_scatter(params.s_x, params.s_y, params.s_z);\n",
              "      \n",
              "    }\n",
              "\n",
              "   function h_change(x) {\n",
              "    el = document.getElementById(\"slider_val\");\n",
              "    cur_depth = x;\n",
              "    el.innerHTML = x;\n",
              "  }\n",
              "\n",
              " </script>\n",
              "\n",
              "<div id=\"everything\" style=\"height:600px;\">\n",
              "<div id=\"for_plotly_plot\" style=\"position:absolute; top:0px; left:0px; height:600px; width:600px;\">\n",
              "</div>\n",
              "<div id=\"custom_controls\" style=\"position:absolute; top:0px; left:600px;\">\n",
              "  <canvas id=\"canvas\" width=\"800\" height=\"600\" \n",
              "    onmousedown=\"mdown_handle(event)\"\n",
              "    onmousemove=\"mmove_handle(event)\"\n",
              "    onmouseup=\"mup_handle(event)\"></canvas>\n",
              "  <div style=\"position:absolute; top:275px; left:625px;\">\n",
              "   <div style=\"border-style: solid;\">\n",
              "    <input type=\"radio\" id=\"r1\" name=\"rate\" value=\"add\" checked=\"checked\"> Add Feature\n",
              "    <br>\n",
              "    <input type=\"radio\" id=\"r2\" name=\"rate\" value=\"move\"> Move Features\n",
              "    <br>\n",
              "    <input type=\"radio\" id=\"r3\" name=\"rate\" value=\"del\"> Delete Feature\n",
              "    <br>\n",
              "    <button type=\"button\" onclick=\"clear_field();\">\n",
              "      Clear\n",
              "    </button>\n",
              "   </div>\n",
              "   <br><br>Bandwidth x 1000:<br>\n",
              "    <input type=\"range\" min=\"1\" max=\"200\" value=\"100\" oninput=\"h_change(this.value)\">\n",
              "    <br><div id=\"slider_val\">100</div>\n",
              "   <br>Kernel:<br>\n",
              "   <select id=\"select_kernel\">\n",
              "       <option value=\"gaussian\">gaussian</option>\n",
              "       <option value=\"tophat\">tophat</option>\n",
              "       <option value=\"epanechnikov\">epanechnikov</option>\n",
              "       <option value=\"exponential\">exponential</option>\n",
              "       <option value=\"linear\">linear</option>\n",
              "       <option value=\"cosine\">cosine</option>\n",
              "   </select>\n",
              "   <br><br>\n",
              "    <button type=\"button\" onclick=\"calculate();\">\n",
              "      KDE\n",
              "    </button>\n",
              "  </div>\n",
              "</div>\n",
              "<div>\n",
              "  \n",
              "<script>\n",
              "function init()\n",
              "{\n",
              "  timer = setInterval(draw, 10);\n",
              "}\n",
              "\n",
              "init();\n",
              "</script>\n"
            ],
            "text/plain": [
              "<IPython.core.display.HTML object>"
            ]
          },
          "metadata": {
            "tags": []
          }
        }
      ]
    },
    {
      "cell_type": "markdown",
      "metadata": {
        "id": "_FQr-h66b1Rc",
        "colab_type": "text"
      },
      "source": [
        "# KDE as Mixture Model"
      ]
    },
    {
      "cell_type": "markdown",
      "metadata": {
        "id": "SLNAG4SBb6l2",
        "colab_type": "text"
      },
      "source": [
        "We see that KDE reminds MM taken to the extreme: the number of components we throw into the mix equals the number of points.\n",
        "\n",
        "<br>\n",
        "\n",
        "![](https://raw.githubusercontent.com/fbeilstein/machine_learning/master/lecture_13/mix.png) \n",
        "\n",
        "<br>\n",
        "\n",
        "If the number of point is huge the \"shot noise\" from the individual points becomes negligible and the overall underlying distibution hopefully emerges."
      ]
    },
    {
      "cell_type": "markdown",
      "metadata": {
        "id": "g0l9p82WsLpQ",
        "colab_type": "text"
      },
      "source": [
        "#Gaussian blur"
      ]
    },
    {
      "cell_type": "markdown",
      "metadata": {
        "id": "NluhuiqvsOgO",
        "colab_type": "text"
      },
      "source": [
        "We have seen that histograms may be misleading. Also they are \"grainy\" as they discretize (sample) continuous data. Pdf estimate could be kept smooth by using gaussian KDE.\n",
        "\n",
        "Idea similar to gaussian KDE is involved in Gaussian smoothing of images.\n",
        "In image processing, a Gaussian blur (also known as Gaussian smoothing) is the result of blurring an image by a Gaussian function. It is a widely used effect in graphics software, typically to reduce image noise and reduce detail. A Gaussian blur effect is typically generated by convolving an image with a kernel of Gaussian values. \n",
        "\n",
        "<br>\n",
        "\n",
        "![](https://raw.githubusercontent.com/fbeilstein/machine_learning/master/lecture_13/blur.png) \n",
        "\n",
        "<br>\n",
        "\n",
        "Let's first sample image (keeping $1$ pixel out of $10$ along each dimension). What we get is an analog of a histogram. If we perform a Gaussian blur afterwards we regain some of the smootheness.\n",
        "\n",
        "<br>\n",
        "\n",
        "![](https://raw.githubusercontent.com/fbeilstein/machine_learning/master/lecture_13/lena_1.png) \n",
        "\n",
        "<br>"
      ]
    },
    {
      "cell_type": "markdown",
      "metadata": {
        "id": "Im1uI0JtK-WE",
        "colab_type": "text"
      },
      "source": [
        "#Example: KDE on a Sphere"
      ]
    },
    {
      "cell_type": "markdown",
      "metadata": {
        "id": "T9vRb2sc9XHB",
        "colab_type": "text"
      },
      "source": [
        "Perhaps the most common use of KDE is in graphically representing distributions of points. For example, in the `Seaborn visualization library` KDE is built in and automatically used to help visualize points in one and two dimensions.\n",
        "Here we will look at a slightly more sophisticated use of KDE for visualization of distributions. We will make use of some geographic data that can be loaded with `ScikitLearn`: the geographic distributions of recorded observations of two South American mammals, *Bradypus variegatus* (the brown-throated sloth) and *Microryzomys minutus* (the forest small rice rat).\n",
        "\n",
        "<br>\n",
        "\n",
        "![](https://raw.githubusercontent.com/fbeilstein/machine_learning/master/lecture_13/anim.png) \n",
        "\n"
      ]
    },
    {
      "cell_type": "code",
      "metadata": {
        "id": "-k347bdQU5zu",
        "colab_type": "code",
        "outputId": "3126c0c2-7834-4731-8005-32deece4a8fa",
        "colab": {
          "base_uri": "https://localhost:8080/",
          "height": 34
        }
      },
      "source": [
        "import numpy as np\n",
        "\n",
        "!sudo apt-get install libgeos-dev > /dev/null\n",
        "!sudo pip3 install -U git+https://github.com/matplotlib/basemap.git > /dev/null\n",
        "from sklearn.datasets import fetch_species_distributions\n",
        "data = fetch_species_distributions();\n",
        "# Get matrices/arrays of species IDs and locations\n",
        "latlon = np.vstack([data.train['dd lat'], data.train['dd long']]).T\n",
        "species = np.array([d.decode('ascii').startswith('micro') for d in data.train['species']], dtype='int')"
      ],
      "execution_count": 0,
      "outputs": [
        {
          "output_type": "stream",
          "text": [
            "  Running command git clone -q https://github.com/matplotlib/basemap.git /tmp/pip-req-build-dy6g376t\n"
          ],
          "name": "stdout"
        }
      ]
    },
    {
      "cell_type": "code",
      "metadata": {
        "id": "ht6ErJtEUd7W",
        "colab_type": "code",
        "outputId": "cacf4e45-2b21-4498-e72f-4369b0b18145",
        "colab": {
          "base_uri": "https://localhost:8080/",
          "height": 260
        }
      },
      "source": [
        "from mpl_toolkits.basemap import Basemap\n",
        "from sklearn.datasets.species_distributions import construct_grids\n",
        "xgrid, ygrid = construct_grids(data)\n",
        "\n",
        "# plot coastlines with Basemap\n",
        "m = Basemap(projection='cyl', resolution='c', llcrnrlat=ygrid.min(), urcrnrlat=ygrid.max(), llcrnrlon=xgrid.min(), urcrnrlon=xgrid.max())\n",
        "m.drawmapboundary(fill_color='#DDEEFF')\n",
        "m.fillcontinents(color='#FFEEDD')\n",
        "m.drawcoastlines(color='gray', zorder=2)\n",
        "m.drawcountries(color='gray', zorder=2)\n",
        "\n",
        "# plot locations\n",
        "m.scatter(latlon[:, 1], latlon[:, 0], zorder=3, c=species, cmap='rainbow', latlon=True);"
      ],
      "execution_count": 0,
      "outputs": [
        {
          "output_type": "display_data",
          "data": {
            "image/png": "[encoded data removed]",
            "text/plain": [
              "<Figure size 432x288 with 1 Axes>"
            ]
          },
          "metadata": {
            "tags": []
          }
        }
      ]
    },
    {
      "cell_type": "markdown",
      "metadata": {
        "id": "FtUmpFHM8iyo",
        "colab_type": "text"
      },
      "source": [
        "Unfortunately, this doesn’t give a very good idea of the density of the species, because points in the species range may overlap one another. You may not realize it by looking at this plot, but there are over $1600$ points shown here!\n",
        "Let’s use kernel density estimation to show this distribution in a more interpretable way: as a smooth indication of density on the map. Because the coordinate system here lies on a spherical surface rather than a flat plane, we will use the haversine distance metric, which will correctly represent distances on a curved surface.\n",
        "\n",
        "**Note**:\n",
        "The *haversine formula* determines the great-circle distance between two points on a sphere given their longitudes and latitudes. Important in navigation, it is a special case of a more general formula in spherical trigonometry, the law of haversines, that relates the sides and angles of spherical triangles.\n",
        "\n",
        "$$\n",
        "d=2r\\arcsin{\\sqrt{\\sin^2\\left(\\frac{\\phi_2-\\phi_1}{2}\\right)+\\cos{\\phi_1}\\cdot \\cos{\\phi_2}\\cdot \\sin^2\\left(\\frac{\\lambda_2-\\lambda_1}{2} \\right)}},\n",
        "$$\n",
        "\n",
        "where \n",
        "* $d$ is the distance between the two points along a great circle of the sphere;\n",
        "* $\\phi$ -- latitude of point;\n",
        "* $\\lambda$ -- longitude of point.\n",
        "\n",
        "The term haversine  is due to haversine $\\text{hav}$ function that was used instead of $\\sin$ in the formula.\n",
        "\n",
        "$$\n",
        "\\text{hav}(x)=\\sin^2\\left(\\frac{x}{2}\\right).\n",
        "$$\n",
        "\n",
        "So if we rewrite the formula above using haversine it will read\n",
        "\n",
        "$$\n",
        "\\text{hav}(\\Theta)=\\text{hav}(\\phi_2-\\phi_1)+\\cos{\\phi_1} \\cdot \\cos{\\phi_2} \\cdot \\text{hav}(\\lambda_2-\\lambda_1),\n",
        "$$\n",
        "\n",
        "with $\\Theta=\\frac{d}{r}$ is central angle between any two points on a sphere."
      ]
    },
    {
      "cell_type": "code",
      "metadata": {
        "id": "FmwkQlE4XwLE",
        "colab_type": "code",
        "outputId": "689c9e60-8b12-4dcc-9b03-798d4c58c39c",
        "colab": {
          "base_uri": "https://localhost:8080/",
          "height": 270
        }
      },
      "source": [
        "# Set up the data grid for the contour plot\n",
        "X, Y = np.meshgrid(xgrid[::5], ygrid[::5][::-1])\n",
        "land_reference = data.coverages[6][::5, ::5]\n",
        "land_mask = (land_reference > -9999).ravel()\n",
        "xy = np.vstack([Y.ravel(), X.ravel()]).T\n",
        "xy = np.radians(xy[land_mask])\n",
        "\n",
        "# Create two side-by-side plots\n",
        "fig, ax = plt.subplots(1, 2)\n",
        "fig.subplots_adjust(left=0.05, right=0.95, wspace=0.05)\n",
        "species_names = ['Bradypus Variegatus', 'Microryzomys Minutus']\n",
        "cmaps = ['Purples', 'Reds']\n",
        "\n",
        "for i, axi in enumerate(ax):\n",
        "  axi.set_title(species_names[i])\n",
        "\n",
        "  # plot coastlines with Basemap\n",
        "  m = Basemap(projection='cyl', llcrnrlat=Y.min(), urcrnrlat=Y.max(), llcrnrlon=X.min(), urcrnrlon=X.max(), resolution='c', ax=axi)\n",
        "  m.drawmapboundary(fill_color='#DDEEFF')\n",
        "  m.drawcoastlines()\n",
        "  m.drawcountries()\n",
        "  \n",
        "  # construct a spherical kernel density estimate of the distribution\n",
        "  kde = KernelDensity(bandwidth=0.03, metric='haversine')\n",
        "  kde.fit(np.radians(latlon[species == i]))\n",
        "\n",
        "  # evaluate only on the land: -9999 indicates ocean\n",
        "  Z = np.full(land_mask.shape[0], -9999.0)\n",
        "  Z[land_mask] = np.exp(kde.score_samples(xy))\n",
        "  Z = Z.reshape(X.shape)\n",
        "  \n",
        "  # plot contours of the density\n",
        "  levels = np.linspace(0, Z.max(), 25)\n",
        "  axi.contourf(X, Y, Z, levels=levels, cmap=cmaps[i])  "
      ],
      "execution_count": 0,
      "outputs": [
        {
          "output_type": "display_data",
          "data": {
            "image/png": "[encoded data removed]",
            "text/plain": [
              "<Figure size 432x288 with 2 Axes>"
            ]
          },
          "metadata": {
            "tags": []
          }
        }
      ]
    },
    {
      "cell_type": "markdown",
      "metadata": {
        "id": "6ZtWndy68RsU",
        "colab_type": "text"
      },
      "source": [
        "Now we have a much clearer picture of the geographical distribution of observation of two species.\n",
        "\n"
      ]
    },
    {
      "cell_type": "markdown",
      "metadata": {
        "id": "dMIOJrA8-qJm",
        "colab_type": "text"
      },
      "source": [
        "#Example: Fisher irisis"
      ]
    },
    {
      "cell_type": "markdown",
      "metadata": {
        "id": "oYoPWo8B-J-a",
        "colab_type": "text"
      },
      "source": [
        "Here is another example of nice visualization.\n",
        "\n",
        "<br>\n",
        "\n",
        "![](https://raw.githubusercontent.com/fbeilstein/machine_learning/master/lecture_13/iris.png) "
      ]
    },
    {
      "cell_type": "code",
      "metadata": {
        "id": "WjK03ydaP665",
        "colab_type": "code",
        "outputId": "64493c30-e80e-46c2-8050-c496b114f78c",
        "colab": {
          "base_uri": "https://localhost:8080/",
          "height": 519
        }
      },
      "source": [
        "import seaborn as sns\n",
        "import matplotlib.pyplot as plt\n",
        "\n",
        "sns.set(style=\"darkgrid\")\n",
        "iris = sns.load_dataset(\"iris\")\n",
        "\n",
        "setosa = iris.query(\"species == 'setosa'\")\n",
        "virginica = iris.query(\"species == 'virginica'\")\n",
        "\n",
        "f, ax = plt.subplots(figsize=(8, 8))\n",
        "ax.set_aspect(\"equal\")\n",
        "\n",
        "ax = sns.kdeplot(setosa.sepal_width, setosa.sepal_length,\n",
        "                 cmap=\"Reds\", shade=True, shade_lowest=False)\n",
        "ax = sns.kdeplot(virginica.sepal_width, virginica.sepal_length,\n",
        "                 cmap=\"Blues\", shade=True, shade_lowest=False)\n",
        "\n",
        "red = sns.color_palette(\"Reds\")[-2]\n",
        "blue = sns.color_palette(\"Blues\")[-2]\n",
        "ax.text(2.5, 8.2, \"virginica\", size=16, color=blue)\n",
        "ax.text(3.8, 4.5, \"setosa\", size=16, color=red)"
      ],
      "execution_count": 0,
      "outputs": [
        {
          "output_type": "execute_result",
          "data": {
            "text/plain": [
              "Text(3.8, 4.5, 'setosa')"
            ]
          },
          "metadata": {
            "tags": []
          },
          "execution_count": 3
        },
        {
          "output_type": "display_data",
          "data": {
            "image/png": "[encoded data removed]",
            "text/plain": [
              "<Figure size 576x576 with 1 Axes>"
            ]
          },
          "metadata": {
            "tags": []
          }
        }
      ]
    },
    {
      "cell_type": "markdown",
      "metadata": {
        "id": "7k45DaaLYONo",
        "colab_type": "text"
      },
      "source": [
        "#Example: Not-So-Naive Bayes"
      ]
    },
    {
      "cell_type": "markdown",
      "metadata": {
        "id": "BJxcMR1ofrXE",
        "colab_type": "text"
      },
      "source": [
        "For naive Bayes, the generative model is a simple axis-aligned Gaussian.\n",
        "With a density estimation algorithm like KDE, we can remove the “naive” element and perform the same classification with a more sophisticated generative model for each class.\n",
        "It’s still Bayesian classification, but it’s no longer naive."
      ]
    },
    {
      "cell_type": "markdown",
      "metadata": {
        "id": "tQKL5Dj5f6R2",
        "colab_type": "text"
      },
      "source": [
        "1. Split the training data by label.\n",
        "2. For each set, fit a KDE to obtain a generative model of the data.\n",
        "This allows you for any observation x and label y to compute a likelihood $P(x|y)$.\n",
        "3. From the number of examples of each class in the training set, compute the class prior, $P(y)$ .\n",
        "4. For an unknown point x , the posterior probability for each class is $P(y|x)= P(x|y)P(y)$. The class that maximizes this posterior is the label assigned to the point."
      ]
    },
    {
      "cell_type": "markdown",
      "metadata": {
        "id": "1cepwUXc1AWu",
        "colab_type": "text"
      },
      "source": [
        "Let’s try this custom estimator on a problem we have seen before: the classification of handwritten digits. Here we will load the digits, and compute the cross-validation score for a range of candidate bandwidths using the `GridSearchCV` meta-estimator."
      ]
    },
    {
      "cell_type": "code",
      "metadata": {
        "id": "GQ9wdpBgYQIk",
        "colab_type": "code",
        "colab": {}
      },
      "source": [
        "from sklearn.base import BaseEstimator, ClassifierMixin\n",
        "from sklearn.neighbors import KernelDensity\n",
        "\n",
        "# BaseEstimator contains the logic necessary to clone/copy an estimator for use in a crossvalidation procedure\n",
        "# ClassifierMixin defines a default score() method used by such routines\n",
        "class KDEClassifier(BaseEstimator, ClassifierMixin):\n",
        "  \"\"\"Bayesian generative classification based on KDE\n",
        "  Parameters\n",
        "  ----------\n",
        "  bandwidth : float\n",
        "  the kernel bandwidth within each class\n",
        "  kernel : str\n",
        "  the kernel name, passed to KernelDensity\n",
        "  \"\"\"\n",
        "  def __init__(self, bandwidth=1.0, kernel='gaussian'):\n",
        "    self.bandwidth = bandwidth\n",
        "    self.kernel = kernel\n",
        "  \n",
        "  # find the unique classes in the training data, \n",
        "  # train a KernelDensity model for each class, \n",
        "  # compute the class priors based on the number of input samples.\n",
        "  def fit(self, X, y):\n",
        "    self.classes_ = np.sort(np.unique(y))\n",
        "    training_sets = [X[y == yi] for yi in self.classes_]\n",
        "    self.models_ = [KernelDensity(bandwidth=self.bandwidth, kernel=self.kernel).fit(Xi) for Xi in training_sets]\n",
        "    self.logpriors_ = [np.log(Xi.shape[0] / X.shape[0]) for Xi in training_sets]\n",
        "    return self # for chaining\n",
        "  \n",
        "  # predicting labels on new data\n",
        "  def predict_proba(self, X):\n",
        "    logprobs = np.array([model.score_samples(X) for model in self.models_]).T\n",
        "    result = np.exp(logprobs + self.logpriors_)\n",
        "    return result / result.sum(1, keepdims=True)\n",
        "  \n",
        "  def predict(self, X):\n",
        "    return self.classes_[np.argmax(self.predict_proba(X), 1)]"
      ],
      "execution_count": 0,
      "outputs": []
    },
    {
      "cell_type": "markdown",
      "metadata": {
        "id": "XrghJcTc0Vr1",
        "colab_type": "text"
      },
      "source": [
        "We now use this class."
      ]
    },
    {
      "cell_type": "code",
      "metadata": {
        "id": "gsqvNFAHm1Rn",
        "colab_type": "code",
        "colab": {}
      },
      "source": [
        "from sklearn.datasets import load_digits\n",
        "from sklearn.model_selection import GridSearchCV\n",
        "\n",
        "digits = load_digits()\n",
        "bandwidths = 10 ** np.linspace(0, 2, 100)\n",
        "grid = GridSearchCV(KDEClassifier(), {'bandwidth': bandwidths}, cv=3)\n",
        "grid.fit(digits.data, digits.target)\n",
        "scores = grid.cv_results_['mean_test_score']"
      ],
      "execution_count": 0,
      "outputs": []
    },
    {
      "cell_type": "code",
      "metadata": {
        "id": "Gtbz5bE0sL4I",
        "colab_type": "code",
        "outputId": "b535c305-2b20-45b7-fa16-a3fd50664e38",
        "colab": {
          "base_uri": "https://localhost:8080/",
          "height": 341
        }
      },
      "source": [
        "plt.semilogx(bandwidths, scores)\n",
        "plt.xlabel('bandwidth')\n",
        "plt.ylabel('accuracy')\n",
        "plt.title('KDE Model Performance')\n",
        "print(grid.best_params_)\n",
        "print('accuracy =', grid.best_score_)"
      ],
      "execution_count": 0,
      "outputs": [
        {
          "output_type": "stream",
          "text": [
            "{'bandwidth': 7.054802310718643}\n",
            "accuracy = 0.9666110183639399\n"
          ],
          "name": "stdout"
        },
        {
          "output_type": "display_data",
          "data": {
            "image/png": "[encoded data removed]",
            "text/plain": [
              "<Figure size 432x288 with 1 Axes>"
            ]
          },
          "metadata": {
            "tags": []
          }
        }
      ]
    },
    {
      "cell_type": "markdown",
      "metadata": {
        "id": "9RlumF2e1K3B",
        "colab_type": "text"
      },
      "source": [
        "We see that this not-so-naive Bayesian classifier reaches a cross-validation accuracy of just over $96\\%$; this is compared to around $80\\%$ for the naive Bayesian classification:\n"
      ]
    },
    {
      "cell_type": "code",
      "metadata": {
        "id": "dHkCW0Cks2EB",
        "colab_type": "code",
        "outputId": "c92124bb-f78f-4a1f-df84-51e82c0beb1e",
        "colab": {
          "base_uri": "https://localhost:8080/",
          "height": 34
        }
      },
      "source": [
        "from sklearn.naive_bayes import GaussianNB\n",
        "from sklearn.model_selection import cross_val_score\n",
        "cross_val_score(GaussianNB(), digits.data, digits.target, cv=3).mean()"
      ],
      "execution_count": 0,
      "outputs": [
        {
          "output_type": "execute_result",
          "data": {
            "text/plain": [
              "0.8186003803550138"
            ]
          },
          "metadata": {
            "tags": []
          },
          "execution_count": 22
        }
      ]
    },
    {
      "cell_type": "markdown",
      "metadata": {
        "id": "2khCd84S1XdG",
        "colab_type": "text"
      },
      "source": [
        "One benefit of such a generative classifier is interpretability of results: for each unknown sample, we not only get a probabilistic classification, but a full model of the distribution of points we are comparing it to! If desired, this offers an intuitive window into the reasons for a particular classification that algorithms like SVMs and random forests tend to obscure.\n",
        "If you would like to take this further, there are some improvements that could be made to our KDE classifier model:\n",
        "* We could allow the bandwidth in each class to vary independently.\n",
        "*  We could optimize these bandwidths not based on their prediction score, but on the likelihood of the training data under the generative model within each class (i.e., use the scores from KernelDensity itself rather than the global prediction accuracy)."
      ]
    }
  ]
}