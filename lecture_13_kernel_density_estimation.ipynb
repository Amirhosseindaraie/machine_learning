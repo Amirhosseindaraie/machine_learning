{
  "nbformat": 4,
  "nbformat_minor": 0,
  "metadata": {
    "colab": {
      "name": "lecture_13_kernel_density_estimation.ipynb",
      "provenance": [],
      "include_colab_link": true
    },
    "kernelspec": {
      "name": "python3",
      "display_name": "Python 3"
    },
    "widgets": {
      "application/vnd.jupyter.widget-state+json": {
        "770c1742309e44c284b851992e6088a4": {
          "model_module": "@jupyter-widgets/controls",
          "model_name": "HBoxModel",
          "state": {
            "_view_name": "HBoxView",
            "_dom_classes": [],
            "_model_name": "HBoxModel",
            "_view_module": "@jupyter-widgets/controls",
            "_model_module_version": "1.5.0",
            "_view_count": null,
            "_view_module_version": "1.5.0",
            "box_style": "",
            "layout": "IPY_MODEL_7e5b4c184bdd4caf9e23ee783943cb31",
            "_model_module": "@jupyter-widgets/controls",
            "children": [
              "IPY_MODEL_6b887bdc43af4a3b83e539e6a2150f28",
              "IPY_MODEL_543fea63aee6451cb12707d849f7de8a",
              "IPY_MODEL_9f63b57faf7c4da789dd94d0e363b5ba",
              "IPY_MODEL_57b7824f9fd6473ebf16021dae040ea4"
            ]
          }
        },
        "7e5b4c184bdd4caf9e23ee783943cb31": {
          "model_module": "@jupyter-widgets/base",
          "model_name": "LayoutModel",
          "state": {
            "_view_name": "LayoutView",
            "grid_template_rows": null,
            "right": null,
            "justify_content": null,
            "_view_module": "@jupyter-widgets/base",
            "overflow": null,
            "_model_module_version": "1.2.0",
            "_view_count": null,
            "flex_flow": null,
            "width": null,
            "min_width": null,
            "border": null,
            "align_items": null,
            "bottom": null,
            "_model_module": "@jupyter-widgets/base",
            "top": null,
            "grid_column": null,
            "overflow_y": null,
            "overflow_x": null,
            "grid_auto_flow": null,
            "grid_area": null,
            "grid_template_columns": null,
            "flex": null,
            "_model_name": "LayoutModel",
            "justify_items": null,
            "grid_row": null,
            "max_height": null,
            "align_content": null,
            "visibility": null,
            "align_self": null,
            "height": null,
            "min_height": null,
            "padding": null,
            "grid_auto_rows": null,
            "grid_gap": null,
            "max_width": null,
            "order": null,
            "_view_module_version": "1.2.0",
            "grid_template_areas": null,
            "object_position": null,
            "object_fit": null,
            "grid_auto_columns": null,
            "margin": null,
            "display": null,
            "left": null
          }
        },
        "6b887bdc43af4a3b83e539e6a2150f28": {
          "model_module": "@jupyter-widgets/controls",
          "model_name": "VBoxModel",
          "state": {
            "_view_name": "VBoxView",
            "_dom_classes": [],
            "_model_name": "VBoxModel",
            "_view_module": "@jupyter-widgets/controls",
            "_model_module_version": "1.5.0",
            "_view_count": null,
            "_view_module_version": "1.5.0",
            "box_style": "",
            "layout": "IPY_MODEL_ae2b203e113a47f4835274d3fcb9b548",
            "_model_module": "@jupyter-widgets/controls",
            "children": [
              "IPY_MODEL_25cbc5277c1743a8be468d030972f24d"
            ]
          }
        },
        "543fea63aee6451cb12707d849f7de8a": {
          "model_module": "@jupyter-widgets/controls",
          "model_name": "VBoxModel",
          "state": {
            "_view_name": "VBoxView",
            "_dom_classes": [],
            "_model_name": "VBoxModel",
            "_view_module": "@jupyter-widgets/controls",
            "_model_module_version": "1.5.0",
            "_view_count": null,
            "_view_module_version": "1.5.0",
            "box_style": "",
            "layout": "IPY_MODEL_bc327495bd2e42588c3ac12a49b431cc",
            "_model_module": "@jupyter-widgets/controls",
            "children": [
              "IPY_MODEL_f43694f1b00c473298c5a27257008cee",
              "IPY_MODEL_ef5a7f72689a4641b2768f504de03b44"
            ]
          }
        },
        "9f63b57faf7c4da789dd94d0e363b5ba": {
          "model_module": "@jupyter-widgets/controls",
          "model_name": "VBoxModel",
          "state": {
            "_view_name": "VBoxView",
            "_dom_classes": [],
            "_model_name": "VBoxModel",
            "_view_module": "@jupyter-widgets/controls",
            "_model_module_version": "1.5.0",
            "_view_count": null,
            "_view_module_version": "1.5.0",
            "box_style": "",
            "layout": "IPY_MODEL_a74900adaab64b4682891be5a1c48c45",
            "_model_module": "@jupyter-widgets/controls",
            "children": [
              "IPY_MODEL_bac244355cbc478884c47808f199eda5",
              "IPY_MODEL_54902e5f68e14c208819964bf7cf118e"
            ]
          }
        },
        "57b7824f9fd6473ebf16021dae040ea4": {
          "model_module": "@jupyter-widgets/controls",
          "model_name": "VBoxModel",
          "state": {
            "_view_name": "VBoxView",
            "_dom_classes": [],
            "_model_name": "VBoxModel",
            "_view_module": "@jupyter-widgets/controls",
            "_model_module_version": "1.5.0",
            "_view_count": null,
            "_view_module_version": "1.5.0",
            "box_style": "",
            "layout": "IPY_MODEL_e0450e9655d6411f95754195bab6556b",
            "_model_module": "@jupyter-widgets/controls",
            "children": [
              "IPY_MODEL_2795ea7e57db4f89bf936b77795decfc",
              "IPY_MODEL_33faac009fbc47cba5c9b8bbe651980d"
            ]
          }
        },
        "ae2b203e113a47f4835274d3fcb9b548": {
          "model_module": "@jupyter-widgets/base",
          "model_name": "LayoutModel",
          "state": {
            "_view_name": "LayoutView",
            "grid_template_rows": null,
            "right": null,
            "justify_content": null,
            "_view_module": "@jupyter-widgets/base",
            "overflow": null,
            "_model_module_version": "1.2.0",
            "_view_count": null,
            "flex_flow": null,
            "width": null,
            "min_width": null,
            "border": null,
            "align_items": null,
            "bottom": null,
            "_model_module": "@jupyter-widgets/base",
            "top": null,
            "grid_column": null,
            "overflow_y": null,
            "overflow_x": null,
            "grid_auto_flow": null,
            "grid_area": null,
            "grid_template_columns": null,
            "flex": null,
            "_model_name": "LayoutModel",
            "justify_items": null,
            "grid_row": null,
            "max_height": null,
            "align_content": null,
            "visibility": null,
            "align_self": null,
            "height": null,
            "min_height": null,
            "padding": null,
            "grid_auto_rows": null,
            "grid_gap": null,
            "max_width": null,
            "order": null,
            "_view_module_version": "1.2.0",
            "grid_template_areas": null,
            "object_position": null,
            "object_fit": null,
            "grid_auto_columns": null,
            "margin": null,
            "display": null,
            "left": null
          }
        },
        "25cbc5277c1743a8be468d030972f24d": {
          "model_module": "@jupyter-widgets/controls",
          "model_name": "FloatRangeSliderModel",
          "state": {
            "_view_name": "FloatRangeSliderView",
            "style": "IPY_MODEL_37bbf7e4364b4b23846c0d9ee2e504d0",
            "_dom_classes": [],
            "description": "pi(1,2,3)",
            "step": 0.1,
            "_model_name": "FloatRangeSliderModel",
            "orientation": "horizontal",
            "max": 1,
            "_view_module": "@jupyter-widgets/controls",
            "_model_module_version": "1.5.0",
            "value": [
              0.3,
              0.6
            ],
            "_view_count": null,
            "disabled": false,
            "_view_module_version": "1.5.0",
            "min": 0,
            "continuous_update": true,
            "readout_format": ".2f",
            "description_tooltip": null,
            "readout": true,
            "_model_module": "@jupyter-widgets/controls",
            "layout": "IPY_MODEL_c4a4809fafd2446dbebc8a272213e35e"
          }
        },
        "bc327495bd2e42588c3ac12a49b431cc": {
          "model_module": "@jupyter-widgets/base",
          "model_name": "LayoutModel",
          "state": {
            "_view_name": "LayoutView",
            "grid_template_rows": null,
            "right": null,
            "justify_content": null,
            "_view_module": "@jupyter-widgets/base",
            "overflow": null,
            "_model_module_version": "1.2.0",
            "_view_count": null,
            "flex_flow": null,
            "width": null,
            "min_width": null,
            "border": null,
            "align_items": null,
            "bottom": null,
            "_model_module": "@jupyter-widgets/base",
            "top": null,
            "grid_column": null,
            "overflow_y": null,
            "overflow_x": null,
            "grid_auto_flow": null,
            "grid_area": null,
            "grid_template_columns": null,
            "flex": null,
            "_model_name": "LayoutModel",
            "justify_items": null,
            "grid_row": null,
            "max_height": null,
            "align_content": null,
            "visibility": null,
            "align_self": null,
            "height": null,
            "min_height": null,
            "padding": null,
            "grid_auto_rows": null,
            "grid_gap": null,
            "max_width": null,
            "order": null,
            "_view_module_version": "1.2.0",
            "grid_template_areas": null,
            "object_position": null,
            "object_fit": null,
            "grid_auto_columns": null,
            "margin": null,
            "display": null,
            "left": null
          }
        },
        "f43694f1b00c473298c5a27257008cee": {
          "model_module": "@jupyter-widgets/controls",
          "model_name": "FloatSliderModel",
          "state": {
            "_view_name": "FloatSliderView",
            "style": "IPY_MODEL_6d54cbfc5cd54776a9b5f8e83a8f4410",
            "_dom_classes": [],
            "description": "mu_1",
            "step": 0.1,
            "_model_name": "FloatSliderModel",
            "orientation": "horizontal",
            "max": 100,
            "_view_module": "@jupyter-widgets/controls",
            "_model_module_version": "1.5.0",
            "value": 17.4,
            "_view_count": null,
            "disabled": false,
            "_view_module_version": "1.5.0",
            "min": 0,
            "continuous_update": true,
            "readout_format": ".2f",
            "description_tooltip": null,
            "readout": true,
            "_model_module": "@jupyter-widgets/controls",
            "layout": "IPY_MODEL_e8dbab77c2fd40ea8e5115035253e68a"
          }
        },
        "ef5a7f72689a4641b2768f504de03b44": {
          "model_module": "@jupyter-widgets/controls",
          "model_name": "FloatSliderModel",
          "state": {
            "_view_name": "FloatSliderView",
            "style": "IPY_MODEL_9477343d15a74c378ccc6a12c051ee95",
            "_dom_classes": [],
            "description": "sigma_1",
            "step": 0.1,
            "_model_name": "FloatSliderModel",
            "orientation": "horizontal",
            "max": 10,
            "_view_module": "@jupyter-widgets/controls",
            "_model_module_version": "1.5.0",
            "value": 10,
            "_view_count": null,
            "disabled": false,
            "_view_module_version": "1.5.0",
            "min": 1,
            "continuous_update": true,
            "readout_format": ".2f",
            "description_tooltip": null,
            "readout": true,
            "_model_module": "@jupyter-widgets/controls",
            "layout": "IPY_MODEL_04784944a9ed45ff9742c048300310a8"
          }
        },
        "a74900adaab64b4682891be5a1c48c45": {
          "model_module": "@jupyter-widgets/base",
          "model_name": "LayoutModel",
          "state": {
            "_view_name": "LayoutView",
            "grid_template_rows": null,
            "right": null,
            "justify_content": null,
            "_view_module": "@jupyter-widgets/base",
            "overflow": null,
            "_model_module_version": "1.2.0",
            "_view_count": null,
            "flex_flow": null,
            "width": null,
            "min_width": null,
            "border": null,
            "align_items": null,
            "bottom": null,
            "_model_module": "@jupyter-widgets/base",
            "top": null,
            "grid_column": null,
            "overflow_y": null,
            "overflow_x": null,
            "grid_auto_flow": null,
            "grid_area": null,
            "grid_template_columns": null,
            "flex": null,
            "_model_name": "LayoutModel",
            "justify_items": null,
            "grid_row": null,
            "max_height": null,
            "align_content": null,
            "visibility": null,
            "align_self": null,
            "height": null,
            "min_height": null,
            "padding": null,
            "grid_auto_rows": null,
            "grid_gap": null,
            "max_width": null,
            "order": null,
            "_view_module_version": "1.2.0",
            "grid_template_areas": null,
            "object_position": null,
            "object_fit": null,
            "grid_auto_columns": null,
            "margin": null,
            "display": null,
            "left": null
          }
        },
        "bac244355cbc478884c47808f199eda5": {
          "model_module": "@jupyter-widgets/controls",
          "model_name": "FloatSliderModel",
          "state": {
            "_view_name": "FloatSliderView",
            "style": "IPY_MODEL_fd167a9aba0a40499ddd9415fcefde54",
            "_dom_classes": [],
            "description": "mu_2",
            "step": 0.1,
            "_model_name": "FloatSliderModel",
            "orientation": "horizontal",
            "max": 100,
            "_view_module": "@jupyter-widgets/controls",
            "_model_module_version": "1.5.0",
            "value": 50,
            "_view_count": null,
            "disabled": false,
            "_view_module_version": "1.5.0",
            "min": 0,
            "continuous_update": true,
            "readout_format": ".2f",
            "description_tooltip": null,
            "readout": true,
            "_model_module": "@jupyter-widgets/controls",
            "layout": "IPY_MODEL_2f8d8429329e41ea9a45115572a07aad"
          }
        },
        "54902e5f68e14c208819964bf7cf118e": {
          "model_module": "@jupyter-widgets/controls",
          "model_name": "FloatSliderModel",
          "state": {
            "_view_name": "FloatSliderView",
            "style": "IPY_MODEL_bf5d57348a694ab49bd986852c76ee4e",
            "_dom_classes": [],
            "description": "sigma_2",
            "step": 0.1,
            "_model_name": "FloatSliderModel",
            "orientation": "horizontal",
            "max": 10,
            "_view_module": "@jupyter-widgets/controls",
            "_model_module_version": "1.5.0",
            "value": 10,
            "_view_count": null,
            "disabled": false,
            "_view_module_version": "1.5.0",
            "min": 1,
            "continuous_update": true,
            "readout_format": ".2f",
            "description_tooltip": null,
            "readout": true,
            "_model_module": "@jupyter-widgets/controls",
            "layout": "IPY_MODEL_bd9aea88bd164bc6916a608635925cde"
          }
        },
        "e0450e9655d6411f95754195bab6556b": {
          "model_module": "@jupyter-widgets/base",
          "model_name": "LayoutModel",
          "state": {
            "_view_name": "LayoutView",
            "grid_template_rows": null,
            "right": null,
            "justify_content": null,
            "_view_module": "@jupyter-widgets/base",
            "overflow": null,
            "_model_module_version": "1.2.0",
            "_view_count": null,
            "flex_flow": null,
            "width": null,
            "min_width": null,
            "border": null,
            "align_items": null,
            "bottom": null,
            "_model_module": "@jupyter-widgets/base",
            "top": null,
            "grid_column": null,
            "overflow_y": null,
            "overflow_x": null,
            "grid_auto_flow": null,
            "grid_area": null,
            "grid_template_columns": null,
            "flex": null,
            "_model_name": "LayoutModel",
            "justify_items": null,
            "grid_row": null,
            "max_height": null,
            "align_content": null,
            "visibility": null,
            "align_self": null,
            "height": null,
            "min_height": null,
            "padding": null,
            "grid_auto_rows": null,
            "grid_gap": null,
            "max_width": null,
            "order": null,
            "_view_module_version": "1.2.0",
            "grid_template_areas": null,
            "object_position": null,
            "object_fit": null,
            "grid_auto_columns": null,
            "margin": null,
            "display": null,
            "left": null
          }
        },
        "2795ea7e57db4f89bf936b77795decfc": {
          "model_module": "@jupyter-widgets/controls",
          "model_name": "FloatSliderModel",
          "state": {
            "_view_name": "FloatSliderView",
            "style": "IPY_MODEL_2bf190495a11482fa9051ee6515fd92b",
            "_dom_classes": [],
            "description": "mu_3",
            "step": 0.1,
            "_model_name": "FloatSliderModel",
            "orientation": "horizontal",
            "max": 100,
            "_view_module": "@jupyter-widgets/controls",
            "_model_module_version": "1.5.0",
            "value": 90,
            "_view_count": null,
            "disabled": false,
            "_view_module_version": "1.5.0",
            "min": 0,
            "continuous_update": true,
            "readout_format": ".2f",
            "description_tooltip": null,
            "readout": true,
            "_model_module": "@jupyter-widgets/controls",
            "layout": "IPY_MODEL_60d8adf912064d63a75c713f4d9c7082"
          }
        },
        "33faac009fbc47cba5c9b8bbe651980d": {
          "model_module": "@jupyter-widgets/controls",
          "model_name": "FloatSliderModel",
          "state": {
            "_view_name": "FloatSliderView",
            "style": "IPY_MODEL_f0831107ae904e158ecc666b5e1d407f",
            "_dom_classes": [],
            "description": "sigma_3",
            "step": 0.1,
            "_model_name": "FloatSliderModel",
            "orientation": "horizontal",
            "max": 10,
            "_view_module": "@jupyter-widgets/controls",
            "_model_module_version": "1.5.0",
            "value": 10,
            "_view_count": null,
            "disabled": false,
            "_view_module_version": "1.5.0",
            "min": 1,
            "continuous_update": true,
            "readout_format": ".2f",
            "description_tooltip": null,
            "readout": true,
            "_model_module": "@jupyter-widgets/controls",
            "layout": "IPY_MODEL_eec5f9cdda0d4c97b8ad5964881d2a86"
          }
        },
        "37bbf7e4364b4b23846c0d9ee2e504d0": {
          "model_module": "@jupyter-widgets/controls",
          "model_name": "SliderStyleModel",
          "state": {
            "_view_name": "StyleView",
            "handle_color": null,
            "_model_name": "SliderStyleModel",
            "description_width": "",
            "_view_module": "@jupyter-widgets/base",
            "_model_module_version": "1.5.0",
            "_view_count": null,
            "_view_module_version": "1.2.0",
            "_model_module": "@jupyter-widgets/controls"
          }
        },
        "c4a4809fafd2446dbebc8a272213e35e": {
          "model_module": "@jupyter-widgets/base",
          "model_name": "LayoutModel",
          "state": {
            "_view_name": "LayoutView",
            "grid_template_rows": null,
            "right": null,
            "justify_content": null,
            "_view_module": "@jupyter-widgets/base",
            "overflow": null,
            "_model_module_version": "1.2.0",
            "_view_count": null,
            "flex_flow": null,
            "width": null,
            "min_width": null,
            "border": null,
            "align_items": null,
            "bottom": null,
            "_model_module": "@jupyter-widgets/base",
            "top": null,
            "grid_column": null,
            "overflow_y": null,
            "overflow_x": null,
            "grid_auto_flow": null,
            "grid_area": null,
            "grid_template_columns": null,
            "flex": null,
            "_model_name": "LayoutModel",
            "justify_items": null,
            "grid_row": null,
            "max_height": null,
            "align_content": null,
            "visibility": null,
            "align_self": null,
            "height": null,
            "min_height": null,
            "padding": null,
            "grid_auto_rows": null,
            "grid_gap": null,
            "max_width": null,
            "order": null,
            "_view_module_version": "1.2.0",
            "grid_template_areas": null,
            "object_position": null,
            "object_fit": null,
            "grid_auto_columns": null,
            "margin": null,
            "display": null,
            "left": null
          }
        },
        "6d54cbfc5cd54776a9b5f8e83a8f4410": {
          "model_module": "@jupyter-widgets/controls",
          "model_name": "SliderStyleModel",
          "state": {
            "_view_name": "StyleView",
            "handle_color": null,
            "_model_name": "SliderStyleModel",
            "description_width": "",
            "_view_module": "@jupyter-widgets/base",
            "_model_module_version": "1.5.0",
            "_view_count": null,
            "_view_module_version": "1.2.0",
            "_model_module": "@jupyter-widgets/controls"
          }
        },
        "e8dbab77c2fd40ea8e5115035253e68a": {
          "model_module": "@jupyter-widgets/base",
          "model_name": "LayoutModel",
          "state": {
            "_view_name": "LayoutView",
            "grid_template_rows": null,
            "right": null,
            "justify_content": null,
            "_view_module": "@jupyter-widgets/base",
            "overflow": null,
            "_model_module_version": "1.2.0",
            "_view_count": null,
            "flex_flow": null,
            "width": null,
            "min_width": null,
            "border": null,
            "align_items": null,
            "bottom": null,
            "_model_module": "@jupyter-widgets/base",
            "top": null,
            "grid_column": null,
            "overflow_y": null,
            "overflow_x": null,
            "grid_auto_flow": null,
            "grid_area": null,
            "grid_template_columns": null,
            "flex": null,
            "_model_name": "LayoutModel",
            "justify_items": null,
            "grid_row": null,
            "max_height": null,
            "align_content": null,
            "visibility": null,
            "align_self": null,
            "height": null,
            "min_height": null,
            "padding": null,
            "grid_auto_rows": null,
            "grid_gap": null,
            "max_width": null,
            "order": null,
            "_view_module_version": "1.2.0",
            "grid_template_areas": null,
            "object_position": null,
            "object_fit": null,
            "grid_auto_columns": null,
            "margin": null,
            "display": null,
            "left": null
          }
        },
        "9477343d15a74c378ccc6a12c051ee95": {
          "model_module": "@jupyter-widgets/controls",
          "model_name": "SliderStyleModel",
          "state": {
            "_view_name": "StyleView",
            "handle_color": null,
            "_model_name": "SliderStyleModel",
            "description_width": "",
            "_view_module": "@jupyter-widgets/base",
            "_model_module_version": "1.5.0",
            "_view_count": null,
            "_view_module_version": "1.2.0",
            "_model_module": "@jupyter-widgets/controls"
          }
        },
        "04784944a9ed45ff9742c048300310a8": {
          "model_module": "@jupyter-widgets/base",
          "model_name": "LayoutModel",
          "state": {
            "_view_name": "LayoutView",
            "grid_template_rows": null,
            "right": null,
            "justify_content": null,
            "_view_module": "@jupyter-widgets/base",
            "overflow": null,
            "_model_module_version": "1.2.0",
            "_view_count": null,
            "flex_flow": null,
            "width": null,
            "min_width": null,
            "border": null,
            "align_items": null,
            "bottom": null,
            "_model_module": "@jupyter-widgets/base",
            "top": null,
            "grid_column": null,
            "overflow_y": null,
            "overflow_x": null,
            "grid_auto_flow": null,
            "grid_area": null,
            "grid_template_columns": null,
            "flex": null,
            "_model_name": "LayoutModel",
            "justify_items": null,
            "grid_row": null,
            "max_height": null,
            "align_content": null,
            "visibility": null,
            "align_self": null,
            "height": null,
            "min_height": null,
            "padding": null,
            "grid_auto_rows": null,
            "grid_gap": null,
            "max_width": null,
            "order": null,
            "_view_module_version": "1.2.0",
            "grid_template_areas": null,
            "object_position": null,
            "object_fit": null,
            "grid_auto_columns": null,
            "margin": null,
            "display": null,
            "left": null
          }
        },
        "fd167a9aba0a40499ddd9415fcefde54": {
          "model_module": "@jupyter-widgets/controls",
          "model_name": "SliderStyleModel",
          "state": {
            "_view_name": "StyleView",
            "handle_color": null,
            "_model_name": "SliderStyleModel",
            "description_width": "",
            "_view_module": "@jupyter-widgets/base",
            "_model_module_version": "1.5.0",
            "_view_count": null,
            "_view_module_version": "1.2.0",
            "_model_module": "@jupyter-widgets/controls"
          }
        },
        "2f8d8429329e41ea9a45115572a07aad": {
          "model_module": "@jupyter-widgets/base",
          "model_name": "LayoutModel",
          "state": {
            "_view_name": "LayoutView",
            "grid_template_rows": null,
            "right": null,
            "justify_content": null,
            "_view_module": "@jupyter-widgets/base",
            "overflow": null,
            "_model_module_version": "1.2.0",
            "_view_count": null,
            "flex_flow": null,
            "width": null,
            "min_width": null,
            "border": null,
            "align_items": null,
            "bottom": null,
            "_model_module": "@jupyter-widgets/base",
            "top": null,
            "grid_column": null,
            "overflow_y": null,
            "overflow_x": null,
            "grid_auto_flow": null,
            "grid_area": null,
            "grid_template_columns": null,
            "flex": null,
            "_model_name": "LayoutModel",
            "justify_items": null,
            "grid_row": null,
            "max_height": null,
            "align_content": null,
            "visibility": null,
            "align_self": null,
            "height": null,
            "min_height": null,
            "padding": null,
            "grid_auto_rows": null,
            "grid_gap": null,
            "max_width": null,
            "order": null,
            "_view_module_version": "1.2.0",
            "grid_template_areas": null,
            "object_position": null,
            "object_fit": null,
            "grid_auto_columns": null,
            "margin": null,
            "display": null,
            "left": null
          }
        },
        "bf5d57348a694ab49bd986852c76ee4e": {
          "model_module": "@jupyter-widgets/controls",
          "model_name": "SliderStyleModel",
          "state": {
            "_view_name": "StyleView",
            "handle_color": null,
            "_model_name": "SliderStyleModel",
            "description_width": "",
            "_view_module": "@jupyter-widgets/base",
            "_model_module_version": "1.5.0",
            "_view_count": null,
            "_view_module_version": "1.2.0",
            "_model_module": "@jupyter-widgets/controls"
          }
        },
        "bd9aea88bd164bc6916a608635925cde": {
          "model_module": "@jupyter-widgets/base",
          "model_name": "LayoutModel",
          "state": {
            "_view_name": "LayoutView",
            "grid_template_rows": null,
            "right": null,
            "justify_content": null,
            "_view_module": "@jupyter-widgets/base",
            "overflow": null,
            "_model_module_version": "1.2.0",
            "_view_count": null,
            "flex_flow": null,
            "width": null,
            "min_width": null,
            "border": null,
            "align_items": null,
            "bottom": null,
            "_model_module": "@jupyter-widgets/base",
            "top": null,
            "grid_column": null,
            "overflow_y": null,
            "overflow_x": null,
            "grid_auto_flow": null,
            "grid_area": null,
            "grid_template_columns": null,
            "flex": null,
            "_model_name": "LayoutModel",
            "justify_items": null,
            "grid_row": null,
            "max_height": null,
            "align_content": null,
            "visibility": null,
            "align_self": null,
            "height": null,
            "min_height": null,
            "padding": null,
            "grid_auto_rows": null,
            "grid_gap": null,
            "max_width": null,
            "order": null,
            "_view_module_version": "1.2.0",
            "grid_template_areas": null,
            "object_position": null,
            "object_fit": null,
            "grid_auto_columns": null,
            "margin": null,
            "display": null,
            "left": null
          }
        },
        "2bf190495a11482fa9051ee6515fd92b": {
          "model_module": "@jupyter-widgets/controls",
          "model_name": "SliderStyleModel",
          "state": {
            "_view_name": "StyleView",
            "handle_color": null,
            "_model_name": "SliderStyleModel",
            "description_width": "",
            "_view_module": "@jupyter-widgets/base",
            "_model_module_version": "1.5.0",
            "_view_count": null,
            "_view_module_version": "1.2.0",
            "_model_module": "@jupyter-widgets/controls"
          }
        },
        "60d8adf912064d63a75c713f4d9c7082": {
          "model_module": "@jupyter-widgets/base",
          "model_name": "LayoutModel",
          "state": {
            "_view_name": "LayoutView",
            "grid_template_rows": null,
            "right": null,
            "justify_content": null,
            "_view_module": "@jupyter-widgets/base",
            "overflow": null,
            "_model_module_version": "1.2.0",
            "_view_count": null,
            "flex_flow": null,
            "width": null,
            "min_width": null,
            "border": null,
            "align_items": null,
            "bottom": null,
            "_model_module": "@jupyter-widgets/base",
            "top": null,
            "grid_column": null,
            "overflow_y": null,
            "overflow_x": null,
            "grid_auto_flow": null,
            "grid_area": null,
            "grid_template_columns": null,
            "flex": null,
            "_model_name": "LayoutModel",
            "justify_items": null,
            "grid_row": null,
            "max_height": null,
            "align_content": null,
            "visibility": null,
            "align_self": null,
            "height": null,
            "min_height": null,
            "padding": null,
            "grid_auto_rows": null,
            "grid_gap": null,
            "max_width": null,
            "order": null,
            "_view_module_version": "1.2.0",
            "grid_template_areas": null,
            "object_position": null,
            "object_fit": null,
            "grid_auto_columns": null,
            "margin": null,
            "display": null,
            "left": null
          }
        },
        "f0831107ae904e158ecc666b5e1d407f": {
          "model_module": "@jupyter-widgets/controls",
          "model_name": "SliderStyleModel",
          "state": {
            "_view_name": "StyleView",
            "handle_color": null,
            "_model_name": "SliderStyleModel",
            "description_width": "",
            "_view_module": "@jupyter-widgets/base",
            "_model_module_version": "1.5.0",
            "_view_count": null,
            "_view_module_version": "1.2.0",
            "_model_module": "@jupyter-widgets/controls"
          }
        },
        "eec5f9cdda0d4c97b8ad5964881d2a86": {
          "model_module": "@jupyter-widgets/base",
          "model_name": "LayoutModel",
          "state": {
            "_view_name": "LayoutView",
            "grid_template_rows": null,
            "right": null,
            "justify_content": null,
            "_view_module": "@jupyter-widgets/base",
            "overflow": null,
            "_model_module_version": "1.2.0",
            "_view_count": null,
            "flex_flow": null,
            "width": null,
            "min_width": null,
            "border": null,
            "align_items": null,
            "bottom": null,
            "_model_module": "@jupyter-widgets/base",
            "top": null,
            "grid_column": null,
            "overflow_y": null,
            "overflow_x": null,
            "grid_auto_flow": null,
            "grid_area": null,
            "grid_template_columns": null,
            "flex": null,
            "_model_name": "LayoutModel",
            "justify_items": null,
            "grid_row": null,
            "max_height": null,
            "align_content": null,
            "visibility": null,
            "align_self": null,
            "height": null,
            "min_height": null,
            "padding": null,
            "grid_auto_rows": null,
            "grid_gap": null,
            "max_width": null,
            "order": null,
            "_view_module_version": "1.2.0",
            "grid_template_areas": null,
            "object_position": null,
            "object_fit": null,
            "grid_auto_columns": null,
            "margin": null,
            "display": null,
            "left": null
          }
        },
        "44a03876b634488282de5274405e20e7": {
          "model_module": "@jupyter-widgets/output",
          "model_name": "OutputModel",
          "state": {
            "_view_name": "OutputView",
            "msg_id": "",
            "_dom_classes": [],
            "_model_name": "OutputModel",
            "outputs": [
              {
                "output_type": "display_data",
                "metadata": {
                  "tags": []
                },
                "image/png": "iVBORw0KGgoAAAANSUhEUgAAAnYAAAH1CAYAAAB7mLMSAAAABHNCSVQICAgIfAhkiAAAAAlwSFlz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\n",
                "text/plain": "<Figure size 720x576 with 1 Axes>"
              }
            ],
            "_view_module": "@jupyter-widgets/output",
            "_model_module_version": "1.0.0",
            "_view_count": null,
            "_view_module_version": "1.0.0",
            "layout": "IPY_MODEL_0855e95b2982418595aaf21284f17ba0",
            "_model_module": "@jupyter-widgets/output"
          }
        },
        "55ac764afdf9401ca36c9c540a119423": {
          "model_module": "@jupyter-widgets/controls",
          "model_name": "HBoxModel",
          "state": {
            "_view_name": "HBoxView",
            "_dom_classes": [],
            "_model_name": "HBoxModel",
            "_view_module": "@jupyter-widgets/controls",
            "_model_module_version": "1.5.0",
            "_view_count": null,
            "_view_module_version": "1.5.0",
            "box_style": "",
            "layout": "IPY_MODEL_b816cdb677a340dc83715d564842857a",
            "_model_module": "@jupyter-widgets/controls",
            "children": [
              "IPY_MODEL_fdf3c53410d543eebccdffe51a4211cd",
              "IPY_MODEL_6594e1243b8645e5bd6fae45f7b1d349"
            ]
          }
        },
        "b816cdb677a340dc83715d564842857a": {
          "model_module": "@jupyter-widgets/base",
          "model_name": "LayoutModel",
          "state": {
            "_view_name": "LayoutView",
            "grid_template_rows": null,
            "right": null,
            "justify_content": null,
            "_view_module": "@jupyter-widgets/base",
            "overflow": null,
            "_model_module_version": "1.2.0",
            "_view_count": null,
            "flex_flow": null,
            "width": null,
            "min_width": null,
            "border": null,
            "align_items": null,
            "bottom": null,
            "_model_module": "@jupyter-widgets/base",
            "top": null,
            "grid_column": null,
            "overflow_y": null,
            "overflow_x": null,
            "grid_auto_flow": null,
            "grid_area": null,
            "grid_template_columns": null,
            "flex": null,
            "_model_name": "LayoutModel",
            "justify_items": null,
            "grid_row": null,
            "max_height": null,
            "align_content": null,
            "visibility": null,
            "align_self": null,
            "height": null,
            "min_height": null,
            "padding": null,
            "grid_auto_rows": null,
            "grid_gap": null,
            "max_width": null,
            "order": null,
            "_view_module_version": "1.2.0",
            "grid_template_areas": null,
            "object_position": null,
            "object_fit": null,
            "grid_auto_columns": null,
            "margin": null,
            "display": null,
            "left": null
          }
        },
        "fdf3c53410d543eebccdffe51a4211cd": {
          "model_module": "@jupyter-widgets/controls",
          "model_name": "DropdownModel",
          "state": {
            "_options_labels": [
              "1",
              "2",
              "3"
            ],
            "_view_name": "DropdownView",
            "style": "IPY_MODEL_769258f7117d4da2b6893daad559c18b",
            "_dom_classes": [],
            "description": "Kernel:",
            "_model_name": "DropdownModel",
            "index": 1,
            "_view_module": "@jupyter-widgets/controls",
            "_model_module_version": "1.5.0",
            "_view_count": null,
            "disabled": false,
            "_view_module_version": "1.5.0",
            "description_tooltip": null,
            "_model_module": "@jupyter-widgets/controls",
            "layout": "IPY_MODEL_8fd760d6b1a146caa345c59da4fb23b1"
          }
        },
        "6594e1243b8645e5bd6fae45f7b1d349": {
          "model_module": "@jupyter-widgets/controls",
          "model_name": "FloatSliderModel",
          "state": {
            "_view_name": "FloatSliderView",
            "style": "IPY_MODEL_26b3735c0b244e588ae21c5e2ae2b36a",
            "_dom_classes": [],
            "description": "band width",
            "step": 0.1,
            "_model_name": "FloatSliderModel",
            "orientation": "horizontal",
            "max": 10,
            "_view_module": "@jupyter-widgets/controls",
            "_model_module_version": "1.5.0",
            "value": 6.2,
            "_view_count": null,
            "disabled": false,
            "_view_module_version": "1.5.0",
            "min": 0.1,
            "continuous_update": true,
            "readout_format": ".2f",
            "description_tooltip": null,
            "readout": true,
            "_model_module": "@jupyter-widgets/controls",
            "layout": "IPY_MODEL_08df525c2f2744e09e7fbbe92fd086ee"
          }
        },
        "769258f7117d4da2b6893daad559c18b": {
          "model_module": "@jupyter-widgets/controls",
          "model_name": "DescriptionStyleModel",
          "state": {
            "_view_name": "StyleView",
            "_model_name": "DescriptionStyleModel",
            "description_width": "",
            "_view_module": "@jupyter-widgets/base",
            "_model_module_version": "1.5.0",
            "_view_count": null,
            "_view_module_version": "1.2.0",
            "_model_module": "@jupyter-widgets/controls"
          }
        },
        "8fd760d6b1a146caa345c59da4fb23b1": {
          "model_module": "@jupyter-widgets/base",
          "model_name": "LayoutModel",
          "state": {
            "_view_name": "LayoutView",
            "grid_template_rows": null,
            "right": null,
            "justify_content": null,
            "_view_module": "@jupyter-widgets/base",
            "overflow": null,
            "_model_module_version": "1.2.0",
            "_view_count": null,
            "flex_flow": null,
            "width": null,
            "min_width": null,
            "border": null,
            "align_items": null,
            "bottom": null,
            "_model_module": "@jupyter-widgets/base",
            "top": null,
            "grid_column": null,
            "overflow_y": null,
            "overflow_x": null,
            "grid_auto_flow": null,
            "grid_area": null,
            "grid_template_columns": null,
            "flex": null,
            "_model_name": "LayoutModel",
            "justify_items": null,
            "grid_row": null,
            "max_height": null,
            "align_content": null,
            "visibility": null,
            "align_self": null,
            "height": null,
            "min_height": null,
            "padding": null,
            "grid_auto_rows": null,
            "grid_gap": null,
            "max_width": null,
            "order": null,
            "_view_module_version": "1.2.0",
            "grid_template_areas": null,
            "object_position": null,
            "object_fit": null,
            "grid_auto_columns": null,
            "margin": null,
            "display": null,
            "left": null
          }
        },
        "26b3735c0b244e588ae21c5e2ae2b36a": {
          "model_module": "@jupyter-widgets/controls",
          "model_name": "SliderStyleModel",
          "state": {
            "_view_name": "StyleView",
            "handle_color": null,
            "_model_name": "SliderStyleModel",
            "description_width": "",
            "_view_module": "@jupyter-widgets/base",
            "_model_module_version": "1.5.0",
            "_view_count": null,
            "_view_module_version": "1.2.0",
            "_model_module": "@jupyter-widgets/controls"
          }
        },
        "08df525c2f2744e09e7fbbe92fd086ee": {
          "model_module": "@jupyter-widgets/base",
          "model_name": "LayoutModel",
          "state": {
            "_view_name": "LayoutView",
            "grid_template_rows": null,
            "right": null,
            "justify_content": null,
            "_view_module": "@jupyter-widgets/base",
            "overflow": null,
            "_model_module_version": "1.2.0",
            "_view_count": null,
            "flex_flow": null,
            "width": null,
            "min_width": null,
            "border": null,
            "align_items": null,
            "bottom": null,
            "_model_module": "@jupyter-widgets/base",
            "top": null,
            "grid_column": null,
            "overflow_y": null,
            "overflow_x": null,
            "grid_auto_flow": null,
            "grid_area": null,
            "grid_template_columns": null,
            "flex": null,
            "_model_name": "LayoutModel",
            "justify_items": null,
            "grid_row": null,
            "max_height": null,
            "align_content": null,
            "visibility": null,
            "align_self": null,
            "height": null,
            "min_height": null,
            "padding": null,
            "grid_auto_rows": null,
            "grid_gap": null,
            "max_width": null,
            "order": null,
            "_view_module_version": "1.2.0",
            "grid_template_areas": null,
            "object_position": null,
            "object_fit": null,
            "grid_auto_columns": null,
            "margin": null,
            "display": null,
            "left": null
          }
        },
        "533d24bff62b4443a66f8e2776e5c3f8": {
          "model_module": "@jupyter-widgets/output",
          "model_name": "OutputModel",
          "state": {
            "_view_name": "OutputView",
            "msg_id": "",
            "_dom_classes": [],
            "_model_name": "OutputModel",
            "outputs": [
              {
                "output_type": "display_data",
                "metadata": {
                  "tags": []
                },
                "image/png": "iVBORw0KGgoAAAANSUhEUgAAAnYAAAH1CAYAAAB7mLMSAAAABHNCSVQICAgIfAhkiAAAAAlwSFlz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\nCAtH1gAAAABJRU5ErkJggg==\n",
                "text/plain": "<Figure size 720x576 with 1 Axes>"
              }
            ],
            "_view_module": "@jupyter-widgets/output",
            "_model_module_version": "1.0.0",
            "_view_count": null,
            "_view_module_version": "1.0.0",
            "layout": "IPY_MODEL_976841f6c3b747bc8b7a2d4fb33fe24a",
            "_model_module": "@jupyter-widgets/output"
          }
        }
      }
    }
  },
  "cells": [
    {
      "cell_type": "markdown",
      "metadata": {
        "id": "view-in-github",
        "colab_type": "text"
      },
      "source": [
        "<a href=\"https://colab.research.google.com/github/fbeilstein/machine_learning/blob/master/lecture_13_kernel_density_estimation.ipynb\" target=\"_parent\"><img src=\"https://colab.research.google.com/assets/colab-badge.svg\" alt=\"Open In Colab\"/></a>"
      ]
    },
    {
      "cell_type": "markdown",
      "metadata": {
        "id": "BJ-DUq6MoqWc",
        "colab_type": "text"
      },
      "source": [
        "#Kernel density estimation / Ядрова оцінка густини розподілу"
      ]
    },
    {
      "cell_type": "markdown",
      "metadata": {
        "id": "gZYadnN3sfQi",
        "colab_type": "text"
      },
      "source": [
        "**K**ernel **D**ensity **E**stimation (KDE) is a technique for estimation of probability distribution of the random variable.\n",
        "Before we had two instruments for that:\n",
        "* histograms to capture emphirical frequencies to approximate underlying probability distribution;\n",
        "* guessing a family of probability distributions that the data probably follows and estimating parameters (using MLE) of a most fit of these distributions.\n",
        "\n",
        "KDE is another option for us. It can be seen as an extention of the histogram technique."
      ]
    },
    {
      "cell_type": "markdown",
      "metadata": {
        "id": "g2i9dmgzT0jN",
        "colab_type": "text"
      },
      "source": [
        "#Motivating KDE: Histograms"
      ]
    },
    {
      "cell_type": "markdown",
      "metadata": {
        "id": "3lzFBpANoxck",
        "colab_type": "text"
      },
      "source": [
        "Although histograms are useful and widely used it's also true that\n",
        "\n",
        "$$\n",
        "\\text{Histograms are trickier than they seem.}\n",
        "$$\n",
        "\n",
        "The bins sizes and location could be chosen in many ways. This can drastically change the overall shape of the histogram."
      ]
    },
    {
      "cell_type": "code",
      "metadata": {
        "id": "FgTGp-GsT13k",
        "colab_type": "code",
        "outputId": "064a4be7-a2d8-40e7-bd4c-622fb936501c",
        "colab": {
          "base_uri": "https://localhost:8080/",
          "height": 274
        }
      },
      "source": [
        "%matplotlib inline\n",
        "import matplotlib.pyplot as plt\n",
        "import seaborn as sns; sns.set()\n",
        "import numpy as np\n",
        "\n",
        "def make_data(N, f=0.3, rseed=1):\n",
        "  rand = np.random.RandomState(rseed)\n",
        "  x = rand.randn(N)\n",
        "  x[int(f * N):] += 5\n",
        "  return x\n",
        "\n",
        "x = make_data(1000)\n",
        "hist = plt.hist(x, bins=30, density=True)"
      ],
      "execution_count": 0,
      "outputs": [
        {
          "output_type": "display_data",
          "data": {
            "image/png": "[encoded data removed]",
            "text/plain": [
              "<Figure size 432x288 with 1 Axes>"
            ]
          },
          "metadata": {
            "tags": []
          }
        }
      ]
    },
    {
      "cell_type": "code",
      "metadata": {
        "id": "wybFbOtjtMuS",
        "colab_type": "code",
        "outputId": "6fd9e0e2-0aeb-4716-8240-7c80a2060a7e",
        "colab": {
          "base_uri": "https://localhost:8080/",
          "height": 34
        }
      },
      "source": [
        "# histogram is normed = area equa to 1\n",
        "density, bins, patches = hist\n",
        "widths = bins[1:] - bins[:-1]\n",
        "(density * widths).sum()"
      ],
      "execution_count": 0,
      "outputs": [
        {
          "output_type": "execute_result",
          "data": {
            "text/plain": [
              "1.0"
            ]
          },
          "metadata": {
            "tags": []
          },
          "execution_count": 6
        }
      ]
    },
    {
      "cell_type": "markdown",
      "metadata": {
        "id": "bLtxb-45122v",
        "colab_type": "text"
      },
      "source": [
        "The issue is that depending on the bins the histograms may have different *qualitive* features. Consider this."
      ]
    },
    {
      "cell_type": "code",
      "metadata": {
        "id": "BgtT92WP1Y26",
        "colab_type": "code",
        "outputId": "3581bdbe-4723-4cbb-ffde-cc94afae90c9",
        "colab": {
          "base_uri": "https://localhost:8080/",
          "height": 274
        }
      },
      "source": [
        "x = make_data(20)\n",
        "bins = np.linspace(-5, 10, 10)\n",
        "fig, ax = plt.subplots(1, 2, figsize=(12, 4), sharex=True, sharey=True, subplot_kw={'xlim':(-4, 9), 'ylim':(-0.02, 0.3)})\n",
        "fig.subplots_adjust(wspace=0.05)\n",
        "for i, offset in enumerate([0.0, 0.6]):\n",
        "  ax[i].hist(x, bins=bins + offset, density=True)\n",
        "  ax[i].plot(x, np.full_like(x, -0.01), '|k', markeredgewidth=1)\n",
        "  \n"
      ],
      "execution_count": 0,
      "outputs": [
        {
          "output_type": "display_data",
          "data": {
            "image/png": "[encoded data removed]",
            "text/plain": [
              "<Figure size 864x288 with 2 Axes>"
            ]
          },
          "metadata": {
            "tags": []
          }
        }
      ]
    },
    {
      "cell_type": "markdown",
      "metadata": {
        "id": "aAoW_Glkphhh",
        "colab_type": "text"
      },
      "source": [
        "So it the underlying distribution bimodal or unimodal?\n",
        "\n",
        "---\n",
        "\n",
        "**Sidenote** \n",
        "\n",
        "---\n",
        "\n",
        "On the above picture we have used **a rug plot** -- a plot of data for a single quantitative variable, displayed as marks along an axis. As such it is analogous to a histogram with zero-width bins, or a one-dimensional scatter plot.\n",
        "Rug plots are often used in combination with two-dimensional scatter plots by placing a rug plot of the x values of the data along the x-axis, and similarly for the y values. This is the origin of the term \"rug plot\", as these rug plots with perpendicular markers look like tassels along the edges of the rectangular \"rug\" of the scatter plot.\n",
        "\n",
        "---\n",
        "\n",
        "We can try to solve the problem with the ambiguity of the bin choice by the following idea.\n",
        "You can rethink histogram as square blocks stacked on each other. Each block represents one point of data. If several datapoints are contained within one bin their blocks are placed one at the top of the other."
      ]
    },
    {
      "cell_type": "code",
      "metadata": {
        "id": "nlOSSBRl155E",
        "colab_type": "code",
        "outputId": "a2ffb0d3-9471-4d68-ca35-41e4c912160a",
        "colab": {
          "base_uri": "https://localhost:8080/",
          "height": 274
        }
      },
      "source": [
        "fig, ax = plt.subplots()\n",
        "bins = np.arange(-3, 8)\n",
        "ax.plot(x, np.full_like(x, -0.1), '|k', markeredgewidth=1)\n",
        "for count, edge in zip(*np.histogram(x, bins)):\n",
        "  for i in range(count):\n",
        "    ax.add_patch(plt.Rectangle((edge, i), 1, 1, alpha=0.5))\n",
        "    ax.set_xlim(-4, 8)\n",
        "    ax.set_ylim(-0.2, 8)"
      ],
      "execution_count": 0,
      "outputs": [
        {
          "output_type": "display_data",
          "data": {
            "image/png": "[encoded data removed]",
            "text/plain": [
              "<Figure size 432x288 with 1 Axes>"
            ]
          },
          "metadata": {
            "tags": []
          }
        }
      ]
    },
    {
      "cell_type": "markdown",
      "metadata": {
        "id": "yn5kCMDVpuIa",
        "colab_type": "text"
      },
      "source": [
        "But what if we placed each block so its center is just below the point it represents."
      ]
    },
    {
      "cell_type": "code",
      "metadata": {
        "id": "PmaIt2FW2XD9",
        "colab_type": "code",
        "outputId": "29fca3e3-6bf5-400f-9cf8-db443c4db1a6",
        "colab": {
          "base_uri": "https://localhost:8080/",
          "height": 274
        }
      },
      "source": [
        "x_d = np.linspace(-4, 8, 2000)\n",
        "density = sum((abs(xi - x_d) < 0.5) for xi in x)\n",
        "plt.fill_between(x_d, density, alpha=0.5)\n",
        "plt.plot(x, np.full_like(x, -0.1), '|k', markeredgewidth=1)\n",
        "plt.axis([-4, 8, -0.2, 8]);"
      ],
      "execution_count": 0,
      "outputs": [
        {
          "output_type": "display_data",
          "data": {
            "image/png": "[encoded data removed]",
            "text/plain": [
              "<Figure size 432x288 with 1 Axes>"
            ]
          },
          "metadata": {
            "tags": []
          }
        }
      ]
    },
    {
      "cell_type": "markdown",
      "metadata": {
        "id": "C7LI-9YHtiZZ",
        "colab_type": "text"
      },
      "source": [
        "Analytically this can be seen as if we have placed a \"square\" function (kernel) centered at each point and then we have summed all the functions up.\n",
        "\n",
        "![](https://raw.githubusercontent.com/fbeilstein/machine_learning/master/lecture_13/tophat.png) \n",
        "\n",
        "<br>\n",
        "\n",
        "This type of kernel is called top hat as it recalls a flat-crowned hat (aka cylinder - another term that is both a hat and a math object). The length of the kernel function has not have to be equal to the height.\n",
        "\n",
        "<br>\n",
        "\n",
        "![](https://raw.githubusercontent.com/fbeilstein/machine_learning/master/lecture_13/hat.png) \n",
        "\n",
        "<br>\n",
        "\n",
        "Now to make things not so \"right angled\" we can sum up smooth functions (for example Gaussians) instead of rectangular shapes (top hats)."
      ]
    },
    {
      "cell_type": "code",
      "metadata": {
        "id": "0NuMPFTb2k4v",
        "colab_type": "code",
        "outputId": "dfbb187a-ee23-46d8-a381-e456b9b2d09e",
        "colab": {
          "base_uri": "https://localhost:8080/",
          "height": 274
        }
      },
      "source": [
        "from scipy.stats import norm\n",
        "\n",
        "x_d = np.linspace(-4, 8, 1000)\n",
        "density = sum(norm(xi).pdf(x_d) for xi in x)\n",
        "plt.fill_between(x_d, density, alpha=0.5)\n",
        "plt.plot(x, np.full_like(x, -0.1), '|k', markeredgewidth=1)\n",
        "plt.axis([-4, 8, -0.2, 5]);\n",
        "\n",
        "# a Gaussian kernel"
      ],
      "execution_count": 0,
      "outputs": [
        {
          "output_type": "display_data",
          "data": {
            "image/png": "[encoded data removed]",
            "text/plain": [
              "<Figure size 432x288 with 1 Axes>"
            ]
          },
          "metadata": {
            "tags": []
          }
        }
      ]
    },
    {
      "cell_type": "markdown",
      "metadata": {
        "id": "UKtTyenQ21oM",
        "colab_type": "text"
      },
      "source": [
        "#Kernel Density Estimation "
      ]
    },
    {
      "cell_type": "markdown",
      "metadata": {
        "id": "spIbstS6H-qt",
        "colab_type": "text"
      },
      "source": [
        "In order to do KDE we need to make our mind about two things:\n",
        "  * kernel, which specifies the shape of the distribution placed at each point\n",
        "  * kernel bandwidth, which controls the size of the kernel at each point\n"
      ]
    },
    {
      "cell_type": "markdown",
      "metadata": {
        "id": "mmMie2p4_Nr0",
        "colab_type": "text"
      },
      "source": [
        "##Choosing kernel"
      ]
    },
    {
      "cell_type": "markdown",
      "metadata": {
        "id": "RU6-AjKD_S15",
        "colab_type": "text"
      },
      "source": [
        "On every data point $x_i$ we place a *kernel* function $K$. The kernel density estimate is then\n",
        "\n",
        "$$\n",
        "\\hat{f}_h(x)=\\frac{1}{Nh}\\sum_{i=1}^N K\\left(\\frac{x-x_i}{h}\\right),\n",
        "$$\n",
        "\n",
        "where $h$ is the scaling parameter caled *bandwidth*.\n",
        "\n",
        "In fact we can subtitute equal factors of $1/N$ with weights that can emphasize one points against the others:\n",
        "\n",
        "$$\n",
        "\\begin{aligned}\n",
        "& \\hat{f}_h(x)=\\frac{1}{h}\\sum_{i=1}^N w_i \\cdot K\\left(\\frac{x-x_i}{h}\\right), \\\\\n",
        "&\\sum_{i=1}^N w_i=1.\n",
        "\\end{aligned}\n",
        "$$\n",
        "\n",
        "The kernel function is typically\n",
        "* non-negative: $K(x) \\geq 0$;\n",
        "* symmetric: $\\,\\,\\,\\,\\, K(x)=K(-x)$;\n",
        "* decreasing: $\\,\\,\\,\\, K'(x)\\leq 0$;\n",
        "* $\\int K(x)dx=1$.\n",
        "\n",
        "$K$ has either compact support or decrease sufficiently fast approaching infinity.\n",
        "\n",
        "In the multivariate case (with $d$ dimensions) we have\n",
        "\n",
        "$$\n",
        "\\hat{f}_h(x)=\\frac{1}{Nh^d}\\sum_{i=1}^N K\\left(\\frac{\\|x-x_i\\|}{h}\\right),\n",
        "$$\n",
        "\n",
        "where $\\|\\cdot \\|$ is a some kind of norm, for example $p$-norm\n",
        "\n",
        "$$ \n",
        "\\|x\\|_p = \\left(\\sum_i |x_i|^p \\right)^{1/p}\n",
        "$$\n",
        "\n",
        "Although it's fun to see how the choise of kernel and metric affects the outcome,  it doesn't matter so much when there are lots of points.\n",
        "\n",
        "Nonetheless, what are our options when choosing the kernels?"
      ]
    },
    {
      "cell_type": "code",
      "metadata": {
        "id": "4R5k0DYyy0nl",
        "colab_type": "code",
        "outputId": "78b81d40-54ec-467f-99d1-f84042c624e6",
        "cellView": "form",
        "colab": {
          "base_uri": "https://localhost:8080/",
          "height": 393
        }
      },
      "source": [
        "#@title Available kernels\n",
        "\n",
        "import numpy as np\n",
        "import matplotlib\n",
        "import matplotlib.pyplot as plt\n",
        "from distutils.version import LooseVersion\n",
        "from scipy.stats import norm\n",
        "from sklearn.neighbors import KernelDensity\n",
        "\n",
        "\n",
        "X_plot = np.linspace(-6, 6, 1000)[:, None]\n",
        "X_src = np.zeros((1, 1))\n",
        "\n",
        "fig, ax = plt.subplots(2, 3, sharex=True, sharey=True, figsize=(10, 6))\n",
        "fig.subplots_adjust(left=0.05, right=0.95, hspace=0.05, wspace=0.05)\n",
        "\n",
        "\n",
        "def format_func(x, loc):\n",
        "    if x == 0:\n",
        "        return '0'\n",
        "    elif x == 1:\n",
        "        return 'h'\n",
        "    elif x == -1:\n",
        "        return '-h'\n",
        "    else:\n",
        "        return '%ih' % x\n",
        "\n",
        "for i, kernel in enumerate(['gaussian', 'tophat', 'epanechnikov',\n",
        "                            'exponential', 'linear', 'cosine']):\n",
        "    axi = ax.ravel()[i]\n",
        "    log_dens = KernelDensity(kernel=kernel).fit(X_src).score_samples(X_plot)\n",
        "    axi.fill(X_plot[:, 0], np.exp(log_dens), '-k', fc='#AAAAFF')\n",
        "    axi.text(-2.6, 0.95, kernel)\n",
        "\n",
        "    axi.xaxis.set_major_formatter(plt.FuncFormatter(format_func))\n",
        "    axi.xaxis.set_major_locator(plt.MultipleLocator(1))\n",
        "    axi.yaxis.set_major_locator(plt.NullLocator())\n",
        "\n",
        "    axi.set_ylim(0, 1.05)\n",
        "    axi.set_xlim(-2.9, 2.9)\n",
        "\n",
        "ax[0, 1].set_title('Available Kernels');\n"
      ],
      "execution_count": 0,
      "outputs": [
        {
          "output_type": "display_data",
          "data": {
            "image/png": "[encoded data removed]",
            "text/plain": [
              "<Figure size 720x432 with 6 Axes>"
            ]
          },
          "metadata": {
            "tags": []
          }
        }
      ]
    },
    {
      "cell_type": "markdown",
      "metadata": {
        "id": "VVGzEnOy8qkx",
        "colab_type": "text"
      },
      "source": [
        "$$\n",
        "\\begin{aligned}\n",
        "& K_{\\text{Gausian}}(x;h) && \\propto \\quad e^{-\\frac{x^2}{2h^2}}; \\\\\n",
        "& K_{\\text{Tophat}}(x;h) && \\propto \\quad 1, &&& \\text{if   } \\quad x<h; \\\\\n",
        "& K_{\\text{Epanechnikov}}(x;h) && \\propto \\quad 1-\\frac{x^2}{h^2}; \\\\\n",
        "& K_{\\text{Exponential}}(x;h) && \\propto \\quad e^{-\\frac{x}{h}}; \\\\\n",
        "& K_{\\text{Linear}}(x;h) && \\propto \\quad 1-\\frac{|x|}{h}, &&& \\text{if   } \\quad |x|<h; \\\\\n",
        "& K_{\\text{Cosine}}(x;h) && \\propto \\quad \\cos{\\frac{\\pi x}{2 h}}, &&& \\text{if   } \\quad x<h. \\\\\n",
        "\\end{aligned}\n",
        "$$\n",
        "\n",
        "you can choose those by setting `kernel` parameter:\n",
        "* `kernel = 'gaussian';`\n",
        "* `kernel = 'tophat';`\n",
        "* `kernel = 'epanechnikov';`\n",
        "* `kernel = 'exponential';`\n",
        "* `kernel = 'linear';`\n",
        "* `kernel = 'cosine'.`"
      ]
    },
    {
      "cell_type": "markdown",
      "metadata": {
        "id": "UkuES-PX_H28",
        "colab_type": "text"
      },
      "source": [
        "##Choosing bandwidth"
      ]
    },
    {
      "cell_type": "markdown",
      "metadata": {
        "id": "EWh6vAx9_l39",
        "colab_type": "text"
      },
      "source": [
        "The choice of bandwidth within KDE is extremely important (the bias–variance trade-off).\n",
        "\n",
        "   *  too narrow a bandwidth leads to a high-variance estimate (i.e., overfitting)\n",
        "   * too wide a bandwidth leads to a high-bias estimate (i.e., underfitting)\n",
        "\n",
        "<br>\n",
        "\n",
        "   ![](https://raw.githubusercontent.com/fbeilstein/machine_learning/master/lecture_13/band.png) "
      ]
    },
    {
      "cell_type": "markdown",
      "metadata": {
        "id": "am_w-S6sMY4X",
        "colab_type": "text"
      },
      "source": [
        "###Theoretical considerations"
      ]
    },
    {
      "cell_type": "markdown",
      "metadata": {
        "id": "SXcsA8-Wt3y9",
        "colab_type": "text"
      },
      "source": [
        "The most common optimality criterion used to select this parameter is the expected $L_2$ risk function, also termed the **mean integrated squared error**:\n",
        "\n",
        "$$\\text{MISE}(h)=\\mathbb{E}\\left[\\int \\left(\\hat{f}_h(x)-f(x)\\right)^2 dx \\right].$$\n",
        "\n",
        "Under weak assumptions on $f$ and $K$\n",
        "\n",
        "$$\n",
        "\\text{MISE}(h)=\\text{AMISE}(h)+o\\left(\\frac{1}{Nh}+h^4\\right).\n",
        "$$\n",
        "\n",
        "The $\\text{AMISE}$ is the **A**symptotic **MISE** which consists of the two leading terms\n",
        "\n",
        "$$\n",
        "\\text{AMISE}(h)=\\frac{R(K)}{Nh}+\\frac{1}{4}m_2(K)^2h^4R(f''),\n",
        "$$\n",
        "\n",
        "where $R(g)=\\int g(x)^2 dx$ and $m_2(K)=\\int x^2 K(x) dx$. Thus\n",
        "* $R(g)$ is the functional $L_2$-norm;\n",
        "* $m_2(K)=\\mathbb{E}_K[x^2]$ is the so-called $2$-nd non-central moment of the kernel.\n",
        "\n",
        "The minimum of this $\\text{AMISE}$ is the solution to this differential equation\n",
        "\n",
        "$$\n",
        "\\begin{aligned}\n",
        "& \\frac{\\partial}{\\partial h}\\text{AMISE}(h) =-\\frac{R(K)}{N h^2}+m_2(K)^2h^3R(f'')=0 \\color{red}{\\Rightarrow} \\\\\n",
        "& \\color{red}{\\Rightarrow} \\qquad h_{\\text{AMISE}} =\\frac{R(K)^{1/5}}{m_2(K)^{2/5} R(f'')^{1/5}N^{1/5}}.\n",
        "\\end{aligned}\n",
        "$$\n",
        "\n",
        "Neither the $\\text{AMISE}$ nor the $h_\\text{AMISE}$ formulas are able to be used directly since they involve the unknown density function $f$ or its second derivative $f''$, so a variety of automatic, data-based methods have been developed for selecting the bandwidth."
      ]
    },
    {
      "cell_type": "markdown",
      "metadata": {
        "id": "ikXJjC-IJR7B",
        "colab_type": "text"
      },
      "source": [
        "###Silverman's Rule of Thumb"
      ]
    },
    {
      "cell_type": "markdown",
      "metadata": {
        "id": "F9e1Z4OmJT0W",
        "colab_type": "text"
      },
      "source": [
        "If the data is unimodal and close to normal, silverman’s rule of thumb may be used. It’s computationally very fast, but derived by assuming that the true density is normal. This is somewhat paradoxal, since if we knew that the data was truly normal it would render a kernel density estimator unnecessary.\n",
        "\n",
        "$$\n",
        "h=\\left(\\frac{4}{3}\\frac{\\hat{\\sigma}^5}{N}\\right)^{\\frac{1}{5}}.\n",
        "$$"
      ]
    },
    {
      "cell_type": "markdown",
      "metadata": {
        "id": "501YP8v3J1bf",
        "colab_type": "text"
      },
      "source": [
        "###Improved Sheather-Jones (ISJ) algorithm "
      ]
    },
    {
      "cell_type": "markdown",
      "metadata": {
        "id": "8BSBQb_hJ4oZ",
        "colab_type": "text"
      },
      "source": [
        "If much data is available and the data is far from normal or multimodal, the **I**mproved **S**heather **J**ones (ISJ) algorithm may be used. The Improved Sheather-Jones algorithm is a plug-in selector. \n",
        "\n",
        "The ISJ algorithm attempts to find h to minimize the asymptotic mean integrated square error ($\\text{AMISE}$), which depends on the unknown quantity $\\|f''(x)\\|^2$. Using a recursive formula, this is accomplished by computing a sequence of estimates."
      ]
    },
    {
      "cell_type": "markdown",
      "metadata": {
        "id": "q8stjXouIyTz",
        "colab_type": "text"
      },
      "source": [
        "###Selecting the bandwidth via cross-validation"
      ]
    },
    {
      "cell_type": "markdown",
      "metadata": {
        "id": "Zfi2oWy-JZe7",
        "colab_type": "text"
      },
      "source": [
        ""
      ]
    },
    {
      "cell_type": "code",
      "metadata": {
        "id": "P_6K4w_3Izgz",
        "colab_type": "code",
        "outputId": "f9e39b77-e5b2-4eca-9800-879c83423287",
        "colab": {
          "base_uri": "https://localhost:8080/",
          "height": 34
        }
      },
      "source": [
        "from sklearn.model_selection import learning_curve, GridSearchCV\n",
        "from sklearn.model_selection import LeaveOneOut #train_test_split\n",
        "\n",
        "bandwidths = 10 ** np.linspace(-1, 1, 100)\n",
        "loo = LeaveOneOut()\n",
        "grid = GridSearchCV(KernelDensity(kernel='gaussian'), {'bandwidth': bandwidths}, cv=loo)\n",
        "grid.fit(x[:, None]);\n",
        "grid.best_params_"
      ],
      "execution_count": 0,
      "outputs": [
        {
          "output_type": "execute_result",
          "data": {
            "text/plain": [
              "{'bandwidth': 1.1233240329780276}"
            ]
          },
          "metadata": {
            "tags": []
          },
          "execution_count": 20
        }
      ]
    },
    {
      "cell_type": "markdown",
      "metadata": {
        "id": "JGrdMpBf_vRg",
        "colab_type": "text"
      },
      "source": [
        "#How to use"
      ]
    },
    {
      "cell_type": "code",
      "metadata": {
        "id": "YkXbzJ0IIPu8",
        "colab_type": "code",
        "outputId": "86967f10-9a16-44d1-a1ab-343b3bc452eb",
        "colab": {
          "base_uri": "https://localhost:8080/",
          "height": 291
        }
      },
      "source": [
        "from sklearn.neighbors import KernelDensity\n",
        "# instantiate and fit the KDE model\n",
        "kde = KernelDensity(bandwidth=1.0, kernel='gaussian')\n",
        "kde.fit(x[:, None])\n",
        "# score_samples returns the log of the probability density\n",
        "logprob = kde.score_samples(x_d[:, None])\n",
        "plt.fill_between(x_d, np.exp(logprob), alpha=0.5)\n",
        "plt.plot(x, np.full_like(x, -0.01), '|k', markeredgewidth=1)\n",
        "plt.ylim(-0.02, 0.22)"
      ],
      "execution_count": 0,
      "outputs": [
        {
          "output_type": "execute_result",
          "data": {
            "text/plain": [
              "(-0.02, 0.22)"
            ]
          },
          "metadata": {
            "tags": []
          },
          "execution_count": 16
        },
        {
          "output_type": "display_data",
          "data": {
            "image/png": "[encoded data removed]",
            "text/plain": [
              "<Figure size 432x288 with 1 Axes>"
            ]
          },
          "metadata": {
            "tags": []
          }
        }
      ]
    },
    {
      "cell_type": "markdown",
      "metadata": {
        "id": "_FQr-h66b1Rc",
        "colab_type": "text"
      },
      "source": [
        "# KDE as Mixture Model"
      ]
    },
    {
      "cell_type": "markdown",
      "metadata": {
        "id": "SLNAG4SBb6l2",
        "colab_type": "text"
      },
      "source": [
        "We see that KDE reminds MM taken to the extreme: the number of components we throw into the mix equals the number of points.\n",
        "\n",
        "<br>\n",
        "\n",
        "![](https://raw.githubusercontent.com/fbeilstein/machine_learning/master/lecture_13/mix.png) \n",
        "\n",
        "<br>\n",
        "\n",
        "If the number of point is huge the \"shot noise\" from the individual points becomes negligible and the overall underlying distibution hopefully emerges."
      ]
    },
    {
      "cell_type": "markdown",
      "metadata": {
        "id": "g0l9p82WsLpQ",
        "colab_type": "text"
      },
      "source": [
        "#Gaussian blur"
      ]
    },
    {
      "cell_type": "markdown",
      "metadata": {
        "id": "NluhuiqvsOgO",
        "colab_type": "text"
      },
      "source": [
        "We have seen that histograms may be misleading. Also they are \"grainy\" as they discretize (sample) continuous data. Pdf estimate could be kept smooth by using gaussian KDE.\n",
        "\n",
        "Idea similar to gaussian KDE is involved in Gaussian smoothing of images.\n",
        "In image processing, a Gaussian blur (also known as Gaussian smoothing) is the result of blurring an image by a Gaussian function. It is a widely used effect in graphics software, typically to reduce image noise and reduce detail. A Gaussian blur effect is typically generated by convolving an image with a kernel of Gaussian values. \n",
        "\n",
        "<br>\n",
        "\n",
        "![](https://raw.githubusercontent.com/fbeilstein/machine_learning/master/lecture_13/blur.png) \n",
        "\n",
        "<br>\n",
        "\n",
        "Let's first sample image (keeping $1$ pixel out of $10$ along each dimension). What we get is an analog of a histogram. If we perform a Gaussian blur afterwards we regain some of the smootheness.\n",
        "\n",
        "<br>\n",
        "\n",
        "![](https://raw.githubusercontent.com/fbeilstein/machine_learning/master/lecture_13/lena_1.png) \n",
        "\n",
        "<br>"
      ]
    },
    {
      "cell_type": "markdown",
      "metadata": {
        "id": "Im1uI0JtK-WE",
        "colab_type": "text"
      },
      "source": [
        "#Example: KDE on a Sphere"
      ]
    },
    {
      "cell_type": "markdown",
      "metadata": {
        "id": "T9vRb2sc9XHB",
        "colab_type": "text"
      },
      "source": [
        "Perhaps the most common use of KDE is in graphically representing distributions of points. For example, in the `Seaborn visualization library` KDE is built in and automatically used to help visualize points in one and two dimensions.\n",
        "Here we will look at a slightly more sophisticated use of KDE for visualization of distributions. We will make use of some geographic data that can be loaded with `ScikitLearn`: the geographic distributions of recorded observations of two South American mammals, *Bradypus variegatus* (the brown-throated sloth) and *Microryzomys minutus* (the forest small rice rat).\n",
        "\n",
        "<br>\n",
        "\n",
        "![](https://raw.githubusercontent.com/fbeilstein/machine_learning/master/lecture_13/anim.png) \n",
        "\n"
      ]
    },
    {
      "cell_type": "code",
      "metadata": {
        "id": "-k347bdQU5zu",
        "colab_type": "code",
        "outputId": "3126c0c2-7834-4731-8005-32deece4a8fa",
        "colab": {
          "base_uri": "https://localhost:8080/",
          "height": 34
        }
      },
      "source": [
        "import numpy as np\n",
        "\n",
        "!sudo apt-get install libgeos-dev > /dev/null\n",
        "!sudo pip3 install -U git+https://github.com/matplotlib/basemap.git > /dev/null\n",
        "from sklearn.datasets import fetch_species_distributions\n",
        "data = fetch_species_distributions();\n",
        "# Get matrices/arrays of species IDs and locations\n",
        "latlon = np.vstack([data.train['dd lat'], data.train['dd long']]).T\n",
        "species = np.array([d.decode('ascii').startswith('micro') for d in data.train['species']], dtype='int')"
      ],
      "execution_count": 0,
      "outputs": [
        {
          "output_type": "stream",
          "text": [
            "  Running command git clone -q https://github.com/matplotlib/basemap.git /tmp/pip-req-build-dy6g376t\n"
          ],
          "name": "stdout"
        }
      ]
    },
    {
      "cell_type": "code",
      "metadata": {
        "id": "ht6ErJtEUd7W",
        "colab_type": "code",
        "outputId": "cacf4e45-2b21-4498-e72f-4369b0b18145",
        "colab": {
          "base_uri": "https://localhost:8080/",
          "height": 260
        }
      },
      "source": [
        "from mpl_toolkits.basemap import Basemap\n",
        "from sklearn.datasets.species_distributions import construct_grids\n",
        "xgrid, ygrid = construct_grids(data)\n",
        "\n",
        "# plot coastlines with Basemap\n",
        "m = Basemap(projection='cyl', resolution='c', llcrnrlat=ygrid.min(), urcrnrlat=ygrid.max(), llcrnrlon=xgrid.min(), urcrnrlon=xgrid.max())\n",
        "m.drawmapboundary(fill_color='#DDEEFF')\n",
        "m.fillcontinents(color='#FFEEDD')\n",
        "m.drawcoastlines(color='gray', zorder=2)\n",
        "m.drawcountries(color='gray', zorder=2)\n",
        "\n",
        "# plot locations\n",
        "m.scatter(latlon[:, 1], latlon[:, 0], zorder=3, c=species, cmap='rainbow', latlon=True);"
      ],
      "execution_count": 0,
      "outputs": [
        {
          "output_type": "display_data",
          "data": {
            "image/png": "[encoded data removed]",
            "text/plain": [
              "<Figure size 432x288 with 1 Axes>"
            ]
          },
          "metadata": {
            "tags": []
          }
        }
      ]
    },
    {
      "cell_type": "markdown",
      "metadata": {
        "id": "FtUmpFHM8iyo",
        "colab_type": "text"
      },
      "source": [
        "Unfortunately, this doesn’t give a very good idea of the density of the species, because points in the species range may overlap one another. You may not realize it by looking at this plot, but there are over $1600$ points shown here!\n",
        "Let’s use kernel density estimation to show this distribution in a more interpretable way: as a smooth indication of density on the map. Because the coordinate system here lies on a spherical surface rather than a flat plane, we will use the haversine distance metric, which will correctly represent distances on a curved surface.\n",
        "\n",
        "**Note**:\n",
        "The *haversine formula* determines the great-circle distance between two points on a sphere given their longitudes and latitudes. Important in navigation, it is a special case of a more general formula in spherical trigonometry, the law of haversines, that relates the sides and angles of spherical triangles.\n",
        "\n",
        "$$\n",
        "d=2r\\arcsin{\\sqrt{\\sin^2\\left(\\frac{\\phi_2-\\phi_1}{2}\\right)+\\cos{\\phi_1}\\cdot \\cos{\\phi_2}\\cdot \\sin^2\\left(\\frac{\\lambda_2-\\lambda_1}{2} \\right)}},\n",
        "$$\n",
        "\n",
        "where \n",
        "* $d$ is the distance between the two points along a great circle of the sphere;\n",
        "* $\\phi$ -- latitude of point;\n",
        "* $\\lambda$ -- longitude of point.\n",
        "\n",
        "The term haversine  is due to haversine $\\text{hav}$ function that was used instead of $\\sin$ in the formula.\n",
        "\n",
        "$$\n",
        "\\text{hav}(x)=\\sin^2\\left(\\frac{x}{2}\\right).\n",
        "$$\n",
        "\n",
        "So if we rewrite the formula above using haversine it will read\n",
        "\n",
        "$$\n",
        "\\text{hav}(\\Theta)=\\text{hav}(\\phi_2-\\phi_1)+\\cos{\\phi_1} \\cdot \\cos{\\phi_2} \\cdot \\text{hav}(\\lambda_2-\\lambda_1),\n",
        "$$\n",
        "\n",
        "with $\\Theta=\\frac{d}{r}$ is central angle between any two points on a sphere."
      ]
    },
    {
      "cell_type": "code",
      "metadata": {
        "id": "FmwkQlE4XwLE",
        "colab_type": "code",
        "outputId": "689c9e60-8b12-4dcc-9b03-798d4c58c39c",
        "colab": {
          "base_uri": "https://localhost:8080/",
          "height": 270
        }
      },
      "source": [
        "# Set up the data grid for the contour plot\n",
        "X, Y = np.meshgrid(xgrid[::5], ygrid[::5][::-1])\n",
        "land_reference = data.coverages[6][::5, ::5]\n",
        "land_mask = (land_reference > -9999).ravel()\n",
        "xy = np.vstack([Y.ravel(), X.ravel()]).T\n",
        "xy = np.radians(xy[land_mask])\n",
        "\n",
        "# Create two side-by-side plots\n",
        "fig, ax = plt.subplots(1, 2)\n",
        "fig.subplots_adjust(left=0.05, right=0.95, wspace=0.05)\n",
        "species_names = ['Bradypus Variegatus', 'Microryzomys Minutus']\n",
        "cmaps = ['Purples', 'Reds']\n",
        "\n",
        "for i, axi in enumerate(ax):\n",
        "  axi.set_title(species_names[i])\n",
        "\n",
        "  # plot coastlines with Basemap\n",
        "  m = Basemap(projection='cyl', llcrnrlat=Y.min(), urcrnrlat=Y.max(), llcrnrlon=X.min(), urcrnrlon=X.max(), resolution='c', ax=axi)\n",
        "  m.drawmapboundary(fill_color='#DDEEFF')\n",
        "  m.drawcoastlines()\n",
        "  m.drawcountries()\n",
        "  \n",
        "  # construct a spherical kernel density estimate of the distribution\n",
        "  kde = KernelDensity(bandwidth=0.03, metric='haversine')\n",
        "  kde.fit(np.radians(latlon[species == i]))\n",
        "\n",
        "  # evaluate only on the land: -9999 indicates ocean\n",
        "  Z = np.full(land_mask.shape[0], -9999.0)\n",
        "  Z[land_mask] = np.exp(kde.score_samples(xy))\n",
        "  Z = Z.reshape(X.shape)\n",
        "  \n",
        "  # plot contours of the density\n",
        "  levels = np.linspace(0, Z.max(), 25)\n",
        "  axi.contourf(X, Y, Z, levels=levels, cmap=cmaps[i])  "
      ],
      "execution_count": 0,
      "outputs": [
        {
          "output_type": "display_data",
          "data": {
            "image/png": "[encoded data removed]",
            "text/plain": [
              "<Figure size 432x288 with 2 Axes>"
            ]
          },
          "metadata": {
            "tags": []
          }
        }
      ]
    },
    {
      "cell_type": "markdown",
      "metadata": {
        "id": "6ZtWndy68RsU",
        "colab_type": "text"
      },
      "source": [
        "Now we have a much clearer picture of the geographical distribution of observation of two species.\n",
        "\n"
      ]
    },
    {
      "cell_type": "markdown",
      "metadata": {
        "id": "dMIOJrA8-qJm",
        "colab_type": "text"
      },
      "source": [
        "#Example: Fisher irisis"
      ]
    },
    {
      "cell_type": "markdown",
      "metadata": {
        "id": "oYoPWo8B-J-a",
        "colab_type": "text"
      },
      "source": [
        "Here is another example of nice visualization.\n",
        "\n",
        "<br>\n",
        "\n",
        "![](https://raw.githubusercontent.com/fbeilstein/machine_learning/master/lecture_13/iris.png) "
      ]
    },
    {
      "cell_type": "code",
      "metadata": {
        "id": "WjK03ydaP665",
        "colab_type": "code",
        "outputId": "64493c30-e80e-46c2-8050-c496b114f78c",
        "colab": {
          "base_uri": "https://localhost:8080/",
          "height": 519
        }
      },
      "source": [
        "import seaborn as sns\n",
        "import matplotlib.pyplot as plt\n",
        "\n",
        "sns.set(style=\"darkgrid\")\n",
        "iris = sns.load_dataset(\"iris\")\n",
        "\n",
        "setosa = iris.query(\"species == 'setosa'\")\n",
        "virginica = iris.query(\"species == 'virginica'\")\n",
        "\n",
        "f, ax = plt.subplots(figsize=(8, 8))\n",
        "ax.set_aspect(\"equal\")\n",
        "\n",
        "ax = sns.kdeplot(setosa.sepal_width, setosa.sepal_length,\n",
        "                 cmap=\"Reds\", shade=True, shade_lowest=False)\n",
        "ax = sns.kdeplot(virginica.sepal_width, virginica.sepal_length,\n",
        "                 cmap=\"Blues\", shade=True, shade_lowest=False)\n",
        "\n",
        "red = sns.color_palette(\"Reds\")[-2]\n",
        "blue = sns.color_palette(\"Blues\")[-2]\n",
        "ax.text(2.5, 8.2, \"virginica\", size=16, color=blue)\n",
        "ax.text(3.8, 4.5, \"setosa\", size=16, color=red)"
      ],
      "execution_count": 0,
      "outputs": [
        {
          "output_type": "execute_result",
          "data": {
            "text/plain": [
              "Text(3.8, 4.5, 'setosa')"
            ]
          },
          "metadata": {
            "tags": []
          },
          "execution_count": 3
        },
        {
          "output_type": "display_data",
          "data": {
            "image/png": "[encoded data removed]",
            "text/plain": [
              "<Figure size 576x576 with 1 Axes>"
            ]
          },
          "metadata": {
            "tags": []
          }
        }
      ]
    },
    {
      "cell_type": "markdown",
      "metadata": {
        "id": "7k45DaaLYONo",
        "colab_type": "text"
      },
      "source": [
        "#Example: Not-So-Naive Bayes"
      ]
    },
    {
      "cell_type": "markdown",
      "metadata": {
        "id": "BJxcMR1ofrXE",
        "colab_type": "text"
      },
      "source": [
        "For naive Bayes, the generative model is a simple axis-aligned Gaussian.\n",
        "With a density estimation algorithm like KDE, we can remove the “naive” element and perform the same classification with a more sophisticated generative model for each class.\n",
        "It’s still Bayesian classification, but it’s no longer naive."
      ]
    },
    {
      "cell_type": "markdown",
      "metadata": {
        "id": "tQKL5Dj5f6R2",
        "colab_type": "text"
      },
      "source": [
        "1. Split the training data by label.\n",
        "2. For each set, fit a KDE to obtain a generative model of the data.\n",
        "This allows you for any observation x and label y to compute a likelihood $P(x|y)$.\n",
        "3. From the number of examples of each class in the training set, compute the class prior, $P(y)$ .\n",
        "4. For an unknown point x , the posterior probability for each class is $P(y|x)= P(x|y)P(y)$. The class that maximizes this posterior is the label assigned to the point."
      ]
    },
    {
      "cell_type": "markdown",
      "metadata": {
        "id": "1cepwUXc1AWu",
        "colab_type": "text"
      },
      "source": [
        "Let’s try this custom estimator on a problem we have seen before: the classification of handwritten digits. Here we will load the digits, and compute the cross-validation score for a range of candidate bandwidths using the `GridSearchCV` meta-estimator."
      ]
    },
    {
      "cell_type": "code",
      "metadata": {
        "id": "GQ9wdpBgYQIk",
        "colab_type": "code",
        "colab": {}
      },
      "source": [
        "from sklearn.base import BaseEstimator, ClassifierMixin\n",
        "from sklearn.neighbors import KernelDensity\n",
        "\n",
        "# BaseEstimator contains the logic necessary to clone/copy an estimator for use in a crossvalidation procedure\n",
        "# ClassifierMixin defines a default score() method used by such routines\n",
        "class KDEClassifier(BaseEstimator, ClassifierMixin):\n",
        "  \"\"\"Bayesian generative classification based on KDE\n",
        "  Parameters\n",
        "  ----------\n",
        "  bandwidth : float\n",
        "  the kernel bandwidth within each class\n",
        "  kernel : str\n",
        "  the kernel name, passed to KernelDensity\n",
        "  \"\"\"\n",
        "  def __init__(self, bandwidth=1.0, kernel='gaussian'):\n",
        "    self.bandwidth = bandwidth\n",
        "    self.kernel = kernel\n",
        "  \n",
        "  # find the unique classes in the training data, \n",
        "  # train a KernelDensity model for each class, \n",
        "  # compute the class priors based on the number of input samples.\n",
        "  def fit(self, X, y):\n",
        "    self.classes_ = np.sort(np.unique(y))\n",
        "    training_sets = [X[y == yi] for yi in self.classes_]\n",
        "    self.models_ = [KernelDensity(bandwidth=self.bandwidth, kernel=self.kernel).fit(Xi) for Xi in training_sets]\n",
        "    self.logpriors_ = [np.log(Xi.shape[0] / X.shape[0]) for Xi in training_sets]\n",
        "    return self # for chaining\n",
        "  \n",
        "  # predicting labels on new data\n",
        "  def predict_proba(self, X):\n",
        "    logprobs = np.array([model.score_samples(X) for model in self.models_]).T\n",
        "    result = np.exp(logprobs + self.logpriors_)\n",
        "    return result / result.sum(1, keepdims=True)\n",
        "  \n",
        "  def predict(self, X):\n",
        "    return self.classes_[np.argmax(self.predict_proba(X), 1)]"
      ],
      "execution_count": 0,
      "outputs": []
    },
    {
      "cell_type": "markdown",
      "metadata": {
        "id": "XrghJcTc0Vr1",
        "colab_type": "text"
      },
      "source": [
        "We now use this class."
      ]
    },
    {
      "cell_type": "code",
      "metadata": {
        "id": "gsqvNFAHm1Rn",
        "colab_type": "code",
        "colab": {}
      },
      "source": [
        "from sklearn.datasets import load_digits\n",
        "from sklearn.model_selection import GridSearchCV\n",
        "\n",
        "digits = load_digits()\n",
        "bandwidths = 10 ** np.linspace(0, 2, 100)\n",
        "grid = GridSearchCV(KDEClassifier(), {'bandwidth': bandwidths}, cv=3)\n",
        "grid.fit(digits.data, digits.target)\n",
        "scores = grid.cv_results_['mean_test_score']"
      ],
      "execution_count": 0,
      "outputs": []
    },
    {
      "cell_type": "code",
      "metadata": {
        "id": "Gtbz5bE0sL4I",
        "colab_type": "code",
        "outputId": "b535c305-2b20-45b7-fa16-a3fd50664e38",
        "colab": {
          "base_uri": "https://localhost:8080/",
          "height": 341
        }
      },
      "source": [
        "plt.semilogx(bandwidths, scores)\n",
        "plt.xlabel('bandwidth')\n",
        "plt.ylabel('accuracy')\n",
        "plt.title('KDE Model Performance')\n",
        "print(grid.best_params_)\n",
        "print('accuracy =', grid.best_score_)"
      ],
      "execution_count": 0,
      "outputs": [
        {
          "output_type": "stream",
          "text": [
            "{'bandwidth': 7.054802310718643}\n",
            "accuracy = 0.9666110183639399\n"
          ],
          "name": "stdout"
        },
        {
          "output_type": "display_data",
          "data": {
            "image/png": "[encoded data removed]",
            "text/plain": [
              "<Figure size 432x288 with 1 Axes>"
            ]
          },
          "metadata": {
            "tags": []
          }
        }
      ]
    },
    {
      "cell_type": "markdown",
      "metadata": {
        "id": "9RlumF2e1K3B",
        "colab_type": "text"
      },
      "source": [
        "We see that this not-so-naive Bayesian classifier reaches a cross-validation accuracy of just over $96\\%$; this is compared to around $80\\%$ for the naive Bayesian classification:\n"
      ]
    },
    {
      "cell_type": "code",
      "metadata": {
        "id": "dHkCW0Cks2EB",
        "colab_type": "code",
        "outputId": "c92124bb-f78f-4a1f-df84-51e82c0beb1e",
        "colab": {
          "base_uri": "https://localhost:8080/",
          "height": 34
        }
      },
      "source": [
        "from sklearn.naive_bayes import GaussianNB\n",
        "from sklearn.model_selection import cross_val_score\n",
        "cross_val_score(GaussianNB(), digits.data, digits.target, cv=3).mean()"
      ],
      "execution_count": 0,
      "outputs": [
        {
          "output_type": "execute_result",
          "data": {
            "text/plain": [
              "0.8186003803550138"
            ]
          },
          "metadata": {
            "tags": []
          },
          "execution_count": 22
        }
      ]
    },
    {
      "cell_type": "markdown",
      "metadata": {
        "id": "2khCd84S1XdG",
        "colab_type": "text"
      },
      "source": [
        "One benefit of such a generative classifier is interpretability of results: for each unknown sample, we not only get a probabilistic classification, but a full model of the distribution of points we are comparing it to! If desired, this offers an intuitive window into the reasons for a particular classification that algorithms like SVMs and random forests tend to obscure.\n",
        "If you would like to take this further, there are some improvements that could be made to our KDE classifier model:\n",
        "* We could allow the bandwidth in each class to vary independently.\n",
        "*  We could optimize these bandwidths not based on their prediction score, but on the likelihood of the training data under the generative model within each class (i.e., use the scores from KernelDensity itself rather than the global prediction accuracy)."
      ]
    },
    {
      "cell_type": "markdown",
      "metadata": {
        "id": "PDHneNbciGHf",
        "colab_type": "text"
      },
      "source": [
        "#Interactive KDE"
      ]
    },
    {
      "cell_type": "code",
      "metadata": {
        "id": "EEgY5TRliHyI",
        "colab_type": "code",
        "colab": {}
      },
      "source": [
        "from sklearn.neighbors import KernelDensity\n",
        "# instantiate and fit the KDE model\n",
        "kde = KernelDensity(kernel='gaussian')\n",
        "\n",
        "def fit_distribution(X, bandwidth):\n",
        "  params = {'bandwidth': bandwidth}\n",
        "  kde.set_params(**params)\n",
        "  kde.fit(X)\n",
        "\n",
        "def evaluate_distribution(X):\n",
        "  logprob = kde.score_samples(X)\n",
        "  return np.exp(logprob)"
      ],
      "execution_count": 0,
      "outputs": []
    },
    {
      "cell_type": "code",
      "metadata": {
        "id": "F9MusX0DiPPt",
        "colab_type": "code",
        "cellView": "form",
        "outputId": "ca4ebfde-07d2-4a96-83b7-d7284633048b",
        "colab": {
          "base_uri": "https://localhost:8080/",
          "height": 637
        }
      },
      "source": [
        "#@title Interactive KDE\n",
        "import numpy as np\n",
        "import matplotlib.pyplot as plt\n",
        "from matplotlib.colors import ListedColormap\n",
        "from matplotlib import cm\n",
        "import seaborn as sns\n",
        "        \n",
        "def plot_clusters(x_, y_, z_):\n",
        "  fig = plt.figure(figsize=(10,10))\n",
        "  ax = fig.gca()\n",
        "  #ax = sns.kdeplot(X[:,0], X[:,1], cmap=\"Blues\", shade=True, shade_lowest=False)\n",
        "  sns.set()\n",
        "  ax.contourf(x_, y_, z_, alpha=0.5, cmap=\"Blues\")\n",
        "  ax.tick_params(axis=\"y\",direction=\"in\", pad=-60)\n",
        "  ax.tick_params(axis=\"x\",direction=\"in\", pad=-30)\n",
        "  ax.set_xticks(np.arange(-.75, 1, .25))\n",
        "  ax.set_yticks(np.arange(-.75, 1, .25))\n",
        "  ax.set_xlim([-1, 1])\n",
        "  ax.set_ylim([-1, 1])\n",
        "\n",
        "\n",
        "  plt.close(fig)\n",
        "\n",
        "  return fig\n",
        "\n",
        "import base64\n",
        "import io\n",
        "\n",
        "def figure_to_base64(fig):\n",
        "  buf = io.BytesIO()\n",
        "  fig.savefig(buf, format='png', bbox_inches='tight', pad_inches=0);\n",
        "  image_base64 = base64.b64encode(buf.getvalue()).decode('utf-8').replace('\\n', '')\n",
        "  buf.close()\n",
        "  return image_base64\n",
        "\n",
        "\n",
        "\n",
        "import json\n",
        "from IPython.display import display, clear_output\n",
        "\n",
        "def invoke(pts, n):\n",
        "  data = np.array(pts).reshape((-1, 2))\n",
        "  X = data / 300.0 - 1.0\n",
        "  X[:, 1] *= -1.0\n",
        "\n",
        "  fit_distribution(X, float(n)/1000.0)\n",
        "  x_ = np.linspace(-1.0, +1.0, num=300)\n",
        "  y_ = np.linspace(-1.0, +1.0, num=300)\n",
        "  xx, yy = np.meshgrid(x_, y_)\n",
        "  x_vec = np.transpose(np.vstack([xx.ravel(), yy.ravel()]))\n",
        "  G  = evaluate_distribution(x_vec).reshape((x_.shape[0],y_.shape[0]))\n",
        "  figr = plot_clusters(x_, y_, G)\n",
        "  image_base64 = figure_to_base64(figr)\n",
        "\n",
        "  return IPython.display.JSON({'image': image_base64, \n",
        "                               'g_x': x_.tolist(), 'g_y': y_.tolist(), 'g_z': G.tolist(),\n",
        "                               's_x': X[:, 0].tolist(), 's_y': X[:, 1].tolist(), 's_z': [0]*len(X)})\n",
        "\n",
        "\n",
        "import IPython\n",
        "from google.colab import output\n",
        "\n",
        "main_str = '''\n",
        "  <script src=\"https://cdn.plot.ly/plotly-latest.min.js\"></script> \n",
        "  <script type=\"application/javascript\">\n",
        "  \n",
        "    var active_pt = null;\n",
        "    var all_pts = [];\n",
        "    var classAbtn = [650, 100];\n",
        "    var classBbtn = [650, 200];\n",
        "    var ptR = 10.0;\n",
        "    var params = null;\n",
        "    var debug_txt = \"\";\n",
        "    var bg_image = new Image();\n",
        "\n",
        "    function is_close(pt1, pt2) {\n",
        "      return   (pt1[0] - pt2[0])*(pt1[0] - pt2[0])\n",
        "            +  (pt1[1] - pt2[1])*(pt1[1] - pt2[1])\n",
        "            <= ptR*ptR;\n",
        "    }\n",
        "  \n",
        "    function circ(ctx, pos) {\n",
        "      ctx.beginPath();\n",
        "      ctx.arc(pos[0], pos[1], ptR, 0.0, 2.0 * Math.PI, 0);\n",
        "      ctx.fillStyle = 'rgba(255, 128, 0, 0.5)';\n",
        "      ctx.fill();\n",
        "    }\n",
        "    \n",
        "    \n",
        "    function draw() {\n",
        "      var canvas = document.getElementById('canvas');\n",
        "      if (canvas.getContext) {\n",
        "        var ctx = canvas.getContext('2d');\n",
        "        \n",
        "        ctx.clearRect(0, 0, canvas.width, canvas.height); // cleanup before start\n",
        "        ctx.drawImage(bg_image, 0, 0, 600, 600);\n",
        "        ctx.strokeRect(0, 0, 600, 600); // field\n",
        "        \n",
        "        ctx.font = '20px serif';\n",
        "        ctx.fillStyle = 'black';\n",
        "        ctx.fillText(debug_txt, 200, 200);\n",
        "        \n",
        "        if (active_pt) {\n",
        "          circ(ctx, [active_pt[0], active_pt[1]]);\n",
        "        }\n",
        "        all_pts.forEach(function (item, index) {\n",
        "          circ(ctx, [item[0], item[1]]);\n",
        "        });\n",
        "\n",
        "      }\n",
        "    }\n",
        "    \n",
        "    var timer\n",
        "\n",
        "    function get_state() {\n",
        "      var rates = document.getElementsByName('rate');\n",
        "      for(var i = 0; i < rates.length; i++)\n",
        "        if(rates[i].checked)\n",
        "          return rates[i].value;\n",
        "      return \"none\";\n",
        "    }\n",
        "\n",
        "    \n",
        "    function mdown_handle(evt) {\n",
        "      evt.stopPropagation();\n",
        "      x = evt.offsetX;\n",
        "      y = evt.offsetY;\n",
        "      state = get_state();\n",
        "      if (state == \"add\") {\n",
        "        if (x < 600)\n",
        "            all_pts.push([x, y]);\n",
        "        return;\n",
        "      }\n",
        "\n",
        "      idx = -1;\n",
        "      all_pts.forEach(function (item, index) {\n",
        "        if (is_close([x,y], [item[0], item[1]])) {\n",
        "          idx = index;\n",
        "        }\n",
        "      });\n",
        "      if (idx <= -1)\n",
        "          return;\n",
        "      if (state == \"move\") {\n",
        "        active_pt = all_pts[idx];\n",
        "        all_pts.splice(idx, 1);\n",
        "      }\n",
        "      if (state == \"del\")\n",
        "          all_pts.splice(idx, 1);\n",
        "    }\n",
        "    \n",
        "    function mmove_handle(evt) {\n",
        "      evt.stopPropagation();\n",
        "      if (get_state() != \"move\")\n",
        "          return;\n",
        "      x = evt.offsetX;\n",
        "      y = evt.offsetY;\n",
        "      if (active_pt) {\n",
        "        active_pt[0] = x;\n",
        "        active_pt[1] = y;\n",
        "      }\n",
        "    }\n",
        "    \n",
        "    function mup_handle(evt) {\n",
        "      evt.stopPropagation();\n",
        "      x = evt.offsetX;\n",
        "      y = evt.offsetY;\n",
        "      if (x >= 600) {\n",
        "        active_pt = null;\n",
        "      }\n",
        "      if (active_pt) {\n",
        "        all_pts.push(active_pt);\n",
        "        active_pt = null;\n",
        "      }\n",
        "    }\n",
        "    \n",
        "    function clear_field() {\n",
        "      active_pt = null;\n",
        "      all_pts = [];\n",
        "    }\n",
        "\n",
        "\n",
        "   function plot_3d(g_x, g_y, g_z)\n",
        "   {\n",
        "     cell_for_plot = document.getElementById('for_plotly_plot');\n",
        "     //Plotly.deleteTraces(cell_for_plot, [0, 1]);\n",
        "     var data = [{\n",
        "           x: g_x,\n",
        "           y: g_y,\n",
        "           z: g_z,\n",
        "           type: 'surface',\n",
        "           opacity: 0.9,\n",
        "           showscale: false,\n",
        "           colorscale: \"Viridis\"\n",
        "        }];\n",
        "  \n",
        "     var layout = {\n",
        "          title: 'pdf estimate',\n",
        "          autosize: false,\n",
        "          width: 600,\n",
        "          height: 600,\n",
        "          showlegend: false,\n",
        "          scene: {\n",
        "            camera: {\n",
        "              up: {x: 0, y: 1, z: 0},\n",
        "              center: {x: 0, y: 0, z: 0},\n",
        "              eye: {x: 0.0, y: -1.0, z: 1.4}\n",
        "            }\n",
        "          }\n",
        "        };\n",
        "     Plotly.newPlot(cell_for_plot, data, layout);\n",
        "   }\n",
        "\n",
        "   function plot_scatter(s_x, s_y, s_z)\n",
        "   {\n",
        "          \n",
        "     cell_for_plot = document.getElementById('for_plotly_plot');\n",
        "     var data = [{\n",
        "           x: s_x,\n",
        "           y: s_y,\n",
        "           z: s_z,\n",
        "           type: 'scatter3d',\n",
        "           mode: 'markers',\n",
        "           marker: {\n",
        "             size: 4,\n",
        "             colorscale: \"Viridis\",\n",
        "             line: {\n",
        "               width: 2,\n",
        "               color: 'rgba(0, 0, 0, 0.5)'\n",
        "             }\n",
        "           }\n",
        "        }];\n",
        "    Plotly.plot(cell_for_plot, data, {});\n",
        "   }\n",
        "\n",
        "\n",
        "    var cur_depth = 100;\n",
        "\n",
        "    async function calculate() {\n",
        "      if (!all_pts)\n",
        "        return;\n",
        "      var merged = [].concat.apply([], all_pts);\n",
        "      const result = await google.colab.kernel.invokeFunction('notebook.InvSVM', [merged, cur_depth], {});\n",
        "      params = result.data['application/json'];\n",
        "            \n",
        "      bg_image.src = 'data:image/  png;base64,' + params.image;\n",
        "      cell_for_plot = document.getElementById('for_plotly_plot');\n",
        "      \n",
        "      plot_3d(params.g_x, params.g_y, params.g_z);\n",
        "      plot_scatter(params.s_x, params.s_y, params.s_z);\n",
        "      \n",
        "    }\n",
        "\n",
        "   function h_change(x) {\n",
        "    el = document.getElementById(\"slider_val\");\n",
        "    cur_depth = x;\n",
        "    el.innerHTML = x;\n",
        "  }\n",
        "\n",
        " </script>\n",
        "\n",
        "<div id=\"everything\" style=\"height:600px;\">\n",
        "<div id=\"for_plotly_plot\" style=\"position:absolute; top:0px; left:0px; height:600px; width:600px;\">\n",
        "</div>\n",
        "<div id=\"custom_controls\" style=\"position:absolute; top:0px; left:600px;\">\n",
        "  <canvas id=\"canvas\" width=\"800\" height=\"600\" \n",
        "    onmousedown=\"mdown_handle(event)\"\n",
        "    onmousemove=\"mmove_handle(event)\"\n",
        "    onmouseup=\"mup_handle(event)\"></canvas>\n",
        "  <div style=\"position:absolute; top:275px; left:625px;\">\n",
        "   <div style=\"border-style: solid;\">\n",
        "    <input type=\"radio\" id=\"r1\" name=\"rate\" value=\"add\" checked=\"checked\"> Add Feature\n",
        "    <br>\n",
        "    <input type=\"radio\" id=\"r2\" name=\"rate\" value=\"move\"> Move Features\n",
        "    <br>\n",
        "    <input type=\"radio\" id=\"r3\" name=\"rate\" value=\"del\"> Delete Feature\n",
        "    <br>\n",
        "    <button type=\"button\" onclick=\"clear_field();\">\n",
        "      Clear\n",
        "    </button>\n",
        "   </div>\n",
        "   <br><br>Bandwidth x 1000:<br>\n",
        "    <input type=\"range\" min=\"1\" max=\"200\" value=\"100\" oninput=\"h_change(this.value)\">\n",
        "    <br><div id=\"slider_val\">100</div>\n",
        "   <br><br>\n",
        "    <button type=\"button\" onclick=\"calculate();\">\n",
        "      KDE\n",
        "    </button>\n",
        "  </div>\n",
        "</div>\n",
        "<div>\n",
        "  \n",
        "<script>\n",
        "function init()\n",
        "{\n",
        "  timer = setInterval(draw, 10);\n",
        "}\n",
        "\n",
        "init();\n",
        "</script>\n",
        "'''\n",
        "\n",
        "display(IPython.display.HTML(main_str))\n",
        "output.register_callback('notebook.InvSVM', invoke)"
      ],
      "execution_count": 5,
      "outputs": [
        {
          "output_type": "display_data",
          "data": {
            "text/html": [
              "\n",
              "  <script src=\"https://cdn.plot.ly/plotly-latest.min.js\"></script> \n",
              "  <script type=\"application/javascript\">\n",
              "  \n",
              "    var active_pt = null;\n",
              "    var all_pts = [];\n",
              "    var classAbtn = [650, 100];\n",
              "    var classBbtn = [650, 200];\n",
              "    var ptR = 10.0;\n",
              "    var params = null;\n",
              "    var debug_txt = \"\";\n",
              "    var bg_image = new Image();\n",
              "\n",
              "    function is_close(pt1, pt2) {\n",
              "      return   (pt1[0] - pt2[0])*(pt1[0] - pt2[0])\n",
              "            +  (pt1[1] - pt2[1])*(pt1[1] - pt2[1])\n",
              "            <= ptR*ptR;\n",
              "    }\n",
              "  \n",
              "    function circ(ctx, pos) {\n",
              "      ctx.beginPath();\n",
              "      ctx.arc(pos[0], pos[1], ptR, 0.0, 2.0 * Math.PI, 0);\n",
              "      ctx.fillStyle = 'rgba(255, 128, 0, 0.5)';\n",
              "      ctx.fill();\n",
              "    }\n",
              "    \n",
              "    \n",
              "    function draw() {\n",
              "      var canvas = document.getElementById('canvas');\n",
              "      if (canvas.getContext) {\n",
              "        var ctx = canvas.getContext('2d');\n",
              "        \n",
              "        ctx.clearRect(0, 0, canvas.width, canvas.height); // cleanup before start\n",
              "        ctx.drawImage(bg_image, 0, 0, 600, 600);\n",
              "        ctx.strokeRect(0, 0, 600, 600); // field\n",
              "        \n",
              "        ctx.font = '20px serif';\n",
              "        ctx.fillStyle = 'black';\n",
              "        ctx.fillText(debug_txt, 200, 200);\n",
              "        \n",
              "        if (active_pt) {\n",
              "          circ(ctx, [active_pt[0], active_pt[1]]);\n",
              "        }\n",
              "        all_pts.forEach(function (item, index) {\n",
              "          circ(ctx, [item[0], item[1]]);\n",
              "        });\n",
              "\n",
              "      }\n",
              "    }\n",
              "    \n",
              "    var timer\n",
              "\n",
              "    function get_state() {\n",
              "      var rates = document.getElementsByName('rate');\n",
              "      for(var i = 0; i < rates.length; i++)\n",
              "        if(rates[i].checked)\n",
              "          return rates[i].value;\n",
              "      return \"none\";\n",
              "    }\n",
              "\n",
              "    \n",
              "    function mdown_handle(evt) {\n",
              "      evt.stopPropagation();\n",
              "      x = evt.offsetX;\n",
              "      y = evt.offsetY;\n",
              "      state = get_state();\n",
              "      if (state == \"add\") {\n",
              "        if (x < 600)\n",
              "            all_pts.push([x, y]);\n",
              "        return;\n",
              "      }\n",
              "\n",
              "      idx = -1;\n",
              "      all_pts.forEach(function (item, index) {\n",
              "        if (is_close([x,y], [item[0], item[1]])) {\n",
              "          idx = index;\n",
              "        }\n",
              "      });\n",
              "      if (idx <= -1)\n",
              "          return;\n",
              "      if (state == \"move\") {\n",
              "        active_pt = all_pts[idx];\n",
              "        all_pts.splice(idx, 1);\n",
              "      }\n",
              "      if (state == \"del\")\n",
              "          all_pts.splice(idx, 1);\n",
              "    }\n",
              "    \n",
              "    function mmove_handle(evt) {\n",
              "      evt.stopPropagation();\n",
              "      if (get_state() != \"move\")\n",
              "          return;\n",
              "      x = evt.offsetX;\n",
              "      y = evt.offsetY;\n",
              "      if (active_pt) {\n",
              "        active_pt[0] = x;\n",
              "        active_pt[1] = y;\n",
              "      }\n",
              "    }\n",
              "    \n",
              "    function mup_handle(evt) {\n",
              "      evt.stopPropagation();\n",
              "      x = evt.offsetX;\n",
              "      y = evt.offsetY;\n",
              "      if (x >= 600) {\n",
              "        active_pt = null;\n",
              "      }\n",
              "      if (active_pt) {\n",
              "        all_pts.push(active_pt);\n",
              "        active_pt = null;\n",
              "      }\n",
              "    }\n",
              "    \n",
              "    function clear_field() {\n",
              "      active_pt = null;\n",
              "      all_pts = [];\n",
              "    }\n",
              "\n",
              "\n",
              "   function plot_3d(g_x, g_y, g_z)\n",
              "   {\n",
              "     cell_for_plot = document.getElementById('for_plotly_plot');\n",
              "     //Plotly.deleteTraces(cell_for_plot, [0, 1]);\n",
              "     var data = [{\n",
              "           x: g_x,\n",
              "           y: g_y,\n",
              "           z: g_z,\n",
              "           type: 'surface',\n",
              "           opacity: 0.9,\n",
              "           showscale: false,\n",
              "           colorscale: \"Viridis\"\n",
              "        }];\n",
              "  \n",
              "     var layout = {\n",
              "          title: 'pdf estimate',\n",
              "          autosize: false,\n",
              "          width: 600,\n",
              "          height: 600,\n",
              "          showlegend: false,\n",
              "          scene: {\n",
              "            camera: {\n",
              "              up: {x: 0, y: 1, z: 0},\n",
              "              center: {x: 0, y: 0, z: 0},\n",
              "              eye: {x: 0.0, y: -1.0, z: 1.4}\n",
              "            }\n",
              "          }\n",
              "        };\n",
              "     Plotly.newPlot(cell_for_plot, data, layout);\n",
              "   }\n",
              "\n",
              "   function plot_scatter(s_x, s_y, s_z)\n",
              "   {\n",
              "          \n",
              "     cell_for_plot = document.getElementById('for_plotly_plot');\n",
              "     var data = [{\n",
              "           x: s_x,\n",
              "           y: s_y,\n",
              "           z: s_z,\n",
              "           type: 'scatter3d',\n",
              "           mode: 'markers',\n",
              "           marker: {\n",
              "             size: 4,\n",
              "             colorscale: \"Viridis\",\n",
              "             line: {\n",
              "               width: 2,\n",
              "               color: 'rgba(0, 0, 0, 0.5)'\n",
              "             }\n",
              "           }\n",
              "        }];\n",
              "    Plotly.plot(cell_for_plot, data, {});\n",
              "   }\n",
              "\n",
              "\n",
              "    var cur_depth = 100;\n",
              "\n",
              "    async function calculate() {\n",
              "      if (!all_pts)\n",
              "        return;\n",
              "      var merged = [].concat.apply([], all_pts);\n",
              "      const result = await google.colab.kernel.invokeFunction('notebook.InvSVM', [merged, cur_depth], {});\n",
              "      params = result.data['application/json'];\n",
              "            \n",
              "      bg_image.src = 'data:image/  png;base64,' + params.image;\n",
              "      cell_for_plot = document.getElementById('for_plotly_plot');\n",
              "      \n",
              "      plot_3d(params.g_x, params.g_y, params.g_z);\n",
              "      plot_scatter(params.s_x, params.s_y, params.s_z);\n",
              "      \n",
              "    }\n",
              "\n",
              "   function h_change(x) {\n",
              "    el = document.getElementById(\"slider_val\");\n",
              "    cur_depth = x;\n",
              "    el.innerHTML = x;\n",
              "  }\n",
              "\n",
              " </script>\n",
              "\n",
              "<div id=\"everything\" style=\"height:600px;\">\n",
              "<div id=\"for_plotly_plot\" style=\"position:absolute; top:0px; left:0px; height:600px; width:600px;\">\n",
              "</div>\n",
              "<div id=\"custom_controls\" style=\"position:absolute; top:0px; left:600px;\">\n",
              "  <canvas id=\"canvas\" width=\"800\" height=\"600\" \n",
              "    onmousedown=\"mdown_handle(event)\"\n",
              "    onmousemove=\"mmove_handle(event)\"\n",
              "    onmouseup=\"mup_handle(event)\"></canvas>\n",
              "  <div style=\"position:absolute; top:275px; left:625px;\">\n",
              "   <div style=\"border-style: solid;\">\n",
              "    <input type=\"radio\" id=\"r1\" name=\"rate\" value=\"add\" checked=\"checked\"> Add Feature\n",
              "    <br>\n",
              "    <input type=\"radio\" id=\"r2\" name=\"rate\" value=\"move\"> Move Features\n",
              "    <br>\n",
              "    <input type=\"radio\" id=\"r3\" name=\"rate\" value=\"del\"> Delete Feature\n",
              "    <br>\n",
              "    <button type=\"button\" onclick=\"clear_field();\">\n",
              "      Clear\n",
              "    </button>\n",
              "   </div>\n",
              "   <br><br>Bandwidth x 1000:<br>\n",
              "    <input type=\"range\" min=\"1\" max=\"200\" value=\"100\" oninput=\"h_change(this.value)\">\n",
              "    <br><div id=\"slider_val\">100</div>\n",
              "   <br><br>\n",
              "    <button type=\"button\" onclick=\"calculate();\">\n",
              "      KDE\n",
              "    </button>\n",
              "  </div>\n",
              "</div>\n",
              "<div>\n",
              "  \n",
              "<script>\n",
              "function init()\n",
              "{\n",
              "  timer = setInterval(draw, 10);\n",
              "}\n",
              "\n",
              "init();\n",
              "</script>\n"
            ],
            "text/plain": [
              "<IPython.core.display.HTML object>"
            ]
          },
          "metadata": {
            "tags": []
          }
        }
      ]
    },
    {
      "cell_type": "code",
      "metadata": {
        "id": "Oc1vm-XiknB_",
        "colab_type": "code",
        "outputId": "6cf24d44-fc19-40fa-ea9c-a7398910b439",
        "colab": {
          "resources": {
            "http://localhost:8080/nbextensions/google.colab/tabbar.css": {
              "data": "Lmdvb2ctdGFie3Bvc2l0aW9uOnJlbGF0aXZlO3BhZGRpbmc6NHB4IDhweDtjb2xvcjojMDBjO3RleHQtZGVjb3JhdGlvbjp1bmRlcmxpbmU7Y3Vyc29yOmRlZmF1bHR9Lmdvb2ctdGFiLWJhci10b3AgLmdvb2ctdGFie21hcmdpbjoxcHggNHB4IDAgMDtib3JkZXItYm90dG9tOjA7ZmxvYXQ6bGVmdH0uZ29vZy10YWItYmFyLXRvcDphZnRlciwuZ29vZy10YWItYmFyLWJvdHRvbTphZnRlcntjb250ZW50OiIgIjtkaXNwbGF5OmJsb2NrO2hlaWdodDowO2NsZWFyOmJvdGg7dmlzaWJpbGl0eTpoaWRkZW59Lmdvb2ctdGFiLWJhci1ib3R0b20gLmdvb2ctdGFie21hcmdpbjowIDRweCAxcHggMDtib3JkZXItdG9wOjA7ZmxvYXQ6bGVmdH0uZ29vZy10YWItYmFyLXN0YXJ0IC5nb29nLXRhYnttYXJnaW46MCAwIDRweCAxcHg7Ym9yZGVyLXJpZ2h0OjB9Lmdvb2ctdGFiLWJhci1lbmQgLmdvb2ctdGFie21hcmdpbjowIDFweCA0cHggMDtib3JkZXItbGVmdDowfS5nb29nLXRhYi1ob3ZlcntiYWNrZ3JvdW5kOiNlZWV9Lmdvb2ctdGFiLWRpc2FibGVke2NvbG9yOiM2NjZ9Lmdvb2ctdGFiLXNlbGVjdGVke2NvbG9yOiMwMDA7YmFja2dyb3VuZDojZmZmO3RleHQtZGVjb3JhdGlvbjpub25lO2ZvbnQtd2VpZ2h0OmJvbGQ7Ym9yZGVyOjFweCBzb2xpZCAjNmI5MGRhfS5nb29nLXRhYi1iYXItdG9we3BhZGRpbmctdG9wOjVweCFpbXBvcnRhbnQ7cGFkZGluZy1sZWZ0OjVweCFpbXBvcnRhbnQ7Ym9yZGVyLWJvdHRvbToxcHggc29saWQgIzZiOTBkYSFpbXBvcnRhbnR9Lmdvb2ctdGFiLWJhci10b3AgLmdvb2ctdGFiLXNlbGVjdGVke3RvcDoxcHg7bWFyZ2luLXRvcDowO3BhZGRpbmctYm90dG9tOjVweH0uZ29vZy10YWItYmFyLWJvdHRvbSAuZ29vZy10YWItc2VsZWN0ZWR7dG9wOi0xcHg7bWFyZ2luLWJvdHRvbTowO3BhZGRpbmctdG9wOjVweH0uZ29vZy10YWItYmFyLXN0YXJ0IC5nb29nLXRhYi1zZWxlY3RlZHtsZWZ0OjFweDttYXJnaW4tbGVmdDowO3BhZGRpbmctcmlnaHQ6OXB4fS5nb29nLXRhYi1iYXItZW5kIC5nb29nLXRhYi1zZWxlY3RlZHtsZWZ0Oi0xcHg7bWFyZ2luLXJpZ2h0OjA7cGFkZGluZy1sZWZ0OjlweH0uZ29vZy10YWItYmFye21hcmdpbjowO2JvcmRlcjowO3BhZGRpbmc6MDtsaXN0LXN0eWxlOm5vbmU7Y3Vyc29yOmRlZmF1bHQ7b3V0bGluZTpub25lO2JhY2tncm91bmQ6I2ViZWZmOX0uZ29vZy10YWItYmFyLWNsZWFye2NsZWFyOmJvdGg7aGVpZ2h0OjA7b3ZlcmZsb3c6aGlkZGVufS5nb29nLXRhYi1iYXItc3RhcnR7ZmxvYXQ6bGVmdH0uZ29vZy10YWItYmFyLWVuZHtmbG9hdDpyaWdodH0qIGh0bWwgLmdvb2ctdGFiLWJhci1zdGFydHttYXJnaW4tcmlnaHQ6LTNweH0qIGh0bWwgLmdvb2ctdGFiLWJhci1lbmR7bWFyZ2luLWxlZnQ6LTNweH0=",
              "ok": true,
              "headers": [
                [
                  "content-type",
                  "text/css"
                ]
              ],
              "status": 200,
              "status_text": ""
            },
            "http://localhost:8080/nbextensions/google.colab/tabbar_main.min.js": {
              "data": "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",
              "ok": true,
              "headers": [
                [
                  "content-type",
                  "application/javascript"
                ]
              ],
              "status": 200,
              "status_text": ""
            }
          },
          "base_uri": "https://localhost:8080/",
          "height": 590,
          "referenced_widgets": [
            "770c1742309e44c284b851992e6088a4",
            "7e5b4c184bdd4caf9e23ee783943cb31",
            "6b887bdc43af4a3b83e539e6a2150f28",
            "543fea63aee6451cb12707d849f7de8a",
            "9f63b57faf7c4da789dd94d0e363b5ba",
            "57b7824f9fd6473ebf16021dae040ea4",
            "ae2b203e113a47f4835274d3fcb9b548",
            "25cbc5277c1743a8be468d030972f24d",
            "bc327495bd2e42588c3ac12a49b431cc",
            "f43694f1b00c473298c5a27257008cee",
            "ef5a7f72689a4641b2768f504de03b44",
            "a74900adaab64b4682891be5a1c48c45",
            "bac244355cbc478884c47808f199eda5",
            "54902e5f68e14c208819964bf7cf118e",
            "e0450e9655d6411f95754195bab6556b",
            "2795ea7e57db4f89bf936b77795decfc",
            "33faac009fbc47cba5c9b8bbe651980d",
            "37bbf7e4364b4b23846c0d9ee2e504d0",
            "c4a4809fafd2446dbebc8a272213e35e",
            "6d54cbfc5cd54776a9b5f8e83a8f4410",
            "e8dbab77c2fd40ea8e5115035253e68a",
            "9477343d15a74c378ccc6a12c051ee95",
            "04784944a9ed45ff9742c048300310a8",
            "fd167a9aba0a40499ddd9415fcefde54",
            "2f8d8429329e41ea9a45115572a07aad",
            "bf5d57348a694ab49bd986852c76ee4e",
            "bd9aea88bd164bc6916a608635925cde",
            "2bf190495a11482fa9051ee6515fd92b",
            "60d8adf912064d63a75c713f4d9c7082",
            "f0831107ae904e158ecc666b5e1d407f",
            "eec5f9cdda0d4c97b8ad5964881d2a86",
            "44a03876b634488282de5274405e20e7",
            "55ac764afdf9401ca36c9c540a119423",
            "b816cdb677a340dc83715d564842857a",
            "fdf3c53410d543eebccdffe51a4211cd",
            "6594e1243b8645e5bd6fae45f7b1d349",
            "769258f7117d4da2b6893daad559c18b",
            "8fd760d6b1a146caa345c59da4fb23b1",
            "26b3735c0b244e588ae21c5e2ae2b36a",
            "08df525c2f2744e09e7fbbe92fd086ee",
            "533d24bff62b4443a66f8e2776e5c3f8"
          ]
        }
      },
      "source": [
        "from google.colab import widgets\n",
        "import ipywidgets\n",
        "import scipy\n",
        "from sklearn.neighbors import KernelDensity\n",
        "\n",
        "\n",
        "params = []\n",
        "X = []\n",
        "\n",
        "def plot_pdf(plot_separate, k_d = None):\n",
        "  global params\n",
        "  global X\n",
        "  if not params:\n",
        "    return\n",
        "\n",
        "  pi1, pi2, pi3, mu1, sig1, mu2, sig2, mu3, sig3 = params\n",
        "  x = np.linspace(0, 100, 1001)\n",
        "  fig = plt.figure(figsize=(10, 8))\n",
        "  P_sum = np.zeros(x.shape)\n",
        "  for mu, sig, c, pi, i in [[mu1, sig1, 'r', pi1, 1], [mu2, sig2, 'g', pi2, 2], [mu3, sig3, 'b', pi3, 3]]:\n",
        "    P = scipy.stats.norm.pdf(x, mu, sig)\n",
        "    P_sum += P * pi\n",
        "    if plot_separate:\n",
        "      plt.plot(x, P, c, linewidth=2.0, label=\"{}\".format(i), alpha=np.clip(pi, 0.0, 1.0))\n",
        "  \n",
        "  plt.plot(x, P_sum, 'k', linewidth=3.0, label=\"mixture\")\n",
        "  plt.plot(np.array(X), np.full_like(np.array(X), 0.0), '|k', markeredgewidth=1)\n",
        "  plt.title('Mixture of 3 gaussians')\n",
        "  plt.xlabel('x')\n",
        "  plt.ylabel('y')\n",
        "  plt.legend()\n",
        "  #plt.show()\n",
        "\n",
        "def set_and_plot(pi, mu1, sig1, mu2, sig2, mu3, sig3):\n",
        "  pi1, pi2 = pi; pi2 -= pi1; pi3 = 1.0 - pi2 - pi1;\n",
        "  global params\n",
        "  global X\n",
        "  X = []\n",
        "  params = [pi1, pi2, pi3, mu1, sig1, mu2, sig2, mu3, sig3]\n",
        "  N = 50\n",
        "  for mu, sig, pi in [[mu1, sig1, pi1], [mu2, sig2, pi2], [mu3, sig3, pi3]]:\n",
        "    X = X + np.random.normal(mu, sig, int(N * pi)).tolist()\n",
        "  plot_pdf(True)\n",
        "\n",
        "def ker_plot(b_w, k_t):\n",
        "  kde = KernelDensity(bandwidth=b_w, kernel='gaussian')\n",
        "  global X\n",
        "  kde.fit(np.array(X)[:, None])\n",
        "  x_d = np.linspace(0, 100, 1001)\n",
        "  logprob = kde.score_samples(x_d[:, None])\n",
        "  plot_pdf(False)\n",
        "  plt.fill_between(x_d, np.exp(logprob), alpha=0.5)\n",
        "\n",
        "tb = widgets.TabBar(['mix distribution', 'find kernel'], location='top')\n",
        "with tb.output_to(0):\n",
        "  words = ['mu_1', 'sigma_1', 'mu_2', 'sigma_2', 'mu_3', 'sigma_3']\n",
        "  mins  = [0.0, 1.0, 0.0, 1.0, 0.0, 1.0]\n",
        "  maxes = [100.0, 10.0, 100.0, 10.0, 100.0, 10.0]\n",
        "  vals  = [10.0, 10.0, 50.0, 10.0, 90.0, 10.0]\n",
        "  sliders = [ipywidgets.FloatSlider(description=w, min=n, max=x, value=v) for w,x,n,v in zip(words, maxes, mins, vals)]\n",
        "  pi_slider = ipywidgets.FloatRangeSlider(value=[0.3, 0.6], min=0.0, max=1.0, description='pi(1,2,3)')\n",
        "  boxes = [ipywidgets.VBox([pi_slider])]\n",
        "  for slider1, slider2 in zip(sliders[::2], sliders[1::2]):\n",
        "    boxes.append(ipywidgets.VBox([slider1, slider2]))\n",
        "  out = ipywidgets.interactive_output(set_and_plot, {\n",
        "    \"pi\": pi_slider,\n",
        "    \"mu1\": sliders[0], \"sig1\": sliders[1],\n",
        "    \"mu2\": sliders[2], \"sig2\": sliders[3],\n",
        "    \"mu3\": sliders[4], \"sig3\": sliders[5]})\n",
        "  display(ipywidgets.HBox(boxes), out)\n",
        "with tb.output_to(1):\n",
        "  ker_type = ipywidgets.Dropdown(\n",
        "    options=['1', '2', '3'],\n",
        "    value='2',\n",
        "    description='Kernel:',\n",
        "    disabled=False)\n",
        "  b_w = ipywidgets.FloatSlider(description='band width', min=0.1, max=10.0, value=1.0)\n",
        "  out = ipywidgets.interactive_output(ker_plot, {\"b_w\": b_w, \"k_t\": ker_type})\n",
        "  display(ipywidgets.HBox([ker_type, b_w]), out)"
      ],
      "execution_count": 24,
      "outputs": [
        {
          "output_type": "display_data",
          "data": {
            "text/html": [
              "<link rel=stylesheet type=text/css href='/nbextensions/google.colab/tabbar.css'></link>"
            ],
            "text/plain": [
              "<IPython.core.display.HTML object>"
            ]
          },
          "metadata": {
            "tags": [
              "outputarea_id16"
            ]
          }
        },
        {
          "output_type": "display_data",
          "data": {
            "text/html": [
              "<script src='/nbextensions/google.colab/tabbar_main.min.js'></script>"
            ],
            "text/plain": [
              "<IPython.core.display.HTML object>"
            ]
          },
          "metadata": {
            "tags": [
              "outputarea_id16"
            ]
          }
        },
        {
          "output_type": "display_data",
          "data": {
            "text/html": [
              "<div id=\"id16\"></div>"
            ],
            "text/plain": [
              "<IPython.core.display.HTML object>"
            ]
          },
          "metadata": {
            "tags": [
              "outputarea_id16"
            ]
          }
        },
        {
          "output_type": "display_data",
          "data": {
            "application/javascript": [
              "window[\"faed701a-17b1-11ea-a39b-0242ac1c0002\"] = colab_lib.createTabBar({\"location\": \"top\", \"elementId\": \"id16\", \"tabNames\": [\"mix distribution\", \"find kernel\"], \"initialSelection\": 0, \"contentBorder\": [\"0px\"], \"contentHeight\": [\"initial\"], \"borderColor\": [\"#a7a7a7\"]});\n",
              "//# sourceURL=js_e013125028"
            ],
            "text/plain": [
              "<IPython.core.display.Javascript object>"
            ]
          },
          "metadata": {
            "tags": [
              "outputarea_id16"
            ]
          }
        },
        {
          "output_type": "display_data",
          "data": {
            "application/javascript": [
              "window[\"faedb82c-17b1-11ea-a39b-0242ac1c0002\"] = window[\"id16\"].setSelectedTabIndex(0);\n",
              "//# sourceURL=js_c41e6aab53"
            ],
            "text/plain": [
              "<IPython.core.display.Javascript object>"
            ]
          },
          "metadata": {
            "tags": [
              "outputarea_id16"
            ]
          }
        },
        {
          "output_type": "display_data",
          "data": {
            "application/javascript": [
              "window[\"faeec87a-17b1-11ea-a39b-0242ac1c0002\"] = google.colab.output.getActiveOutputArea();\n",
              "//# sourceURL=js_777e8a70fd"
            ],
            "text/plain": [
              "<IPython.core.display.Javascript object>"
            ]
          },
          "metadata": {
            "tags": [
              "id16_content_0",
              "outputarea_id16"
            ]
          }
        },
        {
          "output_type": "display_data",
          "data": {
            "application/javascript": [
              "window[\"faeefeee-17b1-11ea-a39b-0242ac1c0002\"] = document.querySelector(\"#id16_content_0\");\n",
              "//# sourceURL=js_ba47254630"
            ],
            "text/plain": [
              "<IPython.core.display.Javascript object>"
            ]
          },
          "metadata": {
            "tags": [
              "id16_content_0",
              "outputarea_id16"
            ]
          }
        },
        {
          "output_type": "display_data",
          "data": {
            "application/javascript": [
              "window[\"faef3f30-17b1-11ea-a39b-0242ac1c0002\"] = google.colab.output.setActiveOutputArea(window[\"faeefeee-17b1-11ea-a39b-0242ac1c0002\"]);\n",
              "//# sourceURL=js_4f99640cb0"
            ],
            "text/plain": [
              "<IPython.core.display.Javascript object>"
            ]
          },
          "metadata": {
            "tags": [
              "id16_content_0",
              "outputarea_id16"
            ]
          }
        },
        {
          "output_type": "display_data",
          "data": {
            "application/javascript": [
              "window[\"faef8288-17b1-11ea-a39b-0242ac1c0002\"] = window[\"id16\"].setSelectedTabIndex(0);\n",
              "//# sourceURL=js_34105e919c"
            ],
            "text/plain": [
              "<IPython.core.display.Javascript object>"
            ]
          },
          "metadata": {
            "tags": [
              "id16_content_0",
              "outputarea_id16"
            ]
          }
        },
        {
          "output_type": "display_data",
          "data": {
            "application/vnd.jupyter.widget-view+json": {
              "model_id": "770c1742309e44c284b851992e6088a4",
              "version_minor": 0,
              "version_major": 2
            },
            "text/plain": [
              "HBox(children=(VBox(children=(FloatRangeSlider(value=(0.3, 0.6), description='pi(1,2,3)', max=1.0),)), VBox(ch…"
            ]
          },
          "metadata": {
            "tags": [
              "id16_content_0",
              "outputarea_id16",
              "user_output"
            ]
          }
        },
        {
          "output_type": "display_data",
          "data": {
            "application/vnd.jupyter.widget-view+json": {
              "model_id": "44a03876b634488282de5274405e20e7",
              "version_minor": 0,
              "version_major": 2
            },
            "text/plain": [
              "Output()"
            ]
          },
          "metadata": {
            "tags": [
              "id16_content_0",
              "outputarea_id16",
              "user_output"
            ]
          }
        },
        {
          "output_type": "display_data",
          "data": {
            "application/javascript": [
              "window[\"fb3b5208-17b1-11ea-a39b-0242ac1c0002\"] = google.colab.output.setActiveOutputArea(window[\"faeec87a-17b1-11ea-a39b-0242ac1c0002\"]);\n",
              "//# sourceURL=js_fbeb929a75"
            ],
            "text/plain": [
              "<IPython.core.display.Javascript object>"
            ]
          },
          "metadata": {
            "tags": [
              "id16_content_0",
              "outputarea_id16"
            ]
          }
        },
        {
          "output_type": "display_data",
          "data": {
            "application/javascript": [
              "window[\"fb3c7f0c-17b1-11ea-a39b-0242ac1c0002\"] = google.colab.output.getActiveOutputArea();\n",
              "//# sourceURL=js_e69b7f286b"
            ],
            "text/plain": [
              "<IPython.core.display.Javascript object>"
            ]
          },
          "metadata": {
            "tags": [
              "id16_content_1",
              "outputarea_id16"
            ]
          }
        },
        {
          "output_type": "display_data",
          "data": {
            "application/javascript": [
              "window[\"fb3cbbf2-17b1-11ea-a39b-0242ac1c0002\"] = document.querySelector(\"#id16_content_1\");\n",
              "//# sourceURL=js_265c4b859b"
            ],
            "text/plain": [
              "<IPython.core.display.Javascript object>"
            ]
          },
          "metadata": {
            "tags": [
              "id16_content_1",
              "outputarea_id16"
            ]
          }
        },
        {
          "output_type": "display_data",
          "data": {
            "application/javascript": [
              "window[\"fb3cf57c-17b1-11ea-a39b-0242ac1c0002\"] = google.colab.output.setActiveOutputArea(window[\"fb3cbbf2-17b1-11ea-a39b-0242ac1c0002\"]);\n",
              "//# sourceURL=js_63c0f0d3bd"
            ],
            "text/plain": [
              "<IPython.core.display.Javascript object>"
            ]
          },
          "metadata": {
            "tags": [
              "id16_content_1",
              "outputarea_id16"
            ]
          }
        },
        {
          "output_type": "display_data",
          "data": {
            "application/javascript": [
              "window[\"fb3d2cea-17b1-11ea-a39b-0242ac1c0002\"] = window[\"id16\"].setSelectedTabIndex(1);\n",
              "//# sourceURL=js_9d2d32e1ef"
            ],
            "text/plain": [
              "<IPython.core.display.Javascript object>"
            ]
          },
          "metadata": {
            "tags": [
              "id16_content_1",
              "outputarea_id16"
            ]
          }
        },
        {
          "output_type": "display_data",
          "data": {
            "application/vnd.jupyter.widget-view+json": {
              "model_id": "55ac764afdf9401ca36c9c540a119423",
              "version_minor": 0,
              "version_major": 2
            },
            "text/plain": [
              "HBox(children=(Dropdown(description='Kernel:', index=1, options=('1', '2', '3'), value='2'), FloatSlider(value…"
            ]
          },
          "metadata": {
            "tags": [
              "id16_content_1",
              "outputarea_id16",
              "user_output"
            ]
          }
        },
        {
          "output_type": "display_data",
          "data": {
            "application/vnd.jupyter.widget-view+json": {
              "model_id": "533d24bff62b4443a66f8e2776e5c3f8",
              "version_minor": 0,
              "version_major": 2
            },
            "text/plain": [
              "Output()"
            ]
          },
          "metadata": {
            "tags": [
              "id16_content_1",
              "outputarea_id16",
              "user_output"
            ]
          }
        },
        {
          "output_type": "display_data",
          "data": {
            "application/javascript": [
              "window[\"fb803382-17b1-11ea-a39b-0242ac1c0002\"] = google.colab.output.setActiveOutputArea(window[\"fb3c7f0c-17b1-11ea-a39b-0242ac1c0002\"]);\n",
              "//# sourceURL=js_619cad8205"
            ],
            "text/plain": [
              "<IPython.core.display.Javascript object>"
            ]
          },
          "metadata": {
            "tags": [
              "id16_content_1",
              "outputarea_id16"
            ]
          }
        }
      ]
    }
  ]
}