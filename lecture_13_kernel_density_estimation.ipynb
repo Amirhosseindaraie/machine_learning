{
  "nbformat": 4,
  "nbformat_minor": 0,
  "metadata": {
    "colab": {
      "name": "lecture_13_kernel_density_estimation.ipynb",
      "provenance": [],
      "toc_visible": true,
      "include_colab_link": true
    },
    "kernelspec": {
      "name": "python3",
      "display_name": "Python 3"
    },
    "widgets": {
      "application/vnd.jupyter.widget-state+json": {
        "878350dcae1a4220a6298ca8e734a8f2": {
          "model_module": "@jupyter-widgets/controls",
          "model_name": "HBoxModel",
          "state": {
            "_view_name": "HBoxView",
            "_dom_classes": [],
            "_model_name": "HBoxModel",
            "_view_module": "@jupyter-widgets/controls",
            "_model_module_version": "1.5.0",
            "_view_count": null,
            "_view_module_version": "1.5.0",
            "box_style": "",
            "layout": "IPY_MODEL_f8749a3cc56f452aae96681ea46b651e",
            "_model_module": "@jupyter-widgets/controls",
            "children": [
              "IPY_MODEL_ab599f9deead4a4181f5437d2408a1e7",
              "IPY_MODEL_bcac07320db647a48586c4eb0161b664",
              "IPY_MODEL_a6d9287baa5a47aab055e329b1c47c00",
              "IPY_MODEL_e8bea458385446dab5223f9dc55854bb"
            ]
          }
        },
        "f8749a3cc56f452aae96681ea46b651e": {
          "model_module": "@jupyter-widgets/base",
          "model_name": "LayoutModel",
          "state": {
            "_view_name": "LayoutView",
            "grid_template_rows": null,
            "right": null,
            "justify_content": null,
            "_view_module": "@jupyter-widgets/base",
            "overflow": null,
            "_model_module_version": "1.2.0",
            "_view_count": null,
            "flex_flow": null,
            "width": null,
            "min_width": null,
            "border": null,
            "align_items": null,
            "bottom": null,
            "_model_module": "@jupyter-widgets/base",
            "top": null,
            "grid_column": null,
            "overflow_y": null,
            "overflow_x": null,
            "grid_auto_flow": null,
            "grid_area": null,
            "grid_template_columns": null,
            "flex": null,
            "_model_name": "LayoutModel",
            "justify_items": null,
            "grid_row": null,
            "max_height": null,
            "align_content": null,
            "visibility": null,
            "align_self": null,
            "height": null,
            "min_height": null,
            "padding": null,
            "grid_auto_rows": null,
            "grid_gap": null,
            "max_width": null,
            "order": null,
            "_view_module_version": "1.2.0",
            "grid_template_areas": null,
            "object_position": null,
            "object_fit": null,
            "grid_auto_columns": null,
            "margin": null,
            "display": null,
            "left": null
          }
        },
        "ab599f9deead4a4181f5437d2408a1e7": {
          "model_module": "@jupyter-widgets/controls",
          "model_name": "VBoxModel",
          "state": {
            "_view_name": "VBoxView",
            "_dom_classes": [],
            "_model_name": "VBoxModel",
            "_view_module": "@jupyter-widgets/controls",
            "_model_module_version": "1.5.0",
            "_view_count": null,
            "_view_module_version": "1.5.0",
            "box_style": "",
            "layout": "IPY_MODEL_98e8612776e844609d9cd2d7f1f3b6e5",
            "_model_module": "@jupyter-widgets/controls",
            "children": [
              "IPY_MODEL_5e27cbabe1df4837bd76c3468559fa73"
            ]
          }
        },
        "bcac07320db647a48586c4eb0161b664": {
          "model_module": "@jupyter-widgets/controls",
          "model_name": "VBoxModel",
          "state": {
            "_view_name": "VBoxView",
            "_dom_classes": [],
            "_model_name": "VBoxModel",
            "_view_module": "@jupyter-widgets/controls",
            "_model_module_version": "1.5.0",
            "_view_count": null,
            "_view_module_version": "1.5.0",
            "box_style": "",
            "layout": "IPY_MODEL_9cf33602489a4ec494b07126ad288848",
            "_model_module": "@jupyter-widgets/controls",
            "children": [
              "IPY_MODEL_50a68f27c4ac49e0ba51b6c8b3089074",
              "IPY_MODEL_b9ea9470278f443eac9406fa3aad7923"
            ]
          }
        },
        "a6d9287baa5a47aab055e329b1c47c00": {
          "model_module": "@jupyter-widgets/controls",
          "model_name": "VBoxModel",
          "state": {
            "_view_name": "VBoxView",
            "_dom_classes": [],
            "_model_name": "VBoxModel",
            "_view_module": "@jupyter-widgets/controls",
            "_model_module_version": "1.5.0",
            "_view_count": null,
            "_view_module_version": "1.5.0",
            "box_style": "",
            "layout": "IPY_MODEL_5434713464ea4a0899a1a8457539ea60",
            "_model_module": "@jupyter-widgets/controls",
            "children": [
              "IPY_MODEL_f86db49a4f834df490e0b7e4c217c417",
              "IPY_MODEL_d6f5d0d1066543689750c5eff492bfe4"
            ]
          }
        },
        "e8bea458385446dab5223f9dc55854bb": {
          "model_module": "@jupyter-widgets/controls",
          "model_name": "VBoxModel",
          "state": {
            "_view_name": "VBoxView",
            "_dom_classes": [],
            "_model_name": "VBoxModel",
            "_view_module": "@jupyter-widgets/controls",
            "_model_module_version": "1.5.0",
            "_view_count": null,
            "_view_module_version": "1.5.0",
            "box_style": "",
            "layout": "IPY_MODEL_9fba7855b8df49be986e49fd7af05c0b",
            "_model_module": "@jupyter-widgets/controls",
            "children": [
              "IPY_MODEL_bd9744b66f294dd9a18e3235be1260d4",
              "IPY_MODEL_92ea2713f44546f1bb9ee9c1016f079b"
            ]
          }
        },
        "98e8612776e844609d9cd2d7f1f3b6e5": {
          "model_module": "@jupyter-widgets/base",
          "model_name": "LayoutModel",
          "state": {
            "_view_name": "LayoutView",
            "grid_template_rows": null,
            "right": null,
            "justify_content": null,
            "_view_module": "@jupyter-widgets/base",
            "overflow": null,
            "_model_module_version": "1.2.0",
            "_view_count": null,
            "flex_flow": null,
            "width": null,
            "min_width": null,
            "border": null,
            "align_items": null,
            "bottom": null,
            "_model_module": "@jupyter-widgets/base",
            "top": null,
            "grid_column": null,
            "overflow_y": null,
            "overflow_x": null,
            "grid_auto_flow": null,
            "grid_area": null,
            "grid_template_columns": null,
            "flex": null,
            "_model_name": "LayoutModel",
            "justify_items": null,
            "grid_row": null,
            "max_height": null,
            "align_content": null,
            "visibility": null,
            "align_self": null,
            "height": null,
            "min_height": null,
            "padding": null,
            "grid_auto_rows": null,
            "grid_gap": null,
            "max_width": null,
            "order": null,
            "_view_module_version": "1.2.0",
            "grid_template_areas": null,
            "object_position": null,
            "object_fit": null,
            "grid_auto_columns": null,
            "margin": null,
            "display": null,
            "left": null
          }
        },
        "5e27cbabe1df4837bd76c3468559fa73": {
          "model_module": "@jupyter-widgets/controls",
          "model_name": "FloatRangeSliderModel",
          "state": {
            "_view_name": "FloatRangeSliderView",
            "style": "IPY_MODEL_bc56f943ce4d451ca55ec86e9dc68cb0",
            "_dom_classes": [],
            "description": "pi(1,2,3)",
            "step": 0.1,
            "_model_name": "FloatRangeSliderModel",
            "orientation": "horizontal",
            "max": 1,
            "_view_module": "@jupyter-widgets/controls",
            "_model_module_version": "1.5.0",
            "value": [
              0.3,
              0.6
            ],
            "_view_count": null,
            "disabled": false,
            "_view_module_version": "1.5.0",
            "min": 0,
            "continuous_update": true,
            "readout_format": ".2f",
            "description_tooltip": null,
            "readout": true,
            "_model_module": "@jupyter-widgets/controls",
            "layout": "IPY_MODEL_fb1e1e9acbbe495a8013a87d0e212b53"
          }
        },
        "9cf33602489a4ec494b07126ad288848": {
          "model_module": "@jupyter-widgets/base",
          "model_name": "LayoutModel",
          "state": {
            "_view_name": "LayoutView",
            "grid_template_rows": null,
            "right": null,
            "justify_content": null,
            "_view_module": "@jupyter-widgets/base",
            "overflow": null,
            "_model_module_version": "1.2.0",
            "_view_count": null,
            "flex_flow": null,
            "width": null,
            "min_width": null,
            "border": null,
            "align_items": null,
            "bottom": null,
            "_model_module": "@jupyter-widgets/base",
            "top": null,
            "grid_column": null,
            "overflow_y": null,
            "overflow_x": null,
            "grid_auto_flow": null,
            "grid_area": null,
            "grid_template_columns": null,
            "flex": null,
            "_model_name": "LayoutModel",
            "justify_items": null,
            "grid_row": null,
            "max_height": null,
            "align_content": null,
            "visibility": null,
            "align_self": null,
            "height": null,
            "min_height": null,
            "padding": null,
            "grid_auto_rows": null,
            "grid_gap": null,
            "max_width": null,
            "order": null,
            "_view_module_version": "1.2.0",
            "grid_template_areas": null,
            "object_position": null,
            "object_fit": null,
            "grid_auto_columns": null,
            "margin": null,
            "display": null,
            "left": null
          }
        },
        "50a68f27c4ac49e0ba51b6c8b3089074": {
          "model_module": "@jupyter-widgets/controls",
          "model_name": "FloatSliderModel",
          "state": {
            "_view_name": "FloatSliderView",
            "style": "IPY_MODEL_c1da609d5d4346fdbb4116c7baa8a9f5",
            "_dom_classes": [],
            "description": "mu_1",
            "step": 0.1,
            "_model_name": "FloatSliderModel",
            "orientation": "horizontal",
            "max": 100,
            "_view_module": "@jupyter-widgets/controls",
            "_model_module_version": "1.5.0",
            "value": 14.2,
            "_view_count": null,
            "disabled": false,
            "_view_module_version": "1.5.0",
            "min": 0,
            "continuous_update": true,
            "readout_format": ".2f",
            "description_tooltip": null,
            "readout": true,
            "_model_module": "@jupyter-widgets/controls",
            "layout": "IPY_MODEL_1a57db82ebcc4888ab94cd214a286fcf"
          }
        },
        "b9ea9470278f443eac9406fa3aad7923": {
          "model_module": "@jupyter-widgets/controls",
          "model_name": "FloatSliderModel",
          "state": {
            "_view_name": "FloatSliderView",
            "style": "IPY_MODEL_a7c57cefc30c4a08bbcdaf096f9e9ecb",
            "_dom_classes": [],
            "description": "sigma_1",
            "step": 0.1,
            "_model_name": "FloatSliderModel",
            "orientation": "horizontal",
            "max": 10,
            "_view_module": "@jupyter-widgets/controls",
            "_model_module_version": "1.5.0",
            "value": 10,
            "_view_count": null,
            "disabled": false,
            "_view_module_version": "1.5.0",
            "min": 1,
            "continuous_update": true,
            "readout_format": ".2f",
            "description_tooltip": null,
            "readout": true,
            "_model_module": "@jupyter-widgets/controls",
            "layout": "IPY_MODEL_e06a4528f87f4ba380f52c34d4eec429"
          }
        },
        "5434713464ea4a0899a1a8457539ea60": {
          "model_module": "@jupyter-widgets/base",
          "model_name": "LayoutModel",
          "state": {
            "_view_name": "LayoutView",
            "grid_template_rows": null,
            "right": null,
            "justify_content": null,
            "_view_module": "@jupyter-widgets/base",
            "overflow": null,
            "_model_module_version": "1.2.0",
            "_view_count": null,
            "flex_flow": null,
            "width": null,
            "min_width": null,
            "border": null,
            "align_items": null,
            "bottom": null,
            "_model_module": "@jupyter-widgets/base",
            "top": null,
            "grid_column": null,
            "overflow_y": null,
            "overflow_x": null,
            "grid_auto_flow": null,
            "grid_area": null,
            "grid_template_columns": null,
            "flex": null,
            "_model_name": "LayoutModel",
            "justify_items": null,
            "grid_row": null,
            "max_height": null,
            "align_content": null,
            "visibility": null,
            "align_self": null,
            "height": null,
            "min_height": null,
            "padding": null,
            "grid_auto_rows": null,
            "grid_gap": null,
            "max_width": null,
            "order": null,
            "_view_module_version": "1.2.0",
            "grid_template_areas": null,
            "object_position": null,
            "object_fit": null,
            "grid_auto_columns": null,
            "margin": null,
            "display": null,
            "left": null
          }
        },
        "f86db49a4f834df490e0b7e4c217c417": {
          "model_module": "@jupyter-widgets/controls",
          "model_name": "FloatSliderModel",
          "state": {
            "_view_name": "FloatSliderView",
            "style": "IPY_MODEL_6f2edf95108643dc81f13dc39d20a0f8",
            "_dom_classes": [],
            "description": "mu_2",
            "step": 0.1,
            "_model_name": "FloatSliderModel",
            "orientation": "horizontal",
            "max": 100,
            "_view_module": "@jupyter-widgets/controls",
            "_model_module_version": "1.5.0",
            "value": 50,
            "_view_count": null,
            "disabled": false,
            "_view_module_version": "1.5.0",
            "min": 0,
            "continuous_update": true,
            "readout_format": ".2f",
            "description_tooltip": null,
            "readout": true,
            "_model_module": "@jupyter-widgets/controls",
            "layout": "IPY_MODEL_86e40c001c0740ad8367d6c97059d310"
          }
        },
        "d6f5d0d1066543689750c5eff492bfe4": {
          "model_module": "@jupyter-widgets/controls",
          "model_name": "FloatSliderModel",
          "state": {
            "_view_name": "FloatSliderView",
            "style": "IPY_MODEL_85c91719a2a343b78f7afd29578d1fa2",
            "_dom_classes": [],
            "description": "sigma_2",
            "step": 0.1,
            "_model_name": "FloatSliderModel",
            "orientation": "horizontal",
            "max": 10,
            "_view_module": "@jupyter-widgets/controls",
            "_model_module_version": "1.5.0",
            "value": 10,
            "_view_count": null,
            "disabled": false,
            "_view_module_version": "1.5.0",
            "min": 1,
            "continuous_update": true,
            "readout_format": ".2f",
            "description_tooltip": null,
            "readout": true,
            "_model_module": "@jupyter-widgets/controls",
            "layout": "IPY_MODEL_14a83b63b4f54a2fa8ff3d0d900ef7da"
          }
        },
        "9fba7855b8df49be986e49fd7af05c0b": {
          "model_module": "@jupyter-widgets/base",
          "model_name": "LayoutModel",
          "state": {
            "_view_name": "LayoutView",
            "grid_template_rows": null,
            "right": null,
            "justify_content": null,
            "_view_module": "@jupyter-widgets/base",
            "overflow": null,
            "_model_module_version": "1.2.0",
            "_view_count": null,
            "flex_flow": null,
            "width": null,
            "min_width": null,
            "border": null,
            "align_items": null,
            "bottom": null,
            "_model_module": "@jupyter-widgets/base",
            "top": null,
            "grid_column": null,
            "overflow_y": null,
            "overflow_x": null,
            "grid_auto_flow": null,
            "grid_area": null,
            "grid_template_columns": null,
            "flex": null,
            "_model_name": "LayoutModel",
            "justify_items": null,
            "grid_row": null,
            "max_height": null,
            "align_content": null,
            "visibility": null,
            "align_self": null,
            "height": null,
            "min_height": null,
            "padding": null,
            "grid_auto_rows": null,
            "grid_gap": null,
            "max_width": null,
            "order": null,
            "_view_module_version": "1.2.0",
            "grid_template_areas": null,
            "object_position": null,
            "object_fit": null,
            "grid_auto_columns": null,
            "margin": null,
            "display": null,
            "left": null
          }
        },
        "bd9744b66f294dd9a18e3235be1260d4": {
          "model_module": "@jupyter-widgets/controls",
          "model_name": "FloatSliderModel",
          "state": {
            "_view_name": "FloatSliderView",
            "style": "IPY_MODEL_aceb7de9a3414196976624b35d130f2e",
            "_dom_classes": [],
            "description": "mu_3",
            "step": 0.1,
            "_model_name": "FloatSliderModel",
            "orientation": "horizontal",
            "max": 100,
            "_view_module": "@jupyter-widgets/controls",
            "_model_module_version": "1.5.0",
            "value": 90,
            "_view_count": null,
            "disabled": false,
            "_view_module_version": "1.5.0",
            "min": 0,
            "continuous_update": true,
            "readout_format": ".2f",
            "description_tooltip": null,
            "readout": true,
            "_model_module": "@jupyter-widgets/controls",
            "layout": "IPY_MODEL_b5b0a75da13c45b89d4109e5386fdd71"
          }
        },
        "92ea2713f44546f1bb9ee9c1016f079b": {
          "model_module": "@jupyter-widgets/controls",
          "model_name": "FloatSliderModel",
          "state": {
            "_view_name": "FloatSliderView",
            "style": "IPY_MODEL_31d30666eeef4d639b722d8ff7131bce",
            "_dom_classes": [],
            "description": "sigma_3",
            "step": 0.1,
            "_model_name": "FloatSliderModel",
            "orientation": "horizontal",
            "max": 10,
            "_view_module": "@jupyter-widgets/controls",
            "_model_module_version": "1.5.0",
            "value": 10,
            "_view_count": null,
            "disabled": false,
            "_view_module_version": "1.5.0",
            "min": 1,
            "continuous_update": true,
            "readout_format": ".2f",
            "description_tooltip": null,
            "readout": true,
            "_model_module": "@jupyter-widgets/controls",
            "layout": "IPY_MODEL_6fb5c829d36743688d75644c2e568a68"
          }
        },
        "bc56f943ce4d451ca55ec86e9dc68cb0": {
          "model_module": "@jupyter-widgets/controls",
          "model_name": "SliderStyleModel",
          "state": {
            "_view_name": "StyleView",
            "handle_color": null,
            "_model_name": "SliderStyleModel",
            "description_width": "",
            "_view_module": "@jupyter-widgets/base",
            "_model_module_version": "1.5.0",
            "_view_count": null,
            "_view_module_version": "1.2.0",
            "_model_module": "@jupyter-widgets/controls"
          }
        },
        "fb1e1e9acbbe495a8013a87d0e212b53": {
          "model_module": "@jupyter-widgets/base",
          "model_name": "LayoutModel",
          "state": {
            "_view_name": "LayoutView",
            "grid_template_rows": null,
            "right": null,
            "justify_content": null,
            "_view_module": "@jupyter-widgets/base",
            "overflow": null,
            "_model_module_version": "1.2.0",
            "_view_count": null,
            "flex_flow": null,
            "width": null,
            "min_width": null,
            "border": null,
            "align_items": null,
            "bottom": null,
            "_model_module": "@jupyter-widgets/base",
            "top": null,
            "grid_column": null,
            "overflow_y": null,
            "overflow_x": null,
            "grid_auto_flow": null,
            "grid_area": null,
            "grid_template_columns": null,
            "flex": null,
            "_model_name": "LayoutModel",
            "justify_items": null,
            "grid_row": null,
            "max_height": null,
            "align_content": null,
            "visibility": null,
            "align_self": null,
            "height": null,
            "min_height": null,
            "padding": null,
            "grid_auto_rows": null,
            "grid_gap": null,
            "max_width": null,
            "order": null,
            "_view_module_version": "1.2.0",
            "grid_template_areas": null,
            "object_position": null,
            "object_fit": null,
            "grid_auto_columns": null,
            "margin": null,
            "display": null,
            "left": null
          }
        },
        "c1da609d5d4346fdbb4116c7baa8a9f5": {
          "model_module": "@jupyter-widgets/controls",
          "model_name": "SliderStyleModel",
          "state": {
            "_view_name": "StyleView",
            "handle_color": null,
            "_model_name": "SliderStyleModel",
            "description_width": "",
            "_view_module": "@jupyter-widgets/base",
            "_model_module_version": "1.5.0",
            "_view_count": null,
            "_view_module_version": "1.2.0",
            "_model_module": "@jupyter-widgets/controls"
          }
        },
        "1a57db82ebcc4888ab94cd214a286fcf": {
          "model_module": "@jupyter-widgets/base",
          "model_name": "LayoutModel",
          "state": {
            "_view_name": "LayoutView",
            "grid_template_rows": null,
            "right": null,
            "justify_content": null,
            "_view_module": "@jupyter-widgets/base",
            "overflow": null,
            "_model_module_version": "1.2.0",
            "_view_count": null,
            "flex_flow": null,
            "width": null,
            "min_width": null,
            "border": null,
            "align_items": null,
            "bottom": null,
            "_model_module": "@jupyter-widgets/base",
            "top": null,
            "grid_column": null,
            "overflow_y": null,
            "overflow_x": null,
            "grid_auto_flow": null,
            "grid_area": null,
            "grid_template_columns": null,
            "flex": null,
            "_model_name": "LayoutModel",
            "justify_items": null,
            "grid_row": null,
            "max_height": null,
            "align_content": null,
            "visibility": null,
            "align_self": null,
            "height": null,
            "min_height": null,
            "padding": null,
            "grid_auto_rows": null,
            "grid_gap": null,
            "max_width": null,
            "order": null,
            "_view_module_version": "1.2.0",
            "grid_template_areas": null,
            "object_position": null,
            "object_fit": null,
            "grid_auto_columns": null,
            "margin": null,
            "display": null,
            "left": null
          }
        },
        "a7c57cefc30c4a08bbcdaf096f9e9ecb": {
          "model_module": "@jupyter-widgets/controls",
          "model_name": "SliderStyleModel",
          "state": {
            "_view_name": "StyleView",
            "handle_color": null,
            "_model_name": "SliderStyleModel",
            "description_width": "",
            "_view_module": "@jupyter-widgets/base",
            "_model_module_version": "1.5.0",
            "_view_count": null,
            "_view_module_version": "1.2.0",
            "_model_module": "@jupyter-widgets/controls"
          }
        },
        "e06a4528f87f4ba380f52c34d4eec429": {
          "model_module": "@jupyter-widgets/base",
          "model_name": "LayoutModel",
          "state": {
            "_view_name": "LayoutView",
            "grid_template_rows": null,
            "right": null,
            "justify_content": null,
            "_view_module": "@jupyter-widgets/base",
            "overflow": null,
            "_model_module_version": "1.2.0",
            "_view_count": null,
            "flex_flow": null,
            "width": null,
            "min_width": null,
            "border": null,
            "align_items": null,
            "bottom": null,
            "_model_module": "@jupyter-widgets/base",
            "top": null,
            "grid_column": null,
            "overflow_y": null,
            "overflow_x": null,
            "grid_auto_flow": null,
            "grid_area": null,
            "grid_template_columns": null,
            "flex": null,
            "_model_name": "LayoutModel",
            "justify_items": null,
            "grid_row": null,
            "max_height": null,
            "align_content": null,
            "visibility": null,
            "align_self": null,
            "height": null,
            "min_height": null,
            "padding": null,
            "grid_auto_rows": null,
            "grid_gap": null,
            "max_width": null,
            "order": null,
            "_view_module_version": "1.2.0",
            "grid_template_areas": null,
            "object_position": null,
            "object_fit": null,
            "grid_auto_columns": null,
            "margin": null,
            "display": null,
            "left": null
          }
        },
        "6f2edf95108643dc81f13dc39d20a0f8": {
          "model_module": "@jupyter-widgets/controls",
          "model_name": "SliderStyleModel",
          "state": {
            "_view_name": "StyleView",
            "handle_color": null,
            "_model_name": "SliderStyleModel",
            "description_width": "",
            "_view_module": "@jupyter-widgets/base",
            "_model_module_version": "1.5.0",
            "_view_count": null,
            "_view_module_version": "1.2.0",
            "_model_module": "@jupyter-widgets/controls"
          }
        },
        "86e40c001c0740ad8367d6c97059d310": {
          "model_module": "@jupyter-widgets/base",
          "model_name": "LayoutModel",
          "state": {
            "_view_name": "LayoutView",
            "grid_template_rows": null,
            "right": null,
            "justify_content": null,
            "_view_module": "@jupyter-widgets/base",
            "overflow": null,
            "_model_module_version": "1.2.0",
            "_view_count": null,
            "flex_flow": null,
            "width": null,
            "min_width": null,
            "border": null,
            "align_items": null,
            "bottom": null,
            "_model_module": "@jupyter-widgets/base",
            "top": null,
            "grid_column": null,
            "overflow_y": null,
            "overflow_x": null,
            "grid_auto_flow": null,
            "grid_area": null,
            "grid_template_columns": null,
            "flex": null,
            "_model_name": "LayoutModel",
            "justify_items": null,
            "grid_row": null,
            "max_height": null,
            "align_content": null,
            "visibility": null,
            "align_self": null,
            "height": null,
            "min_height": null,
            "padding": null,
            "grid_auto_rows": null,
            "grid_gap": null,
            "max_width": null,
            "order": null,
            "_view_module_version": "1.2.0",
            "grid_template_areas": null,
            "object_position": null,
            "object_fit": null,
            "grid_auto_columns": null,
            "margin": null,
            "display": null,
            "left": null
          }
        },
        "85c91719a2a343b78f7afd29578d1fa2": {
          "model_module": "@jupyter-widgets/controls",
          "model_name": "SliderStyleModel",
          "state": {
            "_view_name": "StyleView",
            "handle_color": null,
            "_model_name": "SliderStyleModel",
            "description_width": "",
            "_view_module": "@jupyter-widgets/base",
            "_model_module_version": "1.5.0",
            "_view_count": null,
            "_view_module_version": "1.2.0",
            "_model_module": "@jupyter-widgets/controls"
          }
        },
        "14a83b63b4f54a2fa8ff3d0d900ef7da": {
          "model_module": "@jupyter-widgets/base",
          "model_name": "LayoutModel",
          "state": {
            "_view_name": "LayoutView",
            "grid_template_rows": null,
            "right": null,
            "justify_content": null,
            "_view_module": "@jupyter-widgets/base",
            "overflow": null,
            "_model_module_version": "1.2.0",
            "_view_count": null,
            "flex_flow": null,
            "width": null,
            "min_width": null,
            "border": null,
            "align_items": null,
            "bottom": null,
            "_model_module": "@jupyter-widgets/base",
            "top": null,
            "grid_column": null,
            "overflow_y": null,
            "overflow_x": null,
            "grid_auto_flow": null,
            "grid_area": null,
            "grid_template_columns": null,
            "flex": null,
            "_model_name": "LayoutModel",
            "justify_items": null,
            "grid_row": null,
            "max_height": null,
            "align_content": null,
            "visibility": null,
            "align_self": null,
            "height": null,
            "min_height": null,
            "padding": null,
            "grid_auto_rows": null,
            "grid_gap": null,
            "max_width": null,
            "order": null,
            "_view_module_version": "1.2.0",
            "grid_template_areas": null,
            "object_position": null,
            "object_fit": null,
            "grid_auto_columns": null,
            "margin": null,
            "display": null,
            "left": null
          }
        },
        "aceb7de9a3414196976624b35d130f2e": {
          "model_module": "@jupyter-widgets/controls",
          "model_name": "SliderStyleModel",
          "state": {
            "_view_name": "StyleView",
            "handle_color": null,
            "_model_name": "SliderStyleModel",
            "description_width": "",
            "_view_module": "@jupyter-widgets/base",
            "_model_module_version": "1.5.0",
            "_view_count": null,
            "_view_module_version": "1.2.0",
            "_model_module": "@jupyter-widgets/controls"
          }
        },
        "b5b0a75da13c45b89d4109e5386fdd71": {
          "model_module": "@jupyter-widgets/base",
          "model_name": "LayoutModel",
          "state": {
            "_view_name": "LayoutView",
            "grid_template_rows": null,
            "right": null,
            "justify_content": null,
            "_view_module": "@jupyter-widgets/base",
            "overflow": null,
            "_model_module_version": "1.2.0",
            "_view_count": null,
            "flex_flow": null,
            "width": null,
            "min_width": null,
            "border": null,
            "align_items": null,
            "bottom": null,
            "_model_module": "@jupyter-widgets/base",
            "top": null,
            "grid_column": null,
            "overflow_y": null,
            "overflow_x": null,
            "grid_auto_flow": null,
            "grid_area": null,
            "grid_template_columns": null,
            "flex": null,
            "_model_name": "LayoutModel",
            "justify_items": null,
            "grid_row": null,
            "max_height": null,
            "align_content": null,
            "visibility": null,
            "align_self": null,
            "height": null,
            "min_height": null,
            "padding": null,
            "grid_auto_rows": null,
            "grid_gap": null,
            "max_width": null,
            "order": null,
            "_view_module_version": "1.2.0",
            "grid_template_areas": null,
            "object_position": null,
            "object_fit": null,
            "grid_auto_columns": null,
            "margin": null,
            "display": null,
            "left": null
          }
        },
        "31d30666eeef4d639b722d8ff7131bce": {
          "model_module": "@jupyter-widgets/controls",
          "model_name": "SliderStyleModel",
          "state": {
            "_view_name": "StyleView",
            "handle_color": null,
            "_model_name": "SliderStyleModel",
            "description_width": "",
            "_view_module": "@jupyter-widgets/base",
            "_model_module_version": "1.5.0",
            "_view_count": null,
            "_view_module_version": "1.2.0",
            "_model_module": "@jupyter-widgets/controls"
          }
        },
        "6fb5c829d36743688d75644c2e568a68": {
          "model_module": "@jupyter-widgets/base",
          "model_name": "LayoutModel",
          "state": {
            "_view_name": "LayoutView",
            "grid_template_rows": null,
            "right": null,
            "justify_content": null,
            "_view_module": "@jupyter-widgets/base",
            "overflow": null,
            "_model_module_version": "1.2.0",
            "_view_count": null,
            "flex_flow": null,
            "width": null,
            "min_width": null,
            "border": null,
            "align_items": null,
            "bottom": null,
            "_model_module": "@jupyter-widgets/base",
            "top": null,
            "grid_column": null,
            "overflow_y": null,
            "overflow_x": null,
            "grid_auto_flow": null,
            "grid_area": null,
            "grid_template_columns": null,
            "flex": null,
            "_model_name": "LayoutModel",
            "justify_items": null,
            "grid_row": null,
            "max_height": null,
            "align_content": null,
            "visibility": null,
            "align_self": null,
            "height": null,
            "min_height": null,
            "padding": null,
            "grid_auto_rows": null,
            "grid_gap": null,
            "max_width": null,
            "order": null,
            "_view_module_version": "1.2.0",
            "grid_template_areas": null,
            "object_position": null,
            "object_fit": null,
            "grid_auto_columns": null,
            "margin": null,
            "display": null,
            "left": null
          }
        },
        "4ffbd8e187784a44bba9901a46dbaf00": {
          "model_module": "@jupyter-widgets/output",
          "model_name": "OutputModel",
          "state": {
            "_view_name": "OutputView",
            "msg_id": "",
            "_dom_classes": [],
            "_model_name": "OutputModel",
            "outputs": [
              {
                "output_type": "display_data",
                "metadata": {
                  "tags": []
                },
                "image/png": "iVBORw0KGgoAAAANSUhEUgAAAnYAAAH1CAYAAAB7mLMSAAAABHNCSVQICAgIfAhkiAAAAAlwSFlz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\nISRjJ4QQQggRIf4/TmnAqh9QyFwAAAAASUVORK5CYII=\n",
                "text/plain": "<Figure size 720x576 with 1 Axes>"
              }
            ],
            "_view_module": "@jupyter-widgets/output",
            "_model_module_version": "1.0.0",
            "_view_count": null,
            "_view_module_version": "1.0.0",
            "layout": "IPY_MODEL_9ecd8708d5e84fc99628de77e162974d",
            "_model_module": "@jupyter-widgets/output"
          }
        },
        "f702ee5a57c04220999c5d600691f819": {
          "model_module": "@jupyter-widgets/controls",
          "model_name": "HBoxModel",
          "state": {
            "_view_name": "HBoxView",
            "_dom_classes": [],
            "_model_name": "HBoxModel",
            "_view_module": "@jupyter-widgets/controls",
            "_model_module_version": "1.5.0",
            "_view_count": null,
            "_view_module_version": "1.5.0",
            "box_style": "",
            "layout": "IPY_MODEL_ec8c86d186984bc6925b8d9f8feb8656",
            "_model_module": "@jupyter-widgets/controls",
            "children": [
              "IPY_MODEL_8f68d2ca75c64384ae9f5869d1f485aa",
              "IPY_MODEL_f449bdf6f52e46a99e8d13adf263a967"
            ]
          }
        },
        "ec8c86d186984bc6925b8d9f8feb8656": {
          "model_module": "@jupyter-widgets/base",
          "model_name": "LayoutModel",
          "state": {
            "_view_name": "LayoutView",
            "grid_template_rows": null,
            "right": null,
            "justify_content": null,
            "_view_module": "@jupyter-widgets/base",
            "overflow": null,
            "_model_module_version": "1.2.0",
            "_view_count": null,
            "flex_flow": null,
            "width": null,
            "min_width": null,
            "border": null,
            "align_items": null,
            "bottom": null,
            "_model_module": "@jupyter-widgets/base",
            "top": null,
            "grid_column": null,
            "overflow_y": null,
            "overflow_x": null,
            "grid_auto_flow": null,
            "grid_area": null,
            "grid_template_columns": null,
            "flex": null,
            "_model_name": "LayoutModel",
            "justify_items": null,
            "grid_row": null,
            "max_height": null,
            "align_content": null,
            "visibility": null,
            "align_self": null,
            "height": null,
            "min_height": null,
            "padding": null,
            "grid_auto_rows": null,
            "grid_gap": null,
            "max_width": null,
            "order": null,
            "_view_module_version": "1.2.0",
            "grid_template_areas": null,
            "object_position": null,
            "object_fit": null,
            "grid_auto_columns": null,
            "margin": null,
            "display": null,
            "left": null
          }
        },
        "8f68d2ca75c64384ae9f5869d1f485aa": {
          "model_module": "@jupyter-widgets/controls",
          "model_name": "DropdownModel",
          "state": {
            "_options_labels": [
              "gaussian",
              "tophat",
              "epanechnikov",
              "exponential",
              "linear",
              "cosine"
            ],
            "_view_name": "DropdownView",
            "style": "IPY_MODEL_f223f74e79d7400486fbc70223d84f06",
            "_dom_classes": [],
            "description": "Kernel:",
            "_model_name": "DropdownModel",
            "index": 0,
            "_view_module": "@jupyter-widgets/controls",
            "_model_module_version": "1.5.0",
            "_view_count": null,
            "disabled": false,
            "_view_module_version": "1.5.0",
            "description_tooltip": null,
            "_model_module": "@jupyter-widgets/controls",
            "layout": "IPY_MODEL_8ac7ec4c06344315be82fcf0f49419e7"
          }
        },
        "f449bdf6f52e46a99e8d13adf263a967": {
          "model_module": "@jupyter-widgets/controls",
          "model_name": "VBoxModel",
          "state": {
            "_view_name": "VBoxView",
            "_dom_classes": [],
            "_model_name": "VBoxModel",
            "_view_module": "@jupyter-widgets/controls",
            "_model_module_version": "1.5.0",
            "_view_count": null,
            "_view_module_version": "1.5.0",
            "box_style": "",
            "layout": "IPY_MODEL_3d9954c60ebe40bbad5679069b04aee3",
            "_model_module": "@jupyter-widgets/controls",
            "children": [
              "IPY_MODEL_9eea2ea345a84766a24e825d758e9243",
              "IPY_MODEL_ed1e4d5d8eda4841bbef6717ece82769"
            ]
          }
        },
        "f223f74e79d7400486fbc70223d84f06": {
          "model_module": "@jupyter-widgets/controls",
          "model_name": "DescriptionStyleModel",
          "state": {
            "_view_name": "StyleView",
            "_model_name": "DescriptionStyleModel",
            "description_width": "",
            "_view_module": "@jupyter-widgets/base",
            "_model_module_version": "1.5.0",
            "_view_count": null,
            "_view_module_version": "1.2.0",
            "_model_module": "@jupyter-widgets/controls"
          }
        },
        "8ac7ec4c06344315be82fcf0f49419e7": {
          "model_module": "@jupyter-widgets/base",
          "model_name": "LayoutModel",
          "state": {
            "_view_name": "LayoutView",
            "grid_template_rows": null,
            "right": null,
            "justify_content": null,
            "_view_module": "@jupyter-widgets/base",
            "overflow": null,
            "_model_module_version": "1.2.0",
            "_view_count": null,
            "flex_flow": null,
            "width": null,
            "min_width": null,
            "border": null,
            "align_items": null,
            "bottom": null,
            "_model_module": "@jupyter-widgets/base",
            "top": null,
            "grid_column": null,
            "overflow_y": null,
            "overflow_x": null,
            "grid_auto_flow": null,
            "grid_area": null,
            "grid_template_columns": null,
            "flex": null,
            "_model_name": "LayoutModel",
            "justify_items": null,
            "grid_row": null,
            "max_height": null,
            "align_content": null,
            "visibility": null,
            "align_self": null,
            "height": null,
            "min_height": null,
            "padding": null,
            "grid_auto_rows": null,
            "grid_gap": null,
            "max_width": null,
            "order": null,
            "_view_module_version": "1.2.0",
            "grid_template_areas": null,
            "object_position": null,
            "object_fit": null,
            "grid_auto_columns": null,
            "margin": null,
            "display": null,
            "left": null
          }
        },
        "3d9954c60ebe40bbad5679069b04aee3": {
          "model_module": "@jupyter-widgets/base",
          "model_name": "LayoutModel",
          "state": {
            "_view_name": "LayoutView",
            "grid_template_rows": null,
            "right": null,
            "justify_content": null,
            "_view_module": "@jupyter-widgets/base",
            "overflow": null,
            "_model_module_version": "1.2.0",
            "_view_count": null,
            "flex_flow": null,
            "width": null,
            "min_width": null,
            "border": null,
            "align_items": null,
            "bottom": null,
            "_model_module": "@jupyter-widgets/base",
            "top": null,
            "grid_column": null,
            "overflow_y": null,
            "overflow_x": null,
            "grid_auto_flow": null,
            "grid_area": null,
            "grid_template_columns": null,
            "flex": null,
            "_model_name": "LayoutModel",
            "justify_items": null,
            "grid_row": null,
            "max_height": null,
            "align_content": null,
            "visibility": null,
            "align_self": null,
            "height": null,
            "min_height": null,
            "padding": null,
            "grid_auto_rows": null,
            "grid_gap": null,
            "max_width": null,
            "order": null,
            "_view_module_version": "1.2.0",
            "grid_template_areas": null,
            "object_position": null,
            "object_fit": null,
            "grid_auto_columns": null,
            "margin": null,
            "display": null,
            "left": null
          }
        },
        "9eea2ea345a84766a24e825d758e9243": {
          "model_module": "@jupyter-widgets/controls",
          "model_name": "FloatSliderModel",
          "state": {
            "_view_name": "FloatSliderView",
            "style": "IPY_MODEL_b1e356b8e3f74b16926fdad55caf7673",
            "_dom_classes": [],
            "description": "bandwidth",
            "step": 0.1,
            "_model_name": "FloatSliderModel",
            "orientation": "horizontal",
            "max": 50,
            "_view_module": "@jupyter-widgets/controls",
            "_model_module_version": "1.5.0",
            "value": 3.9696969696969697,
            "_view_count": null,
            "disabled": false,
            "_view_module_version": "1.5.0",
            "min": 1,
            "continuous_update": true,
            "readout_format": ".2f",
            "description_tooltip": null,
            "readout": true,
            "_model_module": "@jupyter-widgets/controls",
            "layout": "IPY_MODEL_a4d87728d61b47f5b5db29b247920260"
          }
        },
        "ed1e4d5d8eda4841bbef6717ece82769": {
          "model_module": "@jupyter-widgets/controls",
          "model_name": "ButtonModel",
          "state": {
            "_view_name": "ButtonView",
            "style": "IPY_MODEL_a41b17f352f64ff487bc48e71861a9e0",
            "_dom_classes": [],
            "description": "Cross Validation",
            "_model_name": "ButtonModel",
            "button_style": "",
            "_view_module": "@jupyter-widgets/controls",
            "_model_module_version": "1.5.0",
            "tooltip": "",
            "_view_count": null,
            "disabled": false,
            "_view_module_version": "1.5.0",
            "layout": "IPY_MODEL_1d40de0c68734beb845300bd68789386",
            "_model_module": "@jupyter-widgets/controls",
            "icon": ""
          }
        },
        "b1e356b8e3f74b16926fdad55caf7673": {
          "model_module": "@jupyter-widgets/controls",
          "model_name": "SliderStyleModel",
          "state": {
            "_view_name": "StyleView",
            "handle_color": null,
            "_model_name": "SliderStyleModel",
            "description_width": "",
            "_view_module": "@jupyter-widgets/base",
            "_model_module_version": "1.5.0",
            "_view_count": null,
            "_view_module_version": "1.2.0",
            "_model_module": "@jupyter-widgets/controls"
          }
        },
        "a4d87728d61b47f5b5db29b247920260": {
          "model_module": "@jupyter-widgets/base",
          "model_name": "LayoutModel",
          "state": {
            "_view_name": "LayoutView",
            "grid_template_rows": null,
            "right": null,
            "justify_content": null,
            "_view_module": "@jupyter-widgets/base",
            "overflow": null,
            "_model_module_version": "1.2.0",
            "_view_count": null,
            "flex_flow": null,
            "width": null,
            "min_width": null,
            "border": null,
            "align_items": null,
            "bottom": null,
            "_model_module": "@jupyter-widgets/base",
            "top": null,
            "grid_column": null,
            "overflow_y": null,
            "overflow_x": null,
            "grid_auto_flow": null,
            "grid_area": null,
            "grid_template_columns": null,
            "flex": null,
            "_model_name": "LayoutModel",
            "justify_items": null,
            "grid_row": null,
            "max_height": null,
            "align_content": null,
            "visibility": null,
            "align_self": null,
            "height": null,
            "min_height": null,
            "padding": null,
            "grid_auto_rows": null,
            "grid_gap": null,
            "max_width": null,
            "order": null,
            "_view_module_version": "1.2.0",
            "grid_template_areas": null,
            "object_position": null,
            "object_fit": null,
            "grid_auto_columns": null,
            "margin": null,
            "display": null,
            "left": null
          }
        },
        "a41b17f352f64ff487bc48e71861a9e0": {
          "model_module": "@jupyter-widgets/controls",
          "model_name": "ButtonStyleModel",
          "state": {
            "_view_name": "StyleView",
            "_model_name": "ButtonStyleModel",
            "_view_module": "@jupyter-widgets/base",
            "_model_module_version": "1.5.0",
            "_view_count": null,
            "button_color": null,
            "font_weight": "",
            "_view_module_version": "1.2.0",
            "_model_module": "@jupyter-widgets/controls"
          }
        },
        "1d40de0c68734beb845300bd68789386": {
          "model_module": "@jupyter-widgets/base",
          "model_name": "LayoutModel",
          "state": {
            "_view_name": "LayoutView",
            "grid_template_rows": null,
            "right": null,
            "justify_content": null,
            "_view_module": "@jupyter-widgets/base",
            "overflow": null,
            "_model_module_version": "1.2.0",
            "_view_count": null,
            "flex_flow": null,
            "width": null,
            "min_width": null,
            "border": null,
            "align_items": null,
            "bottom": null,
            "_model_module": "@jupyter-widgets/base",
            "top": null,
            "grid_column": null,
            "overflow_y": null,
            "overflow_x": null,
            "grid_auto_flow": null,
            "grid_area": null,
            "grid_template_columns": null,
            "flex": null,
            "_model_name": "LayoutModel",
            "justify_items": null,
            "grid_row": null,
            "max_height": null,
            "align_content": null,
            "visibility": null,
            "align_self": null,
            "height": null,
            "min_height": null,
            "padding": null,
            "grid_auto_rows": null,
            "grid_gap": null,
            "max_width": null,
            "order": null,
            "_view_module_version": "1.2.0",
            "grid_template_areas": null,
            "object_position": null,
            "object_fit": null,
            "grid_auto_columns": null,
            "margin": null,
            "display": null,
            "left": null
          }
        },
        "3246f28278fc4b98b9137dbb10df3eb3": {
          "model_module": "@jupyter-widgets/output",
          "model_name": "OutputModel",
          "state": {
            "_view_name": "OutputView",
            "msg_id": "",
            "_dom_classes": [],
            "_model_name": "OutputModel",
            "outputs": [
              {
                "output_type": "display_data",
                "metadata": {
                  "tags": []
                },
                "image/png": "iVBORw0KGgoAAAANSUhEUgAAAn0AAAH1CAYAAACDeEjlAAAABHNCSVQICAgIfAhkiAAAAAlwSFlz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\naBOmD7SeJAAAAABJRU5ErkJggg==\n",
                "text/plain": "<Figure size 720x576 with 1 Axes>"
              }
            ],
            "_view_module": "@jupyter-widgets/output",
            "_model_module_version": "1.0.0",
            "_view_count": null,
            "_view_module_version": "1.0.0",
            "layout": "IPY_MODEL_e9bb485d34674eb49f6c7ca66615f7eb",
            "_model_module": "@jupyter-widgets/output"
          }
        }
      }
    }
  },
  "cells": [
    {
      "cell_type": "markdown",
      "metadata": {
        "id": "view-in-github",
        "colab_type": "text"
      },
      "source": [
        "<a href=\"https://colab.research.google.com/github/fbeilstein/machine_learning/blob/master/lecture_13_kernel_density_estimation.ipynb\" target=\"_parent\"><img src=\"https://colab.research.google.com/assets/colab-badge.svg\" alt=\"Open In Colab\"/></a>"
      ]
    },
    {
      "cell_type": "markdown",
      "metadata": {
        "id": "BJ-DUq6MoqWc",
        "colab_type": "text"
      },
      "source": [
        "#Kernel density estimation / Ядрова оцінка густини розподілу"
      ]
    },
    {
      "cell_type": "markdown",
      "metadata": {
        "id": "gZYadnN3sfQi",
        "colab_type": "text"
      },
      "source": [
        "**K**ernel **D**ensity **E**stimation (KDE) is a technique for estimation of probability distribution of the random variable.\n",
        "Before we had two instruments for that:\n",
        "* histograms to capture emphirical frequencies to approximate underlying probability distribution;\n",
        "* guessing a family of probability distributions that the data probably follows and estimating parameters (using MLE) of a most fit of these distributions (parametric pdf estimation).\n",
        "\n",
        "KDE is another option for us. It can be seen as an extention (\"smoothing\") of the histogram technique."
      ]
    },
    {
      "cell_type": "markdown",
      "metadata": {
        "id": "g2i9dmgzT0jN",
        "colab_type": "text"
      },
      "source": [
        "#Motivating KDE: Histograms"
      ]
    },
    {
      "cell_type": "markdown",
      "metadata": {
        "id": "3lzFBpANoxck",
        "colab_type": "text"
      },
      "source": [
        "Have you ever looked at histogram of samples drawn from a random variable with a known distribution and cringed how \"inaccurate\" that histogram was?\n",
        "\n",
        "<br>\n",
        "\n",
        "![](https://raw.githubusercontent.com/fbeilstein/machine_learning/master/lecture_13/galton.jpg) \n",
        "\n",
        "<br>\n",
        "\n",
        "Well, although histograms are useful and widely used it's also true that\n",
        "\n",
        "$$\n",
        "\\text{Histograms are trickier than they seem.}\n",
        "$$\n",
        "\n",
        "First, you should sample hundred of thousands times in order the histogram relatively closely resemble the underlying distribution.\n",
        "Second, the bins sizes and location could be chosen in many ways. This can drastically change the overall shape of the histogram."
      ]
    },
    {
      "cell_type": "code",
      "metadata": {
        "id": "FgTGp-GsT13k",
        "colab_type": "code",
        "outputId": "064a4be7-a2d8-40e7-bd4c-622fb936501c",
        "colab": {
          "base_uri": "https://localhost:8080/",
          "height": 274
        }
      },
      "source": [
        "%matplotlib inline\n",
        "import matplotlib.pyplot as plt\n",
        "import seaborn as sns; sns.set()\n",
        "import numpy as np\n",
        "\n",
        "def make_data(N, f=0.3, rseed=1):\n",
        "  rand = np.random.RandomState(rseed)\n",
        "  x = rand.randn(N)\n",
        "  x[int(f * N):] += 5\n",
        "  return x\n",
        "\n",
        "x = make_data(1000)\n",
        "hist = plt.hist(x, bins=30, density=True)"
      ],
      "execution_count": 0,
      "outputs": [
        {
          "output_type": "display_data",
          "data": {
            "image/png": "[encoded data removed]",
            "text/plain": [
              "<Figure size 432x288 with 1 Axes>"
            ]
          },
          "metadata": {
            "tags": []
          }
        }
      ]
    },
    {
      "cell_type": "code",
      "metadata": {
        "id": "wybFbOtjtMuS",
        "colab_type": "code",
        "outputId": "6fd9e0e2-0aeb-4716-8240-7c80a2060a7e",
        "colab": {
          "base_uri": "https://localhost:8080/",
          "height": 34
        }
      },
      "source": [
        "# histogram is normed = area equa to 1\n",
        "density, bins, patches = hist\n",
        "widths = bins[1:] - bins[:-1]\n",
        "(density * widths).sum()"
      ],
      "execution_count": 0,
      "outputs": [
        {
          "output_type": "execute_result",
          "data": {
            "text/plain": [
              "1.0"
            ]
          },
          "metadata": {
            "tags": []
          },
          "execution_count": 6
        }
      ]
    },
    {
      "cell_type": "markdown",
      "metadata": {
        "id": "bLtxb-45122v",
        "colab_type": "text"
      },
      "source": [
        "The issue is that depending on the bins the histograms may have different *qualitive* features. Consider this."
      ]
    },
    {
      "cell_type": "code",
      "metadata": {
        "id": "BgtT92WP1Y26",
        "colab_type": "code",
        "outputId": "3581bdbe-4723-4cbb-ffde-cc94afae90c9",
        "colab": {
          "base_uri": "https://localhost:8080/",
          "height": 274
        }
      },
      "source": [
        "x = make_data(20)\n",
        "bins = np.linspace(-5, 10, 10)\n",
        "fig, ax = plt.subplots(1, 2, figsize=(12, 4), sharex=True, sharey=True, subplot_kw={'xlim':(-4, 9), 'ylim':(-0.02, 0.3)})\n",
        "fig.subplots_adjust(wspace=0.05)\n",
        "for i, offset in enumerate([0.0, 0.6]):\n",
        "  ax[i].hist(x, bins=bins + offset, density=True)\n",
        "  ax[i].plot(x, np.full_like(x, -0.01), '|k', markeredgewidth=1)\n",
        "  \n"
      ],
      "execution_count": 0,
      "outputs": [
        {
          "output_type": "display_data",
          "data": {
            "image/png": "[encoded data removed]",
            "text/plain": [
              "<Figure size 864x288 with 2 Axes>"
            ]
          },
          "metadata": {
            "tags": []
          }
        }
      ]
    },
    {
      "cell_type": "markdown",
      "metadata": {
        "id": "aAoW_Glkphhh",
        "colab_type": "text"
      },
      "source": [
        "So it the underlying distribution bimodal or unimodal?\n",
        "Please take a look at  [these](https://mglerner.github.io/posts/histograms-and-kernel-density-estimation-kde-2.html?p=28) animations of histograms tricky behaviour.\n",
        "\n",
        "---\n",
        "\n",
        "**Sidenote** \n",
        "\n",
        "---\n",
        "\n",
        "On the above picture we have used **a rug plot** -- a plot of data for a single quantitative variable, displayed as marks along an axis. As such it is analogous to a histogram with zero-width bins, or a one-dimensional scatter plot.\n",
        "Rug plots are often used in combination with two-dimensional scatter plots by placing a rug plot of the x values of the data along the x-axis, and similarly for the y values. This is the origin of the term \"rug plot\", as these rug plots with perpendicular markers look like tassels along the edges of the rectangular \"rug\" of the scatter plot.\n",
        "\n",
        "---\n",
        "\n",
        "We can try to solve the problem with the ambiguity of the bin choice by the following idea.\n",
        "You can rethink histogram as square blocks stacked on each other. Each block represents one point of data. If several datapoints are contained within one bin their blocks are placed one at the top of the other."
      ]
    },
    {
      "cell_type": "code",
      "metadata": {
        "id": "nlOSSBRl155E",
        "colab_type": "code",
        "outputId": "a2ffb0d3-9471-4d68-ca35-41e4c912160a",
        "colab": {
          "base_uri": "https://localhost:8080/",
          "height": 274
        }
      },
      "source": [
        "fig, ax = plt.subplots()\n",
        "bins = np.arange(-3, 8)\n",
        "ax.plot(x, np.full_like(x, -0.1), '|k', markeredgewidth=1)\n",
        "for count, edge in zip(*np.histogram(x, bins)):\n",
        "  for i in range(count):\n",
        "    ax.add_patch(plt.Rectangle((edge, i), 1, 1, alpha=0.5))\n",
        "    ax.set_xlim(-4, 8)\n",
        "    ax.set_ylim(-0.2, 8)"
      ],
      "execution_count": 0,
      "outputs": [
        {
          "output_type": "display_data",
          "data": {
            "image/png": "[encoded data removed]",
            "text/plain": [
              "<Figure size 432x288 with 1 Axes>"
            ]
          },
          "metadata": {
            "tags": []
          }
        }
      ]
    },
    {
      "cell_type": "markdown",
      "metadata": {
        "id": "yn5kCMDVpuIa",
        "colab_type": "text"
      },
      "source": [
        "But what if we placed each block so its center is just below the point it represents."
      ]
    },
    {
      "cell_type": "code",
      "metadata": {
        "id": "PmaIt2FW2XD9",
        "colab_type": "code",
        "outputId": "29fca3e3-6bf5-400f-9cf8-db443c4db1a6",
        "colab": {
          "base_uri": "https://localhost:8080/",
          "height": 274
        }
      },
      "source": [
        "x_d = np.linspace(-4, 8, 2000)\n",
        "density = sum((abs(xi - x_d) < 0.5) for xi in x)\n",
        "plt.fill_between(x_d, density, alpha=0.5)\n",
        "plt.plot(x, np.full_like(x, -0.1), '|k', markeredgewidth=1)\n",
        "plt.axis([-4, 8, -0.2, 8]);"
      ],
      "execution_count": 0,
      "outputs": [
        {
          "output_type": "display_data",
          "data": {
            "image/png": "[encoded data removed]",
            "text/plain": [
              "<Figure size 432x288 with 1 Axes>"
            ]
          },
          "metadata": {
            "tags": []
          }
        }
      ]
    },
    {
      "cell_type": "markdown",
      "metadata": {
        "id": "C7LI-9YHtiZZ",
        "colab_type": "text"
      },
      "source": [
        "Analytically this can be seen as if we have placed a \"square\" function (kernel) centered at each point and then we have summed all the functions up.\n",
        "\n",
        "![](https://raw.githubusercontent.com/fbeilstein/machine_learning/master/lecture_13/tophat.png) \n",
        "\n",
        "<br>\n",
        "\n",
        "This type of kernel is called top hat as it recalls a flat-crowned hat (aka cylinder - another term that is both a hat and a math object). The length of the kernel function has not have to be equal to the height.\n",
        "\n",
        "<br>\n",
        "\n",
        "![](https://raw.githubusercontent.com/fbeilstein/machine_learning/master/lecture_13/hat.png) \n",
        "\n",
        "<br>\n",
        "\n",
        "Now to make things not so \"right angled\" we can sum up smooth functions (for example Gaussians) instead of rectangular shapes (top hats)."
      ]
    },
    {
      "cell_type": "code",
      "metadata": {
        "id": "0NuMPFTb2k4v",
        "colab_type": "code",
        "outputId": "dfbb187a-ee23-46d8-a381-e456b9b2d09e",
        "colab": {
          "base_uri": "https://localhost:8080/",
          "height": 274
        }
      },
      "source": [
        "from scipy.stats import norm\n",
        "\n",
        "x_d = np.linspace(-4, 8, 1000)\n",
        "density = sum(norm(xi).pdf(x_d) for xi in x)\n",
        "plt.fill_between(x_d, density, alpha=0.5)\n",
        "plt.plot(x, np.full_like(x, -0.1), '|k', markeredgewidth=1)\n",
        "plt.axis([-4, 8, -0.2, 5]);\n",
        "\n",
        "# a Gaussian kernel"
      ],
      "execution_count": 0,
      "outputs": [
        {
          "output_type": "display_data",
          "data": {
            "image/png": "[encoded data removed]",
            "text/plain": [
              "<Figure size 432x288 with 1 Axes>"
            ]
          },
          "metadata": {
            "tags": []
          }
        }
      ]
    },
    {
      "cell_type": "markdown",
      "metadata": {
        "id": "UKtTyenQ21oM",
        "colab_type": "text"
      },
      "source": [
        "#Kernel Density Estimation "
      ]
    },
    {
      "cell_type": "markdown",
      "metadata": {
        "id": "spIbstS6H-qt",
        "colab_type": "text"
      },
      "source": [
        "In order to do KDE we need to make our mind about two things:\n",
        "  * kernel, which specifies the shape of the distribution placed at each point;\n",
        "  * kernel bandwidth, which controls the size of the kernel at each point.\n"
      ]
    },
    {
      "cell_type": "markdown",
      "metadata": {
        "id": "mmMie2p4_Nr0",
        "colab_type": "text"
      },
      "source": [
        "##Choosing kernel"
      ]
    },
    {
      "cell_type": "markdown",
      "metadata": {
        "id": "RU6-AjKD_S15",
        "colab_type": "text"
      },
      "source": [
        "On every data point $x_i$ we place a *kernel* function $K$. The kernel density estimate is then\n",
        "\n",
        "$$\n",
        "\\hat{f}_h(x)=\\frac{1}{Nh}\\sum_{i=1}^N K\\left(\\frac{x-x_i}{h}\\right),\n",
        "$$\n",
        "\n",
        "where $h$ is the scaling parameter caled *bandwidth*.\n",
        "\n",
        "In fact we can subtitute equal factors of $1/N$ with weights that can emphasize one points against the others:\n",
        "\n",
        "$$\n",
        "\\begin{aligned}\n",
        "& \\hat{f}_h(x)=\\frac{1}{h}\\sum_{i=1}^N w_i \\cdot K\\left(\\frac{x-x_i}{h}\\right), \\\\\n",
        "&\\sum_{i=1}^N w_i=1.\n",
        "\\end{aligned}\n",
        "$$\n",
        "\n",
        "The kernel function is typically\n",
        "* non-negative: $K(x) \\geq 0$;\n",
        "* symmetric: $\\,\\,\\,\\,\\, K(x)=K(-x)$;\n",
        "* decreasing: $\\,\\,\\,\\, K'(x)\\leq 0$;\n",
        "* $\\int K(x)dx=1$.\n",
        "\n",
        "$K$ has either compact support or decrease sufficiently fast approaching infinity.\n",
        "\n",
        "In the multivariate case (with $d$ dimensions) we have\n",
        "\n",
        "$$\n",
        "\\hat{f}_h(x)=\\frac{1}{Nh^d}\\sum_{i=1}^N K\\left(\\frac{\\|x-x_i\\|}{h}\\right),\n",
        "$$\n",
        "\n",
        "where $\\|\\cdot \\|$ is a some kind of norm, for example $p$-norm\n",
        "\n",
        "$$ \n",
        "\\|x\\|_p = \\left(\\sum_i |x_i|^p \\right)^{1/p}\n",
        "$$\n",
        "\n",
        "Although it's fun to see how the choise of kernel and metric affects the outcome,  it doesn't matter so much when there are lots of points.\n",
        "\n",
        "Nonetheless, what are our options when choosing the kernels?"
      ]
    },
    {
      "cell_type": "code",
      "metadata": {
        "id": "4R5k0DYyy0nl",
        "colab_type": "code",
        "outputId": "78b81d40-54ec-467f-99d1-f84042c624e6",
        "cellView": "form",
        "colab": {
          "base_uri": "https://localhost:8080/",
          "height": 393
        }
      },
      "source": [
        "#@title Available kernels\n",
        "\n",
        "import numpy as np\n",
        "import matplotlib\n",
        "import matplotlib.pyplot as plt\n",
        "from distutils.version import LooseVersion\n",
        "from scipy.stats import norm\n",
        "from sklearn.neighbors import KernelDensity\n",
        "\n",
        "\n",
        "X_plot = np.linspace(-6, 6, 1000)[:, None]\n",
        "X_src = np.zeros((1, 1))\n",
        "\n",
        "fig, ax = plt.subplots(2, 3, sharex=True, sharey=True, figsize=(10, 6))\n",
        "fig.subplots_adjust(left=0.05, right=0.95, hspace=0.05, wspace=0.05)\n",
        "\n",
        "\n",
        "def format_func(x, loc):\n",
        "    if x == 0:\n",
        "        return '0'\n",
        "    elif x == 1:\n",
        "        return 'h'\n",
        "    elif x == -1:\n",
        "        return '-h'\n",
        "    else:\n",
        "        return '%ih' % x\n",
        "\n",
        "for i, kernel in enumerate(['gaussian', 'tophat', 'epanechnikov',\n",
        "                            'exponential', 'linear', 'cosine']):\n",
        "    axi = ax.ravel()[i]\n",
        "    log_dens = KernelDensity(kernel=kernel).fit(X_src).score_samples(X_plot)\n",
        "    axi.fill(X_plot[:, 0], np.exp(log_dens), '-k', fc='#AAAAFF')\n",
        "    axi.text(-2.6, 0.95, kernel)\n",
        "\n",
        "    axi.xaxis.set_major_formatter(plt.FuncFormatter(format_func))\n",
        "    axi.xaxis.set_major_locator(plt.MultipleLocator(1))\n",
        "    axi.yaxis.set_major_locator(plt.NullLocator())\n",
        "\n",
        "    axi.set_ylim(0, 1.05)\n",
        "    axi.set_xlim(-2.9, 2.9)\n",
        "\n",
        "ax[0, 1].set_title('Available Kernels');\n"
      ],
      "execution_count": 0,
      "outputs": [
        {
          "output_type": "display_data",
          "data": {
            "image/png": "[encoded data removed]",
            "text/plain": [
              "<Figure size 720x432 with 6 Axes>"
            ]
          },
          "metadata": {
            "tags": []
          }
        }
      ]
    },
    {
      "cell_type": "markdown",
      "metadata": {
        "id": "VVGzEnOy8qkx",
        "colab_type": "text"
      },
      "source": [
        "$$\n",
        "\\begin{aligned}\n",
        "& K_{\\text{Gaussian}}(x;h) && \\propto \\quad e^{-\\frac{x^2}{2h^2}}; \\\\\n",
        "& K_{\\text{Tophat}}(x;h) && \\propto \\quad 1, &&& \\text{if   } \\quad x<h; \\\\\n",
        "& K_{\\text{Epanechnikov}}(x;h) && \\propto \\quad 1-\\frac{x^2}{h^2}; \\\\\n",
        "& K_{\\text{Exponential}}(x;h) && \\propto \\quad e^{-\\frac{x}{h}}; \\\\\n",
        "& K_{\\text{Linear}}(x;h) && \\propto \\quad 1-\\frac{|x|}{h}, &&& \\text{if   } \\quad |x|<h; \\\\\n",
        "& K_{\\text{Cosine}}(x;h) && \\propto \\quad \\cos{\\frac{\\pi x}{2 h}}, &&& \\text{if   } \\quad x<h. \\\\\n",
        "\\end{aligned}\n",
        "$$\n",
        "\n",
        "you can choose those by setting `kernel` parameter:\n",
        "* `kernel = 'gaussian';`\n",
        "* `kernel = 'tophat';`\n",
        "* `kernel = 'epanechnikov';`\n",
        "* `kernel = 'exponential';`\n",
        "* `kernel = 'linear';`\n",
        "* `kernel = 'cosine'.`"
      ]
    },
    {
      "cell_type": "markdown",
      "metadata": {
        "id": "UkuES-PX_H28",
        "colab_type": "text"
      },
      "source": [
        "##Choosing bandwidth"
      ]
    },
    {
      "cell_type": "markdown",
      "metadata": {
        "id": "EWh6vAx9_l39",
        "colab_type": "text"
      },
      "source": [
        "The choice of bandwidth within KDE is extremely important (the bias–variance trade-off).\n",
        "\n",
        "   *  too narrow a bandwidth leads to a high-variance estimate (i.e., overfitting)\n",
        "   * too wide a bandwidth leads to a high-bias estimate (i.e., underfitting)\n",
        "\n",
        "<br>\n",
        "\n",
        "   ![](https://raw.githubusercontent.com/fbeilstein/machine_learning/master/lecture_13/band.png) \n",
        "\n",
        "<br>\n",
        "\n",
        "Thus bandwidth is important!\n",
        "\n",
        "   There are two classes of approaches to this problem: in the statistics community, it is common to use reference rules, where the optimal bandwidth is estimated from theoretical forms based on assumptions about the data distribution. A common reference rule is **Silverman's rule of thumb**, which is derived for univariate KDE and included within both the `Scipy` and `Statsmodels` implementations. Other potential reference rules are ones based on Information Criteria, such as the well-known AIC and BIC. Another option is **Improved Sheather-Jones (ISJ) algorithm**.\n",
        "\n",
        "In the Machine Learning world, the use of reference rules is less common. Instead, an empirical approach such as **cross validation** is often used. In cross validation, the model is fit to part of the data, and then a quantitative metric is computed to determine how well this model fits the remaining data. Such an empirical approach to model parameter selection is very flexible, and can be used regardless of the underlying data distribution.\n",
        "\n",
        "Let's look at these approaches in more detail."
      ]
    },
    {
      "cell_type": "markdown",
      "metadata": {
        "id": "am_w-S6sMY4X",
        "colab_type": "text"
      },
      "source": [
        "###Theoretical considerations"
      ]
    },
    {
      "cell_type": "markdown",
      "metadata": {
        "id": "SXcsA8-Wt3y9",
        "colab_type": "text"
      },
      "source": [
        "The most common optimality criterion used to select this parameter is the expected $L_2$ risk function, also termed the **mean integrated squared error**:\n",
        "\n",
        "$$\\text{MISE}(h)=\\mathbb{E}\\left[\\int \\left(\\hat{f}_h(x)-f(x)\\right)^2 dx \\right].$$\n",
        "\n",
        "Under weak assumptions on $f$ and $K$\n",
        "\n",
        "$$\n",
        "\\text{MISE}(h)=\\text{AMISE}(h)+o\\left(\\frac{1}{Nh}+h^4\\right).\n",
        "$$\n",
        "\n",
        "The $\\text{AMISE}$ is the **A**symptotic **MISE** which consists of the two leading terms\n",
        "\n",
        "$$\n",
        "\\text{AMISE}(h)=\\frac{R(K)}{Nh}+\\frac{1}{4}m_2(K)^2h^4R(f''),\n",
        "$$\n",
        "\n",
        "where $R(g)=\\int g(x)^2 dx$ and $m_2(K)=\\int x^2 K(x) dx$. Thus\n",
        "* $R(g)$ is the functional $L_2$-norm;\n",
        "* $m_2(K)=\\mathbb{E}_K[x^2]$ is the so-called $2$-nd non-central moment of the kernel.\n",
        "\n",
        "The minimum of this $\\text{AMISE}$ is the solution to this differential equation\n",
        "\n",
        "$$\n",
        "\\begin{aligned}\n",
        "& \\frac{\\partial}{\\partial h}\\text{AMISE}(h) =-\\frac{R(K)}{N h^2}+m_2(K)^2h^3R(f'')=0 \\color{red}{\\Rightarrow} \\\\\n",
        "& \\color{red}{\\Rightarrow} \\qquad h_{\\text{AMISE}} =\\frac{R(K)^{1/5}}{m_2(K)^{2/5} R(f'')^{1/5}N^{1/5}}.\n",
        "\\end{aligned}\n",
        "$$\n",
        "\n",
        "Neither the $\\text{AMISE}$ nor the $h_\\text{AMISE}$ formulas are able to be used directly since they involve the unknown density function $f$ or its second derivative $f''$, so a variety of automatic, data-based methods have been developed for selecting the bandwidth."
      ]
    },
    {
      "cell_type": "markdown",
      "metadata": {
        "id": "ikXJjC-IJR7B",
        "colab_type": "text"
      },
      "source": [
        "###Silverman's Rule of Thumb"
      ]
    },
    {
      "cell_type": "markdown",
      "metadata": {
        "id": "F9e1Z4OmJT0W",
        "colab_type": "text"
      },
      "source": [
        "If the data is unimodal and close to normal, silverman’s rule of thumb may be used. It’s computationally very fast, but derived by assuming that the true density is normal. This is somewhat paradoxal, since if we knew that the data was truly normal it would render a kernel density estimator unnecessary.\n",
        "\n",
        "$$\n",
        "h=\\left(\\frac{4}{3}\\frac{\\hat{\\sigma}^5}{N}\\right)^{\\frac{1}{5}}.\n",
        "$$"
      ]
    },
    {
      "cell_type": "markdown",
      "metadata": {
        "id": "501YP8v3J1bf",
        "colab_type": "text"
      },
      "source": [
        "###Improved Sheather-Jones (ISJ) algorithm "
      ]
    },
    {
      "cell_type": "markdown",
      "metadata": {
        "id": "8BSBQb_hJ4oZ",
        "colab_type": "text"
      },
      "source": [
        "If much data is available and the data is far from normal or multimodal, the **I**mproved **S**heather **J**ones (ISJ) algorithm may be used. The Improved Sheather-Jones algorithm is a plug-in selector. \n",
        "\n",
        "The ISJ algorithm attempts to find h to minimize the asymptotic mean integrated square error ($\\text{AMISE}$), which depends on the unknown quantity $\\|f''(x)\\|^2$. Using a recursive formula, this is accomplished by computing a sequence of estimates."
      ]
    },
    {
      "cell_type": "markdown",
      "metadata": {
        "id": "q8stjXouIyTz",
        "colab_type": "text"
      },
      "source": [
        "###Cross-validation"
      ]
    },
    {
      "cell_type": "code",
      "metadata": {
        "id": "P_6K4w_3Izgz",
        "colab_type": "code",
        "outputId": "f9e39b77-e5b2-4eca-9800-879c83423287",
        "colab": {
          "base_uri": "https://localhost:8080/",
          "height": 34
        }
      },
      "source": [
        "from sklearn.model_selection import learning_curve, GridSearchCV\n",
        "from sklearn.model_selection import LeaveOneOut #train_test_split\n",
        "\n",
        "bandwidths = 10 ** np.linspace(-1, 1, 100)\n",
        "loo = LeaveOneOut()\n",
        "grid = GridSearchCV(KernelDensity(kernel='gaussian'), {'bandwidth': bandwidths}, cv=loo)\n",
        "grid.fit(x[:, None]);\n",
        "grid.best_params_"
      ],
      "execution_count": 0,
      "outputs": [
        {
          "output_type": "execute_result",
          "data": {
            "text/plain": [
              "{'bandwidth': 1.1233240329780276}"
            ]
          },
          "metadata": {
            "tags": []
          },
          "execution_count": 20
        }
      ]
    },
    {
      "cell_type": "markdown",
      "metadata": {
        "id": "JGrdMpBf_vRg",
        "colab_type": "text"
      },
      "source": [
        "#Interactive 1D example (kernel and bandwidth)"
      ]
    },
    {
      "cell_type": "code",
      "metadata": {
        "id": "YkXbzJ0IIPu8",
        "colab_type": "code",
        "outputId": "1aa5551e-34b8-4631-c6ca-34299f7bede4",
        "cellView": "form",
        "colab": {
          "resources": {
            "http://localhost:8080/nbextensions/google.colab/tabbar.css": {
              "data": "Lmdvb2ctdGFie3Bvc2l0aW9uOnJlbGF0aXZlO3BhZGRpbmc6NHB4IDhweDtjb2xvcjojMDBjO3RleHQtZGVjb3JhdGlvbjp1bmRlcmxpbmU7Y3Vyc29yOmRlZmF1bHR9Lmdvb2ctdGFiLWJhci10b3AgLmdvb2ctdGFie21hcmdpbjoxcHggNHB4IDAgMDtib3JkZXItYm90dG9tOjA7ZmxvYXQ6bGVmdH0uZ29vZy10YWItYmFyLXRvcDphZnRlciwuZ29vZy10YWItYmFyLWJvdHRvbTphZnRlcntjb250ZW50OiIgIjtkaXNwbGF5OmJsb2NrO2hlaWdodDowO2NsZWFyOmJvdGg7dmlzaWJpbGl0eTpoaWRkZW59Lmdvb2ctdGFiLWJhci1ib3R0b20gLmdvb2ctdGFie21hcmdpbjowIDRweCAxcHggMDtib3JkZXItdG9wOjA7ZmxvYXQ6bGVmdH0uZ29vZy10YWItYmFyLXN0YXJ0IC5nb29nLXRhYnttYXJnaW46MCAwIDRweCAxcHg7Ym9yZGVyLXJpZ2h0OjB9Lmdvb2ctdGFiLWJhci1lbmQgLmdvb2ctdGFie21hcmdpbjowIDFweCA0cHggMDtib3JkZXItbGVmdDowfS5nb29nLXRhYi1ob3ZlcntiYWNrZ3JvdW5kOiNlZWV9Lmdvb2ctdGFiLWRpc2FibGVke2NvbG9yOiM2NjZ9Lmdvb2ctdGFiLXNlbGVjdGVke2NvbG9yOiMwMDA7YmFja2dyb3VuZDojZmZmO3RleHQtZGVjb3JhdGlvbjpub25lO2ZvbnQtd2VpZ2h0OmJvbGQ7Ym9yZGVyOjFweCBzb2xpZCAjNmI5MGRhfS5nb29nLXRhYi1iYXItdG9we3BhZGRpbmctdG9wOjVweCFpbXBvcnRhbnQ7cGFkZGluZy1sZWZ0OjVweCFpbXBvcnRhbnQ7Ym9yZGVyLWJvdHRvbToxcHggc29saWQgIzZiOTBkYSFpbXBvcnRhbnR9Lmdvb2ctdGFiLWJhci10b3AgLmdvb2ctdGFiLXNlbGVjdGVke3RvcDoxcHg7bWFyZ2luLXRvcDowO3BhZGRpbmctYm90dG9tOjVweH0uZ29vZy10YWItYmFyLWJvdHRvbSAuZ29vZy10YWItc2VsZWN0ZWR7dG9wOi0xcHg7bWFyZ2luLWJvdHRvbTowO3BhZGRpbmctdG9wOjVweH0uZ29vZy10YWItYmFyLXN0YXJ0IC5nb29nLXRhYi1zZWxlY3RlZHtsZWZ0OjFweDttYXJnaW4tbGVmdDowO3BhZGRpbmctcmlnaHQ6OXB4fS5nb29nLXRhYi1iYXItZW5kIC5nb29nLXRhYi1zZWxlY3RlZHtsZWZ0Oi0xcHg7bWFyZ2luLXJpZ2h0OjA7cGFkZGluZy1sZWZ0OjlweH0uZ29vZy10YWItYmFye21hcmdpbjowO2JvcmRlcjowO3BhZGRpbmc6MDtsaXN0LXN0eWxlOm5vbmU7Y3Vyc29yOmRlZmF1bHQ7b3V0bGluZTpub25lO2JhY2tncm91bmQ6I2ViZWZmOX0uZ29vZy10YWItYmFyLWNsZWFye2NsZWFyOmJvdGg7aGVpZ2h0OjA7b3ZlcmZsb3c6aGlkZGVufS5nb29nLXRhYi1iYXItc3RhcnR7ZmxvYXQ6bGVmdH0uZ29vZy10YWItYmFyLWVuZHtmbG9hdDpyaWdodH0qIGh0bWwgLmdvb2ctdGFiLWJhci1zdGFydHttYXJnaW4tcmlnaHQ6LTNweH0qIGh0bWwgLmdvb2ctdGFiLWJhci1lbmR7bWFyZ2luLWxlZnQ6LTNweH0=",
              "ok": true,
              "headers": [
                [
                  "content-type",
                  "text/css"
                ]
              ],
              "status": 200,
              "status_text": ""
            },
            "http://localhost:8080/nbextensions/google.colab/tabbar_main.min.js": {
              "data": "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",
              "ok": true,
              "headers": [
                [
                  "content-type",
                  "application/javascript"
                ]
              ],
              "status": 200,
              "status_text": ""
            }
          },
          "base_uri": "https://localhost:8080/",
          "height": 622,
          "referenced_widgets": [
            "878350dcae1a4220a6298ca8e734a8f2",
            "f8749a3cc56f452aae96681ea46b651e",
            "ab599f9deead4a4181f5437d2408a1e7",
            "bcac07320db647a48586c4eb0161b664",
            "a6d9287baa5a47aab055e329b1c47c00",
            "e8bea458385446dab5223f9dc55854bb",
            "98e8612776e844609d9cd2d7f1f3b6e5",
            "5e27cbabe1df4837bd76c3468559fa73",
            "9cf33602489a4ec494b07126ad288848",
            "50a68f27c4ac49e0ba51b6c8b3089074",
            "b9ea9470278f443eac9406fa3aad7923",
            "5434713464ea4a0899a1a8457539ea60",
            "f86db49a4f834df490e0b7e4c217c417",
            "d6f5d0d1066543689750c5eff492bfe4",
            "9fba7855b8df49be986e49fd7af05c0b",
            "bd9744b66f294dd9a18e3235be1260d4",
            "92ea2713f44546f1bb9ee9c1016f079b",
            "bc56f943ce4d451ca55ec86e9dc68cb0",
            "fb1e1e9acbbe495a8013a87d0e212b53",
            "c1da609d5d4346fdbb4116c7baa8a9f5",
            "1a57db82ebcc4888ab94cd214a286fcf",
            "a7c57cefc30c4a08bbcdaf096f9e9ecb",
            "e06a4528f87f4ba380f52c34d4eec429",
            "6f2edf95108643dc81f13dc39d20a0f8",
            "86e40c001c0740ad8367d6c97059d310",
            "85c91719a2a343b78f7afd29578d1fa2",
            "14a83b63b4f54a2fa8ff3d0d900ef7da",
            "aceb7de9a3414196976624b35d130f2e",
            "b5b0a75da13c45b89d4109e5386fdd71",
            "31d30666eeef4d639b722d8ff7131bce",
            "6fb5c829d36743688d75644c2e568a68",
            "4ffbd8e187784a44bba9901a46dbaf00",
            "f702ee5a57c04220999c5d600691f819",
            "ec8c86d186984bc6925b8d9f8feb8656",
            "8f68d2ca75c64384ae9f5869d1f485aa",
            "f449bdf6f52e46a99e8d13adf263a967",
            "f223f74e79d7400486fbc70223d84f06",
            "8ac7ec4c06344315be82fcf0f49419e7",
            "3d9954c60ebe40bbad5679069b04aee3",
            "9eea2ea345a84766a24e825d758e9243",
            "ed1e4d5d8eda4841bbef6717ece82769",
            "b1e356b8e3f74b16926fdad55caf7673",
            "a4d87728d61b47f5b5db29b247920260",
            "a41b17f352f64ff487bc48e71861a9e0",
            "1d40de0c68734beb845300bd68789386",
            "3246f28278fc4b98b9137dbb10df3eb3"
          ]
        }
      },
      "source": [
        "#@title Bandwidth and kernel in KDE\n",
        "from google.colab import widgets\n",
        "import ipywidgets\n",
        "import scipy\n",
        "from sklearn.neighbors import KernelDensity\n",
        "from sklearn.model_selection import learning_curve, GridSearchCV\n",
        "from sklearn.model_selection import LeaveOneOut #train_test_split\n",
        "\n",
        "\n",
        "\n",
        "params = []\n",
        "X = []\n",
        "b_w = ipywidgets.FloatSlider(description='bandwidth', min=1, max=50.0, value=15.0)\n",
        "ker_type = ipywidgets.Dropdown(\n",
        "  options=['gaussian', 'tophat', 'epanechnikov', 'exponential','linear','cosine'],\n",
        "  value='gaussian',\n",
        "  description='Kernel:',\n",
        "  disabled=False)\n",
        "\n",
        "def set_slider(x):\n",
        "  bandwidths = np.linspace(b_w.min, b_w.max, 100)\n",
        "  loo = LeaveOneOut()\n",
        "  grid = GridSearchCV(KernelDensity(kernel=ker_type.value), {'bandwidth': bandwidths}, cv=loo)\n",
        "  grid.fit(np.array(X)[:, None]);\n",
        "  b_w.value = grid.best_params_['bandwidth']\n",
        "\n",
        "def plot_pdf(plot_separate, k_d = None):\n",
        "  global params\n",
        "  global X\n",
        "  if not params:\n",
        "    return\n",
        "\n",
        "  pi1, pi2, pi3, mu1, sig1, mu2, sig2, mu3, sig3 = params\n",
        "  x = np.linspace(np.min(X), np.max(X), 1001)\n",
        "  fig = plt.figure(figsize=(10, 8))\n",
        "  P_sum = np.zeros(x.shape)\n",
        "  for mu, sig, c, pi, i in [[mu1, sig1, 'r', pi1, 1], [mu2, sig2, 'g', pi2, 2], [mu3, sig3, 'b', pi3, 3]]:\n",
        "    P = scipy.stats.norm.pdf(x, mu, sig)\n",
        "    P_sum += P * pi\n",
        "    if plot_separate:\n",
        "      plt.plot(x, P, c, linewidth=2.0, label=\"{}\".format(i), alpha=np.clip(pi, 0.0, 1.0))\n",
        "  \n",
        "  plt.plot(x, P_sum, 'k', linewidth=3.0, label=\"mixture\")\n",
        "  plt.plot(np.array(X), np.full_like(np.array(X), 0.0), '|k', markeredgewidth=1)\n",
        "  plt.title('True pdf / pdf estimate')\n",
        "  plt.xlabel('x')\n",
        "  plt.ylabel('pdf')\n",
        "  plt.legend()\n",
        "  #plt.show()\n",
        "\n",
        "def set_and_plot(pi, mu1, sig1, mu2, sig2, mu3, sig3):\n",
        "  pi1, pi2 = pi; pi2 -= pi1; pi3 = 1.0 - pi2 - pi1;\n",
        "  global params\n",
        "  global X\n",
        "  X = []\n",
        "  params = [pi1, pi2, pi3, mu1, sig1, mu2, sig2, mu3, sig3]\n",
        "  N = 200\n",
        "  for mu, sig, pi in [[mu1, sig1, pi1], [mu2, sig2, pi2], [mu3, sig3, pi3]]:\n",
        "    X = X + np.random.normal(mu, sig, int(N * pi)).tolist()\n",
        "  plot_pdf(True)\n",
        "\n",
        "\n",
        "def ker_plot(b_w, k_t):\n",
        "  kde = KernelDensity(bandwidth=b_w, kernel=k_t)\n",
        "  global X\n",
        "  kde.fit(np.array(X)[:, None])\n",
        "  x_d = np.linspace(np.min(X), np.max(X), 1001)\n",
        "  logprob = kde.score_samples(x_d[:, None])\n",
        "  plot_pdf(False)\n",
        "  plt.fill_between(x_d, np.exp(logprob), alpha=0.5, color='r')\n",
        "\n",
        "tb = widgets.TabBar(['mix distribution', 'find KDE'], location='top')\n",
        "with tb.output_to(0):\n",
        "  words = ['mu_1', 'sigma_1', 'mu_2', 'sigma_2', 'mu_3', 'sigma_3']\n",
        "  mins  = [0.0, 1.0, 0.0, 1.0, 0.0, 1.0]\n",
        "  maxes = [100.0, 10.0, 100.0, 10.0, 100.0, 10.0]\n",
        "  vals  = [10.0, 10.0, 50.0, 10.0, 90.0, 10.0]\n",
        "  sliders = [ipywidgets.FloatSlider(description=w, min=n, max=x, value=v) for w,x,n,v in zip(words, maxes, mins, vals)]\n",
        "  pi_slider = ipywidgets.FloatRangeSlider(value=[0.3, 0.6], min=0.0, max=1.0, description='pi(1,2,3)')\n",
        "  boxes = [ipywidgets.VBox([pi_slider])]\n",
        "  for slider1, slider2 in zip(sliders[::2], sliders[1::2]):\n",
        "    boxes.append(ipywidgets.VBox([slider1, slider2]))\n",
        "  out = ipywidgets.interactive_output(set_and_plot, {\n",
        "    \"pi\": pi_slider,\n",
        "    \"mu1\": sliders[0], \"sig1\": sliders[1],\n",
        "    \"mu2\": sliders[2], \"sig2\": sliders[3],\n",
        "    \"mu3\": sliders[4], \"sig3\": sliders[5]})\n",
        "  display(ipywidgets.HBox(boxes), out)\n",
        "with tb.output_to(1):\n",
        "  btn = ipywidgets.Button(\n",
        "    description='Cross Validation',\n",
        "    disabled=False,\n",
        "    button_style='')\n",
        "  out = ipywidgets.interactive_output(ker_plot, {\"b_w\": b_w, \"k_t\": ker_type})\n",
        "  display(ipywidgets.HBox([ker_type, ipywidgets.VBox([b_w, btn])]), out)\n",
        "  btn.on_click(set_slider)"
      ],
      "execution_count": 13,
      "outputs": [
        {
          "output_type": "display_data",
          "data": {
            "text/html": [
              "<link rel=stylesheet type=text/css href='/nbextensions/google.colab/tabbar.css'></link>"
            ],
            "text/plain": [
              "<IPython.core.display.HTML object>"
            ]
          },
          "metadata": {
            "tags": [
              "outputarea_id1"
            ]
          }
        },
        {
          "output_type": "display_data",
          "data": {
            "text/html": [
              "<script src='/nbextensions/google.colab/tabbar_main.min.js'></script>"
            ],
            "text/plain": [
              "<IPython.core.display.HTML object>"
            ]
          },
          "metadata": {
            "tags": [
              "outputarea_id1"
            ]
          }
        },
        {
          "output_type": "display_data",
          "data": {
            "text/html": [
              "<div id=\"id1\"></div>"
            ],
            "text/plain": [
              "<IPython.core.display.HTML object>"
            ]
          },
          "metadata": {
            "tags": [
              "outputarea_id1"
            ]
          }
        },
        {
          "output_type": "display_data",
          "data": {
            "application/javascript": [
              "window[\"fefe647e-182f-11ea-bd4f-0242ac1c0002\"] = colab_lib.createTabBar({\"location\": \"top\", \"elementId\": \"id1\", \"tabNames\": [\"mix distribution\", \"find KDE\"], \"initialSelection\": 0, \"contentBorder\": [\"0px\"], \"contentHeight\": [\"initial\"], \"borderColor\": [\"#a7a7a7\"]});\n",
              "//# sourceURL=js_e6528a0dd9"
            ],
            "text/plain": [
              "<IPython.core.display.Javascript object>"
            ]
          },
          "metadata": {
            "tags": [
              "outputarea_id1"
            ]
          }
        },
        {
          "output_type": "display_data",
          "data": {
            "application/javascript": [
              "window[\"fefe9e44-182f-11ea-bd4f-0242ac1c0002\"] = window[\"id1\"].setSelectedTabIndex(0);\n",
              "//# sourceURL=js_b0be5757a7"
            ],
            "text/plain": [
              "<IPython.core.display.Javascript object>"
            ]
          },
          "metadata": {
            "tags": [
              "outputarea_id1"
            ]
          }
        },
        {
          "output_type": "display_data",
          "data": {
            "application/javascript": [
              "window[\"feffd23c-182f-11ea-bd4f-0242ac1c0002\"] = google.colab.output.getActiveOutputArea();\n",
              "//# sourceURL=js_331763cbe0"
            ],
            "text/plain": [
              "<IPython.core.display.Javascript object>"
            ]
          },
          "metadata": {
            "tags": [
              "id1_content_0",
              "outputarea_id1"
            ]
          }
        },
        {
          "output_type": "display_data",
          "data": {
            "application/javascript": [
              "window[\"ff00104e-182f-11ea-bd4f-0242ac1c0002\"] = document.querySelector(\"#id1_content_0\");\n",
              "//# sourceURL=js_fe5fe0d16b"
            ],
            "text/plain": [
              "<IPython.core.display.Javascript object>"
            ]
          },
          "metadata": {
            "tags": [
              "id1_content_0",
              "outputarea_id1"
            ]
          }
        },
        {
          "output_type": "display_data",
          "data": {
            "application/javascript": [
              "window[\"ff0061ca-182f-11ea-bd4f-0242ac1c0002\"] = google.colab.output.setActiveOutputArea(window[\"ff00104e-182f-11ea-bd4f-0242ac1c0002\"]);\n",
              "//# sourceURL=js_008d9f963b"
            ],
            "text/plain": [
              "<IPython.core.display.Javascript object>"
            ]
          },
          "metadata": {
            "tags": [
              "id1_content_0",
              "outputarea_id1"
            ]
          }
        },
        {
          "output_type": "display_data",
          "data": {
            "application/javascript": [
              "window[\"ff0094d8-182f-11ea-bd4f-0242ac1c0002\"] = window[\"id1\"].setSelectedTabIndex(0);\n",
              "//# sourceURL=js_d2e87aaa89"
            ],
            "text/plain": [
              "<IPython.core.display.Javascript object>"
            ]
          },
          "metadata": {
            "tags": [
              "id1_content_0",
              "outputarea_id1"
            ]
          }
        },
        {
          "output_type": "display_data",
          "data": {
            "application/vnd.jupyter.widget-view+json": {
              "model_id": "878350dcae1a4220a6298ca8e734a8f2",
              "version_minor": 0,
              "version_major": 2
            },
            "text/plain": [
              "HBox(children=(VBox(children=(FloatRangeSlider(value=(0.3, 0.6), description='pi(1,2,3)', max=1.0),)), VBox(ch…"
            ]
          },
          "metadata": {
            "tags": [
              "id1_content_0",
              "outputarea_id1",
              "user_output"
            ]
          }
        },
        {
          "output_type": "display_data",
          "data": {
            "application/vnd.jupyter.widget-view+json": {
              "model_id": "4ffbd8e187784a44bba9901a46dbaf00",
              "version_minor": 0,
              "version_major": 2
            },
            "text/plain": [
              "Output()"
            ]
          },
          "metadata": {
            "tags": [
              "id1_content_0",
              "outputarea_id1",
              "user_output"
            ]
          }
        },
        {
          "output_type": "display_data",
          "data": {
            "application/javascript": [
              "window[\"ff4e9ebc-182f-11ea-bd4f-0242ac1c0002\"] = google.colab.output.setActiveOutputArea(window[\"feffd23c-182f-11ea-bd4f-0242ac1c0002\"]);\n",
              "//# sourceURL=js_7b8036f9c3"
            ],
            "text/plain": [
              "<IPython.core.display.Javascript object>"
            ]
          },
          "metadata": {
            "tags": [
              "id1_content_0",
              "outputarea_id1"
            ]
          }
        },
        {
          "output_type": "display_data",
          "data": {
            "application/javascript": [
              "window[\"ff4fbaea-182f-11ea-bd4f-0242ac1c0002\"] = google.colab.output.getActiveOutputArea();\n",
              "//# sourceURL=js_8c968a96b0"
            ],
            "text/plain": [
              "<IPython.core.display.Javascript object>"
            ]
          },
          "metadata": {
            "tags": [
              "id1_content_1",
              "outputarea_id1"
            ]
          }
        },
        {
          "output_type": "display_data",
          "data": {
            "application/javascript": [
              "window[\"ff4ff866-182f-11ea-bd4f-0242ac1c0002\"] = document.querySelector(\"#id1_content_1\");\n",
              "//# sourceURL=js_0cc72a9356"
            ],
            "text/plain": [
              "<IPython.core.display.Javascript object>"
            ]
          },
          "metadata": {
            "tags": [
              "id1_content_1",
              "outputarea_id1"
            ]
          }
        },
        {
          "output_type": "display_data",
          "data": {
            "application/javascript": [
              "window[\"ff503358-182f-11ea-bd4f-0242ac1c0002\"] = google.colab.output.setActiveOutputArea(window[\"ff4ff866-182f-11ea-bd4f-0242ac1c0002\"]);\n",
              "//# sourceURL=js_ddd021e329"
            ],
            "text/plain": [
              "<IPython.core.display.Javascript object>"
            ]
          },
          "metadata": {
            "tags": [
              "id1_content_1",
              "outputarea_id1"
            ]
          }
        },
        {
          "output_type": "display_data",
          "data": {
            "application/javascript": [
              "window[\"ff506bf2-182f-11ea-bd4f-0242ac1c0002\"] = window[\"id1\"].setSelectedTabIndex(1);\n",
              "//# sourceURL=js_dbbe9a070d"
            ],
            "text/plain": [
              "<IPython.core.display.Javascript object>"
            ]
          },
          "metadata": {
            "tags": [
              "id1_content_1",
              "outputarea_id1"
            ]
          }
        },
        {
          "output_type": "display_data",
          "data": {
            "application/vnd.jupyter.widget-view+json": {
              "model_id": "f702ee5a57c04220999c5d600691f819",
              "version_minor": 0,
              "version_major": 2
            },
            "text/plain": [
              "HBox(children=(Dropdown(description='Kernel:', options=('gaussian', 'tophat', 'epanechnikov', 'exponential', '…"
            ]
          },
          "metadata": {
            "tags": [
              "id1_content_1",
              "outputarea_id1",
              "user_output"
            ]
          }
        },
        {
          "output_type": "display_data",
          "data": {
            "application/vnd.jupyter.widget-view+json": {
              "model_id": "3246f28278fc4b98b9137dbb10df3eb3",
              "version_minor": 0,
              "version_major": 2
            },
            "text/plain": [
              "Output()"
            ]
          },
          "metadata": {
            "tags": [
              "id1_content_1",
              "outputarea_id1",
              "user_output"
            ]
          }
        },
        {
          "output_type": "display_data",
          "data": {
            "application/javascript": [
              "window[\"ff952d0a-182f-11ea-bd4f-0242ac1c0002\"] = google.colab.output.setActiveOutputArea(window[\"ff4fbaea-182f-11ea-bd4f-0242ac1c0002\"]);\n",
              "//# sourceURL=js_e220b11945"
            ],
            "text/plain": [
              "<IPython.core.display.Javascript object>"
            ]
          },
          "metadata": {
            "tags": [
              "id1_content_1",
              "outputarea_id1"
            ]
          }
        }
      ]
    },
    {
      "cell_type": "markdown",
      "metadata": {
        "id": "K4ZOQYKOXFct",
        "colab_type": "text"
      },
      "source": [
        "#Interactive 2D example (sample points)"
      ]
    },
    {
      "cell_type": "code",
      "metadata": {
        "id": "C_naQsfwXL8J",
        "colab_type": "code",
        "colab": {}
      },
      "source": [
        "from sklearn.neighbors import KernelDensity\n",
        "# instantiate and fit the KDE model\n",
        "kde = KernelDensity()\n",
        "\n",
        "def fit_distribution(X, bandwidth, ker_name, metric_name):\n",
        "  params = {'bandwidth': bandwidth, 'kernel': ker_name, 'metric': metric_name}\n",
        "  kde.set_params(**params)\n",
        "  kde.fit(X)\n",
        "\n",
        "def evaluate_distribution(X):\n",
        "  logprob = kde.score_samples(X)\n",
        "  return np.exp(logprob)"
      ],
      "execution_count": 0,
      "outputs": []
    },
    {
      "cell_type": "code",
      "metadata": {
        "id": "FekYs8I_XUXM",
        "colab_type": "code",
        "cellView": "form",
        "outputId": "66d278b7-1739-4c7d-bfc7-51e3b62c4fc8",
        "colab": {
          "base_uri": "https://localhost:8080/",
          "height": 637
        }
      },
      "source": [
        "#@title Interactive 2D KDE\n",
        "import numpy as np\n",
        "import matplotlib.pyplot as plt\n",
        "from matplotlib.colors import ListedColormap\n",
        "from matplotlib import cm\n",
        "import seaborn as sns\n",
        "        \n",
        "def plot_clusters(x_, y_, z_):\n",
        "  fig = plt.figure(figsize=(10,10))\n",
        "  ax = fig.gca()\n",
        "  #ax = sns.kdeplot(X[:,0], X[:,1], cmap=\"Blues\", shade=True, shade_lowest=False)\n",
        "  sns.set()\n",
        "  ax.contourf(x_, y_, z_, alpha=0.5, cmap=\"Blues\")\n",
        "  ax.tick_params(axis=\"y\",direction=\"in\", pad=-60)\n",
        "  ax.tick_params(axis=\"x\",direction=\"in\", pad=-30)\n",
        "  ax.set_xticks(np.arange(-.75, 1, .25))\n",
        "  ax.set_yticks(np.arange(-.75, 1, .25))\n",
        "  ax.set_xlim([-1, 1])\n",
        "  ax.set_ylim([-1, 1])\n",
        "\n",
        "  plt.close(fig)\n",
        "  return fig\n",
        "\n",
        "import base64\n",
        "import io\n",
        "\n",
        "def figure_to_base64(fig):\n",
        "  buf = io.BytesIO()\n",
        "  fig.savefig(buf, format='png', bbox_inches='tight', pad_inches=0);\n",
        "  image_base64 = base64.b64encode(buf.getvalue()).decode('utf-8').replace('\\n', '')\n",
        "  buf.close()\n",
        "  return image_base64\n",
        "\n",
        "\n",
        "\n",
        "import json\n",
        "from IPython.display import display, clear_output\n",
        "\n",
        "def invoke(pts, n, ker_name, metric_name):\n",
        "  data = np.array(pts).reshape((-1, 2))\n",
        "  X = data / 300.0 - 1.0\n",
        "  X[:, 1] *= -1.0\n",
        "  fit_distribution(X, float(n)/1000.0, ker_name, metric_name)\n",
        "  x_ = np.linspace(-1.0, +1.0, num=300)\n",
        "  y_ = np.linspace(-1.0, +1.0, num=300)\n",
        "  xx, yy = np.meshgrid(x_, y_)\n",
        "  x_vec = np.transpose(np.vstack([xx.ravel(), yy.ravel()]))\n",
        "  G  = evaluate_distribution(x_vec).reshape((x_.shape[0],y_.shape[0]))\n",
        "  figr = plot_clusters(x_, y_, G)\n",
        "  image_base64 = figure_to_base64(figr)\n",
        "\n",
        "  return IPython.display.JSON({'image': image_base64, \n",
        "                               'g_x': x_.tolist(), 'g_y': y_.tolist(), 'g_z': G.tolist(),\n",
        "                               's_x': X[:, 0].tolist(), 's_y': X[:, 1].tolist(), 's_z': [0]*len(X)})\n",
        "\n",
        "\n",
        "import IPython\n",
        "from google.colab import output\n",
        "\n",
        "main_str = '''\n",
        "  <script src=\"https://cdn.plot.ly/plotly-latest.min.js\"></script> \n",
        "  <script type=\"application/javascript\">\n",
        "  \n",
        "    var active_pt = null;\n",
        "    var all_pts = [];\n",
        "    var classAbtn = [650, 100];\n",
        "    var classBbtn = [650, 200];\n",
        "    var ptR = 10.0;\n",
        "    var params = null;\n",
        "    var debug_txt = \"\";\n",
        "    var bg_image = new Image();\n",
        "\n",
        "    function is_close(pt1, pt2) {\n",
        "      return   (pt1[0] - pt2[0])*(pt1[0] - pt2[0])\n",
        "            +  (pt1[1] - pt2[1])*(pt1[1] - pt2[1])\n",
        "            <= ptR*ptR;\n",
        "    }\n",
        "  \n",
        "    function circ(ctx, pos) {\n",
        "      ctx.beginPath();\n",
        "      ctx.arc(pos[0], pos[1], ptR, 0.0, 2.0 * Math.PI, 0);\n",
        "      ctx.fillStyle = 'rgba(255, 128, 0, 0.5)';\n",
        "      ctx.fill();\n",
        "    }\n",
        "    \n",
        "    \n",
        "    function draw() {\n",
        "      var canvas = document.getElementById('canvas');\n",
        "      if (canvas.getContext) {\n",
        "        var ctx = canvas.getContext('2d');\n",
        "        \n",
        "        ctx.clearRect(0, 0, canvas.width, canvas.height); // cleanup before start\n",
        "        ctx.drawImage(bg_image, 0, 0, 600, 600);\n",
        "        ctx.strokeRect(0, 0, 600, 600); // field\n",
        "        \n",
        "        ctx.font = '20px serif';\n",
        "        ctx.fillStyle = 'black';\n",
        "        ctx.fillText(debug_txt, 200, 200);\n",
        "        \n",
        "        if (active_pt) {\n",
        "          circ(ctx, [active_pt[0], active_pt[1]]);\n",
        "        }\n",
        "        all_pts.forEach(function (item, index) {\n",
        "          circ(ctx, [item[0], item[1]]);\n",
        "        });\n",
        "\n",
        "      }\n",
        "    }\n",
        "    \n",
        "    var timer\n",
        "\n",
        "    function get_state() {\n",
        "      var rates = document.getElementsByName('rate');\n",
        "      for(var i = 0; i < rates.length; i++)\n",
        "        if(rates[i].checked)\n",
        "          return rates[i].value;\n",
        "      return \"none\";\n",
        "    }\n",
        "\n",
        "    \n",
        "    function mdown_handle(evt) {\n",
        "      evt.stopPropagation();\n",
        "      x = evt.offsetX;\n",
        "      y = evt.offsetY;\n",
        "      state = get_state();\n",
        "      if (state == \"add\") {\n",
        "        if (x < 600)\n",
        "            all_pts.push([x, y]);\n",
        "        return;\n",
        "      }\n",
        "\n",
        "      idx = -1;\n",
        "      all_pts.forEach(function (item, index) {\n",
        "        if (is_close([x,y], [item[0], item[1]])) {\n",
        "          idx = index;\n",
        "        }\n",
        "      });\n",
        "      if (idx <= -1)\n",
        "          return;\n",
        "      if (state == \"move\") {\n",
        "        active_pt = all_pts[idx];\n",
        "        all_pts.splice(idx, 1);\n",
        "      }\n",
        "      if (state == \"del\")\n",
        "          all_pts.splice(idx, 1);\n",
        "    }\n",
        "    \n",
        "    function mmove_handle(evt) {\n",
        "      evt.stopPropagation();\n",
        "      if (get_state() != \"move\")\n",
        "          return;\n",
        "      x = evt.offsetX;\n",
        "      y = evt.offsetY;\n",
        "      if (active_pt) {\n",
        "        active_pt[0] = x;\n",
        "        active_pt[1] = y;\n",
        "      }\n",
        "    }\n",
        "    \n",
        "    function mup_handle(evt) {\n",
        "      evt.stopPropagation();\n",
        "      x = evt.offsetX;\n",
        "      y = evt.offsetY;\n",
        "      if (x >= 600) {\n",
        "        active_pt = null;\n",
        "      }\n",
        "      if (active_pt) {\n",
        "        all_pts.push(active_pt);\n",
        "        active_pt = null;\n",
        "      }\n",
        "    }\n",
        "    \n",
        "    function clear_field() {\n",
        "      active_pt = null;\n",
        "      all_pts = [];\n",
        "    }\n",
        "\n",
        "\n",
        "   function plot_3d(g_x, g_y, g_z)\n",
        "   {\n",
        "     cell_for_plot = document.getElementById('for_plotly_plot');\n",
        "     //Plotly.deleteTraces(cell_for_plot, [0, 1]);\n",
        "     var data = [{\n",
        "           x: g_x,\n",
        "           y: g_y,\n",
        "           z: g_z,\n",
        "           type: 'surface',\n",
        "           opacity: 0.9,\n",
        "           showscale: false,\n",
        "           colorscale: \"Viridis\"\n",
        "        }];\n",
        "  \n",
        "     var layout = {\n",
        "          title: 'pdf estimate',\n",
        "          autosize: false,\n",
        "          width: 600,\n",
        "          height: 600,\n",
        "          showlegend: false,\n",
        "          scene: {\n",
        "            camera: {\n",
        "              up: {x: 0, y: 1, z: 0},\n",
        "              center: {x: 0, y: 0, z: 0},\n",
        "              eye: {x: 0.0, y: -1.0, z: 1.4}\n",
        "            }\n",
        "          }\n",
        "        };\n",
        "     Plotly.newPlot(cell_for_plot, data, layout);\n",
        "   }\n",
        "\n",
        "   function plot_scatter(s_x, s_y, s_z)\n",
        "   {\n",
        "          \n",
        "     cell_for_plot = document.getElementById('for_plotly_plot');\n",
        "     var data = [{\n",
        "           x: s_x,\n",
        "           y: s_y,\n",
        "           z: s_z,\n",
        "           type: 'scatter3d',\n",
        "           mode: 'markers',\n",
        "           marker: {\n",
        "             size: 4,\n",
        "             colorscale: \"Viridis\",\n",
        "             line: {\n",
        "               width: 2,\n",
        "               color: 'rgba(0, 0, 0, 0.5)'\n",
        "             }\n",
        "           }\n",
        "        }];\n",
        "    Plotly.plot(cell_for_plot, data, {});\n",
        "   }\n",
        "\n",
        "\n",
        "    var cur_depth = 100;\n",
        "\n",
        "    async function calculate() {\n",
        "      if (!all_pts)\n",
        "        return;\n",
        "      var merged = [].concat.apply([], all_pts);\n",
        "      var e = document.getElementById(\"select_kernel\");\n",
        "      var ker_name = e.options[e.selectedIndex].value;\n",
        "      var e1 = document.getElementById(\"select_metric\");\n",
        "      var metric_name = e1.options[e1.selectedIndex].value;\n",
        "      const result = await google.colab.kernel.invokeFunction('notebook.InvSVM', [merged, cur_depth, ker_name, metric_name], {});\n",
        "      params = result.data['application/json'];\n",
        "            \n",
        "      bg_image.src = 'data:image/  png;base64,' + params.image;\n",
        "      cell_for_plot = document.getElementById('for_plotly_plot');\n",
        "      \n",
        "      plot_3d(params.g_x, params.g_y, params.g_z);\n",
        "      plot_scatter(params.s_x, params.s_y, params.s_z);\n",
        "      \n",
        "    }\n",
        "\n",
        "   function h_change(x) {\n",
        "    el = document.getElementById(\"slider_val\");\n",
        "    cur_depth = x;\n",
        "    el.innerHTML = x;\n",
        "  }\n",
        "\n",
        " </script>\n",
        "\n",
        "<div id=\"everything\" style=\"height:600px;\">\n",
        "<div id=\"for_plotly_plot\" style=\"position:absolute; top:0px; left:0px; height:600px; width:600px;\">\n",
        "</div>\n",
        "<div id=\"custom_controls\" style=\"position:absolute; top:0px; left:600px;\">\n",
        "  <canvas id=\"canvas\" width=\"800\" height=\"600\" \n",
        "    onmousedown=\"mdown_handle(event)\"\n",
        "    onmousemove=\"mmove_handle(event)\"\n",
        "    onmouseup=\"mup_handle(event)\"></canvas>\n",
        "  <div style=\"position:absolute; top:200px; left:625px;\">\n",
        "   <div style=\"border-style: solid;\">\n",
        "    <input type=\"radio\" id=\"r1\" name=\"rate\" value=\"add\" checked=\"checked\"> Add Feature\n",
        "    <br>\n",
        "    <input type=\"radio\" id=\"r2\" name=\"rate\" value=\"move\"> Move Features\n",
        "    <br>\n",
        "    <input type=\"radio\" id=\"r3\" name=\"rate\" value=\"del\"> Delete Feature\n",
        "    <br>\n",
        "    <button type=\"button\" onclick=\"clear_field();\">\n",
        "      Clear\n",
        "    </button>\n",
        "   </div>\n",
        "   <br><br>Bandwidth x 1000:<br>\n",
        "    <input type=\"range\" min=\"1\" max=\"200\" value=\"100\" oninput=\"h_change(this.value)\">\n",
        "    <br><div id=\"slider_val\">100</div>\n",
        "   <br>Kernel:<br>\n",
        "   <select id=\"select_kernel\">\n",
        "       <option value=\"gaussian\">gaussian</option>\n",
        "       <option value=\"tophat\">tophat</option>\n",
        "       <option value=\"epanechnikov\">epanechnikov</option>\n",
        "       <option value=\"exponential\">exponential</option>\n",
        "       <option value=\"linear\">linear</option>\n",
        "       <option value=\"cosine\">cosine</option>\n",
        "   </select>\n",
        "   <br>\n",
        "   Metric:\n",
        "   <br>\n",
        "   <select id=\"select_metric\">\n",
        "       <option value=\"euclidean\">euclidean</option>\n",
        "       <option value=\"l2\">l2</option>\n",
        "       <option value=\"minkowski\">minkowski</option>\n",
        "       <option value=\"p\">p</option>\n",
        "       <option value=\"manhattan\">manhattan</option>\n",
        "       <option value=\"cityblock\">cityblock</option>\n",
        "       <option value=\"l1\">l1</option>\n",
        "       <option value=\"chebyshev\">chebyshev</option>\n",
        "       <option value=\"infinity\">infinity</option>\n",
        "   </select>\n",
        "   <br><br>\n",
        "    <button type=\"button\" onclick=\"calculate();\">\n",
        "      KDE\n",
        "    </button>\n",
        "  </div>\n",
        "</div>\n",
        "<div>\n",
        "  \n",
        "<script>\n",
        "function init()\n",
        "{\n",
        "  timer = setInterval(draw, 10);\n",
        "}\n",
        "\n",
        "init();\n",
        "</script>\n",
        "'''\n",
        "\n",
        "display(IPython.display.HTML(main_str))\n",
        "output.register_callback('notebook.InvSVM', invoke)"
      ],
      "execution_count": 12,
      "outputs": [
        {
          "output_type": "display_data",
          "data": {
            "text/html": [
              "\n",
              "  <script src=\"https://cdn.plot.ly/plotly-latest.min.js\"></script> \n",
              "  <script type=\"application/javascript\">\n",
              "  \n",
              "    var active_pt = null;\n",
              "    var all_pts = [];\n",
              "    var classAbtn = [650, 100];\n",
              "    var classBbtn = [650, 200];\n",
              "    var ptR = 10.0;\n",
              "    var params = null;\n",
              "    var debug_txt = \"\";\n",
              "    var bg_image = new Image();\n",
              "\n",
              "    function is_close(pt1, pt2) {\n",
              "      return   (pt1[0] - pt2[0])*(pt1[0] - pt2[0])\n",
              "            +  (pt1[1] - pt2[1])*(pt1[1] - pt2[1])\n",
              "            <= ptR*ptR;\n",
              "    }\n",
              "  \n",
              "    function circ(ctx, pos) {\n",
              "      ctx.beginPath();\n",
              "      ctx.arc(pos[0], pos[1], ptR, 0.0, 2.0 * Math.PI, 0);\n",
              "      ctx.fillStyle = 'rgba(255, 128, 0, 0.5)';\n",
              "      ctx.fill();\n",
              "    }\n",
              "    \n",
              "    \n",
              "    function draw() {\n",
              "      var canvas = document.getElementById('canvas');\n",
              "      if (canvas.getContext) {\n",
              "        var ctx = canvas.getContext('2d');\n",
              "        \n",
              "        ctx.clearRect(0, 0, canvas.width, canvas.height); // cleanup before start\n",
              "        ctx.drawImage(bg_image, 0, 0, 600, 600);\n",
              "        ctx.strokeRect(0, 0, 600, 600); // field\n",
              "        \n",
              "        ctx.font = '20px serif';\n",
              "        ctx.fillStyle = 'black';\n",
              "        ctx.fillText(debug_txt, 200, 200);\n",
              "        \n",
              "        if (active_pt) {\n",
              "          circ(ctx, [active_pt[0], active_pt[1]]);\n",
              "        }\n",
              "        all_pts.forEach(function (item, index) {\n",
              "          circ(ctx, [item[0], item[1]]);\n",
              "        });\n",
              "\n",
              "      }\n",
              "    }\n",
              "    \n",
              "    var timer\n",
              "\n",
              "    function get_state() {\n",
              "      var rates = document.getElementsByName('rate');\n",
              "      for(var i = 0; i < rates.length; i++)\n",
              "        if(rates[i].checked)\n",
              "          return rates[i].value;\n",
              "      return \"none\";\n",
              "    }\n",
              "\n",
              "    \n",
              "    function mdown_handle(evt) {\n",
              "      evt.stopPropagation();\n",
              "      x = evt.offsetX;\n",
              "      y = evt.offsetY;\n",
              "      state = get_state();\n",
              "      if (state == \"add\") {\n",
              "        if (x < 600)\n",
              "            all_pts.push([x, y]);\n",
              "        return;\n",
              "      }\n",
              "\n",
              "      idx = -1;\n",
              "      all_pts.forEach(function (item, index) {\n",
              "        if (is_close([x,y], [item[0], item[1]])) {\n",
              "          idx = index;\n",
              "        }\n",
              "      });\n",
              "      if (idx <= -1)\n",
              "          return;\n",
              "      if (state == \"move\") {\n",
              "        active_pt = all_pts[idx];\n",
              "        all_pts.splice(idx, 1);\n",
              "      }\n",
              "      if (state == \"del\")\n",
              "          all_pts.splice(idx, 1);\n",
              "    }\n",
              "    \n",
              "    function mmove_handle(evt) {\n",
              "      evt.stopPropagation();\n",
              "      if (get_state() != \"move\")\n",
              "          return;\n",
              "      x = evt.offsetX;\n",
              "      y = evt.offsetY;\n",
              "      if (active_pt) {\n",
              "        active_pt[0] = x;\n",
              "        active_pt[1] = y;\n",
              "      }\n",
              "    }\n",
              "    \n",
              "    function mup_handle(evt) {\n",
              "      evt.stopPropagation();\n",
              "      x = evt.offsetX;\n",
              "      y = evt.offsetY;\n",
              "      if (x >= 600) {\n",
              "        active_pt = null;\n",
              "      }\n",
              "      if (active_pt) {\n",
              "        all_pts.push(active_pt);\n",
              "        active_pt = null;\n",
              "      }\n",
              "    }\n",
              "    \n",
              "    function clear_field() {\n",
              "      active_pt = null;\n",
              "      all_pts = [];\n",
              "    }\n",
              "\n",
              "\n",
              "   function plot_3d(g_x, g_y, g_z)\n",
              "   {\n",
              "     cell_for_plot = document.getElementById('for_plotly_plot');\n",
              "     //Plotly.deleteTraces(cell_for_plot, [0, 1]);\n",
              "     var data = [{\n",
              "           x: g_x,\n",
              "           y: g_y,\n",
              "           z: g_z,\n",
              "           type: 'surface',\n",
              "           opacity: 0.9,\n",
              "           showscale: false,\n",
              "           colorscale: \"Viridis\"\n",
              "        }];\n",
              "  \n",
              "     var layout = {\n",
              "          title: 'pdf estimate',\n",
              "          autosize: false,\n",
              "          width: 600,\n",
              "          height: 600,\n",
              "          showlegend: false,\n",
              "          scene: {\n",
              "            camera: {\n",
              "              up: {x: 0, y: 1, z: 0},\n",
              "              center: {x: 0, y: 0, z: 0},\n",
              "              eye: {x: 0.0, y: -1.0, z: 1.4}\n",
              "            }\n",
              "          }\n",
              "        };\n",
              "     Plotly.newPlot(cell_for_plot, data, layout);\n",
              "   }\n",
              "\n",
              "   function plot_scatter(s_x, s_y, s_z)\n",
              "   {\n",
              "          \n",
              "     cell_for_plot = document.getElementById('for_plotly_plot');\n",
              "     var data = [{\n",
              "           x: s_x,\n",
              "           y: s_y,\n",
              "           z: s_z,\n",
              "           type: 'scatter3d',\n",
              "           mode: 'markers',\n",
              "           marker: {\n",
              "             size: 4,\n",
              "             colorscale: \"Viridis\",\n",
              "             line: {\n",
              "               width: 2,\n",
              "               color: 'rgba(0, 0, 0, 0.5)'\n",
              "             }\n",
              "           }\n",
              "        }];\n",
              "    Plotly.plot(cell_for_plot, data, {});\n",
              "   }\n",
              "\n",
              "\n",
              "    var cur_depth = 100;\n",
              "\n",
              "    async function calculate() {\n",
              "      if (!all_pts)\n",
              "        return;\n",
              "      var merged = [].concat.apply([], all_pts);\n",
              "      var e = document.getElementById(\"select_kernel\");\n",
              "      var ker_name = e.options[e.selectedIndex].value;\n",
              "      var e1 = document.getElementById(\"select_metric\");\n",
              "      var metric_name = e1.options[e1.selectedIndex].value;\n",
              "      const result = await google.colab.kernel.invokeFunction('notebook.InvSVM', [merged, cur_depth, ker_name, metric_name], {});\n",
              "      params = result.data['application/json'];\n",
              "            \n",
              "      bg_image.src = 'data:image/  png;base64,' + params.image;\n",
              "      cell_for_plot = document.getElementById('for_plotly_plot');\n",
              "      \n",
              "      plot_3d(params.g_x, params.g_y, params.g_z);\n",
              "      plot_scatter(params.s_x, params.s_y, params.s_z);\n",
              "      \n",
              "    }\n",
              "\n",
              "   function h_change(x) {\n",
              "    el = document.getElementById(\"slider_val\");\n",
              "    cur_depth = x;\n",
              "    el.innerHTML = x;\n",
              "  }\n",
              "\n",
              " </script>\n",
              "\n",
              "<div id=\"everything\" style=\"height:600px;\">\n",
              "<div id=\"for_plotly_plot\" style=\"position:absolute; top:0px; left:0px; height:600px; width:600px;\">\n",
              "</div>\n",
              "<div id=\"custom_controls\" style=\"position:absolute; top:0px; left:600px;\">\n",
              "  <canvas id=\"canvas\" width=\"800\" height=\"600\" \n",
              "    onmousedown=\"mdown_handle(event)\"\n",
              "    onmousemove=\"mmove_handle(event)\"\n",
              "    onmouseup=\"mup_handle(event)\"></canvas>\n",
              "  <div style=\"position:absolute; top:200px; left:625px;\">\n",
              "   <div style=\"border-style: solid;\">\n",
              "    <input type=\"radio\" id=\"r1\" name=\"rate\" value=\"add\" checked=\"checked\"> Add Feature\n",
              "    <br>\n",
              "    <input type=\"radio\" id=\"r2\" name=\"rate\" value=\"move\"> Move Features\n",
              "    <br>\n",
              "    <input type=\"radio\" id=\"r3\" name=\"rate\" value=\"del\"> Delete Feature\n",
              "    <br>\n",
              "    <button type=\"button\" onclick=\"clear_field();\">\n",
              "      Clear\n",
              "    </button>\n",
              "   </div>\n",
              "   <br><br>Bandwidth x 1000:<br>\n",
              "    <input type=\"range\" min=\"1\" max=\"200\" value=\"100\" oninput=\"h_change(this.value)\">\n",
              "    <br><div id=\"slider_val\">100</div>\n",
              "   <br>Kernel:<br>\n",
              "   <select id=\"select_kernel\">\n",
              "       <option value=\"gaussian\">gaussian</option>\n",
              "       <option value=\"tophat\">tophat</option>\n",
              "       <option value=\"epanechnikov\">epanechnikov</option>\n",
              "       <option value=\"exponential\">exponential</option>\n",
              "       <option value=\"linear\">linear</option>\n",
              "       <option value=\"cosine\">cosine</option>\n",
              "   </select>\n",
              "   <br>\n",
              "   Metric:\n",
              "   <br>\n",
              "   <select id=\"select_metric\">\n",
              "       <option value=\"euclidean\">euclidean</option>\n",
              "       <option value=\"l2\">l2</option>\n",
              "       <option value=\"minkowski\">minkowski</option>\n",
              "       <option value=\"p\">p</option>\n",
              "       <option value=\"manhattan\">manhattan</option>\n",
              "       <option value=\"cityblock\">cityblock</option>\n",
              "       <option value=\"l1\">l1</option>\n",
              "       <option value=\"chebyshev\">chebyshev</option>\n",
              "       <option value=\"infinity\">infinity</option>\n",
              "   </select>\n",
              "   <br><br>\n",
              "    <button type=\"button\" onclick=\"calculate();\">\n",
              "      KDE\n",
              "    </button>\n",
              "  </div>\n",
              "</div>\n",
              "<div>\n",
              "  \n",
              "<script>\n",
              "function init()\n",
              "{\n",
              "  timer = setInterval(draw, 10);\n",
              "}\n",
              "\n",
              "init();\n",
              "</script>\n"
            ],
            "text/plain": [
              "<IPython.core.display.HTML object>"
            ]
          },
          "metadata": {
            "tags": []
          }
        }
      ]
    },
    {
      "cell_type": "markdown",
      "metadata": {
        "id": "_FQr-h66b1Rc",
        "colab_type": "text"
      },
      "source": [
        "# KDE as Mixture Model"
      ]
    },
    {
      "cell_type": "markdown",
      "metadata": {
        "id": "SLNAG4SBb6l2",
        "colab_type": "text"
      },
      "source": [
        "We see that KDE reminds MM taken to the extreme: the number of components we throw into the mix equals the number of points.\n",
        "\n",
        "<br>\n",
        "\n",
        "![](https://raw.githubusercontent.com/fbeilstein/machine_learning/master/lecture_13/mix.png) \n",
        "\n",
        "<br>\n",
        "\n",
        "If the number of point is huge the \"shot noise\" from the individual points becomes negligible and the overall underlying distibution hopefully emerges."
      ]
    },
    {
      "cell_type": "markdown",
      "metadata": {
        "id": "g0l9p82WsLpQ",
        "colab_type": "text"
      },
      "source": [
        "#Blur analogy"
      ]
    },
    {
      "cell_type": "markdown",
      "metadata": {
        "id": "NluhuiqvsOgO",
        "colab_type": "text"
      },
      "source": [
        "We have seen that histograms may be misleading. Also they are \"grainy\" as they discretize (sample) continuous data. Pdf estimate could be kept smooth by using gaussian KDE.\n",
        "\n",
        "Idea similar to gaussian KDE is involved in Gaussian smoothing of images.\n",
        "In image processing, a Gaussian blur (also known as Gaussian smoothing) is the result of blurring an image by a Gaussian function. It is a widely used effect in graphics software, typically to reduce image noise and reduce detail. A Gaussian blur effect is typically generated by convolving an image with a kernel of Gaussian values. \n",
        "\n",
        "<br>\n",
        "\n",
        "![](https://raw.githubusercontent.com/fbeilstein/machine_learning/master/lecture_13/blur.png) \n",
        "\n",
        "<br>\n",
        "\n",
        "Let's first sample image (keeping $1$ pixel out of $10$ along each dimension). What we get is an analog of a histogram. If we perform a Gaussian blur afterwards we regain some of the smootheness.\n",
        "\n",
        "<br>\n",
        "\n",
        "![](https://raw.githubusercontent.com/fbeilstein/machine_learning/master/lecture_13/lena_1.png) \n",
        "\n",
        "<br>"
      ]
    },
    {
      "cell_type": "markdown",
      "metadata": {
        "id": "KiZoyJ00LTKH",
        "colab_type": "text"
      },
      "source": [
        "#Algorithmic nuances"
      ]
    },
    {
      "cell_type": "markdown",
      "metadata": {
        "id": "3VerGR5gIKqo",
        "colab_type": "text"
      },
      "source": [
        "There are several options available for computing kernel density estimates in Python. The question of the optimal KDE implementation for any situation, however, is not entirely straightforward, and depends a lot on what your particular goals are. Here are the four KDE implementations\n",
        "\n",
        "* In `SciPy`: `gaussian_kde`;\n",
        "* In `Statsmodels`: `KDEUnivariate` and `KDEMultivariate`;\n",
        "* In `Scikit-learn`: `KernelDensity`;\n",
        "* In `KDEpy`: `NaiveKDE`, `TreeKDE` and `FFTKDE`. \n",
        "\n",
        "Algorithmically KDE could be implemented via FFT (**F**ast **F**ourier **T**ransform) or k-d tree datastructure. Algorithms performance depends on \n",
        "* the number of points;\n",
        "* kernel;\n",
        "* bandwidth;\n",
        "* tolerance you aim to achieve. \n",
        "\n",
        "Please refer to this [overview article](https://jakevdp.github.io/blog/2013/12/01/kernel-density-estimation/) anf this [comparison article](https://kdepy.readthedocs.io/en/stable/comparison.html) for details.\n",
        "\n",
        "Generally `KernelDensity` of `Scikit-learn` is usually considered a good overall option that I use in this lecture. "
      ]
    },
    {
      "cell_type": "markdown",
      "metadata": {
        "id": "Im1uI0JtK-WE",
        "colab_type": "text"
      },
      "source": [
        "#Example: KDE on a Sphere"
      ]
    },
    {
      "cell_type": "markdown",
      "metadata": {
        "id": "T9vRb2sc9XHB",
        "colab_type": "text"
      },
      "source": [
        "Perhaps the most common use of KDE is in graphically representing distributions of points. For example, in the `Seaborn visualization library` KDE is built in and automatically used to help visualize points in one and two dimensions.\n",
        "Here we will look at a slightly more sophisticated use of KDE for visualization of distributions. We will make use of some geographic data that can be loaded with `ScikitLearn`: the geographic distributions of recorded observations of two South American mammals, *Bradypus variegatus* (the brown-throated sloth) and *Microryzomys minutus* (the forest small rice rat).\n",
        "\n",
        "<br>\n",
        "\n",
        "![](https://raw.githubusercontent.com/fbeilstein/machine_learning/master/lecture_13/anim.png) \n",
        "\n"
      ]
    },
    {
      "cell_type": "code",
      "metadata": {
        "id": "-k347bdQU5zu",
        "colab_type": "code",
        "outputId": "3126c0c2-7834-4731-8005-32deece4a8fa",
        "colab": {
          "base_uri": "https://localhost:8080/",
          "height": 34
        }
      },
      "source": [
        "import numpy as np\n",
        "\n",
        "!sudo apt-get install libgeos-dev > /dev/null\n",
        "!sudo pip3 install -U git+https://github.com/matplotlib/basemap.git > /dev/null\n",
        "from sklearn.datasets import fetch_species_distributions\n",
        "data = fetch_species_distributions();\n",
        "# Get matrices/arrays of species IDs and locations\n",
        "latlon = np.vstack([data.train['dd lat'], data.train['dd long']]).T\n",
        "species = np.array([d.decode('ascii').startswith('micro') for d in data.train['species']], dtype='int')"
      ],
      "execution_count": 0,
      "outputs": [
        {
          "output_type": "stream",
          "text": [
            "  Running command git clone -q https://github.com/matplotlib/basemap.git /tmp/pip-req-build-dy6g376t\n"
          ],
          "name": "stdout"
        }
      ]
    },
    {
      "cell_type": "code",
      "metadata": {
        "id": "ht6ErJtEUd7W",
        "colab_type": "code",
        "outputId": "cacf4e45-2b21-4498-e72f-4369b0b18145",
        "colab": {
          "base_uri": "https://localhost:8080/",
          "height": 260
        }
      },
      "source": [
        "from mpl_toolkits.basemap import Basemap\n",
        "from sklearn.datasets.species_distributions import construct_grids\n",
        "xgrid, ygrid = construct_grids(data)\n",
        "\n",
        "# plot coastlines with Basemap\n",
        "m = Basemap(projection='cyl', resolution='c', llcrnrlat=ygrid.min(), urcrnrlat=ygrid.max(), llcrnrlon=xgrid.min(), urcrnrlon=xgrid.max())\n",
        "m.drawmapboundary(fill_color='#DDEEFF')\n",
        "m.fillcontinents(color='#FFEEDD')\n",
        "m.drawcoastlines(color='gray', zorder=2)\n",
        "m.drawcountries(color='gray', zorder=2)\n",
        "\n",
        "# plot locations\n",
        "m.scatter(latlon[:, 1], latlon[:, 0], zorder=3, c=species, cmap='rainbow', latlon=True);"
      ],
      "execution_count": 0,
      "outputs": [
        {
          "output_type": "display_data",
          "data": {
            "image/png": "[encoded data removed]",
            "text/plain": [
              "<Figure size 432x288 with 1 Axes>"
            ]
          },
          "metadata": {
            "tags": []
          }
        }
      ]
    },
    {
      "cell_type": "markdown",
      "metadata": {
        "id": "FtUmpFHM8iyo",
        "colab_type": "text"
      },
      "source": [
        "Unfortunately, this doesn’t give a very good idea of the density of the species, because points in the species range may overlap one another. You may not realize it by looking at this plot, but there are over $1600$ points shown here!\n",
        "Let’s use kernel density estimation to show this distribution in a more interpretable way: as a smooth indication of density on the map. Because the coordinate system here lies on a spherical surface rather than a flat plane, we will use the haversine distance metric, which will correctly represent distances on a curved surface.\n",
        "\n",
        "**Note**:\n",
        "The *haversine formula* determines the great-circle distance between two points on a sphere given their longitudes and latitudes. Important in navigation, it is a special case of a more general formula in spherical trigonometry, the law of haversines, that relates the sides and angles of spherical triangles.\n",
        "\n",
        "$$\n",
        "d=2r\\arcsin{\\sqrt{\\sin^2\\left(\\frac{\\phi_2-\\phi_1}{2}\\right)+\\cos{\\phi_1}\\cdot \\cos{\\phi_2}\\cdot \\sin^2\\left(\\frac{\\lambda_2-\\lambda_1}{2} \\right)}},\n",
        "$$\n",
        "\n",
        "where \n",
        "* $d$ is the distance between the two points along a great circle of the sphere;\n",
        "* $\\phi$ -- latitude of point;\n",
        "* $\\lambda$ -- longitude of point.\n",
        "\n",
        "The term haversine  is due to haversine $\\text{hav}$ function that was used instead of $\\sin$ in the formula.\n",
        "\n",
        "$$\n",
        "\\text{hav}(x)=\\sin^2\\left(\\frac{x}{2}\\right).\n",
        "$$\n",
        "\n",
        "So if we rewrite the formula above using haversine it will read\n",
        "\n",
        "$$\n",
        "\\text{hav}(\\Theta)=\\text{hav}(\\phi_2-\\phi_1)+\\cos{\\phi_1} \\cdot \\cos{\\phi_2} \\cdot \\text{hav}(\\lambda_2-\\lambda_1),\n",
        "$$\n",
        "\n",
        "with $\\Theta=\\frac{d}{r}$ is central angle between any two points on a sphere."
      ]
    },
    {
      "cell_type": "code",
      "metadata": {
        "id": "FmwkQlE4XwLE",
        "colab_type": "code",
        "outputId": "689c9e60-8b12-4dcc-9b03-798d4c58c39c",
        "colab": {
          "base_uri": "https://localhost:8080/",
          "height": 270
        }
      },
      "source": [
        "# Set up the data grid for the contour plot\n",
        "X, Y = np.meshgrid(xgrid[::5], ygrid[::5][::-1])\n",
        "land_reference = data.coverages[6][::5, ::5]\n",
        "land_mask = (land_reference > -9999).ravel()\n",
        "xy = np.vstack([Y.ravel(), X.ravel()]).T\n",
        "xy = np.radians(xy[land_mask])\n",
        "\n",
        "# Create two side-by-side plots\n",
        "fig, ax = plt.subplots(1, 2)\n",
        "fig.subplots_adjust(left=0.05, right=0.95, wspace=0.05)\n",
        "species_names = ['Bradypus Variegatus', 'Microryzomys Minutus']\n",
        "cmaps = ['Purples', 'Reds']\n",
        "\n",
        "for i, axi in enumerate(ax):\n",
        "  axi.set_title(species_names[i])\n",
        "\n",
        "  # plot coastlines with Basemap\n",
        "  m = Basemap(projection='cyl', llcrnrlat=Y.min(), urcrnrlat=Y.max(), llcrnrlon=X.min(), urcrnrlon=X.max(), resolution='c', ax=axi)\n",
        "  m.drawmapboundary(fill_color='#DDEEFF')\n",
        "  m.drawcoastlines()\n",
        "  m.drawcountries()\n",
        "  \n",
        "  # construct a spherical kernel density estimate of the distribution\n",
        "  kde = KernelDensity(bandwidth=0.03, metric='haversine')\n",
        "  kde.fit(np.radians(latlon[species == i]))\n",
        "\n",
        "  # evaluate only on the land: -9999 indicates ocean\n",
        "  Z = np.full(land_mask.shape[0], -9999.0)\n",
        "  Z[land_mask] = np.exp(kde.score_samples(xy))\n",
        "  Z = Z.reshape(X.shape)\n",
        "  \n",
        "  # plot contours of the density\n",
        "  levels = np.linspace(0, Z.max(), 25)\n",
        "  axi.contourf(X, Y, Z, levels=levels, cmap=cmaps[i])  "
      ],
      "execution_count": 0,
      "outputs": [
        {
          "output_type": "display_data",
          "data": {
            "image/png": "[encoded data removed]",
            "text/plain": [
              "<Figure size 432x288 with 2 Axes>"
            ]
          },
          "metadata": {
            "tags": []
          }
        }
      ]
    },
    {
      "cell_type": "markdown",
      "metadata": {
        "id": "6ZtWndy68RsU",
        "colab_type": "text"
      },
      "source": [
        "Now we have a much clearer picture of the geographical distribution of observation of two species.\n",
        "\n"
      ]
    },
    {
      "cell_type": "markdown",
      "metadata": {
        "id": "dMIOJrA8-qJm",
        "colab_type": "text"
      },
      "source": [
        "#Example: Fisher irisis"
      ]
    },
    {
      "cell_type": "markdown",
      "metadata": {
        "id": "oYoPWo8B-J-a",
        "colab_type": "text"
      },
      "source": [
        "Here is another example of nice visualization with the help of the `kdeplot` (convinient plot function with the built in kde algorithm in it) from `seaborn` package.\n",
        "\n",
        "<br>\n",
        "\n",
        "![](https://raw.githubusercontent.com/fbeilstein/machine_learning/master/lecture_13/iris.png) "
      ]
    },
    {
      "cell_type": "code",
      "metadata": {
        "id": "WjK03ydaP665",
        "colab_type": "code",
        "outputId": "fc36b3b0-23b5-426f-de0c-9d0ddfcc7a01",
        "cellView": "form",
        "colab": {
          "base_uri": "https://localhost:8080/",
          "height": 502
        }
      },
      "source": [
        "#@title Irisis classes visualization with KDE\n",
        "import seaborn as sns\n",
        "import matplotlib.pyplot as plt\n",
        "\n",
        "sns.set(style=\"darkgrid\")\n",
        "iris = sns.load_dataset(\"iris\")\n",
        "\n",
        "setosa = iris.query(\"species == 'setosa'\")\n",
        "virginica = iris.query(\"species == 'virginica'\")\n",
        "\n",
        "f, ax = plt.subplots(figsize=(8, 8))\n",
        "ax.set_aspect(\"equal\")\n",
        "\n",
        "ax = sns.kdeplot(setosa.sepal_width, setosa.sepal_length,\n",
        "                 cmap=\"Reds\", shade=True, shade_lowest=False)\n",
        "ax = sns.kdeplot(virginica.sepal_width, virginica.sepal_length,\n",
        "                 cmap=\"Blues\", shade=True, shade_lowest=False)\n",
        "\n",
        "red = sns.color_palette(\"Reds\")[-2]\n",
        "blue = sns.color_palette(\"Blues\")[-2]\n",
        "ax.text(2.5, 8.2, \"virginica\", size=16, color=blue);\n",
        "ax.text(3.8, 4.5, \"setosa\", size=16, color=red);"
      ],
      "execution_count": 0,
      "outputs": [
        {
          "output_type": "display_data",
          "data": {
            "image/png": "[encoded data removed]",
            "text/plain": [
              "<Figure size 576x576 with 1 Axes>"
            ]
          },
          "metadata": {
            "tags": []
          }
        }
      ]
    },
    {
      "cell_type": "markdown",
      "metadata": {
        "id": "7k45DaaLYONo",
        "colab_type": "text"
      },
      "source": [
        "#Example: Not-So-Naive Bayes"
      ]
    },
    {
      "cell_type": "markdown",
      "metadata": {
        "id": "BJxcMR1ofrXE",
        "colab_type": "text"
      },
      "source": [
        "For naive Bayes, the generative model is a simple axis-aligned Gaussian.\n",
        "With a density estimation algorithm like KDE, we can remove the “naive” element and perform the same classification with a more sophisticated generative model for each class.\n",
        "It’s still Bayesian classification, but it’s no longer naive."
      ]
    },
    {
      "cell_type": "markdown",
      "metadata": {
        "id": "tQKL5Dj5f6R2",
        "colab_type": "text"
      },
      "source": [
        "1. Split the training data by label.\n",
        "2. For each set, fit a KDE to obtain a generative model of the data.\n",
        "This allows you for any observation x and label y to compute a likelihood $P(x|y)$.\n",
        "3. From the number of examples of each class in the training set, compute the class prior, $P(y)$ .\n",
        "4. For an unknown point x , the posterior probability for each class is $P(y|x)= P(x|y)P(y)$. The class that maximizes this posterior is the label assigned to the point."
      ]
    },
    {
      "cell_type": "markdown",
      "metadata": {
        "id": "1cepwUXc1AWu",
        "colab_type": "text"
      },
      "source": [
        "Let’s try this custom estimator on a problem we have seen before: the classification of handwritten digits. Here we will load the digits, and compute the cross-validation score for a range of candidate bandwidths using the `GridSearchCV` meta-estimator."
      ]
    },
    {
      "cell_type": "code",
      "metadata": {
        "id": "GQ9wdpBgYQIk",
        "colab_type": "code",
        "colab": {}
      },
      "source": [
        "from sklearn.base import BaseEstimator, ClassifierMixin\n",
        "from sklearn.neighbors import KernelDensity\n",
        "\n",
        "# BaseEstimator contains the logic necessary to clone/copy an estimator for use in a crossvalidation procedure\n",
        "# ClassifierMixin defines a default score() method used by such routines\n",
        "class KDEClassifier(BaseEstimator, ClassifierMixin):\n",
        "  \"\"\"Bayesian generative classification based on KDE\n",
        "  Parameters\n",
        "  ----------\n",
        "  bandwidth : float\n",
        "  the kernel bandwidth within each class\n",
        "  kernel : str\n",
        "  the kernel name, passed to KernelDensity\n",
        "  \"\"\"\n",
        "  def __init__(self, bandwidth=1.0, kernel='gaussian'):\n",
        "    self.bandwidth = bandwidth\n",
        "    self.kernel = kernel\n",
        "  \n",
        "  # find the unique classes in the training data, \n",
        "  # train a KernelDensity model for each class, \n",
        "  # compute the class priors based on the number of input samples.\n",
        "  def fit(self, X, y):\n",
        "    self.classes_ = np.sort(np.unique(y))\n",
        "    training_sets = [X[y == yi] for yi in self.classes_]\n",
        "    self.models_ = [KernelDensity(bandwidth=self.bandwidth, kernel=self.kernel).fit(Xi) for Xi in training_sets]\n",
        "    self.logpriors_ = [np.log(Xi.shape[0] / X.shape[0]) for Xi in training_sets]\n",
        "    return self # for chaining\n",
        "  \n",
        "  # predicting labels on new data\n",
        "  def predict_proba(self, X):\n",
        "    logprobs = np.array([model.score_samples(X) for model in self.models_]).T\n",
        "    result = np.exp(logprobs + self.logpriors_)\n",
        "    return result / result.sum(1, keepdims=True)\n",
        "  \n",
        "  def predict(self, X):\n",
        "    return self.classes_[np.argmax(self.predict_proba(X), 1)]"
      ],
      "execution_count": 0,
      "outputs": []
    },
    {
      "cell_type": "markdown",
      "metadata": {
        "id": "XrghJcTc0Vr1",
        "colab_type": "text"
      },
      "source": [
        "We now use this class."
      ]
    },
    {
      "cell_type": "code",
      "metadata": {
        "id": "gsqvNFAHm1Rn",
        "colab_type": "code",
        "colab": {}
      },
      "source": [
        "from sklearn.datasets import load_digits\n",
        "from sklearn.model_selection import GridSearchCV\n",
        "\n",
        "digits = load_digits()\n",
        "bandwidths = 10 ** np.linspace(0, 2, 100)\n",
        "grid = GridSearchCV(KDEClassifier(), {'bandwidth': bandwidths}, cv=3)\n",
        "grid.fit(digits.data, digits.target)\n",
        "scores = grid.cv_results_['mean_test_score']"
      ],
      "execution_count": 0,
      "outputs": []
    },
    {
      "cell_type": "code",
      "metadata": {
        "id": "Gtbz5bE0sL4I",
        "colab_type": "code",
        "outputId": "b535c305-2b20-45b7-fa16-a3fd50664e38",
        "colab": {
          "base_uri": "https://localhost:8080/",
          "height": 341
        }
      },
      "source": [
        "plt.semilogx(bandwidths, scores)\n",
        "plt.xlabel('bandwidth')\n",
        "plt.ylabel('accuracy')\n",
        "plt.title('KDE Model Performance')\n",
        "print(grid.best_params_)\n",
        "print('accuracy =', grid.best_score_)"
      ],
      "execution_count": 0,
      "outputs": [
        {
          "output_type": "stream",
          "text": [
            "{'bandwidth': 7.054802310718643}\n",
            "accuracy = 0.9666110183639399\n"
          ],
          "name": "stdout"
        },
        {
          "output_type": "display_data",
          "data": {
            "image/png": "[encoded data removed]",
            "text/plain": [
              "<Figure size 432x288 with 1 Axes>"
            ]
          },
          "metadata": {
            "tags": []
          }
        }
      ]
    },
    {
      "cell_type": "markdown",
      "metadata": {
        "id": "9RlumF2e1K3B",
        "colab_type": "text"
      },
      "source": [
        "We see that this not-so-naive Bayesian classifier reaches a cross-validation accuracy of just over $96\\%$; this is compared to around $80\\%$ for the naive Bayesian classification:\n"
      ]
    },
    {
      "cell_type": "code",
      "metadata": {
        "id": "dHkCW0Cks2EB",
        "colab_type": "code",
        "outputId": "c92124bb-f78f-4a1f-df84-51e82c0beb1e",
        "colab": {
          "base_uri": "https://localhost:8080/",
          "height": 34
        }
      },
      "source": [
        "from sklearn.naive_bayes import GaussianNB\n",
        "from sklearn.model_selection import cross_val_score\n",
        "cross_val_score(GaussianNB(), digits.data, digits.target, cv=3).mean()"
      ],
      "execution_count": 0,
      "outputs": [
        {
          "output_type": "execute_result",
          "data": {
            "text/plain": [
              "0.8186003803550138"
            ]
          },
          "metadata": {
            "tags": []
          },
          "execution_count": 22
        }
      ]
    },
    {
      "cell_type": "markdown",
      "metadata": {
        "id": "2khCd84S1XdG",
        "colab_type": "text"
      },
      "source": [
        "One benefit of such a generative classifier is interpretability of results: for each unknown sample, we not only get a probabilistic classification, but a full model of the distribution of points we are comparing it to! If desired, this offers an intuitive window into the reasons for a particular classification that algorithms like SVMs and random forests tend to obscure.\n",
        "If you would like to take this further, there are some improvements that could be made to our KDE classifier model:\n",
        "* We could allow the bandwidth in each class to vary independently.\n",
        "*  We could optimize these bandwidths not based on their prediction score, but on the likelihood of the training data under the generative model within each class (i.e., use the scores from KernelDensity itself rather than the global prediction accuracy)."
      ]
    }
  ]
}