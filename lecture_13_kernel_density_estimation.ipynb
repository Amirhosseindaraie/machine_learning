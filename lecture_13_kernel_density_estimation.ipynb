{
  "nbformat": 4,
  "nbformat_minor": 0,
  "metadata": {
    "colab": {
      "name": "lecture_13_kernel_density_estimation.ipynb",
      "provenance": [],
      "include_colab_link": true
    },
    "kernelspec": {
      "name": "python3",
      "display_name": "Python 3"
    },
    "widgets": {
      "application/vnd.jupyter.widget-state+json": {
        "4d0d02c8cca54d1b92c24c77e13022bc": {
          "model_module": "@jupyter-widgets/controls",
          "model_name": "HBoxModel",
          "state": {
            "_view_name": "HBoxView",
            "_dom_classes": [],
            "_model_name": "HBoxModel",
            "_view_module": "@jupyter-widgets/controls",
            "_model_module_version": "1.5.0",
            "_view_count": null,
            "_view_module_version": "1.5.0",
            "box_style": "",
            "layout": "IPY_MODEL_8fcb56c6db6041ef9b20efde361427a4",
            "_model_module": "@jupyter-widgets/controls",
            "children": [
              "IPY_MODEL_cc2c8721be2f42938f1ecfe3b2c5f735",
              "IPY_MODEL_2ed9af7dd7934b86ba98a3d575267ef4",
              "IPY_MODEL_7b1dca1a645f4220836d2151b49d823e",
              "IPY_MODEL_2446056814d84118b22d2d5b9958571e"
            ]
          }
        },
        "8fcb56c6db6041ef9b20efde361427a4": {
          "model_module": "@jupyter-widgets/base",
          "model_name": "LayoutModel",
          "state": {
            "_view_name": "LayoutView",
            "grid_template_rows": null,
            "right": null,
            "justify_content": null,
            "_view_module": "@jupyter-widgets/base",
            "overflow": null,
            "_model_module_version": "1.2.0",
            "_view_count": null,
            "flex_flow": null,
            "width": null,
            "min_width": null,
            "border": null,
            "align_items": null,
            "bottom": null,
            "_model_module": "@jupyter-widgets/base",
            "top": null,
            "grid_column": null,
            "overflow_y": null,
            "overflow_x": null,
            "grid_auto_flow": null,
            "grid_area": null,
            "grid_template_columns": null,
            "flex": null,
            "_model_name": "LayoutModel",
            "justify_items": null,
            "grid_row": null,
            "max_height": null,
            "align_content": null,
            "visibility": null,
            "align_self": null,
            "height": null,
            "min_height": null,
            "padding": null,
            "grid_auto_rows": null,
            "grid_gap": null,
            "max_width": null,
            "order": null,
            "_view_module_version": "1.2.0",
            "grid_template_areas": null,
            "object_position": null,
            "object_fit": null,
            "grid_auto_columns": null,
            "margin": null,
            "display": null,
            "left": null
          }
        },
        "cc2c8721be2f42938f1ecfe3b2c5f735": {
          "model_module": "@jupyter-widgets/controls",
          "model_name": "VBoxModel",
          "state": {
            "_view_name": "VBoxView",
            "_dom_classes": [],
            "_model_name": "VBoxModel",
            "_view_module": "@jupyter-widgets/controls",
            "_model_module_version": "1.5.0",
            "_view_count": null,
            "_view_module_version": "1.5.0",
            "box_style": "",
            "layout": "IPY_MODEL_12b5cc22b212485cb351c738feb86641",
            "_model_module": "@jupyter-widgets/controls",
            "children": [
              "IPY_MODEL_203e323092d147dc9fe6c3253743b1f3"
            ]
          }
        },
        "2ed9af7dd7934b86ba98a3d575267ef4": {
          "model_module": "@jupyter-widgets/controls",
          "model_name": "VBoxModel",
          "state": {
            "_view_name": "VBoxView",
            "_dom_classes": [],
            "_model_name": "VBoxModel",
            "_view_module": "@jupyter-widgets/controls",
            "_model_module_version": "1.5.0",
            "_view_count": null,
            "_view_module_version": "1.5.0",
            "box_style": "",
            "layout": "IPY_MODEL_a3c45dac2c5d4cb59ae2776c52ef6a91",
            "_model_module": "@jupyter-widgets/controls",
            "children": [
              "IPY_MODEL_c435341b2a3e4b94b90ea3e9ffc7071e",
              "IPY_MODEL_81418630d7584bccab47a30611905a6a"
            ]
          }
        },
        "7b1dca1a645f4220836d2151b49d823e": {
          "model_module": "@jupyter-widgets/controls",
          "model_name": "VBoxModel",
          "state": {
            "_view_name": "VBoxView",
            "_dom_classes": [],
            "_model_name": "VBoxModel",
            "_view_module": "@jupyter-widgets/controls",
            "_model_module_version": "1.5.0",
            "_view_count": null,
            "_view_module_version": "1.5.0",
            "box_style": "",
            "layout": "IPY_MODEL_d1f6aa2a71eb4e3b84d170d690deb73c",
            "_model_module": "@jupyter-widgets/controls",
            "children": [
              "IPY_MODEL_dc18984c600240dcb502805bf6b4cb34",
              "IPY_MODEL_427e6fba9cc24ab89af7a4ef254e4998"
            ]
          }
        },
        "2446056814d84118b22d2d5b9958571e": {
          "model_module": "@jupyter-widgets/controls",
          "model_name": "VBoxModel",
          "state": {
            "_view_name": "VBoxView",
            "_dom_classes": [],
            "_model_name": "VBoxModel",
            "_view_module": "@jupyter-widgets/controls",
            "_model_module_version": "1.5.0",
            "_view_count": null,
            "_view_module_version": "1.5.0",
            "box_style": "",
            "layout": "IPY_MODEL_16646534698d45e7b2bd642152b73177",
            "_model_module": "@jupyter-widgets/controls",
            "children": [
              "IPY_MODEL_7e51651e01e9497ca956059f4468076c",
              "IPY_MODEL_d69057e211bc4a09aee6c46f5776344b"
            ]
          }
        },
        "12b5cc22b212485cb351c738feb86641": {
          "model_module": "@jupyter-widgets/base",
          "model_name": "LayoutModel",
          "state": {
            "_view_name": "LayoutView",
            "grid_template_rows": null,
            "right": null,
            "justify_content": null,
            "_view_module": "@jupyter-widgets/base",
            "overflow": null,
            "_model_module_version": "1.2.0",
            "_view_count": null,
            "flex_flow": null,
            "width": null,
            "min_width": null,
            "border": null,
            "align_items": null,
            "bottom": null,
            "_model_module": "@jupyter-widgets/base",
            "top": null,
            "grid_column": null,
            "overflow_y": null,
            "overflow_x": null,
            "grid_auto_flow": null,
            "grid_area": null,
            "grid_template_columns": null,
            "flex": null,
            "_model_name": "LayoutModel",
            "justify_items": null,
            "grid_row": null,
            "max_height": null,
            "align_content": null,
            "visibility": null,
            "align_self": null,
            "height": null,
            "min_height": null,
            "padding": null,
            "grid_auto_rows": null,
            "grid_gap": null,
            "max_width": null,
            "order": null,
            "_view_module_version": "1.2.0",
            "grid_template_areas": null,
            "object_position": null,
            "object_fit": null,
            "grid_auto_columns": null,
            "margin": null,
            "display": null,
            "left": null
          }
        },
        "203e323092d147dc9fe6c3253743b1f3": {
          "model_module": "@jupyter-widgets/controls",
          "model_name": "FloatRangeSliderModel",
          "state": {
            "_view_name": "FloatRangeSliderView",
            "style": "IPY_MODEL_0d2ce6e3e44747a893c68c230628c37f",
            "_dom_classes": [],
            "description": "pi(1,2,3)",
            "step": 0.1,
            "_model_name": "FloatRangeSliderModel",
            "orientation": "horizontal",
            "max": 1,
            "_view_module": "@jupyter-widgets/controls",
            "_model_module_version": "1.5.0",
            "value": [
              0.3,
              0.6
            ],
            "_view_count": null,
            "disabled": false,
            "_view_module_version": "1.5.0",
            "min": 0,
            "continuous_update": true,
            "readout_format": ".2f",
            "description_tooltip": null,
            "readout": true,
            "_model_module": "@jupyter-widgets/controls",
            "layout": "IPY_MODEL_5082585f764247549b392174b2d981cf"
          }
        },
        "a3c45dac2c5d4cb59ae2776c52ef6a91": {
          "model_module": "@jupyter-widgets/base",
          "model_name": "LayoutModel",
          "state": {
            "_view_name": "LayoutView",
            "grid_template_rows": null,
            "right": null,
            "justify_content": null,
            "_view_module": "@jupyter-widgets/base",
            "overflow": null,
            "_model_module_version": "1.2.0",
            "_view_count": null,
            "flex_flow": null,
            "width": null,
            "min_width": null,
            "border": null,
            "align_items": null,
            "bottom": null,
            "_model_module": "@jupyter-widgets/base",
            "top": null,
            "grid_column": null,
            "overflow_y": null,
            "overflow_x": null,
            "grid_auto_flow": null,
            "grid_area": null,
            "grid_template_columns": null,
            "flex": null,
            "_model_name": "LayoutModel",
            "justify_items": null,
            "grid_row": null,
            "max_height": null,
            "align_content": null,
            "visibility": null,
            "align_self": null,
            "height": null,
            "min_height": null,
            "padding": null,
            "grid_auto_rows": null,
            "grid_gap": null,
            "max_width": null,
            "order": null,
            "_view_module_version": "1.2.0",
            "grid_template_areas": null,
            "object_position": null,
            "object_fit": null,
            "grid_auto_columns": null,
            "margin": null,
            "display": null,
            "left": null
          }
        },
        "c435341b2a3e4b94b90ea3e9ffc7071e": {
          "model_module": "@jupyter-widgets/controls",
          "model_name": "FloatSliderModel",
          "state": {
            "_view_name": "FloatSliderView",
            "style": "IPY_MODEL_1b565a6707b94c79817a6d8540c96971",
            "_dom_classes": [],
            "description": "mu_1",
            "step": 0.1,
            "_model_name": "FloatSliderModel",
            "orientation": "horizontal",
            "max": 100,
            "_view_module": "@jupyter-widgets/controls",
            "_model_module_version": "1.5.0",
            "value": 19,
            "_view_count": null,
            "disabled": false,
            "_view_module_version": "1.5.0",
            "min": 0,
            "continuous_update": true,
            "readout_format": ".2f",
            "description_tooltip": null,
            "readout": true,
            "_model_module": "@jupyter-widgets/controls",
            "layout": "IPY_MODEL_3a331eaed88c48c7aa716ba69b3d5e81"
          }
        },
        "81418630d7584bccab47a30611905a6a": {
          "model_module": "@jupyter-widgets/controls",
          "model_name": "FloatSliderModel",
          "state": {
            "_view_name": "FloatSliderView",
            "style": "IPY_MODEL_581f70036169453f9cc2b218f62cb697",
            "_dom_classes": [],
            "description": "sigma_1",
            "step": 0.1,
            "_model_name": "FloatSliderModel",
            "orientation": "horizontal",
            "max": 10,
            "_view_module": "@jupyter-widgets/controls",
            "_model_module_version": "1.5.0",
            "value": 10,
            "_view_count": null,
            "disabled": false,
            "_view_module_version": "1.5.0",
            "min": 1,
            "continuous_update": true,
            "readout_format": ".2f",
            "description_tooltip": null,
            "readout": true,
            "_model_module": "@jupyter-widgets/controls",
            "layout": "IPY_MODEL_f874d121f03e446db5aa092cb858d2a8"
          }
        },
        "d1f6aa2a71eb4e3b84d170d690deb73c": {
          "model_module": "@jupyter-widgets/base",
          "model_name": "LayoutModel",
          "state": {
            "_view_name": "LayoutView",
            "grid_template_rows": null,
            "right": null,
            "justify_content": null,
            "_view_module": "@jupyter-widgets/base",
            "overflow": null,
            "_model_module_version": "1.2.0",
            "_view_count": null,
            "flex_flow": null,
            "width": null,
            "min_width": null,
            "border": null,
            "align_items": null,
            "bottom": null,
            "_model_module": "@jupyter-widgets/base",
            "top": null,
            "grid_column": null,
            "overflow_y": null,
            "overflow_x": null,
            "grid_auto_flow": null,
            "grid_area": null,
            "grid_template_columns": null,
            "flex": null,
            "_model_name": "LayoutModel",
            "justify_items": null,
            "grid_row": null,
            "max_height": null,
            "align_content": null,
            "visibility": null,
            "align_self": null,
            "height": null,
            "min_height": null,
            "padding": null,
            "grid_auto_rows": null,
            "grid_gap": null,
            "max_width": null,
            "order": null,
            "_view_module_version": "1.2.0",
            "grid_template_areas": null,
            "object_position": null,
            "object_fit": null,
            "grid_auto_columns": null,
            "margin": null,
            "display": null,
            "left": null
          }
        },
        "dc18984c600240dcb502805bf6b4cb34": {
          "model_module": "@jupyter-widgets/controls",
          "model_name": "FloatSliderModel",
          "state": {
            "_view_name": "FloatSliderView",
            "style": "IPY_MODEL_79f6eebf3a27431fa5814f929db6239f",
            "_dom_classes": [],
            "description": "mu_2",
            "step": 0.1,
            "_model_name": "FloatSliderModel",
            "orientation": "horizontal",
            "max": 100,
            "_view_module": "@jupyter-widgets/controls",
            "_model_module_version": "1.5.0",
            "value": 50,
            "_view_count": null,
            "disabled": false,
            "_view_module_version": "1.5.0",
            "min": 0,
            "continuous_update": true,
            "readout_format": ".2f",
            "description_tooltip": null,
            "readout": true,
            "_model_module": "@jupyter-widgets/controls",
            "layout": "IPY_MODEL_7ed759334b7943c08681adaf4fab5d2d"
          }
        },
        "427e6fba9cc24ab89af7a4ef254e4998": {
          "model_module": "@jupyter-widgets/controls",
          "model_name": "FloatSliderModel",
          "state": {
            "_view_name": "FloatSliderView",
            "style": "IPY_MODEL_9e9a5f0b5b4a4534a7fc58339e4da321",
            "_dom_classes": [],
            "description": "sigma_2",
            "step": 0.1,
            "_model_name": "FloatSliderModel",
            "orientation": "horizontal",
            "max": 10,
            "_view_module": "@jupyter-widgets/controls",
            "_model_module_version": "1.5.0",
            "value": 10,
            "_view_count": null,
            "disabled": false,
            "_view_module_version": "1.5.0",
            "min": 1,
            "continuous_update": true,
            "readout_format": ".2f",
            "description_tooltip": null,
            "readout": true,
            "_model_module": "@jupyter-widgets/controls",
            "layout": "IPY_MODEL_216859d1e2504262ae8d14b8f11af3e5"
          }
        },
        "16646534698d45e7b2bd642152b73177": {
          "model_module": "@jupyter-widgets/base",
          "model_name": "LayoutModel",
          "state": {
            "_view_name": "LayoutView",
            "grid_template_rows": null,
            "right": null,
            "justify_content": null,
            "_view_module": "@jupyter-widgets/base",
            "overflow": null,
            "_model_module_version": "1.2.0",
            "_view_count": null,
            "flex_flow": null,
            "width": null,
            "min_width": null,
            "border": null,
            "align_items": null,
            "bottom": null,
            "_model_module": "@jupyter-widgets/base",
            "top": null,
            "grid_column": null,
            "overflow_y": null,
            "overflow_x": null,
            "grid_auto_flow": null,
            "grid_area": null,
            "grid_template_columns": null,
            "flex": null,
            "_model_name": "LayoutModel",
            "justify_items": null,
            "grid_row": null,
            "max_height": null,
            "align_content": null,
            "visibility": null,
            "align_self": null,
            "height": null,
            "min_height": null,
            "padding": null,
            "grid_auto_rows": null,
            "grid_gap": null,
            "max_width": null,
            "order": null,
            "_view_module_version": "1.2.0",
            "grid_template_areas": null,
            "object_position": null,
            "object_fit": null,
            "grid_auto_columns": null,
            "margin": null,
            "display": null,
            "left": null
          }
        },
        "7e51651e01e9497ca956059f4468076c": {
          "model_module": "@jupyter-widgets/controls",
          "model_name": "FloatSliderModel",
          "state": {
            "_view_name": "FloatSliderView",
            "style": "IPY_MODEL_16c2be4b89ab4ee8a61101ad6cd3b47b",
            "_dom_classes": [],
            "description": "mu_3",
            "step": 0.1,
            "_model_name": "FloatSliderModel",
            "orientation": "horizontal",
            "max": 100,
            "_view_module": "@jupyter-widgets/controls",
            "_model_module_version": "1.5.0",
            "value": 90,
            "_view_count": null,
            "disabled": false,
            "_view_module_version": "1.5.0",
            "min": 0,
            "continuous_update": true,
            "readout_format": ".2f",
            "description_tooltip": null,
            "readout": true,
            "_model_module": "@jupyter-widgets/controls",
            "layout": "IPY_MODEL_2f213df4c869457a8f106f5a40877576"
          }
        },
        "d69057e211bc4a09aee6c46f5776344b": {
          "model_module": "@jupyter-widgets/controls",
          "model_name": "FloatSliderModel",
          "state": {
            "_view_name": "FloatSliderView",
            "style": "IPY_MODEL_ab4107a1bd994b8481bd2a7428933c84",
            "_dom_classes": [],
            "description": "sigma_3",
            "step": 0.1,
            "_model_name": "FloatSliderModel",
            "orientation": "horizontal",
            "max": 10,
            "_view_module": "@jupyter-widgets/controls",
            "_model_module_version": "1.5.0",
            "value": 10,
            "_view_count": null,
            "disabled": false,
            "_view_module_version": "1.5.0",
            "min": 1,
            "continuous_update": true,
            "readout_format": ".2f",
            "description_tooltip": null,
            "readout": true,
            "_model_module": "@jupyter-widgets/controls",
            "layout": "IPY_MODEL_d2b61c8d5465427eb55a499f6925a087"
          }
        },
        "0d2ce6e3e44747a893c68c230628c37f": {
          "model_module": "@jupyter-widgets/controls",
          "model_name": "SliderStyleModel",
          "state": {
            "_view_name": "StyleView",
            "handle_color": null,
            "_model_name": "SliderStyleModel",
            "description_width": "",
            "_view_module": "@jupyter-widgets/base",
            "_model_module_version": "1.5.0",
            "_view_count": null,
            "_view_module_version": "1.2.0",
            "_model_module": "@jupyter-widgets/controls"
          }
        },
        "5082585f764247549b392174b2d981cf": {
          "model_module": "@jupyter-widgets/base",
          "model_name": "LayoutModel",
          "state": {
            "_view_name": "LayoutView",
            "grid_template_rows": null,
            "right": null,
            "justify_content": null,
            "_view_module": "@jupyter-widgets/base",
            "overflow": null,
            "_model_module_version": "1.2.0",
            "_view_count": null,
            "flex_flow": null,
            "width": null,
            "min_width": null,
            "border": null,
            "align_items": null,
            "bottom": null,
            "_model_module": "@jupyter-widgets/base",
            "top": null,
            "grid_column": null,
            "overflow_y": null,
            "overflow_x": null,
            "grid_auto_flow": null,
            "grid_area": null,
            "grid_template_columns": null,
            "flex": null,
            "_model_name": "LayoutModel",
            "justify_items": null,
            "grid_row": null,
            "max_height": null,
            "align_content": null,
            "visibility": null,
            "align_self": null,
            "height": null,
            "min_height": null,
            "padding": null,
            "grid_auto_rows": null,
            "grid_gap": null,
            "max_width": null,
            "order": null,
            "_view_module_version": "1.2.0",
            "grid_template_areas": null,
            "object_position": null,
            "object_fit": null,
            "grid_auto_columns": null,
            "margin": null,
            "display": null,
            "left": null
          }
        },
        "1b565a6707b94c79817a6d8540c96971": {
          "model_module": "@jupyter-widgets/controls",
          "model_name": "SliderStyleModel",
          "state": {
            "_view_name": "StyleView",
            "handle_color": null,
            "_model_name": "SliderStyleModel",
            "description_width": "",
            "_view_module": "@jupyter-widgets/base",
            "_model_module_version": "1.5.0",
            "_view_count": null,
            "_view_module_version": "1.2.0",
            "_model_module": "@jupyter-widgets/controls"
          }
        },
        "3a331eaed88c48c7aa716ba69b3d5e81": {
          "model_module": "@jupyter-widgets/base",
          "model_name": "LayoutModel",
          "state": {
            "_view_name": "LayoutView",
            "grid_template_rows": null,
            "right": null,
            "justify_content": null,
            "_view_module": "@jupyter-widgets/base",
            "overflow": null,
            "_model_module_version": "1.2.0",
            "_view_count": null,
            "flex_flow": null,
            "width": null,
            "min_width": null,
            "border": null,
            "align_items": null,
            "bottom": null,
            "_model_module": "@jupyter-widgets/base",
            "top": null,
            "grid_column": null,
            "overflow_y": null,
            "overflow_x": null,
            "grid_auto_flow": null,
            "grid_area": null,
            "grid_template_columns": null,
            "flex": null,
            "_model_name": "LayoutModel",
            "justify_items": null,
            "grid_row": null,
            "max_height": null,
            "align_content": null,
            "visibility": null,
            "align_self": null,
            "height": null,
            "min_height": null,
            "padding": null,
            "grid_auto_rows": null,
            "grid_gap": null,
            "max_width": null,
            "order": null,
            "_view_module_version": "1.2.0",
            "grid_template_areas": null,
            "object_position": null,
            "object_fit": null,
            "grid_auto_columns": null,
            "margin": null,
            "display": null,
            "left": null
          }
        },
        "581f70036169453f9cc2b218f62cb697": {
          "model_module": "@jupyter-widgets/controls",
          "model_name": "SliderStyleModel",
          "state": {
            "_view_name": "StyleView",
            "handle_color": null,
            "_model_name": "SliderStyleModel",
            "description_width": "",
            "_view_module": "@jupyter-widgets/base",
            "_model_module_version": "1.5.0",
            "_view_count": null,
            "_view_module_version": "1.2.0",
            "_model_module": "@jupyter-widgets/controls"
          }
        },
        "f874d121f03e446db5aa092cb858d2a8": {
          "model_module": "@jupyter-widgets/base",
          "model_name": "LayoutModel",
          "state": {
            "_view_name": "LayoutView",
            "grid_template_rows": null,
            "right": null,
            "justify_content": null,
            "_view_module": "@jupyter-widgets/base",
            "overflow": null,
            "_model_module_version": "1.2.0",
            "_view_count": null,
            "flex_flow": null,
            "width": null,
            "min_width": null,
            "border": null,
            "align_items": null,
            "bottom": null,
            "_model_module": "@jupyter-widgets/base",
            "top": null,
            "grid_column": null,
            "overflow_y": null,
            "overflow_x": null,
            "grid_auto_flow": null,
            "grid_area": null,
            "grid_template_columns": null,
            "flex": null,
            "_model_name": "LayoutModel",
            "justify_items": null,
            "grid_row": null,
            "max_height": null,
            "align_content": null,
            "visibility": null,
            "align_self": null,
            "height": null,
            "min_height": null,
            "padding": null,
            "grid_auto_rows": null,
            "grid_gap": null,
            "max_width": null,
            "order": null,
            "_view_module_version": "1.2.0",
            "grid_template_areas": null,
            "object_position": null,
            "object_fit": null,
            "grid_auto_columns": null,
            "margin": null,
            "display": null,
            "left": null
          }
        },
        "79f6eebf3a27431fa5814f929db6239f": {
          "model_module": "@jupyter-widgets/controls",
          "model_name": "SliderStyleModel",
          "state": {
            "_view_name": "StyleView",
            "handle_color": null,
            "_model_name": "SliderStyleModel",
            "description_width": "",
            "_view_module": "@jupyter-widgets/base",
            "_model_module_version": "1.5.0",
            "_view_count": null,
            "_view_module_version": "1.2.0",
            "_model_module": "@jupyter-widgets/controls"
          }
        },
        "7ed759334b7943c08681adaf4fab5d2d": {
          "model_module": "@jupyter-widgets/base",
          "model_name": "LayoutModel",
          "state": {
            "_view_name": "LayoutView",
            "grid_template_rows": null,
            "right": null,
            "justify_content": null,
            "_view_module": "@jupyter-widgets/base",
            "overflow": null,
            "_model_module_version": "1.2.0",
            "_view_count": null,
            "flex_flow": null,
            "width": null,
            "min_width": null,
            "border": null,
            "align_items": null,
            "bottom": null,
            "_model_module": "@jupyter-widgets/base",
            "top": null,
            "grid_column": null,
            "overflow_y": null,
            "overflow_x": null,
            "grid_auto_flow": null,
            "grid_area": null,
            "grid_template_columns": null,
            "flex": null,
            "_model_name": "LayoutModel",
            "justify_items": null,
            "grid_row": null,
            "max_height": null,
            "align_content": null,
            "visibility": null,
            "align_self": null,
            "height": null,
            "min_height": null,
            "padding": null,
            "grid_auto_rows": null,
            "grid_gap": null,
            "max_width": null,
            "order": null,
            "_view_module_version": "1.2.0",
            "grid_template_areas": null,
            "object_position": null,
            "object_fit": null,
            "grid_auto_columns": null,
            "margin": null,
            "display": null,
            "left": null
          }
        },
        "9e9a5f0b5b4a4534a7fc58339e4da321": {
          "model_module": "@jupyter-widgets/controls",
          "model_name": "SliderStyleModel",
          "state": {
            "_view_name": "StyleView",
            "handle_color": null,
            "_model_name": "SliderStyleModel",
            "description_width": "",
            "_view_module": "@jupyter-widgets/base",
            "_model_module_version": "1.5.0",
            "_view_count": null,
            "_view_module_version": "1.2.0",
            "_model_module": "@jupyter-widgets/controls"
          }
        },
        "216859d1e2504262ae8d14b8f11af3e5": {
          "model_module": "@jupyter-widgets/base",
          "model_name": "LayoutModel",
          "state": {
            "_view_name": "LayoutView",
            "grid_template_rows": null,
            "right": null,
            "justify_content": null,
            "_view_module": "@jupyter-widgets/base",
            "overflow": null,
            "_model_module_version": "1.2.0",
            "_view_count": null,
            "flex_flow": null,
            "width": null,
            "min_width": null,
            "border": null,
            "align_items": null,
            "bottom": null,
            "_model_module": "@jupyter-widgets/base",
            "top": null,
            "grid_column": null,
            "overflow_y": null,
            "overflow_x": null,
            "grid_auto_flow": null,
            "grid_area": null,
            "grid_template_columns": null,
            "flex": null,
            "_model_name": "LayoutModel",
            "justify_items": null,
            "grid_row": null,
            "max_height": null,
            "align_content": null,
            "visibility": null,
            "align_self": null,
            "height": null,
            "min_height": null,
            "padding": null,
            "grid_auto_rows": null,
            "grid_gap": null,
            "max_width": null,
            "order": null,
            "_view_module_version": "1.2.0",
            "grid_template_areas": null,
            "object_position": null,
            "object_fit": null,
            "grid_auto_columns": null,
            "margin": null,
            "display": null,
            "left": null
          }
        },
        "16c2be4b89ab4ee8a61101ad6cd3b47b": {
          "model_module": "@jupyter-widgets/controls",
          "model_name": "SliderStyleModel",
          "state": {
            "_view_name": "StyleView",
            "handle_color": null,
            "_model_name": "SliderStyleModel",
            "description_width": "",
            "_view_module": "@jupyter-widgets/base",
            "_model_module_version": "1.5.0",
            "_view_count": null,
            "_view_module_version": "1.2.0",
            "_model_module": "@jupyter-widgets/controls"
          }
        },
        "2f213df4c869457a8f106f5a40877576": {
          "model_module": "@jupyter-widgets/base",
          "model_name": "LayoutModel",
          "state": {
            "_view_name": "LayoutView",
            "grid_template_rows": null,
            "right": null,
            "justify_content": null,
            "_view_module": "@jupyter-widgets/base",
            "overflow": null,
            "_model_module_version": "1.2.0",
            "_view_count": null,
            "flex_flow": null,
            "width": null,
            "min_width": null,
            "border": null,
            "align_items": null,
            "bottom": null,
            "_model_module": "@jupyter-widgets/base",
            "top": null,
            "grid_column": null,
            "overflow_y": null,
            "overflow_x": null,
            "grid_auto_flow": null,
            "grid_area": null,
            "grid_template_columns": null,
            "flex": null,
            "_model_name": "LayoutModel",
            "justify_items": null,
            "grid_row": null,
            "max_height": null,
            "align_content": null,
            "visibility": null,
            "align_self": null,
            "height": null,
            "min_height": null,
            "padding": null,
            "grid_auto_rows": null,
            "grid_gap": null,
            "max_width": null,
            "order": null,
            "_view_module_version": "1.2.0",
            "grid_template_areas": null,
            "object_position": null,
            "object_fit": null,
            "grid_auto_columns": null,
            "margin": null,
            "display": null,
            "left": null
          }
        },
        "ab4107a1bd994b8481bd2a7428933c84": {
          "model_module": "@jupyter-widgets/controls",
          "model_name": "SliderStyleModel",
          "state": {
            "_view_name": "StyleView",
            "handle_color": null,
            "_model_name": "SliderStyleModel",
            "description_width": "",
            "_view_module": "@jupyter-widgets/base",
            "_model_module_version": "1.5.0",
            "_view_count": null,
            "_view_module_version": "1.2.0",
            "_model_module": "@jupyter-widgets/controls"
          }
        },
        "d2b61c8d5465427eb55a499f6925a087": {
          "model_module": "@jupyter-widgets/base",
          "model_name": "LayoutModel",
          "state": {
            "_view_name": "LayoutView",
            "grid_template_rows": null,
            "right": null,
            "justify_content": null,
            "_view_module": "@jupyter-widgets/base",
            "overflow": null,
            "_model_module_version": "1.2.0",
            "_view_count": null,
            "flex_flow": null,
            "width": null,
            "min_width": null,
            "border": null,
            "align_items": null,
            "bottom": null,
            "_model_module": "@jupyter-widgets/base",
            "top": null,
            "grid_column": null,
            "overflow_y": null,
            "overflow_x": null,
            "grid_auto_flow": null,
            "grid_area": null,
            "grid_template_columns": null,
            "flex": null,
            "_model_name": "LayoutModel",
            "justify_items": null,
            "grid_row": null,
            "max_height": null,
            "align_content": null,
            "visibility": null,
            "align_self": null,
            "height": null,
            "min_height": null,
            "padding": null,
            "grid_auto_rows": null,
            "grid_gap": null,
            "max_width": null,
            "order": null,
            "_view_module_version": "1.2.0",
            "grid_template_areas": null,
            "object_position": null,
            "object_fit": null,
            "grid_auto_columns": null,
            "margin": null,
            "display": null,
            "left": null
          }
        },
        "1d065b3ccff44212907073044cdd0df3": {
          "model_module": "@jupyter-widgets/output",
          "model_name": "OutputModel",
          "state": {
            "_view_name": "OutputView",
            "msg_id": "",
            "_dom_classes": [],
            "_model_name": "OutputModel",
            "outputs": [
              {
                "output_type": "display_data",
                "metadata": {
                  "tags": []
                },
                "image/png": "iVBORw0KGgoAAAANSUhEUgAAAnYAAAH1CAYAAAB7mLMSAAAABHNCSVQICAgIfAhkiAAAAAlwSFlz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\nAABJRU5ErkJggg==\n",
                "text/plain": "<Figure size 720x576 with 1 Axes>"
              }
            ],
            "_view_module": "@jupyter-widgets/output",
            "_model_module_version": "1.0.0",
            "_view_count": null,
            "_view_module_version": "1.0.0",
            "layout": "IPY_MODEL_183e7199fd5546799a40e85b9e1586a8",
            "_model_module": "@jupyter-widgets/output"
          }
        },
        "c63e5d6ab4de4393be659d4946d790f1": {
          "model_module": "@jupyter-widgets/controls",
          "model_name": "HBoxModel",
          "state": {
            "_view_name": "HBoxView",
            "_dom_classes": [],
            "_model_name": "HBoxModel",
            "_view_module": "@jupyter-widgets/controls",
            "_model_module_version": "1.5.0",
            "_view_count": null,
            "_view_module_version": "1.5.0",
            "box_style": "",
            "layout": "IPY_MODEL_f84c1f6dc1714afc8840c01d25db666f",
            "_model_module": "@jupyter-widgets/controls",
            "children": [
              "IPY_MODEL_c7430fddff004852a946e08abd8f77f1",
              "IPY_MODEL_06839108342b477282cb44211bc13baa"
            ]
          }
        },
        "f84c1f6dc1714afc8840c01d25db666f": {
          "model_module": "@jupyter-widgets/base",
          "model_name": "LayoutModel",
          "state": {
            "_view_name": "LayoutView",
            "grid_template_rows": null,
            "right": null,
            "justify_content": null,
            "_view_module": "@jupyter-widgets/base",
            "overflow": null,
            "_model_module_version": "1.2.0",
            "_view_count": null,
            "flex_flow": null,
            "width": null,
            "min_width": null,
            "border": null,
            "align_items": null,
            "bottom": null,
            "_model_module": "@jupyter-widgets/base",
            "top": null,
            "grid_column": null,
            "overflow_y": null,
            "overflow_x": null,
            "grid_auto_flow": null,
            "grid_area": null,
            "grid_template_columns": null,
            "flex": null,
            "_model_name": "LayoutModel",
            "justify_items": null,
            "grid_row": null,
            "max_height": null,
            "align_content": null,
            "visibility": null,
            "align_self": null,
            "height": null,
            "min_height": null,
            "padding": null,
            "grid_auto_rows": null,
            "grid_gap": null,
            "max_width": null,
            "order": null,
            "_view_module_version": "1.2.0",
            "grid_template_areas": null,
            "object_position": null,
            "object_fit": null,
            "grid_auto_columns": null,
            "margin": null,
            "display": null,
            "left": null
          }
        },
        "c7430fddff004852a946e08abd8f77f1": {
          "model_module": "@jupyter-widgets/controls",
          "model_name": "DropdownModel",
          "state": {
            "_options_labels": [
              "gaussian",
              "tophat",
              "epanechnikov",
              "exponential",
              "linear",
              "cosine"
            ],
            "_view_name": "DropdownView",
            "style": "IPY_MODEL_a6588fdf5fb94fc5afd29247248e4c46",
            "_dom_classes": [],
            "description": "Kernel:",
            "_model_name": "DropdownModel",
            "index": 0,
            "_view_module": "@jupyter-widgets/controls",
            "_model_module_version": "1.5.0",
            "_view_count": null,
            "disabled": false,
            "_view_module_version": "1.5.0",
            "description_tooltip": null,
            "_model_module": "@jupyter-widgets/controls",
            "layout": "IPY_MODEL_f0a6430250814e1cb8ef9bbe02a1b529"
          }
        },
        "06839108342b477282cb44211bc13baa": {
          "model_module": "@jupyter-widgets/controls",
          "model_name": "FloatSliderModel",
          "state": {
            "_view_name": "FloatSliderView",
            "style": "IPY_MODEL_f64906ebd20641deb017d880781d07e8",
            "_dom_classes": [],
            "description": "band width",
            "step": 0.1,
            "_model_name": "FloatSliderModel",
            "orientation": "horizontal",
            "max": 10,
            "_view_module": "@jupyter-widgets/controls",
            "_model_module_version": "1.5.0",
            "value": 6.1,
            "_view_count": null,
            "disabled": false,
            "_view_module_version": "1.5.0",
            "min": 0.1,
            "continuous_update": true,
            "readout_format": ".2f",
            "description_tooltip": null,
            "readout": true,
            "_model_module": "@jupyter-widgets/controls",
            "layout": "IPY_MODEL_d1eb3acd4eff4e61aae27ae1c9e03729"
          }
        },
        "a6588fdf5fb94fc5afd29247248e4c46": {
          "model_module": "@jupyter-widgets/controls",
          "model_name": "DescriptionStyleModel",
          "state": {
            "_view_name": "StyleView",
            "_model_name": "DescriptionStyleModel",
            "description_width": "",
            "_view_module": "@jupyter-widgets/base",
            "_model_module_version": "1.5.0",
            "_view_count": null,
            "_view_module_version": "1.2.0",
            "_model_module": "@jupyter-widgets/controls"
          }
        },
        "f0a6430250814e1cb8ef9bbe02a1b529": {
          "model_module": "@jupyter-widgets/base",
          "model_name": "LayoutModel",
          "state": {
            "_view_name": "LayoutView",
            "grid_template_rows": null,
            "right": null,
            "justify_content": null,
            "_view_module": "@jupyter-widgets/base",
            "overflow": null,
            "_model_module_version": "1.2.0",
            "_view_count": null,
            "flex_flow": null,
            "width": null,
            "min_width": null,
            "border": null,
            "align_items": null,
            "bottom": null,
            "_model_module": "@jupyter-widgets/base",
            "top": null,
            "grid_column": null,
            "overflow_y": null,
            "overflow_x": null,
            "grid_auto_flow": null,
            "grid_area": null,
            "grid_template_columns": null,
            "flex": null,
            "_model_name": "LayoutModel",
            "justify_items": null,
            "grid_row": null,
            "max_height": null,
            "align_content": null,
            "visibility": null,
            "align_self": null,
            "height": null,
            "min_height": null,
            "padding": null,
            "grid_auto_rows": null,
            "grid_gap": null,
            "max_width": null,
            "order": null,
            "_view_module_version": "1.2.0",
            "grid_template_areas": null,
            "object_position": null,
            "object_fit": null,
            "grid_auto_columns": null,
            "margin": null,
            "display": null,
            "left": null
          }
        },
        "f64906ebd20641deb017d880781d07e8": {
          "model_module": "@jupyter-widgets/controls",
          "model_name": "SliderStyleModel",
          "state": {
            "_view_name": "StyleView",
            "handle_color": null,
            "_model_name": "SliderStyleModel",
            "description_width": "",
            "_view_module": "@jupyter-widgets/base",
            "_model_module_version": "1.5.0",
            "_view_count": null,
            "_view_module_version": "1.2.0",
            "_model_module": "@jupyter-widgets/controls"
          }
        },
        "d1eb3acd4eff4e61aae27ae1c9e03729": {
          "model_module": "@jupyter-widgets/base",
          "model_name": "LayoutModel",
          "state": {
            "_view_name": "LayoutView",
            "grid_template_rows": null,
            "right": null,
            "justify_content": null,
            "_view_module": "@jupyter-widgets/base",
            "overflow": null,
            "_model_module_version": "1.2.0",
            "_view_count": null,
            "flex_flow": null,
            "width": null,
            "min_width": null,
            "border": null,
            "align_items": null,
            "bottom": null,
            "_model_module": "@jupyter-widgets/base",
            "top": null,
            "grid_column": null,
            "overflow_y": null,
            "overflow_x": null,
            "grid_auto_flow": null,
            "grid_area": null,
            "grid_template_columns": null,
            "flex": null,
            "_model_name": "LayoutModel",
            "justify_items": null,
            "grid_row": null,
            "max_height": null,
            "align_content": null,
            "visibility": null,
            "align_self": null,
            "height": null,
            "min_height": null,
            "padding": null,
            "grid_auto_rows": null,
            "grid_gap": null,
            "max_width": null,
            "order": null,
            "_view_module_version": "1.2.0",
            "grid_template_areas": null,
            "object_position": null,
            "object_fit": null,
            "grid_auto_columns": null,
            "margin": null,
            "display": null,
            "left": null
          }
        },
        "e6ea58f0c880461b90181eab025405c9": {
          "model_module": "@jupyter-widgets/output",
          "model_name": "OutputModel",
          "state": {
            "_view_name": "OutputView",
            "msg_id": "",
            "_dom_classes": [],
            "_model_name": "OutputModel",
            "outputs": [
              {
                "output_type": "display_data",
                "metadata": {
                  "tags": []
                },
                "image/png": "iVBORw0KGgoAAAANSUhEUgAAAnYAAAH1CAYAAAB7mLMSAAAABHNCSVQICAgIfAhkiAAAAAlwSFlz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\nEREREdkEN3ZERERENsGNHREREZFN/B8c6XCfKJe+tQAAAABJRU5ErkJggg==\n",
                "text/plain": "<Figure size 720x576 with 1 Axes>"
              }
            ],
            "_view_module": "@jupyter-widgets/output",
            "_model_module_version": "1.0.0",
            "_view_count": null,
            "_view_module_version": "1.0.0",
            "layout": "IPY_MODEL_75f4245b52c649ff96ae3a4e928a508a",
            "_model_module": "@jupyter-widgets/output"
          }
        }
      }
    }
  },
  "cells": [
    {
      "cell_type": "markdown",
      "metadata": {
        "id": "view-in-github",
        "colab_type": "text"
      },
      "source": [
        "<a href=\"https://colab.research.google.com/github/fbeilstein/machine_learning/blob/master/lecture_13_kernel_density_estimation.ipynb\" target=\"_parent\"><img src=\"https://colab.research.google.com/assets/colab-badge.svg\" alt=\"Open In Colab\"/></a>"
      ]
    },
    {
      "cell_type": "markdown",
      "metadata": {
        "id": "BJ-DUq6MoqWc",
        "colab_type": "text"
      },
      "source": [
        "#Kernel density estimation / Ядрова оцінка густини розподілу"
      ]
    },
    {
      "cell_type": "markdown",
      "metadata": {
        "id": "gZYadnN3sfQi",
        "colab_type": "text"
      },
      "source": [
        "**K**ernel **D**ensity **E**stimation (KDE) is a technique for estimation of probability distribution of the random variable.\n",
        "Before we had two instruments for that:\n",
        "* histograms to capture emphirical frequencies to approximate underlying probability distribution;\n",
        "* guessing a family of probability distributions that the data probably follows and estimating parameters (using MLE) of a most fit of these distributions.\n",
        "\n",
        "KDE is another option for us. It can be seen as an extention of the histogram technique."
      ]
    },
    {
      "cell_type": "markdown",
      "metadata": {
        "id": "g2i9dmgzT0jN",
        "colab_type": "text"
      },
      "source": [
        "#Motivating KDE: Histograms"
      ]
    },
    {
      "cell_type": "markdown",
      "metadata": {
        "id": "3lzFBpANoxck",
        "colab_type": "text"
      },
      "source": [
        "Although histograms are useful and widely used it's also true that\n",
        "\n",
        "$$\n",
        "\\text{Histograms are trickier than they seem.}\n",
        "$$\n",
        "\n",
        "The bins sizes and location could be chosen in many ways. This can drastically change the overall shape of the histogram."
      ]
    },
    {
      "cell_type": "code",
      "metadata": {
        "id": "FgTGp-GsT13k",
        "colab_type": "code",
        "outputId": "064a4be7-a2d8-40e7-bd4c-622fb936501c",
        "colab": {
          "base_uri": "https://localhost:8080/",
          "height": 274
        }
      },
      "source": [
        "%matplotlib inline\n",
        "import matplotlib.pyplot as plt\n",
        "import seaborn as sns; sns.set()\n",
        "import numpy as np\n",
        "\n",
        "def make_data(N, f=0.3, rseed=1):\n",
        "  rand = np.random.RandomState(rseed)\n",
        "  x = rand.randn(N)\n",
        "  x[int(f * N):] += 5\n",
        "  return x\n",
        "\n",
        "x = make_data(1000)\n",
        "hist = plt.hist(x, bins=30, density=True)"
      ],
      "execution_count": 0,
      "outputs": [
        {
          "output_type": "display_data",
          "data": {
            "image/png": "[encoded data removed]",
            "text/plain": [
              "<Figure size 432x288 with 1 Axes>"
            ]
          },
          "metadata": {
            "tags": []
          }
        }
      ]
    },
    {
      "cell_type": "code",
      "metadata": {
        "id": "wybFbOtjtMuS",
        "colab_type": "code",
        "outputId": "6fd9e0e2-0aeb-4716-8240-7c80a2060a7e",
        "colab": {
          "base_uri": "https://localhost:8080/",
          "height": 34
        }
      },
      "source": [
        "# histogram is normed = area equa to 1\n",
        "density, bins, patches = hist\n",
        "widths = bins[1:] - bins[:-1]\n",
        "(density * widths).sum()"
      ],
      "execution_count": 0,
      "outputs": [
        {
          "output_type": "execute_result",
          "data": {
            "text/plain": [
              "1.0"
            ]
          },
          "metadata": {
            "tags": []
          },
          "execution_count": 6
        }
      ]
    },
    {
      "cell_type": "markdown",
      "metadata": {
        "id": "bLtxb-45122v",
        "colab_type": "text"
      },
      "source": [
        "The issue is that depending on the bins the histograms may have different *qualitive* features. Consider this."
      ]
    },
    {
      "cell_type": "code",
      "metadata": {
        "id": "BgtT92WP1Y26",
        "colab_type": "code",
        "outputId": "3581bdbe-4723-4cbb-ffde-cc94afae90c9",
        "colab": {
          "base_uri": "https://localhost:8080/",
          "height": 274
        }
      },
      "source": [
        "x = make_data(20)\n",
        "bins = np.linspace(-5, 10, 10)\n",
        "fig, ax = plt.subplots(1, 2, figsize=(12, 4), sharex=True, sharey=True, subplot_kw={'xlim':(-4, 9), 'ylim':(-0.02, 0.3)})\n",
        "fig.subplots_adjust(wspace=0.05)\n",
        "for i, offset in enumerate([0.0, 0.6]):\n",
        "  ax[i].hist(x, bins=bins + offset, density=True)\n",
        "  ax[i].plot(x, np.full_like(x, -0.01), '|k', markeredgewidth=1)\n",
        "  \n"
      ],
      "execution_count": 0,
      "outputs": [
        {
          "output_type": "display_data",
          "data": {
            "image/png": "[encoded data removed]",
            "text/plain": [
              "<Figure size 864x288 with 2 Axes>"
            ]
          },
          "metadata": {
            "tags": []
          }
        }
      ]
    },
    {
      "cell_type": "markdown",
      "metadata": {
        "id": "aAoW_Glkphhh",
        "colab_type": "text"
      },
      "source": [
        "So it the underlying distribution bimodal or unimodal?\n",
        "\n",
        "---\n",
        "\n",
        "**Sidenote** \n",
        "\n",
        "---\n",
        "\n",
        "On the above picture we have used **a rug plot** -- a plot of data for a single quantitative variable, displayed as marks along an axis. As such it is analogous to a histogram with zero-width bins, or a one-dimensional scatter plot.\n",
        "Rug plots are often used in combination with two-dimensional scatter plots by placing a rug plot of the x values of the data along the x-axis, and similarly for the y values. This is the origin of the term \"rug plot\", as these rug plots with perpendicular markers look like tassels along the edges of the rectangular \"rug\" of the scatter plot.\n",
        "\n",
        "---\n",
        "\n",
        "We can try to solve the problem with the ambiguity of the bin choice by the following idea.\n",
        "You can rethink histogram as square blocks stacked on each other. Each block represents one point of data. If several datapoints are contained within one bin their blocks are placed one at the top of the other."
      ]
    },
    {
      "cell_type": "code",
      "metadata": {
        "id": "nlOSSBRl155E",
        "colab_type": "code",
        "outputId": "a2ffb0d3-9471-4d68-ca35-41e4c912160a",
        "colab": {
          "base_uri": "https://localhost:8080/",
          "height": 274
        }
      },
      "source": [
        "fig, ax = plt.subplots()\n",
        "bins = np.arange(-3, 8)\n",
        "ax.plot(x, np.full_like(x, -0.1), '|k', markeredgewidth=1)\n",
        "for count, edge in zip(*np.histogram(x, bins)):\n",
        "  for i in range(count):\n",
        "    ax.add_patch(plt.Rectangle((edge, i), 1, 1, alpha=0.5))\n",
        "    ax.set_xlim(-4, 8)\n",
        "    ax.set_ylim(-0.2, 8)"
      ],
      "execution_count": 0,
      "outputs": [
        {
          "output_type": "display_data",
          "data": {
            "image/png": "[encoded data removed]",
            "text/plain": [
              "<Figure size 432x288 with 1 Axes>"
            ]
          },
          "metadata": {
            "tags": []
          }
        }
      ]
    },
    {
      "cell_type": "markdown",
      "metadata": {
        "id": "yn5kCMDVpuIa",
        "colab_type": "text"
      },
      "source": [
        "But what if we placed each block so its center is just below the point it represents."
      ]
    },
    {
      "cell_type": "code",
      "metadata": {
        "id": "PmaIt2FW2XD9",
        "colab_type": "code",
        "outputId": "29fca3e3-6bf5-400f-9cf8-db443c4db1a6",
        "colab": {
          "base_uri": "https://localhost:8080/",
          "height": 274
        }
      },
      "source": [
        "x_d = np.linspace(-4, 8, 2000)\n",
        "density = sum((abs(xi - x_d) < 0.5) for xi in x)\n",
        "plt.fill_between(x_d, density, alpha=0.5)\n",
        "plt.plot(x, np.full_like(x, -0.1), '|k', markeredgewidth=1)\n",
        "plt.axis([-4, 8, -0.2, 8]);"
      ],
      "execution_count": 0,
      "outputs": [
        {
          "output_type": "display_data",
          "data": {
            "image/png": "[encoded data removed]",
            "text/plain": [
              "<Figure size 432x288 with 1 Axes>"
            ]
          },
          "metadata": {
            "tags": []
          }
        }
      ]
    },
    {
      "cell_type": "markdown",
      "metadata": {
        "id": "C7LI-9YHtiZZ",
        "colab_type": "text"
      },
      "source": [
        "Analytically this can be seen as if we have placed a \"square\" function (kernel) centered at each point and then we have summed all the functions up.\n",
        "\n",
        "![](https://raw.githubusercontent.com/fbeilstein/machine_learning/master/lecture_13/tophat.png) \n",
        "\n",
        "<br>\n",
        "\n",
        "This type of kernel is called top hat as it recalls a flat-crowned hat (aka cylinder - another term that is both a hat and a math object). The length of the kernel function has not have to be equal to the height.\n",
        "\n",
        "<br>\n",
        "\n",
        "![](https://raw.githubusercontent.com/fbeilstein/machine_learning/master/lecture_13/hat.png) \n",
        "\n",
        "<br>\n",
        "\n",
        "Now to make things not so \"right angled\" we can sum up smooth functions (for example Gaussians) instead of rectangular shapes (top hats)."
      ]
    },
    {
      "cell_type": "code",
      "metadata": {
        "id": "0NuMPFTb2k4v",
        "colab_type": "code",
        "outputId": "dfbb187a-ee23-46d8-a381-e456b9b2d09e",
        "colab": {
          "base_uri": "https://localhost:8080/",
          "height": 274
        }
      },
      "source": [
        "from scipy.stats import norm\n",
        "\n",
        "x_d = np.linspace(-4, 8, 1000)\n",
        "density = sum(norm(xi).pdf(x_d) for xi in x)\n",
        "plt.fill_between(x_d, density, alpha=0.5)\n",
        "plt.plot(x, np.full_like(x, -0.1), '|k', markeredgewidth=1)\n",
        "plt.axis([-4, 8, -0.2, 5]);\n",
        "\n",
        "# a Gaussian kernel"
      ],
      "execution_count": 0,
      "outputs": [
        {
          "output_type": "display_data",
          "data": {
            "image/png": "[encoded data removed]",
            "text/plain": [
              "<Figure size 432x288 with 1 Axes>"
            ]
          },
          "metadata": {
            "tags": []
          }
        }
      ]
    },
    {
      "cell_type": "markdown",
      "metadata": {
        "id": "UKtTyenQ21oM",
        "colab_type": "text"
      },
      "source": [
        "#Kernel Density Estimation "
      ]
    },
    {
      "cell_type": "markdown",
      "metadata": {
        "id": "spIbstS6H-qt",
        "colab_type": "text"
      },
      "source": [
        "In order to do KDE we need to make our mind about two things:\n",
        "  * kernel, which specifies the shape of the distribution placed at each point\n",
        "  * kernel bandwidth, which controls the size of the kernel at each point\n"
      ]
    },
    {
      "cell_type": "markdown",
      "metadata": {
        "id": "mmMie2p4_Nr0",
        "colab_type": "text"
      },
      "source": [
        "##Choosing kernel"
      ]
    },
    {
      "cell_type": "markdown",
      "metadata": {
        "id": "RU6-AjKD_S15",
        "colab_type": "text"
      },
      "source": [
        "On every data point $x_i$ we place a *kernel* function $K$. The kernel density estimate is then\n",
        "\n",
        "$$\n",
        "\\hat{f}_h(x)=\\frac{1}{Nh}\\sum_{i=1}^N K\\left(\\frac{x-x_i}{h}\\right),\n",
        "$$\n",
        "\n",
        "where $h$ is the scaling parameter caled *bandwidth*.\n",
        "\n",
        "In fact we can subtitute equal factors of $1/N$ with weights that can emphasize one points against the others:\n",
        "\n",
        "$$\n",
        "\\begin{aligned}\n",
        "& \\hat{f}_h(x)=\\frac{1}{h}\\sum_{i=1}^N w_i \\cdot K\\left(\\frac{x-x_i}{h}\\right), \\\\\n",
        "&\\sum_{i=1}^N w_i=1.\n",
        "\\end{aligned}\n",
        "$$\n",
        "\n",
        "The kernel function is typically\n",
        "* non-negative: $K(x) \\geq 0$;\n",
        "* symmetric: $\\,\\,\\,\\,\\, K(x)=K(-x)$;\n",
        "* decreasing: $\\,\\,\\,\\, K'(x)\\leq 0$;\n",
        "* $\\int K(x)dx=1$.\n",
        "\n",
        "$K$ has either compact support or decrease sufficiently fast approaching infinity.\n",
        "\n",
        "In the multivariate case (with $d$ dimensions) we have\n",
        "\n",
        "$$\n",
        "\\hat{f}_h(x)=\\frac{1}{Nh^d}\\sum_{i=1}^N K\\left(\\frac{\\|x-x_i\\|}{h}\\right),\n",
        "$$\n",
        "\n",
        "where $\\|\\cdot \\|$ is a some kind of norm, for example $p$-norm\n",
        "\n",
        "$$ \n",
        "\\|x\\|_p = \\left(\\sum_i |x_i|^p \\right)^{1/p}\n",
        "$$\n",
        "\n",
        "Although it's fun to see how the choise of kernel and metric affects the outcome,  it doesn't matter so much when there are lots of points.\n",
        "\n",
        "Nonetheless, what are our options when choosing the kernels?"
      ]
    },
    {
      "cell_type": "code",
      "metadata": {
        "id": "4R5k0DYyy0nl",
        "colab_type": "code",
        "outputId": "78b81d40-54ec-467f-99d1-f84042c624e6",
        "cellView": "form",
        "colab": {
          "base_uri": "https://localhost:8080/",
          "height": 393
        }
      },
      "source": [
        "#@title Available kernels\n",
        "\n",
        "import numpy as np\n",
        "import matplotlib\n",
        "import matplotlib.pyplot as plt\n",
        "from distutils.version import LooseVersion\n",
        "from scipy.stats import norm\n",
        "from sklearn.neighbors import KernelDensity\n",
        "\n",
        "\n",
        "X_plot = np.linspace(-6, 6, 1000)[:, None]\n",
        "X_src = np.zeros((1, 1))\n",
        "\n",
        "fig, ax = plt.subplots(2, 3, sharex=True, sharey=True, figsize=(10, 6))\n",
        "fig.subplots_adjust(left=0.05, right=0.95, hspace=0.05, wspace=0.05)\n",
        "\n",
        "\n",
        "def format_func(x, loc):\n",
        "    if x == 0:\n",
        "        return '0'\n",
        "    elif x == 1:\n",
        "        return 'h'\n",
        "    elif x == -1:\n",
        "        return '-h'\n",
        "    else:\n",
        "        return '%ih' % x\n",
        "\n",
        "for i, kernel in enumerate(['gaussian', 'tophat', 'epanechnikov',\n",
        "                            'exponential', 'linear', 'cosine']):\n",
        "    axi = ax.ravel()[i]\n",
        "    log_dens = KernelDensity(kernel=kernel).fit(X_src).score_samples(X_plot)\n",
        "    axi.fill(X_plot[:, 0], np.exp(log_dens), '-k', fc='#AAAAFF')\n",
        "    axi.text(-2.6, 0.95, kernel)\n",
        "\n",
        "    axi.xaxis.set_major_formatter(plt.FuncFormatter(format_func))\n",
        "    axi.xaxis.set_major_locator(plt.MultipleLocator(1))\n",
        "    axi.yaxis.set_major_locator(plt.NullLocator())\n",
        "\n",
        "    axi.set_ylim(0, 1.05)\n",
        "    axi.set_xlim(-2.9, 2.9)\n",
        "\n",
        "ax[0, 1].set_title('Available Kernels');\n"
      ],
      "execution_count": 0,
      "outputs": [
        {
          "output_type": "display_data",
          "data": {
            "image/png": "[encoded data removed]",
            "text/plain": [
              "<Figure size 720x432 with 6 Axes>"
            ]
          },
          "metadata": {
            "tags": []
          }
        }
      ]
    },
    {
      "cell_type": "markdown",
      "metadata": {
        "id": "VVGzEnOy8qkx",
        "colab_type": "text"
      },
      "source": [
        "$$\n",
        "\\begin{aligned}\n",
        "& K_{\\text{Gausian}}(x;h) && \\propto \\quad e^{-\\frac{x^2}{2h^2}}; \\\\\n",
        "& K_{\\text{Tophat}}(x;h) && \\propto \\quad 1, &&& \\text{if   } \\quad x<h; \\\\\n",
        "& K_{\\text{Epanechnikov}}(x;h) && \\propto \\quad 1-\\frac{x^2}{h^2}; \\\\\n",
        "& K_{\\text{Exponential}}(x;h) && \\propto \\quad e^{-\\frac{x}{h}}; \\\\\n",
        "& K_{\\text{Linear}}(x;h) && \\propto \\quad 1-\\frac{|x|}{h}, &&& \\text{if   } \\quad |x|<h; \\\\\n",
        "& K_{\\text{Cosine}}(x;h) && \\propto \\quad \\cos{\\frac{\\pi x}{2 h}}, &&& \\text{if   } \\quad x<h. \\\\\n",
        "\\end{aligned}\n",
        "$$\n",
        "\n",
        "you can choose those by setting `kernel` parameter:\n",
        "* `kernel = 'gaussian';`\n",
        "* `kernel = 'tophat';`\n",
        "* `kernel = 'epanechnikov';`\n",
        "* `kernel = 'exponential';`\n",
        "* `kernel = 'linear';`\n",
        "* `kernel = 'cosine'.`"
      ]
    },
    {
      "cell_type": "markdown",
      "metadata": {
        "id": "UkuES-PX_H28",
        "colab_type": "text"
      },
      "source": [
        "##Choosing bandwidth"
      ]
    },
    {
      "cell_type": "markdown",
      "metadata": {
        "id": "EWh6vAx9_l39",
        "colab_type": "text"
      },
      "source": [
        "The choice of bandwidth within KDE is extremely important (the bias–variance trade-off).\n",
        "\n",
        "   *  too narrow a bandwidth leads to a high-variance estimate (i.e., overfitting)\n",
        "   * too wide a bandwidth leads to a high-bias estimate (i.e., underfitting)\n",
        "\n",
        "<br>\n",
        "\n",
        "   ![](https://raw.githubusercontent.com/fbeilstein/machine_learning/master/lecture_13/band.png) "
      ]
    },
    {
      "cell_type": "markdown",
      "metadata": {
        "id": "am_w-S6sMY4X",
        "colab_type": "text"
      },
      "source": [
        "###Theoretical considerations"
      ]
    },
    {
      "cell_type": "markdown",
      "metadata": {
        "id": "SXcsA8-Wt3y9",
        "colab_type": "text"
      },
      "source": [
        "The most common optimality criterion used to select this parameter is the expected $L_2$ risk function, also termed the **mean integrated squared error**:\n",
        "\n",
        "$$\\text{MISE}(h)=\\mathbb{E}\\left[\\int \\left(\\hat{f}_h(x)-f(x)\\right)^2 dx \\right].$$\n",
        "\n",
        "Under weak assumptions on $f$ and $K$\n",
        "\n",
        "$$\n",
        "\\text{MISE}(h)=\\text{AMISE}(h)+o\\left(\\frac{1}{Nh}+h^4\\right).\n",
        "$$\n",
        "\n",
        "The $\\text{AMISE}$ is the **A**symptotic **MISE** which consists of the two leading terms\n",
        "\n",
        "$$\n",
        "\\text{AMISE}(h)=\\frac{R(K)}{Nh}+\\frac{1}{4}m_2(K)^2h^4R(f''),\n",
        "$$\n",
        "\n",
        "where $R(g)=\\int g(x)^2 dx$ and $m_2(K)=\\int x^2 K(x) dx$. Thus\n",
        "* $R(g)$ is the functional $L_2$-norm;\n",
        "* $m_2(K)=\\mathbb{E}_K[x^2]$ is the so-called $2$-nd non-central moment of the kernel.\n",
        "\n",
        "The minimum of this $\\text{AMISE}$ is the solution to this differential equation\n",
        "\n",
        "$$\n",
        "\\begin{aligned}\n",
        "& \\frac{\\partial}{\\partial h}\\text{AMISE}(h) =-\\frac{R(K)}{N h^2}+m_2(K)^2h^3R(f'')=0 \\color{red}{\\Rightarrow} \\\\\n",
        "& \\color{red}{\\Rightarrow} \\qquad h_{\\text{AMISE}} =\\frac{R(K)^{1/5}}{m_2(K)^{2/5} R(f'')^{1/5}N^{1/5}}.\n",
        "\\end{aligned}\n",
        "$$\n",
        "\n",
        "Neither the $\\text{AMISE}$ nor the $h_\\text{AMISE}$ formulas are able to be used directly since they involve the unknown density function $f$ or its second derivative $f''$, so a variety of automatic, data-based methods have been developed for selecting the bandwidth."
      ]
    },
    {
      "cell_type": "markdown",
      "metadata": {
        "id": "ikXJjC-IJR7B",
        "colab_type": "text"
      },
      "source": [
        "###Silverman's Rule of Thumb"
      ]
    },
    {
      "cell_type": "markdown",
      "metadata": {
        "id": "F9e1Z4OmJT0W",
        "colab_type": "text"
      },
      "source": [
        "If the data is unimodal and close to normal, silverman’s rule of thumb may be used. It’s computationally very fast, but derived by assuming that the true density is normal. This is somewhat paradoxal, since if we knew that the data was truly normal it would render a kernel density estimator unnecessary.\n",
        "\n",
        "$$\n",
        "h=\\left(\\frac{4}{3}\\frac{\\hat{\\sigma}^5}{N}\\right)^{\\frac{1}{5}}.\n",
        "$$"
      ]
    },
    {
      "cell_type": "markdown",
      "metadata": {
        "id": "501YP8v3J1bf",
        "colab_type": "text"
      },
      "source": [
        "###Improved Sheather-Jones (ISJ) algorithm "
      ]
    },
    {
      "cell_type": "markdown",
      "metadata": {
        "id": "8BSBQb_hJ4oZ",
        "colab_type": "text"
      },
      "source": [
        "If much data is available and the data is far from normal or multimodal, the **I**mproved **S**heather **J**ones (ISJ) algorithm may be used. The Improved Sheather-Jones algorithm is a plug-in selector. \n",
        "\n",
        "The ISJ algorithm attempts to find h to minimize the asymptotic mean integrated square error ($\\text{AMISE}$), which depends on the unknown quantity $\\|f''(x)\\|^2$. Using a recursive formula, this is accomplished by computing a sequence of estimates."
      ]
    },
    {
      "cell_type": "markdown",
      "metadata": {
        "id": "q8stjXouIyTz",
        "colab_type": "text"
      },
      "source": [
        "###Selecting the bandwidth via cross-validation"
      ]
    },
    {
      "cell_type": "markdown",
      "metadata": {
        "id": "Zfi2oWy-JZe7",
        "colab_type": "text"
      },
      "source": [
        ""
      ]
    },
    {
      "cell_type": "code",
      "metadata": {
        "id": "P_6K4w_3Izgz",
        "colab_type": "code",
        "outputId": "f9e39b77-e5b2-4eca-9800-879c83423287",
        "colab": {
          "base_uri": "https://localhost:8080/",
          "height": 34
        }
      },
      "source": [
        "from sklearn.model_selection import learning_curve, GridSearchCV\n",
        "from sklearn.model_selection import LeaveOneOut #train_test_split\n",
        "\n",
        "bandwidths = 10 ** np.linspace(-1, 1, 100)\n",
        "loo = LeaveOneOut()\n",
        "grid = GridSearchCV(KernelDensity(kernel='gaussian'), {'bandwidth': bandwidths}, cv=loo)\n",
        "grid.fit(x[:, None]);\n",
        "grid.best_params_"
      ],
      "execution_count": 0,
      "outputs": [
        {
          "output_type": "execute_result",
          "data": {
            "text/plain": [
              "{'bandwidth': 1.1233240329780276}"
            ]
          },
          "metadata": {
            "tags": []
          },
          "execution_count": 20
        }
      ]
    },
    {
      "cell_type": "markdown",
      "metadata": {
        "id": "JGrdMpBf_vRg",
        "colab_type": "text"
      },
      "source": [
        "#How to use"
      ]
    },
    {
      "cell_type": "code",
      "metadata": {
        "id": "YkXbzJ0IIPu8",
        "colab_type": "code",
        "outputId": "86967f10-9a16-44d1-a1ab-343b3bc452eb",
        "colab": {
          "base_uri": "https://localhost:8080/",
          "height": 291
        }
      },
      "source": [
        "from sklearn.neighbors import KernelDensity\n",
        "# instantiate and fit the KDE model\n",
        "kde = KernelDensity(bandwidth=1.0, kernel='gaussian')\n",
        "kde.fit(x[:, None])\n",
        "# score_samples returns the log of the probability density\n",
        "logprob = kde.score_samples(x_d[:, None])\n",
        "plt.fill_between(x_d, np.exp(logprob), alpha=0.5)\n",
        "plt.plot(x, np.full_like(x, -0.01), '|k', markeredgewidth=1)\n",
        "plt.ylim(-0.02, 0.22)"
      ],
      "execution_count": 0,
      "outputs": [
        {
          "output_type": "execute_result",
          "data": {
            "text/plain": [
              "(-0.02, 0.22)"
            ]
          },
          "metadata": {
            "tags": []
          },
          "execution_count": 16
        },
        {
          "output_type": "display_data",
          "data": {
            "image/png": "[encoded data removed]",
            "text/plain": [
              "<Figure size 432x288 with 1 Axes>"
            ]
          },
          "metadata": {
            "tags": []
          }
        }
      ]
    },
    {
      "cell_type": "markdown",
      "metadata": {
        "id": "_FQr-h66b1Rc",
        "colab_type": "text"
      },
      "source": [
        "# KDE as Mixture Model"
      ]
    },
    {
      "cell_type": "markdown",
      "metadata": {
        "id": "SLNAG4SBb6l2",
        "colab_type": "text"
      },
      "source": [
        "We see that KDE reminds MM taken to the extreme: the number of components we throw into the mix equals the number of points.\n",
        "\n",
        "<br>\n",
        "\n",
        "![](https://raw.githubusercontent.com/fbeilstein/machine_learning/master/lecture_13/mix.png) \n",
        "\n",
        "<br>\n",
        "\n",
        "If the number of point is huge the \"shot noise\" from the individual points becomes negligible and the overall underlying distibution hopefully emerges."
      ]
    },
    {
      "cell_type": "markdown",
      "metadata": {
        "id": "g0l9p82WsLpQ",
        "colab_type": "text"
      },
      "source": [
        "#Gaussian blur"
      ]
    },
    {
      "cell_type": "markdown",
      "metadata": {
        "id": "NluhuiqvsOgO",
        "colab_type": "text"
      },
      "source": [
        "We have seen that histograms may be misleading. Also they are \"grainy\" as they discretize (sample) continuous data. Pdf estimate could be kept smooth by using gaussian KDE.\n",
        "\n",
        "Idea similar to gaussian KDE is involved in Gaussian smoothing of images.\n",
        "In image processing, a Gaussian blur (also known as Gaussian smoothing) is the result of blurring an image by a Gaussian function. It is a widely used effect in graphics software, typically to reduce image noise and reduce detail. A Gaussian blur effect is typically generated by convolving an image with a kernel of Gaussian values. \n",
        "\n",
        "<br>\n",
        "\n",
        "![](https://raw.githubusercontent.com/fbeilstein/machine_learning/master/lecture_13/blur.png) \n",
        "\n",
        "<br>\n",
        "\n",
        "Let's first sample image (keeping $1$ pixel out of $10$ along each dimension). What we get is an analog of a histogram. If we perform a Gaussian blur afterwards we regain some of the smootheness.\n",
        "\n",
        "<br>\n",
        "\n",
        "![](https://raw.githubusercontent.com/fbeilstein/machine_learning/master/lecture_13/lena_1.png) \n",
        "\n",
        "<br>"
      ]
    },
    {
      "cell_type": "markdown",
      "metadata": {
        "id": "Im1uI0JtK-WE",
        "colab_type": "text"
      },
      "source": [
        "#Example: KDE on a Sphere"
      ]
    },
    {
      "cell_type": "markdown",
      "metadata": {
        "id": "T9vRb2sc9XHB",
        "colab_type": "text"
      },
      "source": [
        "Perhaps the most common use of KDE is in graphically representing distributions of points. For example, in the `Seaborn visualization library` KDE is built in and automatically used to help visualize points in one and two dimensions.\n",
        "Here we will look at a slightly more sophisticated use of KDE for visualization of distributions. We will make use of some geographic data that can be loaded with `ScikitLearn`: the geographic distributions of recorded observations of two South American mammals, *Bradypus variegatus* (the brown-throated sloth) and *Microryzomys minutus* (the forest small rice rat).\n",
        "\n",
        "<br>\n",
        "\n",
        "![](https://raw.githubusercontent.com/fbeilstein/machine_learning/master/lecture_13/anim.png) \n",
        "\n"
      ]
    },
    {
      "cell_type": "code",
      "metadata": {
        "id": "-k347bdQU5zu",
        "colab_type": "code",
        "outputId": "3126c0c2-7834-4731-8005-32deece4a8fa",
        "colab": {
          "base_uri": "https://localhost:8080/",
          "height": 34
        }
      },
      "source": [
        "import numpy as np\n",
        "\n",
        "!sudo apt-get install libgeos-dev > /dev/null\n",
        "!sudo pip3 install -U git+https://github.com/matplotlib/basemap.git > /dev/null\n",
        "from sklearn.datasets import fetch_species_distributions\n",
        "data = fetch_species_distributions();\n",
        "# Get matrices/arrays of species IDs and locations\n",
        "latlon = np.vstack([data.train['dd lat'], data.train['dd long']]).T\n",
        "species = np.array([d.decode('ascii').startswith('micro') for d in data.train['species']], dtype='int')"
      ],
      "execution_count": 0,
      "outputs": [
        {
          "output_type": "stream",
          "text": [
            "  Running command git clone -q https://github.com/matplotlib/basemap.git /tmp/pip-req-build-dy6g376t\n"
          ],
          "name": "stdout"
        }
      ]
    },
    {
      "cell_type": "code",
      "metadata": {
        "id": "ht6ErJtEUd7W",
        "colab_type": "code",
        "outputId": "cacf4e45-2b21-4498-e72f-4369b0b18145",
        "colab": {
          "base_uri": "https://localhost:8080/",
          "height": 260
        }
      },
      "source": [
        "from mpl_toolkits.basemap import Basemap\n",
        "from sklearn.datasets.species_distributions import construct_grids\n",
        "xgrid, ygrid = construct_grids(data)\n",
        "\n",
        "# plot coastlines with Basemap\n",
        "m = Basemap(projection='cyl', resolution='c', llcrnrlat=ygrid.min(), urcrnrlat=ygrid.max(), llcrnrlon=xgrid.min(), urcrnrlon=xgrid.max())\n",
        "m.drawmapboundary(fill_color='#DDEEFF')\n",
        "m.fillcontinents(color='#FFEEDD')\n",
        "m.drawcoastlines(color='gray', zorder=2)\n",
        "m.drawcountries(color='gray', zorder=2)\n",
        "\n",
        "# plot locations\n",
        "m.scatter(latlon[:, 1], latlon[:, 0], zorder=3, c=species, cmap='rainbow', latlon=True);"
      ],
      "execution_count": 0,
      "outputs": [
        {
          "output_type": "display_data",
          "data": {
            "image/png": "[encoded data removed]",
            "text/plain": [
              "<Figure size 432x288 with 1 Axes>"
            ]
          },
          "metadata": {
            "tags": []
          }
        }
      ]
    },
    {
      "cell_type": "markdown",
      "metadata": {
        "id": "FtUmpFHM8iyo",
        "colab_type": "text"
      },
      "source": [
        "Unfortunately, this doesn’t give a very good idea of the density of the species, because points in the species range may overlap one another. You may not realize it by looking at this plot, but there are over $1600$ points shown here!\n",
        "Let’s use kernel density estimation to show this distribution in a more interpretable way: as a smooth indication of density on the map. Because the coordinate system here lies on a spherical surface rather than a flat plane, we will use the haversine distance metric, which will correctly represent distances on a curved surface.\n",
        "\n",
        "**Note**:\n",
        "The *haversine formula* determines the great-circle distance between two points on a sphere given their longitudes and latitudes. Important in navigation, it is a special case of a more general formula in spherical trigonometry, the law of haversines, that relates the sides and angles of spherical triangles.\n",
        "\n",
        "$$\n",
        "d=2r\\arcsin{\\sqrt{\\sin^2\\left(\\frac{\\phi_2-\\phi_1}{2}\\right)+\\cos{\\phi_1}\\cdot \\cos{\\phi_2}\\cdot \\sin^2\\left(\\frac{\\lambda_2-\\lambda_1}{2} \\right)}},\n",
        "$$\n",
        "\n",
        "where \n",
        "* $d$ is the distance between the two points along a great circle of the sphere;\n",
        "* $\\phi$ -- latitude of point;\n",
        "* $\\lambda$ -- longitude of point.\n",
        "\n",
        "The term haversine  is due to haversine $\\text{hav}$ function that was used instead of $\\sin$ in the formula.\n",
        "\n",
        "$$\n",
        "\\text{hav}(x)=\\sin^2\\left(\\frac{x}{2}\\right).\n",
        "$$\n",
        "\n",
        "So if we rewrite the formula above using haversine it will read\n",
        "\n",
        "$$\n",
        "\\text{hav}(\\Theta)=\\text{hav}(\\phi_2-\\phi_1)+\\cos{\\phi_1} \\cdot \\cos{\\phi_2} \\cdot \\text{hav}(\\lambda_2-\\lambda_1),\n",
        "$$\n",
        "\n",
        "with $\\Theta=\\frac{d}{r}$ is central angle between any two points on a sphere."
      ]
    },
    {
      "cell_type": "code",
      "metadata": {
        "id": "FmwkQlE4XwLE",
        "colab_type": "code",
        "outputId": "689c9e60-8b12-4dcc-9b03-798d4c58c39c",
        "colab": {
          "base_uri": "https://localhost:8080/",
          "height": 270
        }
      },
      "source": [
        "# Set up the data grid for the contour plot\n",
        "X, Y = np.meshgrid(xgrid[::5], ygrid[::5][::-1])\n",
        "land_reference = data.coverages[6][::5, ::5]\n",
        "land_mask = (land_reference > -9999).ravel()\n",
        "xy = np.vstack([Y.ravel(), X.ravel()]).T\n",
        "xy = np.radians(xy[land_mask])\n",
        "\n",
        "# Create two side-by-side plots\n",
        "fig, ax = plt.subplots(1, 2)\n",
        "fig.subplots_adjust(left=0.05, right=0.95, wspace=0.05)\n",
        "species_names = ['Bradypus Variegatus', 'Microryzomys Minutus']\n",
        "cmaps = ['Purples', 'Reds']\n",
        "\n",
        "for i, axi in enumerate(ax):\n",
        "  axi.set_title(species_names[i])\n",
        "\n",
        "  # plot coastlines with Basemap\n",
        "  m = Basemap(projection='cyl', llcrnrlat=Y.min(), urcrnrlat=Y.max(), llcrnrlon=X.min(), urcrnrlon=X.max(), resolution='c', ax=axi)\n",
        "  m.drawmapboundary(fill_color='#DDEEFF')\n",
        "  m.drawcoastlines()\n",
        "  m.drawcountries()\n",
        "  \n",
        "  # construct a spherical kernel density estimate of the distribution\n",
        "  kde = KernelDensity(bandwidth=0.03, metric='haversine')\n",
        "  kde.fit(np.radians(latlon[species == i]))\n",
        "\n",
        "  # evaluate only on the land: -9999 indicates ocean\n",
        "  Z = np.full(land_mask.shape[0], -9999.0)\n",
        "  Z[land_mask] = np.exp(kde.score_samples(xy))\n",
        "  Z = Z.reshape(X.shape)\n",
        "  \n",
        "  # plot contours of the density\n",
        "  levels = np.linspace(0, Z.max(), 25)\n",
        "  axi.contourf(X, Y, Z, levels=levels, cmap=cmaps[i])  "
      ],
      "execution_count": 0,
      "outputs": [
        {
          "output_type": "display_data",
          "data": {
            "image/png": "[encoded data removed]",
            "text/plain": [
              "<Figure size 432x288 with 2 Axes>"
            ]
          },
          "metadata": {
            "tags": []
          }
        }
      ]
    },
    {
      "cell_type": "markdown",
      "metadata": {
        "id": "6ZtWndy68RsU",
        "colab_type": "text"
      },
      "source": [
        "Now we have a much clearer picture of the geographical distribution of observation of two species.\n",
        "\n"
      ]
    },
    {
      "cell_type": "markdown",
      "metadata": {
        "id": "dMIOJrA8-qJm",
        "colab_type": "text"
      },
      "source": [
        "#Example: Fisher irisis"
      ]
    },
    {
      "cell_type": "markdown",
      "metadata": {
        "id": "oYoPWo8B-J-a",
        "colab_type": "text"
      },
      "source": [
        "Here is another example of nice visualization.\n",
        "\n",
        "<br>\n",
        "\n",
        "![](https://raw.githubusercontent.com/fbeilstein/machine_learning/master/lecture_13/iris.png) "
      ]
    },
    {
      "cell_type": "code",
      "metadata": {
        "id": "WjK03ydaP665",
        "colab_type": "code",
        "outputId": "64493c30-e80e-46c2-8050-c496b114f78c",
        "colab": {
          "base_uri": "https://localhost:8080/",
          "height": 519
        }
      },
      "source": [
        "import seaborn as sns\n",
        "import matplotlib.pyplot as plt\n",
        "\n",
        "sns.set(style=\"darkgrid\")\n",
        "iris = sns.load_dataset(\"iris\")\n",
        "\n",
        "setosa = iris.query(\"species == 'setosa'\")\n",
        "virginica = iris.query(\"species == 'virginica'\")\n",
        "\n",
        "f, ax = plt.subplots(figsize=(8, 8))\n",
        "ax.set_aspect(\"equal\")\n",
        "\n",
        "ax = sns.kdeplot(setosa.sepal_width, setosa.sepal_length,\n",
        "                 cmap=\"Reds\", shade=True, shade_lowest=False)\n",
        "ax = sns.kdeplot(virginica.sepal_width, virginica.sepal_length,\n",
        "                 cmap=\"Blues\", shade=True, shade_lowest=False)\n",
        "\n",
        "red = sns.color_palette(\"Reds\")[-2]\n",
        "blue = sns.color_palette(\"Blues\")[-2]\n",
        "ax.text(2.5, 8.2, \"virginica\", size=16, color=blue)\n",
        "ax.text(3.8, 4.5, \"setosa\", size=16, color=red)"
      ],
      "execution_count": 0,
      "outputs": [
        {
          "output_type": "execute_result",
          "data": {
            "text/plain": [
              "Text(3.8, 4.5, 'setosa')"
            ]
          },
          "metadata": {
            "tags": []
          },
          "execution_count": 3
        },
        {
          "output_type": "display_data",
          "data": {
            "image/png": "[encoded data removed]",
            "text/plain": [
              "<Figure size 576x576 with 1 Axes>"
            ]
          },
          "metadata": {
            "tags": []
          }
        }
      ]
    },
    {
      "cell_type": "markdown",
      "metadata": {
        "id": "7k45DaaLYONo",
        "colab_type": "text"
      },
      "source": [
        "#Example: Not-So-Naive Bayes"
      ]
    },
    {
      "cell_type": "markdown",
      "metadata": {
        "id": "BJxcMR1ofrXE",
        "colab_type": "text"
      },
      "source": [
        "For naive Bayes, the generative model is a simple axis-aligned Gaussian.\n",
        "With a density estimation algorithm like KDE, we can remove the “naive” element and perform the same classification with a more sophisticated generative model for each class.\n",
        "It’s still Bayesian classification, but it’s no longer naive."
      ]
    },
    {
      "cell_type": "markdown",
      "metadata": {
        "id": "tQKL5Dj5f6R2",
        "colab_type": "text"
      },
      "source": [
        "1. Split the training data by label.\n",
        "2. For each set, fit a KDE to obtain a generative model of the data.\n",
        "This allows you for any observation x and label y to compute a likelihood $P(x|y)$.\n",
        "3. From the number of examples of each class in the training set, compute the class prior, $P(y)$ .\n",
        "4. For an unknown point x , the posterior probability for each class is $P(y|x)= P(x|y)P(y)$. The class that maximizes this posterior is the label assigned to the point."
      ]
    },
    {
      "cell_type": "markdown",
      "metadata": {
        "id": "1cepwUXc1AWu",
        "colab_type": "text"
      },
      "source": [
        "Let’s try this custom estimator on a problem we have seen before: the classification of handwritten digits. Here we will load the digits, and compute the cross-validation score for a range of candidate bandwidths using the `GridSearchCV` meta-estimator."
      ]
    },
    {
      "cell_type": "code",
      "metadata": {
        "id": "GQ9wdpBgYQIk",
        "colab_type": "code",
        "colab": {}
      },
      "source": [
        "from sklearn.base import BaseEstimator, ClassifierMixin\n",
        "from sklearn.neighbors import KernelDensity\n",
        "\n",
        "# BaseEstimator contains the logic necessary to clone/copy an estimator for use in a crossvalidation procedure\n",
        "# ClassifierMixin defines a default score() method used by such routines\n",
        "class KDEClassifier(BaseEstimator, ClassifierMixin):\n",
        "  \"\"\"Bayesian generative classification based on KDE\n",
        "  Parameters\n",
        "  ----------\n",
        "  bandwidth : float\n",
        "  the kernel bandwidth within each class\n",
        "  kernel : str\n",
        "  the kernel name, passed to KernelDensity\n",
        "  \"\"\"\n",
        "  def __init__(self, bandwidth=1.0, kernel='gaussian'):\n",
        "    self.bandwidth = bandwidth\n",
        "    self.kernel = kernel\n",
        "  \n",
        "  # find the unique classes in the training data, \n",
        "  # train a KernelDensity model for each class, \n",
        "  # compute the class priors based on the number of input samples.\n",
        "  def fit(self, X, y):\n",
        "    self.classes_ = np.sort(np.unique(y))\n",
        "    training_sets = [X[y == yi] for yi in self.classes_]\n",
        "    self.models_ = [KernelDensity(bandwidth=self.bandwidth, kernel=self.kernel).fit(Xi) for Xi in training_sets]\n",
        "    self.logpriors_ = [np.log(Xi.shape[0] / X.shape[0]) for Xi in training_sets]\n",
        "    return self # for chaining\n",
        "  \n",
        "  # predicting labels on new data\n",
        "  def predict_proba(self, X):\n",
        "    logprobs = np.array([model.score_samples(X) for model in self.models_]).T\n",
        "    result = np.exp(logprobs + self.logpriors_)\n",
        "    return result / result.sum(1, keepdims=True)\n",
        "  \n",
        "  def predict(self, X):\n",
        "    return self.classes_[np.argmax(self.predict_proba(X), 1)]"
      ],
      "execution_count": 0,
      "outputs": []
    },
    {
      "cell_type": "markdown",
      "metadata": {
        "id": "XrghJcTc0Vr1",
        "colab_type": "text"
      },
      "source": [
        "We now use this class."
      ]
    },
    {
      "cell_type": "code",
      "metadata": {
        "id": "gsqvNFAHm1Rn",
        "colab_type": "code",
        "colab": {}
      },
      "source": [
        "from sklearn.datasets import load_digits\n",
        "from sklearn.model_selection import GridSearchCV\n",
        "\n",
        "digits = load_digits()\n",
        "bandwidths = 10 ** np.linspace(0, 2, 100)\n",
        "grid = GridSearchCV(KDEClassifier(), {'bandwidth': bandwidths}, cv=3)\n",
        "grid.fit(digits.data, digits.target)\n",
        "scores = grid.cv_results_['mean_test_score']"
      ],
      "execution_count": 0,
      "outputs": []
    },
    {
      "cell_type": "code",
      "metadata": {
        "id": "Gtbz5bE0sL4I",
        "colab_type": "code",
        "outputId": "b535c305-2b20-45b7-fa16-a3fd50664e38",
        "colab": {
          "base_uri": "https://localhost:8080/",
          "height": 341
        }
      },
      "source": [
        "plt.semilogx(bandwidths, scores)\n",
        "plt.xlabel('bandwidth')\n",
        "plt.ylabel('accuracy')\n",
        "plt.title('KDE Model Performance')\n",
        "print(grid.best_params_)\n",
        "print('accuracy =', grid.best_score_)"
      ],
      "execution_count": 0,
      "outputs": [
        {
          "output_type": "stream",
          "text": [
            "{'bandwidth': 7.054802310718643}\n",
            "accuracy = 0.9666110183639399\n"
          ],
          "name": "stdout"
        },
        {
          "output_type": "display_data",
          "data": {
            "image/png": "[encoded data removed]",
            "text/plain": [
              "<Figure size 432x288 with 1 Axes>"
            ]
          },
          "metadata": {
            "tags": []
          }
        }
      ]
    },
    {
      "cell_type": "markdown",
      "metadata": {
        "id": "9RlumF2e1K3B",
        "colab_type": "text"
      },
      "source": [
        "We see that this not-so-naive Bayesian classifier reaches a cross-validation accuracy of just over $96\\%$; this is compared to around $80\\%$ for the naive Bayesian classification:\n"
      ]
    },
    {
      "cell_type": "code",
      "metadata": {
        "id": "dHkCW0Cks2EB",
        "colab_type": "code",
        "outputId": "c92124bb-f78f-4a1f-df84-51e82c0beb1e",
        "colab": {
          "base_uri": "https://localhost:8080/",
          "height": 34
        }
      },
      "source": [
        "from sklearn.naive_bayes import GaussianNB\n",
        "from sklearn.model_selection import cross_val_score\n",
        "cross_val_score(GaussianNB(), digits.data, digits.target, cv=3).mean()"
      ],
      "execution_count": 0,
      "outputs": [
        {
          "output_type": "execute_result",
          "data": {
            "text/plain": [
              "0.8186003803550138"
            ]
          },
          "metadata": {
            "tags": []
          },
          "execution_count": 22
        }
      ]
    },
    {
      "cell_type": "markdown",
      "metadata": {
        "id": "2khCd84S1XdG",
        "colab_type": "text"
      },
      "source": [
        "One benefit of such a generative classifier is interpretability of results: for each unknown sample, we not only get a probabilistic classification, but a full model of the distribution of points we are comparing it to! If desired, this offers an intuitive window into the reasons for a particular classification that algorithms like SVMs and random forests tend to obscure.\n",
        "If you would like to take this further, there are some improvements that could be made to our KDE classifier model:\n",
        "* We could allow the bandwidth in each class to vary independently.\n",
        "*  We could optimize these bandwidths not based on their prediction score, but on the likelihood of the training data under the generative model within each class (i.e., use the scores from KernelDensity itself rather than the global prediction accuracy)."
      ]
    },
    {
      "cell_type": "markdown",
      "metadata": {
        "id": "PDHneNbciGHf",
        "colab_type": "text"
      },
      "source": [
        "#Interactive KDE"
      ]
    },
    {
      "cell_type": "code",
      "metadata": {
        "id": "EEgY5TRliHyI",
        "colab_type": "code",
        "colab": {}
      },
      "source": [
        "from sklearn.neighbors import KernelDensity\n",
        "# instantiate and fit the KDE model\n",
        "kde = KernelDensity(kernel='gaussian')\n",
        "\n",
        "def fit_distribution(X, bandwidth):\n",
        "  params = {'bandwidth': bandwidth}\n",
        "  kde.set_params(**params)\n",
        "  kde.fit(X)\n",
        "\n",
        "def evaluate_distribution(X):\n",
        "  logprob = kde.score_samples(X)\n",
        "  return np.exp(logprob)"
      ],
      "execution_count": 0,
      "outputs": []
    },
    {
      "cell_type": "code",
      "metadata": {
        "id": "F9MusX0DiPPt",
        "colab_type": "code",
        "cellView": "form",
        "outputId": "ca4ebfde-07d2-4a96-83b7-d7284633048b",
        "colab": {
          "base_uri": "https://localhost:8080/",
          "height": 637
        }
      },
      "source": [
        "#@title Interactive KDE\n",
        "import numpy as np\n",
        "import matplotlib.pyplot as plt\n",
        "from matplotlib.colors import ListedColormap\n",
        "from matplotlib import cm\n",
        "import seaborn as sns\n",
        "        \n",
        "def plot_clusters(x_, y_, z_):\n",
        "  fig = plt.figure(figsize=(10,10))\n",
        "  ax = fig.gca()\n",
        "  #ax = sns.kdeplot(X[:,0], X[:,1], cmap=\"Blues\", shade=True, shade_lowest=False)\n",
        "  sns.set()\n",
        "  ax.contourf(x_, y_, z_, alpha=0.5, cmap=\"Blues\")\n",
        "  ax.tick_params(axis=\"y\",direction=\"in\", pad=-60)\n",
        "  ax.tick_params(axis=\"x\",direction=\"in\", pad=-30)\n",
        "  ax.set_xticks(np.arange(-.75, 1, .25))\n",
        "  ax.set_yticks(np.arange(-.75, 1, .25))\n",
        "  ax.set_xlim([-1, 1])\n",
        "  ax.set_ylim([-1, 1])\n",
        "\n",
        "\n",
        "  plt.close(fig)\n",
        "\n",
        "  return fig\n",
        "\n",
        "import base64\n",
        "import io\n",
        "\n",
        "def figure_to_base64(fig):\n",
        "  buf = io.BytesIO()\n",
        "  fig.savefig(buf, format='png', bbox_inches='tight', pad_inches=0);\n",
        "  image_base64 = base64.b64encode(buf.getvalue()).decode('utf-8').replace('\\n', '')\n",
        "  buf.close()\n",
        "  return image_base64\n",
        "\n",
        "\n",
        "\n",
        "import json\n",
        "from IPython.display import display, clear_output\n",
        "\n",
        "def invoke(pts, n):\n",
        "  data = np.array(pts).reshape((-1, 2))\n",
        "  X = data / 300.0 - 1.0\n",
        "  X[:, 1] *= -1.0\n",
        "\n",
        "  fit_distribution(X, float(n)/1000.0)\n",
        "  x_ = np.linspace(-1.0, +1.0, num=300)\n",
        "  y_ = np.linspace(-1.0, +1.0, num=300)\n",
        "  xx, yy = np.meshgrid(x_, y_)\n",
        "  x_vec = np.transpose(np.vstack([xx.ravel(), yy.ravel()]))\n",
        "  G  = evaluate_distribution(x_vec).reshape((x_.shape[0],y_.shape[0]))\n",
        "  figr = plot_clusters(x_, y_, G)\n",
        "  image_base64 = figure_to_base64(figr)\n",
        "\n",
        "  return IPython.display.JSON({'image': image_base64, \n",
        "                               'g_x': x_.tolist(), 'g_y': y_.tolist(), 'g_z': G.tolist(),\n",
        "                               's_x': X[:, 0].tolist(), 's_y': X[:, 1].tolist(), 's_z': [0]*len(X)})\n",
        "\n",
        "\n",
        "import IPython\n",
        "from google.colab import output\n",
        "\n",
        "main_str = '''\n",
        "  <script src=\"https://cdn.plot.ly/plotly-latest.min.js\"></script> \n",
        "  <script type=\"application/javascript\">\n",
        "  \n",
        "    var active_pt = null;\n",
        "    var all_pts = [];\n",
        "    var classAbtn = [650, 100];\n",
        "    var classBbtn = [650, 200];\n",
        "    var ptR = 10.0;\n",
        "    var params = null;\n",
        "    var debug_txt = \"\";\n",
        "    var bg_image = new Image();\n",
        "\n",
        "    function is_close(pt1, pt2) {\n",
        "      return   (pt1[0] - pt2[0])*(pt1[0] - pt2[0])\n",
        "            +  (pt1[1] - pt2[1])*(pt1[1] - pt2[1])\n",
        "            <= ptR*ptR;\n",
        "    }\n",
        "  \n",
        "    function circ(ctx, pos) {\n",
        "      ctx.beginPath();\n",
        "      ctx.arc(pos[0], pos[1], ptR, 0.0, 2.0 * Math.PI, 0);\n",
        "      ctx.fillStyle = 'rgba(255, 128, 0, 0.5)';\n",
        "      ctx.fill();\n",
        "    }\n",
        "    \n",
        "    \n",
        "    function draw() {\n",
        "      var canvas = document.getElementById('canvas');\n",
        "      if (canvas.getContext) {\n",
        "        var ctx = canvas.getContext('2d');\n",
        "        \n",
        "        ctx.clearRect(0, 0, canvas.width, canvas.height); // cleanup before start\n",
        "        ctx.drawImage(bg_image, 0, 0, 600, 600);\n",
        "        ctx.strokeRect(0, 0, 600, 600); // field\n",
        "        \n",
        "        ctx.font = '20px serif';\n",
        "        ctx.fillStyle = 'black';\n",
        "        ctx.fillText(debug_txt, 200, 200);\n",
        "        \n",
        "        if (active_pt) {\n",
        "          circ(ctx, [active_pt[0], active_pt[1]]);\n",
        "        }\n",
        "        all_pts.forEach(function (item, index) {\n",
        "          circ(ctx, [item[0], item[1]]);\n",
        "        });\n",
        "\n",
        "      }\n",
        "    }\n",
        "    \n",
        "    var timer\n",
        "\n",
        "    function get_state() {\n",
        "      var rates = document.getElementsByName('rate');\n",
        "      for(var i = 0; i < rates.length; i++)\n",
        "        if(rates[i].checked)\n",
        "          return rates[i].value;\n",
        "      return \"none\";\n",
        "    }\n",
        "\n",
        "    \n",
        "    function mdown_handle(evt) {\n",
        "      evt.stopPropagation();\n",
        "      x = evt.offsetX;\n",
        "      y = evt.offsetY;\n",
        "      state = get_state();\n",
        "      if (state == \"add\") {\n",
        "        if (x < 600)\n",
        "            all_pts.push([x, y]);\n",
        "        return;\n",
        "      }\n",
        "\n",
        "      idx = -1;\n",
        "      all_pts.forEach(function (item, index) {\n",
        "        if (is_close([x,y], [item[0], item[1]])) {\n",
        "          idx = index;\n",
        "        }\n",
        "      });\n",
        "      if (idx <= -1)\n",
        "          return;\n",
        "      if (state == \"move\") {\n",
        "        active_pt = all_pts[idx];\n",
        "        all_pts.splice(idx, 1);\n",
        "      }\n",
        "      if (state == \"del\")\n",
        "          all_pts.splice(idx, 1);\n",
        "    }\n",
        "    \n",
        "    function mmove_handle(evt) {\n",
        "      evt.stopPropagation();\n",
        "      if (get_state() != \"move\")\n",
        "          return;\n",
        "      x = evt.offsetX;\n",
        "      y = evt.offsetY;\n",
        "      if (active_pt) {\n",
        "        active_pt[0] = x;\n",
        "        active_pt[1] = y;\n",
        "      }\n",
        "    }\n",
        "    \n",
        "    function mup_handle(evt) {\n",
        "      evt.stopPropagation();\n",
        "      x = evt.offsetX;\n",
        "      y = evt.offsetY;\n",
        "      if (x >= 600) {\n",
        "        active_pt = null;\n",
        "      }\n",
        "      if (active_pt) {\n",
        "        all_pts.push(active_pt);\n",
        "        active_pt = null;\n",
        "      }\n",
        "    }\n",
        "    \n",
        "    function clear_field() {\n",
        "      active_pt = null;\n",
        "      all_pts = [];\n",
        "    }\n",
        "\n",
        "\n",
        "   function plot_3d(g_x, g_y, g_z)\n",
        "   {\n",
        "     cell_for_plot = document.getElementById('for_plotly_plot');\n",
        "     //Plotly.deleteTraces(cell_for_plot, [0, 1]);\n",
        "     var data = [{\n",
        "           x: g_x,\n",
        "           y: g_y,\n",
        "           z: g_z,\n",
        "           type: 'surface',\n",
        "           opacity: 0.9,\n",
        "           showscale: false,\n",
        "           colorscale: \"Viridis\"\n",
        "        }];\n",
        "  \n",
        "     var layout = {\n",
        "          title: 'pdf estimate',\n",
        "          autosize: false,\n",
        "          width: 600,\n",
        "          height: 600,\n",
        "          showlegend: false,\n",
        "          scene: {\n",
        "            camera: {\n",
        "              up: {x: 0, y: 1, z: 0},\n",
        "              center: {x: 0, y: 0, z: 0},\n",
        "              eye: {x: 0.0, y: -1.0, z: 1.4}\n",
        "            }\n",
        "          }\n",
        "        };\n",
        "     Plotly.newPlot(cell_for_plot, data, layout);\n",
        "   }\n",
        "\n",
        "   function plot_scatter(s_x, s_y, s_z)\n",
        "   {\n",
        "          \n",
        "     cell_for_plot = document.getElementById('for_plotly_plot');\n",
        "     var data = [{\n",
        "           x: s_x,\n",
        "           y: s_y,\n",
        "           z: s_z,\n",
        "           type: 'scatter3d',\n",
        "           mode: 'markers',\n",
        "           marker: {\n",
        "             size: 4,\n",
        "             colorscale: \"Viridis\",\n",
        "             line: {\n",
        "               width: 2,\n",
        "               color: 'rgba(0, 0, 0, 0.5)'\n",
        "             }\n",
        "           }\n",
        "        }];\n",
        "    Plotly.plot(cell_for_plot, data, {});\n",
        "   }\n",
        "\n",
        "\n",
        "    var cur_depth = 100;\n",
        "\n",
        "    async function calculate() {\n",
        "      if (!all_pts)\n",
        "        return;\n",
        "      var merged = [].concat.apply([], all_pts);\n",
        "      const result = await google.colab.kernel.invokeFunction('notebook.InvSVM', [merged, cur_depth], {});\n",
        "      params = result.data['application/json'];\n",
        "            \n",
        "      bg_image.src = 'data:image/  png;base64,' + params.image;\n",
        "      cell_for_plot = document.getElementById('for_plotly_plot');\n",
        "      \n",
        "      plot_3d(params.g_x, params.g_y, params.g_z);\n",
        "      plot_scatter(params.s_x, params.s_y, params.s_z);\n",
        "      \n",
        "    }\n",
        "\n",
        "   function h_change(x) {\n",
        "    el = document.getElementById(\"slider_val\");\n",
        "    cur_depth = x;\n",
        "    el.innerHTML = x;\n",
        "  }\n",
        "\n",
        " </script>\n",
        "\n",
        "<div id=\"everything\" style=\"height:600px;\">\n",
        "<div id=\"for_plotly_plot\" style=\"position:absolute; top:0px; left:0px; height:600px; width:600px;\">\n",
        "</div>\n",
        "<div id=\"custom_controls\" style=\"position:absolute; top:0px; left:600px;\">\n",
        "  <canvas id=\"canvas\" width=\"800\" height=\"600\" \n",
        "    onmousedown=\"mdown_handle(event)\"\n",
        "    onmousemove=\"mmove_handle(event)\"\n",
        "    onmouseup=\"mup_handle(event)\"></canvas>\n",
        "  <div style=\"position:absolute; top:275px; left:625px;\">\n",
        "   <div style=\"border-style: solid;\">\n",
        "    <input type=\"radio\" id=\"r1\" name=\"rate\" value=\"add\" checked=\"checked\"> Add Feature\n",
        "    <br>\n",
        "    <input type=\"radio\" id=\"r2\" name=\"rate\" value=\"move\"> Move Features\n",
        "    <br>\n",
        "    <input type=\"radio\" id=\"r3\" name=\"rate\" value=\"del\"> Delete Feature\n",
        "    <br>\n",
        "    <button type=\"button\" onclick=\"clear_field();\">\n",
        "      Clear\n",
        "    </button>\n",
        "   </div>\n",
        "   <br><br>Bandwidth x 1000:<br>\n",
        "    <input type=\"range\" min=\"1\" max=\"200\" value=\"100\" oninput=\"h_change(this.value)\">\n",
        "    <br><div id=\"slider_val\">100</div>\n",
        "   <br><br>\n",
        "    <button type=\"button\" onclick=\"calculate();\">\n",
        "      KDE\n",
        "    </button>\n",
        "  </div>\n",
        "</div>\n",
        "<div>\n",
        "  \n",
        "<script>\n",
        "function init()\n",
        "{\n",
        "  timer = setInterval(draw, 10);\n",
        "}\n",
        "\n",
        "init();\n",
        "</script>\n",
        "'''\n",
        "\n",
        "display(IPython.display.HTML(main_str))\n",
        "output.register_callback('notebook.InvSVM', invoke)"
      ],
      "execution_count": 5,
      "outputs": [
        {
          "output_type": "display_data",
          "data": {
            "text/html": [
              "\n",
              "  <script src=\"https://cdn.plot.ly/plotly-latest.min.js\"></script> \n",
              "  <script type=\"application/javascript\">\n",
              "  \n",
              "    var active_pt = null;\n",
              "    var all_pts = [];\n",
              "    var classAbtn = [650, 100];\n",
              "    var classBbtn = [650, 200];\n",
              "    var ptR = 10.0;\n",
              "    var params = null;\n",
              "    var debug_txt = \"\";\n",
              "    var bg_image = new Image();\n",
              "\n",
              "    function is_close(pt1, pt2) {\n",
              "      return   (pt1[0] - pt2[0])*(pt1[0] - pt2[0])\n",
              "            +  (pt1[1] - pt2[1])*(pt1[1] - pt2[1])\n",
              "            <= ptR*ptR;\n",
              "    }\n",
              "  \n",
              "    function circ(ctx, pos) {\n",
              "      ctx.beginPath();\n",
              "      ctx.arc(pos[0], pos[1], ptR, 0.0, 2.0 * Math.PI, 0);\n",
              "      ctx.fillStyle = 'rgba(255, 128, 0, 0.5)';\n",
              "      ctx.fill();\n",
              "    }\n",
              "    \n",
              "    \n",
              "    function draw() {\n",
              "      var canvas = document.getElementById('canvas');\n",
              "      if (canvas.getContext) {\n",
              "        var ctx = canvas.getContext('2d');\n",
              "        \n",
              "        ctx.clearRect(0, 0, canvas.width, canvas.height); // cleanup before start\n",
              "        ctx.drawImage(bg_image, 0, 0, 600, 600);\n",
              "        ctx.strokeRect(0, 0, 600, 600); // field\n",
              "        \n",
              "        ctx.font = '20px serif';\n",
              "        ctx.fillStyle = 'black';\n",
              "        ctx.fillText(debug_txt, 200, 200);\n",
              "        \n",
              "        if (active_pt) {\n",
              "          circ(ctx, [active_pt[0], active_pt[1]]);\n",
              "        }\n",
              "        all_pts.forEach(function (item, index) {\n",
              "          circ(ctx, [item[0], item[1]]);\n",
              "        });\n",
              "\n",
              "      }\n",
              "    }\n",
              "    \n",
              "    var timer\n",
              "\n",
              "    function get_state() {\n",
              "      var rates = document.getElementsByName('rate');\n",
              "      for(var i = 0; i < rates.length; i++)\n",
              "        if(rates[i].checked)\n",
              "          return rates[i].value;\n",
              "      return \"none\";\n",
              "    }\n",
              "\n",
              "    \n",
              "    function mdown_handle(evt) {\n",
              "      evt.stopPropagation();\n",
              "      x = evt.offsetX;\n",
              "      y = evt.offsetY;\n",
              "      state = get_state();\n",
              "      if (state == \"add\") {\n",
              "        if (x < 600)\n",
              "            all_pts.push([x, y]);\n",
              "        return;\n",
              "      }\n",
              "\n",
              "      idx = -1;\n",
              "      all_pts.forEach(function (item, index) {\n",
              "        if (is_close([x,y], [item[0], item[1]])) {\n",
              "          idx = index;\n",
              "        }\n",
              "      });\n",
              "      if (idx <= -1)\n",
              "          return;\n",
              "      if (state == \"move\") {\n",
              "        active_pt = all_pts[idx];\n",
              "        all_pts.splice(idx, 1);\n",
              "      }\n",
              "      if (state == \"del\")\n",
              "          all_pts.splice(idx, 1);\n",
              "    }\n",
              "    \n",
              "    function mmove_handle(evt) {\n",
              "      evt.stopPropagation();\n",
              "      if (get_state() != \"move\")\n",
              "          return;\n",
              "      x = evt.offsetX;\n",
              "      y = evt.offsetY;\n",
              "      if (active_pt) {\n",
              "        active_pt[0] = x;\n",
              "        active_pt[1] = y;\n",
              "      }\n",
              "    }\n",
              "    \n",
              "    function mup_handle(evt) {\n",
              "      evt.stopPropagation();\n",
              "      x = evt.offsetX;\n",
              "      y = evt.offsetY;\n",
              "      if (x >= 600) {\n",
              "        active_pt = null;\n",
              "      }\n",
              "      if (active_pt) {\n",
              "        all_pts.push(active_pt);\n",
              "        active_pt = null;\n",
              "      }\n",
              "    }\n",
              "    \n",
              "    function clear_field() {\n",
              "      active_pt = null;\n",
              "      all_pts = [];\n",
              "    }\n",
              "\n",
              "\n",
              "   function plot_3d(g_x, g_y, g_z)\n",
              "   {\n",
              "     cell_for_plot = document.getElementById('for_plotly_plot');\n",
              "     //Plotly.deleteTraces(cell_for_plot, [0, 1]);\n",
              "     var data = [{\n",
              "           x: g_x,\n",
              "           y: g_y,\n",
              "           z: g_z,\n",
              "           type: 'surface',\n",
              "           opacity: 0.9,\n",
              "           showscale: false,\n",
              "           colorscale: \"Viridis\"\n",
              "        }];\n",
              "  \n",
              "     var layout = {\n",
              "          title: 'pdf estimate',\n",
              "          autosize: false,\n",
              "          width: 600,\n",
              "          height: 600,\n",
              "          showlegend: false,\n",
              "          scene: {\n",
              "            camera: {\n",
              "              up: {x: 0, y: 1, z: 0},\n",
              "              center: {x: 0, y: 0, z: 0},\n",
              "              eye: {x: 0.0, y: -1.0, z: 1.4}\n",
              "            }\n",
              "          }\n",
              "        };\n",
              "     Plotly.newPlot(cell_for_plot, data, layout);\n",
              "   }\n",
              "\n",
              "   function plot_scatter(s_x, s_y, s_z)\n",
              "   {\n",
              "          \n",
              "     cell_for_plot = document.getElementById('for_plotly_plot');\n",
              "     var data = [{\n",
              "           x: s_x,\n",
              "           y: s_y,\n",
              "           z: s_z,\n",
              "           type: 'scatter3d',\n",
              "           mode: 'markers',\n",
              "           marker: {\n",
              "             size: 4,\n",
              "             colorscale: \"Viridis\",\n",
              "             line: {\n",
              "               width: 2,\n",
              "               color: 'rgba(0, 0, 0, 0.5)'\n",
              "             }\n",
              "           }\n",
              "        }];\n",
              "    Plotly.plot(cell_for_plot, data, {});\n",
              "   }\n",
              "\n",
              "\n",
              "    var cur_depth = 100;\n",
              "\n",
              "    async function calculate() {\n",
              "      if (!all_pts)\n",
              "        return;\n",
              "      var merged = [].concat.apply([], all_pts);\n",
              "      const result = await google.colab.kernel.invokeFunction('notebook.InvSVM', [merged, cur_depth], {});\n",
              "      params = result.data['application/json'];\n",
              "            \n",
              "      bg_image.src = 'data:image/  png;base64,' + params.image;\n",
              "      cell_for_plot = document.getElementById('for_plotly_plot');\n",
              "      \n",
              "      plot_3d(params.g_x, params.g_y, params.g_z);\n",
              "      plot_scatter(params.s_x, params.s_y, params.s_z);\n",
              "      \n",
              "    }\n",
              "\n",
              "   function h_change(x) {\n",
              "    el = document.getElementById(\"slider_val\");\n",
              "    cur_depth = x;\n",
              "    el.innerHTML = x;\n",
              "  }\n",
              "\n",
              " </script>\n",
              "\n",
              "<div id=\"everything\" style=\"height:600px;\">\n",
              "<div id=\"for_plotly_plot\" style=\"position:absolute; top:0px; left:0px; height:600px; width:600px;\">\n",
              "</div>\n",
              "<div id=\"custom_controls\" style=\"position:absolute; top:0px; left:600px;\">\n",
              "  <canvas id=\"canvas\" width=\"800\" height=\"600\" \n",
              "    onmousedown=\"mdown_handle(event)\"\n",
              "    onmousemove=\"mmove_handle(event)\"\n",
              "    onmouseup=\"mup_handle(event)\"></canvas>\n",
              "  <div style=\"position:absolute; top:275px; left:625px;\">\n",
              "   <div style=\"border-style: solid;\">\n",
              "    <input type=\"radio\" id=\"r1\" name=\"rate\" value=\"add\" checked=\"checked\"> Add Feature\n",
              "    <br>\n",
              "    <input type=\"radio\" id=\"r2\" name=\"rate\" value=\"move\"> Move Features\n",
              "    <br>\n",
              "    <input type=\"radio\" id=\"r3\" name=\"rate\" value=\"del\"> Delete Feature\n",
              "    <br>\n",
              "    <button type=\"button\" onclick=\"clear_field();\">\n",
              "      Clear\n",
              "    </button>\n",
              "   </div>\n",
              "   <br><br>Bandwidth x 1000:<br>\n",
              "    <input type=\"range\" min=\"1\" max=\"200\" value=\"100\" oninput=\"h_change(this.value)\">\n",
              "    <br><div id=\"slider_val\">100</div>\n",
              "   <br><br>\n",
              "    <button type=\"button\" onclick=\"calculate();\">\n",
              "      KDE\n",
              "    </button>\n",
              "  </div>\n",
              "</div>\n",
              "<div>\n",
              "  \n",
              "<script>\n",
              "function init()\n",
              "{\n",
              "  timer = setInterval(draw, 10);\n",
              "}\n",
              "\n",
              "init();\n",
              "</script>\n"
            ],
            "text/plain": [
              "<IPython.core.display.HTML object>"
            ]
          },
          "metadata": {
            "tags": []
          }
        }
      ]
    },
    {
      "cell_type": "code",
      "metadata": {
        "id": "Oc1vm-XiknB_",
        "colab_type": "code",
        "outputId": "d2a20033-c502-4023-f3eb-3b0966343776",
        "colab": {
          "resources": {
            "http://localhost:8080/nbextensions/google.colab/tabbar.css": {
              "data": "Lmdvb2ctdGFie3Bvc2l0aW9uOnJlbGF0aXZlO3BhZGRpbmc6NHB4IDhweDtjb2xvcjojMDBjO3RleHQtZGVjb3JhdGlvbjp1bmRlcmxpbmU7Y3Vyc29yOmRlZmF1bHR9Lmdvb2ctdGFiLWJhci10b3AgLmdvb2ctdGFie21hcmdpbjoxcHggNHB4IDAgMDtib3JkZXItYm90dG9tOjA7ZmxvYXQ6bGVmdH0uZ29vZy10YWItYmFyLXRvcDphZnRlciwuZ29vZy10YWItYmFyLWJvdHRvbTphZnRlcntjb250ZW50OiIgIjtkaXNwbGF5OmJsb2NrO2hlaWdodDowO2NsZWFyOmJvdGg7dmlzaWJpbGl0eTpoaWRkZW59Lmdvb2ctdGFiLWJhci1ib3R0b20gLmdvb2ctdGFie21hcmdpbjowIDRweCAxcHggMDtib3JkZXItdG9wOjA7ZmxvYXQ6bGVmdH0uZ29vZy10YWItYmFyLXN0YXJ0IC5nb29nLXRhYnttYXJnaW46MCAwIDRweCAxcHg7Ym9yZGVyLXJpZ2h0OjB9Lmdvb2ctdGFiLWJhci1lbmQgLmdvb2ctdGFie21hcmdpbjowIDFweCA0cHggMDtib3JkZXItbGVmdDowfS5nb29nLXRhYi1ob3ZlcntiYWNrZ3JvdW5kOiNlZWV9Lmdvb2ctdGFiLWRpc2FibGVke2NvbG9yOiM2NjZ9Lmdvb2ctdGFiLXNlbGVjdGVke2NvbG9yOiMwMDA7YmFja2dyb3VuZDojZmZmO3RleHQtZGVjb3JhdGlvbjpub25lO2ZvbnQtd2VpZ2h0OmJvbGQ7Ym9yZGVyOjFweCBzb2xpZCAjNmI5MGRhfS5nb29nLXRhYi1iYXItdG9we3BhZGRpbmctdG9wOjVweCFpbXBvcnRhbnQ7cGFkZGluZy1sZWZ0OjVweCFpbXBvcnRhbnQ7Ym9yZGVyLWJvdHRvbToxcHggc29saWQgIzZiOTBkYSFpbXBvcnRhbnR9Lmdvb2ctdGFiLWJhci10b3AgLmdvb2ctdGFiLXNlbGVjdGVke3RvcDoxcHg7bWFyZ2luLXRvcDowO3BhZGRpbmctYm90dG9tOjVweH0uZ29vZy10YWItYmFyLWJvdHRvbSAuZ29vZy10YWItc2VsZWN0ZWR7dG9wOi0xcHg7bWFyZ2luLWJvdHRvbTowO3BhZGRpbmctdG9wOjVweH0uZ29vZy10YWItYmFyLXN0YXJ0IC5nb29nLXRhYi1zZWxlY3RlZHtsZWZ0OjFweDttYXJnaW4tbGVmdDowO3BhZGRpbmctcmlnaHQ6OXB4fS5nb29nLXRhYi1iYXItZW5kIC5nb29nLXRhYi1zZWxlY3RlZHtsZWZ0Oi0xcHg7bWFyZ2luLXJpZ2h0OjA7cGFkZGluZy1sZWZ0OjlweH0uZ29vZy10YWItYmFye21hcmdpbjowO2JvcmRlcjowO3BhZGRpbmc6MDtsaXN0LXN0eWxlOm5vbmU7Y3Vyc29yOmRlZmF1bHQ7b3V0bGluZTpub25lO2JhY2tncm91bmQ6I2ViZWZmOX0uZ29vZy10YWItYmFyLWNsZWFye2NsZWFyOmJvdGg7aGVpZ2h0OjA7b3ZlcmZsb3c6aGlkZGVufS5nb29nLXRhYi1iYXItc3RhcnR7ZmxvYXQ6bGVmdH0uZ29vZy10YWItYmFyLWVuZHtmbG9hdDpyaWdodH0qIGh0bWwgLmdvb2ctdGFiLWJhci1zdGFydHttYXJnaW4tcmlnaHQ6LTNweH0qIGh0bWwgLmdvb2ctdGFiLWJhci1lbmR7bWFyZ2luLWxlZnQ6LTNweH0=",
              "ok": true,
              "headers": [
                [
                  "content-type",
                  "text/css"
                ]
              ],
              "status": 200,
              "status_text": ""
            },
            "http://localhost:8080/nbextensions/google.colab/tabbar_main.min.js": {
              "data": "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",
              "ok": true,
              "headers": [
                [
                  "content-type",
                  "application/javascript"
                ]
              ],
              "status": 200,
              "status_text": ""
            }
          },
          "base_uri": "https://localhost:8080/",
          "height": 590,
          "referenced_widgets": [
            "4d0d02c8cca54d1b92c24c77e13022bc",
            "8fcb56c6db6041ef9b20efde361427a4",
            "cc2c8721be2f42938f1ecfe3b2c5f735",
            "2ed9af7dd7934b86ba98a3d575267ef4",
            "7b1dca1a645f4220836d2151b49d823e",
            "2446056814d84118b22d2d5b9958571e",
            "12b5cc22b212485cb351c738feb86641",
            "203e323092d147dc9fe6c3253743b1f3",
            "a3c45dac2c5d4cb59ae2776c52ef6a91",
            "c435341b2a3e4b94b90ea3e9ffc7071e",
            "81418630d7584bccab47a30611905a6a",
            "d1f6aa2a71eb4e3b84d170d690deb73c",
            "dc18984c600240dcb502805bf6b4cb34",
            "427e6fba9cc24ab89af7a4ef254e4998",
            "16646534698d45e7b2bd642152b73177",
            "7e51651e01e9497ca956059f4468076c",
            "d69057e211bc4a09aee6c46f5776344b",
            "0d2ce6e3e44747a893c68c230628c37f",
            "5082585f764247549b392174b2d981cf",
            "1b565a6707b94c79817a6d8540c96971",
            "3a331eaed88c48c7aa716ba69b3d5e81",
            "581f70036169453f9cc2b218f62cb697",
            "f874d121f03e446db5aa092cb858d2a8",
            "79f6eebf3a27431fa5814f929db6239f",
            "7ed759334b7943c08681adaf4fab5d2d",
            "9e9a5f0b5b4a4534a7fc58339e4da321",
            "216859d1e2504262ae8d14b8f11af3e5",
            "16c2be4b89ab4ee8a61101ad6cd3b47b",
            "2f213df4c869457a8f106f5a40877576",
            "ab4107a1bd994b8481bd2a7428933c84",
            "d2b61c8d5465427eb55a499f6925a087",
            "1d065b3ccff44212907073044cdd0df3",
            "c63e5d6ab4de4393be659d4946d790f1",
            "f84c1f6dc1714afc8840c01d25db666f",
            "c7430fddff004852a946e08abd8f77f1",
            "06839108342b477282cb44211bc13baa",
            "a6588fdf5fb94fc5afd29247248e4c46",
            "f0a6430250814e1cb8ef9bbe02a1b529",
            "f64906ebd20641deb017d880781d07e8",
            "d1eb3acd4eff4e61aae27ae1c9e03729",
            "e6ea58f0c880461b90181eab025405c9"
          ]
        }
      },
      "source": [
        "from google.colab import widgets\n",
        "import ipywidgets\n",
        "import scipy\n",
        "from sklearn.neighbors import KernelDensity\n",
        "\n",
        "\n",
        "params = []\n",
        "X = []\n",
        "\n",
        "def plot_pdf(plot_separate, k_d = None):\n",
        "  global params\n",
        "  global X\n",
        "  if not params:\n",
        "    return\n",
        "\n",
        "  pi1, pi2, pi3, mu1, sig1, mu2, sig2, mu3, sig3 = params\n",
        "  x = np.linspace(0, 100, 1001)\n",
        "  fig = plt.figure(figsize=(10, 8))\n",
        "  P_sum = np.zeros(x.shape)\n",
        "  for mu, sig, c, pi, i in [[mu1, sig1, 'r', pi1, 1], [mu2, sig2, 'g', pi2, 2], [mu3, sig3, 'b', pi3, 3]]:\n",
        "    P = scipy.stats.norm.pdf(x, mu, sig)\n",
        "    P_sum += P * pi\n",
        "    if plot_separate:\n",
        "      plt.plot(x, P, c, linewidth=2.0, label=\"{}\".format(i), alpha=np.clip(pi, 0.0, 1.0))\n",
        "  \n",
        "  plt.plot(x, P_sum, 'k', linewidth=3.0, label=\"mixture\")\n",
        "  plt.plot(np.array(X), np.full_like(np.array(X), 0.0), '|k', markeredgewidth=1)\n",
        "  plt.title('Mixture of 3 gaussians')\n",
        "  plt.xlabel('x')\n",
        "  plt.ylabel('y')\n",
        "  plt.legend()\n",
        "  #plt.show()\n",
        "\n",
        "def set_and_plot(pi, mu1, sig1, mu2, sig2, mu3, sig3):\n",
        "  pi1, pi2 = pi; pi2 -= pi1; pi3 = 1.0 - pi2 - pi1;\n",
        "  global params\n",
        "  global X\n",
        "  X = []\n",
        "  params = [pi1, pi2, pi3, mu1, sig1, mu2, sig2, mu3, sig3]\n",
        "  N = 200\n",
        "  for mu, sig, pi in [[mu1, sig1, pi1], [mu2, sig2, pi2], [mu3, sig3, pi3]]:\n",
        "    X = X + np.random.normal(mu, sig, int(N * pi)).tolist()\n",
        "  plot_pdf(True)\n",
        "\n",
        "def ker_plot(b_w, k_t):\n",
        "  kde = KernelDensity(bandwidth=b_w, kernel=k_t)\n",
        "  global X\n",
        "  kde.fit(np.array(X)[:, None])\n",
        "  x_d = np.linspace(0, 100, 1001)\n",
        "  logprob = kde.score_samples(x_d[:, None])\n",
        "  plot_pdf(False)\n",
        "  plt.fill_between(x_d, np.exp(logprob), alpha=0.5, color='r')\n",
        "\n",
        "tb = widgets.TabBar(['mix distribution', 'find kernel'], location='top')\n",
        "with tb.output_to(0):\n",
        "  words = ['mu_1', 'sigma_1', 'mu_2', 'sigma_2', 'mu_3', 'sigma_3']\n",
        "  mins  = [0.0, 1.0, 0.0, 1.0, 0.0, 1.0]\n",
        "  maxes = [100.0, 10.0, 100.0, 10.0, 100.0, 10.0]\n",
        "  vals  = [10.0, 10.0, 50.0, 10.0, 90.0, 10.0]\n",
        "  sliders = [ipywidgets.FloatSlider(description=w, min=n, max=x, value=v) for w,x,n,v in zip(words, maxes, mins, vals)]\n",
        "  pi_slider = ipywidgets.FloatRangeSlider(value=[0.3, 0.6], min=0.0, max=1.0, description='pi(1,2,3)')\n",
        "  boxes = [ipywidgets.VBox([pi_slider])]\n",
        "  for slider1, slider2 in zip(sliders[::2], sliders[1::2]):\n",
        "    boxes.append(ipywidgets.VBox([slider1, slider2]))\n",
        "  out = ipywidgets.interactive_output(set_and_plot, {\n",
        "    \"pi\": pi_slider,\n",
        "    \"mu1\": sliders[0], \"sig1\": sliders[1],\n",
        "    \"mu2\": sliders[2], \"sig2\": sliders[3],\n",
        "    \"mu3\": sliders[4], \"sig3\": sliders[5]})\n",
        "  display(ipywidgets.HBox(boxes), out)\n",
        "with tb.output_to(1):\n",
        "  ker_type = ipywidgets.Dropdown(\n",
        "    options=['gaussian', 'tophat', 'epanechnikov', 'exponential','linear','cosine'],\n",
        "    value='gaussian',\n",
        "    description='Kernel:',\n",
        "    disabled=False)\n",
        "  b_w = ipywidgets.FloatSlider(description='band width', min=0.1, max=10.0, value=1.0)\n",
        "  out = ipywidgets.interactive_output(ker_plot, {\"b_w\": b_w, \"k_t\": ker_type})\n",
        "  display(ipywidgets.HBox([ker_type, b_w]), out)"
      ],
      "execution_count": 31,
      "outputs": [
        {
          "output_type": "display_data",
          "data": {
            "text/html": [
              "<link rel=stylesheet type=text/css href='/nbextensions/google.colab/tabbar.css'></link>"
            ],
            "text/plain": [
              "<IPython.core.display.HTML object>"
            ]
          },
          "metadata": {
            "tags": [
              "outputarea_id23"
            ]
          }
        },
        {
          "output_type": "display_data",
          "data": {
            "text/html": [
              "<script src='/nbextensions/google.colab/tabbar_main.min.js'></script>"
            ],
            "text/plain": [
              "<IPython.core.display.HTML object>"
            ]
          },
          "metadata": {
            "tags": [
              "outputarea_id23"
            ]
          }
        },
        {
          "output_type": "display_data",
          "data": {
            "text/html": [
              "<div id=\"id23\"></div>"
            ],
            "text/plain": [
              "<IPython.core.display.HTML object>"
            ]
          },
          "metadata": {
            "tags": [
              "outputarea_id23"
            ]
          }
        },
        {
          "output_type": "display_data",
          "data": {
            "application/javascript": [
              "window[\"12f5ad20-17b3-11ea-a39b-0242ac1c0002\"] = colab_lib.createTabBar({\"location\": \"top\", \"elementId\": \"id23\", \"tabNames\": [\"mix distribution\", \"find kernel\"], \"initialSelection\": 0, \"contentBorder\": [\"0px\"], \"contentHeight\": [\"initial\"], \"borderColor\": [\"#a7a7a7\"]});\n",
              "//# sourceURL=js_d062867d48"
            ],
            "text/plain": [
              "<IPython.core.display.Javascript object>"
            ]
          },
          "metadata": {
            "tags": [
              "outputarea_id23"
            ]
          }
        },
        {
          "output_type": "display_data",
          "data": {
            "application/javascript": [
              "window[\"12f5f97e-17b3-11ea-a39b-0242ac1c0002\"] = window[\"id23\"].setSelectedTabIndex(0);\n",
              "//# sourceURL=js_eeabeeb58b"
            ],
            "text/plain": [
              "<IPython.core.display.Javascript object>"
            ]
          },
          "metadata": {
            "tags": [
              "outputarea_id23"
            ]
          }
        },
        {
          "output_type": "display_data",
          "data": {
            "application/javascript": [
              "window[\"12f74216-17b3-11ea-a39b-0242ac1c0002\"] = google.colab.output.getActiveOutputArea();\n",
              "//# sourceURL=js_f64f244e1f"
            ],
            "text/plain": [
              "<IPython.core.display.Javascript object>"
            ]
          },
          "metadata": {
            "tags": [
              "id23_content_0",
              "outputarea_id23"
            ]
          }
        },
        {
          "output_type": "display_data",
          "data": {
            "application/javascript": [
              "window[\"12f784ba-17b3-11ea-a39b-0242ac1c0002\"] = document.querySelector(\"#id23_content_0\");\n",
              "//# sourceURL=js_2561992a8d"
            ],
            "text/plain": [
              "<IPython.core.display.Javascript object>"
            ]
          },
          "metadata": {
            "tags": [
              "id23_content_0",
              "outputarea_id23"
            ]
          }
        },
        {
          "output_type": "display_data",
          "data": {
            "application/javascript": [
              "window[\"12f7cbe6-17b3-11ea-a39b-0242ac1c0002\"] = google.colab.output.setActiveOutputArea(window[\"12f784ba-17b3-11ea-a39b-0242ac1c0002\"]);\n",
              "//# sourceURL=js_f2d9e42c56"
            ],
            "text/plain": [
              "<IPython.core.display.Javascript object>"
            ]
          },
          "metadata": {
            "tags": [
              "id23_content_0",
              "outputarea_id23"
            ]
          }
        },
        {
          "output_type": "display_data",
          "data": {
            "application/javascript": [
              "window[\"12f809da-17b3-11ea-a39b-0242ac1c0002\"] = window[\"id23\"].setSelectedTabIndex(0);\n",
              "//# sourceURL=js_c44f5a6c1d"
            ],
            "text/plain": [
              "<IPython.core.display.Javascript object>"
            ]
          },
          "metadata": {
            "tags": [
              "id23_content_0",
              "outputarea_id23"
            ]
          }
        },
        {
          "output_type": "display_data",
          "data": {
            "application/vnd.jupyter.widget-view+json": {
              "model_id": "4d0d02c8cca54d1b92c24c77e13022bc",
              "version_minor": 0,
              "version_major": 2
            },
            "text/plain": [
              "HBox(children=(VBox(children=(FloatRangeSlider(value=(0.3, 0.6), description='pi(1,2,3)', max=1.0),)), VBox(ch…"
            ]
          },
          "metadata": {
            "tags": [
              "id23_content_0",
              "outputarea_id23",
              "user_output"
            ]
          }
        },
        {
          "output_type": "display_data",
          "data": {
            "application/vnd.jupyter.widget-view+json": {
              "model_id": "1d065b3ccff44212907073044cdd0df3",
              "version_minor": 0,
              "version_major": 2
            },
            "text/plain": [
              "Output()"
            ]
          },
          "metadata": {
            "tags": [
              "id23_content_0",
              "outputarea_id23",
              "user_output"
            ]
          }
        },
        {
          "output_type": "display_data",
          "data": {
            "application/javascript": [
              "window[\"13489a08-17b3-11ea-a39b-0242ac1c0002\"] = google.colab.output.setActiveOutputArea(window[\"12f74216-17b3-11ea-a39b-0242ac1c0002\"]);\n",
              "//# sourceURL=js_9ffa0b4db6"
            ],
            "text/plain": [
              "<IPython.core.display.Javascript object>"
            ]
          },
          "metadata": {
            "tags": [
              "id23_content_0",
              "outputarea_id23"
            ]
          }
        },
        {
          "output_type": "display_data",
          "data": {
            "application/javascript": [
              "window[\"1349ea2a-17b3-11ea-a39b-0242ac1c0002\"] = google.colab.output.getActiveOutputArea();\n",
              "//# sourceURL=js_3f0904c652"
            ],
            "text/plain": [
              "<IPython.core.display.Javascript object>"
            ]
          },
          "metadata": {
            "tags": [
              "id23_content_1",
              "outputarea_id23"
            ]
          }
        },
        {
          "output_type": "display_data",
          "data": {
            "application/javascript": [
              "window[\"134a2e7c-17b3-11ea-a39b-0242ac1c0002\"] = document.querySelector(\"#id23_content_1\");\n",
              "//# sourceURL=js_b1017166a9"
            ],
            "text/plain": [
              "<IPython.core.display.Javascript object>"
            ]
          },
          "metadata": {
            "tags": [
              "id23_content_1",
              "outputarea_id23"
            ]
          }
        },
        {
          "output_type": "display_data",
          "data": {
            "application/javascript": [
              "window[\"134a6cb6-17b3-11ea-a39b-0242ac1c0002\"] = google.colab.output.setActiveOutputArea(window[\"134a2e7c-17b3-11ea-a39b-0242ac1c0002\"]);\n",
              "//# sourceURL=js_2053cfa6c1"
            ],
            "text/plain": [
              "<IPython.core.display.Javascript object>"
            ]
          },
          "metadata": {
            "tags": [
              "id23_content_1",
              "outputarea_id23"
            ]
          }
        },
        {
          "output_type": "display_data",
          "data": {
            "application/javascript": [
              "window[\"134aad70-17b3-11ea-a39b-0242ac1c0002\"] = window[\"id23\"].setSelectedTabIndex(1);\n",
              "//# sourceURL=js_ec6ac41e50"
            ],
            "text/plain": [
              "<IPython.core.display.Javascript object>"
            ]
          },
          "metadata": {
            "tags": [
              "id23_content_1",
              "outputarea_id23"
            ]
          }
        },
        {
          "output_type": "display_data",
          "data": {
            "application/vnd.jupyter.widget-view+json": {
              "model_id": "c63e5d6ab4de4393be659d4946d790f1",
              "version_minor": 0,
              "version_major": 2
            },
            "text/plain": [
              "HBox(children=(Dropdown(description='Kernel:', options=('gaussian', 'tophat', 'epanechnikov', 'exponential', '…"
            ]
          },
          "metadata": {
            "tags": [
              "id23_content_1",
              "outputarea_id23",
              "user_output"
            ]
          }
        },
        {
          "output_type": "display_data",
          "data": {
            "application/vnd.jupyter.widget-view+json": {
              "model_id": "e6ea58f0c880461b90181eab025405c9",
              "version_minor": 0,
              "version_major": 2
            },
            "text/plain": [
              "Output()"
            ]
          },
          "metadata": {
            "tags": [
              "id23_content_1",
              "outputarea_id23",
              "user_output"
            ]
          }
        },
        {
          "output_type": "display_data",
          "data": {
            "application/javascript": [
              "window[\"138bbe0a-17b3-11ea-a39b-0242ac1c0002\"] = google.colab.output.setActiveOutputArea(window[\"1349ea2a-17b3-11ea-a39b-0242ac1c0002\"]);\n",
              "//# sourceURL=js_3fb6bf9ba2"
            ],
            "text/plain": [
              "<IPython.core.display.Javascript object>"
            ]
          },
          "metadata": {
            "tags": [
              "id23_content_1",
              "outputarea_id23"
            ]
          }
        }
      ]
    }
  ]
}