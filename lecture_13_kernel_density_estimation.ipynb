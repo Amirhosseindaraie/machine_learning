{
  "nbformat": 4,
  "nbformat_minor": 0,
  "metadata": {
    "colab": {
      "name": "lecture_13_kernel_density_estimation.ipynb",
      "provenance": [],
      "toc_visible": true,
      "include_colab_link": true
    },
    "kernelspec": {
      "name": "python3",
      "display_name": "Python 3"
    },
    "widgets": {
      "application/vnd.jupyter.widget-state+json": {
        "74bf9082a12f4faf87a9976052ef125f": {
          "model_module": "@jupyter-widgets/controls",
          "model_name": "HBoxModel",
          "state": {
            "_view_name": "HBoxView",
            "_dom_classes": [],
            "_model_name": "HBoxModel",
            "_view_module": "@jupyter-widgets/controls",
            "_model_module_version": "1.5.0",
            "_view_count": null,
            "_view_module_version": "1.5.0",
            "box_style": "",
            "layout": "IPY_MODEL_634c51481163413c8385c52992f03ba4",
            "_model_module": "@jupyter-widgets/controls",
            "children": [
              "IPY_MODEL_82b2b6ad9bde4aa4a9c6112c4ee127d6",
              "IPY_MODEL_d735255fd8b142a6993fddd599d37d54",
              "IPY_MODEL_20cd1d4cfe4c4ddf9213c2f13f85fba3",
              "IPY_MODEL_66c2dbbde98b4dafadd2432a91b9324d"
            ]
          }
        },
        "634c51481163413c8385c52992f03ba4": {
          "model_module": "@jupyter-widgets/base",
          "model_name": "LayoutModel",
          "state": {
            "_view_name": "LayoutView",
            "grid_template_rows": null,
            "right": null,
            "justify_content": null,
            "_view_module": "@jupyter-widgets/base",
            "overflow": null,
            "_model_module_version": "1.2.0",
            "_view_count": null,
            "flex_flow": null,
            "width": null,
            "min_width": null,
            "border": null,
            "align_items": null,
            "bottom": null,
            "_model_module": "@jupyter-widgets/base",
            "top": null,
            "grid_column": null,
            "overflow_y": null,
            "overflow_x": null,
            "grid_auto_flow": null,
            "grid_area": null,
            "grid_template_columns": null,
            "flex": null,
            "_model_name": "LayoutModel",
            "justify_items": null,
            "grid_row": null,
            "max_height": null,
            "align_content": null,
            "visibility": null,
            "align_self": null,
            "height": null,
            "min_height": null,
            "padding": null,
            "grid_auto_rows": null,
            "grid_gap": null,
            "max_width": null,
            "order": null,
            "_view_module_version": "1.2.0",
            "grid_template_areas": null,
            "object_position": null,
            "object_fit": null,
            "grid_auto_columns": null,
            "margin": null,
            "display": null,
            "left": null
          }
        },
        "82b2b6ad9bde4aa4a9c6112c4ee127d6": {
          "model_module": "@jupyter-widgets/controls",
          "model_name": "VBoxModel",
          "state": {
            "_view_name": "VBoxView",
            "_dom_classes": [],
            "_model_name": "VBoxModel",
            "_view_module": "@jupyter-widgets/controls",
            "_model_module_version": "1.5.0",
            "_view_count": null,
            "_view_module_version": "1.5.0",
            "box_style": "",
            "layout": "IPY_MODEL_95299e3a7a064aa988397515bf4e2ad7",
            "_model_module": "@jupyter-widgets/controls",
            "children": [
              "IPY_MODEL_0cee737b3a6745eb8fefb4a6d03a886f"
            ]
          }
        },
        "d735255fd8b142a6993fddd599d37d54": {
          "model_module": "@jupyter-widgets/controls",
          "model_name": "VBoxModel",
          "state": {
            "_view_name": "VBoxView",
            "_dom_classes": [],
            "_model_name": "VBoxModel",
            "_view_module": "@jupyter-widgets/controls",
            "_model_module_version": "1.5.0",
            "_view_count": null,
            "_view_module_version": "1.5.0",
            "box_style": "",
            "layout": "IPY_MODEL_645777f38d97414792b5612b829e0f2e",
            "_model_module": "@jupyter-widgets/controls",
            "children": [
              "IPY_MODEL_5d6a7f6616ff46ffaa2d4046d485eca4",
              "IPY_MODEL_459f29944c534085afd6edbca5bf0c22"
            ]
          }
        },
        "20cd1d4cfe4c4ddf9213c2f13f85fba3": {
          "model_module": "@jupyter-widgets/controls",
          "model_name": "VBoxModel",
          "state": {
            "_view_name": "VBoxView",
            "_dom_classes": [],
            "_model_name": "VBoxModel",
            "_view_module": "@jupyter-widgets/controls",
            "_model_module_version": "1.5.0",
            "_view_count": null,
            "_view_module_version": "1.5.0",
            "box_style": "",
            "layout": "IPY_MODEL_64c1c7dc87d8403493b7fa8e511033bb",
            "_model_module": "@jupyter-widgets/controls",
            "children": [
              "IPY_MODEL_6a978cda0000478d9b168a125c2b23d8",
              "IPY_MODEL_d49a0cf122b24842a81d299a8a717ace"
            ]
          }
        },
        "66c2dbbde98b4dafadd2432a91b9324d": {
          "model_module": "@jupyter-widgets/controls",
          "model_name": "VBoxModel",
          "state": {
            "_view_name": "VBoxView",
            "_dom_classes": [],
            "_model_name": "VBoxModel",
            "_view_module": "@jupyter-widgets/controls",
            "_model_module_version": "1.5.0",
            "_view_count": null,
            "_view_module_version": "1.5.0",
            "box_style": "",
            "layout": "IPY_MODEL_7018eaf10b6d463b93afbc1dc4dfc9b6",
            "_model_module": "@jupyter-widgets/controls",
            "children": [
              "IPY_MODEL_9bfeaf30e603481c9e3b474de2a38a4d",
              "IPY_MODEL_87751d40daf544b0b1e9b3dbcad567df"
            ]
          }
        },
        "95299e3a7a064aa988397515bf4e2ad7": {
          "model_module": "@jupyter-widgets/base",
          "model_name": "LayoutModel",
          "state": {
            "_view_name": "LayoutView",
            "grid_template_rows": null,
            "right": null,
            "justify_content": null,
            "_view_module": "@jupyter-widgets/base",
            "overflow": null,
            "_model_module_version": "1.2.0",
            "_view_count": null,
            "flex_flow": null,
            "width": null,
            "min_width": null,
            "border": null,
            "align_items": null,
            "bottom": null,
            "_model_module": "@jupyter-widgets/base",
            "top": null,
            "grid_column": null,
            "overflow_y": null,
            "overflow_x": null,
            "grid_auto_flow": null,
            "grid_area": null,
            "grid_template_columns": null,
            "flex": null,
            "_model_name": "LayoutModel",
            "justify_items": null,
            "grid_row": null,
            "max_height": null,
            "align_content": null,
            "visibility": null,
            "align_self": null,
            "height": null,
            "min_height": null,
            "padding": null,
            "grid_auto_rows": null,
            "grid_gap": null,
            "max_width": null,
            "order": null,
            "_view_module_version": "1.2.0",
            "grid_template_areas": null,
            "object_position": null,
            "object_fit": null,
            "grid_auto_columns": null,
            "margin": null,
            "display": null,
            "left": null
          }
        },
        "0cee737b3a6745eb8fefb4a6d03a886f": {
          "model_module": "@jupyter-widgets/controls",
          "model_name": "FloatRangeSliderModel",
          "state": {
            "_view_name": "FloatRangeSliderView",
            "style": "IPY_MODEL_f0d46b05efe848fc8a5c38787ee034e2",
            "_dom_classes": [],
            "description": "pi(1,2,3)",
            "step": 0.1,
            "_model_name": "FloatRangeSliderModel",
            "orientation": "horizontal",
            "max": 1,
            "_view_module": "@jupyter-widgets/controls",
            "_model_module_version": "1.5.0",
            "value": [
              0.3,
              0.6
            ],
            "_view_count": null,
            "disabled": false,
            "_view_module_version": "1.5.0",
            "min": 0,
            "continuous_update": true,
            "readout_format": ".2f",
            "description_tooltip": null,
            "readout": true,
            "_model_module": "@jupyter-widgets/controls",
            "layout": "IPY_MODEL_1bdf7cde0e32466181b53f7e6cfe276f"
          }
        },
        "645777f38d97414792b5612b829e0f2e": {
          "model_module": "@jupyter-widgets/base",
          "model_name": "LayoutModel",
          "state": {
            "_view_name": "LayoutView",
            "grid_template_rows": null,
            "right": null,
            "justify_content": null,
            "_view_module": "@jupyter-widgets/base",
            "overflow": null,
            "_model_module_version": "1.2.0",
            "_view_count": null,
            "flex_flow": null,
            "width": null,
            "min_width": null,
            "border": null,
            "align_items": null,
            "bottom": null,
            "_model_module": "@jupyter-widgets/base",
            "top": null,
            "grid_column": null,
            "overflow_y": null,
            "overflow_x": null,
            "grid_auto_flow": null,
            "grid_area": null,
            "grid_template_columns": null,
            "flex": null,
            "_model_name": "LayoutModel",
            "justify_items": null,
            "grid_row": null,
            "max_height": null,
            "align_content": null,
            "visibility": null,
            "align_self": null,
            "height": null,
            "min_height": null,
            "padding": null,
            "grid_auto_rows": null,
            "grid_gap": null,
            "max_width": null,
            "order": null,
            "_view_module_version": "1.2.0",
            "grid_template_areas": null,
            "object_position": null,
            "object_fit": null,
            "grid_auto_columns": null,
            "margin": null,
            "display": null,
            "left": null
          }
        },
        "5d6a7f6616ff46ffaa2d4046d485eca4": {
          "model_module": "@jupyter-widgets/controls",
          "model_name": "FloatSliderModel",
          "state": {
            "_view_name": "FloatSliderView",
            "style": "IPY_MODEL_ada52d62217f416a9298509475f72f8d",
            "_dom_classes": [],
            "description": "mu_1",
            "step": 0.1,
            "_model_name": "FloatSliderModel",
            "orientation": "horizontal",
            "max": 100,
            "_view_module": "@jupyter-widgets/controls",
            "_model_module_version": "1.5.0",
            "value": 12.6,
            "_view_count": null,
            "disabled": false,
            "_view_module_version": "1.5.0",
            "min": 0,
            "continuous_update": true,
            "readout_format": ".2f",
            "description_tooltip": null,
            "readout": true,
            "_model_module": "@jupyter-widgets/controls",
            "layout": "IPY_MODEL_67718db591c64071bde074a9453c7db5"
          }
        },
        "459f29944c534085afd6edbca5bf0c22": {
          "model_module": "@jupyter-widgets/controls",
          "model_name": "FloatSliderModel",
          "state": {
            "_view_name": "FloatSliderView",
            "style": "IPY_MODEL_730affc4275b4b39b5050b0193dbd4f6",
            "_dom_classes": [],
            "description": "sigma_1",
            "step": 0.1,
            "_model_name": "FloatSliderModel",
            "orientation": "horizontal",
            "max": 10,
            "_view_module": "@jupyter-widgets/controls",
            "_model_module_version": "1.5.0",
            "value": 1,
            "_view_count": null,
            "disabled": false,
            "_view_module_version": "1.5.0",
            "min": 1,
            "continuous_update": true,
            "readout_format": ".2f",
            "description_tooltip": null,
            "readout": true,
            "_model_module": "@jupyter-widgets/controls",
            "layout": "IPY_MODEL_839ebe1f48384d059e37b08e5d0624ac"
          }
        },
        "64c1c7dc87d8403493b7fa8e511033bb": {
          "model_module": "@jupyter-widgets/base",
          "model_name": "LayoutModel",
          "state": {
            "_view_name": "LayoutView",
            "grid_template_rows": null,
            "right": null,
            "justify_content": null,
            "_view_module": "@jupyter-widgets/base",
            "overflow": null,
            "_model_module_version": "1.2.0",
            "_view_count": null,
            "flex_flow": null,
            "width": null,
            "min_width": null,
            "border": null,
            "align_items": null,
            "bottom": null,
            "_model_module": "@jupyter-widgets/base",
            "top": null,
            "grid_column": null,
            "overflow_y": null,
            "overflow_x": null,
            "grid_auto_flow": null,
            "grid_area": null,
            "grid_template_columns": null,
            "flex": null,
            "_model_name": "LayoutModel",
            "justify_items": null,
            "grid_row": null,
            "max_height": null,
            "align_content": null,
            "visibility": null,
            "align_self": null,
            "height": null,
            "min_height": null,
            "padding": null,
            "grid_auto_rows": null,
            "grid_gap": null,
            "max_width": null,
            "order": null,
            "_view_module_version": "1.2.0",
            "grid_template_areas": null,
            "object_position": null,
            "object_fit": null,
            "grid_auto_columns": null,
            "margin": null,
            "display": null,
            "left": null
          }
        },
        "6a978cda0000478d9b168a125c2b23d8": {
          "model_module": "@jupyter-widgets/controls",
          "model_name": "FloatSliderModel",
          "state": {
            "_view_name": "FloatSliderView",
            "style": "IPY_MODEL_fd14c93ff95d4a7691f7667659d61acf",
            "_dom_classes": [],
            "description": "mu_2",
            "step": 0.1,
            "_model_name": "FloatSliderModel",
            "orientation": "horizontal",
            "max": 100,
            "_view_module": "@jupyter-widgets/controls",
            "_model_module_version": "1.5.0",
            "value": 50,
            "_view_count": null,
            "disabled": false,
            "_view_module_version": "1.5.0",
            "min": 0,
            "continuous_update": true,
            "readout_format": ".2f",
            "description_tooltip": null,
            "readout": true,
            "_model_module": "@jupyter-widgets/controls",
            "layout": "IPY_MODEL_cfaa46255fc64db6ab0bde11a2aaee10"
          }
        },
        "d49a0cf122b24842a81d299a8a717ace": {
          "model_module": "@jupyter-widgets/controls",
          "model_name": "FloatSliderModel",
          "state": {
            "_view_name": "FloatSliderView",
            "style": "IPY_MODEL_7b05f30379f6449fb3cdd4a70be8ebf0",
            "_dom_classes": [],
            "description": "sigma_2",
            "step": 0.1,
            "_model_name": "FloatSliderModel",
            "orientation": "horizontal",
            "max": 10,
            "_view_module": "@jupyter-widgets/controls",
            "_model_module_version": "1.5.0",
            "value": 5.8,
            "_view_count": null,
            "disabled": false,
            "_view_module_version": "1.5.0",
            "min": 1,
            "continuous_update": true,
            "readout_format": ".2f",
            "description_tooltip": null,
            "readout": true,
            "_model_module": "@jupyter-widgets/controls",
            "layout": "IPY_MODEL_7aa0179d0578446d95898edfe97af012"
          }
        },
        "7018eaf10b6d463b93afbc1dc4dfc9b6": {
          "model_module": "@jupyter-widgets/base",
          "model_name": "LayoutModel",
          "state": {
            "_view_name": "LayoutView",
            "grid_template_rows": null,
            "right": null,
            "justify_content": null,
            "_view_module": "@jupyter-widgets/base",
            "overflow": null,
            "_model_module_version": "1.2.0",
            "_view_count": null,
            "flex_flow": null,
            "width": null,
            "min_width": null,
            "border": null,
            "align_items": null,
            "bottom": null,
            "_model_module": "@jupyter-widgets/base",
            "top": null,
            "grid_column": null,
            "overflow_y": null,
            "overflow_x": null,
            "grid_auto_flow": null,
            "grid_area": null,
            "grid_template_columns": null,
            "flex": null,
            "_model_name": "LayoutModel",
            "justify_items": null,
            "grid_row": null,
            "max_height": null,
            "align_content": null,
            "visibility": null,
            "align_self": null,
            "height": null,
            "min_height": null,
            "padding": null,
            "grid_auto_rows": null,
            "grid_gap": null,
            "max_width": null,
            "order": null,
            "_view_module_version": "1.2.0",
            "grid_template_areas": null,
            "object_position": null,
            "object_fit": null,
            "grid_auto_columns": null,
            "margin": null,
            "display": null,
            "left": null
          }
        },
        "9bfeaf30e603481c9e3b474de2a38a4d": {
          "model_module": "@jupyter-widgets/controls",
          "model_name": "FloatSliderModel",
          "state": {
            "_view_name": "FloatSliderView",
            "style": "IPY_MODEL_8105362b97f342a78acf6ef5f509ee08",
            "_dom_classes": [],
            "description": "mu_3",
            "step": 0.1,
            "_model_name": "FloatSliderModel",
            "orientation": "horizontal",
            "max": 100,
            "_view_module": "@jupyter-widgets/controls",
            "_model_module_version": "1.5.0",
            "value": 90,
            "_view_count": null,
            "disabled": false,
            "_view_module_version": "1.5.0",
            "min": 0,
            "continuous_update": true,
            "readout_format": ".2f",
            "description_tooltip": null,
            "readout": true,
            "_model_module": "@jupyter-widgets/controls",
            "layout": "IPY_MODEL_c710d2521dc349f88b0acb62d8b4a503"
          }
        },
        "87751d40daf544b0b1e9b3dbcad567df": {
          "model_module": "@jupyter-widgets/controls",
          "model_name": "FloatSliderModel",
          "state": {
            "_view_name": "FloatSliderView",
            "style": "IPY_MODEL_224e640b3909401e8d13593dadaa16db",
            "_dom_classes": [],
            "description": "sigma_3",
            "step": 0.1,
            "_model_name": "FloatSliderModel",
            "orientation": "horizontal",
            "max": 10,
            "_view_module": "@jupyter-widgets/controls",
            "_model_module_version": "1.5.0",
            "value": 2.6,
            "_view_count": null,
            "disabled": false,
            "_view_module_version": "1.5.0",
            "min": 1,
            "continuous_update": true,
            "readout_format": ".2f",
            "description_tooltip": null,
            "readout": true,
            "_model_module": "@jupyter-widgets/controls",
            "layout": "IPY_MODEL_92f3692d60db424496fb97b476c19594"
          }
        },
        "f0d46b05efe848fc8a5c38787ee034e2": {
          "model_module": "@jupyter-widgets/controls",
          "model_name": "SliderStyleModel",
          "state": {
            "_view_name": "StyleView",
            "handle_color": null,
            "_model_name": "SliderStyleModel",
            "description_width": "",
            "_view_module": "@jupyter-widgets/base",
            "_model_module_version": "1.5.0",
            "_view_count": null,
            "_view_module_version": "1.2.0",
            "_model_module": "@jupyter-widgets/controls"
          }
        },
        "1bdf7cde0e32466181b53f7e6cfe276f": {
          "model_module": "@jupyter-widgets/base",
          "model_name": "LayoutModel",
          "state": {
            "_view_name": "LayoutView",
            "grid_template_rows": null,
            "right": null,
            "justify_content": null,
            "_view_module": "@jupyter-widgets/base",
            "overflow": null,
            "_model_module_version": "1.2.0",
            "_view_count": null,
            "flex_flow": null,
            "width": null,
            "min_width": null,
            "border": null,
            "align_items": null,
            "bottom": null,
            "_model_module": "@jupyter-widgets/base",
            "top": null,
            "grid_column": null,
            "overflow_y": null,
            "overflow_x": null,
            "grid_auto_flow": null,
            "grid_area": null,
            "grid_template_columns": null,
            "flex": null,
            "_model_name": "LayoutModel",
            "justify_items": null,
            "grid_row": null,
            "max_height": null,
            "align_content": null,
            "visibility": null,
            "align_self": null,
            "height": null,
            "min_height": null,
            "padding": null,
            "grid_auto_rows": null,
            "grid_gap": null,
            "max_width": null,
            "order": null,
            "_view_module_version": "1.2.0",
            "grid_template_areas": null,
            "object_position": null,
            "object_fit": null,
            "grid_auto_columns": null,
            "margin": null,
            "display": null,
            "left": null
          }
        },
        "ada52d62217f416a9298509475f72f8d": {
          "model_module": "@jupyter-widgets/controls",
          "model_name": "SliderStyleModel",
          "state": {
            "_view_name": "StyleView",
            "handle_color": null,
            "_model_name": "SliderStyleModel",
            "description_width": "",
            "_view_module": "@jupyter-widgets/base",
            "_model_module_version": "1.5.0",
            "_view_count": null,
            "_view_module_version": "1.2.0",
            "_model_module": "@jupyter-widgets/controls"
          }
        },
        "67718db591c64071bde074a9453c7db5": {
          "model_module": "@jupyter-widgets/base",
          "model_name": "LayoutModel",
          "state": {
            "_view_name": "LayoutView",
            "grid_template_rows": null,
            "right": null,
            "justify_content": null,
            "_view_module": "@jupyter-widgets/base",
            "overflow": null,
            "_model_module_version": "1.2.0",
            "_view_count": null,
            "flex_flow": null,
            "width": null,
            "min_width": null,
            "border": null,
            "align_items": null,
            "bottom": null,
            "_model_module": "@jupyter-widgets/base",
            "top": null,
            "grid_column": null,
            "overflow_y": null,
            "overflow_x": null,
            "grid_auto_flow": null,
            "grid_area": null,
            "grid_template_columns": null,
            "flex": null,
            "_model_name": "LayoutModel",
            "justify_items": null,
            "grid_row": null,
            "max_height": null,
            "align_content": null,
            "visibility": null,
            "align_self": null,
            "height": null,
            "min_height": null,
            "padding": null,
            "grid_auto_rows": null,
            "grid_gap": null,
            "max_width": null,
            "order": null,
            "_view_module_version": "1.2.0",
            "grid_template_areas": null,
            "object_position": null,
            "object_fit": null,
            "grid_auto_columns": null,
            "margin": null,
            "display": null,
            "left": null
          }
        },
        "730affc4275b4b39b5050b0193dbd4f6": {
          "model_module": "@jupyter-widgets/controls",
          "model_name": "SliderStyleModel",
          "state": {
            "_view_name": "StyleView",
            "handle_color": null,
            "_model_name": "SliderStyleModel",
            "description_width": "",
            "_view_module": "@jupyter-widgets/base",
            "_model_module_version": "1.5.0",
            "_view_count": null,
            "_view_module_version": "1.2.0",
            "_model_module": "@jupyter-widgets/controls"
          }
        },
        "839ebe1f48384d059e37b08e5d0624ac": {
          "model_module": "@jupyter-widgets/base",
          "model_name": "LayoutModel",
          "state": {
            "_view_name": "LayoutView",
            "grid_template_rows": null,
            "right": null,
            "justify_content": null,
            "_view_module": "@jupyter-widgets/base",
            "overflow": null,
            "_model_module_version": "1.2.0",
            "_view_count": null,
            "flex_flow": null,
            "width": null,
            "min_width": null,
            "border": null,
            "align_items": null,
            "bottom": null,
            "_model_module": "@jupyter-widgets/base",
            "top": null,
            "grid_column": null,
            "overflow_y": null,
            "overflow_x": null,
            "grid_auto_flow": null,
            "grid_area": null,
            "grid_template_columns": null,
            "flex": null,
            "_model_name": "LayoutModel",
            "justify_items": null,
            "grid_row": null,
            "max_height": null,
            "align_content": null,
            "visibility": null,
            "align_self": null,
            "height": null,
            "min_height": null,
            "padding": null,
            "grid_auto_rows": null,
            "grid_gap": null,
            "max_width": null,
            "order": null,
            "_view_module_version": "1.2.0",
            "grid_template_areas": null,
            "object_position": null,
            "object_fit": null,
            "grid_auto_columns": null,
            "margin": null,
            "display": null,
            "left": null
          }
        },
        "fd14c93ff95d4a7691f7667659d61acf": {
          "model_module": "@jupyter-widgets/controls",
          "model_name": "SliderStyleModel",
          "state": {
            "_view_name": "StyleView",
            "handle_color": null,
            "_model_name": "SliderStyleModel",
            "description_width": "",
            "_view_module": "@jupyter-widgets/base",
            "_model_module_version": "1.5.0",
            "_view_count": null,
            "_view_module_version": "1.2.0",
            "_model_module": "@jupyter-widgets/controls"
          }
        },
        "cfaa46255fc64db6ab0bde11a2aaee10": {
          "model_module": "@jupyter-widgets/base",
          "model_name": "LayoutModel",
          "state": {
            "_view_name": "LayoutView",
            "grid_template_rows": null,
            "right": null,
            "justify_content": null,
            "_view_module": "@jupyter-widgets/base",
            "overflow": null,
            "_model_module_version": "1.2.0",
            "_view_count": null,
            "flex_flow": null,
            "width": null,
            "min_width": null,
            "border": null,
            "align_items": null,
            "bottom": null,
            "_model_module": "@jupyter-widgets/base",
            "top": null,
            "grid_column": null,
            "overflow_y": null,
            "overflow_x": null,
            "grid_auto_flow": null,
            "grid_area": null,
            "grid_template_columns": null,
            "flex": null,
            "_model_name": "LayoutModel",
            "justify_items": null,
            "grid_row": null,
            "max_height": null,
            "align_content": null,
            "visibility": null,
            "align_self": null,
            "height": null,
            "min_height": null,
            "padding": null,
            "grid_auto_rows": null,
            "grid_gap": null,
            "max_width": null,
            "order": null,
            "_view_module_version": "1.2.0",
            "grid_template_areas": null,
            "object_position": null,
            "object_fit": null,
            "grid_auto_columns": null,
            "margin": null,
            "display": null,
            "left": null
          }
        },
        "7b05f30379f6449fb3cdd4a70be8ebf0": {
          "model_module": "@jupyter-widgets/controls",
          "model_name": "SliderStyleModel",
          "state": {
            "_view_name": "StyleView",
            "handle_color": null,
            "_model_name": "SliderStyleModel",
            "description_width": "",
            "_view_module": "@jupyter-widgets/base",
            "_model_module_version": "1.5.0",
            "_view_count": null,
            "_view_module_version": "1.2.0",
            "_model_module": "@jupyter-widgets/controls"
          }
        },
        "7aa0179d0578446d95898edfe97af012": {
          "model_module": "@jupyter-widgets/base",
          "model_name": "LayoutModel",
          "state": {
            "_view_name": "LayoutView",
            "grid_template_rows": null,
            "right": null,
            "justify_content": null,
            "_view_module": "@jupyter-widgets/base",
            "overflow": null,
            "_model_module_version": "1.2.0",
            "_view_count": null,
            "flex_flow": null,
            "width": null,
            "min_width": null,
            "border": null,
            "align_items": null,
            "bottom": null,
            "_model_module": "@jupyter-widgets/base",
            "top": null,
            "grid_column": null,
            "overflow_y": null,
            "overflow_x": null,
            "grid_auto_flow": null,
            "grid_area": null,
            "grid_template_columns": null,
            "flex": null,
            "_model_name": "LayoutModel",
            "justify_items": null,
            "grid_row": null,
            "max_height": null,
            "align_content": null,
            "visibility": null,
            "align_self": null,
            "height": null,
            "min_height": null,
            "padding": null,
            "grid_auto_rows": null,
            "grid_gap": null,
            "max_width": null,
            "order": null,
            "_view_module_version": "1.2.0",
            "grid_template_areas": null,
            "object_position": null,
            "object_fit": null,
            "grid_auto_columns": null,
            "margin": null,
            "display": null,
            "left": null
          }
        },
        "8105362b97f342a78acf6ef5f509ee08": {
          "model_module": "@jupyter-widgets/controls",
          "model_name": "SliderStyleModel",
          "state": {
            "_view_name": "StyleView",
            "handle_color": null,
            "_model_name": "SliderStyleModel",
            "description_width": "",
            "_view_module": "@jupyter-widgets/base",
            "_model_module_version": "1.5.0",
            "_view_count": null,
            "_view_module_version": "1.2.0",
            "_model_module": "@jupyter-widgets/controls"
          }
        },
        "c710d2521dc349f88b0acb62d8b4a503": {
          "model_module": "@jupyter-widgets/base",
          "model_name": "LayoutModel",
          "state": {
            "_view_name": "LayoutView",
            "grid_template_rows": null,
            "right": null,
            "justify_content": null,
            "_view_module": "@jupyter-widgets/base",
            "overflow": null,
            "_model_module_version": "1.2.0",
            "_view_count": null,
            "flex_flow": null,
            "width": null,
            "min_width": null,
            "border": null,
            "align_items": null,
            "bottom": null,
            "_model_module": "@jupyter-widgets/base",
            "top": null,
            "grid_column": null,
            "overflow_y": null,
            "overflow_x": null,
            "grid_auto_flow": null,
            "grid_area": null,
            "grid_template_columns": null,
            "flex": null,
            "_model_name": "LayoutModel",
            "justify_items": null,
            "grid_row": null,
            "max_height": null,
            "align_content": null,
            "visibility": null,
            "align_self": null,
            "height": null,
            "min_height": null,
            "padding": null,
            "grid_auto_rows": null,
            "grid_gap": null,
            "max_width": null,
            "order": null,
            "_view_module_version": "1.2.0",
            "grid_template_areas": null,
            "object_position": null,
            "object_fit": null,
            "grid_auto_columns": null,
            "margin": null,
            "display": null,
            "left": null
          }
        },
        "224e640b3909401e8d13593dadaa16db": {
          "model_module": "@jupyter-widgets/controls",
          "model_name": "SliderStyleModel",
          "state": {
            "_view_name": "StyleView",
            "handle_color": null,
            "_model_name": "SliderStyleModel",
            "description_width": "",
            "_view_module": "@jupyter-widgets/base",
            "_model_module_version": "1.5.0",
            "_view_count": null,
            "_view_module_version": "1.2.0",
            "_model_module": "@jupyter-widgets/controls"
          }
        },
        "92f3692d60db424496fb97b476c19594": {
          "model_module": "@jupyter-widgets/base",
          "model_name": "LayoutModel",
          "state": {
            "_view_name": "LayoutView",
            "grid_template_rows": null,
            "right": null,
            "justify_content": null,
            "_view_module": "@jupyter-widgets/base",
            "overflow": null,
            "_model_module_version": "1.2.0",
            "_view_count": null,
            "flex_flow": null,
            "width": null,
            "min_width": null,
            "border": null,
            "align_items": null,
            "bottom": null,
            "_model_module": "@jupyter-widgets/base",
            "top": null,
            "grid_column": null,
            "overflow_y": null,
            "overflow_x": null,
            "grid_auto_flow": null,
            "grid_area": null,
            "grid_template_columns": null,
            "flex": null,
            "_model_name": "LayoutModel",
            "justify_items": null,
            "grid_row": null,
            "max_height": null,
            "align_content": null,
            "visibility": null,
            "align_self": null,
            "height": null,
            "min_height": null,
            "padding": null,
            "grid_auto_rows": null,
            "grid_gap": null,
            "max_width": null,
            "order": null,
            "_view_module_version": "1.2.0",
            "grid_template_areas": null,
            "object_position": null,
            "object_fit": null,
            "grid_auto_columns": null,
            "margin": null,
            "display": null,
            "left": null
          }
        },
        "fecf7fa06af24cd5959d43a34daf71ca": {
          "model_module": "@jupyter-widgets/output",
          "model_name": "OutputModel",
          "state": {
            "_view_name": "OutputView",
            "msg_id": "",
            "_dom_classes": [],
            "_model_name": "OutputModel",
            "outputs": [
              {
                "output_type": "display_data",
                "metadata": {
                  "tags": []
                },
                "image/png": "iVBORw0KGgoAAAANSUhEUgAAAngAAAH1CAYAAABlUYOhAAAABHNCSVQICAgIfAhkiAAAAAlwSFlz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\n",
                "text/plain": "<Figure size 720x576 with 1 Axes>"
              }
            ],
            "_view_module": "@jupyter-widgets/output",
            "_model_module_version": "1.0.0",
            "_view_count": null,
            "_view_module_version": "1.0.0",
            "layout": "IPY_MODEL_70207569b7f1419cac58c10d5ad8321e",
            "_model_module": "@jupyter-widgets/output"
          }
        },
        "19d036ea6d0f47d3b3e2581f618e9907": {
          "model_module": "@jupyter-widgets/controls",
          "model_name": "HBoxModel",
          "state": {
            "_view_name": "HBoxView",
            "_dom_classes": [],
            "_model_name": "HBoxModel",
            "_view_module": "@jupyter-widgets/controls",
            "_model_module_version": "1.5.0",
            "_view_count": null,
            "_view_module_version": "1.5.0",
            "box_style": "",
            "layout": "IPY_MODEL_2d564a94f729474fa230339a03054a02",
            "_model_module": "@jupyter-widgets/controls",
            "children": [
              "IPY_MODEL_330e5fe8fc564b66a8fe93bf3b097ace",
              "IPY_MODEL_13250eca633047c4915bc47edf7eb191"
            ]
          }
        },
        "2d564a94f729474fa230339a03054a02": {
          "model_module": "@jupyter-widgets/base",
          "model_name": "LayoutModel",
          "state": {
            "_view_name": "LayoutView",
            "grid_template_rows": null,
            "right": null,
            "justify_content": null,
            "_view_module": "@jupyter-widgets/base",
            "overflow": null,
            "_model_module_version": "1.2.0",
            "_view_count": null,
            "flex_flow": null,
            "width": null,
            "min_width": null,
            "border": null,
            "align_items": null,
            "bottom": null,
            "_model_module": "@jupyter-widgets/base",
            "top": null,
            "grid_column": null,
            "overflow_y": null,
            "overflow_x": null,
            "grid_auto_flow": null,
            "grid_area": null,
            "grid_template_columns": null,
            "flex": null,
            "_model_name": "LayoutModel",
            "justify_items": null,
            "grid_row": null,
            "max_height": null,
            "align_content": null,
            "visibility": null,
            "align_self": null,
            "height": null,
            "min_height": null,
            "padding": null,
            "grid_auto_rows": null,
            "grid_gap": null,
            "max_width": null,
            "order": null,
            "_view_module_version": "1.2.0",
            "grid_template_areas": null,
            "object_position": null,
            "object_fit": null,
            "grid_auto_columns": null,
            "margin": null,
            "display": null,
            "left": null
          }
        },
        "330e5fe8fc564b66a8fe93bf3b097ace": {
          "model_module": "@jupyter-widgets/controls",
          "model_name": "DropdownModel",
          "state": {
            "_options_labels": [
              "gaussian",
              "tophat",
              "epanechnikov",
              "exponential",
              "linear",
              "cosine"
            ],
            "_view_name": "DropdownView",
            "style": "IPY_MODEL_2a24dd6249944005a4cdda2264dbc48a",
            "_dom_classes": [],
            "description": "Kernel:",
            "_model_name": "DropdownModel",
            "index": 0,
            "_view_module": "@jupyter-widgets/controls",
            "_model_module_version": "1.5.0",
            "_view_count": null,
            "disabled": false,
            "_view_module_version": "1.5.0",
            "description_tooltip": null,
            "_model_module": "@jupyter-widgets/controls",
            "layout": "IPY_MODEL_81f04ae64d0b4e4484b5add189924b9d"
          }
        },
        "13250eca633047c4915bc47edf7eb191": {
          "model_module": "@jupyter-widgets/controls",
          "model_name": "VBoxModel",
          "state": {
            "_view_name": "VBoxView",
            "_dom_classes": [],
            "_model_name": "VBoxModel",
            "_view_module": "@jupyter-widgets/controls",
            "_model_module_version": "1.5.0",
            "_view_count": null,
            "_view_module_version": "1.5.0",
            "box_style": "",
            "layout": "IPY_MODEL_644579a5b7e94e9c80dad145ce04d2a4",
            "_model_module": "@jupyter-widgets/controls",
            "children": [
              "IPY_MODEL_403090e6252e433093ee040ae7d7d0c8",
              "IPY_MODEL_61205f8a5e2043518eff8983146c6ce4"
            ]
          }
        },
        "2a24dd6249944005a4cdda2264dbc48a": {
          "model_module": "@jupyter-widgets/controls",
          "model_name": "DescriptionStyleModel",
          "state": {
            "_view_name": "StyleView",
            "_model_name": "DescriptionStyleModel",
            "description_width": "",
            "_view_module": "@jupyter-widgets/base",
            "_model_module_version": "1.5.0",
            "_view_count": null,
            "_view_module_version": "1.2.0",
            "_model_module": "@jupyter-widgets/controls"
          }
        },
        "81f04ae64d0b4e4484b5add189924b9d": {
          "model_module": "@jupyter-widgets/base",
          "model_name": "LayoutModel",
          "state": {
            "_view_name": "LayoutView",
            "grid_template_rows": null,
            "right": null,
            "justify_content": null,
            "_view_module": "@jupyter-widgets/base",
            "overflow": null,
            "_model_module_version": "1.2.0",
            "_view_count": null,
            "flex_flow": null,
            "width": null,
            "min_width": null,
            "border": null,
            "align_items": null,
            "bottom": null,
            "_model_module": "@jupyter-widgets/base",
            "top": null,
            "grid_column": null,
            "overflow_y": null,
            "overflow_x": null,
            "grid_auto_flow": null,
            "grid_area": null,
            "grid_template_columns": null,
            "flex": null,
            "_model_name": "LayoutModel",
            "justify_items": null,
            "grid_row": null,
            "max_height": null,
            "align_content": null,
            "visibility": null,
            "align_self": null,
            "height": null,
            "min_height": null,
            "padding": null,
            "grid_auto_rows": null,
            "grid_gap": null,
            "max_width": null,
            "order": null,
            "_view_module_version": "1.2.0",
            "grid_template_areas": null,
            "object_position": null,
            "object_fit": null,
            "grid_auto_columns": null,
            "margin": null,
            "display": null,
            "left": null
          }
        },
        "644579a5b7e94e9c80dad145ce04d2a4": {
          "model_module": "@jupyter-widgets/base",
          "model_name": "LayoutModel",
          "state": {
            "_view_name": "LayoutView",
            "grid_template_rows": null,
            "right": null,
            "justify_content": null,
            "_view_module": "@jupyter-widgets/base",
            "overflow": null,
            "_model_module_version": "1.2.0",
            "_view_count": null,
            "flex_flow": null,
            "width": null,
            "min_width": null,
            "border": null,
            "align_items": null,
            "bottom": null,
            "_model_module": "@jupyter-widgets/base",
            "top": null,
            "grid_column": null,
            "overflow_y": null,
            "overflow_x": null,
            "grid_auto_flow": null,
            "grid_area": null,
            "grid_template_columns": null,
            "flex": null,
            "_model_name": "LayoutModel",
            "justify_items": null,
            "grid_row": null,
            "max_height": null,
            "align_content": null,
            "visibility": null,
            "align_self": null,
            "height": null,
            "min_height": null,
            "padding": null,
            "grid_auto_rows": null,
            "grid_gap": null,
            "max_width": null,
            "order": null,
            "_view_module_version": "1.2.0",
            "grid_template_areas": null,
            "object_position": null,
            "object_fit": null,
            "grid_auto_columns": null,
            "margin": null,
            "display": null,
            "left": null
          }
        },
        "403090e6252e433093ee040ae7d7d0c8": {
          "model_module": "@jupyter-widgets/controls",
          "model_name": "FloatSliderModel",
          "state": {
            "_view_name": "FloatSliderView",
            "style": "IPY_MODEL_590a59bf215a4838adffbf9ec89756a1",
            "_dom_classes": [],
            "description": "bandwidth",
            "step": 0.1,
            "_model_name": "FloatSliderModel",
            "orientation": "horizontal",
            "max": 50,
            "_view_module": "@jupyter-widgets/controls",
            "_model_module_version": "1.5.0",
            "value": 1,
            "_view_count": null,
            "disabled": false,
            "_view_module_version": "1.5.0",
            "min": 1,
            "continuous_update": true,
            "readout_format": ".2f",
            "description_tooltip": null,
            "readout": true,
            "_model_module": "@jupyter-widgets/controls",
            "layout": "IPY_MODEL_743238a3aeff4eedb5b7f52656823f1a"
          }
        },
        "61205f8a5e2043518eff8983146c6ce4": {
          "model_module": "@jupyter-widgets/controls",
          "model_name": "ButtonModel",
          "state": {
            "_view_name": "ButtonView",
            "style": "IPY_MODEL_aa2ea79cf0f343f7a93c7e7f94cbb5c5",
            "_dom_classes": [],
            "description": "Cross Validation",
            "_model_name": "ButtonModel",
            "button_style": "",
            "_view_module": "@jupyter-widgets/controls",
            "_model_module_version": "1.5.0",
            "tooltip": "",
            "_view_count": null,
            "disabled": false,
            "_view_module_version": "1.5.0",
            "layout": "IPY_MODEL_834b61fc19474bd5a70d897ea69b9c84",
            "_model_module": "@jupyter-widgets/controls",
            "icon": ""
          }
        },
        "590a59bf215a4838adffbf9ec89756a1": {
          "model_module": "@jupyter-widgets/controls",
          "model_name": "SliderStyleModel",
          "state": {
            "_view_name": "StyleView",
            "handle_color": null,
            "_model_name": "SliderStyleModel",
            "description_width": "",
            "_view_module": "@jupyter-widgets/base",
            "_model_module_version": "1.5.0",
            "_view_count": null,
            "_view_module_version": "1.2.0",
            "_model_module": "@jupyter-widgets/controls"
          }
        },
        "743238a3aeff4eedb5b7f52656823f1a": {
          "model_module": "@jupyter-widgets/base",
          "model_name": "LayoutModel",
          "state": {
            "_view_name": "LayoutView",
            "grid_template_rows": null,
            "right": null,
            "justify_content": null,
            "_view_module": "@jupyter-widgets/base",
            "overflow": null,
            "_model_module_version": "1.2.0",
            "_view_count": null,
            "flex_flow": null,
            "width": null,
            "min_width": null,
            "border": null,
            "align_items": null,
            "bottom": null,
            "_model_module": "@jupyter-widgets/base",
            "top": null,
            "grid_column": null,
            "overflow_y": null,
            "overflow_x": null,
            "grid_auto_flow": null,
            "grid_area": null,
            "grid_template_columns": null,
            "flex": null,
            "_model_name": "LayoutModel",
            "justify_items": null,
            "grid_row": null,
            "max_height": null,
            "align_content": null,
            "visibility": null,
            "align_self": null,
            "height": null,
            "min_height": null,
            "padding": null,
            "grid_auto_rows": null,
            "grid_gap": null,
            "max_width": null,
            "order": null,
            "_view_module_version": "1.2.0",
            "grid_template_areas": null,
            "object_position": null,
            "object_fit": null,
            "grid_auto_columns": null,
            "margin": null,
            "display": null,
            "left": null
          }
        },
        "aa2ea79cf0f343f7a93c7e7f94cbb5c5": {
          "model_module": "@jupyter-widgets/controls",
          "model_name": "ButtonStyleModel",
          "state": {
            "_view_name": "StyleView",
            "_model_name": "ButtonStyleModel",
            "_view_module": "@jupyter-widgets/base",
            "_model_module_version": "1.5.0",
            "_view_count": null,
            "button_color": null,
            "font_weight": "",
            "_view_module_version": "1.2.0",
            "_model_module": "@jupyter-widgets/controls"
          }
        },
        "834b61fc19474bd5a70d897ea69b9c84": {
          "model_module": "@jupyter-widgets/base",
          "model_name": "LayoutModel",
          "state": {
            "_view_name": "LayoutView",
            "grid_template_rows": null,
            "right": null,
            "justify_content": null,
            "_view_module": "@jupyter-widgets/base",
            "overflow": null,
            "_model_module_version": "1.2.0",
            "_view_count": null,
            "flex_flow": null,
            "width": null,
            "min_width": null,
            "border": null,
            "align_items": null,
            "bottom": null,
            "_model_module": "@jupyter-widgets/base",
            "top": null,
            "grid_column": null,
            "overflow_y": null,
            "overflow_x": null,
            "grid_auto_flow": null,
            "grid_area": null,
            "grid_template_columns": null,
            "flex": null,
            "_model_name": "LayoutModel",
            "justify_items": null,
            "grid_row": null,
            "max_height": null,
            "align_content": null,
            "visibility": null,
            "align_self": null,
            "height": null,
            "min_height": null,
            "padding": null,
            "grid_auto_rows": null,
            "grid_gap": null,
            "max_width": null,
            "order": null,
            "_view_module_version": "1.2.0",
            "grid_template_areas": null,
            "object_position": null,
            "object_fit": null,
            "grid_auto_columns": null,
            "margin": null,
            "display": null,
            "left": null
          }
        },
        "a6750549a16c4c959ba4f774487e4ea8": {
          "model_module": "@jupyter-widgets/output",
          "model_name": "OutputModel",
          "state": {
            "_view_name": "OutputView",
            "msg_id": "",
            "_dom_classes": [],
            "_model_name": "OutputModel",
            "outputs": [
              {
                "output_type": "display_data",
                "metadata": {
                  "tags": []
                },
                "image/png": "iVBORw0KGgoAAAANSUhEUgAAAngAAAH1CAYAAABlUYOhAAAABHNCSVQICAgIfAhkiAAAAAlwSFlz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\nCCHCzP8H+o5rmhMu3LkAAAAASUVORK5CYII=\n",
                "text/plain": "<Figure size 720x576 with 1 Axes>"
              }
            ],
            "_view_module": "@jupyter-widgets/output",
            "_model_module_version": "1.0.0",
            "_view_count": null,
            "_view_module_version": "1.0.0",
            "layout": "IPY_MODEL_38eefc39858e4e778e452a209aa50946",
            "_model_module": "@jupyter-widgets/output"
          }
        }
      }
    }
  },
  "cells": [
    {
      "cell_type": "markdown",
      "metadata": {
        "id": "view-in-github",
        "colab_type": "text"
      },
      "source": [
        "<a href=\"https://colab.research.google.com/github/fbeilstein/machine_learning/blob/master/lecture_13_kernel_density_estimation.ipynb\" target=\"_parent\"><img src=\"https://colab.research.google.com/assets/colab-badge.svg\" alt=\"Open In Colab\"/></a>"
      ]
    },
    {
      "cell_type": "markdown",
      "metadata": {
        "id": "BJ-DUq6MoqWc",
        "colab_type": "text"
      },
      "source": [
        "#Kernel density estimation / Ядрова оцінка густини розподілу"
      ]
    },
    {
      "cell_type": "markdown",
      "metadata": {
        "id": "gZYadnN3sfQi",
        "colab_type": "text"
      },
      "source": [
        "**K**ernel **D**ensity **E**stimation (KDE) is a technique for estimation of probability distribution of the random variable.\n",
        "Before we had two instruments for that:\n",
        "* histograms to capture emphirical frequencies to approximate underlying probability distribution;\n",
        "* guessing a family of probability distributions that the data probably follows and estimating parameters (using MLE) of a most fit of these distributions.\n",
        "\n",
        "KDE is another option for us. It can be seen as an extention of the histogram technique."
      ]
    },
    {
      "cell_type": "markdown",
      "metadata": {
        "id": "g2i9dmgzT0jN",
        "colab_type": "text"
      },
      "source": [
        "#Motivating KDE: Histograms"
      ]
    },
    {
      "cell_type": "markdown",
      "metadata": {
        "id": "3lzFBpANoxck",
        "colab_type": "text"
      },
      "source": [
        "Although histograms are useful and widely used it's also true that\n",
        "\n",
        "$$\n",
        "\\text{Histograms are trickier than they seem.}\n",
        "$$\n",
        "\n",
        "The bins sizes and location could be chosen in many ways. This can drastically change the overall shape of the histogram."
      ]
    },
    {
      "cell_type": "code",
      "metadata": {
        "id": "FgTGp-GsT13k",
        "colab_type": "code",
        "outputId": "064a4be7-a2d8-40e7-bd4c-622fb936501c",
        "colab": {
          "base_uri": "https://localhost:8080/",
          "height": 274
        }
      },
      "source": [
        "%matplotlib inline\n",
        "import matplotlib.pyplot as plt\n",
        "import seaborn as sns; sns.set()\n",
        "import numpy as np\n",
        "\n",
        "def make_data(N, f=0.3, rseed=1):\n",
        "  rand = np.random.RandomState(rseed)\n",
        "  x = rand.randn(N)\n",
        "  x[int(f * N):] += 5\n",
        "  return x\n",
        "\n",
        "x = make_data(1000)\n",
        "hist = plt.hist(x, bins=30, density=True)"
      ],
      "execution_count": 0,
      "outputs": [
        {
          "output_type": "display_data",
          "data": {
            "image/png": "[encoded data removed]",
            "text/plain": [
              "<Figure size 432x288 with 1 Axes>"
            ]
          },
          "metadata": {
            "tags": []
          }
        }
      ]
    },
    {
      "cell_type": "code",
      "metadata": {
        "id": "wybFbOtjtMuS",
        "colab_type": "code",
        "outputId": "6fd9e0e2-0aeb-4716-8240-7c80a2060a7e",
        "colab": {
          "base_uri": "https://localhost:8080/",
          "height": 34
        }
      },
      "source": [
        "# histogram is normed = area equa to 1\n",
        "density, bins, patches = hist\n",
        "widths = bins[1:] - bins[:-1]\n",
        "(density * widths).sum()"
      ],
      "execution_count": 0,
      "outputs": [
        {
          "output_type": "execute_result",
          "data": {
            "text/plain": [
              "1.0"
            ]
          },
          "metadata": {
            "tags": []
          },
          "execution_count": 6
        }
      ]
    },
    {
      "cell_type": "markdown",
      "metadata": {
        "id": "bLtxb-45122v",
        "colab_type": "text"
      },
      "source": [
        "The issue is that depending on the bins the histograms may have different *qualitive* features. Consider this."
      ]
    },
    {
      "cell_type": "code",
      "metadata": {
        "id": "BgtT92WP1Y26",
        "colab_type": "code",
        "outputId": "3581bdbe-4723-4cbb-ffde-cc94afae90c9",
        "colab": {
          "base_uri": "https://localhost:8080/",
          "height": 274
        }
      },
      "source": [
        "x = make_data(20)\n",
        "bins = np.linspace(-5, 10, 10)\n",
        "fig, ax = plt.subplots(1, 2, figsize=(12, 4), sharex=True, sharey=True, subplot_kw={'xlim':(-4, 9), 'ylim':(-0.02, 0.3)})\n",
        "fig.subplots_adjust(wspace=0.05)\n",
        "for i, offset in enumerate([0.0, 0.6]):\n",
        "  ax[i].hist(x, bins=bins + offset, density=True)\n",
        "  ax[i].plot(x, np.full_like(x, -0.01), '|k', markeredgewidth=1)\n",
        "  \n"
      ],
      "execution_count": 0,
      "outputs": [
        {
          "output_type": "display_data",
          "data": {
            "image/png": "[encoded data removed]",
            "text/plain": [
              "<Figure size 864x288 with 2 Axes>"
            ]
          },
          "metadata": {
            "tags": []
          }
        }
      ]
    },
    {
      "cell_type": "markdown",
      "metadata": {
        "id": "aAoW_Glkphhh",
        "colab_type": "text"
      },
      "source": [
        "So it the underlying distribution bimodal or unimodal?\n",
        "\n",
        "---\n",
        "\n",
        "**Sidenote** \n",
        "\n",
        "---\n",
        "\n",
        "On the above picture we have used **a rug plot** -- a plot of data for a single quantitative variable, displayed as marks along an axis. As such it is analogous to a histogram with zero-width bins, or a one-dimensional scatter plot.\n",
        "Rug plots are often used in combination with two-dimensional scatter plots by placing a rug plot of the x values of the data along the x-axis, and similarly for the y values. This is the origin of the term \"rug plot\", as these rug plots with perpendicular markers look like tassels along the edges of the rectangular \"rug\" of the scatter plot.\n",
        "\n",
        "---\n",
        "\n",
        "We can try to solve the problem with the ambiguity of the bin choice by the following idea.\n",
        "You can rethink histogram as square blocks stacked on each other. Each block represents one point of data. If several datapoints are contained within one bin their blocks are placed one at the top of the other."
      ]
    },
    {
      "cell_type": "code",
      "metadata": {
        "id": "nlOSSBRl155E",
        "colab_type": "code",
        "outputId": "a2ffb0d3-9471-4d68-ca35-41e4c912160a",
        "colab": {
          "base_uri": "https://localhost:8080/",
          "height": 274
        }
      },
      "source": [
        "fig, ax = plt.subplots()\n",
        "bins = np.arange(-3, 8)\n",
        "ax.plot(x, np.full_like(x, -0.1), '|k', markeredgewidth=1)\n",
        "for count, edge in zip(*np.histogram(x, bins)):\n",
        "  for i in range(count):\n",
        "    ax.add_patch(plt.Rectangle((edge, i), 1, 1, alpha=0.5))\n",
        "    ax.set_xlim(-4, 8)\n",
        "    ax.set_ylim(-0.2, 8)"
      ],
      "execution_count": 0,
      "outputs": [
        {
          "output_type": "display_data",
          "data": {
            "image/png": "[encoded data removed]",
            "text/plain": [
              "<Figure size 432x288 with 1 Axes>"
            ]
          },
          "metadata": {
            "tags": []
          }
        }
      ]
    },
    {
      "cell_type": "markdown",
      "metadata": {
        "id": "yn5kCMDVpuIa",
        "colab_type": "text"
      },
      "source": [
        "But what if we placed each block so its center is just below the point it represents."
      ]
    },
    {
      "cell_type": "code",
      "metadata": {
        "id": "PmaIt2FW2XD9",
        "colab_type": "code",
        "outputId": "29fca3e3-6bf5-400f-9cf8-db443c4db1a6",
        "colab": {
          "base_uri": "https://localhost:8080/",
          "height": 274
        }
      },
      "source": [
        "x_d = np.linspace(-4, 8, 2000)\n",
        "density = sum((abs(xi - x_d) < 0.5) for xi in x)\n",
        "plt.fill_between(x_d, density, alpha=0.5)\n",
        "plt.plot(x, np.full_like(x, -0.1), '|k', markeredgewidth=1)\n",
        "plt.axis([-4, 8, -0.2, 8]);"
      ],
      "execution_count": 0,
      "outputs": [
        {
          "output_type": "display_data",
          "data": {
            "image/png": "[encoded data removed]",
            "text/plain": [
              "<Figure size 432x288 with 1 Axes>"
            ]
          },
          "metadata": {
            "tags": []
          }
        }
      ]
    },
    {
      "cell_type": "markdown",
      "metadata": {
        "id": "C7LI-9YHtiZZ",
        "colab_type": "text"
      },
      "source": [
        "Analytically this can be seen as if we have placed a \"square\" function (kernel) centered at each point and then we have summed all the functions up.\n",
        "\n",
        "![](https://raw.githubusercontent.com/fbeilstein/machine_learning/master/lecture_13/tophat.png) \n",
        "\n",
        "<br>\n",
        "\n",
        "This type of kernel is called top hat as it recalls a flat-crowned hat (aka cylinder - another term that is both a hat and a math object). The length of the kernel function has not have to be equal to the height.\n",
        "\n",
        "<br>\n",
        "\n",
        "![](https://raw.githubusercontent.com/fbeilstein/machine_learning/master/lecture_13/hat.png) \n",
        "\n",
        "<br>\n",
        "\n",
        "Now to make things not so \"right angled\" we can sum up smooth functions (for example Gaussians) instead of rectangular shapes (top hats)."
      ]
    },
    {
      "cell_type": "code",
      "metadata": {
        "id": "0NuMPFTb2k4v",
        "colab_type": "code",
        "outputId": "dfbb187a-ee23-46d8-a381-e456b9b2d09e",
        "colab": {
          "base_uri": "https://localhost:8080/",
          "height": 274
        }
      },
      "source": [
        "from scipy.stats import norm\n",
        "\n",
        "x_d = np.linspace(-4, 8, 1000)\n",
        "density = sum(norm(xi).pdf(x_d) for xi in x)\n",
        "plt.fill_between(x_d, density, alpha=0.5)\n",
        "plt.plot(x, np.full_like(x, -0.1), '|k', markeredgewidth=1)\n",
        "plt.axis([-4, 8, -0.2, 5]);\n",
        "\n",
        "# a Gaussian kernel"
      ],
      "execution_count": 0,
      "outputs": [
        {
          "output_type": "display_data",
          "data": {
            "image/png": "[encoded data removed]",
            "text/plain": [
              "<Figure size 432x288 with 1 Axes>"
            ]
          },
          "metadata": {
            "tags": []
          }
        }
      ]
    },
    {
      "cell_type": "markdown",
      "metadata": {
        "id": "UKtTyenQ21oM",
        "colab_type": "text"
      },
      "source": [
        "#Kernel Density Estimation "
      ]
    },
    {
      "cell_type": "markdown",
      "metadata": {
        "id": "spIbstS6H-qt",
        "colab_type": "text"
      },
      "source": [
        "In order to do KDE we need to make our mind about two things:\n",
        "  * kernel, which specifies the shape of the distribution placed at each point\n",
        "  * kernel bandwidth, which controls the size of the kernel at each point\n"
      ]
    },
    {
      "cell_type": "markdown",
      "metadata": {
        "id": "mmMie2p4_Nr0",
        "colab_type": "text"
      },
      "source": [
        "##Choosing kernel"
      ]
    },
    {
      "cell_type": "markdown",
      "metadata": {
        "id": "RU6-AjKD_S15",
        "colab_type": "text"
      },
      "source": [
        "On every data point $x_i$ we place a *kernel* function $K$. The kernel density estimate is then\n",
        "\n",
        "$$\n",
        "\\hat{f}_h(x)=\\frac{1}{Nh}\\sum_{i=1}^N K\\left(\\frac{x-x_i}{h}\\right),\n",
        "$$\n",
        "\n",
        "where $h$ is the scaling parameter caled *bandwidth*.\n",
        "\n",
        "In fact we can subtitute equal factors of $1/N$ with weights that can emphasize one points against the others:\n",
        "\n",
        "$$\n",
        "\\begin{aligned}\n",
        "& \\hat{f}_h(x)=\\frac{1}{h}\\sum_{i=1}^N w_i \\cdot K\\left(\\frac{x-x_i}{h}\\right), \\\\\n",
        "&\\sum_{i=1}^N w_i=1.\n",
        "\\end{aligned}\n",
        "$$\n",
        "\n",
        "The kernel function is typically\n",
        "* non-negative: $K(x) \\geq 0$;\n",
        "* symmetric: $\\,\\,\\,\\,\\, K(x)=K(-x)$;\n",
        "* decreasing: $\\,\\,\\,\\, K'(x)\\leq 0$;\n",
        "* $\\int K(x)dx=1$.\n",
        "\n",
        "$K$ has either compact support or decrease sufficiently fast approaching infinity.\n",
        "\n",
        "In the multivariate case (with $d$ dimensions) we have\n",
        "\n",
        "$$\n",
        "\\hat{f}_h(x)=\\frac{1}{Nh^d}\\sum_{i=1}^N K\\left(\\frac{\\|x-x_i\\|}{h}\\right),\n",
        "$$\n",
        "\n",
        "where $\\|\\cdot \\|$ is a some kind of norm, for example $p$-norm\n",
        "\n",
        "$$ \n",
        "\\|x\\|_p = \\left(\\sum_i |x_i|^p \\right)^{1/p}\n",
        "$$\n",
        "\n",
        "Although it's fun to see how the choise of kernel and metric affects the outcome,  it doesn't matter so much when there are lots of points.\n",
        "\n",
        "Nonetheless, what are our options when choosing the kernels?"
      ]
    },
    {
      "cell_type": "code",
      "metadata": {
        "id": "4R5k0DYyy0nl",
        "colab_type": "code",
        "outputId": "78b81d40-54ec-467f-99d1-f84042c624e6",
        "cellView": "form",
        "colab": {
          "base_uri": "https://localhost:8080/",
          "height": 393
        }
      },
      "source": [
        "#@title Available kernels\n",
        "\n",
        "import numpy as np\n",
        "import matplotlib\n",
        "import matplotlib.pyplot as plt\n",
        "from distutils.version import LooseVersion\n",
        "from scipy.stats import norm\n",
        "from sklearn.neighbors import KernelDensity\n",
        "\n",
        "\n",
        "X_plot = np.linspace(-6, 6, 1000)[:, None]\n",
        "X_src = np.zeros((1, 1))\n",
        "\n",
        "fig, ax = plt.subplots(2, 3, sharex=True, sharey=True, figsize=(10, 6))\n",
        "fig.subplots_adjust(left=0.05, right=0.95, hspace=0.05, wspace=0.05)\n",
        "\n",
        "\n",
        "def format_func(x, loc):\n",
        "    if x == 0:\n",
        "        return '0'\n",
        "    elif x == 1:\n",
        "        return 'h'\n",
        "    elif x == -1:\n",
        "        return '-h'\n",
        "    else:\n",
        "        return '%ih' % x\n",
        "\n",
        "for i, kernel in enumerate(['gaussian', 'tophat', 'epanechnikov',\n",
        "                            'exponential', 'linear', 'cosine']):\n",
        "    axi = ax.ravel()[i]\n",
        "    log_dens = KernelDensity(kernel=kernel).fit(X_src).score_samples(X_plot)\n",
        "    axi.fill(X_plot[:, 0], np.exp(log_dens), '-k', fc='#AAAAFF')\n",
        "    axi.text(-2.6, 0.95, kernel)\n",
        "\n",
        "    axi.xaxis.set_major_formatter(plt.FuncFormatter(format_func))\n",
        "    axi.xaxis.set_major_locator(plt.MultipleLocator(1))\n",
        "    axi.yaxis.set_major_locator(plt.NullLocator())\n",
        "\n",
        "    axi.set_ylim(0, 1.05)\n",
        "    axi.set_xlim(-2.9, 2.9)\n",
        "\n",
        "ax[0, 1].set_title('Available Kernels');\n"
      ],
      "execution_count": 0,
      "outputs": [
        {
          "output_type": "display_data",
          "data": {
            "image/png": "[encoded data removed]",
            "text/plain": [
              "<Figure size 720x432 with 6 Axes>"
            ]
          },
          "metadata": {
            "tags": []
          }
        }
      ]
    },
    {
      "cell_type": "markdown",
      "metadata": {
        "id": "VVGzEnOy8qkx",
        "colab_type": "text"
      },
      "source": [
        "$$\n",
        "\\begin{aligned}\n",
        "& K_{\\text{Gaussian}}(x;h) && \\propto \\quad e^{-\\frac{x^2}{2h^2}}; \\\\\n",
        "& K_{\\text{Tophat}}(x;h) && \\propto \\quad 1, &&& \\text{if   } \\quad x<h; \\\\\n",
        "& K_{\\text{Epanechnikov}}(x;h) && \\propto \\quad 1-\\frac{x^2}{h^2}; \\\\\n",
        "& K_{\\text{Exponential}}(x;h) && \\propto \\quad e^{-\\frac{x}{h}}; \\\\\n",
        "& K_{\\text{Linear}}(x;h) && \\propto \\quad 1-\\frac{|x|}{h}, &&& \\text{if   } \\quad |x|<h; \\\\\n",
        "& K_{\\text{Cosine}}(x;h) && \\propto \\quad \\cos{\\frac{\\pi x}{2 h}}, &&& \\text{if   } \\quad x<h. \\\\\n",
        "\\end{aligned}\n",
        "$$\n",
        "\n",
        "you can choose those by setting `kernel` parameter:\n",
        "* `kernel = 'gaussian';`\n",
        "* `kernel = 'tophat';`\n",
        "* `kernel = 'epanechnikov';`\n",
        "* `kernel = 'exponential';`\n",
        "* `kernel = 'linear';`\n",
        "* `kernel = 'cosine'.`"
      ]
    },
    {
      "cell_type": "markdown",
      "metadata": {
        "id": "UkuES-PX_H28",
        "colab_type": "text"
      },
      "source": [
        "##Choosing bandwidth"
      ]
    },
    {
      "cell_type": "markdown",
      "metadata": {
        "id": "EWh6vAx9_l39",
        "colab_type": "text"
      },
      "source": [
        "The choice of bandwidth within KDE is extremely important (the bias–variance trade-off).\n",
        "\n",
        "   *  too narrow a bandwidth leads to a high-variance estimate (i.e., overfitting)\n",
        "   * too wide a bandwidth leads to a high-bias estimate (i.e., underfitting)\n",
        "\n",
        "<br>\n",
        "\n",
        "   ![](https://raw.githubusercontent.com/fbeilstein/machine_learning/master/lecture_13/band.png) \n",
        "\n",
        "<br>\n",
        "\n",
        "Thus bandwidth is important!\n",
        "\n",
        "   There are two classes of approaches to this problem: in the statistics community, it is common to use reference rules, where the optimal bandwidth is estimated from theoretical forms based on assumptions about the data distribution. A common reference rule is **Silverman's rule of thumb**, which is derived for univariate KDE and included within both the `Scipy` and `Statsmodels` implementations. Other potential reference rules are ones based on Information Criteria, such as the well-known AIC and BIC. Another option is **Improved Sheather-Jones (ISJ) algorithm**.\n",
        "\n",
        "In the Machine Learning world, the use of reference rules is less common. Instead, an empirical approach such as **cross validation** is often used. In cross validation, the model is fit to part of the data, and then a quantitative metric is computed to determine how well this model fits the remaining data. Such an empirical approach to model parameter selection is very flexible, and can be used regardless of the underlying data distribution.\n",
        "\n",
        "Let's look at these approaches in more detail."
      ]
    },
    {
      "cell_type": "markdown",
      "metadata": {
        "id": "am_w-S6sMY4X",
        "colab_type": "text"
      },
      "source": [
        "###Theoretical considerations"
      ]
    },
    {
      "cell_type": "markdown",
      "metadata": {
        "id": "SXcsA8-Wt3y9",
        "colab_type": "text"
      },
      "source": [
        "The most common optimality criterion used to select this parameter is the expected $L_2$ risk function, also termed the **mean integrated squared error**:\n",
        "\n",
        "$$\\text{MISE}(h)=\\mathbb{E}\\left[\\int \\left(\\hat{f}_h(x)-f(x)\\right)^2 dx \\right].$$\n",
        "\n",
        "Under weak assumptions on $f$ and $K$\n",
        "\n",
        "$$\n",
        "\\text{MISE}(h)=\\text{AMISE}(h)+o\\left(\\frac{1}{Nh}+h^4\\right).\n",
        "$$\n",
        "\n",
        "The $\\text{AMISE}$ is the **A**symptotic **MISE** which consists of the two leading terms\n",
        "\n",
        "$$\n",
        "\\text{AMISE}(h)=\\frac{R(K)}{Nh}+\\frac{1}{4}m_2(K)^2h^4R(f''),\n",
        "$$\n",
        "\n",
        "where $R(g)=\\int g(x)^2 dx$ and $m_2(K)=\\int x^2 K(x) dx$. Thus\n",
        "* $R(g)$ is the functional $L_2$-norm;\n",
        "* $m_2(K)=\\mathbb{E}_K[x^2]$ is the so-called $2$-nd non-central moment of the kernel.\n",
        "\n",
        "The minimum of this $\\text{AMISE}$ is the solution to this differential equation\n",
        "\n",
        "$$\n",
        "\\begin{aligned}\n",
        "& \\frac{\\partial}{\\partial h}\\text{AMISE}(h) =-\\frac{R(K)}{N h^2}+m_2(K)^2h^3R(f'')=0 \\color{red}{\\Rightarrow} \\\\\n",
        "& \\color{red}{\\Rightarrow} \\qquad h_{\\text{AMISE}} =\\frac{R(K)^{1/5}}{m_2(K)^{2/5} R(f'')^{1/5}N^{1/5}}.\n",
        "\\end{aligned}\n",
        "$$\n",
        "\n",
        "Neither the $\\text{AMISE}$ nor the $h_\\text{AMISE}$ formulas are able to be used directly since they involve the unknown density function $f$ or its second derivative $f''$, so a variety of automatic, data-based methods have been developed for selecting the bandwidth."
      ]
    },
    {
      "cell_type": "markdown",
      "metadata": {
        "id": "ikXJjC-IJR7B",
        "colab_type": "text"
      },
      "source": [
        "###Silverman's Rule of Thumb"
      ]
    },
    {
      "cell_type": "markdown",
      "metadata": {
        "id": "F9e1Z4OmJT0W",
        "colab_type": "text"
      },
      "source": [
        "If the data is unimodal and close to normal, silverman’s rule of thumb may be used. It’s computationally very fast, but derived by assuming that the true density is normal. This is somewhat paradoxal, since if we knew that the data was truly normal it would render a kernel density estimator unnecessary.\n",
        "\n",
        "$$\n",
        "h=\\left(\\frac{4}{3}\\frac{\\hat{\\sigma}^5}{N}\\right)^{\\frac{1}{5}}.\n",
        "$$"
      ]
    },
    {
      "cell_type": "markdown",
      "metadata": {
        "id": "501YP8v3J1bf",
        "colab_type": "text"
      },
      "source": [
        "###Improved Sheather-Jones (ISJ) algorithm "
      ]
    },
    {
      "cell_type": "markdown",
      "metadata": {
        "id": "8BSBQb_hJ4oZ",
        "colab_type": "text"
      },
      "source": [
        "If much data is available and the data is far from normal or multimodal, the **I**mproved **S**heather **J**ones (ISJ) algorithm may be used. The Improved Sheather-Jones algorithm is a plug-in selector. \n",
        "\n",
        "The ISJ algorithm attempts to find h to minimize the asymptotic mean integrated square error ($\\text{AMISE}$), which depends on the unknown quantity $\\|f''(x)\\|^2$. Using a recursive formula, this is accomplished by computing a sequence of estimates."
      ]
    },
    {
      "cell_type": "markdown",
      "metadata": {
        "id": "q8stjXouIyTz",
        "colab_type": "text"
      },
      "source": [
        "###Selecting the bandwidth via cross-validation"
      ]
    },
    {
      "cell_type": "code",
      "metadata": {
        "id": "P_6K4w_3Izgz",
        "colab_type": "code",
        "outputId": "f9e39b77-e5b2-4eca-9800-879c83423287",
        "colab": {
          "base_uri": "https://localhost:8080/",
          "height": 34
        }
      },
      "source": [
        "from sklearn.model_selection import learning_curve, GridSearchCV\n",
        "from sklearn.model_selection import LeaveOneOut #train_test_split\n",
        "\n",
        "bandwidths = 10 ** np.linspace(-1, 1, 100)\n",
        "loo = LeaveOneOut()\n",
        "grid = GridSearchCV(KernelDensity(kernel='gaussian'), {'bandwidth': bandwidths}, cv=loo)\n",
        "grid.fit(x[:, None]);\n",
        "grid.best_params_"
      ],
      "execution_count": 0,
      "outputs": [
        {
          "output_type": "execute_result",
          "data": {
            "text/plain": [
              "{'bandwidth': 1.1233240329780276}"
            ]
          },
          "metadata": {
            "tags": []
          },
          "execution_count": 20
        }
      ]
    },
    {
      "cell_type": "markdown",
      "metadata": {
        "id": "JGrdMpBf_vRg",
        "colab_type": "text"
      },
      "source": [
        "#Interactive 1D example (kernel and bandwidth)"
      ]
    },
    {
      "cell_type": "code",
      "metadata": {
        "id": "YkXbzJ0IIPu8",
        "colab_type": "code",
        "outputId": "799d7bfc-9541-4d81-eb3b-42d4cf4d751c",
        "cellView": "form",
        "colab": {
          "resources": {
            "http://localhost:8080/nbextensions/google.colab/tabbar.css": {
              "data": "Lmdvb2ctdGFie3Bvc2l0aW9uOnJlbGF0aXZlO3BhZGRpbmc6NHB4IDhweDtjb2xvcjojMDBjO3RleHQtZGVjb3JhdGlvbjp1bmRlcmxpbmU7Y3Vyc29yOmRlZmF1bHR9Lmdvb2ctdGFiLWJhci10b3AgLmdvb2ctdGFie21hcmdpbjoxcHggNHB4IDAgMDtib3JkZXItYm90dG9tOjA7ZmxvYXQ6bGVmdH0uZ29vZy10YWItYmFyLXRvcDphZnRlciwuZ29vZy10YWItYmFyLWJvdHRvbTphZnRlcntjb250ZW50OiIgIjtkaXNwbGF5OmJsb2NrO2hlaWdodDowO2NsZWFyOmJvdGg7dmlzaWJpbGl0eTpoaWRkZW59Lmdvb2ctdGFiLWJhci1ib3R0b20gLmdvb2ctdGFie21hcmdpbjowIDRweCAxcHggMDtib3JkZXItdG9wOjA7ZmxvYXQ6bGVmdH0uZ29vZy10YWItYmFyLXN0YXJ0IC5nb29nLXRhYnttYXJnaW46MCAwIDRweCAxcHg7Ym9yZGVyLXJpZ2h0OjB9Lmdvb2ctdGFiLWJhci1lbmQgLmdvb2ctdGFie21hcmdpbjowIDFweCA0cHggMDtib3JkZXItbGVmdDowfS5nb29nLXRhYi1ob3ZlcntiYWNrZ3JvdW5kOiNlZWV9Lmdvb2ctdGFiLWRpc2FibGVke2NvbG9yOiM2NjZ9Lmdvb2ctdGFiLXNlbGVjdGVke2NvbG9yOiMwMDA7YmFja2dyb3VuZDojZmZmO3RleHQtZGVjb3JhdGlvbjpub25lO2ZvbnQtd2VpZ2h0OmJvbGQ7Ym9yZGVyOjFweCBzb2xpZCAjNmI5MGRhfS5nb29nLXRhYi1iYXItdG9we3BhZGRpbmctdG9wOjVweCFpbXBvcnRhbnQ7cGFkZGluZy1sZWZ0OjVweCFpbXBvcnRhbnQ7Ym9yZGVyLWJvdHRvbToxcHggc29saWQgIzZiOTBkYSFpbXBvcnRhbnR9Lmdvb2ctdGFiLWJhci10b3AgLmdvb2ctdGFiLXNlbGVjdGVke3RvcDoxcHg7bWFyZ2luLXRvcDowO3BhZGRpbmctYm90dG9tOjVweH0uZ29vZy10YWItYmFyLWJvdHRvbSAuZ29vZy10YWItc2VsZWN0ZWR7dG9wOi0xcHg7bWFyZ2luLWJvdHRvbTowO3BhZGRpbmctdG9wOjVweH0uZ29vZy10YWItYmFyLXN0YXJ0IC5nb29nLXRhYi1zZWxlY3RlZHtsZWZ0OjFweDttYXJnaW4tbGVmdDowO3BhZGRpbmctcmlnaHQ6OXB4fS5nb29nLXRhYi1iYXItZW5kIC5nb29nLXRhYi1zZWxlY3RlZHtsZWZ0Oi0xcHg7bWFyZ2luLXJpZ2h0OjA7cGFkZGluZy1sZWZ0OjlweH0uZ29vZy10YWItYmFye21hcmdpbjowO2JvcmRlcjowO3BhZGRpbmc6MDtsaXN0LXN0eWxlOm5vbmU7Y3Vyc29yOmRlZmF1bHQ7b3V0bGluZTpub25lO2JhY2tncm91bmQ6I2ViZWZmOX0uZ29vZy10YWItYmFyLWNsZWFye2NsZWFyOmJvdGg7aGVpZ2h0OjA7b3ZlcmZsb3c6aGlkZGVufS5nb29nLXRhYi1iYXItc3RhcnR7ZmxvYXQ6bGVmdH0uZ29vZy10YWItYmFyLWVuZHtmbG9hdDpyaWdodH0qIGh0bWwgLmdvb2ctdGFiLWJhci1zdGFydHttYXJnaW4tcmlnaHQ6LTNweH0qIGh0bWwgLmdvb2ctdGFiLWJhci1lbmR7bWFyZ2luLWxlZnQ6LTNweH0=",
              "ok": true,
              "headers": [
                [
                  "content-type",
                  "text/css"
                ]
              ],
              "status": 200,
              "status_text": ""
            },
            "http://localhost:8080/nbextensions/google.colab/tabbar_main.min.js": {
              "data": "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",
              "ok": true,
              "headers": [
                [
                  "content-type",
                  "application/javascript"
                ]
              ],
              "status": 200,
              "status_text": ""
            }
          },
          "base_uri": "https://localhost:8080/",
          "height": 622,
          "referenced_widgets": [
            "74bf9082a12f4faf87a9976052ef125f",
            "634c51481163413c8385c52992f03ba4",
            "82b2b6ad9bde4aa4a9c6112c4ee127d6",
            "d735255fd8b142a6993fddd599d37d54",
            "20cd1d4cfe4c4ddf9213c2f13f85fba3",
            "66c2dbbde98b4dafadd2432a91b9324d",
            "95299e3a7a064aa988397515bf4e2ad7",
            "0cee737b3a6745eb8fefb4a6d03a886f",
            "645777f38d97414792b5612b829e0f2e",
            "5d6a7f6616ff46ffaa2d4046d485eca4",
            "459f29944c534085afd6edbca5bf0c22",
            "64c1c7dc87d8403493b7fa8e511033bb",
            "6a978cda0000478d9b168a125c2b23d8",
            "d49a0cf122b24842a81d299a8a717ace",
            "7018eaf10b6d463b93afbc1dc4dfc9b6",
            "9bfeaf30e603481c9e3b474de2a38a4d",
            "87751d40daf544b0b1e9b3dbcad567df",
            "f0d46b05efe848fc8a5c38787ee034e2",
            "1bdf7cde0e32466181b53f7e6cfe276f",
            "ada52d62217f416a9298509475f72f8d",
            "67718db591c64071bde074a9453c7db5",
            "730affc4275b4b39b5050b0193dbd4f6",
            "839ebe1f48384d059e37b08e5d0624ac",
            "fd14c93ff95d4a7691f7667659d61acf",
            "cfaa46255fc64db6ab0bde11a2aaee10",
            "7b05f30379f6449fb3cdd4a70be8ebf0",
            "7aa0179d0578446d95898edfe97af012",
            "8105362b97f342a78acf6ef5f509ee08",
            "c710d2521dc349f88b0acb62d8b4a503",
            "224e640b3909401e8d13593dadaa16db",
            "92f3692d60db424496fb97b476c19594",
            "fecf7fa06af24cd5959d43a34daf71ca",
            "19d036ea6d0f47d3b3e2581f618e9907",
            "2d564a94f729474fa230339a03054a02",
            "330e5fe8fc564b66a8fe93bf3b097ace",
            "13250eca633047c4915bc47edf7eb191",
            "2a24dd6249944005a4cdda2264dbc48a",
            "81f04ae64d0b4e4484b5add189924b9d",
            "644579a5b7e94e9c80dad145ce04d2a4",
            "403090e6252e433093ee040ae7d7d0c8",
            "61205f8a5e2043518eff8983146c6ce4",
            "590a59bf215a4838adffbf9ec89756a1",
            "743238a3aeff4eedb5b7f52656823f1a",
            "aa2ea79cf0f343f7a93c7e7f94cbb5c5",
            "834b61fc19474bd5a70d897ea69b9c84",
            "a6750549a16c4c959ba4f774487e4ea8"
          ]
        }
      },
      "source": [
        "#@title Bandwidth and kernel in KDE\n",
        "from google.colab import widgets\n",
        "import ipywidgets\n",
        "import scipy\n",
        "from sklearn.neighbors import KernelDensity\n",
        "from sklearn.model_selection import learning_curve, GridSearchCV\n",
        "from sklearn.model_selection import LeaveOneOut #train_test_split\n",
        "\n",
        "\n",
        "\n",
        "params = []\n",
        "X = []\n",
        "b_w = ipywidgets.FloatSlider(description='bandwidth', min=1, max=50.0, value=15.0)\n",
        "ker_type = ipywidgets.Dropdown(\n",
        "  options=['gaussian', 'tophat', 'epanechnikov', 'exponential','linear','cosine'],\n",
        "  value='gaussian',\n",
        "  description='Kernel:',\n",
        "  disabled=False)\n",
        "\n",
        "def set_slider(x):\n",
        "  bandwidths = np.linspace(b_w.min, b_w.max, 100)\n",
        "  loo = LeaveOneOut()\n",
        "  grid = GridSearchCV(KernelDensity(kernel=ker_type.value), {'bandwidth': bandwidths}, cv=loo)\n",
        "  grid.fit(np.array(X)[:, None]);\n",
        "  b_w.value = grid.best_params_['bandwidth']\n",
        "\n",
        "def plot_pdf(plot_separate, k_d = None):\n",
        "  global params\n",
        "  global X\n",
        "  if not params:\n",
        "    return\n",
        "\n",
        "  pi1, pi2, pi3, mu1, sig1, mu2, sig2, mu3, sig3 = params\n",
        "  x = np.linspace(np.min(X), np.max(X), 1001)\n",
        "  fig = plt.figure(figsize=(10, 8))\n",
        "  P_sum = np.zeros(x.shape)\n",
        "  for mu, sig, c, pi, i in [[mu1, sig1, 'r', pi1, 1], [mu2, sig2, 'g', pi2, 2], [mu3, sig3, 'b', pi3, 3]]:\n",
        "    P = scipy.stats.norm.pdf(x, mu, sig)\n",
        "    P_sum += P * pi\n",
        "    if plot_separate:\n",
        "      plt.plot(x, P, c, linewidth=2.0, label=\"{}\".format(i), alpha=np.clip(pi, 0.0, 1.0))\n",
        "  \n",
        "  plt.plot(x, P_sum, 'k', linewidth=3.0, label=\"mixture\")\n",
        "  plt.plot(np.array(X), np.full_like(np.array(X), 0.0), '|k', markeredgewidth=1)\n",
        "  plt.title('True pdf / pdf estimate')\n",
        "  plt.xlabel('x')\n",
        "  plt.ylabel('pdf')\n",
        "  plt.legend()\n",
        "  #plt.show()\n",
        "\n",
        "def set_and_plot(pi, mu1, sig1, mu2, sig2, mu3, sig3):\n",
        "  pi1, pi2 = pi; pi2 -= pi1; pi3 = 1.0 - pi2 - pi1;\n",
        "  global params\n",
        "  global X\n",
        "  X = []\n",
        "  params = [pi1, pi2, pi3, mu1, sig1, mu2, sig2, mu3, sig3]\n",
        "  N = 200\n",
        "  for mu, sig, pi in [[mu1, sig1, pi1], [mu2, sig2, pi2], [mu3, sig3, pi3]]:\n",
        "    X = X + np.random.normal(mu, sig, int(N * pi)).tolist()\n",
        "  plot_pdf(True)\n",
        "\n",
        "\n",
        "def ker_plot(b_w, k_t):\n",
        "  kde = KernelDensity(bandwidth=b_w, kernel=k_t)\n",
        "  global X\n",
        "  kde.fit(np.array(X)[:, None])\n",
        "  x_d = np.linspace(np.min(X), np.max(X), 1001)\n",
        "  logprob = kde.score_samples(x_d[:, None])\n",
        "  plot_pdf(False)\n",
        "  plt.fill_between(x_d, np.exp(logprob), alpha=0.5, color='r')\n",
        "\n",
        "tb = widgets.TabBar(['mix distribution', 'find KDE'], location='top')\n",
        "with tb.output_to(0):\n",
        "  words = ['mu_1', 'sigma_1', 'mu_2', 'sigma_2', 'mu_3', 'sigma_3']\n",
        "  mins  = [0.0, 1.0, 0.0, 1.0, 0.0, 1.0]\n",
        "  maxes = [100.0, 10.0, 100.0, 10.0, 100.0, 10.0]\n",
        "  vals  = [10.0, 10.0, 50.0, 10.0, 90.0, 10.0]\n",
        "  sliders = [ipywidgets.FloatSlider(description=w, min=n, max=x, value=v) for w,x,n,v in zip(words, maxes, mins, vals)]\n",
        "  pi_slider = ipywidgets.FloatRangeSlider(value=[0.3, 0.6], min=0.0, max=1.0, description='pi(1,2,3)')\n",
        "  boxes = [ipywidgets.VBox([pi_slider])]\n",
        "  for slider1, slider2 in zip(sliders[::2], sliders[1::2]):\n",
        "    boxes.append(ipywidgets.VBox([slider1, slider2]))\n",
        "  out = ipywidgets.interactive_output(set_and_plot, {\n",
        "    \"pi\": pi_slider,\n",
        "    \"mu1\": sliders[0], \"sig1\": sliders[1],\n",
        "    \"mu2\": sliders[2], \"sig2\": sliders[3],\n",
        "    \"mu3\": sliders[4], \"sig3\": sliders[5]})\n",
        "  display(ipywidgets.HBox(boxes), out)\n",
        "with tb.output_to(1):\n",
        "  btn = ipywidgets.Button(\n",
        "    description='Cross Validation',\n",
        "    disabled=False,\n",
        "    button_style='')\n",
        "  out = ipywidgets.interactive_output(ker_plot, {\"b_w\": b_w, \"k_t\": ker_type})\n",
        "  display(ipywidgets.HBox([ker_type, ipywidgets.VBox([b_w, btn])]), out)\n",
        "  btn.on_click(set_slider)"
      ],
      "execution_count": 0,
      "outputs": [
        {
          "output_type": "display_data",
          "data": {
            "text/html": [
              "<link rel=stylesheet type=text/css href='/nbextensions/google.colab/tabbar.css'></link>"
            ],
            "text/plain": [
              "<IPython.core.display.HTML object>"
            ]
          },
          "metadata": {
            "tags": [
              "outputarea_id51"
            ]
          }
        },
        {
          "output_type": "display_data",
          "data": {
            "text/html": [
              "<script src='/nbextensions/google.colab/tabbar_main.min.js'></script>"
            ],
            "text/plain": [
              "<IPython.core.display.HTML object>"
            ]
          },
          "metadata": {
            "tags": [
              "outputarea_id51"
            ]
          }
        },
        {
          "output_type": "display_data",
          "data": {
            "text/html": [
              "<div id=\"id51\"></div>"
            ],
            "text/plain": [
              "<IPython.core.display.HTML object>"
            ]
          },
          "metadata": {
            "tags": [
              "outputarea_id51"
            ]
          }
        },
        {
          "output_type": "display_data",
          "data": {
            "application/javascript": [
              "window[\"ec240d66-17c8-11ea-a39b-0242ac1c0002\"] = colab_lib.createTabBar({\"location\": \"top\", \"elementId\": \"id51\", \"tabNames\": [\"mix distribution\", \"find KDE\"], \"initialSelection\": 0, \"contentBorder\": [\"0px\"], \"contentHeight\": [\"initial\"], \"borderColor\": [\"#a7a7a7\"]});\n",
              "//# sourceURL=js_0e58ef098a"
            ],
            "text/plain": [
              "<IPython.core.display.Javascript object>"
            ]
          },
          "metadata": {
            "tags": [
              "outputarea_id51"
            ]
          }
        },
        {
          "output_type": "display_data",
          "data": {
            "application/javascript": [
              "window[\"ec246950-17c8-11ea-a39b-0242ac1c0002\"] = window[\"id51\"].setSelectedTabIndex(0);\n",
              "//# sourceURL=js_b7a3c9f785"
            ],
            "text/plain": [
              "<IPython.core.display.Javascript object>"
            ]
          },
          "metadata": {
            "tags": [
              "outputarea_id51"
            ]
          }
        },
        {
          "output_type": "display_data",
          "data": {
            "application/javascript": [
              "window[\"ec25b710-17c8-11ea-a39b-0242ac1c0002\"] = google.colab.output.getActiveOutputArea();\n",
              "//# sourceURL=js_1ac11b3a1e"
            ],
            "text/plain": [
              "<IPython.core.display.Javascript object>"
            ]
          },
          "metadata": {
            "tags": [
              "id51_content_0",
              "outputarea_id51"
            ]
          }
        },
        {
          "output_type": "display_data",
          "data": {
            "application/javascript": [
              "window[\"ec25efaa-17c8-11ea-a39b-0242ac1c0002\"] = document.querySelector(\"#id51_content_0\");\n",
              "//# sourceURL=js_db2079be70"
            ],
            "text/plain": [
              "<IPython.core.display.Javascript object>"
            ]
          },
          "metadata": {
            "tags": [
              "id51_content_0",
              "outputarea_id51"
            ]
          }
        },
        {
          "output_type": "display_data",
          "data": {
            "application/javascript": [
              "window[\"ec262df8-17c8-11ea-a39b-0242ac1c0002\"] = google.colab.output.setActiveOutputArea(window[\"ec25efaa-17c8-11ea-a39b-0242ac1c0002\"]);\n",
              "//# sourceURL=js_90557f5831"
            ],
            "text/plain": [
              "<IPython.core.display.Javascript object>"
            ]
          },
          "metadata": {
            "tags": [
              "id51_content_0",
              "outputarea_id51"
            ]
          }
        },
        {
          "output_type": "display_data",
          "data": {
            "application/javascript": [
              "window[\"ec267024-17c8-11ea-a39b-0242ac1c0002\"] = window[\"id51\"].setSelectedTabIndex(0);\n",
              "//# sourceURL=js_32bff547bb"
            ],
            "text/plain": [
              "<IPython.core.display.Javascript object>"
            ]
          },
          "metadata": {
            "tags": [
              "id51_content_0",
              "outputarea_id51"
            ]
          }
        },
        {
          "output_type": "display_data",
          "data": {
            "application/vnd.jupyter.widget-view+json": {
              "model_id": "74bf9082a12f4faf87a9976052ef125f",
              "version_minor": 0,
              "version_major": 2
            },
            "text/plain": [
              "HBox(children=(VBox(children=(FloatRangeSlider(value=(0.3, 0.6), description='pi(1,2,3)', max=1.0),)), VBox(ch…"
            ]
          },
          "metadata": {
            "tags": [
              "id51_content_0",
              "outputarea_id51",
              "user_output"
            ]
          }
        },
        {
          "output_type": "display_data",
          "data": {
            "application/vnd.jupyter.widget-view+json": {
              "model_id": "fecf7fa06af24cd5959d43a34daf71ca",
              "version_minor": 0,
              "version_major": 2
            },
            "text/plain": [
              "Output()"
            ]
          },
          "metadata": {
            "tags": [
              "id51_content_0",
              "outputarea_id51",
              "user_output"
            ]
          }
        },
        {
          "output_type": "display_data",
          "data": {
            "application/javascript": [
              "window[\"ec773112-17c8-11ea-a39b-0242ac1c0002\"] = google.colab.output.setActiveOutputArea(window[\"ec25b710-17c8-11ea-a39b-0242ac1c0002\"]);\n",
              "//# sourceURL=js_c4fc95dc35"
            ],
            "text/plain": [
              "<IPython.core.display.Javascript object>"
            ]
          },
          "metadata": {
            "tags": [
              "id51_content_0",
              "outputarea_id51"
            ]
          }
        },
        {
          "output_type": "display_data",
          "data": {
            "application/javascript": [
              "window[\"ec78be24-17c8-11ea-a39b-0242ac1c0002\"] = google.colab.output.getActiveOutputArea();\n",
              "//# sourceURL=js_68ac62765e"
            ],
            "text/plain": [
              "<IPython.core.display.Javascript object>"
            ]
          },
          "metadata": {
            "tags": [
              "id51_content_1",
              "outputarea_id51"
            ]
          }
        },
        {
          "output_type": "display_data",
          "data": {
            "application/javascript": [
              "window[\"ec790370-17c8-11ea-a39b-0242ac1c0002\"] = document.querySelector(\"#id51_content_1\");\n",
              "//# sourceURL=js_96521c2ee9"
            ],
            "text/plain": [
              "<IPython.core.display.Javascript object>"
            ]
          },
          "metadata": {
            "tags": [
              "id51_content_1",
              "outputarea_id51"
            ]
          }
        },
        {
          "output_type": "display_data",
          "data": {
            "application/javascript": [
              "window[\"ec794538-17c8-11ea-a39b-0242ac1c0002\"] = google.colab.output.setActiveOutputArea(window[\"ec790370-17c8-11ea-a39b-0242ac1c0002\"]);\n",
              "//# sourceURL=js_8ad215eb08"
            ],
            "text/plain": [
              "<IPython.core.display.Javascript object>"
            ]
          },
          "metadata": {
            "tags": [
              "id51_content_1",
              "outputarea_id51"
            ]
          }
        },
        {
          "output_type": "display_data",
          "data": {
            "application/javascript": [
              "window[\"ec7986ec-17c8-11ea-a39b-0242ac1c0002\"] = window[\"id51\"].setSelectedTabIndex(1);\n",
              "//# sourceURL=js_7a97eee91e"
            ],
            "text/plain": [
              "<IPython.core.display.Javascript object>"
            ]
          },
          "metadata": {
            "tags": [
              "id51_content_1",
              "outputarea_id51"
            ]
          }
        },
        {
          "output_type": "display_data",
          "data": {
            "application/vnd.jupyter.widget-view+json": {
              "model_id": "19d036ea6d0f47d3b3e2581f618e9907",
              "version_minor": 0,
              "version_major": 2
            },
            "text/plain": [
              "HBox(children=(Dropdown(description='Kernel:', options=('gaussian', 'tophat', 'epanechnikov', 'exponential', '…"
            ]
          },
          "metadata": {
            "tags": [
              "id51_content_1",
              "outputarea_id51",
              "user_output"
            ]
          }
        },
        {
          "output_type": "display_data",
          "data": {
            "application/vnd.jupyter.widget-view+json": {
              "model_id": "a6750549a16c4c959ba4f774487e4ea8",
              "version_minor": 0,
              "version_major": 2
            },
            "text/plain": [
              "Output()"
            ]
          },
          "metadata": {
            "tags": [
              "id51_content_1",
              "outputarea_id51",
              "user_output"
            ]
          }
        },
        {
          "output_type": "display_data",
          "data": {
            "application/javascript": [
              "window[\"ecbe1294-17c8-11ea-a39b-0242ac1c0002\"] = google.colab.output.setActiveOutputArea(window[\"ec78be24-17c8-11ea-a39b-0242ac1c0002\"]);\n",
              "//# sourceURL=js_6466c09d19"
            ],
            "text/plain": [
              "<IPython.core.display.Javascript object>"
            ]
          },
          "metadata": {
            "tags": [
              "id51_content_1",
              "outputarea_id51"
            ]
          }
        }
      ]
    },
    {
      "cell_type": "markdown",
      "metadata": {
        "id": "K4ZOQYKOXFct",
        "colab_type": "text"
      },
      "source": [
        "#Interactive 2D example (sample points)"
      ]
    },
    {
      "cell_type": "code",
      "metadata": {
        "id": "C_naQsfwXL8J",
        "colab_type": "code",
        "colab": {}
      },
      "source": [
        "from sklearn.neighbors import KernelDensity\n",
        "# instantiate and fit the KDE model\n",
        "kde = KernelDensity(kernel='tophat')\n",
        "\n",
        "def fit_distribution(X, bandwidth, ker_name):\n",
        "  params = {'bandwidth': bandwidth, 'kernel': ker_name}\n",
        "  kde.set_params(**params)\n",
        "  kde.fit(X)\n",
        "\n",
        "def evaluate_distribution(X):\n",
        "  logprob = kde.score_samples(X)\n",
        "  return np.exp(logprob)"
      ],
      "execution_count": 0,
      "outputs": []
    },
    {
      "cell_type": "code",
      "metadata": {
        "id": "FekYs8I_XUXM",
        "colab_type": "code",
        "cellView": "form",
        "outputId": "72771ff8-b778-4e5f-c8d0-cc6dd55521d1",
        "colab": {
          "base_uri": "https://localhost:8080/",
          "height": 637
        }
      },
      "source": [
        "#@title Interactive 2D KDE\n",
        "import numpy as np\n",
        "import matplotlib.pyplot as plt\n",
        "from matplotlib.colors import ListedColormap\n",
        "from matplotlib import cm\n",
        "import seaborn as sns\n",
        "        \n",
        "def plot_clusters(x_, y_, z_):\n",
        "  fig = plt.figure(figsize=(10,10))\n",
        "  ax = fig.gca()\n",
        "  #ax = sns.kdeplot(X[:,0], X[:,1], cmap=\"Blues\", shade=True, shade_lowest=False)\n",
        "  sns.set()\n",
        "  ax.contourf(x_, y_, z_, alpha=0.5, cmap=\"Blues\")\n",
        "  ax.tick_params(axis=\"y\",direction=\"in\", pad=-60)\n",
        "  ax.tick_params(axis=\"x\",direction=\"in\", pad=-30)\n",
        "  ax.set_xticks(np.arange(-.75, 1, .25))\n",
        "  ax.set_yticks(np.arange(-.75, 1, .25))\n",
        "  ax.set_xlim([-1, 1])\n",
        "  ax.set_ylim([-1, 1])\n",
        "\n",
        "\n",
        "  plt.close(fig)\n",
        "\n",
        "  return fig\n",
        "\n",
        "import base64\n",
        "import io\n",
        "\n",
        "def figure_to_base64(fig):\n",
        "  buf = io.BytesIO()\n",
        "  fig.savefig(buf, format='png', bbox_inches='tight', pad_inches=0);\n",
        "  image_base64 = base64.b64encode(buf.getvalue()).decode('utf-8').replace('\\n', '')\n",
        "  buf.close()\n",
        "  return image_base64\n",
        "\n",
        "\n",
        "\n",
        "import json\n",
        "from IPython.display import display, clear_output\n",
        "\n",
        "def invoke(pts, n, ker_name):\n",
        "  data = np.array(pts).reshape((-1, 2))\n",
        "  X = data / 300.0 - 1.0\n",
        "  X[:, 1] *= -1.0\n",
        "  fit_distribution(X, float(n)/1000.0, ker_name)\n",
        "  x_ = np.linspace(-1.0, +1.0, num=300)\n",
        "  y_ = np.linspace(-1.0, +1.0, num=300)\n",
        "  xx, yy = np.meshgrid(x_, y_)\n",
        "  x_vec = np.transpose(np.vstack([xx.ravel(), yy.ravel()]))\n",
        "  G  = evaluate_distribution(x_vec).reshape((x_.shape[0],y_.shape[0]))\n",
        "  figr = plot_clusters(x_, y_, G)\n",
        "  image_base64 = figure_to_base64(figr)\n",
        "\n",
        "  return IPython.display.JSON({'image': image_base64, \n",
        "                               'g_x': x_.tolist(), 'g_y': y_.tolist(), 'g_z': G.tolist(),\n",
        "                               's_x': X[:, 0].tolist(), 's_y': X[:, 1].tolist(), 's_z': [0]*len(X)})\n",
        "\n",
        "\n",
        "import IPython\n",
        "from google.colab import output\n",
        "\n",
        "main_str = '''\n",
        "  <script src=\"https://cdn.plot.ly/plotly-latest.min.js\"></script> \n",
        "  <script type=\"application/javascript\">\n",
        "  \n",
        "    var active_pt = null;\n",
        "    var all_pts = [];\n",
        "    var classAbtn = [650, 100];\n",
        "    var classBbtn = [650, 200];\n",
        "    var ptR = 10.0;\n",
        "    var params = null;\n",
        "    var debug_txt = \"\";\n",
        "    var bg_image = new Image();\n",
        "\n",
        "    function is_close(pt1, pt2) {\n",
        "      return   (pt1[0] - pt2[0])*(pt1[0] - pt2[0])\n",
        "            +  (pt1[1] - pt2[1])*(pt1[1] - pt2[1])\n",
        "            <= ptR*ptR;\n",
        "    }\n",
        "  \n",
        "    function circ(ctx, pos) {\n",
        "      ctx.beginPath();\n",
        "      ctx.arc(pos[0], pos[1], ptR, 0.0, 2.0 * Math.PI, 0);\n",
        "      ctx.fillStyle = 'rgba(255, 128, 0, 0.5)';\n",
        "      ctx.fill();\n",
        "    }\n",
        "    \n",
        "    \n",
        "    function draw() {\n",
        "      var canvas = document.getElementById('canvas');\n",
        "      if (canvas.getContext) {\n",
        "        var ctx = canvas.getContext('2d');\n",
        "        \n",
        "        ctx.clearRect(0, 0, canvas.width, canvas.height); // cleanup before start\n",
        "        ctx.drawImage(bg_image, 0, 0, 600, 600);\n",
        "        ctx.strokeRect(0, 0, 600, 600); // field\n",
        "        \n",
        "        ctx.font = '20px serif';\n",
        "        ctx.fillStyle = 'black';\n",
        "        ctx.fillText(debug_txt, 200, 200);\n",
        "        \n",
        "        if (active_pt) {\n",
        "          circ(ctx, [active_pt[0], active_pt[1]]);\n",
        "        }\n",
        "        all_pts.forEach(function (item, index) {\n",
        "          circ(ctx, [item[0], item[1]]);\n",
        "        });\n",
        "\n",
        "      }\n",
        "    }\n",
        "    \n",
        "    var timer\n",
        "\n",
        "    function get_state() {\n",
        "      var rates = document.getElementsByName('rate');\n",
        "      for(var i = 0; i < rates.length; i++)\n",
        "        if(rates[i].checked)\n",
        "          return rates[i].value;\n",
        "      return \"none\";\n",
        "    }\n",
        "\n",
        "    \n",
        "    function mdown_handle(evt) {\n",
        "      evt.stopPropagation();\n",
        "      x = evt.offsetX;\n",
        "      y = evt.offsetY;\n",
        "      state = get_state();\n",
        "      if (state == \"add\") {\n",
        "        if (x < 600)\n",
        "            all_pts.push([x, y]);\n",
        "        return;\n",
        "      }\n",
        "\n",
        "      idx = -1;\n",
        "      all_pts.forEach(function (item, index) {\n",
        "        if (is_close([x,y], [item[0], item[1]])) {\n",
        "          idx = index;\n",
        "        }\n",
        "      });\n",
        "      if (idx <= -1)\n",
        "          return;\n",
        "      if (state == \"move\") {\n",
        "        active_pt = all_pts[idx];\n",
        "        all_pts.splice(idx, 1);\n",
        "      }\n",
        "      if (state == \"del\")\n",
        "          all_pts.splice(idx, 1);\n",
        "    }\n",
        "    \n",
        "    function mmove_handle(evt) {\n",
        "      evt.stopPropagation();\n",
        "      if (get_state() != \"move\")\n",
        "          return;\n",
        "      x = evt.offsetX;\n",
        "      y = evt.offsetY;\n",
        "      if (active_pt) {\n",
        "        active_pt[0] = x;\n",
        "        active_pt[1] = y;\n",
        "      }\n",
        "    }\n",
        "    \n",
        "    function mup_handle(evt) {\n",
        "      evt.stopPropagation();\n",
        "      x = evt.offsetX;\n",
        "      y = evt.offsetY;\n",
        "      if (x >= 600) {\n",
        "        active_pt = null;\n",
        "      }\n",
        "      if (active_pt) {\n",
        "        all_pts.push(active_pt);\n",
        "        active_pt = null;\n",
        "      }\n",
        "    }\n",
        "    \n",
        "    function clear_field() {\n",
        "      active_pt = null;\n",
        "      all_pts = [];\n",
        "    }\n",
        "\n",
        "\n",
        "   function plot_3d(g_x, g_y, g_z)\n",
        "   {\n",
        "     cell_for_plot = document.getElementById('for_plotly_plot');\n",
        "     //Plotly.deleteTraces(cell_for_plot, [0, 1]);\n",
        "     var data = [{\n",
        "           x: g_x,\n",
        "           y: g_y,\n",
        "           z: g_z,\n",
        "           type: 'surface',\n",
        "           opacity: 0.9,\n",
        "           showscale: false,\n",
        "           colorscale: \"Viridis\"\n",
        "        }];\n",
        "  \n",
        "     var layout = {\n",
        "          title: 'pdf estimate',\n",
        "          autosize: false,\n",
        "          width: 600,\n",
        "          height: 600,\n",
        "          showlegend: false,\n",
        "          scene: {\n",
        "            camera: {\n",
        "              up: {x: 0, y: 1, z: 0},\n",
        "              center: {x: 0, y: 0, z: 0},\n",
        "              eye: {x: 0.0, y: -1.0, z: 1.4}\n",
        "            }\n",
        "          }\n",
        "        };\n",
        "     Plotly.newPlot(cell_for_plot, data, layout);\n",
        "   }\n",
        "\n",
        "   function plot_scatter(s_x, s_y, s_z)\n",
        "   {\n",
        "          \n",
        "     cell_for_plot = document.getElementById('for_plotly_plot');\n",
        "     var data = [{\n",
        "           x: s_x,\n",
        "           y: s_y,\n",
        "           z: s_z,\n",
        "           type: 'scatter3d',\n",
        "           mode: 'markers',\n",
        "           marker: {\n",
        "             size: 4,\n",
        "             colorscale: \"Viridis\",\n",
        "             line: {\n",
        "               width: 2,\n",
        "               color: 'rgba(0, 0, 0, 0.5)'\n",
        "             }\n",
        "           }\n",
        "        }];\n",
        "    Plotly.plot(cell_for_plot, data, {});\n",
        "   }\n",
        "\n",
        "\n",
        "    var cur_depth = 100;\n",
        "\n",
        "    async function calculate() {\n",
        "      if (!all_pts)\n",
        "        return;\n",
        "      var merged = [].concat.apply([], all_pts);\n",
        "      var e = document.getElementById(\"select_kernel\");\n",
        "      var ker_name = e.options[e.selectedIndex].value;\n",
        "      const result = await google.colab.kernel.invokeFunction('notebook.InvSVM', [merged, cur_depth, ker_name], {});\n",
        "      params = result.data['application/json'];\n",
        "            \n",
        "      bg_image.src = 'data:image/  png;base64,' + params.image;\n",
        "      cell_for_plot = document.getElementById('for_plotly_plot');\n",
        "      \n",
        "      plot_3d(params.g_x, params.g_y, params.g_z);\n",
        "      plot_scatter(params.s_x, params.s_y, params.s_z);\n",
        "      \n",
        "    }\n",
        "\n",
        "   function h_change(x) {\n",
        "    el = document.getElementById(\"slider_val\");\n",
        "    cur_depth = x;\n",
        "    el.innerHTML = x;\n",
        "  }\n",
        "\n",
        " </script>\n",
        "\n",
        "<div id=\"everything\" style=\"height:600px;\">\n",
        "<div id=\"for_plotly_plot\" style=\"position:absolute; top:0px; left:0px; height:600px; width:600px;\">\n",
        "</div>\n",
        "<div id=\"custom_controls\" style=\"position:absolute; top:0px; left:600px;\">\n",
        "  <canvas id=\"canvas\" width=\"800\" height=\"600\" \n",
        "    onmousedown=\"mdown_handle(event)\"\n",
        "    onmousemove=\"mmove_handle(event)\"\n",
        "    onmouseup=\"mup_handle(event)\"></canvas>\n",
        "  <div style=\"position:absolute; top:275px; left:625px;\">\n",
        "   <div style=\"border-style: solid;\">\n",
        "    <input type=\"radio\" id=\"r1\" name=\"rate\" value=\"add\" checked=\"checked\"> Add Feature\n",
        "    <br>\n",
        "    <input type=\"radio\" id=\"r2\" name=\"rate\" value=\"move\"> Move Features\n",
        "    <br>\n",
        "    <input type=\"radio\" id=\"r3\" name=\"rate\" value=\"del\"> Delete Feature\n",
        "    <br>\n",
        "    <button type=\"button\" onclick=\"clear_field();\">\n",
        "      Clear\n",
        "    </button>\n",
        "   </div>\n",
        "   <br><br>Bandwidth x 1000:<br>\n",
        "    <input type=\"range\" min=\"1\" max=\"200\" value=\"100\" oninput=\"h_change(this.value)\">\n",
        "    <br><div id=\"slider_val\">100</div>\n",
        "   <br>Kernel:<br>\n",
        "   <select id=\"select_kernel\">\n",
        "       <option value=\"gaussian\">gaussian</option>\n",
        "       <option value=\"tophat\">tophat</option>\n",
        "       <option value=\"epanechnikov\">epanechnikov</option>\n",
        "       <option value=\"exponential\">exponential</option>\n",
        "       <option value=\"linear\">linear</option>\n",
        "       <option value=\"cosine\">cosine</option>\n",
        "   </select>\n",
        "   <br><br>\n",
        "    <button type=\"button\" onclick=\"calculate();\">\n",
        "      KDE\n",
        "    </button>\n",
        "  </div>\n",
        "</div>\n",
        "<div>\n",
        "  \n",
        "<script>\n",
        "function init()\n",
        "{\n",
        "  timer = setInterval(draw, 10);\n",
        "}\n",
        "\n",
        "init();\n",
        "</script>\n",
        "'''\n",
        "\n",
        "display(IPython.display.HTML(main_str))\n",
        "output.register_callback('notebook.InvSVM', invoke)"
      ],
      "execution_count": 0,
      "outputs": [
        {
          "output_type": "display_data",
          "data": {
            "text/html": [
              "\n",
              "  <script src=\"https://cdn.plot.ly/plotly-latest.min.js\"></script> \n",
              "  <script type=\"application/javascript\">\n",
              "  \n",
              "    var active_pt = null;\n",
              "    var all_pts = [];\n",
              "    var classAbtn = [650, 100];\n",
              "    var classBbtn = [650, 200];\n",
              "    var ptR = 10.0;\n",
              "    var params = null;\n",
              "    var debug_txt = \"\";\n",
              "    var bg_image = new Image();\n",
              "\n",
              "    function is_close(pt1, pt2) {\n",
              "      return   (pt1[0] - pt2[0])*(pt1[0] - pt2[0])\n",
              "            +  (pt1[1] - pt2[1])*(pt1[1] - pt2[1])\n",
              "            <= ptR*ptR;\n",
              "    }\n",
              "  \n",
              "    function circ(ctx, pos) {\n",
              "      ctx.beginPath();\n",
              "      ctx.arc(pos[0], pos[1], ptR, 0.0, 2.0 * Math.PI, 0);\n",
              "      ctx.fillStyle = 'rgba(255, 128, 0, 0.5)';\n",
              "      ctx.fill();\n",
              "    }\n",
              "    \n",
              "    \n",
              "    function draw() {\n",
              "      var canvas = document.getElementById('canvas');\n",
              "      if (canvas.getContext) {\n",
              "        var ctx = canvas.getContext('2d');\n",
              "        \n",
              "        ctx.clearRect(0, 0, canvas.width, canvas.height); // cleanup before start\n",
              "        ctx.drawImage(bg_image, 0, 0, 600, 600);\n",
              "        ctx.strokeRect(0, 0, 600, 600); // field\n",
              "        \n",
              "        ctx.font = '20px serif';\n",
              "        ctx.fillStyle = 'black';\n",
              "        ctx.fillText(debug_txt, 200, 200);\n",
              "        \n",
              "        if (active_pt) {\n",
              "          circ(ctx, [active_pt[0], active_pt[1]]);\n",
              "        }\n",
              "        all_pts.forEach(function (item, index) {\n",
              "          circ(ctx, [item[0], item[1]]);\n",
              "        });\n",
              "\n",
              "      }\n",
              "    }\n",
              "    \n",
              "    var timer\n",
              "\n",
              "    function get_state() {\n",
              "      var rates = document.getElementsByName('rate');\n",
              "      for(var i = 0; i < rates.length; i++)\n",
              "        if(rates[i].checked)\n",
              "          return rates[i].value;\n",
              "      return \"none\";\n",
              "    }\n",
              "\n",
              "    \n",
              "    function mdown_handle(evt) {\n",
              "      evt.stopPropagation();\n",
              "      x = evt.offsetX;\n",
              "      y = evt.offsetY;\n",
              "      state = get_state();\n",
              "      if (state == \"add\") {\n",
              "        if (x < 600)\n",
              "            all_pts.push([x, y]);\n",
              "        return;\n",
              "      }\n",
              "\n",
              "      idx = -1;\n",
              "      all_pts.forEach(function (item, index) {\n",
              "        if (is_close([x,y], [item[0], item[1]])) {\n",
              "          idx = index;\n",
              "        }\n",
              "      });\n",
              "      if (idx <= -1)\n",
              "          return;\n",
              "      if (state == \"move\") {\n",
              "        active_pt = all_pts[idx];\n",
              "        all_pts.splice(idx, 1);\n",
              "      }\n",
              "      if (state == \"del\")\n",
              "          all_pts.splice(idx, 1);\n",
              "    }\n",
              "    \n",
              "    function mmove_handle(evt) {\n",
              "      evt.stopPropagation();\n",
              "      if (get_state() != \"move\")\n",
              "          return;\n",
              "      x = evt.offsetX;\n",
              "      y = evt.offsetY;\n",
              "      if (active_pt) {\n",
              "        active_pt[0] = x;\n",
              "        active_pt[1] = y;\n",
              "      }\n",
              "    }\n",
              "    \n",
              "    function mup_handle(evt) {\n",
              "      evt.stopPropagation();\n",
              "      x = evt.offsetX;\n",
              "      y = evt.offsetY;\n",
              "      if (x >= 600) {\n",
              "        active_pt = null;\n",
              "      }\n",
              "      if (active_pt) {\n",
              "        all_pts.push(active_pt);\n",
              "        active_pt = null;\n",
              "      }\n",
              "    }\n",
              "    \n",
              "    function clear_field() {\n",
              "      active_pt = null;\n",
              "      all_pts = [];\n",
              "    }\n",
              "\n",
              "\n",
              "   function plot_3d(g_x, g_y, g_z)\n",
              "   {\n",
              "     cell_for_plot = document.getElementById('for_plotly_plot');\n",
              "     //Plotly.deleteTraces(cell_for_plot, [0, 1]);\n",
              "     var data = [{\n",
              "           x: g_x,\n",
              "           y: g_y,\n",
              "           z: g_z,\n",
              "           type: 'surface',\n",
              "           opacity: 0.9,\n",
              "           showscale: false,\n",
              "           colorscale: \"Viridis\"\n",
              "        }];\n",
              "  \n",
              "     var layout = {\n",
              "          title: 'pdf estimate',\n",
              "          autosize: false,\n",
              "          width: 600,\n",
              "          height: 600,\n",
              "          showlegend: false,\n",
              "          scene: {\n",
              "            camera: {\n",
              "              up: {x: 0, y: 1, z: 0},\n",
              "              center: {x: 0, y: 0, z: 0},\n",
              "              eye: {x: 0.0, y: -1.0, z: 1.4}\n",
              "            }\n",
              "          }\n",
              "        };\n",
              "     Plotly.newPlot(cell_for_plot, data, layout);\n",
              "   }\n",
              "\n",
              "   function plot_scatter(s_x, s_y, s_z)\n",
              "   {\n",
              "          \n",
              "     cell_for_plot = document.getElementById('for_plotly_plot');\n",
              "     var data = [{\n",
              "           x: s_x,\n",
              "           y: s_y,\n",
              "           z: s_z,\n",
              "           type: 'scatter3d',\n",
              "           mode: 'markers',\n",
              "           marker: {\n",
              "             size: 4,\n",
              "             colorscale: \"Viridis\",\n",
              "             line: {\n",
              "               width: 2,\n",
              "               color: 'rgba(0, 0, 0, 0.5)'\n",
              "             }\n",
              "           }\n",
              "        }];\n",
              "    Plotly.plot(cell_for_plot, data, {});\n",
              "   }\n",
              "\n",
              "\n",
              "    var cur_depth = 100;\n",
              "\n",
              "    async function calculate() {\n",
              "      if (!all_pts)\n",
              "        return;\n",
              "      var merged = [].concat.apply([], all_pts);\n",
              "      var e = document.getElementById(\"select_kernel\");\n",
              "      var ker_name = e.options[e.selectedIndex].value;\n",
              "      const result = await google.colab.kernel.invokeFunction('notebook.InvSVM', [merged, cur_depth, ker_name], {});\n",
              "      params = result.data['application/json'];\n",
              "            \n",
              "      bg_image.src = 'data:image/  png;base64,' + params.image;\n",
              "      cell_for_plot = document.getElementById('for_plotly_plot');\n",
              "      \n",
              "      plot_3d(params.g_x, params.g_y, params.g_z);\n",
              "      plot_scatter(params.s_x, params.s_y, params.s_z);\n",
              "      \n",
              "    }\n",
              "\n",
              "   function h_change(x) {\n",
              "    el = document.getElementById(\"slider_val\");\n",
              "    cur_depth = x;\n",
              "    el.innerHTML = x;\n",
              "  }\n",
              "\n",
              " </script>\n",
              "\n",
              "<div id=\"everything\" style=\"height:600px;\">\n",
              "<div id=\"for_plotly_plot\" style=\"position:absolute; top:0px; left:0px; height:600px; width:600px;\">\n",
              "</div>\n",
              "<div id=\"custom_controls\" style=\"position:absolute; top:0px; left:600px;\">\n",
              "  <canvas id=\"canvas\" width=\"800\" height=\"600\" \n",
              "    onmousedown=\"mdown_handle(event)\"\n",
              "    onmousemove=\"mmove_handle(event)\"\n",
              "    onmouseup=\"mup_handle(event)\"></canvas>\n",
              "  <div style=\"position:absolute; top:275px; left:625px;\">\n",
              "   <div style=\"border-style: solid;\">\n",
              "    <input type=\"radio\" id=\"r1\" name=\"rate\" value=\"add\" checked=\"checked\"> Add Feature\n",
              "    <br>\n",
              "    <input type=\"radio\" id=\"r2\" name=\"rate\" value=\"move\"> Move Features\n",
              "    <br>\n",
              "    <input type=\"radio\" id=\"r3\" name=\"rate\" value=\"del\"> Delete Feature\n",
              "    <br>\n",
              "    <button type=\"button\" onclick=\"clear_field();\">\n",
              "      Clear\n",
              "    </button>\n",
              "   </div>\n",
              "   <br><br>Bandwidth x 1000:<br>\n",
              "    <input type=\"range\" min=\"1\" max=\"200\" value=\"100\" oninput=\"h_change(this.value)\">\n",
              "    <br><div id=\"slider_val\">100</div>\n",
              "   <br>Kernel:<br>\n",
              "   <select id=\"select_kernel\">\n",
              "       <option value=\"gaussian\">gaussian</option>\n",
              "       <option value=\"tophat\">tophat</option>\n",
              "       <option value=\"epanechnikov\">epanechnikov</option>\n",
              "       <option value=\"exponential\">exponential</option>\n",
              "       <option value=\"linear\">linear</option>\n",
              "       <option value=\"cosine\">cosine</option>\n",
              "   </select>\n",
              "   <br><br>\n",
              "    <button type=\"button\" onclick=\"calculate();\">\n",
              "      KDE\n",
              "    </button>\n",
              "  </div>\n",
              "</div>\n",
              "<div>\n",
              "  \n",
              "<script>\n",
              "function init()\n",
              "{\n",
              "  timer = setInterval(draw, 10);\n",
              "}\n",
              "\n",
              "init();\n",
              "</script>\n"
            ],
            "text/plain": [
              "<IPython.core.display.HTML object>"
            ]
          },
          "metadata": {
            "tags": []
          }
        }
      ]
    },
    {
      "cell_type": "markdown",
      "metadata": {
        "id": "_FQr-h66b1Rc",
        "colab_type": "text"
      },
      "source": [
        "# KDE as Mixture Model"
      ]
    },
    {
      "cell_type": "markdown",
      "metadata": {
        "id": "SLNAG4SBb6l2",
        "colab_type": "text"
      },
      "source": [
        "We see that KDE reminds MM taken to the extreme: the number of components we throw into the mix equals the number of points.\n",
        "\n",
        "<br>\n",
        "\n",
        "![](https://raw.githubusercontent.com/fbeilstein/machine_learning/master/lecture_13/mix.png) \n",
        "\n",
        "<br>\n",
        "\n",
        "If the number of point is huge the \"shot noise\" from the individual points becomes negligible and the overall underlying distibution hopefully emerges."
      ]
    },
    {
      "cell_type": "markdown",
      "metadata": {
        "id": "g0l9p82WsLpQ",
        "colab_type": "text"
      },
      "source": [
        "#Blur analogy"
      ]
    },
    {
      "cell_type": "markdown",
      "metadata": {
        "id": "NluhuiqvsOgO",
        "colab_type": "text"
      },
      "source": [
        "We have seen that histograms may be misleading. Also they are \"grainy\" as they discretize (sample) continuous data. Pdf estimate could be kept smooth by using gaussian KDE.\n",
        "\n",
        "Idea similar to gaussian KDE is involved in Gaussian smoothing of images.\n",
        "In image processing, a Gaussian blur (also known as Gaussian smoothing) is the result of blurring an image by a Gaussian function. It is a widely used effect in graphics software, typically to reduce image noise and reduce detail. A Gaussian blur effect is typically generated by convolving an image with a kernel of Gaussian values. \n",
        "\n",
        "<br>\n",
        "\n",
        "![](https://raw.githubusercontent.com/fbeilstein/machine_learning/master/lecture_13/blur.png) \n",
        "\n",
        "<br>\n",
        "\n",
        "Let's first sample image (keeping $1$ pixel out of $10$ along each dimension). What we get is an analog of a histogram. If we perform a Gaussian blur afterwards we regain some of the smootheness.\n",
        "\n",
        "<br>\n",
        "\n",
        "![](https://raw.githubusercontent.com/fbeilstein/machine_learning/master/lecture_13/lena_1.png) \n",
        "\n",
        "<br>"
      ]
    },
    {
      "cell_type": "markdown",
      "metadata": {
        "id": "KiZoyJ00LTKH",
        "colab_type": "text"
      },
      "source": [
        "#Algorithmic nuances"
      ]
    },
    {
      "cell_type": "markdown",
      "metadata": {
        "id": "3VerGR5gIKqo",
        "colab_type": "text"
      },
      "source": [
        "There are several options available for computing kernel density estimates in Python. The question of the optimal KDE implementation for any situation, however, is not entirely straightforward, and depends a lot on what your particular goals are. Here are the four KDE implementations\n",
        "\n",
        "* In `SciPy`: `gaussian_kde`;\n",
        "* In `Statsmodels`: `KDEUnivariate` and `KDEMultivariate`;\n",
        "* In `Scikit-learn`: `KernelDensity`;\n",
        "* In `KDEpy`: `NaiveKDE`, `TreeKDE` and `FFTKDE`. \n",
        "\n",
        "Algorithmically KDE could be implemented via FFT (**F**ast **F**ourier **T**ransform) or k-d tree datastructure. Algorithms performance depends on \n",
        "* the number of points;\n",
        "* kernel;\n",
        "* bandwidth;\n",
        "* tolerance you aim to achieve. \n",
        "\n",
        "Please refer to this [overview article](https://jakevdp.github.io/blog/2013/12/01/kernel-density-estimation/) anf this [comparison article](https://kdepy.readthedocs.io/en/stable/comparison.html) for details.\n",
        "\n",
        "Generally `KernelDensity` of `Scikit-learn` is usually considered a good overall option that I use in this lecture. "
      ]
    },
    {
      "cell_type": "markdown",
      "metadata": {
        "id": "Im1uI0JtK-WE",
        "colab_type": "text"
      },
      "source": [
        "#Example: KDE on a Sphere"
      ]
    },
    {
      "cell_type": "markdown",
      "metadata": {
        "id": "T9vRb2sc9XHB",
        "colab_type": "text"
      },
      "source": [
        "Perhaps the most common use of KDE is in graphically representing distributions of points. For example, in the `Seaborn visualization library` KDE is built in and automatically used to help visualize points in one and two dimensions.\n",
        "Here we will look at a slightly more sophisticated use of KDE for visualization of distributions. We will make use of some geographic data that can be loaded with `ScikitLearn`: the geographic distributions of recorded observations of two South American mammals, *Bradypus variegatus* (the brown-throated sloth) and *Microryzomys minutus* (the forest small rice rat).\n",
        "\n",
        "<br>\n",
        "\n",
        "![](https://raw.githubusercontent.com/fbeilstein/machine_learning/master/lecture_13/anim.png) \n",
        "\n"
      ]
    },
    {
      "cell_type": "code",
      "metadata": {
        "id": "-k347bdQU5zu",
        "colab_type": "code",
        "outputId": "3126c0c2-7834-4731-8005-32deece4a8fa",
        "colab": {
          "base_uri": "https://localhost:8080/",
          "height": 34
        }
      },
      "source": [
        "import numpy as np\n",
        "\n",
        "!sudo apt-get install libgeos-dev > /dev/null\n",
        "!sudo pip3 install -U git+https://github.com/matplotlib/basemap.git > /dev/null\n",
        "from sklearn.datasets import fetch_species_distributions\n",
        "data = fetch_species_distributions();\n",
        "# Get matrices/arrays of species IDs and locations\n",
        "latlon = np.vstack([data.train['dd lat'], data.train['dd long']]).T\n",
        "species = np.array([d.decode('ascii').startswith('micro') for d in data.train['species']], dtype='int')"
      ],
      "execution_count": 0,
      "outputs": [
        {
          "output_type": "stream",
          "text": [
            "  Running command git clone -q https://github.com/matplotlib/basemap.git /tmp/pip-req-build-dy6g376t\n"
          ],
          "name": "stdout"
        }
      ]
    },
    {
      "cell_type": "code",
      "metadata": {
        "id": "ht6ErJtEUd7W",
        "colab_type": "code",
        "outputId": "cacf4e45-2b21-4498-e72f-4369b0b18145",
        "colab": {
          "base_uri": "https://localhost:8080/",
          "height": 260
        }
      },
      "source": [
        "from mpl_toolkits.basemap import Basemap\n",
        "from sklearn.datasets.species_distributions import construct_grids\n",
        "xgrid, ygrid = construct_grids(data)\n",
        "\n",
        "# plot coastlines with Basemap\n",
        "m = Basemap(projection='cyl', resolution='c', llcrnrlat=ygrid.min(), urcrnrlat=ygrid.max(), llcrnrlon=xgrid.min(), urcrnrlon=xgrid.max())\n",
        "m.drawmapboundary(fill_color='#DDEEFF')\n",
        "m.fillcontinents(color='#FFEEDD')\n",
        "m.drawcoastlines(color='gray', zorder=2)\n",
        "m.drawcountries(color='gray', zorder=2)\n",
        "\n",
        "# plot locations\n",
        "m.scatter(latlon[:, 1], latlon[:, 0], zorder=3, c=species, cmap='rainbow', latlon=True);"
      ],
      "execution_count": 0,
      "outputs": [
        {
          "output_type": "display_data",
          "data": {
            "image/png": "[encoded data removed]",
            "text/plain": [
              "<Figure size 432x288 with 1 Axes>"
            ]
          },
          "metadata": {
            "tags": []
          }
        }
      ]
    },
    {
      "cell_type": "markdown",
      "metadata": {
        "id": "FtUmpFHM8iyo",
        "colab_type": "text"
      },
      "source": [
        "Unfortunately, this doesn’t give a very good idea of the density of the species, because points in the species range may overlap one another. You may not realize it by looking at this plot, but there are over $1600$ points shown here!\n",
        "Let’s use kernel density estimation to show this distribution in a more interpretable way: as a smooth indication of density on the map. Because the coordinate system here lies on a spherical surface rather than a flat plane, we will use the haversine distance metric, which will correctly represent distances on a curved surface.\n",
        "\n",
        "**Note**:\n",
        "The *haversine formula* determines the great-circle distance between two points on a sphere given their longitudes and latitudes. Important in navigation, it is a special case of a more general formula in spherical trigonometry, the law of haversines, that relates the sides and angles of spherical triangles.\n",
        "\n",
        "$$\n",
        "d=2r\\arcsin{\\sqrt{\\sin^2\\left(\\frac{\\phi_2-\\phi_1}{2}\\right)+\\cos{\\phi_1}\\cdot \\cos{\\phi_2}\\cdot \\sin^2\\left(\\frac{\\lambda_2-\\lambda_1}{2} \\right)}},\n",
        "$$\n",
        "\n",
        "where \n",
        "* $d$ is the distance between the two points along a great circle of the sphere;\n",
        "* $\\phi$ -- latitude of point;\n",
        "* $\\lambda$ -- longitude of point.\n",
        "\n",
        "The term haversine  is due to haversine $\\text{hav}$ function that was used instead of $\\sin$ in the formula.\n",
        "\n",
        "$$\n",
        "\\text{hav}(x)=\\sin^2\\left(\\frac{x}{2}\\right).\n",
        "$$\n",
        "\n",
        "So if we rewrite the formula above using haversine it will read\n",
        "\n",
        "$$\n",
        "\\text{hav}(\\Theta)=\\text{hav}(\\phi_2-\\phi_1)+\\cos{\\phi_1} \\cdot \\cos{\\phi_2} \\cdot \\text{hav}(\\lambda_2-\\lambda_1),\n",
        "$$\n",
        "\n",
        "with $\\Theta=\\frac{d}{r}$ is central angle between any two points on a sphere."
      ]
    },
    {
      "cell_type": "code",
      "metadata": {
        "id": "FmwkQlE4XwLE",
        "colab_type": "code",
        "outputId": "689c9e60-8b12-4dcc-9b03-798d4c58c39c",
        "colab": {
          "base_uri": "https://localhost:8080/",
          "height": 270
        }
      },
      "source": [
        "# Set up the data grid for the contour plot\n",
        "X, Y = np.meshgrid(xgrid[::5], ygrid[::5][::-1])\n",
        "land_reference = data.coverages[6][::5, ::5]\n",
        "land_mask = (land_reference > -9999).ravel()\n",
        "xy = np.vstack([Y.ravel(), X.ravel()]).T\n",
        "xy = np.radians(xy[land_mask])\n",
        "\n",
        "# Create two side-by-side plots\n",
        "fig, ax = plt.subplots(1, 2)\n",
        "fig.subplots_adjust(left=0.05, right=0.95, wspace=0.05)\n",
        "species_names = ['Bradypus Variegatus', 'Microryzomys Minutus']\n",
        "cmaps = ['Purples', 'Reds']\n",
        "\n",
        "for i, axi in enumerate(ax):\n",
        "  axi.set_title(species_names[i])\n",
        "\n",
        "  # plot coastlines with Basemap\n",
        "  m = Basemap(projection='cyl', llcrnrlat=Y.min(), urcrnrlat=Y.max(), llcrnrlon=X.min(), urcrnrlon=X.max(), resolution='c', ax=axi)\n",
        "  m.drawmapboundary(fill_color='#DDEEFF')\n",
        "  m.drawcoastlines()\n",
        "  m.drawcountries()\n",
        "  \n",
        "  # construct a spherical kernel density estimate of the distribution\n",
        "  kde = KernelDensity(bandwidth=0.03, metric='haversine')\n",
        "  kde.fit(np.radians(latlon[species == i]))\n",
        "\n",
        "  # evaluate only on the land: -9999 indicates ocean\n",
        "  Z = np.full(land_mask.shape[0], -9999.0)\n",
        "  Z[land_mask] = np.exp(kde.score_samples(xy))\n",
        "  Z = Z.reshape(X.shape)\n",
        "  \n",
        "  # plot contours of the density\n",
        "  levels = np.linspace(0, Z.max(), 25)\n",
        "  axi.contourf(X, Y, Z, levels=levels, cmap=cmaps[i])  "
      ],
      "execution_count": 0,
      "outputs": [
        {
          "output_type": "display_data",
          "data": {
            "image/png": "[encoded data removed]",
            "text/plain": [
              "<Figure size 432x288 with 2 Axes>"
            ]
          },
          "metadata": {
            "tags": []
          }
        }
      ]
    },
    {
      "cell_type": "markdown",
      "metadata": {
        "id": "6ZtWndy68RsU",
        "colab_type": "text"
      },
      "source": [
        "Now we have a much clearer picture of the geographical distribution of observation of two species.\n",
        "\n"
      ]
    },
    {
      "cell_type": "markdown",
      "metadata": {
        "id": "dMIOJrA8-qJm",
        "colab_type": "text"
      },
      "source": [
        "#Example: Fisher irisis"
      ]
    },
    {
      "cell_type": "markdown",
      "metadata": {
        "id": "oYoPWo8B-J-a",
        "colab_type": "text"
      },
      "source": [
        "Here is another example of nice visualization with the help of the `kdeplot` from `seaborn` package.\n",
        "\n",
        "<br>\n",
        "\n",
        "![](https://raw.githubusercontent.com/fbeilstein/machine_learning/master/lecture_13/iris.png) "
      ]
    },
    {
      "cell_type": "code",
      "metadata": {
        "id": "WjK03ydaP665",
        "colab_type": "code",
        "outputId": "fc36b3b0-23b5-426f-de0c-9d0ddfcc7a01",
        "colab": {
          "base_uri": "https://localhost:8080/",
          "height": 502
        },
        "cellView": "form"
      },
      "source": [
        "#@title Irisis classes visualization with KDE\n",
        "import seaborn as sns\n",
        "import matplotlib.pyplot as plt\n",
        "\n",
        "sns.set(style=\"darkgrid\")\n",
        "iris = sns.load_dataset(\"iris\")\n",
        "\n",
        "setosa = iris.query(\"species == 'setosa'\")\n",
        "virginica = iris.query(\"species == 'virginica'\")\n",
        "\n",
        "f, ax = plt.subplots(figsize=(8, 8))\n",
        "ax.set_aspect(\"equal\")\n",
        "\n",
        "ax = sns.kdeplot(setosa.sepal_width, setosa.sepal_length,\n",
        "                 cmap=\"Reds\", shade=True, shade_lowest=False)\n",
        "ax = sns.kdeplot(virginica.sepal_width, virginica.sepal_length,\n",
        "                 cmap=\"Blues\", shade=True, shade_lowest=False)\n",
        "\n",
        "red = sns.color_palette(\"Reds\")[-2]\n",
        "blue = sns.color_palette(\"Blues\")[-2]\n",
        "ax.text(2.5, 8.2, \"virginica\", size=16, color=blue);\n",
        "ax.text(3.8, 4.5, \"setosa\", size=16, color=red);"
      ],
      "execution_count": 90,
      "outputs": [
        {
          "output_type": "display_data",
          "data": {
            "image/png": "[encoded data removed]",
            "text/plain": [
              "<Figure size 576x576 with 1 Axes>"
            ]
          },
          "metadata": {
            "tags": []
          }
        }
      ]
    },
    {
      "cell_type": "markdown",
      "metadata": {
        "id": "7k45DaaLYONo",
        "colab_type": "text"
      },
      "source": [
        "#Example: Not-So-Naive Bayes"
      ]
    },
    {
      "cell_type": "markdown",
      "metadata": {
        "id": "BJxcMR1ofrXE",
        "colab_type": "text"
      },
      "source": [
        "For naive Bayes, the generative model is a simple axis-aligned Gaussian.\n",
        "With a density estimation algorithm like KDE, we can remove the “naive” element and perform the same classification with a more sophisticated generative model for each class.\n",
        "It’s still Bayesian classification, but it’s no longer naive."
      ]
    },
    {
      "cell_type": "markdown",
      "metadata": {
        "id": "tQKL5Dj5f6R2",
        "colab_type": "text"
      },
      "source": [
        "1. Split the training data by label.\n",
        "2. For each set, fit a KDE to obtain a generative model of the data.\n",
        "This allows you for any observation x and label y to compute a likelihood $P(x|y)$.\n",
        "3. From the number of examples of each class in the training set, compute the class prior, $P(y)$ .\n",
        "4. For an unknown point x , the posterior probability for each class is $P(y|x)= P(x|y)P(y)$. The class that maximizes this posterior is the label assigned to the point."
      ]
    },
    {
      "cell_type": "markdown",
      "metadata": {
        "id": "1cepwUXc1AWu",
        "colab_type": "text"
      },
      "source": [
        "Let’s try this custom estimator on a problem we have seen before: the classification of handwritten digits. Here we will load the digits, and compute the cross-validation score for a range of candidate bandwidths using the `GridSearchCV` meta-estimator."
      ]
    },
    {
      "cell_type": "code",
      "metadata": {
        "id": "GQ9wdpBgYQIk",
        "colab_type": "code",
        "colab": {}
      },
      "source": [
        "from sklearn.base import BaseEstimator, ClassifierMixin\n",
        "from sklearn.neighbors import KernelDensity\n",
        "\n",
        "# BaseEstimator contains the logic necessary to clone/copy an estimator for use in a crossvalidation procedure\n",
        "# ClassifierMixin defines a default score() method used by such routines\n",
        "class KDEClassifier(BaseEstimator, ClassifierMixin):\n",
        "  \"\"\"Bayesian generative classification based on KDE\n",
        "  Parameters\n",
        "  ----------\n",
        "  bandwidth : float\n",
        "  the kernel bandwidth within each class\n",
        "  kernel : str\n",
        "  the kernel name, passed to KernelDensity\n",
        "  \"\"\"\n",
        "  def __init__(self, bandwidth=1.0, kernel='gaussian'):\n",
        "    self.bandwidth = bandwidth\n",
        "    self.kernel = kernel\n",
        "  \n",
        "  # find the unique classes in the training data, \n",
        "  # train a KernelDensity model for each class, \n",
        "  # compute the class priors based on the number of input samples.\n",
        "  def fit(self, X, y):\n",
        "    self.classes_ = np.sort(np.unique(y))\n",
        "    training_sets = [X[y == yi] for yi in self.classes_]\n",
        "    self.models_ = [KernelDensity(bandwidth=self.bandwidth, kernel=self.kernel).fit(Xi) for Xi in training_sets]\n",
        "    self.logpriors_ = [np.log(Xi.shape[0] / X.shape[0]) for Xi in training_sets]\n",
        "    return self # for chaining\n",
        "  \n",
        "  # predicting labels on new data\n",
        "  def predict_proba(self, X):\n",
        "    logprobs = np.array([model.score_samples(X) for model in self.models_]).T\n",
        "    result = np.exp(logprobs + self.logpriors_)\n",
        "    return result / result.sum(1, keepdims=True)\n",
        "  \n",
        "  def predict(self, X):\n",
        "    return self.classes_[np.argmax(self.predict_proba(X), 1)]"
      ],
      "execution_count": 0,
      "outputs": []
    },
    {
      "cell_type": "markdown",
      "metadata": {
        "id": "XrghJcTc0Vr1",
        "colab_type": "text"
      },
      "source": [
        "We now use this class."
      ]
    },
    {
      "cell_type": "code",
      "metadata": {
        "id": "gsqvNFAHm1Rn",
        "colab_type": "code",
        "colab": {}
      },
      "source": [
        "from sklearn.datasets import load_digits\n",
        "from sklearn.model_selection import GridSearchCV\n",
        "\n",
        "digits = load_digits()\n",
        "bandwidths = 10 ** np.linspace(0, 2, 100)\n",
        "grid = GridSearchCV(KDEClassifier(), {'bandwidth': bandwidths}, cv=3)\n",
        "grid.fit(digits.data, digits.target)\n",
        "scores = grid.cv_results_['mean_test_score']"
      ],
      "execution_count": 0,
      "outputs": []
    },
    {
      "cell_type": "code",
      "metadata": {
        "id": "Gtbz5bE0sL4I",
        "colab_type": "code",
        "outputId": "b535c305-2b20-45b7-fa16-a3fd50664e38",
        "colab": {
          "base_uri": "https://localhost:8080/",
          "height": 341
        }
      },
      "source": [
        "plt.semilogx(bandwidths, scores)\n",
        "plt.xlabel('bandwidth')\n",
        "plt.ylabel('accuracy')\n",
        "plt.title('KDE Model Performance')\n",
        "print(grid.best_params_)\n",
        "print('accuracy =', grid.best_score_)"
      ],
      "execution_count": 0,
      "outputs": [
        {
          "output_type": "stream",
          "text": [
            "{'bandwidth': 7.054802310718643}\n",
            "accuracy = 0.9666110183639399\n"
          ],
          "name": "stdout"
        },
        {
          "output_type": "display_data",
          "data": {
            "image/png": "[encoded data removed]",
            "text/plain": [
              "<Figure size 432x288 with 1 Axes>"
            ]
          },
          "metadata": {
            "tags": []
          }
        }
      ]
    },
    {
      "cell_type": "markdown",
      "metadata": {
        "id": "9RlumF2e1K3B",
        "colab_type": "text"
      },
      "source": [
        "We see that this not-so-naive Bayesian classifier reaches a cross-validation accuracy of just over $96\\%$; this is compared to around $80\\%$ for the naive Bayesian classification:\n"
      ]
    },
    {
      "cell_type": "code",
      "metadata": {
        "id": "dHkCW0Cks2EB",
        "colab_type": "code",
        "outputId": "c92124bb-f78f-4a1f-df84-51e82c0beb1e",
        "colab": {
          "base_uri": "https://localhost:8080/",
          "height": 34
        }
      },
      "source": [
        "from sklearn.naive_bayes import GaussianNB\n",
        "from sklearn.model_selection import cross_val_score\n",
        "cross_val_score(GaussianNB(), digits.data, digits.target, cv=3).mean()"
      ],
      "execution_count": 0,
      "outputs": [
        {
          "output_type": "execute_result",
          "data": {
            "text/plain": [
              "0.8186003803550138"
            ]
          },
          "metadata": {
            "tags": []
          },
          "execution_count": 22
        }
      ]
    },
    {
      "cell_type": "markdown",
      "metadata": {
        "id": "2khCd84S1XdG",
        "colab_type": "text"
      },
      "source": [
        "One benefit of such a generative classifier is interpretability of results: for each unknown sample, we not only get a probabilistic classification, but a full model of the distribution of points we are comparing it to! If desired, this offers an intuitive window into the reasons for a particular classification that algorithms like SVMs and random forests tend to obscure.\n",
        "If you would like to take this further, there are some improvements that could be made to our KDE classifier model:\n",
        "* We could allow the bandwidth in each class to vary independently.\n",
        "*  We could optimize these bandwidths not based on their prediction score, but on the likelihood of the training data under the generative model within each class (i.e., use the scores from KernelDensity itself rather than the global prediction accuracy)."
      ]
    }
  ]
}