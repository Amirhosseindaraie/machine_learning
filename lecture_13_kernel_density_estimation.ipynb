{
  "nbformat": 4,
  "nbformat_minor": 0,
  "metadata": {
    "colab": {
      "name": "lecture_13_kernel_density_estimation.ipynb",
      "provenance": [],
      "toc_visible": true,
      "include_colab_link": true
    },
    "kernelspec": {
      "name": "python3",
      "display_name": "Python 3"
    },
    "widgets": {
      "application/vnd.jupyter.widget-state+json": {
        "19c10f97b2fe4664aa72230d2d0008a3": {
          "model_module": "@jupyter-widgets/controls",
          "model_name": "HBoxModel",
          "state": {
            "_view_name": "HBoxView",
            "_dom_classes": [],
            "_model_name": "HBoxModel",
            "_view_module": "@jupyter-widgets/controls",
            "_model_module_version": "1.5.0",
            "_view_count": null,
            "_view_module_version": "1.5.0",
            "box_style": "",
            "layout": "IPY_MODEL_f4d6f8529da241f5bb7568aade2d166c",
            "_model_module": "@jupyter-widgets/controls",
            "children": [
              "IPY_MODEL_ae48926817c340efa7c5d8e6b0533745",
              "IPY_MODEL_1caf6d35a80c4ecf929b5a28213680fa",
              "IPY_MODEL_c770ef3b745b4ca4b3e334d83a0ab2e9",
              "IPY_MODEL_ef66bb6db2f14d34801622c808a50b10"
            ]
          }
        },
        "f4d6f8529da241f5bb7568aade2d166c": {
          "model_module": "@jupyter-widgets/base",
          "model_name": "LayoutModel",
          "state": {
            "_view_name": "LayoutView",
            "grid_template_rows": null,
            "right": null,
            "justify_content": null,
            "_view_module": "@jupyter-widgets/base",
            "overflow": null,
            "_model_module_version": "1.2.0",
            "_view_count": null,
            "flex_flow": null,
            "width": null,
            "min_width": null,
            "border": null,
            "align_items": null,
            "bottom": null,
            "_model_module": "@jupyter-widgets/base",
            "top": null,
            "grid_column": null,
            "overflow_y": null,
            "overflow_x": null,
            "grid_auto_flow": null,
            "grid_area": null,
            "grid_template_columns": null,
            "flex": null,
            "_model_name": "LayoutModel",
            "justify_items": null,
            "grid_row": null,
            "max_height": null,
            "align_content": null,
            "visibility": null,
            "align_self": null,
            "height": null,
            "min_height": null,
            "padding": null,
            "grid_auto_rows": null,
            "grid_gap": null,
            "max_width": null,
            "order": null,
            "_view_module_version": "1.2.0",
            "grid_template_areas": null,
            "object_position": null,
            "object_fit": null,
            "grid_auto_columns": null,
            "margin": null,
            "display": null,
            "left": null
          }
        },
        "ae48926817c340efa7c5d8e6b0533745": {
          "model_module": "@jupyter-widgets/controls",
          "model_name": "VBoxModel",
          "state": {
            "_view_name": "VBoxView",
            "_dom_classes": [],
            "_model_name": "VBoxModel",
            "_view_module": "@jupyter-widgets/controls",
            "_model_module_version": "1.5.0",
            "_view_count": null,
            "_view_module_version": "1.5.0",
            "box_style": "",
            "layout": "IPY_MODEL_1ba1acd811f946acbb9de13be78810b9",
            "_model_module": "@jupyter-widgets/controls",
            "children": [
              "IPY_MODEL_177098b018ed4372a467eb4f582ec0b7"
            ]
          }
        },
        "1caf6d35a80c4ecf929b5a28213680fa": {
          "model_module": "@jupyter-widgets/controls",
          "model_name": "VBoxModel",
          "state": {
            "_view_name": "VBoxView",
            "_dom_classes": [],
            "_model_name": "VBoxModel",
            "_view_module": "@jupyter-widgets/controls",
            "_model_module_version": "1.5.0",
            "_view_count": null,
            "_view_module_version": "1.5.0",
            "box_style": "",
            "layout": "IPY_MODEL_49572babf3884ddab177745c47130314",
            "_model_module": "@jupyter-widgets/controls",
            "children": [
              "IPY_MODEL_d09e31a7c854479d97a98a94f6089a2a",
              "IPY_MODEL_b6dd4cc2f1bb44939e52426279570ee0"
            ]
          }
        },
        "c770ef3b745b4ca4b3e334d83a0ab2e9": {
          "model_module": "@jupyter-widgets/controls",
          "model_name": "VBoxModel",
          "state": {
            "_view_name": "VBoxView",
            "_dom_classes": [],
            "_model_name": "VBoxModel",
            "_view_module": "@jupyter-widgets/controls",
            "_model_module_version": "1.5.0",
            "_view_count": null,
            "_view_module_version": "1.5.0",
            "box_style": "",
            "layout": "IPY_MODEL_5ce9bad3d483419fa917d09dfae3155d",
            "_model_module": "@jupyter-widgets/controls",
            "children": [
              "IPY_MODEL_d937c71d116a4951bd41ee3733dd9fa2",
              "IPY_MODEL_21c909efa29c420f973ec11626ec07fc"
            ]
          }
        },
        "ef66bb6db2f14d34801622c808a50b10": {
          "model_module": "@jupyter-widgets/controls",
          "model_name": "VBoxModel",
          "state": {
            "_view_name": "VBoxView",
            "_dom_classes": [],
            "_model_name": "VBoxModel",
            "_view_module": "@jupyter-widgets/controls",
            "_model_module_version": "1.5.0",
            "_view_count": null,
            "_view_module_version": "1.5.0",
            "box_style": "",
            "layout": "IPY_MODEL_fc2cda17d6ed4d128fc3ff60291356f8",
            "_model_module": "@jupyter-widgets/controls",
            "children": [
              "IPY_MODEL_b8881c383ab444bfba820cc5cb561f31",
              "IPY_MODEL_c60c262e40094d39a4e3af5dfeac2429"
            ]
          }
        },
        "1ba1acd811f946acbb9de13be78810b9": {
          "model_module": "@jupyter-widgets/base",
          "model_name": "LayoutModel",
          "state": {
            "_view_name": "LayoutView",
            "grid_template_rows": null,
            "right": null,
            "justify_content": null,
            "_view_module": "@jupyter-widgets/base",
            "overflow": null,
            "_model_module_version": "1.2.0",
            "_view_count": null,
            "flex_flow": null,
            "width": null,
            "min_width": null,
            "border": null,
            "align_items": null,
            "bottom": null,
            "_model_module": "@jupyter-widgets/base",
            "top": null,
            "grid_column": null,
            "overflow_y": null,
            "overflow_x": null,
            "grid_auto_flow": null,
            "grid_area": null,
            "grid_template_columns": null,
            "flex": null,
            "_model_name": "LayoutModel",
            "justify_items": null,
            "grid_row": null,
            "max_height": null,
            "align_content": null,
            "visibility": null,
            "align_self": null,
            "height": null,
            "min_height": null,
            "padding": null,
            "grid_auto_rows": null,
            "grid_gap": null,
            "max_width": null,
            "order": null,
            "_view_module_version": "1.2.0",
            "grid_template_areas": null,
            "object_position": null,
            "object_fit": null,
            "grid_auto_columns": null,
            "margin": null,
            "display": null,
            "left": null
          }
        },
        "177098b018ed4372a467eb4f582ec0b7": {
          "model_module": "@jupyter-widgets/controls",
          "model_name": "FloatRangeSliderModel",
          "state": {
            "_view_name": "FloatRangeSliderView",
            "style": "IPY_MODEL_2824967d9eb94c48b65155beaf9a816f",
            "_dom_classes": [],
            "description": "pi(1,2,3)",
            "step": 0.1,
            "_model_name": "FloatRangeSliderModel",
            "orientation": "horizontal",
            "max": 1,
            "_view_module": "@jupyter-widgets/controls",
            "_model_module_version": "1.5.0",
            "value": [
              0.3,
              0.6
            ],
            "_view_count": null,
            "disabled": false,
            "_view_module_version": "1.5.0",
            "min": 0,
            "continuous_update": true,
            "readout_format": ".2f",
            "description_tooltip": null,
            "readout": true,
            "_model_module": "@jupyter-widgets/controls",
            "layout": "IPY_MODEL_401a7fa8b6454a3cb39819a439c3a11f"
          }
        },
        "49572babf3884ddab177745c47130314": {
          "model_module": "@jupyter-widgets/base",
          "model_name": "LayoutModel",
          "state": {
            "_view_name": "LayoutView",
            "grid_template_rows": null,
            "right": null,
            "justify_content": null,
            "_view_module": "@jupyter-widgets/base",
            "overflow": null,
            "_model_module_version": "1.2.0",
            "_view_count": null,
            "flex_flow": null,
            "width": null,
            "min_width": null,
            "border": null,
            "align_items": null,
            "bottom": null,
            "_model_module": "@jupyter-widgets/base",
            "top": null,
            "grid_column": null,
            "overflow_y": null,
            "overflow_x": null,
            "grid_auto_flow": null,
            "grid_area": null,
            "grid_template_columns": null,
            "flex": null,
            "_model_name": "LayoutModel",
            "justify_items": null,
            "grid_row": null,
            "max_height": null,
            "align_content": null,
            "visibility": null,
            "align_self": null,
            "height": null,
            "min_height": null,
            "padding": null,
            "grid_auto_rows": null,
            "grid_gap": null,
            "max_width": null,
            "order": null,
            "_view_module_version": "1.2.0",
            "grid_template_areas": null,
            "object_position": null,
            "object_fit": null,
            "grid_auto_columns": null,
            "margin": null,
            "display": null,
            "left": null
          }
        },
        "d09e31a7c854479d97a98a94f6089a2a": {
          "model_module": "@jupyter-widgets/controls",
          "model_name": "FloatSliderModel",
          "state": {
            "_view_name": "FloatSliderView",
            "style": "IPY_MODEL_e87bb5f0d7a145d098312f3745af41f7",
            "_dom_classes": [],
            "description": "mu_1",
            "step": 0.1,
            "_model_name": "FloatSliderModel",
            "orientation": "horizontal",
            "max": 100,
            "_view_module": "@jupyter-widgets/controls",
            "_model_module_version": "1.5.0",
            "value": 16.6,
            "_view_count": null,
            "disabled": false,
            "_view_module_version": "1.5.0",
            "min": 0,
            "continuous_update": true,
            "readout_format": ".2f",
            "description_tooltip": null,
            "readout": true,
            "_model_module": "@jupyter-widgets/controls",
            "layout": "IPY_MODEL_53861150c83c46868f1862b52239aaf3"
          }
        },
        "b6dd4cc2f1bb44939e52426279570ee0": {
          "model_module": "@jupyter-widgets/controls",
          "model_name": "FloatSliderModel",
          "state": {
            "_view_name": "FloatSliderView",
            "style": "IPY_MODEL_dcf75c0956af42f1a520a7aaebb7fcb0",
            "_dom_classes": [],
            "description": "sigma_1",
            "step": 0.1,
            "_model_name": "FloatSliderModel",
            "orientation": "horizontal",
            "max": 10,
            "_view_module": "@jupyter-widgets/controls",
            "_model_module_version": "1.5.0",
            "value": 10,
            "_view_count": null,
            "disabled": false,
            "_view_module_version": "1.5.0",
            "min": 1,
            "continuous_update": true,
            "readout_format": ".2f",
            "description_tooltip": null,
            "readout": true,
            "_model_module": "@jupyter-widgets/controls",
            "layout": "IPY_MODEL_aed9f82f7fdf4a61849aac1a587667d8"
          }
        },
        "5ce9bad3d483419fa917d09dfae3155d": {
          "model_module": "@jupyter-widgets/base",
          "model_name": "LayoutModel",
          "state": {
            "_view_name": "LayoutView",
            "grid_template_rows": null,
            "right": null,
            "justify_content": null,
            "_view_module": "@jupyter-widgets/base",
            "overflow": null,
            "_model_module_version": "1.2.0",
            "_view_count": null,
            "flex_flow": null,
            "width": null,
            "min_width": null,
            "border": null,
            "align_items": null,
            "bottom": null,
            "_model_module": "@jupyter-widgets/base",
            "top": null,
            "grid_column": null,
            "overflow_y": null,
            "overflow_x": null,
            "grid_auto_flow": null,
            "grid_area": null,
            "grid_template_columns": null,
            "flex": null,
            "_model_name": "LayoutModel",
            "justify_items": null,
            "grid_row": null,
            "max_height": null,
            "align_content": null,
            "visibility": null,
            "align_self": null,
            "height": null,
            "min_height": null,
            "padding": null,
            "grid_auto_rows": null,
            "grid_gap": null,
            "max_width": null,
            "order": null,
            "_view_module_version": "1.2.0",
            "grid_template_areas": null,
            "object_position": null,
            "object_fit": null,
            "grid_auto_columns": null,
            "margin": null,
            "display": null,
            "left": null
          }
        },
        "d937c71d116a4951bd41ee3733dd9fa2": {
          "model_module": "@jupyter-widgets/controls",
          "model_name": "FloatSliderModel",
          "state": {
            "_view_name": "FloatSliderView",
            "style": "IPY_MODEL_8036eca6985b4f4c97df3d5891f326f3",
            "_dom_classes": [],
            "description": "mu_2",
            "step": 0.1,
            "_model_name": "FloatSliderModel",
            "orientation": "horizontal",
            "max": 100,
            "_view_module": "@jupyter-widgets/controls",
            "_model_module_version": "1.5.0",
            "value": 50,
            "_view_count": null,
            "disabled": false,
            "_view_module_version": "1.5.0",
            "min": 0,
            "continuous_update": true,
            "readout_format": ".2f",
            "description_tooltip": null,
            "readout": true,
            "_model_module": "@jupyter-widgets/controls",
            "layout": "IPY_MODEL_005fb0312ff24a40a902435afd49cd71"
          }
        },
        "21c909efa29c420f973ec11626ec07fc": {
          "model_module": "@jupyter-widgets/controls",
          "model_name": "FloatSliderModel",
          "state": {
            "_view_name": "FloatSliderView",
            "style": "IPY_MODEL_619b30d27b68434eb904b01ae2bcbdbc",
            "_dom_classes": [],
            "description": "sigma_2",
            "step": 0.1,
            "_model_name": "FloatSliderModel",
            "orientation": "horizontal",
            "max": 10,
            "_view_module": "@jupyter-widgets/controls",
            "_model_module_version": "1.5.0",
            "value": 10,
            "_view_count": null,
            "disabled": false,
            "_view_module_version": "1.5.0",
            "min": 1,
            "continuous_update": true,
            "readout_format": ".2f",
            "description_tooltip": null,
            "readout": true,
            "_model_module": "@jupyter-widgets/controls",
            "layout": "IPY_MODEL_c5016ac26f034a4f9111495fa16f94c7"
          }
        },
        "fc2cda17d6ed4d128fc3ff60291356f8": {
          "model_module": "@jupyter-widgets/base",
          "model_name": "LayoutModel",
          "state": {
            "_view_name": "LayoutView",
            "grid_template_rows": null,
            "right": null,
            "justify_content": null,
            "_view_module": "@jupyter-widgets/base",
            "overflow": null,
            "_model_module_version": "1.2.0",
            "_view_count": null,
            "flex_flow": null,
            "width": null,
            "min_width": null,
            "border": null,
            "align_items": null,
            "bottom": null,
            "_model_module": "@jupyter-widgets/base",
            "top": null,
            "grid_column": null,
            "overflow_y": null,
            "overflow_x": null,
            "grid_auto_flow": null,
            "grid_area": null,
            "grid_template_columns": null,
            "flex": null,
            "_model_name": "LayoutModel",
            "justify_items": null,
            "grid_row": null,
            "max_height": null,
            "align_content": null,
            "visibility": null,
            "align_self": null,
            "height": null,
            "min_height": null,
            "padding": null,
            "grid_auto_rows": null,
            "grid_gap": null,
            "max_width": null,
            "order": null,
            "_view_module_version": "1.2.0",
            "grid_template_areas": null,
            "object_position": null,
            "object_fit": null,
            "grid_auto_columns": null,
            "margin": null,
            "display": null,
            "left": null
          }
        },
        "b8881c383ab444bfba820cc5cb561f31": {
          "model_module": "@jupyter-widgets/controls",
          "model_name": "FloatSliderModel",
          "state": {
            "_view_name": "FloatSliderView",
            "style": "IPY_MODEL_2520e70a983c431b8408b3513e8fd904",
            "_dom_classes": [],
            "description": "mu_3",
            "step": 0.1,
            "_model_name": "FloatSliderModel",
            "orientation": "horizontal",
            "max": 100,
            "_view_module": "@jupyter-widgets/controls",
            "_model_module_version": "1.5.0",
            "value": 90,
            "_view_count": null,
            "disabled": false,
            "_view_module_version": "1.5.0",
            "min": 0,
            "continuous_update": true,
            "readout_format": ".2f",
            "description_tooltip": null,
            "readout": true,
            "_model_module": "@jupyter-widgets/controls",
            "layout": "IPY_MODEL_648bc737869848b39a522d7465b449cf"
          }
        },
        "c60c262e40094d39a4e3af5dfeac2429": {
          "model_module": "@jupyter-widgets/controls",
          "model_name": "FloatSliderModel",
          "state": {
            "_view_name": "FloatSliderView",
            "style": "IPY_MODEL_9967f99beb2f447391b5ab040c1fbc92",
            "_dom_classes": [],
            "description": "sigma_3",
            "step": 0.1,
            "_model_name": "FloatSliderModel",
            "orientation": "horizontal",
            "max": 10,
            "_view_module": "@jupyter-widgets/controls",
            "_model_module_version": "1.5.0",
            "value": 10,
            "_view_count": null,
            "disabled": false,
            "_view_module_version": "1.5.0",
            "min": 1,
            "continuous_update": true,
            "readout_format": ".2f",
            "description_tooltip": null,
            "readout": true,
            "_model_module": "@jupyter-widgets/controls",
            "layout": "IPY_MODEL_bb5d658278fb4c62bf7505bdea82d51f"
          }
        },
        "2824967d9eb94c48b65155beaf9a816f": {
          "model_module": "@jupyter-widgets/controls",
          "model_name": "SliderStyleModel",
          "state": {
            "_view_name": "StyleView",
            "handle_color": null,
            "_model_name": "SliderStyleModel",
            "description_width": "",
            "_view_module": "@jupyter-widgets/base",
            "_model_module_version": "1.5.0",
            "_view_count": null,
            "_view_module_version": "1.2.0",
            "_model_module": "@jupyter-widgets/controls"
          }
        },
        "401a7fa8b6454a3cb39819a439c3a11f": {
          "model_module": "@jupyter-widgets/base",
          "model_name": "LayoutModel",
          "state": {
            "_view_name": "LayoutView",
            "grid_template_rows": null,
            "right": null,
            "justify_content": null,
            "_view_module": "@jupyter-widgets/base",
            "overflow": null,
            "_model_module_version": "1.2.0",
            "_view_count": null,
            "flex_flow": null,
            "width": null,
            "min_width": null,
            "border": null,
            "align_items": null,
            "bottom": null,
            "_model_module": "@jupyter-widgets/base",
            "top": null,
            "grid_column": null,
            "overflow_y": null,
            "overflow_x": null,
            "grid_auto_flow": null,
            "grid_area": null,
            "grid_template_columns": null,
            "flex": null,
            "_model_name": "LayoutModel",
            "justify_items": null,
            "grid_row": null,
            "max_height": null,
            "align_content": null,
            "visibility": null,
            "align_self": null,
            "height": null,
            "min_height": null,
            "padding": null,
            "grid_auto_rows": null,
            "grid_gap": null,
            "max_width": null,
            "order": null,
            "_view_module_version": "1.2.0",
            "grid_template_areas": null,
            "object_position": null,
            "object_fit": null,
            "grid_auto_columns": null,
            "margin": null,
            "display": null,
            "left": null
          }
        },
        "e87bb5f0d7a145d098312f3745af41f7": {
          "model_module": "@jupyter-widgets/controls",
          "model_name": "SliderStyleModel",
          "state": {
            "_view_name": "StyleView",
            "handle_color": null,
            "_model_name": "SliderStyleModel",
            "description_width": "",
            "_view_module": "@jupyter-widgets/base",
            "_model_module_version": "1.5.0",
            "_view_count": null,
            "_view_module_version": "1.2.0",
            "_model_module": "@jupyter-widgets/controls"
          }
        },
        "53861150c83c46868f1862b52239aaf3": {
          "model_module": "@jupyter-widgets/base",
          "model_name": "LayoutModel",
          "state": {
            "_view_name": "LayoutView",
            "grid_template_rows": null,
            "right": null,
            "justify_content": null,
            "_view_module": "@jupyter-widgets/base",
            "overflow": null,
            "_model_module_version": "1.2.0",
            "_view_count": null,
            "flex_flow": null,
            "width": null,
            "min_width": null,
            "border": null,
            "align_items": null,
            "bottom": null,
            "_model_module": "@jupyter-widgets/base",
            "top": null,
            "grid_column": null,
            "overflow_y": null,
            "overflow_x": null,
            "grid_auto_flow": null,
            "grid_area": null,
            "grid_template_columns": null,
            "flex": null,
            "_model_name": "LayoutModel",
            "justify_items": null,
            "grid_row": null,
            "max_height": null,
            "align_content": null,
            "visibility": null,
            "align_self": null,
            "height": null,
            "min_height": null,
            "padding": null,
            "grid_auto_rows": null,
            "grid_gap": null,
            "max_width": null,
            "order": null,
            "_view_module_version": "1.2.0",
            "grid_template_areas": null,
            "object_position": null,
            "object_fit": null,
            "grid_auto_columns": null,
            "margin": null,
            "display": null,
            "left": null
          }
        },
        "dcf75c0956af42f1a520a7aaebb7fcb0": {
          "model_module": "@jupyter-widgets/controls",
          "model_name": "SliderStyleModel",
          "state": {
            "_view_name": "StyleView",
            "handle_color": null,
            "_model_name": "SliderStyleModel",
            "description_width": "",
            "_view_module": "@jupyter-widgets/base",
            "_model_module_version": "1.5.0",
            "_view_count": null,
            "_view_module_version": "1.2.0",
            "_model_module": "@jupyter-widgets/controls"
          }
        },
        "aed9f82f7fdf4a61849aac1a587667d8": {
          "model_module": "@jupyter-widgets/base",
          "model_name": "LayoutModel",
          "state": {
            "_view_name": "LayoutView",
            "grid_template_rows": null,
            "right": null,
            "justify_content": null,
            "_view_module": "@jupyter-widgets/base",
            "overflow": null,
            "_model_module_version": "1.2.0",
            "_view_count": null,
            "flex_flow": null,
            "width": null,
            "min_width": null,
            "border": null,
            "align_items": null,
            "bottom": null,
            "_model_module": "@jupyter-widgets/base",
            "top": null,
            "grid_column": null,
            "overflow_y": null,
            "overflow_x": null,
            "grid_auto_flow": null,
            "grid_area": null,
            "grid_template_columns": null,
            "flex": null,
            "_model_name": "LayoutModel",
            "justify_items": null,
            "grid_row": null,
            "max_height": null,
            "align_content": null,
            "visibility": null,
            "align_self": null,
            "height": null,
            "min_height": null,
            "padding": null,
            "grid_auto_rows": null,
            "grid_gap": null,
            "max_width": null,
            "order": null,
            "_view_module_version": "1.2.0",
            "grid_template_areas": null,
            "object_position": null,
            "object_fit": null,
            "grid_auto_columns": null,
            "margin": null,
            "display": null,
            "left": null
          }
        },
        "8036eca6985b4f4c97df3d5891f326f3": {
          "model_module": "@jupyter-widgets/controls",
          "model_name": "SliderStyleModel",
          "state": {
            "_view_name": "StyleView",
            "handle_color": null,
            "_model_name": "SliderStyleModel",
            "description_width": "",
            "_view_module": "@jupyter-widgets/base",
            "_model_module_version": "1.5.0",
            "_view_count": null,
            "_view_module_version": "1.2.0",
            "_model_module": "@jupyter-widgets/controls"
          }
        },
        "005fb0312ff24a40a902435afd49cd71": {
          "model_module": "@jupyter-widgets/base",
          "model_name": "LayoutModel",
          "state": {
            "_view_name": "LayoutView",
            "grid_template_rows": null,
            "right": null,
            "justify_content": null,
            "_view_module": "@jupyter-widgets/base",
            "overflow": null,
            "_model_module_version": "1.2.0",
            "_view_count": null,
            "flex_flow": null,
            "width": null,
            "min_width": null,
            "border": null,
            "align_items": null,
            "bottom": null,
            "_model_module": "@jupyter-widgets/base",
            "top": null,
            "grid_column": null,
            "overflow_y": null,
            "overflow_x": null,
            "grid_auto_flow": null,
            "grid_area": null,
            "grid_template_columns": null,
            "flex": null,
            "_model_name": "LayoutModel",
            "justify_items": null,
            "grid_row": null,
            "max_height": null,
            "align_content": null,
            "visibility": null,
            "align_self": null,
            "height": null,
            "min_height": null,
            "padding": null,
            "grid_auto_rows": null,
            "grid_gap": null,
            "max_width": null,
            "order": null,
            "_view_module_version": "1.2.0",
            "grid_template_areas": null,
            "object_position": null,
            "object_fit": null,
            "grid_auto_columns": null,
            "margin": null,
            "display": null,
            "left": null
          }
        },
        "619b30d27b68434eb904b01ae2bcbdbc": {
          "model_module": "@jupyter-widgets/controls",
          "model_name": "SliderStyleModel",
          "state": {
            "_view_name": "StyleView",
            "handle_color": null,
            "_model_name": "SliderStyleModel",
            "description_width": "",
            "_view_module": "@jupyter-widgets/base",
            "_model_module_version": "1.5.0",
            "_view_count": null,
            "_view_module_version": "1.2.0",
            "_model_module": "@jupyter-widgets/controls"
          }
        },
        "c5016ac26f034a4f9111495fa16f94c7": {
          "model_module": "@jupyter-widgets/base",
          "model_name": "LayoutModel",
          "state": {
            "_view_name": "LayoutView",
            "grid_template_rows": null,
            "right": null,
            "justify_content": null,
            "_view_module": "@jupyter-widgets/base",
            "overflow": null,
            "_model_module_version": "1.2.0",
            "_view_count": null,
            "flex_flow": null,
            "width": null,
            "min_width": null,
            "border": null,
            "align_items": null,
            "bottom": null,
            "_model_module": "@jupyter-widgets/base",
            "top": null,
            "grid_column": null,
            "overflow_y": null,
            "overflow_x": null,
            "grid_auto_flow": null,
            "grid_area": null,
            "grid_template_columns": null,
            "flex": null,
            "_model_name": "LayoutModel",
            "justify_items": null,
            "grid_row": null,
            "max_height": null,
            "align_content": null,
            "visibility": null,
            "align_self": null,
            "height": null,
            "min_height": null,
            "padding": null,
            "grid_auto_rows": null,
            "grid_gap": null,
            "max_width": null,
            "order": null,
            "_view_module_version": "1.2.0",
            "grid_template_areas": null,
            "object_position": null,
            "object_fit": null,
            "grid_auto_columns": null,
            "margin": null,
            "display": null,
            "left": null
          }
        },
        "2520e70a983c431b8408b3513e8fd904": {
          "model_module": "@jupyter-widgets/controls",
          "model_name": "SliderStyleModel",
          "state": {
            "_view_name": "StyleView",
            "handle_color": null,
            "_model_name": "SliderStyleModel",
            "description_width": "",
            "_view_module": "@jupyter-widgets/base",
            "_model_module_version": "1.5.0",
            "_view_count": null,
            "_view_module_version": "1.2.0",
            "_model_module": "@jupyter-widgets/controls"
          }
        },
        "648bc737869848b39a522d7465b449cf": {
          "model_module": "@jupyter-widgets/base",
          "model_name": "LayoutModel",
          "state": {
            "_view_name": "LayoutView",
            "grid_template_rows": null,
            "right": null,
            "justify_content": null,
            "_view_module": "@jupyter-widgets/base",
            "overflow": null,
            "_model_module_version": "1.2.0",
            "_view_count": null,
            "flex_flow": null,
            "width": null,
            "min_width": null,
            "border": null,
            "align_items": null,
            "bottom": null,
            "_model_module": "@jupyter-widgets/base",
            "top": null,
            "grid_column": null,
            "overflow_y": null,
            "overflow_x": null,
            "grid_auto_flow": null,
            "grid_area": null,
            "grid_template_columns": null,
            "flex": null,
            "_model_name": "LayoutModel",
            "justify_items": null,
            "grid_row": null,
            "max_height": null,
            "align_content": null,
            "visibility": null,
            "align_self": null,
            "height": null,
            "min_height": null,
            "padding": null,
            "grid_auto_rows": null,
            "grid_gap": null,
            "max_width": null,
            "order": null,
            "_view_module_version": "1.2.0",
            "grid_template_areas": null,
            "object_position": null,
            "object_fit": null,
            "grid_auto_columns": null,
            "margin": null,
            "display": null,
            "left": null
          }
        },
        "9967f99beb2f447391b5ab040c1fbc92": {
          "model_module": "@jupyter-widgets/controls",
          "model_name": "SliderStyleModel",
          "state": {
            "_view_name": "StyleView",
            "handle_color": null,
            "_model_name": "SliderStyleModel",
            "description_width": "",
            "_view_module": "@jupyter-widgets/base",
            "_model_module_version": "1.5.0",
            "_view_count": null,
            "_view_module_version": "1.2.0",
            "_model_module": "@jupyter-widgets/controls"
          }
        },
        "bb5d658278fb4c62bf7505bdea82d51f": {
          "model_module": "@jupyter-widgets/base",
          "model_name": "LayoutModel",
          "state": {
            "_view_name": "LayoutView",
            "grid_template_rows": null,
            "right": null,
            "justify_content": null,
            "_view_module": "@jupyter-widgets/base",
            "overflow": null,
            "_model_module_version": "1.2.0",
            "_view_count": null,
            "flex_flow": null,
            "width": null,
            "min_width": null,
            "border": null,
            "align_items": null,
            "bottom": null,
            "_model_module": "@jupyter-widgets/base",
            "top": null,
            "grid_column": null,
            "overflow_y": null,
            "overflow_x": null,
            "grid_auto_flow": null,
            "grid_area": null,
            "grid_template_columns": null,
            "flex": null,
            "_model_name": "LayoutModel",
            "justify_items": null,
            "grid_row": null,
            "max_height": null,
            "align_content": null,
            "visibility": null,
            "align_self": null,
            "height": null,
            "min_height": null,
            "padding": null,
            "grid_auto_rows": null,
            "grid_gap": null,
            "max_width": null,
            "order": null,
            "_view_module_version": "1.2.0",
            "grid_template_areas": null,
            "object_position": null,
            "object_fit": null,
            "grid_auto_columns": null,
            "margin": null,
            "display": null,
            "left": null
          }
        },
        "263981a3cec44c4f86b6ce740ad8279a": {
          "model_module": "@jupyter-widgets/output",
          "model_name": "OutputModel",
          "state": {
            "_view_name": "OutputView",
            "msg_id": "",
            "_dom_classes": [],
            "_model_name": "OutputModel",
            "outputs": [
              {
                "output_type": "display_data",
                "metadata": {
                  "tags": []
                },
                "image/png": "iVBORw0KGgoAAAANSUhEUgAAAnUAAAHwCAYAAADAYpmiAAAABHNCSVQICAgIfAhkiAAAAAlwSFlz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\naFInIiIi0gL+H9zpkR+zf0LjAAAAAElFTkSuQmCC\n",
                "text/plain": "<Figure size 720x576 with 1 Axes>"
              }
            ],
            "_view_module": "@jupyter-widgets/output",
            "_model_module_version": "1.0.0",
            "_view_count": null,
            "_view_module_version": "1.0.0",
            "layout": "IPY_MODEL_cdbd0654e78e4085874fdd2b14cecf3d",
            "_model_module": "@jupyter-widgets/output"
          }
        },
        "9bef8eaaee58400c9585d7c9d633b733": {
          "model_module": "@jupyter-widgets/controls",
          "model_name": "HBoxModel",
          "state": {
            "_view_name": "HBoxView",
            "_dom_classes": [],
            "_model_name": "HBoxModel",
            "_view_module": "@jupyter-widgets/controls",
            "_model_module_version": "1.5.0",
            "_view_count": null,
            "_view_module_version": "1.5.0",
            "box_style": "",
            "layout": "IPY_MODEL_37eab72cbf51453a8a4de560a25f07fa",
            "_model_module": "@jupyter-widgets/controls",
            "children": [
              "IPY_MODEL_1d87af5334c94e82afea1f664b41ecfe",
              "IPY_MODEL_f387c8ee219046b084ec8edacb5a62f6"
            ]
          }
        },
        "37eab72cbf51453a8a4de560a25f07fa": {
          "model_module": "@jupyter-widgets/base",
          "model_name": "LayoutModel",
          "state": {
            "_view_name": "LayoutView",
            "grid_template_rows": null,
            "right": null,
            "justify_content": null,
            "_view_module": "@jupyter-widgets/base",
            "overflow": null,
            "_model_module_version": "1.2.0",
            "_view_count": null,
            "flex_flow": null,
            "width": null,
            "min_width": null,
            "border": null,
            "align_items": null,
            "bottom": null,
            "_model_module": "@jupyter-widgets/base",
            "top": null,
            "grid_column": null,
            "overflow_y": null,
            "overflow_x": null,
            "grid_auto_flow": null,
            "grid_area": null,
            "grid_template_columns": null,
            "flex": null,
            "_model_name": "LayoutModel",
            "justify_items": null,
            "grid_row": null,
            "max_height": null,
            "align_content": null,
            "visibility": null,
            "align_self": null,
            "height": null,
            "min_height": null,
            "padding": null,
            "grid_auto_rows": null,
            "grid_gap": null,
            "max_width": null,
            "order": null,
            "_view_module_version": "1.2.0",
            "grid_template_areas": null,
            "object_position": null,
            "object_fit": null,
            "grid_auto_columns": null,
            "margin": null,
            "display": null,
            "left": null
          }
        },
        "1d87af5334c94e82afea1f664b41ecfe": {
          "model_module": "@jupyter-widgets/controls",
          "model_name": "DropdownModel",
          "state": {
            "_options_labels": [
              "gaussian",
              "tophat",
              "epanechnikov",
              "exponential",
              "linear",
              "cosine"
            ],
            "_view_name": "DropdownView",
            "style": "IPY_MODEL_deaab0dc77a24f5a8dc1178f8f5f6b3d",
            "_dom_classes": [],
            "description": "Kernel:",
            "_model_name": "DropdownModel",
            "index": 0,
            "_view_module": "@jupyter-widgets/controls",
            "_model_module_version": "1.5.0",
            "_view_count": null,
            "disabled": false,
            "_view_module_version": "1.5.0",
            "description_tooltip": null,
            "_model_module": "@jupyter-widgets/controls",
            "layout": "IPY_MODEL_84829cf1e38d485294016549310f5d6a"
          }
        },
        "f387c8ee219046b084ec8edacb5a62f6": {
          "model_module": "@jupyter-widgets/controls",
          "model_name": "VBoxModel",
          "state": {
            "_view_name": "VBoxView",
            "_dom_classes": [],
            "_model_name": "VBoxModel",
            "_view_module": "@jupyter-widgets/controls",
            "_model_module_version": "1.5.0",
            "_view_count": null,
            "_view_module_version": "1.5.0",
            "box_style": "",
            "layout": "IPY_MODEL_602008c4a0df41a29b7033620570a066",
            "_model_module": "@jupyter-widgets/controls",
            "children": [
              "IPY_MODEL_b0135bfa999145808208d688d7751555",
              "IPY_MODEL_dfebcc2b077e4287a7fd875bd9f8d327"
            ]
          }
        },
        "deaab0dc77a24f5a8dc1178f8f5f6b3d": {
          "model_module": "@jupyter-widgets/controls",
          "model_name": "DescriptionStyleModel",
          "state": {
            "_view_name": "StyleView",
            "_model_name": "DescriptionStyleModel",
            "description_width": "",
            "_view_module": "@jupyter-widgets/base",
            "_model_module_version": "1.5.0",
            "_view_count": null,
            "_view_module_version": "1.2.0",
            "_model_module": "@jupyter-widgets/controls"
          }
        },
        "84829cf1e38d485294016549310f5d6a": {
          "model_module": "@jupyter-widgets/base",
          "model_name": "LayoutModel",
          "state": {
            "_view_name": "LayoutView",
            "grid_template_rows": null,
            "right": null,
            "justify_content": null,
            "_view_module": "@jupyter-widgets/base",
            "overflow": null,
            "_model_module_version": "1.2.0",
            "_view_count": null,
            "flex_flow": null,
            "width": null,
            "min_width": null,
            "border": null,
            "align_items": null,
            "bottom": null,
            "_model_module": "@jupyter-widgets/base",
            "top": null,
            "grid_column": null,
            "overflow_y": null,
            "overflow_x": null,
            "grid_auto_flow": null,
            "grid_area": null,
            "grid_template_columns": null,
            "flex": null,
            "_model_name": "LayoutModel",
            "justify_items": null,
            "grid_row": null,
            "max_height": null,
            "align_content": null,
            "visibility": null,
            "align_self": null,
            "height": null,
            "min_height": null,
            "padding": null,
            "grid_auto_rows": null,
            "grid_gap": null,
            "max_width": null,
            "order": null,
            "_view_module_version": "1.2.0",
            "grid_template_areas": null,
            "object_position": null,
            "object_fit": null,
            "grid_auto_columns": null,
            "margin": null,
            "display": null,
            "left": null
          }
        },
        "602008c4a0df41a29b7033620570a066": {
          "model_module": "@jupyter-widgets/base",
          "model_name": "LayoutModel",
          "state": {
            "_view_name": "LayoutView",
            "grid_template_rows": null,
            "right": null,
            "justify_content": null,
            "_view_module": "@jupyter-widgets/base",
            "overflow": null,
            "_model_module_version": "1.2.0",
            "_view_count": null,
            "flex_flow": null,
            "width": null,
            "min_width": null,
            "border": null,
            "align_items": null,
            "bottom": null,
            "_model_module": "@jupyter-widgets/base",
            "top": null,
            "grid_column": null,
            "overflow_y": null,
            "overflow_x": null,
            "grid_auto_flow": null,
            "grid_area": null,
            "grid_template_columns": null,
            "flex": null,
            "_model_name": "LayoutModel",
            "justify_items": null,
            "grid_row": null,
            "max_height": null,
            "align_content": null,
            "visibility": null,
            "align_self": null,
            "height": null,
            "min_height": null,
            "padding": null,
            "grid_auto_rows": null,
            "grid_gap": null,
            "max_width": null,
            "order": null,
            "_view_module_version": "1.2.0",
            "grid_template_areas": null,
            "object_position": null,
            "object_fit": null,
            "grid_auto_columns": null,
            "margin": null,
            "display": null,
            "left": null
          }
        },
        "b0135bfa999145808208d688d7751555": {
          "model_module": "@jupyter-widgets/controls",
          "model_name": "FloatSliderModel",
          "state": {
            "_view_name": "FloatSliderView",
            "style": "IPY_MODEL_649a9f6a573b4fc0bffc3babe0200abd",
            "_dom_classes": [],
            "description": "bandwidth",
            "step": 0.1,
            "_model_name": "FloatSliderModel",
            "orientation": "horizontal",
            "max": 50,
            "_view_module": "@jupyter-widgets/controls",
            "_model_module_version": "1.5.0",
            "value": 12.383665128567372,
            "_view_count": null,
            "disabled": false,
            "_view_module_version": "1.5.0",
            "min": 1,
            "continuous_update": true,
            "readout_format": ".2f",
            "description_tooltip": null,
            "readout": true,
            "_model_module": "@jupyter-widgets/controls",
            "layout": "IPY_MODEL_f517820b97834cc1b8ec0cd8d6b3d434"
          }
        },
        "dfebcc2b077e4287a7fd875bd9f8d327": {
          "model_module": "@jupyter-widgets/controls",
          "model_name": "HBoxModel",
          "state": {
            "_view_name": "HBoxView",
            "_dom_classes": [],
            "_model_name": "HBoxModel",
            "_view_module": "@jupyter-widgets/controls",
            "_model_module_version": "1.5.0",
            "_view_count": null,
            "_view_module_version": "1.5.0",
            "box_style": "",
            "layout": "IPY_MODEL_1eecb657e9f44c1b95de6b5aea8cbc31",
            "_model_module": "@jupyter-widgets/controls",
            "children": [
              "IPY_MODEL_3d104aaff2454bb7b8a848b6624f172d",
              "IPY_MODEL_0a7f2e1039f24597873ad3946c3b9e00"
            ]
          }
        },
        "649a9f6a573b4fc0bffc3babe0200abd": {
          "model_module": "@jupyter-widgets/controls",
          "model_name": "SliderStyleModel",
          "state": {
            "_view_name": "StyleView",
            "handle_color": null,
            "_model_name": "SliderStyleModel",
            "description_width": "",
            "_view_module": "@jupyter-widgets/base",
            "_model_module_version": "1.5.0",
            "_view_count": null,
            "_view_module_version": "1.2.0",
            "_model_module": "@jupyter-widgets/controls"
          }
        },
        "f517820b97834cc1b8ec0cd8d6b3d434": {
          "model_module": "@jupyter-widgets/base",
          "model_name": "LayoutModel",
          "state": {
            "_view_name": "LayoutView",
            "grid_template_rows": null,
            "right": null,
            "justify_content": null,
            "_view_module": "@jupyter-widgets/base",
            "overflow": null,
            "_model_module_version": "1.2.0",
            "_view_count": null,
            "flex_flow": null,
            "width": null,
            "min_width": null,
            "border": null,
            "align_items": null,
            "bottom": null,
            "_model_module": "@jupyter-widgets/base",
            "top": null,
            "grid_column": null,
            "overflow_y": null,
            "overflow_x": null,
            "grid_auto_flow": null,
            "grid_area": null,
            "grid_template_columns": null,
            "flex": null,
            "_model_name": "LayoutModel",
            "justify_items": null,
            "grid_row": null,
            "max_height": null,
            "align_content": null,
            "visibility": null,
            "align_self": null,
            "height": null,
            "min_height": null,
            "padding": null,
            "grid_auto_rows": null,
            "grid_gap": null,
            "max_width": null,
            "order": null,
            "_view_module_version": "1.2.0",
            "grid_template_areas": null,
            "object_position": null,
            "object_fit": null,
            "grid_auto_columns": null,
            "margin": null,
            "display": null,
            "left": null
          }
        },
        "1eecb657e9f44c1b95de6b5aea8cbc31": {
          "model_module": "@jupyter-widgets/base",
          "model_name": "LayoutModel",
          "state": {
            "_view_name": "LayoutView",
            "grid_template_rows": null,
            "right": null,
            "justify_content": null,
            "_view_module": "@jupyter-widgets/base",
            "overflow": null,
            "_model_module_version": "1.2.0",
            "_view_count": null,
            "flex_flow": null,
            "width": null,
            "min_width": null,
            "border": null,
            "align_items": null,
            "bottom": null,
            "_model_module": "@jupyter-widgets/base",
            "top": null,
            "grid_column": null,
            "overflow_y": null,
            "overflow_x": null,
            "grid_auto_flow": null,
            "grid_area": null,
            "grid_template_columns": null,
            "flex": null,
            "_model_name": "LayoutModel",
            "justify_items": null,
            "grid_row": null,
            "max_height": null,
            "align_content": null,
            "visibility": null,
            "align_self": null,
            "height": null,
            "min_height": null,
            "padding": null,
            "grid_auto_rows": null,
            "grid_gap": null,
            "max_width": null,
            "order": null,
            "_view_module_version": "1.2.0",
            "grid_template_areas": null,
            "object_position": null,
            "object_fit": null,
            "grid_auto_columns": null,
            "margin": null,
            "display": null,
            "left": null
          }
        },
        "3d104aaff2454bb7b8a848b6624f172d": {
          "model_module": "@jupyter-widgets/controls",
          "model_name": "ButtonModel",
          "state": {
            "_view_name": "ButtonView",
            "style": "IPY_MODEL_73a5ad48c19a43a8954e9f86c09eb96e",
            "_dom_classes": [],
            "description": "Silverman",
            "_model_name": "ButtonModel",
            "button_style": "",
            "_view_module": "@jupyter-widgets/controls",
            "_model_module_version": "1.5.0",
            "tooltip": "",
            "_view_count": null,
            "disabled": false,
            "_view_module_version": "1.5.0",
            "layout": "IPY_MODEL_05cc1aace68f488384a20df0270a2476",
            "_model_module": "@jupyter-widgets/controls",
            "icon": ""
          }
        },
        "0a7f2e1039f24597873ad3946c3b9e00": {
          "model_module": "@jupyter-widgets/controls",
          "model_name": "ButtonModel",
          "state": {
            "_view_name": "ButtonView",
            "style": "IPY_MODEL_6a05b2e1577d4d6fa5d31600e4b195da",
            "_dom_classes": [],
            "description": "Cross Validation",
            "_model_name": "ButtonModel",
            "button_style": "",
            "_view_module": "@jupyter-widgets/controls",
            "_model_module_version": "1.5.0",
            "tooltip": "",
            "_view_count": null,
            "disabled": false,
            "_view_module_version": "1.5.0",
            "layout": "IPY_MODEL_cafa753ba26f4953a9926ad138e05ca9",
            "_model_module": "@jupyter-widgets/controls",
            "icon": ""
          }
        },
        "73a5ad48c19a43a8954e9f86c09eb96e": {
          "model_module": "@jupyter-widgets/controls",
          "model_name": "ButtonStyleModel",
          "state": {
            "_view_name": "StyleView",
            "_model_name": "ButtonStyleModel",
            "_view_module": "@jupyter-widgets/base",
            "_model_module_version": "1.5.0",
            "_view_count": null,
            "button_color": null,
            "font_weight": "",
            "_view_module_version": "1.2.0",
            "_model_module": "@jupyter-widgets/controls"
          }
        },
        "05cc1aace68f488384a20df0270a2476": {
          "model_module": "@jupyter-widgets/base",
          "model_name": "LayoutModel",
          "state": {
            "_view_name": "LayoutView",
            "grid_template_rows": null,
            "right": null,
            "justify_content": null,
            "_view_module": "@jupyter-widgets/base",
            "overflow": null,
            "_model_module_version": "1.2.0",
            "_view_count": null,
            "flex_flow": null,
            "width": null,
            "min_width": null,
            "border": null,
            "align_items": null,
            "bottom": null,
            "_model_module": "@jupyter-widgets/base",
            "top": null,
            "grid_column": null,
            "overflow_y": null,
            "overflow_x": null,
            "grid_auto_flow": null,
            "grid_area": null,
            "grid_template_columns": null,
            "flex": null,
            "_model_name": "LayoutModel",
            "justify_items": null,
            "grid_row": null,
            "max_height": null,
            "align_content": null,
            "visibility": null,
            "align_self": null,
            "height": null,
            "min_height": null,
            "padding": null,
            "grid_auto_rows": null,
            "grid_gap": null,
            "max_width": null,
            "order": null,
            "_view_module_version": "1.2.0",
            "grid_template_areas": null,
            "object_position": null,
            "object_fit": null,
            "grid_auto_columns": null,
            "margin": null,
            "display": null,
            "left": null
          }
        },
        "6a05b2e1577d4d6fa5d31600e4b195da": {
          "model_module": "@jupyter-widgets/controls",
          "model_name": "ButtonStyleModel",
          "state": {
            "_view_name": "StyleView",
            "_model_name": "ButtonStyleModel",
            "_view_module": "@jupyter-widgets/base",
            "_model_module_version": "1.5.0",
            "_view_count": null,
            "button_color": null,
            "font_weight": "",
            "_view_module_version": "1.2.0",
            "_model_module": "@jupyter-widgets/controls"
          }
        },
        "cafa753ba26f4953a9926ad138e05ca9": {
          "model_module": "@jupyter-widgets/base",
          "model_name": "LayoutModel",
          "state": {
            "_view_name": "LayoutView",
            "grid_template_rows": null,
            "right": null,
            "justify_content": null,
            "_view_module": "@jupyter-widgets/base",
            "overflow": null,
            "_model_module_version": "1.2.0",
            "_view_count": null,
            "flex_flow": null,
            "width": null,
            "min_width": null,
            "border": null,
            "align_items": null,
            "bottom": null,
            "_model_module": "@jupyter-widgets/base",
            "top": null,
            "grid_column": null,
            "overflow_y": null,
            "overflow_x": null,
            "grid_auto_flow": null,
            "grid_area": null,
            "grid_template_columns": null,
            "flex": null,
            "_model_name": "LayoutModel",
            "justify_items": null,
            "grid_row": null,
            "max_height": null,
            "align_content": null,
            "visibility": null,
            "align_self": null,
            "height": null,
            "min_height": null,
            "padding": null,
            "grid_auto_rows": null,
            "grid_gap": null,
            "max_width": null,
            "order": null,
            "_view_module_version": "1.2.0",
            "grid_template_areas": null,
            "object_position": null,
            "object_fit": null,
            "grid_auto_columns": null,
            "margin": null,
            "display": null,
            "left": null
          }
        },
        "e72a00808c094dd2920acbc2a581610c": {
          "model_module": "@jupyter-widgets/output",
          "model_name": "OutputModel",
          "state": {
            "_view_name": "OutputView",
            "msg_id": "",
            "_dom_classes": [],
            "_model_name": "OutputModel",
            "outputs": [
              {
                "output_type": "display_data",
                "metadata": {
                  "tags": []
                },
                "image/png": "iVBORw0KGgoAAAANSUhEUgAAAnUAAAHwCAYAAADAYpmiAAAABHNCSVQICAgIfAhkiAAAAAlwSFlz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\n",
                "text/plain": "<Figure size 720x576 with 1 Axes>"
              }
            ],
            "_view_module": "@jupyter-widgets/output",
            "_model_module_version": "1.0.0",
            "_view_count": null,
            "_view_module_version": "1.0.0",
            "layout": "IPY_MODEL_328546c94aae488b9ba50b20e895e517",
            "_model_module": "@jupyter-widgets/output"
          }
        }
      }
    }
  },
  "cells": [
    {
      "cell_type": "markdown",
      "metadata": {
        "id": "view-in-github",
        "colab_type": "text"
      },
      "source": [
        "<a href=\"https://colab.research.google.com/github/fbeilstein/machine_learning/blob/master/lecture_13_kernel_density_estimation.ipynb\" target=\"_parent\"><img src=\"https://colab.research.google.com/assets/colab-badge.svg\" alt=\"Open In Colab\"/></a>"
      ]
    },
    {
      "cell_type": "markdown",
      "metadata": {
        "id": "BJ-DUq6MoqWc",
        "colab_type": "text"
      },
      "source": [
        "#Kernel density estimation / Ядрова оцінка густини розподілу"
      ]
    },
    {
      "cell_type": "markdown",
      "metadata": {
        "id": "gZYadnN3sfQi",
        "colab_type": "text"
      },
      "source": [
        "**K**ernel **D**ensity **E**stimation (KDE) is a technique for estimation of probability distribution of the random variable.\n",
        "Before we had two instruments for that:\n",
        "* histograms to capture emphirical frequencies to approximate underlying probability distribution;\n",
        "* guessing a family of probability distributions that the data probably follows and estimating parameters (using MLE) of a most fit of these distributions (parametric pdf estimation).\n",
        "\n",
        "KDE is another option for us. It can be seen as an extention (\"smoothing\") of the histogram technique."
      ]
    },
    {
      "cell_type": "markdown",
      "metadata": {
        "id": "g2i9dmgzT0jN",
        "colab_type": "text"
      },
      "source": [
        "#Motivating KDE: Histograms"
      ]
    },
    {
      "cell_type": "markdown",
      "metadata": {
        "id": "3lzFBpANoxck",
        "colab_type": "text"
      },
      "source": [
        "Have you ever looked at histogram of samples drawn from a random variable with a known distribution and cringed how \"inaccurate\" that histogram was?\n",
        "\n",
        "<br>\n",
        "\n",
        "![](https://raw.githubusercontent.com/fbeilstein/machine_learning/master/lecture_13/galton.jpg) \n",
        "\n",
        "<br>\n",
        "\n",
        "Well, although histograms are useful and widely used it's also true that\n",
        "\n",
        "$$\n",
        "\\text{Histograms are trickier than they seem.}\n",
        "$$\n",
        "\n",
        "First, you should sample hundred of thousands times in order the histogram relatively closely resemble the underlying distribution.\n",
        "Second, the bins sizes and location could be chosen in many ways. This can drastically change the overall shape of the histogram."
      ]
    },
    {
      "cell_type": "code",
      "metadata": {
        "id": "FgTGp-GsT13k",
        "colab_type": "code",
        "outputId": "064a4be7-a2d8-40e7-bd4c-622fb936501c",
        "colab": {
          "base_uri": "https://localhost:8080/",
          "height": 274
        }
      },
      "source": [
        "%matplotlib inline\n",
        "import matplotlib.pyplot as plt\n",
        "import seaborn as sns; sns.set()\n",
        "import numpy as np\n",
        "\n",
        "def make_data(N, f=0.3, rseed=1):\n",
        "  rand = np.random.RandomState(rseed)\n",
        "  x = rand.randn(N)\n",
        "  x[int(f * N):] += 5\n",
        "  return x\n",
        "\n",
        "x = make_data(1000)\n",
        "hist = plt.hist(x, bins=30, density=True)"
      ],
      "execution_count": 0,
      "outputs": [
        {
          "output_type": "display_data",
          "data": {
            "image/png": "[encoded data removed]",
            "text/plain": [
              "<Figure size 432x288 with 1 Axes>"
            ]
          },
          "metadata": {
            "tags": []
          }
        }
      ]
    },
    {
      "cell_type": "code",
      "metadata": {
        "id": "wybFbOtjtMuS",
        "colab_type": "code",
        "outputId": "6fd9e0e2-0aeb-4716-8240-7c80a2060a7e",
        "colab": {
          "base_uri": "https://localhost:8080/",
          "height": 34
        }
      },
      "source": [
        "# histogram is normed = area equa to 1\n",
        "density, bins, patches = hist\n",
        "widths = bins[1:] - bins[:-1]\n",
        "(density * widths).sum()"
      ],
      "execution_count": 0,
      "outputs": [
        {
          "output_type": "execute_result",
          "data": {
            "text/plain": [
              "1.0"
            ]
          },
          "metadata": {
            "tags": []
          },
          "execution_count": 6
        }
      ]
    },
    {
      "cell_type": "markdown",
      "metadata": {
        "id": "bLtxb-45122v",
        "colab_type": "text"
      },
      "source": [
        "The issue is that depending on the bins the histograms may have different *qualitive* features. Consider this."
      ]
    },
    {
      "cell_type": "code",
      "metadata": {
        "id": "BgtT92WP1Y26",
        "colab_type": "code",
        "outputId": "3581bdbe-4723-4cbb-ffde-cc94afae90c9",
        "colab": {
          "base_uri": "https://localhost:8080/",
          "height": 274
        }
      },
      "source": [
        "x = make_data(20)\n",
        "bins = np.linspace(-5, 10, 10)\n",
        "fig, ax = plt.subplots(1, 2, figsize=(12, 4), sharex=True, sharey=True, subplot_kw={'xlim':(-4, 9), 'ylim':(-0.02, 0.3)})\n",
        "fig.subplots_adjust(wspace=0.05)\n",
        "for i, offset in enumerate([0.0, 0.6]):\n",
        "  ax[i].hist(x, bins=bins + offset, density=True)\n",
        "  ax[i].plot(x, np.full_like(x, -0.01), '|k', markeredgewidth=1)\n",
        "  \n"
      ],
      "execution_count": 0,
      "outputs": [
        {
          "output_type": "display_data",
          "data": {
            "image/png": "[encoded data removed]",
            "text/plain": [
              "<Figure size 864x288 with 2 Axes>"
            ]
          },
          "metadata": {
            "tags": []
          }
        }
      ]
    },
    {
      "cell_type": "markdown",
      "metadata": {
        "id": "aAoW_Glkphhh",
        "colab_type": "text"
      },
      "source": [
        "So it the underlying distribution bimodal or unimodal?\n",
        "Please take a look at  [these](https://mglerner.github.io/posts/histograms-and-kernel-density-estimation-kde-2.html?p=28) animations of histograms tricky behaviour.\n",
        "\n",
        "---\n",
        "\n",
        "**Sidenote** \n",
        "\n",
        "---\n",
        "\n",
        "On the above picture we have used **a rug plot** -- a plot of data for a single quantitative variable, displayed as marks along an axis. As such it is analogous to a histogram with zero-width bins, or a one-dimensional scatter plot.\n",
        "Rug plots are often used in combination with two-dimensional scatter plots by placing a rug plot of the x values of the data along the x-axis, and similarly for the y values. This is the origin of the term \"rug plot\", as these rug plots with perpendicular markers look like tassels along the edges of the rectangular \"rug\" of the scatter plot.\n",
        "\n",
        "---\n",
        "\n",
        "We can try to solve the problem with the ambiguity of the bin choice by the following idea.\n",
        "You can rethink histogram as square blocks stacked on each other. Each block represents one point of data. If several datapoints are contained within one bin their blocks are placed one at the top of the other."
      ]
    },
    {
      "cell_type": "code",
      "metadata": {
        "id": "nlOSSBRl155E",
        "colab_type": "code",
        "outputId": "a2ffb0d3-9471-4d68-ca35-41e4c912160a",
        "colab": {
          "base_uri": "https://localhost:8080/",
          "height": 274
        }
      },
      "source": [
        "fig, ax = plt.subplots()\n",
        "bins = np.arange(-3, 8)\n",
        "ax.plot(x, np.full_like(x, -0.1), '|k', markeredgewidth=1)\n",
        "for count, edge in zip(*np.histogram(x, bins)):\n",
        "  for i in range(count):\n",
        "    ax.add_patch(plt.Rectangle((edge, i), 1, 1, alpha=0.5))\n",
        "    ax.set_xlim(-4, 8)\n",
        "    ax.set_ylim(-0.2, 8)"
      ],
      "execution_count": 0,
      "outputs": [
        {
          "output_type": "display_data",
          "data": {
            "image/png": "[encoded data removed]",
            "text/plain": [
              "<Figure size 432x288 with 1 Axes>"
            ]
          },
          "metadata": {
            "tags": []
          }
        }
      ]
    },
    {
      "cell_type": "markdown",
      "metadata": {
        "id": "yn5kCMDVpuIa",
        "colab_type": "text"
      },
      "source": [
        "But what if we placed each block so its center is just below the point it represents."
      ]
    },
    {
      "cell_type": "code",
      "metadata": {
        "id": "PmaIt2FW2XD9",
        "colab_type": "code",
        "outputId": "29fca3e3-6bf5-400f-9cf8-db443c4db1a6",
        "colab": {
          "base_uri": "https://localhost:8080/",
          "height": 274
        }
      },
      "source": [
        "x_d = np.linspace(-4, 8, 2000)\n",
        "density = sum((abs(xi - x_d) < 0.5) for xi in x)\n",
        "plt.fill_between(x_d, density, alpha=0.5)\n",
        "plt.plot(x, np.full_like(x, -0.1), '|k', markeredgewidth=1)\n",
        "plt.axis([-4, 8, -0.2, 8]);"
      ],
      "execution_count": 0,
      "outputs": [
        {
          "output_type": "display_data",
          "data": {
            "image/png": "[encoded data removed]",
            "text/plain": [
              "<Figure size 432x288 with 1 Axes>"
            ]
          },
          "metadata": {
            "tags": []
          }
        }
      ]
    },
    {
      "cell_type": "markdown",
      "metadata": {
        "id": "C7LI-9YHtiZZ",
        "colab_type": "text"
      },
      "source": [
        "Analytically this can be seen as if we have placed a \"square\" function (kernel) centered at each point and then we have summed all the functions up.\n",
        "\n",
        "![](https://raw.githubusercontent.com/fbeilstein/machine_learning/master/lecture_13/tophat.png) \n",
        "\n",
        "<br>\n",
        "\n",
        "This type of kernel is called top hat as it recalls a flat-crowned hat (aka cylinder - another term that is both a hat and a math object). The length of the kernel function has not have to be equal to the height.\n",
        "\n",
        "<br>\n",
        "\n",
        "![](https://raw.githubusercontent.com/fbeilstein/machine_learning/master/lecture_13/hat.png) \n",
        "\n",
        "<br>\n",
        "\n",
        "Now to make things not so \"right angled\" we can sum up smooth functions (for example Gaussians) instead of rectangular shapes (top hats)."
      ]
    },
    {
      "cell_type": "code",
      "metadata": {
        "id": "0NuMPFTb2k4v",
        "colab_type": "code",
        "outputId": "dfbb187a-ee23-46d8-a381-e456b9b2d09e",
        "colab": {
          "base_uri": "https://localhost:8080/",
          "height": 274
        }
      },
      "source": [
        "from scipy.stats import norm\n",
        "\n",
        "x_d = np.linspace(-4, 8, 1000)\n",
        "density = sum(norm(xi).pdf(x_d) for xi in x)\n",
        "plt.fill_between(x_d, density, alpha=0.5)\n",
        "plt.plot(x, np.full_like(x, -0.1), '|k', markeredgewidth=1)\n",
        "plt.axis([-4, 8, -0.2, 5]);\n",
        "\n",
        "# a Gaussian kernel"
      ],
      "execution_count": 0,
      "outputs": [
        {
          "output_type": "display_data",
          "data": {
            "image/png": "[encoded data removed]",
            "text/plain": [
              "<Figure size 432x288 with 1 Axes>"
            ]
          },
          "metadata": {
            "tags": []
          }
        }
      ]
    },
    {
      "cell_type": "markdown",
      "metadata": {
        "id": "UKtTyenQ21oM",
        "colab_type": "text"
      },
      "source": [
        "#Kernel Density Estimation "
      ]
    },
    {
      "cell_type": "markdown",
      "metadata": {
        "id": "spIbstS6H-qt",
        "colab_type": "text"
      },
      "source": [
        "In order to do KDE we need to make our mind about two things:\n",
        "  * kernel, which specifies the shape of the distribution placed at each point;\n",
        "  * kernel bandwidth, which controls the size of the kernel at each point.\n"
      ]
    },
    {
      "cell_type": "markdown",
      "metadata": {
        "id": "mmMie2p4_Nr0",
        "colab_type": "text"
      },
      "source": [
        "##Choosing kernel"
      ]
    },
    {
      "cell_type": "markdown",
      "metadata": {
        "id": "RU6-AjKD_S15",
        "colab_type": "text"
      },
      "source": [
        "On every data point $x_i$ we place a *kernel* function $K$. The kernel density estimate is then\n",
        "\n",
        "$$\n",
        "\\hat{f}_h(x)=\\frac{1}{Nh}\\sum_{i=1}^N K\\left(\\frac{x-x_i}{h}\\right),\n",
        "$$\n",
        "\n",
        "where $h$ is the scaling parameter caled *bandwidth*.\n",
        "\n",
        "In fact we can subtitute equal factors of $1/N$ with weights that can emphasize one points against the others:\n",
        "\n",
        "$$\n",
        "\\begin{aligned}\n",
        "& \\hat{f}_h(x)=\\frac{1}{h}\\sum_{i=1}^N w_i \\cdot K\\left(\\frac{x-x_i}{h}\\right), \\\\\n",
        "&\\sum_{i=1}^N w_i=1.\n",
        "\\end{aligned}\n",
        "$$\n",
        "\n",
        "The kernel function is typically\n",
        "* non-negative: $K(x) \\geq 0$;\n",
        "* symmetric: $\\,\\,\\,\\,\\, K(x)=K(-x)$;\n",
        "* decreasing: $\\,\\,\\,\\, K'(x)\\leq 0$;\n",
        "* $\\int K(x)dx=1$.\n",
        "\n",
        "$K$ has either compact support or decrease sufficiently fast approaching infinity.\n",
        "\n",
        "In the multivariate case (with $d$ dimensions) we have\n",
        "\n",
        "$$\n",
        "\\hat{f}_h(x)=\\frac{1}{Nh^d}\\sum_{i=1}^N K\\left(\\frac{\\|x-x_i\\|}{h}\\right),\n",
        "$$\n",
        "\n",
        "where $\\|\\cdot \\|$ is a some kind of norm, for example $p$-norm\n",
        "\n",
        "$$ \n",
        "\\|x\\|_p = \\left(\\sum_i |x_i|^p \\right)^{1/p}\n",
        "$$\n",
        "\n",
        "Although it's fun to see how the choise of kernel and metric affects the outcome,  it doesn't matter so much when there are lots of points.\n",
        "\n",
        "Nonetheless, what are our options when choosing the kernels?"
      ]
    },
    {
      "cell_type": "code",
      "metadata": {
        "id": "4R5k0DYyy0nl",
        "colab_type": "code",
        "outputId": "78b81d40-54ec-467f-99d1-f84042c624e6",
        "cellView": "form",
        "colab": {
          "base_uri": "https://localhost:8080/",
          "height": 393
        }
      },
      "source": [
        "#@title Available kernels\n",
        "\n",
        "import numpy as np\n",
        "import matplotlib\n",
        "import matplotlib.pyplot as plt\n",
        "from distutils.version import LooseVersion\n",
        "from scipy.stats import norm\n",
        "from sklearn.neighbors import KernelDensity\n",
        "\n",
        "\n",
        "X_plot = np.linspace(-6, 6, 1000)[:, None]\n",
        "X_src = np.zeros((1, 1))\n",
        "\n",
        "fig, ax = plt.subplots(2, 3, sharex=True, sharey=True, figsize=(10, 6))\n",
        "fig.subplots_adjust(left=0.05, right=0.95, hspace=0.05, wspace=0.05)\n",
        "\n",
        "\n",
        "def format_func(x, loc):\n",
        "    if x == 0:\n",
        "        return '0'\n",
        "    elif x == 1:\n",
        "        return 'h'\n",
        "    elif x == -1:\n",
        "        return '-h'\n",
        "    else:\n",
        "        return '%ih' % x\n",
        "\n",
        "for i, kernel in enumerate(['gaussian', 'tophat', 'epanechnikov',\n",
        "                            'exponential', 'linear', 'cosine']):\n",
        "    axi = ax.ravel()[i]\n",
        "    log_dens = KernelDensity(kernel=kernel).fit(X_src).score_samples(X_plot)\n",
        "    axi.fill(X_plot[:, 0], np.exp(log_dens), '-k', fc='#AAAAFF')\n",
        "    axi.text(-2.6, 0.95, kernel)\n",
        "\n",
        "    axi.xaxis.set_major_formatter(plt.FuncFormatter(format_func))\n",
        "    axi.xaxis.set_major_locator(plt.MultipleLocator(1))\n",
        "    axi.yaxis.set_major_locator(plt.NullLocator())\n",
        "\n",
        "    axi.set_ylim(0, 1.05)\n",
        "    axi.set_xlim(-2.9, 2.9)\n",
        "\n",
        "ax[0, 1].set_title('Available Kernels');\n"
      ],
      "execution_count": 0,
      "outputs": [
        {
          "output_type": "display_data",
          "data": {
            "image/png": "[encoded data removed]",
            "text/plain": [
              "<Figure size 720x432 with 6 Axes>"
            ]
          },
          "metadata": {
            "tags": []
          }
        }
      ]
    },
    {
      "cell_type": "markdown",
      "metadata": {
        "id": "VVGzEnOy8qkx",
        "colab_type": "text"
      },
      "source": [
        "$$\n",
        "\\begin{aligned}\n",
        "& K_{\\text{Gaussian}}(x;h) && \\propto \\quad e^{-\\frac{x^2}{2h^2}}; \\\\\n",
        "& K_{\\text{Tophat}}(x;h) && \\propto \\quad 1, &&& \\text{if   } \\quad x<h; \\\\\n",
        "& K_{\\text{Epanechnikov}}(x;h) && \\propto \\quad 1-\\frac{x^2}{h^2}; \\\\\n",
        "& K_{\\text{Exponential}}(x;h) && \\propto \\quad e^{-\\frac{x}{h}}; \\\\\n",
        "& K_{\\text{Linear}}(x;h) && \\propto \\quad 1-\\frac{|x|}{h}, &&& \\text{if   } \\quad |x|<h; \\\\\n",
        "& K_{\\text{Cosine}}(x;h) && \\propto \\quad \\cos{\\frac{\\pi x}{2 h}}, &&& \\text{if   } \\quad x<h. \\\\\n",
        "\\end{aligned}\n",
        "$$\n",
        "\n",
        "you can choose those by setting `kernel` parameter:\n",
        "* `kernel = 'gaussian';`\n",
        "* `kernel = 'tophat';`\n",
        "* `kernel = 'epanechnikov';`\n",
        "* `kernel = 'exponential';`\n",
        "* `kernel = 'linear';`\n",
        "* `kernel = 'cosine'.`"
      ]
    },
    {
      "cell_type": "markdown",
      "metadata": {
        "id": "UkuES-PX_H28",
        "colab_type": "text"
      },
      "source": [
        "##Choosing bandwidth"
      ]
    },
    {
      "cell_type": "markdown",
      "metadata": {
        "id": "EWh6vAx9_l39",
        "colab_type": "text"
      },
      "source": [
        "The choice of bandwidth within KDE is extremely important (the bias–variance trade-off).\n",
        "\n",
        "   *  too narrow a bandwidth leads to a high-variance estimate (i.e., overfitting)\n",
        "   * too wide a bandwidth leads to a high-bias estimate (i.e., underfitting)\n",
        "\n",
        "<br>\n",
        "\n",
        "   ![](https://raw.githubusercontent.com/fbeilstein/machine_learning/master/lecture_13/band.png) \n",
        "\n",
        "<br>\n",
        "\n",
        "Thus bandwidth is important!\n",
        "\n",
        "   There are two classes of approaches to this problem: in the statistics community, it is common to use reference rules, where the optimal bandwidth is estimated from theoretical forms based on assumptions about the data distribution. A common reference rule is **Silverman's rule of thumb**, which is derived for univariate KDE and included within both the `Scipy` and `Statsmodels` implementations. Other potential reference rules are ones based on Information Criteria, such as the well-known AIC and BIC. Another option is **Improved Sheather-Jones (ISJ) algorithm**.\n",
        "\n",
        "In the Machine Learning world, the use of reference rules is less common. Instead, an empirical approach such as **cross validation** is often used. In cross validation, the model is fit to part of the data, and then a quantitative metric is computed to determine how well this model fits the remaining data. Such an empirical approach to model parameter selection is very flexible, and can be used regardless of the underlying data distribution.\n",
        "\n",
        "Let's look at these approaches in more detail."
      ]
    },
    {
      "cell_type": "markdown",
      "metadata": {
        "id": "am_w-S6sMY4X",
        "colab_type": "text"
      },
      "source": [
        "###Theoretical considerations"
      ]
    },
    {
      "cell_type": "markdown",
      "metadata": {
        "id": "SXcsA8-Wt3y9",
        "colab_type": "text"
      },
      "source": [
        "The most common optimality criterion used to select this parameter is the expected $L_2$ risk function, also termed the **mean integrated squared error**:\n",
        "\n",
        "$$\\text{MISE}(h)=\\mathbb{E}\\left[\\int \\left(\\hat{f}_h(x)-f(x)\\right)^2 dx \\right].$$\n",
        "\n",
        "Under weak assumptions on $f$ and $K$\n",
        "\n",
        "$$\n",
        "\\text{MISE}(h)=\\text{AMISE}(h)+o\\left(\\frac{1}{Nh}+h^4\\right).\n",
        "$$\n",
        "\n",
        "The $\\text{AMISE}$ is the **A**symptotic **MISE** which consists of the two leading terms\n",
        "\n",
        "$$\n",
        "\\text{AMISE}(h)=\\frac{R(K)}{Nh}+\\frac{1}{4}m_2(K)^2h^4R(f''),\n",
        "$$\n",
        "\n",
        "where $R(g)=\\int g(x)^2 dx$ and $m_2(K)=\\int x^2 K(x) dx$. Thus\n",
        "* $R(g)$ is the functional $L_2$-norm;\n",
        "* $m_2(K)=\\mathbb{E}_K[x^2]$ is the so-called $2$-nd non-central moment of the kernel.\n",
        "\n",
        "The minimum of this $\\text{AMISE}$ is the solution to this differential equation\n",
        "\n",
        "$$\n",
        "\\begin{aligned}\n",
        "& \\frac{\\partial}{\\partial h}\\text{AMISE}(h) =-\\frac{R(K)}{N h^2}+m_2(K)^2h^3R(f'')=0 \\color{red}{\\Rightarrow} \\\\\n",
        "& \\color{red}{\\Rightarrow} \\qquad h_{\\text{AMISE}} =\\frac{R(K)^{1/5}}{m_2(K)^{2/5} R(f'')^{1/5}N^{1/5}}.\n",
        "\\end{aligned}\n",
        "$$\n",
        "\n",
        "Neither the $\\text{AMISE}$ nor the $h_\\text{AMISE}$ formulas are able to be used directly since they involve the unknown density function $f$ or its second derivative $f''$, so a variety of automatic, data-based methods have been developed for selecting the bandwidth."
      ]
    },
    {
      "cell_type": "markdown",
      "metadata": {
        "id": "ikXJjC-IJR7B",
        "colab_type": "text"
      },
      "source": [
        "###Silverman's Rule of Thumb"
      ]
    },
    {
      "cell_type": "markdown",
      "metadata": {
        "id": "F9e1Z4OmJT0W",
        "colab_type": "text"
      },
      "source": [
        "If the data is unimodal and close to normal, silverman’s rule of thumb may be used. It’s computationally very fast, but derived by assuming that the true density is normal. This is somewhat paradoxal, since if we knew that the data was truly normal it would render a kernel density estimator unnecessary.\n",
        "\n",
        "$$\n",
        "h=\\left(\\frac{4}{3}\\frac{\\hat{\\sigma}^5}{N}\\right)^{\\frac{1}{5}}.\n",
        "$$"
      ]
    },
    {
      "cell_type": "markdown",
      "metadata": {
        "id": "501YP8v3J1bf",
        "colab_type": "text"
      },
      "source": [
        "###Improved Sheather-Jones (ISJ) algorithm "
      ]
    },
    {
      "cell_type": "markdown",
      "metadata": {
        "id": "8BSBQb_hJ4oZ",
        "colab_type": "text"
      },
      "source": [
        "If much data is available and the data is far from normal or multimodal, the **I**mproved **S**heather **J**ones (ISJ) algorithm may be used. The Improved Sheather-Jones algorithm is a plug-in selector. \n",
        "\n",
        "The ISJ algorithm attempts to find h to minimize the asymptotic mean integrated square error ($\\text{AMISE}$), which depends on the unknown quantity $\\|f''(x)\\|^2$. Using a recursive formula, this is accomplished by computing a sequence of estimates."
      ]
    },
    {
      "cell_type": "markdown",
      "metadata": {
        "id": "q8stjXouIyTz",
        "colab_type": "text"
      },
      "source": [
        "###Cross-validation"
      ]
    },
    {
      "cell_type": "code",
      "metadata": {
        "id": "P_6K4w_3Izgz",
        "colab_type": "code",
        "outputId": "f9e39b77-e5b2-4eca-9800-879c83423287",
        "colab": {
          "base_uri": "https://localhost:8080/",
          "height": 34
        }
      },
      "source": [
        "from sklearn.model_selection import learning_curve, GridSearchCV\n",
        "from sklearn.model_selection import LeaveOneOut #train_test_split\n",
        "\n",
        "bandwidths = 10 ** np.linspace(-1, 1, 100)\n",
        "loo = LeaveOneOut()\n",
        "grid = GridSearchCV(KernelDensity(kernel='gaussian'), {'bandwidth': bandwidths}, cv=loo)\n",
        "grid.fit(x[:, None]);\n",
        "grid.best_params_"
      ],
      "execution_count": 0,
      "outputs": [
        {
          "output_type": "execute_result",
          "data": {
            "text/plain": [
              "{'bandwidth': 1.1233240329780276}"
            ]
          },
          "metadata": {
            "tags": []
          },
          "execution_count": 20
        }
      ]
    },
    {
      "cell_type": "markdown",
      "metadata": {
        "id": "JGrdMpBf_vRg",
        "colab_type": "text"
      },
      "source": [
        "#Interactive 1D example (kernel and bandwidth)"
      ]
    },
    {
      "cell_type": "code",
      "metadata": {
        "id": "7TFQX4IJEOz8",
        "colab_type": "code",
        "colab": {
          "resources": {
            "http://localhost:8080/nbextensions/google.colab/tabbar.css": {
              "data": "Lmdvb2ctdGFie3Bvc2l0aW9uOnJlbGF0aXZlO3BhZGRpbmc6NHB4IDhweDtjb2xvcjojMDBjO3RleHQtZGVjb3JhdGlvbjp1bmRlcmxpbmU7Y3Vyc29yOmRlZmF1bHR9Lmdvb2ctdGFiLWJhci10b3AgLmdvb2ctdGFie21hcmdpbjoxcHggNHB4IDAgMDtib3JkZXItYm90dG9tOjA7ZmxvYXQ6bGVmdH0uZ29vZy10YWItYmFyLXRvcDphZnRlciwuZ29vZy10YWItYmFyLWJvdHRvbTphZnRlcntjb250ZW50OiIgIjtkaXNwbGF5OmJsb2NrO2hlaWdodDowO2NsZWFyOmJvdGg7dmlzaWJpbGl0eTpoaWRkZW59Lmdvb2ctdGFiLWJhci1ib3R0b20gLmdvb2ctdGFie21hcmdpbjowIDRweCAxcHggMDtib3JkZXItdG9wOjA7ZmxvYXQ6bGVmdH0uZ29vZy10YWItYmFyLXN0YXJ0IC5nb29nLXRhYnttYXJnaW46MCAwIDRweCAxcHg7Ym9yZGVyLXJpZ2h0OjB9Lmdvb2ctdGFiLWJhci1lbmQgLmdvb2ctdGFie21hcmdpbjowIDFweCA0cHggMDtib3JkZXItbGVmdDowfS5nb29nLXRhYi1ob3ZlcntiYWNrZ3JvdW5kOiNlZWV9Lmdvb2ctdGFiLWRpc2FibGVke2NvbG9yOiM2NjZ9Lmdvb2ctdGFiLXNlbGVjdGVke2NvbG9yOiMwMDA7YmFja2dyb3VuZDojZmZmO3RleHQtZGVjb3JhdGlvbjpub25lO2ZvbnQtd2VpZ2h0OmJvbGQ7Ym9yZGVyOjFweCBzb2xpZCAjNmI5MGRhfS5nb29nLXRhYi1iYXItdG9we3BhZGRpbmctdG9wOjVweCFpbXBvcnRhbnQ7cGFkZGluZy1sZWZ0OjVweCFpbXBvcnRhbnQ7Ym9yZGVyLWJvdHRvbToxcHggc29saWQgIzZiOTBkYSFpbXBvcnRhbnR9Lmdvb2ctdGFiLWJhci10b3AgLmdvb2ctdGFiLXNlbGVjdGVke3RvcDoxcHg7bWFyZ2luLXRvcDowO3BhZGRpbmctYm90dG9tOjVweH0uZ29vZy10YWItYmFyLWJvdHRvbSAuZ29vZy10YWItc2VsZWN0ZWR7dG9wOi0xcHg7bWFyZ2luLWJvdHRvbTowO3BhZGRpbmctdG9wOjVweH0uZ29vZy10YWItYmFyLXN0YXJ0IC5nb29nLXRhYi1zZWxlY3RlZHtsZWZ0OjFweDttYXJnaW4tbGVmdDowO3BhZGRpbmctcmlnaHQ6OXB4fS5nb29nLXRhYi1iYXItZW5kIC5nb29nLXRhYi1zZWxlY3RlZHtsZWZ0Oi0xcHg7bWFyZ2luLXJpZ2h0OjA7cGFkZGluZy1sZWZ0OjlweH0uZ29vZy10YWItYmFye21hcmdpbjowO2JvcmRlcjowO3BhZGRpbmc6MDtsaXN0LXN0eWxlOm5vbmU7Y3Vyc29yOmRlZmF1bHQ7b3V0bGluZTpub25lO2JhY2tncm91bmQ6I2ViZWZmOX0uZ29vZy10YWItYmFyLWNsZWFye2NsZWFyOmJvdGg7aGVpZ2h0OjA7b3ZlcmZsb3c6aGlkZGVufS5nb29nLXRhYi1iYXItc3RhcnR7ZmxvYXQ6bGVmdH0uZ29vZy10YWItYmFyLWVuZHtmbG9hdDpyaWdodH0qIGh0bWwgLmdvb2ctdGFiLWJhci1zdGFydHttYXJnaW4tcmlnaHQ6LTNweH0qIGh0bWwgLmdvb2ctdGFiLWJhci1lbmR7bWFyZ2luLWxlZnQ6LTNweH0=",
              "ok": true,
              "headers": [
                [
                  "content-type",
                  "text/css"
                ]
              ],
              "status": 200,
              "status_text": ""
            },
            "http://localhost:8080/nbextensions/google.colab/tabbar_main.min.js": {
              "data": "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",
              "ok": true,
              "headers": [
                [
                  "content-type",
                  "application/javascript"
                ]
              ],
              "status": 200,
              "status_text": ""
            }
          },
          "base_uri": "https://localhost:8080/",
          "height": 617,
          "referenced_widgets": [
            "19c10f97b2fe4664aa72230d2d0008a3",
            "f4d6f8529da241f5bb7568aade2d166c",
            "ae48926817c340efa7c5d8e6b0533745",
            "1caf6d35a80c4ecf929b5a28213680fa",
            "c770ef3b745b4ca4b3e334d83a0ab2e9",
            "ef66bb6db2f14d34801622c808a50b10",
            "1ba1acd811f946acbb9de13be78810b9",
            "177098b018ed4372a467eb4f582ec0b7",
            "49572babf3884ddab177745c47130314",
            "d09e31a7c854479d97a98a94f6089a2a",
            "b6dd4cc2f1bb44939e52426279570ee0",
            "5ce9bad3d483419fa917d09dfae3155d",
            "d937c71d116a4951bd41ee3733dd9fa2",
            "21c909efa29c420f973ec11626ec07fc",
            "fc2cda17d6ed4d128fc3ff60291356f8",
            "b8881c383ab444bfba820cc5cb561f31",
            "c60c262e40094d39a4e3af5dfeac2429",
            "2824967d9eb94c48b65155beaf9a816f",
            "401a7fa8b6454a3cb39819a439c3a11f",
            "e87bb5f0d7a145d098312f3745af41f7",
            "53861150c83c46868f1862b52239aaf3",
            "dcf75c0956af42f1a520a7aaebb7fcb0",
            "aed9f82f7fdf4a61849aac1a587667d8",
            "8036eca6985b4f4c97df3d5891f326f3",
            "005fb0312ff24a40a902435afd49cd71",
            "619b30d27b68434eb904b01ae2bcbdbc",
            "c5016ac26f034a4f9111495fa16f94c7",
            "2520e70a983c431b8408b3513e8fd904",
            "648bc737869848b39a522d7465b449cf",
            "9967f99beb2f447391b5ab040c1fbc92",
            "bb5d658278fb4c62bf7505bdea82d51f",
            "263981a3cec44c4f86b6ce740ad8279a",
            "9bef8eaaee58400c9585d7c9d633b733",
            "37eab72cbf51453a8a4de560a25f07fa",
            "1d87af5334c94e82afea1f664b41ecfe",
            "f387c8ee219046b084ec8edacb5a62f6",
            "deaab0dc77a24f5a8dc1178f8f5f6b3d",
            "84829cf1e38d485294016549310f5d6a",
            "602008c4a0df41a29b7033620570a066",
            "b0135bfa999145808208d688d7751555",
            "dfebcc2b077e4287a7fd875bd9f8d327",
            "649a9f6a573b4fc0bffc3babe0200abd",
            "f517820b97834cc1b8ec0cd8d6b3d434",
            "1eecb657e9f44c1b95de6b5aea8cbc31",
            "3d104aaff2454bb7b8a848b6624f172d",
            "0a7f2e1039f24597873ad3946c3b9e00",
            "73a5ad48c19a43a8954e9f86c09eb96e",
            "05cc1aace68f488384a20df0270a2476",
            "6a05b2e1577d4d6fa5d31600e4b195da",
            "cafa753ba26f4953a9926ad138e05ca9",
            "e72a00808c094dd2920acbc2a581610c"
          ]
        },
        "cellView": "form",
        "outputId": "660c4d0b-0b54-406d-c696-1e24cc1de6d7"
      },
      "source": [
        "#@title Bandwidth and kernel in KDE\n",
        "from google.colab import widgets\n",
        "import ipywidgets\n",
        "import numpy as np\n",
        "import matplotlib.pyplot as plt\n",
        "import scipy\n",
        "from sklearn.neighbors import KernelDensity\n",
        "from sklearn.model_selection import learning_curve, GridSearchCV\n",
        "from sklearn.model_selection import LeaveOneOut #train_test_split\n",
        "\n",
        "\n",
        "\n",
        "params = []\n",
        "X = []\n",
        "b_w = ipywidgets.FloatSlider(description='bandwidth', min=1, max=50.0, value=15.0)\n",
        "ker_type = ipywidgets.Dropdown(\n",
        "  options=['gaussian', 'tophat', 'epanechnikov', 'exponential','linear','cosine'],\n",
        "  value='gaussian',\n",
        "  description='Kernel:',\n",
        "  disabled=False)\n",
        "\n",
        "def set_slider(x):\n",
        "  bandwidths = np.linspace(b_w.min, b_w.max, 100)\n",
        "  loo = LeaveOneOut()\n",
        "  grid = GridSearchCV(KernelDensity(kernel=ker_type.value), {'bandwidth': bandwidths}, cv=loo)\n",
        "  grid.fit(np.array(X)[:, None]);\n",
        "  b_w.value = grid.best_params_['bandwidth']\n",
        "\n",
        "def set_slider1(x):\n",
        "  std = np.sqrt(np.var(X, axis=0))\n",
        "  silverman = ((4/(3* len(np.array(X)[:, None])))*std**5)**(1/5)\n",
        "  b_w.value = silverman\n",
        "\n",
        "def plot_pdf(plot_separate, k_d = None):\n",
        "  global params\n",
        "  global X\n",
        "  if not params:\n",
        "    return\n",
        "\n",
        "  pi1, pi2, pi3, mu1, sig1, mu2, sig2, mu3, sig3 = params\n",
        "  x = np.linspace(np.min(X), np.max(X), 1001)\n",
        "  fig = plt.figure(figsize=(10, 8))\n",
        "  P_sum = np.zeros(x.shape)\n",
        "  for mu, sig, c, pi, i in [[mu1, sig1, 'r', pi1, 1], [mu2, sig2, 'g', pi2, 2], [mu3, sig3, 'b', pi3, 3]]:\n",
        "    P = scipy.stats.norm.pdf(x, mu, sig)\n",
        "    P_sum += P * pi\n",
        "    if plot_separate:\n",
        "      plt.plot(x, P, c, linewidth=2.0, label=\"{}\".format(i), alpha=np.clip(pi, 0.0, 1.0))\n",
        "  \n",
        "  plt.plot(x, P_sum, 'k', linewidth=3.0, label=\"mixture\")\n",
        "  plt.plot(np.array(X), np.full_like(np.array(X), 0.0), '|k', markeredgewidth=1)\n",
        "  plt.title('True pdf / pdf estimate')\n",
        "  plt.xlabel('x')\n",
        "  plt.ylabel('pdf')\n",
        "  plt.legend()\n",
        "  #plt.show()\n",
        "\n",
        "def set_and_plot(pi, mu1, sig1, mu2, sig2, mu3, sig3):\n",
        "  pi1, pi2 = pi; pi2 -= pi1; pi3 = 1.0 - pi2 - pi1;\n",
        "  global params\n",
        "  global X\n",
        "  X = []\n",
        "  params = [pi1, pi2, pi3, mu1, sig1, mu2, sig2, mu3, sig3]\n",
        "  N = 200\n",
        "  for mu, sig, pi in [[mu1, sig1, pi1], [mu2, sig2, pi2], [mu3, sig3, pi3]]:\n",
        "    X = X + np.random.normal(mu, sig, int(N * pi)).tolist()\n",
        "  plot_pdf(True)\n",
        "\n",
        "\n",
        "def ker_plot(b_w, k_t):\n",
        "  kde = KernelDensity(bandwidth=b_w, kernel=k_t)\n",
        "  global X\n",
        "  kde.fit(np.array(X)[:, None])\n",
        "  x_d = np.linspace(np.min(X), np.max(X), 1001)\n",
        "  logprob = kde.score_samples(x_d[:, None])\n",
        "  plot_pdf(False)\n",
        "  plt.fill_between(x_d, np.exp(logprob), alpha=0.5, color='r')\n",
        "\n",
        "tb = widgets.TabBar(['mix distribution', 'find KDE'], location='top')\n",
        "with tb.output_to(0):\n",
        "  words = ['mu_1', 'sigma_1', 'mu_2', 'sigma_2', 'mu_3', 'sigma_3']\n",
        "  mins  = [0.0, 1.0, 0.0, 1.0, 0.0, 1.0]\n",
        "  maxes = [100.0, 10.0, 100.0, 10.0, 100.0, 10.0]\n",
        "  vals  = [10.0, 10.0, 50.0, 10.0, 90.0, 10.0]\n",
        "  sliders = [ipywidgets.FloatSlider(description=w, min=n, max=x, value=v) for w,x,n,v in zip(words, maxes, mins, vals)]\n",
        "  pi_slider = ipywidgets.FloatRangeSlider(value=[0.3, 0.6], min=0.0, max=1.0, description='pi(1,2,3)')\n",
        "  boxes = [ipywidgets.VBox([pi_slider])]\n",
        "  for slider1, slider2 in zip(sliders[::2], sliders[1::2]):\n",
        "    boxes.append(ipywidgets.VBox([slider1, slider2]))\n",
        "  out = ipywidgets.interactive_output(set_and_plot, {\n",
        "    \"pi\": pi_slider,\n",
        "    \"mu1\": sliders[0], \"sig1\": sliders[1],\n",
        "    \"mu2\": sliders[2], \"sig2\": sliders[3],\n",
        "    \"mu3\": sliders[4], \"sig3\": sliders[5]})\n",
        "  display(ipywidgets.HBox(boxes), out)\n",
        "with tb.output_to(1):\n",
        "  btn = ipywidgets.Button(\n",
        "    description='Cross Validation',\n",
        "    disabled=False,\n",
        "    button_style='')\n",
        "  btn1 = ipywidgets.Button(\n",
        "    description='Silverman',\n",
        "    disabled=False,\n",
        "    button_style='')\n",
        "  out = ipywidgets.interactive_output(ker_plot, {\"b_w\": b_w, \"k_t\": ker_type})\n",
        "  display(ipywidgets.HBox([ker_type, ipywidgets.VBox([b_w, ipywidgets.HBox([btn1, btn])])]), out)\n",
        "  btn.on_click(set_slider)\n",
        "  btn1.on_click(set_slider1)"
      ],
      "execution_count": 3,
      "outputs": [
        {
          "output_type": "display_data",
          "data": {
            "text/html": [
              "<link rel=stylesheet type=text/css href='/nbextensions/google.colab/tabbar.css'></link>"
            ],
            "text/plain": [
              "<IPython.core.display.HTML object>"
            ]
          },
          "metadata": {
            "tags": [
              "outputarea_id3"
            ]
          }
        },
        {
          "output_type": "display_data",
          "data": {
            "text/html": [
              "<script src='/nbextensions/google.colab/tabbar_main.min.js'></script>"
            ],
            "text/plain": [
              "<IPython.core.display.HTML object>"
            ]
          },
          "metadata": {
            "tags": [
              "outputarea_id3"
            ]
          }
        },
        {
          "output_type": "display_data",
          "data": {
            "text/html": [
              "<div id=\"id3\"></div>"
            ],
            "text/plain": [
              "<IPython.core.display.HTML object>"
            ]
          },
          "metadata": {
            "tags": [
              "outputarea_id3"
            ]
          }
        },
        {
          "output_type": "display_data",
          "data": {
            "application/javascript": [
              "window[\"a76df93e-186d-11ea-b8eb-0242ac1c0002\"] = colab_lib.createTabBar({\"location\": \"top\", \"elementId\": \"id3\", \"tabNames\": [\"mix distribution\", \"find KDE\"], \"initialSelection\": 0, \"contentBorder\": [\"0px\"], \"contentHeight\": [\"initial\"], \"borderColor\": [\"#a7a7a7\"]});\n",
              "//# sourceURL=js_15b75bb875"
            ],
            "text/plain": [
              "<IPython.core.display.Javascript object>"
            ]
          },
          "metadata": {
            "tags": [
              "outputarea_id3"
            ]
          }
        },
        {
          "output_type": "display_data",
          "data": {
            "application/javascript": [
              "window[\"a76e2e7c-186d-11ea-b8eb-0242ac1c0002\"] = window[\"id3\"].setSelectedTabIndex(0);\n",
              "//# sourceURL=js_aa70c7d75a"
            ],
            "text/plain": [
              "<IPython.core.display.Javascript object>"
            ]
          },
          "metadata": {
            "tags": [
              "outputarea_id3"
            ]
          }
        },
        {
          "output_type": "display_data",
          "data": {
            "application/javascript": [
              "window[\"a76f1422-186d-11ea-b8eb-0242ac1c0002\"] = google.colab.output.getActiveOutputArea();\n",
              "//# sourceURL=js_31bdb4d8c9"
            ],
            "text/plain": [
              "<IPython.core.display.Javascript object>"
            ]
          },
          "metadata": {
            "tags": [
              "id3_content_0",
              "outputarea_id3"
            ]
          }
        },
        {
          "output_type": "display_data",
          "data": {
            "application/javascript": [
              "window[\"a76f4ba4-186d-11ea-b8eb-0242ac1c0002\"] = document.querySelector(\"#id3_content_0\");\n",
              "//# sourceURL=js_ef6d2e9cd1"
            ],
            "text/plain": [
              "<IPython.core.display.Javascript object>"
            ]
          },
          "metadata": {
            "tags": [
              "id3_content_0",
              "outputarea_id3"
            ]
          }
        },
        {
          "output_type": "display_data",
          "data": {
            "application/javascript": [
              "window[\"a76f82e0-186d-11ea-b8eb-0242ac1c0002\"] = google.colab.output.setActiveOutputArea(window[\"a76f4ba4-186d-11ea-b8eb-0242ac1c0002\"]);\n",
              "//# sourceURL=js_581e399e26"
            ],
            "text/plain": [
              "<IPython.core.display.Javascript object>"
            ]
          },
          "metadata": {
            "tags": [
              "id3_content_0",
              "outputarea_id3"
            ]
          }
        },
        {
          "output_type": "display_data",
          "data": {
            "application/javascript": [
              "window[\"a76fb756-186d-11ea-b8eb-0242ac1c0002\"] = window[\"id3\"].setSelectedTabIndex(0);\n",
              "//# sourceURL=js_a99e97dfa9"
            ],
            "text/plain": [
              "<IPython.core.display.Javascript object>"
            ]
          },
          "metadata": {
            "tags": [
              "id3_content_0",
              "outputarea_id3"
            ]
          }
        },
        {
          "output_type": "display_data",
          "data": {
            "application/vnd.jupyter.widget-view+json": {
              "model_id": "19c10f97b2fe4664aa72230d2d0008a3",
              "version_minor": 0,
              "version_major": 2
            },
            "text/plain": [
              "HBox(children=(VBox(children=(FloatRangeSlider(value=(0.3, 0.6), description='pi(1,2,3)', max=1.0),)), VBox(ch…"
            ]
          },
          "metadata": {
            "tags": [
              "id3_content_0",
              "outputarea_id3",
              "user_output"
            ]
          }
        },
        {
          "output_type": "display_data",
          "data": {
            "application/vnd.jupyter.widget-view+json": {
              "model_id": "263981a3cec44c4f86b6ce740ad8279a",
              "version_minor": 0,
              "version_major": 2
            },
            "text/plain": [
              "Output()"
            ]
          },
          "metadata": {
            "tags": [
              "id3_content_0",
              "outputarea_id3",
              "user_output"
            ]
          }
        },
        {
          "output_type": "display_data",
          "data": {
            "application/javascript": [
              "window[\"a7b4d70a-186d-11ea-b8eb-0242ac1c0002\"] = google.colab.output.setActiveOutputArea(window[\"a76f1422-186d-11ea-b8eb-0242ac1c0002\"]);\n",
              "//# sourceURL=js_602b32176d"
            ],
            "text/plain": [
              "<IPython.core.display.Javascript object>"
            ]
          },
          "metadata": {
            "tags": [
              "id3_content_0",
              "outputarea_id3"
            ]
          }
        },
        {
          "output_type": "display_data",
          "data": {
            "application/javascript": [
              "window[\"a7b5f374-186d-11ea-b8eb-0242ac1c0002\"] = google.colab.output.getActiveOutputArea();\n",
              "//# sourceURL=js_94cab4d808"
            ],
            "text/plain": [
              "<IPython.core.display.Javascript object>"
            ]
          },
          "metadata": {
            "tags": [
              "id3_content_1",
              "outputarea_id3"
            ]
          }
        },
        {
          "output_type": "display_data",
          "data": {
            "application/javascript": [
              "window[\"a7b63848-186d-11ea-b8eb-0242ac1c0002\"] = document.querySelector(\"#id3_content_1\");\n",
              "//# sourceURL=js_32e0ad4e25"
            ],
            "text/plain": [
              "<IPython.core.display.Javascript object>"
            ]
          },
          "metadata": {
            "tags": [
              "id3_content_1",
              "outputarea_id3"
            ]
          }
        },
        {
          "output_type": "display_data",
          "data": {
            "application/javascript": [
              "window[\"a7b674b6-186d-11ea-b8eb-0242ac1c0002\"] = google.colab.output.setActiveOutputArea(window[\"a7b63848-186d-11ea-b8eb-0242ac1c0002\"]);\n",
              "//# sourceURL=js_12536fac8c"
            ],
            "text/plain": [
              "<IPython.core.display.Javascript object>"
            ]
          },
          "metadata": {
            "tags": [
              "id3_content_1",
              "outputarea_id3"
            ]
          }
        },
        {
          "output_type": "display_data",
          "data": {
            "application/javascript": [
              "window[\"a7b6ade6-186d-11ea-b8eb-0242ac1c0002\"] = window[\"id3\"].setSelectedTabIndex(1);\n",
              "//# sourceURL=js_87d5db2120"
            ],
            "text/plain": [
              "<IPython.core.display.Javascript object>"
            ]
          },
          "metadata": {
            "tags": [
              "id3_content_1",
              "outputarea_id3"
            ]
          }
        },
        {
          "output_type": "display_data",
          "data": {
            "application/vnd.jupyter.widget-view+json": {
              "model_id": "9bef8eaaee58400c9585d7c9d633b733",
              "version_minor": 0,
              "version_major": 2
            },
            "text/plain": [
              "HBox(children=(Dropdown(description='Kernel:', options=('gaussian', 'tophat', 'epanechnikov', 'exponential', '…"
            ]
          },
          "metadata": {
            "tags": [
              "id3_content_1",
              "outputarea_id3",
              "user_output"
            ]
          }
        },
        {
          "output_type": "display_data",
          "data": {
            "application/vnd.jupyter.widget-view+json": {
              "model_id": "e72a00808c094dd2920acbc2a581610c",
              "version_minor": 0,
              "version_major": 2
            },
            "text/plain": [
              "Output()"
            ]
          },
          "metadata": {
            "tags": [
              "id3_content_1",
              "outputarea_id3",
              "user_output"
            ]
          }
        },
        {
          "output_type": "display_data",
          "data": {
            "application/javascript": [
              "window[\"a7edda96-186d-11ea-b8eb-0242ac1c0002\"] = google.colab.output.setActiveOutputArea(window[\"a7b5f374-186d-11ea-b8eb-0242ac1c0002\"]);\n",
              "//# sourceURL=js_00087ac360"
            ],
            "text/plain": [
              "<IPython.core.display.Javascript object>"
            ]
          },
          "metadata": {
            "tags": [
              "id3_content_1",
              "outputarea_id3"
            ]
          }
        }
      ]
    },
    {
      "cell_type": "markdown",
      "metadata": {
        "id": "K4ZOQYKOXFct",
        "colab_type": "text"
      },
      "source": [
        "#Interactive 2D example (sample points)"
      ]
    },
    {
      "cell_type": "code",
      "metadata": {
        "id": "C_naQsfwXL8J",
        "colab_type": "code",
        "colab": {}
      },
      "source": [
        "from sklearn.neighbors import KernelDensity\n",
        "# instantiate and fit the KDE model\n",
        "kde = KernelDensity()\n",
        "\n",
        "def fit_distribution(X, bandwidth, ker_name, metric_name):\n",
        "  params = {'bandwidth': bandwidth, 'kernel': ker_name, 'metric': metric_name}\n",
        "  kde.set_params(**params)\n",
        "  kde.fit(X)\n",
        "\n",
        "def evaluate_distribution(X):\n",
        "  logprob = kde.score_samples(X)\n",
        "  return np.exp(logprob)"
      ],
      "execution_count": 0,
      "outputs": []
    },
    {
      "cell_type": "code",
      "metadata": {
        "id": "FekYs8I_XUXM",
        "colab_type": "code",
        "cellView": "form",
        "outputId": "66d278b7-1739-4c7d-bfc7-51e3b62c4fc8",
        "colab": {
          "base_uri": "https://localhost:8080/",
          "height": 637
        }
      },
      "source": [
        "#@title Interactive 2D KDE\n",
        "import numpy as np\n",
        "import matplotlib.pyplot as plt\n",
        "from matplotlib.colors import ListedColormap\n",
        "from matplotlib import cm\n",
        "import seaborn as sns\n",
        "        \n",
        "def plot_clusters(x_, y_, z_):\n",
        "  fig = plt.figure(figsize=(10,10))\n",
        "  ax = fig.gca()\n",
        "  #ax = sns.kdeplot(X[:,0], X[:,1], cmap=\"Blues\", shade=True, shade_lowest=False)\n",
        "  sns.set()\n",
        "  ax.contourf(x_, y_, z_, alpha=0.5, cmap=\"Blues\")\n",
        "  ax.tick_params(axis=\"y\",direction=\"in\", pad=-60)\n",
        "  ax.tick_params(axis=\"x\",direction=\"in\", pad=-30)\n",
        "  ax.set_xticks(np.arange(-.75, 1, .25))\n",
        "  ax.set_yticks(np.arange(-.75, 1, .25))\n",
        "  ax.set_xlim([-1, 1])\n",
        "  ax.set_ylim([-1, 1])\n",
        "\n",
        "  plt.close(fig)\n",
        "  return fig\n",
        "\n",
        "import base64\n",
        "import io\n",
        "\n",
        "def figure_to_base64(fig):\n",
        "  buf = io.BytesIO()\n",
        "  fig.savefig(buf, format='png', bbox_inches='tight', pad_inches=0);\n",
        "  image_base64 = base64.b64encode(buf.getvalue()).decode('utf-8').replace('\\n', '')\n",
        "  buf.close()\n",
        "  return image_base64\n",
        "\n",
        "\n",
        "\n",
        "import json\n",
        "from IPython.display import display, clear_output\n",
        "\n",
        "def invoke(pts, n, ker_name, metric_name):\n",
        "  data = np.array(pts).reshape((-1, 2))\n",
        "  X = data / 300.0 - 1.0\n",
        "  X[:, 1] *= -1.0\n",
        "  fit_distribution(X, float(n)/1000.0, ker_name, metric_name)\n",
        "  x_ = np.linspace(-1.0, +1.0, num=300)\n",
        "  y_ = np.linspace(-1.0, +1.0, num=300)\n",
        "  xx, yy = np.meshgrid(x_, y_)\n",
        "  x_vec = np.transpose(np.vstack([xx.ravel(), yy.ravel()]))\n",
        "  G  = evaluate_distribution(x_vec).reshape((x_.shape[0],y_.shape[0]))\n",
        "  figr = plot_clusters(x_, y_, G)\n",
        "  image_base64 = figure_to_base64(figr)\n",
        "\n",
        "  return IPython.display.JSON({'image': image_base64, \n",
        "                               'g_x': x_.tolist(), 'g_y': y_.tolist(), 'g_z': G.tolist(),\n",
        "                               's_x': X[:, 0].tolist(), 's_y': X[:, 1].tolist(), 's_z': [0]*len(X)})\n",
        "\n",
        "\n",
        "import IPython\n",
        "from google.colab import output\n",
        "\n",
        "main_str = '''\n",
        "  <script src=\"https://cdn.plot.ly/plotly-latest.min.js\"></script> \n",
        "  <script type=\"application/javascript\">\n",
        "  \n",
        "    var active_pt = null;\n",
        "    var all_pts = [];\n",
        "    var classAbtn = [650, 100];\n",
        "    var classBbtn = [650, 200];\n",
        "    var ptR = 10.0;\n",
        "    var params = null;\n",
        "    var debug_txt = \"\";\n",
        "    var bg_image = new Image();\n",
        "\n",
        "    function is_close(pt1, pt2) {\n",
        "      return   (pt1[0] - pt2[0])*(pt1[0] - pt2[0])\n",
        "            +  (pt1[1] - pt2[1])*(pt1[1] - pt2[1])\n",
        "            <= ptR*ptR;\n",
        "    }\n",
        "  \n",
        "    function circ(ctx, pos) {\n",
        "      ctx.beginPath();\n",
        "      ctx.arc(pos[0], pos[1], ptR, 0.0, 2.0 * Math.PI, 0);\n",
        "      ctx.fillStyle = 'rgba(255, 128, 0, 0.5)';\n",
        "      ctx.fill();\n",
        "    }\n",
        "    \n",
        "    \n",
        "    function draw() {\n",
        "      var canvas = document.getElementById('canvas');\n",
        "      if (canvas.getContext) {\n",
        "        var ctx = canvas.getContext('2d');\n",
        "        \n",
        "        ctx.clearRect(0, 0, canvas.width, canvas.height); // cleanup before start\n",
        "        ctx.drawImage(bg_image, 0, 0, 600, 600);\n",
        "        ctx.strokeRect(0, 0, 600, 600); // field\n",
        "        \n",
        "        ctx.font = '20px serif';\n",
        "        ctx.fillStyle = 'black';\n",
        "        ctx.fillText(debug_txt, 200, 200);\n",
        "        \n",
        "        if (active_pt) {\n",
        "          circ(ctx, [active_pt[0], active_pt[1]]);\n",
        "        }\n",
        "        all_pts.forEach(function (item, index) {\n",
        "          circ(ctx, [item[0], item[1]]);\n",
        "        });\n",
        "\n",
        "      }\n",
        "    }\n",
        "    \n",
        "    var timer\n",
        "\n",
        "    function get_state() {\n",
        "      var rates = document.getElementsByName('rate');\n",
        "      for(var i = 0; i < rates.length; i++)\n",
        "        if(rates[i].checked)\n",
        "          return rates[i].value;\n",
        "      return \"none\";\n",
        "    }\n",
        "\n",
        "    \n",
        "    function mdown_handle(evt) {\n",
        "      evt.stopPropagation();\n",
        "      x = evt.offsetX;\n",
        "      y = evt.offsetY;\n",
        "      state = get_state();\n",
        "      if (state == \"add\") {\n",
        "        if (x < 600)\n",
        "            all_pts.push([x, y]);\n",
        "        return;\n",
        "      }\n",
        "\n",
        "      idx = -1;\n",
        "      all_pts.forEach(function (item, index) {\n",
        "        if (is_close([x,y], [item[0], item[1]])) {\n",
        "          idx = index;\n",
        "        }\n",
        "      });\n",
        "      if (idx <= -1)\n",
        "          return;\n",
        "      if (state == \"move\") {\n",
        "        active_pt = all_pts[idx];\n",
        "        all_pts.splice(idx, 1);\n",
        "      }\n",
        "      if (state == \"del\")\n",
        "          all_pts.splice(idx, 1);\n",
        "    }\n",
        "    \n",
        "    function mmove_handle(evt) {\n",
        "      evt.stopPropagation();\n",
        "      if (get_state() != \"move\")\n",
        "          return;\n",
        "      x = evt.offsetX;\n",
        "      y = evt.offsetY;\n",
        "      if (active_pt) {\n",
        "        active_pt[0] = x;\n",
        "        active_pt[1] = y;\n",
        "      }\n",
        "    }\n",
        "    \n",
        "    function mup_handle(evt) {\n",
        "      evt.stopPropagation();\n",
        "      x = evt.offsetX;\n",
        "      y = evt.offsetY;\n",
        "      if (x >= 600) {\n",
        "        active_pt = null;\n",
        "      }\n",
        "      if (active_pt) {\n",
        "        all_pts.push(active_pt);\n",
        "        active_pt = null;\n",
        "      }\n",
        "    }\n",
        "    \n",
        "    function clear_field() {\n",
        "      active_pt = null;\n",
        "      all_pts = [];\n",
        "    }\n",
        "\n",
        "\n",
        "   function plot_3d(g_x, g_y, g_z)\n",
        "   {\n",
        "     cell_for_plot = document.getElementById('for_plotly_plot');\n",
        "     //Plotly.deleteTraces(cell_for_plot, [0, 1]);\n",
        "     var data = [{\n",
        "           x: g_x,\n",
        "           y: g_y,\n",
        "           z: g_z,\n",
        "           type: 'surface',\n",
        "           opacity: 0.9,\n",
        "           showscale: false,\n",
        "           colorscale: \"Viridis\"\n",
        "        }];\n",
        "  \n",
        "     var layout = {\n",
        "          title: 'pdf estimate',\n",
        "          autosize: false,\n",
        "          width: 600,\n",
        "          height: 600,\n",
        "          showlegend: false,\n",
        "          scene: {\n",
        "            camera: {\n",
        "              up: {x: 0, y: 1, z: 0},\n",
        "              center: {x: 0, y: 0, z: 0},\n",
        "              eye: {x: 0.0, y: -1.0, z: 1.4}\n",
        "            }\n",
        "          }\n",
        "        };\n",
        "     Plotly.newPlot(cell_for_plot, data, layout);\n",
        "   }\n",
        "\n",
        "   function plot_scatter(s_x, s_y, s_z)\n",
        "   {\n",
        "          \n",
        "     cell_for_plot = document.getElementById('for_plotly_plot');\n",
        "     var data = [{\n",
        "           x: s_x,\n",
        "           y: s_y,\n",
        "           z: s_z,\n",
        "           type: 'scatter3d',\n",
        "           mode: 'markers',\n",
        "           marker: {\n",
        "             size: 4,\n",
        "             colorscale: \"Viridis\",\n",
        "             line: {\n",
        "               width: 2,\n",
        "               color: 'rgba(0, 0, 0, 0.5)'\n",
        "             }\n",
        "           }\n",
        "        }];\n",
        "    Plotly.plot(cell_for_plot, data, {});\n",
        "   }\n",
        "\n",
        "\n",
        "    var cur_depth = 100;\n",
        "\n",
        "    async function calculate() {\n",
        "      if (!all_pts)\n",
        "        return;\n",
        "      var merged = [].concat.apply([], all_pts);\n",
        "      var e = document.getElementById(\"select_kernel\");\n",
        "      var ker_name = e.options[e.selectedIndex].value;\n",
        "      var e1 = document.getElementById(\"select_metric\");\n",
        "      var metric_name = e1.options[e1.selectedIndex].value;\n",
        "      const result = await google.colab.kernel.invokeFunction('notebook.InvSVM', [merged, cur_depth, ker_name, metric_name], {});\n",
        "      params = result.data['application/json'];\n",
        "            \n",
        "      bg_image.src = 'data:image/  png;base64,' + params.image;\n",
        "      cell_for_plot = document.getElementById('for_plotly_plot');\n",
        "      \n",
        "      plot_3d(params.g_x, params.g_y, params.g_z);\n",
        "      plot_scatter(params.s_x, params.s_y, params.s_z);\n",
        "      \n",
        "    }\n",
        "\n",
        "   function h_change(x) {\n",
        "    el = document.getElementById(\"slider_val\");\n",
        "    cur_depth = x;\n",
        "    el.innerHTML = x;\n",
        "  }\n",
        "\n",
        " </script>\n",
        "\n",
        "<div id=\"everything\" style=\"height:600px;\">\n",
        "<div id=\"for_plotly_plot\" style=\"position:absolute; top:0px; left:0px; height:600px; width:600px;\">\n",
        "</div>\n",
        "<div id=\"custom_controls\" style=\"position:absolute; top:0px; left:600px;\">\n",
        "  <canvas id=\"canvas\" width=\"800\" height=\"600\" \n",
        "    onmousedown=\"mdown_handle(event)\"\n",
        "    onmousemove=\"mmove_handle(event)\"\n",
        "    onmouseup=\"mup_handle(event)\"></canvas>\n",
        "  <div style=\"position:absolute; top:200px; left:625px;\">\n",
        "   <div style=\"border-style: solid;\">\n",
        "    <input type=\"radio\" id=\"r1\" name=\"rate\" value=\"add\" checked=\"checked\"> Add Feature\n",
        "    <br>\n",
        "    <input type=\"radio\" id=\"r2\" name=\"rate\" value=\"move\"> Move Features\n",
        "    <br>\n",
        "    <input type=\"radio\" id=\"r3\" name=\"rate\" value=\"del\"> Delete Feature\n",
        "    <br>\n",
        "    <button type=\"button\" onclick=\"clear_field();\">\n",
        "      Clear\n",
        "    </button>\n",
        "   </div>\n",
        "   <br><br>Bandwidth x 1000:<br>\n",
        "    <input type=\"range\" min=\"1\" max=\"200\" value=\"100\" oninput=\"h_change(this.value)\">\n",
        "    <br><div id=\"slider_val\">100</div>\n",
        "   <br>Kernel:<br>\n",
        "   <select id=\"select_kernel\">\n",
        "       <option value=\"gaussian\">gaussian</option>\n",
        "       <option value=\"tophat\">tophat</option>\n",
        "       <option value=\"epanechnikov\">epanechnikov</option>\n",
        "       <option value=\"exponential\">exponential</option>\n",
        "       <option value=\"linear\">linear</option>\n",
        "       <option value=\"cosine\">cosine</option>\n",
        "   </select>\n",
        "   <br>\n",
        "   Metric:\n",
        "   <br>\n",
        "   <select id=\"select_metric\">\n",
        "       <option value=\"euclidean\">euclidean</option>\n",
        "       <option value=\"l2\">l2</option>\n",
        "       <option value=\"minkowski\">minkowski</option>\n",
        "       <option value=\"p\">p</option>\n",
        "       <option value=\"manhattan\">manhattan</option>\n",
        "       <option value=\"cityblock\">cityblock</option>\n",
        "       <option value=\"l1\">l1</option>\n",
        "       <option value=\"chebyshev\">chebyshev</option>\n",
        "       <option value=\"infinity\">infinity</option>\n",
        "   </select>\n",
        "   <br><br>\n",
        "    <button type=\"button\" onclick=\"calculate();\">\n",
        "      KDE\n",
        "    </button>\n",
        "  </div>\n",
        "</div>\n",
        "<div>\n",
        "  \n",
        "<script>\n",
        "function init()\n",
        "{\n",
        "  timer = setInterval(draw, 10);\n",
        "}\n",
        "\n",
        "init();\n",
        "</script>\n",
        "'''\n",
        "\n",
        "display(IPython.display.HTML(main_str))\n",
        "output.register_callback('notebook.InvSVM', invoke)"
      ],
      "execution_count": 0,
      "outputs": [
        {
          "output_type": "display_data",
          "data": {
            "text/html": [
              "\n",
              "  <script src=\"https://cdn.plot.ly/plotly-latest.min.js\"></script> \n",
              "  <script type=\"application/javascript\">\n",
              "  \n",
              "    var active_pt = null;\n",
              "    var all_pts = [];\n",
              "    var classAbtn = [650, 100];\n",
              "    var classBbtn = [650, 200];\n",
              "    var ptR = 10.0;\n",
              "    var params = null;\n",
              "    var debug_txt = \"\";\n",
              "    var bg_image = new Image();\n",
              "\n",
              "    function is_close(pt1, pt2) {\n",
              "      return   (pt1[0] - pt2[0])*(pt1[0] - pt2[0])\n",
              "            +  (pt1[1] - pt2[1])*(pt1[1] - pt2[1])\n",
              "            <= ptR*ptR;\n",
              "    }\n",
              "  \n",
              "    function circ(ctx, pos) {\n",
              "      ctx.beginPath();\n",
              "      ctx.arc(pos[0], pos[1], ptR, 0.0, 2.0 * Math.PI, 0);\n",
              "      ctx.fillStyle = 'rgba(255, 128, 0, 0.5)';\n",
              "      ctx.fill();\n",
              "    }\n",
              "    \n",
              "    \n",
              "    function draw() {\n",
              "      var canvas = document.getElementById('canvas');\n",
              "      if (canvas.getContext) {\n",
              "        var ctx = canvas.getContext('2d');\n",
              "        \n",
              "        ctx.clearRect(0, 0, canvas.width, canvas.height); // cleanup before start\n",
              "        ctx.drawImage(bg_image, 0, 0, 600, 600);\n",
              "        ctx.strokeRect(0, 0, 600, 600); // field\n",
              "        \n",
              "        ctx.font = '20px serif';\n",
              "        ctx.fillStyle = 'black';\n",
              "        ctx.fillText(debug_txt, 200, 200);\n",
              "        \n",
              "        if (active_pt) {\n",
              "          circ(ctx, [active_pt[0], active_pt[1]]);\n",
              "        }\n",
              "        all_pts.forEach(function (item, index) {\n",
              "          circ(ctx, [item[0], item[1]]);\n",
              "        });\n",
              "\n",
              "      }\n",
              "    }\n",
              "    \n",
              "    var timer\n",
              "\n",
              "    function get_state() {\n",
              "      var rates = document.getElementsByName('rate');\n",
              "      for(var i = 0; i < rates.length; i++)\n",
              "        if(rates[i].checked)\n",
              "          return rates[i].value;\n",
              "      return \"none\";\n",
              "    }\n",
              "\n",
              "    \n",
              "    function mdown_handle(evt) {\n",
              "      evt.stopPropagation();\n",
              "      x = evt.offsetX;\n",
              "      y = evt.offsetY;\n",
              "      state = get_state();\n",
              "      if (state == \"add\") {\n",
              "        if (x < 600)\n",
              "            all_pts.push([x, y]);\n",
              "        return;\n",
              "      }\n",
              "\n",
              "      idx = -1;\n",
              "      all_pts.forEach(function (item, index) {\n",
              "        if (is_close([x,y], [item[0], item[1]])) {\n",
              "          idx = index;\n",
              "        }\n",
              "      });\n",
              "      if (idx <= -1)\n",
              "          return;\n",
              "      if (state == \"move\") {\n",
              "        active_pt = all_pts[idx];\n",
              "        all_pts.splice(idx, 1);\n",
              "      }\n",
              "      if (state == \"del\")\n",
              "          all_pts.splice(idx, 1);\n",
              "    }\n",
              "    \n",
              "    function mmove_handle(evt) {\n",
              "      evt.stopPropagation();\n",
              "      if (get_state() != \"move\")\n",
              "          return;\n",
              "      x = evt.offsetX;\n",
              "      y = evt.offsetY;\n",
              "      if (active_pt) {\n",
              "        active_pt[0] = x;\n",
              "        active_pt[1] = y;\n",
              "      }\n",
              "    }\n",
              "    \n",
              "    function mup_handle(evt) {\n",
              "      evt.stopPropagation();\n",
              "      x = evt.offsetX;\n",
              "      y = evt.offsetY;\n",
              "      if (x >= 600) {\n",
              "        active_pt = null;\n",
              "      }\n",
              "      if (active_pt) {\n",
              "        all_pts.push(active_pt);\n",
              "        active_pt = null;\n",
              "      }\n",
              "    }\n",
              "    \n",
              "    function clear_field() {\n",
              "      active_pt = null;\n",
              "      all_pts = [];\n",
              "    }\n",
              "\n",
              "\n",
              "   function plot_3d(g_x, g_y, g_z)\n",
              "   {\n",
              "     cell_for_plot = document.getElementById('for_plotly_plot');\n",
              "     //Plotly.deleteTraces(cell_for_plot, [0, 1]);\n",
              "     var data = [{\n",
              "           x: g_x,\n",
              "           y: g_y,\n",
              "           z: g_z,\n",
              "           type: 'surface',\n",
              "           opacity: 0.9,\n",
              "           showscale: false,\n",
              "           colorscale: \"Viridis\"\n",
              "        }];\n",
              "  \n",
              "     var layout = {\n",
              "          title: 'pdf estimate',\n",
              "          autosize: false,\n",
              "          width: 600,\n",
              "          height: 600,\n",
              "          showlegend: false,\n",
              "          scene: {\n",
              "            camera: {\n",
              "              up: {x: 0, y: 1, z: 0},\n",
              "              center: {x: 0, y: 0, z: 0},\n",
              "              eye: {x: 0.0, y: -1.0, z: 1.4}\n",
              "            }\n",
              "          }\n",
              "        };\n",
              "     Plotly.newPlot(cell_for_plot, data, layout);\n",
              "   }\n",
              "\n",
              "   function plot_scatter(s_x, s_y, s_z)\n",
              "   {\n",
              "          \n",
              "     cell_for_plot = document.getElementById('for_plotly_plot');\n",
              "     var data = [{\n",
              "           x: s_x,\n",
              "           y: s_y,\n",
              "           z: s_z,\n",
              "           type: 'scatter3d',\n",
              "           mode: 'markers',\n",
              "           marker: {\n",
              "             size: 4,\n",
              "             colorscale: \"Viridis\",\n",
              "             line: {\n",
              "               width: 2,\n",
              "               color: 'rgba(0, 0, 0, 0.5)'\n",
              "             }\n",
              "           }\n",
              "        }];\n",
              "    Plotly.plot(cell_for_plot, data, {});\n",
              "   }\n",
              "\n",
              "\n",
              "    var cur_depth = 100;\n",
              "\n",
              "    async function calculate() {\n",
              "      if (!all_pts)\n",
              "        return;\n",
              "      var merged = [].concat.apply([], all_pts);\n",
              "      var e = document.getElementById(\"select_kernel\");\n",
              "      var ker_name = e.options[e.selectedIndex].value;\n",
              "      var e1 = document.getElementById(\"select_metric\");\n",
              "      var metric_name = e1.options[e1.selectedIndex].value;\n",
              "      const result = await google.colab.kernel.invokeFunction('notebook.InvSVM', [merged, cur_depth, ker_name, metric_name], {});\n",
              "      params = result.data['application/json'];\n",
              "            \n",
              "      bg_image.src = 'data:image/  png;base64,' + params.image;\n",
              "      cell_for_plot = document.getElementById('for_plotly_plot');\n",
              "      \n",
              "      plot_3d(params.g_x, params.g_y, params.g_z);\n",
              "      plot_scatter(params.s_x, params.s_y, params.s_z);\n",
              "      \n",
              "    }\n",
              "\n",
              "   function h_change(x) {\n",
              "    el = document.getElementById(\"slider_val\");\n",
              "    cur_depth = x;\n",
              "    el.innerHTML = x;\n",
              "  }\n",
              "\n",
              " </script>\n",
              "\n",
              "<div id=\"everything\" style=\"height:600px;\">\n",
              "<div id=\"for_plotly_plot\" style=\"position:absolute; top:0px; left:0px; height:600px; width:600px;\">\n",
              "</div>\n",
              "<div id=\"custom_controls\" style=\"position:absolute; top:0px; left:600px;\">\n",
              "  <canvas id=\"canvas\" width=\"800\" height=\"600\" \n",
              "    onmousedown=\"mdown_handle(event)\"\n",
              "    onmousemove=\"mmove_handle(event)\"\n",
              "    onmouseup=\"mup_handle(event)\"></canvas>\n",
              "  <div style=\"position:absolute; top:200px; left:625px;\">\n",
              "   <div style=\"border-style: solid;\">\n",
              "    <input type=\"radio\" id=\"r1\" name=\"rate\" value=\"add\" checked=\"checked\"> Add Feature\n",
              "    <br>\n",
              "    <input type=\"radio\" id=\"r2\" name=\"rate\" value=\"move\"> Move Features\n",
              "    <br>\n",
              "    <input type=\"radio\" id=\"r3\" name=\"rate\" value=\"del\"> Delete Feature\n",
              "    <br>\n",
              "    <button type=\"button\" onclick=\"clear_field();\">\n",
              "      Clear\n",
              "    </button>\n",
              "   </div>\n",
              "   <br><br>Bandwidth x 1000:<br>\n",
              "    <input type=\"range\" min=\"1\" max=\"200\" value=\"100\" oninput=\"h_change(this.value)\">\n",
              "    <br><div id=\"slider_val\">100</div>\n",
              "   <br>Kernel:<br>\n",
              "   <select id=\"select_kernel\">\n",
              "       <option value=\"gaussian\">gaussian</option>\n",
              "       <option value=\"tophat\">tophat</option>\n",
              "       <option value=\"epanechnikov\">epanechnikov</option>\n",
              "       <option value=\"exponential\">exponential</option>\n",
              "       <option value=\"linear\">linear</option>\n",
              "       <option value=\"cosine\">cosine</option>\n",
              "   </select>\n",
              "   <br>\n",
              "   Metric:\n",
              "   <br>\n",
              "   <select id=\"select_metric\">\n",
              "       <option value=\"euclidean\">euclidean</option>\n",
              "       <option value=\"l2\">l2</option>\n",
              "       <option value=\"minkowski\">minkowski</option>\n",
              "       <option value=\"p\">p</option>\n",
              "       <option value=\"manhattan\">manhattan</option>\n",
              "       <option value=\"cityblock\">cityblock</option>\n",
              "       <option value=\"l1\">l1</option>\n",
              "       <option value=\"chebyshev\">chebyshev</option>\n",
              "       <option value=\"infinity\">infinity</option>\n",
              "   </select>\n",
              "   <br><br>\n",
              "    <button type=\"button\" onclick=\"calculate();\">\n",
              "      KDE\n",
              "    </button>\n",
              "  </div>\n",
              "</div>\n",
              "<div>\n",
              "  \n",
              "<script>\n",
              "function init()\n",
              "{\n",
              "  timer = setInterval(draw, 10);\n",
              "}\n",
              "\n",
              "init();\n",
              "</script>\n"
            ],
            "text/plain": [
              "<IPython.core.display.HTML object>"
            ]
          },
          "metadata": {
            "tags": []
          }
        }
      ]
    },
    {
      "cell_type": "markdown",
      "metadata": {
        "id": "_FQr-h66b1Rc",
        "colab_type": "text"
      },
      "source": [
        "# KDE as Mixture Model"
      ]
    },
    {
      "cell_type": "markdown",
      "metadata": {
        "id": "SLNAG4SBb6l2",
        "colab_type": "text"
      },
      "source": [
        "We see that KDE reminds MM taken to the extreme: the number of components we throw into the mix equals the number of points.\n",
        "\n",
        "<br>\n",
        "\n",
        "![](https://raw.githubusercontent.com/fbeilstein/machine_learning/master/lecture_13/mix.png) \n",
        "\n",
        "<br>\n",
        "\n",
        "If the number of point is huge the \"shot noise\" from the individual points becomes negligible and the overall underlying distibution hopefully emerges."
      ]
    },
    {
      "cell_type": "markdown",
      "metadata": {
        "id": "g0l9p82WsLpQ",
        "colab_type": "text"
      },
      "source": [
        "#Blur analogy"
      ]
    },
    {
      "cell_type": "markdown",
      "metadata": {
        "id": "NluhuiqvsOgO",
        "colab_type": "text"
      },
      "source": [
        "We have seen that histograms may be misleading. Also they are \"grainy\" as they discretize (sample) continuous data. Pdf estimate could be kept smooth by using gaussian KDE.\n",
        "\n",
        "Idea similar to gaussian KDE is involved in Gaussian smoothing of images.\n",
        "In image processing, a Gaussian blur (also known as Gaussian smoothing) is the result of blurring an image by a Gaussian function. It is a widely used effect in graphics software, typically to reduce image noise and reduce detail. A Gaussian blur effect is typically generated by convolving an image with a kernel of Gaussian values. \n",
        "\n",
        "<br>\n",
        "\n",
        "![](https://raw.githubusercontent.com/fbeilstein/machine_learning/master/lecture_13/blur.png) \n",
        "\n",
        "<br>\n",
        "\n",
        "Let's first sample image (keeping $1$ pixel out of $10$ along each dimension). What we get is an analog of a histogram. If we perform a Gaussian blur afterwards we regain some of the smootheness.\n",
        "\n",
        "<br>\n",
        "\n",
        "![](https://raw.githubusercontent.com/fbeilstein/machine_learning/master/lecture_13/lena_1.png) \n",
        "\n",
        "<br>"
      ]
    },
    {
      "cell_type": "markdown",
      "metadata": {
        "id": "KiZoyJ00LTKH",
        "colab_type": "text"
      },
      "source": [
        "#Algorithmic nuances"
      ]
    },
    {
      "cell_type": "markdown",
      "metadata": {
        "id": "3VerGR5gIKqo",
        "colab_type": "text"
      },
      "source": [
        "There are several options available for computing kernel density estimates in Python. The question of the optimal KDE implementation for any situation, however, is not entirely straightforward, and depends a lot on what your particular goals are. Here are the four KDE implementations\n",
        "\n",
        "* In `SciPy`: `gaussian_kde`;\n",
        "* In `Statsmodels`: `KDEUnivariate` and `KDEMultivariate`;\n",
        "* In `Scikit-learn`: `KernelDensity`;\n",
        "* In `KDEpy`: `NaiveKDE`, `TreeKDE` and `FFTKDE`. \n",
        "\n",
        "Algorithmically KDE could be implemented via FFT (**F**ast **F**ourier **T**ransform) or k-d tree datastructure. Algorithms performance depends on \n",
        "* the number of points;\n",
        "* kernel;\n",
        "* bandwidth;\n",
        "* tolerance you aim to achieve. \n",
        "\n",
        "Please refer to this [overview article](https://jakevdp.github.io/blog/2013/12/01/kernel-density-estimation/) anf this [comparison article](https://kdepy.readthedocs.io/en/stable/comparison.html) for details.\n",
        "\n",
        "Generally `KernelDensity` of `Scikit-learn` is usually considered a good overall option that I use in this lecture. "
      ]
    },
    {
      "cell_type": "markdown",
      "metadata": {
        "id": "Im1uI0JtK-WE",
        "colab_type": "text"
      },
      "source": [
        "#Example: KDE on a Sphere"
      ]
    },
    {
      "cell_type": "markdown",
      "metadata": {
        "id": "T9vRb2sc9XHB",
        "colab_type": "text"
      },
      "source": [
        "Perhaps the most common use of KDE is in graphically representing distributions of points. For example, in the `Seaborn visualization library` KDE is built in and automatically used to help visualize points in one and two dimensions.\n",
        "Here we will look at a slightly more sophisticated use of KDE for visualization of distributions. We will make use of some geographic data that can be loaded with `ScikitLearn`: the geographic distributions of recorded observations of two South American mammals, *Bradypus variegatus* (the brown-throated sloth) and *Microryzomys minutus* (the forest small rice rat).\n",
        "\n",
        "<br>\n",
        "\n",
        "![](https://raw.githubusercontent.com/fbeilstein/machine_learning/master/lecture_13/anim.png) \n",
        "\n"
      ]
    },
    {
      "cell_type": "code",
      "metadata": {
        "id": "-k347bdQU5zu",
        "colab_type": "code",
        "outputId": "3126c0c2-7834-4731-8005-32deece4a8fa",
        "colab": {
          "base_uri": "https://localhost:8080/",
          "height": 34
        }
      },
      "source": [
        "import numpy as np\n",
        "\n",
        "!sudo apt-get install libgeos-dev > /dev/null\n",
        "!sudo pip3 install -U git+https://github.com/matplotlib/basemap.git > /dev/null\n",
        "from sklearn.datasets import fetch_species_distributions\n",
        "data = fetch_species_distributions();\n",
        "# Get matrices/arrays of species IDs and locations\n",
        "latlon = np.vstack([data.train['dd lat'], data.train['dd long']]).T\n",
        "species = np.array([d.decode('ascii').startswith('micro') for d in data.train['species']], dtype='int')"
      ],
      "execution_count": 0,
      "outputs": [
        {
          "output_type": "stream",
          "text": [
            "  Running command git clone -q https://github.com/matplotlib/basemap.git /tmp/pip-req-build-dy6g376t\n"
          ],
          "name": "stdout"
        }
      ]
    },
    {
      "cell_type": "code",
      "metadata": {
        "id": "ht6ErJtEUd7W",
        "colab_type": "code",
        "outputId": "cacf4e45-2b21-4498-e72f-4369b0b18145",
        "colab": {
          "base_uri": "https://localhost:8080/",
          "height": 260
        }
      },
      "source": [
        "from mpl_toolkits.basemap import Basemap\n",
        "from sklearn.datasets.species_distributions import construct_grids\n",
        "xgrid, ygrid = construct_grids(data)\n",
        "\n",
        "# plot coastlines with Basemap\n",
        "m = Basemap(projection='cyl', resolution='c', llcrnrlat=ygrid.min(), urcrnrlat=ygrid.max(), llcrnrlon=xgrid.min(), urcrnrlon=xgrid.max())\n",
        "m.drawmapboundary(fill_color='#DDEEFF')\n",
        "m.fillcontinents(color='#FFEEDD')\n",
        "m.drawcoastlines(color='gray', zorder=2)\n",
        "m.drawcountries(color='gray', zorder=2)\n",
        "\n",
        "# plot locations\n",
        "m.scatter(latlon[:, 1], latlon[:, 0], zorder=3, c=species, cmap='rainbow', latlon=True);"
      ],
      "execution_count": 0,
      "outputs": [
        {
          "output_type": "display_data",
          "data": {
            "image/png": "[encoded data removed]",
            "text/plain": [
              "<Figure size 432x288 with 1 Axes>"
            ]
          },
          "metadata": {
            "tags": []
          }
        }
      ]
    },
    {
      "cell_type": "markdown",
      "metadata": {
        "id": "FtUmpFHM8iyo",
        "colab_type": "text"
      },
      "source": [
        "Unfortunately, this doesn’t give a very good idea of the density of the species, because points in the species range may overlap one another. You may not realize it by looking at this plot, but there are over $1600$ points shown here!\n",
        "Let’s use kernel density estimation to show this distribution in a more interpretable way: as a smooth indication of density on the map. Because the coordinate system here lies on a spherical surface rather than a flat plane, we will use the haversine distance metric, which will correctly represent distances on a curved surface.\n",
        "\n",
        "**Note**:\n",
        "The *haversine formula* determines the great-circle distance between two points on a sphere given their longitudes and latitudes. Important in navigation, it is a special case of a more general formula in spherical trigonometry, the law of haversines, that relates the sides and angles of spherical triangles.\n",
        "\n",
        "$$\n",
        "d=2r\\arcsin{\\sqrt{\\sin^2\\left(\\frac{\\phi_2-\\phi_1}{2}\\right)+\\cos{\\phi_1}\\cdot \\cos{\\phi_2}\\cdot \\sin^2\\left(\\frac{\\lambda_2-\\lambda_1}{2} \\right)}},\n",
        "$$\n",
        "\n",
        "where \n",
        "* $d$ is the distance between the two points along a great circle of the sphere;\n",
        "* $\\phi$ -- latitude of point;\n",
        "* $\\lambda$ -- longitude of point.\n",
        "\n",
        "The term haversine  is due to haversine $\\text{hav}$ function that was used instead of $\\sin$ in the formula.\n",
        "\n",
        "$$\n",
        "\\text{hav}(x)=\\sin^2\\left(\\frac{x}{2}\\right).\n",
        "$$\n",
        "\n",
        "So if we rewrite the formula above using haversine it will read\n",
        "\n",
        "$$\n",
        "\\text{hav}(\\Theta)=\\text{hav}(\\phi_2-\\phi_1)+\\cos{\\phi_1} \\cdot \\cos{\\phi_2} \\cdot \\text{hav}(\\lambda_2-\\lambda_1),\n",
        "$$\n",
        "\n",
        "with $\\Theta=\\frac{d}{r}$ is central angle between any two points on a sphere."
      ]
    },
    {
      "cell_type": "code",
      "metadata": {
        "id": "FmwkQlE4XwLE",
        "colab_type": "code",
        "outputId": "689c9e60-8b12-4dcc-9b03-798d4c58c39c",
        "colab": {
          "base_uri": "https://localhost:8080/",
          "height": 270
        }
      },
      "source": [
        "# Set up the data grid for the contour plot\n",
        "X, Y = np.meshgrid(xgrid[::5], ygrid[::5][::-1])\n",
        "land_reference = data.coverages[6][::5, ::5]\n",
        "land_mask = (land_reference > -9999).ravel()\n",
        "xy = np.vstack([Y.ravel(), X.ravel()]).T\n",
        "xy = np.radians(xy[land_mask])\n",
        "\n",
        "# Create two side-by-side plots\n",
        "fig, ax = plt.subplots(1, 2)\n",
        "fig.subplots_adjust(left=0.05, right=0.95, wspace=0.05)\n",
        "species_names = ['Bradypus Variegatus', 'Microryzomys Minutus']\n",
        "cmaps = ['Purples', 'Reds']\n",
        "\n",
        "for i, axi in enumerate(ax):\n",
        "  axi.set_title(species_names[i])\n",
        "\n",
        "  # plot coastlines with Basemap\n",
        "  m = Basemap(projection='cyl', llcrnrlat=Y.min(), urcrnrlat=Y.max(), llcrnrlon=X.min(), urcrnrlon=X.max(), resolution='c', ax=axi)\n",
        "  m.drawmapboundary(fill_color='#DDEEFF')\n",
        "  m.drawcoastlines()\n",
        "  m.drawcountries()\n",
        "  \n",
        "  # construct a spherical kernel density estimate of the distribution\n",
        "  kde = KernelDensity(bandwidth=0.03, metric='haversine')\n",
        "  kde.fit(np.radians(latlon[species == i]))\n",
        "\n",
        "  # evaluate only on the land: -9999 indicates ocean\n",
        "  Z = np.full(land_mask.shape[0], -9999.0)\n",
        "  Z[land_mask] = np.exp(kde.score_samples(xy))\n",
        "  Z = Z.reshape(X.shape)\n",
        "  \n",
        "  # plot contours of the density\n",
        "  levels = np.linspace(0, Z.max(), 25)\n",
        "  axi.contourf(X, Y, Z, levels=levels, cmap=cmaps[i])  "
      ],
      "execution_count": 0,
      "outputs": [
        {
          "output_type": "display_data",
          "data": {
            "image/png": "[encoded data removed]",
            "text/plain": [
              "<Figure size 432x288 with 2 Axes>"
            ]
          },
          "metadata": {
            "tags": []
          }
        }
      ]
    },
    {
      "cell_type": "markdown",
      "metadata": {
        "id": "6ZtWndy68RsU",
        "colab_type": "text"
      },
      "source": [
        "Now we have a much clearer picture of the geographical distribution of observation of two species.\n",
        "\n"
      ]
    },
    {
      "cell_type": "markdown",
      "metadata": {
        "id": "dMIOJrA8-qJm",
        "colab_type": "text"
      },
      "source": [
        "#Example: Fisher irisis"
      ]
    },
    {
      "cell_type": "markdown",
      "metadata": {
        "id": "oYoPWo8B-J-a",
        "colab_type": "text"
      },
      "source": [
        "Here is another example of nice visualization with the help of the `kdeplot` (convinient plot function with the built in kde algorithm in it) from `seaborn` package.\n",
        "\n",
        "<br>\n",
        "\n",
        "![](https://raw.githubusercontent.com/fbeilstein/machine_learning/master/lecture_13/iris.png) "
      ]
    },
    {
      "cell_type": "code",
      "metadata": {
        "id": "WjK03ydaP665",
        "colab_type": "code",
        "outputId": "fc36b3b0-23b5-426f-de0c-9d0ddfcc7a01",
        "cellView": "form",
        "colab": {
          "base_uri": "https://localhost:8080/",
          "height": 502
        }
      },
      "source": [
        "#@title Irisis classes visualization with KDE\n",
        "import seaborn as sns\n",
        "import matplotlib.pyplot as plt\n",
        "\n",
        "sns.set(style=\"darkgrid\")\n",
        "iris = sns.load_dataset(\"iris\")\n",
        "\n",
        "setosa = iris.query(\"species == 'setosa'\")\n",
        "virginica = iris.query(\"species == 'virginica'\")\n",
        "\n",
        "f, ax = plt.subplots(figsize=(8, 8))\n",
        "ax.set_aspect(\"equal\")\n",
        "\n",
        "ax = sns.kdeplot(setosa.sepal_width, setosa.sepal_length,\n",
        "                 cmap=\"Reds\", shade=True, shade_lowest=False)\n",
        "ax = sns.kdeplot(virginica.sepal_width, virginica.sepal_length,\n",
        "                 cmap=\"Blues\", shade=True, shade_lowest=False)\n",
        "\n",
        "red = sns.color_palette(\"Reds\")[-2]\n",
        "blue = sns.color_palette(\"Blues\")[-2]\n",
        "ax.text(2.5, 8.2, \"virginica\", size=16, color=blue);\n",
        "ax.text(3.8, 4.5, \"setosa\", size=16, color=red);"
      ],
      "execution_count": 0,
      "outputs": [
        {
          "output_type": "display_data",
          "data": {
            "image/png": "[encoded data removed]",
            "text/plain": [
              "<Figure size 576x576 with 1 Axes>"
            ]
          },
          "metadata": {
            "tags": []
          }
        }
      ]
    },
    {
      "cell_type": "markdown",
      "metadata": {
        "id": "7k45DaaLYONo",
        "colab_type": "text"
      },
      "source": [
        "#Example: Not-So-Naive Bayes"
      ]
    },
    {
      "cell_type": "markdown",
      "metadata": {
        "id": "BJxcMR1ofrXE",
        "colab_type": "text"
      },
      "source": [
        "For naive Bayes, the generative model is a simple axis-aligned Gaussian.\n",
        "With a density estimation algorithm like KDE, we can remove the “naive” element and perform the same classification with a more sophisticated generative model for each class.\n",
        "It’s still Bayesian classification, but it’s no longer naive."
      ]
    },
    {
      "cell_type": "markdown",
      "metadata": {
        "id": "tQKL5Dj5f6R2",
        "colab_type": "text"
      },
      "source": [
        "1. Split the training data by label.\n",
        "2. For each set, fit a KDE to obtain a generative model of the data.\n",
        "This allows you for any observation x and label y to compute a likelihood $P(x|y)$.\n",
        "3. From the number of examples of each class in the training set, compute the class prior, $P(y)$ .\n",
        "4. For an unknown point x , the posterior probability for each class is $P(y|x)= P(x|y)P(y)$. The class that maximizes this posterior is the label assigned to the point."
      ]
    },
    {
      "cell_type": "markdown",
      "metadata": {
        "id": "1cepwUXc1AWu",
        "colab_type": "text"
      },
      "source": [
        "Let’s try this custom estimator on a problem we have seen before: the classification of handwritten digits. Here we will load the digits, and compute the cross-validation score for a range of candidate bandwidths using the `GridSearchCV` meta-estimator."
      ]
    },
    {
      "cell_type": "code",
      "metadata": {
        "id": "GQ9wdpBgYQIk",
        "colab_type": "code",
        "colab": {}
      },
      "source": [
        "from sklearn.base import BaseEstimator, ClassifierMixin\n",
        "from sklearn.neighbors import KernelDensity\n",
        "\n",
        "# BaseEstimator contains the logic necessary to clone/copy an estimator for use in a crossvalidation procedure\n",
        "# ClassifierMixin defines a default score() method used by such routines\n",
        "class KDEClassifier(BaseEstimator, ClassifierMixin):\n",
        "  \"\"\"Bayesian generative classification based on KDE\n",
        "  Parameters\n",
        "  ----------\n",
        "  bandwidth : float\n",
        "  the kernel bandwidth within each class\n",
        "  kernel : str\n",
        "  the kernel name, passed to KernelDensity\n",
        "  \"\"\"\n",
        "  def __init__(self, bandwidth=1.0, kernel='gaussian'):\n",
        "    self.bandwidth = bandwidth\n",
        "    self.kernel = kernel\n",
        "  \n",
        "  # find the unique classes in the training data, \n",
        "  # train a KernelDensity model for each class, \n",
        "  # compute the class priors based on the number of input samples.\n",
        "  def fit(self, X, y):\n",
        "    self.classes_ = np.sort(np.unique(y))\n",
        "    training_sets = [X[y == yi] for yi in self.classes_]\n",
        "    self.models_ = [KernelDensity(bandwidth=self.bandwidth, kernel=self.kernel).fit(Xi) for Xi in training_sets]\n",
        "    self.logpriors_ = [np.log(Xi.shape[0] / X.shape[0]) for Xi in training_sets]\n",
        "    return self # for chaining\n",
        "  \n",
        "  # predicting labels on new data\n",
        "  def predict_proba(self, X):\n",
        "    logprobs = np.array([model.score_samples(X) for model in self.models_]).T\n",
        "    result = np.exp(logprobs + self.logpriors_)\n",
        "    return result / result.sum(1, keepdims=True)\n",
        "  \n",
        "  def predict(self, X):\n",
        "    return self.classes_[np.argmax(self.predict_proba(X), 1)]"
      ],
      "execution_count": 0,
      "outputs": []
    },
    {
      "cell_type": "markdown",
      "metadata": {
        "id": "XrghJcTc0Vr1",
        "colab_type": "text"
      },
      "source": [
        "We now use this class."
      ]
    },
    {
      "cell_type": "code",
      "metadata": {
        "id": "gsqvNFAHm1Rn",
        "colab_type": "code",
        "colab": {}
      },
      "source": [
        "from sklearn.datasets import load_digits\n",
        "from sklearn.model_selection import GridSearchCV\n",
        "\n",
        "digits = load_digits()\n",
        "bandwidths = 10 ** np.linspace(0, 2, 100)\n",
        "grid = GridSearchCV(KDEClassifier(), {'bandwidth': bandwidths}, cv=3)\n",
        "grid.fit(digits.data, digits.target)\n",
        "scores = grid.cv_results_['mean_test_score']"
      ],
      "execution_count": 0,
      "outputs": []
    },
    {
      "cell_type": "code",
      "metadata": {
        "id": "Gtbz5bE0sL4I",
        "colab_type": "code",
        "outputId": "b535c305-2b20-45b7-fa16-a3fd50664e38",
        "colab": {
          "base_uri": "https://localhost:8080/",
          "height": 341
        }
      },
      "source": [
        "plt.semilogx(bandwidths, scores)\n",
        "plt.xlabel('bandwidth')\n",
        "plt.ylabel('accuracy')\n",
        "plt.title('KDE Model Performance')\n",
        "print(grid.best_params_)\n",
        "print('accuracy =', grid.best_score_)"
      ],
      "execution_count": 0,
      "outputs": [
        {
          "output_type": "stream",
          "text": [
            "{'bandwidth': 7.054802310718643}\n",
            "accuracy = 0.9666110183639399\n"
          ],
          "name": "stdout"
        },
        {
          "output_type": "display_data",
          "data": {
            "image/png": "[encoded data removed]",
            "text/plain": [
              "<Figure size 432x288 with 1 Axes>"
            ]
          },
          "metadata": {
            "tags": []
          }
        }
      ]
    },
    {
      "cell_type": "markdown",
      "metadata": {
        "id": "9RlumF2e1K3B",
        "colab_type": "text"
      },
      "source": [
        "We see that this not-so-naive Bayesian classifier reaches a cross-validation accuracy of just over $96\\%$; this is compared to around $80\\%$ for the naive Bayesian classification:\n"
      ]
    },
    {
      "cell_type": "code",
      "metadata": {
        "id": "dHkCW0Cks2EB",
        "colab_type": "code",
        "outputId": "c92124bb-f78f-4a1f-df84-51e82c0beb1e",
        "colab": {
          "base_uri": "https://localhost:8080/",
          "height": 34
        }
      },
      "source": [
        "from sklearn.naive_bayes import GaussianNB\n",
        "from sklearn.model_selection import cross_val_score\n",
        "cross_val_score(GaussianNB(), digits.data, digits.target, cv=3).mean()"
      ],
      "execution_count": 0,
      "outputs": [
        {
          "output_type": "execute_result",
          "data": {
            "text/plain": [
              "0.8186003803550138"
            ]
          },
          "metadata": {
            "tags": []
          },
          "execution_count": 22
        }
      ]
    },
    {
      "cell_type": "markdown",
      "metadata": {
        "id": "2khCd84S1XdG",
        "colab_type": "text"
      },
      "source": [
        "One benefit of such a generative classifier is interpretability of results: for each unknown sample, we not only get a probabilistic classification, but a full model of the distribution of points we are comparing it to! If desired, this offers an intuitive window into the reasons for a particular classification that algorithms like SVMs and random forests tend to obscure.\n",
        "If you would like to take this further, there are some improvements that could be made to our KDE classifier model:\n",
        "* We could allow the bandwidth in each class to vary independently.\n",
        "*  We could optimize these bandwidths not based on their prediction score, but on the likelihood of the training data under the generative model within each class (i.e., use the scores from KernelDensity itself rather than the global prediction accuracy)."
      ]
    }
  ]
}