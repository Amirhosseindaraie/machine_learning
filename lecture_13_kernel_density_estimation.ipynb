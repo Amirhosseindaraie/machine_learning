{
  "nbformat": 4,
  "nbformat_minor": 0,
  "metadata": {
    "colab": {
      "name": "lecture_13_kernel_density_estimation.ipynb",
      "provenance": [],
      "include_colab_link": true
    },
    "kernelspec": {
      "name": "python3",
      "display_name": "Python 3"
    },
    "widgets": {
      "application/vnd.jupyter.widget-state+json": {
        "a99dc2db2872418a9f989ef288480823": {
          "model_module": "@jupyter-widgets/controls",
          "model_name": "HBoxModel",
          "state": {
            "_view_name": "HBoxView",
            "_dom_classes": [],
            "_model_name": "HBoxModel",
            "_view_module": "@jupyter-widgets/controls",
            "_model_module_version": "1.5.0",
            "_view_count": null,
            "_view_module_version": "1.5.0",
            "box_style": "",
            "layout": "IPY_MODEL_c5c9b67394824609bb51c6a6dcb8dad9",
            "_model_module": "@jupyter-widgets/controls",
            "children": [
              "IPY_MODEL_d5ab2ee47f684206b63e9e0f144699e6",
              "IPY_MODEL_d440833d27d54ab588492e4eee910bbc",
              "IPY_MODEL_cb78cd3f9ee347c997e28ed150cc8419",
              "IPY_MODEL_624598c3507a45b688aade2e784fc1f6"
            ]
          }
        },
        "c5c9b67394824609bb51c6a6dcb8dad9": {
          "model_module": "@jupyter-widgets/base",
          "model_name": "LayoutModel",
          "state": {
            "_view_name": "LayoutView",
            "grid_template_rows": null,
            "right": null,
            "justify_content": null,
            "_view_module": "@jupyter-widgets/base",
            "overflow": null,
            "_model_module_version": "1.2.0",
            "_view_count": null,
            "flex_flow": null,
            "width": null,
            "min_width": null,
            "border": null,
            "align_items": null,
            "bottom": null,
            "_model_module": "@jupyter-widgets/base",
            "top": null,
            "grid_column": null,
            "overflow_y": null,
            "overflow_x": null,
            "grid_auto_flow": null,
            "grid_area": null,
            "grid_template_columns": null,
            "flex": null,
            "_model_name": "LayoutModel",
            "justify_items": null,
            "grid_row": null,
            "max_height": null,
            "align_content": null,
            "visibility": null,
            "align_self": null,
            "height": null,
            "min_height": null,
            "padding": null,
            "grid_auto_rows": null,
            "grid_gap": null,
            "max_width": null,
            "order": null,
            "_view_module_version": "1.2.0",
            "grid_template_areas": null,
            "object_position": null,
            "object_fit": null,
            "grid_auto_columns": null,
            "margin": null,
            "display": null,
            "left": null
          }
        },
        "d5ab2ee47f684206b63e9e0f144699e6": {
          "model_module": "@jupyter-widgets/controls",
          "model_name": "VBoxModel",
          "state": {
            "_view_name": "VBoxView",
            "_dom_classes": [],
            "_model_name": "VBoxModel",
            "_view_module": "@jupyter-widgets/controls",
            "_model_module_version": "1.5.0",
            "_view_count": null,
            "_view_module_version": "1.5.0",
            "box_style": "",
            "layout": "IPY_MODEL_6ea8d2a121e94053861974d6b9a167a0",
            "_model_module": "@jupyter-widgets/controls",
            "children": [
              "IPY_MODEL_e577c66893c3429da36a4e9e947e6bc2"
            ]
          }
        },
        "d440833d27d54ab588492e4eee910bbc": {
          "model_module": "@jupyter-widgets/controls",
          "model_name": "VBoxModel",
          "state": {
            "_view_name": "VBoxView",
            "_dom_classes": [],
            "_model_name": "VBoxModel",
            "_view_module": "@jupyter-widgets/controls",
            "_model_module_version": "1.5.0",
            "_view_count": null,
            "_view_module_version": "1.5.0",
            "box_style": "",
            "layout": "IPY_MODEL_886f6b4daa934dc19b7a0eadcd407107",
            "_model_module": "@jupyter-widgets/controls",
            "children": [
              "IPY_MODEL_5a3f6ceb3341472083b02f8247bde510",
              "IPY_MODEL_7c958e74d43945708953caa41e859ced"
            ]
          }
        },
        "cb78cd3f9ee347c997e28ed150cc8419": {
          "model_module": "@jupyter-widgets/controls",
          "model_name": "VBoxModel",
          "state": {
            "_view_name": "VBoxView",
            "_dom_classes": [],
            "_model_name": "VBoxModel",
            "_view_module": "@jupyter-widgets/controls",
            "_model_module_version": "1.5.0",
            "_view_count": null,
            "_view_module_version": "1.5.0",
            "box_style": "",
            "layout": "IPY_MODEL_434676ff541540d9a4899e05affb916a",
            "_model_module": "@jupyter-widgets/controls",
            "children": [
              "IPY_MODEL_74a4eace6a6a4fb9a63234d62587d1af",
              "IPY_MODEL_6765c3be2838410d965dbeed4b2ee0a6"
            ]
          }
        },
        "624598c3507a45b688aade2e784fc1f6": {
          "model_module": "@jupyter-widgets/controls",
          "model_name": "VBoxModel",
          "state": {
            "_view_name": "VBoxView",
            "_dom_classes": [],
            "_model_name": "VBoxModel",
            "_view_module": "@jupyter-widgets/controls",
            "_model_module_version": "1.5.0",
            "_view_count": null,
            "_view_module_version": "1.5.0",
            "box_style": "",
            "layout": "IPY_MODEL_6861a478fbb3447d8108804a005d4619",
            "_model_module": "@jupyter-widgets/controls",
            "children": [
              "IPY_MODEL_2805ea4d68c24b3fab7eb1d3ca03964c",
              "IPY_MODEL_c0797c7d6b39487bbe5a790ee2789791"
            ]
          }
        },
        "6ea8d2a121e94053861974d6b9a167a0": {
          "model_module": "@jupyter-widgets/base",
          "model_name": "LayoutModel",
          "state": {
            "_view_name": "LayoutView",
            "grid_template_rows": null,
            "right": null,
            "justify_content": null,
            "_view_module": "@jupyter-widgets/base",
            "overflow": null,
            "_model_module_version": "1.2.0",
            "_view_count": null,
            "flex_flow": null,
            "width": null,
            "min_width": null,
            "border": null,
            "align_items": null,
            "bottom": null,
            "_model_module": "@jupyter-widgets/base",
            "top": null,
            "grid_column": null,
            "overflow_y": null,
            "overflow_x": null,
            "grid_auto_flow": null,
            "grid_area": null,
            "grid_template_columns": null,
            "flex": null,
            "_model_name": "LayoutModel",
            "justify_items": null,
            "grid_row": null,
            "max_height": null,
            "align_content": null,
            "visibility": null,
            "align_self": null,
            "height": null,
            "min_height": null,
            "padding": null,
            "grid_auto_rows": null,
            "grid_gap": null,
            "max_width": null,
            "order": null,
            "_view_module_version": "1.2.0",
            "grid_template_areas": null,
            "object_position": null,
            "object_fit": null,
            "grid_auto_columns": null,
            "margin": null,
            "display": null,
            "left": null
          }
        },
        "e577c66893c3429da36a4e9e947e6bc2": {
          "model_module": "@jupyter-widgets/controls",
          "model_name": "FloatRangeSliderModel",
          "state": {
            "_view_name": "FloatRangeSliderView",
            "style": "IPY_MODEL_2bb17e0aae0548e9ab74cc4886771af1",
            "_dom_classes": [],
            "description": "pi(1,2,3)",
            "step": 0.1,
            "_model_name": "FloatRangeSliderModel",
            "orientation": "horizontal",
            "max": 1,
            "_view_module": "@jupyter-widgets/controls",
            "_model_module_version": "1.5.0",
            "value": [
              0.3,
              0.6
            ],
            "_view_count": null,
            "disabled": false,
            "_view_module_version": "1.5.0",
            "min": 0,
            "continuous_update": true,
            "readout_format": ".2f",
            "description_tooltip": null,
            "readout": true,
            "_model_module": "@jupyter-widgets/controls",
            "layout": "IPY_MODEL_4c0ecaf706224c33a7ccf63509f70438"
          }
        },
        "886f6b4daa934dc19b7a0eadcd407107": {
          "model_module": "@jupyter-widgets/base",
          "model_name": "LayoutModel",
          "state": {
            "_view_name": "LayoutView",
            "grid_template_rows": null,
            "right": null,
            "justify_content": null,
            "_view_module": "@jupyter-widgets/base",
            "overflow": null,
            "_model_module_version": "1.2.0",
            "_view_count": null,
            "flex_flow": null,
            "width": null,
            "min_width": null,
            "border": null,
            "align_items": null,
            "bottom": null,
            "_model_module": "@jupyter-widgets/base",
            "top": null,
            "grid_column": null,
            "overflow_y": null,
            "overflow_x": null,
            "grid_auto_flow": null,
            "grid_area": null,
            "grid_template_columns": null,
            "flex": null,
            "_model_name": "LayoutModel",
            "justify_items": null,
            "grid_row": null,
            "max_height": null,
            "align_content": null,
            "visibility": null,
            "align_self": null,
            "height": null,
            "min_height": null,
            "padding": null,
            "grid_auto_rows": null,
            "grid_gap": null,
            "max_width": null,
            "order": null,
            "_view_module_version": "1.2.0",
            "grid_template_areas": null,
            "object_position": null,
            "object_fit": null,
            "grid_auto_columns": null,
            "margin": null,
            "display": null,
            "left": null
          }
        },
        "5a3f6ceb3341472083b02f8247bde510": {
          "model_module": "@jupyter-widgets/controls",
          "model_name": "FloatSliderModel",
          "state": {
            "_view_name": "FloatSliderView",
            "style": "IPY_MODEL_86afa177f3cf4aee957b602fcb495423",
            "_dom_classes": [],
            "description": "mu_1",
            "step": 0.1,
            "_model_name": "FloatSliderModel",
            "orientation": "horizontal",
            "max": 100,
            "_view_module": "@jupyter-widgets/controls",
            "_model_module_version": "1.5.0",
            "value": 48.9,
            "_view_count": null,
            "disabled": false,
            "_view_module_version": "1.5.0",
            "min": 0,
            "continuous_update": true,
            "readout_format": ".2f",
            "description_tooltip": null,
            "readout": true,
            "_model_module": "@jupyter-widgets/controls",
            "layout": "IPY_MODEL_b3617823acbf4fcdbb6e6a7c2647052a"
          }
        },
        "7c958e74d43945708953caa41e859ced": {
          "model_module": "@jupyter-widgets/controls",
          "model_name": "FloatSliderModel",
          "state": {
            "_view_name": "FloatSliderView",
            "style": "IPY_MODEL_273db7c8445b461893f47c86f34d46fd",
            "_dom_classes": [],
            "description": "sigma_1",
            "step": 0.1,
            "_model_name": "FloatSliderModel",
            "orientation": "horizontal",
            "max": 10,
            "_view_module": "@jupyter-widgets/controls",
            "_model_module_version": "1.5.0",
            "value": 10,
            "_view_count": null,
            "disabled": false,
            "_view_module_version": "1.5.0",
            "min": 1,
            "continuous_update": true,
            "readout_format": ".2f",
            "description_tooltip": null,
            "readout": true,
            "_model_module": "@jupyter-widgets/controls",
            "layout": "IPY_MODEL_7df590e31561462db42018f8e37c890f"
          }
        },
        "434676ff541540d9a4899e05affb916a": {
          "model_module": "@jupyter-widgets/base",
          "model_name": "LayoutModel",
          "state": {
            "_view_name": "LayoutView",
            "grid_template_rows": null,
            "right": null,
            "justify_content": null,
            "_view_module": "@jupyter-widgets/base",
            "overflow": null,
            "_model_module_version": "1.2.0",
            "_view_count": null,
            "flex_flow": null,
            "width": null,
            "min_width": null,
            "border": null,
            "align_items": null,
            "bottom": null,
            "_model_module": "@jupyter-widgets/base",
            "top": null,
            "grid_column": null,
            "overflow_y": null,
            "overflow_x": null,
            "grid_auto_flow": null,
            "grid_area": null,
            "grid_template_columns": null,
            "flex": null,
            "_model_name": "LayoutModel",
            "justify_items": null,
            "grid_row": null,
            "max_height": null,
            "align_content": null,
            "visibility": null,
            "align_self": null,
            "height": null,
            "min_height": null,
            "padding": null,
            "grid_auto_rows": null,
            "grid_gap": null,
            "max_width": null,
            "order": null,
            "_view_module_version": "1.2.0",
            "grid_template_areas": null,
            "object_position": null,
            "object_fit": null,
            "grid_auto_columns": null,
            "margin": null,
            "display": null,
            "left": null
          }
        },
        "74a4eace6a6a4fb9a63234d62587d1af": {
          "model_module": "@jupyter-widgets/controls",
          "model_name": "FloatSliderModel",
          "state": {
            "_view_name": "FloatSliderView",
            "style": "IPY_MODEL_0c0fcdef5c4342eaba7635b02da3b918",
            "_dom_classes": [],
            "description": "mu_2",
            "step": 0.1,
            "_model_name": "FloatSliderModel",
            "orientation": "horizontal",
            "max": 100,
            "_view_module": "@jupyter-widgets/controls",
            "_model_module_version": "1.5.0",
            "value": 25.3,
            "_view_count": null,
            "disabled": false,
            "_view_module_version": "1.5.0",
            "min": 0,
            "continuous_update": true,
            "readout_format": ".2f",
            "description_tooltip": null,
            "readout": true,
            "_model_module": "@jupyter-widgets/controls",
            "layout": "IPY_MODEL_f50db96472674d829c095a118514c1c1"
          }
        },
        "6765c3be2838410d965dbeed4b2ee0a6": {
          "model_module": "@jupyter-widgets/controls",
          "model_name": "FloatSliderModel",
          "state": {
            "_view_name": "FloatSliderView",
            "style": "IPY_MODEL_58ea04edc1d14643bf9fc902f880ab86",
            "_dom_classes": [],
            "description": "sigma_2",
            "step": 0.1,
            "_model_name": "FloatSliderModel",
            "orientation": "horizontal",
            "max": 10,
            "_view_module": "@jupyter-widgets/controls",
            "_model_module_version": "1.5.0",
            "value": 10,
            "_view_count": null,
            "disabled": false,
            "_view_module_version": "1.5.0",
            "min": 1,
            "continuous_update": true,
            "readout_format": ".2f",
            "description_tooltip": null,
            "readout": true,
            "_model_module": "@jupyter-widgets/controls",
            "layout": "IPY_MODEL_073d457929f747f7821d41805617e31d"
          }
        },
        "6861a478fbb3447d8108804a005d4619": {
          "model_module": "@jupyter-widgets/base",
          "model_name": "LayoutModel",
          "state": {
            "_view_name": "LayoutView",
            "grid_template_rows": null,
            "right": null,
            "justify_content": null,
            "_view_module": "@jupyter-widgets/base",
            "overflow": null,
            "_model_module_version": "1.2.0",
            "_view_count": null,
            "flex_flow": null,
            "width": null,
            "min_width": null,
            "border": null,
            "align_items": null,
            "bottom": null,
            "_model_module": "@jupyter-widgets/base",
            "top": null,
            "grid_column": null,
            "overflow_y": null,
            "overflow_x": null,
            "grid_auto_flow": null,
            "grid_area": null,
            "grid_template_columns": null,
            "flex": null,
            "_model_name": "LayoutModel",
            "justify_items": null,
            "grid_row": null,
            "max_height": null,
            "align_content": null,
            "visibility": null,
            "align_self": null,
            "height": null,
            "min_height": null,
            "padding": null,
            "grid_auto_rows": null,
            "grid_gap": null,
            "max_width": null,
            "order": null,
            "_view_module_version": "1.2.0",
            "grid_template_areas": null,
            "object_position": null,
            "object_fit": null,
            "grid_auto_columns": null,
            "margin": null,
            "display": null,
            "left": null
          }
        },
        "2805ea4d68c24b3fab7eb1d3ca03964c": {
          "model_module": "@jupyter-widgets/controls",
          "model_name": "FloatSliderModel",
          "state": {
            "_view_name": "FloatSliderView",
            "style": "IPY_MODEL_d204482a405a402a95afe1f9e41c2f41",
            "_dom_classes": [],
            "description": "mu_3",
            "step": 0.1,
            "_model_name": "FloatSliderModel",
            "orientation": "horizontal",
            "max": 100,
            "_view_module": "@jupyter-widgets/controls",
            "_model_module_version": "1.5.0",
            "value": 90,
            "_view_count": null,
            "disabled": false,
            "_view_module_version": "1.5.0",
            "min": 0,
            "continuous_update": true,
            "readout_format": ".2f",
            "description_tooltip": null,
            "readout": true,
            "_model_module": "@jupyter-widgets/controls",
            "layout": "IPY_MODEL_955ddc4586a04fdebcf0cfcc38ee8fde"
          }
        },
        "c0797c7d6b39487bbe5a790ee2789791": {
          "model_module": "@jupyter-widgets/controls",
          "model_name": "FloatSliderModel",
          "state": {
            "_view_name": "FloatSliderView",
            "style": "IPY_MODEL_419f36b61d2e470a89758379a2ec2ff8",
            "_dom_classes": [],
            "description": "sigma_3",
            "step": 0.1,
            "_model_name": "FloatSliderModel",
            "orientation": "horizontal",
            "max": 10,
            "_view_module": "@jupyter-widgets/controls",
            "_model_module_version": "1.5.0",
            "value": 10,
            "_view_count": null,
            "disabled": false,
            "_view_module_version": "1.5.0",
            "min": 1,
            "continuous_update": true,
            "readout_format": ".2f",
            "description_tooltip": null,
            "readout": true,
            "_model_module": "@jupyter-widgets/controls",
            "layout": "IPY_MODEL_b7fc182f15a340548b60230723dcf74e"
          }
        },
        "2bb17e0aae0548e9ab74cc4886771af1": {
          "model_module": "@jupyter-widgets/controls",
          "model_name": "SliderStyleModel",
          "state": {
            "_view_name": "StyleView",
            "handle_color": null,
            "_model_name": "SliderStyleModel",
            "description_width": "",
            "_view_module": "@jupyter-widgets/base",
            "_model_module_version": "1.5.0",
            "_view_count": null,
            "_view_module_version": "1.2.0",
            "_model_module": "@jupyter-widgets/controls"
          }
        },
        "4c0ecaf706224c33a7ccf63509f70438": {
          "model_module": "@jupyter-widgets/base",
          "model_name": "LayoutModel",
          "state": {
            "_view_name": "LayoutView",
            "grid_template_rows": null,
            "right": null,
            "justify_content": null,
            "_view_module": "@jupyter-widgets/base",
            "overflow": null,
            "_model_module_version": "1.2.0",
            "_view_count": null,
            "flex_flow": null,
            "width": null,
            "min_width": null,
            "border": null,
            "align_items": null,
            "bottom": null,
            "_model_module": "@jupyter-widgets/base",
            "top": null,
            "grid_column": null,
            "overflow_y": null,
            "overflow_x": null,
            "grid_auto_flow": null,
            "grid_area": null,
            "grid_template_columns": null,
            "flex": null,
            "_model_name": "LayoutModel",
            "justify_items": null,
            "grid_row": null,
            "max_height": null,
            "align_content": null,
            "visibility": null,
            "align_self": null,
            "height": null,
            "min_height": null,
            "padding": null,
            "grid_auto_rows": null,
            "grid_gap": null,
            "max_width": null,
            "order": null,
            "_view_module_version": "1.2.0",
            "grid_template_areas": null,
            "object_position": null,
            "object_fit": null,
            "grid_auto_columns": null,
            "margin": null,
            "display": null,
            "left": null
          }
        },
        "86afa177f3cf4aee957b602fcb495423": {
          "model_module": "@jupyter-widgets/controls",
          "model_name": "SliderStyleModel",
          "state": {
            "_view_name": "StyleView",
            "handle_color": null,
            "_model_name": "SliderStyleModel",
            "description_width": "",
            "_view_module": "@jupyter-widgets/base",
            "_model_module_version": "1.5.0",
            "_view_count": null,
            "_view_module_version": "1.2.0",
            "_model_module": "@jupyter-widgets/controls"
          }
        },
        "b3617823acbf4fcdbb6e6a7c2647052a": {
          "model_module": "@jupyter-widgets/base",
          "model_name": "LayoutModel",
          "state": {
            "_view_name": "LayoutView",
            "grid_template_rows": null,
            "right": null,
            "justify_content": null,
            "_view_module": "@jupyter-widgets/base",
            "overflow": null,
            "_model_module_version": "1.2.0",
            "_view_count": null,
            "flex_flow": null,
            "width": null,
            "min_width": null,
            "border": null,
            "align_items": null,
            "bottom": null,
            "_model_module": "@jupyter-widgets/base",
            "top": null,
            "grid_column": null,
            "overflow_y": null,
            "overflow_x": null,
            "grid_auto_flow": null,
            "grid_area": null,
            "grid_template_columns": null,
            "flex": null,
            "_model_name": "LayoutModel",
            "justify_items": null,
            "grid_row": null,
            "max_height": null,
            "align_content": null,
            "visibility": null,
            "align_self": null,
            "height": null,
            "min_height": null,
            "padding": null,
            "grid_auto_rows": null,
            "grid_gap": null,
            "max_width": null,
            "order": null,
            "_view_module_version": "1.2.0",
            "grid_template_areas": null,
            "object_position": null,
            "object_fit": null,
            "grid_auto_columns": null,
            "margin": null,
            "display": null,
            "left": null
          }
        },
        "273db7c8445b461893f47c86f34d46fd": {
          "model_module": "@jupyter-widgets/controls",
          "model_name": "SliderStyleModel",
          "state": {
            "_view_name": "StyleView",
            "handle_color": null,
            "_model_name": "SliderStyleModel",
            "description_width": "",
            "_view_module": "@jupyter-widgets/base",
            "_model_module_version": "1.5.0",
            "_view_count": null,
            "_view_module_version": "1.2.0",
            "_model_module": "@jupyter-widgets/controls"
          }
        },
        "7df590e31561462db42018f8e37c890f": {
          "model_module": "@jupyter-widgets/base",
          "model_name": "LayoutModel",
          "state": {
            "_view_name": "LayoutView",
            "grid_template_rows": null,
            "right": null,
            "justify_content": null,
            "_view_module": "@jupyter-widgets/base",
            "overflow": null,
            "_model_module_version": "1.2.0",
            "_view_count": null,
            "flex_flow": null,
            "width": null,
            "min_width": null,
            "border": null,
            "align_items": null,
            "bottom": null,
            "_model_module": "@jupyter-widgets/base",
            "top": null,
            "grid_column": null,
            "overflow_y": null,
            "overflow_x": null,
            "grid_auto_flow": null,
            "grid_area": null,
            "grid_template_columns": null,
            "flex": null,
            "_model_name": "LayoutModel",
            "justify_items": null,
            "grid_row": null,
            "max_height": null,
            "align_content": null,
            "visibility": null,
            "align_self": null,
            "height": null,
            "min_height": null,
            "padding": null,
            "grid_auto_rows": null,
            "grid_gap": null,
            "max_width": null,
            "order": null,
            "_view_module_version": "1.2.0",
            "grid_template_areas": null,
            "object_position": null,
            "object_fit": null,
            "grid_auto_columns": null,
            "margin": null,
            "display": null,
            "left": null
          }
        },
        "0c0fcdef5c4342eaba7635b02da3b918": {
          "model_module": "@jupyter-widgets/controls",
          "model_name": "SliderStyleModel",
          "state": {
            "_view_name": "StyleView",
            "handle_color": null,
            "_model_name": "SliderStyleModel",
            "description_width": "",
            "_view_module": "@jupyter-widgets/base",
            "_model_module_version": "1.5.0",
            "_view_count": null,
            "_view_module_version": "1.2.0",
            "_model_module": "@jupyter-widgets/controls"
          }
        },
        "f50db96472674d829c095a118514c1c1": {
          "model_module": "@jupyter-widgets/base",
          "model_name": "LayoutModel",
          "state": {
            "_view_name": "LayoutView",
            "grid_template_rows": null,
            "right": null,
            "justify_content": null,
            "_view_module": "@jupyter-widgets/base",
            "overflow": null,
            "_model_module_version": "1.2.0",
            "_view_count": null,
            "flex_flow": null,
            "width": null,
            "min_width": null,
            "border": null,
            "align_items": null,
            "bottom": null,
            "_model_module": "@jupyter-widgets/base",
            "top": null,
            "grid_column": null,
            "overflow_y": null,
            "overflow_x": null,
            "grid_auto_flow": null,
            "grid_area": null,
            "grid_template_columns": null,
            "flex": null,
            "_model_name": "LayoutModel",
            "justify_items": null,
            "grid_row": null,
            "max_height": null,
            "align_content": null,
            "visibility": null,
            "align_self": null,
            "height": null,
            "min_height": null,
            "padding": null,
            "grid_auto_rows": null,
            "grid_gap": null,
            "max_width": null,
            "order": null,
            "_view_module_version": "1.2.0",
            "grid_template_areas": null,
            "object_position": null,
            "object_fit": null,
            "grid_auto_columns": null,
            "margin": null,
            "display": null,
            "left": null
          }
        },
        "58ea04edc1d14643bf9fc902f880ab86": {
          "model_module": "@jupyter-widgets/controls",
          "model_name": "SliderStyleModel",
          "state": {
            "_view_name": "StyleView",
            "handle_color": null,
            "_model_name": "SliderStyleModel",
            "description_width": "",
            "_view_module": "@jupyter-widgets/base",
            "_model_module_version": "1.5.0",
            "_view_count": null,
            "_view_module_version": "1.2.0",
            "_model_module": "@jupyter-widgets/controls"
          }
        },
        "073d457929f747f7821d41805617e31d": {
          "model_module": "@jupyter-widgets/base",
          "model_name": "LayoutModel",
          "state": {
            "_view_name": "LayoutView",
            "grid_template_rows": null,
            "right": null,
            "justify_content": null,
            "_view_module": "@jupyter-widgets/base",
            "overflow": null,
            "_model_module_version": "1.2.0",
            "_view_count": null,
            "flex_flow": null,
            "width": null,
            "min_width": null,
            "border": null,
            "align_items": null,
            "bottom": null,
            "_model_module": "@jupyter-widgets/base",
            "top": null,
            "grid_column": null,
            "overflow_y": null,
            "overflow_x": null,
            "grid_auto_flow": null,
            "grid_area": null,
            "grid_template_columns": null,
            "flex": null,
            "_model_name": "LayoutModel",
            "justify_items": null,
            "grid_row": null,
            "max_height": null,
            "align_content": null,
            "visibility": null,
            "align_self": null,
            "height": null,
            "min_height": null,
            "padding": null,
            "grid_auto_rows": null,
            "grid_gap": null,
            "max_width": null,
            "order": null,
            "_view_module_version": "1.2.0",
            "grid_template_areas": null,
            "object_position": null,
            "object_fit": null,
            "grid_auto_columns": null,
            "margin": null,
            "display": null,
            "left": null
          }
        },
        "d204482a405a402a95afe1f9e41c2f41": {
          "model_module": "@jupyter-widgets/controls",
          "model_name": "SliderStyleModel",
          "state": {
            "_view_name": "StyleView",
            "handle_color": null,
            "_model_name": "SliderStyleModel",
            "description_width": "",
            "_view_module": "@jupyter-widgets/base",
            "_model_module_version": "1.5.0",
            "_view_count": null,
            "_view_module_version": "1.2.0",
            "_model_module": "@jupyter-widgets/controls"
          }
        },
        "955ddc4586a04fdebcf0cfcc38ee8fde": {
          "model_module": "@jupyter-widgets/base",
          "model_name": "LayoutModel",
          "state": {
            "_view_name": "LayoutView",
            "grid_template_rows": null,
            "right": null,
            "justify_content": null,
            "_view_module": "@jupyter-widgets/base",
            "overflow": null,
            "_model_module_version": "1.2.0",
            "_view_count": null,
            "flex_flow": null,
            "width": null,
            "min_width": null,
            "border": null,
            "align_items": null,
            "bottom": null,
            "_model_module": "@jupyter-widgets/base",
            "top": null,
            "grid_column": null,
            "overflow_y": null,
            "overflow_x": null,
            "grid_auto_flow": null,
            "grid_area": null,
            "grid_template_columns": null,
            "flex": null,
            "_model_name": "LayoutModel",
            "justify_items": null,
            "grid_row": null,
            "max_height": null,
            "align_content": null,
            "visibility": null,
            "align_self": null,
            "height": null,
            "min_height": null,
            "padding": null,
            "grid_auto_rows": null,
            "grid_gap": null,
            "max_width": null,
            "order": null,
            "_view_module_version": "1.2.0",
            "grid_template_areas": null,
            "object_position": null,
            "object_fit": null,
            "grid_auto_columns": null,
            "margin": null,
            "display": null,
            "left": null
          }
        },
        "419f36b61d2e470a89758379a2ec2ff8": {
          "model_module": "@jupyter-widgets/controls",
          "model_name": "SliderStyleModel",
          "state": {
            "_view_name": "StyleView",
            "handle_color": null,
            "_model_name": "SliderStyleModel",
            "description_width": "",
            "_view_module": "@jupyter-widgets/base",
            "_model_module_version": "1.5.0",
            "_view_count": null,
            "_view_module_version": "1.2.0",
            "_model_module": "@jupyter-widgets/controls"
          }
        },
        "b7fc182f15a340548b60230723dcf74e": {
          "model_module": "@jupyter-widgets/base",
          "model_name": "LayoutModel",
          "state": {
            "_view_name": "LayoutView",
            "grid_template_rows": null,
            "right": null,
            "justify_content": null,
            "_view_module": "@jupyter-widgets/base",
            "overflow": null,
            "_model_module_version": "1.2.0",
            "_view_count": null,
            "flex_flow": null,
            "width": null,
            "min_width": null,
            "border": null,
            "align_items": null,
            "bottom": null,
            "_model_module": "@jupyter-widgets/base",
            "top": null,
            "grid_column": null,
            "overflow_y": null,
            "overflow_x": null,
            "grid_auto_flow": null,
            "grid_area": null,
            "grid_template_columns": null,
            "flex": null,
            "_model_name": "LayoutModel",
            "justify_items": null,
            "grid_row": null,
            "max_height": null,
            "align_content": null,
            "visibility": null,
            "align_self": null,
            "height": null,
            "min_height": null,
            "padding": null,
            "grid_auto_rows": null,
            "grid_gap": null,
            "max_width": null,
            "order": null,
            "_view_module_version": "1.2.0",
            "grid_template_areas": null,
            "object_position": null,
            "object_fit": null,
            "grid_auto_columns": null,
            "margin": null,
            "display": null,
            "left": null
          }
        },
        "29175186a6c94545b1cf50d7fdd7bd53": {
          "model_module": "@jupyter-widgets/output",
          "model_name": "OutputModel",
          "state": {
            "_view_name": "OutputView",
            "msg_id": "",
            "_dom_classes": [],
            "_model_name": "OutputModel",
            "outputs": [
              {
                "output_type": "display_data",
                "metadata": {
                  "tags": []
                },
                "image/png": "iVBORw0KGgoAAAANSUhEUgAAAnYAAAH1CAYAAAB7mLMSAAAABHNCSVQICAgIfAhkiAAAAAlwSFlz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\nrkJggg==\n",
                "text/plain": "<Figure size 720x576 with 1 Axes>"
              }
            ],
            "_view_module": "@jupyter-widgets/output",
            "_model_module_version": "1.0.0",
            "_view_count": null,
            "_view_module_version": "1.0.0",
            "layout": "IPY_MODEL_7698ab2da8f04f6da1c10b03e7a463f2",
            "_model_module": "@jupyter-widgets/output"
          }
        },
        "06eb1f4f26ae49a28df3e40b99bccc93": {
          "model_module": "@jupyter-widgets/controls",
          "model_name": "HBoxModel",
          "state": {
            "_view_name": "HBoxView",
            "_dom_classes": [],
            "_model_name": "HBoxModel",
            "_view_module": "@jupyter-widgets/controls",
            "_model_module_version": "1.5.0",
            "_view_count": null,
            "_view_module_version": "1.5.0",
            "box_style": "",
            "layout": "IPY_MODEL_23759bd07f3f44c6b03c7bbe1742ab8e",
            "_model_module": "@jupyter-widgets/controls",
            "children": [
              "IPY_MODEL_97ab13add76246f295da5463d71758fa",
              "IPY_MODEL_15461ef32f4b49ba93bf7bea0c73a894"
            ]
          }
        },
        "23759bd07f3f44c6b03c7bbe1742ab8e": {
          "model_module": "@jupyter-widgets/base",
          "model_name": "LayoutModel",
          "state": {
            "_view_name": "LayoutView",
            "grid_template_rows": null,
            "right": null,
            "justify_content": null,
            "_view_module": "@jupyter-widgets/base",
            "overflow": null,
            "_model_module_version": "1.2.0",
            "_view_count": null,
            "flex_flow": null,
            "width": null,
            "min_width": null,
            "border": null,
            "align_items": null,
            "bottom": null,
            "_model_module": "@jupyter-widgets/base",
            "top": null,
            "grid_column": null,
            "overflow_y": null,
            "overflow_x": null,
            "grid_auto_flow": null,
            "grid_area": null,
            "grid_template_columns": null,
            "flex": null,
            "_model_name": "LayoutModel",
            "justify_items": null,
            "grid_row": null,
            "max_height": null,
            "align_content": null,
            "visibility": null,
            "align_self": null,
            "height": null,
            "min_height": null,
            "padding": null,
            "grid_auto_rows": null,
            "grid_gap": null,
            "max_width": null,
            "order": null,
            "_view_module_version": "1.2.0",
            "grid_template_areas": null,
            "object_position": null,
            "object_fit": null,
            "grid_auto_columns": null,
            "margin": null,
            "display": null,
            "left": null
          }
        },
        "97ab13add76246f295da5463d71758fa": {
          "model_module": "@jupyter-widgets/controls",
          "model_name": "DropdownModel",
          "state": {
            "_options_labels": [
              "1",
              "2",
              "3"
            ],
            "_view_name": "DropdownView",
            "style": "IPY_MODEL_f180752824824f219d40fe640e9fa19b",
            "_dom_classes": [],
            "description": "Kernel:",
            "_model_name": "DropdownModel",
            "index": 2,
            "_view_module": "@jupyter-widgets/controls",
            "_model_module_version": "1.5.0",
            "_view_count": null,
            "disabled": false,
            "_view_module_version": "1.5.0",
            "description_tooltip": null,
            "_model_module": "@jupyter-widgets/controls",
            "layout": "IPY_MODEL_1f32b5b6eba3486b8c40f9e24e2d9c7c"
          }
        },
        "15461ef32f4b49ba93bf7bea0c73a894": {
          "model_module": "@jupyter-widgets/controls",
          "model_name": "FloatSliderModel",
          "state": {
            "_view_name": "FloatSliderView",
            "style": "IPY_MODEL_c46e2ae1813845049e8f9ba4345274ad",
            "_dom_classes": [],
            "description": "band width",
            "step": 0.1,
            "_model_name": "FloatSliderModel",
            "orientation": "horizontal",
            "max": 10,
            "_view_module": "@jupyter-widgets/controls",
            "_model_module_version": "1.5.0",
            "value": 1.7,
            "_view_count": null,
            "disabled": false,
            "_view_module_version": "1.5.0",
            "min": 0.1,
            "continuous_update": true,
            "readout_format": ".2f",
            "description_tooltip": null,
            "readout": true,
            "_model_module": "@jupyter-widgets/controls",
            "layout": "IPY_MODEL_86c16e874a204c72b48eeb122e9bb258"
          }
        },
        "f180752824824f219d40fe640e9fa19b": {
          "model_module": "@jupyter-widgets/controls",
          "model_name": "DescriptionStyleModel",
          "state": {
            "_view_name": "StyleView",
            "_model_name": "DescriptionStyleModel",
            "description_width": "",
            "_view_module": "@jupyter-widgets/base",
            "_model_module_version": "1.5.0",
            "_view_count": null,
            "_view_module_version": "1.2.0",
            "_model_module": "@jupyter-widgets/controls"
          }
        },
        "1f32b5b6eba3486b8c40f9e24e2d9c7c": {
          "model_module": "@jupyter-widgets/base",
          "model_name": "LayoutModel",
          "state": {
            "_view_name": "LayoutView",
            "grid_template_rows": null,
            "right": null,
            "justify_content": null,
            "_view_module": "@jupyter-widgets/base",
            "overflow": null,
            "_model_module_version": "1.2.0",
            "_view_count": null,
            "flex_flow": null,
            "width": null,
            "min_width": null,
            "border": null,
            "align_items": null,
            "bottom": null,
            "_model_module": "@jupyter-widgets/base",
            "top": null,
            "grid_column": null,
            "overflow_y": null,
            "overflow_x": null,
            "grid_auto_flow": null,
            "grid_area": null,
            "grid_template_columns": null,
            "flex": null,
            "_model_name": "LayoutModel",
            "justify_items": null,
            "grid_row": null,
            "max_height": null,
            "align_content": null,
            "visibility": null,
            "align_self": null,
            "height": null,
            "min_height": null,
            "padding": null,
            "grid_auto_rows": null,
            "grid_gap": null,
            "max_width": null,
            "order": null,
            "_view_module_version": "1.2.0",
            "grid_template_areas": null,
            "object_position": null,
            "object_fit": null,
            "grid_auto_columns": null,
            "margin": null,
            "display": null,
            "left": null
          }
        },
        "c46e2ae1813845049e8f9ba4345274ad": {
          "model_module": "@jupyter-widgets/controls",
          "model_name": "SliderStyleModel",
          "state": {
            "_view_name": "StyleView",
            "handle_color": null,
            "_model_name": "SliderStyleModel",
            "description_width": "",
            "_view_module": "@jupyter-widgets/base",
            "_model_module_version": "1.5.0",
            "_view_count": null,
            "_view_module_version": "1.2.0",
            "_model_module": "@jupyter-widgets/controls"
          }
        },
        "86c16e874a204c72b48eeb122e9bb258": {
          "model_module": "@jupyter-widgets/base",
          "model_name": "LayoutModel",
          "state": {
            "_view_name": "LayoutView",
            "grid_template_rows": null,
            "right": null,
            "justify_content": null,
            "_view_module": "@jupyter-widgets/base",
            "overflow": null,
            "_model_module_version": "1.2.0",
            "_view_count": null,
            "flex_flow": null,
            "width": null,
            "min_width": null,
            "border": null,
            "align_items": null,
            "bottom": null,
            "_model_module": "@jupyter-widgets/base",
            "top": null,
            "grid_column": null,
            "overflow_y": null,
            "overflow_x": null,
            "grid_auto_flow": null,
            "grid_area": null,
            "grid_template_columns": null,
            "flex": null,
            "_model_name": "LayoutModel",
            "justify_items": null,
            "grid_row": null,
            "max_height": null,
            "align_content": null,
            "visibility": null,
            "align_self": null,
            "height": null,
            "min_height": null,
            "padding": null,
            "grid_auto_rows": null,
            "grid_gap": null,
            "max_width": null,
            "order": null,
            "_view_module_version": "1.2.0",
            "grid_template_areas": null,
            "object_position": null,
            "object_fit": null,
            "grid_auto_columns": null,
            "margin": null,
            "display": null,
            "left": null
          }
        },
        "a77baf4bf03d46ae8f82ae38f65cc604": {
          "model_module": "@jupyter-widgets/output",
          "model_name": "OutputModel",
          "state": {
            "_view_name": "OutputView",
            "msg_id": "",
            "_dom_classes": [],
            "_model_name": "OutputModel",
            "outputs": [
              {
                "output_type": "stream",
                "metadata": {
                  "tags": []
                },
                "text": "1.7 3\n",
                "stream": "stdout"
              },
              {
                "output_type": "display_data",
                "metadata": {
                  "tags": []
                },
                "image/png": "iVBORw0KGgoAAAANSUhEUgAAAnYAAAH1CAYAAAB7mLMSAAAABHNCSVQICAgIfAhkiAAAAAlwSFlz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\nTkSuQmCC\n",
                "text/plain": "<Figure size 720x576 with 1 Axes>"
              }
            ],
            "_view_module": "@jupyter-widgets/output",
            "_model_module_version": "1.0.0",
            "_view_count": null,
            "_view_module_version": "1.0.0",
            "layout": "IPY_MODEL_164d34943f694aa3822b38dbec1b9aa5",
            "_model_module": "@jupyter-widgets/output"
          }
        }
      }
    }
  },
  "cells": [
    {
      "cell_type": "markdown",
      "metadata": {
        "id": "view-in-github",
        "colab_type": "text"
      },
      "source": [
        "<a href=\"https://colab.research.google.com/github/fbeilstein/machine_learning/blob/master/lecture_13_kernel_density_estimation.ipynb\" target=\"_parent\"><img src=\"https://colab.research.google.com/assets/colab-badge.svg\" alt=\"Open In Colab\"/></a>"
      ]
    },
    {
      "cell_type": "markdown",
      "metadata": {
        "id": "BJ-DUq6MoqWc",
        "colab_type": "text"
      },
      "source": [
        "#Kernel density estimation / Ядрова оцінка густини розподілу"
      ]
    },
    {
      "cell_type": "markdown",
      "metadata": {
        "id": "gZYadnN3sfQi",
        "colab_type": "text"
      },
      "source": [
        "**K**ernel **D**ensity **E**stimation (KDE) is a technique for estimation of probability distribution of the random variable.\n",
        "Before we had two instruments for that:\n",
        "* histograms to capture emphirical frequencies to approximate underlying probability distribution;\n",
        "* guessing a family of probability distributions that the data probably follows and estimating parameters (using MLE) of a most fit of these distributions.\n",
        "\n",
        "KDE is another option for us. It can be seen as an extention of the histogram technique."
      ]
    },
    {
      "cell_type": "markdown",
      "metadata": {
        "id": "g2i9dmgzT0jN",
        "colab_type": "text"
      },
      "source": [
        "#Motivating KDE: Histograms"
      ]
    },
    {
      "cell_type": "markdown",
      "metadata": {
        "id": "3lzFBpANoxck",
        "colab_type": "text"
      },
      "source": [
        "Although histograms are useful and widely used it's also true that\n",
        "\n",
        "$$\n",
        "\\text{Histograms are trickier than they seem.}\n",
        "$$\n",
        "\n",
        "The bins sizes and location could be chosen in many ways. This can drastically change the overall shape of the histogram."
      ]
    },
    {
      "cell_type": "code",
      "metadata": {
        "id": "FgTGp-GsT13k",
        "colab_type": "code",
        "outputId": "064a4be7-a2d8-40e7-bd4c-622fb936501c",
        "colab": {
          "base_uri": "https://localhost:8080/",
          "height": 274
        }
      },
      "source": [
        "%matplotlib inline\n",
        "import matplotlib.pyplot as plt\n",
        "import seaborn as sns; sns.set()\n",
        "import numpy as np\n",
        "\n",
        "def make_data(N, f=0.3, rseed=1):\n",
        "  rand = np.random.RandomState(rseed)\n",
        "  x = rand.randn(N)\n",
        "  x[int(f * N):] += 5\n",
        "  return x\n",
        "\n",
        "x = make_data(1000)\n",
        "hist = plt.hist(x, bins=30, density=True)"
      ],
      "execution_count": 0,
      "outputs": [
        {
          "output_type": "display_data",
          "data": {
            "image/png": "[encoded data removed]",
            "text/plain": [
              "<Figure size 432x288 with 1 Axes>"
            ]
          },
          "metadata": {
            "tags": []
          }
        }
      ]
    },
    {
      "cell_type": "code",
      "metadata": {
        "id": "wybFbOtjtMuS",
        "colab_type": "code",
        "outputId": "6fd9e0e2-0aeb-4716-8240-7c80a2060a7e",
        "colab": {
          "base_uri": "https://localhost:8080/",
          "height": 34
        }
      },
      "source": [
        "# histogram is normed = area equa to 1\n",
        "density, bins, patches = hist\n",
        "widths = bins[1:] - bins[:-1]\n",
        "(density * widths).sum()"
      ],
      "execution_count": 0,
      "outputs": [
        {
          "output_type": "execute_result",
          "data": {
            "text/plain": [
              "1.0"
            ]
          },
          "metadata": {
            "tags": []
          },
          "execution_count": 6
        }
      ]
    },
    {
      "cell_type": "markdown",
      "metadata": {
        "id": "bLtxb-45122v",
        "colab_type": "text"
      },
      "source": [
        "The issue is that depending on the bins the histograms may have different *qualitive* features. Consider this."
      ]
    },
    {
      "cell_type": "code",
      "metadata": {
        "id": "BgtT92WP1Y26",
        "colab_type": "code",
        "outputId": "3581bdbe-4723-4cbb-ffde-cc94afae90c9",
        "colab": {
          "base_uri": "https://localhost:8080/",
          "height": 274
        }
      },
      "source": [
        "x = make_data(20)\n",
        "bins = np.linspace(-5, 10, 10)\n",
        "fig, ax = plt.subplots(1, 2, figsize=(12, 4), sharex=True, sharey=True, subplot_kw={'xlim':(-4, 9), 'ylim':(-0.02, 0.3)})\n",
        "fig.subplots_adjust(wspace=0.05)\n",
        "for i, offset in enumerate([0.0, 0.6]):\n",
        "  ax[i].hist(x, bins=bins + offset, density=True)\n",
        "  ax[i].plot(x, np.full_like(x, -0.01), '|k', markeredgewidth=1)\n",
        "  \n"
      ],
      "execution_count": 0,
      "outputs": [
        {
          "output_type": "display_data",
          "data": {
            "image/png": "[encoded data removed]",
            "text/plain": [
              "<Figure size 864x288 with 2 Axes>"
            ]
          },
          "metadata": {
            "tags": []
          }
        }
      ]
    },
    {
      "cell_type": "markdown",
      "metadata": {
        "id": "aAoW_Glkphhh",
        "colab_type": "text"
      },
      "source": [
        "So it the underlying distribution bimodal or unimodal?\n",
        "\n",
        "---\n",
        "\n",
        "**Sidenote** \n",
        "\n",
        "---\n",
        "\n",
        "On the above picture we have used **a rug plot** -- a plot of data for a single quantitative variable, displayed as marks along an axis. As such it is analogous to a histogram with zero-width bins, or a one-dimensional scatter plot.\n",
        "Rug plots are often used in combination with two-dimensional scatter plots by placing a rug plot of the x values of the data along the x-axis, and similarly for the y values. This is the origin of the term \"rug plot\", as these rug plots with perpendicular markers look like tassels along the edges of the rectangular \"rug\" of the scatter plot.\n",
        "\n",
        "---\n",
        "\n",
        "We can try to solve the problem with the ambiguity of the bin choice by the following idea.\n",
        "You can rethink histogram as square blocks stacked on each other. Each block represents one point of data. If several datapoints are contained within one bin their blocks are placed one at the top of the other."
      ]
    },
    {
      "cell_type": "code",
      "metadata": {
        "id": "nlOSSBRl155E",
        "colab_type": "code",
        "outputId": "a2ffb0d3-9471-4d68-ca35-41e4c912160a",
        "colab": {
          "base_uri": "https://localhost:8080/",
          "height": 274
        }
      },
      "source": [
        "fig, ax = plt.subplots()\n",
        "bins = np.arange(-3, 8)\n",
        "ax.plot(x, np.full_like(x, -0.1), '|k', markeredgewidth=1)\n",
        "for count, edge in zip(*np.histogram(x, bins)):\n",
        "  for i in range(count):\n",
        "    ax.add_patch(plt.Rectangle((edge, i), 1, 1, alpha=0.5))\n",
        "    ax.set_xlim(-4, 8)\n",
        "    ax.set_ylim(-0.2, 8)"
      ],
      "execution_count": 0,
      "outputs": [
        {
          "output_type": "display_data",
          "data": {
            "image/png": "[encoded data removed]",
            "text/plain": [
              "<Figure size 432x288 with 1 Axes>"
            ]
          },
          "metadata": {
            "tags": []
          }
        }
      ]
    },
    {
      "cell_type": "markdown",
      "metadata": {
        "id": "yn5kCMDVpuIa",
        "colab_type": "text"
      },
      "source": [
        "But what if we placed each block so its center is just below the point it represents."
      ]
    },
    {
      "cell_type": "code",
      "metadata": {
        "id": "PmaIt2FW2XD9",
        "colab_type": "code",
        "outputId": "29fca3e3-6bf5-400f-9cf8-db443c4db1a6",
        "colab": {
          "base_uri": "https://localhost:8080/",
          "height": 274
        }
      },
      "source": [
        "x_d = np.linspace(-4, 8, 2000)\n",
        "density = sum((abs(xi - x_d) < 0.5) for xi in x)\n",
        "plt.fill_between(x_d, density, alpha=0.5)\n",
        "plt.plot(x, np.full_like(x, -0.1), '|k', markeredgewidth=1)\n",
        "plt.axis([-4, 8, -0.2, 8]);"
      ],
      "execution_count": 0,
      "outputs": [
        {
          "output_type": "display_data",
          "data": {
            "image/png": "[encoded data removed]",
            "text/plain": [
              "<Figure size 432x288 with 1 Axes>"
            ]
          },
          "metadata": {
            "tags": []
          }
        }
      ]
    },
    {
      "cell_type": "markdown",
      "metadata": {
        "id": "C7LI-9YHtiZZ",
        "colab_type": "text"
      },
      "source": [
        "Analytically this can be seen as if we have placed a \"square\" function (kernel) centered at each point and then we have summed all the functions up.\n",
        "\n",
        "![](https://raw.githubusercontent.com/fbeilstein/machine_learning/master/lecture_13/tophat.png) \n",
        "\n",
        "<br>\n",
        "\n",
        "This type of kernel is called top hat as it recalls a flat-crowned hat (aka cylinder - another term that is both a hat and a math object). The length of the kernel function has not have to be equal to the height.\n",
        "\n",
        "<br>\n",
        "\n",
        "![](https://raw.githubusercontent.com/fbeilstein/machine_learning/master/lecture_13/hat.png) \n",
        "\n",
        "<br>\n",
        "\n",
        "Now to make things not so \"right angled\" we can sum up smooth functions (for example Gaussians) instead of rectangular shapes (top hats)."
      ]
    },
    {
      "cell_type": "code",
      "metadata": {
        "id": "0NuMPFTb2k4v",
        "colab_type": "code",
        "outputId": "dfbb187a-ee23-46d8-a381-e456b9b2d09e",
        "colab": {
          "base_uri": "https://localhost:8080/",
          "height": 274
        }
      },
      "source": [
        "from scipy.stats import norm\n",
        "\n",
        "x_d = np.linspace(-4, 8, 1000)\n",
        "density = sum(norm(xi).pdf(x_d) for xi in x)\n",
        "plt.fill_between(x_d, density, alpha=0.5)\n",
        "plt.plot(x, np.full_like(x, -0.1), '|k', markeredgewidth=1)\n",
        "plt.axis([-4, 8, -0.2, 5]);\n",
        "\n",
        "# a Gaussian kernel"
      ],
      "execution_count": 0,
      "outputs": [
        {
          "output_type": "display_data",
          "data": {
            "image/png": "[encoded data removed]",
            "text/plain": [
              "<Figure size 432x288 with 1 Axes>"
            ]
          },
          "metadata": {
            "tags": []
          }
        }
      ]
    },
    {
      "cell_type": "markdown",
      "metadata": {
        "id": "UKtTyenQ21oM",
        "colab_type": "text"
      },
      "source": [
        "#Kernel Density Estimation "
      ]
    },
    {
      "cell_type": "markdown",
      "metadata": {
        "id": "spIbstS6H-qt",
        "colab_type": "text"
      },
      "source": [
        "In order to do KDE we need to make our mind about two things:\n",
        "  * kernel, which specifies the shape of the distribution placed at each point\n",
        "  * kernel bandwidth, which controls the size of the kernel at each point\n"
      ]
    },
    {
      "cell_type": "markdown",
      "metadata": {
        "id": "mmMie2p4_Nr0",
        "colab_type": "text"
      },
      "source": [
        "##Choosing kernel"
      ]
    },
    {
      "cell_type": "markdown",
      "metadata": {
        "id": "RU6-AjKD_S15",
        "colab_type": "text"
      },
      "source": [
        "On every data point $x_i$ we place a *kernel* function $K$. The kernel density estimate is then\n",
        "\n",
        "$$\n",
        "\\hat{f}_h(x)=\\frac{1}{Nh}\\sum_{i=1}^N K\\left(\\frac{x-x_i}{h}\\right),\n",
        "$$\n",
        "\n",
        "where $h$ is the scaling parameter caled *bandwidth*.\n",
        "\n",
        "In fact we can subtitute equal factors of $1/N$ with weights that can emphasize one points against the others:\n",
        "\n",
        "$$\n",
        "\\begin{aligned}\n",
        "& \\hat{f}_h(x)=\\frac{1}{h}\\sum_{i=1}^N w_i \\cdot K\\left(\\frac{x-x_i}{h}\\right), \\\\\n",
        "&\\sum_{i=1}^N w_i=1.\n",
        "\\end{aligned}\n",
        "$$\n",
        "\n",
        "The kernel function is typically\n",
        "* non-negative: $K(x) \\geq 0$;\n",
        "* symmetric: $\\,\\,\\,\\,\\, K(x)=K(-x)$;\n",
        "* decreasing: $\\,\\,\\,\\, K'(x)\\leq 0$;\n",
        "* $\\int K(x)dx=1$.\n",
        "\n",
        "$K$ has either compact support or decrease sufficiently fast approaching infinity.\n",
        "\n",
        "In the multivariate case (with $d$ dimensions) we have\n",
        "\n",
        "$$\n",
        "\\hat{f}_h(x)=\\frac{1}{Nh^d}\\sum_{i=1}^N K\\left(\\frac{\\|x-x_i\\|}{h}\\right),\n",
        "$$\n",
        "\n",
        "where $\\|\\cdot \\|$ is a some kind of norm, for example $p$-norm\n",
        "\n",
        "$$ \n",
        "\\|x\\|_p = \\left(\\sum_i |x_i|^p \\right)^{1/p}\n",
        "$$\n",
        "\n",
        "Although it's fun to see how the choise of kernel and metric affects the outcome,  it doesn't matter so much when there are lots of points.\n",
        "\n",
        "Nonetheless, what are our options when choosing the kernels?"
      ]
    },
    {
      "cell_type": "code",
      "metadata": {
        "id": "4R5k0DYyy0nl",
        "colab_type": "code",
        "outputId": "78b81d40-54ec-467f-99d1-f84042c624e6",
        "cellView": "form",
        "colab": {
          "base_uri": "https://localhost:8080/",
          "height": 393
        }
      },
      "source": [
        "#@title Available kernels\n",
        "\n",
        "import numpy as np\n",
        "import matplotlib\n",
        "import matplotlib.pyplot as plt\n",
        "from distutils.version import LooseVersion\n",
        "from scipy.stats import norm\n",
        "from sklearn.neighbors import KernelDensity\n",
        "\n",
        "\n",
        "X_plot = np.linspace(-6, 6, 1000)[:, None]\n",
        "X_src = np.zeros((1, 1))\n",
        "\n",
        "fig, ax = plt.subplots(2, 3, sharex=True, sharey=True, figsize=(10, 6))\n",
        "fig.subplots_adjust(left=0.05, right=0.95, hspace=0.05, wspace=0.05)\n",
        "\n",
        "\n",
        "def format_func(x, loc):\n",
        "    if x == 0:\n",
        "        return '0'\n",
        "    elif x == 1:\n",
        "        return 'h'\n",
        "    elif x == -1:\n",
        "        return '-h'\n",
        "    else:\n",
        "        return '%ih' % x\n",
        "\n",
        "for i, kernel in enumerate(['gaussian', 'tophat', 'epanechnikov',\n",
        "                            'exponential', 'linear', 'cosine']):\n",
        "    axi = ax.ravel()[i]\n",
        "    log_dens = KernelDensity(kernel=kernel).fit(X_src).score_samples(X_plot)\n",
        "    axi.fill(X_plot[:, 0], np.exp(log_dens), '-k', fc='#AAAAFF')\n",
        "    axi.text(-2.6, 0.95, kernel)\n",
        "\n",
        "    axi.xaxis.set_major_formatter(plt.FuncFormatter(format_func))\n",
        "    axi.xaxis.set_major_locator(plt.MultipleLocator(1))\n",
        "    axi.yaxis.set_major_locator(plt.NullLocator())\n",
        "\n",
        "    axi.set_ylim(0, 1.05)\n",
        "    axi.set_xlim(-2.9, 2.9)\n",
        "\n",
        "ax[0, 1].set_title('Available Kernels');\n"
      ],
      "execution_count": 0,
      "outputs": [
        {
          "output_type": "display_data",
          "data": {
            "image/png": "[encoded data removed]",
            "text/plain": [
              "<Figure size 720x432 with 6 Axes>"
            ]
          },
          "metadata": {
            "tags": []
          }
        }
      ]
    },
    {
      "cell_type": "markdown",
      "metadata": {
        "id": "VVGzEnOy8qkx",
        "colab_type": "text"
      },
      "source": [
        "$$\n",
        "\\begin{aligned}\n",
        "& K_{\\text{Gausian}}(x;h) && \\propto \\quad e^{-\\frac{x^2}{2h^2}}; \\\\\n",
        "& K_{\\text{Tophat}}(x;h) && \\propto \\quad 1, &&& \\text{if   } \\quad x<h; \\\\\n",
        "& K_{\\text{Epanechnikov}}(x;h) && \\propto \\quad 1-\\frac{x^2}{h^2}; \\\\\n",
        "& K_{\\text{Exponential}}(x;h) && \\propto \\quad e^{-\\frac{x}{h}}; \\\\\n",
        "& K_{\\text{Linear}}(x;h) && \\propto \\quad 1-\\frac{|x|}{h}, &&& \\text{if   } \\quad |x|<h; \\\\\n",
        "& K_{\\text{Cosine}}(x;h) && \\propto \\quad \\cos{\\frac{\\pi x}{2 h}}, &&& \\text{if   } \\quad x<h. \\\\\n",
        "\\end{aligned}\n",
        "$$\n",
        "\n",
        "you can choose those by setting `kernel` parameter:\n",
        "* `kernel = 'gaussian';`\n",
        "* `kernel = 'tophat';`\n",
        "* `kernel = 'epanechnikov';`\n",
        "* `kernel = 'exponential';`\n",
        "* `kernel = 'linear';`\n",
        "* `kernel = 'cosine'.`"
      ]
    },
    {
      "cell_type": "markdown",
      "metadata": {
        "id": "UkuES-PX_H28",
        "colab_type": "text"
      },
      "source": [
        "##Choosing bandwidth"
      ]
    },
    {
      "cell_type": "markdown",
      "metadata": {
        "id": "EWh6vAx9_l39",
        "colab_type": "text"
      },
      "source": [
        "The choice of bandwidth within KDE is extremely important (the bias–variance trade-off).\n",
        "\n",
        "   *  too narrow a bandwidth leads to a high-variance estimate (i.e., overfitting)\n",
        "   * too wide a bandwidth leads to a high-bias estimate (i.e., underfitting)\n",
        "\n",
        "<br>\n",
        "\n",
        "   ![](https://raw.githubusercontent.com/fbeilstein/machine_learning/master/lecture_13/band.png) "
      ]
    },
    {
      "cell_type": "markdown",
      "metadata": {
        "id": "am_w-S6sMY4X",
        "colab_type": "text"
      },
      "source": [
        "###Theoretical considerations"
      ]
    },
    {
      "cell_type": "markdown",
      "metadata": {
        "id": "SXcsA8-Wt3y9",
        "colab_type": "text"
      },
      "source": [
        "The most common optimality criterion used to select this parameter is the expected $L_2$ risk function, also termed the **mean integrated squared error**:\n",
        "\n",
        "$$\\text{MISE}(h)=\\mathbb{E}\\left[\\int \\left(\\hat{f}_h(x)-f(x)\\right)^2 dx \\right].$$\n",
        "\n",
        "Under weak assumptions on $f$ and $K$\n",
        "\n",
        "$$\n",
        "\\text{MISE}(h)=\\text{AMISE}(h)+o\\left(\\frac{1}{Nh}+h^4\\right).\n",
        "$$\n",
        "\n",
        "The $\\text{AMISE}$ is the **A**symptotic **MISE** which consists of the two leading terms\n",
        "\n",
        "$$\n",
        "\\text{AMISE}(h)=\\frac{R(K)}{Nh}+\\frac{1}{4}m_2(K)^2h^4R(f''),\n",
        "$$\n",
        "\n",
        "where $R(g)=\\int g(x)^2 dx$ and $m_2(K)=\\int x^2 K(x) dx$. Thus\n",
        "* $R(g)$ is the functional $L_2$-norm;\n",
        "* $m_2(K)=\\mathbb{E}_K[x^2]$ is the so-called $2$-nd non-central moment of the kernel.\n",
        "\n",
        "The minimum of this $\\text{AMISE}$ is the solution to this differential equation\n",
        "\n",
        "$$\n",
        "\\begin{aligned}\n",
        "& \\frac{\\partial}{\\partial h}\\text{AMISE}(h) =-\\frac{R(K)}{N h^2}+m_2(K)^2h^3R(f'')=0 \\color{red}{\\Rightarrow} \\\\\n",
        "& \\color{red}{\\Rightarrow} \\qquad h_{\\text{AMISE}} =\\frac{R(K)^{1/5}}{m_2(K)^{2/5} R(f'')^{1/5}N^{1/5}}.\n",
        "\\end{aligned}\n",
        "$$\n",
        "\n",
        "Neither the $\\text{AMISE}$ nor the $h_\\text{AMISE}$ formulas are able to be used directly since they involve the unknown density function $f$ or its second derivative $f''$, so a variety of automatic, data-based methods have been developed for selecting the bandwidth."
      ]
    },
    {
      "cell_type": "markdown",
      "metadata": {
        "id": "ikXJjC-IJR7B",
        "colab_type": "text"
      },
      "source": [
        "###Silverman's Rule of Thumb"
      ]
    },
    {
      "cell_type": "markdown",
      "metadata": {
        "id": "F9e1Z4OmJT0W",
        "colab_type": "text"
      },
      "source": [
        "If the data is unimodal and close to normal, silverman’s rule of thumb may be used. It’s computationally very fast, but derived by assuming that the true density is normal. This is somewhat paradoxal, since if we knew that the data was truly normal it would render a kernel density estimator unnecessary.\n",
        "\n",
        "$$\n",
        "h=\\left(\\frac{4}{3}\\frac{\\hat{\\sigma}^5}{N}\\right)^{\\frac{1}{5}}.\n",
        "$$"
      ]
    },
    {
      "cell_type": "markdown",
      "metadata": {
        "id": "501YP8v3J1bf",
        "colab_type": "text"
      },
      "source": [
        "###Improved Sheather-Jones (ISJ) algorithm "
      ]
    },
    {
      "cell_type": "markdown",
      "metadata": {
        "id": "8BSBQb_hJ4oZ",
        "colab_type": "text"
      },
      "source": [
        "If much data is available and the data is far from normal or multimodal, the **I**mproved **S**heather **J**ones (ISJ) algorithm may be used. The Improved Sheather-Jones algorithm is a plug-in selector. \n",
        "\n",
        "The ISJ algorithm attempts to find h to minimize the asymptotic mean integrated square error ($\\text{AMISE}$), which depends on the unknown quantity $\\|f''(x)\\|^2$. Using a recursive formula, this is accomplished by computing a sequence of estimates."
      ]
    },
    {
      "cell_type": "markdown",
      "metadata": {
        "id": "q8stjXouIyTz",
        "colab_type": "text"
      },
      "source": [
        "###Selecting the bandwidth via cross-validation"
      ]
    },
    {
      "cell_type": "markdown",
      "metadata": {
        "id": "Zfi2oWy-JZe7",
        "colab_type": "text"
      },
      "source": [
        ""
      ]
    },
    {
      "cell_type": "code",
      "metadata": {
        "id": "P_6K4w_3Izgz",
        "colab_type": "code",
        "outputId": "f9e39b77-e5b2-4eca-9800-879c83423287",
        "colab": {
          "base_uri": "https://localhost:8080/",
          "height": 34
        }
      },
      "source": [
        "from sklearn.model_selection import learning_curve, GridSearchCV\n",
        "from sklearn.model_selection import LeaveOneOut #train_test_split\n",
        "\n",
        "bandwidths = 10 ** np.linspace(-1, 1, 100)\n",
        "loo = LeaveOneOut()\n",
        "grid = GridSearchCV(KernelDensity(kernel='gaussian'), {'bandwidth': bandwidths}, cv=loo)\n",
        "grid.fit(x[:, None]);\n",
        "grid.best_params_"
      ],
      "execution_count": 0,
      "outputs": [
        {
          "output_type": "execute_result",
          "data": {
            "text/plain": [
              "{'bandwidth': 1.1233240329780276}"
            ]
          },
          "metadata": {
            "tags": []
          },
          "execution_count": 20
        }
      ]
    },
    {
      "cell_type": "markdown",
      "metadata": {
        "id": "JGrdMpBf_vRg",
        "colab_type": "text"
      },
      "source": [
        "#How to use"
      ]
    },
    {
      "cell_type": "code",
      "metadata": {
        "id": "YkXbzJ0IIPu8",
        "colab_type": "code",
        "outputId": "86967f10-9a16-44d1-a1ab-343b3bc452eb",
        "colab": {
          "base_uri": "https://localhost:8080/",
          "height": 291
        }
      },
      "source": [
        "from sklearn.neighbors import KernelDensity\n",
        "# instantiate and fit the KDE model\n",
        "kde = KernelDensity(bandwidth=1.0, kernel='gaussian')\n",
        "kde.fit(x[:, None])\n",
        "# score_samples returns the log of the probability density\n",
        "logprob = kde.score_samples(x_d[:, None])\n",
        "plt.fill_between(x_d, np.exp(logprob), alpha=0.5)\n",
        "plt.plot(x, np.full_like(x, -0.01), '|k', markeredgewidth=1)\n",
        "plt.ylim(-0.02, 0.22)"
      ],
      "execution_count": 0,
      "outputs": [
        {
          "output_type": "execute_result",
          "data": {
            "text/plain": [
              "(-0.02, 0.22)"
            ]
          },
          "metadata": {
            "tags": []
          },
          "execution_count": 16
        },
        {
          "output_type": "display_data",
          "data": {
            "image/png": "[encoded data removed]",
            "text/plain": [
              "<Figure size 432x288 with 1 Axes>"
            ]
          },
          "metadata": {
            "tags": []
          }
        }
      ]
    },
    {
      "cell_type": "markdown",
      "metadata": {
        "id": "_FQr-h66b1Rc",
        "colab_type": "text"
      },
      "source": [
        "# KDE as Mixture Model"
      ]
    },
    {
      "cell_type": "markdown",
      "metadata": {
        "id": "SLNAG4SBb6l2",
        "colab_type": "text"
      },
      "source": [
        "We see that KDE reminds MM taken to the extreme: the number of components we throw into the mix equals the number of points.\n",
        "\n",
        "<br>\n",
        "\n",
        "![](https://raw.githubusercontent.com/fbeilstein/machine_learning/master/lecture_13/mix.png) \n",
        "\n",
        "<br>\n",
        "\n",
        "If the number of point is huge the \"shot noise\" from the individual points becomes negligible and the overall underlying distibution hopefully emerges."
      ]
    },
    {
      "cell_type": "markdown",
      "metadata": {
        "id": "g0l9p82WsLpQ",
        "colab_type": "text"
      },
      "source": [
        "#Gaussian blur"
      ]
    },
    {
      "cell_type": "markdown",
      "metadata": {
        "id": "NluhuiqvsOgO",
        "colab_type": "text"
      },
      "source": [
        "We have seen that histograms may be misleading. Also they are \"grainy\" as they discretize (sample) continuous data. Pdf estimate could be kept smooth by using gaussian KDE.\n",
        "\n",
        "Idea similar to gaussian KDE is involved in Gaussian smoothing of images.\n",
        "In image processing, a Gaussian blur (also known as Gaussian smoothing) is the result of blurring an image by a Gaussian function. It is a widely used effect in graphics software, typically to reduce image noise and reduce detail. A Gaussian blur effect is typically generated by convolving an image with a kernel of Gaussian values. \n",
        "\n",
        "<br>\n",
        "\n",
        "![](https://raw.githubusercontent.com/fbeilstein/machine_learning/master/lecture_13/blur.png) \n",
        "\n",
        "<br>\n",
        "\n",
        "Let's first sample image (keeping $1$ pixel out of $10$ along each dimension). What we get is an analog of a histogram. If we perform a Gaussian blur afterwards we regain some of the smootheness.\n",
        "\n",
        "<br>\n",
        "\n",
        "![](https://raw.githubusercontent.com/fbeilstein/machine_learning/master/lecture_13/lena_1.png) \n",
        "\n",
        "<br>"
      ]
    },
    {
      "cell_type": "markdown",
      "metadata": {
        "id": "Im1uI0JtK-WE",
        "colab_type": "text"
      },
      "source": [
        "#Example: KDE on a Sphere"
      ]
    },
    {
      "cell_type": "markdown",
      "metadata": {
        "id": "T9vRb2sc9XHB",
        "colab_type": "text"
      },
      "source": [
        "Perhaps the most common use of KDE is in graphically representing distributions of points. For example, in the `Seaborn visualization library` KDE is built in and automatically used to help visualize points in one and two dimensions.\n",
        "Here we will look at a slightly more sophisticated use of KDE for visualization of distributions. We will make use of some geographic data that can be loaded with `ScikitLearn`: the geographic distributions of recorded observations of two South American mammals, *Bradypus variegatus* (the brown-throated sloth) and *Microryzomys minutus* (the forest small rice rat).\n",
        "\n",
        "<br>\n",
        "\n",
        "![](https://raw.githubusercontent.com/fbeilstein/machine_learning/master/lecture_13/anim.png) \n",
        "\n"
      ]
    },
    {
      "cell_type": "code",
      "metadata": {
        "id": "-k347bdQU5zu",
        "colab_type": "code",
        "outputId": "3126c0c2-7834-4731-8005-32deece4a8fa",
        "colab": {
          "base_uri": "https://localhost:8080/",
          "height": 34
        }
      },
      "source": [
        "import numpy as np\n",
        "\n",
        "!sudo apt-get install libgeos-dev > /dev/null\n",
        "!sudo pip3 install -U git+https://github.com/matplotlib/basemap.git > /dev/null\n",
        "from sklearn.datasets import fetch_species_distributions\n",
        "data = fetch_species_distributions();\n",
        "# Get matrices/arrays of species IDs and locations\n",
        "latlon = np.vstack([data.train['dd lat'], data.train['dd long']]).T\n",
        "species = np.array([d.decode('ascii').startswith('micro') for d in data.train['species']], dtype='int')"
      ],
      "execution_count": 0,
      "outputs": [
        {
          "output_type": "stream",
          "text": [
            "  Running command git clone -q https://github.com/matplotlib/basemap.git /tmp/pip-req-build-dy6g376t\n"
          ],
          "name": "stdout"
        }
      ]
    },
    {
      "cell_type": "code",
      "metadata": {
        "id": "ht6ErJtEUd7W",
        "colab_type": "code",
        "outputId": "cacf4e45-2b21-4498-e72f-4369b0b18145",
        "colab": {
          "base_uri": "https://localhost:8080/",
          "height": 260
        }
      },
      "source": [
        "from mpl_toolkits.basemap import Basemap\n",
        "from sklearn.datasets.species_distributions import construct_grids\n",
        "xgrid, ygrid = construct_grids(data)\n",
        "\n",
        "# plot coastlines with Basemap\n",
        "m = Basemap(projection='cyl', resolution='c', llcrnrlat=ygrid.min(), urcrnrlat=ygrid.max(), llcrnrlon=xgrid.min(), urcrnrlon=xgrid.max())\n",
        "m.drawmapboundary(fill_color='#DDEEFF')\n",
        "m.fillcontinents(color='#FFEEDD')\n",
        "m.drawcoastlines(color='gray', zorder=2)\n",
        "m.drawcountries(color='gray', zorder=2)\n",
        "\n",
        "# plot locations\n",
        "m.scatter(latlon[:, 1], latlon[:, 0], zorder=3, c=species, cmap='rainbow', latlon=True);"
      ],
      "execution_count": 0,
      "outputs": [
        {
          "output_type": "display_data",
          "data": {
            "image/png": "[encoded data removed]",
            "text/plain": [
              "<Figure size 432x288 with 1 Axes>"
            ]
          },
          "metadata": {
            "tags": []
          }
        }
      ]
    },
    {
      "cell_type": "markdown",
      "metadata": {
        "id": "FtUmpFHM8iyo",
        "colab_type": "text"
      },
      "source": [
        "Unfortunately, this doesn’t give a very good idea of the density of the species, because points in the species range may overlap one another. You may not realize it by looking at this plot, but there are over $1600$ points shown here!\n",
        "Let’s use kernel density estimation to show this distribution in a more interpretable way: as a smooth indication of density on the map. Because the coordinate system here lies on a spherical surface rather than a flat plane, we will use the haversine distance metric, which will correctly represent distances on a curved surface.\n",
        "\n",
        "**Note**:\n",
        "The *haversine formula* determines the great-circle distance between two points on a sphere given their longitudes and latitudes. Important in navigation, it is a special case of a more general formula in spherical trigonometry, the law of haversines, that relates the sides and angles of spherical triangles.\n",
        "\n",
        "$$\n",
        "d=2r\\arcsin{\\sqrt{\\sin^2\\left(\\frac{\\phi_2-\\phi_1}{2}\\right)+\\cos{\\phi_1}\\cdot \\cos{\\phi_2}\\cdot \\sin^2\\left(\\frac{\\lambda_2-\\lambda_1}{2} \\right)}},\n",
        "$$\n",
        "\n",
        "where \n",
        "* $d$ is the distance between the two points along a great circle of the sphere;\n",
        "* $\\phi$ -- latitude of point;\n",
        "* $\\lambda$ -- longitude of point.\n",
        "\n",
        "The term haversine  is due to haversine $\\text{hav}$ function that was used instead of $\\sin$ in the formula.\n",
        "\n",
        "$$\n",
        "\\text{hav}(x)=\\sin^2\\left(\\frac{x}{2}\\right).\n",
        "$$\n",
        "\n",
        "So if we rewrite the formula above using haversine it will read\n",
        "\n",
        "$$\n",
        "\\text{hav}(\\Theta)=\\text{hav}(\\phi_2-\\phi_1)+\\cos{\\phi_1} \\cdot \\cos{\\phi_2} \\cdot \\text{hav}(\\lambda_2-\\lambda_1),\n",
        "$$\n",
        "\n",
        "with $\\Theta=\\frac{d}{r}$ is central angle between any two points on a sphere."
      ]
    },
    {
      "cell_type": "code",
      "metadata": {
        "id": "FmwkQlE4XwLE",
        "colab_type": "code",
        "outputId": "689c9e60-8b12-4dcc-9b03-798d4c58c39c",
        "colab": {
          "base_uri": "https://localhost:8080/",
          "height": 270
        }
      },
      "source": [
        "# Set up the data grid for the contour plot\n",
        "X, Y = np.meshgrid(xgrid[::5], ygrid[::5][::-1])\n",
        "land_reference = data.coverages[6][::5, ::5]\n",
        "land_mask = (land_reference > -9999).ravel()\n",
        "xy = np.vstack([Y.ravel(), X.ravel()]).T\n",
        "xy = np.radians(xy[land_mask])\n",
        "\n",
        "# Create two side-by-side plots\n",
        "fig, ax = plt.subplots(1, 2)\n",
        "fig.subplots_adjust(left=0.05, right=0.95, wspace=0.05)\n",
        "species_names = ['Bradypus Variegatus', 'Microryzomys Minutus']\n",
        "cmaps = ['Purples', 'Reds']\n",
        "\n",
        "for i, axi in enumerate(ax):\n",
        "  axi.set_title(species_names[i])\n",
        "\n",
        "  # plot coastlines with Basemap\n",
        "  m = Basemap(projection='cyl', llcrnrlat=Y.min(), urcrnrlat=Y.max(), llcrnrlon=X.min(), urcrnrlon=X.max(), resolution='c', ax=axi)\n",
        "  m.drawmapboundary(fill_color='#DDEEFF')\n",
        "  m.drawcoastlines()\n",
        "  m.drawcountries()\n",
        "  \n",
        "  # construct a spherical kernel density estimate of the distribution\n",
        "  kde = KernelDensity(bandwidth=0.03, metric='haversine')\n",
        "  kde.fit(np.radians(latlon[species == i]))\n",
        "\n",
        "  # evaluate only on the land: -9999 indicates ocean\n",
        "  Z = np.full(land_mask.shape[0], -9999.0)\n",
        "  Z[land_mask] = np.exp(kde.score_samples(xy))\n",
        "  Z = Z.reshape(X.shape)\n",
        "  \n",
        "  # plot contours of the density\n",
        "  levels = np.linspace(0, Z.max(), 25)\n",
        "  axi.contourf(X, Y, Z, levels=levels, cmap=cmaps[i])  "
      ],
      "execution_count": 0,
      "outputs": [
        {
          "output_type": "display_data",
          "data": {
            "image/png": "[encoded data removed]",
            "text/plain": [
              "<Figure size 432x288 with 2 Axes>"
            ]
          },
          "metadata": {
            "tags": []
          }
        }
      ]
    },
    {
      "cell_type": "markdown",
      "metadata": {
        "id": "6ZtWndy68RsU",
        "colab_type": "text"
      },
      "source": [
        "Now we have a much clearer picture of the geographical distribution of observation of two species.\n",
        "\n"
      ]
    },
    {
      "cell_type": "markdown",
      "metadata": {
        "id": "dMIOJrA8-qJm",
        "colab_type": "text"
      },
      "source": [
        "#Example: Fisher irisis"
      ]
    },
    {
      "cell_type": "markdown",
      "metadata": {
        "id": "oYoPWo8B-J-a",
        "colab_type": "text"
      },
      "source": [
        "Here is another example of nice visualization.\n",
        "\n",
        "<br>\n",
        "\n",
        "![](https://raw.githubusercontent.com/fbeilstein/machine_learning/master/lecture_13/iris.png) "
      ]
    },
    {
      "cell_type": "code",
      "metadata": {
        "id": "WjK03ydaP665",
        "colab_type": "code",
        "outputId": "64493c30-e80e-46c2-8050-c496b114f78c",
        "colab": {
          "base_uri": "https://localhost:8080/",
          "height": 519
        }
      },
      "source": [
        "import seaborn as sns\n",
        "import matplotlib.pyplot as plt\n",
        "\n",
        "sns.set(style=\"darkgrid\")\n",
        "iris = sns.load_dataset(\"iris\")\n",
        "\n",
        "setosa = iris.query(\"species == 'setosa'\")\n",
        "virginica = iris.query(\"species == 'virginica'\")\n",
        "\n",
        "f, ax = plt.subplots(figsize=(8, 8))\n",
        "ax.set_aspect(\"equal\")\n",
        "\n",
        "ax = sns.kdeplot(setosa.sepal_width, setosa.sepal_length,\n",
        "                 cmap=\"Reds\", shade=True, shade_lowest=False)\n",
        "ax = sns.kdeplot(virginica.sepal_width, virginica.sepal_length,\n",
        "                 cmap=\"Blues\", shade=True, shade_lowest=False)\n",
        "\n",
        "red = sns.color_palette(\"Reds\")[-2]\n",
        "blue = sns.color_palette(\"Blues\")[-2]\n",
        "ax.text(2.5, 8.2, \"virginica\", size=16, color=blue)\n",
        "ax.text(3.8, 4.5, \"setosa\", size=16, color=red)"
      ],
      "execution_count": 0,
      "outputs": [
        {
          "output_type": "execute_result",
          "data": {
            "text/plain": [
              "Text(3.8, 4.5, 'setosa')"
            ]
          },
          "metadata": {
            "tags": []
          },
          "execution_count": 3
        },
        {
          "output_type": "display_data",
          "data": {
            "image/png": "[encoded data removed]",
            "text/plain": [
              "<Figure size 576x576 with 1 Axes>"
            ]
          },
          "metadata": {
            "tags": []
          }
        }
      ]
    },
    {
      "cell_type": "markdown",
      "metadata": {
        "id": "7k45DaaLYONo",
        "colab_type": "text"
      },
      "source": [
        "#Example: Not-So-Naive Bayes"
      ]
    },
    {
      "cell_type": "markdown",
      "metadata": {
        "id": "BJxcMR1ofrXE",
        "colab_type": "text"
      },
      "source": [
        "For naive Bayes, the generative model is a simple axis-aligned Gaussian.\n",
        "With a density estimation algorithm like KDE, we can remove the “naive” element and perform the same classification with a more sophisticated generative model for each class.\n",
        "It’s still Bayesian classification, but it’s no longer naive."
      ]
    },
    {
      "cell_type": "markdown",
      "metadata": {
        "id": "tQKL5Dj5f6R2",
        "colab_type": "text"
      },
      "source": [
        "1. Split the training data by label.\n",
        "2. For each set, fit a KDE to obtain a generative model of the data.\n",
        "This allows you for any observation x and label y to compute a likelihood $P(x|y)$.\n",
        "3. From the number of examples of each class in the training set, compute the class prior, $P(y)$ .\n",
        "4. For an unknown point x , the posterior probability for each class is $P(y|x)= P(x|y)P(y)$. The class that maximizes this posterior is the label assigned to the point."
      ]
    },
    {
      "cell_type": "markdown",
      "metadata": {
        "id": "1cepwUXc1AWu",
        "colab_type": "text"
      },
      "source": [
        "Let’s try this custom estimator on a problem we have seen before: the classification of handwritten digits. Here we will load the digits, and compute the cross-validation score for a range of candidate bandwidths using the `GridSearchCV` meta-estimator."
      ]
    },
    {
      "cell_type": "code",
      "metadata": {
        "id": "GQ9wdpBgYQIk",
        "colab_type": "code",
        "colab": {}
      },
      "source": [
        "from sklearn.base import BaseEstimator, ClassifierMixin\n",
        "from sklearn.neighbors import KernelDensity\n",
        "\n",
        "# BaseEstimator contains the logic necessary to clone/copy an estimator for use in a crossvalidation procedure\n",
        "# ClassifierMixin defines a default score() method used by such routines\n",
        "class KDEClassifier(BaseEstimator, ClassifierMixin):\n",
        "  \"\"\"Bayesian generative classification based on KDE\n",
        "  Parameters\n",
        "  ----------\n",
        "  bandwidth : float\n",
        "  the kernel bandwidth within each class\n",
        "  kernel : str\n",
        "  the kernel name, passed to KernelDensity\n",
        "  \"\"\"\n",
        "  def __init__(self, bandwidth=1.0, kernel='gaussian'):\n",
        "    self.bandwidth = bandwidth\n",
        "    self.kernel = kernel\n",
        "  \n",
        "  # find the unique classes in the training data, \n",
        "  # train a KernelDensity model for each class, \n",
        "  # compute the class priors based on the number of input samples.\n",
        "  def fit(self, X, y):\n",
        "    self.classes_ = np.sort(np.unique(y))\n",
        "    training_sets = [X[y == yi] for yi in self.classes_]\n",
        "    self.models_ = [KernelDensity(bandwidth=self.bandwidth, kernel=self.kernel).fit(Xi) for Xi in training_sets]\n",
        "    self.logpriors_ = [np.log(Xi.shape[0] / X.shape[0]) for Xi in training_sets]\n",
        "    return self # for chaining\n",
        "  \n",
        "  # predicting labels on new data\n",
        "  def predict_proba(self, X):\n",
        "    logprobs = np.array([model.score_samples(X) for model in self.models_]).T\n",
        "    result = np.exp(logprobs + self.logpriors_)\n",
        "    return result / result.sum(1, keepdims=True)\n",
        "  \n",
        "  def predict(self, X):\n",
        "    return self.classes_[np.argmax(self.predict_proba(X), 1)]"
      ],
      "execution_count": 0,
      "outputs": []
    },
    {
      "cell_type": "markdown",
      "metadata": {
        "id": "XrghJcTc0Vr1",
        "colab_type": "text"
      },
      "source": [
        "We now use this class."
      ]
    },
    {
      "cell_type": "code",
      "metadata": {
        "id": "gsqvNFAHm1Rn",
        "colab_type": "code",
        "colab": {}
      },
      "source": [
        "from sklearn.datasets import load_digits\n",
        "from sklearn.model_selection import GridSearchCV\n",
        "\n",
        "digits = load_digits()\n",
        "bandwidths = 10 ** np.linspace(0, 2, 100)\n",
        "grid = GridSearchCV(KDEClassifier(), {'bandwidth': bandwidths}, cv=3)\n",
        "grid.fit(digits.data, digits.target)\n",
        "scores = grid.cv_results_['mean_test_score']"
      ],
      "execution_count": 0,
      "outputs": []
    },
    {
      "cell_type": "code",
      "metadata": {
        "id": "Gtbz5bE0sL4I",
        "colab_type": "code",
        "outputId": "b535c305-2b20-45b7-fa16-a3fd50664e38",
        "colab": {
          "base_uri": "https://localhost:8080/",
          "height": 341
        }
      },
      "source": [
        "plt.semilogx(bandwidths, scores)\n",
        "plt.xlabel('bandwidth')\n",
        "plt.ylabel('accuracy')\n",
        "plt.title('KDE Model Performance')\n",
        "print(grid.best_params_)\n",
        "print('accuracy =', grid.best_score_)"
      ],
      "execution_count": 0,
      "outputs": [
        {
          "output_type": "stream",
          "text": [
            "{'bandwidth': 7.054802310718643}\n",
            "accuracy = 0.9666110183639399\n"
          ],
          "name": "stdout"
        },
        {
          "output_type": "display_data",
          "data": {
            "image/png": "[encoded data removed]",
            "text/plain": [
              "<Figure size 432x288 with 1 Axes>"
            ]
          },
          "metadata": {
            "tags": []
          }
        }
      ]
    },
    {
      "cell_type": "markdown",
      "metadata": {
        "id": "9RlumF2e1K3B",
        "colab_type": "text"
      },
      "source": [
        "We see that this not-so-naive Bayesian classifier reaches a cross-validation accuracy of just over $96\\%$; this is compared to around $80\\%$ for the naive Bayesian classification:\n"
      ]
    },
    {
      "cell_type": "code",
      "metadata": {
        "id": "dHkCW0Cks2EB",
        "colab_type": "code",
        "outputId": "c92124bb-f78f-4a1f-df84-51e82c0beb1e",
        "colab": {
          "base_uri": "https://localhost:8080/",
          "height": 34
        }
      },
      "source": [
        "from sklearn.naive_bayes import GaussianNB\n",
        "from sklearn.model_selection import cross_val_score\n",
        "cross_val_score(GaussianNB(), digits.data, digits.target, cv=3).mean()"
      ],
      "execution_count": 0,
      "outputs": [
        {
          "output_type": "execute_result",
          "data": {
            "text/plain": [
              "0.8186003803550138"
            ]
          },
          "metadata": {
            "tags": []
          },
          "execution_count": 22
        }
      ]
    },
    {
      "cell_type": "markdown",
      "metadata": {
        "id": "2khCd84S1XdG",
        "colab_type": "text"
      },
      "source": [
        "One benefit of such a generative classifier is interpretability of results: for each unknown sample, we not only get a probabilistic classification, but a full model of the distribution of points we are comparing it to! If desired, this offers an intuitive window into the reasons for a particular classification that algorithms like SVMs and random forests tend to obscure.\n",
        "If you would like to take this further, there are some improvements that could be made to our KDE classifier model:\n",
        "* We could allow the bandwidth in each class to vary independently.\n",
        "*  We could optimize these bandwidths not based on their prediction score, but on the likelihood of the training data under the generative model within each class (i.e., use the scores from KernelDensity itself rather than the global prediction accuracy)."
      ]
    },
    {
      "cell_type": "markdown",
      "metadata": {
        "id": "PDHneNbciGHf",
        "colab_type": "text"
      },
      "source": [
        "#Interactive KDE"
      ]
    },
    {
      "cell_type": "code",
      "metadata": {
        "id": "EEgY5TRliHyI",
        "colab_type": "code",
        "colab": {}
      },
      "source": [
        "from sklearn.neighbors import KernelDensity\n",
        "# instantiate and fit the KDE model\n",
        "kde = KernelDensity(kernel='gaussian')\n",
        "\n",
        "def fit_distribution(X, bandwidth):\n",
        "  params = {'bandwidth': bandwidth}\n",
        "  kde.set_params(**params)\n",
        "  kde.fit(X)\n",
        "\n",
        "def evaluate_distribution(X):\n",
        "  logprob = kde.score_samples(X)\n",
        "  return np.exp(logprob)"
      ],
      "execution_count": 0,
      "outputs": []
    },
    {
      "cell_type": "code",
      "metadata": {
        "id": "F9MusX0DiPPt",
        "colab_type": "code",
        "cellView": "both",
        "outputId": "2e3d03e9-cc9c-456d-e11f-a8f097b4ad7a",
        "colab": {
          "base_uri": "https://localhost:8080/",
          "height": 617
        }
      },
      "source": [
        "#@title Interactive KDE\n",
        "import numpy as np\n",
        "import matplotlib.pyplot as plt\n",
        "from matplotlib.colors import ListedColormap\n",
        "from matplotlib import cm\n",
        "import seaborn as sns\n",
        "        \n",
        "def plot_clusters(x_, y_, z_):\n",
        "  fig = plt.figure(figsize=(10,10))\n",
        "  ax = fig.gca()\n",
        "  #ax = sns.kdeplot(X[:,0], X[:,1], cmap=\"Blues\", shade=True, shade_lowest=False)\n",
        "  sns.set()\n",
        "  ax.contourf(x_, y_, z_, alpha=0.5, cmap=\"Blues\")\n",
        "  ax.tick_params(axis=\"y\",direction=\"in\", pad=-60)\n",
        "  ax.tick_params(axis=\"x\",direction=\"in\", pad=-30)\n",
        "  ax.set_xticks(np.arange(-.75, 1, .25))\n",
        "  ax.set_yticks(np.arange(-.75, 1, .25))\n",
        "  ax.set_xlim([-1, 1])\n",
        "  ax.set_ylim([-1, 1])\n",
        "\n",
        "\n",
        "  plt.close(fig)\n",
        "\n",
        "  return fig\n",
        "\n",
        "import base64\n",
        "import io\n",
        "\n",
        "def figure_to_base64(fig):\n",
        "  buf = io.BytesIO()\n",
        "  fig.savefig(buf, format='png', bbox_inches='tight', pad_inches=0);\n",
        "  image_base64 = base64.b64encode(buf.getvalue()).decode('utf-8').replace('\\n', '')\n",
        "  buf.close()\n",
        "  return image_base64\n",
        "\n",
        "\n",
        "\n",
        "import json\n",
        "from IPython.display import display, clear_output\n",
        "\n",
        "def invoke(pts, n):\n",
        "  data = np.array(pts).reshape((-1, 2))\n",
        "  X = data / 300.0 - 1.0\n",
        "  X[:, 1] *= -1.0\n",
        "\n",
        "  fit_distribution(X, float(n)/1000.0)\n",
        "  x_ = np.linspace(-1.0, +1.0, num=300)\n",
        "  y_ = np.linspace(-1.0, +1.0, num=300)\n",
        "  xx, yy = np.meshgrid(x_, y_)\n",
        "  x_vec = np.transpose(np.vstack([xx.ravel(), yy.ravel()]))\n",
        "  G  = evaluate_distribution(x_vec).reshape((x_.shape[0],y_.shape[0]))\n",
        "  figr = plot_clusters(x_, y_, G)\n",
        "  image_base64 = figure_to_base64(figr)\n",
        "\n",
        "  return IPython.display.JSON({'image': image_base64, \n",
        "                               'g_x': x_.tolist(), 'g_y': y_.tolist(), 'g_z': G.tolist(),\n",
        "                               's_x': X[:, 0].tolist(), 's_y': X[:, 1].tolist(), 's_z': [0]*len(X)})\n",
        "\n",
        "\n",
        "import IPython\n",
        "from google.colab import output\n",
        "\n",
        "main_str = '''\n",
        "  <script src=\"https://cdn.plot.ly/plotly-latest.min.js\"></script> \n",
        "  <script type=\"application/javascript\">\n",
        "  \n",
        "    var active_pt = null;\n",
        "    var all_pts = [];\n",
        "    var classAbtn = [650, 100];\n",
        "    var classBbtn = [650, 200];\n",
        "    var ptR = 10.0;\n",
        "    var params = null;\n",
        "    var debug_txt = \"\";\n",
        "    var bg_image = new Image();\n",
        "\n",
        "    function is_close(pt1, pt2) {\n",
        "      return   (pt1[0] - pt2[0])*(pt1[0] - pt2[0])\n",
        "            +  (pt1[1] - pt2[1])*(pt1[1] - pt2[1])\n",
        "            <= ptR*ptR;\n",
        "    }\n",
        "  \n",
        "    function circ(ctx, pos) {\n",
        "      ctx.beginPath();\n",
        "      ctx.arc(pos[0], pos[1], ptR, 0.0, 2.0 * Math.PI, 0);\n",
        "      ctx.fillStyle = 'rgba(255, 128, 0, 0.5)';\n",
        "      ctx.fill();\n",
        "    }\n",
        "    \n",
        "    \n",
        "    function draw() {\n",
        "      var canvas = document.getElementById('canvas');\n",
        "      if (canvas.getContext) {\n",
        "        var ctx = canvas.getContext('2d');\n",
        "        \n",
        "        ctx.clearRect(0, 0, canvas.width, canvas.height); // cleanup before start\n",
        "        ctx.drawImage(bg_image, 0, 0, 600, 600);\n",
        "        ctx.strokeRect(0, 0, 600, 600); // field\n",
        "        \n",
        "        ctx.font = '20px serif';\n",
        "        ctx.fillStyle = 'black';\n",
        "        ctx.fillText(debug_txt, 200, 200);\n",
        "        \n",
        "        if (active_pt) {\n",
        "          circ(ctx, [active_pt[0], active_pt[1]]);\n",
        "        }\n",
        "        all_pts.forEach(function (item, index) {\n",
        "          circ(ctx, [item[0], item[1]]);\n",
        "        });\n",
        "\n",
        "      }\n",
        "    }\n",
        "    \n",
        "    var timer\n",
        "\n",
        "    function get_state() {\n",
        "      var rates = document.getElementsByName('rate');\n",
        "      for(var i = 0; i < rates.length; i++)\n",
        "        if(rates[i].checked)\n",
        "          return rates[i].value;\n",
        "      return \"none\";\n",
        "    }\n",
        "\n",
        "    \n",
        "    function mdown_handle(evt) {\n",
        "      evt.stopPropagation();\n",
        "      x = evt.offsetX;\n",
        "      y = evt.offsetY;\n",
        "      state = get_state();\n",
        "      if (state == \"add\") {\n",
        "        if (x < 600)\n",
        "            all_pts.push([x, y]);\n",
        "        return;\n",
        "      }\n",
        "\n",
        "      idx = -1;\n",
        "      all_pts.forEach(function (item, index) {\n",
        "        if (is_close([x,y], [item[0], item[1]])) {\n",
        "          idx = index;\n",
        "        }\n",
        "      });\n",
        "      if (idx <= -1)\n",
        "          return;\n",
        "      if (state == \"move\") {\n",
        "        active_pt = all_pts[idx];\n",
        "        all_pts.splice(idx, 1);\n",
        "      }\n",
        "      if (state == \"del\")\n",
        "          all_pts.splice(idx, 1);\n",
        "    }\n",
        "    \n",
        "    function mmove_handle(evt) {\n",
        "      evt.stopPropagation();\n",
        "      if (get_state() != \"move\")\n",
        "          return;\n",
        "      x = evt.offsetX;\n",
        "      y = evt.offsetY;\n",
        "      if (active_pt) {\n",
        "        active_pt[0] = x;\n",
        "        active_pt[1] = y;\n",
        "      }\n",
        "    }\n",
        "    \n",
        "    function mup_handle(evt) {\n",
        "      evt.stopPropagation();\n",
        "      x = evt.offsetX;\n",
        "      y = evt.offsetY;\n",
        "      if (x >= 600) {\n",
        "        active_pt = null;\n",
        "      }\n",
        "      if (active_pt) {\n",
        "        all_pts.push(active_pt);\n",
        "        active_pt = null;\n",
        "      }\n",
        "    }\n",
        "    \n",
        "    function clear_field() {\n",
        "      active_pt = null;\n",
        "      all_pts = [];\n",
        "    }\n",
        "\n",
        "\n",
        "   function plot_3d(g_x, g_y, g_z)\n",
        "   {\n",
        "     cell_for_plot = document.getElementById('for_plotly_plot');\n",
        "     //Plotly.deleteTraces(cell_for_plot, [0, 1]);\n",
        "     var data = [{\n",
        "           x: g_x,\n",
        "           y: g_y,\n",
        "           z: g_z,\n",
        "           type: 'surface',\n",
        "           opacity: 0.9,\n",
        "           showscale: false,\n",
        "           colorscale: \"Viridis\"\n",
        "        }];\n",
        "  \n",
        "     var layout = {\n",
        "          title: 'pdf estimate',\n",
        "          autosize: false,\n",
        "          width: 600,\n",
        "          height: 600,\n",
        "          showlegend: false,\n",
        "          scene: {\n",
        "            camera: {\n",
        "              up: {x: 0, y: 1, z: 0},\n",
        "              center: {x: 0, y: 0, z: 0},\n",
        "              eye: {x: 0.0, y: -1.0, z: 1.4}\n",
        "            }\n",
        "          }\n",
        "        };\n",
        "     Plotly.newPlot(cell_for_plot, data, layout);\n",
        "   }\n",
        "\n",
        "   function plot_scatter(s_x, s_y, s_z)\n",
        "   {\n",
        "          \n",
        "     cell_for_plot = document.getElementById('for_plotly_plot');\n",
        "     var data = [{\n",
        "           x: s_x,\n",
        "           y: s_y,\n",
        "           z: s_z,\n",
        "           type: 'scatter3d',\n",
        "           mode: 'markers',\n",
        "           marker: {\n",
        "             size: 4,\n",
        "             colorscale: \"Viridis\",\n",
        "             line: {\n",
        "               width: 2,\n",
        "               color: 'rgba(0, 0, 0, 0.5)'\n",
        "             }\n",
        "           }\n",
        "        }];\n",
        "    Plotly.plot(cell_for_plot, data, {});\n",
        "   }\n",
        "\n",
        "\n",
        "    var cur_depth = 100;\n",
        "\n",
        "    async function calculate() {\n",
        "      if (!all_pts)\n",
        "        return;\n",
        "      var merged = [].concat.apply([], all_pts);\n",
        "      const result = await google.colab.kernel.invokeFunction('notebook.InvSVM', [merged, cur_depth], {});\n",
        "      params = result.data['application/json'];\n",
        "            \n",
        "      bg_image.src = 'data:image/  png;base64,' + params.image;\n",
        "      cell_for_plot = document.getElementById('for_plotly_plot');\n",
        "      \n",
        "      plot_3d(params.g_x, params.g_y, params.g_z);\n",
        "      plot_scatter(params.s_x, params.s_y, params.s_z);\n",
        "      \n",
        "    }\n",
        "\n",
        "   function h_change(x) {\n",
        "    el = document.getElementById(\"slider_val\");\n",
        "    cur_depth = x;\n",
        "    el.innerHTML = x;\n",
        "  }\n",
        "\n",
        " </script>\n",
        "\n",
        "<div id=\"everything\" style=\"height:600px;\">\n",
        "<div id=\"for_plotly_plot\" style=\"position:absolute; top:0px; left:0px; height:600px; width:600px;\">\n",
        "</div>\n",
        "<div id=\"custom_controls\" style=\"position:absolute; top:0px; left:600px;\">\n",
        "  <canvas id=\"canvas\" width=\"800\" height=\"600\" \n",
        "    onmousedown=\"mdown_handle(event)\"\n",
        "    onmousemove=\"mmove_handle(event)\"\n",
        "    onmouseup=\"mup_handle(event)\"></canvas>\n",
        "  <div style=\"position:absolute; top:275px; left:625px;\">\n",
        "   <div style=\"border-style: solid;\">\n",
        "    <input type=\"radio\" id=\"r1\" name=\"rate\" value=\"add\" checked=\"checked\"> Add Feature\n",
        "    <br>\n",
        "    <input type=\"radio\" id=\"r2\" name=\"rate\" value=\"move\"> Move Features\n",
        "    <br>\n",
        "    <input type=\"radio\" id=\"r3\" name=\"rate\" value=\"del\"> Delete Feature\n",
        "    <br>\n",
        "    <button type=\"button\" onclick=\"clear_field();\">\n",
        "      Clear\n",
        "    </button>\n",
        "   </div>\n",
        "   <br><br>Bandwidth x 1000:<br>\n",
        "    <input type=\"range\" min=\"1\" max=\"200\" value=\"100\" oninput=\"h_change(this.value)\">\n",
        "    <br><div id=\"slider_val\">100</div>\n",
        "   <br><br>\n",
        "    <button type=\"button\" onclick=\"calculate();\">\n",
        "      KDE\n",
        "    </button>\n",
        "  </div>\n",
        "</div>\n",
        "<div>\n",
        "  \n",
        "<script>\n",
        "function init()\n",
        "{\n",
        "  timer = setInterval(draw, 10);\n",
        "}\n",
        "\n",
        "init();\n",
        "</script>\n",
        "'''\n",
        "\n",
        "display(IPython.display.HTML(main_str))\n",
        "output.register_callback('notebook.InvSVM', invoke)"
      ],
      "execution_count": 2,
      "outputs": [
        {
          "output_type": "display_data",
          "data": {
            "text/html": [
              "\n",
              "  <script src=\"https://cdn.plot.ly/plotly-latest.min.js\"></script> \n",
              "  <script type=\"application/javascript\">\n",
              "  \n",
              "    var active_pt = null;\n",
              "    var all_pts = [];\n",
              "    var classAbtn = [650, 100];\n",
              "    var classBbtn = [650, 200];\n",
              "    var ptR = 10.0;\n",
              "    var params = null;\n",
              "    var debug_txt = \"\";\n",
              "    var bg_image = new Image();\n",
              "\n",
              "    function is_close(pt1, pt2) {\n",
              "      return   (pt1[0] - pt2[0])*(pt1[0] - pt2[0])\n",
              "            +  (pt1[1] - pt2[1])*(pt1[1] - pt2[1])\n",
              "            <= ptR*ptR;\n",
              "    }\n",
              "  \n",
              "    function circ(ctx, pos) {\n",
              "      ctx.beginPath();\n",
              "      ctx.arc(pos[0], pos[1], ptR, 0.0, 2.0 * Math.PI, 0);\n",
              "      ctx.fillStyle = 'rgba(255, 128, 0, 0.5)';\n",
              "      ctx.fill();\n",
              "    }\n",
              "    \n",
              "    \n",
              "    function draw() {\n",
              "      var canvas = document.getElementById('canvas');\n",
              "      if (canvas.getContext) {\n",
              "        var ctx = canvas.getContext('2d');\n",
              "        \n",
              "        ctx.clearRect(0, 0, canvas.width, canvas.height); // cleanup before start\n",
              "        ctx.drawImage(bg_image, 0, 0, 600, 600);\n",
              "        ctx.strokeRect(0, 0, 600, 600); // field\n",
              "        \n",
              "        ctx.font = '20px serif';\n",
              "        ctx.fillStyle = 'black';\n",
              "        ctx.fillText(debug_txt, 200, 200);\n",
              "        \n",
              "        if (active_pt) {\n",
              "          circ(ctx, [active_pt[0], active_pt[1]]);\n",
              "        }\n",
              "        all_pts.forEach(function (item, index) {\n",
              "          circ(ctx, [item[0], item[1]]);\n",
              "        });\n",
              "\n",
              "      }\n",
              "    }\n",
              "    \n",
              "    var timer\n",
              "\n",
              "    function get_state() {\n",
              "      var rates = document.getElementsByName('rate');\n",
              "      for(var i = 0; i < rates.length; i++)\n",
              "        if(rates[i].checked)\n",
              "          return rates[i].value;\n",
              "      return \"none\";\n",
              "    }\n",
              "\n",
              "    \n",
              "    function mdown_handle(evt) {\n",
              "      evt.stopPropagation();\n",
              "      x = evt.offsetX;\n",
              "      y = evt.offsetY;\n",
              "      state = get_state();\n",
              "      if (state == \"add\") {\n",
              "        if (x < 600)\n",
              "            all_pts.push([x, y]);\n",
              "        return;\n",
              "      }\n",
              "\n",
              "      idx = -1;\n",
              "      all_pts.forEach(function (item, index) {\n",
              "        if (is_close([x,y], [item[0], item[1]])) {\n",
              "          idx = index;\n",
              "        }\n",
              "      });\n",
              "      if (idx <= -1)\n",
              "          return;\n",
              "      if (state == \"move\") {\n",
              "        active_pt = all_pts[idx];\n",
              "        all_pts.splice(idx, 1);\n",
              "      }\n",
              "      if (state == \"del\")\n",
              "          all_pts.splice(idx, 1);\n",
              "    }\n",
              "    \n",
              "    function mmove_handle(evt) {\n",
              "      evt.stopPropagation();\n",
              "      if (get_state() != \"move\")\n",
              "          return;\n",
              "      x = evt.offsetX;\n",
              "      y = evt.offsetY;\n",
              "      if (active_pt) {\n",
              "        active_pt[0] = x;\n",
              "        active_pt[1] = y;\n",
              "      }\n",
              "    }\n",
              "    \n",
              "    function mup_handle(evt) {\n",
              "      evt.stopPropagation();\n",
              "      x = evt.offsetX;\n",
              "      y = evt.offsetY;\n",
              "      if (x >= 600) {\n",
              "        active_pt = null;\n",
              "      }\n",
              "      if (active_pt) {\n",
              "        all_pts.push(active_pt);\n",
              "        active_pt = null;\n",
              "      }\n",
              "    }\n",
              "    \n",
              "    function clear_field() {\n",
              "      active_pt = null;\n",
              "      all_pts = [];\n",
              "    }\n",
              "\n",
              "\n",
              "   function plot_3d(g_x, g_y, g_z)\n",
              "   {\n",
              "     cell_for_plot = document.getElementById('for_plotly_plot');\n",
              "     //Plotly.deleteTraces(cell_for_plot, [0, 1]);\n",
              "     var data = [{\n",
              "           x: g_x,\n",
              "           y: g_y,\n",
              "           z: g_z,\n",
              "           type: 'surface',\n",
              "           opacity: 0.9,\n",
              "           showscale: false,\n",
              "           colorscale: \"Viridis\"\n",
              "        }];\n",
              "  \n",
              "     var layout = {\n",
              "          title: 'pdf estimate',\n",
              "          autosize: false,\n",
              "          width: 600,\n",
              "          height: 600,\n",
              "          showlegend: false,\n",
              "          scene: {\n",
              "            camera: {\n",
              "              up: {x: 0, y: 1, z: 0},\n",
              "              center: {x: 0, y: 0, z: 0},\n",
              "              eye: {x: 0.0, y: -1.0, z: 1.4}\n",
              "            }\n",
              "          }\n",
              "        };\n",
              "     Plotly.newPlot(cell_for_plot, data, layout);\n",
              "   }\n",
              "\n",
              "   function plot_scatter(s_x, s_y, s_z)\n",
              "   {\n",
              "          \n",
              "     cell_for_plot = document.getElementById('for_plotly_plot');\n",
              "     var data = [{\n",
              "           x: s_x,\n",
              "           y: s_y,\n",
              "           z: s_z,\n",
              "           type: 'scatter3d',\n",
              "           mode: 'markers',\n",
              "           marker: {\n",
              "             size: 4,\n",
              "             colorscale: \"Viridis\",\n",
              "             line: {\n",
              "               width: 2,\n",
              "               color: 'rgba(0, 0, 0, 0.5)'\n",
              "             }\n",
              "           }\n",
              "        }];\n",
              "    Plotly.plot(cell_for_plot, data, {});\n",
              "   }\n",
              "\n",
              "\n",
              "    var cur_depth = 100;\n",
              "\n",
              "    async function calculate() {\n",
              "      if (!all_pts)\n",
              "        return;\n",
              "      var merged = [].concat.apply([], all_pts);\n",
              "      const result = await google.colab.kernel.invokeFunction('notebook.InvSVM', [merged, cur_depth], {});\n",
              "      params = result.data['application/json'];\n",
              "            \n",
              "      bg_image.src = 'data:image/  png;base64,' + params.image;\n",
              "      cell_for_plot = document.getElementById('for_plotly_plot');\n",
              "      \n",
              "      plot_3d(params.g_x, params.g_y, params.g_z);\n",
              "      plot_scatter(params.s_x, params.s_y, params.s_z);\n",
              "      \n",
              "    }\n",
              "\n",
              "   function h_change(x) {\n",
              "    el = document.getElementById(\"slider_val\");\n",
              "    cur_depth = x;\n",
              "    el.innerHTML = x;\n",
              "  }\n",
              "\n",
              " </script>\n",
              "\n",
              "<div id=\"everything\" style=\"height:600px;\">\n",
              "<div id=\"for_plotly_plot\" style=\"position:absolute; top:0px; left:0px; height:600px; width:600px;\">\n",
              "</div>\n",
              "<div id=\"custom_controls\" style=\"position:absolute; top:0px; left:600px;\">\n",
              "  <canvas id=\"canvas\" width=\"800\" height=\"600\" \n",
              "    onmousedown=\"mdown_handle(event)\"\n",
              "    onmousemove=\"mmove_handle(event)\"\n",
              "    onmouseup=\"mup_handle(event)\"></canvas>\n",
              "  <div style=\"position:absolute; top:275px; left:625px;\">\n",
              "   <div style=\"border-style: solid;\">\n",
              "    <input type=\"radio\" id=\"r1\" name=\"rate\" value=\"add\" checked=\"checked\"> Add Feature\n",
              "    <br>\n",
              "    <input type=\"radio\" id=\"r2\" name=\"rate\" value=\"move\"> Move Features\n",
              "    <br>\n",
              "    <input type=\"radio\" id=\"r3\" name=\"rate\" value=\"del\"> Delete Feature\n",
              "    <br>\n",
              "    <button type=\"button\" onclick=\"clear_field();\">\n",
              "      Clear\n",
              "    </button>\n",
              "   </div>\n",
              "   <br><br>Bandwidth x 1000:<br>\n",
              "    <input type=\"range\" min=\"1\" max=\"200\" value=\"100\" oninput=\"h_change(this.value)\">\n",
              "    <br><div id=\"slider_val\">100</div>\n",
              "   <br><br>\n",
              "    <button type=\"button\" onclick=\"calculate();\">\n",
              "      KDE\n",
              "    </button>\n",
              "  </div>\n",
              "</div>\n",
              "<div>\n",
              "  \n",
              "<script>\n",
              "function init()\n",
              "{\n",
              "  timer = setInterval(draw, 10);\n",
              "}\n",
              "\n",
              "init();\n",
              "</script>\n"
            ],
            "text/plain": [
              "<IPython.core.display.HTML object>"
            ]
          },
          "metadata": {
            "tags": []
          }
        }
      ]
    },
    {
      "cell_type": "code",
      "metadata": {
        "id": "iFd-V2Ezd0wt",
        "colab_type": "code",
        "colab": {
          "base_uri": "https://localhost:8080/",
          "height": 617
        },
        "outputId": "c8aac440-562d-4608-87f1-3db81d1e3c1d"
      },
      "source": [
        "\n",
        "import IPython\n",
        "from google.colab import output\n",
        "\n",
        "main_str = '''\n",
        "  <script src=\"https://cdn.plot.ly/plotly-latest.min.js\"></script> \n",
        "  <script type=\"application/javascript\">\n",
        "  \n",
        "    var active_pt = null;\n",
        "    var all_pts = [];\n",
        "    var classAbtn = [650, 100];\n",
        "    var classBbtn = [650, 200];\n",
        "    var ptR = 10.0;\n",
        "    var params = null;\n",
        "    var debug_txt = \"\";\n",
        "    var bg_image = new Image();\n",
        "\n",
        "    function is_close(pt1, pt2) {\n",
        "      return   (pt1[0] - pt2[0])*(pt1[0] - pt2[0])\n",
        "            +  (pt1[1] - pt2[1])*(pt1[1] - pt2[1])\n",
        "            <= ptR*ptR;\n",
        "    }\n",
        "  \n",
        "    function circ(ctx, pos) {\n",
        "      ctx.beginPath();\n",
        "      ctx.arc(pos[0], pos[1], ptR, 0.0, 2.0 * Math.PI, 0);\n",
        "      ctx.fillStyle = 'rgba(255, 128, 0, 0.5)';\n",
        "      ctx.fill();\n",
        "    }\n",
        "    \n",
        "    \n",
        "    function draw() {\n",
        "      var canvas = document.getElementById('canvas');\n",
        "      if (canvas.getContext) {\n",
        "        var ctx = canvas.getContext('2d');\n",
        "        \n",
        "        ctx.clearRect(0, 0, canvas.width, canvas.height); // cleanup before start\n",
        "        ctx.drawImage(bg_image, 0, 0, 600, 600);\n",
        "        ctx.strokeRect(0, 0, 600, 600); // field\n",
        "        \n",
        "        ctx.font = '20px serif';\n",
        "        ctx.fillStyle = 'black';\n",
        "        ctx.fillText(debug_txt, 200, 200);\n",
        "        \n",
        "        if (active_pt) {\n",
        "          circ(ctx, [active_pt[0], active_pt[1]]);\n",
        "        }\n",
        "        all_pts.forEach(function (item, index) {\n",
        "          circ(ctx, [item[0], item[1]]);\n",
        "        });\n",
        "\n",
        "      }\n",
        "    }\n",
        "    \n",
        "    var timer\n",
        "\n",
        "    function get_state() {\n",
        "      var rates = document.getElementsByName('rate');\n",
        "      for(var i = 0; i < rates.length; i++)\n",
        "        if(rates[i].checked)\n",
        "          return rates[i].value;\n",
        "      return \"none\";\n",
        "    }\n",
        "\n",
        "    \n",
        "    function mdown_handle(evt) {\n",
        "      evt.stopPropagation();\n",
        "      x = evt.offsetX;\n",
        "      y = evt.offsetY;\n",
        "      state = get_state();\n",
        "      if (state == \"add\") {\n",
        "        if (x < 600)\n",
        "            all_pts.push([x, y]);\n",
        "        return;\n",
        "      }\n",
        "\n",
        "      idx = -1;\n",
        "      all_pts.forEach(function (item, index) {\n",
        "        if (is_close([x,y], [item[0], item[1]])) {\n",
        "          idx = index;\n",
        "        }\n",
        "      });\n",
        "      if (idx <= -1)\n",
        "          return;\n",
        "      if (state == \"move\") {\n",
        "        active_pt = all_pts[idx];\n",
        "        all_pts.splice(idx, 1);\n",
        "      }\n",
        "      if (state == \"del\")\n",
        "          all_pts.splice(idx, 1);\n",
        "    }\n",
        "    \n",
        "    function mmove_handle(evt) {\n",
        "      evt.stopPropagation();\n",
        "      if (get_state() != \"move\")\n",
        "          return;\n",
        "      x = evt.offsetX;\n",
        "      y = evt.offsetY;\n",
        "      if (active_pt) {\n",
        "        active_pt[0] = x;\n",
        "        active_pt[1] = y;\n",
        "      }\n",
        "    }\n",
        "    \n",
        "    function mup_handle(evt) {\n",
        "      evt.stopPropagation();\n",
        "      x = evt.offsetX;\n",
        "      y = evt.offsetY;\n",
        "      if (x >= 600) {\n",
        "        active_pt = null;\n",
        "      }\n",
        "      if (active_pt) {\n",
        "        all_pts.push(active_pt);\n",
        "        active_pt = null;\n",
        "      }\n",
        "    }\n",
        "    \n",
        "    function clear_field() {\n",
        "      active_pt = null;\n",
        "      all_pts = [];\n",
        "    }\n",
        "\n",
        "   var delta = 10;\n",
        "   function test(d)\n",
        "   {\n",
        "     delta = d;\n",
        "   }\n",
        "\n",
        "   function plot_3d(g_x, g_y, g_z)\n",
        "   {\n",
        "     cell_for_plot = document.getElementById('for_plotly_plot');\n",
        "     \n",
        "     //Plotly.deleteTraces(cell_for_plot, [0, 1]);\n",
        "     var data = [{\n",
        "           x: g_x,\n",
        "           y: g_y,\n",
        "           z: g_z,\n",
        "           type: 'surface',\n",
        "           opacity: 0.9,\n",
        "           showscale: false,\n",
        "           colorscale: \"Viridis\"\n",
        "        }];\n",
        "  \n",
        "     var layout = {\n",
        "          title: 'pdf estimate',\n",
        "          autosize: false,\n",
        "          width: 600,\n",
        "          height: 600,\n",
        "          showlegend: false,\n",
        "          scene: {\n",
        "            camera: {\n",
        "              up: {x: 0, y: 1, z: 0},\n",
        "              center: {x: 0, y: 0, z: 0},\n",
        "              eye: {x: 0.0, y: -1.0, z: 1.4}\n",
        "            }\n",
        "          },\n",
        "          sliders: [{\n",
        "            pad: {t: 30},\n",
        "            currentvalue: {\n",
        "              xanchor: 'right',\n",
        "              prefix: 'color: ',\n",
        "              font: {\n",
        "                color: '#888',\n",
        "                size: 20\n",
        "              }\n",
        "            },\n",
        "            steps: [{\n",
        "              label: 'red',\n",
        "              method: 'restyle',\n",
        "              args: ['line.color', 'red']\n",
        "            }, {\n",
        "              label: 'green',\n",
        "              method: 'restyle',\n",
        "              args: ['line.color', 'green']\n",
        "            }, {\n",
        "              label: 'blue',\n",
        "              method: 'test',\n",
        "              args: [0]\n",
        "            }]\n",
        "          }]\n",
        "        };\n",
        "     Plotly.newPlot(cell_for_plot, data, layout);\n",
        "     cell_for_plot.on('plotly.restyle', (x, y) => {delta = 0;});\n",
        "   }\n",
        "\n",
        "   function plot_scatter(s_x, s_y, s_z)\n",
        "   {\n",
        "     s_z = s_z.map(n => n + delta);\n",
        "          \n",
        "     cell_for_plot = document.getElementById('for_plotly_plot');\n",
        "     var data = [{\n",
        "           x: s_x,\n",
        "           y: s_y,\n",
        "           z: s_z,\n",
        "           type: 'scatter3d',\n",
        "           mode: 'markers',\n",
        "           marker: {\n",
        "             size: 4,\n",
        "             colorscale: \"Viridis\",\n",
        "             line: {\n",
        "               width: 2,\n",
        "               color: 'rgba(0, 0, 0, 0.5)'\n",
        "             }\n",
        "           }\n",
        "        }];\n",
        "    Plotly.plot(cell_for_plot, data, {});\n",
        "   }\n",
        "\n",
        "\n",
        "    var cur_depth = 100;\n",
        "\n",
        "    async function calculate() {\n",
        "      if (!all_pts)\n",
        "        return;\n",
        "      var merged = [].concat.apply([], all_pts);\n",
        "      const result = await google.colab.kernel.invokeFunction('notebook.InvSVM', [merged, cur_depth], {});\n",
        "      params = result.data['application/json'];\n",
        "            \n",
        "      bg_image.src = 'data:image/  png;base64,' + params.image;\n",
        "      cell_for_plot = document.getElementById('for_plotly_plot');\n",
        "      \n",
        "      plot_3d(params.g_x, params.g_y, params.g_z);\n",
        "      plot_scatter(params.s_x, params.s_y, params.s_z);\n",
        "      \n",
        "    }\n",
        "\n",
        "   function h_change(x) {\n",
        "    el = document.getElementById(\"slider_val\");\n",
        "    cur_depth = x;\n",
        "    el.innerHTML = x;\n",
        "  }\n",
        "\n",
        " </script>\n",
        "\n",
        "<div id=\"everything\" style=\"height:600px;\">\n",
        "<div id=\"for_plotly_plot\" style=\"position:absolute; top:0px; left:0px; height:600px; width:600px;\">\n",
        "</div>\n",
        "<div id=\"custom_controls\" style=\"position:absolute; top:0px; left:600px;\">\n",
        "  <canvas id=\"canvas\" width=\"800\" height=\"600\" \n",
        "    onmousedown=\"mdown_handle(event)\"\n",
        "    onmousemove=\"mmove_handle(event)\"\n",
        "    onmouseup=\"mup_handle(event)\"></canvas>\n",
        "  <div style=\"position:absolute; top:275px; left:625px;\">\n",
        "   <div style=\"border-style: solid;\">\n",
        "    <input type=\"radio\" id=\"r1\" name=\"rate\" value=\"add\" checked=\"checked\"> Add Feature\n",
        "    <br>\n",
        "    <input type=\"radio\" id=\"r2\" name=\"rate\" value=\"move\"> Move Features\n",
        "    <br>\n",
        "    <input type=\"radio\" id=\"r3\" name=\"rate\" value=\"del\"> Delete Feature\n",
        "    <br>\n",
        "    <button type=\"button\" onclick=\"clear_field();\">\n",
        "      Clear\n",
        "    </button>\n",
        "   </div>\n",
        "   <br><br>Bandwidth x 1000:<br>\n",
        "    <input type=\"range\" min=\"1\" max=\"200\" value=\"100\" oninput=\"h_change(this.value)\">\n",
        "    <br><div id=\"slider_val\">100</div>\n",
        "   <br><br>\n",
        "    <button type=\"button\" onclick=\"calculate();\">\n",
        "      KDE\n",
        "    </button>\n",
        "  </div>\n",
        "</div>\n",
        "<div>\n",
        "  \n",
        "<script>\n",
        "function init()\n",
        "{\n",
        "  timer = setInterval(draw, 10);\n",
        "}\n",
        "\n",
        "init();\n",
        "</script>\n",
        "'''\n",
        "\n",
        "display(IPython.display.HTML(main_str))\n",
        "output.register_callback('notebook.InvSVM', invoke)"
      ],
      "execution_count": 14,
      "outputs": [
        {
          "output_type": "display_data",
          "data": {
            "text/html": [
              "\n",
              "  <script src=\"https://cdn.plot.ly/plotly-latest.min.js\"></script> \n",
              "  <script type=\"application/javascript\">\n",
              "  \n",
              "    var active_pt = null;\n",
              "    var all_pts = [];\n",
              "    var classAbtn = [650, 100];\n",
              "    var classBbtn = [650, 200];\n",
              "    var ptR = 10.0;\n",
              "    var params = null;\n",
              "    var debug_txt = \"\";\n",
              "    var bg_image = new Image();\n",
              "\n",
              "    function is_close(pt1, pt2) {\n",
              "      return   (pt1[0] - pt2[0])*(pt1[0] - pt2[0])\n",
              "            +  (pt1[1] - pt2[1])*(pt1[1] - pt2[1])\n",
              "            <= ptR*ptR;\n",
              "    }\n",
              "  \n",
              "    function circ(ctx, pos) {\n",
              "      ctx.beginPath();\n",
              "      ctx.arc(pos[0], pos[1], ptR, 0.0, 2.0 * Math.PI, 0);\n",
              "      ctx.fillStyle = 'rgba(255, 128, 0, 0.5)';\n",
              "      ctx.fill();\n",
              "    }\n",
              "    \n",
              "    \n",
              "    function draw() {\n",
              "      var canvas = document.getElementById('canvas');\n",
              "      if (canvas.getContext) {\n",
              "        var ctx = canvas.getContext('2d');\n",
              "        \n",
              "        ctx.clearRect(0, 0, canvas.width, canvas.height); // cleanup before start\n",
              "        ctx.drawImage(bg_image, 0, 0, 600, 600);\n",
              "        ctx.strokeRect(0, 0, 600, 600); // field\n",
              "        \n",
              "        ctx.font = '20px serif';\n",
              "        ctx.fillStyle = 'black';\n",
              "        ctx.fillText(debug_txt, 200, 200);\n",
              "        \n",
              "        if (active_pt) {\n",
              "          circ(ctx, [active_pt[0], active_pt[1]]);\n",
              "        }\n",
              "        all_pts.forEach(function (item, index) {\n",
              "          circ(ctx, [item[0], item[1]]);\n",
              "        });\n",
              "\n",
              "      }\n",
              "    }\n",
              "    \n",
              "    var timer\n",
              "\n",
              "    function get_state() {\n",
              "      var rates = document.getElementsByName('rate');\n",
              "      for(var i = 0; i < rates.length; i++)\n",
              "        if(rates[i].checked)\n",
              "          return rates[i].value;\n",
              "      return \"none\";\n",
              "    }\n",
              "\n",
              "    \n",
              "    function mdown_handle(evt) {\n",
              "      evt.stopPropagation();\n",
              "      x = evt.offsetX;\n",
              "      y = evt.offsetY;\n",
              "      state = get_state();\n",
              "      if (state == \"add\") {\n",
              "        if (x < 600)\n",
              "            all_pts.push([x, y]);\n",
              "        return;\n",
              "      }\n",
              "\n",
              "      idx = -1;\n",
              "      all_pts.forEach(function (item, index) {\n",
              "        if (is_close([x,y], [item[0], item[1]])) {\n",
              "          idx = index;\n",
              "        }\n",
              "      });\n",
              "      if (idx <= -1)\n",
              "          return;\n",
              "      if (state == \"move\") {\n",
              "        active_pt = all_pts[idx];\n",
              "        all_pts.splice(idx, 1);\n",
              "      }\n",
              "      if (state == \"del\")\n",
              "          all_pts.splice(idx, 1);\n",
              "    }\n",
              "    \n",
              "    function mmove_handle(evt) {\n",
              "      evt.stopPropagation();\n",
              "      if (get_state() != \"move\")\n",
              "          return;\n",
              "      x = evt.offsetX;\n",
              "      y = evt.offsetY;\n",
              "      if (active_pt) {\n",
              "        active_pt[0] = x;\n",
              "        active_pt[1] = y;\n",
              "      }\n",
              "    }\n",
              "    \n",
              "    function mup_handle(evt) {\n",
              "      evt.stopPropagation();\n",
              "      x = evt.offsetX;\n",
              "      y = evt.offsetY;\n",
              "      if (x >= 600) {\n",
              "        active_pt = null;\n",
              "      }\n",
              "      if (active_pt) {\n",
              "        all_pts.push(active_pt);\n",
              "        active_pt = null;\n",
              "      }\n",
              "    }\n",
              "    \n",
              "    function clear_field() {\n",
              "      active_pt = null;\n",
              "      all_pts = [];\n",
              "    }\n",
              "\n",
              "   var delta = 10;\n",
              "   function test(d)\n",
              "   {\n",
              "     delta = d;\n",
              "   }\n",
              "\n",
              "   function plot_3d(g_x, g_y, g_z)\n",
              "   {\n",
              "     cell_for_plot = document.getElementById('for_plotly_plot');\n",
              "     \n",
              "     //Plotly.deleteTraces(cell_for_plot, [0, 1]);\n",
              "     var data = [{\n",
              "           x: g_x,\n",
              "           y: g_y,\n",
              "           z: g_z,\n",
              "           type: 'surface',\n",
              "           opacity: 0.9,\n",
              "           showscale: false,\n",
              "           colorscale: \"Viridis\"\n",
              "        }];\n",
              "  \n",
              "     var layout = {\n",
              "          title: 'pdf estimate',\n",
              "          autosize: false,\n",
              "          width: 600,\n",
              "          height: 600,\n",
              "          showlegend: false,\n",
              "          scene: {\n",
              "            camera: {\n",
              "              up: {x: 0, y: 1, z: 0},\n",
              "              center: {x: 0, y: 0, z: 0},\n",
              "              eye: {x: 0.0, y: -1.0, z: 1.4}\n",
              "            }\n",
              "          },\n",
              "          sliders: [{\n",
              "            pad: {t: 30},\n",
              "            currentvalue: {\n",
              "              xanchor: 'right',\n",
              "              prefix: 'color: ',\n",
              "              font: {\n",
              "                color: '#888',\n",
              "                size: 20\n",
              "              }\n",
              "            },\n",
              "            steps: [{\n",
              "              label: 'red',\n",
              "              method: 'restyle',\n",
              "              args: ['line.color', 'red']\n",
              "            }, {\n",
              "              label: 'green',\n",
              "              method: 'restyle',\n",
              "              args: ['line.color', 'green']\n",
              "            }, {\n",
              "              label: 'blue',\n",
              "              method: 'test',\n",
              "              args: [0]\n",
              "            }]\n",
              "          }]\n",
              "        };\n",
              "     Plotly.newPlot(cell_for_plot, data, layout);\n",
              "     cell_for_plot.on('plotly.restyle', (x, y) => {delta = 0;});\n",
              "   }\n",
              "\n",
              "   function plot_scatter(s_x, s_y, s_z)\n",
              "   {\n",
              "     s_z = s_z.map(n => n + delta);\n",
              "          \n",
              "     cell_for_plot = document.getElementById('for_plotly_plot');\n",
              "     var data = [{\n",
              "           x: s_x,\n",
              "           y: s_y,\n",
              "           z: s_z,\n",
              "           type: 'scatter3d',\n",
              "           mode: 'markers',\n",
              "           marker: {\n",
              "             size: 4,\n",
              "             colorscale: \"Viridis\",\n",
              "             line: {\n",
              "               width: 2,\n",
              "               color: 'rgba(0, 0, 0, 0.5)'\n",
              "             }\n",
              "           }\n",
              "        }];\n",
              "    Plotly.plot(cell_for_plot, data, {});\n",
              "   }\n",
              "\n",
              "\n",
              "    var cur_depth = 100;\n",
              "\n",
              "    async function calculate() {\n",
              "      if (!all_pts)\n",
              "        return;\n",
              "      var merged = [].concat.apply([], all_pts);\n",
              "      const result = await google.colab.kernel.invokeFunction('notebook.InvSVM', [merged, cur_depth], {});\n",
              "      params = result.data['application/json'];\n",
              "            \n",
              "      bg_image.src = 'data:image/  png;base64,' + params.image;\n",
              "      cell_for_plot = document.getElementById('for_plotly_plot');\n",
              "      \n",
              "      plot_3d(params.g_x, params.g_y, params.g_z);\n",
              "      plot_scatter(params.s_x, params.s_y, params.s_z);\n",
              "      \n",
              "    }\n",
              "\n",
              "   function h_change(x) {\n",
              "    el = document.getElementById(\"slider_val\");\n",
              "    cur_depth = x;\n",
              "    el.innerHTML = x;\n",
              "  }\n",
              "\n",
              " </script>\n",
              "\n",
              "<div id=\"everything\" style=\"height:600px;\">\n",
              "<div id=\"for_plotly_plot\" style=\"position:absolute; top:0px; left:0px; height:600px; width:600px;\">\n",
              "</div>\n",
              "<div id=\"custom_controls\" style=\"position:absolute; top:0px; left:600px;\">\n",
              "  <canvas id=\"canvas\" width=\"800\" height=\"600\" \n",
              "    onmousedown=\"mdown_handle(event)\"\n",
              "    onmousemove=\"mmove_handle(event)\"\n",
              "    onmouseup=\"mup_handle(event)\"></canvas>\n",
              "  <div style=\"position:absolute; top:275px; left:625px;\">\n",
              "   <div style=\"border-style: solid;\">\n",
              "    <input type=\"radio\" id=\"r1\" name=\"rate\" value=\"add\" checked=\"checked\"> Add Feature\n",
              "    <br>\n",
              "    <input type=\"radio\" id=\"r2\" name=\"rate\" value=\"move\"> Move Features\n",
              "    <br>\n",
              "    <input type=\"radio\" id=\"r3\" name=\"rate\" value=\"del\"> Delete Feature\n",
              "    <br>\n",
              "    <button type=\"button\" onclick=\"clear_field();\">\n",
              "      Clear\n",
              "    </button>\n",
              "   </div>\n",
              "   <br><br>Bandwidth x 1000:<br>\n",
              "    <input type=\"range\" min=\"1\" max=\"200\" value=\"100\" oninput=\"h_change(this.value)\">\n",
              "    <br><div id=\"slider_val\">100</div>\n",
              "   <br><br>\n",
              "    <button type=\"button\" onclick=\"calculate();\">\n",
              "      KDE\n",
              "    </button>\n",
              "  </div>\n",
              "</div>\n",
              "<div>\n",
              "  \n",
              "<script>\n",
              "function init()\n",
              "{\n",
              "  timer = setInterval(draw, 10);\n",
              "}\n",
              "\n",
              "init();\n",
              "</script>\n"
            ],
            "text/plain": [
              "<IPython.core.display.HTML object>"
            ]
          },
          "metadata": {
            "tags": []
          }
        }
      ]
    },
    {
      "cell_type": "code",
      "metadata": {
        "id": "Oc1vm-XiknB_",
        "colab_type": "code",
        "colab": {
          "resources": {
            "http://localhost:8080/nbextensions/google.colab/tabbar.css": {
              "data": "Lmdvb2ctdGFie3Bvc2l0aW9uOnJlbGF0aXZlO3BhZGRpbmc6NHB4IDhweDtjb2xvcjojMDBjO3RleHQtZGVjb3JhdGlvbjp1bmRlcmxpbmU7Y3Vyc29yOmRlZmF1bHR9Lmdvb2ctdGFiLWJhci10b3AgLmdvb2ctdGFie21hcmdpbjoxcHggNHB4IDAgMDtib3JkZXItYm90dG9tOjA7ZmxvYXQ6bGVmdH0uZ29vZy10YWItYmFyLXRvcDphZnRlciwuZ29vZy10YWItYmFyLWJvdHRvbTphZnRlcntjb250ZW50OiIgIjtkaXNwbGF5OmJsb2NrO2hlaWdodDowO2NsZWFyOmJvdGg7dmlzaWJpbGl0eTpoaWRkZW59Lmdvb2ctdGFiLWJhci1ib3R0b20gLmdvb2ctdGFie21hcmdpbjowIDRweCAxcHggMDtib3JkZXItdG9wOjA7ZmxvYXQ6bGVmdH0uZ29vZy10YWItYmFyLXN0YXJ0IC5nb29nLXRhYnttYXJnaW46MCAwIDRweCAxcHg7Ym9yZGVyLXJpZ2h0OjB9Lmdvb2ctdGFiLWJhci1lbmQgLmdvb2ctdGFie21hcmdpbjowIDFweCA0cHggMDtib3JkZXItbGVmdDowfS5nb29nLXRhYi1ob3ZlcntiYWNrZ3JvdW5kOiNlZWV9Lmdvb2ctdGFiLWRpc2FibGVke2NvbG9yOiM2NjZ9Lmdvb2ctdGFiLXNlbGVjdGVke2NvbG9yOiMwMDA7YmFja2dyb3VuZDojZmZmO3RleHQtZGVjb3JhdGlvbjpub25lO2ZvbnQtd2VpZ2h0OmJvbGQ7Ym9yZGVyOjFweCBzb2xpZCAjNmI5MGRhfS5nb29nLXRhYi1iYXItdG9we3BhZGRpbmctdG9wOjVweCFpbXBvcnRhbnQ7cGFkZGluZy1sZWZ0OjVweCFpbXBvcnRhbnQ7Ym9yZGVyLWJvdHRvbToxcHggc29saWQgIzZiOTBkYSFpbXBvcnRhbnR9Lmdvb2ctdGFiLWJhci10b3AgLmdvb2ctdGFiLXNlbGVjdGVke3RvcDoxcHg7bWFyZ2luLXRvcDowO3BhZGRpbmctYm90dG9tOjVweH0uZ29vZy10YWItYmFyLWJvdHRvbSAuZ29vZy10YWItc2VsZWN0ZWR7dG9wOi0xcHg7bWFyZ2luLWJvdHRvbTowO3BhZGRpbmctdG9wOjVweH0uZ29vZy10YWItYmFyLXN0YXJ0IC5nb29nLXRhYi1zZWxlY3RlZHtsZWZ0OjFweDttYXJnaW4tbGVmdDowO3BhZGRpbmctcmlnaHQ6OXB4fS5nb29nLXRhYi1iYXItZW5kIC5nb29nLXRhYi1zZWxlY3RlZHtsZWZ0Oi0xcHg7bWFyZ2luLXJpZ2h0OjA7cGFkZGluZy1sZWZ0OjlweH0uZ29vZy10YWItYmFye21hcmdpbjowO2JvcmRlcjowO3BhZGRpbmc6MDtsaXN0LXN0eWxlOm5vbmU7Y3Vyc29yOmRlZmF1bHQ7b3V0bGluZTpub25lO2JhY2tncm91bmQ6I2ViZWZmOX0uZ29vZy10YWItYmFyLWNsZWFye2NsZWFyOmJvdGg7aGVpZ2h0OjA7b3ZlcmZsb3c6aGlkZGVufS5nb29nLXRhYi1iYXItc3RhcnR7ZmxvYXQ6bGVmdH0uZ29vZy10YWItYmFyLWVuZHtmbG9hdDpyaWdodH0qIGh0bWwgLmdvb2ctdGFiLWJhci1zdGFydHttYXJnaW4tcmlnaHQ6LTNweH0qIGh0bWwgLmdvb2ctdGFiLWJhci1lbmR7bWFyZ2luLWxlZnQ6LTNweH0=",
              "ok": true,
              "headers": [
                [
                  "content-type",
                  "text/css"
                ]
              ],
              "status": 200,
              "status_text": ""
            },
            "http://localhost:8080/nbextensions/google.colab/tabbar_main.min.js": {
              "data": "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",
              "ok": true,
              "headers": [
                [
                  "content-type",
                  "application/javascript"
                ]
              ],
              "status": 200,
              "status_text": ""
            }
          },
          "base_uri": "https://localhost:8080/",
          "height": 622,
          "referenced_widgets": [
            "a99dc2db2872418a9f989ef288480823",
            "c5c9b67394824609bb51c6a6dcb8dad9",
            "d5ab2ee47f684206b63e9e0f144699e6",
            "d440833d27d54ab588492e4eee910bbc",
            "cb78cd3f9ee347c997e28ed150cc8419",
            "624598c3507a45b688aade2e784fc1f6",
            "6ea8d2a121e94053861974d6b9a167a0",
            "e577c66893c3429da36a4e9e947e6bc2",
            "886f6b4daa934dc19b7a0eadcd407107",
            "5a3f6ceb3341472083b02f8247bde510",
            "7c958e74d43945708953caa41e859ced",
            "434676ff541540d9a4899e05affb916a",
            "74a4eace6a6a4fb9a63234d62587d1af",
            "6765c3be2838410d965dbeed4b2ee0a6",
            "6861a478fbb3447d8108804a005d4619",
            "2805ea4d68c24b3fab7eb1d3ca03964c",
            "c0797c7d6b39487bbe5a790ee2789791",
            "2bb17e0aae0548e9ab74cc4886771af1",
            "4c0ecaf706224c33a7ccf63509f70438",
            "86afa177f3cf4aee957b602fcb495423",
            "b3617823acbf4fcdbb6e6a7c2647052a",
            "273db7c8445b461893f47c86f34d46fd",
            "7df590e31561462db42018f8e37c890f",
            "0c0fcdef5c4342eaba7635b02da3b918",
            "f50db96472674d829c095a118514c1c1",
            "58ea04edc1d14643bf9fc902f880ab86",
            "073d457929f747f7821d41805617e31d",
            "d204482a405a402a95afe1f9e41c2f41",
            "955ddc4586a04fdebcf0cfcc38ee8fde",
            "419f36b61d2e470a89758379a2ec2ff8",
            "b7fc182f15a340548b60230723dcf74e",
            "29175186a6c94545b1cf50d7fdd7bd53",
            "06eb1f4f26ae49a28df3e40b99bccc93",
            "23759bd07f3f44c6b03c7bbe1742ab8e",
            "97ab13add76246f295da5463d71758fa",
            "15461ef32f4b49ba93bf7bea0c73a894",
            "f180752824824f219d40fe640e9fa19b",
            "1f32b5b6eba3486b8c40f9e24e2d9c7c",
            "c46e2ae1813845049e8f9ba4345274ad",
            "86c16e874a204c72b48eeb122e9bb258",
            "a77baf4bf03d46ae8f82ae38f65cc604"
          ]
        },
        "outputId": "07cba732-32c3-43ad-d3e5-247ec67c9c10"
      },
      "source": [
        "from google.colab import widgets\n",
        "import ipywidgets\n",
        "\n",
        "params = [];\n",
        "\n",
        "def plot_pdf(plot_separate):\n",
        "  global params\n",
        "  if not params:\n",
        "    return\n",
        "\n",
        "  pi1, pi2, pi3, mu1, sig1, mu2, sig2, mu3, sig3 = params\n",
        "  x = np.linspace(0, 100, 1001)\n",
        "  fig = plt.figure(figsize=(10, 8))\n",
        "  P_sum = np.zeros(x.shape)\n",
        "  for mu, sig, c, pi, i in [[mu1, sig1, 'r', pi1, 1], [mu2, sig2, 'g', pi2, 2], [mu3, sig3, 'b', pi3, 3]]:\n",
        "    P = scipy.stats.norm.pdf(x, mu, sig)\n",
        "    P_sum += P * pi\n",
        "    if plot_separate:\n",
        "      plt.plot(x, P, c, linewidth=2.0, label=\"{}\".format(i), alpha=np.clip(pi, 0.0, 1.0))\n",
        "  \n",
        "  plt.plot(x, P_sum, 'k', linewidth=3.0, label=\"mixture\")\n",
        "  plt.title('Mixture of 3 gaussians')\n",
        "  plt.xlabel('x')\n",
        "  plt.ylabel('y')\n",
        "  plt.legend()\n",
        "  plt.show()\n",
        "\n",
        "def set_and_plot(pi, mu1, sig1, mu2, sig2, mu3, sig3):\n",
        "  pi1, pi2 = pi; pi2 -= pi1; pi3 = 1.0 - pi2 - pi1;\n",
        "  global params\n",
        "  params = [pi1, pi2, pi3, mu1, sig1, mu2, sig2, mu3, sig3]\n",
        "  plot_pdf(True)\n",
        "\n",
        "def ker_plot(b_w, k_t):\n",
        "  print(b_w, k_t)\n",
        "  plot_pdf(False)\n",
        "\n",
        "tb = widgets.TabBar(['mix distribution', 'find kernel'], location='top')\n",
        "with tb.output_to(0):\n",
        "  words = ['mu_1', 'sigma_1', 'mu_2', 'sigma_2', 'mu_3', 'sigma_3']\n",
        "  mins  = [0.0, 1.0, 0.0, 1.0, 0.0, 1.0]\n",
        "  maxes = [100.0, 10.0, 100.0, 10.0, 100.0, 10.0]\n",
        "  vals  = [10.0, 10.0, 50.0, 10.0, 90.0, 10.0]\n",
        "  sliders = [ipywidgets.FloatSlider(description=w, min=n, max=x, value=v) for w,x,n,v in zip(words, maxes, mins, vals)]\n",
        "  pi_slider = ipywidgets.FloatRangeSlider(value=[0.3, 0.6], min=0.0, max=1.0, description='pi(1,2,3)')\n",
        "  boxes = [VBox([pi_slider])]\n",
        "  for slider1, slider2 in zip(sliders[::2], sliders[1::2]):\n",
        "    boxes.append(VBox([slider1, slider2]))\n",
        "  out = ipywidgets.interactive_output(set_and_plot, {\n",
        "    \"pi\": pi_slider,\n",
        "    \"mu1\": sliders[0], \"sig1\": sliders[1],\n",
        "    \"mu2\": sliders[2], \"sig2\": sliders[3],\n",
        "    \"mu3\": sliders[4], \"sig3\": sliders[5]})\n",
        "  display(HBox(boxes), out)\n",
        "with tb.output_to(1):\n",
        "  ker_type = Dropdown(\n",
        "    options=['1', '2', '3'],\n",
        "    value='2',\n",
        "    description='Kernel:',\n",
        "    disabled=False)\n",
        "  b_w = ipywidgets.FloatSlider(description='band width', min=0.1, max=10.0, value=1.0)\n",
        "  out = ipywidgets.interactive_output(ker_plot, {\"b_w\": b_w, \"k_t\": ker_type})\n",
        "  display(HBox([ker_type, b_w]), out)"
      ],
      "execution_count": 53,
      "outputs": [
        {
          "output_type": "display_data",
          "data": {
            "text/html": [
              "<link rel=stylesheet type=text/css href='/nbextensions/google.colab/tabbar.css'></link>"
            ],
            "text/plain": [
              "<IPython.core.display.HTML object>"
            ]
          },
          "metadata": {
            "tags": [
              "outputarea_id22"
            ]
          }
        },
        {
          "output_type": "display_data",
          "data": {
            "text/html": [
              "<script src='/nbextensions/google.colab/tabbar_main.min.js'></script>"
            ],
            "text/plain": [
              "<IPython.core.display.HTML object>"
            ]
          },
          "metadata": {
            "tags": [
              "outputarea_id22"
            ]
          }
        },
        {
          "output_type": "display_data",
          "data": {
            "text/html": [
              "<div id=\"id22\"></div>"
            ],
            "text/plain": [
              "<IPython.core.display.HTML object>"
            ]
          },
          "metadata": {
            "tags": [
              "outputarea_id22"
            ]
          }
        },
        {
          "output_type": "display_data",
          "data": {
            "application/javascript": [
              "window[\"ec8132a8-179a-11ea-b054-0242ac1c0002\"] = colab_lib.createTabBar({\"location\": \"top\", \"elementId\": \"id22\", \"tabNames\": [\"mix distribution\", \"find kernel\"], \"initialSelection\": 0, \"contentBorder\": [\"0px\"], \"contentHeight\": [\"initial\"], \"borderColor\": [\"#a7a7a7\"]});\n",
              "//# sourceURL=js_9bda980771"
            ],
            "text/plain": [
              "<IPython.core.display.Javascript object>"
            ]
          },
          "metadata": {
            "tags": [
              "outputarea_id22"
            ]
          }
        },
        {
          "output_type": "display_data",
          "data": {
            "application/javascript": [
              "window[\"ec819cac-179a-11ea-b054-0242ac1c0002\"] = window[\"id22\"].setSelectedTabIndex(0);\n",
              "//# sourceURL=js_fe1868222e"
            ],
            "text/plain": [
              "<IPython.core.display.Javascript object>"
            ]
          },
          "metadata": {
            "tags": [
              "outputarea_id22"
            ]
          }
        },
        {
          "output_type": "display_data",
          "data": {
            "application/javascript": [
              "window[\"ec8334ea-179a-11ea-b054-0242ac1c0002\"] = google.colab.output.getActiveOutputArea();\n",
              "//# sourceURL=js_e67e0e4ea6"
            ],
            "text/plain": [
              "<IPython.core.display.Javascript object>"
            ]
          },
          "metadata": {
            "tags": [
              "id22_content_0",
              "outputarea_id22"
            ]
          }
        },
        {
          "output_type": "display_data",
          "data": {
            "application/javascript": [
              "window[\"ec83897c-179a-11ea-b054-0242ac1c0002\"] = document.querySelector(\"#id22_content_0\");\n",
              "//# sourceURL=js_7d474f796a"
            ],
            "text/plain": [
              "<IPython.core.display.Javascript object>"
            ]
          },
          "metadata": {
            "tags": [
              "id22_content_0",
              "outputarea_id22"
            ]
          }
        },
        {
          "output_type": "display_data",
          "data": {
            "application/javascript": [
              "window[\"ec83d800-179a-11ea-b054-0242ac1c0002\"] = google.colab.output.setActiveOutputArea(window[\"ec83897c-179a-11ea-b054-0242ac1c0002\"]);\n",
              "//# sourceURL=js_abbe83e1da"
            ],
            "text/plain": [
              "<IPython.core.display.Javascript object>"
            ]
          },
          "metadata": {
            "tags": [
              "id22_content_0",
              "outputarea_id22"
            ]
          }
        },
        {
          "output_type": "display_data",
          "data": {
            "application/javascript": [
              "window[\"ec842c10-179a-11ea-b054-0242ac1c0002\"] = window[\"id22\"].setSelectedTabIndex(0);\n",
              "//# sourceURL=js_8522e572d0"
            ],
            "text/plain": [
              "<IPython.core.display.Javascript object>"
            ]
          },
          "metadata": {
            "tags": [
              "id22_content_0",
              "outputarea_id22"
            ]
          }
        },
        {
          "output_type": "display_data",
          "data": {
            "application/vnd.jupyter.widget-view+json": {
              "model_id": "a99dc2db2872418a9f989ef288480823",
              "version_minor": 0,
              "version_major": 2
            },
            "text/plain": [
              "HBox(children=(VBox(children=(FloatRangeSlider(value=(0.3, 0.6), description='pi(1,2,3)', max=1.0),)), VBox(ch…"
            ]
          },
          "metadata": {
            "tags": [
              "id22_content_0",
              "outputarea_id22",
              "user_output"
            ]
          }
        },
        {
          "output_type": "display_data",
          "data": {
            "application/vnd.jupyter.widget-view+json": {
              "model_id": "29175186a6c94545b1cf50d7fdd7bd53",
              "version_minor": 0,
              "version_major": 2
            },
            "text/plain": [
              "Output()"
            ]
          },
          "metadata": {
            "tags": [
              "id22_content_0",
              "outputarea_id22",
              "user_output"
            ]
          }
        },
        {
          "output_type": "display_data",
          "data": {
            "application/javascript": [
              "window[\"ece3aa96-179a-11ea-b054-0242ac1c0002\"] = google.colab.output.setActiveOutputArea(window[\"ec8334ea-179a-11ea-b054-0242ac1c0002\"]);\n",
              "//# sourceURL=js_1e492d88e5"
            ],
            "text/plain": [
              "<IPython.core.display.Javascript object>"
            ]
          },
          "metadata": {
            "tags": [
              "id22_content_0",
              "outputarea_id22"
            ]
          }
        },
        {
          "output_type": "display_data",
          "data": {
            "application/javascript": [
              "window[\"ece51f98-179a-11ea-b054-0242ac1c0002\"] = google.colab.output.getActiveOutputArea();\n",
              "//# sourceURL=js_332c4f2388"
            ],
            "text/plain": [
              "<IPython.core.display.Javascript object>"
            ]
          },
          "metadata": {
            "tags": [
              "id22_content_1",
              "outputarea_id22"
            ]
          }
        },
        {
          "output_type": "display_data",
          "data": {
            "application/javascript": [
              "window[\"ece56994-179a-11ea-b054-0242ac1c0002\"] = document.querySelector(\"#id22_content_1\");\n",
              "//# sourceURL=js_4feb31e648"
            ],
            "text/plain": [
              "<IPython.core.display.Javascript object>"
            ]
          },
          "metadata": {
            "tags": [
              "id22_content_1",
              "outputarea_id22"
            ]
          }
        },
        {
          "output_type": "display_data",
          "data": {
            "application/javascript": [
              "window[\"ece5af76-179a-11ea-b054-0242ac1c0002\"] = google.colab.output.setActiveOutputArea(window[\"ece56994-179a-11ea-b054-0242ac1c0002\"]);\n",
              "//# sourceURL=js_4b55c03b5f"
            ],
            "text/plain": [
              "<IPython.core.display.Javascript object>"
            ]
          },
          "metadata": {
            "tags": [
              "id22_content_1",
              "outputarea_id22"
            ]
          }
        },
        {
          "output_type": "display_data",
          "data": {
            "application/javascript": [
              "window[\"ece5f652-179a-11ea-b054-0242ac1c0002\"] = window[\"id22\"].setSelectedTabIndex(1);\n",
              "//# sourceURL=js_cf46f46916"
            ],
            "text/plain": [
              "<IPython.core.display.Javascript object>"
            ]
          },
          "metadata": {
            "tags": [
              "id22_content_1",
              "outputarea_id22"
            ]
          }
        },
        {
          "output_type": "display_data",
          "data": {
            "application/vnd.jupyter.widget-view+json": {
              "model_id": "06eb1f4f26ae49a28df3e40b99bccc93",
              "version_minor": 0,
              "version_major": 2
            },
            "text/plain": [
              "HBox(children=(Dropdown(description='Kernel:', index=1, options=('1', '2', '3'), value='2'), FloatSlider(value…"
            ]
          },
          "metadata": {
            "tags": [
              "id22_content_1",
              "outputarea_id22",
              "user_output"
            ]
          }
        },
        {
          "output_type": "display_data",
          "data": {
            "application/vnd.jupyter.widget-view+json": {
              "model_id": "a77baf4bf03d46ae8f82ae38f65cc604",
              "version_minor": 0,
              "version_major": 2
            },
            "text/plain": [
              "Output()"
            ]
          },
          "metadata": {
            "tags": [
              "id22_content_1",
              "outputarea_id22",
              "user_output"
            ]
          }
        },
        {
          "output_type": "display_data",
          "data": {
            "application/javascript": [
              "window[\"ed352844-179a-11ea-b054-0242ac1c0002\"] = google.colab.output.setActiveOutputArea(window[\"ece51f98-179a-11ea-b054-0242ac1c0002\"]);\n",
              "//# sourceURL=js_92064e9867"
            ],
            "text/plain": [
              "<IPython.core.display.Javascript object>"
            ]
          },
          "metadata": {
            "tags": [
              "id22_content_1",
              "outputarea_id22"
            ]
          }
        }
      ]
    }
  ]
}