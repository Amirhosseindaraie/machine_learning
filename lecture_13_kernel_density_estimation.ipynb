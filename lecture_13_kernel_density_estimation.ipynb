{
  "nbformat": 4,
  "nbformat_minor": 0,
  "metadata": {
    "colab": {
      "name": "lecture_13_kernel_density_estimation.ipynb",
      "version": "0.3.2",
      "provenance": [],
      "include_colab_link": true
    },
    "kernelspec": {
      "name": "python3",
      "display_name": "Python 3"
    }
  },
  "cells": [
    {
      "cell_type": "markdown",
      "metadata": {
        "id": "view-in-github",
        "colab_type": "text"
      },
      "source": [
        "<a href=\"https://colab.research.google.com/github/fbeilstein/machine_learning/blob/master/lecture_13_kernel_density_estimation.ipynb\" target=\"_parent\"><img src=\"https://colab.research.google.com/assets/colab-badge.svg\" alt=\"Open In Colab\"/></a>"
      ]
    },
    {
      "cell_type": "markdown",
      "metadata": {
        "id": "gZYadnN3sfQi",
        "colab_type": "text"
      },
      "source": [
        "Kernel density estimation (KDE) is in some senses an algorithm that takes the mixture-of-Gaussians idea to its logical extreme: it uses a\n",
        "mixture consisting of one Gaussian component per point, resulting in an essentially nonparametric estimator of density."
      ]
    },
    {
      "cell_type": "code",
      "metadata": {
        "id": "l1JfJ4WROJgT",
        "colab_type": "code",
        "colab": {}
      },
      "source": [
        "%matplotlib inline\n",
        "import matplotlib.pyplot as plt\n",
        "import seaborn as sns; sns.set()\n",
        "import numpy as np"
      ],
      "execution_count": 0,
      "outputs": []
    },
    {
      "cell_type": "markdown",
      "metadata": {
        "id": "g2i9dmgzT0jN",
        "colab_type": "text"
      },
      "source": [
        "#Motivating KDE: Histograms"
      ]
    },
    {
      "cell_type": "code",
      "metadata": {
        "id": "FgTGp-GsT13k",
        "colab_type": "code",
        "colab": {
          "base_uri": "https://localhost:8080/",
          "height": 274
        },
        "outputId": "064a4be7-a2d8-40e7-bd4c-622fb936501c"
      },
      "source": [
        "def make_data(N, f=0.3, rseed=1):\n",
        "  rand = np.random.RandomState(rseed)\n",
        "  x = rand.randn(N)\n",
        "  x[int(f * N):] += 5\n",
        "  return x\n",
        "\n",
        "x = make_data(1000)\n",
        "hist = plt.hist(x, bins=30, density=True)"
      ],
      "execution_count": 4,
      "outputs": [
        {
          "output_type": "display_data",
          "data": {
            "image/png": "[encoded data removed]",
            "text/plain": [
              "<Figure size 432x288 with 1 Axes>"
            ]
          },
          "metadata": {
            "tags": []
          }
        }
      ]
    },
    {
      "cell_type": "code",
      "metadata": {
        "id": "wybFbOtjtMuS",
        "colab_type": "code",
        "colab": {
          "base_uri": "https://localhost:8080/",
          "height": 34
        },
        "outputId": "6fd9e0e2-0aeb-4716-8240-7c80a2060a7e"
      },
      "source": [
        "# histogram is normed = area equa to 1\n",
        "density, bins, patches = hist\n",
        "widths = bins[1:] - bins[:-1]\n",
        "(density * widths).sum()"
      ],
      "execution_count": 6,
      "outputs": [
        {
          "output_type": "execute_result",
          "data": {
            "text/plain": [
              "1.0"
            ]
          },
          "metadata": {
            "tags": []
          },
          "execution_count": 6
        }
      ]
    },
    {
      "cell_type": "code",
      "metadata": {
        "id": "BgtT92WP1Y26",
        "colab_type": "code",
        "colab": {
          "base_uri": "https://localhost:8080/",
          "height": 274
        },
        "outputId": "3581bdbe-4723-4cbb-ffde-cc94afae90c9"
      },
      "source": [
        "# main issue: depending on bins histograms\n",
        "# have qualitatively different features\n",
        "x = make_data(20)\n",
        "bins = np.linspace(-5, 10, 10)\n",
        "fig, ax = plt.subplots(1, 2, figsize=(12, 4), sharex=True, sharey=True, subplot_kw={'xlim':(-4, 9), 'ylim':(-0.02, 0.3)})\n",
        "fig.subplots_adjust(wspace=0.05)\n",
        "for i, offset in enumerate([0.0, 0.6]):\n",
        "  ax[i].hist(x, bins=bins + offset, density=True)\n",
        "  ax[i].plot(x, np.full_like(x, -0.01), '|k', markeredgewidth=1)\n",
        "  \n",
        "# is it unimodal or bimodal?"
      ],
      "execution_count": 9,
      "outputs": [
        {
          "output_type": "display_data",
          "data": {
            "image/png": "[encoded data removed]",
            "text/plain": [
              "<Figure size 864x288 with 2 Axes>"
            ]
          },
          "metadata": {
            "tags": []
          }
        }
      ]
    },
    {
      "cell_type": "code",
      "metadata": {
        "id": "nlOSSBRl155E",
        "colab_type": "code",
        "colab": {
          "base_uri": "https://localhost:8080/",
          "height": 274
        },
        "outputId": "a2ffb0d3-9471-4d68-ca35-41e4c912160a"
      },
      "source": [
        "# histogram as blocks\n",
        "fig, ax = plt.subplots()\n",
        "bins = np.arange(-3, 8)\n",
        "ax.plot(x, np.full_like(x, -0.1), '|k', markeredgewidth=1)\n",
        "for count, edge in zip(*np.histogram(x, bins)):\n",
        "  for i in range(count):\n",
        "    ax.add_patch(plt.Rectangle((edge, i), 1, 1, alpha=0.5))\n",
        "    ax.set_xlim(-4, 8)\n",
        "    ax.set_ylim(-0.2, 8)"
      ],
      "execution_count": 11,
      "outputs": [
        {
          "output_type": "display_data",
          "data": {
            "image/png": "[encoded data removed]",
            "text/plain": [
              "<Figure size 432x288 with 1 Axes>"
            ]
          },
          "metadata": {
            "tags": []
          }
        }
      ]
    },
    {
      "cell_type": "code",
      "metadata": {
        "id": "PmaIt2FW2XD9",
        "colab_type": "code",
        "colab": {
          "base_uri": "https://localhost:8080/",
          "height": 274
        },
        "outputId": "29fca3e3-6bf5-400f-9cf8-db443c4db1a6"
      },
      "source": [
        "x_d = np.linspace(-4, 8, 2000)\n",
        "density = sum((abs(xi - x_d) < 0.5) for xi in x)\n",
        "plt.fill_between(x_d, density, alpha=0.5)\n",
        "plt.plot(x, np.full_like(x, -0.1), '|k', markeredgewidth=1)\n",
        "plt.axis([-4, 8, -0.2, 8]);\n",
        "# blocks center on each individual point; this is an example of a kernel density estimate\n",
        "\n",
        "# a \"tophat\" kernel"
      ],
      "execution_count": 12,
      "outputs": [
        {
          "output_type": "display_data",
          "data": {
            "image/png": "[encoded data removed]",
            "text/plain": [
              "<Figure size 432x288 with 1 Axes>"
            ]
          },
          "metadata": {
            "tags": []
          }
        }
      ]
    },
    {
      "cell_type": "code",
      "metadata": {
        "id": "0NuMPFTb2k4v",
        "colab_type": "code",
        "colab": {
          "base_uri": "https://localhost:8080/",
          "height": 274
        },
        "outputId": "157b075c-59fd-4116-9265-d721d23d4efe"
      },
      "source": [
        "# replace every block with gaussian, sum up\n",
        "from scipy.stats import norm\n",
        "\n",
        "x_d = np.linspace(-4, 8, 1000)\n",
        "density = sum(norm(xi).pdf(x_d) for xi in x)\n",
        "plt.fill_between(x_d, density, alpha=0.5)\n",
        "plt.plot(x, np.full_like(x, -0.1), '|k', markeredgewidth=1)\n",
        "plt.axis([-4, 8, -0.2, 5]);\n",
        "\n",
        "# a Gaussian kernel"
      ],
      "execution_count": 13,
      "outputs": [
        {
          "output_type": "display_data",
          "data": {
            "image/png": "[encoded data removed]",
            "text/plain": [
              "<Figure size 432x288 with 1 Axes>"
            ]
          },
          "metadata": {
            "tags": []
          }
        }
      ]
    },
    {
      "cell_type": "markdown",
      "metadata": {
        "id": "UKtTyenQ21oM",
        "colab_type": "text"
      },
      "source": [
        "#Kernel Density Estimation in Practice"
      ]
    }
  ]
}