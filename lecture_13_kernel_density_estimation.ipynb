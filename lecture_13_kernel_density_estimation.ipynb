{
  "nbformat": 4,
  "nbformat_minor": 0,
  "metadata": {
    "colab": {
      "name": "lecture_13_kernel_density_estimation.ipynb",
      "provenance": [],
      "include_colab_link": true
    },
    "kernelspec": {
      "name": "python3",
      "display_name": "Python 3"
    },
    "widgets": {
      "application/vnd.jupyter.widget-state+json": {
        "4834e79a2937452096a556ac3f67e5fb": {
          "model_module": "@jupyter-widgets/controls",
          "model_name": "HBoxModel",
          "state": {
            "_view_name": "HBoxView",
            "_dom_classes": [],
            "_model_name": "HBoxModel",
            "_view_module": "@jupyter-widgets/controls",
            "_model_module_version": "1.5.0",
            "_view_count": null,
            "_view_module_version": "1.5.0",
            "box_style": "",
            "layout": "IPY_MODEL_06b2e466743a4ce6957ac5c4af6c5a1f",
            "_model_module": "@jupyter-widgets/controls",
            "children": [
              "IPY_MODEL_a127ff5fc7574b04adda9ee7ee1bfdc5",
              "IPY_MODEL_581bc65d5a274791868ddaa0b9537bc2",
              "IPY_MODEL_c8c8bbccbb814749ae818ba186374f60",
              "IPY_MODEL_f2947d00350f422b8eeabdfe1f61f1fd"
            ]
          }
        },
        "06b2e466743a4ce6957ac5c4af6c5a1f": {
          "model_module": "@jupyter-widgets/base",
          "model_name": "LayoutModel",
          "state": {
            "_view_name": "LayoutView",
            "grid_template_rows": null,
            "right": null,
            "justify_content": null,
            "_view_module": "@jupyter-widgets/base",
            "overflow": null,
            "_model_module_version": "1.2.0",
            "_view_count": null,
            "flex_flow": null,
            "width": null,
            "min_width": null,
            "border": null,
            "align_items": null,
            "bottom": null,
            "_model_module": "@jupyter-widgets/base",
            "top": null,
            "grid_column": null,
            "overflow_y": null,
            "overflow_x": null,
            "grid_auto_flow": null,
            "grid_area": null,
            "grid_template_columns": null,
            "flex": null,
            "_model_name": "LayoutModel",
            "justify_items": null,
            "grid_row": null,
            "max_height": null,
            "align_content": null,
            "visibility": null,
            "align_self": null,
            "height": null,
            "min_height": null,
            "padding": null,
            "grid_auto_rows": null,
            "grid_gap": null,
            "max_width": null,
            "order": null,
            "_view_module_version": "1.2.0",
            "grid_template_areas": null,
            "object_position": null,
            "object_fit": null,
            "grid_auto_columns": null,
            "margin": null,
            "display": null,
            "left": null
          }
        },
        "a127ff5fc7574b04adda9ee7ee1bfdc5": {
          "model_module": "@jupyter-widgets/controls",
          "model_name": "VBoxModel",
          "state": {
            "_view_name": "VBoxView",
            "_dom_classes": [],
            "_model_name": "VBoxModel",
            "_view_module": "@jupyter-widgets/controls",
            "_model_module_version": "1.5.0",
            "_view_count": null,
            "_view_module_version": "1.5.0",
            "box_style": "",
            "layout": "IPY_MODEL_b256d365aef74413a4e3a497459c2fea",
            "_model_module": "@jupyter-widgets/controls",
            "children": [
              "IPY_MODEL_2ac03fd4fa574db48976baae08adfc53"
            ]
          }
        },
        "581bc65d5a274791868ddaa0b9537bc2": {
          "model_module": "@jupyter-widgets/controls",
          "model_name": "VBoxModel",
          "state": {
            "_view_name": "VBoxView",
            "_dom_classes": [],
            "_model_name": "VBoxModel",
            "_view_module": "@jupyter-widgets/controls",
            "_model_module_version": "1.5.0",
            "_view_count": null,
            "_view_module_version": "1.5.0",
            "box_style": "",
            "layout": "IPY_MODEL_93505e7751b747c7b1310bbf93723f72",
            "_model_module": "@jupyter-widgets/controls",
            "children": [
              "IPY_MODEL_352e8f299bf448f38c360b7910707665",
              "IPY_MODEL_79d998a7ad1a45b5b9d036c97e6487b9"
            ]
          }
        },
        "c8c8bbccbb814749ae818ba186374f60": {
          "model_module": "@jupyter-widgets/controls",
          "model_name": "VBoxModel",
          "state": {
            "_view_name": "VBoxView",
            "_dom_classes": [],
            "_model_name": "VBoxModel",
            "_view_module": "@jupyter-widgets/controls",
            "_model_module_version": "1.5.0",
            "_view_count": null,
            "_view_module_version": "1.5.0",
            "box_style": "",
            "layout": "IPY_MODEL_94ce5d49f7f34d3d99aea968424553b8",
            "_model_module": "@jupyter-widgets/controls",
            "children": [
              "IPY_MODEL_c4630e3b75864c409cd5e6d5a58f4023",
              "IPY_MODEL_85b165340b0d449c89acf3ccf46fd578"
            ]
          }
        },
        "f2947d00350f422b8eeabdfe1f61f1fd": {
          "model_module": "@jupyter-widgets/controls",
          "model_name": "VBoxModel",
          "state": {
            "_view_name": "VBoxView",
            "_dom_classes": [],
            "_model_name": "VBoxModel",
            "_view_module": "@jupyter-widgets/controls",
            "_model_module_version": "1.5.0",
            "_view_count": null,
            "_view_module_version": "1.5.0",
            "box_style": "",
            "layout": "IPY_MODEL_bb713b9f47984d95a716ad3273865a7f",
            "_model_module": "@jupyter-widgets/controls",
            "children": [
              "IPY_MODEL_742020c31f4f4220ba7d681f34c36c27",
              "IPY_MODEL_9257c5738390407a95646e7d691c90a0"
            ]
          }
        },
        "b256d365aef74413a4e3a497459c2fea": {
          "model_module": "@jupyter-widgets/base",
          "model_name": "LayoutModel",
          "state": {
            "_view_name": "LayoutView",
            "grid_template_rows": null,
            "right": null,
            "justify_content": null,
            "_view_module": "@jupyter-widgets/base",
            "overflow": null,
            "_model_module_version": "1.2.0",
            "_view_count": null,
            "flex_flow": null,
            "width": null,
            "min_width": null,
            "border": null,
            "align_items": null,
            "bottom": null,
            "_model_module": "@jupyter-widgets/base",
            "top": null,
            "grid_column": null,
            "overflow_y": null,
            "overflow_x": null,
            "grid_auto_flow": null,
            "grid_area": null,
            "grid_template_columns": null,
            "flex": null,
            "_model_name": "LayoutModel",
            "justify_items": null,
            "grid_row": null,
            "max_height": null,
            "align_content": null,
            "visibility": null,
            "align_self": null,
            "height": null,
            "min_height": null,
            "padding": null,
            "grid_auto_rows": null,
            "grid_gap": null,
            "max_width": null,
            "order": null,
            "_view_module_version": "1.2.0",
            "grid_template_areas": null,
            "object_position": null,
            "object_fit": null,
            "grid_auto_columns": null,
            "margin": null,
            "display": null,
            "left": null
          }
        },
        "2ac03fd4fa574db48976baae08adfc53": {
          "model_module": "@jupyter-widgets/controls",
          "model_name": "FloatRangeSliderModel",
          "state": {
            "_view_name": "FloatRangeSliderView",
            "style": "IPY_MODEL_9824cdadfd944393873536705c1975fb",
            "_dom_classes": [],
            "description": "pi(1,2,3)",
            "step": 0.1,
            "_model_name": "FloatRangeSliderModel",
            "orientation": "horizontal",
            "max": 1,
            "_view_module": "@jupyter-widgets/controls",
            "_model_module_version": "1.5.0",
            "value": [
              0.3,
              0.6
            ],
            "_view_count": null,
            "disabled": false,
            "_view_module_version": "1.5.0",
            "min": 0,
            "continuous_update": true,
            "readout_format": ".2f",
            "description_tooltip": null,
            "readout": true,
            "_model_module": "@jupyter-widgets/controls",
            "layout": "IPY_MODEL_aad7d07b90a54ae1ba3d948218f66b38"
          }
        },
        "93505e7751b747c7b1310bbf93723f72": {
          "model_module": "@jupyter-widgets/base",
          "model_name": "LayoutModel",
          "state": {
            "_view_name": "LayoutView",
            "grid_template_rows": null,
            "right": null,
            "justify_content": null,
            "_view_module": "@jupyter-widgets/base",
            "overflow": null,
            "_model_module_version": "1.2.0",
            "_view_count": null,
            "flex_flow": null,
            "width": null,
            "min_width": null,
            "border": null,
            "align_items": null,
            "bottom": null,
            "_model_module": "@jupyter-widgets/base",
            "top": null,
            "grid_column": null,
            "overflow_y": null,
            "overflow_x": null,
            "grid_auto_flow": null,
            "grid_area": null,
            "grid_template_columns": null,
            "flex": null,
            "_model_name": "LayoutModel",
            "justify_items": null,
            "grid_row": null,
            "max_height": null,
            "align_content": null,
            "visibility": null,
            "align_self": null,
            "height": null,
            "min_height": null,
            "padding": null,
            "grid_auto_rows": null,
            "grid_gap": null,
            "max_width": null,
            "order": null,
            "_view_module_version": "1.2.0",
            "grid_template_areas": null,
            "object_position": null,
            "object_fit": null,
            "grid_auto_columns": null,
            "margin": null,
            "display": null,
            "left": null
          }
        },
        "352e8f299bf448f38c360b7910707665": {
          "model_module": "@jupyter-widgets/controls",
          "model_name": "FloatSliderModel",
          "state": {
            "_view_name": "FloatSliderView",
            "style": "IPY_MODEL_212af066ae8a4b8a8afa3e03674500f2",
            "_dom_classes": [],
            "description": "mu_1",
            "step": 0.1,
            "_model_name": "FloatSliderModel",
            "orientation": "horizontal",
            "max": 100,
            "_view_module": "@jupyter-widgets/controls",
            "_model_module_version": "1.5.0",
            "value": 14.2,
            "_view_count": null,
            "disabled": false,
            "_view_module_version": "1.5.0",
            "min": 0,
            "continuous_update": true,
            "readout_format": ".2f",
            "description_tooltip": null,
            "readout": true,
            "_model_module": "@jupyter-widgets/controls",
            "layout": "IPY_MODEL_6a522e02f2bd4cb99283d0b821cb4249"
          }
        },
        "79d998a7ad1a45b5b9d036c97e6487b9": {
          "model_module": "@jupyter-widgets/controls",
          "model_name": "FloatSliderModel",
          "state": {
            "_view_name": "FloatSliderView",
            "style": "IPY_MODEL_996e1314bf514828b5161e2f9a6975bb",
            "_dom_classes": [],
            "description": "sigma_1",
            "step": 0.1,
            "_model_name": "FloatSliderModel",
            "orientation": "horizontal",
            "max": 10,
            "_view_module": "@jupyter-widgets/controls",
            "_model_module_version": "1.5.0",
            "value": 10,
            "_view_count": null,
            "disabled": false,
            "_view_module_version": "1.5.0",
            "min": 1,
            "continuous_update": true,
            "readout_format": ".2f",
            "description_tooltip": null,
            "readout": true,
            "_model_module": "@jupyter-widgets/controls",
            "layout": "IPY_MODEL_e2b454621ff541f8bb3fb6c1013e7d9a"
          }
        },
        "94ce5d49f7f34d3d99aea968424553b8": {
          "model_module": "@jupyter-widgets/base",
          "model_name": "LayoutModel",
          "state": {
            "_view_name": "LayoutView",
            "grid_template_rows": null,
            "right": null,
            "justify_content": null,
            "_view_module": "@jupyter-widgets/base",
            "overflow": null,
            "_model_module_version": "1.2.0",
            "_view_count": null,
            "flex_flow": null,
            "width": null,
            "min_width": null,
            "border": null,
            "align_items": null,
            "bottom": null,
            "_model_module": "@jupyter-widgets/base",
            "top": null,
            "grid_column": null,
            "overflow_y": null,
            "overflow_x": null,
            "grid_auto_flow": null,
            "grid_area": null,
            "grid_template_columns": null,
            "flex": null,
            "_model_name": "LayoutModel",
            "justify_items": null,
            "grid_row": null,
            "max_height": null,
            "align_content": null,
            "visibility": null,
            "align_self": null,
            "height": null,
            "min_height": null,
            "padding": null,
            "grid_auto_rows": null,
            "grid_gap": null,
            "max_width": null,
            "order": null,
            "_view_module_version": "1.2.0",
            "grid_template_areas": null,
            "object_position": null,
            "object_fit": null,
            "grid_auto_columns": null,
            "margin": null,
            "display": null,
            "left": null
          }
        },
        "c4630e3b75864c409cd5e6d5a58f4023": {
          "model_module": "@jupyter-widgets/controls",
          "model_name": "FloatSliderModel",
          "state": {
            "_view_name": "FloatSliderView",
            "style": "IPY_MODEL_4dd86b651d7745899f7ec314a6f9a13c",
            "_dom_classes": [],
            "description": "mu_2",
            "step": 0.1,
            "_model_name": "FloatSliderModel",
            "orientation": "horizontal",
            "max": 100,
            "_view_module": "@jupyter-widgets/controls",
            "_model_module_version": "1.5.0",
            "value": 50,
            "_view_count": null,
            "disabled": false,
            "_view_module_version": "1.5.0",
            "min": 0,
            "continuous_update": true,
            "readout_format": ".2f",
            "description_tooltip": null,
            "readout": true,
            "_model_module": "@jupyter-widgets/controls",
            "layout": "IPY_MODEL_014dc7c3f2ea4fdc8d06bf35d9e5e4e3"
          }
        },
        "85b165340b0d449c89acf3ccf46fd578": {
          "model_module": "@jupyter-widgets/controls",
          "model_name": "FloatSliderModel",
          "state": {
            "_view_name": "FloatSliderView",
            "style": "IPY_MODEL_195ba5d8c34444998b5991a60726d7a9",
            "_dom_classes": [],
            "description": "sigma_2",
            "step": 0.1,
            "_model_name": "FloatSliderModel",
            "orientation": "horizontal",
            "max": 10,
            "_view_module": "@jupyter-widgets/controls",
            "_model_module_version": "1.5.0",
            "value": 10,
            "_view_count": null,
            "disabled": false,
            "_view_module_version": "1.5.0",
            "min": 1,
            "continuous_update": true,
            "readout_format": ".2f",
            "description_tooltip": null,
            "readout": true,
            "_model_module": "@jupyter-widgets/controls",
            "layout": "IPY_MODEL_cfa53441754a4454a82dc8491453ed5c"
          }
        },
        "bb713b9f47984d95a716ad3273865a7f": {
          "model_module": "@jupyter-widgets/base",
          "model_name": "LayoutModel",
          "state": {
            "_view_name": "LayoutView",
            "grid_template_rows": null,
            "right": null,
            "justify_content": null,
            "_view_module": "@jupyter-widgets/base",
            "overflow": null,
            "_model_module_version": "1.2.0",
            "_view_count": null,
            "flex_flow": null,
            "width": null,
            "min_width": null,
            "border": null,
            "align_items": null,
            "bottom": null,
            "_model_module": "@jupyter-widgets/base",
            "top": null,
            "grid_column": null,
            "overflow_y": null,
            "overflow_x": null,
            "grid_auto_flow": null,
            "grid_area": null,
            "grid_template_columns": null,
            "flex": null,
            "_model_name": "LayoutModel",
            "justify_items": null,
            "grid_row": null,
            "max_height": null,
            "align_content": null,
            "visibility": null,
            "align_self": null,
            "height": null,
            "min_height": null,
            "padding": null,
            "grid_auto_rows": null,
            "grid_gap": null,
            "max_width": null,
            "order": null,
            "_view_module_version": "1.2.0",
            "grid_template_areas": null,
            "object_position": null,
            "object_fit": null,
            "grid_auto_columns": null,
            "margin": null,
            "display": null,
            "left": null
          }
        },
        "742020c31f4f4220ba7d681f34c36c27": {
          "model_module": "@jupyter-widgets/controls",
          "model_name": "FloatSliderModel",
          "state": {
            "_view_name": "FloatSliderView",
            "style": "IPY_MODEL_3f9c9e9ef6674abd8eeb0874255a30e1",
            "_dom_classes": [],
            "description": "mu_3",
            "step": 0.1,
            "_model_name": "FloatSliderModel",
            "orientation": "horizontal",
            "max": 100,
            "_view_module": "@jupyter-widgets/controls",
            "_model_module_version": "1.5.0",
            "value": 90,
            "_view_count": null,
            "disabled": false,
            "_view_module_version": "1.5.0",
            "min": 0,
            "continuous_update": true,
            "readout_format": ".2f",
            "description_tooltip": null,
            "readout": true,
            "_model_module": "@jupyter-widgets/controls",
            "layout": "IPY_MODEL_83b25cca3bc1449c97a0f1966fde4248"
          }
        },
        "9257c5738390407a95646e7d691c90a0": {
          "model_module": "@jupyter-widgets/controls",
          "model_name": "FloatSliderModel",
          "state": {
            "_view_name": "FloatSliderView",
            "style": "IPY_MODEL_98fcdc68351543df9d13fc8b93451b4f",
            "_dom_classes": [],
            "description": "sigma_3",
            "step": 0.1,
            "_model_name": "FloatSliderModel",
            "orientation": "horizontal",
            "max": 10,
            "_view_module": "@jupyter-widgets/controls",
            "_model_module_version": "1.5.0",
            "value": 10,
            "_view_count": null,
            "disabled": false,
            "_view_module_version": "1.5.0",
            "min": 1,
            "continuous_update": true,
            "readout_format": ".2f",
            "description_tooltip": null,
            "readout": true,
            "_model_module": "@jupyter-widgets/controls",
            "layout": "IPY_MODEL_5168c59925da471080767f006d886123"
          }
        },
        "9824cdadfd944393873536705c1975fb": {
          "model_module": "@jupyter-widgets/controls",
          "model_name": "SliderStyleModel",
          "state": {
            "_view_name": "StyleView",
            "handle_color": null,
            "_model_name": "SliderStyleModel",
            "description_width": "",
            "_view_module": "@jupyter-widgets/base",
            "_model_module_version": "1.5.0",
            "_view_count": null,
            "_view_module_version": "1.2.0",
            "_model_module": "@jupyter-widgets/controls"
          }
        },
        "aad7d07b90a54ae1ba3d948218f66b38": {
          "model_module": "@jupyter-widgets/base",
          "model_name": "LayoutModel",
          "state": {
            "_view_name": "LayoutView",
            "grid_template_rows": null,
            "right": null,
            "justify_content": null,
            "_view_module": "@jupyter-widgets/base",
            "overflow": null,
            "_model_module_version": "1.2.0",
            "_view_count": null,
            "flex_flow": null,
            "width": null,
            "min_width": null,
            "border": null,
            "align_items": null,
            "bottom": null,
            "_model_module": "@jupyter-widgets/base",
            "top": null,
            "grid_column": null,
            "overflow_y": null,
            "overflow_x": null,
            "grid_auto_flow": null,
            "grid_area": null,
            "grid_template_columns": null,
            "flex": null,
            "_model_name": "LayoutModel",
            "justify_items": null,
            "grid_row": null,
            "max_height": null,
            "align_content": null,
            "visibility": null,
            "align_self": null,
            "height": null,
            "min_height": null,
            "padding": null,
            "grid_auto_rows": null,
            "grid_gap": null,
            "max_width": null,
            "order": null,
            "_view_module_version": "1.2.0",
            "grid_template_areas": null,
            "object_position": null,
            "object_fit": null,
            "grid_auto_columns": null,
            "margin": null,
            "display": null,
            "left": null
          }
        },
        "212af066ae8a4b8a8afa3e03674500f2": {
          "model_module": "@jupyter-widgets/controls",
          "model_name": "SliderStyleModel",
          "state": {
            "_view_name": "StyleView",
            "handle_color": null,
            "_model_name": "SliderStyleModel",
            "description_width": "",
            "_view_module": "@jupyter-widgets/base",
            "_model_module_version": "1.5.0",
            "_view_count": null,
            "_view_module_version": "1.2.0",
            "_model_module": "@jupyter-widgets/controls"
          }
        },
        "6a522e02f2bd4cb99283d0b821cb4249": {
          "model_module": "@jupyter-widgets/base",
          "model_name": "LayoutModel",
          "state": {
            "_view_name": "LayoutView",
            "grid_template_rows": null,
            "right": null,
            "justify_content": null,
            "_view_module": "@jupyter-widgets/base",
            "overflow": null,
            "_model_module_version": "1.2.0",
            "_view_count": null,
            "flex_flow": null,
            "width": null,
            "min_width": null,
            "border": null,
            "align_items": null,
            "bottom": null,
            "_model_module": "@jupyter-widgets/base",
            "top": null,
            "grid_column": null,
            "overflow_y": null,
            "overflow_x": null,
            "grid_auto_flow": null,
            "grid_area": null,
            "grid_template_columns": null,
            "flex": null,
            "_model_name": "LayoutModel",
            "justify_items": null,
            "grid_row": null,
            "max_height": null,
            "align_content": null,
            "visibility": null,
            "align_self": null,
            "height": null,
            "min_height": null,
            "padding": null,
            "grid_auto_rows": null,
            "grid_gap": null,
            "max_width": null,
            "order": null,
            "_view_module_version": "1.2.0",
            "grid_template_areas": null,
            "object_position": null,
            "object_fit": null,
            "grid_auto_columns": null,
            "margin": null,
            "display": null,
            "left": null
          }
        },
        "996e1314bf514828b5161e2f9a6975bb": {
          "model_module": "@jupyter-widgets/controls",
          "model_name": "SliderStyleModel",
          "state": {
            "_view_name": "StyleView",
            "handle_color": null,
            "_model_name": "SliderStyleModel",
            "description_width": "",
            "_view_module": "@jupyter-widgets/base",
            "_model_module_version": "1.5.0",
            "_view_count": null,
            "_view_module_version": "1.2.0",
            "_model_module": "@jupyter-widgets/controls"
          }
        },
        "e2b454621ff541f8bb3fb6c1013e7d9a": {
          "model_module": "@jupyter-widgets/base",
          "model_name": "LayoutModel",
          "state": {
            "_view_name": "LayoutView",
            "grid_template_rows": null,
            "right": null,
            "justify_content": null,
            "_view_module": "@jupyter-widgets/base",
            "overflow": null,
            "_model_module_version": "1.2.0",
            "_view_count": null,
            "flex_flow": null,
            "width": null,
            "min_width": null,
            "border": null,
            "align_items": null,
            "bottom": null,
            "_model_module": "@jupyter-widgets/base",
            "top": null,
            "grid_column": null,
            "overflow_y": null,
            "overflow_x": null,
            "grid_auto_flow": null,
            "grid_area": null,
            "grid_template_columns": null,
            "flex": null,
            "_model_name": "LayoutModel",
            "justify_items": null,
            "grid_row": null,
            "max_height": null,
            "align_content": null,
            "visibility": null,
            "align_self": null,
            "height": null,
            "min_height": null,
            "padding": null,
            "grid_auto_rows": null,
            "grid_gap": null,
            "max_width": null,
            "order": null,
            "_view_module_version": "1.2.0",
            "grid_template_areas": null,
            "object_position": null,
            "object_fit": null,
            "grid_auto_columns": null,
            "margin": null,
            "display": null,
            "left": null
          }
        },
        "4dd86b651d7745899f7ec314a6f9a13c": {
          "model_module": "@jupyter-widgets/controls",
          "model_name": "SliderStyleModel",
          "state": {
            "_view_name": "StyleView",
            "handle_color": null,
            "_model_name": "SliderStyleModel",
            "description_width": "",
            "_view_module": "@jupyter-widgets/base",
            "_model_module_version": "1.5.0",
            "_view_count": null,
            "_view_module_version": "1.2.0",
            "_model_module": "@jupyter-widgets/controls"
          }
        },
        "014dc7c3f2ea4fdc8d06bf35d9e5e4e3": {
          "model_module": "@jupyter-widgets/base",
          "model_name": "LayoutModel",
          "state": {
            "_view_name": "LayoutView",
            "grid_template_rows": null,
            "right": null,
            "justify_content": null,
            "_view_module": "@jupyter-widgets/base",
            "overflow": null,
            "_model_module_version": "1.2.0",
            "_view_count": null,
            "flex_flow": null,
            "width": null,
            "min_width": null,
            "border": null,
            "align_items": null,
            "bottom": null,
            "_model_module": "@jupyter-widgets/base",
            "top": null,
            "grid_column": null,
            "overflow_y": null,
            "overflow_x": null,
            "grid_auto_flow": null,
            "grid_area": null,
            "grid_template_columns": null,
            "flex": null,
            "_model_name": "LayoutModel",
            "justify_items": null,
            "grid_row": null,
            "max_height": null,
            "align_content": null,
            "visibility": null,
            "align_self": null,
            "height": null,
            "min_height": null,
            "padding": null,
            "grid_auto_rows": null,
            "grid_gap": null,
            "max_width": null,
            "order": null,
            "_view_module_version": "1.2.0",
            "grid_template_areas": null,
            "object_position": null,
            "object_fit": null,
            "grid_auto_columns": null,
            "margin": null,
            "display": null,
            "left": null
          }
        },
        "195ba5d8c34444998b5991a60726d7a9": {
          "model_module": "@jupyter-widgets/controls",
          "model_name": "SliderStyleModel",
          "state": {
            "_view_name": "StyleView",
            "handle_color": null,
            "_model_name": "SliderStyleModel",
            "description_width": "",
            "_view_module": "@jupyter-widgets/base",
            "_model_module_version": "1.5.0",
            "_view_count": null,
            "_view_module_version": "1.2.0",
            "_model_module": "@jupyter-widgets/controls"
          }
        },
        "cfa53441754a4454a82dc8491453ed5c": {
          "model_module": "@jupyter-widgets/base",
          "model_name": "LayoutModel",
          "state": {
            "_view_name": "LayoutView",
            "grid_template_rows": null,
            "right": null,
            "justify_content": null,
            "_view_module": "@jupyter-widgets/base",
            "overflow": null,
            "_model_module_version": "1.2.0",
            "_view_count": null,
            "flex_flow": null,
            "width": null,
            "min_width": null,
            "border": null,
            "align_items": null,
            "bottom": null,
            "_model_module": "@jupyter-widgets/base",
            "top": null,
            "grid_column": null,
            "overflow_y": null,
            "overflow_x": null,
            "grid_auto_flow": null,
            "grid_area": null,
            "grid_template_columns": null,
            "flex": null,
            "_model_name": "LayoutModel",
            "justify_items": null,
            "grid_row": null,
            "max_height": null,
            "align_content": null,
            "visibility": null,
            "align_self": null,
            "height": null,
            "min_height": null,
            "padding": null,
            "grid_auto_rows": null,
            "grid_gap": null,
            "max_width": null,
            "order": null,
            "_view_module_version": "1.2.0",
            "grid_template_areas": null,
            "object_position": null,
            "object_fit": null,
            "grid_auto_columns": null,
            "margin": null,
            "display": null,
            "left": null
          }
        },
        "3f9c9e9ef6674abd8eeb0874255a30e1": {
          "model_module": "@jupyter-widgets/controls",
          "model_name": "SliderStyleModel",
          "state": {
            "_view_name": "StyleView",
            "handle_color": null,
            "_model_name": "SliderStyleModel",
            "description_width": "",
            "_view_module": "@jupyter-widgets/base",
            "_model_module_version": "1.5.0",
            "_view_count": null,
            "_view_module_version": "1.2.0",
            "_model_module": "@jupyter-widgets/controls"
          }
        },
        "83b25cca3bc1449c97a0f1966fde4248": {
          "model_module": "@jupyter-widgets/base",
          "model_name": "LayoutModel",
          "state": {
            "_view_name": "LayoutView",
            "grid_template_rows": null,
            "right": null,
            "justify_content": null,
            "_view_module": "@jupyter-widgets/base",
            "overflow": null,
            "_model_module_version": "1.2.0",
            "_view_count": null,
            "flex_flow": null,
            "width": null,
            "min_width": null,
            "border": null,
            "align_items": null,
            "bottom": null,
            "_model_module": "@jupyter-widgets/base",
            "top": null,
            "grid_column": null,
            "overflow_y": null,
            "overflow_x": null,
            "grid_auto_flow": null,
            "grid_area": null,
            "grid_template_columns": null,
            "flex": null,
            "_model_name": "LayoutModel",
            "justify_items": null,
            "grid_row": null,
            "max_height": null,
            "align_content": null,
            "visibility": null,
            "align_self": null,
            "height": null,
            "min_height": null,
            "padding": null,
            "grid_auto_rows": null,
            "grid_gap": null,
            "max_width": null,
            "order": null,
            "_view_module_version": "1.2.0",
            "grid_template_areas": null,
            "object_position": null,
            "object_fit": null,
            "grid_auto_columns": null,
            "margin": null,
            "display": null,
            "left": null
          }
        },
        "98fcdc68351543df9d13fc8b93451b4f": {
          "model_module": "@jupyter-widgets/controls",
          "model_name": "SliderStyleModel",
          "state": {
            "_view_name": "StyleView",
            "handle_color": null,
            "_model_name": "SliderStyleModel",
            "description_width": "",
            "_view_module": "@jupyter-widgets/base",
            "_model_module_version": "1.5.0",
            "_view_count": null,
            "_view_module_version": "1.2.0",
            "_model_module": "@jupyter-widgets/controls"
          }
        },
        "5168c59925da471080767f006d886123": {
          "model_module": "@jupyter-widgets/base",
          "model_name": "LayoutModel",
          "state": {
            "_view_name": "LayoutView",
            "grid_template_rows": null,
            "right": null,
            "justify_content": null,
            "_view_module": "@jupyter-widgets/base",
            "overflow": null,
            "_model_module_version": "1.2.0",
            "_view_count": null,
            "flex_flow": null,
            "width": null,
            "min_width": null,
            "border": null,
            "align_items": null,
            "bottom": null,
            "_model_module": "@jupyter-widgets/base",
            "top": null,
            "grid_column": null,
            "overflow_y": null,
            "overflow_x": null,
            "grid_auto_flow": null,
            "grid_area": null,
            "grid_template_columns": null,
            "flex": null,
            "_model_name": "LayoutModel",
            "justify_items": null,
            "grid_row": null,
            "max_height": null,
            "align_content": null,
            "visibility": null,
            "align_self": null,
            "height": null,
            "min_height": null,
            "padding": null,
            "grid_auto_rows": null,
            "grid_gap": null,
            "max_width": null,
            "order": null,
            "_view_module_version": "1.2.0",
            "grid_template_areas": null,
            "object_position": null,
            "object_fit": null,
            "grid_auto_columns": null,
            "margin": null,
            "display": null,
            "left": null
          }
        },
        "176e33051d914094868213ffa7f99ad3": {
          "model_module": "@jupyter-widgets/output",
          "model_name": "OutputModel",
          "state": {
            "_view_name": "OutputView",
            "msg_id": "",
            "_dom_classes": [],
            "_model_name": "OutputModel",
            "outputs": [
              {
                "output_type": "display_data",
                "metadata": {
                  "tags": []
                },
                "image/png": "iVBORw0KGgoAAAANSUhEUgAAAnYAAAH1CAYAAAB7mLMSAAAABHNCSVQICAgIfAhkiAAAAAlwSFlz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\n",
                "text/plain": "<Figure size 720x576 with 1 Axes>"
              }
            ],
            "_view_module": "@jupyter-widgets/output",
            "_model_module_version": "1.0.0",
            "_view_count": null,
            "_view_module_version": "1.0.0",
            "layout": "IPY_MODEL_de823c2708294f118ffd31922d40ccb6",
            "_model_module": "@jupyter-widgets/output"
          }
        },
        "cf311d8e4d2e46f482507a53d980ac2b": {
          "model_module": "@jupyter-widgets/controls",
          "model_name": "HBoxModel",
          "state": {
            "_view_name": "HBoxView",
            "_dom_classes": [],
            "_model_name": "HBoxModel",
            "_view_module": "@jupyter-widgets/controls",
            "_model_module_version": "1.5.0",
            "_view_count": null,
            "_view_module_version": "1.5.0",
            "box_style": "",
            "layout": "IPY_MODEL_7fea6b2d56204f75bb47ef8fa75168e9",
            "_model_module": "@jupyter-widgets/controls",
            "children": [
              "IPY_MODEL_f02c4b1a5bb74dc28d85a29f28b7a2d9",
              "IPY_MODEL_912530136f3b494ea70695abd547bf15"
            ]
          }
        },
        "7fea6b2d56204f75bb47ef8fa75168e9": {
          "model_module": "@jupyter-widgets/base",
          "model_name": "LayoutModel",
          "state": {
            "_view_name": "LayoutView",
            "grid_template_rows": null,
            "right": null,
            "justify_content": null,
            "_view_module": "@jupyter-widgets/base",
            "overflow": null,
            "_model_module_version": "1.2.0",
            "_view_count": null,
            "flex_flow": null,
            "width": null,
            "min_width": null,
            "border": null,
            "align_items": null,
            "bottom": null,
            "_model_module": "@jupyter-widgets/base",
            "top": null,
            "grid_column": null,
            "overflow_y": null,
            "overflow_x": null,
            "grid_auto_flow": null,
            "grid_area": null,
            "grid_template_columns": null,
            "flex": null,
            "_model_name": "LayoutModel",
            "justify_items": null,
            "grid_row": null,
            "max_height": null,
            "align_content": null,
            "visibility": null,
            "align_self": null,
            "height": null,
            "min_height": null,
            "padding": null,
            "grid_auto_rows": null,
            "grid_gap": null,
            "max_width": null,
            "order": null,
            "_view_module_version": "1.2.0",
            "grid_template_areas": null,
            "object_position": null,
            "object_fit": null,
            "grid_auto_columns": null,
            "margin": null,
            "display": null,
            "left": null
          }
        },
        "f02c4b1a5bb74dc28d85a29f28b7a2d9": {
          "model_module": "@jupyter-widgets/controls",
          "model_name": "DropdownModel",
          "state": {
            "_options_labels": [
              "gaussian",
              "tophat",
              "epanechnikov",
              "exponential",
              "linear",
              "cosine"
            ],
            "_view_name": "DropdownView",
            "style": "IPY_MODEL_292fd5c3c90c40ca87c0d6f398e964df",
            "_dom_classes": [],
            "description": "Kernel:",
            "_model_name": "DropdownModel",
            "index": 0,
            "_view_module": "@jupyter-widgets/controls",
            "_model_module_version": "1.5.0",
            "_view_count": null,
            "disabled": false,
            "_view_module_version": "1.5.0",
            "description_tooltip": null,
            "_model_module": "@jupyter-widgets/controls",
            "layout": "IPY_MODEL_099ed5a1d3c043f7a2a08e123f1528db"
          }
        },
        "912530136f3b494ea70695abd547bf15": {
          "model_module": "@jupyter-widgets/controls",
          "model_name": "FloatSliderModel",
          "state": {
            "_view_name": "FloatSliderView",
            "style": "IPY_MODEL_b9f3fa2a0e7f4fa9a31c76e25cb7f4af",
            "_dom_classes": [],
            "description": "bandwidth",
            "step": 0.1,
            "_model_name": "FloatSliderModel",
            "orientation": "horizontal",
            "max": 50,
            "_view_module": "@jupyter-widgets/controls",
            "_model_module_version": "1.5.0",
            "value": 10,
            "_view_count": null,
            "disabled": false,
            "_view_module_version": "1.5.0",
            "min": 1,
            "continuous_update": true,
            "readout_format": ".2f",
            "description_tooltip": null,
            "readout": true,
            "_model_module": "@jupyter-widgets/controls",
            "layout": "IPY_MODEL_0fdf4fc78665490b85757e9cb0251c7b"
          }
        },
        "292fd5c3c90c40ca87c0d6f398e964df": {
          "model_module": "@jupyter-widgets/controls",
          "model_name": "DescriptionStyleModel",
          "state": {
            "_view_name": "StyleView",
            "_model_name": "DescriptionStyleModel",
            "description_width": "",
            "_view_module": "@jupyter-widgets/base",
            "_model_module_version": "1.5.0",
            "_view_count": null,
            "_view_module_version": "1.2.0",
            "_model_module": "@jupyter-widgets/controls"
          }
        },
        "099ed5a1d3c043f7a2a08e123f1528db": {
          "model_module": "@jupyter-widgets/base",
          "model_name": "LayoutModel",
          "state": {
            "_view_name": "LayoutView",
            "grid_template_rows": null,
            "right": null,
            "justify_content": null,
            "_view_module": "@jupyter-widgets/base",
            "overflow": null,
            "_model_module_version": "1.2.0",
            "_view_count": null,
            "flex_flow": null,
            "width": null,
            "min_width": null,
            "border": null,
            "align_items": null,
            "bottom": null,
            "_model_module": "@jupyter-widgets/base",
            "top": null,
            "grid_column": null,
            "overflow_y": null,
            "overflow_x": null,
            "grid_auto_flow": null,
            "grid_area": null,
            "grid_template_columns": null,
            "flex": null,
            "_model_name": "LayoutModel",
            "justify_items": null,
            "grid_row": null,
            "max_height": null,
            "align_content": null,
            "visibility": null,
            "align_self": null,
            "height": null,
            "min_height": null,
            "padding": null,
            "grid_auto_rows": null,
            "grid_gap": null,
            "max_width": null,
            "order": null,
            "_view_module_version": "1.2.0",
            "grid_template_areas": null,
            "object_position": null,
            "object_fit": null,
            "grid_auto_columns": null,
            "margin": null,
            "display": null,
            "left": null
          }
        },
        "b9f3fa2a0e7f4fa9a31c76e25cb7f4af": {
          "model_module": "@jupyter-widgets/controls",
          "model_name": "SliderStyleModel",
          "state": {
            "_view_name": "StyleView",
            "handle_color": null,
            "_model_name": "SliderStyleModel",
            "description_width": "",
            "_view_module": "@jupyter-widgets/base",
            "_model_module_version": "1.5.0",
            "_view_count": null,
            "_view_module_version": "1.2.0",
            "_model_module": "@jupyter-widgets/controls"
          }
        },
        "0fdf4fc78665490b85757e9cb0251c7b": {
          "model_module": "@jupyter-widgets/base",
          "model_name": "LayoutModel",
          "state": {
            "_view_name": "LayoutView",
            "grid_template_rows": null,
            "right": null,
            "justify_content": null,
            "_view_module": "@jupyter-widgets/base",
            "overflow": null,
            "_model_module_version": "1.2.0",
            "_view_count": null,
            "flex_flow": null,
            "width": null,
            "min_width": null,
            "border": null,
            "align_items": null,
            "bottom": null,
            "_model_module": "@jupyter-widgets/base",
            "top": null,
            "grid_column": null,
            "overflow_y": null,
            "overflow_x": null,
            "grid_auto_flow": null,
            "grid_area": null,
            "grid_template_columns": null,
            "flex": null,
            "_model_name": "LayoutModel",
            "justify_items": null,
            "grid_row": null,
            "max_height": null,
            "align_content": null,
            "visibility": null,
            "align_self": null,
            "height": null,
            "min_height": null,
            "padding": null,
            "grid_auto_rows": null,
            "grid_gap": null,
            "max_width": null,
            "order": null,
            "_view_module_version": "1.2.0",
            "grid_template_areas": null,
            "object_position": null,
            "object_fit": null,
            "grid_auto_columns": null,
            "margin": null,
            "display": null,
            "left": null
          }
        },
        "9c0628c8157f4809a7b50ffdd35e5b5e": {
          "model_module": "@jupyter-widgets/output",
          "model_name": "OutputModel",
          "state": {
            "_view_name": "OutputView",
            "msg_id": "",
            "_dom_classes": [],
            "_model_name": "OutputModel",
            "outputs": [
              {
                "output_type": "display_data",
                "metadata": {
                  "tags": []
                },
                "image/png": "iVBORw0KGgoAAAANSUhEUgAAAnYAAAH1CAYAAAB7mLMSAAAABHNCSVQICAgIfAhkiAAAAAlwSFlz\nAAALEgAACxIB0t1+/AAAADh0RVh0U29mdHdhcmUAbWF0cGxvdGxpYiB2ZXJzaW9uMy4xLjIsIGh0\ndHA6Ly9tYXRwbG90bGliLm9yZy8li6FKAAAgAElEQVR4nOzdd2BUZbo/8O+U9EIKSQgSAoSS0AMh\ngEKUjoqC7AI/WdG9Kl5X1i3qrrvqUlzcFd2r3sV2V1cUsq7KWulITQIESCOBkAJJIJCQ3iZ1yvn9\nMeTkDKRnZs7M5Pv565zMKc8chuSZtzyvQhAEAURERERk95RyB0BERERE5sHEjoiIiMhBMLEjIiIi\nchBM7IiIiIgcBBM7IiIiIgfBxI6IiIjIQTCxI6J+6eGHH8Y333wj7v/tb3/D9OnTERMTY/F7v/32\n2/jDH/4g7u/fvx8xMTGIjIxEdna2xe773nvvYf369Ra7PhHJTy13AETkGCIjI8XtxsZGODs7Q6VS\nAQA2bdqEBx98UK7QulRYWIgdO3bg6NGj8PPz6/C49957DzqdDr/+9a/Nev8tW7bg1VdfxT333GO2\na548eRKvvPIKjhw5Iv5s3bp1Zrv+rWJiYvDmm29i+vTpFrsHEXWNiR0RmUVqaqq4PXfuXGzevBl3\n3nlnh8frdDqo1bbxK6ioqAj+/v6dJnUAcPz4cbz00ktmvbfBYEBxcTFGjhxp1usSUf/Erlgisoq3\n334bv/nNb/Dcc88hMjISP/zwA1544QVs3bpVPObkyZOYO3euuH/jxg2sW7cOM2bMwNy5c/Gvf/2r\nw+u/8MIL2LRpEx577DFERkZizZo1KC4uFl+Pi4vDokWLMHXqVGzevBmti+7ExcVh7dq1KCoqQmRk\nJF5++eV2r19ZWYlr165h4sSJt722c+dO/OxnP8PGjRsxdepU3HvvvUhMTBRfLywsxOrVqxEZGYkn\nnngC1dXVAICGhgZMnToVgiBgyZIlWLRoUbv3vnTpEn7+858jOjoaixcvxoEDB8TXjh49invvvReR\nkZGIiYnBp59+irq6Ojz99NPie4qMjERFRYVJF/CVK1cwZswYfPPNN4iJiUF0dDS++uornDt3Dg88\n8ACioqKwefNm8T4FBQVYs2YNoqOjMX36dPzud79DXV0dAOC5555DaWkp1q5di8jISGzbtg0AkJyc\njJUrVyIqKgpLly7F2bNnO/z3IyIzEYiIzGzOnDnCiRMnTH721ltvCePGjRMOHz4s6PV6obGxUXj+\n+eeFv//97+IxJ06cEObMmSMIgiDo9XrhwQcfFD744AOhublZKCgoEObMmSOcPHmy3Xs+//zzwpQp\nU4SkpCShublZ2Lhxo/DII48IgiAI5eXlwuTJk4WDBw8KLS0twkcffSREREQIX3/99W337ch3330n\nvPDCC+2+9tVXXwkRERHCZ599JrS0tAg//PCDEBUVJdTU1AiCIAjLly8XXn/9daG5uVlITEwUJk+e\nLLz44ouCIAiCVqsVRo8eLRQWFrZ7bY1GI8yaNUv49ttvBa1WK2RkZAjR0dHC5cuXBUEQhOnTpwvJ\nycmCIAhCVVWVcP78+Q7f01tvvSXet6CgQBg9erSwadMmobm5WTh27JgwYcIE4ZlnnhEqKiqE4uJi\nITo6WkhKShIEQRDy8vKEkydPCs3NzUJ5ebmwatUq4fXXXxevPXv2bCExMVHcLyoqEqKjo4W4uDhB\nr9cLx48fF6Kjo4XKyspOnzMR9Q1b7IjIaqZMmYK5c+dCqVTC1dW102NTU1Oh0Wjw9NNPw9nZGaGh\nofjJT36CPXv2dHjOnDlzMHXqVDg7O+O5557D2bNnUVpaiqNHjyI8PBwLFiyAk5MTHn/88S67XW91\n/Phx3H333R2+HhAQgDVr1sDJyQkPPPAAhgwZgri4OBQWFiI7Oxu/+tWv4Ozs3OMJGocPH8awYcOw\nbNkyqNVqjB8/HvPmzRNb7dRqNS5fvgyNRgMfHx+MGzeuR+/rmWeegbOzM+6++244OTnhwQcfhJ+f\nHwYNGoQpU6bg4sWLAIDhw4dj5syZcHZ2hr+/P37+85/jzJkzHV73u+++w9y5czF79mwolUrExMQg\nPDwc8fHxPYqPiHrGNga4EFG/EBwc3O1ji4qKUFxcjKioKPFner2+08H50ut7eXnBy8sLpaWlKC0t\nNXlNqVQiKCio27Ho9XqcOnWq0xmlgwYNgkKhEPcHDx6M0tJSlJSUwMfHB25ubiavVVVVdeveRUVF\nSE1Nve05PPTQQwCMEzo++OADvPHGGwgPD8cLL7yASZMmdfu9DRw4UNx2dXWFv7+/yX5DQwMAoKys\nDJs3b0ZKSgrq6+shCAJ8fX07jXv37t348ccfxZ/pdDrMnj2727ERUc8xsSMiq5EmPgDg7u6OxsZG\ncb+srEzcDg4ORmhoKPbt29ft60vH1NXV1aGurg6BgYEICAgwaSkyGAwoKSnp9nXT0tIQGhoKHx+f\nDo+5cePGbbEEBgYiMDAQ1dXVaGpqElspi4uLu2yxbDVo0CDMmDEDH3/8cbuvT5o0CR9++CG0Wi22\nb9+O3/72tzhy5Mhtz7qv/va3v8HZ2Rm7du2Cj48P9u/fjzfeeEN8/db7DRo0CMuXL8emTZvMGgcR\ndY5dsUQkm/DwcBw/fhw1NTUoLS3Fjh07xNcmT54MJycnfPLJJ2huboZer0d2djbOnz/f4fWOHj2K\n1NRUtLS04J133kFUVBQCAwMxZ84cZGVl4dChQ9Bqtfj0009RWVnZ7Tjj4uK6LEVSVlaG2NhY6HQ6\n7NmzB1evXsXs2bMxdOhQjB49Glu3bkVLSwvOnj2L48ePd/ve8+bNw6VLl7Br1y5otVpotVqkp6cj\nLy8PTU1N2LVrFzQaDZycnODh4QGl0vhr3d/fH1VVVdBoNN2+V2fq6+vh5uYGLy8vFBcX45NPPjF5\n3d/fH4WFheL+0qVLcejQIZw4cQJ6vR7Nzc1ITEzsUUJNRD3HxI6IZLN8+XKEhYVhzpw5ePLJJ3H/\n/feLr6nVanz00UdIT0/H3LlzMWPGDGzYsKHTROXBBx/EO++8g+nTpyM7OxtbtmwBYOxufPvtt/Hm\nm29ixowZKCoqand2a0eOHTvW6fg6wFjHLzc3F9HR0di6dSu2bt2KAQMGADDOCE5JScH06dPx4Ycf\n9qimn5eXF/75z3/ihx9+wKxZszBr1iz8z//8D1paWgAYx7LNmTMHU6ZMwX/+8x+8+eabAIDRo0dj\n4cKFmDdvHqKiolBRUdHte7bn2WefRUZGBqKiovCLX/wCCxcuNHn96aefxtatWxEVFYVPP/0UQ4YM\nwbvvvov3338fM2fOxD333INt27aJs5GJyDIUAv+XEZEDeOGFFxAaGopnn33WrNctKSnBihUrEBcX\n1+ExO3fuxA8//GDS4khEJAe22BERdUKj0Zgs/0VEZMs4eYKIqBNhYWEICwuTOwwiom5hVywRERGR\ng2BXLBEREZGDYGJHRERE5CA4xu6mqqp6GAw975X29/dERYV56kT1R3x+fcPn13t8dn3D59c3fH69\n19+fnVKpgK+vR4evM7G7yWAQepXYtZ5Lvcfn1zd8fr3HZ9c3fH59w+fXe3x2HWNXLBEREZGDYGJH\nRERE5CCY2BERERE5CI6xIyIiIrPS63WoqiqDTtdi9muXliphMBjMfl1bo1Sq4ObmCU/PAVAoFN0+\nj4kdERERmVVVVRlcXd3h4TGoR0lJd6jVSuh0jp3YCYIAvV6HurpqVFWVwc8vsNvnsiuWiIiIzEqn\na4GHh7fZk7r+QqFQQK12go+PP1pamnp0LhM7IiIiMjsmdX2nUCgB9Ky0CxM7IiIiIgfBxI6IiIgI\nQFZWJjZteqXL4+LijiEz87wVIuo5JnZEREREAMLDx2LDhs1dHhcffwwXL17o1T30en2vzusuzool\nIiIii9m+/RN8+OG7aGhoMPu13d3d8fTTv8Sjjz7e6XGzZkVh7dpfID7+OGpqavDiiy8jKekMTp8+\nCZ1Ohz//eQuGDRuOlJQkvPfe/+Kf/9yB1NRkbNmyGR9/vAOenp74y182wdfXD1OmRCEhIQ5JSWew\na9f3WLVqNQRBwMmT8di8+Q0AwN69u8T9vXt34cCBfXB3d8e1a1exfv2f4evrj3feeQMlJTfQ3NyM\n+fMXdfkeuostdkRERGQxO3Zss0hSBwANDQ3YsWNbt4719PTCxx9vxy9+8Sz++MfnMWHCJGzb9jkW\nL74f27d/ctvxkZFTsXjx/Xj99Vexb99uFBZewdq1v8D06TMxa1YMHnnkMXz66ee4994lXd47MzMD\nv/zlb7Bjx1cYNWoMNm9ej5/+9P/ho4+245//jEVi4kmcPZvY4/ffHrbYERERkcWsWfNfFm2xW7Pm\nv7p17Lx5CwEAY8aEA1Dgrrtm39yPwPHjR9s959FHH8dvfvMM3nvvHXz8cSzU6t6lTRMmTMYddwwB\nADQ2NiI1NRnV1dXi6w0N9SgoKMC0aTN6dX0pqyV2+fn5+MMf/oDq6mr4+Phgy5YtGDZsmMkxer0e\nmzdvRnx8PBQKBZ566imsWLECAJCQkIC33noLOTk5WLNmDV588UWTc/fu3YsPPvgAgiBAoVBg27Zt\nGDhwoLXeHhEREbXj0UcfN1s3I9D7AsXOzs4AAKVSCWdnJ/HnSqWyw3FvGo0GJSU34OTkjLq6Ggwa\nNKjd41QqFQyGtrIkLS3NJq+7u7uJ24JggEKhwMcfb+91otgZq3XFbtiwAatXr8aBAwewevVqrF+/\n/rZjdu3ahatXr+LgwYP48ssvsXXrVly7dg0AEBISgtdeew1PPPHEbedlZGTg3XffxSeffILdu3fj\n888/h5eXl8XfExERETmuv/51E5YsWYaXX96IDRteQkNDPQDAw8MDGo1GPO6OO0Jw+XIuWlpaoNVq\ncfTokQ6v6e7ugUmTIhEb+6n4s5KSG6ioKDdLzFZJ7CoqKpCZmYklS4z90EuWLEFmZiYqKytNjtu7\ndy9WrFgBpVIJPz8/zJ8/H/v37wcAhIaGIiIiot3s9tNPP8Xjjz+OgIAAAICXlxdcXFws/K6IiIgc\nh8FgQE5ONk6ciEdGxjloteZf59WefPXV52hubsEjjzyGqKhozJkzH1u2vAYAWLToPvz44wH8/Oer\nsW/fbowfPwFRUdFYs2YlfvObZ27rkbzV+vV/Rn5+Hh59dBUefXQVNmx4ySRR7AuFIAg9K2ncC+fP\nn8eLL76IPXv2iD+777778Oabb2LcuHHizx544AG89tprmDhxIgDgo48+QklJCV55pa2mzNatW9HQ\n0GDSFbts2TLcfffdSEpKQkNDAxYsWIBf/OIXrHpNRETUBb1ejx07duDdd99FcXGx+PMBAwbg8ccf\nx7p16+Dm5tbJFW534UImBg8ONXeo/VJR0RWMGze228c7xOQJvV6P7OxsbNu2DS0tLXjyyScxePBg\nLFu2rNvXqKjQmPSPd1dAgBfKyup6fB4Z8fn1DZ9f7/HZ9Q2fX9/YyvOrra3F73//GyQmnrzttZqa\nGrz99tvYvXsP3nnnfXHwf3cYDIZejYPrjt6OsbNXBoPB5LOiVCrg7+/Z4fFW6YoNDg5GSUmJODhR\nr9ejtLQUwcHBtx1XVFQk7hcXF3c4UFFq8ODBWLx4MZydneHp6Yl58+YhPT3dvG+CiIjIgWg0Gjzz\nzJMmSZ2Pjw+mT78Tgwa1/X3Ozc3Bk08+iqKi63KEST1klcTO398fERER2L17NwBg9+7diIiIgJ+f\nn8lxixcvxs6dO2EwGFBZWYlDhw5h0aJFXV5/yZIlSEhIgCAI0Gq1SExMRHh4uEXeCxERkb0TBAEb\nN76E8+fbGkEef/wp7N9/DP/3f59gz55DeOmlDeJM0uLiIvzmN8+gsdEy9ejIfKw2K3bjxo2IjY3F\nokWLEBsbi02bNgEA1q5di4yMDADA0qVLMWTIECxcuBArV67EunXrEBISAgBISkpCTEwMtm3bhi++\n+AIxMTGIj48HANx///3w9/fHfffdh2XLlmHkyJH46U9/aq23RkREZFf+9a/tOHTooLj/0ksb8Ktf\nPQdXV1cAxvIdK1c+jHfeeR9OTsbSIDk52Xjzzb92+x5WGMLv8ATBAKBn8wWsMnnCHnCMnTz4/PqG\nz6/3+Oz6hs+vb+R8foWFV/GTnyxBS4tx1uuqVavxxz/eXoKs1Tff7MSrr/5J3P/oo88wbdr0Tu9R\nXl4MV1d3eHh4m30iY38YYycIAvR6HerqqiAIgJ9foPhaV2PsHGLyBBEREXXPG2+8JiZ14eFj8fzz\nf+j0+Ice+ini44/j6NFDAIBXX12Pr7/eJXbTtsfXNwBVVWXQaKo7PKa3lEolDAbHTuwAQKlUwc3N\nE56eA3p0HhM7IiKifiIu7hji448DABQKBV55ZVOnCVrrcX/8459w9mwiNBoNCguv4Ouvv8TDD6/p\n8ByVSo2BA4M7fL0v2FrcOauNsSMiIiL5CIKADz74u7i/fPkKjB8/oVvnBgYG4b//+5fi/kcffciJ\nFDaKiR0REVE/EB9/HBcvZgIAXF1d8cwzv+rR+StXPoygIGMJssrKCvz737Fmj5H6jokdERGRgxME\nAf/4x/vi/k9/ugr+/gN7dA0XFxc89dQz4v7nn+8Qx+qR7WBiR0RE5ODOnUsVa9Y5Ozvjscee6NV1\nHnxwmbgue3l5GQ4c2Gu2GMk8mNgRERE5uC+++Je4ff/9DyIgILCTozvm5OSMVat+Ju7Hxn7GenU2\nhokdERGRAysrK8WhQwfEfWli1hs//ekqsZBxdvZFpKWl9ul6ZF5M7IiIiBzYd999DZ1OBwCYPHkK\nwsMj+nQ9Hx9f3HvvA+L+999/3afrkXkxsSMiInJQgiDghx++FfdXrnzYLNd96KGfiNsHDuxDQ0O9\nWa5LfcfEjoiIyEGlpaWisPAqAMDT0wtz5y4wy3UnTJiEESPCAACNjQ04eHC/Wa5LfcfEjoiIyEHt\n3v2duL1w4WJxbFxfKRQKLF26XNzfteu7To4ma2JiR0RE5IBaWlpw4MA+cf+BB5aZ9fr33/8gFAoF\nACAlJQnl5WVmvT71DhM7IiIiB5SYeAIajXFN1TvuGILJk6eY9foDBwZgypQoAMaxfIcP/2jW61Pv\nMLEjIiJyQIcOHRS3FyxYLLaumdPChfeK2wcP7uvkSLIWJnZEREQORqvV4tixI+L+vHkLLXKfefMW\nsDvWxjCxIyIicjBJSWdQW1sDABg0KBjjx0+wyH1u7Y6VthKSPJjYEREROZjDh9sSrLlzF1ikG7aV\ntDtWel+SBxM7IiIiB6LX63HkyCFxf94889Su68jcufPF7dTUZNTV1Vn0ftQ5JnZEREQO5Pz5dFRW\nVgAA/Pz8zT4b9lYBAYGIiBgLANDpdDh16oRF70edY2JHRETkQE6ciBe3Z8++GyqVyuL3nD37HnE7\nPv6Yxe9HHWNiR0RE5EASEuLE7bvuirHKPWfPvlvcPnEiHgaDwSr3pdsxsSMiInIQlZUVyMw8DwBQ\nqVSYMeNOq9x33LgJ8PX1E2O4cOG8Ve5Lt2NiR0RE5CBOnkwQtydNioS3t7dV7qtUKnHXXbPFfXbH\nyoeJHRERkYNISDgubksTLWuQjrOTjvMj62JiR0RE5AD0er3JjFRrja9rNXPmXVAqjWnFxYsXxALJ\nZF1M7IiIiBxAZuYF1NQYk6mAgACMGRNu1ft7e3sjImIcAMBgMCAp6YxV709GTOyIiIgcwNmzieL2\n9Ol3WnS1iY5Mnz5D3D59+pTV709M7IiIiBzCmTNtiV109IxOjrSc6OiZ4rY0HrIeJnZERER2rqWl\nBWlpKeL+tGnTZYlj8uQpcHZ2BgDk5+ehpKREljj6MyZ2REREdi4j4xyampoAACEhoQgOHixLHK6u\nriZLmEm7h8k6mNgRERHZOdNuWHla69ruz3F2cmJiR0REZOfOnj0tbss1vq7V9Olt4+w4M9b6mNgR\nERHZscbGBqSnnxP3o6KiZYwGiIgYBzc3dwBAcXERiouLZI2nv2FiR0REZMfS089Bp9MCAMLCRsHf\nf6Cs8ajVakycOFncT0lJljGa/oeJHRERkR1LSUkSt6dOnSZjJG0iI9smUKSlMbGzJiZ2REREdkxa\n5kSaUMlpypQocZstdtbFxI6IiMhOabVak/F1kZFTZYymzYQJk6BWqwEAly/norq6SuaI+g8mdkRE\nRHYqJycLjY0NAIDg4MEYNChY5oiM3NzcxHVjASAtLVXGaPoXJnZERER2KjW1rRtWWhjYFki7hVNT\n2R1rLUzsiIiI7JR0YoKtdMO2ioxsG2eXmprUyZFkTlZL7PLz87Fq1SosWrQIq1atQkFBwW3H6PV6\nbNq0CfPnz8eCBQuwc+dO8bWEhAQsX74c48ePx5YtW9q9R15eHiZNmtTh60RERI5CEASTFjtbmTjR\nStqCmJl5AY2NjTJG039YLbHbsGEDVq9ejQMHDmD16tVYv379bcfs2rULV69excGDB/Hll19i69at\nuHbtGgAgJCQEr732Gp544ol2r6/X67FhwwbMnz/fou+DiIjIFhQWXkVFRTkAwNPTC2Fho2SOyJSv\nry9GjAgDAOh0Opw/f66LM8gcrJLYVVRUIDMzE0uWLAEALFmyBJmZmaisrDQ5bu/evVixYgWUSiX8\n/Pwwf/587N+/HwAQGhqKiIgIcZbNrf7xj3/gnnvuwbBhwyz6XoiIiGyBdNza5MlToFTa3ugqaffw\nuXNpMkbSf7SfJZlZcXExgoKCoFKpAAAqlQqBgYEoLi6Gn5+fyXGDBw8W94ODg3Hjxo0ur5+VlYWE\nhARs374d77//fq9i9Pf37NV5ABAQ4NXrc4nPr6/4/HqPz65v+Pz6pq/PLysrQ9yeNWumTf573Hnn\ndHz99VcAgJycTLPFaIvv1VZYJbGzJK1Wiz/96U/461//KiaOvVFRoYHBIPT4vIAAL5SV1fX6vv0d\nn1/f8Pn1Hp9d3/D59Y05nt/p02fF7VGjxtnkv8ewYWPE7eTkFJSW1kKhUPTpmv39s6dUKjptjLJK\nYhccHIySkhLo9XqoVCro9XqUlpYiODj4tuOKioowceJEALe34LWnrKwMV69exVNPPQUAqK2thSAI\n0Gg0+POf/2yZN0RERCQjjUaD/PzLAIy9YGPHjuviDHkMHz4Cnp6e0Gg0qKgoR3FxEQYPvkPusBya\nVTrk/f39ERERgd27dwMAdu/ejYiICJNuWABYvHgxdu7cCYPBgMrKShw6dAiLFi3q9NqDBw/G6dOn\nceTIERw5cgSPPfYYVq5cyaSOiIgcVmbmeQiCsZcpLGwU3NzcZY6ofUqlEuPGTRD3MzLSZYymf7Da\nSMuNGzciNjYWixYtQmxsLDZt2gQAWLt2LTIyjOMEli5diiFDhmDhwoVYuXIl1q1bh5CQEABAUlIS\nYmJisG3bNnzxxReIiYlBfHy8tcInIiKyGefPtyVIEyZMlDGSro0f3xZfRgYnUFia1cbYhYWFmdSl\na/XRRx+J2yqVSkz4bhUVFYW4uLgu7/Pss8/2PkgiIiI7IG35mjBhkoyRdE0aH1vsLM/25kYTERFR\nhwRBMKkJN378hE6Olp+0RTErKxNarVbGaBwfEzsiIiI7UlpagrKyMgCAu7s7hg8Pkzmizvn7DxQn\nTDQ3NyM3N1vmiBwbEzsiIiI7kpHR1lo3btyEPpX6shZ2x1oPEzsiIiI7Ik2MpBMTbJnpBAouLWZJ\nTOyIiIjsiD3NiG0ljZOJnWUxsSMiIrITer0emZkXxP1x4+wjsQsPHyt2GV+5UgCNRiNzRI6LiR0R\nEZGduHz5EhobGwAAgYFBCAoKkjmi7nF1dUVY2EhxPysrU8ZoHBsTOyIiIjthj92wrSIi2pY9u3jx\nQidHUl8wsSMiIrIT9jhxopU0sZN2J5N5MbEjIiKyExcuZIjbtl6Y+FZjx7LFzhqY2BEREdmB5uZm\n5OVdEvfDw8d1crTtGT063GQCRX09J1BYAhM7IiIiO3DpUg50Oh0AYOjQUHh5eckcUc+4urpixAjj\nKhmCICAr66LMETkmJnZERER24OLFtpmk0vFq9oTj7CyPiR0REZEdkJYICQ8fK2MkvcdxdpbHxI6I\niMgOmLbY2WtiN17cZmJnGUzsiIiIbJxWq0Vubra4Hx4eIWM0vSedQFFQkM8JFBbAxI6IiMjG5eVd\nRktLCwAgOHgwfHx8ZY6od26dQJGdnSVzRI6HiR0REZGNk3Zb2uvEiVacQGFZTOyIiIhsnHTihL0n\ndpxAYVlM7IiIiGycI0ycaMU1Yy2LiR0REZEN0+v1JmPR7D2xGz06HEqlMf3Iz89DY2ODzBE5FiZ2\nRERENqygIB9NTY0AgICAQPj7D5Q5or5xc3NDaOgwAMYJFJcu5cobkINhYkdERGTDTMfX2XdrXavR\no8PFbc6MNS8mdkRERDZMOg7NXlecuNWYMW2JXU5OdidHUk8xsSMiIrJh0okT0pUb7Jlpi91FGSNx\nPEzsiIiIbJTBYDBJfBylK1baYpebmw2DwSBjNI6FiR0REZGNKiy8Co3GuOyWr68fAgODZI7IPAYO\nDICvrx8AoKGhAdevX5M5IsfBxI6IiMhGZWW1tdaFh0dAoVDIGI35KBQKdsdaCBM7IiIiG3XpUo64\nLU2EHAEnUFgGEzsiIiIblZsrTezGyBiJ+UkTO7bYmQ8TOyIiIhslbbEbOXK0jJGYnzRRZYud+TCx\nIyIiskH19Rpcu1YIAFCpVBg+fITMEZnXsGEj4OTkBAAoLi5CbW2NzBE5BiZ2RERENujy5Uvidmjo\ncDg7O8sYjfk5OTkhLGyUuM8VKMyDiR0REZENko6vGzXKsbphW7E71vyY2BEREdkg6fg6R03sxoyJ\nELc5gcI8mNgRERHZIGkLlqMmdmyxMz8mdkRERDZGEASHnhHbSlry5PLlXGi1WhmjcQxM7IiIiGxM\nWVkpamqMs0Q9PDwwePAdMkdkGd7eAxAcPBgAoNVqUVCQJ3NE9o+JHRERkY25tbXOUZYSaw+7Y82L\niR0REZGN6Q8zYluZrhnLkid9ZbXELj8/H6tWrcKiRYuwatUqFBQU3HaMXq/Hpk2bMH/+fCxYsAA7\nd+4UX0tISMDy5csxfvx4bA+uE0IAACAASURBVNmyxeS89957D/fffz8eeOABLF++HPHx8ZZ+O0RE\nRBYjTewcdXxdq1Gj2lrsLl/OlTESx6C21o02bNiA1atXY+nSpfj++++xfv16bN++3eSYXbt24erV\nqzh48CCqq6uxbNkyzJw5E0OGDEFISAhee+017N+/Hy0tLSbnTZw4EY8//jjc3NyQlZWFRx55BAkJ\nCXB1dbXW2yMiIjKb/tRiN3JkW5Fi6fum3rFKYldRUYHMzExs27YNALBkyRL8+c9/RmVlJfz8/MTj\n9u7dixUrVkCpVMLPzw/z58/H/v378eSTTyI0NBQAcOjQodsSu9mzZ4vbY8aMgSAIqK6uxqBBg6zw\n7sjR1NXV4ezZRFy5cgWAgJCQoYiOngFv7wFyh0YOrqqqCnFxR5GVdRGNjQ0YODAAU6dOQ3T0DKhU\nKrnDIyvR6XTIz78s7jt6Yjd0aCicnZ3R0tKC0tIS1NbW8PdtH1glsSsuLkZQUJD4i0mlUiEwMBDF\nxcUmiV1xcTEGDx4s7gcHB+PGjRs9utd3332HoUOH9jip8/f37NHxUgEBXr0+l2zn+VVVVeGtt97C\n559/jqamJpPXnJ2dsXLlSvz+97+Hv7+/TBG2z1aenz2ylWdXX1+Pv/3tb9i+ffttn72PP/4Qw4YN\nw0svvYT7779fpgjbZyvPz1519Pxyc3PFBozg4GCEhQ2xZliyGDVqFC5cuAAAKC+/3uV75mevY1br\nirWGM2fO4H//93/xySef9PjcigoNDAahx+cFBHihrKyux+eRka08v3PnUvH8879CeXlZu6+3tLQg\nNjYWe/bswRtvvINp06ZbOcL22crzs0e28uwKCvLw7LNPo7DwaifHFOCpp57CsmU/wcsvbxQXTpeT\nrTw/e9XZ8zt9OkXcHjFiVL94zsOGhYmJ3dmzaRgxYmyHx/b3z55Sqei0McoqiV1wcDBKSkqg1+uh\nUqmg1+tRWlqK4ODg244rKirCxIkTAdzegteZ1NRU/O53v8P777+PESNGmP09kOM6duwIXnzxt2hu\nbhZ/NmrUaEybNgMKhQJJSWfEpW6qqqrwzDNPYvPmN7Bo0b1yhUwOIiMjHb/85VqxXhkAhIePxbx5\nC+Hr64NLl3Kxd+9u1NYaX//uu69RUnIDb7/9HscQO7D+NL6ulXSCyKVLnEDRF1ZJ7Pz9/REREYHd\nu3dj6dKl2L17NyIiIky6YQFg8eLF2LlzJxYuXIjq6mocOnQI//rXv7q8fnp6On7729/i73//O8aN\nG2ept0EOKDn5LF544dfQ6YzVzn19ffGnP72KOXPmi3WjBEFAfPwxvPrqepSXl0Gr1eKll16Al5cX\n7rxzlpzhkx27evUKnn32KTGpc3V1wyuvbMT99z9oUrPsmWd+jddf/zP27t0FADh16gReeeX3eOON\nd6BUsmKVI+oPa8TeSvo+pe+fes5qvxU2btyI2NhYLFq0CLGxsdi0aRMAYO3atcjIyAAALF26FEOG\nDMHChQuxcuVKrFu3DiEhIQCApKQkxMTEYNu2bfjiiy8QExMjljXZtGkTmpqasH79eixduhRLly5F\ndjaLHFLnrl69guee+6WY1IWEDMVnn32BuXMXmPxhVSgUiImZg+3bv8Dw4cbWYL1ej9/97tf8Zkm9\nUldXh2ef/W9UV1cDAHx8fPDxx9uxZMnS2wrRent747XX3sB///c68WeHDh3E1q1vWzVmsp7+VOqk\n1a0zYwWh50OjyEgh8OkB4Bg7ucj1/LRaLR577GFkZp4HAPj7D8SOHV92uWxPaWkJ1qxZhZIS46Se\nkSNH4V//+g9cXFwsHnN7+PnrPTmf3csv/x579vwAAHBxccHHH2/HhAmTujzvb3/7K2JjPxP3P/jg\nn5g58y6LxdkZfvb6pqPnV1+vwV13RQEA1Go1Tp5MgbOzs7XDszpBEDB7djQ0GuMzOXDgGIKC2p8E\n2d8/e12NsWM7PvVLH330gZjUqdVOeOed97u1FmNgYBC2bv0/cXzTpUu5ePddtpxQ9x04sE9M6gBg\n06a/dCupA4Df/vb3uOuuGHF//fo/oqam2uwxknykvQChocMtltQJOh2ai66jLjUZlT8eQPn336L8\n+29R+eMB1KUmo7noOgSdziL3bo9CoTDpjmU9u95jYkf9zqVLufjnP/9P3F+37teYMGFit88fPXoM\nfvvb34v7sbGf4cKFDLPGSI6ptrYWW7ZsFvcfeGAZFi/ufgkTlUqFV1/9C3x9jeOTy8pK2SXrYEwn\nTozq5Mje0Ws0qEs6g9J/x6LqwD5o0lKhLSuFoakJhqYmaMtKoUlLReWBfSj9dyzqks5AX19v9jja\nw0LF5sHEjvoVQRDw5pt/gV6vBwBERk7Fo4/+V4+vs3Llw+LECUEQ8Prrm2EwGMwaKzmeDz98F5WV\nFQCAoKBBePHFV3p8DX//gfjTnzaJ+19//RW/WDgQ6cQBc46vE3Q61J1LRdl/vkJ9RgaU7h5Q+/nD\nyc8fKg9PKF1doXR1hcrDE043f65090B9RgbKdn4JzblUi7fgSd8vlxbrPSZ21K8cOfIjTp8+BcDY\n+vHyyxt6VdFfoVDgD3/4k1hPLCPjHHbt+s6ssZJjuXz5Er78sm2W//PP/wGenr0rjD5nznyxS1YQ\nBGzZ8hoHmzsIaUvV6NFjOjmy+7RVVaj44TtokpOg8vKC2s8PCnXXRTEUajXUfn5QeXmhLikJFbu+\nh666yiwxtYddsebBxI76Db1ej/fe+19xf+XK1X36Rjx0aCgeffRxcf+DD7bettwdUasPPvi72FI8\nbdp0LFiwqNfXUigUePHFl8UvFunpaYiLO2qWOEk+giCYvcWuMT8fFd9/C31DPZz8B3YrobuVQq2G\n08CB0NVrUP79t2i6UtDnuNoj7YrNz78MnRXH+DkSJnbUb/z4437k5RnXX/Tw8MDTT6/r4oyuPfHE\nU+J4pxs3ivHNNzv7fE1yPBcvXsChQwfF/eee+/1tZU16aujQUKxY8bC4/957f+dwADtXWloq1jX0\n9PREcHD3CvS3RxAE1J/PQPXhH6F0d4fKy7vP8am9vKF0c0fVoYNouJhp9lZib+8BCAwMAmBc7efq\n1StmvX5/wcSO+gW9Xo9//ON9cX/16kcxYIBPn6/r7u6Bxx9/Stz/+OMPb1vrk+iDD7aK2/PnL0RE\nhHkKqT/xxFNwdXUDAOTkZOHw4YNdnEG2TNpaFxY2qtfJvyAI0KSlojbxJNS+vlCasRyT0sUFah9f\n1JyIR/35DLMnd6aFijnOrjeY2FG/cGtr3SOPPGa2a69Y8f8QEBAIACgvLzMpZUF0+fIlxMUdA2Ds\nQn366WfNdm1//4F4+OFHxP3PPvuEY+3smLmWEqvPSIcm+SzUfv696nrtikKthtrXD3WnT6HhYqZZ\nrx0W1tYdyxUoeoeJHTk8QRDw6af/FPfN1VrXytXVFWvW/Fzcj439lF1iJIqN/VTcvueeeSbjiMzh\nkUceE8fanT+fjrS0lC7OIFtlupRY7yZONORko+5MItS+flD0YmJYd7Umd7UnT6AxP99s1+UEir5j\nYkcOLy0tFVlZxm+VLi4u+NnPHjX7PR56aAU8PDwAAPn5eUhIiDP7Pcj+VFSUY/fu78X93pTW6Yq/\n/0AsWbJM3P/ss0/Mfg+yjpyctqUwe9Ni11xUhJqEOKh8fC3SUncrhVoN1YABqDl2BC2lJWa5Jrti\n+46JHTm8f/97h7h9330PwsfH1+z38PLywk9+slLc37Fjm9nvQfbnyy8/h1ZrXIt43LgJmDx5ikXu\nI20xPn78CK5cMV8LClmHVqtFfv5lcb+nLbu62lpUH/4RKg8PKG+24FqD0tkZCldXVB/+0SyFjIcP\nD4NSaUxNrl27isbGhj5fs79hYkcOraTkhsmAcul4JHN7+OE1Yk28s2dPm3z7pv5Hq23Bzp1fiPuP\nPvpffZ4J25ERI8Iwe/bdAIxDD7744nOL3Ics5+rVK+KXgKCgQfD2HtDtcw3aFlQf+REAoLw5mcaa\nVO7uMLRoUX38KISbJX16y8XFBUOHhgIwfpYvX77cxRl0KyZ25NB27vxCrB0WFRVttoKf7QkOHoz5\n89tqk33zzVcWuxfZvqNHj6CqqhKAcY3hefMWWvR+q1e3DTHYs+cHNDc3W/R+ZF69HV8nCALqzpyB\nrrISKu++lzTpLdWAAWgpKoImPa3P15LW7+MEip5jYkcOS6fT4fvvvxH3Ldla10raHbtnzy6WPunH\npIn9smU/gdrCY56mT5+JO+4YAgCora0xqZtHtq+3M2KbCgrQcPECVDfracpFoVBA7ecHTXIymm8U\n9+lapuPsmNj1FBM7clinTp1AWVkpAMDPzx8xMXMsfs+oqGgMGRICAKirq8WhQwcsfk+yPdevX0Ni\n4kkAxj94y5b9xOL3VCqVeOihn4r733zzpcXvSeaTm9s2dKO7K07oNRrUJsRB5T0ACqX8f84VKhWU\nHh6oOX4Uhj60GIeFjRS3L1++ZI7Q+hX5PwlEFiJtrVuy5EGxJIQl3f7HlStR9EfffvsfcfvOO2dh\n8OA7rHLfpUuXi+M8k5OTkJ+fZ5X7Ut/1tMVOMBhQczIBgkFv1gLEfaVyd4ehvgF1KUm9voa0lh0T\nu55jYkcOqbq6CsePHxH3H3xwudXu/eCDD4l/XFNSkjhDsZ/R6/X44Ydvxf3ly1dY7d4BAYEmLdPS\nLzdku+rrNSgqug4AUKvVGD58eJfnNOZdRvPVK1CZsSanuah8fdGQeQHNxb3rkg0JGSp+ES8tLUFd\nXZ05w3N4TOzIIe3bt1ucYTZ+/ESzF4XtTEBAIGbPvkfc37Nnl9XuTfJLTj6L0ps1vXx9/awyBEDq\noYfaun337dvNYtl2QFqvbdiw4XBycu70eH1DPepOnYRqgI/FZlr3hUKphNLdHbUJcRB0uh6fr1ar\nMWxYW3Kbl8dWu55gYkcOSZpMLV1qvda6Vvff/4C4vW/fbi7z1I/s3dv22Vu06F6rDAGQmjlzFnx8\njK04JSU3kJx81qr3p56TdsN2Nb7OOAv2NAS9DkrnzhNAOancPaCrq0X9hYxenc9xdr3HxI4czvXr\n13D+fDoA4ze/hQsXWz2G2bPvgaenJwCgsPAqzp/v3S83si/Nzc0ms1Hvu++BTo62DCcnJyxceJ+4\nv3fvbqvHQD0jnTjR1fi65qLraLx0CSoLFFo3N/UAH2hSUqCrre3xuRxn13tM7Mjh/Phj20zUGTPu\nMuu6sN3l6uqKuXMXiPvSVhxyXAkJx6HRGMcDDRkSggkTJskSx333LRG3f/xxP2va2TjTGnYdJ3aC\nToe6kyeg9PCwyS7YWynUakCpRN3ZMz3utRgxIkzcvnyZS4v1BBM7cjgHD+4Vt+VorWslba05cGAv\ndL0Ya0L2RZrA33vvEtn++E6aFCnWtNNo6pCQcFyWOKhrgiAgN7ctcemsK7Yh6yJ0tTVQubtbIzSz\nUA0YgOaCfLT0cCIFu2J7j4kdOZTCwqvIzLwAwNgldc8982SLZdq06QgICAAAVFZWICnpjGyxkOXV\n12sQH9+WQMnRDdtKoVCY3P/gwf2yxUKdKy0tRW1tDQDA09MTwcGD2z1OX18PTXIS1D62Nwu2MwqF\nAgo3N9SdPgmhBxN5hgxpmxlbVlaK2l505/ZXTOzIoRw8uE/cvvPOWfCWc4kdlQrz57e1GB4+/KNs\nsZDlJSTEo6WlBYCxO2348BGyxiNtrY6PP8buWBt1a2Hijlp5NanJEAwGKNTWnYxjDioPD2grK9GU\n1/11X41lX9r+D7HVrvuY2JFDkbZMLFx4r4yRGM2f37Y+6NGjh1h6woEdOdKWuFt6XdjuGDlytLiY\nekNDAxITT8gcEbWnO4WJtRXlaMjOhsrOWuukVF5eqDt7GoabZai6Y8QIaXcsx9l1FxM7chhXrhQg\nO/siAMDZ2Rl33z1X5oiAyZOnwPfmGo7l5WVIN8MC2WR7mpubER9/TNyfN29BxwdbiUKhMEkw2WJs\nm6QTJ9obXycIAmrPnIbC2ckmlg3rLaWLK/SNjWjMye764Js4M7Z37PdTQnSLY8cOi9t33jlLLDci\nJ5VKZTLOT9qqQ47j9OmTaGhoAACEhIR2e61PS5MmdseOHRGLdpPtkLbYjR495rbXm69fR0vRdai8\n5BtWYi4q7wGoS0nq9jqy0gkUeT3oxu3vmNiRwzh+/Ki4LeekiVtJW28OH/6RxYodkLQ1bN68BTZT\nimLcuPEYNCgYAFBbW8NixTZGq9UiP78tYZG2UAHG9WA1ZxOhdHO3mc9UXyidnACtDvVZmd063jSx\nY1dsdzGxI4dQVVWFtLQUAMYuqJiYe+QNSCI6eobYenj9+jVkZ2fJHBGZk1arNWkttoVu2FYKhcKk\nnuLhwwc7OZqs7cqVArEVddCg4NsmezUV5ENbWQmVh4cc4VmEaoA36tPSYGhq7PLYIUNC4OLiAgAo\nKysTZw9T55jYkUNISDguTkyYOHEy/Pz8ZY6ojbOzs8naseyOdSwpKUmoqTH+wQkMDMK4cRNkjsiU\ndALPkSOcwGNLOhtfJ+h00CSdgcpD/iEl5qRQOwF6Peovdt1qp1KpMGwYZ8b2FBM7cgjSbti777bu\nouvdIW3FOXr0kIyRkLlJW+vmzp0PpY0NcJ80KVL8olNRUY4LvVy7k8yvsxmxjfl50NXVQenmZu2w\nLE41YADq09O71WpnWqiY3bHdYVu/gYh6oaWlBSdPxov7tjAb9lZ33jlLLLaZm5uD4uIimSMicxAE\nwaQosS1+9lQqFWbPvlvcj4s7Jl8wZKKjpcTE1jovLznCsjiFWg3odajvxrAU06XF2GLXHUzsyO4l\nJZ2WzEgcavKLwFa4u3sgKipa3E9IiJMxGjKXgoJ8XLtWCABwc3PH1KnTZI6ofdLETpqIkrw6arFr\nvJQLQ0MjlC6ucoRlFSrvAahPP9flDFmWPOk5JnZk944dM+2GtdXZY6Z/XI/JFwiZjfTfccaMO+Hs\n7CxfMJ2YMeMuqG+uWJCVlYmSkhKZI6K6ujoUFV0HYFxlYdiw4QAAg1YLTUoylA7aWtdK4eQEoUWH\nRkly2x6uGdtzTOzIrhm7wo6J+7Y4vq6VdALFmTOJaGpqki8YMgtpy6s0cbc1np6emDo1StxPSGCr\nndyystq6IYcNGw4nJ+OXgqbLl2BoaoTy5mxQR6by9oLmXGqnq1HccccQcWZsRUU5qqurrBWe3WJi\nR3bt6tUCcbyau7s7Jk+eInNEHQsJGSp+K29qamJNMTun0WiQkpIk7s+aFSNjNF2bNYstxrZEmti1\nzogVdDpoUpOh9HTs1rpWSmdnCE3NaCrI7/AYlUqF4cM5zq4nmNiRXTt5MkHcjo6eIX7rtVXsjnUc\niYknoNPpAADh4WMRGBgkc0Sdk9Z2TEw8heZuVv8ny5Amdq0rTjTmXb45ts7xW+taKT09UZ+aDKGT\nMjxcgaJnmNiRXZMmdjNnzpIxku6RdsfGxx/nKhR2TDoJwZa7YVuFhg7D0KGhAICmpkYkJZ2ROaL+\n7eLFi+L2yJGjja11KUlQejlW3bquKF1doavToLmwsMNjWPKkZ5jYkd1qaWnB2bNtf5zuvNP2E7vI\nyCnwuFlF/vr1a8jPz5M5IuoNg8FgN+PrpKStdmwxlo8gCCYtdqNGjUZTQT709Q0OPRO2I0o3N2jS\nUjv8ossJFD3DxI7sVlpaCppuFrgMCRmKkJChMkfUNScnZ8yYcae4f+JEfCdHk63KyclGRUU5AMDX\n19fmVpvoiHScXWLiSRkj6d9KS0vE1Uo8Pb0QFBgETWqKQy0d1hNKd3foysugLS1t93WWPOkZJnZk\nt06dOiFu20M3bCtprPzjap+k/27Tp8+ESqWSMZrui4ycKs4wLCjIF8ttkHXdWr+u+VohdLU1DrnK\nRHcoFArASY36DlZFGTz4Dri6Gp9NZWUFKisrrRme3bFaYpefn49Vq1Zh0aJFWLVqFQoKCm47Rq/X\nY9OmTZg/fz4WLFiAnTt3iq8lJCRg+fLlGD9+PLZs2dLt88hxScfX2UM3bKuZM+8St5OTz6KlpUXG\naKg3EhPbvlTMmHFXJ0faFhcXF5MiyvxiIQ9pYjdy5CjUpyRD6d4/W+taqby80VxQAF1d7W2vKZVK\njBjRtmZsdna2NUOzO1ZL7DZs2IDVq1fjwIEDWL16NdavX3/bMbt27cLVq1dx8OBBfPnll9i6dSuu\nXbsGAAgJCcFrr72GJ554okfnkWOqqChHdrZx8LFarca0adFdnGE77rhjiNht3NTUiHPnUmSOiHqi\nqanJpMyJtGvdHki/WEhbvcl6cnPbEpNhAYHQVlb229a6VgqlElAo0NjBMmMjRrSNs2Ni1zmrJHYV\nFRXIzMzEkiVLAABLlixBZmbmbc2pe/fuxYoVK6BUKuHn54f58+dj//79AIDQ0FBERERArVbfdv3O\nziPHJP2DNGnSZHh42NdMMmkrz6lTbDWxJ6mpyWIr6/DhIzBoULDMEfWMNLE7ffoU9Hq9jNH0T9I1\nYu/Q6aF0cbHZFXOsSeXtjfrMTBja6cWQTqDIyel8tYr+7vYsyQKKi4sRFBQkjkNRqVQIDAxEcXEx\n/Pz8TI4bPHiwuB8cHIwbN2506/q9OU/K37/3iUFAQP8oJmkpvXl+KSmnxe358+fZ3b/BokXzsHPn\nvwEAycmn+xS/vb13W9KbZ5ee3tZaN2fOPXb3/AcOnIKgoCCUlJSgtrYGxcX5iIyM7NW17O292wKt\nVmsyGz7MxQleQf5M7AAALmhqrodr1Q0MGD/O5JXIyLYJSjk5OfzsdcIqiZ09qKjQwGDoeU2xgAAv\nlJXVWSCi/qE3z08QBMTFtc0mnTRpmt39G4wePRFKpRIGgwHp6enIzb0KHx/fHl+Hn7/e6+2zO3y4\nbW3iSZOi7PL5R0fPxK5d3wEA9u37EUOGjOzijNvxs9c7ly7lQntzCa0gX184ObmgoYHjbFsZVM64\nHp+I5oAhxu7ZmwIChojbOTk5/fqzp1QqOm2MskpXbHBwMEpKSsQmf71ej9LSUgQHB992XFFRkbhf\nXFyMQYMGdev6vTmP7FN+fh7Ky8sAAN7eAxAePlbmiHrO29sb48dPBGBMVE+fTpQ5IuqOiopy5OQY\nxwCp1WpERdnP2E4paXesdCIIWZ60GzZ0gC9U3gNkjMb2KF3doKutgbbEtNctOHiwODO2ooIzYztj\nlcTO398fERER2L17NwBg9+7diIiIMOmGBYDFixdj586dMBgMqKysxKFDh7Bo0aIur9/b88g+nT3b\n1g07deo0KJX2WbVHOuiesxPtw+nTp8TtiRPtb2xnK+ln79y5NNTXa2SMpn/JyZFMnBgYwC7Ydiic\nnFCfed7kZ8aZsdI1Y7kCRUes9hdx48aNiI2NxaJFixAbG4tNmzYBANauXYuMDGPtmqVLl2LIkCFY\nuHAhVq5ciXXr1iEkJAQAkJSUhJiYGGzbtg1ffPEFYmJiEB8f3+V55HikiZ09zYa91a2tJlxezPZJ\nJ+3Y22xYKT8/f4wZEwEA0Ol0XF7MiqQtdmF2UFRdDipPLzRfuQp9nWl3K1eg6B6rjbELCwtrt77c\nRx99JG6rVCox4btVVFQU4uLi2n2ts/PIsRgMBiQlSRO76TJG0zfjx0+Eh4cH6uvrUVxchKtXCxAa\nOlzusKgDgiCYtKxKE3N7NHPmXWLJoFOnTuDuu+fKHFH/IK1hNzx4cCdH9l/G0idAw6VceEVOEX/O\nFSi6xz77sKjfunQpF9XV1QAAX18/k//o9sbJyckkMU1MPNXJ0SS3goJ8lJUZlzzy8vLG2LHjZY6o\nb6QtjmfOnO7kSDKXuro6FBcbx4OrVSqE+A+UOSLbpfTyRsOF8xB0OvFn0ha7vDx2xXaEiR3ZFWk3\nbFRUtN2Or2s1bdoMcZvdYbbt1rGd9rKMWEcmT54CJycnAEBe3iVxQhJZzqVLbclIaGAgnNqpy0pG\nSicnGFqa0XS9bbGBW7tiOXylffb9V5H6HdPxdfbbDdtK+h6Sks7wF5UNc7TPnqurKyZOnCTu84uF\n5eXmtK2qEGZnha3loHRxRcOFtkkUwcGD4e7uDgCorq5GZWWFXKHZNCZ2ZDf0ej2Sk8+K+47wx3Xk\nyFHw8fEBAFRVVXKml40SBMEk8XGEzx4AREW1vQ9p4kqWkZXWtnxgWDATu64oPTygvXEDupvDbxQK\nhcnSYhxn1z4mdmQ3cnKyUHdzgeiBAwMwbJj9TzRQKpUmtdDYamKbLl/ORVWVsW6Wj48PRo6037Gd\nUtHRbUMBOM7OsgRBQK6khMdIJnZdUigUxvVjpTOJTbpj+UW4PUzsyG6cOdNWxDcqKtph6j9JEzu2\nmtgmacJtz7UTbzVhwiS4uLgAAAoLr+DGjWKZI3JcLSU3kC95vmyx6x6VtxcaLl6E4eZqHSx50jXH\n+O1E/cLZs47XFQaYdoclJZ2BwWCQMRpqj6ONr2vl7OyMyZPbyknwi4XlFMTHQdPcDADwcHVF4AAf\nmSOyDwq1EwwtLWi+OYmCJU+6xsSO7IJOp0Nqatvi6470xzUsbCT8/PwBADU1NSYz50h+xtqJbV8q\npIm4I5D+X2JiZxm66mpkZaSJ+8MDBzlMj4M1KF1d0XDhAgDOjO0OJnZkFy5evID6+noAQFDQIIQ4\nUMV2hULB7lgblpubg5qaGgCttRNHdnGGfbk1seMfSvOrv3gBVyra1jYdHhQkYzT2R+nhgZaSYuhq\nqhEUNAheXl4AgNraGrG2JLVhYkd2ISnJdDaso33bZWJnu26tnehon72xY8fDzc1YQqK4uAjXJXXD\nqO/0DQ1ozM7Cldpq8Wcjgji+ricUCgUUCgUaL12CQqHAqFHsju0MEzuyC9Ju2ClTomSMxDKkrSbJ\nyWeh1+tljIakHLHMiZSTkxOmTJkq7vOLhXk15uYABgF5pSXiz9hi13NKL280ZGVC0OkwZswY8edM\n7G7HxI5snsFgQFpa0VMkJgAAIABJREFUqrgv/SPkKIYNG46BAwMAAHV1tcjNzZY5IgIcs3Zie6Qr\noDCxMx+DVov6jHQYPDxQKFnZY1jgIBmjsk9KJycYmprRXFzExK4LTOzI5l2+nIvaWuMYJz8/f4SG\n2n/9ultxnJ1tcsTaie2ZNk362UvkODszaSrIh9DcjOs11dDdbIUPHOADT1dXmSOzTwoXZzRmXbwl\nseNks1sxsSObl5raVq09MnKKw41xasXEzvY4+vi6VuHhY+HpaRyQXlZWhitX8mWOyP4JBgPqz6VB\n6eGB/NIb4s9HBLG1rrdUHp5oKixE2B13iD/Ly+PM2FsxsSObl5LSNr4uMtLxxte1knbzpaQkcZyd\nDZB2w0oTb0ejUqkwdWrb/63k5KROjqbuaC66Dl1NDZRubsgvkY6vY2LXWwqlEgoIcKuphZeXNwBA\no9GgVDJ+kZjYkY0TBAGpqcniviOOr2s1dGgoAgKM4+w0Gg1yc3O6OIMsyTi2s621eOrUaTJGY3nS\nSUnSL1PUc4IgoP5cKpSuxlU98kraVpxgi13fKD08UXMuw6TsEGt/mmJiRzatqOg6SkqM3Rju7u4Y\nPTpc5ogsR6FQYMqUtuRBOhOYrC8v77Kkfp2vw46vayX97DGx6xtdRTlaSkqg9PAEAOSVsCvWXJSu\nrtDV1mL44LbuWI6zM8XEjmyatLVu4sTJUKvVMkZjeZGRbS2S7A6TV1pa22dv8uSpDju+rlV4eIRJ\nPbuiousyR2S/6s9nQKFSQ6FQoK6xEWU3vyA4qVQY4j9Q5ugcgEqFIR4e4i5nxppiYkc2zbQb1nHH\n17WSvsfU1GQOCpZRSkr/GALQysnJCZMmTRb32WrXO7q6WjTl5UHlbRwDli9prQsNDIJKpZIrNIfh\nNMAbd0h+NTKxM8XEjmyaNLGTtmY5qpEjR4mDgisqynH16hWZI+q/pJ+9yZMd/7MHmI4jZItx7zRe\nvAgoFFAojX9epePrhgeyMLE5KNVqDPXxEfc5M9YUEzuyWVVVVcjLuwwAUKudMGHCJJkjsjylUonI\nyCniPltN5HHjRjGKi4sAAK6ubggPj5A5IuswnUBxtpMjqT2GpkbUZ14QW+uAW8fXcSkxc/Hz8YO3\nu3HoQENDg/j/lZjYkQ2TtpiMHTsOrv2kqCcHsctP+tmbNGkynJycZIzGesaPnyi+1ytXClAuWS2B\nutaYmwsYDFBIxgKbJHaDOHHCXFSengj18RP3OTO2DRM7slnSWaH9oRu2lXQ8FxM7eUjH102ePKWT\nIx2Li4uLScu49DlQ5wxaLTTpaVB6ebX9zGBAgaTGGmfEmo9CoUCov7+4z3F2bZjYkc2SrjjRHwav\nt4qIGCu2Tl6/fk0s90LWI50R2x8m7UixO7Z3mgryITQ1Q+nsLP7sRnUVmlpaAAA+Hp7w9fTq6HTq\nhWHBg8Vtljxpw8SObFJjYwOysjLF/f7UauLk5IyJEzk7US61tTVit45KpcKECRNljsi6WKi45wSD\nAfWpKVB6epj8nPXrLGvY4CHidl4eW+xaMbEjm5Sefg46nQ6AcabogAE+XZzhWKRdz+wOs660tBRx\nhl14+Fi4u3t0cYZjmTRpsliSIzc3BzU11TJHZPuaCwuhq6uD0tXN5Od5N7jihCUNCwwUt/Py8mAw\nGGSMxnYwsSObJF3KyZHXh+2IaT07tppYk3QIgHSGcn/h4eGJ8PCxAIxLY0n/L9LtBEGAJi0FSje3\n217jxAnL8vHwhM/NQsVNTY0sqn0TEzuySefOpYrb/akbttXEiZPEVTYuXcpFdXWVzBH1H9Lux/42\nvq7V1Klt75v17DqnvVEMbXk5lDdLb0hJixMPZ6kTixgmqQ3IcXZGTOzI5hgMBqSnnxP3pdXw5SIY\nDNDV1KC5sBD1WRdRl5qMurOnUZechPrMC2gqyIe2ohwGrdYs93Nzc0dExDhxPy0ttZOjyVyamppw\n4cJ5cb+/FCa+FUvudI8gCKhLTYXSxfm2Jecam5tRVFUJwFifMnRggBwhOrzQgLbEjiVPjBx74U2y\nS3l5l6HR1AEA/Pz8cccdQ7o4wzIEvR4tN26gKe8ymq7kQ9BqASgAwQAolYBCAQjG46BUQAHjL3an\ngAC4jgiDy5AQqCWFSnsqMnIqMjKMCW5Kylncc89cc7wt6sSFCxnQ6YzJ+bBhw+Hn59fFGY5J2gV9\n8eIFNDTU97uxht2hKy9HS3ER1JKyG60KykrEsZoh/gPh3E9qIVqbtMXuUk62jJHYDiZ2ZHPS09PE\n7UmTIq2++LqhpQWNuTmoT0+DvrERCpUaKk9PKLy6/u8iCAJ0dXWoTTwJQAHnoCB4jJ8IlyFDoOjh\nGpFTp0Zh+/ZPAHAChbWYLmHXP7thAWDAAB+MGjUaubk50Ov1OHcuDTNn3iV3WDZHk54KhZO63d9R\neTc4I9YapBMoLmVflDES28GuWLI50vF10rIfliYYDGjIzkLZzi9Qe/oUoFLDyX8g1D4+JpXkO6NQ\nKKBydzee5+cHXXU1qg4dRPl/vkLjpVxj6143SccWZmVloqGhvsfviXrGNLHrf2M7pVj2pHPayko0\nFVyByntAu6/ncXydVUi7Yq9cK4S+B79jHRUTO7I50ha7yZMjrXJPbWUlKnb9gJr4OCicXeDkPxBK\nF5c+XVOhUEDl6QmngQMhAKg+fhTl336NpmuF3VqwurXVBAB0Op3JuEMyP2PLVNuXiv46caKV6Tg7\nFiq+VX1GOhTq9lvrANOJE5wRazne7u7wv7naR4tOhytZF2SOSH5M7Mim1NRUIz8/DwCgVqtNJhBY\ngmAwoP7CeVR89w10dTVQDxxoUjneXJSurnAaGACDVouq/ftQfeQQ9BpNl+dJuwPZamJZubk50Nz8\nNwkICJBtbKetkK72kpGRjubmZhmjsS26mmo0Xc6FqoMxtIIgIK+ENeysRdpql3X6tIyR2AYmdmRT\npK1S4eFtS2tZgqGlBTXHjqL21AmoBnhD7eVt8fF8Knd3qAcORPO1QpR/vRMNOdkQOimqKf3jKu0m\nJPMzXZs4yupjO21NQEAghg4NBQC0tLTg/Pl0mSOyHfUZ6YBKBYWy/T+hZbU10DQ1AQA8XV0R0EF3\nLZmHdJxdTlpKp79T+wMmdmRTrDW+Tq/RoHLvHjQV5EM9MOD/s/fm0W0c9r3vd2YAkuC+b+JOShQl\nUotl2Za3OLZkyY4c+aWx9SrnXre5dm4bN3ltz7t9SW/qpWnak7533muSxk3j3qRJfdLYiuJFiyVZ\nki1ZlihR4r7vO7iCC/ZlZt4fgAYDigQBEsAA4O9zjs6ZwcwAP4yGmN/8lu8PjCp0HWsMw0CVmgYm\nPh4LVy5j/uIF8CbTsvvKJ1C0tDTBHiA5FeJuNrow8XLs2SNPx9KDBQA4Fhdh7u5esbYOWDpKLG/D\nPyQEG3nEbmBCC/vsjILWKA85dkRYsbQjNhg4FuYxe/pD8IsLUGVkKPajy8bEOKN3YyOYef/3sGrH\n79onJycX+fmbADg11uTzc4nAIYriXRE7wvPBgiagODG2NAEsu2K0DvDsiC3NyVlxPyIwyCVPhnSz\nsPT3KWiN8nh17P78z/9cWj5x4kTQjSE2Ng6HAy0t7nRPMISJ7XNzmD19EqLdDi5F+fQIwzBQpaUD\nLAvdmdMwNDfdlUag7sTgMzY2iunpaQBAYmKi1LSy0ZFH7Bob66X5zRsVx+IizF1dq/52DExRR2wo\nKc5yp2LH5nQwdHVC3MDXqlfH7urVq1L33g9+8IOQGERsXHp7e2A2O1OSOTm5yM0N7A+iY34eujOn\nAFEEl7R24eBgwGk0UKWmQn+zFguffgLBZpO2eUZNaG5nMJA7zDt37gbnp+ZgtJKfvwk5rsJ/k8mE\n7u5OhS1SFmNz46rROmBJRyw1TgSdRI0Gma5GFjvPY3RqErbJSYWtUg6v4lz33nsvjh49ipKSEths\nNvzVX/3Vsvv94z/+Y1CMIzYWwayv4/V66M6edjl1SQF970DBqFRQZWbBMjgAx+IC0vY/CS4x0cOx\na2y8DUEQwK5yYyH8w7O+bmOOEVsOhmGwe/cenD17GoBzbuy2bdUKW6UMjoV5Z21dWprX/WwOB4Zn\npqX10mxKxYaC4qwczCwuAgCG5+expbcbsZs2KWyVMni9O/zoRz/CCy+8gNLSUgBAUVHRsv98YWBg\nAEePHsXBgwdx9OhRDA4O3rUPz/N44403sH//fhw4cADHjx/3advs7Cy+8Y1v4JlnnsFTTz2F119/\nfcOnDCKRYNXXCRYzdOfOOtOvYerU3YFhGKgyMsAvLmLmw/dgn5lGaWkZ0lw3k/l5txwMETg86+vI\nsZMjT8du5M5sQ2Oj107YOwxNTUJwlVPkp6dDs049TMI35A70sH4RloEBCBtUosdrxC42NhZHjhwB\n4Kx/+rM/+7M1f9Brr72GY8eO4ciRI/jggw/w6quv4te//rXHPidPnsTw8DDOnz+P+fl5PPvss9i3\nbx8KCgq8bvvZz36G8vJy/PznP4fdbsexY8dw/vx5PP3002u2lwg98ohdoOrrRIcDc5cugTfooVrl\nSTuc4FJSwBuNmD31IVIf349du/bgk08uAHDeXMvLKxS2MHrQ6XQYHBwAAKjValRX7wjZZ4uCAF6v\nh2NhHvzCAuzzc+ANBohWC0QHD4iic2RVbBy4hASoUtOgSk2FKiUVXFLSqk5GIJA7uvX1dRBFccN1\nedp1Oph7e6DyYXZwr6wJqiI3P5hmETKKZY7d4Mw0IPCwjo9BU1qmoFXK4NWxGxkZkZafffZZj3U5\nhYWFXj9kdnYW7e3t+OUvfwkAOHz4ML7//e9Dp9N5DNk+c+YMnnvuObAsi/T0dOzfvx9nz57FSy+9\n5HUbwzAwGo0QBAE2mw12ux051IkUUeh0sxgddV5fMTEx2Lq1at3vKYoiFmuvw6Ydgyojc93vF2q4\nhAQIKhXmPj6P7ZsK8Inr9YaG2/jqV48qals00djojkJt21aN2CBHWHizGTbtOKxDg7COjUKUS9io\n1M5pBhwLME6nTbTZIJotsM/MQOztkZwqRh2D2MJCxBaXIDYvf92TUlairKwcqampmJ+fx/z8PPr7\n+zbUg4UoijDU33L+v/jgSPdOuIWJy8mxCxlyLbuhqUkwsbEwd3WSY7eUAwcOgGGYu57Qlq53dHgf\nvKvVapGTkyMVJHMch+zsbGi1Wg/HTqvVIj/f/YeQl5eHCVfbuLdt3/zmN/Gtb30LDz/8MMxmM154\n4QXs2eNfOiUjI9Gv/eVkZYV3ei/cycpKQn39NWl9586dyM/PWPf7zjc1QxjoQUphfkgiG0EhIRZC\nkgbbZqekl5qa6j2uObr+1k5WVhI6O1uk9YcffjAo51Ow22EcGsZiSyuMwyMARLAxsUjMTAPr4xzi\n5d7TMa2FdWwIVpZFYnk5UmqqocnPAxPg5o/7778f586dAwD09LTigQecpRIb4doza7WYnxhDcn62\nT5HKwWl340R1aRESElZ2uL1tI7yz9NxVFbsDTKOzM4hLS4Y4N400DQtVYkKozVMUr78onZ3uDqgT\nJ07g2rVr+Na3voX8/HyMj4/jpz/9Kfbt2xd0I1fj7NmzqKysxK9+9SsYjUa8/PLLOHv2LA4dOuTz\ne8zOGiAIq8/vXEpWVhKmp/V+H0c4uXP+rlxxO3bbtu1Y9zm1Tk5Cd/YCVMkp4M2RL+pbWlqBWJUK\nVocDo6OjaGnpRm5uHl1/6+DOufv88+vSa5WV1QE9n7zBAFNPF0xtrRBsNrAxsWATk8AwDHgAdisP\nWNcxtFytAdQaiIKAmY4ezDS3g0tKQsKu3YgrLQOrDozwdnX1Lsmxu3z5Kg4denZDXHuiKEJ39hIc\nYMGbbKvuLwgCusfGpPVNqVkwGpev80pIiF1xG+Gd5c8dg+yUVEwtzIMXBPSMTWATq8JYYzviK7cq\nYmewYFnGazDK5zDGj370I/zgBz9ASUkJYmJiUFJSgr/927/FP/3TP616bF5eHiYnJ8Hzzh8wnucx\nNTWFvLy8u/YbH3fXJ2i1WuS6hid72/b222/jy1/+MliWRVJSEh5//HHcoHlxEYVn48T66ut4sxkL\nly6A1cSDCdCNTWnUMTGoKnQ3KtXfoqHsgcBkMkqizwzDYNeuwEyccOgXsXDtc0wffwfGxgawcRqo\nMzKddXFBqE9jWBaqlBSoMjOdJQhXr2D63d/C1NEeED2vpTOL78hgRTvWkWHYJifAJvoWmdTO6WB2\nSRWlJiRKw+mJ0CBPxw5OTYKN18DU6T2jGI347NgJgoAx2ZMIAIyPj0vdP97IyMhAVVUVTp06BQA4\ndeoUqqqqPNKwAHDo0CEcP34cgiBAp9PhwoULOHjw4KrbCgoKcOXKFQDOmYbXr1/H5s2bff1qhMLY\n7Ta0tbnTYeuROhEFAYufX4VgtYCLjw+EeWFDTXGptFx7+kMINF5s3bS0NEsPnBUVm5G8zpmevMmI\nhdrrmPnduzB3d4JLSYEqPSOkDxhsXBxUGZlg1GosXvsc0yfehXlgYF3zM7durYJG4/x7mpycwPj4\n2CpHRD6iwwH9jVqw8Qk+O+Oe9XU0SizUyEeLDU1NgtVoYJ+dgWNhQUGrQo/PxR1/9Ed/hBdffBFf\n+cpXkJubC61Wi/feew8vvviiT8e//vrr+M53voM333wTycnJ+OEPfwgAePnll/Htb38bNTU1OHLk\nCJqamvDkk08CAF555RWpMcPbtr/+67/Ga6+9hmeeeQY8z+P+++/H888/7/tZIBSlq6sLVldb+qZN\nBcjMzFrze5m7Ol3zXyOvWWI1aopLpOXm7k7MX/wYmc8/q5xBUYBcmHjXrrXLnAh2O0wd7TA01AOC\nAC4lNeB1bv7CxsaCjY2FYDFj/tLHiMnLR/K+h6BeQ3e4SqXCrl27cf365wCcDTy7dq2/wSmcMff2\nwLG4ALUfv0d98o7YPGqcCDXy8W2D01OSY20dHoKqJnTd7krjs2P30ksvobKyEh999BE6OjqQlZWF\nv//7v8ejjz7q0/Hl5eUe2nN3eOutt6RljuPwxhtvLHu8t21FRUVSxy0ReXjKnKxdv84xP4fFG9fB\npaZG5ZNy1aZCsCwLQRAwNDuL2YF+xH9wEjEPPha0jshop7HRLUx8zz3+O3aiKMI6Ngr9tatwGAxQ\npaSAUYVX+p+N04CJjYN9Zgaz751Awu7dSKzZCcbPpo177rlXcuxu376FP/7jrwXD3LBAsJihv3UT\nnJ8R3N4JudQJjRILNfKI3eCUc/IEl5AIU2cH4qtrovK+sBw+p2JtNhvq6+tRV1eHmzdv4tatW6iv\nr5ciLQSxVuT1dWtNw4o8j/krlwFOFbCC8XBDExuLza4ogAgRnYuLsExMQnf2DHizWWHrIg+73Y6m\nJve1568wMW80Yv6Ti5g7+xEEQYQ6IzPsnLo7MAwDVUoKuNRUGBrqMfOBU/zaH+Qzi+WCztGIoakR\ngt0ONibGr+P6ZKlYitiFniL5zFjdLGwOB5jYWPD6RTh0OgUtCy0+O3avv/46amtr8b3vfQ8nTpzA\n9773Pdy8eROvv/56EM0jNgKBECY2trXAPj0d9pMl1kt1UbG03DoyhNisTDjm5zH30WnwRqOClkUe\nbW1tsFicDnFeXr7Ps4lFQYCptwczJ47DOjwMVWYmOI0mmKYGDIbjoM7IhGCxYObD96FvaoDI+9aV\nW129A2rXQ9Pg4ACmp/1zDCMFu04HY1srVCmpfh03Z9BjVu/sEo5Tq5Gfvn7JJsI/NDExyHWVGgiC\ngNGZaWeUjmVhcYmQbwR8duwuXryIf/3Xf8UXvvAFVFRU4NFHH8Wbb76JixcvBtM+IsoZHx/HhOsp\nNy5Og82bK/1+D/vcHAy3bkEVpSlYOfIGitahQQCAKjUVDr0euo9OgzcYFLIs8pB3zvsareMNBsxd\nOI+FTz8Bo9FAlZYWkdccl5gIVUoqDHV1zoivfnXZktjYWI+pHNGoPCAKAhZrr4FRqf2ukZQ3TpTl\n5oGLVO3MCKc0O1daHnClY9mERJi7O9fVQBRJ+HzlZWZmwrwk3WO1WpGVtfZCd4K4fdut+l9dXQOV\nn3U/oiBg8bMrgFrtd81QJCKP2HWNj8Jid0orqFJTIZhM0J05CYdrEDbhnbo6t2TMavV1oijC3N+H\nmd//DjatFqrMTL/TdOEGo1JBlZkJx+wMZt7/PSyuBwVvyB3gmzdvBtE6ZbAM9MOmHQeXnOz3sfJR\nYuVUX6cY8pmx/ZNOsWg2JgaC2QL79NRKh0UVPjt2R44cwUsvvYR3330Xly9fxjvvvIOXX34ZR44c\nwfXr16V/BOEPcsduLY0T5q5O2KYmoz4Fe4fUhEQUurr0HDyPjmH3mD8uJQWCzQbd6ZNwzM8rZWJE\nIIqih2Mi12lbimC1YuHKp5i/dBFMXFxURYYZhnF28MbGYO7Ceehv3fSamt2zZ6+0XFtbGwoTQ4Zg\nMWOx9hq4pOQ1/f961NfRKDHFKM2RRewm3VNAwDIw9/cpYFHo8TnE8dvf/hYA8LOf/eyu1+9sYxiG\nUrOEX9y65S7C9re+jjcYoL95I2q7YFeiuqgEI67C96aBfmzJLZC2cUnJ4PV6zJ4+ifSnnoaa6nyW\nZXBwALOzswCAlJQUlK4wT9I6OYGFTy+BN5mgysyM2uuMjY0Do1LD2NQI29QUUh/7Irj4u8cw7dy5\nW+rMbm9vh16vR1KUPFTpb9VBtNnA+ShGvBSPiF0eReyUomwFx45LSoaltxfJe++P+uyOz9/u0qVL\nwbSD2IBYrVa0trZK6zU1vjt2oihCX3cToiiCi9Iu2JWoKS7BR/XONGLjQD+e2+cpOcQlJYE3GqA7\nfQppBw8hRpaaIJw0NLgjxbt37wG7pB5KFAQYW5qgv3ULbLxmQzjIDMeBy8iEfXoKsx+8h9QnDtx1\n7SQmJqKycis6OtohiiIaG+vxyCNfUMjiwGEdH4OpsxOqjLX9P5utVozpnA8KLMt61HkRoWVTRibU\nHAc7z2N6cQF6sxlJGg0YlQqC3Qbb5ARiNxWs/kYRDFV3EorR3t4Gu2t6QnFxCdL8EE61acdh7usF\nl+pf51o0UF1UIi23DA6CX6YgmEtIBFQq6D46DatsFB/hxJswMW8wQHf2I+jrbkKVmrps5CpaYRgG\nqtQ0iGCgO3USpu6uu8aHydPW0SB7IlitWPjsMtiEBDBrbHjon5yQzlNRZhZiN9jDZjih4jgP2RN5\n1I5RqWHu7VHCrJBCjh2hGM3NaxMmFh0OLH7+ufOHOEpTY97IS0tDRpKzuNtktUoFwkvh4uPBxsVh\n7uwZnwrjNxKeETv3fFjL6Ahm3v897NNTUGVmRX3KZiW4+HiwyclYuPIp9LXXPObN7tnjduxu345s\nx04URehv1UEwmdY1gpCEicOLlersuMREWAYGILjm+UYr5NgRiiEXh/VHmNjU1Ql+cT7qZsH6CsMw\nHuPFWodW1mdi4zRgExMxd+FjmHq6Q2Bd+DM5OYmxsVEAQFxcHLZt2+6cC3rrJubOfgRGrYqqBom1\nwqrVUGVkwtjeBt35c5IItjxi19bWCovFopSJ68Y6OgJTRzu4VP/HrMnp1cpnxFLjhNJ41NlNySJ2\nHAdR4GGN8lnH5NgRiiCKosfEiV27fIvY8SYj9LfqwPopHhptyGVPWoaHvO7LxsaCS0nBwuVPYWhu\nuiu1ttFobJRL7OwAY7FAd/Y0DE2NUKWng42LDLHhUMCwLFQZmbBPTWL2w/dg180iPT1dajZxOOxo\naWlS2Mq1wRuNWLj8KbikpDWnYO/Qo3U7CjRxQnnkEbulGQ02JgbmnuhOx5JjRyjC+PgYZlydnYmJ\niSgrq/DpOENDAyAIUTs2zFeWChWv5qyxajVUaWnQ36yF/uaNDSPUuRzy+rodZRWYfe/3cOjmoMrI\n9FuUdiPAMAxUaWkQHTxmP/wA5oEBj/Fi8vMZKYiCgPnPLkPkHWDj4tb1Xja73SPdtzl/03rNI9aJ\nPGI3ODUJQfZ7xyYkwjY6DMESvWMYybEjFEE+RqymZuddXYnLYdfNwtTVsSEbJpZSkp2DBNcNSWfQ\nY9zVkecNRqVyptZamrHw6ScQXI0rGw15fV25xQomLg5cSsqGT72uBpeYCDY+HvMXz6NK1iVcX3/b\ny1HhiaGpAbbREXABiPz3T01IDUybMjKQuE5HkVg/6YlJSHaV6pisVkwuuHU9GZaFKIqwjI4qZV7Q\nIceOUAR5GtaX+ro78iaMSr3utEk0wLEsthcWSeutq6Rj78CwLFSZmbAMDmDu3BnwJlOwTAxLFhcX\n0eOqNWQZBjXbt4ONjVXYqsiBjY2FKj0Dm2XF501NDVJ3eyRgGR6C4fZtqNIzAuLMd4+507Bb8iha\nFw4wDLOinh0AsHFxMHd1hdqskEF3SEIR5BE7X4SJreNjsI6MrGnUT7RSXeROx7b40fXKMAy49HTY\nZ2cxe/J92HW6IFgXfoiiiBunP5TS1pWbChBP9XR+w3Ac8kvLkeP6W7RYzOjs7FDYKt+w63SY/+QS\nuOTkgKXdu2WF+Fvyo1sfLZKQawneVWcXnwD75ETUztYmx44IOWazCd3dzqclhmFQXb3T6/6iIMBw\noxZsfDyly2TIO2NbhlfujF0OSa/MwWP25PtRL4fCm0yYv3QBNz8+K722s2z5aRPE6jAMg90Vm6X1\nGxfOKWiNb/BGI+Y+PgtGxQU0SitvnNiyiSJ24YK3iN2d+4h1dATRCDl2RMhpa2sF75pHuWXLFiSv\nEoWzDPTDPqcDl7BxhGJ9oTJ/E9SuqMPY7CzmDHq/34NLTASricfcx+ehr78ddU0VoijCMjKMmfdO\nwDoygjbZEPCdpaVejiRWQ+4Y113+BIs3aj307sIJwWrF3MfnIFitax4ZthxWux0DU5PSOs2IDR88\ntOxk/0d3YDQamDo7olIlgBw7IuTI07B79uzxsqdTjFhfdyOgP8bRQoxajW1F7jq71WRPVsJZN5UO\nQ/0tzH18LmoTs7kgAAAgAElEQVTq7gSrFYuff4a5c84oDZ+Y6JE221FCjt162CVz7NontNC3NEN3\n5jQci4sKWnU3gs2GuQvn4ZjTQRVgmaS+Ca3UcVmYmSU1NBHKU5ydI0XmRmdnYFtSB8pqNLDrZsGH\n2fUaCMixI0KOvHFiNcfO3NMNwWhatyRBtLJTNrzem1DxajAcB1VmFmxaLWbePxHRAp5SlO73x2Hq\n6YYqIwNsnAZdY6NwuCLFhZlZSI+S4fVKUZyVjVRXFF1vMWOMd8CxMIfZ907A3N8XFpEQwWrF3IXz\nsE9NgktLD/j793jU11EaNpzQxMQg3/V/LggChlzyWneQ0rFrfCAOZ8ixI0LKUmHie++9d8V9BZsN\n+vpbYKlhYkXk6URfO2NX4o5eGcNy0H10Gvq6mxEnicIbjVj49BPMnTsLMCzU6RlSF7W8wUQ+b5dY\nGwzDeM4tHh4El5wCRqPB/KWLWLj8qaJaYbzJhLlzH8E2OQEuLT0o9bnyCPBm6ogNOzxHi2nv2s4l\nJEZlOpYcOyKkjIwMY25uDgCQnJyCMi8F7KbODggWK9iYmFCZF3HUlJRKN6xe7ThMVuu635PVaKBK\nS4ehpQmzH7wH29TU6gcpjOhwwNjehunfvQvL0ABUmZlgNZ4dr/IGE3njCbF2dhTf3ZnNxsY6JXUG\n+jF94ncwDw6E/MbpmJ+D7tSHsM/pnM59kJquusbdWmiV1DgRdng6dsvU2cXGwqHXwzEXXcoA5NgR\nIcVXYWLBYoGhqQFcSkqoTItIkjQaqftLEEW0jwQmrcBwHNQZmRBsVuhOfoCF69cghOFMUKfQ6Ahm\n3v89Fq9fA5uQANUy0RleENA+Miytk2MXGDw6s2UTUBiGgSo9HYxKhfkLH2P+wnk4FhaCbo8oijAP\n9GPmg/cg2GxQrXMGrDcsNhuGXc04DMNQ40QY4jla7O6IHcMwYBgGlsHBEFoVfMixI0KKPA3rTb/O\n2NUB2O0bfnSYL8jnxq43HbsULiERXHo6TJ3tmP7duzB1dUJ01akpiSiKsE1NQffRacydPQPBboc6\nM3PF66V/QitFMzOTk5EbxBv+RqIsNw/xLumQWf0itEsiH2xcHFSZmbCOj2Pm98ehv1UXtPSsYLFg\n8fPPMH/xY7CaeHBBrqHsm9BCcDmyhZlZ0JDQddhRtkrEDgDYxESYuzujShGAHDsipDQ1yR273cvu\nI1jMMDY2UrTOR6qXSYcFEoZ11arFxmLh6hXM/N6VXlPgh1AURdgmJjB37iOXuPIsVJlZ4Fzjg1ZC\nfl5qikpIDzFAOCeguB8slrv+nJqJqeBSUmFsacLUO7+FvrE+YN3XIs/D1NON6RPvwtzTA1VGZkim\niXTL0rDUOBGe5KWlI9b1sKcz6DFvvFuQmI2JAW8ywz4zE2rzgoZKaQOIjYPRaEBvr2ucE8uiurpm\n+f062gGBB6OiaJ0v1Mgidh2jw7A7HFCrAv+nzcbEgM3MAm82Y/7ix1AlJSNh127ElZQGvQ5SsNtg\nHR6GsaUJ9lkdmJgYqDIyfXbQWoYHpeVqSsMGlJriUtS5/q6bhwZwcPfyne4Mx0GVngHRYYexoR7G\nhgZoyiugqayEOivb71GBgtUKy/AQjA31cOgXwSUlh1QWyWPiBDVOhCUcy6IkOwddY04nfGByErvL\nEu/aj2FZWAb7EZOdHWoTgwI5dkTIaG1tkTSfKio2IyHh7j8w3myGsbkZXDJF63wlMzkFuWlpmJib\ng83hQI92HNtkc2QDDafRgNNonKmvq1ewWHsNms1boCmrgDorK2CzfEWeh316GuaBPph7eiDa7WDj\n46HK8K8YXhRFtMocuxrqiA0onnV2q0vuMCq108HjeZgH+mDq7QEbG4u4klLEbiqAKi0VXEIimCUP\nJ6LDAd5ggF03C8vgoFOmQuDBJiRAnZkV6K+1Kp1jsogdNU6ELaXZuTLHbgK7y8rv2odLTIS5uxtJ\ne/YGbNSckpBjR4QMeX3djh3L19eZOu9E6+jS9IeaohJMuLqNW4YGg+rY3YGNiwMbFwfR4YC5qwum\nzg6wMTHOG3RBIVTp6c4btI+OnigI4BcXYJ+dhXV0BNbhYYh2O8Cy4JKS1nxNjOlmMeeaCZkYF4eS\n7Jw1vQ+xPJWbCqBWqWB3ODCu02FmcRGZPkgUMRwnNTeIdjvMvT0wd3UCDANRFMHGxoBRx0jbBasV\nDAOIIsCo1QGd9+overMZIy5dNI5lSeokjCnLWXlm7B0YtRrC4gJsk5OIzY/8Jhi6exIhY7X6OsFC\n0bq1UlNcio9dHcetw4M4ikdD9tmMSgVVmvwG3QtzVxfAAAyngio1DVxqCriERLAaDRiVylmf53BA\nMJvA6w1wLMzDMT8PQHTfuOPjA+Lgy+u+thcVr9iJTayNGJUKVQWFaB50RutahgbwxRrv85+XwqjV\nUKW6p0KIogjwvFTHycbFgU1ICJvayM4x94zR8tw8qY6LCD9W64y9A8OpYOnvJceOIHxFEAS0tHiP\n2Bk7OwCeonVrwbMzdhCCICjiwNx1g+Z58CYj7AvzAO+AyAtgGAAiIDIMGI4Fw6nAxKjBpaYGLI0r\np9WjcYLGiAWDHcWlkmPXNNjvt2O3FIZhAJUK4eHG3U2HTDqnqqBQQUuI1ZBH7AanJsHzPLhlIr1c\nUhLMfX1Iun9fxKsx0KMrERKGhgax4NKxSktLQ5HMEQGchdDG5mZwKTRlYi0UZma5xzuZzRheMj5H\nKRiOcwoeJydDlZYOdWYmVBmZUGVmQp2R4YzmJSWBjY0LilMHOAv670D6dcFhl2y0XeNAv4KWhAZ5\nxK6qIPhlD8TaSUlIQJYrC2RzODAyu3z3K8NxAO+ATTseSvOCAjl2REhYKky8NKVi6uoEHA7qhF0j\nd413CoLsSSQytTAvaavFqtUkSxEkthUUSZ3Yo7MzmA6BGLFSiKKIjlG3Y7eVInZhT3lunrTcN+HF\ncVPHwNzbEwKLggs5dkRI8BQm9qyvE2w2GJsaaSbsOlmajiUgpQcBYHthcVBkYAggRq1GtUzPrnGw\nT0FrgsuYbhZ6s1NkOUmjwab0DIUtIlajIs9dN9erXbnOjktMhHVoCEIARjMqCTl2REiQN04sra8z\n9/ZAsNsivq5BaaqXjHcinPVed9hZsvJcYmL97Cp1y0g09kdvOrZj1LO+LlwaOoiV8YzYeWmgYFlA\nFGGVSdlEIuTYEUFHr9ejv78XAMBxnIcwsWC3w9DYEFJh0Whlc24+4lxCwVML85icn1fYIuXxcOxK\nqXEimOwuczvODQN90tzYaKNzlOrrIo1y2Rzf3olxr9cmExsLc3dXKMwKGuTYEUGnpaVJ+kPavLkS\nGo17/JOhpxei2RySEUDRDsdxHh16Gz0dO7Uwj3Gdu76uMr9AYYuimy35BdDIHiy0Ll3FaIPq6yKP\n3NRUaabxosmEmcXFFfdlExJg1Y6DNxlDZV7AIceOCDqe9XXuNKzI85i5Xgs28e4JFMTaqKEGCgmq\nrwstKo5DjWxuceNA9NXZWe12j1Te1k3k2EUCLMuiQha189ZAwTAMIADWkZEV9wl3yLEjgo68I3bH\nDnfjhGVkGA69HmxcnBJmRSU7Stw31ubB6K1z8gWqrws9ctmThih07Hq0Y+BdoslFmVlI0mgUtojw\nFXmdXe8qkiZsvMap1BChkGNHBBWnMHGztH4nYicKAowNt6FaZl4ssXaqCoqgdolvDs9Me005RDty\nPTWqrwsNu+UNFFFYZ9dJadiIpTxP5th5aaAAAFajgX1mGo4I/f0kx44IKv39fTAY9ACA9PQMbNrk\nrHOyasdh182BS4j3djjhJ7FqNbbJZCeaNmjUbnLeU7+O6utCQ1lunhTFmjMYwkYoO1C0U+NExFLu\nkYr17tg5O50ZWIeHgmxVcCDHjggqS/XrGNeAb2NjA9jYWJIKCAIbbQrAcjQPub831deFDo5lPdLe\njf3Rk44VRRFtshs9jRKLLEqysqFyZTO0czoYLBav+3MJCTB1dkRk1JkcOyKoeNbXOdOw9plp2Ca0\n1DQRJHYtSYdtRJoG3I0TVF8XWqK1zk47N4dZvTM1Fx8b6zFcngh/1CoVirOypfX+1aJ2sbFwLC7C\n4Yr8RxIhc+wGBgZw9OhRHDx4EEePHsXg4OBd+/A8jzfeeAP79+/HgQMHcPz4cZ+2AcCZM2fwzDPP\n4PDhw3jmmWcwM7P8PDgitCzXEWtsbgajVlO0Lkhs3VSAOJfYs3ZOtyH17Ei/TjnkdXZNg/1Ss0Gk\nI5cP2l5YDC5Is42J4OHzaDE407EMw8Aie0iMFEJ2Zb722ms4duwYzp07h2PHjuHVV1+9a5+TJ09i\neHgY58+fxzvvvIOf/OQnGB0dXXVbS0sL/vmf/xm/+MUvcOrUKfzmN79BUhIJ3irNwsI8BlypQJVK\nhW3bquFYmIdlaACcaygzEXjUKhW2F8nr7KInauILVF+nLEVZ2Uh3CY7rzWb0aMcUtigwyB07+Vxm\nInLw6IxdJWIHAGxiIszdnRAj7OEkJI7d7Ows2tvbcfjwYQDA4cOH0d7eDp3OM8R55swZPPfcc2BZ\nFunp6di/fz/Onj276rZ///d/x9e//nVkZWUBAJKSkhBLgreKIx8jtmXLVsTFxcHY1gaG5ShaF2Tk\n6diGKKpz8gWqr1MWhmGwp7xCWr/d26ugNYGjVaYLWV1cvPKORNjiOTPWe8QOANiYGPBmC+zTU8E0\nK+CE5BdPq9UiJycHnKtwkeM4ZGdnQ6vVIj093WO//Hz3ic/Ly8PExMSq2/r6+lBQUIAXXngBJpMJ\nBw4cwJ/+6Z/65TxkZKy93isri6KDy9Hd3SotP/jgA0jTsJgf6kNyXhYY17UAAAkJ5ISvh+XO376q\nrfhfF84BAJqHBhAfH7NhnOm2UXeB+94tm71eX3TtrY+Vzt9D27fhY1d9bcNAL77x9KFQmhVw5B2+\nKo7DPVvKEaeOWff70vW3dtZy7mrKSqTloekpxMRyqz74WS2xUE+PIat6s9+fpxRR8SjL8zy6urrw\ny1/+EjabDS+99BLy8/Px7LPP+vwes7MGCIL/3S9ZWUmYntb7fdxG4Nq1Wml569YaDF+rg9lig8Pi\nAOAA4PzjNBqtClkY+ax0/grTshAfGwuT1YrJ+Xn0jmqRn56hgIWh51ZPj7RctaloxeuLrr314e38\nbd9UIi23DA1ianYBCREsRF7X2S0tb8nfBN4mwmhb37VD19/aWeu5Y8EiNzUNE/NzcPA8OoZGPdKz\nyyGq4jDV0Aps3QkmTKL/LMt4DUaFJBWbl5eHyclJ8DwPwOmITU1NIS8v7679xsfd4VGtVovc3NxV\nt+Xn5+PQoUOIiYlBYmIinnjiCTQ3N4NQDpvNhtZW9//Bjm01MLW2QpWUrKBVGweO41BTXCKtbxTZ\nk3GdDhOuGaVxVF+nGGmJiVLaixeEiNdTbJXJnFB9XWQjT8eu1kABAIxKBdFuh82HmrxwISSOXUZG\nBqqqqnDq1CkAwKlTp1BVVeWRhgWAQ4cO4fjx4xAEATqdDhcuXMDBgwdX3Xb48GFcvXoVoijCbrej\ntrYWW7duDcVXI1ago6MNNpsNAFBYWITExQUIdhsYV7cmEXx2lcjq7KJIdsIbDf3ueq4dJaVUX6cg\ne8rdqavbfT1e9gx/WmSNE/IHJiLy8Ge0mIRaBVN39+r7hQkh64p9/fXX8fbbb+PgwYN4++238cYb\nbwAAXn75ZbS0tAAAjhw5goKCAjz55JN4/vnn8corr6CwsHDVbV/60peQkZGBp59+Gs8++ywqKirw\n1a9+NVRfjViGhoZ6aXnXzt0wNDaAS6RaxFAi1xNrGuiPSKFNf6mXOXb3lFV42ZMINvfKHLtbvZHr\n2JltNvSMuzt7txXSxIlIxt/OWADgEpNgHR6EYI2M1HnIHmfLy8vv0p4DgLfeekta5jhOcviW4m0b\ny7L47ne/i+9+97uBMZZYN42Nt6Xl7UXFEIwGqDKzFLRo43FnvJPebIbOoMfwzLSHQGe0IQiCR2SS\nHDtl2V5UjDi1Gha7HWO6WYzrdMhfkqWJBDpHRyQtvuKsbKTEJyhsEbEe5KPFerXjEAQB7CqahAzL\nAoII69goNGXlXvcNB0hhkQg4oiiisdEdsdvMcmA0NBM21Cwd71Qf4emw1eibnMCiyQQASE1IREl2\njsIWbWxiVCrsiILrTz69paaYxK4jneyUFMk5N1mtGPdxsgQTGwtzV2cwTQsY5NgRAWdwcADzrmkH\nKcnJyAMDNp4cOyXwrHOKDj2xlaiXfb/dZeWrPoUTwccjHRuxjp278eOeCIjWEN5hGAZb8jdJ693j\noz4dxyYkwKbVgjcYgmVawKBfPiLgyKN12wuKwMZuHA21cEPu2DUO9sPucChoTXCR19fJBXIJ5bi3\nwn391ff3wuFSRogUTFYrOsdGpHWaOxwdeDh2Y75NRnHew0RYRoaDZFXgIMeOCDgNDe76uq1paeBI\n4kQx8tPTkZfmrGuy2GxoHw3/H6W1YLPbPUY+7S4lxy4cKMzMQnZKKgCnkySXDYkEWocHpfq68tw8\npCRQfV004Bmx833kHRufAFNHe9g3opFjRwQcj4jdpkKK1imMRzo2grsTvdE+Ogyr3Q4AKMjIRE5q\nqsIWEYAzyvHAFrf01I3uyKhRuoN8HJ+8y5yIbLbI9C17tGMQfJwFy8TFgZ+fg8NVahSukGNHBJTZ\n2RkMu57K1RyHrRVbFLaIkKfDIrXOaTXk9YPUDRtePFDpduxqI8yxkzdO7C6l+rpoITM5GWmJzskN\nZpsNo7MzPh3HMAzAMLCEueA2OXZEQJFH67bk5CI2lmYhKs2ukjKwrqhpj3YcCyajwhYFHg/9Oqqv\nCyt2lZQhziVMPjIz7fNNVGkWTSZJ54xlWeqIjSLubqDwIx2bmARzZydEH6N8SkCOHRFQ5I5ddQn9\nEIYDiRoNthY4xbxFUfRIL0UDC0aj9MPMMgwVuIcZMWo17pGVA9RGiGRE89CAVEu1JX9TRM+6Je5m\nS94aHbuYGAhmM+zTU8EwKyCQY0cEFPnEiRq6wYYN0TTeaSm3+nqkG3BVQRGSNBqFLSKWEol1dvIH\nIErDRh9bNrnr7Pxx7AAAHAtzGNcrk2NHBAyz2YzOznZpfVthsYLWEHKW6omFe1eXP9T1dEnLezdT\nTWc4ct/mSmm5eWgABotFQWt8Qz53eBc5dlHHZlnErlc7JnU/+wKXmARzXx8EV8NWuEGOHREwWlub\n4XDppBVnZSOZRInDhq2bChDvqnecXljAyMy0whYFBkEQUCd7cpY7EET4kJmcLNU08YKAW73hPVB9\nYm4Ow66/kRiVCtVF9JAabWQmJyMjyTm/3GK3Y9SP30RGpYLosMPqb6QvRJBjRwQMuX7ddvohDCs4\njvPoFr0pi3JFMt3jY1IzSFpiIipkA76J8EKejg337tg6meO5q7QMsa7mDyK6kMuedPnppLEx4Tti\njBw7ImDU19VKy9VFJcoZQiyLPJp1ozs6HDu5g7q3YguNEQtjHqiskpZv9nSBD+MpFHLHbi9JNkUt\naxktdgc2IQHWsVHwYagyQL+CREBwOBxoam6S1muKS5QzhliWSKxzWo2b8hswpWHDmorcPGS4ptAs\nmkxoCdMpFHaHw6O+jq6r6GXzGiVPAIBhWTCiCOtw+E3zIceOCAht9bdgtloBAFkpKchNTVPYImIp\nmcnJ2JyXD8BZ51Qf4d2x80YDusacT9ksw2APCROHNSzL4uGqbdL6Z+0tClqzMm0jQzDbbACAvLR0\nbErPUNgiIljIJU/6JrR+R5GZMB0xRo4dERBqPz4rLe8sLqUxYmHK/R6yE5Gdjr29ROaEmnXCn0e2\n1UjLn7W3+TzKKZTc7HFHge/bvIV+y6KY9KQkZCWnAACsdjuG/GwqY+Pi4JjThd2IMXLsiHUjWK2o\nv10nrZNCe/hy/xZZnV1PV1jeWH3F8wZM6bJIoKa4BKkJCQAAnUGPtpHwS2Mtrdskoht5nd2dDICv\nOEeMsbCEmeg7OXbEujH2dqN11P0HsZMmToQtlfkF0o113mjwX5gzTHBKZshlTugGHAlwLIuHtm6X\n1sMtHTs2O4PBqUkATpmTnaRfF/V4dMaOjfh9PJuUBHNXB8QwagYix45YFyLPo+XjczDanPV16YlJ\n2JSRqbBVxEqwLLukOzY82/VXo31kWJI5SU9MQjnJnEQMj26vlpbDLR17rbNDWt5TvhmamBgFrSFC\nQVVhobTcMboGx06tBm+xwDY5GUiz1gU5dsS6sIyOoKnP3UG2o4Tq68Kd+yNIT2wlrskmnOyrrCKZ\nkwhiZ0mZNPZtenEBXX7KTASTa13u6+rBrdu87ElEC5X5BdI9a2ByQmqc8QdGpYI5jLRB6deQWDOi\nKMLY2ICWCa302g6qrwt79pRvBudyhHq045jVLypskX+IoojPO9uk9Yeq6AYcSag4ziMde7k1PNKx\ncwYD2lwSLCzDYF/l1lWOIKKBhLg4FGdlAwAEUUTPGspTuMQkWAYGILiUIZSGHDtizdinJmGbmUbL\nqLsAmurrwp/EuDgPncHrsvRTJDA0PYVxnQ4AoImJoTmeEYg8HftJa5NfczqDRW13JwRXl/W2wmKk\nJiQqbBERKrZukqdj/W/oYTgOosDDEibNQOTYEWvG2NyMofl56M1mAEBqQgKKXE8+RHjzkCzN9FlH\nm5c9w4/PO9zpsr2bKxGjUiloDbEW9pRVIC3R6TjN6vUegsBKIU/vP0Rp2A1FVcH66uwAgNVoYGpv\nX33HEECOHbEmHPPzsIwMoVWm+1ND+nURw0NV7lRY40Cf5JxHAvI6qIe2VnnZkwhXOI7DF6t3SusX\nmhoUtAYwmM24JZti8iBdVxuKwDh28XDMTMOxoLymHTl2xJowdrSBYTm0DA1Ir1F9XeSQnZKKrZuc\nbf68IOB6V2SkY6cXFiStKY5lcd9mqoOKVA7s3C0tX+1okybXKMHVzjbYXXIVm/PyqbN/g1GcnYM4\nVwf0rH4R0wsLfr+HU9OOgXmgP9Dm+Q05doTf8CYTzF2dYJOS0Dw0KL2+g+rrIoqHq9x1TlcjJB0r\nj9btKCmVuiuJyKMiL18qWrfY7bjaqdw1+ElLs7T8xZqdXvYkohGOZVEp07PrWIOeHQCwiYkwd7RD\nVLhmlBw7wm9MPV2AKGJkTod5owEAkKTRoDQ7R2HLCH94eJs7HXurt1vRiImvXG5zd1BSHVRkwzAM\nDuy8R1pXKh07ZzCgYcA9OeCx6h2K2EEoi0c6do1NEGxMDHizGbaJiUCZtTY7FP10IuIQ7DaYmpvB\nJiWjZdCdhq0uKiEtsQijICMTpTm5AACbw4GbshqjcGRmcREtrggxwzB4ZFu19wOIsOeJHbukutyG\n/j5MKVCfdKWtRRJJrikuQXZKashtIJRH7th1rjFiBwAMp1J8xBjdiQm/sPT3Q7TbwKrVaJLV15HM\nSWTySJV8vFOrgpaszmftrRBdchQ7ikuRkZSssEXEeslKScFul1yNIIr4SDZzOlRcammSluUNHcTG\nYqvMseseH4NjjSPCGJVKcT07cuwInxF5HobGerAJiRBFEU2yItEdJWUKWkaslYdlUa/aro6wTsd+\n2uaug6J0WfRw+N77pOUz9XVrvqGuheHpKbSNOEWJOZb10NcjNhYZSclStNZqt2NgKnxGhPkLOXaE\nz1hGR8AbjGDj4jA0PQWdQQ/AKXhLszojk9LsHI8CdnlzQjgxtTDvngrAsnhEVh9IRDYPbt2G9MQk\nAE5Nu1B2aH9Uf0ta3ldZRaLEGxx5Orbd5fBHIuTYET5xZ3wY6+pClAuK7iotl0ZUEZEFwzB4Yscu\naf1ic6OC1qzMFVnTxO7SMroBRxEqjsNT99wrrZ+suxGSz7U5HDjfWC+tP71nb0g+lwhfqgqKpOX2\nMJkisRbobkz4hH1yAvaZGbDx8QCAellx6G4a6RTRPF7jduxu9fVizmBQ0Jrl+bRVlobdTmnYaOPp\nPfeBdTVR1Pf3Ymh6Kuifea2zHQsmIwCnruOe8s1B/0wivKkuLpaW72QIIhFy7AifMDQ1gomJAcMw\n4HkeTYPu+rrdZeTYRTK5aWnYXuT8QRMEAZdltWzhwNjsDDplosTyqRlEdJCTmor7t7jFpn937bOg\nf+YZWaPGod17KOtAoCI3H3FqNQBgYn5uTULF4QBdycSq2GdnYRsdBZfkrIPp0Y7D5Cqyz0hKRmFm\nlpLmEQHgcZkoa7ilY+Xpsvs2VyLZFTUmoovnH3pUWr7Q1ICZxcWgfdbA5ATqXeUkLMPgkCwVTGxc\nVBzn0R3bGqF1duTYEatibG0Go1JJelMeadiycpoPGwU8tn2HFLHoGB3BuG5WYYucCIKA801ux+7g\n7j0KWkMEk+qiYmwrdNY42Xke7924FrTPOnH9c2n5wa3bSLuOkKguKpGWW2WTlSIJcuwIrzgWF2Hp\n6wOb7NYMaxhwN07cQ2nYqCAlIQH3VrhrjORRMiVpHOyX0iHJ8fG4f3OlwhYRwYJhGByVRe1O1tXC\nYDYH/HN0ej0uNrunXDz34CMB/wwicrlTlgJAksKJNMixI7xi6mgDGAaMK5pjs9s9ikp3l1YoZRoR\nYA7uckfDzjbcAh9CPbGVON9wW1p+omYX1CqVgtYQwWZfZZVU2mGyWvHu51cC/hknrl+F3XVtby0o\nlKKEBAEA2wqKpEae/gktjBaLwhb5Dzl2xIrwJhNMHe3gUlKk19pGhmFzOAA4R1JlybYRkY1TxysB\ngHN8V11fj6L2GCwWfNbhHgz/JKVhox6WZfG1LzwurZ+o/Ryz+sDV2s0Z9Pjg5nVp/ehDj1IpCeFB\nQlycNGpREEV0jEae7Ak5dsSKmLo6IIoiGI6TXpPr11E3bHShVqnwpCxqd0aB8U5yPm6sh9VuBwCU\n5eSigkSwNwRfrN4hCZ5b7Xb8x6eXAvbe71y9AovrmirPzcNDW7cF7L2J6KG6KLJlT0Lm2A0MDODo\n0aM4eMtKfYQAACAASURBVPAgjh49isHBwbv24Xkeb7zxBvbv348DBw7g+PHjPm27Q39/P3bu3Ikf\n/vCHwfwqGwLBaoWxpQWqZM95nPUD8sYJSsNGG0/LugNruzsDGi3xB1EUcbKuVlr/8t4HKLKyQWBZ\nFv9t/0Fp/Ux9HQYDMN5pXDfrEa178Yv7wZLECbEMHg0U5NitzGuvvYZjx47h3LlzOHbsGF599dW7\n9jl58iSGh4dx/vx5vPPOO/jJT36C0dHRVbcBTsfvtddew/79+0P1laIac0834HCAUaml1wwWC7pd\nemIMw2AXzYeNOgoys7CjuBSAsyP19K2bitjRNNiP4ZlpAEB8bKzHdAwi+tlbsQW7Sp2/L4Ig4J9O\nvg9BENb1nv9y9rS7tm5TAfZVVq3bTiI6kTt2HaPDIZ1fHAhC4tjNzs6ivb0dhw8fBgAcPnwY7e3t\n0Ol0HvudOXMGzz33HFiWRXp6Ovbv34+zZ8+uug0Afv7zn+Oxxx5DSUlJKL5SVCPYbTA0NYB16dbd\noWmwH4IoAgAqcvNITyxKeWbv/dLyh3U3pJrKUPLhTXe07sDOe6CJjQ25DYRyMAyDV556RpLgaR0e\nxBnZXFd/qe3q8JhB+2dPf5kiwMSKZKWkSBI4FrsdvRPjClvkHyFpMdNqtcjJyQHnqtXiOA7Z2dnQ\narVIT0/32C8/P19az8vLw8TExKrbOjs7cfXqVfz617/Gm2++uSYbMzLWPnsyKytp9Z0iiIWWVsQw\nAuLSljp27jTsA1u3IiEhMDfbQL3PRiXQ5+/Q3j146+OzmFqYx7zRgGvdbfjS3vsC+hnemJibw+ed\n7dL60UcfCdo1Qtfe+gjm+asuK8YLj30Rv750EQDws7On8UBVJYqzs/16nzmDAf/vyfek9cP33Yc9\nleFRRkLX39oJ9rnbVVaG8w1O2afuiTHs2eLbNWMXbNAkxirqF0S8doDdbsff/M3f4B/+4R8kx3Et\nzM4aIAii38dlZSVhelq/5s8NN0SHA9OfXAVUceCNVvfroohrne4n3p3FZTDKtq+VhITYgLzPRiVY\n5+/Lex/Av11wRsT/8/JlfKFqR8giHP9x8SJ4V9ptV2kZspPSgvId6dpbH6E4f8/vexSfNDdjZGYa\nFrsN//PXv8I//bc/gSYmxqfjBUHA93/7n9Dpnb/R6YlJ+OPHngyL/3e6/tZOKM7d1vxCybG71d2D\nL+95wKfjeJMNvMEaVL+AZRmvwaiQpGLz8vIwOTkp6WLxPI+pqSnk5eXdtd/4uDvkqdVqkZub63Xb\n9PQ0hoeH8Y1vfAOPP/44fvWrX+Hdd9/F3/zN34Tgm0Uf5sEB8GYT2CWprzHdLCbm5gAAcTEx2F5Y\nvNzhRJTw9J690szEvgktGgf6VzkiMCyYjB7duPIxU8TGIy4mBt977g8l/cK+CS3+7vhvfNZY/F8X\nznmkYP/PZ/8AKS5JH4Lwxs5Sdw1582C/9LAZCYTEscvIyEBVVRVOnToFADh16hSqqqo80rAAcOjQ\nIRw/fhyCIECn0+HChQs4ePCg1235+fm4ceMGLl26hEuXLuHFF1/E888/j+9///uh+GpRhcjzMNbf\nApdw95PArd5uaXl3aTkJxUY5yfHxOLDrHmn97cuBk5zwxoc3ayU5irKcXOyt2BKSzyXCl/LcPLzy\n1DPS+o3uLvzgxDuwua6T5RBFEW9/ehHvyASOv7rvYdxHk0sIHynKzEJ6ojOdarBY0D+hVdgi3wlZ\nV+zrr7+Ot99+GwcPHsTbb7+NN954AwDw8ssvo6WlBQBw5MgRFBQU4Mknn8Tzzz+PV155BYWFhatu\nIwKDZWgQDr0BbFzcXdvqZI6dfPQUEb089+CjUvF602A/mgaDG7UzW60e80GPPkzisYSTw/fehz98\n5DFp/UpbC/7y39/C0PTUXfsaLRb83+//Dv/+yQXptX2VVXj5yadCYSoRJTAMg50lpdJ6sH//AknI\nwi7l5eXLas+99dZb0jLHcZLDtxRv2+R861vfWruRGxhREGC4fQvcMmkKm8OBJlkqbm8FPfVuBPLT\n03Fg5z042+DsRvyPTy9i5x8FT+LmxPWrWDSZAAA5qal4bPuOoH0WEXl8/YknYbHZJOe/c3QE//1f\nfozHqndgd2k5YlQqdI+P4Vzjbek6AoB7yirw11/936WHFILwlZ2l5fiktRkA0DjQj69GyFxhyqcR\nAADL8BAci4tQZ2beta11eFBKj21Kz0D+khQ6Eb0ce/SLON9UD0EQ0DjgjNrtDIJ+4bzRgHevfSat\nf+0LT6yrGYqIPhiGwTefOozctDT86/mPIAgCHDyPC00NuNDUsOwxB3buxl9++StUOkKsiV3yOruh\nAfA8HxG/S/QIQ0jROnYFXbq6HnkalmqeNhL56el4cqe71u5fzp4OShHxf372KUxWZ5dbUWYWnty5\nO+CfQUQ+DMPgD/Y9jJ/99z/zEJFdSm5qGv7nc3+Iv/rfniOnjlgzm9IzkOmavmSyWtETIXp2dMUT\nsIwMwzE/v2y0DgBuyYbB76X6ug3Hf3nsCVxqaYTN4UCvdhznGm7j6T17A/b+Y7MzHoLEX99/MCKe\nignlKMvNw//39W+ge3wMN7o7MTwzDQfPIyc1FbvLKnBv+Wao6Boi1omzzq4MF5sbAQBNAwPYuin8\na/vJsdvgiIIAw626FaN1M4sLGJh0CkGrOS4oaTgivMlJTcXRh7+A//jUKRT7i4vn8Oi2aiRqNOt+\nb1EU8ePTH7pHPRUU0mB2wicYhkHlpgJUbipQ2hQiitkld+wG+3D04fCXYKJU7AbnTrSOWykN2+uO\n1lUXldBopw3K0YceRVZKCgBg3mjEzz/+KCDv+2lbC267IsIMw+BbNOqJIIgwYmdpubTcMjQYEXNj\nybHbwIiCAEPdzRWjdYBzxuId9m6m+rqNSlxMDP7k4Jek9TO363Czp2td7zmzuIAfn3pfWv/y3gco\n+kIQRFiRl5YmzY0122zoHh9T2KLVIcduA2MZHIBjYeVonc1ul6IpgFMLiti4PLqtGo9uq5bW/5/3\nT2BmcXFN78ULAn743nHozWYAzqHbf/zEkwGxkyAIIlAwDOPRHRuqKTzrgRy7DYrI8y7dupXnzTUO\n9rtlTjIyUJiZFSrziDCEYRh8+/ARpLquGZ1BjzfeeRs2h8Pv9/r5+TNo6O+T3ve7XzmKxGWEsQmC\nIJRmlywdW9/f42XP8IAcuw2KZaAfjsUFsF4K4Gu7OqXlB7ZsDYVZRJiTmpCIv/7qUbCuOriO0RH8\n/e9+61fdyXu1n+PE9c+l9Rce/SJ2yBTeCYIgwok95RXScuvwEMwuaaZwhRy7DYjocEB/uw6caw7e\nsvuIIq53u+vrKA1L3OGesgp8Qzae6WpHG/7u+H/CbLN5PU4URfz2s8v46UenpNcertqO//rYE0Gz\nlSAIYr1kJCWjNCcXAODg+bAfL0aO3QbE3NcLwWhcdibsHQYmJzC9sAAASIiL8yoGSmw8/mDfw3hO\nNl7nakcbvv1v/7JiYfGcwYC/ffc3+LcLZ6XXqgoK8X995XmwNOqJIIgw595yt4arXC0iHCEduw2G\nYLdBf7sOrJdoHQBcl6Vh91ZsIbFPwgOGYfCNJ5+CIApSWnVgcgKv/Pyn2FdZhUe3VSM3LQ16sxm3\n+3pwtv6WVK8JADtLyvD9Y/8VmpgYpb4CQRCEz9xbsQXHXWMP5U2F4Qg5dhsMc1cXBIsF6oyVmyYA\nLEnDUn0dcTcMw+BPDx1GSVYOfnz6A9h5HqIo4lpnO651tq943Jf3PoA/Ofg0YtTqEFpLEASxdmqK\nihGrVsNqt2N0dgYTc3PITUtT2qxloRzIBkKwWKBvuA0uOcXrfnMGPbrGRgEALMPQfFjCK0/t2Yu3\nvvl/rNpgU5aTix+88CK+ffgIOXUEQUQUMWo1dhS7m7xu9XZ72VtZKGK3gTC2tQIOB9hVbqq13V0Q\nRREAsL2oGCnxCaEwj4hgCjKz8HcvvIjh6SlcbmtB19goFkxGxMXEoDQ7B/dv2YrdpeVUT0cQRMRy\nb8Vm1Lkcult9PTi8936FLVoecuw2CLzBAGNL06rROgC42tEqLVM3LOEPRVnZ+C/U5UoQRBTizF6d\nBgDU9/fCwfNhWX9Oj88bBENjPQCAUXn35Y0WC+r7eqX1h6uqvexNEARBEBuDoswsaWa2yWpFx+iI\nwhYtDzl2GwC7bham7i5wrnl33qjt7oTdJTZbnpuH/PT0YJtHEARBEGEPwzC4t9xdcx6udXbk2EU5\noihCX3cTjEoNxof6pqsdbdLyI9soWkcQBEEQd9hb4dazq+3u9LKncpBjF+VYx8ZgHRkBl5y86r4W\nmw11PV3SOjl2BEEQBOFmT/lmqa6ub0KLqYV5hS26G3LsohiR56G/cR1sQjwY12xPb9T1dksiskVZ\n2SjOyg62iQRBEAQRMSTExWGnbLa1fKZ6uECOXRRj7u2BY34OnI9yJZ+1u7thH6naHiyzCIIgCCJi\neWCLWy2iVibmHy6QYxelCBYL9HU3fZI3AQCbw+FRL/AwpWEJgiAI4i7kMmAN/X0wW60KWnM35NhF\nKcbmJoh2G1gfZ3HW9/fC5Lo4c9PSUJGbF0zzCIIgCCIiyU1LQ2lOLgDAzvO43d+7yhGhhRy7KMQx\nPwdja4tP8iZ3+LS1WVp+pKrap5o8giAIgtiIyKN217vCKx1Ljl2UIYoiFmtrARUHxkdFbIvNhs9l\nMieP1+wMlnkEQRAEEfHsq3TPxr7R3QleEBS0xhNy7KIMy/AQrKMjPtfWAcD17k6YbTYAQGFmFiry\n8oNlHkEQBEFEPJX5BUhLTAQAzBuNaB8ZUtgiN+TYRRGCzQb9tc/BJSX6lUq91NwoLT9es5PSsARB\nEAThBZZl8dDWbdK6XFVCacixiyKMLc0QzGawcRqfj1k0mVAnG4tCaViCIAiCWJ1HttVIy1faWyGE\nSTqWHLsowTE/B2NTI7hU3xsmAOdThsM1G3brpgJsysgMhnkEQRAEEVXsKilFcnw8AGBmcRGdYyMK\nW+SEHLsoQBQELHz+OaBS+dwwcYeLLfI07K5Am0YQBEEQUQnHcXhoq1vM/3Jbi4LWuCHHLgow9/XC\nNjHu0zxYOVML82gZGgQAsAyDL1TXeD+AIAiCIAiJR7e7xfyvtLdCFEUFrXFCjl2Ew5uM0NdeB5ec\n4nfTwyctTdJFuKu0HBlJ/jmGBEEQBLGR2V1ajiSNs659emEBXRPjCltEjl1EI4oi9DdvQHQ4fJ4w\nIT/2XMNtaf2JHZSGJQiCIAh/UHEcHpR1x17pVF6smBy7CMY6OgJzbw+4tDS/j+0YHcbwzDQAQBMT\ng0dpNixBEARB+I38/nm5q13x7lhy7CIUwWLBwmdXwCUlrUl37qN6d7Tuseod0MTGBtI8giAIgtgQ\n7Cnf7O6O1evRPNCnqD3k2EUgoihise4GBKvFL826O5htNnza2iStP3XPvYE0jyAIgiA2DCqOwxe2\nu5sPL9TXKWgNOXYRiXV0BOauLqhS/U/BAsCVthZphFhRZhaqCooCaR5BEARBbCjkdeqXmxpgc91j\nlYAcuwiDN5ux8Nll59gwdm3/fWcbbknLB3ffSyPECIIgCGIdbC8sRq4r2GIwm7GwMK+YLeTYRRCi\nKEJfex2i1bamFCwADE1NurXrWBYHdu4OoIUEQRAEsfFgGAZ/eeQryE9Nw1P37UN6eoZitqgU+2TC\nbyz9fTD39UKVufaxXx/W3ZCWH6ysQnpSUiBMIwiCIIgNzT1lFfjly99ETG4eOD+nQAWSkEXsBgYG\ncPToURw8eBBHjx7F4ODgXfvwPI833ngD+/fvx4EDB3D8+HGftv30pz/Fl770JTzzzDP4yle+gs8+\n+ywUXymkOBYXsXj1M3Ap/gsR38FkteLjpnpp/cv3PRAo8wiCIAiCCANCFrF77bXXcOzYMRw5cgQf\nfPABXn31Vfz617/22OfkyZMYHh7G+fPnMT8/j2effRb79u1DQUGB1207duzA17/+dWg0GnR2duJr\nX/sarl69iri4uFB9vaAiOhxYuPIJwDB+CxHLudDUAJPVCsDZNLG7tDxQJhIEQRAEEQaEJGI3OzuL\n9vZ2HD58GABw+PBhtLe3Q6fTeex35swZPPfcc2BZFunp6di/fz/Onj276rZHHnkEGtdIj8rKSoii\niPl55QoXA42hqRH2yUmwfs6ClSOKIj6sq5XWn9n7ADVNEARBEESUEZKInVarRU5OjpRz5jgO2dnZ\n0Gq1SE9P99gvPz9fWs/Ly8PExMSq2+S8//77KCoqQm5url82ZmQk+rW/nKys4NWpGYeHMdfRguSC\nPDDryNk39PVhcGoSgHPSxLMPPoAETXiIEickhIcdkQqdv7VD52590PlbH3T+1k64nju7YIMmMTao\nfsFqRFXzxM2bN/GjH/0Iv/jFL/w+dnbWAEEQ/T4uKysJ09N6v4/zBd5gwMwHJ8GoYsFbHAAca36v\n33z6qbT8xI5dYAQWRqN1/Uauk4SE2LCwI1Kh87d26NytDzp/64PO39oJ53PHm2zgDdag+QUAwLKM\n12BUSFKxeXl5mJycBM/zAJyNEFNTU8jLy7trv/HxcWldq9VKkTdv2wCgoaEB/+N//A/89Kc/RVlZ\nWTC/TkgQHQ7MX/4EIs+D1axN2uQOo7Mz+LyzXVp/9v4H12seQRAEQRBhSEgcu4yMDFRVVeHUqVMA\ngFOnTqGqqsojDQsAhw4dwvHjxyEIAnQ6HS5cuICDBw+uuq25uRl/8Rd/gR//+MfYvn17KL5SUBFF\nEfr6W7BNaMElp6z7/X537SpE0RmNvG9zJUqyc9b9ngRBEARBhB8hS8W+/vrr+M53voM333wTycnJ\n+OEPfwgAePnll/Htb38bNTU1OHLkCJqamvDkk08CAF555RUUFhYC/397dx8dVX3ncfyTBwKGavOg\nQAAFbRfkoUCNBdbWghBIdolBPJW0FGoXq4fjdqtnj1ZqV4FjsUJ7UCp41JaWtkvFRStCUAiPBVQg\nIKCIBcuT1AQCeQATSAIzv/1DZ5wM987cmQy5k8n79U+49/f0vb/7u3e+3ElmpJBls2bNUkNDgx5/\n/HH/eHPnzlXfvn1b6/BiquHIYdW/t1ep2Ve3+A8caurqVLpnl3974jdvbWl4AAAgTiUZ36Ocdi5e\nfsfuQtVpVa18Xcmdv9Sijzbx+ePGdfrzpvWSpD7de2jhff8ZV38NG8+/K9EWMH/RY+5ahvlrGeYv\nevE8d566OqV1y1Hm6LzLNkZc/I4dnPGcq1fN2jVKSkuLSVJ3vqlJK3Z88REnd91ya1wldQAAILZI\n7OKE98IF1W5YL29jo1I6R//RK4FWlm3TmXP1kqSuGRn6dv+BMekXAADEJxK7OGC8Xp19e6uaTlYq\n5csZMenzfFOT/u+tzf7t731rpKvfXQcAAC4/EjuXGWNUt/tdnf/ooFKzs2L2VunKsm2qrf/sad01\nX/6y8r+eG5N+AQBA/CKxc9n5A39X3e5dSs3KjllS99nTui3+7e/feps6pCbUZ1EDAAALJHYuajh2\nVGe2blFqRmaLvi4s2Iod21RbXyeJp3UAALQnJHYuaawoV+36dUq56ioldegQs37Pnjunl7Zs9G9P\n4mkdAADtBomdC5oqK1VTulrJ6elK7hjbLzL+y+aNqmtokCT1yMpWAU/rAABoN0jsWtmFqirVrHlT\nSWkdW/wdsMHKq6v1+o53/Nv3jCngaR0AAO0IiV0rulBdpeo3V0kpKUpJT495/79fv0YXPB5J0oBr\ne+nWfm3/e3MBAIBzJHat5EJNjarfWCUlJymlc+eY9//+saPatO89//Z9Y/+Nb5kAAKCdIbFrJQ3H\njsjbFLtvlQh00ePR/JLl/u1v9x+oAdf1ivk4AAAgvpHYtaKk5Msz3X/d9paOVp6UJHVKS9O0gnGX\nZRwAABDfSOzauMoztfrTpvX+7R+MHK0uMfpaMgAA0LaQ2LVhxhj9puR1NTQ1SZJ6d+mqO4d/0+Wo\nAACAW0js2rA1e3Zp28G/+7cfKByv1Bh+gwUAAGhbSOzaqJO1NXruzRL/9vih/6qv9brexYgAAIDb\nSOzaIK/Xq1+//qrONTZKknpkZ+veMQUuRwUAANxGYtcGLd36N+0+fEiSlJyUpEcm3KVOaWkuRwUA\nANxGYtfG7DlySIs3rPVvF39rhPpfy2fWAQAAErs2perTs5r9ylJ5jZEkfa1Xb/3wtjyXowIAAPGC\nxK6NaLpwQbNeXqKaujpJUkbnL+nn3/meUvgrWAAA8DkSuzbA6/Vq7vJXtP/4x5KkpKQkPfqdYl19\n1VUuRwYAAOIJiV0bsHjDWm3a955/e1r+v+umG77qYkQAACAekdjFuVfe3qq/bNnk3x4/dDjfLgEA\nACyR2MWx13e8o+fXrPJvD/2Xvrq/oFBJSUkuRgUAAOIViV2cKtm5Q8+uWuHfHnBdLz12F38sAQAA\n7KW6HQCaM8boL5s36Q8bSv37bux5rZ78/g91RceOLkYGAADiHYldHPF4vXruzRK9vuMd/74+3Xvo\nqcn/oc6dOrkYGQAAaAtI7OLEmXP1evKVpdp16B/+fV+/4SuaWTyZpA4AADhCYhcHPir/RLNeXqIT\ntTX+fSMGfE2P3DlRaamcIgAA4AxZg4s8Xq9e3rpZf9q0Thc9Hv/+ySNG6QcjRys5mb9tAQAAzpHY\nueRo5Uk9veI1fXD8mH9feseOeuTOifrmjf1djAwAALRVJHatrL6hQf/7tw16ddtb8nq9/v039rxW\n0++cqJ7ZV7sYHQAAaMtI7FrJ+cYGLdu5Xcve3amz587596ckJ2vKyNH63rdG8Bl1AACgRUjsWsHm\nzZs0439+qpqzZ5vtH9z7Bv3XuCL17tLVpcgAAEAiIbFrBT//+U/16adfJHXdMjM1dfRY3TZwMF8P\nBgAAYobErhX07z9A27e/o2uuvFLfH5mngq/nKpW3XQEAQIyR2LWCZ599QR+tL9WVn3yi9Gu6uB0O\nAABIUHxQWitIS0vTdTnd+bBhAABwWbVaYnfkyBEVFxcrPz9fxcXFOnr06CV1PB6PZs2apby8PI0Z\nM0bLli1rcRkAAEB70WqJ3YwZMzRp0iStWbNGkyZN0uOPP35JnZUrV+rjjz9WaWmpXn75ZT377LP6\n5z//2aKyePH7114JWf7HjetaKZLoxvrjxnXN2kXSh1Vd377frVl9Sd+h+vDVDaz/379/0XIsXz1f\neeC/w43lqxvYNrBs0rw5YeO0K7Oq52R+A+v4ft7/3IIWj+uknZP9oQTGHu58RdpfJHEFns/frVlt\n27dVm+Byq/VkN9dOzr3dubDatoox1FwG9283hl2Z3bkJnotI14bV9RjLdWfV3ul9zOnajOR+FChw\n/YW63u2uG7tzFny/mzRvTsi2vjZFT85sti/4Pme1poLvj741EHjvtDouu32R3o/CjWF1DKF+RvL6\nECq+Bxc+E7afy6lVEruqqirt379fhYWFkqTCwkLt379f1dXVzeq98cYbuuuuu5ScnKysrCzl5eVp\n9erVLSqLF394/a8hy/+8aX0rRRLdWH/etL5Zu0j6sKrr27dobeklfYfqw1c3sP57x45YjuWr5ysP\n/He4sXx1A9sGllWeqQ0bp12ZVT0n8xtYx/dz9+HDLR7XSTsn+0MJjD3c+Yq0v0jiCjyfi9aW2vZt\n1Sa43Go92c21k3Nvdy6stq1iDDWXwf3bjWFXZnduguci0rVhdT3Gct1ZtXd6H3O6NiO5HwUKXH+h\nrne768bunAXf7yrP1IZs62tzrrGx2b7g+5zVmgq+P/rWQOC90+q47PZFej8KN4bVMYT6GcnrQ6j4\n9h7+R9h+LqdW+aWviooKde3a1f8BvCkpKerSpYsqKiqUlZXVrF737t392zk5OTpx4kSLyuLJxTNn\nZLzGtvxCVVWrxRLtWIHtIunDqm7wvnD9haofLq5o4w6s7zReu/p2cURyHFbt7H46HddpOyf7wwl3\nzJH2HU3bSObYyXY06zLcmnJyXNFcU9HEbVen8VwHx7GG0hrrLri90/tBJMcWyXl3UmZVL1b3QLs+\no7k+Y3X/iOR+1Hiugy6cv+B4jEjuf07XmF183oAvIHALv83/uezsL0Xd9pprrnRUr/eEIsnuY+t+\n82tdO2Zk1DFEJJqxfvNrSfqiXSR9WNX17fu832Z9h+rDqn5g/0H/blY3+BhCjBXI19ZRvAH1bI/Z\nqp6T+Q2sY9E+2nEdtXOyPxSr2C1i89eJpL9I4rKbb6s64bbDxRDu3NqtKQfjW40bPIbtdqi4Q/R9\nyX5JmiPrY3Dqcq87q/Z26y/UeGHWS7OyEOs77Fqx6Nfft108IdZXILu2l/QRYt067eeSMYOOK9Tr\nQUT3o3BrxcG1F3Zci74tj83X1kj63XOO84LLoVUSu5ycHJ08eVIej0cpKSnyeDyqrKxUTk7OJfXK\ny8s1aNAgSc2fxEVb5lRVVZ28IZ6m2bnmmit16tSnjupevO6rocuvDV0eS9GOFdgukj6s6gbvC9df\nqPrh4oo27sD6TuO1q28XRyTHYdXO7qfTcZ22c7I/nHDHHGnf0bSNZI6dbEezLsOtKSfHFc01FU3c\ndnV8L1wtOX929WO97oLbO70fRHJskZx3J2VW9WJ1D7TrM5rrM1b3j0juR4Gvu07GiOT+53SNhTte\np3lBNJKTk0I+jGqV37HLzs5Wv379VFJSIkkqKSlRv379mr0NK0kFBQVatmyZvF6vqqurtW7dOuXn\n57eoDAAAoL1ImTlz5szWGGjw4MGaN2+eFi1apAMHDmj27NnKzMzUvffeq+uvv15du3ZVnz59tHv3\nbj355JNatmyZpk2bpltuuUWSoi5z6vz5JpnIH9ipc+eOOneuKWw9Y4y+8Y1hUZfHUjRjGWN0881D\n/e0i6cOqrm9fenqaBg26qVnfofrwxRFYv6xsu8aPv/OSsXx1JWn8+DtlPj/BvrrhjlWSunfv4W8b\nWJqsSAAACNJJREFUOH55+SeaPPnukHHaHbNVPSfzG1jHV75nz04VFt7RonGdtHOyP5TA2MOdLyd9\nW9V1EpdvbGOMRoy4VYMH51r2HdhPYLyB5VbryW6urc6t3ZoOHt9qO/jYy8q2q6hogu1cBq8du7mz\nKwu+5qTP7n319Y3N5iIwBieC59bqeMPtd8pqrYfq0+naDC4Ltb4D26enp/nXX6jr3e66sTufgWvc\np2/fG23b+vr+9NOzmjr1vmbzFHifs1pTkprdH33rUPri3hlqXu3OTbj7ke9112r9BPcXfAyh7n92\n/Vmdl1DxOemnJZKSkpSenmZfbgLPfjvWGm/F4lLMX8swf9Fj7lqG+WsZ5i967X3u4uKtWAAAAFx+\nJHYAAAAJgsQOAAAgQZDYAQAAJAgSOwAAgARBYgcAAJAgSOwAAAASBIkdAABAgiCxAwAASBAkdgAA\nAAmCxA4AACBBkNgBAAAkCBI7AACABJHqdgDxIjk5yZW2YP5aivmLHnPXMsxfyzB/0WvPcxfu2JOM\nMaaVYgEAAMBlxFuxAAAACYLEDgAAIEGQ2AEAACQIEjsAAIAEQWIHAACQIEjsAAAAEgSJHQAAQIIg\nsQMAAEgQJHYAAAAJgsQOAAAgQZDYRWnWrFkqKChQUVGRvvvd7+r999/3l50+fVpTp05Vfn6+ioqK\ntHfvXhcjjU9HjhxRcXGx8vPzVVxcrKNHj7odUlyrqanRvffeq/z8fN1+++368Y9/rOrqaknSnj17\nVFRUpPz8fE2dOlVVVVUuRxu/FixYoL59++rgwYOSmDunGhsbNWPGDI0dO1a33367HnvsMUlcx05t\n3LhRd9xxh8aPH6+ioiKVlpZKYv6szJkzR6NGjWp2nUqh54p5DGIQlQ0bNpimpib/v0ePHu0vmz59\nulm4cKExxpiysjIzZswY4/V6XYkzXk2ZMsUsX77cGGPM8uXLzZQpU1yOKL7V1NSYbdu2+befeuop\n87Of/cx4PB6Tl5dnysrKjDHGLFy40EyfPt2tMOPavn37zD333GNuu+02c+DAAeYuAk888YSZPXu2\n/z526tQpYwzXsRNer9fcfPPN5sCBA8YYYz788EMzZMgQ4/F4mD8LZWVlpry83H+d+oSaK+axORK7\nGKiurjYDBgwwHo/HGGPMkCFDTFVVlb983LhxZu/evW6FF3dOnz5tcnNzzcWLF40xxly8eNHk5uY2\nmzOEtnr1anP33XebvXv3mnHjxvn3V1VVmSFDhrgYWXxqbGw0EydONMePH/e/YDB3ztTV1Znc3FxT\nV1fXbD/XsTNer9cMHTrU7Ny50xhjzI4dO8zYsWOZvzACE7tQc8U8XirV7SeGiWDJkiUaOXKkkpOT\nVVNTI2OMsrKy/OU5OTk6ceKEBg0a5GKU8aOiokJdu3ZVSkqKJCklJUVdunRRRUVFs3mDNa/Xq5de\nekmjRo1SRUWFunfv7i/LysqS1+tVbW2tMjIyXIwyvsyfP19FRUXq2bOnfx9z58zx48eVkZGhBQsW\naPv27ercubMeeOABderUievYgaSkJD3zzDO6//77lZ6ervr6er344ovcByMQaq6MMcxjEBI7GxMm\nTFB5ebll2dtvv+1fRKtWrdLKlSu1ZMmS1gwP7dgTTzyh9PR0TZ48WWvXrnU7nLi3e/du7du3Tw89\n9JDbobRJHo9Hx48fV//+/fXII49o7969mjZtmubPn+92aG3CxYsX9cILL+i5555Tbm6udu3apQcf\nfFBz5851OzQkKBI7G6+99lrYOmvXrtXTTz+txYsX6+qrr5YkZWZmSpKqq6v9/1uoqKhQt27dLl+w\nbUxOTo5Onjwpj8ejlJQUeTweVVZWKicnx+3Q4t6cOXN07NgxPf/880pOTlZOTk6z/4BUV1crOTmZ\nJ04BysrKdOjQIY0ePVqSdOLECd1zzz2aMmUKc+dATk6OUlNTVVhYKEkaPHiwMjMz1alTJ65jBz78\n8ENVVlYqNzdXkpSbm6srrrhCHTt2ZP4cCvWaYYxhHoPwV7FR2rhxo375y19q0aJFzd7ekaSCggIt\nXbpUkrRz5041NDRo4MCBboQZl7Kzs9WvXz+VlJRIkkpKStSvX792+9jcqXnz5mnfvn1auHCh0tLS\nJEkDBw5UQ0ODdu7cKUlaunSpCgoK3Awz7tx3333aunWrNmzYoA0bNqhbt25atGiRfvSjHzF3DmRl\nZWnYsGF66623JH32F4hVVVXq3bs317ED3bp104kTJ3T48GFJ0qFDh1RVVaVevXoxfw6Fes3g9eRS\nScYY43YQbdHw4cPVoUOHZotn8eLFyszM1KlTp/Twww+rvLxcHTt21KxZs3TTTTe5GG38OXTokKZP\nn66zZ8/qqquu0pw5c3TDDTe4HVbc+uijj1RYWKjevXurU6dOkqSePXtq4cKFevfddzVjxgw1Njaq\nR48e+tWvfuV/goxLjRo1Ss8//7z69OnD3Dl0/PhxPfroo6qtrVVqaqoefPBBjRgxguvYoRUrVui3\nv/2tkpKSJEk/+clPlJeXx/xZ+MUvfqHS0lKdPn1amZmZysjI0KpVq0LOFfPYHIkdAABAguCtWAAA\ngARBYgcAAJAgSOwAAAASBIkdAABAgiCxAwAASBAkdgAAAAmCxA4AACBBkNgBAAAkCBI7AIihjz/+\nWEOHDtUHH3wgSTp58qSGDx+u7du3uxwZgPaAxA4AYui6667TQw89pIcffljnz5/Xo48+qgkTJmjY\nsGFuhwagHeArxQDgMpg2bZo++eQTSdKrr76qtLQ0lyMC0B7wxA4ALoOJEyfq4MGDmjJlCkkdgFbD\nEzsAiLH6+nqNHz9ew4YN0+bNm7Vy5UplZGS4HRaAdoAndgAQY7Nnz9bAgQM1e/ZsjRw5UjNmzHA7\nJADtBIkdAMTQunXrtGXLFs2cOVOSNH36dO3fv18rVqxwNzAA7QJvxQIAACQIntgBAAAkCBI7AACA\nBEFiBwAAkCBI7AAAABIEiR0AAECCILEDAABIECR2AAAACYLEDgAAIEH8P1YJ5ZftLbheAAAAAElF\nTkSuQmCC\n",
                "text/plain": "<Figure size 720x576 with 1 Axes>"
              }
            ],
            "_view_module": "@jupyter-widgets/output",
            "_model_module_version": "1.0.0",
            "_view_count": null,
            "_view_module_version": "1.0.0",
            "layout": "IPY_MODEL_93faef50b30849cca2d6ebdae90695b5",
            "_model_module": "@jupyter-widgets/output"
          }
        }
      }
    }
  },
  "cells": [
    {
      "cell_type": "markdown",
      "metadata": {
        "id": "view-in-github",
        "colab_type": "text"
      },
      "source": [
        "<a href=\"https://colab.research.google.com/github/fbeilstein/machine_learning/blob/master/lecture_13_kernel_density_estimation.ipynb\" target=\"_parent\"><img src=\"https://colab.research.google.com/assets/colab-badge.svg\" alt=\"Open In Colab\"/></a>"
      ]
    },
    {
      "cell_type": "markdown",
      "metadata": {
        "id": "BJ-DUq6MoqWc",
        "colab_type": "text"
      },
      "source": [
        "#Kernel density estimation / Ядрова оцінка густини розподілу"
      ]
    },
    {
      "cell_type": "markdown",
      "metadata": {
        "id": "gZYadnN3sfQi",
        "colab_type": "text"
      },
      "source": [
        "**K**ernel **D**ensity **E**stimation (KDE) is a technique for estimation of probability distribution of the random variable.\n",
        "Before we had two instruments for that:\n",
        "* histograms to capture emphirical frequencies to approximate underlying probability distribution;\n",
        "* guessing a family of probability distributions that the data probably follows and estimating parameters (using MLE) of a most fit of these distributions.\n",
        "\n",
        "KDE is another option for us. It can be seen as an extention of the histogram technique."
      ]
    },
    {
      "cell_type": "markdown",
      "metadata": {
        "id": "g2i9dmgzT0jN",
        "colab_type": "text"
      },
      "source": [
        "#Motivating KDE: Histograms"
      ]
    },
    {
      "cell_type": "markdown",
      "metadata": {
        "id": "3lzFBpANoxck",
        "colab_type": "text"
      },
      "source": [
        "Although histograms are useful and widely used it's also true that\n",
        "\n",
        "$$\n",
        "\\text{Histograms are trickier than they seem.}\n",
        "$$\n",
        "\n",
        "The bins sizes and location could be chosen in many ways. This can drastically change the overall shape of the histogram."
      ]
    },
    {
      "cell_type": "code",
      "metadata": {
        "id": "FgTGp-GsT13k",
        "colab_type": "code",
        "outputId": "064a4be7-a2d8-40e7-bd4c-622fb936501c",
        "colab": {
          "base_uri": "https://localhost:8080/",
          "height": 274
        }
      },
      "source": [
        "%matplotlib inline\n",
        "import matplotlib.pyplot as plt\n",
        "import seaborn as sns; sns.set()\n",
        "import numpy as np\n",
        "\n",
        "def make_data(N, f=0.3, rseed=1):\n",
        "  rand = np.random.RandomState(rseed)\n",
        "  x = rand.randn(N)\n",
        "  x[int(f * N):] += 5\n",
        "  return x\n",
        "\n",
        "x = make_data(1000)\n",
        "hist = plt.hist(x, bins=30, density=True)"
      ],
      "execution_count": 0,
      "outputs": [
        {
          "output_type": "display_data",
          "data": {
            "image/png": "[encoded data removed]",
            "text/plain": [
              "<Figure size 432x288 with 1 Axes>"
            ]
          },
          "metadata": {
            "tags": []
          }
        }
      ]
    },
    {
      "cell_type": "code",
      "metadata": {
        "id": "wybFbOtjtMuS",
        "colab_type": "code",
        "outputId": "6fd9e0e2-0aeb-4716-8240-7c80a2060a7e",
        "colab": {
          "base_uri": "https://localhost:8080/",
          "height": 34
        }
      },
      "source": [
        "# histogram is normed = area equa to 1\n",
        "density, bins, patches = hist\n",
        "widths = bins[1:] - bins[:-1]\n",
        "(density * widths).sum()"
      ],
      "execution_count": 0,
      "outputs": [
        {
          "output_type": "execute_result",
          "data": {
            "text/plain": [
              "1.0"
            ]
          },
          "metadata": {
            "tags": []
          },
          "execution_count": 6
        }
      ]
    },
    {
      "cell_type": "markdown",
      "metadata": {
        "id": "bLtxb-45122v",
        "colab_type": "text"
      },
      "source": [
        "The issue is that depending on the bins the histograms may have different *qualitive* features. Consider this."
      ]
    },
    {
      "cell_type": "code",
      "metadata": {
        "id": "BgtT92WP1Y26",
        "colab_type": "code",
        "outputId": "3581bdbe-4723-4cbb-ffde-cc94afae90c9",
        "colab": {
          "base_uri": "https://localhost:8080/",
          "height": 274
        }
      },
      "source": [
        "x = make_data(20)\n",
        "bins = np.linspace(-5, 10, 10)\n",
        "fig, ax = plt.subplots(1, 2, figsize=(12, 4), sharex=True, sharey=True, subplot_kw={'xlim':(-4, 9), 'ylim':(-0.02, 0.3)})\n",
        "fig.subplots_adjust(wspace=0.05)\n",
        "for i, offset in enumerate([0.0, 0.6]):\n",
        "  ax[i].hist(x, bins=bins + offset, density=True)\n",
        "  ax[i].plot(x, np.full_like(x, -0.01), '|k', markeredgewidth=1)\n",
        "  \n"
      ],
      "execution_count": 0,
      "outputs": [
        {
          "output_type": "display_data",
          "data": {
            "image/png": "[encoded data removed]",
            "text/plain": [
              "<Figure size 864x288 with 2 Axes>"
            ]
          },
          "metadata": {
            "tags": []
          }
        }
      ]
    },
    {
      "cell_type": "markdown",
      "metadata": {
        "id": "aAoW_Glkphhh",
        "colab_type": "text"
      },
      "source": [
        "So it the underlying distribution bimodal or unimodal?\n",
        "\n",
        "---\n",
        "\n",
        "**Sidenote** \n",
        "\n",
        "---\n",
        "\n",
        "On the above picture we have used **a rug plot** -- a plot of data for a single quantitative variable, displayed as marks along an axis. As such it is analogous to a histogram with zero-width bins, or a one-dimensional scatter plot.\n",
        "Rug plots are often used in combination with two-dimensional scatter plots by placing a rug plot of the x values of the data along the x-axis, and similarly for the y values. This is the origin of the term \"rug plot\", as these rug plots with perpendicular markers look like tassels along the edges of the rectangular \"rug\" of the scatter plot.\n",
        "\n",
        "---\n",
        "\n",
        "We can try to solve the problem with the ambiguity of the bin choice by the following idea.\n",
        "You can rethink histogram as square blocks stacked on each other. Each block represents one point of data. If several datapoints are contained within one bin their blocks are placed one at the top of the other."
      ]
    },
    {
      "cell_type": "code",
      "metadata": {
        "id": "nlOSSBRl155E",
        "colab_type": "code",
        "outputId": "a2ffb0d3-9471-4d68-ca35-41e4c912160a",
        "colab": {
          "base_uri": "https://localhost:8080/",
          "height": 274
        }
      },
      "source": [
        "fig, ax = plt.subplots()\n",
        "bins = np.arange(-3, 8)\n",
        "ax.plot(x, np.full_like(x, -0.1), '|k', markeredgewidth=1)\n",
        "for count, edge in zip(*np.histogram(x, bins)):\n",
        "  for i in range(count):\n",
        "    ax.add_patch(plt.Rectangle((edge, i), 1, 1, alpha=0.5))\n",
        "    ax.set_xlim(-4, 8)\n",
        "    ax.set_ylim(-0.2, 8)"
      ],
      "execution_count": 0,
      "outputs": [
        {
          "output_type": "display_data",
          "data": {
            "image/png": "[encoded data removed]",
            "text/plain": [
              "<Figure size 432x288 with 1 Axes>"
            ]
          },
          "metadata": {
            "tags": []
          }
        }
      ]
    },
    {
      "cell_type": "markdown",
      "metadata": {
        "id": "yn5kCMDVpuIa",
        "colab_type": "text"
      },
      "source": [
        "But what if we placed each block so its center is just below the point it represents."
      ]
    },
    {
      "cell_type": "code",
      "metadata": {
        "id": "PmaIt2FW2XD9",
        "colab_type": "code",
        "outputId": "29fca3e3-6bf5-400f-9cf8-db443c4db1a6",
        "colab": {
          "base_uri": "https://localhost:8080/",
          "height": 274
        }
      },
      "source": [
        "x_d = np.linspace(-4, 8, 2000)\n",
        "density = sum((abs(xi - x_d) < 0.5) for xi in x)\n",
        "plt.fill_between(x_d, density, alpha=0.5)\n",
        "plt.plot(x, np.full_like(x, -0.1), '|k', markeredgewidth=1)\n",
        "plt.axis([-4, 8, -0.2, 8]);"
      ],
      "execution_count": 0,
      "outputs": [
        {
          "output_type": "display_data",
          "data": {
            "image/png": "[encoded data removed]",
            "text/plain": [
              "<Figure size 432x288 with 1 Axes>"
            ]
          },
          "metadata": {
            "tags": []
          }
        }
      ]
    },
    {
      "cell_type": "markdown",
      "metadata": {
        "id": "C7LI-9YHtiZZ",
        "colab_type": "text"
      },
      "source": [
        "Analytically this can be seen as if we have placed a \"square\" function (kernel) centered at each point and then we have summed all the functions up.\n",
        "\n",
        "![](https://raw.githubusercontent.com/fbeilstein/machine_learning/master/lecture_13/tophat.png) \n",
        "\n",
        "<br>\n",
        "\n",
        "This type of kernel is called top hat as it recalls a flat-crowned hat (aka cylinder - another term that is both a hat and a math object). The length of the kernel function has not have to be equal to the height.\n",
        "\n",
        "<br>\n",
        "\n",
        "![](https://raw.githubusercontent.com/fbeilstein/machine_learning/master/lecture_13/hat.png) \n",
        "\n",
        "<br>\n",
        "\n",
        "Now to make things not so \"right angled\" we can sum up smooth functions (for example Gaussians) instead of rectangular shapes (top hats)."
      ]
    },
    {
      "cell_type": "code",
      "metadata": {
        "id": "0NuMPFTb2k4v",
        "colab_type": "code",
        "outputId": "dfbb187a-ee23-46d8-a381-e456b9b2d09e",
        "colab": {
          "base_uri": "https://localhost:8080/",
          "height": 274
        }
      },
      "source": [
        "from scipy.stats import norm\n",
        "\n",
        "x_d = np.linspace(-4, 8, 1000)\n",
        "density = sum(norm(xi).pdf(x_d) for xi in x)\n",
        "plt.fill_between(x_d, density, alpha=0.5)\n",
        "plt.plot(x, np.full_like(x, -0.1), '|k', markeredgewidth=1)\n",
        "plt.axis([-4, 8, -0.2, 5]);\n",
        "\n",
        "# a Gaussian kernel"
      ],
      "execution_count": 0,
      "outputs": [
        {
          "output_type": "display_data",
          "data": {
            "image/png": "[encoded data removed]",
            "text/plain": [
              "<Figure size 432x288 with 1 Axes>"
            ]
          },
          "metadata": {
            "tags": []
          }
        }
      ]
    },
    {
      "cell_type": "markdown",
      "metadata": {
        "id": "UKtTyenQ21oM",
        "colab_type": "text"
      },
      "source": [
        "#Kernel Density Estimation "
      ]
    },
    {
      "cell_type": "markdown",
      "metadata": {
        "id": "spIbstS6H-qt",
        "colab_type": "text"
      },
      "source": [
        "In order to do KDE we need to make our mind about two things:\n",
        "  * kernel, which specifies the shape of the distribution placed at each point\n",
        "  * kernel bandwidth, which controls the size of the kernel at each point\n"
      ]
    },
    {
      "cell_type": "markdown",
      "metadata": {
        "id": "mmMie2p4_Nr0",
        "colab_type": "text"
      },
      "source": [
        "##Choosing kernel"
      ]
    },
    {
      "cell_type": "markdown",
      "metadata": {
        "id": "RU6-AjKD_S15",
        "colab_type": "text"
      },
      "source": [
        "On every data point $x_i$ we place a *kernel* function $K$. The kernel density estimate is then\n",
        "\n",
        "$$\n",
        "\\hat{f}_h(x)=\\frac{1}{Nh}\\sum_{i=1}^N K\\left(\\frac{x-x_i}{h}\\right),\n",
        "$$\n",
        "\n",
        "where $h$ is the scaling parameter caled *bandwidth*.\n",
        "\n",
        "In fact we can subtitute equal factors of $1/N$ with weights that can emphasize one points against the others:\n",
        "\n",
        "$$\n",
        "\\begin{aligned}\n",
        "& \\hat{f}_h(x)=\\frac{1}{h}\\sum_{i=1}^N w_i \\cdot K\\left(\\frac{x-x_i}{h}\\right), \\\\\n",
        "&\\sum_{i=1}^N w_i=1.\n",
        "\\end{aligned}\n",
        "$$\n",
        "\n",
        "The kernel function is typically\n",
        "* non-negative: $K(x) \\geq 0$;\n",
        "* symmetric: $\\,\\,\\,\\,\\, K(x)=K(-x)$;\n",
        "* decreasing: $\\,\\,\\,\\, K'(x)\\leq 0$;\n",
        "* $\\int K(x)dx=1$.\n",
        "\n",
        "$K$ has either compact support or decrease sufficiently fast approaching infinity.\n",
        "\n",
        "In the multivariate case (with $d$ dimensions) we have\n",
        "\n",
        "$$\n",
        "\\hat{f}_h(x)=\\frac{1}{Nh^d}\\sum_{i=1}^N K\\left(\\frac{\\|x-x_i\\|}{h}\\right),\n",
        "$$\n",
        "\n",
        "where $\\|\\cdot \\|$ is a some kind of norm, for example $p$-norm\n",
        "\n",
        "$$ \n",
        "\\|x\\|_p = \\left(\\sum_i |x_i|^p \\right)^{1/p}\n",
        "$$\n",
        "\n",
        "Although it's fun to see how the choise of kernel and metric affects the outcome,  it doesn't matter so much when there are lots of points.\n",
        "\n",
        "Nonetheless, what are our options when choosing the kernels?"
      ]
    },
    {
      "cell_type": "code",
      "metadata": {
        "id": "4R5k0DYyy0nl",
        "colab_type": "code",
        "outputId": "78b81d40-54ec-467f-99d1-f84042c624e6",
        "cellView": "form",
        "colab": {
          "base_uri": "https://localhost:8080/",
          "height": 393
        }
      },
      "source": [
        "#@title Available kernels\n",
        "\n",
        "import numpy as np\n",
        "import matplotlib\n",
        "import matplotlib.pyplot as plt\n",
        "from distutils.version import LooseVersion\n",
        "from scipy.stats import norm\n",
        "from sklearn.neighbors import KernelDensity\n",
        "\n",
        "\n",
        "X_plot = np.linspace(-6, 6, 1000)[:, None]\n",
        "X_src = np.zeros((1, 1))\n",
        "\n",
        "fig, ax = plt.subplots(2, 3, sharex=True, sharey=True, figsize=(10, 6))\n",
        "fig.subplots_adjust(left=0.05, right=0.95, hspace=0.05, wspace=0.05)\n",
        "\n",
        "\n",
        "def format_func(x, loc):\n",
        "    if x == 0:\n",
        "        return '0'\n",
        "    elif x == 1:\n",
        "        return 'h'\n",
        "    elif x == -1:\n",
        "        return '-h'\n",
        "    else:\n",
        "        return '%ih' % x\n",
        "\n",
        "for i, kernel in enumerate(['gaussian', 'tophat', 'epanechnikov',\n",
        "                            'exponential', 'linear', 'cosine']):\n",
        "    axi = ax.ravel()[i]\n",
        "    log_dens = KernelDensity(kernel=kernel).fit(X_src).score_samples(X_plot)\n",
        "    axi.fill(X_plot[:, 0], np.exp(log_dens), '-k', fc='#AAAAFF')\n",
        "    axi.text(-2.6, 0.95, kernel)\n",
        "\n",
        "    axi.xaxis.set_major_formatter(plt.FuncFormatter(format_func))\n",
        "    axi.xaxis.set_major_locator(plt.MultipleLocator(1))\n",
        "    axi.yaxis.set_major_locator(plt.NullLocator())\n",
        "\n",
        "    axi.set_ylim(0, 1.05)\n",
        "    axi.set_xlim(-2.9, 2.9)\n",
        "\n",
        "ax[0, 1].set_title('Available Kernels');\n"
      ],
      "execution_count": 0,
      "outputs": [
        {
          "output_type": "display_data",
          "data": {
            "image/png": "[encoded data removed]",
            "text/plain": [
              "<Figure size 720x432 with 6 Axes>"
            ]
          },
          "metadata": {
            "tags": []
          }
        }
      ]
    },
    {
      "cell_type": "markdown",
      "metadata": {
        "id": "VVGzEnOy8qkx",
        "colab_type": "text"
      },
      "source": [
        "$$\n",
        "\\begin{aligned}\n",
        "& K_{\\text{Gaussian}}(x;h) && \\propto \\quad e^{-\\frac{x^2}{2h^2}}; \\\\\n",
        "& K_{\\text{Tophat}}(x;h) && \\propto \\quad 1, &&& \\text{if   } \\quad x<h; \\\\\n",
        "& K_{\\text{Epanechnikov}}(x;h) && \\propto \\quad 1-\\frac{x^2}{h^2}; \\\\\n",
        "& K_{\\text{Exponential}}(x;h) && \\propto \\quad e^{-\\frac{x}{h}}; \\\\\n",
        "& K_{\\text{Linear}}(x;h) && \\propto \\quad 1-\\frac{|x|}{h}, &&& \\text{if   } \\quad |x|<h; \\\\\n",
        "& K_{\\text{Cosine}}(x;h) && \\propto \\quad \\cos{\\frac{\\pi x}{2 h}}, &&& \\text{if   } \\quad x<h. \\\\\n",
        "\\end{aligned}\n",
        "$$\n",
        "\n",
        "you can choose those by setting `kernel` parameter:\n",
        "* `kernel = 'gaussian';`\n",
        "* `kernel = 'tophat';`\n",
        "* `kernel = 'epanechnikov';`\n",
        "* `kernel = 'exponential';`\n",
        "* `kernel = 'linear';`\n",
        "* `kernel = 'cosine'.`"
      ]
    },
    {
      "cell_type": "markdown",
      "metadata": {
        "id": "UkuES-PX_H28",
        "colab_type": "text"
      },
      "source": [
        "##Choosing bandwidth"
      ]
    },
    {
      "cell_type": "markdown",
      "metadata": {
        "id": "EWh6vAx9_l39",
        "colab_type": "text"
      },
      "source": [
        "The choice of bandwidth within KDE is extremely important (the bias–variance trade-off).\n",
        "\n",
        "   *  too narrow a bandwidth leads to a high-variance estimate (i.e., overfitting)\n",
        "   * too wide a bandwidth leads to a high-bias estimate (i.e., underfitting)\n",
        "\n",
        "<br>\n",
        "\n",
        "   ![](https://raw.githubusercontent.com/fbeilstein/machine_learning/master/lecture_13/band.png) "
      ]
    },
    {
      "cell_type": "markdown",
      "metadata": {
        "id": "am_w-S6sMY4X",
        "colab_type": "text"
      },
      "source": [
        "###Theoretical considerations"
      ]
    },
    {
      "cell_type": "markdown",
      "metadata": {
        "id": "SXcsA8-Wt3y9",
        "colab_type": "text"
      },
      "source": [
        "The most common optimality criterion used to select this parameter is the expected $L_2$ risk function, also termed the **mean integrated squared error**:\n",
        "\n",
        "$$\\text{MISE}(h)=\\mathbb{E}\\left[\\int \\left(\\hat{f}_h(x)-f(x)\\right)^2 dx \\right].$$\n",
        "\n",
        "Under weak assumptions on $f$ and $K$\n",
        "\n",
        "$$\n",
        "\\text{MISE}(h)=\\text{AMISE}(h)+o\\left(\\frac{1}{Nh}+h^4\\right).\n",
        "$$\n",
        "\n",
        "The $\\text{AMISE}$ is the **A**symptotic **MISE** which consists of the two leading terms\n",
        "\n",
        "$$\n",
        "\\text{AMISE}(h)=\\frac{R(K)}{Nh}+\\frac{1}{4}m_2(K)^2h^4R(f''),\n",
        "$$\n",
        "\n",
        "where $R(g)=\\int g(x)^2 dx$ and $m_2(K)=\\int x^2 K(x) dx$. Thus\n",
        "* $R(g)$ is the functional $L_2$-norm;\n",
        "* $m_2(K)=\\mathbb{E}_K[x^2]$ is the so-called $2$-nd non-central moment of the kernel.\n",
        "\n",
        "The minimum of this $\\text{AMISE}$ is the solution to this differential equation\n",
        "\n",
        "$$\n",
        "\\begin{aligned}\n",
        "& \\frac{\\partial}{\\partial h}\\text{AMISE}(h) =-\\frac{R(K)}{N h^2}+m_2(K)^2h^3R(f'')=0 \\color{red}{\\Rightarrow} \\\\\n",
        "& \\color{red}{\\Rightarrow} \\qquad h_{\\text{AMISE}} =\\frac{R(K)^{1/5}}{m_2(K)^{2/5} R(f'')^{1/5}N^{1/5}}.\n",
        "\\end{aligned}\n",
        "$$\n",
        "\n",
        "Neither the $\\text{AMISE}$ nor the $h_\\text{AMISE}$ formulas are able to be used directly since they involve the unknown density function $f$ or its second derivative $f''$, so a variety of automatic, data-based methods have been developed for selecting the bandwidth."
      ]
    },
    {
      "cell_type": "markdown",
      "metadata": {
        "id": "ikXJjC-IJR7B",
        "colab_type": "text"
      },
      "source": [
        "###Silverman's Rule of Thumb"
      ]
    },
    {
      "cell_type": "markdown",
      "metadata": {
        "id": "F9e1Z4OmJT0W",
        "colab_type": "text"
      },
      "source": [
        "If the data is unimodal and close to normal, silverman’s rule of thumb may be used. It’s computationally very fast, but derived by assuming that the true density is normal. This is somewhat paradoxal, since if we knew that the data was truly normal it would render a kernel density estimator unnecessary.\n",
        "\n",
        "$$\n",
        "h=\\left(\\frac{4}{3}\\frac{\\hat{\\sigma}^5}{N}\\right)^{\\frac{1}{5}}.\n",
        "$$"
      ]
    },
    {
      "cell_type": "markdown",
      "metadata": {
        "id": "501YP8v3J1bf",
        "colab_type": "text"
      },
      "source": [
        "###Improved Sheather-Jones (ISJ) algorithm "
      ]
    },
    {
      "cell_type": "markdown",
      "metadata": {
        "id": "8BSBQb_hJ4oZ",
        "colab_type": "text"
      },
      "source": [
        "If much data is available and the data is far from normal or multimodal, the **I**mproved **S**heather **J**ones (ISJ) algorithm may be used. The Improved Sheather-Jones algorithm is a plug-in selector. \n",
        "\n",
        "The ISJ algorithm attempts to find h to minimize the asymptotic mean integrated square error ($\\text{AMISE}$), which depends on the unknown quantity $\\|f''(x)\\|^2$. Using a recursive formula, this is accomplished by computing a sequence of estimates."
      ]
    },
    {
      "cell_type": "markdown",
      "metadata": {
        "id": "q8stjXouIyTz",
        "colab_type": "text"
      },
      "source": [
        "###Selecting the bandwidth via cross-validation"
      ]
    },
    {
      "cell_type": "code",
      "metadata": {
        "id": "P_6K4w_3Izgz",
        "colab_type": "code",
        "outputId": "f9e39b77-e5b2-4eca-9800-879c83423287",
        "colab": {
          "base_uri": "https://localhost:8080/",
          "height": 34
        }
      },
      "source": [
        "from sklearn.model_selection import learning_curve, GridSearchCV\n",
        "from sklearn.model_selection import LeaveOneOut #train_test_split\n",
        "\n",
        "bandwidths = 10 ** np.linspace(-1, 1, 100)\n",
        "loo = LeaveOneOut()\n",
        "grid = GridSearchCV(KernelDensity(kernel='gaussian'), {'bandwidth': bandwidths}, cv=loo)\n",
        "grid.fit(x[:, None]);\n",
        "grid.best_params_"
      ],
      "execution_count": 0,
      "outputs": [
        {
          "output_type": "execute_result",
          "data": {
            "text/plain": [
              "{'bandwidth': 1.1233240329780276}"
            ]
          },
          "metadata": {
            "tags": []
          },
          "execution_count": 20
        }
      ]
    },
    {
      "cell_type": "markdown",
      "metadata": {
        "id": "JGrdMpBf_vRg",
        "colab_type": "text"
      },
      "source": [
        "#Interactive 1D example (kernel and bandwidth)"
      ]
    },
    {
      "cell_type": "code",
      "metadata": {
        "id": "YkXbzJ0IIPu8",
        "colab_type": "code",
        "outputId": "cd6f2d06-51fd-4d9a-c4af-9bbf75202df4",
        "cellView": "form",
        "colab": {
          "resources": {
            "http://localhost:8080/nbextensions/google.colab/tabbar.css": {
              "data": "Lmdvb2ctdGFie3Bvc2l0aW9uOnJlbGF0aXZlO3BhZGRpbmc6NHB4IDhweDtjb2xvcjojMDBjO3RleHQtZGVjb3JhdGlvbjp1bmRlcmxpbmU7Y3Vyc29yOmRlZmF1bHR9Lmdvb2ctdGFiLWJhci10b3AgLmdvb2ctdGFie21hcmdpbjoxcHggNHB4IDAgMDtib3JkZXItYm90dG9tOjA7ZmxvYXQ6bGVmdH0uZ29vZy10YWItYmFyLXRvcDphZnRlciwuZ29vZy10YWItYmFyLWJvdHRvbTphZnRlcntjb250ZW50OiIgIjtkaXNwbGF5OmJsb2NrO2hlaWdodDowO2NsZWFyOmJvdGg7dmlzaWJpbGl0eTpoaWRkZW59Lmdvb2ctdGFiLWJhci1ib3R0b20gLmdvb2ctdGFie21hcmdpbjowIDRweCAxcHggMDtib3JkZXItdG9wOjA7ZmxvYXQ6bGVmdH0uZ29vZy10YWItYmFyLXN0YXJ0IC5nb29nLXRhYnttYXJnaW46MCAwIDRweCAxcHg7Ym9yZGVyLXJpZ2h0OjB9Lmdvb2ctdGFiLWJhci1lbmQgLmdvb2ctdGFie21hcmdpbjowIDFweCA0cHggMDtib3JkZXItbGVmdDowfS5nb29nLXRhYi1ob3ZlcntiYWNrZ3JvdW5kOiNlZWV9Lmdvb2ctdGFiLWRpc2FibGVke2NvbG9yOiM2NjZ9Lmdvb2ctdGFiLXNlbGVjdGVke2NvbG9yOiMwMDA7YmFja2dyb3VuZDojZmZmO3RleHQtZGVjb3JhdGlvbjpub25lO2ZvbnQtd2VpZ2h0OmJvbGQ7Ym9yZGVyOjFweCBzb2xpZCAjNmI5MGRhfS5nb29nLXRhYi1iYXItdG9we3BhZGRpbmctdG9wOjVweCFpbXBvcnRhbnQ7cGFkZGluZy1sZWZ0OjVweCFpbXBvcnRhbnQ7Ym9yZGVyLWJvdHRvbToxcHggc29saWQgIzZiOTBkYSFpbXBvcnRhbnR9Lmdvb2ctdGFiLWJhci10b3AgLmdvb2ctdGFiLXNlbGVjdGVke3RvcDoxcHg7bWFyZ2luLXRvcDowO3BhZGRpbmctYm90dG9tOjVweH0uZ29vZy10YWItYmFyLWJvdHRvbSAuZ29vZy10YWItc2VsZWN0ZWR7dG9wOi0xcHg7bWFyZ2luLWJvdHRvbTowO3BhZGRpbmctdG9wOjVweH0uZ29vZy10YWItYmFyLXN0YXJ0IC5nb29nLXRhYi1zZWxlY3RlZHtsZWZ0OjFweDttYXJnaW4tbGVmdDowO3BhZGRpbmctcmlnaHQ6OXB4fS5nb29nLXRhYi1iYXItZW5kIC5nb29nLXRhYi1zZWxlY3RlZHtsZWZ0Oi0xcHg7bWFyZ2luLXJpZ2h0OjA7cGFkZGluZy1sZWZ0OjlweH0uZ29vZy10YWItYmFye21hcmdpbjowO2JvcmRlcjowO3BhZGRpbmc6MDtsaXN0LXN0eWxlOm5vbmU7Y3Vyc29yOmRlZmF1bHQ7b3V0bGluZTpub25lO2JhY2tncm91bmQ6I2ViZWZmOX0uZ29vZy10YWItYmFyLWNsZWFye2NsZWFyOmJvdGg7aGVpZ2h0OjA7b3ZlcmZsb3c6aGlkZGVufS5nb29nLXRhYi1iYXItc3RhcnR7ZmxvYXQ6bGVmdH0uZ29vZy10YWItYmFyLWVuZHtmbG9hdDpyaWdodH0qIGh0bWwgLmdvb2ctdGFiLWJhci1zdGFydHttYXJnaW4tcmlnaHQ6LTNweH0qIGh0bWwgLmdvb2ctdGFiLWJhci1lbmR7bWFyZ2luLWxlZnQ6LTNweH0=",
              "ok": true,
              "headers": [
                [
                  "content-type",
                  "text/css"
                ]
              ],
              "status": 200,
              "status_text": ""
            },
            "http://localhost:8080/nbextensions/google.colab/tabbar_main.min.js": {
              "data": "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",
              "ok": true,
              "headers": [
                [
                  "content-type",
                  "application/javascript"
                ]
              ],
              "status": 200,
              "status_text": ""
            }
          },
          "base_uri": "https://localhost:8080/",
          "height": 622,
          "referenced_widgets": [
            "4834e79a2937452096a556ac3f67e5fb",
            "06b2e466743a4ce6957ac5c4af6c5a1f",
            "a127ff5fc7574b04adda9ee7ee1bfdc5",
            "581bc65d5a274791868ddaa0b9537bc2",
            "c8c8bbccbb814749ae818ba186374f60",
            "f2947d00350f422b8eeabdfe1f61f1fd",
            "b256d365aef74413a4e3a497459c2fea",
            "2ac03fd4fa574db48976baae08adfc53",
            "93505e7751b747c7b1310bbf93723f72",
            "352e8f299bf448f38c360b7910707665",
            "79d998a7ad1a45b5b9d036c97e6487b9",
            "94ce5d49f7f34d3d99aea968424553b8",
            "c4630e3b75864c409cd5e6d5a58f4023",
            "85b165340b0d449c89acf3ccf46fd578",
            "bb713b9f47984d95a716ad3273865a7f",
            "742020c31f4f4220ba7d681f34c36c27",
            "9257c5738390407a95646e7d691c90a0",
            "9824cdadfd944393873536705c1975fb",
            "aad7d07b90a54ae1ba3d948218f66b38",
            "212af066ae8a4b8a8afa3e03674500f2",
            "6a522e02f2bd4cb99283d0b821cb4249",
            "996e1314bf514828b5161e2f9a6975bb",
            "e2b454621ff541f8bb3fb6c1013e7d9a",
            "4dd86b651d7745899f7ec314a6f9a13c",
            "014dc7c3f2ea4fdc8d06bf35d9e5e4e3",
            "195ba5d8c34444998b5991a60726d7a9",
            "cfa53441754a4454a82dc8491453ed5c",
            "3f9c9e9ef6674abd8eeb0874255a30e1",
            "83b25cca3bc1449c97a0f1966fde4248",
            "98fcdc68351543df9d13fc8b93451b4f",
            "5168c59925da471080767f006d886123",
            "176e33051d914094868213ffa7f99ad3",
            "cf311d8e4d2e46f482507a53d980ac2b",
            "7fea6b2d56204f75bb47ef8fa75168e9",
            "f02c4b1a5bb74dc28d85a29f28b7a2d9",
            "912530136f3b494ea70695abd547bf15",
            "292fd5c3c90c40ca87c0d6f398e964df",
            "099ed5a1d3c043f7a2a08e123f1528db",
            "b9f3fa2a0e7f4fa9a31c76e25cb7f4af",
            "0fdf4fc78665490b85757e9cb0251c7b",
            "9c0628c8157f4809a7b50ffdd35e5b5e"
          ]
        }
      },
      "source": [
        "#@title Bandwidth and kernel in KDE\n",
        "from google.colab import widgets\n",
        "import ipywidgets\n",
        "import scipy\n",
        "from sklearn.neighbors import KernelDensity\n",
        "\n",
        "\n",
        "params = []\n",
        "X = []\n",
        "\n",
        "def plot_pdf(plot_separate, k_d = None):\n",
        "  global params\n",
        "  global X\n",
        "  if not params:\n",
        "    return\n",
        "\n",
        "  pi1, pi2, pi3, mu1, sig1, mu2, sig2, mu3, sig3 = params\n",
        "  x = np.linspace(np.min(X), np.max(X), 1001)\n",
        "  fig = plt.figure(figsize=(10, 8))\n",
        "  P_sum = np.zeros(x.shape)\n",
        "  for mu, sig, c, pi, i in [[mu1, sig1, 'r', pi1, 1], [mu2, sig2, 'g', pi2, 2], [mu3, sig3, 'b', pi3, 3]]:\n",
        "    P = scipy.stats.norm.pdf(x, mu, sig)\n",
        "    P_sum += P * pi\n",
        "    if plot_separate:\n",
        "      plt.plot(x, P, c, linewidth=2.0, label=\"{}\".format(i), alpha=np.clip(pi, 0.0, 1.0))\n",
        "  \n",
        "  plt.plot(x, P_sum, 'k', linewidth=3.0, label=\"mixture\")\n",
        "  plt.plot(np.array(X), np.full_like(np.array(X), 0.0), '|k', markeredgewidth=1)\n",
        "  plt.title('True pdf / pdf estimate')\n",
        "  plt.xlabel('x')\n",
        "  plt.ylabel('pdf')\n",
        "  plt.legend()\n",
        "  #plt.show()\n",
        "\n",
        "def set_and_plot(pi, mu1, sig1, mu2, sig2, mu3, sig3):\n",
        "  pi1, pi2 = pi; pi2 -= pi1; pi3 = 1.0 - pi2 - pi1;\n",
        "  global params\n",
        "  global X\n",
        "  X = []\n",
        "  params = [pi1, pi2, pi3, mu1, sig1, mu2, sig2, mu3, sig3]\n",
        "  N = 200\n",
        "  for mu, sig, pi in [[mu1, sig1, pi1], [mu2, sig2, pi2], [mu3, sig3, pi3]]:\n",
        "    X = X + np.random.normal(mu, sig, int(N * pi)).tolist()\n",
        "  plot_pdf(True)\n",
        "\n",
        "def ker_plot(b_w, k_t):\n",
        "  kde = KernelDensity(bandwidth=b_w, kernel=k_t)\n",
        "  global X\n",
        "  kde.fit(np.array(X)[:, None])\n",
        "  x_d = np.linspace(np.min(X), np.max(X), 1001)\n",
        "  logprob = kde.score_samples(x_d[:, None])\n",
        "  plot_pdf(False)\n",
        "  plt.fill_between(x_d, np.exp(logprob), alpha=0.5, color='r')\n",
        "\n",
        "tb = widgets.TabBar(['mix distribution', 'find KDE'], location='top')\n",
        "with tb.output_to(0):\n",
        "  words = ['mu_1', 'sigma_1', 'mu_2', 'sigma_2', 'mu_3', 'sigma_3']\n",
        "  mins  = [0.0, 1.0, 0.0, 1.0, 0.0, 1.0]\n",
        "  maxes = [100.0, 10.0, 100.0, 10.0, 100.0, 10.0]\n",
        "  vals  = [10.0, 10.0, 50.0, 10.0, 90.0, 10.0]\n",
        "  sliders = [ipywidgets.FloatSlider(description=w, min=n, max=x, value=v) for w,x,n,v in zip(words, maxes, mins, vals)]\n",
        "  pi_slider = ipywidgets.FloatRangeSlider(value=[0.3, 0.6], min=0.0, max=1.0, description='pi(1,2,3)')\n",
        "  boxes = [ipywidgets.VBox([pi_slider])]\n",
        "  for slider1, slider2 in zip(sliders[::2], sliders[1::2]):\n",
        "    boxes.append(ipywidgets.VBox([slider1, slider2]))\n",
        "  out = ipywidgets.interactive_output(set_and_plot, {\n",
        "    \"pi\": pi_slider,\n",
        "    \"mu1\": sliders[0], \"sig1\": sliders[1],\n",
        "    \"mu2\": sliders[2], \"sig2\": sliders[3],\n",
        "    \"mu3\": sliders[4], \"sig3\": sliders[5]})\n",
        "  display(ipywidgets.HBox(boxes), out)\n",
        "with tb.output_to(1):\n",
        "  ker_type = ipywidgets.Dropdown(\n",
        "    options=['gaussian', 'tophat', 'epanechnikov', 'exponential','linear','cosine'],\n",
        "    value='gaussian',\n",
        "    description='Kernel:',\n",
        "    disabled=False)\n",
        "  b_w = ipywidgets.FloatSlider(description='bandwidth', min=1, max=50.0, value=10.0)\n",
        "  out = ipywidgets.interactive_output(ker_plot, {\"b_w\": b_w, \"k_t\": ker_type})\n",
        "  display(ipywidgets.HBox([ker_type, b_w]), out)"
      ],
      "execution_count": 0,
      "outputs": [
        {
          "output_type": "display_data",
          "data": {
            "text/html": [
              "<link rel=stylesheet type=text/css href='/nbextensions/google.colab/tabbar.css'></link>"
            ],
            "text/plain": [
              "<IPython.core.display.HTML object>"
            ]
          },
          "metadata": {
            "tags": [
              "outputarea_id30"
            ]
          }
        },
        {
          "output_type": "display_data",
          "data": {
            "text/html": [
              "<script src='/nbextensions/google.colab/tabbar_main.min.js'></script>"
            ],
            "text/plain": [
              "<IPython.core.display.HTML object>"
            ]
          },
          "metadata": {
            "tags": [
              "outputarea_id30"
            ]
          }
        },
        {
          "output_type": "display_data",
          "data": {
            "text/html": [
              "<div id=\"id30\"></div>"
            ],
            "text/plain": [
              "<IPython.core.display.HTML object>"
            ]
          },
          "metadata": {
            "tags": [
              "outputarea_id30"
            ]
          }
        },
        {
          "output_type": "display_data",
          "data": {
            "application/javascript": [
              "window[\"72790682-17b5-11ea-b054-0242ac1c0002\"] = colab_lib.createTabBar({\"location\": \"top\", \"elementId\": \"id30\", \"tabNames\": [\"mix distribution\", \"find KDE\"], \"initialSelection\": 0, \"contentBorder\": [\"0px\"], \"contentHeight\": [\"initial\"], \"borderColor\": [\"#a7a7a7\"]});\n",
              "//# sourceURL=js_c541220af7"
            ],
            "text/plain": [
              "<IPython.core.display.Javascript object>"
            ]
          },
          "metadata": {
            "tags": [
              "outputarea_id30"
            ]
          }
        },
        {
          "output_type": "display_data",
          "data": {
            "application/javascript": [
              "window[\"72798292-17b5-11ea-b054-0242ac1c0002\"] = window[\"id30\"].setSelectedTabIndex(0);\n",
              "//# sourceURL=js_48e0625201"
            ],
            "text/plain": [
              "<IPython.core.display.Javascript object>"
            ]
          },
          "metadata": {
            "tags": [
              "outputarea_id30"
            ]
          }
        },
        {
          "output_type": "display_data",
          "data": {
            "application/javascript": [
              "window[\"727ae830-17b5-11ea-b054-0242ac1c0002\"] = google.colab.output.getActiveOutputArea();\n",
              "//# sourceURL=js_4819a98408"
            ],
            "text/plain": [
              "<IPython.core.display.Javascript object>"
            ]
          },
          "metadata": {
            "tags": [
              "id30_content_0",
              "outputarea_id30"
            ]
          }
        },
        {
          "output_type": "display_data",
          "data": {
            "application/javascript": [
              "window[\"727b338a-17b5-11ea-b054-0242ac1c0002\"] = document.querySelector(\"#id30_content_0\");\n",
              "//# sourceURL=js_699d526b39"
            ],
            "text/plain": [
              "<IPython.core.display.Javascript object>"
            ]
          },
          "metadata": {
            "tags": [
              "id30_content_0",
              "outputarea_id30"
            ]
          }
        },
        {
          "output_type": "display_data",
          "data": {
            "application/javascript": [
              "window[\"727b921c-17b5-11ea-b054-0242ac1c0002\"] = google.colab.output.setActiveOutputArea(window[\"727b338a-17b5-11ea-b054-0242ac1c0002\"]);\n",
              "//# sourceURL=js_8716922442"
            ],
            "text/plain": [
              "<IPython.core.display.Javascript object>"
            ]
          },
          "metadata": {
            "tags": [
              "id30_content_0",
              "outputarea_id30"
            ]
          }
        },
        {
          "output_type": "display_data",
          "data": {
            "application/javascript": [
              "window[\"727bf40a-17b5-11ea-b054-0242ac1c0002\"] = window[\"id30\"].setSelectedTabIndex(0);\n",
              "//# sourceURL=js_26686516e1"
            ],
            "text/plain": [
              "<IPython.core.display.Javascript object>"
            ]
          },
          "metadata": {
            "tags": [
              "id30_content_0",
              "outputarea_id30"
            ]
          }
        },
        {
          "output_type": "display_data",
          "data": {
            "application/vnd.jupyter.widget-view+json": {
              "model_id": "4834e79a2937452096a556ac3f67e5fb",
              "version_minor": 0,
              "version_major": 2
            },
            "text/plain": [
              "HBox(children=(VBox(children=(FloatRangeSlider(value=(0.3, 0.6), description='pi(1,2,3)', max=1.0),)), VBox(ch…"
            ]
          },
          "metadata": {
            "tags": [
              "id30_content_0",
              "outputarea_id30",
              "user_output"
            ]
          }
        },
        {
          "output_type": "display_data",
          "data": {
            "application/vnd.jupyter.widget-view+json": {
              "model_id": "176e33051d914094868213ffa7f99ad3",
              "version_minor": 0,
              "version_major": 2
            },
            "text/plain": [
              "Output()"
            ]
          },
          "metadata": {
            "tags": [
              "id30_content_0",
              "outputarea_id30",
              "user_output"
            ]
          }
        },
        {
          "output_type": "display_data",
          "data": {
            "application/javascript": [
              "window[\"72dd860c-17b5-11ea-b054-0242ac1c0002\"] = google.colab.output.setActiveOutputArea(window[\"727ae830-17b5-11ea-b054-0242ac1c0002\"]);\n",
              "//# sourceURL=js_fc1cff5852"
            ],
            "text/plain": [
              "<IPython.core.display.Javascript object>"
            ]
          },
          "metadata": {
            "tags": [
              "id30_content_0",
              "outputarea_id30"
            ]
          }
        },
        {
          "output_type": "display_data",
          "data": {
            "application/javascript": [
              "window[\"72defb36-17b5-11ea-b054-0242ac1c0002\"] = google.colab.output.getActiveOutputArea();\n",
              "//# sourceURL=js_08218f5fa6"
            ],
            "text/plain": [
              "<IPython.core.display.Javascript object>"
            ]
          },
          "metadata": {
            "tags": [
              "id30_content_1",
              "outputarea_id30"
            ]
          }
        },
        {
          "output_type": "display_data",
          "data": {
            "application/javascript": [
              "window[\"72df4ba4-17b5-11ea-b054-0242ac1c0002\"] = document.querySelector(\"#id30_content_1\");\n",
              "//# sourceURL=js_93c64eb0a7"
            ],
            "text/plain": [
              "<IPython.core.display.Javascript object>"
            ]
          },
          "metadata": {
            "tags": [
              "id30_content_1",
              "outputarea_id30"
            ]
          }
        },
        {
          "output_type": "display_data",
          "data": {
            "application/javascript": [
              "window[\"72df93c0-17b5-11ea-b054-0242ac1c0002\"] = google.colab.output.setActiveOutputArea(window[\"72df4ba4-17b5-11ea-b054-0242ac1c0002\"]);\n",
              "//# sourceURL=js_278f9ff08e"
            ],
            "text/plain": [
              "<IPython.core.display.Javascript object>"
            ]
          },
          "metadata": {
            "tags": [
              "id30_content_1",
              "outputarea_id30"
            ]
          }
        },
        {
          "output_type": "display_data",
          "data": {
            "application/javascript": [
              "window[\"72dfda6a-17b5-11ea-b054-0242ac1c0002\"] = window[\"id30\"].setSelectedTabIndex(1);\n",
              "//# sourceURL=js_9102ad5ac0"
            ],
            "text/plain": [
              "<IPython.core.display.Javascript object>"
            ]
          },
          "metadata": {
            "tags": [
              "id30_content_1",
              "outputarea_id30"
            ]
          }
        },
        {
          "output_type": "display_data",
          "data": {
            "application/vnd.jupyter.widget-view+json": {
              "model_id": "cf311d8e4d2e46f482507a53d980ac2b",
              "version_minor": 0,
              "version_major": 2
            },
            "text/plain": [
              "HBox(children=(Dropdown(description='Kernel:', options=('gaussian', 'tophat', 'epanechnikov', 'exponential', '…"
            ]
          },
          "metadata": {
            "tags": [
              "id30_content_1",
              "outputarea_id30",
              "user_output"
            ]
          }
        },
        {
          "output_type": "display_data",
          "data": {
            "application/vnd.jupyter.widget-view+json": {
              "model_id": "9c0628c8157f4809a7b50ffdd35e5b5e",
              "version_minor": 0,
              "version_major": 2
            },
            "text/plain": [
              "Output()"
            ]
          },
          "metadata": {
            "tags": [
              "id30_content_1",
              "outputarea_id30",
              "user_output"
            ]
          }
        },
        {
          "output_type": "display_data",
          "data": {
            "application/javascript": [
              "window[\"7330f454-17b5-11ea-b054-0242ac1c0002\"] = google.colab.output.setActiveOutputArea(window[\"72defb36-17b5-11ea-b054-0242ac1c0002\"]);\n",
              "//# sourceURL=js_67ead83f64"
            ],
            "text/plain": [
              "<IPython.core.display.Javascript object>"
            ]
          },
          "metadata": {
            "tags": [
              "id30_content_1",
              "outputarea_id30"
            ]
          }
        }
      ]
    },
    {
      "cell_type": "markdown",
      "metadata": {
        "id": "K4ZOQYKOXFct",
        "colab_type": "text"
      },
      "source": [
        "#Interactive 2D example (sample points)"
      ]
    },
    {
      "cell_type": "code",
      "metadata": {
        "id": "C_naQsfwXL8J",
        "colab_type": "code",
        "colab": {}
      },
      "source": [
        "from sklearn.neighbors import KernelDensity\n",
        "# instantiate and fit the KDE model\n",
        "kde = KernelDensity(kernel='tophat')\n",
        "\n",
        "def fit_distribution(X, bandwidth, ker_name):\n",
        "  params = {'bandwidth': bandwidth, 'kernel': ker_name}\n",
        "  kde.set_params(**params)\n",
        "  kde.fit(X)\n",
        "\n",
        "def evaluate_distribution(X):\n",
        "  logprob = kde.score_samples(X)\n",
        "  return np.exp(logprob)"
      ],
      "execution_count": 0,
      "outputs": []
    },
    {
      "cell_type": "code",
      "metadata": {
        "id": "FekYs8I_XUXM",
        "colab_type": "code",
        "cellView": "form",
        "outputId": "72771ff8-b778-4e5f-c8d0-cc6dd55521d1",
        "colab": {
          "base_uri": "https://localhost:8080/",
          "height": 637
        }
      },
      "source": [
        "#@title Interactive 2D KDE\n",
        "import numpy as np\n",
        "import matplotlib.pyplot as plt\n",
        "from matplotlib.colors import ListedColormap\n",
        "from matplotlib import cm\n",
        "import seaborn as sns\n",
        "        \n",
        "def plot_clusters(x_, y_, z_):\n",
        "  fig = plt.figure(figsize=(10,10))\n",
        "  ax = fig.gca()\n",
        "  #ax = sns.kdeplot(X[:,0], X[:,1], cmap=\"Blues\", shade=True, shade_lowest=False)\n",
        "  sns.set()\n",
        "  ax.contourf(x_, y_, z_, alpha=0.5, cmap=\"Blues\")\n",
        "  ax.tick_params(axis=\"y\",direction=\"in\", pad=-60)\n",
        "  ax.tick_params(axis=\"x\",direction=\"in\", pad=-30)\n",
        "  ax.set_xticks(np.arange(-.75, 1, .25))\n",
        "  ax.set_yticks(np.arange(-.75, 1, .25))\n",
        "  ax.set_xlim([-1, 1])\n",
        "  ax.set_ylim([-1, 1])\n",
        "\n",
        "\n",
        "  plt.close(fig)\n",
        "\n",
        "  return fig\n",
        "\n",
        "import base64\n",
        "import io\n",
        "\n",
        "def figure_to_base64(fig):\n",
        "  buf = io.BytesIO()\n",
        "  fig.savefig(buf, format='png', bbox_inches='tight', pad_inches=0);\n",
        "  image_base64 = base64.b64encode(buf.getvalue()).decode('utf-8').replace('\\n', '')\n",
        "  buf.close()\n",
        "  return image_base64\n",
        "\n",
        "\n",
        "\n",
        "import json\n",
        "from IPython.display import display, clear_output\n",
        "\n",
        "def invoke(pts, n, ker_name):\n",
        "  data = np.array(pts).reshape((-1, 2))\n",
        "  X = data / 300.0 - 1.0\n",
        "  X[:, 1] *= -1.0\n",
        "  fit_distribution(X, float(n)/1000.0, ker_name)\n",
        "  x_ = np.linspace(-1.0, +1.0, num=300)\n",
        "  y_ = np.linspace(-1.0, +1.0, num=300)\n",
        "  xx, yy = np.meshgrid(x_, y_)\n",
        "  x_vec = np.transpose(np.vstack([xx.ravel(), yy.ravel()]))\n",
        "  G  = evaluate_distribution(x_vec).reshape((x_.shape[0],y_.shape[0]))\n",
        "  figr = plot_clusters(x_, y_, G)\n",
        "  image_base64 = figure_to_base64(figr)\n",
        "\n",
        "  return IPython.display.JSON({'image': image_base64, \n",
        "                               'g_x': x_.tolist(), 'g_y': y_.tolist(), 'g_z': G.tolist(),\n",
        "                               's_x': X[:, 0].tolist(), 's_y': X[:, 1].tolist(), 's_z': [0]*len(X)})\n",
        "\n",
        "\n",
        "import IPython\n",
        "from google.colab import output\n",
        "\n",
        "main_str = '''\n",
        "  <script src=\"https://cdn.plot.ly/plotly-latest.min.js\"></script> \n",
        "  <script type=\"application/javascript\">\n",
        "  \n",
        "    var active_pt = null;\n",
        "    var all_pts = [];\n",
        "    var classAbtn = [650, 100];\n",
        "    var classBbtn = [650, 200];\n",
        "    var ptR = 10.0;\n",
        "    var params = null;\n",
        "    var debug_txt = \"\";\n",
        "    var bg_image = new Image();\n",
        "\n",
        "    function is_close(pt1, pt2) {\n",
        "      return   (pt1[0] - pt2[0])*(pt1[0] - pt2[0])\n",
        "            +  (pt1[1] - pt2[1])*(pt1[1] - pt2[1])\n",
        "            <= ptR*ptR;\n",
        "    }\n",
        "  \n",
        "    function circ(ctx, pos) {\n",
        "      ctx.beginPath();\n",
        "      ctx.arc(pos[0], pos[1], ptR, 0.0, 2.0 * Math.PI, 0);\n",
        "      ctx.fillStyle = 'rgba(255, 128, 0, 0.5)';\n",
        "      ctx.fill();\n",
        "    }\n",
        "    \n",
        "    \n",
        "    function draw() {\n",
        "      var canvas = document.getElementById('canvas');\n",
        "      if (canvas.getContext) {\n",
        "        var ctx = canvas.getContext('2d');\n",
        "        \n",
        "        ctx.clearRect(0, 0, canvas.width, canvas.height); // cleanup before start\n",
        "        ctx.drawImage(bg_image, 0, 0, 600, 600);\n",
        "        ctx.strokeRect(0, 0, 600, 600); // field\n",
        "        \n",
        "        ctx.font = '20px serif';\n",
        "        ctx.fillStyle = 'black';\n",
        "        ctx.fillText(debug_txt, 200, 200);\n",
        "        \n",
        "        if (active_pt) {\n",
        "          circ(ctx, [active_pt[0], active_pt[1]]);\n",
        "        }\n",
        "        all_pts.forEach(function (item, index) {\n",
        "          circ(ctx, [item[0], item[1]]);\n",
        "        });\n",
        "\n",
        "      }\n",
        "    }\n",
        "    \n",
        "    var timer\n",
        "\n",
        "    function get_state() {\n",
        "      var rates = document.getElementsByName('rate');\n",
        "      for(var i = 0; i < rates.length; i++)\n",
        "        if(rates[i].checked)\n",
        "          return rates[i].value;\n",
        "      return \"none\";\n",
        "    }\n",
        "\n",
        "    \n",
        "    function mdown_handle(evt) {\n",
        "      evt.stopPropagation();\n",
        "      x = evt.offsetX;\n",
        "      y = evt.offsetY;\n",
        "      state = get_state();\n",
        "      if (state == \"add\") {\n",
        "        if (x < 600)\n",
        "            all_pts.push([x, y]);\n",
        "        return;\n",
        "      }\n",
        "\n",
        "      idx = -1;\n",
        "      all_pts.forEach(function (item, index) {\n",
        "        if (is_close([x,y], [item[0], item[1]])) {\n",
        "          idx = index;\n",
        "        }\n",
        "      });\n",
        "      if (idx <= -1)\n",
        "          return;\n",
        "      if (state == \"move\") {\n",
        "        active_pt = all_pts[idx];\n",
        "        all_pts.splice(idx, 1);\n",
        "      }\n",
        "      if (state == \"del\")\n",
        "          all_pts.splice(idx, 1);\n",
        "    }\n",
        "    \n",
        "    function mmove_handle(evt) {\n",
        "      evt.stopPropagation();\n",
        "      if (get_state() != \"move\")\n",
        "          return;\n",
        "      x = evt.offsetX;\n",
        "      y = evt.offsetY;\n",
        "      if (active_pt) {\n",
        "        active_pt[0] = x;\n",
        "        active_pt[1] = y;\n",
        "      }\n",
        "    }\n",
        "    \n",
        "    function mup_handle(evt) {\n",
        "      evt.stopPropagation();\n",
        "      x = evt.offsetX;\n",
        "      y = evt.offsetY;\n",
        "      if (x >= 600) {\n",
        "        active_pt = null;\n",
        "      }\n",
        "      if (active_pt) {\n",
        "        all_pts.push(active_pt);\n",
        "        active_pt = null;\n",
        "      }\n",
        "    }\n",
        "    \n",
        "    function clear_field() {\n",
        "      active_pt = null;\n",
        "      all_pts = [];\n",
        "    }\n",
        "\n",
        "\n",
        "   function plot_3d(g_x, g_y, g_z)\n",
        "   {\n",
        "     cell_for_plot = document.getElementById('for_plotly_plot');\n",
        "     //Plotly.deleteTraces(cell_for_plot, [0, 1]);\n",
        "     var data = [{\n",
        "           x: g_x,\n",
        "           y: g_y,\n",
        "           z: g_z,\n",
        "           type: 'surface',\n",
        "           opacity: 0.9,\n",
        "           showscale: false,\n",
        "           colorscale: \"Viridis\"\n",
        "        }];\n",
        "  \n",
        "     var layout = {\n",
        "          title: 'pdf estimate',\n",
        "          autosize: false,\n",
        "          width: 600,\n",
        "          height: 600,\n",
        "          showlegend: false,\n",
        "          scene: {\n",
        "            camera: {\n",
        "              up: {x: 0, y: 1, z: 0},\n",
        "              center: {x: 0, y: 0, z: 0},\n",
        "              eye: {x: 0.0, y: -1.0, z: 1.4}\n",
        "            }\n",
        "          }\n",
        "        };\n",
        "     Plotly.newPlot(cell_for_plot, data, layout);\n",
        "   }\n",
        "\n",
        "   function plot_scatter(s_x, s_y, s_z)\n",
        "   {\n",
        "          \n",
        "     cell_for_plot = document.getElementById('for_plotly_plot');\n",
        "     var data = [{\n",
        "           x: s_x,\n",
        "           y: s_y,\n",
        "           z: s_z,\n",
        "           type: 'scatter3d',\n",
        "           mode: 'markers',\n",
        "           marker: {\n",
        "             size: 4,\n",
        "             colorscale: \"Viridis\",\n",
        "             line: {\n",
        "               width: 2,\n",
        "               color: 'rgba(0, 0, 0, 0.5)'\n",
        "             }\n",
        "           }\n",
        "        }];\n",
        "    Plotly.plot(cell_for_plot, data, {});\n",
        "   }\n",
        "\n",
        "\n",
        "    var cur_depth = 100;\n",
        "\n",
        "    async function calculate() {\n",
        "      if (!all_pts)\n",
        "        return;\n",
        "      var merged = [].concat.apply([], all_pts);\n",
        "      var e = document.getElementById(\"select_kernel\");\n",
        "      var ker_name = e.options[e.selectedIndex].value;\n",
        "      const result = await google.colab.kernel.invokeFunction('notebook.InvSVM', [merged, cur_depth, ker_name], {});\n",
        "      params = result.data['application/json'];\n",
        "            \n",
        "      bg_image.src = 'data:image/  png;base64,' + params.image;\n",
        "      cell_for_plot = document.getElementById('for_plotly_plot');\n",
        "      \n",
        "      plot_3d(params.g_x, params.g_y, params.g_z);\n",
        "      plot_scatter(params.s_x, params.s_y, params.s_z);\n",
        "      \n",
        "    }\n",
        "\n",
        "   function h_change(x) {\n",
        "    el = document.getElementById(\"slider_val\");\n",
        "    cur_depth = x;\n",
        "    el.innerHTML = x;\n",
        "  }\n",
        "\n",
        " </script>\n",
        "\n",
        "<div id=\"everything\" style=\"height:600px;\">\n",
        "<div id=\"for_plotly_plot\" style=\"position:absolute; top:0px; left:0px; height:600px; width:600px;\">\n",
        "</div>\n",
        "<div id=\"custom_controls\" style=\"position:absolute; top:0px; left:600px;\">\n",
        "  <canvas id=\"canvas\" width=\"800\" height=\"600\" \n",
        "    onmousedown=\"mdown_handle(event)\"\n",
        "    onmousemove=\"mmove_handle(event)\"\n",
        "    onmouseup=\"mup_handle(event)\"></canvas>\n",
        "  <div style=\"position:absolute; top:275px; left:625px;\">\n",
        "   <div style=\"border-style: solid;\">\n",
        "    <input type=\"radio\" id=\"r1\" name=\"rate\" value=\"add\" checked=\"checked\"> Add Feature\n",
        "    <br>\n",
        "    <input type=\"radio\" id=\"r2\" name=\"rate\" value=\"move\"> Move Features\n",
        "    <br>\n",
        "    <input type=\"radio\" id=\"r3\" name=\"rate\" value=\"del\"> Delete Feature\n",
        "    <br>\n",
        "    <button type=\"button\" onclick=\"clear_field();\">\n",
        "      Clear\n",
        "    </button>\n",
        "   </div>\n",
        "   <br><br>Bandwidth x 1000:<br>\n",
        "    <input type=\"range\" min=\"1\" max=\"200\" value=\"100\" oninput=\"h_change(this.value)\">\n",
        "    <br><div id=\"slider_val\">100</div>\n",
        "   <br>Kernel:<br>\n",
        "   <select id=\"select_kernel\">\n",
        "       <option value=\"gaussian\">gaussian</option>\n",
        "       <option value=\"tophat\">tophat</option>\n",
        "       <option value=\"epanechnikov\">epanechnikov</option>\n",
        "       <option value=\"exponential\">exponential</option>\n",
        "       <option value=\"linear\">linear</option>\n",
        "       <option value=\"cosine\">cosine</option>\n",
        "   </select>\n",
        "   <br><br>\n",
        "    <button type=\"button\" onclick=\"calculate();\">\n",
        "      KDE\n",
        "    </button>\n",
        "  </div>\n",
        "</div>\n",
        "<div>\n",
        "  \n",
        "<script>\n",
        "function init()\n",
        "{\n",
        "  timer = setInterval(draw, 10);\n",
        "}\n",
        "\n",
        "init();\n",
        "</script>\n",
        "'''\n",
        "\n",
        "display(IPython.display.HTML(main_str))\n",
        "output.register_callback('notebook.InvSVM', invoke)"
      ],
      "execution_count": 37,
      "outputs": [
        {
          "output_type": "display_data",
          "data": {
            "text/html": [
              "\n",
              "  <script src=\"https://cdn.plot.ly/plotly-latest.min.js\"></script> \n",
              "  <script type=\"application/javascript\">\n",
              "  \n",
              "    var active_pt = null;\n",
              "    var all_pts = [];\n",
              "    var classAbtn = [650, 100];\n",
              "    var classBbtn = [650, 200];\n",
              "    var ptR = 10.0;\n",
              "    var params = null;\n",
              "    var debug_txt = \"\";\n",
              "    var bg_image = new Image();\n",
              "\n",
              "    function is_close(pt1, pt2) {\n",
              "      return   (pt1[0] - pt2[0])*(pt1[0] - pt2[0])\n",
              "            +  (pt1[1] - pt2[1])*(pt1[1] - pt2[1])\n",
              "            <= ptR*ptR;\n",
              "    }\n",
              "  \n",
              "    function circ(ctx, pos) {\n",
              "      ctx.beginPath();\n",
              "      ctx.arc(pos[0], pos[1], ptR, 0.0, 2.0 * Math.PI, 0);\n",
              "      ctx.fillStyle = 'rgba(255, 128, 0, 0.5)';\n",
              "      ctx.fill();\n",
              "    }\n",
              "    \n",
              "    \n",
              "    function draw() {\n",
              "      var canvas = document.getElementById('canvas');\n",
              "      if (canvas.getContext) {\n",
              "        var ctx = canvas.getContext('2d');\n",
              "        \n",
              "        ctx.clearRect(0, 0, canvas.width, canvas.height); // cleanup before start\n",
              "        ctx.drawImage(bg_image, 0, 0, 600, 600);\n",
              "        ctx.strokeRect(0, 0, 600, 600); // field\n",
              "        \n",
              "        ctx.font = '20px serif';\n",
              "        ctx.fillStyle = 'black';\n",
              "        ctx.fillText(debug_txt, 200, 200);\n",
              "        \n",
              "        if (active_pt) {\n",
              "          circ(ctx, [active_pt[0], active_pt[1]]);\n",
              "        }\n",
              "        all_pts.forEach(function (item, index) {\n",
              "          circ(ctx, [item[0], item[1]]);\n",
              "        });\n",
              "\n",
              "      }\n",
              "    }\n",
              "    \n",
              "    var timer\n",
              "\n",
              "    function get_state() {\n",
              "      var rates = document.getElementsByName('rate');\n",
              "      for(var i = 0; i < rates.length; i++)\n",
              "        if(rates[i].checked)\n",
              "          return rates[i].value;\n",
              "      return \"none\";\n",
              "    }\n",
              "\n",
              "    \n",
              "    function mdown_handle(evt) {\n",
              "      evt.stopPropagation();\n",
              "      x = evt.offsetX;\n",
              "      y = evt.offsetY;\n",
              "      state = get_state();\n",
              "      if (state == \"add\") {\n",
              "        if (x < 600)\n",
              "            all_pts.push([x, y]);\n",
              "        return;\n",
              "      }\n",
              "\n",
              "      idx = -1;\n",
              "      all_pts.forEach(function (item, index) {\n",
              "        if (is_close([x,y], [item[0], item[1]])) {\n",
              "          idx = index;\n",
              "        }\n",
              "      });\n",
              "      if (idx <= -1)\n",
              "          return;\n",
              "      if (state == \"move\") {\n",
              "        active_pt = all_pts[idx];\n",
              "        all_pts.splice(idx, 1);\n",
              "      }\n",
              "      if (state == \"del\")\n",
              "          all_pts.splice(idx, 1);\n",
              "    }\n",
              "    \n",
              "    function mmove_handle(evt) {\n",
              "      evt.stopPropagation();\n",
              "      if (get_state() != \"move\")\n",
              "          return;\n",
              "      x = evt.offsetX;\n",
              "      y = evt.offsetY;\n",
              "      if (active_pt) {\n",
              "        active_pt[0] = x;\n",
              "        active_pt[1] = y;\n",
              "      }\n",
              "    }\n",
              "    \n",
              "    function mup_handle(evt) {\n",
              "      evt.stopPropagation();\n",
              "      x = evt.offsetX;\n",
              "      y = evt.offsetY;\n",
              "      if (x >= 600) {\n",
              "        active_pt = null;\n",
              "      }\n",
              "      if (active_pt) {\n",
              "        all_pts.push(active_pt);\n",
              "        active_pt = null;\n",
              "      }\n",
              "    }\n",
              "    \n",
              "    function clear_field() {\n",
              "      active_pt = null;\n",
              "      all_pts = [];\n",
              "    }\n",
              "\n",
              "\n",
              "   function plot_3d(g_x, g_y, g_z)\n",
              "   {\n",
              "     cell_for_plot = document.getElementById('for_plotly_plot');\n",
              "     //Plotly.deleteTraces(cell_for_plot, [0, 1]);\n",
              "     var data = [{\n",
              "           x: g_x,\n",
              "           y: g_y,\n",
              "           z: g_z,\n",
              "           type: 'surface',\n",
              "           opacity: 0.9,\n",
              "           showscale: false,\n",
              "           colorscale: \"Viridis\"\n",
              "        }];\n",
              "  \n",
              "     var layout = {\n",
              "          title: 'pdf estimate',\n",
              "          autosize: false,\n",
              "          width: 600,\n",
              "          height: 600,\n",
              "          showlegend: false,\n",
              "          scene: {\n",
              "            camera: {\n",
              "              up: {x: 0, y: 1, z: 0},\n",
              "              center: {x: 0, y: 0, z: 0},\n",
              "              eye: {x: 0.0, y: -1.0, z: 1.4}\n",
              "            }\n",
              "          }\n",
              "        };\n",
              "     Plotly.newPlot(cell_for_plot, data, layout);\n",
              "   }\n",
              "\n",
              "   function plot_scatter(s_x, s_y, s_z)\n",
              "   {\n",
              "          \n",
              "     cell_for_plot = document.getElementById('for_plotly_plot');\n",
              "     var data = [{\n",
              "           x: s_x,\n",
              "           y: s_y,\n",
              "           z: s_z,\n",
              "           type: 'scatter3d',\n",
              "           mode: 'markers',\n",
              "           marker: {\n",
              "             size: 4,\n",
              "             colorscale: \"Viridis\",\n",
              "             line: {\n",
              "               width: 2,\n",
              "               color: 'rgba(0, 0, 0, 0.5)'\n",
              "             }\n",
              "           }\n",
              "        }];\n",
              "    Plotly.plot(cell_for_plot, data, {});\n",
              "   }\n",
              "\n",
              "\n",
              "    var cur_depth = 100;\n",
              "\n",
              "    async function calculate() {\n",
              "      if (!all_pts)\n",
              "        return;\n",
              "      var merged = [].concat.apply([], all_pts);\n",
              "      var e = document.getElementById(\"select_kernel\");\n",
              "      var ker_name = e.options[e.selectedIndex].value;\n",
              "      const result = await google.colab.kernel.invokeFunction('notebook.InvSVM', [merged, cur_depth, ker_name], {});\n",
              "      params = result.data['application/json'];\n",
              "            \n",
              "      bg_image.src = 'data:image/  png;base64,' + params.image;\n",
              "      cell_for_plot = document.getElementById('for_plotly_plot');\n",
              "      \n",
              "      plot_3d(params.g_x, params.g_y, params.g_z);\n",
              "      plot_scatter(params.s_x, params.s_y, params.s_z);\n",
              "      \n",
              "    }\n",
              "\n",
              "   function h_change(x) {\n",
              "    el = document.getElementById(\"slider_val\");\n",
              "    cur_depth = x;\n",
              "    el.innerHTML = x;\n",
              "  }\n",
              "\n",
              " </script>\n",
              "\n",
              "<div id=\"everything\" style=\"height:600px;\">\n",
              "<div id=\"for_plotly_plot\" style=\"position:absolute; top:0px; left:0px; height:600px; width:600px;\">\n",
              "</div>\n",
              "<div id=\"custom_controls\" style=\"position:absolute; top:0px; left:600px;\">\n",
              "  <canvas id=\"canvas\" width=\"800\" height=\"600\" \n",
              "    onmousedown=\"mdown_handle(event)\"\n",
              "    onmousemove=\"mmove_handle(event)\"\n",
              "    onmouseup=\"mup_handle(event)\"></canvas>\n",
              "  <div style=\"position:absolute; top:275px; left:625px;\">\n",
              "   <div style=\"border-style: solid;\">\n",
              "    <input type=\"radio\" id=\"r1\" name=\"rate\" value=\"add\" checked=\"checked\"> Add Feature\n",
              "    <br>\n",
              "    <input type=\"radio\" id=\"r2\" name=\"rate\" value=\"move\"> Move Features\n",
              "    <br>\n",
              "    <input type=\"radio\" id=\"r3\" name=\"rate\" value=\"del\"> Delete Feature\n",
              "    <br>\n",
              "    <button type=\"button\" onclick=\"clear_field();\">\n",
              "      Clear\n",
              "    </button>\n",
              "   </div>\n",
              "   <br><br>Bandwidth x 1000:<br>\n",
              "    <input type=\"range\" min=\"1\" max=\"200\" value=\"100\" oninput=\"h_change(this.value)\">\n",
              "    <br><div id=\"slider_val\">100</div>\n",
              "   <br>Kernel:<br>\n",
              "   <select id=\"select_kernel\">\n",
              "       <option value=\"gaussian\">gaussian</option>\n",
              "       <option value=\"tophat\">tophat</option>\n",
              "       <option value=\"epanechnikov\">epanechnikov</option>\n",
              "       <option value=\"exponential\">exponential</option>\n",
              "       <option value=\"linear\">linear</option>\n",
              "       <option value=\"cosine\">cosine</option>\n",
              "   </select>\n",
              "   <br><br>\n",
              "    <button type=\"button\" onclick=\"calculate();\">\n",
              "      KDE\n",
              "    </button>\n",
              "  </div>\n",
              "</div>\n",
              "<div>\n",
              "  \n",
              "<script>\n",
              "function init()\n",
              "{\n",
              "  timer = setInterval(draw, 10);\n",
              "}\n",
              "\n",
              "init();\n",
              "</script>\n"
            ],
            "text/plain": [
              "<IPython.core.display.HTML object>"
            ]
          },
          "metadata": {
            "tags": []
          }
        }
      ]
    },
    {
      "cell_type": "markdown",
      "metadata": {
        "id": "_FQr-h66b1Rc",
        "colab_type": "text"
      },
      "source": [
        "# KDE as Mixture Model"
      ]
    },
    {
      "cell_type": "markdown",
      "metadata": {
        "id": "SLNAG4SBb6l2",
        "colab_type": "text"
      },
      "source": [
        "We see that KDE reminds MM taken to the extreme: the number of components we throw into the mix equals the number of points.\n",
        "\n",
        "<br>\n",
        "\n",
        "![](https://raw.githubusercontent.com/fbeilstein/machine_learning/master/lecture_13/mix.png) \n",
        "\n",
        "<br>\n",
        "\n",
        "If the number of point is huge the \"shot noise\" from the individual points becomes negligible and the overall underlying distibution hopefully emerges."
      ]
    },
    {
      "cell_type": "markdown",
      "metadata": {
        "id": "g0l9p82WsLpQ",
        "colab_type": "text"
      },
      "source": [
        "#Gaussian blur"
      ]
    },
    {
      "cell_type": "markdown",
      "metadata": {
        "id": "NluhuiqvsOgO",
        "colab_type": "text"
      },
      "source": [
        "We have seen that histograms may be misleading. Also they are \"grainy\" as they discretize (sample) continuous data. Pdf estimate could be kept smooth by using gaussian KDE.\n",
        "\n",
        "Idea similar to gaussian KDE is involved in Gaussian smoothing of images.\n",
        "In image processing, a Gaussian blur (also known as Gaussian smoothing) is the result of blurring an image by a Gaussian function. It is a widely used effect in graphics software, typically to reduce image noise and reduce detail. A Gaussian blur effect is typically generated by convolving an image with a kernel of Gaussian values. \n",
        "\n",
        "<br>\n",
        "\n",
        "![](https://raw.githubusercontent.com/fbeilstein/machine_learning/master/lecture_13/blur.png) \n",
        "\n",
        "<br>\n",
        "\n",
        "Let's first sample image (keeping $1$ pixel out of $10$ along each dimension). What we get is an analog of a histogram. If we perform a Gaussian blur afterwards we regain some of the smootheness.\n",
        "\n",
        "<br>\n",
        "\n",
        "![](https://raw.githubusercontent.com/fbeilstein/machine_learning/master/lecture_13/lena_1.png) \n",
        "\n",
        "<br>"
      ]
    },
    {
      "cell_type": "markdown",
      "metadata": {
        "id": "Im1uI0JtK-WE",
        "colab_type": "text"
      },
      "source": [
        "#Example: KDE on a Sphere"
      ]
    },
    {
      "cell_type": "markdown",
      "metadata": {
        "id": "T9vRb2sc9XHB",
        "colab_type": "text"
      },
      "source": [
        "Perhaps the most common use of KDE is in graphically representing distributions of points. For example, in the `Seaborn visualization library` KDE is built in and automatically used to help visualize points in one and two dimensions.\n",
        "Here we will look at a slightly more sophisticated use of KDE for visualization of distributions. We will make use of some geographic data that can be loaded with `ScikitLearn`: the geographic distributions of recorded observations of two South American mammals, *Bradypus variegatus* (the brown-throated sloth) and *Microryzomys minutus* (the forest small rice rat).\n",
        "\n",
        "<br>\n",
        "\n",
        "![](https://raw.githubusercontent.com/fbeilstein/machine_learning/master/lecture_13/anim.png) \n",
        "\n"
      ]
    },
    {
      "cell_type": "code",
      "metadata": {
        "id": "-k347bdQU5zu",
        "colab_type": "code",
        "outputId": "3126c0c2-7834-4731-8005-32deece4a8fa",
        "colab": {
          "base_uri": "https://localhost:8080/",
          "height": 34
        }
      },
      "source": [
        "import numpy as np\n",
        "\n",
        "!sudo apt-get install libgeos-dev > /dev/null\n",
        "!sudo pip3 install -U git+https://github.com/matplotlib/basemap.git > /dev/null\n",
        "from sklearn.datasets import fetch_species_distributions\n",
        "data = fetch_species_distributions();\n",
        "# Get matrices/arrays of species IDs and locations\n",
        "latlon = np.vstack([data.train['dd lat'], data.train['dd long']]).T\n",
        "species = np.array([d.decode('ascii').startswith('micro') for d in data.train['species']], dtype='int')"
      ],
      "execution_count": 0,
      "outputs": [
        {
          "output_type": "stream",
          "text": [
            "  Running command git clone -q https://github.com/matplotlib/basemap.git /tmp/pip-req-build-dy6g376t\n"
          ],
          "name": "stdout"
        }
      ]
    },
    {
      "cell_type": "code",
      "metadata": {
        "id": "ht6ErJtEUd7W",
        "colab_type": "code",
        "outputId": "cacf4e45-2b21-4498-e72f-4369b0b18145",
        "colab": {
          "base_uri": "https://localhost:8080/",
          "height": 260
        }
      },
      "source": [
        "from mpl_toolkits.basemap import Basemap\n",
        "from sklearn.datasets.species_distributions import construct_grids\n",
        "xgrid, ygrid = construct_grids(data)\n",
        "\n",
        "# plot coastlines with Basemap\n",
        "m = Basemap(projection='cyl', resolution='c', llcrnrlat=ygrid.min(), urcrnrlat=ygrid.max(), llcrnrlon=xgrid.min(), urcrnrlon=xgrid.max())\n",
        "m.drawmapboundary(fill_color='#DDEEFF')\n",
        "m.fillcontinents(color='#FFEEDD')\n",
        "m.drawcoastlines(color='gray', zorder=2)\n",
        "m.drawcountries(color='gray', zorder=2)\n",
        "\n",
        "# plot locations\n",
        "m.scatter(latlon[:, 1], latlon[:, 0], zorder=3, c=species, cmap='rainbow', latlon=True);"
      ],
      "execution_count": 0,
      "outputs": [
        {
          "output_type": "display_data",
          "data": {
            "image/png": "[encoded data removed]",
            "text/plain": [
              "<Figure size 432x288 with 1 Axes>"
            ]
          },
          "metadata": {
            "tags": []
          }
        }
      ]
    },
    {
      "cell_type": "markdown",
      "metadata": {
        "id": "FtUmpFHM8iyo",
        "colab_type": "text"
      },
      "source": [
        "Unfortunately, this doesn’t give a very good idea of the density of the species, because points in the species range may overlap one another. You may not realize it by looking at this plot, but there are over $1600$ points shown here!\n",
        "Let’s use kernel density estimation to show this distribution in a more interpretable way: as a smooth indication of density on the map. Because the coordinate system here lies on a spherical surface rather than a flat plane, we will use the haversine distance metric, which will correctly represent distances on a curved surface.\n",
        "\n",
        "**Note**:\n",
        "The *haversine formula* determines the great-circle distance between two points on a sphere given their longitudes and latitudes. Important in navigation, it is a special case of a more general formula in spherical trigonometry, the law of haversines, that relates the sides and angles of spherical triangles.\n",
        "\n",
        "$$\n",
        "d=2r\\arcsin{\\sqrt{\\sin^2\\left(\\frac{\\phi_2-\\phi_1}{2}\\right)+\\cos{\\phi_1}\\cdot \\cos{\\phi_2}\\cdot \\sin^2\\left(\\frac{\\lambda_2-\\lambda_1}{2} \\right)}},\n",
        "$$\n",
        "\n",
        "where \n",
        "* $d$ is the distance between the two points along a great circle of the sphere;\n",
        "* $\\phi$ -- latitude of point;\n",
        "* $\\lambda$ -- longitude of point.\n",
        "\n",
        "The term haversine  is due to haversine $\\text{hav}$ function that was used instead of $\\sin$ in the formula.\n",
        "\n",
        "$$\n",
        "\\text{hav}(x)=\\sin^2\\left(\\frac{x}{2}\\right).\n",
        "$$\n",
        "\n",
        "So if we rewrite the formula above using haversine it will read\n",
        "\n",
        "$$\n",
        "\\text{hav}(\\Theta)=\\text{hav}(\\phi_2-\\phi_1)+\\cos{\\phi_1} \\cdot \\cos{\\phi_2} \\cdot \\text{hav}(\\lambda_2-\\lambda_1),\n",
        "$$\n",
        "\n",
        "with $\\Theta=\\frac{d}{r}$ is central angle between any two points on a sphere."
      ]
    },
    {
      "cell_type": "code",
      "metadata": {
        "id": "FmwkQlE4XwLE",
        "colab_type": "code",
        "outputId": "689c9e60-8b12-4dcc-9b03-798d4c58c39c",
        "colab": {
          "base_uri": "https://localhost:8080/",
          "height": 270
        }
      },
      "source": [
        "# Set up the data grid for the contour plot\n",
        "X, Y = np.meshgrid(xgrid[::5], ygrid[::5][::-1])\n",
        "land_reference = data.coverages[6][::5, ::5]\n",
        "land_mask = (land_reference > -9999).ravel()\n",
        "xy = np.vstack([Y.ravel(), X.ravel()]).T\n",
        "xy = np.radians(xy[land_mask])\n",
        "\n",
        "# Create two side-by-side plots\n",
        "fig, ax = plt.subplots(1, 2)\n",
        "fig.subplots_adjust(left=0.05, right=0.95, wspace=0.05)\n",
        "species_names = ['Bradypus Variegatus', 'Microryzomys Minutus']\n",
        "cmaps = ['Purples', 'Reds']\n",
        "\n",
        "for i, axi in enumerate(ax):\n",
        "  axi.set_title(species_names[i])\n",
        "\n",
        "  # plot coastlines with Basemap\n",
        "  m = Basemap(projection='cyl', llcrnrlat=Y.min(), urcrnrlat=Y.max(), llcrnrlon=X.min(), urcrnrlon=X.max(), resolution='c', ax=axi)\n",
        "  m.drawmapboundary(fill_color='#DDEEFF')\n",
        "  m.drawcoastlines()\n",
        "  m.drawcountries()\n",
        "  \n",
        "  # construct a spherical kernel density estimate of the distribution\n",
        "  kde = KernelDensity(bandwidth=0.03, metric='haversine')\n",
        "  kde.fit(np.radians(latlon[species == i]))\n",
        "\n",
        "  # evaluate only on the land: -9999 indicates ocean\n",
        "  Z = np.full(land_mask.shape[0], -9999.0)\n",
        "  Z[land_mask] = np.exp(kde.score_samples(xy))\n",
        "  Z = Z.reshape(X.shape)\n",
        "  \n",
        "  # plot contours of the density\n",
        "  levels = np.linspace(0, Z.max(), 25)\n",
        "  axi.contourf(X, Y, Z, levels=levels, cmap=cmaps[i])  "
      ],
      "execution_count": 0,
      "outputs": [
        {
          "output_type": "display_data",
          "data": {
            "image/png": "[encoded data removed]",
            "text/plain": [
              "<Figure size 432x288 with 2 Axes>"
            ]
          },
          "metadata": {
            "tags": []
          }
        }
      ]
    },
    {
      "cell_type": "markdown",
      "metadata": {
        "id": "6ZtWndy68RsU",
        "colab_type": "text"
      },
      "source": [
        "Now we have a much clearer picture of the geographical distribution of observation of two species.\n",
        "\n"
      ]
    },
    {
      "cell_type": "markdown",
      "metadata": {
        "id": "dMIOJrA8-qJm",
        "colab_type": "text"
      },
      "source": [
        "#Example: Fisher irisis"
      ]
    },
    {
      "cell_type": "markdown",
      "metadata": {
        "id": "oYoPWo8B-J-a",
        "colab_type": "text"
      },
      "source": [
        "Here is another example of nice visualization.\n",
        "\n",
        "<br>\n",
        "\n",
        "![](https://raw.githubusercontent.com/fbeilstein/machine_learning/master/lecture_13/iris.png) "
      ]
    },
    {
      "cell_type": "code",
      "metadata": {
        "id": "WjK03ydaP665",
        "colab_type": "code",
        "outputId": "64493c30-e80e-46c2-8050-c496b114f78c",
        "colab": {
          "base_uri": "https://localhost:8080/",
          "height": 519
        }
      },
      "source": [
        "import seaborn as sns\n",
        "import matplotlib.pyplot as plt\n",
        "\n",
        "sns.set(style=\"darkgrid\")\n",
        "iris = sns.load_dataset(\"iris\")\n",
        "\n",
        "setosa = iris.query(\"species == 'setosa'\")\n",
        "virginica = iris.query(\"species == 'virginica'\")\n",
        "\n",
        "f, ax = plt.subplots(figsize=(8, 8))\n",
        "ax.set_aspect(\"equal\")\n",
        "\n",
        "ax = sns.kdeplot(setosa.sepal_width, setosa.sepal_length,\n",
        "                 cmap=\"Reds\", shade=True, shade_lowest=False)\n",
        "ax = sns.kdeplot(virginica.sepal_width, virginica.sepal_length,\n",
        "                 cmap=\"Blues\", shade=True, shade_lowest=False)\n",
        "\n",
        "red = sns.color_palette(\"Reds\")[-2]\n",
        "blue = sns.color_palette(\"Blues\")[-2]\n",
        "ax.text(2.5, 8.2, \"virginica\", size=16, color=blue)\n",
        "ax.text(3.8, 4.5, \"setosa\", size=16, color=red)"
      ],
      "execution_count": 0,
      "outputs": [
        {
          "output_type": "execute_result",
          "data": {
            "text/plain": [
              "Text(3.8, 4.5, 'setosa')"
            ]
          },
          "metadata": {
            "tags": []
          },
          "execution_count": 3
        },
        {
          "output_type": "display_data",
          "data": {
            "image/png": "[encoded data removed]",
            "text/plain": [
              "<Figure size 576x576 with 1 Axes>"
            ]
          },
          "metadata": {
            "tags": []
          }
        }
      ]
    },
    {
      "cell_type": "markdown",
      "metadata": {
        "id": "7k45DaaLYONo",
        "colab_type": "text"
      },
      "source": [
        "#Example: Not-So-Naive Bayes"
      ]
    },
    {
      "cell_type": "markdown",
      "metadata": {
        "id": "BJxcMR1ofrXE",
        "colab_type": "text"
      },
      "source": [
        "For naive Bayes, the generative model is a simple axis-aligned Gaussian.\n",
        "With a density estimation algorithm like KDE, we can remove the “naive” element and perform the same classification with a more sophisticated generative model for each class.\n",
        "It’s still Bayesian classification, but it’s no longer naive."
      ]
    },
    {
      "cell_type": "markdown",
      "metadata": {
        "id": "tQKL5Dj5f6R2",
        "colab_type": "text"
      },
      "source": [
        "1. Split the training data by label.\n",
        "2. For each set, fit a KDE to obtain a generative model of the data.\n",
        "This allows you for any observation x and label y to compute a likelihood $P(x|y)$.\n",
        "3. From the number of examples of each class in the training set, compute the class prior, $P(y)$ .\n",
        "4. For an unknown point x , the posterior probability for each class is $P(y|x)= P(x|y)P(y)$. The class that maximizes this posterior is the label assigned to the point."
      ]
    },
    {
      "cell_type": "markdown",
      "metadata": {
        "id": "1cepwUXc1AWu",
        "colab_type": "text"
      },
      "source": [
        "Let’s try this custom estimator on a problem we have seen before: the classification of handwritten digits. Here we will load the digits, and compute the cross-validation score for a range of candidate bandwidths using the `GridSearchCV` meta-estimator."
      ]
    },
    {
      "cell_type": "code",
      "metadata": {
        "id": "GQ9wdpBgYQIk",
        "colab_type": "code",
        "colab": {}
      },
      "source": [
        "from sklearn.base import BaseEstimator, ClassifierMixin\n",
        "from sklearn.neighbors import KernelDensity\n",
        "\n",
        "# BaseEstimator contains the logic necessary to clone/copy an estimator for use in a crossvalidation procedure\n",
        "# ClassifierMixin defines a default score() method used by such routines\n",
        "class KDEClassifier(BaseEstimator, ClassifierMixin):\n",
        "  \"\"\"Bayesian generative classification based on KDE\n",
        "  Parameters\n",
        "  ----------\n",
        "  bandwidth : float\n",
        "  the kernel bandwidth within each class\n",
        "  kernel : str\n",
        "  the kernel name, passed to KernelDensity\n",
        "  \"\"\"\n",
        "  def __init__(self, bandwidth=1.0, kernel='gaussian'):\n",
        "    self.bandwidth = bandwidth\n",
        "    self.kernel = kernel\n",
        "  \n",
        "  # find the unique classes in the training data, \n",
        "  # train a KernelDensity model for each class, \n",
        "  # compute the class priors based on the number of input samples.\n",
        "  def fit(self, X, y):\n",
        "    self.classes_ = np.sort(np.unique(y))\n",
        "    training_sets = [X[y == yi] for yi in self.classes_]\n",
        "    self.models_ = [KernelDensity(bandwidth=self.bandwidth, kernel=self.kernel).fit(Xi) for Xi in training_sets]\n",
        "    self.logpriors_ = [np.log(Xi.shape[0] / X.shape[0]) for Xi in training_sets]\n",
        "    return self # for chaining\n",
        "  \n",
        "  # predicting labels on new data\n",
        "  def predict_proba(self, X):\n",
        "    logprobs = np.array([model.score_samples(X) for model in self.models_]).T\n",
        "    result = np.exp(logprobs + self.logpriors_)\n",
        "    return result / result.sum(1, keepdims=True)\n",
        "  \n",
        "  def predict(self, X):\n",
        "    return self.classes_[np.argmax(self.predict_proba(X), 1)]"
      ],
      "execution_count": 0,
      "outputs": []
    },
    {
      "cell_type": "markdown",
      "metadata": {
        "id": "XrghJcTc0Vr1",
        "colab_type": "text"
      },
      "source": [
        "We now use this class."
      ]
    },
    {
      "cell_type": "code",
      "metadata": {
        "id": "gsqvNFAHm1Rn",
        "colab_type": "code",
        "colab": {}
      },
      "source": [
        "from sklearn.datasets import load_digits\n",
        "from sklearn.model_selection import GridSearchCV\n",
        "\n",
        "digits = load_digits()\n",
        "bandwidths = 10 ** np.linspace(0, 2, 100)\n",
        "grid = GridSearchCV(KDEClassifier(), {'bandwidth': bandwidths}, cv=3)\n",
        "grid.fit(digits.data, digits.target)\n",
        "scores = grid.cv_results_['mean_test_score']"
      ],
      "execution_count": 0,
      "outputs": []
    },
    {
      "cell_type": "code",
      "metadata": {
        "id": "Gtbz5bE0sL4I",
        "colab_type": "code",
        "outputId": "b535c305-2b20-45b7-fa16-a3fd50664e38",
        "colab": {
          "base_uri": "https://localhost:8080/",
          "height": 341
        }
      },
      "source": [
        "plt.semilogx(bandwidths, scores)\n",
        "plt.xlabel('bandwidth')\n",
        "plt.ylabel('accuracy')\n",
        "plt.title('KDE Model Performance')\n",
        "print(grid.best_params_)\n",
        "print('accuracy =', grid.best_score_)"
      ],
      "execution_count": 0,
      "outputs": [
        {
          "output_type": "stream",
          "text": [
            "{'bandwidth': 7.054802310718643}\n",
            "accuracy = 0.9666110183639399\n"
          ],
          "name": "stdout"
        },
        {
          "output_type": "display_data",
          "data": {
            "image/png": "[encoded data removed]",
            "text/plain": [
              "<Figure size 432x288 with 1 Axes>"
            ]
          },
          "metadata": {
            "tags": []
          }
        }
      ]
    },
    {
      "cell_type": "markdown",
      "metadata": {
        "id": "9RlumF2e1K3B",
        "colab_type": "text"
      },
      "source": [
        "We see that this not-so-naive Bayesian classifier reaches a cross-validation accuracy of just over $96\\%$; this is compared to around $80\\%$ for the naive Bayesian classification:\n"
      ]
    },
    {
      "cell_type": "code",
      "metadata": {
        "id": "dHkCW0Cks2EB",
        "colab_type": "code",
        "outputId": "c92124bb-f78f-4a1f-df84-51e82c0beb1e",
        "colab": {
          "base_uri": "https://localhost:8080/",
          "height": 34
        }
      },
      "source": [
        "from sklearn.naive_bayes import GaussianNB\n",
        "from sklearn.model_selection import cross_val_score\n",
        "cross_val_score(GaussianNB(), digits.data, digits.target, cv=3).mean()"
      ],
      "execution_count": 0,
      "outputs": [
        {
          "output_type": "execute_result",
          "data": {
            "text/plain": [
              "0.8186003803550138"
            ]
          },
          "metadata": {
            "tags": []
          },
          "execution_count": 22
        }
      ]
    },
    {
      "cell_type": "markdown",
      "metadata": {
        "id": "2khCd84S1XdG",
        "colab_type": "text"
      },
      "source": [
        "One benefit of such a generative classifier is interpretability of results: for each unknown sample, we not only get a probabilistic classification, but a full model of the distribution of points we are comparing it to! If desired, this offers an intuitive window into the reasons for a particular classification that algorithms like SVMs and random forests tend to obscure.\n",
        "If you would like to take this further, there are some improvements that could be made to our KDE classifier model:\n",
        "* We could allow the bandwidth in each class to vary independently.\n",
        "*  We could optimize these bandwidths not based on their prediction score, but on the likelihood of the training data under the generative model within each class (i.e., use the scores from KernelDensity itself rather than the global prediction accuracy)."
      ]
    }
  ]
}