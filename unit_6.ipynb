{
  "nbformat": 4,
  "nbformat_minor": 0,
  "metadata": {
    "colab": {
      "name": "temp_6.ipynb",
      "version": "0.3.2",
      "provenance": [],
      "toc_visible": true
    }
  },
  "cells": [
    {
      "cell_type": "markdown",
      "metadata": {
        "id": "MlgFudd3jGGV",
        "colab_type": "text"
      },
      "source": [
        "##Modules"
      ]
    },
    {
      "cell_type": "markdown",
      "metadata": {
        "id": "HnlKYXSW0MER",
        "colab_type": "text"
      },
      "source": [
        "**Why use modules?**\n",
        "\n",
        "*     Code reuse\n",
        "*     System name-space partitioning\n",
        "*     Implementing shared services or data"
      ]
    },
    {
      "cell_type": "markdown",
      "metadata": {
        "id": "-wR5o0Ah367X",
        "colab_type": "text"
      },
      "source": [
        "**Module topics**\n",
        " \n",
        "*     The basics\n",
        "*     Import variations\n",
        "*     Reloading modules\n",
        "*     Design concepts\n",
        "*     Modules are objects\n",
        "*     Package imports\n",
        "*     Odds and ends\n",
        "*     Module gotchas"
      ]
    },
    {
      "cell_type": "markdown",
      "metadata": {
        "id": "X4fDbRY93-4n",
        "colab_type": "text"
      },
      "source": [
        "###Module basics"
      ]
    },
    {
      "cell_type": "markdown",
      "metadata": {
        "id": "h3Z7UFQq4CCX",
        "colab_type": "text"
      },
      "source": [
        "*     Creating modules: Python files, C extensions; Java classes (Jython)\n",
        "*     Using modules: import, from, reload(), 3.X: imp.reload()\n",
        "*     Module search path: $PYTHONPATH"
      ]
    },
    {
      "cell_type": "code",
      "metadata": {
        "id": "hUrUlJ0WjGGY",
        "colab_type": "code",
        "colab": {}
      },
      "source": [
        "! def printer(x): # module attribute > module1.py &&\\\n",
        "  echo \"print x\""
      ],
      "execution_count": 0,
      "outputs": []
    },
    {
      "cell_type": "markdown",
      "metadata": {
        "id": "u8AVLj3IjGGc",
        "colab_type": "text"
      },
      "source": [
        "**Module usage**"
      ]
    },
    {
      "cell_type": "code",
      "metadata": {
        "id": "4jxky0ZgjGGd",
        "colab_type": "code",
        "colab": {}
      },
      "source": [
        "\n",
        "% python\n",
        " import module1 # get module\n",
        " module1.printer('Hello world!')\n",
        "Hello world!\n",
        " \n",
        "\n",
        " from module1 import printer # get an export\n",
        " printer('Hello world!')\n",
        " \n",
        "\n",
        " from module1 import * # get all exports\n",
        " printer('Hello world!')\n",
        " \n"
      ],
      "execution_count": 0,
      "outputs": []
    },
    {
      "cell_type": "markdown",
      "metadata": {
        "id": "QBierGYXjGGg",
        "colab_type": "text"
      },
      "source": [
        "from * can obscure variables meaning"
      ]
    },
    {
      "cell_type": "code",
      "metadata": {
        "id": "EAeiQREijGGh",
        "colab_type": "code",
        "colab": {}
      },
      "source": [
        "\n",
        " from module1 import * # may overwrite my names\n",
        " from module2 import * # no way to tell what we get\n",
        " from module3 import *\n",
        " . . .\n",
        " func() # ← ?!\n",
        " \n",
        "\n",
        "# Advice: use from * with at most 1 module per file\n",
        " \n"
      ],
      "execution_count": 0,
      "outputs": []
    },
    {
      "cell_type": "markdown",
      "metadata": {
        "id": "ZvczlPgqjGGj",
        "colab_type": "text"
      },
      "source": [
        "from does not play well with reload"
      ]
    },
    {
      "cell_type": "code",
      "metadata": {
        "id": "1nHSiMsFjGGk",
        "colab_type": "code",
        "colab": {}
      },
      "source": [
        "\n",
        " from module1 import func # copy variable out\n",
        " func() # test it\n",
        " \n",
        "\n",
        "change module1.py\n",
        " \n",
        "\n",
        " from imp import reload # required in 3.X\n",
        " reload(module1) # ← FAILS: unbound name!\n",
        " \n",
        "\n",
        " import module1 # must bind name here\n",
        " reload(module1) # ok: loads new code\n",
        " func() # ← FAILS: old object!\n",
        " \n",
        "\n",
        " module1.func() # this works now\n",
        " \n",
        "\n",
        " from module1 import func # so does this\n",
        " func()\n",
        " \n",
        "\n",
        "# Advice: dont do that--run scripts other ways\n",
        " \n"
      ],
      "execution_count": 0,
      "outputs": []
    },
    {
      "cell_type": "markdown",
      "metadata": {
        "id": "ei8hTPdWjGGn",
        "colab_type": "text"
      },
      "source": [
        "###Module files are a namespace\n",
        "\n",
        " \n",
        "\n",
        "*     A single scope: local==global\n",
        "*     Module statements run on first import\n",
        "*     Top-level assignments create module attributes\n",
        "*     Module namespace: attribute __dict__, or dir()\n",
        " \n",
        "\n",
        " \n",
        "\n",
        " \n",
        "\n",
        "file: module2.py"
      ]
    },
    {
      "cell_type": "code",
      "metadata": {
        "id": "hMCCJr8qjGGo",
        "colab_type": "code",
        "colab": {}
      },
      "source": [
        "print 'starting to load'\n",
        " \n",
        "\n",
        "import sys\n",
        "name = 42\n",
        " \n",
        "\n",
        "def func(): pass\n",
        " \n",
        "\n",
        "class klass: pass\n",
        " \n",
        "\n",
        "print 'done loading.'\n",
        " \n"
      ],
      "execution_count": 0,
      "outputs": []
    },
    {
      "cell_type": "markdown",
      "metadata": {
        "id": "ILuFcwfPjGGq",
        "colab_type": "text"
      },
      "source": [
        "Usage"
      ]
    },
    {
      "cell_type": "code",
      "metadata": {
        "id": "39fNEI6CjGGq",
        "colab_type": "code",
        "colab": {}
      },
      "source": [
        " import module2\n",
        "starting to load\n",
        "done loading.\n",
        " \n",
        "\n",
        " module2.sys\n",
        "<module 'sys'>\n",
        " module2.name\n",
        "42\n",
        " module2.func, module2.klass\n",
        "(<function func at 765f20>, <class klass at 76df60>)\n",
        " \n",
        "\n",
        " module2.__dict__.keys() # add list() in 3.X\n",
        "['__file__', 'name', '__name__', 'sys', '__doc__', '__builtins__', 'klass', 'func']\n",
        "\n",
        " \n"
      ],
      "execution_count": 0,
      "outputs": []
    },
    {
      "cell_type": "markdown",
      "metadata": {
        "id": "Juhyr9ZVjGGs",
        "colab_type": "text"
      },
      "source": [
        "###Name qualification\n",
        "\n",
        " \n",
        "\n",
        "*     Simple variables\n",
        "-      X searches for name X in current scopes\n",
        "*     Qualification\n",
        "-      X.Y searches for attribute Y in object X\n",
        "*     Paths\n",
        "-      X.Y.Z gives a path of objects to be searched\n",
        "*     Generality\n",
        "-      Qualification works on all objects with attributes: modules, classes, built-in types, etc.\n",
        " \n",
        "\n",
        " \n",
        "\n",
        " \n",
        "\n",
        " \n",
        "\n",
        "\n",
        " \n",
        "\n",
        " \n",
        "\n",
        " \n",
        "\n",
        " \n",
        "\n",
        "\n",
        " \n",
        "\n",
        "###Import variants\n",
        "\n",
        " \n",
        "\n",
        " \n",
        "\n",
        "*     Module import model\n",
        "-      module loaded and run on first import or from\n",
        "-      running a modules code creates its top-level names\n",
        "-      later import/from fetches already-loaded module\n",
        " \n",
        "\n",
        " \n",
        "\n",
        "*     import and from are assignments\n",
        "-      import assigns an entire module object to a name\n",
        "-      from assigns selected module attributes to names\n",
        " \n",
        "\n",
        " \n",
        "\n",
        " \n",
        "\n",
        " \n",
        "\n",
        "Operation |\t Interpretation\n",
        "---|---\n",
        "import mod |\tfetch a module as a whole\n",
        "from mod import name |\tfetch a specific name from a module\n",
        "from mod import * |\tfetch all top-level names from a module\n",
        "imp.reload(mod) |\tforce a reload of modules code\n",
        "\n",
        " \n",
        "\n",
        " \n",
        "\n",
        " \n",
        "\n",
        " \n",
        "\n",
        "\n",
        " \n",
        "\n",
        " \n",
        "\n",
        " \n",
        "\n",
        " \n",
        "\n",
        " \n",
        "\n",
        " \n",
        "\n",
        " \n",
        "\n",
        " \n",
        "\n",
        " \n",
        "\n",
        " \n",
        "\n",
        " \n",
        "\n",
        "###Reloading modules\n",
        "\n",
        " \n",
        "\n",
        "*     Imports only load/run module code first time\n",
        "*     Later imports use already-loaded module\n",
        "*     reload function forces module code reload/rerun\n",
        "*     Allows programs to be changed without stopping\n",
        "*     3.X: must first from imp import reload to use!\n",
        " \n",
        "\n",
        " \n",
        "\n",
        "General form"
      ]
    },
    {
      "cell_type": "code",
      "metadata": {
        "id": "P6I7BUnsjGGt",
        "colab_type": "code",
        "colab": {}
      },
      "source": [
        "import module # initial import\n",
        "[use module.attributes]\n",
        " # change module file\n",
        "\n",
        "from imp import reload # required in 3.X\n",
        "reload(module) # get updated exports\n",
        "[use module.attributes]\n",
        " \n"
      ],
      "execution_count": 0,
      "outputs": []
    },
    {
      "cell_type": "markdown",
      "metadata": {
        "id": "gyceZ4b3jGGv",
        "colab_type": "text"
      },
      "source": [
        "Usage details\n",
        " \n",
        "\n",
        "*     A function, not a statement\n",
        "*     Requires a module object, not a name\n",
        "*     Changes a module object in-place:\n",
        "-      runs module files new code in current namespace\n",
        "-      assignments replace top-level names with new values\n",
        "-      impacts all clients that use import to fetch module\n",
        "-      impacts future from clients (see earlier example)"
      ]
    },
    {
      "cell_type": "code",
      "metadata": {
        "id": "Vpjfzqx-jGGw",
        "colab_type": "code",
        "colab": {}
      },
      "source": [
        "\n",
        "Reload example (optional section)"
      ],
      "execution_count": 0,
      "outputs": []
    },
    {
      "cell_type": "markdown",
      "metadata": {
        "id": "1HXxPysfjGGy",
        "colab_type": "text"
      },
      "source": [
        "*     Changes and reload file without stopping Python\n",
        "*     Other common uses: GUI callbacks, embedded code, etc."
      ]
    },
    {
      "cell_type": "code",
      "metadata": {
        "id": "5TsIyvaxjGGy",
        "colab_type": "code",
        "colab": {}
      },
      "source": [
        "% cat changer.py\n",
        "message = \"First version\"\n",
        " \n",
        "\n",
        "def printer():\n",
        "print message\n",
        " \n"
      ],
      "execution_count": 0,
      "outputs": []
    },
    {
      "cell_type": "code",
      "metadata": {
        "id": "Ohf5eyYnjGG0",
        "colab_type": "code",
        "colab": {}
      },
      "source": [
        "% python\n",
        " import changer\n",
        " changer.printer()\n",
        "First version\n",
        "``` \n",
        " \n",
        "\n",
        " \n",
        "\n",
        "[modify changer.py without stopping python]\n",
        " \n",
        "```python\n",
        "% vi changer.py\n",
        "% cat changer.py\n",
        "message = \"After editing\"\n",
        " \n",
        "\n",
        "def printer():\n",
        "print 'reloaded:', message\n",
        " \n"
      ],
      "execution_count": 0,
      "outputs": []
    },
    {
      "cell_type": "code",
      "metadata": {
        "id": "xlXtxaDRjGG2",
        "colab_type": "code",
        "colab": {}
      },
      "source": [
        "[back to the python interpreter/program]\n",
        " \n",
        "\n",
        " import changer\n",
        " changer.printer() # no effect: uses loaded module\n",
        "First version\n",
        " \n",
        "\n",
        " reload(changer) # forces new code to load/run\n",
        "<module 'changer'>\n",
        " changer.printer()\n",
        "reloaded: After editing\n",
        " \n"
      ],
      "execution_count": 0,
      "outputs": []
    },
    {
      "cell_type": "markdown",
      "metadata": {
        "id": "atuubgbojGG4",
        "colab_type": "text"
      },
      "source": [
        "###Package imports\n",
        "\n",
        "Module package imports name directory paths:\n",
        "*      Module name → dir.dir.dir in import statements and reloads\n",
        "-      import dir1.dir2.mod → loads dir1\\dir2\\mod.py\n",
        "-      from dir1.dir2.mod import name\n",
        "*      dir1 must be contained by a directory on sys.path (., PYTHONPATH, etc.)\n",
        "*      Each dir must have __init__.py file, possibly empty (till 3.3: optional)\n",
        "*      __init__.py gives directorys namespace, can use __all__ for from*\n",
        "*      Simplifies path, disambiguates same-named modules files\n",
        "\n",
        "\n",
        "Example"
      ]
    },
    {
      "cell_type": "code",
      "metadata": {
        "id": "EaKT3NCOjGG4",
        "colab_type": "code",
        "colab": {}
      },
      "source": [
        "\n",
        "For:\n",
        "dir0\\dir1\\dir2\\mod.py\n",
        "And:\n",
        "import dir1.dir2.mod\n",
        "``` \n",
        "\n",
        "-      dir0 (container) must be listed on the module search path\n",
        "-      dir1 and dir2 both must contain an __init__.py file\n",
        "-      dir0 does not require an __init__.py\n",
        " \n",
        "\n",
        "dir0\\\n",
        "dir1\\\n",
        "__init__.py\n",
        "dir2\\\n",
        "__init__.py\n",
        "mod.py\n",
        " \n",
        "\n",
        "\n",
        "\n",
        " \n",
        "\n",
        "Why packages?\n",
        " \n",
        "\n",
        "```python\n",
        "root\\\n",
        "sys1\\\n",
        "__init__.py (__init__ needed if dir in import)\n",
        "util.py\n",
        "main.py (import util finds here)\n",
        "other.py\n",
        "sys2\\\n",
        "__init__.py\n",
        "util.py\n",
        "main.py\n",
        "other.py\n",
        "sys3\\ (here or elsewhere)\n",
        "__init__.py (your new code here)\n",
        "myfile.py (import util depends on path)\n",
        "(import sys1.util doesnt)\n",
        " ```\n",
        "\n",
        " \n",
        "\n",
        " \n",
        "\n",
        "Advanced: \n",
        "Relative import syntax (2.5+)\n",
        " \n",
        "\n",
        "To enable in 2.X (standard in 3.X):\n",
        " \n",
        "\n",
        "```python\n",
        "from __future__ import absolute_import # till 2.7, from stmt only\n",
        " \n",
        "\n",
        "In code located in package folder pkg:\n",
        "```python\n",
        "\n",
        "import string # skips pkg: finds the standard library's version\n",
        " \n",
        "\n",
        "from .string import name1, name2 # import names from pkg.string only\n",
        "from . import string # import pkg.string"
      ],
      "execution_count": 0,
      "outputs": []
    },
    {
      "cell_type": "markdown",
      "metadata": {
        "id": "ZOXiBoGajGG6",
        "colab_type": "text"
      },
      "source": [
        "Advanced: \n",
        "Namespace packages (3.3+)\n",
        "\n",
        " \n",
        "\n",
        "Extension to usual import algorithm: directories without __init__.py, located anywhere on path, checked for last, and used only if no normal module or package found at level: concatenation of all found becomes a virtual package for deeper imports. Not yet used much in practice.\n",
        " \n",
        "\n",
        "\n",
        "See Learning Python 5th Edition for more advanced package details.\n",
        "\n",
        " \n",
        "\n",
        " \n",
        "\n",
        " \n",
        "\n",
        "###Odds and ends\n",
        "\n",
        "*     Python 2.0+: import module as name\n",
        "-      Like import module + name = module\n",
        "-      Also good for packages: import sys1.util as util\n",
        " \n",
        "\n",
        "*     Loading modules by name string\n",
        "-      exec(import + name)\n",
        "-      __import__(name)\n",
        " \n",
        "\n",
        "*     Modules are compiled to byte code on first import\n",
        "-      .pyc files serve as recompile dependency\n",
        "-      compilation is automatic and hidden\n",
        " \n",
        "\n",
        "*     Data hiding is a convention\n",
        "-      Exports all names defined at the top-level of a module\n",
        "-      Special case: __all__ list gives names exported by from *\n",
        "-      Special case: _X names arent imported by a from*\n",
        " \n",
        "\n",
        "*     The __name__ == __main__ trick\n",
        "-      __name__ auto set to __main__ only when run as script\n",
        "-      allows modules to be imported and/or run\n",
        "-      Simplest unit test protocol, dual usage modes for code\n",
        " \n",
        "\n",
        "file: runme.py"
      ]
    },
    {
      "cell_type": "code",
      "metadata": {
        "id": "vL82Am20jGG6",
        "colab_type": "code",
        "colab": {}
      },
      "source": [
        "\n",
        "def tester():\n",
        "print \"It's Christmas in Heaven\"\n",
        " \n",
        "\n",
        "if __name__ == '__main__': # only when run\n",
        "tester() # not when imported\n",
        " \n"
      ],
      "execution_count": 0,
      "outputs": []
    },
    {
      "cell_type": "markdown",
      "metadata": {
        "id": "Vw56YyH8jGG8",
        "colab_type": "text"
      },
      "source": [
        "Usage modes"
      ]
    },
    {
      "cell_type": "code",
      "metadata": {
        "id": "1r_aEDPkjGG8",
        "colab_type": "code",
        "colab": {}
      },
      "source": [
        "% python\n",
        " import runme\n",
        " runme.tester()\n",
        "It's Christmas in Heaven\n",
        " \n",
        "\n",
        "% python runme.py\n",
        "It's Christmas in Heaven\n",
        "\n",
        " \n"
      ],
      "execution_count": 0,
      "outputs": []
    },
    {
      "cell_type": "markdown",
      "metadata": {
        "id": "mLGmwnwljGG9",
        "colab_type": "text"
      },
      "source": [
        "###Module design concepts\n",
        "\n",
        " \n",
        "\n",
        "*     Always in a module: interactive = module __main__\n",
        "*     Minimize module coupling: global variables\n",
        "*     Maximize module cohesion: unified purpose\n",
        "*     Modules should rarely change other modules variables"
      ]
    },
    {
      "cell_type": "code",
      "metadata": {
        "id": "3olcuYTfjGG-",
        "colab_type": "code",
        "colab": {}
      },
      "source": [
        "mod.py\n",
        "X = 99 # reader sees only this\n",
        " \n",
        "\n",
        "import mod\n",
        "print mod.X ** 2 # always okay to use\n",
        " \n",
        "\n",
        "import mod\n",
        "mod.X = 88 # almost always a Bad Idea!\n",
        " \n",
        "\n",
        "import mod\n",
        "result = mod.func(88) # better: isolates coupling"
      ],
      "execution_count": 0,
      "outputs": []
    },
    {
      "cell_type": "markdown",
      "metadata": {
        "id": "N_xNxpwDjGG_",
        "colab_type": "text"
      },
      "source": [
        "###Modules are objects: metaprograms\n",
        "\n",
        " \n",
        "\n",
        "*     A module which lists namespaces of other modules\n",
        "*     Special attributes: module.__name__, __file__, __dict__\n",
        "*     getattr(object, name) fetches attributes by string name\n",
        "*     Add to $PYTHONSTARTUP to preload automatically\n",
        " \n",
        "\n",
        " \n",
        "\n",
        " \n",
        "\n",
        "File mydir.py"
      ]
    },
    {
      "cell_type": "code",
      "metadata": {
        "id": "M8BVMW4YjGHA",
        "colab_type": "code",
        "colab": {}
      },
      "source": [
        "verbose = 1\n",
        " \n",
        "\n",
        "def listing(module):\n",
        "if verbose:\n",
        "print \"-\"*30\n",
        "print (\"name: %s file: %s\" %\n",
        "(module.__name__, module.__file__))\n",
        "print \"-\"*30\n",
        " \n",
        "\n",
        "count = 0\n",
        "for attr in module.__dict__.keys(): # scan names\n",
        "print \"%02d) %s\" % (count, attr),\n",
        "if attr[0:2] == \"__\":\n",
        "print \"<built-in name>\" # skip specials\n",
        "else:\n",
        "print getattr(module, attr) #__dict__[attr]\n",
        "count = count+1\n",
        " \n",
        "\n",
        "if verbose:\n",
        "print \"-\"*30\n",
        "print module.__name__, \"has %d names\" % count\n",
        "print \"-\"*30\n",
        " \n",
        "\n",
        "if __name__ == \"__main__\":\n",
        "import mydir\n",
        "listing(mydir) # self-test code: list myself\n",
        " \n"
      ],
      "execution_count": 0,
      "outputs": []
    },
    {
      "cell_type": "markdown",
      "metadata": {
        "id": "UKeyBwXfjGHD",
        "colab_type": "text"
      },
      "source": [
        "*     Running the module on itself"
      ]
    },
    {
      "cell_type": "code",
      "metadata": {
        "id": "wv4Nl0C2jGHD",
        "colab_type": "code",
        "colab": {}
      },
      "source": [
        "C:\\python> python mydir.py\n",
        "------------------------------\n",
        "name: mydir file: mydir.py\n",
        "------------------------------\n",
        "00) __file__ <built-in name>\n",
        "01) __name__ <built-in name>\n",
        "02) listing <function listing at 885450>\n",
        "03) __doc__ <built-in name>\n",
        "04) __builtins__ <built-in name>\n",
        "05) verbose 1\n",
        "------------------------------\n",
        "mydir has 6 names\n",
        "------------------------------\n",
        " \n"
      ],
      "execution_count": 0,
      "outputs": []
    },
    {
      "cell_type": "markdown",
      "metadata": {
        "id": "oCxNMWWhjGHG",
        "colab_type": "text"
      },
      "source": [
        "Another program about programs\n",
        " \n",
        "\n",
        " \n",
        "\n",
        "*     exec runs strings of Python code\n",
        "*     os.system runs a system shell command\n",
        "*     __dict__ attribute is module namespace dictionary\n",
        "*     sys.modules is the loaded-module dictionary\n",
        " \n",
        "\n",
        " \n",
        "\n",
        " \n",
        "\n",
        "file: fixer.py"
      ]
    },
    {
      "cell_type": "code",
      "metadata": {
        "id": "lfSha8hojGHI",
        "colab_type": "code",
        "colab": {}
      },
      "source": [
        "editor = 'vi' # your editor's name\n",
        " \n",
        "\n",
        "def python(cmd):\n",
        "import __main__\n",
        "namespace = __main__.__dict__\n",
        "exec cmd in namespace, namespace\n",
        "# 3.X: exec(cmd, namespace, namespace)\n",
        " \n",
        "\n",
        "def edit(filename):\n",
        "import os\n",
        "os.system(editor + ' ' + filename)\n",
        " \n",
        "\n",
        "def fix(modname):\n",
        "import sys # edit,(re)load\n",
        "edit(modname + '.py')\n",
        "if modname in sys.modules.keys():\n",
        "python('reload(' + modname + ')')\n",
        "else:\n",
        "python('import ' + modname)\n",
        " \n"
      ],
      "execution_count": 0,
      "outputs": []
    },
    {
      "cell_type": "code",
      "metadata": {
        "id": "bJNRZtdVjGHK",
        "colab_type": "code",
        "colab": {}
      },
      "source": [
        "% python\n",
        " from fixer import fix\n",
        " fix(\"spam\") # browse/edit, import by name\n",
        " \n",
        "\n",
        " spam.function() # spam was imported in __main__\n",
        " fix(\"spam\") # edit and reload() by name\n",
        " \n",
        "\n",
        " spam.function() # test new version of function\n",
        "\n",
        " \n"
      ],
      "execution_count": 0,
      "outputs": []
    },
    {
      "cell_type": "markdown",
      "metadata": {
        "id": "W-QVkfjOjGHL",
        "colab_type": "text"
      },
      "source": [
        "###Module gotchas\n",
        "\n",
        " \n",
        "\n",
        " \n",
        "\n",
        "from copies names but doesnt link\n",
        " \n",
        "\n",
        "nested1.py"
      ]
    },
    {
      "cell_type": "code",
      "metadata": {
        "id": "v-TjE3SfjGHM",
        "colab_type": "code",
        "colab": {}
      },
      "source": [
        "X = 99\n",
        "def printer(): print X\n",
        " \n"
      ],
      "execution_count": 0,
      "outputs": []
    },
    {
      "cell_type": "markdown",
      "metadata": {
        "id": "eaj-XbnejGHO",
        "colab_type": "text"
      },
      "source": [
        "nested2.py"
      ]
    },
    {
      "cell_type": "code",
      "metadata": {
        "id": "t_5byg5WjGHP",
        "colab_type": "code",
        "colab": {}
      },
      "source": [
        "from nested1 import X, printer # copy names out\n",
        "X = 88 # changes my \"X\" only!\n",
        "printer()\n",
        " \n"
      ],
      "execution_count": 0,
      "outputs": []
    },
    {
      "cell_type": "markdown",
      "metadata": {
        "id": "d0oV35t_jGHQ",
        "colab_type": "text"
      },
      "source": [
        "nested3.py"
      ]
    },
    {
      "cell_type": "code",
      "metadata": {
        "id": "T0172_2bjGHR",
        "colab_type": "code",
        "colab": {}
      },
      "source": [
        "import nested1 # get module as a whole\n",
        "nested1.X = 88 # change nested1's X\n",
        "nested1.printer()\n",
        " \n"
      ],
      "execution_count": 0,
      "outputs": []
    },
    {
      "cell_type": "code",
      "metadata": {
        "id": "VksnM78xjGHT",
        "colab_type": "code",
        "colab": {}
      },
      "source": [
        "% python nested2.py\n",
        "99\n",
        "% python nested3.py\n",
        "88\n",
        " \n"
      ],
      "execution_count": 0,
      "outputs": []
    },
    {
      "cell_type": "markdown",
      "metadata": {
        "id": "E0UYbaUajGHj",
        "colab_type": "text"
      },
      "source": [
        "Statement order matters at top-level\n",
        " \n",
        "\n",
        "*     Solution: put most immediate code at bottom of file\n",
        "file: order1.py"
      ]
    },
    {
      "cell_type": "code",
      "metadata": {
        "id": "cnYqQECojGHj",
        "colab_type": "code",
        "colab": {}
      },
      "source": [
        "func1() # error: \"func1\" not yet assigned\n",
        " \n",
        "\n",
        "def func1():\n",
        "print func2() # okay: \"func2\" looked up later\n",
        " \n",
        "\n",
        "func1() # error: \"func2\" not yet assihned\n",
        " \n",
        "\n",
        "def func2():\n",
        "return \"Hello\"\n",
        " \n",
        "\n",
        "func1() # okay: \"func1\" and \"func2\" assigned\n",
        "\n",
        " \n"
      ],
      "execution_count": 0,
      "outputs": []
    },
    {
      "cell_type": "markdown",
      "metadata": {
        "id": "zXCCwgBKjGHl",
        "colab_type": "text"
      },
      "source": [
        "Recursive from import gotchas\n",
        " \n",
        "\n",
        "*     Solution: use import, or from inside functions\n",
        "file: recur1.py"
      ]
    },
    {
      "cell_type": "code",
      "metadata": {
        "id": "TXSefycEjGHl",
        "colab_type": "code",
        "colab": {}
      },
      "source": [
        "X = 1\n",
        "import recur2 # run recur2 now if doesn't exist\n",
        "Y = 2\n",
        " \n"
      ],
      "execution_count": 0,
      "outputs": []
    },
    {
      "cell_type": "markdown",
      "metadata": {
        "id": "f0uknizQjGHn",
        "colab_type": "text"
      },
      "source": [
        "file recur2.py"
      ]
    },
    {
      "cell_type": "code",
      "metadata": {
        "id": "oZzExD-djGHn",
        "colab_type": "code",
        "colab": {}
      },
      "source": [
        "from recur1 import X # okay: \"X\" already assigned\n",
        "from recur1 import Y # error: \"Y\" not yet assigned\n",
        " \n"
      ],
      "execution_count": 0,
      "outputs": []
    },
    {
      "cell_type": "code",
      "metadata": {
        "id": "9SoZLOwKjGHo",
        "colab_type": "code",
        "colab": {}
      },
      "source": [
        " import recur1\n",
        "Traceback (innermost last):\n",
        "File \"<stdin>\", line 1, in ?\n",
        "File \"recur1.py\", line 2, in ?\n",
        "import recur2\n",
        "File \"recur2.py\", line 2, in ?\n",
        "from recur1 import Y # error: \"Y\" not yet assigned\n",
        "ImportError: cannot import name Y\n",
        " \n"
      ],
      "execution_count": 0,
      "outputs": []
    },
    {
      "cell_type": "markdown",
      "metadata": {
        "id": "WI1fE6_MjGHq",
        "colab_type": "text"
      },
      "source": [
        "reload may not impact from imports\n",
        " \n",
        "\n",
        "*     reload overwrites existing module object\n",
        "*     But from names have no link back to module\n",
        "*     Use import to make reloads more effective\n",
        "\n",
        "\n",
        "import module module.X reflects module reloads\n",
        "from module import X X may not reflect module reloads!\n",
        "\n",
        " \n",
        "\n",
        "reload isnt applied transitively\n",
        " \n",
        "\n",
        "*     Use multiple reloads to update subcomponents\n",
        "*     Or use recursion to traverse import dependencies\n",
        " \n",
        "\n",
        " \n",
        "\n",
        "###Optional reading: a shared stack module\n",
        "\n",
        " \n",
        "\n",
        "*     Manages a local stack, initialized on first import\n",
        "*     All importers share the same stack: single instance\n",
        "*     Stack accessed through exported functions\n",
        "*     Stack can hold any kind of object (heterogeneous)\n",
        " \n",
        "\n",
        " \n",
        "\n",
        "file: stack1.py"
      ]
    },
    {
      "cell_type": "code",
      "metadata": {
        "id": "5oroo7YcjGHq",
        "colab_type": "code",
        "colab": {}
      },
      "source": [
        "\n",
        "stack = [] # on first import\n",
        "error = 'stack1.error' # local exceptions\n",
        " \n",
        "\n",
        "def push(obj):\n",
        "global stack # 'global' to change\n",
        "stack = [obj] + stack # add item to front\n",
        " \n",
        "\n",
        "def pop():\n",
        "global stack\n",
        "if not stack:\n",
        "raise error, 'stack underflow' # raise local error\n",
        "top, stack = stack[0], stack[1:] # remove front item\n",
        "return top\n",
        " \n",
        "\n",
        "def top():\n",
        "if not stack: # raise local error\n",
        "raise error, 'stack underflow' # or let IndexError\n",
        "return stack[0]\n",
        " \n",
        "\n",
        "def empty(): return not stack # is the stack []?\n",
        "def member(obj): return obj in stack # item in stack?\n",
        "def item(offset): return stack[offset] # index the stack\n",
        "def length(): return len(stack) # number entries\n",
        "def dump(): print '<Stack:%s>' % stack\n",
        " \n"
      ],
      "execution_count": 0,
      "outputs": []
    },
    {
      "cell_type": "markdown",
      "metadata": {
        "id": "YJU-A36rjGHr",
        "colab_type": "text"
      },
      "source": [
        "Using the stack module"
      ]
    },
    {
      "cell_type": "code",
      "metadata": {
        "id": "g0sHLsEXjGHs",
        "colab_type": "code",
        "colab": {}
      },
      "source": [
        "\n",
        "% python\n",
        " import stack1\n",
        " for i in range(5): stack1.push(i)\n",
        "\n",
        " stack1.dump()\n",
        "<Stack:[4, 3, 2, 1, 0]>\n",
        "``` \n",
        "\n",
        " \n",
        "\n",
        "Sequence-like tools\n",
        "\n",
        "```python\n",
        " stack1.item(0), stack1.item(-1), stack1.length()\n",
        "(4, 0, 5)\n",
        " stack1.pop(), stack1.top()\n",
        "(4, 3)\n",
        " stack1.member(4), stack1.member(3)\n",
        "(0, 1)\n",
        " for i in range(stack1.length()): print stack1.item(i),\n",
        "\n",
        "3 2 1 0\n",
        " \n",
        "\n",
        " \n",
        "\n"
      ],
      "execution_count": 0,
      "outputs": []
    },
    {
      "cell_type": "markdown",
      "metadata": {
        "id": "Q8ogfYh_jGHt",
        "colab_type": "text"
      },
      "source": [
        "Exceptions"
      ]
    },
    {
      "cell_type": "code",
      "metadata": {
        "id": "LY2Gb863jGHt",
        "colab_type": "code",
        "colab": {}
      },
      "source": [
        " while not stack1.empty(): x = stack1.pop(),\n",
        "\n",
        " try:\n",
        " stack1.pop()\n",
        " except stack1.error, message:\n",
        " print message\n",
        "\n",
        "stack underflow\n",
        " \n"
      ],
      "execution_count": 0,
      "outputs": []
    },
    {
      "cell_type": "markdown",
      "metadata": {
        "id": "uXuqSRiKjGHv",
        "colab_type": "text"
      },
      "source": [
        "Module clients\n",
        "file: client1.py"
      ]
    },
    {
      "cell_type": "code",
      "metadata": {
        "id": "PFpLamgyjGHv",
        "colab_type": "code",
        "colab": {}
      },
      "source": [
        "from stack1 import *\n",
        "push(123) # module-name not needed\n",
        "result = pop()\n",
        " \n"
      ],
      "execution_count": 0,
      "outputs": []
    },
    {
      "cell_type": "markdown",
      "metadata": {
        "id": "_CprgUJmjGHy",
        "colab_type": "text"
      },
      "source": [
        "file: client2.py"
      ]
    },
    {
      "cell_type": "code",
      "metadata": {
        "id": "8XwfhEz2jGHy",
        "colab_type": "code",
        "colab": {}
      },
      "source": [
        "import stack1\n",
        "if not stack1.empty(): # qualify by module name\n",
        "x = stack1.pop()\n",
        "stack1.push(1.23) # both clients share same stack\n",
        "\n",
        " \n"
      ],
      "execution_count": 0,
      "outputs": []
    }
  ]
}