{
  "nbformat": 4,
  "nbformat_minor": 0,
  "metadata": {
    "colab": {
      "name": "numpy_arrays.ipynb",
      "version": "0.3.2",
      "provenance": [],
      "toc_visible": true,
      "include_colab_link": true
    },
    "kernelspec": {
      "name": "python3",
      "display_name": "Python 3"
    }
  },
  "cells": [
    {
      "cell_type": "markdown",
      "metadata": {
        "id": "view-in-github",
        "colab_type": "text"
      },
      "source": [
        "<a href=\"https://colab.research.google.com/github/fbeilstein/machine_learning/blob/master/numpy_arrays.ipynb\" target=\"_parent\"><img src=\"https://colab.research.google.com/assets/colab-badge.svg\" alt=\"Open In Colab\"/></a>"
      ]
    },
    {
      "cell_type": "markdown",
      "metadata": {
        "id": "2TStn_0_UY1d",
        "colab_type": "text"
      },
      "source": [
        "#The Basics of NumPy Arrays"
      ]
    },
    {
      "cell_type": "markdown",
      "metadata": {
        "id": "E8QxSgO3eMK4",
        "colab_type": "text"
      },
      "source": [
        "##NumPy Array Attributes"
      ]
    },
    {
      "cell_type": "code",
      "metadata": {
        "id": "ZJ_9GyWKcp8-",
        "colab_type": "code",
        "colab": {}
      },
      "source": [
        "import numpy as np\n",
        "np.random.seed(0) # seed for reproducibility\n",
        "x1 = np.random.randint(10, size=6) # One-dimensional array\n",
        "x2 = np.random.randint(10, size=(3, 4)) # Two-dimensional array\n",
        "x3 = np.random.randint(10, size=(3, 4, 5)) # Three-dimensional array"
      ],
      "execution_count": 0,
      "outputs": []
    },
    {
      "cell_type": "code",
      "metadata": {
        "id": "bnObZdktc0YQ",
        "colab_type": "code",
        "outputId": "3e5c49b6-d764-45bc-f266-1a5b970096e0",
        "colab": {
          "base_uri": "https://localhost:8080/",
          "height": 68
        }
      },
      "source": [
        "print(\"x3 ndim: \", x3.ndim)\n",
        "print(\"x3 shape:\", x3.shape)\n",
        "print(\"x3 size: \", x3.size)"
      ],
      "execution_count": 0,
      "outputs": [
        {
          "output_type": "stream",
          "text": [
            "x3 ndim:  3\n",
            "x3 shape: (3, 4, 5)\n",
            "x3 size:  60\n"
          ],
          "name": "stdout"
        }
      ]
    },
    {
      "cell_type": "code",
      "metadata": {
        "id": "SezDMeRbc6E5",
        "colab_type": "code",
        "outputId": "1adccd00-a20c-4eb5-e99c-4140f41c31e4",
        "colab": {
          "base_uri": "https://localhost:8080/",
          "height": 34
        }
      },
      "source": [
        "print(\"dtype:\", x3.dtype)"
      ],
      "execution_count": 0,
      "outputs": [
        {
          "output_type": "stream",
          "text": [
            "dtype: int64\n"
          ],
          "name": "stdout"
        }
      ]
    },
    {
      "cell_type": "code",
      "metadata": {
        "id": "Nw2WmRKGdBfu",
        "colab_type": "code",
        "outputId": "c9f075a3-a420-49b8-9c80-bbbdfef14811",
        "colab": {
          "base_uri": "https://localhost:8080/",
          "height": 51
        }
      },
      "source": [
        "print(\"itemsize:\", x3.itemsize, \"bytes\")\n",
        "print(\"nbytes:\", x3.nbytes, \"bytes\")"
      ],
      "execution_count": 0,
      "outputs": [
        {
          "output_type": "stream",
          "text": [
            "itemsize: 8 bytes\n",
            "nbytes: 480 bytes\n"
          ],
          "name": "stdout"
        }
      ]
    },
    {
      "cell_type": "markdown",
      "metadata": {
        "id": "EpGjSyT5eZVA",
        "colab_type": "text"
      },
      "source": [
        "##Array Indexing: Accessing Single Elements"
      ]
    },
    {
      "cell_type": "code",
      "metadata": {
        "id": "d5OLSC1EdKtB",
        "colab_type": "code",
        "outputId": "06fa7ef7-8e7a-48af-d366-53093e0f6329",
        "colab": {
          "base_uri": "https://localhost:8080/",
          "height": 34
        }
      },
      "source": [
        "x1"
      ],
      "execution_count": 0,
      "outputs": [
        {
          "output_type": "execute_result",
          "data": {
            "text/plain": [
              "array([5, 0, 3, 3, 7, 9])"
            ]
          },
          "metadata": {
            "tags": []
          },
          "execution_count": 5
        }
      ]
    },
    {
      "cell_type": "code",
      "metadata": {
        "id": "68hLUs8udMJR",
        "colab_type": "code",
        "outputId": "3198bbb2-6728-4108-fbcb-935dd9667bd3",
        "colab": {
          "base_uri": "https://localhost:8080/",
          "height": 34
        }
      },
      "source": [
        "x1[0]"
      ],
      "execution_count": 0,
      "outputs": [
        {
          "output_type": "execute_result",
          "data": {
            "text/plain": [
              "5"
            ]
          },
          "metadata": {
            "tags": []
          },
          "execution_count": 6
        }
      ]
    },
    {
      "cell_type": "code",
      "metadata": {
        "id": "FF0jPIh7dPRf",
        "colab_type": "code",
        "outputId": "fa1f65a0-be99-4724-860c-368f331269c5",
        "colab": {
          "base_uri": "https://localhost:8080/",
          "height": 34
        }
      },
      "source": [
        "x1[4]"
      ],
      "execution_count": 0,
      "outputs": [
        {
          "output_type": "execute_result",
          "data": {
            "text/plain": [
              "7"
            ]
          },
          "metadata": {
            "tags": []
          },
          "execution_count": 7
        }
      ]
    },
    {
      "cell_type": "code",
      "metadata": {
        "id": "DZI7V2JzdSLS",
        "colab_type": "code",
        "outputId": "b93793b0-d239-4001-f15d-aa47de5d0e53",
        "colab": {
          "base_uri": "https://localhost:8080/",
          "height": 34
        }
      },
      "source": [
        "x1[-1]"
      ],
      "execution_count": 0,
      "outputs": [
        {
          "output_type": "execute_result",
          "data": {
            "text/plain": [
              "9"
            ]
          },
          "metadata": {
            "tags": []
          },
          "execution_count": 8
        }
      ]
    },
    {
      "cell_type": "code",
      "metadata": {
        "id": "_rz8Z4o9dVHm",
        "colab_type": "code",
        "outputId": "14197858-eb20-4f20-b212-a0c77a3e592c",
        "colab": {
          "base_uri": "https://localhost:8080/",
          "height": 34
        }
      },
      "source": [
        "x1[-2]"
      ],
      "execution_count": 0,
      "outputs": [
        {
          "output_type": "execute_result",
          "data": {
            "text/plain": [
              "7"
            ]
          },
          "metadata": {
            "tags": []
          },
          "execution_count": 9
        }
      ]
    },
    {
      "cell_type": "code",
      "metadata": {
        "id": "_iAHN8mOdg8o",
        "colab_type": "code",
        "outputId": "a1d05338-4db4-42f5-fd18-a828c8ed79c4",
        "colab": {
          "base_uri": "https://localhost:8080/",
          "height": 68
        }
      },
      "source": [
        "x2"
      ],
      "execution_count": 0,
      "outputs": [
        {
          "output_type": "execute_result",
          "data": {
            "text/plain": [
              "array([[3, 5, 2, 4],\n",
              "       [7, 6, 8, 8],\n",
              "       [1, 6, 7, 7]])"
            ]
          },
          "metadata": {
            "tags": []
          },
          "execution_count": 10
        }
      ]
    },
    {
      "cell_type": "code",
      "metadata": {
        "id": "5JFpYdaRdiqE",
        "colab_type": "code",
        "outputId": "233e02b8-d486-4ac2-ac6e-019662a386ad",
        "colab": {
          "base_uri": "https://localhost:8080/",
          "height": 34
        }
      },
      "source": [
        "x2[0, 0]"
      ],
      "execution_count": 0,
      "outputs": [
        {
          "output_type": "execute_result",
          "data": {
            "text/plain": [
              "3"
            ]
          },
          "metadata": {
            "tags": []
          },
          "execution_count": 11
        }
      ]
    },
    {
      "cell_type": "code",
      "metadata": {
        "id": "OBGxWHqNdlrK",
        "colab_type": "code",
        "outputId": "27b33d7b-d768-47db-d102-361f2fdb0a9e",
        "colab": {
          "base_uri": "https://localhost:8080/",
          "height": 34
        }
      },
      "source": [
        "x2[2, 0]"
      ],
      "execution_count": 0,
      "outputs": [
        {
          "output_type": "execute_result",
          "data": {
            "text/plain": [
              "1"
            ]
          },
          "metadata": {
            "tags": []
          },
          "execution_count": 12
        }
      ]
    },
    {
      "cell_type": "code",
      "metadata": {
        "id": "Q8QTo5SzdpBS",
        "colab_type": "code",
        "outputId": "8faf074d-8748-4d46-9905-aa198bd4e87c",
        "colab": {
          "base_uri": "https://localhost:8080/",
          "height": 34
        }
      },
      "source": [
        "x2[2, -1]"
      ],
      "execution_count": 0,
      "outputs": [
        {
          "output_type": "execute_result",
          "data": {
            "text/plain": [
              "7"
            ]
          },
          "metadata": {
            "tags": []
          },
          "execution_count": 13
        }
      ]
    },
    {
      "cell_type": "code",
      "metadata": {
        "id": "iU9itRPGdsfm",
        "colab_type": "code",
        "outputId": "be61b879-61fc-454b-da76-06165318a59e",
        "colab": {
          "base_uri": "https://localhost:8080/",
          "height": 68
        }
      },
      "source": [
        "x2[0, 0] = 12\n",
        "x2"
      ],
      "execution_count": 0,
      "outputs": [
        {
          "output_type": "execute_result",
          "data": {
            "text/plain": [
              "array([[12,  5,  2,  4],\n",
              "       [ 7,  6,  8,  8],\n",
              "       [ 1,  6,  7,  7]])"
            ]
          },
          "metadata": {
            "tags": []
          },
          "execution_count": 14
        }
      ]
    },
    {
      "cell_type": "code",
      "metadata": {
        "id": "znCgFXe0dzH3",
        "colab_type": "code",
        "outputId": "51e6c0d1-e05e-40cf-b4a2-ede17427a978",
        "colab": {
          "base_uri": "https://localhost:8080/",
          "height": 34
        }
      },
      "source": [
        "x1[0] = 3.14159 # this will be truncated!\n",
        "x1"
      ],
      "execution_count": 0,
      "outputs": [
        {
          "output_type": "execute_result",
          "data": {
            "text/plain": [
              "array([3, 0, 3, 3, 7, 9])"
            ]
          },
          "metadata": {
            "tags": []
          },
          "execution_count": 15
        }
      ]
    },
    {
      "cell_type": "markdown",
      "metadata": {
        "id": "wadou4UgedOZ",
        "colab_type": "text"
      },
      "source": [
        "##Array Slicing: Accessing Subarrays"
      ]
    },
    {
      "cell_type": "code",
      "metadata": {
        "id": "QCX5qIB_ehQd",
        "colab_type": "code",
        "outputId": "59f6fa47-96a4-4cb3-946a-0cc5b8d1585c",
        "colab": {
          "base_uri": "https://localhost:8080/",
          "height": 34
        }
      },
      "source": [
        "x = np.arange(10)\n",
        "x"
      ],
      "execution_count": 0,
      "outputs": [
        {
          "output_type": "execute_result",
          "data": {
            "text/plain": [
              "array([0, 1, 2, 3, 4, 5, 6, 7, 8, 9])"
            ]
          },
          "metadata": {
            "tags": []
          },
          "execution_count": 3
        }
      ]
    },
    {
      "cell_type": "code",
      "metadata": {
        "id": "SOjjqlyEKHQG",
        "colab_type": "code",
        "outputId": "10372055-6a89-499d-bcc5-e388fa3e24d6",
        "colab": {
          "base_uri": "https://localhost:8080/",
          "height": 34
        }
      },
      "source": [
        "x[:5] # first five elements"
      ],
      "execution_count": 0,
      "outputs": [
        {
          "output_type": "execute_result",
          "data": {
            "text/plain": [
              "array([0, 1, 2, 3, 4])"
            ]
          },
          "metadata": {
            "tags": []
          },
          "execution_count": 4
        }
      ]
    },
    {
      "cell_type": "code",
      "metadata": {
        "id": "1UZNzL9xKK2y",
        "colab_type": "code",
        "outputId": "f88dc1a1-df99-4f76-c57f-6e0ae5c34518",
        "colab": {
          "base_uri": "https://localhost:8080/",
          "height": 34
        }
      },
      "source": [
        "x[5:] # elements after index 5"
      ],
      "execution_count": 0,
      "outputs": [
        {
          "output_type": "execute_result",
          "data": {
            "text/plain": [
              "array([5, 6, 7, 8, 9])"
            ]
          },
          "metadata": {
            "tags": []
          },
          "execution_count": 5
        }
      ]
    },
    {
      "cell_type": "code",
      "metadata": {
        "id": "PGj-XbksKPGs",
        "colab_type": "code",
        "outputId": "cca10f41-f40a-4b11-e8e1-4bc077bfd395",
        "colab": {
          "base_uri": "https://localhost:8080/",
          "height": 34
        }
      },
      "source": [
        "x[4:7] # middle subarray"
      ],
      "execution_count": 0,
      "outputs": [
        {
          "output_type": "execute_result",
          "data": {
            "text/plain": [
              "array([4, 5, 6])"
            ]
          },
          "metadata": {
            "tags": []
          },
          "execution_count": 6
        }
      ]
    },
    {
      "cell_type": "code",
      "metadata": {
        "id": "IKFhM3iiKV8S",
        "colab_type": "code",
        "outputId": "fc6ba4e2-bdff-4393-a898-824cbb769bfc",
        "colab": {
          "base_uri": "https://localhost:8080/",
          "height": 34
        }
      },
      "source": [
        "x[::2] # every other element"
      ],
      "execution_count": 0,
      "outputs": [
        {
          "output_type": "execute_result",
          "data": {
            "text/plain": [
              "array([0, 2, 4, 6, 8])"
            ]
          },
          "metadata": {
            "tags": []
          },
          "execution_count": 7
        }
      ]
    },
    {
      "cell_type": "code",
      "metadata": {
        "id": "RCrDV7R0Ka1t",
        "colab_type": "code",
        "outputId": "02d95b96-9a06-451a-ece3-decc09699223",
        "colab": {
          "base_uri": "https://localhost:8080/",
          "height": 34
        }
      },
      "source": [
        "x[1::2] # every other element, starting at index 1"
      ],
      "execution_count": 0,
      "outputs": [
        {
          "output_type": "execute_result",
          "data": {
            "text/plain": [
              "array([1, 3, 5, 7, 9])"
            ]
          },
          "metadata": {
            "tags": []
          },
          "execution_count": 8
        }
      ]
    },
    {
      "cell_type": "code",
      "metadata": {
        "id": "dXUJo0HhKsR9",
        "colab_type": "code",
        "outputId": "3421eb3f-218d-408d-a9ab-fbecef0ecd00",
        "colab": {
          "base_uri": "https://localhost:8080/",
          "height": 34
        }
      },
      "source": [
        "x[::-1] # all elements, reversed"
      ],
      "execution_count": 0,
      "outputs": [
        {
          "output_type": "execute_result",
          "data": {
            "text/plain": [
              "array([9, 8, 7, 6, 5, 4, 3, 2, 1, 0])"
            ]
          },
          "metadata": {
            "tags": []
          },
          "execution_count": 9
        }
      ]
    },
    {
      "cell_type": "code",
      "metadata": {
        "id": "dImjZCj8KygT",
        "colab_type": "code",
        "outputId": "ca37355c-1f67-4a22-8092-0c2e49ec0320",
        "colab": {
          "base_uri": "https://localhost:8080/",
          "height": 34
        }
      },
      "source": [
        "x[5::-2] # reversed every other from index 5"
      ],
      "execution_count": 0,
      "outputs": [
        {
          "output_type": "execute_result",
          "data": {
            "text/plain": [
              "array([5, 3, 1])"
            ]
          },
          "metadata": {
            "tags": []
          },
          "execution_count": 10
        }
      ]
    },
    {
      "cell_type": "code",
      "metadata": {
        "id": "X8cUZH1kK-kn",
        "colab_type": "code",
        "outputId": "781dab78-6f40-43e9-f906-beec50479a68",
        "colab": {
          "base_uri": "https://localhost:8080/",
          "height": 68
        }
      },
      "source": [
        "x2"
      ],
      "execution_count": 0,
      "outputs": [
        {
          "output_type": "execute_result",
          "data": {
            "text/plain": [
              "array([[3, 5, 2, 4],\n",
              "       [7, 6, 8, 8],\n",
              "       [1, 6, 7, 7]])"
            ]
          },
          "metadata": {
            "tags": []
          },
          "execution_count": 13
        }
      ]
    },
    {
      "cell_type": "code",
      "metadata": {
        "id": "FExAFp6BLHPD",
        "colab_type": "code",
        "outputId": "9378b6ca-b6b2-429a-acf3-bb3dee4eb41e",
        "colab": {
          "base_uri": "https://localhost:8080/",
          "height": 51
        }
      },
      "source": [
        "x2[:2, :3] # two rows, three columns"
      ],
      "execution_count": 0,
      "outputs": [
        {
          "output_type": "execute_result",
          "data": {
            "text/plain": [
              "array([[3, 5, 2],\n",
              "       [7, 6, 8]])"
            ]
          },
          "metadata": {
            "tags": []
          },
          "execution_count": 14
        }
      ]
    },
    {
      "cell_type": "code",
      "metadata": {
        "id": "CLqH-RuYLQrl",
        "colab_type": "code",
        "outputId": "eb0ce969-5763-4213-e2b6-aaecaa8d934d",
        "colab": {
          "base_uri": "https://localhost:8080/",
          "height": 68
        }
      },
      "source": [
        "x2[:3, ::2] # all rows, every other column"
      ],
      "execution_count": 0,
      "outputs": [
        {
          "output_type": "execute_result",
          "data": {
            "text/plain": [
              "array([[3, 2],\n",
              "       [7, 8],\n",
              "       [1, 7]])"
            ]
          },
          "metadata": {
            "tags": []
          },
          "execution_count": 15
        }
      ]
    },
    {
      "cell_type": "code",
      "metadata": {
        "id": "tK1cjWRsLShy",
        "colab_type": "code",
        "outputId": "5a915fe7-d3e8-473c-80f0-3da5b1b8698f",
        "colab": {
          "base_uri": "https://localhost:8080/",
          "height": 68
        }
      },
      "source": [
        "x2[::-1, ::-1]"
      ],
      "execution_count": 0,
      "outputs": [
        {
          "output_type": "execute_result",
          "data": {
            "text/plain": [
              "array([[7, 7, 6, 1],\n",
              "       [8, 8, 6, 7],\n",
              "       [4, 2, 5, 3]])"
            ]
          },
          "metadata": {
            "tags": []
          },
          "execution_count": 16
        }
      ]
    },
    {
      "cell_type": "code",
      "metadata": {
        "id": "nSss0FYLLy4j",
        "colab_type": "code",
        "outputId": "7946266e-9a99-40d0-a911-80235d13ac78",
        "colab": {
          "base_uri": "https://localhost:8080/",
          "height": 34
        }
      },
      "source": [
        "print(x2[:, 0]) # first column of x2"
      ],
      "execution_count": 0,
      "outputs": [
        {
          "output_type": "stream",
          "text": [
            "[3 7 1]\n"
          ],
          "name": "stdout"
        }
      ]
    },
    {
      "cell_type": "code",
      "metadata": {
        "id": "ngUmtx7IL0Pb",
        "colab_type": "code",
        "outputId": "df341bf8-b3f2-4532-8d41-f4f719e2eab0",
        "colab": {
          "base_uri": "https://localhost:8080/",
          "height": 34
        }
      },
      "source": [
        "print(x2[0, :]) # first row of x2"
      ],
      "execution_count": 0,
      "outputs": [
        {
          "output_type": "stream",
          "text": [
            "[3 5 2 4]\n"
          ],
          "name": "stdout"
        }
      ]
    },
    {
      "cell_type": "code",
      "metadata": {
        "id": "ekrg0xXoL9xg",
        "colab_type": "code",
        "outputId": "a26e1f50-bd8f-4d59-e6ce-14d917368621",
        "colab": {
          "base_uri": "https://localhost:8080/",
          "height": 34
        }
      },
      "source": [
        "print(x2[0]) # equivalent to x2[0, :]"
      ],
      "execution_count": 0,
      "outputs": [
        {
          "output_type": "stream",
          "text": [
            "[3 5 2 4]\n"
          ],
          "name": "stdout"
        }
      ]
    },
    {
      "cell_type": "code",
      "metadata": {
        "id": "W6dPUQxiMu9f",
        "colab_type": "code",
        "outputId": "e39b8e93-8804-4ecf-c29b-9aa24e7d2027",
        "colab": {
          "base_uri": "https://localhost:8080/",
          "height": 68
        }
      },
      "source": [
        "print(x2)"
      ],
      "execution_count": 0,
      "outputs": [
        {
          "output_type": "stream",
          "text": [
            "[[3 5 2 4]\n",
            " [7 6 8 8]\n",
            " [1 6 7 7]]\n"
          ],
          "name": "stdout"
        }
      ]
    },
    {
      "cell_type": "code",
      "metadata": {
        "id": "TvSaEHUuMyUs",
        "colab_type": "code",
        "outputId": "7af02442-cd79-4194-a538-0bfb8f7b022e",
        "colab": {
          "base_uri": "https://localhost:8080/",
          "height": 51
        }
      },
      "source": [
        "x2_sub = x2[:2, :2]\n",
        "print(x2_sub)"
      ],
      "execution_count": 0,
      "outputs": [
        {
          "output_type": "stream",
          "text": [
            "[[3 5]\n",
            " [7 6]]\n"
          ],
          "name": "stdout"
        }
      ]
    },
    {
      "cell_type": "code",
      "metadata": {
        "id": "kSbyoBm7M-fi",
        "colab_type": "code",
        "outputId": "36fd981d-c2a5-46e0-8c5f-9a495583f556",
        "colab": {
          "base_uri": "https://localhost:8080/",
          "height": 68
        }
      },
      "source": [
        "print(x2)"
      ],
      "execution_count": 0,
      "outputs": [
        {
          "output_type": "stream",
          "text": [
            "[[3 5 2 4]\n",
            " [7 6 8 8]\n",
            " [1 6 7 7]]\n"
          ],
          "name": "stdout"
        }
      ]
    },
    {
      "cell_type": "code",
      "metadata": {
        "id": "5IHjiBH2NVcF",
        "colab_type": "code",
        "outputId": "6c12a811-749f-441e-9c80-262aaf1ff9d0",
        "colab": {
          "base_uri": "https://localhost:8080/",
          "height": 51
        }
      },
      "source": [
        "x2_sub_copy = x2[:2, :2].copy()\n",
        "print(x2_sub_copy)"
      ],
      "execution_count": 0,
      "outputs": [
        {
          "output_type": "stream",
          "text": [
            "[[3 5]\n",
            " [7 6]]\n"
          ],
          "name": "stdout"
        }
      ]
    },
    {
      "cell_type": "code",
      "metadata": {
        "id": "hfD85yMcNZn6",
        "colab_type": "code",
        "outputId": "1a60c1aa-af9d-4f33-b2cf-aab164cb50f7",
        "colab": {
          "base_uri": "https://localhost:8080/",
          "height": 51
        }
      },
      "source": [
        "x2_sub_copy[0, 0] = 42\n",
        "print(x2_sub_copy)"
      ],
      "execution_count": 0,
      "outputs": [
        {
          "output_type": "stream",
          "text": [
            "[[42  5]\n",
            " [ 7  6]]\n"
          ],
          "name": "stdout"
        }
      ]
    },
    {
      "cell_type": "code",
      "metadata": {
        "id": "_7--39woNdFZ",
        "colab_type": "code",
        "outputId": "f75c6d71-21be-42bd-be71-3babc47947cf",
        "colab": {
          "base_uri": "https://localhost:8080/",
          "height": 68
        }
      },
      "source": [
        "print(x2)"
      ],
      "execution_count": 0,
      "outputs": [
        {
          "output_type": "stream",
          "text": [
            "[[3 5 2 4]\n",
            " [7 6 8 8]\n",
            " [1 6 7 7]]\n"
          ],
          "name": "stdout"
        }
      ]
    },
    {
      "cell_type": "markdown",
      "metadata": {
        "id": "282bQAMENepq",
        "colab_type": "text"
      },
      "source": [
        "##Reshaping of Arrays"
      ]
    },
    {
      "cell_type": "code",
      "metadata": {
        "id": "KfkVEpSSNhdK",
        "colab_type": "code",
        "outputId": "6b95e1c5-cf91-4af1-ec44-c7529dc051d6",
        "colab": {
          "base_uri": "https://localhost:8080/",
          "height": 68
        }
      },
      "source": [
        "grid = np.arange(1, 10).reshape((3, 3))\n",
        "print(grid)"
      ],
      "execution_count": 0,
      "outputs": [
        {
          "output_type": "stream",
          "text": [
            "[[1 2 3]\n",
            " [4 5 6]\n",
            " [7 8 9]]\n"
          ],
          "name": "stdout"
        }
      ]
    },
    {
      "cell_type": "code",
      "metadata": {
        "id": "IT6F3CdbRqZn",
        "colab_type": "code",
        "outputId": "bd9c910e-37e7-422e-ce4b-299b65df9a1c",
        "colab": {
          "base_uri": "https://localhost:8080/",
          "height": 34
        }
      },
      "source": [
        "x = np.array([1, 2, 3])\n",
        "# row vector via reshape\n",
        "x.reshape((1, 3))"
      ],
      "execution_count": 0,
      "outputs": [
        {
          "output_type": "execute_result",
          "data": {
            "text/plain": [
              "array([[1, 2, 3]])"
            ]
          },
          "metadata": {
            "tags": []
          },
          "execution_count": 4
        }
      ]
    },
    {
      "cell_type": "code",
      "metadata": {
        "id": "Yi80JyOgR3Uu",
        "colab_type": "code",
        "outputId": "8d7f1632-87b9-4a89-d928-2d2774df8dc1",
        "colab": {
          "base_uri": "https://localhost:8080/",
          "height": 34
        }
      },
      "source": [
        "x[np.newaxis, :]"
      ],
      "execution_count": 0,
      "outputs": [
        {
          "output_type": "execute_result",
          "data": {
            "text/plain": [
              "array([[1, 2, 3]])"
            ]
          },
          "metadata": {
            "tags": []
          },
          "execution_count": 5
        }
      ]
    },
    {
      "cell_type": "code",
      "metadata": {
        "id": "W6BF8T1YR7ez",
        "colab_type": "code",
        "outputId": "fc3d5e62-d0f7-48fc-cc8b-958c9612514f",
        "colab": {
          "base_uri": "https://localhost:8080/",
          "height": 68
        }
      },
      "source": [
        "x.reshape((3, 1))"
      ],
      "execution_count": 0,
      "outputs": [
        {
          "output_type": "execute_result",
          "data": {
            "text/plain": [
              "array([[1],\n",
              "       [2],\n",
              "       [3]])"
            ]
          },
          "metadata": {
            "tags": []
          },
          "execution_count": 6
        }
      ]
    },
    {
      "cell_type": "code",
      "metadata": {
        "id": "TgUbtTXGR_gt",
        "colab_type": "code",
        "outputId": "286358f9-1a51-45ba-dfbc-0380ebf84ddb",
        "colab": {
          "base_uri": "https://localhost:8080/",
          "height": 68
        }
      },
      "source": [
        "x[:, np.newaxis]"
      ],
      "execution_count": 0,
      "outputs": [
        {
          "output_type": "execute_result",
          "data": {
            "text/plain": [
              "array([[1],\n",
              "       [2],\n",
              "       [3]])"
            ]
          },
          "metadata": {
            "tags": []
          },
          "execution_count": 7
        }
      ]
    },
    {
      "cell_type": "markdown",
      "metadata": {
        "id": "lRftDh6SSGFw",
        "colab_type": "text"
      },
      "source": [
        "##Array Concatenation and Splitting"
      ]
    },
    {
      "cell_type": "code",
      "metadata": {
        "id": "YD0LFiEsSHiB",
        "colab_type": "code",
        "outputId": "14c5cae2-4eaa-4522-da3a-dc18bc795444",
        "colab": {
          "base_uri": "https://localhost:8080/",
          "height": 34
        }
      },
      "source": [
        "x = np.array([1, 2, 3])\n",
        "y = np.array([3, 2, 1])\n",
        "np.concatenate([x, y])"
      ],
      "execution_count": 0,
      "outputs": [
        {
          "output_type": "execute_result",
          "data": {
            "text/plain": [
              "array([1, 2, 3, 3, 2, 1])"
            ]
          },
          "metadata": {
            "tags": []
          },
          "execution_count": 8
        }
      ]
    },
    {
      "cell_type": "code",
      "metadata": {
        "id": "HDzLJXw-Sr38",
        "colab_type": "code",
        "outputId": "04559447-b5f3-45aa-d900-ea382b872ebe",
        "colab": {
          "base_uri": "https://localhost:8080/",
          "height": 34
        }
      },
      "source": [
        "z = [99, 99, 99]\n",
        "print(np.concatenate([x, y, z]))"
      ],
      "execution_count": 0,
      "outputs": [
        {
          "output_type": "stream",
          "text": [
            "[ 1  2  3  3  2  1 99 99 99]\n"
          ],
          "name": "stdout"
        }
      ]
    },
    {
      "cell_type": "code",
      "metadata": {
        "id": "nHDWRk_WSy_8",
        "colab_type": "code",
        "outputId": "13ff230d-2864-4dff-bba3-df9878aba16e",
        "colab": {
          "base_uri": "https://localhost:8080/",
          "height": 85
        }
      },
      "source": [
        "grid = np.array([[1, 2, 3], [4, 5, 6]])\n",
        "# concatenate along the first axis\n",
        "np.concatenate([grid, grid])"
      ],
      "execution_count": 0,
      "outputs": [
        {
          "output_type": "execute_result",
          "data": {
            "text/plain": [
              "array([[1, 2, 3],\n",
              "       [4, 5, 6],\n",
              "       [1, 2, 3],\n",
              "       [4, 5, 6]])"
            ]
          },
          "metadata": {
            "tags": []
          },
          "execution_count": 10
        }
      ]
    },
    {
      "cell_type": "code",
      "metadata": {
        "id": "Mv0vtgr9S7V0",
        "colab_type": "code",
        "outputId": "3c097187-c3ba-405e-ddd3-1557d3e5c56c",
        "colab": {
          "base_uri": "https://localhost:8080/",
          "height": 51
        }
      },
      "source": [
        "# concatenate along the second axis (zero-indexed)\n",
        "np.concatenate([grid, grid], axis=1)"
      ],
      "execution_count": 0,
      "outputs": [
        {
          "output_type": "execute_result",
          "data": {
            "text/plain": [
              "array([[1, 2, 3, 1, 2, 3],\n",
              "       [4, 5, 6, 4, 5, 6]])"
            ]
          },
          "metadata": {
            "tags": []
          },
          "execution_count": 11
        }
      ]
    },
    {
      "cell_type": "code",
      "metadata": {
        "id": "QMEzicLBTEu3",
        "colab_type": "code",
        "outputId": "1c3382f3-8888-47e9-df93-cf28bad1a45c",
        "colab": {
          "base_uri": "https://localhost:8080/",
          "height": 68
        }
      },
      "source": [
        "x = np.array([1, 2, 3])\n",
        "grid = np.array([[9, 8, 7], [6, 5, 4]])\n",
        "# vertically stack the arrays\n",
        "np.vstack([x, grid])"
      ],
      "execution_count": 0,
      "outputs": [
        {
          "output_type": "execute_result",
          "data": {
            "text/plain": [
              "array([[1, 2, 3],\n",
              "       [9, 8, 7],\n",
              "       [6, 5, 4]])"
            ]
          },
          "metadata": {
            "tags": []
          },
          "execution_count": 12
        }
      ]
    },
    {
      "cell_type": "code",
      "metadata": {
        "id": "tZNuHX9CTIw0",
        "colab_type": "code",
        "outputId": "584df98f-087f-487b-a783-541f04dfa3a9",
        "colab": {
          "base_uri": "https://localhost:8080/",
          "height": 51
        }
      },
      "source": [
        "# horizontally stack the arrays\n",
        "y = np.array([[99], [99]])\n",
        "np.hstack([grid, y])"
      ],
      "execution_count": 0,
      "outputs": [
        {
          "output_type": "execute_result",
          "data": {
            "text/plain": [
              "array([[ 9,  8,  7, 99],\n",
              "       [ 6,  5,  4, 99]])"
            ]
          },
          "metadata": {
            "tags": []
          },
          "execution_count": 13
        }
      ]
    },
    {
      "cell_type": "code",
      "metadata": {
        "id": "c93OafiYTRLq",
        "colab_type": "code",
        "outputId": "46abaf37-b5b3-4313-ad0d-4289e25b49b8",
        "colab": {
          "base_uri": "https://localhost:8080/",
          "height": 34
        }
      },
      "source": [
        "x = [1, 2, 3, 99, 99, 3, 2, 1]\n",
        "x1, x2, x3 = np.split(x, [3, 5])\n",
        "print(x1, x2, x3)"
      ],
      "execution_count": 0,
      "outputs": [
        {
          "output_type": "stream",
          "text": [
            "[1 2 3] [99 99] [3 2 1]\n"
          ],
          "name": "stdout"
        }
      ]
    },
    {
      "cell_type": "code",
      "metadata": {
        "id": "VF6Wsh4oTTo0",
        "colab_type": "code",
        "outputId": "5e68de4b-171d-4285-e640-987ada3f3756",
        "colab": {
          "base_uri": "https://localhost:8080/",
          "height": 85
        }
      },
      "source": [
        "grid = np.arange(16).reshape((4, 4))\n",
        "grid"
      ],
      "execution_count": 0,
      "outputs": [
        {
          "output_type": "execute_result",
          "data": {
            "text/plain": [
              "array([[ 0,  1,  2,  3],\n",
              "       [ 4,  5,  6,  7],\n",
              "       [ 8,  9, 10, 11],\n",
              "       [12, 13, 14, 15]])"
            ]
          },
          "metadata": {
            "tags": []
          },
          "execution_count": 15
        }
      ]
    },
    {
      "cell_type": "code",
      "metadata": {
        "id": "Iu_A96oRTjS1",
        "colab_type": "code",
        "outputId": "eac80184-4c63-4d7e-a00d-96e173c32bb9",
        "colab": {
          "base_uri": "https://localhost:8080/",
          "height": 85
        }
      },
      "source": [
        "upper, lower = np.vsplit(grid, [2])\n",
        "print(upper)\n",
        "print(lower)"
      ],
      "execution_count": 0,
      "outputs": [
        {
          "output_type": "stream",
          "text": [
            "[[0 1 2 3]\n",
            " [4 5 6 7]]\n",
            "[[ 8  9 10 11]\n",
            " [12 13 14 15]]\n"
          ],
          "name": "stdout"
        }
      ]
    },
    {
      "cell_type": "code",
      "metadata": {
        "id": "mNplDpW6TqZy",
        "colab_type": "code",
        "outputId": "c028f974-3cdb-442e-864d-11803f92209e",
        "colab": {
          "base_uri": "https://localhost:8080/",
          "height": 153
        }
      },
      "source": [
        "left, right = np.hsplit(grid, [2])\n",
        "print(left)\n",
        "print(right)"
      ],
      "execution_count": 0,
      "outputs": [
        {
          "output_type": "stream",
          "text": [
            "[[ 0  1]\n",
            " [ 4  5]\n",
            " [ 8  9]\n",
            " [12 13]]\n",
            "[[ 2  3]\n",
            " [ 6  7]\n",
            " [10 11]\n",
            " [14 15]]\n"
          ],
          "name": "stdout"
        }
      ]
    },
    {
      "cell_type": "markdown",
      "metadata": {
        "id": "I0J4rVgzVP2T",
        "colab_type": "text"
      },
      "source": [
        "#Computation on NumPy Arrays: Universal Functions"
      ]
    },
    {
      "cell_type": "markdown",
      "metadata": {
        "id": "xRB68Kt5WRN7",
        "colab_type": "text"
      },
      "source": [
        "##The Slowness of Loops"
      ]
    },
    {
      "cell_type": "code",
      "metadata": {
        "id": "HWVoz6FpWRx2",
        "colab_type": "code",
        "outputId": "eebaaeaf-d4a4-4d86-8370-94856b6a56d6",
        "colab": {
          "base_uri": "https://localhost:8080/",
          "height": 34
        }
      },
      "source": [
        "import numpy as np\n",
        "np.random.seed(0)\n",
        "\n",
        "\n",
        "def compute_reciprocals(values):\n",
        "  output = np.empty(len(values))\n",
        "  for i in range(len(values)):\n",
        "    output[i] = 1.0 / values[i]\n",
        "  return output\n",
        "\n",
        "\n",
        "values = np.random.randint(1, 10, size=5)\n",
        "compute_reciprocals(values)"
      ],
      "execution_count": 0,
      "outputs": [
        {
          "output_type": "execute_result",
          "data": {
            "text/plain": [
              "array([0.16666667, 1.        , 0.25      , 0.25      , 0.125     ])"
            ]
          },
          "metadata": {
            "tags": []
          },
          "execution_count": 2
        }
      ]
    },
    {
      "cell_type": "code",
      "metadata": {
        "id": "ktFok2SWX2ZE",
        "colab_type": "code",
        "outputId": "aa42cec3-3de4-4ba7-8553-02e920a9ca2c",
        "colab": {
          "base_uri": "https://localhost:8080/",
          "height": 34
        }
      },
      "source": [
        "big_array = np.random.randint(1, 100, size=1000000)\n",
        "%timeit compute_reciprocals(big_array)"
      ],
      "execution_count": 0,
      "outputs": [
        {
          "output_type": "stream",
          "text": [
            "1 loop, best of 3: 1.94 s per loop\n"
          ],
          "name": "stdout"
        }
      ]
    },
    {
      "cell_type": "markdown",
      "metadata": {
        "id": "IQ0Rfi_PYD2e",
        "colab_type": "text"
      },
      "source": [
        "##Introducing UFuncs"
      ]
    },
    {
      "cell_type": "code",
      "metadata": {
        "id": "oRKfH8hCYFdr",
        "colab_type": "code",
        "outputId": "621a8da9-cd7e-435c-e546-0f1d28f6868e",
        "colab": {
          "base_uri": "https://localhost:8080/",
          "height": 51
        }
      },
      "source": [
        "print(compute_reciprocals(values))\n",
        "print(1.0 / values)"
      ],
      "execution_count": 0,
      "outputs": [
        {
          "output_type": "stream",
          "text": [
            "[0.16666667 1.         0.25       0.25       0.125     ]\n",
            "[0.16666667 1.         0.25       0.25       0.125     ]\n"
          ],
          "name": "stdout"
        }
      ]
    },
    {
      "cell_type": "code",
      "metadata": {
        "id": "fsvRg0hdj9Qy",
        "colab_type": "code",
        "outputId": "b9434862-ce85-456b-f62a-090b8424d1d9",
        "colab": {
          "base_uri": "https://localhost:8080/",
          "height": 34
        }
      },
      "source": [
        "%timeit (1.0 / big_array)"
      ],
      "execution_count": 0,
      "outputs": [
        {
          "output_type": "stream",
          "text": [
            "100 loops, best of 3: 3.61 ms per loop\n"
          ],
          "name": "stdout"
        }
      ]
    },
    {
      "cell_type": "code",
      "metadata": {
        "id": "TfjsuEWAkBqg",
        "colab_type": "code",
        "outputId": "2be00a42-fcd1-4f62-abda-9403a9c673e7",
        "colab": {
          "base_uri": "https://localhost:8080/",
          "height": 34
        }
      },
      "source": [
        "np.arange(5) / np.arange(1, 6)"
      ],
      "execution_count": 0,
      "outputs": [
        {
          "output_type": "execute_result",
          "data": {
            "text/plain": [
              "array([0.        , 0.5       , 0.66666667, 0.75      , 0.8       ])"
            ]
          },
          "metadata": {
            "tags": []
          },
          "execution_count": 22
        }
      ]
    },
    {
      "cell_type": "code",
      "metadata": {
        "id": "5-vNiXZgkjYY",
        "colab_type": "code",
        "outputId": "585d36e6-0b74-44d5-adf4-28c7ee739c83",
        "colab": {
          "base_uri": "https://localhost:8080/",
          "height": 68
        }
      },
      "source": [
        "x = np.arange(9).reshape((3, 3))\n",
        "2 ** x"
      ],
      "execution_count": 0,
      "outputs": [
        {
          "output_type": "execute_result",
          "data": {
            "text/plain": [
              "array([[  1,   2,   4],\n",
              "       [  8,  16,  32],\n",
              "       [ 64, 128, 256]])"
            ]
          },
          "metadata": {
            "tags": []
          },
          "execution_count": 23
        }
      ]
    },
    {
      "cell_type": "markdown",
      "metadata": {
        "id": "dEj1UBYukpcR",
        "colab_type": "text"
      },
      "source": [
        "##Exploring NumPy’s UFuncs"
      ]
    },
    {
      "cell_type": "code",
      "metadata": {
        "id": "esjumaUukrmw",
        "colab_type": "code",
        "outputId": "786de5c8-a174-4b1c-b7b7-a9de5994a6d7",
        "colab": {
          "base_uri": "https://localhost:8080/",
          "height": 119
        }
      },
      "source": [
        "x = np.arange(4)\n",
        "print(\"x =\", x)\n",
        "print(\"x + 5 =\", x + 5)\n",
        "print(\"x - 5 =\", x - 5)\n",
        "print(\"x * 2 =\", x * 2)\n",
        "print(\"x / 2 =\", x / 2)\n",
        "print(\"x // 2 =\", x // 2) # floor division"
      ],
      "execution_count": 0,
      "outputs": [
        {
          "output_type": "stream",
          "text": [
            "x = [0 1 2 3]\n",
            "x + 5 = [5 6 7 8]\n",
            "x - 5 = [-5 -4 -3 -2]\n",
            "x * 2 = [0 2 4 6]\n",
            "x / 2 = [0.  0.5 1.  1.5]\n",
            "x // 2 = [0 0 1 1]\n"
          ],
          "name": "stdout"
        }
      ]
    },
    {
      "cell_type": "code",
      "metadata": {
        "id": "K1cZ61wbL9oy",
        "colab_type": "code",
        "outputId": "884e9d44-8a36-4a13-cc13-41ab2d4d8aa5",
        "colab": {
          "base_uri": "https://localhost:8080/",
          "height": 68
        }
      },
      "source": [
        "print(\"-x = \", -x)\n",
        "print(\"x ** 2 = \", x ** 2)\n",
        "print(\"x % 2 = \", x % 2)"
      ],
      "execution_count": 0,
      "outputs": [
        {
          "output_type": "stream",
          "text": [
            "-x =  [ 0 -1 -2 -3]\n",
            "x ** 2 =  [0 1 4 9]\n",
            "x % 2 =  [0 1 0 1]\n"
          ],
          "name": "stdout"
        }
      ]
    },
    {
      "cell_type": "code",
      "metadata": {
        "id": "EyFymCIlQwH7",
        "colab_type": "code",
        "outputId": "44dda82d-1fd1-424a-bc60-b5cab25aff9c",
        "colab": {
          "base_uri": "https://localhost:8080/",
          "height": 34
        }
      },
      "source": [
        "-(0.5*x + 1) ** 2"
      ],
      "execution_count": 0,
      "outputs": [
        {
          "output_type": "execute_result",
          "data": {
            "text/plain": [
              "array([-1.  , -2.25, -4.  , -6.25])"
            ]
          },
          "metadata": {
            "tags": []
          },
          "execution_count": 5
        }
      ]
    },
    {
      "cell_type": "code",
      "metadata": {
        "id": "1dTkaaWBQzZR",
        "colab_type": "code",
        "outputId": "685032ba-2c56-4a8f-9668-84c176511860",
        "colab": {
          "base_uri": "https://localhost:8080/",
          "height": 34
        }
      },
      "source": [
        "np.add(x, 2)"
      ],
      "execution_count": 0,
      "outputs": [
        {
          "output_type": "execute_result",
          "data": {
            "text/plain": [
              "array([2, 3, 4, 5])"
            ]
          },
          "metadata": {
            "tags": []
          },
          "execution_count": 6
        }
      ]
    },
    {
      "cell_type": "code",
      "metadata": {
        "id": "UE4jS-IWQ-bK",
        "colab_type": "code",
        "outputId": "3aa4f15c-c57d-4377-a9af-c7f05c1f3a3a",
        "colab": {
          "base_uri": "https://localhost:8080/",
          "height": 34
        }
      },
      "source": [
        "x = np.array([-2, -1, 0, 1, 2])\n",
        "abs(x)\n",
        "np.absolute(x)\n",
        "np.abs(x)"
      ],
      "execution_count": 0,
      "outputs": [
        {
          "output_type": "execute_result",
          "data": {
            "text/plain": [
              "array([2, 1, 0, 1, 2])"
            ]
          },
          "metadata": {
            "tags": []
          },
          "execution_count": 3
        }
      ]
    },
    {
      "cell_type": "code",
      "metadata": {
        "id": "2PWJ0qh59SiH",
        "colab_type": "code",
        "outputId": "45439385-d02d-446a-8be7-e7859b2363b4",
        "colab": {
          "base_uri": "https://localhost:8080/",
          "height": 34
        }
      },
      "source": [
        "x = np.array([3 - 4j, 4 - 3j, 2 + 0j, 0 + 1j])\n",
        "np.abs(x)"
      ],
      "execution_count": 0,
      "outputs": [
        {
          "output_type": "execute_result",
          "data": {
            "text/plain": [
              "array([5., 5., 2., 1.])"
            ]
          },
          "metadata": {
            "tags": []
          },
          "execution_count": 4
        }
      ]
    },
    {
      "cell_type": "code",
      "metadata": {
        "id": "LxULJTDU9lzd",
        "colab_type": "code",
        "outputId": "d8bee2ce-d321-47dd-d8d1-09d958394f73",
        "colab": {
          "base_uri": "https://localhost:8080/",
          "height": 85
        }
      },
      "source": [
        "theta = np.linspace(0, np.pi, 3)\n",
        "print(\"theta = \", theta)\n",
        "print(\"sin(theta) = \", np.sin(theta))\n",
        "print(\"cos(theta) = \", np.cos(theta))\n",
        "print(\"tan(theta) = \", np.tan(theta))"
      ],
      "execution_count": 0,
      "outputs": [
        {
          "output_type": "stream",
          "text": [
            "theta =  [0.         1.57079633 3.14159265]\n",
            "sin(theta) =  [0.0000000e+00 1.0000000e+00 1.2246468e-16]\n",
            "cos(theta) =  [ 1.000000e+00  6.123234e-17 -1.000000e+00]\n",
            "tan(theta) =  [ 0.00000000e+00  1.63312394e+16 -1.22464680e-16]\n"
          ],
          "name": "stdout"
        }
      ]
    },
    {
      "cell_type": "code",
      "metadata": {
        "id": "P9jdmjN4-CdD",
        "colab_type": "code",
        "outputId": "1fa127f8-054c-442e-db91-abd7829134db",
        "colab": {
          "base_uri": "https://localhost:8080/",
          "height": 85
        }
      },
      "source": [
        "x = [-1, 0, 1]\n",
        "print(\"x = \", x)\n",
        "print(\"arcsin(x) = \", np.arcsin(x))\n",
        "print(\"arccos(x) = \", np.arccos(x))\n",
        "print(\"arctan(x) = \", np.arctan(x))"
      ],
      "execution_count": 0,
      "outputs": [
        {
          "output_type": "stream",
          "text": [
            "x =  [-1, 0, 1]\n",
            "arcsin(x) =  [-1.57079633  0.          1.57079633]\n",
            "arccos(x) =  [3.14159265 1.57079633 0.        ]\n",
            "arctan(x) =  [-0.78539816  0.          0.78539816]\n"
          ],
          "name": "stdout"
        }
      ]
    },
    {
      "cell_type": "code",
      "metadata": {
        "id": "_FyyiTVt-GrO",
        "colab_type": "code",
        "outputId": "df7d0a5d-d07b-4d20-934a-3db8fa21c75f",
        "colab": {
          "base_uri": "https://localhost:8080/",
          "height": 85
        }
      },
      "source": [
        "x = [1, 2, 3]\n",
        "print(\"x =\", x)\n",
        "print(\"e^x =\", np.exp(x))\n",
        "print(\"2^x =\", np.exp2(x))\n",
        "print(\"3^x =\", np.power(3, x))"
      ],
      "execution_count": 0,
      "outputs": [
        {
          "output_type": "stream",
          "text": [
            "x = [1, 2, 3]\n",
            "e^x = [ 2.71828183  7.3890561  20.08553692]\n",
            "2^x = [2. 4. 8.]\n",
            "3^x = [ 3  9 27]\n"
          ],
          "name": "stdout"
        }
      ]
    },
    {
      "cell_type": "code",
      "metadata": {
        "id": "1l4kTUdS-PaC",
        "colab_type": "code",
        "outputId": "78eac0b5-3cd3-400e-cb69-576b84d434be",
        "colab": {
          "base_uri": "https://localhost:8080/",
          "height": 85
        }
      },
      "source": [
        "x = [1, 2, 4, 10]\n",
        "print(\"x =\", x)\n",
        "print(\"ln(x) =\", np.log(x))\n",
        "print(\"log2(x) =\", np.log2(x))\n",
        "print(\"log10(x) =\", np.log10(x))"
      ],
      "execution_count": 0,
      "outputs": [
        {
          "output_type": "stream",
          "text": [
            "x = [1, 2, 4, 10]\n",
            "ln(x) = [0.         0.69314718 1.38629436 2.30258509]\n",
            "log2(x) = [0.         1.         2.         3.32192809]\n",
            "log10(x) = [0.         0.30103    0.60205999 1.        ]\n"
          ],
          "name": "stdout"
        }
      ]
    },
    {
      "cell_type": "code",
      "metadata": {
        "id": "mx9GILXh-YWd",
        "colab_type": "code",
        "outputId": "f9066d57-d283-46df-96ad-9df9e14da3de",
        "colab": {
          "base_uri": "https://localhost:8080/",
          "height": 51
        }
      },
      "source": [
        "x = [0, 0.001, 0.01, 0.1]\n",
        "print(\"exp(x) - 1 =\", np.expm1(x))\n",
        "print(\"log(1 + x) =\", np.log1p(x))"
      ],
      "execution_count": 0,
      "outputs": [
        {
          "output_type": "stream",
          "text": [
            "exp(x) - 1 = [0.         0.0010005  0.01005017 0.10517092]\n",
            "log(1 + x) = [0.         0.0009995  0.00995033 0.09531018]\n"
          ],
          "name": "stdout"
        }
      ]
    },
    {
      "cell_type": "code",
      "metadata": {
        "id": "EfTx3aznGPk9",
        "colab_type": "code",
        "outputId": "f8fb2db8-8616-4295-a459-01c25f0ab511",
        "colab": {
          "base_uri": "https://localhost:8080/",
          "height": 68
        }
      },
      "source": [
        "from scipy import special\n",
        "# Gamma functions (generalized factorials) and related functions\n",
        "x = [1, 5, 10]\n",
        "print(\"gamma(x) =\", special.gamma(x))\n",
        "print(\"ln|gamma(x)| =\", special.gammaln(x))\n",
        "print(\"beta(x, 2) =\", special.beta(x, 2))"
      ],
      "execution_count": 0,
      "outputs": [
        {
          "output_type": "stream",
          "text": [
            "gamma(x) = [1.0000e+00 2.4000e+01 3.6288e+05]\n",
            "ln|gamma(x)| = [ 0.          3.17805383 12.80182748]\n",
            "beta(x, 2) = [0.5        0.03333333 0.00909091]\n"
          ],
          "name": "stdout"
        }
      ]
    },
    {
      "cell_type": "code",
      "metadata": {
        "id": "G1FY6iIiGaWa",
        "colab_type": "code",
        "outputId": "6aa14806-c548-49ee-9c68-8ab477e3aa24",
        "colab": {
          "base_uri": "https://localhost:8080/",
          "height": 68
        }
      },
      "source": [
        "# Error function (integral of Gaussian)\n",
        "# its complement, and its inverse\n",
        "x = np.array([0, 0.3, 0.7, 1.0])\n",
        "print(\"erf(x) =\", special.erf(x))\n",
        "print(\"erfc(x) =\", special.erfc(x))\n",
        "print(\"erfinv(x) =\", special.erfinv(x))"
      ],
      "execution_count": 0,
      "outputs": [
        {
          "output_type": "stream",
          "text": [
            "erf(x) = [0.         0.32862676 0.67780119 0.84270079]\n",
            "erfc(x) = [1.         0.67137324 0.32219881 0.15729921]\n",
            "erfinv(x) = [0.         0.27246271 0.73286908        inf]\n"
          ],
          "name": "stdout"
        }
      ]
    },
    {
      "cell_type": "markdown",
      "metadata": {
        "id": "_tJlMt1MGmzW",
        "colab_type": "text"
      },
      "source": [
        "##Advanced Ufunc Features"
      ]
    },
    {
      "cell_type": "code",
      "metadata": {
        "id": "Hc_jxD_IGoGJ",
        "colab_type": "code",
        "outputId": "308b80f5-4c82-4f69-f929-533e959f1bf9",
        "colab": {
          "base_uri": "https://localhost:8080/",
          "height": 34
        }
      },
      "source": [
        "x = np.arange(5)\n",
        "y = np.empty(5)\n",
        "np.multiply(x, 10, out=y)\n",
        "print(y)"
      ],
      "execution_count": 0,
      "outputs": [
        {
          "output_type": "stream",
          "text": [
            "[ 0. 10. 20. 30. 40.]\n"
          ],
          "name": "stdout"
        }
      ]
    },
    {
      "cell_type": "code",
      "metadata": {
        "id": "qSGg4jyzH5fU",
        "colab_type": "code",
        "outputId": "1164a8db-da0a-40d0-ac21-47a5afe9bf01",
        "colab": {
          "base_uri": "https://localhost:8080/",
          "height": 34
        }
      },
      "source": [
        "y = np.zeros(10)\n",
        "np.power(2, x, out=y[::2])\n",
        "print(y)"
      ],
      "execution_count": 0,
      "outputs": [
        {
          "output_type": "stream",
          "text": [
            "[ 1.  0.  2.  0.  4.  0.  8.  0. 16.  0.]\n"
          ],
          "name": "stdout"
        }
      ]
    },
    {
      "cell_type": "code",
      "metadata": {
        "id": "Mrl6N7XxIJZC",
        "colab_type": "code",
        "outputId": "5261cf21-ed53-4076-c8fc-7c036bbeed47",
        "colab": {
          "base_uri": "https://localhost:8080/",
          "height": 34
        }
      },
      "source": [
        "x = np.arange(1, 6)\n",
        "np.add.reduce(x)"
      ],
      "execution_count": 0,
      "outputs": [
        {
          "output_type": "execute_result",
          "data": {
            "text/plain": [
              "15"
            ]
          },
          "metadata": {
            "tags": []
          },
          "execution_count": 16
        }
      ]
    },
    {
      "cell_type": "code",
      "metadata": {
        "id": "-j0dPeObILqx",
        "colab_type": "code",
        "outputId": "66c0613a-ce19-4791-bbb9-146cb03ade50",
        "colab": {
          "base_uri": "https://localhost:8080/",
          "height": 34
        }
      },
      "source": [
        "np.multiply.reduce(x)"
      ],
      "execution_count": 0,
      "outputs": [
        {
          "output_type": "execute_result",
          "data": {
            "text/plain": [
              "120"
            ]
          },
          "metadata": {
            "tags": []
          },
          "execution_count": 17
        }
      ]
    },
    {
      "cell_type": "code",
      "metadata": {
        "id": "DbfPMnjlIRN7",
        "colab_type": "code",
        "outputId": "d534421a-cfb3-4573-a651-86ccc85e5d10",
        "colab": {
          "base_uri": "https://localhost:8080/",
          "height": 34
        }
      },
      "source": [
        "np.add.accumulate(x)"
      ],
      "execution_count": 0,
      "outputs": [
        {
          "output_type": "execute_result",
          "data": {
            "text/plain": [
              "array([ 1,  3,  6, 10, 15])"
            ]
          },
          "metadata": {
            "tags": []
          },
          "execution_count": 18
        }
      ]
    },
    {
      "cell_type": "code",
      "metadata": {
        "id": "r2YUAtl_IgxY",
        "colab_type": "code",
        "outputId": "0ce2064a-6182-4d9a-b17f-1fd8d9f7eef4",
        "colab": {
          "base_uri": "https://localhost:8080/",
          "height": 34
        }
      },
      "source": [
        "np.multiply.accumulate(x)"
      ],
      "execution_count": 0,
      "outputs": [
        {
          "output_type": "execute_result",
          "data": {
            "text/plain": [
              "array([  1,   2,   6,  24, 120])"
            ]
          },
          "metadata": {
            "tags": []
          },
          "execution_count": 19
        }
      ]
    },
    {
      "cell_type": "code",
      "metadata": {
        "id": "LiEjycLmKgvz",
        "colab_type": "code",
        "outputId": "8d513f04-b2c1-4971-c2d6-3f4fb9efdd92",
        "colab": {
          "base_uri": "https://localhost:8080/",
          "height": 102
        }
      },
      "source": [
        "x = np.arange(1, 6)\n",
        "np.multiply.outer(x, x)"
      ],
      "execution_count": 0,
      "outputs": [
        {
          "output_type": "execute_result",
          "data": {
            "text/plain": [
              "array([[ 1,  2,  3,  4,  5],\n",
              "       [ 2,  4,  6,  8, 10],\n",
              "       [ 3,  6,  9, 12, 15],\n",
              "       [ 4,  8, 12, 16, 20],\n",
              "       [ 5, 10, 15, 20, 25]])"
            ]
          },
          "metadata": {
            "tags": []
          },
          "execution_count": 20
        }
      ]
    },
    {
      "cell_type": "markdown",
      "metadata": {
        "id": "P_scjVc3KvRj",
        "colab_type": "text"
      },
      "source": [
        "#Aggregations: Min, Max, and Everything in Between"
      ]
    },
    {
      "cell_type": "markdown",
      "metadata": {
        "id": "wQnFLg5QK1-N",
        "colab_type": "text"
      },
      "source": [
        "##Summing the Values in an Array"
      ]
    },
    {
      "cell_type": "code",
      "metadata": {
        "id": "R_yl1Up9K3dM",
        "colab_type": "code",
        "outputId": "d56256e2-296d-41fa-ddee-9a1e57948017",
        "colab": {
          "base_uri": "https://localhost:8080/",
          "height": 34
        }
      },
      "source": [
        "import numpy as np\n",
        "L = np.random.random(100)\n",
        "sum(L)"
      ],
      "execution_count": 0,
      "outputs": [
        {
          "output_type": "execute_result",
          "data": {
            "text/plain": [
              "47.51294159911191"
            ]
          },
          "metadata": {
            "tags": []
          },
          "execution_count": 21
        }
      ]
    },
    {
      "cell_type": "code",
      "metadata": {
        "id": "_NFIXw2SLDAF",
        "colab_type": "code",
        "outputId": "c97cf0f1-6f78-4a5b-9744-48858800281f",
        "colab": {
          "base_uri": "https://localhost:8080/",
          "height": 34
        }
      },
      "source": [
        "np.sum(L)"
      ],
      "execution_count": 0,
      "outputs": [
        {
          "output_type": "execute_result",
          "data": {
            "text/plain": [
              "47.5129415991119"
            ]
          },
          "metadata": {
            "tags": []
          },
          "execution_count": 22
        }
      ]
    },
    {
      "cell_type": "code",
      "metadata": {
        "id": "13C1ShJWLGSZ",
        "colab_type": "code",
        "outputId": "8528e473-9036-4524-9970-38c07efacde2",
        "colab": {
          "base_uri": "https://localhost:8080/",
          "height": 51
        }
      },
      "source": [
        "big_array = np.random.rand(1000000)\n",
        "%timeit sum(big_array)\n",
        "%timeit np.sum(big_array)"
      ],
      "execution_count": 0,
      "outputs": [
        {
          "output_type": "stream",
          "text": [
            "10 loops, best of 3: 93.1 ms per loop\n",
            "1000 loops, best of 3: 390 µs per loop\n"
          ],
          "name": "stdout"
        }
      ]
    },
    {
      "cell_type": "markdown",
      "metadata": {
        "id": "iPWnLKuiLQax",
        "colab_type": "text"
      },
      "source": [
        "##Minimum and Maximum"
      ]
    },
    {
      "cell_type": "code",
      "metadata": {
        "id": "mNfOl77rLTMD",
        "colab_type": "code",
        "outputId": "d9406a07-86ea-44f0-ec69-5fc1cb039d8b",
        "colab": {
          "base_uri": "https://localhost:8080/",
          "height": 34
        }
      },
      "source": [
        "min(big_array), max(big_array)"
      ],
      "execution_count": 0,
      "outputs": [
        {
          "output_type": "execute_result",
          "data": {
            "text/plain": [
              "(7.071203171893359e-07, 0.9999997207656334)"
            ]
          },
          "metadata": {
            "tags": []
          },
          "execution_count": 24
        }
      ]
    },
    {
      "cell_type": "code",
      "metadata": {
        "id": "II1acIuwLd94",
        "colab_type": "code",
        "outputId": "23ca4e02-983e-473b-ad49-7e1a7b13eba4",
        "colab": {
          "base_uri": "https://localhost:8080/",
          "height": 34
        }
      },
      "source": [
        "np.min(big_array), np.max(big_array)"
      ],
      "execution_count": 0,
      "outputs": [
        {
          "output_type": "execute_result",
          "data": {
            "text/plain": [
              "(7.071203171893359e-07, 0.9999997207656334)"
            ]
          },
          "metadata": {
            "tags": []
          },
          "execution_count": 25
        }
      ]
    },
    {
      "cell_type": "code",
      "metadata": {
        "id": "Qvk-02MpLhin",
        "colab_type": "code",
        "outputId": "db42b64a-fd57-44c3-ff42-3e8f30eb0c0b",
        "colab": {
          "base_uri": "https://localhost:8080/",
          "height": 51
        }
      },
      "source": [
        "%timeit min(big_array)\n",
        "%timeit np.min(big_array)"
      ],
      "execution_count": 0,
      "outputs": [
        {
          "output_type": "stream",
          "text": [
            "10 loops, best of 3: 61.6 ms per loop\n",
            "1000 loops, best of 3: 428 µs per loop\n"
          ],
          "name": "stdout"
        }
      ]
    },
    {
      "cell_type": "code",
      "metadata": {
        "id": "eGQB-JIWMDbz",
        "colab_type": "code",
        "outputId": "2697868b-c6bc-4c8c-94af-d51821db219c",
        "colab": {
          "base_uri": "https://localhost:8080/",
          "height": 34
        }
      },
      "source": [
        "print(big_array.min(), big_array.max(), big_array.sum())"
      ],
      "execution_count": 0,
      "outputs": [
        {
          "output_type": "stream",
          "text": [
            "7.071203171893359e-07 0.9999997207656334 500384.6391052089\n"
          ],
          "name": "stdout"
        }
      ]
    },
    {
      "cell_type": "code",
      "metadata": {
        "id": "Y-tytYIqMN-T",
        "colab_type": "code",
        "outputId": "ddf926e9-d3af-4e6c-dbc2-455c188d4950",
        "colab": {
          "base_uri": "https://localhost:8080/",
          "height": 68
        }
      },
      "source": [
        "M = np.random.random((3, 4))\n",
        "print(M)"
      ],
      "execution_count": 0,
      "outputs": [
        {
          "output_type": "stream",
          "text": [
            "[[0.78005386 0.29509276 0.23792159 0.36427966]\n",
            " [0.28696762 0.13911998 0.81564486 0.33446842]\n",
            " [0.08974411 0.44701982 0.34255858 0.82397382]]\n"
          ],
          "name": "stdout"
        }
      ]
    },
    {
      "cell_type": "code",
      "metadata": {
        "id": "nPva56c3MUYj",
        "colab_type": "code",
        "outputId": "8b242b42-08eb-4e1d-dcfa-c093d40bc28e",
        "colab": {
          "base_uri": "https://localhost:8080/",
          "height": 34
        }
      },
      "source": [
        "M.sum()"
      ],
      "execution_count": 0,
      "outputs": [
        {
          "output_type": "execute_result",
          "data": {
            "text/plain": [
              "4.95684508810505"
            ]
          },
          "metadata": {
            "tags": []
          },
          "execution_count": 29
        }
      ]
    },
    {
      "cell_type": "code",
      "metadata": {
        "id": "DwGpuPZJMXW7",
        "colab_type": "code",
        "outputId": "f91f45ec-4174-48c6-b03d-4806aa35cb08",
        "colab": {
          "base_uri": "https://localhost:8080/",
          "height": 34
        }
      },
      "source": [
        "M.min(axis=0)"
      ],
      "execution_count": 0,
      "outputs": [
        {
          "output_type": "execute_result",
          "data": {
            "text/plain": [
              "array([0.08974411, 0.13911998, 0.23792159, 0.33446842])"
            ]
          },
          "metadata": {
            "tags": []
          },
          "execution_count": 30
        }
      ]
    },
    {
      "cell_type": "code",
      "metadata": {
        "id": "sP_R7Dk9Mak7",
        "colab_type": "code",
        "outputId": "8a540ab3-66c9-4e90-bdc3-f1efa17e7f2a",
        "colab": {
          "base_uri": "https://localhost:8080/",
          "height": 34
        }
      },
      "source": [
        "M.max(axis=1)"
      ],
      "execution_count": 0,
      "outputs": [
        {
          "output_type": "execute_result",
          "data": {
            "text/plain": [
              "array([0.78005386, 0.81564486, 0.82397382])"
            ]
          },
          "metadata": {
            "tags": []
          },
          "execution_count": 31
        }
      ]
    },
    {
      "cell_type": "markdown",
      "metadata": {
        "id": "dG5OZiDAMkmb",
        "colab_type": "text"
      },
      "source": [
        "#Example: What Is the Average Weight of US Cars?"
      ]
    },
    {
      "cell_type": "code",
      "metadata": {
        "id": "XzDyMhrNMoML",
        "colab_type": "code",
        "outputId": "1d5d71fe-21a2-4510-9e95-0f74505148ca",
        "colab": {
          "base_uri": "https://localhost:8080/",
          "height": 1122
        }
      },
      "source": [
        "import numpy as np\n",
        "from vega_datasets import data\n",
        "data.list_datasets()"
      ],
      "execution_count": 18,
      "outputs": [
        {
          "output_type": "execute_result",
          "data": {
            "text/plain": [
              "['7zip',\n",
              " 'airports',\n",
              " 'anscombe',\n",
              " 'barley',\n",
              " 'birdstrikes',\n",
              " 'budget',\n",
              " 'budgets',\n",
              " 'burtin',\n",
              " 'cars',\n",
              " 'climate',\n",
              " 'co2-concentration',\n",
              " 'countries',\n",
              " 'crimea',\n",
              " 'disasters',\n",
              " 'driving',\n",
              " 'earthquakes',\n",
              " 'ffox',\n",
              " 'flare',\n",
              " 'flare-dependencies',\n",
              " 'flights-10k',\n",
              " 'flights-200k',\n",
              " 'flights-20k',\n",
              " 'flights-2k',\n",
              " 'flights-3m',\n",
              " 'flights-5k',\n",
              " 'flights-airport',\n",
              " 'gapminder',\n",
              " 'gapminder-health-income',\n",
              " 'gimp',\n",
              " 'github',\n",
              " 'graticule',\n",
              " 'income',\n",
              " 'iowa-electricity',\n",
              " 'iris',\n",
              " 'jobs',\n",
              " 'la-riots',\n",
              " 'londonBoroughs',\n",
              " 'londonCentroids',\n",
              " 'londonTubeLines',\n",
              " 'lookup_groups',\n",
              " 'lookup_people',\n",
              " 'miserables',\n",
              " 'monarchs',\n",
              " 'movies',\n",
              " 'normal-2d',\n",
              " 'obesity',\n",
              " 'points',\n",
              " 'population',\n",
              " 'population_engineers_hurricanes',\n",
              " 'seattle-temps',\n",
              " 'seattle-weather',\n",
              " 'sf-temps',\n",
              " 'sp500',\n",
              " 'stocks',\n",
              " 'udistrict',\n",
              " 'unemployment',\n",
              " 'unemployment-across-industries',\n",
              " 'us-10m',\n",
              " 'us-employment',\n",
              " 'us-state-capitals',\n",
              " 'weather',\n",
              " 'weball26',\n",
              " 'wheat',\n",
              " 'world-110m',\n",
              " 'zipcodes']"
            ]
          },
          "metadata": {
            "tags": []
          },
          "execution_count": 18
        }
      ]
    },
    {
      "cell_type": "code",
      "metadata": {
        "id": "A3PbGx4GUQ8W",
        "colab_type": "code",
        "outputId": "e4cd9df5-f313-4a7f-994d-ade9d01d8a90",
        "colab": {
          "base_uri": "https://localhost:8080/",
          "height": 204
        }
      },
      "source": [
        "d_cars = data.cars()\n",
        "d_cars.head()"
      ],
      "execution_count": 19,
      "outputs": [
        {
          "output_type": "execute_result",
          "data": {
            "text/html": [
              "<div>\n",
              "<style scoped>\n",
              "    .dataframe tbody tr th:only-of-type {\n",
              "        vertical-align: middle;\n",
              "    }\n",
              "\n",
              "    .dataframe tbody tr th {\n",
              "        vertical-align: top;\n",
              "    }\n",
              "\n",
              "    .dataframe thead th {\n",
              "        text-align: right;\n",
              "    }\n",
              "</style>\n",
              "<table border=\"1\" class=\"dataframe\">\n",
              "  <thead>\n",
              "    <tr style=\"text-align: right;\">\n",
              "      <th></th>\n",
              "      <th>Acceleration</th>\n",
              "      <th>Cylinders</th>\n",
              "      <th>Displacement</th>\n",
              "      <th>Horsepower</th>\n",
              "      <th>Miles_per_Gallon</th>\n",
              "      <th>Name</th>\n",
              "      <th>Origin</th>\n",
              "      <th>Weight_in_lbs</th>\n",
              "      <th>Year</th>\n",
              "    </tr>\n",
              "  </thead>\n",
              "  <tbody>\n",
              "    <tr>\n",
              "      <th>0</th>\n",
              "      <td>12.0</td>\n",
              "      <td>8</td>\n",
              "      <td>307.0</td>\n",
              "      <td>130.0</td>\n",
              "      <td>18.0</td>\n",
              "      <td>chevrolet chevelle malibu</td>\n",
              "      <td>USA</td>\n",
              "      <td>3504</td>\n",
              "      <td>1970-01-01</td>\n",
              "    </tr>\n",
              "    <tr>\n",
              "      <th>1</th>\n",
              "      <td>11.5</td>\n",
              "      <td>8</td>\n",
              "      <td>350.0</td>\n",
              "      <td>165.0</td>\n",
              "      <td>15.0</td>\n",
              "      <td>buick skylark 320</td>\n",
              "      <td>USA</td>\n",
              "      <td>3693</td>\n",
              "      <td>1970-01-01</td>\n",
              "    </tr>\n",
              "    <tr>\n",
              "      <th>2</th>\n",
              "      <td>11.0</td>\n",
              "      <td>8</td>\n",
              "      <td>318.0</td>\n",
              "      <td>150.0</td>\n",
              "      <td>18.0</td>\n",
              "      <td>plymouth satellite</td>\n",
              "      <td>USA</td>\n",
              "      <td>3436</td>\n",
              "      <td>1970-01-01</td>\n",
              "    </tr>\n",
              "    <tr>\n",
              "      <th>3</th>\n",
              "      <td>12.0</td>\n",
              "      <td>8</td>\n",
              "      <td>304.0</td>\n",
              "      <td>150.0</td>\n",
              "      <td>16.0</td>\n",
              "      <td>amc rebel sst</td>\n",
              "      <td>USA</td>\n",
              "      <td>3433</td>\n",
              "      <td>1970-01-01</td>\n",
              "    </tr>\n",
              "    <tr>\n",
              "      <th>4</th>\n",
              "      <td>10.5</td>\n",
              "      <td>8</td>\n",
              "      <td>302.0</td>\n",
              "      <td>140.0</td>\n",
              "      <td>17.0</td>\n",
              "      <td>ford torino</td>\n",
              "      <td>USA</td>\n",
              "      <td>3449</td>\n",
              "      <td>1970-01-01</td>\n",
              "    </tr>\n",
              "  </tbody>\n",
              "</table>\n",
              "</div>"
            ],
            "text/plain": [
              "   Acceleration  Cylinders  Displacement  ...  Origin  Weight_in_lbs       Year\n",
              "0          12.0          8         307.0  ...     USA           3504 1970-01-01\n",
              "1          11.5          8         350.0  ...     USA           3693 1970-01-01\n",
              "2          11.0          8         318.0  ...     USA           3436 1970-01-01\n",
              "3          12.0          8         304.0  ...     USA           3433 1970-01-01\n",
              "4          10.5          8         302.0  ...     USA           3449 1970-01-01\n",
              "\n",
              "[5 rows x 9 columns]"
            ]
          },
          "metadata": {
            "tags": []
          },
          "execution_count": 19
        }
      ]
    },
    {
      "cell_type": "code",
      "metadata": {
        "id": "D_C6gUJeVgmp",
        "colab_type": "code",
        "outputId": "d5923eb0-604c-46d2-d24d-bf6890352de8",
        "colab": {
          "base_uri": "https://localhost:8080/",
          "height": 510
        }
      },
      "source": [
        "d_weights = np.array(d_cars['Weight_in_lbs'])\n",
        "print(d_weights)"
      ],
      "execution_count": 20,
      "outputs": [
        {
          "output_type": "stream",
          "text": [
            "[3504 3693 3436 3433 3449 4341 4354 4312 4425 3850 3090 4142 4034 4166\n",
            " 3850 3563 3609 3353 3761 3086 2372 2833 2774 2587 2130 1835 2672 2430\n",
            " 2375 2234 2648 4615 4376 4382 4732 2130 2264 2228 2046 1978 2634 3439\n",
            " 3329 3302 3288 4209 4464 4154 4096 4955 4746 5140 2962 2408 3282 3139\n",
            " 2220 2123 2074 2065 1773 1613 1834 1955 2278 2126 2254 2408 2226 4274\n",
            " 4385 4135 4129 3672 4633 4502 4456 4422 2330 3892 4098 4294 4077 2933\n",
            " 2511 2979 2189 2395 2288 2506 2164 2100 4100 3672 3988 4042 3777 4952\n",
            " 4464 4363 4237 4735 4951 3821 3121 3278 2945 3021 2904 1950 4997 4906\n",
            " 4654 4499 2789 2279 2401 2379 2124 2310 2472 2265 4082 4278 1867 2158\n",
            " 2582 2868 3399 2660 2807 3664 3102 2875 2901 3336 1950 2451 1836 2542\n",
            " 3781 3632 3613 4141 4699 4457 4638 4257 2219 1963 2300 1649 2003 2125\n",
            " 2108 2246 2489 2391 2000 3264 3459 3432 3158 4668 4440 4498 4657 3907\n",
            " 3897 3730 3785 3039 3221 3169 2171 2639 2914 2592 2702 2223 2545 2984\n",
            " 1937 3211 2694 2957 2945 2671 1795 2464 2220 2572 2255 2202 4215 4190\n",
            " 3962 4215 3233 3353 3012 3085 2035 2164 1937 1795 3651 3574 3645 3193\n",
            " 1825 1990 2155 2565 3150 3940 3270 2930 3820 4380 4055 3870 3755 2045\n",
            " 2155 1825 2300 1945 3880 4060 4140 4295 3520 3425 3630 3525 4220 4165\n",
            " 4325 4335 1940 2740 2265 2755 2051 2075 1985 2190 2815 2600 2720 1985\n",
            " 1800 1985 2070 1800 3365 3735 3570 3535 3155 2965 2720 3430 3210 3380\n",
            " 3070 3620 3410 3425 3445 3205 4080 2155 2560 2300 2230 2515 2745 2855\n",
            " 2405 2830 3140 2795 3410 1990 2135 3245 2990 2890 3265 3360 3840 3725\n",
            " 3955 3830 4360 4054 3605 3940 1925 1975 1915 2670 3530 3900 3190 3420\n",
            " 2200 2150 2020 2130 2670 2595 2700 2556 2144 1968 2120 2019 2678 2870\n",
            " 3003 3381 2188 2711 2542 2434 2265 2110 2800 2110 2085 2335 2950 3250\n",
            " 1850 1835 2145 1845 2910 2420 2500 2905 2290 2490 2635 2620 2725 2385\n",
            " 1755 1875 1760 2065 1975 2050 1985 2215 2045 2380 2190 2320 2210 2350\n",
            " 2615 2635 3230 2800 3160 2900 2930 3415 3725 3060 3465 2605 2640 2395\n",
            " 2575 2525 2735 2865 3035 1980 2025 1970 2125 2125 2160 2205 2245 1965\n",
            " 1965 1995 2945 3015 2585 2835 2665 2370 2950 2790 2130 2295 2625 2720]\n"
          ],
          "name": "stdout"
        }
      ]
    },
    {
      "cell_type": "code",
      "metadata": {
        "id": "1BNXu7rRV_YX",
        "colab_type": "code",
        "outputId": "9069ab79-7853-4fbe-ef60-47f812275186",
        "colab": {
          "base_uri": "https://localhost:8080/",
          "height": 85
        }
      },
      "source": [
        "print(\"Mean weight: \", d_weights.mean())\n",
        "print(\"Standard deviation:\", d_weights.std())\n",
        "print(\"Minimum weight: \", d_weights.min())\n",
        "print(\"Maximum weight: \", d_weights.max())"
      ],
      "execution_count": 21,
      "outputs": [
        {
          "output_type": "stream",
          "text": [
            "Mean weight:  2979.4137931034484\n",
            "Standard deviation: 845.9605763601298\n",
            "Minimum weight:  1613\n",
            "Maximum weight:  5140\n"
          ],
          "name": "stdout"
        }
      ]
    },
    {
      "cell_type": "code",
      "metadata": {
        "id": "9H4sf_FNXalj",
        "colab_type": "code",
        "outputId": "171639c4-2e17-423a-e10e-1b9bd9616173",
        "colab": {
          "base_uri": "https://localhost:8080/",
          "height": 68
        }
      },
      "source": [
        "print(\"25th percentile: \", np.percentile(d_weights, 25))\n",
        "print(\"Median: \", np.median(d_weights))\n",
        "print(\"75th percentile: \", np.percentile(d_weights, 75))"
      ],
      "execution_count": 22,
      "outputs": [
        {
          "output_type": "stream",
          "text": [
            "25th percentile:  2226.5\n",
            "Median:  2822.5\n",
            "75th percentile:  3618.25\n"
          ],
          "name": "stdout"
        }
      ]
    },
    {
      "cell_type": "code",
      "metadata": {
        "id": "LlizrQAcXftF",
        "colab_type": "code",
        "outputId": "410ddc0a-3c8b-4e9c-b869-75ec6f5a84f5",
        "colab": {
          "base_uri": "https://localhost:8080/",
          "height": 301
        }
      },
      "source": [
        "%matplotlib inline\n",
        "import matplotlib.pyplot as plt\n",
        "import seaborn; seaborn.set() # set plot style\n",
        "plt.hist(d_weights)\n",
        "plt.title('Weight Distribution of US Cars')\n",
        "plt.xlabel('weight (lbs)')\n",
        "plt.ylabel('number');"
      ],
      "execution_count": 23,
      "outputs": [
        {
          "output_type": "display_data",
          "data": {
            "image/png": "[encoded data removed]",
            "text/plain": [
              "<Figure size 432x288 with 1 Axes>"
            ]
          },
          "metadata": {
            "tags": []
          }
        }
      ]
    },
    {
      "cell_type": "markdown",
      "metadata": {
        "id": "1YnWYewQYJL1",
        "colab_type": "text"
      },
      "source": [
        "#Computation on Arrays: Broadcasting"
      ]
    },
    {
      "cell_type": "markdown",
      "metadata": {
        "id": "9LDU9l8xYSih",
        "colab_type": "text"
      },
      "source": [
        "##Introducing Broadcasting"
      ]
    },
    {
      "cell_type": "code",
      "metadata": {
        "id": "W1fnJo-hYTni",
        "colab_type": "code",
        "outputId": "728b03e2-5e84-4d41-b28d-95e210465df5",
        "colab": {
          "base_uri": "https://localhost:8080/",
          "height": 34
        }
      },
      "source": [
        "import numpy as np\n",
        "a = np.array([0, 1, 2])\n",
        "b = np.array([5, 5, 5])\n",
        "a + b"
      ],
      "execution_count": 0,
      "outputs": [
        {
          "output_type": "execute_result",
          "data": {
            "text/plain": [
              "array([5, 6, 7])"
            ]
          },
          "metadata": {
            "tags": []
          },
          "execution_count": 25
        }
      ]
    },
    {
      "cell_type": "code",
      "metadata": {
        "id": "1Zzl0ofvYmWo",
        "colab_type": "code",
        "outputId": "09577e73-c972-4737-838e-fbeebd76f41f",
        "colab": {
          "base_uri": "https://localhost:8080/",
          "height": 34
        }
      },
      "source": [
        "a + 5"
      ],
      "execution_count": 0,
      "outputs": [
        {
          "output_type": "execute_result",
          "data": {
            "text/plain": [
              "array([5, 6, 7])"
            ]
          },
          "metadata": {
            "tags": []
          },
          "execution_count": 26
        }
      ]
    },
    {
      "cell_type": "code",
      "metadata": {
        "id": "O46H1lxsY4vn",
        "colab_type": "code",
        "outputId": "d97b6659-5970-45bf-ee8a-f9c74c85462a",
        "colab": {
          "base_uri": "https://localhost:8080/",
          "height": 68
        }
      },
      "source": [
        "M = np.ones((3, 3))\n",
        "M"
      ],
      "execution_count": 0,
      "outputs": [
        {
          "output_type": "execute_result",
          "data": {
            "text/plain": [
              "array([[1., 1., 1.],\n",
              "       [1., 1., 1.],\n",
              "       [1., 1., 1.]])"
            ]
          },
          "metadata": {
            "tags": []
          },
          "execution_count": 27
        }
      ]
    },
    {
      "cell_type": "code",
      "metadata": {
        "id": "rHYiSdOwY6kZ",
        "colab_type": "code",
        "outputId": "06aac8d1-5a31-43d0-c71b-5265985a412d",
        "colab": {
          "base_uri": "https://localhost:8080/",
          "height": 68
        }
      },
      "source": [
        "M + a"
      ],
      "execution_count": 0,
      "outputs": [
        {
          "output_type": "execute_result",
          "data": {
            "text/plain": [
              "array([[1., 2., 3.],\n",
              "       [1., 2., 3.],\n",
              "       [1., 2., 3.]])"
            ]
          },
          "metadata": {
            "tags": []
          },
          "execution_count": 28
        }
      ]
    },
    {
      "cell_type": "code",
      "metadata": {
        "id": "T9hsix04ZEgG",
        "colab_type": "code",
        "outputId": "b35ddf8d-821a-41db-d8a0-ea202a58f5cf",
        "colab": {
          "base_uri": "https://localhost:8080/",
          "height": 136
        }
      },
      "source": [
        "a = np.arange(3)\n",
        "b = np.arange(3)[:, np.newaxis]\n",
        "print(a)\n",
        "print(b)\n",
        "a + b"
      ],
      "execution_count": 0,
      "outputs": [
        {
          "output_type": "stream",
          "text": [
            "[0 1 2]\n",
            "[[0]\n",
            " [1]\n",
            " [2]]\n"
          ],
          "name": "stdout"
        },
        {
          "output_type": "execute_result",
          "data": {
            "text/plain": [
              "array([[0, 1, 2],\n",
              "       [1, 2, 3],\n",
              "       [2, 3, 4]])"
            ]
          },
          "metadata": {
            "tags": []
          },
          "execution_count": 29
        }
      ]
    },
    {
      "cell_type": "markdown",
      "metadata": {
        "id": "LFvtemt3aFsR",
        "colab_type": "text"
      },
      "source": [
        "##Rules of Broadcasting"
      ]
    },
    {
      "cell_type": "markdown",
      "metadata": {
        "id": "q2C-cug2Z6at",
        "colab_type": "text"
      },
      "source": [
        "*   Rule 1: If the two arrays differ in their number of dimensions, the shape of the\n",
        "one with fewer dimensions is padded with ones on its leading (left) side.\n",
        "*   Rule 2: If the shape of the two arrays does not match in any dimension, the array\n",
        "with shape equal to 1 in that dimension is stretched to match the other shape.\n",
        "*  Rule 3: If in any dimension the sizes disagree and neither is equal to 1, an error is\n",
        "raised.\n",
        "\n"
      ]
    },
    {
      "cell_type": "code",
      "metadata": {
        "id": "ZBV4zO8daJjV",
        "colab_type": "code",
        "outputId": "0a19beee-cbb6-412c-ce28-a27b8d14b688",
        "colab": {
          "base_uri": "https://localhost:8080/",
          "height": 102
        }
      },
      "source": [
        "M = np.ones((2, 3))\n",
        "a = np.arange(3)\n",
        "print(\"M = \", M)\n",
        "print(\"a = \", a)\n",
        "M + a"
      ],
      "execution_count": 0,
      "outputs": [
        {
          "output_type": "stream",
          "text": [
            "M =  [[1. 1. 1.]\n",
            " [1. 1. 1.]]\n",
            "a =  [0 1 2]\n"
          ],
          "name": "stdout"
        },
        {
          "output_type": "execute_result",
          "data": {
            "text/plain": [
              "array([[1., 2., 3.],\n",
              "       [1., 2., 3.]])"
            ]
          },
          "metadata": {
            "tags": []
          },
          "execution_count": 32
        }
      ]
    },
    {
      "cell_type": "code",
      "metadata": {
        "id": "HGwxEUJXcb02",
        "colab_type": "code",
        "outputId": "91db352d-6608-4fe6-b403-7a75c400815b",
        "colab": {
          "base_uri": "https://localhost:8080/",
          "height": 68
        }
      },
      "source": [
        "a = np.arange(3).reshape((3, 1))\n",
        "b = np.arange(3)\n",
        "a + b"
      ],
      "execution_count": 0,
      "outputs": [
        {
          "output_type": "execute_result",
          "data": {
            "text/plain": [
              "array([[0, 1, 2],\n",
              "       [1, 2, 3],\n",
              "       [2, 3, 4]])"
            ]
          },
          "metadata": {
            "tags": []
          },
          "execution_count": 33
        }
      ]
    },
    {
      "cell_type": "code",
      "metadata": {
        "id": "zC9QJ0IbciyY",
        "colab_type": "code",
        "outputId": "6f543d69-ad5b-4b31-a6a2-adbb9cc031da",
        "colab": {
          "base_uri": "https://localhost:8080/",
          "height": 214
        }
      },
      "source": [
        "M = np.ones((3, 2))\n",
        "a = np.arange(3)\n",
        "print(\"ERROR SHOULD BE GENERATED\")\n",
        "M + a"
      ],
      "execution_count": 0,
      "outputs": [
        {
          "output_type": "stream",
          "text": [
            "ERROR SHOULD BE GENERATED\n"
          ],
          "name": "stdout"
        },
        {
          "output_type": "error",
          "ename": "ValueError",
          "evalue": "ignored",
          "traceback": [
            "\u001b[0;31m---------------------------------------------------------------------------\u001b[0m",
            "\u001b[0;31mValueError\u001b[0m                                Traceback (most recent call last)",
            "\u001b[0;32m<ipython-input-34-a7544b0fd926>\u001b[0m in \u001b[0;36m<module>\u001b[0;34m()\u001b[0m\n\u001b[1;32m      2\u001b[0m \u001b[0ma\u001b[0m \u001b[0;34m=\u001b[0m \u001b[0mnp\u001b[0m\u001b[0;34m.\u001b[0m\u001b[0marange\u001b[0m\u001b[0;34m(\u001b[0m\u001b[0;36m3\u001b[0m\u001b[0;34m)\u001b[0m\u001b[0;34m\u001b[0m\u001b[0;34m\u001b[0m\u001b[0m\n\u001b[1;32m      3\u001b[0m \u001b[0mprint\u001b[0m\u001b[0;34m(\u001b[0m\u001b[0;34m\"ERROR SHOULD BE GENERATED\"\u001b[0m\u001b[0;34m)\u001b[0m\u001b[0;34m\u001b[0m\u001b[0;34m\u001b[0m\u001b[0m\n\u001b[0;32m----> 4\u001b[0;31m \u001b[0mM\u001b[0m \u001b[0;34m+\u001b[0m \u001b[0ma\u001b[0m\u001b[0;34m\u001b[0m\u001b[0;34m\u001b[0m\u001b[0m\n\u001b[0m",
            "\u001b[0;31mValueError\u001b[0m: operands could not be broadcast together with shapes (3,2) (3,) "
          ]
        }
      ]
    },
    {
      "cell_type": "code",
      "metadata": {
        "id": "vTf2GuancuUO",
        "colab_type": "code",
        "outputId": "8d6a57bf-ee23-4219-9c02-0fdeb437f123",
        "colab": {
          "base_uri": "https://localhost:8080/",
          "height": 68
        }
      },
      "source": [
        "a[:, np.newaxis].shape\n",
        "M + a[:, np.newaxis]"
      ],
      "execution_count": 0,
      "outputs": [
        {
          "output_type": "execute_result",
          "data": {
            "text/plain": [
              "array([[1., 1.],\n",
              "       [2., 2.],\n",
              "       [3., 3.]])"
            ]
          },
          "metadata": {
            "tags": []
          },
          "execution_count": 35
        }
      ]
    },
    {
      "cell_type": "code",
      "metadata": {
        "id": "ZlM5rCRZdAbc",
        "colab_type": "code",
        "outputId": "69aa7b68-824d-403b-9740-0f84ee83f35c",
        "colab": {
          "base_uri": "https://localhost:8080/",
          "height": 68
        }
      },
      "source": [
        "np.logaddexp(M, a[:, np.newaxis]) # broadcasting works with many other functions"
      ],
      "execution_count": 0,
      "outputs": [
        {
          "output_type": "execute_result",
          "data": {
            "text/plain": [
              "array([[1.31326169, 1.31326169],\n",
              "       [1.69314718, 1.69314718],\n",
              "       [2.31326169, 2.31326169]])"
            ]
          },
          "metadata": {
            "tags": []
          },
          "execution_count": 36
        }
      ]
    },
    {
      "cell_type": "markdown",
      "metadata": {
        "id": "QwTAZWe9eKnU",
        "colab_type": "text"
      },
      "source": [
        "##Broadcasting in Practice"
      ]
    },
    {
      "cell_type": "code",
      "metadata": {
        "id": "6YNMkAkBeLqi",
        "colab_type": "code",
        "colab": {}
      },
      "source": [
        "X = np.random.random((10, 3))"
      ],
      "execution_count": 0,
      "outputs": []
    },
    {
      "cell_type": "code",
      "metadata": {
        "id": "QN5zKkGkeZY7",
        "colab_type": "code",
        "outputId": "2467ff3c-6b07-4b52-9152-d161192a712a",
        "colab": {
          "base_uri": "https://localhost:8080/",
          "height": 34
        }
      },
      "source": [
        "Xmean = X.mean(0)\n",
        "Xmean"
      ],
      "execution_count": 0,
      "outputs": [
        {
          "output_type": "execute_result",
          "data": {
            "text/plain": [
              "array([0.38289324, 0.61142311, 0.30972624])"
            ]
          },
          "metadata": {
            "tags": []
          },
          "execution_count": 38
        }
      ]
    },
    {
      "cell_type": "code",
      "metadata": {
        "id": "w1JXoDpHecr4",
        "colab_type": "code",
        "outputId": "6e65757f-008d-4960-e08e-16006dc2b7bb",
        "colab": {
          "base_uri": "https://localhost:8080/",
          "height": 34
        }
      },
      "source": [
        "X_centered = X - Xmean\n",
        "X_centered.mean(0)"
      ],
      "execution_count": 0,
      "outputs": [
        {
          "output_type": "execute_result",
          "data": {
            "text/plain": [
              "array([ 0.00000000e+00, -3.33066907e-17,  2.22044605e-17])"
            ]
          },
          "metadata": {
            "tags": []
          },
          "execution_count": 39
        }
      ]
    },
    {
      "cell_type": "code",
      "metadata": {
        "id": "Y9CO9zEwelLI",
        "colab_type": "code",
        "outputId": "831cc78d-a609-48ca-edbc-685ded975459",
        "colab": {
          "base_uri": "https://localhost:8080/",
          "height": 274
        }
      },
      "source": [
        "# x and y have 50 steps from 0 to 5\n",
        "x = np.linspace(0, 5, 50)\n",
        "y = np.linspace(0, 5, 50)[:, np.newaxis]\n",
        "z = np.sin(x) ** 10 + np.cos(10 + y * x) * np.cos(x)\n",
        "\n",
        "%matplotlib inline\n",
        "import matplotlib.pyplot as plt\n",
        "\n",
        "plt.imshow(z, origin='lower', extent=[0, 5, 0, 5],\n",
        "cmap='viridis')\n",
        "plt.colorbar();"
      ],
      "execution_count": 0,
      "outputs": [
        {
          "output_type": "display_data",
          "data": {
            "image/png": "[encoded data removed]",
            "text/plain": [
              "<Figure size 432x288 with 2 Axes>"
            ]
          },
          "metadata": {
            "tags": []
          }
        }
      ]
    },
    {
      "cell_type": "markdown",
      "metadata": {
        "id": "wFAcdzTKkS-l",
        "colab_type": "text"
      },
      "source": [
        "#Comparisons, Masks, and Boolean Logic"
      ]
    },
    {
      "cell_type": "markdown",
      "metadata": {
        "id": "KKVOjoeNkVDE",
        "colab_type": "text"
      },
      "source": [
        "##Example: Obesity Rate"
      ]
    },
    {
      "cell_type": "code",
      "metadata": {
        "id": "cBfd0hEOkY45",
        "colab_type": "code",
        "outputId": "76c8ed07-b6cf-45eb-e60a-361097a63564",
        "colab": {
          "base_uri": "https://localhost:8080/",
          "height": 274
        }
      },
      "source": [
        "import numpy as np\n",
        "from vega_datasets import data\n",
        "\n",
        "d_obesity = data.obesity()\n",
        "d_rate = np.array(d_obesity['rate'])\n",
        "\n",
        "%matplotlib inline\n",
        "import matplotlib.pyplot as plt\n",
        "import seaborn; seaborn.set() # set plot styles\n",
        "plt.hist(d_rate, 10);"
      ],
      "execution_count": 24,
      "outputs": [
        {
          "output_type": "display_data",
          "data": {
            "image/png": "[encoded data removed]",
            "text/plain": [
              "<Figure size 432x288 with 1 Axes>"
            ]
          },
          "metadata": {
            "tags": []
          }
        }
      ]
    },
    {
      "cell_type": "markdown",
      "metadata": {
        "id": "AYA7KU4-r1io",
        "colab_type": "text"
      },
      "source": [
        "##Comparison Operators as ufuncs"
      ]
    },
    {
      "cell_type": "code",
      "metadata": {
        "id": "sNjp-Drsr6yF",
        "colab_type": "code",
        "outputId": "956fdd7d-bfb4-4ca0-ffec-8ec1b19aed6a",
        "colab": {
          "base_uri": "https://localhost:8080/",
          "height": 153
        }
      },
      "source": [
        "import numpy as np\n",
        "x = np.array([1, 2, 3, 4, 5])\n",
        "print(x)\n",
        "print(x < 3)  # less than\n",
        "print(x > 3)  # greater than\n",
        "print(x <= 3) # less than or equal\n",
        "print(x == 3) # equal \n",
        "print(x != 3) # not equal\n",
        "print(x >= 3) # greater than or equal \n",
        "print((2 * x) == (x ** 2))"
      ],
      "execution_count": 2,
      "outputs": [
        {
          "output_type": "stream",
          "text": [
            "[1 2 3 4 5]\n",
            "[ True  True False False False]\n",
            "[False False False  True  True]\n",
            "[ True  True  True False False]\n",
            "[False False  True False False]\n",
            "[ True  True False  True  True]\n",
            "[False False  True  True  True]\n",
            "[False  True False False False]\n"
          ],
          "name": "stdout"
        }
      ]
    },
    {
      "cell_type": "code",
      "metadata": {
        "id": "NVh1z_5Es8uT",
        "colab_type": "code",
        "outputId": "19d86c65-c5d1-4b6a-90a2-b7c150cf8b0d",
        "colab": {
          "base_uri": "https://localhost:8080/",
          "height": 68
        }
      },
      "source": [
        "rng = np.random.RandomState(0)\n",
        "x = rng.randint(10, size=(3, 4))\n",
        "x"
      ],
      "execution_count": 4,
      "outputs": [
        {
          "output_type": "execute_result",
          "data": {
            "text/plain": [
              "array([[5, 0, 3, 3],\n",
              "       [7, 9, 3, 5],\n",
              "       [2, 4, 7, 6]])"
            ]
          },
          "metadata": {
            "tags": []
          },
          "execution_count": 4
        }
      ]
    },
    {
      "cell_type": "code",
      "metadata": {
        "id": "SJ11Uvkjs-DR",
        "colab_type": "code",
        "outputId": "07da0dfd-95ab-422c-e329-7c742507d68a",
        "colab": {
          "base_uri": "https://localhost:8080/",
          "height": 68
        }
      },
      "source": [
        "x < 6"
      ],
      "execution_count": 0,
      "outputs": [
        {
          "output_type": "execute_result",
          "data": {
            "text/plain": [
              "array([[ True,  True,  True,  True],\n",
              "       [False, False,  True,  True],\n",
              "       [ True,  True, False, False]])"
            ]
          },
          "metadata": {
            "tags": []
          },
          "execution_count": 66
        }
      ]
    },
    {
      "cell_type": "markdown",
      "metadata": {
        "id": "4LowofYnvcXC",
        "colab_type": "text"
      },
      "source": [
        "##Working with Boolean Arrays"
      ]
    },
    {
      "cell_type": "code",
      "metadata": {
        "id": "rKOOXcY_vdmi",
        "colab_type": "code",
        "colab": {
          "base_uri": "https://localhost:8080/",
          "height": 68
        },
        "outputId": "9e7893a0-7d46-4df3-ef49-cb145723906f"
      },
      "source": [
        "print(x)"
      ],
      "execution_count": 5,
      "outputs": [
        {
          "output_type": "stream",
          "text": [
            "[[5 0 3 3]\n",
            " [7 9 3 5]\n",
            " [2 4 7 6]]\n"
          ],
          "name": "stdout"
        }
      ]
    },
    {
      "cell_type": "code",
      "metadata": {
        "id": "avF6Zq9nfws5",
        "colab_type": "code",
        "colab": {
          "base_uri": "https://localhost:8080/",
          "height": 34
        },
        "outputId": "e8a0eede-db1d-44ad-f8b1-d8d923bba21c"
      },
      "source": [
        "# how many values less than 6?\n",
        "np.count_nonzero(x < 6)"
      ],
      "execution_count": 6,
      "outputs": [
        {
          "output_type": "execute_result",
          "data": {
            "text/plain": [
              "8"
            ]
          },
          "metadata": {
            "tags": []
          },
          "execution_count": 6
        }
      ]
    },
    {
      "cell_type": "code",
      "metadata": {
        "id": "JgHetFd5f1xL",
        "colab_type": "code",
        "colab": {
          "base_uri": "https://localhost:8080/",
          "height": 34
        },
        "outputId": "b4580139-38b8-4516-9711-46453608695a"
      },
      "source": [
        "np.sum(x < 6)"
      ],
      "execution_count": 7,
      "outputs": [
        {
          "output_type": "execute_result",
          "data": {
            "text/plain": [
              "8"
            ]
          },
          "metadata": {
            "tags": []
          },
          "execution_count": 7
        }
      ]
    },
    {
      "cell_type": "code",
      "metadata": {
        "id": "a9M0uGYgf5d_",
        "colab_type": "code",
        "colab": {
          "base_uri": "https://localhost:8080/",
          "height": 34
        },
        "outputId": "b9a98ff6-1efe-4a83-ef3f-0f87eb70d23b"
      },
      "source": [
        "# how many values less than 6 in each row?\n",
        "np.sum(x < 6, axis=1)"
      ],
      "execution_count": 8,
      "outputs": [
        {
          "output_type": "execute_result",
          "data": {
            "text/plain": [
              "array([4, 2, 2])"
            ]
          },
          "metadata": {
            "tags": []
          },
          "execution_count": 8
        }
      ]
    },
    {
      "cell_type": "code",
      "metadata": {
        "id": "jrK66jGAf9ZK",
        "colab_type": "code",
        "colab": {
          "base_uri": "https://localhost:8080/",
          "height": 34
        },
        "outputId": "4cf72230-037a-42a3-d715-df0f5d060530"
      },
      "source": [
        "# are there any values greater than 8?\n",
        "np.any(x > 8)"
      ],
      "execution_count": 9,
      "outputs": [
        {
          "output_type": "execute_result",
          "data": {
            "text/plain": [
              "True"
            ]
          },
          "metadata": {
            "tags": []
          },
          "execution_count": 9
        }
      ]
    },
    {
      "cell_type": "code",
      "metadata": {
        "id": "-cnHlTEsgFmB",
        "colab_type": "code",
        "colab": {
          "base_uri": "https://localhost:8080/",
          "height": 34
        },
        "outputId": "d1423110-4f20-4b7b-bbb3-39572016eb6f"
      },
      "source": [
        "# are there any values less than zero?\n",
        "np.any(x < 0)"
      ],
      "execution_count": 10,
      "outputs": [
        {
          "output_type": "execute_result",
          "data": {
            "text/plain": [
              "False"
            ]
          },
          "metadata": {
            "tags": []
          },
          "execution_count": 10
        }
      ]
    },
    {
      "cell_type": "code",
      "metadata": {
        "id": "oZNLzYMVgJAg",
        "colab_type": "code",
        "colab": {
          "base_uri": "https://localhost:8080/",
          "height": 34
        },
        "outputId": "bf4987b9-5465-47f4-9b94-666c9312a8d9"
      },
      "source": [
        "# are all values less than 10?\n",
        "np.all(x < 10)"
      ],
      "execution_count": 11,
      "outputs": [
        {
          "output_type": "execute_result",
          "data": {
            "text/plain": [
              "True"
            ]
          },
          "metadata": {
            "tags": []
          },
          "execution_count": 11
        }
      ]
    },
    {
      "cell_type": "code",
      "metadata": {
        "id": "D_xK7NopgL-w",
        "colab_type": "code",
        "colab": {
          "base_uri": "https://localhost:8080/",
          "height": 34
        },
        "outputId": "4f55e19d-dab5-4a75-cbbf-448b30081335"
      },
      "source": [
        "# are all values equal to 6?\n",
        " np.all(x == 6)"
      ],
      "execution_count": 12,
      "outputs": [
        {
          "output_type": "execute_result",
          "data": {
            "text/plain": [
              "False"
            ]
          },
          "metadata": {
            "tags": []
          },
          "execution_count": 12
        }
      ]
    },
    {
      "cell_type": "code",
      "metadata": {
        "id": "JUHlilGpheHH",
        "colab_type": "code",
        "colab": {
          "base_uri": "https://localhost:8080/",
          "height": 34
        },
        "outputId": "318b5779-9427-4fb4-9052-815ef7a10438"
      },
      "source": [
        "# are all values in each row less than 8?\n",
        "np.all(x < 8, axis=1)"
      ],
      "execution_count": 13,
      "outputs": [
        {
          "output_type": "execute_result",
          "data": {
            "text/plain": [
              "array([ True, False,  True])"
            ]
          },
          "metadata": {
            "tags": []
          },
          "execution_count": 13
        }
      ]
    },
    {
      "cell_type": "code",
      "metadata": {
        "id": "i9mET0jEjda5",
        "colab_type": "code",
        "colab": {
          "base_uri": "https://localhost:8080/",
          "height": 51
        },
        "outputId": "c0c5a6ba-6d92-4e3b-974c-ff0a72c36f0a"
      },
      "source": [
        "import numpy as np\n",
        "from vega_datasets import data\n",
        "\n",
        "d_obesity = data.obesity()\n",
        "d_rate = np.array(d_obesity['rate'])\n",
        "\n",
        "print(np.sum((d_rate > 0.1) & (d_rate < 1.0)))\n",
        "print(np.sum(~( (d_rate <= 0.1) | (d_rate >= 1) )))"
      ],
      "execution_count": 29,
      "outputs": [
        {
          "output_type": "stream",
          "text": [
            "49\n",
            "49\n"
          ],
          "name": "stdout"
        }
      ]
    },
    {
      "cell_type": "code",
      "metadata": {
        "id": "oQxs1VAM0gQD",
        "colab_type": "code",
        "colab": {
          "base_uri": "https://localhost:8080/",
          "height": 85
        },
        "outputId": "547d27a8-efd0-4bb8-b94e-659368ce216c"
      },
      "source": [
        "print(\"Number states without obesity: \", np.sum(d_rate == 0))\n",
        "print(\"Number states with obesity: \", np.sum(d_rate != 0))\n",
        "print(\"States with more than 0.15 obesity rate:\", np.sum(d_rate > 0.15))\n",
        "print(\"States with < 0.15 obesity rate:\", np.sum((d_rate > 0) & (d_rate < 0.15)))"
      ],
      "execution_count": 33,
      "outputs": [
        {
          "output_type": "stream",
          "text": [
            "Number states without obesity:  0\n",
            "Number states with obesity:  50\n",
            "States with more than 0.15 obesity rate: 30\n",
            "States with < 0.15 obesity rate: 20\n"
          ],
          "name": "stdout"
        }
      ]
    },
    {
      "cell_type": "markdown",
      "metadata": {
        "id": "rCILRjEh1T3K",
        "colab_type": "text"
      },
      "source": [
        "##Boolean Arrays as Masks"
      ]
    },
    {
      "cell_type": "code",
      "metadata": {
        "id": "XmdoxPB91W2l",
        "colab_type": "code",
        "colab": {
          "base_uri": "https://localhost:8080/",
          "height": 68
        },
        "outputId": "c434a514-f50c-45e2-cacf-93dc8d224372"
      },
      "source": [
        "x"
      ],
      "execution_count": 34,
      "outputs": [
        {
          "output_type": "execute_result",
          "data": {
            "text/plain": [
              "array([[5, 0, 3, 3],\n",
              "       [7, 9, 3, 5],\n",
              "       [2, 4, 7, 6]])"
            ]
          },
          "metadata": {
            "tags": []
          },
          "execution_count": 34
        }
      ]
    },
    {
      "cell_type": "code",
      "metadata": {
        "id": "JJaEJ66L3-6r",
        "colab_type": "code",
        "colab": {
          "base_uri": "https://localhost:8080/",
          "height": 68
        },
        "outputId": "a8e2e350-6c63-4da4-d266-9c86650baa70"
      },
      "source": [
        "x < 5"
      ],
      "execution_count": 35,
      "outputs": [
        {
          "output_type": "execute_result",
          "data": {
            "text/plain": [
              "array([[False,  True,  True,  True],\n",
              "       [False, False,  True, False],\n",
              "       [ True,  True, False, False]])"
            ]
          },
          "metadata": {
            "tags": []
          },
          "execution_count": 35
        }
      ]
    },
    {
      "cell_type": "code",
      "metadata": {
        "id": "LiOlpA5w4Eba",
        "colab_type": "code",
        "colab": {
          "base_uri": "https://localhost:8080/",
          "height": 34
        },
        "outputId": "a40cd3de-e01c-4a0c-c71f-c27ff6978944"
      },
      "source": [
        "x[x < 5]"
      ],
      "execution_count": 36,
      "outputs": [
        {
          "output_type": "execute_result",
          "data": {
            "text/plain": [
              "array([0, 3, 3, 3, 2, 4])"
            ]
          },
          "metadata": {
            "tags": []
          },
          "execution_count": 36
        }
      ]
    },
    {
      "cell_type": "code",
      "metadata": {
        "id": "QiyLW8M7Cf6h",
        "colab_type": "code",
        "colab": {
          "base_uri": "https://localhost:8080/",
          "height": 85
        },
        "outputId": "1311ae3a-6774-425c-cdec-fb57ae203a93"
      },
      "source": [
        "import numpy as np\n",
        "from vega_datasets import data\n",
        "\n",
        "d_cars = data.cars()\n",
        "d_cars.head()\n",
        "d_weights = np.array(d_cars['Weight_in_lbs'])\n",
        "d_cylinders = np.array(d_cars['Cylinders'])\n",
        "d_power = np.array(d_cars['Horsepower'])\n",
        "\n",
        "d_heavy = (d_weights > 2500)\n",
        "d_four_cylinders = (d_cylinders == 4)\n",
        "\n",
        "# Nan values are present! Use special form of median and max\n",
        "print(\"Median power of heavy cars (horsepower): \",\n",
        " np.nanmedian(d_power[d_heavy]))\n",
        "print(\"Median power of four-cylinder cars (horsepower): \",\n",
        " np.nanmedian(d_power[d_four_cylinders]))\n",
        "print(\"Maximum power of heavy cars (horsepower): \",\n",
        " np.nanmax(d_power[d_heavy]))\n",
        "print(\"Median power of non-heavy four-cylinder cars (horsepower):\",\n",
        " np.nanmedian(d_power[d_four_cylinders & ~d_heavy]))"
      ],
      "execution_count": 50,
      "outputs": [
        {
          "output_type": "stream",
          "text": [
            "Median power of heavy cars (horsepower):  110.0\n",
            "Median power of four-cylinder cars (horsepower):  78.0\n",
            "Maximum power of heavy cars (horsepower):  230.0\n",
            "Median power of non-heavy four-cylinder cars (horsepower): 71.0\n"
          ],
          "name": "stdout"
        }
      ]
    },
    {
      "cell_type": "code",
      "metadata": {
        "id": "vAW1H1ttcdet",
        "colab_type": "code",
        "colab": {
          "base_uri": "https://localhost:8080/",
          "height": 34
        },
        "outputId": "bc7338af-476e-4e6d-f0e6-e7698a94b344"
      },
      "source": [
        "bool(42), bool(0)"
      ],
      "execution_count": 51,
      "outputs": [
        {
          "output_type": "execute_result",
          "data": {
            "text/plain": [
              "(True, False)"
            ]
          },
          "metadata": {
            "tags": []
          },
          "execution_count": 51
        }
      ]
    },
    {
      "cell_type": "code",
      "metadata": {
        "id": "RRJJFXFacyPy",
        "colab_type": "code",
        "colab": {
          "base_uri": "https://localhost:8080/",
          "height": 34
        },
        "outputId": "5bb205bc-3607-428d-abdc-d4b96639a008"
      },
      "source": [
        "bool(42 and 0)"
      ],
      "execution_count": 52,
      "outputs": [
        {
          "output_type": "execute_result",
          "data": {
            "text/plain": [
              "False"
            ]
          },
          "metadata": {
            "tags": []
          },
          "execution_count": 52
        }
      ]
    },
    {
      "cell_type": "code",
      "metadata": {
        "id": "r7pAKJhtc0VZ",
        "colab_type": "code",
        "colab": {
          "base_uri": "https://localhost:8080/",
          "height": 34
        },
        "outputId": "8a23861b-06d3-414b-d72b-a9b23827e612"
      },
      "source": [
        "bool(42 or 0)"
      ],
      "execution_count": 53,
      "outputs": [
        {
          "output_type": "execute_result",
          "data": {
            "text/plain": [
              "True"
            ]
          },
          "metadata": {
            "tags": []
          },
          "execution_count": 53
        }
      ]
    },
    {
      "cell_type": "code",
      "metadata": {
        "id": "zGj8pCi7c6iJ",
        "colab_type": "code",
        "colab": {
          "base_uri": "https://localhost:8080/",
          "height": 34
        },
        "outputId": "ec4ade01-a6a0-42a6-e221-31e02ccb5267"
      },
      "source": [
        "bin(42), bin(59)"
      ],
      "execution_count": 54,
      "outputs": [
        {
          "output_type": "execute_result",
          "data": {
            "text/plain": [
              "('0b101010', '0b111011')"
            ]
          },
          "metadata": {
            "tags": []
          },
          "execution_count": 54
        }
      ]
    },
    {
      "cell_type": "code",
      "metadata": {
        "id": "XXYCWON-c-Zi",
        "colab_type": "code",
        "colab": {
          "base_uri": "https://localhost:8080/",
          "height": 34
        },
        "outputId": "70115514-d049-43c6-ea94-3d848de5a56e"
      },
      "source": [
        "bin(42 & 59)"
      ],
      "execution_count": 55,
      "outputs": [
        {
          "output_type": "execute_result",
          "data": {
            "text/plain": [
              "'0b101010'"
            ]
          },
          "metadata": {
            "tags": []
          },
          "execution_count": 55
        }
      ]
    },
    {
      "cell_type": "code",
      "metadata": {
        "id": "j70QLoKjdBtp",
        "colab_type": "code",
        "colab": {
          "base_uri": "https://localhost:8080/",
          "height": 34
        },
        "outputId": "a1234022-95b9-4a9d-9b33-6a44eabec128"
      },
      "source": [
        "bin(42 | 59)"
      ],
      "execution_count": 56,
      "outputs": [
        {
          "output_type": "execute_result",
          "data": {
            "text/plain": [
              "'0b111011'"
            ]
          },
          "metadata": {
            "tags": []
          },
          "execution_count": 56
        }
      ]
    },
    {
      "cell_type": "code",
      "metadata": {
        "id": "dyBqmy9ddGnG",
        "colab_type": "code",
        "colab": {
          "base_uri": "https://localhost:8080/",
          "height": 34
        },
        "outputId": "591dc5f5-1ffc-4799-828d-90fae9a09d92"
      },
      "source": [
        "A = np.array([1, 0, 1, 0, 1, 0], dtype=bool)\n",
        "B = np.array([1, 1, 1, 0, 1, 1], dtype=bool)\n",
        "A | B"
      ],
      "execution_count": 57,
      "outputs": [
        {
          "output_type": "execute_result",
          "data": {
            "text/plain": [
              "array([ True,  True,  True, False,  True,  True])"
            ]
          },
          "metadata": {
            "tags": []
          },
          "execution_count": 57
        }
      ]
    },
    {
      "cell_type": "code",
      "metadata": {
        "id": "gljjV6o5dNXK",
        "colab_type": "code",
        "colab": {
          "base_uri": "https://localhost:8080/",
          "height": 197
        },
        "outputId": "abb50185-a06e-4096-a27b-90f2fc0c5329"
      },
      "source": [
        "print(\"ERROR SHOULD BE GENERATED\")\n",
        "A or B"
      ],
      "execution_count": 62,
      "outputs": [
        {
          "output_type": "stream",
          "text": [
            "ERROR SHOULD BE GENERATED\n"
          ],
          "name": "stdout"
        },
        {
          "output_type": "error",
          "ename": "ValueError",
          "evalue": "ignored",
          "traceback": [
            "\u001b[0;31m---------------------------------------------------------------------------\u001b[0m",
            "\u001b[0;31mValueError\u001b[0m                                Traceback (most recent call last)",
            "\u001b[0;32m<ipython-input-62-dd819bb9c30b>\u001b[0m in \u001b[0;36m<module>\u001b[0;34m()\u001b[0m\n\u001b[1;32m      1\u001b[0m \u001b[0mprint\u001b[0m\u001b[0;34m(\u001b[0m\u001b[0;34m\"ERROR SHOULD BE GENERATED\"\u001b[0m\u001b[0;34m)\u001b[0m\u001b[0;34m\u001b[0m\u001b[0;34m\u001b[0m\u001b[0m\n\u001b[0;32m----> 2\u001b[0;31m \u001b[0mA\u001b[0m \u001b[0;32mor\u001b[0m \u001b[0mB\u001b[0m\u001b[0;34m\u001b[0m\u001b[0;34m\u001b[0m\u001b[0m\n\u001b[0m",
            "\u001b[0;31mValueError\u001b[0m: The truth value of an array with more than one element is ambiguous. Use a.any() or a.all()"
          ]
        }
      ]
    },
    {
      "cell_type": "code",
      "metadata": {
        "id": "o1Wg25wRdVUi",
        "colab_type": "code",
        "colab": {
          "base_uri": "https://localhost:8080/",
          "height": 51
        },
        "outputId": "3f6e92de-84d1-463b-eda7-8161d3a3c89f"
      },
      "source": [
        "x = np.arange(10)\n",
        "(x > 4) & (x < 8)"
      ],
      "execution_count": 59,
      "outputs": [
        {
          "output_type": "execute_result",
          "data": {
            "text/plain": [
              "array([False, False, False, False, False,  True,  True,  True, False,\n",
              "       False])"
            ]
          },
          "metadata": {
            "tags": []
          },
          "execution_count": 59
        }
      ]
    },
    {
      "cell_type": "code",
      "metadata": {
        "id": "5rmbBb2OdYt7",
        "colab_type": "code",
        "colab": {
          "base_uri": "https://localhost:8080/",
          "height": 197
        },
        "outputId": "4c9253f9-e4f2-43cd-98c8-3938bf371407"
      },
      "source": [
        "print(\"ERROR SHOULD BE GENERATED\")\n",
        "(x > 4) and (x < 8)"
      ],
      "execution_count": 61,
      "outputs": [
        {
          "output_type": "stream",
          "text": [
            "ERROR SHOULD BE GENERATED\n"
          ],
          "name": "stdout"
        },
        {
          "output_type": "error",
          "ename": "ValueError",
          "evalue": "ignored",
          "traceback": [
            "\u001b[0;31m---------------------------------------------------------------------------\u001b[0m",
            "\u001b[0;31mValueError\u001b[0m                                Traceback (most recent call last)",
            "\u001b[0;32m<ipython-input-61-08b597d8cb80>\u001b[0m in \u001b[0;36m<module>\u001b[0;34m()\u001b[0m\n\u001b[1;32m      1\u001b[0m \u001b[0mprint\u001b[0m\u001b[0;34m(\u001b[0m\u001b[0;34m\"ERROR SHOULD BE GENERATED\"\u001b[0m\u001b[0;34m)\u001b[0m\u001b[0;34m\u001b[0m\u001b[0;34m\u001b[0m\u001b[0m\n\u001b[0;32m----> 2\u001b[0;31m \u001b[0;34m(\u001b[0m\u001b[0mx\u001b[0m \u001b[0;34m>\u001b[0m \u001b[0;36m4\u001b[0m\u001b[0;34m)\u001b[0m \u001b[0;32mand\u001b[0m \u001b[0;34m(\u001b[0m\u001b[0mx\u001b[0m \u001b[0;34m<\u001b[0m \u001b[0;36m8\u001b[0m\u001b[0;34m)\u001b[0m\u001b[0;34m\u001b[0m\u001b[0;34m\u001b[0m\u001b[0m\n\u001b[0m",
            "\u001b[0;31mValueError\u001b[0m: The truth value of an array with more than one element is ambiguous. Use a.any() or a.all()"
          ]
        }
      ]
    },
    {
      "cell_type": "markdown",
      "metadata": {
        "id": "jEs4MVMLdxB5",
        "colab_type": "text"
      },
      "source": [
        "#Fancy Indexing"
      ]
    },
    {
      "cell_type": "markdown",
      "metadata": {
        "id": "g8mBf72SdyY8",
        "colab_type": "text"
      },
      "source": [
        "##Exploring Fancy Indexing"
      ]
    },
    {
      "cell_type": "code",
      "metadata": {
        "id": "vyTn3T5Wd1-C",
        "colab_type": "code",
        "colab": {
          "base_uri": "https://localhost:8080/",
          "height": 34
        },
        "outputId": "970c1020-d21a-41ad-9716-e2be2f4a4d38"
      },
      "source": [
        "import numpy as np\n",
        "rand = np.random.RandomState(42)\n",
        "\n",
        "x = rand.randint(100, size=10)\n",
        "print(x)"
      ],
      "execution_count": 63,
      "outputs": [
        {
          "output_type": "stream",
          "text": [
            "[51 92 14 71 60 20 82 86 74 74]\n"
          ],
          "name": "stdout"
        }
      ]
    },
    {
      "cell_type": "code",
      "metadata": {
        "id": "L43FHwSNkS_S",
        "colab_type": "code",
        "colab": {
          "base_uri": "https://localhost:8080/",
          "height": 34
        },
        "outputId": "0bf7f0fe-7aac-40dc-870d-c0d5558890e8"
      },
      "source": [
        " [x[3], x[7], x[2]]"
      ],
      "execution_count": 67,
      "outputs": [
        {
          "output_type": "execute_result",
          "data": {
            "text/plain": [
              "[71, 86, 14]"
            ]
          },
          "metadata": {
            "tags": []
          },
          "execution_count": 67
        }
      ]
    },
    {
      "cell_type": "code",
      "metadata": {
        "id": "DXPKLESLnN7s",
        "colab_type": "code",
        "colab": {
          "base_uri": "https://localhost:8080/",
          "height": 34
        },
        "outputId": "a251b79d-c1f7-4bec-c636-450561763827"
      },
      "source": [
        "ind = [3, 7, 4]\n",
        "x[ind]"
      ],
      "execution_count": 68,
      "outputs": [
        {
          "output_type": "execute_result",
          "data": {
            "text/plain": [
              "array([71, 86, 60])"
            ]
          },
          "metadata": {
            "tags": []
          },
          "execution_count": 68
        }
      ]
    },
    {
      "cell_type": "code",
      "metadata": {
        "id": "xZaZw_nTnTpN",
        "colab_type": "code",
        "colab": {
          "base_uri": "https://localhost:8080/",
          "height": 51
        },
        "outputId": "e011c8e9-390e-467c-b9fa-72f50e56d2fc"
      },
      "source": [
        "ind = np.array([[3, 7], [4, 5]])\n",
        "x[ind]"
      ],
      "execution_count": 69,
      "outputs": [
        {
          "output_type": "execute_result",
          "data": {
            "text/plain": [
              "array([[71, 86],\n",
              "       [60, 20]])"
            ]
          },
          "metadata": {
            "tags": []
          },
          "execution_count": 69
        }
      ]
    },
    {
      "cell_type": "code",
      "metadata": {
        "id": "B9VoC7H8nYR4",
        "colab_type": "code",
        "colab": {
          "base_uri": "https://localhost:8080/",
          "height": 68
        },
        "outputId": "2e4c146d-1df2-4602-9b19-c15a5e05c861"
      },
      "source": [
        "X = np.arange(12).reshape((3, 4))\n",
        "X"
      ],
      "execution_count": 70,
      "outputs": [
        {
          "output_type": "execute_result",
          "data": {
            "text/plain": [
              "array([[ 0,  1,  2,  3],\n",
              "       [ 4,  5,  6,  7],\n",
              "       [ 8,  9, 10, 11]])"
            ]
          },
          "metadata": {
            "tags": []
          },
          "execution_count": 70
        }
      ]
    },
    {
      "cell_type": "code",
      "metadata": {
        "id": "T2YAVJhVniVc",
        "colab_type": "code",
        "colab": {
          "base_uri": "https://localhost:8080/",
          "height": 34
        },
        "outputId": "a9c8e827-8237-48ce-bb59-f0be6a098a63"
      },
      "source": [
        "row = np.array([0, 1, 2])\n",
        "col = np.array([2, 1, 3])\n",
        "X[row, col]"
      ],
      "execution_count": 71,
      "outputs": [
        {
          "output_type": "execute_result",
          "data": {
            "text/plain": [
              "array([ 2,  5, 11])"
            ]
          },
          "metadata": {
            "tags": []
          },
          "execution_count": 71
        }
      ]
    },
    {
      "cell_type": "markdown",
      "metadata": {
        "id": "yOnLX0oCnoCm",
        "colab_type": "text"
      },
      "source": [
        "**Note:** fancy indexing follows broadcasting rules"
      ]
    },
    {
      "cell_type": "code",
      "metadata": {
        "id": "ghK2mGZUnuTX",
        "colab_type": "code",
        "colab": {
          "base_uri": "https://localhost:8080/",
          "height": 68
        },
        "outputId": "bbcf547a-4a4c-4868-fc2e-2d3ec3c7174e"
      },
      "source": [
        "X[row[:, np.newaxis], col]"
      ],
      "execution_count": 72,
      "outputs": [
        {
          "output_type": "execute_result",
          "data": {
            "text/plain": [
              "array([[ 2,  1,  3],\n",
              "       [ 6,  5,  7],\n",
              "       [10,  9, 11]])"
            ]
          },
          "metadata": {
            "tags": []
          },
          "execution_count": 72
        }
      ]
    },
    {
      "cell_type": "code",
      "metadata": {
        "id": "ItAd3AKpn7tR",
        "colab_type": "code",
        "colab": {
          "base_uri": "https://localhost:8080/",
          "height": 68
        },
        "outputId": "15ed7c31-6ec9-4f7f-d283-2e9da7e29608"
      },
      "source": [
        "row[:, np.newaxis] * col"
      ],
      "execution_count": 73,
      "outputs": [
        {
          "output_type": "execute_result",
          "data": {
            "text/plain": [
              "array([[0, 0, 0],\n",
              "       [2, 1, 3],\n",
              "       [4, 2, 6]])"
            ]
          },
          "metadata": {
            "tags": []
          },
          "execution_count": 73
        }
      ]
    },
    {
      "cell_type": "markdown",
      "metadata": {
        "id": "EowJamjin9S6",
        "colab_type": "text"
      },
      "source": [
        "##Combined Indexing"
      ]
    },
    {
      "cell_type": "code",
      "metadata": {
        "id": "Fbn-vVhXoAFR",
        "colab_type": "code",
        "colab": {
          "base_uri": "https://localhost:8080/",
          "height": 68
        },
        "outputId": "94be093a-941c-4bbb-d4be-f5e21755d889"
      },
      "source": [
        "import numpy as np\n",
        "rand = np.random.RandomState(42)\n",
        "\n",
        "X = np.arange(12).reshape((3, 4))\n",
        "X"
      ],
      "execution_count": 74,
      "outputs": [
        {
          "output_type": "execute_result",
          "data": {
            "text/plain": [
              "array([[ 0,  1,  2,  3],\n",
              "       [ 4,  5,  6,  7],\n",
              "       [ 8,  9, 10, 11]])"
            ]
          },
          "metadata": {
            "tags": []
          },
          "execution_count": 74
        }
      ]
    },
    {
      "cell_type": "code",
      "metadata": {
        "id": "qWBlngYZ6b-N",
        "colab_type": "code",
        "colab": {
          "base_uri": "https://localhost:8080/",
          "height": 34
        },
        "outputId": "11d9472d-b49d-4f47-afd7-b1ba0e7d4912"
      },
      "source": [
        "X[2, [2, 0, 1]] #  fancy and simple indices"
      ],
      "execution_count": 75,
      "outputs": [
        {
          "output_type": "execute_result",
          "data": {
            "text/plain": [
              "array([10,  8,  9])"
            ]
          },
          "metadata": {
            "tags": []
          },
          "execution_count": 75
        }
      ]
    },
    {
      "cell_type": "code",
      "metadata": {
        "id": "0UbeJLot6fjK",
        "colab_type": "code",
        "colab": {
          "base_uri": "https://localhost:8080/",
          "height": 51
        },
        "outputId": "f4d0becb-049c-4085-9045-cb62a0017fa3"
      },
      "source": [
        "X[1:, [2, 0, 1]] # fancy indexing with slicing"
      ],
      "execution_count": 76,
      "outputs": [
        {
          "output_type": "execute_result",
          "data": {
            "text/plain": [
              "array([[ 6,  4,  5],\n",
              "       [10,  8,  9]])"
            ]
          },
          "metadata": {
            "tags": []
          },
          "execution_count": 76
        }
      ]
    },
    {
      "cell_type": "code",
      "metadata": {
        "id": "0smmm72i6mmc",
        "colab_type": "code",
        "colab": {
          "base_uri": "https://localhost:8080/",
          "height": 68
        },
        "outputId": "769ad622-36cf-4590-ea27-5c9df180c5a5"
      },
      "source": [
        "mask = np.array([1, 0, 1, 0], dtype=bool)\n",
        "X[row[:, np.newaxis], mask] # fancy indexing with masking"
      ],
      "execution_count": 77,
      "outputs": [
        {
          "output_type": "execute_result",
          "data": {
            "text/plain": [
              "array([[ 0,  2],\n",
              "       [ 4,  6],\n",
              "       [ 8, 10]])"
            ]
          },
          "metadata": {
            "tags": []
          },
          "execution_count": 77
        }
      ]
    },
    {
      "cell_type": "markdown",
      "metadata": {
        "id": "MaSBbH4S6tsg",
        "colab_type": "text"
      },
      "source": [
        "##Example: Selecting Random Points"
      ]
    },
    {
      "cell_type": "code",
      "metadata": {
        "id": "BPA6bhf76u07",
        "colab_type": "code",
        "colab": {
          "base_uri": "https://localhost:8080/",
          "height": 34
        },
        "outputId": "3a3f9525-92f8-4fa9-c4e4-31de1c26b378"
      },
      "source": [
        "mean = [0, 0]\n",
        "cov = [[1, 2],\n",
        "[2, 5]]\n",
        "X = rand.multivariate_normal(mean, cov, 100)\n",
        "X.shape"
      ],
      "execution_count": 78,
      "outputs": [
        {
          "output_type": "execute_result",
          "data": {
            "text/plain": [
              "(100, 2)"
            ]
          },
          "metadata": {
            "tags": []
          },
          "execution_count": 78
        }
      ]
    },
    {
      "cell_type": "code",
      "metadata": {
        "id": "mW_sS21560PT",
        "colab_type": "code",
        "colab": {
          "base_uri": "https://localhost:8080/",
          "height": 274
        },
        "outputId": "3dca2cc7-4841-4107-b826-347f7181f5ea"
      },
      "source": [
        "%matplotlib inline\n",
        "import matplotlib.pyplot as plt\n",
        "import seaborn; seaborn.set() # for plot styling\n",
        "plt.scatter(X[:, 0], X[:, 1]);"
      ],
      "execution_count": 79,
      "outputs": [
        {
          "output_type": "display_data",
          "data": {
            "image/png": "[encoded data removed]",
            "text/plain": [
              "<Figure size 432x288 with 1 Axes>"
            ]
          },
          "metadata": {
            "tags": []
          }
        }
      ]
    },
    {
      "cell_type": "code",
      "metadata": {
        "id": "59YTAMUl682S",
        "colab_type": "code",
        "colab": {
          "base_uri": "https://localhost:8080/",
          "height": 51
        },
        "outputId": "e3848920-4f10-446b-c06f-d6097dbf134f"
      },
      "source": [
        "indices = np.random.choice(X.shape[0], 20, replace=False)\n",
        "indices"
      ],
      "execution_count": 80,
      "outputs": [
        {
          "output_type": "execute_result",
          "data": {
            "text/plain": [
              "array([99, 51, 52, 18, 98, 92,  2, 73, 30, 45, 33, 24, 13, 89, 61, 29, 37,\n",
              "       22, 81, 77])"
            ]
          },
          "metadata": {
            "tags": []
          },
          "execution_count": 80
        }
      ]
    },
    {
      "cell_type": "code",
      "metadata": {
        "id": "ThuP1fLn6-Fb",
        "colab_type": "code",
        "colab": {
          "base_uri": "https://localhost:8080/",
          "height": 34
        },
        "outputId": "a73f2e8b-aa54-427b-bd83-9455df9948d5"
      },
      "source": [
        "selection = X[indices] # fancy indexing here\n",
        "selection.shape"
      ],
      "execution_count": 81,
      "outputs": [
        {
          "output_type": "execute_result",
          "data": {
            "text/plain": [
              "(20, 2)"
            ]
          },
          "metadata": {
            "tags": []
          },
          "execution_count": 81
        }
      ]
    },
    {
      "cell_type": "code",
      "metadata": {
        "id": "qokXytip7HfW",
        "colab_type": "code",
        "colab": {
          "base_uri": "https://localhost:8080/",
          "height": 274
        },
        "outputId": "7ca1d0fd-6984-431a-ad6b-49f573e04754"
      },
      "source": [
        "plt.scatter(X[:, 0], X[:, 1], alpha=1.0)\n",
        "plt.scatter(selection[:, 0], selection[:, 1], facecolor='red', s=200, alpha=0.2);"
      ],
      "execution_count": 89,
      "outputs": [
        {
          "output_type": "display_data",
          "data": {
            "image/png": "[encoded data removed]",
            "text/plain": [
              "<Figure size 432x288 with 1 Axes>"
            ]
          },
          "metadata": {
            "tags": []
          }
        }
      ]
    },
    {
      "cell_type": "markdown",
      "metadata": {
        "id": "MpJSXdv-7x5z",
        "colab_type": "text"
      },
      "source": [
        "##Modifying Values with Fancy Indexing"
      ]
    },
    {
      "cell_type": "code",
      "metadata": {
        "id": "cL4jMEb_7zBQ",
        "colab_type": "code",
        "colab": {
          "base_uri": "https://localhost:8080/",
          "height": 34
        },
        "outputId": "354a81c1-2abf-401b-ac0f-9013fa7082f2"
      },
      "source": [
        "x = np.arange(10)\n",
        "i = np.array([2, 1, 8, 4])\n",
        "x[i] = 99\n",
        "print(x)"
      ],
      "execution_count": 90,
      "outputs": [
        {
          "output_type": "stream",
          "text": [
            "[ 0 99 99  3 99  5  6  7 99  9]\n"
          ],
          "name": "stdout"
        }
      ]
    },
    {
      "cell_type": "code",
      "metadata": {
        "id": "AU0Rl9xX9Jxo",
        "colab_type": "code",
        "colab": {
          "base_uri": "https://localhost:8080/",
          "height": 34
        },
        "outputId": "4ebb0480-6211-4a42-efa9-67a53a6bcde7"
      },
      "source": [
        "x[i] -= 10\n",
        "print(x)"
      ],
      "execution_count": 91,
      "outputs": [
        {
          "output_type": "stream",
          "text": [
            "[ 0 89 89  3 89  5  6  7 89  9]\n"
          ],
          "name": "stdout"
        }
      ]
    },
    {
      "cell_type": "code",
      "metadata": {
        "id": "lo_kJWQS9dXV",
        "colab_type": "code",
        "colab": {
          "base_uri": "https://localhost:8080/",
          "height": 34
        },
        "outputId": "fe0b986c-c04b-45d6-d317-aa3f7eef6e01"
      },
      "source": [
        "x = np.zeros(10)\n",
        "x[[0, 0]] = [4, 6] # note: ~ x[0] = 4, followed by x[0] = 6\n",
        "print(x)"
      ],
      "execution_count": 92,
      "outputs": [
        {
          "output_type": "stream",
          "text": [
            "[6. 0. 0. 0. 0. 0. 0. 0. 0. 0.]\n"
          ],
          "name": "stdout"
        }
      ]
    },
    {
      "cell_type": "code",
      "metadata": {
        "id": "6A74zb3W9m7v",
        "colab_type": "code",
        "colab": {
          "base_uri": "https://localhost:8080/",
          "height": 34
        },
        "outputId": "5961eb65-1d15-4ed4-94d2-04907c2e7bfa"
      },
      "source": [
        "i = [2, 3, 3, 4, 4, 4]\n",
        "x[i] += 1 # note: x[i] += 1 ~ x[i] = x[i] + 1, NO ACCUMULATION\n",
        "x"
      ],
      "execution_count": 93,
      "outputs": [
        {
          "output_type": "execute_result",
          "data": {
            "text/plain": [
              "array([6., 0., 1., 1., 1., 0., 0., 0., 0., 0.])"
            ]
          },
          "metadata": {
            "tags": []
          },
          "execution_count": 93
        }
      ]
    },
    {
      "cell_type": "code",
      "metadata": {
        "id": "atT0oZMS94kd",
        "colab_type": "code",
        "colab": {
          "base_uri": "https://localhost:8080/",
          "height": 34
        },
        "outputId": "07a7a753-257d-4708-c37b-b1c2ada9a5c3"
      },
      "source": [
        "x = np.zeros(10)\n",
        "np.add.at(x, i, 1) # if accumulation is needed\n",
        "print(x)"
      ],
      "execution_count": 94,
      "outputs": [
        {
          "output_type": "stream",
          "text": [
            "[0. 0. 1. 2. 3. 0. 0. 0. 0. 0.]\n"
          ],
          "name": "stdout"
        }
      ]
    },
    {
      "cell_type": "markdown",
      "metadata": {
        "id": "qUjJ6UqI-RnC",
        "colab_type": "text"
      },
      "source": [
        "##Example: Binning Data"
      ]
    },
    {
      "cell_type": "code",
      "metadata": {
        "id": "2SMKhZAv-PSd",
        "colab_type": "code",
        "colab": {
          "base_uri": "https://localhost:8080/",
          "height": 274
        },
        "outputId": "b5c44673-1736-4dec-f761-c38ce216b4e0"
      },
      "source": [
        "np.random.seed(42)\n",
        "x = np.random.randn(100)\n",
        "# compute a histogram by hand\n",
        "bins = np.linspace(-5, 5, 20)\n",
        "counts = np.zeros_like(bins)\n",
        "# find the appropriate bin for each x\n",
        "i = np.searchsorted(bins, x)\n",
        "# add 1 to each of these bins\n",
        "np.add.at(counts, i, 1)\n",
        "# plot the results\n",
        "plt.plot(bins, counts, linestyle='steps');"
      ],
      "execution_count": 95,
      "outputs": [
        {
          "output_type": "display_data",
          "data": {
            "image/png": "[encoded data removed]",
            "text/plain": [
              "<Figure size 432x288 with 1 Axes>"
            ]
          },
          "metadata": {
            "tags": []
          }
        }
      ]
    },
    {
      "cell_type": "code",
      "metadata": {
        "id": "lUB-GKLmBd1J",
        "colab_type": "code",
        "colab": {
          "base_uri": "https://localhost:8080/",
          "height": 274
        },
        "outputId": "0ed9f27c-8a68-4186-ffe7-5bf060009fca"
      },
      "source": [
        "plt.hist(x, bins, histtype='step'); # standard way"
      ],
      "execution_count": 96,
      "outputs": [
        {
          "output_type": "display_data",
          "data": {
            "image/png": "[encoded data removed]",
            "text/plain": [
              "<Figure size 432x288 with 1 Axes>"
            ]
          },
          "metadata": {
            "tags": []
          }
        }
      ]
    },
    {
      "cell_type": "code",
      "metadata": {
        "id": "_0M9UX_nBioJ",
        "colab_type": "code",
        "colab": {
          "base_uri": "https://localhost:8080/",
          "height": 119
        },
        "outputId": "02944e73-b0cb-4864-f0d5-6634c8fdcba3"
      },
      "source": [
        "# small size\n",
        "print(\"NumPy routine:\")\n",
        "%timeit counts, edges = np.histogram(x, bins)\n",
        "print(\"Custom routine:\")\n",
        "%timeit np.add.at(counts, np.searchsorted(bins, x), 1)"
      ],
      "execution_count": 97,
      "outputs": [
        {
          "output_type": "stream",
          "text": [
            "NumPy routine:\n",
            "The slowest run took 50.77 times longer than the fastest. This could mean that an intermediate result is being cached.\n",
            "10000 loops, best of 3: 23.3 µs per loop\n",
            "Custom routine:\n",
            "The slowest run took 6.41 times longer than the fastest. This could mean that an intermediate result is being cached.\n",
            "100000 loops, best of 3: 14.6 µs per loop\n"
          ],
          "name": "stdout"
        }
      ]
    },
    {
      "cell_type": "code",
      "metadata": {
        "id": "iGqwupf1BtJB",
        "colab_type": "code",
        "colab": {
          "base_uri": "https://localhost:8080/",
          "height": 85
        },
        "outputId": "8b670f1c-ce92-4333-c160-e8822f3f5e13"
      },
      "source": [
        "# large size\n",
        "x = np.random.randn(1000000)\n",
        "print(\"NumPy routine:\")\n",
        "%timeit counts, edges = np.histogram(x, bins)\n",
        "print(\"Custom routine:\")\n",
        "%timeit np.add.at(counts, np.searchsorted(bins, x), 1)"
      ],
      "execution_count": 98,
      "outputs": [
        {
          "output_type": "stream",
          "text": [
            "NumPy routine:\n",
            "10 loops, best of 3: 82.2 ms per loop\n",
            "Custom routine:\n",
            "10 loops, best of 3: 123 ms per loop\n"
          ],
          "name": "stdout"
        }
      ]
    },
    {
      "cell_type": "markdown",
      "metadata": {
        "id": "dIt5hPmLB4A1",
        "colab_type": "text"
      },
      "source": [
        "#Sorting Arrays"
      ]
    },
    {
      "cell_type": "code",
      "metadata": {
        "id": "VrbFGVY4B8h0",
        "colab_type": "code",
        "colab": {
          "base_uri": "https://localhost:8080/",
          "height": 34
        },
        "outputId": "6e67ed85-eb33-47d2-9965-1540ae5e1364"
      },
      "source": [
        "import numpy as np\n",
        "\n",
        "def selection_sort(x):\n",
        "  for i in range(len(x)):\n",
        "    swap = i + np.argmin(x[i:])\n",
        "    (x[i], x[swap]) = (x[swap], x[i])\n",
        "  return x\n",
        "\n",
        "x = np.array([2, 1, 4, 3, 5])\n",
        "selection_sort(x)"
      ],
      "execution_count": 100,
      "outputs": [
        {
          "output_type": "execute_result",
          "data": {
            "text/plain": [
              "array([1, 2, 3, 4, 5])"
            ]
          },
          "metadata": {
            "tags": []
          },
          "execution_count": 100
        }
      ]
    }
  ]
}