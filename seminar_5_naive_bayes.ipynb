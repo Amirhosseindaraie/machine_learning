{
  "nbformat": 4,
  "nbformat_minor": 0,
  "metadata": {
    "colab": {
      "name": "seminar_4.5_statistics.ipynb",
      "provenance": [],
      "machine_shape": "hm",
      "include_colab_link": true
    },
    "kernelspec": {
      "name": "python3",
      "display_name": "Python 3"
    }
  },
  "cells": [
    {
      "cell_type": "markdown",
      "metadata": {
        "id": "view-in-github",
        "colab_type": "text"
      },
      "source": [
        "<a href=\"https://colab.research.google.com/github/fbeilstein/machine_learning/blob/master/seminar_5_naive_bayes.ipynb\" target=\"_parent\"><img src=\"https://colab.research.google.com/assets/colab-badge.svg\" alt=\"Open In Colab\"/></a>"
      ]
    },
    {
      "cell_type": "markdown",
      "metadata": {
        "id": "oD6O72hfJaYj",
        "colab_type": "text"
      },
      "source": [
        "#Estimating $P(C_k)$"
      ]
    },
    {
      "cell_type": "markdown",
      "metadata": {
        "id": "jUgepi7XIr-T",
        "colab_type": "text"
      },
      "source": [
        "Suppose in a training set there are 15 documents labeled $C_1=\"Physics\"$, 25 documents labeled $C_2=\"Economics\"$ and $C_3=\"Religion\"$.\n",
        "\n",
        "Estimate $P(C_k)$ using MLE (emphirical frequencies)."
      ]
    },
    {
      "cell_type": "markdown",
      "metadata": {
        "id": "_RToFZMcynz4",
        "colab_type": "text"
      },
      "source": [
        "#Multinomial model parameters estimation\n",
        "\n",
        "Suppose your dictionary contains words $\\{\"position\", \"velocity\", \"stocks\"\\}$.\n",
        "Suppose you have $3$ documents labeled as $\"Physics\"$.\n",
        "\n",
        "Your 1st document contains \n",
        "\n",
        "* word \"position\" $x_1=0$ times\n",
        "* word \"velocity\" $x_2=1$ times\n",
        "* word \"stocks\" $x_3=0$ times.\n",
        "\n",
        "Your 2nd document contains \n",
        "\n",
        "* word \"position\" $x_1=0$ times\n",
        "* word \"velocity\" $x_2=1$ times\n",
        "* word \"stocks\" $x_3=0$ times.\n",
        "\n",
        "Your 3rd document contains \n",
        "\n",
        "* word \"position\" $x_1=3$ times\n",
        "* word \"velocity\" $x_2=0$ times\n",
        "* word \"stocks\" $x_3=0$ times.\n",
        "\n",
        "Suppose you adopt multinomial model for word occurence\n",
        "\n",
        "$$\n",
        "P(\\{x_1,x_2,x_3\\}|\"Phycics\")=\\frac{(x_1+x_2+x_3)!}{x_1!x_2!x_3!} p_{1}^{x_1}p_{2}^{x_2}p_{3}^{x_3}\n",
        "$$\n",
        "\n",
        "With given data use emphirical frequency (with smoothing $\\alpha=0.1$) to estimate model parameters $p_1,p_2,p_3$ and verify that $p_1+p_2+p_3=1$.\n",
        "\n",
        "Note: You can aggregate counts in our three documents to get \n",
        "\n",
        "* word \"position\" $x_1=3$ times\n",
        "* word \"velocity\" $x_2=2$ times\n",
        "* word \"stocks\" $x_3=0$ times.\n",
        "\n",
        "\n"
      ]
    },
    {
      "cell_type": "markdown",
      "metadata": {
        "id": "z0QmC1-e2vfg",
        "colab_type": "text"
      },
      "source": [
        "##Solution:"
      ]
    },
    {
      "cell_type": "markdown",
      "metadata": {
        "id": "c30hNdDFz8Vm",
        "colab_type": "text"
      },
      "source": [
        "We have $K=3$ features ($3$ words in the vocabulary) and $n=5$ trials.\n",
        "\n",
        "\n",
        "$$\n",
        "p_i=\\frac{n_i+ \\alpha}{N+K \\alpha}.\n",
        "$$\n",
        "\n",
        "So\n",
        "\n",
        "$$\n",
        "\\begin{aligned}\n",
        "p_1&=\\frac{n_1+ \\alpha}{n+K \\alpha}=\\frac{3+ 0.1}{5+3 \\times 0.1}=0.58, \\\\\n",
        "p_2&=\\frac{n_2+ \\alpha}{n+K \\alpha}=\\frac{2+ 0.1}{5+3 \\times 0.1}=0.4, \\\\\n",
        "p_3&=\\frac{n_3+ \\alpha}{n+K \\alpha}=\\frac{0+ 0.1}{5+3 \\times 0.1}=0.02.\n",
        "\\end{aligned}\n",
        "$$\n",
        "\n",
        "We see that\n",
        "\n",
        "$$\n",
        "p_1+p_2+p_3=0.58+0.4+0.02=1.\n",
        "$$\n",
        "\n"
      ]
    },
    {
      "cell_type": "markdown",
      "metadata": {
        "id": "kSuCoZfNIXBw",
        "colab_type": "text"
      },
      "source": [
        "#Multivariate Bernoulli model parameters estimation"
      ]
    },
    {
      "cell_type": "markdown",
      "metadata": {
        "id": "jp6UKd7w38PH",
        "colab_type": "text"
      },
      "source": [
        "In the previos setup adopt multivariate Bernoulli model. \n",
        "Now we need to count not total number of occurencies in all documents but rather number of documents in which the word occurs.\n",
        "\n",
        "* word \"position\" is present in $2$ documents\n",
        "* word \"velocity\" is present in $2$ documents\n",
        "* word \"stocks\" $x_3=0$ times.\n",
        "\n",
        "The model \n",
        "\n",
        "$$\n",
        "P(\\{x_1,x_2,x_3\\})= p_{1}^{x_1}(1-p_1)^{1-x_1} \\times p_{2}^{x_2}(1-p_2)^{1-x_2} \\times p_{3}^{x_3}(1-p_3)^{1-x_3}\n",
        "$$\n",
        "\n",
        "where $x_i$ is either $0$ or $1$ (i.e. the word is either present in the document or not).\n",
        "\n",
        "With given data use emphirical frequency (with smoothing $\\alpha=0.1$) to estimate model parameters $p_1,p_2,p_3$ and verify that $p_1+p_2+p_3=1$.\n",
        "\n"
      ]
    },
    {
      "cell_type": "markdown",
      "metadata": {
        "id": "98bLnOnwMr9X",
        "colab_type": "text"
      },
      "source": [
        "##Solution"
      ]
    },
    {
      "cell_type": "markdown",
      "metadata": {
        "id": "u_jzP0KJMqQm",
        "colab_type": "text"
      },
      "source": [
        "$$\n",
        "\\begin{aligned}\n",
        "p_1&=\\frac{n_1+ \\alpha}{n+K \\alpha}=\\frac{2+ 0.1}{4+3 \\times 0.1}=0.49, \\\\\n",
        "p_2&=\\frac{n_2+ \\alpha}{n+K \\alpha}=\\frac{2+ 0.1}{4+3 \\times 0.1}=0.49, \\\\\n",
        "p_3&=\\frac{n_3+ \\alpha}{n+K \\alpha}=\\frac{0+ 0.1}{4+3 \\times 0.1}=0.02.\n",
        "\\end{aligned}\n",
        "$$\n"
      ]
    },
    {
      "cell_type": "code",
      "metadata": {
        "id": "rwBN-7ZzV6gH",
        "colab_type": "code",
        "colab": {}
      },
      "source": [
        "categories=[\"Physics\", \"Economy\", \"Religion\"]\n",
        "\n",
        "P=[\"In Newtonian mechanics, linear momentum, translational momentum, or simply momentum (pl. momenta) is the product of the mass and velocity of an object.\",\n",
        "   \"A neutrino (denoted by the Greek letter ν) is a fermion (an elementary particle with half-integer spin) that interacts only via the weak subatomic force and gravity.\",\n",
        "   \"In physics, the center of mass of a distribution of mass in space is the unique point where the weighted relative position of the distributed mass sums to zero. This is the point to which a force may be applied to cause a linear acceleration without an angular acceleration.\"]\n",
        "\n",
        "E=[\"Money is any item or verifiable record that is generally accepted as payment for goods and services and repayment of debts, such as taxes, in a particular country or socio-economic context.\",\n",
        "   \"Originally money was a form of receipt, representing grain stored in temple granaries in Sumer in ancient Mesopotamia and later in Ancient Egypt. In this first stage of currency, metals were used as symbols to represent value stored in the form of commodities. \",\n",
        "   \"In economics, inflation is a increase in the general price level of goods and services in an economy over a period of time. When the general price level rises, each unit of currency buys fewer goods and services; consequently, inflation reflects a reduction in the purchasing power per unit of money – a loss of real value in the medium of exchange and unit of account within the economy.\"]\n",
        "\n",
        "R=[\"Christianity is an Abrahamic monotheistic religion based on the life and teachings of Jesus of Nazareth. Its adherents, known as Christians, believe that Jesus is the Christ, the Son of God, and the savior of all people, whose coming as the Messiah was prophesied in the Hebrew Bible, called the Old Testament in Christianity, and chronicled in the New Testament.\",\n",
        "   \"Traditionalist Catholicism is a set of religious beliefs made up of the customs, traditions, liturgical forms, public, private and group devotions, and presentations of the teaching of the Catholic Church before the Second Vatican Council\",\n",
        "   \"Most modern scholars believe that John the Baptist performed a baptism on Jesus, and view it as a historical event to which a high degree of certainty can be assigned.\"]\n",
        "\n",
        "from sklearn.feature_extraction.text import TfidfVectorizer\n",
        "from sklearn.naive_bayes import MultinomialNB\n",
        "from sklearn.pipeline import make_pipeline\n",
        "\n",
        "model = make_pipeline(TfidfVectorizer(), MultinomialNB())\n",
        "model.fit(training_set.data, training_set.target)\n"
      ],
      "execution_count": 0,
      "outputs": []
    },
    {
      "cell_type": "code",
      "metadata": {
        "id": "6oVu0E3eYEOe",
        "colab_type": "code",
        "colab": {}
      },
      "source": [
        ""
      ],
      "execution_count": 0,
      "outputs": []
    }
  ]
}