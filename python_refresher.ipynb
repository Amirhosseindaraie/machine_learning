{
  "nbformat": 4,
  "nbformat_minor": 0,
  "metadata": {
    "colab": {
      "name": "python_refresher.ipynb",
      "provenance": [],
      "include_colab_link": true
    },
    "kernelspec": {
      "name": "python3",
      "display_name": "Python 3"
    }
  },
  "cells": [
    {
      "cell_type": "markdown",
      "metadata": {
        "id": "view-in-github",
        "colab_type": "text"
      },
      "source": [
        "<a href=\"https://colab.research.google.com/github/fbeilstein/machine_learning/blob/master/python_refresher.ipynb\" target=\"_parent\"><img src=\"https://colab.research.google.com/assets/colab-badge.svg\" alt=\"Open In Colab\"/></a>"
      ]
    },
    {
      "cell_type": "markdown",
      "metadata": {
        "id": "2j2uJUHH-VD1",
        "colab_type": "text"
      },
      "source": [
        "# Why Python?"
      ]
    },
    {
      "cell_type": "markdown",
      "metadata": {
        "id": "-6gvpj-5-Y6U",
        "colab_type": "text"
      },
      "source": [
        "* Program portability (e.g. Linux-Windows)\n",
        "* Support libraries (e.g. NumPy)\n",
        "* Component integration (e.g. C++, CORBA, SOAP)\n",
        "* Easy to learn\n",
        "\n",
        "**downsides:** speed"
      ]
    },
    {
      "cell_type": "markdown",
      "metadata": {
        "id": "TvrmAESCALQt",
        "colab_type": "text"
      },
      "source": [
        "**Usages:**\n",
        "\n",
        "* System-administration tools and utilities (sometimes called shell tools)\n",
        "* GUIs (tkinter, QT, etc.)\n",
        "* Internet Scripting (e.g. Django)\n",
        "* Database Programming (e.g. MySQL), map relational tables onto Python’s class model (e.g. SQLAlchemy)\n",
        "* Rapid Prototyping\n",
        "* Numeric and Scientific Programming (NumPy, SciPy, etc.)"
      ]
    },
    {
      "cell_type": "markdown",
      "metadata": {
        "id": "v3nOATS5HV2N",
        "colab_type": "text"
      },
      "source": [
        "**Under the hood**\n",
        "\n",
        "$$\n",
        "\\boxed{\\text{Code, .py}}\n",
        "\\rightarrow\n",
        "\\boxed{\\text{Bytecode, .pyc}}\n",
        "\\rightarrow\n",
        "\\boxed{\\text{PVM (virtual machine)}}\n",
        "$$"
      ]
    },
    {
      "cell_type": "markdown",
      "metadata": {
        "id": "q-tokoLTJisd",
        "colab_type": "text"
      },
      "source": [
        "* frozen binaries: py2exe (for Windows), PyInstaller (which is similar to py2exe but also works on Linux and Unix and is capable of generating self-installing binaries), and freeze (the original)."
      ]
    },
    {
      "cell_type": "code",
      "metadata": {
        "id": "rj_y4kaXJhr_",
        "colab_type": "code",
        "colab": {
          "base_uri": "https://localhost:8080/",
          "height": 35
        },
        "outputId": "fd53e38b-f68a-495d-8597-d51b881af129"
      },
      "source": [
        "exec('print(\"hello world\")')"
      ],
      "execution_count": 2,
      "outputs": [
        {
          "output_type": "stream",
          "text": [
            "hello world\n"
          ],
          "name": "stdout"
        }
      ]
    },
    {
      "cell_type": "code",
      "metadata": {
        "id": "AHLhZDXl-Ypk",
        "colab_type": "code",
        "colab": {}
      },
      "source": [
        ""
      ],
      "execution_count": 0,
      "outputs": []
    },
    {
      "cell_type": "code",
      "metadata": {
        "id": "qWhjievUw_su",
        "colab_type": "code",
        "outputId": "a82b1eb4-d0bf-449b-92ea-fabf5694e572",
        "colab": {
          "base_uri": "https://localhost:8080/",
          "height": 35
        }
      },
      "source": [
        "x = 2\n",
        "y = 3\n",
        "x + y"
      ],
      "execution_count": 0,
      "outputs": [
        {
          "output_type": "execute_result",
          "data": {
            "text/plain": [
              "5"
            ]
          },
          "metadata": {
            "tags": []
          },
          "execution_count": 1
        }
      ]
    },
    {
      "cell_type": "code",
      "metadata": {
        "id": "3I4SHqggxGKx",
        "colab_type": "code",
        "outputId": "f34578d4-8ae4-4e6a-cd36-b2b8eaa5c966",
        "colab": {
          "base_uri": "https://localhost:8080/",
          "height": 35
        }
      },
      "source": [
        "if x > y:\n",
        "  print(\"greater\")\n",
        "else:\n",
        "  print(\"not greater\")"
      ],
      "execution_count": 0,
      "outputs": [
        {
          "output_type": "stream",
          "text": [
            "not greater\n"
          ],
          "name": "stdout"
        }
      ]
    },
    {
      "cell_type": "code",
      "metadata": {
        "id": "laXpOLE0xP7z",
        "colab_type": "code",
        "outputId": "e2a037cd-1e5a-4086-e27e-1e285fe810e9",
        "colab": {
          "base_uri": "https://localhost:8080/",
          "height": 35
        }
      },
      "source": [
        "for i in range(5):\n",
        "  print(i, end=',')"
      ],
      "execution_count": 0,
      "outputs": [
        {
          "output_type": "stream",
          "text": [
            "0,1,2,3,4,"
          ],
          "name": "stdout"
        }
      ]
    },
    {
      "cell_type": "code",
      "metadata": {
        "id": "dwwjpWW4xWQ4",
        "colab_type": "code",
        "outputId": "74600018-ba5f-46a9-eb2d-d8f05db2054a",
        "colab": {
          "base_uri": "https://localhost:8080/",
          "height": 35
        }
      },
      "source": [
        "L = [2,3,5,7,11,13,17]\n",
        "L"
      ],
      "execution_count": 0,
      "outputs": [
        {
          "output_type": "execute_result",
          "data": {
            "text/plain": [
              "[2, 3, 5, 7, 11, 13, 17]"
            ]
          },
          "metadata": {
            "tags": []
          },
          "execution_count": 3
        }
      ]
    },
    {
      "cell_type": "code",
      "metadata": {
        "id": "klie3zCqxeDZ",
        "colab_type": "code",
        "outputId": "b6a65517-07a6-4aab-b60f-075277fba476",
        "colab": {
          "base_uri": "https://localhost:8080/",
          "height": 35
        }
      },
      "source": [
        "for prime in L:\n",
        "  print(prime, end=',')"
      ],
      "execution_count": 0,
      "outputs": [
        {
          "output_type": "stream",
          "text": [
            "2,3,5,7,11,13,17,"
          ],
          "name": "stdout"
        }
      ]
    },
    {
      "cell_type": "code",
      "metadata": {
        "id": "j9bz_mkmxjnl",
        "colab_type": "code",
        "outputId": "1a588c43-3c13-4329-b746-df8e609f9d04",
        "colab": {
          "base_uri": "https://localhost:8080/",
          "height": 35
        }
      },
      "source": [
        "p = 5\n",
        "if p in L:\n",
        "  print(p, ' is prime')"
      ],
      "execution_count": 0,
      "outputs": [
        {
          "output_type": "stream",
          "text": [
            "5  is prime\n"
          ],
          "name": "stdout"
        }
      ]
    },
    {
      "cell_type": "code",
      "metadata": {
        "id": "-O_zGYpNxz0c",
        "colab_type": "code",
        "outputId": "af6cb186-6355-40d7-e714-87f5bfaefee3",
        "colab": {
          "base_uri": "https://localhost:8080/",
          "height": 35
        }
      },
      "source": [
        "L_extended = L + [19, 23]\n",
        "L_extended"
      ],
      "execution_count": 0,
      "outputs": [
        {
          "output_type": "execute_result",
          "data": {
            "text/plain": [
              "[2, 3, 5, 7, 11, 13, 17, 19, 23]"
            ]
          },
          "metadata": {
            "tags": []
          },
          "execution_count": 8
        }
      ]
    },
    {
      "cell_type": "code",
      "metadata": {
        "id": "hJrfKXuPyrVw",
        "colab_type": "code",
        "outputId": "386962ee-d712-4f85-e0ce-9259616eb788",
        "colab": {
          "base_uri": "https://localhost:8080/",
          "height": 35
        }
      },
      "source": [
        "L_extended[2:5]"
      ],
      "execution_count": 0,
      "outputs": [
        {
          "output_type": "execute_result",
          "data": {
            "text/plain": [
              "[5, 7, 11]"
            ]
          },
          "metadata": {
            "tags": []
          },
          "execution_count": 9
        }
      ]
    },
    {
      "cell_type": "code",
      "metadata": {
        "id": "S9kna0u2yw0w",
        "colab_type": "code",
        "outputId": "80997ec9-a2a3-482f-f650-3e688af498eb",
        "colab": {
          "base_uri": "https://localhost:8080/",
          "height": 35
        }
      },
      "source": [
        "L_extended[:-3]"
      ],
      "execution_count": 0,
      "outputs": [
        {
          "output_type": "execute_result",
          "data": {
            "text/plain": [
              "[2, 3, 5, 7, 11, 13]"
            ]
          },
          "metadata": {
            "tags": []
          },
          "execution_count": 10
        }
      ]
    },
    {
      "cell_type": "code",
      "metadata": {
        "id": "_KKlGp0ObdYI",
        "colab_type": "code",
        "outputId": "1b9bfeba-c218-4ebf-9476-f30778dc5b73",
        "colab": {
          "base_uri": "https://localhost:8080/",
          "height": 143
        }
      },
      "source": [
        "while L:\n",
        "  L = L[1:]\n",
        "  print(L)"
      ],
      "execution_count": 0,
      "outputs": [
        {
          "output_type": "stream",
          "text": [
            "[3, 5, 7, 11, 13, 17]\n",
            "[5, 7, 11, 13, 17]\n",
            "[7, 11, 13, 17]\n",
            "[11, 13, 17]\n",
            "[13, 17]\n",
            "[17]\n",
            "[]\n"
          ],
          "name": "stdout"
        }
      ]
    },
    {
      "cell_type": "code",
      "metadata": {
        "id": "-ygqjz7XblTj",
        "colab_type": "code",
        "outputId": "bf74b8a9-95eb-4de6-afd1-b5c88ce6545f",
        "colab": {
          "base_uri": "https://localhost:8080/",
          "height": 35
        }
      },
      "source": [
        "def func(arg1, arg2):\n",
        "  return arg1 + arg2\n",
        "\n",
        "x = func(3, 4)\n",
        "x"
      ],
      "execution_count": 0,
      "outputs": [
        {
          "output_type": "execute_result",
          "data": {
            "text/plain": [
              "7"
            ]
          },
          "metadata": {
            "tags": []
          },
          "execution_count": 5
        }
      ]
    },
    {
      "cell_type": "code",
      "metadata": {
        "id": "DKqCJhW2b4GG",
        "colab_type": "code",
        "outputId": "44c227c7-3deb-4831-c0fa-ef1ca1958018",
        "colab": {
          "base_uri": "https://localhost:8080/",
          "height": 35
        }
      },
      "source": [
        "[i**2 for i in range(5)]"
      ],
      "execution_count": 0,
      "outputs": [
        {
          "output_type": "execute_result",
          "data": {
            "text/plain": [
              "[0, 1, 4, 9, 16]"
            ]
          },
          "metadata": {
            "tags": []
          },
          "execution_count": 6
        }
      ]
    },
    {
      "cell_type": "code",
      "metadata": {
        "id": "IfVOajgDQzAv",
        "colab_type": "code",
        "outputId": "55802bcf-ae0c-44b6-ef00-08693e1e75cb",
        "colab": {
          "base_uri": "https://localhost:8080/",
          "height": 53
        }
      },
      "source": [
        "def func(x):\n",
        "  x[0] += 175  \n",
        "\n",
        "L = [i**2 for i in range(5)]\n",
        "print(L)\n",
        "func(L)\n",
        "print(L)"
      ],
      "execution_count": 0,
      "outputs": [
        {
          "output_type": "stream",
          "text": [
            "[0, 1, 4, 9, 16]\n",
            "[175, 1, 4, 9, 16]\n"
          ],
          "name": "stdout"
        }
      ]
    },
    {
      "cell_type": "code",
      "metadata": {
        "id": "esn1O_u9RSKu",
        "colab_type": "code",
        "outputId": "a4b09d60-f67a-4b17-9b01-6f02baa63763",
        "colab": {
          "base_uri": "https://localhost:8080/",
          "height": 53
        }
      },
      "source": [
        "def func(x):\n",
        "  y = x.copy()\n",
        "  y[0] += 175\n",
        "\n",
        "L = [i**2 for i in range(5)]\n",
        "print(L)\n",
        "func(L)\n",
        "print(L)"
      ],
      "execution_count": 0,
      "outputs": [
        {
          "output_type": "stream",
          "text": [
            "[0, 1, 4, 9, 16]\n",
            "[0, 1, 4, 9, 16]\n"
          ],
          "name": "stdout"
        }
      ]
    },
    {
      "cell_type": "code",
      "metadata": {
        "id": "z_9X9_2Fb6wB",
        "colab_type": "code",
        "outputId": "2d163081-08a9-422a-ba8a-c6a31fb4875d",
        "colab": {
          "base_uri": "https://localhost:8080/",
          "height": 35
        }
      },
      "source": [
        "class SomeClass:\n",
        "\n",
        "  def __init__(self, arg1, arg2):\n",
        "    self._sum = arg1 + arg2\n",
        "    self._diff = arg1 - arg2\n",
        "\n",
        "  def printer(self):\n",
        "    print(self._sum, self._diff)\n",
        "\n",
        "\n",
        "obj = SomeClass(3, 4)\n",
        "obj.printer()"
      ],
      "execution_count": 0,
      "outputs": [
        {
          "output_type": "stream",
          "text": [
            "7 -1\n"
          ],
          "name": "stdout"
        }
      ]
    },
    {
      "cell_type": "code",
      "metadata": {
        "id": "v9Gcre15ezpH",
        "colab_type": "code",
        "outputId": "8c744b4b-cd87-4104-ecf9-4ca5d8d87237",
        "colab": {
          "base_uri": "https://localhost:8080/",
          "height": 53
        }
      },
      "source": [
        "class SomeOtherClass:\n",
        "\n",
        "  def __init__(self, arg1, arg2):\n",
        "    self._sum = arg1 + arg2\n",
        "    self._diff = arg1 - arg2\n",
        "\n",
        "  def update_sum(self, arg):\n",
        "    self._sum = arg\n",
        "\n",
        "  def printer(self):\n",
        "    print(self._sum, self._diff)\n",
        "\n",
        "\n",
        "obj = SomeOtherClass(3, 4)\n",
        "obj.printer()\n",
        "obj.update_sum(77)\n",
        "obj.printer()"
      ],
      "execution_count": 0,
      "outputs": [
        {
          "output_type": "stream",
          "text": [
            "7 -1\n",
            "77 -1\n"
          ],
          "name": "stdout"
        }
      ]
    },
    {
      "cell_type": "markdown",
      "metadata": {
        "id": "ZpprzcBybbC7",
        "colab_type": "text"
      },
      "source": [
        "**How to debug**\n",
        "\n",
        "* Don't hesitate to change or comment out code for debug\n",
        "* Print intermediate results if you are not sure what function does\n",
        "* Separate logical blocks as functions\n",
        "* Write tests, test your functions on inputs you can deduce the output for\n",
        "\n",
        "\n",
        "**Code style**\n",
        "\n",
        "* Use meaningful names\n",
        "* Use single style (CamelStyle, underscore_style)\n",
        "* Use some conventions for class-function-variable names\n",
        "* Isolate logical blocks as functions, consider creating classes to save states\n",
        "* Use first underscore convention for private variables"
      ]
    }
  ]
}