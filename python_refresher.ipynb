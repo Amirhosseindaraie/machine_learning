{
  "nbformat": 4,
  "nbformat_minor": 0,
  "metadata": {
    "colab": {
      "name": "python_refresher.ipynb",
      "provenance": [],
      "toc_visible": true,
      "include_colab_link": true
    },
    "kernelspec": {
      "name": "python3",
      "display_name": "Python 3"
    }
  },
  "cells": [
    {
      "cell_type": "markdown",
      "metadata": {
        "id": "view-in-github",
        "colab_type": "text"
      },
      "source": [
        "<a href=\"https://colab.research.google.com/github/fbeilstein/machine_learning/blob/master/python_refresher.ipynb\" target=\"_parent\"><img src=\"https://colab.research.google.com/assets/colab-badge.svg\" alt=\"Open In Colab\"/></a>"
      ]
    },
    {
      "cell_type": "code",
      "metadata": {
        "id": "pPndMoZapl6V",
        "colab_type": "code",
        "outputId": "4eaff2b1-b082-4173-cec3-df27509f69c0",
        "colab": {
          "base_uri": "https://localhost:8080/",
          "height": 53
        }
      },
      "source": [
        "# https://docs.scipy.org/doc/scipy/reference/generated/scipy.special.assoc_laguerre.html\n",
        "\n",
        "from scipy.special import assoc_laguerre\n",
        "from scipy.special import binom\n",
        "import numpy as np\n",
        "\n",
        "K = 3\n",
        "\n",
        "def x_0(alpha, k):\n",
        "  return np.sqrt(2) * alpha * np.cos(k * np.pi / K)\n",
        "\n",
        "def E(sigma, alpha, s, k, n):\n",
        "  f = sigma**2 / (s + sigma**2)\n",
        "  y = - x_0(alpha, k)**2 / (s + sigma**2)\n",
        "  return s**n * f**(n + 1/2) * np.exp(y) * assoc_laguerre(y * sigma**2 / s, n, -1/2)\n",
        "\n",
        "def E_tot(sigma, n):\n",
        "  f = sigma**2 / (1 + sigma**2)\n",
        "  return 0.5 * (-1)**(n+1) * f**(n+0.5) * (binom(-1/2, n) - 2 * f * binom(-3/2, n))\n",
        "\n",
        "def E_simpl(r, phi, sigma, k, n):\n",
        "  return (r**2)**n * (np.cos(np.pi * k / K + phi))**(2*n) * np.exp(- r**2 * np.cos(np.pi * k / K + phi)**2 / sigma**2)\n",
        "\n",
        "print(x_0(1, 1))\n",
        "print(E(0.2, 1, 1, 1, 1))"
      ],
      "execution_count": 3,
      "outputs": [
        {
          "output_type": "stream",
          "text": [
            "0.7071067811865477\n",
            "0.0024216143114033704\n"
          ],
          "name": "stdout"
        }
      ]
    },
    {
      "cell_type": "code",
      "metadata": {
        "id": "1_XPdjpcsguK",
        "colab_type": "code",
        "colab": {}
      },
      "source": [
        "from scipy.optimize import minimize\n",
        "\n",
        "K = 3\n",
        "s = 0\n",
        "sigma = 1\n",
        "\n",
        "C_n = np.array([0.0] * 2, dtype=float)\n",
        "alpha = 0.0\n",
        "\n",
        "def func_to_minimize(params):\n",
        "  C_n = np.array([1.0] + params.tolist())\n",
        "  number_of_C = C_n.shape[0]\n",
        "  E_totals = np.array([E_tot(sigma, n) for n in range(number_of_C)])\n",
        "  LHS = K * np.abs(np.dot(E_totals, C_n))\n",
        "\n",
        "  def min_in_min(a):\n",
        "    #Es = np.array([[E(sigma, a[0], s, k, n) for k in range(K)] for n in range(number_of_C)])\n",
        "    Es = np.array([[E_simpl(a[0], a[1], sigma, k, n) for k in range(K)] for n in range(number_of_C)])\n",
        "    RHS = np.abs(np.dot(np.sum(Es, axis=1), C_n))\n",
        "    #print(a, RHS)\n",
        "    return -RHS\n",
        "\n",
        "  alpha_min = minimize(min_in_min, [0.1, 0.0], \n",
        "         method='Nelder-Mead', jac=None, hess=None,\n",
        "         options={'maxiter':100}, callback=None)\n",
        "\n",
        "  #Es = np.array([[E(sigma, alpha_min['x'][0], s, k, n) for k in range(K)] for n in range(number_of_C)])\n",
        "  Es = np.array([[E_simpl(alpha_min['x'][0], alpha_min['x'][1], sigma, k, n) for k in range(K)] for n in range(number_of_C)])\n",
        "  #print(alpha_min['x'][0], alpha_min['x'][1], Es)\n",
        "\n",
        "\n",
        "  RHS = np.abs(np.dot(np.sum(Es, axis=1), C_n))\n",
        "  return - LHS / (RHS + 1E-5)\n",
        "\n",
        "minimize(func_to_minimize, C_n, \n",
        "         method='Nelder-Mead', jac=None, hess=None,\n",
        "         options={'maxiter':10}, callback=None)"
      ],
      "execution_count": 0,
      "outputs": []
    },
    {
      "cell_type": "code",
      "metadata": {
        "id": "rj_y4kaXJhr_",
        "colab_type": "code",
        "outputId": "b371283b-1a23-4f13-b9b5-39f03e1af2d2",
        "colab": {
          "base_uri": "https://localhost:8080/",
          "height": 35
        }
      },
      "source": [
        "exec('print(\"hello world\")')"
      ],
      "execution_count": 0,
      "outputs": [
        {
          "output_type": "stream",
          "text": [
            "hello world\n"
          ],
          "name": "stdout"
        }
      ]
    },
    {
      "cell_type": "code",
      "metadata": {
        "id": "XWDwxb36mKJn",
        "colab_type": "code",
        "outputId": "a4552b74-d3fb-43ea-f956-f527a606ca4a",
        "colab": {
          "base_uri": "https://localhost:8080/",
          "height": 395
        }
      },
      "source": [
        "directions = [[1,0], [0,1], [-1,0], [0,-1]]\n",
        "l = 20\n",
        "cur_x = 0\n",
        "cur_y = 0\n",
        "cur_dir = 0\n",
        "out = [['___' for _ in range(l+1)] for _ in range(l+1)]\n",
        "it = 0\n",
        "while l > 0:\n",
        "  for i in range(l):\n",
        "    cur_x += directions[cur_dir][0]\n",
        "    cur_y += directions[cur_dir][1]\n",
        "    s = str(it)\n",
        "    while len(s) < 3:\n",
        "      s = ' ' + s      \n",
        "    out[cur_x][cur_y] = s\n",
        "    it += 1\n",
        "  l -= 1\n",
        "  cur_dir = (cur_dir + 1) % 4\n",
        "\n",
        "for line in out:\n",
        "  print(line)"
      ],
      "execution_count": 0,
      "outputs": [
        {
          "output_type": "stream",
          "text": [
            "['___', '___', '___', '___', '___', '___', '___', '___', '___', '___', '___', '___', '___', '___', '___', '___', '___', '___', '___', '___', '___']\n",
            "['  0', '___', '___', '___', '___', '___', '___', '___', '___', '___', '___', '___', '___', '___', '___', '___', '___', '___', '___', '___', '___']\n",
            "['  1', '___', ' 73', ' 72', ' 71', ' 70', ' 69', ' 68', ' 67', ' 66', ' 65', ' 64', ' 63', ' 62', ' 61', ' 60', ' 59', ' 58', ' 57', ' 56', '___']\n",
            "['  2', '___', ' 74', '___', '___', '___', '___', '___', '___', '___', '___', '___', '___', '___', '___', '___', '___', '___', '___', ' 55', '___']\n",
            "['  3', '___', ' 75', '___', '131', '130', '129', '128', '127', '126', '125', '124', '123', '122', '121', '120', '119', '118', '___', ' 54', '___']\n",
            "['  4', '___', ' 76', '___', '132', '___', '___', '___', '___', '___', '___', '___', '___', '___', '___', '___', '___', '117', '___', ' 53', '___']\n",
            "['  5', '___', ' 77', '___', '133', '___', '173', '172', '171', '170', '169', '168', '167', '166', '165', '164', '___', '116', '___', ' 52', '___']\n",
            "['  6', '___', ' 78', '___', '134', '___', '174', '___', '___', '___', '___', '___', '___', '___', '___', '163', '___', '115', '___', ' 51', '___']\n",
            "['  7', '___', ' 79', '___', '135', '___', '175', '___', '199', '198', '197', '196', '195', '194', '___', '162', '___', '114', '___', ' 50', '___']\n",
            "['  8', '___', ' 80', '___', '136', '___', '176', '___', '200', '___', '___', '___', '___', '193', '___', '161', '___', '113', '___', ' 49', '___']\n",
            "['  9', '___', ' 81', '___', '137', '___', '177', '___', '201', '___', '209', '208', '___', '192', '___', '160', '___', '112', '___', ' 48', '___']\n",
            "[' 10', '___', ' 82', '___', '138', '___', '178', '___', '202', '___', '___', '207', '___', '191', '___', '159', '___', '111', '___', ' 47', '___']\n",
            "[' 11', '___', ' 83', '___', '139', '___', '179', '___', '203', '204', '205', '206', '___', '190', '___', '158', '___', '110', '___', ' 46', '___']\n",
            "[' 12', '___', ' 84', '___', '140', '___', '180', '___', '___', '___', '___', '___', '___', '189', '___', '157', '___', '109', '___', ' 45', '___']\n",
            "[' 13', '___', ' 85', '___', '141', '___', '181', '182', '183', '184', '185', '186', '187', '188', '___', '156', '___', '108', '___', ' 44', '___']\n",
            "[' 14', '___', ' 86', '___', '142', '___', '___', '___', '___', '___', '___', '___', '___', '___', '___', '155', '___', '107', '___', ' 43', '___']\n",
            "[' 15', '___', ' 87', '___', '143', '144', '145', '146', '147', '148', '149', '150', '151', '152', '153', '154', '___', '106', '___', ' 42', '___']\n",
            "[' 16', '___', ' 88', '___', '___', '___', '___', '___', '___', '___', '___', '___', '___', '___', '___', '___', '___', '105', '___', ' 41', '___']\n",
            "[' 17', '___', ' 89', ' 90', ' 91', ' 92', ' 93', ' 94', ' 95', ' 96', ' 97', ' 98', ' 99', '100', '101', '102', '103', '104', '___', ' 40', '___']\n",
            "[' 18', '___', '___', '___', '___', '___', '___', '___', '___', '___', '___', '___', '___', '___', '___', '___', '___', '___', '___', ' 39', '___']\n",
            "[' 19', ' 20', ' 21', ' 22', ' 23', ' 24', ' 25', ' 26', ' 27', ' 28', ' 29', ' 30', ' 31', ' 32', ' 33', ' 34', ' 35', ' 36', ' 37', ' 38', '___']\n"
          ],
          "name": "stdout"
        }
      ]
    },
    {
      "cell_type": "code",
      "metadata": {
        "id": "qWhjievUw_su",
        "colab_type": "code",
        "outputId": "a82b1eb4-d0bf-449b-92ea-fabf5694e572",
        "colab": {
          "base_uri": "https://localhost:8080/",
          "height": 35
        }
      },
      "source": [
        "x = 2\n",
        "y = 3\n",
        "x + y"
      ],
      "execution_count": 0,
      "outputs": [
        {
          "output_type": "execute_result",
          "data": {
            "text/plain": [
              "5"
            ]
          },
          "metadata": {
            "tags": []
          },
          "execution_count": 1
        }
      ]
    },
    {
      "cell_type": "code",
      "metadata": {
        "id": "3I4SHqggxGKx",
        "colab_type": "code",
        "outputId": "f34578d4-8ae4-4e6a-cd36-b2b8eaa5c966",
        "colab": {
          "base_uri": "https://localhost:8080/",
          "height": 35
        }
      },
      "source": [
        "if x > y:\n",
        "  print(\"greater\")\n",
        "else:\n",
        "  print(\"not greater\")"
      ],
      "execution_count": 0,
      "outputs": [
        {
          "output_type": "stream",
          "text": [
            "not greater\n"
          ],
          "name": "stdout"
        }
      ]
    },
    {
      "cell_type": "code",
      "metadata": {
        "id": "laXpOLE0xP7z",
        "colab_type": "code",
        "outputId": "e2a037cd-1e5a-4086-e27e-1e285fe810e9",
        "colab": {
          "base_uri": "https://localhost:8080/",
          "height": 35
        }
      },
      "source": [
        "for i in range(5):\n",
        "  print(i, end=',')"
      ],
      "execution_count": 0,
      "outputs": [
        {
          "output_type": "stream",
          "text": [
            "0,1,2,3,4,"
          ],
          "name": "stdout"
        }
      ]
    },
    {
      "cell_type": "code",
      "metadata": {
        "id": "dwwjpWW4xWQ4",
        "colab_type": "code",
        "outputId": "74600018-ba5f-46a9-eb2d-d8f05db2054a",
        "colab": {
          "base_uri": "https://localhost:8080/",
          "height": 35
        }
      },
      "source": [
        "L = [2,3,5,7,11,13,17]\n",
        "L"
      ],
      "execution_count": 0,
      "outputs": [
        {
          "output_type": "execute_result",
          "data": {
            "text/plain": [
              "[2, 3, 5, 7, 11, 13, 17]"
            ]
          },
          "metadata": {
            "tags": []
          },
          "execution_count": 3
        }
      ]
    },
    {
      "cell_type": "code",
      "metadata": {
        "id": "klie3zCqxeDZ",
        "colab_type": "code",
        "outputId": "b6a65517-07a6-4aab-b60f-075277fba476",
        "colab": {
          "base_uri": "https://localhost:8080/",
          "height": 35
        }
      },
      "source": [
        "for prime in L:\n",
        "  print(prime, end=',')"
      ],
      "execution_count": 0,
      "outputs": [
        {
          "output_type": "stream",
          "text": [
            "2,3,5,7,11,13,17,"
          ],
          "name": "stdout"
        }
      ]
    },
    {
      "cell_type": "code",
      "metadata": {
        "id": "j9bz_mkmxjnl",
        "colab_type": "code",
        "outputId": "1a588c43-3c13-4329-b746-df8e609f9d04",
        "colab": {
          "base_uri": "https://localhost:8080/",
          "height": 35
        }
      },
      "source": [
        "p = 5\n",
        "if p in L:\n",
        "  print(p, ' is prime')"
      ],
      "execution_count": 0,
      "outputs": [
        {
          "output_type": "stream",
          "text": [
            "5  is prime\n"
          ],
          "name": "stdout"
        }
      ]
    },
    {
      "cell_type": "code",
      "metadata": {
        "id": "-O_zGYpNxz0c",
        "colab_type": "code",
        "outputId": "af6cb186-6355-40d7-e714-87f5bfaefee3",
        "colab": {
          "base_uri": "https://localhost:8080/",
          "height": 35
        }
      },
      "source": [
        "L_extended = L + [19, 23]\n",
        "L_extended"
      ],
      "execution_count": 0,
      "outputs": [
        {
          "output_type": "execute_result",
          "data": {
            "text/plain": [
              "[2, 3, 5, 7, 11, 13, 17, 19, 23]"
            ]
          },
          "metadata": {
            "tags": []
          },
          "execution_count": 8
        }
      ]
    },
    {
      "cell_type": "code",
      "metadata": {
        "id": "hJrfKXuPyrVw",
        "colab_type": "code",
        "outputId": "386962ee-d712-4f85-e0ce-9259616eb788",
        "colab": {
          "base_uri": "https://localhost:8080/",
          "height": 35
        }
      },
      "source": [
        "L_extended[2:5]"
      ],
      "execution_count": 0,
      "outputs": [
        {
          "output_type": "execute_result",
          "data": {
            "text/plain": [
              "[5, 7, 11]"
            ]
          },
          "metadata": {
            "tags": []
          },
          "execution_count": 9
        }
      ]
    },
    {
      "cell_type": "code",
      "metadata": {
        "id": "S9kna0u2yw0w",
        "colab_type": "code",
        "outputId": "80997ec9-a2a3-482f-f650-3e688af498eb",
        "colab": {
          "base_uri": "https://localhost:8080/",
          "height": 35
        }
      },
      "source": [
        "L_extended[:-3]"
      ],
      "execution_count": 0,
      "outputs": [
        {
          "output_type": "execute_result",
          "data": {
            "text/plain": [
              "[2, 3, 5, 7, 11, 13]"
            ]
          },
          "metadata": {
            "tags": []
          },
          "execution_count": 10
        }
      ]
    },
    {
      "cell_type": "code",
      "metadata": {
        "id": "_KKlGp0ObdYI",
        "colab_type": "code",
        "outputId": "1b9bfeba-c218-4ebf-9476-f30778dc5b73",
        "colab": {
          "base_uri": "https://localhost:8080/",
          "height": 143
        }
      },
      "source": [
        "while L:\n",
        "  L = L[1:]\n",
        "  print(L)"
      ],
      "execution_count": 0,
      "outputs": [
        {
          "output_type": "stream",
          "text": [
            "[3, 5, 7, 11, 13, 17]\n",
            "[5, 7, 11, 13, 17]\n",
            "[7, 11, 13, 17]\n",
            "[11, 13, 17]\n",
            "[13, 17]\n",
            "[17]\n",
            "[]\n"
          ],
          "name": "stdout"
        }
      ]
    },
    {
      "cell_type": "code",
      "metadata": {
        "id": "-ygqjz7XblTj",
        "colab_type": "code",
        "outputId": "bf74b8a9-95eb-4de6-afd1-b5c88ce6545f",
        "colab": {
          "base_uri": "https://localhost:8080/",
          "height": 35
        }
      },
      "source": [
        "def func(arg1, arg2):\n",
        "  return arg1 + arg2\n",
        "\n",
        "x = func(3, 4)\n",
        "x"
      ],
      "execution_count": 0,
      "outputs": [
        {
          "output_type": "execute_result",
          "data": {
            "text/plain": [
              "7"
            ]
          },
          "metadata": {
            "tags": []
          },
          "execution_count": 5
        }
      ]
    },
    {
      "cell_type": "code",
      "metadata": {
        "id": "DKqCJhW2b4GG",
        "colab_type": "code",
        "outputId": "44c227c7-3deb-4831-c0fa-ef1ca1958018",
        "colab": {
          "base_uri": "https://localhost:8080/",
          "height": 35
        }
      },
      "source": [
        "[i**2 for i in range(5)]"
      ],
      "execution_count": 0,
      "outputs": [
        {
          "output_type": "execute_result",
          "data": {
            "text/plain": [
              "[0, 1, 4, 9, 16]"
            ]
          },
          "metadata": {
            "tags": []
          },
          "execution_count": 6
        }
      ]
    },
    {
      "cell_type": "code",
      "metadata": {
        "id": "IfVOajgDQzAv",
        "colab_type": "code",
        "outputId": "55802bcf-ae0c-44b6-ef00-08693e1e75cb",
        "colab": {
          "base_uri": "https://localhost:8080/",
          "height": 53
        }
      },
      "source": [
        "def func(x):\n",
        "  x[0] += 175  \n",
        "\n",
        "L = [i**2 for i in range(5)]\n",
        "print(L)\n",
        "func(L)\n",
        "print(L)"
      ],
      "execution_count": 0,
      "outputs": [
        {
          "output_type": "stream",
          "text": [
            "[0, 1, 4, 9, 16]\n",
            "[175, 1, 4, 9, 16]\n"
          ],
          "name": "stdout"
        }
      ]
    },
    {
      "cell_type": "code",
      "metadata": {
        "id": "esn1O_u9RSKu",
        "colab_type": "code",
        "outputId": "a4b09d60-f67a-4b17-9b01-6f02baa63763",
        "colab": {
          "base_uri": "https://localhost:8080/",
          "height": 53
        }
      },
      "source": [
        "def func(x):\n",
        "  y = x.copy()\n",
        "  y[0] += 175\n",
        "\n",
        "L = [i**2 for i in range(5)]\n",
        "print(L)\n",
        "func(L)\n",
        "print(L)"
      ],
      "execution_count": 0,
      "outputs": [
        {
          "output_type": "stream",
          "text": [
            "[0, 1, 4, 9, 16]\n",
            "[0, 1, 4, 9, 16]\n"
          ],
          "name": "stdout"
        }
      ]
    },
    {
      "cell_type": "code",
      "metadata": {
        "id": "z_9X9_2Fb6wB",
        "colab_type": "code",
        "outputId": "2d163081-08a9-422a-ba8a-c6a31fb4875d",
        "colab": {
          "base_uri": "https://localhost:8080/",
          "height": 35
        }
      },
      "source": [
        "class SomeClass:\n",
        "\n",
        "  def __init__(self, arg1, arg2):\n",
        "    self._sum = arg1 + arg2\n",
        "    self._diff = arg1 - arg2\n",
        "\n",
        "  def printer(self):\n",
        "    print(self._sum, self._diff)\n",
        "\n",
        "\n",
        "obj = SomeClass(3, 4)\n",
        "obj.printer()"
      ],
      "execution_count": 0,
      "outputs": [
        {
          "output_type": "stream",
          "text": [
            "7 -1\n"
          ],
          "name": "stdout"
        }
      ]
    },
    {
      "cell_type": "code",
      "metadata": {
        "id": "v9Gcre15ezpH",
        "colab_type": "code",
        "outputId": "8c744b4b-cd87-4104-ecf9-4ca5d8d87237",
        "colab": {
          "base_uri": "https://localhost:8080/",
          "height": 53
        }
      },
      "source": [
        "class SomeOtherClass:\n",
        "\n",
        "  def __init__(self, arg1, arg2):\n",
        "    self._sum = arg1 + arg2\n",
        "    self._diff = arg1 - arg2\n",
        "\n",
        "  def update_sum(self, arg):\n",
        "    self._sum = arg\n",
        "\n",
        "  def printer(self):\n",
        "    print(self._sum, self._diff)\n",
        "\n",
        "\n",
        "obj = SomeOtherClass(3, 4)\n",
        "obj.printer()\n",
        "obj.update_sum(77)\n",
        "obj.printer()"
      ],
      "execution_count": 0,
      "outputs": [
        {
          "output_type": "stream",
          "text": [
            "7 -1\n",
            "77 -1\n"
          ],
          "name": "stdout"
        }
      ]
    },
    {
      "cell_type": "markdown",
      "metadata": {
        "id": "ZpprzcBybbC7",
        "colab_type": "text"
      },
      "source": [
        "**How to debug**\n",
        "\n",
        "* Don't hesitate to change or comment out code for debug\n",
        "* Print intermediate results if you are not sure what function does\n",
        "* Separate logical blocks as functions\n",
        "* Write tests, test your functions on inputs you can deduce the output for\n",
        "\n",
        "\n",
        "**Code style**\n",
        "\n",
        "* Use meaningful names\n",
        "* Use single style (CamelStyle, underscore_style)\n",
        "* Use some conventions for class-function-variable names\n",
        "* Isolate logical blocks as functions, consider creating classes to save states\n",
        "* Use first underscore convention for private variables"
      ]
    }
  ]
}