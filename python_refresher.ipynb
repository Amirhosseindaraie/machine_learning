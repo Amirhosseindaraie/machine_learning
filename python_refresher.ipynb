{
  "nbformat": 4,
  "nbformat_minor": 0,
  "metadata": {
    "colab": {
      "name": "python_refresher.ipynb",
      "provenance": [],
      "include_colab_link": true
    },
    "kernelspec": {
      "name": "python3",
      "display_name": "Python 3"
    }
  },
  "cells": [
    {
      "cell_type": "markdown",
      "metadata": {
        "id": "view-in-github",
        "colab_type": "text"
      },
      "source": [
        "<a href=\"https://colab.research.google.com/github/fbeilstein/machine_learning/blob/master/python_refresher.ipynb\" target=\"_parent\"><img src=\"https://colab.research.google.com/assets/colab-badge.svg\" alt=\"Open In Colab\"/></a>"
      ]
    },
    {
      "cell_type": "code",
      "metadata": {
        "id": "qWhjievUw_su",
        "colab_type": "code",
        "outputId": "a82b1eb4-d0bf-449b-92ea-fabf5694e572",
        "colab": {
          "base_uri": "https://localhost:8080/",
          "height": 35
        }
      },
      "source": [
        "x = 2\n",
        "y = 3\n",
        "x + y"
      ],
      "execution_count": 0,
      "outputs": [
        {
          "output_type": "execute_result",
          "data": {
            "text/plain": [
              "5"
            ]
          },
          "metadata": {
            "tags": []
          },
          "execution_count": 1
        }
      ]
    },
    {
      "cell_type": "code",
      "metadata": {
        "id": "3I4SHqggxGKx",
        "colab_type": "code",
        "outputId": "f34578d4-8ae4-4e6a-cd36-b2b8eaa5c966",
        "colab": {
          "base_uri": "https://localhost:8080/",
          "height": 35
        }
      },
      "source": [
        "if x > y:\n",
        "  print(\"greater\")\n",
        "else:\n",
        "  print(\"not greater\")"
      ],
      "execution_count": 0,
      "outputs": [
        {
          "output_type": "stream",
          "text": [
            "not greater\n"
          ],
          "name": "stdout"
        }
      ]
    },
    {
      "cell_type": "code",
      "metadata": {
        "id": "laXpOLE0xP7z",
        "colab_type": "code",
        "outputId": "e2a037cd-1e5a-4086-e27e-1e285fe810e9",
        "colab": {
          "base_uri": "https://localhost:8080/",
          "height": 35
        }
      },
      "source": [
        "for i in range(5):\n",
        "  print(i, end=',')"
      ],
      "execution_count": 0,
      "outputs": [
        {
          "output_type": "stream",
          "text": [
            "0,1,2,3,4,"
          ],
          "name": "stdout"
        }
      ]
    },
    {
      "cell_type": "code",
      "metadata": {
        "id": "dwwjpWW4xWQ4",
        "colab_type": "code",
        "outputId": "74600018-ba5f-46a9-eb2d-d8f05db2054a",
        "colab": {
          "base_uri": "https://localhost:8080/",
          "height": 35
        }
      },
      "source": [
        "L = [2,3,5,7,11,13,17]\n",
        "L"
      ],
      "execution_count": 0,
      "outputs": [
        {
          "output_type": "execute_result",
          "data": {
            "text/plain": [
              "[2, 3, 5, 7, 11, 13, 17]"
            ]
          },
          "metadata": {
            "tags": []
          },
          "execution_count": 3
        }
      ]
    },
    {
      "cell_type": "code",
      "metadata": {
        "id": "klie3zCqxeDZ",
        "colab_type": "code",
        "outputId": "b6a65517-07a6-4aab-b60f-075277fba476",
        "colab": {
          "base_uri": "https://localhost:8080/",
          "height": 35
        }
      },
      "source": [
        "for prime in L:\n",
        "  print(prime, end=',')"
      ],
      "execution_count": 0,
      "outputs": [
        {
          "output_type": "stream",
          "text": [
            "2,3,5,7,11,13,17,"
          ],
          "name": "stdout"
        }
      ]
    },
    {
      "cell_type": "code",
      "metadata": {
        "id": "j9bz_mkmxjnl",
        "colab_type": "code",
        "outputId": "1a588c43-3c13-4329-b746-df8e609f9d04",
        "colab": {
          "base_uri": "https://localhost:8080/",
          "height": 35
        }
      },
      "source": [
        "p = 5\n",
        "if p in L:\n",
        "  print(p, ' is prime')"
      ],
      "execution_count": 0,
      "outputs": [
        {
          "output_type": "stream",
          "text": [
            "5  is prime\n"
          ],
          "name": "stdout"
        }
      ]
    },
    {
      "cell_type": "code",
      "metadata": {
        "id": "-O_zGYpNxz0c",
        "colab_type": "code",
        "outputId": "af6cb186-6355-40d7-e714-87f5bfaefee3",
        "colab": {
          "base_uri": "https://localhost:8080/",
          "height": 35
        }
      },
      "source": [
        "L_extended = L + [19, 23]\n",
        "L_extended"
      ],
      "execution_count": 0,
      "outputs": [
        {
          "output_type": "execute_result",
          "data": {
            "text/plain": [
              "[2, 3, 5, 7, 11, 13, 17, 19, 23]"
            ]
          },
          "metadata": {
            "tags": []
          },
          "execution_count": 8
        }
      ]
    },
    {
      "cell_type": "code",
      "metadata": {
        "id": "hJrfKXuPyrVw",
        "colab_type": "code",
        "outputId": "386962ee-d712-4f85-e0ce-9259616eb788",
        "colab": {
          "base_uri": "https://localhost:8080/",
          "height": 35
        }
      },
      "source": [
        "L_extended[2:5]"
      ],
      "execution_count": 0,
      "outputs": [
        {
          "output_type": "execute_result",
          "data": {
            "text/plain": [
              "[5, 7, 11]"
            ]
          },
          "metadata": {
            "tags": []
          },
          "execution_count": 9
        }
      ]
    },
    {
      "cell_type": "code",
      "metadata": {
        "id": "S9kna0u2yw0w",
        "colab_type": "code",
        "outputId": "80997ec9-a2a3-482f-f650-3e688af498eb",
        "colab": {
          "base_uri": "https://localhost:8080/",
          "height": 35
        }
      },
      "source": [
        "L_extended[:-3]"
      ],
      "execution_count": 0,
      "outputs": [
        {
          "output_type": "execute_result",
          "data": {
            "text/plain": [
              "[2, 3, 5, 7, 11, 13]"
            ]
          },
          "metadata": {
            "tags": []
          },
          "execution_count": 10
        }
      ]
    },
    {
      "cell_type": "code",
      "metadata": {
        "id": "_KKlGp0ObdYI",
        "colab_type": "code",
        "outputId": "1b9bfeba-c218-4ebf-9476-f30778dc5b73",
        "colab": {
          "base_uri": "https://localhost:8080/",
          "height": 143
        }
      },
      "source": [
        "while L:\n",
        "  L = L[1:]\n",
        "  print(L)"
      ],
      "execution_count": 0,
      "outputs": [
        {
          "output_type": "stream",
          "text": [
            "[3, 5, 7, 11, 13, 17]\n",
            "[5, 7, 11, 13, 17]\n",
            "[7, 11, 13, 17]\n",
            "[11, 13, 17]\n",
            "[13, 17]\n",
            "[17]\n",
            "[]\n"
          ],
          "name": "stdout"
        }
      ]
    },
    {
      "cell_type": "code",
      "metadata": {
        "id": "-ygqjz7XblTj",
        "colab_type": "code",
        "outputId": "bf74b8a9-95eb-4de6-afd1-b5c88ce6545f",
        "colab": {
          "base_uri": "https://localhost:8080/",
          "height": 35
        }
      },
      "source": [
        "def func(arg1, arg2):\n",
        "  return arg1 + arg2\n",
        "\n",
        "x = func(3, 4)\n",
        "x"
      ],
      "execution_count": 0,
      "outputs": [
        {
          "output_type": "execute_result",
          "data": {
            "text/plain": [
              "7"
            ]
          },
          "metadata": {
            "tags": []
          },
          "execution_count": 5
        }
      ]
    },
    {
      "cell_type": "code",
      "metadata": {
        "id": "DKqCJhW2b4GG",
        "colab_type": "code",
        "outputId": "44c227c7-3deb-4831-c0fa-ef1ca1958018",
        "colab": {
          "base_uri": "https://localhost:8080/",
          "height": 35
        }
      },
      "source": [
        "[i**2 for i in range(5)]"
      ],
      "execution_count": 0,
      "outputs": [
        {
          "output_type": "execute_result",
          "data": {
            "text/plain": [
              "[0, 1, 4, 9, 16]"
            ]
          },
          "metadata": {
            "tags": []
          },
          "execution_count": 6
        }
      ]
    },
    {
      "cell_type": "code",
      "metadata": {
        "id": "IfVOajgDQzAv",
        "colab_type": "code",
        "outputId": "55802bcf-ae0c-44b6-ef00-08693e1e75cb",
        "colab": {
          "base_uri": "https://localhost:8080/",
          "height": 53
        }
      },
      "source": [
        "def func(x):\n",
        "  x[0] += 175  \n",
        "\n",
        "L = [i**2 for i in range(5)]\n",
        "print(L)\n",
        "func(L)\n",
        "print(L)"
      ],
      "execution_count": 0,
      "outputs": [
        {
          "output_type": "stream",
          "text": [
            "[0, 1, 4, 9, 16]\n",
            "[175, 1, 4, 9, 16]\n"
          ],
          "name": "stdout"
        }
      ]
    },
    {
      "cell_type": "code",
      "metadata": {
        "id": "esn1O_u9RSKu",
        "colab_type": "code",
        "outputId": "a4b09d60-f67a-4b17-9b01-6f02baa63763",
        "colab": {
          "base_uri": "https://localhost:8080/",
          "height": 53
        }
      },
      "source": [
        "def func(x):\n",
        "  y = x.copy()\n",
        "  y[0] += 175\n",
        "\n",
        "L = [i**2 for i in range(5)]\n",
        "print(L)\n",
        "func(L)\n",
        "print(L)"
      ],
      "execution_count": 0,
      "outputs": [
        {
          "output_type": "stream",
          "text": [
            "[0, 1, 4, 9, 16]\n",
            "[0, 1, 4, 9, 16]\n"
          ],
          "name": "stdout"
        }
      ]
    },
    {
      "cell_type": "code",
      "metadata": {
        "id": "z_9X9_2Fb6wB",
        "colab_type": "code",
        "outputId": "2d163081-08a9-422a-ba8a-c6a31fb4875d",
        "colab": {
          "base_uri": "https://localhost:8080/",
          "height": 35
        }
      },
      "source": [
        "class SomeClass:\n",
        "\n",
        "  def __init__(self, arg1, arg2):\n",
        "    self._sum = arg1 + arg2\n",
        "    self._diff = arg1 - arg2\n",
        "\n",
        "  def printer(self):\n",
        "    print(self._sum, self._diff)\n",
        "\n",
        "\n",
        "obj = SomeClass(3, 4)\n",
        "obj.printer()"
      ],
      "execution_count": 0,
      "outputs": [
        {
          "output_type": "stream",
          "text": [
            "7 -1\n"
          ],
          "name": "stdout"
        }
      ]
    },
    {
      "cell_type": "code",
      "metadata": {
        "id": "v9Gcre15ezpH",
        "colab_type": "code",
        "outputId": "8c744b4b-cd87-4104-ecf9-4ca5d8d87237",
        "colab": {
          "base_uri": "https://localhost:8080/",
          "height": 53
        }
      },
      "source": [
        "class SomeOtherClass:\n",
        "\n",
        "  def __init__(self, arg1, arg2):\n",
        "    self._sum = arg1 + arg2\n",
        "    self._diff = arg1 - arg2\n",
        "\n",
        "  def update_sum(self, arg):\n",
        "    self._sum = arg\n",
        "\n",
        "  def printer(self):\n",
        "    print(self._sum, self._diff)\n",
        "\n",
        "\n",
        "obj = SomeOtherClass(3, 4)\n",
        "obj.printer()\n",
        "obj.update_sum(77)\n",
        "obj.printer()"
      ],
      "execution_count": 0,
      "outputs": [
        {
          "output_type": "stream",
          "text": [
            "7 -1\n",
            "77 -1\n"
          ],
          "name": "stdout"
        }
      ]
    },
    {
      "cell_type": "markdown",
      "metadata": {
        "id": "ZpprzcBybbC7",
        "colab_type": "text"
      },
      "source": [
        "**How to debug**\n",
        "\n",
        "* Don't hesitate to change or comment out code for debug\n",
        "* Print intermediate results if you are not sure what function does\n",
        "* Separate logical blocks as functions\n",
        "* Write tests, test your functions on inputs you can deduce the output for\n",
        "\n",
        "\n",
        "**Code style**\n",
        "\n",
        "* Use meaningful names\n",
        "* Use single style (CamelStyle, underscore_style)\n",
        "* Use some conventions for class-function-variable names\n",
        "* Isolate logical blocks as functions, consider creating classes to save states\n",
        "* Use first underscore convention for private variables"
      ]
    },
    {
      "cell_type": "code",
      "metadata": {
        "id": "T-4r-t94CfN3",
        "colab_type": "code",
        "colab": {}
      },
      "source": [
        "from sklearn.cluster import KMeans\n",
        "from sklearn.mixture import GaussianMixture\n",
        "\n",
        "def cluster(X, n):\n",
        "  gmm2 = GaussianMixture(n_components=n, covariance_type='full', random_state=0)\n",
        "  gmm2.fit(X)\n",
        "  y_kmeans = gmm2.predict(X)\n",
        "  centers = gmm2.means_\n",
        "  covs = gmm2.covariances_\n",
        "  w = gmm2.weights_\n",
        "  return y_kmeans, centers, covs, w"
      ],
      "execution_count": 0,
      "outputs": []
    },
    {
      "cell_type": "code",
      "metadata": {
        "id": "HVNCxKMaIGqP",
        "colab_type": "code",
        "colab": {
          "base_uri": "https://localhost:8080/",
          "height": 617
        },
        "outputId": "a091dee8-8c42-4844-d71e-c28014aa7019"
      },
      "source": [
        "import numpy as np\n",
        "import matplotlib.pyplot as plt\n",
        "from matplotlib.colors import ListedColormap\n",
        "from matplotlib.patches import Ellipse\n",
        "from matplotlib import cm\n",
        "\n",
        "def draw_ellipse(position, covariance, ax, **kwargs):\n",
        "    \"\"\"Draw an ellipse with a given position and covariance\"\"\"\n",
        "    \n",
        "    # Convert covariance to principal axes\n",
        "    if covariance.shape == (2, 2):\n",
        "        U, s, Vt = np.linalg.svd(covariance)\n",
        "        angle = np.degrees(np.arctan2(U[1, 0], U[0, 0]))\n",
        "        width, height = 2 * np.sqrt(s)\n",
        "    else:\n",
        "        angle = 0\n",
        "        width, height = 2 * np.sqrt(covariance)\n",
        "    \n",
        "    # Draw the Ellipse\n",
        "    for nsig in range(1, 4):\n",
        "        ax.add_patch(Ellipse(position, nsig * width, nsig * height, angle, **kwargs))\n",
        "        \n",
        "def plot_clusters(X, y, center, covariances, weights):\n",
        "  fig = plt.figure(figsize=(10,10))\n",
        "  ax = fig.gca()\n",
        "  ax.tick_params(axis=\"y\",direction=\"in\", pad=-40)\n",
        "  ax.tick_params(axis=\"x\",direction=\"in\", pad=-15)\n",
        "  ax.set_xticks(np.arange(-.75, 1, .25))\n",
        "  ax.set_yticks(np.arange(-.75, 1, .25))\n",
        "  ax.set_xlim([-1, 1])\n",
        "  ax.set_ylim([-1, 1])\n",
        "\n",
        "  cmap = cm.get_cmap('viridis')\n",
        "  c_norm = len(center)\n",
        "  plt.scatter(X[:, 0], X[:, 1], c=y/c_norm, s=50)\n",
        "  plt.scatter(center[:, 0], center[:, 1], c='red', marker='x', s=200, alpha=0.5);\n",
        "  \n",
        "  w_factor = 0.2 / weights.max()\n",
        "  for pos, covar, w, c in zip(center, covariances, weights, range(c_norm)):\n",
        "    clr = 0.0 if c_norm <= 1 else c/(c_norm-1)\n",
        "    draw_ellipse(pos, covar, ax, alpha=w * w_factor, fc=cmap(clr))\n",
        "\n",
        "  plt.close(fig)\n",
        "\n",
        "  return fig\n",
        "\n",
        "import base64\n",
        "import io\n",
        "\n",
        "def figure_to_base64(fig):\n",
        "  buf = io.BytesIO()\n",
        "  fig.savefig(buf, format='png', bbox_inches='tight', pad_inches=0);\n",
        "  image_base64 = base64.b64encode(buf.getvalue()).decode('utf-8').replace('\\n', '')\n",
        "  buf.close()\n",
        "  return image_base64\n",
        "\n",
        "\n",
        "def get_surface_data(centers, covs):\n",
        "  x_ = np.linspace(-1.0, +1.0, num=300)\n",
        "  y_ = np.linspace(-1.0, +1.0, num=300)\n",
        "  xx, yy = np.meshgrid(x_, y_)\n",
        "  x_vec = np.transpose(np.vstack([xx.ravel(), yy.ravel()])) - centers[:, np.newaxis]\n",
        "  prod_1 = np.array([np.dot(v,m) for v,m in zip(x_vec, np.linalg.inv(covs))])\n",
        "  prod_2 = np.array([np.sum(v1*v2, axis=1) for v1,v2 in zip(prod_1, x_vec)])\n",
        "  g = np.exp(-0.5 * prod_2)\n",
        "  g = g.reshape((g.shape[0], x_.shape[0], y_.shape[0]))\n",
        "  G = np.max(g, axis=0)\n",
        "  C = np.argmax(g, axis=0)\n",
        "  return x_, y_, G, C\n",
        "\n",
        "import json\n",
        "from IPython.display import display, clear_output\n",
        "\n",
        "def invoke(pts, n):\n",
        "  global html_div\n",
        "\n",
        "  data = np.array(pts).reshape((-1, 2))\n",
        "  X = data / 300.0 - 1.0\n",
        "  X[:, 1] *= -1.0\n",
        "\n",
        "  y_kmeans, centers, covs, w = cluster(X, int(n))\n",
        "  figr = plot_clusters(X, y_kmeans, centers, covs, w)\n",
        "  image_base64 = figure_to_base64(figr)\n",
        "\n",
        "  x_, y_, G, C = get_surface_data(centers, covs)\n",
        "\n",
        "  return IPython.display.JSON({'image': image_base64, \n",
        "                               'g_x': x_.tolist(), 'g_y': y_.tolist(), 'g_z': G.tolist(), 'g_c': C.tolist(),\n",
        "                               's_x': X[:, 0].tolist(), 's_y': X[:, 1].tolist(), 's_z': [0]*len(X), 's_c': y_kmeans.tolist()})\n",
        "\n",
        "\n",
        "import IPython\n",
        "from google.colab import output\n",
        "\n",
        "main_str = '''\n",
        "  <script src=\"https://cdn.plot.ly/plotly-latest.min.js\"></script> \n",
        "  <script type=\"application/javascript\">\n",
        "  \n",
        "    var active_pt = null;\n",
        "    var all_pts = [];\n",
        "    var classAbtn = [650, 100];\n",
        "    var classBbtn = [650, 200];\n",
        "    var ptR = 10.0;\n",
        "    var params = null;\n",
        "    var debug_txt = \"\";\n",
        "    var bg_image = new Image();\n",
        "\n",
        "    function is_close(pt1, pt2) {\n",
        "      return   (pt1[0] - pt2[0])*(pt1[0] - pt2[0])\n",
        "            +  (pt1[1] - pt2[1])*(pt1[1] - pt2[1])\n",
        "            <= ptR*ptR;\n",
        "    }\n",
        "  \n",
        "    function circ(ctx, pos) {\n",
        "      ctx.beginPath();\n",
        "      ctx.arc(pos[0], pos[1], ptR, 0.0, 2.0 * Math.PI, 0);\n",
        "      ctx.fillStyle = 'rgba(50, 50, 50, 0.2)';\n",
        "      ctx.fill();\n",
        "    }\n",
        "    \n",
        "    \n",
        "    function draw() {\n",
        "      var canvas = document.getElementById('canvas');\n",
        "      if (canvas.getContext) {\n",
        "        var ctx = canvas.getContext('2d');\n",
        "        \n",
        "        ctx.clearRect(0, 0, canvas.width, canvas.height); // cleanup before start\n",
        "        ctx.drawImage(bg_image, 0, 0, 600, 600);\n",
        "        ctx.strokeRect(0, 0, 600, 600); // field\n",
        "        \n",
        "        ctx.font = '20px serif';\n",
        "        ctx.fillStyle = 'black';\n",
        "        ctx.fillText(debug_txt, 200, 200);\n",
        "        \n",
        "        if (active_pt) {\n",
        "          circ(ctx, [active_pt[0], active_pt[1]]);\n",
        "        }\n",
        "        all_pts.forEach(function (item, index) {\n",
        "          circ(ctx, [item[0], item[1]]);\n",
        "        });\n",
        "\n",
        "      }\n",
        "    }\n",
        "    \n",
        "    var timer\n",
        "\n",
        "    function get_state() {\n",
        "      var rates = document.getElementsByName('rate');\n",
        "      for(var i = 0; i < rates.length; i++)\n",
        "        if(rates[i].checked)\n",
        "          return rates[i].value;\n",
        "      return \"none\";\n",
        "    }\n",
        "\n",
        "    \n",
        "    function mdown_handle(evt) {\n",
        "      evt.stopPropagation();\n",
        "      x = evt.offsetX;\n",
        "      y = evt.offsetY;\n",
        "      state = get_state();\n",
        "      if (state == \"add\") {\n",
        "        if (x < 600)\n",
        "            all_pts.push([x, y]);\n",
        "        return;\n",
        "      }\n",
        "\n",
        "      idx = -1;\n",
        "      all_pts.forEach(function (item, index) {\n",
        "        if (is_close([x,y], [item[0], item[1]])) {\n",
        "          idx = index;\n",
        "        }\n",
        "      });\n",
        "      if (idx <= -1)\n",
        "          return;\n",
        "      if (state == \"move\") {\n",
        "        active_pt = all_pts[idx];\n",
        "        all_pts.splice(idx, 1);\n",
        "      }\n",
        "      if (state == \"del\")\n",
        "          all_pts.splice(idx, 1);\n",
        "    }\n",
        "    \n",
        "    function mmove_handle(evt) {\n",
        "      evt.stopPropagation();\n",
        "      if (get_state() != \"move\")\n",
        "          return;\n",
        "      x = evt.offsetX;\n",
        "      y = evt.offsetY;\n",
        "      if (active_pt) {\n",
        "        active_pt[0] = x;\n",
        "        active_pt[1] = y;\n",
        "      }\n",
        "    }\n",
        "    \n",
        "    function mup_handle(evt) {\n",
        "      evt.stopPropagation();\n",
        "      x = evt.offsetX;\n",
        "      y = evt.offsetY;\n",
        "      if (x >= 600) {\n",
        "        active_pt = null;\n",
        "      }\n",
        "      if (active_pt) {\n",
        "        all_pts.push(active_pt);\n",
        "        active_pt = null;\n",
        "      }\n",
        "    }\n",
        "    \n",
        "    function clear_field() {\n",
        "      active_pt = null;\n",
        "      all_pts = [];\n",
        "    }\n",
        "\n",
        "\n",
        "   function plot_3d(g_x, g_y, g_z, g_c)\n",
        "   {\n",
        "     cell_for_plot = document.getElementById('for_plotly_plot');\n",
        "     var data = [{\n",
        "           x: g_x,\n",
        "           y: g_y,\n",
        "           z: g_z,\n",
        "           type: 'surface',\n",
        "           surfacecolor: g_c,\n",
        "           opacity: 0.9,\n",
        "           showscale: false,\n",
        "           colorscale: \"Viridis\"\n",
        "        }];\n",
        "  \n",
        "     var layout = {\n",
        "          title: 'Mt Bruno Elevation',\n",
        "          autosize: false,\n",
        "          width: 600,\n",
        "          height: 600,\n",
        "          showlegend: false\n",
        "        };\n",
        "     Plotly.plot(cell_for_plot, data, layout);\n",
        "   }\n",
        "\n",
        "   function plot_scatter(s_x, s_y, s_z, s_c)\n",
        "   {\n",
        "          \n",
        "     cell_for_plot = document.getElementById('for_plotly_plot');\n",
        "     var data = [{\n",
        "           x: s_x,\n",
        "           y: s_y,\n",
        "           z: s_z,\n",
        "           type: 'scatter3d',\n",
        "           mode: 'markers',\n",
        "           marker: {\n",
        "             size: 4,\n",
        "             color: s_c,\n",
        "             line: {\n",
        "               width: 2,\n",
        "               color: 'rgba(0, 0, 0, 0.5)'\n",
        "             }\n",
        "           }\n",
        "        }];\n",
        "    Plotly.plot(cell_for_plot, data, {});\n",
        "   }\n",
        "\n",
        "\n",
        "    var cur_depth = 1;\n",
        "\n",
        "    async function calculate() {\n",
        "      if (!all_pts)\n",
        "        return;\n",
        "      var merged = [].concat.apply([], all_pts);\n",
        "      const result = await google.colab.kernel.invokeFunction('notebook.InvSVM', [merged, cur_depth], {});\n",
        "      params = result.data['application/json'];\n",
        "            \n",
        "      bg_image.src = 'data:image/  png;base64,' + params.image;\n",
        "\n",
        "      plot_scatter(params.s_x, params.s_y, params.s_z, params.s_c);\n",
        "      plot_3d(params.g_x, params.g_y, params.g_z, params.g_c);\n",
        "      \n",
        "    }\n",
        "\n",
        "   function h_change(x) {\n",
        "    el = document.getElementById(\"slider_val\");\n",
        "    cur_depth = x;\n",
        "    el.innerHTML = x;\n",
        "  }\n",
        "\n",
        " </script>\n",
        "\n",
        "<div id=\"everything\" style=\"height:600px;\">\n",
        "<div id=\"for_plotly_plot\" style=\"position:absolute; top:0px; left:0px; height:600px; width:600px;\">\n",
        "</div>\n",
        "<div id=\"custom_controls\" style=\"position:absolute; top:0px; left:600px;\">\n",
        "  <canvas id=\"canvas\" width=\"800\" height=\"600\" \n",
        "    onmousedown=\"mdown_handle(event)\"\n",
        "    onmousemove=\"mmove_handle(event)\"\n",
        "    onmouseup=\"mup_handle(event)\"></canvas>\n",
        "  <div style=\"position:absolute; top:275px; left:625px;\">\n",
        "   <div style=\"border-style: solid;\">\n",
        "    <input type=\"radio\" id=\"r1\" name=\"rate\" value=\"add\" checked=\"checked\"> Add Feature\n",
        "    <br>\n",
        "    <input type=\"radio\" id=\"r2\" name=\"rate\" value=\"move\"> Move Features\n",
        "    <br>\n",
        "    <input type=\"radio\" id=\"r3\" name=\"rate\" value=\"del\"> Delete Feature\n",
        "    <br>\n",
        "    <button type=\"button\" onclick=\"clear_field();\">\n",
        "      Clear\n",
        "    </button>\n",
        "   </div>\n",
        "   <br><br>Number of clusters:<br>\n",
        "    <input type=\"range\" min=\"1\" max=\"9\" value=\"1\" oninput=\"h_change(this.value)\">\n",
        "    <br><div id=\"slider_val\">1</div>\n",
        "   <br><br>\n",
        "    <button type=\"button\" onclick=\"calculate();\">\n",
        "      GMM\n",
        "    </button>\n",
        "  </div>\n",
        "</div>\n",
        "<div>\n",
        "  \n",
        "<script>\n",
        "function init()\n",
        "{\n",
        "  timer = setInterval(draw, 10);\n",
        "}\n",
        "\n",
        "init();\n",
        "</script>\n",
        "'''\n",
        "\n",
        "display(IPython.display.HTML(main_str))\n",
        "output.register_callback('notebook.InvSVM', invoke)"
      ],
      "execution_count": 35,
      "outputs": [
        {
          "output_type": "display_data",
          "data": {
            "text/html": [
              "\n",
              "  <script src=\"https://cdn.plot.ly/plotly-latest.min.js\"></script> \n",
              "  <script type=\"application/javascript\">\n",
              "  \n",
              "    var active_pt = null;\n",
              "    var all_pts = [];\n",
              "    var classAbtn = [650, 100];\n",
              "    var classBbtn = [650, 200];\n",
              "    var ptR = 10.0;\n",
              "    var params = null;\n",
              "    var debug_txt = \"\";\n",
              "    var bg_image = new Image();\n",
              "\n",
              "    function is_close(pt1, pt2) {\n",
              "      return   (pt1[0] - pt2[0])*(pt1[0] - pt2[0])\n",
              "            +  (pt1[1] - pt2[1])*(pt1[1] - pt2[1])\n",
              "            <= ptR*ptR;\n",
              "    }\n",
              "  \n",
              "    function circ(ctx, pos) {\n",
              "      ctx.beginPath();\n",
              "      ctx.arc(pos[0], pos[1], ptR, 0.0, 2.0 * Math.PI, 0);\n",
              "      ctx.fillStyle = 'rgba(50, 50, 50, 0.2)';\n",
              "      ctx.fill();\n",
              "    }\n",
              "    \n",
              "    \n",
              "    function draw() {\n",
              "      var canvas = document.getElementById('canvas');\n",
              "      if (canvas.getContext) {\n",
              "        var ctx = canvas.getContext('2d');\n",
              "        \n",
              "        ctx.clearRect(0, 0, canvas.width, canvas.height); // cleanup before start\n",
              "        ctx.drawImage(bg_image, 0, 0, 600, 600);\n",
              "        ctx.strokeRect(0, 0, 600, 600); // field\n",
              "        \n",
              "        ctx.font = '20px serif';\n",
              "        ctx.fillStyle = 'black';\n",
              "        ctx.fillText(debug_txt, 200, 200);\n",
              "        \n",
              "        if (active_pt) {\n",
              "          circ(ctx, [active_pt[0], active_pt[1]]);\n",
              "        }\n",
              "        all_pts.forEach(function (item, index) {\n",
              "          circ(ctx, [item[0], item[1]]);\n",
              "        });\n",
              "\n",
              "      }\n",
              "    }\n",
              "    \n",
              "    var timer\n",
              "\n",
              "    function get_state() {\n",
              "      var rates = document.getElementsByName('rate');\n",
              "      for(var i = 0; i < rates.length; i++)\n",
              "        if(rates[i].checked)\n",
              "          return rates[i].value;\n",
              "      return \"none\";\n",
              "    }\n",
              "\n",
              "    \n",
              "    function mdown_handle(evt) {\n",
              "      evt.stopPropagation();\n",
              "      x = evt.offsetX;\n",
              "      y = evt.offsetY;\n",
              "      state = get_state();\n",
              "      if (state == \"add\") {\n",
              "        if (x < 600)\n",
              "            all_pts.push([x, y]);\n",
              "        return;\n",
              "      }\n",
              "\n",
              "      idx = -1;\n",
              "      all_pts.forEach(function (item, index) {\n",
              "        if (is_close([x,y], [item[0], item[1]])) {\n",
              "          idx = index;\n",
              "        }\n",
              "      });\n",
              "      if (idx <= -1)\n",
              "          return;\n",
              "      if (state == \"move\") {\n",
              "        active_pt = all_pts[idx];\n",
              "        all_pts.splice(idx, 1);\n",
              "      }\n",
              "      if (state == \"del\")\n",
              "          all_pts.splice(idx, 1);\n",
              "    }\n",
              "    \n",
              "    function mmove_handle(evt) {\n",
              "      evt.stopPropagation();\n",
              "      if (get_state() != \"move\")\n",
              "          return;\n",
              "      x = evt.offsetX;\n",
              "      y = evt.offsetY;\n",
              "      if (active_pt) {\n",
              "        active_pt[0] = x;\n",
              "        active_pt[1] = y;\n",
              "      }\n",
              "    }\n",
              "    \n",
              "    function mup_handle(evt) {\n",
              "      evt.stopPropagation();\n",
              "      x = evt.offsetX;\n",
              "      y = evt.offsetY;\n",
              "      if (x >= 600) {\n",
              "        active_pt = null;\n",
              "      }\n",
              "      if (active_pt) {\n",
              "        all_pts.push(active_pt);\n",
              "        active_pt = null;\n",
              "      }\n",
              "    }\n",
              "    \n",
              "    function clear_field() {\n",
              "      active_pt = null;\n",
              "      all_pts = [];\n",
              "    }\n",
              "\n",
              "\n",
              "   function plot_3d(g_x, g_y, g_z, g_c)\n",
              "   {\n",
              "     cell_for_plot = document.getElementById('for_plotly_plot');\n",
              "     var data = [{\n",
              "           x: g_x,\n",
              "           y: g_y,\n",
              "           z: g_z,\n",
              "           type: 'surface',\n",
              "           surfacecolor: g_c,\n",
              "           opacity: 0.9,\n",
              "           showscale: false,\n",
              "           colorscale: \"Viridis\"\n",
              "        }];\n",
              "  \n",
              "     var layout = {\n",
              "          title: 'Mt Bruno Elevation',\n",
              "          autosize: false,\n",
              "          width: 600,\n",
              "          height: 600,\n",
              "          showlegend: false\n",
              "        };\n",
              "     Plotly.plot(cell_for_plot, data, layout);\n",
              "   }\n",
              "\n",
              "   function plot_scatter(s_x, s_y, s_z, s_c)\n",
              "   {\n",
              "          \n",
              "     cell_for_plot = document.getElementById('for_plotly_plot');\n",
              "     var data = [{\n",
              "           x: s_x,\n",
              "           y: s_y,\n",
              "           z: s_z,\n",
              "           type: 'scatter3d',\n",
              "           mode: 'markers',\n",
              "           marker: {\n",
              "             size: 4,\n",
              "             color: s_c,\n",
              "             line: {\n",
              "               width: 2,\n",
              "               color: 'rgba(0, 0, 0, 0.5)'\n",
              "             }\n",
              "           }\n",
              "        }];\n",
              "    Plotly.plot(cell_for_plot, data, {});\n",
              "   }\n",
              "\n",
              "\n",
              "    var cur_depth = 1;\n",
              "\n",
              "    async function calculate() {\n",
              "      if (!all_pts)\n",
              "        return;\n",
              "      var merged = [].concat.apply([], all_pts);\n",
              "      const result = await google.colab.kernel.invokeFunction('notebook.InvSVM', [merged, cur_depth], {});\n",
              "      params = result.data['application/json'];\n",
              "            \n",
              "      bg_image.src = 'data:image/  png;base64,' + params.image;\n",
              "\n",
              "      plot_scatter(params.s_x, params.s_y, params.s_z, params.s_c);\n",
              "      plot_3d(params.g_x, params.g_y, params.g_z, params.g_c);\n",
              "      \n",
              "    }\n",
              "\n",
              "   function h_change(x) {\n",
              "    el = document.getElementById(\"slider_val\");\n",
              "    cur_depth = x;\n",
              "    el.innerHTML = x;\n",
              "  }\n",
              "\n",
              " </script>\n",
              "\n",
              "<div id=\"everything\" style=\"height:600px;\">\n",
              "<div id=\"for_plotly_plot\" style=\"position:absolute; top:0px; left:0px; height:600px; width:600px;\">\n",
              "</div>\n",
              "<div id=\"custom_controls\" style=\"position:absolute; top:0px; left:600px;\">\n",
              "  <canvas id=\"canvas\" width=\"800\" height=\"600\" \n",
              "    onmousedown=\"mdown_handle(event)\"\n",
              "    onmousemove=\"mmove_handle(event)\"\n",
              "    onmouseup=\"mup_handle(event)\"></canvas>\n",
              "  <div style=\"position:absolute; top:275px; left:625px;\">\n",
              "   <div style=\"border-style: solid;\">\n",
              "    <input type=\"radio\" id=\"r1\" name=\"rate\" value=\"add\" checked=\"checked\"> Add Feature\n",
              "    <br>\n",
              "    <input type=\"radio\" id=\"r2\" name=\"rate\" value=\"move\"> Move Features\n",
              "    <br>\n",
              "    <input type=\"radio\" id=\"r3\" name=\"rate\" value=\"del\"> Delete Feature\n",
              "    <br>\n",
              "    <button type=\"button\" onclick=\"clear_field();\">\n",
              "      Clear\n",
              "    </button>\n",
              "   </div>\n",
              "   <br><br>Number of clusters:<br>\n",
              "    <input type=\"range\" min=\"1\" max=\"9\" value=\"1\" oninput=\"h_change(this.value)\">\n",
              "    <br><div id=\"slider_val\">1</div>\n",
              "   <br><br>\n",
              "    <button type=\"button\" onclick=\"calculate();\">\n",
              "      GMM\n",
              "    </button>\n",
              "  </div>\n",
              "</div>\n",
              "<div>\n",
              "  \n",
              "<script>\n",
              "function init()\n",
              "{\n",
              "  timer = setInterval(draw, 10);\n",
              "}\n",
              "\n",
              "init();\n",
              "</script>\n"
            ],
            "text/plain": [
              "<IPython.core.display.HTML object>"
            ]
          },
          "metadata": {
            "tags": []
          }
        }
      ]
    }
  ]
}