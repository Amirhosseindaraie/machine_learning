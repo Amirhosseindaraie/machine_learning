{
  "nbformat": 4,
  "nbformat_minor": 0,
  "metadata": {
    "colab": {
      "name": "python_refresher.ipynb",
      "provenance": [],
      "toc_visible": true,
      "include_colab_link": true
    },
    "kernelspec": {
      "name": "python3",
      "display_name": "Python 3"
    }
  },
  "cells": [
    {
      "cell_type": "markdown",
      "metadata": {
        "id": "view-in-github",
        "colab_type": "text"
      },
      "source": [
        "<a href=\"https://colab.research.google.com/github/fbeilstein/machine_learning/blob/master/python_refresher.ipynb\" target=\"_parent\"><img src=\"https://colab.research.google.com/assets/colab-badge.svg\" alt=\"Open In Colab\"/></a>"
      ]
    },
    {
      "cell_type": "markdown",
      "metadata": {
        "id": "2j2uJUHH-VD1",
        "colab_type": "text"
      },
      "source": [
        "# Why Python?"
      ]
    },
    {
      "cell_type": "markdown",
      "metadata": {
        "id": "-6gvpj-5-Y6U",
        "colab_type": "text"
      },
      "source": [
        "* Program portability (e.g. Linux-Windows)\n",
        "* Support libraries (e.g. NumPy)\n",
        "* Component integration (e.g. C++, CORBA, SOAP)\n",
        "* Easy to learn\n",
        "\n",
        "**downsides:** speed"
      ]
    },
    {
      "cell_type": "markdown",
      "metadata": {
        "id": "TvrmAESCALQt",
        "colab_type": "text"
      },
      "source": [
        "**Usages:**\n",
        "\n",
        "* System-administration tools and utilities (sometimes called shell tools)\n",
        "* GUIs (tkinter, QT, etc.)\n",
        "* Internet Scripting (e.g. Django)\n",
        "* Database Programming (e.g. MySQL), map relational tables onto Python’s class model (e.g. SQLAlchemy)\n",
        "* Rapid Prototyping\n",
        "* Numeric and Scientific Programming (NumPy, SciPy, etc.)"
      ]
    },
    {
      "cell_type": "markdown",
      "metadata": {
        "id": "v3nOATS5HV2N",
        "colab_type": "text"
      },
      "source": [
        "**Under the hood**\n",
        "\n",
        "$$\n",
        "\\boxed{\\text{Code, .py}}\n",
        "\\rightarrow\n",
        "\\boxed{\\text{Bytecode, .pyc}}\n",
        "\\rightarrow\n",
        "\\boxed{\\text{PVM (virtual machine)}}\n",
        "$$"
      ]
    },
    {
      "cell_type": "markdown",
      "metadata": {
        "id": "q-tokoLTJisd",
        "colab_type": "text"
      },
      "source": [
        "* frozen binaries: py2exe (for Windows), PyInstaller (which is similar to py2exe but also works on Linux and Unix and is capable of generating self-installing binaries), and freeze (the original)."
      ]
    },
    {
      "cell_type": "code",
      "metadata": {
        "id": "pPndMoZapl6V",
        "colab_type": "code",
        "outputId": "e15e9d06-29f5-457c-cc64-aeeecfb9dcca",
        "colab": {
          "base_uri": "https://localhost:8080/",
          "height": 50
        }
      },
      "source": [
        "# https://docs.scipy.org/doc/scipy/reference/generated/scipy.special.assoc_laguerre.html\n",
        "\n",
        "from scipy.special import assoc_laguerre\n",
        "from scipy.special import binom\n",
        "import numpy as np\n",
        "\n",
        "K = 3\n",
        "\n",
        "def x_0(alpha, k):\n",
        "  return np.sqrt(2) * alpha * np.cos(k * np.pi / K)\n",
        "\n",
        "def E(sigma, alpha, s, k, n):\n",
        "  f = sigma**2 / (s + sigma**2)\n",
        "  y = - x_0(alpha, k)**2 / (s + sigma**2)\n",
        "  return s**n * f**(n + 1/2) * np.exp(y) * assoc_laguerre(y * sigma**2 / s, n, -1/2)\n",
        "\n",
        "def E_tot(sigma, n):\n",
        "  f = sigma**2 / (1 + sigma**2)\n",
        "  return 0.5 * (-1)**(n+1) * f**(n+0.5) * (binom(-1/2, n) - 2 * f * binom(-3/2, n))\n",
        "\n",
        "print(x_0(1, 1))\n",
        "print(E(0.2, 1, 1, 1, 1))"
      ],
      "execution_count": 1,
      "outputs": [
        {
          "output_type": "stream",
          "text": [
            "0.7071067811865477\n",
            "0.0024216143114033704\n"
          ],
          "name": "stdout"
        }
      ]
    },
    {
      "cell_type": "code",
      "metadata": {
        "id": "1_XPdjpcsguK",
        "colab_type": "code",
        "outputId": "e18a3f89-e97f-41b8-f16a-1756c13e5187",
        "colab": {
          "base_uri": "https://localhost:8080/",
          "height": 250
        }
      },
      "source": [
        "from scipy.optimize import minimize\n",
        "\n",
        "K = 3\n",
        "s = 0\n",
        "sigma = 1\n",
        "\n",
        "C_n = np.array([0.0] * 2, dtype=float)\n",
        "alpha = 0.0\n",
        "\n",
        "def func_to_minimize(params):\n",
        "  C_n = np.array([1.0] + params.tolist())\n",
        "  number_of_C = C_n.shape[0]\n",
        "  E_totals = np.array([E_tot(sigma, n) for n in range(number_of_C)])\n",
        "  LHS = K * np.abs(np.dot(E_totals, C_n))\n",
        "\n",
        "  def min_in_min(a):\n",
        "    Es = np.array([[E(sigma, a[0], s, k, n) for k in range(K)] for n in range(number_of_C)])\n",
        "    RHS = np.abs(np.dot(np.sum(Es, axis=1), C_n))\n",
        "    return -RHS\n",
        "\n",
        "  alpha_min = minimize(min_in_min, [0.0], \n",
        "         method='Nelder-Mead', jac=None, hess=None,\n",
        "         options={'maxiter':100}, callback=None)\n",
        "  #print(alpha_min['x'][0])\n",
        "\n",
        "  Es = np.array([[E(sigma, alpha_min['x'][0], s, k, n) for k in range(K)] for n in range(number_of_C)])\n",
        "  RHS = np.abs(np.dot(np.sum(Es, axis=1), C_n))\n",
        "  return - LHS / (RHS + 1E-5)\n",
        "\n",
        "minimize(func_to_minimize, C_n, \n",
        "         method='Nelder-Mead', jac=None, hess=None,\n",
        "         options={'maxiter':1000}, callback=None)"
      ],
      "execution_count": 3,
      "outputs": [
        {
          "output_type": "stream",
          "text": [
            "/usr/local/lib/python3.6/dist-packages/ipykernel_launcher.py:14: RuntimeWarning: invalid value encountered in double_scalars\n",
            "  \n",
            "/usr/local/lib/python3.6/dist-packages/ipykernel_launcher.py:14: RuntimeWarning: divide by zero encountered in double_scalars\n",
            "  \n"
          ],
          "name": "stderr"
        },
        {
          "output_type": "execute_result",
          "data": {
            "text/plain": [
              " final_simplex: (array([[0.00000000e+000, 0.00000000e+000],\n",
              "       [4.66631809e-305, 0.00000000e+000],\n",
              "       [0.00000000e+000, 4.66631809e-305]]), array([nan, nan, nan]))\n",
              "           fun: nan\n",
              "       message: 'Maximum number of iterations has been exceeded.'\n",
              "          nfev: 3999\n",
              "           nit: 1000\n",
              "        status: 2\n",
              "       success: False\n",
              "             x: array([0., 0.])"
            ]
          },
          "metadata": {
            "tags": []
          },
          "execution_count": 3
        }
      ]
    },
    {
      "cell_type": "code",
      "metadata": {
        "id": "rj_y4kaXJhr_",
        "colab_type": "code",
        "outputId": "b371283b-1a23-4f13-b9b5-39f03e1af2d2",
        "colab": {
          "base_uri": "https://localhost:8080/",
          "height": 35
        }
      },
      "source": [
        "exec('print(\"hello world\")')"
      ],
      "execution_count": 0,
      "outputs": [
        {
          "output_type": "stream",
          "text": [
            "hello world\n"
          ],
          "name": "stdout"
        }
      ]
    },
    {
      "cell_type": "code",
      "metadata": {
        "id": "qWhjievUw_su",
        "colab_type": "code",
        "outputId": "a82b1eb4-d0bf-449b-92ea-fabf5694e572",
        "colab": {
          "base_uri": "https://localhost:8080/",
          "height": 35
        }
      },
      "source": [
        "x = 2\n",
        "y = 3\n",
        "x + y"
      ],
      "execution_count": 0,
      "outputs": [
        {
          "output_type": "execute_result",
          "data": {
            "text/plain": [
              "5"
            ]
          },
          "metadata": {
            "tags": []
          },
          "execution_count": 1
        }
      ]
    },
    {
      "cell_type": "code",
      "metadata": {
        "id": "3I4SHqggxGKx",
        "colab_type": "code",
        "outputId": "f34578d4-8ae4-4e6a-cd36-b2b8eaa5c966",
        "colab": {
          "base_uri": "https://localhost:8080/",
          "height": 35
        }
      },
      "source": [
        "if x > y:\n",
        "  print(\"greater\")\n",
        "else:\n",
        "  print(\"not greater\")"
      ],
      "execution_count": 0,
      "outputs": [
        {
          "output_type": "stream",
          "text": [
            "not greater\n"
          ],
          "name": "stdout"
        }
      ]
    },
    {
      "cell_type": "code",
      "metadata": {
        "id": "laXpOLE0xP7z",
        "colab_type": "code",
        "outputId": "e2a037cd-1e5a-4086-e27e-1e285fe810e9",
        "colab": {
          "base_uri": "https://localhost:8080/",
          "height": 35
        }
      },
      "source": [
        "for i in range(5):\n",
        "  print(i, end=',')"
      ],
      "execution_count": 0,
      "outputs": [
        {
          "output_type": "stream",
          "text": [
            "0,1,2,3,4,"
          ],
          "name": "stdout"
        }
      ]
    },
    {
      "cell_type": "code",
      "metadata": {
        "id": "dwwjpWW4xWQ4",
        "colab_type": "code",
        "outputId": "74600018-ba5f-46a9-eb2d-d8f05db2054a",
        "colab": {
          "base_uri": "https://localhost:8080/",
          "height": 35
        }
      },
      "source": [
        "L = [2,3,5,7,11,13,17]\n",
        "L"
      ],
      "execution_count": 0,
      "outputs": [
        {
          "output_type": "execute_result",
          "data": {
            "text/plain": [
              "[2, 3, 5, 7, 11, 13, 17]"
            ]
          },
          "metadata": {
            "tags": []
          },
          "execution_count": 3
        }
      ]
    },
    {
      "cell_type": "code",
      "metadata": {
        "id": "klie3zCqxeDZ",
        "colab_type": "code",
        "outputId": "b6a65517-07a6-4aab-b60f-075277fba476",
        "colab": {
          "base_uri": "https://localhost:8080/",
          "height": 35
        }
      },
      "source": [
        "for prime in L:\n",
        "  print(prime, end=',')"
      ],
      "execution_count": 0,
      "outputs": [
        {
          "output_type": "stream",
          "text": [
            "2,3,5,7,11,13,17,"
          ],
          "name": "stdout"
        }
      ]
    },
    {
      "cell_type": "code",
      "metadata": {
        "id": "j9bz_mkmxjnl",
        "colab_type": "code",
        "outputId": "1a588c43-3c13-4329-b746-df8e609f9d04",
        "colab": {
          "base_uri": "https://localhost:8080/",
          "height": 35
        }
      },
      "source": [
        "p = 5\n",
        "if p in L:\n",
        "  print(p, ' is prime')"
      ],
      "execution_count": 0,
      "outputs": [
        {
          "output_type": "stream",
          "text": [
            "5  is prime\n"
          ],
          "name": "stdout"
        }
      ]
    },
    {
      "cell_type": "code",
      "metadata": {
        "id": "-O_zGYpNxz0c",
        "colab_type": "code",
        "outputId": "af6cb186-6355-40d7-e714-87f5bfaefee3",
        "colab": {
          "base_uri": "https://localhost:8080/",
          "height": 35
        }
      },
      "source": [
        "L_extended = L + [19, 23]\n",
        "L_extended"
      ],
      "execution_count": 0,
      "outputs": [
        {
          "output_type": "execute_result",
          "data": {
            "text/plain": [
              "[2, 3, 5, 7, 11, 13, 17, 19, 23]"
            ]
          },
          "metadata": {
            "tags": []
          },
          "execution_count": 8
        }
      ]
    },
    {
      "cell_type": "code",
      "metadata": {
        "id": "hJrfKXuPyrVw",
        "colab_type": "code",
        "outputId": "386962ee-d712-4f85-e0ce-9259616eb788",
        "colab": {
          "base_uri": "https://localhost:8080/",
          "height": 35
        }
      },
      "source": [
        "L_extended[2:5]"
      ],
      "execution_count": 0,
      "outputs": [
        {
          "output_type": "execute_result",
          "data": {
            "text/plain": [
              "[5, 7, 11]"
            ]
          },
          "metadata": {
            "tags": []
          },
          "execution_count": 9
        }
      ]
    },
    {
      "cell_type": "code",
      "metadata": {
        "id": "S9kna0u2yw0w",
        "colab_type": "code",
        "outputId": "80997ec9-a2a3-482f-f650-3e688af498eb",
        "colab": {
          "base_uri": "https://localhost:8080/",
          "height": 35
        }
      },
      "source": [
        "L_extended[:-3]"
      ],
      "execution_count": 0,
      "outputs": [
        {
          "output_type": "execute_result",
          "data": {
            "text/plain": [
              "[2, 3, 5, 7, 11, 13]"
            ]
          },
          "metadata": {
            "tags": []
          },
          "execution_count": 10
        }
      ]
    },
    {
      "cell_type": "code",
      "metadata": {
        "id": "_KKlGp0ObdYI",
        "colab_type": "code",
        "outputId": "1b9bfeba-c218-4ebf-9476-f30778dc5b73",
        "colab": {
          "base_uri": "https://localhost:8080/",
          "height": 143
        }
      },
      "source": [
        "while L:\n",
        "  L = L[1:]\n",
        "  print(L)"
      ],
      "execution_count": 0,
      "outputs": [
        {
          "output_type": "stream",
          "text": [
            "[3, 5, 7, 11, 13, 17]\n",
            "[5, 7, 11, 13, 17]\n",
            "[7, 11, 13, 17]\n",
            "[11, 13, 17]\n",
            "[13, 17]\n",
            "[17]\n",
            "[]\n"
          ],
          "name": "stdout"
        }
      ]
    },
    {
      "cell_type": "code",
      "metadata": {
        "id": "-ygqjz7XblTj",
        "colab_type": "code",
        "outputId": "bf74b8a9-95eb-4de6-afd1-b5c88ce6545f",
        "colab": {
          "base_uri": "https://localhost:8080/",
          "height": 35
        }
      },
      "source": [
        "def func(arg1, arg2):\n",
        "  return arg1 + arg2\n",
        "\n",
        "x = func(3, 4)\n",
        "x"
      ],
      "execution_count": 0,
      "outputs": [
        {
          "output_type": "execute_result",
          "data": {
            "text/plain": [
              "7"
            ]
          },
          "metadata": {
            "tags": []
          },
          "execution_count": 5
        }
      ]
    },
    {
      "cell_type": "code",
      "metadata": {
        "id": "DKqCJhW2b4GG",
        "colab_type": "code",
        "outputId": "44c227c7-3deb-4831-c0fa-ef1ca1958018",
        "colab": {
          "base_uri": "https://localhost:8080/",
          "height": 35
        }
      },
      "source": [
        "[i**2 for i in range(5)]"
      ],
      "execution_count": 0,
      "outputs": [
        {
          "output_type": "execute_result",
          "data": {
            "text/plain": [
              "[0, 1, 4, 9, 16]"
            ]
          },
          "metadata": {
            "tags": []
          },
          "execution_count": 6
        }
      ]
    },
    {
      "cell_type": "code",
      "metadata": {
        "id": "IfVOajgDQzAv",
        "colab_type": "code",
        "outputId": "55802bcf-ae0c-44b6-ef00-08693e1e75cb",
        "colab": {
          "base_uri": "https://localhost:8080/",
          "height": 53
        }
      },
      "source": [
        "def func(x):\n",
        "  x[0] += 175  \n",
        "\n",
        "L = [i**2 for i in range(5)]\n",
        "print(L)\n",
        "func(L)\n",
        "print(L)"
      ],
      "execution_count": 0,
      "outputs": [
        {
          "output_type": "stream",
          "text": [
            "[0, 1, 4, 9, 16]\n",
            "[175, 1, 4, 9, 16]\n"
          ],
          "name": "stdout"
        }
      ]
    },
    {
      "cell_type": "code",
      "metadata": {
        "id": "esn1O_u9RSKu",
        "colab_type": "code",
        "outputId": "a4b09d60-f67a-4b17-9b01-6f02baa63763",
        "colab": {
          "base_uri": "https://localhost:8080/",
          "height": 53
        }
      },
      "source": [
        "def func(x):\n",
        "  y = x.copy()\n",
        "  y[0] += 175\n",
        "\n",
        "L = [i**2 for i in range(5)]\n",
        "print(L)\n",
        "func(L)\n",
        "print(L)"
      ],
      "execution_count": 0,
      "outputs": [
        {
          "output_type": "stream",
          "text": [
            "[0, 1, 4, 9, 16]\n",
            "[0, 1, 4, 9, 16]\n"
          ],
          "name": "stdout"
        }
      ]
    },
    {
      "cell_type": "code",
      "metadata": {
        "id": "z_9X9_2Fb6wB",
        "colab_type": "code",
        "outputId": "2d163081-08a9-422a-ba8a-c6a31fb4875d",
        "colab": {
          "base_uri": "https://localhost:8080/",
          "height": 35
        }
      },
      "source": [
        "class SomeClass:\n",
        "\n",
        "  def __init__(self, arg1, arg2):\n",
        "    self._sum = arg1 + arg2\n",
        "    self._diff = arg1 - arg2\n",
        "\n",
        "  def printer(self):\n",
        "    print(self._sum, self._diff)\n",
        "\n",
        "\n",
        "obj = SomeClass(3, 4)\n",
        "obj.printer()"
      ],
      "execution_count": 0,
      "outputs": [
        {
          "output_type": "stream",
          "text": [
            "7 -1\n"
          ],
          "name": "stdout"
        }
      ]
    },
    {
      "cell_type": "code",
      "metadata": {
        "id": "v9Gcre15ezpH",
        "colab_type": "code",
        "outputId": "8c744b4b-cd87-4104-ecf9-4ca5d8d87237",
        "colab": {
          "base_uri": "https://localhost:8080/",
          "height": 53
        }
      },
      "source": [
        "class SomeOtherClass:\n",
        "\n",
        "  def __init__(self, arg1, arg2):\n",
        "    self._sum = arg1 + arg2\n",
        "    self._diff = arg1 - arg2\n",
        "\n",
        "  def update_sum(self, arg):\n",
        "    self._sum = arg\n",
        "\n",
        "  def printer(self):\n",
        "    print(self._sum, self._diff)\n",
        "\n",
        "\n",
        "obj = SomeOtherClass(3, 4)\n",
        "obj.printer()\n",
        "obj.update_sum(77)\n",
        "obj.printer()"
      ],
      "execution_count": 0,
      "outputs": [
        {
          "output_type": "stream",
          "text": [
            "7 -1\n",
            "77 -1\n"
          ],
          "name": "stdout"
        }
      ]
    },
    {
      "cell_type": "markdown",
      "metadata": {
        "id": "ZpprzcBybbC7",
        "colab_type": "text"
      },
      "source": [
        "**How to debug**\n",
        "\n",
        "* Don't hesitate to change or comment out code for debug\n",
        "* Print intermediate results if you are not sure what function does\n",
        "* Separate logical blocks as functions\n",
        "* Write tests, test your functions on inputs you can deduce the output for\n",
        "\n",
        "\n",
        "**Code style**\n",
        "\n",
        "* Use meaningful names\n",
        "* Use single style (CamelStyle, underscore_style)\n",
        "* Use some conventions for class-function-variable names\n",
        "* Isolate logical blocks as functions, consider creating classes to save states\n",
        "* Use first underscore convention for private variables"
      ]
    }
  ]
}