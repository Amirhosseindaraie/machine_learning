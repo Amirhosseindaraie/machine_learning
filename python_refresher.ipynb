{
  "nbformat": 4,
  "nbformat_minor": 0,
  "metadata": {
    "colab": {
      "name": "python_refresher.ipynb",
      "version": "0.3.2",
      "provenance": [],
      "toc_visible": true,
      "include_colab_link": true
    },
    "kernelspec": {
      "name": "python3",
      "display_name": "Python 3"
    }
  },
  "cells": [
    {
      "cell_type": "markdown",
      "metadata": {
        "id": "view-in-github",
        "colab_type": "text"
      },
      "source": [
        "<a href=\"https://colab.research.google.com/github/fbeilstein/machine_learning/blob/master/python_refresher.ipynb\" target=\"_parent\"><img src=\"https://colab.research.google.com/assets/colab-badge.svg\" alt=\"Open In Colab\"/></a>"
      ]
    },
    {
      "cell_type": "code",
      "metadata": {
        "id": "qWhjievUw_su",
        "colab_type": "code",
        "outputId": "a82b1eb4-d0bf-449b-92ea-fabf5694e572",
        "colab": {
          "base_uri": "https://localhost:8080/",
          "height": 35
        }
      },
      "source": [
        "x = 2\n",
        "y = 3\n",
        "x + y"
      ],
      "execution_count": 0,
      "outputs": [
        {
          "output_type": "execute_result",
          "data": {
            "text/plain": [
              "5"
            ]
          },
          "metadata": {
            "tags": []
          },
          "execution_count": 1
        }
      ]
    },
    {
      "cell_type": "code",
      "metadata": {
        "id": "3I4SHqggxGKx",
        "colab_type": "code",
        "outputId": "f34578d4-8ae4-4e6a-cd36-b2b8eaa5c966",
        "colab": {
          "base_uri": "https://localhost:8080/",
          "height": 35
        }
      },
      "source": [
        "if x > y:\n",
        "  print(\"greater\")\n",
        "else:\n",
        "  print(\"not greater\")"
      ],
      "execution_count": 0,
      "outputs": [
        {
          "output_type": "stream",
          "text": [
            "not greater\n"
          ],
          "name": "stdout"
        }
      ]
    },
    {
      "cell_type": "code",
      "metadata": {
        "id": "laXpOLE0xP7z",
        "colab_type": "code",
        "outputId": "e2a037cd-1e5a-4086-e27e-1e285fe810e9",
        "colab": {
          "base_uri": "https://localhost:8080/",
          "height": 35
        }
      },
      "source": [
        "for i in range(5):\n",
        "  print(i, end=',')"
      ],
      "execution_count": 0,
      "outputs": [
        {
          "output_type": "stream",
          "text": [
            "0,1,2,3,4,"
          ],
          "name": "stdout"
        }
      ]
    },
    {
      "cell_type": "code",
      "metadata": {
        "id": "dwwjpWW4xWQ4",
        "colab_type": "code",
        "outputId": "74600018-ba5f-46a9-eb2d-d8f05db2054a",
        "colab": {
          "base_uri": "https://localhost:8080/",
          "height": 35
        }
      },
      "source": [
        "L = [2,3,5,7,11,13,17]\n",
        "L"
      ],
      "execution_count": 0,
      "outputs": [
        {
          "output_type": "execute_result",
          "data": {
            "text/plain": [
              "[2, 3, 5, 7, 11, 13, 17]"
            ]
          },
          "metadata": {
            "tags": []
          },
          "execution_count": 3
        }
      ]
    },
    {
      "cell_type": "code",
      "metadata": {
        "id": "klie3zCqxeDZ",
        "colab_type": "code",
        "outputId": "b6a65517-07a6-4aab-b60f-075277fba476",
        "colab": {
          "base_uri": "https://localhost:8080/",
          "height": 35
        }
      },
      "source": [
        "for prime in L:\n",
        "  print(prime, end=',')"
      ],
      "execution_count": 0,
      "outputs": [
        {
          "output_type": "stream",
          "text": [
            "2,3,5,7,11,13,17,"
          ],
          "name": "stdout"
        }
      ]
    },
    {
      "cell_type": "code",
      "metadata": {
        "id": "j9bz_mkmxjnl",
        "colab_type": "code",
        "outputId": "1a588c43-3c13-4329-b746-df8e609f9d04",
        "colab": {
          "base_uri": "https://localhost:8080/",
          "height": 35
        }
      },
      "source": [
        "p = 5\n",
        "if p in L:\n",
        "  print(p, ' is prime')"
      ],
      "execution_count": 0,
      "outputs": [
        {
          "output_type": "stream",
          "text": [
            "5  is prime\n"
          ],
          "name": "stdout"
        }
      ]
    },
    {
      "cell_type": "code",
      "metadata": {
        "id": "-O_zGYpNxz0c",
        "colab_type": "code",
        "outputId": "af6cb186-6355-40d7-e714-87f5bfaefee3",
        "colab": {
          "base_uri": "https://localhost:8080/",
          "height": 35
        }
      },
      "source": [
        "L_extended = L + [19, 23]\n",
        "L_extended"
      ],
      "execution_count": 0,
      "outputs": [
        {
          "output_type": "execute_result",
          "data": {
            "text/plain": [
              "[2, 3, 5, 7, 11, 13, 17, 19, 23]"
            ]
          },
          "metadata": {
            "tags": []
          },
          "execution_count": 8
        }
      ]
    },
    {
      "cell_type": "code",
      "metadata": {
        "id": "hJrfKXuPyrVw",
        "colab_type": "code",
        "outputId": "386962ee-d712-4f85-e0ce-9259616eb788",
        "colab": {
          "base_uri": "https://localhost:8080/",
          "height": 35
        }
      },
      "source": [
        "L_extended[2:5]"
      ],
      "execution_count": 0,
      "outputs": [
        {
          "output_type": "execute_result",
          "data": {
            "text/plain": [
              "[5, 7, 11]"
            ]
          },
          "metadata": {
            "tags": []
          },
          "execution_count": 9
        }
      ]
    },
    {
      "cell_type": "code",
      "metadata": {
        "id": "S9kna0u2yw0w",
        "colab_type": "code",
        "outputId": "80997ec9-a2a3-482f-f650-3e688af498eb",
        "colab": {
          "base_uri": "https://localhost:8080/",
          "height": 35
        }
      },
      "source": [
        "L_extended[:-3]"
      ],
      "execution_count": 0,
      "outputs": [
        {
          "output_type": "execute_result",
          "data": {
            "text/plain": [
              "[2, 3, 5, 7, 11, 13]"
            ]
          },
          "metadata": {
            "tags": []
          },
          "execution_count": 10
        }
      ]
    },
    {
      "cell_type": "code",
      "metadata": {
        "id": "_KKlGp0ObdYI",
        "colab_type": "code",
        "outputId": "1b9bfeba-c218-4ebf-9476-f30778dc5b73",
        "colab": {
          "base_uri": "https://localhost:8080/",
          "height": 143
        }
      },
      "source": [
        "while L:\n",
        "  L = L[1:]\n",
        "  print(L)"
      ],
      "execution_count": 0,
      "outputs": [
        {
          "output_type": "stream",
          "text": [
            "[3, 5, 7, 11, 13, 17]\n",
            "[5, 7, 11, 13, 17]\n",
            "[7, 11, 13, 17]\n",
            "[11, 13, 17]\n",
            "[13, 17]\n",
            "[17]\n",
            "[]\n"
          ],
          "name": "stdout"
        }
      ]
    },
    {
      "cell_type": "code",
      "metadata": {
        "id": "-ygqjz7XblTj",
        "colab_type": "code",
        "outputId": "bf74b8a9-95eb-4de6-afd1-b5c88ce6545f",
        "colab": {
          "base_uri": "https://localhost:8080/",
          "height": 35
        }
      },
      "source": [
        "def func(arg1, arg2):\n",
        "  return arg1 + arg2\n",
        "\n",
        "x = func(3, 4)\n",
        "x"
      ],
      "execution_count": 0,
      "outputs": [
        {
          "output_type": "execute_result",
          "data": {
            "text/plain": [
              "7"
            ]
          },
          "metadata": {
            "tags": []
          },
          "execution_count": 5
        }
      ]
    },
    {
      "cell_type": "code",
      "metadata": {
        "id": "DKqCJhW2b4GG",
        "colab_type": "code",
        "outputId": "44c227c7-3deb-4831-c0fa-ef1ca1958018",
        "colab": {
          "base_uri": "https://localhost:8080/",
          "height": 35
        }
      },
      "source": [
        "[i**2 for i in range(5)]"
      ],
      "execution_count": 0,
      "outputs": [
        {
          "output_type": "execute_result",
          "data": {
            "text/plain": [
              "[0, 1, 4, 9, 16]"
            ]
          },
          "metadata": {
            "tags": []
          },
          "execution_count": 6
        }
      ]
    },
    {
      "cell_type": "code",
      "metadata": {
        "id": "IfVOajgDQzAv",
        "colab_type": "code",
        "outputId": "55802bcf-ae0c-44b6-ef00-08693e1e75cb",
        "colab": {
          "base_uri": "https://localhost:8080/",
          "height": 53
        }
      },
      "source": [
        "def func(x):\n",
        "  x[0] += 175  \n",
        "\n",
        "L = [i**2 for i in range(5)]\n",
        "print(L)\n",
        "func(L)\n",
        "print(L)"
      ],
      "execution_count": 0,
      "outputs": [
        {
          "output_type": "stream",
          "text": [
            "[0, 1, 4, 9, 16]\n",
            "[175, 1, 4, 9, 16]\n"
          ],
          "name": "stdout"
        }
      ]
    },
    {
      "cell_type": "code",
      "metadata": {
        "id": "esn1O_u9RSKu",
        "colab_type": "code",
        "outputId": "a4b09d60-f67a-4b17-9b01-6f02baa63763",
        "colab": {
          "base_uri": "https://localhost:8080/",
          "height": 53
        }
      },
      "source": [
        "def func(x):\n",
        "  y = x.copy()\n",
        "  y[0] += 175\n",
        "\n",
        "L = [i**2 for i in range(5)]\n",
        "print(L)\n",
        "func(L)\n",
        "print(L)"
      ],
      "execution_count": 0,
      "outputs": [
        {
          "output_type": "stream",
          "text": [
            "[0, 1, 4, 9, 16]\n",
            "[0, 1, 4, 9, 16]\n"
          ],
          "name": "stdout"
        }
      ]
    },
    {
      "cell_type": "code",
      "metadata": {
        "id": "z_9X9_2Fb6wB",
        "colab_type": "code",
        "outputId": "2d163081-08a9-422a-ba8a-c6a31fb4875d",
        "colab": {
          "base_uri": "https://localhost:8080/",
          "height": 35
        }
      },
      "source": [
        "class SomeClass:\n",
        "\n",
        "  def __init__(self, arg1, arg2):\n",
        "    self._sum = arg1 + arg2\n",
        "    self._diff = arg1 - arg2\n",
        "\n",
        "  def printer(self):\n",
        "    print(self._sum, self._diff)\n",
        "\n",
        "\n",
        "obj = SomeClass(3, 4)\n",
        "obj.printer()"
      ],
      "execution_count": 0,
      "outputs": [
        {
          "output_type": "stream",
          "text": [
            "7 -1\n"
          ],
          "name": "stdout"
        }
      ]
    },
    {
      "cell_type": "code",
      "metadata": {
        "id": "v9Gcre15ezpH",
        "colab_type": "code",
        "outputId": "8c744b4b-cd87-4104-ecf9-4ca5d8d87237",
        "colab": {
          "base_uri": "https://localhost:8080/",
          "height": 53
        }
      },
      "source": [
        "class SomeOtherClass:\n",
        "\n",
        "  def __init__(self, arg1, arg2):\n",
        "    self._sum = arg1 + arg2\n",
        "    self._diff = arg1 - arg2\n",
        "\n",
        "  def update_sum(self, arg):\n",
        "    self._sum = arg\n",
        "\n",
        "  def printer(self):\n",
        "    print(self._sum, self._diff)\n",
        "\n",
        "\n",
        "obj = SomeOtherClass(3, 4)\n",
        "obj.printer()\n",
        "obj.update_sum(77)\n",
        "obj.printer()"
      ],
      "execution_count": 0,
      "outputs": [
        {
          "output_type": "stream",
          "text": [
            "7 -1\n",
            "77 -1\n"
          ],
          "name": "stdout"
        }
      ]
    },
    {
      "cell_type": "markdown",
      "metadata": {
        "id": "ZpprzcBybbC7",
        "colab_type": "text"
      },
      "source": [
        "**How to debug**\n",
        "\n",
        "* Don't hesitate to change or comment out code for debug\n",
        "* Print intermediate results if you are not sure what function does\n",
        "* Separate logical blocks as functions\n",
        "* Write tests, test your functions on inputs you can deduce the output for\n",
        "\n",
        "\n",
        "**Code style**\n",
        "\n",
        "* Use meaningful names\n",
        "* Use single style (CamelStyle, underscore_style)\n",
        "* Use some conventions for class-function-variable names\n",
        "* Isolate logical blocks as functions, consider creating classes to save states\n",
        "* Use first underscore convention for private variables"
      ]
    },
    {
      "cell_type": "markdown",
      "metadata": {
        "id": "-W9-PGS6mylJ",
        "colab_type": "text"
      },
      "source": [
        "### Load data, year 2016"
      ]
    },
    {
      "cell_type": "markdown",
      "metadata": {
        "id": "ZpXwSiH849Zt",
        "colab_type": "text"
      },
      "source": [
        "All data was taken from [Регіональні дані ЗНО-2016](https://zno.testportal.com.ua/stat/2016).\n",
        "See links to 7z archive there if you want to donload data from the original source."
      ]
    },
    {
      "cell_type": "code",
      "metadata": {
        "id": "m6ibFneLb3gj",
        "colab_type": "code",
        "colab": {}
      },
      "source": [
        "!curl -O https://raw.githubusercontent.com/fbeilstein/machine_learning/master/datasets/zno_2016.7z\n",
        "!7z e zno_2016.7z"
      ],
      "execution_count": 0,
      "outputs": []
    },
    {
      "cell_type": "markdown",
      "metadata": {
        "id": "hvfaJi8p4hrE",
        "colab_type": "text"
      },
      "source": [
        "Column name| Explanation (from zno site)\n",
        "---|---\n",
        "OutID|  \tID\n",
        "Birth|\tРік народження\n",
        "SexTypeName| \tСтать\n",
        "Regname| \tРегіон реєстрації/проживання учасника\n",
        "AreaName| \tРайон\\Місто реєстрації/проживання учасника\n",
        "TerName| \tНаселений пункт реєстрації/проживання учасника\n",
        "RegTypeName|\tСтатус учасника\n",
        "EOName| \tНавчальний заклад учасника\n",
        "EOTypeName| \tТип навчального закладу\n",
        "EORegName| \tРегіон, де розташований навчальний заклад\n",
        "EOAreaName| \tРайон\\Місто, де розташований навчальний заклад\n",
        "EOTerName|\tНаселений пункт, де розташований навчальний заклад\n",
        "EOParent|\tОрган, якому підпорядкувується навчальний заклад\n",
        "Test|\tНазва навчального предмета\n",
        "Lang|\tМова складання тесту\n",
        "TestStatus|\tРезультат складання тесту\n",
        "Ball100|\tОцінка за шкалою 100-200\n",
        "Ball12|\tОцінка за ДПА\n",
        "PTName|\tПункт проведення ЗНО\n",
        "PTRegName|\tРегіон, де розташований пункт проведення ЗНО\n",
        "PTAreaName|\tРайон\\Місто, де розташований пункт проведення ЗНО\n",
        "PTTerName|\tНаселений пункт, де розташований пункт проведення ЗНО"
      ]
    },
    {
      "cell_type": "markdown",
      "metadata": {
        "id": "9RCN9k_l4rU-",
        "colab_type": "text"
      },
      "source": [
        "Code | Subject\n",
        "---|---\n",
        "Ukr|\tУкраїнська мова і література\n",
        "Hist|\tІсторія України\n",
        "Math|\tМатематика\n",
        "Phys|\tФізика\n",
        "Chem|\tХімія\n",
        "Bio|\tБіологія\n",
        "Geo|\tГеографія\n",
        "Eng|\tАнглійська мова\n",
        "Fr|\tФранцузька мова\n",
        "Deu|\tНімецька мова\n",
        "Sp|\tІспанська мова\n",
        "Rus|\tРосійська мова"
      ]
    },
    {
      "cell_type": "markdown",
      "metadata": {
        "id": "_j3gwePmnCpI",
        "colab_type": "text"
      },
      "source": [
        "### Load data, year 2017"
      ]
    },
    {
      "cell_type": "markdown",
      "metadata": {
        "colab_type": "text",
        "id": "LAAa3RdE5lHM"
      },
      "source": [
        "All data was taken from [Регіональні дані ЗНО-2017](https://zno.testportal.com.ua/stat/2017).\n",
        "See links to 7z archive there if you want to donload data from the original source."
      ]
    },
    {
      "cell_type": "code",
      "metadata": {
        "id": "kV2DTlRam8Xi",
        "colab_type": "code",
        "colab": {}
      },
      "source": [
        "!curl -O https://raw.githubusercontent.com/fbeilstein/machine_learning/master/datasets/zno_2017.7z\n",
        "!7z e zno_2017.7z"
      ],
      "execution_count": 0,
      "outputs": []
    },
    {
      "cell_type": "markdown",
      "metadata": {
        "id": "rhB5jTmp3yn9",
        "colab_type": "text"
      },
      "source": [
        "Column name| Explanation (from zno site)\n",
        "---|---\n",
        "OutID|  \tID\n",
        "Birth|\tРік народження\n",
        "SexTypeName| \tСтать\n",
        "Regname| \tРегіон реєстрації/проживання учасника\n",
        "AreaName| \tРайон\\Місто реєстрації/проживання учасника\n",
        "TerName| \tНаселений пункт реєстрації/проживання учасника\n",
        "RegTypeName|\tСтатус учасника\n",
        "TerTypeName|\tТип території\n",
        "ClassProfileName|\tПрофіль навчання учасника\n",
        "ClassRegName|\tМова навчання  учасника\n",
        "EOName| \tНавчальний заклад учасника\n",
        "EOTypeName| \tТип навчального закладу\n",
        "EORegName| \tРегіон, де розташований навчальний заклад\n",
        "EOAreaName| \tРайон\\Місто, де розташований навчальний заклад\n",
        "EOTerName|\tНаселений пункт, де розташований навчальний заклад\n",
        "EOParent|\tОрган, якому підпорядкувується навчальний заклад\n",
        "Test|\tНазва навчального предмета\n",
        "Lang|\tМова складання тесту\n",
        "TestStatus|\tРезультат складання тесту\n",
        "Ball100|\tОцінка за шкалою 100-200\n",
        "Ball12|\tОцінка за ДПА\n",
        "PTName|\tПункт проведення ЗНО\n",
        "PTRegName|\tРегіон, де розташований пункт проведення ЗНО\n",
        "PTAreaName|\tРайон\\Місто, де розташований пункт проведення ЗНО\n",
        "PTTerName|\tНаселений пункт, де розташований пункт проведення ЗНО"
      ]
    },
    {
      "cell_type": "markdown",
      "metadata": {
        "id": "xbS7ZEnL3_yk",
        "colab_type": "text"
      },
      "source": [
        "Code | Subject\n",
        "---|---\n",
        "Ukr|\tУкраїнська мова і література\n",
        "Hist|\tІсторія України\n",
        "Math|\tМатематика\n",
        "Phys|\tФізика\n",
        "Chem|\tХімія\n",
        "Bio|\tБіологія\n",
        "Geo|\tГеографія\n",
        "Eng|\tАнглійська мова\n",
        "Fr|\tФранцузька мова\n",
        "Deu|\tНімецька мова\n",
        "Sp|\tІспанська мова\n",
        "Rus|\tРосійська мова"
      ]
    },
    {
      "cell_type": "markdown",
      "metadata": {
        "id": "8j9V0sRunD_4",
        "colab_type": "text"
      },
      "source": [
        "### Load data, year 2018"
      ]
    },
    {
      "cell_type": "markdown",
      "metadata": {
        "colab_type": "text",
        "id": "0t00Ar5P5l0o"
      },
      "source": [
        "All data was taken from [Регіональні дані ЗНО-2018](https://zno.testportal.com.ua/stat/2018).\n",
        "See links to 7z archive there if you want to donload data from the original source."
      ]
    },
    {
      "cell_type": "code",
      "metadata": {
        "id": "Maxd89rdm84h",
        "colab_type": "code",
        "colab": {}
      },
      "source": [
        "!curl -O https://raw.githubusercontent.com/fbeilstein/machine_learning/master/datasets/zno_2018.7z\n",
        "!7z e zno_2018.7z"
      ],
      "execution_count": 0,
      "outputs": []
    },
    {
      "cell_type": "markdown",
      "metadata": {
        "id": "GURtBCXF27sM",
        "colab_type": "text"
      },
      "source": [
        "Column name| Explanation (from zno site)\n",
        "---|---\n",
        "OutID|  \tID\n",
        "Birth|\tРік народження\n",
        "SexTypeName| \tСтать\n",
        "Regname| \tРегіон реєстрації/проживання учасника\n",
        "AreaName| \tРайон/Місто реєстрації/проживання учасника\n",
        "TerName| \tНаселений пункт реєстрації/проживання учасника\n",
        "RegTypeName|\tСтатус учасника\n",
        "TerTypeName|\tТип території\n",
        "ClassProfileName|\tПрофіль навчання учасника\n",
        "ClassRegName|\tМова навчання  учасника\n",
        "EOName| \tЗаклад освіти учасника\n",
        "EOTypeName| \tТип закладу освіти \n",
        "EORegName| \tРегіон, де розташований заклад освіти \n",
        "EOAreaName| \tРайон/Місто, де розташований заклад освіти \n",
        "EOTerName|\tНаселений пункт, де розташований заклад освіти \n",
        "EOParent|\tОрган, якому підпорядковується Заклад освіти \n",
        "Test|\tНазва навчального предмета\n",
        "Lang|\tМова складання тесту\n",
        "TestStatus|\tРезультат складання тесту\n",
        "DPALevel|\tРівень складності завдань ДПА\n",
        "Ball100|\tОцінка за шкалою 100-200\n",
        "Ball12|\tОцінка за ДПА\n",
        "Ball|\tТестовий бал\n",
        "PTName|\tПункт проведення ЗНО\n",
        "PTRegName|\tРегіон, де розташований пункт проведення ЗНО\n",
        "PTAreaName|\tРайон\\Місто, де розташований пункт проведення ЗНО\n",
        "PTTerName|\tНаселений пункт, де розташований пункт проведення ЗНО"
      ]
    },
    {
      "cell_type": "markdown",
      "metadata": {
        "id": "4N9tCHVh3PV0",
        "colab_type": "text"
      },
      "source": [
        "Code | Subject\n",
        "---|---\n",
        "Ukr|\tУкраїнська мова і література\n",
        "Hist|\tІсторія України\n",
        "Math|\tМатематика\n",
        "Phys|\tФізика\n",
        "Chem|\tХімія\n",
        "Bio|\tБіологія\n",
        "Geo|\tГеографія\n",
        "Eng|\tАнглійська мова\n",
        "Fr|\tФранцузька мова\n",
        "Deu|\tНімецька мова\n",
        "Sp|\tІспанська мова"
      ]
    },
    {
      "cell_type": "markdown",
      "metadata": {
        "id": "mf8rg3IynFqo",
        "colab_type": "text"
      },
      "source": [
        "### Load data, year 2019"
      ]
    },
    {
      "cell_type": "markdown",
      "metadata": {
        "colab_type": "text",
        "id": "JVWbsLyu5mVx"
      },
      "source": [
        "All data was taken from [Регіональні дані ЗНО-2019](https://zno.testportal.com.ua/stat/2019).\n",
        "See links to 7z archive there if you want to donload data from the original source."
      ]
    },
    {
      "cell_type": "code",
      "metadata": {
        "id": "Tc1HoYYkm9Q4",
        "colab_type": "code",
        "colab": {}
      },
      "source": [
        "!curl -O https://raw.githubusercontent.com/fbeilstein/machine_learning/master/datasets/zno_2019.7z\n",
        "!7z e zno_2019.7z"
      ],
      "execution_count": 0,
      "outputs": []
    },
    {
      "cell_type": "markdown",
      "metadata": {
        "id": "JpOjGNys1MxA",
        "colab_type": "text"
      },
      "source": [
        "Column name| Explanation (from zno site)\n",
        "---|---\n",
        "OutID|  \tID\n",
        "Birth|\tРік народження\n",
        "SexTypeName| \tСтать\n",
        "Regname| \tРегіон реєстрації/проживання учасника\n",
        "AreaName| \tРайон/Місто реєстрації/проживання учасника\n",
        "TerName| \tНаселений пункт реєстрації/проживання учасника\n",
        "RegTypeName|\tСтатус учасника\n",
        "TerTypeName|\tТип території\n",
        "ClassProfileName|\tПрофіль навчання учасника/ОКР, який учасник здобуває\n",
        "ClassLangName|\tМова навчання  учасника\n",
        "EOName| \tЗаклад освіти учасника\n",
        "EOTypeName| \tТип закладу освіти \n",
        "EORegName| \tРегіон, де розташований заклад освіти \n",
        "EOAreaName| \tРайон/Місто, де розташований заклад освіти \n",
        "EOTerName|\tНаселений пункт, де розташований заклад освіти \n",
        "EOParent|\tОрган, якому підпорядковується заклад освіти \n",
        "Test|\tНазва навчального предмета\n",
        "Lang|\tМова складання тесту\n",
        "TestStatus|\tРезультат складання тесту\n",
        "DPALevel|\tРівень складності завдань ДПА\n",
        "Ball100|\tОцінка за шкалою 100-200\n",
        "Ball12|\tОцінка за ДПА\n",
        "Ball|\tТестовий бал\n",
        "AdaptScale|\tУстановлення адаптивного порога\n",
        "0|\tне потребує\n",
        "3|\tпотребує (угорська мова навчання)\n",
        "4|\tпотребує (молдовська мова навчання)\n",
        "7|\tпотребує (румунська мова навчання)\n",
        "PTName|\tПункт проведення ЗНО\n",
        "PTRegName|\tРегіон, де розташований пункт проведення ЗНО\n",
        "PTAreaName|\tРайон\\Місто, де розташований пункт проведення ЗНО\n",
        "PTTerName|\tНаселений пункт, де розташований пункт проведення ЗНО"
      ]
    },
    {
      "cell_type": "markdown",
      "metadata": {
        "id": "FYlXoXK-2GeN",
        "colab_type": "text"
      },
      "source": [
        "Code | Subject\n",
        "---|---\n",
        "Ukr|\tУкраїнська мова і література\n",
        "Hist|\tІсторія України\n",
        "Math|\tМатематика\n",
        "Phys|\tФізика\n",
        "Chem|\tХімія\n",
        "Bio|\tБіологія\n",
        "Geo|\tГеографія\n",
        "Eng|\tАнглійська мова\n",
        "Fr|\tФранцузька мова\n",
        "Deu|\tНімецька мова\n",
        "Sp|\tІспанська мова"
      ]
    },
    {
      "cell_type": "code",
      "metadata": {
        "id": "O6qG7Q-FnYGo",
        "colab_type": "code",
        "colab": {}
      },
      "source": [
        "import pandas as pd\n",
        "\n",
        "data = pd.read_csv('zno_2019.csv', delimiter=';', low_memory=False)"
      ],
      "execution_count": 0,
      "outputs": []
    },
    {
      "cell_type": "code",
      "metadata": {
        "id": "LXSv0iOIodkX",
        "colab_type": "code",
        "colab": {
          "base_uri": "https://localhost:8080/",
          "height": 593
        },
        "outputId": "db8904c3-2bec-4114-bc2c-cd4e584b83e6"
      },
      "source": [
        "data.head()"
      ],
      "execution_count": 14,
      "outputs": [
        {
          "output_type": "execute_result",
          "data": {
            "text/html": [
              "<div>\n",
              "<style scoped>\n",
              "    .dataframe tbody tr th:only-of-type {\n",
              "        vertical-align: middle;\n",
              "    }\n",
              "\n",
              "    .dataframe tbody tr th {\n",
              "        vertical-align: top;\n",
              "    }\n",
              "\n",
              "    .dataframe thead th {\n",
              "        text-align: right;\n",
              "    }\n",
              "</style>\n",
              "<table border=\"1\" class=\"dataframe\">\n",
              "  <thead>\n",
              "    <tr style=\"text-align: right;\">\n",
              "      <th></th>\n",
              "      <th>OUTID</th>\n",
              "      <th>Birth</th>\n",
              "      <th>SEXTYPENAME</th>\n",
              "      <th>REGNAME</th>\n",
              "      <th>AREANAME</th>\n",
              "      <th>TERNAME</th>\n",
              "      <th>REGTYPENAME</th>\n",
              "      <th>TerTypeName</th>\n",
              "      <th>ClassProfileNAME</th>\n",
              "      <th>ClassLangName</th>\n",
              "      <th>EONAME</th>\n",
              "      <th>EOTYPENAME</th>\n",
              "      <th>EORegName</th>\n",
              "      <th>EOAreaName</th>\n",
              "      <th>EOTerName</th>\n",
              "      <th>EOParent</th>\n",
              "      <th>UkrTest</th>\n",
              "      <th>UkrTestStatus</th>\n",
              "      <th>UkrBall100</th>\n",
              "      <th>UkrBall12</th>\n",
              "      <th>UkrBall</th>\n",
              "      <th>UkrAdaptScale</th>\n",
              "      <th>UkrPTName</th>\n",
              "      <th>UkrPTRegName</th>\n",
              "      <th>UkrPTAreaName</th>\n",
              "      <th>UkrPTTerName</th>\n",
              "      <th>histTest</th>\n",
              "      <th>HistLang</th>\n",
              "      <th>histTestStatus</th>\n",
              "      <th>histBall100</th>\n",
              "      <th>histBall12</th>\n",
              "      <th>histBall</th>\n",
              "      <th>histPTName</th>\n",
              "      <th>histPTRegName</th>\n",
              "      <th>histPTAreaName</th>\n",
              "      <th>histPTTerName</th>\n",
              "      <th>mathTest</th>\n",
              "      <th>mathLang</th>\n",
              "      <th>mathTestStatus</th>\n",
              "      <th>mathBall100</th>\n",
              "      <th>...</th>\n",
              "      <th>engTest</th>\n",
              "      <th>engTestStatus</th>\n",
              "      <th>engBall100</th>\n",
              "      <th>engBall12</th>\n",
              "      <th>engDPALevel</th>\n",
              "      <th>engBall</th>\n",
              "      <th>engPTName</th>\n",
              "      <th>engPTRegName</th>\n",
              "      <th>engPTAreaName</th>\n",
              "      <th>engPTTerName</th>\n",
              "      <th>fraTest</th>\n",
              "      <th>fraTestStatus</th>\n",
              "      <th>fraBall100</th>\n",
              "      <th>fraBall12</th>\n",
              "      <th>fraDPALevel</th>\n",
              "      <th>fraBall</th>\n",
              "      <th>fraPTName</th>\n",
              "      <th>fraPTRegName</th>\n",
              "      <th>fraPTAreaName</th>\n",
              "      <th>fraPTTerName</th>\n",
              "      <th>deuTest</th>\n",
              "      <th>deuTestStatus</th>\n",
              "      <th>deuBall100</th>\n",
              "      <th>deuBall12</th>\n",
              "      <th>deuDPALevel</th>\n",
              "      <th>deuBall</th>\n",
              "      <th>deuPTName</th>\n",
              "      <th>deuPTRegName</th>\n",
              "      <th>deuPTAreaName</th>\n",
              "      <th>deuPTTerName</th>\n",
              "      <th>spaTest</th>\n",
              "      <th>spaTestStatus</th>\n",
              "      <th>spaBall100</th>\n",
              "      <th>spaBall12</th>\n",
              "      <th>spaDPALevel</th>\n",
              "      <th>spaBall</th>\n",
              "      <th>spaPTName</th>\n",
              "      <th>spaPTRegName</th>\n",
              "      <th>spaPTAreaName</th>\n",
              "      <th>spaPTTerName</th>\n",
              "    </tr>\n",
              "  </thead>\n",
              "  <tbody>\n",
              "    <tr>\n",
              "      <th>0</th>\n",
              "      <td>07ad4c55-70ef-442d-bb7f-34c95c0e6ee4</td>\n",
              "      <td>2001</td>\n",
              "      <td>жіноча</td>\n",
              "      <td>Запорізька область</td>\n",
              "      <td>Василівський район</td>\n",
              "      <td>м.Василівка</td>\n",
              "      <td>Студент закладу вищої освіти</td>\n",
              "      <td>місто</td>\n",
              "      <td>Молодший спеціаліст</td>\n",
              "      <td>українська</td>\n",
              "      <td>Відокремлений структурний підрозділ \"Василівсь...</td>\n",
              "      <td>заклад вищої освіти</td>\n",
              "      <td>Запорізька область</td>\n",
              "      <td>Василівський район</td>\n",
              "      <td>м.Василівка</td>\n",
              "      <td>Департамент освіти і науки Запорізької облдерж...</td>\n",
              "      <td>Українська мова і література</td>\n",
              "      <td>Зараховано</td>\n",
              "      <td>100,0</td>\n",
              "      <td>4.0</td>\n",
              "      <td>23.0</td>\n",
              "      <td>0</td>\n",
              "      <td>Комунальний заклад \"Василівська гімназія \"Сузі...</td>\n",
              "      <td>Запорізька область</td>\n",
              "      <td>Василівський район</td>\n",
              "      <td>м.Василівка</td>\n",
              "      <td>Історія України</td>\n",
              "      <td>українська</td>\n",
              "      <td>Зараховано</td>\n",
              "      <td>110,0</td>\n",
              "      <td>7.0</td>\n",
              "      <td>31.0</td>\n",
              "      <td>Державний навчальний заклад \"Василівський проф...</td>\n",
              "      <td>Запорізька область</td>\n",
              "      <td>Василівський район</td>\n",
              "      <td>м.Василівка</td>\n",
              "      <td>NaN</td>\n",
              "      <td>NaN</td>\n",
              "      <td>NaN</td>\n",
              "      <td>NaN</td>\n",
              "      <td>...</td>\n",
              "      <td>NaN</td>\n",
              "      <td>NaN</td>\n",
              "      <td>NaN</td>\n",
              "      <td>NaN</td>\n",
              "      <td>NaN</td>\n",
              "      <td>NaN</td>\n",
              "      <td>NaN</td>\n",
              "      <td>NaN</td>\n",
              "      <td>NaN</td>\n",
              "      <td>NaN</td>\n",
              "      <td>NaN</td>\n",
              "      <td>NaN</td>\n",
              "      <td>NaN</td>\n",
              "      <td>NaN</td>\n",
              "      <td>NaN</td>\n",
              "      <td>NaN</td>\n",
              "      <td>NaN</td>\n",
              "      <td>NaN</td>\n",
              "      <td>NaN</td>\n",
              "      <td>NaN</td>\n",
              "      <td>NaN</td>\n",
              "      <td>NaN</td>\n",
              "      <td>NaN</td>\n",
              "      <td>NaN</td>\n",
              "      <td>NaN</td>\n",
              "      <td>NaN</td>\n",
              "      <td>NaN</td>\n",
              "      <td>NaN</td>\n",
              "      <td>NaN</td>\n",
              "      <td>NaN</td>\n",
              "      <td>NaN</td>\n",
              "      <td>NaN</td>\n",
              "      <td>NaN</td>\n",
              "      <td>NaN</td>\n",
              "      <td>NaN</td>\n",
              "      <td>NaN</td>\n",
              "      <td>NaN</td>\n",
              "      <td>NaN</td>\n",
              "      <td>NaN</td>\n",
              "      <td>NaN</td>\n",
              "    </tr>\n",
              "    <tr>\n",
              "      <th>1</th>\n",
              "      <td>8626c448-3a7d-434f-b01a-c2530ccf3a4f</td>\n",
              "      <td>1985</td>\n",
              "      <td>жіноча</td>\n",
              "      <td>Донецька область</td>\n",
              "      <td>Донецька область</td>\n",
              "      <td>м.Торецьк</td>\n",
              "      <td>Учень (слухач) закладу професійної (професійно...</td>\n",
              "      <td>місто</td>\n",
              "      <td>Кваліфікований робітник</td>\n",
              "      <td>українська</td>\n",
              "      <td>Торецький професійний ліцей</td>\n",
              "      <td>професійний ліцей відповідного профілю</td>\n",
              "      <td>Донецька область</td>\n",
              "      <td>м.Торецьк</td>\n",
              "      <td>м.Торецьк</td>\n",
              "      <td>Департамент освіти і науки Донецької обласної ...</td>\n",
              "      <td>Українська мова і література</td>\n",
              "      <td>Не з’явився</td>\n",
              "      <td>NaN</td>\n",
              "      <td>NaN</td>\n",
              "      <td>NaN</td>\n",
              "      <td>0</td>\n",
              "      <td>Заклад загальної середньо освіти І-ІІІ ступені...</td>\n",
              "      <td>Донецька область</td>\n",
              "      <td>м.Торецьк</td>\n",
              "      <td>м.Торецьк</td>\n",
              "      <td>NaN</td>\n",
              "      <td>NaN</td>\n",
              "      <td>NaN</td>\n",
              "      <td>NaN</td>\n",
              "      <td>NaN</td>\n",
              "      <td>NaN</td>\n",
              "      <td>NaN</td>\n",
              "      <td>NaN</td>\n",
              "      <td>NaN</td>\n",
              "      <td>NaN</td>\n",
              "      <td>Математика</td>\n",
              "      <td>українська</td>\n",
              "      <td>Не з’явився</td>\n",
              "      <td>NaN</td>\n",
              "      <td>...</td>\n",
              "      <td>NaN</td>\n",
              "      <td>NaN</td>\n",
              "      <td>NaN</td>\n",
              "      <td>NaN</td>\n",
              "      <td>NaN</td>\n",
              "      <td>NaN</td>\n",
              "      <td>NaN</td>\n",
              "      <td>NaN</td>\n",
              "      <td>NaN</td>\n",
              "      <td>NaN</td>\n",
              "      <td>NaN</td>\n",
              "      <td>NaN</td>\n",
              "      <td>NaN</td>\n",
              "      <td>NaN</td>\n",
              "      <td>NaN</td>\n",
              "      <td>NaN</td>\n",
              "      <td>NaN</td>\n",
              "      <td>NaN</td>\n",
              "      <td>NaN</td>\n",
              "      <td>NaN</td>\n",
              "      <td>NaN</td>\n",
              "      <td>NaN</td>\n",
              "      <td>NaN</td>\n",
              "      <td>NaN</td>\n",
              "      <td>NaN</td>\n",
              "      <td>NaN</td>\n",
              "      <td>NaN</td>\n",
              "      <td>NaN</td>\n",
              "      <td>NaN</td>\n",
              "      <td>NaN</td>\n",
              "      <td>NaN</td>\n",
              "      <td>NaN</td>\n",
              "      <td>NaN</td>\n",
              "      <td>NaN</td>\n",
              "      <td>NaN</td>\n",
              "      <td>NaN</td>\n",
              "      <td>NaN</td>\n",
              "      <td>NaN</td>\n",
              "      <td>NaN</td>\n",
              "      <td>NaN</td>\n",
              "    </tr>\n",
              "    <tr>\n",
              "      <th>2</th>\n",
              "      <td>9709b00b-144c-4487-b7bc-66c0b353b324</td>\n",
              "      <td>2001</td>\n",
              "      <td>жіноча</td>\n",
              "      <td>Тернопільська область</td>\n",
              "      <td>Тернопільська область</td>\n",
              "      <td>м.Тернопіль</td>\n",
              "      <td>Студент закладу вищої освіти</td>\n",
              "      <td>місто</td>\n",
              "      <td>Молодший спеціаліст</td>\n",
              "      <td>українська</td>\n",
              "      <td>Приватний вищий навчальний заклад \"Медичний ко...</td>\n",
              "      <td>заклад вищої освіти</td>\n",
              "      <td>Тернопільська область</td>\n",
              "      <td>м.Тернопіль</td>\n",
              "      <td>м.Тернопіль</td>\n",
              "      <td>Управління освіти і науки Тернопільської облас...</td>\n",
              "      <td>Українська мова і література</td>\n",
              "      <td>Зараховано</td>\n",
              "      <td>166,0</td>\n",
              "      <td>10.0</td>\n",
              "      <td>68.0</td>\n",
              "      <td>0</td>\n",
              "      <td>Тернопільська загальноосвітня школа І-ІІІ ступ...</td>\n",
              "      <td>Тернопільська область</td>\n",
              "      <td>м.Тернопіль</td>\n",
              "      <td>м.Тернопіль</td>\n",
              "      <td>Історія України</td>\n",
              "      <td>українська</td>\n",
              "      <td>Зараховано</td>\n",
              "      <td>127,0</td>\n",
              "      <td>8.0</td>\n",
              "      <td>37.0</td>\n",
              "      <td>Тернопільська загальноосвітня школа І-ІІІ ступ...</td>\n",
              "      <td>Тернопільська область</td>\n",
              "      <td>м.Тернопіль</td>\n",
              "      <td>м.Тернопіль</td>\n",
              "      <td>NaN</td>\n",
              "      <td>NaN</td>\n",
              "      <td>NaN</td>\n",
              "      <td>NaN</td>\n",
              "      <td>...</td>\n",
              "      <td>NaN</td>\n",
              "      <td>NaN</td>\n",
              "      <td>NaN</td>\n",
              "      <td>NaN</td>\n",
              "      <td>NaN</td>\n",
              "      <td>NaN</td>\n",
              "      <td>NaN</td>\n",
              "      <td>NaN</td>\n",
              "      <td>NaN</td>\n",
              "      <td>NaN</td>\n",
              "      <td>NaN</td>\n",
              "      <td>NaN</td>\n",
              "      <td>NaN</td>\n",
              "      <td>NaN</td>\n",
              "      <td>NaN</td>\n",
              "      <td>NaN</td>\n",
              "      <td>NaN</td>\n",
              "      <td>NaN</td>\n",
              "      <td>NaN</td>\n",
              "      <td>NaN</td>\n",
              "      <td>NaN</td>\n",
              "      <td>NaN</td>\n",
              "      <td>NaN</td>\n",
              "      <td>NaN</td>\n",
              "      <td>NaN</td>\n",
              "      <td>NaN</td>\n",
              "      <td>NaN</td>\n",
              "      <td>NaN</td>\n",
              "      <td>NaN</td>\n",
              "      <td>NaN</td>\n",
              "      <td>NaN</td>\n",
              "      <td>NaN</td>\n",
              "      <td>NaN</td>\n",
              "      <td>NaN</td>\n",
              "      <td>NaN</td>\n",
              "      <td>NaN</td>\n",
              "      <td>NaN</td>\n",
              "      <td>NaN</td>\n",
              "      <td>NaN</td>\n",
              "      <td>NaN</td>\n",
              "    </tr>\n",
              "    <tr>\n",
              "      <th>3</th>\n",
              "      <td>5617254e-aee4-4fa6-81cc-f0159cc972bc</td>\n",
              "      <td>2000</td>\n",
              "      <td>чоловіча</td>\n",
              "      <td>Рівненська область</td>\n",
              "      <td>Рівненська область</td>\n",
              "      <td>м.Вараш</td>\n",
              "      <td>Учень (слухач) закладу професійної (професійно...</td>\n",
              "      <td>місто</td>\n",
              "      <td>Кваліфікований робітник</td>\n",
              "      <td>українська</td>\n",
              "      <td>Професійно-технічне училище відокремленого під...</td>\n",
              "      <td>професійно-технічне училище відповідного профілю</td>\n",
              "      <td>Рівненська область</td>\n",
              "      <td>м.Вараш</td>\n",
              "      <td>м.Вараш</td>\n",
              "      <td>Управління освіти і науки Рівненської обласної...</td>\n",
              "      <td>Українська мова і література</td>\n",
              "      <td>Зараховано</td>\n",
              "      <td>127,0</td>\n",
              "      <td>6.0</td>\n",
              "      <td>38.0</td>\n",
              "      <td>0</td>\n",
              "      <td>Вараська загальноосвітня школа І-ІІІ ступенів ...</td>\n",
              "      <td>Рівненська область</td>\n",
              "      <td>м.Вараш</td>\n",
              "      <td>м.Вараш</td>\n",
              "      <td>NaN</td>\n",
              "      <td>NaN</td>\n",
              "      <td>NaN</td>\n",
              "      <td>NaN</td>\n",
              "      <td>NaN</td>\n",
              "      <td>NaN</td>\n",
              "      <td>NaN</td>\n",
              "      <td>NaN</td>\n",
              "      <td>NaN</td>\n",
              "      <td>NaN</td>\n",
              "      <td>Математика</td>\n",
              "      <td>українська</td>\n",
              "      <td>Не подолав поріг</td>\n",
              "      <td>0,0</td>\n",
              "      <td>...</td>\n",
              "      <td>NaN</td>\n",
              "      <td>NaN</td>\n",
              "      <td>NaN</td>\n",
              "      <td>NaN</td>\n",
              "      <td>NaN</td>\n",
              "      <td>NaN</td>\n",
              "      <td>NaN</td>\n",
              "      <td>NaN</td>\n",
              "      <td>NaN</td>\n",
              "      <td>NaN</td>\n",
              "      <td>NaN</td>\n",
              "      <td>NaN</td>\n",
              "      <td>NaN</td>\n",
              "      <td>NaN</td>\n",
              "      <td>NaN</td>\n",
              "      <td>NaN</td>\n",
              "      <td>NaN</td>\n",
              "      <td>NaN</td>\n",
              "      <td>NaN</td>\n",
              "      <td>NaN</td>\n",
              "      <td>NaN</td>\n",
              "      <td>NaN</td>\n",
              "      <td>NaN</td>\n",
              "      <td>NaN</td>\n",
              "      <td>NaN</td>\n",
              "      <td>NaN</td>\n",
              "      <td>NaN</td>\n",
              "      <td>NaN</td>\n",
              "      <td>NaN</td>\n",
              "      <td>NaN</td>\n",
              "      <td>NaN</td>\n",
              "      <td>NaN</td>\n",
              "      <td>NaN</td>\n",
              "      <td>NaN</td>\n",
              "      <td>NaN</td>\n",
              "      <td>NaN</td>\n",
              "      <td>NaN</td>\n",
              "      <td>NaN</td>\n",
              "      <td>NaN</td>\n",
              "      <td>NaN</td>\n",
              "    </tr>\n",
              "    <tr>\n",
              "      <th>4</th>\n",
              "      <td>2e8b9de3-8806-415a-bad1-be822ef8a042</td>\n",
              "      <td>2001</td>\n",
              "      <td>жіноча</td>\n",
              "      <td>Кіровоградська область</td>\n",
              "      <td>Добровеличківський район</td>\n",
              "      <td>м.Помічна</td>\n",
              "      <td>Випускник закладу загальної середньої освіти 2...</td>\n",
              "      <td>місто</td>\n",
              "      <td>Історичний</td>\n",
              "      <td>українська</td>\n",
              "      <td>Помічнянська загальноосвітня школа І-ІІІ ступе...</td>\n",
              "      <td>середня загальноосвітня школа</td>\n",
              "      <td>Кіровоградська область</td>\n",
              "      <td>Добровеличківський район</td>\n",
              "      <td>м.Помічна</td>\n",
              "      <td>Відділ освіти виконавчого комітету Помічнянськ...</td>\n",
              "      <td>Українська мова і література</td>\n",
              "      <td>Зараховано</td>\n",
              "      <td>171,0</td>\n",
              "      <td>9.0</td>\n",
              "      <td>72.0</td>\n",
              "      <td>0</td>\n",
              "      <td>Новоукраїнська загальноосвітня школа І-ІІІ сту...</td>\n",
              "      <td>Кіровоградська область</td>\n",
              "      <td>Новоукраїнський район</td>\n",
              "      <td>м.Новоукраїнка</td>\n",
              "      <td>Історія України</td>\n",
              "      <td>українська</td>\n",
              "      <td>Зараховано</td>\n",
              "      <td>169,0</td>\n",
              "      <td>10.0</td>\n",
              "      <td>59.0</td>\n",
              "      <td>Філія \"Загальноосвітня школа №3\" Новоукраїнськ...</td>\n",
              "      <td>Кіровоградська область</td>\n",
              "      <td>Новоукраїнський район</td>\n",
              "      <td>м.Новоукраїнка</td>\n",
              "      <td>NaN</td>\n",
              "      <td>NaN</td>\n",
              "      <td>NaN</td>\n",
              "      <td>NaN</td>\n",
              "      <td>...</td>\n",
              "      <td>Англійська мова</td>\n",
              "      <td>Зараховано</td>\n",
              "      <td>116,0</td>\n",
              "      <td>NaN</td>\n",
              "      <td>NaN</td>\n",
              "      <td>27.0</td>\n",
              "      <td>Комунальний заклад \"Навчально-виховне об'єднан...</td>\n",
              "      <td>Кіровоградська область</td>\n",
              "      <td>м.Кропивницький. Кіровський район міста</td>\n",
              "      <td>Кіровський район міста</td>\n",
              "      <td>NaN</td>\n",
              "      <td>NaN</td>\n",
              "      <td>NaN</td>\n",
              "      <td>NaN</td>\n",
              "      <td>NaN</td>\n",
              "      <td>NaN</td>\n",
              "      <td>NaN</td>\n",
              "      <td>NaN</td>\n",
              "      <td>NaN</td>\n",
              "      <td>NaN</td>\n",
              "      <td>NaN</td>\n",
              "      <td>NaN</td>\n",
              "      <td>NaN</td>\n",
              "      <td>NaN</td>\n",
              "      <td>NaN</td>\n",
              "      <td>NaN</td>\n",
              "      <td>NaN</td>\n",
              "      <td>NaN</td>\n",
              "      <td>NaN</td>\n",
              "      <td>NaN</td>\n",
              "      <td>NaN</td>\n",
              "      <td>NaN</td>\n",
              "      <td>NaN</td>\n",
              "      <td>NaN</td>\n",
              "      <td>NaN</td>\n",
              "      <td>NaN</td>\n",
              "      <td>NaN</td>\n",
              "      <td>NaN</td>\n",
              "      <td>NaN</td>\n",
              "      <td>NaN</td>\n",
              "    </tr>\n",
              "  </tbody>\n",
              "</table>\n",
              "<p>5 rows × 126 columns</p>\n",
              "</div>"
            ],
            "text/plain": [
              "                                  OUTID  Birth  ... spaPTAreaName spaPTTerName\n",
              "0  07ad4c55-70ef-442d-bb7f-34c95c0e6ee4   2001  ...           NaN          NaN\n",
              "1  8626c448-3a7d-434f-b01a-c2530ccf3a4f   1985  ...           NaN          NaN\n",
              "2  9709b00b-144c-4487-b7bc-66c0b353b324   2001  ...           NaN          NaN\n",
              "3  5617254e-aee4-4fa6-81cc-f0159cc972bc   2000  ...           NaN          NaN\n",
              "4  2e8b9de3-8806-415a-bad1-be822ef8a042   2001  ...           NaN          NaN\n",
              "\n",
              "[5 rows x 126 columns]"
            ]
          },
          "metadata": {
            "tags": []
          },
          "execution_count": 14
        }
      ]
    },
    {
      "cell_type": "code",
      "metadata": {
        "id": "oGN2T3HSofJo",
        "colab_type": "code",
        "colab": {
          "base_uri": "https://localhost:8080/",
          "height": 1000
        },
        "outputId": "1f980019-5182-416b-ae52-b9ffd00c4771"
      },
      "source": [
        "for col in data.columns:\n",
        "  print(col)"
      ],
      "execution_count": 16,
      "outputs": [
        {
          "output_type": "stream",
          "text": [
            "OUTID\n",
            "Birth\n",
            "SEXTYPENAME\n",
            "REGNAME\n",
            "AREANAME\n",
            "TERNAME\n",
            "REGTYPENAME\n",
            "TerTypeName\n",
            "ClassProfileNAME\n",
            "ClassLangName\n",
            "EONAME\n",
            "EOTYPENAME\n",
            "EORegName\n",
            "EOAreaName\n",
            "EOTerName\n",
            "EOParent\n",
            "UkrTest\n",
            "UkrTestStatus\n",
            "UkrBall100\n",
            "UkrBall12\n",
            "UkrBall\n",
            "UkrAdaptScale\n",
            "UkrPTName\n",
            "UkrPTRegName\n",
            "UkrPTAreaName\n",
            "UkrPTTerName\n",
            "histTest\n",
            "HistLang\n",
            "histTestStatus\n",
            "histBall100\n",
            "histBall12\n",
            "histBall\n",
            "histPTName\n",
            "histPTRegName\n",
            "histPTAreaName\n",
            "histPTTerName\n",
            "mathTest\n",
            "mathLang\n",
            "mathTestStatus\n",
            "mathBall100\n",
            "mathBall12\n",
            "mathBall\n",
            "mathPTName\n",
            "mathPTRegName\n",
            "mathPTAreaName\n",
            "mathPTTerName\n",
            "physTest\n",
            "physLang\n",
            "physTestStatus\n",
            "physBall100\n",
            "physBall12\n",
            "physBall\n",
            "physPTName\n",
            "physPTRegName\n",
            "physPTAreaName\n",
            "physPTTerName\n",
            "chemTest\n",
            "chemLang\n",
            "chemTestStatus\n",
            "chemBall100\n",
            "chemBall12\n",
            "chemBall\n",
            "chemPTName\n",
            "chemPTRegName\n",
            "chemPTAreaName\n",
            "chemPTTerName\n",
            "bioTest\n",
            "bioLang\n",
            "bioTestStatus\n",
            "bioBall100\n",
            "bioBall12\n",
            "bioBall\n",
            "bioPTName\n",
            "bioPTRegName\n",
            "bioPTAreaName\n",
            "bioPTTerName\n",
            "geoTest\n",
            "geoLang\n",
            "geoTestStatus\n",
            "geoBall100\n",
            "geoBall12\n",
            "geoBall\n",
            "geoPTName\n",
            "geoPTRegName\n",
            "geoPTAreaName\n",
            "geoPTTerName\n",
            "engTest\n",
            "engTestStatus\n",
            "engBall100\n",
            "engBall12\n",
            "engDPALevel\n",
            "engBall\n",
            "engPTName\n",
            "engPTRegName\n",
            "engPTAreaName\n",
            "engPTTerName\n",
            "fraTest\n",
            "fraTestStatus\n",
            "fraBall100\n",
            "fraBall12\n",
            "fraDPALevel\n",
            "fraBall\n",
            "fraPTName\n",
            "fraPTRegName\n",
            "fraPTAreaName\n",
            "fraPTTerName\n",
            "deuTest\n",
            "deuTestStatus\n",
            "deuBall100\n",
            "deuBall12\n",
            "deuDPALevel\n",
            "deuBall\n",
            "deuPTName\n",
            "deuPTRegName\n",
            "deuPTAreaName\n",
            "deuPTTerName\n",
            "spaTest\n",
            "spaTestStatus\n",
            "spaBall100\n",
            "spaBall12\n",
            "spaDPALevel\n",
            "spaBall\n",
            "spaPTName\n",
            "spaPTRegName\n",
            "spaPTAreaName\n",
            "spaPTTerName\n"
          ],
          "name": "stdout"
        }
      ]
    }
  ]
}