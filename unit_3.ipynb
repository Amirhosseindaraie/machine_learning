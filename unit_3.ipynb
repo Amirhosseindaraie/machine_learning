{
  "nbformat": 4,
  "nbformat_minor": 0,
  "metadata": {
    "colab": {
      "name": "unit_3.ipynb",
      "version": "0.3.2",
      "provenance": []
    },
    "kernelspec": {
      "name": "python3",
      "display_name": "Python 3"
    }
  },
  "cells": [
    {
      "cell_type": "markdown",
      "metadata": {
        "id": "Xi_XYlByb61c",
        "colab_type": "text"
      },
      "source": [
        "##Types and Operators"
      ]
    },
    {
      "cell_type": "markdown",
      "metadata": {
        "id": "OQSymqWXbzCF",
        "colab_type": "text"
      },
      "source": [
        "###Strings"
      ]
    },
    {
      "cell_type": "markdown",
      "metadata": {
        "id": "HoCcrdImgnRX",
        "colab_type": "text"
      },
      "source": [
        "*     Ordered collections of characters\n",
        "*     No char in Python, just 1-character strings\n",
        "*     Constants, operators, utility modules (string, re)\n",
        "*     Strings are immutable sequences\n",
        "*     See re module for pattern-based text processing"
      ]
    },
    {
      "cell_type": "markdown",
      "metadata": {
        "id": "hiSocFMHgzxI",
        "colab_type": "text"
      },
      "source": [
        "About Unicode support: this section covers basic, ASCII text strings. In 3.X, strings are always Unicode and support encoding to bytes, and bytes strings represent truly binary 8-bit data and support decoding to strings. In 2.X, strings are essentially the same as 3.X bytes strings (containing just 8-bit characters), and Unicode is a special type similar to 3.X strings."
      ]
    },
    {
      "cell_type": "markdown",
      "metadata": {
        "id": "EIJdYNXJbhDU",
        "colab_type": "text"
      },
      "source": [
        "**Common string operations**\n",
        "\n",
        "Operation |\t Interpretation\n",
        "---|---\n",
        "s1 = '' |\tsingle quotes (empty)\n",
        "s2 = \"spam's\" |\tdouble quotes (same)\n",
        "block = \"\"\"...\"\"\" |\ttriple-quoted blocks, can span multiple lines\n",
        "r'C:\\new\\text\\file.txt' |\traw strings (\\ kept)\n",
        "s1 + s2, s2 * 3 |\tconcatenate, repeat\n",
        "s2[i], s2[i:j], s[i:j:k], len(s2) |\tindex, slice, length\n",
        "'a %s parrot' % 'dead' 'a {} parrot'.format('dead') |\tstring formatting: original, 2.6+ option\n",
        "u'A\\xC4B', 'A\\xC4B' |\tUnicode: 2.X, 3.X\n",
        "b'\\x00spam\\x01' |\tbytes: 3.X (and 2.X)\n",
        "f'we get {spam} a lot' |\tformats: 3.6?\n",
        "for x in s2, 'm' in s2 |\titeration/membership"
      ]
    },
    {
      "cell_type": "markdown",
      "metadata": {
        "id": "RfHGLuUA4U2p",
        "colab_type": "text"
      },
      "source": [
        "**Newer extensions**\n",
        "\n",
        "*    String methods:\n",
        "X.split('+') same as older string.split(X, '+')\n",
        "string module requires import, methods do not\n",
        "methods now faster, preferred to string module\n",
        "*    Unicode strings:\n",
        "Multi-byte characters, for internationalization (I18N)\n",
        "U'xxxx' constants, Unicode modules, auto conversions\n",
        "Can mix with normal strings, or convert: str(U), unicode(S)\n",
        "Varies in 3.X: see note box above for more details\n",
        "*    Template formatting: string module, see ahead\n",
        "*    String .format() method: largely redundant with %"
      ]
    },
    {
      "cell_type": "markdown",
      "metadata": {
        "id": "VhoeOtWL4YnY",
        "colab_type": "text"
      },
      "source": [
        "**Strings in action**"
      ]
    },
    {
      "cell_type": "code",
      "metadata": {
        "id": "NEUACvc0bhDV",
        "colab_type": "code",
        "colab": {
          "base_uri": "https://localhost:8080/",
          "height": 34
        },
        "outputId": "f06d1709-38ee-4640-cb42-89143c999689"
      },
      "source": [
        "'abc' + 'def' # concatenation: a new string"
      ],
      "execution_count": 1,
      "outputs": [
        {
          "output_type": "execute_result",
          "data": {
            "text/plain": [
              "'abcdef'"
            ]
          },
          "metadata": {
            "tags": []
          },
          "execution_count": 1
        }
      ]
    },
    {
      "cell_type": "code",
      "metadata": {
        "id": "Siba8lTE4n5E",
        "colab_type": "code",
        "colab": {
          "base_uri": "https://localhost:8080/",
          "height": 34
        },
        "outputId": "dcc96cd3-edca-4a17-d437-0b83e1e0e737"
      },
      "source": [
        "'Ni!' * 4 # like \"Ni!\" + \"Ni!\" + ..."
      ],
      "execution_count": 2,
      "outputs": [
        {
          "output_type": "execute_result",
          "data": {
            "text/plain": [
              "'Ni!Ni!Ni!Ni!'"
            ]
          },
          "metadata": {
            "tags": []
          },
          "execution_count": 2
        }
      ]
    },
    {
      "cell_type": "markdown",
      "metadata": {
        "id": "iAtp7Ck1bhDX",
        "colab_type": "text"
      },
      "source": [
        "**Indexing and slicing**"
      ]
    },
    {
      "cell_type": "code",
      "metadata": {
        "id": "1XVztVCjbhDX",
        "colab_type": "code",
        "colab": {
          "base_uri": "https://localhost:8080/",
          "height": 34
        },
        "outputId": "27f616e5-a2fb-4b57-b38c-f2b8e4b0b846"
      },
      "source": [
        "S = 'spam'\n",
        "S[0], S[-2] # indexing from from or end"
      ],
      "execution_count": 3,
      "outputs": [
        {
          "output_type": "execute_result",
          "data": {
            "text/plain": [
              "('s', 'a')"
            ]
          },
          "metadata": {
            "tags": []
          },
          "execution_count": 3
        }
      ]
    },
    {
      "cell_type": "code",
      "metadata": {
        "id": "fTuOuryj4uN4",
        "colab_type": "code",
        "colab": {
          "base_uri": "https://localhost:8080/",
          "height": 34
        },
        "outputId": "ec62c561-ba87-4bd0-eadb-0d9f2021f67e"
      },
      "source": [
        "S[1:3], S[1:], S[:-1] # slicing: extract section"
      ],
      "execution_count": 4,
      "outputs": [
        {
          "output_type": "execute_result",
          "data": {
            "text/plain": [
              "('pa', 'pam', 'spa')"
            ]
          },
          "metadata": {
            "tags": []
          },
          "execution_count": 4
        }
      ]
    },
    {
      "cell_type": "markdown",
      "metadata": {
        "id": "4CzKrzUlbhDZ",
        "colab_type": "text"
      },
      "source": [
        "**Changing and formatting**"
      ]
    },
    {
      "cell_type": "code",
      "metadata": {
        "id": "Fax2MYwmbhDa",
        "colab_type": "code",
        "colab": {
          "base_uri": "https://localhost:8080/",
          "height": 34
        },
        "outputId": "aa2a136a-0f07-4107-e183-5c6e59620904"
      },
      "source": [
        "S = S + 'Spam!' # to change a string, make a new one\n",
        "S"
      ],
      "execution_count": 5,
      "outputs": [
        {
          "output_type": "execute_result",
          "data": {
            "text/plain": [
              "'spamSpam!'"
            ]
          },
          "metadata": {
            "tags": []
          },
          "execution_count": 5
        }
      ]
    },
    {
      "cell_type": "code",
      "metadata": {
        "id": "VFiXe-IJ40zA",
        "colab_type": "code",
        "colab": {
          "base_uri": "https://localhost:8080/",
          "height": 34
        },
        "outputId": "7f5667d8-2e0f-4bd9-cb6f-8845d7e7887d"
      },
      "source": [
        "'That is %d %s bird!' % (1, 'dead') # like C sprintf"
      ],
      "execution_count": 6,
      "outputs": [
        {
          "output_type": "execute_result",
          "data": {
            "text/plain": [
              "'That is 1 dead bird!'"
            ]
          },
          "metadata": {
            "tags": []
          },
          "execution_count": 6
        }
      ]
    },
    {
      "cell_type": "markdown",
      "metadata": {
        "id": "aCH8bVn4bhDc",
        "colab_type": "text"
      },
      "source": [
        "**Advanced formatting examples**"
      ]
    },
    {
      "cell_type": "code",
      "metadata": {
        "id": "qiTR4RND5EoX",
        "colab_type": "code",
        "colab": {
          "base_uri": "https://localhost:8080/",
          "height": 34
        },
        "outputId": "4b64f61d-9c0c-4886-946f-b28375247b99"
      },
      "source": [
        "x = 1234\n",
        "res = \"integers: ...%d...%-6d...%06d\" % (x, x, x)\n",
        "res"
      ],
      "execution_count": 7,
      "outputs": [
        {
          "output_type": "execute_result",
          "data": {
            "text/plain": [
              "'integers: ...1234...1234  ...001234'"
            ]
          },
          "metadata": {
            "tags": []
          },
          "execution_count": 7
        }
      ]
    },
    {
      "cell_type": "code",
      "metadata": {
        "id": "RTn61FJi5KHH",
        "colab_type": "code",
        "colab": {
          "base_uri": "https://localhost:8080/",
          "height": 34
        },
        "outputId": "6005c506-94a6-48f6-ae92-485dd1461516"
      },
      "source": [
        "x = 1.23456789\n",
        "x"
      ],
      "execution_count": 8,
      "outputs": [
        {
          "output_type": "execute_result",
          "data": {
            "text/plain": [
              "1.23456789"
            ]
          },
          "metadata": {
            "tags": []
          },
          "execution_count": 8
        }
      ]
    },
    {
      "cell_type": "code",
      "metadata": {
        "id": "c7JZ1_8r5MmP",
        "colab_type": "code",
        "colab": {
          "base_uri": "https://localhost:8080/",
          "height": 34
        },
        "outputId": "828c655d-90ed-4360-8ff0-bbffb57224e2"
      },
      "source": [
        "'%e | %f | %g' % (x, x, x)"
      ],
      "execution_count": 9,
      "outputs": [
        {
          "output_type": "execute_result",
          "data": {
            "text/plain": [
              "'1.234568e+00 | 1.234568 | 1.23457'"
            ]
          },
          "metadata": {
            "tags": []
          },
          "execution_count": 9
        }
      ]
    },
    {
      "cell_type": "code",
      "metadata": {
        "id": "T4ASMreW5QPn",
        "colab_type": "code",
        "colab": {
          "base_uri": "https://localhost:8080/",
          "height": 34
        },
        "outputId": "598fe2dd-b238-4757-b3d7-d103086aa4c2"
      },
      "source": [
        "'%-6.2f | %05.2f | %+06.1f' % (x, x, x)"
      ],
      "execution_count": 10,
      "outputs": [
        {
          "output_type": "execute_result",
          "data": {
            "text/plain": [
              "'1.23   | 01.23 | +001.2'"
            ]
          },
          "metadata": {
            "tags": []
          },
          "execution_count": 10
        }
      ]
    },
    {
      "cell_type": "code",
      "metadata": {
        "id": "pbChgyGN5rM_",
        "colab_type": "code",
        "colab": {
          "base_uri": "https://localhost:8080/",
          "height": 34
        },
        "outputId": "ad1597cd-59dd-4e71-d495-9ba71f0c5133"
      },
      "source": [
        "int(x)"
      ],
      "execution_count": 11,
      "outputs": [
        {
          "output_type": "execute_result",
          "data": {
            "text/plain": [
              "1"
            ]
          },
          "metadata": {
            "tags": []
          },
          "execution_count": 11
        }
      ]
    },
    {
      "cell_type": "code",
      "metadata": {
        "id": "Z5jUo1od5uFX",
        "colab_type": "code",
        "colab": {
          "base_uri": "https://localhost:8080/",
          "height": 34
        },
        "outputId": "2f2267cb-e793-4ab0-b50d-e8a8abb91933"
      },
      "source": [
        "round(x, 2)"
      ],
      "execution_count": 12,
      "outputs": [
        {
          "output_type": "execute_result",
          "data": {
            "text/plain": [
              "1.23"
            ]
          },
          "metadata": {
            "tags": []
          },
          "execution_count": 12
        }
      ]
    },
    {
      "cell_type": "code",
      "metadata": {
        "id": "-ujssWai50Yo",
        "colab_type": "code",
        "colab": {
          "base_uri": "https://localhost:8080/",
          "height": 34
        },
        "outputId": "66007217-932c-43df-d505-527e82c83f7b"
      },
      "source": [
        "round(x, 4)"
      ],
      "execution_count": 13,
      "outputs": [
        {
          "output_type": "execute_result",
          "data": {
            "text/plain": [
              "1.2346"
            ]
          },
          "metadata": {
            "tags": []
          },
          "execution_count": 13
        }
      ]
    },
    {
      "cell_type": "code",
      "metadata": {
        "id": "c4G4ThiW545n",
        "colab_type": "code",
        "colab": {
          "base_uri": "https://localhost:8080/",
          "height": 34
        },
        "outputId": "7383d02b-c848-446a-c735-9f52fc362f6b"
      },
      "source": [
        "\"%o %x %X\" % (64, 64, 255)"
      ],
      "execution_count": 14,
      "outputs": [
        {
          "output_type": "execute_result",
          "data": {
            "text/plain": [
              "'100 40 FF'"
            ]
          },
          "metadata": {
            "tags": []
          },
          "execution_count": 14
        }
      ]
    },
    {
      "cell_type": "code",
      "metadata": {
        "id": "XgXql9uc58fo",
        "colab_type": "code",
        "colab": {
          "base_uri": "https://localhost:8080/",
          "height": 34
        },
        "outputId": "24072c59-f362-4a77-b09b-3eb0835cafe9"
      },
      "source": [
        "hex(255), int('0xff', 16), eval('0xFF')"
      ],
      "execution_count": 15,
      "outputs": [
        {
          "output_type": "execute_result",
          "data": {
            "text/plain": [
              "('0xff', 255, 255)"
            ]
          },
          "metadata": {
            "tags": []
          },
          "execution_count": 15
        }
      ]
    },
    {
      "cell_type": "code",
      "metadata": {
        "id": "KlaxmhK45-MX",
        "colab_type": "code",
        "colab": {
          "base_uri": "https://localhost:8080/",
          "height": 34
        },
        "outputId": "29ca3e21-f08c-4162-a897-a4af8a90ceee"
      },
      "source": [
        "ord('s'), chr(115)"
      ],
      "execution_count": 16,
      "outputs": [
        {
          "output_type": "execute_result",
          "data": {
            "text/plain": [
              "(115, 's')"
            ]
          },
          "metadata": {
            "tags": []
          },
          "execution_count": 16
        }
      ]
    },
    {
      "cell_type": "markdown",
      "metadata": {
        "id": "G-6NkZdC6Acv",
        "colab_type": "text"
      },
      "source": [
        "**Formatting with dictionaries**"
      ]
    },
    {
      "cell_type": "code",
      "metadata": {
        "id": "Ebdbfv5v6kZf",
        "colab_type": "code",
        "colab": {
          "base_uri": "https://localhost:8080/",
          "height": 34
        },
        "outputId": "c4b636b1-393a-4a84-9b04-d886c6db0703"
      },
      "source": [
        "D = {'xx': 1, 'yy': 2}\n",
        "\"%(xx)d => %(yy)s\" % D"
      ],
      "execution_count": 17,
      "outputs": [
        {
          "output_type": "execute_result",
          "data": {
            "text/plain": [
              "'1 => 2'"
            ]
          },
          "metadata": {
            "tags": []
          },
          "execution_count": 17
        }
      ]
    },
    {
      "cell_type": "code",
      "metadata": {
        "id": "Q1l76yjv6oqH",
        "colab_type": "code",
        "colab": {
          "base_uri": "https://localhost:8080/",
          "height": 34
        },
        "outputId": "9102fcaa-3a79-4469-f5d6-4ffb098d3ad2"
      },
      "source": [
        "aa = 3\n",
        "bb = 4\n",
        "\"%(aa)d => %(bb)s\" % vars()"
      ],
      "execution_count": 18,
      "outputs": [
        {
          "output_type": "execute_result",
          "data": {
            "text/plain": [
              "'3 => 4'"
            ]
          },
          "metadata": {
            "tags": []
          },
          "execution_count": 18
        }
      ]
    },
    {
      "cell_type": "code",
      "metadata": {
        "id": "zIvxDkm66vLX",
        "colab_type": "code",
        "colab": {
          "base_uri": "https://localhost:8080/",
          "height": 102
        },
        "outputId": "65796192-0dd6-4c2c-d790-7fe9be7435e7"
      },
      "source": [
        "reply = \"\"\"\n",
        "Greetings...\n",
        "Hello %(name)s!\n",
        "Your age squared is %(age)s\n",
        "\"\"\"\n",
        "values = {'name': 'Bob', 'age': 40}\n",
        "print(reply % values)"
      ],
      "execution_count": 19,
      "outputs": [
        {
          "output_type": "stream",
          "text": [
            "\n",
            "Greetings...\n",
            "Hello Bob!\n",
            "Your age squared is 40\n",
            "\n"
          ],
          "name": "stdout"
        }
      ]
    },
    {
      "cell_type": "markdown",
      "metadata": {
        "id": "lNqxk4Ar62CZ",
        "colab_type": "text"
      },
      "source": [
        "**Formatting method**"
      ]
    },
    {
      "cell_type": "code",
      "metadata": {
        "id": "UVxJo5Ri9nbQ",
        "colab_type": "code",
        "colab": {
          "base_uri": "https://localhost:8080/",
          "height": 34
        },
        "outputId": "1951afb5-6873-4c48-9ee5-029f2885b1c0"
      },
      "source": [
        "'{} {}'.format(42, 'spam')"
      ],
      "execution_count": 20,
      "outputs": [
        {
          "output_type": "execute_result",
          "data": {
            "text/plain": [
              "'42 spam'"
            ]
          },
          "metadata": {
            "tags": []
          },
          "execution_count": 20
        }
      ]
    },
    {
      "cell_type": "code",
      "metadata": {
        "id": "7YRSKueD9pS5",
        "colab_type": "code",
        "colab": {
          "base_uri": "https://localhost:8080/",
          "height": 34
        },
        "outputId": "263e0072-71b8-4b6f-efb4-62808330a044"
      },
      "source": [
        "'{0:.2f}'.format(1.234)"
      ],
      "execution_count": 21,
      "outputs": [
        {
          "output_type": "execute_result",
          "data": {
            "text/plain": [
              "'1.23'"
            ]
          },
          "metadata": {
            "tags": []
          },
          "execution_count": 21
        }
      ]
    },
    {
      "cell_type": "code",
      "metadata": {
        "id": "EvdeQDi0bhDf",
        "colab_type": "code",
        "colab": {
          "base_uri": "https://localhost:8080/",
          "height": 34
        },
        "outputId": "cfff68ab-fcb1-4ebc-d8ba-93d340edbd2b"
      },
      "source": [
        "'{0:,.2f}'.format(1234567.234)"
      ],
      "execution_count": 22,
      "outputs": [
        {
          "output_type": "execute_result",
          "data": {
            "text/plain": [
              "'1,234,567.23'"
            ]
          },
          "metadata": {
            "tags": []
          },
          "execution_count": 22
        }
      ]
    },
    {
      "cell_type": "markdown",
      "metadata": {
        "id": "6ms9KiBR9t1O",
        "colab_type": "text"
      },
      "source": [
        "**Template formatting**"
      ]
    },
    {
      "cell_type": "code",
      "metadata": {
        "id": "n8KyecDB9zhn",
        "colab_type": "code",
        "colab": {
          "base_uri": "https://localhost:8080/",
          "height": 34
        },
        "outputId": "30f269c9-bee3-4111-b7a9-61e7a33c6dd6"
      },
      "source": [
        "('%(page)i: %(title)s' % {'page':2, 'title': 'The Best of Times'})"
      ],
      "execution_count": 23,
      "outputs": [
        {
          "output_type": "execute_result",
          "data": {
            "text/plain": [
              "'2: The Best of Times'"
            ]
          },
          "metadata": {
            "tags": []
          },
          "execution_count": 23
        }
      ]
    },
    {
      "cell_type": "code",
      "metadata": {
        "id": "-DF3Udat94bw",
        "colab_type": "code",
        "colab": {
          "base_uri": "https://localhost:8080/",
          "height": 34
        },
        "outputId": "4fc96975-186d-4c1c-cd74-72b0710e76b7"
      },
      "source": [
        "import string\n",
        "t = string.Template('$page: $title')\n",
        "t.substitute({'page':2, 'title': 'The Best of Times'})"
      ],
      "execution_count": 24,
      "outputs": [
        {
          "output_type": "execute_result",
          "data": {
            "text/plain": [
              "'2: The Best of Times'"
            ]
          },
          "metadata": {
            "tags": []
          },
          "execution_count": 24
        }
      ]
    },
    {
      "cell_type": "code",
      "metadata": {
        "id": "hiAuDxoi97f_",
        "colab_type": "code",
        "colab": {
          "base_uri": "https://localhost:8080/",
          "height": 34
        },
        "outputId": "297276a1-0420-4186-a1d7-23d894c9bc3c"
      },
      "source": [
        "s = string.Template('$who likes $what')\n",
        "s.substitute(who='bob', what=3.14)"
      ],
      "execution_count": 27,
      "outputs": [
        {
          "output_type": "execute_result",
          "data": {
            "text/plain": [
              "'bob likes 3.14'"
            ]
          },
          "metadata": {
            "tags": []
          },
          "execution_count": 27
        }
      ]
    },
    {
      "cell_type": "code",
      "metadata": {
        "id": "ur2uYXULbhDh",
        "colab_type": "code",
        "colab": {
          "base_uri": "https://localhost:8080/",
          "height": 34
        },
        "outputId": "5eb06ca9-ec42-4546-c86a-089a5689c26c"
      },
      "source": [
        "s.substitute(dict(who='bob', what=3.14))"
      ],
      "execution_count": 28,
      "outputs": [
        {
          "output_type": "execute_result",
          "data": {
            "text/plain": [
              "'bob likes 3.14'"
            ]
          },
          "metadata": {
            "tags": []
          },
          "execution_count": 28
        }
      ]
    },
    {
      "cell_type": "markdown",
      "metadata": {
        "id": "Su4mM1KAbhDi",
        "colab_type": "text"
      },
      "source": [
        "**Common string tools**"
      ]
    },
    {
      "cell_type": "code",
      "metadata": {
        "id": "eHVa9Gki-TKf",
        "colab_type": "code",
        "colab": {
          "base_uri": "https://localhost:8080/",
          "height": 34
        },
        "outputId": "f0e2dc15-8fc7-40fd-a350-fb632e7d0ea3"
      },
      "source": [
        "S = \"spammify\"\n",
        "S.upper() # convert to uppercase"
      ],
      "execution_count": 29,
      "outputs": [
        {
          "output_type": "execute_result",
          "data": {
            "text/plain": [
              "'SPAMMIFY'"
            ]
          },
          "metadata": {
            "tags": []
          },
          "execution_count": 29
        }
      ]
    },
    {
      "cell_type": "code",
      "metadata": {
        "id": "fySMhl9x-WTX",
        "colab_type": "code",
        "colab": {
          "base_uri": "https://localhost:8080/",
          "height": 34
        },
        "outputId": "5786f989-c250-4f60-f20f-29991e7500a0"
      },
      "source": [
        "S.find(\"mm\") # return index of substring"
      ],
      "execution_count": 30,
      "outputs": [
        {
          "output_type": "execute_result",
          "data": {
            "text/plain": [
              "3"
            ]
          },
          "metadata": {
            "tags": []
          },
          "execution_count": 30
        }
      ]
    },
    {
      "cell_type": "code",
      "metadata": {
        "id": "1U8Gu2-C-Y27",
        "colab_type": "code",
        "colab": {
          "base_uri": "https://localhost:8080/",
          "height": 34
        },
        "outputId": "eb4e0df7-fe44-4680-c19f-9a387a7ef6b0"
      },
      "source": [
        "int(\"42\"), str(42) # convert from/to string"
      ],
      "execution_count": 31,
      "outputs": [
        {
          "output_type": "execute_result",
          "data": {
            "text/plain": [
              "(42, '42')"
            ]
          },
          "metadata": {
            "tags": []
          },
          "execution_count": 31
        }
      ]
    },
    {
      "cell_type": "code",
      "metadata": {
        "id": "XU8jqrVv-cNG",
        "colab_type": "code",
        "colab": {
          "base_uri": "https://localhost:8080/",
          "height": 34
        },
        "outputId": "a10dfe9f-be0c-4320-a94a-ce771e1b9c61"
      },
      "source": [
        "S.split('mm') # splitting and joining"
      ],
      "execution_count": 32,
      "outputs": [
        {
          "output_type": "execute_result",
          "data": {
            "text/plain": [
              "['spa', 'ify']"
            ]
          },
          "metadata": {
            "tags": []
          },
          "execution_count": 32
        }
      ]
    },
    {
      "cell_type": "code",
      "metadata": {
        "id": "zDGkCjHPbhDj",
        "colab_type": "code",
        "colab": {
          "base_uri": "https://localhost:8080/",
          "height": 34
        },
        "outputId": "8cab569f-922e-4454-ecb6-4e12160bf645"
      },
      "source": [
        "'XX'.join(S.split(\"mm\"))"
      ],
      "execution_count": 34,
      "outputs": [
        {
          "output_type": "execute_result",
          "data": {
            "text/plain": [
              "'spaXXify'"
            ]
          },
          "metadata": {
            "tags": []
          },
          "execution_count": 34
        }
      ]
    },
    {
      "cell_type": "markdown",
      "metadata": {
        "id": "Y7HFAdz4-gEe",
        "colab_type": "text"
      },
      "source": [
        "**Example: replacing text**"
      ]
    },
    {
      "cell_type": "code",
      "metadata": {
        "id": "UJQZIlZjGgy3",
        "colab_type": "code",
        "colab": {
          "base_uri": "https://localhost:8080/",
          "height": 34
        },
        "outputId": "5b6f1102-6e73-4d3f-f17c-fad6fd95d366"
      },
      "source": [
        "# replace method\n",
        "S = 'spammy'\n",
        "S = S.replace('mm', 'xx')\n",
        "S"
      ],
      "execution_count": 35,
      "outputs": [
        {
          "output_type": "execute_result",
          "data": {
            "text/plain": [
              "'spaxxy'"
            ]
          },
          "metadata": {
            "tags": []
          },
          "execution_count": 35
        }
      ]
    },
    {
      "cell_type": "code",
      "metadata": {
        "id": "47GVDOT2Gj7d",
        "colab_type": "code",
        "colab": {
          "base_uri": "https://localhost:8080/",
          "height": 34
        },
        "outputId": "f1645819-dc66-4f3b-ddc6-fdeddc39788f"
      },
      "source": [
        "S = 'xxxxSPAMxxxxSPAMxxxx'\n",
        "S.replace('SPAM', 'EGG') # replace all"
      ],
      "execution_count": 36,
      "outputs": [
        {
          "output_type": "execute_result",
          "data": {
            "text/plain": [
              "'xxxxEGGxxxxEGGxxxx'"
            ]
          },
          "metadata": {
            "tags": []
          },
          "execution_count": 36
        }
      ]
    },
    {
      "cell_type": "code",
      "metadata": {
        "id": "EUBs42qJGnYU",
        "colab_type": "code",
        "colab": {
          "base_uri": "https://localhost:8080/",
          "height": 34
        },
        "outputId": "82270a4e-46f7-4f88-e785-65ec92e2e426"
      },
      "source": [
        "# finding and slicing\n",
        "S = 'xxxxSPAMxxxxSPAMxxxx'\n",
        "where = S.find('SPAM') # search for position\n",
        "where # occurs at offset 4"
      ],
      "execution_count": 37,
      "outputs": [
        {
          "output_type": "execute_result",
          "data": {
            "text/plain": [
              "4"
            ]
          },
          "metadata": {
            "tags": []
          },
          "execution_count": 37
        }
      ]
    },
    {
      "cell_type": "code",
      "metadata": {
        "id": "UzgEzD7mGrJs",
        "colab_type": "code",
        "colab": {
          "base_uri": "https://localhost:8080/",
          "height": 34
        },
        "outputId": "65d950c9-d8e1-462d-a0b0-1d125decd977"
      },
      "source": [
        "S = S[:where] + 'EGGS' + S[(where+4):]\n",
        "S"
      ],
      "execution_count": 38,
      "outputs": [
        {
          "output_type": "execute_result",
          "data": {
            "text/plain": [
              "'xxxxEGGSxxxxSPAMxxxx'"
            ]
          },
          "metadata": {
            "tags": []
          },
          "execution_count": 38
        }
      ]
    },
    {
      "cell_type": "code",
      "metadata": {
        "id": "sFvQDpRvGvV4",
        "colab_type": "code",
        "colab": {
          "base_uri": "https://localhost:8080/",
          "height": 34
        },
        "outputId": "c634e900-f0ee-4412-9326-4d825a700788"
      },
      "source": [
        "# exploding to/from list\n",
        "S = 'spammy'\n",
        "L = list(S) # explode to list\n",
        "L"
      ],
      "execution_count": 39,
      "outputs": [
        {
          "output_type": "execute_result",
          "data": {
            "text/plain": [
              "['s', 'p', 'a', 'm', 'm', 'y']"
            ]
          },
          "metadata": {
            "tags": []
          },
          "execution_count": 39
        }
      ]
    },
    {
      "cell_type": "code",
      "metadata": {
        "id": "azg7XVV_GyVV",
        "colab_type": "code",
        "colab": {
          "base_uri": "https://localhost:8080/",
          "height": 34
        },
        "outputId": "f9ed274a-1456-46dc-8198-80ae9ba85ea4"
      },
      "source": [
        "L[3] = 'x' # multiple in-place changes\n",
        "L[4] = 'x' # cant do this for strings\n",
        "L"
      ],
      "execution_count": 40,
      "outputs": [
        {
          "output_type": "execute_result",
          "data": {
            "text/plain": [
              "['s', 'p', 'a', 'x', 'x', 'y']"
            ]
          },
          "metadata": {
            "tags": []
          },
          "execution_count": 40
        }
      ]
    },
    {
      "cell_type": "code",
      "metadata": {
        "id": "NRT0WCYzbhDk",
        "colab_type": "code",
        "colab": {
          "base_uri": "https://localhost:8080/",
          "height": 34
        },
        "outputId": "d81adf1d-3d5b-4571-f340-ec23fecd34db"
      },
      "source": [
        "S = ''.join(L) # implode back to string\n",
        "S"
      ],
      "execution_count": 41,
      "outputs": [
        {
          "output_type": "execute_result",
          "data": {
            "text/plain": [
              "'spaxxy'"
            ]
          },
          "metadata": {
            "tags": []
          },
          "execution_count": 41
        }
      ]
    },
    {
      "cell_type": "markdown",
      "metadata": {
        "id": "o6YOR0L8G3dF",
        "colab_type": "text"
      },
      "source": [
        "**Example: parsing with slices**"
      ]
    },
    {
      "cell_type": "code",
      "metadata": {
        "id": "oscX9GZKG7tk",
        "colab_type": "code",
        "colab": {
          "base_uri": "https://localhost:8080/",
          "height": 34
        },
        "outputId": "933c9485-83da-4c74-9450-b474f5c87a9a"
      },
      "source": [
        "line = 'aaa bbb ccc'\n",
        "col1 = line[0:3] # columns at fixed offsets\n",
        "col3 = line[8:]\n",
        "col1"
      ],
      "execution_count": 42,
      "outputs": [
        {
          "output_type": "execute_result",
          "data": {
            "text/plain": [
              "'aaa'"
            ]
          },
          "metadata": {
            "tags": []
          },
          "execution_count": 42
        }
      ]
    },
    {
      "cell_type": "code",
      "metadata": {
        "id": "ZOGhj_H3bhDm",
        "colab_type": "code",
        "colab": {
          "base_uri": "https://localhost:8080/",
          "height": 34
        },
        "outputId": "fdfc4b2e-f4ae-410e-ef3c-59e4e1d9e18a"
      },
      "source": [
        "col3"
      ],
      "execution_count": 43,
      "outputs": [
        {
          "output_type": "execute_result",
          "data": {
            "text/plain": [
              "'ccc'"
            ]
          },
          "metadata": {
            "tags": []
          },
          "execution_count": 43
        }
      ]
    },
    {
      "cell_type": "markdown",
      "metadata": {
        "id": "wHJ0MBiuG_fF",
        "colab_type": "text"
      },
      "source": [
        "**Example: parsing with splits**"
      ]
    },
    {
      "cell_type": "code",
      "metadata": {
        "id": "2-YRzW0qHB9N",
        "colab_type": "code",
        "colab": {
          "base_uri": "https://localhost:8080/",
          "height": 34
        },
        "outputId": "232b8064-d65f-4d06-8dfa-c5e19a4cd176"
      },
      "source": [
        "line = 'aaa bbb ccc' # split around whitespace\n",
        "cols = line.split()\n",
        "cols"
      ],
      "execution_count": 44,
      "outputs": [
        {
          "output_type": "execute_result",
          "data": {
            "text/plain": [
              "['aaa', 'bbb', 'ccc']"
            ]
          },
          "metadata": {
            "tags": []
          },
          "execution_count": 44
        }
      ]
    },
    {
      "cell_type": "code",
      "metadata": {
        "id": "tF274x0qbhDn",
        "colab_type": "code",
        "colab": {
          "base_uri": "https://localhost:8080/",
          "height": 34
        },
        "outputId": "fdaa9c7a-a583-40db-bdef-e92876bd4c42"
      },
      "source": [
        "line = 'bob,hacker,40' # split around commas\n",
        "line.split(',')"
      ],
      "execution_count": 45,
      "outputs": [
        {
          "output_type": "execute_result",
          "data": {
            "text/plain": [
              "['bob', 'hacker', '40']"
            ]
          },
          "metadata": {
            "tags": []
          },
          "execution_count": 45
        }
      ]
    },
    {
      "cell_type": "markdown",
      "metadata": {
        "id": "Nupns4W4HLA9",
        "colab_type": "text"
      },
      "source": [
        "**Generic type concepts**\n",
        "\n",
        "*    Types share operation sets by categories\n",
        "*    Numbers support addition, multiplication, . . .\n",
        "*    Sequences support indexing, slicing, concatenation, . . .\n",
        "*    Mappings support indexing by key, . . .\n",
        "*    Mutable types can be changed in place\n",
        "*    Strings are immutable sequences"
      ]
    },
    {
      "cell_type": "markdown",
      "metadata": {
        "id": "JS2HWWHQHQ_x",
        "colab_type": "text"
      },
      "source": [
        "**Concatenation and repetition**\n",
        "\n",
        "*      X + Y makes a new sequence object with the contents of both operands\n",
        "*      X * N makes a new sequence object with N copies of the sequence operand"
      ]
    },
    {
      "cell_type": "markdown",
      "metadata": {
        "id": "Vyt2vF6AHbL9",
        "colab_type": "text"
      },
      "source": [
        "**Indexing and slicing**\n",
        "\n",
        "*    Indexing\n",
        "     -      Fetches components via offsets: zero-based\n",
        "     -      Negative indexes: adds length to offset\n",
        "     -      S[0] is the first item\n",
        "     -      S[-2] is the second from the end (4 - 2)\n",
        "     -      Also works on mappings, but index is a key\n",
        "*    Slicing\n",
        "     -      Extracts contiguous sections of a sequence\n",
        "     -      Slices default to 0 and the sequence length if omitted\n",
        "     -      S[1:3] fetches from offsets 1 upto but not including 3\n",
        "     -      S[1:] fetches from offsets 1 through the end (length)\n",
        "     -      S[:-1] fetches from offsets 0 upto but not including last\n",
        "     -      S[I:J:K] newer, I to J by K, K is a stride/step (S[::2])"
      ]
    },
    {
      "cell_type": "markdown",
      "metadata": {
        "id": "H3sTxicbHpRA",
        "colab_type": "text"
      },
      "source": [
        "###Lists"
      ]
    },
    {
      "cell_type": "markdown",
      "metadata": {
        "id": "okYJbAo4Ht7Q",
        "colab_type": "text"
      },
      "source": [
        "*     Arrays of object references\n",
        "*     Access by offset\n",
        "*     Variable length, heterogeneous, arbitrarily nestable\n",
        "*     Category: mutable sequence\n",
        "*     Ordered collections of arbitrary objects"
      ]
    },
    {
      "cell_type": "markdown",
      "metadata": {
        "id": "jibfGVKPbhDo",
        "colab_type": "text"
      },
      "source": [
        "**Common list operations**\n",
        "\n",
        "Operation |\tInterpretation\n",
        "---|---\n",
        "L1 = [] |\tan empty list\n",
        "L2 = [0, 1, 2, 3] |\t4-items: indexes 0..3\n",
        "['abc', ['def', 'ghi']] |\tnested sublists\n",
        "L2[i], L2[i:j], len(L2) |\tindex, slice, length\n",
        "L1 + L2, L2 * 3 |\tconcatenate, repeat\n",
        "L1.sort(), L2.append(4) |\tmethods: sort, grow\n",
        "del L2[k], L2[i:j] = [] |\tshrinking\n",
        "L2[i:j] = [1,2,3] |\tslice assignment\n",
        "range(4), xrange(0, 4) |\tmake integer lists\n",
        "for x in L2, 3 in L2 |\titeration/membership"
      ]
    },
    {
      "cell_type": "markdown",
      "metadata": {
        "id": "SxTL19YgHxEN",
        "colab_type": "text"
      },
      "source": [
        "**Lists in action**"
      ]
    },
    {
      "cell_type": "code",
      "metadata": {
        "id": "e6zSktYqbhDp",
        "colab_type": "code",
        "colab": {
          "base_uri": "https://localhost:8080/",
          "height": 34
        },
        "outputId": "e84f8a31-b4d8-4988-abd2-2df06ed97409"
      },
      "source": [
        "[1, 2, 3] + [4, 5, 6] # concatenation"
      ],
      "execution_count": 46,
      "outputs": [
        {
          "output_type": "execute_result",
          "data": {
            "text/plain": [
              "[1, 2, 3, 4, 5, 6]"
            ]
          },
          "metadata": {
            "tags": []
          },
          "execution_count": 46
        }
      ]
    },
    {
      "cell_type": "code",
      "metadata": {
        "id": "ft-CJjqZIffF",
        "colab_type": "code",
        "colab": {
          "base_uri": "https://localhost:8080/",
          "height": 34
        },
        "outputId": "11917a15-21be-41df-c976-6aab0a2c7104"
      },
      "source": [
        "['Ni!'] * 4 # repetition"
      ],
      "execution_count": 47,
      "outputs": [
        {
          "output_type": "execute_result",
          "data": {
            "text/plain": [
              "['Ni!', 'Ni!', 'Ni!', 'Ni!']"
            ]
          },
          "metadata": {
            "tags": []
          },
          "execution_count": 47
        }
      ]
    },
    {
      "cell_type": "markdown",
      "metadata": {
        "id": "onqAJ5cgbhDq",
        "colab_type": "text"
      },
      "source": [
        "**Indexing and slicing**"
      ]
    },
    {
      "cell_type": "code",
      "metadata": {
        "id": "9qXSD6HDbhDr",
        "colab_type": "code",
        "colab": {}
      },
      "source": [
        "L = ['spam', 'Spam', 'SPAM!']\n",
        "L[2]\n",
        "'SPAM!'\n",
        "L[1:]\n",
        "['Spam', 'SPAM!']\n",
        " \n"
      ],
      "execution_count": 0,
      "outputs": []
    },
    {
      "cell_type": "markdown",
      "metadata": {
        "id": "t8FEJ0UIbhDv",
        "colab_type": "text"
      },
      "source": [
        "**Changing lists in-place**"
      ]
    },
    {
      "cell_type": "code",
      "metadata": {
        "id": "LB_RVdeNKxXV",
        "colab_type": "code",
        "colab": {
          "base_uri": "https://localhost:8080/",
          "height": 34
        },
        "outputId": "431db2a8-a105-4764-f618-1dc32005f22b"
      },
      "source": [
        "L[1] = 'eggs' # index assignment\n",
        "L"
      ],
      "execution_count": 48,
      "outputs": [
        {
          "output_type": "execute_result",
          "data": {
            "text/plain": [
              "['s', 'eggs', 'a', 'x', 'x', 'y']"
            ]
          },
          "metadata": {
            "tags": []
          },
          "execution_count": 48
        }
      ]
    },
    {
      "cell_type": "code",
      "metadata": {
        "id": "6t_cO626Kz9D",
        "colab_type": "code",
        "colab": {
          "base_uri": "https://localhost:8080/",
          "height": 34
        },
        "outputId": "d3e16f54-f889-477e-b2d2-4dfb71d3d472"
      },
      "source": [
        "L[0:2] = ['eat', 'more'] # slice assignment\n",
        "L # replace items 0,1"
      ],
      "execution_count": 49,
      "outputs": [
        {
          "output_type": "execute_result",
          "data": {
            "text/plain": [
              "['eat', 'more', 'a', 'x', 'x', 'y']"
            ]
          },
          "metadata": {
            "tags": []
          },
          "execution_count": 49
        }
      ]
    },
    {
      "cell_type": "code",
      "metadata": {
        "id": "ESveNvIHbhDv",
        "colab_type": "code",
        "colab": {
          "base_uri": "https://localhost:8080/",
          "height": 34
        },
        "outputId": "717cf318-7961-414e-c73e-b2f64ed291f7"
      },
      "source": [
        "L.append('please') # append method call\n",
        "L"
      ],
      "execution_count": 50,
      "outputs": [
        {
          "output_type": "execute_result",
          "data": {
            "text/plain": [
              "['eat', 'more', 'a', 'x', 'x', 'y', 'please']"
            ]
          },
          "metadata": {
            "tags": []
          },
          "execution_count": 50
        }
      ]
    },
    {
      "cell_type": "markdown",
      "metadata": {
        "id": "1QIPO6I1bhDx",
        "colab_type": "text"
      },
      "source": [
        "*      Only works for mutable objects: not strings\n",
        "*      Index assignment replaces an object reference\n",
        "*      Slice assignment deletes a slice and inserts new items\n",
        "*      Append method inserts a new item on the end (realloc)"
      ]
    },
    {
      "cell_type": "markdown",
      "metadata": {
        "id": "b6EjCeCPK65H",
        "colab_type": "text"
      },
      "source": [
        "**Preview: iteration/membership**"
      ]
    },
    {
      "cell_type": "code",
      "metadata": {
        "id": "o20fRFH6bhDy",
        "colab_type": "code",
        "colab": {
          "base_uri": "https://localhost:8080/",
          "height": 34
        },
        "outputId": "a8bc56b3-9ba3-4ba6-9195-298dd0066b69"
      },
      "source": [
        "for x in L: print(x, end=',')"
      ],
      "execution_count": 51,
      "outputs": [
        {
          "output_type": "stream",
          "text": [
            "eat,more,a,x,x,y,please,"
          ],
          "name": "stdout"
        }
      ]
    },
    {
      "cell_type": "markdown",
      "metadata": {
        "id": "khkL8q1XbhDz",
        "colab_type": "text"
      },
      "source": [
        "**Example: 2-dimensional array**"
      ]
    },
    {
      "cell_type": "code",
      "metadata": {
        "id": "mgjtH7EVLE_b",
        "colab_type": "code",
        "colab": {
          "base_uri": "https://localhost:8080/",
          "height": 34
        },
        "outputId": "a7cde48d-be61-4753-9e82-828ed6866195"
      },
      "source": [
        "matrix = [[1, 2, 3],\n",
        "          [4, 5, 6],\n",
        "          [7, 8, 9]]\n",
        "matrix"
      ],
      "execution_count": 52,
      "outputs": [
        {
          "output_type": "execute_result",
          "data": {
            "text/plain": [
              "[[1, 2, 3], [4, 5, 6], [7, 8, 9]]"
            ]
          },
          "metadata": {
            "tags": []
          },
          "execution_count": 52
        }
      ]
    },
    {
      "cell_type": "code",
      "metadata": {
        "id": "JqCuX5EpLIwz",
        "colab_type": "code",
        "colab": {
          "base_uri": "https://localhost:8080/",
          "height": 34
        },
        "outputId": "4ad63865-73f5-4e7a-fba9-1c2d35b5bfcc"
      },
      "source": [
        "matrix[1]"
      ],
      "execution_count": 53,
      "outputs": [
        {
          "output_type": "execute_result",
          "data": {
            "text/plain": [
              "[4, 5, 6]"
            ]
          },
          "metadata": {
            "tags": []
          },
          "execution_count": 53
        }
      ]
    },
    {
      "cell_type": "code",
      "metadata": {
        "id": "UdJClh4NLKOD",
        "colab_type": "code",
        "colab": {
          "base_uri": "https://localhost:8080/",
          "height": 34
        },
        "outputId": "4dcef850-77ba-4391-808f-16c976ad71b7"
      },
      "source": [
        "matrix[1][1]"
      ],
      "execution_count": 54,
      "outputs": [
        {
          "output_type": "execute_result",
          "data": {
            "text/plain": [
              "5"
            ]
          },
          "metadata": {
            "tags": []
          },
          "execution_count": 54
        }
      ]
    },
    {
      "cell_type": "code",
      "metadata": {
        "id": "6Iboh-xdbhDz",
        "colab_type": "code",
        "colab": {
          "base_uri": "https://localhost:8080/",
          "height": 34
        },
        "outputId": "c99fff29-b3d1-4cc6-af94-896cad6cd7c8"
      },
      "source": [
        "matrix[2][0]"
      ],
      "execution_count": 55,
      "outputs": [
        {
          "output_type": "execute_result",
          "data": {
            "text/plain": [
              "7"
            ]
          },
          "metadata": {
            "tags": []
          },
          "execution_count": 55
        }
      ]
    },
    {
      "cell_type": "markdown",
      "metadata": {
        "id": "WlbIkiaHLO-U",
        "colab_type": "text"
      },
      "source": [
        "###Dictionaries"
      ]
    },
    {
      "cell_type": "markdown",
      "metadata": {
        "id": "YxiFxp7fLTkU",
        "colab_type": "text"
      },
      "source": [
        "*     Tables of object references\n",
        "*     Access by key, not offset (hash-tables)\n",
        "*     Variable length, heterogeneous, arbitrarily nestable\n",
        "*     Category: mutable mappings (not a sequence)\n",
        "*     Unordered collections of arbitrary objects"
      ]
    },
    {
      "cell_type": "markdown",
      "metadata": {
        "id": "dCBzV2l1bhD1",
        "colab_type": "text"
      },
      "source": [
        "**Common dictionary operations**\n",
        "\n",
        "Operation |\tInterpretation\n",
        "---|---\n",
        "d1 = {} |\tempty dictionary\n",
        "d2 = {'spam': 2, 'eggs': 3} |\t2 items\n",
        "d3 = {'food': {'ham': 1, 'egg': 2}} |\tnesting\n",
        "d2['eggs'], d3['food']['ham'] |\tindexing by key\n",
        "d2.has_key('eggs'), d2.keys() |\tmethods\n",
        "d2.get('eggs', default) |\tdefault values\n",
        "len(d1) |\tlength (entries)\n",
        "d2[key] = new, del d2[key] |\tadding/changing"
      ]
    },
    {
      "cell_type": "markdown",
      "metadata": {
        "id": "clJiAvKeLWjL",
        "colab_type": "text"
      },
      "source": [
        "**Dictionaries in action**"
      ]
    },
    {
      "cell_type": "code",
      "metadata": {
        "id": "Lf3Qg6xlOH0r",
        "colab_type": "code",
        "colab": {
          "base_uri": "https://localhost:8080/",
          "height": 34
        },
        "outputId": "d8f0887c-52d7-4831-be51-fa875d09ba68"
      },
      "source": [
        "d2 = {'spam': 2, 'ham': 1, 'eggs': 3}\n",
        "d2['spam']"
      ],
      "execution_count": 56,
      "outputs": [
        {
          "output_type": "execute_result",
          "data": {
            "text/plain": [
              "2"
            ]
          },
          "metadata": {
            "tags": []
          },
          "execution_count": 56
        }
      ]
    },
    {
      "cell_type": "code",
      "metadata": {
        "id": "1uZVaY2mOKc7",
        "colab_type": "code",
        "colab": {
          "base_uri": "https://localhost:8080/",
          "height": 34
        },
        "outputId": "b2a213a2-a447-464c-b360-8f70ea044304"
      },
      "source": [
        "len(d2) # number entries"
      ],
      "execution_count": 57,
      "outputs": [
        {
          "output_type": "execute_result",
          "data": {
            "text/plain": [
              "3"
            ]
          },
          "metadata": {
            "tags": []
          },
          "execution_count": 57
        }
      ]
    },
    {
      "cell_type": "code",
      "metadata": {
        "id": "6JHim1pVbhD1",
        "colab_type": "code",
        "colab": {
          "base_uri": "https://localhost:8080/",
          "height": 34
        },
        "outputId": "e3f1b735-6620-4b92-b7d0-2ca4296785c0"
      },
      "source": [
        "d2.keys() # list of keys"
      ],
      "execution_count": 58,
      "outputs": [
        {
          "output_type": "execute_result",
          "data": {
            "text/plain": [
              "dict_keys(['spam', 'ham', 'eggs'])"
            ]
          },
          "metadata": {
            "tags": []
          },
          "execution_count": 58
        }
      ]
    },
    {
      "cell_type": "markdown",
      "metadata": {
        "id": "Gi6fCJTobhD3",
        "colab_type": "text"
      },
      "source": [
        "**Changing dictionaries**"
      ]
    },
    {
      "cell_type": "code",
      "metadata": {
        "id": "Qpq7Hv4xOP1T",
        "colab_type": "code",
        "colab": {
          "base_uri": "https://localhost:8080/",
          "height": 34
        },
        "outputId": "b4f575dc-02bc-47fe-ba9a-789dc4b1121a"
      },
      "source": [
        "d2['ham'] = ['grill', 'bake', 'fry']\n",
        "d2"
      ],
      "execution_count": 59,
      "outputs": [
        {
          "output_type": "execute_result",
          "data": {
            "text/plain": [
              "{'eggs': 3, 'ham': ['grill', 'bake', 'fry'], 'spam': 2}"
            ]
          },
          "metadata": {
            "tags": []
          },
          "execution_count": 59
        }
      ]
    },
    {
      "cell_type": "code",
      "metadata": {
        "id": "XRQpia_hbhD3",
        "colab_type": "code",
        "colab": {
          "base_uri": "https://localhost:8080/",
          "height": 34
        },
        "outputId": "cf9f6b33-9912-4f2d-e7a2-e304b5382a40"
      },
      "source": [
        "del d2['eggs']\n",
        "d2"
      ],
      "execution_count": 60,
      "outputs": [
        {
          "output_type": "execute_result",
          "data": {
            "text/plain": [
              "{'ham': ['grill', 'bake', 'fry'], 'spam': 2}"
            ]
          },
          "metadata": {
            "tags": []
          },
          "execution_count": 60
        }
      ]
    },
    {
      "cell_type": "markdown",
      "metadata": {
        "id": "sGEOAFDNbhD5",
        "colab_type": "text"
      },
      "source": [
        "**Making dictionaries**"
      ]
    },
    {
      "cell_type": "code",
      "metadata": {
        "id": "gxdyphQTbhD5",
        "colab_type": "code",
        "colab": {
          "base_uri": "https://localhost:8080/",
          "height": 34
        },
        "outputId": "2b888b8f-bd0c-4843-8542-b5a5e50afecd"
      },
      "source": [
        "# literals\n",
        "D = {'name': 'Bob', 'age': 42, 'job': 'dev'}\n",
        "D"
      ],
      "execution_count": 61,
      "outputs": [
        {
          "output_type": "execute_result",
          "data": {
            "text/plain": [
              "{'age': 42, 'job': 'dev', 'name': 'Bob'}"
            ]
          },
          "metadata": {
            "tags": []
          },
          "execution_count": 61
        }
      ]
    },
    {
      "cell_type": "code",
      "metadata": {
        "id": "LjunZRaCbhD6",
        "colab_type": "code",
        "colab": {
          "base_uri": "https://localhost:8080/",
          "height": 34
        },
        "outputId": "27f5b57b-92b7-4cf0-8c38-ac4bdc6375f4"
      },
      "source": [
        "# keywords\n",
        "D = dict(name='Bob', age=42, job='dev')\n",
        "D"
      ],
      "execution_count": 62,
      "outputs": [
        {
          "output_type": "execute_result",
          "data": {
            "text/plain": [
              "{'age': 42, 'job': 'dev', 'name': 'Bob'}"
            ]
          },
          "metadata": {
            "tags": []
          },
          "execution_count": 62
        }
      ]
    },
    {
      "cell_type": "code",
      "metadata": {
        "id": "OAwqiZiQbhD7",
        "colab_type": "code",
        "colab": {
          "base_uri": "https://localhost:8080/",
          "height": 34
        },
        "outputId": "55c19592-98f5-4106-f35f-5b52ac236afb"
      },
      "source": [
        "# field by field\n",
        "D = {}\n",
        "D['name'] = 'Bob'\n",
        "D['age'] = 42\n",
        "D['job'] = 'dev'\n",
        "D"
      ],
      "execution_count": 63,
      "outputs": [
        {
          "output_type": "execute_result",
          "data": {
            "text/plain": [
              "{'age': 42, 'job': 'dev', 'name': 'Bob'}"
            ]
          },
          "metadata": {
            "tags": []
          },
          "execution_count": 63
        }
      ]
    },
    {
      "cell_type": "code",
      "metadata": {
        "id": "SijLtHambhD8",
        "colab_type": "code",
        "colab": {
          "base_uri": "https://localhost:8080/",
          "height": 34
        },
        "outputId": "ceb76129-9457-4029-c666-ded49171a851"
      },
      "source": [
        "# zipped keys/values\n",
        "pairs = zip(['name', 'age', 'job'], ('Bob', 42, 'dev'))\n",
        "pairs"
      ],
      "execution_count": 64,
      "outputs": [
        {
          "output_type": "execute_result",
          "data": {
            "text/plain": [
              "<zip at 0x7fb2d7cc9b08>"
            ]
          },
          "metadata": {
            "tags": []
          },
          "execution_count": 64
        }
      ]
    },
    {
      "cell_type": "code",
      "metadata": {
        "id": "cxsEhBPiOgRz",
        "colab_type": "code",
        "colab": {
          "base_uri": "https://localhost:8080/",
          "height": 34
        },
        "outputId": "0090773f-b0a8-449d-e838-373ead99c912"
      },
      "source": [
        "D = dict(pairs)\n",
        "D"
      ],
      "execution_count": 65,
      "outputs": [
        {
          "output_type": "execute_result",
          "data": {
            "text/plain": [
              "{'age': 42, 'job': 'dev', 'name': 'Bob'}"
            ]
          },
          "metadata": {
            "tags": []
          },
          "execution_count": 65
        }
      ]
    },
    {
      "cell_type": "code",
      "metadata": {
        "id": "fJlwrsSEbhD-",
        "colab_type": "code",
        "colab": {
          "base_uri": "https://localhost:8080/",
          "height": 34
        },
        "outputId": "39162481-a248-4e60-eaf5-627f8a0a11a1"
      },
      "source": [
        "# key lists\n",
        "D = dict.fromkeys(['name', 'age', 'job'], '?')\n",
        "D"
      ],
      "execution_count": 67,
      "outputs": [
        {
          "output_type": "execute_result",
          "data": {
            "text/plain": [
              "{'age': '?', 'job': '?', 'name': '?'}"
            ]
          },
          "metadata": {
            "tags": []
          },
          "execution_count": 67
        }
      ]
    },
    {
      "cell_type": "markdown",
      "metadata": {
        "id": "FMSaNPAZbhD_",
        "colab_type": "text"
      },
      "source": [
        "**A language table**"
      ]
    },
    {
      "cell_type": "code",
      "metadata": {
        "id": "OX1p8aTVOvPi",
        "colab_type": "code",
        "colab": {
          "base_uri": "https://localhost:8080/",
          "height": 34
        },
        "outputId": "7df53810-ee9e-4d4c-9e80-c1264e92c840"
      },
      "source": [
        "table = {'Perl': 'Larry Wall', \n",
        "         'Tcl': 'John Ousterhout', \n",
        "         'Python': 'Guido van Rossum' }\n",
        "\n",
        "language = 'Python'\n",
        "creator = table[language]\n",
        "creator"
      ],
      "execution_count": 68,
      "outputs": [
        {
          "output_type": "execute_result",
          "data": {
            "text/plain": [
              "'Guido van Rossum'"
            ]
          },
          "metadata": {
            "tags": []
          },
          "execution_count": 68
        }
      ]
    },
    {
      "cell_type": "code",
      "metadata": {
        "id": "cVUL9BQ0bhEA",
        "colab_type": "code",
        "colab": {
          "base_uri": "https://localhost:8080/",
          "height": 68
        },
        "outputId": "aa7ce38b-6a86-4672-9306-49c8807198ce"
      },
      "source": [
        "for lang in table.keys(): print(lang)"
      ],
      "execution_count": 69,
      "outputs": [
        {
          "output_type": "stream",
          "text": [
            "Perl\n",
            "Tcl\n",
            "Python\n"
          ],
          "name": "stdout"
        }
      ]
    },
    {
      "cell_type": "markdown",
      "metadata": {
        "id": "t6OKSjwXbhEB",
        "colab_type": "text"
      },
      "source": [
        "**Dictionary usage notes**\n",
        "\n",
        "*      Sequence operations dont work!\n",
        "*      Assigning to new indexes adds entries\n",
        "*      Keys need not always be strings"
      ]
    },
    {
      "cell_type": "markdown",
      "metadata": {
        "id": "9j6boZqHO3TA",
        "colab_type": "text"
      },
      "source": [
        "**Example: simulating auto-grown lists**"
      ]
    },
    {
      "cell_type": "code",
      "metadata": {
        "id": "7iuU2sFBSQ9D",
        "colab_type": "code",
        "colab": {
          "base_uri": "https://localhost:8080/",
          "height": 214
        },
        "outputId": "1a157441-ef17-483b-d508-957343ca8b5b"
      },
      "source": [
        "L = [] # L=[0]*100 would help\n",
        "print(\"ERROR EXPECTED\")\n",
        "L[99] = 'spam'"
      ],
      "execution_count": 70,
      "outputs": [
        {
          "output_type": "stream",
          "text": [
            "ERROR EXPECTED\n"
          ],
          "name": "stdout"
        },
        {
          "output_type": "error",
          "ename": "IndexError",
          "evalue": "ignored",
          "traceback": [
            "\u001b[0;31m---------------------------------------------------------------------------\u001b[0m",
            "\u001b[0;31mIndexError\u001b[0m                                Traceback (most recent call last)",
            "\u001b[0;32m<ipython-input-70-3cb2041586c1>\u001b[0m in \u001b[0;36m<module>\u001b[0;34m()\u001b[0m\n\u001b[1;32m      1\u001b[0m \u001b[0mL\u001b[0m \u001b[0;34m=\u001b[0m \u001b[0;34m[\u001b[0m\u001b[0;34m]\u001b[0m \u001b[0;31m# L=[0]*100 would help\u001b[0m\u001b[0;34m\u001b[0m\u001b[0;34m\u001b[0m\u001b[0m\n\u001b[1;32m      2\u001b[0m \u001b[0mprint\u001b[0m\u001b[0;34m(\u001b[0m\u001b[0;34m\"ERROR EXPECTED\"\u001b[0m\u001b[0;34m)\u001b[0m\u001b[0;34m\u001b[0m\u001b[0;34m\u001b[0m\u001b[0m\n\u001b[0;32m----> 3\u001b[0;31m \u001b[0mL\u001b[0m\u001b[0;34m[\u001b[0m\u001b[0;36m99\u001b[0m\u001b[0;34m]\u001b[0m \u001b[0;34m=\u001b[0m \u001b[0;34m'spam'\u001b[0m\u001b[0;34m\u001b[0m\u001b[0;34m\u001b[0m\u001b[0m\n\u001b[0m",
            "\u001b[0;31mIndexError\u001b[0m: list assignment index out of range"
          ]
        }
      ]
    },
    {
      "cell_type": "code",
      "metadata": {
        "id": "2CRsER1ZbhEC",
        "colab_type": "code",
        "colab": {
          "base_uri": "https://localhost:8080/",
          "height": 34
        },
        "outputId": "cdf6ace0-33d1-4df5-d7ad-684040772678"
      },
      "source": [
        "D = {}\n",
        "D[99] = 'spam'\n",
        "D[99]"
      ],
      "execution_count": 71,
      "outputs": [
        {
          "output_type": "execute_result",
          "data": {
            "text/plain": [
              "'spam'"
            ]
          },
          "metadata": {
            "tags": []
          },
          "execution_count": 71
        }
      ]
    },
    {
      "cell_type": "code",
      "metadata": {
        "id": "-P2RCMbASaqi",
        "colab_type": "code",
        "colab": {
          "base_uri": "https://localhost:8080/",
          "height": 34
        },
        "outputId": "db708cc3-2eb4-4c21-fef0-0c40ad901cd4"
      },
      "source": [
        "D"
      ],
      "execution_count": 72,
      "outputs": [
        {
          "output_type": "execute_result",
          "data": {
            "text/plain": [
              "{99: 'spam'}"
            ]
          },
          "metadata": {
            "tags": []
          },
          "execution_count": 72
        }
      ]
    },
    {
      "cell_type": "markdown",
      "metadata": {
        "id": "5__xJqDPbhED",
        "colab_type": "text"
      },
      "source": [
        "**Example: dictionary-based records**"
      ]
    },
    {
      "cell_type": "code",
      "metadata": {
        "id": "X5gtiC6ebhED",
        "colab_type": "code",
        "colab": {
          "base_uri": "https://localhost:8080/",
          "height": 34
        },
        "outputId": "74028714-64f5-4824-925f-9e2748814f03"
      },
      "source": [
        "rec = {}\n",
        "rec['name'] = 'mel'\n",
        "rec['age'] = 40\n",
        "rec['job'] = 'trainer/writer'\n",
        "print(rec['name'])"
      ],
      "execution_count": 73,
      "outputs": [
        {
          "output_type": "stream",
          "text": [
            "mel\n"
          ],
          "name": "stdout"
        }
      ]
    },
    {
      "cell_type": "code",
      "metadata": {
        "id": "ZOFqzHvOS9-p",
        "colab_type": "code",
        "colab": {}
      },
      "source": [
        "mel = {'name': 'Mark', \n",
        "       'jobs': ['trainer', 'writer'], \n",
        "       'web': 'www.rmi.net/~lutz', \n",
        "       'home': {'state': 'CO', 'zip':80503}}"
      ],
      "execution_count": 0,
      "outputs": []
    },
    {
      "cell_type": "code",
      "metadata": {
        "id": "wfDX7C8ATCuS",
        "colab_type": "code",
        "colab": {
          "base_uri": "https://localhost:8080/",
          "height": 34
        },
        "outputId": "047afd1b-2129-4150-99ed-d1ccae7a5d68"
      },
      "source": [
        "mel['jobs']"
      ],
      "execution_count": 75,
      "outputs": [
        {
          "output_type": "execute_result",
          "data": {
            "text/plain": [
              "['trainer', 'writer']"
            ]
          },
          "metadata": {
            "tags": []
          },
          "execution_count": 75
        }
      ]
    },
    {
      "cell_type": "code",
      "metadata": {
        "id": "D7cQLJ9STFlR",
        "colab_type": "code",
        "colab": {
          "base_uri": "https://localhost:8080/",
          "height": 34
        },
        "outputId": "f99d2e4d-aa63-4c0c-ddbb-63c40ca97aef"
      },
      "source": [
        "mel['jobs'][1]"
      ],
      "execution_count": 76,
      "outputs": [
        {
          "output_type": "execute_result",
          "data": {
            "text/plain": [
              "'writer'"
            ]
          },
          "metadata": {
            "tags": []
          },
          "execution_count": 76
        }
      ]
    },
    {
      "cell_type": "code",
      "metadata": {
        "id": "POzVG8I_bhEF",
        "colab_type": "code",
        "colab": {
          "base_uri": "https://localhost:8080/",
          "height": 34
        },
        "outputId": "d5f0d550-7e98-4709-9b54-98ec009b8a28"
      },
      "source": [
        "mel['home']['zip']"
      ],
      "execution_count": 77,
      "outputs": [
        {
          "output_type": "execute_result",
          "data": {
            "text/plain": [
              "80503"
            ]
          },
          "metadata": {
            "tags": []
          },
          "execution_count": 77
        }
      ]
    },
    {
      "cell_type": "markdown",
      "metadata": {
        "id": "KPC8Tp8abhEG",
        "colab_type": "text"
      },
      "source": [
        "**Example: more object nesting**"
      ]
    },
    {
      "cell_type": "code",
      "metadata": {
        "id": "FFHDNvLPUvyd",
        "colab_type": "code",
        "colab": {
          "base_uri": "https://localhost:8080/",
          "height": 34
        },
        "outputId": "a4927cb5-402b-40a6-9767-4f56b9f5d498"
      },
      "source": [
        "rec = {'name': {'first': 'Bob', 'last': 'Smith'},\n",
        "       'job': ['dev', 'mgr'],\n",
        "       'age': 40.5}\n",
        "rec['name']"
      ],
      "execution_count": 78,
      "outputs": [
        {
          "output_type": "execute_result",
          "data": {
            "text/plain": [
              "{'first': 'Bob', 'last': 'Smith'}"
            ]
          },
          "metadata": {
            "tags": []
          },
          "execution_count": 78
        }
      ]
    },
    {
      "cell_type": "code",
      "metadata": {
        "id": "cptX0N9RU0oD",
        "colab_type": "code",
        "colab": {
          "base_uri": "https://localhost:8080/",
          "height": 34
        },
        "outputId": "e19f7d74-b729-4688-acc9-ddef2fc5b654"
      },
      "source": [
        "rec['name']['last']"
      ],
      "execution_count": 79,
      "outputs": [
        {
          "output_type": "execute_result",
          "data": {
            "text/plain": [
              "'Smith'"
            ]
          },
          "metadata": {
            "tags": []
          },
          "execution_count": 79
        }
      ]
    },
    {
      "cell_type": "code",
      "metadata": {
        "id": "qjR31nT8U2tB",
        "colab_type": "code",
        "colab": {
          "base_uri": "https://localhost:8080/",
          "height": 34
        },
        "outputId": "82051c39-ae63-470b-c3a7-a8edcef8aad9"
      },
      "source": [
        "rec['job'][-1]"
      ],
      "execution_count": 80,
      "outputs": [
        {
          "output_type": "execute_result",
          "data": {
            "text/plain": [
              "'mgr'"
            ]
          },
          "metadata": {
            "tags": []
          },
          "execution_count": 80
        }
      ]
    },
    {
      "cell_type": "code",
      "metadata": {
        "id": "GOSTeplXU5lV",
        "colab_type": "code",
        "colab": {
          "base_uri": "https://localhost:8080/",
          "height": 68
        },
        "outputId": "99ab4b04-0809-46f8-ec44-64bdb0119e0c"
      },
      "source": [
        "rec['job'].append('janitor')\n",
        "rec"
      ],
      "execution_count": 81,
      "outputs": [
        {
          "output_type": "execute_result",
          "data": {
            "text/plain": [
              "{'age': 40.5,\n",
              " 'job': ['dev', 'mgr', 'janitor'],\n",
              " 'name': {'first': 'Bob', 'last': 'Smith'}}"
            ]
          },
          "metadata": {
            "tags": []
          },
          "execution_count": 81
        }
      ]
    },
    {
      "cell_type": "code",
      "metadata": {
        "id": "ufEOSvy0bhEH",
        "colab_type": "code",
        "colab": {
          "base_uri": "https://localhost:8080/",
          "height": 68
        },
        "outputId": "4b03cf37-04aa-4182-8823-79e5377d180f"
      },
      "source": [
        "db = {}\n",
        "db['bob'] = rec # collecting records into a db\n",
        "db"
      ],
      "execution_count": 83,
      "outputs": [
        {
          "output_type": "execute_result",
          "data": {
            "text/plain": [
              "{'bob': {'age': 40.5,\n",
              "  'job': ['dev', 'mgr', 'janitor'],\n",
              "  'name': {'first': 'Bob', 'last': 'Smith'}}}"
            ]
          },
          "metadata": {
            "tags": []
          },
          "execution_count": 83
        }
      ]
    },
    {
      "cell_type": "markdown",
      "metadata": {
        "id": "hMDUtbQuU-wp",
        "colab_type": "text"
      },
      "source": [
        "Preview: Bob could be a record in a real database, using shelve or pickle persistence modules: watch for more details on the class and database units. This nested dictionary/list structure is also the genesis of JSON: see Pythons json standard library module for a trivial translation utility, and the Database unit for a simple example."
      ]
    },
    {
      "cell_type": "markdown",
      "metadata": {
        "id": "uaPxnzN0bhEI",
        "colab_type": "text"
      },
      "source": [
        "**Example: dictionary-based sparse matrix**"
      ]
    },
    {
      "cell_type": "code",
      "metadata": {
        "id": "nDpDer1DVPDP",
        "colab_type": "code",
        "colab": {
          "base_uri": "https://localhost:8080/",
          "height": 34
        },
        "outputId": "41f21625-67c3-4895-db1e-2dd0154080a7"
      },
      "source": [
        "Matrix = {}\n",
        "Matrix[(2,3,4)] = 88 # tuple key is coordinates\n",
        "Matrix[(7,8,9)] = 99\n",
        "\n",
        "X = 2; Y = 3; Z = 4 # ; separates statements\n",
        "Matrix[(X,Y,Z)]"
      ],
      "execution_count": 84,
      "outputs": [
        {
          "output_type": "execute_result",
          "data": {
            "text/plain": [
              "88"
            ]
          },
          "metadata": {
            "tags": []
          },
          "execution_count": 84
        }
      ]
    },
    {
      "cell_type": "code",
      "metadata": {
        "id": "IR5pTKyyVSeB",
        "colab_type": "code",
        "colab": {
          "base_uri": "https://localhost:8080/",
          "height": 34
        },
        "outputId": "208facc6-5b01-47d1-816f-45cd0a375ca7"
      },
      "source": [
        "Matrix"
      ],
      "execution_count": 85,
      "outputs": [
        {
          "output_type": "execute_result",
          "data": {
            "text/plain": [
              "{(2, 3, 4): 88, (7, 8, 9): 99}"
            ]
          },
          "metadata": {
            "tags": []
          },
          "execution_count": 85
        }
      ]
    },
    {
      "cell_type": "code",
      "metadata": {
        "id": "StVm5ztwbhEJ",
        "colab_type": "code",
        "colab": {
          "base_uri": "https://localhost:8080/",
          "height": 34
        },
        "outputId": "fb9c40ef-a18e-4588-9459-0c577fd6965f"
      },
      "source": [
        "Matrix.get((0, 1, 2), 'Missing')"
      ],
      "execution_count": 86,
      "outputs": [
        {
          "output_type": "execute_result",
          "data": {
            "text/plain": [
              "'Missing'"
            ]
          },
          "metadata": {
            "tags": []
          },
          "execution_count": 86
        }
      ]
    },
    {
      "cell_type": "markdown",
      "metadata": {
        "id": "y2dypUNFWJLt",
        "colab_type": "text"
      },
      "source": [
        "###Tuples"
      ]
    },
    {
      "cell_type": "markdown",
      "metadata": {
        "id": "urbglN2BbhEL",
        "colab_type": "text"
      },
      "source": [
        "*     Arrays of object references\n",
        "*     Access by offset\n",
        "*     Fixed length, heterogeneous, arbitrarily nestable\n",
        "*     Category: immutable sequences (cant be changed)\n",
        "*     Ordered collections of arbitrary objects"
      ]
    },
    {
      "cell_type": "markdown",
      "metadata": {
        "id": "YChyVDJcWO5a",
        "colab_type": "text"
      },
      "source": [
        "**Common tuple operations**\n",
        "\n",
        "Operation |\tInterpretation\n",
        "---|---\n",
        "() |\tan empty tuple\n",
        "T1 = (0,) |\ta one-item tuple\n",
        "T2 = (0, 1, 2, 3) |\ta 4-item tuple\n",
        "T2 = 0, 1, 2, 3 |\tanother 4-item tuple\n",
        "T3 = ('abc', ('def', 'ghi')) |\tnested tuples\n",
        "T1[i], t1[i:j], len(t1) |\tindex, slice, length\n",
        "T1 + t2, t2 * 3 |\tconcatenate, repeat\n",
        "for x in t2, 3 in t2 |\titeration/membership"
      ]
    },
    {
      "cell_type": "markdown",
      "metadata": {
        "id": "0B4IyvQyWSXB",
        "colab_type": "text"
      },
      "source": [
        "**Tuples in action**"
      ]
    },
    {
      "cell_type": "code",
      "metadata": {
        "id": "UJQapueFWWd4",
        "colab_type": "code",
        "colab": {
          "base_uri": "https://localhost:8080/",
          "height": 34
        },
        "outputId": "3142bc71-4c38-4bef-dc71-b272915fd1e5"
      },
      "source": [
        "T1 = (1, 'spam')\n",
        "T2 = (2, 'ni')\n",
        " \n",
        "T1 + T2"
      ],
      "execution_count": 87,
      "outputs": [
        {
          "output_type": "execute_result",
          "data": {
            "text/plain": [
              "(1, 'spam', 2, 'ni')"
            ]
          },
          "metadata": {
            "tags": []
          },
          "execution_count": 87
        }
      ]
    },
    {
      "cell_type": "code",
      "metadata": {
        "id": "-RQx1uHhbhEL",
        "colab_type": "code",
        "colab": {
          "base_uri": "https://localhost:8080/",
          "height": 34
        },
        "outputId": "bd142695-6409-4e6d-a376-58c315d8ab8c"
      },
      "source": [
        "T1 * 4"
      ],
      "execution_count": 88,
      "outputs": [
        {
          "output_type": "execute_result",
          "data": {
            "text/plain": [
              "(1, 'spam', 1, 'spam', 1, 'spam', 1, 'spam')"
            ]
          },
          "metadata": {
            "tags": []
          },
          "execution_count": 88
        }
      ]
    },
    {
      "cell_type": "code",
      "metadata": {
        "id": "gONrKzY4Wbo-",
        "colab_type": "code",
        "colab": {
          "base_uri": "https://localhost:8080/",
          "height": 34
        },
        "outputId": "59c545cf-6005-4a83-b2fd-9140d03db973"
      },
      "source": [
        "T2[1]"
      ],
      "execution_count": 89,
      "outputs": [
        {
          "output_type": "execute_result",
          "data": {
            "text/plain": [
              "'ni'"
            ]
          },
          "metadata": {
            "tags": []
          },
          "execution_count": 89
        }
      ]
    },
    {
      "cell_type": "code",
      "metadata": {
        "id": "6ctm0CifWeWN",
        "colab_type": "code",
        "colab": {
          "base_uri": "https://localhost:8080/",
          "height": 34
        },
        "outputId": "bf44d02c-7039-4c08-c48a-c6f9dbbd7db4"
      },
      "source": [
        "T2[1:]"
      ],
      "execution_count": 90,
      "outputs": [
        {
          "output_type": "execute_result",
          "data": {
            "text/plain": [
              "('ni',)"
            ]
          },
          "metadata": {
            "tags": []
          },
          "execution_count": 90
        }
      ]
    },
    {
      "cell_type": "markdown",
      "metadata": {
        "id": "xUWJ2HkiWiQA",
        "colab_type": "text"
      },
      "source": [
        "**Why lists and tuples?**\n",
        "\n",
        "*      Immutability provides integrity\n",
        "*      Some built-in operations require tuples (argument lists)\n",
        "*      Guido was a mathematician: sets versus data structures"
      ]
    },
    {
      "cell_type": "markdown",
      "metadata": {
        "id": "RdA5mEeLWlti",
        "colab_type": "text"
      },
      "source": [
        "###Files"
      ]
    },
    {
      "cell_type": "markdown",
      "metadata": {
        "id": "qoVstIIzgv4P",
        "colab_type": "text"
      },
      "source": [
        "*     A wrapper around Cs stdio file system (io module in 3.X)\n",
        "*     The builtin open function returns a file object\n",
        "*     File objects export methods for file operations\n",
        "*     Files are not sequences or mappings (methods only)\n",
        "*     Files are a built-in C extension type"
      ]
    },
    {
      "cell_type": "markdown",
      "metadata": {
        "id": "k03DS3llg8-W",
        "colab_type": "text"
      },
      "source": [
        "**Common file operations**\n",
        "\n",
        "Operation |\tInterpretation\n",
        "---|---\n",
        "O = open('/tmp/spam', 'w') |\tcreate output file\n",
        "I = open('data', 'r') |\tcreate input file\n",
        "I.read(), I.read(1) |\tread file, byte\n",
        "I.readline(), I.readlines() |\tread line, lines list\n",
        "O.write(S), O.writelines(L) |\twrite string, lines\n",
        "O.close() |\tmanual close (or on free)"
      ]
    },
    {
      "cell_type": "markdown",
      "metadata": {
        "id": "u6WvKycsbhEM",
        "colab_type": "text"
      },
      "source": [
        "**Files in action**"
      ]
    },
    {
      "cell_type": "code",
      "metadata": {
        "id": "-dKFqY69bhEO",
        "colab_type": "code",
        "colab": {
          "base_uri": "https://localhost:8080/",
          "height": 34
        },
        "outputId": "11d54a57-e35f-496d-e685-d56c1cdf3e01"
      },
      "source": [
        "newfile = open('test.txt', 'w')\n",
        "newfile.write(('spam' * 5) + '\\n')\n",
        "newfile.close()\n",
        " \n",
        "\n",
        "myfile = open('test.txt')\n",
        "text = myfile.read()\n",
        "text"
      ],
      "execution_count": 91,
      "outputs": [
        {
          "output_type": "execute_result",
          "data": {
            "text/plain": [
              "'spamspamspamspamspam\\n'"
            ]
          },
          "metadata": {
            "tags": []
          },
          "execution_count": 91
        }
      ]
    },
    {
      "cell_type": "markdown",
      "metadata": {
        "id": "Lzn__CmWhHcm",
        "colab_type": "text"
      },
      "source": [
        "**Related Python tools**\n",
        "\n",
        "*      Descriptor based files: os module\n",
        "*      DBM keyed files\n",
        "*      Persistent object shelves\n",
        "*      Pipes, fifos, sockets"
      ]
    },
    {
      "cell_type": "markdown",
      "metadata": {
        "id": "kSY8u0SRhJc8",
        "colab_type": "text"
      },
      "source": [
        "###General object properties"
      ]
    },
    {
      "cell_type": "markdown",
      "metadata": {
        "id": "kU0AydAKhO02",
        "colab_type": "text"
      },
      "source": [
        "**Type categories revisited**\n",
        "\n",
        "*      Objects share operations according to their category\n",
        "*      Only mutable objects may be changed in-place"
      ]
    },
    {
      "cell_type": "markdown",
      "metadata": {
        "id": "h1sj1bpdhRvu",
        "colab_type": "text"
      },
      "source": [
        "Object type |\tCategory |\tMutable?\n",
        "---|---|---\n",
        "Numbers |\tNumeric |\tNo\n",
        "Strings |\tSequence |\tNo\n",
        "Lists |\tSequence |\tYes\n",
        "Dictionaries |\tMapping |\tYes\n",
        "Tuples |\tSequence |\tNo\n",
        "Files |\tExtension |\tn/a"
      ]
    },
    {
      "cell_type": "markdown",
      "metadata": {
        "id": "HyEN6fvKbhEP",
        "colab_type": "text"
      },
      "source": [
        "**Generality**\n",
        "\n",
        "*     Lists, dictionaries, and tuples can hold any kind of object\n",
        "*     Lists, dictionaries, and tuples can be arbitrarily nested\n",
        "*     Lists and dictionaries can dynamically grow and shrink"
      ]
    },
    {
      "cell_type": "markdown",
      "metadata": {
        "id": "RuSE8aaBhf1O",
        "colab_type": "text"
      },
      "source": [
        "**Nesting example**"
      ]
    },
    {
      "cell_type": "code",
      "metadata": {
        "id": "9zbTEPRUhioG",
        "colab_type": "code",
        "colab": {
          "base_uri": "https://localhost:8080/",
          "height": 34
        },
        "outputId": "fdb178cb-be02-45a8-d571-6dcec943bcb8"
      },
      "source": [
        "L = ['abc', [(1, 2), ([3], 4)], 5]\n",
        "L[1][1]"
      ],
      "execution_count": 92,
      "outputs": [
        {
          "output_type": "execute_result",
          "data": {
            "text/plain": [
              "([3], 4)"
            ]
          },
          "metadata": {
            "tags": []
          },
          "execution_count": 92
        }
      ]
    },
    {
      "cell_type": "code",
      "metadata": {
        "id": "VSScAcTZhk6P",
        "colab_type": "code",
        "colab": {
          "base_uri": "https://localhost:8080/",
          "height": 34
        },
        "outputId": "8894dad4-9560-4867-bf1e-43d72f3f409e"
      },
      "source": [
        "L[1][1][0]"
      ],
      "execution_count": 93,
      "outputs": [
        {
          "output_type": "execute_result",
          "data": {
            "text/plain": [
              "[3]"
            ]
          },
          "metadata": {
            "tags": []
          },
          "execution_count": 93
        }
      ]
    },
    {
      "cell_type": "code",
      "metadata": {
        "id": "fLDJGcIxbhEQ",
        "colab_type": "code",
        "colab": {
          "base_uri": "https://localhost:8080/",
          "height": 34
        },
        "outputId": "002e7cf6-bf15-4237-d098-c873e526438d"
      },
      "source": [
        "L[1][1][0][0]"
      ],
      "execution_count": 94,
      "outputs": [
        {
          "output_type": "execute_result",
          "data": {
            "text/plain": [
              "3"
            ]
          },
          "metadata": {
            "tags": []
          },
          "execution_count": 94
        }
      ]
    },
    {
      "cell_type": "markdown",
      "metadata": {
        "id": "xVYQI7yQbhEU",
        "colab_type": "text"
      },
      "source": [
        "**Shared references**\n",
        "\n",
        "*     Assignments always create references to objects\n",
        "*     Can generate shared references to the same object\n",
        "*     Changing a mutable object impacts all references\n",
        "*     To avoid effect: make copies with X[:], list(X), etc.\n",
        "*     Tip: distinguish between names and objects!\n",
        "       -   Names have no \"type\", but objects do"
      ]
    },
    {
      "cell_type": "code",
      "metadata": {
        "id": "0ESQgRcIhvOe",
        "colab_type": "code",
        "colab": {
          "base_uri": "https://localhost:8080/",
          "height": 34
        },
        "outputId": "942f35bf-4250-4450-bd2e-1a7397396be2"
      },
      "source": [
        "X = [1, 2, 3]\n",
        "L = ['a', X, 'b']\n",
        "D = {'x':X, 'y':2}\n",
        "\n",
        "X[1] = 'surprise' # changes all 3 references!\n",
        "L"
      ],
      "execution_count": 95,
      "outputs": [
        {
          "output_type": "execute_result",
          "data": {
            "text/plain": [
              "['a', [1, 'surprise', 3], 'b']"
            ]
          },
          "metadata": {
            "tags": []
          },
          "execution_count": 95
        }
      ]
    },
    {
      "cell_type": "code",
      "metadata": {
        "id": "0fQFw1WXbhEU",
        "colab_type": "code",
        "colab": {
          "base_uri": "https://localhost:8080/",
          "height": 34
        },
        "outputId": "97d6f5c5-cb56-48cb-846a-2875724739d3"
      },
      "source": [
        "D"
      ],
      "execution_count": 96,
      "outputs": [
        {
          "output_type": "execute_result",
          "data": {
            "text/plain": [
              "{'x': [1, 'surprise', 3], 'y': 2}"
            ]
          },
          "metadata": {
            "tags": []
          },
          "execution_count": 96
        }
      ]
    },
    {
      "cell_type": "markdown",
      "metadata": {
        "id": "fcWIZB15bhEV",
        "colab_type": "text"
      },
      "source": [
        "**Equality and truth**\n",
        "\n",
        "*     Applied recursively for nested data structures\n",
        "*     is tests identity (object address)\n",
        "*     True: non-zero number or non-empty data structure\n",
        "*     None is a special empty/false object"
      ]
    },
    {
      "cell_type": "code",
      "metadata": {
        "id": "v97LM7kfbhEW",
        "colab_type": "code",
        "colab": {
          "base_uri": "https://localhost:8080/",
          "height": 34
        },
        "outputId": "000c3fa0-8686-40cb-ad49-6d4732a84914"
      },
      "source": [
        "L1 = [1, ('a', 3)] # same value, unique objects\n",
        "L3 = [1, ('a', 3)]\n",
        "L1 == L3, L1 is L3 # equivalent?, same object?"
      ],
      "execution_count": 97,
      "outputs": [
        {
          "output_type": "execute_result",
          "data": {
            "text/plain": [
              "(True, False)"
            ]
          },
          "metadata": {
            "tags": []
          },
          "execution_count": 97
        }
      ]
    },
    {
      "cell_type": "markdown",
      "metadata": {
        "id": "xiJy4OD-bhEX",
        "colab_type": "text"
      },
      "source": [
        "**Other comparisons**\n",
        "\n",
        "*     Applied recursively for nested data structures\n",
        "*     Strings compared lexicographically\n",
        "*     Lists and tuples compared depth-first, left-to-right\n",
        "*     Dictionaries compared by sorted (key, value) lists\n",
        "*     Disctionaries dont compare in 3.X, but their .items() do"
      ]
    },
    {
      "cell_type": "code",
      "metadata": {
        "id": "35ofik7wbhEY",
        "colab_type": "code",
        "colab": {
          "base_uri": "https://localhost:8080/",
          "height": 34
        },
        "outputId": "afa0e0b0-0573-4dae-b921-10ee29dd56f3"
      },
      "source": [
        "L1 = [1, ('a', 3)]\n",
        "L2 = [1, ('a', 2)]\n",
        "L1 < L2, L1 == L2, L1 > L2"
      ],
      "execution_count": 98,
      "outputs": [
        {
          "output_type": "execute_result",
          "data": {
            "text/plain": [
              "(False, False, True)"
            ]
          },
          "metadata": {
            "tags": []
          },
          "execution_count": 98
        }
      ]
    },
    {
      "cell_type": "markdown",
      "metadata": {
        "id": "WS_Trna8iaWm",
        "colab_type": "text"
      },
      "source": [
        "###Summary: Pythons type hierarchies"
      ]
    },
    {
      "cell_type": "markdown",
      "metadata": {
        "id": "3dbIulWPbhEa",
        "colab_type": "text"
      },
      "source": [
        "*     Everything is an object type in Python: first class\n",
        "*     Types are objects too: type(X) returns type object of X\n",
        "*     Preview: C extension modules and types use same mechanisms as Python types"
      ]
    },
    {
      "cell_type": "markdown",
      "metadata": {
        "id": "o81B0-6Iigku",
        "colab_type": "text"
      },
      "source": [
        "**How to break your codes flexibility**"
      ]
    },
    {
      "cell_type": "code",
      "metadata": {
        "id": "KAjooQtWik7d",
        "colab_type": "code",
        "colab": {
          "base_uri": "https://localhost:8080/",
          "height": 34
        },
        "outputId": "1d3badb0-c3f6-4610-a48d-ad9e9ecdde13"
      },
      "source": [
        "L = [1, 2, 3]\n",
        "if type(L) == type([]):\n",
        "  print('yes')"
      ],
      "execution_count": 99,
      "outputs": [
        {
          "output_type": "stream",
          "text": [
            "yes\n"
          ],
          "name": "stdout"
        }
      ]
    },
    {
      "cell_type": "code",
      "metadata": {
        "id": "MbwMpktYiqMo",
        "colab_type": "code",
        "colab": {
          "base_uri": "https://localhost:8080/",
          "height": 34
        },
        "outputId": "4520674d-c604-4938-ccb3-bb9188c3aae8"
      },
      "source": [
        "if type(L) == list:\n",
        "  print('yes')"
      ],
      "execution_count": 100,
      "outputs": [
        {
          "output_type": "stream",
          "text": [
            "yes\n"
          ],
          "name": "stdout"
        }
      ]
    },
    {
      "cell_type": "code",
      "metadata": {
        "id": "AcguQFffbhEa",
        "colab_type": "code",
        "colab": {
          "base_uri": "https://localhost:8080/",
          "height": 34
        },
        "outputId": "35b24bf1-9143-40aa-f785-5860545da372"
      },
      "source": [
        "if isinstance(L, list):\n",
        "  print('yes')"
      ],
      "execution_count": 101,
      "outputs": [
        {
          "output_type": "stream",
          "text": [
            "yes\n"
          ],
          "name": "stdout"
        }
      ]
    },
    {
      "cell_type": "markdown",
      "metadata": {
        "id": "1yIn3mvbbhEb",
        "colab_type": "text"
      },
      "source": [
        "**Newer types**\n",
        "\n",
        "*      Decimal, fraction (modules): see above\n",
        "*      Boolean (bool, True, False): see next section\n",
        "*      Sets: 2.4 (module in 2.3), 3.X/2.7 literal/comprehension\n",
        "*      Other extension types: namedtuple, collection (std lib)"
      ]
    },
    {
      "cell_type": "code",
      "metadata": {
        "id": "4K1YbAH2jM4V",
        "colab_type": "code",
        "colab": {
          "base_uri": "https://localhost:8080/",
          "height": 34
        },
        "outputId": "0468b9c9-f349-4044-b9e9-a4fa2ef45d91"
      },
      "source": [
        "True + 2 # bool: True/False like 1/0 (next section)"
      ],
      "execution_count": 102,
      "outputs": [
        {
          "output_type": "execute_result",
          "data": {
            "text/plain": [
              "3"
            ]
          },
          "metadata": {
            "tags": []
          },
          "execution_count": 102
        }
      ]
    },
    {
      "cell_type": "markdown",
      "metadata": {
        "id": "5oqnqKscjnl-",
        "colab_type": "text"
      },
      "source": [
        "**Sets**"
      ]
    },
    {
      "cell_type": "code",
      "metadata": {
        "id": "IZ9JF0R_jqIG",
        "colab_type": "code",
        "colab": {
          "base_uri": "https://localhost:8080/",
          "height": 34
        },
        "outputId": "339afcfc-afd2-43af-fabd-74b8f63a1fec"
      },
      "source": [
        "x = set('abcde') # set constructor\n",
        "y = set('bdxyz')\n",
        "x"
      ],
      "execution_count": 103,
      "outputs": [
        {
          "output_type": "execute_result",
          "data": {
            "text/plain": [
              "{'a', 'b', 'c', 'd', 'e'}"
            ]
          },
          "metadata": {
            "tags": []
          },
          "execution_count": 103
        }
      ]
    },
    {
      "cell_type": "code",
      "metadata": {
        "id": "0ppsXNLSjt8e",
        "colab_type": "code",
        "colab": {
          "base_uri": "https://localhost:8080/",
          "height": 34
        },
        "outputId": "27d6a12f-221a-45fb-dce4-b4a8c18456e9"
      },
      "source": [
        "'e' in x # membership"
      ],
      "execution_count": 104,
      "outputs": [
        {
          "output_type": "execute_result",
          "data": {
            "text/plain": [
              "True"
            ]
          },
          "metadata": {
            "tags": []
          },
          "execution_count": 104
        }
      ]
    },
    {
      "cell_type": "code",
      "metadata": {
        "id": "kGP_hUiQjxGG",
        "colab_type": "code",
        "colab": {
          "base_uri": "https://localhost:8080/",
          "height": 34
        },
        "outputId": "bc19eed4-6147-430b-bc0a-5eca431adcb9"
      },
      "source": [
        "x - y # difference"
      ],
      "execution_count": 106,
      "outputs": [
        {
          "output_type": "execute_result",
          "data": {
            "text/plain": [
              "{'a', 'c', 'e'}"
            ]
          },
          "metadata": {
            "tags": []
          },
          "execution_count": 106
        }
      ]
    },
    {
      "cell_type": "code",
      "metadata": {
        "id": "ZccWNJK4j0rV",
        "colab_type": "code",
        "colab": {
          "base_uri": "https://localhost:8080/",
          "height": 34
        },
        "outputId": "a31376bc-bafb-4e80-cdec-5107eeb1f24e"
      },
      "source": [
        "x | y # union"
      ],
      "execution_count": 107,
      "outputs": [
        {
          "output_type": "execute_result",
          "data": {
            "text/plain": [
              "{'a', 'b', 'c', 'd', 'e', 'x', 'y', 'z'}"
            ]
          },
          "metadata": {
            "tags": []
          },
          "execution_count": 107
        }
      ]
    },
    {
      "cell_type": "code",
      "metadata": {
        "id": "_OGIj8z0j3GV",
        "colab_type": "code",
        "colab": {
          "base_uri": "https://localhost:8080/",
          "height": 34
        },
        "outputId": "ce560fa7-5776-4139-e91f-64168ef266e1"
      },
      "source": [
        "x & y # intersection"
      ],
      "execution_count": 108,
      "outputs": [
        {
          "output_type": "execute_result",
          "data": {
            "text/plain": [
              "{'b', 'd'}"
            ]
          },
          "metadata": {
            "tags": []
          },
          "execution_count": 108
        }
      ]
    },
    {
      "cell_type": "code",
      "metadata": {
        "id": "KiKvnG8Mj_Uu",
        "colab_type": "code",
        "colab": {
          "base_uri": "https://localhost:8080/",
          "height": 34
        },
        "outputId": "553ae840-3a2d-4ee9-b84f-3fd8d64f354e"
      },
      "source": [
        "x = {'a', 'b', 'c', 'd'} # 3.X set literal\n",
        "x"
      ],
      "execution_count": 110,
      "outputs": [
        {
          "output_type": "execute_result",
          "data": {
            "text/plain": [
              "{'a', 'b', 'c', 'd'}"
            ]
          },
          "metadata": {
            "tags": []
          },
          "execution_count": 110
        }
      ]
    },
    {
      "cell_type": "code",
      "metadata": {
        "id": "hFDIeWUEkCqF",
        "colab_type": "code",
        "colab": {
          "base_uri": "https://localhost:8080/",
          "height": 34
        },
        "outputId": "e0147f52-03f0-4312-a85d-493662fbf093"
      },
      "source": [
        "{'b', 'd'} < x # subset test"
      ],
      "execution_count": 111,
      "outputs": [
        {
          "output_type": "execute_result",
          "data": {
            "text/plain": [
              "True"
            ]
          },
          "metadata": {
            "tags": []
          },
          "execution_count": 111
        }
      ]
    },
    {
      "cell_type": "code",
      "metadata": {
        "id": "o7somRZrkFPd",
        "colab_type": "code",
        "colab": {
          "base_uri": "https://localhost:8080/",
          "height": 34
        },
        "outputId": "d1f7b410-f837-4956-e393-ba41740a9bf7"
      },
      "source": [
        "{ord(c) for c in 'spam'} # 3.X set comprehension (ahead)"
      ],
      "execution_count": 112,
      "outputs": [
        {
          "output_type": "execute_result",
          "data": {
            "text/plain": [
              "{97, 109, 112, 115}"
            ]
          },
          "metadata": {
            "tags": []
          },
          "execution_count": 112
        }
      ]
    },
    {
      "cell_type": "code",
      "metadata": {
        "id": "-UwpJY3_bhEc",
        "colab_type": "code",
        "colab": {
          "base_uri": "https://localhost:8080/",
          "height": 34
        },
        "outputId": "88e566a4-cb56-4fbc-e967-a40db5a41ae3"
      },
      "source": [
        "{c: ord(c) for c in 'spam'} # 3.X dict comprehension (ahead)"
      ],
      "execution_count": 113,
      "outputs": [
        {
          "output_type": "execute_result",
          "data": {
            "text/plain": [
              "{'a': 97, 'm': 109, 'p': 112, 's': 115}"
            ]
          },
          "metadata": {
            "tags": []
          },
          "execution_count": 113
        }
      ]
    },
    {
      "cell_type": "markdown",
      "metadata": {
        "id": "gC-mRqQdi0V9",
        "colab_type": "text"
      },
      "source": [
        "###Built-in type gotchas"
      ]
    },
    {
      "cell_type": "markdown",
      "metadata": {
        "id": "dn_ixgZubhEe",
        "colab_type": "text"
      },
      "source": [
        "*    Assignment creates references, not copies"
      ]
    },
    {
      "cell_type": "code",
      "metadata": {
        "id": "PYgCijzTktWt",
        "colab_type": "code",
        "colab": {
          "base_uri": "https://localhost:8080/",
          "height": 34
        },
        "outputId": "f0b2f8fd-d2ff-4cb2-f089-e6a5b579be47"
      },
      "source": [
        "L = [1, 2, 3]\n",
        "M = ['X', L, 'Y']\n",
        "M"
      ],
      "execution_count": 114,
      "outputs": [
        {
          "output_type": "execute_result",
          "data": {
            "text/plain": [
              "['X', [1, 2, 3], 'Y']"
            ]
          },
          "metadata": {
            "tags": []
          },
          "execution_count": 114
        }
      ]
    },
    {
      "cell_type": "code",
      "metadata": {
        "id": "8DqoS90DbhEf",
        "colab_type": "code",
        "colab": {
          "base_uri": "https://localhost:8080/",
          "height": 34
        },
        "outputId": "68dfbaf6-3f88-49c7-ddc2-dac2dd259d1c"
      },
      "source": [
        "L[1] = 0\n",
        "M"
      ],
      "execution_count": 115,
      "outputs": [
        {
          "output_type": "execute_result",
          "data": {
            "text/plain": [
              "['X', [1, 0, 3], 'Y']"
            ]
          },
          "metadata": {
            "tags": []
          },
          "execution_count": 115
        }
      ]
    },
    {
      "cell_type": "markdown",
      "metadata": {
        "id": "EG_zeoONbhEh",
        "colab_type": "text"
      },
      "source": [
        "*    Repetition adds 1-level deep"
      ]
    },
    {
      "cell_type": "code",
      "metadata": {
        "id": "Q1W0-mlRk0rd",
        "colab_type": "code",
        "colab": {
          "base_uri": "https://localhost:8080/",
          "height": 51
        },
        "outputId": "201ab0d2-35c2-40ab-cc08-8d5119e64518"
      },
      "source": [
        "L = [4, 5, 6]\n",
        "X = L * 4 # like [4, 5, 6] + [4, 5, 6] + ...\n",
        "Y = [L] * 4 # [L] + [L] + ... = [L, L,...]\n",
        "X, Y"
      ],
      "execution_count": 116,
      "outputs": [
        {
          "output_type": "execute_result",
          "data": {
            "text/plain": [
              "([4, 5, 6, 4, 5, 6, 4, 5, 6, 4, 5, 6],\n",
              " [[4, 5, 6], [4, 5, 6], [4, 5, 6], [4, 5, 6]])"
            ]
          },
          "metadata": {
            "tags": []
          },
          "execution_count": 116
        }
      ]
    },
    {
      "cell_type": "code",
      "metadata": {
        "id": "9NWYPKTNbhEi",
        "colab_type": "code",
        "colab": {
          "base_uri": "https://localhost:8080/",
          "height": 51
        },
        "outputId": "0fd9a301-44e8-4d4c-bbea-dc2a21c152c7"
      },
      "source": [
        "L[1] = 0\n",
        "X, Y"
      ],
      "execution_count": 117,
      "outputs": [
        {
          "output_type": "execute_result",
          "data": {
            "text/plain": [
              "([4, 5, 6, 4, 5, 6, 4, 5, 6, 4, 5, 6],\n",
              " [[4, 0, 6], [4, 0, 6], [4, 0, 6], [4, 0, 6]])"
            ]
          },
          "metadata": {
            "tags": []
          },
          "execution_count": 117
        }
      ]
    },
    {
      "cell_type": "markdown",
      "metadata": {
        "id": "y1v5dSdMbhEj",
        "colab_type": "text"
      },
      "source": [
        "*    Cyclic structures print oddly (loop in 1.5)"
      ]
    },
    {
      "cell_type": "code",
      "metadata": {
        "id": "uFbhRTxJbhEj",
        "colab_type": "code",
        "colab": {
          "base_uri": "https://localhost:8080/",
          "height": 34
        },
        "outputId": "fb0e93bf-1bec-451a-ec10-883d47e208cc"
      },
      "source": [
        "L = ['hi.']; L.append(L) # append reference to self\n",
        "L # dots=cycle today (no loop)"
      ],
      "execution_count": 118,
      "outputs": [
        {
          "output_type": "execute_result",
          "data": {
            "text/plain": [
              "['hi.', [...]]"
            ]
          },
          "metadata": {
            "tags": []
          },
          "execution_count": 118
        }
      ]
    },
    {
      "cell_type": "markdown",
      "metadata": {
        "id": "flaK7VwIbhEk",
        "colab_type": "text"
      },
      "source": [
        "*    Immutable types cant be changed in-place"
      ]
    },
    {
      "cell_type": "code",
      "metadata": {
        "id": "J7-wfR4YlI6X",
        "colab_type": "code",
        "colab": {
          "base_uri": "https://localhost:8080/",
          "height": 214
        },
        "outputId": "ee671c53-a8f2-4120-9b8a-2a19fc148439"
      },
      "source": [
        "T = (1, 2, 3)\n",
        "print(\"ERROR EXPECTED\")\n",
        "T[2] = 4 # error!"
      ],
      "execution_count": 120,
      "outputs": [
        {
          "output_type": "stream",
          "text": [
            "ERROR EXPECTED\n"
          ],
          "name": "stdout"
        },
        {
          "output_type": "error",
          "ename": "TypeError",
          "evalue": "ignored",
          "traceback": [
            "\u001b[0;31m---------------------------------------------------------------------------\u001b[0m",
            "\u001b[0;31mTypeError\u001b[0m                                 Traceback (most recent call last)",
            "\u001b[0;32m<ipython-input-120-1c0433a04f32>\u001b[0m in \u001b[0;36m<module>\u001b[0;34m()\u001b[0m\n\u001b[1;32m      1\u001b[0m \u001b[0mT\u001b[0m \u001b[0;34m=\u001b[0m \u001b[0;34m(\u001b[0m\u001b[0;36m1\u001b[0m\u001b[0;34m,\u001b[0m \u001b[0;36m2\u001b[0m\u001b[0;34m,\u001b[0m \u001b[0;36m3\u001b[0m\u001b[0;34m)\u001b[0m\u001b[0;34m\u001b[0m\u001b[0;34m\u001b[0m\u001b[0m\n\u001b[1;32m      2\u001b[0m \u001b[0mprint\u001b[0m\u001b[0;34m(\u001b[0m\u001b[0;34m\"ERROR EXPECTED\"\u001b[0m\u001b[0;34m)\u001b[0m\u001b[0;34m\u001b[0m\u001b[0;34m\u001b[0m\u001b[0m\n\u001b[0;32m----> 3\u001b[0;31m \u001b[0mT\u001b[0m\u001b[0;34m[\u001b[0m\u001b[0;36m2\u001b[0m\u001b[0;34m]\u001b[0m \u001b[0;34m=\u001b[0m \u001b[0;36m4\u001b[0m \u001b[0;31m# error!\u001b[0m\u001b[0;34m\u001b[0m\u001b[0;34m\u001b[0m\u001b[0m\n\u001b[0m",
            "\u001b[0;31mTypeError\u001b[0m: 'tuple' object does not support item assignment"
          ]
        }
      ]
    },
    {
      "cell_type": "code",
      "metadata": {
        "id": "lquouZFolOgp",
        "colab_type": "code",
        "colab": {
          "base_uri": "https://localhost:8080/",
          "height": 34
        },
        "outputId": "a9a2219a-6a74-4653-e787-33b14cc25e38"
      },
      "source": [
        "T = T[:2] + (4,) # okay: (1, 2, 4)\n",
        "T"
      ],
      "execution_count": 122,
      "outputs": [
        {
          "output_type": "execute_result",
          "data": {
            "text/plain": [
              "(1, 2, 4)"
            ]
          },
          "metadata": {
            "tags": []
          },
          "execution_count": 122
        }
      ]
    }
  ]
}