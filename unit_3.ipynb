{
  "nbformat": 4,
  "nbformat_minor": 0,
  "metadata": {
    "colab": {
      "name": "unit_3.ipynb",
      "version": "0.3.2",
      "provenance": []
    },
    "kernelspec": {
      "name": "python3",
      "display_name": "Python 3"
    }
  },
  "cells": [
    {
      "cell_type": "markdown",
      "metadata": {
        "id": "Xi_XYlByb61c",
        "colab_type": "text"
      },
      "source": [
        "##Types and Operators"
      ]
    },
    {
      "cell_type": "markdown",
      "metadata": {
        "id": "OQSymqWXbzCF",
        "colab_type": "text"
      },
      "source": [
        "###Strings"
      ]
    },
    {
      "cell_type": "markdown",
      "metadata": {
        "id": "HoCcrdImgnRX",
        "colab_type": "text"
      },
      "source": [
        "*     Ordered collections of characters\n",
        "*     No char in Python, just 1-character strings\n",
        "*     Constants, operators, utility modules (string, re)\n",
        "*     Strings are immutable sequences\n",
        "*     See re module for pattern-based text processing"
      ]
    },
    {
      "cell_type": "markdown",
      "metadata": {
        "id": "hiSocFMHgzxI",
        "colab_type": "text"
      },
      "source": [
        "About Unicode support: this section covers basic, ASCII text strings. In 3.X, strings are always Unicode and support encoding to bytes, and bytes strings represent truly binary 8-bit data and support decoding to strings. In 2.X, strings are essentially the same as 3.X bytes strings (containing just 8-bit characters), and Unicode is a special type similar to 3.X strings."
      ]
    },
    {
      "cell_type": "markdown",
      "metadata": {
        "id": "EIJdYNXJbhDU",
        "colab_type": "text"
      },
      "source": [
        "**Common string operations**\n",
        "\n",
        "Operation |\t Interpretation\n",
        "---|---\n",
        "s1 = '' |\tsingle quotes (empty)\n",
        "s2 = \"spam's\" |\tdouble quotes (same)\n",
        "block = \"\"\"...\"\"\" |\ttriple-quoted blocks, can span multiple lines\n",
        "r'C:\\new\\text\\file.txt' |\traw strings (\\ kept)\n",
        "s1 + s2, s2 * 3 |\tconcatenate, repeat\n",
        "s2[i], s2[i:j], s[i:j:k], len(s2) |\tindex, slice, length\n",
        "'a %s parrot' % 'dead' 'a {} parrot'.format('dead') |\tstring formatting: original, 2.6+ option\n",
        "u'A\\xC4B', 'A\\xC4B' |\tUnicode: 2.X, 3.X\n",
        "b'\\x00spam\\x01' |\tbytes: 3.X (and 2.X)\n",
        "f'we get {spam} a lot' |\tformats: 3.6?\n",
        "for x in s2, 'm' in s2 |\titeration/membership"
      ]
    },
    {
      "cell_type": "markdown",
      "metadata": {
        "id": "RfHGLuUA4U2p",
        "colab_type": "text"
      },
      "source": [
        "**Newer extensions**\n",
        "\n",
        "*    String methods:\n",
        "X.split('+') same as older string.split(X, '+')\n",
        "string module requires import, methods do not\n",
        "methods now faster, preferred to string module\n",
        "*    Unicode strings:\n",
        "Multi-byte characters, for internationalization (I18N)\n",
        "U'xxxx' constants, Unicode modules, auto conversions\n",
        "Can mix with normal strings, or convert: str(U), unicode(S)\n",
        "Varies in 3.X: see note box above for more details\n",
        "*    Template formatting: string module, see ahead\n",
        "*    String .format() method: largely redundant with %"
      ]
    },
    {
      "cell_type": "markdown",
      "metadata": {
        "id": "VhoeOtWL4YnY",
        "colab_type": "text"
      },
      "source": [
        "**Strings in action**"
      ]
    },
    {
      "cell_type": "code",
      "metadata": {
        "id": "NEUACvc0bhDV",
        "colab_type": "code",
        "colab": {
          "base_uri": "https://localhost:8080/",
          "height": 34
        },
        "outputId": "f06d1709-38ee-4640-cb42-89143c999689"
      },
      "source": [
        "'abc' + 'def' # concatenation: a new string"
      ],
      "execution_count": 1,
      "outputs": [
        {
          "output_type": "execute_result",
          "data": {
            "text/plain": [
              "'abcdef'"
            ]
          },
          "metadata": {
            "tags": []
          },
          "execution_count": 1
        }
      ]
    },
    {
      "cell_type": "code",
      "metadata": {
        "id": "Siba8lTE4n5E",
        "colab_type": "code",
        "colab": {
          "base_uri": "https://localhost:8080/",
          "height": 34
        },
        "outputId": "dcc96cd3-edca-4a17-d437-0b83e1e0e737"
      },
      "source": [
        "'Ni!' * 4 # like \"Ni!\" + \"Ni!\" + ..."
      ],
      "execution_count": 2,
      "outputs": [
        {
          "output_type": "execute_result",
          "data": {
            "text/plain": [
              "'Ni!Ni!Ni!Ni!'"
            ]
          },
          "metadata": {
            "tags": []
          },
          "execution_count": 2
        }
      ]
    },
    {
      "cell_type": "markdown",
      "metadata": {
        "id": "iAtp7Ck1bhDX",
        "colab_type": "text"
      },
      "source": [
        "**Indexing and slicing**"
      ]
    },
    {
      "cell_type": "code",
      "metadata": {
        "id": "1XVztVCjbhDX",
        "colab_type": "code",
        "colab": {
          "base_uri": "https://localhost:8080/",
          "height": 34
        },
        "outputId": "27f616e5-a2fb-4b57-b38c-f2b8e4b0b846"
      },
      "source": [
        "S = 'spam'\n",
        "S[0], S[-2] # indexing from from or end"
      ],
      "execution_count": 3,
      "outputs": [
        {
          "output_type": "execute_result",
          "data": {
            "text/plain": [
              "('s', 'a')"
            ]
          },
          "metadata": {
            "tags": []
          },
          "execution_count": 3
        }
      ]
    },
    {
      "cell_type": "code",
      "metadata": {
        "id": "fTuOuryj4uN4",
        "colab_type": "code",
        "colab": {
          "base_uri": "https://localhost:8080/",
          "height": 34
        },
        "outputId": "ec62c561-ba87-4bd0-eadb-0d9f2021f67e"
      },
      "source": [
        "S[1:3], S[1:], S[:-1] # slicing: extract section"
      ],
      "execution_count": 4,
      "outputs": [
        {
          "output_type": "execute_result",
          "data": {
            "text/plain": [
              "('pa', 'pam', 'spa')"
            ]
          },
          "metadata": {
            "tags": []
          },
          "execution_count": 4
        }
      ]
    },
    {
      "cell_type": "markdown",
      "metadata": {
        "id": "4CzKrzUlbhDZ",
        "colab_type": "text"
      },
      "source": [
        "**Changing and formatting**"
      ]
    },
    {
      "cell_type": "code",
      "metadata": {
        "id": "Fax2MYwmbhDa",
        "colab_type": "code",
        "colab": {
          "base_uri": "https://localhost:8080/",
          "height": 34
        },
        "outputId": "aa2a136a-0f07-4107-e183-5c6e59620904"
      },
      "source": [
        "S = S + 'Spam!' # to change a string, make a new one\n",
        "S"
      ],
      "execution_count": 5,
      "outputs": [
        {
          "output_type": "execute_result",
          "data": {
            "text/plain": [
              "'spamSpam!'"
            ]
          },
          "metadata": {
            "tags": []
          },
          "execution_count": 5
        }
      ]
    },
    {
      "cell_type": "code",
      "metadata": {
        "id": "VFiXe-IJ40zA",
        "colab_type": "code",
        "colab": {
          "base_uri": "https://localhost:8080/",
          "height": 34
        },
        "outputId": "7f5667d8-2e0f-4bd9-cb6f-8845d7e7887d"
      },
      "source": [
        "'That is %d %s bird!' % (1, 'dead') # like C sprintf"
      ],
      "execution_count": 6,
      "outputs": [
        {
          "output_type": "execute_result",
          "data": {
            "text/plain": [
              "'That is 1 dead bird!'"
            ]
          },
          "metadata": {
            "tags": []
          },
          "execution_count": 6
        }
      ]
    },
    {
      "cell_type": "markdown",
      "metadata": {
        "id": "aCH8bVn4bhDc",
        "colab_type": "text"
      },
      "source": [
        "**Advanced formatting examples**"
      ]
    },
    {
      "cell_type": "code",
      "metadata": {
        "id": "qiTR4RND5EoX",
        "colab_type": "code",
        "colab": {
          "base_uri": "https://localhost:8080/",
          "height": 34
        },
        "outputId": "4b64f61d-9c0c-4886-946f-b28375247b99"
      },
      "source": [
        "x = 1234\n",
        "res = \"integers: ...%d...%-6d...%06d\" % (x, x, x)\n",
        "res"
      ],
      "execution_count": 7,
      "outputs": [
        {
          "output_type": "execute_result",
          "data": {
            "text/plain": [
              "'integers: ...1234...1234  ...001234'"
            ]
          },
          "metadata": {
            "tags": []
          },
          "execution_count": 7
        }
      ]
    },
    {
      "cell_type": "code",
      "metadata": {
        "id": "RTn61FJi5KHH",
        "colab_type": "code",
        "colab": {
          "base_uri": "https://localhost:8080/",
          "height": 34
        },
        "outputId": "6005c506-94a6-48f6-ae92-485dd1461516"
      },
      "source": [
        "x = 1.23456789\n",
        "x"
      ],
      "execution_count": 8,
      "outputs": [
        {
          "output_type": "execute_result",
          "data": {
            "text/plain": [
              "1.23456789"
            ]
          },
          "metadata": {
            "tags": []
          },
          "execution_count": 8
        }
      ]
    },
    {
      "cell_type": "code",
      "metadata": {
        "id": "c7JZ1_8r5MmP",
        "colab_type": "code",
        "colab": {
          "base_uri": "https://localhost:8080/",
          "height": 34
        },
        "outputId": "828c655d-90ed-4360-8ff0-bbffb57224e2"
      },
      "source": [
        "'%e | %f | %g' % (x, x, x)"
      ],
      "execution_count": 9,
      "outputs": [
        {
          "output_type": "execute_result",
          "data": {
            "text/plain": [
              "'1.234568e+00 | 1.234568 | 1.23457'"
            ]
          },
          "metadata": {
            "tags": []
          },
          "execution_count": 9
        }
      ]
    },
    {
      "cell_type": "code",
      "metadata": {
        "id": "T4ASMreW5QPn",
        "colab_type": "code",
        "colab": {
          "base_uri": "https://localhost:8080/",
          "height": 34
        },
        "outputId": "598fe2dd-b238-4757-b3d7-d103086aa4c2"
      },
      "source": [
        "'%-6.2f | %05.2f | %+06.1f' % (x, x, x)"
      ],
      "execution_count": 10,
      "outputs": [
        {
          "output_type": "execute_result",
          "data": {
            "text/plain": [
              "'1.23   | 01.23 | +001.2'"
            ]
          },
          "metadata": {
            "tags": []
          },
          "execution_count": 10
        }
      ]
    },
    {
      "cell_type": "code",
      "metadata": {
        "id": "pbChgyGN5rM_",
        "colab_type": "code",
        "colab": {
          "base_uri": "https://localhost:8080/",
          "height": 34
        },
        "outputId": "ad1597cd-59dd-4e71-d495-9ba71f0c5133"
      },
      "source": [
        "int(x)"
      ],
      "execution_count": 11,
      "outputs": [
        {
          "output_type": "execute_result",
          "data": {
            "text/plain": [
              "1"
            ]
          },
          "metadata": {
            "tags": []
          },
          "execution_count": 11
        }
      ]
    },
    {
      "cell_type": "code",
      "metadata": {
        "id": "Z5jUo1od5uFX",
        "colab_type": "code",
        "colab": {
          "base_uri": "https://localhost:8080/",
          "height": 34
        },
        "outputId": "2f2267cb-e793-4ab0-b50d-e8a8abb91933"
      },
      "source": [
        "round(x, 2)"
      ],
      "execution_count": 12,
      "outputs": [
        {
          "output_type": "execute_result",
          "data": {
            "text/plain": [
              "1.23"
            ]
          },
          "metadata": {
            "tags": []
          },
          "execution_count": 12
        }
      ]
    },
    {
      "cell_type": "code",
      "metadata": {
        "id": "-ujssWai50Yo",
        "colab_type": "code",
        "colab": {
          "base_uri": "https://localhost:8080/",
          "height": 34
        },
        "outputId": "66007217-932c-43df-d505-527e82c83f7b"
      },
      "source": [
        "round(x, 4)"
      ],
      "execution_count": 13,
      "outputs": [
        {
          "output_type": "execute_result",
          "data": {
            "text/plain": [
              "1.2346"
            ]
          },
          "metadata": {
            "tags": []
          },
          "execution_count": 13
        }
      ]
    },
    {
      "cell_type": "code",
      "metadata": {
        "id": "c4G4ThiW545n",
        "colab_type": "code",
        "colab": {
          "base_uri": "https://localhost:8080/",
          "height": 34
        },
        "outputId": "7383d02b-c848-446a-c735-9f52fc362f6b"
      },
      "source": [
        "\"%o %x %X\" % (64, 64, 255)"
      ],
      "execution_count": 14,
      "outputs": [
        {
          "output_type": "execute_result",
          "data": {
            "text/plain": [
              "'100 40 FF'"
            ]
          },
          "metadata": {
            "tags": []
          },
          "execution_count": 14
        }
      ]
    },
    {
      "cell_type": "code",
      "metadata": {
        "id": "XgXql9uc58fo",
        "colab_type": "code",
        "colab": {
          "base_uri": "https://localhost:8080/",
          "height": 34
        },
        "outputId": "24072c59-f362-4a77-b09b-3eb0835cafe9"
      },
      "source": [
        "hex(255), int('0xff', 16), eval('0xFF')"
      ],
      "execution_count": 15,
      "outputs": [
        {
          "output_type": "execute_result",
          "data": {
            "text/plain": [
              "('0xff', 255, 255)"
            ]
          },
          "metadata": {
            "tags": []
          },
          "execution_count": 15
        }
      ]
    },
    {
      "cell_type": "code",
      "metadata": {
        "id": "KlaxmhK45-MX",
        "colab_type": "code",
        "colab": {
          "base_uri": "https://localhost:8080/",
          "height": 34
        },
        "outputId": "29ca3e21-f08c-4162-a897-a4af8a90ceee"
      },
      "source": [
        "ord('s'), chr(115)"
      ],
      "execution_count": 16,
      "outputs": [
        {
          "output_type": "execute_result",
          "data": {
            "text/plain": [
              "(115, 's')"
            ]
          },
          "metadata": {
            "tags": []
          },
          "execution_count": 16
        }
      ]
    },
    {
      "cell_type": "markdown",
      "metadata": {
        "id": "G-6NkZdC6Acv",
        "colab_type": "text"
      },
      "source": [
        "**Formatting with dictionaries**"
      ]
    },
    {
      "cell_type": "code",
      "metadata": {
        "id": "Ebdbfv5v6kZf",
        "colab_type": "code",
        "colab": {
          "base_uri": "https://localhost:8080/",
          "height": 34
        },
        "outputId": "c4b636b1-393a-4a84-9b04-d886c6db0703"
      },
      "source": [
        "D = {'xx': 1, 'yy': 2}\n",
        "\"%(xx)d => %(yy)s\" % D"
      ],
      "execution_count": 17,
      "outputs": [
        {
          "output_type": "execute_result",
          "data": {
            "text/plain": [
              "'1 => 2'"
            ]
          },
          "metadata": {
            "tags": []
          },
          "execution_count": 17
        }
      ]
    },
    {
      "cell_type": "code",
      "metadata": {
        "id": "Q1l76yjv6oqH",
        "colab_type": "code",
        "colab": {
          "base_uri": "https://localhost:8080/",
          "height": 34
        },
        "outputId": "9102fcaa-3a79-4469-f5d6-4ffb098d3ad2"
      },
      "source": [
        "aa = 3\n",
        "bb = 4\n",
        "\"%(aa)d => %(bb)s\" % vars()"
      ],
      "execution_count": 18,
      "outputs": [
        {
          "output_type": "execute_result",
          "data": {
            "text/plain": [
              "'3 => 4'"
            ]
          },
          "metadata": {
            "tags": []
          },
          "execution_count": 18
        }
      ]
    },
    {
      "cell_type": "code",
      "metadata": {
        "id": "zIvxDkm66vLX",
        "colab_type": "code",
        "colab": {
          "base_uri": "https://localhost:8080/",
          "height": 102
        },
        "outputId": "65796192-0dd6-4c2c-d790-7fe9be7435e7"
      },
      "source": [
        "reply = \"\"\"\n",
        "Greetings...\n",
        "Hello %(name)s!\n",
        "Your age squared is %(age)s\n",
        "\"\"\"\n",
        "values = {'name': 'Bob', 'age': 40}\n",
        "print(reply % values)"
      ],
      "execution_count": 19,
      "outputs": [
        {
          "output_type": "stream",
          "text": [
            "\n",
            "Greetings...\n",
            "Hello Bob!\n",
            "Your age squared is 40\n",
            "\n"
          ],
          "name": "stdout"
        }
      ]
    },
    {
      "cell_type": "markdown",
      "metadata": {
        "id": "lNqxk4Ar62CZ",
        "colab_type": "text"
      },
      "source": [
        "**Formatting method**"
      ]
    },
    {
      "cell_type": "code",
      "metadata": {
        "id": "UVxJo5Ri9nbQ",
        "colab_type": "code",
        "colab": {
          "base_uri": "https://localhost:8080/",
          "height": 34
        },
        "outputId": "1951afb5-6873-4c48-9ee5-029f2885b1c0"
      },
      "source": [
        "'{} {}'.format(42, 'spam')"
      ],
      "execution_count": 20,
      "outputs": [
        {
          "output_type": "execute_result",
          "data": {
            "text/plain": [
              "'42 spam'"
            ]
          },
          "metadata": {
            "tags": []
          },
          "execution_count": 20
        }
      ]
    },
    {
      "cell_type": "code",
      "metadata": {
        "id": "7YRSKueD9pS5",
        "colab_type": "code",
        "colab": {
          "base_uri": "https://localhost:8080/",
          "height": 34
        },
        "outputId": "263e0072-71b8-4b6f-efb4-62808330a044"
      },
      "source": [
        "'{0:.2f}'.format(1.234)"
      ],
      "execution_count": 21,
      "outputs": [
        {
          "output_type": "execute_result",
          "data": {
            "text/plain": [
              "'1.23'"
            ]
          },
          "metadata": {
            "tags": []
          },
          "execution_count": 21
        }
      ]
    },
    {
      "cell_type": "code",
      "metadata": {
        "id": "EvdeQDi0bhDf",
        "colab_type": "code",
        "colab": {
          "base_uri": "https://localhost:8080/",
          "height": 34
        },
        "outputId": "cfff68ab-fcb1-4ebc-d8ba-93d340edbd2b"
      },
      "source": [
        "'{0:,.2f}'.format(1234567.234)"
      ],
      "execution_count": 22,
      "outputs": [
        {
          "output_type": "execute_result",
          "data": {
            "text/plain": [
              "'1,234,567.23'"
            ]
          },
          "metadata": {
            "tags": []
          },
          "execution_count": 22
        }
      ]
    },
    {
      "cell_type": "markdown",
      "metadata": {
        "id": "6ms9KiBR9t1O",
        "colab_type": "text"
      },
      "source": [
        "**Template formatting**"
      ]
    },
    {
      "cell_type": "code",
      "metadata": {
        "id": "n8KyecDB9zhn",
        "colab_type": "code",
        "colab": {
          "base_uri": "https://localhost:8080/",
          "height": 34
        },
        "outputId": "30f269c9-bee3-4111-b7a9-61e7a33c6dd6"
      },
      "source": [
        "('%(page)i: %(title)s' % {'page':2, 'title': 'The Best of Times'})"
      ],
      "execution_count": 23,
      "outputs": [
        {
          "output_type": "execute_result",
          "data": {
            "text/plain": [
              "'2: The Best of Times'"
            ]
          },
          "metadata": {
            "tags": []
          },
          "execution_count": 23
        }
      ]
    },
    {
      "cell_type": "code",
      "metadata": {
        "id": "-DF3Udat94bw",
        "colab_type": "code",
        "colab": {
          "base_uri": "https://localhost:8080/",
          "height": 34
        },
        "outputId": "4fc96975-186d-4c1c-cd74-72b0710e76b7"
      },
      "source": [
        "import string\n",
        "t = string.Template('$page: $title')\n",
        "t.substitute({'page':2, 'title': 'The Best of Times'})"
      ],
      "execution_count": 24,
      "outputs": [
        {
          "output_type": "execute_result",
          "data": {
            "text/plain": [
              "'2: The Best of Times'"
            ]
          },
          "metadata": {
            "tags": []
          },
          "execution_count": 24
        }
      ]
    },
    {
      "cell_type": "code",
      "metadata": {
        "id": "hiAuDxoi97f_",
        "colab_type": "code",
        "colab": {
          "base_uri": "https://localhost:8080/",
          "height": 34
        },
        "outputId": "297276a1-0420-4186-a1d7-23d894c9bc3c"
      },
      "source": [
        "s = string.Template('$who likes $what')\n",
        "s.substitute(who='bob', what=3.14)"
      ],
      "execution_count": 27,
      "outputs": [
        {
          "output_type": "execute_result",
          "data": {
            "text/plain": [
              "'bob likes 3.14'"
            ]
          },
          "metadata": {
            "tags": []
          },
          "execution_count": 27
        }
      ]
    },
    {
      "cell_type": "code",
      "metadata": {
        "id": "ur2uYXULbhDh",
        "colab_type": "code",
        "colab": {
          "base_uri": "https://localhost:8080/",
          "height": 34
        },
        "outputId": "5eb06ca9-ec42-4546-c86a-089a5689c26c"
      },
      "source": [
        "s.substitute(dict(who='bob', what=3.14))"
      ],
      "execution_count": 28,
      "outputs": [
        {
          "output_type": "execute_result",
          "data": {
            "text/plain": [
              "'bob likes 3.14'"
            ]
          },
          "metadata": {
            "tags": []
          },
          "execution_count": 28
        }
      ]
    },
    {
      "cell_type": "markdown",
      "metadata": {
        "id": "Su4mM1KAbhDi",
        "colab_type": "text"
      },
      "source": [
        "**Common string tools**"
      ]
    },
    {
      "cell_type": "code",
      "metadata": {
        "id": "eHVa9Gki-TKf",
        "colab_type": "code",
        "colab": {
          "base_uri": "https://localhost:8080/",
          "height": 34
        },
        "outputId": "f0e2dc15-8fc7-40fd-a350-fb632e7d0ea3"
      },
      "source": [
        "S = \"spammify\"\n",
        "S.upper() # convert to uppercase"
      ],
      "execution_count": 29,
      "outputs": [
        {
          "output_type": "execute_result",
          "data": {
            "text/plain": [
              "'SPAMMIFY'"
            ]
          },
          "metadata": {
            "tags": []
          },
          "execution_count": 29
        }
      ]
    },
    {
      "cell_type": "code",
      "metadata": {
        "id": "fySMhl9x-WTX",
        "colab_type": "code",
        "colab": {
          "base_uri": "https://localhost:8080/",
          "height": 34
        },
        "outputId": "5786f989-c250-4f60-f20f-29991e7500a0"
      },
      "source": [
        "S.find(\"mm\") # return index of substring"
      ],
      "execution_count": 30,
      "outputs": [
        {
          "output_type": "execute_result",
          "data": {
            "text/plain": [
              "3"
            ]
          },
          "metadata": {
            "tags": []
          },
          "execution_count": 30
        }
      ]
    },
    {
      "cell_type": "code",
      "metadata": {
        "id": "1U8Gu2-C-Y27",
        "colab_type": "code",
        "colab": {
          "base_uri": "https://localhost:8080/",
          "height": 34
        },
        "outputId": "eb4e0df7-fe44-4680-c19f-9a387a7ef6b0"
      },
      "source": [
        "int(\"42\"), str(42) # convert from/to string"
      ],
      "execution_count": 31,
      "outputs": [
        {
          "output_type": "execute_result",
          "data": {
            "text/plain": [
              "(42, '42')"
            ]
          },
          "metadata": {
            "tags": []
          },
          "execution_count": 31
        }
      ]
    },
    {
      "cell_type": "code",
      "metadata": {
        "id": "XU8jqrVv-cNG",
        "colab_type": "code",
        "colab": {
          "base_uri": "https://localhost:8080/",
          "height": 34
        },
        "outputId": "a10dfe9f-be0c-4320-a94a-ce771e1b9c61"
      },
      "source": [
        "S.split('mm') # splitting and joining"
      ],
      "execution_count": 32,
      "outputs": [
        {
          "output_type": "execute_result",
          "data": {
            "text/plain": [
              "['spa', 'ify']"
            ]
          },
          "metadata": {
            "tags": []
          },
          "execution_count": 32
        }
      ]
    },
    {
      "cell_type": "code",
      "metadata": {
        "id": "zDGkCjHPbhDj",
        "colab_type": "code",
        "colab": {
          "base_uri": "https://localhost:8080/",
          "height": 34
        },
        "outputId": "8cab569f-922e-4454-ecb6-4e12160bf645"
      },
      "source": [
        "'XX'.join(S.split(\"mm\"))"
      ],
      "execution_count": 34,
      "outputs": [
        {
          "output_type": "execute_result",
          "data": {
            "text/plain": [
              "'spaXXify'"
            ]
          },
          "metadata": {
            "tags": []
          },
          "execution_count": 34
        }
      ]
    },
    {
      "cell_type": "markdown",
      "metadata": {
        "id": "Y7HFAdz4-gEe",
        "colab_type": "text"
      },
      "source": [
        "**Example: replacing text**"
      ]
    },
    {
      "cell_type": "code",
      "metadata": {
        "id": "UJQZIlZjGgy3",
        "colab_type": "code",
        "colab": {
          "base_uri": "https://localhost:8080/",
          "height": 34
        },
        "outputId": "5b6f1102-6e73-4d3f-f17c-fad6fd95d366"
      },
      "source": [
        "# replace method\n",
        "S = 'spammy'\n",
        "S = S.replace('mm', 'xx')\n",
        "S"
      ],
      "execution_count": 35,
      "outputs": [
        {
          "output_type": "execute_result",
          "data": {
            "text/plain": [
              "'spaxxy'"
            ]
          },
          "metadata": {
            "tags": []
          },
          "execution_count": 35
        }
      ]
    },
    {
      "cell_type": "code",
      "metadata": {
        "id": "47GVDOT2Gj7d",
        "colab_type": "code",
        "colab": {
          "base_uri": "https://localhost:8080/",
          "height": 34
        },
        "outputId": "f1645819-dc66-4f3b-ddc6-fdeddc39788f"
      },
      "source": [
        "S = 'xxxxSPAMxxxxSPAMxxxx'\n",
        "S.replace('SPAM', 'EGG') # replace all"
      ],
      "execution_count": 36,
      "outputs": [
        {
          "output_type": "execute_result",
          "data": {
            "text/plain": [
              "'xxxxEGGxxxxEGGxxxx'"
            ]
          },
          "metadata": {
            "tags": []
          },
          "execution_count": 36
        }
      ]
    },
    {
      "cell_type": "code",
      "metadata": {
        "id": "EUBs42qJGnYU",
        "colab_type": "code",
        "colab": {
          "base_uri": "https://localhost:8080/",
          "height": 34
        },
        "outputId": "82270a4e-46f7-4f88-e785-65ec92e2e426"
      },
      "source": [
        "# finding and slicing\n",
        "S = 'xxxxSPAMxxxxSPAMxxxx'\n",
        "where = S.find('SPAM') # search for position\n",
        "where # occurs at offset 4"
      ],
      "execution_count": 37,
      "outputs": [
        {
          "output_type": "execute_result",
          "data": {
            "text/plain": [
              "4"
            ]
          },
          "metadata": {
            "tags": []
          },
          "execution_count": 37
        }
      ]
    },
    {
      "cell_type": "code",
      "metadata": {
        "id": "UzgEzD7mGrJs",
        "colab_type": "code",
        "colab": {
          "base_uri": "https://localhost:8080/",
          "height": 34
        },
        "outputId": "65d950c9-d8e1-462d-a0b0-1d125decd977"
      },
      "source": [
        "S = S[:where] + 'EGGS' + S[(where+4):]\n",
        "S"
      ],
      "execution_count": 38,
      "outputs": [
        {
          "output_type": "execute_result",
          "data": {
            "text/plain": [
              "'xxxxEGGSxxxxSPAMxxxx'"
            ]
          },
          "metadata": {
            "tags": []
          },
          "execution_count": 38
        }
      ]
    },
    {
      "cell_type": "code",
      "metadata": {
        "id": "sFvQDpRvGvV4",
        "colab_type": "code",
        "colab": {
          "base_uri": "https://localhost:8080/",
          "height": 34
        },
        "outputId": "c634e900-f0ee-4412-9326-4d825a700788"
      },
      "source": [
        "# exploding to/from list\n",
        "S = 'spammy'\n",
        "L = list(S) # explode to list\n",
        "L"
      ],
      "execution_count": 39,
      "outputs": [
        {
          "output_type": "execute_result",
          "data": {
            "text/plain": [
              "['s', 'p', 'a', 'm', 'm', 'y']"
            ]
          },
          "metadata": {
            "tags": []
          },
          "execution_count": 39
        }
      ]
    },
    {
      "cell_type": "code",
      "metadata": {
        "id": "azg7XVV_GyVV",
        "colab_type": "code",
        "colab": {
          "base_uri": "https://localhost:8080/",
          "height": 34
        },
        "outputId": "f9ed274a-1456-46dc-8198-80ae9ba85ea4"
      },
      "source": [
        "L[3] = 'x' # multiple in-place changes\n",
        "L[4] = 'x' # cant do this for strings\n",
        "L"
      ],
      "execution_count": 40,
      "outputs": [
        {
          "output_type": "execute_result",
          "data": {
            "text/plain": [
              "['s', 'p', 'a', 'x', 'x', 'y']"
            ]
          },
          "metadata": {
            "tags": []
          },
          "execution_count": 40
        }
      ]
    },
    {
      "cell_type": "code",
      "metadata": {
        "id": "NRT0WCYzbhDk",
        "colab_type": "code",
        "colab": {
          "base_uri": "https://localhost:8080/",
          "height": 34
        },
        "outputId": "d81adf1d-3d5b-4571-f340-ec23fecd34db"
      },
      "source": [
        "S = ''.join(L) # implode back to string\n",
        "S"
      ],
      "execution_count": 41,
      "outputs": [
        {
          "output_type": "execute_result",
          "data": {
            "text/plain": [
              "'spaxxy'"
            ]
          },
          "metadata": {
            "tags": []
          },
          "execution_count": 41
        }
      ]
    },
    {
      "cell_type": "markdown",
      "metadata": {
        "id": "o6YOR0L8G3dF",
        "colab_type": "text"
      },
      "source": [
        "**Example: parsing with slices**"
      ]
    },
    {
      "cell_type": "code",
      "metadata": {
        "id": "oscX9GZKG7tk",
        "colab_type": "code",
        "colab": {
          "base_uri": "https://localhost:8080/",
          "height": 34
        },
        "outputId": "933c9485-83da-4c74-9450-b474f5c87a9a"
      },
      "source": [
        "line = 'aaa bbb ccc'\n",
        "col1 = line[0:3] # columns at fixed offsets\n",
        "col3 = line[8:]\n",
        "col1"
      ],
      "execution_count": 42,
      "outputs": [
        {
          "output_type": "execute_result",
          "data": {
            "text/plain": [
              "'aaa'"
            ]
          },
          "metadata": {
            "tags": []
          },
          "execution_count": 42
        }
      ]
    },
    {
      "cell_type": "code",
      "metadata": {
        "id": "ZOGhj_H3bhDm",
        "colab_type": "code",
        "colab": {
          "base_uri": "https://localhost:8080/",
          "height": 34
        },
        "outputId": "fdfc4b2e-f4ae-410e-ef3c-59e4e1d9e18a"
      },
      "source": [
        "col3"
      ],
      "execution_count": 43,
      "outputs": [
        {
          "output_type": "execute_result",
          "data": {
            "text/plain": [
              "'ccc'"
            ]
          },
          "metadata": {
            "tags": []
          },
          "execution_count": 43
        }
      ]
    },
    {
      "cell_type": "markdown",
      "metadata": {
        "id": "wHJ0MBiuG_fF",
        "colab_type": "text"
      },
      "source": [
        "**Example: parsing with splits**"
      ]
    },
    {
      "cell_type": "code",
      "metadata": {
        "id": "2-YRzW0qHB9N",
        "colab_type": "code",
        "colab": {
          "base_uri": "https://localhost:8080/",
          "height": 34
        },
        "outputId": "232b8064-d65f-4d06-8dfa-c5e19a4cd176"
      },
      "source": [
        "line = 'aaa bbb ccc' # split around whitespace\n",
        "cols = line.split()\n",
        "cols"
      ],
      "execution_count": 44,
      "outputs": [
        {
          "output_type": "execute_result",
          "data": {
            "text/plain": [
              "['aaa', 'bbb', 'ccc']"
            ]
          },
          "metadata": {
            "tags": []
          },
          "execution_count": 44
        }
      ]
    },
    {
      "cell_type": "code",
      "metadata": {
        "id": "tF274x0qbhDn",
        "colab_type": "code",
        "colab": {
          "base_uri": "https://localhost:8080/",
          "height": 34
        },
        "outputId": "fdaa9c7a-a583-40db-bdef-e92876bd4c42"
      },
      "source": [
        "line = 'bob,hacker,40' # split around commas\n",
        "line.split(',')"
      ],
      "execution_count": 45,
      "outputs": [
        {
          "output_type": "execute_result",
          "data": {
            "text/plain": [
              "['bob', 'hacker', '40']"
            ]
          },
          "metadata": {
            "tags": []
          },
          "execution_count": 45
        }
      ]
    },
    {
      "cell_type": "markdown",
      "metadata": {
        "id": "Nupns4W4HLA9",
        "colab_type": "text"
      },
      "source": [
        "**Generic type concepts**\n",
        "\n",
        "*    Types share operation sets by categories\n",
        "*    Numbers support addition, multiplication, . . .\n",
        "*    Sequences support indexing, slicing, concatenation, . . .\n",
        "*    Mappings support indexing by key, . . .\n",
        "*    Mutable types can be changed in place\n",
        "*    Strings are immutable sequences"
      ]
    },
    {
      "cell_type": "markdown",
      "metadata": {
        "id": "JS2HWWHQHQ_x",
        "colab_type": "text"
      },
      "source": [
        "**Concatenation and repetition**\n",
        "\n",
        "*      X + Y makes a new sequence object with the contents of both operands\n",
        "*      X * N makes a new sequence object with N copies of the sequence operand"
      ]
    },
    {
      "cell_type": "markdown",
      "metadata": {
        "id": "Vyt2vF6AHbL9",
        "colab_type": "text"
      },
      "source": [
        "**Indexing and slicing**\n",
        "\n",
        "*    Indexing\n",
        "     -      Fetches components via offsets: zero-based\n",
        "     -      Negative indexes: adds length to offset\n",
        "     -      S[0] is the first item\n",
        "     -      S[-2] is the second from the end (4 - 2)\n",
        "     -      Also works on mappings, but index is a key\n",
        "*    Slicing\n",
        "     -      Extracts contiguous sections of a sequence\n",
        "     -      Slices default to 0 and the sequence length if omitted\n",
        "     -      S[1:3] fetches from offsets 1 upto but not including 3\n",
        "     -      S[1:] fetches from offsets 1 through the end (length)\n",
        "     -      S[:-1] fetches from offsets 0 upto but not including last\n",
        "     -      S[I:J:K] newer, I to J by K, K is a stride/step (S[::2])"
      ]
    },
    {
      "cell_type": "markdown",
      "metadata": {
        "id": "H3sTxicbHpRA",
        "colab_type": "text"
      },
      "source": [
        "###Lists"
      ]
    },
    {
      "cell_type": "markdown",
      "metadata": {
        "id": "okYJbAo4Ht7Q",
        "colab_type": "text"
      },
      "source": [
        "*     Arrays of object references\n",
        "*     Access by offset\n",
        "*     Variable length, heterogeneous, arbitrarily nestable\n",
        "*     Category: mutable sequence\n",
        "*     Ordered collections of arbitrary objects"
      ]
    },
    {
      "cell_type": "markdown",
      "metadata": {
        "id": "jibfGVKPbhDo",
        "colab_type": "text"
      },
      "source": [
        "**Common list operations**\n",
        "\n",
        "Operation |\tInterpretation\n",
        "---|---\n",
        "L1 = [] |\tan empty list\n",
        "L2 = [0, 1, 2, 3] |\t4-items: indexes 0..3\n",
        "['abc', ['def', 'ghi']] |\tnested sublists\n",
        "L2[i], L2[i:j], len(L2) |\tindex, slice, length\n",
        "L1 + L2, L2 * 3 |\tconcatenate, repeat\n",
        "L1.sort(), L2.append(4) |\tmethods: sort, grow\n",
        "del L2[k], L2[i:j] = [] |\tshrinking\n",
        "L2[i:j] = [1,2,3] |\tslice assignment\n",
        "range(4), xrange(0, 4) |\tmake integer lists\n",
        "for x in L2, 3 in L2 |\titeration/membership"
      ]
    },
    {
      "cell_type": "markdown",
      "metadata": {
        "id": "SxTL19YgHxEN",
        "colab_type": "text"
      },
      "source": [
        "**Lists in action**"
      ]
    },
    {
      "cell_type": "code",
      "metadata": {
        "id": "e6zSktYqbhDp",
        "colab_type": "code",
        "colab": {}
      },
      "source": [
        "% python\n",
        "[1, 2, 3] + [4, 5, 6] # concatenation\n",
        "[1, 2, 3, 4, 5, 6]\n",
        "['Ni!'] * 4 # repetition\n",
        "['Ni!', 'Ni!', 'Ni!', 'Ni!']\n",
        " \n"
      ],
      "execution_count": 0,
      "outputs": []
    },
    {
      "cell_type": "markdown",
      "metadata": {
        "id": "onqAJ5cgbhDq",
        "colab_type": "text"
      },
      "source": [
        "Indexing and slicing"
      ]
    },
    {
      "cell_type": "code",
      "metadata": {
        "id": "9qXSD6HDbhDr",
        "colab_type": "code",
        "colab": {}
      },
      "source": [
        "L = ['spam', 'Spam', 'SPAM!']\n",
        "L[2]\n",
        "'SPAM!'\n",
        "L[1:]\n",
        "['Spam', 'SPAM!']\n",
        " \n"
      ],
      "execution_count": 0,
      "outputs": []
    },
    {
      "cell_type": "markdown",
      "metadata": {
        "id": "t8FEJ0UIbhDv",
        "colab_type": "text"
      },
      "source": [
        "Changing lists in-place"
      ]
    },
    {
      "cell_type": "code",
      "metadata": {
        "id": "ESveNvIHbhDv",
        "colab_type": "code",
        "colab": {}
      },
      "source": [
        "L[1] = 'eggs' # index assignment\n",
        "L\n",
        "['spam', 'eggs', 'SPAM!']\n",
        "L[0:2] = ['eat', 'more'] # slice assignment\n",
        "L # replace items 0,1\n",
        "['eat', 'more', 'SPAM!']\n",
        "L.append('please') # append method call\n",
        "L\n",
        "['eat', 'more', 'SPAM!', 'please']\n",
        " \n"
      ],
      "execution_count": 0,
      "outputs": []
    },
    {
      "cell_type": "markdown",
      "metadata": {
        "id": "1QIPO6I1bhDx",
        "colab_type": "text"
      },
      "source": [
        "*      Only works for mutable objects: not strings\n",
        "*      Index assignment replaces an object reference\n",
        "*      Slice assignment deletes a slice and inserts new items\n",
        "*      Append method inserts a new item on the end (realloc)\n",
        " \n",
        "\n",
        " \n",
        "\n",
        " \n",
        "\n",
        "Preview: iteration/membership"
      ]
    },
    {
      "cell_type": "code",
      "metadata": {
        "id": "o20fRFH6bhDy",
        "colab_type": "code",
        "colab": {}
      },
      "source": [
        "for x in L: print x,\n",
        "\n",
        "eat more SPAM! please\n",
        " \n"
      ],
      "execution_count": 0,
      "outputs": []
    },
    {
      "cell_type": "markdown",
      "metadata": {
        "id": "khkL8q1XbhDz",
        "colab_type": "text"
      },
      "source": [
        "Example: 2-dimensional array"
      ]
    },
    {
      "cell_type": "code",
      "metadata": {
        "id": "6Iboh-xdbhDz",
        "colab_type": "code",
        "colab": {}
      },
      "source": [
        "matrix = [[1, 2, 3],\n",
        "[4, 5, 6],\n",
        "[7, 8, 9]]\n",
        "...\n",
        "matrix[1]\n",
        "[4, 5, 6]\n",
        "matrix[1][1]\n",
        "5\n",
        "\n",
        "matrix[2][0]\n",
        "7\n",
        "\n",
        " \n"
      ],
      "execution_count": 0,
      "outputs": []
    },
    {
      "cell_type": "markdown",
      "metadata": {
        "id": "dCBzV2l1bhD1",
        "colab_type": "text"
      },
      "source": [
        "###Dictionaries\n",
        "\n",
        " \n",
        "\n",
        "*     Tables of object references\n",
        "*     Access by key, not offset (hash-tables)\n",
        "*     Variable length, heterogeneous, arbitrarily nestable\n",
        "*     Category: mutable mappings (not a sequence)\n",
        "*     Unordered collections of arbitrary objects\n",
        " \n",
        "\n",
        " \n",
        "\n",
        " \n",
        "\n",
        "Common dictionary operations\n",
        " \n",
        "\n",
        " \n",
        "\n",
        "Operation |\tInterpretation\n",
        "---|---\n",
        "d1 = {} |\tempty dictionary\n",
        "d2 = {'spam': 2, 'eggs': 3} |\t2 items\n",
        "d3 = {'food': {'ham': 1, 'egg': 2}} |\tnesting\n",
        "d2['eggs'], d3['food']['ham'] |\tindexing by key\n",
        "d2.has_key('eggs'), d2.keys() |\tmethods\n",
        "d2.get('eggs', default) |\tdefault values\n",
        "len(d1) |\tlength (entries)\n",
        "d2[key] = new, del d2[key] |\tadding/changing\n",
        " \n",
        "\n",
        " \n",
        "\n",
        " \n",
        "\n",
        "\n",
        " \n",
        "\n",
        "Dictionaries in action"
      ]
    },
    {
      "cell_type": "code",
      "metadata": {
        "id": "6JHim1pVbhD1",
        "colab_type": "code",
        "colab": {}
      },
      "source": [
        "% python\n",
        "d2 = {'spam': 2, 'ham': 1, 'eggs': 3}\n",
        "d2['spam']\n",
        "2\n",
        "\n",
        "len(d2) # number entries\n",
        "3\n",
        "\n",
        "d2.keys() # list of keys\n",
        "['eggs', 'spam', 'ham']\n",
        " \n"
      ],
      "execution_count": 0,
      "outputs": []
    },
    {
      "cell_type": "markdown",
      "metadata": {
        "id": "Gi6fCJTobhD3",
        "colab_type": "text"
      },
      "source": [
        "Changing dictionaries"
      ]
    },
    {
      "cell_type": "code",
      "metadata": {
        "id": "XRQpia_hbhD3",
        "colab_type": "code",
        "colab": {}
      },
      "source": [
        "d2['ham'] = ['grill', 'bake', 'fry']\n",
        "d2\n",
        "{'eggs': 3, 'spam': 2, 'ham': ['grill', 'bake', 'fry']}\n",
        "del d2['eggs']\n",
        "d2\n",
        "{'spam': 2, 'ham': ['grill', 'bake', 'fry']}\n",
        " \n"
      ],
      "execution_count": 0,
      "outputs": []
    },
    {
      "cell_type": "markdown",
      "metadata": {
        "id": "sGEOAFDNbhD5",
        "colab_type": "text"
      },
      "source": [
        "Making dictionaries\n",
        " \n",
        "\n",
        "# literals"
      ]
    },
    {
      "cell_type": "code",
      "metadata": {
        "id": "gxdyphQTbhD5",
        "colab_type": "code",
        "colab": {}
      },
      "source": [
        "\n",
        "D = {'name': 'Bob', 'age': 42, 'job': 'dev'}\n",
        "D\n",
        "{'job': 'dev', 'age': 42, 'name': 'Bob'}\n",
        " \n",
        "\n",
        " \n",
        "\n",
        "# keywords"
      ],
      "execution_count": 0,
      "outputs": []
    },
    {
      "cell_type": "code",
      "metadata": {
        "id": "LjunZRaCbhD6",
        "colab_type": "code",
        "colab": {}
      },
      "source": [
        "\n",
        "D = dict(name='Bob', age=42, job='dev')\n",
        "D\n",
        "{'job': 'dev', 'age': 42, 'name': 'Bob'}\n",
        " \n",
        "\n",
        " \n",
        "\n",
        "# field by field"
      ],
      "execution_count": 0,
      "outputs": []
    },
    {
      "cell_type": "code",
      "metadata": {
        "id": "OAwqiZiQbhD7",
        "colab_type": "code",
        "colab": {}
      },
      "source": [
        "\n",
        "D = {}\n",
        "D['name'] = 'Bob'\n",
        "D['age'] = 42\n",
        "D['job'] = 'dev'\n",
        "D\n",
        "{'job': 'dev', 'age': 42, 'name': 'Bob'}\n",
        " \n",
        "\n",
        " \n",
        "\n",
        "# zipped keys/values"
      ],
      "execution_count": 0,
      "outputs": []
    },
    {
      "cell_type": "code",
      "metadata": {
        "id": "SijLtHambhD8",
        "colab_type": "code",
        "colab": {}
      },
      "source": [
        "\n",
        "pairs = zip(['name', 'age', 'job'], ('Bob', 42, 'dev'))\n",
        "pairs\n",
        "[('name', 'Bob'), ('age', 42), ('job', 'dev')]\n",
        "D = dict(pairs)\n",
        "D\n",
        "{'job': 'dev', 'age': 42, 'name': 'Bob'}\n",
        " \n",
        "\n",
        " \n",
        "\n",
        "# key lists"
      ],
      "execution_count": 0,
      "outputs": []
    },
    {
      "cell_type": "code",
      "metadata": {
        "id": "fJlwrsSEbhD-",
        "colab_type": "code",
        "colab": {}
      },
      "source": [
        "\n",
        "D = dict.fromkeys(['name', 'age', 'job'], '?')\n",
        "D\n",
        "{'job': '?', 'age': '?', 'name': '?'}\n",
        " \n"
      ],
      "execution_count": 0,
      "outputs": []
    },
    {
      "cell_type": "markdown",
      "metadata": {
        "id": "FMSaNPAZbhD_",
        "colab_type": "text"
      },
      "source": [
        "A language table"
      ]
    },
    {
      "cell_type": "code",
      "metadata": {
        "id": "cVUL9BQ0bhEA",
        "colab_type": "code",
        "colab": {}
      },
      "source": [
        "table = {'Perl': 'Larry Wall',\n",
        "'Tcl': 'John Ousterhout',\n",
        "'Python': 'Guido van Rossum' }\n",
        "\n",
        "language = 'Python'\n",
        "creator = table[language]\n",
        "creator\n",
        "'Guido van Rossum'\n",
        "for lang in table.keys(): print lang,\n",
        "\n",
        "Tcl Python Perl\n",
        " \n"
      ],
      "execution_count": 0,
      "outputs": []
    },
    {
      "cell_type": "markdown",
      "metadata": {
        "id": "t6OKSjwXbhEB",
        "colab_type": "text"
      },
      "source": [
        "Dictionary usage notes\n",
        " \n",
        "\n",
        "*      Sequence operations dont work!\n",
        "*      Assigning to new indexes adds entries\n",
        "*      Keys need not always be strings\n",
        " \n",
        "\n",
        " \n",
        "\n",
        " \n",
        "\n",
        "Example: simulating auto-grown lists"
      ]
    },
    {
      "cell_type": "code",
      "metadata": {
        "id": "2CRsER1ZbhEC",
        "colab_type": "code",
        "colab": {}
      },
      "source": [
        "L = [] # L=[0]*100 would help\n",
        "L[99] = 'spam'\n",
        "IndexError: list assignment index out of range\n",
        " \n",
        "\n",
        "D = {}\n",
        "D[99] = 'spam'\n",
        "D[99]\n",
        "'spam'\n",
        "D\n",
        "{99: 'spam'}\n",
        " \n"
      ],
      "execution_count": 0,
      "outputs": []
    },
    {
      "cell_type": "markdown",
      "metadata": {
        "id": "5__xJqDPbhED",
        "colab_type": "text"
      },
      "source": [
        "Example: dictionary-based records"
      ]
    },
    {
      "cell_type": "code",
      "metadata": {
        "id": "X5gtiC6ebhED",
        "colab_type": "code",
        "colab": {}
      },
      "source": [
        "rec = {}\n",
        "rec['name'] = 'mel'\n",
        "rec['age'] = 40\n",
        "rec['job'] = 'trainer/writer'\n",
        "\n",
        "print rec['name']\n",
        "mel\n",
        " \n"
      ],
      "execution_count": 0,
      "outputs": []
    },
    {
      "cell_type": "code",
      "metadata": {
        "id": "POzVG8I_bhEF",
        "colab_type": "code",
        "colab": {}
      },
      "source": [
        "mel = {'name': 'Mark',\n",
        "'jobs': ['trainer', 'writer'],\n",
        "'web': 'www.rmi.net/~lutz',\n",
        "'home': {'state': 'CO', 'zip':80503}}\n",
        " \n",
        "\n",
        "mel['jobs']\n",
        "['trainer', 'writer']\n",
        "mel['jobs'][1]\n",
        "'writer'\n",
        "mel['home']['zip']\n",
        "80503\n",
        " \n"
      ],
      "execution_count": 0,
      "outputs": []
    },
    {
      "cell_type": "markdown",
      "metadata": {
        "id": "KPC8Tp8abhEG",
        "colab_type": "text"
      },
      "source": [
        "Example: more object nesting"
      ]
    },
    {
      "cell_type": "code",
      "metadata": {
        "id": "ufEOSvy0bhEH",
        "colab_type": "code",
        "colab": {}
      },
      "source": [
        "rec = {'name': {'first': 'Bob', 'last': 'Smith'},\n",
        "'job': ['dev', 'mgr'],\n",
        "'age': 40.5}\n",
        ">>>\n",
        "rec['name']\n",
        "{'last': 'Smith', 'first': 'Bob'}\n",
        "rec['name']['last']\n",
        "'Smith'\n",
        "rec['job'][-1]\n",
        "'mgr'\n",
        " \n",
        "\n",
        "rec['job'].append('janitor')\n",
        "rec\n",
        "{'age': 40.5, 'job': ['dev', 'mgr', 'janitor'], 'name': {'last': 'Smith', 'first': 'Bob'}}\n",
        " \n",
        "\n",
        "db = {}\n",
        "db['bob'] = rec # collecting records into a db\n",
        "db['sue'] =\n",
        " \n",
        "\n",
        " \n",
        "\n",
        "Preview: Bob could be a record in a real database, using shelve or pickle persistence modules: watch for more details on the class and database units. This nested dictionary/list structure is also the genesis of JSON: see Pythons json standard library module for a trivial translation utility, and the Database unit for a simple example.\n",
        " \n"
      ],
      "execution_count": 0,
      "outputs": []
    },
    {
      "cell_type": "markdown",
      "metadata": {
        "id": "uaPxnzN0bhEI",
        "colab_type": "text"
      },
      "source": [
        "Example: dictionary-based sparse matrix"
      ]
    },
    {
      "cell_type": "code",
      "metadata": {
        "id": "StVm5ztwbhEJ",
        "colab_type": "code",
        "colab": {}
      },
      "source": [
        "Matrix = {}\n",
        "Matrix[(2,3,4)] = 88 # tuple key is coordinates\n",
        "Matrix[(7,8,9)] = 99\n",
        " \n",
        "\n",
        "X = 2; Y = 3; Z = 4 # ; separates statements\n",
        "Matrix[(X,Y,Z)]\n",
        "88\n",
        "Matrix\n",
        "{(2, 3, 4): 88, (7, 8, 9): 99}\n",
        " \n",
        "\n",
        "Matrix.get((0, 1, 2), 'Missing')\n",
        "'Missing'\n",
        " \n"
      ],
      "execution_count": 0,
      "outputs": []
    },
    {
      "cell_type": "markdown",
      "metadata": {
        "id": "urbglN2BbhEL",
        "colab_type": "text"
      },
      "source": [
        "###Tuples\n",
        "\n",
        " \n",
        "\n",
        "*     Arrays of object references\n",
        "*     Access by offset\n",
        "*     Fixed length, heterogeneous, arbitrarily nestable\n",
        "*     Category: immutable sequences (cant be changed)\n",
        "*     Ordered collections of arbitrary objects\n",
        " \n",
        "\n",
        "Common tuple operations\n",
        " \n",
        "\n",
        "Operation |\tInterpretation\n",
        "---|---\n",
        "() |\tan empty tuple\n",
        "T1 = (0,) |\ta one-item tuple\n",
        "T2 = (0, 1, 2, 3) |\ta 4-item tuple\n",
        "T2 = 0, 1, 2, 3 |\tanother 4-item tuple\n",
        "T3 = ('abc', ('def', 'ghi')) |\tnested tuples\n",
        "T1[i], t1[i:j], len(t1) |\tindex, slice, length\n",
        "T1 + t2, t2 * 3 |\tconcatenate, repeat\n",
        "for x in t2, 3 in t2 |\titeration/membership\n",
        " \n",
        "\n",
        " \n",
        "\n",
        " \n",
        "\n",
        "Tuples in action"
      ]
    },
    {
      "cell_type": "code",
      "metadata": {
        "id": "-RQx1uHhbhEL",
        "colab_type": "code",
        "colab": {}
      },
      "source": [
        "T1 = (1, 'spam')\n",
        "T2 = (2, 'ni')\n",
        " \n",
        "\n",
        "T1 + T2\n",
        "(1, 'spam', 2, 'ni')\n",
        " \n",
        "\n",
        "T1 * 4\n",
        "(1, 'spam', 1, 'spam', 1, 'spam', 1, 'spam')\n",
        " \n",
        "\n",
        "T2[1]\n",
        "'ni'\n",
        "T2[1:]\n",
        "('ni',)\n",
        " \n"
      ],
      "execution_count": 0,
      "outputs": []
    },
    {
      "cell_type": "markdown",
      "metadata": {
        "id": "u6WvKycsbhEM",
        "colab_type": "text"
      },
      "source": [
        "Why lists and tuples?\n",
        " \n",
        "\n",
        "*      Immutability provides integrity\n",
        "*      Some built-in operations require tuples (argument lists)\n",
        "*      Guido was a mathematician: sets versus data structures\n",
        " \n",
        "\n",
        " \n",
        "\n",
        " \n",
        "\n",
        "###Files\n",
        "\n",
        " \n",
        "\n",
        "*     A wrapper around Cs stdio file system (io module in 3.X)\n",
        "*     The builtin open function returns a file object\n",
        "*     File objects export methods for file operations\n",
        "*     Files are not sequences or mappings (methods only)\n",
        "*     Files are a built-in C extension type\n",
        " \n",
        "\n",
        "About 3.X files: this section covers basic file interfaces. See the Advanced Topics section for coverage of 3.X distinction between text fileswhose content is normal strings, may be passed a Unicode encoding type, and perform automatic Unicode encoding/decoding on input/output; and binary fileswhose content is bytes strings and do not perform Unicode encoding/decoding or line-end translations. In 2.X, normal files are the same as 3.X binary files (8-bit byte data), and the codecs module supports Unicode file encodings like 3.X text files.\n",
        " \n",
        "\n",
        " \n",
        "\n",
        " \n",
        "\n",
        "Common file operations\n",
        " \n",
        "\n",
        "Operation |\tInterpretation\n",
        "---|---\n",
        "O = open('/tmp/spam', 'w') |\tcreate output file\n",
        "I = open('data', 'r') |\tcreate input file\n",
        "I.read(), I.read(1) |\tread file, byte\n",
        "I.readline(), I.readlines() |\tread line, lines list\n",
        "O.write(S), O.writelines(L) |\twrite string, lines\n",
        "O.close() |\tmanual close (or on free)\n",
        " \n",
        "\n",
        " \n",
        "\n",
        " \n",
        "\n",
        "Files in action"
      ]
    },
    {
      "cell_type": "code",
      "metadata": {
        "id": "gmdVIcKIbhEN",
        "colab_type": "code",
        "colab": {}
      },
      "source": [
        "# more at the end of the next section\n",
        " \n"
      ],
      "execution_count": 0,
      "outputs": []
    },
    {
      "cell_type": "code",
      "metadata": {
        "id": "-dKFqY69bhEO",
        "colab_type": "code",
        "colab": {}
      },
      "source": [
        "newfile = open('test.txt', 'w')\n",
        "newfile.write(('spam' * 5) + '\\n')\n",
        "newfile.close()\n",
        " \n",
        "\n",
        "myfile = open('test.txt')\n",
        "text = myfile.read()\n",
        "text\n",
        "'spamspamspamspamspam\\n'\n",
        " \n"
      ],
      "execution_count": 0,
      "outputs": []
    },
    {
      "cell_type": "markdown",
      "metadata": {
        "id": "HyEN6fvKbhEP",
        "colab_type": "text"
      },
      "source": [
        "Related Python tools (day 2 or 3)\n",
        " \n",
        "\n",
        "*      Descriptor based files: os module\n",
        "*      DBM keyed files\n",
        "*      Persistent object shelves\n",
        "*      Pipes, fifos, sockets\n",
        "\n",
        " \n",
        "\n",
        "###General object properties\n",
        "\n",
        " \n",
        "\n",
        " \n",
        "\n",
        "Type categories revisited\n",
        " \n",
        "\n",
        " \n",
        "\n",
        "*      Objects share operations according to their category\n",
        "*      Only mutable objects may be changed in-place\n",
        " \n",
        "\n",
        " \n",
        "\n",
        " \n",
        "\n",
        "Object type |\tCategory |\tMutable?\n",
        "---|---|---\n",
        "Numbers |\tNumeric |\tNo\n",
        "Strings |\tSequence |\tNo\n",
        "Lists |\tSequence |\tYes\n",
        "Dictionaries |\tMapping |\tYes\n",
        "Tuples |\tSequence |\tNo\n",
        "Files |\tExtension |\tn/a\n",
        " \n",
        "\n",
        " \n",
        "\n",
        " \n",
        "\n",
        " \n",
        "\n",
        " \n",
        "\n",
        "Generality\n",
        " \n",
        "\n",
        "*     Lists, dictionaries, and tuples can hold any kind of object\n",
        "*     Lists, dictionaries, and tuples can be arbitrarily nested\n",
        "*     Lists and dictionaries can dynamically grow and shrink\n",
        "\n",
        " \n",
        "\n",
        "Nesting example"
      ]
    },
    {
      "cell_type": "code",
      "metadata": {
        "id": "fLDJGcIxbhEQ",
        "colab_type": "code",
        "colab": {}
      },
      "source": [
        "L = ['abc', [(1, 2), ([3], 4)], 5]\n",
        "L[1][1]\n",
        "([3], 4)\n",
        "L[1][1][0]\n",
        "[3]\n",
        "L[1][1][0][0]\n",
        "3\n",
        "\n",
        " \n"
      ],
      "execution_count": 0,
      "outputs": []
    },
    {
      "cell_type": "markdown",
      "metadata": {
        "id": "xVYQI7yQbhEU",
        "colab_type": "text"
      },
      "source": [
        "Shared references\n",
        " \n",
        "\n",
        "*     Assignments always create references to objects\n",
        "*     Can generate shared references to the same object\n",
        "*     Changing a mutable object impacts all references\n",
        "*     To avoid effect: make copies with X[:], list(X), etc.\n",
        "*     Tip: distinguish between names and objects!\n",
        "►   Names have no \"type\", but objects do"
      ]
    },
    {
      "cell_type": "code",
      "metadata": {
        "id": "0fQFw1WXbhEU",
        "colab_type": "code",
        "colab": {}
      },
      "source": [
        "X = [1, 2, 3]\n",
        "L = ['a', X, 'b']\n",
        "D = {'x':X, 'y':2}\n",
        " \n",
        "\n",
        "X[1] = 'surprise' # changes all 3 references!\n",
        "L\n",
        "['a', [1, 'surprise', 3], 'b']\n",
        "D\n",
        "{'x': [1, 'surprise', 3], 'y': 2}\n",
        " \n"
      ],
      "execution_count": 0,
      "outputs": []
    },
    {
      "cell_type": "markdown",
      "metadata": {
        "id": "fcWIZB15bhEV",
        "colab_type": "text"
      },
      "source": [
        "Equality and truth\n",
        " \n",
        "\n",
        "*     Applied recursively for nested data structures\n",
        "*     is tests identity (object address)\n",
        "*     True: non-zero number or non-empty data structure\n",
        "*     None is a special empty/false object"
      ]
    },
    {
      "cell_type": "code",
      "metadata": {
        "id": "v97LM7kfbhEW",
        "colab_type": "code",
        "colab": {}
      },
      "source": [
        "L1 = [1, ('a', 3)] # same value, unique objects\n",
        "L3 = [1, ('a', 3)]\n",
        "L1 == L3, L1 is L3 # equivalent?, same object?\n",
        "(True, False) # (True==1, False==0)\n",
        " \n"
      ],
      "execution_count": 0,
      "outputs": []
    },
    {
      "cell_type": "markdown",
      "metadata": {
        "id": "xiJy4OD-bhEX",
        "colab_type": "text"
      },
      "source": [
        "Other comparisons\n",
        " \n",
        "\n",
        "*     Applied recursively for nested data structures\n",
        "*     Strings compared lexicographically\n",
        "*     Lists and tuples compared depth-first, left-to-right\n",
        "*     Dictionaries compared by sorted (key, value) lists\n",
        "*     Disctionaries dont compare in 3.X, but their .items() do"
      ]
    },
    {
      "cell_type": "code",
      "metadata": {
        "id": "35ofik7wbhEY",
        "colab_type": "code",
        "colab": {}
      },
      "source": [
        "L1 = [1, ('a', 3)]\n",
        "L2 = [1, ('a', 2)]\n",
        "L1 < L2, L1 == L2, L1 > L2\n",
        "(False, False, True)\n",
        " \n"
      ],
      "execution_count": 0,
      "outputs": []
    },
    {
      "cell_type": "markdown",
      "metadata": {
        "id": "3dbIulWPbhEa",
        "colab_type": "text"
      },
      "source": [
        "###Summary: Pythons type hierarchies\n",
        "\n",
        " \n",
        "\n",
        "*     Everything is an object type in Python: first class\n",
        "*     Types are objects too: type(X) returns type object of X\n",
        "*     Preview: C extension modules and types use same mechanisms as Python types\n",
        " \n",
        "\n",
        " \n",
        "\n",
        " \n",
        "\n",
        " \n",
        "\n",
        "\n",
        " \n",
        "\n",
        " \n",
        "\n",
        " \n",
        "\n",
        " \n",
        "\n",
        "How to break your codes flexibility"
      ]
    },
    {
      "cell_type": "code",
      "metadata": {
        "id": "AcguQFffbhEa",
        "colab_type": "code",
        "colab": {}
      },
      "source": [
        "L = [1, 2, 3]\n",
        "if type(L) == type([]):\n",
        "print 'yes'\n",
        "\n",
        "yes\n",
        "if type(L) == list:\n",
        "print 'yes'\n",
        " \n",
        "\n",
        "yes\n",
        "if isinstance(L, list):\n",
        "print 'yes'\n",
        " \n",
        "\n",
        "yes\n",
        " \n",
        "\n",
        " \n",
        "\n",
        " \n"
      ],
      "execution_count": 0,
      "outputs": []
    },
    {
      "cell_type": "markdown",
      "metadata": {
        "id": "1yIn3mvbbhEb",
        "colab_type": "text"
      },
      "source": [
        "Newer types\n",
        " \n",
        "\n",
        "*      Decimal, fraction (modules): see above\n",
        "*      Boolean (bool, True, False): see next section\n",
        "*      Sets: 2.4 (module in 2.3), 3.X/2.7 literal/comprehension\n",
        "*      Other extension types: namedtuple, collection (std lib)"
      ]
    },
    {
      "cell_type": "code",
      "metadata": {
        "id": "-UwpJY3_bhEc",
        "colab_type": "code",
        "colab": {}
      },
      "source": [
        "True + 2 # bool: True/False like 1/0 (next section)\n",
        "3\n",
        "\n",
        " \n",
        "\n",
        "style='mso-bidi-font-style:normal'>Sets\n",
        "```python\n",
        "x = set('abcde') # set constructor\n",
        "y = set('bdxyz')\n",
        "x\n",
        "set(['a', 'c', 'b', 'e', 'd'])\n",
        " \n",
        "\n",
        "'e' in x # membership\n",
        "True\n",
        " \n",
        "\n",
        "x y # difference\n",
        "set(['a', 'c', 'e'])\n",
        " \n",
        "\n",
        "x | y # union\n",
        "set(['a', 'c', 'b', 'e', 'd', 'y', 'x', 'z'])\n",
        " \n",
        "\n",
        "x & y # intersection\n",
        "set(['b', 'd'])\n",
        " \n",
        "\n",
        " \n",
        "\n",
        "style='mso-bidi-font-style:normal'>In Python 2.7 and 3.X\n",
        "```python\n",
        "C:\\class> py -3\n",
        "x = {'a', 'b', 'c', 'd'} # 3.X set literal\n",
        " \n",
        "\n",
        "{'b', 'd'} < x # subset test\n",
        "True\n",
        " \n",
        "\n",
        "{ord(c) for c in 'spam'} # 3.X set comprehension (ahead)\n",
        "{112, 97, 115, 109}\n",
        " \n",
        "\n",
        "{c: ord(c) for c in 'spam'} # 3.X dict comprehension (ahead)\n",
        "{'m': 109, 'p': 112, 'a': 97, 's': 115}\n",
        " \n",
        "\n",
        " \n",
        "\n",
        " \n",
        "\n",
        "\n",
        " \n",
        "\n",
        "###Built-in type gotchas\n"
      ],
      "execution_count": 0,
      "outputs": []
    },
    {
      "cell_type": "markdown",
      "metadata": {
        "id": "dn_ixgZubhEe",
        "colab_type": "text"
      },
      "source": [
        "*    Assignment creates references, not copies"
      ]
    },
    {
      "cell_type": "code",
      "metadata": {
        "id": "8DqoS90DbhEf",
        "colab_type": "code",
        "colab": {}
      },
      "source": [
        "L = [1, 2, 3]\n",
        "M = ['X', L, 'Y']\n",
        "M\n",
        "['X', [1, 2, 3], 'Y']\n",
        "L[1] = 0\n",
        "M\n",
        "['X', [1, 0, 3], 'Y']\n",
        " \n"
      ],
      "execution_count": 0,
      "outputs": []
    },
    {
      "cell_type": "markdown",
      "metadata": {
        "id": "EG_zeoONbhEh",
        "colab_type": "text"
      },
      "source": [
        "*    Repetition adds 1-level deep"
      ]
    },
    {
      "cell_type": "code",
      "metadata": {
        "id": "9NWYPKTNbhEi",
        "colab_type": "code",
        "colab": {}
      },
      "source": [
        "L = [4, 5, 6]\n",
        "X = L * 4 # like [4, 5, 6] + [4, 5, 6] + ...\n",
        "Y = [L] * 4 # [L] + [L] + ... = [L, L,...]\n",
        "X\n",
        "[4, 5, 6, 4, 5, 6, 4, 5, 6, 4, 5, 6]\n",
        "Y\n",
        "[[4, 5, 6], [4, 5, 6], [4, 5, 6], [4, 5, 6]]\n",
        "L[1] = 0\n",
        "X\n",
        "[4, 5, 6, 4, 5, 6, 4, 5, 6, 4, 5, 6]\n",
        "Y\n",
        "[[4, 0, 6], [4, 0, 6], [4, 0, 6], [4, 0, 6]]\n",
        " \n"
      ],
      "execution_count": 0,
      "outputs": []
    },
    {
      "cell_type": "markdown",
      "metadata": {
        "id": "y1v5dSdMbhEj",
        "colab_type": "text"
      },
      "source": [
        "*    Cyclic structures print oddly (loop in 1.5)"
      ]
    },
    {
      "cell_type": "code",
      "metadata": {
        "id": "uFbhRTxJbhEj",
        "colab_type": "code",
        "colab": {}
      },
      "source": [
        "L = ['hi.']; L.append(L) # append reference to self\n",
        "L # dots=cycle today (no loop)\n",
        " \n"
      ],
      "execution_count": 0,
      "outputs": []
    },
    {
      "cell_type": "markdown",
      "metadata": {
        "id": "flaK7VwIbhEk",
        "colab_type": "text"
      },
      "source": [
        "*    Immutable types cant be changed in-place\n",
        "```python\n",
        "T = (1, 2, 3)\n",
        "T[2] = 4 # error!\n",
        "T = T[:2] + (4,) # okay: (1, 2, 4)\n",
        " \n",
        "\n",
        "```"
      ]
    }
  ]
}