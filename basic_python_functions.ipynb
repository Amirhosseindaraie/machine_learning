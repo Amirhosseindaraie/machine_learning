{
  "nbformat": 4,
  "nbformat_minor": 0,
  "metadata": {
    "colab": {
      "name": "basic_python_functions.ipynb",
      "version": "0.3.2",
      "provenance": [],
      "include_colab_link": true
    },
    "kernelspec": {
      "name": "python3",
      "display_name": "Python 3"
    }
  },
  "cells": [
    {
      "cell_type": "markdown",
      "metadata": {
        "id": "view-in-github",
        "colab_type": "text"
      },
      "source": [
        "<a href=\"https://colab.research.google.com/github/fbeilstein/machine_learning/blob/master/basic_python_functions.ipynb\" target=\"_parent\"><img src=\"https://colab.research.google.com/assets/colab-badge.svg\" alt=\"Open In Colab\"/></a>"
      ]
    },
    {
      "cell_type": "markdown",
      "metadata": {
        "id": "R4ZauU9VxxV6",
        "colab_type": "text"
      },
      "source": [
        "**Input Format**\n",
        "\n",
        "You do not need to read any input in this challenge.\n",
        "\n",
        "**Output Format**\n",
        "\n",
        "Print Hello, World! to stdout.\n",
        "\n",
        "**Sample Output 0**\n",
        "\n",
        "Hello, World!"
      ]
    },
    {
      "cell_type": "code",
      "metadata": {
        "id": "mlHAL1PAsY8_",
        "colab_type": "code",
        "colab": {}
      },
      "source": [
        "print(\"Hello, World!\")"
      ],
      "execution_count": 0,
      "outputs": []
    },
    {
      "cell_type": "markdown",
      "metadata": {
        "id": "CLg3fvW5x2eL",
        "colab_type": "text"
      },
      "source": [
        "\n",
        "# Task \n",
        "\n",
        "Given an integer, , perform the following conditional actions:\n",
        "\n",
        "*   If  is odd, print Weird\n",
        "*   If  is even and in the inclusive range of  to , print Not Weird\n",
        "*   If  is even and in the inclusive range of  to , print Weird\n",
        "*   If  is even and greater than , print Not Weird\n",
        "\n",
        "**Input Format**\n",
        "\n",
        "A single line containing a positive integer, .\n",
        "\n",
        "**Constraints**\n",
        "\n",
        "**Output Format**\n",
        "\n",
        "Print Weird if the number is weird; otherwise, print Not Weird.\n",
        "\n",
        "**Sample Input 0**\n",
        "\n",
        "3\n",
        "\n",
        "**Sample Output 0**\n",
        "\n",
        "Weird\n",
        "\n",
        "**Explanation 0**\n",
        "\n",
        " \n",
        " is odd and odd numbers are weird, so we print Weird.\n",
        "\n",
        "**Sample Input 1**\n",
        "\n",
        "24\n",
        "\n",
        "**Sample Output 1**\n",
        "\n",
        "Not Weird\n",
        "\n",
        "**Explanation 1**\n",
        "\n",
        " \n",
        " and  is even, so it isn't weird. Thus, we print Not Weird."
      ]
    }
  ]
}