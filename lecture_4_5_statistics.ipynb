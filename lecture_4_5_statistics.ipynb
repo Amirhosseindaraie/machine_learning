{
  "nbformat": 4,
  "nbformat_minor": 0,
  "metadata": {
    "colab": {
      "name": "lecture_4.5_statistics.ipynb",
      "version": "0.3.2",
      "provenance": [],
      "include_colab_link": true
    },
    "kernelspec": {
      "name": "python3",
      "display_name": "Python 3"
    }
  },
  "cells": [
    {
      "cell_type": "markdown",
      "metadata": {
        "id": "view-in-github",
        "colab_type": "text"
      },
      "source": [
        "<a href=\"https://colab.research.google.com/github/fbeilstein/machine_learning/blob/master/lecture_4_5_statistics.ipynb\" target=\"_parent\"><img src=\"https://colab.research.google.com/assets/colab-badge.svg\" alt=\"Open In Colab\"/></a>"
      ]
    },
    {
      "cell_type": "markdown",
      "metadata": {
        "colab_type": "text",
        "id": "4OpPDyT3B0MB"
      },
      "source": [
        "#Types of data"
      ]
    },
    {
      "cell_type": "markdown",
      "metadata": {
        "colab_type": "text",
        "id": "sFcoXfVyB0L6"
      },
      "source": [
        "Datatypes are an important concept because statistical methods can only be used with certain data types. You have to analyze continuous data differently than categorical data otherwise it would result in a wrong analysis. Therefore knowing the types of data you are dealing with, enables you to choose the correct method of analysis.\n",
        "\n",
        "![](https://raw.githubusercontent.com/fbeilstein/machine_learning/master/lecture_45_statistics/1_dvvxoZTdewLFs3RyZTJreA.png)\n",
        "**Categorical(qualitive) Data**\n",
        "\n",
        "Categorical data represents characteristics. Therefore it can represent things like a person’s gender, language etc. Categorical data can also take on numerical values (Example: 1 for female and 0 for male). Note that those numbers don’t have mathematical meaning.\n",
        "\n",
        "**Nominal(unordered) Data**\n",
        "\n",
        "Nominal values represent discrete units and are used to label variables, that have no quantitative value. Just think of them as „labels“. Note that nominal data that has no order. Therefore if you would change the order of its values, the meaning would not change. You can see two examples of nominal features below:\n",
        "\n",
        "**Ordinal(ordered) Data**\n",
        "\n",
        "Ordinal data represents characteristics that do have some kind of implicit or natural order, such as \"Short, Medium, or Tall.\"  Another example is a survey question that asks us to rate an item on a 1 to 10 scale, with 10 being the best. This implies that 10 is better than 9, which is better than 8, and so on. \n",
        "\n",
        "Advanced note: The best way to determine central tendency on a set of ordinal data is to use the mode or median; a purist will tell you that the mean cannot be defined from an ordinal set.\n",
        "\n",
        "**Numerical(quantative) Data**\n",
        "Numerical data can be discrete or continuos.\n",
        "\n",
        "**Interval Data**\n",
        "\n",
        "IInterval scales are numeric scales in which we know both the order and the exact differences between the values.  The classic example of an interval scale is Celsius temperature because the difference between each value is the same.  For example, the difference between 60 and 50 degrees is a measurable 10 degrees, as is the difference between 80 and 70 degrees.\n",
        "\n",
        "Interval scales are nice because the realm of statistical analysis on these data sets opens up.  For example, central tendency can be measured by mode, median, or mean; standard deviation can also be calculated.\n",
        "\n",
        "Like the others, you can remember the key points of an “interval scale” pretty easily. “Interval” itself means “space in between,” which is the important thing to remember–interval scales not only tell us about order, but also about the value between each item.\n",
        "\n",
        "Here’s the problem with interval scales: they don’t have a “true zero.”  For example, there is no such thing as “no temperature,” at least not with celsius.  In the case of interval scales, zero doesn’t mean the absence of value, but is actually another number used on the scale, like 0 degrees celsius.  Negative numbers also have meaning.  Without a true zero, it is impossible to compute ratios.  With interval data, we can add and subtract, but cannot multiply or divide.\n",
        "\n",
        "Confused?  Ok, consider this: 10 degrees C + 10 degrees C = 20 degrees C.  No problem there.  20 degrees C is not twice as hot as 10 degrees C, however, because there is no such thing as “no temperature” when it comes to the Celsius scale.  When converted to Fahrenheit, it’s clear: 10C=50F and 20C=68F, which is clearly not twice as hot.\n",
        "\n",
        "\n",
        "**Ratio Data**\n",
        "\n",
        "Ratio values are also ordered units that have the same difference. Ratio values are the same as interval values, with the difference that they do have an absolute zero. Good examples are height, weight, length etc.\n",
        "\n",
        "![](https://raw.githubusercontent.com/fbeilstein/machine_learning/master/lecture_45_statistics/summary-of-data-types-and-scales.png)"
      ]
    },
    {
      "cell_type": "markdown",
      "metadata": {
        "id": "qxRqNcw5B3ip",
        "colab_type": "text"
      },
      "source": [
        "#Population and sample"
      ]
    },
    {
      "cell_type": "markdown",
      "metadata": {
        "id": "gVIhndlx-BvZ",
        "colab_type": "text"
      },
      "source": [
        "The key concept of statistics are the concepts of population and sample.\n",
        "\n",
        "In statistics, a *population* is a set of similar items or events which is of interest for some question or experiment. A statistical population can be a group of existing objects (e.g. the set of all stars within the Milky Way galaxy) or a hypothetical and potentially infinite group of objects conceived as a generalization from experience (e.g. the set of all possible hands in a game of poker). A common aim of statistical analysis is to produce information about some chosen population.\n",
        "\n",
        "In statistics and quantitative research methodology, a data *sample* is a set of data collected from a statistical population by a defined procedure.\n",
        "\n",
        "*Sampling* is the selection of a subset (a statistical sample) of individuals from within a statistical population to estimate characteristics of the whole population.\n",
        "\n"
      ]
    },
    {
      "cell_type": "markdown",
      "metadata": {
        "id": "GfSAawIfWoBX",
        "colab_type": "text"
      },
      "source": [
        "##Iid - sampling probability distribution"
      ]
    },
    {
      "cell_type": "markdown",
      "metadata": {
        "id": "6cYYC6diWrlS",
        "colab_type": "text"
      },
      "source": [
        "There is another way to look at population and sampling. Suppose we have a random variable with some probability distribution. Suppose we we get $n$ realizations of this random variable.\n",
        "For example, you measure some physical quantity say voltage $n$ times to get an accurate result free of random error.\n",
        "You can look at it as if you have a collection of $n$ random variables that are independent and identically distributed. That means that each random variable has the same probability distribution as the others and all are mutually independent. This property is usually abbreviated as i.i.d. or iid or IID. Herein, i.i.d. is used, because it is the most prevalent.\n",
        "The following are examples or applications of i.i.d. random variables:\n",
        "* A sequence of outcomes of spins of a fair or unfair roulette wheel is i.i.d. One implication of this is that if the roulette ball lands on \"red\", for example, 20 times in a row, the next spin is no more or less likely to be \"black\" than on any other spin (see the Gambler's fallacy).\n",
        "* A sequence of fair or loaded dice rolls is i.i.d.\n",
        "* A sequence of fair or unfair coin flips is i.i.d."
      ]
    },
    {
      "cell_type": "markdown",
      "metadata": {
        "id": "aEstHOdZBVEZ",
        "colab_type": "text"
      },
      "source": [
        "#Statistics and estimators"
      ]
    },
    {
      "cell_type": "markdown",
      "metadata": {
        "id": "pr3vw_iDaAdm",
        "colab_type": "text"
      },
      "source": [
        "Statistic is any function of a sample. \n",
        "Say if you have a sample $\\{2,6,3\\}$ and you add these numbers up you get a statistic (\"sum\" function).\n",
        "Statistics are use for two things\n",
        "* quatify some property of the sample (for example its range or central tendency). That's useful if you want to get a quick grasp of the sample expressed in just a few numbers. Such statistics are frequently called measures;\n",
        "* estimate parameters of the population or distribution we sample (for example $\\sigma$ and $\\mu$ in Gaussian distribution). These are called estimators. \n",
        "\n",
        "So, estimators are special types statistics that approximate the parameters of our population (or parameters of distribution in the iid setup). In our example \"sum\"-statistic is not a useful estimator: if you get larger sample (with 10 entries) the sum will probably be larger. On the contrary if you divide the sum by the number of entries in the sample you do obtain meaningful estimator that characterizes central tendecy of the population."
      ]
    },
    {
      "cell_type": "markdown",
      "metadata": {
        "id": "vfyJsuXbrvzi",
        "colab_type": "text"
      },
      "source": [
        "##Central tendency estimators\n",
        "A statistic (singular) or sample statistic is any quantity computed from values in a sample.\n",
        "In statistics, there is an important distinction between a statistic and a parameter. \"Parameter\" refers to any characteristic of a population under study. When it is not possible or practical to directly measure the value of a population parameter, statistical methods are used to infer the likely value of the parameter on the basis of a statistic computed from a sample taken from the population. When a statistic is used to estimate a population parameter, is called an estimator.\n",
        "\n",
        "If we could get the entire population we could describe its tendencies. Usually we have only a small sample. That's why we have only *estimators* for population tendencies such as\n",
        "\n",
        "* sample mean - the sum of all measurements divided by the number of observations in the data set.\n",
        "\n",
        "$$\n",
        "\\bar{x}=\\frac{\\sum_{i=1}^Nx_i}{N}\n",
        "$$\n",
        "* sample median - the middle value that separates the higher half from the lower half of the data set. The median and the mode are the only measures of central tendency that can be used for ordinal data, in which values are ranked relative to each other but are not measured absolutely.\n",
        "* sample mode - the most frequent value in the data set. This is the only central tendency measure that can be used with nominal data, which have purely qualitative category assignments.\n",
        "\n"
      ]
    },
    {
      "cell_type": "code",
      "metadata": {
        "id": "D_USB-IB3MOa",
        "colab_type": "code",
        "outputId": "e3b819eb-68f5-4c2c-8e5c-ed4b740af2f5",
        "colab": {
          "base_uri": "https://localhost:8080/",
          "height": 68
        }
      },
      "source": [
        "\n",
        "import statistics\n",
        "data=[1,1,1,3,4,5,6,8]\n",
        "print(\"sample mean = \", statistics.mean(data))\n",
        "print(\"sample median = \", statistics.median(data))\n",
        "print(\"sample mode = \", statistics.mode(data))"
      ],
      "execution_count": 0,
      "outputs": [
        {
          "output_type": "stream",
          "text": [
            "sample mean =  3.625\n",
            "sample median =  3.5\n",
            "sample mode =  1\n"
          ],
          "name": "stdout"
        }
      ]
    },
    {
      "cell_type": "markdown",
      "metadata": {
        "id": "0oBMQkx0a2X-",
        "colab_type": "text"
      },
      "source": [
        "##Variability (range) statistics (estimators)"
      ]
    },
    {
      "cell_type": "markdown",
      "metadata": {
        "id": "8geUYRMt4Wfy",
        "colab_type": "text"
      },
      "source": [
        "It's useful to measure how spread out are the numbers in the sample. \n",
        "Here are common variability measures:\n",
        "* variance\n",
        "* std\n",
        "* range\n",
        "* interquartile range (IQR)\n",
        "\n",
        "You also want to estimate the spread in the population.\n",
        "\n",
        "\n",
        "\n"
      ]
    },
    {
      "cell_type": "markdown",
      "metadata": {
        "id": "36OL_GIrTKcG",
        "colab_type": "text"
      },
      "source": [
        "##Percentiles and interquantile range (IQR)"
      ]
    },
    {
      "cell_type": "markdown",
      "metadata": {
        "id": "9f6dJsahS7R4",
        "colab_type": "text"
      },
      "source": [
        "A percentile (or a centile) is a measure used in statistics indicating the value below which a given percentage of observations in a group of observations falls. For example, the 20th percentile is the value (or score) below which 20% of the observations may be found."
      ]
    },
    {
      "cell_type": "code",
      "metadata": {
        "id": "DpMQDbQhTH4w",
        "colab_type": "code",
        "outputId": "ea5ebf8d-77ba-4f0c-b3cd-54fde661b312",
        "colab": {
          "base_uri": "https://localhost:8080/",
          "height": 85
        }
      },
      "source": [
        "import numpy as np \n",
        "    \n",
        "arr = [20, 2, 7, 1, 34] \n",
        "print(\"arr : \", arr)  \n",
        "print(\"50th percentile : \",  \n",
        "       np.percentile(arr, 50)) \n",
        "print(\"25th percentile : \", \n",
        "       np.percentile(arr, 25)) \n",
        "print(\"75th percentile : \", \n",
        "       np.percentile(arr, 75)) "
      ],
      "execution_count": 0,
      "outputs": [
        {
          "output_type": "stream",
          "text": [
            "arr :  [20, 2, 7, 1, 34]\n",
            "50th percentile of arr :  7.0\n",
            "25th percentile of arr :  2.0\n",
            "75th percentile of arr :  20.0\n"
          ],
          "name": "stdout"
        }
      ]
    },
    {
      "cell_type": "markdown",
      "metadata": {
        "id": "BF_AHq_mycAE",
        "colab_type": "text"
      },
      "source": [
        "Quantile are useful cause they help us to deal with the ouliers. Empirically, if the data being analyzed are not actually distributed according to an assumed distribution, or if there are other potential sources for outliers that are far removed from the mean, then quantiles may be more useful descriptive statistics than means and other moment-related statistics.\n",
        "The interquartile range (IQR), also called the midspread or middle 50%, or technically H-spread, is a measure of statistical dispersion, being equal to the difference between 75th and 25th percentiles, or between upper and lower quartiles, IQR = Q3 −  Q1."
      ]
    },
    {
      "cell_type": "code",
      "metadata": {
        "id": "gicI_aGkzAHJ",
        "colab_type": "code",
        "outputId": "6a11cddf-f82f-4bf0-cdde-9dff5eee33f8",
        "colab": {
          "base_uri": "https://localhost:8080/",
          "height": 34
        }
      },
      "source": [
        "import numpy as np \n",
        "    \n",
        "sample = [2,3,4, 2, 7, 1, 34] \n",
        "print(\"IQR = \", np.percentile(sample, 75)-np.percentile(sample, 25)) "
      ],
      "execution_count": 0,
      "outputs": [
        {
          "output_type": "stream",
          "text": [
            "IQR =  3.5\n"
          ],
          "name": "stdout"
        }
      ]
    },
    {
      "cell_type": "markdown",
      "metadata": {
        "id": "NDodpggT0MCx",
        "colab_type": "text"
      },
      "source": [
        "##Range"
      ]
    },
    {
      "cell_type": "markdown",
      "metadata": {
        "id": "ynIj_jK3yzvJ",
        "colab_type": "text"
      },
      "source": [
        "Another statistics that measures spread of the data is the range.\n",
        "The range of a set of data is the difference between the largest and smallest values."
      ]
    },
    {
      "cell_type": "code",
      "metadata": {
        "id": "QCA7Iv6ozYx5",
        "colab_type": "code",
        "outputId": "7688aa73-6bc5-4a24-ba77-9d543bbfd8c1",
        "colab": {
          "base_uri": "https://localhost:8080/",
          "height": 34
        }
      },
      "source": [
        "import numpy as np \n",
        "    \n",
        "sample = [2,3,4, 2, 7, 1, 34] \n",
        "print(\"range = \", max(sample)-min(sample))  \n"
      ],
      "execution_count": 0,
      "outputs": [
        {
          "output_type": "stream",
          "text": [
            "range =  33\n"
          ],
          "name": "stdout"
        }
      ]
    },
    {
      "cell_type": "markdown",
      "metadata": {
        "id": "A-rP-3JtKpEh",
        "colab_type": "text"
      },
      "source": [
        "Box plot or boxplot is a method for graphically depicting groups of numerical data through their quartiles. Box plots may also have lines extending vertically from the boxes (whiskers) indicating variability outside the upper and lower quartiles, hence the terms box-and-whisker plot and box-and-whisker diagram. Outliers may be plotted as individual points. "
      ]
    },
    {
      "cell_type": "code",
      "metadata": {
        "id": "eNAMQZp0Jguf",
        "colab_type": "code",
        "outputId": "64168a94-9df6-4933-ecbe-f2573c5344b1",
        "colab": {
          "base_uri": "https://localhost:8080/",
          "height": 405
        }
      },
      "source": [
        "import numpy as np\n",
        "import matplotlib.pyplot as plt\n",
        "\n",
        "data = [1,2,3,4,5,6,15]\n",
        "fig1, ax1 = plt.subplots()\n",
        "ax1.boxplot(data)\n"
      ],
      "execution_count": 0,
      "outputs": [
        {
          "output_type": "execute_result",
          "data": {
            "text/plain": [
              "{'boxes': [<matplotlib.lines.Line2D at 0x7f77799a10b8>],\n",
              " 'caps': [<matplotlib.lines.Line2D at 0x7f77799a18d0>,\n",
              "  <matplotlib.lines.Line2D at 0x7f77799a1c18>],\n",
              " 'fliers': [<matplotlib.lines.Line2D at 0x7f77799aa2e8>],\n",
              " 'means': [],\n",
              " 'medians': [<matplotlib.lines.Line2D at 0x7f77799a1f60>],\n",
              " 'whiskers': [<matplotlib.lines.Line2D at 0x7f77799a1208>,\n",
              "  <matplotlib.lines.Line2D at 0x7f77799a1588>]}"
            ]
          },
          "metadata": {
            "tags": []
          },
          "execution_count": 11
        },
        {
          "output_type": "display_data",
          "data": {
            "image/png": "[encoded data removed]",
            "text/plain": [
              "<Figure size 432x288 with 1 Axes>"
            ]
          },
          "metadata": {
            "tags": []
          }
        }
      ]
    },
    {
      "cell_type": "markdown",
      "metadata": {
        "id": "j_MWE5sDVdYo",
        "colab_type": "text"
      },
      "source": [
        "Range belongs to L-statistic is a statistic (function of a data set) that is a linear combination of order statistics; the \"L\" is for \"linear\".\n",
        "The $k$-th order statistic of a statistical sample is equal to its $k$th-smallest value.\n",
        "$Min$ is $1$-st order statistics and $max$ is the $n$-th order statistics. Median is order statistics only for samples with odd number of elements.\n"
      ]
    },
    {
      "cell_type": "markdown",
      "metadata": {
        "id": "GLyFambWa0cf",
        "colab_type": "text"
      },
      "source": [
        "##Variance estimators"
      ]
    },
    {
      "cell_type": "markdown",
      "metadata": {
        "id": "H5tMRUa_arQh",
        "colab_type": "text"
      },
      "source": [
        "The formula for the population variance is\n",
        "$$\n",
        "v_{population}=\\frac{\\sum_{i=1}^N(x_i-\\bar{x})^2}{N}\n",
        "$$\n",
        "\n",
        "The formula for the sample variance is a little bit different though\n",
        "$$\n",
        "v_{unbiased}=\\frac{\\sum_{i=1}^N(x_i-\\bar{x})^2}{N-1}\n",
        "$$\n",
        "\n",
        "\n",
        "Have you ever asked why you have $N-1$ in the denominator and not $N$?\n",
        "Actually there are two versions of sample variances: biased (uncorrected) and unbiased (corrected)\n",
        "\n",
        "$$\n",
        "v_{biased}=\\frac{\\sum_{i=1}^N(x_i-\\bar{x})^2}{N}\n",
        "$$\n",
        "and the corrected (unbiased) one that we denoted as $v$.\n",
        "We see that that\n",
        "$$\n",
        "v_{unbiased}=v_{biased}\\underbrace{\\frac{N}{N-1}}_{\\text{Bessel's} \\\\ \\text{correction}}\n",
        "$$.\n",
        "\n",
        "In statistics, the bias (or bias function) of an estimator is the difference between this estimator's expected value and the true value (when sample $=$ entire population) of the parameter being estimated. An estimator or decision rule with zero bias is called unbiased. "
      ]
    },
    {
      "cell_type": "code",
      "metadata": {
        "id": "hjozTwN04fZN",
        "colab_type": "code",
        "outputId": "aff85416-666a-4d97-dece-76e775bfae14",
        "colab": {
          "base_uri": "https://localhost:8080/",
          "height": 51
        }
      },
      "source": [
        "import statistics\n",
        "data=[1,1,1,3,4,5,6,8]\n",
        "print(\"sample standard deviation = \", statistics.stdev(data))\n",
        "print(\"unbiased sample variance = \", statistics.pvariance(data))"
      ],
      "execution_count": 0,
      "outputs": [
        {
          "output_type": "stream",
          "text": [
            "sample standard deviation =  2.615202805574687\n",
            "unbiased sample variance =  5.984375\n"
          ],
          "name": "stdout"
        }
      ]
    },
    {
      "cell_type": "markdown",
      "metadata": {
        "id": "br7i4DVavL2R",
        "colab_type": "text"
      },
      "source": [
        "If we average unbiased variances for samples of any size we get the variance of entire population."
      ]
    },
    {
      "cell_type": "code",
      "metadata": {
        "id": "dyMQgy3RvNKg",
        "colab_type": "code",
        "outputId": "f603541b-07e3-480a-e33c-a67b87a0f01e",
        "colab": {
          "base_uri": "https://localhost:8080/",
          "height": 313
        }
      },
      "source": [
        "import itertools\n",
        "import statistics\n",
        "import numpy as np\n",
        "\n",
        "from itertools import chain, combinations\n",
        "import matplotlib.pyplot as plt\n",
        "\n",
        "N=5\n",
        "population=[1,3,4,5,6,8]\n",
        "P=len(population)\n",
        "samples = list(itertools.product(population,repeat=N))\n",
        "variances = list(map(statistics.variance, samples))\n",
        "mean_unbiased_variance=statistics.mean(variances)\n",
        "print(\"mean of unbiased variances = \", mean_unbiased_variance)\n",
        "biased_variances = [i *(N-1)/(N) for i in variances]\n",
        "mean_biased_variance=statistics.mean(biased_variances)\n",
        "print(\"mean of biased variances = \", mean_biased_variance)\n",
        "print(\"population variance = \", statistics.pvariance(population))\n",
        "\n",
        "plt.style.use('seaborn-white')\n",
        "plt.hist(variances, bins=25);\n",
        "plt.hist(biased_variances, bins=25);"
      ],
      "execution_count": 0,
      "outputs": [
        {
          "output_type": "stream",
          "text": [
            "mean of unbiased variances =  4.916666666666667\n",
            "mean of biased variances =  3.933333333333333\n",
            "population variance =  4.916666666666667\n"
          ],
          "name": "stdout"
        },
        {
          "output_type": "display_data",
          "data": {
            "image/png": "[encoded data removed]",
            "text/plain": [
              "<Figure size 432x288 with 1 Axes>"
            ]
          },
          "metadata": {
            "tags": []
          }
        }
      ]
    },
    {
      "cell_type": "markdown",
      "metadata": {
        "id": "LiMuVP9RU4Zc",
        "colab_type": "text"
      },
      "source": [
        "Note that we have considered unbiased estimator for variance. But if we take square root of it we would not get the unbiased estimator for std. That's because when we calculate sample std we take square root of sample average. \n",
        "\n",
        "$$\n",
        "\\mathbb{E}[f(sample)]\\neq f(\\mathbb{E[sample]})\n",
        "$$\n",
        "\n",
        "when $f$ is nonlinear.\n",
        "Here $f$ is applied for each entry in the sample ($f=\\sqrt{\\cdot}$ for std).\n",
        "In fact it is not possible to find an estimate of the standard deviation which is unbiased for all population distributions, as the bias depends on the particular distribution.\n",
        "\n",
        "Although unbiased estimators are preferable, there are others properties of estimators that can be handy:consistent estimator - estimator converges in probability to the true value when the size of the sample increases, MSE estimator - estimator minimizes Mean square error between the true value."
      ]
    },
    {
      "cell_type": "markdown",
      "metadata": {
        "id": "mJcP6rnj1TLP",
        "colab_type": "text"
      },
      "source": [
        "#Covariance and correlation"
      ]
    },
    {
      "cell_type": "markdown",
      "metadata": {
        "id": "YQr5AqTr1WIk",
        "colab_type": "text"
      },
      "source": [
        "Suppose you have two arrays of numbers that are samples of two populations.\n",
        "Covariance is a measure of the relationship between two random variables. The metric evaluates how much – to what extent – the variables change together.\n",
        "\n",
        "$$\n",
        "\\sigma(x,y)=\\frac{1}{N-1}\\sum_{i=1}^N(x_i-\\bar{x})(y_i-\\bar{y})\n",
        "$$\n",
        "\n",
        "Correlation also measures the strength of the relationship between variables. Correlation is the scaled measure of covariance. It is dimensionless. In other words, the correlation coefficient is always a pure value and not measured in any units.\n",
        "\n",
        "$$\n",
        "\\rho(x,y)=\\frac{\\sigma(x,y)}{\\sigma_x \\sigma_y}\n",
        "$$\n",
        "\n",
        "Correlation coefficient is also known as Pearson correlation coefficient (PCC).\n",
        "\n",
        "\n",
        "Function ```corrcoef``` from  ```numpy``` gives matrix\n",
        "\n",
        "$$\n",
        "\\begin{pmatrix}\n",
        "\\rho(x,x)=1 & \\rho(x,y) \\\\\n",
        "\\rho(y,x) & \\rho(y,y)=1 \n",
        "\\end{pmatrix}\n",
        "$$"
      ]
    },
    {
      "cell_type": "code",
      "metadata": {
        "id": "BP9OOKQU__xo",
        "colab_type": "code",
        "outputId": "fd072652-21a0-4870-c8ec-d716b205d918",
        "colab": {
          "base_uri": "https://localhost:8080/",
          "height": 51
        }
      },
      "source": [
        "import numpy as np\n",
        "x = [-2.1, -1,  4.3]\n",
        "y = [3,  1.1,  0.12]\n",
        "np.corrcoef(x, y)"
      ],
      "execution_count": 0,
      "outputs": [
        {
          "output_type": "execute_result",
          "data": {
            "text/plain": [
              "array([[ 1.        , -0.85535781],\n",
              "       [-0.85535781,  1.        ]])"
            ]
          },
          "metadata": {
            "tags": []
          },
          "execution_count": 4
        }
      ]
    },
    {
      "cell_type": "markdown",
      "metadata": {
        "id": "Vd5rIfBsBlQS",
        "colab_type": "text"
      },
      "source": [
        "#Data visualization and infographics"
      ]
    },
    {
      "cell_type": "markdown",
      "metadata": {
        "id": "fJ5--L3qfo5-",
        "colab_type": "text"
      },
      "source": [
        "Data visualization is the graphic representation of data. To communicate information clearly and efficiently, data visualization uses statistical graphics, plots, information graphics and other tools. Data visualization is both an art and a science(a branch of descriptive statistics)\n",
        ". \n",
        "In his 1983 book The Visual Display of Quantitative Information, Edward Tufte defines 'graphical displays' and principles for effective graphical display in the following passage: \"Excellence in statistical graphics consists of complex ideas communicated with clarity, precision and efficiency. Graphical displays should:\n",
        "* show the data;\n",
        "* induce the viewer to think about the substance rather than about methodology, graphic design, the technology of graphic production or something else;\n",
        "* avoid distorting what the data has to say;\n",
        "* present many numbers in a small space;\n",
        "* make large data sets coherent;\n",
        "* encourage the eye to compare different pieces of data;\n",
        "* reveal the data at several levels of detail, from a broad overview to the fine structure;\n",
        "* serve a reasonably clear purpose: description, exploration, tabulation or decoration;\n",
        "* be closely integrated with the statistical and verbal descriptions of a data set.\n",
        "\n",
        "\n",
        "We have a wide range of standard tools for data presentation:\n",
        "* histograms\n",
        "* pie-charts\n",
        "* bar charts\n",
        "* scatter plots..."
      ]
    },
    {
      "cell_type": "markdown",
      "metadata": {
        "id": "vAVIgj5LiqPc",
        "colab_type": "text"
      },
      "source": [
        "##Histograms"
      ]
    },
    {
      "cell_type": "markdown",
      "metadata": {
        "id": "xAYzyF0bitKb",
        "colab_type": "text"
      },
      "source": [
        "A histogram is an accurate representation of the distribution of numerical data. It is an estimate of the probability distribution of a continuous variable. "
      ]
    },
    {
      "cell_type": "code",
      "metadata": {
        "id": "gj_XuSC5fsEx",
        "colab_type": "code",
        "colab": {
          "base_uri": "https://localhost:8080/",
          "height": 269
        },
        "outputId": "474ca2f3-3714-49d4-fee3-41d5203d5adf"
      },
      "source": [
        "import numpy as np\n",
        "import matplotlib.mlab as mlab\n",
        "import matplotlib.pyplot as plt\n",
        "\n",
        "x = [21,22,23,4,5,6,77,8,9,10,31,32,33,34,35,36,37,18,49,50,100]\n",
        "num_bins = 5\n",
        "n, bins, patches = plt.hist(x, num_bins, facecolor='blue', alpha=0.5)\n",
        "plt.show()"
      ],
      "execution_count": 1,
      "outputs": [
        {
          "output_type": "display_data",
          "data": {
            "image/png": "[encoded data removed]",
            "text/plain": [
              "<Figure size 432x288 with 1 Axes>"
            ]
          },
          "metadata": {
            "tags": []
          }
        }
      ]
    },
    {
      "cell_type": "markdown",
      "metadata": {
        "id": "cG8sN3wyjKjR",
        "colab_type": "text"
      },
      "source": [
        "##Pie charts"
      ]
    },
    {
      "cell_type": "markdown",
      "metadata": {
        "id": "jh-nDF7ji0A_",
        "colab_type": "text"
      },
      "source": [
        "Pie charts (2D and 3D) are very widely used in the business world and the mass media. However, they have been criticized, and many experts recommend avoiding them, pointing out that research has shown it is difficult to compare different sections of a given pie chart, or to compare data across different pie charts. Pie charts can be replaced in most cases by other plots such as the bar chart, box plot, dot plot, etc."
      ]
    },
    {
      "cell_type": "code",
      "metadata": {
        "id": "MYVtwm4qf668",
        "colab_type": "code",
        "colab": {
          "base_uri": "https://localhost:8080/",
          "height": 256
        },
        "outputId": "3f16f0f5-64f4-4c57-ec5f-c3e2b4399496"
      },
      "source": [
        "import matplotlib.pyplot as plt\n",
        "\n",
        "# Data to plot\n",
        "labels = 'Python', 'C++', 'Ruby', 'Java'\n",
        "sizes = [215, 130, 245, 210]\n",
        "colors = ['gold', 'yellowgreen', 'lightcoral', 'lightskyblue']\n",
        "explode = (0.1, 0, 0, 0)  # explode 1st slice\n",
        "\n",
        "# Plot\n",
        "plt.pie(sizes, explode=explode, labels=labels, colors=colors,\n",
        "autopct='%1.1f%%', shadow=True, startangle=140)\n",
        "\n",
        "plt.axis('equal')\n",
        "plt.show()"
      ],
      "execution_count": 2,
      "outputs": [
        {
          "output_type": "display_data",
          "data": {
            "image/png": "[encoded data removed]",
            "text/plain": [
              "<Figure size 432x288 with 1 Axes>"
            ]
          },
          "metadata": {
            "tags": []
          }
        }
      ]
    },
    {
      "cell_type": "markdown",
      "metadata": {
        "id": "Ecyfr-rVl2Zs",
        "colab_type": "text"
      },
      "source": [
        "Here are few early examples of the pie-charts\n",
        "![](https://raw.githubusercontent.com/fbeilstein/machine_learning/master/lecture_45_statistics/Playfair_piecharts.jpg)\n",
        "\n",
        "![](https://raw.githubusercontent.com/fbeilstein/machine_learning/master/lecture_45_statistics/800px-Minard-carte-viande-1858.png)\n",
        "\n",
        "![](https://raw.githubusercontent.com/fbeilstein/machine_learning/master/lecture_45_statistics/1280px-Nightingale-mortality.jpg)\n"
      ]
    },
    {
      "cell_type": "markdown",
      "metadata": {
        "id": "MsVqg-kAjX1c",
        "colab_type": "text"
      },
      "source": [
        "##Bar charts"
      ]
    },
    {
      "cell_type": "code",
      "metadata": {
        "id": "B6lXl_p7gr5m",
        "colab_type": "code",
        "colab": {
          "base_uri": "https://localhost:8080/",
          "height": 472
        },
        "outputId": "1af3c24d-1a8d-4a05-cb21-91082c71f100"
      },
      "source": [
        "import matplotlib.pyplot as plt; plt.rcdefaults()\n",
        "import numpy as np\n",
        "import matplotlib.pyplot as plt\n",
        "\n",
        "objects = ('Python', 'C++', 'Java', 'Perl', 'Scala', 'Lisp')\n",
        "y_pos = np.arange(len(objects))\n",
        "performance = [10,8,6,4,2,1]\n",
        "\n",
        "plt.barh(y_pos, performance, align='center', alpha=0.5)\n",
        "plt.yticks(y_pos, objects)\n",
        "plt.xlabel('Usage')\n",
        "plt.title('Programming language usage')\n",
        "\n",
        "plt.show()"
      ],
      "execution_count": 3,
      "outputs": [
        {
          "output_type": "display_data",
          "data": {
            "image/png": "[encoded data removed]",
            "text/plain": [
              "<Figure size 640x480 with 1 Axes>"
            ]
          },
          "metadata": {
            "tags": []
          }
        }
      ]
    },
    {
      "cell_type": "markdown",
      "metadata": {
        "id": "USZxUcmkjbNy",
        "colab_type": "text"
      },
      "source": [
        "##Scatter plot"
      ]
    },
    {
      "cell_type": "code",
      "metadata": {
        "id": "bgg4XO1ih_9T",
        "colab_type": "code",
        "colab": {
          "base_uri": "https://localhost:8080/",
          "height": 433
        },
        "outputId": "670bfe4b-7636-4de9-93b4-340e9a068a84"
      },
      "source": [
        "import numpy\n",
        "import matplotlib.pyplot as plt\n",
        "x=numpy.random.randint(0,100,size=25)\n",
        "y=numpy.random.randint(0,100,size=25)\n",
        "z=numpy.random.rand(25)\n",
        "plt.scatter(x, y, c=z, s=100, cmap=plt.cm.cool, edgecolors='None', alpha=0.75)\n",
        "plt.colorbar()\n",
        "plt.show()"
      ],
      "execution_count": 8,
      "outputs": [
        {
          "output_type": "display_data",
          "data": {
            "image/png": "[encoded data removed]",
            "text/plain": [
              "<Figure size 640x480 with 2 Axes>"
            ]
          },
          "metadata": {
            "tags": []
          }
        }
      ]
    },
    {
      "cell_type": "markdown",
      "metadata": {
        "id": "6fJZAEFnjReN",
        "colab_type": "text"
      },
      "source": [
        "##Custom infographics"
      ]
    },
    {
      "cell_type": "markdown",
      "metadata": {
        "id": "_8w7AmyZaC2Y",
        "colab_type": "text"
      },
      "source": [
        "But we can get creative and develop our own visuals. \n",
        "Here are two historical examples of ingenious infographics:\n",
        "first one is Playfair's trade-balance time-series chart, published in his Commercial and Political Atlas, 1786.\n",
        "![](https://raw.githubusercontent.com/fbeilstein/machine_learning/master/lecture_45_statistics/1280px-Playfair_TimeSeries.png)\n",
        "\n",
        "The second one is Charles Joseph Minard's 1869 diagram of Napoleonic France's invasion of Russia.\n",
        "![](https://raw.githubusercontent.com/fbeilstein/machine_learning/master/lecture_45_statistics/Minard.png)\n",
        "The graphic is notable for its representation in two dimensions of six types of data: the number of Napoleon's troops; distance; temperature; the latitude and longitude; direction of travel; and location relative to specific dates.\n",
        "\n",
        "Here are two more modern examples I like.\n",
        "That's how many NASA/JPL past & present missions flew around the universe.\n",
        "![](https://raw.githubusercontent.com/fbeilstein/machine_learning/master/lecture_45_statistics/11049.jpg)\n",
        "\n",
        "Here is the visualization of William Shakespeare’s sonnets by data artist Nicholas Rougeux. This clearly shows how data could be transfered from textual into graphical form. \n",
        "\n",
        "![](https://raw.githubusercontent.com/fbeilstein/machine_learning/master/lecture_45_statistics/56d0d3051500002b000b0d01.jpeg)\n",
        "\n",
        "Although pictures are nice, unfortunetly they do not give any insight into sonnets. Hence this is an example of pretty but pointless infographic.\n",
        "Correct presentation of your work is very important - don't be lazy to choose right instruments to communicate your results.\n"
      ]
    }
  ]
}