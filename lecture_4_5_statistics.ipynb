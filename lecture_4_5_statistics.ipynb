{
  "nbformat": 4,
  "nbformat_minor": 0,
  "metadata": {
    "colab": {
      "name": "lecture_4.5_statistics.ipynb",
      "version": "0.3.2",
      "provenance": [],
      "include_colab_link": true
    },
    "kernelspec": {
      "name": "python3",
      "display_name": "Python 3"
    }
  },
  "cells": [
    {
      "cell_type": "markdown",
      "metadata": {
        "id": "view-in-github",
        "colab_type": "text"
      },
      "source": [
        "<a href=\"https://colab.research.google.com/github/fbeilstein/machine_learning/blob/master/lecture_4_5_statistics.ipynb\" target=\"_parent\"><img src=\"https://colab.research.google.com/assets/colab-badge.svg\" alt=\"Open In Colab\"/></a>"
      ]
    },
    {
      "cell_type": "markdown",
      "metadata": {
        "id": "s6a9f2JTccPU",
        "colab_type": "text"
      },
      "source": [
        "#What is statistics\n"
      ]
    },
    {
      "cell_type": "markdown",
      "metadata": {
        "id": "cULv3r9ccWie",
        "colab_type": "text"
      },
      "source": [
        "Statistics is the discipline that concerns the collection, organization, displaying, analysis, interpretation and presentation of data.In applying statistics to a scientific, industrial, or social problem, it is conventional to begin with a statistical population or a statistical model to be studied. Populations can be diverse groups of people or objects such as \"all people living in a country\" or \"every atom composing a crystal\". Statistics deals with every aspect of data, including the planning of data collection in terms of the design of surveys and experiments.\n",
        "\n",
        "When census data cannot be collected, statisticians collect data by developing specific experiment designs and survey samples. Representative sampling assures that inferences and conclusions can reasonably extend from the sample to the population as a whole. An experimental study involves taking measurements of the system under study, manipulating the system, and then taking additional measurements using the same procedure to determine if the manipulation has modified the values of the measurements. In contrast, an observational study does not involve experimental manipulation.\n",
        "\n",
        "Two main statistical methods are used in data analysis: **descriptive statistics**, which summarize data from a sample using indexes such as the mean or standard deviation, and **inferential statistics**, which draw conclusions from data that are subject to random variation (e.g., observational errors, sampling variation). Descriptive statistics are most often concerned with two sets of properties of a distribution (sample or population): central tendency (or location) seeks to characterize the distribution's central or typical value, while dispersion (or variability) characterizes the extent to which members of the distribution depart from its center and each other. Inferences on mathematical statistics are made under the framework of probability theory, which deals with the analysis of random phenomena."
      ]
    },
    {
      "cell_type": "markdown",
      "metadata": {
        "colab_type": "text",
        "id": "4OpPDyT3B0MB"
      },
      "source": [
        "#Types of data"
      ]
    },
    {
      "cell_type": "markdown",
      "metadata": {
        "colab_type": "text",
        "id": "sFcoXfVyB0L6"
      },
      "source": [
        "Datatypes are an important concept because statistical methods can only be used with certain data types. You have to analyze continuous data differently than categorical data otherwise it would result in a wrong analysis. Therefore knowing the types of data you are dealing with, enables you to choose the correct method of analysis.\n",
        "\n",
        "![](https://raw.githubusercontent.com/fbeilstein/machine_learning/master/lecture_45_statistics/1_dvvxoZTdewLFs3RyZTJreA.png)\n",
        "**Categorical(qualitive) Data**\n",
        "\n",
        "Categorical data represents characteristics. Therefore it can represent things like a person’s gender, language etc. Categorical data can also take on numerical values (Example: 1 for female and 0 for male). Note that those numbers don’t have mathematical meaning.\n",
        "\n",
        "**Nominal(unordered) Data**\n",
        "\n",
        "Nominal values represent discrete units and are used to label variables, that have no quantitative value. Just think of them as „labels“. Note that nominal data that has no order. Therefore if you would change the order of its values, the meaning would not change. Examples of values that might be represented in a Nominal variable:\n",
        "\n",
        "* The blood type of a person: A, B, AB or O.\n",
        "* The state that a person lives in.\n",
        "* The political party that a voter might vote for, e. g. in a European country Christian Democrat, Social Democrat, Green Party, etc.\n",
        "* The type of a rock: igneous, sedimentary or metamorphic.\n",
        "\n",
        "**Ordinal(ordered) Data**\n",
        "\n",
        "Ordinal data represents characteristics that do have some kind of implicit or natural order, such as \"Short, Medium, or Tall.\"  Another example is a survey question that asks us to rate an item on a 1 to 10 scale, with 10 being the best. This implies that 10 is better than 9, which is better than 8, and so on. \n",
        "In the social sciences, particularly psychology, common examples are the Likert response scale and 1-10 rating scales in which a person selects the number which is considered to reflect the perceived quality of a product.\n",
        "\n",
        "Advanced note: The best way to determine central tendency on a set of ordinal data is to use the mode or median; a purist will tell you that the mean cannot be defined from an ordinal set.\n",
        "\n",
        "**Numerical(quantative) Data**\n",
        "Numerical data can be discrete or continuos.\n",
        "\n",
        "**Interval Data**\n",
        "\n",
        "Interval scales are numeric scales in which we know both the order and the exact differences between the values.  The classic example of an interval scale is Celsius temperature because the difference between each value is the same.  For example, the difference between 60 and 50 degrees is a measurable 10 degrees, as is the difference between 80 and 70 degrees.\n",
        "\n",
        "Interval scales are nice because the realm of statistical analysis on these data sets opens up.  For example, central tendency can be measured by mode, median, or mean; standard deviation can also be calculated.\n",
        "\n",
        "Like the others, you can remember the key points of an “interval scale” pretty easily. “Interval” itself means “space in between,” which is the important thing to remember–interval scales not only tell us about order, but also about the value between each item.\n",
        "\n",
        "Here’s the problem with interval scales: they don’t have a “true zero.”  For example, there is no such thing as “no temperature,” at least not with celsius.  In the case of interval scales, zero doesn’t mean the absence of value, but is actually another number used on the scale, like 0 degrees celsius.  Negative numbers also have meaning.  Without a true zero, it is impossible to compute ratios.  With interval data, we can add and subtract, but cannot multiply or divide.\n",
        "\n",
        "Confused?  Ok, consider this: 10 degrees C + 10 degrees C = 20 degrees C.  No problem there.  20 degrees C is not twice as hot as 10 degrees C, however, because there is no such thing as “no temperature” when it comes to the Celsius scale.  When converted to Fahrenheit, it’s clear: 10C=50F and 20C=68F, which is clearly not twice as hot.\n",
        "\n",
        "\n",
        "**Ratio Data**\n",
        "\n",
        "Ratio values are also ordered units that have the same difference. Ratio values are the same as interval values, with the difference that they do have an absolute zero. Good examples are height, weight, length etc.\n",
        "\n",
        "![](https://raw.githubusercontent.com/fbeilstein/machine_learning/master/lecture_45_statistics/summary-of-data-types-and-scales.png)"
      ]
    },
    {
      "cell_type": "markdown",
      "metadata": {
        "id": "ZNXC8-q28_HF",
        "colab_type": "text"
      },
      "source": [
        "We see that ratio data allow all range of operations that's why the allow many methods for analysis.\n",
        "We will primarily deal with ratio data."
      ]
    },
    {
      "cell_type": "markdown",
      "metadata": {
        "id": "qxRqNcw5B3ip",
        "colab_type": "text"
      },
      "source": [
        "#Population and sample"
      ]
    },
    {
      "cell_type": "markdown",
      "metadata": {
        "id": "gVIhndlx-BvZ",
        "colab_type": "text"
      },
      "source": [
        "The key concept of statistics are the concepts of population and sample.\n",
        "\n",
        "In statistics, a *population* is a set of similar items or events which is of interest for some question or experiment. A statistical population can be a group of existing objects (e.g. the set of all stars within the Milky Way galaxy) or a hypothetical and potentially infinite group of objects conceived as a generalization from experience (e.g. the set of all possible hands in a game of poker). A common aim of statistical analysis is to produce information about some chosen population.\n",
        "\n",
        "A data *sample* is a set of data collected from a statistical population by a defined procedure.\n",
        "\n",
        "*Sampling* is the selection of a subset (a statistical sample) of individuals from within a statistical population to estimate characteristics of the whole population. Here is only one picture to illustate typical difficulties that sampling encounters.\n",
        "\n",
        "![](https://raw.githubusercontent.com/fbeilstein/machine_learning/master/lecture_45_statistics/sample.png)"
      ]
    },
    {
      "cell_type": "markdown",
      "metadata": {
        "id": "GfSAawIfWoBX",
        "colab_type": "text"
      },
      "source": [
        "##Iid - sampling probability distribution"
      ]
    },
    {
      "cell_type": "markdown",
      "metadata": {
        "id": "6cYYC6diWrlS",
        "colab_type": "text"
      },
      "source": [
        "There is another way to look at population and sampling. Suppose we have a random variable with some probability distribution. Suppose we we get $n$ realizations of this random variable - we sample it $n$ times.\n",
        "For example, you measure some physical quantity say voltage $n$ times to get an accurate result free of random error.\n",
        "You can look at it as if you have a collection of $n$ random variables that are independent and identically distributed. That means that each random variable has the same probability distribution as the others and all are mutually independent. This property is usually abbreviated as i.i.d. or iid or IID.\n",
        "The following are examples or applications of i.i.d. random variables:\n",
        "* A sequence of outcomes of spins of a fair or unfair roulette wheel is i.i.d. One implication of this is that if the roulette ball lands on \"red\", for example, $20$ times in a row, the next spin is no more or less likely to be \"black\" than on any other spin (see the Gambler's fallacy).\n",
        "* A sequence of fair or loaded dice rolls is i.i.d.\n",
        "* A sequence of fair or unfair coin flips is i.i.d."
      ]
    },
    {
      "cell_type": "markdown",
      "metadata": {
        "id": "iKFPpvja3jt6",
        "colab_type": "text"
      },
      "source": [
        "#Classical probability distributions"
      ]
    },
    {
      "cell_type": "markdown",
      "metadata": {
        "id": "C5VORi5J4puF",
        "colab_type": "text"
      },
      "source": [
        "Probability distributions could be\n",
        "* descrete\n",
        "* continuous"
      ]
    },
    {
      "cell_type": "markdown",
      "metadata": {
        "id": "rdpkhGnxHavW",
        "colab_type": "text"
      },
      "source": [
        "##Discrete"
      ]
    },
    {
      "cell_type": "markdown",
      "metadata": {
        "id": "gnzs3h834oAY",
        "colab_type": "text"
      },
      "source": [
        "###Bernoulli $Bernoulli(p)$"
      ]
    },
    {
      "cell_type": "markdown",
      "metadata": {
        "id": "Z2ExtO1e4rzp",
        "colab_type": "text"
      },
      "source": [
        "$$\n",
        "f(k)=\n",
        "\\begin{cases}\n",
        "1-p \\quad & \\text{if} \\quad k=0,\\\\\n",
        "p \\quad &{\\text{if}} \\quad k=1.\\\\\n",
        "\\end{cases}\n",
        "$$\n",
        "\n",
        "Can be used to represent a (possibly biased) coin toss where 1 and 0 would represent \"heads\" and \"tails\".\n",
        "The Bernoulli distribution is a special case of the binomial distribution where a single trial is conducted (so n would be 1 for such a binomial distribution). It is also a special case of the two-point distribution, for which the possible outcomes need not be $0$ and $1$."
      ]
    },
    {
      "cell_type": "markdown",
      "metadata": {
        "id": "e00J7-lN3u36",
        "colab_type": "text"
      },
      "source": [
        "###Binomial $B(n,p)$\n",
        "\n",
        "$$\n",
        "f(k)={n \\choose k}p^k(1-p)^{n-k}\n",
        "$$\n",
        "\n",
        "Binomial distribution with parameters $n$ and $p$ is the probability distribution of the number of successes in a sequence of $n$ independent experiments, each asking a yes–no question, and each with its own boolean-valued outcome: success/yes/true/one (with probability $p$) or failure/no/false/zero (with probability $1-p$).\n",
        "A single success/failure experiment is also called a Bernoulli trial. "
      ]
    },
    {
      "cell_type": "markdown",
      "metadata": {
        "id": "QeVz3aDM4DmO",
        "colab_type": "text"
      },
      "source": [
        "###Negative binomial $NB(r,p)$\n",
        "\n",
        "$$\n",
        "f(k)={{k+r-1} \\choose k} (1-p)^r p^k\n",
        "$$\n",
        "\n",
        "Negative binomial distribution is a discrete probability distribution of the number of successes in a sequence of independent and identically distributed Bernoulli trials before a specified (non-random) number of failures (denoted r) occurs. Do you wonder why this distribution is called negative binomial? Cause\n",
        "\n",
        "$$\n",
        "{{k+r-1} \\choose k}=(-1)^k{-r \\choose k}\n",
        "$$\n",
        "\n",
        "that is present in the distribution is called negative binomial coefficient."
      ]
    },
    {
      "cell_type": "markdown",
      "metadata": {
        "id": "PNOgAF226XsE",
        "colab_type": "text"
      },
      "source": [
        "###Multinomial $\\mathcal{M}(p_1,\\dots,p_k)$\n",
        "\n",
        "$$\n",
        "f(x_1,\\cdots,x_n)=\n",
        "\\begin{cases}\n",
        "\\frac{n!}{x_1!\\cdots x_n!}p_1^{x_1}\\cdots p_k^{x^k} \\quad & \\text{if} \\quad x_1+\\cdots+x_k\n",
        "=n\\\\\n",
        "0 \\quad &{\\text{otherwise}}\n",
        "\\end{cases}\n",
        "$$\n",
        "\n",
        "The multinomial distribution is a generalization of the binomial distribution. For example, it models the probability of counts of each side for rolling a $k$-sided die $n$ times. For $n$ independent trials each of which leads to a success for exactly one of $k$ categories, with each category having a given fixed success probability, the multinomial distribution gives the probability of any particular combination of numbers of successes for the various categories."
      ]
    },
    {
      "cell_type": "markdown",
      "metadata": {
        "id": "NgcsGTP84UEF",
        "colab_type": "text"
      },
      "source": [
        "###Geometric $Geom(p)$\n",
        "\n",
        "$$\n",
        "f(k)=(1-p)^{k-1}p\n",
        "$$\n",
        "\n",
        "The geometric distribution gives the probability that the first occurrence of success requires $k$ independent trials, each with success probability $p$."
      ]
    },
    {
      "cell_type": "markdown",
      "metadata": {
        "id": "73HpngiC4_cg",
        "colab_type": "text"
      },
      "source": [
        "###Poisson $Pois(\\lambda)$\n",
        "\n",
        "$$\n",
        "f(k)=\\frac{\\lambda^k}{k!}e^{-\\lambda}\n",
        "$$\n",
        "\n",
        "Applications of the Poisson distribution can be found in many fields related to counting:\n",
        "* Telecommunication: telephone calls arriving in a system.\n",
        "* Astronomy: photons arriving at a telescope.\n",
        "* Chemistry: the molar mass distribution of a living polymerization\n",
        "* Biology: the number of mutations on a strand of DNA per unit length.\n",
        "* Management: customers arriving at a counter or call centre.\n",
        "* Finance and insurance: number of losses or claims occurring in a given period of time.\n",
        "* Earthquake seismology: an asymptotic Poisson model of seismic risk for large earthquakes.\n",
        "* Radioactivity: number of decays in a given time interval in a radioactive sample."
      ]
    },
    {
      "cell_type": "markdown",
      "metadata": {
        "id": "rWX3Ljn9Hj-1",
        "colab_type": "text"
      },
      "source": [
        "##Continuous"
      ]
    },
    {
      "cell_type": "markdown",
      "metadata": {
        "id": "KcaWyQU13rd3",
        "colab_type": "text"
      },
      "source": [
        "###Uniform $\\mathcal{U}(a,b)$\n",
        "\n",
        "$$\n",
        "f(x)=\n",
        "\\begin{cases}\n",
        "\\frac{1}{b-a} \\quad & \\text{if} \\quad a\\leq x \\leq b \\\\\n",
        "0 \\quad &{\\text{otherwise}} \\\\\n",
        "\\end{cases}\n",
        "$$\n",
        "\n",
        "The simplest of distributions.\n",
        "\n",
        "Uniform distribution has also its decrete analog. Probability to get $k$ in a throw of fair die follows discrete uniform distribution."
      ]
    },
    {
      "cell_type": "markdown",
      "metadata": {
        "id": "kgqab2v540CZ",
        "colab_type": "text"
      },
      "source": [
        "###Gaussian (normal) $\\mathcal{N}(\\mu, \\sigma)$\n",
        "\n",
        "$$\n",
        "f(x)=\\frac{1}{\\sqrt{2 \\pi \\sigma^2}}e^{-\\frac{(x-\\mu)^2}{2\\sigma^2}}\n",
        "$$\n",
        "\n",
        "The central limit theorem states that under certain (fairly common) conditions, the sum of many random variables will have an approximately normal distribution. When measuring any physical quantaity random errors sum up thus resulting Gaussian distribution of the measured quantity."
      ]
    },
    {
      "cell_type": "markdown",
      "metadata": {
        "id": "X0CB5Zbp6BYz",
        "colab_type": "text"
      },
      "source": [
        "###Miscellanious distributions"
      ]
    },
    {
      "cell_type": "markdown",
      "metadata": {
        "id": "Hili7CRW4ozq",
        "colab_type": "text"
      },
      "source": [
        "There more interesting distributions describing real world phenomena. Here are few examples.\n",
        "\n",
        "**Pareto distribution** describes\n",
        "* the allocation of wealth among individuals\n",
        "* the sizes of human settlements \n",
        "* sizes of sand particles\n",
        "* the size of meteorites\n",
        "* hard disk drive error rates\n",
        "* clusters of Bose–Einstein condensate near absolute zero\n",
        "\n",
        "Notorious $80/20$ Pareto rule that reads \"for many events, roughly $80\\%$ of the effects come from $20\\%$ of the causes\" could be derived for variables following Pareto distribution.\n",
        "\n",
        "**Gumbel distribution** describes\n",
        "* monthly and annual maximum values of daily rainfall and river discharge volumes\n",
        "* droughts\n",
        "\n",
        "**Weibull distribution** is also popular and proved to be useful in \n",
        "* reliability engineering and failure analysis\n",
        "* electrical engineering to represent overvoltage occurring in an electrical system\n",
        "* industrial engineering to represent manufacturing and delivery times\n",
        "* weather forecasting\n",
        "\n",
        "There are also few distributions important for theoretical calculations namely\n",
        "* **Logistic distribution**\n",
        "* **Log-normal distribution**\n",
        "* **Student's t-distribution**\n",
        "* **Chi-squared distribution**\n",
        "* **Chi distribution**\n",
        "\n",
        "By the way Maxwell–Boltzmann distribution used in physics is the chi distribution with three degrees of freedom.\n",
        "\n",
        "There are many more distributions out there. If you've never heard of them does not mean they are not cool and important :)"
      ]
    },
    {
      "cell_type": "markdown",
      "metadata": {
        "id": "mTKH7PBTU_QF",
        "colab_type": "text"
      },
      "source": [
        "#Few points about random variables and distributions"
      ]
    },
    {
      "cell_type": "markdown",
      "metadata": {
        "id": "0gp7FJToIjUD",
        "colab_type": "text"
      },
      "source": [
        "1) Random variable should be distinguished from its realization.\n",
        "\n",
        "Random variable is an abstract notion, realization of a random variable is just a number.\n",
        "In a series of trials random variable $X$ may have realizations $0.1$, $10$ and $3$.\n",
        "If we want to say that $X$ has Normal distribution it's denoted like this\n",
        "\n",
        "$$\n",
        "X \\sim \\mathcal{N}(\\mu,\\,\\sigma^{2}) \n",
        "$$\n",
        "\n",
        "We can also write this using pdf of $\\mathcal{N}$ as\n",
        "$$\n",
        "P(X=x)= \\frac{1}{\\sqrt{2 \\pi \\sigma^2}}e^{-\\frac{(x-\\mu)^2}{2\\sigma^2}}.\n",
        "$$\n",
        "Here $x$ is the realization of random variable $X$.\n",
        "Also don't merge in your mind notions of distribution and pdf.\n",
        "\n",
        "\n",
        "\n",
        "2) Every pdf depends on variables and parameters and consists of two parts:\n",
        "* functional part (that depends on *variables* and parameters)\n",
        "* normalization part (that depends *only* on parameters).\n",
        "\n",
        "For example\n",
        "$$\n",
        "\\underbrace{\\frac{1}{\\sqrt{2 \\pi \\sigma^2}}}_{normalization}\\times \\underbrace{e^{-\\frac{(x-\\mu)^2}{2\\sigma^2}}}_{functional}\n",
        "$$\n",
        "\n",
        "There is no need to memorize normalization: it's just a constant that could be calculated from normalization condition\n",
        "\n",
        "$$\n",
        "\\int f(x, \\theta)dx=1\n",
        "$$.\n",
        "\n",
        "Try to remember overall behaviour of the distribution like this: *Distribution has pdf of the form $C\\times x^{\\text{whatever}} e^{-\\frac{x}{\\text{something}}}$*.\n",
        "\n",
        "\n",
        "3) Parameters of distributions may not have such clear meaning like in Gaussian distribution. \n",
        "Moreover we can reparameterize distribution $f(\\theta)$ like this $$g(\\alpha)=f(1/\\alpha)$$ or like this $$h(\\beta)=f(e^{\\beta}).$$\n",
        "In general, parameter is just a number that indexes distributions in certain family of distributions.\n",
        "\n",
        "4) There are functions defined for random variable $X$ that describe its behaviour\n",
        "* expected value $\\mathbb{E}{[X]}$;\n",
        "\n",
        "$$\n",
        "\\mathbb{E}{[X]}=\\int p(x) x dx\n",
        "$$\n",
        "\n",
        "* variance $Var[X]$;\n",
        "\n",
        "$$\n",
        "Var[X]=\\int p(x) (x-\\mathbb{E}{[X]})^2 dx\n",
        "$$\n",
        "\n",
        "* standard deviation $\\sigma[X]$;\n",
        "\n",
        "$$\n",
        "\\sigma[X]=\\sqrt{Var[X]}\n",
        "$$\n",
        "\n",
        "\n",
        "* moments $\\mu_n[X]$;\n",
        "\n",
        "$$\n",
        "\\mu_n[X]=\\int p(x) x^n dx\n",
        "$$\n",
        "\n",
        "* skewness;\n",
        "\n",
        "This is a measure of the asymmetry of the probability distribution. \n",
        "* kurtosis;\n",
        "\n",
        "This is a measure of the \"tailedness\" of the probability distribution.\n",
        "* etc.\n",
        "\n",
        "All this functions are calculated for all popular distributions."
      ]
    },
    {
      "cell_type": "markdown",
      "metadata": {
        "id": "ICX1IzFbyyyR",
        "colab_type": "text"
      },
      "source": [
        "#Statistical models"
      ]
    },
    {
      "cell_type": "markdown",
      "metadata": {
        "id": "9N8BPH6jhfYw",
        "colab_type": "text"
      },
      "source": [
        "When we have real world data we aim to analize we adopt statistical model that describes them or to put in differently we make statistical assumptions.\n",
        "Typical assumption are\n",
        "* random variable $X$ has distribution $f$ that depends on unknown parameter $\\theta$ (used everywhere);\n",
        "* random variables $X$ and $Y$ are independent (used in Naive Bayes classification);\n",
        "* random variables $\\{X_1,\\cdots,X_n\\}$ are iids (used in sampling);\n",
        "* two variables have a linear dependence (used in Linear regression).\n",
        "\n",
        "It's important to realize that our model is never $100\\%$ accurate - it's only our try to grasp the essence of the phenomenon under consideration. \n",
        "\n",
        "**\"All models are wrong\"** is a common aphorism in statistics; it is often expanded as \"All models are wrong, but some are useful\". It is usually considered to be applicable to not only statistical models, but to scientific models generally. \n",
        "Here is the question about this aphorism asked at Stack Exchange:\n",
        "![](https://raw.githubusercontent.com/fbeilstein/machine_learning/master/lecture_45_statistics/q.jpg)\n",
        "\n",
        "And here is the best answer:\n",
        "\n",
        "![](https://raw.githubusercontent.com/fbeilstein/machine_learning/master/lecture_45_statistics/a.jpg)\n"
      ]
    },
    {
      "cell_type": "markdown",
      "metadata": {
        "id": "aEstHOdZBVEZ",
        "colab_type": "text"
      },
      "source": [
        "#Statistics and estimators"
      ]
    },
    {
      "cell_type": "markdown",
      "metadata": {
        "id": "pr3vw_iDaAdm",
        "colab_type": "text"
      },
      "source": [
        "Statistic is any function of a sample. \n",
        "\n",
        "$$\n",
        "Statistics = f(\\{\\cdot\\})\n",
        "$$\n",
        "\n",
        "Say if you have a sample $\\{2,6,3\\}$ and you add these numbers up you get a statistic (\"sum\" function).\n",
        "Statistics are use for two things\n",
        "* quatify some property of the sample (for example its range or central tendency). That's useful if you want to get a quick grasp of the sample expressed in just a few numbers. Such statistics are frequently called measures;\n",
        "* estimate parameters of the population or distribution we sample (for example $\\sigma$ and $\\mu$ in Gaussian distribution). These are called estimators. \n",
        "\n",
        "So, estimators are special statistics that approximate the parameters of our population (or parameters of distribution in the iid setup). In our example \"sum\"-statistic is not a useful estimator: if you get larger sample (with 10 entries) the sum will probably be larger. On the contrary if you divide the sum by the number of entries in the sample you do obtain meaningful estimator that characterizes central tendecy of the population (sample mean).\n",
        "\n",
        "$$\n",
        "Estimator=statistic\\,\\, used\\,\\, to\\,\\, estimate\\,\\,parameters \\,\\,of \\,\\,population(distribution) \n",
        "$$\n",
        "\n",
        "One important thing to understand about statistics and estimators is that they are random variables. Different samples render different realizations of the statistics. Like every random variable statistics and estimators have probability distribution. For example"
      ]
    },
    {
      "cell_type": "code",
      "metadata": {
        "id": "NOD5jwCEg8yF",
        "colab_type": "code",
        "outputId": "cf5658ec-c662-4876-dfe1-aadfb751e1d9",
        "colab": {
          "base_uri": "https://localhost:8080/",
          "height": 277
        }
      },
      "source": [
        "import itertools\n",
        "import statistics\n",
        "import numpy as np\n",
        "import matplotlib.mlab as mlab\n",
        "import matplotlib.pyplot as plt\n",
        "\n",
        "N=5\n",
        "population=[1,3,4,5,6,8]\n",
        "P=len(population)\n",
        "samples = list(itertools.product(population,repeat=N))\n",
        "sample_mean = list(map(statistics.mean, samples))\n",
        "\n",
        "plt.style.use('seaborn-white')\n",
        "plt.title('Sample mean distribution for samples with 5 elements')\n",
        "plt.hist(sample_mean);"
      ],
      "execution_count": 0,
      "outputs": [
        {
          "output_type": "display_data",
          "data": {
            "image/png": "[encoded data removed]",
            "text/plain": [
              "<Figure size 432x288 with 1 Axes>"
            ]
          },
          "metadata": {
            "tags": []
          }
        }
      ]
    },
    {
      "cell_type": "markdown",
      "metadata": {
        "id": "shA5Gi9ihXcs",
        "colab_type": "text"
      },
      "source": [
        "These distributions have their maxima, standard deviation, etc. Some estimators have extremely narrow distribution. Note that width of distribution for sample mean narrows down as the size of the sample increases."
      ]
    },
    {
      "cell_type": "code",
      "metadata": {
        "id": "MBKyXt0Vh9Dm",
        "colab_type": "code",
        "outputId": "d543ffa1-f160-46dc-8d4e-30cfc2fc899a",
        "colab": {
          "base_uri": "https://localhost:8080/",
          "height": 537
        }
      },
      "source": [
        "N=2\n",
        "population=[1,3,4,5,6,8]\n",
        "P=len(population)\n",
        "samples = list(itertools.product(population,repeat=N))\n",
        "sample_mean = list(map(statistics.mean, samples))\n",
        "\n",
        "M=5\n",
        "samples_ = list(itertools.product(population,repeat=M))\n",
        "sample_mean_ = list(map(statistics.mean, samples_))\n",
        "\n",
        "plt.style.use('seaborn-white')\n",
        "plt.title('Sample mean distribution for samples with 2 elements')\n",
        "plt.hist(sample_mean);\n",
        "plt.show();\n",
        "plt.title('Sample mean distribution for samples with 5 elements')\n",
        "plt.hist(sample_mean_);\n"
      ],
      "execution_count": 0,
      "outputs": [
        {
          "output_type": "display_data",
          "data": {
            "image/png": "[encoded data removed]",
            "text/plain": [
              "<Figure size 432x288 with 1 Axes>"
            ]
          },
          "metadata": {
            "tags": []
          }
        },
        {
          "output_type": "display_data",
          "data": {
            "image/png": "[encoded data removed]",
            "text/plain": [
              "<Figure size 432x288 with 1 Axes>"
            ]
          },
          "metadata": {
            "tags": []
          }
        }
      ]
    },
    {
      "cell_type": "markdown",
      "metadata": {
        "id": "vNkY5UK3yS8l",
        "colab_type": "text"
      },
      "source": [
        "This suggests to choose estimators whose mean value coincides with the estimated parameter (such estimators are called unbiased) and estimators with the least spread possible (minimum-variance unbiased estimator). \n",
        "\n",
        "\n",
        "Also consider another idea. You may have a guess about what estimated parameter may be beforehand. More generally you may have a probability distribution for the estimated parameter (it may be uniform). Realization of the estimator obtained from the sample adds new information and adjusts your parameter probability distribution. \n",
        "This is called Bayesian estimation."
      ]
    },
    {
      "cell_type": "markdown",
      "metadata": {
        "id": "vfyJsuXbrvzi",
        "colab_type": "text"
      },
      "source": [
        "##Central tendency estimators\n",
        "\n",
        "If we could get the entire population we could draw its histagram and describe its parameters. Unfortunately, we have only a small sample. Or in the case of the random variable we can sample it finitely many times.\n",
        "That's why we have only *estimators* for population parameters. One of the most important is the central tendecy.\n",
        "\n",
        "* sample mean - the sum of all measurements divided by the number of observations in the data set.\n",
        "\n",
        "$$\n",
        "\\bar{x}=\\frac{\\sum_{i=1}^Nx_i}{N}\n",
        "$$.\n",
        "\n",
        "Mean is the center of mass of the histogram if its bars were solid.\n",
        "Be cautious: mean is strongly affected by the outliers!\n",
        "* sample median - the middle value that separates the higher half from the lower half of the data set. Median is less succeptible to outliers than sample mean (statisticians call this quality **robustness**).\n",
        "* sample mode - the most frequent value in the data set. This is the only central tendency measure that can be used with nominal data, which have purely qualitative category assignments. The median and the mode are the only measures of central tendency that can be used for ordinal data, in which values are ranked relative to each other but are not measured absolutely.\n",
        "For example, if we are dealing with presedential elections results it's the mode that we need.\n",
        "\n"
      ]
    },
    {
      "cell_type": "code",
      "metadata": {
        "id": "D_USB-IB3MOa",
        "colab_type": "code",
        "outputId": "0c211fe0-497b-4ad3-b7eb-dc90e209837e",
        "colab": {
          "base_uri": "https://localhost:8080/",
          "height": 68
        }
      },
      "source": [
        "sample = [1,1,1,3,4,5,6,8]\n",
        "print(\"sample mean = \", statistics.mean(sample))\n",
        "print(\"sample median = \", statistics.median(sample))\n",
        "print(\"sample mode = \", statistics.mode(sample))"
      ],
      "execution_count": 0,
      "outputs": [
        {
          "output_type": "stream",
          "text": [
            "sample mean =  3.625\n",
            "sample median =  3.5\n",
            "sample mode =  1\n"
          ],
          "name": "stdout"
        }
      ]
    },
    {
      "cell_type": "markdown",
      "metadata": {
        "id": "0oBMQkx0a2X-",
        "colab_type": "text"
      },
      "source": [
        "##Variability (range) statistics (estimators)"
      ]
    },
    {
      "cell_type": "markdown",
      "metadata": {
        "id": "8geUYRMt4Wfy",
        "colab_type": "text"
      },
      "source": [
        "It's useful to measure how spread out are the numbers in the sample. \n",
        "Here are common variability measures:\n",
        "* range;\n",
        "* interquartile range (IQR);\n",
        "* sample variance;\n",
        "* sample std."
      ]
    },
    {
      "cell_type": "markdown",
      "metadata": {
        "id": "NDodpggT0MCx",
        "colab_type": "text"
      },
      "source": [
        "##Range"
      ]
    },
    {
      "cell_type": "markdown",
      "metadata": {
        "id": "ynIj_jK3yzvJ",
        "colab_type": "text"
      },
      "source": [
        "The simplest statistics that measures spread of the data is the range.\n",
        "The range of a set of data is the difference between the largest and smallest values."
      ]
    },
    {
      "cell_type": "code",
      "metadata": {
        "id": "QCA7Iv6ozYx5",
        "colab_type": "code",
        "outputId": "70740e3c-571f-449f-9aa2-ef367c71403e",
        "colab": {
          "base_uri": "https://localhost:8080/",
          "height": 34
        }
      },
      "source": [
        "sample = [2,3,4, 2, 7, 1, 34] \n",
        "print(\"Range = \", max(sample) - min(sample))  \n"
      ],
      "execution_count": 0,
      "outputs": [
        {
          "output_type": "stream",
          "text": [
            "Range =  33\n"
          ],
          "name": "stdout"
        }
      ]
    },
    {
      "cell_type": "markdown",
      "metadata": {
        "id": "j_MWE5sDVdYo",
        "colab_type": "text"
      },
      "source": [
        "Range belongs to L-statistic is a statistic (function of a data set) that is a linear combination of order statistics; the \"L\" is for \"linear\".\n",
        "The $k$-th order statistic of a statistical sample is equal to its $k$th-smallest value.\n",
        "$Min$ is $1$-st order statistics and $max$ is the $n$-th order statistics. Median is order statistics only for samples with odd number of elements.\n"
      ]
    },
    {
      "cell_type": "markdown",
      "metadata": {
        "id": "36OL_GIrTKcG",
        "colab_type": "text"
      },
      "source": [
        "##Percentiles and interquantile range (IQR)"
      ]
    },
    {
      "cell_type": "markdown",
      "metadata": {
        "id": "9f6dJsahS7R4",
        "colab_type": "text"
      },
      "source": [
        "A percentile (or a centile) is a measure used in statistics indicating the value below which a given percentage of observations in a group of observations falls. For example, the $25$th percentile (called quantile) is the value (or score) below which $25\\%$ of the observations may be found."
      ]
    },
    {
      "cell_type": "code",
      "metadata": {
        "id": "DpMQDbQhTH4w",
        "colab_type": "code",
        "outputId": "349620b7-f163-4686-9ea5-f816fe0910f0",
        "colab": {
          "base_uri": "https://localhost:8080/",
          "height": 68
        }
      },
      "source": [
        "sample = [20, 2, 7, 1, 34] \n",
        "print(\"50th percentile = \", np.percentile(sample, 50)) \n",
        "print(\"25th percentile = \", np.percentile(sample, 25)) \n",
        "print(\"75th percentile = \", np.percentile(sample, 75)) "
      ],
      "execution_count": 0,
      "outputs": [
        {
          "output_type": "stream",
          "text": [
            "50th percentile :  7.0\n",
            "25th percentile :  2.0\n",
            "75th percentile :  20.0\n"
          ],
          "name": "stdout"
        }
      ]
    },
    {
      "cell_type": "markdown",
      "metadata": {
        "id": "BF_AHq_mycAE",
        "colab_type": "text"
      },
      "source": [
        "Quantile are useful cause they help us to deal with the ouliers. Empirically, if the data being analyzed are not actually distributed according to an assumed distribution, or if there are other potential sources for outliers that are far removed from the mean, then quantiles may be more useful descriptive statistics than means and other moment-related statistics.\n",
        "The interquartile range ($IQR$), also called the midspread or middle $50\\%$, or technically H-spread, is a measure of statistical dispersion, being equal to the difference between $75$th and $25$th percentiles, or between upper and lower quartiles, $IQR = Q3 −  Q1$."
      ]
    },
    {
      "cell_type": "code",
      "metadata": {
        "id": "gicI_aGkzAHJ",
        "colab_type": "code",
        "outputId": "6a11cddf-f82f-4bf0-cdde-9dff5eee33f8",
        "colab": {
          "base_uri": "https://localhost:8080/",
          "height": 34
        }
      },
      "source": [
        "sample = [2,3,4, 2, 7, 1, 34] \n",
        "print(\"IQR = \", np.percentile(sample, 75) - np.percentile(sample, 25)) "
      ],
      "execution_count": 0,
      "outputs": [
        {
          "output_type": "stream",
          "text": [
            "IQR =  3.5\n"
          ],
          "name": "stdout"
        }
      ]
    },
    {
      "cell_type": "markdown",
      "metadata": {
        "id": "DaKQ7L6Bl_RI",
        "colab_type": "text"
      },
      "source": [
        "$IQR$ is the robust measures of scale while range is not. That reminds situation with mean and median.\n",
        "\n",
        "Boxplot is an alternative to the histogram of the sample. They show median, $1$st and $3$rd quartiles, and have lines extending vertically from the boxes (whiskers) indicating variability outside the upper and lower quartiles, hence the terms box-and-whisker plot and box-and-whisker diagram. Outliers are plotted as individual points. "
      ]
    },
    {
      "cell_type": "code",
      "metadata": {
        "id": "KJTerLso0mnP",
        "colab_type": "code",
        "outputId": "787de1e7-a592-4c84-b606-6bee6edb314c",
        "colab": {
          "base_uri": "https://localhost:8080/",
          "height": 262
        }
      },
      "source": [
        "sample = [1,2,3,4,5,6,15]\n",
        "fig1, ax1 = plt.subplots();\n",
        "ax1.boxplot(sample);\n"
      ],
      "execution_count": 0,
      "outputs": [
        {
          "output_type": "display_data",
          "data": {
            "image/png": "[encoded data removed]",
            "text/plain": [
              "<Figure size 432x288 with 1 Axes>"
            ]
          },
          "metadata": {
            "tags": []
          }
        }
      ]
    },
    {
      "cell_type": "markdown",
      "metadata": {
        "id": "GLyFambWa0cf",
        "colab_type": "text"
      },
      "source": [
        "##Variance estimators"
      ]
    },
    {
      "cell_type": "markdown",
      "metadata": {
        "id": "H5tMRUa_arQh",
        "colab_type": "text"
      },
      "source": [
        "Note that formula for the variance of the population differs from the sample variance.\n",
        "Respectively in the ```statistics``` package there is function ```pvariance``` and ```variance```.\n",
        "\n",
        "\n",
        "The formula for the population variance is\n",
        "$$\n",
        "s_{p}=\\frac{\\sum_{i=1}^N(x_i-\\bar{x})^2}{N}\n",
        "$$\n",
        "\n",
        "The formula for the sample variance is a little bit different though\n",
        "$$\n",
        "s=\\frac{\\sum_{i=1}^N(x_i-\\bar{x})^2}{N-1}\n",
        "$$\n",
        "\n",
        "\n",
        "Note $N-1$ in the denominator and not $N$. Here are few videos on youtube that try to explain it.\n",
        "\n",
        "![](https://raw.githubusercontent.com/fbeilstein/machine_learning/master/lecture_45_statistics/var.png)\n",
        "\n",
        "Actually there are two versions of sample variances: biased (uncorrected) and unbiased (corrected)\n",
        "\n",
        "$$\n",
        "s_{b}=\\frac{\\sum_{i=1}^N(x_i-\\bar{x})^2}{N}\n",
        "$$\n",
        "and the corrected (unbiased) one that we denoted as $v$.\n",
        "We see that that\n",
        "$$\n",
        "s=s_{b}\\underbrace{\\frac{N}{N-1}}_{\\text{Bessel's} \\\\ \\text{correction}}\n",
        "$$.\n",
        "\n",
        "In statistics, the bias (or bias function) of an estimator is the difference between this estimator's expected value and the true value of the parameter being estimated. An estimator or decision rule with zero bias is called unbiased. "
      ]
    },
    {
      "cell_type": "code",
      "metadata": {
        "id": "hjozTwN04fZN",
        "colab_type": "code",
        "outputId": "483fe965-50e0-4967-c9ca-15acd884a84e",
        "colab": {
          "base_uri": "https://localhost:8080/",
          "height": 51
        }
      },
      "source": [
        "sample = [1,1,1,3,4,5,6,8]\n",
        "print(\"sample standard deviation = \", statistics.stdev(sample))\n",
        "print(\"unbiased sample variance = \", statistics.pvariance(sample))"
      ],
      "execution_count": 0,
      "outputs": [
        {
          "output_type": "stream",
          "text": [
            "sample standard deviation =  2.615202805574687\n",
            "unbiased sample variance =  5.984375\n"
          ],
          "name": "stdout"
        }
      ]
    },
    {
      "cell_type": "markdown",
      "metadata": {
        "id": "br7i4DVavL2R",
        "colab_type": "text"
      },
      "source": [
        "If we average unbiased variances for samples of any size we get the variance of entire population."
      ]
    },
    {
      "cell_type": "code",
      "metadata": {
        "id": "dyMQgy3RvNKg",
        "colab_type": "code",
        "outputId": "591c874b-1e81-46d2-de40-057b0f10b75d",
        "colab": {
          "base_uri": "https://localhost:8080/",
          "height": 328
        }
      },
      "source": [
        "N = 5\n",
        "population = [1,3,4,5,6,8]\n",
        "P = len(population)\n",
        "samples = list(itertools.product(population,repeat=N))\n",
        "variances = list(map(statistics.variance, samples))\n",
        "mean_unbiased_variance=statistics.mean(variances)\n",
        "print(\"mean of unbiased variances = \", mean_unbiased_variance)\n",
        "biased_variances = [i *(N-1)/(N) for i in variances]\n",
        "mean_biased_variance=statistics.mean(biased_variances)\n",
        "print(\"mean of biased variances = \", mean_biased_variance)\n",
        "print(\"population variance = \", statistics.pvariance(population))\n",
        "\n",
        "plt.style.use('seaborn-white')\n",
        "plt.title('Distributions for biased and unbiased variances for samples with 5 elements')\n",
        "plt.hist(variances, bins=25);\n",
        "plt.hist(biased_variances, bins=25);"
      ],
      "execution_count": 0,
      "outputs": [
        {
          "output_type": "stream",
          "text": [
            "mean of unbiased variances =  4.916666666666667\n",
            "mean of biased variances =  3.933333333333333\n",
            "population variance =  4.916666666666667\n"
          ],
          "name": "stdout"
        },
        {
          "output_type": "display_data",
          "data": {
            "image/png": "[encoded data removed]",
            "text/plain": [
              "<Figure size 432x288 with 1 Axes>"
            ]
          },
          "metadata": {
            "tags": []
          }
        }
      ]
    },
    {
      "cell_type": "markdown",
      "metadata": {
        "id": "LiMuVP9RU4Zc",
        "colab_type": "text"
      },
      "source": [
        "Note that we have considered unbiased estimator for variance. But if we take square root of it we would not get the unbiased estimator for std. That's because when we calculate sample std we take square root of sample average. \n",
        "\n",
        "$$\n",
        "\\mathbb{E}[f(sample)]\\neq f(\\mathbb{E[sample]})\n",
        "$$\n",
        "\n",
        "when $f$ is nonlinear.\n",
        "Here $f$ is applied for each entry in the sample ($f=\\sqrt{\\cdot}$ for std).\n",
        "In fact it is not possible to find an estimate of the standard deviation which is unbiased for all population distributions, as the bias depends on the particular distribution.\n",
        "\n",
        "Although unbiased estimators are preferable, there are others properties of estimators that can be handy: consistent estimator - estimator converges in probability to the true value when the size of the sample increases, MSE estimator - estimator minimizes Mean square error between the true value."
      ]
    },
    {
      "cell_type": "markdown",
      "metadata": {
        "id": "Htn3KOEzeo87",
        "colab_type": "text"
      },
      "source": [
        "##Maximum likelihood estimation"
      ]
    },
    {
      "cell_type": "markdown",
      "metadata": {
        "id": "HeUaHdf1yGgA",
        "colab_type": "text"
      },
      "source": [
        "How did people come up with these estimators?\n",
        "There are few methods to get estimators and one of them is the likelihood estimation method. \n",
        "Suppose we sample random variable with known probability distribution but unknown parameter $\\theta$.\n",
        "We begin by calculating the probability to obtain our sample $L_n(\\theta;\\mathbf{x})=p_n(\\mathbf{x};\\theta)$\n",
        "which is called the likelihood function. For independent and identically distributed random variables, $f_{n}(\\mathbf {x} ;\\theta )$ will be the product of univariate density functions.\n",
        "\n",
        "$$\n",
        "f_{n}(\\mathbf {x} ;\\theta)=f(x_1 ;\\theta)\\times \\cdots \\times f(x_1 ;\\theta)\n",
        "$$\n",
        "\n",
        "Now we try to maximize $L_n(\\theta;\\mathbf{x})$ function with respect to $\\theta$.\n",
        "The specific value $ {\\hat {\\theta }}={\\hat {\\theta }}_{n}(\\mathbf {y} )$ that maximizes the likelihood function $L_n(\\theta;\\mathbf{x})$ is called the maximum likelihood estimate (sometimes denoted as $\\theta_{MLE}$).\n",
        "\n",
        "$$\n",
        "\\hat {\\theta }=argmax_\\theta \\, L_n(\\theta;\\mathbf{x})\n",
        "$$\n",
        "\n",
        "Sometimes it's convenient to to take logarithm of likelihood function. As logarithm is monotonic it achieves its maximum at the cam $\\theta$ as its argument. For iid\n",
        "\n",
        "$$\n",
        "l_n(\\theta; \\mathbf{x})=\\ln{L_n(\\theta; \\mathbf{x})}=\\sum_{i=1}^n \\ln{f(x_i ;\\theta)}\n",
        "$$\n",
        "\n",
        "Example: Poisson distribution\n",
        "\n",
        "Suppose we have iid's with $f(k)=\\frac{\\lambda^k}{k!}e^{-\\lambda}$ and we have sample $\\mathbf{k}={k_1,\\cdots,k_n}$. We aim to calculate $\\lambda_{MLE}$.\n",
        "\n",
        "$$\n",
        "l_n(\\theta; \\mathbf{x})=\\sum_{i=1}^n \\ln\\left({\\frac{\\lambda^{k_i}}{k_i!}e^{-\\lambda}}\\right)\n",
        "$$\n",
        "\n",
        "$$\n",
        "\\frac{\\partial l_n(\\theta; \\mathbf{x})}{\\partial \\theta}=\\sum_{i=1}^n \\left(\\frac{k_i!}{\\lambda^{k_i}e^{-\\lambda}}\\right)\\left(\\frac{k_i\\lambda^{k_i-1}}{k!}e^{-\\lambda}-\\frac{\\lambda^{k_i}}{k!}e^{-\\lambda}\\right)=\\sum_{i=1}^n \\left(\\frac{k_i}{\\lambda} -1\\right)=\\frac{\\sum k_i}{\\lambda}-n\n",
        "$$\n",
        "\n",
        "Setting $\\frac{\\partial l_n(\\theta; \\mathbf{x})}{\\partial \\theta}$ to $0$ gives\n",
        "\n",
        "$$\n",
        "\\frac{\\sum k_i}{\\lambda_{MLE}}-n=0\n",
        "$$\n",
        "\n",
        "$$\n",
        "\\frac{\\sum k_i}{\\lambda_{MLE}}=n\n",
        "$$\n",
        "\n",
        "$$\n",
        "\\lambda_{MLE}=\\frac{\\sum k_i}{n}=\\bar{k}\n",
        "$$\n",
        "\n",
        "You can write down MLE estimators for parameters of all popular distributions."
      ]
    },
    {
      "cell_type": "markdown",
      "metadata": {
        "id": "wyTlLsLBDwru",
        "colab_type": "text"
      },
      "source": [
        "##Interval estimators"
      ]
    },
    {
      "cell_type": "markdown",
      "metadata": {
        "id": "qKl_FMLLDug2",
        "colab_type": "text"
      },
      "source": [
        "Estimators we have seen so far were so called point estimators. There are also interval estimators when we give an interval into whick the estimated parameter should fall. \n",
        "Interval estimation is the use of sample data to calculate an interval of plausible values of an unknown population parameter; this is in contrast to point estimation, which gives a single value. There are two main methods\n",
        "* confidence intervals (frequentist method);\n",
        "* credible intervals (a Bayesian method)."
      ]
    },
    {
      "cell_type": "markdown",
      "metadata": {
        "id": "c3kFIkCoY-fa",
        "colab_type": "text"
      },
      "source": [
        "#Anscombe's quartet"
      ]
    },
    {
      "cell_type": "markdown",
      "metadata": {
        "id": "ouE_jj5FZDoz",
        "colab_type": "text"
      },
      "source": [
        "How useful are estimators for central tendecy and spread? How different can be samples that have equal statistics?\n",
        "Look at Anscombe's quartet.\n",
        "\n",
        "Anscombe's quartet comprises four data sets that have nearly identical simple descriptive statistics, yet have very different distributions and appear very different when graphed. Each dataset consists of eleven $(x,y)$ points. They were constructed in 1973 by the statistician Francis Anscombe to demonstrate both the importance of graphing data before analyzing it and the effect of outliers and other influential observations on statistical properties. He described the article as being intended to counter the impression among statisticians that \"numerical calculations are exact, but graphs are rough.\"\n",
        "All datasets have the same\n",
        "* mean of $x$\n",
        "* mean of $y$\n",
        "* sample variance of $x$\n",
        "* sample variance of $y$\n",
        "* correlation between $x$ and $y$\n",
        "* linear regression line\n",
        "* coefficient of determination\n",
        "\n",
        "![](https://raw.githubusercontent.com/fbeilstein/machine_learning/master/lecture_45_statistics/quartet.png)\n",
        "\n",
        "Anscombe's quartet teaches us that \n",
        "* statistical measures are not sufficient to describe the sample fully;\n",
        "* it's important to look at a set of data graphically before starting to analyze according to a particular type of relationship."
      ]
    },
    {
      "cell_type": "markdown",
      "metadata": {
        "id": "mJcP6rnj1TLP",
        "colab_type": "text"
      },
      "source": [
        "#Covariance and correlation"
      ]
    },
    {
      "cell_type": "markdown",
      "metadata": {
        "id": "YQr5AqTr1WIk",
        "colab_type": "text"
      },
      "source": [
        "Suppose you have two samples drawn from two populations (random variables).\n",
        "Covariance is a measure of the relationship between these samples. The metric evaluates how much – to what extent – the variables change together.\n",
        "\n",
        "$$\n",
        "\\sigma(x,y)=\\frac{1}{N-1}\\sum_{i=1}^N(x_i-\\bar{x})(y_i-\\bar{y}).\n",
        "$$\n",
        "\n",
        "Correlation also measures the strength of the relationship between samples. Correlation is the scaled measure of covariance. It is dimensionless. In other words, the correlation coefficient is always a pure value and not measured in any units.\n",
        "\n",
        "$$\n",
        "\\rho(x,y)=\\frac{\\sigma(x,y)}{\\sigma_x \\sigma_y}.\n",
        "$$\n",
        "\n",
        "Correlation coefficient is also known as Pearson correlation coefficient (PCC).\n",
        "Informally you can think about $\\rho(x,y)$ as a cosine of angle between two ''vectors''\n",
        "\n",
        "\n",
        "$$\n",
        "\\cos{\\alpha}=\\frac{\\bar{x}\\bar{y}}{|\\bar{x}||\\bar{y}|}.\n",
        "$$\n",
        "\n",
        "\n",
        "Function ```corrcoef``` from  ```numpy``` gives matrix\n",
        "\n",
        "$$\n",
        "\\begin{pmatrix}\n",
        "\\rho(x,x)=1 & \\rho(x,y) \\\\\n",
        "\\rho(y,x) & \\rho(y,y)=1 \n",
        "\\end{pmatrix}\n",
        "$$"
      ]
    },
    {
      "cell_type": "code",
      "metadata": {
        "id": "BP9OOKQU__xo",
        "colab_type": "code",
        "outputId": "fd072652-21a0-4870-c8ec-d716b205d918",
        "colab": {
          "base_uri": "https://localhost:8080/",
          "height": 51
        }
      },
      "source": [
        "x = [-2.1, -1,  4.3]\n",
        "y = [3,  1.1,  0.12]\n",
        "np.corrcoef(x, y)"
      ],
      "execution_count": 0,
      "outputs": [
        {
          "output_type": "execute_result",
          "data": {
            "text/plain": [
              "array([[ 1.        , -0.85535781],\n",
              "       [-0.85535781,  1.        ]])"
            ]
          },
          "metadata": {
            "tags": []
          },
          "execution_count": 4
        }
      ]
    },
    {
      "cell_type": "markdown",
      "metadata": {
        "id": "IvjTN8ipS_UW",
        "colab_type": "text"
      },
      "source": [
        "Here are several sets of $(x, y)$ points, with the Pearson correlation coefficient of $x$ and $y$ for each set. The correlation reflects the noisiness and direction of a linear relationship (top row), but not the slope of that relationship (middle), nor many aspects of nonlinear relationships (bottom). N.B.: the figure in the center has a slope of $0$ but in that case the correlation coefficient is undefined because the variance of $y$ is zero.\n",
        "\n",
        "![](https://raw.githubusercontent.com/fbeilstein/machine_learning/master/lecture_45_statistics/Correlation.jpg)"
      ]
    },
    {
      "cell_type": "markdown",
      "metadata": {
        "id": "RPUs_zLSRPX_",
        "colab_type": "text"
      },
      "source": [
        "Correlations are useful because they can indicate a predictive relationship that can be exploited in practice. For example, an electrical utility may produce less power on a mild day based on the correlation between electricity demand and weather. In this example, there is a causal relationship, because extreme weather causes people to use more electricity for heating or cooling. However, in general, the presence of a correlation is not sufficient to infer the presence of a causal relationship (i.e., correlation does not imply causation).\n",
        "\n",
        "The phrase **\"correlation does not imply causation\"** refers to the inability to legitimately deduce a cause-and-effect relationship between two variables solely on the basis of an observed association or correlation between them.\n",
        "For any two correlated events, $A$ and $B$, the different possible relationships include:\n",
        "* $A$ causes $B$ (direct causation);\n",
        "* $B$ causes $A$ (reverse causation);\n",
        "* $A$ and $B$ are consequences of a common cause, but do not cause each other;\n",
        "* $A$ and $B$ both cause $C$, which is (explicitly or implicitly) conditioned on;\n",
        "* $A$ causes $B$ and $B$ causes $A$ (bidirectional or cyclic causation);\n",
        "* $A$ causes $C$ which causes $B$ (indirect causation);\n",
        "* There is no connection between $A$ and $B$; the correlation is a coincidence.\n",
        "\n",
        "Correlation is a valuable type of scientific evidence in fields such as medicine, psychology, and sociology. But first correlations must be confirmed as real, and then every possible causative relationship must be systematically explored. In the end correlation alone cannot be used as evidence for a cause-and-effect relationship between a treatment and benefit, a risk factor and a disease, or a social or economic factor and various outcomes. It is one of the most abused types of evidence, because it is easy and even tempting to come to premature conclusions based upon the preliminary appearance of a correlation."
      ]
    },
    {
      "cell_type": "markdown",
      "metadata": {
        "id": "Vd5rIfBsBlQS",
        "colab_type": "text"
      },
      "source": [
        "#Data visualization and infographics"
      ]
    },
    {
      "cell_type": "markdown",
      "metadata": {
        "id": "fJ5--L3qfo5-",
        "colab_type": "text"
      },
      "source": [
        "To communicate information clearly and efficiently, data visualization uses statistical graphics, plots, information graphics and other tools. Data visualization is both an art and a science(a branch of descriptive statistics)\n",
        ". \n",
        "In his 1983 book The Visual Display of Quantitative Information, Edward Tufte defines 'graphical displays' and principles for effective graphical display in the following passage: \"Excellence in statistical graphics consists of complex ideas communicated with clarity, precision and efficiency. Graphical displays should:\n",
        "* show the data;\n",
        "* induce the viewer to think about the substance rather than about methodology, graphic design, the technology of graphic production or something else;\n",
        "* avoid distorting what the data has to say;\n",
        "* present many numbers in a small space;\n",
        "* make large data sets coherent;\n",
        "* encourage the eye to compare different pieces of data;\n",
        "* reveal the data at several levels of detail, from a broad overview to the fine structure;\n",
        "* serve a reasonably clear purpose: description, exploration, tabulation or decoration;\n",
        "* be closely integrated with the statistical and verbal descriptions of a data set.\n",
        "\n",
        "We see that there is much more in graphical display of data than just pretty pictures with numbers.\n",
        "\n",
        "We have a wide range of standard tools for data presentation:\n",
        "* histograms\n",
        "* pie-charts\n",
        "* bar charts\n",
        "* scatter plots..."
      ]
    },
    {
      "cell_type": "markdown",
      "metadata": {
        "id": "vAVIgj5LiqPc",
        "colab_type": "text"
      },
      "source": [
        "##Histograms"
      ]
    },
    {
      "cell_type": "markdown",
      "metadata": {
        "id": "xAYzyF0bitKb",
        "colab_type": "text"
      },
      "source": [
        "A histogram is the most popular representation of the distribution of numerical data. It is an estimate of the probability distribution of a continuous variable. "
      ]
    },
    {
      "cell_type": "code",
      "metadata": {
        "id": "gj_XuSC5fsEx",
        "colab_type": "code",
        "outputId": "02c6b304-29db-43c8-ed91-06d73c0284b7",
        "colab": {
          "base_uri": "https://localhost:8080/",
          "height": 277
        }
      },
      "source": [
        "mu, sigma = 0, 2;\n",
        "x_normal = np.random.normal(mu, sigma, 10000)\n",
        "\n",
        "num_bins = 100\n",
        "plt.title('Distribution for 10000 normally distributed points (100 bins)')\n",
        "n, bins, patches = plt.hist(x_normal, num_bins, facecolor='blue', alpha=0.5)\n",
        "plt.show()"
      ],
      "execution_count": 0,
      "outputs": [
        {
          "output_type": "display_data",
          "data": {
            "image/png": "[encoded data removed]",
            "text/plain": [
              "<Figure size 432x288 with 1 Axes>"
            ]
          },
          "metadata": {
            "tags": []
          }
        }
      ]
    },
    {
      "cell_type": "markdown",
      "metadata": {
        "id": "kV5MUAPqcu9S",
        "colab_type": "text"
      },
      "source": [
        "The histogram look stongly depends on the number of bins. By the way, bins may have different width.\n",
        "\n",
        "![](https://raw.githubusercontent.com/fbeilstein/machine_learning/master/lecture_45_statistics/Travel.png)\n",
        "\n",
        "This is histogram of travel time (to work), US 2000 census. Area under the curve equals the total number of cases.\n",
        "\n",
        "Let's change $num\\_bins$ to $500$ and get a more detailed picture.\n"
      ]
    },
    {
      "cell_type": "code",
      "metadata": {
        "id": "wtv1br1QdXT8",
        "colab_type": "code",
        "outputId": "c026b0e2-738d-413c-80c1-3e4d495e51b2",
        "colab": {
          "base_uri": "https://localhost:8080/",
          "height": 277
        }
      },
      "source": [
        "mu, sigma = 0, 2;\n",
        "x_normal = np.random.normal(mu, sigma, 10000)\n",
        "\n",
        "num_bins = 700\n",
        "plt.title('Distribution for 10000 normally distributed points (700 bins)')\n",
        "n, bins, patches = plt.hist(x_normal, num_bins, facecolor='blue', alpha=0.5)\n",
        "plt.show()"
      ],
      "execution_count": 0,
      "outputs": [
        {
          "output_type": "display_data",
          "data": {
            "image/png": "[encoded data removed]",
            "text/plain": [
              "<Figure size 432x288 with 1 Axes>"
            ]
          },
          "metadata": {
            "tags": []
          }
        }
      ]
    },
    {
      "cell_type": "markdown",
      "metadata": {
        "id": "wwbJMAcahEZz",
        "colab_type": "text"
      },
      "source": [
        "We should carefully choose the bin size so that discrete nature of data and small errors would not distort the overall distribution.\n",
        "\n",
        "*Data binning* (also called Discrete binning or bucketing) is a data pre-processing technique used to reduce the effects of minor observation errors. The original data values which fall in a given small interval, a bin, are replaced by a value representative of that interval, often the central value."
      ]
    },
    {
      "cell_type": "markdown",
      "metadata": {
        "id": "cG8sN3wyjKjR",
        "colab_type": "text"
      },
      "source": [
        "##Pie charts"
      ]
    },
    {
      "cell_type": "markdown",
      "metadata": {
        "id": "jh-nDF7ji0A_",
        "colab_type": "text"
      },
      "source": [
        "Pie charts are used to present nominal (unordered) categorical data.\n",
        "Pie charts (2D and 3D) are very widely used in the business world and the mass media. However, they have been criticized, and many experts recommend avoiding them, pointing out that research has shown it is difficult to compare different sections of a given pie chart, or to compare data across different pie charts. Pie charts can be replaced in most cases by other plots such as the bar chart, box plot, dot plot, etc."
      ]
    },
    {
      "cell_type": "code",
      "metadata": {
        "id": "MYVtwm4qf668",
        "colab_type": "code",
        "outputId": "43186f9b-bead-47b3-a73c-1a17888a472e",
        "colab": {
          "base_uri": "https://localhost:8080/",
          "height": 256
        }
      },
      "source": [
        "labels = 'Python', 'C++', 'Ruby', 'Java'\n",
        "sizes = [215, 130, 245, 210]\n",
        "colors = ['gold', 'yellowgreen', 'lightcoral', 'lightskyblue']\n",
        "explode = (0.1, 0, 0, 0)  # explode 1st slice\n",
        "\n",
        "plt.pie(sizes, explode=explode, labels=labels, colors=colors,\n",
        "autopct='%1.1f%%', shadow=True, startangle=140)\n",
        "\n",
        "plt.axis('equal')\n",
        "plt.show()"
      ],
      "execution_count": 0,
      "outputs": [
        {
          "output_type": "display_data",
          "data": {
            "image/png": "[encoded data removed]",
            "text/plain": [
              "<Figure size 432x288 with 1 Axes>"
            ]
          },
          "metadata": {
            "tags": []
          }
        }
      ]
    },
    {
      "cell_type": "markdown",
      "metadata": {
        "id": "Ecyfr-rVl2Zs",
        "colab_type": "text"
      },
      "source": [
        "Here are few early examples of the pie-charts.\n",
        "The earliest known pie chart is generally credited to William Playfair's Statistical Breviary of 1801, in which two such graphs are used. Playfair presented an illustration, which contained a series of pie charts. One of those charts depicting the proportions of the Turkish Empire located in Asia, Europe and Africa before 1789. \n",
        "![](https://raw.githubusercontent.com/fbeilstein/machine_learning/master/lecture_45_statistics/Playfair_piecharts.jpg)\n",
        "\n",
        "The French engineer Charles Joseph Minard was one of the first to use pie charts, in particular in maps. Minard's map, 1858 used pie charts to represent the cattle sent from all around France for consumption in Paris (1858).\n",
        "![](https://raw.githubusercontent.com/fbeilstein/machine_learning/master/lecture_45_statistics/800px-Minard-carte-viande-1858.png)\n",
        "\n",
        "Some think that Florence Nightingale invented pie-charts, though in fact she just popularised it \n",
        "![](https://raw.githubusercontent.com/fbeilstein/machine_learning/master/lecture_45_statistics/1280px-Nightingale-mortality.jpg)\n",
        "\n",
        "By the way Charles Joseph Minard (french civil engineer) and William Playfair (Scottish engineer and political economist) are the first stars of data visualization. We will take a glance of their work in a minute."
      ]
    },
    {
      "cell_type": "markdown",
      "metadata": {
        "id": "MsVqg-kAjX1c",
        "colab_type": "text"
      },
      "source": [
        "##Bar charts"
      ]
    },
    {
      "cell_type": "markdown",
      "metadata": {
        "id": "tJ_twl9kWNPA",
        "colab_type": "text"
      },
      "source": [
        "Horizontal bar charts are usually used to present nominal (unordered) categorical data."
      ]
    },
    {
      "cell_type": "code",
      "metadata": {
        "id": "B6lXl_p7gr5m",
        "colab_type": "code",
        "outputId": "6cf869c5-acc9-42c3-a1a4-928514e080a1",
        "colab": {
          "base_uri": "https://localhost:8080/",
          "height": 472
        }
      },
      "source": [
        "plt.rcdefaults()\n",
        "\n",
        "objects = ('Python', 'C++', 'Java', 'Perl', 'Scala', 'Lisp')\n",
        "y_pos = np.arange(len(objects))\n",
        "performance = [10,8,6,4,2,1]\n",
        "\n",
        "plt.barh(y_pos, performance, align='center', alpha=0.5)\n",
        "plt.yticks(y_pos, objects)\n",
        "plt.xlabel('Usage')\n",
        "plt.title('Programming language usage')\n",
        "plt.show()"
      ],
      "execution_count": 0,
      "outputs": [
        {
          "output_type": "display_data",
          "data": {
            "image/png": "[encoded data removed]",
            "text/plain": [
              "<Figure size 640x480 with 1 Axes>"
            ]
          },
          "metadata": {
            "tags": []
          }
        }
      ]
    },
    {
      "cell_type": "markdown",
      "metadata": {
        "id": "alUxfhbOWZss",
        "colab_type": "text"
      },
      "source": [
        "Vertical bar charts are usually used to present ordinal (ordered) categorical data."
      ]
    },
    {
      "cell_type": "code",
      "metadata": {
        "id": "aLOqECGyWuEb",
        "colab_type": "code",
        "outputId": "6a4ed692-be31-4dc8-f8d3-19a7f7be9a6b",
        "colab": {
          "base_uri": "https://localhost:8080/",
          "height": 472
        }
      },
      "source": [
        "happinness_categories = (\"unhappy\", \"depressed\", \"neutral\", \"a bit happy\", \"happy\")\n",
        "happinness_percentage = [15,10,20,25,30]\n",
        "y_pos = np.arange(len(happinness_categories))\n",
        "plt.bar(y_pos, happinness_percentage, align=\"center\")\n",
        "plt.xticks(y_pos, happinness_categories)\n",
        "plt.title('Happinness survey results')\n",
        "plt.xlabel('level of happinness')\n",
        "plt.ylabel('percentage')\n",
        "plt.show()\n"
      ],
      "execution_count": 0,
      "outputs": [
        {
          "output_type": "display_data",
          "data": {
            "image/png": "[encoded data removed]",
            "text/plain": [
              "<Figure size 640x480 with 1 Axes>"
            ]
          },
          "metadata": {
            "tags": []
          }
        }
      ]
    },
    {
      "cell_type": "markdown",
      "metadata": {
        "id": "USZxUcmkjbNy",
        "colab_type": "text"
      },
      "source": [
        "##Scatter plot"
      ]
    },
    {
      "cell_type": "code",
      "metadata": {
        "id": "bgg4XO1ih_9T",
        "colab_type": "code",
        "outputId": "41cc7899-3a4f-4562-fbf8-ef55d985c242",
        "colab": {
          "base_uri": "https://localhost:8080/",
          "height": 295
        }
      },
      "source": [
        "x = np.random.randint(0,100,size=25)\n",
        "y = np.random.randint(0,100,size=25)\n",
        "z = np.random.rand(25)\n",
        "plt.title('Colored random dots on a plane')\n",
        "plt.xlabel('x')\n",
        "plt.ylabel('y')\n",
        "plt.scatter(x, y, c=z, s=100, cmap=plt.cm.cool, edgecolors='None', alpha=0.75)\n",
        "plt.colorbar()\n",
        "plt.show()"
      ],
      "execution_count": 0,
      "outputs": [
        {
          "output_type": "display_data",
          "data": {
            "image/png": "[encoded data removed]",
            "text/plain": [
              "<Figure size 432x288 with 2 Axes>"
            ]
          },
          "metadata": {
            "tags": []
          }
        }
      ]
    },
    {
      "cell_type": "markdown",
      "metadata": {
        "id": "p-ZENNgLUVkm",
        "colab_type": "text"
      },
      "source": [
        "## Don't lie with plots and charts!"
      ]
    },
    {
      "cell_type": "markdown",
      "metadata": {
        "id": "yRIToYfOUaO0",
        "colab_type": "text"
      },
      "source": [
        "When using graphics try to avoid common mistakes that confuse your reader\n",
        "* choose appropriate scale in plots (linear, logarithmic);\n",
        "* label your axis;\n",
        "\n",
        "![](https://raw.githubusercontent.com/fbeilstein/machine_learning/master/lecture_45_statistics/hwak.png)\n",
        "\n",
        "Good news, everyone! Illinois is up to $0.06$ hawks!\n",
        "Is that a percent increase? Or fractions of a thousand?\n",
        "As it turns out, this was actually meant to represent the number of hawks observed during the spring bird count, per party hour.\n",
        "\n",
        "* be cautious when choosing the $y$-axis origin and scale (don't shrink the scale);\n",
        "\n",
        "![](https://raw.githubusercontent.com/fbeilstein/machine_learning/master/lecture_45_statistics/misleading1_yaxis.png)\n",
        "\n",
        "![](https://raw.githubusercontent.com/fbeilstein/machine_learning/master/lecture_45_statistics/misleading1_fox.jpg)\n",
        "\n",
        "![](https://raw.githubusercontent.com/fbeilstein/machine_learning/master/lecture_45_statistics/misleading1_baseball.jpg)\n",
        "\n",
        "* don't try to squeeze too much information in a single graph;\n",
        "\n",
        "![](https://raw.githubusercontent.com/fbeilstein/machine_learning/master/lecture_45_statistics/6a00d8341e992c53ef017ee6ec98d3970d.png)\n",
        "\n",
        "* use inverted scales with caution;\n",
        "\n",
        "![](https://raw.githubusercontent.com/fbeilstein/machine_learning/master/lecture_45_statistics/misleading3_deaths.jpg)\n",
        "\n",
        "* fractions in pie-charts should add up to $100\\%$.\n",
        "\n",
        "![](https://raw.githubusercontent.com/fbeilstein/machine_learning/master/lecture_45_statistics/misleading3_pie.png)\n",
        "\n",
        "* avoid misleading 3D pie-charts (perspective) or better don't use 3D charts at all;\n",
        "\n",
        "![](https://raw.githubusercontent.com/fbeilstein/machine_learning/master/lecture_45_statistics/4683_d1e96978c6935ec01d995b1b8e4d8c33.png)\n",
        "\n",
        "* use common sense and good taste (don't use fancy fonts or acidic colors).\n",
        "\n",
        "![](https://raw.githubusercontent.com/fbeilstein/machine_learning/master/lecture_45_statistics/higgs.png)\n",
        "\n",
        "Please, don't use Comic Sans!\n",
        "\n",
        "\n",
        "\n"
      ]
    },
    {
      "cell_type": "markdown",
      "metadata": {
        "id": "6fJZAEFnjReN",
        "colab_type": "text"
      },
      "source": [
        "##Custom infographics"
      ]
    },
    {
      "cell_type": "markdown",
      "metadata": {
        "id": "_8w7AmyZaC2Y",
        "colab_type": "text"
      },
      "source": [
        "We can get creative and develop our own visuals. \n",
        "Here are two historical examples of ingenious infographics:\n",
        "first one is Playfair's trade-balance time-series chart, published in his Commercial and Political Atlas, 1786.\n",
        "![](https://raw.githubusercontent.com/fbeilstein/machine_learning/master/lecture_45_statistics/1280px-Playfair_TimeSeries.png)\n",
        "\n",
        "The second one is Charles Joseph Minard's 1869 diagram of Napoleonic France's invasion of Russia.\n",
        "![](https://raw.githubusercontent.com/fbeilstein/machine_learning/master/lecture_45_statistics/Minard.png)\n",
        "The graphic is notable for its representation in two dimensions of six types of data: the number of Napoleon's troops; distance; temperature; the latitude and longitude; direction of travel; and location relative to specific dates.\n",
        "\n",
        "Here are two more modern examples I like.\n",
        "That's how many NASA/JPL past & present missions flew around the universe.\n",
        "![](https://raw.githubusercontent.com/fbeilstein/machine_learning/master/lecture_45_statistics/11049.jpg)\n",
        "\n",
        "Here is the visualization of William Shakespeare’s sonnets by data artist Nicholas Rougeux. This clearly shows how data could be transfered from textual into graphical form. \n",
        "\n",
        "![](https://raw.githubusercontent.com/fbeilstein/machine_learning/master/lecture_45_statistics/56d0d3051500002b000b0d01.jpeg)\n",
        "\n",
        "Although pictures are nice, unfortunetly they do not give any insight into sonnets. Hence this is an example of pretty but pointless infographic.\n",
        "\n",
        "Here is an example of stunning infographics from Facebook group [I Fucking Love Maps](https://www.facebook.com/IFLOVEMAPS/).\n",
        "![](https://raw.githubusercontent.com/fbeilstein/machine_learning/master/lecture_45_statistics/austia.png)\n",
        "\n",
        "By the way the lectures you are listening to is in a way an example of data (or rather information) presentation. Note that I use\n",
        "* plain text\n",
        "* code injections\n",
        "* formulas\n",
        "* pictures\n",
        "* histograms, pie-charts, scatter plots...\n",
        "* videos\n",
        "* etc.\n",
        "\n",
        "Correct presentation of your work is very important - don't be lazy to choose right instruments to communicate your results.\n",
        "\n"
      ]
    },
    {
      "cell_type": "markdown",
      "metadata": {
        "id": "8lrViW5559uD",
        "colab_type": "text"
      },
      "source": [
        "#Lies, damned lies, and statistics"
      ]
    },
    {
      "cell_type": "markdown",
      "metadata": {
        "id": "9-N82IL05_2P",
        "colab_type": "text"
      },
      "source": [
        "**\"Lies, damned lies, and statistics\"** is a phrase describing the persuasive power of numbers, particularly the use of statistics to bolster weak arguments. It is also sometimes colloquially used to doubt statistics used to prove an opponent's point.\n",
        "\n",
        "The phrase was popularized in the United States by Mark Twain (among others), who attributed it to the British prime minister Benjamin Disraeli: \"There are three kinds of lies: lies, damned lies, and statistics.\" \n",
        "\n",
        "Few \"lies\" of statistics:\n",
        "* results infered from unrepresentative (biased) samples. \n",
        "\n",
        "Recent fail of data collection and data analysis is the unpredicted Trump win in the USA presedential elections.\n",
        "\n",
        "Biased sample can be seen as **garbage in, garbage out (GIGO)** problem: unreliable (\"bad\") input data render erroneus results.\n",
        "\n",
        "\n",
        "The researcher may also deliberately choose only sample that support his claim (it's called **cherry picking**).\n",
        "\n",
        "* false causality (correlation implies causation) research.\n",
        "How often do we read that medical study suggests that __ increases chances of __ decease without explaining the mechanism of such influence! Such results are suspicious.\n",
        "\n",
        "* manipulative infographics and data presentation (used in propaganda)."
      ]
    }
  ]
}