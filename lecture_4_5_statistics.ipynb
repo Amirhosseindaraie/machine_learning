{
  "nbformat": 4,
  "nbformat_minor": 0,
  "metadata": {
    "colab": {
      "name": "lecture_4.5_statistics.ipynb",
      "version": "0.3.2",
      "provenance": [],
      "include_colab_link": true
    },
    "kernelspec": {
      "name": "python3",
      "display_name": "Python 3"
    }
  },
  "cells": [
    {
      "cell_type": "markdown",
      "metadata": {
        "id": "view-in-github",
        "colab_type": "text"
      },
      "source": [
        "<a href=\"https://colab.research.google.com/github/fbeilstein/machine_learning/blob/master/lecture_4_5_statistics.ipynb\" target=\"_parent\"><img src=\"https://colab.research.google.com/assets/colab-badge.svg\" alt=\"Open In Colab\"/></a>"
      ]
    },
    {
      "cell_type": "markdown",
      "metadata": {
        "colab_type": "text",
        "id": "4OpPDyT3B0MB"
      },
      "source": [
        "#Types of data"
      ]
    },
    {
      "cell_type": "markdown",
      "metadata": {
        "colab_type": "text",
        "id": "sFcoXfVyB0L6"
      },
      "source": [
        "Datatypes are an important concept because statistical methods can only be used with certain data types. You have to analyze continuous data differently than categorical data otherwise it would result in a wrong analysis. Therefore knowing the types of data you are dealing with, enables you to choose the correct method of analysis.\n",
        "\n",
        "![](https://raw.githubusercontent.com/fbeilstein/machine_learning/master/lecture_45_statistics/1_dvvxoZTdewLFs3RyZTJreA.png)\n",
        "**Categorical(qualitive) Data**\n",
        "\n",
        "Categorical data represents characteristics. Therefore it can represent things like a person’s gender, language etc. Categorical data can also take on numerical values (Example: 1 for female and 0 for male). Note that those numbers don’t have mathematical meaning.\n",
        "\n",
        "**Nominal(unordered) Data**\n",
        "\n",
        "Nominal values represent discrete units and are used to label variables, that have no quantitative value. Just think of them as „labels“. Note that nominal data that has no order. Therefore if you would change the order of its values, the meaning would not change. You can see two examples of nominal features below:\n",
        "\n",
        "**Ordinal(ordered) Data**\n",
        "\n",
        "Ordinal data represents characteristics that do have some kind of implicit or natural order, such as \"Short, Medium, or Tall.\"  Another example is a survey question that asks us to rate an item on a 1 to 10 scale, with 10 being the best. This implies that 10 is better than 9, which is better than 8, and so on. \n",
        "\n",
        "Advanced note: The best way to determine central tendency on a set of ordinal data is to use the mode or median; a purist will tell you that the mean cannot be defined from an ordinal set.\n",
        "\n",
        "**Numerical(quantative) Data**\n",
        "Numerical data can be discrete or continuos.\n",
        "\n",
        "**Interval Data**\n",
        "\n",
        "IInterval scales are numeric scales in which we know both the order and the exact differences between the values.  The classic example of an interval scale is Celsius temperature because the difference between each value is the same.  For example, the difference between 60 and 50 degrees is a measurable 10 degrees, as is the difference between 80 and 70 degrees.\n",
        "\n",
        "Interval scales are nice because the realm of statistical analysis on these data sets opens up.  For example, central tendency can be measured by mode, median, or mean; standard deviation can also be calculated.\n",
        "\n",
        "Like the others, you can remember the key points of an “interval scale” pretty easily. “Interval” itself means “space in between,” which is the important thing to remember–interval scales not only tell us about order, but also about the value between each item.\n",
        "\n",
        "Here’s the problem with interval scales: they don’t have a “true zero.”  For example, there is no such thing as “no temperature,” at least not with celsius.  In the case of interval scales, zero doesn’t mean the absence of value, but is actually another number used on the scale, like 0 degrees celsius.  Negative numbers also have meaning.  Without a true zero, it is impossible to compute ratios.  With interval data, we can add and subtract, but cannot multiply or divide.\n",
        "\n",
        "Confused?  Ok, consider this: 10 degrees C + 10 degrees C = 20 degrees C.  No problem there.  20 degrees C is not twice as hot as 10 degrees C, however, because there is no such thing as “no temperature” when it comes to the Celsius scale.  When converted to Fahrenheit, it’s clear: 10C=50F and 20C=68F, which is clearly not twice as hot.\n",
        "\n",
        "\n",
        "**Ratio Data**\n",
        "\n",
        "Ratio values are also ordered units that have the same difference. Ratio values are the same as interval values, with the difference that they do have an absolute zero. Good examples are height, weight, length etc.\n",
        "\n",
        "![](https://raw.githubusercontent.com/fbeilstein/machine_learning/master/lecture_45_statistics/summary-of-data-types-and-scales.png)"
      ]
    },
    {
      "cell_type": "markdown",
      "metadata": {
        "id": "qxRqNcw5B3ip",
        "colab_type": "text"
      },
      "source": [
        "#Population and sample"
      ]
    },
    {
      "cell_type": "markdown",
      "metadata": {
        "id": "gVIhndlx-BvZ",
        "colab_type": "text"
      },
      "source": [
        "The key concept of statistics are the concepts of population and sample.\n",
        "\n",
        "In statistics, a *population* is a set of similar items or events which is of interest for some question or experiment. A statistical population can be a group of existing objects (e.g. the set of all stars within the Milky Way galaxy) or a hypothetical and potentially infinite group of objects conceived as a generalization from experience (e.g. the set of all possible hands in a game of poker). A common aim of statistical analysis is to produce information about some chosen population.\n",
        "\n",
        "In statistics and quantitative research methodology, a data *sample* is a set of data collected from a statistical population by a defined procedure.\n",
        "\n",
        "*Sampling* is the selection of a subset (a statistical sample) of individuals from within a statistical population to estimate characteristics of the whole population."
      ]
    },
    {
      "cell_type": "markdown",
      "metadata": {
        "id": "aEstHOdZBVEZ",
        "colab_type": "text"
      },
      "source": [
        "#Describing 1D numerical(ratio) samples "
      ]
    },
    {
      "cell_type": "markdown",
      "metadata": {
        "id": "vfyJsuXbrvzi",
        "colab_type": "text"
      },
      "source": [
        "##Central tendency estimators\n",
        "A statistic (singular) or sample statistic is any quantity computed from values in a sample.\n",
        "In statistics, there is an important distinction between a statistic and a parameter. \"Parameter\" refers to any characteristic of a population under study. When it is not possible or practical to directly measure the value of a population parameter, statistical methods are used to infer the likely value of the parameter on the basis of a statistic computed from a sample taken from the population. When a statistic is used to estimate a population parameter, is called an estimator.\n",
        "\n",
        "If we could get the entire population we could describe its tendencies. Usually we have only a small sample. That's why we have only *estimators* for population tendencies such as\n",
        "\n",
        "* sample mean - the sum of all measurements divided by the number of observations in the data set.\n",
        "\n",
        "$$\n",
        "\\bar{x}=\\frac{\\sum_{i=1}^Nx_i}{N}\n",
        "$$\n",
        "* sample median - the middle value that separates the higher half from the lower half of the data set. The median and the mode are the only measures of central tendency that can be used for ordinal data, in which values are ranked relative to each other but are not measured absolutely.\n",
        "* sample mode - the most frequent value in the data set. This is the only central tendency measure that can be used with nominal data, which have purely qualitative category assignments.\n",
        "\n"
      ]
    },
    {
      "cell_type": "code",
      "metadata": {
        "id": "D_USB-IB3MOa",
        "colab_type": "code",
        "outputId": "31f7fb24-c3b0-4063-8135-9a9b762232dd",
        "colab": {
          "base_uri": "https://localhost:8080/",
          "height": 68
        }
      },
      "source": [
        "\n",
        "import statistics\n",
        "data=[1,1,1,3,4,5,6,8]\n",
        "print(statistics.mean(data))\n",
        "print(statistics.median(data))\n",
        "print(statistics.mode(data))"
      ],
      "execution_count": 0,
      "outputs": [
        {
          "output_type": "stream",
          "text": [
            "3.625\n",
            "3.5\n",
            "1\n"
          ],
          "name": "stdout"
        }
      ]
    },
    {
      "cell_type": "markdown",
      "metadata": {
        "id": "8geUYRMt4Wfy",
        "colab_type": "text"
      },
      "source": [
        "##Variability estimators\n",
        "\n",
        "The formula for the sample standard deviation is\n",
        "$$\n",
        "s=\\sqrt{\\frac{\\sum_{i=1}^N(x_i-\\bar{x})^2}{N-1}}\n",
        "$$\n",
        "\n",
        "Sample variance\n",
        "$$\n",
        "v=s^2=\\frac{\\sum_{i=1}^N(x_i-\\bar{x})^2}{N-1}.\n",
        "$$\n",
        "\n",
        "Have you ever asked why you have $N-1$ in the denominator and not $N$?\n",
        "Actually there are two versions of std uncorrected (biased)\n",
        "\n",
        "$$\n",
        "\\hat{s}=\\sqrt{\\frac{\\sum_{i=1}^N(x_i-\\bar{x})^2}{N}}\n",
        "$$\n",
        "and the corrected (unbiased) one that we denoted as $s$.\n",
        "We see that that\n",
        "$$\n",
        "s=\\hat{s}\\underbrace{\\frac{N}{N-1}}_{\\text{Bessel's} \\\\ \\text{correction}}\n",
        "$$.\n",
        "\n",
        "In statistics, the bias (or bias function) of an estimator is the difference between this estimator's expected value and the true value (when sample $=$ entire population) of the parameter being estimated. An estimator or decision rule with zero bias is called unbiased. \n",
        "\n",
        "In other words if we average $\\hat{s}$ over all samples of size $N$ it will not be equal to\n",
        "the $\\hat{s}$ of the population.\n",
        "\n",
        "$$\n",
        "<\\hat{s}>=\n",
        "$$"
      ]
    },
    {
      "cell_type": "code",
      "metadata": {
        "id": "hjozTwN04fZN",
        "colab_type": "code",
        "outputId": "10a53de4-7494-4339-d5c3-c90e7ef3d00c",
        "colab": {
          "base_uri": "https://localhost:8080/",
          "height": 68
        }
      },
      "source": [
        "import statistics\n",
        "data=[1,1,1,3,4,5,6,8]\n",
        "print(statistics.stdev(data))\n",
        "print(statistics.variance(data))\n",
        "print(statistics.stdev(data)**2-statistics.variance(data))"
      ],
      "execution_count": 0,
      "outputs": [
        {
          "output_type": "stream",
          "text": [
            "2.615202805574687\n",
            "6.839285714285714\n",
            "0.0\n"
          ],
          "name": "stdout"
        }
      ]
    },
    {
      "cell_type": "markdown",
      "metadata": {
        "id": "36OL_GIrTKcG",
        "colab_type": "text"
      },
      "source": [
        "#Percentiles"
      ]
    },
    {
      "cell_type": "markdown",
      "metadata": {
        "id": "9f6dJsahS7R4",
        "colab_type": "text"
      },
      "source": [
        "A percentile (or a centile) is a measure used in statistics indicating the value below which a given percentage of observations in a group of observations falls. For example, the 20th percentile is the value (or score) below which 20% of the observations may be found."
      ]
    },
    {
      "cell_type": "code",
      "metadata": {
        "id": "DpMQDbQhTH4w",
        "colab_type": "code",
        "colab": {
          "base_uri": "https://localhost:8080/",
          "height": 85
        },
        "outputId": "ea5ebf8d-77ba-4f0c-b3cd-54fde661b312"
      },
      "source": [
        "import numpy as np \n",
        "    \n",
        "arr = [20, 2, 7, 1, 34] \n",
        "print(\"arr : \", arr)  \n",
        "print(\"50th percentile : \",  \n",
        "       np.percentile(arr, 50)) \n",
        "print(\"25th percentile : \", \n",
        "       np.percentile(arr, 25)) \n",
        "print(\"75th percentile : \", \n",
        "       np.percentile(arr, 75)) "
      ],
      "execution_count": 1,
      "outputs": [
        {
          "output_type": "stream",
          "text": [
            "arr :  [20, 2, 7, 1, 34]\n",
            "50th percentile of arr :  7.0\n",
            "25th percentile of arr :  2.0\n",
            "75th percentile of arr :  20.0\n"
          ],
          "name": "stdout"
        }
      ]
    },
    {
      "cell_type": "markdown",
      "metadata": {
        "id": "BF_AHq_mycAE",
        "colab_type": "text"
      },
      "source": [
        "The interquartile range (IQR), also called the midspread or middle 50%, or technically H-spread, is a measure of statistical dispersion, being equal to the difference between 75th and 25th percentiles, or between upper and lower quartiles, IQR = Q3 −  Q1."
      ]
    },
    {
      "cell_type": "code",
      "metadata": {
        "id": "gicI_aGkzAHJ",
        "colab_type": "code",
        "colab": {
          "base_uri": "https://localhost:8080/",
          "height": 34
        },
        "outputId": "6a11cddf-f82f-4bf0-cdde-9dff5eee33f8"
      },
      "source": [
        "import numpy as np \n",
        "    \n",
        "sample = [2,3,4, 2, 7, 1, 34] \n",
        "print(\"IQR = \", np.percentile(sample, 75)-np.percentile(sample, 25)) "
      ],
      "execution_count": 2,
      "outputs": [
        {
          "output_type": "stream",
          "text": [
            "IQR =  3.5\n"
          ],
          "name": "stdout"
        }
      ]
    },
    {
      "cell_type": "markdown",
      "metadata": {
        "id": "ynIj_jK3yzvJ",
        "colab_type": "text"
      },
      "source": [
        "The range of a set of data is the difference between the largest and smallest values."
      ]
    },
    {
      "cell_type": "code",
      "metadata": {
        "id": "QCA7Iv6ozYx5",
        "colab_type": "code",
        "colab": {
          "base_uri": "https://localhost:8080/",
          "height": 34
        },
        "outputId": "7688aa73-6bc5-4a24-ba77-9d543bbfd8c1"
      },
      "source": [
        "import numpy as np \n",
        "    \n",
        "sample = [2,3,4, 2, 7, 1, 34] \n",
        "print(\"range = \", max(sample)-min(sample))  \n"
      ],
      "execution_count": 7,
      "outputs": [
        {
          "output_type": "stream",
          "text": [
            "range =  33\n"
          ],
          "name": "stdout"
        }
      ]
    },
    {
      "cell_type": "markdown",
      "metadata": {
        "id": "mJcP6rnj1TLP",
        "colab_type": "text"
      },
      "source": [
        "#Covariance and correlation"
      ]
    },
    {
      "cell_type": "markdown",
      "metadata": {
        "id": "YQr5AqTr1WIk",
        "colab_type": "text"
      },
      "source": [
        "Covariance is a measure of the relationship between two random variables. The metric evaluates how much – to what extent – the variables change together.\n",
        "\n",
        "$$\n",
        "\\sigma(x,y)=\\frac{1}{N-1}\\sum_{i=1}^N(x_i-\\bar{x})(y_i-\\bar{y})\n",
        "$$\n",
        "\n",
        "Correlation also measures the strength of the relationship between variables. Correlation is the scaled measure of covariance. It is dimensionless. In other words, the correlation coefficient is always a pure value and not measured in any units.\n",
        "\n",
        "$$\n",
        "\\rho(x,y)=\\frac{\\sigma(x,y)}{\\sigma_x \\sigma_y}\n",
        "$$"
      ]
    },
    {
      "cell_type": "markdown",
      "metadata": {
        "id": "Vd5rIfBsBlQS",
        "colab_type": "text"
      },
      "source": [
        "#Infographics and Data visualization"
      ]
    },
    {
      "cell_type": "markdown",
      "metadata": {
        "id": "_8w7AmyZaC2Y",
        "colab_type": "text"
      },
      "source": [
        "Data visualization is the graphic representation of data. To communicate information clearly and efficiently, data visualization uses statistical graphics, plots, information graphics and other tools. Data visualization is both an art and a science(a branch of descriptive statistics)\n",
        ". \n",
        "In his 1983 book The Visual Display of Quantitative Information, Edward Tufte defines 'graphical displays' and principles for effective graphical display in the following passage: \"Excellence in statistical graphics consists of complex ideas communicated with clarity, precision and efficiency. Graphical displays should:\n",
        "* show the data;\n",
        "* induce the viewer to think about the substance rather than about methodology, graphic design, the technology of graphic production or something else;\n",
        "* avoid distorting what the data has to say;\n",
        "* present many numbers in a small space;\n",
        "* make large data sets coherent;\n",
        "* encourage the eye to compare different pieces of data;\n",
        "* reveal the data at several levels of detail, from a broad overview to the fine structure;\n",
        "* serve a reasonably clear purpose: description, exploration, tabulation or decoration;\n",
        "* be closely integrated with the statistical and verbal descriptions of a data set.\n",
        "\n",
        "Here are two historical examples of ingenious infographics:\n",
        "First one is Playfair's trade-balance time-series chart, published in his Commercial and Political Atlas, 1786.\n",
        "![](https://raw.githubusercontent.com/fbeilstein/machine_learning/master/lecture_45_statistics/1280px-Playfair_TimeSeries.png)\n",
        "\n",
        "The second one is Charles Joseph Minard's 1869 diagram of Napoleonic France's invasion of Russia.\n",
        "![](https://raw.githubusercontent.com/fbeilstein/machine_learning/master/lecture_45_statistics/Minard.png)\n",
        "The graphic is notable for its representation in two dimensions of six types of data: the number of Napoleon's troops; distance; temperature; the latitude and longitude; direction of travel; and location relative to specific dates.\n",
        "\n",
        "Here are two more modern examples I like.\n",
        "That's how many NASA/JPL past & present missions flew around the universe.\n",
        "![](https://raw.githubusercontent.com/fbeilstein/machine_learning/master/lecture_45_statistics/11049.jpg)\n",
        "\n",
        "Here is the visualization of William Shakespeare’s sonnets by data artist Nicholas Rougeux. This clearly shows how data could be transfered from textual into graphical form. \n",
        "\n",
        "![](https://raw.githubusercontent.com/fbeilstein/machine_learning/master/lecture_45_statistics/56d0d3051500002b000b0d01.jpeg)\n",
        "\n",
        "Although pictures are nice, unfortunetly they do not give any insight into sonnets. Hence this is an example of pretty but pointless infographic.\n",
        "Correct presentation of your work is very important - don't be lazy to choose right instruments to communicate your results.\n"
      ]
    },
    {
      "cell_type": "code",
      "metadata": {
        "id": "9l1c7g4grpTc",
        "colab_type": "code",
        "colab": {}
      },
      "source": [
        "\n"
      ],
      "execution_count": 0,
      "outputs": []
    }
  ]
}