{
  "nbformat": 4,
  "nbformat_minor": 0,
  "metadata": {
    "colab": {
      "name": "workbook_02_python.ipynb",
      "provenance": [],
      "authorship_tag": "ABX9TyPbKmqsrz5gNxF1MPCb2h6p",
      "include_colab_link": true
    },
    "kernelspec": {
      "name": "python3",
      "display_name": "Python 3"
    }
  },
  "cells": [
    {
      "cell_type": "markdown",
      "metadata": {
        "id": "view-in-github",
        "colab_type": "text"
      },
      "source": [
        "<a href=\"https://colab.research.google.com/github/fbeilstein/machine_learning/blob/master/workbook_02_python.ipynb\" target=\"_parent\"><img src=\"https://colab.research.google.com/assets/colab-badge.svg\" alt=\"Open In Colab\"/></a>"
      ]
    },
    {
      "cell_type": "markdown",
      "metadata": {
        "id": "bK51eZuhhpWx",
        "colab_type": "text"
      },
      "source": [
        "Run the following block to get helper functions `%%debug_cell_with_pytutor` and `%%embed_into_game`. Explanation follows."
      ]
    },
    {
      "cell_type": "code",
      "metadata": {
        "id": "bpEw48qnhKZy",
        "colab_type": "code",
        "cellView": "form",
        "colab": {}
      },
      "source": [
        "#@title #Black magic (just run it to get few helper functions)\n",
        "\n",
        "from IPython.core.magic import  Magics, magics_class, cell_magic, line_magic\n",
        "\n",
        "@magics_class\n",
        "class Helper(Magics):\n",
        "\n",
        "  def __init__(self, shell=None,  **kwargs):\n",
        "    super().__init__(shell=shell, **kwargs)\n",
        "\n",
        "  @cell_magic\n",
        "  def debug_cell_with_pytutor(self, line, cell):\n",
        "    import urllib.parse\n",
        "    url_src = urllib.parse.quote(cell)\n",
        "    str_begin = '<iframe width=\"1000\" height=\"500\" frameborder=\"0\" src=\"https://pythontutor.com/iframe-embed.html#code='\n",
        "    str_end   = '&cumulative=false&py=3&curInstr=0\"></iframe>'\n",
        "    import IPython\n",
        "    from google.colab import output\n",
        "    display(IPython.display.HTML(str_begin+url_src+str_end))\n",
        "\n",
        "  @cell_magic\n",
        "  def embed_into_game(self, line, cell):\n",
        "    games = {'snake': self._snake_game}\n",
        "    games[line](cell)\n",
        "\n",
        "  def _snake_game(self, python_code):\n",
        "    str_begin = '''\n",
        "<script type=\"text/javascript\" src=\"https://brython.info/src/brython.js\"></script>\n",
        "<script type=\"text/javascript\" src=\"https://brython.info/src/brython_stdlib.js\"></script>\n",
        "<script type=\"text/python3\">\n",
        "    '''\n",
        "    str_end = '''\n",
        "from browser import document, svg, timer\n",
        "\n",
        "class Field:\n",
        "  def __init__(self, w, h):\n",
        "    self.rects = [[svg.rect(x=40*i, y=40*j, width=38, height=38, fill='#000000') for i in range(w)] for j in range(h)]\n",
        "    self.panel = document['panel']\n",
        "    for row in self.rects:\n",
        "      for rect in row:\n",
        "        self.panel <= rect\n",
        "\n",
        "  def clear(self):\n",
        "    for row in self.rects:\n",
        "      for rect in row:\n",
        "        rect.attrs['fill'] = '#000000'\n",
        "\n",
        "  def draw_snake(self, snake):\n",
        "    for i,j in snake:\n",
        "      (self.rects[j][i]).attrs['fill'] = '#00AA00'\n",
        "\n",
        "  def draw_apple(self, apple):\n",
        "    i,j = apple\n",
        "    (self.rects[j][i]).attrs['fill'] = '#AA0000'\n",
        "\n",
        "field = Field(15, 15)\n",
        "snake = Snake(15, 15)\n",
        "snake.reset()\n",
        "apple = Apple(15, 15)\n",
        "apple.reset()\n",
        "\n",
        "def keyCode(ev):\n",
        "  ev.stopPropagation()\n",
        "  snake.set_direction({87:[0,-1], 83:[0,1], 65:[-1,0], 68:[1,0]}[int(ev.keyCode)])\n",
        "\n",
        "document.onkeydown = keyCode\n",
        "\n",
        "def evolute():\n",
        "  snake.move_one_step()\n",
        "  if snake.head_collision():\n",
        "    snake.reset()\n",
        "    apple.reset()\n",
        "  field.clear()\n",
        "  field.draw_apple(apple.get_apple())\n",
        "  field.draw_snake(snake.get_snake())\n",
        "  head = snake.get_snake()[0]\n",
        "  a = apple.get_apple()\n",
        "  if head[0] == a[0] and head[1] == a[1]:\n",
        "    snake.grow_on_next_step()\n",
        "    apple.reset()\n",
        "    \n",
        "loop = timer.set_interval(evolute, 300)\n",
        "\n",
        "</script>\n",
        "\n",
        "<svg xmlns=\"http://www.w3.org/2000/svg\" xmlns:xlink=\"http://www.w3.org/1999/xlink\" \n",
        "    width=\"600\" height=\"600\" style=\"border-style:solid;border-width:1;border-color:#000;\">\n",
        "  <g id=\"panel\">\n",
        "  </g>\n",
        "</svg>\n",
        "\n",
        "<script>\n",
        "brython(1)\n",
        "</script>\n",
        "    '''\n",
        "    import IPython\n",
        "    from google.colab import output\n",
        "    display(IPython.display.HTML(str_begin + python_code + str_end))\n",
        "\n",
        "## use ipython load_ext mechanism here if distributed\n",
        "get_ipython().register_magics(Helper)"
      ],
      "execution_count": 0,
      "outputs": []
    },
    {
      "cell_type": "markdown",
      "metadata": {
        "id": "fX_1GQHFiDrE",
        "colab_type": "text"
      },
      "source": [
        "# Learn to debug"
      ]
    },
    {
      "cell_type": "markdown",
      "metadata": {
        "id": "PS-LhD3WjMLZ",
        "colab_type": "text"
      },
      "source": [
        "The following code generates list of lists that contain strings of a form 'row,column'.\n",
        "\n",
        "* **problem 1:** run the script and see its output\n",
        "* **problem 2:** add at the top of the cell `%%debug_cell_with_pytutor` to run a remote debugger. Use debugger to undestand how the code works."
      ]
    },
    {
      "cell_type": "code",
      "metadata": {
        "id": "JHWesjJTiwkx",
        "colab_type": "code",
        "outputId": "74ef3f98-ea7f-4608-afb7-4038b004280f",
        "colab": {
          "base_uri": "https://localhost:8080/",
          "height": 35
        }
      },
      "source": [
        "total_list = []\n",
        "for i in range(3):\n",
        "  l = []\n",
        "  for j in range(3):\n",
        "    l.append('{},{}'.format(i,j))\n",
        "  total_list.append(l)\n",
        "total_list"
      ],
      "execution_count": 0,
      "outputs": [
        {
          "output_type": "execute_result",
          "data": {
            "text/plain": [
              "[['0,0', '0,1', '0,2'], ['1,0', '1,1', '1,2'], ['2,0', '2,1', '2,2']]"
            ]
          },
          "metadata": {
            "tags": []
          },
          "execution_count": 54
        }
      ]
    },
    {
      "cell_type": "markdown",
      "metadata": {
        "id": "fm7PHZOMkQMZ",
        "colab_type": "text"
      },
      "source": [
        "#Learn to solve this lecture's problems"
      ]
    },
    {
      "cell_type": "markdown",
      "metadata": {
        "id": "7qIDJcV6kU_I",
        "colab_type": "text"
      },
      "source": [
        "first, read through the problem. you will mostly be asked to implement some missing parts of code. Please, do not use `numpy` or any fancy libraries at this stage -- we will need to convert your code to JS later."
      ]
    },
    {
      "cell_type": "markdown",
      "metadata": {
        "id": "ibUZgQHAnFSf",
        "colab_type": "text"
      },
      "source": [
        "* **Problem 1:** Implement the \"Snake game\" by filling in the missing parts of code (see comments in the following code section).\n",
        "* **Problem 2:** Make sure that all unit-tests are passing. Fix any bugs you find. You can use `%%debug_cell_with_pytutor` to make debug easier, but do not forget to remove it after you finish debugging.\n",
        "* **Problem 3:** Add `%%embed_into_game snake` at the top of the cell and try playing the game. Use \"wasd\" for control."
      ]
    },
    {
      "cell_type": "code",
      "metadata": {
        "id": "AX-K_fHSkx4N",
        "colab_type": "code",
        "colab": {
          "base_uri": "https://localhost:8080/",
          "height": 521
        },
        "outputId": "24dc6232-c757-43dd-80cc-f7c4baac8740"
      },
      "source": [
        "\n",
        "# This is the complete code\n",
        "# I will remove parts of it and replace with appropriate comments.\n",
        "\n",
        "import random\n",
        "\n",
        "class Apple:\n",
        "  def __init__(self, w, h):\n",
        "    self.pos = [0, 0]\n",
        "    self.w = w\n",
        "    self.h = h\n",
        "        \n",
        "  def reset(self):\n",
        "    self.pos = [random.randint(0, self.w - 1), random.randint(0, self.h - 1)]\n",
        "\n",
        "  def get_apple(self):\n",
        "    return self.pos\n",
        "\n",
        "class Snake:\n",
        "  def __init__(self, w, h):\n",
        "    self.pos = []\n",
        "    self.direction = []\n",
        "    self.grow = False\n",
        "    self.w = w\n",
        "    self.h = h\n",
        "        \n",
        "  def move_one_step(self):\n",
        "    head = [self.pos[0][0] + self.direction[0], self.pos[0][1] + self.direction[1]]\n",
        "    if not self.grow:\n",
        "      self.pos = [head] + self.pos[:-1]\n",
        "    else:\n",
        "      self.pos = [head] + self.pos\n",
        "      self.grow = False\n",
        "    \n",
        "  def set_direction(self, direction):\n",
        "    if not self.direction[0] * direction[0] + self.direction[1] * direction[1]:\n",
        "      self.direction = direction\n",
        "    \n",
        "  def get_snake(self):\n",
        "    return self.pos\n",
        "    \n",
        "  def reset(self):\n",
        "    self.pos = [[10,10], [10,11]]\n",
        "    self.direction = [0, -1]\n",
        "    self.grow = False\n",
        "        \n",
        "  def grow_on_next_step(self):\n",
        "    self.grow = True\n",
        "        \n",
        "  def head_collision(self):\n",
        "    head = self.pos[0]\n",
        "    if head[0] < 0 or head[0] >= self.w:\n",
        "      return True\n",
        "    if head[1] < 0 or head[1] >= self.h:\n",
        "      return True\n",
        "    if head in self.pos[1:]:\n",
        "      return True\n",
        "    return False\n",
        "\n",
        "snake = Snake(15, 15)\n",
        "assert isinstance(snake, Snake), \"Not instance of snake\"\n",
        "# I will put much more tests here\n",
        "print(\"ALL TESTS SUCCESSFULLY PASSED\")"
      ],
      "execution_count": 4,
      "outputs": [
        {
          "output_type": "display_data",
          "data": {
            "text/html": [
              "<iframe width=\"1000\" height=\"500\" frameborder=\"0\" src=\"https://pythontutor.com/iframe-embed.html#code=%23%20This%20is%20the%20complete%20code%0A%23%20I%20will%20remove%20parts%20of%20it%20and%20replace%20with%20appropriate%20comments.%0A%0Aimport%20random%0A%0Aclass%20Apple%3A%0A%20%20def%20__init__%28self%2C%20w%2C%20h%29%3A%0A%20%20%20%20self.pos%20%3D%20%5B0%2C%200%5D%0A%20%20%20%20self.w%20%3D%20w%0A%20%20%20%20self.h%20%3D%20h%0A%20%20%20%20%20%20%20%20%0A%20%20def%20reset%28self%29%3A%0A%20%20%20%20self.pos%20%3D%20%5Brandom.randint%280%2C%20self.w%20-%201%29%2C%20random.randint%280%2C%20self.h%20-%201%29%5D%0A%0A%20%20def%20get_apple%28self%29%3A%0A%20%20%20%20return%20self.pos%0A%0Aclass%20Snake%3A%0A%20%20def%20__init__%28self%2C%20w%2C%20h%29%3A%0A%20%20%20%20self.pos%20%3D%20%5B%5D%0A%20%20%20%20self.direction%20%3D%20%5B%5D%0A%20%20%20%20self.grow%20%3D%20False%0A%20%20%20%20self.w%20%3D%20w%0A%20%20%20%20self.h%20%3D%20h%0A%20%20%20%20%20%20%20%20%0A%20%20def%20move_one_step%28self%29%3A%0A%20%20%20%20head%20%3D%20%5Bself.pos%5B0%5D%5B0%5D%20%2B%20self.direction%5B0%5D%2C%20self.pos%5B0%5D%5B1%5D%20%2B%20self.direction%5B1%5D%5D%0A%20%20%20%20if%20not%20self.grow%3A%0A%20%20%20%20%20%20self.pos%20%3D%20%5Bhead%5D%20%2B%20self.pos%5B%3A-1%5D%0A%20%20%20%20else%3A%0A%20%20%20%20%20%20self.pos%20%3D%20%5Bhead%5D%20%2B%20self.pos%0A%20%20%20%20%20%20self.grow%20%3D%20False%0A%20%20%20%20%0A%20%20def%20set_direction%28self%2C%20direction%29%3A%0A%20%20%20%20if%20not%20self.direction%5B0%5D%20%2A%20direction%5B0%5D%20%2B%20self.direction%5B1%5D%20%2A%20direction%5B1%5D%3A%0A%20%20%20%20%20%20self.direction%20%3D%20direction%0A%20%20%20%20%0A%20%20def%20get_snake%28self%29%3A%0A%20%20%20%20return%20self.pos%0A%20%20%20%20%0A%20%20def%20reset%28self%29%3A%0A%20%20%20%20self.pos%20%3D%20%5B%5B10%2C10%5D%2C%20%5B10%2C11%5D%5D%0A%20%20%20%20self.direction%20%3D%20%5B0%2C%20-1%5D%0A%20%20%20%20self.grow%20%3D%20False%0A%20%20%20%20%20%20%20%20%0A%20%20def%20grow_on_next_step%28self%29%3A%0A%20%20%20%20self.grow%20%3D%20True%0A%20%20%20%20%20%20%20%20%0A%20%20def%20head_collision%28self%29%3A%0A%20%20%20%20head%20%3D%20self.pos%5B0%5D%0A%20%20%20%20if%20head%5B0%5D%20%3C%200%20or%20head%5B0%5D%20%3E%3D%20self.w%3A%0A%20%20%20%20%20%20return%20True%0A%20%20%20%20if%20head%5B1%5D%20%3C%200%20or%20head%5B1%5D%20%3E%3D%20self.h%3A%0A%20%20%20%20%20%20return%20True%0A%20%20%20%20if%20head%20in%20self.pos%5B1%3A%5D%3A%0A%20%20%20%20%20%20return%20True%0A%20%20%20%20return%20False%0A%0Asnake%20%3D%20Snake%2815%2C%2015%29%0Aassert%20isinstance%28snake%2C%20Snake%29%2C%20%22Not%20instance%20of%20snake%22%0A%23%20I%20will%20put%20much%20more%20tests%20here%0Aprint%28%22ALL%20TESTS%20SUCCESSFULLY%20PASSED%22%29&cumulative=false&py=3&curInstr=0\"></iframe>"
            ],
            "text/plain": [
              "<IPython.core.display.HTML object>"
            ]
          },
          "metadata": {
            "tags": []
          }
        }
      ]
    }
  ]
}