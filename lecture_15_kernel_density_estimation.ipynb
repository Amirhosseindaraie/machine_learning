{
  "nbformat": 4,
  "nbformat_minor": 0,
  "metadata": {
    "colab": {
      "name": "lecture_15_kernel_density_estimation.ipynb",
      "provenance": [],
      "include_colab_link": true
    },
    "kernelspec": {
      "name": "python3",
      "display_name": "Python 3"
    },
    "widgets": {
      "application/vnd.jupyter.widget-state+json": {
        "0f334d37280e4531bda015aa6290c1b3": {
          "model_module": "@jupyter-widgets/controls",
          "model_name": "HBoxModel",
          "state": {
            "_view_name": "HBoxView",
            "_dom_classes": [],
            "_model_name": "HBoxModel",
            "_view_module": "@jupyter-widgets/controls",
            "_model_module_version": "1.5.0",
            "_view_count": null,
            "_view_module_version": "1.5.0",
            "box_style": "",
            "layout": "IPY_MODEL_9bd08a59cc3e4afa8cb1601ad5376b0c",
            "_model_module": "@jupyter-widgets/controls",
            "children": [
              "IPY_MODEL_e3546ddd48cb45a5890b9848af43dbad",
              "IPY_MODEL_2fe9a2b30b2e463da124c9447a8171c8",
              "IPY_MODEL_36cc56e11a3a47329356690f3c1d7cba",
              "IPY_MODEL_c3859f6b6765407fa91318c2cca3cc57"
            ]
          }
        },
        "9bd08a59cc3e4afa8cb1601ad5376b0c": {
          "model_module": "@jupyter-widgets/base",
          "model_name": "LayoutModel",
          "state": {
            "_view_name": "LayoutView",
            "grid_template_rows": null,
            "right": null,
            "justify_content": null,
            "_view_module": "@jupyter-widgets/base",
            "overflow": null,
            "_model_module_version": "1.2.0",
            "_view_count": null,
            "flex_flow": null,
            "width": null,
            "min_width": null,
            "border": null,
            "align_items": null,
            "bottom": null,
            "_model_module": "@jupyter-widgets/base",
            "top": null,
            "grid_column": null,
            "overflow_y": null,
            "overflow_x": null,
            "grid_auto_flow": null,
            "grid_area": null,
            "grid_template_columns": null,
            "flex": null,
            "_model_name": "LayoutModel",
            "justify_items": null,
            "grid_row": null,
            "max_height": null,
            "align_content": null,
            "visibility": null,
            "align_self": null,
            "height": null,
            "min_height": null,
            "padding": null,
            "grid_auto_rows": null,
            "grid_gap": null,
            "max_width": null,
            "order": null,
            "_view_module_version": "1.2.0",
            "grid_template_areas": null,
            "object_position": null,
            "object_fit": null,
            "grid_auto_columns": null,
            "margin": null,
            "display": null,
            "left": null
          }
        },
        "e3546ddd48cb45a5890b9848af43dbad": {
          "model_module": "@jupyter-widgets/controls",
          "model_name": "VBoxModel",
          "state": {
            "_view_name": "VBoxView",
            "_dom_classes": [],
            "_model_name": "VBoxModel",
            "_view_module": "@jupyter-widgets/controls",
            "_model_module_version": "1.5.0",
            "_view_count": null,
            "_view_module_version": "1.5.0",
            "box_style": "",
            "layout": "IPY_MODEL_04f83d8453a94f6c9fd245e838203c37",
            "_model_module": "@jupyter-widgets/controls",
            "children": [
              "IPY_MODEL_540325d450d549b2882e4a191eaf61f7"
            ]
          }
        },
        "2fe9a2b30b2e463da124c9447a8171c8": {
          "model_module": "@jupyter-widgets/controls",
          "model_name": "VBoxModel",
          "state": {
            "_view_name": "VBoxView",
            "_dom_classes": [],
            "_model_name": "VBoxModel",
            "_view_module": "@jupyter-widgets/controls",
            "_model_module_version": "1.5.0",
            "_view_count": null,
            "_view_module_version": "1.5.0",
            "box_style": "",
            "layout": "IPY_MODEL_cae1a26338f149ba978028fd685832b6",
            "_model_module": "@jupyter-widgets/controls",
            "children": [
              "IPY_MODEL_c13044732c394a6d8169238b245b0ba4",
              "IPY_MODEL_9c918121c21d443da684a64577fefe8a"
            ]
          }
        },
        "36cc56e11a3a47329356690f3c1d7cba": {
          "model_module": "@jupyter-widgets/controls",
          "model_name": "VBoxModel",
          "state": {
            "_view_name": "VBoxView",
            "_dom_classes": [],
            "_model_name": "VBoxModel",
            "_view_module": "@jupyter-widgets/controls",
            "_model_module_version": "1.5.0",
            "_view_count": null,
            "_view_module_version": "1.5.0",
            "box_style": "",
            "layout": "IPY_MODEL_0ca0843e67e34e6b94f646c3e3bd02b9",
            "_model_module": "@jupyter-widgets/controls",
            "children": [
              "IPY_MODEL_8a9573f2192b476b8bae748ac9c16308",
              "IPY_MODEL_1ae4b65138354da38f2f649da8389445"
            ]
          }
        },
        "c3859f6b6765407fa91318c2cca3cc57": {
          "model_module": "@jupyter-widgets/controls",
          "model_name": "VBoxModel",
          "state": {
            "_view_name": "VBoxView",
            "_dom_classes": [],
            "_model_name": "VBoxModel",
            "_view_module": "@jupyter-widgets/controls",
            "_model_module_version": "1.5.0",
            "_view_count": null,
            "_view_module_version": "1.5.0",
            "box_style": "",
            "layout": "IPY_MODEL_87407dee15524433b129e201cc028044",
            "_model_module": "@jupyter-widgets/controls",
            "children": [
              "IPY_MODEL_3a0365b8194b41e9a00395750ba045e7",
              "IPY_MODEL_08bc335503ad4152853646ddb93b88b7"
            ]
          }
        },
        "04f83d8453a94f6c9fd245e838203c37": {
          "model_module": "@jupyter-widgets/base",
          "model_name": "LayoutModel",
          "state": {
            "_view_name": "LayoutView",
            "grid_template_rows": null,
            "right": null,
            "justify_content": null,
            "_view_module": "@jupyter-widgets/base",
            "overflow": null,
            "_model_module_version": "1.2.0",
            "_view_count": null,
            "flex_flow": null,
            "width": null,
            "min_width": null,
            "border": null,
            "align_items": null,
            "bottom": null,
            "_model_module": "@jupyter-widgets/base",
            "top": null,
            "grid_column": null,
            "overflow_y": null,
            "overflow_x": null,
            "grid_auto_flow": null,
            "grid_area": null,
            "grid_template_columns": null,
            "flex": null,
            "_model_name": "LayoutModel",
            "justify_items": null,
            "grid_row": null,
            "max_height": null,
            "align_content": null,
            "visibility": null,
            "align_self": null,
            "height": null,
            "min_height": null,
            "padding": null,
            "grid_auto_rows": null,
            "grid_gap": null,
            "max_width": null,
            "order": null,
            "_view_module_version": "1.2.0",
            "grid_template_areas": null,
            "object_position": null,
            "object_fit": null,
            "grid_auto_columns": null,
            "margin": null,
            "display": null,
            "left": null
          }
        },
        "540325d450d549b2882e4a191eaf61f7": {
          "model_module": "@jupyter-widgets/controls",
          "model_name": "FloatRangeSliderModel",
          "state": {
            "_view_name": "FloatRangeSliderView",
            "style": "IPY_MODEL_75f63f92b5f14a91ab9eec1c3739e289",
            "_dom_classes": [],
            "description": "pi(1,2,3)",
            "step": 0.1,
            "_model_name": "FloatRangeSliderModel",
            "orientation": "horizontal",
            "max": 1,
            "_view_module": "@jupyter-widgets/controls",
            "_model_module_version": "1.5.0",
            "value": [
              0.3,
              0.6
            ],
            "_view_count": null,
            "disabled": false,
            "_view_module_version": "1.5.0",
            "min": 0,
            "continuous_update": true,
            "readout_format": ".2f",
            "description_tooltip": null,
            "readout": true,
            "_model_module": "@jupyter-widgets/controls",
            "layout": "IPY_MODEL_4647c4b2d1f649d3a2aef12e50b6120f"
          }
        },
        "cae1a26338f149ba978028fd685832b6": {
          "model_module": "@jupyter-widgets/base",
          "model_name": "LayoutModel",
          "state": {
            "_view_name": "LayoutView",
            "grid_template_rows": null,
            "right": null,
            "justify_content": null,
            "_view_module": "@jupyter-widgets/base",
            "overflow": null,
            "_model_module_version": "1.2.0",
            "_view_count": null,
            "flex_flow": null,
            "width": null,
            "min_width": null,
            "border": null,
            "align_items": null,
            "bottom": null,
            "_model_module": "@jupyter-widgets/base",
            "top": null,
            "grid_column": null,
            "overflow_y": null,
            "overflow_x": null,
            "grid_auto_flow": null,
            "grid_area": null,
            "grid_template_columns": null,
            "flex": null,
            "_model_name": "LayoutModel",
            "justify_items": null,
            "grid_row": null,
            "max_height": null,
            "align_content": null,
            "visibility": null,
            "align_self": null,
            "height": null,
            "min_height": null,
            "padding": null,
            "grid_auto_rows": null,
            "grid_gap": null,
            "max_width": null,
            "order": null,
            "_view_module_version": "1.2.0",
            "grid_template_areas": null,
            "object_position": null,
            "object_fit": null,
            "grid_auto_columns": null,
            "margin": null,
            "display": null,
            "left": null
          }
        },
        "c13044732c394a6d8169238b245b0ba4": {
          "model_module": "@jupyter-widgets/controls",
          "model_name": "FloatSliderModel",
          "state": {
            "_view_name": "FloatSliderView",
            "style": "IPY_MODEL_a9297559de9e4107a663030faec48b7f",
            "_dom_classes": [],
            "description": "mu_1",
            "step": 0.1,
            "_model_name": "FloatSliderModel",
            "orientation": "horizontal",
            "max": 100,
            "_view_module": "@jupyter-widgets/controls",
            "_model_module_version": "1.5.0",
            "value": 10,
            "_view_count": null,
            "disabled": false,
            "_view_module_version": "1.5.0",
            "min": 0,
            "continuous_update": true,
            "readout_format": ".2f",
            "description_tooltip": null,
            "readout": true,
            "_model_module": "@jupyter-widgets/controls",
            "layout": "IPY_MODEL_7f4fe20583b943ef88e33e73574ad7f3"
          }
        },
        "9c918121c21d443da684a64577fefe8a": {
          "model_module": "@jupyter-widgets/controls",
          "model_name": "FloatSliderModel",
          "state": {
            "_view_name": "FloatSliderView",
            "style": "IPY_MODEL_7c21754183024da8b61a2c41d47a78dc",
            "_dom_classes": [],
            "description": "sigma_1",
            "step": 0.1,
            "_model_name": "FloatSliderModel",
            "orientation": "horizontal",
            "max": 10,
            "_view_module": "@jupyter-widgets/controls",
            "_model_module_version": "1.5.0",
            "value": 10,
            "_view_count": null,
            "disabled": false,
            "_view_module_version": "1.5.0",
            "min": 1,
            "continuous_update": true,
            "readout_format": ".2f",
            "description_tooltip": null,
            "readout": true,
            "_model_module": "@jupyter-widgets/controls",
            "layout": "IPY_MODEL_55e8299794864b71a70466381162950c"
          }
        },
        "0ca0843e67e34e6b94f646c3e3bd02b9": {
          "model_module": "@jupyter-widgets/base",
          "model_name": "LayoutModel",
          "state": {
            "_view_name": "LayoutView",
            "grid_template_rows": null,
            "right": null,
            "justify_content": null,
            "_view_module": "@jupyter-widgets/base",
            "overflow": null,
            "_model_module_version": "1.2.0",
            "_view_count": null,
            "flex_flow": null,
            "width": null,
            "min_width": null,
            "border": null,
            "align_items": null,
            "bottom": null,
            "_model_module": "@jupyter-widgets/base",
            "top": null,
            "grid_column": null,
            "overflow_y": null,
            "overflow_x": null,
            "grid_auto_flow": null,
            "grid_area": null,
            "grid_template_columns": null,
            "flex": null,
            "_model_name": "LayoutModel",
            "justify_items": null,
            "grid_row": null,
            "max_height": null,
            "align_content": null,
            "visibility": null,
            "align_self": null,
            "height": null,
            "min_height": null,
            "padding": null,
            "grid_auto_rows": null,
            "grid_gap": null,
            "max_width": null,
            "order": null,
            "_view_module_version": "1.2.0",
            "grid_template_areas": null,
            "object_position": null,
            "object_fit": null,
            "grid_auto_columns": null,
            "margin": null,
            "display": null,
            "left": null
          }
        },
        "8a9573f2192b476b8bae748ac9c16308": {
          "model_module": "@jupyter-widgets/controls",
          "model_name": "FloatSliderModel",
          "state": {
            "_view_name": "FloatSliderView",
            "style": "IPY_MODEL_b07f6b16d6ef44df83be40d7fe17719a",
            "_dom_classes": [],
            "description": "mu_2",
            "step": 0.1,
            "_model_name": "FloatSliderModel",
            "orientation": "horizontal",
            "max": 100,
            "_view_module": "@jupyter-widgets/controls",
            "_model_module_version": "1.5.0",
            "value": 50,
            "_view_count": null,
            "disabled": false,
            "_view_module_version": "1.5.0",
            "min": 0,
            "continuous_update": true,
            "readout_format": ".2f",
            "description_tooltip": null,
            "readout": true,
            "_model_module": "@jupyter-widgets/controls",
            "layout": "IPY_MODEL_73d51d126a004043af1c055a81ee91a1"
          }
        },
        "1ae4b65138354da38f2f649da8389445": {
          "model_module": "@jupyter-widgets/controls",
          "model_name": "FloatSliderModel",
          "state": {
            "_view_name": "FloatSliderView",
            "style": "IPY_MODEL_7b6da1c69d2643058e647f82572b921e",
            "_dom_classes": [],
            "description": "sigma_2",
            "step": 0.1,
            "_model_name": "FloatSliderModel",
            "orientation": "horizontal",
            "max": 10,
            "_view_module": "@jupyter-widgets/controls",
            "_model_module_version": "1.5.0",
            "value": 10,
            "_view_count": null,
            "disabled": false,
            "_view_module_version": "1.5.0",
            "min": 1,
            "continuous_update": true,
            "readout_format": ".2f",
            "description_tooltip": null,
            "readout": true,
            "_model_module": "@jupyter-widgets/controls",
            "layout": "IPY_MODEL_ea05b10ee8ea4fb7b42c3ab88bf5fecc"
          }
        },
        "87407dee15524433b129e201cc028044": {
          "model_module": "@jupyter-widgets/base",
          "model_name": "LayoutModel",
          "state": {
            "_view_name": "LayoutView",
            "grid_template_rows": null,
            "right": null,
            "justify_content": null,
            "_view_module": "@jupyter-widgets/base",
            "overflow": null,
            "_model_module_version": "1.2.0",
            "_view_count": null,
            "flex_flow": null,
            "width": null,
            "min_width": null,
            "border": null,
            "align_items": null,
            "bottom": null,
            "_model_module": "@jupyter-widgets/base",
            "top": null,
            "grid_column": null,
            "overflow_y": null,
            "overflow_x": null,
            "grid_auto_flow": null,
            "grid_area": null,
            "grid_template_columns": null,
            "flex": null,
            "_model_name": "LayoutModel",
            "justify_items": null,
            "grid_row": null,
            "max_height": null,
            "align_content": null,
            "visibility": null,
            "align_self": null,
            "height": null,
            "min_height": null,
            "padding": null,
            "grid_auto_rows": null,
            "grid_gap": null,
            "max_width": null,
            "order": null,
            "_view_module_version": "1.2.0",
            "grid_template_areas": null,
            "object_position": null,
            "object_fit": null,
            "grid_auto_columns": null,
            "margin": null,
            "display": null,
            "left": null
          }
        },
        "3a0365b8194b41e9a00395750ba045e7": {
          "model_module": "@jupyter-widgets/controls",
          "model_name": "FloatSliderModel",
          "state": {
            "_view_name": "FloatSliderView",
            "style": "IPY_MODEL_9a9a85d49e4b414f9e87d64badec6d54",
            "_dom_classes": [],
            "description": "mu_3",
            "step": 0.1,
            "_model_name": "FloatSliderModel",
            "orientation": "horizontal",
            "max": 100,
            "_view_module": "@jupyter-widgets/controls",
            "_model_module_version": "1.5.0",
            "value": 90,
            "_view_count": null,
            "disabled": false,
            "_view_module_version": "1.5.0",
            "min": 0,
            "continuous_update": true,
            "readout_format": ".2f",
            "description_tooltip": null,
            "readout": true,
            "_model_module": "@jupyter-widgets/controls",
            "layout": "IPY_MODEL_2bfab007ec3d4ea1b5eb060b2834e4d2"
          }
        },
        "08bc335503ad4152853646ddb93b88b7": {
          "model_module": "@jupyter-widgets/controls",
          "model_name": "FloatSliderModel",
          "state": {
            "_view_name": "FloatSliderView",
            "style": "IPY_MODEL_bf1d2c601742497eb983ea724adb44d6",
            "_dom_classes": [],
            "description": "sigma_3",
            "step": 0.1,
            "_model_name": "FloatSliderModel",
            "orientation": "horizontal",
            "max": 10,
            "_view_module": "@jupyter-widgets/controls",
            "_model_module_version": "1.5.0",
            "value": 10,
            "_view_count": null,
            "disabled": false,
            "_view_module_version": "1.5.0",
            "min": 1,
            "continuous_update": true,
            "readout_format": ".2f",
            "description_tooltip": null,
            "readout": true,
            "_model_module": "@jupyter-widgets/controls",
            "layout": "IPY_MODEL_5e685b8027c04dd5aabfec10e1f4cf70"
          }
        },
        "75f63f92b5f14a91ab9eec1c3739e289": {
          "model_module": "@jupyter-widgets/controls",
          "model_name": "SliderStyleModel",
          "state": {
            "_view_name": "StyleView",
            "handle_color": null,
            "_model_name": "SliderStyleModel",
            "description_width": "",
            "_view_module": "@jupyter-widgets/base",
            "_model_module_version": "1.5.0",
            "_view_count": null,
            "_view_module_version": "1.2.0",
            "_model_module": "@jupyter-widgets/controls"
          }
        },
        "4647c4b2d1f649d3a2aef12e50b6120f": {
          "model_module": "@jupyter-widgets/base",
          "model_name": "LayoutModel",
          "state": {
            "_view_name": "LayoutView",
            "grid_template_rows": null,
            "right": null,
            "justify_content": null,
            "_view_module": "@jupyter-widgets/base",
            "overflow": null,
            "_model_module_version": "1.2.0",
            "_view_count": null,
            "flex_flow": null,
            "width": null,
            "min_width": null,
            "border": null,
            "align_items": null,
            "bottom": null,
            "_model_module": "@jupyter-widgets/base",
            "top": null,
            "grid_column": null,
            "overflow_y": null,
            "overflow_x": null,
            "grid_auto_flow": null,
            "grid_area": null,
            "grid_template_columns": null,
            "flex": null,
            "_model_name": "LayoutModel",
            "justify_items": null,
            "grid_row": null,
            "max_height": null,
            "align_content": null,
            "visibility": null,
            "align_self": null,
            "height": null,
            "min_height": null,
            "padding": null,
            "grid_auto_rows": null,
            "grid_gap": null,
            "max_width": null,
            "order": null,
            "_view_module_version": "1.2.0",
            "grid_template_areas": null,
            "object_position": null,
            "object_fit": null,
            "grid_auto_columns": null,
            "margin": null,
            "display": null,
            "left": null
          }
        },
        "a9297559de9e4107a663030faec48b7f": {
          "model_module": "@jupyter-widgets/controls",
          "model_name": "SliderStyleModel",
          "state": {
            "_view_name": "StyleView",
            "handle_color": null,
            "_model_name": "SliderStyleModel",
            "description_width": "",
            "_view_module": "@jupyter-widgets/base",
            "_model_module_version": "1.5.0",
            "_view_count": null,
            "_view_module_version": "1.2.0",
            "_model_module": "@jupyter-widgets/controls"
          }
        },
        "7f4fe20583b943ef88e33e73574ad7f3": {
          "model_module": "@jupyter-widgets/base",
          "model_name": "LayoutModel",
          "state": {
            "_view_name": "LayoutView",
            "grid_template_rows": null,
            "right": null,
            "justify_content": null,
            "_view_module": "@jupyter-widgets/base",
            "overflow": null,
            "_model_module_version": "1.2.0",
            "_view_count": null,
            "flex_flow": null,
            "width": null,
            "min_width": null,
            "border": null,
            "align_items": null,
            "bottom": null,
            "_model_module": "@jupyter-widgets/base",
            "top": null,
            "grid_column": null,
            "overflow_y": null,
            "overflow_x": null,
            "grid_auto_flow": null,
            "grid_area": null,
            "grid_template_columns": null,
            "flex": null,
            "_model_name": "LayoutModel",
            "justify_items": null,
            "grid_row": null,
            "max_height": null,
            "align_content": null,
            "visibility": null,
            "align_self": null,
            "height": null,
            "min_height": null,
            "padding": null,
            "grid_auto_rows": null,
            "grid_gap": null,
            "max_width": null,
            "order": null,
            "_view_module_version": "1.2.0",
            "grid_template_areas": null,
            "object_position": null,
            "object_fit": null,
            "grid_auto_columns": null,
            "margin": null,
            "display": null,
            "left": null
          }
        },
        "7c21754183024da8b61a2c41d47a78dc": {
          "model_module": "@jupyter-widgets/controls",
          "model_name": "SliderStyleModel",
          "state": {
            "_view_name": "StyleView",
            "handle_color": null,
            "_model_name": "SliderStyleModel",
            "description_width": "",
            "_view_module": "@jupyter-widgets/base",
            "_model_module_version": "1.5.0",
            "_view_count": null,
            "_view_module_version": "1.2.0",
            "_model_module": "@jupyter-widgets/controls"
          }
        },
        "55e8299794864b71a70466381162950c": {
          "model_module": "@jupyter-widgets/base",
          "model_name": "LayoutModel",
          "state": {
            "_view_name": "LayoutView",
            "grid_template_rows": null,
            "right": null,
            "justify_content": null,
            "_view_module": "@jupyter-widgets/base",
            "overflow": null,
            "_model_module_version": "1.2.0",
            "_view_count": null,
            "flex_flow": null,
            "width": null,
            "min_width": null,
            "border": null,
            "align_items": null,
            "bottom": null,
            "_model_module": "@jupyter-widgets/base",
            "top": null,
            "grid_column": null,
            "overflow_y": null,
            "overflow_x": null,
            "grid_auto_flow": null,
            "grid_area": null,
            "grid_template_columns": null,
            "flex": null,
            "_model_name": "LayoutModel",
            "justify_items": null,
            "grid_row": null,
            "max_height": null,
            "align_content": null,
            "visibility": null,
            "align_self": null,
            "height": null,
            "min_height": null,
            "padding": null,
            "grid_auto_rows": null,
            "grid_gap": null,
            "max_width": null,
            "order": null,
            "_view_module_version": "1.2.0",
            "grid_template_areas": null,
            "object_position": null,
            "object_fit": null,
            "grid_auto_columns": null,
            "margin": null,
            "display": null,
            "left": null
          }
        },
        "b07f6b16d6ef44df83be40d7fe17719a": {
          "model_module": "@jupyter-widgets/controls",
          "model_name": "SliderStyleModel",
          "state": {
            "_view_name": "StyleView",
            "handle_color": null,
            "_model_name": "SliderStyleModel",
            "description_width": "",
            "_view_module": "@jupyter-widgets/base",
            "_model_module_version": "1.5.0",
            "_view_count": null,
            "_view_module_version": "1.2.0",
            "_model_module": "@jupyter-widgets/controls"
          }
        },
        "73d51d126a004043af1c055a81ee91a1": {
          "model_module": "@jupyter-widgets/base",
          "model_name": "LayoutModel",
          "state": {
            "_view_name": "LayoutView",
            "grid_template_rows": null,
            "right": null,
            "justify_content": null,
            "_view_module": "@jupyter-widgets/base",
            "overflow": null,
            "_model_module_version": "1.2.0",
            "_view_count": null,
            "flex_flow": null,
            "width": null,
            "min_width": null,
            "border": null,
            "align_items": null,
            "bottom": null,
            "_model_module": "@jupyter-widgets/base",
            "top": null,
            "grid_column": null,
            "overflow_y": null,
            "overflow_x": null,
            "grid_auto_flow": null,
            "grid_area": null,
            "grid_template_columns": null,
            "flex": null,
            "_model_name": "LayoutModel",
            "justify_items": null,
            "grid_row": null,
            "max_height": null,
            "align_content": null,
            "visibility": null,
            "align_self": null,
            "height": null,
            "min_height": null,
            "padding": null,
            "grid_auto_rows": null,
            "grid_gap": null,
            "max_width": null,
            "order": null,
            "_view_module_version": "1.2.0",
            "grid_template_areas": null,
            "object_position": null,
            "object_fit": null,
            "grid_auto_columns": null,
            "margin": null,
            "display": null,
            "left": null
          }
        },
        "7b6da1c69d2643058e647f82572b921e": {
          "model_module": "@jupyter-widgets/controls",
          "model_name": "SliderStyleModel",
          "state": {
            "_view_name": "StyleView",
            "handle_color": null,
            "_model_name": "SliderStyleModel",
            "description_width": "",
            "_view_module": "@jupyter-widgets/base",
            "_model_module_version": "1.5.0",
            "_view_count": null,
            "_view_module_version": "1.2.0",
            "_model_module": "@jupyter-widgets/controls"
          }
        },
        "ea05b10ee8ea4fb7b42c3ab88bf5fecc": {
          "model_module": "@jupyter-widgets/base",
          "model_name": "LayoutModel",
          "state": {
            "_view_name": "LayoutView",
            "grid_template_rows": null,
            "right": null,
            "justify_content": null,
            "_view_module": "@jupyter-widgets/base",
            "overflow": null,
            "_model_module_version": "1.2.0",
            "_view_count": null,
            "flex_flow": null,
            "width": null,
            "min_width": null,
            "border": null,
            "align_items": null,
            "bottom": null,
            "_model_module": "@jupyter-widgets/base",
            "top": null,
            "grid_column": null,
            "overflow_y": null,
            "overflow_x": null,
            "grid_auto_flow": null,
            "grid_area": null,
            "grid_template_columns": null,
            "flex": null,
            "_model_name": "LayoutModel",
            "justify_items": null,
            "grid_row": null,
            "max_height": null,
            "align_content": null,
            "visibility": null,
            "align_self": null,
            "height": null,
            "min_height": null,
            "padding": null,
            "grid_auto_rows": null,
            "grid_gap": null,
            "max_width": null,
            "order": null,
            "_view_module_version": "1.2.0",
            "grid_template_areas": null,
            "object_position": null,
            "object_fit": null,
            "grid_auto_columns": null,
            "margin": null,
            "display": null,
            "left": null
          }
        },
        "9a9a85d49e4b414f9e87d64badec6d54": {
          "model_module": "@jupyter-widgets/controls",
          "model_name": "SliderStyleModel",
          "state": {
            "_view_name": "StyleView",
            "handle_color": null,
            "_model_name": "SliderStyleModel",
            "description_width": "",
            "_view_module": "@jupyter-widgets/base",
            "_model_module_version": "1.5.0",
            "_view_count": null,
            "_view_module_version": "1.2.0",
            "_model_module": "@jupyter-widgets/controls"
          }
        },
        "2bfab007ec3d4ea1b5eb060b2834e4d2": {
          "model_module": "@jupyter-widgets/base",
          "model_name": "LayoutModel",
          "state": {
            "_view_name": "LayoutView",
            "grid_template_rows": null,
            "right": null,
            "justify_content": null,
            "_view_module": "@jupyter-widgets/base",
            "overflow": null,
            "_model_module_version": "1.2.0",
            "_view_count": null,
            "flex_flow": null,
            "width": null,
            "min_width": null,
            "border": null,
            "align_items": null,
            "bottom": null,
            "_model_module": "@jupyter-widgets/base",
            "top": null,
            "grid_column": null,
            "overflow_y": null,
            "overflow_x": null,
            "grid_auto_flow": null,
            "grid_area": null,
            "grid_template_columns": null,
            "flex": null,
            "_model_name": "LayoutModel",
            "justify_items": null,
            "grid_row": null,
            "max_height": null,
            "align_content": null,
            "visibility": null,
            "align_self": null,
            "height": null,
            "min_height": null,
            "padding": null,
            "grid_auto_rows": null,
            "grid_gap": null,
            "max_width": null,
            "order": null,
            "_view_module_version": "1.2.0",
            "grid_template_areas": null,
            "object_position": null,
            "object_fit": null,
            "grid_auto_columns": null,
            "margin": null,
            "display": null,
            "left": null
          }
        },
        "bf1d2c601742497eb983ea724adb44d6": {
          "model_module": "@jupyter-widgets/controls",
          "model_name": "SliderStyleModel",
          "state": {
            "_view_name": "StyleView",
            "handle_color": null,
            "_model_name": "SliderStyleModel",
            "description_width": "",
            "_view_module": "@jupyter-widgets/base",
            "_model_module_version": "1.5.0",
            "_view_count": null,
            "_view_module_version": "1.2.0",
            "_model_module": "@jupyter-widgets/controls"
          }
        },
        "5e685b8027c04dd5aabfec10e1f4cf70": {
          "model_module": "@jupyter-widgets/base",
          "model_name": "LayoutModel",
          "state": {
            "_view_name": "LayoutView",
            "grid_template_rows": null,
            "right": null,
            "justify_content": null,
            "_view_module": "@jupyter-widgets/base",
            "overflow": null,
            "_model_module_version": "1.2.0",
            "_view_count": null,
            "flex_flow": null,
            "width": null,
            "min_width": null,
            "border": null,
            "align_items": null,
            "bottom": null,
            "_model_module": "@jupyter-widgets/base",
            "top": null,
            "grid_column": null,
            "overflow_y": null,
            "overflow_x": null,
            "grid_auto_flow": null,
            "grid_area": null,
            "grid_template_columns": null,
            "flex": null,
            "_model_name": "LayoutModel",
            "justify_items": null,
            "grid_row": null,
            "max_height": null,
            "align_content": null,
            "visibility": null,
            "align_self": null,
            "height": null,
            "min_height": null,
            "padding": null,
            "grid_auto_rows": null,
            "grid_gap": null,
            "max_width": null,
            "order": null,
            "_view_module_version": "1.2.0",
            "grid_template_areas": null,
            "object_position": null,
            "object_fit": null,
            "grid_auto_columns": null,
            "margin": null,
            "display": null,
            "left": null
          }
        },
        "841a64a43708481e92a6e37767a57065": {
          "model_module": "@jupyter-widgets/output",
          "model_name": "OutputModel",
          "state": {
            "_view_name": "OutputView",
            "msg_id": "",
            "_dom_classes": [],
            "_model_name": "OutputModel",
            "outputs": [
              {
                "output_type": "display_data",
                "metadata": {
                  "tags": []
                },
                "image/png": "iVBORw0KGgoAAAANSUhEUgAAAm0AAAHwCAYAAAD0G1i+AAAABHNCSVQICAgIfAhkiAAAAAlwSFlz\nAAALEgAACxIB0t1+/AAAADh0RVh0U29mdHdhcmUAbWF0cGxvdGxpYiB2ZXJzaW9uMy4xLjIsIGh0\ndHA6Ly9tYXRwbG90bGliLm9yZy8li6FKAAAgAElEQVR4nOzde3zcdZ0/+td7bpkkkyZN0hZ6o5V7\nC4hQQLcIy/bIZVfoqrjKsiorCh5FXfl5Y30o/NDjWc4RRYVdQUWUfbgiuJ5Tjtxc8fKDlUvLRSht\noZRKU3rNfZLM/X3++Mwnmaa5TJL5zvf2ej4eeSQzmcx8krST17w/78/nI6oKIiIiIvK2iNsDICIi\nIqLpMbQRERER+QBDGxEREZEPMLQRERER+QBDGxEREZEPMLQRERER+QBDGxEFjog8JiJXVFz+FxHp\nFpGuOjz210TkrorLl4pIl4ikReRkBx/3yyLyPafun4jcx9BGRNMqBw77VhKRkYrLl7s9vqmIyEoA\nnwJwvKouneJ2XxaRGx0Yws0ArlbVlKq+UIs7FJH/TUR2Vl6nql9V1Y/V4v4neLwuEflLJ+6biKoX\nc3sAROR9qpqyH5fDwkdU9b8mu72IxFS1UI+xVeEoAPtV9eA0t/sbAP9UywcWkQiAZQA21/J+iSic\nWGkjojkrTwneIyL/ISKDAP5BRP5dRG6ouM0h1SERWSoivxSRAyLymoh8Yor7/3cRuU1EfiMigyLy\nWxFZVvH5C0Vkm4j0i8i3AYi9HsCDAJaXq4I/mOT+OwGsBPDUBJ/7iIj8QUT+tXz/W0TkvIrPv0lE\n/ld5XA8D6Chf3wxgoDyWzSKybZLHXiUi/yUiPSKyVUTeU/G5d5Yfb7Bc7fqMiLQCuL/ie0qLyMLK\naVkROUZEVESuKH9dj4h8VETOEpEXRKSv/HOyj3Ns+WfaIyIHReTu8uNARP4DwGIAD5Yf69ry9WtF\n5InyfT0nIudM9vsjotpgaCOiWnkXgJ8CaAVwz1Q3LFeg/j8ATwNYAuAdAD4nIuum+LJ/APAVAJ0A\nXgJwd/m+FgK4D8AXy5/rAnAWAKjqQwAuBvB6eXryI5Pc94UAHlHV0iSf/wsAW8v3/1UA/ykibeXP\n3QPgifLn/k8AHyg/9hAAe5vVqnr8BD+HFIBfA/gJgIUALgdwh4jY2/4IwJWq2gLgFAC/V9X+cd9T\nSlX3TzLuNQCOhvnZfaf8M/orACfBBOu1digAvgbgCACrALwJwJfL38dlAN4AcFH5sb5ZDswbAFwP\noL18v/8pIh2TjIOIaoChjYhq5TFVvV9VS6o6Ms1t3wZgnqp+XVVzqrodwA8BvH+Kr7lfVR9X1SyA\nfwZwjogcCeCdAJ5T1V+qah6mh+zADMf+NwAemOLzewB8V1XzqvpTAK8BuEhE3gTgzQCuV9Wsqv5u\nmvsZbz2Al1X1J6paUNVNAP4fAJeWP58HsEpEWlS1R1WfmeH39dXyuB4AkAPw76p6QFW7ADwG4C0A\noKovq+pvyr+L/QC+BeDcKe73gwA2qOrD5d/3QwCehwm/ROQQhjYiqpVdM7jtUTDTe332DcDnYSo9\n095/udrUDzNtt3jc50ow1baqiEgUwDoAD09xsy5V1YrLf6547G5VHR73uWodBWDtuJ/D+wAcWf78\nuwBcAuB1EfmdiJw1g/uGqu6ruDgCYPzlFACIyBEi8nMR2S0iAwDugqkcTjXuy8aN+60wPw8icggX\nIhBRrei4y0MAmiouVwayXQBeUdUTZ3D/lT1srTDTsG/AVMEurPhcBMCkq0Qn8NbyWHqmuM34+1te\n8dgdItJYUV1cDhOIqrELwG9U9aKJPqmqTwK4RETiAD4N4GcwvXfjf9ZzdROALICTVbVHRC4F8I3K\noUww7h+p6v9e43EQ0RRYaSMipzwH4G9EZH55GvNTFZ/7I4CciPwPEUmKSFREThaR06e4v4tF5G0i\n0gDTf/W/VHUPTG/cqSKyvhxuPgNgwQzG+dcAfjXNbY4UkWtEJCYi74fpE3tIVV8F8CcAN4hIotyM\n/zczeOwNAFaLyN+LSLz8dqaIHC8ijeXr55WnfQcB2J67fQA6RaRlBo81lRaYkN1f7lf77LjP74Pp\nc7PuBvAuEXlH+XeXFJHzRISVNiIHMbQRkVPuArAFZrrwIZgqEQCgvB3IXwM4E8BOAAcB3A5g3hT3\n9+8wYe0gTFP+B8v3tQ9mSvH/Ln9uOYAnZzDO6frZAOC/AawG0APgBgDvUdXe8ufeD2Bt+XNfQnmB\nRDXK07wXwCwU2ANgL8xihobyTT4E4M/lKcsry7eDqr4I4BcAdpanJxdW+5iTuB7md9EPEyR/Me7z\nXwfwP8uP9U+quhNm6vbLMP2DrwP4H+DfFCJHyaFtGkRE3iMi/w5gu6reUOP7XQzgqWk23f0IgH9Q\n1b+s5WMTEc0UXxURUZjNg6kQERF5HhciEFFoqepWmP3XiIg8j9OjRERERD7A6VEiIiIiH2BoIyIi\nIvKBUPS0dXZ26ooVK9weBhEREdG0Nm3adFBVD9tvMhShbcWKFdi4caPbwyAiIiKalohMeBwep0eJ\niIiIfIChjYiIiMgHGNqIiIiIfCAUPW1ERERUP/l8Hl1dXchkMm4PxdOSySSWLl2KeDxe1e0Z2oiI\niKimurq60NLSghUrVkBE3B6OJ6kquru70dXVhZUrV1b1NZweJSIioprKZDLo6OhgYJuCiKCjo2NG\n1UiGNiIiIqo5BrbpzfRnxNBGREREgfPhD38YCxcuxEknneT2UGqGoY2IiIgC54orrsBDDz3k9jBq\niqGNiIiIAuecc85Be3u728OoKa4eJSIiIufcf78z93vxxc7cr4ex0kZERETkA6y0ERERkXNCWBFz\niqOVNhG5UES2ich2EfniBJ9vEJF7yp9/UkRWjPv8chFJi8hnq71PIiIioiByLLSJSBTAbQAuArAK\nwGUismrcza4E0KuqxwD4FoCbxn3+mwAenOF9EhERUchddtlleNvb3oZt27Zh6dKl+OEPf+j2kObM\nyenRMwFsV9UdACAiPwOwHsBLFbdZD+CG8sf3AbhVRERVVUT+FsBrAIZmeJ9EREQUcv/xH//h9hBq\nzsnp0SUAdlVc7ipfN+FtVLUAoB9Ah4ikAHwBwP+cxX1SkI2MAAcOAAcPArmc26MhOkyxVETPSA/2\nD+1HOpd2ezhEE+rpAV5/Hdi/HygW3R4NVcurCxFuAPAtVU3P9hgMEbkKwFUAsHz58tqNjNzR0wNs\n2WLeWyLAEUcAJ54INDe7NzYiANlCFtu6t6FroAvF0thfwVQiheM7j8filsUujo4IUAW2bQOeeQZI\nV7yeSCTM0+hb3mI+Ju9yMrTtBrCs4vLS8nUT3aZLRGIAWgF0AzgLwKUi8n8BaANQEpEMgE1V3CcA\nQFXvAHAHAKxZs0bn/N2Qe7ZtA15+2XwciwFtbUCpBPT2Anv2mJeKb34zsIRFV3JHz0gPNr6xEdlC\nFgDQmmxFIppAf6Yf6Vwam97YhH3z9uHNR7wZEeFOS1R/uRzw6KOmugYATU1AezswNGSeSp9/Hnjt\nNeD888315E1OhranARwrIithgtX7Afz9uNtsAPAhAH8EcCmAR1VVAbzd3kBEbgCQVtVby8Fuuvuk\nIHnxRfNMIgIccwxw7LFANGo+l8kAL70E7N5tXjoWiwCrqlRn3cPdeHL3kyiWiuho6sApi05BKpEC\nAKgqXu9/HZsPbEbXQBdyxRzOWHIGgxvVVS4HPPCAeX3b0ACsXQscfbR5WgVMx8kf/gB0d5t9cC++\nmMHNqxx75ij3qF0D4GEAWwD8XFU3i8iNInJJ+WY/hOlh2w7gWgBTbuEx2X069T2Qy3bsMIEtEgHO\nOAM44YSxwAYAySRw2mmmrg8Af/qT6XUjqpOh3BCefuNpFEtFLGtdhrctfdtoYAMAEcFRbUfh7OVn\nIxFNYP/Qfryw7wUXR0xhowr89rcmsLW0AO9+t3n9W9l5tGABsH69ec2bzQIPPmjah8l7xBS2gm3N\nmjW6ceNGt4dBM9HTA/z3f5tnnNNPBxZP0w+0ZQuwfbtpyDj3XBPoiBxULBXx2OuPYSA7gCNSR2DN\n4jWYqge3P9OPx15/DCUt4c1HvBnLW1kVJuc98wywcaOpsL3rXcC8eZPftlgEfvUrYO9e023y1399\naLibiS1btuBE+4KapjTRz0pENqnqmvG3ZY2evKdYBJ591gS2o4+ePrABpgq3YIGZB3j+eefHSKG3\nrXsbBrIDaE4049QjTp0ysAGmz+2URacAAF7c/yJG8ixlkLO6u4FNm8zH69ZNHdgAM5Gxbh3Q2Gi6\nTl7weVF4165dOO+887Bq1SqsXr0a3/72t90e0pwxtJH3vPwyMDxsnmFOOKG6rxExS5/icTMP8MYb\nzo6RQm0gO4AdvTsAAKcdeRri0XhVX7esdRkWtyxGsVTEC/t9/heRPE3V9KmpAiedBCxdWt3XNTeb\nyQrAVOjSPt61JhaL4eabb8ZLL72EJ554Arfddhteesnf27oytJG3pNPAq6+aj085xfSzVauhYay/\nbfNmbj5Ejnlh3wtQVaycvxJtybYZfe3qhasRi8SwL70Pe9N7HRohhd3WrWaBQSplWoJnYvlyYOVK\noFAA/vhHZ8ZXD0ceeSROO+00AEBLSwtOPPFE7N494YYTvuHVfdoorLZuNS8Nly8H5s+f+dcvX27W\ntPf1mUUMxxxT+zFSqO1L70PPSA8S0QRO6KyyElwhGUvi+M7jsXn/Zmw9uBWLmhdNO7VKNBOFwti0\n6FvfaiYgZuov/gLYtcs8jR44YLpPZuv+bffP/ouncPHx1R9Ev3PnTjz77LM466yzHBlLvbDSRt7R\n32/2XYtEgOOPn919iIxNqW7fDuTztRsfhZ6qYuvBrQCAYzuORSwyu9e9K9pWoDHeiMHsIN4Y5FQ+\n1dbmzabDpLPTVMxmo7kZWL3afPz007UbmxvS6TTe85734JZbbsG86Rr7PI6VNvKObdvM+5Ur57b6\nc8ECoKPDdOHu2DH7AEg0zt70XgxkB9AYb8SKthWzvp+IRHBcx3F4fu/z2Na9DYtbFrPaRjVRKIyt\nxTrzzNmv/gTMnuUvvQR0dZkVpUccMbv7mUlFrNby+Tze85734PLLL8e73/1u18ZRK6y0kTek08C+\nfabKVospTRvUdu5kbxvVzPae7QCAY9qPmfMGucvmLUNTvAlDuSHsG9pXi+ERYds2s+/4woXVLz6Y\nTDJpFjEAZhtMv1FVXHnllTjxxBNx7bXXuj2cmmBoI2+wiw+WLavN4XcdHUBrq9kCpKtr7vdHodcz\n0oO+TB8S0QSWzVs2/RdMQ0TwpvlvAgC82vPqnO+PSHVsm45TTqnNfa5ebV5L79wJDAzU5j7r5fHH\nH8fdd9+NRx99FKeeeipOPfVUPPDAA24Pa044PUruqwxWb3pT7e736KPNzpKvvmoWKHD6iebABqsV\nbSsQjUSnuXV1lrUuw7bubegZ6UHvSC/mN85i8Q1RmQ1W8+bNvpdtvKYmc3rgtm0mEK5dW5v7rYez\nzz4bQTtAgJU2ct+uXeYA+IULzfr0Wlm82NT3h4ZMfxvRLGUKGewb2oeIRObUyzZeLBLDUa1HAQB2\n9u2s2f1SOG3ZYt6vXl3b16gnn2zeb9vGtV1uY2gj973+unl/1FG1vV+Rsfv8859re98UKrv6d0FV\nsSi1CA2xhpretz3O6o3BN5Av8i8izU46bSYsolHguONqe9/t7WYRQqEw1slC7mBoI3f19Jhnm4YG\nYNGi2t//smUmvO3da6ZhiWZIVfF6v3lhYatitdScaEZnUydKWkLXAPsvaXYqF9831PZ1BYCxnZS2\nbq39fVP1GNrIXbbKZsNVrTU2mmnXUslMwxLNUPdIN4bzw2iMN6KzqdORxziqzYRBGw6JZkJ1LLRV\ne/LfTL3pTWaN2P795rU2uYOhjdxTKIydEbp8uXOPY++bq0hpFmyQWjZvmWN7qR2ROgLxaBwD2QEM\nZH22RI9c19VlJizmzQOOPNKZx4jFxnZjevllZx6DpsfQRu7Zs8fsodbRYbbfdsrCheYcl4EBf59+\nTHVXKBWwZ3APgLHeMydEJILFLYsBgCck0Iy98op5f9xxzi6St6Ht1VdNdY/qj6GN3GOrbEuWOPs4\nkcjYy0+fHxZM9bUvvQ8lLaG9sR2N8UZHH2tJi/l/sHuA/0apeoXC2Dorp49aXrTILPAfGjJ7oXtd\nJpPBmWeeiTe/+c1YvXo1rr/+ereHNGcMbeSOXM6cQiziXD2/0mJTxWBoo5mwVS9bBXNSe2M7krEk\nhvPD6B3pdfzxKBh27TLbcHR2mulRJ4mY7S8Bc7Sz1zU0NODRRx/F888/j+eeew4PPfQQnnjiCbeH\nNScMbeSOvXtNfb2zszYnIEyns9MsqRoaAvr6nH888r1CqYD9Q/sBAEe2OP/CQkRGw+HuQb64oOrY\nLThsmHKarebt2GHWd3mZiCBV3vszn88jn8/7/oxfnohA7rBTo4udr2AAMC8RFy8GXnvNPHZbW30e\nl3xrb3ovSlpCR1MHkrFkXR5zybwl2NG7A28MvoHVC1b7/g8MOatQGFuAX6/Q1tFhnj77+sxTaTXn\nm95xhzNjueqq6W9TLBZx+umnY/v27fjEJz6Bs846y5nB1AkrbVR/uRxw8GD9pkYtGxD37q3fY5Jv\n1XNq1GpLtqEp3oRsIYveDKdIaWp//rMJbrU+TGY6NiC+9lr9HnO2otEonnvuOXR1deGpp57Ciy++\n6PaQ5oSVNqo/OzVqV3XWy/z5Zip2aAgYHARaWur32OQrhVIBB4YOAACOTNXxhQXM9h87endgb3ov\n2hvb6/rY5C87d5r3tTyyuRorVgCbNpnQePbZ069YraYi5rS2tjacd955eOihh3DSSSe5PZxZY6WN\n6s8uOzriiPo+rsjYqQusttEUDgwdGF01Wutjq6ZzRMr8v9ib5r9RmlzlfuErVtT3sTs6TGVveNis\nJ/OqAwcOoK/cwzwyMoJf//rXOMGp3YfrhKGN6qtYHPtf7sSxVdOxQZGhjaawb8i8sFiUqv+/0fbG\ndsSjcQzlhpDOcV9Bmpg9ma+tzflVoxPxw7HOe/bswXnnnYdTTjkFZ5xxBt7xjnfgne98p9vDmhNO\nj1J9HTxogltrK5CsT3P3IRYsMCcq9/UBmYw7YyBPU1XsS5dDW3P9Q5uIYFHzInQNdGFvei+OaXd4\n8y3yJRuW6l1ls1asADZvNuM44wx3xjCdU045Bc8++6zbw6gpVtqovuzUqBtVNsAEtgULzMesttEE\nejO9yBVzaIo3oaXBnb5HTpHSdGxoc/IEwKkceaRpEe7pMYfNUH0wtFF9udXPVsk+th+29Ka6s1U2\nG5zcsKB5ASISQe+ICZBElXp7TVBKJt17/RuJAMuWmY+9PEUaNAxtVD/9/WNTkq2t7o3DVtq6u72/\nOyTVnZv9bFYsEkNHUwcAjK5iJbLs3mzLlzt71uh0bJXPLogg5zG0Uf3sN7vLY+FCd8eRTJrO3WLR\n1PaJyjKFDAazg4hFYq5vt7Ggyby4sKcyEFk2JLk1NWrZjXX37DH7xZHzGNqofg4eNO/dDm2VY9jP\nP4g0xla1Opo6EBF3nx4XNpt/oweGD0BVXR0LeUehMNaOW68DZSbT2GhOCCwW2SJcLwxtVB+VVa3O\nTnfHAoxNkXp5kyGquwPD5t+DrXK5qaWhBclYEtlCFoO5QbeHQx6xZ4/p6liwwBuL3221ravL3XGE\nBUMb1YftH2trq+8pCJNpbzcrSQcGTJ8dhZ6qjlbaFjS7H9qAsWobp0jJ2r3bvF+yxN1xWDa0+bWv\nbcOGDfiXf/mXKW9z11134Q17XrbLGNqoPmxFa4E3/hgiEhmr+HGKlAAM5gaRK+aQjCWRStTxIMcp\n2PDIxQhk2YpWNQe118MRR5jX4b295oRAv7nkkkvwxS9+ccrbzCa0FRxq8mNoo/qw/WxemBq1bF8b\np0gJ8FyVDTDTtCKCnpEeFErs9A674WHTZRKLubfVx3iRyFhvndemSHfu3IkTTjgBV1xxBY477jhc\nfvnl+K//+i+sXbsWxx57LJ566incdddduOaaawAA69evx09+8hMAwO23347LL78c9913HzZu3IjL\nL78cp556KkZGRrBixQocLP9N27hxI/7yL/8SAHDDDTfgAx/4ANauXYsPfOADKBaL+NznPoczzjgD\np5xyCm6//fY5f088EYGcl82aacho1ExLeoUNkN3d7o6DPMFL/WxWPBpHa0Mr+jJ96B3p9VSgpPqz\nU6NHHmmeTr1i6VKzV9vu3cDxxx/+eXFwX5LpFuls374d9957L+68806cccYZ+OlPf4rHHnsMGzZs\nwNe//nX87d/+7eht77jjDqxduxYrV67EzTffjCeeeALt7e249dZb8Y1vfANr1qyZdjwvvfQSHnvs\nMTQ2NuKOO+5Aa2srnn76aWSzWaxduxbnn38+Vq5cOevvl6GNnGcrWR0d5mWZV6RSQEODCZWDg0CL\nO7vfk/tKWkL3sAnvXgtGnU2d6Mv04eDwQc+NjerLa1Ojlq20eaTt6xArV67EySefDABYvXo11q1b\nBxHBySefjJ07dx5y20WLFuHGG2/Eeeedh1/+8pdon0WR4ZJLLkFjYyMA4JFHHsGf/vQn3HfffQCA\n/v5+vPLKKwxt5HFe62er1NlpXh52dzO0hVj3cDdKWkJrshWJaMLt4Ryio6kD23u2o3uEFeGws5U2\nr4W2+fPNStbhYbOHupt7p4/X0NAw+nEkEhm9HIlEJuw7e+GFF9DR0TFlD1ssFkOpvDF7ZtxCtubm\n5tGPVRXf/e53ccEFF8zpe6jkobIHBZYX+9ksOyY7Rgqlg8Pm99/Z5L1/o+2N7RAR9GX62NcWYr29\nJhQ1NZmQ5DVTVdtU1bG3Wnrqqafw4IMP4tlnn8U3vvENvPbaawCAlpYWDA6ObbuzYsUKbNq0CQDw\ni1/8YtL7u+CCC/Bv//ZvyOfzAICXX34ZQ3NcrcHQRs4aGjJbaiQS5hQCr+kwRwWhuxvgBqahZatY\nXgxtsUgMbck2qCp6RniCR1jt2WPeH3mku+OYjJenSKuRzWbx0Y9+FHfeeScWL16Mm2++GR/+8Ieh\nqrjiiivwsY99bHQhwvXXX49Pf/rTWLNmDaJTNBd+5CMfwapVq3DaaafhpJNOwtVXXz3nVaUShp22\n16xZoxs3bnR7GOH0+uvA88+bdeFnnOH2aCb261+bYHnuud4MluSoYqmIB7c/CAC48JgLEYt4r2tk\n68GteKX7FRzdfjRWLVjl9nDIBb/5DfDqq8DZZwOrPPhPoK8P+PnPzSkJH/gAsGXLFpx44oluD8sX\nJvpZicgmVT1s5QMrbeQsewqCrWh5EVeRhlpvpheqinkN8zwZ2ACgo9H8/7GLJSh8vF5pa2szgW1k\nxAQ4coajoU1ELhSRbSKyXUQO271ORBpE5J7y558UkRXl688UkefKb8+LyLsqvmaniLxQ/hzLZ15n\ng5CXQ5sdG/vaQskGIRuMvKi9sR0RiaA/2498Me/2cKjOBgZMP1sy6c1+NsvvU6R+4FhoE5EogNsA\nXARgFYDLRGR8UfdKAL2qegyAbwG4qXz9iwDWqOqpAC4EcLuIVL4EPk9VT52odEgeMjJinmnicW9P\nO1ZW2kLQLkCHsv1sHU3eDW3RSJR9bSFmQ5BXq2wWQ5vznKy0nQlgu6ruUNUcgJ8BWD/uNusB/Lj8\n8X0A1omIqOqwqtpuvSQA/iX1I1tla28HHNxccc6amkxdP583+7VRaJS0hN6RXgCmmuVlNlTala4U\nHnv3mvdeD212fDa0haFnfq5m+jNyMrQtAVB5hGxX+boJb1MOaf0AOgBARM4Skc0AXgDwsYoQpwAe\nEZFNInKVg+OnuaoMbV5np0h7WMUIk75MH0paQktDi+f2ZxvPTt+y0hY+fqm0tbWZ18CZDBCNJtHd\n3c3gNgVVRXd3N5LJZNVf482uWwCq+iSA1SJyIoAfi8iDqpoBcLaq7haRhQB+LSJbVfUP47++HOiu\nAoDly5fXdexU5odFCFZ7u9luvKcHWLHC7dFQnfihn82a3zgfIoL+bD+KpSKiEQ+dY0SOSafNWyLh\nj9e/ixYBr70GFItLMTjYhQM823lKyWQSS2ewW7KToW03gGUVl5eWr5voNl3lnrVWAIcsj1LVLSKS\nBnASgI2qurt8/X4R+SXMNOxhoU1V7wBwB2C2/KjJd0TVy2bNM0006q3tsSdjnw1ZaQsVP/SzWbFI\nDC2JFgxkB9CX6fPFmGnuKleNernLxDriCBPa9u+P49xzZ39cE03MyenRpwEcKyIrRSQB4P0ANoy7\nzQYAHyp/fCmAR1VVy18TAwAROQrACQB2ikiziLSUr28GcD7MogXymsqpUS+dNzqZVMosmBgZMW8U\neJVN/X6otAFj4ZJTpOHh9a0+xlu0yLy3fXhUW479NS33oF0D4GEAWwD8XFU3i8iNInJJ+WY/BNAh\nItsBXAvAbgtyNoDnReQ5AL8E8HFVPQhgEYDHROR5AE8B+JWqPuTU90Bz0Guau31RzwfMS1i7lp7V\ntlAYyA6gWCqiOdGMhljD9F/gAfOT5t8oQ1t47Ntn3tsw5HWdnUAsZs4gHXcsJ9WAoz1tqvoAgAfG\nXfeVio8zAN47wdfdDeDuCa7fAeDNtR8p1ZwNPl7eVGi89nZg/34z9iXj18xQ0PRmzAsLG4T8wK5w\ntRsCix/my2jWcjnz+jcS8ebRzROJRICFC83iib172SJcaz6YtyLfKRbNbpCA/0IbwEpbSNhq1fxG\n//wbbYw3ojHeiHwxj8Ect6cJuv37zfsFC0x7sF/YqqCtElLtMLRR7fX3A6WS2VA35tkFyodrazMv\nEwcHgTke6kve55f92cYbrbaVx0/B5bepUeuII8x79rXVHkMb1Z7tZ/NTlQ0YW+mqOvY9UCBlC1kM\n54cRjUTRkmhxezgzYkObXflKwWVD28KF7o5jpmzIPHDATLxQ7TC0Ue35sZ/N4mKEUKjsZ/NbXxgr\nbeGgOjY96rdKm91TrlQywY1qh6GNas+vlTaAJyOEhA08fupns1oSLYhFYhjODyNT4PK8oOrrMwsR\nUimgudnt0cycnSJlX1ttMeCKwlMAACAASURBVLRRbQ0Pm41143HzbOM3bW3mfV8fD48PsNFFCD5a\nOWqJyGjY7Mv0uTwacopf+9ksLkZwBkMb1Zafq2wAkEyat0LBnOhAgVPSEvqz/QD8WWkDgLakeXHB\nKdLg8ntos314doqXaoOhjWrLb5vqTsQGzj5WMYKoclNdrx8SP5nR0JZhaAsqvy5CsObNM71tw8PA\n0JDbowkOhjaqLb9X2oCxsXMFaSD5dauPSnZatz/TD+U0fuBks+Y1YzTqn011xxNhtc0JDG1UO8Wi\n2aNNZKw3zI/s2BnaAsmPJyGM1xBrQGO8EYVSAekcp/GDpnJTXT8c3TwZhrba8/E/B/Kc/n7TvN/S\n4q9NdcdrazPBc3CQmwwFkB9PQpiIDZ2cIg0ev/ezWQxttcfQRrUThKlRwMxJtLSYANrf7/ZoqIay\nhSxG8iOIRWK+21R3PC5GCC4bcvzaz2bZ8R84wMX4tcLQRrVjG/f9HtoATpEGlN0iozXZ6rtNdcfj\nth/BZTekXbDA3XHMVTJpXv8WCnwqrRWGNqodG9paW90dRy1wBWkg2YBjq1R+1tpggudgbhDFEqfx\ng2JgwCxEaGz051aX43GKtLYY2qg2cjmztttOLfodV5AGUpBCmz03VVVZbQuQoFTZLIa22mJoo9qo\nrLL5fNoJgHmJG4sBIyPmZS8FQpBCG8Ap0iAKWmiz3wdDW20wtFFt2NDm560+KomMTfOy2hYII/kR\n5Io5JKIJNMWb3B5OTXAFafAELbR1dpptS3p7gXze7dH4H0Mb1YZdZRmU0Aawry1gKhchBIWtGLLS\nFgyqwQttsZg5IEcVOHjQ7dH4H0Mb1UbQKm0A+9oCJmhTowCQSqQQi8Qwkh9BppBxezg0R319ZqVl\nKmUWIgQF+9pqh6GN5i6TMW/xONAUjGknAGMBlHu1BUIQQ5uIjH4//Rn+O/W7oFXZrMr92mhuGNpo\n7oK2CMFKJoGGBtOIMTzs9mhoDlQV/VkTaoIU2oCx6V5OkfpfUEObPT+VoW3uGNpo7oI4NWrZxQjs\na/O14fww8sU8krEkkrGk28OpqdYG82/UhlLyr6CGtrY209s2OMjF+HPF0EZzF4bQxilSXwvi1KjF\n6dFgKJWA7m7zcdBCWyRiFiMAXIwwVwxtNHdBXDlqsa8tEIIc2priTYhFYsgUMlyM4GM9PUCxaF4n\nJhJuj6b2bBBlaJsbhjaam+FhcxpCIhGs5U4Wp0cDIcihTURG+9pYbfOvoE6NWuxrqw2GNpqbIE+N\nAiaIJhJcjOBjlYsQgrRHWyX2tflfWEIbK21zw9BGcxP00AZwitTn7IHqTfEmJKIBnHcCN9kNgqCH\ntvnzzdHUAwNmcoZmh6GN5iYMoY1TpL4W5KlRi9Oj/lYomJ42kbGKVNBEIkBHh/mY1bbZY2ij2VMN\n9iIEi5U2X7NBJsihrTnePLoYIVvgngp+09Njnk7nzzdbYwQV+9rmjqGNZm942LxEtJvQBhUrbb4W\n9H42YNxiBPa1+Y6tPAW1ymaxr23uGNpo9mzlqTW4fwwBcDGCj6kqBrIDAMaa9YPKfn/sa/MfG2Ls\n9GFQMbTNHUMbzV5YQhvATXZ9Kp1Lo1gqojHeiHg07vZwHMVNdv0rLJW29nbT29bfz8UIs8XQRrMX\nptDGvjZfCkuVDeAZpH5VKpmeNiD4lTYuRpg7hjaaPRtg5s1zdxz1wL42XwpDP5vFxQj+1Ndngtu8\necE8CWE8TpHODUMbzU4mY+rb8TjQ1OT2aJzHSpsv2anCMFTaRATzGswLKC5G8I+wTI1aPM5qbhja\naHbCNDUKjC1GyOWAkRG3R0NVClOlDWBfmx+FZRGCxW0/5oahjWYnTFOjFhcj+MpIfgT5Yh6JaALJ\nWNLt4dQF+9r8p7vbvA9LpY2LEeaGoY1mJ2yVNoChzWfCVmUDxqaB7QIM8jbV8FXaIhET3ICxwErV\nY2ij2Rko/1EIY2gb4B9EPwhTP5uVSqQQkQiG88PIF/NuD4emMThotn9sagpHa7Blq4oMbTPH0EYz\nZzeZjUSAVMrt0dSPnQpmpc0XbKXNNueHQeViBFbbvC9sVTbLfr8MbTPH0EYzV9nPJuLuWOqpuRmI\nRs1ChDyrGF43WmkL0fQoAK4g9ZGwrRy1GNpmz9HQJiIXisg2EdkuIl+c4PMNInJP+fNPisiK8vVn\nishz5bfnReRd1d4n1UEYp0YBE1BZbfOFXDGHTCGDaCSK5niz28OpKxtSWWnzvrAtQrBsT1tPj9mj\njqrnWGgTkSiA2wBcBGAVgMtEZNW4m10JoFdVjwHwLQA3la9/EcAaVT0VwIUAbheRWJX3SU4L4yIE\ny4Y29rV5WmU/m4SpGoyKShu3/fC8sE6PJhLmqbRU4n7lM+Vkpe1MANtVdYeq5gD8DMD6cbdZD+DH\n5Y/vA7BORERVh1W1UL4+CUBncJ/ktDCHNq4g9YUw9rNZ9ntO59IoKcsYXjU8bDotbIAJG06Rzo6T\noW0JgF0Vl7vK1014m3JI6wfQAQAicpaIbAbwAoCPlT9fzX2Sk4pFIJ02U4UtLW6Ppv5YafOFsPaz\nAUAsEkNzohklLSGdS7s9HJpEWKtsFkPb7Hh2IYKqPqmqqwGcAeA6EZnR7pgicpWIbBSRjQe49XLt\nDA6azYVSKdOUHzZ28cXgIJsxPGx0j7YQbfdRyX7fnCL1rrAuQrC47cfsOBnadgNYVnF5afm6CW8j\nIjEArQAO+RWq6hYAaQAnVXmf9uvuUNU1qrpmgT3sjOYuzFOjgAmqzc0muA4Ouj0amkChVMBQbggi\ngpaGEFaDAW774QM2rLDS5u44/MbJ0PY0gGNFZKWIJAC8H8CGcbfZAOBD5Y8vBfCoqmr5a2IAICJH\nATgBwM4q75OcFPbQBrCvzeNsUGlJtCAinp1McJSdFua2H94V9kpbczOQTAKZDDA05PZo/MOxZ7Ry\nD9o1AB4GsAXAz1V1s4jcKCKXlG/2QwAdIrIdwLUA7BYeZwN4XkSeA/BLAB9X1YOT3adT3wNNIIxn\njo7HvjZPC3M/m8VKm7flcqZQH40CbW1uj8Y9rLbNXMzJO1fVBwA8MO66r1R8nAHw3gm+7m4Ad1d7\nn1QnquHdo60SK22eZoNKWPvZACAZSyIRTSBXzGEkP4LGeKPbQ6IKtspmD08Pq44OYPdu8/NYvtzt\n0fhDiP+50IwNDZnm+8ZGIB53ezTuqay0qU59W6q7MG/3UYlTpN7V02Peh7WfzWKlbeYY2qh67Gcz\nGhrMW6FgNloiz1BVDGbNApGwhzZOkXqXDSn2ZICwYmibOYY2qp5dLRnmfjaLU6SeNJQfQklLaIw3\nIh4NcTUY3PbDy1hpM9razPTwwIDp86PpMbRR9Ww/G0MbFyN4lK0qhb3KBrDS5lWl0lhoC3ulLRI5\n9BxSmh5DG1WPK0fHsNLmSQxtY1KJFCISwXB+GPli3u3hUNnAgDlYJpUyXRZhxynSmWFoo+rk82ZD\nnWgUaGpyezTuY6XNkxjaxogIq20exH62QzG0zQxDG1XHhpOWFnOMU9g1N5sAOzLCZgwPYWg7lP05\ncAWpd7Cf7VB2c2G7DQpNjaGNqsN+tkOJsNrmMfliHiP5EUQjUTTHm90ejifYbT9YafOOsB9fNZ6t\nOPb28jjnajC0UXUY2g7H0OYplcdXCavBACoqbVxB6hlchHCoRMI8lRaLQF+f26PxPoY2qg5D2+EY\n2jyFU6OHsz+LdC6NkrKM4bZsFkingViM211W4grS6jG00fQqj69iaBvD0OYpDG2Hi0ViaIo3oaQl\nDOV4KrfbbCiZP5+twZXsVDFD2/QY2mh6PL5qYi0t5v3gII+z8gCGtolxBal3sJ9tYrbSxhWk02No\no+mxyjaxeNwE2VLJBFtyjapiMMfjqybC0OYd7GebGCtt1WNoo+kxtE2OU6SeMJQfQrFU5PFVE2Bo\n8w5W2ibW0mL6/IaGzHagNDmGNpoeQ9vkGNo8gVOjk2No8wZVs60FwErbeCJcjFAthjaaHkPb5Bja\nPIGhbXJN8SZEI1FkChkeZ+Wi/n6gUODxVZNhaKsOQxtNLZ83u/5HIuYUADoUQ5snMLRNTkTQkjCL\nZlhtcw/72abGvrbqMLTR1CqrbFyjfrjmZhNoR0ZMwCVXMLRNjVOk7mM/29S4grQ6DG00NU6NTk3k\n0K0/qO7s8VURifD4qkkwtLmPoW1qlcdZcQelyTG00dQY2qbHKVJX2a0+Whp4fNVkbGizPyuqP06P\nTq2hwfT7FQp8Kp0KQxtNjaFtegxtrrLnarY28FygybQ0jPW0KcsYdcfjq6rDxQjTY2ijyamOTfkx\ntE2Ooc1VowfFl4MJHS4RTSAZS6JYKmI4P+z2cEKHx1dVh31t02Noo8kNDwPFIpBM8viqqdjQxuOs\nXMGTEKrDvjb32NDGfrapsdI2PYY2mhynRquTSJhgWyiYVaRUN6rKlaNVYmhzj60csZ9tatz2Y3oM\nbTQ5G9rYhDE9u4KUU6R1NZwfRrFURDKWRCKacHs4nsbQ5h5W2qrT2mp2UBoY4A5Kk2Foo8nZANLC\nXqFpsa/NFayyVc/2/HEFaX2pcuVotSIR0/cHsNo2GYY2mhynR6vH0OYKhrbqpRIpRCSCodwQCqWC\n28MJjYEBHl81E5winRpDG00snzcLESIR82xDU2NocwVDW/UiEkEqYf4vD2ZZbasX9rPNDFeQTo2h\njSZmt/poaeEa9WqkUubnNDRkVtxSXTC0zQz72uqP/WwzwxWkU2Noo4lxanRmIhEeZ1VnhVIBw/nh\nQypINDWGtvrj8VUzw+nRqTG00cQY2maOK0jrqnJTXR5fVR0eZ1V/nB6dmcZG85bLmVMk6FAMbTQx\nhraZY19bXXFqdOYqj7Mi59ngEY3yqXQm2Nc2OYY2OpwqQ9tsMLTVFUPbzNn97PLFPEby3AjaaZXH\nV0X417Zq7GubHP8Z0eEqj69KcMPSqjG01RVD2+ywr61+uD/b7LCvbXIMbXS4ypWjVD17Rms+D2Qy\nbo8m0FR1dNsKhraZYWirH4a22eH06OQY2uhwnBqdPVbb6mKkMIJCqYCGWAOPr5ohLkaoH4a22Zk/\n3+yg1N/PHZTGY2ijwzG0zR5DW11wanT2WGmrH+7RNjvRqDmHVBXo7XV7NN7C0EaHY2ibPYa2urBT\noy0JTuHPVCqRgoggnUujpCW3hxNY6bRZPZpMmi0saGbY1zYxhjY6VLFodvUX4fFVs8HQVhestM1e\nNBJFc7z5kL5Aqj1Ojc4N+9omxtBGh7KLEFIprlGfDbt4I50GSqxiOIWhbW44Reo8To3Ojf25MbQd\nin+V6VCcGp2baBRobjbNGNzO2xElLWEoPwQRGd0slmaGoc15rLTNDfdqm5ijoU1ELhSRbSKyXUS+\nOMHnG0TknvLnnxSRFeXr3yEim0TkhfL7v6r4mt+V7/O58ttCJ7+H0OF2H3PHKVJHDWYHoapojjcj\nInzdORs27HIFqXMY2uYmlTLbhGYyZutQMhx7xhORKIDbAFwEYBWAy0Rk1bibXQmgV1WPAfAtADeV\nrz8I4GJVPRnAhwDcPe7rLlfVU8tv+536HkKJlba5Y2hzFKdG546VNmeVSkBfn/l4/nx3x+JnrLYd\nzsmXqWcC2K6qO1Q1B+BnANaPu816AD8uf3wfgHUiIqr6rKq+Ub5+M4BGEWlwcKxkMbTNHUObo2x1\niKFt9priTYhFYsgWssgWsm4PJ3D6+kxwa20FYjG3R+NfDG2HczK0LQGwq+JyV/m6CW+jqgUA/QDG\nt22+B8Azqlr5zPKj8tTol0VEJnpwEblKRDaKyMYDBw7M5fsIj2zWrFGPx7lGfS5saBvk1JMTbHWI\n/Wxzw2qbc2zzPKdG54bbfhzO0w0hIrIaZsr06oqrLy9Pm769/PaBib5WVe9Q1TWqumbBggXODzYI\nbGWI/Wxz09hoFiRkMiYEU01xerQ22NfmHPaz1Qa3/Tick6FtN4BlFZeXlq+b8DYiEgPQCqC7fHkp\ngF8C+KCqvmq/QFV3l98PAvgpzDQs1YKtDHFqdG5EOEXqkFwxh2whi1gkhsYYq8FzwUqbc7jdR23Y\nfsDeXu6gZDkZ2p4GcKyIrBSRBID3A9gw7jYbYBYaAMClAB5VVRWRNgC/AvBFVX3c3lhEYiLSWf44\nDuCdAF508HsIF1baaoehzRGVU6OTdEZQlRjanMNKW20kEubPUalkziElB0NbuUftGgAPA9gC4Oeq\nullEbhSRS8o3+yGADhHZDuBaAHZbkGsAHAPgK+O29mgA8LCI/AnAczCVuu879T2EDhch1A772hzB\nqdHasUeA2S1UqDayWXOoTCzG17+1wL62Qzm6rkVVHwDwwLjrvlLxcQbAeyf4uq8B+Nokd3t6LcdI\nZarco62W7M+Qlbaa4pmjtROPxtEYb8RIfgRD+SGkEjy2rhYqq2wsBs9dezuwc6fpazv6aLdH4z5P\nL0SgOhoaMjXoxkazepTmprLSxipGzbDSVlucIq09To3WFrf9OBRDGxmcGq0tu21KscjtvGtEVblH\nW40xtNUet/uoLYa2QzG0kcHQVnucIq2p4fwwiqUikrEk4lFWg2vBhjY77Uxzx0pbbbW2mh2U0mnu\noAQwtJHFfrba4wrSmuLUaO2x0lZbqgxttSYytvUHq20MbWSx0lZ7DG01xdBWe83xZkQkguH8MPLF\nvNvD8b3BQaBQAJqagGTS7dEEB1eQjmFoI/MsMzwMRCJAc7PbowkOhraaYj9b7YkIT0aoIVbZnMGT\nEcYwtNHY1GgqZYIb1UZzs/l5Dg+bYExzwjNHncG+ttphaHMGFyOM4V9o4tSoUyIRE4QBbrI7R8VS\nEUO5IYgI9xOrMfa11Q5DmzMqp0fDvoMSQxsxtDmJU6Q1YafuUokUIsKnrVqyGxUztM0dzxx1RjJp\n+gTzebOKNMz47EdcOeokhraa4CIE57DSVhuFgjkfUwRoa3N7NMHDvjaDoY1YaXMSzyCtCYY25zTE\nGtAQa0ChVMBIfsTt4fhWX5+ZurP7ilFtsa/NYGgLu0zG1Jzjca5RdwI32K0JnjnqLE6Rzh2nRp3F\n0GYwtIUdq2zOSiaBRMIE4xFWMWaLlTZncYp07rgIwVncq81gaAs7hjbnsa9tTjKFDHLFHOLROBrj\njW4PJ5AY2uaOZ446q63N9Av294d7ByWGtrBjaHMe+9rmhFOjzmNomztW2pwVjZrgpgr09ro9Gvcw\ntIUdV446j31tc8KpUeelEimICIbyQyhpye3h+M7IiHmLx/lU6iT2tTG0hVupNLbpDZ9pnMPp0Tlh\naHNeNBJFc7wZqsqTEWaBVbb6YF8bQ1u4DQ2Z4NbcDMRibo8muGwgTqfNz5tmhMdX1QenSGePoa0+\nuFcbQ1u42coPq2zOikZNMFbldt4zpKpI58zPjJU2ZzG0zR63+6gPTo8ytIUbFyHUD6dIZ8X2WDXF\nmxCLsBrsJFvJtEeGUfVYaauPVMrsoJTJAMPDbo/GHQxtYcbQVj8MbbPCqdH6YaVtdlQZ2uop7NU2\nhrYw48rR+mFomxUuQqgfW83MFrLIFrJuD8c3BgaAYnGsCkTOYmijcLI79Ecipt+KnMW92maFoa2+\nWG2bOW6qW1+2bzCsixEY2sKqssom4u5YwqCx0azQzWSAXM7t0fiG3X6Coa0+2Nc2c5warS9W2iic\n2M9WXyLcZHeGCqUChvPDiEgEzXFWg+uBlbaZY2irL/tz7u0N5w5KDG1hxdBWf+xrmxEbHOxu/eQ8\nhraZY2irL3vqRKlkziENG4a2sOIihPpjX9uMcGq0/uz5roPZQaiqy6PxvnzevAaLRMy5mFQfYe5r\nY2gLK1ba6o+VthnhIoT6i0fjaIw3oqQlDOWH3B6O59mDy9vaTHCj+ghzXxv/mYXR8DBQKAANDeaN\n6sNWNQcHzeZONCWGNndwirR6nBp1B0MbhYudnmOVrb7icbOKtFgM73beM2BXMHJj3fpiaKseQ5s7\nGNooXHjmqHs4RVqVkfwI8sU8EtEEkrGk28MJFYa26vHMUXe0tpojndNpIBuyfaAZ2sKI/WzuYWir\niq2ycWq0/uzP3C4EoclxY113iBy69UeYMLSFEUObe7hXW1V45qh7muPNiEgEw/lh5It5t4fjWcPD\npsrT0MBDZdxgQ1vYVpAytIVNqQQMDZmXKqmU26MJH1baqsJFCO4REZ6MUAX2s7krrH1tDG1hY1cu\nNjebpgCqr+ZmszeAXcFLE2Jocxf72qbHqVF32T5ChjYKNi5CcFckMlbh5Ca7EyppCelcGsDYZq9U\nX+xrm54NbVyE4I7KSluYdlBiaAsbG9paW90dR5hxinRK6VwaqormRDOiEVaD3WDDMittk+P0qLuS\nSaCpyZxKEabXvwxtYcNFCO5jaJtSf8YcKNjawBcWbuH06NSKRaCvz3zM0OaeMPa1TRnaROS95fcr\n6zMcchxDm/t4BumU2M/mvoZYAxpiDSiUChjJj7g9HM/p7TVrulpbgVjM7dGEF0Pb4a4rv/+F0wOh\nOshkgFxubGd+cge3/ZgSQ5s3sNo2OW6q6w1hXIwwXWjrFpFHAKwUkQ3j36a7cxG5UES2ich2Efni\nBJ9vEJF7yp9/UkRWlK9/h4hsEpEXyu//quJrTi9fv11EviMiMrNvOcRYZfOGZBJIJEwzxgirGOMx\ntHkD+9omx0UI3hDGvdqmK+z+DYDTANwN4OaZ3LGIRAHcBuAdALoAPC0iG1T1pYqbXQmgV1WPEZH3\nA7gJwPsAHARwsaq+ISInAXgYwJLy1/wbgI8CeBLAAwAuBPDgTMYWWgxt3jFvHnDwoPmdsOo5KlPI\nIFfMIR6NozHOn4ubWGmbHEObN7S1mS1H+/vNDkphmKqe8ltU1RyAJ0TkL1T1wAzv+0wA21V1BwCI\nyM8ArAdQGdrWA7ih/PF9AG4VEVHVZytusxlAo4g0AGgHME9Vnyjf508A/C0Y2qrD0OYdNrQNDgKL\nFrk9Gs9glc07GNomx5Wj3hCNmuDW22veFixwe0TOmzK0icj9ALT88WGfV9VLpvjyJQB2VVzuAnDW\nZLdR1YKI9APogKm0We8B8IyqZkVkSfl+Ku9zCag6/WZVHrf78AD2tU3IrhxlaHNfKpGCiGAoP4SS\nlhARbjYAmANlMhlzfBUPlXFfe7sJbD094Qht0/0v/AbMtOhrAEYAfL/8lgbwqrNDA0RkNcyU6dWz\n+NqrRGSjiGw8cGCmRcIAKhbHjq/ixrru47YfE2KlzTuikSia481QVW6yW4FTo95ifw9h6Wubbnr0\n9wAgIjer6pqKT90vIhunue/dAJZVXF5avm6i23SJSAxAK4Du8mMuBfBLAB9U1Vcrbr90mvu0Y78D\nwB0AsGbNmhDtlzwJe3xVS4vZlZ/c1dJiAnQ6bfYO4O8EwFho4x5t3jCvYR7SuTQGsgNoTfJ3AnBq\n1GvCtu1HtX8pmkXkTfZCed+25mm+5mkAx4rIShFJAHg/gPErTjcA+FD540sBPKqqKiJtAH4F4Iuq\n+ri9saruATAgIm8trxr9IID/t8rvIdzYz+Yt0ajZzlvVBDdCsVTEUH7okAPLyV3sazscK23ewtA2\nsc8A+J2I/E5EfgfgtwD+aaovUNUCgGtgVn5uAfBzVd0sIjeKiO2F+yGADhHZDuBaAHZbkGsAHAPg\nKyLyXPltYflzHwfwAwDbYaZouQihGgxt3sMp0kMM5gahqkglUuyf8ggbngdznB61GNq8JZUyOyhl\nMsDwsNujcV61C2R/B+B2AGtgpjBvB/D76b5IVR+A2Zaj8rqvVHycAfDeCb7uawC+Nsl9bgRwUpXj\nJouhzXvmzQP27GFoK2M/m/ew0naoQsGs5xIB5s93ezRktbcDe/eaaltTk9ujcVa1L2d/AmAlgO8A\n+CqAN8Hs3UZ+wdDmPay0HYKhzXua4k2IRWLIFrLIFrJuD8d1vb2mo6GtzXQ4kDeEaTFCtZW2k1R1\nVcXl34rIS5PemrxlZMTsvp9ImN34yRt4BukhGNq8aV7DPPSM9GAgO4AFsRDsqTAFTo16U5j62qqt\ntD0jIm+1F0TkLADTrR4lr+D+bN7U2Gi28LZnwoYcQ5s32b42TpFy5ahXMbQd7nQA/y0iO0VkJ4A/\nAjijfAbonxwbHdWGnX7j/mzeIjJWbbPBOqRG8iPIF/NIRBNIxlgN9hK7/QpDGyttXmVDW2+v2UEp\nyKqdHr3Q0VGQs2xoY6XNe+bNMy8PBwbCsZ33JPqzJrRyLzDv4WKEMQxt3hSPm6fSgQET3IL8+6kq\ntKnqn50eCDmIixC8ywbpkFfaODXqXfZ3MpgbDPVxVum06WJIJoO/QtGPOjvNn7ru7mCHtnD+7wuT\nQsEcXxWJ8KA8L+IKUgAMbV4WjUSRSqRCf5wVq2zeFpYVpAxtQWdXJqZSPCrJiyqPsyoW3R6Naxja\nvM1OW9tp7DBiaPM2hjYKBk6Nels0agK1ami3/iiUChjKDSEiEaQSrAZ7EfvaGNq8rrPTvD940N1x\nOI2hLehsrxRDm3fZvraQTpHaKTceX+VddgVpf4aVNoY2b2pqMv2GuVywX//yGTLoWGnzvpBv+8Gp\nUe+rrLSpqsujqb983jyVRiLmNATyJlttC/IUKUNbkKlyuw8/CPkKUtsnxdDmXQ2xBiRjSRRKBQzn\nQ3Aq9zh209a2NrYGe5mtggZ5ipT//IJseNg0tyeT5ggr8qbKFaQhrGKw0uYPYe5rs6GNU6PeFobF\nCAxtQcapUX+wZ8IWiyZoh0jlNhLcWNfbwryClP1s/sDpUfI3LkLwj5BOkQ7nh1EoFZCMJZGIshrs\nZWGutNnpNhsKyJtaW81xzum0OdI5iBjagoz9bP4R0hWkPL7KP8K6grRUYqXNL0SCf3g8Q1uQ2aoN\nQ5v3hXQFqQ0ANhCQdzXFmxCLxJApZJAr5tweTt3095vOhZYWoKHB7dHQdIK+XxtDW1Bls6Y+HIvx\noDw/COn0KCtt/iEiB5VSWAAAIABJREFUo1OkYaq22T/+rLL5Q9AXIzC0BVVlP5uIu2Oh6TU1mYCd\nzZq3kGClzV/C2Ndm//izn80fGNrInzg16j8h62uz02zxaByN8Ua3h0NVCOMKUi5C8Jf2dlOn6O0N\n5nHODG1BxdDmPyHra2OVzX/CuBiBoc1fYjHzZ0/VBLegYWgLKq4c9Z+Q9bWxn81/WhpaICIYyg+h\nWApgGWOcwUFzlmVjI1uD/STIixEY2oIonweGhsx5K6mU26OhaoVsepSVNv+JSASpRMpsipwL8Knc\nZVyE4E9B7mtjaAuiypMQeFCef6RS5veVTgezGWMcVtr8KUxTpJwa9SeGNvIXnoTgT5WV0YBX23LF\nHEbyI4hGomiON7s9HJqBMC1G4MpRf6oMbUE7zpmhLYi4CMG/QtLXVnlIvHBLGl8J07YfrLT5k+1B\nzOeD9/qXoS2IuAjBv0KygpT9bP5lf2cD2QFo0MoYFYaHzVs8bk5DIH8J6uHxDG1BUyyaJU8inB71\no5AsRmA/m3/ZffWKpSKG8kNuD8cxleeNshjsP3aKNGgrSBnagmZw0Ezip1JANOr2aGimKkNbqeTu\nWBzESpu/2d9bX6bP5ZE4h1Oj/hbUbT8Y2oKGixD8LRYDmptNYBsM5pYKxVIR6VwaIoKWBs47+VFb\nsg1AsFeQchGCvy1YYN4ztJG3cRGC/7WZP4hB7WuzDewtiRZEhE9BfmSntVlpI69KpYBkEshkzC5K\nQcFnzKBhaPM/+7vrC+YfRPaz+V/QFyPkcqZDIRodew1F/mMD94ED7o6jlhjagkSVK0eDIOCVNvaz\n+V9DrAHJWBKFUiGQixHs1Oj8+dyf3M+C2NcWc3sAVEPptOmFamoy69TJn2w/ol2MELC/Gqy0BUNb\nsg1703vRn+lHKhGs4/KCOjWazWbx2GOP4dlnn8XOnTsxODiIxsZGLF68GKeffjrWrl2LtgCVFm1f\nW5AqbQxtQcKp0WCIx81ihKEhsxghQL/PkpYwmDULLOwmreRPNrT1ZfqwZN4St4dTU0ELbc899xxu\nueUW/Od//icGp1jgFI/HcdFFF+GTn/wk1q1b5/uNr4NYaQvWS/iwY2gLjoBOkQ5mB1HSElKJFGIR\nvmb0syAvRrCVGVup8auuri783d/9Hd7ylrfgxz/+8ZSBDQDy+Tw2bNiAd7zjHVi7di02bdpUp5E6\no6UleIsR+KwZJLZxPUDl7dBqbQV27za/0+XL3R5Nzdg/8Jwa9b/xixH8XpWx8nnz3y4SAdrb3R7N\n7Kgqvve97+Fzn/schoYO7Tk8+uijsW7dOqxatQqtra1Ip9PYvn07/vCHP+DZZ58dvd0f//hHnHHG\nGfj85z+Pr371q4j7tOWmsxPo6jJBPBWAWXyGtqBQZaUtSAJ6BqkNbXafL/IvuxghU8hgKD8UmL42\nO5XW3u7P/cnT6TSuvvpq/PSnPz3k+ksvvRSf/exnceaZZ04asF955RXccsst+MEPfoBcLgdVxU03\n3YTHHnsM99xzD5Ys8d80uA1tBw8CK1e6PZq54/RoUKTT5girpiYgkXB7NDRXAT0ZwS5CYGgLhiBu\nsmtDmx+nRg8cOIBzzz33kMC2evVq/P73v8e9996Ls846a8qK6LHHHovbbrsNL774ItatWzd6/eOP\nP463ve1t2Lp1q6Pjd0LQFiMwtAWFnRpllS0Y7GKEUikwzRglLWEgOwAR4SKEgAhiX5tf+9l27dqF\nc845B88888zodR/96EexceNGnHPOOTO6r2OPPRaPPPIIvv71ryNSXr2+a9cunH322Xj66adrOm6n\nBW0xAkNbULCfLXgCtsmu7X3iIoTgGK20ZYNTabOhzU8rR/ft24fzzjtvtBIWiURw++2344477kAy\nmZzVfUYiEVx33XV48MEH0dzcDADo7u7GBRdcgBdffLFmY3daSwvQ0BCcxQiOhjYRuVBEtonIdhH5\n4gSfbxCRe8qff1JEVpSv7xCR34pIWkRuHfc1vyvf53Plt4VOfg++YXufGNqCI2ArSNnPFjx2MUJ/\npj8QJyPkcua/m58WIfT19eGCCy7Aq6++CsBs23HPPffgqquuqsn9n3/++fjNb36D9vIPpLe3F+ef\nfz527NhRk/uvhyCdQ+pYaBORKIDbAFwEYBWAy0Rk1bibXQmgV1WPAfAtADeVr88A+DKAz05y95er\n6qnlt/21H73PlEpchBBEAau0ja4c5UkIgRG0kxHsH/WODn/saZ3P5/Hud78bzz//PAAgGo3i3nvv\nxaWXXlrTxznrrLPw61//Gi0tLQCAPXv24KKLLkKfT56bgnSclZP/LM8EsF1Vd6hqDsDPAKwfd5v1\nAH5c/vg+AOtERFR1SFUfgwlvNB17EkJzM09CCJKALUawzeqstAVLkBYj+K2f7dprr8Vvf/vb0cs/\n+MEPsH79+D+ztXHaaafh/vvvR0NDAwDg5Zdfxt///d+jWCw68ni1xEpbdZYA2FVxuat83YS3UdUC\ngH4AHVXc94/KU6NflkmWwojIVSKyUUQ2HghCvJ4K+9mCKUCLEYqlIgZzg1yEEEBBWozgp9B25513\n4tZbx7qHvvrVr+KKK65w9DHPPfdc/PjHPx69/OCDD+JLX/qSo49ZC6y0uetyVT0ZwNvLbx+Y6Eaq\neoeqrlHVNQv88D9wLhjagisgU6T9WdPz1JJoQTTiw82vaFKjfW0BWIzgl+0+XnzxRXziE58Yvfze\n9763buHpfe97H6677rrRyzfddBMeeeSRujz2bAVpMYKToW03gGUVl5eWr5vwNiISA9AKoHuqO1XV\n3eX3gwB+CjMNG27c7iO4ArLJLqdGg6tyetTPixGyWdOJEI16+/XvyMgILrvsMmQypnvo5JNPxo9+\n9KO6nkjxta99DRdddNHo5Q9+8IPYv9/b7eVBmSJ1MrQ9DeBYEVkpIgkA7wewYdxtNgD4UPnjSwE8\nqlP8rxeRmIh0lj+OA3gnAP+sPXZCqWQOFQcY2oLI/vXweaWNK0eDKyiLESq3+vDyIoQvfOELo1tu\nJJNJ/OxnPxvdkqNeIpEI7rrrLixatAiA2XLkH//xHz0d2oMyRerYP81yj9o1AB4GsAXAz1V1s4jc\nKCKXlG/2QwAdIrIdwLUARrcFEZGdAL4J4AoR6SqvPG0A8LCI/AnAczCVuu879T34gm1ST6WAGPe+\nCpyALEbgmaPBZsO4n/va/DA1+uCDD+K73/3u6OVvfetbWLVq/KYM9bFw4ULcddddo5cfeOAB3H77\n7a6MpRpBORnB0dcTqvqAqh6nqker6v9Rvu4rqrqh/HFGVd+rqseo6pmquqPia1eoaruqplR1qaq+\nVF5VerqqnqKqq1X106rq/aUrTmI/W7DF4yaQl0omuPlQoVRAOpdGRCJchBBQQQhtXt9Ud3BwEFdf\nffXo5fXr1x9y2Q0XXnghPvOZz4xe/vznP4+uri4XRzS5heUdXffvN0d1+5WHi8BUFW6qG3zz55v3\nvb3ujmOWbD9bS0MLIsKnnCCa32j+jfaO+PPfKOD9laPXXXcddu0yGzJ0dnbi+9//fl372Cbz9a9/\nHccddxwAEyw//vGPe3KatLnZHM2dy/n29S8Ahjb/4yKE4PN5Xxv72YLPriAdyA6gpP6bxrerCmMx\nb77+ffzxx/Gv//qvo5e//e1vwyu7IiSTSXz/+2NdSvfffz/uvfdeF0c0ucpqm18xtPlZsWgWIYgw\ntAWZzyttDG3BF4/GkUqkUNISBrL+K2PYP+ILFpinUy/J5XL46Ec/Olq9uuiii3DZZZe5PKpDnXPO\nOYdM1X7yk59EvwdXvDO0kbv6+83kfEuLWadOwdTSYpazDQ0B+bzbo5mx3owJm/OT810eCTnJz1Ok\n9o/4Qg+eZH3rrbdiy5YtAIBUKoXvfe97npgWHe+mm27C4sWLAQD79+/HjTfe6PKIDsfQRu6ylZf5\n/GMYaJGIbzfZzRayGMmPIBaJIZVIuT0ccpCfFyN4NbTt3bsXN9xww+jlG264AcuXL3dvQFNobW3F\nzTffPHr5O9/5DrZu3eriiA5nF5l0d5uJKj9iaPMzhrbwsL9jn4U2W2VrS7Z5sjpAtWMrqfZ37heq\n3g1t//zP/4zB8j6cxx9/PD75yU+6PKKpve9978Pb3/52AEChUMCnP/1pTy1KSCTMU2mpZIKbHzG0\n+RlDW3jY7mif9bXZqoudOqPgsquDh3JDyBf9M43f329WFDY3mzeveOqpp/CjH/1o9PItt9yCRCLh\n4oimJyL4zne+g0h5d+JHHnkE999/v8ujOpRdv+HXKVKGNr/KZMybPVScgs2nK0htfxMXIQRfRCK+\nPDzei1U2VcWnPvWp0csXX3wxLrzwQhdHVL1TTz31kEUJX/jCF1AoFFwc0aH83tfG0OZXtuLS1ua9\n5U5Ue83NJqBns8DIiNujqYqqjlXauAghFPw4RerF0HbffffhySefBAAkEgl885vfdHlEM3PjjTdi\n3jyzkfbWrVsPqRi6zf6e/XoyAkObX1WGNgoHn239kc6lUSgV0BhvREOswe3hUB34cTGC10JbPp/H\nl770pdHLn/rUp3DMMce4OKKZ6+zsxBe+8IXRy9dffz2Gh4ddHNGY9naz2UJ/v3kN7DcMbX5lp8nY\nzxYePpsi5VYf4eO30FYomIZ0Ee+chHDnnXfilVdeAQC0tbXhuuuuc3lEs/PpT38aRx75/7N35nFR\nVe8f/9xZ2PdFEHDfJTWVXEoNs9Iyt5TK9GuuuJs/NTfcl9LMJRHDLUnNrU3J1LSyMjMN9yV3ZJF9\nhwGGGeb8/jjcK6OgIDP33oHzfr14wRlm7nmAy9znPsvnqQ0ASExMxLp16yS2iKJQWPbweOa0WSKE\nMKetJmJhkTa+no01IdQc7K3sYaW0glavRb5OHpGVJ5GWRt9O3dzoNASpyc/Px+LFi4X1rFmz4Obm\nJqFFz469vb3Rz7Jy5UqkpaVJaNFDLLmujTltlkhuLhWZsbOjPcyMmgEfaeNFlWUOm4RQM7GkaJvc\nUqOff/45EhMTAQA+Pj5GzQiWyIgRI9CsWTMAQE5ODlasWCGxRRTmtDHEhUl91EysrKijzo8vkzF6\ngx65RbngOE6YS8moGfCRVUty2ry8pLUDADIyMrBy5UphvXDhQtjZ2UloUdVRqVT45JNPhPXGjRuR\nlJQkoUUU5rQxxIU5bTUXC0mRZhVmgRACJ2snKBVsxFpNgo+0WcI4q+Rk+lkOkbaVK1cK8zqbNm2K\nkSNHSmyRaejfvz/atm0LACgoKMCqVasktohOBrSxoapZORY2Kpc5bZYI6xytufBOW0aGtHY8BSb1\nUXPh/+ZZhVkwEIPE1pRPfj4d52tl9XBKnFSkpKRgw4YNwnrZsmVQyaHIzgRwHGc0iuuLL76QRbSN\nj65aWrSNOW2Whk4H5OUZz6Nk1Bz4omSZR9pYE0LNRa1Uw9HaEQZiQHZhttTmlAt/sfb0lF7qcvXq\n1YIkRuvWrTFw4EBpDTIxffr0Qbt27QDQaNunn34qsUUPnTYZ+I+VgjltlgbfNersTB03Rs3CyYmK\nDGk0shYZYnIfNRv+755RIN+IsFzq2dLS0hAWFiasFy5cKIyBqi7IMdrm7U0/8ylyS6F6nRk1Ad5p\nY6nRmgnHyb6urUBXAK1eC7VSDXsrNmKtJuJmSyPCcp6MIJd6ttWrV0Oj0QAAWrVqhf79+0trkJl4\n6623hGhbYWGhUdOFFHh40LhHRgadPWspMKfN0uBrmVgTQs1F5nVtfHSFRdlqLrzTJtdIm8Egj0hb\nWloaQkNDhfWCBQuqXZSN59FoW3h4uKTRNpWKOm6EWFZdW/U8O6orhDyMrlio4CLDBMi8ro2/UPMX\nbkbNQ+4iu2lpVDnHxQWwlnDC2po1a4Qo23PPPYe3335bOmNE4K233kL79u0B0Gjb559/Lqk9vMNu\nSSlS5rRZErm5tBHB1pZ+MGomfKQtK4uGDGQGc9oYgLyjbXyAh69rkoL09PQaE2Xj4TgOc+fOFdYb\nN24UZE6kgDltDPPComzQ6XRISUlBWloadDqd1OZIg1pNhYYMBjodQUbworoKTlFjJyHk5+fj3r17\nuHv3LhISEmrsecp3DstRr00OTtvatWuRl5cHAPD39692HaPl0b9/f6MpCRs3bpTMltLNCBYwZAYA\nc9osi/R0+rmGOG2EEFy8eBELFy5Er1694OnpCSsrK3h5eQlf+/j4oHfv3li+fDmuX78utcniIdO6\ntsyCTBBC4GzjXGNEdW/fvo0VK1agd+/e8PDwgL29PRo1aoTGjRvD19cXdnZ28Pf3x4gRI/Dtt98i\nV+bTLEyFnCNtfGRFqnq2nJwcI122+fPnV/soG49CocCsWbOE9bp161BQUCCJLXZ29P5Xp5Nttclj\n1IyzpLpQQyJt+fn5CAsLQ4sWLdC2bVssWbIEP//8c5nDhhMTE3H48GHMmzcP/v7+aNWqFbZt2wat\njOUwTIJM69pqShNCcXEx9u3bh06dOqFp06aYM2cODh8+jHT+xqoUer0e169fR0REBIKCguDt7Y3x\n48fjv//+k8By8XC2doaCUyBHmwO9QS+1OQI5OUBBAVXEl0rqcvPmzUJasEmTJhg0aJA0hkjEkCFD\n4OfnB4AKC3/55ZeS2WJpem3MabMUCguphLdKRW8NqiHFxcXYuHEj6tevj0mTJuHmzZuPPUehUMDd\n3R2urq5l3plevXoVo0ePRsOGDfHVV1/BIMOaL5PAO20yi7TVhHq2yMhIPPfcc3jvvfdw5syZx76v\nVqtRp04d1K9fH56eno99Pz8/H+Hh4fD398fIkSPx4MEDMcwWHaVCCWcb6hXJKUUqdWpUq9Vi7dq1\nwvqjjz6CUlkzotI8VlZWmDFjhrBetWqVZGUElqbXxpw2S6G01IfU8t1m4Ny5c2jfvj0mTpyI1NRU\n4XEHBwcMGTIEu3fvxp07d6DT6ZCWloaMjAwUFRXhv//+w44dOzBo0CCj4coJCQkYPnw4XnzxxeqZ\nNrW3p/N3tFrqzMsAQoigy1Udnba4uDj07dsX/fr1w40bN4THVSoV+vbti+3bt+PWrVsoLCxEbGws\noqOjkZKSgpycHJw6dQrz589Hy5YthdcRQrB9+3Y0bdoUGzZsqJY3GHzEVU56bVI7bV9//TUSEhJK\nbPDG//73P2kMkZjRo0fD3d0dABATE4N9+/ZJYoelRdpACKn2H+3btycWz9WrhERGEnLzptSWmJTi\n4mKyYsUKolKpCADho27dumT9+vUkLy+vwsfKzMwkK1euJN7e3kbHsrGxIevXrycGg8GMP4kEnD1L\nz4m4OKktIYQQklWQRSJvRJJf7/0qtSkm54cffiCurq5G55WTkxOZN28eSUlJqfBxDAYDOXHiBOnV\nq5fRsQCQ7t27k4SEBDP+FOKTkJNAIm9EktNxp6U2RWD/fkI2bSIkKUn8vYuLi0mzZs2Ev/mKFSvE\nN0JGLF68WPhd+Pv7k+LiYtFtMBgI+fJLek5oNKJvXy4AokgZ/gyLtFkK1bAJITc3F/369cPs2bOh\n19OaF1tbWyxbtgw3b97E5MmTYW9fcUV9FxcXzJw5E7dv38bcuXNhZWUFgOoBTZkyBe+9956giVQt\nkNlkhOqYGi0uLsaMGTMwYMAAZJb6PY8ZMwb37t3D0qVLy0yBlgfHcQgMDMSRI0fwyy+/wN/fX/je\niRMn0K5dO5w6dcqkP4OUlO4gJTJoz9Nq6b+LUkmFVcUmMjJSKPtwcnLCuHHjxDdCRkyaNAkODg4A\ngGvXruHIkSOi28BxD6diWEKKlDltloBeT6tnOa7ajK+Ki4tDly5dcOjQIeGxjh074sqVKwgJCYGN\njc0zH9vBwQHLly/H+fPn0aZNG+Hx/fv3o0uXLtWnhkhmdW3VzWnTaDQYOHAgVq9eLTxWt25d/Pnn\nn9i8ebOQ2nlWevTogXPnzmHOnDlCfWZSUhICAwPx9ddfV+nYcsFGZQM7tZ0gBSM1/EXZ05M6bmJC\nCDEa3TRu3Dg4S9UJIRPc3NwQHBwsrEv/r4mJJem1MafNEsjKoiIyTk60EcHCuX79Ojp27IjLly8L\nj3300Uc4efIkGjVqZLJ9/P39cebMGUycOFF47OLFi+jatSvu3btnsn0kw8WFDs/LyaE96xJTnZy2\ntLQ0BAYG4uDBg8Jjffv2Fc4fU2FtbY2PP/4Yx44dE5xAvV6PoUOHSq4Wbyr48yE9//HOWrGRsp7t\n5MmT+OeffwDQQvypU6eKb4QM+fDDD4VGjBMnTuD8+fOi28CfD4mJom9daZjTZgnwkZRqkBq9evUq\nAgMDkVjy36FSqfDll1/i008/hVqtNvl+1tbW2LBhAzZt2gRVicMbHR2NLl264Nq1aybfT1QUioeR\n1zKkJsSkQFeAQn0hHRKvtuwh8ampqXjllVcQFRUlPDZjxgz88MMPcDXTzF8+6vbcc88Jj02dOhXz\n58+XRVqxKrjbUWc0vUA+TpsU+mylo2zDhg1D7dq1xTdChtStWxdBQUHCWopom5cXTWSlpcni/veJ\nMKfNEqgmTtvly5fRvXt3oTvUwcEBx44dw4gRI8y+d3BwMA4cOCCkXRMTExEYGGjUBWiR8Ck6iZ02\n/oLsbusOzoK7m1NTU9GjRw9cuXIFAK1B++KLL7Bq1Sqzi5/Wq1cPf/75J1566SXhsWXLlmHZsmVm\n3dfcuNvSc1RqkV29/uFgcLH9pStXruDw4cMA6Dn10UcfiWuAzJk+fbrw9b59+xAXFyfq/mo1TZkT\nIv8UKXPa5I7B8NBpq2INjZTcu3cPr732miCQ6+joiGPHjqF79+6i2dC7d28cPXpUKHxNS0vDa6+9\nhpiYGNFsMDn8OSFxXVtaPv278lEVSyQ7Oxuvvfaa4LApFArs2LFD1GJxV1dXHDt2DG+++abw2IIF\nC7BmzRrRbDA19lb2sFZZQ6vXIq8oTzI7UlLo26m7O1XLEZNPP/1U+HrAgAFo2rSpuAbInICAAHTr\n1g0Abf5Zv3696DbwjnyJGotsYU6b3MnKAoqLAQcHwNpaamueiZSUFPTs2RMpJbe5zs7OOH78ODp3\n7iy6LS+//DKOHz8udKXGx8fj1VdfRbLcb6/Kw82NxvWzs2koQSL4eiU+qmJpaLVavP3227h06RKA\nhw7b0KFDRbfFzs4O3333HV577TXhsenTp0uqGl9V+PNCyro2/mIsdpTt/v372LNnj7AuPcKJ8ZDS\nYrubN29GTk6OqPvz54Xc69qY0yZ3+LSXFP3pJkCj0eCtt97CnTt3ANAas0OHDqFjx46S2dSpUycc\nPHhQkAS5c+cO+vXrJ9n8uyqhVNK6NkIki7YV6AqQr8uHWqmGk7WTJDZUBYPBgOHDh+O3334THtu6\ndSuGDBkimU02NjY4cOCAEH0AgLFjx+KXX36RzKaqIIe6Nv5i7OMj7r5r1qxBcXExACAwMBAdOnQQ\n1wALoXfv3kaD5Ldt2ybq/t7e9P43NVXS+9+nwpw2ucM7bRaYGiWEYOTIkfj3338B0OjFnj170KVL\nF4kto4Xfe/fuFeqUzpw5g1GjRllm0bfEdW38hdjN1s0i69kWLVqEvXv3Cuvly5eLUmf5NOzs7PDj\njz/i+eefB0C7SgcOHGiRDTRSR9qKix/Ws4nZOZqWloatW7cKaxZlKx+FQoH/+7//E9br1q0T9DvF\nwMqKvpUaDA/PFTnCnDY5Y+H1bKtWrcL+/fuFdWhoKAYMGCChRcYMGDDAaAbgnj178PHHH0to0TMi\ntdNmwanR77//HkuXLhXWEydOxJw5cyS0yBgnJyccOnQIvr6+AGgEonfv3kJtqKXgaO0IK6UVCvWF\n0BSJL3CdkkIdNzc3OiheLDZs2CBE8Nu0aYOePXuKt7kFMmzYMHiUZJViY2Px7bffirq/JdS1MadN\nzmRnW2w929GjRzF79mxhPWHCBEyYMEFCi8pm8uTJGDt2rLCeN28evv/+ewktegb4uja+/lFkhM5R\nC2tCuHLlCoYNGyasX3/9dXz++eeyixb6+vrip59+EhpoYmJi8P777wspN0tByhSpFKlRjUaD0NBQ\nYT1r1izZnVtyw9bW1ug6sXr1alGzH5ZQ18acNjljoanRe/fuYfDgwcI/W9euXY0iWnKC4ziEhobi\nlVdeER4bPny4UINnEahUVHiZENFHWvGRE5VCBWdry1F3z8jIQP/+/YWxZo0aNcKePXsEkU+50aZN\nG+zevVtYHz9+HAsXLpTQosojpciuFE0I27ZtQ0ZJpqRBgwZGWmSM8pk4cSKsS4IUUVFROHnypGh7\n86lzPjIrR8zqtHEc14vjuJscx93hOG52Gd+35jhuX8n3z3AcV7/kcXeO405wHJfHcdyGR17TnuO4\nKyWvWc9V51sXC3TaioqK8N577yErKwsA4Ofnh2+++UYo+pcjarUa33zzDRo0aACAzkQNCgqyrMYE\niVKk/AXYkurZCCEYMWKEMBXD3t4eBw4cgJvMdRD79OmDefPmCevly5cbTWyQOx52NO0ldqStdD2b\nWE6bTqczEomdPn26IO7NeDK1atUyioCLKbZrY0MTF6XPGblhNqeN4zglgDAAbwBoCWAwx3EtH3na\nKACZhJDGANYC4CWjCwHMBzADj/MFgDEAmpR89DK99TKgdDegBTltISEhQuOBWq3G999/Dy8p5Mcr\niZubm5FzefHiRcsaMyOV02aBqdGwsDBERkYK6x07dhhNIpAzixYtMqqLGjZsGKKjoyW0qOI4WjlC\nrVSjQFeAAp14N0R8N6Crq3j1bPv27UNsbCwAwMPDQxaNLZbEtGnThK9//PFH3Lp1S7S95Z4iNWek\nrQOAO4SQe4SQIgB7AfR75Dn9AHxV8vW3AHpwHMcRQjSEkL9AnTcBjuNqA3AihPxDaO5tB4D+ZvwZ\npIPX3bK3F7dytgocPXoUn332mbBesWIFXnjhBQktqhzt27c3mve4efNmyxnczTttmZmixvUFUV0L\naUK4ePGikfrsafwhAAAgAElEQVT6lClT8Pbbb0toUeVQKpXYvXs36tevD4A2JgwZMkTULrtnheM4\nIUXKnzdiwF98xYqyEUKMxHSnTJkCOzs7cTavJjRv3hy9e/cGQH+f69atE21vuTcjmNNp8wVQehZF\nfMljZT6HEKIHkA3gSe/+viXHedIxqwd8d5iFRNmSkpKMQtpvvvmmZUWqShg7diwGDx4srMePH4/7\n9+9LZ1BFUasBZ2fjjmMzw9ezKRVKONvIv54tLy8P7777LoqKigAAbdu2Nbq4Wgpubm7Yv3+/kG47\nffo0Fi9eLLFVFYNPkYrptPEXX7GaEI4cOSJM1bC3t8fEiRPF2biaUTraFhERgXSRsgj8eZKcLE+9\ntmrbiMBxXDDHcVEcx0Xxsy4tCt5pswBRXUIIxowZI8wUrV27NiIiIsw+q9EccByHTZs2oXHjxgBo\nfduwYcMso1PP05N+FkkOonQ9m4KT/9968uTJQprF3t4ee/fuFQqeLY0XXnjBSKpk+fLl+OOPPyS0\nqGJ42tFzVCynrbj44ZB4sSJtpQfDjxkzRva1knKle/fugkZhQUEBwsPDRdnXxoZedouL5TmH1Jzv\ntA8A1Cm19it5rMzncBynAuAM4Enu9IOS4zzpmAAAQshmQkgAISTAk7+YWQqloyUW4LRFRETg0KFD\nwnrnzp2wuN95KRwdHbFr1y6hk/DkyZNYtWqVxFZVAP5cEekmJTWf7sNfiOXMDz/8gIiICGEdHh5u\n8fMfZ86cKXQ9E0IwdOhQoVtRrjhaO8JaZY1CfSFytblm3y8piV583d0BW1uzb4fTp0/jzz//BACo\nVCqjaBGjcnAcZ/T727BhA7RarSh789G2B2V6F9JiTqftXwBNOI5rwHGcFYD3AEQ+8pxIAB+UfD0I\nwG/kCaIshJBEADkcx3Uq6RodBsBy2qcqSkYGfadxcpK9PltcXJxRGnTy5Mno0aOHhBaZho4dO2L+\n/PnCesGCBbhw4YKEFlUANzdAoaD1kCUpQHOSqilx2uzl7bSlpqYaafENHTpUkpmipoafj8pHcuLj\n4zF+/HiJrXo6YqZI+Yuur0hFNKWjbO+//z7q1KnzhGcznsa7774LnxIPKikpyWhyiTnxKwkN1Sin\nraRGbRKAnwH8B2A/IeQax3FLOI7rW/K0bQDcOY67A2AaAEEWhOO4+wDWABjOcVx8qc7TCQC2ArgD\n4C6AI+b6GSTDQlKjhBCMGjVKGOzbuHFjfPLJJxJbZTpCQkKEGak6nQ5DhgyRtwyIUkkdN8DsXaR5\nRXko1BfCWmUNRytHs+5VFQghGDdunJC69/X1NRI8tXR8fX2NBsnv378f33zzjYQWPR0xU6T8RdfP\n78nPMwX//fefkQTLRx99ZP5NqzlWVlaYPHmysBZLbNfbm97/pqYCIgX3KoxZC1EIIYcJIU0JIY0I\nIctLHltACIks+bqQEBJECGlMCOlACLlX6rX1CSFuhBAHQogfIeR6yeNRhJDnSo456UmROYuFT2/J\nPMW4adMmHD9+HAANZUdERMDe3l5iq0yHSqXCzp07hZ/pv//+k3/Bt0gpUj7K5mHnIWt9tj179hhN\nuNi2bRtcXFwktMj09OvXz0hSYsKECUiRq8gUjCNt5nz71mrpv4FCIc680dJNLX369LEYGRm5Exwc\nLHTfXrlyBb/++qvZ91SpHp4zcusilX/1cE1Dp6PjiBQKWXeOxsXFGd1JTp8+HS+99JKEFpmHJk2a\nGIk7rlq1StChkyW802bmZgQ+SiLneraEhARMmjRJWI8dO7bazn5cs2YN/ErCSWlpaZgwYYKo438q\ng63aFvZW9tAb9MgqzDLbPnyUzdubXoTNSVxcHHbt2iWsS4/wY1QNNzc3jBw5UliLJbYr17o25rTJ\nDf5i6+pK010yhBCCCRMmIC8vDwDQokULo0626kZwcLBQ8G0wGDBy5EhBNkJ2uLhQ+Q+NBjBTKpcQ\nIjhtfNREbvAdzZklY73q169vGc0kz4iLiwu2bt0qrL/77jvs27dPQouejBgpUjHr2VavXi1o5XXr\n1g0vvvii+TetQXz44YdCRP/o0aO4du2a2feUa10bc9rkhgWkRr/77jujbtEtW7bAxkIEgJ8FjuOw\nZcsWIUR/9epVfPzxxxJbVQ4c9zBCa6YUaWZhJvQGPRysHGCrFqEl7xnYs2cPDh8+LKwjIiLg6Cjf\n2jtT0LNnT4wZM0ZYT5w4EUm83oXM4J19vgPZHIjltKWlpWHLli3CmkXZTE/jxo3Rv/9DHX0xZll7\neABWVrSvqyQ+IQuY0yY3+EibTJ22rKwsTJkyRViPGzeuWqZFH6Vhw4ZGTRbLly/H5cuXJbToCZg5\nRSr3KFtGRsZjHc0vv/yyhBaJx+rVq1GvXj0A9Pcg125S/tzJLMhEscH0Goi5uUBODr3omvutdMOG\nDcjPzwcAtG7dGr16Vc/JilJTWv5j165dSDaziJpCIc8UKXPa5ER+Pk1r8er2MmTOnDlILJkL4+3t\nXa26RZ/GpEmThLSHXq/HiBEj5Dk+qLTIrhnqmuQu9TFz5kyhW9TPzw/Lly+X2CLxcHR0xLZt24T1\ngQMHjBox5IJaqYaLjQsMxGCWAfL8RdbHhwafzUVeXp5RN/Ls2bNl3Zhjybz00kvo0KEDAECr1WLj\nxo1m35M5bYwnU1rqQ4b/+H/99ZeRKnVoaGi168R7EgqFAtu2bRNU9M+fP280a1U2ODhQJVGtloYb\nTIjeoEdmYSY4jpPlvNE///zTyGnZsGFDtU+LPkqPHj0wevRoYT1x4kRkZZmv4P9Z4Z1+/ibAlMSX\nDDs0t9TH1q1bBUHjBg0aICgoyLwb1mAeFdvduHGj2SWY+PMnPt4s97/PBHPa5ATfpi9DfbaioiIj\ngdK33noLAwcOlNAiaWjevLmR7MfixYtx9+5dCS0qh1q16GcTpxDS89NBCIGLjQvUSrVJj11VtFot\ngoODhfWAAQPQr18/CS2Sjk8//RTeJZoFSUlJmDVrlsQWPU4te3qOJmtMe44aDOLUsxUVFRl1Mn70\n0UfCPFiGeRg4cCDq1q0LgNYSlu7YNQcuLoCjI1BYKNqgmafCnDa5YDA8PCv4C66M+Oyzz3D9+nUA\ndG5jWFhYjU0DTJ8+He3atQMAFBYWylNegT+HTKzXxV9g+QuunFixYgVu3rwJgKYJq5OIbmVxdXXF\nhg0bhPXmzZtlN5vU1cYVaqUamiINNEUakx03JYUGmZ2czFtlsnv3bsSXhPS8vLyMtPIY5kGlUuHD\nDz8U1mvWrIHBYDDrnvxQi7g4s25TYZjTJhcyMwG9nqa2SroU5UJMTAyWLVsmrJctWybc7dREVCoV\nNm/eDIWC/vscO3ZMtPEqFcbDg1bSZmWZdKRVioY6gV72XiY7pim4ceOGUUfvxx9/DF+xZhfJlLff\nftso0hgcHIzCwkIJLTKG4zhB+oM/r0wBf3E151uUwWAwGlk1derUat1BLydGjRollDzcuHEDR48e\nNet+/HkUG2vWbSoMc9rkAp/G8pLXxRCgkSW+dqBNmzZGgqU1lfbt2xuNV5k6daqgCSYLVCo60ooQ\nk8X1c7W5KNAVwFplDSdrJ5Mc0xTwo6p47byOHTvKtmtSTDiOQ1hYGJyc6N/q1q1bRjdfcoCP2JrS\naeMvruZ02g4ePIgbN24AAJycnNj5JiLOzs5G0jbmFtv18aGSqampZpO+rBTMaZMLfBpLZqnR48eP\n47vvvhPWYWFhrG6jhKVLlwrRnJSUFPnpM5k4RVo6NSqn1Pj27duF1J9SqcTmzZuhlKkwtdj4+vpi\nxYoVwnrlypW4cuWKhBYZwzttaflpJpH+0Gjo2F2VCqhdu8qHKxNCCJYsWSKsx48fD2eZdvtXV6ZM\nmSL8j//222+4ePGi2fYqfS7xDS5Swpw2OVBQQIWF+OiITCgqKjKKJv3vf/+rEZpsFcXR0fGxuqFT\np05JaNEjlHbaTFBzJ8fUaEpKCmbMmCGsp0+fjtatW0tokfwYO3as8H+r1+sxevRoFBebXhvtWbBW\nWcPZxtlk0h98atTX13wDZQ4dOiQ4Cba2tkYdjQxxqFevHgYNGiSs16xZY9b95JQiZU6bHOBTo56e\ntA5JJqxbt04o7HZycjIaiMyg9O/f36huaOzYsfIZceXoSKU/ioqorHcV0BXrkFGQAY7jZCWqO23a\nNCEt3aBBAyxcuFBii+SHQqHAli1bYGVlBQA4e/as0c2G1JgyRWru1GhZUbZaMsuO1BRKO8t79uzB\nAzOKqfHNCPHxtGdQSuTjIdRkZJgajY+PN3pzWrx4sSAhwDAmNDQU9vb2AIBr166JNtC4QpgoRZqa\nnwpCCNxs3WQj9XH8+HF8/fXXwvqLL74QRo0xjGnRogVCQkKEdUhICGJiYiS06CF85DY5r2rSH6Wl\nPviLrKk5evQooqKiAAA2NjZGUV6GuHTo0AFdunQBQCPIYWFhZtvL2Zl2I2u10kt/MKdNaoqLH4rq\nyshpmzFjBjQa2obv7++PiRMnSmyRfKlTpw6WLl0qrJcsWSIf7TYTOW1yS43m5+dj3Lhxwnrw4MHo\n2bOnhBbJn9mzZ8Pf3x8AoNFoZCNVw2v+5evyqyT9kZQE6HS0wsTBwYQGlkAIMdJoDA4ORm1zFc4x\nKkTpaFt4eLhwzTIHckmRMqdNatLTqePm7AzIpGX8xIkT2Ldvn7AOCwuDWi2P6IpcmTx5Mtq2bQtA\nZtptvPRHZia9TXwGCCGC0yYXfbalS5fi3r17AAAXFxdRBkhbOlZWVtiyZYvQRHL48GFZSNVwHGcS\noV3+YmquKNsvv/yCM2fOAKC/y5kzZ5pnI0aF6du3Lxo1agQAyMzMREREhNn2koteG3PapEZmUh86\nnc5I0mPw4ME1Zth2VShLu6204ysZKtXDCRvPOB0hW5sNrV4LW7UtHK2lHwl15coVo/Fhq1atgpdM\n/n/kTufOnTFhwgRh/eGHHyI93fSzPysLH8FNzE185mOYs57t0Sjb6NGja7wOoBxQKpWYOnWqsF67\ndq3Zmmx8fOjbaVoa7VKWCua0SQ1/IZVJajQ0NFSYfODg4CDP2ZoyJSAgwMjh/fDDD4W5hJLCp3CS\nkp7p5Ul59HVySI0aDAYEBwdDr9cDALp27YqRI0dKbJVl8fHHH8OvZKhiamqqLOqyatnXgoJTILMw\nE1p95SPCWVn0w9raPPe/J06cEDrD1Wq1LMeC1VSGDx8uzMC+e/cufvzxR7Pso1Q+nEUqZTkoc9qk\nJDubyn3Y2NAhZxKTmJiIRYsWCesFCxbAx8dHOoMskEe122Tx5s5fxVJT6dSNSsJHP2o7Sl+/Ex4e\njn/++QcAvXhu2rRJiG4yKoaTkxM2btworCMiIvDLL79IaBGgVqrhYecBQsgzpUjv36ef69UzfQM+\nIQTz5s0T1iNGjKjRE2HkhoODg1F9qzkDDS1bAl27AvXrm22Lp8Le7aQksSQV4O0NyECsdObMmcjN\nzQVAB6OXnvHGqBhOTk5Gcgpbt27FyZMnJbQINPzg5kbb6yrZkJBXlIe8ojyolWq42UqrIZiQkIA5\nc+YI6zlz5qBFixYSWmS59OnTB++8846wHjt2LPLz8yW0CPB2KBlwn1f5iHB0NP1sjovpTz/9hNOn\nTwOgtWxz5841/SaMKjFp0iSh7vrUqVNm08v08wNatJB20iRz2qSET1fJQErj5MmT2LVrl7AODQ0V\ndJ0YlaN///7o37+/sA4ODob2GZsATAZ/jlUyRVo6NargpH27mDJlCnJycgAATZs2NXLgGJXn888/\nF9JK9+7dM4qyS4GXA40Ip2pSoTdUPCKs0dAgskr1MH1lKgwGg5FUyrhx41CvXj3TbsKoMr6+vhg6\ndKiw/uSTTyS0xrwwp00qNBo6BUGtBtzdJTVFr9cb1WINGjQIr776qoQWWT6hoaFGQ41LD5eWBN5p\nS0mplDqkXFKjBw8eNBqntmnTJjagu4p4e3sbpZLWrFmDCxcuSGaPjcoGrrauMBADUjUVF8PiU6N+\nftRxMyX79+/H5cuXAQB2dnYsyiZjZs2aJXRG//TTT7h06ZLEFpkH5rRJBZ8a9fKSfApCeHi40RuT\nuUeC1AT8/Pzw8ccfC+vly5cLA6Ylwd6eTkjQ6ajMTAUo1BciqzALSoUSnnaeZjawfHJycox0AkeO\nHInAwEDJ7KlOjBw5Et27dwcAFBcXY/To0UKThxQ8S4qUd9pMnRrV6XSYP3++sJ46dSrrUpYxzZo1\nw8CBA4V16Zm71QnmtEmFTFKjKSkpRkW2ISEhqGMuoaMaxvjx49GxY0cAdI7ruHHjpNVuq2SKlL9w\netp5QqmQbgB7SEiIMKKmVq1aWLVqlWS2VDc4jsOmTZtgbW0NADh//jzWrVsnmT21HWhEN1mTDAN5\nekRYqwUSEmhJsKmzll999RXu3LkDgGoByqHLlvFkSpdM7N+/X/j7VSeY0yYFhYVU7FShkFzqY86c\nOcgumUvZuHFjTJ8+XVJ7qhNKpRKbN2+GqiRn88cff2D79u3SGVRa+qMCziPvtPHRDyk4ffq00Xia\nzz//HG5u0jZEVDeaNGnyWNc4L1wsNvZW9nC0doSuWIf0/KdHhGNi6KlcuzbttzEVBQUFRrpsM2fO\nhKurq+k2YJiFdu3aCZNRDAZDtZyXzZw2KeBTo7VqUfEXiThz5gy+/PJLYb1+/XrhjpthGlq3bm3k\nCM+YMQMpVRwp9cw4O9MB8vxNwxPQ6rVIy08Dx3GSOW1FRUUIDg4WopNvvvkm3n33XUlsqe5Mnz4d\nbdq0AUAdlrFjx0oWFebPt8S8pwvt8r5lw4amtWHt2rWIj48HQKO7U6ZMMe0GDLNROtoWERFh1kHy\nUsCcNilISKCfJdRAKy4uNqoT6tu3L9544w3J7KnOLFiwAA0aNABAR6383//9n3TG8Occfw6WQ2Je\nIggh8LTzlGxA/KpVq3D16lUAgL29PTZu3CgUGjNMi1qtxpYtWwTNu19++cWsI4GehI8jPUcTcxOf\nmCLVaoH4eJoaLfn3MglJSUlG3YdLliyBvb296TZgmJVu3brhxRdfBEDrEqtbjTZz2sSmoADIyKAR\nNgnr2b788kucO3cOAGBtbS1pHUt1x87ODuHh4cJ69+7d+Pnnn6Uxhh+9k5DwxBRpQi516nydpBnV\nc+vWLSxdulRYL1u2jEktmJkXXnjBSJtx6tSpiJVgOraTtRMcrBxQVFyEtPy0cp8XHU0boX18aADZ\nVCxYsAB5eXkAAH9/f4waNcp0B2eYHY7jjKJtmzZtksWoNlPBnDax4SMcXl6SpUYzMjKMTurZs2cL\nkSCGeXj99dcxZMgQYT1+/HjhwiAqzs60k1SrLbeLtFBfiPT8dCg4hSSjqwghGDt2rKBtFxAQgMmT\nJ4tuR01k6dKlaNy4MQDatTtq1CgYKiERYyr4mwX+5qEs+NRoybxwk3DlyhVs27ZNWH/22WdCTSrD\ncujduzdat24NANBoNNUqKMGcNrHh8+sSDhueN2+ecOdRv359eYxaqgGsWbNGKKKPjo7G7NmzpTGE\nT5GWU+vBXyhr2deSJDW6detW/P777wBoM8eWLVuglLD2syZhb2+Pr776yihNWjpKLBZPS5EWFNDT\nV6EwXWqUEIIZM2YITmrPnj3Rq1cv0xycISqPRts+//xzecyBNgHMaRMTjYbOG1WpJOsaPX/+vNGb\n8Nq1a2FrytwCo1xq1apldMcXFhaGEydOiG8If8OQmFim0K6UqdGYmBhMmzZNWE+fPh3PP/+86HbU\nZF588UUjeYuPPvpIdOkEBysHONs4Q2/QI0XzeONOdDTN7vv5ma5r9MCBAzh27BgAQKFQmHWGJcP8\nBAUFCWPucnNzsXbtWoktMg3MaRMTPjXq7S2JoK7BYMCkSZOErrCePXuiX79+ottRkxk6dCj69Okj\nrEeOHCl+mtTR8aHQbppxzVC+Lh+ZBZlQKpSip0YJIRg1apTw+2jWrJnko5VqKosXL4a/vz8AID8/\nH8OHD0dxcbGoNvDRtrJSpHfv0s+mSo1qNBqjer7g4GA899xzpjk4QxKUSiUWLFggrKtLtI05bWJS\n0kIuVdforl27hMHHarUa69evZ914IsOLmfKaT/fv35cmPc2fg/w5WcKDHJoy9bL3El1Qd9OmTfj1\n118B0EhHREQEiwJLhI2NDb766iuhnuvUqVOid+HxTltSXpLRLNK8PBokVipNJ6i7dOlSxMXFAQA8\nPT2NppkwLJegoCC0bNkSAI22rV69WmKLqg5z2sQiK4u+21hZAZ7ijwTKzs7GzJkzhfX06dPRtGlT\n0e1gALVr18b69euF9caNG/Hbb7+JawQ/WTspCSg1tig+hzpxfk4mnrz9FKKjo41ScjNmzECnTp1E\ntYFhTPv27Y2mpcybN0/U2aR2aju42bqh2FAszMAFgNu36ef69enbaVW5fv260cX8008/ZUK61QSl\nUomFCxcK6/Xr11t8Jylz2sSi5C4Ofn6SpEZDQkKQnJwMAPD19UVISIjoNjAeMmTIEKM0aem0oCjY\n2QHu7kBxsZC2zyzIRF5RHqxV1qhlL17NpcFgwKhRo6DRaAAALVq0MFKjZ0jH3Llz0b59ewBU7Pjd\nd99Fbm6uaPvXcaYj9eJy4oTHbt2in01xz0kIwcSJE4V5q126dMGwYcOqfmCGbBg0aJCQ6s/Ly7P4\naBtz2sTAYHjYqSfBXM+zZ89i48aNwnrNmjVwcHAQ3Q7GQ8pKk5YuwBcF/lwsSZHyF0ZfR19R0+ah\noaFCQwafFrWxsRFtf0b5qNVq7NmzR3i/uH37NiZNmiTa/j6OPlAqlEjPT0e+Lh/JybSXy87ONA34\nj3Yqb9y4UeicZVQPFAqFUbQtNDQUaWnl6//JHXZ2ikFyMi36dnKiHyKi1+uNRtL06tULQUFBotrA\nKJtH06RbtmzBDz/8IKYBtDAoPR0GTZ5Q8M1HN8Tg8uXLRmn7mTNnokOHDqLtz3g6TZo0wRdffCGs\nd+zYgZ07d4qyt0qhEsZaxefEC1G2xo2rnrCIjY01GjE3bdo0tGrVqmoHZciSgQMHCo0leXl5Fj2T\nlDltYsCnRiWIsm3YsAEXL14EQIuLw8LCWPOBjBgyZAjeeecdYT169Ghh5qHZUamEIfJJt89DV6yD\ns40znKzFubEoKCjA4MGDUVRUBABo27YtS4vKlKFDh+KDDz4Q1uPHj8ct3oMyM3Wc6Pvm/Yw4oWu0\nqqlRQgiCg4OFVG/Tpk3ZuVeNUSgURp3ooaGh4r3PmhjmtJkbrRZISaED8kQW1I2Pj8f8+fOF9YIF\nC9DQ1JOVGVWC4ziEh4ejTolDn5GRgWHDhoknr1DSkBB//wpAiKgNCDNmzMD169cB0FFfe/bsgZUp\nKssZZmHDhg1C85JGo8Hbb78tSn2bh50HbFQ2iIkBMvM08PAASjSqn5lt27YJo+Q4jsP27dtZp3I1\n5+2330ZAQAAAoLCw0GLlhJjTZm7i4qgKZK1aplOBrCBTpkwRittbtmxplApgyAdXV1fs2rVLqKU5\nceKEeMKeHh4osFIgJS8Zitw8+DqKc2Px448/GtVZrlu3Ds2aNRNlb8az4eDggL1798K65H3s2rVr\nGDFihFB6YS44jkMd5zqIu+uA9IL0KkfZbt68+diMVX7AOKP6wnEcVq5cKay3b9+O//77T0KLng3m\ntJkTQoCYGPq1yMOuf/zxR6P6qPDwcBbFkDHdunUzGrsyb948nDp1yvwbcxxi3ZUghMA7pxjWKvPf\nWMTGxmLEiBHCesCAARg9erTZ92VUnbZt22Lz5s3C+rvvvjO6EJoLZ9RFerINcnWZaNBI98zH0Wq1\neO+995Cfnw8AaN68OZYtW2YqMxky55VXXsHrr78OgHatz507V2KLKo9ZnTaO43pxHHeT47g7HMc9\nNmiR4zhrjuP2lXz/DMdx9Ut9b07J4zc5jutZ6vH7HMdd4TjuIsdxUea0v8qkpQH5+YCtrahjqzQa\njVGH18iRI9G1a1fR9mc8GwsXLkTHjh0B0AaSd955R5BpMRcGYkCsfTHAcaifqwQKC826n1arRVBQ\nkKCV5Ovriy1btrA6Swti2LBhmDx5srCeO3cufvrpJ7PuGXPHDo7WjvCuo0FyYdzTX1AOs2fPFmp8\nra2tsXfvXtjZ2ZnKTIYFsGLFCuHrAwcOCILzloLZnDaO45QAwgC8AaAlgMEcx7V85GmjAGQSQhoD\nWAtgZclrWwJ4D4A/gF4ANpYcj6c7IeR5QkiAuew3Cffv08/16tGaNpEICQlBbGwsAMDd3d2iO2Vq\nEmq1Gvv27ROGyickJOC9994TNKTMQYomBYUKAxw8fOCudHzYNGMmpk2bhrNnzwIAVCoV9u3bB3d3\nd7PuyTA9q1evFm4ECSF49913ce7cObPsVVxMtdncbd3h1ygX97PuP9Nx9u/fbzT797PPPkObNm1M\nZCXDUmjbti0GDx4srGfNmmX2FL8pMWekrQOAO4SQe4SQIgB7ATw66LIfgK9Kvv4WQA+O3nL3A7CX\nEKIlhEQDuFNyPMuhsJBKfXAcULeuaNv+/fffRjISq1evZhdFC6JevXrYs2ePEHn6/fffzRrC5y+A\n9RpTAVXExNC0vhn4+uuvjerYVq1ahZdeesksezHMi1qtxjfffIN6JWUfGo0GvXv3xn3+RtWEREfT\nt9OGvk7w9lJAU6RBWn7ldLYuXrxolJLv06cPJk6caGpTGRbC0qVLhRFtJ0+exIEDByS2qOKY02nz\nBVD6tj2+5LEyn0MI0QPIBuD+lNcSAMc4jjvHcVxweZtzHBfMcVwUx3FRqampVfpBnonYWHrxq11b\ntAaEwsJCjBw50mggPFP3tjxef/11LFmyRFivWrUK3377rcn30RRpkKpJhYJToE79NoC9PVBQQLud\nTcy///5rVLcWFBRkVAzOsDy8vLxw5MgRuLi4AACSk5PRq1cvkw/lLmkwRsuWHOq5UCcxJiumwq9P\nTU1F/7MHBHYAACAASURBVP79hTq2Jk2aYMeOHSwlX4Np1KgRJkyYIKynT5+OQjOXhpgKS2xE6EII\naQeadp3IcVy3sp5ECNlMCAkghAR4ij3r02CQpAFh8eLFuHnzJgDa6bV582b2xmShzJ07F2+99Zaw\nHjZsmJBWNBV8lM3XyRdqldXDczU62qT7xMXFoW/fvsKbYrNmzbBt2zZ2blYDWrRogYMHDwpNTjdv\n3kTPnj2RlZVlkuOnpdHxuGo1FdSt61wXHMchMS8RhfqnX2Q1Gg369euHmJL3Y0dHRxw8eFBwNBk1\nl4ULFwqlKNHR0UapczljTqftAYDSarJ+JY+V+RyO41QAnAGkP+m1hBD+cwqAHyDHtGlCAo3nOzoC\nHh6ibHnu3DmsWrVKWK9atQp1RUzLMkyLQqHAjh070KRJEwBUiLZPnz4mSz/pinWIzaZ1jw1cGtAH\n69alExJSUwET6W/l5eWhT58+SEpKAkDlTSIjI+Ho6GiS4zOkp1u3btixY4ewjoqKQq9evZCTk1Pl\nY1+5Qj83b04dNxuVDWo71AYhBNGZT7650Ol0CAoKEgrNOY7D119/jRYtWlTZLobl4+bmZpTRWLZs\nGRJK5jDLGXM6bf8CaMJxXAOO46xAGwsiH3lOJABeZnsQgN8Ize1FAnivpLu0AYAmAM5yHGfPcZwj\nAHAcZw/gdQBXzfgzPBu8bLdIQrZFRUUYOXKkIMj68ssvIzi43Mwxw0JwdXXFTz/9JNwNpqSkoHfv\n3iaJYsTlxEFv0MPDzgPONs70QbX64dSOe/eqvIder8f777+PS5cuAaCNB999950g0MqoPrz77rsI\nDw8X1mfOnKlyqlSjoW+lHAeUTCACADR0pe+rMdkx0BvKbtIpLi7G8OHDceTIEeGxdevWoU+fPs9s\nD6P6MXbsWGGYvEajsQgJELM5bSU1apMA/AzgPwD7CSHXOI5bwnFc35KnbQPgznHcHQDTAMwuee01\nAPsBXAdwFMBEQkgxAC8Af3EcdwnAWQA/EUKOmutneCbS0oCcHFrH5ieOuvzSpUtx+fJlAICtrS22\nbt3Khh5XE5o0aYIDBw4I6afr16+jb9++0Gg0z3xMQgjuZVKnjL8ACvA3GvHxdJrHM2IwGDBq1Cj8\n+OOPwmPh4eHo3r37Mx+TIW/Gjh2LsLAwYX369Gl07doVcc/YkXztGq00adCAJi14XG1d4WbrBl2x\nDnHZjx9bp9Nh6NCh2L17t/DYvHnzMGXKlGeyg1F9UalURmnRr776Cv/++6+EFlUAQki1/2jfvj0R\njX/+ISQykpCbN0XZ7u+//yYKhYKANmiQNWvWiLIvQ1y+/vpr4W8MgLz22mukoKDgmY71IOcBibwR\nSX699ysxGAyPP+HsWXoO37jxTMc3GAxkypQpRvbOmjXrmY7FsDw2bNhg9Lf39fUlFy5cqNQxiooI\n2b6dkE2bCElOfvz7CTkJJPJGJPnl7i9G57BGoyF9+/Y12n/cuHFln+cMRgn9+vUTzpeAgACi1+ul\nNokAiCJl+DMsHGNK8vJo551CAdSvL8J2efjf//4Hg8EAAAgMDGQdedWU999/H6tXrxbWx48fR1BQ\nkDBsvTLczaDp+0aujcpuBuCjbffvU5GsSkAIwZw5c4xkZ0aPHo1PPvmk0nYyLJOJEydi9+7dUKvV\nAIAHDx6gc+fOiIiIqPAxbt0CiooAL6+ydcm9Hbxhp7ZDvi4fSXm0XjI+Ph5du3ZFZOTDKpyJEyci\nLCyMNb0wnsjq1auF8WxRUVFG0kRygzltpuT2bfq5Th1AhJFR//d//4e7JfVzTk5OiIiIYGnRasy0\nadOwdOlSYX3o0CEEBQWhoKCgwsdIy09DVmEWrJRW5Q+Hd3cHXFzoVTOm4tIKhBBMnTrVaKxRUFAQ\nwsPD2UWzhjF48GAcOXJEaDgpLCzEiBEjMGrUqKc2KBgMQEkZJFq3Lvs5HMcJqf3bGbdx9OhRBAQE\n4Pz588JzZs2ahdDQUPaeyHgqjRo1QkhIiLAOCQlBfHy8hBaVDzubTYVGAzx4QKtmGzc2+3aRkZHY\nunWrsA4LCxOELhnVl5CQEKMZpZGRkejVqxeys7Mr9PqbaVQSppFbIygVyvKfWNK1irt36VX0Kej1\negQHBxtF2Pr06YOdO3dCqXzCPoxqS48ePXD27Fm0bPlwEM6XX34Jf39/REZGlqtCf+sWTVq4uj45\nYVHXuS50+TqsnLsSb7zxhjDyTaVSITw8HCtWrGA3C4wKM3PmTDRv3hwAkJubK9+sVVk50+r2IUpN\n24ULtA7o4kWzb5WUlEQ8PT2FHPw777zDajZqEAaDgcycOdOobqdNmzYkJibmia9L06SRyBuR5Mjt\nI0RXrHv6Rr//Ts/p6OgnPi0rK4u8/vrrRvYEBQWRoqKiSvxUjOpKbm4uef/9943ODwDk5ZdfJn/9\n9ZfRe1dxMSG7d9Natjt3yj9mQUEB+eKLL4ibh5vRMb28vMiJEyfM/0MxqiV//PGH0fl08OBByWwB\nq2kzI/n5tNtOhChbcXExhg4dCn7Kg6+vL7744gt2R1mD4DgOK1euNJope+nSJQQEBOD3338v93W3\n0m8BoLVsKoXq6Rvx0hy3b5cbbbtz5w5efPFFHDt2THhs2LBhRjVNjJqNg4MDdu3ahb1796K00Pkf\nf/yBLl26oEOHDtiyZQuSk5Nx5w6VCHRxeVwxiRCCa9euYeHChahXrx7Gjx+PjLSHkiK93uqFK1eu\nIDAwUKSfjFHd6NatG0aOHCmsJ02ahFwTaVaaCo6UE6KuTgQEBJCoqCjzbXDpEh1b5ecHtG1rvn1A\nBQDnz58PgF68jx07hldffdWsezLkS0REBMaMGSMMlVcqlVi+fDlmzJhhlJbMKMjAqdhTUCvV6NGg\nB9TKCjhUhAB//EGvoq1bPzbdY+fOnZgwYQLy8vKExxYuXIiFCxeymwhGmaSnp2P+/PnYsmWLcM7y\ncByHunVbo3bt1ggIaIiGDZ1hMBiQkZGBmzdvIioqSphsUBofPx8MmTYEfd7ug671uor1ozCqKRkZ\nGWjevLkQGAkODsamTZtEt4PjuHOEkIDHvlFW+K26fZg1PVpQQMihQ4T8+CMhubnm24cQcuLECSN5\nj5CQELPux7AMTp48Sby8vIzC+p07dyY3S8nO/BXzF4m8EUlupFZSxuPBA5oiPXaMkJI2+OTkZDJ4\n8GCj/aysrMiuXbtM+WMxqjG3b98mw4cPJ9bW1o+lTSv64efnR1atWkWyc7PJ0dtHSeSNSJKcV4Y+\nCINRSXbv3m10rh05ckR0G1BOepRF2kxBWhqQlWXW1GhycjKef/55YRxQt27d8Ouvv0KlqkCai1Ht\niY+Px6BBg3DmzBnhMWtra0yfPh0jJo3Afzn/wUpphR4Ne1QsNcpDCHDyJJCdjaKGDbH1jz8QEhJi\nNJWhSZMm2Lt3L9q1a2fKH4lRA0hLS8POnTtx4MBB/PXXXzAYniwxY29vj969e2PQoEHo37+/kIK/\nl3kP11KuwdHaES/Xe5lFehlVghCCd955B99++y0AwMfHB1evXoWrq6toNpQXaWNOmwWg1+vxxhtv\n4JdffgEAeHp64uLFi/Dx8ZHYMoac0Ol0WLFiBZYsWWKUenJxd8GbQ97E9CnT0a5R5R0rTUwMvv70\nU3zy3Xe4X9KhxzN8+HCEhobCwcGhyvYzai7nzwMnT+YgL+8SXFwuIzk5GdnZ2eA4Du7u7vD19UXb\ntm3h7+8vTAcpjYEYcCL6BPJ1+Wjj3QZ1ndncZUbVSE1NxXPPPYeUlBQAwNChQ7Fz507R9mdOmwU7\nbTNmzBCEVTmOw9GjR/H6669LbBVDrly8eBFjxozBo+e8tbU13nrrLQQFBSEwMBBeXl7lHiMvLw8n\nTpxAZGQk9u/f/5i2VsOGDREWFoZevXqZ5Wdg1BwKC4E9ewCdDnjrLeBZ70Uf5DzA+cTzsFHZ4JUG\nrzxZ0obBqAAHDhzAgAEDhPWePXvw3nvvibI3c9os1GnbuXMnhg0bJqwXLFiAxYsXS2gRwxIwGAzY\nuWsnZs6ZiZSElDKf06BBAzRu3Bg+Pj6wtraGTqdDamoqbt++jVu3bpWpo+Xu5ISZH32EydOnw9bW\n1tw/BqMG8NdfwPXrQN26QFXuAQghOBl7EtmF2Wju0RxN3JuYzkhGjeWDDz7Ajh07AACOjo64cOEC\nGjVqZPZ9mdNmgU7bv//+i65du0JbMri7X79++P7775nCN6NCXEu5hlspt3Dh1ws4vPMwzp0798zH\natq0Kcb26YMxL7wAx3r1gE6dTGgpo6aSlgZ8/z1VSxo4EHBzq9rx0vPT8Xfc31AqlOhevzts1ezG\nglE1cnJy0K5dO2H6UEBAAE6dOlVmmt6UlOe0sau/TElKSsKAAQMEh83f3x87d+5kDhujQuRocxCd\nFQ21lRrTx05HVFQUrl+/joULF6JLly5PfcNRKBRo1aoVZs2ahb/++gs3btzAtOXL4ejsDKSmAomJ\nIv0kjOoKITTKBgCtWlXdYQMAdzt3+Dr5othQjKspV6t+QEaNx8nJCXv37hWaXqKiojB37lzJ7GGR\nNhmSl5eHwMBAITLi6uqKf//9V5SQLKN6cCr2FDIKMlDfpT5aebV67PuFhYW4e/cu7t69i/T0dGi1\nWiiVSnh6esLX1xf+/v6ws7N7/MD37wNXrgA2NkD37gDrXmY8IzduAH/+CdjZAe++C5hKi7lQX4gT\n0SegN+jRwbcDvBzKr91kMCrK2rVrMW3aNGEdFRWF9u3bm22/8iJt7B1XZuh0OgQFBQkOm0KhwN69\ne5nDxqgwcdlxyCjIgLXKGs09mpf5HBsbG/j7+8Pf379yB69XD4iLoxI3t24BpeZKMhgVpaAA4NVp\nOnc2ncMGADYqGzTzaIZrKddwNeUqPOw8WFMCo8pMnToVv/76K3777TeEhoZKJnHEcm0yghCCsWPH\n4ujRo8Jj4eHhrFOUUWEK9YW4lnoNANDSs2XFJh9UBo6juSyOA+7dAzIzTXt8Ro3gr78ArZYOkTHH\n/WgDlwZwsnZCvi4f/6X9Z/oNGDUOjuMQERGBqKgojBo1SjItQOa0yYhFixZh+/btwnr+/PkYM2aM\nhBYxLI1LSZegK9bBy8ELfk5+5tnExYVeaQkBLlwAip8siMpglObOHSA6mkbXunUzzx4cx+F57+fB\ncRyiM6ORlp9mno0YNQoPDw+0lDi7wJw2mbB69WosWbJEWI8YMYJJezAqRWx2LFI0KVAr1Wjt1dq8\nmzVrBjg6AhoNLU5iMCpAfj5w6hT9unNnwJyazM42zmjq3hQAcDHpIvQG/VNewWDIH+a0yYANGzZg\nxowZwrpXr17YtGkTG8XCqDCaIg2updC0aKtarWCjsjHvhgoF0LbtwzRpyXBlBqM8CAF+/52mRevU\nAZqXXW5pUhq7NYazjTMKdAWsm5RRLWBOm8Rs2bIFkydPFtbdunXDt99+K7QXMxhPo9hQjKiEKOgN\nevg4+sDXyVecjZ2dgaY0koHz56m0PYNRDhcvAvHxtPHYXGnRR1FwCrT1bgsFp0BcdhzisuPE2ZjB\nMBPMaZOQDRs2IDg4WFh37twZhw4dgr29vYRWMSyNqylXkaPNgb2VPdp4txF38yZNAE9PoKgIOHcO\nMBjE3Z9hESQkALzqUvfugJhvcY7WjkK5wOXky8jR5jzlFQyGfGFOmwQQQrB8+XKjCFtAQACOHDkC\nR0dHCS1jWBpx2XGIzY6FglMgwCcAKoXIKj4cR9OkNjZARgarb2M8hkYD/PorTY+2a0dTo2JTx7kO\n6jjXgYEYEJUQBV2xTnwjGAwTwJw2kTEYDJg1axbmzZsnPNapUyccO3YMzs7OElrGsDTS89NxOfky\nAKCVVys4WTtJY4i1NdC+PXXg7t4FYmOlsYMhO3Q64OefqS6bjw89TaSiVS36P6Ip0uBc4jkYCIsK\nMywP5rSJSEFBAd5//32sWrVKeKxHjx44fvw4XF1dJbSMYWloijT4N+FfGIgBDV0boq5zXWkNcnOj\n+m0AcPkyHSrJqNEQAvz2Gz0VnJyAV1+lfr1UKBVKvOD7AqxV1kjVpOJK8hXpjGEwnhHmtIlESkoK\nevTogX379gmP9evXD4cOHYKDOfveGdUOrV6LMw/OCHpsLT1lMpWgXr2H+m1RUUBurtQWMSTk77+B\nmBgaiH3jDZpBlxo7tR1e8HkBCk6B2OxY3E6/LbVJDEalYE6bCFy4cAEdO3bE6dOnhccmTpyIb7/9\nFjZyeCdjWAxFxUX4J/4faIo0cLJ2Qrva7eQlDdOiBVC7Ns2LnT4N5OVJbRFDAs6eBa5do8owr79O\nG43lgqutK9rVpiOIbqTdQHRmtMQWMRgVhzltZmbbtm3o3Lkz7t+/D4Aqda9btw6hoaFQsWHbjEqg\nK9bhn/h/kKPNgYOVAzr5dRK/8eBpcBytNvf0pIJcp0/TSnRGjeHcOSrvoVAAr71GfXi5UduxttBR\nejXlKmKyYiS2iMGoGMxpMxN5eXkYMWIERo8eDa1WCwBwdHTEwYMH8eGHH8orOsKQPVq9FqfjTyO7\nMBv2VvboXKczrFXWUptVNgoF8MILgLs71W77+2+WKq0hnD1LnTaOA155hWbM5Uo9l3p4rtZzAKgU\nCIu4MSwB5rSZgVOnTqFNmzaIiIgQHmvVqhWioqLQp08f6QxjWCT5unycijv10GHz62z+iQdVRakE\nOnSgDQqFhXR2UUaG1FYxzITBAPz5J42wcRzVYmvYUGqrnk4D1wbwr+UPgEbcbqQxyRqGvGFOmwkp\nKCjA7Nmz0a1bN9y7d094fNiwYfjnn3/QlFePZzAqSGZBJv6K/QuaIg2cbZzxUp2XYKu2ldqsiqFS\nAZ06Ad7etMbtn3+AxESprWKYmKIi4NgxKtGnUgE9ewKNG0ttVcVp6NpQGC5/O/02LiZdZHIgDNki\ns4IYy+Xw4cOYNGkSoqMfhtidnZ0RFhaG999/n6VDGZUmNjsWV5KvwEAM8LDzwAu+L8ivhu1pKJVA\nQACVAYmNpV2ljRvTwZPsf8LiycqiDltWFu0S7dUL8PKS2qrKU8e5DqyUVjiXeA5x2XHI1eYiwCfA\ncm6QGDUGFmmrIvHx8Rg0aBB69+5t5LD16NEDV65cwZAhQ5jDxqgUeoMel5Iu4VLSJRiIAQ1cG6Cj\nX0fLc9h4OA5o0wbw96df37kDnDnDZpVaOHfuAD/8QB02NzdgwADLdNh4vBy80KVuF9ip7ZBVmIU/\nY/5EiiZFarMYDCM4QojUNpidgIAAEsUPvjMxnTp1wpkzZ4S1q6srVqxYgdGjR0OhYD4xo3JkFGTg\nQuIF5OvyoeAUaO3VGnWcJZj7Yy7S0milelERoFYDrVtTqXyGxaDVAidPAnwFSMOGQGAgTY1WB4qK\ni3A+8TxSNakAaMOCv6c/lAqlxJYxahIcx50jhAQ89jhz2qrGn3/+iZdffhkA8MEHH+DTTz9FrVq1\nzLIXo/qiK9bhRtoNxGTHgBAiaLA5WlfDWbSFhcClS0BKSRTD25tG4ezspLWL8VRu36aliQUF1El7\n8UWa6a5uEEJwN/MubqbdhIEYYKe2w3O1noOXgwWHEhkWBXPazOS0AcDixYsRGBgoOG8MRkUhhCAu\nJw430m5Aq9eC4zg0cm2EZh7NoOCqeaT2/n3g+nWguJjKhDRpQicqKFlEQ26kpVHJPb6PxNubRtec\nJBp3KxY52hxcSLyAHG0OAKCWfS08V+s52FvZS2wZo7rDnDYzOm0MRmUhhCAhNwE3029CU0TFZ91s\n3aQd/C4FhYXUcXvwgK6trWmjQr16zHmTARkZNJvNl+va2NCG4CZNak4fCSEE97Pu40baDegNenAc\nBz8nPzRxa8KcN4bZYE4bc9oYMkBv0CM+Jx7RmdHIK6Ijnuyt7NHMvRl8nXwltk5C0tPp3KPsbLq2\ntgYaNADq1qVfM0QlIQG4coXODgVoKtTfH3j++Zr759DqtbiRdgNxOXEghIDjOPg6+qKBawO42LhI\nbR6jmsGcNua0MSQkqzAL8TnxiM+Jh65YBwCwVduiqXtT+Dn5Vf9UaEVJTgZu3nzovCkUdA5S3bp0\nwkJNCe9IQH4+cPcu/fXzOsgKBR0n27YtKznk0RRpcDvjNuJz4sFfP11sXFDPpR5qO9SGWqmW2EJG\ndYA5bcxpY4gIIQQ52hwk5SXhQe4DIQUK0DRoA9cG8HbwZs5aeaSm0pq35GSAf4+ytqadprVrA66u\n1KNgVIn8fCqfd+8ezVDzv2o7O6BlS+qw2TKpsjLJ1+XjftZ9xGbHCjdiCk4BT3tP+Dj6wMveizlw\njGeGOW3MaWOYGU2RBpmFmUjVpCI1PxVavVb4nrXKGr6OvvBz8oOzjbOEVloYvFeRkGA8eF6lAjw8\n6GB6d3fAwYFF4SqAVkubdhMTgbg4mpXmUShoQLNxY6B+feYTV5RiQzESchMQnxOP9IJ0IfrGcRyc\nrZ3hae8JTztPONs4W67WIkN0JHHaOI7rBeBzAEoAWwkhKx75vjWAHQDaA0gH8C4h5H7J9+YAGAWg\nGMAUQsjPFTlmWTCnjWFKDMSAfF0+crW5yC3KRVZhFjILMlFUXGT0PFu1LWrZ10Jth9rwsPNgIstV\nJTubhoOSk4G8POPvqVSAiwv9cHamTpy9fY1uZsjPBzIz6Ud6Ov21ZWUZP0elosHLevWo3lpNrVcz\nFVq9Fol5iUjITUBmQabROCyO4+Bo5QgXGxe42LjA0doRDlYOsFJaSWgxQ66U57SZ7V6K4zglgDAA\nbwBoCWAwx3EtH3naKACZhJDGANYCWFny2pYA3gPgD6AXgI0cxykreExJCAwMrNDzFi1aVKnHK3uc\nyr7+0c9VfW5Z3y/9usDAQOFzWd/jv1/WMSuyb+njlj526dc++vij6wULFyBkfggyCzKRkJuAKbOm\nYMJHEzBm2hj8fv93DJ0yFJ26dEJUQhRupt1Ecl4yioqLYK2yhreDN1p6tsTfO//Gqw1fRWuv1vC0\n98TixYvL/f08+rso72d7Gs96Tjz6e6jI8R4938v6XT5tzyc9Xub3nZ1pzq57d+DVV+mUBR8fwNYW\ni3bswKL166lM/7lzWDR2LHD4MBYNGwacOYNF48cjsEMHID4ei2bOpFE7na7cPR/9fTx6XpY+1x79\nnZT33LLOwYquH+XllwPRtWsg0tNpIPL6dWD06EX49Vfg4EGgf/9F2LUL+Okn4O+/aZ3azp2LcOjQ\nInh5AWfPLsKbbwIffEBHT+3btwiffPLkPStja3nnVEWO+aRzo6K/wyc9tyL/Z2X9fZ+2PwB8suwT\n1Hepj2PbjuHM12fQwbcDGrg2gLONM3aH7kaONgcrlq3A7HmzcSr2FH6+8zN+vvMzTsWewoXEC5g0\ncxJismIwY+4MzJk3B1q9FoQQo73LOu/KO4cfhX9u6Z+vfv36qF+/vtFzynt9/fr1jY7BP1bWnv/f\n3p0GyVHedxz//ufYnUUS2pWQsEBICCxLJhADsRNIFKJgVxkHSrgc506Z2EmhF+ZKnHLhvIiIAVGp\nEMdO4gPHSKBElnEBJW+EA6EsFLANBGQMiCsBDEZCINmYQ0Er7cz886K7Z3t6u+fYQ+OWfp+qre7n\n7Geefrrn2e6emWSbkvUNDg42paXtz+Q4ir/2tP3RzZhrp905qlem7UqbmZ0NXOXuHwzDnwFw9+ti\nee4K89xvZiXgFWAecGU8b5QvLNayzjSH4kqbmdFJX2bl67R8Mn8nZZzxeYqFIrV6bdyyUSZWb6lY\nolqrjlum1QtQLpYbz3hE4YPVg/SVmv+jjOLS0kZGDzSFK+XgEsD+gyPUvY7jwdK9sT7nqCEA9uzb\ny/yZ8wDY+frLLBwMvnH/f/Y+S81rvHv+Mn748mOcftwvNurf+tw2zj15ZdM2Nz85DMCHT1nVFBeF\nv//iA8zqn8Xs/tkMDQwxUBp7UrtUMqpVTw1npUXLtF1aLhujo633dSd5sspFDh4cK9/XZ03huGRa\nX99YHQcOOP39xoED2W3JSo/i25WPRH1VqQTbH3n0aXjrLSor3sfI7XdQ+cj5jNy2hcpvXxCkh+sj\nt20JCppR+cj57L/rvxj44G+w/76HoFRi4OwzANj/6DNB+BdODsLPvwxmDCxZEIR3/iS4j1goMPCO\nQfbvfYuBecEXIr+5Zz/1Ogy+Y+yhsFd3HqRehwWL+njpR6PU3ajXYck7Szz1RI3RUajWjDN/qcD3\nvudBuBr8gMTIyNjfJz4RvN4bbhjro9WrrRFevdpYv96ZMyd4/G9oCE47zcI+83Hnm+gq8ETOYWnn\nrvhV5W7rbHWOjNfXqh2t8rY610Zpaf3RbvudlP/p2z9l7lFzAbj3hXvZd3Af1Xq1kWfV8lUMPz3M\nquXBOWb46eFGfFTmnBPPYfvL2ylakVKhxKnHngrA8689z0lzTmLXm7soWIEFsxawZ98ezIyCFShY\ngaGBoab27h/d3/h91ZHREcyM/lJ/45wcnceN4PWUis23d5NjKW09uUzrz1b93Wpbyf0RzztZU/Ve\nPYntp15pm84b7McDL8XCO4Ffycrj7lUzewOYG8Y/kCgbfR9CuzoPuU9f/zgAl137WGae+ATn0msf\nTc1z6TXp8U31xMbKJVe3z9/KpVc/nrpMc9k1O1KXWS6/5omm8BXXPjkuTxSXlvYXa59KrfdT1z3d\ncrsAV/39rsb62i+M/Xbg5780dkvtq/9Sbypz67+N/8j+dzcvH/cg8Qtb399Yf/zO1kPvxhuzw1lp\nyfi4detabq7jPK2sX9863EnaTTc1L7NkpXdaPs3NDywbW3/1vGD53IqxuB8Eb3A333dS8KW+teAf\nlQ3fCp4z3LCpeX9vuGF/c/j65t+i3LB2Z3N4zXON9U1XPTOufZvXjo31b/9d8zFy7xebj78dG9sf\n30PPPcyMgTozK8Eb/29yDzMrVVYDf3JMODF9I/yLbNnSvCQlLUv0xnjHHc3xyXCnaVn5Oq2vXTuy\nJeQrsAAACoxJREFU8k60/kmmz9l6f2P913cEX9g7Uq+yr7aft+vBP6qLHnuhkae8/RFGfWxS9/p3\n7wZg19bN4za749vBAbl9+CuNuAc2/9P49sXcfcvaxvp/3nJtY/3Ob1wNwH9s+mzL8v++8a+bllnr\n0XLLxjXj6ojHpaUn05J50srcsfGqlu3uVFY9u5/7IQtOPn1KttGtw/apSDO7GLgYYNGiRdO6rfC8\nT63W2ew7dkGrOb6eHp8lbbLfyXNTUY5CmDe5TBN9yjG5bK53rHzRmp8lSoaBxm/5pf2mXzwuXm+5\nWAKMghlmhkWpsbbP6p/ZWB+sjH1R7fwZ8xq/B7sw8Z1oy+e9a1wbls1bOi5uRv/Y1bR2D2on0+Ph\n5KNWUbjVI1hpacldVprkEZ0sHw8nt1XO+GBcFJ+VHunLeJQnis9K77TOvkrQ4X3zxj740b90cbA8\n/d1BRHjQ9Z8W7P/+dy1uOhD7T5jfFK7MP7rpwKsMDTTVUzl67EXPPLpAwZoP0vlzaxQKQdzCY0cp\nUG/kWXbC25SLdUrFIHz28p9RLjmlQp2+slMp16j01amUa6z+UlDf76zY3VT/0gWxZ/2yrgZE8Wnp\n7a4gROnJk1Wrk1enJ7Z4vk7ra9eOrLwTrX+y6SlpFUpUirOgGFyhfU/lxEaW82ad0XRVZ8VRwbg9\ns3ISVa9RY6y+JeXg5xOPKw1RD8vMK86i7k5wb2L8vq3EpgB9jJ1gyh4cOyUvNMql3lmpe/Myaz1c\nekp/xePS0pNpyTxpZepZb7JdyqqnVTunm26PToHRap2+cpGDo60HihmUS0VGq7WmiQhAqVSgWq0n\n8mdPoopFaztJbDV/KxSMet3HLbPytrrMPX676bctWl3uTktL1pkWn5Wn1aX3tG22akNWvon0Qau0\nTm7btDLRy/ZZtxW6aU9aH3XTP8n4iTwuEG9/2q2ZrLalbTPr1ktWOFlPWt609mX1RyOc1f/hfwDx\nNw8rFBrh+HpamWR6I63W/s3OisWmfMlwFBfpts60+uJ1ZuVL1pGVN6v+eFqyfCfb76R8Vlq7PPFw\n2utOS2u3X+Jl0l5XN+Xr1eBqYKFUGreeXEYK4X+EUVq0nkyPRPlq1eCWbbEU/IOUDMfjJqNYKqfW\nUyyVqddqjWNmuvTi9uhDwFIzWwLsIvhgwR8m8gwDFwH3Ax8Ftrq7m9kw8HUz+xxwHLAU+G+Ci0Tt\n6jzkyqVC07KdUjE9X7HY3acLJztmoveS5FJEfk60OyiT6fFwVtlWB3ynJ5VWl5Gnos5O62vXjqy8\nE61/sumdtKGT8q222+nrbJW31XZSyscnc2nryWVcVtmsfIXEc3XJcFbcRGTVM90TtlambdIWPqN2\nCXAXwddzrHP3J8zss8DD7j4M3Aj8q5k9C7xGMAkjzPdN4EmgCnzS3WsAaXVO12voRqc/Fr9mTfo9\n+6z4buvptnxyOdm8aenxctu2bWPlypVs27YtNQ3SP4nbyeuN1xHP36o9nWwjLV+0nVZtyQon06Kx\n08k+6GabnZrImEyO9077stNtTvZ4SBuzaWMja5tp+yg+LtPGQNQnWXmTcZ20P0va+aZV+9uld9Pf\nnZSdzP7r5jjstI5O6o+npe3fbl53t2nt8sTDyX0fH2/tXmc8b/T6Fi9ePC5PVvnFixc3PkEaj0vb\nZrv3jdmzZ3PFFVdkbiur/Vnpk31P7GT707GdbunLdUVERER+jhzy72kTERERkamjSZuIiIhIDmjS\nJiIiIpIDmrSJiIiI5IAmbSIiIiI5oEmbiIiISA5o0iYiIiKSA5q0iYiIiOSAJm0iIiIiOaBJm4iI\niEgOaNImIiIikgOatImIiIjkgCZtIiIiIjmgSZuIiIhIDmjSJiIiIpID5u69bsO0M7O9wIu9bkdO\nHAP8pNeNOIyoP6ee+nTqqU+nlvpz6h1pfbrY3eclI4+ISZt0zswedvf39rodhwv159RTn0499enU\nUn9OPfVpQLdHRURERHJAkzYRERGRHNCkTZK+2usGHGbUn1NPfTr11KdTS/059dSn6Jk2ERERkVzQ\nlTYRERGRHNCkTQAws/PM7Bkze9bMrux1e/LIzE4ws3vM7Ekze8LMLg/j55jZ3Wb2v+FyqNdtzRMz\nK5rZI2a2JQwvMbMHw7F6i5n19bqNeWJmg2Z2q5k9bWZPmdnZGqOTY2Z/Hh7zO8xsk5lVNE67Y2br\nzGyPme2IxaWOSwv8Y9i3j5nZmb1r+aGlSZtgZkXgi8CHgFOAPzCzU3rbqlyqAp9y91OAs4BPhv14\nJfAdd18KfCcMS+cuB56Khf8W+Ad3fyfwM+BPe9Kq/PoCcKe7LwfeQ9C3GqMTZGbHA5cB73X3U4Ei\n8PtonHbrJuC8RFzWuPwQsDT8uxj48iFqY89p0iYAvww86+7Pu/tB4BvAhT1uU+64+253/0G4/hbB\nm+HxBH15c5jtZuDDvWlh/pjZQuB84Gth2IBzgVvDLOrPLpjZbOAc4EYAdz/o7q+jMTpZJWDAzErA\nUcBuNE674u73Aq8lorPG5YXABg88AAya2YJD09Le0qRNIJhYvBQL7wzjZILM7ETgDOBB4Fh33x0m\nvQIc26Nm5dHngU8D9TA8F3jd3athWGO1O0uAvcD68Jbz18xsBhqjE+buu4DrgR8TTNbeALajcToV\nssblEfuepUmbyBQzs5nAbcAV7v5mPM2Dj2vrI9sdMLMLgD3uvr3XbTmMlIAzgS+7+xnA/5G4Faox\n2p3wOasLCSbExwEzGH+bTyZJ4zKgSZsA7AJOiIUXhnHSJTMrE0zYNrr77WH0q9Gl+3C5p1fty5lf\nA1aZ2QsEt+zPJXgeazC8DQUaq93aCex09wfD8K0EkziN0Yn7APAjd9/r7qPA7QRjV+N08rLG5RH7\nnqVJmwA8BCwNP+3UR/AQ7XCP25Q74fNWNwJPufvnYknDwEXh+kXAtw512/LI3T/j7gvd/USCMbnV\n3f8IuAf4aJhN/dkFd38FeMnMloVR7weeRGN0Mn4MnGVmR4XngKhPNU4nL2tcDgMfCz9FehbwRuw2\n6mFNX64rAJjZbxE8P1QE1rn7tT1uUu6Y2QrgPuBxxp7B+iuC59q+CSwCXgR+192TD9xKC2a2EvhL\nd7/AzE4iuPI2B3gE+GN3P9DL9uWJmZ1O8MGOPuB54OME/8BrjE6Qmf0N8HsEnyB/BPgzgmesNE47\nZGabgJXAMcCrwBpgMynjMpwc/zPBbei3gY+7+8O9aPehpkmbiIiISA7o9qiIiIhIDmjSJiIiIpID\nmrSJiIiI5IAmbSIiIiI5oEmbiIiISA5o0iYiIiKSA5q0iYiIiOSAJm0iIl0ws/eZ2WNmVjGzGWb2\nhJmd2ut2icjhT1+uKyLSJTO7BqgAAwS/5Xldj5skIkcATdpERLoU/kbvQ8AI8KvuXutxk0TkCKDb\noyIi3ZsLzARmEVxxExGZdrrSJiLSJTMbJvgx8CXAAne/pMdNEpEjQKnXDRARyRMz+xgw6u5fN7Mi\n8H0zO9fdt/a6bSJyeNOVNhEREZEc0DNtIiIiIjmgSZuIiIhIDmjSJiIiIpIDmrSJiIiI5IAmbSIi\nIiI5oEmbiIiISA5o0iYiIiKSA5q0iYiIiOTA/wOilRkrMJK5QwAAAABJRU5ErkJggg==\n",
                "text/plain": "<Figure size 720x576 with 1 Axes>"
              }
            ],
            "_view_module": "@jupyter-widgets/output",
            "_model_module_version": "1.0.0",
            "_view_count": null,
            "_view_module_version": "1.0.0",
            "layout": "IPY_MODEL_ae52ddeec2d3447f9de996d95c6be88b",
            "_model_module": "@jupyter-widgets/output"
          }
        },
        "4f7c35c95dbd483f900c5dd0f276779e": {
          "model_module": "@jupyter-widgets/controls",
          "model_name": "HBoxModel",
          "state": {
            "_view_name": "HBoxView",
            "_dom_classes": [],
            "_model_name": "HBoxModel",
            "_view_module": "@jupyter-widgets/controls",
            "_model_module_version": "1.5.0",
            "_view_count": null,
            "_view_module_version": "1.5.0",
            "box_style": "",
            "layout": "IPY_MODEL_af208dffa95c4fde9e19765faabb0214",
            "_model_module": "@jupyter-widgets/controls",
            "children": [
              "IPY_MODEL_2286eb29510a420fb01cafe4daaed365",
              "IPY_MODEL_c4195d1a83f34e9abe35bea212fde508"
            ]
          }
        },
        "af208dffa95c4fde9e19765faabb0214": {
          "model_module": "@jupyter-widgets/base",
          "model_name": "LayoutModel",
          "state": {
            "_view_name": "LayoutView",
            "grid_template_rows": null,
            "right": null,
            "justify_content": null,
            "_view_module": "@jupyter-widgets/base",
            "overflow": null,
            "_model_module_version": "1.2.0",
            "_view_count": null,
            "flex_flow": null,
            "width": null,
            "min_width": null,
            "border": null,
            "align_items": null,
            "bottom": null,
            "_model_module": "@jupyter-widgets/base",
            "top": null,
            "grid_column": null,
            "overflow_y": null,
            "overflow_x": null,
            "grid_auto_flow": null,
            "grid_area": null,
            "grid_template_columns": null,
            "flex": null,
            "_model_name": "LayoutModel",
            "justify_items": null,
            "grid_row": null,
            "max_height": null,
            "align_content": null,
            "visibility": null,
            "align_self": null,
            "height": null,
            "min_height": null,
            "padding": null,
            "grid_auto_rows": null,
            "grid_gap": null,
            "max_width": null,
            "order": null,
            "_view_module_version": "1.2.0",
            "grid_template_areas": null,
            "object_position": null,
            "object_fit": null,
            "grid_auto_columns": null,
            "margin": null,
            "display": null,
            "left": null
          }
        },
        "2286eb29510a420fb01cafe4daaed365": {
          "model_module": "@jupyter-widgets/controls",
          "model_name": "DropdownModel",
          "state": {
            "_options_labels": [
              "gaussian",
              "tophat",
              "epanechnikov",
              "exponential",
              "linear",
              "cosine"
            ],
            "_view_name": "DropdownView",
            "style": "IPY_MODEL_2bebd902fc2f40be88c003c2c54f6978",
            "_dom_classes": [],
            "description": "Kernel:",
            "_model_name": "DropdownModel",
            "index": 0,
            "_view_module": "@jupyter-widgets/controls",
            "_model_module_version": "1.5.0",
            "_view_count": null,
            "disabled": false,
            "_view_module_version": "1.5.0",
            "description_tooltip": null,
            "_model_module": "@jupyter-widgets/controls",
            "layout": "IPY_MODEL_4dacef56c7a14225909270fcd812cd8c"
          }
        },
        "c4195d1a83f34e9abe35bea212fde508": {
          "model_module": "@jupyter-widgets/controls",
          "model_name": "VBoxModel",
          "state": {
            "_view_name": "VBoxView",
            "_dom_classes": [],
            "_model_name": "VBoxModel",
            "_view_module": "@jupyter-widgets/controls",
            "_model_module_version": "1.5.0",
            "_view_count": null,
            "_view_module_version": "1.5.0",
            "box_style": "",
            "layout": "IPY_MODEL_92b78e7e7df24fdcbbf1c1e4dd01cf32",
            "_model_module": "@jupyter-widgets/controls",
            "children": [
              "IPY_MODEL_d0dee9205e084d68b52c1fc87c29dcac",
              "IPY_MODEL_c64da43131fb4743b0a083ee6dcc06ba"
            ]
          }
        },
        "2bebd902fc2f40be88c003c2c54f6978": {
          "model_module": "@jupyter-widgets/controls",
          "model_name": "DescriptionStyleModel",
          "state": {
            "_view_name": "StyleView",
            "_model_name": "DescriptionStyleModel",
            "description_width": "",
            "_view_module": "@jupyter-widgets/base",
            "_model_module_version": "1.5.0",
            "_view_count": null,
            "_view_module_version": "1.2.0",
            "_model_module": "@jupyter-widgets/controls"
          }
        },
        "4dacef56c7a14225909270fcd812cd8c": {
          "model_module": "@jupyter-widgets/base",
          "model_name": "LayoutModel",
          "state": {
            "_view_name": "LayoutView",
            "grid_template_rows": null,
            "right": null,
            "justify_content": null,
            "_view_module": "@jupyter-widgets/base",
            "overflow": null,
            "_model_module_version": "1.2.0",
            "_view_count": null,
            "flex_flow": null,
            "width": null,
            "min_width": null,
            "border": null,
            "align_items": null,
            "bottom": null,
            "_model_module": "@jupyter-widgets/base",
            "top": null,
            "grid_column": null,
            "overflow_y": null,
            "overflow_x": null,
            "grid_auto_flow": null,
            "grid_area": null,
            "grid_template_columns": null,
            "flex": null,
            "_model_name": "LayoutModel",
            "justify_items": null,
            "grid_row": null,
            "max_height": null,
            "align_content": null,
            "visibility": null,
            "align_self": null,
            "height": null,
            "min_height": null,
            "padding": null,
            "grid_auto_rows": null,
            "grid_gap": null,
            "max_width": null,
            "order": null,
            "_view_module_version": "1.2.0",
            "grid_template_areas": null,
            "object_position": null,
            "object_fit": null,
            "grid_auto_columns": null,
            "margin": null,
            "display": null,
            "left": null
          }
        },
        "92b78e7e7df24fdcbbf1c1e4dd01cf32": {
          "model_module": "@jupyter-widgets/base",
          "model_name": "LayoutModel",
          "state": {
            "_view_name": "LayoutView",
            "grid_template_rows": null,
            "right": null,
            "justify_content": null,
            "_view_module": "@jupyter-widgets/base",
            "overflow": null,
            "_model_module_version": "1.2.0",
            "_view_count": null,
            "flex_flow": null,
            "width": null,
            "min_width": null,
            "border": null,
            "align_items": null,
            "bottom": null,
            "_model_module": "@jupyter-widgets/base",
            "top": null,
            "grid_column": null,
            "overflow_y": null,
            "overflow_x": null,
            "grid_auto_flow": null,
            "grid_area": null,
            "grid_template_columns": null,
            "flex": null,
            "_model_name": "LayoutModel",
            "justify_items": null,
            "grid_row": null,
            "max_height": null,
            "align_content": null,
            "visibility": null,
            "align_self": null,
            "height": null,
            "min_height": null,
            "padding": null,
            "grid_auto_rows": null,
            "grid_gap": null,
            "max_width": null,
            "order": null,
            "_view_module_version": "1.2.0",
            "grid_template_areas": null,
            "object_position": null,
            "object_fit": null,
            "grid_auto_columns": null,
            "margin": null,
            "display": null,
            "left": null
          }
        },
        "d0dee9205e084d68b52c1fc87c29dcac": {
          "model_module": "@jupyter-widgets/controls",
          "model_name": "FloatSliderModel",
          "state": {
            "_view_name": "FloatSliderView",
            "style": "IPY_MODEL_7539a514676844a5a241dc35ce65514a",
            "_dom_classes": [],
            "description": "bandwidth",
            "step": 0.1,
            "_model_name": "FloatSliderModel",
            "orientation": "horizontal",
            "max": 50,
            "_view_module": "@jupyter-widgets/controls",
            "_model_module_version": "1.5.0",
            "value": 15,
            "_view_count": null,
            "disabled": false,
            "_view_module_version": "1.5.0",
            "min": 1,
            "continuous_update": true,
            "readout_format": ".2f",
            "description_tooltip": null,
            "readout": true,
            "_model_module": "@jupyter-widgets/controls",
            "layout": "IPY_MODEL_acec943fbf38496c9ac3a5e46ee19c0d"
          }
        },
        "c64da43131fb4743b0a083ee6dcc06ba": {
          "model_module": "@jupyter-widgets/controls",
          "model_name": "HBoxModel",
          "state": {
            "_view_name": "HBoxView",
            "_dom_classes": [],
            "_model_name": "HBoxModel",
            "_view_module": "@jupyter-widgets/controls",
            "_model_module_version": "1.5.0",
            "_view_count": null,
            "_view_module_version": "1.5.0",
            "box_style": "",
            "layout": "IPY_MODEL_77366e7492684eeb839fbb6b5f448657",
            "_model_module": "@jupyter-widgets/controls",
            "children": [
              "IPY_MODEL_7933ac4cc1c24f24ba509b424efc9887",
              "IPY_MODEL_16ace79aea39486bae0a97baedbf8dae",
              "IPY_MODEL_8072711b88e14b7e896221152f15846c"
            ]
          }
        },
        "7539a514676844a5a241dc35ce65514a": {
          "model_module": "@jupyter-widgets/controls",
          "model_name": "SliderStyleModel",
          "state": {
            "_view_name": "StyleView",
            "handle_color": null,
            "_model_name": "SliderStyleModel",
            "description_width": "",
            "_view_module": "@jupyter-widgets/base",
            "_model_module_version": "1.5.0",
            "_view_count": null,
            "_view_module_version": "1.2.0",
            "_model_module": "@jupyter-widgets/controls"
          }
        },
        "acec943fbf38496c9ac3a5e46ee19c0d": {
          "model_module": "@jupyter-widgets/base",
          "model_name": "LayoutModel",
          "state": {
            "_view_name": "LayoutView",
            "grid_template_rows": null,
            "right": null,
            "justify_content": null,
            "_view_module": "@jupyter-widgets/base",
            "overflow": null,
            "_model_module_version": "1.2.0",
            "_view_count": null,
            "flex_flow": null,
            "width": null,
            "min_width": null,
            "border": null,
            "align_items": null,
            "bottom": null,
            "_model_module": "@jupyter-widgets/base",
            "top": null,
            "grid_column": null,
            "overflow_y": null,
            "overflow_x": null,
            "grid_auto_flow": null,
            "grid_area": null,
            "grid_template_columns": null,
            "flex": null,
            "_model_name": "LayoutModel",
            "justify_items": null,
            "grid_row": null,
            "max_height": null,
            "align_content": null,
            "visibility": null,
            "align_self": null,
            "height": null,
            "min_height": null,
            "padding": null,
            "grid_auto_rows": null,
            "grid_gap": null,
            "max_width": null,
            "order": null,
            "_view_module_version": "1.2.0",
            "grid_template_areas": null,
            "object_position": null,
            "object_fit": null,
            "grid_auto_columns": null,
            "margin": null,
            "display": null,
            "left": null
          }
        },
        "77366e7492684eeb839fbb6b5f448657": {
          "model_module": "@jupyter-widgets/base",
          "model_name": "LayoutModel",
          "state": {
            "_view_name": "LayoutView",
            "grid_template_rows": null,
            "right": null,
            "justify_content": null,
            "_view_module": "@jupyter-widgets/base",
            "overflow": null,
            "_model_module_version": "1.2.0",
            "_view_count": null,
            "flex_flow": null,
            "width": null,
            "min_width": null,
            "border": null,
            "align_items": null,
            "bottom": null,
            "_model_module": "@jupyter-widgets/base",
            "top": null,
            "grid_column": null,
            "overflow_y": null,
            "overflow_x": null,
            "grid_auto_flow": null,
            "grid_area": null,
            "grid_template_columns": null,
            "flex": null,
            "_model_name": "LayoutModel",
            "justify_items": null,
            "grid_row": null,
            "max_height": null,
            "align_content": null,
            "visibility": null,
            "align_self": null,
            "height": null,
            "min_height": null,
            "padding": null,
            "grid_auto_rows": null,
            "grid_gap": null,
            "max_width": null,
            "order": null,
            "_view_module_version": "1.2.0",
            "grid_template_areas": null,
            "object_position": null,
            "object_fit": null,
            "grid_auto_columns": null,
            "margin": null,
            "display": null,
            "left": null
          }
        },
        "7933ac4cc1c24f24ba509b424efc9887": {
          "model_module": "@jupyter-widgets/controls",
          "model_name": "ButtonModel",
          "state": {
            "_view_name": "ButtonView",
            "style": "IPY_MODEL_6c345a82da8345829c8e17bf9da48027",
            "_dom_classes": [],
            "description": "Silverman",
            "_model_name": "ButtonModel",
            "button_style": "",
            "_view_module": "@jupyter-widgets/controls",
            "_model_module_version": "1.5.0",
            "tooltip": "",
            "_view_count": null,
            "disabled": false,
            "_view_module_version": "1.5.0",
            "layout": "IPY_MODEL_f4af8e7329b0426f94c3aaf7432a5b3b",
            "_model_module": "@jupyter-widgets/controls",
            "icon": ""
          }
        },
        "16ace79aea39486bae0a97baedbf8dae": {
          "model_module": "@jupyter-widgets/controls",
          "model_name": "ButtonModel",
          "state": {
            "_view_name": "ButtonView",
            "style": "IPY_MODEL_383b2234a39245d2879b2edbaca57a5b",
            "_dom_classes": [],
            "description": "ISJ",
            "_model_name": "ButtonModel",
            "button_style": "",
            "_view_module": "@jupyter-widgets/controls",
            "_model_module_version": "1.5.0",
            "tooltip": "",
            "_view_count": null,
            "disabled": false,
            "_view_module_version": "1.5.0",
            "layout": "IPY_MODEL_edf54f15d7c94cc7b05f6bac904c95f8",
            "_model_module": "@jupyter-widgets/controls",
            "icon": ""
          }
        },
        "8072711b88e14b7e896221152f15846c": {
          "model_module": "@jupyter-widgets/controls",
          "model_name": "ButtonModel",
          "state": {
            "_view_name": "ButtonView",
            "style": "IPY_MODEL_144c3d39474b47749bde28d3589c4f02",
            "_dom_classes": [],
            "description": "Cross Validation",
            "_model_name": "ButtonModel",
            "button_style": "",
            "_view_module": "@jupyter-widgets/controls",
            "_model_module_version": "1.5.0",
            "tooltip": "",
            "_view_count": null,
            "disabled": false,
            "_view_module_version": "1.5.0",
            "layout": "IPY_MODEL_63c5bd8da3ad4cb8ae229ad3c8483045",
            "_model_module": "@jupyter-widgets/controls",
            "icon": ""
          }
        },
        "6c345a82da8345829c8e17bf9da48027": {
          "model_module": "@jupyter-widgets/controls",
          "model_name": "ButtonStyleModel",
          "state": {
            "_view_name": "StyleView",
            "_model_name": "ButtonStyleModel",
            "_view_module": "@jupyter-widgets/base",
            "_model_module_version": "1.5.0",
            "_view_count": null,
            "button_color": null,
            "font_weight": "",
            "_view_module_version": "1.2.0",
            "_model_module": "@jupyter-widgets/controls"
          }
        },
        "f4af8e7329b0426f94c3aaf7432a5b3b": {
          "model_module": "@jupyter-widgets/base",
          "model_name": "LayoutModel",
          "state": {
            "_view_name": "LayoutView",
            "grid_template_rows": null,
            "right": null,
            "justify_content": null,
            "_view_module": "@jupyter-widgets/base",
            "overflow": null,
            "_model_module_version": "1.2.0",
            "_view_count": null,
            "flex_flow": null,
            "width": null,
            "min_width": null,
            "border": null,
            "align_items": null,
            "bottom": null,
            "_model_module": "@jupyter-widgets/base",
            "top": null,
            "grid_column": null,
            "overflow_y": null,
            "overflow_x": null,
            "grid_auto_flow": null,
            "grid_area": null,
            "grid_template_columns": null,
            "flex": null,
            "_model_name": "LayoutModel",
            "justify_items": null,
            "grid_row": null,
            "max_height": null,
            "align_content": null,
            "visibility": null,
            "align_self": null,
            "height": null,
            "min_height": null,
            "padding": null,
            "grid_auto_rows": null,
            "grid_gap": null,
            "max_width": null,
            "order": null,
            "_view_module_version": "1.2.0",
            "grid_template_areas": null,
            "object_position": null,
            "object_fit": null,
            "grid_auto_columns": null,
            "margin": null,
            "display": null,
            "left": null
          }
        },
        "383b2234a39245d2879b2edbaca57a5b": {
          "model_module": "@jupyter-widgets/controls",
          "model_name": "ButtonStyleModel",
          "state": {
            "_view_name": "StyleView",
            "_model_name": "ButtonStyleModel",
            "_view_module": "@jupyter-widgets/base",
            "_model_module_version": "1.5.0",
            "_view_count": null,
            "button_color": null,
            "font_weight": "",
            "_view_module_version": "1.2.0",
            "_model_module": "@jupyter-widgets/controls"
          }
        },
        "edf54f15d7c94cc7b05f6bac904c95f8": {
          "model_module": "@jupyter-widgets/base",
          "model_name": "LayoutModel",
          "state": {
            "_view_name": "LayoutView",
            "grid_template_rows": null,
            "right": null,
            "justify_content": null,
            "_view_module": "@jupyter-widgets/base",
            "overflow": null,
            "_model_module_version": "1.2.0",
            "_view_count": null,
            "flex_flow": null,
            "width": null,
            "min_width": null,
            "border": null,
            "align_items": null,
            "bottom": null,
            "_model_module": "@jupyter-widgets/base",
            "top": null,
            "grid_column": null,
            "overflow_y": null,
            "overflow_x": null,
            "grid_auto_flow": null,
            "grid_area": null,
            "grid_template_columns": null,
            "flex": null,
            "_model_name": "LayoutModel",
            "justify_items": null,
            "grid_row": null,
            "max_height": null,
            "align_content": null,
            "visibility": null,
            "align_self": null,
            "height": null,
            "min_height": null,
            "padding": null,
            "grid_auto_rows": null,
            "grid_gap": null,
            "max_width": null,
            "order": null,
            "_view_module_version": "1.2.0",
            "grid_template_areas": null,
            "object_position": null,
            "object_fit": null,
            "grid_auto_columns": null,
            "margin": null,
            "display": null,
            "left": null
          }
        },
        "144c3d39474b47749bde28d3589c4f02": {
          "model_module": "@jupyter-widgets/controls",
          "model_name": "ButtonStyleModel",
          "state": {
            "_view_name": "StyleView",
            "_model_name": "ButtonStyleModel",
            "_view_module": "@jupyter-widgets/base",
            "_model_module_version": "1.5.0",
            "_view_count": null,
            "button_color": null,
            "font_weight": "",
            "_view_module_version": "1.2.0",
            "_model_module": "@jupyter-widgets/controls"
          }
        },
        "63c5bd8da3ad4cb8ae229ad3c8483045": {
          "model_module": "@jupyter-widgets/base",
          "model_name": "LayoutModel",
          "state": {
            "_view_name": "LayoutView",
            "grid_template_rows": null,
            "right": null,
            "justify_content": null,
            "_view_module": "@jupyter-widgets/base",
            "overflow": null,
            "_model_module_version": "1.2.0",
            "_view_count": null,
            "flex_flow": null,
            "width": null,
            "min_width": null,
            "border": null,
            "align_items": null,
            "bottom": null,
            "_model_module": "@jupyter-widgets/base",
            "top": null,
            "grid_column": null,
            "overflow_y": null,
            "overflow_x": null,
            "grid_auto_flow": null,
            "grid_area": null,
            "grid_template_columns": null,
            "flex": null,
            "_model_name": "LayoutModel",
            "justify_items": null,
            "grid_row": null,
            "max_height": null,
            "align_content": null,
            "visibility": null,
            "align_self": null,
            "height": null,
            "min_height": null,
            "padding": null,
            "grid_auto_rows": null,
            "grid_gap": null,
            "max_width": null,
            "order": null,
            "_view_module_version": "1.2.0",
            "grid_template_areas": null,
            "object_position": null,
            "object_fit": null,
            "grid_auto_columns": null,
            "margin": null,
            "display": null,
            "left": null
          }
        },
        "d304ff52086647c7bc3ad1b3267577fc": {
          "model_module": "@jupyter-widgets/output",
          "model_name": "OutputModel",
          "state": {
            "_view_name": "OutputView",
            "msg_id": "",
            "_dom_classes": [],
            "_model_name": "OutputModel",
            "outputs": [
              {
                "output_type": "display_data",
                "metadata": {
                  "tags": []
                },
                "image/png": "iVBORw0KGgoAAAANSUhEUgAAAm0AAAHwCAYAAAD0G1i+AAAABHNCSVQICAgIfAhkiAAAAAlwSFlz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\n",
                "text/plain": "<Figure size 720x576 with 1 Axes>"
              }
            ],
            "_view_module": "@jupyter-widgets/output",
            "_model_module_version": "1.0.0",
            "_view_count": null,
            "_view_module_version": "1.0.0",
            "layout": "IPY_MODEL_cee3736e38b04da5944b7182ac7cc5fe",
            "_model_module": "@jupyter-widgets/output"
          }
        }
      }
    }
  },
  "cells": [
    {
      "cell_type": "markdown",
      "metadata": {
        "id": "view-in-github",
        "colab_type": "text"
      },
      "source": [
        "<a href=\"https://colab.research.google.com/github/fbeilstein/machine_learning/blob/master/lecture_15_kernel_density_estimation.ipynb\" target=\"_parent\"><img src=\"https://colab.research.google.com/assets/colab-badge.svg\" alt=\"Open In Colab\"/></a>"
      ]
    },
    {
      "cell_type": "markdown",
      "metadata": {
        "id": "BJ-DUq6MoqWc",
        "colab_type": "text"
      },
      "source": [
        "#Kernel density estimation / Ядрова оцінка густини розподілу"
      ]
    },
    {
      "cell_type": "markdown",
      "metadata": {
        "id": "gZYadnN3sfQi",
        "colab_type": "text"
      },
      "source": [
        "**K**ernel **D**ensity **E**stimation (KDE) is a technique for estimation of probability distribution of the random variable.\n",
        "Before we had two instruments for that:\n",
        "* histograms to capture emphirical frequencies to approximate underlying probability distribution;\n",
        "* guessing a family of probability distributions that the data probably follows and estimating parameters (using MLE) of a most fit of these distributions (parametric pdf estimation).\n",
        "\n",
        "KDE is another option for us. It can be seen as an extention (\"smoothing\") of the histogram technique."
      ]
    },
    {
      "cell_type": "markdown",
      "metadata": {
        "id": "g2i9dmgzT0jN",
        "colab_type": "text"
      },
      "source": [
        "#Motivating KDE: Histograms"
      ]
    },
    {
      "cell_type": "markdown",
      "metadata": {
        "id": "3lzFBpANoxck",
        "colab_type": "text"
      },
      "source": [
        "Have you ever looked at histogram of samples drawn from a random variable with a known distribution and cringed how \"inaccurate\" that histogram was?\n",
        "\n",
        "<br>\n",
        "<img src=\"https://raw.githubusercontent.com/fbeilstein/machine_learning/master/lecture_15_kernel_density_estimation/galton_board.jpg\" width=\"400px\" />\n",
        "\n",
        "<br>\n",
        "\n",
        "Well, although histograms are useful and widely used it's also true that\n",
        "\n",
        "$$\n",
        "\\text{Histograms are trickier than they seem.}\n",
        "$$\n",
        "\n",
        "First, you should sample hundred of thousands times in order the histogram relatively closely resemble the underlying distribution.\n",
        "Second, the bins sizes and location could be chosen in many ways. This can drastically change the overall shape of the histogram."
      ]
    },
    {
      "cell_type": "code",
      "metadata": {
        "id": "FgTGp-GsT13k",
        "colab_type": "code",
        "outputId": "064a4be7-a2d8-40e7-bd4c-622fb936501c",
        "colab": {
          "base_uri": "https://localhost:8080/",
          "height": 274
        }
      },
      "source": [
        "import matplotlib.pyplot as plt\n",
        "import seaborn as sns; sns.set()\n",
        "import numpy as np\n",
        "\n",
        "def make_data(N, f=0.3, rseed=1):\n",
        "  rand = np.random.RandomState(rseed)\n",
        "  x = rand.randn(N)\n",
        "  x[int(f * N):] += 5\n",
        "  return x\n",
        "\n",
        "x = make_data(1000)\n",
        "hist = plt.hist(x, bins=30, density=True)"
      ],
      "execution_count": 0,
      "outputs": [
        {
          "output_type": "display_data",
          "data": {
            "image/png": "[encoded data removed]",
            "text/plain": [
              "<Figure size 432x288 with 1 Axes>"
            ]
          },
          "metadata": {
            "tags": []
          }
        }
      ]
    },
    {
      "cell_type": "code",
      "metadata": {
        "id": "wybFbOtjtMuS",
        "colab_type": "code",
        "outputId": "6fd9e0e2-0aeb-4716-8240-7c80a2060a7e",
        "colab": {
          "base_uri": "https://localhost:8080/",
          "height": 34
        }
      },
      "source": [
        "# histogram is normed = area equa to 1\n",
        "density, bins, patches = hist\n",
        "widths = bins[1:] - bins[:-1]\n",
        "(density * widths).sum()"
      ],
      "execution_count": 0,
      "outputs": [
        {
          "output_type": "execute_result",
          "data": {
            "text/plain": [
              "1.0"
            ]
          },
          "metadata": {
            "tags": []
          },
          "execution_count": 6
        }
      ]
    },
    {
      "cell_type": "markdown",
      "metadata": {
        "id": "bLtxb-45122v",
        "colab_type": "text"
      },
      "source": [
        "The issue is that depending on the bins the histograms may have different *qualitive* features. Consider this."
      ]
    },
    {
      "cell_type": "code",
      "metadata": {
        "id": "BgtT92WP1Y26",
        "colab_type": "code",
        "outputId": "3581bdbe-4723-4cbb-ffde-cc94afae90c9",
        "colab": {
          "base_uri": "https://localhost:8080/",
          "height": 274
        }
      },
      "source": [
        "x = make_data(20)\n",
        "bins = np.linspace(-5, 10, 10)\n",
        "fig, ax = plt.subplots(1, 2, figsize=(12, 4), sharex=True, sharey=True, subplot_kw={'xlim':(-4, 9), 'ylim':(-0.02, 0.3)})\n",
        "fig.subplots_adjust(wspace=0.05)\n",
        "for i, offset in enumerate([0.0, 0.6]):\n",
        "  ax[i].hist(x, bins=bins + offset, density=True)\n",
        "  ax[i].plot(x, np.full_like(x, -0.01), '|k', markeredgewidth=1)\n",
        "  \n"
      ],
      "execution_count": 0,
      "outputs": [
        {
          "output_type": "display_data",
          "data": {
            "image/png": "[encoded data removed]",
            "text/plain": [
              "<Figure size 864x288 with 2 Axes>"
            ]
          },
          "metadata": {
            "tags": []
          }
        }
      ]
    },
    {
      "cell_type": "markdown",
      "metadata": {
        "id": "aAoW_Glkphhh",
        "colab_type": "text"
      },
      "source": [
        "So it the underlying distribution bimodal or unimodal?\n",
        "Please take a look at  [these](https://mglerner.github.io/posts/histograms-and-kernel-density-estimation-kde-2.html?p=28) animations of histograms tricky behaviour.\n",
        "\n",
        "---\n",
        "\n",
        "**Sidenote** \n",
        "\n",
        "---\n",
        "\n",
        "On the above picture we have used **a rug plot** -- a plot of data for a single quantitative variable, displayed as marks along an axis. As such it is analogous to a histogram with zero-width bins, or a one-dimensional scatter plot.\n",
        "Rug plots are often used in combination with two-dimensional scatter plots by placing a rug plot of the x values of the data along the x-axis, and similarly for the y values. This is the origin of the term \"rug plot\", as these rug plots with perpendicular markers look like tassels along the edges of the rectangular \"rug\" of the scatter plot.\n",
        "\n",
        "---\n",
        "\n",
        "We can try to solve the problem with the ambiguity of the bin choice by the following idea.\n",
        "You can rethink histogram as square blocks stacked on each other. Each block represents one point of data. If several datapoints are contained within one bin their blocks are placed one at the top of the other."
      ]
    },
    {
      "cell_type": "code",
      "metadata": {
        "id": "k9Bv6--l0ME4",
        "colab_type": "code",
        "cellView": "form",
        "outputId": "ad8fda85-0006-4207-baee-77089bf3c7b8",
        "colab": {
          "base_uri": "https://localhost:8080/",
          "height": 617
        }
      },
      "source": [
        "#@title Varying bin size\n",
        "\n",
        "from plotly.subplots import make_subplots\n",
        "import plotly.graph_objects as go\n",
        "import numpy as np\n",
        "from scipy.optimize import minimize\n",
        "\n",
        "\n",
        "Nbins = 10\n",
        "x_min, x_max = 4.0, 10.0\n",
        "y_min, y_max = 0.0, 1.0\n",
        "x_ = np.array([93.5,93,60.8,94.5,82,87.5,91.5,99.5,86,93.5,92.5,78,76,69,94.5,89.5,92.8,78,65.5,98,98.5,92.3,95.5,76,91,95,61.4,96,90]) * 0.1 - 1.0\n",
        "y_ = np.array([0.0] * x_.shape[0])\n",
        "\n",
        "\n",
        "fig = dict(\n",
        "    layout = dict(\n",
        "        width=600, height=600, autosize=False,\n",
        "        showlegend = False,\n",
        "        xaxis1 = {'domain': [0.0, 1.0], 'range': [x_min, x_max]},\n",
        "        yaxis1 = {'domain': [0.0, 1.0], 'range': [y_min, y_max]},\n",
        "        title  = 'Binning',\n",
        "        margin = {'t': 50, 'b': 50, 'l': 50, 'r': 50},\n",
        "        updatemenus = [{'buttons': [{'args': [[k for k in range(Nbins)],\n",
        "                                              {'frame': {'duration': 500.0, 'redraw': True},\n",
        "                                               'fromcurrent': False, 'transition': {'duration': 0, 'easing': 'linear'}}],\n",
        "                                     'label': 'Play',\n",
        "                                     'method': 'animate'},\n",
        "                                    {'args': [[None], {'frame': {'duration': 0, 'redraw': True},\n",
        "                                                       'mode': 'immediate',\n",
        "                                                       'transition': {'duration': 0}}\n",
        "                                              ],\n",
        "                                     'label': 'Pause',\n",
        "                                     'method': 'animate'\n",
        "                                     }\n",
        "                                    ],\n",
        "                        'direction': 'left',\n",
        "                        'pad': {'r': 10, 't': 85},\n",
        "                        'showactive': True,\n",
        "                        'type': 'buttons', 'x': 0.1, 'y': 0, 'xanchor': 'right', 'yanchor': 'top'}],\n",
        "        sliders = [{'yanchor': 'top',\n",
        "                    'xanchor': 'left',\n",
        "                    'currentvalue': {'font': {'size': 16}, 'prefix': 'Bins: ', 'visible': True, 'xanchor': 'right'},\n",
        "                    'transition': {'duration': 0.0},\n",
        "                    'pad': {'b': 10, 't': 50},\n",
        "                    'len': 0.9,\n",
        "                    'x': 0.1,\n",
        "                    'y': 0,\n",
        "                    'steps': [{'args': [[k], {'frame': {'duration': 500.0, 'easing': 'linear', 'redraw': True},\n",
        "                                              'transition': {'duration': 0, 'easing': 'linear'}}\n",
        "                                        ],\n",
        "                               'label': k+1,\n",
        "                               'method': 'animate'} for k in range(Nbins)\n",
        "                    ]}]\n",
        "    ),\n",
        "    data = [\n",
        "        {'type': 'histogram', 'name': 'f2', 'x': x_, 'opacity': 0.8, \n",
        "         'xbins': {'start': x_min, 'end': x_max, 'size': (x_max - x_min)},\n",
        "         'histnorm': 'probability'},\n",
        "        {'type': 'scatter', 'name': 's2', 'x': x_, 'y': y_, 'mode': 'markers' }\n",
        "    ],\n",
        "    frames=[\n",
        "        {'name': str(k),\n",
        "         'data': [\n",
        "           {'type': 'histogram', 'name': 'f2', 'x': x_, \n",
        "            'xbins': {'start': x_min, 'end': x_max, 'size': (x_max - x_min)/(k+1)}, 'autobinx': False, \n",
        "            'histnorm': 'probability', 'opacity': 0.8},\n",
        "           {'type': 'scatter', 'name': 's2', 'x': x_, 'y': y_, 'mode': 'markers' }\n",
        "         ]} for k in range(Nbins) ]\n",
        ")\n",
        "#plot(fig, auto_open=False)\n",
        "f = go.Figure(fig)\n",
        "f.show()"
      ],
      "execution_count": 0,
      "outputs": [
        {
          "output_type": "display_data",
          "data": {
            "text/html": [
              "<html>\n",
              "<head><meta charset=\"utf-8\" /></head>\n",
              "<body>\n",
              "    <div>\n",
              "            <script src=\"https://cdnjs.cloudflare.com/ajax/libs/mathjax/2.7.5/MathJax.js?config=TeX-AMS-MML_SVG\"></script><script type=\"text/javascript\">if (window.MathJax) {MathJax.Hub.Config({SVG: {font: \"STIX-Web\"}});}</script>\n",
              "                <script type=\"text/javascript\">window.PlotlyConfig = {MathJaxConfig: 'local'};</script>\n",
              "        <script src=\"https://cdn.plot.ly/plotly-latest.min.js\"></script>    \n",
              "            <div id=\"333763be-a18b-46f0-a755-268f79407074\" class=\"plotly-graph-div\" style=\"height:600px; width:600px;\"></div>\n",
              "            <script type=\"text/javascript\">\n",
              "                \n",
              "                    window.PLOTLYENV=window.PLOTLYENV || {};\n",
              "                    \n",
              "                if (document.getElementById(\"333763be-a18b-46f0-a755-268f79407074\")) {\n",
              "                    Plotly.newPlot(\n",
              "                        '333763be-a18b-46f0-a755-268f79407074',\n",
              "                        [{\"histnorm\": \"probability\", \"name\": \"f2\", \"opacity\": 0.8, \"type\": \"histogram\", \"x\": [8.35, 8.3, 5.08, 8.450000000000001, 7.200000000000001, 7.75, 8.15, 8.950000000000001, 7.6, 8.35, 8.25, 6.800000000000001, 6.6000000000000005, 5.9, 8.450000000000001, 7.950000000000001, 8.28, 6.800000000000001, 5.550000000000001, 8.8, 8.850000000000001, 8.23, 8.55, 6.6000000000000005, 8.1, 8.5, 5.140000000000001, 8.600000000000001, 8.0], \"xbins\": {\"end\": 10.0, \"size\": 6.0, \"start\": 4.0}}, {\"mode\": \"markers\", \"name\": \"s2\", \"type\": \"scatter\", \"x\": [8.35, 8.3, 5.08, 8.450000000000001, 7.200000000000001, 7.75, 8.15, 8.950000000000001, 7.6, 8.35, 8.25, 6.800000000000001, 6.6000000000000005, 5.9, 8.450000000000001, 7.950000000000001, 8.28, 6.800000000000001, 5.550000000000001, 8.8, 8.850000000000001, 8.23, 8.55, 6.6000000000000005, 8.1, 8.5, 5.140000000000001, 8.600000000000001, 8.0], \"y\": [0.0, 0.0, 0.0, 0.0, 0.0, 0.0, 0.0, 0.0, 0.0, 0.0, 0.0, 0.0, 0.0, 0.0, 0.0, 0.0, 0.0, 0.0, 0.0, 0.0, 0.0, 0.0, 0.0, 0.0, 0.0, 0.0, 0.0, 0.0, 0.0]}],\n",
              "                        {\"autosize\": false, \"height\": 600, \"margin\": {\"b\": 50, \"l\": 50, \"r\": 50, \"t\": 50}, \"showlegend\": false, \"sliders\": [{\"currentvalue\": {\"font\": {\"size\": 16}, \"prefix\": \"Bins: \", \"visible\": true, \"xanchor\": \"right\"}, \"len\": 0.9, \"pad\": {\"b\": 10, \"t\": 50}, \"steps\": [{\"args\": [[0], {\"frame\": {\"duration\": 500.0, \"easing\": \"linear\", \"redraw\": true}, \"transition\": {\"duration\": 0, \"easing\": \"linear\"}}], \"label\": \"1\", \"method\": \"animate\"}, {\"args\": [[1], {\"frame\": {\"duration\": 500.0, \"easing\": \"linear\", \"redraw\": true}, \"transition\": {\"duration\": 0, \"easing\": \"linear\"}}], \"label\": \"2\", \"method\": \"animate\"}, {\"args\": [[2], {\"frame\": {\"duration\": 500.0, \"easing\": \"linear\", \"redraw\": true}, \"transition\": {\"duration\": 0, \"easing\": \"linear\"}}], \"label\": \"3\", \"method\": \"animate\"}, {\"args\": [[3], {\"frame\": {\"duration\": 500.0, \"easing\": \"linear\", \"redraw\": true}, \"transition\": {\"duration\": 0, \"easing\": \"linear\"}}], \"label\": \"4\", \"method\": \"animate\"}, {\"args\": [[4], {\"frame\": {\"duration\": 500.0, \"easing\": \"linear\", \"redraw\": true}, \"transition\": {\"duration\": 0, \"easing\": \"linear\"}}], \"label\": \"5\", \"method\": \"animate\"}, {\"args\": [[5], {\"frame\": {\"duration\": 500.0, \"easing\": \"linear\", \"redraw\": true}, \"transition\": {\"duration\": 0, \"easing\": \"linear\"}}], \"label\": \"6\", \"method\": \"animate\"}, {\"args\": [[6], {\"frame\": {\"duration\": 500.0, \"easing\": \"linear\", \"redraw\": true}, \"transition\": {\"duration\": 0, \"easing\": \"linear\"}}], \"label\": \"7\", \"method\": \"animate\"}, {\"args\": [[7], {\"frame\": {\"duration\": 500.0, \"easing\": \"linear\", \"redraw\": true}, \"transition\": {\"duration\": 0, \"easing\": \"linear\"}}], \"label\": \"8\", \"method\": \"animate\"}, {\"args\": [[8], {\"frame\": {\"duration\": 500.0, \"easing\": \"linear\", \"redraw\": true}, \"transition\": {\"duration\": 0, \"easing\": \"linear\"}}], \"label\": \"9\", \"method\": \"animate\"}, {\"args\": [[9], {\"frame\": {\"duration\": 500.0, \"easing\": \"linear\", \"redraw\": true}, \"transition\": {\"duration\": 0, \"easing\": \"linear\"}}], \"label\": \"10\", \"method\": \"animate\"}], \"transition\": {\"duration\": 0.0}, \"x\": 0.1, \"xanchor\": \"left\", \"y\": 0, \"yanchor\": \"top\"}], \"template\": {\"data\": {\"bar\": [{\"error_x\": {\"color\": \"#2a3f5f\"}, \"error_y\": {\"color\": \"#2a3f5f\"}, \"marker\": {\"line\": {\"color\": \"#E5ECF6\", \"width\": 0.5}}, \"type\": \"bar\"}], \"barpolar\": [{\"marker\": {\"line\": {\"color\": \"#E5ECF6\", \"width\": 0.5}}, \"type\": \"barpolar\"}], \"carpet\": [{\"aaxis\": {\"endlinecolor\": \"#2a3f5f\", \"gridcolor\": \"white\", \"linecolor\": \"white\", \"minorgridcolor\": \"white\", \"startlinecolor\": \"#2a3f5f\"}, \"baxis\": {\"endlinecolor\": \"#2a3f5f\", \"gridcolor\": \"white\", \"linecolor\": \"white\", \"minorgridcolor\": \"white\", \"startlinecolor\": \"#2a3f5f\"}, \"type\": \"carpet\"}], \"choropleth\": [{\"colorbar\": {\"outlinewidth\": 0, \"ticks\": \"\"}, \"type\": \"choropleth\"}], \"contour\": [{\"colorbar\": {\"outlinewidth\": 0, \"ticks\": \"\"}, \"colorscale\": [[0.0, \"#0d0887\"], [0.1111111111111111, \"#46039f\"], [0.2222222222222222, \"#7201a8\"], [0.3333333333333333, \"#9c179e\"], [0.4444444444444444, \"#bd3786\"], [0.5555555555555556, \"#d8576b\"], [0.6666666666666666, \"#ed7953\"], [0.7777777777777778, \"#fb9f3a\"], [0.8888888888888888, \"#fdca26\"], [1.0, \"#f0f921\"]], \"type\": \"contour\"}], \"contourcarpet\": [{\"colorbar\": {\"outlinewidth\": 0, \"ticks\": \"\"}, \"type\": \"contourcarpet\"}], \"heatmap\": [{\"colorbar\": {\"outlinewidth\": 0, \"ticks\": \"\"}, \"colorscale\": [[0.0, \"#0d0887\"], [0.1111111111111111, \"#46039f\"], [0.2222222222222222, \"#7201a8\"], [0.3333333333333333, \"#9c179e\"], [0.4444444444444444, \"#bd3786\"], [0.5555555555555556, \"#d8576b\"], [0.6666666666666666, \"#ed7953\"], [0.7777777777777778, \"#fb9f3a\"], [0.8888888888888888, \"#fdca26\"], [1.0, \"#f0f921\"]], \"type\": \"heatmap\"}], \"heatmapgl\": [{\"colorbar\": {\"outlinewidth\": 0, \"ticks\": \"\"}, \"colorscale\": [[0.0, \"#0d0887\"], [0.1111111111111111, \"#46039f\"], [0.2222222222222222, \"#7201a8\"], [0.3333333333333333, \"#9c179e\"], [0.4444444444444444, \"#bd3786\"], [0.5555555555555556, \"#d8576b\"], [0.6666666666666666, \"#ed7953\"], [0.7777777777777778, \"#fb9f3a\"], [0.8888888888888888, \"#fdca26\"], [1.0, \"#f0f921\"]], \"type\": \"heatmapgl\"}], \"histogram\": [{\"marker\": {\"colorbar\": {\"outlinewidth\": 0, \"ticks\": \"\"}}, \"type\": \"histogram\"}], \"histogram2d\": [{\"colorbar\": {\"outlinewidth\": 0, \"ticks\": \"\"}, \"colorscale\": [[0.0, \"#0d0887\"], [0.1111111111111111, \"#46039f\"], [0.2222222222222222, \"#7201a8\"], [0.3333333333333333, \"#9c179e\"], [0.4444444444444444, \"#bd3786\"], [0.5555555555555556, \"#d8576b\"], [0.6666666666666666, \"#ed7953\"], [0.7777777777777778, \"#fb9f3a\"], [0.8888888888888888, \"#fdca26\"], [1.0, \"#f0f921\"]], \"type\": \"histogram2d\"}], \"histogram2dcontour\": [{\"colorbar\": {\"outlinewidth\": 0, \"ticks\": \"\"}, \"colorscale\": [[0.0, \"#0d0887\"], [0.1111111111111111, \"#46039f\"], [0.2222222222222222, \"#7201a8\"], [0.3333333333333333, \"#9c179e\"], [0.4444444444444444, \"#bd3786\"], [0.5555555555555556, \"#d8576b\"], [0.6666666666666666, \"#ed7953\"], [0.7777777777777778, \"#fb9f3a\"], [0.8888888888888888, \"#fdca26\"], [1.0, \"#f0f921\"]], \"type\": \"histogram2dcontour\"}], \"mesh3d\": [{\"colorbar\": {\"outlinewidth\": 0, \"ticks\": \"\"}, \"type\": \"mesh3d\"}], \"parcoords\": [{\"line\": {\"colorbar\": {\"outlinewidth\": 0, \"ticks\": \"\"}}, \"type\": \"parcoords\"}], \"scatter\": [{\"marker\": {\"colorbar\": {\"outlinewidth\": 0, \"ticks\": \"\"}}, \"type\": \"scatter\"}], \"scatter3d\": [{\"line\": {\"colorbar\": {\"outlinewidth\": 0, \"ticks\": \"\"}}, \"marker\": {\"colorbar\": {\"outlinewidth\": 0, \"ticks\": \"\"}}, \"type\": \"scatter3d\"}], \"scattercarpet\": [{\"marker\": {\"colorbar\": {\"outlinewidth\": 0, \"ticks\": \"\"}}, \"type\": \"scattercarpet\"}], \"scattergeo\": [{\"marker\": {\"colorbar\": {\"outlinewidth\": 0, \"ticks\": \"\"}}, \"type\": \"scattergeo\"}], \"scattergl\": [{\"marker\": {\"colorbar\": {\"outlinewidth\": 0, \"ticks\": \"\"}}, \"type\": \"scattergl\"}], \"scattermapbox\": [{\"marker\": {\"colorbar\": {\"outlinewidth\": 0, \"ticks\": \"\"}}, \"type\": \"scattermapbox\"}], \"scatterpolar\": [{\"marker\": {\"colorbar\": {\"outlinewidth\": 0, \"ticks\": \"\"}}, \"type\": \"scatterpolar\"}], \"scatterpolargl\": [{\"marker\": {\"colorbar\": {\"outlinewidth\": 0, \"ticks\": \"\"}}, \"type\": \"scatterpolargl\"}], \"scatterternary\": [{\"marker\": {\"colorbar\": {\"outlinewidth\": 0, \"ticks\": \"\"}}, \"type\": \"scatterternary\"}], \"surface\": [{\"colorbar\": {\"outlinewidth\": 0, \"ticks\": \"\"}, \"colorscale\": [[0.0, \"#0d0887\"], [0.1111111111111111, \"#46039f\"], [0.2222222222222222, \"#7201a8\"], [0.3333333333333333, \"#9c179e\"], [0.4444444444444444, \"#bd3786\"], [0.5555555555555556, \"#d8576b\"], [0.6666666666666666, \"#ed7953\"], [0.7777777777777778, \"#fb9f3a\"], [0.8888888888888888, \"#fdca26\"], [1.0, \"#f0f921\"]], \"type\": \"surface\"}], \"table\": [{\"cells\": {\"fill\": {\"color\": \"#EBF0F8\"}, \"line\": {\"color\": \"white\"}}, \"header\": {\"fill\": {\"color\": \"#C8D4E3\"}, \"line\": {\"color\": \"white\"}}, \"type\": \"table\"}]}, \"layout\": {\"annotationdefaults\": {\"arrowcolor\": \"#2a3f5f\", \"arrowhead\": 0, \"arrowwidth\": 1}, \"colorscale\": {\"diverging\": [[0, \"#8e0152\"], [0.1, \"#c51b7d\"], [0.2, \"#de77ae\"], [0.3, \"#f1b6da\"], [0.4, \"#fde0ef\"], [0.5, \"#f7f7f7\"], [0.6, \"#e6f5d0\"], [0.7, \"#b8e186\"], [0.8, \"#7fbc41\"], [0.9, \"#4d9221\"], [1, \"#276419\"]], \"sequential\": [[0.0, \"#0d0887\"], [0.1111111111111111, \"#46039f\"], [0.2222222222222222, \"#7201a8\"], [0.3333333333333333, \"#9c179e\"], [0.4444444444444444, \"#bd3786\"], [0.5555555555555556, \"#d8576b\"], [0.6666666666666666, \"#ed7953\"], [0.7777777777777778, \"#fb9f3a\"], [0.8888888888888888, \"#fdca26\"], [1.0, \"#f0f921\"]], \"sequentialminus\": [[0.0, \"#0d0887\"], [0.1111111111111111, \"#46039f\"], [0.2222222222222222, \"#7201a8\"], [0.3333333333333333, \"#9c179e\"], [0.4444444444444444, \"#bd3786\"], [0.5555555555555556, \"#d8576b\"], [0.6666666666666666, \"#ed7953\"], [0.7777777777777778, \"#fb9f3a\"], [0.8888888888888888, \"#fdca26\"], [1.0, \"#f0f921\"]]}, \"colorway\": [\"#636efa\", \"#EF553B\", \"#00cc96\", \"#ab63fa\", \"#FFA15A\", \"#19d3f3\", \"#FF6692\", \"#B6E880\", \"#FF97FF\", \"#FECB52\"], \"font\": {\"color\": \"#2a3f5f\"}, \"geo\": {\"bgcolor\": \"white\", \"lakecolor\": \"white\", \"landcolor\": \"#E5ECF6\", \"showlakes\": true, \"showland\": true, \"subunitcolor\": \"white\"}, \"hoverlabel\": {\"align\": \"left\"}, \"hovermode\": \"closest\", \"mapbox\": {\"style\": \"light\"}, \"paper_bgcolor\": \"white\", \"plot_bgcolor\": \"#E5ECF6\", \"polar\": {\"angularaxis\": {\"gridcolor\": \"white\", \"linecolor\": \"white\", \"ticks\": \"\"}, \"bgcolor\": \"#E5ECF6\", \"radialaxis\": {\"gridcolor\": \"white\", \"linecolor\": \"white\", \"ticks\": \"\"}}, \"scene\": {\"xaxis\": {\"backgroundcolor\": \"#E5ECF6\", \"gridcolor\": \"white\", \"gridwidth\": 2, \"linecolor\": \"white\", \"showbackground\": true, \"ticks\": \"\", \"zerolinecolor\": \"white\"}, \"yaxis\": {\"backgroundcolor\": \"#E5ECF6\", \"gridcolor\": \"white\", \"gridwidth\": 2, \"linecolor\": \"white\", \"showbackground\": true, \"ticks\": \"\", \"zerolinecolor\": \"white\"}, \"zaxis\": {\"backgroundcolor\": \"#E5ECF6\", \"gridcolor\": \"white\", \"gridwidth\": 2, \"linecolor\": \"white\", \"showbackground\": true, \"ticks\": \"\", \"zerolinecolor\": \"white\"}}, \"shapedefaults\": {\"line\": {\"color\": \"#2a3f5f\"}}, \"ternary\": {\"aaxis\": {\"gridcolor\": \"white\", \"linecolor\": \"white\", \"ticks\": \"\"}, \"baxis\": {\"gridcolor\": \"white\", \"linecolor\": \"white\", \"ticks\": \"\"}, \"bgcolor\": \"#E5ECF6\", \"caxis\": {\"gridcolor\": \"white\", \"linecolor\": \"white\", \"ticks\": \"\"}}, \"title\": {\"x\": 0.05}, \"xaxis\": {\"automargin\": true, \"gridcolor\": \"white\", \"linecolor\": \"white\", \"ticks\": \"\", \"zerolinecolor\": \"white\", \"zerolinewidth\": 2}, \"yaxis\": {\"automargin\": true, \"gridcolor\": \"white\", \"linecolor\": \"white\", \"ticks\": \"\", \"zerolinecolor\": \"white\", \"zerolinewidth\": 2}}}, \"title\": {\"text\": \"Binning\"}, \"updatemenus\": [{\"buttons\": [{\"args\": [[0, 1, 2, 3, 4, 5, 6, 7, 8, 9], {\"frame\": {\"duration\": 500.0, \"redraw\": true}, \"fromcurrent\": false, \"transition\": {\"duration\": 0, \"easing\": \"linear\"}}], \"label\": \"Play\", \"method\": \"animate\"}, {\"args\": [[null], {\"frame\": {\"duration\": 0, \"redraw\": true}, \"mode\": \"immediate\", \"transition\": {\"duration\": 0}}], \"label\": \"Pause\", \"method\": \"animate\"}], \"direction\": \"left\", \"pad\": {\"r\": 10, \"t\": 85}, \"showactive\": true, \"type\": \"buttons\", \"x\": 0.1, \"xanchor\": \"right\", \"y\": 0, \"yanchor\": \"top\"}], \"width\": 600, \"xaxis\": {\"domain\": [0.0, 1.0], \"range\": [4.0, 10.0]}, \"yaxis\": {\"domain\": [0.0, 1.0], \"range\": [0.0, 1.0]}},\n",
              "                        {\"responsive\": true}\n",
              "                    ).then(function(){\n",
              "                            Plotly.addFrames('333763be-a18b-46f0-a755-268f79407074', [{\"data\": [{\"autobinx\": false, \"histnorm\": \"probability\", \"name\": \"f2\", \"opacity\": 0.8, \"x\": [8.35, 8.3, 5.08, 8.450000000000001, 7.200000000000001, 7.75, 8.15, 8.950000000000001, 7.6, 8.35, 8.25, 6.800000000000001, 6.6000000000000005, 5.9, 8.450000000000001, 7.950000000000001, 8.28, 6.800000000000001, 5.550000000000001, 8.8, 8.850000000000001, 8.23, 8.55, 6.6000000000000005, 8.1, 8.5, 5.140000000000001, 8.600000000000001, 8.0], \"xbins\": {\"end\": 10.0, \"size\": 6.0, \"start\": 4.0}, \"type\": \"histogram\"}, {\"mode\": \"markers\", \"name\": \"s2\", \"x\": [8.35, 8.3, 5.08, 8.450000000000001, 7.200000000000001, 7.75, 8.15, 8.950000000000001, 7.6, 8.35, 8.25, 6.800000000000001, 6.6000000000000005, 5.9, 8.450000000000001, 7.950000000000001, 8.28, 6.800000000000001, 5.550000000000001, 8.8, 8.850000000000001, 8.23, 8.55, 6.6000000000000005, 8.1, 8.5, 5.140000000000001, 8.600000000000001, 8.0], \"y\": [0.0, 0.0, 0.0, 0.0, 0.0, 0.0, 0.0, 0.0, 0.0, 0.0, 0.0, 0.0, 0.0, 0.0, 0.0, 0.0, 0.0, 0.0, 0.0, 0.0, 0.0, 0.0, 0.0, 0.0, 0.0, 0.0, 0.0, 0.0, 0.0], \"type\": \"scatter\"}], \"name\": \"0\"}, {\"data\": [{\"autobinx\": false, \"histnorm\": \"probability\", \"name\": \"f2\", \"opacity\": 0.8, \"x\": [8.35, 8.3, 5.08, 8.450000000000001, 7.200000000000001, 7.75, 8.15, 8.950000000000001, 7.6, 8.35, 8.25, 6.800000000000001, 6.6000000000000005, 5.9, 8.450000000000001, 7.950000000000001, 8.28, 6.800000000000001, 5.550000000000001, 8.8, 8.850000000000001, 8.23, 8.55, 6.6000000000000005, 8.1, 8.5, 5.140000000000001, 8.600000000000001, 8.0], \"xbins\": {\"end\": 10.0, \"size\": 3.0, \"start\": 4.0}, \"type\": \"histogram\"}, {\"mode\": \"markers\", \"name\": \"s2\", \"x\": [8.35, 8.3, 5.08, 8.450000000000001, 7.200000000000001, 7.75, 8.15, 8.950000000000001, 7.6, 8.35, 8.25, 6.800000000000001, 6.6000000000000005, 5.9, 8.450000000000001, 7.950000000000001, 8.28, 6.800000000000001, 5.550000000000001, 8.8, 8.850000000000001, 8.23, 8.55, 6.6000000000000005, 8.1, 8.5, 5.140000000000001, 8.600000000000001, 8.0], \"y\": [0.0, 0.0, 0.0, 0.0, 0.0, 0.0, 0.0, 0.0, 0.0, 0.0, 0.0, 0.0, 0.0, 0.0, 0.0, 0.0, 0.0, 0.0, 0.0, 0.0, 0.0, 0.0, 0.0, 0.0, 0.0, 0.0, 0.0, 0.0, 0.0], \"type\": \"scatter\"}], \"name\": \"1\"}, {\"data\": [{\"autobinx\": false, \"histnorm\": \"probability\", \"name\": \"f2\", \"opacity\": 0.8, \"x\": [8.35, 8.3, 5.08, 8.450000000000001, 7.200000000000001, 7.75, 8.15, 8.950000000000001, 7.6, 8.35, 8.25, 6.800000000000001, 6.6000000000000005, 5.9, 8.450000000000001, 7.950000000000001, 8.28, 6.800000000000001, 5.550000000000001, 8.8, 8.850000000000001, 8.23, 8.55, 6.6000000000000005, 8.1, 8.5, 5.140000000000001, 8.600000000000001, 8.0], \"xbins\": {\"end\": 10.0, \"size\": 2.0, \"start\": 4.0}, \"type\": \"histogram\"}, {\"mode\": \"markers\", \"name\": \"s2\", \"x\": [8.35, 8.3, 5.08, 8.450000000000001, 7.200000000000001, 7.75, 8.15, 8.950000000000001, 7.6, 8.35, 8.25, 6.800000000000001, 6.6000000000000005, 5.9, 8.450000000000001, 7.950000000000001, 8.28, 6.800000000000001, 5.550000000000001, 8.8, 8.850000000000001, 8.23, 8.55, 6.6000000000000005, 8.1, 8.5, 5.140000000000001, 8.600000000000001, 8.0], \"y\": [0.0, 0.0, 0.0, 0.0, 0.0, 0.0, 0.0, 0.0, 0.0, 0.0, 0.0, 0.0, 0.0, 0.0, 0.0, 0.0, 0.0, 0.0, 0.0, 0.0, 0.0, 0.0, 0.0, 0.0, 0.0, 0.0, 0.0, 0.0, 0.0], \"type\": \"scatter\"}], \"name\": \"2\"}, {\"data\": [{\"autobinx\": false, \"histnorm\": \"probability\", \"name\": \"f2\", \"opacity\": 0.8, \"x\": [8.35, 8.3, 5.08, 8.450000000000001, 7.200000000000001, 7.75, 8.15, 8.950000000000001, 7.6, 8.35, 8.25, 6.800000000000001, 6.6000000000000005, 5.9, 8.450000000000001, 7.950000000000001, 8.28, 6.800000000000001, 5.550000000000001, 8.8, 8.850000000000001, 8.23, 8.55, 6.6000000000000005, 8.1, 8.5, 5.140000000000001, 8.600000000000001, 8.0], \"xbins\": {\"end\": 10.0, \"size\": 1.5, \"start\": 4.0}, \"type\": \"histogram\"}, {\"mode\": \"markers\", \"name\": \"s2\", \"x\": [8.35, 8.3, 5.08, 8.450000000000001, 7.200000000000001, 7.75, 8.15, 8.950000000000001, 7.6, 8.35, 8.25, 6.800000000000001, 6.6000000000000005, 5.9, 8.450000000000001, 7.950000000000001, 8.28, 6.800000000000001, 5.550000000000001, 8.8, 8.850000000000001, 8.23, 8.55, 6.6000000000000005, 8.1, 8.5, 5.140000000000001, 8.600000000000001, 8.0], \"y\": [0.0, 0.0, 0.0, 0.0, 0.0, 0.0, 0.0, 0.0, 0.0, 0.0, 0.0, 0.0, 0.0, 0.0, 0.0, 0.0, 0.0, 0.0, 0.0, 0.0, 0.0, 0.0, 0.0, 0.0, 0.0, 0.0, 0.0, 0.0, 0.0], \"type\": \"scatter\"}], \"name\": \"3\"}, {\"data\": [{\"autobinx\": false, \"histnorm\": \"probability\", \"name\": \"f2\", \"opacity\": 0.8, \"x\": [8.35, 8.3, 5.08, 8.450000000000001, 7.200000000000001, 7.75, 8.15, 8.950000000000001, 7.6, 8.35, 8.25, 6.800000000000001, 6.6000000000000005, 5.9, 8.450000000000001, 7.950000000000001, 8.28, 6.800000000000001, 5.550000000000001, 8.8, 8.850000000000001, 8.23, 8.55, 6.6000000000000005, 8.1, 8.5, 5.140000000000001, 8.600000000000001, 8.0], \"xbins\": {\"end\": 10.0, \"size\": 1.2, \"start\": 4.0}, \"type\": \"histogram\"}, {\"mode\": \"markers\", \"name\": \"s2\", \"x\": [8.35, 8.3, 5.08, 8.450000000000001, 7.200000000000001, 7.75, 8.15, 8.950000000000001, 7.6, 8.35, 8.25, 6.800000000000001, 6.6000000000000005, 5.9, 8.450000000000001, 7.950000000000001, 8.28, 6.800000000000001, 5.550000000000001, 8.8, 8.850000000000001, 8.23, 8.55, 6.6000000000000005, 8.1, 8.5, 5.140000000000001, 8.600000000000001, 8.0], \"y\": [0.0, 0.0, 0.0, 0.0, 0.0, 0.0, 0.0, 0.0, 0.0, 0.0, 0.0, 0.0, 0.0, 0.0, 0.0, 0.0, 0.0, 0.0, 0.0, 0.0, 0.0, 0.0, 0.0, 0.0, 0.0, 0.0, 0.0, 0.0, 0.0], \"type\": \"scatter\"}], \"name\": \"4\"}, {\"data\": [{\"autobinx\": false, \"histnorm\": \"probability\", \"name\": \"f2\", \"opacity\": 0.8, \"x\": [8.35, 8.3, 5.08, 8.450000000000001, 7.200000000000001, 7.75, 8.15, 8.950000000000001, 7.6, 8.35, 8.25, 6.800000000000001, 6.6000000000000005, 5.9, 8.450000000000001, 7.950000000000001, 8.28, 6.800000000000001, 5.550000000000001, 8.8, 8.850000000000001, 8.23, 8.55, 6.6000000000000005, 8.1, 8.5, 5.140000000000001, 8.600000000000001, 8.0], \"xbins\": {\"end\": 10.0, \"size\": 1.0, \"start\": 4.0}, \"type\": \"histogram\"}, {\"mode\": \"markers\", \"name\": \"s2\", \"x\": [8.35, 8.3, 5.08, 8.450000000000001, 7.200000000000001, 7.75, 8.15, 8.950000000000001, 7.6, 8.35, 8.25, 6.800000000000001, 6.6000000000000005, 5.9, 8.450000000000001, 7.950000000000001, 8.28, 6.800000000000001, 5.550000000000001, 8.8, 8.850000000000001, 8.23, 8.55, 6.6000000000000005, 8.1, 8.5, 5.140000000000001, 8.600000000000001, 8.0], \"y\": [0.0, 0.0, 0.0, 0.0, 0.0, 0.0, 0.0, 0.0, 0.0, 0.0, 0.0, 0.0, 0.0, 0.0, 0.0, 0.0, 0.0, 0.0, 0.0, 0.0, 0.0, 0.0, 0.0, 0.0, 0.0, 0.0, 0.0, 0.0, 0.0], \"type\": \"scatter\"}], \"name\": \"5\"}, {\"data\": [{\"autobinx\": false, \"histnorm\": \"probability\", \"name\": \"f2\", \"opacity\": 0.8, \"x\": [8.35, 8.3, 5.08, 8.450000000000001, 7.200000000000001, 7.75, 8.15, 8.950000000000001, 7.6, 8.35, 8.25, 6.800000000000001, 6.6000000000000005, 5.9, 8.450000000000001, 7.950000000000001, 8.28, 6.800000000000001, 5.550000000000001, 8.8, 8.850000000000001, 8.23, 8.55, 6.6000000000000005, 8.1, 8.5, 5.140000000000001, 8.600000000000001, 8.0], \"xbins\": {\"end\": 10.0, \"size\": 0.8571428571428571, \"start\": 4.0}, \"type\": \"histogram\"}, {\"mode\": \"markers\", \"name\": \"s2\", \"x\": [8.35, 8.3, 5.08, 8.450000000000001, 7.200000000000001, 7.75, 8.15, 8.950000000000001, 7.6, 8.35, 8.25, 6.800000000000001, 6.6000000000000005, 5.9, 8.450000000000001, 7.950000000000001, 8.28, 6.800000000000001, 5.550000000000001, 8.8, 8.850000000000001, 8.23, 8.55, 6.6000000000000005, 8.1, 8.5, 5.140000000000001, 8.600000000000001, 8.0], \"y\": [0.0, 0.0, 0.0, 0.0, 0.0, 0.0, 0.0, 0.0, 0.0, 0.0, 0.0, 0.0, 0.0, 0.0, 0.0, 0.0, 0.0, 0.0, 0.0, 0.0, 0.0, 0.0, 0.0, 0.0, 0.0, 0.0, 0.0, 0.0, 0.0], \"type\": \"scatter\"}], \"name\": \"6\"}, {\"data\": [{\"autobinx\": false, \"histnorm\": \"probability\", \"name\": \"f2\", \"opacity\": 0.8, \"x\": [8.35, 8.3, 5.08, 8.450000000000001, 7.200000000000001, 7.75, 8.15, 8.950000000000001, 7.6, 8.35, 8.25, 6.800000000000001, 6.6000000000000005, 5.9, 8.450000000000001, 7.950000000000001, 8.28, 6.800000000000001, 5.550000000000001, 8.8, 8.850000000000001, 8.23, 8.55, 6.6000000000000005, 8.1, 8.5, 5.140000000000001, 8.600000000000001, 8.0], \"xbins\": {\"end\": 10.0, \"size\": 0.75, \"start\": 4.0}, \"type\": \"histogram\"}, {\"mode\": \"markers\", \"name\": \"s2\", \"x\": [8.35, 8.3, 5.08, 8.450000000000001, 7.200000000000001, 7.75, 8.15, 8.950000000000001, 7.6, 8.35, 8.25, 6.800000000000001, 6.6000000000000005, 5.9, 8.450000000000001, 7.950000000000001, 8.28, 6.800000000000001, 5.550000000000001, 8.8, 8.850000000000001, 8.23, 8.55, 6.6000000000000005, 8.1, 8.5, 5.140000000000001, 8.600000000000001, 8.0], \"y\": [0.0, 0.0, 0.0, 0.0, 0.0, 0.0, 0.0, 0.0, 0.0, 0.0, 0.0, 0.0, 0.0, 0.0, 0.0, 0.0, 0.0, 0.0, 0.0, 0.0, 0.0, 0.0, 0.0, 0.0, 0.0, 0.0, 0.0, 0.0, 0.0], \"type\": \"scatter\"}], \"name\": \"7\"}, {\"data\": [{\"autobinx\": false, \"histnorm\": \"probability\", \"name\": \"f2\", \"opacity\": 0.8, \"x\": [8.35, 8.3, 5.08, 8.450000000000001, 7.200000000000001, 7.75, 8.15, 8.950000000000001, 7.6, 8.35, 8.25, 6.800000000000001, 6.6000000000000005, 5.9, 8.450000000000001, 7.950000000000001, 8.28, 6.800000000000001, 5.550000000000001, 8.8, 8.850000000000001, 8.23, 8.55, 6.6000000000000005, 8.1, 8.5, 5.140000000000001, 8.600000000000001, 8.0], \"xbins\": {\"end\": 10.0, \"size\": 0.6666666666666666, \"start\": 4.0}, \"type\": \"histogram\"}, {\"mode\": \"markers\", \"name\": \"s2\", \"x\": [8.35, 8.3, 5.08, 8.450000000000001, 7.200000000000001, 7.75, 8.15, 8.950000000000001, 7.6, 8.35, 8.25, 6.800000000000001, 6.6000000000000005, 5.9, 8.450000000000001, 7.950000000000001, 8.28, 6.800000000000001, 5.550000000000001, 8.8, 8.850000000000001, 8.23, 8.55, 6.6000000000000005, 8.1, 8.5, 5.140000000000001, 8.600000000000001, 8.0], \"y\": [0.0, 0.0, 0.0, 0.0, 0.0, 0.0, 0.0, 0.0, 0.0, 0.0, 0.0, 0.0, 0.0, 0.0, 0.0, 0.0, 0.0, 0.0, 0.0, 0.0, 0.0, 0.0, 0.0, 0.0, 0.0, 0.0, 0.0, 0.0, 0.0], \"type\": \"scatter\"}], \"name\": \"8\"}, {\"data\": [{\"autobinx\": false, \"histnorm\": \"probability\", \"name\": \"f2\", \"opacity\": 0.8, \"x\": [8.35, 8.3, 5.08, 8.450000000000001, 7.200000000000001, 7.75, 8.15, 8.950000000000001, 7.6, 8.35, 8.25, 6.800000000000001, 6.6000000000000005, 5.9, 8.450000000000001, 7.950000000000001, 8.28, 6.800000000000001, 5.550000000000001, 8.8, 8.850000000000001, 8.23, 8.55, 6.6000000000000005, 8.1, 8.5, 5.140000000000001, 8.600000000000001, 8.0], \"xbins\": {\"end\": 10.0, \"size\": 0.6, \"start\": 4.0}, \"type\": \"histogram\"}, {\"mode\": \"markers\", \"name\": \"s2\", \"x\": [8.35, 8.3, 5.08, 8.450000000000001, 7.200000000000001, 7.75, 8.15, 8.950000000000001, 7.6, 8.35, 8.25, 6.800000000000001, 6.6000000000000005, 5.9, 8.450000000000001, 7.950000000000001, 8.28, 6.800000000000001, 5.550000000000001, 8.8, 8.850000000000001, 8.23, 8.55, 6.6000000000000005, 8.1, 8.5, 5.140000000000001, 8.600000000000001, 8.0], \"y\": [0.0, 0.0, 0.0, 0.0, 0.0, 0.0, 0.0, 0.0, 0.0, 0.0, 0.0, 0.0, 0.0, 0.0, 0.0, 0.0, 0.0, 0.0, 0.0, 0.0, 0.0, 0.0, 0.0, 0.0, 0.0, 0.0, 0.0, 0.0, 0.0], \"type\": \"scatter\"}], \"name\": \"9\"}]);\n",
              "                        }).then(function(){\n",
              "                            \n",
              "var gd = document.getElementById('333763be-a18b-46f0-a755-268f79407074');\n",
              "var x = new MutationObserver(function (mutations, observer) {{\n",
              "        var display = window.getComputedStyle(gd).display;\n",
              "        if (!display || display === 'none') {{\n",
              "            console.log([gd, 'removed!']);\n",
              "            Plotly.purge(gd);\n",
              "            observer.disconnect();\n",
              "        }}\n",
              "}});\n",
              "\n",
              "// Listen for the removal of the full notebook cells\n",
              "var notebookContainer = gd.closest('#notebook-container');\n",
              "if (notebookContainer) {{\n",
              "    x.observe(notebookContainer, {childList: true});\n",
              "}}\n",
              "\n",
              "// Listen for the clearing of the current output cell\n",
              "var outputEl = gd.closest('.output');\n",
              "if (outputEl) {{\n",
              "    x.observe(outputEl, {childList: true});\n",
              "}}\n",
              "\n",
              "                        })\n",
              "                };\n",
              "                \n",
              "            </script>\n",
              "        </div>\n",
              "</body>\n",
              "</html>"
            ]
          },
          "metadata": {
            "tags": []
          }
        }
      ]
    },
    {
      "cell_type": "code",
      "metadata": {
        "id": "a3nnRLWX9lvq",
        "colab_type": "code",
        "cellView": "form",
        "outputId": "9ecd08a9-da4b-4d57-a53a-0facb115ce6a",
        "colab": {
          "base_uri": "https://localhost:8080/",
          "height": 617
        }
      },
      "source": [
        "#@title Moving points\n",
        "\n",
        "\n",
        "from plotly.subplots import make_subplots\n",
        "import plotly.graph_objects as go\n",
        "import numpy as np\n",
        "from scipy.optimize import minimize\n",
        "\n",
        "\n",
        "Nbins = 10\n",
        "x_min, x_max = 4.0, 10.0\n",
        "y_min, y_max = 0.0, 1.0\n",
        "x_ = np.array([93.5,93,60.8,94.5,82,87.5,91.5,99.5,86,93.5,92.5,78,76,69,94.5,89.5,92.8,78,65.5,98,98.5,92.3,95.5,76,91,95,61.4,96,90]) * 0.1 - 1.0\n",
        "y_ = np.array([0.0] * x_.shape[0])\n",
        "\n",
        "fig = dict(\n",
        "    layout = dict(\n",
        "        width=600, height=600, autosize=False,\n",
        "        showlegend = False,\n",
        "        xaxis1 = {'domain': [0.0, 1.0], 'range': [x_min, x_max]},\n",
        "        yaxis1 = {'domain': [0.0, 1.0], 'range': [y_min, y_max]},\n",
        "        title  = 'Binning',\n",
        "        margin = {'t': 50, 'b': 50, 'l': 50, 'r': 50},\n",
        "        updatemenus = [{'buttons': [{'args': [[k for k in range(Nbins)],\n",
        "                                              {'frame': {'duration': 500.0, 'redraw': True},\n",
        "                                               'fromcurrent': False, 'transition': {'duration': 0, 'easing': 'linear'}}],\n",
        "                                     'label': 'Play',\n",
        "                                     'method': 'animate'},\n",
        "                                    {'args': [[None], {'frame': {'duration': 0, 'redraw': True},\n",
        "                                                       'mode': 'immediate',\n",
        "                                                       'transition': {'duration': 0}}\n",
        "                                              ],\n",
        "                                     'label': 'Pause',\n",
        "                                     'method': 'animate'\n",
        "                                     }\n",
        "                                    ],\n",
        "                        'direction': 'left',\n",
        "                        'pad': {'r': 10, 't': 85},\n",
        "                        'showactive': True,\n",
        "                        'type': 'buttons', 'x': 0.1, 'y': 0, 'xanchor': 'right', 'yanchor': 'top'}],\n",
        "        sliders = [{'yanchor': 'top',\n",
        "                    'xanchor': 'left',\n",
        "                    'currentvalue': {'font': {'size': 16}, 'prefix': 'Shift x 10: ', 'visible': True, 'xanchor': 'right'},\n",
        "                    'transition': {'duration': 0.0},\n",
        "                    'pad': {'b': 10, 't': 50},\n",
        "                    'len': 0.9,\n",
        "                    'x': 0.1,\n",
        "                    'y': 0,\n",
        "                    'steps': [{'args': [[k], {'frame': {'duration': 500.0, 'easing': 'linear', 'redraw': True},\n",
        "                                              'transition': {'duration': 0, 'easing': 'linear'}}\n",
        "                                        ],\n",
        "                               'label': k+1,\n",
        "                               'method': 'animate'} for k in range(Nbins)\n",
        "                    ]}]\n",
        "    ),\n",
        "    data = [\n",
        "        {'type': 'histogram', 'name': 'f2', 'x': x_, 'opacity': 0.8, \n",
        "         'xbins': {'start':x_min, 'end': x_max, 'size': 0.5}, 'autobinx': False,\n",
        "         'histnorm': 'probability'},\n",
        "        {'type': 'scatter', 'name': 's2', 'x': x_, 'y': y_, 'mode': 'markers' }\n",
        "    ],\n",
        "    frames=[\n",
        "        {'name': str(k),\n",
        "         'data': [\n",
        "           {'type': 'histogram', 'name': 'f2', 'x': x_ + k * 0.1, \n",
        "            'xbins': {'start':x_min, 'end': x_max, 'size': 0.5}, 'autobinx': False, \n",
        "            'histnorm': 'probability', 'opacity': 0.8},\n",
        "           {'type': 'scatter', 'name': 's2', 'x': x_ + k * 0.1, 'y': y_, 'mode': 'markers' }\n",
        "         ]} for k in range(Nbins) ]\n",
        ")\n",
        "#plot(fig, auto_open=False)\n",
        "f = go.Figure(fig)\n",
        "f.show()"
      ],
      "execution_count": 0,
      "outputs": [
        {
          "output_type": "display_data",
          "data": {
            "text/html": [
              "<html>\n",
              "<head><meta charset=\"utf-8\" /></head>\n",
              "<body>\n",
              "    <div>\n",
              "            <script src=\"https://cdnjs.cloudflare.com/ajax/libs/mathjax/2.7.5/MathJax.js?config=TeX-AMS-MML_SVG\"></script><script type=\"text/javascript\">if (window.MathJax) {MathJax.Hub.Config({SVG: {font: \"STIX-Web\"}});}</script>\n",
              "                <script type=\"text/javascript\">window.PlotlyConfig = {MathJaxConfig: 'local'};</script>\n",
              "        <script src=\"https://cdn.plot.ly/plotly-latest.min.js\"></script>    \n",
              "            <div id=\"b94edc82-c1d3-4470-99b0-cbd6ec46483f\" class=\"plotly-graph-div\" style=\"height:600px; width:600px;\"></div>\n",
              "            <script type=\"text/javascript\">\n",
              "                \n",
              "                    window.PLOTLYENV=window.PLOTLYENV || {};\n",
              "                    \n",
              "                if (document.getElementById(\"b94edc82-c1d3-4470-99b0-cbd6ec46483f\")) {\n",
              "                    Plotly.newPlot(\n",
              "                        'b94edc82-c1d3-4470-99b0-cbd6ec46483f',\n",
              "                        [{\"autobinx\": false, \"histnorm\": \"probability\", \"name\": \"f2\", \"opacity\": 0.8, \"type\": \"histogram\", \"x\": [8.35, 8.3, 5.08, 8.450000000000001, 7.200000000000001, 7.75, 8.15, 8.950000000000001, 7.6, 8.35, 8.25, 6.800000000000001, 6.6000000000000005, 5.9, 8.450000000000001, 7.950000000000001, 8.28, 6.800000000000001, 5.550000000000001, 8.8, 8.850000000000001, 8.23, 8.55, 6.6000000000000005, 8.1, 8.5, 5.140000000000001, 8.600000000000001, 8.0], \"xbins\": {\"end\": 10.0, \"size\": 0.5, \"start\": 4.0}}, {\"mode\": \"markers\", \"name\": \"s2\", \"type\": \"scatter\", \"x\": [8.35, 8.3, 5.08, 8.450000000000001, 7.200000000000001, 7.75, 8.15, 8.950000000000001, 7.6, 8.35, 8.25, 6.800000000000001, 6.6000000000000005, 5.9, 8.450000000000001, 7.950000000000001, 8.28, 6.800000000000001, 5.550000000000001, 8.8, 8.850000000000001, 8.23, 8.55, 6.6000000000000005, 8.1, 8.5, 5.140000000000001, 8.600000000000001, 8.0], \"y\": [0.0, 0.0, 0.0, 0.0, 0.0, 0.0, 0.0, 0.0, 0.0, 0.0, 0.0, 0.0, 0.0, 0.0, 0.0, 0.0, 0.0, 0.0, 0.0, 0.0, 0.0, 0.0, 0.0, 0.0, 0.0, 0.0, 0.0, 0.0, 0.0]}],\n",
              "                        {\"autosize\": false, \"height\": 600, \"margin\": {\"b\": 50, \"l\": 50, \"r\": 50, \"t\": 50}, \"showlegend\": false, \"sliders\": [{\"currentvalue\": {\"font\": {\"size\": 16}, \"prefix\": \"Shift x 10: \", \"visible\": true, \"xanchor\": \"right\"}, \"len\": 0.9, \"pad\": {\"b\": 10, \"t\": 50}, \"steps\": [{\"args\": [[0], {\"frame\": {\"duration\": 500.0, \"easing\": \"linear\", \"redraw\": true}, \"transition\": {\"duration\": 0, \"easing\": \"linear\"}}], \"label\": \"1\", \"method\": \"animate\"}, {\"args\": [[1], {\"frame\": {\"duration\": 500.0, \"easing\": \"linear\", \"redraw\": true}, \"transition\": {\"duration\": 0, \"easing\": \"linear\"}}], \"label\": \"2\", \"method\": \"animate\"}, {\"args\": [[2], {\"frame\": {\"duration\": 500.0, \"easing\": \"linear\", \"redraw\": true}, \"transition\": {\"duration\": 0, \"easing\": \"linear\"}}], \"label\": \"3\", \"method\": \"animate\"}, {\"args\": [[3], {\"frame\": {\"duration\": 500.0, \"easing\": \"linear\", \"redraw\": true}, \"transition\": {\"duration\": 0, \"easing\": \"linear\"}}], \"label\": \"4\", \"method\": \"animate\"}, {\"args\": [[4], {\"frame\": {\"duration\": 500.0, \"easing\": \"linear\", \"redraw\": true}, \"transition\": {\"duration\": 0, \"easing\": \"linear\"}}], \"label\": \"5\", \"method\": \"animate\"}, {\"args\": [[5], {\"frame\": {\"duration\": 500.0, \"easing\": \"linear\", \"redraw\": true}, \"transition\": {\"duration\": 0, \"easing\": \"linear\"}}], \"label\": \"6\", \"method\": \"animate\"}, {\"args\": [[6], {\"frame\": {\"duration\": 500.0, \"easing\": \"linear\", \"redraw\": true}, \"transition\": {\"duration\": 0, \"easing\": \"linear\"}}], \"label\": \"7\", \"method\": \"animate\"}, {\"args\": [[7], {\"frame\": {\"duration\": 500.0, \"easing\": \"linear\", \"redraw\": true}, \"transition\": {\"duration\": 0, \"easing\": \"linear\"}}], \"label\": \"8\", \"method\": \"animate\"}, {\"args\": [[8], {\"frame\": {\"duration\": 500.0, \"easing\": \"linear\", \"redraw\": true}, \"transition\": {\"duration\": 0, \"easing\": \"linear\"}}], \"label\": \"9\", \"method\": \"animate\"}, {\"args\": [[9], {\"frame\": {\"duration\": 500.0, \"easing\": \"linear\", \"redraw\": true}, \"transition\": {\"duration\": 0, \"easing\": \"linear\"}}], \"label\": \"10\", \"method\": \"animate\"}], \"transition\": {\"duration\": 0.0}, \"x\": 0.1, \"xanchor\": \"left\", \"y\": 0, \"yanchor\": \"top\"}], \"template\": {\"data\": {\"bar\": [{\"error_x\": {\"color\": \"#2a3f5f\"}, \"error_y\": {\"color\": \"#2a3f5f\"}, \"marker\": {\"line\": {\"color\": \"#E5ECF6\", \"width\": 0.5}}, \"type\": \"bar\"}], \"barpolar\": [{\"marker\": {\"line\": {\"color\": \"#E5ECF6\", \"width\": 0.5}}, \"type\": \"barpolar\"}], \"carpet\": [{\"aaxis\": {\"endlinecolor\": \"#2a3f5f\", \"gridcolor\": \"white\", \"linecolor\": \"white\", \"minorgridcolor\": \"white\", \"startlinecolor\": \"#2a3f5f\"}, \"baxis\": {\"endlinecolor\": \"#2a3f5f\", \"gridcolor\": \"white\", \"linecolor\": \"white\", \"minorgridcolor\": \"white\", \"startlinecolor\": \"#2a3f5f\"}, \"type\": \"carpet\"}], \"choropleth\": [{\"colorbar\": {\"outlinewidth\": 0, \"ticks\": \"\"}, \"type\": \"choropleth\"}], \"contour\": [{\"colorbar\": {\"outlinewidth\": 0, \"ticks\": \"\"}, \"colorscale\": [[0.0, \"#0d0887\"], [0.1111111111111111, \"#46039f\"], [0.2222222222222222, \"#7201a8\"], [0.3333333333333333, \"#9c179e\"], [0.4444444444444444, \"#bd3786\"], [0.5555555555555556, \"#d8576b\"], [0.6666666666666666, \"#ed7953\"], [0.7777777777777778, \"#fb9f3a\"], [0.8888888888888888, \"#fdca26\"], [1.0, \"#f0f921\"]], \"type\": \"contour\"}], \"contourcarpet\": [{\"colorbar\": {\"outlinewidth\": 0, \"ticks\": \"\"}, \"type\": \"contourcarpet\"}], \"heatmap\": [{\"colorbar\": {\"outlinewidth\": 0, \"ticks\": \"\"}, \"colorscale\": [[0.0, \"#0d0887\"], [0.1111111111111111, \"#46039f\"], [0.2222222222222222, \"#7201a8\"], [0.3333333333333333, \"#9c179e\"], [0.4444444444444444, \"#bd3786\"], [0.5555555555555556, \"#d8576b\"], [0.6666666666666666, \"#ed7953\"], [0.7777777777777778, \"#fb9f3a\"], [0.8888888888888888, \"#fdca26\"], [1.0, \"#f0f921\"]], \"type\": \"heatmap\"}], \"heatmapgl\": [{\"colorbar\": {\"outlinewidth\": 0, \"ticks\": \"\"}, \"colorscale\": [[0.0, \"#0d0887\"], [0.1111111111111111, \"#46039f\"], [0.2222222222222222, \"#7201a8\"], [0.3333333333333333, \"#9c179e\"], [0.4444444444444444, \"#bd3786\"], [0.5555555555555556, \"#d8576b\"], [0.6666666666666666, \"#ed7953\"], [0.7777777777777778, \"#fb9f3a\"], [0.8888888888888888, \"#fdca26\"], [1.0, \"#f0f921\"]], \"type\": \"heatmapgl\"}], \"histogram\": [{\"marker\": {\"colorbar\": {\"outlinewidth\": 0, \"ticks\": \"\"}}, \"type\": \"histogram\"}], \"histogram2d\": [{\"colorbar\": {\"outlinewidth\": 0, \"ticks\": \"\"}, \"colorscale\": [[0.0, \"#0d0887\"], [0.1111111111111111, \"#46039f\"], [0.2222222222222222, \"#7201a8\"], [0.3333333333333333, \"#9c179e\"], [0.4444444444444444, \"#bd3786\"], [0.5555555555555556, \"#d8576b\"], [0.6666666666666666, \"#ed7953\"], [0.7777777777777778, \"#fb9f3a\"], [0.8888888888888888, \"#fdca26\"], [1.0, \"#f0f921\"]], \"type\": \"histogram2d\"}], \"histogram2dcontour\": [{\"colorbar\": {\"outlinewidth\": 0, \"ticks\": \"\"}, \"colorscale\": [[0.0, \"#0d0887\"], [0.1111111111111111, \"#46039f\"], [0.2222222222222222, \"#7201a8\"], [0.3333333333333333, \"#9c179e\"], [0.4444444444444444, \"#bd3786\"], [0.5555555555555556, \"#d8576b\"], [0.6666666666666666, \"#ed7953\"], [0.7777777777777778, \"#fb9f3a\"], [0.8888888888888888, \"#fdca26\"], [1.0, \"#f0f921\"]], \"type\": \"histogram2dcontour\"}], \"mesh3d\": [{\"colorbar\": {\"outlinewidth\": 0, \"ticks\": \"\"}, \"type\": \"mesh3d\"}], \"parcoords\": [{\"line\": {\"colorbar\": {\"outlinewidth\": 0, \"ticks\": \"\"}}, \"type\": \"parcoords\"}], \"scatter\": [{\"marker\": {\"colorbar\": {\"outlinewidth\": 0, \"ticks\": \"\"}}, \"type\": \"scatter\"}], \"scatter3d\": [{\"line\": {\"colorbar\": {\"outlinewidth\": 0, \"ticks\": \"\"}}, \"marker\": {\"colorbar\": {\"outlinewidth\": 0, \"ticks\": \"\"}}, \"type\": \"scatter3d\"}], \"scattercarpet\": [{\"marker\": {\"colorbar\": {\"outlinewidth\": 0, \"ticks\": \"\"}}, \"type\": \"scattercarpet\"}], \"scattergeo\": [{\"marker\": {\"colorbar\": {\"outlinewidth\": 0, \"ticks\": \"\"}}, \"type\": \"scattergeo\"}], \"scattergl\": [{\"marker\": {\"colorbar\": {\"outlinewidth\": 0, \"ticks\": \"\"}}, \"type\": \"scattergl\"}], \"scattermapbox\": [{\"marker\": {\"colorbar\": {\"outlinewidth\": 0, \"ticks\": \"\"}}, \"type\": \"scattermapbox\"}], \"scatterpolar\": [{\"marker\": {\"colorbar\": {\"outlinewidth\": 0, \"ticks\": \"\"}}, \"type\": \"scatterpolar\"}], \"scatterpolargl\": [{\"marker\": {\"colorbar\": {\"outlinewidth\": 0, \"ticks\": \"\"}}, \"type\": \"scatterpolargl\"}], \"scatterternary\": [{\"marker\": {\"colorbar\": {\"outlinewidth\": 0, \"ticks\": \"\"}}, \"type\": \"scatterternary\"}], \"surface\": [{\"colorbar\": {\"outlinewidth\": 0, \"ticks\": \"\"}, \"colorscale\": [[0.0, \"#0d0887\"], [0.1111111111111111, \"#46039f\"], [0.2222222222222222, \"#7201a8\"], [0.3333333333333333, \"#9c179e\"], [0.4444444444444444, \"#bd3786\"], [0.5555555555555556, \"#d8576b\"], [0.6666666666666666, \"#ed7953\"], [0.7777777777777778, \"#fb9f3a\"], [0.8888888888888888, \"#fdca26\"], [1.0, \"#f0f921\"]], \"type\": \"surface\"}], \"table\": [{\"cells\": {\"fill\": {\"color\": \"#EBF0F8\"}, \"line\": {\"color\": \"white\"}}, \"header\": {\"fill\": {\"color\": \"#C8D4E3\"}, \"line\": {\"color\": \"white\"}}, \"type\": \"table\"}]}, \"layout\": {\"annotationdefaults\": {\"arrowcolor\": \"#2a3f5f\", \"arrowhead\": 0, \"arrowwidth\": 1}, \"colorscale\": {\"diverging\": [[0, \"#8e0152\"], [0.1, \"#c51b7d\"], [0.2, \"#de77ae\"], [0.3, \"#f1b6da\"], [0.4, \"#fde0ef\"], [0.5, \"#f7f7f7\"], [0.6, \"#e6f5d0\"], [0.7, \"#b8e186\"], [0.8, \"#7fbc41\"], [0.9, \"#4d9221\"], [1, \"#276419\"]], \"sequential\": [[0.0, \"#0d0887\"], [0.1111111111111111, \"#46039f\"], [0.2222222222222222, \"#7201a8\"], [0.3333333333333333, \"#9c179e\"], [0.4444444444444444, \"#bd3786\"], [0.5555555555555556, \"#d8576b\"], [0.6666666666666666, \"#ed7953\"], [0.7777777777777778, \"#fb9f3a\"], [0.8888888888888888, \"#fdca26\"], [1.0, \"#f0f921\"]], \"sequentialminus\": [[0.0, \"#0d0887\"], [0.1111111111111111, \"#46039f\"], [0.2222222222222222, \"#7201a8\"], [0.3333333333333333, \"#9c179e\"], [0.4444444444444444, \"#bd3786\"], [0.5555555555555556, \"#d8576b\"], [0.6666666666666666, \"#ed7953\"], [0.7777777777777778, \"#fb9f3a\"], [0.8888888888888888, \"#fdca26\"], [1.0, \"#f0f921\"]]}, \"colorway\": [\"#636efa\", \"#EF553B\", \"#00cc96\", \"#ab63fa\", \"#FFA15A\", \"#19d3f3\", \"#FF6692\", \"#B6E880\", \"#FF97FF\", \"#FECB52\"], \"font\": {\"color\": \"#2a3f5f\"}, \"geo\": {\"bgcolor\": \"white\", \"lakecolor\": \"white\", \"landcolor\": \"#E5ECF6\", \"showlakes\": true, \"showland\": true, \"subunitcolor\": \"white\"}, \"hoverlabel\": {\"align\": \"left\"}, \"hovermode\": \"closest\", \"mapbox\": {\"style\": \"light\"}, \"paper_bgcolor\": \"white\", \"plot_bgcolor\": \"#E5ECF6\", \"polar\": {\"angularaxis\": {\"gridcolor\": \"white\", \"linecolor\": \"white\", \"ticks\": \"\"}, \"bgcolor\": \"#E5ECF6\", \"radialaxis\": {\"gridcolor\": \"white\", \"linecolor\": \"white\", \"ticks\": \"\"}}, \"scene\": {\"xaxis\": {\"backgroundcolor\": \"#E5ECF6\", \"gridcolor\": \"white\", \"gridwidth\": 2, \"linecolor\": \"white\", \"showbackground\": true, \"ticks\": \"\", \"zerolinecolor\": \"white\"}, \"yaxis\": {\"backgroundcolor\": \"#E5ECF6\", \"gridcolor\": \"white\", \"gridwidth\": 2, \"linecolor\": \"white\", \"showbackground\": true, \"ticks\": \"\", \"zerolinecolor\": \"white\"}, \"zaxis\": {\"backgroundcolor\": \"#E5ECF6\", \"gridcolor\": \"white\", \"gridwidth\": 2, \"linecolor\": \"white\", \"showbackground\": true, \"ticks\": \"\", \"zerolinecolor\": \"white\"}}, \"shapedefaults\": {\"line\": {\"color\": \"#2a3f5f\"}}, \"ternary\": {\"aaxis\": {\"gridcolor\": \"white\", \"linecolor\": \"white\", \"ticks\": \"\"}, \"baxis\": {\"gridcolor\": \"white\", \"linecolor\": \"white\", \"ticks\": \"\"}, \"bgcolor\": \"#E5ECF6\", \"caxis\": {\"gridcolor\": \"white\", \"linecolor\": \"white\", \"ticks\": \"\"}}, \"title\": {\"x\": 0.05}, \"xaxis\": {\"automargin\": true, \"gridcolor\": \"white\", \"linecolor\": \"white\", \"ticks\": \"\", \"zerolinecolor\": \"white\", \"zerolinewidth\": 2}, \"yaxis\": {\"automargin\": true, \"gridcolor\": \"white\", \"linecolor\": \"white\", \"ticks\": \"\", \"zerolinecolor\": \"white\", \"zerolinewidth\": 2}}}, \"title\": {\"text\": \"Binning\"}, \"updatemenus\": [{\"buttons\": [{\"args\": [[0, 1, 2, 3, 4, 5, 6, 7, 8, 9], {\"frame\": {\"duration\": 500.0, \"redraw\": true}, \"fromcurrent\": false, \"transition\": {\"duration\": 0, \"easing\": \"linear\"}}], \"label\": \"Play\", \"method\": \"animate\"}, {\"args\": [[null], {\"frame\": {\"duration\": 0, \"redraw\": true}, \"mode\": \"immediate\", \"transition\": {\"duration\": 0}}], \"label\": \"Pause\", \"method\": \"animate\"}], \"direction\": \"left\", \"pad\": {\"r\": 10, \"t\": 85}, \"showactive\": true, \"type\": \"buttons\", \"x\": 0.1, \"xanchor\": \"right\", \"y\": 0, \"yanchor\": \"top\"}], \"width\": 600, \"xaxis\": {\"domain\": [0.0, 1.0], \"range\": [4.0, 10.0]}, \"yaxis\": {\"domain\": [0.0, 1.0], \"range\": [0.0, 1.0]}},\n",
              "                        {\"responsive\": true}\n",
              "                    ).then(function(){\n",
              "                            Plotly.addFrames('b94edc82-c1d3-4470-99b0-cbd6ec46483f', [{\"data\": [{\"autobinx\": false, \"histnorm\": \"probability\", \"name\": \"f2\", \"opacity\": 0.8, \"x\": [8.35, 8.3, 5.08, 8.450000000000001, 7.200000000000001, 7.75, 8.15, 8.950000000000001, 7.6, 8.35, 8.25, 6.800000000000001, 6.6000000000000005, 5.9, 8.450000000000001, 7.950000000000001, 8.28, 6.800000000000001, 5.550000000000001, 8.8, 8.850000000000001, 8.23, 8.55, 6.6000000000000005, 8.1, 8.5, 5.140000000000001, 8.600000000000001, 8.0], \"xbins\": {\"end\": 10.0, \"size\": 0.5, \"start\": 4.0}, \"type\": \"histogram\"}, {\"mode\": \"markers\", \"name\": \"s2\", \"x\": [8.35, 8.3, 5.08, 8.450000000000001, 7.200000000000001, 7.75, 8.15, 8.950000000000001, 7.6, 8.35, 8.25, 6.800000000000001, 6.6000000000000005, 5.9, 8.450000000000001, 7.950000000000001, 8.28, 6.800000000000001, 5.550000000000001, 8.8, 8.850000000000001, 8.23, 8.55, 6.6000000000000005, 8.1, 8.5, 5.140000000000001, 8.600000000000001, 8.0], \"y\": [0.0, 0.0, 0.0, 0.0, 0.0, 0.0, 0.0, 0.0, 0.0, 0.0, 0.0, 0.0, 0.0, 0.0, 0.0, 0.0, 0.0, 0.0, 0.0, 0.0, 0.0, 0.0, 0.0, 0.0, 0.0, 0.0, 0.0, 0.0, 0.0], \"type\": \"scatter\"}], \"name\": \"0\"}, {\"data\": [{\"autobinx\": false, \"histnorm\": \"probability\", \"name\": \"f2\", \"opacity\": 0.8, \"x\": [8.45, 8.4, 5.18, 8.55, 7.300000000000001, 7.85, 8.25, 9.05, 7.699999999999999, 8.45, 8.35, 6.9, 6.7, 6.0, 8.55, 8.05, 8.379999999999999, 6.9, 5.65, 8.9, 8.950000000000001, 8.33, 8.65, 6.7, 8.2, 8.6, 5.24, 8.700000000000001, 8.1], \"xbins\": {\"end\": 10.0, \"size\": 0.5, \"start\": 4.0}, \"type\": \"histogram\"}, {\"mode\": \"markers\", \"name\": \"s2\", \"x\": [8.45, 8.4, 5.18, 8.55, 7.300000000000001, 7.85, 8.25, 9.05, 7.699999999999999, 8.45, 8.35, 6.9, 6.7, 6.0, 8.55, 8.05, 8.379999999999999, 6.9, 5.65, 8.9, 8.950000000000001, 8.33, 8.65, 6.7, 8.2, 8.6, 5.24, 8.700000000000001, 8.1], \"y\": [0.0, 0.0, 0.0, 0.0, 0.0, 0.0, 0.0, 0.0, 0.0, 0.0, 0.0, 0.0, 0.0, 0.0, 0.0, 0.0, 0.0, 0.0, 0.0, 0.0, 0.0, 0.0, 0.0, 0.0, 0.0, 0.0, 0.0, 0.0, 0.0], \"type\": \"scatter\"}], \"name\": \"1\"}, {\"data\": [{\"autobinx\": false, \"histnorm\": \"probability\", \"name\": \"f2\", \"opacity\": 0.8, \"x\": [8.549999999999999, 8.5, 5.28, 8.65, 7.400000000000001, 7.95, 8.35, 9.15, 7.8, 8.549999999999999, 8.45, 7.000000000000001, 6.800000000000001, 6.1000000000000005, 8.65, 8.15, 8.479999999999999, 7.000000000000001, 5.750000000000001, 9.0, 9.05, 8.43, 8.75, 6.800000000000001, 8.299999999999999, 8.7, 5.340000000000001, 8.8, 8.2], \"xbins\": {\"end\": 10.0, \"size\": 0.5, \"start\": 4.0}, \"type\": \"histogram\"}, {\"mode\": \"markers\", \"name\": \"s2\", \"x\": [8.549999999999999, 8.5, 5.28, 8.65, 7.400000000000001, 7.95, 8.35, 9.15, 7.8, 8.549999999999999, 8.45, 7.000000000000001, 6.800000000000001, 6.1000000000000005, 8.65, 8.15, 8.479999999999999, 7.000000000000001, 5.750000000000001, 9.0, 9.05, 8.43, 8.75, 6.800000000000001, 8.299999999999999, 8.7, 5.340000000000001, 8.8, 8.2], \"y\": [0.0, 0.0, 0.0, 0.0, 0.0, 0.0, 0.0, 0.0, 0.0, 0.0, 0.0, 0.0, 0.0, 0.0, 0.0, 0.0, 0.0, 0.0, 0.0, 0.0, 0.0, 0.0, 0.0, 0.0, 0.0, 0.0, 0.0, 0.0, 0.0], \"type\": \"scatter\"}], \"name\": \"2\"}, {\"data\": [{\"autobinx\": false, \"histnorm\": \"probability\", \"name\": \"f2\", \"opacity\": 0.8, \"x\": [8.65, 8.600000000000001, 5.38, 8.750000000000002, 7.500000000000001, 8.05, 8.450000000000001, 9.250000000000002, 7.8999999999999995, 8.65, 8.55, 7.1000000000000005, 6.9, 6.2, 8.750000000000002, 8.250000000000002, 8.58, 7.1000000000000005, 5.8500000000000005, 9.100000000000001, 9.150000000000002, 8.530000000000001, 8.850000000000001, 6.9, 8.4, 8.8, 5.44, 8.900000000000002, 8.3], \"xbins\": {\"end\": 10.0, \"size\": 0.5, \"start\": 4.0}, \"type\": \"histogram\"}, {\"mode\": \"markers\", \"name\": \"s2\", \"x\": [8.65, 8.600000000000001, 5.38, 8.750000000000002, 7.500000000000001, 8.05, 8.450000000000001, 9.250000000000002, 7.8999999999999995, 8.65, 8.55, 7.1000000000000005, 6.9, 6.2, 8.750000000000002, 8.250000000000002, 8.58, 7.1000000000000005, 5.8500000000000005, 9.100000000000001, 9.150000000000002, 8.530000000000001, 8.850000000000001, 6.9, 8.4, 8.8, 5.44, 8.900000000000002, 8.3], \"y\": [0.0, 0.0, 0.0, 0.0, 0.0, 0.0, 0.0, 0.0, 0.0, 0.0, 0.0, 0.0, 0.0, 0.0, 0.0, 0.0, 0.0, 0.0, 0.0, 0.0, 0.0, 0.0, 0.0, 0.0, 0.0, 0.0, 0.0, 0.0, 0.0], \"type\": \"scatter\"}], \"name\": \"3\"}, {\"data\": [{\"autobinx\": false, \"histnorm\": \"probability\", \"name\": \"f2\", \"opacity\": 0.8, \"x\": [8.75, 8.700000000000001, 5.48, 8.850000000000001, 7.600000000000001, 8.15, 8.55, 9.350000000000001, 8.0, 8.75, 8.65, 7.200000000000001, 7.000000000000001, 6.300000000000001, 8.850000000000001, 8.350000000000001, 8.68, 7.200000000000001, 5.950000000000001, 9.200000000000001, 9.250000000000002, 8.63, 8.950000000000001, 7.000000000000001, 8.5, 8.9, 5.540000000000001, 9.000000000000002, 8.4], \"xbins\": {\"end\": 10.0, \"size\": 0.5, \"start\": 4.0}, \"type\": \"histogram\"}, {\"mode\": \"markers\", \"name\": \"s2\", \"x\": [8.75, 8.700000000000001, 5.48, 8.850000000000001, 7.600000000000001, 8.15, 8.55, 9.350000000000001, 8.0, 8.75, 8.65, 7.200000000000001, 7.000000000000001, 6.300000000000001, 8.850000000000001, 8.350000000000001, 8.68, 7.200000000000001, 5.950000000000001, 9.200000000000001, 9.250000000000002, 8.63, 8.950000000000001, 7.000000000000001, 8.5, 8.9, 5.540000000000001, 9.000000000000002, 8.4], \"y\": [0.0, 0.0, 0.0, 0.0, 0.0, 0.0, 0.0, 0.0, 0.0, 0.0, 0.0, 0.0, 0.0, 0.0, 0.0, 0.0, 0.0, 0.0, 0.0, 0.0, 0.0, 0.0, 0.0, 0.0, 0.0, 0.0, 0.0, 0.0, 0.0], \"type\": \"scatter\"}], \"name\": \"4\"}, {\"data\": [{\"autobinx\": false, \"histnorm\": \"probability\", \"name\": \"f2\", \"opacity\": 0.8, \"x\": [8.85, 8.8, 5.58, 8.950000000000001, 7.700000000000001, 8.25, 8.65, 9.450000000000001, 8.1, 8.85, 8.75, 7.300000000000001, 7.1000000000000005, 6.4, 8.950000000000001, 8.450000000000001, 8.78, 7.300000000000001, 6.050000000000001, 9.3, 9.350000000000001, 8.73, 9.05, 7.1000000000000005, 8.6, 9.0, 5.640000000000001, 9.100000000000001, 8.5], \"xbins\": {\"end\": 10.0, \"size\": 0.5, \"start\": 4.0}, \"type\": \"histogram\"}, {\"mode\": \"markers\", \"name\": \"s2\", \"x\": [8.85, 8.8, 5.58, 8.950000000000001, 7.700000000000001, 8.25, 8.65, 9.450000000000001, 8.1, 8.85, 8.75, 7.300000000000001, 7.1000000000000005, 6.4, 8.950000000000001, 8.450000000000001, 8.78, 7.300000000000001, 6.050000000000001, 9.3, 9.350000000000001, 8.73, 9.05, 7.1000000000000005, 8.6, 9.0, 5.640000000000001, 9.100000000000001, 8.5], \"y\": [0.0, 0.0, 0.0, 0.0, 0.0, 0.0, 0.0, 0.0, 0.0, 0.0, 0.0, 0.0, 0.0, 0.0, 0.0, 0.0, 0.0, 0.0, 0.0, 0.0, 0.0, 0.0, 0.0, 0.0, 0.0, 0.0, 0.0, 0.0, 0.0], \"type\": \"scatter\"}], \"name\": \"5\"}, {\"data\": [{\"autobinx\": false, \"histnorm\": \"probability\", \"name\": \"f2\", \"opacity\": 0.8, \"x\": [8.95, 8.9, 5.68, 9.05, 7.800000000000001, 8.35, 8.75, 9.55, 8.2, 8.95, 8.85, 7.4, 7.200000000000001, 6.5, 9.05, 8.55, 8.879999999999999, 7.4, 6.15, 9.4, 9.450000000000001, 8.83, 9.15, 7.200000000000001, 8.7, 9.1, 5.74, 9.200000000000001, 8.6], \"xbins\": {\"end\": 10.0, \"size\": 0.5, \"start\": 4.0}, \"type\": \"histogram\"}, {\"mode\": \"markers\", \"name\": \"s2\", \"x\": [8.95, 8.9, 5.68, 9.05, 7.800000000000001, 8.35, 8.75, 9.55, 8.2, 8.95, 8.85, 7.4, 7.200000000000001, 6.5, 9.05, 8.55, 8.879999999999999, 7.4, 6.15, 9.4, 9.450000000000001, 8.83, 9.15, 7.200000000000001, 8.7, 9.1, 5.74, 9.200000000000001, 8.6], \"y\": [0.0, 0.0, 0.0, 0.0, 0.0, 0.0, 0.0, 0.0, 0.0, 0.0, 0.0, 0.0, 0.0, 0.0, 0.0, 0.0, 0.0, 0.0, 0.0, 0.0, 0.0, 0.0, 0.0, 0.0, 0.0, 0.0, 0.0, 0.0, 0.0], \"type\": \"scatter\"}], \"name\": \"6\"}, {\"data\": [{\"autobinx\": false, \"histnorm\": \"probability\", \"name\": \"f2\", \"opacity\": 0.8, \"x\": [9.049999999999999, 9.0, 5.78, 9.15, 7.900000000000001, 8.45, 8.85, 9.65, 8.299999999999999, 9.049999999999999, 8.95, 7.500000000000001, 7.300000000000001, 6.6000000000000005, 9.15, 8.65, 8.979999999999999, 7.500000000000001, 6.250000000000001, 9.5, 9.55, 8.93, 9.25, 7.300000000000001, 8.799999999999999, 9.2, 5.840000000000001, 9.3, 8.7], \"xbins\": {\"end\": 10.0, \"size\": 0.5, \"start\": 4.0}, \"type\": \"histogram\"}, {\"mode\": \"markers\", \"name\": \"s2\", \"x\": [9.049999999999999, 9.0, 5.78, 9.15, 7.900000000000001, 8.45, 8.85, 9.65, 8.299999999999999, 9.049999999999999, 8.95, 7.500000000000001, 7.300000000000001, 6.6000000000000005, 9.15, 8.65, 8.979999999999999, 7.500000000000001, 6.250000000000001, 9.5, 9.55, 8.93, 9.25, 7.300000000000001, 8.799999999999999, 9.2, 5.840000000000001, 9.3, 8.7], \"y\": [0.0, 0.0, 0.0, 0.0, 0.0, 0.0, 0.0, 0.0, 0.0, 0.0, 0.0, 0.0, 0.0, 0.0, 0.0, 0.0, 0.0, 0.0, 0.0, 0.0, 0.0, 0.0, 0.0, 0.0, 0.0, 0.0, 0.0, 0.0, 0.0], \"type\": \"scatter\"}], \"name\": \"7\"}, {\"data\": [{\"autobinx\": false, \"histnorm\": \"probability\", \"name\": \"f2\", \"opacity\": 0.8, \"x\": [9.15, 9.100000000000001, 5.88, 9.250000000000002, 8.000000000000002, 8.55, 8.950000000000001, 9.750000000000002, 8.4, 9.15, 9.05, 7.6000000000000005, 7.4, 6.7, 9.250000000000002, 8.750000000000002, 9.08, 7.6000000000000005, 6.3500000000000005, 9.600000000000001, 9.650000000000002, 9.030000000000001, 9.350000000000001, 7.4, 8.9, 9.3, 5.94, 9.400000000000002, 8.8], \"xbins\": {\"end\": 10.0, \"size\": 0.5, \"start\": 4.0}, \"type\": \"histogram\"}, {\"mode\": \"markers\", \"name\": \"s2\", \"x\": [9.15, 9.100000000000001, 5.88, 9.250000000000002, 8.000000000000002, 8.55, 8.950000000000001, 9.750000000000002, 8.4, 9.15, 9.05, 7.6000000000000005, 7.4, 6.7, 9.250000000000002, 8.750000000000002, 9.08, 7.6000000000000005, 6.3500000000000005, 9.600000000000001, 9.650000000000002, 9.030000000000001, 9.350000000000001, 7.4, 8.9, 9.3, 5.94, 9.400000000000002, 8.8], \"y\": [0.0, 0.0, 0.0, 0.0, 0.0, 0.0, 0.0, 0.0, 0.0, 0.0, 0.0, 0.0, 0.0, 0.0, 0.0, 0.0, 0.0, 0.0, 0.0, 0.0, 0.0, 0.0, 0.0, 0.0, 0.0, 0.0, 0.0, 0.0, 0.0], \"type\": \"scatter\"}], \"name\": \"8\"}, {\"data\": [{\"autobinx\": false, \"histnorm\": \"probability\", \"name\": \"f2\", \"opacity\": 0.8, \"x\": [9.25, 9.200000000000001, 5.98, 9.350000000000001, 8.100000000000001, 8.65, 9.05, 9.850000000000001, 8.5, 9.25, 9.15, 7.700000000000001, 7.500000000000001, 6.800000000000001, 9.350000000000001, 8.850000000000001, 9.18, 7.700000000000001, 6.450000000000001, 9.700000000000001, 9.750000000000002, 9.13, 9.450000000000001, 7.500000000000001, 9.0, 9.4, 6.040000000000001, 9.500000000000002, 8.9], \"xbins\": {\"end\": 10.0, \"size\": 0.5, \"start\": 4.0}, \"type\": \"histogram\"}, {\"mode\": \"markers\", \"name\": \"s2\", \"x\": [9.25, 9.200000000000001, 5.98, 9.350000000000001, 8.100000000000001, 8.65, 9.05, 9.850000000000001, 8.5, 9.25, 9.15, 7.700000000000001, 7.500000000000001, 6.800000000000001, 9.350000000000001, 8.850000000000001, 9.18, 7.700000000000001, 6.450000000000001, 9.700000000000001, 9.750000000000002, 9.13, 9.450000000000001, 7.500000000000001, 9.0, 9.4, 6.040000000000001, 9.500000000000002, 8.9], \"y\": [0.0, 0.0, 0.0, 0.0, 0.0, 0.0, 0.0, 0.0, 0.0, 0.0, 0.0, 0.0, 0.0, 0.0, 0.0, 0.0, 0.0, 0.0, 0.0, 0.0, 0.0, 0.0, 0.0, 0.0, 0.0, 0.0, 0.0, 0.0, 0.0], \"type\": \"scatter\"}], \"name\": \"9\"}]);\n",
              "                        }).then(function(){\n",
              "                            \n",
              "var gd = document.getElementById('b94edc82-c1d3-4470-99b0-cbd6ec46483f');\n",
              "var x = new MutationObserver(function (mutations, observer) {{\n",
              "        var display = window.getComputedStyle(gd).display;\n",
              "        if (!display || display === 'none') {{\n",
              "            console.log([gd, 'removed!']);\n",
              "            Plotly.purge(gd);\n",
              "            observer.disconnect();\n",
              "        }}\n",
              "}});\n",
              "\n",
              "// Listen for the removal of the full notebook cells\n",
              "var notebookContainer = gd.closest('#notebook-container');\n",
              "if (notebookContainer) {{\n",
              "    x.observe(notebookContainer, {childList: true});\n",
              "}}\n",
              "\n",
              "// Listen for the clearing of the current output cell\n",
              "var outputEl = gd.closest('.output');\n",
              "if (outputEl) {{\n",
              "    x.observe(outputEl, {childList: true});\n",
              "}}\n",
              "\n",
              "                        })\n",
              "                };\n",
              "                \n",
              "            </script>\n",
              "        </div>\n",
              "</body>\n",
              "</html>"
            ]
          },
          "metadata": {
            "tags": []
          }
        }
      ]
    },
    {
      "cell_type": "code",
      "metadata": {
        "id": "nlOSSBRl155E",
        "colab_type": "code",
        "outputId": "a2ffb0d3-9471-4d68-ca35-41e4c912160a",
        "colab": {
          "base_uri": "https://localhost:8080/",
          "height": 274
        }
      },
      "source": [
        "fig, ax = plt.subplots()\n",
        "bins = np.arange(-3, 8)\n",
        "ax.plot(x, np.full_like(x, -0.1), '|k', markeredgewidth=1)\n",
        "for count, edge in zip(*np.histogram(x, bins)):\n",
        "  for i in range(count):\n",
        "    ax.add_patch(plt.Rectangle((edge, i), 1, 1, alpha=0.5))\n",
        "    ax.set_xlim(-4, 8)\n",
        "    ax.set_ylim(-0.2, 8)"
      ],
      "execution_count": 0,
      "outputs": [
        {
          "output_type": "display_data",
          "data": {
            "image/png": "[encoded data removed]",
            "text/plain": [
              "<Figure size 432x288 with 1 Axes>"
            ]
          },
          "metadata": {
            "tags": []
          }
        }
      ]
    },
    {
      "cell_type": "markdown",
      "metadata": {
        "id": "yn5kCMDVpuIa",
        "colab_type": "text"
      },
      "source": [
        "But what if we placed each block so its center is just below the point it represents."
      ]
    },
    {
      "cell_type": "code",
      "metadata": {
        "id": "PmaIt2FW2XD9",
        "colab_type": "code",
        "outputId": "29fca3e3-6bf5-400f-9cf8-db443c4db1a6",
        "colab": {
          "base_uri": "https://localhost:8080/",
          "height": 274
        }
      },
      "source": [
        "x_d = np.linspace(-4, 8, 2000)\n",
        "density = sum((abs(xi - x_d) < 0.5) for xi in x)\n",
        "plt.fill_between(x_d, density, alpha=0.5)\n",
        "plt.plot(x, np.full_like(x, -0.1), '|k', markeredgewidth=1)\n",
        "plt.axis([-4, 8, -0.2, 8]);"
      ],
      "execution_count": 0,
      "outputs": [
        {
          "output_type": "display_data",
          "data": {
            "image/png": "[encoded data removed]",
            "text/plain": [
              "<Figure size 432x288 with 1 Axes>"
            ]
          },
          "metadata": {
            "tags": []
          }
        }
      ]
    },
    {
      "cell_type": "markdown",
      "metadata": {
        "id": "C7LI-9YHtiZZ",
        "colab_type": "text"
      },
      "source": [
        "Analytically this can be seen as if we have placed a \"square\" function (kernel) centered at each point and then we have summed all the functions up.\n",
        "\n",
        "<br>\n",
        "<img src=\"https://raw.githubusercontent.com/fbeilstein/machine_learning/master/lecture_15_kernel_density_estimation/tophat_mixture.png\" width=\"450px\" />\n",
        "\n",
        "<br>\n",
        "\n",
        "This type of kernel is called top hat as it recalls a flat-crowned hat (aka cylinder - another term that is both a hat and a math object). The length of the kernel function has not have to be equal to the height.\n",
        "\n",
        "<br>\n",
        "\n",
        "<img src=\"https://raw.githubusercontent.com/fbeilstein/machine_learning/master/lecture_15_kernel_density_estimation/tophat_kernel.png\" width=\"450px\" />\n",
        "\n",
        "<br>\n",
        "\n",
        "\n",
        "Now to make things not so \"right angled\" we can sum up smooth functions (for example Gaussians) instead of rectangular shapes (top hats)."
      ]
    },
    {
      "cell_type": "code",
      "metadata": {
        "id": "0NuMPFTb2k4v",
        "colab_type": "code",
        "outputId": "dfbb187a-ee23-46d8-a381-e456b9b2d09e",
        "colab": {
          "base_uri": "https://localhost:8080/",
          "height": 274
        }
      },
      "source": [
        "from scipy.stats import norm\n",
        "\n",
        "x_d = np.linspace(-4, 8, 1000)\n",
        "density = sum(norm(xi).pdf(x_d) for xi in x)\n",
        "plt.fill_between(x_d, density, alpha=0.5)\n",
        "plt.plot(x, np.full_like(x, -0.1), '|k', markeredgewidth=1)\n",
        "plt.axis([-4, 8, -0.2, 5]);\n",
        "\n",
        "# a Gaussian kernel"
      ],
      "execution_count": 0,
      "outputs": [
        {
          "output_type": "display_data",
          "data": {
            "image/png": "[encoded data removed]",
            "text/plain": [
              "<Figure size 432x288 with 1 Axes>"
            ]
          },
          "metadata": {
            "tags": []
          }
        }
      ]
    },
    {
      "cell_type": "markdown",
      "metadata": {
        "id": "UKtTyenQ21oM",
        "colab_type": "text"
      },
      "source": [
        "#Kernel Density Estimation "
      ]
    },
    {
      "cell_type": "markdown",
      "metadata": {
        "id": "spIbstS6H-qt",
        "colab_type": "text"
      },
      "source": [
        "In order to do KDE we need to make our mind about two things:\n",
        "  * kernel, which specifies the shape of the distribution placed at each point;\n",
        "  * kernel bandwidth, which controls the size of the kernel at each point.\n"
      ]
    },
    {
      "cell_type": "markdown",
      "metadata": {
        "id": "mmMie2p4_Nr0",
        "colab_type": "text"
      },
      "source": [
        "##Choosing kernel"
      ]
    },
    {
      "cell_type": "markdown",
      "metadata": {
        "id": "RU6-AjKD_S15",
        "colab_type": "text"
      },
      "source": [
        "On every data point $x_i$ we place a *kernel* function $K$. The kernel density estimate is then\n",
        "\n",
        "$$\n",
        "\\hat{f}_h(x)=\\frac{1}{Nh}\\sum_{i=1}^N K\\left(\\frac{x-x_i}{h}\\right),\n",
        "$$\n",
        "\n",
        "where $h$ is the scaling parameter caled *bandwidth*.\n",
        "\n",
        "In fact we can subtitute equal factors of $1/N$ with weights that can emphasize one points against the others:\n",
        "\n",
        "$$\n",
        "\\begin{aligned}\n",
        "& \\hat{f}_h(x)=\\frac{1}{h}\\sum_{i=1}^N w_i \\cdot K\\left(\\frac{x-x_i}{h}\\right), \\\\\n",
        "&\\sum_{i=1}^N w_i=1.\n",
        "\\end{aligned}\n",
        "$$\n",
        "\n",
        "The kernel function is typically\n",
        "* non-negative: $K(x) \\geq 0$;\n",
        "* symmetric: $\\,\\,\\,\\,\\, K(x)=K(-x)$;\n",
        "* decreasing: $\\,\\,\\,\\, K'(x)\\leq 0$;\n",
        "* $\\int K(x)dx=1$.\n",
        "\n",
        "$K$ has either compact support or decrease sufficiently fast approaching infinity.\n",
        "\n",
        "In the multivariate case (with $d$ dimensions) we have\n",
        "\n",
        "$$\n",
        "\\hat{f}_h(x)=\\frac{1}{Nh^d}\\sum_{i=1}^N K\\left(\\frac{\\|x-x_i\\|}{h}\\right),\n",
        "$$\n",
        "\n",
        "where $\\|\\cdot \\|$ is a some kind of norm, for example $p$-norm\n",
        "\n",
        "$$ \n",
        "\\|x\\|_p = \\left(\\sum_i |x_i|^p \\right)^{1/p}\n",
        "$$\n",
        "\n",
        "Although it's fun to see how the choise of kernel and metric affects the outcome,  it doesn't matter so much when there are lots of points.\n",
        "\n",
        "Nonetheless, what are our options when choosing the kernels?"
      ]
    },
    {
      "cell_type": "code",
      "metadata": {
        "id": "4R5k0DYyy0nl",
        "colab_type": "code",
        "outputId": "78b81d40-54ec-467f-99d1-f84042c624e6",
        "cellView": "form",
        "colab": {
          "base_uri": "https://localhost:8080/",
          "height": 393
        }
      },
      "source": [
        "#@title Available kernels\n",
        "\n",
        "import numpy as np\n",
        "import matplotlib\n",
        "import matplotlib.pyplot as plt\n",
        "from distutils.version import LooseVersion\n",
        "from scipy.stats import norm\n",
        "from sklearn.neighbors import KernelDensity\n",
        "\n",
        "\n",
        "X_plot = np.linspace(-6, 6, 1000)[:, None]\n",
        "X_src = np.zeros((1, 1))\n",
        "\n",
        "fig, ax = plt.subplots(2, 3, sharex=True, sharey=True, figsize=(10, 6))\n",
        "fig.subplots_adjust(left=0.05, right=0.95, hspace=0.05, wspace=0.05)\n",
        "\n",
        "\n",
        "def format_func(x, loc):\n",
        "    if x == 0:\n",
        "        return '0'\n",
        "    elif x == 1:\n",
        "        return 'h'\n",
        "    elif x == -1:\n",
        "        return '-h'\n",
        "    else:\n",
        "        return '%ih' % x\n",
        "\n",
        "for i, kernel in enumerate(['gaussian', 'tophat', 'epanechnikov',\n",
        "                            'exponential', 'linear', 'cosine']):\n",
        "    axi = ax.ravel()[i]\n",
        "    log_dens = KernelDensity(kernel=kernel).fit(X_src).score_samples(X_plot)\n",
        "    axi.fill(X_plot[:, 0], np.exp(log_dens), '-k', fc='#AAAAFF')\n",
        "    axi.text(-2.6, 0.95, kernel)\n",
        "\n",
        "    axi.xaxis.set_major_formatter(plt.FuncFormatter(format_func))\n",
        "    axi.xaxis.set_major_locator(plt.MultipleLocator(1))\n",
        "    axi.yaxis.set_major_locator(plt.NullLocator())\n",
        "\n",
        "    axi.set_ylim(0, 1.05)\n",
        "    axi.set_xlim(-2.9, 2.9)\n",
        "\n",
        "ax[0, 1].set_title('Available Kernels');\n"
      ],
      "execution_count": 0,
      "outputs": [
        {
          "output_type": "display_data",
          "data": {
            "image/png": "[encoded data removed]",
            "text/plain": [
              "<Figure size 720x432 with 6 Axes>"
            ]
          },
          "metadata": {
            "tags": []
          }
        }
      ]
    },
    {
      "cell_type": "markdown",
      "metadata": {
        "id": "VVGzEnOy8qkx",
        "colab_type": "text"
      },
      "source": [
        "$$\n",
        "\\begin{aligned}\n",
        "& K_{\\text{Gaussian}}(x;h) && \\propto \\quad e^{-\\frac{x^2}{2h^2}}; \\\\\n",
        "& K_{\\text{Tophat}}(x;h) && \\propto \\quad 1, &&& \\text{if   } \\quad x<h; \\\\\n",
        "& K_{\\text{Epanechnikov}}(x;h) && \\propto \\quad 1-\\frac{x^2}{h^2}; \\\\\n",
        "& K_{\\text{Exponential}}(x;h) && \\propto \\quad e^{-\\frac{x}{h}}; \\\\\n",
        "& K_{\\text{Linear}}(x;h) && \\propto \\quad 1-\\frac{|x|}{h}, &&& \\text{if   } \\quad |x|<h; \\\\\n",
        "& K_{\\text{Cosine}}(x;h) && \\propto \\quad \\cos{\\frac{\\pi x}{2 h}}, &&& \\text{if   } \\quad x<h. \\\\\n",
        "\\end{aligned}\n",
        "$$\n",
        "\n",
        "you can choose those by setting `kernel` parameter:\n",
        "* `kernel = 'gaussian';`\n",
        "* `kernel = 'tophat';`\n",
        "* `kernel = 'epanechnikov';`\n",
        "* `kernel = 'exponential';`\n",
        "* `kernel = 'linear';`\n",
        "* `kernel = 'cosine'.`"
      ]
    },
    {
      "cell_type": "markdown",
      "metadata": {
        "id": "UkuES-PX_H28",
        "colab_type": "text"
      },
      "source": [
        "##Choosing bandwidth"
      ]
    },
    {
      "cell_type": "markdown",
      "metadata": {
        "id": "EWh6vAx9_l39",
        "colab_type": "text"
      },
      "source": [
        "The choice of bandwidth within KDE is extremely important (the bias–variance trade-off).\n",
        "\n",
        "   *  too narrow a bandwidth leads to a high-variance estimate (i.e., overfitting)\n",
        "   * too wide a bandwidth leads to a high-bias estimate (i.e., underfitting)\n",
        "\n",
        "<br>\n",
        "\n",
        "   ![](https://raw.githubusercontent.com/fbeilstein/machine_learning/master/lecture_15_kernel_density_estimation/low_high_bandwidth.png) \n",
        "\n",
        "   ![](https://raw.githubusercontent.com/fbeilstein/machine_learning/master/lecture_15_kernel_density_estimation/kernel_density_estimation_animated.gif)\n",
        "\n",
        "[Source](https://kdepy.readthedocs.io/en/stable/bandwidth.html#)\n",
        "\n",
        "<br>\n",
        "\n",
        "Thus bandwidth is important!\n",
        "\n"
      ]
    },
    {
      "cell_type": "code",
      "metadata": {
        "id": "pGU9KIkxe-FY",
        "colab_type": "code",
        "cellView": "both",
        "outputId": "e893427f-6c2a-41ff-95fe-dff0e29d7710",
        "colab": {
          "base_uri": "https://localhost:8080/",
          "height": 616
        }
      },
      "source": [
        "#@title 1D KDE with varying bandwidth\n",
        "import plotly.graph_objects as go\n",
        "from sklearn.neighbors import KernelDensity\n",
        "import numpy as np\n",
        "\n",
        "def make_data(N, f=0.3, rseed=1):\n",
        "  rand = np.random.RandomState(rseed)\n",
        "  x = rand.randn(N)\n",
        "  x[int(f * N):] += 5\n",
        "  return x\n",
        "\n",
        "X = make_data(30)\n",
        "x = np.linspace(start=np.min(X)-1.0, stop=np.max(X)+1.0, num=200)\n",
        "\n",
        "bandwidths = np.linspace(start=0.1, stop=2.0, num=25)\n",
        "\n",
        "def get_plots(X, x):  \n",
        "  result = []\n",
        "  for b_w in bandwidths:\n",
        "    kde = KernelDensity(bandwidth=b_w, kernel='gaussian')\n",
        "    kde.fit(np.array(X)[:, None])\n",
        "    logprob = kde.score_samples(x[:, None])\n",
        "    result = result + [np.exp(logprob)]\n",
        "  return np.array(result)\n",
        "\n",
        "Y = np.asarray(X) * 0.0\n",
        "y = get_plots(X, x)\n",
        "\n",
        "frame_num = len(bandwidths)\n",
        "\n",
        "fig = dict(\n",
        "    layout = dict(\n",
        "        width=600, height=600, autosize=False,\n",
        "        showlegend = False,\n",
        "        xaxis1 = {'domain': [0.0, 1.0]},\n",
        "        yaxis1 = {'domain': [0.0, 1.0], 'range': [-0.1, 1.0]},\n",
        "        title  = 'KDE',\n",
        "        margin = {'t': 50, 'b': 50, 'l': 50, 'r': 50},\n",
        "        updatemenus = [{'buttons': [{'args': [[k for k in range(frame_num)],\n",
        "                                              {'frame': {'duration': 500.0, 'redraw': True},\n",
        "                                               'fromcurrent': False, 'transition': {'duration': 0, 'easing': 'linear'}}],\n",
        "                                     'label': 'Play',\n",
        "                                     'method': 'animate'},\n",
        "                                    {'args': [[None], {'frame': {'duration': 0, 'redraw': True},\n",
        "                                                       'mode': 'immediate',\n",
        "                                                       'transition': {'duration': 0}}\n",
        "                                              ],\n",
        "                                     'label': 'Pause',\n",
        "                                     'method': 'animate'\n",
        "                                     }\n",
        "                                    ],\n",
        "                        'direction': 'left',\n",
        "                        'pad': {'r': 10, 't': 85},\n",
        "                        'showactive': True,\n",
        "                        'type': 'buttons', 'x': 0.1, 'y': 0, 'xanchor': 'right', 'yanchor': 'top'}],\n",
        "        sliders = [{'yanchor': 'top',\n",
        "                    'xanchor': 'left',\n",
        "                    'currentvalue': {'font': {'size': 16}, 'prefix': 'Bandwidth: ', 'visible': True, 'xanchor': 'right'},\n",
        "                    'transition': {'duration': 0.0},\n",
        "                    'pad': {'b': 10, 't': 50},\n",
        "                    'len': 0.9,\n",
        "                    'x': 0.1,\n",
        "                    'y': 0,\n",
        "                    'steps': [{'args': [[k], {'frame': {'duration': 500.0, 'easing': 'linear', 'redraw': True},\n",
        "                                              'transition': {'duration': 0, 'easing': 'linear'}}\n",
        "                                        ],\n",
        "                               'label': '%.2f' % bandwidths[k],\n",
        "                               'method': 'animate'} for k in range(frame_num)\n",
        "                    ]}],\n",
        "    ),\n",
        "    data = [\n",
        "        {'type': 'scatter', 'name': 's2', 'x': X, 'y': Y, 'mode': 'markers', \n",
        "         'marker': {'size': 4, 'color':'red'}\n",
        "        },\n",
        "        {'type': 'scatter', 'name': 's2', 'x': x, 'y': y[0], 'mode': 'lines', \n",
        "         'line': {'color': 'rgb(0,0,0)', 'width': 2}, 'opacity': 1.0\n",
        "        }\n",
        "    ],\n",
        "    frames=[\n",
        "        {'name': str(k),\n",
        "         'data': [\n",
        "            {'type': 'scatter', 'name': 's2', 'x': X, 'y': Y, 'mode': 'markers', \n",
        "             'marker': {'size': 4, 'color': 'red'}\n",
        "            },\n",
        "            {'type': 'scatter', 'name': 's2', 'x': x, 'y': y[k], \n",
        "             'mode': 'lines', 'line': {'color': 'rgb(0,0,0)', 'width': 2}, 'opacity': 1.0\n",
        "            }\n",
        "         ]} for k in range(frame_num) ]\n",
        ")\n",
        "#plot(fig, auto_open=False)\n",
        "f = go.Figure(fig)\n",
        "f.show()"
      ],
      "execution_count": 0,
      "outputs": [
        {
          "output_type": "display_data",
          "data": {
            "text/html": [
              "<html>\n",
              "<head><meta charset=\"utf-8\" /></head>\n",
              "<body>\n",
              "    <div>\n",
              "            <script src=\"https://cdnjs.cloudflare.com/ajax/libs/mathjax/2.7.5/MathJax.js?config=TeX-AMS-MML_SVG\"></script><script type=\"text/javascript\">if (window.MathJax) {MathJax.Hub.Config({SVG: {font: \"STIX-Web\"}});}</script>\n",
              "                <script type=\"text/javascript\">window.PlotlyConfig = {MathJaxConfig: 'local'};</script>\n",
              "        <script src=\"https://cdn.plot.ly/plotly-latest.min.js\"></script>    \n",
              "            <div id=\"5647663f-dea4-4233-a2f3-cfdae192dda1\" class=\"plotly-graph-div\" style=\"height:600px; width:600px;\"></div>\n",
              "            <script type=\"text/javascript\">\n",
              "                \n",
              "                    window.PLOTLYENV=window.PLOTLYENV || {};\n",
              "                    \n",
              "                if (document.getElementById(\"5647663f-dea4-4233-a2f3-cfdae192dda1\")) {\n",
              "                    Plotly.newPlot(\n",
              "                        '5647663f-dea4-4233-a2f3-cfdae192dda1',\n",
              "                        [{\"marker\": {\"color\": \"red\", \"size\": 4}, \"mode\": \"markers\", \"name\": \"s2\", \"type\": \"scatter\", \"x\": [1.6243453636632417, -0.6117564136500754, -0.5281717522634557, -1.0729686221561705, 0.8654076293246785, -2.3015386968802827, 1.74481176421648, -0.7612069008951028, 0.31903909605709857, 4.75062962452259, 6.4621079370449745, 2.939859290502346, 4.677582795986493, 4.615945645331585, 6.133769442335438, 3.900108732685969, 4.8275717924495645, 4.122141582078628, 5.042213746715593, 5.582815213715822, 3.8993808227870788, 6.144723709839614, 5.901590720592796, 5.502494338901868, 5.900855949264412, 4.316272140825667, 4.877109774481352, 4.064230565740932, 4.732111920373984, 5.530355466738186], \"y\": [0.0, -0.0, -0.0, -0.0, 0.0, -0.0, 0.0, -0.0, 0.0, 0.0, 0.0, 0.0, 0.0, 0.0, 0.0, 0.0, 0.0, 0.0, 0.0, 0.0, 0.0, 0.0, 0.0, 0.0, 0.0, 0.0, 0.0, 0.0, 0.0, 0.0]}, {\"line\": {\"color\": \"rgb(0,0,0)\", \"width\": 2}, \"mode\": \"lines\", \"name\": \"s2\", \"opacity\": 1.0, \"type\": \"scatter\", \"x\": [-3.3015386968802827, -3.2474500203278946, -3.193361343775506, -3.139272667223118, -3.0851839906707297, -3.0310953141183417, -2.977006637565953, -2.922917961013565, -2.8688292844611767, -2.8147406079087887, -2.7606519313564, -2.706563254804012, -2.652474578251624, -2.5983859016992357, -2.5442972251468476, -2.490208548594459, -2.436119872042071, -2.3820311954896827, -2.3279425189372946, -2.2738538423849066, -2.219765165832518, -2.1656764892801297, -2.1115878127277417, -2.0574991361753536, -2.003410459622965, -1.949321783070577, -1.8952331065181887, -1.8411444299658006, -1.7870557534134124, -1.7329670768610241, -1.6788784003086359, -1.6247897237562476, -1.5707010472038594, -1.5166123706514711, -1.462523694099083, -1.4084350175466946, -1.3543463409943064, -1.3002576644419181, -1.2461689878895301, -1.1920803113371417, -1.1379916347847536, -1.0839029582323652, -1.0298142816799771, -0.9757256051275891, -0.9216369285752006, -0.8675482520228126, -0.8134595754704241, -0.7593708989180361, -0.7052822223656476, -0.6511935458132596, -0.5971048692608711, -0.5430161927084831, -0.48892751615609464, -0.4348388396037066, -0.3807501630513186, -0.3266614864989301, -0.2725728099465421, -0.21848413339415362, -0.1643954568417656, -0.11030678028937713, -0.0562181037369891, -0.0021294271846006296, 0.0519592493677874, 0.10604792592017587, 0.1601366024725639, 0.21422527902495192, 0.2683139555773404, 0.3224026321297284, 0.3764913086821169, 0.4305799852345049, 0.4846686617868934, 0.5387573383392814, 0.5928460148916699, 0.6469346914440579, 0.7010233679964464, 0.755112044548834, 0.8092007211012224, 0.8632893976536109, 0.9173780742059994, 0.971466750758387, 1.0255554273107754, 1.079644103863164, 1.1337327804155524, 1.18782145696794, 1.2419101335203284, 1.295998810072717, 1.3500874866251045, 1.404176163177493, 1.4582648397298814, 1.5123535162822699, 1.5664421928346575, 1.620530869387046, 1.6746195459394344, 1.7287082224918229, 1.7827968990442105, 1.836885575596599, 1.8909742521489874, 1.945062928701375, 1.9991516052537635, 2.053240281806152, 2.1073289583585404, 2.161417634910928, 2.2155063114633164, 2.269594988015705, 2.3236836645680934, 2.377772341120481, 2.4318610176728694, 2.485949694225258, 2.5400383707776455, 2.594127047330034, 2.6482157238824224, 2.702304400434811, 2.7563930769871985, 2.810481753539587, 2.8645704300919754, 2.918659106644364, 2.9727477831967515, 3.02683645974914, 3.0809251363015284, 3.135013812853916, 3.1891024894063045, 3.243191165958693, 3.2972798425110814, 3.351368519063469, 3.4054571956158575, 3.459545872168246, 3.5136345487206344, 3.567723225273022, 3.6218119018254105, 3.675900578377799, 3.7299892549301865, 3.784077931482575, 3.8381666080349635, 3.892255284587352, 3.9463439611397395, 4.000432637692128, 4.054521314244516, 4.108609990796905, 4.162698667349293, 4.2167873439016805, 4.27087602045407, 4.3249646970064575, 4.379053373558845, 4.433142050111234, 4.487230726663622, 4.54131940321601, 4.595408079768399, 4.6494967563207865, 4.703585432873176, 4.7576741094255635, 4.811762785977951, 4.86585146253034, 4.919940139082728, 4.974028815635117, 5.028117492187505, 5.0822061687398925, 5.136294845292282, 5.1903835218446694, 5.244472198397057, 5.298560874949446, 5.352649551501834, 5.4067382280542216, 5.460826904606611, 5.5149155811589985, 5.569004257711388, 5.623092934263775, 5.677181610816163, 5.731270287368552, 5.78535896392094, 5.8394476404733275, 5.893536317025717, 5.9476249935781045, 6.001713670130492, 6.055802346682881, 6.109891023235269, 6.163979699787658, 6.218068376340046, 6.2721570528924335, 6.326245729444823, 6.3803344059972105, 6.434423082549598, 6.488511759101987, 6.542600435654375, 6.596689112206763, 6.650777788759152, 6.7048664653115395, 6.758955141863929, 6.8130438184163165, 6.867132494968704, 6.921221171521093, 6.975309848073481, 7.029398524625869, 7.083487201178258, 7.1375758777306455, 7.191664554283033, 7.245753230835422, 7.29984190738781, 7.353930583940199, 7.408019260492587, 7.4621079370449745], \"y\": [2.5648662089021608e-23, 4.9496879771842786e-21, 7.129094795787812e-19, 7.663628037084862e-17, 6.148623582475098e-15, 3.681839528854628e-13, 1.6454900726518396e-11, 5.488695499359207e-10, 1.3664271098275068e-08, 2.5389097457335506e-07, 3.520882373673023e-06, 3.64417505334324e-05, 0.00028150778268677527, 0.0016230243746171572, 0.006983982444094194, 0.022429763617862978, 0.05376377007896354, 0.0961829724542664, 0.12842516564204326, 0.12798101065904727, 0.09518848114573786, 0.0528404758134428, 0.0218923560611937, 0.006769580345665742, 0.001562336042935886, 0.0002691104842532996, 3.4596346988574936e-05, 3.3195050545394864e-06, 2.377179269925707e-07, 1.2751672619391553e-08, 1.9250221291186397e-09, 3.248742828418946e-08, 5.549273884290265e-07, 7.077855494465655e-06, 6.737688950787494e-05, 0.00047870035442229466, 0.002538401686307609, 0.010046210585299118, 0.029675481128287613, 0.06543216239677169, 0.10775138375818073, 0.1329188636948946, 0.12478545127588848, 0.0963829744440696, 0.08018549056888442, 0.09713943798380038, 0.14026098923801322, 0.1878491622651083, 0.2274655900169342, 0.25805149358046503, 0.27101731946425095, 0.24882500552226533, 0.18893352851604583, 0.11447807766420061, 0.054181572388673646, 0.019754806116106742, 0.005494795193694095, 0.0011579083839361455, 0.00018503315360448403, 3.515819973513915e-05, 0.00011836642449369325, 0.0007656080681731669, 0.0037570120818448617, 0.013762431808660222, 0.03762633988433249, 0.07677719424666082, 0.11692731283151653, 0.1329056109602946, 0.11275014040540104, 0.07139886553957302, 0.033829987125986206, 0.012539285216281816, 0.006372518351604227, 0.01284279295214877, 0.03452597710102713, 0.07239122375480637, 0.11355084767282432, 0.13295097904607087, 0.11618202233487913, 0.07577569517647316, 0.03688624274642438, 0.013401205807688775, 0.0036346124568438945, 0.000745115071828433, 0.00020019671031306347, 0.000624449479303435, 0.003149667634534609, 0.01218292896661702, 0.03567584716090556, 0.07995012877805559, 0.13955329876458775, 0.1943152227598993, 0.22113839299573831, 0.20840780386801508, 0.1616214943104601, 0.10093140214358778, 0.04949940655820653, 0.01868339105811922, 0.005355482530271752, 0.0011566300152094488, 0.00018738146042384516, 2.2717441927026663e-05, 2.058462114790043e-06, 1.3933488173523978e-07, 7.796848750872446e-09, 1.8597168203252664e-08, 3.311678450148778e-07, 4.464975341352422e-06, 4.4930701838545646e-05, 0.00033745107527069246, 0.0018915677064686284, 0.007913642488346905, 0.024710095430934505, 0.057585863001822196, 0.10016149486539652, 0.13002569273208583, 0.1259798293387982, 0.09109956767086867, 0.049167154768501496, 0.01980511182577615, 0.005954194014279792, 0.0013360175490660373, 0.00022374405793782127, 2.804389592665625e-05, 3.925709960165039e-06, 1.6668597329478784e-05, 0.00015407480436798276, 0.0010747390597164927, 0.005598422488580012, 0.021793352915194325, 0.06352073283936696, 0.13930523310961354, 0.2327170074847957, 0.30500708772156393, 0.33347407569327964, 0.3330109340599556, 0.32276815753471233, 0.29770164561711415, 0.2536545806162603, 0.20937451220663592, 0.18033493749302162, 0.1561981026885991, 0.12502147436513592, 0.10253900721605344, 0.12208143240491333, 0.20290710111456445, 0.33139345197459447, 0.46560374090594786, 0.5575315519620678, 0.5782150829621397, 0.5288421750223876, 0.4351069260269467, 0.33396483440705393, 0.2539951808721757, 0.19679897170559843, 0.14509050969354778, 0.09152789601191642, 0.04703774536551931, 0.024811172755337136, 0.03301771837399928, 0.08117466531403907, 0.1744114758070337, 0.28957850636569, 0.3691216448159973, 0.36279037454103713, 0.2789486663029953, 0.1809943890510631, 0.13437701614940817, 0.1611265147330219, 0.22928248316670077, 0.2795799999278872, 0.2815965581228174, 0.2639819621938291, 0.26824836568758725, 0.28481798641285644, 0.26757542679571483, 0.20335940623028428, 0.1322494525510557, 0.09933513176830634, 0.10984031826650956, 0.131431297228856, 0.12903214789376607, 0.09626273877987833, 0.05377160028132247, 0.02243033777251803, 0.006984013891237261, 0.0016230256611585597, 0.00028150782200104255, 3.644175143076555e-05, 3.5208823889705343e-06, 2.5389097476813786e-07, 1.3664271100127554e-08, 5.48869549949048e-10, 1.645490072658767e-11, 3.681839528857519e-13, 6.148623582475447e-15, 7.66362803708508e-17, 7.129094795787001e-19, 4.949687977184068e-21, 2.5648662089021608e-23]}],\n",
              "                        {\"autosize\": false, \"height\": 600, \"margin\": {\"b\": 50, \"l\": 50, \"r\": 50, \"t\": 50}, \"showlegend\": false, \"sliders\": [{\"currentvalue\": {\"font\": {\"size\": 16}, \"prefix\": \"Bandwidth: \", \"visible\": true, \"xanchor\": \"right\"}, \"len\": 0.9, \"pad\": {\"b\": 10, \"t\": 50}, \"steps\": [{\"args\": [[0], {\"frame\": {\"duration\": 500.0, \"easing\": \"linear\", \"redraw\": true}, \"transition\": {\"duration\": 0, \"easing\": \"linear\"}}], \"label\": \"0.10\", \"method\": \"animate\"}, {\"args\": [[1], {\"frame\": {\"duration\": 500.0, \"easing\": \"linear\", \"redraw\": true}, \"transition\": {\"duration\": 0, \"easing\": \"linear\"}}], \"label\": \"0.18\", \"method\": \"animate\"}, {\"args\": [[2], {\"frame\": {\"duration\": 500.0, \"easing\": \"linear\", \"redraw\": true}, \"transition\": {\"duration\": 0, \"easing\": \"linear\"}}], \"label\": \"0.26\", \"method\": \"animate\"}, {\"args\": [[3], {\"frame\": {\"duration\": 500.0, \"easing\": \"linear\", \"redraw\": true}, \"transition\": {\"duration\": 0, \"easing\": \"linear\"}}], \"label\": \"0.34\", \"method\": \"animate\"}, {\"args\": [[4], {\"frame\": {\"duration\": 500.0, \"easing\": \"linear\", \"redraw\": true}, \"transition\": {\"duration\": 0, \"easing\": \"linear\"}}], \"label\": \"0.42\", \"method\": \"animate\"}, {\"args\": [[5], {\"frame\": {\"duration\": 500.0, \"easing\": \"linear\", \"redraw\": true}, \"transition\": {\"duration\": 0, \"easing\": \"linear\"}}], \"label\": \"0.50\", \"method\": \"animate\"}, {\"args\": [[6], {\"frame\": {\"duration\": 500.0, \"easing\": \"linear\", \"redraw\": true}, \"transition\": {\"duration\": 0, \"easing\": \"linear\"}}], \"label\": \"0.57\", \"method\": \"animate\"}, {\"args\": [[7], {\"frame\": {\"duration\": 500.0, \"easing\": \"linear\", \"redraw\": true}, \"transition\": {\"duration\": 0, \"easing\": \"linear\"}}], \"label\": \"0.65\", \"method\": \"animate\"}, {\"args\": [[8], {\"frame\": {\"duration\": 500.0, \"easing\": \"linear\", \"redraw\": true}, \"transition\": {\"duration\": 0, \"easing\": \"linear\"}}], \"label\": \"0.73\", \"method\": \"animate\"}, {\"args\": [[9], {\"frame\": {\"duration\": 500.0, \"easing\": \"linear\", \"redraw\": true}, \"transition\": {\"duration\": 0, \"easing\": \"linear\"}}], \"label\": \"0.81\", \"method\": \"animate\"}, {\"args\": [[10], {\"frame\": {\"duration\": 500.0, \"easing\": \"linear\", \"redraw\": true}, \"transition\": {\"duration\": 0, \"easing\": \"linear\"}}], \"label\": \"0.89\", \"method\": \"animate\"}, {\"args\": [[11], {\"frame\": {\"duration\": 500.0, \"easing\": \"linear\", \"redraw\": true}, \"transition\": {\"duration\": 0, \"easing\": \"linear\"}}], \"label\": \"0.97\", \"method\": \"animate\"}, {\"args\": [[12], {\"frame\": {\"duration\": 500.0, \"easing\": \"linear\", \"redraw\": true}, \"transition\": {\"duration\": 0, \"easing\": \"linear\"}}], \"label\": \"1.05\", \"method\": \"animate\"}, {\"args\": [[13], {\"frame\": {\"duration\": 500.0, \"easing\": \"linear\", \"redraw\": true}, \"transition\": {\"duration\": 0, \"easing\": \"linear\"}}], \"label\": \"1.13\", \"method\": \"animate\"}, {\"args\": [[14], {\"frame\": {\"duration\": 500.0, \"easing\": \"linear\", \"redraw\": true}, \"transition\": {\"duration\": 0, \"easing\": \"linear\"}}], \"label\": \"1.21\", \"method\": \"animate\"}, {\"args\": [[15], {\"frame\": {\"duration\": 500.0, \"easing\": \"linear\", \"redraw\": true}, \"transition\": {\"duration\": 0, \"easing\": \"linear\"}}], \"label\": \"1.29\", \"method\": \"animate\"}, {\"args\": [[16], {\"frame\": {\"duration\": 500.0, \"easing\": \"linear\", \"redraw\": true}, \"transition\": {\"duration\": 0, \"easing\": \"linear\"}}], \"label\": \"1.37\", \"method\": \"animate\"}, {\"args\": [[17], {\"frame\": {\"duration\": 500.0, \"easing\": \"linear\", \"redraw\": true}, \"transition\": {\"duration\": 0, \"easing\": \"linear\"}}], \"label\": \"1.45\", \"method\": \"animate\"}, {\"args\": [[18], {\"frame\": {\"duration\": 500.0, \"easing\": \"linear\", \"redraw\": true}, \"transition\": {\"duration\": 0, \"easing\": \"linear\"}}], \"label\": \"1.52\", \"method\": \"animate\"}, {\"args\": [[19], {\"frame\": {\"duration\": 500.0, \"easing\": \"linear\", \"redraw\": true}, \"transition\": {\"duration\": 0, \"easing\": \"linear\"}}], \"label\": \"1.60\", \"method\": \"animate\"}, {\"args\": [[20], {\"frame\": {\"duration\": 500.0, \"easing\": \"linear\", \"redraw\": true}, \"transition\": {\"duration\": 0, \"easing\": \"linear\"}}], \"label\": \"1.68\", \"method\": \"animate\"}, {\"args\": [[21], {\"frame\": {\"duration\": 500.0, \"easing\": \"linear\", \"redraw\": true}, \"transition\": {\"duration\": 0, \"easing\": \"linear\"}}], \"label\": \"1.76\", \"method\": \"animate\"}, {\"args\": [[22], {\"frame\": {\"duration\": 500.0, \"easing\": \"linear\", \"redraw\": true}, \"transition\": {\"duration\": 0, \"easing\": \"linear\"}}], \"label\": \"1.84\", \"method\": \"animate\"}, {\"args\": [[23], {\"frame\": {\"duration\": 500.0, \"easing\": \"linear\", \"redraw\": true}, \"transition\": {\"duration\": 0, \"easing\": \"linear\"}}], \"label\": \"1.92\", \"method\": \"animate\"}, {\"args\": [[24], {\"frame\": {\"duration\": 500.0, \"easing\": \"linear\", \"redraw\": true}, \"transition\": {\"duration\": 0, \"easing\": \"linear\"}}], \"label\": \"2.00\", \"method\": \"animate\"}], \"transition\": {\"duration\": 0.0}, \"x\": 0.1, \"xanchor\": \"left\", \"y\": 0, \"yanchor\": \"top\"}], \"template\": {\"data\": {\"bar\": [{\"error_x\": {\"color\": \"#2a3f5f\"}, \"error_y\": {\"color\": \"#2a3f5f\"}, \"marker\": {\"line\": {\"color\": \"#E5ECF6\", \"width\": 0.5}}, \"type\": \"bar\"}], \"barpolar\": [{\"marker\": {\"line\": {\"color\": \"#E5ECF6\", \"width\": 0.5}}, \"type\": \"barpolar\"}], \"carpet\": [{\"aaxis\": {\"endlinecolor\": \"#2a3f5f\", \"gridcolor\": \"white\", \"linecolor\": \"white\", \"minorgridcolor\": \"white\", \"startlinecolor\": \"#2a3f5f\"}, \"baxis\": {\"endlinecolor\": \"#2a3f5f\", \"gridcolor\": \"white\", \"linecolor\": \"white\", \"minorgridcolor\": \"white\", \"startlinecolor\": \"#2a3f5f\"}, \"type\": \"carpet\"}], \"choropleth\": [{\"colorbar\": {\"outlinewidth\": 0, \"ticks\": \"\"}, \"type\": \"choropleth\"}], \"contour\": [{\"colorbar\": {\"outlinewidth\": 0, \"ticks\": \"\"}, \"colorscale\": [[0.0, \"#0d0887\"], [0.1111111111111111, \"#46039f\"], [0.2222222222222222, \"#7201a8\"], [0.3333333333333333, \"#9c179e\"], [0.4444444444444444, \"#bd3786\"], [0.5555555555555556, \"#d8576b\"], [0.6666666666666666, \"#ed7953\"], [0.7777777777777778, \"#fb9f3a\"], [0.8888888888888888, \"#fdca26\"], [1.0, \"#f0f921\"]], \"type\": \"contour\"}], \"contourcarpet\": [{\"colorbar\": {\"outlinewidth\": 0, \"ticks\": \"\"}, \"type\": \"contourcarpet\"}], \"heatmap\": [{\"colorbar\": {\"outlinewidth\": 0, \"ticks\": \"\"}, \"colorscale\": [[0.0, \"#0d0887\"], [0.1111111111111111, \"#46039f\"], [0.2222222222222222, \"#7201a8\"], [0.3333333333333333, \"#9c179e\"], [0.4444444444444444, \"#bd3786\"], [0.5555555555555556, \"#d8576b\"], [0.6666666666666666, \"#ed7953\"], [0.7777777777777778, \"#fb9f3a\"], [0.8888888888888888, \"#fdca26\"], [1.0, \"#f0f921\"]], \"type\": \"heatmap\"}], \"heatmapgl\": [{\"colorbar\": {\"outlinewidth\": 0, \"ticks\": \"\"}, \"colorscale\": [[0.0, \"#0d0887\"], [0.1111111111111111, \"#46039f\"], [0.2222222222222222, \"#7201a8\"], [0.3333333333333333, \"#9c179e\"], [0.4444444444444444, \"#bd3786\"], [0.5555555555555556, \"#d8576b\"], [0.6666666666666666, \"#ed7953\"], [0.7777777777777778, \"#fb9f3a\"], [0.8888888888888888, \"#fdca26\"], [1.0, \"#f0f921\"]], \"type\": \"heatmapgl\"}], \"histogram\": [{\"marker\": {\"colorbar\": {\"outlinewidth\": 0, \"ticks\": \"\"}}, \"type\": \"histogram\"}], \"histogram2d\": [{\"colorbar\": {\"outlinewidth\": 0, \"ticks\": \"\"}, \"colorscale\": [[0.0, \"#0d0887\"], [0.1111111111111111, \"#46039f\"], [0.2222222222222222, \"#7201a8\"], [0.3333333333333333, \"#9c179e\"], [0.4444444444444444, \"#bd3786\"], [0.5555555555555556, \"#d8576b\"], [0.6666666666666666, \"#ed7953\"], [0.7777777777777778, \"#fb9f3a\"], [0.8888888888888888, \"#fdca26\"], [1.0, \"#f0f921\"]], \"type\": \"histogram2d\"}], \"histogram2dcontour\": [{\"colorbar\": {\"outlinewidth\": 0, \"ticks\": \"\"}, \"colorscale\": [[0.0, \"#0d0887\"], [0.1111111111111111, \"#46039f\"], [0.2222222222222222, \"#7201a8\"], [0.3333333333333333, \"#9c179e\"], [0.4444444444444444, \"#bd3786\"], [0.5555555555555556, \"#d8576b\"], [0.6666666666666666, \"#ed7953\"], [0.7777777777777778, \"#fb9f3a\"], [0.8888888888888888, \"#fdca26\"], [1.0, \"#f0f921\"]], \"type\": \"histogram2dcontour\"}], \"mesh3d\": [{\"colorbar\": {\"outlinewidth\": 0, \"ticks\": \"\"}, \"type\": \"mesh3d\"}], \"parcoords\": [{\"line\": {\"colorbar\": {\"outlinewidth\": 0, \"ticks\": \"\"}}, \"type\": \"parcoords\"}], \"scatter\": [{\"marker\": {\"colorbar\": {\"outlinewidth\": 0, \"ticks\": \"\"}}, \"type\": \"scatter\"}], \"scatter3d\": [{\"line\": {\"colorbar\": {\"outlinewidth\": 0, \"ticks\": \"\"}}, \"marker\": {\"colorbar\": {\"outlinewidth\": 0, \"ticks\": \"\"}}, \"type\": \"scatter3d\"}], \"scattercarpet\": [{\"marker\": {\"colorbar\": {\"outlinewidth\": 0, \"ticks\": \"\"}}, \"type\": \"scattercarpet\"}], \"scattergeo\": [{\"marker\": {\"colorbar\": {\"outlinewidth\": 0, \"ticks\": \"\"}}, \"type\": \"scattergeo\"}], \"scattergl\": [{\"marker\": {\"colorbar\": {\"outlinewidth\": 0, \"ticks\": \"\"}}, \"type\": \"scattergl\"}], \"scattermapbox\": [{\"marker\": {\"colorbar\": {\"outlinewidth\": 0, \"ticks\": \"\"}}, \"type\": \"scattermapbox\"}], \"scatterpolar\": [{\"marker\": {\"colorbar\": {\"outlinewidth\": 0, \"ticks\": \"\"}}, \"type\": \"scatterpolar\"}], \"scatterpolargl\": [{\"marker\": {\"colorbar\": {\"outlinewidth\": 0, \"ticks\": \"\"}}, \"type\": \"scatterpolargl\"}], \"scatterternary\": [{\"marker\": {\"colorbar\": {\"outlinewidth\": 0, \"ticks\": \"\"}}, \"type\": \"scatterternary\"}], \"surface\": [{\"colorbar\": {\"outlinewidth\": 0, \"ticks\": \"\"}, \"colorscale\": [[0.0, \"#0d0887\"], [0.1111111111111111, \"#46039f\"], [0.2222222222222222, \"#7201a8\"], [0.3333333333333333, \"#9c179e\"], [0.4444444444444444, \"#bd3786\"], [0.5555555555555556, \"#d8576b\"], [0.6666666666666666, \"#ed7953\"], [0.7777777777777778, \"#fb9f3a\"], [0.8888888888888888, \"#fdca26\"], [1.0, \"#f0f921\"]], \"type\": \"surface\"}], \"table\": [{\"cells\": {\"fill\": {\"color\": \"#EBF0F8\"}, \"line\": {\"color\": \"white\"}}, \"header\": {\"fill\": {\"color\": \"#C8D4E3\"}, \"line\": {\"color\": \"white\"}}, \"type\": \"table\"}]}, \"layout\": {\"annotationdefaults\": {\"arrowcolor\": \"#2a3f5f\", \"arrowhead\": 0, \"arrowwidth\": 1}, \"colorscale\": {\"diverging\": [[0, \"#8e0152\"], [0.1, \"#c51b7d\"], [0.2, \"#de77ae\"], [0.3, \"#f1b6da\"], [0.4, \"#fde0ef\"], [0.5, \"#f7f7f7\"], [0.6, \"#e6f5d0\"], [0.7, \"#b8e186\"], [0.8, \"#7fbc41\"], [0.9, \"#4d9221\"], [1, \"#276419\"]], \"sequential\": [[0.0, \"#0d0887\"], [0.1111111111111111, \"#46039f\"], [0.2222222222222222, \"#7201a8\"], [0.3333333333333333, \"#9c179e\"], [0.4444444444444444, \"#bd3786\"], [0.5555555555555556, \"#d8576b\"], [0.6666666666666666, \"#ed7953\"], [0.7777777777777778, \"#fb9f3a\"], [0.8888888888888888, \"#fdca26\"], [1.0, \"#f0f921\"]], \"sequentialminus\": [[0.0, \"#0d0887\"], [0.1111111111111111, \"#46039f\"], [0.2222222222222222, \"#7201a8\"], [0.3333333333333333, \"#9c179e\"], [0.4444444444444444, \"#bd3786\"], [0.5555555555555556, \"#d8576b\"], [0.6666666666666666, \"#ed7953\"], [0.7777777777777778, \"#fb9f3a\"], [0.8888888888888888, \"#fdca26\"], [1.0, \"#f0f921\"]]}, \"colorway\": [\"#636efa\", \"#EF553B\", \"#00cc96\", \"#ab63fa\", \"#FFA15A\", \"#19d3f3\", \"#FF6692\", \"#B6E880\", \"#FF97FF\", \"#FECB52\"], \"font\": {\"color\": \"#2a3f5f\"}, \"geo\": {\"bgcolor\": \"white\", \"lakecolor\": \"white\", \"landcolor\": \"#E5ECF6\", \"showlakes\": true, \"showland\": true, \"subunitcolor\": \"white\"}, \"hoverlabel\": {\"align\": \"left\"}, \"hovermode\": \"closest\", \"mapbox\": {\"style\": \"light\"}, \"paper_bgcolor\": \"white\", \"plot_bgcolor\": \"#E5ECF6\", \"polar\": {\"angularaxis\": {\"gridcolor\": \"white\", \"linecolor\": \"white\", \"ticks\": \"\"}, \"bgcolor\": \"#E5ECF6\", \"radialaxis\": {\"gridcolor\": \"white\", \"linecolor\": \"white\", \"ticks\": \"\"}}, \"scene\": {\"xaxis\": {\"backgroundcolor\": \"#E5ECF6\", \"gridcolor\": \"white\", \"gridwidth\": 2, \"linecolor\": \"white\", \"showbackground\": true, \"ticks\": \"\", \"zerolinecolor\": \"white\"}, \"yaxis\": {\"backgroundcolor\": \"#E5ECF6\", \"gridcolor\": \"white\", \"gridwidth\": 2, \"linecolor\": \"white\", \"showbackground\": true, \"ticks\": \"\", \"zerolinecolor\": \"white\"}, \"zaxis\": {\"backgroundcolor\": \"#E5ECF6\", \"gridcolor\": \"white\", \"gridwidth\": 2, \"linecolor\": \"white\", \"showbackground\": true, \"ticks\": \"\", \"zerolinecolor\": \"white\"}}, \"shapedefaults\": {\"line\": {\"color\": \"#2a3f5f\"}}, \"ternary\": {\"aaxis\": {\"gridcolor\": \"white\", \"linecolor\": \"white\", \"ticks\": \"\"}, \"baxis\": {\"gridcolor\": \"white\", \"linecolor\": \"white\", \"ticks\": \"\"}, \"bgcolor\": \"#E5ECF6\", \"caxis\": {\"gridcolor\": \"white\", \"linecolor\": \"white\", \"ticks\": \"\"}}, \"title\": {\"x\": 0.05}, \"xaxis\": {\"automargin\": true, \"gridcolor\": \"white\", \"linecolor\": \"white\", \"ticks\": \"\", \"zerolinecolor\": \"white\", \"zerolinewidth\": 2}, \"yaxis\": {\"automargin\": true, \"gridcolor\": \"white\", \"linecolor\": \"white\", \"ticks\": \"\", \"zerolinecolor\": \"white\", \"zerolinewidth\": 2}}}, \"title\": {\"text\": \"KDE\"}, \"updatemenus\": [{\"buttons\": [{\"args\": [[0, 1, 2, 3, 4, 5, 6, 7, 8, 9, 10, 11, 12, 13, 14, 15, 16, 17, 18, 19, 20, 21, 22, 23, 24], {\"frame\": {\"duration\": 500.0, \"redraw\": true}, \"fromcurrent\": false, \"transition\": {\"duration\": 0, \"easing\": \"linear\"}}], \"label\": \"Play\", \"method\": \"animate\"}, {\"args\": [[null], {\"frame\": {\"duration\": 0, \"redraw\": true}, \"mode\": \"immediate\", \"transition\": {\"duration\": 0}}], \"label\": \"Pause\", \"method\": \"animate\"}], \"direction\": \"left\", \"pad\": {\"r\": 10, \"t\": 85}, \"showactive\": true, \"type\": \"buttons\", \"x\": 0.1, \"xanchor\": \"right\", \"y\": 0, \"yanchor\": \"top\"}], \"width\": 600, \"xaxis\": {\"domain\": [0.0, 1.0]}, \"yaxis\": {\"domain\": [0.0, 1.0], \"range\": [-0.1, 1.0]}},\n",
              "                        {\"responsive\": true}\n",
              "                    ).then(function(){\n",
              "                            Plotly.addFrames('5647663f-dea4-4233-a2f3-cfdae192dda1', [{\"data\": [{\"marker\": {\"color\": \"red\", \"size\": 4}, \"mode\": \"markers\", \"name\": \"s2\", \"x\": [1.6243453636632417, -0.6117564136500754, -0.5281717522634557, -1.0729686221561705, 0.8654076293246785, -2.3015386968802827, 1.74481176421648, -0.7612069008951028, 0.31903909605709857, 4.75062962452259, 6.4621079370449745, 2.939859290502346, 4.677582795986493, 4.615945645331585, 6.133769442335438, 3.900108732685969, 4.8275717924495645, 4.122141582078628, 5.042213746715593, 5.582815213715822, 3.8993808227870788, 6.144723709839614, 5.901590720592796, 5.502494338901868, 5.900855949264412, 4.316272140825667, 4.877109774481352, 4.064230565740932, 4.732111920373984, 5.530355466738186], \"y\": [0.0, -0.0, -0.0, -0.0, 0.0, -0.0, 0.0, -0.0, 0.0, 0.0, 0.0, 0.0, 0.0, 0.0, 0.0, 0.0, 0.0, 0.0, 0.0, 0.0, 0.0, 0.0, 0.0, 0.0, 0.0, 0.0, 0.0, 0.0, 0.0, 0.0], \"type\": \"scatter\"}, {\"line\": {\"color\": \"rgb(0,0,0)\", \"width\": 2}, \"mode\": \"lines\", \"name\": \"s2\", \"opacity\": 1.0, \"x\": [-3.3015386968802827, -3.2474500203278946, -3.193361343775506, -3.139272667223118, -3.0851839906707297, -3.0310953141183417, -2.977006637565953, -2.922917961013565, -2.8688292844611767, -2.8147406079087887, -2.7606519313564, -2.706563254804012, -2.652474578251624, -2.5983859016992357, -2.5442972251468476, -2.490208548594459, -2.436119872042071, -2.3820311954896827, -2.3279425189372946, -2.2738538423849066, -2.219765165832518, -2.1656764892801297, -2.1115878127277417, -2.0574991361753536, -2.003410459622965, -1.949321783070577, -1.8952331065181887, -1.8411444299658006, -1.7870557534134124, -1.7329670768610241, -1.6788784003086359, -1.6247897237562476, -1.5707010472038594, -1.5166123706514711, -1.462523694099083, -1.4084350175466946, -1.3543463409943064, -1.3002576644419181, -1.2461689878895301, -1.1920803113371417, -1.1379916347847536, -1.0839029582323652, -1.0298142816799771, -0.9757256051275891, -0.9216369285752006, -0.8675482520228126, -0.8134595754704241, -0.7593708989180361, -0.7052822223656476, -0.6511935458132596, -0.5971048692608711, -0.5430161927084831, -0.48892751615609464, -0.4348388396037066, -0.3807501630513186, -0.3266614864989301, -0.2725728099465421, -0.21848413339415362, -0.1643954568417656, -0.11030678028937713, -0.0562181037369891, -0.0021294271846006296, 0.0519592493677874, 0.10604792592017587, 0.1601366024725639, 0.21422527902495192, 0.2683139555773404, 0.3224026321297284, 0.3764913086821169, 0.4305799852345049, 0.4846686617868934, 0.5387573383392814, 0.5928460148916699, 0.6469346914440579, 0.7010233679964464, 0.755112044548834, 0.8092007211012224, 0.8632893976536109, 0.9173780742059994, 0.971466750758387, 1.0255554273107754, 1.079644103863164, 1.1337327804155524, 1.18782145696794, 1.2419101335203284, 1.295998810072717, 1.3500874866251045, 1.404176163177493, 1.4582648397298814, 1.5123535162822699, 1.5664421928346575, 1.620530869387046, 1.6746195459394344, 1.7287082224918229, 1.7827968990442105, 1.836885575596599, 1.8909742521489874, 1.945062928701375, 1.9991516052537635, 2.053240281806152, 2.1073289583585404, 2.161417634910928, 2.2155063114633164, 2.269594988015705, 2.3236836645680934, 2.377772341120481, 2.4318610176728694, 2.485949694225258, 2.5400383707776455, 2.594127047330034, 2.6482157238824224, 2.702304400434811, 2.7563930769871985, 2.810481753539587, 2.8645704300919754, 2.918659106644364, 2.9727477831967515, 3.02683645974914, 3.0809251363015284, 3.135013812853916, 3.1891024894063045, 3.243191165958693, 3.2972798425110814, 3.351368519063469, 3.4054571956158575, 3.459545872168246, 3.5136345487206344, 3.567723225273022, 3.6218119018254105, 3.675900578377799, 3.7299892549301865, 3.784077931482575, 3.8381666080349635, 3.892255284587352, 3.9463439611397395, 4.000432637692128, 4.054521314244516, 4.108609990796905, 4.162698667349293, 4.2167873439016805, 4.27087602045407, 4.3249646970064575, 4.379053373558845, 4.433142050111234, 4.487230726663622, 4.54131940321601, 4.595408079768399, 4.6494967563207865, 4.703585432873176, 4.7576741094255635, 4.811762785977951, 4.86585146253034, 4.919940139082728, 4.974028815635117, 5.028117492187505, 5.0822061687398925, 5.136294845292282, 5.1903835218446694, 5.244472198397057, 5.298560874949446, 5.352649551501834, 5.4067382280542216, 5.460826904606611, 5.5149155811589985, 5.569004257711388, 5.623092934263775, 5.677181610816163, 5.731270287368552, 5.78535896392094, 5.8394476404733275, 5.893536317025717, 5.9476249935781045, 6.001713670130492, 6.055802346682881, 6.109891023235269, 6.163979699787658, 6.218068376340046, 6.2721570528924335, 6.326245729444823, 6.3803344059972105, 6.434423082549598, 6.488511759101987, 6.542600435654375, 6.596689112206763, 6.650777788759152, 6.7048664653115395, 6.758955141863929, 6.8130438184163165, 6.867132494968704, 6.921221171521093, 6.975309848073481, 7.029398524625869, 7.083487201178258, 7.1375758777306455, 7.191664554283033, 7.245753230835422, 7.29984190738781, 7.353930583940199, 7.408019260492587, 7.4621079370449745], \"y\": [2.5648662089021608e-23, 4.9496879771842786e-21, 7.129094795787812e-19, 7.663628037084862e-17, 6.148623582475098e-15, 3.681839528854628e-13, 1.6454900726518396e-11, 5.488695499359207e-10, 1.3664271098275068e-08, 2.5389097457335506e-07, 3.520882373673023e-06, 3.64417505334324e-05, 0.00028150778268677527, 0.0016230243746171572, 0.006983982444094194, 0.022429763617862978, 0.05376377007896354, 0.0961829724542664, 0.12842516564204326, 0.12798101065904727, 0.09518848114573786, 0.0528404758134428, 0.0218923560611937, 0.006769580345665742, 0.001562336042935886, 0.0002691104842532996, 3.4596346988574936e-05, 3.3195050545394864e-06, 2.377179269925707e-07, 1.2751672619391553e-08, 1.9250221291186397e-09, 3.248742828418946e-08, 5.549273884290265e-07, 7.077855494465655e-06, 6.737688950787494e-05, 0.00047870035442229466, 0.002538401686307609, 0.010046210585299118, 0.029675481128287613, 0.06543216239677169, 0.10775138375818073, 0.1329188636948946, 0.12478545127588848, 0.0963829744440696, 0.08018549056888442, 0.09713943798380038, 0.14026098923801322, 0.1878491622651083, 0.2274655900169342, 0.25805149358046503, 0.27101731946425095, 0.24882500552226533, 0.18893352851604583, 0.11447807766420061, 0.054181572388673646, 0.019754806116106742, 0.005494795193694095, 0.0011579083839361455, 0.00018503315360448403, 3.515819973513915e-05, 0.00011836642449369325, 0.0007656080681731669, 0.0037570120818448617, 0.013762431808660222, 0.03762633988433249, 0.07677719424666082, 0.11692731283151653, 0.1329056109602946, 0.11275014040540104, 0.07139886553957302, 0.033829987125986206, 0.012539285216281816, 0.006372518351604227, 0.01284279295214877, 0.03452597710102713, 0.07239122375480637, 0.11355084767282432, 0.13295097904607087, 0.11618202233487913, 0.07577569517647316, 0.03688624274642438, 0.013401205807688775, 0.0036346124568438945, 0.000745115071828433, 0.00020019671031306347, 0.000624449479303435, 0.003149667634534609, 0.01218292896661702, 0.03567584716090556, 0.07995012877805559, 0.13955329876458775, 0.1943152227598993, 0.22113839299573831, 0.20840780386801508, 0.1616214943104601, 0.10093140214358778, 0.04949940655820653, 0.01868339105811922, 0.005355482530271752, 0.0011566300152094488, 0.00018738146042384516, 2.2717441927026663e-05, 2.058462114790043e-06, 1.3933488173523978e-07, 7.796848750872446e-09, 1.8597168203252664e-08, 3.311678450148778e-07, 4.464975341352422e-06, 4.4930701838545646e-05, 0.00033745107527069246, 0.0018915677064686284, 0.007913642488346905, 0.024710095430934505, 0.057585863001822196, 0.10016149486539652, 0.13002569273208583, 0.1259798293387982, 0.09109956767086867, 0.049167154768501496, 0.01980511182577615, 0.005954194014279792, 0.0013360175490660373, 0.00022374405793782127, 2.804389592665625e-05, 3.925709960165039e-06, 1.6668597329478784e-05, 0.00015407480436798276, 0.0010747390597164927, 0.005598422488580012, 0.021793352915194325, 0.06352073283936696, 0.13930523310961354, 0.2327170074847957, 0.30500708772156393, 0.33347407569327964, 0.3330109340599556, 0.32276815753471233, 0.29770164561711415, 0.2536545806162603, 0.20937451220663592, 0.18033493749302162, 0.1561981026885991, 0.12502147436513592, 0.10253900721605344, 0.12208143240491333, 0.20290710111456445, 0.33139345197459447, 0.46560374090594786, 0.5575315519620678, 0.5782150829621397, 0.5288421750223876, 0.4351069260269467, 0.33396483440705393, 0.2539951808721757, 0.19679897170559843, 0.14509050969354778, 0.09152789601191642, 0.04703774536551931, 0.024811172755337136, 0.03301771837399928, 0.08117466531403907, 0.1744114758070337, 0.28957850636569, 0.3691216448159973, 0.36279037454103713, 0.2789486663029953, 0.1809943890510631, 0.13437701614940817, 0.1611265147330219, 0.22928248316670077, 0.2795799999278872, 0.2815965581228174, 0.2639819621938291, 0.26824836568758725, 0.28481798641285644, 0.26757542679571483, 0.20335940623028428, 0.1322494525510557, 0.09933513176830634, 0.10984031826650956, 0.131431297228856, 0.12903214789376607, 0.09626273877987833, 0.05377160028132247, 0.02243033777251803, 0.006984013891237261, 0.0016230256611585597, 0.00028150782200104255, 3.644175143076555e-05, 3.5208823889705343e-06, 2.5389097476813786e-07, 1.3664271100127554e-08, 5.48869549949048e-10, 1.645490072658767e-11, 3.681839528857519e-13, 6.148623582475447e-15, 7.66362803708508e-17, 7.129094795787001e-19, 4.949687977184068e-21, 2.5648662089021608e-23], \"type\": \"scatter\"}], \"name\": \"0\"}, {\"data\": [{\"marker\": {\"color\": \"red\", \"size\": 4}, \"mode\": \"markers\", \"name\": \"s2\", \"x\": [1.6243453636632417, -0.6117564136500754, -0.5281717522634557, -1.0729686221561705, 0.8654076293246785, -2.3015386968802827, 1.74481176421648, -0.7612069008951028, 0.31903909605709857, 4.75062962452259, 6.4621079370449745, 2.939859290502346, 4.677582795986493, 4.615945645331585, 6.133769442335438, 3.900108732685969, 4.8275717924495645, 4.122141582078628, 5.042213746715593, 5.582815213715822, 3.8993808227870788, 6.144723709839614, 5.901590720592796, 5.502494338901868, 5.900855949264412, 4.316272140825667, 4.877109774481352, 4.064230565740932, 4.732111920373984, 5.530355466738186], \"y\": [0.0, -0.0, -0.0, -0.0, 0.0, -0.0, 0.0, -0.0, 0.0, 0.0, 0.0, 0.0, 0.0, 0.0, 0.0, 0.0, 0.0, 0.0, 0.0, 0.0, 0.0, 0.0, 0.0, 0.0, 0.0, 0.0, 0.0, 0.0, 0.0, 0.0], \"type\": \"scatter\"}, {\"line\": {\"color\": \"rgb(0,0,0)\", \"width\": 2}, \"mode\": \"lines\", \"name\": \"s2\", \"opacity\": 1.0, \"x\": [-3.3015386968802827, -3.2474500203278946, -3.193361343775506, -3.139272667223118, -3.0851839906707297, -3.0310953141183417, -2.977006637565953, -2.922917961013565, -2.8688292844611767, -2.8147406079087887, -2.7606519313564, -2.706563254804012, -2.652474578251624, -2.5983859016992357, -2.5442972251468476, -2.490208548594459, -2.436119872042071, -2.3820311954896827, -2.3279425189372946, -2.2738538423849066, -2.219765165832518, -2.1656764892801297, -2.1115878127277417, -2.0574991361753536, -2.003410459622965, -1.949321783070577, -1.8952331065181887, -1.8411444299658006, -1.7870557534134124, -1.7329670768610241, -1.6788784003086359, -1.6247897237562476, -1.5707010472038594, -1.5166123706514711, -1.462523694099083, -1.4084350175466946, -1.3543463409943064, -1.3002576644419181, -1.2461689878895301, -1.1920803113371417, -1.1379916347847536, -1.0839029582323652, -1.0298142816799771, -0.9757256051275891, -0.9216369285752006, -0.8675482520228126, -0.8134595754704241, -0.7593708989180361, -0.7052822223656476, -0.6511935458132596, -0.5971048692608711, -0.5430161927084831, -0.48892751615609464, -0.4348388396037066, -0.3807501630513186, -0.3266614864989301, -0.2725728099465421, -0.21848413339415362, -0.1643954568417656, -0.11030678028937713, -0.0562181037369891, -0.0021294271846006296, 0.0519592493677874, 0.10604792592017587, 0.1601366024725639, 0.21422527902495192, 0.2683139555773404, 0.3224026321297284, 0.3764913086821169, 0.4305799852345049, 0.4846686617868934, 0.5387573383392814, 0.5928460148916699, 0.6469346914440579, 0.7010233679964464, 0.755112044548834, 0.8092007211012224, 0.8632893976536109, 0.9173780742059994, 0.971466750758387, 1.0255554273107754, 1.079644103863164, 1.1337327804155524, 1.18782145696794, 1.2419101335203284, 1.295998810072717, 1.3500874866251045, 1.404176163177493, 1.4582648397298814, 1.5123535162822699, 1.5664421928346575, 1.620530869387046, 1.6746195459394344, 1.7287082224918229, 1.7827968990442105, 1.836885575596599, 1.8909742521489874, 1.945062928701375, 1.9991516052537635, 2.053240281806152, 2.1073289583585404, 2.161417634910928, 2.2155063114633164, 2.269594988015705, 2.3236836645680934, 2.377772341120481, 2.4318610176728694, 2.485949694225258, 2.5400383707776455, 2.594127047330034, 2.6482157238824224, 2.702304400434811, 2.7563930769871985, 2.810481753539587, 2.8645704300919754, 2.918659106644364, 2.9727477831967515, 3.02683645974914, 3.0809251363015284, 3.135013812853916, 3.1891024894063045, 3.243191165958693, 3.2972798425110814, 3.351368519063469, 3.4054571956158575, 3.459545872168246, 3.5136345487206344, 3.567723225273022, 3.6218119018254105, 3.675900578377799, 3.7299892549301865, 3.784077931482575, 3.8381666080349635, 3.892255284587352, 3.9463439611397395, 4.000432637692128, 4.054521314244516, 4.108609990796905, 4.162698667349293, 4.2167873439016805, 4.27087602045407, 4.3249646970064575, 4.379053373558845, 4.433142050111234, 4.487230726663622, 4.54131940321601, 4.595408079768399, 4.6494967563207865, 4.703585432873176, 4.7576741094255635, 4.811762785977951, 4.86585146253034, 4.919940139082728, 4.974028815635117, 5.028117492187505, 5.0822061687398925, 5.136294845292282, 5.1903835218446694, 5.244472198397057, 5.298560874949446, 5.352649551501834, 5.4067382280542216, 5.460826904606611, 5.5149155811589985, 5.569004257711388, 5.623092934263775, 5.677181610816163, 5.731270287368552, 5.78535896392094, 5.8394476404733275, 5.893536317025717, 5.9476249935781045, 6.001713670130492, 6.055802346682881, 6.109891023235269, 6.163979699787658, 6.218068376340046, 6.2721570528924335, 6.326245729444823, 6.3803344059972105, 6.434423082549598, 6.488511759101987, 6.542600435654375, 6.596689112206763, 6.650777788759152, 6.7048664653115395, 6.758955141863929, 6.8130438184163165, 6.867132494968704, 6.921221171521093, 6.975309848073481, 7.029398524625869, 7.083487201178258, 7.1375758777306455, 7.191664554283033, 7.245753230835422, 7.29984190738781, 7.353930583940199, 7.408019260492587, 7.4621079370449745], \"y\": [1.2763400122705335e-08, 6.575803603289903e-08, 3.092791644004485e-07, 1.3279198800747125e-06, 5.204900862966574e-06, 1.8623977193589194e-05, 6.083475736017534e-05, 0.0001814055246202507, 0.0004938199350452805, 0.0012271738909216603, 0.0027839598997150775, 0.005765529836099628, 0.010900209682172963, 0.018812645014895615, 0.029640412876869155, 0.04263222673311868, 0.055977199208892485, 0.0670970911785832, 0.07342020633034899, 0.07334101032760576, 0.06688019897585305, 0.05567594641861826, 0.042311368204768836, 0.029353922453980826, 0.018590729827367546, 0.01074881844339671, 0.005674925691123886, 0.00274091344673669, 0.0012286436110075078, 0.0005667112046079032, 0.0004209344214177015, 0.000706555714463395, 0.0015865276105671321, 0.0034759608378839464, 0.007019389148810136, 0.012974001472328642, 0.021950252863119933, 0.03405134002460023, 0.04858475420354839, 0.06409224757316681, 0.07884337777317423, 0.09165210286730388, 0.10257640429073912, 0.11300616144574156, 0.12495096870350293, 0.13983171411218637, 0.1574070369610207, 0.17540210803671274, 0.19003199515926741, 0.19719647582798408, 0.193876195781582, 0.17921642341382082, 0.15489918575883777, 0.12465387791262243, 0.09309898111798161, 0.06440313509523793, 0.0413188432834073, 0.024916457543444348, 0.014972127343128023, 0.010672447415527328, 0.011228485563715146, 0.016119911880860212, 0.024909803152758894, 0.036790030921752835, 0.05017256167228801, 0.06266463083898717, 0.0715978543010179, 0.07496135289699386, 0.07229537048766387, 0.06505058248497624, 0.056173732608419874, 0.04907644520822571, 0.04642244646031306, 0.04919745758825292, 0.05637077099313072, 0.06524940509745229, 0.07241947716639673, 0.07496189278449263, 0.07147774421192511, 0.0624948644396519, 0.05011149370555161, 0.03712730423771915, 0.026152571352385766, 0.01910838197293648, 0.01720960577739754, 0.02119719138961451, 0.03146615340199927, 0.04787017995814109, 0.06926953949609163, 0.09314862156072418, 0.11569846907812947, 0.13256625379308484, 0.14009832635217115, 0.13656371345240498, 0.12277142785585593, 0.10176491624859495, 0.07773922174663281, 0.05469683591388256, 0.035420644504986054, 0.02109557014300297, 0.01154667747877919, 0.005807668696960258, 0.002696027707458329, 0.0011987430553667446, 0.0006386171753420948, 0.0006965583448841137, 0.0013835281312859675, 0.0030127835006230185, 0.006158251012586957, 0.011534423963718725, 0.019731949635158383, 0.03081712511066572, 0.04393771101781212, 0.05718769950892697, 0.06794966287879736, 0.07370408326970701, 0.07298204840554022, 0.06597271398127484, 0.054444542507856276, 0.04102763154793692, 0.02826096335059524, 0.017888710901292723, 0.010677549206164138, 0.006715343872403156, 0.005949381591416523, 0.00869256188152048, 0.015893671978806798, 0.02904527702412824, 0.049684710012808005, 0.07858232009440966, 0.11490728657129784, 0.1557968242336556, 0.19666722461444272, 0.232264138047875, 0.2580483583179552, 0.2713384509739446, 0.27180662496253427, 0.26130019777797103, 0.24326731333284737, 0.22213817669024355, 0.20286452740129957, 0.19056319424361606, 0.18999765047291867, 0.2046362970418969, 0.2353377279599638, 0.27918649845255317, 0.3292694700195083, 0.3759265351268706, 0.4092811418462518, 0.4220999827501341, 0.41176751790118593, 0.38059172633287097, 0.3345174744076581, 0.2810730158920231, 0.22757131727685007, 0.18017342822730448, 0.1437326395269942, 0.12185071053805298, 0.11658370369930153, 0.12768740683520025, 0.15187253930152178, 0.1828496532047184, 0.21270766215442063, 0.23441645376108258, 0.2443887748106646, 0.2437093300492584, 0.23722691776290178, 0.2309375205254686, 0.22911761610668785, 0.2327250483153214, 0.23964583543981444, 0.24619904016328525, 0.24879927971143606, 0.24503525286669836, 0.23409884972666944, 0.21681300897932532, 0.19534424885923737, 0.17250143663065126, 0.1507049669265466, 0.13109698252183521, 0.11335398295496013, 0.09634013324183274, 0.07914056441108239, 0.06177361894705953, 0.04518482810352191, 0.030668216252012694, 0.0191908518417518, 0.011027354257496414, 0.005804570657572631, 0.002794907722823283, 0.0012299772626280115, 0.0004944753983769638, 0.0001815454547558163, 6.0862031812596266e-05, 1.8628830904160036e-05, 5.2056894666024874e-06, 1.328036858747656e-06, 3.092950065776441e-07, 6.575999479375244e-08, 1.2763621230995246e-08], \"type\": \"scatter\"}], \"name\": \"1\"}, {\"data\": [{\"marker\": {\"color\": \"red\", \"size\": 4}, \"mode\": \"markers\", \"name\": \"s2\", \"x\": [1.6243453636632417, -0.6117564136500754, -0.5281717522634557, -1.0729686221561705, 0.8654076293246785, -2.3015386968802827, 1.74481176421648, -0.7612069008951028, 0.31903909605709857, 4.75062962452259, 6.4621079370449745, 2.939859290502346, 4.677582795986493, 4.615945645331585, 6.133769442335438, 3.900108732685969, 4.8275717924495645, 4.122141582078628, 5.042213746715593, 5.582815213715822, 3.8993808227870788, 6.144723709839614, 5.901590720592796, 5.502494338901868, 5.900855949264412, 4.316272140825667, 4.877109774481352, 4.064230565740932, 4.732111920373984, 5.530355466738186], \"y\": [0.0, -0.0, -0.0, -0.0, 0.0, -0.0, 0.0, -0.0, 0.0, 0.0, 0.0, 0.0, 0.0, 0.0, 0.0, 0.0, 0.0, 0.0, 0.0, 0.0, 0.0, 0.0, 0.0, 0.0, 0.0, 0.0, 0.0, 0.0, 0.0, 0.0], \"type\": \"scatter\"}, {\"line\": {\"color\": \"rgb(0,0,0)\", \"width\": 2}, \"mode\": \"lines\", \"name\": \"s2\", \"opacity\": 1.0, \"x\": [-3.3015386968802827, -3.2474500203278946, -3.193361343775506, -3.139272667223118, -3.0851839906707297, -3.0310953141183417, -2.977006637565953, -2.922917961013565, -2.8688292844611767, -2.8147406079087887, -2.7606519313564, -2.706563254804012, -2.652474578251624, -2.5983859016992357, -2.5442972251468476, -2.490208548594459, -2.436119872042071, -2.3820311954896827, -2.3279425189372946, -2.2738538423849066, -2.219765165832518, -2.1656764892801297, -2.1115878127277417, -2.0574991361753536, -2.003410459622965, -1.949321783070577, -1.8952331065181887, -1.8411444299658006, -1.7870557534134124, -1.7329670768610241, -1.6788784003086359, -1.6247897237562476, -1.5707010472038594, -1.5166123706514711, -1.462523694099083, -1.4084350175466946, -1.3543463409943064, -1.3002576644419181, -1.2461689878895301, -1.1920803113371417, -1.1379916347847536, -1.0839029582323652, -1.0298142816799771, -0.9757256051275891, -0.9216369285752006, -0.8675482520228126, -0.8134595754704241, -0.7593708989180361, -0.7052822223656476, -0.6511935458132596, -0.5971048692608711, -0.5430161927084831, -0.48892751615609464, -0.4348388396037066, -0.3807501630513186, -0.3266614864989301, -0.2725728099465421, -0.21848413339415362, -0.1643954568417656, -0.11030678028937713, -0.0562181037369891, -0.0021294271846006296, 0.0519592493677874, 0.10604792592017587, 0.1601366024725639, 0.21422527902495192, 0.2683139555773404, 0.3224026321297284, 0.3764913086821169, 0.4305799852345049, 0.4846686617868934, 0.5387573383392814, 0.5928460148916699, 0.6469346914440579, 0.7010233679964464, 0.755112044548834, 0.8092007211012224, 0.8632893976536109, 0.9173780742059994, 0.971466750758387, 1.0255554273107754, 1.079644103863164, 1.1337327804155524, 1.18782145696794, 1.2419101335203284, 1.295998810072717, 1.3500874866251045, 1.404176163177493, 1.4582648397298814, 1.5123535162822699, 1.5664421928346575, 1.620530869387046, 1.6746195459394344, 1.7287082224918229, 1.7827968990442105, 1.836885575596599, 1.8909742521489874, 1.945062928701375, 1.9991516052537635, 2.053240281806152, 2.1073289583585404, 2.161417634910928, 2.2155063114633164, 2.269594988015705, 2.3236836645680934, 2.377772341120481, 2.4318610176728694, 2.485949694225258, 2.5400383707776455, 2.594127047330034, 2.6482157238824224, 2.702304400434811, 2.7563930769871985, 2.810481753539587, 2.8645704300919754, 2.918659106644364, 2.9727477831967515, 3.02683645974914, 3.0809251363015284, 3.135013812853916, 3.1891024894063045, 3.243191165958693, 3.2972798425110814, 3.351368519063469, 3.4054571956158575, 3.459545872168246, 3.5136345487206344, 3.567723225273022, 3.6218119018254105, 3.675900578377799, 3.7299892549301865, 3.784077931482575, 3.8381666080349635, 3.892255284587352, 3.9463439611397395, 4.000432637692128, 4.054521314244516, 4.108609990796905, 4.162698667349293, 4.2167873439016805, 4.27087602045407, 4.3249646970064575, 4.379053373558845, 4.433142050111234, 4.487230726663622, 4.54131940321601, 4.595408079768399, 4.6494967563207865, 4.703585432873176, 4.7576741094255635, 4.811762785977951, 4.86585146253034, 4.919940139082728, 4.974028815635117, 5.028117492187505, 5.0822061687398925, 5.136294845292282, 5.1903835218446694, 5.244472198397057, 5.298560874949446, 5.352649551501834, 5.4067382280542216, 5.460826904606611, 5.5149155811589985, 5.569004257711388, 5.623092934263775, 5.677181610816163, 5.731270287368552, 5.78535896392094, 5.8394476404733275, 5.893536317025717, 5.9476249935781045, 6.001713670130492, 6.055802346682881, 6.109891023235269, 6.163979699787658, 6.218068376340046, 6.2721570528924335, 6.326245729444823, 6.3803344059972105, 6.434423082549598, 6.488511759101987, 6.542600435654375, 6.596689112206763, 6.650777788759152, 6.7048664653115395, 6.758955141863929, 6.8130438184163165, 6.867132494968704, 6.921221171521093, 6.975309848073481, 7.029398524625869, 7.083487201178258, 7.1375758777306455, 7.191664554283033, 7.245753230835422, 7.29984190738781, 7.353930583940199, 7.408019260492587, 7.4621079370449745], \"y\": [2.8693871168984398e-05, 6.313342786111892e-05, 0.00013295079769024936, 0.00026796858046595416, 0.0005169376389650173, 0.0009544513251309555, 0.0016866725097860532, 0.002852785373077471, 0.004618157951271044, 0.007155332462580756, 0.010610899562429032, 0.015060380425398987, 0.02045884137925923, 0.02660035839954217, 0.03310208247440308, 0.039426167391004574, 0.04494437397517484, 0.049037457269715624, 0.05120863575313603, 0.05118271914844473, 0.04896372240021508, 0.0448345465676755, 0.03929911233309605, 0.03298407938058073, 0.026527881511921387, 0.020485830091972048, 0.015272012853718847, 0.011145471306774127, 0.008234778947200308, 0.006585813313699512, 0.0062141045435955685, 0.0071452763380102854, 0.009433051022897205, 0.013152042861335323, 0.01837032946133625, 0.025112995556433097, 0.03333091876014816, 0.04288761579530459, 0.053570494645916844, 0.0651226953397637, 0.07728135301452713, 0.08980235872716164, 0.10245447108220142, 0.11497766744001298, 0.12701815639773992, 0.13806818709637333, 0.1474448599541447, 0.15433405405411524, 0.15790476985612192, 0.157472966380497, 0.15267266843296587, 0.14358459575005542, 0.13078231591395884, 0.11527951465841148, 0.09839055092384374, 0.08153955671555417, 0.06606327498151766, 0.05304769160851475, 0.04322247689874901, 0.03691817961327269, 0.03407675920364587, 0.034300576540665574, 0.036927527876111546, 0.041125784692101736, 0.046004805661675974, 0.05073647860559644, 0.05467231407383681, 0.0574343708504504, 0.058955251890071704, 0.059450209470779704, 0.059321654176147105, 0.05901771825371629, 0.05888369016523613, 0.05905062118367464, 0.059395937360150225, 0.05958905510081463, 0.059208325590145855, 0.0578935605693527, 0.05548844229617881, 0.052131965403259484, 0.048274744179069594, 0.04461764495049724, 0.041989191205388965, 0.04118951005165276, 0.04283136469465946, 0.04720561436800021, 0.05419287037669424, 0.06323730401445235, 0.07339208704560728, 0.08343683945541841, 0.0920545565828691, 0.0980404815134205, 0.10050307329264359, 0.09901350722683434, 0.09366884290974208, 0.0850542410950049, 0.07411550200273913, 0.061976045757658214, 0.04974451482000842, 0.03835693989252742, 0.028482822309078833, 0.02050364970367013, 0.014552603421662742, 0.010591123626503064, 0.008493796820452341, 0.008116739845220534, 0.00933348237514891, 0.012033282461898125, 0.016087525373202377, 0.021298730324376774, 0.027352309479466378, 0.03379211414463868, 0.04003583657244453, 0.045435695794665804, 0.049375851489685166, 0.051385021312118244, 0.0512357968574317, 0.049004499809171105, 0.04507688186148696, 0.04010139524872526, 0.03490662781479879, 0.03040683534163246, 0.027516683123527643, 0.027085295693451413, 0.029846166374856764, 0.03637013987337897, 0.04700831564998642, 0.06182095519700508, 0.08050344039036045, 0.10233420075137742, 0.12617536917349445, 0.15055067628552052, 0.17380744913575585, 0.1943459010697476, 0.2108770909622308, 0.22265821410692122, 0.229654008566631, 0.23258526857541842, 0.23284564152120282, 0.23229100927876353, 0.232927984333133, 0.23654730105949867, 0.24436266174711638, 0.2567233470155456, 0.27296552990766726, 0.2914488176263537, 0.30979055313277415, 0.3252663891716807, 0.3353031350487803, 0.33796269431380715, 0.3323142915195307, 0.31861778700312143, 0.29828560944227517, 0.2736403603714156, 0.24752521983519418, 0.2228464306379666, 0.20213065523204998, 0.1871696547666081, 0.17880623194760448, 0.17689184044196998, 0.1804181369985779, 0.1877927842787378, 0.1971985089324535, 0.20695277827790473, 0.21578356212971897, 0.2229597013152091, 0.22825799027941923, 0.2317991016674353, 0.23382262534347611, 0.23448356124572742, 0.23373514280885915, 0.23132451871986415, 0.2268848688899577, 0.22007633435494856, 0.21071845630723693, 0.19886891242572605, 0.18482940674233925, 0.16908797304160267, 0.15222704891455768, 0.13483248203475512, 0.11743034223020382, 0.10046159630150304, 0.08428752655176892, 0.06920839273210702, 0.05547743462859201, 0.043300161598742316, 0.03281979377730496, 0.02409802888877514, 0.01710262270258983, 0.011709689252635687, 0.007721968672585764, 0.004898168207915563, 0.00298535298515372, 0.0017467930500114338, 0.0009805651334791382, 0.000527800129392598, 0.0002722953007846264, 0.0001346009493852089, 6.373598167652119e-05, 2.890451606396511e-05], \"type\": \"scatter\"}], \"name\": \"2\"}, {\"data\": [{\"marker\": {\"color\": \"red\", \"size\": 4}, \"mode\": \"markers\", \"name\": \"s2\", \"x\": [1.6243453636632417, -0.6117564136500754, -0.5281717522634557, -1.0729686221561705, 0.8654076293246785, -2.3015386968802827, 1.74481176421648, -0.7612069008951028, 0.31903909605709857, 4.75062962452259, 6.4621079370449745, 2.939859290502346, 4.677582795986493, 4.615945645331585, 6.133769442335438, 3.900108732685969, 4.8275717924495645, 4.122141582078628, 5.042213746715593, 5.582815213715822, 3.8993808227870788, 6.144723709839614, 5.901590720592796, 5.502494338901868, 5.900855949264412, 4.316272140825667, 4.877109774481352, 4.064230565740932, 4.732111920373984, 5.530355466738186], \"y\": [0.0, -0.0, -0.0, -0.0, 0.0, -0.0, 0.0, -0.0, 0.0, 0.0, 0.0, 0.0, 0.0, 0.0, 0.0, 0.0, 0.0, 0.0, 0.0, 0.0, 0.0, 0.0, 0.0, 0.0, 0.0, 0.0, 0.0, 0.0, 0.0, 0.0], \"type\": \"scatter\"}, {\"line\": {\"color\": \"rgb(0,0,0)\", \"width\": 2}, \"mode\": \"lines\", \"name\": \"s2\", \"opacity\": 1.0, \"x\": [-3.3015386968802827, -3.2474500203278946, -3.193361343775506, -3.139272667223118, -3.0851839906707297, -3.0310953141183417, -2.977006637565953, -2.922917961013565, -2.8688292844611767, -2.8147406079087887, -2.7606519313564, -2.706563254804012, -2.652474578251624, -2.5983859016992357, -2.5442972251468476, -2.490208548594459, -2.436119872042071, -2.3820311954896827, -2.3279425189372946, -2.2738538423849066, -2.219765165832518, -2.1656764892801297, -2.1115878127277417, -2.0574991361753536, -2.003410459622965, -1.949321783070577, -1.8952331065181887, -1.8411444299658006, -1.7870557534134124, -1.7329670768610241, -1.6788784003086359, -1.6247897237562476, -1.5707010472038594, -1.5166123706514711, -1.462523694099083, -1.4084350175466946, -1.3543463409943064, -1.3002576644419181, -1.2461689878895301, -1.1920803113371417, -1.1379916347847536, -1.0839029582323652, -1.0298142816799771, -0.9757256051275891, -0.9216369285752006, -0.8675482520228126, -0.8134595754704241, -0.7593708989180361, -0.7052822223656476, -0.6511935458132596, -0.5971048692608711, -0.5430161927084831, -0.48892751615609464, -0.4348388396037066, -0.3807501630513186, -0.3266614864989301, -0.2725728099465421, -0.21848413339415362, -0.1643954568417656, -0.11030678028937713, -0.0562181037369891, -0.0021294271846006296, 0.0519592493677874, 0.10604792592017587, 0.1601366024725639, 0.21422527902495192, 0.2683139555773404, 0.3224026321297284, 0.3764913086821169, 0.4305799852345049, 0.4846686617868934, 0.5387573383392814, 0.5928460148916699, 0.6469346914440579, 0.7010233679964464, 0.755112044548834, 0.8092007211012224, 0.8632893976536109, 0.9173780742059994, 0.971466750758387, 1.0255554273107754, 1.079644103863164, 1.1337327804155524, 1.18782145696794, 1.2419101335203284, 1.295998810072717, 1.3500874866251045, 1.404176163177493, 1.4582648397298814, 1.5123535162822699, 1.5664421928346575, 1.620530869387046, 1.6746195459394344, 1.7287082224918229, 1.7827968990442105, 1.836885575596599, 1.8909742521489874, 1.945062928701375, 1.9991516052537635, 2.053240281806152, 2.1073289583585404, 2.161417634910928, 2.2155063114633164, 2.269594988015705, 2.3236836645680934, 2.377772341120481, 2.4318610176728694, 2.485949694225258, 2.5400383707776455, 2.594127047330034, 2.6482157238824224, 2.702304400434811, 2.7563930769871985, 2.810481753539587, 2.8645704300919754, 2.918659106644364, 2.9727477831967515, 3.02683645974914, 3.0809251363015284, 3.135013812853916, 3.1891024894063045, 3.243191165958693, 3.2972798425110814, 3.351368519063469, 3.4054571956158575, 3.459545872168246, 3.5136345487206344, 3.567723225273022, 3.6218119018254105, 3.675900578377799, 3.7299892549301865, 3.784077931482575, 3.8381666080349635, 3.892255284587352, 3.9463439611397395, 4.000432637692128, 4.054521314244516, 4.108609990796905, 4.162698667349293, 4.2167873439016805, 4.27087602045407, 4.3249646970064575, 4.379053373558845, 4.433142050111234, 4.487230726663622, 4.54131940321601, 4.595408079768399, 4.6494967563207865, 4.703585432873176, 4.7576741094255635, 4.811762785977951, 4.86585146253034, 4.919940139082728, 4.974028815635117, 5.028117492187505, 5.0822061687398925, 5.136294845292282, 5.1903835218446694, 5.244472198397057, 5.298560874949446, 5.352649551501834, 5.4067382280542216, 5.460826904606611, 5.5149155811589985, 5.569004257711388, 5.623092934263775, 5.677181610816163, 5.731270287368552, 5.78535896392094, 5.8394476404733275, 5.893536317025717, 5.9476249935781045, 6.001713670130492, 6.055802346682881, 6.109891023235269, 6.163979699787658, 6.218068376340046, 6.2721570528924335, 6.326245729444823, 6.3803344059972105, 6.434423082549598, 6.488511759101987, 6.542600435654375, 6.596689112206763, 6.650777788759152, 6.7048664653115395, 6.758955141863929, 6.8130438184163165, 6.867132494968704, 6.921221171521093, 6.975309848073481, 7.029398524625869, 7.083487201178258, 7.1375758777306455, 7.191664554283033, 7.245753230835422, 7.29984190738781, 7.353930583940199, 7.408019260492587, 7.4621079370449745], \"y\": [0.0004888177298031784, 0.0007758818132676058, 0.0012002997576297794, 0.0018097950440711947, 0.0026595895102375774, 0.0038093018515606147, 0.00531767459770088, 0.00723508743867519, 0.009594262041090608, 0.012400104113624194, 0.015620157437745507, 0.019177519814330104, 0.022948144611645176, 0.02676411458798784, 0.030423701460682438, 0.03370790390977848, 0.036401891372271275, 0.03831865181027489, 0.039321438188754, 0.03934154610484567, 0.03838860405287754, 0.03655180923599346, 0.0339921258310906, 0.0309270168005173, 0.027610448534950927, 0.02431143828107917, 0.021294227635785874, 0.018802368297142807, 0.017047852304267298, 0.016205227823776102, 0.01640970469331128, 0.01775775632283671, 0.020308704163436036, 0.024086126160852928, 0.029078469584764323, 0.03523876283199368, 0.04248365803456367, 0.050692149168461285, 0.059704263861276766, 0.06931996204268794, 0.07929853874629722, 0.08935910013296264, 0.09918311639796105, 0.10842047857653819, 0.11670064568844726, 0.12365012789175851, 0.1289165975169288, 0.13219844094207417, 0.13327686137920594, 0.13204616424742252, 0.12853707041552556, 0.12292814526031828, 0.11554179129665659, 0.10682352362061338, 0.09730597788651615, 0.08756171178487385, 0.0781508044022494, 0.06957015187711327, 0.062211066627658906, 0.056330424790658966, 0.05203847582039218, 0.04930393064327507, 0.0479744898968753, 0.047808916699544526, 0.048515368674658735, 0.049790155193903715, 0.05135144881669285, 0.052963709013999494, 0.05445049231958037, 0.05569560946970267, 0.0566348216429962, 0.05724198235355022, 0.05751433543288811, 0.057461359999415, 0.05710015748523057, 0.056458224520886, 0.055582077966583876, 0.05454820135011437, 0.053471690635518355, 0.05250809569161796, 0.05184528597320768, 0.051684420614034346, 0.05221176011978185, 0.05356551207042362, 0.05580359674161118, 0.05887875636787606, 0.06262666149677093, 0.06677070262161319, 0.0709443482748344, 0.07472882884865173, 0.07770107180702218, 0.07948483341765493, 0.0797972557589279, 0.07848378968998605, 0.07553643444407293, 0.07109314442015209, 0.06541944232309879, 0.05887609767727443, 0.051878623492272534, 0.04485498653374083, 0.03820729718750353, 0.032281616569051284, 0.02734787279017824, 0.023589769083820825, 0.021102974804019244, 0.01989910904403996, 0.019913103767022662, 0.02101228360883031, 0.023006575231452286, 0.025660257664202962, 0.02870624276638358, 0.03186383798960616, 0.03486029407705232, 0.0374553666878724, 0.03946693727100596, 0.0407947903433645, 0.0414392087558392, 0.041511258873226, 0.04123245534911702, 0.04092273683988679, 0.040977091225393676, 0.0418324948319933, 0.04392790894372825, 0.04766085054510299, 0.05334454879550869, 0.06116996355519722, 0.0711769827742387, 0.08323885352036685, 0.09706318643616221, 0.11221154708121131, 0.12813763892441127, 0.1442414970282674, 0.1599342739013827, 0.1747056275823251, 0.18818402832501033, 0.20018004104522766, 0.21070416024249103, 0.21995408107386777, 0.22827100394894811, 0.23606995378625728, 0.24375417412708575, 0.2516273995717465, 0.25981934239271504, 0.2682385327933938, 0.2765627132318594, 0.2842708498604724, 0.29071352860473204, 0.29521140588877437, 0.29716588789919085, 0.29616346614947964, 0.2920557710598724, 0.285001373630825, 0.2754619395684909, 0.26415325743564094, 0.2519593933311926, 0.2398242968812073, 0.228638484255336, 0.2191384179701341, 0.21183302329016496, 0.20696618152965596, 0.20451722723367863, 0.20423484805420908, 0.20569463985280917, 0.2083678258924953, 0.21168866046356385, 0.21511052572391828, 0.21814487598052903, 0.22038184862821536, 0.221495393596233, 0.22123830508162162, 0.21943319215772458, 0.2159643652654819, 0.21077344863116992, 0.20385907102945433, 0.195279001353464, 0.18515207179180676, 0.17365728523501883, 0.1610284042996983, 0.14754362589762063, 0.13351118541221135, 0.11925256138528043, 0.105085227203933, 0.09130668713808601, 0.07818103761773927, 0.0659287370366392, 0.054719816387542954, 0.044670484861625046, 0.03584295096524269, 0.028248210992414292, 0.021851474611583675, 0.016579764176846985, 0.01233105484046913, 0.008984169226725682, 0.006408564577031496, 0.0044731929208233975, 0.0030537801490369584, 0.002038125263796837, 0.0013293108060159742, 0.0008469802287907016, 0.000527032331656226], \"type\": \"scatter\"}], \"name\": \"3\"}, {\"data\": [{\"marker\": {\"color\": \"red\", \"size\": 4}, \"mode\": \"markers\", \"name\": \"s2\", \"x\": [1.6243453636632417, -0.6117564136500754, -0.5281717522634557, -1.0729686221561705, 0.8654076293246785, -2.3015386968802827, 1.74481176421648, -0.7612069008951028, 0.31903909605709857, 4.75062962452259, 6.4621079370449745, 2.939859290502346, 4.677582795986493, 4.615945645331585, 6.133769442335438, 3.900108732685969, 4.8275717924495645, 4.122141582078628, 5.042213746715593, 5.582815213715822, 3.8993808227870788, 6.144723709839614, 5.901590720592796, 5.502494338901868, 5.900855949264412, 4.316272140825667, 4.877109774481352, 4.064230565740932, 4.732111920373984, 5.530355466738186], \"y\": [0.0, -0.0, -0.0, -0.0, 0.0, -0.0, 0.0, -0.0, 0.0, 0.0, 0.0, 0.0, 0.0, 0.0, 0.0, 0.0, 0.0, 0.0, 0.0, 0.0, 0.0, 0.0, 0.0, 0.0, 0.0, 0.0, 0.0, 0.0, 0.0, 0.0], \"type\": \"scatter\"}, {\"line\": {\"color\": \"rgb(0,0,0)\", \"width\": 2}, \"mode\": \"lines\", \"name\": \"s2\", \"opacity\": 1.0, \"x\": [-3.3015386968802827, -3.2474500203278946, -3.193361343775506, -3.139272667223118, -3.0851839906707297, -3.0310953141183417, -2.977006637565953, -2.922917961013565, -2.8688292844611767, -2.8147406079087887, -2.7606519313564, -2.706563254804012, -2.652474578251624, -2.5983859016992357, -2.5442972251468476, -2.490208548594459, -2.436119872042071, -2.3820311954896827, -2.3279425189372946, -2.2738538423849066, -2.219765165832518, -2.1656764892801297, -2.1115878127277417, -2.0574991361753536, -2.003410459622965, -1.949321783070577, -1.8952331065181887, -1.8411444299658006, -1.7870557534134124, -1.7329670768610241, -1.6788784003086359, -1.6247897237562476, -1.5707010472038594, -1.5166123706514711, -1.462523694099083, -1.4084350175466946, -1.3543463409943064, -1.3002576644419181, -1.2461689878895301, -1.1920803113371417, -1.1379916347847536, -1.0839029582323652, -1.0298142816799771, -0.9757256051275891, -0.9216369285752006, -0.8675482520228126, -0.8134595754704241, -0.7593708989180361, -0.7052822223656476, -0.6511935458132596, -0.5971048692608711, -0.5430161927084831, -0.48892751615609464, -0.4348388396037066, -0.3807501630513186, -0.3266614864989301, -0.2725728099465421, -0.21848413339415362, -0.1643954568417656, -0.11030678028937713, -0.0562181037369891, -0.0021294271846006296, 0.0519592493677874, 0.10604792592017587, 0.1601366024725639, 0.21422527902495192, 0.2683139555773404, 0.3224026321297284, 0.3764913086821169, 0.4305799852345049, 0.4846686617868934, 0.5387573383392814, 0.5928460148916699, 0.6469346914440579, 0.7010233679964464, 0.755112044548834, 0.8092007211012224, 0.8632893976536109, 0.9173780742059994, 0.971466750758387, 1.0255554273107754, 1.079644103863164, 1.1337327804155524, 1.18782145696794, 1.2419101335203284, 1.295998810072717, 1.3500874866251045, 1.404176163177493, 1.4582648397298814, 1.5123535162822699, 1.5664421928346575, 1.620530869387046, 1.6746195459394344, 1.7287082224918229, 1.7827968990442105, 1.836885575596599, 1.8909742521489874, 1.945062928701375, 1.9991516052537635, 2.053240281806152, 2.1073289583585404, 2.161417634910928, 2.2155063114633164, 2.269594988015705, 2.3236836645680934, 2.377772341120481, 2.4318610176728694, 2.485949694225258, 2.5400383707776455, 2.594127047330034, 2.6482157238824224, 2.702304400434811, 2.7563930769871985, 2.810481753539587, 2.8645704300919754, 2.918659106644364, 2.9727477831967515, 3.02683645974914, 3.0809251363015284, 3.135013812853916, 3.1891024894063045, 3.243191165958693, 3.2972798425110814, 3.351368519063469, 3.4054571956158575, 3.459545872168246, 3.5136345487206344, 3.567723225273022, 3.6218119018254105, 3.675900578377799, 3.7299892549301865, 3.784077931482575, 3.8381666080349635, 3.892255284587352, 3.9463439611397395, 4.000432637692128, 4.054521314244516, 4.108609990796905, 4.162698667349293, 4.2167873439016805, 4.27087602045407, 4.3249646970064575, 4.379053373558845, 4.433142050111234, 4.487230726663622, 4.54131940321601, 4.595408079768399, 4.6494967563207865, 4.703585432873176, 4.7576741094255635, 4.811762785977951, 4.86585146253034, 4.919940139082728, 4.974028815635117, 5.028117492187505, 5.0822061687398925, 5.136294845292282, 5.1903835218446694, 5.244472198397057, 5.298560874949446, 5.352649551501834, 5.4067382280542216, 5.460826904606611, 5.5149155811589985, 5.569004257711388, 5.623092934263775, 5.677181610816163, 5.731270287368552, 5.78535896392094, 5.8394476404733275, 5.893536317025717, 5.9476249935781045, 6.001713670130492, 6.055802346682881, 6.109891023235269, 6.163979699787658, 6.218068376340046, 6.2721570528924335, 6.326245729444823, 6.3803344059972105, 6.434423082549598, 6.488511759101987, 6.542600435654375, 6.596689112206763, 6.650777788759152, 6.7048664653115395, 6.758955141863929, 6.8130438184163165, 6.867132494968704, 6.921221171521093, 6.975309848073481, 7.029398524625869, 7.083487201178258, 7.1375758777306455, 7.191664554283033, 7.245753230835422, 7.29984190738781, 7.353930583940199, 7.408019260492587, 7.4621079370449745], \"y\": [0.001791582320177934, 0.002425965296686863, 0.0032300928405984346, 0.004228910865454268, 0.005444097553751041, 0.006891411628304454, 0.008577821543022853, 0.010498680044435901, 0.0126352764291925, 0.014953135830860205, 0.017401427256247503, 0.01991378091930299, 0.02241069942557239, 0.024803584765211505, 0.027000211719661035, 0.028911283746313597, 0.030457539160404893, 0.03157676173305065, 0.03223001220119912, 0.0324064458393151, 0.032126212406217415, 0.031441130793096496, 0.030433062919929536, 0.029210145445612345, 0.02790123988829068, 0.02664910482876929, 0.025602862471171314, 0.02491032401287352, 0.024710664946806772, 0.025127823183445384, 0.026264855270369834, 0.028199354332901657, 0.030979928383753682, 0.034623672590686404, 0.039114548621936696, 0.044402604935209596, 0.05040402399192996, 0.057002051562736494, 0.06404893276661847, 0.07136903177178172, 0.07876333065681129, 0.08601547404198483, 0.0928994409603182, 0.09918878264389121, 0.10466717269271222, 0.10913979365379102, 0.11244486099893922, 0.11446439903143167, 0.11513327273054182, 0.11444547929780104, 0.11245683483327798, 0.10928345763069415, 0.1050958298949512, 0.10010867218097726, 0.09456733073838434, 0.08873179075523095, 0.08285972532803078, 0.0771901227737369, 0.07192897940420893, 0.0672383056094574, 0.06322930309738156, 0.059960086722441214, 0.0574378156482513, 0.055624637812238364, 0.054446500974254755, 0.05380368507526719, 0.05358187965608055, 0.0536627539089726, 0.05393320799851985, 0.0542927981696154, 0.05465913449649791, 0.054971304478158366, 0.05519154004080698, 0.05530540528523351, 0.05532074837218679, 0.05526556607077966, 0.055184820098275564, 0.05513616899261398, 0.0551845764978789, 0.05539584604008679, 0.05582930413955135, 0.056530081715177184, 0.057521670392789166, 0.05879960223865939, 0.06032716202102423, 0.06203395518400037, 0.06381791337704214, 0.06555094480772199, 0.06708797948854575, 0.06827869003854653, 0.06898076432580491, 0.06907333634461373, 0.06846909464887896, 0.06712370141030294, 0.06504145411812172, 0.062276560134944, 0.05892990453685967, 0.055141698197340674, 0.05108082558590777, 0.04693201721388581, 0.04288212205661425, 0.03910674976954834, 0.03575841400621904, 0.0329570755624602, 0.030783702402046215, 0.029277174229719365, 0.028434592667361074, 0.02821483048303084, 0.02854496742544308, 0.02932910937942408, 0.030458961822450975, 0.03182542070901423, 0.033330353815122435, 0.03489768177915342, 0.036482846281537445, 0.0380797918685979, 0.03972470446351474, 0.04149595263549822, 0.04350996454447458, 0.045913127825358835, 0.048870192035525784, 0.05255004371155743, 0.05711006656246217, 0.06268054725621355, 0.06935069929328957, 0.07715782332625061, 0.08608088803226266, 0.09603940791621615, 0.10689794304170108, 0.11847590382286682, 0.1305616850828152, 0.14292956439204577, 0.15535736979525872, 0.16764273023539258, 0.17961582185415007, 0.19114693023026122, 0.20214783113075221, 0.21256687095973534, 0.22237858230865876, 0.23156955426270065, 0.24012294337353296, 0.2480043348619827, 0.25515156783762905, 0.26147061193792065, 0.2668386874723458, 0.2711146855956211, 0.2741557461409643, 0.2758377846828131, 0.27607700844603617, 0.27484915631834483, 0.27220340191164294, 0.26826854541627265, 0.2632501828023162, 0.25741880901480213, 0.2510900812174148, 0.24459953807355309, 0.23827477926577997, 0.23240835970279594, 0.2272344293150998, 0.22291151548185076, 0.21951292794786692, 0.2170252292720925, 0.21535422586723427, 0.21433713836998097, 0.2137590996465008, 0.2133719383569142, 0.21291331115707082, 0.21212457677639102, 0.2107662639829725, 0.20863047309345217, 0.20554998392081542, 0.20140416822120616, 0.19612200240627187, 0.18968255780576268, 0.18211334340719032, 0.17348683072182233, 0.16391544009140377, 0.15354523869734138, 0.14254860382133872, 0.13111613715251833, 0.11944816355788869, 0.10774619276318269, 0.09620474806690323, 0.08500396100765249, 0.07430329041696687, 0.06423665106204386, 0.054909139001241454, 0.046395428800388494, 0.03873980369916458, 0.03195767459013932, 0.02603835618726693, 0.020948805356196098, 0.016637990842005557, 0.013041556419788188, 0.010086459095242117, 0.007695306387046388, 0.005790176071819104, 0.004295770995865344, 0.0031418331769882805, 0.0022648084205501217], \"type\": \"scatter\"}], \"name\": \"4\"}, {\"data\": [{\"marker\": {\"color\": \"red\", \"size\": 4}, \"mode\": \"markers\", \"name\": \"s2\", \"x\": [1.6243453636632417, -0.6117564136500754, -0.5281717522634557, -1.0729686221561705, 0.8654076293246785, -2.3015386968802827, 1.74481176421648, -0.7612069008951028, 0.31903909605709857, 4.75062962452259, 6.4621079370449745, 2.939859290502346, 4.677582795986493, 4.615945645331585, 6.133769442335438, 3.900108732685969, 4.8275717924495645, 4.122141582078628, 5.042213746715593, 5.582815213715822, 3.8993808227870788, 6.144723709839614, 5.901590720592796, 5.502494338901868, 5.900855949264412, 4.316272140825667, 4.877109774481352, 4.064230565740932, 4.732111920373984, 5.530355466738186], \"y\": [0.0, -0.0, -0.0, -0.0, 0.0, -0.0, 0.0, -0.0, 0.0, 0.0, 0.0, 0.0, 0.0, 0.0, 0.0, 0.0, 0.0, 0.0, 0.0, 0.0, 0.0, 0.0, 0.0, 0.0, 0.0, 0.0, 0.0, 0.0, 0.0, 0.0], \"type\": \"scatter\"}, {\"line\": {\"color\": \"rgb(0,0,0)\", \"width\": 2}, \"mode\": \"lines\", \"name\": \"s2\", \"opacity\": 1.0, \"x\": [-3.3015386968802827, -3.2474500203278946, -3.193361343775506, -3.139272667223118, -3.0851839906707297, -3.0310953141183417, -2.977006637565953, -2.922917961013565, -2.8688292844611767, -2.8147406079087887, -2.7606519313564, -2.706563254804012, -2.652474578251624, -2.5983859016992357, -2.5442972251468476, -2.490208548594459, -2.436119872042071, -2.3820311954896827, -2.3279425189372946, -2.2738538423849066, -2.219765165832518, -2.1656764892801297, -2.1115878127277417, -2.0574991361753536, -2.003410459622965, -1.949321783070577, -1.8952331065181887, -1.8411444299658006, -1.7870557534134124, -1.7329670768610241, -1.6788784003086359, -1.6247897237562476, -1.5707010472038594, -1.5166123706514711, -1.462523694099083, -1.4084350175466946, -1.3543463409943064, -1.3002576644419181, -1.2461689878895301, -1.1920803113371417, -1.1379916347847536, -1.0839029582323652, -1.0298142816799771, -0.9757256051275891, -0.9216369285752006, -0.8675482520228126, -0.8134595754704241, -0.7593708989180361, -0.7052822223656476, -0.6511935458132596, -0.5971048692608711, -0.5430161927084831, -0.48892751615609464, -0.4348388396037066, -0.3807501630513186, -0.3266614864989301, -0.2725728099465421, -0.21848413339415362, -0.1643954568417656, -0.11030678028937713, -0.0562181037369891, -0.0021294271846006296, 0.0519592493677874, 0.10604792592017587, 0.1601366024725639, 0.21422527902495192, 0.2683139555773404, 0.3224026321297284, 0.3764913086821169, 0.4305799852345049, 0.4846686617868934, 0.5387573383392814, 0.5928460148916699, 0.6469346914440579, 0.7010233679964464, 0.755112044548834, 0.8092007211012224, 0.8632893976536109, 0.9173780742059994, 0.971466750758387, 1.0255554273107754, 1.079644103863164, 1.1337327804155524, 1.18782145696794, 1.2419101335203284, 1.295998810072717, 1.3500874866251045, 1.404176163177493, 1.4582648397298814, 1.5123535162822699, 1.5664421928346575, 1.620530869387046, 1.6746195459394344, 1.7287082224918229, 1.7827968990442105, 1.836885575596599, 1.8909742521489874, 1.945062928701375, 1.9991516052537635, 2.053240281806152, 2.1073289583585404, 2.161417634910928, 2.2155063114633164, 2.269594988015705, 2.3236836645680934, 2.377772341120481, 2.4318610176728694, 2.485949694225258, 2.5400383707776455, 2.594127047330034, 2.6482157238824224, 2.702304400434811, 2.7563930769871985, 2.810481753539587, 2.8645704300919754, 2.918659106644364, 2.9727477831967515, 3.02683645974914, 3.0809251363015284, 3.135013812853916, 3.1891024894063045, 3.243191165958693, 3.2972798425110814, 3.351368519063469, 3.4054571956158575, 3.459545872168246, 3.5136345487206344, 3.567723225273022, 3.6218119018254105, 3.675900578377799, 3.7299892549301865, 3.784077931482575, 3.8381666080349635, 3.892255284587352, 3.9463439611397395, 4.000432637692128, 4.054521314244516, 4.108609990796905, 4.162698667349293, 4.2167873439016805, 4.27087602045407, 4.3249646970064575, 4.379053373558845, 4.433142050111234, 4.487230726663622, 4.54131940321601, 4.595408079768399, 4.6494967563207865, 4.703585432873176, 4.7576741094255635, 4.811762785977951, 4.86585146253034, 4.919940139082728, 4.974028815635117, 5.028117492187505, 5.0822061687398925, 5.136294845292282, 5.1903835218446694, 5.244472198397057, 5.298560874949446, 5.352649551501834, 5.4067382280542216, 5.460826904606611, 5.5149155811589985, 5.569004257711388, 5.623092934263775, 5.677181610816163, 5.731270287368552, 5.78535896392094, 5.8394476404733275, 5.893536317025717, 5.9476249935781045, 6.001713670130492, 6.055802346682881, 6.109891023235269, 6.163979699787658, 6.218068376340046, 6.2721570528924335, 6.326245729444823, 6.3803344059972105, 6.434423082549598, 6.488511759101987, 6.542600435654375, 6.596689112206763, 6.650777788759152, 6.7048664653115395, 6.758955141863929, 6.8130438184163165, 6.867132494968704, 6.921221171521093, 6.975309848073481, 7.029398524625869, 7.083487201178258, 7.1375758777306455, 7.191664554283033, 7.245753230835422, 7.29984190738781, 7.353930583940199, 7.408019260492587, 7.4621079370449745], \"y\": [0.0035103417538880632, 0.004348692148442776, 0.0053237110589142095, 0.006440528637685577, 0.0076999158184964086, 0.009097374379384347, 0.010622400310028262, 0.01225801627840663, 0.013980664074710616, 0.015760532962080964, 0.017562374776977117, 0.019346822508489812, 0.021072188310996085, 0.02269667294349398, 0.024180875743483356, 0.02549045700808532, 0.02659877739325982, 0.027489325149357185, 0.028157743859278838, 0.02861329134474987, 0.02887959329075579, 0.028994599997582193, 0.029009707313573815, 0.028988058302882095, 0.029002095536725597, 0.029130480575619205, 0.029454533810824822, 0.03005437234496609, 0.031004935530706042, 0.03237208807360628, 0.03420898123755294, 0.03655283627101115, 0.03942229338239867, 0.04281544670525654, 0.04670866219769069, 0.05105625182702438, 0.05579105324746832, 0.060825938290404336, 0.06605624440586884, 0.07136308931855567, 0.07661748986064384, 0.08168516161321243, 0.08643182845612024, 0.0907288237325231, 0.09445872214102533, 0.09752070919964197, 0.09983537887106703, 0.10134865470646107, 0.102034559100201, 0.10189661005611626, 0.10096770347977897, 0.09930843661968651, 0.09700393728233789, 0.09415937414374607, 0.09089442513464106, 0.08733706300462157, 0.08361707089021919, 0.0798597199434337, 0.07618002340390546, 0.07267792854541247, 0.06943472519282926, 0.06651084565215529, 0.0639451166195219, 0.061755410277495766, 0.05994053991427545, 0.05848316356190382, 0.05735340299917591, 0.056512857372821884, 0.05591868985596412, 0.05552748877983927, 0.05529864640843027, 0.05519705311387168, 0.05519496649530049, 0.05527297920435982, 0.05542007238064433, 0.055632801364326946, 0.055913715327119244, 0.05626916158747932, 0.05670666739797203, 0.05723212506016235, 0.05784702775894021, 0.058546010427210145, 0.059314939193144046, 0.060129762248135245, 0.0609562836228041, 0.06175095096450521, 0.06246266320786978, 0.06303551082513117, 0.06341226895814173, 0.0635383820279209, 0.06336611701420411, 0.0628585295288688, 0.06199288729895095, 0.06076323128391738, 0.05918182290667915, 0.05727932048846504, 0.05510363957989492, 0.05271756919383697, 0.05019532715795983, 0.04761833197088994, 0.04507053679544542, 0.042633707624995354, 0.040383029658070606, 0.03838339432671392, 0.0366866580540863, 0.035330078826802745, 0.03433603579523092, 0.0337130288926203, 0.033457848517642386, 0.03355870780759067, 0.03399904919112112, 0.03476167877743781, 0.03583285126377931, 0.0372059272689565, 0.03888425523943011, 0.040882990093827766, 0.043229647037839776, 0.04596329561784401, 0.04913241801810127, 0.05279157697515067, 0.05699715149424223, 0.061802491635182207, 0.0672529067785977, 0.07338092696816356, 0.08020225948303854, 0.0877128023382804, 0.09588697734257061, 0.10467751682689061, 0.11401669346509731, 0.12381883783469379, 0.1339838606317929, 0.14440140175482677, 0.15495517946885157, 0.16552711691636407, 0.17600088100683312, 0.18626457358013215, 0.19621245325457096, 0.2057457197492341, 0.2147725389731375, 0.22320760512335625, 0.23097160702935224, 0.2379909778174076, 0.24419825578902166, 0.2495332756789757, 0.2539452575660772, 0.2573956871355047, 0.2598617113234429, 0.2613396335589279, 0.2618480052409332, 0.2614297901072719, 0.260153131640529, 0.2581103759839406, 0.25541517945395925, 0.2521977382647783, 0.24859839161674277, 0.24476004033231213, 0.24081996757098925, 0.23690172830358447, 0.2331077815430741, 0.22951347486686394, 0.22616286460039955, 0.2230666843294654, 0.22020258059804876, 0.2175175402240623, 0.2149322591318014, 0.2123470640271645, 0.20964890573098965, 0.20671890017999528, 0.20343989767492443, 0.19970360585136943, 0.19541686699816174, 0.190506784465292, 0.18492449510253434, 0.17864748566902186, 0.1716804439605347, 0.16405471548960465, 0.1558265016278002, 0.14707398461303084, 0.13789359930024367, 0.12839569212836213, 0.11869981578820007, 0.1089299047387243, 0.09920956315175233, 0.08965767415529138, 0.08038450859510554, 0.07148847440301778, 0.06305360585564788, 0.05514784768339944, 0.0478221445586374, 0.04111030445753813, 0.03502956713521149, 0.02958177852231396, 0.02475504975680759, 0.020525766654511206, 0.01686081181763424, 0.013719866693442613, 0.011057673518986157, 0.008826155545845643, 0.006976316269811603, 0.005459862546691008], \"type\": \"scatter\"}], \"name\": \"5\"}, {\"data\": [{\"marker\": {\"color\": \"red\", \"size\": 4}, \"mode\": \"markers\", \"name\": \"s2\", \"x\": [1.6243453636632417, -0.6117564136500754, -0.5281717522634557, -1.0729686221561705, 0.8654076293246785, -2.3015386968802827, 1.74481176421648, -0.7612069008951028, 0.31903909605709857, 4.75062962452259, 6.4621079370449745, 2.939859290502346, 4.677582795986493, 4.615945645331585, 6.133769442335438, 3.900108732685969, 4.8275717924495645, 4.122141582078628, 5.042213746715593, 5.582815213715822, 3.8993808227870788, 6.144723709839614, 5.901590720592796, 5.502494338901868, 5.900855949264412, 4.316272140825667, 4.877109774481352, 4.064230565740932, 4.732111920373984, 5.530355466738186], \"y\": [0.0, -0.0, -0.0, -0.0, 0.0, -0.0, 0.0, -0.0, 0.0, 0.0, 0.0, 0.0, 0.0, 0.0, 0.0, 0.0, 0.0, 0.0, 0.0, 0.0, 0.0, 0.0, 0.0, 0.0, 0.0, 0.0, 0.0, 0.0, 0.0, 0.0], \"type\": \"scatter\"}, {\"line\": {\"color\": \"rgb(0,0,0)\", \"width\": 2}, \"mode\": \"lines\", \"name\": \"s2\", \"opacity\": 1.0, \"x\": [-3.3015386968802827, -3.2474500203278946, -3.193361343775506, -3.139272667223118, -3.0851839906707297, -3.0310953141183417, -2.977006637565953, -2.922917961013565, -2.8688292844611767, -2.8147406079087887, -2.7606519313564, -2.706563254804012, -2.652474578251624, -2.5983859016992357, -2.5442972251468476, -2.490208548594459, -2.436119872042071, -2.3820311954896827, -2.3279425189372946, -2.2738538423849066, -2.219765165832518, -2.1656764892801297, -2.1115878127277417, -2.0574991361753536, -2.003410459622965, -1.949321783070577, -1.8952331065181887, -1.8411444299658006, -1.7870557534134124, -1.7329670768610241, -1.6788784003086359, -1.6247897237562476, -1.5707010472038594, -1.5166123706514711, -1.462523694099083, -1.4084350175466946, -1.3543463409943064, -1.3002576644419181, -1.2461689878895301, -1.1920803113371417, -1.1379916347847536, -1.0839029582323652, -1.0298142816799771, -0.9757256051275891, -0.9216369285752006, -0.8675482520228126, -0.8134595754704241, -0.7593708989180361, -0.7052822223656476, -0.6511935458132596, -0.5971048692608711, -0.5430161927084831, -0.48892751615609464, -0.4348388396037066, -0.3807501630513186, -0.3266614864989301, -0.2725728099465421, -0.21848413339415362, -0.1643954568417656, -0.11030678028937713, -0.0562181037369891, -0.0021294271846006296, 0.0519592493677874, 0.10604792592017587, 0.1601366024725639, 0.21422527902495192, 0.2683139555773404, 0.3224026321297284, 0.3764913086821169, 0.4305799852345049, 0.4846686617868934, 0.5387573383392814, 0.5928460148916699, 0.6469346914440579, 0.7010233679964464, 0.755112044548834, 0.8092007211012224, 0.8632893976536109, 0.9173780742059994, 0.971466750758387, 1.0255554273107754, 1.079644103863164, 1.1337327804155524, 1.18782145696794, 1.2419101335203284, 1.295998810072717, 1.3500874866251045, 1.404176163177493, 1.4582648397298814, 1.5123535162822699, 1.5664421928346575, 1.620530869387046, 1.6746195459394344, 1.7287082224918229, 1.7827968990442105, 1.836885575596599, 1.8909742521489874, 1.945062928701375, 1.9991516052537635, 2.053240281806152, 2.1073289583585404, 2.161417634910928, 2.2155063114633164, 2.269594988015705, 2.3236836645680934, 2.377772341120481, 2.4318610176728694, 2.485949694225258, 2.5400383707776455, 2.594127047330034, 2.6482157238824224, 2.702304400434811, 2.7563930769871985, 2.810481753539587, 2.8645704300919754, 2.918659106644364, 2.9727477831967515, 3.02683645974914, 3.0809251363015284, 3.135013812853916, 3.1891024894063045, 3.243191165958693, 3.2972798425110814, 3.351368519063469, 3.4054571956158575, 3.459545872168246, 3.5136345487206344, 3.567723225273022, 3.6218119018254105, 3.675900578377799, 3.7299892549301865, 3.784077931482575, 3.8381666080349635, 3.892255284587352, 3.9463439611397395, 4.000432637692128, 4.054521314244516, 4.108609990796905, 4.162698667349293, 4.2167873439016805, 4.27087602045407, 4.3249646970064575, 4.379053373558845, 4.433142050111234, 4.487230726663622, 4.54131940321601, 4.595408079768399, 4.6494967563207865, 4.703585432873176, 4.7576741094255635, 4.811762785977951, 4.86585146253034, 4.919940139082728, 4.974028815635117, 5.028117492187505, 5.0822061687398925, 5.136294845292282, 5.1903835218446694, 5.244472198397057, 5.298560874949446, 5.352649551501834, 5.4067382280542216, 5.460826904606611, 5.5149155811589985, 5.569004257711388, 5.623092934263775, 5.677181610816163, 5.731270287368552, 5.78535896392094, 5.8394476404733275, 5.893536317025717, 5.9476249935781045, 6.001713670130492, 6.055802346682881, 6.109891023235269, 6.163979699787658, 6.218068376340046, 6.2721570528924335, 6.326245729444823, 6.3803344059972105, 6.434423082549598, 6.488511759101987, 6.542600435654375, 6.596689112206763, 6.650777788759152, 6.7048664653115395, 6.758955141863929, 6.8130438184163165, 6.867132494968704, 6.921221171521093, 6.975309848073481, 7.029398524625869, 7.083487201178258, 7.1375758777306455, 7.191664554283033, 7.245753230835422, 7.29984190738781, 7.353930583940199, 7.408019260492587, 7.4621079370449745], \"y\": [0.005111936508462668, 0.005997927260234427, 0.006976567979910796, 0.008044952253092121, 0.009197421556970122, 0.010425441671905756, 0.011717616645720496, 0.013059862622203837, 0.014435756598215756, 0.01582706568592599, 0.01721445117453682, 0.01857832927039975, 0.01989985768359538, 0.0211620051770841, 0.022350650794463172, 0.023455651678029297, 0.024471813985968354, 0.025399701003431474, 0.026246216423627212, 0.027024908940685533, 0.027755956409640202, 0.028465803252480413, 0.02918644263461832, 0.029954354138075075, 0.030809127060389043, 0.031791817915040876, 0.03294310712577573, 0.0343013333700895, 0.03590049381162091, 0.0377683040665426, 0.03992441290213209, 0.042378863307071975, 0.0451308838318671, 0.04816808226292597, 0.05146609818761581, 0.05498875236712661, 0.058688709702631514, 0.06250864970774961, 0.06638291464775531, 0.07023958184898023, 0.07400288420457589, 0.07759588277533777, 0.08094327881813415, 0.08397424075421006, 0.08662511558295481, 0.08884189489985256, 0.09058231350668032, 0.09181747369597425, 0.09253291023782638, 0.09272903894775812, 0.09242096400316188, 0.09163765398730213, 0.09042053173399449, 0.08882155602653864, 0.08690090171726879, 0.0847243667757308, 0.08236064848660482, 0.07987863545235602, 0.07734485687312104, 0.07482121619426323, 0.07236311376925382, 0.07001803444276088, 0.06782464314074836, 0.06581239715205077, 0.06400165034092876, 0.06240419442339003, 0.061024157705642734, 0.05985916386368273, 0.058901643397425714, 0.058140188658240576, 0.05756084955574063, 0.05714828038117739, 0.056886667368252826, 0.056760390032980876, 0.056754395158643355, 0.05685428859101999, 0.05704617487773865, 0.05731629645261714, 0.0576505409945072, 0.05803389656762332, 0.058449938365077087, 0.058880427980813735, 0.05930509628342033, 0.05970166483377701, 0.0600461395534766, 0.060313385631812114, 0.06047796641977011, 0.06051520346993043, 0.060402392147697104, 0.060120089415374674, 0.05965337918640693, 0.058993017257133504, 0.058136362792410405, 0.057088016485584654, 0.055860105908841114, 0.0544721846137863, 0.052950741081250016, 0.05132834413736319, 0.04964248029646636, 0.0479341631123938, 0.046246412811188214, 0.04462271457880213, 0.04310556492481301, 0.04173520736462607, 0.04054864189182538, 0.03957896873552888, 0.03885509773362432, 0.03840182277921791, 0.03824022893896844, 0.03838837073767036, 0.03886213627501349, 0.039676195376001186, 0.040844922349581377, 0.04238318586708307, 0.04430690987986147, 0.0466333294559609, 0.04938089225014865, 0.05256878772410454, 0.056216119462219646, 0.06034076804523379, 0.06495802008072722, 0.07007906061921304, 0.07570943937068077, 0.08184762473437815, 0.08848375344161015, 0.09559866832562414, 0.10316331401234514, 0.11113853254752858, 0.11947527100619668, 0.128115184012218, 0.13699158870664738, 0.14603071042044702, 0.1551531457265379, 0.1642754662895546, 0.17331189157188057, 0.18217596957305981, 0.19078222015550045, 0.19904771241857366, 0.20689356317310453, 0.21424635525847754, 0.22103948030002774, 0.227214409528116, 0.2327218885819158, 0.23752303903317454, 0.24159033290109022, 0.24490838959502656, 0.24747453072107778, 0.24929902007237098, 0.2504049163445991, 0.2508274761564984, 0.2506130650601462, 0.2498175633246231, 0.2485042890509262, 0.24674150030864028, 0.24459957653729034, 0.24214801333005184, 0.23945239014279912, 0.23657148444578593, 0.23355470647535584, 0.23044001549438423, 0.22725245215702417, 0.2240033842897162, 0.2206905182609691, 0.2172986789016305, 0.21380131170440725, 0.21016261568138872, 0.20634017718749803, 0.2022879468298737, 0.1979593849105059, 0.19331059628803357, 0.18830328269610608, 0.18290735815939083, 0.17710309927647666, 0.17088273442692473, 0.16425141184208567, 0.1572275234080047, 0.14984239669594024, 0.14213940003132974, 0.13417253283121972, 0.12600459484784723, 0.11770504270950019, 0.10934765005216834, 0.1010080887878522, 0.0927615441953762, 0.08468046635325818, 0.07683254596561136, 0.06927898499334037, 0.06207311288670748, 0.05525937881112135, 0.04887273019312509, 0.042938369200644554, 0.037471862264228585, 0.03247956410442689, 0.027959307398905085, 0.023901302420683834, 0.020289187704910082, 0.0171011728524038, 0.014311217578076248, 0.01189019655221176, 0.00980700686563008], \"type\": \"scatter\"}], \"name\": \"6\"}, {\"data\": [{\"marker\": {\"color\": \"red\", \"size\": 4}, \"mode\": \"markers\", \"name\": \"s2\", \"x\": [1.6243453636632417, -0.6117564136500754, -0.5281717522634557, -1.0729686221561705, 0.8654076293246785, -2.3015386968802827, 1.74481176421648, -0.7612069008951028, 0.31903909605709857, 4.75062962452259, 6.4621079370449745, 2.939859290502346, 4.677582795986493, 4.615945645331585, 6.133769442335438, 3.900108732685969, 4.8275717924495645, 4.122141582078628, 5.042213746715593, 5.582815213715822, 3.8993808227870788, 6.144723709839614, 5.901590720592796, 5.502494338901868, 5.900855949264412, 4.316272140825667, 4.877109774481352, 4.064230565740932, 4.732111920373984, 5.530355466738186], \"y\": [0.0, -0.0, -0.0, -0.0, 0.0, -0.0, 0.0, -0.0, 0.0, 0.0, 0.0, 0.0, 0.0, 0.0, 0.0, 0.0, 0.0, 0.0, 0.0, 0.0, 0.0, 0.0, 0.0, 0.0, 0.0, 0.0, 0.0, 0.0, 0.0, 0.0], \"type\": \"scatter\"}, {\"line\": {\"color\": \"rgb(0,0,0)\", \"width\": 2}, \"mode\": \"lines\", \"name\": \"s2\", \"opacity\": 1.0, \"x\": [-3.3015386968802827, -3.2474500203278946, -3.193361343775506, -3.139272667223118, -3.0851839906707297, -3.0310953141183417, -2.977006637565953, -2.922917961013565, -2.8688292844611767, -2.8147406079087887, -2.7606519313564, -2.706563254804012, -2.652474578251624, -2.5983859016992357, -2.5442972251468476, -2.490208548594459, -2.436119872042071, -2.3820311954896827, -2.3279425189372946, -2.2738538423849066, -2.219765165832518, -2.1656764892801297, -2.1115878127277417, -2.0574991361753536, -2.003410459622965, -1.949321783070577, -1.8952331065181887, -1.8411444299658006, -1.7870557534134124, -1.7329670768610241, -1.6788784003086359, -1.6247897237562476, -1.5707010472038594, -1.5166123706514711, -1.462523694099083, -1.4084350175466946, -1.3543463409943064, -1.3002576644419181, -1.2461689878895301, -1.1920803113371417, -1.1379916347847536, -1.0839029582323652, -1.0298142816799771, -0.9757256051275891, -0.9216369285752006, -0.8675482520228126, -0.8134595754704241, -0.7593708989180361, -0.7052822223656476, -0.6511935458132596, -0.5971048692608711, -0.5430161927084831, -0.48892751615609464, -0.4348388396037066, -0.3807501630513186, -0.3266614864989301, -0.2725728099465421, -0.21848413339415362, -0.1643954568417656, -0.11030678028937713, -0.0562181037369891, -0.0021294271846006296, 0.0519592493677874, 0.10604792592017587, 0.1601366024725639, 0.21422527902495192, 0.2683139555773404, 0.3224026321297284, 0.3764913086821169, 0.4305799852345049, 0.4846686617868934, 0.5387573383392814, 0.5928460148916699, 0.6469346914440579, 0.7010233679964464, 0.755112044548834, 0.8092007211012224, 0.8632893976536109, 0.9173780742059994, 0.971466750758387, 1.0255554273107754, 1.079644103863164, 1.1337327804155524, 1.18782145696794, 1.2419101335203284, 1.295998810072717, 1.3500874866251045, 1.404176163177493, 1.4582648397298814, 1.5123535162822699, 1.5664421928346575, 1.620530869387046, 1.6746195459394344, 1.7287082224918229, 1.7827968990442105, 1.836885575596599, 1.8909742521489874, 1.945062928701375, 1.9991516052537635, 2.053240281806152, 2.1073289583585404, 2.161417634910928, 2.2155063114633164, 2.269594988015705, 2.3236836645680934, 2.377772341120481, 2.4318610176728694, 2.485949694225258, 2.5400383707776455, 2.594127047330034, 2.6482157238824224, 2.702304400434811, 2.7563930769871985, 2.810481753539587, 2.8645704300919754, 2.918659106644364, 2.9727477831967515, 3.02683645974914, 3.0809251363015284, 3.135013812853916, 3.1891024894063045, 3.243191165958693, 3.2972798425110814, 3.351368519063469, 3.4054571956158575, 3.459545872168246, 3.5136345487206344, 3.567723225273022, 3.6218119018254105, 3.675900578377799, 3.7299892549301865, 3.784077931482575, 3.8381666080349635, 3.892255284587352, 3.9463439611397395, 4.000432637692128, 4.054521314244516, 4.108609990796905, 4.162698667349293, 4.2167873439016805, 4.27087602045407, 4.3249646970064575, 4.379053373558845, 4.433142050111234, 4.487230726663622, 4.54131940321601, 4.595408079768399, 4.6494967563207865, 4.703585432873176, 4.7576741094255635, 4.811762785977951, 4.86585146253034, 4.919940139082728, 4.974028815635117, 5.028117492187505, 5.0822061687398925, 5.136294845292282, 5.1903835218446694, 5.244472198397057, 5.298560874949446, 5.352649551501834, 5.4067382280542216, 5.460826904606611, 5.5149155811589985, 5.569004257711388, 5.623092934263775, 5.677181610816163, 5.731270287368552, 5.78535896392094, 5.8394476404733275, 5.893536317025717, 5.9476249935781045, 6.001713670130492, 6.055802346682881, 6.109891023235269, 6.163979699787658, 6.218068376340046, 6.2721570528924335, 6.326245729444823, 6.3803344059972105, 6.434423082549598, 6.488511759101987, 6.542600435654375, 6.596689112206763, 6.650777788759152, 6.7048664653115395, 6.758955141863929, 6.8130438184163165, 6.867132494968704, 6.921221171521093, 6.975309848073481, 7.029398524625869, 7.083487201178258, 7.1375758777306455, 7.191664554283033, 7.245753230835422, 7.29984190738781, 7.353930583940199, 7.408019260492587, 7.4621079370449745], \"y\": [0.006398346045660258, 0.0072517954012743125, 0.008166394088215859, 0.00913806386944967, 0.010161433242837295, 0.011229935907531529, 0.012335977835009613, 0.013471174043955692, 0.014626652448216038, 0.015793418061715855, 0.01696276661833057, 0.01812673254815256, 0.019278552515118393, 0.020413122638840785, 0.021527425354534172, 0.02262090083308228, 0.023695738159459592, 0.02475706315419571, 0.0258130028415753, 0.02687461105545688, 0.02795564537729433, 0.029072192287242136, 0.030242144772652458, 0.03148454431739517, 0.03281880679225942, 0.034263858868626595, 0.03583721778049485, 0.03755405219086028, 0.03942626525687369, 0.04146164248439092, 0.043663106452525816, 0.046028117905030475, 0.0485482580827616, 0.05120902064913896, 0.05398983337804648, 0.05686432026349189, 0.05980080428527472, 0.06276304020137316, 0.06571115595544604, 0.06860277112591258, 0.07139425183372598, 0.07404205416638855, 0.07650410289967301, 0.07874114944882224, 0.0807180527852686, 0.08240492960570657, 0.08377812528201846, 0.08482096484431362, 0.08552425309779241, 0.08588650445578183, 0.08591389558498812, 0.08561994682738942, 0.08502495087311931, 0.08415517860624969, 0.08304190178217301, 0.08172027967256483, 0.08022816162097925, 0.07860485934582558, 0.07688994175012827, 0.07512210108169952, 0.07333813284697321, 0.07157206338946176, 0.0698544490971841, 0.06821186048191881, 0.06666655358937656, 0.06523632104854866, 0.06393450617974364, 0.06277015647431687, 0.061748287811798565, 0.060870228202653566, 0.06013400967113327, 0.0595347789821627, 0.05906520196937775, 0.058715841805803755, 0.058475498144198466, 0.05833150105482038, 0.058269960507444186, 0.05827597821909593, 0.05833383353258915, 0.05842715822893021, 0.05853911657388147, 0.05865260637654712, 0.05875049447818131, 0.058815896128927216, 0.05883250252007435, 0.058784954795721545, 0.05865925671288572, 0.058443212317535145, 0.0581268700954587, 0.05770295151080852, 0.057167240020302955, 0.05651890676346956, 0.05576075123153782, 0.05489933919165202, 0.05394502570749313, 0.052911857828523964, 0.051817358885994924, 0.050682203738259, 0.04952980114039325, 0.04838580510133104, 0.047277581151464604, 0.046233655521862316, 0.045283175143084, 0.04445540409917358, 0.043779277897689386, 0.04328303098826822, 0.04299390587250384, 0.042937944491831276, 0.04313985500511692, 0.043622940218501154, 0.04440906839335511, 0.04551866341182072, 0.04697068965082888, 0.04878260755341797, 0.05097027874745297, 0.05354780441532841, 0.05652728706515838, 0.05991851336312499, 0.06372856364122052, 0.06796136144628495, 0.07261718342170642, 0.07769215536773127, 0.08317776408948276, 0.08906041635037053, 0.0953210758147095, 0.1019350063752412, 0.10887164596710616, 0.1160946292470461, 0.12356197082940724, 0.1312264136208848, 0.13903593967354308, 0.14693443431196906, 0.15486248842249012, 0.16275831893975745, 0.1705587838233761, 0.17820046516323795, 0.18562079237216517, 0.1927591765446079, 0.1995581267872673, 0.2059643194894643, 0.2119295919813329, 0.21741183279011, 0.22237574180262676, 0.22679343521344883, 0.23064487238331885, 0.23391808487960092, 0.23660919223136492, 0.2387221944563595, 0.2402685382498069, 0.24126646177183717, 0.24174013198082464, 0.24171859802692927, 0.24123459380014883, 0.24032323167834946, 0.23902063715631192, 0.23736257968816493, 0.2353831581578892, 0.23311359946668933, 0.23058122554876562, 0.22780863768522203, 0.2248131575095469, 0.22160655205181526, 0.21819505622107377, 0.2145796911002171, 0.21075686124181703, 0.20671919974616831, 0.20245661716478666, 0.19795749997944687, 0.19320999716413165, 0.1882033295405318, 0.1829290564503766, 0.17738223761762345, 0.17156243466710902, 0.1654745061191579, 0.15912916115827722, 0.15254325034560592, 0.14573978493056614, 0.1387476897451423, 0.13160130711716045, 0.12433968019478378, 0.11700565303732112, 0.10964483144786405, 0.10230445260723532, 0.09503221307665458, 0.08787510377263262, 0.08087829731184393, 0.07408412800796146, 0.06753119818292184, 0.06125363678319176, 0.0552805280349807, 0.04963551948756073, 0.04433661070267783, 0.03939611641761919, 0.03482079153770874, 0.030612100020075143, 0.02676660573098048, 0.023276460748618145, 0.020129965320759603, 0.017312173683731828, 0.014805521062963534], \"type\": \"scatter\"}], \"name\": \"7\"}, {\"data\": [{\"marker\": {\"color\": \"red\", \"size\": 4}, \"mode\": \"markers\", \"name\": \"s2\", \"x\": [1.6243453636632417, -0.6117564136500754, -0.5281717522634557, -1.0729686221561705, 0.8654076293246785, -2.3015386968802827, 1.74481176421648, -0.7612069008951028, 0.31903909605709857, 4.75062962452259, 6.4621079370449745, 2.939859290502346, 4.677582795986493, 4.615945645331585, 6.133769442335438, 3.900108732685969, 4.8275717924495645, 4.122141582078628, 5.042213746715593, 5.582815213715822, 3.8993808227870788, 6.144723709839614, 5.901590720592796, 5.502494338901868, 5.900855949264412, 4.316272140825667, 4.877109774481352, 4.064230565740932, 4.732111920373984, 5.530355466738186], \"y\": [0.0, -0.0, -0.0, -0.0, 0.0, -0.0, 0.0, -0.0, 0.0, 0.0, 0.0, 0.0, 0.0, 0.0, 0.0, 0.0, 0.0, 0.0, 0.0, 0.0, 0.0, 0.0, 0.0, 0.0, 0.0, 0.0, 0.0, 0.0, 0.0, 0.0], \"type\": \"scatter\"}, {\"line\": {\"color\": \"rgb(0,0,0)\", \"width\": 2}, \"mode\": \"lines\", \"name\": \"s2\", \"opacity\": 1.0, \"x\": [-3.3015386968802827, -3.2474500203278946, -3.193361343775506, -3.139272667223118, -3.0851839906707297, -3.0310953141183417, -2.977006637565953, -2.922917961013565, -2.8688292844611767, -2.8147406079087887, -2.7606519313564, -2.706563254804012, -2.652474578251624, -2.5983859016992357, -2.5442972251468476, -2.490208548594459, -2.436119872042071, -2.3820311954896827, -2.3279425189372946, -2.2738538423849066, -2.219765165832518, -2.1656764892801297, -2.1115878127277417, -2.0574991361753536, -2.003410459622965, -1.949321783070577, -1.8952331065181887, -1.8411444299658006, -1.7870557534134124, -1.7329670768610241, -1.6788784003086359, -1.6247897237562476, -1.5707010472038594, -1.5166123706514711, -1.462523694099083, -1.4084350175466946, -1.3543463409943064, -1.3002576644419181, -1.2461689878895301, -1.1920803113371417, -1.1379916347847536, -1.0839029582323652, -1.0298142816799771, -0.9757256051275891, -0.9216369285752006, -0.8675482520228126, -0.8134595754704241, -0.7593708989180361, -0.7052822223656476, -0.6511935458132596, -0.5971048692608711, -0.5430161927084831, -0.48892751615609464, -0.4348388396037066, -0.3807501630513186, -0.3266614864989301, -0.2725728099465421, -0.21848413339415362, -0.1643954568417656, -0.11030678028937713, -0.0562181037369891, -0.0021294271846006296, 0.0519592493677874, 0.10604792592017587, 0.1601366024725639, 0.21422527902495192, 0.2683139555773404, 0.3224026321297284, 0.3764913086821169, 0.4305799852345049, 0.4846686617868934, 0.5387573383392814, 0.5928460148916699, 0.6469346914440579, 0.7010233679964464, 0.755112044548834, 0.8092007211012224, 0.8632893976536109, 0.9173780742059994, 0.971466750758387, 1.0255554273107754, 1.079644103863164, 1.1337327804155524, 1.18782145696794, 1.2419101335203284, 1.295998810072717, 1.3500874866251045, 1.404176163177493, 1.4582648397298814, 1.5123535162822699, 1.5664421928346575, 1.620530869387046, 1.6746195459394344, 1.7287082224918229, 1.7827968990442105, 1.836885575596599, 1.8909742521489874, 1.945062928701375, 1.9991516052537635, 2.053240281806152, 2.1073289583585404, 2.161417634910928, 2.2155063114633164, 2.269594988015705, 2.3236836645680934, 2.377772341120481, 2.4318610176728694, 2.485949694225258, 2.5400383707776455, 2.594127047330034, 2.6482157238824224, 2.702304400434811, 2.7563930769871985, 2.810481753539587, 2.8645704300919754, 2.918659106644364, 2.9727477831967515, 3.02683645974914, 3.0809251363015284, 3.135013812853916, 3.1891024894063045, 3.243191165958693, 3.2972798425110814, 3.351368519063469, 3.4054571956158575, 3.459545872168246, 3.5136345487206344, 3.567723225273022, 3.6218119018254105, 3.675900578377799, 3.7299892549301865, 3.784077931482575, 3.8381666080349635, 3.892255284587352, 3.9463439611397395, 4.000432637692128, 4.054521314244516, 4.108609990796905, 4.162698667349293, 4.2167873439016805, 4.27087602045407, 4.3249646970064575, 4.379053373558845, 4.433142050111234, 4.487230726663622, 4.54131940321601, 4.595408079768399, 4.6494967563207865, 4.703585432873176, 4.7576741094255635, 4.811762785977951, 4.86585146253034, 4.919940139082728, 4.974028815635117, 5.028117492187505, 5.0822061687398925, 5.136294845292282, 5.1903835218446694, 5.244472198397057, 5.298560874949446, 5.352649551501834, 5.4067382280542216, 5.460826904606611, 5.5149155811589985, 5.569004257711388, 5.623092934263775, 5.677181610816163, 5.731270287368552, 5.78535896392094, 5.8394476404733275, 5.893536317025717, 5.9476249935781045, 6.001713670130492, 6.055802346682881, 6.109891023235269, 6.163979699787658, 6.218068376340046, 6.2721570528924335, 6.326245729444823, 6.3803344059972105, 6.434423082549598, 6.488511759101987, 6.542600435654375, 6.596689112206763, 6.650777788759152, 6.7048664653115395, 6.758955141863929, 6.8130438184163165, 6.867132494968704, 6.921221171521093, 6.975309848073481, 7.029398524625869, 7.083487201178258, 7.1375758777306455, 7.191664554283033, 7.245753230835422, 7.29984190738781, 7.353930583940199, 7.408019260492587, 7.4621079370449745], \"y\": [0.0074165924566914855, 0.008220880216127059, 0.009069558235203279, 0.009959833817735004, 0.010888451902104402, 0.011851804458571879, 0.012846066057377852, 0.013867352598315742, 0.014911898693356395, 0.015976247736574557, 0.017057447363500334, 0.01815324188095263, 0.01926225242182002, 0.020384135122896243, 0.021519707600652017, 0.02267103445486997, 0.023841463486551903, 0.025035605772383673, 0.026259254664079742, 0.027519241120212687, 0.02882322544713776, 0.030179428416936445, 0.031596307716876396, 0.0330821886256741, 0.03464486055857165, 0.03629115352793145, 0.03802651048897875, 0.03985457285787485, 0.04177679710140396, 0.04379212013412656, 0.045896690285001505, 0.048083678815007344, 0.05034318442434045, 0.05266223996632263, 0.055024926806514954, 0.05741259808361227, 0.059804207723445406, 0.06217673762659538, 0.06450571119978385, 0.06676577753534817, 0.06893134725309552, 0.07097725847299077, 0.07287944972133382, 0.07461561588263568, 0.07616582364299489, 0.07751306422673761, 0.07864372355333836, 0.07954795313354997, 0.08021992893468953, 0.0806579898900531, 0.08086465249347032, 0.08084650277762274, 0.08061397169069705, 0.08018100423613125, 0.079564636522322, 0.07878449791400072, 0.07786225765787672, 0.07682103659479955, 0.07568480484491824, 0.07447778569052615, 0.07322388436355237, 0.07194615819569478, 0.07066634176945351, 0.06940443750311215, 0.06817837870974651, 0.06700376878690921, 0.0658936970040053, 0.06485862851848684, 0.06390636389611475, 0.0630420616204871, 0.06226831589450061, 0.06158528145842709, 0.06099083713095754, 0.06048078023969226, 0.060049044936725846, 0.05968793846546091, 0.05938839062142137, 0.05914021280117257, 0.05893236404211628, 0.058753222227651614, 0.05859085910266078, 0.05843331788337619, 0.058268892058846763, 0.05808640350778148, 0.057875477363334406, 0.057626810240832355, 0.05733242760492236, 0.05698592530262223, 0.0565826897308593, 0.0561200908293142, 0.0555976421561066, 0.05501712274954703, 0.054382656304866585, 0.05370074436738893, 0.05298025169797727, 0.05223234361084497, 0.05147037680661464, 0.05070974690324278, 0.04996769738250389, 0.04926309590888995, 0.048616184849749645, 0.04804831326702713, 0.04758165763263512, 0.04723893804872168, 0.04704313587500706, 0.04701721745572277, 0.04718386720376212, 0.04756523176392149, 0.048182675474129764, 0.049056546005090615, 0.050205948003923355, 0.051648521892830104, 0.05340022474567874, 0.055475110413731175, 0.05788510678792942, 0.06063978922232656, 0.06374615061991802, 0.0672083703884263, 0.07102758627972497, 0.07520167489273714, 0.07972504820640426, 0.08458847478791456, 0.08977893518273265, 0.09527952135499854, 0.10106938985948, 0.10712377767377981, 0.11341408832043375, 0.11990805411295856, 0.12656997814486742, 0.13336105710401744, 0.1402397832482629, 0.147162421041018, 0.15408355113615085, 0.16095667173452305, 0.16773484491373924, 0.17437137344998574, 0.18082049198372305, 0.18703805519220237, 0.19298220496955273, 0.1986139985138281, 0.20389797970071608, 0.20880267719306161, 0.21330101438743834, 0.21737061851209158, 0.22099401892616166, 0.224158727870686, 0.2268572005092859, 0.22908667497052465, 0.2308488971426362, 0.23214973903249383, 0.23299872342557773, 0.23340847120276206, 0.23339409081041887, 0.23297253187621716, 0.23216192666435587, 0.23098094384821963, 0.22944817886024654, 0.22758160381849726, 0.2253980977391755, 0.22291307449116068, 0.22014022185392218, 0.21709136027550796, 0.2137764247065717, 0.21020356745484745, 0.20637937462511607, 0.20230918364831263, 0.19799748491280011, 0.19344838681589976, 0.18866612083804674, 0.1836555616368195, 0.17842273673533984, 0.1729753011475262, 0.16732295418678944, 0.16147777863146562, 0.15545448620483415, 0.14927055776464515, 0.14294627145336677, 0.13650461708845915, 0.12997110002462398, 0.12337344236347576, 0.11674119351246087, 0.11010526553184541, 0.10349741132695667, 0.09694966546099722, 0.0904937681491572, 0.08416059286273339, 0.07797959698184931, 0.07197831318433279, 0.06618189687378705, 0.0606127420808502, 0.05529017507923294, 0.05023023160669592, 0.0454455202295393, 0.0409451711833073, 0.036734867089017784, 0.03281694938628212, 0.02919059221846654, 0.025852033898920594, 0.022794855002025653, 0.0200102915532853], \"type\": \"scatter\"}], \"name\": \"8\"}, {\"data\": [{\"marker\": {\"color\": \"red\", \"size\": 4}, \"mode\": \"markers\", \"name\": \"s2\", \"x\": [1.6243453636632417, -0.6117564136500754, -0.5281717522634557, -1.0729686221561705, 0.8654076293246785, -2.3015386968802827, 1.74481176421648, -0.7612069008951028, 0.31903909605709857, 4.75062962452259, 6.4621079370449745, 2.939859290502346, 4.677582795986493, 4.615945645331585, 6.133769442335438, 3.900108732685969, 4.8275717924495645, 4.122141582078628, 5.042213746715593, 5.582815213715822, 3.8993808227870788, 6.144723709839614, 5.901590720592796, 5.502494338901868, 5.900855949264412, 4.316272140825667, 4.877109774481352, 4.064230565740932, 4.732111920373984, 5.530355466738186], \"y\": [0.0, -0.0, -0.0, -0.0, 0.0, -0.0, 0.0, -0.0, 0.0, 0.0, 0.0, 0.0, 0.0, 0.0, 0.0, 0.0, 0.0, 0.0, 0.0, 0.0, 0.0, 0.0, 0.0, 0.0, 0.0, 0.0, 0.0, 0.0, 0.0, 0.0], \"type\": \"scatter\"}, {\"line\": {\"color\": \"rgb(0,0,0)\", \"width\": 2}, \"mode\": \"lines\", \"name\": \"s2\", \"opacity\": 1.0, \"x\": [-3.3015386968802827, -3.2474500203278946, -3.193361343775506, -3.139272667223118, -3.0851839906707297, -3.0310953141183417, -2.977006637565953, -2.922917961013565, -2.8688292844611767, -2.8147406079087887, -2.7606519313564, -2.706563254804012, -2.652474578251624, -2.5983859016992357, -2.5442972251468476, -2.490208548594459, -2.436119872042071, -2.3820311954896827, -2.3279425189372946, -2.2738538423849066, -2.219765165832518, -2.1656764892801297, -2.1115878127277417, -2.0574991361753536, -2.003410459622965, -1.949321783070577, -1.8952331065181887, -1.8411444299658006, -1.7870557534134124, -1.7329670768610241, -1.6788784003086359, -1.6247897237562476, -1.5707010472038594, -1.5166123706514711, -1.462523694099083, -1.4084350175466946, -1.3543463409943064, -1.3002576644419181, -1.2461689878895301, -1.1920803113371417, -1.1379916347847536, -1.0839029582323652, -1.0298142816799771, -0.9757256051275891, -0.9216369285752006, -0.8675482520228126, -0.8134595754704241, -0.7593708989180361, -0.7052822223656476, -0.6511935458132596, -0.5971048692608711, -0.5430161927084831, -0.48892751615609464, -0.4348388396037066, -0.3807501630513186, -0.3266614864989301, -0.2725728099465421, -0.21848413339415362, -0.1643954568417656, -0.11030678028937713, -0.0562181037369891, -0.0021294271846006296, 0.0519592493677874, 0.10604792592017587, 0.1601366024725639, 0.21422527902495192, 0.2683139555773404, 0.3224026321297284, 0.3764913086821169, 0.4305799852345049, 0.4846686617868934, 0.5387573383392814, 0.5928460148916699, 0.6469346914440579, 0.7010233679964464, 0.755112044548834, 0.8092007211012224, 0.8632893976536109, 0.9173780742059994, 0.971466750758387, 1.0255554273107754, 1.079644103863164, 1.1337327804155524, 1.18782145696794, 1.2419101335203284, 1.295998810072717, 1.3500874866251045, 1.404176163177493, 1.4582648397298814, 1.5123535162822699, 1.5664421928346575, 1.620530869387046, 1.6746195459394344, 1.7287082224918229, 1.7827968990442105, 1.836885575596599, 1.8909742521489874, 1.945062928701375, 1.9991516052537635, 2.053240281806152, 2.1073289583585404, 2.161417634910928, 2.2155063114633164, 2.269594988015705, 2.3236836645680934, 2.377772341120481, 2.4318610176728694, 2.485949694225258, 2.5400383707776455, 2.594127047330034, 2.6482157238824224, 2.702304400434811, 2.7563930769871985, 2.810481753539587, 2.8645704300919754, 2.918659106644364, 2.9727477831967515, 3.02683645974914, 3.0809251363015284, 3.135013812853916, 3.1891024894063045, 3.243191165958693, 3.2972798425110814, 3.351368519063469, 3.4054571956158575, 3.459545872168246, 3.5136345487206344, 3.567723225273022, 3.6218119018254105, 3.675900578377799, 3.7299892549301865, 3.784077931482575, 3.8381666080349635, 3.892255284587352, 3.9463439611397395, 4.000432637692128, 4.054521314244516, 4.108609990796905, 4.162698667349293, 4.2167873439016805, 4.27087602045407, 4.3249646970064575, 4.379053373558845, 4.433142050111234, 4.487230726663622, 4.54131940321601, 4.595408079768399, 4.6494967563207865, 4.703585432873176, 4.7576741094255635, 4.811762785977951, 4.86585146253034, 4.919940139082728, 4.974028815635117, 5.028117492187505, 5.0822061687398925, 5.136294845292282, 5.1903835218446694, 5.244472198397057, 5.298560874949446, 5.352649551501834, 5.4067382280542216, 5.460826904606611, 5.5149155811589985, 5.569004257711388, 5.623092934263775, 5.677181610816163, 5.731270287368552, 5.78535896392094, 5.8394476404733275, 5.893536317025717, 5.9476249935781045, 6.001713670130492, 6.055802346682881, 6.109891023235269, 6.163979699787658, 6.218068376340046, 6.2721570528924335, 6.326245729444823, 6.3803344059972105, 6.434423082549598, 6.488511759101987, 6.542600435654375, 6.596689112206763, 6.650777788759152, 6.7048664653115395, 6.758955141863929, 6.8130438184163165, 6.867132494968704, 6.921221171521093, 6.975309848073481, 7.029398524625869, 7.083487201178258, 7.1375758777306455, 7.191664554283033, 7.245753230835422, 7.29984190738781, 7.353930583940199, 7.408019260492587, 7.4621079370449745], \"y\": [0.00829542419390428, 0.009064769504455353, 0.009871661512596809, 0.010714828358660297, 0.011592888575891861, 0.012504419228511894, 0.013448030763377168, 0.014422446067264425, 0.0154265807485929, 0.016459621268721775, 0.01752109726117516, 0.01861094422230108, 0.0197295527551476, 0.020877800715575785, 0.022057064954991445, 0.023269209878972984, 0.02451655073836023, 0.025801790422997618, 0.027127929513364145, 0.02849815042851152, 0.029915677649471617, 0.03138361714911792, 0.032904779271909594, 0.03448149032775587, 0.036115399041818215, 0.03780728468804085, 0.03955687418597687, 0.0413626756236518, 0.04322183555970463, 0.045130027043831004, 0.04708137457683833, 0.049068421225452914, 0.05108214184120988, 0.05311200484910624, 0.05514608342354374, 0.05717121511922801, 0.05917320724271114, 0.0611370835095178, 0.06304736590598736, 0.06488838423471716, 0.0666446046318995, 0.0683009674582936, 0.06984322442497319, 0.0712582646475831, 0.07253441953967317, 0.0736617370509357, 0.07463221670726462, 0.0754399981781405, 0.07608149763060965, 0.0765554878642939, 0.07686312008632158, 0.0770078871018695, 0.07699552958714953, 0.07683388890189018, 0.07653271151870882, 0.07610341153784339, 0.07555879887031532, 0.07491278147766182, 0.0741800505341499, 0.07337575752564553, 0.0725151921308752, 0.07161346927207445, 0.07068523301093367, 0.06974438404918094, 0.06880383652383155, 0.06787530862054213, 0.06696915031960975, 0.06609421038950183, 0.06525774359796324, 0.06446535805829384, 0.06372100169651873, 0.06302698603207237, 0.06238404481845333, 0.061791424590003856, 0.06124700379743579, 0.06074743697264032, 0.06028832022312498, 0.05986437429652628, 0.05946964145448782, 0.05909769243318784, 0.05874183982885997, 0.05839535431930666, 0.05805168021035289, 0.057704646878359994, 0.057348672769940726, 0.05697895872530899, 0.05659166752214739, 0.05618408670333823, 0.055754771964590104, 0.05530366864497047, 0.0548322091892317, 0.05434338483577913, 0.0538417902234125, 0.053333640093791476, 0.052826757780582614, 0.05233053570239067, 0.05185586859441827, 0.05141506070202365, 0.051021708597480626, 0.050690561651342225, 0.05043736247797661, 0.050278669872499696, 0.05023166686102839, 0.050313956501998526, 0.05054334801361198, 0.05093763567733778, 0.05151437280025487, 0.05229064283325609, 0.05328282956210072, 0.054506388137443906, 0.055975618608784555, 0.05770344359158047, 0.05970119173622538, 0.061978388784642235, 0.06454255818969007, 0.06739903352157074, 0.07055078517409438, 0.07399826418634245, 0.07773926628201322, 0.08176881946731615, 0.08607909868630022, 0.09065937107957901, 0.09549597530233433, 0.10057233810999916, 0.10586903100248572, 0.11136386912621314, 0.11703205387276391, 0.12284635969837701, 0.12877736464329037, 0.13479372288584973, 0.1408624764618579, 0.14694940205856138, 0.15301938760209458, 0.15903683224562853, 0.16496606238072928, 0.1707717554817117, 0.1764193629926209, 0.1818755231131413, 0.18710845425950628, 0.19208832018656188, 0.19678755826445568, 0.20118116320414162, 0.2052469196049898, 0.20896557802908822, 0.2123209708535504, 0.2153000658676529, 0.21789295741073741, 0.22009279672751494, 0.22189566508284303, 0.223300394958992, 0.22430834628594032, 0.2249231460635431, 0.22515040086383092, 0.22499739250143802, 0.2244727675911315, 0.2235862317482899, 0.2223482588213733, 0.22076982478200463, 0.2188621747624492, 0.21663663026285654, 0.21410444180769794, 0.21127669038168936, 0.2081642388996288, 0.20477773284834788, 0.2011276471714684, 0.19722437453668415, 0.19307834841305632, 0.18870019296503784, 0.1841008907002314, 0.17929195813294638, 0.17428561947104043, 0.169094968505782, 0.16373410947058442, 0.15821826860299684, 0.15256386944702335, 0.14678856650725866, 0.14091123363915115, 0.13495190545039937, 0.12893167191344093, 0.12287252826544354, 0.11679718402222114, 0.1107288364864591, 0.10469091543011934, 0.09870680663109832, 0.09279956261528592, 0.08699160928300126, 0.08130445708485502, 0.075758425072585, 0.07037238551465014, 0.06516353587476564, 0.060147203853035965, 0.05533668993862971, 0.05074315057772755, 0.04637552367856861, 0.042240496812224235, 0.03834251717390098, 0.034683841189161395, 0.03126462061849734, 0.0280830211592801, 0.025135368883948458], \"type\": \"scatter\"}], \"name\": \"9\"}, {\"data\": [{\"marker\": {\"color\": \"red\", \"size\": 4}, \"mode\": \"markers\", \"name\": \"s2\", \"x\": [1.6243453636632417, -0.6117564136500754, -0.5281717522634557, -1.0729686221561705, 0.8654076293246785, -2.3015386968802827, 1.74481176421648, -0.7612069008951028, 0.31903909605709857, 4.75062962452259, 6.4621079370449745, 2.939859290502346, 4.677582795986493, 4.615945645331585, 6.133769442335438, 3.900108732685969, 4.8275717924495645, 4.122141582078628, 5.042213746715593, 5.582815213715822, 3.8993808227870788, 6.144723709839614, 5.901590720592796, 5.502494338901868, 5.900855949264412, 4.316272140825667, 4.877109774481352, 4.064230565740932, 4.732111920373984, 5.530355466738186], \"y\": [0.0, -0.0, -0.0, -0.0, 0.0, -0.0, 0.0, -0.0, 0.0, 0.0, 0.0, 0.0, 0.0, 0.0, 0.0, 0.0, 0.0, 0.0, 0.0, 0.0, 0.0, 0.0, 0.0, 0.0, 0.0, 0.0, 0.0, 0.0, 0.0, 0.0], \"type\": \"scatter\"}, {\"line\": {\"color\": \"rgb(0,0,0)\", \"width\": 2}, \"mode\": \"lines\", \"name\": \"s2\", \"opacity\": 1.0, \"x\": [-3.3015386968802827, -3.2474500203278946, -3.193361343775506, -3.139272667223118, -3.0851839906707297, -3.0310953141183417, -2.977006637565953, -2.922917961013565, -2.8688292844611767, -2.8147406079087887, -2.7606519313564, -2.706563254804012, -2.652474578251624, -2.5983859016992357, -2.5442972251468476, -2.490208548594459, -2.436119872042071, -2.3820311954896827, -2.3279425189372946, -2.2738538423849066, -2.219765165832518, -2.1656764892801297, -2.1115878127277417, -2.0574991361753536, -2.003410459622965, -1.949321783070577, -1.8952331065181887, -1.8411444299658006, -1.7870557534134124, -1.7329670768610241, -1.6788784003086359, -1.6247897237562476, -1.5707010472038594, -1.5166123706514711, -1.462523694099083, -1.4084350175466946, -1.3543463409943064, -1.3002576644419181, -1.2461689878895301, -1.1920803113371417, -1.1379916347847536, -1.0839029582323652, -1.0298142816799771, -0.9757256051275891, -0.9216369285752006, -0.8675482520228126, -0.8134595754704241, -0.7593708989180361, -0.7052822223656476, -0.6511935458132596, -0.5971048692608711, -0.5430161927084831, -0.48892751615609464, -0.4348388396037066, -0.3807501630513186, -0.3266614864989301, -0.2725728099465421, -0.21848413339415362, -0.1643954568417656, -0.11030678028937713, -0.0562181037369891, -0.0021294271846006296, 0.0519592493677874, 0.10604792592017587, 0.1601366024725639, 0.21422527902495192, 0.2683139555773404, 0.3224026321297284, 0.3764913086821169, 0.4305799852345049, 0.4846686617868934, 0.5387573383392814, 0.5928460148916699, 0.6469346914440579, 0.7010233679964464, 0.755112044548834, 0.8092007211012224, 0.8632893976536109, 0.9173780742059994, 0.971466750758387, 1.0255554273107754, 1.079644103863164, 1.1337327804155524, 1.18782145696794, 1.2419101335203284, 1.295998810072717, 1.3500874866251045, 1.404176163177493, 1.4582648397298814, 1.5123535162822699, 1.5664421928346575, 1.620530869387046, 1.6746195459394344, 1.7287082224918229, 1.7827968990442105, 1.836885575596599, 1.8909742521489874, 1.945062928701375, 1.9991516052537635, 2.053240281806152, 2.1073289583585404, 2.161417634910928, 2.2155063114633164, 2.269594988015705, 2.3236836645680934, 2.377772341120481, 2.4318610176728694, 2.485949694225258, 2.5400383707776455, 2.594127047330034, 2.6482157238824224, 2.702304400434811, 2.7563930769871985, 2.810481753539587, 2.8645704300919754, 2.918659106644364, 2.9727477831967515, 3.02683645974914, 3.0809251363015284, 3.135013812853916, 3.1891024894063045, 3.243191165958693, 3.2972798425110814, 3.351368519063469, 3.4054571956158575, 3.459545872168246, 3.5136345487206344, 3.567723225273022, 3.6218119018254105, 3.675900578377799, 3.7299892549301865, 3.784077931482575, 3.8381666080349635, 3.892255284587352, 3.9463439611397395, 4.000432637692128, 4.054521314244516, 4.108609990796905, 4.162698667349293, 4.2167873439016805, 4.27087602045407, 4.3249646970064575, 4.379053373558845, 4.433142050111234, 4.487230726663622, 4.54131940321601, 4.595408079768399, 4.6494967563207865, 4.703585432873176, 4.7576741094255635, 4.811762785977951, 4.86585146253034, 4.919940139082728, 4.974028815635117, 5.028117492187505, 5.0822061687398925, 5.136294845292282, 5.1903835218446694, 5.244472198397057, 5.298560874949446, 5.352649551501834, 5.4067382280542216, 5.460826904606611, 5.5149155811589985, 5.569004257711388, 5.623092934263775, 5.677181610816163, 5.731270287368552, 5.78535896392094, 5.8394476404733275, 5.893536317025717, 5.9476249935781045, 6.001713670130492, 6.055802346682881, 6.109891023235269, 6.163979699787658, 6.218068376340046, 6.2721570528924335, 6.326245729444823, 6.3803344059972105, 6.434423082549598, 6.488511759101987, 6.542600435654375, 6.596689112206763, 6.650777788759152, 6.7048664653115395, 6.758955141863929, 6.8130438184163165, 6.867132494968704, 6.921221171521093, 6.975309848073481, 7.029398524625869, 7.083487201178258, 7.1375758777306455, 7.191664554283033, 7.245753230835422, 7.29984190738781, 7.353930583940199, 7.408019260492587, 7.4621079370449745], \"y\": [0.009145991554938048, 0.009901006147127717, 0.010691473627319611, 0.01151713224367776, 0.012377707955129926, 0.013272944994838136, 0.014202636333778393, 0.015166652667846966, 0.01616496845959749, 0.017197683523187523, 0.018265038655328466, 0.019367423891160758, 0.020505378105006005, 0.02167957888233953, 0.022890821858763653, 0.02413998904900994, 0.025428006065886945, 0.026755788544642344, 0.028124178528897908, 0.02953387202447857, 0.030985339369818794, 0.032478740487958783, 0.03401383745698798, 0.035589907145268246, 0.037205656888392835, 0.03885914632231886, 0.04054771852011628, 0.04226794350058571, 0.044015576982024324, 0.045785536944599095, 0.04757190014573315, 0.04936792021491682, 0.05116606835214138, 0.05295809698642609, 0.054735126039733045, 0.05648775071152531, 0.058206168976500716, 0.05988032629931917, 0.06150007444156384, 0.0630553406921686, 0.06453630341479752, 0.06593356949218442, 0.06723834907172435, 0.06844262298704164, 0.06953929834971194, 0.07052234807100118, 0.07138693047703373, 0.0721294857086394, 0.07274780623101518, 0.07324107949616215, 0.07360990157778785, 0.07385626140708643, 0.07398349605087044, 0.07399621826368062, 0.07390021828697971, 0.07370234253807174, 0.07341035240907266, 0.07303276686620816, 0.07257869289055757, 0.07205764802648935, 0.07147937940162566, 0.070853683554994, 0.07019023126507819, 0.06949840131738538, 0.06878712680554448, 0.06806475713663963, 0.06733893842768891, 0.06661651445368308, 0.06590344975604372, 0.06520477596048473, 0.06452456180043802, 0.06386590680990958, 0.06323095814922194, 0.06262094956764344, 0.06203626109515202, 0.06147649769612565, 0.06094058481317062, 0.060426878480497916, 0.05993328749272701, 0.05945740497518838, 0.058996646613407346, 0.05854839275971932, 0.05811013164086929, 0.05767960093890695, 0.057254925105590763, 0.05683474589482232, 0.05641834375528693, 0.05600574791338155, 0.05559783319141428, 0.055196401844492336, 0.05480424895768296, 0.05442521021880226, 0.054064191167074595, 0.05372717730911355, 0.05342122478621815, 0.05315443156580956, 0.052935889410030544, 0.05277561714153206, 0.05268447597623667, 0.0526740679221315, 0.05275661844952799, 0.052944844820393536, 0.05325181162202461, 0.05369077518425692, 0.054275018671275405, 0.05501767973132915, 0.05593157266320228, 0.057029007120261904, 0.058321605424300496, 0.059820120604737244, 0.061534257315803066, 0.06347249781581764, 0.06564193521804158, 0.06804811623997523, 0.07069489568412737, 0.07358430487368983, 0.07671643623566786, 0.08008934616552758, 0.08369897821468898, 0.08753910850868088, 0.09160131512357232, 0.09587497291661913, 0.10034727502074894, 0.10500328187044028, 0.10982599823003386, 0.1147964782485041, 0.11989395807396847, 0.1250960150362233, 0.1303787518585098, 0.13571700380494603, 0.14108456612391723, 0.14645443862780447, 0.15179908377398596, 0.15709069419928687, 0.1623014653272634, 0.16740386843065147, 0.172370919403294, 0.17717643848721035, 0.18179529631778296, 0.18620364189587796, 0.19037910846809833, 0.19430099378881527, 0.1979504118389602, 0.20131041377134545, 0.20436607662102116, 0.2071045591390395, 0.2095151249534472, 0.21158913410509742, 0.21332000481985253, 0.21470314813515387, 0.21573587867126606, 0.21641730540177323, 0.21674820671348258, 0.21673089433658774, 0.21636907086057738, 0.2156676855245515, 0.21463279278283762, 0.2132714178048141, 0.21159143258428992, 0.20960144572689282, 0.20731070827679127, 0.20472903716390098, 0.2018667570295743, 0.1987346603545288, 0.1953439849997157, 0.19170640751037452, 0.1878340498548806, 0.18373949669894987, 0.17943581987365692, 0.17493660639846406, 0.17025598627804506, 0.16540865630767138, 0.16040989629346533, 0.15527557441178505, 0.15002213888148053, 0.14466659368377724, 0.13922645671301925, 0.1337196994502662, 0.12816466799186996, 0.12257998600706893, 0.1169844409135255, 0.11139685522056464, 0.10583594557260984, 0.10032017250970872, 0.09486758433241593, 0.0894956587039467, 0.08422114573800679, 0.0790599163058723, 0.07402681915595824, 0.06913555018276465, 0.06439853682314121, 0.059826840112976516, 0.05543007642581019, 0.05121636035708542, 0.04719226963504614, 0.043362832352597566, 0.03973153624365273, 0.03630035919069126, 0.03306981966318332, 0.03003904536207054], \"type\": \"scatter\"}], \"name\": \"10\"}, {\"data\": [{\"marker\": {\"color\": \"red\", \"size\": 4}, \"mode\": \"markers\", \"name\": \"s2\", \"x\": [1.6243453636632417, -0.6117564136500754, -0.5281717522634557, -1.0729686221561705, 0.8654076293246785, -2.3015386968802827, 1.74481176421648, -0.7612069008951028, 0.31903909605709857, 4.75062962452259, 6.4621079370449745, 2.939859290502346, 4.677582795986493, 4.615945645331585, 6.133769442335438, 3.900108732685969, 4.8275717924495645, 4.122141582078628, 5.042213746715593, 5.582815213715822, 3.8993808227870788, 6.144723709839614, 5.901590720592796, 5.502494338901868, 5.900855949264412, 4.316272140825667, 4.877109774481352, 4.064230565740932, 4.732111920373984, 5.530355466738186], \"y\": [0.0, -0.0, -0.0, -0.0, 0.0, -0.0, 0.0, -0.0, 0.0, 0.0, 0.0, 0.0, 0.0, 0.0, 0.0, 0.0, 0.0, 0.0, 0.0, 0.0, 0.0, 0.0, 0.0, 0.0, 0.0, 0.0, 0.0, 0.0, 0.0, 0.0], \"type\": \"scatter\"}, {\"line\": {\"color\": \"rgb(0,0,0)\", \"width\": 2}, \"mode\": \"lines\", \"name\": \"s2\", \"opacity\": 1.0, \"x\": [-3.3015386968802827, -3.2474500203278946, -3.193361343775506, -3.139272667223118, -3.0851839906707297, -3.0310953141183417, -2.977006637565953, -2.922917961013565, -2.8688292844611767, -2.8147406079087887, -2.7606519313564, -2.706563254804012, -2.652474578251624, -2.5983859016992357, -2.5442972251468476, -2.490208548594459, -2.436119872042071, -2.3820311954896827, -2.3279425189372946, -2.2738538423849066, -2.219765165832518, -2.1656764892801297, -2.1115878127277417, -2.0574991361753536, -2.003410459622965, -1.949321783070577, -1.8952331065181887, -1.8411444299658006, -1.7870557534134124, -1.7329670768610241, -1.6788784003086359, -1.6247897237562476, -1.5707010472038594, -1.5166123706514711, -1.462523694099083, -1.4084350175466946, -1.3543463409943064, -1.3002576644419181, -1.2461689878895301, -1.1920803113371417, -1.1379916347847536, -1.0839029582323652, -1.0298142816799771, -0.9757256051275891, -0.9216369285752006, -0.8675482520228126, -0.8134595754704241, -0.7593708989180361, -0.7052822223656476, -0.6511935458132596, -0.5971048692608711, -0.5430161927084831, -0.48892751615609464, -0.4348388396037066, -0.3807501630513186, -0.3266614864989301, -0.2725728099465421, -0.21848413339415362, -0.1643954568417656, -0.11030678028937713, -0.0562181037369891, -0.0021294271846006296, 0.0519592493677874, 0.10604792592017587, 0.1601366024725639, 0.21422527902495192, 0.2683139555773404, 0.3224026321297284, 0.3764913086821169, 0.4305799852345049, 0.4846686617868934, 0.5387573383392814, 0.5928460148916699, 0.6469346914440579, 0.7010233679964464, 0.755112044548834, 0.8092007211012224, 0.8632893976536109, 0.9173780742059994, 0.971466750758387, 1.0255554273107754, 1.079644103863164, 1.1337327804155524, 1.18782145696794, 1.2419101335203284, 1.295998810072717, 1.3500874866251045, 1.404176163177493, 1.4582648397298814, 1.5123535162822699, 1.5664421928346575, 1.620530869387046, 1.6746195459394344, 1.7287082224918229, 1.7827968990442105, 1.836885575596599, 1.8909742521489874, 1.945062928701375, 1.9991516052537635, 2.053240281806152, 2.1073289583585404, 2.161417634910928, 2.2155063114633164, 2.269594988015705, 2.3236836645680934, 2.377772341120481, 2.4318610176728694, 2.485949694225258, 2.5400383707776455, 2.594127047330034, 2.6482157238824224, 2.702304400434811, 2.7563930769871985, 2.810481753539587, 2.8645704300919754, 2.918659106644364, 2.9727477831967515, 3.02683645974914, 3.0809251363015284, 3.135013812853916, 3.1891024894063045, 3.243191165958693, 3.2972798425110814, 3.351368519063469, 3.4054571956158575, 3.459545872168246, 3.5136345487206344, 3.567723225273022, 3.6218119018254105, 3.675900578377799, 3.7299892549301865, 3.784077931482575, 3.8381666080349635, 3.892255284587352, 3.9463439611397395, 4.000432637692128, 4.054521314244516, 4.108609990796905, 4.162698667349293, 4.2167873439016805, 4.27087602045407, 4.3249646970064575, 4.379053373558845, 4.433142050111234, 4.487230726663622, 4.54131940321601, 4.595408079768399, 4.6494967563207865, 4.703585432873176, 4.7576741094255635, 4.811762785977951, 4.86585146253034, 4.919940139082728, 4.974028815635117, 5.028117492187505, 5.0822061687398925, 5.136294845292282, 5.1903835218446694, 5.244472198397057, 5.298560874949446, 5.352649551501834, 5.4067382280542216, 5.460826904606611, 5.5149155811589985, 5.569004257711388, 5.623092934263775, 5.677181610816163, 5.731270287368552, 5.78535896392094, 5.8394476404733275, 5.893536317025717, 5.9476249935781045, 6.001713670130492, 6.055802346682881, 6.109891023235269, 6.163979699787658, 6.218068376340046, 6.2721570528924335, 6.326245729444823, 6.3803344059972105, 6.434423082549598, 6.488511759101987, 6.542600435654375, 6.596689112206763, 6.650777788759152, 6.7048664653115395, 6.758955141863929, 6.8130438184163165, 6.867132494968704, 6.921221171521093, 6.975309848073481, 7.029398524625869, 7.083487201178258, 7.1375758777306455, 7.191664554283033, 7.245753230835422, 7.29984190738781, 7.353930583940199, 7.408019260492587, 7.4621079370449745], \"y\": [0.010028681438112301, 0.010784644934527078, 0.011575342417815009, 0.0124009717889181, 0.01326171414833764, 0.014157741978794493, 0.015089225806770142, 0.016056338751785502, 0.017059258387448123, 0.018098165376831652, 0.019173238407501764, 0.020284645038465356, 0.02143252818154597, 0.022616988071247218, 0.023838059727131038, 0.025095686077229184, 0.02638968708526282, 0.027719725402952693, 0.02908526924534257, 0.030485553355325858, 0.03191953907677613, 0.033385874687237346, 0.034882857244777785, 0.03640839727370962, 0.037959987645647675, 0.0395346780021622, 0.041129056010707994, 0.04273923664569863, 0.04436086054223858, 0.04598910228344846, 0.04761868925748561, 0.04924393146275959, 0.05085876235638867, 0.052456790539741366, 0.05403136176501306, 0.05557563043789926, 0.0570826394935415, 0.05854540724598587, 0.059957019564924864, 0.06131072552623964, 0.06260003452243577, 0.06381881271169575, 0.06496137663450245, 0.06602258183733013, 0.06699790441449717, 0.06788351351067522, 0.0686763330145145, 0.06937409091329777, 0.06997535506269537, 0.07047955444635773, 0.0708869853478902, 0.07119880222254565, 0.07141699342711515, 0.07154434233330562, 0.0715843747019249, 0.07154129352267018, 0.07141990281836312, 0.07122552216545082, 0.07096389388825648, 0.07064108503817719, 0.0702633863677847, 0.06983721055231361, 0.06936899189768728, 0.0688650897069652, 0.06833169735929331, 0.06777475899169232, 0.06719989546999316, 0.0666123410973821, 0.066016892244341, 0.06541786879960167, 0.06481908904546711, 0.06422385825976913, 0.06363497104776805, 0.0630547271169287, 0.062484959931572916, 0.061927077428054485, 0.061382113738697765, 0.060850790667840805, 0.06033358748867938, 0.05983081748715784, 0.05934270957008672, 0.058869493179441505, 0.058411484713230544, 0.05796917364462499, 0.05754330655391915, 0.057134967340585596, 0.0567456519630561, 0.05637733615946186, 0.05603253473068508, 0.05571435111483057, 0.055426516146595314, 0.055173415072913096, 0.05496010208457205, 0.05479230181919139, 0.05467639749100739, 0.0546194055045388, 0.05462893660968718, 0.05471314385273945, 0.05488065776884052, 0.05514050944483081, 0.05550204225517366, 0.05597481323657149, 0.056568485217559715, 0.057292710956846536, 0.058157010667592775, 0.05917064441346539, 0.060342480955508176, 0.061680864706033935, 0.06319348250621049, 0.06488723198709687, 0.06676809329879672, 0.0688410059982568, 0.07110975287206239, 0.07357685243532737, 0.07624346179036022, 0.07910929144817536, 0.08217253361118758, 0.0854298052858777, 0.08887610743947182, 0.09250480123479699, 0.09630760217306635, 0.10027459274666232, 0.10439425395502071, 0.10865351576923925, 0.11303782634865636, 0.11753123951979313, 0.1221165197299283, 0.12677526339009737, 0.1314880352319399, 0.13623451802648298, 0.14099367375774383, 0.1457439141170866, 0.15046327799243617, 0.15512961347610205, 0.15972076181168424, 0.16421474064891606, 0.16858992397866812, 0.1728252161806376, 0.1769002177337465, 0.18079538031265882, 0.1844921492199346, 0.18797309137741186, 0.19122200741592046, 0.19422402675153216, 0.19696568490996236, 0.19943498274832352, 0.20162142761424953, 0.20351605686531835, 0.205111444535463, 0.20640169226904773, 0.20738240593754145, 0.2080506595996059, 0.20840494865573445, 0.20844513417799476, 0.20817238046059355, 0.20758908783675153, 0.20669882274280968, 0.20550624688490227, 0.20401704718232613, 0.2022378679322654, 0.20017624637182246, 0.1978405525156894, 0.19523993383263805, 0.1923842650031073, 0.18928410268552387, 0.18595064492216815, 0.18239569454719184, 0.1786316257294314, 0.17467135259897434, 0.17052829877524367, 0.16621636653982938, 0.16174990438135786, 0.15714367168206278, 0.15241279941393887, 0.14757274586183497, 0.14263924658516983, 0.13762825806113363, 0.13255589471098544, 0.12743835928728167, 0.1222918668829471, 0.11713256310240974, 0.1119764372002443, 0.10683923123437969, 0.10173634649039351, 0.09668274860366234, 0.09169287293158422, 0.08678053180496682, 0.08195882531401548, 0.0772400572600125, 0.07263565783042615, 0.0681561144360897, 0.0638109119890242, 0.059608483704424634, 0.055556173287225966, 0.05166020912014625, 0.04792569081415052, 0.04435658822193843, 0.040955752758181994, 0.03772494062418119, 0.0346648473060075], \"type\": \"scatter\"}], \"name\": \"11\"}, {\"data\": [{\"marker\": {\"color\": \"red\", \"size\": 4}, \"mode\": \"markers\", \"name\": \"s2\", \"x\": [1.6243453636632417, -0.6117564136500754, -0.5281717522634557, -1.0729686221561705, 0.8654076293246785, -2.3015386968802827, 1.74481176421648, -0.7612069008951028, 0.31903909605709857, 4.75062962452259, 6.4621079370449745, 2.939859290502346, 4.677582795986493, 4.615945645331585, 6.133769442335438, 3.900108732685969, 4.8275717924495645, 4.122141582078628, 5.042213746715593, 5.582815213715822, 3.8993808227870788, 6.144723709839614, 5.901590720592796, 5.502494338901868, 5.900855949264412, 4.316272140825667, 4.877109774481352, 4.064230565740932, 4.732111920373984, 5.530355466738186], \"y\": [0.0, -0.0, -0.0, -0.0, 0.0, -0.0, 0.0, -0.0, 0.0, 0.0, 0.0, 0.0, 0.0, 0.0, 0.0, 0.0, 0.0, 0.0, 0.0, 0.0, 0.0, 0.0, 0.0, 0.0, 0.0, 0.0, 0.0, 0.0, 0.0, 0.0], \"type\": \"scatter\"}, {\"line\": {\"color\": \"rgb(0,0,0)\", \"width\": 2}, \"mode\": \"lines\", \"name\": \"s2\", \"opacity\": 1.0, \"x\": [-3.3015386968802827, -3.2474500203278946, -3.193361343775506, -3.139272667223118, -3.0851839906707297, -3.0310953141183417, -2.977006637565953, -2.922917961013565, -2.8688292844611767, -2.8147406079087887, -2.7606519313564, -2.706563254804012, -2.652474578251624, -2.5983859016992357, -2.5442972251468476, -2.490208548594459, -2.436119872042071, -2.3820311954896827, -2.3279425189372946, -2.2738538423849066, -2.219765165832518, -2.1656764892801297, -2.1115878127277417, -2.0574991361753536, -2.003410459622965, -1.949321783070577, -1.8952331065181887, -1.8411444299658006, -1.7870557534134124, -1.7329670768610241, -1.6788784003086359, -1.6247897237562476, -1.5707010472038594, -1.5166123706514711, -1.462523694099083, -1.4084350175466946, -1.3543463409943064, -1.3002576644419181, -1.2461689878895301, -1.1920803113371417, -1.1379916347847536, -1.0839029582323652, -1.0298142816799771, -0.9757256051275891, -0.9216369285752006, -0.8675482520228126, -0.8134595754704241, -0.7593708989180361, -0.7052822223656476, -0.6511935458132596, -0.5971048692608711, -0.5430161927084831, -0.48892751615609464, -0.4348388396037066, -0.3807501630513186, -0.3266614864989301, -0.2725728099465421, -0.21848413339415362, -0.1643954568417656, -0.11030678028937713, -0.0562181037369891, -0.0021294271846006296, 0.0519592493677874, 0.10604792592017587, 0.1601366024725639, 0.21422527902495192, 0.2683139555773404, 0.3224026321297284, 0.3764913086821169, 0.4305799852345049, 0.4846686617868934, 0.5387573383392814, 0.5928460148916699, 0.6469346914440579, 0.7010233679964464, 0.755112044548834, 0.8092007211012224, 0.8632893976536109, 0.9173780742059994, 0.971466750758387, 1.0255554273107754, 1.079644103863164, 1.1337327804155524, 1.18782145696794, 1.2419101335203284, 1.295998810072717, 1.3500874866251045, 1.404176163177493, 1.4582648397298814, 1.5123535162822699, 1.5664421928346575, 1.620530869387046, 1.6746195459394344, 1.7287082224918229, 1.7827968990442105, 1.836885575596599, 1.8909742521489874, 1.945062928701375, 1.9991516052537635, 2.053240281806152, 2.1073289583585404, 2.161417634910928, 2.2155063114633164, 2.269594988015705, 2.3236836645680934, 2.377772341120481, 2.4318610176728694, 2.485949694225258, 2.5400383707776455, 2.594127047330034, 2.6482157238824224, 2.702304400434811, 2.7563930769871985, 2.810481753539587, 2.8645704300919754, 2.918659106644364, 2.9727477831967515, 3.02683645974914, 3.0809251363015284, 3.135013812853916, 3.1891024894063045, 3.243191165958693, 3.2972798425110814, 3.351368519063469, 3.4054571956158575, 3.459545872168246, 3.5136345487206344, 3.567723225273022, 3.6218119018254105, 3.675900578377799, 3.7299892549301865, 3.784077931482575, 3.8381666080349635, 3.892255284587352, 3.9463439611397395, 4.000432637692128, 4.054521314244516, 4.108609990796905, 4.162698667349293, 4.2167873439016805, 4.27087602045407, 4.3249646970064575, 4.379053373558845, 4.433142050111234, 4.487230726663622, 4.54131940321601, 4.595408079768399, 4.6494967563207865, 4.703585432873176, 4.7576741094255635, 4.811762785977951, 4.86585146253034, 4.919940139082728, 4.974028815635117, 5.028117492187505, 5.0822061687398925, 5.136294845292282, 5.1903835218446694, 5.244472198397057, 5.298560874949446, 5.352649551501834, 5.4067382280542216, 5.460826904606611, 5.5149155811589985, 5.569004257711388, 5.623092934263775, 5.677181610816163, 5.731270287368552, 5.78535896392094, 5.8394476404733275, 5.893536317025717, 5.9476249935781045, 6.001713670130492, 6.055802346682881, 6.109891023235269, 6.163979699787658, 6.218068376340046, 6.2721570528924335, 6.326245729444823, 6.3803344059972105, 6.434423082549598, 6.488511759101987, 6.542600435654375, 6.596689112206763, 6.650777788759152, 6.7048664653115395, 6.758955141863929, 6.8130438184163165, 6.867132494968704, 6.921221171521093, 6.975309848073481, 7.029398524625869, 7.083487201178258, 7.1375758777306455, 7.191664554283033, 7.245753230835422, 7.29984190738781, 7.353930583940199, 7.408019260492587, 7.4621079370449745], \"y\": [0.010958621749805553, 0.01172278938933983, 0.012520753219074771, 0.013352801492703821, 0.0142191769223905, 0.015120074646588278, 0.016055638989428276, 0.01702595882388323, 0.018031061380571197, 0.019070904382776952, 0.02014536643560266, 0.021254235652317936, 0.02239719656283104, 0.023573815416276223, 0.02478352406023654, 0.02602560265104894, 0.027299161520715407, 0.028603122593759654, 0.02993620080943772, 0.03129688605855314, 0.03268342618735903, 0.034093811651443144, 0.03552576241816075, 0.03697671771552664, 0.03844382920735853, 0.0399239581382342, 0.041413676937383334, 0.04290927569846128, 0.04440677386332279, 0.045901937334084694, 0.047390301121163034, 0.04886719750831976, 0.05032778958222925, 0.05176710983720527, 0.05318010342929352, 0.05456167552185139, 0.055906742040943105, 0.05721028304719054, 0.058467397834730934, 0.05967336079086011, 0.060823676994539735, 0.06191413650040931, 0.06294086624879064, 0.06390037856224559, 0.06478961523560965, 0.06560598629840296, 0.06634740262469215, 0.0670123016836874, 0.06759966586184857, 0.06810903294066434, 0.06854049847975471, 0.06889471002834707, 0.06917285326508767, 0.06937663034207604, 0.06950823087947688, 0.06957029621777688, 0.06956587768168888, 0.06949838973925039, 0.069371559048682, 0.06918937047151398, 0.06895601119142943, 0.06867581411294707, 0.06835320172192018, 0.06799263157095531, 0.06759854450804754, 0.06717531669736454, 0.06672721638915792, 0.06625836628366845, 0.06577271220449311, 0.0652739986533608, 0.06476575166404014, 0.06425126921171678, 0.06373361926922501, 0.06321564543654666, 0.06269997990843058, 0.062189063390073684, 0.0616851714255067, 0.061190446470332276, 0.06070693492205866, 0.06023662821942437, 0.05978150703833403, 0.05934358754746879, 0.05892496864201017, 0.05852787904956458, 0.05815472319824291, 0.05780812475253828, 0.05749096675743171, 0.0572064273840293, 0.05695801033972409, 0.05674956909091094, 0.05658532414499306, 0.056469872749021634, 0.05640819048290079, 0.05640562435371076, 0.05646787713235553, 0.05660098281242907, 0.05681127321192946, 0.05710533587931123, 0.05748996360445991, 0.05797209597071341, 0.05855875351432253, 0.05925696518111766, 0.060073689885115196, 0.06101573307893169, 0.06208965933986789, 0.06330170205716705, 0.06465767137414535, 0.0661628615926414, 0.06782195928566316, 0.06963895338647468, 0.07161704852801917, 0.07375858289506713, 0.07606495182245525, 0.07853653832612724, 0.08117265168943345, 0.08397147514558592, 0.08693002359879387, 0.09004411221222848, 0.09330833656161246, 0.09671606491029441, 0.10025944300678133, 0.10392941164085105, 0.10771573702181418, 0.11160705386478752, 0.11559092089078277, 0.11965388826701519, 0.12378157633828625, 0.12795876483184943, 0.13216949156015706, 0.1363971595015528, 0.14062465101144028, 0.14483444780862925, 0.14900875529600482, 0.15312962971357813, 0.1571791065870458, 0.1611393289273675, 0.16499267365708764, 0.16872187478707912, 0.17231014194224484, 0.1757412729350193, 0.17899975920910033, 0.18207088311992428, 0.18494080617964245, 0.18759664756890013, 0.19002655240135785, 0.19221974941512096, 0.19416659795340208, 0.19585862428022063, 0.19728854745118848, 0.1984502951202346, 0.1993390098066338, 0.19995104626963436, 0.2002839607376501, 0.2003364928134677, 0.20010854092504815, 0.19960113221296966, 0.19881638774083077, 0.1977574838853945, 0.19642861071091958, 0.19483492805985556, 0.19298252000319968, 0.19087834819221314, 0.18853020454307576, 0.1859466635717921, 0.1831370345827103, 0.1801113138046729, 0.176880136468151, 0.17345472872835566, 0.16984685926640278, 0.1660687903456044, 0.16213322806465869, 0.15805327153490192, 0.15384236071511653, 0.14951422266408346, 0.14508281601680625, 0.140562273553126, 0.13596684280468388, 0.13131082473472555, 0.12660851062163253, 0.12187411737751318, 0.11712172163386213, 0.1123651930233739, 0.10761812717678425, 0.10289377903275822, 0.09820499712436967, 0.09356415955513343, 0.08898311240897105, 0.0844731113506344, 0.08004476716533823, 0.07570799595872488, 0.07147197469144954, 0.06734510265792414, 0.06333496943790683, 0.05944832975494088, 0.055691085569796725, 0.05206827562298552, 0.0485840725211885, 0.0452417873412626, 0.0420438816054825, 0.03899198636585215], \"type\": \"scatter\"}], \"name\": \"12\"}, {\"data\": [{\"marker\": {\"color\": \"red\", \"size\": 4}, \"mode\": \"markers\", \"name\": \"s2\", \"x\": [1.6243453636632417, -0.6117564136500754, -0.5281717522634557, -1.0729686221561705, 0.8654076293246785, -2.3015386968802827, 1.74481176421648, -0.7612069008951028, 0.31903909605709857, 4.75062962452259, 6.4621079370449745, 2.939859290502346, 4.677582795986493, 4.615945645331585, 6.133769442335438, 3.900108732685969, 4.8275717924495645, 4.122141582078628, 5.042213746715593, 5.582815213715822, 3.8993808227870788, 6.144723709839614, 5.901590720592796, 5.502494338901868, 5.900855949264412, 4.316272140825667, 4.877109774481352, 4.064230565740932, 4.732111920373984, 5.530355466738186], \"y\": [0.0, -0.0, -0.0, -0.0, 0.0, -0.0, 0.0, -0.0, 0.0, 0.0, 0.0, 0.0, 0.0, 0.0, 0.0, 0.0, 0.0, 0.0, 0.0, 0.0, 0.0, 0.0, 0.0, 0.0, 0.0, 0.0, 0.0, 0.0, 0.0, 0.0], \"type\": \"scatter\"}, {\"line\": {\"color\": \"rgb(0,0,0)\", \"width\": 2}, \"mode\": \"lines\", \"name\": \"s2\", \"opacity\": 1.0, \"x\": [-3.3015386968802827, -3.2474500203278946, -3.193361343775506, -3.139272667223118, -3.0851839906707297, -3.0310953141183417, -2.977006637565953, -2.922917961013565, -2.8688292844611767, -2.8147406079087887, -2.7606519313564, -2.706563254804012, -2.652474578251624, -2.5983859016992357, -2.5442972251468476, -2.490208548594459, -2.436119872042071, -2.3820311954896827, -2.3279425189372946, -2.2738538423849066, -2.219765165832518, -2.1656764892801297, -2.1115878127277417, -2.0574991361753536, -2.003410459622965, -1.949321783070577, -1.8952331065181887, -1.8411444299658006, -1.7870557534134124, -1.7329670768610241, -1.6788784003086359, -1.6247897237562476, -1.5707010472038594, -1.5166123706514711, -1.462523694099083, -1.4084350175466946, -1.3543463409943064, -1.3002576644419181, -1.2461689878895301, -1.1920803113371417, -1.1379916347847536, -1.0839029582323652, -1.0298142816799771, -0.9757256051275891, -0.9216369285752006, -0.8675482520228126, -0.8134595754704241, -0.7593708989180361, -0.7052822223656476, -0.6511935458132596, -0.5971048692608711, -0.5430161927084831, -0.48892751615609464, -0.4348388396037066, -0.3807501630513186, -0.3266614864989301, -0.2725728099465421, -0.21848413339415362, -0.1643954568417656, -0.11030678028937713, -0.0562181037369891, -0.0021294271846006296, 0.0519592493677874, 0.10604792592017587, 0.1601366024725639, 0.21422527902495192, 0.2683139555773404, 0.3224026321297284, 0.3764913086821169, 0.4305799852345049, 0.4846686617868934, 0.5387573383392814, 0.5928460148916699, 0.6469346914440579, 0.7010233679964464, 0.755112044548834, 0.8092007211012224, 0.8632893976536109, 0.9173780742059994, 0.971466750758387, 1.0255554273107754, 1.079644103863164, 1.1337327804155524, 1.18782145696794, 1.2419101335203284, 1.295998810072717, 1.3500874866251045, 1.404176163177493, 1.4582648397298814, 1.5123535162822699, 1.5664421928346575, 1.620530869387046, 1.6746195459394344, 1.7287082224918229, 1.7827968990442105, 1.836885575596599, 1.8909742521489874, 1.945062928701375, 1.9991516052537635, 2.053240281806152, 2.1073289583585404, 2.161417634910928, 2.2155063114633164, 2.269594988015705, 2.3236836645680934, 2.377772341120481, 2.4318610176728694, 2.485949694225258, 2.5400383707776455, 2.594127047330034, 2.6482157238824224, 2.702304400434811, 2.7563930769871985, 2.810481753539587, 2.8645704300919754, 2.918659106644364, 2.9727477831967515, 3.02683645974914, 3.0809251363015284, 3.135013812853916, 3.1891024894063045, 3.243191165958693, 3.2972798425110814, 3.351368519063469, 3.4054571956158575, 3.459545872168246, 3.5136345487206344, 3.567723225273022, 3.6218119018254105, 3.675900578377799, 3.7299892549301865, 3.784077931482575, 3.8381666080349635, 3.892255284587352, 3.9463439611397395, 4.000432637692128, 4.054521314244516, 4.108609990796905, 4.162698667349293, 4.2167873439016805, 4.27087602045407, 4.3249646970064575, 4.379053373558845, 4.433142050111234, 4.487230726663622, 4.54131940321601, 4.595408079768399, 4.6494967563207865, 4.703585432873176, 4.7576741094255635, 4.811762785977951, 4.86585146253034, 4.919940139082728, 4.974028815635117, 5.028117492187505, 5.0822061687398925, 5.136294845292282, 5.1903835218446694, 5.244472198397057, 5.298560874949446, 5.352649551501834, 5.4067382280542216, 5.460826904606611, 5.5149155811589985, 5.569004257711388, 5.623092934263775, 5.677181610816163, 5.731270287368552, 5.78535896392094, 5.8394476404733275, 5.893536317025717, 5.9476249935781045, 6.001713670130492, 6.055802346682881, 6.109891023235269, 6.163979699787658, 6.218068376340046, 6.2721570528924335, 6.326245729444823, 6.3803344059972105, 6.434423082549598, 6.488511759101987, 6.542600435654375, 6.596689112206763, 6.650777788759152, 6.7048664653115395, 6.758955141863929, 6.8130438184163165, 6.867132494968704, 6.921221171521093, 6.975309848073481, 7.029398524625869, 7.083487201178258, 7.1375758777306455, 7.191664554283033, 7.245753230835422, 7.29984190738781, 7.353930583940199, 7.408019260492587, 7.4621079370449745], \"y\": [0.01192377309908041, 0.012696914044560503, 0.013502229319121194, 0.014339911142234563, 0.015210082741240175, 0.016112793093272352, 0.017048011055497025, 0.01801561886469911, 0.019015405008417103, 0.020047056493766594, 0.021110150566364096, 0.0222041459597577, 0.02332837378479843, 0.024482028197645795, 0.025664157013726506, 0.026873652462028354, 0.028109242298660662, 0.029369481519694072, 0.03065274492998232, 0.0319572208361073, 0.03328090613700491, 0.0346216030845819, 0.03597691797822631, 0.03734426204123228, 0.03872085470368146, 0.04010372948534593, 0.04148974263400737, 0.04287558462977414, 0.04425779461527167, 0.04563277775595624, 0.046996825475414915, 0.04834613844868626, 0.049676852173826135, 0.05098506487970482, 0.05226686746795715, 0.05351837513074128, 0.05473576023507401, 0.055915286020494656, 0.05705334062104793, 0.05814647089625241, 0.059191415539842404, 0.06018513693036182, 0.061124851194639784, 0.062008055973961945, 0.06283255541325102, 0.06359648193536356, 0.06429831441496915, 0.06493689242840124, 0.06551142632608288, 0.06602150295114165, 0.06646708690994067, 0.06684851738563446, 0.06716650057255974, 0.06742209789530518, 0.06761671025967368, 0.06775205866151936, 0.06783016155176431, 0.06785330942008531, 0.06782403711431695, 0.06774509445625254, 0.06761941574624139, 0.06745008876802339, 0.06724032391118885, 0.06699342402134524, 0.06671275556769356, 0.06640172168471487, 0.06606373759978157, 0.06570220890273663, 0.06532051304804692, 0.06492198440645836, 0.06450990310274106, 0.06408748779081927, 0.0636578924291135, 0.06322420702911646, 0.0627894622608986, 0.062356637712190584, 0.06192867351462761, 0.06150848497327632, 0.06109897976517118, 0.06070307721056502, 0.060323729068089006, 0.05996394126293395, 0.05962679592623979, 0.059315473104609814, 0.059033271491340925, 0.05878362753565061, 0.0585701323027504, 0.05839654548572269, 0.058266806009288526, 0.058185038715001115, 0.058155556676327456, 0.0581828587594869, 0.058271622120717466, 0.05842668941161228, 0.05865305055006328, 0.05895581900380349, 0.05934020262520802, 0.05981146916848459, 0.06037490671228664, 0.061035779300727865, 0.06179927820243165, 0.06267046926931925, 0.06365423695309412, 0.06475522560665961, 0.06597777875895215, 0.0673258771039044, 0.0688030759866287, 0.07041244320168395, 0.07215649793886754, 0.07403715172088599, 0.07605565217420429, 0.07821253045918834, 0.0805075531583596, 0.08293967938234861, 0.085507023802329, 0.08820682625585467, 0.09103542850083479, 0.09398825861072654, 0.09705982341397038, 0.10024370928343386, 0.10353259147852875, 0.10691825213520466, 0.11039160688880977, 0.11394274000351143, 0.11756094777136811, 0.12123478983598186, 0.12495214799175816, 0.1287002919118773, 0.13246595116782559, 0.13623539282232, 0.13999450380710254, 0.1437288772386433, 0.14742390177929682, 0.15106485311972495, 0.15463698664094686, 0.15812563031148072, 0.16151627688664588, 0.16479467450287597, 0.1679469147992071, 0.17095951775004212, 0.17381951245665672, 0.17651451321826353, 0.17903279028518315, 0.181363334784904, 0.18349591740469376, 0.1854211405098574, 0.18713048347273223, 0.1886163410820394, 0.18987205499332832, 0.19089193826718728, 0.1916712931210037, 0.19220642209095626, 0.1924946328624831, 0.19253423707882286, 0.1923245434778562, 0.1918658457371337, 0.19115940542578744, 0.1902074304703577, 0.1890130495401563, 0.18758028274755673, 0.18591400904075933, 0.18401993064247416, 0.18190453485911104, 0.17957505355304015, 0.17703942053690458, 0.17430622711542218, 0.171384675968093, 0.16828453353714778, 0.16501608106009724, 0.1615900643664036, 0.15801764254383027, 0.15431033557243912, 0.15047997102320243, 0.1465386299237566, 0.14249859190557473, 0.1383722797642509, 0.13417220358682658, 0.129910904626167, 0.12560089913116393, 0.12125462237170845, 0.11688437312762583, 0.11250225893973077, 0.10812014244750817, 0.10374958916041013, 0.09940181702723654, 0.09508764817954614, 0.09081746322973767, 0.08660115850175494, 0.08244810656193034, 0.07836712039919339, 0.07436642157782325, 0.07045361265247768, 0.06663565409496008, 0.06291884593584006, 0.05930881427257504, 0.055810502740270836, 0.052428168982842596, 0.049165386102368355, 0.046025049004152, 0.043009385495706466], \"type\": \"scatter\"}], \"name\": \"13\"}, {\"data\": [{\"marker\": {\"color\": \"red\", \"size\": 4}, \"mode\": \"markers\", \"name\": \"s2\", \"x\": [1.6243453636632417, -0.6117564136500754, -0.5281717522634557, -1.0729686221561705, 0.8654076293246785, -2.3015386968802827, 1.74481176421648, -0.7612069008951028, 0.31903909605709857, 4.75062962452259, 6.4621079370449745, 2.939859290502346, 4.677582795986493, 4.615945645331585, 6.133769442335438, 3.900108732685969, 4.8275717924495645, 4.122141582078628, 5.042213746715593, 5.582815213715822, 3.8993808227870788, 6.144723709839614, 5.901590720592796, 5.502494338901868, 5.900855949264412, 4.316272140825667, 4.877109774481352, 4.064230565740932, 4.732111920373984, 5.530355466738186], \"y\": [0.0, -0.0, -0.0, -0.0, 0.0, -0.0, 0.0, -0.0, 0.0, 0.0, 0.0, 0.0, 0.0, 0.0, 0.0, 0.0, 0.0, 0.0, 0.0, 0.0, 0.0, 0.0, 0.0, 0.0, 0.0, 0.0, 0.0, 0.0, 0.0, 0.0], \"type\": \"scatter\"}, {\"line\": {\"color\": \"rgb(0,0,0)\", \"width\": 2}, \"mode\": \"lines\", \"name\": \"s2\", \"opacity\": 1.0, \"x\": [-3.3015386968802827, -3.2474500203278946, -3.193361343775506, -3.139272667223118, -3.0851839906707297, -3.0310953141183417, -2.977006637565953, -2.922917961013565, -2.8688292844611767, -2.8147406079087887, -2.7606519313564, -2.706563254804012, -2.652474578251624, -2.5983859016992357, -2.5442972251468476, -2.490208548594459, -2.436119872042071, -2.3820311954896827, -2.3279425189372946, -2.2738538423849066, -2.219765165832518, -2.1656764892801297, -2.1115878127277417, -2.0574991361753536, -2.003410459622965, -1.949321783070577, -1.8952331065181887, -1.8411444299658006, -1.7870557534134124, -1.7329670768610241, -1.6788784003086359, -1.6247897237562476, -1.5707010472038594, -1.5166123706514711, -1.462523694099083, -1.4084350175466946, -1.3543463409943064, -1.3002576644419181, -1.2461689878895301, -1.1920803113371417, -1.1379916347847536, -1.0839029582323652, -1.0298142816799771, -0.9757256051275891, -0.9216369285752006, -0.8675482520228126, -0.8134595754704241, -0.7593708989180361, -0.7052822223656476, -0.6511935458132596, -0.5971048692608711, -0.5430161927084831, -0.48892751615609464, -0.4348388396037066, -0.3807501630513186, -0.3266614864989301, -0.2725728099465421, -0.21848413339415362, -0.1643954568417656, -0.11030678028937713, -0.0562181037369891, -0.0021294271846006296, 0.0519592493677874, 0.10604792592017587, 0.1601366024725639, 0.21422527902495192, 0.2683139555773404, 0.3224026321297284, 0.3764913086821169, 0.4305799852345049, 0.4846686617868934, 0.5387573383392814, 0.5928460148916699, 0.6469346914440579, 0.7010233679964464, 0.755112044548834, 0.8092007211012224, 0.8632893976536109, 0.9173780742059994, 0.971466750758387, 1.0255554273107754, 1.079644103863164, 1.1337327804155524, 1.18782145696794, 1.2419101335203284, 1.295998810072717, 1.3500874866251045, 1.404176163177493, 1.4582648397298814, 1.5123535162822699, 1.5664421928346575, 1.620530869387046, 1.6746195459394344, 1.7287082224918229, 1.7827968990442105, 1.836885575596599, 1.8909742521489874, 1.945062928701375, 1.9991516052537635, 2.053240281806152, 2.1073289583585404, 2.161417634910928, 2.2155063114633164, 2.269594988015705, 2.3236836645680934, 2.377772341120481, 2.4318610176728694, 2.485949694225258, 2.5400383707776455, 2.594127047330034, 2.6482157238824224, 2.702304400434811, 2.7563930769871985, 2.810481753539587, 2.8645704300919754, 2.918659106644364, 2.9727477831967515, 3.02683645974914, 3.0809251363015284, 3.135013812853916, 3.1891024894063045, 3.243191165958693, 3.2972798425110814, 3.351368519063469, 3.4054571956158575, 3.459545872168246, 3.5136345487206344, 3.567723225273022, 3.6218119018254105, 3.675900578377799, 3.7299892549301865, 3.784077931482575, 3.8381666080349635, 3.892255284587352, 3.9463439611397395, 4.000432637692128, 4.054521314244516, 4.108609990796905, 4.162698667349293, 4.2167873439016805, 4.27087602045407, 4.3249646970064575, 4.379053373558845, 4.433142050111234, 4.487230726663622, 4.54131940321601, 4.595408079768399, 4.6494967563207865, 4.703585432873176, 4.7576741094255635, 4.811762785977951, 4.86585146253034, 4.919940139082728, 4.974028815635117, 5.028117492187505, 5.0822061687398925, 5.136294845292282, 5.1903835218446694, 5.244472198397057, 5.298560874949446, 5.352649551501834, 5.4067382280542216, 5.460826904606611, 5.5149155811589985, 5.569004257711388, 5.623092934263775, 5.677181610816163, 5.731270287368552, 5.78535896392094, 5.8394476404733275, 5.893536317025717, 5.9476249935781045, 6.001713670130492, 6.055802346682881, 6.109891023235269, 6.163979699787658, 6.218068376340046, 6.2721570528924335, 6.326245729444823, 6.3803344059972105, 6.434423082549598, 6.488511759101987, 6.542600435654375, 6.596689112206763, 6.650777788759152, 6.7048664653115395, 6.758955141863929, 6.8130438184163165, 6.867132494968704, 6.921221171521093, 6.975309848073481, 7.029398524625869, 7.083487201178258, 7.1375758777306455, 7.191664554283033, 7.245753230835422, 7.29984190738781, 7.353930583940199, 7.408019260492587, 7.4621079370449745], \"y\": [0.012901236543338529, 0.013680212012193334, 0.014489124169255895, 0.015328005550779464, 0.01619680808859368, 0.0170953978556139, 0.018023549652240636, 0.018980941469097335, 0.019967148872950174, 0.020981639374508976, 0.022023766848830232, 0.023092766090911387, 0.02418774760042859, 0.025307692700061953, 0.026451449101095044, 0.027617727037596924, 0.028805096096131265, 0.030011982871252174, 0.031236669577736624, 0.032477293748315594, 0.03373184914039845, 0.03499818796680998, 0.036274024553819464, 0.03755694051475632, 0.03884439150939685, 0.04013371563825968, 0.0414221434972565, 0.04270680989217913, 0.04398476718471212, 0.045253000212567764, 0.046508442696530254, 0.04774799501730169, 0.048968543215730784, 0.050166979041968415, 0.051340220853012666, 0.052485235134662814, 0.05359905840372568, 0.05467881923000328, 0.05572176010565392, 0.056725258882389065, 0.057686849494986786, 0.05860424169299374, 0.05947533951134998, 0.06029825822500095, 0.06107133955219376, 0.06179316489583424, 0.06246256644159344, 0.06307863596489342, 0.06364073123584672, 0.06414847995095249, 0.06460178116207843, 0.06500080421612348, 0.06534598526186529, 0.06563802142293604, 0.06587786277672905, 0.06606670231741969, 0.06620596411634183, 0.06629728992392027, 0.06634252448350211, 0.06634369984817252, 0.0663030190064798, 0.06622283913157115, 0.06610565477032694, 0.06595408128457463, 0.06577083884542335, 0.06555873726435849, 0.06532066192131464, 0.06505956102092822, 0.06477843437415438, 0.06448032386406427, 0.06416830571269277, 0.06384548462112474, 0.06351498980846677, 0.06317997292789715, 0.0628436077905589, 0.06250909178160785, 0.062179648808178334, 0.06185853357727412, 0.061549036963464226, 0.06125449219252566, 0.060978281538517684, 0.06072384320877145, 0.06049467807441701, 0.06029435589372274, 0.06012652067192759, 0.059994894804544965, 0.059903281661306644, 0.059855566284890055, 0.05985571390209493, 0.059907765974871637, 0.06001583355409947, 0.06018408773972745, 0.06041674709619699, 0.06071806192124649, 0.06109229531849993, 0.061543701078822455, 0.062076498431440766, 0.06269484378237973, 0.06340279961396066, 0.06420430077404714, 0.06510311843652335, 0.06610282206429671, 0.06720673975210996, 0.06841791736786948, 0.06973907694733848, 0.07117257482728656, 0.07272036002597597, 0.07438393339675428, 0.07616430809015472, 0.07806197186202687, 0.08007685175969625, 0.08220828170495026, 0.08445497347185839, 0.0868149915292642, 0.08928573218254333, 0.09186390740735101, 0.09454553372009965, 0.09732592637646556, 0.10019969913103947, 0.10316076972912865, 0.1062023712365524, 0.10931706924600226, 0.11249678493013218, 0.11573282384300665, 0.11901591030389, 0.122336227131608, 0.12568346043484405, 0.12904684910467737, 0.1324152386013285, 0.13577713857821647, 0.1391207838438174, 0.14243419812598726, 0.1457052600749033, 0.14892177091994213, 0.15207152318283013, 0.15514236984441693, 0.15812229336530384, 0.16099947397117192, 0.16376235663159977, 0.16639971618601387, 0.16890072010156848, 0.1712549883845258, 0.17345265020831177, 0.17548439686703177, 0.1773415307119097, 0.17901600977897575, 0.1805004878683916, 0.181788349888179, 0.1828737423268901, 0.18375159877011188, 0.18441766042384664, 0.18486849165309757, 0.18510149058583888, 0.18511489487048322, 0.18490778270867228, 0.18448006931445335, 0.18383249897560694, 0.1829666329130723, 0.1818848331502185, 0.18059024261540238, 0.1790867617091515, 0.17737902157185367, 0.17547235428949956, 0.17337276027431392, 0.17108687305460313, 0.168621921704357, 0.16598569113861572, 0.16318648049586146, 0.16023305982414282, 0.15713462528369027, 0.15390075307575485, 0.15054135230549476, 0.14706661698612122, 0.14348697739221483, 0.1398130509721069, 0.13605559303234402, 0.1322254474113168, 0.12833349736383692, 0.12439061688346514, 0.12040762269431918, 0.11639522714852334, 0.112363992268955, 0.10832428517908, 0.10428623516201115, 0.10025969258914062, 0.09625418995438924, 0.09227890524307984, 0.08834262785442892, 0.08445372728355621, 0.0806201247527012, 0.07684926796204179, 0.07314810910827288, 0.0695230862941498, 0.06598010842480319, 0.06252454365717815, 0.059161211437861835, 0.05589437813230622, 0.052727756215559585, 0.04966450696162352, 0.04670724653599088], \"type\": \"scatter\"}], \"name\": \"14\"}, {\"data\": [{\"marker\": {\"color\": \"red\", \"size\": 4}, \"mode\": \"markers\", \"name\": \"s2\", \"x\": [1.6243453636632417, -0.6117564136500754, -0.5281717522634557, -1.0729686221561705, 0.8654076293246785, -2.3015386968802827, 1.74481176421648, -0.7612069008951028, 0.31903909605709857, 4.75062962452259, 6.4621079370449745, 2.939859290502346, 4.677582795986493, 4.615945645331585, 6.133769442335438, 3.900108732685969, 4.8275717924495645, 4.122141582078628, 5.042213746715593, 5.582815213715822, 3.8993808227870788, 6.144723709839614, 5.901590720592796, 5.502494338901868, 5.900855949264412, 4.316272140825667, 4.877109774481352, 4.064230565740932, 4.732111920373984, 5.530355466738186], \"y\": [0.0, -0.0, -0.0, -0.0, 0.0, -0.0, 0.0, -0.0, 0.0, 0.0, 0.0, 0.0, 0.0, 0.0, 0.0, 0.0, 0.0, 0.0, 0.0, 0.0, 0.0, 0.0, 0.0, 0.0, 0.0, 0.0, 0.0, 0.0, 0.0, 0.0], \"type\": \"scatter\"}, {\"line\": {\"color\": \"rgb(0,0,0)\", \"width\": 2}, \"mode\": \"lines\", \"name\": \"s2\", \"opacity\": 1.0, \"x\": [-3.3015386968802827, -3.2474500203278946, -3.193361343775506, -3.139272667223118, -3.0851839906707297, -3.0310953141183417, -2.977006637565953, -2.922917961013565, -2.8688292844611767, -2.8147406079087887, -2.7606519313564, -2.706563254804012, -2.652474578251624, -2.5983859016992357, -2.5442972251468476, -2.490208548594459, -2.436119872042071, -2.3820311954896827, -2.3279425189372946, -2.2738538423849066, -2.219765165832518, -2.1656764892801297, -2.1115878127277417, -2.0574991361753536, -2.003410459622965, -1.949321783070577, -1.8952331065181887, -1.8411444299658006, -1.7870557534134124, -1.7329670768610241, -1.6788784003086359, -1.6247897237562476, -1.5707010472038594, -1.5166123706514711, -1.462523694099083, -1.4084350175466946, -1.3543463409943064, -1.3002576644419181, -1.2461689878895301, -1.1920803113371417, -1.1379916347847536, -1.0839029582323652, -1.0298142816799771, -0.9757256051275891, -0.9216369285752006, -0.8675482520228126, -0.8134595754704241, -0.7593708989180361, -0.7052822223656476, -0.6511935458132596, -0.5971048692608711, -0.5430161927084831, -0.48892751615609464, -0.4348388396037066, -0.3807501630513186, -0.3266614864989301, -0.2725728099465421, -0.21848413339415362, -0.1643954568417656, -0.11030678028937713, -0.0562181037369891, -0.0021294271846006296, 0.0519592493677874, 0.10604792592017587, 0.1601366024725639, 0.21422527902495192, 0.2683139555773404, 0.3224026321297284, 0.3764913086821169, 0.4305799852345049, 0.4846686617868934, 0.5387573383392814, 0.5928460148916699, 0.6469346914440579, 0.7010233679964464, 0.755112044548834, 0.8092007211012224, 0.8632893976536109, 0.9173780742059994, 0.971466750758387, 1.0255554273107754, 1.079644103863164, 1.1337327804155524, 1.18782145696794, 1.2419101335203284, 1.295998810072717, 1.3500874866251045, 1.404176163177493, 1.4582648397298814, 1.5123535162822699, 1.5664421928346575, 1.620530869387046, 1.6746195459394344, 1.7287082224918229, 1.7827968990442105, 1.836885575596599, 1.8909742521489874, 1.945062928701375, 1.9991516052537635, 2.053240281806152, 2.1073289583585404, 2.161417634910928, 2.2155063114633164, 2.269594988015705, 2.3236836645680934, 2.377772341120481, 2.4318610176728694, 2.485949694225258, 2.5400383707776455, 2.594127047330034, 2.6482157238824224, 2.702304400434811, 2.7563930769871985, 2.810481753539587, 2.8645704300919754, 2.918659106644364, 2.9727477831967515, 3.02683645974914, 3.0809251363015284, 3.135013812853916, 3.1891024894063045, 3.243191165958693, 3.2972798425110814, 3.351368519063469, 3.4054571956158575, 3.459545872168246, 3.5136345487206344, 3.567723225273022, 3.6218119018254105, 3.675900578377799, 3.7299892549301865, 3.784077931482575, 3.8381666080349635, 3.892255284587352, 3.9463439611397395, 4.000432637692128, 4.054521314244516, 4.108609990796905, 4.162698667349293, 4.2167873439016805, 4.27087602045407, 4.3249646970064575, 4.379053373558845, 4.433142050111234, 4.487230726663622, 4.54131940321601, 4.595408079768399, 4.6494967563207865, 4.703585432873176, 4.7576741094255635, 4.811762785977951, 4.86585146253034, 4.919940139082728, 4.974028815635117, 5.028117492187505, 5.0822061687398925, 5.136294845292282, 5.1903835218446694, 5.244472198397057, 5.298560874949446, 5.352649551501834, 5.4067382280542216, 5.460826904606611, 5.5149155811589985, 5.569004257711388, 5.623092934263775, 5.677181610816163, 5.731270287368552, 5.78535896392094, 5.8394476404733275, 5.893536317025717, 5.9476249935781045, 6.001713670130492, 6.055802346682881, 6.109891023235269, 6.163979699787658, 6.218068376340046, 6.2721570528924335, 6.326245729444823, 6.3803344059972105, 6.434423082549598, 6.488511759101987, 6.542600435654375, 6.596689112206763, 6.650777788759152, 6.7048664653115395, 6.758955141863929, 6.8130438184163165, 6.867132494968704, 6.921221171521093, 6.975309848073481, 7.029398524625869, 7.083487201178258, 7.1375758777306455, 7.191664554283033, 7.245753230835422, 7.29984190738781, 7.353930583940199, 7.408019260492587, 7.4621079370449745], \"y\": [0.01386748985716596, 0.014647440450204692, 0.015454712851035468, 0.01628918175708489, 0.017150639617998623, 0.01803879252117707, 0.018953256176077963, 0.019893552040206722, 0.020859103634654475, 0.021849233101745653, 0.02286315806168003, 0.02389998882884412, 0.024958726051576417, 0.02603825884144552, 0.027137363459401855, 0.028254702626356126, 0.029388825524707892, 0.030538168554993105, 0.03170105690807296, 0.032875707008092545, 0.034060229874787074, 0.03525263544561551, 0.036450837888711014, 0.037652661926835244, 0.03885585018053783, 0.040058071525699894, 0.041256930446781456, 0.042449977352610045, 0.04363471980668958, 0.044808634609052815, 0.04596918065190134, 0.04711381245698797, 0.048239994289189535, 0.04934521472830487, 0.05042700157007832, 0.05148293691807892, 0.05251067232060394, 0.05350794380145177, 0.05447258663040999, 0.05540254967876645, 0.05629590920718281, 0.05715088193790451, 0.05796583727052304, 0.05873930851028023, 0.05947000299010049, 0.06015681098197816, 0.06079881330980604, 0.06139528759393703, 0.06194571307740338, 0.06244977400442235, 0.06290736154320538, 0.06331857426675684, 0.0636837172268634, 0.06400329967742095, 0.06427803152318995, 0.06450881858859743, 0.06469675681794038, 0.06484312553291442, 0.06494937988548911, 0.06501714265349855, 0.06504819553269857, 0.06504447008228931, 0.06500803848093621, 0.06494110424708292, 0.0648459930708989, 0.06472514389561547, 0.0645811003734638, 0.06441650280614843, 0.06423408066205974, 0.06403664574258706, 0.06382708604832116, 0.06360836037305297, 0.063383493629734, 0.06315557288844298, 0.06292774408237997, 0.06270320931447894, 0.06248522467487495, 0.06227709845864497, 0.06208218965440789, 0.0619039065579334, 0.06174570535122611, 0.06161108847695999, 0.06150360263088803, 0.06142683619116881, 0.06138441590356196, 0.06138000264525006, 0.06141728609763954, 0.06149997816983363, 0.06163180502943706, 0.061816497615746695, 0.062057780531976844, 0.062359359237633034, 0.0627249054891502, 0.06315804100602244, 0.06366231937044266, 0.06424120620045162, 0.06489805766927077, 0.06563609747632655, 0.06645839240795223, 0.06736782665732557, 0.06836707510335566, 0.06945857577645526, 0.07064450176494272, 0.07192673283875861, 0.07330682708684683, 0.07478599288056152, 0.07636506148752104, 0.07804446066816295, 0.07982418959068252, 0.08170379539891537, 0.08368235176200134, 0.08575843972434445, 0.08793013115954014, 0.09019497511271883, 0.0925499872923739, 0.09499164294547367, 0.09751587331883978, 0.10011806587580596, 0.10279306840048692, 0.10553519708308445, 0.10833824863904358, 0.1111955164731066, 0.11409981085696146, 0.11704348304681313, 0.12001845322540451, 0.1230162421123532, 0.1260280060476755, 0.1290445753165938, 0.13205649544962222, 0.13505407120096433, 0.13802741288080783, 0.14096648469350165, 0.14386115471413014, 0.14670124612084237, 0.14947658928959912, 0.15217707435182198, 0.15479270381376198, 0.15731364483916932, 0.15973028080389412, 0.1620332617421871, 0.16421355331940563, 0.1662624839842741, 0.16817178997543522, 0.16993365788133138, 0.17154076447910122, 0.17298631360667777, 0.1742640698521982, 0.17536838887573486, 0.17629424420977508, 0.17703725041639948, 0.1775936825103278, 0.17796049158755411, 0.1781353166288415, 0.1781164924756099, 0.17790305400248152, 0.17749473653575534, 0.1768919725902158, 0.17609588501786097, 0.17510827668127849, 0.17393161678155428, 0.17256902398574211, 0.17102424651217377, 0.16930163934332518, 0.16740613874570814, 0.16534323428446399, 0.1631189385271645, 0.16073975463691065, 0.15821264205934488, 0.1555449805117718, 0.15274453248538047, 0.1498194044736715, 0.14677800714171355, 0.14362901465186612, 0.14038132336213596, 0.13704401011340886, 0.13362629032141024, 0.13013747608835624, 0.12658693454781522, 0.12298404665422244, 0.11933816662570906, 0.1156585822452976, 0.11195447622100513, 0.10823488879985263, 0.10450868182413402, 0.10078450441043987, 0.09707076042281747, 0.09337557790099317, 0.08970678059280633, 0.08607186172685319, 0.0824779601468916, 0.07893183891383808, 0.07543986646430434, 0.07200800039669093, 0.06864177393701965, 0.06534628511712968, 0.062126188677781094, 0.0589856906888169, 0.055928545858067356, 0.052958057480391084, 0.05007707995836137], \"type\": \"scatter\"}], \"name\": \"15\"}, {\"data\": [{\"marker\": {\"color\": \"red\", \"size\": 4}, \"mode\": \"markers\", \"name\": \"s2\", \"x\": [1.6243453636632417, -0.6117564136500754, -0.5281717522634557, -1.0729686221561705, 0.8654076293246785, -2.3015386968802827, 1.74481176421648, -0.7612069008951028, 0.31903909605709857, 4.75062962452259, 6.4621079370449745, 2.939859290502346, 4.677582795986493, 4.615945645331585, 6.133769442335438, 3.900108732685969, 4.8275717924495645, 4.122141582078628, 5.042213746715593, 5.582815213715822, 3.8993808227870788, 6.144723709839614, 5.901590720592796, 5.502494338901868, 5.900855949264412, 4.316272140825667, 4.877109774481352, 4.064230565740932, 4.732111920373984, 5.530355466738186], \"y\": [0.0, -0.0, -0.0, -0.0, 0.0, -0.0, 0.0, -0.0, 0.0, 0.0, 0.0, 0.0, 0.0, 0.0, 0.0, 0.0, 0.0, 0.0, 0.0, 0.0, 0.0, 0.0, 0.0, 0.0, 0.0, 0.0, 0.0, 0.0, 0.0, 0.0], \"type\": \"scatter\"}, {\"line\": {\"color\": \"rgb(0,0,0)\", \"width\": 2}, \"mode\": \"lines\", \"name\": \"s2\", \"opacity\": 1.0, \"x\": [-3.3015386968802827, -3.2474500203278946, -3.193361343775506, -3.139272667223118, -3.0851839906707297, -3.0310953141183417, -2.977006637565953, -2.922917961013565, -2.8688292844611767, -2.8147406079087887, -2.7606519313564, -2.706563254804012, -2.652474578251624, -2.5983859016992357, -2.5442972251468476, -2.490208548594459, -2.436119872042071, -2.3820311954896827, -2.3279425189372946, -2.2738538423849066, -2.219765165832518, -2.1656764892801297, -2.1115878127277417, -2.0574991361753536, -2.003410459622965, -1.949321783070577, -1.8952331065181887, -1.8411444299658006, -1.7870557534134124, -1.7329670768610241, -1.6788784003086359, -1.6247897237562476, -1.5707010472038594, -1.5166123706514711, -1.462523694099083, -1.4084350175466946, -1.3543463409943064, -1.3002576644419181, -1.2461689878895301, -1.1920803113371417, -1.1379916347847536, -1.0839029582323652, -1.0298142816799771, -0.9757256051275891, -0.9216369285752006, -0.8675482520228126, -0.8134595754704241, -0.7593708989180361, -0.7052822223656476, -0.6511935458132596, -0.5971048692608711, -0.5430161927084831, -0.48892751615609464, -0.4348388396037066, -0.3807501630513186, -0.3266614864989301, -0.2725728099465421, -0.21848413339415362, -0.1643954568417656, -0.11030678028937713, -0.0562181037369891, -0.0021294271846006296, 0.0519592493677874, 0.10604792592017587, 0.1601366024725639, 0.21422527902495192, 0.2683139555773404, 0.3224026321297284, 0.3764913086821169, 0.4305799852345049, 0.4846686617868934, 0.5387573383392814, 0.5928460148916699, 0.6469346914440579, 0.7010233679964464, 0.755112044548834, 0.8092007211012224, 0.8632893976536109, 0.9173780742059994, 0.971466750758387, 1.0255554273107754, 1.079644103863164, 1.1337327804155524, 1.18782145696794, 1.2419101335203284, 1.295998810072717, 1.3500874866251045, 1.404176163177493, 1.4582648397298814, 1.5123535162822699, 1.5664421928346575, 1.620530869387046, 1.6746195459394344, 1.7287082224918229, 1.7827968990442105, 1.836885575596599, 1.8909742521489874, 1.945062928701375, 1.9991516052537635, 2.053240281806152, 2.1073289583585404, 2.161417634910928, 2.2155063114633164, 2.269594988015705, 2.3236836645680934, 2.377772341120481, 2.4318610176728694, 2.485949694225258, 2.5400383707776455, 2.594127047330034, 2.6482157238824224, 2.702304400434811, 2.7563930769871985, 2.810481753539587, 2.8645704300919754, 2.918659106644364, 2.9727477831967515, 3.02683645974914, 3.0809251363015284, 3.135013812853916, 3.1891024894063045, 3.243191165958693, 3.2972798425110814, 3.351368519063469, 3.4054571956158575, 3.459545872168246, 3.5136345487206344, 3.567723225273022, 3.6218119018254105, 3.675900578377799, 3.7299892549301865, 3.784077931482575, 3.8381666080349635, 3.892255284587352, 3.9463439611397395, 4.000432637692128, 4.054521314244516, 4.108609990796905, 4.162698667349293, 4.2167873439016805, 4.27087602045407, 4.3249646970064575, 4.379053373558845, 4.433142050111234, 4.487230726663622, 4.54131940321601, 4.595408079768399, 4.6494967563207865, 4.703585432873176, 4.7576741094255635, 4.811762785977951, 4.86585146253034, 4.919940139082728, 4.974028815635117, 5.028117492187505, 5.0822061687398925, 5.136294845292282, 5.1903835218446694, 5.244472198397057, 5.298560874949446, 5.352649551501834, 5.4067382280542216, 5.460826904606611, 5.5149155811589985, 5.569004257711388, 5.623092934263775, 5.677181610816163, 5.731270287368552, 5.78535896392094, 5.8394476404733275, 5.893536317025717, 5.9476249935781045, 6.001713670130492, 6.055802346682881, 6.109891023235269, 6.163979699787658, 6.218068376340046, 6.2721570528924335, 6.326245729444823, 6.3803344059972105, 6.434423082549598, 6.488511759101987, 6.542600435654375, 6.596689112206763, 6.650777788759152, 6.7048664653115395, 6.758955141863929, 6.8130438184163165, 6.867132494968704, 6.921221171521093, 6.975309848073481, 7.029398524625869, 7.083487201178258, 7.1375758777306455, 7.191664554283033, 7.245753230835422, 7.29984190738781, 7.353930583940199, 7.408019260492587, 7.4621079370449745], \"y\": [0.014803205922233212, 0.015578985428219602, 0.016379332115983736, 0.017203992109217296, 0.01805263393849239, 0.018924845732257098, 0.019820132621985353, 0.020737914396642913, 0.0216775234431126, 0.02263820301036328, 0.02361910583589164, 0.024619293173245876, 0.02563773425920849, 0.026673306258410173, 0.02772479472173454, 0.028790894592811183, 0.029870211794161147, 0.03096126542114119, 0.03206249056772874, 0.033172241803413556, 0.03428879731504228, 0.03541036372144025, 0.03653508156207025, 0.03766103145395276, 0.03878624090365244, 0.03990869175343215, 0.04102632823280096, 0.042137065578753755, 0.0432387991801544, 0.04432941419407951, 0.04540679557465926, 0.04646883844816102, 0.0475134587619005, 0.04853860412915924, 0.04954226478776348, 0.050522484586444684, 0.05147737191065336, 0.05240511045821597, 0.0533039697751665, 0.05417231546328976, 0.05500861897340097, 0.05581146690214043, 0.056579569715059466, 0.057311769824948934, 0.058007048961634354, 0.05866453477773126, 0.059283506643987426, 0.05986340059768649, 0.060403813417999004, 0.06090450581293757, 0.06136540471354383, 0.0617866046818774, 0.06216836845011209, 0.06251112661835687, 0.06281547654852203, 0.06308218050044441, 0.06331216306440644, 0.06350650795096166, 0.06366645420448593, 0.06379339191097727, 0.0638888574732606, 0.06395452852782653, 0.06399221857704306, 0.06400387140839832, 0.06399155536881308, 0.0639574575569508, 0.06390387798995437, 0.06383322379326584, 0.06374800345329601, 0.06365082116287414, 0.06354437127882138, 0.06343143289987409, 0.06331486456175633, 0.06319759903471105, 0.06308263819748883, 0.06297304795090448, 0.06287195312385421, 0.06278253231536725, 0.06270801260807334, 0.06265166408159618, 0.0626167940490309, 0.0626067409359704, 0.06262486771966078, 0.06267455484587499, 0.06275919254306953, 0.0628821724573657, 0.06304687853786341, 0.06325667710972435, 0.06351490608226146, 0.06382486325085232, 0.0641897936646911, 0.06461287604704985, 0.06509720827062235, 0.06564579190744008, 0.06626151589053965, 0.06694713934274353, 0.06770527364631193, 0.06853836384553878, 0.06944866949230616, 0.0704382450618673, 0.07150892008242533, 0.07266227913711133, 0.07389964191048154, 0.07522204346340285, 0.07663021492993514, 0.0781245648373698, 0.07970516125575516, 0.08137171498590631, 0.08312356399495548, 0.0849596593058782, 0.08687855254211568, 0.08887838532040605, 0.09095688067430144, 0.09311133667766533, 0.09533862242185413, 0.09763517648244363, 0.09999700799147591, 0.10241970040949108, 0.10489841806834052, 0.10742791553122039, 0.11000254979082802, 0.11261629530033361, 0.11526276180529764, 0.11793521491809039, 0.12062659935009278, 0.12332956469131787, 0.12603649360239372, 0.12873953226038432, 0.13143062287799176, 0.1341015380955127, 0.13674391702677108, 0.13934930272428803, 0.14190918081537499, 0.14441501904976173, 0.14685830749089285, 0.14923059907722813, 0.1515235502767552, 0.1537289615574832, 0.1558388173988719, 0.1578453255738881, 0.15974095543854977, 0.1615184749752968, 0.16317098634812932, 0.16469195974100995, 0.16607526526632155, 0.16731520274699982, 0.1684065291940776, 0.16934448382056275, 0.1701248104525908, 0.170743777219401, 0.1711981934246696, 0.17148542352285834, 0.171603398145322, 0.17155062214173983, 0.17132617962284505, 0.1709297360102527, 0.17036153711829527, 0.16962240531104933, 0.1687137327950697, 0.16763747212467864, 0.16639612401190715, 0.16499272254731445, 0.1634308179509129, 0.16171445698425205, 0.15984816116539466, 0.15783690293806, 0.15568607995459527, 0.1534014876397515, 0.15098929020844615, 0.14845599031587747, 0.14580839752250171, 0.14305359575955293, 0.14019890998298112, 0.13725187220494875, 0.13422018709235903, 0.1311116973213233, 0.127934348875014, 0.12469615646999581, 0.12140516929290034, 0.11806943722520141, 0.11469697772886224, 0.11129574355977234, 0.10787359146917792, 0.10443825204572556, 0.10099730084233297, 0.09755813092285727, 0.09412792695350536, 0.09071364095315164, 0.08732196980522983, 0.08395933462173036, 0.08063186203710387, 0.077345367496637, 0.07410534059021912, 0.0709169324684393, 0.06778494536376674, 0.06471382422527713, 0.061707650461114906, 0.058770137768749016, 0.05590463001922396, 0.05311410114813832], \"type\": \"scatter\"}], \"name\": \"16\"}, {\"data\": [{\"marker\": {\"color\": \"red\", \"size\": 4}, \"mode\": \"markers\", \"name\": \"s2\", \"x\": [1.6243453636632417, -0.6117564136500754, -0.5281717522634557, -1.0729686221561705, 0.8654076293246785, -2.3015386968802827, 1.74481176421648, -0.7612069008951028, 0.31903909605709857, 4.75062962452259, 6.4621079370449745, 2.939859290502346, 4.677582795986493, 4.615945645331585, 6.133769442335438, 3.900108732685969, 4.8275717924495645, 4.122141582078628, 5.042213746715593, 5.582815213715822, 3.8993808227870788, 6.144723709839614, 5.901590720592796, 5.502494338901868, 5.900855949264412, 4.316272140825667, 4.877109774481352, 4.064230565740932, 4.732111920373984, 5.530355466738186], \"y\": [0.0, -0.0, -0.0, -0.0, 0.0, -0.0, 0.0, -0.0, 0.0, 0.0, 0.0, 0.0, 0.0, 0.0, 0.0, 0.0, 0.0, 0.0, 0.0, 0.0, 0.0, 0.0, 0.0, 0.0, 0.0, 0.0, 0.0, 0.0, 0.0, 0.0], \"type\": \"scatter\"}, {\"line\": {\"color\": \"rgb(0,0,0)\", \"width\": 2}, \"mode\": \"lines\", \"name\": \"s2\", \"opacity\": 1.0, \"x\": [-3.3015386968802827, -3.2474500203278946, -3.193361343775506, -3.139272667223118, -3.0851839906707297, -3.0310953141183417, -2.977006637565953, -2.922917961013565, -2.8688292844611767, -2.8147406079087887, -2.7606519313564, -2.706563254804012, -2.652474578251624, -2.5983859016992357, -2.5442972251468476, -2.490208548594459, -2.436119872042071, -2.3820311954896827, -2.3279425189372946, -2.2738538423849066, -2.219765165832518, -2.1656764892801297, -2.1115878127277417, -2.0574991361753536, -2.003410459622965, -1.949321783070577, -1.8952331065181887, -1.8411444299658006, -1.7870557534134124, -1.7329670768610241, -1.6788784003086359, -1.6247897237562476, -1.5707010472038594, -1.5166123706514711, -1.462523694099083, -1.4084350175466946, -1.3543463409943064, -1.3002576644419181, -1.2461689878895301, -1.1920803113371417, -1.1379916347847536, -1.0839029582323652, -1.0298142816799771, -0.9757256051275891, -0.9216369285752006, -0.8675482520228126, -0.8134595754704241, -0.7593708989180361, -0.7052822223656476, -0.6511935458132596, -0.5971048692608711, -0.5430161927084831, -0.48892751615609464, -0.4348388396037066, -0.3807501630513186, -0.3266614864989301, -0.2725728099465421, -0.21848413339415362, -0.1643954568417656, -0.11030678028937713, -0.0562181037369891, -0.0021294271846006296, 0.0519592493677874, 0.10604792592017587, 0.1601366024725639, 0.21422527902495192, 0.2683139555773404, 0.3224026321297284, 0.3764913086821169, 0.4305799852345049, 0.4846686617868934, 0.5387573383392814, 0.5928460148916699, 0.6469346914440579, 0.7010233679964464, 0.755112044548834, 0.8092007211012224, 0.8632893976536109, 0.9173780742059994, 0.971466750758387, 1.0255554273107754, 1.079644103863164, 1.1337327804155524, 1.18782145696794, 1.2419101335203284, 1.295998810072717, 1.3500874866251045, 1.404176163177493, 1.4582648397298814, 1.5123535162822699, 1.5664421928346575, 1.620530869387046, 1.6746195459394344, 1.7287082224918229, 1.7827968990442105, 1.836885575596599, 1.8909742521489874, 1.945062928701375, 1.9991516052537635, 2.053240281806152, 2.1073289583585404, 2.161417634910928, 2.2155063114633164, 2.269594988015705, 2.3236836645680934, 2.377772341120481, 2.4318610176728694, 2.485949694225258, 2.5400383707776455, 2.594127047330034, 2.6482157238824224, 2.702304400434811, 2.7563930769871985, 2.810481753539587, 2.8645704300919754, 2.918659106644364, 2.9727477831967515, 3.02683645974914, 3.0809251363015284, 3.135013812853916, 3.1891024894063045, 3.243191165958693, 3.2972798425110814, 3.351368519063469, 3.4054571956158575, 3.459545872168246, 3.5136345487206344, 3.567723225273022, 3.6218119018254105, 3.675900578377799, 3.7299892549301865, 3.784077931482575, 3.8381666080349635, 3.892255284587352, 3.9463439611397395, 4.000432637692128, 4.054521314244516, 4.108609990796905, 4.162698667349293, 4.2167873439016805, 4.27087602045407, 4.3249646970064575, 4.379053373558845, 4.433142050111234, 4.487230726663622, 4.54131940321601, 4.595408079768399, 4.6494967563207865, 4.703585432873176, 4.7576741094255635, 4.811762785977951, 4.86585146253034, 4.919940139082728, 4.974028815635117, 5.028117492187505, 5.0822061687398925, 5.136294845292282, 5.1903835218446694, 5.244472198397057, 5.298560874949446, 5.352649551501834, 5.4067382280542216, 5.460826904606611, 5.5149155811589985, 5.569004257711388, 5.623092934263775, 5.677181610816163, 5.731270287368552, 5.78535896392094, 5.8394476404733275, 5.893536317025717, 5.9476249935781045, 6.001713670130492, 6.055802346682881, 6.109891023235269, 6.163979699787658, 6.218068376340046, 6.2721570528924335, 6.326245729444823, 6.3803344059972105, 6.434423082549598, 6.488511759101987, 6.542600435654375, 6.596689112206763, 6.650777788759152, 6.7048664653115395, 6.758955141863929, 6.8130438184163165, 6.867132494968704, 6.921221171521093, 6.975309848073481, 7.029398524625869, 7.083487201178258, 7.1375758777306455, 7.191664554283033, 7.245753230835422, 7.29984190738781, 7.353930583940199, 7.408019260492587, 7.4621079370449745], \"y\": [0.015694620044112175, 0.01646157034885843, 0.01725037151826186, 0.01806067700028013, 0.01889207048932374, 0.019744064226368173, 0.020616097545293855, 0.021507535690422002, 0.02241766893012171, 0.023345711990997983, 0.024290803836513927, 0.025252007812930542, 0.02622831218415256, 0.027218631075431446, 0.028221805843899172, 0.029236606891576616, 0.030261735933834424, 0.03129582873328296, 0.03233745830575663, 0.03338513860145385, 0.03443732866043218, 0.03549243723757295, 0.03654882788786648, 0.037604824498469816, 0.03865871724951827, 0.039708768981177776, 0.04075322193997338, 0.04179030487308507, 0.04281824043512825, 0.04383525286800252, 0.04483957591075921, 0.04582946089317222, 0.046803184963857235, 0.047759059401423255, 0.04869543795531115, 0.04961072516171268, 0.05050338457930937, 0.05137194688954459, 0.052215017806759495, 0.05303128574478808, 0.05381952918851228, 0.05457862372140648, 0.055307548663217666, 0.056005393275603964, 0.0566713624977216, 0.057304782178367535, 0.057905103776263275, 0.058471908505340384, 0.059004910907367855, 0.05950396183985777, 0.059969050872808245, 0.060400308093388776, 0.060798005323056084, 0.061162556756709806, 0.06149451903826693, 0.061794590791369154, 0.062063611627761986, 0.06230256065912514, 0.06251255454074049, 0.06269484507730151, 0.06285081642237321, 0.06298198190347369, 0.0630899805044744, 0.06317657303600481, 0.0632436380228313, 0.0632931673347954, 0.0633272615848964, 0.06334812531455829, 0.06335806198210737, 0.06335946876609574, 0.06335483119044324, 0.06334671757353297, 0.06333777329851328, 0.0633307148972361, 0.06332832393562357, 0.06333344068392646, 0.0633489575514226, 0.06337781226172906, 0.06342298074215394, 0.06348746969850677, 0.06357430884558654, 0.0636865427632565, 0.06382722234864008, 0.06399939583658333, 0.06420609936313697, 0.06445034705042951, 0.06473512059591074, 0.06506335835451621, 0.06543794390878184, 0.0658616941292577, 0.06633734673564462, 0.06686754737780795, 0.0674548362650838, 0.06810163438197073, 0.06881022933823612, 0.06958276091152744, 0.07042120635059605, 0.07132736551706702, 0.07230284595314644, 0.0733490479716021, 0.07446714987261355, 0.07565809339951916, 0.07692256955194739, 0.07826100488016638, 0.07967354838861683, 0.0811600591793825, 0.08272009496773311, 0.0843529016017632, 0.08605740371650243, 0.0878321966496615, 0.0896755397413932, 0.09158535113410014, 0.09355920418045888, 0.09559432555849019, 0.09768759518178642, 0.09983554798099696, 0.10203437761947526, 0.10427994219176921, 0.10656777193850432, 0.10889307899534875, 0.1112507691773237, 0.11363545578291402, 0.11604147538542019, 0.11846290556197701, 0.12089358449381808, 0.12332713235488392, 0.12575697438994737, 0.12817636556820822, 0.13057841668399445, 0.13295612176292054, 0.1353023866197536, 0.13761005840344803, 0.1398719559554269, 0.14208090079932473, 0.14422974857411028, 0.14631142071784967, 0.1483189362063746, 0.15024544314980512, 0.15208425005022838, 0.15382885652583758, 0.15547298331044584, 0.15701060134243877, 0.15843595976385721, 0.15974361265830747, 0.16092844436568696, 0.16198569322217374, 0.1629109735854387, 0.16370029601747385, 0.1643500855106637, 0.16485719765660514, 0.16521893267159818, 0.16543304720752128, 0.1654977638918593, 0.16541177855582778, 0.16517426512471575, 0.16478487815962853, 0.16424375305464614, 0.16355150390790896, 0.16270921909922068, 0.16171845462031093, 0.16058122521687268, 0.15929999341379275, 0.15787765650658322, 0.15631753161283723, 0.15462333888753116, 0.15279918301514794, 0.15084953309987048, 0.1487792010824579, 0.14659331881888904, 0.1442973139613683, 0.1418968847869069, 0.13939797412234814, 0.1368067425174456, 0.13412954081942388, 0.13137288230334962, 0.12854341451264178, 0.1256478909631782, 0.12269314286269357, 0.11968605099458161, 0.11663351791179141, 0.11354244058229526, 0.1104196836226311, 0.10727205325030228, 0.10410627207941134, 0.10092895487682757, 0.09774658538850758, 0.09456549433732409, 0.09139183868499094, 0.08823158224142919, 0.08509047769528084, 0.08197405012929197, 0.07888758207402556, 0.07583610014290457, 0.07282436328098173, 0.06985685264917749, 0.0669377631550868, 0.06407099663091047, 0.0612601566486911, 0.05850854495291542, 0.05581915948074086], \"type\": \"scatter\"}], \"name\": \"17\"}, {\"data\": [{\"marker\": {\"color\": \"red\", \"size\": 4}, \"mode\": \"markers\", \"name\": \"s2\", \"x\": [1.6243453636632417, -0.6117564136500754, -0.5281717522634557, -1.0729686221561705, 0.8654076293246785, -2.3015386968802827, 1.74481176421648, -0.7612069008951028, 0.31903909605709857, 4.75062962452259, 6.4621079370449745, 2.939859290502346, 4.677582795986493, 4.615945645331585, 6.133769442335438, 3.900108732685969, 4.8275717924495645, 4.122141582078628, 5.042213746715593, 5.582815213715822, 3.8993808227870788, 6.144723709839614, 5.901590720592796, 5.502494338901868, 5.900855949264412, 4.316272140825667, 4.877109774481352, 4.064230565740932, 4.732111920373984, 5.530355466738186], \"y\": [0.0, -0.0, -0.0, -0.0, 0.0, -0.0, 0.0, -0.0, 0.0, 0.0, 0.0, 0.0, 0.0, 0.0, 0.0, 0.0, 0.0, 0.0, 0.0, 0.0, 0.0, 0.0, 0.0, 0.0, 0.0, 0.0, 0.0, 0.0, 0.0, 0.0], \"type\": \"scatter\"}, {\"line\": {\"color\": \"rgb(0,0,0)\", \"width\": 2}, \"mode\": \"lines\", \"name\": \"s2\", \"opacity\": 1.0, \"x\": [-3.3015386968802827, -3.2474500203278946, -3.193361343775506, -3.139272667223118, -3.0851839906707297, -3.0310953141183417, -2.977006637565953, -2.922917961013565, -2.8688292844611767, -2.8147406079087887, -2.7606519313564, -2.706563254804012, -2.652474578251624, -2.5983859016992357, -2.5442972251468476, -2.490208548594459, -2.436119872042071, -2.3820311954896827, -2.3279425189372946, -2.2738538423849066, -2.219765165832518, -2.1656764892801297, -2.1115878127277417, -2.0574991361753536, -2.003410459622965, -1.949321783070577, -1.8952331065181887, -1.8411444299658006, -1.7870557534134124, -1.7329670768610241, -1.6788784003086359, -1.6247897237562476, -1.5707010472038594, -1.5166123706514711, -1.462523694099083, -1.4084350175466946, -1.3543463409943064, -1.3002576644419181, -1.2461689878895301, -1.1920803113371417, -1.1379916347847536, -1.0839029582323652, -1.0298142816799771, -0.9757256051275891, -0.9216369285752006, -0.8675482520228126, -0.8134595754704241, -0.7593708989180361, -0.7052822223656476, -0.6511935458132596, -0.5971048692608711, -0.5430161927084831, -0.48892751615609464, -0.4348388396037066, -0.3807501630513186, -0.3266614864989301, -0.2725728099465421, -0.21848413339415362, -0.1643954568417656, -0.11030678028937713, -0.0562181037369891, -0.0021294271846006296, 0.0519592493677874, 0.10604792592017587, 0.1601366024725639, 0.21422527902495192, 0.2683139555773404, 0.3224026321297284, 0.3764913086821169, 0.4305799852345049, 0.4846686617868934, 0.5387573383392814, 0.5928460148916699, 0.6469346914440579, 0.7010233679964464, 0.755112044548834, 0.8092007211012224, 0.8632893976536109, 0.9173780742059994, 0.971466750758387, 1.0255554273107754, 1.079644103863164, 1.1337327804155524, 1.18782145696794, 1.2419101335203284, 1.295998810072717, 1.3500874866251045, 1.404176163177493, 1.4582648397298814, 1.5123535162822699, 1.5664421928346575, 1.620530869387046, 1.6746195459394344, 1.7287082224918229, 1.7827968990442105, 1.836885575596599, 1.8909742521489874, 1.945062928701375, 1.9991516052537635, 2.053240281806152, 2.1073289583585404, 2.161417634910928, 2.2155063114633164, 2.269594988015705, 2.3236836645680934, 2.377772341120481, 2.4318610176728694, 2.485949694225258, 2.5400383707776455, 2.594127047330034, 2.6482157238824224, 2.702304400434811, 2.7563930769871985, 2.810481753539587, 2.8645704300919754, 2.918659106644364, 2.9727477831967515, 3.02683645974914, 3.0809251363015284, 3.135013812853916, 3.1891024894063045, 3.243191165958693, 3.2972798425110814, 3.351368519063469, 3.4054571956158575, 3.459545872168246, 3.5136345487206344, 3.567723225273022, 3.6218119018254105, 3.675900578377799, 3.7299892549301865, 3.784077931482575, 3.8381666080349635, 3.892255284587352, 3.9463439611397395, 4.000432637692128, 4.054521314244516, 4.108609990796905, 4.162698667349293, 4.2167873439016805, 4.27087602045407, 4.3249646970064575, 4.379053373558845, 4.433142050111234, 4.487230726663622, 4.54131940321601, 4.595408079768399, 4.6494967563207865, 4.703585432873176, 4.7576741094255635, 4.811762785977951, 4.86585146253034, 4.919940139082728, 4.974028815635117, 5.028117492187505, 5.0822061687398925, 5.136294845292282, 5.1903835218446694, 5.244472198397057, 5.298560874949446, 5.352649551501834, 5.4067382280542216, 5.460826904606611, 5.5149155811589985, 5.569004257711388, 5.623092934263775, 5.677181610816163, 5.731270287368552, 5.78535896392094, 5.8394476404733275, 5.893536317025717, 5.9476249935781045, 6.001713670130492, 6.055802346682881, 6.109891023235269, 6.163979699787658, 6.218068376340046, 6.2721570528924335, 6.326245729444823, 6.3803344059972105, 6.434423082549598, 6.488511759101987, 6.542600435654375, 6.596689112206763, 6.650777788759152, 6.7048664653115395, 6.758955141863929, 6.8130438184163165, 6.867132494968704, 6.921221171521093, 6.975309848073481, 7.029398524625869, 7.083487201178258, 7.1375758777306455, 7.191664554283033, 7.245753230835422, 7.29984190738781, 7.353930583940199, 7.408019260492587, 7.4621079370449745], \"y\": [0.016533171732468793, 0.01728745246640688, 0.018061019507767766, 0.018853466752256364, 0.019664327306957222, 0.020493072624089004, 0.02133911187174244, 0.022201791558094704, 0.023080395424918965, 0.02397414462535315, 0.02488219819984826, 0.025803653862984118, 0.02673754911241709, 0.027682862669612642, 0.0286385162602214, 0.029603376739988703, 0.030576258569952795, 0.03155592664240504, 0.03254109945666824, 0.03353045264121925, 0.03452262281606268, 0.03551621178657641, 0.03650979105732506, 0.037501906651607526, 0.038491084219792054, 0.03947583441683923, 0.04045465852684316, 0.041426054309975265, 0.04238852204491699, 0.043340570737761194, 0.044280724466461335, 0.0452075288282577, 0.04611955745612454, 0.047015418569185806, 0.0478937615212648, 0.04875328331127037, 0.04959273501899823, 0.05041092813013752, 0.05120674071482825, 0.051979123425005304, 0.05272710527697858, 0.05344979918722771, 0.05414640723120623, 0.054816225597030706, 0.05545864920825392, 0.05607317599243725, 0.05665941077492959, 0.05721706878006907, 0.05774597872492014, 0.058246085493593475, 0.0587174523831228, 0.05916026291474943, 0.05957482220724987, 0.059961557911581524, 0.060321020708592556, 0.06065388437379368, 0.060960945415192945, 0.06124312229193111, 0.06150145422288441, 0.06173709959552596, 0.06195133398613139, 0.062145547802883894, 0.062321243563578134, 0.06248003281945173, 0.0626236327362067, 0.06275386234253919, 0.06287263845551366, 0.0629819712909219, 0.06308395976540875, 0.0631807864956651, 0.06327471249843843, 0.06336807159354006, 0.06346326451049691, 0.063562752698054, 0.06366905183444356, 0.06378472503524646, 0.06391237575483893, 0.06405464037688995, 0.06421418048919333, 0.06439367483833348, 0.06459581096031045, 0.06482327648433964, 0.06507875010858467, 0.0653648922486134, 0.06568433536187354, 0.06603967395446503, 0.0664334542799164, 0.06686816374354386, 0.06734622003022162, 0.0678699599780059, 0.06844162822495753, 0.06906336566165362, 0.06973719772719221, 0.07046502259190773, 0.07124859927544816, 0.07208953575423407, 0.07298927711754691, 0.0739490938364853, 0.07497007021469984, 0.07605309309408785, 0.07719884089241286, 0.07840777305302615, 0.07968011998945256, 0.08101587360946667, 0.08241477850439519, 0.08387632388966411, 0.08539973638203578, 0.08698397369751688, 0.08862771935153448, 0.09032937843967684, 0.09208707457307164, 0.09389864803734205, 0.09576165523806764, 0.09767336948882033, 0.09963078319019154, 0.10163061143983312, 0.10366929710448113, 0.1057430173752802, 0.10784769181757574, 0.10997899191579054, 0.11213235210312461, 0.11430298225476142, 0.1164858816120907, 0.11867585409431558, 0.1208675249427869, 0.12305535863263083, 0.12523367797579338, 0.1273966843296402, 0.1295384788158198, 0.13165308444530394, 0.13373446903746883, 0.135776568813838, 0.13777331254074862, 0.13971864608979417, 0.1416065572804776, 0.14343110086613486, 0.14518642352186958, 0.14686678869202277, 0.14846660115455512, 0.14998043116068316, 0.15140303801013139, 0.1527293929254469, 0.1539547010929123, 0.15507442274266167, 0.156084293146588, 0.15698034141948464, 0.15775890801649625, 0.1584166608283293, 0.15895060978468004, 0.15935811988591303, 0.15963692259308612, 0.15978512551687274, 0.15980122035669028, 0.15968408905233814, 0.15943300812156666, 0.15904765116816946, 0.15852808955633996, 0.15787479125805798, 0.15708861789111292, 0.15617081997595722, 0.15512303044982828, 0.15394725648643853, 0.15264586967894056, 0.15122159465277024, 0.14967749618331888, 0.1480169649011314, 0.1462437016744381, 0.1443617007652714, 0.14237523186116186, 0.14028882108943913, 0.138107231125451, 0.1358354405095612, 0.1334786222905721, 0.13104212211524793, 0.12853143588488747, 0.1259521871004152, 0.12331010401723974, 0.1206109967301801, 0.11786073430710255, 0.11506522208756734, 0.11223037925977102, 0.10936211682543223, 0.1064663160580192, 0.10354880755490291, 0.10061535097867834, 0.09767161557706171, 0.09472316156448994, 0.0917754224418748, 0.088833688323928, 0.08590309033614314, 0.08298858613593661, 0.08009494660466812, 0.07722674374933872, 0.07438833984475417, 0.07158387783889517, 0.06881727303621649, 0.06609220606565444, 0.06341211713230778, 0.06078020154413326, 0.058199406497602475], \"type\": \"scatter\"}], \"name\": \"18\"}, {\"data\": [{\"marker\": {\"color\": \"red\", \"size\": 4}, \"mode\": \"markers\", \"name\": \"s2\", \"x\": [1.6243453636632417, -0.6117564136500754, -0.5281717522634557, -1.0729686221561705, 0.8654076293246785, -2.3015386968802827, 1.74481176421648, -0.7612069008951028, 0.31903909605709857, 4.75062962452259, 6.4621079370449745, 2.939859290502346, 4.677582795986493, 4.615945645331585, 6.133769442335438, 3.900108732685969, 4.8275717924495645, 4.122141582078628, 5.042213746715593, 5.582815213715822, 3.8993808227870788, 6.144723709839614, 5.901590720592796, 5.502494338901868, 5.900855949264412, 4.316272140825667, 4.877109774481352, 4.064230565740932, 4.732111920373984, 5.530355466738186], \"y\": [0.0, -0.0, -0.0, -0.0, 0.0, -0.0, 0.0, -0.0, 0.0, 0.0, 0.0, 0.0, 0.0, 0.0, 0.0, 0.0, 0.0, 0.0, 0.0, 0.0, 0.0, 0.0, 0.0, 0.0, 0.0, 0.0, 0.0, 0.0, 0.0, 0.0], \"type\": \"scatter\"}, {\"line\": {\"color\": \"rgb(0,0,0)\", \"width\": 2}, \"mode\": \"lines\", \"name\": \"s2\", \"opacity\": 1.0, \"x\": [-3.3015386968802827, -3.2474500203278946, -3.193361343775506, -3.139272667223118, -3.0851839906707297, -3.0310953141183417, -2.977006637565953, -2.922917961013565, -2.8688292844611767, -2.8147406079087887, -2.7606519313564, -2.706563254804012, -2.652474578251624, -2.5983859016992357, -2.5442972251468476, -2.490208548594459, -2.436119872042071, -2.3820311954896827, -2.3279425189372946, -2.2738538423849066, -2.219765165832518, -2.1656764892801297, -2.1115878127277417, -2.0574991361753536, -2.003410459622965, -1.949321783070577, -1.8952331065181887, -1.8411444299658006, -1.7870557534134124, -1.7329670768610241, -1.6788784003086359, -1.6247897237562476, -1.5707010472038594, -1.5166123706514711, -1.462523694099083, -1.4084350175466946, -1.3543463409943064, -1.3002576644419181, -1.2461689878895301, -1.1920803113371417, -1.1379916347847536, -1.0839029582323652, -1.0298142816799771, -0.9757256051275891, -0.9216369285752006, -0.8675482520228126, -0.8134595754704241, -0.7593708989180361, -0.7052822223656476, -0.6511935458132596, -0.5971048692608711, -0.5430161927084831, -0.48892751615609464, -0.4348388396037066, -0.3807501630513186, -0.3266614864989301, -0.2725728099465421, -0.21848413339415362, -0.1643954568417656, -0.11030678028937713, -0.0562181037369891, -0.0021294271846006296, 0.0519592493677874, 0.10604792592017587, 0.1601366024725639, 0.21422527902495192, 0.2683139555773404, 0.3224026321297284, 0.3764913086821169, 0.4305799852345049, 0.4846686617868934, 0.5387573383392814, 0.5928460148916699, 0.6469346914440579, 0.7010233679964464, 0.755112044548834, 0.8092007211012224, 0.8632893976536109, 0.9173780742059994, 0.971466750758387, 1.0255554273107754, 1.079644103863164, 1.1337327804155524, 1.18782145696794, 1.2419101335203284, 1.295998810072717, 1.3500874866251045, 1.404176163177493, 1.4582648397298814, 1.5123535162822699, 1.5664421928346575, 1.620530869387046, 1.6746195459394344, 1.7287082224918229, 1.7827968990442105, 1.836885575596599, 1.8909742521489874, 1.945062928701375, 1.9991516052537635, 2.053240281806152, 2.1073289583585404, 2.161417634910928, 2.2155063114633164, 2.269594988015705, 2.3236836645680934, 2.377772341120481, 2.4318610176728694, 2.485949694225258, 2.5400383707776455, 2.594127047330034, 2.6482157238824224, 2.702304400434811, 2.7563930769871985, 2.810481753539587, 2.8645704300919754, 2.918659106644364, 2.9727477831967515, 3.02683645974914, 3.0809251363015284, 3.135013812853916, 3.1891024894063045, 3.243191165958693, 3.2972798425110814, 3.351368519063469, 3.4054571956158575, 3.459545872168246, 3.5136345487206344, 3.567723225273022, 3.6218119018254105, 3.675900578377799, 3.7299892549301865, 3.784077931482575, 3.8381666080349635, 3.892255284587352, 3.9463439611397395, 4.000432637692128, 4.054521314244516, 4.108609990796905, 4.162698667349293, 4.2167873439016805, 4.27087602045407, 4.3249646970064575, 4.379053373558845, 4.433142050111234, 4.487230726663622, 4.54131940321601, 4.595408079768399, 4.6494967563207865, 4.703585432873176, 4.7576741094255635, 4.811762785977951, 4.86585146253034, 4.919940139082728, 4.974028815635117, 5.028117492187505, 5.0822061687398925, 5.136294845292282, 5.1903835218446694, 5.244472198397057, 5.298560874949446, 5.352649551501834, 5.4067382280542216, 5.460826904606611, 5.5149155811589985, 5.569004257711388, 5.623092934263775, 5.677181610816163, 5.731270287368552, 5.78535896392094, 5.8394476404733275, 5.893536317025717, 5.9476249935781045, 6.001713670130492, 6.055802346682881, 6.109891023235269, 6.163979699787658, 6.218068376340046, 6.2721570528924335, 6.326245729444823, 6.3803344059972105, 6.434423082549598, 6.488511759101987, 6.542600435654375, 6.596689112206763, 6.650777788759152, 6.7048664653115395, 6.758955141863929, 6.8130438184163165, 6.867132494968704, 6.921221171521093, 6.975309848073481, 7.029398524625869, 7.083487201178258, 7.1375758777306455, 7.191664554283033, 7.245753230835422, 7.29984190738781, 7.353930583940199, 7.408019260492587, 7.4621079370449745], \"y\": [0.01731453051187414, 0.018053195326372878, 0.018808796339459456, 0.019580895108675497, 0.02036900132719273, 0.021172572544878514, 0.02199101410034361, 0.022823679274404512, 0.023669869674599758, 0.024528835859491158, 0.025399778210461445, 0.026281848057587917, 0.027174149064936103, 0.028075738879279208, 0.02898563104481894, 0.02990279718496719, 0.03082616945065659, 0.03175464323299347, 0.03268708013635956, 0.033622311206325715, 0.03455914040497292, 0.035496348324443774, 0.036432696127781126, 0.03736692970437593, 0.03829778402564825, 0.03922398768495755, 0.040144267604180044, 0.04105735388793476, 0.04196198480509148, 0.042856911875973625, 0.043740905042589436, 0.044612757898298605, 0.04547129295255891, 0.046315366905810486, 0.04714387590914678, 0.04795576078319852, 0.04875001217062479, 0.04952567559675667, 0.050281856413282124, 0.0510177246003782, 0.051732519403394954, 0.05242555378105314, 0.053096218643127975, 0.05374398685674531, 0.054368417001685855, 0.05496915685647378, 0.05554594659849032, 0.0560986217028848, 0.056627115526633784, 0.05713146156570185, 0.05761179537486646, 0.058068356141359044, 0.05850148790503095, 0.05891164041925495, 0.0592993696481986, 0.05966533789745157, 0.06001031357622647, 0.06033517059048595, 0.06064088736735481, 0.06092854551206652, 0.061199328099446296, 0.06145451760256715, 0.06169549346172344, 0.06192372929725809, 0.062140789770066984, 0.062348327093797326, 0.06254807720287171, 0.06274185558052489, 0.0629315527510577, 0.06311912944050573, 0.06330661140992555, 0.06349608396552801, 0.06368968614997282, 0.06388960461929664, 0.06409806721020668, 0.06431733620285435, 0.06454970128473288, 0.06479747222202706, 0.06506297124561965, 0.06534852516001227, 0.06565645718469235, 0.06598907853893972, 0.06634867978276328, 0.06673752192854068, 0.06715782734003693, 0.0676117704377659, 0.0681014682321185, 0.06862897070831107, 0.06919625108995246, 0.06980519601089412, 0.07045759562795192, 0.07115513371005665, 0.07189937774235469, 0.07269176908669858, 0.07353361324280037, 0.07442607025702228, 0.07537014532830218, 0.0763666796630132, 0.07741634163258519, 0.0785196182894413, 0.07967680729816183, 0.08088800933976313, 0.08215312104751739, 0.08347182853281529, 0.08484360155916196, 0.08626768842146376, 0.08774311158630291, 0.08926866414688936, 0.09084290714381814, 0.09246416779965345, 0.09413053871170077, 0.09583987804314609, 0.09758981074803667, 0.09937773086039642, 0.1012008048721264, 0.10305597621828315, 0.10493997088190374, 0.10684930412378639, 0.10878028833561701, 0.11072904200759066, 0.11269149979429179, 0.11466342365510807, 0.11664041503796133, 0.1186179280676643, 0.12059128369287227, 0.12255568473841655, 0.12450623180287505, 0.1264379399346165, 0.1283457560132898, 0.13022457675790894, 0.13206926727733362, 0.13387468007413328, 0.1356356744085888, 0.13734713592597075, 0.13900399644727168, 0.1406012538212898, 0.14213399173438715, 0.1435973993733972, 0.1449867908370183, 0.14629762419165554, 0.14752552006899308, 0.14866627970464222, 0.14971590231996157, 0.15067060175257949, 0.1515268222452319, 0.1522812533072283, 0.15293084356814068, 0.15347281354911474, 0.15390466728351945, 0.1542242027253774, 0.1544295208911557, 0.15451903368794961, 0.1544914703888223, 0.154345882724009, 0.15408164856479484, 0.1536984741850705, 0.15319639509381147, 0.1525757754399278, 0.15183730599908224, 0.1509820007600661, 0.15001119213614844, 0.14892652483438806, 0.14772994842319648, 0.1464237086454117, 0.1450103375307226, 0.14349264236748513, 0.14187369359969718, 0.14015681172017277, 0.1383455532357094, 0.1364436957842853, 0.13445522248800576, 0.13238430562865613, 0.13023528973527093, 0.12801267417511353, 0.12572109534085724, 0.12336530852757985, 0.12095016959342106, 0.11848061649742817, 0.11596165080722974, 0.1133983192677527, 0.11079569552024449, 0.10815886205841344, 0.10549289250556788, 0.10280283429324899, 0.10009369181805307, 0.09737041014913912, 0.0946378593543643, 0.09190081950812291, 0.08916396643879701, 0.08643185826833304, 0.08370892279084138, 0.08099944573134633, 0.0783075599199104, 0.07563723541037617, 0.0729922705669389, 0.0703762841357409, 0.06779270831268354, 0.06524478281274507, 0.06273554994029666, 0.06026785065426231], \"type\": \"scatter\"}], \"name\": \"19\"}, {\"data\": [{\"marker\": {\"color\": \"red\", \"size\": 4}, \"mode\": \"markers\", \"name\": \"s2\", \"x\": [1.6243453636632417, -0.6117564136500754, -0.5281717522634557, -1.0729686221561705, 0.8654076293246785, -2.3015386968802827, 1.74481176421648, -0.7612069008951028, 0.31903909605709857, 4.75062962452259, 6.4621079370449745, 2.939859290502346, 4.677582795986493, 4.615945645331585, 6.133769442335438, 3.900108732685969, 4.8275717924495645, 4.122141582078628, 5.042213746715593, 5.582815213715822, 3.8993808227870788, 6.144723709839614, 5.901590720592796, 5.502494338901868, 5.900855949264412, 4.316272140825667, 4.877109774481352, 4.064230565740932, 4.732111920373984, 5.530355466738186], \"y\": [0.0, -0.0, -0.0, -0.0, 0.0, -0.0, 0.0, -0.0, 0.0, 0.0, 0.0, 0.0, 0.0, 0.0, 0.0, 0.0, 0.0, 0.0, 0.0, 0.0, 0.0, 0.0, 0.0, 0.0, 0.0, 0.0, 0.0, 0.0, 0.0, 0.0], \"type\": \"scatter\"}, {\"line\": {\"color\": \"rgb(0,0,0)\", \"width\": 2}, \"mode\": \"lines\", \"name\": \"s2\", \"opacity\": 1.0, \"x\": [-3.3015386968802827, -3.2474500203278946, -3.193361343775506, -3.139272667223118, -3.0851839906707297, -3.0310953141183417, -2.977006637565953, -2.922917961013565, -2.8688292844611767, -2.8147406079087887, -2.7606519313564, -2.706563254804012, -2.652474578251624, -2.5983859016992357, -2.5442972251468476, -2.490208548594459, -2.436119872042071, -2.3820311954896827, -2.3279425189372946, -2.2738538423849066, -2.219765165832518, -2.1656764892801297, -2.1115878127277417, -2.0574991361753536, -2.003410459622965, -1.949321783070577, -1.8952331065181887, -1.8411444299658006, -1.7870557534134124, -1.7329670768610241, -1.6788784003086359, -1.6247897237562476, -1.5707010472038594, -1.5166123706514711, -1.462523694099083, -1.4084350175466946, -1.3543463409943064, -1.3002576644419181, -1.2461689878895301, -1.1920803113371417, -1.1379916347847536, -1.0839029582323652, -1.0298142816799771, -0.9757256051275891, -0.9216369285752006, -0.8675482520228126, -0.8134595754704241, -0.7593708989180361, -0.7052822223656476, -0.6511935458132596, -0.5971048692608711, -0.5430161927084831, -0.48892751615609464, -0.4348388396037066, -0.3807501630513186, -0.3266614864989301, -0.2725728099465421, -0.21848413339415362, -0.1643954568417656, -0.11030678028937713, -0.0562181037369891, -0.0021294271846006296, 0.0519592493677874, 0.10604792592017587, 0.1601366024725639, 0.21422527902495192, 0.2683139555773404, 0.3224026321297284, 0.3764913086821169, 0.4305799852345049, 0.4846686617868934, 0.5387573383392814, 0.5928460148916699, 0.6469346914440579, 0.7010233679964464, 0.755112044548834, 0.8092007211012224, 0.8632893976536109, 0.9173780742059994, 0.971466750758387, 1.0255554273107754, 1.079644103863164, 1.1337327804155524, 1.18782145696794, 1.2419101335203284, 1.295998810072717, 1.3500874866251045, 1.404176163177493, 1.4582648397298814, 1.5123535162822699, 1.5664421928346575, 1.620530869387046, 1.6746195459394344, 1.7287082224918229, 1.7827968990442105, 1.836885575596599, 1.8909742521489874, 1.945062928701375, 1.9991516052537635, 2.053240281806152, 2.1073289583585404, 2.161417634910928, 2.2155063114633164, 2.269594988015705, 2.3236836645680934, 2.377772341120481, 2.4318610176728694, 2.485949694225258, 2.5400383707776455, 2.594127047330034, 2.6482157238824224, 2.702304400434811, 2.7563930769871985, 2.810481753539587, 2.8645704300919754, 2.918659106644364, 2.9727477831967515, 3.02683645974914, 3.0809251363015284, 3.135013812853916, 3.1891024894063045, 3.243191165958693, 3.2972798425110814, 3.351368519063469, 3.4054571956158575, 3.459545872168246, 3.5136345487206344, 3.567723225273022, 3.6218119018254105, 3.675900578377799, 3.7299892549301865, 3.784077931482575, 3.8381666080349635, 3.892255284587352, 3.9463439611397395, 4.000432637692128, 4.054521314244516, 4.108609990796905, 4.162698667349293, 4.2167873439016805, 4.27087602045407, 4.3249646970064575, 4.379053373558845, 4.433142050111234, 4.487230726663622, 4.54131940321601, 4.595408079768399, 4.6494967563207865, 4.703585432873176, 4.7576741094255635, 4.811762785977951, 4.86585146253034, 4.919940139082728, 4.974028815635117, 5.028117492187505, 5.0822061687398925, 5.136294845292282, 5.1903835218446694, 5.244472198397057, 5.298560874949446, 5.352649551501834, 5.4067382280542216, 5.460826904606611, 5.5149155811589985, 5.569004257711388, 5.623092934263775, 5.677181610816163, 5.731270287368552, 5.78535896392094, 5.8394476404733275, 5.893536317025717, 5.9476249935781045, 6.001713670130492, 6.055802346682881, 6.109891023235269, 6.163979699787658, 6.218068376340046, 6.2721570528924335, 6.326245729444823, 6.3803344059972105, 6.434423082549598, 6.488511759101987, 6.542600435654375, 6.596689112206763, 6.650777788759152, 6.7048664653115395, 6.758955141863929, 6.8130438184163165, 6.867132494968704, 6.921221171521093, 6.975309848073481, 7.029398524625869, 7.083487201178258, 7.1375758777306455, 7.191664554283033, 7.245753230835422, 7.29984190738781, 7.353930583940199, 7.408019260492587, 7.4621079370449745], \"y\": [0.018037578311934588, 0.018758529501256522, 0.019494309729720008, 0.020244469310545066, 0.021008515005660595, 0.021785910144197833, 0.022576074921683613, 0.023378386886308788, 0.02419218161791247, 0.025016753604518226, 0.025851357320387913, 0.026695208508625147, 0.027547485670368684, 0.028407331761570388, 0.029273856097260607, 0.030146136462070306, 0.031023221424613428, 0.03190413285214085, 0.03278786862066915, 0.03367340551457024, 0.03455970230839333, 0.03544570302248506, 0.03633034034279118, 0.03721253919406796, 0.03809122045461962, 0.03896530479961262, 0.039833716659014994, 0.04069538827526895, 0.041549263844946324, 0.042394303727858504, 0.04322948870640519, 0.04405382427735602, 0.04486634495777225, 0.045666118586391476, 0.04645225060152431, 0.047223888276349435, 0.04798022489243879, 0.048720503832405025, 0.04944402257272652, 0.05015013655808021, 0.050838262938883376, 0.05150788415421776, 0.05215855134286778, 0.05278988756584894, 0.0534015908245211, 0.05399343685916684, 0.05456528171375935, 0.05511706405353551, 0.055648807222922564, 0.056160621032326226, 0.056652703263270134, 0.05712534088236777, 0.057578910955601505, 0.058013881255372546, 0.05843081055376, 0.058830348596382406, 0.05921323575218613, 0.059580302335386755, 0.0599324675966571, 0.060270738381493556, 0.06059620745449113, 0.06091005148902513, 0.061213528722577376, 0.06150797627864583, 0.06179480715687162, 0.06207550689367461, 0.06235162989635649, 0.06262479545427486, 0.06289668343135774, 0.06316902964489807, 0.06344362093626482, 0.06372228993989489, 0.06400690955769943, 0.06429938714683904, 0.06460165842969501, 0.06491568113581085, 0.06524342838658657, 0.06558688183459885, 0.06594802457058915, 0.06632883381240973, 0.06673127339154826, 0.06715728605426341, 0.06760878559584392, 0.068087648848065, 0.06859570754152328, 0.06913474006620321, 0.06970646315532714, 0.07031252351927296, 0.07095448945807094, 0.07163384248272274, 0.07235196897727011, 0.07311015193518487, 0.0739095628052153, 0.07475125348328958, 0.07563614848842323, 0.07656503736177296, 0.07753856732900892, 0.07855723626700828, 0.0796213860164877, 0.08073119608256878, 0.08188667776538389, 0.08308766876266525, 0.08433382828579952, 0.08562463273005821, 0.08695937193861998, 0.08833714609857748, 0.08975686330535491, 0.09121723782986689, 0.09271678912030215, 0.09425384156764761, 0.0958265250609651, 0.0974327763550223, 0.0990703412691658, 0.10073677773233747, 0.10242945968488414, 0.10414558184333726, 0.10588216532965691, 0.1076360641615843, 0.10940397259576354, 0.11118243331020215, 0.11296784640749723, 0.1147564792150798, 0.11654447685357959, 0.1183278735393213, 0.12010260458197501, 0.12186451903353215, 0.12360939294012481, 0.1253329431437586, 0.12703084157686356, 0.12869872998868584, 0.13033223503900584, 0.1319269836914917, 0.13347861883621745, 0.13498281506852047, 0.13643529454945313, 0.1378318428716396, 0.1391683248533697, 0.14044070018328547, 0.14164503883802498, 0.14277753619570535, 0.14383452776913905, 0.14481250348418523, 0.14570812143063203, 0.14651822101546913, 0.1472398354513312, 0.14787020351624983, 0.1484067805246191, 0.14884724845343422, 0.14918952517236914, 0.1494317727310966, 0.14957240466236987, 0.14961009226476457, 0.14954376983456877, 0.1493726388220688, 0.14909617089338698, 0.14871410988501507, 0.14822647264424088, 0.14763354875472398, 0.14693589915250843, 0.14613435364372698, 0.1452300073411074, 0.14422421604210164, 0.14311859057699422, 0.14191499016065634, 0.14061551478668444, 0.1392224967074459, 0.13773849104804298, 0.13616626560635228, 0.13450878989509873, 0.1327692234853413, 0.13095090371378537, 0.12905733281895723, 0.12709216457349096, 0.1250591904815612, 0.1229623256118536, 0.12080559413738391, 0.1185931146539762, 0.11632908534926929, 0.11401776909376951, 0.11166347852469628, 0.10927056119220004, 0.10684338483597615, 0.10438632285837604, 0.10190374005783558, 0.09939997868384129, 0.09687934487173466, 0.09434609551245819, 0.09180442560889378, 0.08925845616674846, 0.08671222266406092, 0.08416966413932732, 0.08163461293403938, 0.07911078512110138, 0.076601771646178, 0.07411103020456149, 0.07164187787165469, 0.06919748450067836, 0.06678086689675573, 0.06439488377213878, 0.062042231483028995], \"type\": \"scatter\"}], \"name\": \"20\"}, {\"data\": [{\"marker\": {\"color\": \"red\", \"size\": 4}, \"mode\": \"markers\", \"name\": \"s2\", \"x\": [1.6243453636632417, -0.6117564136500754, -0.5281717522634557, -1.0729686221561705, 0.8654076293246785, -2.3015386968802827, 1.74481176421648, -0.7612069008951028, 0.31903909605709857, 4.75062962452259, 6.4621079370449745, 2.939859290502346, 4.677582795986493, 4.615945645331585, 6.133769442335438, 3.900108732685969, 4.8275717924495645, 4.122141582078628, 5.042213746715593, 5.582815213715822, 3.8993808227870788, 6.144723709839614, 5.901590720592796, 5.502494338901868, 5.900855949264412, 4.316272140825667, 4.877109774481352, 4.064230565740932, 4.732111920373984, 5.530355466738186], \"y\": [0.0, -0.0, -0.0, -0.0, 0.0, -0.0, 0.0, -0.0, 0.0, 0.0, 0.0, 0.0, 0.0, 0.0, 0.0, 0.0, 0.0, 0.0, 0.0, 0.0, 0.0, 0.0, 0.0, 0.0, 0.0, 0.0, 0.0, 0.0, 0.0, 0.0], \"type\": \"scatter\"}, {\"line\": {\"color\": \"rgb(0,0,0)\", \"width\": 2}, \"mode\": \"lines\", \"name\": \"s2\", \"opacity\": 1.0, \"x\": [-3.3015386968802827, -3.2474500203278946, -3.193361343775506, -3.139272667223118, -3.0851839906707297, -3.0310953141183417, -2.977006637565953, -2.922917961013565, -2.8688292844611767, -2.8147406079087887, -2.7606519313564, -2.706563254804012, -2.652474578251624, -2.5983859016992357, -2.5442972251468476, -2.490208548594459, -2.436119872042071, -2.3820311954896827, -2.3279425189372946, -2.2738538423849066, -2.219765165832518, -2.1656764892801297, -2.1115878127277417, -2.0574991361753536, -2.003410459622965, -1.949321783070577, -1.8952331065181887, -1.8411444299658006, -1.7870557534134124, -1.7329670768610241, -1.6788784003086359, -1.6247897237562476, -1.5707010472038594, -1.5166123706514711, -1.462523694099083, -1.4084350175466946, -1.3543463409943064, -1.3002576644419181, -1.2461689878895301, -1.1920803113371417, -1.1379916347847536, -1.0839029582323652, -1.0298142816799771, -0.9757256051275891, -0.9216369285752006, -0.8675482520228126, -0.8134595754704241, -0.7593708989180361, -0.7052822223656476, -0.6511935458132596, -0.5971048692608711, -0.5430161927084831, -0.48892751615609464, -0.4348388396037066, -0.3807501630513186, -0.3266614864989301, -0.2725728099465421, -0.21848413339415362, -0.1643954568417656, -0.11030678028937713, -0.0562181037369891, -0.0021294271846006296, 0.0519592493677874, 0.10604792592017587, 0.1601366024725639, 0.21422527902495192, 0.2683139555773404, 0.3224026321297284, 0.3764913086821169, 0.4305799852345049, 0.4846686617868934, 0.5387573383392814, 0.5928460148916699, 0.6469346914440579, 0.7010233679964464, 0.755112044548834, 0.8092007211012224, 0.8632893976536109, 0.9173780742059994, 0.971466750758387, 1.0255554273107754, 1.079644103863164, 1.1337327804155524, 1.18782145696794, 1.2419101335203284, 1.295998810072717, 1.3500874866251045, 1.404176163177493, 1.4582648397298814, 1.5123535162822699, 1.5664421928346575, 1.620530869387046, 1.6746195459394344, 1.7287082224918229, 1.7827968990442105, 1.836885575596599, 1.8909742521489874, 1.945062928701375, 1.9991516052537635, 2.053240281806152, 2.1073289583585404, 2.161417634910928, 2.2155063114633164, 2.269594988015705, 2.3236836645680934, 2.377772341120481, 2.4318610176728694, 2.485949694225258, 2.5400383707776455, 2.594127047330034, 2.6482157238824224, 2.702304400434811, 2.7563930769871985, 2.810481753539587, 2.8645704300919754, 2.918659106644364, 2.9727477831967515, 3.02683645974914, 3.0809251363015284, 3.135013812853916, 3.1891024894063045, 3.243191165958693, 3.2972798425110814, 3.351368519063469, 3.4054571956158575, 3.459545872168246, 3.5136345487206344, 3.567723225273022, 3.6218119018254105, 3.675900578377799, 3.7299892549301865, 3.784077931482575, 3.8381666080349635, 3.892255284587352, 3.9463439611397395, 4.000432637692128, 4.054521314244516, 4.108609990796905, 4.162698667349293, 4.2167873439016805, 4.27087602045407, 4.3249646970064575, 4.379053373558845, 4.433142050111234, 4.487230726663622, 4.54131940321601, 4.595408079768399, 4.6494967563207865, 4.703585432873176, 4.7576741094255635, 4.811762785977951, 4.86585146253034, 4.919940139082728, 4.974028815635117, 5.028117492187505, 5.0822061687398925, 5.136294845292282, 5.1903835218446694, 5.244472198397057, 5.298560874949446, 5.352649551501834, 5.4067382280542216, 5.460826904606611, 5.5149155811589985, 5.569004257711388, 5.623092934263775, 5.677181610816163, 5.731270287368552, 5.78535896392094, 5.8394476404733275, 5.893536317025717, 5.9476249935781045, 6.001713670130492, 6.055802346682881, 6.109891023235269, 6.163979699787658, 6.218068376340046, 6.2721570528924335, 6.326245729444823, 6.3803344059972105, 6.434423082549598, 6.488511759101987, 6.542600435654375, 6.596689112206763, 6.650777788759152, 6.7048664653115395, 6.758955141863929, 6.8130438184163165, 6.867132494968704, 6.921221171521093, 6.975309848073481, 7.029398524625869, 7.083487201178258, 7.1375758777306455, 7.191664554283033, 7.245753230835422, 7.29984190738781, 7.353930583940199, 7.408019260492587, 7.4621079370449745], \"y\": [0.018703568416621574, 0.019405465496951827, 0.02012033495422294, 0.020847731681620376, 0.021587174494758495, 0.022338146509984228, 0.023100095674277184, 0.023872435450466516, 0.02465454566085956, 0.025445773491709393, 0.02624543466024199, 0.02705281474521951, 0.027867170681242087, 0.028687732416183866, 0.029513704730333788, 0.030344269214961223, 0.031178586407166996, 0.032015798077007857, 0.03285502966200965, 0.03369539284331186, 0.03453598825682225, 0.03537590833191119, 0.03621424024934482, 0.03705006900935179, 0.03788248059994558, 0.038710565254888134, 0.0395334207899862, 0.040350156005765525, 0.04115989414397163, 0.041961776384808094, 0.04275496537134203, 0.043538648747091006, 0.0443120426924544, 0.04507439544536848, 0.04582499079135343, 0.04656315150797305, 0.0472882427486626, 0.04799967535087287, 0.048696909053551764, 0.04937945560912112, 0.050046881775311636, 0.050698812172488034, 0.05133493199242834, 0.05195498954491028, 0.05255879862890409, 0.05314624071566586, 0.05371726693157011, 0.05427189982910588, 0.05481023493508671, 0.055332442065783596, 0.05583876639938099, 0.05632952929687165, 0.056805128863244174, 0.05726604024157532, 0.05771281563341225, 0.0581460840396143, 0.058566550716621125, 0.05897499634391638, 0.059372275899271104, 0.0597593172391606, 0.06013711938257863, 0.060506750497293045, 0.06086934558842362, 0.06122610389006091, 0.061578285961490294, 0.061927210490445375, 0.062274250806677735, 0.06262083111001363, 0.06296842241796367, 0.06331853823886474, 0.06367272997746608, 0.0640325820808291, 0.06439970693338445, 0.06477573951099837, 0.06516233180492413, 0.06556114702757256, 0.06597385361311423, 0.06640211902703093, 0.06684760339986123, 0.0673119530015337, 0.06779679357384437, 0.0683037235398069, 0.06883430710979474, 0.0693900673055633, 0.06997247892442368, 0.07058296146699057, 0.07122287205305822, 0.07189349835125572, 0.07259605154917528, 0.07333165939166118, 0.07410135931585997, 0.07490609171246902, 0.07574669334335543, 0.07662389094634593, 0.07753829505849127, 0.07849039408947703, 0.07948054867707094, 0.08050898635656065, 0.08157579657601448, 0.08268092608891184, 0.08382417475519645, 0.08500519178112297, 0.0862234724273718, 0.08747835521380495, 0.0887690196479139, 0.09009448450247463, 0.09145360666617196, 0.09284508058898609, 0.09426743834195729, 0.09571905030856148, 0.09719812652235205, 0.09870271866275833, 0.10023072271799613, 0.10177988232095138, 0.10334779276065797, 0.1049319056686363, 0.10652953437588761, 0.10813785993279675, 0.10975393778058828, 0.1113747050593355, 0.11299698853387102, 0.1146175131153056, 0.11623291095226697, 0.11783973106243276, 0.11943444947150339, 0.12101347982343348, 0.12257318442257926, 0.12410988566541034, 0.12561987781663883, 0.127099439082028, 0.12854484392780127, 0.12995237559448752, 0.13131833875123797, 0.13263907223513804, 0.13391096181884293, 0.13513045294899126, 0.13629406339730704, 0.13739839576609875, 0.13844014979000488, 0.13941613437632613, 0.14032327932711613, 0.14115864668738268, 0.1419194416652653, 0.1426030230719044, 0.1432069132308731, 0.1437288073095226, 0.14416658202734425, 0.14451830369949092, 0.14478223557688458, 0.14495684444785933, 0.1450408064700195, 0.1450330122049064, 0.1449325708321452, 0.1447388135239527, 0.14445129596520032, 0.14406980000862213, 0.14359433445919895, 0.1430251349862149, 0.14236266316593849, 0.14160760466229955, 0.14076086655729336, 0.13982357384710586, 0.13879706512410567, 0.13768288746885396, 0.1364827905801241, 0.13519872017457424, 0.1338328106911604, 0.13238737733858394, 0.1308649075270419, 0.1292680517282393, 0.12759961381006016, 0.12586254089442356, 0.1240599127886916, 0.12219493104253151, 0.12027090768335638, 0.11829125368437096, 0.11625946721985041, 0.11417912176254726, 0.11205385407809274, 0.10988735217091673, 0.10768334323556424, 0.10544558166636023, 0.10317783717715613, 0.10088388308141177, 0.09856748478113173, 0.09623238851119702, 0.09388231038343611, 0.0915209257723774, 0.08915185908203332, 0.08677867393031191, 0.08440486378474793, 0.08203384308021545, 0.07966893884615586, 0.07731338286763317, 0.07497030440125689, 0.07264272346369306, 0.0703335447071513, 0.06804555189290118, 0.06578140297056696, 0.06354362576767822], \"type\": \"scatter\"}], \"name\": \"21\"}, {\"data\": [{\"marker\": {\"color\": \"red\", \"size\": 4}, \"mode\": \"markers\", \"name\": \"s2\", \"x\": [1.6243453636632417, -0.6117564136500754, -0.5281717522634557, -1.0729686221561705, 0.8654076293246785, -2.3015386968802827, 1.74481176421648, -0.7612069008951028, 0.31903909605709857, 4.75062962452259, 6.4621079370449745, 2.939859290502346, 4.677582795986493, 4.615945645331585, 6.133769442335438, 3.900108732685969, 4.8275717924495645, 4.122141582078628, 5.042213746715593, 5.582815213715822, 3.8993808227870788, 6.144723709839614, 5.901590720592796, 5.502494338901868, 5.900855949264412, 4.316272140825667, 4.877109774481352, 4.064230565740932, 4.732111920373984, 5.530355466738186], \"y\": [0.0, -0.0, -0.0, -0.0, 0.0, -0.0, 0.0, -0.0, 0.0, 0.0, 0.0, 0.0, 0.0, 0.0, 0.0, 0.0, 0.0, 0.0, 0.0, 0.0, 0.0, 0.0, 0.0, 0.0, 0.0, 0.0, 0.0, 0.0, 0.0, 0.0], \"type\": \"scatter\"}, {\"line\": {\"color\": \"rgb(0,0,0)\", \"width\": 2}, \"mode\": \"lines\", \"name\": \"s2\", \"opacity\": 1.0, \"x\": [-3.3015386968802827, -3.2474500203278946, -3.193361343775506, -3.139272667223118, -3.0851839906707297, -3.0310953141183417, -2.977006637565953, -2.922917961013565, -2.8688292844611767, -2.8147406079087887, -2.7606519313564, -2.706563254804012, -2.652474578251624, -2.5983859016992357, -2.5442972251468476, -2.490208548594459, -2.436119872042071, -2.3820311954896827, -2.3279425189372946, -2.2738538423849066, -2.219765165832518, -2.1656764892801297, -2.1115878127277417, -2.0574991361753536, -2.003410459622965, -1.949321783070577, -1.8952331065181887, -1.8411444299658006, -1.7870557534134124, -1.7329670768610241, -1.6788784003086359, -1.6247897237562476, -1.5707010472038594, -1.5166123706514711, -1.462523694099083, -1.4084350175466946, -1.3543463409943064, -1.3002576644419181, -1.2461689878895301, -1.1920803113371417, -1.1379916347847536, -1.0839029582323652, -1.0298142816799771, -0.9757256051275891, -0.9216369285752006, -0.8675482520228126, -0.8134595754704241, -0.7593708989180361, -0.7052822223656476, -0.6511935458132596, -0.5971048692608711, -0.5430161927084831, -0.48892751615609464, -0.4348388396037066, -0.3807501630513186, -0.3266614864989301, -0.2725728099465421, -0.21848413339415362, -0.1643954568417656, -0.11030678028937713, -0.0562181037369891, -0.0021294271846006296, 0.0519592493677874, 0.10604792592017587, 0.1601366024725639, 0.21422527902495192, 0.2683139555773404, 0.3224026321297284, 0.3764913086821169, 0.4305799852345049, 0.4846686617868934, 0.5387573383392814, 0.5928460148916699, 0.6469346914440579, 0.7010233679964464, 0.755112044548834, 0.8092007211012224, 0.8632893976536109, 0.9173780742059994, 0.971466750758387, 1.0255554273107754, 1.079644103863164, 1.1337327804155524, 1.18782145696794, 1.2419101335203284, 1.295998810072717, 1.3500874866251045, 1.404176163177493, 1.4582648397298814, 1.5123535162822699, 1.5664421928346575, 1.620530869387046, 1.6746195459394344, 1.7287082224918229, 1.7827968990442105, 1.836885575596599, 1.8909742521489874, 1.945062928701375, 1.9991516052537635, 2.053240281806152, 2.1073289583585404, 2.161417634910928, 2.2155063114633164, 2.269594988015705, 2.3236836645680934, 2.377772341120481, 2.4318610176728694, 2.485949694225258, 2.5400383707776455, 2.594127047330034, 2.6482157238824224, 2.702304400434811, 2.7563930769871985, 2.810481753539587, 2.8645704300919754, 2.918659106644364, 2.9727477831967515, 3.02683645974914, 3.0809251363015284, 3.135013812853916, 3.1891024894063045, 3.243191165958693, 3.2972798425110814, 3.351368519063469, 3.4054571956158575, 3.459545872168246, 3.5136345487206344, 3.567723225273022, 3.6218119018254105, 3.675900578377799, 3.7299892549301865, 3.784077931482575, 3.8381666080349635, 3.892255284587352, 3.9463439611397395, 4.000432637692128, 4.054521314244516, 4.108609990796905, 4.162698667349293, 4.2167873439016805, 4.27087602045407, 4.3249646970064575, 4.379053373558845, 4.433142050111234, 4.487230726663622, 4.54131940321601, 4.595408079768399, 4.6494967563207865, 4.703585432873176, 4.7576741094255635, 4.811762785977951, 4.86585146253034, 4.919940139082728, 4.974028815635117, 5.028117492187505, 5.0822061687398925, 5.136294845292282, 5.1903835218446694, 5.244472198397057, 5.298560874949446, 5.352649551501834, 5.4067382280542216, 5.460826904606611, 5.5149155811589985, 5.569004257711388, 5.623092934263775, 5.677181610816163, 5.731270287368552, 5.78535896392094, 5.8394476404733275, 5.893536317025717, 5.9476249935781045, 6.001713670130492, 6.055802346682881, 6.109891023235269, 6.163979699787658, 6.218068376340046, 6.2721570528924335, 6.326245729444823, 6.3803344059972105, 6.434423082549598, 6.488511759101987, 6.542600435654375, 6.596689112206763, 6.650777788759152, 6.7048664653115395, 6.758955141863929, 6.8130438184163165, 6.867132494968704, 6.921221171521093, 6.975309848073481, 7.029398524625869, 7.083487201178258, 7.1375758777306455, 7.191664554283033, 7.245753230835422, 7.29984190738781, 7.353930583940199, 7.408019260492587, 7.4621079370449745], \"y\": [0.019315492078016215, 0.01999765050892682, 0.02069117051955771, 0.021395623167602656, 0.022110550012850012, 0.02283546365738668, 0.023569848411368815, 0.024313161086338846, 0.02506483191755198, 0.025824265616233435, 0.026590842552121834, 0.027363920066066458, 0.02814283391184159, 0.028926899825718392, 0.02971541522170255, 0.030507661009701995, 0.03130290353324162, 0.03210039662269166, 0.03289938375932646, 0.03369910034488913, 0.034498776070700905, 0.03529763737973589, 0.036094910014474145, 0.036889821642763276, 0.03768160455335912, 0.03846949841228002, 0.039252753070610165, 0.04003063141391472, 0.04080241224300058, 0.04156739317536079, 0.042324893556290245, 0.043074257368351986, 0.04381485612761217, 0.044546091754845384, 0.045267399409745696, 0.04597825027606264, 0.046678154285511565, 0.04736666276829344, 0.04804337101808955, 0.04870792075948163, 0.04936000250587956, 0.0499993577962196, 0.05062578129892532, 0.05123912277189887, 0.05183928886762849, 0.05242624477286249, 0.053000015672705326, 0.05356068802943263, 0.05410841066680938, 0.054643395651206975, 0.05516591896137342, 0.05567632093928908, 0.05617500651515995, 0.05666244520023506, 0.05713917084181408, 0.05760578113549237, 0.05806293689041897, 0.05851136104407386, 0.058951837423834, 0.0593852092533764, 0.059812377402763565, 0.060234298381869805, 0.060651982077643427, 0.06106648923654126, 0.06147892869434094, 0.06189045435640953, 0.062302261932401494, 0.06271558543026211, 0.06313169341533104, 0.06355188504126924, 0.06397748586047156, 0.06440984342257637, 0.06485032267064046, 0.06530030114550944, 0.0657611640098821, 0.06623429890453308, 0.06672109065012785, 0.06722291580902645, 0.067741137122427, 0.06827709783914394, 0.06883211595324322, 0.06940747836866425, 0.07000443500983497, 0.07062419289813926, 0.0712679102149005, 0.07193669037231541, 0.07263157611448302, 0.07335354367133083, 0.07410349698883108, 0.07488226205941742, 0.07569058137694867, 0.07652910854091832, 0.07739840303485866, 0.0782989252040481, 0.07923103145766305, 0.08019496972045245, 0.0811908751588116, 0.08221876620581163, 0.08327854090928478, 0.08436997362647414, 0.08549271208802027, 0.08664627485318412, 0.08783004917718218, 0.0890432893103419, 0.09028511524747647, 0.09155451194441604, 0.09285032901704462, 0.0941712809364468, 0.0955159477319153, 0.09688277621156673, 0.09827008170821329, 0.09967605035591807, 0.1010987419003407, 0.10253609304358002, 0.10398592132173887, 0.10544592951089067, 0.10691371055453947, 0.10838675300303645, 0.10986244695277615, 0.11133809047034969, 0.11281089648420127, 0.11427800012373976, 0.11573646648330486, 0.1171832987859101, 0.11861544691928592, 0.12002981631444526, 0.12142327713482269, 0.12279267374198827, 0.12413483440204262, 0.1254465811950665, 0.12672474008845336, 0.12796615113357646, 0.1291676787440964, 0.1303262220132599, 0.13143872502681359, 0.13250218712767137, 0.1335136730881958, 0.13447032314595353, 0.1353693628590059, 0.1362081127372797, 0.13698399760725605, 0.13769455566817462, 0.13833744719913363, 0.13891046287787917, 0.13941153167372494, 0.13983872827889574, 0.14019028004464948, 0.14046457339078602, 0.14066015965958925, 0.14077576038784012, 0.14081027197329588, 0.14076276971490911, 0.14063251120905854, 0.14041893908716385, 0.14012168308323017, 0.1397405614231021, 0.13927558153048594, 0.1387269400480945, 0.13809502217555922, 0.13738040032904114, 0.1365838321307007, 0.13570625773936984, 0.13474879653687355, 0.13371274318745058, 0.1325995630906235, 0.13141088725062933, 0.13014850658814464, 0.12881436572250596, 0.12741055625490988, 0.12593930958518768, 0.12440298929666384, 0.1228040831453088, 0.12114519469089775, 0.11942903460916267, 0.11765841172497918, 0.11583622380745598, 0.11396544816839527, 0.11204913210595996, 0.11009038323552456, 0.10809235974960496, 0.10605826064845002, 0.10399131598235978, 0.10189477714605927, 0.0997719072645197, 0.09762597170849155, 0.09546022877669987, 0.09327792058016422, 0.09108226416246462, 0.08887644288797271, 0.08666359812814538, 0.08444682127392429, 0.0822291461001291, 0.08001354150548694, 0.0778029046496157, 0.07560005450589363, 0.07340772584672259, 0.07122856367522712, 0.06906511811496055, 0.06691983976671431, 0.0647950755390651], \"type\": \"scatter\"}], \"name\": \"22\"}, {\"data\": [{\"marker\": {\"color\": \"red\", \"size\": 4}, \"mode\": \"markers\", \"name\": \"s2\", \"x\": [1.6243453636632417, -0.6117564136500754, -0.5281717522634557, -1.0729686221561705, 0.8654076293246785, -2.3015386968802827, 1.74481176421648, -0.7612069008951028, 0.31903909605709857, 4.75062962452259, 6.4621079370449745, 2.939859290502346, 4.677582795986493, 4.615945645331585, 6.133769442335438, 3.900108732685969, 4.8275717924495645, 4.122141582078628, 5.042213746715593, 5.582815213715822, 3.8993808227870788, 6.144723709839614, 5.901590720592796, 5.502494338901868, 5.900855949264412, 4.316272140825667, 4.877109774481352, 4.064230565740932, 4.732111920373984, 5.530355466738186], \"y\": [0.0, -0.0, -0.0, -0.0, 0.0, -0.0, 0.0, -0.0, 0.0, 0.0, 0.0, 0.0, 0.0, 0.0, 0.0, 0.0, 0.0, 0.0, 0.0, 0.0, 0.0, 0.0, 0.0, 0.0, 0.0, 0.0, 0.0, 0.0, 0.0, 0.0], \"type\": \"scatter\"}, {\"line\": {\"color\": \"rgb(0,0,0)\", \"width\": 2}, \"mode\": \"lines\", \"name\": \"s2\", \"opacity\": 1.0, \"x\": [-3.3015386968802827, -3.2474500203278946, -3.193361343775506, -3.139272667223118, -3.0851839906707297, -3.0310953141183417, -2.977006637565953, -2.922917961013565, -2.8688292844611767, -2.8147406079087887, -2.7606519313564, -2.706563254804012, -2.652474578251624, -2.5983859016992357, -2.5442972251468476, -2.490208548594459, -2.436119872042071, -2.3820311954896827, -2.3279425189372946, -2.2738538423849066, -2.219765165832518, -2.1656764892801297, -2.1115878127277417, -2.0574991361753536, -2.003410459622965, -1.949321783070577, -1.8952331065181887, -1.8411444299658006, -1.7870557534134124, -1.7329670768610241, -1.6788784003086359, -1.6247897237562476, -1.5707010472038594, -1.5166123706514711, -1.462523694099083, -1.4084350175466946, -1.3543463409943064, -1.3002576644419181, -1.2461689878895301, -1.1920803113371417, -1.1379916347847536, -1.0839029582323652, -1.0298142816799771, -0.9757256051275891, -0.9216369285752006, -0.8675482520228126, -0.8134595754704241, -0.7593708989180361, -0.7052822223656476, -0.6511935458132596, -0.5971048692608711, -0.5430161927084831, -0.48892751615609464, -0.4348388396037066, -0.3807501630513186, -0.3266614864989301, -0.2725728099465421, -0.21848413339415362, -0.1643954568417656, -0.11030678028937713, -0.0562181037369891, -0.0021294271846006296, 0.0519592493677874, 0.10604792592017587, 0.1601366024725639, 0.21422527902495192, 0.2683139555773404, 0.3224026321297284, 0.3764913086821169, 0.4305799852345049, 0.4846686617868934, 0.5387573383392814, 0.5928460148916699, 0.6469346914440579, 0.7010233679964464, 0.755112044548834, 0.8092007211012224, 0.8632893976536109, 0.9173780742059994, 0.971466750758387, 1.0255554273107754, 1.079644103863164, 1.1337327804155524, 1.18782145696794, 1.2419101335203284, 1.295998810072717, 1.3500874866251045, 1.404176163177493, 1.4582648397298814, 1.5123535162822699, 1.5664421928346575, 1.620530869387046, 1.6746195459394344, 1.7287082224918229, 1.7827968990442105, 1.836885575596599, 1.8909742521489874, 1.945062928701375, 1.9991516052537635, 2.053240281806152, 2.1073289583585404, 2.161417634910928, 2.2155063114633164, 2.269594988015705, 2.3236836645680934, 2.377772341120481, 2.4318610176728694, 2.485949694225258, 2.5400383707776455, 2.594127047330034, 2.6482157238824224, 2.702304400434811, 2.7563930769871985, 2.810481753539587, 2.8645704300919754, 2.918659106644364, 2.9727477831967515, 3.02683645974914, 3.0809251363015284, 3.135013812853916, 3.1891024894063045, 3.243191165958693, 3.2972798425110814, 3.351368519063469, 3.4054571956158575, 3.459545872168246, 3.5136345487206344, 3.567723225273022, 3.6218119018254105, 3.675900578377799, 3.7299892549301865, 3.784077931482575, 3.8381666080349635, 3.892255284587352, 3.9463439611397395, 4.000432637692128, 4.054521314244516, 4.108609990796905, 4.162698667349293, 4.2167873439016805, 4.27087602045407, 4.3249646970064575, 4.379053373558845, 4.433142050111234, 4.487230726663622, 4.54131940321601, 4.595408079768399, 4.6494967563207865, 4.703585432873176, 4.7576741094255635, 4.811762785977951, 4.86585146253034, 4.919940139082728, 4.974028815635117, 5.028117492187505, 5.0822061687398925, 5.136294845292282, 5.1903835218446694, 5.244472198397057, 5.298560874949446, 5.352649551501834, 5.4067382280542216, 5.460826904606611, 5.5149155811589985, 5.569004257711388, 5.623092934263775, 5.677181610816163, 5.731270287368552, 5.78535896392094, 5.8394476404733275, 5.893536317025717, 5.9476249935781045, 6.001713670130492, 6.055802346682881, 6.109891023235269, 6.163979699787658, 6.218068376340046, 6.2721570528924335, 6.326245729444823, 6.3803344059972105, 6.434423082549598, 6.488511759101987, 6.542600435654375, 6.596689112206763, 6.650777788759152, 6.7048664653115395, 6.758955141863929, 6.8130438184163165, 6.867132494968704, 6.921221171521093, 6.975309848073481, 7.029398524625869, 7.083487201178258, 7.1375758777306455, 7.191664554283033, 7.245753230835422, 7.29984190738781, 7.353930583940199, 7.408019260492587, 7.4621079370449745], \"y\": [0.019877606820518926, 0.020539900143501707, 0.021212178444480097, 0.021894037170923072, 0.022585047980514243, 0.023284759373220196, 0.023992697426298847, 0.024708366633070248, 0.025431250845851214, 0.026160814323015678, 0.02689650287969198, 0.02763774514114079, 0.028383953897382803, 0.02913452755716007, 0.029888851698823857, 0.030646300715248702, 0.0314062395493739, 0.032168025516481666, 0.03293101020882723, 0.033694541477752825, 0.034457965487940646, 0.03522062883799388, 0.03598188074108555, 0.036741075258977816, 0.037497573582300235, 0.038250746349578084, 0.03899997599713257, 0.03974465913162627, 0.04048420891670913, 0.041218057464931145, 0.041945658225828485, 0.04266648836086564, 0.04338005109572184, 0.0440858780402579, 0.04478353146637498, 0.04547260653389843, 0.04615273345457297, 0.0468235795842509, 0.047484851433388174, 0.04813629658603493, 0.04877770551761989, 0.049408913301978795, 0.050029801198265826, 0.050640298108617185, 0.05124038189770071, 0.05183008056558955, 0.052409473265739505, 0.05297869116022306, 0.053537918104785934, 0.0540873911567364, 0.05462740089915335, 0.05515829157540926, 0.05568046102854287, 0.05619436044058367, 0.056700493867528644, 0.057199417566290996, 0.05769173911059221, 0.058178116293436215, 0.0586592558145045, 0.05913591175151891, 0.05960888381536172, 0.06007901538949001, 0.060547191354954774, 0.061014335703118594, 0.0614814089389656, 0.06194940527870658, 0.06241934964620494, 0.06289229447357353, 0.06336931631213291, 0.06385151226075453, 0.06433999621945734, 0.06483589497696207, 0.06534034414174686, 0.06585448392697701, 0.06637945480050206, 0.06691639301192372, 0.06746642600953377, 0.06803066776068951, 0.0686102139899567, 0.06920613735006552, 0.06981948254142904, 0.07045126139662877, 0.07110244794689725, 0.0717739734882047, 0.07246672166508832, 0.07318152359083836, 0.07391915302308155, 0.07468032161415528, 0.07546567425596094, 0.07627578453920936, 0.0771111503471125, 0.07797218960364531, 0.07885923619648282, 0.07977253609461442, 0.08071224368043847, 0.08167841831585461, 0.08267102116147931, 0.08368991226762976, 0.08473484795512873, 0.08580547850330084, 0.08690134616173108, 0.08802188350147128, 0.08916641212037668, 0.09033414171616319, 0.09152416953957747, 0.0927354802387833, 0.09396694610468422, 0.09521732772543011, 0.09648527505680503, 0.09776932891355865, 0.09906792288504787, 0.10037938567678611, 0.10170194387768075, 0.10303372515087408, 0.10437276184419579, 0.10571699501430602, 0.10706427885665794, 0.10841238553145204, 0.10975901037379848, 0.11110177747437254, 0.1124382456149311, 0.11376591454118493, 0.11508223155370434, 0.11638459839576355, 0.1176703784153505, 0.11893690397695347, 0.12018148409723235, 0.12140141227727339, 0.12259397450283804, 0.12375645738285065, 0.12488615639533895, 0.1259803842091522, 0.12703647904904164, 0.12805181307110242, 0.12902380071515215, 0.12994990700036757, 0.13082765573040409, 0.131654637574315, 0.13242851798983518, 0.13314704495603058, 0.13380805648291094, 0.13440948786637893, 0.1349493786578304, 0.13542587931882089, 0.13583725753247802, 0.1361819041447534, 0.13645833871016594, 0.13666521461838346, 0.13680132377981435, 0.13686560085031882, 0.1368571269771985, 0.13677513305076258, 0.13661900244799902, 0.1363882732571702, 0.13608263997450878, 0.13570195466658827, 0.1352462275943706, 0.13471562729737635, 0.13411048013887342, 0.13343126931541888, 0.13267863333649532, 0.13185336398236241, 0.13095640375056314, 0.12998884280378395, 0.12895191543394655, 0.12784699605950436, 0.12667559477490511, 0.12543935247306637, 0.12414003556346818, 0.12277953031010364, 0.12135983681502033, 0.11988306267453751, 0.1183514163364234, 0.11676720018736447, 0.11513280340093905, 0.11345069457703316, 0.11172341420419182, 0.10995356697678937, 0.10814381399912829, 0.10629686490863396, 0.10441546995020827, 0.10250241203354331, 0.1005604988047734, 0.09859255476327151, 0.09660141345367985, 0.09458990976240349, 0.09256087234680818, 0.09051711622424856, 0.08846143554681868, 0.0863965965863833, 0.08432533095301067, 0.08225032906840281, 0.0801742339143225, 0.07809963507434577, 0.07602906308554566, 0.07396498411494605, 0.07190979497378007, 0.0698658184807595, 0.0678352991837266, 0.0658203994472122], \"type\": \"scatter\"}], \"name\": \"23\"}, {\"data\": [{\"marker\": {\"color\": \"red\", \"size\": 4}, \"mode\": \"markers\", \"name\": \"s2\", \"x\": [1.6243453636632417, -0.6117564136500754, -0.5281717522634557, -1.0729686221561705, 0.8654076293246785, -2.3015386968802827, 1.74481176421648, -0.7612069008951028, 0.31903909605709857, 4.75062962452259, 6.4621079370449745, 2.939859290502346, 4.677582795986493, 4.615945645331585, 6.133769442335438, 3.900108732685969, 4.8275717924495645, 4.122141582078628, 5.042213746715593, 5.582815213715822, 3.8993808227870788, 6.144723709839614, 5.901590720592796, 5.502494338901868, 5.900855949264412, 4.316272140825667, 4.877109774481352, 4.064230565740932, 4.732111920373984, 5.530355466738186], \"y\": [0.0, -0.0, -0.0, -0.0, 0.0, -0.0, 0.0, -0.0, 0.0, 0.0, 0.0, 0.0, 0.0, 0.0, 0.0, 0.0, 0.0, 0.0, 0.0, 0.0, 0.0, 0.0, 0.0, 0.0, 0.0, 0.0, 0.0, 0.0, 0.0, 0.0], \"type\": \"scatter\"}, {\"line\": {\"color\": \"rgb(0,0,0)\", \"width\": 2}, \"mode\": \"lines\", \"name\": \"s2\", \"opacity\": 1.0, \"x\": [-3.3015386968802827, -3.2474500203278946, -3.193361343775506, -3.139272667223118, -3.0851839906707297, -3.0310953141183417, -2.977006637565953, -2.922917961013565, -2.8688292844611767, -2.8147406079087887, -2.7606519313564, -2.706563254804012, -2.652474578251624, -2.5983859016992357, -2.5442972251468476, -2.490208548594459, -2.436119872042071, -2.3820311954896827, -2.3279425189372946, -2.2738538423849066, -2.219765165832518, -2.1656764892801297, -2.1115878127277417, -2.0574991361753536, -2.003410459622965, -1.949321783070577, -1.8952331065181887, -1.8411444299658006, -1.7870557534134124, -1.7329670768610241, -1.6788784003086359, -1.6247897237562476, -1.5707010472038594, -1.5166123706514711, -1.462523694099083, -1.4084350175466946, -1.3543463409943064, -1.3002576644419181, -1.2461689878895301, -1.1920803113371417, -1.1379916347847536, -1.0839029582323652, -1.0298142816799771, -0.9757256051275891, -0.9216369285752006, -0.8675482520228126, -0.8134595754704241, -0.7593708989180361, -0.7052822223656476, -0.6511935458132596, -0.5971048692608711, -0.5430161927084831, -0.48892751615609464, -0.4348388396037066, -0.3807501630513186, -0.3266614864989301, -0.2725728099465421, -0.21848413339415362, -0.1643954568417656, -0.11030678028937713, -0.0562181037369891, -0.0021294271846006296, 0.0519592493677874, 0.10604792592017587, 0.1601366024725639, 0.21422527902495192, 0.2683139555773404, 0.3224026321297284, 0.3764913086821169, 0.4305799852345049, 0.4846686617868934, 0.5387573383392814, 0.5928460148916699, 0.6469346914440579, 0.7010233679964464, 0.755112044548834, 0.8092007211012224, 0.8632893976536109, 0.9173780742059994, 0.971466750758387, 1.0255554273107754, 1.079644103863164, 1.1337327804155524, 1.18782145696794, 1.2419101335203284, 1.295998810072717, 1.3500874866251045, 1.404176163177493, 1.4582648397298814, 1.5123535162822699, 1.5664421928346575, 1.620530869387046, 1.6746195459394344, 1.7287082224918229, 1.7827968990442105, 1.836885575596599, 1.8909742521489874, 1.945062928701375, 1.9991516052537635, 2.053240281806152, 2.1073289583585404, 2.161417634910928, 2.2155063114633164, 2.269594988015705, 2.3236836645680934, 2.377772341120481, 2.4318610176728694, 2.485949694225258, 2.5400383707776455, 2.594127047330034, 2.6482157238824224, 2.702304400434811, 2.7563930769871985, 2.810481753539587, 2.8645704300919754, 2.918659106644364, 2.9727477831967515, 3.02683645974914, 3.0809251363015284, 3.135013812853916, 3.1891024894063045, 3.243191165958693, 3.2972798425110814, 3.351368519063469, 3.4054571956158575, 3.459545872168246, 3.5136345487206344, 3.567723225273022, 3.6218119018254105, 3.675900578377799, 3.7299892549301865, 3.784077931482575, 3.8381666080349635, 3.892255284587352, 3.9463439611397395, 4.000432637692128, 4.054521314244516, 4.108609990796905, 4.162698667349293, 4.2167873439016805, 4.27087602045407, 4.3249646970064575, 4.379053373558845, 4.433142050111234, 4.487230726663622, 4.54131940321601, 4.595408079768399, 4.6494967563207865, 4.703585432873176, 4.7576741094255635, 4.811762785977951, 4.86585146253034, 4.919940139082728, 4.974028815635117, 5.028117492187505, 5.0822061687398925, 5.136294845292282, 5.1903835218446694, 5.244472198397057, 5.298560874949446, 5.352649551501834, 5.4067382280542216, 5.460826904606611, 5.5149155811589985, 5.569004257711388, 5.623092934263775, 5.677181610816163, 5.731270287368552, 5.78535896392094, 5.8394476404733275, 5.893536317025717, 5.9476249935781045, 6.001713670130492, 6.055802346682881, 6.109891023235269, 6.163979699787658, 6.218068376340046, 6.2721570528924335, 6.326245729444823, 6.3803344059972105, 6.434423082549598, 6.488511759101987, 6.542600435654375, 6.596689112206763, 6.650777788759152, 6.7048664653115395, 6.758955141863929, 6.8130438184163165, 6.867132494968704, 6.921221171521093, 6.975309848073481, 7.029398524625869, 7.083487201178258, 7.1375758777306455, 7.191664554283033, 7.245753230835422, 7.29984190738781, 7.353930583940199, 7.408019260492587, 7.4621079370449745], \"y\": [0.02039506662846225, 0.02103783447979315, 0.021689428981066856, 0.022349475506066103, 0.023017580527473176, 0.023693332290021574, 0.024376301567133773, 0.025066042501093233, 0.02576209352645345, 0.026463978376033835, 0.02717120716848833, 0.02788327757606245, 0.02859967607077833, 0.029319879246906228, 0.03004335521719696, 0.030769565079967576, 0.0314979644537469, 0.03222800507580815, 0.032959136460540536, 0.033690807613240566, 0.034422468794543165, 0.03515357333036209, 0.03588357946186841, 0.036611952229711274, 0.0373381653863745, 0.0380617033302691, 0.0387820630548891, 0.039498756106101963, 0.04021131054041499, 0.04091927287684987, 0.041622210034873174, 0.042319711250672506, 0.04301138996393955, 0.04369688566721416, 0.044375865709774136, 0.04504802704800901, 0.045713097934202876, 0.046370839535671234, 0.0470210474762428, 0.04766355329216284, 0.048298225794603654, 0.0489249723311188, 0.049543739938551, 0.05015451638011836, 0.05075733105964399, 0.051352255806169034, 0.051939405522495215, 0.05251893869153872, 0.053091057734745165, 0.05365600921721051, 0.054214083894578165, 0.05476561659723619, 0.05531098594781534, 0.05585061390849837, 0.056384965155177214, 0.05691454627604972, 0.05743990479282411, 0.05796162800329477, 0.05848034164466797, 0.05899670837765354, 0.05951142609198189, 0.060025226034677547, 0.06053887076309079, 0.06105315192538223, 0.061568887871847576, 0.062086921101175856, 0.06260811554644347, 0.06313335370635377, 0.06366353362794681, 0.06419956574770982, 0.06474236959872316, 0.06529287039217499, 0.06585199548226041, 0.06642067072415733, 0.06699981673542843, 0.06759034507183384, 0.06819315432916066, 0.06880912618326386, 0.06943912138107743, 0.07008397569588742, 0.07074449586065439, 0.0714214554936345, 0.0721155910309633, 0.0728275976812445, 0.07355812541750592, 0.07430777502216641, 0.07507709420087182, 0.0758665737812279, 0.07667664401255639, 0.07750767098284683, 0.07835995316904901, 0.07923371813676176, 0.08012911940521224, 0.08104623349318744, 0.0819850571612752, 0.08294550486539262, 0.0839274064361251, 0.08493050499787048, 0.08595445514117746, 0.0869988213609873, 0.08806307677273316, 0.08914660211742209, 0.09024868506592897, 0.09136851983175656, 0.0925052071004866, 0.09365775428304056, 0.0948250760987146, 0.096005995492731, 0.09719924489178546, 0.0984034677997509, 0.09961722073434376, 0.10083897550416682, 0.10206712182411908, 0.10329997026572195, 0.10453575553744643, 0.10577264008866134, 0.1070087180293468, 0.10824201935625585, 0.10947051447475485, 0.1106921190041455, 0.11190469885287015, 0.11310607554864255, 0.11429403180723235, 0.11546631732236337, 0.11662065475799477, 0.11775474592311269, 0.11886627810811194, 0.11995293056087016, 0.12101238107973679, 0.12204231269986682, 0.12304042044864975, 0.1240044181454007, 0.12493204522000838, 0.12582107352489047, 0.12666931411436141, 0.12747462396541004, 0.12823491261389205, 0.128948148680272, 0.1296123662593137, 0.13022567114849695, 0.13078624689044469, 0.13129236060527769, 0.1317423685895589, 0.13213472165935763, 0.13246797021594028, 0.13274076901368217, 0.1329518816109831, 0.1331001844862586, 0.1331846708024519, 0.1332044538049771, 0.1331587698395372, 0.13304698097786882, 0.13286857724112675, 0.1326231784123401, 0.13231053543112584, 0.13193053136563795, 0.13148318195853737, 0.13096863574559933, 0.13038717374739758, 0.12973920873632727, 0.12902528408303834, 0.12824607218812256, 0.1274023725066518, 0.12649510917485451, 0.12552532824987464, 0.12449419457513404, 0.12340298828534085, 0.12225310096662093, 0.12104603148860454, 0.11978338152656438, 0.11846685079286459, 0.11709823199804467, 0.11567940556281921, 0.11421233410311865, 0.11269905671102778, 0.11114168305508865, 0.10954238732393706, 0.10790340203760522, 0.10622701175108332, 0.10451554667486583, 0.10277137623721261, 0.10099690261276134, 0.09919455424189495, 0.09736677936493933, 0.09551603959482158, 0.09364480355126598, 0.09175554057895713, 0.0898507145713514, 0.08793277792098075, 0.08600416561617381, 0.08406728950311639, 0.0821245327311084, 0.08017824439773585, 0.07823073440948991, 0.07628426857212146, 0.07434106392374097, 0.07240328432235656, 0.07047303629819993, 0.06855236517983355, 0.06664325150165436], \"type\": \"scatter\"}], \"name\": \"24\"}]);\n",
              "                        }).then(function(){\n",
              "                            \n",
              "var gd = document.getElementById('5647663f-dea4-4233-a2f3-cfdae192dda1');\n",
              "var x = new MutationObserver(function (mutations, observer) {{\n",
              "        var display = window.getComputedStyle(gd).display;\n",
              "        if (!display || display === 'none') {{\n",
              "            console.log([gd, 'removed!']);\n",
              "            Plotly.purge(gd);\n",
              "            observer.disconnect();\n",
              "        }}\n",
              "}});\n",
              "\n",
              "// Listen for the removal of the full notebook cells\n",
              "var notebookContainer = gd.closest('#notebook-container');\n",
              "if (notebookContainer) {{\n",
              "    x.observe(notebookContainer, {childList: true});\n",
              "}}\n",
              "\n",
              "// Listen for the clearing of the current output cell\n",
              "var outputEl = gd.closest('.output');\n",
              "if (outputEl) {{\n",
              "    x.observe(outputEl, {childList: true});\n",
              "}}\n",
              "\n",
              "                        })\n",
              "                };\n",
              "                \n",
              "            </script>\n",
              "        </div>\n",
              "</body>\n",
              "</html>"
            ]
          },
          "metadata": {
            "tags": []
          }
        }
      ]
    },
    {
      "cell_type": "markdown",
      "metadata": {
        "id": "suSYmnm-qy73",
        "colab_type": "text"
      },
      "source": [
        "   There are two classes of approaches to this problem: in the statistics community, it is common to use reference rules, where the optimal bandwidth is estimated from theoretical forms based on assumptions about the data distribution. A common reference rule is **Silverman's rule of thumb**, which is derived for univariate KDE and included within both the `Scipy` and `Statsmodels` implementations. Other potential reference rules are ones based on Information Criteria, such as the well-known AIC and BIC. Another option is **Improved Sheather-Jones (ISJ) algorithm**.\n",
        "\n",
        "In the Machine Learning world, the use of reference rules is less common. Instead, an empirical approach such as **cross validation** is often used. In cross validation, the model is fit to part of the data, and then a quantitative metric is computed to determine how well this model fits the remaining data. Such an empirical approach to model parameter selection is very flexible, and can be used regardless of the underlying data distribution.\n",
        "\n",
        "Let's look at these approaches in more detail."
      ]
    },
    {
      "cell_type": "markdown",
      "metadata": {
        "id": "am_w-S6sMY4X",
        "colab_type": "text"
      },
      "source": [
        "###Theoretical considerations"
      ]
    },
    {
      "cell_type": "markdown",
      "metadata": {
        "id": "SXcsA8-Wt3y9",
        "colab_type": "text"
      },
      "source": [
        "The most common optimality criterion used to select this parameter is the expected $L_2$ risk function, also termed the **mean integrated squared error**:\n",
        "\n",
        "$$\\text{MISE}(h)=\\mathbb{E}\\left[\\int \\left(\\hat{f}_h(x)-f(x)\\right)^2 dx \\right].$$\n",
        "\n",
        "Under weak assumptions on $f$ and $K$\n",
        "\n",
        "$$\n",
        "\\text{MISE}(h)=\\text{AMISE}(h)+o\\left(\\frac{1}{Nh}+h^4\\right).\n",
        "$$\n",
        "\n",
        "The $\\text{AMISE}$ is the **A**symptotic **MISE** which consists of the two leading terms\n",
        "\n",
        "$$\n",
        "\\text{AMISE}(h)=\\frac{R(K)}{Nh}+\\frac{1}{4}m_2(K)^2h^4R(f''),\n",
        "$$\n",
        "\n",
        "where $R(g)=\\int g(x)^2 dx$ and $m_2(K)=\\int x^2 K(x) dx$. Thus\n",
        "* $R(g)$ is the functional $L_2$-norm;\n",
        "* $m_2(K)=\\mathbb{E}_K[x^2]$ is the so-called $2$-nd non-central moment of the kernel.\n",
        "\n",
        "The minimum of this $\\text{AMISE}$ is the solution to this differential equation\n",
        "\n",
        "$$\n",
        "\\begin{aligned}\n",
        "& \\frac{\\partial}{\\partial h}\\text{AMISE}(h) =-\\frac{R(K)}{N h^2}+m_2(K)^2h^3R(f'')=0 \\color{red}{\\Rightarrow} \\\\\n",
        "& \\color{red}{\\Rightarrow} \\qquad h_{\\text{AMISE}} =\\frac{R(K)^{1/5}}{m_2(K)^{2/5} R(f'')^{1/5}N^{1/5}}.\n",
        "\\end{aligned}\n",
        "$$\n",
        "\n",
        "Neither the $\\text{AMISE}$ nor the $h_\\text{AMISE}$ formulas are able to be used directly since they involve the unknown density function $f$ or its second derivative $f''$, so a variety of automatic, data-based methods have been developed for selecting the bandwidth."
      ]
    },
    {
      "cell_type": "markdown",
      "metadata": {
        "id": "ikXJjC-IJR7B",
        "colab_type": "text"
      },
      "source": [
        "###Silverman's Rule of Thumb"
      ]
    },
    {
      "cell_type": "markdown",
      "metadata": {
        "id": "F9e1Z4OmJT0W",
        "colab_type": "text"
      },
      "source": [
        "If the data is unimodal and close to normal, silverman’s rule of thumb may be used. It’s computationally very fast, but derived by assuming that the true density is normal. This is somewhat paradoxal, since if we knew that the data was truly normal it would render a kernel density estimator unnecessary.\n",
        "\n",
        "$$\n",
        "h=\\left(\\frac{4}{3}\\frac{\\hat{\\sigma}^5}{N}\\right)^{\\frac{1}{5}}.\n",
        "$$"
      ]
    },
    {
      "cell_type": "markdown",
      "metadata": {
        "id": "501YP8v3J1bf",
        "colab_type": "text"
      },
      "source": [
        "###Improved Sheather-Jones (ISJ) algorithm "
      ]
    },
    {
      "cell_type": "markdown",
      "metadata": {
        "id": "8BSBQb_hJ4oZ",
        "colab_type": "text"
      },
      "source": [
        "If much data is available and the data is far from normal or multimodal, the **I**mproved **S**heather **J**ones (ISJ) algorithm may be used. The Improved Sheather-Jones algorithm is a selector based on the smoothing properties of linear diffusion processes.\n",
        "\n",
        "The ISJ algorithm also attempts to find $h$ to minimize the asymptotic mean integrated square error ($\\text{AMISE}$), which depends on the unknown quantity $\\|f''(x)\\|^2$. Using a recursive formula, this is accomplished by computing a sequence of estimates."
      ]
    },
    {
      "cell_type": "markdown",
      "metadata": {
        "id": "q8stjXouIyTz",
        "colab_type": "text"
      },
      "source": [
        "###Cross-validation"
      ]
    },
    {
      "cell_type": "code",
      "metadata": {
        "id": "P_6K4w_3Izgz",
        "colab_type": "code",
        "outputId": "f9e39b77-e5b2-4eca-9800-879c83423287",
        "colab": {
          "base_uri": "https://localhost:8080/",
          "height": 34
        }
      },
      "source": [
        "from sklearn.model_selection import learning_curve, GridSearchCV\n",
        "from sklearn.model_selection import LeaveOneOut #train_test_split\n",
        "\n",
        "bandwidths = 10 ** np.linspace(-1, 1, 100)\n",
        "loo = LeaveOneOut()\n",
        "grid = GridSearchCV(KernelDensity(kernel='gaussian'), {'bandwidth': bandwidths}, cv=loo)\n",
        "grid.fit(x[:, None]);\n",
        "grid.best_params_"
      ],
      "execution_count": 0,
      "outputs": [
        {
          "output_type": "execute_result",
          "data": {
            "text/plain": [
              "{'bandwidth': 1.1233240329780276}"
            ]
          },
          "metadata": {
            "tags": []
          },
          "execution_count": 20
        }
      ]
    },
    {
      "cell_type": "markdown",
      "metadata": {
        "id": "JGrdMpBf_vRg",
        "colab_type": "text"
      },
      "source": [
        "#Interactive 1D example (kernel and bandwidth)"
      ]
    },
    {
      "cell_type": "code",
      "metadata": {
        "id": "PzBCi9C6e3X0",
        "colab_type": "code",
        "outputId": "a7db3e47-ffd9-4782-e944-aed5bc921a1e",
        "colab": {
          "base_uri": "https://localhost:8080/",
          "height": 255
        }
      },
      "source": [
        "# install KDEpy library before starting the following demo\n",
        "!pip install KDEpy"
      ],
      "execution_count": 0,
      "outputs": [
        {
          "output_type": "stream",
          "text": [
            "Collecting KDEpy\n",
            "\u001b[?25l  Downloading https://files.pythonhosted.org/packages/15/93/5200d0dd5ef1bc4eb4b5699a67a73cfad4a0ee1fdc3ba2f0038a3ce9afe7/KDEpy-1.0.2-cp36-cp36m-manylinux2010_x86_64.whl (384kB)\n",
            "\u001b[K     |████████████████████████████████| 389kB 2.8MB/s \n",
            "\u001b[?25hRequirement already satisfied: scipy>=1.0.1 in /usr/local/lib/python3.6/dist-packages (from KDEpy) (1.3.3)\n",
            "Requirement already satisfied: numpy>=1.14.2 in /usr/local/lib/python3.6/dist-packages (from KDEpy) (1.17.4)\n",
            "Requirement already satisfied: matplotlib>=2.2.0 in /usr/local/lib/python3.6/dist-packages (from KDEpy) (3.1.2)\n",
            "Requirement already satisfied: kiwisolver>=1.0.1 in /usr/local/lib/python3.6/dist-packages (from matplotlib>=2.2.0->KDEpy) (1.1.0)\n",
            "Requirement already satisfied: cycler>=0.10 in /usr/local/lib/python3.6/dist-packages (from matplotlib>=2.2.0->KDEpy) (0.10.0)\n",
            "Requirement already satisfied: python-dateutil>=2.1 in /usr/local/lib/python3.6/dist-packages (from matplotlib>=2.2.0->KDEpy) (2.6.1)\n",
            "Requirement already satisfied: pyparsing!=2.0.4,!=2.1.2,!=2.1.6,>=2.0.1 in /usr/local/lib/python3.6/dist-packages (from matplotlib>=2.2.0->KDEpy) (2.4.5)\n",
            "Requirement already satisfied: setuptools in /usr/local/lib/python3.6/dist-packages (from kiwisolver>=1.0.1->matplotlib>=2.2.0->KDEpy) (42.0.1)\n",
            "Requirement already satisfied: six in /usr/local/lib/python3.6/dist-packages (from cycler>=0.10->matplotlib>=2.2.0->KDEpy) (1.12.0)\n",
            "Installing collected packages: KDEpy\n",
            "Successfully installed KDEpy-1.0.2\n"
          ],
          "name": "stdout"
        }
      ]
    },
    {
      "cell_type": "code",
      "metadata": {
        "id": "7TFQX4IJEOz8",
        "colab_type": "code",
        "cellView": "form",
        "outputId": "e2a6654b-4548-4937-d27d-767de885612a",
        "colab": {
          "resources": {
            "http://localhost:8080/nbextensions/google.colab/tabbar.css": {
              "data": "Lmdvb2ctdGFie3Bvc2l0aW9uOnJlbGF0aXZlO3BhZGRpbmc6NHB4IDhweDtjb2xvcjojMDBjO3RleHQtZGVjb3JhdGlvbjp1bmRlcmxpbmU7Y3Vyc29yOmRlZmF1bHR9Lmdvb2ctdGFiLWJhci10b3AgLmdvb2ctdGFie21hcmdpbjoxcHggNHB4IDAgMDtib3JkZXItYm90dG9tOjA7ZmxvYXQ6bGVmdH0uZ29vZy10YWItYmFyLXRvcDphZnRlciwuZ29vZy10YWItYmFyLWJvdHRvbTphZnRlcntjb250ZW50OiIgIjtkaXNwbGF5OmJsb2NrO2hlaWdodDowO2NsZWFyOmJvdGg7dmlzaWJpbGl0eTpoaWRkZW59Lmdvb2ctdGFiLWJhci1ib3R0b20gLmdvb2ctdGFie21hcmdpbjowIDRweCAxcHggMDtib3JkZXItdG9wOjA7ZmxvYXQ6bGVmdH0uZ29vZy10YWItYmFyLXN0YXJ0IC5nb29nLXRhYnttYXJnaW46MCAwIDRweCAxcHg7Ym9yZGVyLXJpZ2h0OjB9Lmdvb2ctdGFiLWJhci1lbmQgLmdvb2ctdGFie21hcmdpbjowIDFweCA0cHggMDtib3JkZXItbGVmdDowfS5nb29nLXRhYi1ob3ZlcntiYWNrZ3JvdW5kOiNlZWV9Lmdvb2ctdGFiLWRpc2FibGVke2NvbG9yOiM2NjZ9Lmdvb2ctdGFiLXNlbGVjdGVke2NvbG9yOiMwMDA7YmFja2dyb3VuZDojZmZmO3RleHQtZGVjb3JhdGlvbjpub25lO2ZvbnQtd2VpZ2h0OmJvbGQ7Ym9yZGVyOjFweCBzb2xpZCAjNmI5MGRhfS5nb29nLXRhYi1iYXItdG9we3BhZGRpbmctdG9wOjVweCFpbXBvcnRhbnQ7cGFkZGluZy1sZWZ0OjVweCFpbXBvcnRhbnQ7Ym9yZGVyLWJvdHRvbToxcHggc29saWQgIzZiOTBkYSFpbXBvcnRhbnR9Lmdvb2ctdGFiLWJhci10b3AgLmdvb2ctdGFiLXNlbGVjdGVke3RvcDoxcHg7bWFyZ2luLXRvcDowO3BhZGRpbmctYm90dG9tOjVweH0uZ29vZy10YWItYmFyLWJvdHRvbSAuZ29vZy10YWItc2VsZWN0ZWR7dG9wOi0xcHg7bWFyZ2luLWJvdHRvbTowO3BhZGRpbmctdG9wOjVweH0uZ29vZy10YWItYmFyLXN0YXJ0IC5nb29nLXRhYi1zZWxlY3RlZHtsZWZ0OjFweDttYXJnaW4tbGVmdDowO3BhZGRpbmctcmlnaHQ6OXB4fS5nb29nLXRhYi1iYXItZW5kIC5nb29nLXRhYi1zZWxlY3RlZHtsZWZ0Oi0xcHg7bWFyZ2luLXJpZ2h0OjA7cGFkZGluZy1sZWZ0OjlweH0uZ29vZy10YWItYmFye21hcmdpbjowO2JvcmRlcjowO3BhZGRpbmc6MDtsaXN0LXN0eWxlOm5vbmU7Y3Vyc29yOmRlZmF1bHQ7b3V0bGluZTpub25lO2JhY2tncm91bmQ6I2ViZWZmOX0uZ29vZy10YWItYmFyLWNsZWFye2NsZWFyOmJvdGg7aGVpZ2h0OjA7b3ZlcmZsb3c6aGlkZGVufS5nb29nLXRhYi1iYXItc3RhcnR7ZmxvYXQ6bGVmdH0uZ29vZy10YWItYmFyLWVuZHtmbG9hdDpyaWdodH0qIGh0bWwgLmdvb2ctdGFiLWJhci1zdGFydHttYXJnaW4tcmlnaHQ6LTNweH0qIGh0bWwgLmdvb2ctdGFiLWJhci1lbmR7bWFyZ2luLWxlZnQ6LTNweH0=",
              "ok": true,
              "headers": [
                [
                  "content-type",
                  "text/css"
                ]
              ],
              "status": 200,
              "status_text": ""
            },
            "http://localhost:8080/nbextensions/google.colab/tabbar_main.min.js": {
              "data": "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",
              "ok": true,
              "headers": [
                [
                  "content-type",
                  "application/javascript"
                ]
              ],
              "status": 200,
              "status_text": ""
            }
          },
          "base_uri": "https://localhost:8080/",
          "height": 121,
          "referenced_widgets": [
            "0f334d37280e4531bda015aa6290c1b3",
            "9bd08a59cc3e4afa8cb1601ad5376b0c",
            "e3546ddd48cb45a5890b9848af43dbad",
            "2fe9a2b30b2e463da124c9447a8171c8",
            "36cc56e11a3a47329356690f3c1d7cba",
            "c3859f6b6765407fa91318c2cca3cc57",
            "04f83d8453a94f6c9fd245e838203c37",
            "540325d450d549b2882e4a191eaf61f7",
            "cae1a26338f149ba978028fd685832b6",
            "c13044732c394a6d8169238b245b0ba4",
            "9c918121c21d443da684a64577fefe8a",
            "0ca0843e67e34e6b94f646c3e3bd02b9",
            "8a9573f2192b476b8bae748ac9c16308",
            "1ae4b65138354da38f2f649da8389445",
            "87407dee15524433b129e201cc028044",
            "3a0365b8194b41e9a00395750ba045e7",
            "08bc335503ad4152853646ddb93b88b7",
            "75f63f92b5f14a91ab9eec1c3739e289",
            "4647c4b2d1f649d3a2aef12e50b6120f",
            "a9297559de9e4107a663030faec48b7f",
            "7f4fe20583b943ef88e33e73574ad7f3",
            "7c21754183024da8b61a2c41d47a78dc",
            "55e8299794864b71a70466381162950c",
            "b07f6b16d6ef44df83be40d7fe17719a",
            "73d51d126a004043af1c055a81ee91a1",
            "7b6da1c69d2643058e647f82572b921e",
            "ea05b10ee8ea4fb7b42c3ab88bf5fecc",
            "9a9a85d49e4b414f9e87d64badec6d54",
            "2bfab007ec3d4ea1b5eb060b2834e4d2",
            "bf1d2c601742497eb983ea724adb44d6",
            "5e685b8027c04dd5aabfec10e1f4cf70",
            "841a64a43708481e92a6e37767a57065",
            "4f7c35c95dbd483f900c5dd0f276779e",
            "af208dffa95c4fde9e19765faabb0214",
            "2286eb29510a420fb01cafe4daaed365",
            "c4195d1a83f34e9abe35bea212fde508",
            "2bebd902fc2f40be88c003c2c54f6978",
            "4dacef56c7a14225909270fcd812cd8c",
            "92b78e7e7df24fdcbbf1c1e4dd01cf32",
            "d0dee9205e084d68b52c1fc87c29dcac",
            "c64da43131fb4743b0a083ee6dcc06ba",
            "7539a514676844a5a241dc35ce65514a",
            "acec943fbf38496c9ac3a5e46ee19c0d",
            "77366e7492684eeb839fbb6b5f448657",
            "7933ac4cc1c24f24ba509b424efc9887",
            "16ace79aea39486bae0a97baedbf8dae",
            "8072711b88e14b7e896221152f15846c",
            "6c345a82da8345829c8e17bf9da48027",
            "f4af8e7329b0426f94c3aaf7432a5b3b",
            "383b2234a39245d2879b2edbaca57a5b",
            "edf54f15d7c94cc7b05f6bac904c95f8",
            "144c3d39474b47749bde28d3589c4f02",
            "63c5bd8da3ad4cb8ae229ad3c8483045",
            "d304ff52086647c7bc3ad1b3267577fc"
          ]
        }
      },
      "source": [
        "#@title Bandwidth and kernel in KDE\n",
        "from google.colab import widgets\n",
        "import ipywidgets\n",
        "import numpy as np\n",
        "import matplotlib.pyplot as plt\n",
        "import scipy\n",
        "from sklearn.neighbors import KernelDensity\n",
        "from sklearn.model_selection import learning_curve, GridSearchCV\n",
        "from sklearn.model_selection import LeaveOneOut #train_test_split\n",
        "from KDEpy import FFTKDE\n",
        "\n",
        "\n",
        "params = []\n",
        "X = []\n",
        "b_w = ipywidgets.FloatSlider(description='bandwidth', min=1, max=50.0, value=15.0)\n",
        "ker_type = ipywidgets.Dropdown(\n",
        "  options=['gaussian', 'tophat', 'epanechnikov', 'exponential','linear','cosine'],\n",
        "  value='gaussian',\n",
        "  description='Kernel:',\n",
        "  disabled=False)\n",
        "\n",
        "def set_slider(x):\n",
        "  bandwidths = np.linspace(b_w.min, b_w.max, 100)\n",
        "  loo = LeaveOneOut()\n",
        "  grid = GridSearchCV(KernelDensity(kernel=ker_type.value), {'bandwidth': bandwidths}, cv=loo)\n",
        "  grid.fit(np.array(X)[:, None]);\n",
        "  b_w.value = grid.best_params_['bandwidth']\n",
        "\n",
        "def set_slider2(x):\n",
        "  ker = {'gaussian':'gaussian', 'cosine':'cosine', \n",
        "         'tophat':'box', 'epanechnikov':'epa', \n",
        "         'exponential':'exponential', 'linear':'tri'}\n",
        "  kde = FFTKDE(bw='ISJ', kernel=ker[ker_type.value])\n",
        "  kde.fit(X)(None)\n",
        "  b_w.value = kde.bw\n",
        "\n",
        "def set_slider1(x):\n",
        "  #std = np.sqrt(np.var(X, axis=0))\n",
        "  #silverman = ((4/(3* len(np.array(X)[:, None])))*std**5)**(1/5)\n",
        "  #b_w.value = silverman\n",
        "\n",
        "  ker = {'gaussian':'gaussian', 'cosine':'cosine', \n",
        "         'tophat':'box', 'epanechnikov':'epa', \n",
        "         'exponential':'exponential', 'linear':'tri'}\n",
        "  kde = FFTKDE(bw='silverman', kernel=ker[ker_type.value])\n",
        "  kde.fit(X)(None)\n",
        "  b_w.value = kde.bw\n",
        "\n",
        "def plot_pdf(plot_separate, k_d = None):\n",
        "  global params\n",
        "  global X\n",
        "  if not params:\n",
        "    return\n",
        "\n",
        "  pi1, pi2, pi3, mu1, sig1, mu2, sig2, mu3, sig3 = params\n",
        "  x = np.linspace(np.min(X), np.max(X), 1001)\n",
        "  fig = plt.figure(figsize=(10, 8))\n",
        "  P_sum = np.zeros(x.shape)\n",
        "  for mu, sig, c, pi, i in [[mu1, sig1, 'r', pi1, 1], [mu2, sig2, 'g', pi2, 2], [mu3, sig3, 'b', pi3, 3]]:\n",
        "    P = scipy.stats.norm.pdf(x, mu, sig)\n",
        "    P_sum += P * pi\n",
        "    if plot_separate:\n",
        "      plt.plot(x, P, c, linewidth=2.0, label=\"{}\".format(i), alpha=np.clip(pi, 0.0, 1.0))\n",
        "  \n",
        "  plt.plot(x, P_sum, 'k', linewidth=3.0, label=\"mixture\")\n",
        "  plt.plot(np.array(X), np.full_like(np.array(X), 0.0), '|k', markeredgewidth=1)\n",
        "  plt.title('True pdf / pdf estimate')\n",
        "  plt.xlabel('x')\n",
        "  plt.ylabel('pdf')\n",
        "  plt.legend()\n",
        "  #plt.show()\n",
        "\n",
        "def set_and_plot(pi, mu1, sig1, mu2, sig2, mu3, sig3):\n",
        "  pi1, pi2 = pi; pi2 -= pi1; pi3 = 1.0 - pi2 - pi1;\n",
        "  global params\n",
        "  global X\n",
        "  X = []\n",
        "  params = [pi1, pi2, pi3, mu1, sig1, mu2, sig2, mu3, sig3]\n",
        "  N = 200\n",
        "  for mu, sig, pi in [[mu1, sig1, pi1], [mu2, sig2, pi2], [mu3, sig3, pi3]]:\n",
        "    X = X + np.random.normal(mu, sig, int(N * pi)).tolist()\n",
        "  plot_pdf(True)\n",
        "\n",
        "\n",
        "def ker_plot(b_w, k_t):\n",
        "  kde = KernelDensity(bandwidth=b_w, kernel=k_t)\n",
        "  global X\n",
        "  kde.fit(np.array(X)[:, None])\n",
        "  x_d = np.linspace(np.min(X), np.max(X), 1001)\n",
        "  logprob = kde.score_samples(x_d[:, None])\n",
        "  plot_pdf(False)\n",
        "  plt.fill_between(x_d, np.exp(logprob), alpha=0.5, color='r')\n",
        "\n",
        "tb = widgets.TabBar(['mix distribution', 'find KDE'], location='top')\n",
        "with tb.output_to(0):\n",
        "  words = ['mu_1', 'sigma_1', 'mu_2', 'sigma_2', 'mu_3', 'sigma_3']\n",
        "  mins  = [0.0, 1.0, 0.0, 1.0, 0.0, 1.0]\n",
        "  maxes = [100.0, 10.0, 100.0, 10.0, 100.0, 10.0]\n",
        "  vals  = [10.0, 10.0, 50.0, 10.0, 90.0, 10.0]\n",
        "  sliders = [ipywidgets.FloatSlider(description=w, min=n, max=x, value=v) for w,x,n,v in zip(words, maxes, mins, vals)]\n",
        "  pi_slider = ipywidgets.FloatRangeSlider(value=[0.3, 0.6], min=0.0, max=1.0, description='pi(1,2,3)')\n",
        "  boxes = [ipywidgets.VBox([pi_slider])]\n",
        "  for slider1, slider2 in zip(sliders[::2], sliders[1::2]):\n",
        "    boxes.append(ipywidgets.VBox([slider1, slider2]))\n",
        "  out = ipywidgets.interactive_output(set_and_plot, {\n",
        "    \"pi\": pi_slider,\n",
        "    \"mu1\": sliders[0], \"sig1\": sliders[1],\n",
        "    \"mu2\": sliders[2], \"sig2\": sliders[3],\n",
        "    \"mu3\": sliders[4], \"sig3\": sliders[5]})\n",
        "  display(ipywidgets.HBox(boxes), out)\n",
        "with tb.output_to(1):\n",
        "  btn = ipywidgets.Button(\n",
        "    description='Cross Validation',\n",
        "    disabled=False,\n",
        "    button_style='')\n",
        "  btn1 = ipywidgets.Button(\n",
        "    description='Silverman',\n",
        "    disabled=False,\n",
        "    button_style='')\n",
        "  btn2 = ipywidgets.Button(\n",
        "    description='ISJ',\n",
        "    disabled=False,\n",
        "    button_style='')\n",
        "  out = ipywidgets.interactive_output(ker_plot, {\"b_w\": b_w, \"k_t\": ker_type})\n",
        "  display(ipywidgets.HBox([ker_type, ipywidgets.VBox([b_w, ipywidgets.HBox([btn1, btn2, btn])])]), out)\n",
        "  btn.on_click(set_slider)\n",
        "  btn1.on_click(set_slider1)\n",
        "  btn2.on_click(set_slider2)"
      ],
      "execution_count": 0,
      "outputs": [
        {
          "output_type": "display_data",
          "data": {
            "text/html": [
              "<link rel=stylesheet type=text/css href='/nbextensions/google.colab/tabbar.css'></link>"
            ],
            "text/plain": [
              "<IPython.core.display.HTML object>"
            ]
          },
          "metadata": {
            "tags": [
              "outputarea_id4"
            ]
          }
        },
        {
          "output_type": "display_data",
          "data": {
            "text/html": [
              "<script src='/nbextensions/google.colab/tabbar_main.min.js'></script>"
            ],
            "text/plain": [
              "<IPython.core.display.HTML object>"
            ]
          },
          "metadata": {
            "tags": [
              "outputarea_id4"
            ]
          }
        },
        {
          "output_type": "display_data",
          "data": {
            "text/html": [
              "<div id=\"id4\"></div>"
            ],
            "text/plain": [
              "<IPython.core.display.HTML object>"
            ]
          },
          "metadata": {
            "tags": [
              "outputarea_id4"
            ]
          }
        },
        {
          "output_type": "display_data",
          "data": {
            "application/javascript": [
              "window[\"cdcf22aa-187d-11ea-b8eb-0242ac1c0002\"] = colab_lib.createTabBar({\"location\": \"top\", \"elementId\": \"id4\", \"tabNames\": [\"mix distribution\", \"find KDE\"], \"initialSelection\": 0, \"contentBorder\": [\"0px\"], \"contentHeight\": [\"initial\"], \"borderColor\": [\"#a7a7a7\"]});\n",
              "//# sourceURL=js_40a98918d3"
            ],
            "text/plain": [
              "<IPython.core.display.Javascript object>"
            ]
          },
          "metadata": {
            "tags": [
              "outputarea_id4"
            ]
          }
        },
        {
          "output_type": "display_data",
          "data": {
            "application/javascript": [
              "window[\"cdcf6652-187d-11ea-b8eb-0242ac1c0002\"] = window[\"id4\"].setSelectedTabIndex(0);\n",
              "//# sourceURL=js_c0bdd87681"
            ],
            "text/plain": [
              "<IPython.core.display.Javascript object>"
            ]
          },
          "metadata": {
            "tags": [
              "outputarea_id4"
            ]
          }
        },
        {
          "output_type": "display_data",
          "data": {
            "application/javascript": [
              "window[\"cdd06f20-187d-11ea-b8eb-0242ac1c0002\"] = google.colab.output.getActiveOutputArea();\n",
              "//# sourceURL=js_1ab800cd70"
            ],
            "text/plain": [
              "<IPython.core.display.Javascript object>"
            ]
          },
          "metadata": {
            "tags": [
              "id4_content_0",
              "outputarea_id4"
            ]
          }
        },
        {
          "output_type": "display_data",
          "data": {
            "application/javascript": [
              "window[\"cdd0a602-187d-11ea-b8eb-0242ac1c0002\"] = document.querySelector(\"#id4_content_0\");\n",
              "//# sourceURL=js_d9564f598f"
            ],
            "text/plain": [
              "<IPython.core.display.Javascript object>"
            ]
          },
          "metadata": {
            "tags": [
              "id4_content_0",
              "outputarea_id4"
            ]
          }
        },
        {
          "output_type": "display_data",
          "data": {
            "application/javascript": [
              "window[\"cdd0e6bc-187d-11ea-b8eb-0242ac1c0002\"] = google.colab.output.setActiveOutputArea(window[\"cdd0a602-187d-11ea-b8eb-0242ac1c0002\"]);\n",
              "//# sourceURL=js_b916257316"
            ],
            "text/plain": [
              "<IPython.core.display.Javascript object>"
            ]
          },
          "metadata": {
            "tags": [
              "id4_content_0",
              "outputarea_id4"
            ]
          }
        },
        {
          "output_type": "display_data",
          "data": {
            "application/javascript": [
              "window[\"cdd11ace-187d-11ea-b8eb-0242ac1c0002\"] = window[\"id4\"].setSelectedTabIndex(0);\n",
              "//# sourceURL=js_b9d7a66b03"
            ],
            "text/plain": [
              "<IPython.core.display.Javascript object>"
            ]
          },
          "metadata": {
            "tags": [
              "id4_content_0",
              "outputarea_id4"
            ]
          }
        },
        {
          "output_type": "display_data",
          "data": {
            "application/vnd.jupyter.widget-view+json": {
              "model_id": "0f334d37280e4531bda015aa6290c1b3",
              "version_minor": 0,
              "version_major": 2
            },
            "text/plain": [
              "HBox(children=(VBox(children=(FloatRangeSlider(value=(0.3, 0.6), description='pi(1,2,3)', max=1.0),)), VBox(ch…"
            ]
          },
          "metadata": {
            "tags": [
              "id4_content_0",
              "outputarea_id4",
              "user_output"
            ]
          }
        },
        {
          "output_type": "display_data",
          "data": {
            "application/vnd.jupyter.widget-view+json": {
              "model_id": "841a64a43708481e92a6e37767a57065",
              "version_minor": 0,
              "version_major": 2
            },
            "text/plain": [
              "Output()"
            ]
          },
          "metadata": {
            "tags": [
              "id4_content_0",
              "outputarea_id4",
              "user_output"
            ]
          }
        },
        {
          "output_type": "display_data",
          "data": {
            "application/javascript": [
              "window[\"ce132a4a-187d-11ea-b8eb-0242ac1c0002\"] = google.colab.output.setActiveOutputArea(window[\"cdd06f20-187d-11ea-b8eb-0242ac1c0002\"]);\n",
              "//# sourceURL=js_b92de1287d"
            ],
            "text/plain": [
              "<IPython.core.display.Javascript object>"
            ]
          },
          "metadata": {
            "tags": [
              "id4_content_0",
              "outputarea_id4"
            ]
          }
        },
        {
          "output_type": "display_data",
          "data": {
            "application/javascript": [
              "window[\"ce1449ac-187d-11ea-b8eb-0242ac1c0002\"] = google.colab.output.getActiveOutputArea();\n",
              "//# sourceURL=js_fad9b43097"
            ],
            "text/plain": [
              "<IPython.core.display.Javascript object>"
            ]
          },
          "metadata": {
            "tags": [
              "id4_content_1",
              "outputarea_id4"
            ]
          }
        },
        {
          "output_type": "display_data",
          "data": {
            "application/javascript": [
              "window[\"ce148494-187d-11ea-b8eb-0242ac1c0002\"] = document.querySelector(\"#id4_content_1\");\n",
              "//# sourceURL=js_5016458dd3"
            ],
            "text/plain": [
              "<IPython.core.display.Javascript object>"
            ]
          },
          "metadata": {
            "tags": [
              "id4_content_1",
              "outputarea_id4"
            ]
          }
        },
        {
          "output_type": "display_data",
          "data": {
            "application/javascript": [
              "window[\"ce14c0b2-187d-11ea-b8eb-0242ac1c0002\"] = google.colab.output.setActiveOutputArea(window[\"ce148494-187d-11ea-b8eb-0242ac1c0002\"]);\n",
              "//# sourceURL=js_32a13ec9c4"
            ],
            "text/plain": [
              "<IPython.core.display.Javascript object>"
            ]
          },
          "metadata": {
            "tags": [
              "id4_content_1",
              "outputarea_id4"
            ]
          }
        },
        {
          "output_type": "display_data",
          "data": {
            "application/javascript": [
              "window[\"ce14f73a-187d-11ea-b8eb-0242ac1c0002\"] = window[\"id4\"].setSelectedTabIndex(1);\n",
              "//# sourceURL=js_c4430ad192"
            ],
            "text/plain": [
              "<IPython.core.display.Javascript object>"
            ]
          },
          "metadata": {
            "tags": [
              "id4_content_1",
              "outputarea_id4"
            ]
          }
        },
        {
          "output_type": "display_data",
          "data": {
            "application/vnd.jupyter.widget-view+json": {
              "model_id": "4f7c35c95dbd483f900c5dd0f276779e",
              "version_minor": 0,
              "version_major": 2
            },
            "text/plain": [
              "HBox(children=(Dropdown(description='Kernel:', options=('gaussian', 'tophat', 'epanechnikov', 'exponential', '…"
            ]
          },
          "metadata": {
            "tags": [
              "id4_content_1",
              "outputarea_id4",
              "user_output"
            ]
          }
        },
        {
          "output_type": "display_data",
          "data": {
            "application/vnd.jupyter.widget-view+json": {
              "model_id": "d304ff52086647c7bc3ad1b3267577fc",
              "version_minor": 0,
              "version_major": 2
            },
            "text/plain": [
              "Output()"
            ]
          },
          "metadata": {
            "tags": [
              "id4_content_1",
              "outputarea_id4",
              "user_output"
            ]
          }
        },
        {
          "output_type": "display_data",
          "data": {
            "application/javascript": [
              "window[\"ce4c8826-187d-11ea-b8eb-0242ac1c0002\"] = google.colab.output.setActiveOutputArea(window[\"ce1449ac-187d-11ea-b8eb-0242ac1c0002\"]);\n",
              "//# sourceURL=js_ee77c1dc8a"
            ],
            "text/plain": [
              "<IPython.core.display.Javascript object>"
            ]
          },
          "metadata": {
            "tags": [
              "id4_content_1",
              "outputarea_id4"
            ]
          }
        }
      ]
    },
    {
      "cell_type": "markdown",
      "metadata": {
        "id": "K4ZOQYKOXFct",
        "colab_type": "text"
      },
      "source": [
        "#Interactive 2D example (sample points)"
      ]
    },
    {
      "cell_type": "code",
      "metadata": {
        "id": "C_naQsfwXL8J",
        "colab_type": "code",
        "colab": {}
      },
      "source": [
        "from sklearn.neighbors import KernelDensity\n",
        "# instantiate and fit the KDE model\n",
        "kde = KernelDensity()\n",
        "\n",
        "def fit_distribution(X, bandwidth, ker_name, metric_name):\n",
        "  params = {'bandwidth': bandwidth, 'kernel': ker_name, 'metric': metric_name}\n",
        "  kde.set_params(**params)\n",
        "  kde.fit(X)\n",
        "\n",
        "def evaluate_distribution(X):\n",
        "  logprob = kde.score_samples(X)\n",
        "  return np.exp(logprob)"
      ],
      "execution_count": 0,
      "outputs": []
    },
    {
      "cell_type": "code",
      "metadata": {
        "id": "FekYs8I_XUXM",
        "colab_type": "code",
        "cellView": "form",
        "outputId": "e8393d1b-c2f2-4bae-f933-c7eff3e73bb8",
        "colab": {
          "base_uri": "https://localhost:8080/",
          "height": 617
        }
      },
      "source": [
        "#@title KDE for 2D points\n",
        "import numpy as np\n",
        "import matplotlib.pyplot as plt\n",
        "from matplotlib.colors import ListedColormap\n",
        "from matplotlib import cm\n",
        "import seaborn as sns\n",
        "        \n",
        "def plot_clusters(x_, y_, z_):\n",
        "  fig = plt.figure(figsize=(10,10))\n",
        "  ax = fig.gca()\n",
        "  #ax = sns.kdeplot(X[:,0], X[:,1], cmap=\"Blues\", shade=True, shade_lowest=False)\n",
        "  sns.set()\n",
        "  ax.contourf(x_, y_, z_, alpha=0.5, cmap=\"Blues\")\n",
        "  ax.tick_params(axis=\"y\",direction=\"in\", pad=-60)\n",
        "  ax.tick_params(axis=\"x\",direction=\"in\", pad=-30)\n",
        "  ax.set_xticks(np.arange(-.75, 1, .25))\n",
        "  ax.set_yticks(np.arange(-.75, 1, .25))\n",
        "  ax.set_xlim([-1, 1])\n",
        "  ax.set_ylim([-1, 1])\n",
        "\n",
        "  plt.close(fig)\n",
        "  return fig\n",
        "\n",
        "import base64\n",
        "import io\n",
        "\n",
        "def figure_to_base64(fig):\n",
        "  buf = io.BytesIO()\n",
        "  fig.savefig(buf, format='png', bbox_inches='tight', pad_inches=0);\n",
        "  image_base64 = base64.b64encode(buf.getvalue()).decode('utf-8').replace('\\n', '')\n",
        "  buf.close()\n",
        "  return image_base64\n",
        "\n",
        "\n",
        "\n",
        "import json\n",
        "from IPython.display import display, clear_output\n",
        "\n",
        "def invoke(pts, n, ker_name, metric_name):\n",
        "  data = np.array(pts).reshape((-1, 2))\n",
        "  X = data / 300.0 - 1.0\n",
        "  X[:, 1] *= -1.0\n",
        "  fit_distribution(X, float(n)/1000.0, ker_name, metric_name)\n",
        "  x_ = np.linspace(-1.0, +1.0, num=300)\n",
        "  y_ = np.linspace(-1.0, +1.0, num=300)\n",
        "  xx, yy = np.meshgrid(x_, y_)\n",
        "  x_vec = np.transpose(np.vstack([xx.ravel(), yy.ravel()]))\n",
        "  G  = evaluate_distribution(x_vec).reshape((x_.shape[0],y_.shape[0]))\n",
        "  figr = plot_clusters(x_, y_, G)\n",
        "  image_base64 = figure_to_base64(figr)\n",
        "\n",
        "  return IPython.display.JSON({'image': image_base64, \n",
        "                               'g_x': x_.tolist(), 'g_y': y_.tolist(), 'g_z': G.tolist(),\n",
        "                               's_x': X[:, 0].tolist(), 's_y': X[:, 1].tolist(), 's_z': [0]*len(X)})\n",
        "\n",
        "\n",
        "import IPython\n",
        "from google.colab import output\n",
        "\n",
        "main_str = '''\n",
        "  <script src=\"https://cdn.plot.ly/plotly-latest.min.js\"></script> \n",
        "  <script type=\"application/javascript\">\n",
        "  \n",
        "    var active_pt = null;\n",
        "    var all_pts = [];\n",
        "    var classAbtn = [650, 100];\n",
        "    var classBbtn = [650, 200];\n",
        "    var ptR = 10.0;\n",
        "    var params = null;\n",
        "    var debug_txt = \"\";\n",
        "    var bg_image = new Image();\n",
        "\n",
        "    function is_close(pt1, pt2) {\n",
        "      return   (pt1[0] - pt2[0])*(pt1[0] - pt2[0])\n",
        "            +  (pt1[1] - pt2[1])*(pt1[1] - pt2[1])\n",
        "            <= ptR*ptR;\n",
        "    }\n",
        "  \n",
        "    function circ(ctx, pos) {\n",
        "      ctx.beginPath();\n",
        "      ctx.arc(pos[0], pos[1], ptR, 0.0, 2.0 * Math.PI, 0);\n",
        "      ctx.fillStyle = 'rgba(255, 128, 0, 0.5)';\n",
        "      ctx.fill();\n",
        "    }\n",
        "    \n",
        "    \n",
        "    function draw() {\n",
        "      var canvas = document.getElementById('canvas');\n",
        "      if (canvas.getContext) {\n",
        "        var ctx = canvas.getContext('2d');\n",
        "        \n",
        "        ctx.clearRect(0, 0, canvas.width, canvas.height); // cleanup before start\n",
        "        ctx.drawImage(bg_image, 0, 0, 600, 600);\n",
        "        ctx.strokeRect(0, 0, 600, 600); // field\n",
        "        \n",
        "        ctx.font = '20px serif';\n",
        "        ctx.fillStyle = 'black';\n",
        "        ctx.fillText(debug_txt, 200, 200);\n",
        "        \n",
        "        if (active_pt) {\n",
        "          circ(ctx, [active_pt[0], active_pt[1]]);\n",
        "        }\n",
        "        all_pts.forEach(function (item, index) {\n",
        "          circ(ctx, [item[0], item[1]]);\n",
        "        });\n",
        "\n",
        "      }\n",
        "    }\n",
        "    \n",
        "    var timer\n",
        "\n",
        "    function get_state() {\n",
        "      var rates = document.getElementsByName('rate');\n",
        "      for(var i = 0; i < rates.length; i++)\n",
        "        if(rates[i].checked)\n",
        "          return rates[i].value;\n",
        "      return \"none\";\n",
        "    }\n",
        "\n",
        "    \n",
        "    function mdown_handle(evt) {\n",
        "      evt.stopPropagation();\n",
        "      x = evt.offsetX;\n",
        "      y = evt.offsetY;\n",
        "      state = get_state();\n",
        "      if (state == \"add\") {\n",
        "        if (x < 600)\n",
        "            all_pts.push([x, y]);\n",
        "        return;\n",
        "      }\n",
        "\n",
        "      idx = -1;\n",
        "      all_pts.forEach(function (item, index) {\n",
        "        if (is_close([x,y], [item[0], item[1]])) {\n",
        "          idx = index;\n",
        "        }\n",
        "      });\n",
        "      if (idx <= -1)\n",
        "          return;\n",
        "      if (state == \"move\") {\n",
        "        active_pt = all_pts[idx];\n",
        "        all_pts.splice(idx, 1);\n",
        "      }\n",
        "      if (state == \"del\")\n",
        "          all_pts.splice(idx, 1);\n",
        "    }\n",
        "    \n",
        "    function mmove_handle(evt) {\n",
        "      evt.stopPropagation();\n",
        "      if (get_state() != \"move\")\n",
        "          return;\n",
        "      x = evt.offsetX;\n",
        "      y = evt.offsetY;\n",
        "      if (active_pt) {\n",
        "        active_pt[0] = x;\n",
        "        active_pt[1] = y;\n",
        "      }\n",
        "    }\n",
        "    \n",
        "    function mup_handle(evt) {\n",
        "      evt.stopPropagation();\n",
        "      x = evt.offsetX;\n",
        "      y = evt.offsetY;\n",
        "      if (x >= 600) {\n",
        "        active_pt = null;\n",
        "      }\n",
        "      if (active_pt) {\n",
        "        all_pts.push(active_pt);\n",
        "        active_pt = null;\n",
        "      }\n",
        "    }\n",
        "    \n",
        "    function clear_field() {\n",
        "      active_pt = null;\n",
        "      all_pts = [];\n",
        "    }\n",
        "\n",
        "\n",
        "   function plot_3d(g_x, g_y, g_z)\n",
        "   {\n",
        "     cell_for_plot = document.getElementById('for_plotly_plot');\n",
        "     //Plotly.deleteTraces(cell_for_plot, [0, 1]);\n",
        "     var data = [{\n",
        "           x: g_x,\n",
        "           y: g_y,\n",
        "           z: g_z,\n",
        "           type: 'surface',\n",
        "           opacity: 0.9,\n",
        "           showscale: false,\n",
        "           colorscale: \"Viridis\"\n",
        "        }];\n",
        "  \n",
        "     var layout = {\n",
        "          title: 'pdf estimate',\n",
        "          autosize: false,\n",
        "          width: 600,\n",
        "          height: 600,\n",
        "          showlegend: false,\n",
        "          scene: {\n",
        "            camera: {\n",
        "              up: {x: 0, y: 1, z: 0},\n",
        "              center: {x: 0, y: 0, z: 0},\n",
        "              eye: {x: 0.0, y: -1.0, z: 1.4}\n",
        "            }\n",
        "          }\n",
        "        };\n",
        "     Plotly.newPlot(cell_for_plot, data, layout);\n",
        "   }\n",
        "\n",
        "   function plot_scatter(s_x, s_y, s_z)\n",
        "   {\n",
        "          \n",
        "     cell_for_plot = document.getElementById('for_plotly_plot');\n",
        "     var data = [{\n",
        "           x: s_x,\n",
        "           y: s_y,\n",
        "           z: s_z,\n",
        "           type: 'scatter3d',\n",
        "           mode: 'markers',\n",
        "           marker: {\n",
        "             size: 4,\n",
        "             colorscale: \"Viridis\",\n",
        "             line: {\n",
        "               width: 2,\n",
        "               color: 'rgba(0, 0, 0, 0.5)'\n",
        "             }\n",
        "           }\n",
        "        }];\n",
        "    Plotly.plot(cell_for_plot, data, {});\n",
        "   }\n",
        "\n",
        "\n",
        "    var cur_depth = 100;\n",
        "\n",
        "    async function calculate() {\n",
        "      if (!all_pts)\n",
        "        return;\n",
        "      var merged = [].concat.apply([], all_pts);\n",
        "      var e = document.getElementById(\"select_kernel\");\n",
        "      var ker_name = e.options[e.selectedIndex].value;\n",
        "      var e1 = document.getElementById(\"select_metric\");\n",
        "      var metric_name = e1.options[e1.selectedIndex].value;\n",
        "      const result = await google.colab.kernel.invokeFunction('notebook.InvSVM', [merged, cur_depth, ker_name, metric_name], {});\n",
        "      params = result.data['application/json'];\n",
        "            \n",
        "      bg_image.src = 'data:image/  png;base64,' + params.image;\n",
        "      cell_for_plot = document.getElementById('for_plotly_plot');\n",
        "      \n",
        "      plot_3d(params.g_x, params.g_y, params.g_z);\n",
        "      plot_scatter(params.s_x, params.s_y, params.s_z);\n",
        "      \n",
        "    }\n",
        "\n",
        "   function h_change(x) {\n",
        "    el = document.getElementById(\"slider_val\");\n",
        "    cur_depth = x;\n",
        "    el.innerHTML = x;\n",
        "  }\n",
        "\n",
        " </script>\n",
        "\n",
        "<div id=\"everything\" style=\"height:600px;\">\n",
        "<div id=\"for_plotly_plot\" style=\"position:absolute; top:0px; left:0px; height:600px; width:600px;\">\n",
        "</div>\n",
        "<div id=\"custom_controls\" style=\"position:absolute; top:0px; left:600px;\">\n",
        "  <canvas id=\"canvas\" width=\"800\" height=\"600\" \n",
        "    onmousedown=\"mdown_handle(event)\"\n",
        "    onmousemove=\"mmove_handle(event)\"\n",
        "    onmouseup=\"mup_handle(event)\"></canvas>\n",
        "  <div style=\"position:absolute; top:200px; left:625px;\">\n",
        "   <div style=\"border-style: solid;\">\n",
        "    <input type=\"radio\" id=\"r1\" name=\"rate\" value=\"add\" checked=\"checked\"> Add data point\n",
        "    <br>\n",
        "    <input type=\"radio\" id=\"r2\" name=\"rate\" value=\"move\"> Move data point\n",
        "    <br>\n",
        "    <input type=\"radio\" id=\"r3\" name=\"rate\" value=\"del\"> Delete data point\n",
        "    <br>\n",
        "    <button type=\"button\" onclick=\"clear_field();\">\n",
        "      Clear\n",
        "    </button>\n",
        "   </div>\n",
        "   <br><br>Bandwidth x 1000:<br>\n",
        "    <input type=\"range\" min=\"1\" max=\"200\" value=\"100\" oninput=\"h_change(this.value)\">\n",
        "    <br><div id=\"slider_val\">100</div>\n",
        "   <br>Kernel:<br>\n",
        "   <select id=\"select_kernel\">\n",
        "       <option value=\"gaussian\">gaussian</option>\n",
        "       <option value=\"tophat\">tophat</option>\n",
        "       <option value=\"epanechnikov\">epanechnikov</option>\n",
        "       <option value=\"exponential\">exponential</option>\n",
        "       <option value=\"linear\">linear</option>\n",
        "       <option value=\"cosine\">cosine</option>\n",
        "   </select>\n",
        "   <br>\n",
        "   Metric:\n",
        "   <br>\n",
        "   <select id=\"select_metric\">\n",
        "       <option value=\"euclidean\">euclidean</option>\n",
        "       <option value=\"manhattan\">manhattan</option>\n",
        "       <option value=\"infinity\">infinity</option>\n",
        "   </select>\n",
        "   <br><br>\n",
        "    <button type=\"button\" onclick=\"calculate();\">\n",
        "      KDE\n",
        "    </button>\n",
        "  </div>\n",
        "</div>\n",
        "<div>\n",
        "  \n",
        "<script>\n",
        "function init()\n",
        "{\n",
        "  timer = setInterval(draw, 10);\n",
        "}\n",
        "\n",
        "init();\n",
        "</script>\n",
        "'''\n",
        "\n",
        "display(IPython.display.HTML(main_str))\n",
        "output.register_callback('notebook.InvSVM', invoke)"
      ],
      "execution_count": 0,
      "outputs": [
        {
          "output_type": "display_data",
          "data": {
            "text/html": [
              "\n",
              "  <script src=\"https://cdn.plot.ly/plotly-latest.min.js\"></script> \n",
              "  <script type=\"application/javascript\">\n",
              "  \n",
              "    var active_pt = null;\n",
              "    var all_pts = [];\n",
              "    var classAbtn = [650, 100];\n",
              "    var classBbtn = [650, 200];\n",
              "    var ptR = 10.0;\n",
              "    var params = null;\n",
              "    var debug_txt = \"\";\n",
              "    var bg_image = new Image();\n",
              "\n",
              "    function is_close(pt1, pt2) {\n",
              "      return   (pt1[0] - pt2[0])*(pt1[0] - pt2[0])\n",
              "            +  (pt1[1] - pt2[1])*(pt1[1] - pt2[1])\n",
              "            <= ptR*ptR;\n",
              "    }\n",
              "  \n",
              "    function circ(ctx, pos) {\n",
              "      ctx.beginPath();\n",
              "      ctx.arc(pos[0], pos[1], ptR, 0.0, 2.0 * Math.PI, 0);\n",
              "      ctx.fillStyle = 'rgba(255, 128, 0, 0.5)';\n",
              "      ctx.fill();\n",
              "    }\n",
              "    \n",
              "    \n",
              "    function draw() {\n",
              "      var canvas = document.getElementById('canvas');\n",
              "      if (canvas.getContext) {\n",
              "        var ctx = canvas.getContext('2d');\n",
              "        \n",
              "        ctx.clearRect(0, 0, canvas.width, canvas.height); // cleanup before start\n",
              "        ctx.drawImage(bg_image, 0, 0, 600, 600);\n",
              "        ctx.strokeRect(0, 0, 600, 600); // field\n",
              "        \n",
              "        ctx.font = '20px serif';\n",
              "        ctx.fillStyle = 'black';\n",
              "        ctx.fillText(debug_txt, 200, 200);\n",
              "        \n",
              "        if (active_pt) {\n",
              "          circ(ctx, [active_pt[0], active_pt[1]]);\n",
              "        }\n",
              "        all_pts.forEach(function (item, index) {\n",
              "          circ(ctx, [item[0], item[1]]);\n",
              "        });\n",
              "\n",
              "      }\n",
              "    }\n",
              "    \n",
              "    var timer\n",
              "\n",
              "    function get_state() {\n",
              "      var rates = document.getElementsByName('rate');\n",
              "      for(var i = 0; i < rates.length; i++)\n",
              "        if(rates[i].checked)\n",
              "          return rates[i].value;\n",
              "      return \"none\";\n",
              "    }\n",
              "\n",
              "    \n",
              "    function mdown_handle(evt) {\n",
              "      evt.stopPropagation();\n",
              "      x = evt.offsetX;\n",
              "      y = evt.offsetY;\n",
              "      state = get_state();\n",
              "      if (state == \"add\") {\n",
              "        if (x < 600)\n",
              "            all_pts.push([x, y]);\n",
              "        return;\n",
              "      }\n",
              "\n",
              "      idx = -1;\n",
              "      all_pts.forEach(function (item, index) {\n",
              "        if (is_close([x,y], [item[0], item[1]])) {\n",
              "          idx = index;\n",
              "        }\n",
              "      });\n",
              "      if (idx <= -1)\n",
              "          return;\n",
              "      if (state == \"move\") {\n",
              "        active_pt = all_pts[idx];\n",
              "        all_pts.splice(idx, 1);\n",
              "      }\n",
              "      if (state == \"del\")\n",
              "          all_pts.splice(idx, 1);\n",
              "    }\n",
              "    \n",
              "    function mmove_handle(evt) {\n",
              "      evt.stopPropagation();\n",
              "      if (get_state() != \"move\")\n",
              "          return;\n",
              "      x = evt.offsetX;\n",
              "      y = evt.offsetY;\n",
              "      if (active_pt) {\n",
              "        active_pt[0] = x;\n",
              "        active_pt[1] = y;\n",
              "      }\n",
              "    }\n",
              "    \n",
              "    function mup_handle(evt) {\n",
              "      evt.stopPropagation();\n",
              "      x = evt.offsetX;\n",
              "      y = evt.offsetY;\n",
              "      if (x >= 600) {\n",
              "        active_pt = null;\n",
              "      }\n",
              "      if (active_pt) {\n",
              "        all_pts.push(active_pt);\n",
              "        active_pt = null;\n",
              "      }\n",
              "    }\n",
              "    \n",
              "    function clear_field() {\n",
              "      active_pt = null;\n",
              "      all_pts = [];\n",
              "    }\n",
              "\n",
              "\n",
              "   function plot_3d(g_x, g_y, g_z)\n",
              "   {\n",
              "     cell_for_plot = document.getElementById('for_plotly_plot');\n",
              "     //Plotly.deleteTraces(cell_for_plot, [0, 1]);\n",
              "     var data = [{\n",
              "           x: g_x,\n",
              "           y: g_y,\n",
              "           z: g_z,\n",
              "           type: 'surface',\n",
              "           opacity: 0.9,\n",
              "           showscale: false,\n",
              "           colorscale: \"Viridis\"\n",
              "        }];\n",
              "  \n",
              "     var layout = {\n",
              "          title: 'pdf estimate',\n",
              "          autosize: false,\n",
              "          width: 600,\n",
              "          height: 600,\n",
              "          showlegend: false,\n",
              "          scene: {\n",
              "            camera: {\n",
              "              up: {x: 0, y: 1, z: 0},\n",
              "              center: {x: 0, y: 0, z: 0},\n",
              "              eye: {x: 0.0, y: -1.0, z: 1.4}\n",
              "            }\n",
              "          }\n",
              "        };\n",
              "     Plotly.newPlot(cell_for_plot, data, layout);\n",
              "   }\n",
              "\n",
              "   function plot_scatter(s_x, s_y, s_z)\n",
              "   {\n",
              "          \n",
              "     cell_for_plot = document.getElementById('for_plotly_plot');\n",
              "     var data = [{\n",
              "           x: s_x,\n",
              "           y: s_y,\n",
              "           z: s_z,\n",
              "           type: 'scatter3d',\n",
              "           mode: 'markers',\n",
              "           marker: {\n",
              "             size: 4,\n",
              "             colorscale: \"Viridis\",\n",
              "             line: {\n",
              "               width: 2,\n",
              "               color: 'rgba(0, 0, 0, 0.5)'\n",
              "             }\n",
              "           }\n",
              "        }];\n",
              "    Plotly.plot(cell_for_plot, data, {});\n",
              "   }\n",
              "\n",
              "\n",
              "    var cur_depth = 100;\n",
              "\n",
              "    async function calculate() {\n",
              "      if (!all_pts)\n",
              "        return;\n",
              "      var merged = [].concat.apply([], all_pts);\n",
              "      var e = document.getElementById(\"select_kernel\");\n",
              "      var ker_name = e.options[e.selectedIndex].value;\n",
              "      var e1 = document.getElementById(\"select_metric\");\n",
              "      var metric_name = e1.options[e1.selectedIndex].value;\n",
              "      const result = await google.colab.kernel.invokeFunction('notebook.InvSVM', [merged, cur_depth, ker_name, metric_name], {});\n",
              "      params = result.data['application/json'];\n",
              "            \n",
              "      bg_image.src = 'data:image/  png;base64,' + params.image;\n",
              "      cell_for_plot = document.getElementById('for_plotly_plot');\n",
              "      \n",
              "      plot_3d(params.g_x, params.g_y, params.g_z);\n",
              "      plot_scatter(params.s_x, params.s_y, params.s_z);\n",
              "      \n",
              "    }\n",
              "\n",
              "   function h_change(x) {\n",
              "    el = document.getElementById(\"slider_val\");\n",
              "    cur_depth = x;\n",
              "    el.innerHTML = x;\n",
              "  }\n",
              "\n",
              " </script>\n",
              "\n",
              "<div id=\"everything\" style=\"height:600px;\">\n",
              "<div id=\"for_plotly_plot\" style=\"position:absolute; top:0px; left:0px; height:600px; width:600px;\">\n",
              "</div>\n",
              "<div id=\"custom_controls\" style=\"position:absolute; top:0px; left:600px;\">\n",
              "  <canvas id=\"canvas\" width=\"800\" height=\"600\" \n",
              "    onmousedown=\"mdown_handle(event)\"\n",
              "    onmousemove=\"mmove_handle(event)\"\n",
              "    onmouseup=\"mup_handle(event)\"></canvas>\n",
              "  <div style=\"position:absolute; top:200px; left:625px;\">\n",
              "   <div style=\"border-style: solid;\">\n",
              "    <input type=\"radio\" id=\"r1\" name=\"rate\" value=\"add\" checked=\"checked\"> Add data point\n",
              "    <br>\n",
              "    <input type=\"radio\" id=\"r2\" name=\"rate\" value=\"move\"> Move data point\n",
              "    <br>\n",
              "    <input type=\"radio\" id=\"r3\" name=\"rate\" value=\"del\"> Delete data point\n",
              "    <br>\n",
              "    <button type=\"button\" onclick=\"clear_field();\">\n",
              "      Clear\n",
              "    </button>\n",
              "   </div>\n",
              "   <br><br>Bandwidth x 1000:<br>\n",
              "    <input type=\"range\" min=\"1\" max=\"200\" value=\"100\" oninput=\"h_change(this.value)\">\n",
              "    <br><div id=\"slider_val\">100</div>\n",
              "   <br>Kernel:<br>\n",
              "   <select id=\"select_kernel\">\n",
              "       <option value=\"gaussian\">gaussian</option>\n",
              "       <option value=\"tophat\">tophat</option>\n",
              "       <option value=\"epanechnikov\">epanechnikov</option>\n",
              "       <option value=\"exponential\">exponential</option>\n",
              "       <option value=\"linear\">linear</option>\n",
              "       <option value=\"cosine\">cosine</option>\n",
              "   </select>\n",
              "   <br>\n",
              "   Metric:\n",
              "   <br>\n",
              "   <select id=\"select_metric\">\n",
              "       <option value=\"euclidean\">euclidean</option>\n",
              "       <option value=\"manhattan\">manhattan</option>\n",
              "       <option value=\"infinity\">infinity</option>\n",
              "   </select>\n",
              "   <br><br>\n",
              "    <button type=\"button\" onclick=\"calculate();\">\n",
              "      KDE\n",
              "    </button>\n",
              "  </div>\n",
              "</div>\n",
              "<div>\n",
              "  \n",
              "<script>\n",
              "function init()\n",
              "{\n",
              "  timer = setInterval(draw, 10);\n",
              "}\n",
              "\n",
              "init();\n",
              "</script>\n"
            ],
            "text/plain": [
              "<IPython.core.display.HTML object>"
            ]
          },
          "metadata": {
            "tags": []
          }
        }
      ]
    },
    {
      "cell_type": "markdown",
      "metadata": {
        "id": "_FQr-h66b1Rc",
        "colab_type": "text"
      },
      "source": [
        "# KDE as Mixture Model"
      ]
    },
    {
      "cell_type": "markdown",
      "metadata": {
        "id": "SLNAG4SBb6l2",
        "colab_type": "text"
      },
      "source": [
        "We see that KDE reminds MM taken to the extreme: the number of components we throw into the mix equals the number of points.\n",
        "\n",
        "<br>\n",
        "\n",
        "<img src=\"https://raw.githubusercontent.com/fbeilstein/machine_learning/master/lecture_15_kernel_density_estimation/kde_as_gaussian_mixture.png\" width=\"550px\" />\n",
        "\n",
        "<br>\n",
        "\n",
        "If the number of point is huge the \"shot noise\" from the individual points becomes negligible and the overall underlying distibution hopefully emerges."
      ]
    },
    {
      "cell_type": "markdown",
      "metadata": {
        "id": "g0l9p82WsLpQ",
        "colab_type": "text"
      },
      "source": [
        "#Blur analogy"
      ]
    },
    {
      "cell_type": "markdown",
      "metadata": {
        "id": "NluhuiqvsOgO",
        "colab_type": "text"
      },
      "source": [
        "We have seen that histograms may be misleading. Also they are \"grainy\" as they discretize (sample) continuous data. Pdf estimate could be kept smooth by using gaussian KDE.\n",
        "\n",
        "Idea similar to gaussian KDE is involved in Gaussian smoothing of images.\n",
        "In image processing, a Gaussian blur (also known as Gaussian smoothing) is the result of blurring an image by a Gaussian function. It is a widely used effect in graphics software, typically to reduce image noise and reduce detail. A Gaussian blur effect is typically generated by convolving an image with a kernel of Gaussian values. \n",
        "\n",
        "<br>\n",
        "\n",
        "<img src=\"https://raw.githubusercontent.com/fbeilstein/machine_learning/master/lecture_15_kernel_density_estimation/gaussian_blur.png\" width=\"550px\" />\n",
        "\n",
        "<br>\n",
        "\n",
        "\n",
        "\n",
        "Let's first sample image (keeping $1$ pixel out of $10$ along each dimension). What we get is an analog of a histogram. If we perform a Gaussian blur afterwards we regain some of the smootheness.\n",
        "\n",
        "<br>\n",
        "\n",
        "<img src=\"https://raw.githubusercontent.com/fbeilstein/machine_learning/master/lecture_15_kernel_density_estimation/lena_pixelized.png\" width=\"550px\" />\n",
        "\n",
        "<br>\n"
      ]
    },
    {
      "cell_type": "markdown",
      "metadata": {
        "id": "Vf2eYyI5-J_E",
        "colab_type": "text"
      },
      "source": [
        "# KDE as convolution"
      ]
    },
    {
      "cell_type": "markdown",
      "metadata": {
        "id": "hzyXlJXk-OhM",
        "colab_type": "text"
      },
      "source": [
        "KDE can be seen as the **convolution** of the function representing the density of the samples (sum of delta-functions) with the kernel $K$.\n",
        "\n",
        "In the continuous case\n",
        "\n",
        "$$\n",
        "(f*g)(x)=\\int f(t)\\, g(x-t)dt,\n",
        "$$\n",
        "\n",
        "in the discrete case\n",
        "\n",
        "$$\n",
        "(f*g)[n]=\\sum f[m]\\, g[n-m]=\\sum f[n-m]\\, g[m].\n",
        "$$\n",
        "\n",
        "The convolution operation has a widely used connection with the Fourier transform\n",
        "\n",
        "$$\n",
        "\\mathcal{F}(f*g) =\\mathcal{F}(f)\\cdot \\mathcal{F}(g),\n",
        "$$\n",
        "\n",
        "$*$ denotes convolution operation, and $\\mathcal{F}(f)$ is the fourier transform of $f$.\n",
        "Also note that\n",
        "\n",
        "$$\n",
        "\\mathcal{F}(\\delta_a)(\\omega)=e^{-i 2\\pi \\omega a}.\n",
        "$$\n",
        "\n",
        "\n",
        "\n",
        "Algorithmically fourier transform could  be calculated via FFT (**F**ast **F**ourier **T**ransform) procedure which takes $\\mathcal{O}(N\\log{N})$ operations. Thus it should not surprize you that some implementations of KDE rest on the FFT."
      ]
    },
    {
      "cell_type": "markdown",
      "metadata": {
        "id": "KiZoyJ00LTKH",
        "colab_type": "text"
      },
      "source": [
        "#Algorithmic nuances"
      ]
    },
    {
      "cell_type": "markdown",
      "metadata": {
        "id": "3VerGR5gIKqo",
        "colab_type": "text"
      },
      "source": [
        "There are several options available for computing kernel density estimates in Python. The question of the optimal KDE implementation for any situation, however, is not entirely straightforward, and depends a lot on what your particular goals are. Here are the four KDE implementations\n",
        "\n",
        "* In `SciPy`: `gaussian_kde`;\n",
        "* In `Statsmodels`: `KDEUnivariate` and `KDEMultivariate`;\n",
        "* In `Scikit-learn`: `KernelDensity`;\n",
        "* In `KDEpy`: `NaiveKDE`, `TreeKDE` and `FFTKDE`. \n",
        "\n",
        "Algorithmically KDE could be implemented via FFT (**F**ast **F**ourier **T**ransform) or k-d tree datastructure. Performance of the algorithm depends on \n",
        "* the number of points;\n",
        "* kernel;\n",
        "* bandwidth;\n",
        "* tolerance you aim to achieve. \n",
        "\n",
        "Please refer to this [overview article](https://jakevdp.github.io/blog/2013/12/01/kernel-density-estimation/) anf this [comparison article](https://kdepy.readthedocs.io/en/stable/comparison.html) for details.\n",
        "\n",
        "Generally `KernelDensity` of `Scikit-learn` is usually considered a good overall option that I use in this lecture. "
      ]
    },
    {
      "cell_type": "markdown",
      "metadata": {
        "id": "Im1uI0JtK-WE",
        "colab_type": "text"
      },
      "source": [
        "#Example: KDE on a Sphere"
      ]
    },
    {
      "cell_type": "markdown",
      "metadata": {
        "id": "T9vRb2sc9XHB",
        "colab_type": "text"
      },
      "source": [
        "Perhaps the most common use of KDE is in graphically representing distributions of points. For example, in the `Seaborn visualization library` KDE is built in and automatically used to help visualize points in one and two dimensions.\n",
        "Here we will look at a slightly more sophisticated use of KDE for visualization of distributions. We will make use of some geographic data that can be loaded with `ScikitLearn`: the geographic distributions of recorded observations of two South American mammals, *Bradypus variegatus* (the brown-throated sloth) and *Microryzomys minutus* (the forest small rice rat).\n",
        "\n",
        "<br>\n",
        "\n",
        "<img src=\"https://raw.githubusercontent.com/fbeilstein/machine_learning/master/lecture_15_kernel_density_estimation/bradypus_and_microryzomus.png\" width=\"650px\" />\n",
        "\n",
        "<br>\n",
        "\n",
        "\n"
      ]
    },
    {
      "cell_type": "code",
      "metadata": {
        "id": "-k347bdQU5zu",
        "colab_type": "code",
        "outputId": "3126c0c2-7834-4731-8005-32deece4a8fa",
        "colab": {
          "base_uri": "https://localhost:8080/",
          "height": 34
        }
      },
      "source": [
        "import numpy as np\n",
        "\n",
        "!sudo apt-get install libgeos-dev > /dev/null\n",
        "!sudo pip3 install -U git+https://github.com/matplotlib/basemap.git > /dev/null\n",
        "from sklearn.datasets import fetch_species_distributions\n",
        "data = fetch_species_distributions();\n",
        "# Get matrices/arrays of species IDs and locations\n",
        "latlon = np.vstack([data.train['dd lat'], data.train['dd long']]).T\n",
        "species = np.array([d.decode('ascii').startswith('micro') for d in data.train['species']], dtype='int')"
      ],
      "execution_count": 0,
      "outputs": [
        {
          "output_type": "stream",
          "text": [
            "  Running command git clone -q https://github.com/matplotlib/basemap.git /tmp/pip-req-build-dy6g376t\n"
          ],
          "name": "stdout"
        }
      ]
    },
    {
      "cell_type": "code",
      "metadata": {
        "id": "ht6ErJtEUd7W",
        "colab_type": "code",
        "outputId": "cacf4e45-2b21-4498-e72f-4369b0b18145",
        "colab": {
          "base_uri": "https://localhost:8080/",
          "height": 260
        }
      },
      "source": [
        "from mpl_toolkits.basemap import Basemap\n",
        "from sklearn.datasets.species_distributions import construct_grids\n",
        "xgrid, ygrid = construct_grids(data)\n",
        "\n",
        "# plot coastlines with Basemap\n",
        "m = Basemap(projection='cyl', resolution='c', llcrnrlat=ygrid.min(), urcrnrlat=ygrid.max(), llcrnrlon=xgrid.min(), urcrnrlon=xgrid.max())\n",
        "m.drawmapboundary(fill_color='#DDEEFF')\n",
        "m.fillcontinents(color='#FFEEDD')\n",
        "m.drawcoastlines(color='gray', zorder=2)\n",
        "m.drawcountries(color='gray', zorder=2)\n",
        "\n",
        "# plot locations\n",
        "m.scatter(latlon[:, 1], latlon[:, 0], zorder=3, c=species, cmap='rainbow', latlon=True);"
      ],
      "execution_count": 0,
      "outputs": [
        {
          "output_type": "display_data",
          "data": {
            "image/png": "[encoded data removed]",
            "text/plain": [
              "<Figure size 432x288 with 1 Axes>"
            ]
          },
          "metadata": {
            "tags": []
          }
        }
      ]
    },
    {
      "cell_type": "markdown",
      "metadata": {
        "id": "FtUmpFHM8iyo",
        "colab_type": "text"
      },
      "source": [
        "Unfortunately, this doesn’t give a very good idea of the density of the species, because points in the species range may overlap one another. You may not realize it by looking at this plot, but there are over $1600$ points shown here!\n",
        "Let’s use kernel density estimation to show this distribution in a more interpretable way: as a smooth indication of density on the map. Because the coordinate system here lies on a spherical surface rather than a flat plane, we will use the haversine distance metric, which will correctly represent distances on a curved surface.\n",
        "\n",
        "**Note**:\n",
        "The *haversine formula* determines the great-circle distance between two points on a sphere given their longitudes and latitudes. Important in navigation, it is a special case of a more general formula in spherical trigonometry, the law of haversines, that relates the sides and angles of spherical triangles.\n",
        "\n",
        "$$\n",
        "d=2r\\arcsin{\\sqrt{\\sin^2\\left(\\frac{\\phi_2-\\phi_1}{2}\\right)+\\cos{\\phi_1}\\cdot \\cos{\\phi_2}\\cdot \\sin^2\\left(\\frac{\\lambda_2-\\lambda_1}{2} \\right)}},\n",
        "$$\n",
        "\n",
        "where \n",
        "* $d$ is the distance between the two points along a great circle of the sphere;\n",
        "* $\\phi$ -- latitude of point;\n",
        "* $\\lambda$ -- longitude of point.\n",
        "\n",
        "The term haversine  is due to haversine $\\text{hav}$ function that was used instead of $\\sin$ in the formula.\n",
        "\n",
        "$$\n",
        "\\text{hav}(x)=\\sin^2\\left(\\frac{x}{2}\\right).\n",
        "$$\n",
        "\n",
        "So if we rewrite the formula above using haversine it will read\n",
        "\n",
        "$$\n",
        "\\text{hav}(\\Theta)=\\text{hav}(\\phi_2-\\phi_1)+\\cos{\\phi_1} \\cdot \\cos{\\phi_2} \\cdot \\text{hav}(\\lambda_2-\\lambda_1),\n",
        "$$\n",
        "\n",
        "with $\\Theta=\\frac{d}{r}$ is central angle between any two points on a sphere."
      ]
    },
    {
      "cell_type": "code",
      "metadata": {
        "id": "FmwkQlE4XwLE",
        "colab_type": "code",
        "outputId": "689c9e60-8b12-4dcc-9b03-798d4c58c39c",
        "colab": {
          "base_uri": "https://localhost:8080/",
          "height": 270
        }
      },
      "source": [
        "# Set up the data grid for the contour plot\n",
        "X, Y = np.meshgrid(xgrid[::5], ygrid[::5][::-1])\n",
        "land_reference = data.coverages[6][::5, ::5]\n",
        "land_mask = (land_reference > -9999).ravel()\n",
        "xy = np.vstack([Y.ravel(), X.ravel()]).T\n",
        "xy = np.radians(xy[land_mask])\n",
        "\n",
        "# Create two side-by-side plots\n",
        "fig, ax = plt.subplots(1, 2)\n",
        "fig.subplots_adjust(left=0.05, right=0.95, wspace=0.05)\n",
        "species_names = ['Bradypus Variegatus', 'Microryzomys Minutus']\n",
        "cmaps = ['Purples', 'Reds']\n",
        "\n",
        "for i, axi in enumerate(ax):\n",
        "  axi.set_title(species_names[i])\n",
        "\n",
        "  # plot coastlines with Basemap\n",
        "  m = Basemap(projection='cyl', llcrnrlat=Y.min(), urcrnrlat=Y.max(), llcrnrlon=X.min(), urcrnrlon=X.max(), resolution='c', ax=axi)\n",
        "  m.drawmapboundary(fill_color='#DDEEFF')\n",
        "  m.drawcoastlines()\n",
        "  m.drawcountries()\n",
        "  \n",
        "  # construct a spherical kernel density estimate of the distribution\n",
        "  kde = KernelDensity(bandwidth=0.03, metric='haversine')\n",
        "  kde.fit(np.radians(latlon[species == i]))\n",
        "\n",
        "  # evaluate only on the land: -9999 indicates ocean\n",
        "  Z = np.full(land_mask.shape[0], -9999.0)\n",
        "  Z[land_mask] = np.exp(kde.score_samples(xy))\n",
        "  Z = Z.reshape(X.shape)\n",
        "  \n",
        "  # plot contours of the density\n",
        "  levels = np.linspace(0, Z.max(), 25)\n",
        "  axi.contourf(X, Y, Z, levels=levels, cmap=cmaps[i])  "
      ],
      "execution_count": 0,
      "outputs": [
        {
          "output_type": "display_data",
          "data": {
            "image/png": "[encoded data removed]",
            "text/plain": [
              "<Figure size 432x288 with 2 Axes>"
            ]
          },
          "metadata": {
            "tags": []
          }
        }
      ]
    },
    {
      "cell_type": "markdown",
      "metadata": {
        "id": "6ZtWndy68RsU",
        "colab_type": "text"
      },
      "source": [
        "Now we have a much clearer picture of the geographical distribution of observation of two species.\n",
        "\n"
      ]
    },
    {
      "cell_type": "markdown",
      "metadata": {
        "id": "dMIOJrA8-qJm",
        "colab_type": "text"
      },
      "source": [
        "#Example: Fisher irisis"
      ]
    },
    {
      "cell_type": "markdown",
      "metadata": {
        "id": "oYoPWo8B-J-a",
        "colab_type": "text"
      },
      "source": [
        "Here is another example of nice visualization with the help of the `kdeplot` (convinient plot function with the built in kde algorithm in it) from `seaborn` package.\n",
        "\n",
        "<br>\n",
        "\n",
        "<img src=\"https://raw.githubusercontent.com/fbeilstein/machine_learning/master/lecture_15_kernel_density_estimation/iris.png\" width=\"650px\" />\n",
        "\n",
        "<br>\n"
      ]
    },
    {
      "cell_type": "code",
      "metadata": {
        "id": "WjK03ydaP665",
        "colab_type": "code",
        "outputId": "fc36b3b0-23b5-426f-de0c-9d0ddfcc7a01",
        "cellView": "form",
        "colab": {
          "base_uri": "https://localhost:8080/",
          "height": 502
        }
      },
      "source": [
        "#@title Irisis classes visualization with KDE\n",
        "import seaborn as sns\n",
        "import matplotlib.pyplot as plt\n",
        "\n",
        "sns.set(style=\"darkgrid\")\n",
        "iris = sns.load_dataset(\"iris\")\n",
        "\n",
        "setosa = iris.query(\"species == 'setosa'\")\n",
        "virginica = iris.query(\"species == 'virginica'\")\n",
        "\n",
        "f, ax = plt.subplots(figsize=(8, 8))\n",
        "ax.set_aspect(\"equal\")\n",
        "\n",
        "ax = sns.kdeplot(setosa.sepal_width, setosa.sepal_length,\n",
        "                 cmap=\"Reds\", shade=True, shade_lowest=False)\n",
        "ax = sns.kdeplot(virginica.sepal_width, virginica.sepal_length,\n",
        "                 cmap=\"Blues\", shade=True, shade_lowest=False)\n",
        "\n",
        "red = sns.color_palette(\"Reds\")[-2]\n",
        "blue = sns.color_palette(\"Blues\")[-2]\n",
        "ax.text(2.5, 8.2, \"virginica\", size=16, color=blue);\n",
        "ax.text(3.8, 4.5, \"setosa\", size=16, color=red);"
      ],
      "execution_count": 0,
      "outputs": [
        {
          "output_type": "display_data",
          "data": {
            "image/png": "[encoded data removed]",
            "text/plain": [
              "<Figure size 576x576 with 1 Axes>"
            ]
          },
          "metadata": {
            "tags": []
          }
        }
      ]
    },
    {
      "cell_type": "markdown",
      "metadata": {
        "id": "7k45DaaLYONo",
        "colab_type": "text"
      },
      "source": [
        "#Example: Not-So-Naive Bayes"
      ]
    },
    {
      "cell_type": "markdown",
      "metadata": {
        "id": "BJxcMR1ofrXE",
        "colab_type": "text"
      },
      "source": [
        "For naive Bayes, the generative model is a simple axis-aligned Gaussian.\n",
        "With a density estimation algorithm like KDE, we can remove the “naive” element and perform the same classification with a more sophisticated generative model for each class.\n",
        "It’s still Bayesian classification, but it’s no longer naive."
      ]
    },
    {
      "cell_type": "markdown",
      "metadata": {
        "id": "tQKL5Dj5f6R2",
        "colab_type": "text"
      },
      "source": [
        "1. Split the training data by label.\n",
        "2. For each set, fit a KDE to obtain a generative model of the data.\n",
        "This allows you for any observation x and label y to compute a likelihood $P(x|y)$.\n",
        "3. From the number of examples of each class in the training set, compute the class prior, $P(y)$ .\n",
        "4. For an unknown point x , the posterior probability for each class is $P(y|x)= P(x|y)P(y)$. The class that maximizes this posterior is the label assigned to the point."
      ]
    },
    {
      "cell_type": "markdown",
      "metadata": {
        "id": "1cepwUXc1AWu",
        "colab_type": "text"
      },
      "source": [
        "Let’s try this custom estimator on a problem we have seen before: the classification of handwritten digits. Here we will load the digits, and compute the cross-validation score for a range of candidate bandwidths using the `GridSearchCV` meta-estimator."
      ]
    },
    {
      "cell_type": "code",
      "metadata": {
        "id": "GQ9wdpBgYQIk",
        "colab_type": "code",
        "colab": {}
      },
      "source": [
        "from sklearn.base import BaseEstimator, ClassifierMixin\n",
        "from sklearn.neighbors import KernelDensity\n",
        "\n",
        "# BaseEstimator contains the logic necessary to clone/copy an estimator for use in a crossvalidation procedure\n",
        "# ClassifierMixin defines a default score() method used by such routines\n",
        "class KDEClassifier(BaseEstimator, ClassifierMixin):\n",
        "  \"\"\"Bayesian generative classification based on KDE\n",
        "  Parameters\n",
        "  ----------\n",
        "  bandwidth : float\n",
        "  the kernel bandwidth within each class\n",
        "  kernel : str\n",
        "  the kernel name, passed to KernelDensity\n",
        "  \"\"\"\n",
        "  def __init__(self, bandwidth=1.0, kernel='gaussian'):\n",
        "    self.bandwidth = bandwidth\n",
        "    self.kernel = kernel\n",
        "  \n",
        "  # find the unique classes in the training data, \n",
        "  # train a KernelDensity model for each class, \n",
        "  # compute the class priors based on the number of input samples.\n",
        "  def fit(self, X, y):\n",
        "    self.classes_ = np.sort(np.unique(y))\n",
        "    training_sets = [X[y == yi] for yi in self.classes_]\n",
        "    self.models_ = [KernelDensity(bandwidth=self.bandwidth, kernel=self.kernel).fit(Xi) for Xi in training_sets]\n",
        "    self.logpriors_ = [np.log(Xi.shape[0] / X.shape[0]) for Xi in training_sets]\n",
        "    return self # for chaining\n",
        "  \n",
        "  # predicting labels on new data\n",
        "  def predict_proba(self, X):\n",
        "    logprobs = np.array([model.score_samples(X) for model in self.models_]).T\n",
        "    result = np.exp(logprobs + self.logpriors_)\n",
        "    return result / result.sum(1, keepdims=True)\n",
        "  \n",
        "  def predict(self, X):\n",
        "    return self.classes_[np.argmax(self.predict_proba(X), 1)]"
      ],
      "execution_count": 0,
      "outputs": []
    },
    {
      "cell_type": "markdown",
      "metadata": {
        "id": "XrghJcTc0Vr1",
        "colab_type": "text"
      },
      "source": [
        "We now use this class."
      ]
    },
    {
      "cell_type": "code",
      "metadata": {
        "id": "gsqvNFAHm1Rn",
        "colab_type": "code",
        "colab": {}
      },
      "source": [
        "from sklearn.datasets import load_digits\n",
        "from sklearn.model_selection import GridSearchCV\n",
        "\n",
        "digits = load_digits()\n",
        "bandwidths = 10 ** np.linspace(0, 2, 100)\n",
        "grid = GridSearchCV(KDEClassifier(), {'bandwidth': bandwidths}, cv=3)\n",
        "grid.fit(digits.data, digits.target)\n",
        "scores = grid.cv_results_['mean_test_score']"
      ],
      "execution_count": 0,
      "outputs": []
    },
    {
      "cell_type": "code",
      "metadata": {
        "id": "Gtbz5bE0sL4I",
        "colab_type": "code",
        "outputId": "b535c305-2b20-45b7-fa16-a3fd50664e38",
        "colab": {
          "base_uri": "https://localhost:8080/",
          "height": 341
        }
      },
      "source": [
        "plt.semilogx(bandwidths, scores)\n",
        "plt.xlabel('bandwidth')\n",
        "plt.ylabel('accuracy')\n",
        "plt.title('KDE Model Performance')\n",
        "print(grid.best_params_)\n",
        "print('accuracy =', grid.best_score_)"
      ],
      "execution_count": 0,
      "outputs": [
        {
          "output_type": "stream",
          "text": [
            "{'bandwidth': 7.054802310718643}\n",
            "accuracy = 0.9666110183639399\n"
          ],
          "name": "stdout"
        },
        {
          "output_type": "display_data",
          "data": {
            "image/png": "[encoded data removed]",
            "text/plain": [
              "<Figure size 432x288 with 1 Axes>"
            ]
          },
          "metadata": {
            "tags": []
          }
        }
      ]
    },
    {
      "cell_type": "markdown",
      "metadata": {
        "id": "9RlumF2e1K3B",
        "colab_type": "text"
      },
      "source": [
        "We see that this not-so-naive Bayesian classifier reaches a cross-validation accuracy of just over $96\\%$; this is compared to around $80\\%$ for the naive Bayesian classification:\n"
      ]
    },
    {
      "cell_type": "code",
      "metadata": {
        "id": "dHkCW0Cks2EB",
        "colab_type": "code",
        "outputId": "c92124bb-f78f-4a1f-df84-51e82c0beb1e",
        "colab": {
          "base_uri": "https://localhost:8080/",
          "height": 34
        }
      },
      "source": [
        "from sklearn.naive_bayes import GaussianNB\n",
        "from sklearn.model_selection import cross_val_score\n",
        "cross_val_score(GaussianNB(), digits.data, digits.target, cv=3).mean()"
      ],
      "execution_count": 0,
      "outputs": [
        {
          "output_type": "execute_result",
          "data": {
            "text/plain": [
              "0.8186003803550138"
            ]
          },
          "metadata": {
            "tags": []
          },
          "execution_count": 22
        }
      ]
    },
    {
      "cell_type": "markdown",
      "metadata": {
        "id": "2khCd84S1XdG",
        "colab_type": "text"
      },
      "source": [
        "One benefit of such a generative classifier is interpretability of results: for each unknown sample, we not only get a probabilistic classification, but a full model of the distribution of points we are comparing it to! If desired, this offers an intuitive window into the reasons for a particular classification that algorithms like SVMs and random forests tend to obscure.\n",
        "If you would like to take this further, there are some improvements that could be made to our KDE classifier model:\n",
        "* We could allow the bandwidth in each class to vary independently.\n",
        "*  We could optimize these bandwidths not based on their prediction score, but on the likelihood of the training data under the generative model within each class (i.e., use the scores from KernelDensity itself rather than the global prediction accuracy)."
      ]
    },
    {
      "cell_type": "markdown",
      "metadata": {
        "id": "PaSTQrhxUuyh",
        "colab_type": "text"
      },
      "source": [
        "#Conclusion"
      ]
    },
    {
      "cell_type": "markdown",
      "metadata": {
        "id": "BV17Y01AUwoo",
        "colab_type": "text"
      },
      "source": [
        "KDE is a non-parametric estimation technique that could be used for pdf estimation, data smoothing and interpolation. Basically it's a method to get continuous distribution given a set of discrete data points.\n",
        "\n",
        "<br>\n",
        "\n",
        "<img src=\"https://raw.githubusercontent.com/fbeilstein/machine_learning/master/lecture_15_kernel_density_estimation/globe.jpg\" width=\"450px\" />\n",
        "\n",
        "<br>\n",
        "\n"
      ]
    }
  ]
}