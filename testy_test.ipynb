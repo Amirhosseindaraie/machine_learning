{
  "nbformat": 4,
  "nbformat_minor": 0,
  "metadata": {
    "colab": {
      "name": "testy_test.ipynb",
      "version": "0.3.2",
      "provenance": [],
      "toc_visible": true
    },
    "kernelspec": {
      "name": "python3",
      "display_name": "Python 3"
    }
  },
  "cells": [
    {
      "cell_type": "markdown",
      "metadata": {
        "id": "NGTc-3m3vVfr",
        "colab_type": "text"
      },
      "source": [
        "##Functions"
      ]
    },
    {
      "cell_type": "markdown",
      "metadata": {
        "id": "JTT1y26hvkHu",
        "colab_type": "text"
      },
      "source": [
        "**Why use functions?**\n",
        "   * Code reuse\n",
        "   * Procedural decomposition\n",
        "   * Alternative to cut-and-paste: redundancy"
      ]
    },
    {
      "cell_type": "markdown",
      "metadata": {
        "id": "mR-U4ZJQwV0L",
        "colab_type": "text"
      },
      "source": [
        "**Function topics**\n",
        "\n",
        "   * The basics\n",
        "   * Scope rules\n",
        "   * Argument matching modes\n",
        "   * Odds and ends\n",
        "   * Generator expressions and functions\n",
        "   * Design concepts\n",
        "   * Functions are objects\n",
        "   * Function gotchas"
      ]
    },
    {
      "cell_type": "markdown",
      "metadata": {
        "id": "DWiT0nEe2C7Y",
        "colab_type": "text"
      },
      "source": [
        "###Function basics"
      ]
    },
    {
      "cell_type": "markdown",
      "metadata": {
        "id": "bi6AGp4I2Jp4",
        "colab_type": "text"
      },
      "source": [
        "   * def is an executable statement; usually run during import\n",
        "   * def creates a function object and assigns to a name\n",
        "   * return sends a result object back to the caller\n",
        "   * Arguments are passed by object reference (assignment)\n",
        "   * Arguments, return types, and variables are not declared\n",
        "   * Polymorphism: code to object interfaces, not datatypes"
      ]
    },
    {
      "cell_type": "markdown",
      "metadata": {
        "id": "0CuOR9JD2OTA",
        "colab_type": "text"
      },
      "source": [
        "**General form**\n",
        "\n",
        "```python\n",
        "def <name>(arg1, arg2,… argN):\n",
        "  <statements>\n",
        "  return <value>\n",
        "```"
      ]
    },
    {
      "cell_type": "markdown",
      "metadata": {
        "id": "_74bCwhRvVf0",
        "colab_type": "text"
      },
      "source": [
        "**Definition**"
      ]
    },
    {
      "cell_type": "code",
      "metadata": {
        "id": "wBxCylXUvVf2",
        "colab_type": "code",
        "colab": {}
      },
      "source": [
        "def times(x, y):      # create and assign function\n",
        "  return x * y      # body executed when called"
      ],
      "execution_count": 0,
      "outputs": []
    },
    {
      "cell_type": "markdown",
      "metadata": {
        "id": "wP8rB_qUvVf5",
        "colab_type": "text"
      },
      "source": [
        "**Calls**"
      ]
    },
    {
      "cell_type": "code",
      "metadata": {
        "id": "R_Y5m2U8vVf5",
        "colab_type": "code",
        "outputId": "2292f00e-6d54-42c8-bea7-5b58613f016e",
        "colab": {
          "base_uri": "https://localhost:8080/",
          "height": 34
        }
      },
      "source": [
        "times(2, 4)           # arguments in parenthesis"
      ],
      "execution_count": 0,
      "outputs": [
        {
          "output_type": "execute_result",
          "data": {
            "text/plain": [
              "8"
            ]
          },
          "metadata": {
            "tags": []
          },
          "execution_count": 2
        }
      ]
    },
    {
      "cell_type": "code",
      "metadata": {
        "id": "W_iQtsh8vVf8",
        "colab_type": "code",
        "outputId": "e98a10fe-9e22-4d4e-a2ba-678463c87763",
        "colab": {
          "base_uri": "https://localhost:8080/",
          "height": 34
        }
      },
      "source": [
        "times('Hi', 4)        # functions are 'typeless'"
      ],
      "execution_count": 0,
      "outputs": [
        {
          "output_type": "execute_result",
          "data": {
            "text/plain": [
              "'HiHiHiHi'"
            ]
          },
          "metadata": {
            "tags": []
          },
          "execution_count": 4
        }
      ]
    },
    {
      "cell_type": "markdown",
      "metadata": {
        "id": "hRaw-gRPvVf-",
        "colab_type": "text"
      },
      "source": [
        "“Polymorphism”\n",
        "\n",
        "\n",
        "The meaning of an operation depends on its subject.\n",
        "By not caring about types, code becomes more flexible.\n",
        "Any object with a compatible interface will work.\n",
        "Most errors are best caught by Python, not your code."
      ]
    },
    {
      "cell_type": "markdown",
      "metadata": {
        "id": "nccse4So2yst",
        "colab_type": "text"
      },
      "source": [
        "**Example: intersecting sequences**\n",
        "\n",
        "   * Definition"
      ]
    },
    {
      "cell_type": "code",
      "metadata": {
        "id": "vdDYTygdvVf_",
        "colab_type": "code",
        "colab": {}
      },
      "source": [
        "def intersect(seq1, seq2):\n",
        "  res = []                     # start empty\n",
        "  for x in seq1:               # scan seq1\n",
        "    if x in seq2:            # common item?\n",
        "        res.append(x)        # add to end\n",
        "  return res"
      ],
      "execution_count": 0,
      "outputs": []
    },
    {
      "cell_type": "markdown",
      "metadata": {
        "id": "RSrh3evxvVgB",
        "colab_type": "text"
      },
      "source": [
        "* Calls"
      ]
    },
    {
      "cell_type": "code",
      "metadata": {
        "id": "tLDewjawvVgC",
        "colab_type": "code",
        "outputId": "be010960-d584-4465-855b-eaadb647c553",
        "colab": {
          "base_uri": "https://localhost:8080/",
          "height": 34
        }
      },
      "source": [
        "s1 = \"SPAM\"\n",
        "s2 = \"SCAM\"\n",
        "intersect(s1, s2)               # strings"
      ],
      "execution_count": 0,
      "outputs": [
        {
          "output_type": "execute_result",
          "data": {
            "text/plain": [
              "['S', 'A', 'M']"
            ]
          },
          "metadata": {
            "tags": []
          },
          "execution_count": 8
        }
      ]
    },
    {
      "cell_type": "code",
      "metadata": {
        "id": "QMsPRDvdvVgJ",
        "colab_type": "code",
        "outputId": "d8b332d8-fb9e-4b3b-d19c-23fee2bf6c84",
        "colab": {
          "base_uri": "https://localhost:8080/",
          "height": 34
        }
      },
      "source": [
        "intersect([1, 2, 3], (1, 4))    # mixed types"
      ],
      "execution_count": 0,
      "outputs": [
        {
          "output_type": "execute_result",
          "data": {
            "text/plain": [
              "[1]"
            ]
          },
          "metadata": {
            "tags": []
          },
          "execution_count": 9
        }
      ]
    },
    {
      "cell_type": "markdown",
      "metadata": {
        "id": "zQXZo_D2vVgL",
        "colab_type": "text"
      },
      "source": [
        "###Scope rules in functions"
      ]
    },
    {
      "cell_type": "markdown",
      "metadata": {
        "id": "W8PuPtLG3bo4",
        "colab_type": "text"
      },
      "source": [
        "   * Enclosing module is a ‘global’ scope\n",
        "   * Each call to a function is a new ‘local’ scope\n",
        "   * Assigned names are local, unless declared “global”\n",
        "   * All other names are global or builtin\n",
        "   * Added in 2.2: ‘nonlocal’ enclosing function locals (if any) searched before global\n",
        "   * Added in 3.X: ‘nonlocal’ variables can be changed if declared, just like ‘globals’\n"
      ]
    },
    {
      "cell_type": "markdown",
      "metadata": {
        "id": "yYi4MZSB3uts",
        "colab_type": "text"
      },
      "source": [
        "**Name resolution: the “LEGB” rule**\n",
        "\n",
        "   *   References search up to 4 scopes:\n",
        "1.    Local                                   (function)\n",
        "2.    Enclosing functions           (if any)\n",
        "3.    Global                                 (module)\n",
        "4.    Builtin                                 (__builtin__ (2.X), builtins (3.X))\n",
        "   *   Assignments create or change local names by default\n",
        "   *   “global” declarations map assigned names to module"
      ]
    },
    {
      "cell_type": "markdown",
      "metadata": {
        "id": "WGNpeGdN319Q",
        "colab_type": "text"
      },
      "source": [
        "Example\n",
        "   * Global names: ‘X’, ‘func’\n",
        "   * Local names: ‘Y’, ‘Z’\n",
        "   * Interactive prompt: module ‘__main__’"
      ]
    },
    {
      "cell_type": "code",
      "metadata": {
        "id": "yGH8cLoavVgM",
        "colab_type": "code",
        "outputId": "e9dcf36d-c76d-4a58-e44b-32b1f8c51025",
        "colab": {
          "base_uri": "https://localhost:8080/",
          "height": 34
        }
      },
      "source": [
        "X = 99            # X and func assigned in module\n",
        "def func(Y): # Y and Z assigned in function\n",
        "  Z = X + Y     # X not assigned: global\n",
        "  return Z\n",
        "func(1) # func in module: result=100"
      ],
      "execution_count": 0,
      "outputs": [
        {
          "output_type": "execute_result",
          "data": {
            "text/plain": [
              "100"
            ]
          },
          "metadata": {
            "tags": []
          },
          "execution_count": 10
        }
      ]
    },
    {
      "cell_type": "markdown",
      "metadata": {
        "id": "-Gus4u-yvVgO",
        "colab_type": "text"
      },
      "source": [
        "**Enclosing Function Scopes (2.2+)**"
      ]
    },
    {
      "cell_type": "code",
      "metadata": {
        "id": "faJu241HvVgO",
        "colab_type": "code",
        "outputId": "aefefc36-be10-482a-8b81-ee06da1a6580",
        "colab": {
          "base_uri": "https://localhost:8080/",
          "height": 34
        }
      },
      "source": [
        "def f1():\n",
        "  x = 88\n",
        "  def f2():\n",
        "    print(x)         # 2.2: x found in enclosing function\n",
        "  f2()\n",
        "\n",
        "f1()"
      ],
      "execution_count": 0,
      "outputs": [
        {
          "output_type": "stream",
          "text": [
            "88\n"
          ],
          "name": "stdout"
        }
      ]
    },
    {
      "cell_type": "markdown",
      "metadata": {
        "id": "edvsu-kMvVgS",
        "colab_type": "text"
      },
      "source": [
        "**More useful with lambda (ahead)**"
      ]
    },
    {
      "cell_type": "code",
      "metadata": {
        "id": "5iONKWUDvVgS",
        "colab_type": "code",
        "outputId": "a20d5de0-631f-4bfe-f036-72836108aecc",
        "colab": {
          "base_uri": "https://localhost:8080/",
          "height": 34
        }
      },
      "source": [
        "def func():\n",
        "  x = 42\n",
        "  action = (lambda n: x ** n)          # 2.2\n",
        "  return action\n",
        "\n",
        "f = func()\n",
        "f(2)"
      ],
      "execution_count": 0,
      "outputs": [
        {
          "output_type": "execute_result",
          "data": {
            "text/plain": [
              "1764"
            ]
          },
          "metadata": {
            "tags": []
          },
          "execution_count": 15
        }
      ]
    },
    {
      "cell_type": "markdown",
      "metadata": {
        "id": "hz1XkTZdvVgV",
        "colab_type": "text"
      },
      "source": [
        "**Most useful for closures: state retention (non-OOP)**"
      ]
    },
    {
      "cell_type": "code",
      "metadata": {
        "id": "v51b87m5vVgW",
        "colab_type": "code",
        "colab": {}
      },
      "source": [
        "def maker(N):\n",
        "  def action(X):            # make, don’t call\n",
        "    return X ** N\n",
        "  return action             # return new func"
      ],
      "execution_count": 0,
      "outputs": []
    },
    {
      "cell_type": "code",
      "metadata": {
        "id": "m8JVuo5UvVgX",
        "colab_type": "code",
        "outputId": "4f5897f3-4f31-464d-9f81-b94f0b1ff87d",
        "colab": {
          "base_uri": "https://localhost:8080/",
          "height": 34
        }
      },
      "source": [
        "f = maker(3)                  # “remembers” 3 (N)\n",
        "f(2), f(3)                    # arg to X, not N"
      ],
      "execution_count": 0,
      "outputs": [
        {
          "output_type": "execute_result",
          "data": {
            "text/plain": [
              "(8, 27)"
            ]
          },
          "metadata": {
            "tags": []
          },
          "execution_count": 18
        }
      ]
    },
    {
      "cell_type": "code",
      "metadata": {
        "id": "rDPvcbQfvVgc",
        "colab_type": "code",
        "outputId": "6066503b-4f34-4343-ea48-efffc066b4be",
        "colab": {
          "base_uri": "https://localhost:8080/",
          "height": 34
        }
      },
      "source": [
        "g = maker(4)                  # “remembers” 4 (N)\n",
        "g(2), g(3)"
      ],
      "execution_count": 0,
      "outputs": [
        {
          "output_type": "execute_result",
          "data": {
            "text/plain": [
              "(16, 81)"
            ]
          },
          "metadata": {
            "tags": []
          },
          "execution_count": 19
        }
      ]
    },
    {
      "cell_type": "code",
      "metadata": {
        "id": "klAbjX8ZvVgg",
        "colab_type": "code",
        "outputId": "a39f014b-4551-45ae-91f6-60611b483ddd",
        "colab": {
          "base_uri": "https://localhost:8080/",
          "height": 34
        }
      },
      "source": [
        "f(2), f(3)                    # f still has 3"
      ],
      "execution_count": 0,
      "outputs": [
        {
          "output_type": "execute_result",
          "data": {
            "text/plain": [
              "(8, 27)"
            ]
          },
          "metadata": {
            "tags": []
          },
          "execution_count": 20
        }
      ]
    },
    {
      "cell_type": "markdown",
      "metadata": {
        "id": "XDgA6Q-ivVgh",
        "colab_type": "text"
      },
      "source": [
        "###More on “global”, and 3.X “nonlocal”"
      ]
    },
    {
      "cell_type": "markdown",
      "metadata": {
        "id": "XdjbDzrS6tc7",
        "colab_type": "text"
      },
      "source": [
        "   * ‘global’ means assigned at top-level of a module file\n",
        "   * Global names must be declared only if assigned\n",
        "   * Global names may be referenced without being declared\n",
        "   * 3.X: “nonlocal X” means X in enclosing def changeable"
      ]
    },
    {
      "cell_type": "markdown",
      "metadata": {
        "id": "5D4n146E7HGf",
        "colab_type": "text"
      },
      "source": [
        "All Pythons"
      ]
    },
    {
      "cell_type": "code",
      "metadata": {
        "id": "sjW1d3yXvVgh",
        "colab_type": "code",
        "outputId": "08e0570a-aee6-41a7-8525-2e887a203ef4",
        "colab": {
          "base_uri": "https://localhost:8080/",
          "height": 34
        }
      },
      "source": [
        "y, z = 1, 2         # global variables in module\n",
        "def all_global():\n",
        "  global x        # declare globals assigned\n",
        "  x = y + z       # no need to declare y,z: 3-scope rule\n",
        "\n",
        "all_global()  \n",
        "print(x)  "
      ],
      "execution_count": 0,
      "outputs": [
        {
          "output_type": "stream",
          "text": [
            "3\n"
          ],
          "name": "stdout"
        }
      ]
    },
    {
      "cell_type": "markdown",
      "metadata": {
        "id": "3vWoMfMavVgj",
        "colab_type": "text"
      },
      "source": [
        "enclosing function vars are changeable (state retention) (Python 3.X Only)"
      ]
    },
    {
      "cell_type": "code",
      "metadata": {
        "id": "ZA4w3o6BvVgj",
        "colab_type": "code",
        "outputId": "bac8e8d7-44be-4e80-fc0a-b5cb82ec8339",
        "colab": {
          "base_uri": "https://localhost:8080/",
          "height": 34
        }
      },
      "source": [
        "def outer():\n",
        "  x = 1\n",
        "  def inner():\n",
        "    nonlocal x\n",
        "    x += 1\n",
        "    print(x)\n",
        "  return inner\n",
        "\n",
        "f = outer()      # f is really an inner\n",
        "f()"
      ],
      "execution_count": 0,
      "outputs": [
        {
          "output_type": "stream",
          "text": [
            "2\n"
          ],
          "name": "stdout"
        }
      ]
    },
    {
      "cell_type": "code",
      "metadata": {
        "id": "3hMOqQbx7nuQ",
        "colab_type": "code",
        "outputId": "a75757c2-01eb-426d-e670-d704317c0d64",
        "colab": {
          "base_uri": "https://localhost:8080/",
          "height": 34
        }
      },
      "source": [
        "f()"
      ],
      "execution_count": 0,
      "outputs": [
        {
          "output_type": "stream",
          "text": [
            "3\n"
          ],
          "name": "stdout"
        }
      ]
    },
    {
      "cell_type": "markdown",
      "metadata": {
        "id": "oWTxaASkvVgn",
        "colab_type": "text"
      },
      "source": [
        "###More on “return”\n"
      ]
    },
    {
      "cell_type": "markdown",
      "metadata": {
        "id": "U8t9cNVt7_ah",
        "colab_type": "text"
      },
      "source": [
        "   * Return sends back an object as value of call\n",
        "   * Can return multiple arguments in a tuple\n",
        "   * Can return modified argument name values"
      ]
    },
    {
      "cell_type": "code",
      "metadata": {
        "id": "TffaACctvVgn",
        "colab_type": "code",
        "outputId": "9c5160a0-3d76-4ddc-bba5-6d0b30ddb9a1",
        "colab": {
          "base_uri": "https://localhost:8080/",
          "height": 34
        }
      },
      "source": [
        "def multiple(x, y):\n",
        "  x = 2\n",
        "  y = [3, 4]\n",
        "  return x, y\n",
        "\n",
        "X = 1\n",
        "L = [1, 2]\n",
        "X, L = multiple(X, L)\n",
        "X, L"
      ],
      "execution_count": 0,
      "outputs": [
        {
          "output_type": "execute_result",
          "data": {
            "text/plain": [
              "(2, [3, 4])"
            ]
          },
          "metadata": {
            "tags": []
          },
          "execution_count": 25
        }
      ]
    },
    {
      "cell_type": "markdown",
      "metadata": {
        "id": "q4BNsNszvVgp",
        "colab_type": "text"
      },
      "source": [
        "###More on argument passing\n"
      ]
    },
    {
      "cell_type": "markdown",
      "metadata": {
        "id": "KWJHFnvS8bwH",
        "colab_type": "text"
      },
      "source": [
        "   * Pass by object reference: assign shared object to local name\n",
        "   * In def, assigning to argument name doesn’t effect caller\n",
        "   * In def, changing mutable object argument may impact caller\n",
        "   * Not pass ‘by reference’ (C++), but:\n",
        "     - Immutables act like ‘by value’ (C)\n",
        "     - Mutables act like ‘by pointer’ (C)"
      ]
    },
    {
      "cell_type": "code",
      "metadata": {
        "id": "qpM1mlf-vVgr",
        "colab_type": "code",
        "outputId": "9affeced-1492-4271-bf4c-6fa6a179f9f5",
        "colab": {
          "base_uri": "https://localhost:8080/",
          "height": 34
        }
      },
      "source": [
        "def changer(a, b):\n",
        "  a = 2             # changes local name's value only\n",
        "  b[0] = 'spam'     # changes shared object in-place\n",
        "\n",
        "X = 1\n",
        "L = [1, 2]\n",
        "changer(X, L)\n",
        "X, L"
      ],
      "execution_count": 0,
      "outputs": [
        {
          "output_type": "execute_result",
          "data": {
            "text/plain": [
              "(1, ['spam', 2])"
            ]
          },
          "metadata": {
            "tags": []
          },
          "execution_count": 26
        }
      ]
    },
    {
      "cell_type": "markdown",
      "metadata": {
        "id": "GCEuJToHvVgv",
        "colab_type": "text"
      },
      "source": [
        "**Equivalent to these assignments:**"
      ]
    },
    {
      "cell_type": "code",
      "metadata": {
        "id": "Hsd1nz-TvVgv",
        "colab_type": "code",
        "outputId": "3d03577e-c8ec-4fc5-f4bf-8aab490e8e74",
        "colab": {
          "base_uri": "https://localhost:8080/",
          "height": 34
        }
      },
      "source": [
        "X = 1\n",
        "a = X           # they share the same object\n",
        "a = 2           # resets a only, X is still 1\n",
        "L = [1, 2]\n",
        "b = L           # they share the same object\n",
        "b[0] = 'spam'   # in-place change: L sees the change too\n",
        "X, L"
      ],
      "execution_count": 0,
      "outputs": [
        {
          "output_type": "execute_result",
          "data": {
            "text/plain": [
              "(1, ['spam', 2])"
            ]
          },
          "metadata": {
            "tags": []
          },
          "execution_count": 27
        }
      ]
    },
    {
      "cell_type": "markdown",
      "metadata": {
        "id": "3BqhN9Ha9rUX",
        "colab_type": "text"
      },
      "source": [
        "![assignments](https://learning-python.com/class/Workbook/unit05_files/image002.gif)"
      ]
    },
    {
      "cell_type": "markdown",
      "metadata": {
        "id": "fLkST1MV95dW",
        "colab_type": "text"
      },
      "source": [
        "###Special argument matching modes"
      ]
    },
    {
      "cell_type": "markdown",
      "metadata": {
        "id": "LbfHkk8m-anv",
        "colab_type": "text"
      },
      "source": [
        "   * Positional      matched left-to-right in header (normal)\n",
        "   * Keywords      matched by name in header\n",
        "   * Varargs        catch unmatched positional or keyword args\n",
        "   * Defaults        header can provide default argument values\n",
        "   * 3.X: Keyword Only, after \"\"*\"\" in def,  must pass by name"
      ]
    },
    {
      "cell_type": "markdown",
      "metadata": {
        "id": "2LnRqgSQ-oEe",
        "colab_type": "text"
      },
      "source": [
        "Operation | Location | Interpretation\n",
        "---|---|---\n",
        "func(value) | caller | normal argument: matched by position\n",
        "func(name=value) | caller | keyword argument: matched by name\n",
        "def func(name) | function | normal argument: matches any by name or position\n",
        "def func(name=value) | function | default argument value, if not passed in call\n",
        "def func(*name) | function | matches remaining positional args (tuple)\n",
        "def func(**name) | function | matches remaining keyword args (dictionary)\n",
        "func(*args, **kargs) | caller | subsumes old apply(): unpack tuple/dict of args\n",
        "def func(a, *b, c) def func(a, *, c) | function | 3.X keyword-only (c must be passed by name only)"
      ]
    },
    {
      "cell_type": "markdown",
      "metadata": {
        "id": "dn2TWb93vVg5",
        "colab_type": "text"
      },
      "source": [
        "About the stars…\n",
        "\n",
        "In Python 3.4 and earlier, the special *X and **X star syntax forms can appear in 3 places:\n",
        "\n",
        "   1.     In assignments, where a *X in the recipient collects unmatched items in a new list (3.X sequence assignments)\n",
        "   2.     In function headers, where the two forms collect unmatched positional and keyword arguments in a tuple and dict\n",
        "   3.     In function calls, where the two forms unpack iterables and dictionaries into individual items (arguments)\n",
        "   \n",
        "In Python 3.5 and later, this star syntax is also usable within data structure literals—where it unpacks collections into individual items, like its original use in function calls (#3 above). The unpacking star syntax now also works in lists, tuples, sets, and dictionaries where it unpacks or \"flattens\" another object's contents in-place:\n",
        "\n",
        "```python\n",
        "[x, *iter]      # list:  unpack iter's items\n",
        "(x, *iter, y)   # tuple: ditto (parenthesis or not)\n",
        "{*iter, x}      # set:   ditto (unordered, unique)\n",
        "{x:y, **dict}   # dict:  unpack dict's keys/values)\n",
        "```"
      ]
    },
    {
      "cell_type": "markdown",
      "metadata": {
        "id": "7BGdD-ctvVg6",
        "colab_type": "text"
      },
      "source": [
        "For example, in 3.5+:"
      ]
    },
    {
      "cell_type": "code",
      "metadata": {
        "id": "FbsoQA6SvVg7",
        "colab_type": "code",
        "outputId": "91eaf02d-5b26-4217-f9be-7585d359ecbb",
        "colab": {
          "base_uri": "https://localhost:8080/",
          "height": 34
        }
      },
      "source": [
        "x = [1, 2]\n",
        "y = [*x, *x]\n",
        "y"
      ],
      "execution_count": 0,
      "outputs": [
        {
          "output_type": "execute_result",
          "data": {
            "text/plain": [
              "[1, 2, 1, 2]"
            ]
          },
          "metadata": {
            "tags": []
          },
          "execution_count": 28
        }
      ]
    },
    {
      "cell_type": "markdown",
      "metadata": {
        "id": "uwdiPA2-vVg8",
        "colab_type": "text"
      },
      "source": [
        "###Examples"
      ]
    },
    {
      "cell_type": "markdown",
      "metadata": {
        "id": "zHH__zUtDlNF",
        "colab_type": "text"
      },
      "source": [
        "**Positionals and keywords**"
      ]
    },
    {
      "cell_type": "code",
      "metadata": {
        "id": "sa_mt97EvVg8",
        "colab_type": "code",
        "outputId": "5227cb16-89b1-4c0d-bb0a-dc3479973ca7",
        "colab": {
          "base_uri": "https://localhost:8080/",
          "height": 34
        }
      },
      "source": [
        "def f(a, b, c): print(a, b, c)\n",
        "  \n",
        "f(1, 2, 3)"
      ],
      "execution_count": 0,
      "outputs": [
        {
          "output_type": "stream",
          "text": [
            "1 2 3\n"
          ],
          "name": "stdout"
        }
      ]
    },
    {
      "cell_type": "code",
      "metadata": {
        "id": "Ut6_Osh8vVhC",
        "colab_type": "code",
        "outputId": "179ba12f-9e93-40d2-98dc-41467cd300f1",
        "colab": {
          "base_uri": "https://localhost:8080/",
          "height": 34
        }
      },
      "source": [
        "f(c=3, b=2, a=1)"
      ],
      "execution_count": 0,
      "outputs": [
        {
          "output_type": "stream",
          "text": [
            "1 2 3\n"
          ],
          "name": "stdout"
        }
      ]
    },
    {
      "cell_type": "code",
      "metadata": {
        "id": "pElhEHTEvVhD",
        "colab_type": "code",
        "outputId": "967d183f-d625-44d0-d274-c52eabbb832e",
        "colab": {
          "base_uri": "https://localhost:8080/",
          "height": 34
        }
      },
      "source": [
        "f(1, c=3, b=2)"
      ],
      "execution_count": 0,
      "outputs": [
        {
          "output_type": "stream",
          "text": [
            "1 2 3\n"
          ],
          "name": "stdout"
        }
      ]
    },
    {
      "cell_type": "markdown",
      "metadata": {
        "id": "QqBnt0jDvVhF",
        "colab_type": "text"
      },
      "source": [
        "**Defaults**"
      ]
    },
    {
      "cell_type": "code",
      "metadata": {
        "id": "TpsBBoHfvVhG",
        "colab_type": "code",
        "outputId": "43c4531f-5b4b-4a1e-9a3f-525f7966b35f",
        "colab": {
          "base_uri": "https://localhost:8080/",
          "height": 34
        }
      },
      "source": [
        "def f(a, b=2, c=3): print(a, b, c)\n",
        "  \n",
        "f(1)"
      ],
      "execution_count": 0,
      "outputs": [
        {
          "output_type": "stream",
          "text": [
            "1 2 3\n"
          ],
          "name": "stdout"
        }
      ]
    },
    {
      "cell_type": "code",
      "metadata": {
        "id": "3PLc7u1cvVhK",
        "colab_type": "code",
        "outputId": "ab8ededa-9c27-4a65-fbca-957fd89b2c41",
        "colab": {
          "base_uri": "https://localhost:8080/",
          "height": 34
        }
      },
      "source": [
        "f(1, 4, 5)"
      ],
      "execution_count": 0,
      "outputs": [
        {
          "output_type": "stream",
          "text": [
            "1 4 5\n"
          ],
          "name": "stdout"
        }
      ]
    },
    {
      "cell_type": "code",
      "metadata": {
        "id": "19Pbiu0MvVhM",
        "colab_type": "code",
        "outputId": "b353bfb0-699c-4d48-a728-188b1ed41149",
        "colab": {
          "base_uri": "https://localhost:8080/",
          "height": 34
        }
      },
      "source": [
        "f(1, c=6)"
      ],
      "execution_count": 0,
      "outputs": [
        {
          "output_type": "stream",
          "text": [
            "1 2 6\n"
          ],
          "name": "stdout"
        }
      ]
    },
    {
      "cell_type": "markdown",
      "metadata": {
        "id": "UX_stF4cvVhN",
        "colab_type": "text"
      },
      "source": [
        "**Arbitrary positionals**"
      ]
    },
    {
      "cell_type": "code",
      "metadata": {
        "id": "bWUJW1fBvVhO",
        "colab_type": "code",
        "outputId": "3de5e78d-373f-4be5-9c91-c7d2294d2574",
        "colab": {
          "base_uri": "https://localhost:8080/",
          "height": 34
        }
      },
      "source": [
        "def f(*args): print(args)\n",
        "\n",
        "f(1)"
      ],
      "execution_count": 0,
      "outputs": [
        {
          "output_type": "stream",
          "text": [
            "(1,)\n"
          ],
          "name": "stdout"
        }
      ]
    },
    {
      "cell_type": "code",
      "metadata": {
        "id": "_vQayl4MvVhR",
        "colab_type": "code",
        "outputId": "a108d724-72c4-4e64-9742-b6ac7be35051",
        "colab": {
          "base_uri": "https://localhost:8080/",
          "height": 34
        }
      },
      "source": [
        "f(1,2,3,4)"
      ],
      "execution_count": 0,
      "outputs": [
        {
          "output_type": "stream",
          "text": [
            "(1, 2, 3, 4)\n"
          ],
          "name": "stdout"
        }
      ]
    },
    {
      "cell_type": "markdown",
      "metadata": {
        "id": "S0vgi753vVhS",
        "colab_type": "text"
      },
      "source": [
        "**Arbitrary keywords**"
      ]
    },
    {
      "cell_type": "code",
      "metadata": {
        "id": "g10CzXtevVhT",
        "colab_type": "code",
        "outputId": "cefb2aa1-75a1-4c49-c3b1-27a99fb56065",
        "colab": {
          "base_uri": "https://localhost:8080/",
          "height": 34
        }
      },
      "source": [
        "def f(**args): print(args)\n",
        "  \n",
        "f()  "
      ],
      "execution_count": 0,
      "outputs": [
        {
          "output_type": "stream",
          "text": [
            "{}\n"
          ],
          "name": "stdout"
        }
      ]
    },
    {
      "cell_type": "code",
      "metadata": {
        "id": "5mV9qgi6vVhW",
        "colab_type": "code",
        "outputId": "6efaae52-1d2f-4d68-c91f-5e69834e05ec",
        "colab": {
          "base_uri": "https://localhost:8080/",
          "height": 34
        }
      },
      "source": [
        "f(a=1, b=2)"
      ],
      "execution_count": 0,
      "outputs": [
        {
          "output_type": "stream",
          "text": [
            "{'a': 1, 'b': 2}\n"
          ],
          "name": "stdout"
        }
      ]
    },
    {
      "cell_type": "code",
      "metadata": {
        "id": "vGandUJPvVhX",
        "colab_type": "code",
        "outputId": "cb30a5ee-ed89-4c6f-d9c8-f48eb7f6362a",
        "colab": {
          "base_uri": "https://localhost:8080/",
          "height": 34
        }
      },
      "source": [
        "def f(a, *pargs, **kargs): print(a, pargs, kargs)\n",
        "  \n",
        "f(1, 2, 3, x=1, y=2)  "
      ],
      "execution_count": 0,
      "outputs": [
        {
          "output_type": "stream",
          "text": [
            "1 (2, 3) {'x': 1, 'y': 2}\n"
          ],
          "name": "stdout"
        }
      ]
    },
    {
      "cell_type": "markdown",
      "metadata": {
        "id": "-bFPc2YvvVha",
        "colab_type": "text"
      },
      "source": [
        "**Example: min value functions**\n",
        "\n",
        "   *   Only deals with matching: still passed by assignment\n",
        "   *   Defaults retain an object: may change if mutable"
      ]
    },
    {
      "cell_type": "code",
      "metadata": {
        "id": "Zc4pJuCEvVhb",
        "colab_type": "code",
        "outputId": "68dc7baa-d339-4553-fcae-48a7db4c1ab5",
        "colab": {
          "base_uri": "https://localhost:8080/",
          "height": 102
        }
      },
      "source": [
        "def func(spam, eggs, toast=0, ham=0):   # first 2 required\n",
        "  print (spam, eggs, toast, ham)\n",
        "  \n",
        "func(1, 2)                      # output: (1, 2, 0, 0)\n",
        "func(1, ham=1, eggs=0)          # output: (1, 0, 0, 1)\n",
        "func(spam=1, eggs=0)            # output: (1, 0, 0, 0)\n",
        "func(toast=1, eggs=2, spam=3)   # output: (3, 2, 1, 0)\n",
        "func(1, 2, 3, 4)                # output: (1, 2, 3, 4)  "
      ],
      "execution_count": 0,
      "outputs": [
        {
          "output_type": "stream",
          "text": [
            "1 2 0 0\n",
            "1 0 0 1\n",
            "1 0 0 0\n",
            "3 2 1 0\n",
            "1 2 3 4\n"
          ],
          "name": "stdout"
        }
      ]
    },
    {
      "cell_type": "markdown",
      "metadata": {
        "id": "Za2AAP9GvVhc",
        "colab_type": "text"
      },
      "source": [
        "**Ordering rules**\n",
        "\n",
        "   * Call: keyword arguments after non-keyword arguments\n",
        "   * Header: normals, then defaults, then *name, then * *name"
      ]
    },
    {
      "cell_type": "markdown",
      "metadata": {
        "id": "pDG4Tg9YGDKc",
        "colab_type": "text"
      },
      "source": [
        "**Matching algorithm (see exercise)**\n",
        "\n",
        "1.   Assign non-keyword arguments by position\n",
        "2.   Assign keyword arguments by matching names\n",
        "3.   Assign extra non-keyword arguments to *name tuple\n",
        "4.   Assign extra keyword arguments to **name dictionary\n",
        "5.   Unassigned arguments in header assigned default values"
      ]
    },
    {
      "cell_type": "markdown",
      "metadata": {
        "id": "0ko7F6eMGIME",
        "colab_type": "text"
      },
      "source": [
        "###Odds and ends"
      ]
    },
    {
      "cell_type": "markdown",
      "metadata": {
        "id": "a3swBuxwGMvU",
        "colab_type": "text"
      },
      "source": [
        "   * lambda expression creates anonymous functions\n",
        "   * list comprehensions, map, filter apply expressions to sequences (see also prior unit)\n",
        "   * Generator expressions (2.4+)\n",
        "   * Generator functions and yield (new in 2.2, 2.3)\n",
        "   * apply function calls functions with arguments tuple\n",
        "   * Functions return ‘None’ if they don’t use a real ‘return’\n",
        "   * Python 3.X function annotations and keyword arguments"
      ]
    },
    {
      "cell_type": "markdown",
      "metadata": {
        "id": "pEUm1oHlGQBc",
        "colab_type": "text"
      },
      "source": [
        "####Lambda expressions"
      ]
    },
    {
      "cell_type": "code",
      "metadata": {
        "id": "X3AskUUGvVhc",
        "colab_type": "code",
        "colab": {
          "base_uri": "https://localhost:8080/",
          "height": 34
        },
        "outputId": "921a2510-3a25-4fc1-a664-ed30bdadc9f6"
      },
      "source": [
        "def func(x, y, z): return x + y + z\n",
        "\n",
        "func(2, 3, 4)"
      ],
      "execution_count": 1,
      "outputs": [
        {
          "output_type": "execute_result",
          "data": {
            "text/plain": [
              "9"
            ]
          },
          "metadata": {
            "tags": []
          },
          "execution_count": 1
        }
      ]
    },
    {
      "cell_type": "code",
      "metadata": {
        "id": "tDmq3T-FvVhf",
        "colab_type": "code",
        "colab": {
          "base_uri": "https://localhost:8080/",
          "height": 34
        },
        "outputId": "de56d903-4cc4-429f-aa4e-4ff33bca55ba"
      },
      "source": [
        "f = lambda x, y, z: x + y + z\n",
        "f(2, 3, 4)"
      ],
      "execution_count": 2,
      "outputs": [
        {
          "output_type": "execute_result",
          "data": {
            "text/plain": [
              "9"
            ]
          },
          "metadata": {
            "tags": []
          },
          "execution_count": 2
        }
      ]
    },
    {
      "cell_type": "markdown",
      "metadata": {
        "id": "mT3yu4ftvVhi",
        "colab_type": "text"
      },
      "source": [
        "####List comprehensions"
      ]
    },
    {
      "cell_type": "code",
      "metadata": {
        "id": "ZUH10-sOvVhi",
        "colab_type": "code",
        "colab": {
          "base_uri": "https://localhost:8080/",
          "height": 34
        },
        "outputId": "a582e554-0259-4e5e-ce41-294828451de9"
      },
      "source": [
        "ord('s')"
      ],
      "execution_count": 3,
      "outputs": [
        {
          "output_type": "execute_result",
          "data": {
            "text/plain": [
              "115"
            ]
          },
          "metadata": {
            "tags": []
          },
          "execution_count": 3
        }
      ]
    },
    {
      "cell_type": "code",
      "metadata": {
        "id": "jWxhfwivvVhl",
        "colab_type": "code",
        "colab": {
          "base_uri": "https://localhost:8080/",
          "height": 34
        },
        "outputId": "fa6931bc-a83b-4453-db4d-25e76e734e49"
      },
      "source": [
        "res = []\n",
        "for x in 'spam': res.append(ord(x))\n",
        "res"
      ],
      "execution_count": 5,
      "outputs": [
        {
          "output_type": "execute_result",
          "data": {
            "text/plain": [
              "[115, 112, 97, 109]"
            ]
          },
          "metadata": {
            "tags": []
          },
          "execution_count": 5
        }
      ]
    },
    {
      "cell_type": "code",
      "metadata": {
        "id": "fRY4CC9QvVhp",
        "colab_type": "code",
        "colab": {
          "base_uri": "https://localhost:8080/",
          "height": 34
        },
        "outputId": "b1e87bba-5065-4ebb-f78d-e6f51ec8fa4d"
      },
      "source": [
        "list(map(ord, 'spam'))              # apply func to sequence"
      ],
      "execution_count": 8,
      "outputs": [
        {
          "output_type": "execute_result",
          "data": {
            "text/plain": [
              "[115, 112, 97, 109]"
            ]
          },
          "metadata": {
            "tags": []
          },
          "execution_count": 8
        }
      ]
    },
    {
      "cell_type": "code",
      "metadata": {
        "id": "0-AZMQb_vVhq",
        "colab_type": "code",
        "colab": {
          "base_uri": "https://localhost:8080/",
          "height": 34
        },
        "outputId": "6f45d2dc-01cd-4271-dd32-dedf61f84a5a"
      },
      "source": [
        "[ord(x) for x in 'spam']      # apply expr to sequence"
      ],
      "execution_count": 7,
      "outputs": [
        {
          "output_type": "execute_result",
          "data": {
            "text/plain": [
              "[115, 112, 97, 109]"
            ]
          },
          "metadata": {
            "tags": []
          },
          "execution_count": 7
        }
      ]
    },
    {
      "cell_type": "markdown",
      "metadata": {
        "id": "7Ustg1v8vVhr",
        "colab_type": "text"
      },
      "source": [
        "**adding arbitrary expressions**"
      ]
    },
    {
      "cell_type": "code",
      "metadata": {
        "id": "W0JYmNkMvVhr",
        "colab_type": "code",
        "colab": {
          "base_uri": "https://localhost:8080/",
          "height": 34
        },
        "outputId": "213299c9-216a-445b-f432-8f8dfd3bb661"
      },
      "source": [
        "[x ** 2 for x in range(10)]"
      ],
      "execution_count": 9,
      "outputs": [
        {
          "output_type": "execute_result",
          "data": {
            "text/plain": [
              "[0, 1, 4, 9, 16, 25, 36, 49, 64, 81]"
            ]
          },
          "metadata": {
            "tags": []
          },
          "execution_count": 9
        }
      ]
    },
    {
      "cell_type": "code",
      "metadata": {
        "id": "YeDwp9XDvVht",
        "colab_type": "code",
        "colab": {
          "base_uri": "https://localhost:8080/",
          "height": 34
        },
        "outputId": "82fec714-5b41-4b0b-f78d-2d602cf805d3"
      },
      "source": [
        "list(map((lambda x: x**2), range(10)))"
      ],
      "execution_count": 11,
      "outputs": [
        {
          "output_type": "execute_result",
          "data": {
            "text/plain": [
              "[0, 1, 4, 9, 16, 25, 36, 49, 64, 81]"
            ]
          },
          "metadata": {
            "tags": []
          },
          "execution_count": 11
        }
      ]
    },
    {
      "cell_type": "code",
      "metadata": {
        "id": "tkn91jw_vVhu",
        "colab_type": "code",
        "colab": {
          "base_uri": "https://localhost:8080/",
          "height": 68
        },
        "outputId": "07065f31-6ff0-4e7a-91f9-ae5b94435756"
      },
      "source": [
        "lines = [line[:-1] for line in open('sample_data/README.md')]\n",
        "lines[:3]"
      ],
      "execution_count": 17,
      "outputs": [
        {
          "output_type": "execute_result",
          "data": {
            "text/plain": [
              "['This directory includes a few sample datasets to get you started.',\n",
              " '',\n",
              " '*   `california_housing_data*.csv` is California housing data from the 1990 US']"
            ]
          },
          "metadata": {
            "tags": []
          },
          "execution_count": 17
        }
      ]
    },
    {
      "cell_type": "markdown",
      "metadata": {
        "id": "zieTPbCdvVhw",
        "colab_type": "text"
      },
      "source": [
        "**adding if tests**"
      ]
    },
    {
      "cell_type": "code",
      "metadata": {
        "id": "r8PadO97vVhw",
        "colab_type": "code",
        "colab": {
          "base_uri": "https://localhost:8080/",
          "height": 34
        },
        "outputId": "78f00693-7791-47cd-e6d3-083687b87c59"
      },
      "source": [
        "[x for x in range(10) if x % 2 == 0]"
      ],
      "execution_count": 18,
      "outputs": [
        {
          "output_type": "execute_result",
          "data": {
            "text/plain": [
              "[0, 2, 4, 6, 8]"
            ]
          },
          "metadata": {
            "tags": []
          },
          "execution_count": 18
        }
      ]
    },
    {
      "cell_type": "code",
      "metadata": {
        "id": "bXghhlOkvVhz",
        "colab_type": "code",
        "colab": {
          "base_uri": "https://localhost:8080/",
          "height": 34
        },
        "outputId": "5783289c-828c-4458-a15b-c958df651973"
      },
      "source": [
        "list(filter((lambda x: x % 2 == 0), range(10)))"
      ],
      "execution_count": 20,
      "outputs": [
        {
          "output_type": "execute_result",
          "data": {
            "text/plain": [
              "[0, 2, 4, 6, 8]"
            ]
          },
          "metadata": {
            "tags": []
          },
          "execution_count": 20
        }
      ]
    },
    {
      "cell_type": "markdown",
      "metadata": {
        "id": "uQs-Ux1KvVh0",
        "colab_type": "text"
      },
      "source": [
        "**advanced usage**"
      ]
    },
    {
      "cell_type": "code",
      "metadata": {
        "id": "gISSt8fQvVh1",
        "colab_type": "code",
        "colab": {
          "base_uri": "https://localhost:8080/",
          "height": 34
        },
        "outputId": "a3010293-eb87-4edd-a4cb-b99ca2050c03"
      },
      "source": [
        "[x**2 for x in range(10) if x % 2 == 0]"
      ],
      "execution_count": 21,
      "outputs": [
        {
          "output_type": "execute_result",
          "data": {
            "text/plain": [
              "[0, 4, 16, 36, 64]"
            ]
          },
          "metadata": {
            "tags": []
          },
          "execution_count": 21
        }
      ]
    },
    {
      "cell_type": "code",
      "metadata": {
        "id": "M-HKDhL2vVh2",
        "colab_type": "code",
        "colab": {
          "base_uri": "https://localhost:8080/",
          "height": 34
        },
        "outputId": "ee2e5ea8-1226-4367-8a20-cca0bae5fad0"
      },
      "source": [
        "[x+y for x in 'abc' for y in 'lmn']"
      ],
      "execution_count": 22,
      "outputs": [
        {
          "output_type": "execute_result",
          "data": {
            "text/plain": [
              "['al', 'am', 'an', 'bl', 'bm', 'bn', 'cl', 'cm', 'cn']"
            ]
          },
          "metadata": {
            "tags": []
          },
          "execution_count": 22
        }
      ]
    },
    {
      "cell_type": "code",
      "metadata": {
        "id": "SV1zE1wavVh5",
        "colab_type": "code",
        "colab": {
          "base_uri": "https://localhost:8080/",
          "height": 34
        },
        "outputId": "075d9faa-7200-4d43-c666-0f4c747d78a1"
      },
      "source": [
        "res = []\n",
        "for x in 'abc':\n",
        "  for y in 'lmn':\n",
        "    res.append(x+y)\n",
        "res"
      ],
      "execution_count": 23,
      "outputs": [
        {
          "output_type": "execute_result",
          "data": {
            "text/plain": [
              "['al', 'am', 'an', 'bl', 'bm', 'bn', 'cl', 'cm', 'cn']"
            ]
          },
          "metadata": {
            "tags": []
          },
          "execution_count": 23
        }
      ]
    },
    {
      "cell_type": "markdown",
      "metadata": {
        "id": "z_8snJrwvVh7",
        "colab_type": "text"
      },
      "source": [
        "**nice for matrixes**"
      ]
    },
    {
      "cell_type": "code",
      "metadata": {
        "id": "r8BvWshlvVh8",
        "colab_type": "code",
        "colab": {
          "base_uri": "https://localhost:8080/",
          "height": 34
        },
        "outputId": "355f67dd-d3a6-462b-c020-79d5ff15f7fd"
      },
      "source": [
        "M = [[1, 2, 3],\n",
        "     [4, 5, 6],\n",
        "     [7, 8, 9]]\n",
        "M[1]"
      ],
      "execution_count": 24,
      "outputs": [
        {
          "output_type": "execute_result",
          "data": {
            "text/plain": [
              "[4, 5, 6]"
            ]
          },
          "metadata": {
            "tags": []
          },
          "execution_count": 24
        }
      ]
    },
    {
      "cell_type": "code",
      "metadata": {
        "id": "v3ybftamvViB",
        "colab_type": "code",
        "colab": {
          "base_uri": "https://localhost:8080/",
          "height": 34
        },
        "outputId": "ac675d81-8a4f-4b2c-f5ef-6cf8859f29c0"
      },
      "source": [
        "col2 = [row[1] for row in M]\n",
        "col2"
      ],
      "execution_count": 25,
      "outputs": [
        {
          "output_type": "execute_result",
          "data": {
            "text/plain": [
              "[2, 5, 8]"
            ]
          },
          "metadata": {
            "tags": []
          },
          "execution_count": 25
        }
      ]
    },
    {
      "cell_type": "code",
      "metadata": {
        "id": "2BxFxow0vViE",
        "colab_type": "code",
        "colab": {
          "base_uri": "https://localhost:8080/",
          "height": 34
        },
        "outputId": "a6f896c8-078c-4569-adfc-b56888116f24"
      },
      "source": [
        "quad = [M[i][j] for i in (0,1) for j in (0, 1)]\n",
        "quad"
      ],
      "execution_count": 26,
      "outputs": [
        {
          "output_type": "execute_result",
          "data": {
            "text/plain": [
              "[1, 2, 4, 5]"
            ]
          },
          "metadata": {
            "tags": []
          },
          "execution_count": 26
        }
      ]
    },
    {
      "cell_type": "markdown",
      "metadata": {
        "id": "Fja7bci-M-j-",
        "colab_type": "text"
      },
      "source": [
        "List comprehensions can become incomprehensible when nested, but map and list comprehensions may be faster than simple for loops"
      ]
    },
    {
      "cell_type": "markdown",
      "metadata": {
        "id": "wJFdn0xevViG",
        "colab_type": "text"
      },
      "source": [
        "####Generator expressions (2.4+)"
      ]
    },
    {
      "cell_type": "markdown",
      "metadata": {
        "id": "xyFaLSq9NNiN",
        "colab_type": "text"
      },
      "source": [
        "**list comprehensions generate entire list in memory**"
      ]
    },
    {
      "cell_type": "code",
      "metadata": {
        "id": "cMKN5nNCvViG",
        "colab_type": "code",
        "colab": {
          "base_uri": "https://localhost:8080/",
          "height": 34
        },
        "outputId": "3a731606-bf42-4272-9b03-7319c5424c64"
      },
      "source": [
        "squares = [x**2 for x in range(5)]\n",
        "squares"
      ],
      "execution_count": 27,
      "outputs": [
        {
          "output_type": "execute_result",
          "data": {
            "text/plain": [
              "[0, 1, 4, 9, 16]"
            ]
          },
          "metadata": {
            "tags": []
          },
          "execution_count": 27
        }
      ]
    },
    {
      "cell_type": "markdown",
      "metadata": {
        "id": "auRrJVeXvViH",
        "colab_type": "text"
      },
      "source": [
        "**generator expressions yield 1 result at a time: saves memory, distributes work**"
      ]
    },
    {
      "cell_type": "code",
      "metadata": {
        "id": "SpCyAg1bvViH",
        "colab_type": "code",
        "colab": {
          "base_uri": "https://localhost:8080/",
          "height": 34
        },
        "outputId": "9f48835a-5074-4327-a8f4-4eb2486f5b72"
      },
      "source": [
        "squares = (x**2 for x in range(5))\n",
        "squares"
      ],
      "execution_count": 28,
      "outputs": [
        {
          "output_type": "execute_result",
          "data": {
            "text/plain": [
              "<generator object <genexpr> at 0x7f379e6745c8>"
            ]
          },
          "metadata": {
            "tags": []
          },
          "execution_count": 28
        }
      ]
    },
    {
      "cell_type": "code",
      "metadata": {
        "id": "aQiuX8CKvViJ",
        "colab_type": "code",
        "colab": {
          "base_uri": "https://localhost:8080/",
          "height": 34
        },
        "outputId": "458b221f-f4ad-44a6-a915-9cc76754739e"
      },
      "source": [
        "next(squares)"
      ],
      "execution_count": 29,
      "outputs": [
        {
          "output_type": "execute_result",
          "data": {
            "text/plain": [
              "0"
            ]
          },
          "metadata": {
            "tags": []
          },
          "execution_count": 29
        }
      ]
    },
    {
      "cell_type": "code",
      "metadata": {
        "id": "P_reEfPLvViJ",
        "colab_type": "code",
        "colab": {
          "base_uri": "https://localhost:8080/",
          "height": 34
        },
        "outputId": "f08ee77e-01dc-46de-c976-9f91ad6c391a"
      },
      "source": [
        "next(squares)"
      ],
      "execution_count": 30,
      "outputs": [
        {
          "output_type": "execute_result",
          "data": {
            "text/plain": [
              "1"
            ]
          },
          "metadata": {
            "tags": []
          },
          "execution_count": 30
        }
      ]
    },
    {
      "cell_type": "code",
      "metadata": {
        "id": "9AMe2iupvViK",
        "colab_type": "code",
        "colab": {
          "base_uri": "https://localhost:8080/",
          "height": 34
        },
        "outputId": "5e77f194-e29b-4e25-eb09-6a4efeb919c1"
      },
      "source": [
        "next(squares)"
      ],
      "execution_count": 31,
      "outputs": [
        {
          "output_type": "execute_result",
          "data": {
            "text/plain": [
              "4"
            ]
          },
          "metadata": {
            "tags": []
          },
          "execution_count": 31
        }
      ]
    },
    {
      "cell_type": "code",
      "metadata": {
        "id": "4EY3yGC5vViL",
        "colab_type": "code",
        "colab": {
          "base_uri": "https://localhost:8080/",
          "height": 34
        },
        "outputId": "027b21ee-d679-424b-ccbb-c5e4d072baeb"
      },
      "source": [
        "list(squares)"
      ],
      "execution_count": 32,
      "outputs": [
        {
          "output_type": "execute_result",
          "data": {
            "text/plain": [
              "[9, 16]"
            ]
          },
          "metadata": {
            "tags": []
          },
          "execution_count": 32
        }
      ]
    },
    {
      "cell_type": "markdown",
      "metadata": {
        "id": "8_Bt3fGWvViM",
        "colab_type": "text"
      },
      "source": [
        "**iteration contexts automatically call next()**"
      ]
    },
    {
      "cell_type": "code",
      "metadata": {
        "id": "XLTCFUipvViM",
        "colab_type": "code",
        "colab": {
          "base_uri": "https://localhost:8080/",
          "height": 102
        },
        "outputId": "868b3b91-3de1-4989-fd9a-ed82fdb86742"
      },
      "source": [
        "for x in (x**2 for x in range(5)):\n",
        "  print(x)"
      ],
      "execution_count": 33,
      "outputs": [
        {
          "output_type": "stream",
          "text": [
            "0\n",
            "1\n",
            "4\n",
            "9\n",
            "16\n"
          ],
          "name": "stdout"
        }
      ]
    },
    {
      "cell_type": "code",
      "metadata": {
        "id": "jSFmafa7OZEf",
        "colab_type": "code",
        "colab": {
          "base_uri": "https://localhost:8080/",
          "height": 34
        },
        "outputId": "40000247-c8c0-4a41-97ac-aabc0c76e355"
      },
      "source": [
        "sum(x**2 for x in range(5))"
      ],
      "execution_count": 34,
      "outputs": [
        {
          "output_type": "execute_result",
          "data": {
            "text/plain": [
              "30"
            ]
          },
          "metadata": {
            "tags": []
          },
          "execution_count": 34
        }
      ]
    },
    {
      "cell_type": "markdown",
      "metadata": {
        "id": "4LXnsve4vViN",
        "colab_type": "text"
      },
      "source": [
        "####Generator functions and yield"
      ]
    },
    {
      "cell_type": "markdown",
      "metadata": {
        "id": "YNuxCREGPGrn",
        "colab_type": "text"
      },
      "source": [
        "  * Generator implements iteration protocol: \\_\\_next__()\n",
        "  * Retains local scope when suspended\n",
        "  * Distributes work over time, may save memory (see also: threads)\n",
        "  * Related: generator expressions, enumerate function, file iterators"
      ]
    },
    {
      "cell_type": "markdown",
      "metadata": {
        "id": "h8YWoAuiPUG7",
        "colab_type": "text"
      },
      "source": [
        "**functions compiled specially when contain yield**"
      ]
    },
    {
      "cell_type": "code",
      "metadata": {
        "id": "TPlxyGcPvViN",
        "colab_type": "code",
        "colab": {}
      },
      "source": [
        "def gensquares(N):\n",
        "  for i in range(N):         # suspends and resumes itself\n",
        "    yield i ** 2           # <- return value and resume here later"
      ],
      "execution_count": 0,
      "outputs": []
    },
    {
      "cell_type": "markdown",
      "metadata": {
        "id": "J-zmFn_6Pai7",
        "colab_type": "text"
      },
      "source": [
        "**generator objects support iteration protocol: \\_\\_next__()**"
      ]
    },
    {
      "cell_type": "code",
      "metadata": {
        "id": "5TSPrhXwvViN",
        "colab_type": "code",
        "colab": {
          "base_uri": "https://localhost:8080/",
          "height": 34
        },
        "outputId": "21553fb5-ca0d-4470-b455-6634fcd0def6"
      },
      "source": [
        "x = gensquares(10)\n",
        "x                              # also retain all local variables between calls"
      ],
      "execution_count": 36,
      "outputs": [
        {
          "output_type": "execute_result",
          "data": {
            "text/plain": [
              "<generator object gensquares at 0x7f379ddab9e8>"
            ]
          },
          "metadata": {
            "tags": []
          },
          "execution_count": 36
        }
      ]
    },
    {
      "cell_type": "code",
      "metadata": {
        "id": "FyZSjKs8vViP",
        "colab_type": "code",
        "colab": {
          "base_uri": "https://localhost:8080/",
          "height": 34
        },
        "outputId": "bbb20647-454f-4050-9676-c171e0471483"
      },
      "source": [
        "x.__next__()"
      ],
      "execution_count": 39,
      "outputs": [
        {
          "output_type": "execute_result",
          "data": {
            "text/plain": [
              "1"
            ]
          },
          "metadata": {
            "tags": []
          },
          "execution_count": 39
        }
      ]
    },
    {
      "cell_type": "code",
      "metadata": {
        "id": "cAfpTVgEvViQ",
        "colab_type": "code",
        "colab": {
          "base_uri": "https://localhost:8080/",
          "height": 34
        },
        "outputId": "c842093f-e3bc-4e9f-e0ec-724b9e39741c"
      },
      "source": [
        "x.__next__()"
      ],
      "execution_count": 40,
      "outputs": [
        {
          "output_type": "execute_result",
          "data": {
            "text/plain": [
              "4"
            ]
          },
          "metadata": {
            "tags": []
          },
          "execution_count": 40
        }
      ]
    },
    {
      "cell_type": "code",
      "metadata": {
        "id": "M3lkUCZ9vViR",
        "colab_type": "code",
        "colab": {
          "base_uri": "https://localhost:8080/",
          "height": 34
        },
        "outputId": "100b4b94-a5cf-44f3-82a5-62c4eadeaf7e"
      },
      "source": [
        "x.__next__()"
      ],
      "execution_count": 41,
      "outputs": [
        {
          "output_type": "execute_result",
          "data": {
            "text/plain": [
              "9"
            ]
          },
          "metadata": {
            "tags": []
          },
          "execution_count": 41
        }
      ]
    },
    {
      "cell_type": "code",
      "metadata": {
        "id": "YAcbGTsHvViS",
        "colab_type": "code",
        "colab": {
          "base_uri": "https://localhost:8080/",
          "height": 34
        },
        "outputId": "baed616b-32bc-41fa-e379-35c9c4032572"
      },
      "source": [
        "x.__next__()"
      ],
      "execution_count": 42,
      "outputs": [
        {
          "output_type": "execute_result",
          "data": {
            "text/plain": [
              "16"
            ]
          },
          "metadata": {
            "tags": []
          },
          "execution_count": 42
        }
      ]
    },
    {
      "cell_type": "markdown",
      "metadata": {
        "id": "Bckhfr2bQJtV",
        "colab_type": "text"
      },
      "source": [
        "…StopIteration exception raised at end…"
      ]
    },
    {
      "cell_type": "markdown",
      "metadata": {
        "id": "j-FShu0nvViT",
        "colab_type": "text"
      },
      "source": [
        "**for loops (and others) automatically call next()**"
      ]
    },
    {
      "cell_type": "code",
      "metadata": {
        "id": "jZlL9FLDvViT",
        "colab_type": "code",
        "colab": {
          "base_uri": "https://localhost:8080/",
          "height": 102
        },
        "outputId": "a90b8ccb-8504-4710-eb72-dd272b109fda"
      },
      "source": [
        "for i in gensquares(5):        # resume the function each time\n",
        "  print(i)               # print last yielded value\n"
      ],
      "execution_count": 45,
      "outputs": [
        {
          "output_type": "stream",
          "text": [
            "0\n",
            "1\n",
            "4\n",
            "9\n",
            "16\n"
          ],
          "name": "stdout"
        }
      ]
    },
    {
      "cell_type": "markdown",
      "metadata": {
        "id": "ghAWD8uTvViU",
        "colab_type": "text"
      },
      "source": [
        "####Apply built-in (2.X only) and syntax (all Pys)"
      ]
    },
    {
      "cell_type": "code",
      "metadata": {
        "id": "M7NJoQ5vvViU",
        "colab_type": "code",
        "colab": {
          "base_uri": "https://localhost:8080/",
          "height": 34
        },
        "outputId": "895e8573-a12e-4bbf-b58f-b30091398202"
      },
      "source": [
        "def func(a, b, c):\n",
        "  return a + b + c\n",
        "\n",
        "func(*(2, 3, 4))"
      ],
      "execution_count": 51,
      "outputs": [
        {
          "output_type": "execute_result",
          "data": {
            "text/plain": [
              "9"
            ]
          },
          "metadata": {
            "tags": []
          },
          "execution_count": 51
        }
      ]
    },
    {
      "cell_type": "code",
      "metadata": {
        "id": "cfSkPLo6vViX",
        "colab_type": "code",
        "colab": {
          "base_uri": "https://localhost:8080/",
          "height": 34
        },
        "outputId": "8f36b21a-1dfa-45de-95fb-19f8c0a79558"
      },
      "source": [
        "func(*(2, 3), **{'c': 4})     # 2.X and 3.X"
      ],
      "execution_count": 50,
      "outputs": [
        {
          "output_type": "execute_result",
          "data": {
            "text/plain": [
              "9"
            ]
          },
          "metadata": {
            "tags": []
          },
          "execution_count": 50
        }
      ]
    },
    {
      "cell_type": "markdown",
      "metadata": {
        "id": "Ug8t0OnQvViX",
        "colab_type": "text"
      },
      "source": [
        "**call syntax is more flexible:**"
      ]
    },
    {
      "cell_type": "code",
      "metadata": {
        "id": "hocbdr5nvViX",
        "colab_type": "code",
        "colab": {}
      },
      "source": [
        "def func(a, b, c, d): return a + b + c + d"
      ],
      "execution_count": 0,
      "outputs": []
    },
    {
      "cell_type": "code",
      "metadata": {
        "id": "pRm4l49hvViY",
        "colab_type": "code",
        "colab": {}
      },
      "source": [
        "args1 = (1, 2)"
      ],
      "execution_count": 0,
      "outputs": []
    },
    {
      "cell_type": "code",
      "metadata": {
        "id": "aG482kwWvViY",
        "colab_type": "code",
        "colab": {}
      },
      "source": [
        "args2 = {'c': 3, 'd': 4}"
      ],
      "execution_count": 0,
      "outputs": []
    },
    {
      "cell_type": "code",
      "metadata": {
        "id": "XaP6Q_kCvViZ",
        "colab_type": "code",
        "colab": {}
      },
      "source": [
        "func(*args1, **args2)"
      ],
      "execution_count": 0,
      "outputs": []
    },
    {
      "cell_type": "markdown",
      "metadata": {
        "id": "OssivWp5vVia",
        "colab_type": "text"
      },
      "source": [
        "10"
      ]
    },
    {
      "cell_type": "code",
      "metadata": {
        "id": "K9KgBB_ivVia",
        "colab_type": "code",
        "colab": {}
      },
      "source": [
        "func(1, *(2,), **args2)"
      ],
      "execution_count": 0,
      "outputs": []
    },
    {
      "cell_type": "markdown",
      "metadata": {
        "id": "ix3jcJN8vVib",
        "colab_type": "text"
      },
      "source": [
        "10\n",
        "See also: “About the stars” sidebar above\n",
        "■    Default return values"
      ]
    },
    {
      "cell_type": "code",
      "metadata": {
        "id": "bXggumxtvVib",
        "colab_type": "code",
        "colab": {}
      },
      "source": [
        "def proc(x):\n",
        "...     print x"
      ],
      "execution_count": 0,
      "outputs": []
    },
    {
      "cell_type": "markdown",
      "metadata": {
        "id": "bEe6sg7QvVic",
        "colab_type": "text"
      },
      "source": [
        "..."
      ]
    },
    {
      "cell_type": "code",
      "metadata": {
        "id": "_NHBh6UbvVic",
        "colab_type": "code",
        "colab": {}
      },
      "source": [
        "x = proc('testing 123...')"
      ],
      "execution_count": 0,
      "outputs": []
    },
    {
      "cell_type": "markdown",
      "metadata": {
        "id": "NgF1IaxLvVid",
        "colab_type": "text"
      },
      "source": [
        "testing 123..."
      ]
    },
    {
      "cell_type": "code",
      "metadata": {
        "id": "j4ytHpnIvVid",
        "colab_type": "code",
        "colab": {}
      },
      "source": [
        "print x"
      ],
      "execution_count": 0,
      "outputs": []
    },
    {
      "cell_type": "markdown",
      "metadata": {
        "id": "7EO-LoLHvVid",
        "colab_type": "text"
      },
      "source": [
        "None\n",
        "■    Python 3.X function annotations"
      ]
    },
    {
      "cell_type": "code",
      "metadata": {
        "id": "Qd3_oJlEvVie",
        "colab_type": "code",
        "colab": {}
      },
      "source": [
        "def func(a: int, b: 'spam', c: 88 = 99) -> float:\n",
        "...     print(a, b, c)\n",
        "..."
      ],
      "execution_count": 0,
      "outputs": []
    },
    {
      "cell_type": "code",
      "metadata": {
        "id": "q6Llu-nKvVie",
        "colab_type": "code",
        "colab": {}
      },
      "source": [
        "func(1, 2)\n",
        "1 2 99\n",
        "```python\n",
        "func.__annotations__"
      ],
      "execution_count": 0,
      "outputs": []
    },
    {
      "cell_type": "markdown",
      "metadata": {
        "id": "E2Wbeju0vVif",
        "colab_type": "text"
      },
      "source": [
        "{'b': 'spam', 'return': <class 'float'>, 'a': <class 'int'>, 'c': 88}\n",
        "■    Python 3.X keyword-only arguments"
      ]
    },
    {
      "cell_type": "code",
      "metadata": {
        "id": "sCk4TZXQvVif",
        "colab_type": "code",
        "colab": {}
      },
      "source": [
        "def f(a, b, *, c=3, d): print(a, b, c, d)"
      ],
      "execution_count": 0,
      "outputs": []
    },
    {
      "cell_type": "markdown",
      "metadata": {
        "id": "kfZX2aLavVif",
        "colab_type": "text"
      },
      "source": [
        "..."
      ]
    },
    {
      "cell_type": "code",
      "metadata": {
        "id": "DnIchu0fvVig",
        "colab_type": "code",
        "colab": {}
      },
      "source": [
        "f(1, 2)"
      ],
      "execution_count": 0,
      "outputs": []
    },
    {
      "cell_type": "markdown",
      "metadata": {
        "id": "HkXVV57cvVih",
        "colab_type": "text"
      },
      "source": [
        "TypeError: f() missing 1 required keyword-only argument: 'd'"
      ]
    },
    {
      "cell_type": "code",
      "metadata": {
        "id": "vGTLHF-EvVih",
        "colab_type": "code",
        "colab": {}
      },
      "source": [
        "f(1, 2, 3)"
      ],
      "execution_count": 0,
      "outputs": []
    },
    {
      "cell_type": "markdown",
      "metadata": {
        "id": "GLI47MHOvVih",
        "colab_type": "text"
      },
      "source": [
        "TypeError: f() takes 2 positional arguments but 3 were given"
      ]
    },
    {
      "cell_type": "code",
      "metadata": {
        "id": "BPKBTA4TvVih",
        "colab_type": "code",
        "colab": {}
      },
      "source": [
        "f(1, 2, d=4)"
      ],
      "execution_count": 0,
      "outputs": []
    },
    {
      "cell_type": "markdown",
      "metadata": {
        "id": "PNLFRc3tvVii",
        "colab_type": "text"
      },
      "source": [
        "1 2 3 4"
      ]
    },
    {
      "cell_type": "code",
      "metadata": {
        "id": "tNfER3DuvVii",
        "colab_type": "code",
        "colab": {}
      },
      "source": [
        "f(1, 2, c=3, d=4)"
      ],
      "execution_count": 0,
      "outputs": []
    },
    {
      "cell_type": "markdown",
      "metadata": {
        "id": "c-mDezX8vVii",
        "colab_type": "text"
      },
      "source": [
        "1 2 3 4\n",
        "Function design concepts\n",
        "   * Use global variables only when absolutely necessary\n",
        "   * Use arguments for input, ‘return’ for outputs\n",
        "   * Don’t change mutable arguments unless expected\n",
        "   * But globals are only state-retention tool without classes\n",
        "   * But classes depend on mutable arguments (‘self’)\n",
        "Functions are objects: indirect calls\n",
        "   * Function objects can be assigned, passed, etc.\n",
        "   * Can call objects generically: function, bound method, ...\n",
        "def echo(message): print message\n",
        "x = echo\n",
        "x('Hello world!')\n",
        "def indirect(func, arg):"
      ]
    },
    {
      "cell_type": "code",
      "metadata": {
        "id": "buCx7f7ovVij",
        "colab_type": "code",
        "colab": {}
      },
      "source": [
        "func(arg)"
      ],
      "execution_count": 0,
      "outputs": []
    },
    {
      "cell_type": "markdown",
      "metadata": {
        "id": "p6g52wsxvVij",
        "colab_type": "text"
      },
      "source": [
        "indirect(echo, 'Hello world!')\n",
        "schedule = [ (echo, 'Hello!'), (echo, 'Ni!') ]\n",
        "for (func, arg) in schedule:"
      ]
    },
    {
      "cell_type": "code",
      "metadata": {
        "id": "sSg5JKTXvVij",
        "colab_type": "code",
        "colab": {}
      },
      "source": [
        "func(arg)"
      ],
      "execution_count": 0,
      "outputs": []
    },
    {
      "cell_type": "markdown",
      "metadata": {
        "id": "Bxk3U5CkvVik",
        "colab_type": "text"
      },
      "source": [
        "File scanners\n",
        "file: scanfile.py\n",
        "def scanner(name, function):"
      ]
    },
    {
      "cell_type": "code",
      "metadata": {
        "id": "MtIokWcjvVik",
        "colab_type": "code",
        "colab": {}
      },
      "source": [
        "file = open(name, 'r')          # create file\n",
        "for line in file.readlines():\n",
        "    function(line)              # call function\n",
        "file.close()"
      ],
      "execution_count": 0,
      "outputs": []
    },
    {
      "cell_type": "markdown",
      "metadata": {
        "id": "NwMjUgWbvVil",
        "colab_type": "text"
      },
      "source": [
        "file: commands.py\n",
        "import string\n",
        "from scanfile import scanner\n",
        "def processLine(line):"
      ]
    },
    {
      "cell_type": "code",
      "metadata": {
        "id": "7JpHpP5EvVil",
        "colab_type": "code",
        "colab": {}
      },
      "source": [
        "print string.upper(line)"
      ],
      "execution_count": 0,
      "outputs": []
    },
    {
      "cell_type": "markdown",
      "metadata": {
        "id": "FgUNQh7OvVim",
        "colab_type": "text"
      },
      "source": [
        "scanner(\"data.txt\", processLine)    # start scanner\n",
        "Function gotchas\n",
        "Local names are detected statically\n",
        "# cant use both local+global version of name, unless reference through module"
      ]
    },
    {
      "cell_type": "code",
      "metadata": {
        "id": "KGJ4clJbvVin",
        "colab_type": "code",
        "colab": {}
      },
      "source": [
        "X = 99"
      ],
      "execution_count": 0,
      "outputs": []
    },
    {
      "cell_type": "code",
      "metadata": {
        "id": "buUJ-NI4vVio",
        "colab_type": "code",
        "colab": {}
      },
      "source": [
        "def selector():        # X used but not assigned\n",
        "...     print X            # X found in global scope\n",
        "..."
      ],
      "execution_count": 0,
      "outputs": []
    },
    {
      "cell_type": "code",
      "metadata": {
        "id": "g4k6C37tvVir",
        "colab_type": "code",
        "colab": {}
      },
      "source": [
        "selector()"
      ],
      "execution_count": 0,
      "outputs": []
    },
    {
      "cell_type": "markdown",
      "metadata": {
        "id": "9-D2AYNtvVir",
        "colab_type": "text"
      },
      "source": [
        "99"
      ]
    },
    {
      "cell_type": "code",
      "metadata": {
        "id": "YeH_NMr0vVir",
        "colab_type": "code",
        "colab": {}
      },
      "source": [
        "def selector():\n",
        "...     print X            # does not yet exist!\n",
        "...     X = 88             # X classified as a local name"
      ],
      "execution_count": 0,
      "outputs": []
    },
    {
      "cell_type": "markdown",
      "metadata": {
        "id": "iNCy0Z41vVis",
        "colab_type": "text"
      },
      "source": [
        "..."
      ]
    },
    {
      "cell_type": "code",
      "metadata": {
        "id": "86XjV7bIvVis",
        "colab_type": "code",
        "colab": {}
      },
      "source": [
        "selector()"
      ],
      "execution_count": 0,
      "outputs": []
    },
    {
      "cell_type": "markdown",
      "metadata": {
        "id": "H5WgioMQvVit",
        "colab_type": "text"
      },
      "source": [
        "Traceback (innermost last):\n",
        "  File \"<stdin>\", line 1, in ?\n",
        "  File \"<stdin>\", line 2, in selector\n",
        "NameError: X"
      ]
    },
    {
      "cell_type": "code",
      "metadata": {
        "id": "VB40HzqWvViu",
        "colab_type": "code",
        "colab": {}
      },
      "source": [
        "def selector():\n",
        "...     global X           # force X to be global\n",
        "...     print X\n",
        "...     X = 88\n",
        "..."
      ],
      "execution_count": 0,
      "outputs": []
    },
    {
      "cell_type": "code",
      "metadata": {
        "id": "iFmW2zPQvViu",
        "colab_type": "code",
        "colab": {}
      },
      "source": [
        "selector()\n",
        "99\n",
        "Mutable defaults created just once\n",
        "# to avoid: check for None inside def and set to [] if so\n",
        "```python\n",
        "def grow(A, B=[]):\n",
        "        B.append(A)\n",
        "        return B"
      ],
      "execution_count": 0,
      "outputs": []
    },
    {
      "cell_type": "code",
      "metadata": {
        "id": "tOgVmQPuvViv",
        "colab_type": "code",
        "colab": {}
      },
      "source": [
        "grow(1)"
      ],
      "execution_count": 0,
      "outputs": []
    },
    {
      "cell_type": "markdown",
      "metadata": {
        "id": "yfhdZY9avViv",
        "colab_type": "text"
      },
      "source": [
        "[1]"
      ]
    },
    {
      "cell_type": "code",
      "metadata": {
        "id": "dXaELtJlvViv",
        "colab_type": "code",
        "colab": {}
      },
      "source": [
        "grow(1)"
      ],
      "execution_count": 0,
      "outputs": []
    },
    {
      "cell_type": "markdown",
      "metadata": {
        "id": "6Q4ZhTG5vViw",
        "colab_type": "text"
      },
      "source": [
        "[1, 1]"
      ]
    },
    {
      "cell_type": "code",
      "metadata": {
        "id": "3L_tHEMEvViw",
        "colab_type": "code",
        "colab": {}
      },
      "source": [
        "grow(1)"
      ],
      "execution_count": 0,
      "outputs": []
    },
    {
      "cell_type": "markdown",
      "metadata": {
        "id": "kp3XYjAPvVix",
        "colab_type": "text"
      },
      "source": [
        "[1, 1, 1]\n",
        "Nested functions weren’t nested scopes\n",
        "# this works as of 2.2 – enclosing function scopes!"
      ]
    },
    {
      "cell_type": "code",
      "metadata": {
        "id": "4T7uf7YTvVix",
        "colab_type": "code",
        "colab": {}
      },
      "source": [
        "def outer(x):\n",
        "...     def inner(i):          # assign in outer’s local\n",
        "...         print i,           # i is in inner’s local\n",
        "...         if i: inner(i-1)   # not in my local or global!\n",
        "...     inner(x)"
      ],
      "execution_count": 0,
      "outputs": []
    },
    {
      "cell_type": "markdown",
      "metadata": {
        "id": "S4sTvAQuvViz",
        "colab_type": "text"
      },
      "source": [
        "..."
      ]
    },
    {
      "cell_type": "code",
      "metadata": {
        "id": "u0uKqyAivViz",
        "colab_type": "code",
        "colab": {}
      },
      "source": [
        "outer(3)"
      ],
      "execution_count": 0,
      "outputs": []
    },
    {
      "cell_type": "markdown",
      "metadata": {
        "id": "_dry4hdrvVi0",
        "colab_type": "text"
      },
      "source": [
        "3\n",
        "Traceback (innermost last):\n",
        "  File \"<stdin>\", line 1, in ?\n",
        "  File \"<stdin>\", line 6, in outer\n",
        "  File \"<stdin>\", line 5, in inner\n",
        "NameError: inner"
      ]
    },
    {
      "cell_type": "code",
      "metadata": {
        "id": "iHkeqB1dvVi0",
        "colab_type": "code",
        "colab": {}
      },
      "source": [
        "def outer(x):\n",
        "...     global inner\n",
        "...     def inner(i):          # assign in enclosing module\n",
        "...         print i,\n",
        "...         if i: inner(i-1)   # found in my global scope\n",
        "...     inner(x)"
      ],
      "execution_count": 0,
      "outputs": []
    },
    {
      "cell_type": "markdown",
      "metadata": {
        "id": "OpDRBlYdvVi1",
        "colab_type": "text"
      },
      "source": [
        "..."
      ]
    },
    {
      "cell_type": "code",
      "metadata": {
        "id": "fHeaQnhkvVi1",
        "colab_type": "code",
        "colab": {}
      },
      "source": [
        "outer(3)"
      ],
      "execution_count": 0,
      "outputs": []
    },
    {
      "cell_type": "markdown",
      "metadata": {
        "id": "hNq9umCyvVi1",
        "colab_type": "text"
      },
      "source": [
        "3 2 1 0\n",
        "Use defaults to save references\n",
        "# normally no longer necessary as of 2.2: enclosing function scopes\n",
        "# BUT still required to retain current value of loop variables!"
      ]
    },
    {
      "cell_type": "code",
      "metadata": {
        "id": "A4sS7mNPvVi1",
        "colab_type": "code",
        "colab": {}
      },
      "source": [
        "def outer(x, y):\n",
        "        def inner():\n",
        "            return x ** y\n",
        "        return inner"
      ],
      "execution_count": 0,
      "outputs": []
    },
    {
      "cell_type": "code",
      "metadata": {
        "id": "PDSzsxd_vVi3",
        "colab_type": "code",
        "colab": {}
      },
      "source": [
        "x = outer(2, 4)"
      ],
      "execution_count": 0,
      "outputs": []
    },
    {
      "cell_type": "code",
      "metadata": {
        "id": "vdexYfzZvVi3",
        "colab_type": "code",
        "colab": {}
      },
      "source": [
        "x()"
      ],
      "execution_count": 0,
      "outputs": []
    },
    {
      "cell_type": "markdown",
      "metadata": {
        "id": "m9aVW9OxvVi4",
        "colab_type": "text"
      },
      "source": [
        "16\n",
        "# code before 2.2"
      ]
    },
    {
      "cell_type": "code",
      "metadata": {
        "id": "Lvj7a4aSvVi4",
        "colab_type": "code",
        "colab": {}
      },
      "source": [
        "def outer(x, y):\n",
        "...     def inner(a=x, b=y):     # save x,y bindings/objects\n",
        "...         return a**b          # from the enclosing scope\n",
        "...     return inner"
      ],
      "execution_count": 0,
      "outputs": []
    },
    {
      "cell_type": "markdown",
      "metadata": {
        "id": "aLSqDUS9vVi4",
        "colab_type": "text"
      },
      "source": [
        "..."
      ]
    },
    {
      "cell_type": "code",
      "metadata": {
        "id": "0wUhE7R9vVi4",
        "colab_type": "code",
        "colab": {}
      },
      "source": [
        "x = outer(2, 4)"
      ],
      "execution_count": 0,
      "outputs": []
    },
    {
      "cell_type": "code",
      "metadata": {
        "id": "2Aio8RzDvVi5",
        "colab_type": "code",
        "colab": {}
      },
      "source": [
        "x()"
      ],
      "execution_count": 0,
      "outputs": []
    },
    {
      "cell_type": "markdown",
      "metadata": {
        "id": "33_6dT4WvVi5",
        "colab_type": "text"
      },
      "source": [
        "16"
      ]
    },
    {
      "cell_type": "code",
      "metadata": {
        "id": "aX5RdirQvVi5",
        "colab_type": "code",
        "colab": {}
      },
      "source": [
        "def outer(x, y):\n",
        "...     return lambda a=x, b=y: a**b\n",
        "..."
      ],
      "execution_count": 0,
      "outputs": []
    },
    {
      "cell_type": "code",
      "metadata": {
        "id": "yaefFVb5vVi6",
        "colab_type": "code",
        "colab": {}
      },
      "source": [
        "y = outer(2, 5)\n",
        "```python\n",
        "y()"
      ],
      "execution_count": 0,
      "outputs": []
    },
    {
      "cell_type": "markdown",
      "metadata": {
        "id": "07B-j7PVvVi6",
        "colab_type": "text"
      },
      "source": [
        "32\n",
        "for I in someiterable:"
      ]
    },
    {
      "cell_type": "code",
      "metadata": {
        "id": "I69oYILUvVi6",
        "colab_type": "code",
        "colab": {}
      },
      "source": [
        "actions.append(lambda I=I: …)  # retain current I, not last!"
      ],
      "execution_count": 0,
      "outputs": []
    },
    {
      "cell_type": "markdown",
      "metadata": {
        "id": "lGllul5QvVi7",
        "colab_type": "text"
      },
      "source": [
        "Optional reading: set functions\n",
        "   * Functions process passed-in sequence objects\n",
        "   * Work on any type of sequence objects\n",
        "   * Supports mixed types: list and tuple, etc.\n",
        "file: inter.py\n",
        "def intersect(seq1, seq2):"
      ]
    },
    {
      "cell_type": "code",
      "metadata": {
        "id": "vqjXZseavVi7",
        "colab_type": "code",
        "colab": {}
      },
      "source": [
        "res = []                     # start with an empty list\n",
        "for x in seq1:               # scan the first sequence\n",
        "    if x in seq2:\n",
        "        res.append(x)        # add common items to end\n",
        "return res"
      ],
      "execution_count": 0,
      "outputs": []
    },
    {
      "cell_type": "markdown",
      "metadata": {
        "id": "F0OJEx3ZvVi7",
        "colab_type": "text"
      },
      "source": [
        "def union(seq1, seq2):"
      ]
    },
    {
      "cell_type": "code",
      "metadata": {
        "id": "m8tF9khzvVi7",
        "colab_type": "code",
        "colab": {}
      },
      "source": [
        "res = map(None, seq1)        # copy of seq1 (see ch13)\n",
        "for x in seq2:               # add new items in seq2\n",
        "    if not x in res:\n",
        "        res.append(x)\n",
        "return res"
      ],
      "execution_count": 0,
      "outputs": []
    },
    {
      "cell_type": "markdown",
      "metadata": {
        "id": "ne918AMRvVi8",
        "colab_type": "text"
      },
      "source": [
        "% python"
      ]
    },
    {
      "cell_type": "code",
      "metadata": {
        "id": "pEnioUVwvVi8",
        "colab_type": "code",
        "colab": {}
      },
      "source": [
        "from inter import intersect, union"
      ],
      "execution_count": 0,
      "outputs": []
    },
    {
      "cell_type": "code",
      "metadata": {
        "id": "x23nw91pvVi9",
        "colab_type": "code",
        "colab": {}
      },
      "source": [
        "s1 = \"SPAM\""
      ],
      "execution_count": 0,
      "outputs": []
    },
    {
      "cell_type": "code",
      "metadata": {
        "id": "Qn2GUv9tvVi-",
        "colab_type": "code",
        "colab": {}
      },
      "source": [
        "s2 = \"SCAM\""
      ],
      "execution_count": 0,
      "outputs": []
    },
    {
      "cell_type": "code",
      "metadata": {
        "id": "nbEpgpapvVi_",
        "colab_type": "code",
        "colab": {}
      },
      "source": [
        "intersect(s1, s2), union(s1, s2)           # strings"
      ],
      "execution_count": 0,
      "outputs": []
    },
    {
      "cell_type": "markdown",
      "metadata": {
        "id": "ObGszTUrvVi_",
        "colab_type": "text"
      },
      "source": [
        "(['S', 'A', 'M'], ['S', 'P', 'A', 'M', 'C'])"
      ]
    },
    {
      "cell_type": "code",
      "metadata": {
        "id": "yFDJkfNVvVi_",
        "colab_type": "code",
        "colab": {}
      },
      "source": [
        "intersect([1,2,3], (1,4))                  # mixed types"
      ],
      "execution_count": 0,
      "outputs": []
    },
    {
      "cell_type": "markdown",
      "metadata": {
        "id": "E8kU-FY8vVjA",
        "colab_type": "text"
      },
      "source": [
        "[1]"
      ]
    },
    {
      "cell_type": "code",
      "metadata": {
        "id": "yNdK4x2_vVjA",
        "colab_type": "code",
        "colab": {}
      },
      "source": [
        "union([1,2,3], (1,4))"
      ],
      "execution_count": 0,
      "outputs": []
    },
    {
      "cell_type": "markdown",
      "metadata": {
        "id": "mb9y5YbyvVjA",
        "colab_type": "text"
      },
      "source": [
        "[1, 2, 3, 4]\n",
        "Supporting multiple operands: *varargs\n",
        "  \n",
        "file: inter2.py\n",
        "def intersect(*args):"
      ]
    },
    {
      "cell_type": "code",
      "metadata": {
        "id": "hqBllHDmvVjA",
        "colab_type": "code",
        "colab": {}
      },
      "source": [
        "res = []\n",
        "for x in args[0]:                  # scan first sequence\n",
        "    for other in args[1:]:         # for all other args\n",
        "        if x not in other: break   # this in each one?\n",
        "    else:\n",
        "        res.append(x)              # add items to end\n",
        "return res"
      ],
      "execution_count": 0,
      "outputs": []
    },
    {
      "cell_type": "markdown",
      "metadata": {
        "id": "ZpAOdpmxvVjB",
        "colab_type": "text"
      },
      "source": [
        "def union(*args):"
      ]
    },
    {
      "cell_type": "code",
      "metadata": {
        "id": "jw3ad-2xvVjB",
        "colab_type": "code",
        "colab": {}
      },
      "source": [
        "res = []\n",
        "for seq in args:                   # for all args\n",
        "    for x in seq:                  # for all nodes\n",
        "        if not x in res:\n",
        "            res.append(x)          # add items to result\n",
        "return res"
      ],
      "execution_count": 0,
      "outputs": []
    },
    {
      "cell_type": "markdown",
      "metadata": {
        "id": "0kFvVpU3vVjC",
        "colab_type": "text"
      },
      "source": [
        "% python"
      ]
    },
    {
      "cell_type": "code",
      "metadata": {
        "id": "7ZZR6ecYvVjD",
        "colab_type": "code",
        "colab": {}
      },
      "source": [
        "from inter2 import intersect, union"
      ],
      "execution_count": 0,
      "outputs": []
    },
    {
      "cell_type": "code",
      "metadata": {
        "id": "UJwvU7-yvVjD",
        "colab_type": "code",
        "colab": {}
      },
      "source": [
        "s1, s2, s3 = \"SPAM\", \"SCAM\", \"SLAM\""
      ],
      "execution_count": 0,
      "outputs": []
    },
    {
      "cell_type": "code",
      "metadata": {
        "id": "wm_Lqxv1vVjF",
        "colab_type": "code",
        "colab": {}
      },
      "source": [
        "intersect(s1, s2), union(s1, s2)           # 2 operands"
      ],
      "execution_count": 0,
      "outputs": []
    },
    {
      "cell_type": "markdown",
      "metadata": {
        "id": "86U6JjbxvVjF",
        "colab_type": "text"
      },
      "source": [
        "(['S', 'A', 'M'], ['S', 'P', 'A', 'M', 'C'])"
      ]
    },
    {
      "cell_type": "code",
      "metadata": {
        "id": "90trlenGvVjF",
        "colab_type": "code",
        "colab": {}
      },
      "source": [
        "intersect([1,2,3], (1,4))"
      ],
      "execution_count": 0,
      "outputs": []
    },
    {
      "cell_type": "markdown",
      "metadata": {
        "id": "P6tDeNvHvVjF",
        "colab_type": "text"
      },
      "source": [
        "[1]"
      ]
    },
    {
      "cell_type": "code",
      "metadata": {
        "id": "7bxeXcdlvVjG",
        "colab_type": "code",
        "colab": {}
      },
      "source": [
        "intersect(s1, s2, s3)                      # 3 operands"
      ],
      "execution_count": 0,
      "outputs": []
    },
    {
      "cell_type": "markdown",
      "metadata": {
        "id": "E5n0vanovVjH",
        "colab_type": "text"
      },
      "source": [
        "['S', 'A', 'M']"
      ]
    },
    {
      "cell_type": "code",
      "metadata": {
        "id": "nM_xfDW6vVjH",
        "colab_type": "code",
        "colab": {}
      },
      "source": [
        "union(s1, s2, s3)"
      ],
      "execution_count": 0,
      "outputs": []
    },
    {
      "cell_type": "markdown",
      "metadata": {
        "id": "56SbE4M0vVjH",
        "colab_type": "text"
      },
      "source": [
        "['S', 'P', 'A', 'M', 'C', 'L']"
      ]
    }
  ]
}