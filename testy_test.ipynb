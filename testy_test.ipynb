{
 "cells": [
  {
   "cell_type": "markdown",
   "metadata": {},
   "source": [
    "5. Functions\n",










    "Why use functions?\n",





    "   * Code reuse\n",

    "   * Procedural decomposition\n",

    "   * Alternative to cut-and-paste: redundancy\n",











    "Function topics\n",





    "   * The basics\n",

    "   * Scope rules\n",

    "   * Argument matching modes\n",

    "   * Odds and ends\n",

    "   * Generator expressions and functions\n",

    "   * Design concepts\n",

    "   * Functions are objects\n",

    "   * Function gotchas\n",








    "Function basics\n",




    "   * def is an executable statement; usually run during import\n",

    "   * def creates a function object and assigns to a name\n",

    "   * return sends a result object back to the caller\n",

    "   * Arguments are passed by object reference (assignment)\n",

    "   * Arguments, return types, and variables are not declared\n",

    "   * Polymorphism: code to object interfaces, not datatypes\n",





    "General form\n",





    "def <name>(arg1, arg2,… argN):"
   ]
  },
  {
   "cell_type": "code",
   "execution_count": null,
   "metadata": {},
   "outputs": [],
   "source": [
    "<statements>\n",

    "return <value>"
   ]
  },
  {
   "cell_type": "markdown",
   "metadata": {},
   "source": [
    "Definition"
   ]
  },
  {
   "cell_type": "code",
   "execution_count": null,
   "metadata": {},
   "outputs": [],
   "source": [
    "def times(x, y):      # create and assign function\n",

    "     return x * y      # body executed when called"
   ]
  },
  {
   "cell_type": "markdown",
   "metadata": {},
   "source": [
    "Calls"
   ]
  },
  {
   "cell_type": "code",
   "execution_count": null,
   "metadata": {},
   "outputs": [],
   "source": [
    "times(2, 4)           # arguments in parenthesis\n"
   ]
  },
  {
   "cell_type": "code",
   "execution_count": null,
   "metadata": {},
   "outputs": [],
   "source": [
    "times('Ni', 4)        # functions are 'typeless'\n"
   ]
  },
  {
   "cell_type": "markdown",
   "metadata": {},
   "source": [
    "“Polymorphism”\n",



    "The meaning of an operation depends on its subject.\n",

    "By not caring about types, code becomes more flexible.\n",

    "Any object with a compatible interface will work.\n",

    "Most errors are best caught by Python, not your code.\n",










    "Example: intersecting sequences\n",







    "   * Definition\n",





    "def intersect(seq1, seq2):"
   ]
  },
  {
   "cell_type": "code",
   "execution_count": null,
   "metadata": {},
   "outputs": [],
   "source": [
    "res = []                     # start empty\n",

    "for x in seq1:               # scan seq1\n",

    "    if x in seq2:            # common item?\n",

    "        res.append(x)        # add to end\n",

    "return res"
   ]
  },
  {
   "cell_type": "markdown",
   "metadata": {},
   "source": [
    "* Calls"
   ]
  },
  {
   "cell_type": "code",
   "execution_count": null,
   "metadata": {},
   "outputs": [],
   "source": [
    "s1 = \"SPAM\""
   ]
  },
  {
   "cell_type": "code",
   "execution_count": null,
   "metadata": {},
   "outputs": [],
   "source": [
    "s2 = \"SCAM\""
   ]
  },
  {
   "cell_type": "code",
   "execution_count": null,
   "metadata": {},
   "outputs": [],
   "source": [
    "intersect(s1, s2)               # strings"
   ]
  },
  {
   "cell_type": "code",
   "execution_count": null,
   "metadata": {},
   "outputs": [],
   "source": [
    "intersect([1, 2, 3], (1, 4))    # mixed types"
   ]
  },
  {
   "cell_type": "markdown",
   "metadata": {},
   "source": [
    "Scope rules in functions\n",




    "   * Enclosing module is a ‘global’ scope\n",

    "   * Each call to a function is a new ‘local’ scope\n",

    "   * Assigned names are local, unless declared “global”\n",

    "   * All other names are global or builtin\n",

    "   * Added in 2.2: ‘nonlocal’ enclosing function locals (if any) searched before global\n",

    "   * Added in 3.X: ‘nonlocal’ variables can be changed if declared, just like ‘globals’\n",







    "Name resolution: the “LEGB” rule\n",



    "   *   References search up to 4 scopes:\n",

    "1.    Local                                   (function)\n",

    "2.    Enclosing functions           (if any)\n",

    "3.    Global                                 (module)\n",

    "4.    Builtin                                 (__builtin__ (2.X), builtins (3.X))\n",

    "   *   Assignments create or change local names by default\n",

    "   *   “global” declarations map assigned names to module\n",







    "Example\n",



    "   * Global names: ‘X’, ‘func’\n",

    "   * Local names: ‘Y’, ‘Z’\n",

    "   * Interactive prompt: module ‘__main__’\n",



    "X = 99            # X and func assigned in module"
   ]
  },
  {
   "cell_type": "markdown",
   "metadata": {},
   "source": [
    "def func(Y):      # Y and Z assigned in function"
   ]
  },
  {
   "cell_type": "code",
   "execution_count": null,
   "metadata": {},
   "outputs": [],
   "source": [
    "Z = X + Y     # X not assigned: global\n",

    "return Z"
   ]
  },
  {
   "cell_type": "markdown",
   "metadata": {},
   "source": [
    "func(1)           # func in module: result=100\n",









    "Enclosing Function Scopes (2.2+)\n",





    "def f1():"
   ]
  },
  {
   "cell_type": "code",
   "execution_count": null,
   "metadata": {},
   "outputs": [],
   "source": [
    "x = 88\n",

    "def f2():\n",

    "    print x         # 2.2: x found in enclosing function\n",

    "f2()"
   ]
  },
  {
   "cell_type": "markdown",
   "metadata": {},
   "source": [
    "f1()                    # prints 88\n",





    "def f1():"
   ]
  },
  {
   "cell_type": "code",
   "execution_count": null,
   "metadata": {},
   "outputs": [],
   "source": [
    "x = 88\n",

    "def f2(x=x):        # before 2.2: pass in values with defaults (ahead)\n",

    "    print x\n",

    "f2()"
   ]
  },
  {
   "cell_type": "markdown",
   "metadata": {},
   "source": [
    "f1()\n",







    "# More useful with lambda (ahead)\n",
    "def func( ):"
   ]
  },
  {
   "cell_type": "code",
   "execution_count": null,
   "metadata": {},
   "outputs": [],
   "source": [
    "x = 42\n",

    "action = (lambda n: x ** n)          # 2.2"
   ]
  },
  {
   "cell_type": "markdown",
   "metadata": {},
   "source": [
    "def func( ):"
   ]
  },
  {
   "cell_type": "code",
   "execution_count": null,
   "metadata": {},
   "outputs": [],
   "source": [
    "x = 42\n",

    "action = (lambda n, x=x: x ** n)     # before 2.2"
   ]
  },
  {
   "cell_type": "markdown",
   "metadata": {},
   "source": [
    "# Most useful for closures: state retention (non-OOP)"
   ]
  },
  {
   "cell_type": "code",
   "execution_count": null,
   "metadata": {},
   "outputs": [],
   "source": [
    "def maker(N):\n",

    "...     def action(X):            # make, don’t call\n",

    "...         return X ** N\n",

    "...     return action             # return new func\n"
   ]
  },
  {
   "cell_type": "code",
   "execution_count": null,
   "metadata": {},
   "outputs": [],
   "source": [
    "f = maker(3)                  # “remembers” 3 (N)"
   ]
  },
  {
   "cell_type": "code",
   "execution_count": null,
   "metadata": {},
   "outputs": [],
   "source": [
    "f(2), f(3)                    # arg to X, not N"
   ]
  },
  {
   "cell_type": "code",
   "execution_count": null,
   "metadata": {},
   "outputs": [],
   "source": [
    "g = maker(4)                  # “remembers” 4 (N)"
   ]
  },
  {
   "cell_type": "code",
   "execution_count": null,
   "metadata": {},
   "outputs": [],
   "source": [
    "g(2), g(3)"
   ]
  },
  {
   "cell_type": "code",
   "execution_count": null,
   "metadata": {},
   "outputs": [],
   "source": [
    "f(2), f(3)                    # f still has 3"
   ]
  },
  {
   "cell_type": "markdown",
   "metadata": {},
   "source": [
    "More on “global”, and 3.X “nonlocal”\n",




    "   * ‘global’ means assigned at top-level of a module file\n",

    "   * Global names must be declared only if assigned\n",

    "   * Global names may be referenced without being declared\n",

    "   * 3.X: “nonlocal X” means X in enclosing def changeable\n",







    "All Pythons\n",



    "y, z = 1, 2         # global variables in module\n",



    "def all_global():"
   ]
  },
  {
   "cell_type": "code",
   "execution_count": null,
   "metadata": {},
   "outputs": [],
   "source": [
    "global x        # declare globals assigned\n",

    "x = y + z       # no need to declare y,z: 3-scope rule"
   ]
  },
  {
   "cell_type": "markdown",
   "metadata": {},
   "source": [
    "Python 3.X Only\n",



    "# enclosing function vars are changeable (state retention)"
   ]
  },
  {
   "cell_type": "code",
   "execution_count": null,
   "metadata": {},
   "outputs": [],
   "source": [
    "def outer():\n",

    "...     x = 1\n",

    "...     def inner():\n",

    "...         nonlocal x\n",

    "...         x += 1\n",

    "...         print(x)\n",

    "...     return inner"
   ]
  },
  {
   "cell_type": "code",
   "execution_count": null,
   "metadata": {},
   "outputs": [],
   "source": [
    "f = outer()      # f is really an inner"
   ]
  },
  {
   "cell_type": "code",
   "execution_count": null,
   "metadata": {},
   "outputs": [],
   "source": [
    "f()\n",
    "```            \n",

    "2\n",

    "```python\n",
    "f()              # each outer() would have own “x”"
   ]
  },
  {
   "cell_type": "markdown",
   "metadata": {},
   "source": [
    "3                    # see “closures” above\n",









    "More on “return”\n",




    "   * Return sends back an object as value of call\n",

    "   * Can return multiple arguments in a tuple\n",

    "   * Can return modified argument name values"
   ]
  },
  {
   "cell_type": "code",
   "execution_count": null,
   "metadata": {},
   "outputs": [],
   "source": [
    "def multiple(x, y):\n",

    "...     x = 2\n",

    "...     y = [3, 4]\n",

    "...     return x, y"
   ]
  },
  {
   "cell_type": "code",
   "execution_count": null,
   "metadata": {},
   "outputs": [],
   "source": [
    "X = 1\n",
    "L = [1, 2]\n",
    "X, L = multiple(X, L)\n",
    "X, L"
   ]
  },
  {
   "cell_type": "markdown",
   "metadata": {},
   "source": [
    "(2, [3, 4])\n",








    "More on argument passing\n",




    "   * Pass by object reference: assign shared object to local name\n",

    "   * In def, assigning to argument name doesn’t effect caller\n",

    "   * In def, changing mutable object argument may impact caller\n",

    "   * Not pass ‘by reference’ (C++), but:"
   ]
  },
  {
   "cell_type": "code",
   "execution_count": null,
   "metadata": {},
   "outputs": [],
   "source": [
    "- Immutables act like ‘by value’ (C)\n",

    "- Mutables act like ‘by pointer’ (C)"
   ]
  },
  {
   "cell_type": "code",
   "execution_count": null,
   "metadata": {},
   "outputs": [],
   "source": [
    "def changer(a, b):\n",

    "...    a = 2             # changes local name's value only\n",

    "...    b[0] = 'spam'     # changes shared object in-place\n"
   ]
  },
  {
   "cell_type": "code",
   "execution_count": null,
   "metadata": {},
   "outputs": [],
   "source": [
    "X = 1\n",
    "L = [1, 2]\n",
    "changer(X, L)\n",
    "X, L"
   ]
  },
  {
   "cell_type": "markdown",
   "metadata": {},
   "source": [
    "(1, ['spam', 2])\n",









    "Equivalent to these assignments:"
   ]
  },
  {
   "cell_type": "code",
   "execution_count": null,
   "metadata": {},
   "outputs": [],
   "source": [
    "X = 1"
   ]
  },
  {
   "cell_type": "code",
   "execution_count": null,
   "metadata": {},
   "outputs": [],
   "source": [
    "a = X           # they share the same object"
   ]
  },
  {
   "cell_type": "code",
   "execution_count": null,
   "metadata": {},
   "outputs": [],
   "source": [
    "a = 2           # resets a only, X is still 1"
   ]
  },
  {
   "cell_type": "code",
   "execution_count": null,
   "metadata": {},
   "outputs": [],
   "source": [
    "L = [1, 2]"
   ]
  },
  {
   "cell_type": "code",
   "execution_count": null,
   "metadata": {},
   "outputs": [],
   "source": [
    "b = L           # they share the same object"
   ]
  },
  {
   "cell_type": "code",
   "execution_count": null,
   "metadata": {},
   "outputs": [],
   "source": [
    "b[0] = 'spam'   # in-place change: L sees the change too"
   ]
  },
  {
   "cell_type": "markdown",
   "metadata": {},
   "source": [
    "Special argument matching modes\n",






    "   * Positional      matched left-to-right in header (normal)\n",

    "   * Keywords      matched by name in header\n",

    "   * Varargs        catch unmatched positional or keyword args\n",

    "   * Defaults        header can provide default argument values\n",

    "   * 3.X: Keyword Only, after “*” in def,  must pass by name\n",











    "Operation\n",

    "Location\n",

    "Interpretation\n",

    "func(value)\n",

    "caller\n",

    "normal argument: matched by position\n",

    "func(name=value)\n",

    "caller\n",

    "keyword argument: matched by name\n",

    "def func(name)\n",

    "function\n",

    "normal argument: matches any by name or position\n",

    "def func(name=value)\n",

    "function\n",

    "default argument value, if not passed in call\n",

    "def func(*name)\n",

    "function\n",

    "matches remaining positional args (tuple)\n",

    "def func(**name)\n",

    "function\n",

    "matches remaining keyword args (dictionary)\n",

    "func(*args, **kargs)\n",

    "caller\n",

    "subsumes old apply(): unpack tuple/dict of args\n",

    "def func(a, *b, c)\n",

    "def func(a, *, c)\n",

    "function\n",

    "3.X keyword-only (c must be passed by name only)\n",







    "About the stars…\n",

    "In Python 3.4 and earlier, the special *X and **X star syntax forms can appear in 3 places:\n",

    "1)     In assignments, where a *X in the recipient collects unmatched items in a new list (3.X sequence assignments)\n",

    "2)     In function headers, where the two forms collect unmatched positional and keyword arguments in a tuple and dict\n",

    "3)     In function calls, where the two forms unpack iterables and dictionaries into individual items (arguments)\n",

    "In Python 3.5 and later, this star syntax is also usable within data structure literals—where it unpacks collections into individual items, like its original use in function calls (#3 above). The unpacking star syntax now also works in lists, tuples, sets, and dictionaries where it unpacks or \"flattens\" another object's contents in-place:"
   ]
  },
  {
   "cell_type": "code",
   "execution_count": null,
   "metadata": {},
   "outputs": [],
   "source": [
    "[x, *iter]      # list:  unpack iter's items\n",

    "(x, *iter, y)   # tuple: ditto (parenthesis or not)\n",

    "{*iter, x}      # set:   ditto (unordered, unique)\n",

    "{x:y, **dict}   # dict:  unpack dict's keys/values)"
   ]
  },
  {
   "cell_type": "markdown",
   "metadata": {},
   "source": [
    "For example, in 3.5+:"
   ]
  },
  {
   "cell_type": "code",
   "execution_count": null,
   "metadata": {},
   "outputs": [],
   "source": [
    "```python\n",
    "x = [1, 2]\n",
    "```\n",

    "```python\n",
    "y = [*x, *x]\n",
    "```\n",

    "```python\n",
    "y\n",
    "```\n",
    "   [1, 2, 1, 2]"
   ]
  },
  {
   "cell_type": "markdown",
   "metadata": {},
   "source": [
    "Examples\n",





    "Positionals and keywords"
   ]
  },
  {
   "cell_type": "code",
   "execution_count": null,
   "metadata": {},
   "outputs": [],
   "source": [
    "def f(a, b, c): print a, b, c"
   ]
  },
  {
   "cell_type": "code",
   "execution_count": null,
   "metadata": {},
   "outputs": [],
   "source": [
    "f(1, 2, 3)"
   ]
  },
  {
   "cell_type": "markdown",
   "metadata": {},
   "source": [
    "1 2 3"
   ]
  },
  {
   "cell_type": "code",
   "execution_count": null,
   "metadata": {},
   "outputs": [],
   "source": [
    "f(c=3, b=2, a=1)"
   ]
  },
  {
   "cell_type": "markdown",
   "metadata": {},
   "source": [
    "1 2 3"
   ]
  },
  {
   "cell_type": "code",
   "execution_count": null,
   "metadata": {},
   "outputs": [],
   "source": [
    "f(1, c=3, b=2)"
   ]
  },
  {
   "cell_type": "markdown",
   "metadata": {},
   "source": [
    "1 2 3\n",





    "Defaults"
   ]
  },
  {
   "cell_type": "code",
   "execution_count": null,
   "metadata": {},
   "outputs": [],
   "source": [
    "def f(a, b=2, c=3): print a, b, c"
   ]
  },
  {
   "cell_type": "code",
   "execution_count": null,
   "metadata": {},
   "outputs": [],
   "source": [
    "f(1)"
   ]
  },
  {
   "cell_type": "markdown",
   "metadata": {},
   "source": [
    "1 2 3"
   ]
  },
  {
   "cell_type": "code",
   "execution_count": null,
   "metadata": {},
   "outputs": [],
   "source": [
    "f(1, 4, 5)"
   ]
  },
  {
   "cell_type": "markdown",
   "metadata": {},
   "source": [
    "1 4 5"
   ]
  },
  {
   "cell_type": "code",
   "execution_count": null,
   "metadata": {},
   "outputs": [],
   "source": [
    "f(1, c=6)"
   ]
  },
  {
   "cell_type": "markdown",
   "metadata": {},
   "source": [
    "1 2 6\n",





    "Arbitrary positionals"
   ]
  },
  {
   "cell_type": "code",
   "execution_count": null,
   "metadata": {},
   "outputs": [],
   "source": [
    "def f(*args): print args"
   ]
  },
  {
   "cell_type": "code",
   "execution_count": null,
   "metadata": {},
   "outputs": [],
   "source": [
    "f(1)"
   ]
  },
  {
   "cell_type": "markdown",
   "metadata": {},
   "source": [
    "(1,)"
   ]
  },
  {
   "cell_type": "code",
   "execution_count": null,
   "metadata": {},
   "outputs": [],
   "source": [
    "f(1,2,3,4)"
   ]
  },
  {
   "cell_type": "markdown",
   "metadata": {},
   "source": [
    "(1, 2, 3, 4)\n",





    "Arbitrary keywords"
   ]
  },
  {
   "cell_type": "code",
   "execution_count": null,
   "metadata": {},
   "outputs": [],
   "source": [
    "def f(**args): print args"
   ]
  },
  {
   "cell_type": "code",
   "execution_count": null,
   "metadata": {},
   "outputs": [],
   "source": [
    "f()"
   ]
  },
  {
   "cell_type": "markdown",
   "metadata": {},
   "source": [
    "{}"
   ]
  },
  {
   "cell_type": "code",
   "execution_count": null,
   "metadata": {},
   "outputs": [],
   "source": [
    "f(a=1, b=2)"
   ]
  },
  {
   "cell_type": "markdown",
   "metadata": {},
   "source": [
    "{'a': 1, 'b': 2}"
   ]
  },
  {
   "cell_type": "code",
   "execution_count": null,
   "metadata": {},
   "outputs": [],
   "source": [
    "def f(a, *pargs, **kargs): print a, pargs, kargs"
   ]
  },
  {
   "cell_type": "code",
   "execution_count": null,
   "metadata": {},
   "outputs": [],
   "source": [
    "f(1, 2, 3, x=1, y=2)"
   ]
  },
  {
   "cell_type": "markdown",
   "metadata": {},
   "source": [
    "1 (2, 3) {'y': 2, 'x': 1}\n",









    "Example: min value functions\n",









    "Example\n",



    "   *   Only deals with matching: still passed by assignment\n",

    "   *   Defaults retain an object: may change if mutable\n",





    "def func(spam, eggs, toast=0, ham=0):   # first 2 required"
   ]
  },
  {
   "cell_type": "code",
   "execution_count": null,
   "metadata": {},
   "outputs": [],
   "source": [
    "print (spam, eggs, toast, ham)"
   ]
  },
  {
   "cell_type": "markdown",
   "metadata": {},
   "source": [
    "func(1, 2)                      # output: (1, 2, 0, 0)\n",

    "func(1, ham=1, eggs=0)          # output: (1, 0, 0, 1)\n",

    "func(spam=1, eggs=0)            # output: (1, 0, 0, 0)\n",

    "func(toast=1, eggs=2, spam=3)   # output: (3, 2, 1, 0)\n",

    "func(1, 2, 3, 4)                # output: (1, 2, 3, 4)\n",











    "Ordering rules\n",



    "   * Call: keyword arguments after non-keyword arguments\n",

    "   * Header: normals, then defaults, then *name, then **name\n",









    "Matching algorithm (see exercise)\n",



    "1.   Assign non-keyword arguments by position\n",

    "2.   Assign keyword arguments by matching names\n",

    "3.   Assign extra non-keyword arguments to *name tuple\n",

    "4.   Assign extra keyword arguments to **name dictionary\n",

    "5.   Unassigned arguments in header assigned default values\n",










    "Odds and ends\n",




    "   * lambda expression creates anonymous functions\n",

    "   * list comprehensions, map, filter apply expressions to sequences (see also prior unit)\n",

    "   * Generator expressions (2.4+)\n",

    "   * Generator functions and yield (new in 2.2, 2.3)\n",

    "   * apply function calls functions with arguments tuple\n",

    "   * Functions return ‘None’ if they don’t use a real ‘return’\n",

    "   * Python 3.X function annotations and keyword arguments\n",









    "■    Lambda expressions"
   ]
  },
  {
   "cell_type": "code",
   "execution_count": null,
   "metadata": {},
   "outputs": [],
   "source": [
    "def func(x, y, z): return x + y + z"
   ]
  },
  {
   "cell_type": "markdown",
   "metadata": {},
   "source": [
    "..."
   ]
  },
  {
   "cell_type": "code",
   "execution_count": null,
   "metadata": {},
   "outputs": [],
   "source": [
    "func(2, 3, 4)"
   ]
  },
  {
   "cell_type": "markdown",
   "metadata": {},
   "source": [
    "9"
   ]
  },
  {
   "cell_type": "code",
   "execution_count": null,
   "metadata": {},
   "outputs": [],
   "source": [
    "f = lambda x, y, z: x + y + z"
   ]
  },
  {
   "cell_type": "code",
   "execution_count": null,
   "metadata": {},
   "outputs": [],
   "source": [
    "f(2, 3, 4)"
   ]
  },
  {
   "cell_type": "markdown",
   "metadata": {},
   "source": [
    "9\n",







    "hint: embedding logic in a lambda body\n",



    "(A and B) or C\n",



    "((A and [B]) or [C])[0]        # or newer: B if A else C\n",



    "hint: embedding loops in a lambda body...next topic\n",













    "■    List comprehensions (added in 2.0)\n",



    "(See also prior unit)"
   ]
  },
  {
   "cell_type": "code",
   "execution_count": null,
   "metadata": {},
   "outputs": [],
   "source": [
    "ord('s')"
   ]
  },
  {
   "cell_type": "markdown",
   "metadata": {},
   "source": [
    "115"
   ]
  },
  {
   "cell_type": "code",
   "execution_count": null,
   "metadata": {},
   "outputs": [],
   "source": [
    "res = []"
   ]
  },
  {
   "cell_type": "code",
   "execution_count": null,
   "metadata": {},
   "outputs": [],
   "source": [
    "for x in 'spam': res.append(ord(x))"
   ]
  },
  {
   "cell_type": "markdown",
   "metadata": {},
   "source": [
    "..."
   ]
  },
  {
   "cell_type": "code",
   "execution_count": null,
   "metadata": {},
   "outputs": [],
   "source": [
    "res"
   ]
  },
  {
   "cell_type": "markdown",
   "metadata": {},
   "source": [
    "[115, 112, 97, 109]"
   ]
  },
  {
   "cell_type": "code",
   "execution_count": null,
   "metadata": {},
   "outputs": [],
   "source": [
    "map(ord, 'spam')              # apply func to sequence"
   ]
  },
  {
   "cell_type": "markdown",
   "metadata": {},
   "source": [
    "[115, 112, 97, 109]"
   ]
  },
  {
   "cell_type": "code",
   "execution_count": null,
   "metadata": {},
   "outputs": [],
   "source": [
    "[ord(x) for x in 'spam']      # apply expr to sequence"
   ]
  },
  {
   "cell_type": "markdown",
   "metadata": {},
   "source": [
    "[115, 112, 97, 109]\n",





    "# adding arbitrary expressions"
   ]
  },
  {
   "cell_type": "code",
   "execution_count": null,
   "metadata": {},
   "outputs": [],
   "source": [
    "[x ** 2 for x in range(10)]"
   ]
  },
  {
   "cell_type": "markdown",
   "metadata": {},
   "source": [
    "[0, 1, 4, 9, 16, 25, 36, 49, 64, 81]"
   ]
  },
  {
   "cell_type": "code",
   "execution_count": null,
   "metadata": {},
   "outputs": [],
   "source": [
    "map((lambda x: x**2), range(10))"
   ]
  },
  {
   "cell_type": "markdown",
   "metadata": {},
   "source": [
    "[0, 1, 4, 9, 16, 25, 36, 49, 64, 81]"
   ]
  },
  {
   "cell_type": "code",
   "execution_count": null,
   "metadata": {},
   "outputs": [],
   "source": [
    "lines = [line[:-1] for line in open('README.txt')]"
   ]
  },
  {
   "cell_type": "code",
   "execution_count": null,
   "metadata": {},
   "outputs": [],
   "source": [
    "lines[:2]"
   ]
  },
  {
   "cell_type": "markdown",
   "metadata": {},
   "source": [
    "['This is Python version 2.4 alpha 3', '==================================']\n",





    "# adding if tests"
   ]
  },
  {
   "cell_type": "code",
   "execution_count": null,
   "metadata": {},
   "outputs": [],
   "source": [
    "[x for x in range(10) if x % 2 == 0]"
   ]
  },
  {
   "cell_type": "markdown",
   "metadata": {},
   "source": [
    "[0, 2, 4, 6, 8]"
   ]
  },
  {
   "cell_type": "code",
   "execution_count": null,
   "metadata": {},
   "outputs": [],
   "source": [
    "filter((lambda x: x % 2 == 0), range(10))"
   ]
  },
  {
   "cell_type": "markdown",
   "metadata": {},
   "source": [
    "[0, 2, 4, 6, 8]\n",





    "# advanced usage"
   ]
  },
  {
   "cell_type": "code",
   "execution_count": null,
   "metadata": {},
   "outputs": [],
   "source": [
    "[x**2 for x in range(10) if x % 2 == 0]"
   ]
  },
  {
   "cell_type": "markdown",
   "metadata": {},
   "source": [
    "[0, 4, 16, 36, 64]"
   ]
  },
  {
   "cell_type": "code",
   "execution_count": null,
   "metadata": {},
   "outputs": [],
   "source": [
    "[x+y for x in 'abc' for y in 'lmn']"
   ]
  },
  {
   "cell_type": "markdown",
   "metadata": {},
   "source": [
    "['al', 'am', 'an', 'bl', 'bm', 'bn', 'cl', 'cm', 'cn']"
   ]
  },
  {
   "cell_type": "code",
   "execution_count": null,
   "metadata": {},
   "outputs": [],
   "source": [
    "res = []"
   ]
  },
  {
   "cell_type": "code",
   "execution_count": null,
   "metadata": {},
   "outputs": [],
   "source": [
    "for x in 'abc':\n",

    "...    for y in 'lmn':\n",

    "...       res.append(x+y)\n",

    "..."
   ]
  },
  {
   "cell_type": "code",
   "execution_count": null,
   "metadata": {},
   "outputs": [],
   "source": [
    "res"
   ]
  },
  {
   "cell_type": "markdown",
   "metadata": {},
   "source": [
    "['al', 'am', 'an', 'bl', 'bm', 'bn', 'cl', 'cm', 'cn']\n",





    "# nice for matrixes"
   ]
  },
  {
   "cell_type": "code",
   "execution_count": null,
   "metadata": {},
   "outputs": [],
   "source": [
    "M = [[1, 2, 3],\n",

    "         [4, 5, 6],\n",

    "         [7, 8, 9]]"
   ]
  },
  {
   "cell_type": "code",
   "execution_count": null,
   "metadata": {},
   "outputs": [],
   "source": [
    "M[1]"
   ]
  },
  {
   "cell_type": "markdown",
   "metadata": {},
   "source": [
    "[4, 5, 6]"
   ]
  },
  {
   "cell_type": "code",
   "execution_count": null,
   "metadata": {},
   "outputs": [],
   "source": [
    "col2 = [row[1] for row in M]"
   ]
  },
  {
   "cell_type": "code",
   "execution_count": null,
   "metadata": {},
   "outputs": [],
   "source": [
    "col2"
   ]
  },
  {
   "cell_type": "markdown",
   "metadata": {},
   "source": [
    "[2, 5, 8]"
   ]
  },
  {
   "cell_type": "code",
   "execution_count": null,
   "metadata": {},
   "outputs": [],
   "source": [
    "quad = [M[i][j] for i in (0,1) for j in (0, 1)]"
   ]
  },
  {
   "cell_type": "code",
   "execution_count": null,
   "metadata": {},
   "outputs": [],
   "source": [
    "quad"
   ]
  },
  {
   "cell_type": "markdown",
   "metadata": {},
   "source": [
    "[1, 2, 4, 5]\n",





    "List comprehensions can become incomprehensible when nested, but map and list comprehensions may be faster than simple for loops\n",



    "(In 2.4, comprehensions are twice as fast as for loops, and for loops are now quicker than map: see middle of this page, and CD’s Extras\\Code\\Misc\\timerseqs.py)\n",













    "■    Generator expressions (2.4+)\n",



    "# list comprehensions generate entire list in memory"
   ]
  },
  {
   "cell_type": "code",
   "execution_count": null,
   "metadata": {},
   "outputs": [],
   "source": [
    "squares = [x**2 for x in range(5)]"
   ]
  },
  {
   "cell_type": "code",
   "execution_count": null,
   "metadata": {},
   "outputs": [],
   "source": [
    "squares"
   ]
  },
  {
   "cell_type": "markdown",
   "metadata": {},
   "source": [
    "[0, 1, 4, 9, 16]\n",





    "# generator expressions yield 1 result at a time: saves memory, distributes work"
   ]
  },
  {
   "cell_type": "code",
   "execution_count": null,
   "metadata": {},
   "outputs": [],
   "source": [
    "squares = (x**2 for x in range(5))"
   ]
  },
  {
   "cell_type": "code",
   "execution_count": null,
   "metadata": {},
   "outputs": [],
   "source": [
    "squares"
   ]
  },
  {
   "cell_type": "markdown",
   "metadata": {},
   "source": [
    "<generator object at 0x00B2EC88>"
   ]
  },
  {
   "cell_type": "code",
   "execution_count": null,
   "metadata": {},
   "outputs": [],
   "source": [
    "next(squares)"
   ]
  },
  {
   "cell_type": "markdown",
   "metadata": {},
   "source": [
    "0"
   ]
  },
  {
   "cell_type": "code",
   "execution_count": null,
   "metadata": {},
   "outputs": [],
   "source": [
    "next(squares)"
   ]
  },
  {
   "cell_type": "markdown",
   "metadata": {},
   "source": [
    "1"
   ]
  },
  {
   "cell_type": "code",
   "execution_count": null,
   "metadata": {},
   "outputs": [],
   "source": [
    "next(squares)"
   ]
  },
  {
   "cell_type": "markdown",
   "metadata": {},
   "source": [
    "4"
   ]
  },
  {
   "cell_type": "code",
   "execution_count": null,
   "metadata": {},
   "outputs": [],
   "source": [
    "list(squares)"
   ]
  },
  {
   "cell_type": "markdown",
   "metadata": {},
   "source": [
    "[9, 16]\n",





    "# iteration contexts automatically call next()"
   ]
  },
  {
   "cell_type": "code",
   "execution_count": null,
   "metadata": {},
   "outputs": [],
   "source": [
    "for x in (x**2 for x in range(5)):\n",

    "        print x,\n",

    "```    \n",

    "0 1 4 9 16\n",



    "```python\n",
    "sum(x**2 for x in range(5))"
   ]
  },
  {
   "cell_type": "markdown",
   "metadata": {},
   "source": [
    "30\n",













    "■    Generator functions and yield\n",

    "Generators implement iteration protocol: .next() (3.X .__next__())\n",

    "Retains local scope when suspended\n",

    "Distributes work over time, may save memory (see also: threads)\n",

    "Related: generator expressions, enumerate function, file iterators\n",





    "# functions compiled specially when contain yield"
   ]
  },
  {
   "cell_type": "code",
   "execution_count": null,
   "metadata": {},
   "outputs": [],
   "source": [
    "def gensquares(N):\n",

    "...     for i in range(N):         # suspends and resumes itself\n",

    "...         yield i ** 2           # <- return value and resume here later\n",

    " ```\n",





    "# generator objects support iteration protocol: next()\n",



    "```python\n",
    "x = gensquares(10)"
   ]
  },
  {
   "cell_type": "code",
   "execution_count": null,
   "metadata": {},
   "outputs": [],
   "source": [
    "x                              # also retain all local variables between calls"
   ]
  },
  {
   "cell_type": "markdown",
   "metadata": {},
   "source": [
    "<generator object at 0x0086C378>   # classes define __iter__ to return iter object"
   ]
  },
  {
   "cell_type": "code",
   "execution_count": null,
   "metadata": {},
   "outputs": [],
   "source": [
    "next(x)"
   ]
  },
  {
   "cell_type": "markdown",
   "metadata": {},
   "source": [
    "0"
   ]
  },
  {
   "cell_type": "code",
   "execution_count": null,
   "metadata": {},
   "outputs": [],
   "source": [
    "next(x)"
   ]
  },
  {
   "cell_type": "markdown",
   "metadata": {},
   "source": [
    "1"
   ]
  },
  {
   "cell_type": "code",
   "execution_count": null,
   "metadata": {},
   "outputs": [],
   "source": [
    "next(x)"
   ]
  },
  {
   "cell_type": "markdown",
   "metadata": {},
   "source": [
    "4\n",

    "…"
   ]
  },
  {
   "cell_type": "code",
   "execution_count": null,
   "metadata": {},
   "outputs": [],
   "source": [
    "next(x)"
   ]
  },
  {
   "cell_type": "markdown",
   "metadata": {},
   "source": [
    "…StopIteration exception raised at end…\n",







    "# for loops (and others) automatically call next()"
   ]
  },
  {
   "cell_type": "code",
   "execution_count": null,
   "metadata": {},
   "outputs": [],
   "source": [
    "for i in gensquares(5):        # resume the function each time\n",

    "...     print i, ':',              # print last yielded value\n",

    "..."
   ]
  },
  {
   "cell_type": "markdown",
   "metadata": {},
   "source": [
    "0 : 1 : 4 : 9 : 16 :\n",







    "# (advanced) application to coroutines via task switchers\n",





    "►See Extras\\Code\\Misc\\asynch1.py\n",





    "# (advanced) generators, through the years…\n",





    "►See Extras\\Code\\Misc\\gendemo.py\n",



    "Original\n",

    "def with yield statement supports iteration protocol, returning yielded value for next()\n",

    "In 2.5+\n",

    "caller can resume generator and pass it value via G.send(X): result of “yield” expression\n",

    "In 3.3+\n",

    "“return” value allowed in generators: attached to exception, result of “yield from” expression\n",

    "In 3.5+\n",

    "“async” and “await” distinguish some coroutine roles, similar to “yield from”\n",







    "More on generators and coroutines:\n",

    "Coroutines in Python have morphed repeatedly—from yield, to 2.5’s yield/send, to 3.3’s yield from, and to 3.5’s async/await.  The latter of these tries to cast coroutines as distinct from generators, yet describes them as specialized generators, and provides linkage between new (“native”) and prior (“generator-based”) coroutines.  Either way, coroutines are an application-level topic—they’re just one asynchronous scheme in the concurrent programming domain, which also includes arguably more general threads and processes.  Because they are also of limited interest, we’ll punt here; see other resources and this review for more details on this obscure (and volatile!) corner of the Python language.\n",













    "■    Apply built-in (2.X only) and syntax (all Pys)"
   ]
  },
  {
   "cell_type": "code",
   "execution_count": null,
   "metadata": {},
   "outputs": [],
   "source": [
    "def func(a, b, c):\n",

    "        return a + b + c"
   ]
  },
  {
   "cell_type": "code",
   "execution_count": null,
   "metadata": {},
   "outputs": [],
   "source": [
    "apply(func, (2, 3, 4))         # 2.X only"
   ]
  },
  {
   "cell_type": "markdown",
   "metadata": {},
   "source": [
    "9"
   ]
  },
  {
   "cell_type": "code",
   "execution_count": null,
   "metadata": {},
   "outputs": [],
   "source": [
    "apply(func, (2, 3), {'c': 4})"
   ]
  },
  {
   "cell_type": "markdown",
   "metadata": {},
   "source": [
    "9\n",





    "Versus Python 2.0+ apply-like call syntax\n",



    "func(*a)        …like…   apply(func, a)\n",

    "func(*a, **b)   …like…   apply(func, a, b)"
   ]
  },
  {
   "cell_type": "code",
   "execution_count": null,
   "metadata": {},
   "outputs": [],
   "source": [
    "func(*(2, 3, 4))"
   ]
  },
  {
   "cell_type": "markdown",
   "metadata": {},
   "source": [
    "9"
   ]
  },
  {
   "cell_type": "code",
   "execution_count": null,
   "metadata": {},
   "outputs": [],
   "source": [
    "func(*(2, 3), **{'c': 4})     # 2.X and 3.X"
   ]
  },
  {
   "cell_type": "markdown",
   "metadata": {},
   "source": [
    "9\n",



    "# call syntax is more flexible:"
   ]
  },
  {
   "cell_type": "code",
   "execution_count": null,
   "metadata": {},
   "outputs": [],
   "source": [
    "def func(a, b, c, d): return a + b + c + d"
   ]
  },
  {
   "cell_type": "code",
   "execution_count": null,
   "metadata": {},
   "outputs": [],
   "source": [
    "args1 = (1, 2)"
   ]
  },
  {
   "cell_type": "code",
   "execution_count": null,
   "metadata": {},
   "outputs": [],
   "source": [
    "args2 = {'c': 3, 'd': 4}"
   ]
  },
  {
   "cell_type": "code",
   "execution_count": null,
   "metadata": {},
   "outputs": [],
   "source": [
    "func(*args1, **args2)"
   ]
  },
  {
   "cell_type": "markdown",
   "metadata": {},
   "source": [
    "10"
   ]
  },
  {
   "cell_type": "code",
   "execution_count": null,
   "metadata": {},
   "outputs": [],
   "source": [
    "func(1, *(2,), **args2)"
   ]
  },
  {
   "cell_type": "markdown",
   "metadata": {},
   "source": [
    "10\n",





    "See also: “About the stars” sidebar above\n",













    "■    Default return values"
   ]
  },
  {
   "cell_type": "code",
   "execution_count": null,
   "metadata": {},
   "outputs": [],
   "source": [
    "def proc(x):\n",

    "...     print x"
   ]
  },
  {
   "cell_type": "markdown",
   "metadata": {},
   "source": [
    "..."
   ]
  },
  {
   "cell_type": "code",
   "execution_count": null,
   "metadata": {},
   "outputs": [],
   "source": [
    "x = proc('testing 123...')"
   ]
  },
  {
   "cell_type": "markdown",
   "metadata": {},
   "source": [
    "testing 123..."
   ]
  },
  {
   "cell_type": "code",
   "execution_count": null,
   "metadata": {},
   "outputs": [],
   "source": [
    "print x"
   ]
  },
  {
   "cell_type": "markdown",
   "metadata": {},
   "source": [
    "None\n",













    "■    Python 3.X function annotations"
   ]
  },
  {
   "cell_type": "code",
   "execution_count": null,
   "metadata": {},
   "outputs": [],
   "source": [
    "def func(a: int, b: 'spam', c: 88 = 99) -> float:\n",

    "...     print(a, b, c)\n",

    "..."
   ]
  },
  {
   "cell_type": "code",
   "execution_count": null,
   "metadata": {},
   "outputs": [],
   "source": [
    "func(1, 2)\n",

    "1 2 99\n",

    "```python\n",
    "func.__annotations__"
   ]
  },
  {
   "cell_type": "markdown",
   "metadata": {},
   "source": [
    "{'b': 'spam', 'return': <class 'float'>, 'a': <class 'int'>, 'c': 88}\n",













    "■    Python 3.X keyword-only arguments"
   ]
  },
  {
   "cell_type": "code",
   "execution_count": null,
   "metadata": {},
   "outputs": [],
   "source": [
    "def f(a, b, *, c=3, d): print(a, b, c, d)"
   ]
  },
  {
   "cell_type": "markdown",
   "metadata": {},
   "source": [
    "..."
   ]
  },
  {
   "cell_type": "code",
   "execution_count": null,
   "metadata": {},
   "outputs": [],
   "source": [
    "f(1, 2)"
   ]
  },
  {
   "cell_type": "markdown",
   "metadata": {},
   "source": [
    "TypeError: f() missing 1 required keyword-only argument: 'd'"
   ]
  },
  {
   "cell_type": "code",
   "execution_count": null,
   "metadata": {},
   "outputs": [],
   "source": [
    "f(1, 2, 3)"
   ]
  },
  {
   "cell_type": "markdown",
   "metadata": {},
   "source": [
    "TypeError: f() takes 2 positional arguments but 3 were given"
   ]
  },
  {
   "cell_type": "code",
   "execution_count": null,
   "metadata": {},
   "outputs": [],
   "source": [
    "f(1, 2, d=4)"
   ]
  },
  {
   "cell_type": "markdown",
   "metadata": {},
   "source": [
    "1 2 3 4"
   ]
  },
  {
   "cell_type": "code",
   "execution_count": null,
   "metadata": {},
   "outputs": [],
   "source": [
    "f(1, 2, c=3, d=4)"
   ]
  },
  {
   "cell_type": "markdown",
   "metadata": {},
   "source": [
    "1 2 3 4\n",














    "Function design concepts\n",




    "   * Use global variables only when absolutely necessary\n",

    "   * Use arguments for input, ‘return’ for outputs\n",

    "   * Don’t change mutable arguments unless expected\n",

    "   * But globals are only state-retention tool without classes\n",

    "   * But classes depend on mutable arguments (‘self’)\n",




















    "Functions are objects: indirect calls\n",




    "   * Function objects can be assigned, passed, etc.\n",

    "   * Can call objects generically: function, bound method, ...\n",



    "def echo(message): print message\n",

    "x = echo\n",

    "x('Hello world!')\n",



    "def indirect(func, arg):"
   ]
  },
  {
   "cell_type": "code",
   "execution_count": null,
   "metadata": {},
   "outputs": [],
   "source": [
    "func(arg)"
   ]
  },
  {
   "cell_type": "markdown",
   "metadata": {},
   "source": [
    "indirect(echo, 'Hello world!')\n",



    "schedule = [ (echo, 'Hello!'), (echo, 'Ni!') ]\n",

    "for (func, arg) in schedule:"
   ]
  },
  {
   "cell_type": "code",
   "execution_count": null,
   "metadata": {},
   "outputs": [],
   "source": [
    "func(arg)"
   ]
  },
  {
   "cell_type": "markdown",
   "metadata": {},
   "source": [
    "File scanners\n",





    "file: scanfile.py\n",

    "def scanner(name, function):"
   ]
  },
  {
   "cell_type": "code",
   "execution_count": null,
   "metadata": {},
   "outputs": [],
   "source": [
    "file = open(name, 'r')          # create file\n",

    "for line in file.readlines():\n",

    "    function(line)              # call function\n",

    "file.close()"
   ]
  },
  {
   "cell_type": "markdown",
   "metadata": {},
   "source": [
    "file: commands.py\n",

    "import string\n",

    "from scanfile import scanner\n",



    "def processLine(line):"
   ]
  },
  {
   "cell_type": "code",
   "execution_count": null,
   "metadata": {},
   "outputs": [],
   "source": [
    "print string.upper(line)"
   ]
  },
  {
   "cell_type": "markdown",
   "metadata": {},
   "source": [
    "scanner(\"data.txt\", processLine)    # start scanner\n",








    "Function gotchas\n",






    "Local names are detected statically\n",



    "# cant use both local+global version of name, unless reference through module"
   ]
  },
  {
   "cell_type": "code",
   "execution_count": null,
   "metadata": {},
   "outputs": [],
   "source": [
    "X = 99"
   ]
  },
  {
   "cell_type": "code",
   "execution_count": null,
   "metadata": {},
   "outputs": [],
   "source": [
    "def selector():        # X used but not assigned\n",

    "...     print X            # X found in global scope\n",

    "..."
   ]
  },
  {
   "cell_type": "code",
   "execution_count": null,
   "metadata": {},
   "outputs": [],
   "source": [
    "selector()"
   ]
  },
  {
   "cell_type": "markdown",
   "metadata": {},
   "source": [
    "99"
   ]
  },
  {
   "cell_type": "code",
   "execution_count": null,
   "metadata": {},
   "outputs": [],
   "source": [
    "def selector():\n",

    "...     print X            # does not yet exist!\n",

    "...     X = 88             # X classified as a local name"
   ]
  },
  {
   "cell_type": "markdown",
   "metadata": {},
   "source": [
    "..."
   ]
  },
  {
   "cell_type": "code",
   "execution_count": null,
   "metadata": {},
   "outputs": [],
   "source": [
    "selector()"
   ]
  },
  {
   "cell_type": "markdown",
   "metadata": {},
   "source": [
    "Traceback (innermost last):\n",

    "  File \"<stdin>\", line 1, in ?\n",

    "  File \"<stdin>\", line 2, in selector\n",

    "NameError: X"
   ]
  },
  {
   "cell_type": "code",
   "execution_count": null,
   "metadata": {},
   "outputs": [],
   "source": [
    "def selector():\n",

    "...     global X           # force X to be global\n",

    "...     print X\n",

    "...     X = 88\n",

    "..."
   ]
  },
  {
   "cell_type": "code",
   "execution_count": null,
   "metadata": {},
   "outputs": [],
   "source": [
    "selector()\n",

    "99\n",









    "Mutable defaults created just once\n",



    "# to avoid: check for None inside def and set to [] if so\n",



    "```python\n",
    "def grow(A, B=[]):\n",

    "        B.append(A)\n",

    "        return B"
   ]
  },
  {
   "cell_type": "code",
   "execution_count": null,
   "metadata": {},
   "outputs": [],
   "source": [
    "grow(1)"
   ]
  },
  {
   "cell_type": "markdown",
   "metadata": {},
   "source": [
    "[1]"
   ]
  },
  {
   "cell_type": "code",
   "execution_count": null,
   "metadata": {},
   "outputs": [],
   "source": [
    "grow(1)"
   ]
  },
  {
   "cell_type": "markdown",
   "metadata": {},
   "source": [
    "[1, 1]"
   ]
  },
  {
   "cell_type": "code",
   "execution_count": null,
   "metadata": {},
   "outputs": [],
   "source": [
    "grow(1)"
   ]
  },
  {
   "cell_type": "markdown",
   "metadata": {},
   "source": [
    "[1, 1, 1]\n",








    "Nested functions weren’t nested scopes\n",



    "# this works as of 2.2 – enclosing function scopes!"
   ]
  },
  {
   "cell_type": "code",
   "execution_count": null,
   "metadata": {},
   "outputs": [],
   "source": [
    "def outer(x):\n",

    "...     def inner(i):          # assign in outer’s local\n",

    "...         print i,           # i is in inner’s local\n",

    "...         if i: inner(i-1)   # not in my local or global!\n",

    "...     inner(x)"
   ]
  },
  {
   "cell_type": "markdown",
   "metadata": {},
   "source": [
    "..."
   ]
  },
  {
   "cell_type": "code",
   "execution_count": null,
   "metadata": {},
   "outputs": [],
   "source": [
    "outer(3)"
   ]
  },
  {
   "cell_type": "markdown",
   "metadata": {},
   "source": [
    "3\n",

    "Traceback (innermost last):\n",

    "  File \"<stdin>\", line 1, in ?\n",

    "  File \"<stdin>\", line 6, in outer\n",

    "  File \"<stdin>\", line 5, in inner\n",

    "NameError: inner"
   ]
  },
  {
   "cell_type": "code",
   "execution_count": null,
   "metadata": {},
   "outputs": [],
   "source": [
    "def outer(x):\n",

    "...     global inner\n",

    "...     def inner(i):          # assign in enclosing module\n",

    "...         print i,\n",

    "...         if i: inner(i-1)   # found in my global scope\n",

    "...     inner(x)"
   ]
  },
  {
   "cell_type": "markdown",
   "metadata": {},
   "source": [
    "..."
   ]
  },
  {
   "cell_type": "code",
   "execution_count": null,
   "metadata": {},
   "outputs": [],
   "source": [
    "outer(3)"
   ]
  },
  {
   "cell_type": "markdown",
   "metadata": {},
   "source": [
    "3 2 1 0\n",









    "Use defaults to save references\n",



    "# normally no longer necessary as of 2.2: enclosing function scopes\n",

    "# BUT still required to retain current value of loop variables!"
   ]
  },
  {
   "cell_type": "code",
   "execution_count": null,
   "metadata": {},
   "outputs": [],
   "source": [
    "def outer(x, y):\n",

    "        def inner():\n",

    "            return x ** y\n",

    "        return inner"
   ]
  },
  {
   "cell_type": "code",
   "execution_count": null,
   "metadata": {},
   "outputs": [],
   "source": [
    "x = outer(2, 4)"
   ]
  },
  {
   "cell_type": "code",
   "execution_count": null,
   "metadata": {},
   "outputs": [],
   "source": [
    "x()"
   ]
  },
  {
   "cell_type": "markdown",
   "metadata": {},
   "source": [
    "16\n",





    "# code before 2.2"
   ]
  },
  {
   "cell_type": "code",
   "execution_count": null,
   "metadata": {},
   "outputs": [],
   "source": [
    "def outer(x, y):\n",

    "...     def inner(a=x, b=y):     # save x,y bindings/objects\n",

    "...         return a**b          # from the enclosing scope\n",

    "...     return inner"
   ]
  },
  {
   "cell_type": "markdown",
   "metadata": {},
   "source": [
    "..."
   ]
  },
  {
   "cell_type": "code",
   "execution_count": null,
   "metadata": {},
   "outputs": [],
   "source": [
    "x = outer(2, 4)"
   ]
  },
  {
   "cell_type": "code",
   "execution_count": null,
   "metadata": {},
   "outputs": [],
   "source": [
    "x()"
   ]
  },
  {
   "cell_type": "markdown",
   "metadata": {},
   "source": [
    "16"
   ]
  },
  {
   "cell_type": "code",
   "execution_count": null,
   "metadata": {},
   "outputs": [],
   "source": [
    "def outer(x, y):\n",

    "...     return lambda a=x, b=y: a**b\n",

    "..."
   ]
  },
  {
   "cell_type": "code",
   "execution_count": null,
   "metadata": {},
   "outputs": [],
   "source": [
    "y = outer(2, 5)\n",

    "```python\n",
    "y()"
   ]
  },
  {
   "cell_type": "markdown",
   "metadata": {},
   "source": [
    "32\n",





    "for I in someiterable:"
   ]
  },
  {
   "cell_type": "code",
   "execution_count": null,
   "metadata": {},
   "outputs": [],
   "source": [
    "actions.append(lambda I=I: …)  # retain current I, not last!"
   ]
  },
  {
   "cell_type": "markdown",
   "metadata": {},
   "source": [
    "Optional reading: set functions\n",




    "   * Functions process passed-in sequence objects\n",

    "   * Work on any type of sequence objects\n",

    "   * Supports mixed types: list and tuple, etc.\n",





    "file: inter.py\n",



    "def intersect(seq1, seq2):"
   ]
  },
  {
   "cell_type": "code",
   "execution_count": null,
   "metadata": {},
   "outputs": [],
   "source": [
    "res = []                     # start with an empty list\n",

    "for x in seq1:               # scan the first sequence\n",

    "    if x in seq2:\n",

    "        res.append(x)        # add common items to end\n",

    "return res"
   ]
  },
  {
   "cell_type": "markdown",
   "metadata": {},
   "source": [
    "def union(seq1, seq2):"
   ]
  },
  {
   "cell_type": "code",
   "execution_count": null,
   "metadata": {},
   "outputs": [],
   "source": [
    "res = map(None, seq1)        # copy of seq1 (see ch13)\n",

    "for x in seq2:               # add new items in seq2\n",

    "    if not x in res:\n",

    "        res.append(x)\n",

    "return res"
   ]
  },
  {
   "cell_type": "markdown",
   "metadata": {},
   "source": [
    "% python"
   ]
  },
  {
   "cell_type": "code",
   "execution_count": null,
   "metadata": {},
   "outputs": [],
   "source": [
    "from inter import intersect, union"
   ]
  },
  {
   "cell_type": "code",
   "execution_count": null,
   "metadata": {},
   "outputs": [],
   "source": [
    "s1 = \"SPAM\""
   ]
  },
  {
   "cell_type": "code",
   "execution_count": null,
   "metadata": {},
   "outputs": [],
   "source": [
    "s2 = \"SCAM\""
   ]
  },
  {
   "cell_type": "code",
   "execution_count": null,
   "metadata": {},
   "outputs": [],
   "source": [
    "intersect(s1, s2), union(s1, s2)           # strings"
   ]
  },
  {
   "cell_type": "markdown",
   "metadata": {},
   "source": [
    "(['S', 'A', 'M'], ['S', 'P', 'A', 'M', 'C'])"
   ]
  },
  {
   "cell_type": "code",
   "execution_count": null,
   "metadata": {},
   "outputs": [],
   "source": [
    "intersect([1,2,3], (1,4))                  # mixed types"
   ]
  },
  {
   "cell_type": "markdown",
   "metadata": {},
   "source": [
    "[1]"
   ]
  },
  {
   "cell_type": "code",
   "execution_count": null,
   "metadata": {},
   "outputs": [],
   "source": [
    "union([1,2,3], (1,4))"
   ]
  },
  {
   "cell_type": "markdown",
   "metadata": {},
   "source": [
    "[1, 2, 3, 4]\n",






    "Supporting multiple operands: *varargs\n",





    "  \n",

    "file: inter2.py\n",



    "def intersect(*args):"
   ]
  },
  {
   "cell_type": "code",
   "execution_count": null,
   "metadata": {},
   "outputs": [],
   "source": [
    "res = []\n",

    "for x in args[0]:                  # scan first sequence\n",

    "    for other in args[1:]:         # for all other args\n",

    "        if x not in other: break   # this in each one?\n",

    "    else:\n",

    "        res.append(x)              # add items to end\n",

    "return res"
   ]
  },
  {
   "cell_type": "markdown",
   "metadata": {},
   "source": [
    "def union(*args):"
   ]
  },
  {
   "cell_type": "code",
   "execution_count": null,
   "metadata": {},
   "outputs": [],
   "source": [
    "res = []\n",

    "for seq in args:                   # for all args\n",

    "    for x in seq:                  # for all nodes\n",

    "        if not x in res:\n",

    "            res.append(x)          # add items to result\n",

    "return res"
   ]
  },
  {
   "cell_type": "markdown",
   "metadata": {},
   "source": [
    "% python"
   ]
  },
  {
   "cell_type": "code",
   "execution_count": null,
   "metadata": {},
   "outputs": [],
   "source": [
    "from inter2 import intersect, union"
   ]
  },
  {
   "cell_type": "code",
   "execution_count": null,
   "metadata": {},
   "outputs": [],
   "source": [
    "s1, s2, s3 = \"SPAM\", \"SCAM\", \"SLAM\""
   ]
  },
  {
   "cell_type": "code",
   "execution_count": null,
   "metadata": {},
   "outputs": [],
   "source": [
    "intersect(s1, s2), union(s1, s2)           # 2 operands"
   ]
  },
  {
   "cell_type": "markdown",
   "metadata": {},
   "source": [
    "(['S', 'A', 'M'], ['S', 'P', 'A', 'M', 'C'])"
   ]
  },
  {
   "cell_type": "code",
   "execution_count": null,
   "metadata": {},
   "outputs": [],
   "source": [
    "intersect([1,2,3], (1,4))"
   ]
  },
  {
   "cell_type": "markdown",
   "metadata": {},
   "source": [
    "[1]"
   ]
  },
  {
   "cell_type": "code",
   "execution_count": null,
   "metadata": {},
   "outputs": [],
   "source": [
    "intersect(s1, s2, s3)                      # 3 operands"
   ]
  },
  {
   "cell_type": "markdown",
   "metadata": {},
   "source": [
    "['S', 'A', 'M']"
   ]
  },
  {
   "cell_type": "code",
   "execution_count": null,
   "metadata": {},
   "outputs": [],
   "source": [
    "union(s1, s2, s3)"
   ]
  },
  {
   "cell_type": "markdown",
   "metadata": {},
   "source": [
    "['S', 'P', 'A', 'M', 'C', 'L']"
   ]
  }
 ],
 "metadata": {},
 "nbformat": 4,
 "nbformat_minor": 2
}
