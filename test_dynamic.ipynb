{
  "nbformat": 4,
  "nbformat_minor": 0,
  "metadata": {
    "colab": {
      "name": "Untitled2.ipynb",
      "version": "0.3.2",
      "provenance": [],
      "include_colab_link": true
    },
    "kernelspec": {
      "name": "python3",
      "display_name": "Python 3"
    }
  },
  "cells": [
    {
      "cell_type": "markdown",
      "metadata": {
        "id": "view-in-github",
        "colab_type": "text"
      },
      "source": [
        "<a href=\"https://colab.research.google.com/github/fbeilstein/machine_learning/blob/master/test_dynamic.ipynb\" target=\"_parent\"><img src=\"https://colab.research.google.com/assets/colab-badge.svg\" alt=\"Open In Colab\"/></a>"
      ]
    },
    {
      "cell_type": "code",
      "metadata": {
        "id": "Hz5CFub79PfW",
        "colab_type": "code",
        "outputId": "ee91d228-6935-462e-d2fd-81f3f9a93741",
        "colab": {
          "base_uri": "https://localhost:8080/",
          "height": 457
        }
      },
      "source": [
        "import altair as alt\n",
        "from vega_datasets import data\n",
        "\n",
        "source = data.population.url\n",
        "\n",
        "pink_blue = alt.Scale(domain=('Male', 'Female'),\n",
        "                      range=[\"steelblue\", \"salmon\"])\n",
        "\n",
        "slider = alt.binding_range(min=1900, max=2000, step=10)\n",
        "select_year = alt.selection_single(name=\"year\", fields=['year'],\n",
        "                                   bind=slider, init={'year': 2000})\n",
        "\n",
        "alt.Chart(source).mark_bar().encode(\n",
        "    x=alt.X('sex:N', title=None),\n",
        "    y=alt.Y('people:Q', scale=alt.Scale(domain=(0, 12000000))),\n",
        "    color=alt.Color('sex:N', scale=pink_blue),\n",
        "    column='age:O'\n",
        ").properties(\n",
        "    width=20\n",
        ").add_selection(\n",
        "    select_year\n",
        ").transform_calculate(\n",
        "    \"sex\", alt.expr.if_(alt.datum.sex == 1, \"Male\", \"Female\")\n",
        ").transform_filter(\n",
        "    select_year\n",
        ").configure_facet(\n",
        "    spacing=8\n",
        ")"
      ],
      "execution_count": 0,
      "outputs": [
        {
          "output_type": "execute_result",
          "data": {
            "text/plain": [
              "Chart({\n",
              "  config: Config({\n",
              "    facet: CompositionConfig({\n",
              "      spacing: 8\n",
              "    })\n",
              "  }),\n",
              "  data: 'https://vega.github.io/vega-datasets/data/population.json',\n",
              "  encoding: FacetedEncoding({\n",
              "    color: Color({\n",
              "      scale: Scale({\n",
              "        domain: ('Male', 'Female'),\n",
              "        range: ['steelblue', 'salmon']\n",
              "      }),\n",
              "      shorthand: 'sex:N'\n",
              "    }),\n",
              "    column: Column({\n",
              "      shorthand: 'age:O'\n",
              "    }),\n",
              "    x: X({\n",
              "      shorthand: 'sex:N',\n",
              "      title: None\n",
              "    }),\n",
              "    y: Y({\n",
              "      scale: Scale({\n",
              "        domain: (0, 12000000)\n",
              "      }),\n",
              "      shorthand: 'people:Q'\n",
              "    })\n",
              "  }),\n",
              "  mark: 'bar',\n",
              "  selection: {'year': SelectionDef({\n",
              "    bind: BindRange({\n",
              "      input: 'range',\n",
              "      max: 2000,\n",
              "      min: 1900,\n",
              "      step: 10\n",
              "    }),\n",
              "    fields: ['year'],\n",
              "    init: {'year': 2000},\n",
              "    type: 'single'\n",
              "  })},\n",
              "  transform: [CalculateTransform({\n",
              "    as: 'sex',\n",
              "    calculate: if((datum.sex === 1),'Male','Female')\n",
              "  }), FilterTransform({\n",
              "    filter: {'selection': 'year'}\n",
              "  })],\n",
              "  width: 20\n",
              "})"
            ],
            "text/html": [
              "<!DOCTYPE html>\n",
              "<html>\n",
              "<head>\n",
              "  <style>\n",
              "    .vega-actions a {\n",
              "        margin-right: 12px;\n",
              "        color: #757575;\n",
              "        font-weight: normal;\n",
              "        font-size: 13px;\n",
              "    }\n",
              "    .error {\n",
              "        color: red;\n",
              "    }\n",
              "  </style>\n",
              "  <script type=\"text/javascript\" src=\"https://cdn.jsdelivr.net/npm//vega@4\"></script>\n",
              "  <script type=\"text/javascript\" src=\"https://cdn.jsdelivr.net/npm//vega-lite@3.2.1\"></script>\n",
              "  <script type=\"text/javascript\" src=\"https://cdn.jsdelivr.net/npm//vega-embed@3\"></script>\n",
              "</head>\n",
              "<body>\n",
              "  <div id=\"altair-viz\"></div>\n",
              "  <script>\n",
              "      var spec = {\"config\": {\"view\": {\"width\": 400, \"height\": 300}, \"mark\": {\"tooltip\": null}, \"facet\": {\"spacing\": 8}}, \"data\": {\"url\": \"https://vega.github.io/vega-datasets/data/population.json\"}, \"mark\": \"bar\", \"encoding\": {\"color\": {\"type\": \"nominal\", \"field\": \"sex\", \"scale\": {\"domain\": [\"Male\", \"Female\"], \"range\": [\"steelblue\", \"salmon\"]}}, \"column\": {\"type\": \"ordinal\", \"field\": \"age\"}, \"x\": {\"type\": \"nominal\", \"field\": \"sex\", \"title\": null}, \"y\": {\"type\": \"quantitative\", \"field\": \"people\", \"scale\": {\"domain\": [0, 12000000]}}}, \"selection\": {\"year\": {\"type\": \"single\", \"fields\": [\"year\"], \"bind\": {\"input\": \"range\", \"max\": 2000, \"min\": 1900, \"step\": 10}, \"init\": {\"year\": 2000}}}, \"transform\": [{\"calculate\": \"if((datum.sex === 1),'Male','Female')\", \"as\": \"sex\"}, {\"filter\": {\"selection\": \"year\"}}], \"width\": 20, \"$schema\": \"https://vega.github.io/schema/vega-lite/v3.2.1.json\"};\n",
              "      var embedOpt = {\"mode\": \"vega-lite\"};\n",
              "\n",
              "      function showError(el, error){\n",
              "          el.innerHTML = ('<div class=\"error\" style=\"color:red;\">'\n",
              "                          + '<p>JavaScript Error: ' + error.message + '</p>'\n",
              "                          + \"<p>This usually means there's a typo in your chart specification. \"\n",
              "                          + \"See the javascript console for the full traceback.</p>\"\n",
              "                          + '</div>');\n",
              "          throw error;\n",
              "      }\n",
              "      const el = document.getElementById('altair-viz');\n",
              "      vegaEmbed(\"#altair-viz\", spec, embedOpt)\n",
              "        .catch(error => showError(el, error));\n",
              "\n",
              "  </script>\n",
              "</body>\n",
              "</html>"
            ]
          },
          "metadata": {
            "tags": []
          },
          "execution_count": 1
        }
      ]
    },
    {
      "cell_type": "markdown",
      "metadata": {
        "id": "yD7FoyEPonKw",
        "colab_type": "text"
      },
      "source": [
        "1.   Naive Bayes Classification\n",
        "2.   Linear Regression\n",
        "3.   Support Vector Machines\n",
        "4.   Decision Trees and Random Forests\n",
        "5.   Principal Component Analysis\n",
        "6.   Manifold Learning\n",
        "7.   k-Means Clustering\n",
        "8.   Gaussian Mixture Models\n",
        "9.   Kernel Density Estimation\n",
        "\n"
      ]
    }
  ]
}