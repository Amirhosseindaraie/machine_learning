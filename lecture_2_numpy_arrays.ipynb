{
  "nbformat": 4,
  "nbformat_minor": 0,
  "metadata": {
    "colab": {
      "name": "numpy_arrays.ipynb",
      "version": "0.3.2",
      "provenance": [],
      "toc_visible": true,
      "include_colab_link": true
    },
    "kernelspec": {
      "name": "python3",
      "display_name": "Python 3"
    }
  },
  "cells": [
    {
      "cell_type": "markdown",
      "metadata": {
        "id": "view-in-github",
        "colab_type": "text"
      },
      "source": [
        "<a href=\"https://colab.research.google.com/github/fbeilstein/machine_learning/blob/master/lecture_2_numpy_arrays.ipynb\" target=\"_parent\"><img src=\"https://colab.research.google.com/assets/colab-badge.svg\" alt=\"Open In Colab\"/></a>"
      ]
    },
    {
      "cell_type": "markdown",
      "metadata": {
        "id": "zCB3Vno_gazt",
        "colab_type": "text"
      },
      "source": [
        "![np array vs list](https://raw.githubusercontent.com/fbeilstein/machine_learning/master/lecture_01_and_lecture_02_intro_and_python/python_list.png)"
      ]
    },
    {
      "cell_type": "markdown",
      "metadata": {
        "id": "2TStn_0_UY1d",
        "colab_type": "text"
      },
      "source": [
        "#The Basics of NumPy Arrays"
      ]
    },
    {
      "cell_type": "markdown",
      "metadata": {
        "id": "E8QxSgO3eMK4",
        "colab_type": "text"
      },
      "source": [
        "##NumPy Array Attributes"
      ]
    },
    {
      "cell_type": "markdown",
      "metadata": {
        "id": "YcqiHudBflI3",
        "colab_type": "text"
      },
      "source": [
        "| Data type\t    | Description |\n",
        "|---------------|-------------|\n",
        "| ``bool_``     | Boolean (True or False) stored as a byte |\n",
        "| ``int_``      | Default integer type (same as C ``long``; normally either ``int64`` or ``int32``)| \n",
        "| ``intc``      | Identical to C ``int`` (normally ``int32`` or ``int64``)| \n",
        "| ``intp``      | Integer used for indexing (same as C ``ssize_t``; normally either ``int32`` or ``int64``)| \n",
        "| ``int8``      | Byte (-128 to 127)| \n",
        "| ``int16``     | Integer (-32768 to 32767)|\n",
        "| ``int32``     | Integer (-2147483648 to 2147483647)|\n",
        "| ``int64``     | Integer (-9223372036854775808 to 9223372036854775807)| \n",
        "| ``uint8``     | Unsigned integer (0 to 255)| \n",
        "| ``uint16``    | Unsigned integer (0 to 65535)| \n",
        "| ``uint32``    | Unsigned integer (0 to 4294967295)| \n",
        "| ``uint64``    | Unsigned integer (0 to 18446744073709551615)| \n",
        "| ``float_``    | Shorthand for ``float64``.| \n",
        "| ``float16``   | Half precision float: sign bit, 5 bits exponent, 10 bits mantissa| \n",
        "| ``float32``   | Single precision float: sign bit, 8 bits exponent, 23 bits mantissa| \n",
        "| ``float64``   | Double precision float: sign bit, 11 bits exponent, 52 bits mantissa| \n",
        "| ``complex_``  | Shorthand for ``complex128``.| \n",
        "| ``complex64`` | Complex number, represented by two 32-bit floats| \n",
        "| ``complex128``| Complex number, represented by two 64-bit floats| "
      ]
    },
    {
      "cell_type": "code",
      "metadata": {
        "id": "ZJ_9GyWKcp8-",
        "colab_type": "code",
        "colab": {}
      },
      "source": [
        "import numpy as np\n",
        "np.random.seed(0) # seed for reproducibility\n",
        "x1 = np.random.randint(10, size=6) # One-dimensional array\n",
        "x2 = np.random.randint(10, size=(3, 4)) # Two-dimensional array\n",
        "x3 = np.random.randint(10, size=(3, 4, 5)) # Three-dimensional array"
      ],
      "execution_count": 0,
      "outputs": []
    },
    {
      "cell_type": "code",
      "metadata": {
        "id": "bnObZdktc0YQ",
        "colab_type": "code",
        "colab": {}
      },
      "source": [
        "print(\"x3 ndim: \", x3.ndim)\n",
        "print(\"x3 shape:\", x3.shape)\n",
        "print(\"x3 size: \", x3.size)"
      ],
      "execution_count": 0,
      "outputs": []
    },
    {
      "cell_type": "code",
      "metadata": {
        "id": "SezDMeRbc6E5",
        "colab_type": "code",
        "colab": {}
      },
      "source": [
        "print(\"dtype:\", x3.dtype)"
      ],
      "execution_count": 0,
      "outputs": []
    },
    {
      "cell_type": "code",
      "metadata": {
        "id": "Nw2WmRKGdBfu",
        "colab_type": "code",
        "colab": {}
      },
      "source": [
        "print(\"itemsize:\", x3.itemsize, \"bytes\")\n",
        "print(\"nbytes:\", x3.nbytes, \"bytes\")"
      ],
      "execution_count": 0,
      "outputs": []
    },
    {
      "cell_type": "markdown",
      "metadata": {
        "id": "EpGjSyT5eZVA",
        "colab_type": "text"
      },
      "source": [
        "##Array Indexing: Accessing Single Elements"
      ]
    },
    {
      "cell_type": "code",
      "metadata": {
        "id": "d5OLSC1EdKtB",
        "colab_type": "code",
        "colab": {}
      },
      "source": [
        "x1"
      ],
      "execution_count": 0,
      "outputs": []
    },
    {
      "cell_type": "code",
      "metadata": {
        "id": "68hLUs8udMJR",
        "colab_type": "code",
        "colab": {}
      },
      "source": [
        "x1[0]"
      ],
      "execution_count": 0,
      "outputs": []
    },
    {
      "cell_type": "code",
      "metadata": {
        "id": "FF0jPIh7dPRf",
        "colab_type": "code",
        "colab": {}
      },
      "source": [
        "x1[4]"
      ],
      "execution_count": 0,
      "outputs": []
    },
    {
      "cell_type": "code",
      "metadata": {
        "id": "DZI7V2JzdSLS",
        "colab_type": "code",
        "colab": {}
      },
      "source": [
        "x1[-1]"
      ],
      "execution_count": 0,
      "outputs": []
    },
    {
      "cell_type": "code",
      "metadata": {
        "id": "_rz8Z4o9dVHm",
        "colab_type": "code",
        "colab": {}
      },
      "source": [
        "x1[-2]"
      ],
      "execution_count": 0,
      "outputs": []
    },
    {
      "cell_type": "code",
      "metadata": {
        "id": "_iAHN8mOdg8o",
        "colab_type": "code",
        "colab": {}
      },
      "source": [
        "x2"
      ],
      "execution_count": 0,
      "outputs": []
    },
    {
      "cell_type": "code",
      "metadata": {
        "id": "5JFpYdaRdiqE",
        "colab_type": "code",
        "colab": {}
      },
      "source": [
        "x2[0, 0]"
      ],
      "execution_count": 0,
      "outputs": []
    },
    {
      "cell_type": "code",
      "metadata": {
        "id": "OBGxWHqNdlrK",
        "colab_type": "code",
        "colab": {}
      },
      "source": [
        "x2[2, 0]"
      ],
      "execution_count": 0,
      "outputs": []
    },
    {
      "cell_type": "code",
      "metadata": {
        "id": "Q8QTo5SzdpBS",
        "colab_type": "code",
        "colab": {}
      },
      "source": [
        "x2[2, -1]"
      ],
      "execution_count": 0,
      "outputs": []
    },
    {
      "cell_type": "code",
      "metadata": {
        "id": "iU9itRPGdsfm",
        "colab_type": "code",
        "colab": {}
      },
      "source": [
        "x2[0, 0] = 12\n",
        "x2"
      ],
      "execution_count": 0,
      "outputs": []
    },
    {
      "cell_type": "code",
      "metadata": {
        "id": "znCgFXe0dzH3",
        "colab_type": "code",
        "colab": {}
      },
      "source": [
        "x1[0] = 3.14159 # this will be truncated!\n",
        "x1"
      ],
      "execution_count": 0,
      "outputs": []
    },
    {
      "cell_type": "markdown",
      "metadata": {
        "id": "wadou4UgedOZ",
        "colab_type": "text"
      },
      "source": [
        "##Array Slicing: Accessing Subarrays"
      ]
    },
    {
      "cell_type": "code",
      "metadata": {
        "id": "QCX5qIB_ehQd",
        "colab_type": "code",
        "colab": {}
      },
      "source": [
        "x = np.arange(10)\n",
        "x"
      ],
      "execution_count": 0,
      "outputs": []
    },
    {
      "cell_type": "code",
      "metadata": {
        "id": "SOjjqlyEKHQG",
        "colab_type": "code",
        "colab": {}
      },
      "source": [
        "x[:5] # first five elements"
      ],
      "execution_count": 0,
      "outputs": []
    },
    {
      "cell_type": "code",
      "metadata": {
        "id": "1UZNzL9xKK2y",
        "colab_type": "code",
        "colab": {}
      },
      "source": [
        "x[5:] # elements after index 5"
      ],
      "execution_count": 0,
      "outputs": []
    },
    {
      "cell_type": "code",
      "metadata": {
        "id": "PGj-XbksKPGs",
        "colab_type": "code",
        "colab": {}
      },
      "source": [
        "x[4:7] # middle subarray"
      ],
      "execution_count": 0,
      "outputs": []
    },
    {
      "cell_type": "code",
      "metadata": {
        "id": "IKFhM3iiKV8S",
        "colab_type": "code",
        "colab": {}
      },
      "source": [
        "x[::2] # every other element"
      ],
      "execution_count": 0,
      "outputs": []
    },
    {
      "cell_type": "code",
      "metadata": {
        "id": "RCrDV7R0Ka1t",
        "colab_type": "code",
        "colab": {}
      },
      "source": [
        "x[1::2] # every other element, starting at index 1"
      ],
      "execution_count": 0,
      "outputs": []
    },
    {
      "cell_type": "code",
      "metadata": {
        "id": "dXUJo0HhKsR9",
        "colab_type": "code",
        "colab": {}
      },
      "source": [
        "x[::-1] # all elements, reversed"
      ],
      "execution_count": 0,
      "outputs": []
    },
    {
      "cell_type": "code",
      "metadata": {
        "id": "dImjZCj8KygT",
        "colab_type": "code",
        "colab": {}
      },
      "source": [
        "x[5::-2] # reversed every other from index 5"
      ],
      "execution_count": 0,
      "outputs": []
    },
    {
      "cell_type": "code",
      "metadata": {
        "id": "X8cUZH1kK-kn",
        "colab_type": "code",
        "colab": {}
      },
      "source": [
        "x2"
      ],
      "execution_count": 0,
      "outputs": []
    },
    {
      "cell_type": "code",
      "metadata": {
        "id": "FExAFp6BLHPD",
        "colab_type": "code",
        "colab": {}
      },
      "source": [
        "x2[:2, :3] # two rows, three columns"
      ],
      "execution_count": 0,
      "outputs": []
    },
    {
      "cell_type": "code",
      "metadata": {
        "id": "CLqH-RuYLQrl",
        "colab_type": "code",
        "colab": {}
      },
      "source": [
        "x2[:3, ::2] # all rows, every other column"
      ],
      "execution_count": 0,
      "outputs": []
    },
    {
      "cell_type": "code",
      "metadata": {
        "id": "tK1cjWRsLShy",
        "colab_type": "code",
        "colab": {}
      },
      "source": [
        "x2[::-1, ::-1]"
      ],
      "execution_count": 0,
      "outputs": []
    },
    {
      "cell_type": "code",
      "metadata": {
        "id": "nSss0FYLLy4j",
        "colab_type": "code",
        "colab": {}
      },
      "source": [
        "print(x2[:, 0]) # first column of x2"
      ],
      "execution_count": 0,
      "outputs": []
    },
    {
      "cell_type": "code",
      "metadata": {
        "id": "ngUmtx7IL0Pb",
        "colab_type": "code",
        "colab": {}
      },
      "source": [
        "print(x2[0, :]) # first row of x2"
      ],
      "execution_count": 0,
      "outputs": []
    },
    {
      "cell_type": "code",
      "metadata": {
        "id": "ekrg0xXoL9xg",
        "colab_type": "code",
        "colab": {}
      },
      "source": [
        "print(x2[0]) # equivalent to x2[0, :]"
      ],
      "execution_count": 0,
      "outputs": []
    },
    {
      "cell_type": "code",
      "metadata": {
        "id": "W6dPUQxiMu9f",
        "colab_type": "code",
        "colab": {}
      },
      "source": [
        "print(x2)"
      ],
      "execution_count": 0,
      "outputs": []
    },
    {
      "cell_type": "code",
      "metadata": {
        "id": "TvSaEHUuMyUs",
        "colab_type": "code",
        "colab": {}
      },
      "source": [
        "x2_sub = x2[:2, :2]\n",
        "print(x2_sub)"
      ],
      "execution_count": 0,
      "outputs": []
    },
    {
      "cell_type": "code",
      "metadata": {
        "id": "kSbyoBm7M-fi",
        "colab_type": "code",
        "colab": {}
      },
      "source": [
        "print(x2)"
      ],
      "execution_count": 0,
      "outputs": []
    },
    {
      "cell_type": "code",
      "metadata": {
        "id": "5IHjiBH2NVcF",
        "colab_type": "code",
        "colab": {}
      },
      "source": [
        "x2_sub_copy = x2[:2, :2].copy()\n",
        "print(x2_sub_copy)"
      ],
      "execution_count": 0,
      "outputs": []
    },
    {
      "cell_type": "code",
      "metadata": {
        "id": "hfD85yMcNZn6",
        "colab_type": "code",
        "colab": {}
      },
      "source": [
        "x2_sub_copy[0, 0] = 42\n",
        "print(x2_sub_copy)"
      ],
      "execution_count": 0,
      "outputs": []
    },
    {
      "cell_type": "code",
      "metadata": {
        "id": "_7--39woNdFZ",
        "colab_type": "code",
        "colab": {}
      },
      "source": [
        "print(x2)"
      ],
      "execution_count": 0,
      "outputs": []
    },
    {
      "cell_type": "markdown",
      "metadata": {
        "id": "282bQAMENepq",
        "colab_type": "text"
      },
      "source": [
        "##Reshaping of Arrays"
      ]
    },
    {
      "cell_type": "code",
      "metadata": {
        "id": "KfkVEpSSNhdK",
        "colab_type": "code",
        "colab": {}
      },
      "source": [
        "grid = np.arange(1, 10).reshape((3, 3))\n",
        "print(grid)"
      ],
      "execution_count": 0,
      "outputs": []
    },
    {
      "cell_type": "code",
      "metadata": {
        "id": "IT6F3CdbRqZn",
        "colab_type": "code",
        "colab": {}
      },
      "source": [
        "x = np.array([1, 2, 3])\n",
        "# row vector via reshape\n",
        "x.reshape((1, 3))"
      ],
      "execution_count": 0,
      "outputs": []
    },
    {
      "cell_type": "code",
      "metadata": {
        "id": "Yi80JyOgR3Uu",
        "colab_type": "code",
        "colab": {}
      },
      "source": [
        "x[np.newaxis, :]"
      ],
      "execution_count": 0,
      "outputs": []
    },
    {
      "cell_type": "code",
      "metadata": {
        "id": "W6BF8T1YR7ez",
        "colab_type": "code",
        "colab": {}
      },
      "source": [
        "x.reshape((3, 1))"
      ],
      "execution_count": 0,
      "outputs": []
    },
    {
      "cell_type": "code",
      "metadata": {
        "id": "TgUbtTXGR_gt",
        "colab_type": "code",
        "colab": {}
      },
      "source": [
        "x[:, np.newaxis]"
      ],
      "execution_count": 0,
      "outputs": []
    },
    {
      "cell_type": "markdown",
      "metadata": {
        "id": "lRftDh6SSGFw",
        "colab_type": "text"
      },
      "source": [
        "##Array Concatenation and Splitting"
      ]
    },
    {
      "cell_type": "code",
      "metadata": {
        "id": "YD0LFiEsSHiB",
        "colab_type": "code",
        "colab": {}
      },
      "source": [
        "x = np.array([1, 2, 3])\n",
        "y = np.array([3, 2, 1])\n",
        "np.concatenate([x, y])"
      ],
      "execution_count": 0,
      "outputs": []
    },
    {
      "cell_type": "code",
      "metadata": {
        "id": "HDzLJXw-Sr38",
        "colab_type": "code",
        "colab": {}
      },
      "source": [
        "z = [99, 99, 99]\n",
        "print(np.concatenate([x, y, z]))"
      ],
      "execution_count": 0,
      "outputs": []
    },
    {
      "cell_type": "code",
      "metadata": {
        "id": "nHDWRk_WSy_8",
        "colab_type": "code",
        "colab": {}
      },
      "source": [
        "grid = np.array([[1, 2, 3], [4, 5, 6]])\n",
        "# concatenate along the first axis\n",
        "np.concatenate([grid, grid])"
      ],
      "execution_count": 0,
      "outputs": []
    },
    {
      "cell_type": "code",
      "metadata": {
        "id": "Mv0vtgr9S7V0",
        "colab_type": "code",
        "colab": {}
      },
      "source": [
        "# concatenate along the second axis (zero-indexed)\n",
        "np.concatenate([grid, grid], axis=1)"
      ],
      "execution_count": 0,
      "outputs": []
    },
    {
      "cell_type": "code",
      "metadata": {
        "id": "QMEzicLBTEu3",
        "colab_type": "code",
        "colab": {}
      },
      "source": [
        "x = np.array([1, 2, 3])\n",
        "grid = np.array([[9, 8, 7], [6, 5, 4]])\n",
        "# vertically stack the arrays\n",
        "np.vstack([x, grid])"
      ],
      "execution_count": 0,
      "outputs": []
    },
    {
      "cell_type": "code",
      "metadata": {
        "id": "tZNuHX9CTIw0",
        "colab_type": "code",
        "colab": {}
      },
      "source": [
        "# horizontally stack the arrays\n",
        "y = np.array([[99], [99]])\n",
        "np.hstack([grid, y])"
      ],
      "execution_count": 0,
      "outputs": []
    },
    {
      "cell_type": "code",
      "metadata": {
        "id": "c93OafiYTRLq",
        "colab_type": "code",
        "colab": {}
      },
      "source": [
        "x = [1, 2, 3, 99, 99, 3, 2, 1]\n",
        "x1, x2, x3 = np.split(x, [3, 5])\n",
        "print(x1, x2, x3)"
      ],
      "execution_count": 0,
      "outputs": []
    },
    {
      "cell_type": "code",
      "metadata": {
        "id": "VF6Wsh4oTTo0",
        "colab_type": "code",
        "colab": {}
      },
      "source": [
        "grid = np.arange(16).reshape((4, 4))\n",
        "grid"
      ],
      "execution_count": 0,
      "outputs": []
    },
    {
      "cell_type": "code",
      "metadata": {
        "id": "Iu_A96oRTjS1",
        "colab_type": "code",
        "colab": {}
      },
      "source": [
        "upper, lower = np.vsplit(grid, [2])\n",
        "print(upper)\n",
        "print(lower)"
      ],
      "execution_count": 0,
      "outputs": []
    },
    {
      "cell_type": "code",
      "metadata": {
        "id": "mNplDpW6TqZy",
        "colab_type": "code",
        "colab": {}
      },
      "source": [
        "left, right = np.hsplit(grid, [2])\n",
        "print(left)\n",
        "print(right)"
      ],
      "execution_count": 0,
      "outputs": []
    },
    {
      "cell_type": "markdown",
      "metadata": {
        "id": "I0J4rVgzVP2T",
        "colab_type": "text"
      },
      "source": [
        "#Computation on NumPy Arrays: Universal Functions"
      ]
    },
    {
      "cell_type": "markdown",
      "metadata": {
        "id": "knNVa-x3fIv3",
        "colab_type": "text"
      },
      "source": [
        "| Operator\t    | Equivalent ufunc    | Description                           |\n",
        "|---------------|---------------------|---------------------------------------|\n",
        "|``+``          |``np.add``           |Addition (e.g., ``1 + 1 = 2``)         |\n",
        "|``-``          |``np.subtract``      |Subtraction (e.g., ``3 - 2 = 1``)      |\n",
        "|``-``          |``np.negative``      |Unary negation (e.g., ``-2``)          |\n",
        "|``*``          |``np.multiply``      |Multiplication (e.g., ``2 * 3 = 6``)   |\n",
        "|``/``          |``np.divide``        |Division (e.g., ``3 / 2 = 1.5``)       |\n",
        "|``//``         |``np.floor_divide``  |Floor division (e.g., ``3 // 2 = 1``)  |\n",
        "|``**``         |``np.power``         |Exponentiation (e.g., ``2 ** 3 = 8``)  |\n",
        "|``%``          |``np.mod``           |Modulus/remainder (e.g., ``9 % 4 = 1``)|"
      ]
    },
    {
      "cell_type": "markdown",
      "metadata": {
        "id": "xRB68Kt5WRN7",
        "colab_type": "text"
      },
      "source": [
        "##The Slowness of Loops"
      ]
    },
    {
      "cell_type": "code",
      "metadata": {
        "id": "HWVoz6FpWRx2",
        "colab_type": "code",
        "colab": {}
      },
      "source": [
        "import numpy as np\n",
        "np.random.seed(0)\n",
        "\n",
        "\n",
        "def compute_reciprocals(values):\n",
        "  output = np.empty(len(values))\n",
        "  for i in range(len(values)):\n",
        "    output[i] = 1.0 / values[i]\n",
        "  return output\n",
        "\n",
        "\n",
        "values = np.random.randint(1, 10, size=5)\n",
        "compute_reciprocals(values)"
      ],
      "execution_count": 0,
      "outputs": []
    },
    {
      "cell_type": "code",
      "metadata": {
        "id": "ktFok2SWX2ZE",
        "colab_type": "code",
        "colab": {}
      },
      "source": [
        "big_array = np.random.randint(1, 100, size=1000000)\n",
        "%timeit compute_reciprocals(big_array)"
      ],
      "execution_count": 0,
      "outputs": []
    },
    {
      "cell_type": "markdown",
      "metadata": {
        "id": "IQ0Rfi_PYD2e",
        "colab_type": "text"
      },
      "source": [
        "##Introducing UFuncs"
      ]
    },
    {
      "cell_type": "code",
      "metadata": {
        "id": "oRKfH8hCYFdr",
        "colab_type": "code",
        "colab": {}
      },
      "source": [
        "print(compute_reciprocals(values))\n",
        "print(1.0 / values)"
      ],
      "execution_count": 0,
      "outputs": []
    },
    {
      "cell_type": "code",
      "metadata": {
        "id": "fsvRg0hdj9Qy",
        "colab_type": "code",
        "colab": {}
      },
      "source": [
        "%timeit (1.0 / big_array)"
      ],
      "execution_count": 0,
      "outputs": []
    },
    {
      "cell_type": "code",
      "metadata": {
        "id": "TfjsuEWAkBqg",
        "colab_type": "code",
        "colab": {}
      },
      "source": [
        "np.arange(5) / np.arange(1, 6)"
      ],
      "execution_count": 0,
      "outputs": []
    },
    {
      "cell_type": "code",
      "metadata": {
        "id": "5-vNiXZgkjYY",
        "colab_type": "code",
        "colab": {}
      },
      "source": [
        "x = np.arange(9).reshape((3, 3))\n",
        "2 ** x"
      ],
      "execution_count": 0,
      "outputs": []
    },
    {
      "cell_type": "markdown",
      "metadata": {
        "id": "dEj1UBYukpcR",
        "colab_type": "text"
      },
      "source": [
        "##Exploring NumPy’s UFuncs"
      ]
    },
    {
      "cell_type": "code",
      "metadata": {
        "id": "esjumaUukrmw",
        "colab_type": "code",
        "colab": {}
      },
      "source": [
        "x = np.arange(4)\n",
        "print(\"x =\", x)\n",
        "print(\"x + 5 =\", x + 5)\n",
        "print(\"x - 5 =\", x - 5)\n",
        "print(\"x * 2 =\", x * 2)\n",
        "print(\"x / 2 =\", x / 2)\n",
        "print(\"x // 2 =\", x // 2) # floor division"
      ],
      "execution_count": 0,
      "outputs": []
    },
    {
      "cell_type": "code",
      "metadata": {
        "id": "K1cZ61wbL9oy",
        "colab_type": "code",
        "colab": {}
      },
      "source": [
        "print(\"-x = \", -x)\n",
        "print(\"x ** 2 = \", x ** 2)\n",
        "print(\"x % 2 = \", x % 2)"
      ],
      "execution_count": 0,
      "outputs": []
    },
    {
      "cell_type": "code",
      "metadata": {
        "id": "EyFymCIlQwH7",
        "colab_type": "code",
        "colab": {}
      },
      "source": [
        "-(0.5*x + 1) ** 2"
      ],
      "execution_count": 0,
      "outputs": []
    },
    {
      "cell_type": "code",
      "metadata": {
        "id": "1dTkaaWBQzZR",
        "colab_type": "code",
        "colab": {}
      },
      "source": [
        "np.add(x, 2)"
      ],
      "execution_count": 0,
      "outputs": []
    },
    {
      "cell_type": "code",
      "metadata": {
        "id": "UE4jS-IWQ-bK",
        "colab_type": "code",
        "colab": {}
      },
      "source": [
        "x = np.array([-2, -1, 0, 1, 2])\n",
        "abs(x)\n",
        "np.absolute(x)\n",
        "np.abs(x)"
      ],
      "execution_count": 0,
      "outputs": []
    },
    {
      "cell_type": "code",
      "metadata": {
        "id": "2PWJ0qh59SiH",
        "colab_type": "code",
        "colab": {}
      },
      "source": [
        "x = np.array([3 - 4j, 4 - 3j, 2 + 0j, 0 + 1j])\n",
        "np.abs(x)"
      ],
      "execution_count": 0,
      "outputs": []
    },
    {
      "cell_type": "code",
      "metadata": {
        "id": "LxULJTDU9lzd",
        "colab_type": "code",
        "colab": {}
      },
      "source": [
        "theta = np.linspace(0, np.pi, 3)\n",
        "print(\"theta = \", theta)\n",
        "print(\"sin(theta) = \", np.sin(theta))\n",
        "print(\"cos(theta) = \", np.cos(theta))\n",
        "print(\"tan(theta) = \", np.tan(theta))"
      ],
      "execution_count": 0,
      "outputs": []
    },
    {
      "cell_type": "code",
      "metadata": {
        "id": "P9jdmjN4-CdD",
        "colab_type": "code",
        "colab": {}
      },
      "source": [
        "x = [-1, 0, 1]\n",
        "print(\"x = \", x)\n",
        "print(\"arcsin(x) = \", np.arcsin(x))\n",
        "print(\"arccos(x) = \", np.arccos(x))\n",
        "print(\"arctan(x) = \", np.arctan(x))"
      ],
      "execution_count": 0,
      "outputs": []
    },
    {
      "cell_type": "code",
      "metadata": {
        "id": "_FyyiTVt-GrO",
        "colab_type": "code",
        "colab": {}
      },
      "source": [
        "x = [1, 2, 3]\n",
        "print(\"x =\", x)\n",
        "print(\"e^x =\", np.exp(x))\n",
        "print(\"2^x =\", np.exp2(x))\n",
        "print(\"3^x =\", np.power(3, x))"
      ],
      "execution_count": 0,
      "outputs": []
    },
    {
      "cell_type": "code",
      "metadata": {
        "id": "1l4kTUdS-PaC",
        "colab_type": "code",
        "colab": {}
      },
      "source": [
        "x = [1, 2, 4, 10]\n",
        "print(\"x =\", x)\n",
        "print(\"ln(x) =\", np.log(x))\n",
        "print(\"log2(x) =\", np.log2(x))\n",
        "print(\"log10(x) =\", np.log10(x))"
      ],
      "execution_count": 0,
      "outputs": []
    },
    {
      "cell_type": "code",
      "metadata": {
        "id": "mx9GILXh-YWd",
        "colab_type": "code",
        "colab": {}
      },
      "source": [
        "x = [0, 0.001, 0.01, 0.1]\n",
        "print(\"exp(x) - 1 =\", np.expm1(x))\n",
        "print(\"log(1 + x) =\", np.log1p(x))"
      ],
      "execution_count": 0,
      "outputs": []
    },
    {
      "cell_type": "code",
      "metadata": {
        "id": "EfTx3aznGPk9",
        "colab_type": "code",
        "colab": {}
      },
      "source": [
        "from scipy import special\n",
        "# Gamma functions (generalized factorials) and related functions\n",
        "x = [1, 5, 10]\n",
        "print(\"gamma(x) =\", special.gamma(x))\n",
        "print(\"ln|gamma(x)| =\", special.gammaln(x))\n",
        "print(\"beta(x, 2) =\", special.beta(x, 2))"
      ],
      "execution_count": 0,
      "outputs": []
    },
    {
      "cell_type": "code",
      "metadata": {
        "id": "G1FY6iIiGaWa",
        "colab_type": "code",
        "colab": {}
      },
      "source": [
        "# Error function (integral of Gaussian)\n",
        "# its complement, and its inverse\n",
        "x = np.array([0, 0.3, 0.7, 1.0])\n",
        "print(\"erf(x) =\", special.erf(x))\n",
        "print(\"erfc(x) =\", special.erfc(x))\n",
        "print(\"erfinv(x) =\", special.erfinv(x))"
      ],
      "execution_count": 0,
      "outputs": []
    },
    {
      "cell_type": "markdown",
      "metadata": {
        "id": "_tJlMt1MGmzW",
        "colab_type": "text"
      },
      "source": [
        "##Advanced Ufunc Features"
      ]
    },
    {
      "cell_type": "code",
      "metadata": {
        "id": "Hc_jxD_IGoGJ",
        "colab_type": "code",
        "colab": {}
      },
      "source": [
        "x = np.arange(5)\n",
        "y = np.empty(5)\n",
        "np.multiply(x, 10, out=y)\n",
        "print(y)"
      ],
      "execution_count": 0,
      "outputs": []
    },
    {
      "cell_type": "code",
      "metadata": {
        "id": "qSGg4jyzH5fU",
        "colab_type": "code",
        "colab": {}
      },
      "source": [
        "y = np.zeros(10)\n",
        "np.power(2, x, out=y[::2])\n",
        "print(y)"
      ],
      "execution_count": 0,
      "outputs": []
    },
    {
      "cell_type": "code",
      "metadata": {
        "id": "Mrl6N7XxIJZC",
        "colab_type": "code",
        "colab": {}
      },
      "source": [
        "x = np.arange(1, 6)\n",
        "np.add.reduce(x)"
      ],
      "execution_count": 0,
      "outputs": []
    },
    {
      "cell_type": "code",
      "metadata": {
        "id": "-j0dPeObILqx",
        "colab_type": "code",
        "colab": {}
      },
      "source": [
        "np.multiply.reduce(x)"
      ],
      "execution_count": 0,
      "outputs": []
    },
    {
      "cell_type": "code",
      "metadata": {
        "id": "DbfPMnjlIRN7",
        "colab_type": "code",
        "colab": {}
      },
      "source": [
        "np.add.accumulate(x)"
      ],
      "execution_count": 0,
      "outputs": []
    },
    {
      "cell_type": "code",
      "metadata": {
        "id": "r2YUAtl_IgxY",
        "colab_type": "code",
        "colab": {}
      },
      "source": [
        "np.multiply.accumulate(x)"
      ],
      "execution_count": 0,
      "outputs": []
    },
    {
      "cell_type": "code",
      "metadata": {
        "id": "LiEjycLmKgvz",
        "colab_type": "code",
        "colab": {}
      },
      "source": [
        "x = np.arange(1, 6)\n",
        "np.multiply.outer(x, x)"
      ],
      "execution_count": 0,
      "outputs": []
    },
    {
      "cell_type": "markdown",
      "metadata": {
        "id": "P_scjVc3KvRj",
        "colab_type": "text"
      },
      "source": [
        "#Aggregations: Min, Max, and Everything in Between"
      ]
    },
    {
      "cell_type": "markdown",
      "metadata": {
        "id": "wQnFLg5QK1-N",
        "colab_type": "text"
      },
      "source": [
        "##Summing the Values in an Array"
      ]
    },
    {
      "cell_type": "code",
      "metadata": {
        "id": "R_yl1Up9K3dM",
        "colab_type": "code",
        "colab": {}
      },
      "source": [
        "import numpy as np\n",
        "L = np.random.random(100)\n",
        "sum(L)"
      ],
      "execution_count": 0,
      "outputs": []
    },
    {
      "cell_type": "code",
      "metadata": {
        "id": "_NFIXw2SLDAF",
        "colab_type": "code",
        "colab": {}
      },
      "source": [
        "np.sum(L)"
      ],
      "execution_count": 0,
      "outputs": []
    },
    {
      "cell_type": "code",
      "metadata": {
        "id": "13C1ShJWLGSZ",
        "colab_type": "code",
        "colab": {}
      },
      "source": [
        "big_array = np.random.rand(1000000)\n",
        "%timeit sum(big_array)\n",
        "%timeit np.sum(big_array)"
      ],
      "execution_count": 0,
      "outputs": []
    },
    {
      "cell_type": "markdown",
      "metadata": {
        "id": "iPWnLKuiLQax",
        "colab_type": "text"
      },
      "source": [
        "##Minimum and Maximum"
      ]
    },
    {
      "cell_type": "markdown",
      "metadata": {
        "id": "hZPo59HUeuTV",
        "colab_type": "text"
      },
      "source": [
        "\n",
        "|Function Name      |   NaN-safe Version  | Description                                   |\n",
        "|-------------------|---------------------|-----------------------------------------------|\n",
        "| ``np.sum``        | ``np.nansum``       | Compute sum of elements                       |\n",
        "| ``np.prod``       | ``np.nanprod``      | Compute product of elements                   |\n",
        "| ``np.mean``       | ``np.nanmean``      | Compute mean of elements                      |\n",
        "| ``np.std``        | ``np.nanstd``       | Compute standard deviation                    |\n",
        "| ``np.var``        | ``np.nanvar``       | Compute variance                              |\n",
        "| ``np.min``        | ``np.nanmin``       | Find minimum value                            |\n",
        "| ``np.max``        | ``np.nanmax``       | Find maximum value                            |\n",
        "| ``np.argmin``     | ``np.nanargmin``    | Find index of minimum value                   |\n",
        "| ``np.argmax``     | ``np.nanargmax``    | Find index of maximum value                   |\n",
        "| ``np.median``     | ``np.nanmedian``    | Compute median of elements                    |\n",
        "| ``np.percentile`` | ``np.nanpercentile``| Compute rank-based statistics of elements     |\n",
        "| ``np.any``        | N/A                 | Evaluate whether any elements are true        |\n",
        "| ``np.all``        | N/A                 | Evaluate whether all elements are true        |"
      ]
    },
    {
      "cell_type": "code",
      "metadata": {
        "id": "mNfOl77rLTMD",
        "colab_type": "code",
        "colab": {}
      },
      "source": [
        "min(big_array), max(big_array)"
      ],
      "execution_count": 0,
      "outputs": []
    },
    {
      "cell_type": "code",
      "metadata": {
        "id": "II1acIuwLd94",
        "colab_type": "code",
        "colab": {}
      },
      "source": [
        "np.min(big_array), np.max(big_array)"
      ],
      "execution_count": 0,
      "outputs": []
    },
    {
      "cell_type": "code",
      "metadata": {
        "id": "Qvk-02MpLhin",
        "colab_type": "code",
        "colab": {}
      },
      "source": [
        "%timeit min(big_array)\n",
        "%timeit np.min(big_array)"
      ],
      "execution_count": 0,
      "outputs": []
    },
    {
      "cell_type": "code",
      "metadata": {
        "id": "eGQB-JIWMDbz",
        "colab_type": "code",
        "colab": {}
      },
      "source": [
        "print(big_array.min(), big_array.max(), big_array.sum())"
      ],
      "execution_count": 0,
      "outputs": []
    },
    {
      "cell_type": "code",
      "metadata": {
        "id": "Y-tytYIqMN-T",
        "colab_type": "code",
        "colab": {}
      },
      "source": [
        "M = np.random.random((3, 4))\n",
        "print(M)"
      ],
      "execution_count": 0,
      "outputs": []
    },
    {
      "cell_type": "code",
      "metadata": {
        "id": "nPva56c3MUYj",
        "colab_type": "code",
        "colab": {}
      },
      "source": [
        "M.sum()"
      ],
      "execution_count": 0,
      "outputs": []
    },
    {
      "cell_type": "code",
      "metadata": {
        "id": "DwGpuPZJMXW7",
        "colab_type": "code",
        "colab": {}
      },
      "source": [
        "M.min(axis=0)"
      ],
      "execution_count": 0,
      "outputs": []
    },
    {
      "cell_type": "code",
      "metadata": {
        "id": "sP_R7Dk9Mak7",
        "colab_type": "code",
        "colab": {}
      },
      "source": [
        "M.max(axis=1)"
      ],
      "execution_count": 0,
      "outputs": []
    },
    {
      "cell_type": "markdown",
      "metadata": {
        "id": "dG5OZiDAMkmb",
        "colab_type": "text"
      },
      "source": [
        "#Example: What Is the Average Weight of US Cars?"
      ]
    },
    {
      "cell_type": "code",
      "metadata": {
        "id": "XzDyMhrNMoML",
        "colab_type": "code",
        "colab": {}
      },
      "source": [
        "import numpy as np\n",
        "from vega_datasets import data\n",
        "data.list_datasets()"
      ],
      "execution_count": 0,
      "outputs": []
    },
    {
      "cell_type": "code",
      "metadata": {
        "id": "A3PbGx4GUQ8W",
        "colab_type": "code",
        "colab": {}
      },
      "source": [
        "d_cars = data.cars()\n",
        "d_cars.head()"
      ],
      "execution_count": 0,
      "outputs": []
    },
    {
      "cell_type": "code",
      "metadata": {
        "id": "D_C6gUJeVgmp",
        "colab_type": "code",
        "colab": {}
      },
      "source": [
        "d_weights = np.array(d_cars['Weight_in_lbs'])\n",
        "print(d_weights)"
      ],
      "execution_count": 0,
      "outputs": []
    },
    {
      "cell_type": "code",
      "metadata": {
        "id": "1BNXu7rRV_YX",
        "colab_type": "code",
        "colab": {}
      },
      "source": [
        "print(\"Mean weight: \", d_weights.mean())\n",
        "print(\"Standard deviation:\", d_weights.std())\n",
        "print(\"Minimum weight: \", d_weights.min())\n",
        "print(\"Maximum weight: \", d_weights.max())"
      ],
      "execution_count": 0,
      "outputs": []
    },
    {
      "cell_type": "code",
      "metadata": {
        "id": "9H4sf_FNXalj",
        "colab_type": "code",
        "colab": {}
      },
      "source": [
        "print(\"25th percentile: \", np.percentile(d_weights, 25))\n",
        "print(\"Median: \", np.median(d_weights))\n",
        "print(\"75th percentile: \", np.percentile(d_weights, 75))"
      ],
      "execution_count": 0,
      "outputs": []
    },
    {
      "cell_type": "code",
      "metadata": {
        "id": "LlizrQAcXftF",
        "colab_type": "code",
        "colab": {}
      },
      "source": [
        "%matplotlib inline\n",
        "import matplotlib.pyplot as plt\n",
        "import seaborn; seaborn.set() # set plot style\n",
        "plt.hist(d_weights)\n",
        "plt.title('Weight Distribution of US Cars')\n",
        "plt.xlabel('weight (lbs)')\n",
        "plt.ylabel('number');"
      ],
      "execution_count": 0,
      "outputs": []
    },
    {
      "cell_type": "markdown",
      "metadata": {
        "id": "1YnWYewQYJL1",
        "colab_type": "text"
      },
      "source": [
        "#Computation on Arrays: Broadcasting"
      ]
    },
    {
      "cell_type": "markdown",
      "metadata": {
        "id": "XVFldIP7dWtz",
        "colab_type": "text"
      },
      "source": [
        "![broadcast](https://jakevdp.github.io/PythonDataScienceHandbook/figures/02.05-broadcasting.png)"
      ]
    },
    {
      "cell_type": "markdown",
      "metadata": {
        "id": "9LDU9l8xYSih",
        "colab_type": "text"
      },
      "source": [
        "##Introducing Broadcasting"
      ]
    },
    {
      "cell_type": "code",
      "metadata": {
        "id": "W1fnJo-hYTni",
        "colab_type": "code",
        "colab": {}
      },
      "source": [
        "import numpy as np\n",
        "a = np.array([0, 1, 2])\n",
        "b = np.array([5, 5, 5])\n",
        "a + b"
      ],
      "execution_count": 0,
      "outputs": []
    },
    {
      "cell_type": "code",
      "metadata": {
        "id": "1Zzl0ofvYmWo",
        "colab_type": "code",
        "colab": {}
      },
      "source": [
        "a + 5"
      ],
      "execution_count": 0,
      "outputs": []
    },
    {
      "cell_type": "code",
      "metadata": {
        "id": "O46H1lxsY4vn",
        "colab_type": "code",
        "colab": {}
      },
      "source": [
        "M = np.ones((3, 3))\n",
        "M"
      ],
      "execution_count": 0,
      "outputs": []
    },
    {
      "cell_type": "code",
      "metadata": {
        "id": "rHYiSdOwY6kZ",
        "colab_type": "code",
        "colab": {}
      },
      "source": [
        "M + a"
      ],
      "execution_count": 0,
      "outputs": []
    },
    {
      "cell_type": "code",
      "metadata": {
        "id": "T9hsix04ZEgG",
        "colab_type": "code",
        "colab": {}
      },
      "source": [
        "a = np.arange(3)\n",
        "b = np.arange(3)[:, np.newaxis]\n",
        "print(a)\n",
        "print(b)\n",
        "a + b"
      ],
      "execution_count": 0,
      "outputs": []
    },
    {
      "cell_type": "markdown",
      "metadata": {
        "id": "LFvtemt3aFsR",
        "colab_type": "text"
      },
      "source": [
        "##Rules of Broadcasting"
      ]
    },
    {
      "cell_type": "markdown",
      "metadata": {
        "id": "q2C-cug2Z6at",
        "colab_type": "text"
      },
      "source": [
        "*   Rule 1: If the two arrays differ in their number of dimensions, the shape of the\n",
        "one with fewer dimensions is padded with ones on its leading (left) side.\n",
        "*   Rule 2: If the shape of the two arrays does not match in any dimension, the array\n",
        "with shape equal to 1 in that dimension is stretched to match the other shape.\n",
        "*  Rule 3: If in any dimension the sizes disagree and neither is equal to 1, an error is\n",
        "raised.\n",
        "\n"
      ]
    },
    {
      "cell_type": "code",
      "metadata": {
        "id": "ZBV4zO8daJjV",
        "colab_type": "code",
        "colab": {}
      },
      "source": [
        "M = np.ones((2, 3))\n",
        "a = np.arange(3)\n",
        "print(\"M = \", M)\n",
        "print(\"a = \", a)\n",
        "M + a"
      ],
      "execution_count": 0,
      "outputs": []
    },
    {
      "cell_type": "code",
      "metadata": {
        "id": "HGwxEUJXcb02",
        "colab_type": "code",
        "colab": {}
      },
      "source": [
        "a = np.arange(3).reshape((3, 1))\n",
        "b = np.arange(3)\n",
        "a + b"
      ],
      "execution_count": 0,
      "outputs": []
    },
    {
      "cell_type": "code",
      "metadata": {
        "id": "zC9QJ0IbciyY",
        "colab_type": "code",
        "colab": {}
      },
      "source": [
        "M = np.ones((3, 2))\n",
        "a = np.arange(3)\n",
        "print(\"ERROR SHOULD BE GENERATED\")\n",
        "M + a"
      ],
      "execution_count": 0,
      "outputs": []
    },
    {
      "cell_type": "code",
      "metadata": {
        "id": "vTf2GuancuUO",
        "colab_type": "code",
        "colab": {}
      },
      "source": [
        "a[:, np.newaxis].shape\n",
        "M + a[:, np.newaxis]"
      ],
      "execution_count": 0,
      "outputs": []
    },
    {
      "cell_type": "code",
      "metadata": {
        "id": "ZlM5rCRZdAbc",
        "colab_type": "code",
        "colab": {}
      },
      "source": [
        "np.logaddexp(M, a[:, np.newaxis]) # broadcasting works with many other functions"
      ],
      "execution_count": 0,
      "outputs": []
    },
    {
      "cell_type": "markdown",
      "metadata": {
        "id": "QwTAZWe9eKnU",
        "colab_type": "text"
      },
      "source": [
        "##Broadcasting in Practice"
      ]
    },
    {
      "cell_type": "code",
      "metadata": {
        "id": "6YNMkAkBeLqi",
        "colab_type": "code",
        "colab": {}
      },
      "source": [
        "X = np.random.random((10, 3))"
      ],
      "execution_count": 0,
      "outputs": []
    },
    {
      "cell_type": "code",
      "metadata": {
        "id": "QN5zKkGkeZY7",
        "colab_type": "code",
        "colab": {}
      },
      "source": [
        "Xmean = X.mean(0)\n",
        "Xmean"
      ],
      "execution_count": 0,
      "outputs": []
    },
    {
      "cell_type": "code",
      "metadata": {
        "id": "w1JXoDpHecr4",
        "colab_type": "code",
        "colab": {}
      },
      "source": [
        "X_centered = X - Xmean\n",
        "X_centered.mean(0)"
      ],
      "execution_count": 0,
      "outputs": []
    },
    {
      "cell_type": "code",
      "metadata": {
        "id": "Y9CO9zEwelLI",
        "colab_type": "code",
        "colab": {}
      },
      "source": [
        "# x and y have 50 steps from 0 to 5\n",
        "x = np.linspace(0, 5, 50)\n",
        "y = np.linspace(0, 5, 50)[:, np.newaxis]\n",
        "z = np.sin(x) ** 10 + np.cos(10 + y * x) * np.cos(x)\n",
        "\n",
        "%matplotlib inline\n",
        "import matplotlib.pyplot as plt\n",
        "\n",
        "plt.imshow(z, origin='lower', extent=[0, 5, 0, 5],\n",
        "cmap='viridis')\n",
        "plt.colorbar();"
      ],
      "execution_count": 0,
      "outputs": []
    },
    {
      "cell_type": "markdown",
      "metadata": {
        "id": "wFAcdzTKkS-l",
        "colab_type": "text"
      },
      "source": [
        "#Comparisons, Masks, and Boolean Logic"
      ]
    },
    {
      "cell_type": "markdown",
      "metadata": {
        "id": "KKVOjoeNkVDE",
        "colab_type": "text"
      },
      "source": [
        "##Example: Obesity Rate"
      ]
    },
    {
      "cell_type": "code",
      "metadata": {
        "id": "cBfd0hEOkY45",
        "colab_type": "code",
        "colab": {}
      },
      "source": [
        "import numpy as np\n",
        "from vega_datasets import data\n",
        "\n",
        "d_obesity = data.obesity()\n",
        "d_rate = np.array(d_obesity['rate'])\n",
        "\n",
        "%matplotlib inline\n",
        "import matplotlib.pyplot as plt\n",
        "import seaborn; seaborn.set() # set plot styles\n",
        "plt.hist(d_rate, 10);"
      ],
      "execution_count": 0,
      "outputs": []
    },
    {
      "cell_type": "markdown",
      "metadata": {
        "id": "AYA7KU4-r1io",
        "colab_type": "text"
      },
      "source": [
        "##Comparison Operators as ufuncs"
      ]
    },
    {
      "cell_type": "markdown",
      "metadata": {
        "id": "8VR3RcKSd_va",
        "colab_type": "text"
      },
      "source": [
        "| Operator\t    | Equivalent ufunc    || Operator\t   | Equivalent ufunc    |\n",
        "|---------------|---------------------||---------------|---------------------|\n",
        "|``==``         |``np.equal``         ||``!=``         |``np.not_equal``     |\n",
        "|``<``          |``np.less``          ||``<=``         |``np.less_equal``    |\n",
        "|``>``          |``np.greater``       ||``>=``         |``np.greater_equal`` |"
      ]
    },
    {
      "cell_type": "code",
      "metadata": {
        "id": "sNjp-Drsr6yF",
        "colab_type": "code",
        "colab": {}
      },
      "source": [
        "import numpy as np\n",
        "x = np.array([1, 2, 3, 4, 5])\n",
        "print(x)\n",
        "print(x < 3)  # less than\n",
        "print(x > 3)  # greater than\n",
        "print(x <= 3) # less than or equal\n",
        "print(x == 3) # equal \n",
        "print(x != 3) # not equal\n",
        "print(x >= 3) # greater than or equal \n",
        "print((2 * x) == (x ** 2))"
      ],
      "execution_count": 0,
      "outputs": []
    },
    {
      "cell_type": "code",
      "metadata": {
        "id": "NVh1z_5Es8uT",
        "colab_type": "code",
        "colab": {}
      },
      "source": [
        "rng = np.random.RandomState(0)\n",
        "x = rng.randint(10, size=(3, 4))\n",
        "x"
      ],
      "execution_count": 0,
      "outputs": []
    },
    {
      "cell_type": "code",
      "metadata": {
        "id": "SJ11Uvkjs-DR",
        "colab_type": "code",
        "colab": {}
      },
      "source": [
        "x < 6"
      ],
      "execution_count": 0,
      "outputs": []
    },
    {
      "cell_type": "markdown",
      "metadata": {
        "id": "4LowofYnvcXC",
        "colab_type": "text"
      },
      "source": [
        "##Working with Boolean Arrays"
      ]
    },
    {
      "cell_type": "code",
      "metadata": {
        "id": "rKOOXcY_vdmi",
        "colab_type": "code",
        "colab": {}
      },
      "source": [
        "print(x)"
      ],
      "execution_count": 0,
      "outputs": []
    },
    {
      "cell_type": "code",
      "metadata": {
        "id": "avF6Zq9nfws5",
        "colab_type": "code",
        "colab": {}
      },
      "source": [
        "# how many values less than 6?\n",
        "np.count_nonzero(x < 6)"
      ],
      "execution_count": 0,
      "outputs": []
    },
    {
      "cell_type": "code",
      "metadata": {
        "id": "JgHetFd5f1xL",
        "colab_type": "code",
        "colab": {}
      },
      "source": [
        "np.sum(x < 6)"
      ],
      "execution_count": 0,
      "outputs": []
    },
    {
      "cell_type": "code",
      "metadata": {
        "id": "a9M0uGYgf5d_",
        "colab_type": "code",
        "colab": {}
      },
      "source": [
        "# how many values less than 6 in each row?\n",
        "np.sum(x < 6, axis=1)"
      ],
      "execution_count": 0,
      "outputs": []
    },
    {
      "cell_type": "code",
      "metadata": {
        "id": "jrK66jGAf9ZK",
        "colab_type": "code",
        "colab": {}
      },
      "source": [
        "# are there any values greater than 8?\n",
        "np.any(x > 8)"
      ],
      "execution_count": 0,
      "outputs": []
    },
    {
      "cell_type": "code",
      "metadata": {
        "id": "-cnHlTEsgFmB",
        "colab_type": "code",
        "colab": {}
      },
      "source": [
        "# are there any values less than zero?\n",
        "np.any(x < 0)"
      ],
      "execution_count": 0,
      "outputs": []
    },
    {
      "cell_type": "code",
      "metadata": {
        "id": "oZNLzYMVgJAg",
        "colab_type": "code",
        "colab": {}
      },
      "source": [
        "# are all values less than 10?\n",
        "np.all(x < 10)"
      ],
      "execution_count": 0,
      "outputs": []
    },
    {
      "cell_type": "code",
      "metadata": {
        "id": "D_xK7NopgL-w",
        "colab_type": "code",
        "colab": {}
      },
      "source": [
        "# are all values equal to 6?\n",
        " np.all(x == 6)"
      ],
      "execution_count": 0,
      "outputs": []
    },
    {
      "cell_type": "code",
      "metadata": {
        "id": "JUHlilGpheHH",
        "colab_type": "code",
        "colab": {}
      },
      "source": [
        "# are all values in each row less than 8?\n",
        "np.all(x < 8, axis=1)"
      ],
      "execution_count": 0,
      "outputs": []
    },
    {
      "cell_type": "code",
      "metadata": {
        "id": "i9mET0jEjda5",
        "colab_type": "code",
        "colab": {}
      },
      "source": [
        "import numpy as np\n",
        "from vega_datasets import data\n",
        "\n",
        "d_obesity = data.obesity()\n",
        "d_rate = np.array(d_obesity['rate'])\n",
        "\n",
        "print(np.sum((d_rate > 0.1) & (d_rate < 1.0)))\n",
        "print(np.sum(~( (d_rate <= 0.1) | (d_rate >= 1) )))"
      ],
      "execution_count": 0,
      "outputs": []
    },
    {
      "cell_type": "code",
      "metadata": {
        "id": "oQxs1VAM0gQD",
        "colab_type": "code",
        "colab": {}
      },
      "source": [
        "print(\"Number states without obesity: \", np.sum(d_rate == 0))\n",
        "print(\"Number states with obesity: \", np.sum(d_rate != 0))\n",
        "print(\"States with more than 0.15 obesity rate:\", np.sum(d_rate > 0.15))\n",
        "print(\"States with < 0.15 obesity rate:\", np.sum((d_rate > 0) & (d_rate < 0.15)))"
      ],
      "execution_count": 0,
      "outputs": []
    },
    {
      "cell_type": "markdown",
      "metadata": {
        "id": "rCILRjEh1T3K",
        "colab_type": "text"
      },
      "source": [
        "##Boolean Arrays as Masks"
      ]
    },
    {
      "cell_type": "code",
      "metadata": {
        "id": "XmdoxPB91W2l",
        "colab_type": "code",
        "colab": {}
      },
      "source": [
        "x"
      ],
      "execution_count": 0,
      "outputs": []
    },
    {
      "cell_type": "code",
      "metadata": {
        "id": "JJaEJ66L3-6r",
        "colab_type": "code",
        "colab": {}
      },
      "source": [
        "x < 5"
      ],
      "execution_count": 0,
      "outputs": []
    },
    {
      "cell_type": "code",
      "metadata": {
        "id": "LiOlpA5w4Eba",
        "colab_type": "code",
        "colab": {}
      },
      "source": [
        "x[x < 5]"
      ],
      "execution_count": 0,
      "outputs": []
    },
    {
      "cell_type": "code",
      "metadata": {
        "id": "QiyLW8M7Cf6h",
        "colab_type": "code",
        "colab": {}
      },
      "source": [
        "import numpy as np\n",
        "from vega_datasets import data\n",
        "\n",
        "d_cars = data.cars()\n",
        "d_cars.head()\n",
        "d_weights = np.array(d_cars['Weight_in_lbs'])\n",
        "d_cylinders = np.array(d_cars['Cylinders'])\n",
        "d_power = np.array(d_cars['Horsepower'])\n",
        "\n",
        "d_heavy = (d_weights > 2500)\n",
        "d_four_cylinders = (d_cylinders == 4)\n",
        "\n",
        "# Nan values are present! Use special form of median and max\n",
        "print(\"Median power of heavy cars (horsepower): \",\n",
        " np.nanmedian(d_power[d_heavy]))\n",
        "print(\"Median power of four-cylinder cars (horsepower): \",\n",
        " np.nanmedian(d_power[d_four_cylinders]))\n",
        "print(\"Maximum power of heavy cars (horsepower): \",\n",
        " np.nanmax(d_power[d_heavy]))\n",
        "print(\"Median power of non-heavy four-cylinder cars (horsepower):\",\n",
        " np.nanmedian(d_power[d_four_cylinders & ~d_heavy]))"
      ],
      "execution_count": 0,
      "outputs": []
    },
    {
      "cell_type": "code",
      "metadata": {
        "id": "vAW1H1ttcdet",
        "colab_type": "code",
        "colab": {}
      },
      "source": [
        "bool(42), bool(0)"
      ],
      "execution_count": 0,
      "outputs": []
    },
    {
      "cell_type": "code",
      "metadata": {
        "id": "RRJJFXFacyPy",
        "colab_type": "code",
        "colab": {}
      },
      "source": [
        "bool(42 and 0)"
      ],
      "execution_count": 0,
      "outputs": []
    },
    {
      "cell_type": "code",
      "metadata": {
        "id": "r7pAKJhtc0VZ",
        "colab_type": "code",
        "colab": {}
      },
      "source": [
        "bool(42 or 0)"
      ],
      "execution_count": 0,
      "outputs": []
    },
    {
      "cell_type": "code",
      "metadata": {
        "id": "zGj8pCi7c6iJ",
        "colab_type": "code",
        "colab": {}
      },
      "source": [
        "bin(42), bin(59)"
      ],
      "execution_count": 0,
      "outputs": []
    },
    {
      "cell_type": "code",
      "metadata": {
        "id": "XXYCWON-c-Zi",
        "colab_type": "code",
        "colab": {}
      },
      "source": [
        "bin(42 & 59)"
      ],
      "execution_count": 0,
      "outputs": []
    },
    {
      "cell_type": "code",
      "metadata": {
        "id": "j70QLoKjdBtp",
        "colab_type": "code",
        "colab": {}
      },
      "source": [
        "bin(42 | 59)"
      ],
      "execution_count": 0,
      "outputs": []
    },
    {
      "cell_type": "code",
      "metadata": {
        "id": "dyBqmy9ddGnG",
        "colab_type": "code",
        "colab": {}
      },
      "source": [
        "A = np.array([1, 0, 1, 0, 1, 0], dtype=bool)\n",
        "B = np.array([1, 1, 1, 0, 1, 1], dtype=bool)\n",
        "A | B"
      ],
      "execution_count": 0,
      "outputs": []
    },
    {
      "cell_type": "code",
      "metadata": {
        "id": "gljjV6o5dNXK",
        "colab_type": "code",
        "colab": {}
      },
      "source": [
        "print(\"ERROR SHOULD BE GENERATED\")\n",
        "A or B"
      ],
      "execution_count": 0,
      "outputs": []
    },
    {
      "cell_type": "code",
      "metadata": {
        "id": "o1Wg25wRdVUi",
        "colab_type": "code",
        "colab": {}
      },
      "source": [
        "x = np.arange(10)\n",
        "(x > 4) & (x < 8)"
      ],
      "execution_count": 0,
      "outputs": []
    },
    {
      "cell_type": "code",
      "metadata": {
        "id": "5rmbBb2OdYt7",
        "colab_type": "code",
        "colab": {}
      },
      "source": [
        "print(\"ERROR SHOULD BE GENERATED\")\n",
        "(x > 4) and (x < 8)"
      ],
      "execution_count": 0,
      "outputs": []
    },
    {
      "cell_type": "markdown",
      "metadata": {
        "id": "jEs4MVMLdxB5",
        "colab_type": "text"
      },
      "source": [
        "#Fancy Indexing"
      ]
    },
    {
      "cell_type": "markdown",
      "metadata": {
        "id": "g8mBf72SdyY8",
        "colab_type": "text"
      },
      "source": [
        "##Exploring Fancy Indexing"
      ]
    },
    {
      "cell_type": "code",
      "metadata": {
        "id": "vyTn3T5Wd1-C",
        "colab_type": "code",
        "colab": {}
      },
      "source": [
        "import numpy as np\n",
        "rand = np.random.RandomState(42)\n",
        "\n",
        "x = rand.randint(100, size=10)\n",
        "print(x)"
      ],
      "execution_count": 0,
      "outputs": []
    },
    {
      "cell_type": "code",
      "metadata": {
        "id": "L43FHwSNkS_S",
        "colab_type": "code",
        "colab": {}
      },
      "source": [
        " [x[3], x[7], x[2]]"
      ],
      "execution_count": 0,
      "outputs": []
    },
    {
      "cell_type": "code",
      "metadata": {
        "id": "DXPKLESLnN7s",
        "colab_type": "code",
        "colab": {}
      },
      "source": [
        "ind = [3, 7, 4]\n",
        "x[ind]"
      ],
      "execution_count": 0,
      "outputs": []
    },
    {
      "cell_type": "code",
      "metadata": {
        "id": "xZaZw_nTnTpN",
        "colab_type": "code",
        "colab": {}
      },
      "source": [
        "ind = np.array([[3, 7], [4, 5]])\n",
        "x[ind]"
      ],
      "execution_count": 0,
      "outputs": []
    },
    {
      "cell_type": "code",
      "metadata": {
        "id": "B9VoC7H8nYR4",
        "colab_type": "code",
        "colab": {}
      },
      "source": [
        "X = np.arange(12).reshape((3, 4))\n",
        "X"
      ],
      "execution_count": 0,
      "outputs": []
    },
    {
      "cell_type": "code",
      "metadata": {
        "id": "T2YAVJhVniVc",
        "colab_type": "code",
        "colab": {}
      },
      "source": [
        "row = np.array([0, 1, 2])\n",
        "col = np.array([2, 1, 3])\n",
        "X[row, col]"
      ],
      "execution_count": 0,
      "outputs": []
    },
    {
      "cell_type": "markdown",
      "metadata": {
        "id": "yOnLX0oCnoCm",
        "colab_type": "text"
      },
      "source": [
        "**Note:** fancy indexing follows broadcasting rules"
      ]
    },
    {
      "cell_type": "code",
      "metadata": {
        "id": "ghK2mGZUnuTX",
        "colab_type": "code",
        "colab": {}
      },
      "source": [
        "X[row[:, np.newaxis], col]"
      ],
      "execution_count": 0,
      "outputs": []
    },
    {
      "cell_type": "code",
      "metadata": {
        "id": "ItAd3AKpn7tR",
        "colab_type": "code",
        "colab": {}
      },
      "source": [
        "row[:, np.newaxis] * col"
      ],
      "execution_count": 0,
      "outputs": []
    },
    {
      "cell_type": "markdown",
      "metadata": {
        "id": "EowJamjin9S6",
        "colab_type": "text"
      },
      "source": [
        "##Combined Indexing"
      ]
    },
    {
      "cell_type": "code",
      "metadata": {
        "id": "Fbn-vVhXoAFR",
        "colab_type": "code",
        "colab": {}
      },
      "source": [
        "import numpy as np\n",
        "rand = np.random.RandomState(42)\n",
        "\n",
        "X = np.arange(12).reshape((3, 4))\n",
        "X"
      ],
      "execution_count": 0,
      "outputs": []
    },
    {
      "cell_type": "code",
      "metadata": {
        "id": "qWBlngYZ6b-N",
        "colab_type": "code",
        "colab": {}
      },
      "source": [
        "X[2, [2, 0, 1]] #  fancy and simple indices"
      ],
      "execution_count": 0,
      "outputs": []
    },
    {
      "cell_type": "code",
      "metadata": {
        "id": "0UbeJLot6fjK",
        "colab_type": "code",
        "colab": {}
      },
      "source": [
        "X[1:, [2, 0, 1]] # fancy indexing with slicing"
      ],
      "execution_count": 0,
      "outputs": []
    },
    {
      "cell_type": "code",
      "metadata": {
        "id": "0smmm72i6mmc",
        "colab_type": "code",
        "colab": {}
      },
      "source": [
        "mask = np.array([1, 0, 1, 0], dtype=bool)\n",
        "X[row[:, np.newaxis], mask] # fancy indexing with masking"
      ],
      "execution_count": 0,
      "outputs": []
    },
    {
      "cell_type": "markdown",
      "metadata": {
        "id": "MaSBbH4S6tsg",
        "colab_type": "text"
      },
      "source": [
        "##Example: Selecting Random Points"
      ]
    },
    {
      "cell_type": "code",
      "metadata": {
        "id": "BPA6bhf76u07",
        "colab_type": "code",
        "colab": {}
      },
      "source": [
        "mean = [0, 0]\n",
        "cov = [[1, 2],\n",
        "[2, 5]]\n",
        "X = rand.multivariate_normal(mean, cov, 100)\n",
        "X.shape"
      ],
      "execution_count": 0,
      "outputs": []
    },
    {
      "cell_type": "code",
      "metadata": {
        "id": "mW_sS21560PT",
        "colab_type": "code",
        "colab": {}
      },
      "source": [
        "%matplotlib inline\n",
        "import matplotlib.pyplot as plt\n",
        "import seaborn; seaborn.set() # for plot styling\n",
        "plt.scatter(X[:, 0], X[:, 1]);"
      ],
      "execution_count": 0,
      "outputs": []
    },
    {
      "cell_type": "code",
      "metadata": {
        "id": "59YTAMUl682S",
        "colab_type": "code",
        "colab": {}
      },
      "source": [
        "indices = np.random.choice(X.shape[0], 20, replace=False)\n",
        "indices"
      ],
      "execution_count": 0,
      "outputs": []
    },
    {
      "cell_type": "code",
      "metadata": {
        "id": "ThuP1fLn6-Fb",
        "colab_type": "code",
        "colab": {}
      },
      "source": [
        "selection = X[indices] # fancy indexing here\n",
        "selection.shape"
      ],
      "execution_count": 0,
      "outputs": []
    },
    {
      "cell_type": "code",
      "metadata": {
        "id": "qokXytip7HfW",
        "colab_type": "code",
        "colab": {}
      },
      "source": [
        "plt.scatter(X[:, 0], X[:, 1], alpha=1.0)\n",
        "plt.scatter(selection[:, 0], selection[:, 1], facecolor='red', s=200, alpha=0.2);"
      ],
      "execution_count": 0,
      "outputs": []
    },
    {
      "cell_type": "markdown",
      "metadata": {
        "id": "MpJSXdv-7x5z",
        "colab_type": "text"
      },
      "source": [
        "##Modifying Values with Fancy Indexing"
      ]
    },
    {
      "cell_type": "code",
      "metadata": {
        "id": "cL4jMEb_7zBQ",
        "colab_type": "code",
        "colab": {}
      },
      "source": [
        "x = np.arange(10)\n",
        "i = np.array([2, 1, 8, 4])\n",
        "x[i] = 99\n",
        "print(x)"
      ],
      "execution_count": 0,
      "outputs": []
    },
    {
      "cell_type": "code",
      "metadata": {
        "id": "AU0Rl9xX9Jxo",
        "colab_type": "code",
        "colab": {}
      },
      "source": [
        "x[i] -= 10\n",
        "print(x)"
      ],
      "execution_count": 0,
      "outputs": []
    },
    {
      "cell_type": "code",
      "metadata": {
        "id": "lo_kJWQS9dXV",
        "colab_type": "code",
        "colab": {}
      },
      "source": [
        "x = np.zeros(10)\n",
        "x[[0, 0]] = [4, 6] # note: ~ x[0] = 4, followed by x[0] = 6\n",
        "print(x)"
      ],
      "execution_count": 0,
      "outputs": []
    },
    {
      "cell_type": "code",
      "metadata": {
        "id": "6A74zb3W9m7v",
        "colab_type": "code",
        "colab": {}
      },
      "source": [
        "i = [2, 3, 3, 4, 4, 4]\n",
        "x[i] += 1 # note: x[i] += 1 ~ x[i] = x[i] + 1, NO ACCUMULATION\n",
        "x"
      ],
      "execution_count": 0,
      "outputs": []
    },
    {
      "cell_type": "code",
      "metadata": {
        "id": "atT0oZMS94kd",
        "colab_type": "code",
        "colab": {}
      },
      "source": [
        "x = np.zeros(10)\n",
        "np.add.at(x, i, 1) # if accumulation is needed\n",
        "print(x)"
      ],
      "execution_count": 0,
      "outputs": []
    },
    {
      "cell_type": "markdown",
      "metadata": {
        "id": "qUjJ6UqI-RnC",
        "colab_type": "text"
      },
      "source": [
        "##Example: Binning Data"
      ]
    },
    {
      "cell_type": "code",
      "metadata": {
        "id": "2SMKhZAv-PSd",
        "colab_type": "code",
        "colab": {}
      },
      "source": [
        "np.random.seed(42)\n",
        "x = np.random.randn(100)\n",
        "# compute a histogram by hand\n",
        "bins = np.linspace(-5, 5, 20)\n",
        "counts = np.zeros_like(bins)\n",
        "# find the appropriate bin for each x\n",
        "i = np.searchsorted(bins, x)\n",
        "# add 1 to each of these bins\n",
        "np.add.at(counts, i, 1)\n",
        "# plot the results\n",
        "plt.plot(bins, counts, linestyle='steps');"
      ],
      "execution_count": 0,
      "outputs": []
    },
    {
      "cell_type": "code",
      "metadata": {
        "id": "lUB-GKLmBd1J",
        "colab_type": "code",
        "colab": {}
      },
      "source": [
        "plt.hist(x, bins, histtype='step'); # standard way"
      ],
      "execution_count": 0,
      "outputs": []
    },
    {
      "cell_type": "code",
      "metadata": {
        "id": "_0M9UX_nBioJ",
        "colab_type": "code",
        "colab": {}
      },
      "source": [
        "# small size\n",
        "print(\"NumPy routine:\")\n",
        "%timeit counts, edges = np.histogram(x, bins)\n",
        "print(\"Custom routine:\")\n",
        "%timeit np.add.at(counts, np.searchsorted(bins, x), 1)"
      ],
      "execution_count": 0,
      "outputs": []
    },
    {
      "cell_type": "code",
      "metadata": {
        "id": "iGqwupf1BtJB",
        "colab_type": "code",
        "colab": {}
      },
      "source": [
        "# large size\n",
        "x = np.random.randn(1000000)\n",
        "print(\"NumPy routine:\")\n",
        "%timeit counts, edges = np.histogram(x, bins)\n",
        "print(\"Custom routine:\")\n",
        "%timeit np.add.at(counts, np.searchsorted(bins, x), 1)"
      ],
      "execution_count": 0,
      "outputs": []
    },
    {
      "cell_type": "markdown",
      "metadata": {
        "id": "dIt5hPmLB4A1",
        "colab_type": "text"
      },
      "source": [
        "#Sorting Arrays"
      ]
    },
    {
      "cell_type": "code",
      "metadata": {
        "id": "VrbFGVY4B8h0",
        "colab_type": "code",
        "colab": {}
      },
      "source": [
        "import numpy as np\n",
        "\n",
        "def selection_sort(x):\n",
        "  for i in range(len(x)):\n",
        "    swap = i + np.argmin(x[i:])\n",
        "    (x[i], x[swap]) = (x[swap], x[i])\n",
        "  return x\n",
        "\n",
        "x = np.array([2, 1, 4, 3, 5])\n",
        "selection_sort(x)"
      ],
      "execution_count": 0,
      "outputs": []
    },
    {
      "cell_type": "code",
      "metadata": {
        "id": "U-6Am2J4F1pm",
        "colab_type": "code",
        "colab": {}
      },
      "source": [
        "# drug addict's sort\n",
        "def bogosort(x):\n",
        "  while np.any(x[:-1] > x[1:]):\n",
        "    np.random.shuffle(x)\n",
        "  return x\n",
        "\n",
        "x = np.array([2, 1, 4, 3, 5])\n",
        "bogosort(x)"
      ],
      "execution_count": 0,
      "outputs": []
    },
    {
      "cell_type": "markdown",
      "metadata": {
        "id": "M0H8CnwYGDoo",
        "colab_type": "text"
      },
      "source": [
        "##Fast Sorting in NumPy: np.sort and np.argsort"
      ]
    },
    {
      "cell_type": "code",
      "metadata": {
        "id": "Gbf6VclVF9Tl",
        "colab_type": "code",
        "colab": {}
      },
      "source": [
        "x = np.array([2, 1, 4, 3, 5])\n",
        "np.sort(x)"
      ],
      "execution_count": 0,
      "outputs": []
    },
    {
      "cell_type": "code",
      "metadata": {
        "id": "hDA7Wq5mKYhU",
        "colab_type": "code",
        "colab": {}
      },
      "source": [
        "x.sort()\n",
        "print(x)"
      ],
      "execution_count": 0,
      "outputs": []
    },
    {
      "cell_type": "code",
      "metadata": {
        "id": "zThwROtNKeDe",
        "colab_type": "code",
        "colab": {}
      },
      "source": [
        "x = np.array([2, 1, 4, 3, 5])\n",
        "i = np.argsort(x)\n",
        "print(\"indices\", i)\n",
        "x[i]"
      ],
      "execution_count": 0,
      "outputs": []
    },
    {
      "cell_type": "code",
      "metadata": {
        "id": "vfVTmAxuKrsv",
        "colab_type": "code",
        "colab": {}
      },
      "source": [
        "rand = np.random.RandomState(42)\n",
        "X = rand.randint(0, 10, (4, 6))\n",
        "print(X)"
      ],
      "execution_count": 0,
      "outputs": []
    },
    {
      "cell_type": "code",
      "metadata": {
        "id": "xj8pJQFiKw3m",
        "colab_type": "code",
        "colab": {}
      },
      "source": [
        "# sort each column of X\n",
        "np.sort(X, axis=0)"
      ],
      "execution_count": 0,
      "outputs": []
    },
    {
      "cell_type": "code",
      "metadata": {
        "id": "vm-QDk-IKytu",
        "colab_type": "code",
        "colab": {}
      },
      "source": [
        "# sort each row of X\n",
        "np.sort(X, axis=1)"
      ],
      "execution_count": 0,
      "outputs": []
    },
    {
      "cell_type": "markdown",
      "metadata": {
        "id": "GdKsCcdhK9Jn",
        "colab_type": "text"
      },
      "source": [
        "##Partial Sorts: Partitioning"
      ]
    },
    {
      "cell_type": "code",
      "metadata": {
        "id": "qVDD_YFCK8cY",
        "colab_type": "code",
        "colab": {}
      },
      "source": [
        "x = np.array([7, 2, 3, 1, 6, 5, 4])\n",
        "np.partition(x, 3) # 3 smallest values in the array"
      ],
      "execution_count": 0,
      "outputs": []
    },
    {
      "cell_type": "code",
      "metadata": {
        "id": "qCTgFWO_LRHJ",
        "colab_type": "code",
        "colab": {}
      },
      "source": [
        "np.partition(X, 2, axis=1)"
      ],
      "execution_count": 0,
      "outputs": []
    },
    {
      "cell_type": "markdown",
      "metadata": {
        "id": "6VdIMsLFLatg",
        "colab_type": "text"
      },
      "source": [
        "##Example: k-Nearest Neighbors"
      ]
    },
    {
      "cell_type": "code",
      "metadata": {
        "id": "nbeQCvAbLcC8",
        "colab_type": "code",
        "colab": {}
      },
      "source": [
        "X = rand.rand(10, 2)\n",
        "%matplotlib inline\n",
        "import matplotlib.pyplot as plt\n",
        "import seaborn; seaborn.set() # Plot styling\n",
        "plt.scatter(X[:, 0], X[:, 1], s=100);"
      ],
      "execution_count": 0,
      "outputs": []
    },
    {
      "cell_type": "code",
      "metadata": {
        "id": "EjobSx7jMJ7R",
        "colab_type": "code",
        "colab": {}
      },
      "source": [
        "dist_sq = np.sum((X[:,np.newaxis,:] - X[np.newaxis,:,:]) ** 2, axis=-1)\n",
        "dist_sq.diagonal() # check that each point has 0 distance to itself"
      ],
      "execution_count": 0,
      "outputs": []
    },
    {
      "cell_type": "code",
      "metadata": {
        "id": "-fe9ey0mM1ic",
        "colab_type": "code",
        "colab": {}
      },
      "source": [
        "nearest = np.argsort(dist_sq, axis=1)\n",
        "print(nearest)"
      ],
      "execution_count": 0,
      "outputs": []
    },
    {
      "cell_type": "code",
      "metadata": {
        "id": "-RU_BGtRNGYL",
        "colab_type": "code",
        "colab": {}
      },
      "source": [
        "K = 2\n",
        "nearest_partition = np.argpartition(dist_sq, K + 1, axis=1)\n",
        "\n",
        "plt.scatter(X[:, 0], X[:, 1], s=100)\n",
        "# draw lines from each point to its two nearest neighbors\n",
        "K = 2\n",
        "for i in range(X.shape[0]):\n",
        "  for j in nearest_partition[i, :K+1]:\n",
        "    # plot a line from X[i] to X[j]\n",
        "    # use some zip magic to make it happen:\n",
        "    plt.plot(*zip(X[j], X[i]), color='black')"
      ],
      "execution_count": 0,
      "outputs": []
    },
    {
      "cell_type": "markdown",
      "metadata": {
        "id": "hyZbxuTZ6o-8",
        "colab_type": "text"
      },
      "source": [
        "#Structured Data: NumPy’s Structured Arrays"
      ]
    },
    {
      "cell_type": "code",
      "metadata": {
        "id": "-gGNmxha8rnh",
        "colab_type": "code",
        "colab": {}
      },
      "source": [
        "name = ['Alice', 'Bob', 'Cathy', 'Doug']\n",
        "age = [25, 45, 37, 19]\n",
        "weight = [55.0, 85.5, 68.0, 61.5]"
      ],
      "execution_count": 0,
      "outputs": []
    },
    {
      "cell_type": "code",
      "metadata": {
        "id": "NCcYgIvx8taU",
        "colab_type": "code",
        "colab": {}
      },
      "source": [
        "data = np.zeros(4, dtype={'names':('name', 'age', 'weight'),\n",
        "'formats':('U10', 'i4', 'f8')})\n",
        "print(data.dtype)"
      ],
      "execution_count": 0,
      "outputs": []
    },
    {
      "cell_type": "code",
      "metadata": {
        "id": "dLALZILg8xht",
        "colab_type": "code",
        "colab": {}
      },
      "source": [
        "data['name'] = name\n",
        "data['age'] = age\n",
        "data['weight'] = weight\n",
        "print(data)"
      ],
      "execution_count": 0,
      "outputs": []
    },
    {
      "cell_type": "code",
      "metadata": {
        "id": "dpG3yPu981ue",
        "colab_type": "code",
        "colab": {}
      },
      "source": [
        "# Get all names\n",
        "print(data['name'])\n",
        "# Get first row of data\n",
        "print(data[0])\n",
        "# Get the name from the last row\n",
        "print(data[-1]['name'])\n",
        "print(data[data['age'] < 30]['name'])"
      ],
      "execution_count": 0,
      "outputs": []
    },
    {
      "cell_type": "markdown",
      "metadata": {
        "id": "hPPE6H8S6q1a",
        "colab_type": "text"
      },
      "source": [
        "##Creating Structured Arrays"
      ]
    },
    {
      "cell_type": "markdown",
      "metadata": {
        "id": "xjlFQvYPeWG0",
        "colab_type": "text"
      },
      "source": [
        "| Character        | Description           | Example                             |\n",
        "| ---------        | -----------           | -------                             | \n",
        "| ``'b'``          | Byte                  | ``np.dtype('b')``                   |\n",
        "| ``'i'``          | Signed integer        | ``np.dtype('i4') == np.int32``      |\n",
        "| ``'u'``          | Unsigned integer      | ``np.dtype('u1') == np.uint8``      |\n",
        "| ``'f'``          | Floating point        | ``np.dtype('f8') == np.int64``      |\n",
        "| ``'c'``          | Complex floating point| ``np.dtype('c16') == np.complex128``|\n",
        "| ``'S'``, ``'a'`` | String                | ``np.dtype('S5')``                  |\n",
        "| ``'U'``          | Unicode string        | ``np.dtype('U') == np.str_``        |\n",
        "| ``'V'``          | Raw data (void)       | ``np.dtype('V') == np.void``        |"
      ]
    },
    {
      "cell_type": "code",
      "metadata": {
        "id": "p4S84R829O3y",
        "colab_type": "code",
        "colab": {}
      },
      "source": [
        "np.dtype({'names':('name', 'age', 'weight'),\n",
        "'formats':('U10', 'i4', 'f8')})"
      ],
      "execution_count": 0,
      "outputs": []
    },
    {
      "cell_type": "code",
      "metadata": {
        "id": "8YTD7AQV9e4Q",
        "colab_type": "code",
        "colab": {}
      },
      "source": [
        "np.dtype({'names':('name', 'age', 'weight'),\n",
        "'formats':((np.str_, 10), int, np.float32)})"
      ],
      "execution_count": 0,
      "outputs": []
    },
    {
      "cell_type": "code",
      "metadata": {
        "id": "JcZG3DIn9gNQ",
        "colab_type": "code",
        "colab": {}
      },
      "source": [
        "np.dtype([('name', 'S10'), ('age', 'i4'), ('weight', 'f8')])"
      ],
      "execution_count": 0,
      "outputs": []
    },
    {
      "cell_type": "code",
      "metadata": {
        "id": "rwa4Yrhe9jtD",
        "colab_type": "code",
        "colab": {}
      },
      "source": [
        "np.dtype('S10,i4,f8')"
      ],
      "execution_count": 0,
      "outputs": []
    },
    {
      "cell_type": "markdown",
      "metadata": {
        "id": "YDVEDec892Jo",
        "colab_type": "text"
      },
      "source": [
        "##More Advanced Compound Types"
      ]
    },
    {
      "cell_type": "code",
      "metadata": {
        "id": "5liR72BQ91ED",
        "colab_type": "code",
        "colab": {}
      },
      "source": [
        "tp = np.dtype([('id', 'i8'), ('mat', 'f8', (3, 3))])\n",
        "X = np.zeros(1, dtype=tp)\n",
        "print(X[0])\n",
        "print(X['mat'][0])"
      ],
      "execution_count": 0,
      "outputs": []
    },
    {
      "cell_type": "markdown",
      "metadata": {
        "id": "vnfia-9v-HYI",
        "colab_type": "text"
      },
      "source": [
        "##RecordArrays: Structured Arrays with a Twist"
      ]
    },
    {
      "cell_type": "code",
      "metadata": {
        "id": "iy0w5j5J-IjM",
        "colab_type": "code",
        "colab": {}
      },
      "source": [
        "print(data['age'])\n",
        "data_rec = data.view(np.recarray)\n",
        "print(data_rec.age) # fields can be accessed as attributes"
      ],
      "execution_count": 0,
      "outputs": []
    },
    {
      "cell_type": "code",
      "metadata": {
        "id": "2Cb4XgaR-ulr",
        "colab_type": "code",
        "colab": {}
      },
      "source": [
        "%timeit data['age']\n",
        "%timeit data_rec['age']\n",
        "%timeit data_rec.age"
      ],
      "execution_count": 0,
      "outputs": []
    },
    {
      "cell_type": "code",
      "metadata": {
        "id": "SaVHcLcYWQlC",
        "colab_type": "code",
        "colab": {}
      },
      "source": [
        ""
      ],
      "execution_count": 0,
      "outputs": []
    },
    {
      "cell_type": "markdown",
      "metadata": {
        "id": "fs7DMnHfmGEo",
        "colab_type": "text"
      },
      "source": [
        "# Few points to recall"
      ]
    },
    {
      "cell_type": "markdown",
      "metadata": {
        "id": "XNJI9GMfYbPS",
        "colab_type": "text"
      },
      "source": [
        "**Copy on slice**"
      ]
    },
    {
      "cell_type": "code",
      "metadata": {
        "id": "fj3kwJjkYiTk",
        "colab_type": "code",
        "colab": {}
      },
      "source": [
        "x = np.arange(3 * 5).reshape(3, 5)\n",
        "print(\"Input array:\")\n",
        "print(x)\n",
        "\n",
        "y = x[1:, 2:4]\n",
        "print(\"Sliced array:\")\n",
        "print(y)\n",
        "\n",
        "y[0, 0] = 123\n",
        "\n",
        "print(\"X after setting y[0,0] = 123\")\n",
        "print(x)\n",
        "\n",
        "print(\"Y after setting y[0,0] = 123\")\n",
        "print(y)"
      ],
      "execution_count": 0,
      "outputs": []
    },
    {
      "cell_type": "markdown",
      "metadata": {
        "id": "oIys0JgyZZS5",
        "colab_type": "text"
      },
      "source": [
        "**flatten() and ravel()**"
      ]
    },
    {
      "cell_type": "code",
      "metadata": {
        "id": "et8C1GXFZeMM",
        "colab_type": "code",
        "colab": {}
      },
      "source": [
        "x = np.arange(3 * 5).reshape(3, 5)\n",
        "print(\"Input array:\")\n",
        "print(x)\n",
        "\n",
        "y = x.flatten()\n",
        "print(\"Flattened array:\")\n",
        "print(y)\n",
        "\n",
        "z = x.ravel()\n",
        "print(\"Raveled array:\")\n",
        "print(z)\n",
        "\n",
        "y[0] = 123\n",
        "z[1] = 987\n",
        "\n",
        "print(\"X:\")\n",
        "print(x)\n",
        "print(\"Y:\")\n",
        "print(y)\n",
        "print(\"Z:\")\n",
        "print(z)"
      ],
      "execution_count": 0,
      "outputs": []
    },
    {
      "cell_type": "markdown",
      "metadata": {
        "id": "mV_UzZGRZ-Rc",
        "colab_type": "text"
      },
      "source": [
        "**transpose does not copy**"
      ]
    },
    {
      "cell_type": "code",
      "metadata": {
        "id": "osZWyJAhZ_nt",
        "colab_type": "code",
        "colab": {}
      },
      "source": [
        "x = np.arange(3 * 5).reshape(3, 5)\n",
        "print(\"Input array:\")\n",
        "print(x)\n",
        "\n",
        "y = x.transpose(0, 1)\n",
        "print(\"After setting axes order to (0, 1) nothing should be changed:\")\n",
        "print(y)\n",
        "\n",
        "z = x.transpose(1, 0)\n",
        "print(\"After setting axes order to (1, 0) we get transposed array:\")\n",
        "print(z)"
      ],
      "execution_count": 0,
      "outputs": []
    },
    {
      "cell_type": "code",
      "metadata": {
        "id": "jl31xjloaohU",
        "colab_type": "code",
        "colab": {}
      },
      "source": [
        "x = np.arange(2 * 3 * 2 * 3).reshape(2, 3, 2, 3)\n",
        "print(\"Input array:\")\n",
        "print(x)\n",
        "\n",
        "y = x.transpose(2, 0, 1, 3)\n",
        "print(\"After setting axes order to (2, 0, 1, 3):\")\n",
        "print(y)\n",
        "\n",
        "print(\"Comparing x[1, 2, 0, 2] and y[0, 1, 2, 2]:\")\n",
        "print(x[1, 2, 0, 2] == y[0, 1, 2, 2])"
      ],
      "execution_count": 0,
      "outputs": []
    },
    {
      "cell_type": "code",
      "metadata": {
        "id": "z7Lnth0Ybfd6",
        "colab_type": "code",
        "colab": {}
      },
      "source": [
        "x = np.arange(3 * 5).reshape(3, 5)\n",
        "print(\"Input array:\")\n",
        "print(x)\n",
        "\n",
        "y = x.T\n",
        "print(\"In case of 2-dimentional array we can use np.ndarray.T method for transposing:\")\n",
        "print(y)"
      ],
      "execution_count": 0,
      "outputs": []
    },
    {
      "cell_type": "code",
      "metadata": {
        "id": "3PN4WHBPbw7v",
        "colab_type": "code",
        "colab": {}
      },
      "source": [
        "x = np.arange(3 * 5).reshape(3, 5)\n",
        "print(\"Input array:\")\n",
        "print(x)\n",
        "\n",
        "y = x.transpose(1, 0)\n",
        "y[:] = 500\n",
        "\n",
        "print(\"X after setting all values of transposed array to 500:\")\n",
        "print(x)\n",
        "\n",
        "print(\"Y after setting all values of transposed array to 500:\")\n",
        "print(y)"
      ],
      "execution_count": 0,
      "outputs": []
    },
    {
      "cell_type": "markdown",
      "metadata": {
        "id": "woKOMQ1PcVum",
        "colab_type": "text"
      },
      "source": [
        "**broadcasting with many axis**"
      ]
    },
    {
      "cell_type": "code",
      "metadata": {
        "id": "F3o6LeJDcW8z",
        "colab_type": "code",
        "colab": {}
      },
      "source": [
        "a = np.arange(2 * 3 * 4).reshape(2, 3, 4)\n",
        "\n",
        "b1 = a.reshape(1, 2, 1, 3, 4)\n",
        "b2 = (a * 1000).reshape(2, 1, 3, 1 ,4)\n",
        "\n",
        "print(\"b1 shape:\", b1.shape)\n",
        "print(\"b2 shape:\", b2.shape)\n",
        "print(\"b1+b2 shape:\", (b1+b2).shape)"
      ],
      "execution_count": 0,
      "outputs": []
    },
    {
      "cell_type": "markdown",
      "metadata": {
        "id": "ZmUmClZMfryy",
        "colab_type": "text"
      },
      "source": [
        "**numerical derivative (x[1:] - x[:-1]) / dt**"
      ]
    },
    {
      "cell_type": "code",
      "metadata": {
        "id": "VZc2MTqiftjE",
        "colab_type": "code",
        "colab": {}
      },
      "source": [
        "x = np.arange(3 * 4).reshape(3, 4)**2\n",
        "dt0 = 1e-5\n",
        "dt1 = 1e-5\n",
        "\n",
        "print(\"Input x:\")\n",
        "print(x)\n",
        "\n",
        "print(\"dx/dt0 (partial over axis=0):\")\n",
        "print((x[1:]-x[:-1]) / dt0)\n",
        "\n",
        "print(\"dx/dt1 (partial over axis=1):\")\n",
        "print((x[:, 1:]-x[:, :-1]) / dt1)"
      ],
      "execution_count": 0,
      "outputs": []
    }
  ]
}