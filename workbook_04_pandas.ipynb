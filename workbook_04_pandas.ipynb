{
  "nbformat": 4,
  "nbformat_minor": 0,
  "metadata": {
    "colab": {
      "name": "workbook_04_pandas.ipynb",
      "provenance": [],
      "toc_visible": true,
      "include_colab_link": true
    },
    "kernelspec": {
      "name": "python3",
      "display_name": "Python 3"
    }
  },
  "cells": [
    {
      "cell_type": "markdown",
      "metadata": {
        "id": "view-in-github",
        "colab_type": "text"
      },
      "source": [
        "<a href=\"https://colab.research.google.com/github/fbeilstein/machine_learning/blob/master/workbook_04_pandas.ipynb\" target=\"_parent\"><img src=\"https://colab.research.google.com/assets/colab-badge.svg\" alt=\"Open In Colab\"/></a>"
      ]
    },
    {
      "cell_type": "markdown",
      "metadata": {
        "id": "tv61qZNL0Fpj",
        "colab_type": "text"
      },
      "source": [
        "# Importing pandas\n",
        "\n",
        "Getting started and checking your pandas setup.\n",
        "\n",
        "\n",
        "Difficulty: **easy**"
      ]
    },
    {
      "cell_type": "markdown",
      "metadata": {
        "id": "bm_CDctI0L0f",
        "colab_type": "text"
      },
      "source": [
        "##Problem 1.\n",
        "\n"
      ]
    },
    {
      "cell_type": "markdown",
      "metadata": {
        "id": "O3B5ERgt0dZV",
        "colab_type": "text"
      },
      "source": [
        " Import pandas under the name `pd`."
      ]
    },
    {
      "cell_type": "code",
      "metadata": {
        "id": "gJM62vHA0Fpk",
        "colab_type": "code",
        "colab": {}
      },
      "source": [
        "# Enter your code here"
      ],
      "execution_count": null,
      "outputs": []
    },
    {
      "cell_type": "markdown",
      "metadata": {
        "id": "cMZFvXS70Fpm",
        "colab_type": "text"
      },
      "source": [
        "###Solution"
      ]
    },
    {
      "cell_type": "code",
      "metadata": {
        "id": "l1oa68Wh0Fpn",
        "colab_type": "code",
        "colab": {}
      },
      "source": [
        "import pandas as pd"
      ],
      "execution_count": null,
      "outputs": []
    },
    {
      "cell_type": "markdown",
      "metadata": {
        "id": "JnPc49S50Fpo",
        "colab_type": "text"
      },
      "source": [
        "##Problem 2."
      ]
    },
    {
      "cell_type": "markdown",
      "metadata": {
        "id": "B8RwOU_ZRCyC",
        "colab_type": "text"
      },
      "source": [
        " Print the version of pandas that has been imported."
      ]
    },
    {
      "cell_type": "code",
      "metadata": {
        "id": "dIcdlg9C0Fpp",
        "colab_type": "code",
        "colab": {}
      },
      "source": [
        "import pandas as pd\n",
        "\n",
        "# Enter your code here"
      ],
      "execution_count": null,
      "outputs": []
    },
    {
      "cell_type": "markdown",
      "metadata": {
        "id": "pvnRJFyB0Fpq",
        "colab_type": "text"
      },
      "source": [
        "###Solution"
      ]
    },
    {
      "cell_type": "code",
      "metadata": {
        "id": "XSaqlTH80Fpr",
        "colab_type": "code",
        "colab": {}
      },
      "source": [
        "import pandas as pd\n",
        "\n",
        "# Solution\n",
        "pd.__version__"
      ],
      "execution_count": null,
      "outputs": []
    },
    {
      "cell_type": "markdown",
      "metadata": {
        "id": "_s95ygNE0Fps",
        "colab_type": "text"
      },
      "source": [
        "##Problem 3."
      ]
    },
    {
      "cell_type": "markdown",
      "metadata": {
        "id": "AYjIeGivRVYJ",
        "colab_type": "text"
      },
      "source": [
        "Print out all the version information of the libraries that are required by the pandas library."
      ]
    },
    {
      "cell_type": "code",
      "metadata": {
        "id": "Pjg_ZomG0Fpt",
        "colab_type": "code",
        "colab": {}
      },
      "source": [
        "import pandas as pd\n",
        "\n",
        "# Enter your code here"
      ],
      "execution_count": null,
      "outputs": []
    },
    {
      "cell_type": "markdown",
      "metadata": {
        "id": "Ormr5VBC0Fpu",
        "colab_type": "text"
      },
      "source": [
        "###Solution"
      ]
    },
    {
      "cell_type": "code",
      "metadata": {
        "id": "uQctTimb0Fpv",
        "colab_type": "code",
        "colab": {}
      },
      "source": [
        "import pandas as pd\n",
        "\n",
        "# Solution\n",
        "pd.show_versions()"
      ],
      "execution_count": null,
      "outputs": []
    },
    {
      "cell_type": "markdown",
      "metadata": {
        "id": "32Uywid20Fpw",
        "colab_type": "text"
      },
      "source": [
        "# DataFrame basics\n",
        "\n",
        "A few of the fundamental routines for selecting, sorting, adding and aggregating data in DataFrames.\n",
        "\n",
        "Difficulty: **easy**\n",
        "\n"
      ]
    },
    {
      "cell_type": "markdown",
      "metadata": {
        "id": "KRzKusR00Fp6",
        "colab_type": "text"
      },
      "source": [
        "##Problem 1.\n"
      ]
    },
    {
      "cell_type": "markdown",
      "metadata": {
        "id": "xIgTH3wESKWg",
        "colab_type": "text"
      },
      "source": [
        "Create a DataFrame from given Python dictionary data\n",
        "\n",
        "**Possible Input:**\n",
        "```python\n",
        "data = {'animal': ['cat', 'cat', 'snake', 'dog', 'dog', 'cat', 'snake', 'cat', 'dog', 'dog'],\n",
        "        'age': [2.5, 3, 0.5, np.nan, 5, 2, 4.5, np.nan, 7, 3],\n",
        "        'visits': [1, 3, 2, 3, 2, 3, 1, 1, 2, 1],\n",
        "        'priority': ['yes', 'yes', 'no', 'yes', 'no', 'no', 'no', 'yes', 'no', 'no']}\n",
        "labels = ['a', 'b', 'c', 'd', 'e', 'f', 'g', 'h', 'i', 'j']\n",
        "```\n",
        "\n",
        "**Expected Output:**\n",
        "```\n",
        "\tanimal\tage\tvisits\tpriority\n",
        "a\tcat\t2.5\t1\tyes\n",
        "b\tcat\t3.0\t3\tyes\n",
        "c\tsnake\t0.5\t2\tno\n",
        "d\tdog\tNaN\t3\tyes\n",
        "e\tdog\t5.0\t2\tno\n",
        "f\tcat\t2.0\t3\tno\n",
        "g\tsnake\t4.5\t1\tno\n",
        "h\tcat\tNaN\t1\tyes\n",
        "i\tdog\t7.0\t2\tno\n",
        "j\tdog\t3.0\t1\tno\n",
        "```\n",
        "\n"
      ]
    },
    {
      "cell_type": "code",
      "metadata": {
        "id": "vi9VdmQo0Fpx",
        "colab_type": "code",
        "colab": {}
      },
      "source": [
        "import numpy as np\n",
        "import pandas as pd\n",
        "\n",
        "# Input\n",
        "data = {'animal'  : ['cat', 'cat', 'snake',  'dog', 'dog', 'cat', 'snake',  'cat', 'dog', 'dog'],\n",
        "        'age'     : [  2.5,     3,     0.5, np.nan,     5,     2,     4.5, np.nan,     7,     3],\n",
        "        'visits'  : [    1,     3,       2,      3,     2,     3,       1,      1,     2,     1],\n",
        "        'priority': ['yes', 'yes',    'no',  'yes',  'no',  'no',    'no',  'yes',  'no',  'no']}\n",
        "labels =            [  'a',   'b',     'c',    'd',   'e',   'f',     'g',    'h',   'i',   'j']\n",
        "df = pd.DataFrame(data, index=labels)\n",
        "\n",
        "# Enter your code here"
      ],
      "execution_count": null,
      "outputs": []
    },
    {
      "cell_type": "markdown",
      "metadata": {
        "id": "uWVQBDAe0Fp9",
        "colab_type": "text"
      },
      "source": [
        "###Solution"
      ]
    },
    {
      "cell_type": "code",
      "metadata": {
        "id": "xtDBwdGo0Fp9",
        "colab_type": "code",
        "colab": {}
      },
      "source": [
        "import numpy as np\n",
        "import pandas as pd\n",
        "\n",
        "# Input\n",
        "data = {'animal'  : ['cat', 'cat', 'snake',  'dog', 'dog', 'cat', 'snake',  'cat', 'dog', 'dog'],\n",
        "        'age'     : [  2.5,     3,     0.5, np.nan,     5,     2,     4.5, np.nan,     7,     3],\n",
        "        'visits'  : [    1,     3,       2,      3,     2,     3,       1,      1,     2,     1],\n",
        "        'priority': ['yes', 'yes',    'no',  'yes',  'no',  'no',    'no',  'yes',  'no',  'no']}\n",
        "labels =            [  'a',   'b',     'c',    'd',   'e',   'f',     'g',    'h',   'i',   'j']\n",
        "df = pd.DataFrame(data, index=labels)\n",
        "\n",
        "# Solution\n",
        "pd.DataFrame(data, index=labels)"
      ],
      "execution_count": null,
      "outputs": []
    },
    {
      "cell_type": "markdown",
      "metadata": {
        "id": "4ZcGduQU0Fp_",
        "colab_type": "text"
      },
      "source": [
        "##Problem 2."
      ]
    },
    {
      "cell_type": "markdown",
      "metadata": {
        "id": "gvFBAFnvjN4J",
        "colab_type": "text"
      },
      "source": [
        "**Problem:**\n",
        "Display a summary on Python Objects contained within the given DataFrame.\n",
        "\n",
        "**Possible Input:**\n",
        "```python\n",
        "data = {'animal': ['cat', 'cat', 'snake', 'dog', 'dog', 'cat', 'snake', 'cat', 'dog', 'dog'],\n",
        "        'age': [2.5, 3, 0.5, np.nan, 5, 2, 4.5, np.nan, 7, 3],\n",
        "        'visits': [1, 3, 2, 3, 2, 3, 1, 1, 2, 1],\n",
        "        'priority': ['yes', 'yes', 'no', 'yes', 'no', 'no', 'no', 'yes', 'no', 'no']}\n",
        "labels = ['a', 'b', 'c', 'd', 'e', 'f', 'g', 'h', 'i', 'j']\n",
        "df = pd.DataFrame(data, index=labels)\n",
        "```\n",
        "\n",
        "**Expected Output:**\n",
        "```\n",
        "<class 'pandas.core.frame.DataFrame'>\n",
        "Index: 10 entries, a to j\n",
        "Data columns (total 4 columns):\n",
        "animal      10 non-null object\n",
        "age         8 non-null float64\n",
        "visits      10 non-null int64\n",
        "priority    10 non-null object\n",
        "dtypes: float64(1), int64(1), object(2)\n",
        "memory usage: 400.0+ bytes\n",
        "```"
      ]
    },
    {
      "cell_type": "code",
      "metadata": {
        "id": "QP3gyJtH0Fp_",
        "colab_type": "code",
        "colab": {}
      },
      "source": [
        "import numpy as np\n",
        "import pandas as pd\n",
        "\n",
        "# Input\n",
        "data = {'animal'  : ['cat', 'cat', 'snake',  'dog', 'dog', 'cat', 'snake',  'cat', 'dog', 'dog'],\n",
        "        'age'     : [  2.5,     3,     0.5, np.nan,     5,     2,     4.5, np.nan,     7,     3],\n",
        "        'visits'  : [    1,     3,       2,      3,     2,     3,       1,      1,     2,     1],\n",
        "        'priority': ['yes', 'yes',    'no',  'yes',  'no',  'no',    'no',  'yes',  'no',  'no']}\n",
        "labels =            [  'a',   'b',     'c',    'd',   'e',   'f',     'g',    'h',   'i',   'j']\n",
        "df = pd.DataFrame(data, index=labels)\n",
        "\n",
        "# Enter your code here"
      ],
      "execution_count": null,
      "outputs": []
    },
    {
      "cell_type": "markdown",
      "metadata": {
        "id": "JMWwxYzT0FqA",
        "colab_type": "text"
      },
      "source": [
        "###Solution:"
      ]
    },
    {
      "cell_type": "code",
      "metadata": {
        "id": "KY1aQgJ90FqB",
        "colab_type": "code",
        "colab": {}
      },
      "source": [
        "import numpy as np\n",
        "import pandas as pd\n",
        "\n",
        "# Input\n",
        "data = {'animal'  : ['cat', 'cat', 'snake',  'dog', 'dog', 'cat', 'snake',  'cat', 'dog', 'dog'],\n",
        "        'age'     : [  2.5,     3,     0.5, np.nan,     5,     2,     4.5, np.nan,     7,     3],\n",
        "        'visits'  : [    1,     3,       2,      3,     2,     3,       1,      1,     2,     1],\n",
        "        'priority': ['yes', 'yes',    'no',  'yes',  'no',  'no',    'no',  'yes',  'no',  'no']}\n",
        "labels =            [  'a',   'b',     'c',    'd',   'e',   'f',     'g',    'h',   'i',   'j']\n",
        "df = pd.DataFrame(data, index=labels)\n",
        "\n",
        "# Solution\n",
        "df.info()"
      ],
      "execution_count": null,
      "outputs": []
    },
    {
      "cell_type": "markdown",
      "metadata": {
        "colab_type": "text",
        "id": "tsY78ko-iVRS"
      },
      "source": [
        "##Problem 3."
      ]
    },
    {
      "cell_type": "markdown",
      "metadata": {
        "id": "G6kFBw49qByV",
        "colab_type": "text"
      },
      "source": [
        "**Problem:**\n",
        "Display a summary on information contained within DataFrame given.\n",
        "\n",
        "**Possible Input:**\n",
        "```python\n",
        "data = {'animal': ['cat', 'cat', 'snake', 'dog', 'dog', 'cat', 'snake', 'cat', 'dog', 'dog'],\n",
        "        'age': [2.5, 3, 0.5, np.nan, 5, 2, 4.5, np.nan, 7, 3],\n",
        "        'visits': [1, 3, 2, 3, 2, 3, 1, 1, 2, 1],\n",
        "        'priority': ['yes', 'yes', 'no', 'yes', 'no', 'no', 'no', 'yes', 'no', 'no']}\n",
        "labels = ['a', 'b', 'c', 'd', 'e', 'f', 'g', 'h', 'i', 'j']\n",
        "df = pd.DataFrame(data, index=labels)\n",
        "```\n",
        "\n",
        "**Expected Output:**\n",
        "```\n",
        "\t         age\tvisits\n",
        "count\t8.000000\t10.000000\n",
        "mean\t3.437500\t1.900000\n",
        "std\t2.007797\t0.875595\n",
        "min\t0.500000\t1.000000\n",
        "25%\t2.375000\t1.000000\n",
        "50%\t3.000000\t2.000000\n",
        "75%\t4.625000\t2.750000\n",
        "max\t7.000000\t3.000000\n",
        "```\n",
        "\n"
      ]
    },
    {
      "cell_type": "code",
      "metadata": {
        "id": "TiuY25jVimNd",
        "colab_type": "code",
        "colab": {}
      },
      "source": [
        "import numpy as np\n",
        "import pandas as pd\n",
        "\n",
        "# Input\n",
        "data = {'animal'  : ['cat', 'cat', 'snake',  'dog', 'dog', 'cat', 'snake',  'cat', 'dog', 'dog'],\n",
        "        'age'     : [  2.5,     3,     0.5, np.nan,     5,     2,     4.5, np.nan,     7,     3],\n",
        "        'visits'  : [    1,     3,       2,      3,     2,     3,       1,      1,     2,     1],\n",
        "        'priority': ['yes', 'yes',    'no',  'yes',  'no',  'no',    'no',  'yes',  'no',  'no']}\n",
        "labels =            [  'a',   'b',     'c',    'd',   'e',   'f',     'g',    'h',   'i',   'j']\n",
        "df = pd.DataFrame(data, index=labels)\n",
        "\n",
        "# Enter your code here"
      ],
      "execution_count": null,
      "outputs": []
    },
    {
      "cell_type": "markdown",
      "metadata": {
        "id": "7tq67T2OTLtf",
        "colab_type": "text"
      },
      "source": [
        "###Solution:"
      ]
    },
    {
      "cell_type": "code",
      "metadata": {
        "id": "45j5aomzTGWU",
        "colab_type": "code",
        "colab": {}
      },
      "source": [
        "import numpy as np\n",
        "import pandas as pd\n",
        "\n",
        "# Input\n",
        "data = {'animal'  : ['cat', 'cat', 'snake',  'dog', 'dog', 'cat', 'snake',  'cat', 'dog', 'dog'],\n",
        "        'age'     : [  2.5,     3,     0.5, np.nan,     5,     2,     4.5, np.nan,     7,     3],\n",
        "        'visits'  : [    1,     3,       2,      3,     2,     3,       1,      1,     2,     1],\n",
        "        'priority': ['yes', 'yes',    'no',  'yes',  'no',  'no',    'no',  'yes',  'no',  'no']}\n",
        "labels =            [  'a',   'b',     'c',    'd',   'e',   'f',     'g',    'h',   'i',   'j']\n",
        "df = pd.DataFrame(data, index=labels)\n",
        "\n",
        "# Solution\n",
        "df.describe()"
      ],
      "execution_count": null,
      "outputs": []
    },
    {
      "cell_type": "markdown",
      "metadata": {
        "id": "ThZvUPRp0FqC",
        "colab_type": "text"
      },
      "source": [
        "##Problem 4."
      ]
    },
    {
      "cell_type": "markdown",
      "metadata": {
        "id": "7yQ-TuTBquxw",
        "colab_type": "text"
      },
      "source": [
        "**Problem:**\n",
        "Return the first 3 rows of the DataFrame given.\n",
        "\n",
        "**Possible Input:**\n",
        "```python\n",
        "data = {'animal': ['cat', 'cat', 'snake', 'dog', 'dog', 'cat', 'snake', 'cat', 'dog', 'dog'],\n",
        "        'age': [2.5, 3, 0.5, np.nan, 5, 2, 4.5, np.nan, 7, 3],\n",
        "        'visits': [1, 3, 2, 3, 2, 3, 1, 1, 2, 1],\n",
        "        'priority': ['yes', 'yes', 'no', 'yes', 'no', 'no', 'no', 'yes', 'no', 'no']}\n",
        "labels = ['a', 'b', 'c', 'd', 'e', 'f', 'g', 'h', 'i', 'j']\n",
        "df = pd.DataFrame(data, index=labels)\n",
        "```\n",
        "\n",
        "**Expected Output:**\n",
        "```\n",
        "\tanimal\tage\tvisits\tpriority\n",
        "a\tcat\t2.5\t1\tyes\n",
        "b\tcat\t3.0\t3\tyes\n",
        "c\tsnake\t0.5\t2\tno\n",
        "```\n",
        "\n"
      ]
    },
    {
      "cell_type": "code",
      "metadata": {
        "id": "kn-iXYNj0FqC",
        "colab_type": "code",
        "colab": {}
      },
      "source": [
        "import numpy as np\n",
        "import pandas as pd\n",
        "\n",
        "# Input\n",
        "data = {'animal'  : ['cat', 'cat', 'snake',  'dog', 'dog', 'cat', 'snake',  'cat', 'dog', 'dog'],\n",
        "        'age'     : [  2.5,     3,     0.5, np.nan,     5,     2,     4.5, np.nan,     7,     3],\n",
        "        'visits'  : [    1,     3,       2,      3,     2,     3,       1,      1,     2,     1],\n",
        "        'priority': ['yes', 'yes',    'no',  'yes',  'no',  'no',    'no',  'yes',  'no',  'no']}\n",
        "labels =            [  'a',   'b',     'c',    'd',   'e',   'f',     'g',    'h',   'i',   'j']\n",
        "df = pd.DataFrame(data, index=labels)\n",
        "\n",
        "# Enter your code here"
      ],
      "execution_count": null,
      "outputs": []
    },
    {
      "cell_type": "markdown",
      "metadata": {
        "id": "tr-cCA680FqE",
        "colab_type": "text"
      },
      "source": [
        "###Solution A:"
      ]
    },
    {
      "cell_type": "code",
      "metadata": {
        "id": "eQ4tq0iI0FqF",
        "colab_type": "code",
        "colab": {}
      },
      "source": [
        "import numpy as np\n",
        "import pandas as pd\n",
        "\n",
        "# Input\n",
        "data = {'animal'  : ['cat', 'cat', 'snake',  'dog', 'dog', 'cat', 'snake',  'cat', 'dog', 'dog'],\n",
        "        'age'     : [  2.5,     3,     0.5, np.nan,     5,     2,     4.5, np.nan,     7,     3],\n",
        "        'visits'  : [    1,     3,       2,      3,     2,     3,       1,      1,     2,     1],\n",
        "        'priority': ['yes', 'yes',    'no',  'yes',  'no',  'no',    'no',  'yes',  'no',  'no']}\n",
        "labels =            [  'a',   'b',     'c',    'd',   'e',   'f',     'g',    'h',   'i',   'j']\n",
        "df = pd.DataFrame(data, index=labels)\n",
        "\n",
        "# Solution\n",
        "df.iloc[:3]"
      ],
      "execution_count": null,
      "outputs": []
    },
    {
      "cell_type": "markdown",
      "metadata": {
        "id": "TEk8T0Erqmb_",
        "colab_type": "text"
      },
      "source": [
        "###Solution B:"
      ]
    },
    {
      "cell_type": "code",
      "metadata": {
        "id": "JUBF9VMIqOE9",
        "colab_type": "code",
        "colab": {}
      },
      "source": [
        "import numpy as np\n",
        "import pandas as pd\n",
        "\n",
        "# Input\n",
        "data = {'animal'  : ['cat', 'cat', 'snake',  'dog', 'dog', 'cat', 'snake',  'cat', 'dog', 'dog'],\n",
        "        'age'     : [  2.5,     3,     0.5, np.nan,     5,     2,     4.5, np.nan,     7,     3],\n",
        "        'visits'  : [    1,     3,       2,      3,     2,     3,       1,      1,     2,     1],\n",
        "        'priority': ['yes', 'yes',    'no',  'yes',  'no',  'no',    'no',  'yes',  'no',  'no']}\n",
        "labels =            [  'a',   'b',     'c',    'd',   'e',   'f',     'g',    'h',   'i',   'j']\n",
        "df = pd.DataFrame(data, index=labels)\n",
        "\n",
        "# Solution\n",
        "df.head(3)"
      ],
      "execution_count": null,
      "outputs": []
    },
    {
      "cell_type": "markdown",
      "metadata": {
        "id": "Qvb_CZML0FqI",
        "colab_type": "text"
      },
      "source": [
        "##Problem 5.\n",
        "\n"
      ]
    },
    {
      "cell_type": "markdown",
      "metadata": {
        "id": "JC0uu7wwl8a9",
        "colab_type": "text"
      },
      "source": [
        " **Problem:**\n",
        " Select just the \"animal\" and \"age\" columns from the DataFrame given.\n",
        " \n",
        " **Possible Input:**\n",
        " ```python\n",
        "data = {'animal': ['cat', 'cat', 'snake', 'dog', 'dog', 'cat', 'snake', 'cat', 'dog', 'dog'],\n",
        "        'age': [2.5, 3, 0.5, np.nan, 5, 2, 4.5, np.nan, 7, 3],\n",
        "        'visits': [1, 3, 2, 3, 2, 3, 1, 1, 2, 1],\n",
        "        'priority': ['yes', 'yes', 'no', 'yes', 'no', 'no', 'no', 'yes', 'no', 'no']}\n",
        "labels = ['a', 'b', 'c', 'd', 'e', 'f', 'g', 'h', 'i', 'j']\n",
        "df = pd.DataFrame(data, index=labels)\n",
        "```\n",
        "\n",
        "**Expected Output:**\n",
        "```\n",
        "\tanimal\tage\n",
        "a\tcat\t2.5\n",
        "b\tcat\t3.0\n",
        "c\tsnake\t0.5\n",
        "d\tdog\tNaN\n",
        "e\tdog\t5.0\n",
        "f\tcat\t2.0\n",
        "g\tsnake\t4.5\n",
        "h\tcat\tNaN\n",
        "i\tdog\t7.0\n",
        "j\tdog\t3.0\n",
        "```"
      ]
    },
    {
      "cell_type": "code",
      "metadata": {
        "id": "D8BXPDKT0FqJ",
        "colab_type": "code",
        "colab": {}
      },
      "source": [
        "import numpy as np\n",
        "import pandas as pd\n",
        "\n",
        "# Input\n",
        "data = {'animal'  : ['cat', 'cat', 'snake',  'dog', 'dog', 'cat', 'snake',  'cat', 'dog', 'dog'],\n",
        "        'age'     : [  2.5,     3,     0.5, np.nan,     5,     2,     4.5, np.nan,     7,     3],\n",
        "        'visits'  : [    1,     3,       2,      3,     2,     3,       1,      1,     2,     1],\n",
        "        'priority': ['yes', 'yes',    'no',  'yes',  'no',  'no',    'no',  'yes',  'no',  'no']}\n",
        "labels =            [  'a',   'b',     'c',    'd',   'e',   'f',     'g',    'h',   'i',   'j']\n",
        "df = pd.DataFrame(data, index=labels)\n",
        "\n",
        "# Enter your code here"
      ],
      "execution_count": null,
      "outputs": []
    },
    {
      "cell_type": "markdown",
      "metadata": {
        "id": "Fse9ayd50FqK",
        "colab_type": "text"
      },
      "source": [
        "###Solution A:"
      ]
    },
    {
      "cell_type": "code",
      "metadata": {
        "id": "B1DPQPPn0FqL",
        "colab_type": "code",
        "colab": {}
      },
      "source": [
        "import numpy as np\n",
        "import pandas as pd\n",
        "\n",
        "# Input\n",
        "data = {'animal'  : ['cat', 'cat', 'snake',  'dog', 'dog', 'cat', 'snake',  'cat', 'dog', 'dog'],\n",
        "        'age'     : [  2.5,     3,     0.5, np.nan,     5,     2,     4.5, np.nan,     7,     3],\n",
        "        'visits'  : [    1,     3,       2,      3,     2,     3,       1,      1,     2,     1],\n",
        "        'priority': ['yes', 'yes',    'no',  'yes',  'no',  'no',    'no',  'yes',  'no',  'no']}\n",
        "labels =            [  'a',   'b',     'c',    'd',   'e',   'f',     'g',    'h',   'i',   'j']\n",
        "df = pd.DataFrame(data, index=labels)\n",
        "\n",
        "# Solution\n",
        "df.loc[:, ['animal', 'age']]"
      ],
      "execution_count": null,
      "outputs": []
    },
    {
      "cell_type": "markdown",
      "metadata": {
        "id": "50nDtZgXnYW4",
        "colab_type": "text"
      },
      "source": [
        "###Solution B:"
      ]
    },
    {
      "cell_type": "code",
      "metadata": {
        "id": "JAmGlHhrlUqR",
        "colab_type": "code",
        "colab": {}
      },
      "source": [
        "import numpy as np\n",
        "import pandas as pd\n",
        "\n",
        "# Input\n",
        "data = {'animal'  : ['cat', 'cat', 'snake',  'dog', 'dog', 'cat', 'snake',  'cat', 'dog', 'dog'],\n",
        "        'age'     : [  2.5,     3,     0.5, np.nan,     5,     2,     4.5, np.nan,     7,     3],\n",
        "        'visits'  : [    1,     3,       2,      3,     2,     3,       1,      1,     2,     1],\n",
        "        'priority': ['yes', 'yes',    'no',  'yes',  'no',  'no',    'no',  'yes',  'no',  'no']}\n",
        "labels =            [  'a',   'b',     'c',    'd',   'e',   'f',     'g',    'h',   'i',   'j']\n",
        "df = pd.DataFrame(data, index=labels)\n",
        "\n",
        "# Solution\n",
        "df[['animal', 'age']]"
      ],
      "execution_count": null,
      "outputs": []
    },
    {
      "cell_type": "markdown",
      "metadata": {
        "id": "RCR8g1eG0FqM",
        "colab_type": "text"
      },
      "source": [
        "##Problem 6.\n",
        "\n"
      ]
    },
    {
      "cell_type": "markdown",
      "metadata": {
        "id": "EpqjeOZrn6tf",
        "colab_type": "text"
      },
      "source": [
        " **Problem:**\n",
        " Select the data in rows `[3, 4, 8]` *and* in columns `['animal', 'age']`.\n",
        " \n",
        " **Possible Input:**\n",
        " ```python\n",
        "data = {'animal': ['cat', 'cat', 'snake', 'dog', 'dog', 'cat', 'snake', 'cat', 'dog', 'dog'],\n",
        "        'age': [2.5, 3, 0.5, np.nan, 5, 2, 4.5, np.nan, 7, 3],\n",
        "        'visits': [1, 3, 2, 3, 2, 3, 1, 1, 2, 1],\n",
        "        'priority': ['yes', 'yes', 'no', 'yes', 'no', 'no', 'no', 'yes', 'no', 'no']}\n",
        "labels = ['a', 'b', 'c', 'd', 'e', 'f', 'g', 'h', 'i', 'j']\n",
        "df = pd.DataFrame(data, index=labels)\n",
        "```\n",
        "\n",
        "**Expected Output:**\n",
        "```\n",
        "\tanimal\tage\n",
        "d\tdog\tNaN\n",
        "e\tdog\t5.0\n",
        "i\tdog\t7.0\n",
        "```"
      ]
    },
    {
      "cell_type": "code",
      "metadata": {
        "id": "Jyczbyva0FqM",
        "colab_type": "code",
        "colab": {}
      },
      "source": [
        "import numpy as np\n",
        "import pandas as pd\n",
        "\n",
        "# Input\n",
        "data = {'animal'  : ['cat', 'cat', 'snake',  'dog', 'dog', 'cat', 'snake',  'cat', 'dog', 'dog'],\n",
        "        'age'     : [  2.5,     3,     0.5, np.nan,     5,     2,     4.5, np.nan,     7,     3],\n",
        "        'visits'  : [    1,     3,       2,      3,     2,     3,       1,      1,     2,     1],\n",
        "        'priority': ['yes', 'yes',    'no',  'yes',  'no',  'no',    'no',  'yes',  'no',  'no']}\n",
        "labels =            [  'a',   'b',     'c',    'd',   'e',   'f',     'g',    'h',   'i',   'j']\n",
        "df = pd.DataFrame(data, index=labels)\n",
        "\n",
        "# Enter your code here"
      ],
      "execution_count": null,
      "outputs": []
    },
    {
      "cell_type": "markdown",
      "metadata": {
        "id": "I_a6PysJ0FqN",
        "colab_type": "text"
      },
      "source": [
        "###Solution"
      ]
    },
    {
      "cell_type": "code",
      "metadata": {
        "id": "tYNZ26j90FqO",
        "colab_type": "code",
        "colab": {}
      },
      "source": [
        "import numpy as np\n",
        "import pandas as pd\n",
        "\n",
        "# Input\n",
        "data = {'animal'  : ['cat', 'cat', 'snake',  'dog', 'dog', 'cat', 'snake',  'cat', 'dog', 'dog'],\n",
        "        'age'     : [  2.5,     3,     0.5, np.nan,     5,     2,     4.5, np.nan,     7,     3],\n",
        "        'visits'  : [    1,     3,       2,      3,     2,     3,       1,      1,     2,     1],\n",
        "        'priority': ['yes', 'yes',    'no',  'yes',  'no',  'no',    'no',  'yes',  'no',  'no']}\n",
        "labels =            [  'a',   'b',     'c',    'd',   'e',   'f',     'g',    'h',   'i',   'j']\n",
        "df = pd.DataFrame(data, index=labels)\n",
        "\n",
        "# Solution\n",
        "df.loc[df.index[[3, 4, 8]], ['animal', 'age']]"
      ],
      "execution_count": null,
      "outputs": []
    },
    {
      "cell_type": "markdown",
      "metadata": {
        "id": "PtN-xRXV0FqP",
        "colab_type": "text"
      },
      "source": [
        "##Problem 9."
      ]
    },
    {
      "cell_type": "markdown",
      "metadata": {
        "id": "WZzYHyA9s1of",
        "colab_type": "text"
      },
      "source": [
        "**Problem:**\n",
        "Select only the rows where the number of visits is greater than 2.\n",
        "\n",
        " **Possible Input:**\n",
        " ```python\n",
        "data = {'animal': ['cat', 'cat', 'snake', 'dog', 'dog', 'cat', 'snake', 'cat', 'dog', 'dog'],\n",
        "        'age': [2.5, 3, 0.5, np.nan, 5, 2, 4.5, np.nan, 7, 3],\n",
        "        'visits': [1, 3, 2, 3, 2, 3, 1, 1, 2, 1],\n",
        "        'priority': ['yes', 'yes', 'no', 'yes', 'no', 'no', 'no', 'yes', 'no', 'no']}\n",
        "labels = ['a', 'b', 'c', 'd', 'e', 'f', 'g', 'h', 'i', 'j']\n",
        "df = pd.DataFrame(data, index=labels)\n",
        "```\n",
        "\n",
        "**Expected Output:**\n",
        "```\n",
        "\tanimal\tage\tvisits\tpriority\n",
        "b\tcat\t3.0\t3\tyes\n",
        "d\tdog\tNaN\t3\tyes\n",
        "f\tcat\t2.0\t3\tno\n",
        "```\n",
        "\n"
      ]
    },
    {
      "cell_type": "code",
      "metadata": {
        "id": "DqAikZ5o0FqP",
        "colab_type": "code",
        "colab": {}
      },
      "source": [
        "import numpy as np\n",
        "import pandas as pd\n",
        "\n",
        "# Input\n",
        "data = {'animal'  : ['cat', 'cat', 'snake',  'dog', 'dog', 'cat', 'snake',  'cat', 'dog', 'dog'],\n",
        "        'age'     : [  2.5,     3,     0.5, np.nan,     5,     2,     4.5, np.nan,     7,     3],\n",
        "        'visits'  : [    1,     3,       2,      3,     2,     3,       1,      1,     2,     1],\n",
        "        'priority': ['yes', 'yes',    'no',  'yes',  'no',  'no',    'no',  'yes',  'no',  'no']}\n",
        "labels =            [  'a',   'b',     'c',    'd',   'e',   'f',     'g',    'h',   'i',   'j']\n",
        "df = pd.DataFrame(data, index=labels)\n",
        "\n",
        "# Enter your code here"
      ],
      "execution_count": null,
      "outputs": []
    },
    {
      "cell_type": "markdown",
      "metadata": {
        "id": "Q4lTGYxy0FqR",
        "colab_type": "text"
      },
      "source": [
        "###Solution"
      ]
    },
    {
      "cell_type": "code",
      "metadata": {
        "id": "4Vps03yL0FqR",
        "colab_type": "code",
        "colab": {}
      },
      "source": [
        "import numpy as np\n",
        "import pandas as pd\n",
        "\n",
        "# Input\n",
        "data = {'animal'  : ['cat', 'cat', 'snake',  'dog', 'dog', 'cat', 'snake',  'cat', 'dog', 'dog'],\n",
        "        'age'     : [  2.5,     3,     0.5, np.nan,     5,     2,     4.5, np.nan,     7,     3],\n",
        "        'visits'  : [    1,     3,       2,      3,     2,     3,       1,      1,     2,     1],\n",
        "        'priority': ['yes', 'yes',    'no',  'yes',  'no',  'no',    'no',  'yes',  'no',  'no']}\n",
        "labels =            [  'a',   'b',     'c',    'd',   'e',   'f',     'g',    'h',   'i',   'j']\n",
        "df = pd.DataFrame(data, index=labels)\n",
        "\n",
        "#Solution\n",
        "df[df['visits'] > 2]"
      ],
      "execution_count": null,
      "outputs": []
    },
    {
      "cell_type": "markdown",
      "metadata": {
        "id": "4ZDLSVoF0FqS",
        "colab_type": "text"
      },
      "source": [
        "##Problem 7."
      ]
    },
    {
      "cell_type": "markdown",
      "metadata": {
        "id": "wucoFyEKs_-x",
        "colab_type": "text"
      },
      "source": [
        "**Problem:**\n",
        "Select the rows where the age is missing, i.e. is `NaN`.\n",
        "\n",
        " **Possible Input:**\n",
        " ```python\n",
        "data = {'animal': ['cat', 'cat', 'snake', 'dog', 'dog', 'cat', 'snake', 'cat', 'dog', 'dog'],\n",
        "        'age': [2.5, 3, 0.5, np.nan, 5, 2, 4.5, np.nan, 7, 3],\n",
        "        'visits': [1, 3, 2, 3, 2, 3, 1, 1, 2, 1],\n",
        "        'priority': ['yes', 'yes', 'no', 'yes', 'no', 'no', 'no', 'yes', 'no', 'no']}\n",
        "labels = ['a', 'b', 'c', 'd', 'e', 'f', 'g', 'h', 'i', 'j']\n",
        "df = pd.DataFrame(data, index=labels)\n",
        "```\n",
        "\n",
        "**Expected Output:**\n",
        "```\n",
        "\tanimal\tage\tvisits\tpriority\n",
        "d\tdog\tNaN\t3\tyes\n",
        "h\tcat\tNaN\t1\tyes\n",
        "```"
      ]
    },
    {
      "cell_type": "code",
      "metadata": {
        "id": "CoYoIOo10FqT",
        "colab_type": "code",
        "colab": {}
      },
      "source": [
        "import numpy as np\n",
        "import pandas as pd\n",
        "\n",
        "# Input\n",
        "data = {'animal'  : ['cat', 'cat', 'snake',  'dog', 'dog', 'cat', 'snake',  'cat', 'dog', 'dog'],\n",
        "        'age'     : [  2.5,     3,     0.5, np.nan,     5,     2,     4.5, np.nan,     7,     3],\n",
        "        'visits'  : [    1,     3,       2,      3,     2,     3,       1,      1,     2,     1],\n",
        "        'priority': ['yes', 'yes',    'no',  'yes',  'no',  'no',    'no',  'yes',  'no',  'no']}\n",
        "labels =            [  'a',   'b',     'c',    'd',   'e',   'f',     'g',    'h',   'i',   'j']\n",
        "df = pd.DataFrame(data, index=labels)\n",
        "\n",
        "# Enter your code here"
      ],
      "execution_count": null,
      "outputs": []
    },
    {
      "cell_type": "markdown",
      "metadata": {
        "id": "YLhusB150FqU",
        "colab_type": "text"
      },
      "source": [
        "###Solution"
      ]
    },
    {
      "cell_type": "code",
      "metadata": {
        "id": "mEwPNuet0FqU",
        "colab_type": "code",
        "colab": {}
      },
      "source": [
        "import numpy as np\n",
        "import pandas as pd\n",
        "\n",
        "# Input\n",
        "data = {'animal'  : ['cat', 'cat', 'snake',  'dog', 'dog', 'cat', 'snake',  'cat', 'dog', 'dog'],\n",
        "        'age'     : [  2.5,     3,     0.5, np.nan,     5,     2,     4.5, np.nan,     7,     3],\n",
        "        'visits'  : [    1,     3,       2,      3,     2,     3,       1,      1,     2,     1],\n",
        "        'priority': ['yes', 'yes',    'no',  'yes',  'no',  'no',    'no',  'yes',  'no',  'no']}\n",
        "labels =            [  'a',   'b',     'c',    'd',   'e',   'f',     'g',    'h',   'i',   'j']\n",
        "df = pd.DataFrame(data, index=labels)\n",
        "\n",
        "#Solution\n",
        "df[df['age'].isnull()]"
      ],
      "execution_count": null,
      "outputs": []
    },
    {
      "cell_type": "markdown",
      "metadata": {
        "id": "XFU5Za6R0FqW",
        "colab_type": "text"
      },
      "source": [
        "##Problem 8."
      ]
    },
    {
      "cell_type": "markdown",
      "metadata": {
        "colab_type": "text",
        "id": "P8KRWDZKtEgV"
      },
      "source": [
        "**Problem:**\n",
        "Select the rows where the animal is a cat *and* the age is less than 3.\n",
        "\n",
        " **Possible Input:**\n",
        " ```python\n",
        "data = {'animal': ['cat', 'cat', 'snake', 'dog', 'dog', 'cat', 'snake', 'cat', 'dog', 'dog'],\n",
        "        'age': [2.5, 3, 0.5, np.nan, 5, 2, 4.5, np.nan, 7, 3],\n",
        "        'visits': [1, 3, 2, 3, 2, 3, 1, 1, 2, 1],\n",
        "        'priority': ['yes', 'yes', 'no', 'yes', 'no', 'no', 'no', 'yes', 'no', 'no']}\n",
        "labels = ['a', 'b', 'c', 'd', 'e', 'f', 'g', 'h', 'i', 'j']\n",
        "df = pd.DataFrame(data, index=labels)\n",
        "```\n",
        "\n",
        "**Expected Output:**\n",
        "```\n",
        "\tanimal\tage\tvisits\tpriority\n",
        "a\tcat\t2.5\t1\tyes\n",
        "f\tcat\t2.0\t3\tno\n",
        "```"
      ]
    },
    {
      "cell_type": "code",
      "metadata": {
        "id": "cvQbku2T0FqW",
        "colab_type": "code",
        "colab": {}
      },
      "source": [
        "import numpy as np\n",
        "import pandas as pd\n",
        "\n",
        "# Input\n",
        "data = {'animal'  : ['cat', 'cat', 'snake',  'dog', 'dog', 'cat', 'snake',  'cat', 'dog', 'dog'],\n",
        "        'age'     : [  2.5,     3,     0.5, np.nan,     5,     2,     4.5, np.nan,     7,     3],\n",
        "        'visits'  : [    1,     3,       2,      3,     2,     3,       1,      1,     2,     1],\n",
        "        'priority': ['yes', 'yes',    'no',  'yes',  'no',  'no',    'no',  'yes',  'no',  'no']}\n",
        "labels =            [  'a',   'b',     'c',    'd',   'e',   'f',     'g',    'h',   'i',   'j']\n",
        "df = pd.DataFrame(data, index=labels)\n",
        "\n",
        "# Enter your code here"
      ],
      "execution_count": null,
      "outputs": []
    },
    {
      "cell_type": "markdown",
      "metadata": {
        "id": "v3ZzVx0Z0FqY",
        "colab_type": "text"
      },
      "source": [
        "###Solution"
      ]
    },
    {
      "cell_type": "code",
      "metadata": {
        "id": "1yWRuu_T0FqY",
        "colab_type": "code",
        "colab": {}
      },
      "source": [
        "import numpy as np\n",
        "import pandas as pd\n",
        "\n",
        "# Input\n",
        "data = {'animal'  : ['cat', 'cat', 'snake',  'dog', 'dog', 'cat', 'snake',  'cat', 'dog', 'dog'],\n",
        "        'age'     : [  2.5,     3,     0.5, np.nan,     5,     2,     4.5, np.nan,     7,     3],\n",
        "        'visits'  : [    1,     3,       2,      3,     2,     3,       1,      1,     2,     1],\n",
        "        'priority': ['yes', 'yes',    'no',  'yes',  'no',  'no',    'no',  'yes',  'no',  'no']}\n",
        "labels =            [  'a',   'b',     'c',    'd',   'e',   'f',     'g',    'h',   'i',   'j']\n",
        "df = pd.DataFrame(data, index=labels)\n",
        "\n",
        "#Solution\n",
        "df[(df['animal'] == 'cat') & (df['age'] < 3)]"
      ],
      "execution_count": null,
      "outputs": []
    },
    {
      "cell_type": "markdown",
      "metadata": {
        "id": "-z6UCh070FqZ",
        "colab_type": "text"
      },
      "source": [
        "##Problem 9."
      ]
    },
    {
      "cell_type": "markdown",
      "metadata": {
        "colab_type": "text",
        "id": "Hif0WPSAtGK8"
      },
      "source": [
        "**Problem:**\n",
        "Select the rows the age is between 2 and 4 (inclusive).\n",
        "\n",
        " **Possible Input:**\n",
        " ```python\n",
        "data = {'animal': ['cat', 'cat', 'snake', 'dog', 'dog', 'cat', 'snake', 'cat', 'dog', 'dog'],\n",
        "        'age': [2.5, 3, 0.5, np.nan, 5, 2, 4.5, np.nan, 7, 3],\n",
        "        'visits': [1, 3, 2, 3, 2, 3, 1, 1, 2, 1],\n",
        "        'priority': ['yes', 'yes', 'no', 'yes', 'no', 'no', 'no', 'yes', 'no', 'no']}\n",
        "labels = ['a', 'b', 'c', 'd', 'e', 'f', 'g', 'h', 'i', 'j']\n",
        "df = pd.DataFrame(data, index=labels)\n",
        "```\n",
        "\n",
        "**Expected Output:**\n",
        "```\n",
        "\tanimal\tage\tvisits\tpriority\n",
        "a\tcat\t2.5\t1\tyes\n",
        "b\tcat\t3.0\t3\tyes\n",
        "f\tcat\t2.0\t3\tno\n",
        "j\tdog\t3.0\t1\tno\n",
        "```\n"
      ]
    },
    {
      "cell_type": "code",
      "metadata": {
        "id": "HIqJFo0n0Fqa",
        "colab_type": "code",
        "colab": {}
      },
      "source": [
        "import numpy as np\n",
        "import pandas as pd\n",
        "\n",
        "# Input\n",
        "data = {'animal'  : ['cat', 'cat', 'snake',  'dog', 'dog', 'cat', 'snake',  'cat', 'dog', 'dog'],\n",
        "        'age'     : [  2.5,     3,     0.5, np.nan,     5,     2,     4.5, np.nan,     7,     3],\n",
        "        'visits'  : [    1,     3,       2,      3,     2,     3,       1,      1,     2,     1],\n",
        "        'priority': ['yes', 'yes',    'no',  'yes',  'no',  'no',    'no',  'yes',  'no',  'no']}\n",
        "labels =            [  'a',   'b',     'c',    'd',   'e',   'f',     'g',    'h',   'i',   'j']\n",
        "df = pd.DataFrame(data, index=labels)\n",
        "\n",
        "# Enter your code here"
      ],
      "execution_count": null,
      "outputs": []
    },
    {
      "cell_type": "markdown",
      "metadata": {
        "id": "sRpbwvmd0Fqa",
        "colab_type": "text"
      },
      "source": [
        "###Solution"
      ]
    },
    {
      "cell_type": "code",
      "metadata": {
        "id": "l0wsxGVa0Fqb",
        "colab_type": "code",
        "colab": {}
      },
      "source": [
        "import numpy as np\n",
        "import pandas as pd\n",
        "\n",
        "# Input\n",
        "data = {'animal'  : ['cat', 'cat', 'snake',  'dog', 'dog', 'cat', 'snake',  'cat', 'dog', 'dog'],\n",
        "        'age'     : [  2.5,     3,     0.5, np.nan,     5,     2,     4.5, np.nan,     7,     3],\n",
        "        'visits'  : [    1,     3,       2,      3,     2,     3,       1,      1,     2,     1],\n",
        "        'priority': ['yes', 'yes',    'no',  'yes',  'no',  'no',    'no',  'yes',  'no',  'no']}\n",
        "labels =            [  'a',   'b',     'c',    'd',   'e',   'f',     'g',    'h',   'i',   'j']\n",
        "df = pd.DataFrame(data, index=labels)\n",
        "\n",
        "#Solution\n",
        "df[df['age'].between(2, 4)]"
      ],
      "execution_count": null,
      "outputs": []
    },
    {
      "cell_type": "markdown",
      "metadata": {
        "id": "dAwY8OZ-0Fqc",
        "colab_type": "text"
      },
      "source": [
        "##Problem 10."
      ]
    },
    {
      "cell_type": "markdown",
      "metadata": {
        "colab_type": "text",
        "id": "gfPwQE5atHeA"
      },
      "source": [
        "**Problem:**\n",
        "Change the age in row 'f' to 1.5.\n",
        "\n",
        " **Possible Input:**\n",
        " ```python\n",
        "data = {'animal': ['cat', 'cat', 'snake', 'dog', 'dog', 'cat', 'snake', 'cat', 'dog', 'dog'],\n",
        "        'age': [2.5, 3, 0.5, np.nan, 5, 2, 4.5, np.nan, 7, 3],\n",
        "        'visits': [1, 3, 2, 3, 2, 3, 1, 1, 2, 1],\n",
        "        'priority': ['yes', 'yes', 'no', 'yes', 'no', 'no', 'no', 'yes', 'no', 'no']}\n",
        "labels = ['a', 'b', 'c', 'd', 'e', 'f', 'g', 'h', 'i', 'j']\n",
        "df = pd.DataFrame(data, index=labels)\n",
        "```\n",
        "\n",
        "**Expected Output:**\n",
        "```\n",
        "\tanimal\tage\tvisits\tpriority\n",
        "a\tcat\t2.5\t1\tyes\n",
        "b\tcat\t3.0\t3\tyes\n",
        "c\tsnake\t0.5\t2\tno\n",
        "d\tdog\tNaN\t3\tyes\n",
        "e\tdog\t5.0\t2\tno\n",
        "f\tcat\t1.5\t3\tno\n",
        "g\tsnake\t4.5\t1\tno\n",
        "h\tcat\tNaN\t1\tyes\n",
        "i\tdog\t7.0\t2\tno\n",
        "j\tdog\t3.0\t1\tno\n",
        "```\n"
      ]
    },
    {
      "cell_type": "code",
      "metadata": {
        "id": "-DNusW0c0Fqc",
        "colab_type": "code",
        "colab": {}
      },
      "source": [
        "import numpy as np\n",
        "import pandas as pd\n",
        "\n",
        "# Input\n",
        "data = {'animal'  : ['cat', 'cat', 'snake',  'dog', 'dog', 'cat', 'snake',  'cat', 'dog', 'dog'],\n",
        "        'age'     : [  2.5,     3,     0.5, np.nan,     5,     2,     4.5, np.nan,     7,     3],\n",
        "        'visits'  : [    1,     3,       2,      3,     2,     3,       1,      1,     2,     1],\n",
        "        'priority': ['yes', 'yes',    'no',  'yes',  'no',  'no',    'no',  'yes',  'no',  'no']}\n",
        "labels =            [  'a',   'b',     'c',    'd',   'e',   'f',     'g',    'h',   'i',   'j']\n",
        "df = pd.DataFrame(data, index=labels)\n",
        "\n",
        "# Enter your code here"
      ],
      "execution_count": null,
      "outputs": []
    },
    {
      "cell_type": "markdown",
      "metadata": {
        "id": "fl4xCVxw0Fqd",
        "colab_type": "text"
      },
      "source": [
        "###Solution"
      ]
    },
    {
      "cell_type": "code",
      "metadata": {
        "id": "XzfUCiUq0Fqe",
        "colab_type": "code",
        "colab": {}
      },
      "source": [
        "import numpy as np\n",
        "import pandas as pd\n",
        "\n",
        "# Input\n",
        "data = {'animal'  : ['cat', 'cat', 'snake',  'dog', 'dog', 'cat', 'snake',  'cat', 'dog', 'dog'],\n",
        "        'age'     : [  2.5,     3,     0.5, np.nan,     5,     2,     4.5, np.nan,     7,     3],\n",
        "        'visits'  : [    1,     3,       2,      3,     2,     3,       1,      1,     2,     1],\n",
        "        'priority': ['yes', 'yes',    'no',  'yes',  'no',  'no',    'no',  'yes',  'no',  'no']}\n",
        "labels =            [  'a',   'b',     'c',    'd',   'e',   'f',     'g',    'h',   'i',   'j']\n",
        "df = pd.DataFrame(data, index=labels)\n",
        "\n",
        "#Solution\n",
        "df.loc['f', 'age'] = 1.5\n",
        "df"
      ],
      "execution_count": null,
      "outputs": []
    },
    {
      "cell_type": "markdown",
      "metadata": {
        "id": "M5i23o_U0Fqf",
        "colab_type": "text"
      },
      "source": [
        "##Problem 11."
      ]
    },
    {
      "cell_type": "markdown",
      "metadata": {
        "colab_type": "text",
        "id": "vuzwd3AGtIyo"
      },
      "source": [
        "**Problem:**\n",
        "Calculate the sum of all visits (the total number of visits).\n",
        "\n",
        " **Possible Input:**\n",
        " ```python\n",
        "data = {'animal': ['cat', 'cat', 'snake', 'dog', 'dog', 'cat', 'snake', 'cat', 'dog', 'dog'],\n",
        "        'age': [2.5, 3, 0.5, np.nan, 5, 2, 4.5, np.nan, 7, 3],\n",
        "        'visits': [1, 3, 2, 3, 2, 3, 1, 1, 2, 1],\n",
        "        'priority': ['yes', 'yes', 'no', 'yes', 'no', 'no', 'no', 'yes', 'no', 'no']}\n",
        "labels = ['a', 'b', 'c', 'd', 'e', 'f', 'g', 'h', 'i', 'j']\n",
        "df = pd.DataFrame(data, index=labels)\n",
        "```\n",
        "\n",
        "**Expected Output:**\n",
        "```\n",
        "19\n",
        "```\n"
      ]
    },
    {
      "cell_type": "code",
      "metadata": {
        "id": "Q1u6CvlD0Fqf",
        "colab_type": "code",
        "colab": {}
      },
      "source": [
        "import numpy as np\n",
        "import pandas as pd\n",
        "\n",
        "# Input\n",
        "data = {'animal'  : ['cat', 'cat', 'snake',  'dog', 'dog', 'cat', 'snake',  'cat', 'dog', 'dog'],\n",
        "        'age'     : [  2.5,     3,     0.5, np.nan,     5,     2,     4.5, np.nan,     7,     3],\n",
        "        'visits'  : [    1,     3,       2,      3,     2,     3,       1,      1,     2,     1],\n",
        "        'priority': ['yes', 'yes',    'no',  'yes',  'no',  'no',    'no',  'yes',  'no',  'no']}\n",
        "labels =            [  'a',   'b',     'c',    'd',   'e',   'f',     'g',    'h',   'i',   'j']\n",
        "df = pd.DataFrame(data, index=labels)\n",
        "\n",
        "# Enter your code here"
      ],
      "execution_count": null,
      "outputs": []
    },
    {
      "cell_type": "markdown",
      "metadata": {
        "id": "9rVl5Xhq0Fqg",
        "colab_type": "text"
      },
      "source": [
        "###Solution"
      ]
    },
    {
      "cell_type": "code",
      "metadata": {
        "id": "1UPwfoj80Fqh",
        "colab_type": "code",
        "colab": {}
      },
      "source": [
        "import numpy as np\n",
        "import pandas as pd\n",
        "\n",
        "# Input\n",
        "data = {'animal'  : ['cat', 'cat', 'snake',  'dog', 'dog', 'cat', 'snake',  'cat', 'dog', 'dog'],\n",
        "        'age'     : [  2.5,     3,     0.5, np.nan,     5,     2,     4.5, np.nan,     7,     3],\n",
        "        'visits'  : [    1,     3,       2,      3,     2,     3,       1,      1,     2,     1],\n",
        "        'priority': ['yes', 'yes',    'no',  'yes',  'no',  'no',    'no',  'yes',  'no',  'no']}\n",
        "labels =            [  'a',   'b',     'c',    'd',   'e',   'f',     'g',    'h',   'i',   'j']\n",
        "df = pd.DataFrame(data, index=labels)\n",
        "\n",
        "#Solution\n",
        "df['visits'].sum()"
      ],
      "execution_count": null,
      "outputs": []
    },
    {
      "cell_type": "markdown",
      "metadata": {
        "id": "YXjkc4ui0Fqi",
        "colab_type": "text"
      },
      "source": [
        "##Problem 12."
      ]
    },
    {
      "cell_type": "markdown",
      "metadata": {
        "colab_type": "text",
        "id": "Etd5NZoztKKF"
      },
      "source": [
        "**Problem:**\n",
        "Calculate the mean age for each different animal in `df`.\n",
        "\n",
        " **Possible Input:**\n",
        " ```python\n",
        "data = {'animal': ['cat', 'cat', 'snake', 'dog', 'dog', 'cat', 'snake', 'cat', 'dog', 'dog'],\n",
        "        'age': [2.5, 3, 0.5, np.nan, 5, 2, 4.5, np.nan, 7, 3],\n",
        "        'visits': [1, 3, 2, 3, 2, 3, 1, 1, 2, 1],\n",
        "        'priority': ['yes', 'yes', 'no', 'yes', 'no', 'no', 'no', 'yes', 'no', 'no']}\n",
        "labels = ['a', 'b', 'c', 'd', 'e', 'f', 'g', 'h', 'i', 'j']\n",
        "df = pd.DataFrame(data, index=labels)\n",
        "```\n",
        "\n",
        "**Expected Output:**\n",
        "```\n",
        "animal\n",
        "cat      2.5\n",
        "dog      5.0\n",
        "snake    2.5\n",
        "Name: age, dtype: float64\n",
        "```\n"
      ]
    },
    {
      "cell_type": "code",
      "metadata": {
        "id": "Hnu67HN10Fqj",
        "colab_type": "code",
        "colab": {}
      },
      "source": [
        "import numpy as np\n",
        "import pandas as pd\n",
        "\n",
        "# Input\n",
        "data = {'animal'  : ['cat', 'cat', 'snake',  'dog', 'dog', 'cat', 'snake',  'cat', 'dog', 'dog'],\n",
        "        'age'     : [  2.5,     3,     0.5, np.nan,     5,     2,     4.5, np.nan,     7,     3],\n",
        "        'visits'  : [    1,     3,       2,      3,     2,     3,       1,      1,     2,     1],\n",
        "        'priority': ['yes', 'yes',    'no',  'yes',  'no',  'no',    'no',  'yes',  'no',  'no']}\n",
        "labels =            [  'a',   'b',     'c',    'd',   'e',   'f',     'g',    'h',   'i',   'j']\n",
        "df = pd.DataFrame(data, index=labels)\n",
        "\n",
        "# Enter your code here"
      ],
      "execution_count": null,
      "outputs": []
    },
    {
      "cell_type": "markdown",
      "metadata": {
        "id": "Kuqrk2lC0Fqk",
        "colab_type": "text"
      },
      "source": [
        "###Solution"
      ]
    },
    {
      "cell_type": "code",
      "metadata": {
        "id": "RLxsO6Qn0Fqn",
        "colab_type": "code",
        "colab": {}
      },
      "source": [
        "import numpy as np\n",
        "import pandas as pd\n",
        "\n",
        "# Input\n",
        "data = {'animal'  : ['cat', 'cat', 'snake',  'dog', 'dog', 'cat', 'snake',  'cat', 'dog', 'dog'],\n",
        "        'age'     : [  2.5,     3,     0.5, np.nan,     5,     2,     4.5, np.nan,     7,     3],\n",
        "        'visits'  : [    1,     3,       2,      3,     2,     3,       1,      1,     2,     1],\n",
        "        'priority': ['yes', 'yes',    'no',  'yes',  'no',  'no',    'no',  'yes',  'no',  'no']}\n",
        "labels =            [  'a',   'b',     'c',    'd',   'e',   'f',     'g',    'h',   'i',   'j']\n",
        "df = pd.DataFrame(data, index=labels)\n",
        "\n",
        "#Solution\n",
        "df.groupby('animal')['age'].mean()"
      ],
      "execution_count": null,
      "outputs": []
    },
    {
      "cell_type": "markdown",
      "metadata": {
        "id": "iFavUHtJ0Fqo",
        "colab_type": "text"
      },
      "source": [
        "##Problem 13."
      ]
    },
    {
      "cell_type": "markdown",
      "metadata": {
        "colab_type": "text",
        "id": "nNLN0GiytLgI"
      },
      "source": [
        "**Problem:**\n",
        "Append a new row 'k' to `df` with your choice of values for each column.\n",
        "Then delete that row to return the original DataFrame.\n",
        "\n",
        " **Possible Input:**\n",
        " ```python\n",
        "data = {'animal': ['cat', 'cat', 'snake', 'dog', 'dog', 'cat', 'snake', 'cat', 'dog', 'dog'],\n",
        "        'age': [2.5, 3, 0.5, np.nan, 5, 2, 4.5, np.nan, 7, 3],\n",
        "        'visits': [1, 3, 2, 3, 2, 3, 1, 1, 2, 1],\n",
        "        'priority': ['yes', 'yes', 'no', 'yes', 'no', 'no', 'no', 'yes', 'no', 'no']}\n",
        "labels = ['a', 'b', 'c', 'd', 'e', 'f', 'g', 'h', 'i', 'j']\n",
        "df = pd.DataFrame(data, index=labels)\n",
        "```\n",
        "\n",
        "**Expected Output:**\n",
        "```\n",
        "ADDED:\n",
        "  animal  age visits priority\n",
        "a    cat  2.5      1      yes\n",
        "b    cat    3      3      yes\n",
        "c  snake  0.5      2       no\n",
        "d    dog  NaN      3      yes\n",
        "e    dog    5      2       no\n",
        "f    cat    2      3       no\n",
        "g  snake  4.5      1       no\n",
        "h    cat  NaN      1      yes\n",
        "i    dog    7      2       no\n",
        "j    dog    3      1       no\n",
        "k    5.5  dog     no        2\n",
        "-------------------\n",
        "DELETED:\n",
        "  animal  age visits priority\n",
        "a    cat  2.5      1      yes\n",
        "b    cat    3      3      yes\n",
        "c  snake  0.5      2       no\n",
        "d    dog  NaN      3      yes\n",
        "e    dog    5      2       no\n",
        "f    cat    2      3       no\n",
        "g  snake  4.5      1       no\n",
        "h    cat  NaN      1      yes\n",
        "i    dog    7      2       no\n",
        "j    dog    3      1       no\n",
        "```\n"
      ]
    },
    {
      "cell_type": "code",
      "metadata": {
        "id": "3zU8fIjm0Fqp",
        "colab_type": "code",
        "colab": {}
      },
      "source": [
        "import numpy as np\n",
        "import pandas as pd\n",
        "\n",
        "# Input\n",
        "data = {'animal'  : ['cat', 'cat', 'snake',  'dog', 'dog', 'cat', 'snake',  'cat', 'dog', 'dog'],\n",
        "        'age'     : [  2.5,     3,     0.5, np.nan,     5,     2,     4.5, np.nan,     7,     3],\n",
        "        'visits'  : [    1,     3,       2,      3,     2,     3,       1,      1,     2,     1],\n",
        "        'priority': ['yes', 'yes',    'no',  'yes',  'no',  'no',    'no',  'yes',  'no',  'no']}\n",
        "labels =            [  'a',   'b',     'c',    'd',   'e',   'f',     'g',    'h',   'i',   'j']\n",
        "df = pd.DataFrame(data, index=labels)\n",
        "\n",
        "# Enter your code here"
      ],
      "execution_count": null,
      "outputs": []
    },
    {
      "cell_type": "markdown",
      "metadata": {
        "id": "uPDBFTdC0Fqq",
        "colab_type": "text"
      },
      "source": [
        "###Solution"
      ]
    },
    {
      "cell_type": "code",
      "metadata": {
        "id": "hPfSFH1x0Fqq",
        "colab_type": "code",
        "colab": {}
      },
      "source": [
        "import numpy as np\n",
        "import pandas as pd\n",
        "\n",
        "# Input\n",
        "data = {'animal'  : ['cat', 'cat', 'snake',  'dog', 'dog', 'cat', 'snake',  'cat', 'dog', 'dog'],\n",
        "        'age'     : [  2.5,     3,     0.5, np.nan,     5,     2,     4.5, np.nan,     7,     3],\n",
        "        'visits'  : [    1,     3,       2,      3,     2,     3,       1,      1,     2,     1],\n",
        "        'priority': ['yes', 'yes',    'no',  'yes',  'no',  'no',    'no',  'yes',  'no',  'no']}\n",
        "labels =            [  'a',   'b',     'c',    'd',   'e',   'f',     'g',    'h',   'i',   'j']\n",
        "df = pd.DataFrame(data, index=labels)\n",
        "\n",
        "#Solution\n",
        "df.loc['k'] = [5.5, 'dog', 'no', 2]\n",
        "print(\"ADDED:\")\n",
        "print(df)\n",
        "print(\"-------------------\")\n",
        "df = df.drop('k')\n",
        "print(\"DELETED:\")\n",
        "print(df)"
      ],
      "execution_count": null,
      "outputs": []
    },
    {
      "cell_type": "markdown",
      "metadata": {
        "id": "udvxA5Hm0Fqr",
        "colab_type": "text"
      },
      "source": [
        "##Problem 14."
      ]
    },
    {
      "cell_type": "markdown",
      "metadata": {
        "colab_type": "text",
        "id": "yNfSag_mtNQa"
      },
      "source": [
        "**Problem:**\n",
        "Count the number of each type of animal in `df`.\n",
        "\n",
        " **Possible Input:**\n",
        " ```python\n",
        "data = {'animal': ['cat', 'cat', 'snake', 'dog', 'dog', 'cat', 'snake', 'cat', 'dog', 'dog'],\n",
        "        'age': [2.5, 3, 0.5, np.nan, 5, 2, 4.5, np.nan, 7, 3],\n",
        "        'visits': [1, 3, 2, 3, 2, 3, 1, 1, 2, 1],\n",
        "        'priority': ['yes', 'yes', 'no', 'yes', 'no', 'no', 'no', 'yes', 'no', 'no']}\n",
        "labels = ['a', 'b', 'c', 'd', 'e', 'f', 'g', 'h', 'i', 'j']\n",
        "df = pd.DataFrame(data, index=labels)\n",
        "```\n",
        "\n",
        "**Expected Output:**\n",
        "```\n",
        "cat      4\n",
        "dog      4\n",
        "snake    2\n",
        "Name: animal, dtype: int64\n",
        "```\n"
      ]
    },
    {
      "cell_type": "code",
      "metadata": {
        "id": "CFzvcX5Z0Fqs",
        "colab_type": "code",
        "colab": {}
      },
      "source": [
        "import numpy as np\n",
        "import pandas as pd\n",
        "\n",
        "# Input\n",
        "data = {'animal'  : ['cat', 'cat', 'snake',  'dog', 'dog', 'cat', 'snake',  'cat', 'dog', 'dog'],\n",
        "        'age'     : [  2.5,     3,     0.5, np.nan,     5,     2,     4.5, np.nan,     7,     3],\n",
        "        'visits'  : [    1,     3,       2,      3,     2,     3,       1,      1,     2,     1],\n",
        "        'priority': ['yes', 'yes',    'no',  'yes',  'no',  'no',    'no',  'yes',  'no',  'no']}\n",
        "labels =            [  'a',   'b',     'c',    'd',   'e',   'f',     'g',    'h',   'i',   'j']\n",
        "df = pd.DataFrame(data, index=labels)\n",
        "\n",
        "# Enter your code here"
      ],
      "execution_count": null,
      "outputs": []
    },
    {
      "cell_type": "markdown",
      "metadata": {
        "id": "JAtSBlVI0Fqu",
        "colab_type": "text"
      },
      "source": [
        "###Solution"
      ]
    },
    {
      "cell_type": "code",
      "metadata": {
        "id": "MdXRSMmK0Fqu",
        "colab_type": "code",
        "colab": {}
      },
      "source": [
        "import numpy as np\n",
        "import pandas as pd\n",
        "\n",
        "# Input\n",
        "data = {'animal'  : ['cat', 'cat', 'snake',  'dog', 'dog', 'cat', 'snake',  'cat', 'dog', 'dog'],\n",
        "        'age'     : [  2.5,     3,     0.5, np.nan,     5,     2,     4.5, np.nan,     7,     3],\n",
        "        'visits'  : [    1,     3,       2,      3,     2,     3,       1,      1,     2,     1],\n",
        "        'priority': ['yes', 'yes',    'no',  'yes',  'no',  'no',    'no',  'yes',  'no',  'no']}\n",
        "labels =            [  'a',   'b',     'c',    'd',   'e',   'f',     'g',    'h',   'i',   'j']\n",
        "df = pd.DataFrame(data, index=labels)\n",
        "\n",
        "#Solution\n",
        "df['animal'].value_counts()"
      ],
      "execution_count": null,
      "outputs": []
    },
    {
      "cell_type": "markdown",
      "metadata": {
        "id": "rIEWJuUQ0Fqw",
        "colab_type": "text"
      },
      "source": [
        "##Problem 15."
      ]
    },
    {
      "cell_type": "markdown",
      "metadata": {
        "colab_type": "text",
        "id": "9HSXwQtctOjL"
      },
      "source": [
        "**Problem:**\n",
        "Sort `df` first by the values in the 'age' in *decending* order, then by\n",
        "the value in the 'visit' column in *ascending* order.\n",
        "\n",
        " **Possible Input:**\n",
        " ```python\n",
        "data = {'animal': ['cat', 'cat', 'snake', 'dog', 'dog', 'cat', 'snake', 'cat', 'dog', 'dog'],\n",
        "        'age': [2.5, 3, 0.5, np.nan, 5, 2, 4.5, np.nan, 7, 3],\n",
        "        'visits': [1, 3, 2, 3, 2, 3, 1, 1, 2, 1],\n",
        "        'priority': ['yes', 'yes', 'no', 'yes', 'no', 'no', 'no', 'yes', 'no', 'no']}\n",
        "labels = ['a', 'b', 'c', 'd', 'e', 'f', 'g', 'h', 'i', 'j']\n",
        "df = pd.DataFrame(data, index=labels)\n",
        "```\n",
        "\n",
        "**Expected Output:**\n",
        "```\n",
        "animal\tage\tvisits\tpriority\n",
        "i\tdog\t7.0\t2\tno\n",
        "e\tdog\t5.0\t2\tno\n",
        "g\tsnake\t4.5\t1\tno\n",
        "j\tdog\t3.0\t1\tno\n",
        "b\tcat\t3.0\t3\tyes\n",
        "a\tcat\t2.5\t1\tyes\n",
        "f\tcat\t2.0\t3\tno\n",
        "c\tsnake\t0.5\t2\tno\n",
        "h\tcat\tNaN\t1\tyes\n",
        "d\tdog\tNaN\t3\tyes\n",
        "```\n"
      ]
    },
    {
      "cell_type": "code",
      "metadata": {
        "id": "qoO7CXeg0Fqw",
        "colab_type": "code",
        "colab": {}
      },
      "source": [
        "import numpy as np\n",
        "import pandas as pd\n",
        "\n",
        "# Input\n",
        "data = {'animal'  : ['cat', 'cat', 'snake',  'dog', 'dog', 'cat', 'snake',  'cat', 'dog', 'dog'],\n",
        "        'age'     : [  2.5,     3,     0.5, np.nan,     5,     2,     4.5, np.nan,     7,     3],\n",
        "        'visits'  : [    1,     3,       2,      3,     2,     3,       1,      1,     2,     1],\n",
        "        'priority': ['yes', 'yes',    'no',  'yes',  'no',  'no',    'no',  'yes',  'no',  'no']}\n",
        "labels =            [  'a',   'b',     'c',    'd',   'e',   'f',     'g',    'h',   'i',   'j']\n",
        "df = pd.DataFrame(data, index=labels)\n",
        "\n",
        "# Enter your code here"
      ],
      "execution_count": null,
      "outputs": []
    },
    {
      "cell_type": "markdown",
      "metadata": {
        "id": "uIns92SI0Fqx",
        "colab_type": "text"
      },
      "source": [
        "###Solution"
      ]
    },
    {
      "cell_type": "code",
      "metadata": {
        "id": "vygQ_ryz0Fqx",
        "colab_type": "code",
        "colab": {}
      },
      "source": [
        "import numpy as np\n",
        "import pandas as pd\n",
        "\n",
        "# Input\n",
        "data = {'animal'  : ['cat', 'cat', 'snake',  'dog', 'dog', 'cat', 'snake',  'cat', 'dog', 'dog'],\n",
        "        'age'     : [  2.5,     3,     0.5, np.nan,     5,     2,     4.5, np.nan,     7,     3],\n",
        "        'visits'  : [    1,     3,       2,      3,     2,     3,       1,      1,     2,     1],\n",
        "        'priority': ['yes', 'yes',    'no',  'yes',  'no',  'no',    'no',  'yes',  'no',  'no']}\n",
        "labels =            [  'a',   'b',     'c',    'd',   'e',   'f',     'g',    'h',   'i',   'j']\n",
        "df = pd.DataFrame(data, index=labels)\n",
        "\n",
        "#Solution\n",
        "df.sort_values(by=['age', 'visits'], ascending=[False, True])"
      ],
      "execution_count": null,
      "outputs": []
    },
    {
      "cell_type": "markdown",
      "metadata": {
        "id": "bQ_ies1Q0Fqy",
        "colab_type": "text"
      },
      "source": [
        "##Problem 16."
      ]
    },
    {
      "cell_type": "markdown",
      "metadata": {
        "colab_type": "text",
        "id": "lIJ7KW9itQ92"
      },
      "source": [
        "**Problem:**\n",
        "The 'priority' column contains the values 'yes' and 'no'.\n",
        "Replace this column with a column of boolean values: 'yes' should be `True` and 'no' should be `False`.\n",
        "\n",
        " **Possible Input:**\n",
        " ```python\n",
        "data = {'animal': ['cat', 'cat', 'snake', 'dog', 'dog', 'cat', 'snake', 'cat', 'dog', 'dog'],\n",
        "        'age': [2.5, 3, 0.5, np.nan, 5, 2, 4.5, np.nan, 7, 3],\n",
        "        'visits': [1, 3, 2, 3, 2, 3, 1, 1, 2, 1],\n",
        "        'priority': ['yes', 'yes', 'no', 'yes', 'no', 'no', 'no', 'yes', 'no', 'no']}\n",
        "labels = ['a', 'b', 'c', 'd', 'e', 'f', 'g', 'h', 'i', 'j']\n",
        "df = pd.DataFrame(data, index=labels)\n",
        "```\n",
        "\n",
        "**Expected Output:**\n",
        "```\n",
        "\tanimal\tage\tvisits\tpriority\n",
        "a\tcat\t2.5\t1\tTrue\n",
        "b\tcat\t3.0\t3\tTrue\n",
        "c\tsnake\t0.5\t2\tFalse\n",
        "d\tdog\tNaN\t3\tTrue\n",
        "e\tdog\t5.0\t2\tFalse\n",
        "f\tcat\t2.0\t3\tFalse\n",
        "g\tsnake\t4.5\t1\tFalse\n",
        "h\tcat\tNaN\t1\tTrue\n",
        "i\tdog\t7.0\t2\tFalse\n",
        "j\tdog\t3.0\t1\tFalse\n",
        "```\n"
      ]
    },
    {
      "cell_type": "code",
      "metadata": {
        "id": "KcGXVM5O0Fqy",
        "colab_type": "code",
        "colab": {}
      },
      "source": [
        "import numpy as np\n",
        "import pandas as pd\n",
        "\n",
        "# Input\n",
        "data = {'animal'  : ['cat', 'cat', 'snake',  'dog', 'dog', 'cat', 'snake',  'cat', 'dog', 'dog'],\n",
        "        'age'     : [  2.5,     3,     0.5, np.nan,     5,     2,     4.5, np.nan,     7,     3],\n",
        "        'visits'  : [    1,     3,       2,      3,     2,     3,       1,      1,     2,     1],\n",
        "        'priority': ['yes', 'yes',    'no',  'yes',  'no',  'no',    'no',  'yes',  'no',  'no']}\n",
        "labels =            [  'a',   'b',     'c',    'd',   'e',   'f',     'g',    'h',   'i',   'j']\n",
        "df = pd.DataFrame(data, index=labels)\n",
        "\n",
        "# Enter your code here"
      ],
      "execution_count": null,
      "outputs": []
    },
    {
      "cell_type": "markdown",
      "metadata": {
        "id": "snng_5nn0Fq0",
        "colab_type": "text"
      },
      "source": [
        "###Solution"
      ]
    },
    {
      "cell_type": "code",
      "metadata": {
        "id": "zRg_TwRq0Fq1",
        "colab_type": "code",
        "colab": {}
      },
      "source": [
        "import numpy as np\n",
        "import pandas as pd\n",
        "\n",
        "# Input\n",
        "data = {'animal'  : ['cat', 'cat', 'snake',  'dog', 'dog', 'cat', 'snake',  'cat', 'dog', 'dog'],\n",
        "        'age'     : [  2.5,     3,     0.5, np.nan,     5,     2,     4.5, np.nan,     7,     3],\n",
        "        'visits'  : [    1,     3,       2,      3,     2,     3,       1,      1,     2,     1],\n",
        "        'priority': ['yes', 'yes',    'no',  'yes',  'no',  'no',    'no',  'yes',  'no',  'no']}\n",
        "labels =            [  'a',   'b',     'c',    'd',   'e',   'f',     'g',    'h',   'i',   'j']\n",
        "df = pd.DataFrame(data, index=labels)\n",
        "\n",
        "#Solution\n",
        "df['priority'] = df['priority'].map({'yes': True, 'no': False})\n",
        "df"
      ],
      "execution_count": null,
      "outputs": []
    },
    {
      "cell_type": "markdown",
      "metadata": {
        "id": "g3lyPnPd0Fq3",
        "colab_type": "text"
      },
      "source": [
        "##Problem 17."
      ]
    },
    {
      "cell_type": "markdown",
      "metadata": {
        "colab_type": "text",
        "id": "6F0rCNn1tSgs"
      },
      "source": [
        "**Problem:**\n",
        "In the 'animal' column, change the 'snake' entries to 'python'.\n",
        "\n",
        " **Possible Input:**\n",
        " ```python\n",
        "data = {'animal': ['cat', 'cat', 'snake', 'dog', 'dog', 'cat', 'snake', 'cat', 'dog', 'dog'],\n",
        "        'age': [2.5, 3, 0.5, np.nan, 5, 2, 4.5, np.nan, 7, 3],\n",
        "        'visits': [1, 3, 2, 3, 2, 3, 1, 1, 2, 1],\n",
        "        'priority': ['yes', 'yes', 'no', 'yes', 'no', 'no', 'no', 'yes', 'no', 'no']}\n",
        "labels = ['a', 'b', 'c', 'd', 'e', 'f', 'g', 'h', 'i', 'j']\n",
        "df = pd.DataFrame(data, index=labels)\n",
        "```\n",
        "\n",
        "**Expected Output:**\n",
        "```\n",
        "\tanimal\tage\tvisits\tpriority\n",
        "a\tcat\t2.5\t1\tyes\n",
        "b\tcat\t3.0\t3\tyes\n",
        "c\tpython\t0.5\t2\tno\n",
        "d\tdog\tNaN\t3\tyes\n",
        "e\tdog\t5.0\t2\tno\n",
        "f\tcat\t2.0\t3\tno\n",
        "g\tpython\t4.5\t1\tno\n",
        "h\tcat\tNaN\t1\tyes\n",
        "i\tdog\t7.0\t2\tno\n",
        "j\tdog\t3.0\t1\tno\n",
        "```\n"
      ]
    },
    {
      "cell_type": "code",
      "metadata": {
        "id": "XbVVq3E40Fq3",
        "colab_type": "code",
        "colab": {}
      },
      "source": [
        "import numpy as np\n",
        "import pandas as pd\n",
        "\n",
        "# Input\n",
        "data = {'animal'  : ['cat', 'cat', 'snake',  'dog', 'dog', 'cat', 'snake',  'cat', 'dog', 'dog'],\n",
        "        'age'     : [  2.5,     3,     0.5, np.nan,     5,     2,     4.5, np.nan,     7,     3],\n",
        "        'visits'  : [    1,     3,       2,      3,     2,     3,       1,      1,     2,     1],\n",
        "        'priority': ['yes', 'yes',    'no',  'yes',  'no',  'no',    'no',  'yes',  'no',  'no']}\n",
        "labels =            [  'a',   'b',     'c',    'd',   'e',   'f',     'g',    'h',   'i',   'j']\n",
        "df = pd.DataFrame(data, index=labels)\n",
        "\n",
        "# Enter your code here"
      ],
      "execution_count": null,
      "outputs": []
    },
    {
      "cell_type": "markdown",
      "metadata": {
        "id": "FXxrSYo00Fq4",
        "colab_type": "text"
      },
      "source": [
        "###Solution"
      ]
    },
    {
      "cell_type": "code",
      "metadata": {
        "id": "KpEIRw3Q0Fq4",
        "colab_type": "code",
        "colab": {}
      },
      "source": [
        "import numpy as np\n",
        "import pandas as pd\n",
        "\n",
        "# Input\n",
        "data = {'animal'  : ['cat', 'cat', 'snake',  'dog', 'dog', 'cat', 'snake',  'cat', 'dog', 'dog'],\n",
        "        'age'     : [  2.5,     3,     0.5, np.nan,     5,     2,     4.5, np.nan,     7,     3],\n",
        "        'visits'  : [    1,     3,       2,      3,     2,     3,       1,      1,     2,     1],\n",
        "        'priority': ['yes', 'yes',    'no',  'yes',  'no',  'no',    'no',  'yes',  'no',  'no']}\n",
        "labels =            [  'a',   'b',     'c',    'd',   'e',   'f',     'g',    'h',   'i',   'j']\n",
        "df = pd.DataFrame(data, index=labels)\n",
        "\n",
        "#Solution\n",
        "df['animal'] = df['animal'].replace('snake', 'python')\n",
        "df"
      ],
      "execution_count": null,
      "outputs": []
    },
    {
      "cell_type": "markdown",
      "metadata": {
        "id": "PL5xbiVo0Fq7",
        "colab_type": "text"
      },
      "source": [
        "##Problem 18."
      ]
    },
    {
      "cell_type": "markdown",
      "metadata": {
        "colab_type": "text",
        "id": "IEMy6ClYtUMS"
      },
      "source": [
        "**Problem:**\n",
        "For each animal type and each number of visits, find the mean age. \n",
        "In other words, create new table.\n",
        "Each row should be an animal, each column should be a number of visits and the values should be the mean ages.\n",
        "**Hint:** use a pivot table.\n",
        "\n",
        " **Possible Input:**\n",
        " ```python\n",
        "data = {'animal': ['cat', 'cat', 'snake', 'dog', 'dog', 'cat', 'snake', 'cat', 'dog', 'dog'],\n",
        "        'age': [2.5, 3, 0.5, np.nan, 5, 2, 4.5, np.nan, 7, 3],\n",
        "        'visits': [1, 3, 2, 3, 2, 3, 1, 1, 2, 1],\n",
        "        'priority': ['yes', 'yes', 'no', 'yes', 'no', 'no', 'no', 'yes', 'no', 'no']}\n",
        "labels = ['a', 'b', 'c', 'd', 'e', 'f', 'g', 'h', 'i', 'j']\n",
        "df = pd.DataFrame(data, index=labels)\n",
        "```\n",
        "\n",
        "**Expected Output:**\n",
        "```\n",
        "\n",
        "visits\t1\t2\t3\n",
        "animal\t\t\t\n",
        "cat\t2.5\tNaN\t2.5\n",
        "dog\t3.0\t6.0\tNaN\n",
        "snake\t4.5\t0.5\tNaN\n",
        "```\n"
      ]
    },
    {
      "cell_type": "code",
      "metadata": {
        "id": "V9HW-VIC0Fq7",
        "colab_type": "code",
        "colab": {}
      },
      "source": [
        "import numpy as np\n",
        "import pandas as pd\n",
        "\n",
        "# Input\n",
        "data = {'animal'  : ['cat', 'cat', 'snake',  'dog', 'dog', 'cat', 'snake',  'cat', 'dog', 'dog'],\n",
        "        'age'     : [  2.5,     3,     0.5, np.nan,     5,     2,     4.5, np.nan,     7,     3],\n",
        "        'visits'  : [    1,     3,       2,      3,     2,     3,       1,      1,     2,     1],\n",
        "        'priority': ['yes', 'yes',    'no',  'yes',  'no',  'no',    'no',  'yes',  'no',  'no']}\n",
        "labels =            [  'a',   'b',     'c',    'd',   'e',   'f',     'g',    'h',   'i',   'j']\n",
        "df = pd.DataFrame(data, index=labels)\n",
        "\n",
        "# Enter your code here"
      ],
      "execution_count": null,
      "outputs": []
    },
    {
      "cell_type": "markdown",
      "metadata": {
        "id": "vpsIm3010Fq8",
        "colab_type": "text"
      },
      "source": [
        "###Solution"
      ]
    },
    {
      "cell_type": "code",
      "metadata": {
        "id": "8yljTSux0Fq8",
        "colab_type": "code",
        "colab": {}
      },
      "source": [
        "import numpy as np\n",
        "import pandas as pd\n",
        "\n",
        "# Input\n",
        "data = {'animal'  : ['cat', 'cat', 'snake',  'dog', 'dog', 'cat', 'snake',  'cat', 'dog', 'dog'],\n",
        "        'age'     : [  2.5,     3,     0.5, np.nan,     5,     2,     4.5, np.nan,     7,     3],\n",
        "        'visits'  : [    1,     3,       2,      3,     2,     3,       1,      1,     2,     1],\n",
        "        'priority': ['yes', 'yes',    'no',  'yes',  'no',  'no',    'no',  'yes',  'no',  'no']}\n",
        "labels =            [  'a',   'b',     'c',    'd',   'e',   'f',     'g',    'h',   'i',   'j']\n",
        "df = pd.DataFrame(data, index=labels)\n",
        "\n",
        "#Solution\n",
        "df.pivot_table(index='animal', columns='visits', values='age', aggfunc='mean')"
      ],
      "execution_count": null,
      "outputs": []
    },
    {
      "cell_type": "markdown",
      "metadata": {
        "id": "nft3SLBL0Fq9",
        "colab_type": "text"
      },
      "source": [
        "# DataFrames: beyond the basics\n",
        "\n",
        "Slightly trickier: you may need to combine two or more methods to get the right answer.\n",
        "\n",
        "Difficulty: **medium**"
      ]
    },
    {
      "cell_type": "markdown",
      "metadata": {
        "id": "7EGdoY8AFF7W",
        "colab_type": "text"
      },
      "source": [
        "##Problem 1."
      ]
    },
    {
      "cell_type": "markdown",
      "metadata": {
        "id": "07Iq_b_bEi6X",
        "colab_type": "text"
      },
      "source": [
        "**Problem:**\n",
        "Given dataframe, consider column \"A\" and filter out rows which contain the same integer as the row immediately above.\n",
        "\n",
        "**Possible Input:**\n",
        "```python\n",
        "df = pd.DataFrame({'A': [1, 2, 2, 3, 4, 5, 5, 5, 2, 2, 2, 2, 6, 7, 7]})\n",
        "```\n",
        "\n",
        "**Expected Output:**\n",
        "```\n",
        "\tA\n",
        "0\t1\n",
        "1\t2\n",
        "3\t3\n",
        "4\t4\n",
        "5\t5\n",
        "8\t2\n",
        "12\t6\n",
        "13\t7\n",
        "```\n"
      ]
    },
    {
      "cell_type": "code",
      "metadata": {
        "id": "myF5NgXz0Fq9",
        "colab_type": "code",
        "colab": {}
      },
      "source": [
        "import numpy as np\n",
        "import pandas as pd\n",
        "\n",
        "# Input\n",
        "df = pd.DataFrame({'A': [1, 2, 2, 3, 4, 5, 5, 5, 2, 2, 2, 2, 6, 7, 7]})\n",
        "\n",
        "# Enter your code here"
      ],
      "execution_count": null,
      "outputs": []
    },
    {
      "cell_type": "markdown",
      "metadata": {
        "id": "jQawHudF0Fq_",
        "colab_type": "text"
      },
      "source": [
        "###Solution"
      ]
    },
    {
      "cell_type": "code",
      "metadata": {
        "id": "oeItWFT30Fq_",
        "colab_type": "code",
        "colab": {}
      },
      "source": [
        "import numpy as np\n",
        "import pandas as pd\n",
        "\n",
        "# Input\n",
        "df = pd.DataFrame({'A': [1, 2, 2, 3, 4, 5, 5, 5, 2, 2, 2, 2, 6, 7, 7]})\n",
        "\n",
        "# Solution\n",
        "df.loc[df['A'].shift() != df['A']]"
      ],
      "execution_count": null,
      "outputs": []
    },
    {
      "cell_type": "markdown",
      "metadata": {
        "id": "kV4HH6e00FrC",
        "colab_type": "text"
      },
      "source": [
        "##Problem 2."
      ]
    },
    {
      "cell_type": "markdown",
      "metadata": {
        "id": "U3mcBZK7Jnne",
        "colab_type": "text"
      },
      "source": [
        "**Problem:**\n",
        "Given a DataFrame of numeric values, subtract the row mean from each element in the row.\n",
        "\n",
        "**Possible Input:**\n",
        "```python\n",
        "df = pd.DataFrame({'A': [  5,  -1,  -3,   9,   8],\n",
        "                   'B': [  9,   9,  -1,   5,  -2],\n",
        "                   'C': [ -5,  10,  -5,   9, -10]})\n",
        "\n",
        "\n",
        "```\n",
        "\n",
        "**Expected Output:**\n",
        "```\n",
        "      A\t        B        \tC\n",
        "0\t2.000000\t6.000000\t-8.000000\n",
        "1\t-7.000000\t3.000000\t4.000000\n",
        "2\t0.000000\t2.000000\t-2.000000\n",
        "3\t1.333333\t-2.666667\t1.333333\n",
        "4\t9.333333\t-0.666667\t-8.666667\n",
        "```\n",
        "\n",
        "\n"
      ]
    },
    {
      "cell_type": "code",
      "metadata": {
        "id": "2m0aeBDl0FrD",
        "colab_type": "code",
        "colab": {}
      },
      "source": [
        "import numpy as np\n",
        "import pandas as ps\n",
        "\n",
        "# Input\n",
        "df = pd.DataFrame({'A': [  5,  -1,  -3,   9,   8],\n",
        "                   'B': [  9,   9,  -1,   5,  -2],\n",
        "                   'C': [ -5,  10,  -5,   9, -10]})\n",
        "\n",
        "# Enter your code here"
      ],
      "execution_count": null,
      "outputs": []
    },
    {
      "cell_type": "markdown",
      "metadata": {
        "id": "Mgu45c-a0FrE",
        "colab_type": "text"
      },
      "source": [
        "###Solution"
      ]
    },
    {
      "cell_type": "code",
      "metadata": {
        "id": "RQMmua5-0FrG",
        "colab_type": "code",
        "colab": {}
      },
      "source": [
        "import numpy as np\n",
        "import pandas as ps\n",
        "\n",
        "# Input\n",
        "df = pd.DataFrame({'A': [  5,  -1,  -3,   9,   8],\n",
        "                   'B': [  9,   9,  -1,   5,  -2],\n",
        "                   'C': [ -5,  10,  -5,   9, -10]})\n",
        "\n",
        "# Solution\n",
        "df.sub(df.mean(axis=1), axis=0)"
      ],
      "execution_count": null,
      "outputs": []
    },
    {
      "cell_type": "markdown",
      "metadata": {
        "id": "uGBurm550FrI",
        "colab_type": "text"
      },
      "source": [
        "##Problem 3."
      ]
    },
    {
      "cell_type": "markdown",
      "metadata": {
        "id": "qFJr_8uSO-v2",
        "colab_type": "text"
      },
      "source": [
        "**Problem:**\n",
        "A dataframe that contains 10 columns of nubers is given.\n",
        "Find label of the column containing the smallest sum.\n",
        "\n",
        "**Possible Input:**\n",
        "```python\n",
        "df = pd.DataFrame({\n",
        "       'a' : [  2,  -4,  -7, -10,   9],\n",
        "       'b' : [  7,  -9,  -7,  -7,  -4],\n",
        "       'c' : [ -8,  10,  -8,   5,  -3],\n",
        "       'd' : [  3,  -8,   5,  -4, -10],\n",
        "       'e' : [  9,   3,  -5,  -9,   6],\n",
        "       'f' : [ -1,  -7, -10,  -8,  10],\n",
        "       'g' : [  1,   8,   3,   9,   5],\n",
        "       'h' : [  3,   5,   0,   1,  -3],\n",
        "       'i' : [  3,   4,  -5,  -9,  -7],\n",
        "       'j' : [  0,   4,  -6,   3,   9]})\n",
        "```\n",
        "\n",
        "**Expected Output**\n",
        "```\n",
        "'b'\n",
        "```\n",
        "\n"
      ]
    },
    {
      "cell_type": "code",
      "metadata": {
        "id": "KAvcTSLb0FrI",
        "colab_type": "code",
        "colab": {}
      },
      "source": [
        "import numpy as np\n",
        "import pandas as pd\n",
        "\n",
        "# Input\n",
        "df = pd.DataFrame({\n",
        "       'a' : [  2,  -4,  -7, -10,   9],\n",
        "       'b' : [  7,  -9,  -7,  -7,  -4],\n",
        "       'c' : [ -8,  10,  -8,   5,  -3],\n",
        "       'd' : [  3,  -8,   5,  -4, -10],\n",
        "       'e' : [  9,   3,  -5,  -9,   6],\n",
        "       'f' : [ -1,  -7, -10,  -8,  10],\n",
        "       'g' : [  1,   8,   3,   9,   5],\n",
        "       'h' : [  3,   5,   0,   1,  -3],\n",
        "       'i' : [  3,   4,  -5,  -9,  -7],\n",
        "       'j' : [  0,   4,  -6,   3,   9]})\n",
        "\n",
        "# Enter your code here"
      ],
      "execution_count": null,
      "outputs": []
    },
    {
      "cell_type": "markdown",
      "metadata": {
        "id": "j7wmbFxa0FrM",
        "colab_type": "text"
      },
      "source": [
        "###Solution"
      ]
    },
    {
      "cell_type": "code",
      "metadata": {
        "id": "f1ojxMpv0FrM",
        "colab_type": "code",
        "colab": {}
      },
      "source": [
        "import numpy as np\n",
        "import pandas as pd\n",
        "\n",
        "# Input\n",
        "df = pd.DataFrame({\n",
        "       'a' : [  2,  -4,  -7, -10,   9],\n",
        "       'b' : [  7,  -9,  -7,  -7,  -4],\n",
        "       'c' : [ -8,  10,  -8,   5,  -3],\n",
        "       'd' : [  3,  -8,   5,  -4, -10],\n",
        "       'e' : [  9,   3,  -5,  -9,   6],\n",
        "       'f' : [ -1,  -7, -10,  -8,  10],\n",
        "       'g' : [  1,   8,   3,   9,   5],\n",
        "       'h' : [  3,   5,   0,   1,  -3],\n",
        "       'i' : [  3,   4,  -5,  -9,  -7],\n",
        "       'j' : [  0,   4,  -6,   3,   9]})\n",
        "\n",
        "# Solution\n",
        "df.sum().idxmin()"
      ],
      "execution_count": null,
      "outputs": []
    },
    {
      "cell_type": "markdown",
      "metadata": {
        "id": "3uuI-TjJ0FrN",
        "colab_type": "text"
      },
      "source": [
        "##Problem 4."
      ]
    },
    {
      "cell_type": "markdown",
      "metadata": {
        "id": "9gEzWrH4Re_z",
        "colab_type": "text"
      },
      "source": [
        "**Problem:**\n",
        "Count the nuber of unique rows in the given dataframe.\n",
        "\n",
        "**Possible Input:**\n",
        "```python\n",
        "df = pd.DataFrame({\n",
        "       'a' : [  2,  -4,   2,   2,  -4],\n",
        "       'b' : [  7,  -9,   7,   7,  -9],\n",
        "       'c' : [ -8,  10,  -8,  -8,  10],\n",
        "       'd' : [  3,  -8,   3,   3,  -8]})\n",
        "\n",
        "\n",
        "```\n",
        "\n",
        "**Expected Output:**\n",
        "```\n",
        "2\n",
        "```\n",
        "\n"
      ]
    },
    {
      "cell_type": "code",
      "metadata": {
        "id": "S4na5Wvd0FrN",
        "colab_type": "code",
        "colab": {}
      },
      "source": [
        "import numpy as np\n",
        "import pandas as pd\n",
        "\n",
        "# Input\n",
        "df = pd.DataFrame({\n",
        "       'a' : [  2,  -4,   2,   2,  -4],\n",
        "       'b' : [  7,  -9,   7,   7,  -9],\n",
        "       'c' : [ -8,  10,  -8,  -8,  10],\n",
        "       'd' : [  3,  -8,   3,   3,  -8]})\n",
        "\n",
        "# Enter your code here"
      ],
      "execution_count": null,
      "outputs": []
    },
    {
      "cell_type": "markdown",
      "metadata": {
        "id": "EyTs1PF20FrO",
        "colab_type": "text"
      },
      "source": [
        "###Solution A:"
      ]
    },
    {
      "cell_type": "code",
      "metadata": {
        "id": "EeyHHUYL0FrP",
        "colab_type": "code",
        "colab": {}
      },
      "source": [
        "import numpy as np\n",
        "import pandas as pd\n",
        "\n",
        "# Input\n",
        "df = pd.DataFrame({\n",
        "       'a' : [  2,  -4,   2,   2,  -4],\n",
        "       'b' : [  7,  -9,   7,   7,  -9],\n",
        "       'c' : [ -8,  10,  -8,  -8,  10],\n",
        "       'd' : [  3,  -8,   3,   3,  -8]})\n",
        "\n",
        "# Solution\n",
        "len(df.drop_duplicates(keep=\"first\"))"
      ],
      "execution_count": null,
      "outputs": []
    },
    {
      "cell_type": "markdown",
      "metadata": {
        "id": "vnjBciEHTmAn",
        "colab_type": "text"
      },
      "source": [
        "###Solution B:"
      ]
    },
    {
      "cell_type": "code",
      "metadata": {
        "id": "gPWP1wh0S5IU",
        "colab_type": "code",
        "colab": {}
      },
      "source": [
        "import numpy as np\n",
        "import pandas as pd\n",
        "\n",
        "# Input\n",
        "df = pd.DataFrame({\n",
        "       'a' : [  2,  -4,   2,   2,  -4],\n",
        "       'b' : [  7,  -9,   7,   7,  -9],\n",
        "       'c' : [ -8,  10,  -8,  -8,  10],\n",
        "       'd' : [  3,  -8,   3,   3,  -8]})\n",
        "\n",
        "# Solution\n",
        "len(df) - df.duplicated(keep=\"first\").sum()"
      ],
      "execution_count": null,
      "outputs": []
    },
    {
      "cell_type": "markdown",
      "metadata": {
        "id": "80HPTF3M0FrQ",
        "colab_type": "text"
      },
      "source": [
        "##Problem 5."
      ]
    },
    {
      "cell_type": "markdown",
      "metadata": {
        "id": "Qn47jaUQu9mH",
        "colab_type": "text"
      },
      "source": [
        "**Problem:**\n",
        "You are given a dataframe that contains numbers and nans.\n",
        "For each row find the column that contains third nan.\n",
        "Print as output pairs row-column with third nan.\n",
        "\n",
        "**Possible Input:**\n",
        "```python\n",
        "df = pd.DataFrame({\n",
        "       'a' : [np.nan,    -4,  -7,   -10,     9],\n",
        "       'b' : [     7,    -9,  -7,np.nan,    -4],\n",
        "       'c' : [    -8,    10,  -8,     5,    -3],\n",
        "       'd' : [np.nan,np.nan,   5,    -4,np.nan],\n",
        "       'e' : [     9,np.nan,  -5,    -9,np.nan],\n",
        "       'f' : [np.nan,    -7, -10,    -8,np.nan],\n",
        "       'g' : [np.nan,     8,   3,     9,     5],\n",
        "       'h' : [np.nan,     5,   0,np.nan,    -3],\n",
        "       'i' : [     3,np.nan,  -5,    -9,    -7],\n",
        "       'j' : [     0,np.nan,  -6,     3,     9]})\n",
        "n = 3\n",
        "```\n",
        "\n",
        "**Expected Output:**\n",
        "```\n",
        "0    f\n",
        "1    i\n",
        "4    f\n",
        "dtype: object\n",
        "```"
      ]
    },
    {
      "cell_type": "code",
      "metadata": {
        "id": "IuHKu2qh0FrQ",
        "colab_type": "code",
        "colab": {}
      },
      "source": [
        "import numpy as np\n",
        "import pandas as pd\n",
        "\n",
        "# Input\n",
        "df = pd.DataFrame({\n",
        "       'a' : [np.nan,    -4,  -7,   -10,     9],\n",
        "       'b' : [     7,    -9,  -7,np.nan,    -4],\n",
        "       'c' : [    -8,    10,  -8,     5,    -3],\n",
        "       'd' : [np.nan,np.nan,   5,    -4,np.nan],\n",
        "       'e' : [     9,np.nan,  -5,    -9,np.nan],\n",
        "       'f' : [np.nan,    -7, -10,    -8,np.nan],\n",
        "       'g' : [np.nan,     8,   3,     9,     5],\n",
        "       'h' : [np.nan,     5,   0,np.nan,    -3],\n",
        "       'i' : [     3,np.nan,  -5,    -9,    -7],\n",
        "       'j' : [     0,np.nan,  -6,     3,     9]})\n",
        "n = 3\n",
        "\n",
        "# Enter your code here"
      ],
      "execution_count": null,
      "outputs": []
    },
    {
      "cell_type": "markdown",
      "metadata": {
        "id": "Y1XCBc1i0FrR",
        "colab_type": "text"
      },
      "source": [
        "###Solution A:"
      ]
    },
    {
      "cell_type": "code",
      "metadata": {
        "id": "DHNRZMFD0FrS",
        "colab_type": "code",
        "colab": {}
      },
      "source": [
        "import numpy as np\n",
        "import pandas as pd\n",
        "\n",
        "# Input\n",
        "df = pd.DataFrame({\n",
        "       'a' : [np.nan,    -4,  -7,   -10,     9],\n",
        "       'b' : [     7,    -9,  -7,np.nan,    -4],\n",
        "       'c' : [    -8,    10,  -8,     5,    -3],\n",
        "       'd' : [np.nan,np.nan,   5,    -4,np.nan],\n",
        "       'e' : [     9,np.nan,  -5,    -9,np.nan],\n",
        "       'f' : [np.nan,    -7, -10,    -8,np.nan],\n",
        "       'g' : [np.nan,     8,   3,     9,     5],\n",
        "       'h' : [np.nan,     5,   0,np.nan,    -3],\n",
        "       'i' : [     3,np.nan,  -5,    -9,    -7],\n",
        "       'j' : [     0,np.nan,  -6,     3,     9]})\n",
        "n = 3\n",
        "\n",
        "# Solution\n",
        "(df[df.isnull().sum(axis=1) >= n].isnull().cumsum(axis=1) == n).idxmax(axis=1, skipna=True)"
      ],
      "execution_count": null,
      "outputs": []
    },
    {
      "cell_type": "markdown",
      "metadata": {
        "id": "4ALhhiuNvuPu",
        "colab_type": "text"
      },
      "source": [
        "###Solution B:"
      ]
    },
    {
      "cell_type": "code",
      "metadata": {
        "id": "ZE68zhLGucWW",
        "colab_type": "code",
        "colab": {}
      },
      "source": [
        "import numpy as np\n",
        "import pandas as pd\n",
        "\n",
        "# Input\n",
        "df = pd.DataFrame({\n",
        "       'a' : [np.nan,    -4,  -7,   -10,     9],\n",
        "       'b' : [     7,    -9,  -7,np.nan,    -4],\n",
        "       'c' : [    -8,    10,  -8,     5,    -3],\n",
        "       'd' : [np.nan,np.nan,   5,    -4,np.nan],\n",
        "       'e' : [     9,np.nan,  -5,    -9,np.nan],\n",
        "       'f' : [np.nan,    -7, -10,    -8,np.nan],\n",
        "       'g' : [np.nan,     8,   3,     9,     5],\n",
        "       'h' : [np.nan,     5,   0,np.nan,    -3],\n",
        "       'i' : [     3,np.nan,  -5,    -9,    -7],\n",
        "       'j' : [     0,np.nan,  -6,     3,     9]})\n",
        "n = 3\n",
        "\n",
        "# Solution\n",
        "temp = df.isnull()\n",
        "temp = temp[temp.sum(axis=1) >= n]\n",
        "(temp.cumsum(axis=1) == n).idxmax(axis=1, skipna=True)"
      ],
      "execution_count": null,
      "outputs": []
    },
    {
      "cell_type": "markdown",
      "metadata": {
        "id": "e48iw4gU0FrS",
        "colab_type": "text"
      },
      "source": [
        "##Problem 6."
      ]
    },
    {
      "cell_type": "markdown",
      "metadata": {
        "id": "Rh55ztRj6dGz",
        "colab_type": "text"
      },
      "source": [
        "**Problem:**\n",
        "A DataFrame has a column \"groups\" and a column \"values\" that contains numbers.\n",
        "For each group, find the sum of the three greatest values.\n",
        "\n",
        "**Possible Input:**\n",
        "```python\n",
        "df = pd.DataFrame({'groups': list('aaabbcaabcccbbc'), \n",
        "                   'values': [12,345,3,1,45,14,4,52,54,23,235,21,57,3,87]})\n",
        "```\n",
        "\n",
        "**Expected Output:**\n",
        "```\n",
        "groups\n",
        "a    409\n",
        "b    156\n",
        "c    345\n",
        "Name: values, dtype: int64\n",
        "```"
      ]
    },
    {
      "cell_type": "code",
      "metadata": {
        "id": "LNRnfYEV0FrS",
        "colab_type": "code",
        "colab": {}
      },
      "source": [
        "import numpy as np\n",
        "import pandas as pd\n",
        "\n",
        "# Input\n",
        "df = pd.DataFrame({'groups': list('aaabbcaabcccbbc'), \n",
        "                   'values': [12,345,3,1,45,14,4,52,54,23,235,21,57,3,87]})\n",
        "\n",
        "# Enter your code here"
      ],
      "execution_count": null,
      "outputs": []
    },
    {
      "cell_type": "markdown",
      "metadata": {
        "id": "3iqB5Lu90FrU",
        "colab_type": "text"
      },
      "source": [
        "###Solution"
      ]
    },
    {
      "cell_type": "code",
      "metadata": {
        "id": "AVw6EHTP0FrU",
        "colab_type": "code",
        "colab": {}
      },
      "source": [
        "import numpy as np\n",
        "import pandas as pd\n",
        "\n",
        "# Input\n",
        "df = pd.DataFrame({'groups': list('aaabbcaabcccbbc'), \n",
        "                   'values': [12,345,3,1,45,14,4,52,54,23,235,21,57,3,87]})\n",
        "\n",
        "# Solution\n",
        "df.groupby('groups')['values'].nlargest(3).sum(level=0)"
      ],
      "execution_count": null,
      "outputs": []
    },
    {
      "cell_type": "markdown",
      "metadata": {
        "id": "O-8-zOpJ0FrX",
        "colab_type": "text"
      },
      "source": [
        "##Problem 7."
      ]
    },
    {
      "cell_type": "markdown",
      "metadata": {
        "id": "338cJCi89gYT",
        "colab_type": "text"
      },
      "source": [
        "**Problem:**\n",
        "A DataFrame has two integer columns 'A' and 'B'.\n",
        "The values in 'A' are between 1 and 100 (inclusive).\n",
        "For each group of 10 consecutive integers in 'A' (i.e. `(0, 10]`, `(10, 20]`, ...), calculate the sum of the corresponding values\n",
        "in column 'B'.\n",
        "\n",
        "**Possible Input:**\n",
        "```python\n",
        "df = pd.DataFrame({'A': np.arange(1, 101),\n",
        "                   'B': [2.0**(-n) for n in range(1, 101)]})\n",
        "```\n",
        "\n",
        "**Expected Output:**\n",
        "```\n",
        "A\n",
        "(0, 10]      9.990234e-01\n",
        "(10, 20]     9.756088e-04\n",
        "(20, 30]     9.527430e-07\n",
        "(30, 40]     9.304131e-10\n",
        "(40, 50]     9.086065e-13\n",
        "(50, 60]     8.873111e-16\n",
        "(60, 70]     8.665147e-19\n",
        "(70, 80]     8.462058e-22\n",
        "(80, 90]     8.263728e-25\n",
        "(90, 100]    8.070047e-28\n",
        "Name: B, dtype: float64\n",
        "```\n",
        "\n"
      ]
    },
    {
      "cell_type": "code",
      "metadata": {
        "id": "69Py3xMa0FrX",
        "colab_type": "code",
        "colab": {}
      },
      "source": [
        "import numpy as np\n",
        "import pandas as pd\n",
        "\n",
        "# Input\n",
        "df = pd.DataFrame({'A': np.arange(1, 101),\n",
        "                   'B': [2.0**(-n) for n in range(1, 101)]})\n",
        "\n",
        "# Enter your code here"
      ],
      "execution_count": null,
      "outputs": []
    },
    {
      "cell_type": "markdown",
      "metadata": {
        "id": "180KQ4da0FrY",
        "colab_type": "text"
      },
      "source": [
        "###Solution"
      ]
    },
    {
      "cell_type": "code",
      "metadata": {
        "id": "lwrdWcS30FrY",
        "colab_type": "code",
        "colab": {}
      },
      "source": [
        "import numpy as np\n",
        "import pandas as pd\n",
        "\n",
        "# Input\n",
        "df = pd.DataFrame({'A': np.arange(1, 101),\n",
        "                   'B': [2.0**(-n) for n in range(1, 101)]})\n",
        "\n",
        "# Solution\n",
        "df.groupby(pd.cut(df['A'], np.arange(0, 101, 10)))['B'].sum()"
      ],
      "execution_count": null,
      "outputs": []
    },
    {
      "cell_type": "markdown",
      "metadata": {
        "id": "q9UEzPxW0FrZ",
        "colab_type": "text"
      },
      "source": [
        "# DataFrames: harder problems \n",
        "\n",
        "These might require a bit of thinking outside the box...\n",
        "\n",
        "...but all are solvable using just the usual pandas/NumPy methods (and so avoid using explicit `for` loops).\n",
        "\n",
        "Difficulty: **hard**"
      ]
    },
    {
      "cell_type": "markdown",
      "metadata": {
        "id": "tdg2iaag0Mgp",
        "colab_type": "text"
      },
      "source": [
        "##Problem 1.\n",
        "\n"
      ]
    },
    {
      "cell_type": "markdown",
      "metadata": {
        "id": "3tWYLDML3Ap4",
        "colab_type": "text"
      },
      "source": [
        "**Problem:**\n",
        "Consider a DataFrame df containing an integer column X.\n",
        "Create new column Y containing distance (in rows) to the closest previous zero value in X.\n",
        "If all previous values in column X are nonzero -- set entry in Y equal to the distance to the beginning of the array.\n",
        "\n",
        "**Possible Input:**\n",
        "```python\n",
        "f = pd.DataFrame({'X': [7, 2, 0, 3, 4, 2, 5, 0, 3, 4]})\n",
        "```\n",
        "\n",
        "**Expected Output:**\n",
        "```\n",
        "\tX\tY\n",
        "0\t7\t1\n",
        "1\t2\t2\n",
        "2\t0\t0\n",
        "3\t3\t1\n",
        "4\t4\t2\n",
        "5\t2\t3\n",
        "6\t5\t4\n",
        "7\t0\t0\n",
        "8\t3\t1\n",
        "9\t4\t2\n",
        "```"
      ]
    },
    {
      "cell_type": "code",
      "metadata": {
        "id": "SfZWZehg0Fra",
        "colab_type": "code",
        "colab": {}
      },
      "source": [
        "import numpy as np\n",
        "import pandas as pd\n",
        "\n",
        "# Input\n",
        "df = pd.DataFrame({'X': [7, 2, 0, 3, 4, 2, 5, 0, 3, 4]})\n",
        "\n",
        "# Enter your code here"
      ],
      "execution_count": null,
      "outputs": []
    },
    {
      "cell_type": "markdown",
      "metadata": {
        "id": "DWAv3Sst0Frc",
        "colab_type": "text"
      },
      "source": [
        "###Solution A:"
      ]
    },
    {
      "cell_type": "code",
      "metadata": {
        "id": "-1uT2E930Frc",
        "colab_type": "code",
        "colab": {
          "base_uri": "https://localhost:8080/",
          "height": 359
        },
        "outputId": "8a9b0b8b-c805-45e8-edd7-b4bacf92f908"
      },
      "source": [
        "import numpy as np\n",
        "import pandas as pd\n",
        "\n",
        "# Input\n",
        "df = pd.DataFrame({'X': [7, 2, 0, 3, 4, 2, 5, 0, 3, 4]})\n",
        "\n",
        "# Solution\n",
        "izero = np.r_[-1, (df['X'] == 0).to_numpy().nonzero()[0]] # indices of zeros\n",
        "idx = np.arange(len(df))\n",
        "df['Y'] = idx - izero[np.searchsorted(izero - 1, idx) - 1]\n",
        "df"
      ],
      "execution_count": null,
      "outputs": [
        {
          "output_type": "execute_result",
          "data": {
            "text/html": [
              "<div>\n",
              "<style scoped>\n",
              "    .dataframe tbody tr th:only-of-type {\n",
              "        vertical-align: middle;\n",
              "    }\n",
              "\n",
              "    .dataframe tbody tr th {\n",
              "        vertical-align: top;\n",
              "    }\n",
              "\n",
              "    .dataframe thead th {\n",
              "        text-align: right;\n",
              "    }\n",
              "</style>\n",
              "<table border=\"1\" class=\"dataframe\">\n",
              "  <thead>\n",
              "    <tr style=\"text-align: right;\">\n",
              "      <th></th>\n",
              "      <th>X</th>\n",
              "      <th>Y</th>\n",
              "    </tr>\n",
              "  </thead>\n",
              "  <tbody>\n",
              "    <tr>\n",
              "      <th>0</th>\n",
              "      <td>7</td>\n",
              "      <td>1</td>\n",
              "    </tr>\n",
              "    <tr>\n",
              "      <th>1</th>\n",
              "      <td>2</td>\n",
              "      <td>2</td>\n",
              "    </tr>\n",
              "    <tr>\n",
              "      <th>2</th>\n",
              "      <td>0</td>\n",
              "      <td>0</td>\n",
              "    </tr>\n",
              "    <tr>\n",
              "      <th>3</th>\n",
              "      <td>3</td>\n",
              "      <td>1</td>\n",
              "    </tr>\n",
              "    <tr>\n",
              "      <th>4</th>\n",
              "      <td>4</td>\n",
              "      <td>2</td>\n",
              "    </tr>\n",
              "    <tr>\n",
              "      <th>5</th>\n",
              "      <td>2</td>\n",
              "      <td>3</td>\n",
              "    </tr>\n",
              "    <tr>\n",
              "      <th>6</th>\n",
              "      <td>5</td>\n",
              "      <td>4</td>\n",
              "    </tr>\n",
              "    <tr>\n",
              "      <th>7</th>\n",
              "      <td>0</td>\n",
              "      <td>0</td>\n",
              "    </tr>\n",
              "    <tr>\n",
              "      <th>8</th>\n",
              "      <td>3</td>\n",
              "      <td>1</td>\n",
              "    </tr>\n",
              "    <tr>\n",
              "      <th>9</th>\n",
              "      <td>4</td>\n",
              "      <td>2</td>\n",
              "    </tr>\n",
              "  </tbody>\n",
              "</table>\n",
              "</div>"
            ],
            "text/plain": [
              "   X  Y\n",
              "0  7  1\n",
              "1  2  2\n",
              "2  0  0\n",
              "3  3  1\n",
              "4  4  2\n",
              "5  2  3\n",
              "6  5  4\n",
              "7  0  0\n",
              "8  3  1\n",
              "9  4  2"
            ]
          },
          "metadata": {
            "tags": []
          },
          "execution_count": 2
        }
      ]
    },
    {
      "cell_type": "markdown",
      "metadata": {
        "id": "QEQwbkjE0Frf",
        "colab_type": "text"
      },
      "source": [
        "###Solution B:"
      ]
    },
    {
      "cell_type": "code",
      "metadata": {
        "id": "qfLUKPMh0Frf",
        "colab_type": "code",
        "colab": {
          "base_uri": "https://localhost:8080/",
          "height": 359
        },
        "outputId": "2679313d-5708-4710-f5a9-a444df47f6e5"
      },
      "source": [
        "import numpy as np\n",
        "import pandas as pd\n",
        "\n",
        "# Input\n",
        "df = pd.DataFrame({'X': [7, 2, 0, 3, 4, 2, 5, 0, 3, 4]})\n",
        "\n",
        "# Solution\n",
        "izero = np.r_[-1, (df['X'] == 0).to_numpy().nonzero()[0]] # indices of zeros\n",
        "idx = np.arange(len(df))\n",
        "df['Y'] = idx - izero[np.searchsorted(izero - 1, idx) - 1]\n",
        "df"
      ],
      "execution_count": null,
      "outputs": [
        {
          "output_type": "execute_result",
          "data": {
            "text/html": [
              "<div>\n",
              "<style scoped>\n",
              "    .dataframe tbody tr th:only-of-type {\n",
              "        vertical-align: middle;\n",
              "    }\n",
              "\n",
              "    .dataframe tbody tr th {\n",
              "        vertical-align: top;\n",
              "    }\n",
              "\n",
              "    .dataframe thead th {\n",
              "        text-align: right;\n",
              "    }\n",
              "</style>\n",
              "<table border=\"1\" class=\"dataframe\">\n",
              "  <thead>\n",
              "    <tr style=\"text-align: right;\">\n",
              "      <th></th>\n",
              "      <th>X</th>\n",
              "      <th>Y</th>\n",
              "    </tr>\n",
              "  </thead>\n",
              "  <tbody>\n",
              "    <tr>\n",
              "      <th>0</th>\n",
              "      <td>7</td>\n",
              "      <td>1</td>\n",
              "    </tr>\n",
              "    <tr>\n",
              "      <th>1</th>\n",
              "      <td>2</td>\n",
              "      <td>2</td>\n",
              "    </tr>\n",
              "    <tr>\n",
              "      <th>2</th>\n",
              "      <td>0</td>\n",
              "      <td>0</td>\n",
              "    </tr>\n",
              "    <tr>\n",
              "      <th>3</th>\n",
              "      <td>3</td>\n",
              "      <td>1</td>\n",
              "    </tr>\n",
              "    <tr>\n",
              "      <th>4</th>\n",
              "      <td>4</td>\n",
              "      <td>2</td>\n",
              "    </tr>\n",
              "    <tr>\n",
              "      <th>5</th>\n",
              "      <td>2</td>\n",
              "      <td>3</td>\n",
              "    </tr>\n",
              "    <tr>\n",
              "      <th>6</th>\n",
              "      <td>5</td>\n",
              "      <td>4</td>\n",
              "    </tr>\n",
              "    <tr>\n",
              "      <th>7</th>\n",
              "      <td>0</td>\n",
              "      <td>0</td>\n",
              "    </tr>\n",
              "    <tr>\n",
              "      <th>8</th>\n",
              "      <td>3</td>\n",
              "      <td>1</td>\n",
              "    </tr>\n",
              "    <tr>\n",
              "      <th>9</th>\n",
              "      <td>4</td>\n",
              "      <td>2</td>\n",
              "    </tr>\n",
              "  </tbody>\n",
              "</table>\n",
              "</div>"
            ],
            "text/plain": [
              "   X  Y\n",
              "0  7  1\n",
              "1  2  2\n",
              "2  0  0\n",
              "3  3  1\n",
              "4  4  2\n",
              "5  2  3\n",
              "6  5  4\n",
              "7  0  0\n",
              "8  3  1\n",
              "9  4  2"
            ]
          },
          "metadata": {
            "tags": []
          },
          "execution_count": 4
        }
      ]
    },
    {
      "cell_type": "markdown",
      "metadata": {
        "id": "XpSNuLJF0Frh",
        "colab_type": "text"
      },
      "source": [
        "###Solution C:"
      ]
    },
    {
      "cell_type": "code",
      "metadata": {
        "id": "i_qUAsFF0Fri",
        "colab_type": "code",
        "colab": {
          "base_uri": "https://localhost:8080/",
          "height": 359
        },
        "outputId": "2b424b7e-7024-4fb3-c584-a3a17d965a2e"
      },
      "source": [
        "import numpy as np\n",
        "import pandas as pd\n",
        "\n",
        "# Input\n",
        "df = pd.DataFrame({'X': [7, 2, 0, 3, 4, 2, 5, 0, 3, 4]})\n",
        "\n",
        "# Solution\n",
        "x = (df['X'] != 0).cumsum()\n",
        "y = x != x.shift()\n",
        "df['Y'] = y.groupby((y != y.shift()).cumsum()).cumsum().astype('int')\n",
        "df"
      ],
      "execution_count": null,
      "outputs": [
        {
          "output_type": "execute_result",
          "data": {
            "text/html": [
              "<div>\n",
              "<style scoped>\n",
              "    .dataframe tbody tr th:only-of-type {\n",
              "        vertical-align: middle;\n",
              "    }\n",
              "\n",
              "    .dataframe tbody tr th {\n",
              "        vertical-align: top;\n",
              "    }\n",
              "\n",
              "    .dataframe thead th {\n",
              "        text-align: right;\n",
              "    }\n",
              "</style>\n",
              "<table border=\"1\" class=\"dataframe\">\n",
              "  <thead>\n",
              "    <tr style=\"text-align: right;\">\n",
              "      <th></th>\n",
              "      <th>X</th>\n",
              "      <th>Y</th>\n",
              "    </tr>\n",
              "  </thead>\n",
              "  <tbody>\n",
              "    <tr>\n",
              "      <th>0</th>\n",
              "      <td>7</td>\n",
              "      <td>1</td>\n",
              "    </tr>\n",
              "    <tr>\n",
              "      <th>1</th>\n",
              "      <td>2</td>\n",
              "      <td>2</td>\n",
              "    </tr>\n",
              "    <tr>\n",
              "      <th>2</th>\n",
              "      <td>0</td>\n",
              "      <td>0</td>\n",
              "    </tr>\n",
              "    <tr>\n",
              "      <th>3</th>\n",
              "      <td>3</td>\n",
              "      <td>1</td>\n",
              "    </tr>\n",
              "    <tr>\n",
              "      <th>4</th>\n",
              "      <td>4</td>\n",
              "      <td>2</td>\n",
              "    </tr>\n",
              "    <tr>\n",
              "      <th>5</th>\n",
              "      <td>2</td>\n",
              "      <td>3</td>\n",
              "    </tr>\n",
              "    <tr>\n",
              "      <th>6</th>\n",
              "      <td>5</td>\n",
              "      <td>4</td>\n",
              "    </tr>\n",
              "    <tr>\n",
              "      <th>7</th>\n",
              "      <td>0</td>\n",
              "      <td>0</td>\n",
              "    </tr>\n",
              "    <tr>\n",
              "      <th>8</th>\n",
              "      <td>3</td>\n",
              "      <td>1</td>\n",
              "    </tr>\n",
              "    <tr>\n",
              "      <th>9</th>\n",
              "      <td>4</td>\n",
              "      <td>2</td>\n",
              "    </tr>\n",
              "  </tbody>\n",
              "</table>\n",
              "</div>"
            ],
            "text/plain": [
              "   X  Y\n",
              "0  7  1\n",
              "1  2  2\n",
              "2  0  0\n",
              "3  3  1\n",
              "4  4  2\n",
              "5  2  3\n",
              "6  5  4\n",
              "7  0  0\n",
              "8  3  1\n",
              "9  4  2"
            ]
          },
          "metadata": {
            "tags": []
          },
          "execution_count": 7
        }
      ]
    },
    {
      "cell_type": "markdown",
      "metadata": {
        "id": "Ojt12WVP0Frk",
        "colab_type": "text"
      },
      "source": [
        "###Solution D:"
      ]
    },
    {
      "cell_type": "code",
      "metadata": {
        "id": "KZ59W6U40Frk",
        "colab_type": "code",
        "colab": {
          "base_uri": "https://localhost:8080/",
          "height": 359
        },
        "outputId": "f4982654-bde8-4fd1-a4ce-f47b85e22199"
      },
      "source": [
        "import numpy as np\n",
        "import pandas as pd\n",
        "\n",
        "# Input\n",
        "df = pd.DataFrame({'X': [7, 2, 0, 3, 4, 2, 5, 0, 3, 4]})\n",
        "\n",
        "# Solution\n",
        "df['Y'] = df.groupby((df['X'] == 0).cumsum()).cumcount()\n",
        "# We're off by one before we reach the first zero.\n",
        "first_zero_idx = (df['X'] == 0).idxmax()\n",
        "df['Y'].iloc[0:first_zero_idx] += 1\n",
        "df"
      ],
      "execution_count": null,
      "outputs": [
        {
          "output_type": "execute_result",
          "data": {
            "text/html": [
              "<div>\n",
              "<style scoped>\n",
              "    .dataframe tbody tr th:only-of-type {\n",
              "        vertical-align: middle;\n",
              "    }\n",
              "\n",
              "    .dataframe tbody tr th {\n",
              "        vertical-align: top;\n",
              "    }\n",
              "\n",
              "    .dataframe thead th {\n",
              "        text-align: right;\n",
              "    }\n",
              "</style>\n",
              "<table border=\"1\" class=\"dataframe\">\n",
              "  <thead>\n",
              "    <tr style=\"text-align: right;\">\n",
              "      <th></th>\n",
              "      <th>X</th>\n",
              "      <th>Y</th>\n",
              "    </tr>\n",
              "  </thead>\n",
              "  <tbody>\n",
              "    <tr>\n",
              "      <th>0</th>\n",
              "      <td>7</td>\n",
              "      <td>1</td>\n",
              "    </tr>\n",
              "    <tr>\n",
              "      <th>1</th>\n",
              "      <td>2</td>\n",
              "      <td>2</td>\n",
              "    </tr>\n",
              "    <tr>\n",
              "      <th>2</th>\n",
              "      <td>0</td>\n",
              "      <td>0</td>\n",
              "    </tr>\n",
              "    <tr>\n",
              "      <th>3</th>\n",
              "      <td>3</td>\n",
              "      <td>1</td>\n",
              "    </tr>\n",
              "    <tr>\n",
              "      <th>4</th>\n",
              "      <td>4</td>\n",
              "      <td>2</td>\n",
              "    </tr>\n",
              "    <tr>\n",
              "      <th>5</th>\n",
              "      <td>2</td>\n",
              "      <td>3</td>\n",
              "    </tr>\n",
              "    <tr>\n",
              "      <th>6</th>\n",
              "      <td>5</td>\n",
              "      <td>4</td>\n",
              "    </tr>\n",
              "    <tr>\n",
              "      <th>7</th>\n",
              "      <td>0</td>\n",
              "      <td>0</td>\n",
              "    </tr>\n",
              "    <tr>\n",
              "      <th>8</th>\n",
              "      <td>3</td>\n",
              "      <td>1</td>\n",
              "    </tr>\n",
              "    <tr>\n",
              "      <th>9</th>\n",
              "      <td>4</td>\n",
              "      <td>2</td>\n",
              "    </tr>\n",
              "  </tbody>\n",
              "</table>\n",
              "</div>"
            ],
            "text/plain": [
              "   X  Y\n",
              "0  7  1\n",
              "1  2  2\n",
              "2  0  0\n",
              "3  3  1\n",
              "4  4  2\n",
              "5  2  3\n",
              "6  5  4\n",
              "7  0  0\n",
              "8  3  1\n",
              "9  4  2"
            ]
          },
          "metadata": {
            "tags": []
          },
          "execution_count": 9
        }
      ]
    },
    {
      "cell_type": "markdown",
      "metadata": {
        "id": "zL7-OSb30Frk",
        "colab_type": "text"
      },
      "source": [
        "##Problem 2."
      ]
    },
    {
      "cell_type": "markdown",
      "metadata": {
        "id": "CPLups1rcuWf",
        "colab_type": "text"
      },
      "source": [
        "**Problem:**\n",
        "Consider a DataFrame containing rows and columns of purely numerical data. \n",
        "Create a list of the row-column index locations of the 3 largest values.\n",
        "\n",
        "**Possible Input:**\n",
        "```python\n",
        "df = pd.DataFrame({\n",
        "       'a' : [  2,  -4,  -7, -10,   9],\n",
        "       'b' : [  7,  -9,  -7,  -7,  -4],\n",
        "       'c' : [ -8,  10,  -8,   5,  -3],\n",
        "       'd' : [  3,  -8,   5,  -4, -10],\n",
        "       'e' : [  9,   3,  -5,  -9,   6],\n",
        "       'f' : [ -1,  -7, -10,  -8,  10],\n",
        "       'g' : [  1,   8,   3,   9,   5],\n",
        "       'h' : [  3,   5,   0,   1,  -3],\n",
        "       'i' : [  3,   4,  -5,  -9,  -7],\n",
        "       'j' : [  0,   4,  -6,   3,   9]})\n",
        "```\n",
        "\n",
        "**Expected Output:**\n",
        "```\n",
        "[('j', 4), ('f', 4), ('c', 1)]\n",
        "```\n",
        "\n"
      ]
    },
    {
      "cell_type": "code",
      "metadata": {
        "id": "L3K7BcQT0Frk",
        "colab_type": "code",
        "colab": {}
      },
      "source": [
        "import numpy as np\n",
        "import pandas as pd\n",
        "\n",
        "# Input\n",
        "df = pd.DataFrame({\n",
        "       'a' : [  2,  -4,  -7, -10,   9],\n",
        "       'b' : [  7,  -9,  -7,  -7,  -4],\n",
        "       'c' : [ -8,  10,  -8,   5,  -3],\n",
        "       'd' : [  3,  -8,   5,  -4, -10],\n",
        "       'e' : [  9,   3,  -5,  -9,   6],\n",
        "       'f' : [ -1,  -7, -10,  -8,  10],\n",
        "       'g' : [  1,   8,   3,   9,   5],\n",
        "       'h' : [  3,   5,   0,   1,  -3],\n",
        "       'i' : [  3,   4,  -5,  -9,  -7],\n",
        "       'j' : [  0,   4,  -6,   3,   9]})\n",
        "\n",
        "# Enter your code here"
      ],
      "execution_count": null,
      "outputs": []
    },
    {
      "cell_type": "markdown",
      "metadata": {
        "id": "BldeQhAH0Frl",
        "colab_type": "text"
      },
      "source": [
        "###Solution"
      ]
    },
    {
      "cell_type": "code",
      "metadata": {
        "id": "7br1lcKO0Frl",
        "colab_type": "code",
        "colab": {
          "base_uri": "https://localhost:8080/",
          "height": 34
        },
        "outputId": "c5ea40dd-172f-4241-9efb-77994eccef3e"
      },
      "source": [
        "import numpy as np\n",
        "import pandas as pd\n",
        "\n",
        "# Input\n",
        "df = pd.DataFrame({\n",
        "       'a' : [  2,  -4,  -7, -10,   9],\n",
        "       'b' : [  7,  -9,  -7,  -7,  -4],\n",
        "       'c' : [ -8,  10,  -8,   5,  -3],\n",
        "       'd' : [  3,  -8,   5,  -4, -10],\n",
        "       'e' : [  9,   3,  -5,  -9,   6],\n",
        "       'f' : [ -1,  -7, -10,  -8,  10],\n",
        "       'g' : [  1,   8,   3,   9,   5],\n",
        "       'h' : [  3,   5,   0,   1,  -3],\n",
        "       'i' : [  3,   4,  -5,  -9,  -7],\n",
        "       'j' : [  0,   4,  -6,   3,   9]})\n",
        "\n",
        "# Solution\n",
        "df.unstack().sort_values()[-3:].index.tolist()"
      ],
      "execution_count": null,
      "outputs": [
        {
          "output_type": "execute_result",
          "data": {
            "text/plain": [
              "[('j', 4), ('f', 4), ('c', 1)]"
            ]
          },
          "metadata": {
            "tags": []
          },
          "execution_count": 10
        }
      ]
    },
    {
      "cell_type": "markdown",
      "metadata": {
        "id": "oLUmo5pv0Frm",
        "colab_type": "text"
      },
      "source": [
        "##Problem 3."
      ]
    },
    {
      "cell_type": "markdown",
      "metadata": {
        "id": "oyygCgTArnOr",
        "colab_type": "text"
      },
      "source": [
        "**Problem:**\n",
        "Given a DataFrame with a column \"groups\" and a column  \"values\", replace any negative entry in \"values\" column with the group mean over positive values.\n",
        "\n",
        "**Possible Input:**\n",
        "```python\n",
        "df = pd.DataFrame({'groups': list('aaabbcaabcccbbc'), \n",
        "                   'values': [12, -35, -3, 1, -45, 14, 4, 52, 54, -23, 235, 21, 57, -3, 87]})\n",
        "```\n",
        "\n",
        "**Expected Output:**\n",
        "```\n",
        "\tgroups\tvalues\n",
        "0\ta\t12.000000\n",
        "1\ta\t22.666667\n",
        "2\ta\t22.666667\n",
        "3\tb\t1.000000\n",
        "4\tb\t37.333333\n",
        "5\tc\t14.000000\n",
        "6\ta\t4.000000\n",
        "7\ta\t52.000000\n",
        "8\tb\t54.000000\n",
        "9\tc\t89.250000\n",
        "10\tc\t235.000000\n",
        "11\tc\t21.000000\n",
        "12\tb\t57.000000\n",
        "13\tb\t37.333333\n",
        "14\tc\t87.000000\n",
        "```\n",
        "\n"
      ]
    },
    {
      "cell_type": "code",
      "metadata": {
        "id": "aPJTU5xI0Frm",
        "colab_type": "code",
        "colab": {}
      },
      "source": [
        "import numpy as np\n",
        "import pandas as pd\n",
        "\n",
        "# Input\n",
        "df = pd.DataFrame({'groups': list('aaabbcaabcccbbc'), \n",
        "                   'values': [12, -35, -3, 1, -45, 14, 4, 52, 54, -23, 235, 21, 57, -3, 87]})\n",
        "\n",
        "# Enter your code here"
      ],
      "execution_count": null,
      "outputs": []
    },
    {
      "cell_type": "markdown",
      "metadata": {
        "id": "RTaR6DY10Frm",
        "colab_type": "text"
      },
      "source": [
        "###Solution"
      ]
    },
    {
      "cell_type": "code",
      "metadata": {
        "id": "heqE7S2S0Frn",
        "colab_type": "code",
        "colab": {
          "base_uri": "https://localhost:8080/",
          "height": 514
        },
        "outputId": "255fad48-3596-42f3-9812-ab1262851afb"
      },
      "source": [
        "import numpy as np\n",
        "import pandas as pd\n",
        "\n",
        "# Input\n",
        "df = pd.DataFrame({'groups': list('aaabbcaabcccbbc'), \n",
        "                   'values': [12, -35, -3, 1, -45, 14, 4, 52, 54, -23, 235, 21, 57, -3, 87]})\n",
        "\n",
        "# Solution\n",
        "def replace(grp):\n",
        "    grp[grp < 0] = grp[grp >= 0].mean()\n",
        "    return grp\n",
        "\n",
        "df['values'] = df.groupby(['groups'])['values'].transform(replace)\n",
        "df"
      ],
      "execution_count": null,
      "outputs": [
        {
          "output_type": "execute_result",
          "data": {
            "text/html": [
              "<div>\n",
              "<style scoped>\n",
              "    .dataframe tbody tr th:only-of-type {\n",
              "        vertical-align: middle;\n",
              "    }\n",
              "\n",
              "    .dataframe tbody tr th {\n",
              "        vertical-align: top;\n",
              "    }\n",
              "\n",
              "    .dataframe thead th {\n",
              "        text-align: right;\n",
              "    }\n",
              "</style>\n",
              "<table border=\"1\" class=\"dataframe\">\n",
              "  <thead>\n",
              "    <tr style=\"text-align: right;\">\n",
              "      <th></th>\n",
              "      <th>groups</th>\n",
              "      <th>values</th>\n",
              "    </tr>\n",
              "  </thead>\n",
              "  <tbody>\n",
              "    <tr>\n",
              "      <th>0</th>\n",
              "      <td>a</td>\n",
              "      <td>12.000000</td>\n",
              "    </tr>\n",
              "    <tr>\n",
              "      <th>1</th>\n",
              "      <td>a</td>\n",
              "      <td>22.666667</td>\n",
              "    </tr>\n",
              "    <tr>\n",
              "      <th>2</th>\n",
              "      <td>a</td>\n",
              "      <td>22.666667</td>\n",
              "    </tr>\n",
              "    <tr>\n",
              "      <th>3</th>\n",
              "      <td>b</td>\n",
              "      <td>1.000000</td>\n",
              "    </tr>\n",
              "    <tr>\n",
              "      <th>4</th>\n",
              "      <td>b</td>\n",
              "      <td>37.333333</td>\n",
              "    </tr>\n",
              "    <tr>\n",
              "      <th>5</th>\n",
              "      <td>c</td>\n",
              "      <td>14.000000</td>\n",
              "    </tr>\n",
              "    <tr>\n",
              "      <th>6</th>\n",
              "      <td>a</td>\n",
              "      <td>4.000000</td>\n",
              "    </tr>\n",
              "    <tr>\n",
              "      <th>7</th>\n",
              "      <td>a</td>\n",
              "      <td>52.000000</td>\n",
              "    </tr>\n",
              "    <tr>\n",
              "      <th>8</th>\n",
              "      <td>b</td>\n",
              "      <td>54.000000</td>\n",
              "    </tr>\n",
              "    <tr>\n",
              "      <th>9</th>\n",
              "      <td>c</td>\n",
              "      <td>89.250000</td>\n",
              "    </tr>\n",
              "    <tr>\n",
              "      <th>10</th>\n",
              "      <td>c</td>\n",
              "      <td>235.000000</td>\n",
              "    </tr>\n",
              "    <tr>\n",
              "      <th>11</th>\n",
              "      <td>c</td>\n",
              "      <td>21.000000</td>\n",
              "    </tr>\n",
              "    <tr>\n",
              "      <th>12</th>\n",
              "      <td>b</td>\n",
              "      <td>57.000000</td>\n",
              "    </tr>\n",
              "    <tr>\n",
              "      <th>13</th>\n",
              "      <td>b</td>\n",
              "      <td>37.333333</td>\n",
              "    </tr>\n",
              "    <tr>\n",
              "      <th>14</th>\n",
              "      <td>c</td>\n",
              "      <td>87.000000</td>\n",
              "    </tr>\n",
              "  </tbody>\n",
              "</table>\n",
              "</div>"
            ],
            "text/plain": [
              "   groups      values\n",
              "0       a   12.000000\n",
              "1       a   22.666667\n",
              "2       a   22.666667\n",
              "3       b    1.000000\n",
              "4       b   37.333333\n",
              "5       c   14.000000\n",
              "6       a    4.000000\n",
              "7       a   52.000000\n",
              "8       b   54.000000\n",
              "9       c   89.250000\n",
              "10      c  235.000000\n",
              "11      c   21.000000\n",
              "12      b   57.000000\n",
              "13      b   37.333333\n",
              "14      c   87.000000"
            ]
          },
          "metadata": {
            "tags": []
          },
          "execution_count": 20
        }
      ]
    },
    {
      "cell_type": "markdown",
      "metadata": {
        "id": "NBIAC3rn0Frn",
        "colab_type": "text"
      },
      "source": [
        "##Problem 4."
      ]
    },
    {
      "cell_type": "markdown",
      "metadata": {
        "id": "R2C_S19hyD3q",
        "colab_type": "text"
      },
      "source": [
        "**Problem:**\n",
        "Implement a rolling mean over groups with window size 3, which ignores NaN value.\n",
        "\n",
        "**Possible Input:**\n",
        "```python\n",
        "df = pd.DataFrame({'group': list('aabbabbbabab'),\n",
        "                   'value': [1, 2, 3, np.nan, 2, 3, np.nan, 1, 7, 3, np.nan, 8]})\n",
        "```\n",
        "\n",
        "**Expected Output:**\n",
        "```\n",
        "0     1.000000\n",
        "1     1.500000\n",
        "2     3.000000\n",
        "3     3.000000\n",
        "4     1.666667\n",
        "5     3.000000\n",
        "6     3.000000\n",
        "7     2.000000\n",
        "8     3.666667\n",
        "9     2.000000\n",
        "10    4.500000\n",
        "11    4.000000\n",
        "Name: value, dtype: float64\n",
        "```\n",
        "\n",
        "**Note:**\n",
        "For better understanding consider the action of the rolling mean function on one group, say \"b\".\n",
        "The following table demonstrates expected result.\n",
        "```\n",
        "   group\tvalue\trol_mean\n",
        "2\tb\t3.0\t3.0\n",
        "3\tb\tNaN\t3.0\n",
        "5\tb\t3.0\t3.0\n",
        "6\tb\tNaN\t3.0\n",
        "7\tb\t1.0\t2.0\n",
        "9\tb\t3.0\t2.0\n",
        "11\tb\t8.0\t4.0\n",
        "```\n",
        "\n"
      ]
    },
    {
      "cell_type": "code",
      "metadata": {
        "id": "2PE8_VvZ0Frn",
        "colab_type": "code",
        "colab": {}
      },
      "source": [
        "import numpy as np\n",
        "import pandas as pd\n",
        "\n",
        "# Input\n",
        "df = pd.DataFrame({'group': list('aabbabbbabab'),\n",
        "                   'value': [1, 2, 3, np.nan, 2, 3, np.nan, 1, 7, 3, np.nan, 8]})\n",
        "\n",
        "# Enter your code here"
      ],
      "execution_count": null,
      "outputs": []
    },
    {
      "cell_type": "markdown",
      "metadata": {
        "id": "dr68tVL50Fro",
        "colab_type": "text"
      },
      "source": [
        "###Solution"
      ]
    },
    {
      "cell_type": "code",
      "metadata": {
        "id": "eJM9xGfX0Fro",
        "colab_type": "code",
        "colab": {
          "base_uri": "https://localhost:8080/",
          "height": 238
        },
        "outputId": "fca5f491-84af-4089-a488-3bfceccb7134"
      },
      "source": [
        "import numpy as np\n",
        "import pandas as pd\n",
        "\n",
        "# Input\n",
        "df = pd.DataFrame({'group': list('aabbabbbabab'),\n",
        "                   'value': [1, 2, 3, np.nan, 2, 3, np.nan, 1, 7, 3, np.nan, 8]})\n",
        "\n",
        "# Solution\n",
        "g1 = df.groupby(['group'])['value']\n",
        "g2 = df.fillna(0).groupby(['group'])['value']\n",
        "s = g2.rolling(3, min_periods=1).sum() / g1.rolling(3, min_periods=1).count()\n",
        "s.reset_index(level=0, drop=True).sort_index()"
      ],
      "execution_count": null,
      "outputs": [
        {
          "output_type": "execute_result",
          "data": {
            "text/plain": [
              "0     1.000000\n",
              "1     1.500000\n",
              "2     3.000000\n",
              "3     3.000000\n",
              "4     1.666667\n",
              "5     3.000000\n",
              "6     3.000000\n",
              "7     2.000000\n",
              "8     3.666667\n",
              "9     2.000000\n",
              "10    4.500000\n",
              "11    4.000000\n",
              "Name: value, dtype: float64"
            ]
          },
          "metadata": {
            "tags": []
          },
          "execution_count": 31
        }
      ]
    },
    {
      "cell_type": "markdown",
      "metadata": {
        "id": "GCyBw02a0Frr",
        "colab_type": "text"
      },
      "source": [
        "# Series and DatetimeIndex\n",
        "\n",
        "Exercises for creating and manipulating Series with datetime data\n",
        "\n",
        "Difficulty: **easy/medium**"
      ]
    },
    {
      "cell_type": "markdown",
      "metadata": {
        "id": "CSrPU7zP-lpo",
        "colab_type": "text"
      },
      "source": [
        "##Problem 1."
      ]
    },
    {
      "cell_type": "markdown",
      "metadata": {
        "id": "VHCu3XFy-h0v",
        "colab_type": "text"
      },
      "source": [
        "**Problem:**\n",
        "Create a DatetimeIndex that contains each business day between '2019-06-01' and '2019-07-01'.\n",
        "Use it to index a Series of of consequtive numbers starting at 1 (i.e. enumerate each business day).\n",
        "\n",
        "**Expected Output:**\n",
        "```\n",
        "2019-06-03     1\n",
        "2019-06-04     2\n",
        "2019-06-05     3\n",
        "2019-06-06     4\n",
        "2019-06-07     5\n",
        "2019-06-10     6\n",
        "2019-06-11     7\n",
        "2019-06-12     8\n",
        "2019-06-13     9\n",
        "2019-06-14    10\n",
        "2019-06-17    11\n",
        "2019-06-18    12\n",
        "2019-06-19    13\n",
        "2019-06-20    14\n",
        "2019-06-21    15\n",
        "2019-06-24    16\n",
        "2019-06-25    17\n",
        "2019-06-26    18\n",
        "2019-06-27    19\n",
        "2019-06-28    20\n",
        "2019-07-01    21\n",
        "Freq: B, dtype: int64\n",
        "```"
      ]
    },
    {
      "cell_type": "code",
      "metadata": {
        "id": "laFf1Pc60Frs",
        "colab_type": "code",
        "colab": {}
      },
      "source": [
        "import numpy as np\n",
        "import pandas as pd\n",
        "\n",
        "# Enter your code here"
      ],
      "execution_count": null,
      "outputs": []
    },
    {
      "cell_type": "markdown",
      "metadata": {
        "id": "FDY2MVO70Frs",
        "colab_type": "text"
      },
      "source": [
        "###Solution"
      ]
    },
    {
      "cell_type": "code",
      "metadata": {
        "id": "zn8WxJDG0Frs",
        "colab_type": "code",
        "colab": {
          "base_uri": "https://localhost:8080/",
          "height": 391
        },
        "outputId": "c3a201d3-6c58-44ce-c876-869c66ba45dc"
      },
      "source": [
        "import numpy as np\n",
        "import pandas as pd\n",
        "\n",
        "# Solution\n",
        "dti = pd.date_range(start='2019-06-01', end='2019-07-01', freq='B') \n",
        "pd.Series(1 + np.arange(len(dti)), index=dti)"
      ],
      "execution_count": null,
      "outputs": [
        {
          "output_type": "execute_result",
          "data": {
            "text/plain": [
              "2019-06-03     1\n",
              "2019-06-04     2\n",
              "2019-06-05     3\n",
              "2019-06-06     4\n",
              "2019-06-07     5\n",
              "2019-06-10     6\n",
              "2019-06-11     7\n",
              "2019-06-12     8\n",
              "2019-06-13     9\n",
              "2019-06-14    10\n",
              "2019-06-17    11\n",
              "2019-06-18    12\n",
              "2019-06-19    13\n",
              "2019-06-20    14\n",
              "2019-06-21    15\n",
              "2019-06-24    16\n",
              "2019-06-25    17\n",
              "2019-06-26    18\n",
              "2019-06-27    19\n",
              "2019-06-28    20\n",
              "2019-07-01    21\n",
              "Freq: B, dtype: int64"
            ]
          },
          "metadata": {
            "tags": []
          },
          "execution_count": 38
        }
      ]
    },
    {
      "cell_type": "markdown",
      "metadata": {
        "id": "AY5AKfbY0Fru",
        "colab_type": "text"
      },
      "source": [
        "##Problem 2."
      ]
    },
    {
      "cell_type": "markdown",
      "metadata": {
        "id": "rZgHEJIArtHz",
        "colab_type": "text"
      },
      "source": [
        "**Problem:**\n",
        " Find the sum of the values in the given Series for every Wednesday.\n",
        " \n",
        " **Possible Input:**\n",
        " ```python\n",
        "dti = pd.date_range(start='2019-06-01', end='2019-07-01', freq='B') \n",
        "s   = pd.Series([0, 4, 8, 9, 9, 5, 1, -3, -7, -9, -9, -7, -2, 2, 6, 9, 9, 7, 4, 0, -5], index=dti)\n",
        "\n",
        "```\n",
        "\n",
        "**Expected Output:**\n",
        "```\n",
        "10\n",
        "```\n",
        "\n"
      ]
    },
    {
      "cell_type": "code",
      "metadata": {
        "id": "cDxSfzaH0Fru",
        "colab_type": "code",
        "colab": {}
      },
      "source": [
        "import numpy as np\n",
        "import pandas as pd\n",
        "\n",
        "# Input\n",
        "dti = pd.date_range(start='2019-06-01', end='2019-07-01', freq='B') \n",
        "s   = pd.Series([0, 4, 8, 9, 9, 5, 1, -3, -7, -9, -9, -7, -2, 2, 6, 9, 9, 7, 4, 0, -5], index=dti)\n",
        "\n",
        "# Enter your code here"
      ],
      "execution_count": null,
      "outputs": []
    },
    {
      "cell_type": "markdown",
      "metadata": {
        "id": "Am-XRKVc0Frv",
        "colab_type": "text"
      },
      "source": [
        "###Solution"
      ]
    },
    {
      "cell_type": "code",
      "metadata": {
        "id": "ftj_VRld0Frv",
        "colab_type": "code",
        "colab": {
          "base_uri": "https://localhost:8080/",
          "height": 34
        },
        "outputId": "aea90e08-6b6f-4793-b91d-69a8309a1569"
      },
      "source": [
        "import numpy as np\n",
        "import pandas as pd\n",
        "\n",
        "# Input\n",
        "dti = pd.date_range(start='2019-06-01', end='2019-07-01', freq='B') \n",
        "s = pd.Series([0, 4, 8, 9, 9, 5, 1, -3, -7, -9, -9, -7, -2, 2, 6, 9, 9, 7, 4, 0, -5], index=dti)\n",
        "\n",
        "# Solution\n",
        "s[s.index.weekday == 2].sum()"
      ],
      "execution_count": null,
      "outputs": [
        {
          "output_type": "execute_result",
          "data": {
            "text/plain": [
              "10"
            ]
          },
          "metadata": {
            "tags": []
          },
          "execution_count": 18
        }
      ]
    },
    {
      "cell_type": "markdown",
      "metadata": {
        "id": "Di4pY2X80Frw",
        "colab_type": "text"
      },
      "source": [
        "##Problem 3."
      ]
    },
    {
      "cell_type": "markdown",
      "metadata": {
        "id": "SZg8v1j3Cyut",
        "colab_type": "text"
      },
      "source": [
        "**Problem:**\n",
        "For each calendar month in series given find the mean of values.\n",
        "\n",
        "**Possible Input:**\n",
        "```python\n",
        "dti = pd.date_range(start='2019-06-01', end='2020-06-30', freq='B') \n",
        "s = pd.Series([int(10.0 * np.sin(idx * 0.1)) for idx in range(len(dti))], index=dti)\n",
        "```\n",
        "\n",
        "**Expected Output:**\n",
        "```\n",
        "2019-06-30    6.150000\n",
        "2019-07-31    0.347826\n",
        "2019-08-31   -5.954545\n",
        "2019-09-30    7.142857\n",
        "2019-10-31   -1.913043\n",
        "2019-11-30   -4.666667\n",
        "2019-12-31    7.500000\n",
        "2020-01-31   -4.000000\n",
        "2020-02-29   -3.100000\n",
        "2020-03-31    7.454545\n",
        "2020-04-30   -5.181818\n",
        "2020-05-31   -1.904762\n",
        "2020-06-30    7.000000\n",
        "Freq: M, dtype: float64\n",
        "```\n",
        "\n"
      ]
    },
    {
      "cell_type": "code",
      "metadata": {
        "id": "VIqVsUzo0Frw",
        "colab_type": "code",
        "colab": {}
      },
      "source": [
        "import numpy as np\n",
        "import pandas as pd\n",
        "\n",
        "# Input\n",
        "dti = pd.date_range(start='2019-06-01', end='2020-06-30', freq='B') \n",
        "s = pd.Series([int(10.0 * np.sin(idx * 0.1)) for idx in range(len(dti))], index=dti)\n",
        "\n",
        "# Enter your code here"
      ],
      "execution_count": null,
      "outputs": []
    },
    {
      "cell_type": "markdown",
      "metadata": {
        "id": "KDvC6z-S0Frx",
        "colab_type": "text"
      },
      "source": [
        "###Solution"
      ]
    },
    {
      "cell_type": "code",
      "metadata": {
        "id": "gFULJjLd0Frx",
        "colab_type": "code",
        "colab": {
          "base_uri": "https://localhost:8080/",
          "height": 255
        },
        "outputId": "64e70aa3-fa47-40e6-9b65-d021ba4fa1f5"
      },
      "source": [
        "import numpy as np\n",
        "import pandas as pd\n",
        "\n",
        "# Input\n",
        "dti = pd.date_range(start='2019-06-01', end='2020-06-30', freq='B') \n",
        "s = pd.Series([int(10.0 * np.sin(idx * 0.1)) for idx in range(len(dti))], index=dti)\n",
        "\n",
        "# Solution\n",
        "s.resample('M').mean()"
      ],
      "execution_count": null,
      "outputs": [
        {
          "output_type": "execute_result",
          "data": {
            "text/plain": [
              "2019-06-30    6.150000\n",
              "2019-07-31    0.347826\n",
              "2019-08-31   -5.954545\n",
              "2019-09-30    7.142857\n",
              "2019-10-31   -1.913043\n",
              "2019-11-30   -4.666667\n",
              "2019-12-31    7.500000\n",
              "2020-01-31   -4.000000\n",
              "2020-02-29   -3.100000\n",
              "2020-03-31    7.454545\n",
              "2020-04-30   -5.181818\n",
              "2020-05-31   -1.904762\n",
              "2020-06-30    7.000000\n",
              "Freq: M, dtype: float64"
            ]
          },
          "metadata": {
            "tags": []
          },
          "execution_count": 21
        }
      ]
    },
    {
      "cell_type": "markdown",
      "metadata": {
        "id": "IOh6N3IU0Fry",
        "colab_type": "text"
      },
      "source": [
        "##Problem 4."
      ]
    },
    {
      "cell_type": "markdown",
      "metadata": {
        "id": "iKrLH5ybILSC",
        "colab_type": "text"
      },
      "source": [
        "**Problem:**\n",
        "For each group of four consecutive calendar months in  the series given, find the date on which the highest value occurred.\n",
        "\n",
        "**Possible Input:**\n",
        "```python\n",
        "dti = pd.date_range(start='2019-06-01', end='2020-06-30', freq='B') \n",
        "s = pd.Series([10.0 * np.sin(idx * 0.1) for idx in range(len(dti))], index=dti)\n",
        "```\n",
        "\n",
        "**Expected Output:**\n",
        "```\n",
        "2019-06-25    9.995736\n",
        "2019-09-20    9.989413\n",
        "2019-12-17    9.993094\n",
        "2020-06-10    9.999937\n",
        "dtype: float64\n",
        "```\n",
        "\n"
      ]
    },
    {
      "cell_type": "code",
      "metadata": {
        "id": "w5IAhQpX0Fry",
        "colab_type": "code",
        "colab": {}
      },
      "source": [
        "import numpy as np\n",
        "import pandas as pd\n",
        "\n",
        "# Input\n",
        "dti = pd.date_range(start='2019-06-01', end='2020-06-30', freq='B') \n",
        "s = pd.Series([10.0 * np.sin(idx * 0.1) for idx in range(len(dti))], index=dti)\n",
        "\n",
        "# Enter your code here"
      ],
      "execution_count": null,
      "outputs": []
    },
    {
      "cell_type": "markdown",
      "metadata": {
        "id": "eELmyLz-0Fry",
        "colab_type": "text"
      },
      "source": [
        "###Solution"
      ]
    },
    {
      "cell_type": "code",
      "metadata": {
        "id": "Vj9BblHZ0Frz",
        "colab_type": "code",
        "colab": {
          "base_uri": "https://localhost:8080/",
          "height": 102
        },
        "outputId": "ae0ba2a3-5799-4bb1-d539-6be81d9bdaf6"
      },
      "source": [
        "import numpy as np\n",
        "import pandas as pd\n",
        "\n",
        "# Input\n",
        "dti = pd.date_range(start='2019-06-01', end='2020-06-30', freq='B') \n",
        "s = pd.Series([10.0 * np.sin(idx * 0.1) for idx in range(len(dti))], index=dti)\n",
        "\n",
        "# Solution\n",
        "s[s.groupby(pd.Grouper(freq='4M')).idxmax()]"
      ],
      "execution_count": null,
      "outputs": [
        {
          "output_type": "execute_result",
          "data": {
            "text/plain": [
              "2019-06-25    9.995736\n",
              "2019-09-20    9.989413\n",
              "2019-12-17    9.993094\n",
              "2020-06-10    9.999937\n",
              "dtype: float64"
            ]
          },
          "metadata": {
            "tags": []
          },
          "execution_count": 40
        }
      ]
    },
    {
      "cell_type": "markdown",
      "metadata": {
        "id": "WdcD84KS0Frz",
        "colab_type": "text"
      },
      "source": [
        "##Problem 5."
      ]
    },
    {
      "cell_type": "markdown",
      "metadata": {
        "id": "7pzApH_iI1-R",
        "colab_type": "text"
      },
      "source": [
        "**Problem:**\n",
        "Create a DateTimeIndex consisting of the third Thursday in each month for the years 2018 and 2019.\n",
        "\n",
        "**Expected Output:**\n",
        "```\n",
        "DatetimeIndex(['2018-01-18', '2018-02-15', '2018-03-15', '2018-04-19',\n",
        "               '2018-05-17', '2018-06-21', '2018-07-19', '2018-08-16',\n",
        "               '2018-09-20', '2018-10-18', '2018-11-15', '2018-12-20',\n",
        "               '2019-01-17', '2019-02-21', '2019-03-21', '2019-04-18',\n",
        "               '2019-05-16', '2019-06-20', '2019-07-18', '2019-08-15',\n",
        "               '2019-09-19', '2019-10-17', '2019-11-21', '2019-12-19'],\n",
        "              dtype='datetime64[ns]', freq='WOM-3THU')\n",
        "```\n",
        "\n"
      ]
    },
    {
      "cell_type": "code",
      "metadata": {
        "id": "ukuqI7K90Frz",
        "colab_type": "code",
        "colab": {}
      },
      "source": [
        "import numpy as np\n",
        "import pandas as pd\n",
        "\n",
        "# Enter your code here"
      ],
      "execution_count": null,
      "outputs": []
    },
    {
      "cell_type": "markdown",
      "metadata": {
        "id": "McZd5u6J0Fr0",
        "colab_type": "text"
      },
      "source": [
        "###Solution"
      ]
    },
    {
      "cell_type": "code",
      "metadata": {
        "id": "urg_tD-h0Fr0",
        "colab_type": "code",
        "colab": {
          "base_uri": "https://localhost:8080/",
          "height": 136
        },
        "outputId": "73d35a4b-ce23-4961-b644-ad633a7a3d41"
      },
      "source": [
        "import numpy as np\n",
        "import pandas as pd\n",
        "\n",
        "# Solution\n",
        "pd.date_range('2018-01-01', '2019-12-31', freq='WOM-3THU')"
      ],
      "execution_count": null,
      "outputs": [
        {
          "output_type": "execute_result",
          "data": {
            "text/plain": [
              "DatetimeIndex(['2018-01-18', '2018-02-15', '2018-03-15', '2018-04-19',\n",
              "               '2018-05-17', '2018-06-21', '2018-07-19', '2018-08-16',\n",
              "               '2018-09-20', '2018-10-18', '2018-11-15', '2018-12-20',\n",
              "               '2019-01-17', '2019-02-21', '2019-03-21', '2019-04-18',\n",
              "               '2019-05-16', '2019-06-20', '2019-07-18', '2019-08-15',\n",
              "               '2019-09-19', '2019-10-17', '2019-11-21', '2019-12-19'],\n",
              "              dtype='datetime64[ns]', freq='WOM-3THU')"
            ]
          },
          "metadata": {
            "tags": []
          },
          "execution_count": 41
        }
      ]
    },
    {
      "cell_type": "markdown",
      "metadata": {
        "id": "0oz0yTYL0Fr1",
        "colab_type": "text"
      },
      "source": [
        "# Cleaning Data\n",
        "\n",
        "Making a DataFrame easier to work with\n",
        "\n",
        "Difficulty:**easy to medium**"
      ]
    },
    {
      "cell_type": "markdown",
      "metadata": {
        "id": "5v-CMT3-0Fr2",
        "colab_type": "text"
      },
      "source": [
        "##Problem 1."
      ]
    },
    {
      "cell_type": "markdown",
      "metadata": {
        "id": "kNMC6yF8Ngse",
        "colab_type": "text"
      },
      "source": [
        "**Problem:**\n",
        "Some values in the the FlightNumber column are missing.\n",
        "These numbers are meant to increase by 10 with each row so 10055 and 10075 need to be put in place. \n",
        "Fill in these missing numbers and make the column an integer column (instead of a float column).\n",
        "\n",
        "**Possible Input:**\n",
        "```python\n",
        "df = pd.DataFrame({\n",
        "     'From_To': ['LoNDon_paris', 'MAdrid_miLAN', 'londON_StockhOlm', 'Budapest_PaRis', 'Brussels_londOn'],\n",
        "'FlightNumber': [10045, np.nan, 10065, np.nan, 10085],\n",
        "'RecentDelays': [[23, 47], [], [24, 43, 87], [13], [67, 32]],\n",
        "     'Airline': ['KLM(!)', '<Air France>(12)', '(British Airways. )', '12. Air France', '\"Swiss Air\"']\n",
        "})\n",
        "```\n",
        "\n",
        "**Expected Output:**\n",
        "```\n",
        "    From_To\tFlightNumber\tRecentDelays\tAirline\n",
        "0\tLoNDon_paris\t10045\t[23, 47]\tKLM(!)\n",
        "1\tMAdrid_miLAN\t10055\t[]\t<Air France>(12)\n",
        "2\tlondON_StockhOlm\t10065\t[24, 43, 87]\t(British Airways. )\n",
        "3\tBudapest_PaRis\t10075\t[13]\t12. Air France\n",
        "4\tBrussels_londOn\t10085\t[67, 32]\t\"Swiss Air\"\n",
        "```\n",
        "\n"
      ]
    },
    {
      "cell_type": "code",
      "metadata": {
        "id": "jG5RY_Pw0Fr2",
        "colab_type": "code",
        "colab": {}
      },
      "source": [
        "import numpy as np\n",
        "import pandas as pd\n",
        "\n",
        "# Input\n",
        "df = pd.DataFrame({\n",
        "     'From_To': ['LoNDon_paris', 'MAdrid_miLAN', 'londON_StockhOlm', 'Budapest_PaRis', 'Brussels_londOn'],\n",
        "'FlightNumber': [10045, np.nan, 10065, np.nan, 10085],\n",
        "'RecentDelays': [[23, 47], [], [24, 43, 87], [13], [67, 32]],\n",
        "     'Airline': ['KLM(!)', '<Air France>(12)', '(British Airways. )', '12. Air France', '\"Swiss Air\"']\n",
        "})\n",
        "\n",
        "# Enter your code here"
      ],
      "execution_count": null,
      "outputs": []
    },
    {
      "cell_type": "markdown",
      "metadata": {
        "id": "bv39FBOr0Fr3",
        "colab_type": "text"
      },
      "source": [
        "###Solution"
      ]
    },
    {
      "cell_type": "code",
      "metadata": {
        "id": "TqHrVKMn0Fr3",
        "colab_type": "code",
        "colab": {
          "base_uri": "https://localhost:8080/",
          "height": 204
        },
        "outputId": "1ae8f7ee-8681-4bdc-ffc3-9d19ec6d9c9a"
      },
      "source": [
        "import numpy as np\n",
        "import pandas as pd\n",
        "\n",
        "# Input\n",
        "df = pd.DataFrame({\n",
        "     'From_To': ['LoNDon_paris', 'MAdrid_miLAN', 'londON_StockhOlm', 'Budapest_PaRis', 'Brussels_londOn'],\n",
        "'FlightNumber': [10045, np.nan, 10065, np.nan, 10085],\n",
        "'RecentDelays': [[23, 47], [], [24, 43, 87], [13], [67, 32]],\n",
        "     'Airline': ['KLM(!)', '<Air France>(12)', '(British Airways. )', '12. Air France', '\"Swiss Air\"']\n",
        "})\n",
        "\n",
        "# Solution\n",
        "df['FlightNumber'] = df['FlightNumber'].interpolate().astype(int)\n",
        "df"
      ],
      "execution_count": null,
      "outputs": [
        {
          "output_type": "execute_result",
          "data": {
            "text/html": [
              "<div>\n",
              "<style scoped>\n",
              "    .dataframe tbody tr th:only-of-type {\n",
              "        vertical-align: middle;\n",
              "    }\n",
              "\n",
              "    .dataframe tbody tr th {\n",
              "        vertical-align: top;\n",
              "    }\n",
              "\n",
              "    .dataframe thead th {\n",
              "        text-align: right;\n",
              "    }\n",
              "</style>\n",
              "<table border=\"1\" class=\"dataframe\">\n",
              "  <thead>\n",
              "    <tr style=\"text-align: right;\">\n",
              "      <th></th>\n",
              "      <th>From_To</th>\n",
              "      <th>FlightNumber</th>\n",
              "      <th>RecentDelays</th>\n",
              "      <th>Airline</th>\n",
              "    </tr>\n",
              "  </thead>\n",
              "  <tbody>\n",
              "    <tr>\n",
              "      <th>0</th>\n",
              "      <td>LoNDon_paris</td>\n",
              "      <td>10045</td>\n",
              "      <td>[23, 47]</td>\n",
              "      <td>KLM(!)</td>\n",
              "    </tr>\n",
              "    <tr>\n",
              "      <th>1</th>\n",
              "      <td>MAdrid_miLAN</td>\n",
              "      <td>10055</td>\n",
              "      <td>[]</td>\n",
              "      <td>&lt;Air France&gt;(12)</td>\n",
              "    </tr>\n",
              "    <tr>\n",
              "      <th>2</th>\n",
              "      <td>londON_StockhOlm</td>\n",
              "      <td>10065</td>\n",
              "      <td>[24, 43, 87]</td>\n",
              "      <td>(British Airways. )</td>\n",
              "    </tr>\n",
              "    <tr>\n",
              "      <th>3</th>\n",
              "      <td>Budapest_PaRis</td>\n",
              "      <td>10075</td>\n",
              "      <td>[13]</td>\n",
              "      <td>12. Air France</td>\n",
              "    </tr>\n",
              "    <tr>\n",
              "      <th>4</th>\n",
              "      <td>Brussels_londOn</td>\n",
              "      <td>10085</td>\n",
              "      <td>[67, 32]</td>\n",
              "      <td>\"Swiss Air\"</td>\n",
              "    </tr>\n",
              "  </tbody>\n",
              "</table>\n",
              "</div>"
            ],
            "text/plain": [
              "            From_To  FlightNumber  RecentDelays              Airline\n",
              "0      LoNDon_paris         10045      [23, 47]               KLM(!)\n",
              "1      MAdrid_miLAN         10055            []     <Air France>(12)\n",
              "2  londON_StockhOlm         10065  [24, 43, 87]  (British Airways. )\n",
              "3    Budapest_PaRis         10075          [13]       12. Air France\n",
              "4   Brussels_londOn         10085      [67, 32]          \"Swiss Air\""
            ]
          },
          "metadata": {
            "tags": []
          },
          "execution_count": 43
        }
      ]
    },
    {
      "cell_type": "markdown",
      "metadata": {
        "id": "6Xw2c2dY0Fr4",
        "colab_type": "text"
      },
      "source": [
        "##Problem 2."
      ]
    },
    {
      "cell_type": "markdown",
      "metadata": {
        "id": "eQq2S_ImSZoa",
        "colab_type": "text"
      },
      "source": [
        "**Problem:**\n",
        "The From\\_To column would be better as two separate columns.\n",
        "Split each string on the underscore delimiter `_` to give a new temporary DataFrame with the correct values.\n",
        "Assign the correct column names to this temporary DataFrame.\n",
        "\n",
        "**Possible Input:**\n",
        "```python\n",
        "df = pd.DataFrame({\n",
        "     'From_To': ['LoNDon_paris', 'MAdrid_miLAN', 'londON_StockhOlm', 'Budapest_PaRis', 'Brussels_londOn'],\n",
        "'FlightNumber': [10045, 1055, 10065, 1075, 10085],\n",
        "'RecentDelays': [[23, 47], [], [24, 43, 87], [13], [67, 32]],\n",
        "     'Airline': ['KLM(!)', '<Air France>(12)', '(British Airways. )', '12. Air France', '\"Swiss Air\"']\n",
        "})\n",
        "```\n",
        "\n",
        "**Expected Output:**\n",
        "```\n",
        "\tFrom\tTo\n",
        "0\tLoNDon\tparis\n",
        "1\tMAdrid\tmiLAN\n",
        "2\tlondON\tStockhOlm\n",
        "3\tBudapest\tPaRis\n",
        "4\tBrussels\tlondOn\n",
        "```\n",
        "\n"
      ]
    },
    {
      "cell_type": "code",
      "metadata": {
        "id": "RCDbPVWb0Fr4",
        "colab_type": "code",
        "colab": {}
      },
      "source": [
        "import numpy as np\n",
        "import pandas as pd\n",
        "\n",
        "# Input\n",
        "df = pd.DataFrame({\n",
        "     'From_To': ['LoNDon_paris', 'MAdrid_miLAN', 'londON_StockhOlm', 'Budapest_PaRis', 'Brussels_londOn'],\n",
        "'FlightNumber': [10045, 1055, 10065, 1075, 10085],\n",
        "'RecentDelays': [[23, 47], [], [24, 43, 87], [13], [67, 32]],\n",
        "     'Airline': ['KLM(!)', '<Air France>(12)', '(British Airways. )', '12. Air France', '\"Swiss Air\"']\n",
        "})\n",
        "\n",
        "# Enter your code here"
      ],
      "execution_count": null,
      "outputs": []
    },
    {
      "cell_type": "markdown",
      "metadata": {
        "id": "GOInAnK-0Fr5",
        "colab_type": "text"
      },
      "source": [
        "###Solution"
      ]
    },
    {
      "cell_type": "code",
      "metadata": {
        "id": "vFbJyruV0Fr5",
        "colab_type": "code",
        "colab": {
          "base_uri": "https://localhost:8080/",
          "height": 204
        },
        "outputId": "08f90d27-e642-491a-a50d-435466a282d1"
      },
      "source": [
        "import numpy as np\n",
        "import pandas as pd\n",
        "\n",
        "# Input\n",
        "df = pd.DataFrame({\n",
        "     'From_To': ['LoNDon_paris', 'MAdrid_miLAN', 'londON_StockhOlm', 'Budapest_PaRis', 'Brussels_londOn'],\n",
        "'FlightNumber': [10045, 1055, 10065, 1075, 10085],\n",
        "'RecentDelays': [[23, 47], [], [24, 43, 87], [13], [67, 32]],\n",
        "     'Airline': ['KLM(!)', '<Air France>(12)', '(British Airways. )', '12. Air France', '\"Swiss Air\"']\n",
        "})\n",
        "\n",
        "# Solution\n",
        "temp = df.From_To.str.split('_', expand=True)\n",
        "temp.columns = ['From', 'To']\n",
        "temp"
      ],
      "execution_count": null,
      "outputs": [
        {
          "output_type": "execute_result",
          "data": {
            "text/html": [
              "<div>\n",
              "<style scoped>\n",
              "    .dataframe tbody tr th:only-of-type {\n",
              "        vertical-align: middle;\n",
              "    }\n",
              "\n",
              "    .dataframe tbody tr th {\n",
              "        vertical-align: top;\n",
              "    }\n",
              "\n",
              "    .dataframe thead th {\n",
              "        text-align: right;\n",
              "    }\n",
              "</style>\n",
              "<table border=\"1\" class=\"dataframe\">\n",
              "  <thead>\n",
              "    <tr style=\"text-align: right;\">\n",
              "      <th></th>\n",
              "      <th>From</th>\n",
              "      <th>To</th>\n",
              "    </tr>\n",
              "  </thead>\n",
              "  <tbody>\n",
              "    <tr>\n",
              "      <th>0</th>\n",
              "      <td>LoNDon</td>\n",
              "      <td>paris</td>\n",
              "    </tr>\n",
              "    <tr>\n",
              "      <th>1</th>\n",
              "      <td>MAdrid</td>\n",
              "      <td>miLAN</td>\n",
              "    </tr>\n",
              "    <tr>\n",
              "      <th>2</th>\n",
              "      <td>londON</td>\n",
              "      <td>StockhOlm</td>\n",
              "    </tr>\n",
              "    <tr>\n",
              "      <th>3</th>\n",
              "      <td>Budapest</td>\n",
              "      <td>PaRis</td>\n",
              "    </tr>\n",
              "    <tr>\n",
              "      <th>4</th>\n",
              "      <td>Brussels</td>\n",
              "      <td>londOn</td>\n",
              "    </tr>\n",
              "  </tbody>\n",
              "</table>\n",
              "</div>"
            ],
            "text/plain": [
              "       From         To\n",
              "0    LoNDon      paris\n",
              "1    MAdrid      miLAN\n",
              "2    londON  StockhOlm\n",
              "3  Budapest      PaRis\n",
              "4  Brussels     londOn"
            ]
          },
          "metadata": {
            "tags": []
          },
          "execution_count": 45
        }
      ]
    },
    {
      "cell_type": "markdown",
      "metadata": {
        "id": "mFkWT9mu0Fr5",
        "colab_type": "text"
      },
      "source": [
        "##Problem 3."
      ]
    },
    {
      "cell_type": "markdown",
      "metadata": {
        "id": "_Tg9kchRS-R3",
        "colab_type": "text"
      },
      "source": [
        "**Problem:**\n",
        "A dataframe with city names is given.\n",
        "The problem is, capitalization is mixed within the dataframe.\n",
        "Standardise the strings so that only the first letter is uppercase (e.g. \"londON\" should become \"London\").\n",
        "\n",
        "**Possible Inlut:**\n",
        "```python\n",
        "temp = pd.DataFrame({\n",
        "    'From': ['LoNDon', 'MAdrid', 'londON', 'Budapest', 'Brussels'],\n",
        "    'To'  : ['paris', 'miLAN', 'StockhOlm', 'PaRis', 'londOn']\n",
        "  })\n",
        "```\n",
        "\n",
        "**Expected Output:**\n",
        "```\n",
        "\tFrom\tTo\n",
        "0\tLondon\tParis\n",
        "1\tMadrid\tMilan\n",
        "2\tLondon\tStockholm\n",
        "3\tBudapest\tParis\n",
        "4\tBrussels\tLondon\n",
        "```\n",
        "\n"
      ]
    },
    {
      "cell_type": "code",
      "metadata": {
        "id": "kWV4mFp90Fr5",
        "colab_type": "code",
        "colab": {}
      },
      "source": [
        "import numpy as np\n",
        "import pandas as pd\n",
        "\n",
        "# Input\n",
        "temp = pd.DataFrame({\n",
        "    'From': ['LoNDon', 'MAdrid', 'londON', 'Budapest', 'Brussels'],\n",
        "    'To'  : ['paris', 'miLAN', 'StockhOlm', 'PaRis', 'londOn']\n",
        "  })\n",
        "\n",
        "# Enter your code here"
      ],
      "execution_count": null,
      "outputs": []
    },
    {
      "cell_type": "markdown",
      "metadata": {
        "id": "oaqm50gT0Fr6",
        "colab_type": "text"
      },
      "source": [
        "###Solution"
      ]
    },
    {
      "cell_type": "code",
      "metadata": {
        "id": "vRySqc0s0Fr6",
        "colab_type": "code",
        "colab": {
          "base_uri": "https://localhost:8080/",
          "height": 204
        },
        "outputId": "134de8af-aa7a-4940-94e9-b2a8b4f10ca2"
      },
      "source": [
        "import numpy as np\n",
        "import pandas as pd\n",
        "\n",
        "# Input\n",
        "temp = pd.DataFrame({\n",
        "    'From': ['LoNDon', 'MAdrid', 'londON', 'Budapest', 'Brussels'],\n",
        "    'To'  : ['paris', 'miLAN', 'StockhOlm', 'PaRis', 'londOn']\n",
        "  })\n",
        "\n",
        "# Solution\n",
        "temp['From'] = temp['From'].str.capitalize()\n",
        "temp['To'] = temp['To'].str.capitalize()\n",
        "temp"
      ],
      "execution_count": null,
      "outputs": [
        {
          "output_type": "execute_result",
          "data": {
            "text/html": [
              "<div>\n",
              "<style scoped>\n",
              "    .dataframe tbody tr th:only-of-type {\n",
              "        vertical-align: middle;\n",
              "    }\n",
              "\n",
              "    .dataframe tbody tr th {\n",
              "        vertical-align: top;\n",
              "    }\n",
              "\n",
              "    .dataframe thead th {\n",
              "        text-align: right;\n",
              "    }\n",
              "</style>\n",
              "<table border=\"1\" class=\"dataframe\">\n",
              "  <thead>\n",
              "    <tr style=\"text-align: right;\">\n",
              "      <th></th>\n",
              "      <th>From</th>\n",
              "      <th>To</th>\n",
              "    </tr>\n",
              "  </thead>\n",
              "  <tbody>\n",
              "    <tr>\n",
              "      <th>0</th>\n",
              "      <td>London</td>\n",
              "      <td>Paris</td>\n",
              "    </tr>\n",
              "    <tr>\n",
              "      <th>1</th>\n",
              "      <td>Madrid</td>\n",
              "      <td>Milan</td>\n",
              "    </tr>\n",
              "    <tr>\n",
              "      <th>2</th>\n",
              "      <td>London</td>\n",
              "      <td>Stockholm</td>\n",
              "    </tr>\n",
              "    <tr>\n",
              "      <th>3</th>\n",
              "      <td>Budapest</td>\n",
              "      <td>Paris</td>\n",
              "    </tr>\n",
              "    <tr>\n",
              "      <th>4</th>\n",
              "      <td>Brussels</td>\n",
              "      <td>London</td>\n",
              "    </tr>\n",
              "  </tbody>\n",
              "</table>\n",
              "</div>"
            ],
            "text/plain": [
              "       From         To\n",
              "0    London      Paris\n",
              "1    Madrid      Milan\n",
              "2    London  Stockholm\n",
              "3  Budapest      Paris\n",
              "4  Brussels     London"
            ]
          },
          "metadata": {
            "tags": []
          },
          "execution_count": 47
        }
      ]
    },
    {
      "cell_type": "markdown",
      "metadata": {
        "id": "6_E9u7Nc0Fr7",
        "colab_type": "text"
      },
      "source": [
        "##Problem 4."
      ]
    },
    {
      "cell_type": "markdown",
      "metadata": {
        "id": "GYG_1vKCUT5W",
        "colab_type": "text"
      },
      "source": [
        "**Problem:**\n",
        "Two dataframes, `df` and `temp` are given.\n",
        "Delete the From_To column from `df` and attach the `temp` DataFrame to it.\n",
        "\n",
        "**Possible Input:**\n"
      ]
    },
    {
      "cell_type": "code",
      "metadata": {
        "id": "bATrAnwg0Fr7",
        "colab_type": "code",
        "colab": {}
      },
      "source": [
        "# Enter your code here"
      ],
      "execution_count": null,
      "outputs": []
    },
    {
      "cell_type": "markdown",
      "metadata": {
        "id": "U0qu9OTp0Fr9",
        "colab_type": "text"
      },
      "source": [
        "###Solution"
      ]
    },
    {
      "cell_type": "code",
      "metadata": {
        "id": "9hnDUTDn0Fr9",
        "colab_type": "code",
        "colab": {
          "base_uri": "https://localhost:8080/",
          "height": 204
        },
        "outputId": "920ba960-3a78-490d-e1db-ce3a58eb1340"
      },
      "source": [
        "import numpy as np\n",
        "import pandas as pd\n",
        "\n",
        "# Input\n",
        "df = pd.DataFrame({\n",
        "     'From_To': ['LoNDon_paris', 'MAdrid_miLAN', 'londON_StockhOlm', 'Budapest_PaRis', 'Brussels_londOn'],\n",
        "'FlightNumber': [10045, 1055, 10065, 1075, 10085],\n",
        "'RecentDelays': [[23, 47], [], [24, 43, 87], [13], [67, 32]],\n",
        "     'Airline': ['KLM(!)', '<Air France>(12)', '(British Airways. )', '12. Air France', '\"Swiss Air\"']\n",
        "})\n",
        "temp = pd.DataFrame({\n",
        "    'From': ['London', 'Madrid', 'London', 'Budapest', 'Brussels'],\n",
        "    'To'  : ['Paris', 'Milan', 'Stockholm', 'Paris', 'London']\n",
        "})\n",
        "\t\n",
        "# Solution\n",
        "df.drop('From_To', axis=1).join(temp)"
      ],
      "execution_count": null,
      "outputs": [
        {
          "output_type": "execute_result",
          "data": {
            "text/html": [
              "<div>\n",
              "<style scoped>\n",
              "    .dataframe tbody tr th:only-of-type {\n",
              "        vertical-align: middle;\n",
              "    }\n",
              "\n",
              "    .dataframe tbody tr th {\n",
              "        vertical-align: top;\n",
              "    }\n",
              "\n",
              "    .dataframe thead th {\n",
              "        text-align: right;\n",
              "    }\n",
              "</style>\n",
              "<table border=\"1\" class=\"dataframe\">\n",
              "  <thead>\n",
              "    <tr style=\"text-align: right;\">\n",
              "      <th></th>\n",
              "      <th>FlightNumber</th>\n",
              "      <th>RecentDelays</th>\n",
              "      <th>Airline</th>\n",
              "      <th>From</th>\n",
              "      <th>To</th>\n",
              "    </tr>\n",
              "  </thead>\n",
              "  <tbody>\n",
              "    <tr>\n",
              "      <th>0</th>\n",
              "      <td>10045</td>\n",
              "      <td>[23, 47]</td>\n",
              "      <td>KLM(!)</td>\n",
              "      <td>London</td>\n",
              "      <td>Paris</td>\n",
              "    </tr>\n",
              "    <tr>\n",
              "      <th>1</th>\n",
              "      <td>1055</td>\n",
              "      <td>[]</td>\n",
              "      <td>&lt;Air France&gt;(12)</td>\n",
              "      <td>Madrid</td>\n",
              "      <td>Milan</td>\n",
              "    </tr>\n",
              "    <tr>\n",
              "      <th>2</th>\n",
              "      <td>10065</td>\n",
              "      <td>[24, 43, 87]</td>\n",
              "      <td>(British Airways. )</td>\n",
              "      <td>London</td>\n",
              "      <td>Stockholm</td>\n",
              "    </tr>\n",
              "    <tr>\n",
              "      <th>3</th>\n",
              "      <td>1075</td>\n",
              "      <td>[13]</td>\n",
              "      <td>12. Air France</td>\n",
              "      <td>Budapest</td>\n",
              "      <td>Paris</td>\n",
              "    </tr>\n",
              "    <tr>\n",
              "      <th>4</th>\n",
              "      <td>10085</td>\n",
              "      <td>[67, 32]</td>\n",
              "      <td>\"Swiss Air\"</td>\n",
              "      <td>Brussels</td>\n",
              "      <td>London</td>\n",
              "    </tr>\n",
              "  </tbody>\n",
              "</table>\n",
              "</div>"
            ],
            "text/plain": [
              "   FlightNumber  RecentDelays              Airline      From         To\n",
              "0         10045      [23, 47]               KLM(!)    London      Paris\n",
              "1          1055            []     <Air France>(12)    Madrid      Milan\n",
              "2         10065  [24, 43, 87]  (British Airways. )    London  Stockholm\n",
              "3          1075          [13]       12. Air France  Budapest      Paris\n",
              "4         10085      [67, 32]          \"Swiss Air\"  Brussels     London"
            ]
          },
          "metadata": {
            "tags": []
          },
          "execution_count": 48
        }
      ]
    },
    {
      "cell_type": "markdown",
      "metadata": {
        "id": "rcj74fum0Fr-",
        "colab_type": "text"
      },
      "source": [
        "##Problem 5."
      ]
    },
    {
      "cell_type": "markdown",
      "metadata": {
        "id": "1LmAV-1oXc1c",
        "colab_type": "text"
      },
      "source": [
        "**Problem:**\n",
        "In the Airline column of the dataframe given, you can see some extra puctuation and symbols around the airline names.\n",
        "Pull out just the airline name. E.g. `'(British Airways. )'` should become `'British Airways'`.\n",
        "\n",
        "**Possible Input:**\n",
        "```python\n",
        "df = pd.DataFrame({\n",
        "'FlightNumber': [10045, 1055, 10065, 1075, 10085],\n",
        "'RecentDelays': [[23, 47], [], [24, 43, 87], [13], [67, 32]],\n",
        "     'Airline': ['KLM(!)', '<Air France>(12)', '(British Airways. )', '12. Air France', '\"Swiss Air\"'],\n",
        "        'From': ['London', 'Madrid', 'London', 'Budapest', 'Brussels'],\n",
        "        'To'  : ['Paris', 'Milan', 'Stockholm', 'Paris', 'London']\n",
        "})\n",
        "```\n",
        "\n",
        "**Expected Output:**\n",
        "```\n",
        "FlightNumber\tRecentDelays\tAirline\t  From\tTo\n",
        "0\t10045\t   [23, 47]\t   KLM\t      London\tParis\n",
        "1\t1055\t      []\t      Air   France\tMadrid\tMilan\n",
        "2\t10065\t   [24, 43, 87]   British Airways\tLondon\tStockholm\n",
        "3\t1075\t      [13]\t      Air France\t  Budapest\tParis\n",
        "4\t10085\t   [67, 32]   \tSwiss Air\t  Brussels\tLondon\n",
        "```\n",
        "\n"
      ]
    },
    {
      "cell_type": "code",
      "metadata": {
        "id": "X_FnnR4H0Fr-",
        "colab_type": "code",
        "colab": {}
      },
      "source": [
        "import numpy as np\n",
        "import pandas as pd\n",
        "\n",
        "# Input\n",
        "df = pd.DataFrame({\n",
        "'FlightNumber': [10045, 1055, 10065, 1075, 10085],\n",
        "'RecentDelays': [[23, 47], [], [24, 43, 87], [13], [67, 32]],\n",
        "     'Airline': ['KLM(!)', '<Air France>(12)', '(British Airways. )', '12. Air France', '\"Swiss Air\"'],\n",
        "        'From': ['London', 'Madrid', 'London', 'Budapest', 'Brussels'],\n",
        "        'To'  : ['Paris', 'Milan', 'Stockholm', 'Paris', 'London']\n",
        "})\n",
        "\n",
        "# Enter your code here"
      ],
      "execution_count": null,
      "outputs": []
    },
    {
      "cell_type": "markdown",
      "metadata": {
        "id": "Ymd-RYI20Fr_",
        "colab_type": "text"
      },
      "source": [
        "###Solution"
      ]
    },
    {
      "cell_type": "code",
      "metadata": {
        "id": "bSSCnUcS0FsA",
        "colab_type": "code",
        "colab": {
          "base_uri": "https://localhost:8080/",
          "height": 204
        },
        "outputId": "8f5508ef-fae8-4f4f-a0c2-a576f09a53da"
      },
      "source": [
        "import numpy as np\n",
        "import pandas as pd\n",
        "\n",
        "# Input\n",
        "df = pd.DataFrame({\n",
        "'FlightNumber': [10045, 1055, 10065, 1075, 10085],\n",
        "'RecentDelays': [[23, 47], [], [24, 43, 87], [13], [67, 32]],\n",
        "     'Airline': ['KLM(!)', '<Air France>(12)', '(British Airways. )', '12. Air France', '\"Swiss Air\"'],\n",
        "        'From': ['London', 'Madrid', 'London', 'Budapest', 'Brussels'],\n",
        "        'To'  : ['Paris', 'Milan', 'Stockholm', 'Paris', 'London']\n",
        "})\n",
        "\n",
        "# Solution\n",
        "df['Airline'] = df['Airline'].str.extract('([a-zA-Z\\s]+)', expand=False).str.strip()\n",
        "df"
      ],
      "execution_count": null,
      "outputs": [
        {
          "output_type": "execute_result",
          "data": {
            "text/html": [
              "<div>\n",
              "<style scoped>\n",
              "    .dataframe tbody tr th:only-of-type {\n",
              "        vertical-align: middle;\n",
              "    }\n",
              "\n",
              "    .dataframe tbody tr th {\n",
              "        vertical-align: top;\n",
              "    }\n",
              "\n",
              "    .dataframe thead th {\n",
              "        text-align: right;\n",
              "    }\n",
              "</style>\n",
              "<table border=\"1\" class=\"dataframe\">\n",
              "  <thead>\n",
              "    <tr style=\"text-align: right;\">\n",
              "      <th></th>\n",
              "      <th>FlightNumber</th>\n",
              "      <th>RecentDelays</th>\n",
              "      <th>Airline</th>\n",
              "      <th>From</th>\n",
              "      <th>To</th>\n",
              "    </tr>\n",
              "  </thead>\n",
              "  <tbody>\n",
              "    <tr>\n",
              "      <th>0</th>\n",
              "      <td>10045</td>\n",
              "      <td>[23, 47]</td>\n",
              "      <td>KLM</td>\n",
              "      <td>London</td>\n",
              "      <td>Paris</td>\n",
              "    </tr>\n",
              "    <tr>\n",
              "      <th>1</th>\n",
              "      <td>1055</td>\n",
              "      <td>[]</td>\n",
              "      <td>Air France</td>\n",
              "      <td>Madrid</td>\n",
              "      <td>Milan</td>\n",
              "    </tr>\n",
              "    <tr>\n",
              "      <th>2</th>\n",
              "      <td>10065</td>\n",
              "      <td>[24, 43, 87]</td>\n",
              "      <td>British Airways</td>\n",
              "      <td>London</td>\n",
              "      <td>Stockholm</td>\n",
              "    </tr>\n",
              "    <tr>\n",
              "      <th>3</th>\n",
              "      <td>1075</td>\n",
              "      <td>[13]</td>\n",
              "      <td>Air France</td>\n",
              "      <td>Budapest</td>\n",
              "      <td>Paris</td>\n",
              "    </tr>\n",
              "    <tr>\n",
              "      <th>4</th>\n",
              "      <td>10085</td>\n",
              "      <td>[67, 32]</td>\n",
              "      <td>Swiss Air</td>\n",
              "      <td>Brussels</td>\n",
              "      <td>London</td>\n",
              "    </tr>\n",
              "  </tbody>\n",
              "</table>\n",
              "</div>"
            ],
            "text/plain": [
              "   FlightNumber  RecentDelays          Airline      From         To\n",
              "0         10045      [23, 47]              KLM    London      Paris\n",
              "1          1055            []       Air France    Madrid      Milan\n",
              "2         10065  [24, 43, 87]  British Airways    London  Stockholm\n",
              "3          1075          [13]       Air France  Budapest      Paris\n",
              "4         10085      [67, 32]        Swiss Air  Brussels     London"
            ]
          },
          "metadata": {
            "tags": []
          },
          "execution_count": 50
        }
      ]
    },
    {
      "cell_type": "markdown",
      "metadata": {
        "id": "DPm3fyUz0FsA",
        "colab_type": "text"
      },
      "source": [
        "##Problem 6."
      ]
    },
    {
      "cell_type": "markdown",
      "metadata": {
        "id": "LSpX2JsKZDI5",
        "colab_type": "text"
      },
      "source": [
        "**Problem:**\n",
        "A dataframe with flight information is given.\n",
        "In the `RecentDelays` column, the values have been entered into the\n",
        "DataFrame as a list.\n",
        "Expand list to different columns, i.e. first value of every list should be in its own column, second value in its own, and so on.\n",
        "If there isn't an Nth value, put NaN as entry into the appropriae column.\n",
        "Name these new columns as `delay_1`, `delay_2`, etc.\n",
        "Remove the original column with lists.\n",
        "\n",
        "**Possible Input:**\n",
        "```python\n",
        "df = pd.DataFrame({\n",
        "'FlightNumber': [10045, 1055, 10065, 1075, 10085],\n",
        "'RecentDelays': [[23, 47], [], [24, 43, 87], [13], [67, 32]],\n",
        "     'Airline': ['KLM', 'Air France', 'British Airways', 'Air France', 'Swiss Air'],\n",
        "        'From': ['London', 'Madrid', 'London', 'Budapest', 'Brussels'],\n",
        "        'To'  : ['Paris', 'Milan', 'Stockholm', 'Paris', 'London']\n",
        "})\n",
        "```\n",
        "\n",
        "**Expected Output:**\n",
        "```xml\n",
        "FlightNumber\tAirline\tFrom\tTo\tdelay_1\tdelay_2\tdelay_3\n",
        "0\t10045\tKLM\tLondon\tParis\t23.0\t47.0\tNaN\n",
        "1\t1055\tAir France\tMadrid\tMilan\tNaN\tNaN\tNaN\n",
        "2\t10065\tBritish Airways\tLondon\tStockholm\t24.0\t43.0\t87.0\n",
        "3\t1075\tAir France\tBudapest\tParis\t13.0\tNaN\tNaN\n",
        "4\t10085\tSwiss Air\tBrussels\tLondon\t67.0\t32.0\tNaN\n",
        "```\n",
        "\n",
        "\n"
      ]
    },
    {
      "cell_type": "code",
      "metadata": {
        "id": "xYGbybBC0FsB",
        "colab_type": "code",
        "colab": {}
      },
      "source": [
        "# Enter your code here"
      ],
      "execution_count": null,
      "outputs": []
    },
    {
      "cell_type": "markdown",
      "metadata": {
        "id": "VAppCXaH0FsB",
        "colab_type": "text"
      },
      "source": [
        "###Solution"
      ]
    },
    {
      "cell_type": "code",
      "metadata": {
        "id": "2h4IiFRF0FsC",
        "colab_type": "code",
        "colab": {
          "base_uri": "https://localhost:8080/",
          "height": 204
        },
        "outputId": "9db29471-d9f3-4299-a7e6-5afc4049d7ef"
      },
      "source": [
        "import numpy as np\n",
        "import pandas as pd\n",
        "\n",
        "# Input\n",
        "df = pd.DataFrame({\n",
        "'FlightNumber': [10045, 1055, 10065, 1075, 10085],\n",
        "'RecentDelays': [[23, 47], [], [24, 43, 87], [13], [67, 32]],\n",
        "     'Airline': ['KLM', 'Air France', 'British Airways', 'Air France', 'Swiss Air'],\n",
        "        'From': ['London', 'Madrid', 'London', 'Budapest', 'Brussels'],\n",
        "        'To'  : ['Paris', 'Milan', 'Stockholm', 'Paris', 'London']\n",
        "})\n",
        "\n",
        "# Solution\n",
        "delays = df['RecentDelays'].apply(pd.Series)\n",
        "delays.columns = ['delay_{}'.format(n) for n in range(1, len(delays.columns)+1)]\n",
        "df = df.drop('RecentDelays', axis=1).join(delays)\n",
        "df"
      ],
      "execution_count": null,
      "outputs": [
        {
          "output_type": "execute_result",
          "data": {
            "text/html": [
              "<div>\n",
              "<style scoped>\n",
              "    .dataframe tbody tr th:only-of-type {\n",
              "        vertical-align: middle;\n",
              "    }\n",
              "\n",
              "    .dataframe tbody tr th {\n",
              "        vertical-align: top;\n",
              "    }\n",
              "\n",
              "    .dataframe thead th {\n",
              "        text-align: right;\n",
              "    }\n",
              "</style>\n",
              "<table border=\"1\" class=\"dataframe\">\n",
              "  <thead>\n",
              "    <tr style=\"text-align: right;\">\n",
              "      <th></th>\n",
              "      <th>FlightNumber</th>\n",
              "      <th>Airline</th>\n",
              "      <th>From</th>\n",
              "      <th>To</th>\n",
              "      <th>delay_1</th>\n",
              "      <th>delay_2</th>\n",
              "      <th>delay_3</th>\n",
              "    </tr>\n",
              "  </thead>\n",
              "  <tbody>\n",
              "    <tr>\n",
              "      <th>0</th>\n",
              "      <td>10045</td>\n",
              "      <td>KLM</td>\n",
              "      <td>London</td>\n",
              "      <td>Paris</td>\n",
              "      <td>23.0</td>\n",
              "      <td>47.0</td>\n",
              "      <td>NaN</td>\n",
              "    </tr>\n",
              "    <tr>\n",
              "      <th>1</th>\n",
              "      <td>1055</td>\n",
              "      <td>Air France</td>\n",
              "      <td>Madrid</td>\n",
              "      <td>Milan</td>\n",
              "      <td>NaN</td>\n",
              "      <td>NaN</td>\n",
              "      <td>NaN</td>\n",
              "    </tr>\n",
              "    <tr>\n",
              "      <th>2</th>\n",
              "      <td>10065</td>\n",
              "      <td>British Airways</td>\n",
              "      <td>London</td>\n",
              "      <td>Stockholm</td>\n",
              "      <td>24.0</td>\n",
              "      <td>43.0</td>\n",
              "      <td>87.0</td>\n",
              "    </tr>\n",
              "    <tr>\n",
              "      <th>3</th>\n",
              "      <td>1075</td>\n",
              "      <td>Air France</td>\n",
              "      <td>Budapest</td>\n",
              "      <td>Paris</td>\n",
              "      <td>13.0</td>\n",
              "      <td>NaN</td>\n",
              "      <td>NaN</td>\n",
              "    </tr>\n",
              "    <tr>\n",
              "      <th>4</th>\n",
              "      <td>10085</td>\n",
              "      <td>Swiss Air</td>\n",
              "      <td>Brussels</td>\n",
              "      <td>London</td>\n",
              "      <td>67.0</td>\n",
              "      <td>32.0</td>\n",
              "      <td>NaN</td>\n",
              "    </tr>\n",
              "  </tbody>\n",
              "</table>\n",
              "</div>"
            ],
            "text/plain": [
              "   FlightNumber          Airline      From  ... delay_1  delay_2  delay_3\n",
              "0         10045              KLM    London  ...    23.0     47.0      NaN\n",
              "1          1055       Air France    Madrid  ...     NaN      NaN      NaN\n",
              "2         10065  British Airways    London  ...    24.0     43.0     87.0\n",
              "3          1075       Air France  Budapest  ...    13.0      NaN      NaN\n",
              "4         10085        Swiss Air  Brussels  ...    67.0     32.0      NaN\n",
              "\n",
              "[5 rows x 7 columns]"
            ]
          },
          "metadata": {
            "tags": []
          },
          "execution_count": 51
        }
      ]
    },
    {
      "cell_type": "markdown",
      "metadata": {
        "id": "RxCt2o0K0FsC",
        "colab_type": "text"
      },
      "source": [
        "# Using MultiIndexes\n",
        "\n",
        "Go beyond flat DataFrames with additional index levels\n",
        "\n",
        "Difficulty: **medium**"
      ]
    },
    {
      "cell_type": "markdown",
      "metadata": {
        "id": "Gm-IyzDeftI4",
        "colab_type": "text"
      },
      "source": [
        "##Problem 1."
      ]
    },
    {
      "cell_type": "markdown",
      "metadata": {
        "id": "RdiLfAQSfwqH",
        "colab_type": "text"
      },
      "source": [
        "**Problem:**\n",
        "Given the lists `letters = ['A', 'B', 'C']` and `numbers =\n",
        "list(range(4))`, construct a MultiIndex object from the cartesian product of the two lists.\n",
        "Use it to index a Series of consequent numbers `list(range(12))`.\n",
        "\n",
        "**Possible Input:**\n",
        "```python\n",
        "letters = ['A', 'B', 'C']\n",
        "numbers = list(range(4))\n",
        "entries = list(range(12))\n",
        "```\n",
        "**Expected Output:**\n",
        "```\n",
        "A  0     0\n",
        "   1     1\n",
        "   2     2\n",
        "   3     3\n",
        "B  0     4\n",
        "   1     5\n",
        "   2     6\n",
        "   3     7\n",
        "C  0     8\n",
        "   1     9\n",
        "   2    10\n",
        "   3    11\n",
        "dtype: int64\n",
        "```\n",
        "\n",
        "\n"
      ]
    },
    {
      "cell_type": "code",
      "metadata": {
        "id": "Pxz9X0_D0FsD",
        "colab_type": "code",
        "colab": {}
      },
      "source": [
        "import numpy as np\n",
        "import pandas as pd\n",
        "\n",
        "# Input\n",
        "letters = ['A', 'B', 'C']\n",
        "numbers = list(range(4))\n",
        "entries = list(range(12))\n",
        "\n",
        "# Enter your code here"
      ],
      "execution_count": null,
      "outputs": []
    },
    {
      "cell_type": "markdown",
      "metadata": {
        "id": "-BtncFDa0FsJ",
        "colab_type": "text"
      },
      "source": [
        "###Solution"
      ]
    },
    {
      "cell_type": "code",
      "metadata": {
        "id": "lWn4LV5W0FsK",
        "colab_type": "code",
        "colab": {
          "base_uri": "https://localhost:8080/",
          "height": 238
        },
        "outputId": "e22e579c-d2bf-475a-9ad3-9057056b7320"
      },
      "source": [
        "import numpy as np\n",
        "import pandas as pd\n",
        "\n",
        "# Input\n",
        "letters = ['A', 'B', 'C']\n",
        "numbers = list(range(4))\n",
        "entries = list(range(12))\n",
        "\n",
        "# Solution\n",
        "mi = pd.MultiIndex.from_product([letters, numbers])\n",
        "pd.Series(entries, index=mi)"
      ],
      "execution_count": null,
      "outputs": [
        {
          "output_type": "execute_result",
          "data": {
            "text/plain": [
              "A  0     0\n",
              "   1     1\n",
              "   2     2\n",
              "   3     3\n",
              "B  0     4\n",
              "   1     5\n",
              "   2     6\n",
              "   3     7\n",
              "C  0     8\n",
              "   1     9\n",
              "   2    10\n",
              "   3    11\n",
              "dtype: int64"
            ]
          },
          "metadata": {
            "tags": []
          },
          "execution_count": 5
        }
      ]
    },
    {
      "cell_type": "markdown",
      "metadata": {
        "id": "-V4Cv_m_0FsM",
        "colab_type": "text"
      },
      "source": [
        "##Problem 2."
      ]
    },
    {
      "cell_type": "markdown",
      "metadata": {
        "id": "Vt4RzjKagrhv",
        "colab_type": "text"
      },
      "source": [
        "**Problem:**\n",
        "Given the multiindexed series, check that it is lexicographically sorted (this is a necessary property for indexing to work correctly with a MultiIndex).\n",
        "\n",
        "**Possible Input:**\n",
        "```python\n",
        "mi = pd.MultiIndex.from_product([['A', 'B', 'C'], [1, 2, 3, 4]])\n",
        "s  = pd.Series([1, 2, 3, 4, 5, 6, 7, 8, 9, 10, 11, 12], index=mi)\n",
        "```\n",
        "**Expected Output:**\n",
        "```\n",
        "True\n",
        "```\n",
        "\n",
        "\n"
      ]
    },
    {
      "cell_type": "code",
      "metadata": {
        "id": "21vV5GEm0FsM",
        "colab_type": "code",
        "colab": {}
      },
      "source": [
        "# Enter your code here"
      ],
      "execution_count": null,
      "outputs": []
    },
    {
      "cell_type": "markdown",
      "metadata": {
        "id": "UtSj4HvZ0FsO",
        "colab_type": "text"
      },
      "source": [
        "###Solution A:"
      ]
    },
    {
      "cell_type": "code",
      "metadata": {
        "id": "nyG3PjWd0FsO",
        "colab_type": "code",
        "colab": {
          "base_uri": "https://localhost:8080/",
          "height": 34
        },
        "outputId": "fd37fad1-5aa3-4ffc-a3e9-14483301dd41"
      },
      "source": [
        "import numpy as np\n",
        "import pandas as pd\n",
        "\n",
        "# Input\n",
        "mi = pd.MultiIndex.from_product([['A', 'B', 'C'], [1, 2, 3, 4]])\n",
        "s  = pd.Series([1, 2, 3, 4, 5, 6, 7, 8, 9, 10, 11, 12], index=mi)\n",
        "\n",
        "# Solution\n",
        "s.index.is_lexsorted()"
      ],
      "execution_count": null,
      "outputs": [
        {
          "output_type": "execute_result",
          "data": {
            "text/plain": [
              "True"
            ]
          },
          "metadata": {
            "tags": []
          },
          "execution_count": 11
        }
      ]
    },
    {
      "cell_type": "markdown",
      "metadata": {
        "id": "fVLg7l48kWSG",
        "colab_type": "text"
      },
      "source": [
        "###Solution B:"
      ]
    },
    {
      "cell_type": "code",
      "metadata": {
        "id": "8pZnS85ThH9i",
        "colab_type": "code",
        "colab": {
          "base_uri": "https://localhost:8080/",
          "height": 34
        },
        "outputId": "3adf3b5d-da55-4815-d683-715dc3fb128d"
      },
      "source": [
        "import numpy as np\n",
        "import pandas as pd\n",
        "\n",
        "# Input\n",
        "mi = pd.MultiIndex.from_product([['A', 'B', 'C'], [1, 2, 3, 4]])\n",
        "s  = pd.Series([1, 2, 3, 4, 5, 6, 7, 8, 9, 10, 11, 12], index=mi)\n",
        "\n",
        "# Solution\n",
        "s.index.lexsort_depth == s.index.nlevels"
      ],
      "execution_count": null,
      "outputs": [
        {
          "output_type": "execute_result",
          "data": {
            "text/plain": [
              "True"
            ]
          },
          "metadata": {
            "tags": []
          },
          "execution_count": 12
        }
      ]
    },
    {
      "cell_type": "markdown",
      "metadata": {
        "id": "AjHEXaTK0FsO",
        "colab_type": "text"
      },
      "source": [
        "##Problem 3."
      ]
    },
    {
      "cell_type": "markdown",
      "metadata": {
        "id": "QV2Q275fjvk7",
        "colab_type": "text"
      },
      "source": [
        "**Problem:**\n",
        "Given multiindexed series, select the labels `1` and `3` from the second level.\n",
        "\n",
        "**Possible Input:**\n",
        "```python\n",
        "mi = pd.MultiIndex.from_product([['A', 'B', 'C'], [1, 2, 3, 4]])\n",
        "s  = pd.Series([1, 2, 3, 4, 5, 6, 7, 8, 9, 10, 11, 12], index=mi)\n",
        "```\n",
        "**Expected Output:**\n",
        "```\n",
        "A  1     1\n",
        "   3     3\n",
        "B  1     5\n",
        "   3     7\n",
        "C  1     9\n",
        "   3    11\n",
        "dtype: int64\n",
        "```\n",
        "\n"
      ]
    },
    {
      "cell_type": "code",
      "metadata": {
        "id": "NhWM19A40FsO",
        "colab_type": "code",
        "colab": {}
      },
      "source": [
        "import numpy as np\n",
        "import pandas as pd\n",
        "\n",
        "# Input\n",
        "mi = pd.MultiIndex.from_product([['A', 'B', 'C'], [1, 2, 3, 4]])\n",
        "s  = pd.Series([1, 2, 3, 4, 5, 6, 7, 8, 9, 10, 11, 12], index=mi)\n",
        "\n",
        "# Enter your code here"
      ],
      "execution_count": null,
      "outputs": []
    },
    {
      "cell_type": "markdown",
      "metadata": {
        "id": "2pAvXTgq0FsQ",
        "colab_type": "text"
      },
      "source": [
        "###Solution"
      ]
    },
    {
      "cell_type": "code",
      "metadata": {
        "id": "Sr2A69nA0FsQ",
        "colab_type": "code",
        "colab": {
          "base_uri": "https://localhost:8080/",
          "height": 136
        },
        "outputId": "c5a7bd71-6a2c-48c0-bd81-ed335c5addbd"
      },
      "source": [
        "import numpy as np\n",
        "import pandas as pd\n",
        "\n",
        "# Input\n",
        "mi = pd.MultiIndex.from_product([['A', 'B', 'C'], [1, 2, 3, 4]])\n",
        "s  = pd.Series([1, 2, 3, 4, 5, 6, 7, 8, 9, 10, 11, 12], index=mi)\n",
        "\n",
        "# Solution\n",
        "s.loc[:, [1, 3]]"
      ],
      "execution_count": null,
      "outputs": [
        {
          "output_type": "execute_result",
          "data": {
            "text/plain": [
              "A  1     1\n",
              "   3     3\n",
              "B  1     5\n",
              "   3     7\n",
              "C  1     9\n",
              "   3    11\n",
              "dtype: int64"
            ]
          },
          "metadata": {
            "tags": []
          },
          "execution_count": 14
        }
      ]
    },
    {
      "cell_type": "markdown",
      "metadata": {
        "id": "I2w372e50FsQ",
        "colab_type": "text"
      },
      "source": [
        "##Problem 4."
      ]
    },
    {
      "cell_type": "markdown",
      "metadata": {
        "id": "9_uunM3Qmt-9",
        "colab_type": "text"
      },
      "source": [
        "**Problem:**\n",
        "Given multiindexed series, slice it up to label 'B' for the first indexing level and from the label 2 onwards for the second level.\n",
        "\n",
        "**Possible Input:**\n",
        "```python\n",
        "mi = pd.MultiIndex.from_product([['A', 'B', 'C'], [1, 2, 3, 4]])\n",
        "s  = pd.Series([1, 2, 3, 4, 5, 6, 7, 8, 9, 10, 11, 12], index=mi)\n",
        "\n",
        "```\n",
        "\n",
        "**Expected Output:**\n",
        "```\n",
        "A  2    2\n",
        "   3    3\n",
        "   4    4\n",
        "B  2    6\n",
        "   3    7\n",
        "   4    8\n",
        "dtype: int64\n",
        "```\n",
        "\n"
      ]
    },
    {
      "cell_type": "code",
      "metadata": {
        "id": "BmRHSp7R0FsQ",
        "colab_type": "code",
        "colab": {}
      },
      "source": [
        "import numpy as np\n",
        "import pandas as pd\n",
        "\n",
        "# Input\n",
        "mi = pd.MultiIndex.from_product([['A', 'B', 'C'], [1, 2, 3, 4]])\n",
        "s  = pd.Series([1, 2, 3, 4, 5, 6, 7, 8, 9, 10, 11, 12], index=mi)\n",
        "\n",
        "# Enter your code here"
      ],
      "execution_count": null,
      "outputs": []
    },
    {
      "cell_type": "markdown",
      "metadata": {
        "id": "9NrAVpub0FsR",
        "colab_type": "text"
      },
      "source": [
        "###Solution A:"
      ]
    },
    {
      "cell_type": "code",
      "metadata": {
        "id": "A-yaWMbE0FsR",
        "colab_type": "code",
        "colab": {
          "base_uri": "https://localhost:8080/",
          "height": 136
        },
        "outputId": "2d058370-78d0-481d-d0ba-d84259fcaca0"
      },
      "source": [
        "import numpy as np\n",
        "import pandas as pd\n",
        "\n",
        "# Input\n",
        "mi = pd.MultiIndex.from_product([['A', 'B', 'C'], [1, 2, 3, 4]])\n",
        "s  = pd.Series([1, 2, 3, 4, 5, 6, 7, 8, 9, 10, 11, 12], index=mi)\n",
        "\n",
        "# Solution\n",
        "s.loc[pd.IndexSlice[:'B', 2:]]"
      ],
      "execution_count": null,
      "outputs": [
        {
          "output_type": "execute_result",
          "data": {
            "text/plain": [
              "A  2    2\n",
              "   3    3\n",
              "   4    4\n",
              "B  2    6\n",
              "   3    7\n",
              "   4    8\n",
              "dtype: int64"
            ]
          },
          "metadata": {
            "tags": []
          },
          "execution_count": 19
        }
      ]
    },
    {
      "cell_type": "markdown",
      "metadata": {
        "id": "JPXUDrB-nSTY",
        "colab_type": "text"
      },
      "source": [
        "###Solution B:"
      ]
    },
    {
      "cell_type": "code",
      "metadata": {
        "id": "7zzAqUFkmjet",
        "colab_type": "code",
        "colab": {
          "base_uri": "https://localhost:8080/",
          "height": 136
        },
        "outputId": "0e8865e7-d376-489e-e42c-b212d98b96bb"
      },
      "source": [
        "import numpy as np\n",
        "import pandas as pd\n",
        "\n",
        "# Input\n",
        "mi = pd.MultiIndex.from_product([['A', 'B', 'C'], [1, 2, 3, 4]])\n",
        "s  = pd.Series([1, 2, 3, 4, 5, 6, 7, 8, 9, 10, 11, 12], index=mi)\n",
        "\n",
        "# Solution\n",
        "s.loc[slice(None, 'B'), slice(2, None)]"
      ],
      "execution_count": null,
      "outputs": [
        {
          "output_type": "execute_result",
          "data": {
            "text/plain": [
              "A  2    2\n",
              "   3    3\n",
              "   4    4\n",
              "B  2    6\n",
              "   3    7\n",
              "   4    8\n",
              "dtype: int64"
            ]
          },
          "metadata": {
            "tags": []
          },
          "execution_count": 18
        }
      ]
    },
    {
      "cell_type": "markdown",
      "metadata": {
        "id": "A4mFOYju0FsS",
        "colab_type": "text"
      },
      "source": [
        "##Problem 5."
      ]
    },
    {
      "cell_type": "markdown",
      "metadata": {
        "id": "_hJVfQ1YpxCm",
        "colab_type": "text"
      },
      "source": [
        "**Problem:**\n",
        "Given multiindexed dataframe, sum the values for each label in the first level of indexing.\n",
        "\n",
        "**Possible Input:**\n",
        "```python\n",
        "mi = pd.MultiIndex.from_product([['A', 'B', 'C'], [1, 2, 3, 4]])\n",
        "s  = pd.Series([1, 2, 3, 4, 5, 6, 7, 8, 9, 10, 11, 12], index=mi)\n",
        "```\n",
        "\n",
        "**Expected Output:**\n",
        "```\n",
        "A    10\n",
        "B    26\n",
        "C    42\n",
        "dtype: int64\n",
        "```\n",
        "\n"
      ]
    },
    {
      "cell_type": "code",
      "metadata": {
        "id": "awa15Clw0FsS",
        "colab_type": "code",
        "colab": {}
      },
      "source": [
        "import numpy as np\n",
        "import pandas as pd\n",
        "\n",
        "# Input\n",
        "mi = pd.MultiIndex.from_product([['A', 'B', 'C'], [1, 2, 3, 4]])\n",
        "s  = pd.Series([1, 2, 3, 4, 5, 6, 7, 8, 9, 10, 11, 12], index=mi)\n",
        "\n",
        "# Enter your code here"
      ],
      "execution_count": null,
      "outputs": []
    },
    {
      "cell_type": "markdown",
      "metadata": {
        "id": "IHGql77Z0FsS",
        "colab_type": "text"
      },
      "source": [
        "###Solution"
      ]
    },
    {
      "cell_type": "code",
      "metadata": {
        "id": "jNZja_Sa0FsT",
        "colab_type": "code",
        "colab": {
          "base_uri": "https://localhost:8080/",
          "height": 85
        },
        "outputId": "b7256fd0-28ff-4b05-f15e-f2dcb642c158"
      },
      "source": [
        "import numpy as np\n",
        "import pandas as pd\n",
        "\n",
        "# Input\n",
        "mi = pd.MultiIndex.from_product([['A', 'B', 'C'], [1, 2, 3, 4]])\n",
        "s  = pd.Series([1, 2, 3, 4, 5, 6, 7, 8, 9, 10, 11, 12], index=mi)\n",
        "\n",
        "# Solution\n",
        "s.sum(level=0)"
      ],
      "execution_count": null,
      "outputs": [
        {
          "output_type": "execute_result",
          "data": {
            "text/plain": [
              "A    10\n",
              "B    26\n",
              "C    42\n",
              "dtype: int64"
            ]
          },
          "metadata": {
            "tags": []
          },
          "execution_count": 20
        }
      ]
    },
    {
      "cell_type": "markdown",
      "metadata": {
        "id": "l_khSpOR0FsU",
        "colab_type": "text"
      },
      "source": [
        "##Problem 6."
      ]
    },
    {
      "cell_type": "markdown",
      "metadata": {
        "id": "mIYKIEz8qysn",
        "colab_type": "text"
      },
      "source": [
        "**Problem:**\n",
        "In the previous problem you used `sum(level=0)`.\n",
        "Suppose, the `level` property is inaccessible.\n",
        "Suggest any workaround to calculate `sum(level=0)`.\n",
        "\n",
        "**Possible Input:**\n",
        "```python\n",
        "mi = pd.MultiIndex.from_product([['A', 'B', 'C'], [1, 2, 3, 4]])\n",
        "s  = pd.Series([1, 2, 3, 4, 5, 6, 7, 8, 9, 10, 11, 12], index=mi)\n",
        "```\n",
        "\n",
        "**Expected Output:**\n",
        "```\n",
        "A    10\n",
        "B    26\n",
        "C    42\n",
        "dtype: int64\n",
        "```\n",
        "\n"
      ]
    },
    {
      "cell_type": "code",
      "metadata": {
        "id": "0-78He7W0FsU",
        "colab_type": "code",
        "colab": {}
      },
      "source": [
        "import numpy as np\n",
        "import pandas as pd\n",
        "\n",
        "# Input\n",
        "mi = pd.MultiIndex.from_product([['A', 'B', 'C'], [1, 2, 3, 4]])\n",
        "s  = pd.Series([1, 2, 3, 4, 5, 6, 7, 8, 9, 10, 11, 12], index=mi)\n",
        "\n",
        "# Enter your code here"
      ],
      "execution_count": null,
      "outputs": []
    },
    {
      "cell_type": "markdown",
      "metadata": {
        "id": "MX_3nLSo0FsV",
        "colab_type": "text"
      },
      "source": [
        "###Solution"
      ]
    },
    {
      "cell_type": "code",
      "metadata": {
        "id": "Boj2OttI0FsV",
        "colab_type": "code",
        "colab": {
          "base_uri": "https://localhost:8080/",
          "height": 85
        },
        "outputId": "8181d391-3b04-44d1-b600-ec20216755c3"
      },
      "source": [
        "import numpy as np\n",
        "import pandas as pd\n",
        "\n",
        "# Input\n",
        "mi = pd.MultiIndex.from_product([['A', 'B', 'C'], [1, 2, 3, 4]])\n",
        "s  = pd.Series([1, 2, 3, 4, 5, 6, 7, 8, 9, 10, 11, 12], index=mi)\n",
        "\n",
        "# Solution\n",
        "s.unstack().sum(axis=1)"
      ],
      "execution_count": null,
      "outputs": [
        {
          "output_type": "execute_result",
          "data": {
            "text/plain": [
              "A    10\n",
              "B    26\n",
              "C    42\n",
              "dtype: int64"
            ]
          },
          "metadata": {
            "tags": []
          },
          "execution_count": 24
        }
      ]
    },
    {
      "cell_type": "markdown",
      "metadata": {
        "id": "ScmeDUTj0FsW",
        "colab_type": "text"
      },
      "source": [
        "##Problem 7."
      ]
    },
    {
      "cell_type": "markdown",
      "metadata": {
        "id": "jlKfAc6prvDQ",
        "colab_type": "text"
      },
      "source": [
        "**Problem:**\n",
        "Given double-indexed series, swap the indices.\n",
        "Check the lexicographical order after swapping and sort if needed.\n",
        "\n",
        "**Possible Input:**\n",
        "```python\n",
        "mi = pd.MultiIndex.from_product([['A', 'B', 'C'], [1, 2, 3, 4]])\n",
        "s  = pd.Series([1, 2, 3, 4, 5, 6, 7, 8, 9, 10, 11, 12], index=mi)\n",
        "```\n",
        "\n",
        "\n",
        "\n",
        "**Expected Output:**\n",
        "```\n",
        "1  A     1\n",
        "   B     5\n",
        "   C     9\n",
        "2  A     2\n",
        "   B     6\n",
        "   C    10\n",
        "3  A     3\n",
        "   B     7\n",
        "   C    11\n",
        "4  A     4\n",
        "   B     8\n",
        "   C    12\n",
        "dtype: int64\n",
        "```\n",
        "\n"
      ]
    },
    {
      "cell_type": "code",
      "metadata": {
        "id": "3AK0O7Sq0FsW",
        "colab_type": "code",
        "colab": {}
      },
      "source": [
        "import numpy as np\n",
        "import pandas as pd\n",
        "\n",
        "# Input\n",
        "mi = pd.MultiIndex.from_product([['A', 'B', 'C'], [1, 2, 3, 4]])\n",
        "s  = pd.Series([1, 2, 3, 4, 5, 6, 7, 8, 9, 10, 11, 12], index=mi)\n",
        "\n",
        "# Enter your code here"
      ],
      "execution_count": null,
      "outputs": []
    },
    {
      "cell_type": "markdown",
      "metadata": {
        "id": "d83pWi9S0FsX",
        "colab_type": "text"
      },
      "source": [
        "###Solution"
      ]
    },
    {
      "cell_type": "code",
      "metadata": {
        "id": "6djsscnM0FsX",
        "colab_type": "code",
        "colab": {
          "base_uri": "https://localhost:8080/",
          "height": 238
        },
        "outputId": "2b0d21fe-f99f-45c6-a51d-b2c4663b50d7"
      },
      "source": [
        "import numpy as np\n",
        "import pandas as pd\n",
        "\n",
        "# Input\n",
        "mi = pd.MultiIndex.from_product([['A', 'B', 'C'], [1, 2, 3, 4]])\n",
        "s  = pd.Series([1, 2, 3, 4, 5, 6, 7, 8, 9, 10, 11, 12], index=mi)\n",
        "\n",
        "# Solution\n",
        "new_s = s.swaplevel(0, 1)\n",
        "if not new_s.index.is_lexsorted():\n",
        "  new_s = new_s.sort_index()\n",
        "new_s"
      ],
      "execution_count": null,
      "outputs": [
        {
          "output_type": "execute_result",
          "data": {
            "text/plain": [
              "1  A     1\n",
              "   B     5\n",
              "   C     9\n",
              "2  A     2\n",
              "   B     6\n",
              "   C    10\n",
              "3  A     3\n",
              "   B     7\n",
              "   C    11\n",
              "4  A     4\n",
              "   B     8\n",
              "   C    12\n",
              "dtype: int64"
            ]
          },
          "metadata": {
            "tags": []
          },
          "execution_count": 25
        }
      ]
    },
    {
      "cell_type": "markdown",
      "metadata": {
        "id": "EXdxpcp70FsY",
        "colab_type": "text"
      },
      "source": [
        "# Minesweeper\n",
        "\n",
        "Generate the numbers for safe squares in a Minesweeper grid\n",
        "\n",
        "\n",
        "Difficulty: **medium to hard**"
      ]
    },
    {
      "cell_type": "markdown",
      "metadata": {
        "id": "RwRnIAIxI75A",
        "colab_type": "text"
      },
      "source": [
        "##Problem 1."
      ]
    },
    {
      "cell_type": "markdown",
      "metadata": {
        "id": "J22JempO0FsZ",
        "colab_type": "text"
      },
      "source": [
        "**Problem:**\n",
        "Given width `W` and height `H`,  create multiindexed dataframe that contains randomly distributed zeros and ones.\n",
        "Multiindex should be a cartesian product of indices 0,...,W-1 named `x` and indices 0,...,H-1 named `y`.\n",
        "Column with data should be called `mines`, ensure that probability of finding 1 there is equal to given `prob`.\n",
        "\n",
        "**Possible Input:**\n",
        "```python\n",
        "np.random.seed(0)\n",
        "W = 5\n",
        "H = 5\n",
        "prob = 0.4\n",
        "```\n",
        "\n",
        "**Expected Output:**\n",
        "```\n",
        "\tmine\n",
        "y\t0\t1\t2\t3\t4\n",
        "x\t\t\t\t\t\n",
        "0\t0\t1\t1\t0\t0\n",
        "1\t1\t0\t1\t1\t0\n",
        "2\t1\t0\t0\t1\t0\n",
        "3\t0\t0\t1\t1\t1\n",
        "4\t1\t1\t0\t1\t0\n",
        "```\n",
        "\n",
        "\n"
      ]
    },
    {
      "cell_type": "code",
      "metadata": {
        "id": "kaiminRL0Fsa",
        "colab_type": "code",
        "colab": {}
      },
      "source": [
        "import numpy as np\n",
        "import pandas as pd\n",
        "\n",
        "# Input\n",
        "np.random.seed(0)\n",
        "W = 5\n",
        "H = 5\n",
        "prob = 0.4\n",
        "\n",
        "# Enter your code here\n",
        "\n",
        "# Output\n",
        "df.unstack()"
      ],
      "execution_count": null,
      "outputs": []
    },
    {
      "cell_type": "markdown",
      "metadata": {
        "id": "uS_fqCyS0Fsa",
        "colab_type": "text"
      },
      "source": [
        "###Solution"
      ]
    },
    {
      "cell_type": "code",
      "metadata": {
        "id": "tGttK1BI0Fsa",
        "colab_type": "code",
        "colab": {
          "base_uri": "https://localhost:8080/",
          "height": 266
        },
        "outputId": "37e52c5c-26f9-434c-8a0a-3c5925262baa"
      },
      "source": [
        "import numpy as np\n",
        "import pandas as pd\n",
        "\n",
        "# Input\n",
        "np.random.seed(0)\n",
        "W = 5\n",
        "H = 5\n",
        "prob = 0.4\n",
        "\n",
        "# Solution\n",
        "mi = pd.MultiIndex.from_product([range(W), range(H)], names=['x', 'y'])\n",
        "df = pd.DataFrame({'mine': np.random.binomial(1, prob, W * H)}, index=mi)\n",
        "\n",
        "# Output\n",
        "df.unstack()"
      ],
      "execution_count": null,
      "outputs": [
        {
          "output_type": "execute_result",
          "data": {
            "text/html": [
              "<div>\n",
              "<style scoped>\n",
              "    .dataframe tbody tr th:only-of-type {\n",
              "        vertical-align: middle;\n",
              "    }\n",
              "\n",
              "    .dataframe tbody tr th {\n",
              "        vertical-align: top;\n",
              "    }\n",
              "\n",
              "    .dataframe thead tr th {\n",
              "        text-align: left;\n",
              "    }\n",
              "\n",
              "    .dataframe thead tr:last-of-type th {\n",
              "        text-align: right;\n",
              "    }\n",
              "</style>\n",
              "<table border=\"1\" class=\"dataframe\">\n",
              "  <thead>\n",
              "    <tr>\n",
              "      <th></th>\n",
              "      <th colspan=\"5\" halign=\"left\">mine</th>\n",
              "    </tr>\n",
              "    <tr>\n",
              "      <th>y</th>\n",
              "      <th>0</th>\n",
              "      <th>1</th>\n",
              "      <th>2</th>\n",
              "      <th>3</th>\n",
              "      <th>4</th>\n",
              "    </tr>\n",
              "    <tr>\n",
              "      <th>x</th>\n",
              "      <th></th>\n",
              "      <th></th>\n",
              "      <th></th>\n",
              "      <th></th>\n",
              "      <th></th>\n",
              "    </tr>\n",
              "  </thead>\n",
              "  <tbody>\n",
              "    <tr>\n",
              "      <th>0</th>\n",
              "      <td>0</td>\n",
              "      <td>1</td>\n",
              "      <td>1</td>\n",
              "      <td>0</td>\n",
              "      <td>0</td>\n",
              "    </tr>\n",
              "    <tr>\n",
              "      <th>1</th>\n",
              "      <td>1</td>\n",
              "      <td>0</td>\n",
              "      <td>1</td>\n",
              "      <td>1</td>\n",
              "      <td>0</td>\n",
              "    </tr>\n",
              "    <tr>\n",
              "      <th>2</th>\n",
              "      <td>1</td>\n",
              "      <td>0</td>\n",
              "      <td>0</td>\n",
              "      <td>1</td>\n",
              "      <td>0</td>\n",
              "    </tr>\n",
              "    <tr>\n",
              "      <th>3</th>\n",
              "      <td>0</td>\n",
              "      <td>0</td>\n",
              "      <td>1</td>\n",
              "      <td>1</td>\n",
              "      <td>1</td>\n",
              "    </tr>\n",
              "    <tr>\n",
              "      <th>4</th>\n",
              "      <td>1</td>\n",
              "      <td>1</td>\n",
              "      <td>0</td>\n",
              "      <td>1</td>\n",
              "      <td>0</td>\n",
              "    </tr>\n",
              "  </tbody>\n",
              "</table>\n",
              "</div>"
            ],
            "text/plain": [
              "  mine            \n",
              "y    0  1  2  3  4\n",
              "x                 \n",
              "0    0  1  1  0  0\n",
              "1    1  0  1  1  0\n",
              "2    1  0  0  1  0\n",
              "3    0  0  1  1  1\n",
              "4    1  1  0  1  0"
            ]
          },
          "metadata": {
            "tags": []
          },
          "execution_count": 6
        }
      ]
    },
    {
      "cell_type": "markdown",
      "metadata": {
        "id": "KRRoOFCz0Fsd",
        "colab_type": "text"
      },
      "source": [
        "##Problem 2."
      ]
    },
    {
      "cell_type": "markdown",
      "metadata": {
        "id": "zLLgCAbrdXHE",
        "colab_type": "text"
      },
      "source": [
        "**Problem:**\n",
        "Create a new column `adjacent` and fill it with number of mines found on adjacent squares of the grid.\n",
        "\n",
        "**Note:**\n",
        "You can either create solution from scratch, or use helper function.\n",
        "Provided helper function performs convolution with kernel\n",
        "```\n",
        "1 1 1\n",
        "1 1 1\n",
        "1 1 1\n",
        "```\n",
        "that immediately yields the correct number of adjacents.\n",
        "Your work is to pivot the table so that the function can work on it. \n",
        "\n",
        "**Possible Input:**\n",
        "```python\n",
        "mi = pd.MultiIndex.from_product([[0, 1, 2], [0, 1, 2]], names=['x', 'y'])\n",
        "df = pd.DataFrame({'mine': [1, 0, 0,\n",
        "                            0, 1, 0,\n",
        "                            0, 0, 1]}, index=mi)\n",
        "```\n",
        "\n",
        "**Expected Output:**\n",
        "```\n",
        "\t\tmine\tadjacent\n",
        "x\ty\t\t\n",
        "0\t0\t1\t2\n",
        "     1\t0\t2\n",
        "     2\t0\t1\n",
        "1\t0\t0\t2\n",
        "     1\t1\t3\n",
        "     2\t0\t2\n",
        "2\t0\t0\t1\n",
        "     1\t0\t2\n",
        "     2\t1\t2\n",
        "```\n",
        "\n"
      ]
    },
    {
      "cell_type": "code",
      "metadata": {
        "id": "Eb01N2QV0Fsd",
        "colab_type": "code",
        "colab": {
          "base_uri": "https://localhost:8080/",
          "height": 359
        },
        "outputId": "b76bda20-da3e-42a5-c5b9-65c318849e24"
      },
      "source": [
        "import numpy as np\n",
        "import pandas as pd\n",
        "\n",
        "# Helper function, you are free to use it or not\n",
        "def get_adjacents(grid):\n",
        "  from scipy.signal import convolve2d\n",
        "  kernel = np.ones((3, 3))\n",
        "  grd = grid.astype(complex)\n",
        "  return convolve2d(grd, kernel, mode='same').real.astype(int).flatten('C')\n",
        "\n",
        "# Input\n",
        "mi = pd.MultiIndex.from_product([[0, 1, 2], [0, 1, 2]], names=['x', 'y'])\n",
        "df = pd.DataFrame({'mine': [1, 0, 0,\n",
        "                            0, 1, 0,\n",
        "                            0, 0, 1]}, index=mi)\n",
        "\n",
        "# Enter your code here\n",
        "\n",
        "# Output\n",
        "df"
      ],
      "execution_count": null,
      "outputs": [
        {
          "output_type": "execute_result",
          "data": {
            "text/html": [
              "<div>\n",
              "<style scoped>\n",
              "    .dataframe tbody tr th:only-of-type {\n",
              "        vertical-align: middle;\n",
              "    }\n",
              "\n",
              "    .dataframe tbody tr th {\n",
              "        vertical-align: top;\n",
              "    }\n",
              "\n",
              "    .dataframe thead th {\n",
              "        text-align: right;\n",
              "    }\n",
              "</style>\n",
              "<table border=\"1\" class=\"dataframe\">\n",
              "  <thead>\n",
              "    <tr style=\"text-align: right;\">\n",
              "      <th></th>\n",
              "      <th></th>\n",
              "      <th>mine</th>\n",
              "    </tr>\n",
              "    <tr>\n",
              "      <th>x</th>\n",
              "      <th>y</th>\n",
              "      <th></th>\n",
              "    </tr>\n",
              "  </thead>\n",
              "  <tbody>\n",
              "    <tr>\n",
              "      <th rowspan=\"3\" valign=\"top\">0</th>\n",
              "      <th>0</th>\n",
              "      <td>1</td>\n",
              "    </tr>\n",
              "    <tr>\n",
              "      <th>1</th>\n",
              "      <td>0</td>\n",
              "    </tr>\n",
              "    <tr>\n",
              "      <th>2</th>\n",
              "      <td>0</td>\n",
              "    </tr>\n",
              "    <tr>\n",
              "      <th rowspan=\"3\" valign=\"top\">1</th>\n",
              "      <th>0</th>\n",
              "      <td>0</td>\n",
              "    </tr>\n",
              "    <tr>\n",
              "      <th>1</th>\n",
              "      <td>1</td>\n",
              "    </tr>\n",
              "    <tr>\n",
              "      <th>2</th>\n",
              "      <td>0</td>\n",
              "    </tr>\n",
              "    <tr>\n",
              "      <th rowspan=\"3\" valign=\"top\">2</th>\n",
              "      <th>0</th>\n",
              "      <td>0</td>\n",
              "    </tr>\n",
              "    <tr>\n",
              "      <th>1</th>\n",
              "      <td>0</td>\n",
              "    </tr>\n",
              "    <tr>\n",
              "      <th>2</th>\n",
              "      <td>1</td>\n",
              "    </tr>\n",
              "  </tbody>\n",
              "</table>\n",
              "</div>"
            ],
            "text/plain": [
              "     mine\n",
              "x y      \n",
              "0 0     1\n",
              "  1     0\n",
              "  2     0\n",
              "1 0     0\n",
              "  1     1\n",
              "  2     0\n",
              "2 0     0\n",
              "  1     0\n",
              "  2     1"
            ]
          },
          "metadata": {
            "tags": []
          },
          "execution_count": 7
        }
      ]
    },
    {
      "cell_type": "markdown",
      "metadata": {
        "id": "Fv6feLBN0Fse",
        "colab_type": "text"
      },
      "source": [
        "###Solution"
      ]
    },
    {
      "cell_type": "code",
      "metadata": {
        "id": "YetpEW8f0Fse",
        "colab_type": "code",
        "colab": {
          "base_uri": "https://localhost:8080/",
          "height": 359
        },
        "outputId": "58e1a6a1-cc1e-434f-c1c3-9e854502cf3f"
      },
      "source": [
        "import numpy as np\n",
        "import pandas as pd\n",
        "\n",
        "# Helper function, you are free to use it or not\n",
        "def get_adjacents(grid):\n",
        "  from scipy.signal import convolve2d\n",
        "  kernel = np.ones((3, 3))\n",
        "  grd = grid.astype(complex)\n",
        "  return convolve2d(grd, kernel, mode='same').real.astype(int).flatten('F')\n",
        "\n",
        "# Input\n",
        "mi = pd.MultiIndex.from_product([[0, 1, 2], [0, 1, 2]], names=['x', 'y'])\n",
        "df = pd.DataFrame({'mine': [1, 0, 0,\n",
        "                            0, 1, 0,\n",
        "                            0, 0, 1]}, index=mi)\n",
        "\n",
        "# Solution\n",
        "mine_grid = df.pivot_table(columns='x', index='y', values='mine')\n",
        "df['adjacent'] = get_adjacents(mine_grid)\n",
        "\n",
        "# Output\n",
        "df"
      ],
      "execution_count": null,
      "outputs": [
        {
          "output_type": "execute_result",
          "data": {
            "text/html": [
              "<div>\n",
              "<style scoped>\n",
              "    .dataframe tbody tr th:only-of-type {\n",
              "        vertical-align: middle;\n",
              "    }\n",
              "\n",
              "    .dataframe tbody tr th {\n",
              "        vertical-align: top;\n",
              "    }\n",
              "\n",
              "    .dataframe thead th {\n",
              "        text-align: right;\n",
              "    }\n",
              "</style>\n",
              "<table border=\"1\" class=\"dataframe\">\n",
              "  <thead>\n",
              "    <tr style=\"text-align: right;\">\n",
              "      <th></th>\n",
              "      <th></th>\n",
              "      <th>mine</th>\n",
              "      <th>adjacent</th>\n",
              "    </tr>\n",
              "    <tr>\n",
              "      <th>x</th>\n",
              "      <th>y</th>\n",
              "      <th></th>\n",
              "      <th></th>\n",
              "    </tr>\n",
              "  </thead>\n",
              "  <tbody>\n",
              "    <tr>\n",
              "      <th rowspan=\"3\" valign=\"top\">0</th>\n",
              "      <th>0</th>\n",
              "      <td>1</td>\n",
              "      <td>2</td>\n",
              "    </tr>\n",
              "    <tr>\n",
              "      <th>1</th>\n",
              "      <td>0</td>\n",
              "      <td>2</td>\n",
              "    </tr>\n",
              "    <tr>\n",
              "      <th>2</th>\n",
              "      <td>0</td>\n",
              "      <td>1</td>\n",
              "    </tr>\n",
              "    <tr>\n",
              "      <th rowspan=\"3\" valign=\"top\">1</th>\n",
              "      <th>0</th>\n",
              "      <td>0</td>\n",
              "      <td>2</td>\n",
              "    </tr>\n",
              "    <tr>\n",
              "      <th>1</th>\n",
              "      <td>1</td>\n",
              "      <td>3</td>\n",
              "    </tr>\n",
              "    <tr>\n",
              "      <th>2</th>\n",
              "      <td>0</td>\n",
              "      <td>2</td>\n",
              "    </tr>\n",
              "    <tr>\n",
              "      <th rowspan=\"3\" valign=\"top\">2</th>\n",
              "      <th>0</th>\n",
              "      <td>0</td>\n",
              "      <td>1</td>\n",
              "    </tr>\n",
              "    <tr>\n",
              "      <th>1</th>\n",
              "      <td>0</td>\n",
              "      <td>2</td>\n",
              "    </tr>\n",
              "    <tr>\n",
              "      <th>2</th>\n",
              "      <td>1</td>\n",
              "      <td>2</td>\n",
              "    </tr>\n",
              "  </tbody>\n",
              "</table>\n",
              "</div>"
            ],
            "text/plain": [
              "     mine  adjacent\n",
              "x y                \n",
              "0 0     1         2\n",
              "  1     0         2\n",
              "  2     0         1\n",
              "1 0     0         2\n",
              "  1     1         3\n",
              "  2     0         2\n",
              "2 0     0         1\n",
              "  1     0         2\n",
              "  2     1         2"
            ]
          },
          "metadata": {
            "tags": []
          },
          "execution_count": 6
        }
      ]
    },
    {
      "cell_type": "markdown",
      "metadata": {
        "id": "o413snSL0Fse",
        "colab_type": "text"
      },
      "source": [
        "##Problem 3."
      ]
    },
    {
      "cell_type": "markdown",
      "metadata": {
        "id": "_vOf6ZIbfTY6",
        "colab_type": "text"
      },
      "source": [
        "**Problem:**\n",
        "For rows of the DataFrame that contain a mine, set the value in the\n",
        "`adjacent` column to NaN.\n",
        "\n",
        "**Possible Input:**\n",
        "```python\n",
        "mi = pd.MultiIndex.from_product([[0, 1, 2], [0, 1, 2]], names=['x', 'y'])\n",
        "df = pd.DataFrame({'mine': [1, 0, 0,\n",
        "                            0, 1, 0,\n",
        "                            0, 0, 1],\n",
        "               'adjacent': [2, 2, 1,\n",
        "                            2, 3, 2,\n",
        "                            1, 2, 2]}, index=mi)\n",
        "```\n",
        "\n",
        "**Expected Output:**\n",
        "```\n",
        "\t\tmine\tadjacent\n",
        "x\ty\t\t\n",
        "0\t0\t1\tNaN\n",
        "     1\t0\t2.0\n",
        "     2\t0\t1.0\n",
        "1\t0\t0\t2.0\n",
        "     1\t1\tNaN\n",
        "     2\t0\t2.0\n",
        "2\t0\t0\t1.0\n",
        "     1\t0\t2.0\n",
        "     2\t1\tNaN\n",
        "```\n",
        "\n",
        "\n"
      ]
    },
    {
      "cell_type": "code",
      "metadata": {
        "id": "G0Di_Jtr0Fse",
        "colab_type": "code",
        "colab": {}
      },
      "source": [
        "import numpy as np\n",
        "import pandas as pd\n",
        "\n",
        "# Input\n",
        "mi = pd.MultiIndex.from_product([[0, 1, 2], [0, 1, 2]], names=['x', 'y'])\n",
        "df = pd.DataFrame({'mine': [1, 0, 0,\n",
        "                            0, 1, 0,\n",
        "                            0, 0, 1],\n",
        "               'adjacent': [2, 2, 1,\n",
        "                            2, 3, 2,\n",
        "                            1, 2, 2]}, index=mi)\n",
        "\n",
        "# Enter your code here\n",
        "\n",
        "# Output\n",
        "df"
      ],
      "execution_count": null,
      "outputs": []
    },
    {
      "cell_type": "markdown",
      "metadata": {
        "id": "gE8XAjAj0Fsf",
        "colab_type": "text"
      },
      "source": [
        "###Solution"
      ]
    },
    {
      "cell_type": "code",
      "metadata": {
        "id": "vkBty1-Y0Fsf",
        "colab_type": "code",
        "colab": {
          "base_uri": "https://localhost:8080/",
          "height": 359
        },
        "outputId": "3ed84515-e166-46b4-c152-db8efb46f3fc"
      },
      "source": [
        "import numpy as np\n",
        "import pandas as pd\n",
        "\n",
        "# Input\n",
        "mi = pd.MultiIndex.from_product([[0, 1, 2], [0, 1, 2]], names=['x', 'y'])\n",
        "df = pd.DataFrame({'mine': [1, 0, 0,\n",
        "                            0, 1, 0,\n",
        "                            0, 0, 1],\n",
        "               'adjacent': [2, 2, 1,\n",
        "                            2, 3, 2,\n",
        "                            1, 2, 2]}, index=mi)\n",
        "\n",
        "# Solution\n",
        "df.loc[df['mine'] == 1, 'adjacent'] = np.nan\n",
        "\n",
        "# Output\n",
        "df"
      ],
      "execution_count": null,
      "outputs": [
        {
          "output_type": "execute_result",
          "data": {
            "text/html": [
              "<div>\n",
              "<style scoped>\n",
              "    .dataframe tbody tr th:only-of-type {\n",
              "        vertical-align: middle;\n",
              "    }\n",
              "\n",
              "    .dataframe tbody tr th {\n",
              "        vertical-align: top;\n",
              "    }\n",
              "\n",
              "    .dataframe thead th {\n",
              "        text-align: right;\n",
              "    }\n",
              "</style>\n",
              "<table border=\"1\" class=\"dataframe\">\n",
              "  <thead>\n",
              "    <tr style=\"text-align: right;\">\n",
              "      <th></th>\n",
              "      <th></th>\n",
              "      <th>mine</th>\n",
              "      <th>adjacent</th>\n",
              "    </tr>\n",
              "    <tr>\n",
              "      <th>x</th>\n",
              "      <th>y</th>\n",
              "      <th></th>\n",
              "      <th></th>\n",
              "    </tr>\n",
              "  </thead>\n",
              "  <tbody>\n",
              "    <tr>\n",
              "      <th rowspan=\"3\" valign=\"top\">0</th>\n",
              "      <th>0</th>\n",
              "      <td>1</td>\n",
              "      <td>NaN</td>\n",
              "    </tr>\n",
              "    <tr>\n",
              "      <th>1</th>\n",
              "      <td>0</td>\n",
              "      <td>2.0</td>\n",
              "    </tr>\n",
              "    <tr>\n",
              "      <th>2</th>\n",
              "      <td>0</td>\n",
              "      <td>1.0</td>\n",
              "    </tr>\n",
              "    <tr>\n",
              "      <th rowspan=\"3\" valign=\"top\">1</th>\n",
              "      <th>0</th>\n",
              "      <td>0</td>\n",
              "      <td>2.0</td>\n",
              "    </tr>\n",
              "    <tr>\n",
              "      <th>1</th>\n",
              "      <td>1</td>\n",
              "      <td>NaN</td>\n",
              "    </tr>\n",
              "    <tr>\n",
              "      <th>2</th>\n",
              "      <td>0</td>\n",
              "      <td>2.0</td>\n",
              "    </tr>\n",
              "    <tr>\n",
              "      <th rowspan=\"3\" valign=\"top\">2</th>\n",
              "      <th>0</th>\n",
              "      <td>0</td>\n",
              "      <td>1.0</td>\n",
              "    </tr>\n",
              "    <tr>\n",
              "      <th>1</th>\n",
              "      <td>0</td>\n",
              "      <td>2.0</td>\n",
              "    </tr>\n",
              "    <tr>\n",
              "      <th>2</th>\n",
              "      <td>1</td>\n",
              "      <td>NaN</td>\n",
              "    </tr>\n",
              "  </tbody>\n",
              "</table>\n",
              "</div>"
            ],
            "text/plain": [
              "     mine  adjacent\n",
              "x y                \n",
              "0 0     1       NaN\n",
              "  1     0       2.0\n",
              "  2     0       1.0\n",
              "1 0     0       2.0\n",
              "  1     1       NaN\n",
              "  2     0       2.0\n",
              "2 0     0       1.0\n",
              "  1     0       2.0\n",
              "  2     1       NaN"
            ]
          },
          "metadata": {
            "tags": []
          },
          "execution_count": 50
        }
      ]
    },
    {
      "cell_type": "markdown",
      "metadata": {
        "id": "pq0nPyYj0Fsg",
        "colab_type": "text"
      },
      "source": [
        "##Problem 4."
      ]
    },
    {
      "cell_type": "markdown",
      "metadata": {
        "id": "-IYJRgzajNiB",
        "colab_type": "text"
      },
      "source": [
        "**Problem:**\n",
        "Convert the DataFrame given to grid of the adjacent mine counts ---\n",
        "columns should correspond to the `x` coordinate, while rows to the `y`.\n",
        "\n",
        "**Possible Input:**\n"
      ]
    },
    {
      "cell_type": "code",
      "metadata": {
        "id": "UWKWoGmy0Fsg",
        "colab_type": "code",
        "colab": {}
      },
      "source": [
        "import numpy as np\n",
        "import pandas as pd\n",
        "\n",
        "# Input\n",
        "mi = pd.MultiIndex.from_product([[0, 1, 2], [0, 1, 2]], names=['x', 'y'])\n",
        "df = pd.DataFrame({'mine': [1, 0, 0,\n",
        "                            0, 1, 0,\n",
        "                            0, 0, 1],\n",
        "               'adjacent': [np.nan, 2,      1,\n",
        "                            2,      np.nan, 2,\n",
        "                            1,      2,      np.nan]}, index=mi)\n",
        "\n",
        "# Enter your code here"
      ],
      "execution_count": null,
      "outputs": []
    },
    {
      "cell_type": "markdown",
      "metadata": {
        "id": "pDmP9_UK0Fsg",
        "colab_type": "text"
      },
      "source": [
        "###Solution"
      ]
    },
    {
      "cell_type": "code",
      "metadata": {
        "id": "rb92mdJZ0Fsg",
        "colab_type": "code",
        "colab": {
          "base_uri": "https://localhost:8080/",
          "height": 204
        },
        "outputId": "3a05cfbf-2505-4b78-bdd7-778f26664b1f"
      },
      "source": [
        "import numpy as np\n",
        "import pandas as pd\n",
        "\n",
        "# Input\n",
        "mi = pd.MultiIndex.from_product([[0, 1, 2], [0, 1, 2]], names=['x', 'y'])\n",
        "df = pd.DataFrame({'mine': [1, 0, 0,\n",
        "                            0, 1, 0,\n",
        "                            0, 0, 1],\n",
        "               'adjacent': [np.nan, 2,      1,\n",
        "                            2,      np.nan, 2,\n",
        "                            1,      2,      np.nan]}, index=mi)\n",
        "\n",
        "# Solution\n",
        "df = df.drop('mine', axis=1).unstack()\n",
        "\n",
        "# Output\n",
        "df"
      ],
      "execution_count": null,
      "outputs": [
        {
          "output_type": "execute_result",
          "data": {
            "text/html": [
              "<div>\n",
              "<style scoped>\n",
              "    .dataframe tbody tr th:only-of-type {\n",
              "        vertical-align: middle;\n",
              "    }\n",
              "\n",
              "    .dataframe tbody tr th {\n",
              "        vertical-align: top;\n",
              "    }\n",
              "\n",
              "    .dataframe thead tr th {\n",
              "        text-align: left;\n",
              "    }\n",
              "\n",
              "    .dataframe thead tr:last-of-type th {\n",
              "        text-align: right;\n",
              "    }\n",
              "</style>\n",
              "<table border=\"1\" class=\"dataframe\">\n",
              "  <thead>\n",
              "    <tr>\n",
              "      <th></th>\n",
              "      <th colspan=\"3\" halign=\"left\">adjacent</th>\n",
              "    </tr>\n",
              "    <tr>\n",
              "      <th>y</th>\n",
              "      <th>0</th>\n",
              "      <th>1</th>\n",
              "      <th>2</th>\n",
              "    </tr>\n",
              "    <tr>\n",
              "      <th>x</th>\n",
              "      <th></th>\n",
              "      <th></th>\n",
              "      <th></th>\n",
              "    </tr>\n",
              "  </thead>\n",
              "  <tbody>\n",
              "    <tr>\n",
              "      <th>0</th>\n",
              "      <td>NaN</td>\n",
              "      <td>2.0</td>\n",
              "      <td>1.0</td>\n",
              "    </tr>\n",
              "    <tr>\n",
              "      <th>1</th>\n",
              "      <td>2.0</td>\n",
              "      <td>NaN</td>\n",
              "      <td>2.0</td>\n",
              "    </tr>\n",
              "    <tr>\n",
              "      <th>2</th>\n",
              "      <td>1.0</td>\n",
              "      <td>2.0</td>\n",
              "      <td>NaN</td>\n",
              "    </tr>\n",
              "  </tbody>\n",
              "</table>\n",
              "</div>"
            ],
            "text/plain": [
              "  adjacent          \n",
              "y        0    1    2\n",
              "x                   \n",
              "0      NaN  2.0  1.0\n",
              "1      2.0  NaN  2.0\n",
              "2      1.0  2.0  NaN"
            ]
          },
          "metadata": {
            "tags": []
          },
          "execution_count": 48
        }
      ]
    },
    {
      "cell_type": "markdown",
      "metadata": {
        "id": "jDlNNbCBvbE3",
        "colab_type": "text"
      },
      "source": [
        "##Final Result"
      ]
    },
    {
      "cell_type": "markdown",
      "metadata": {
        "id": "xZA_OsUuvBul",
        "colab_type": "text"
      },
      "source": [
        "**Problem:**\n",
        "Collect all your previous solutions and put them in a marked places.\n",
        "Observe the result of visualzation."
      ]
    },
    {
      "cell_type": "code",
      "metadata": {
        "id": "Te7Az0M7u1sI",
        "colab_type": "code",
        "colab": {}
      },
      "source": [
        "import numpy as np\n",
        "import pandas as pd\n",
        "\n",
        "# Helper function, you are free to use it or not\n",
        "def get_adjacents(grid):\n",
        "  from scipy.signal import convolve2d\n",
        "  kernel = np.ones((3, 3))\n",
        "  grd = grid.astype(complex)\n",
        "  return convolve2d(grd, kernel, mode='same').real.astype(int).flatten('F')\n",
        "\n",
        "# Input\n",
        "np.random.seed(0)\n",
        "W = 10\n",
        "H = 10\n",
        "prob = 0.1\n",
        "\n",
        "\n",
        "# Put solution to problem 1 here\n",
        "\n",
        "# Put solution to problem 2 here\n",
        "\n",
        "# Put solution to problem 3 here\n",
        "\n",
        "# Put solution to problem 4 here\n",
        "\n",
        "\n",
        "############### Output ###################\n",
        "mines = df.values \n",
        "\n",
        "style_str = '''\n",
        "<style>\n",
        "   div.general { \n",
        "    font-size: 120%; \n",
        "    font-family: Verdana, Arial, Helvetica, sans-serif; \n",
        "    color: #333366; \n",
        "    width:  30px;\n",
        "    height: 30px;\n",
        "    cursor: default;\n",
        "    vertical-align: middle;\n",
        "    text-align: center;\n",
        "   }\n",
        "   div.closed { \n",
        "    background-color: RGB(50, 0, 50);\n",
        "   }\n",
        "   div.open { \n",
        "    background-color: RGB(255, 255, 255);\n",
        "   }\n",
        "</style>\\n\\n\n",
        "'''\n",
        "\n",
        "\n",
        "import IPython\n",
        "from google.colab import output\n",
        "\n",
        "def generate_grid_html(fld):\n",
        "  w, h = fld.shape\n",
        "  s = style_str\n",
        "  s += '<table>\\n'\n",
        "  for y in range(h):\n",
        "    s += '\\t<tr>\\n'\n",
        "    for x in range(w):\n",
        "      s += '\\t\\t<td>'\n",
        "      if fld[y, x] < 0.0:\n",
        "        s += '<div class=\\\"general closed\\\"'\n",
        "        s += 'onclick=\\\"google.colab.kernel.invokeFunction(\\'notebook.FieldClick\\', ['\n",
        "        s += str(x) + ',' + str(y) \n",
        "        s += ' ], {})\\\"></div>'\n",
        "      elif np.isnan(fld[y, x]):\n",
        "        s += '<div class=\\\"general open\\\">'\n",
        "        s += '*'\n",
        "        s += '</div>'        \n",
        "      else:\n",
        "        s += '<div class=\\\"general open\\\">'\n",
        "        s += str(int(fld[y, x])) \n",
        "        s += '</div>'\n",
        "      s += '</td>\\n'\n",
        "    s += '\\t</tr>\\n'\n",
        "  s += '</table>'\n",
        "  return s\n",
        "  \n",
        "field = np.repeat(-1.0, mines.size).reshape(mines.shape)\n",
        "display(IPython.display.HTML(generate_grid_html(field)))\n",
        "\n",
        "def recursive_open(mines, x, y, mask):\n",
        "  w, h = mines.shape\n",
        "  x = np.clip(x, 0, w - 1)\n",
        "  y = np.clip(y, 0, h - 1)\n",
        "  if mask[y,x] == 1 or np.isnan(mines[y,x]):\n",
        "    return\n",
        "  mask[y,x] = 1\n",
        "  if mines[y,x] > 0:\n",
        "    return\n",
        "  for dx in [-1, 0, 1]:\n",
        "    for dy in [-1, 0, 1]:\n",
        "      recursive_open(mines, x + dx, y + dy, mask)\n",
        "\n",
        "def field_click(x, y):\n",
        "  global field\n",
        "  global mines\n",
        "  if np.isnan(mines[y][x]):\n",
        "    field = mines\n",
        "  opened = np.repeat(0, mines.size).reshape(mines.shape)\n",
        "  recursive_open(mines, x, y, opened)\n",
        "  field[opened == 1] = mines[opened == 1]\n",
        "  output.clear(wait=False)\n",
        "  display(IPython.display.HTML(generate_grid_html(field)))\n",
        "  if np.isnan(mines[y,x]):\n",
        "    print(\"BOOM!!\")\n",
        "  elif np.sum(field > -1.0) == np.count_nonzero(~np.isnan(mines)):\n",
        "    print(\"WINNER!!!\")\n",
        "  else:\n",
        "    print(\"Total mines: \", np.count_nonzero(np.isnan(mines)))\n",
        "    \n",
        "    \n",
        "output.register_callback('notebook.FieldClick', field_click)"
      ],
      "execution_count": null,
      "outputs": []
    },
    {
      "cell_type": "markdown",
      "metadata": {
        "id": "-fhQiDSJvPyx",
        "colab_type": "text"
      },
      "source": [
        "###Solution"
      ]
    },
    {
      "cell_type": "code",
      "metadata": {
        "id": "XXebwL3RLFyZ",
        "colab_type": "code",
        "colab": {
          "base_uri": "https://localhost:8080/",
          "height": 376
        },
        "outputId": "874f77d5-3b06-4ba8-d755-3a9b308bddc1"
      },
      "source": [
        "import numpy as np\n",
        "import pandas as pd\n",
        "\n",
        "# Helper function, you are free to use it or not\n",
        "def get_adjacents(grid):\n",
        "  from scipy.signal import convolve2d\n",
        "  kernel = np.ones((3, 3))\n",
        "  grd = grid.astype(complex)\n",
        "  return convolve2d(grd, kernel, mode='same').real.astype(int).flatten('F')\n",
        "\n",
        "# Input\n",
        "np.random.seed(0)\n",
        "W = 10\n",
        "H = 10\n",
        "prob = 0.1\n",
        "\n",
        "# Put solution to problem 1 here\n",
        "mi = pd.MultiIndex.from_product([range(W), range(H)], names=['x', 'y'])\n",
        "df = pd.DataFrame({'mine': np.random.binomial(1, prob, W * H)}, index=mi)\n",
        "\n",
        "# Put solution to problem 2 here\n",
        "mine_grid = df.pivot_table(columns='x', index='y', values='mine')\n",
        "df['adjacent'] = get_adjacents(mine_grid)\n",
        "\n",
        "# Put solution to problem 3 here\n",
        "df.loc[df['mine'] == 1, 'adjacent'] = np.nan\n",
        "\n",
        "# Put solution to problem 4 here\n",
        "df = df.drop('mine', axis=1).unstack()\n",
        "\n",
        "############### Output ###################\n",
        "mines = df.values \n",
        "\n",
        "style_str = '''\n",
        "<style>\n",
        "   div.general { \n",
        "    font-size: 120%; \n",
        "    font-family: Verdana, Arial, Helvetica, sans-serif; \n",
        "    color: #333366; \n",
        "    width:  30px;\n",
        "    height: 30px;\n",
        "    cursor: default;\n",
        "    vertical-align: middle;\n",
        "    text-align: center;\n",
        "   }\n",
        "   div.closed { \n",
        "    background-color: RGB(50, 0, 50);\n",
        "   }\n",
        "   div.open { \n",
        "    background-color: RGB(255, 255, 255);\n",
        "   }\n",
        "</style>\\n\\n\n",
        "'''\n",
        "\n",
        "\n",
        "import IPython\n",
        "from google.colab import output\n",
        "\n",
        "def generate_grid_html(fld):\n",
        "  w, h = fld.shape\n",
        "  s = style_str\n",
        "  s += '<table>\\n'\n",
        "  for y in range(h):\n",
        "    s += '\\t<tr>\\n'\n",
        "    for x in range(w):\n",
        "      s += '\\t\\t<td>'\n",
        "      if fld[y, x] < 0.0:\n",
        "        s += '<div class=\\\"general closed\\\"'\n",
        "        s += 'onclick=\\\"google.colab.kernel.invokeFunction(\\'notebook.FieldClick\\', ['\n",
        "        s += str(x) + ',' + str(y) \n",
        "        s += ' ], {})\\\"></div>'\n",
        "      elif np.isnan(fld[y, x]):\n",
        "        s += '<div class=\\\"general open\\\">'\n",
        "        s += '*'\n",
        "        s += '</div>'        \n",
        "      else:\n",
        "        s += '<div class=\\\"general open\\\">'\n",
        "        s += str(int(fld[y, x])) \n",
        "        s += '</div>'\n",
        "      s += '</td>\\n'\n",
        "    s += '\\t</tr>\\n'\n",
        "  s += '</table>'\n",
        "  return s\n",
        "  \n",
        "field = np.repeat(-1.0, mines.size).reshape(mines.shape)\n",
        "display(IPython.display.HTML(generate_grid_html(field)))\n",
        "\n",
        "def recursive_open(mines, x, y, mask):\n",
        "  w, h = mines.shape\n",
        "  x = np.clip(x, 0, w - 1)\n",
        "  y = np.clip(y, 0, h - 1)\n",
        "  if mask[y,x] == 1 or np.isnan(mines[y,x]):\n",
        "    return\n",
        "  mask[y,x] = 1\n",
        "  if mines[y,x] > 0:\n",
        "    return\n",
        "  for dx in [-1, 0, 1]:\n",
        "    for dy in [-1, 0, 1]:\n",
        "      recursive_open(mines, x + dx, y + dy, mask)\n",
        "\n",
        "def field_click(x, y):\n",
        "  global field\n",
        "  global mines\n",
        "  if np.isnan(mines[y][x]):\n",
        "    field = mines\n",
        "  opened = np.repeat(0, mines.size).reshape(mines.shape)\n",
        "  recursive_open(mines, x, y, opened)\n",
        "  field[opened == 1] = mines[opened == 1]\n",
        "  output.clear(wait=False)\n",
        "  display(IPython.display.HTML(generate_grid_html(field)))\n",
        "  if np.isnan(mines[y,x]):\n",
        "    print(\"BOOM!!\")\n",
        "  elif np.sum(field > -1.0) == np.count_nonzero(~np.isnan(mines)):\n",
        "    print(\"WINNER!!!\")\n",
        "  else:\n",
        "    print(\"Total mines: \", np.count_nonzero(np.isnan(mines)))\n",
        "    \n",
        "    \n",
        "output.register_callback('notebook.FieldClick', field_click)"
      ],
      "execution_count": null,
      "outputs": [
        {
          "output_type": "display_data",
          "data": {
            "text/html": [
              "\n",
              "<style>\n",
              "   div.general { \n",
              "    font-size: 120%; \n",
              "    font-family: Verdana, Arial, Helvetica, sans-serif; \n",
              "    color: #333366; \n",
              "    width:  30px;\n",
              "    height: 30px;\n",
              "    cursor: default;\n",
              "    vertical-align: middle;\n",
              "    text-align: center;\n",
              "   }\n",
              "   div.closed { \n",
              "    background-color: RGB(50, 0, 50);\n",
              "   }\n",
              "   div.open { \n",
              "    background-color: RGB(255, 255, 255);\n",
              "   }\n",
              "</style>\n",
              "\n",
              "\n",
              "<table>\n",
              "\t<tr>\n",
              "\t\t<td><div class=\"general open\">0</div></td>\n",
              "\t\t<td><div class=\"general open\">0</div></td>\n",
              "\t\t<td><div class=\"general open\">1</div></td>\n",
              "\t\t<td><div class=\"general open\">1</div></td>\n",
              "\t\t<td><div class=\"general open\">1</div></td>\n",
              "\t\t<td><div class=\"general open\">0</div></td>\n",
              "\t\t<td><div class=\"general open\">0</div></td>\n",
              "\t\t<td><div class=\"general open\">1</div></td>\n",
              "\t\t<td><div class=\"general open\">*</div></td>\n",
              "\t\t<td><div class=\"general open\">1</div></td>\n",
              "\t</tr>\n",
              "\t<tr>\n",
              "\t\t<td><div class=\"general open\">1</div></td>\n",
              "\t\t<td><div class=\"general open\">1</div></td>\n",
              "\t\t<td><div class=\"general open\">1</div></td>\n",
              "\t\t<td><div class=\"general open\">*</div></td>\n",
              "\t\t<td><div class=\"general open\">1</div></td>\n",
              "\t\t<td><div class=\"general open\">0</div></td>\n",
              "\t\t<td><div class=\"general open\">1</div></td>\n",
              "\t\t<td><div class=\"general open\">2</div></td>\n",
              "\t\t<td><div class=\"general open\">2</div></td>\n",
              "\t\t<td><div class=\"general open\">1</div></td>\n",
              "\t</tr>\n",
              "\t<tr>\n",
              "\t\t<td><div class=\"general open\">*</div></td>\n",
              "\t\t<td><div class=\"general open\">1</div></td>\n",
              "\t\t<td><div class=\"general open\">1</div></td>\n",
              "\t\t<td><div class=\"general open\">1</div></td>\n",
              "\t\t<td><div class=\"general open\">1</div></td>\n",
              "\t\t<td><div class=\"general open\">0</div></td>\n",
              "\t\t<td><div class=\"general open\">1</div></td>\n",
              "\t\t<td><div class=\"general open\">*</div></td>\n",
              "\t\t<td><div class=\"general open\">2</div></td>\n",
              "\t\t<td><div class=\"general open\">1</div></td>\n",
              "\t</tr>\n",
              "\t<tr>\n",
              "\t\t<td><div class=\"general open\">1</div></td>\n",
              "\t\t<td><div class=\"general open\">1</div></td>\n",
              "\t\t<td><div class=\"general open\">0</div></td>\n",
              "\t\t<td><div class=\"general open\">0</div></td>\n",
              "\t\t<td><div class=\"general open\">0</div></td>\n",
              "\t\t<td><div class=\"general open\">0</div></td>\n",
              "\t\t<td><div class=\"general open\">1</div></td>\n",
              "\t\t<td><div class=\"general open\">2</div></td>\n",
              "\t\t<td><div class=\"general open\">*</div></td>\n",
              "\t\t<td><div class=\"general open\">1</div></td>\n",
              "\t</tr>\n",
              "\t<tr>\n",
              "\t\t<td><div class=\"general open\">0</div></td>\n",
              "\t\t<td><div class=\"general open\">1</div></td>\n",
              "\t\t<td><div class=\"general open\">1</div></td>\n",
              "\t\t<td><div class=\"general open\">1</div></td>\n",
              "\t\t<td><div class=\"general open\">0</div></td>\n",
              "\t\t<td><div class=\"general open\">0</div></td>\n",
              "\t\t<td><div class=\"general open\">0</div></td>\n",
              "\t\t<td><div class=\"general open\">1</div></td>\n",
              "\t\t<td><div class=\"general open\">1</div></td>\n",
              "\t\t<td><div class=\"general open\">1</div></td>\n",
              "\t</tr>\n",
              "\t<tr>\n",
              "\t\t<td><div class=\"general open\">0</div></td>\n",
              "\t\t<td><div class=\"general open\">1</div></td>\n",
              "\t\t<td><div class=\"general open\">*</div></td>\n",
              "\t\t<td><div class=\"general open\">1</div></td>\n",
              "\t\t<td><div class=\"general open\">0</div></td>\n",
              "\t\t<td><div class=\"general open\">0</div></td>\n",
              "\t\t<td><div class=\"general open\">0</div></td>\n",
              "\t\t<td><div class=\"general open\">0</div></td>\n",
              "\t\t<td><div class=\"general open\">0</div></td>\n",
              "\t\t<td><div class=\"general open\">0</div></td>\n",
              "\t</tr>\n",
              "\t<tr>\n",
              "\t\t<td><div class=\"general open\">1</div></td>\n",
              "\t\t<td><div class=\"general open\">3</div></td>\n",
              "\t\t<td><div class=\"general open\">2</div></td>\n",
              "\t\t<td><div class=\"general open\">2</div></td>\n",
              "\t\t<td><div class=\"general open\">0</div></td>\n",
              "\t\t<td><div class=\"general open\">0</div></td>\n",
              "\t\t<td><div class=\"general open\">0</div></td>\n",
              "\t\t<td><div class=\"general open\">0</div></td>\n",
              "\t\t<td><div class=\"general open\">0</div></td>\n",
              "\t\t<td><div class=\"general open\">0</div></td>\n",
              "\t</tr>\n",
              "\t<tr>\n",
              "\t\t<td><div class=\"general open\">*</div></td>\n",
              "\t\t<td><div class=\"general open\">2</div></td>\n",
              "\t\t<td><div class=\"general open\">*</div></td>\n",
              "\t\t<td><div class=\"general open\">1</div></td>\n",
              "\t\t<td><div class=\"general open\">0</div></td>\n",
              "\t\t<td><div class=\"general open\">0</div></td>\n",
              "\t\t<td><div class=\"general open\">0</div></td>\n",
              "\t\t<td><div class=\"general open\">0</div></td>\n",
              "\t\t<td><div class=\"general open\">1</div></td>\n",
              "\t\t<td><div class=\"general open\">1</div></td>\n",
              "\t</tr>\n",
              "\t<tr>\n",
              "\t\t<td><div class=\"general open\">1</div></td>\n",
              "\t\t<td><div class=\"general open\">2</div></td>\n",
              "\t\t<td><div class=\"general open\">1</div></td>\n",
              "\t\t<td><div class=\"general open\">1</div></td>\n",
              "\t\t<td><div class=\"general open\">0</div></td>\n",
              "\t\t<td><div class=\"general open\">0</div></td>\n",
              "\t\t<td><div class=\"general open\">0</div></td>\n",
              "\t\t<td><div class=\"general open\">0</div></td>\n",
              "\t\t<td><div class=\"general open\">1</div></td>\n",
              "\t\t<td><div class=\"general open\">*</div></td>\n",
              "\t</tr>\n",
              "\t<tr>\n",
              "\t\t<td><div class=\"general open\">0</div></td>\n",
              "\t\t<td><div class=\"general open\">0</div></td>\n",
              "\t\t<td><div class=\"general open\">0</div></td>\n",
              "\t\t<td><div class=\"general open\">0</div></td>\n",
              "\t\t<td><div class=\"general open\">0</div></td>\n",
              "\t\t<td><div class=\"general open\">0</div></td>\n",
              "\t\t<td><div class=\"general open\">0</div></td>\n",
              "\t\t<td><div class=\"general open\">0</div></td>\n",
              "\t\t<td><div class=\"general open\">1</div></td>\n",
              "\t\t<td><div class=\"general open\">1</div></td>\n",
              "\t</tr>\n",
              "</table>"
            ],
            "text/plain": [
              "<IPython.core.display.HTML object>"
            ]
          },
          "metadata": {
            "tags": []
          }
        },
        {
          "output_type": "stream",
          "text": [
            "BOOM!!\n"
          ],
          "name": "stdout"
        }
      ]
    },
    {
      "cell_type": "markdown",
      "metadata": {
        "id": "ZsLOt4YOUwc4",
        "colab_type": "text"
      },
      "source": [
        "# Examples"
      ]
    },
    {
      "cell_type": "markdown",
      "metadata": {
        "id": "7H_gtv7l79kV",
        "colab_type": "text"
      },
      "source": [
        "##Example: US States Data"
      ]
    },
    {
      "cell_type": "code",
      "metadata": {
        "id": "QYefuLiF7seE",
        "colab_type": "code",
        "colab": {
          "base_uri": "https://localhost:8080/",
          "height": 170
        },
        "outputId": "d8f97d6b-0fc9-4cc6-f15d-8788de178fe2"
      },
      "source": [
        "# download csv files\n",
        "!curl -O https://raw.githubusercontent.com/jakevdp/data-USstates/master/state-population.csv\n",
        "!curl -O https://raw.githubusercontent.com/jakevdp/data-USstates/master/state-areas.csv\n",
        "!curl -O https://raw.githubusercontent.com/jakevdp/data-USstates/master/state-abbrevs.csv"
      ],
      "execution_count": null,
      "outputs": [
        {
          "output_type": "stream",
          "text": [
            "  % Total    % Received % Xferd  Average Speed   Time    Time     Time  Current\n",
            "                                 Dload  Upload   Total   Spent    Left  Speed\n",
            "100 57935  100 57935    0     0   565k      0 --:--:-- --:--:-- --:--:--  565k\n",
            "  % Total    % Received % Xferd  Average Speed   Time    Time     Time  Current\n",
            "                                 Dload  Upload   Total   Spent    Left  Speed\n",
            "100   835  100   835    0     0   4260      0 --:--:-- --:--:-- --:--:--  4260\n",
            "  % Total    % Received % Xferd  Average Speed   Time    Time     Time  Current\n",
            "                                 Dload  Upload   Total   Spent    Left  Speed\n",
            "100   872  100   872    0     0   3774      0 --:--:-- --:--:-- --:--:--  3774\n"
          ],
          "name": "stdout"
        }
      ]
    },
    {
      "cell_type": "code",
      "metadata": {
        "id": "Y12Rwhz_8Yoj",
        "colab_type": "code",
        "colab": {
          "base_uri": "https://localhost:8080/",
          "height": 357
        },
        "outputId": "c367e126-6f02-4ccf-f9e1-2796ac7c31fd"
      },
      "source": [
        "pop = pd.read_csv('state-population.csv')\n",
        "areas = pd.read_csv('state-areas.csv')\n",
        "abbrevs = pd.read_csv('state-abbrevs.csv')\n",
        "print(pop.head(), '\\n\\n', areas.head(), '\\n\\n', abbrevs.head())"
      ],
      "execution_count": null,
      "outputs": [
        {
          "output_type": "stream",
          "text": [
            "  state/region     ages  year  population\n",
            "0           AL  under18  2012   1117489.0\n",
            "1           AL    total  2012   4817528.0\n",
            "2           AL  under18  2010   1130966.0\n",
            "3           AL    total  2010   4785570.0\n",
            "4           AL  under18  2011   1125763.0 \n",
            "\n",
            "         state  area (sq. mi)\n",
            "0     Alabama          52423\n",
            "1      Alaska         656425\n",
            "2     Arizona         114006\n",
            "3    Arkansas          53182\n",
            "4  California         163707 \n",
            "\n",
            "         state abbreviation\n",
            "0     Alabama           AL\n",
            "1      Alaska           AK\n",
            "2     Arizona           AZ\n",
            "3    Arkansas           AR\n",
            "4  California           CA\n"
          ],
          "name": "stdout"
        }
      ]
    },
    {
      "cell_type": "markdown",
      "metadata": {
        "id": "hZx9EFlF8n8S",
        "colab_type": "text"
      },
      "source": [
        "**Problem statement:**\n",
        "rank US states and territories by their 2010 population density"
      ]
    },
    {
      "cell_type": "code",
      "metadata": {
        "id": "l-djawIb8waz",
        "colab_type": "code",
        "colab": {
          "base_uri": "https://localhost:8080/",
          "height": 204
        },
        "outputId": "290e79b1-89b2-424e-ff77-13f11c4b8d6d"
      },
      "source": [
        "# many-to-one merge that will give us the full state name within the population DataFrame\n",
        "merged = pd.merge(pop, abbrevs, how='outer',\n",
        "left_on='state/region', right_on='abbreviation')\n",
        "merged = merged.drop('abbreviation', 1) # drop duplicate info\n",
        "merged.head()"
      ],
      "execution_count": null,
      "outputs": [
        {
          "output_type": "execute_result",
          "data": {
            "text/html": [
              "<div>\n",
              "<style scoped>\n",
              "    .dataframe tbody tr th:only-of-type {\n",
              "        vertical-align: middle;\n",
              "    }\n",
              "\n",
              "    .dataframe tbody tr th {\n",
              "        vertical-align: top;\n",
              "    }\n",
              "\n",
              "    .dataframe thead th {\n",
              "        text-align: right;\n",
              "    }\n",
              "</style>\n",
              "<table border=\"1\" class=\"dataframe\">\n",
              "  <thead>\n",
              "    <tr style=\"text-align: right;\">\n",
              "      <th></th>\n",
              "      <th>state/region</th>\n",
              "      <th>ages</th>\n",
              "      <th>year</th>\n",
              "      <th>population</th>\n",
              "      <th>state</th>\n",
              "    </tr>\n",
              "  </thead>\n",
              "  <tbody>\n",
              "    <tr>\n",
              "      <th>0</th>\n",
              "      <td>AL</td>\n",
              "      <td>under18</td>\n",
              "      <td>2012</td>\n",
              "      <td>1117489.0</td>\n",
              "      <td>Alabama</td>\n",
              "    </tr>\n",
              "    <tr>\n",
              "      <th>1</th>\n",
              "      <td>AL</td>\n",
              "      <td>total</td>\n",
              "      <td>2012</td>\n",
              "      <td>4817528.0</td>\n",
              "      <td>Alabama</td>\n",
              "    </tr>\n",
              "    <tr>\n",
              "      <th>2</th>\n",
              "      <td>AL</td>\n",
              "      <td>under18</td>\n",
              "      <td>2010</td>\n",
              "      <td>1130966.0</td>\n",
              "      <td>Alabama</td>\n",
              "    </tr>\n",
              "    <tr>\n",
              "      <th>3</th>\n",
              "      <td>AL</td>\n",
              "      <td>total</td>\n",
              "      <td>2010</td>\n",
              "      <td>4785570.0</td>\n",
              "      <td>Alabama</td>\n",
              "    </tr>\n",
              "    <tr>\n",
              "      <th>4</th>\n",
              "      <td>AL</td>\n",
              "      <td>under18</td>\n",
              "      <td>2011</td>\n",
              "      <td>1125763.0</td>\n",
              "      <td>Alabama</td>\n",
              "    </tr>\n",
              "  </tbody>\n",
              "</table>\n",
              "</div>"
            ],
            "text/plain": [
              "  state/region     ages  year  population    state\n",
              "0           AL  under18  2012   1117489.0  Alabama\n",
              "1           AL    total  2012   4817528.0  Alabama\n",
              "2           AL  under18  2010   1130966.0  Alabama\n",
              "3           AL    total  2010   4785570.0  Alabama\n",
              "4           AL  under18  2011   1125763.0  Alabama"
            ]
          },
          "metadata": {
            "tags": []
          },
          "execution_count": 22
        }
      ]
    },
    {
      "cell_type": "code",
      "metadata": {
        "id": "CaeWjwY4Dbdx",
        "colab_type": "code",
        "colab": {
          "base_uri": "https://localhost:8080/",
          "height": 119
        },
        "outputId": "b0fd293f-5867-4fe2-e559-6501b8f1078f"
      },
      "source": [
        "# check whether there were any mismatches\n",
        "merged.isnull().any()"
      ],
      "execution_count": null,
      "outputs": [
        {
          "output_type": "execute_result",
          "data": {
            "text/plain": [
              "state/region    False\n",
              "ages            False\n",
              "year            False\n",
              "population       True\n",
              "state            True\n",
              "dtype: bool"
            ]
          },
          "metadata": {
            "tags": []
          },
          "execution_count": 23
        }
      ]
    },
    {
      "cell_type": "code",
      "metadata": {
        "id": "cNvH5G5jDzwg",
        "colab_type": "code",
        "colab": {
          "base_uri": "https://localhost:8080/",
          "height": 204
        },
        "outputId": "57ed249f-ed13-4d36-eaab-265f7d848cc2"
      },
      "source": [
        "# closer look on population problem\n",
        "merged[merged['population'].isnull()].head()"
      ],
      "execution_count": null,
      "outputs": [
        {
          "output_type": "execute_result",
          "data": {
            "text/html": [
              "<div>\n",
              "<style scoped>\n",
              "    .dataframe tbody tr th:only-of-type {\n",
              "        vertical-align: middle;\n",
              "    }\n",
              "\n",
              "    .dataframe tbody tr th {\n",
              "        vertical-align: top;\n",
              "    }\n",
              "\n",
              "    .dataframe thead th {\n",
              "        text-align: right;\n",
              "    }\n",
              "</style>\n",
              "<table border=\"1\" class=\"dataframe\">\n",
              "  <thead>\n",
              "    <tr style=\"text-align: right;\">\n",
              "      <th></th>\n",
              "      <th>state/region</th>\n",
              "      <th>ages</th>\n",
              "      <th>year</th>\n",
              "      <th>population</th>\n",
              "      <th>state</th>\n",
              "    </tr>\n",
              "  </thead>\n",
              "  <tbody>\n",
              "    <tr>\n",
              "      <th>2448</th>\n",
              "      <td>PR</td>\n",
              "      <td>under18</td>\n",
              "      <td>1990</td>\n",
              "      <td>NaN</td>\n",
              "      <td>NaN</td>\n",
              "    </tr>\n",
              "    <tr>\n",
              "      <th>2449</th>\n",
              "      <td>PR</td>\n",
              "      <td>total</td>\n",
              "      <td>1990</td>\n",
              "      <td>NaN</td>\n",
              "      <td>NaN</td>\n",
              "    </tr>\n",
              "    <tr>\n",
              "      <th>2450</th>\n",
              "      <td>PR</td>\n",
              "      <td>total</td>\n",
              "      <td>1991</td>\n",
              "      <td>NaN</td>\n",
              "      <td>NaN</td>\n",
              "    </tr>\n",
              "    <tr>\n",
              "      <th>2451</th>\n",
              "      <td>PR</td>\n",
              "      <td>under18</td>\n",
              "      <td>1991</td>\n",
              "      <td>NaN</td>\n",
              "      <td>NaN</td>\n",
              "    </tr>\n",
              "    <tr>\n",
              "      <th>2452</th>\n",
              "      <td>PR</td>\n",
              "      <td>total</td>\n",
              "      <td>1993</td>\n",
              "      <td>NaN</td>\n",
              "      <td>NaN</td>\n",
              "    </tr>\n",
              "  </tbody>\n",
              "</table>\n",
              "</div>"
            ],
            "text/plain": [
              "     state/region     ages  year  population state\n",
              "2448           PR  under18  1990         NaN   NaN\n",
              "2449           PR    total  1990         NaN   NaN\n",
              "2450           PR    total  1991         NaN   NaN\n",
              "2451           PR  under18  1991         NaN   NaN\n",
              "2452           PR    total  1993         NaN   NaN"
            ]
          },
          "metadata": {
            "tags": []
          },
          "execution_count": 24
        }
      ]
    },
    {
      "cell_type": "code",
      "metadata": {
        "id": "CHQPMf3oECc_",
        "colab_type": "code",
        "colab": {
          "base_uri": "https://localhost:8080/",
          "height": 34
        },
        "outputId": "64dda8c1-485b-4043-88a9-d0cec38ccd1c"
      },
      "source": [
        "# closer look at atae problem\n",
        "merged.loc[merged['state'].isnull(), 'state/region'].unique()"
      ],
      "execution_count": null,
      "outputs": [
        {
          "output_type": "execute_result",
          "data": {
            "text/plain": [
              "array(['PR', 'USA'], dtype=object)"
            ]
          },
          "metadata": {
            "tags": []
          },
          "execution_count": 25
        }
      ]
    },
    {
      "cell_type": "code",
      "metadata": {
        "id": "f3wfYtRDEGxj",
        "colab_type": "code",
        "colab": {
          "base_uri": "https://localhost:8080/",
          "height": 119
        },
        "outputId": "5f93e2ef-b9b5-4da2-8092-0a9b7fcb5bdf"
      },
      "source": [
        "# Puerto Rico (PR) and the United States as a whole (USA) do not appear in the state abbreviation key\n",
        "# fix this problem\n",
        "merged.loc[merged['state/region'] == 'PR', 'state'] = 'Puerto Rico'\n",
        "merged.loc[merged['state/region'] == 'USA', 'state'] = 'United States'\n",
        "merged.isnull().any()"
      ],
      "execution_count": null,
      "outputs": [
        {
          "output_type": "execute_result",
          "data": {
            "text/plain": [
              "state/region    False\n",
              "ages            False\n",
              "year            False\n",
              "population       True\n",
              "state           False\n",
              "dtype: bool"
            ]
          },
          "metadata": {
            "tags": []
          },
          "execution_count": 26
        }
      ]
    },
    {
      "cell_type": "code",
      "metadata": {
        "id": "DjHa9ZiQEoIo",
        "colab_type": "code",
        "colab": {
          "base_uri": "https://localhost:8080/",
          "height": 204
        },
        "outputId": "14e8bfb6-71aa-4caf-c884-9805a945698c"
      },
      "source": [
        "final = pd.merge(merged, areas, on='state', how='left')\n",
        "final.head()"
      ],
      "execution_count": null,
      "outputs": [
        {
          "output_type": "execute_result",
          "data": {
            "text/html": [
              "<div>\n",
              "<style scoped>\n",
              "    .dataframe tbody tr th:only-of-type {\n",
              "        vertical-align: middle;\n",
              "    }\n",
              "\n",
              "    .dataframe tbody tr th {\n",
              "        vertical-align: top;\n",
              "    }\n",
              "\n",
              "    .dataframe thead th {\n",
              "        text-align: right;\n",
              "    }\n",
              "</style>\n",
              "<table border=\"1\" class=\"dataframe\">\n",
              "  <thead>\n",
              "    <tr style=\"text-align: right;\">\n",
              "      <th></th>\n",
              "      <th>state/region</th>\n",
              "      <th>ages</th>\n",
              "      <th>year</th>\n",
              "      <th>population</th>\n",
              "      <th>state</th>\n",
              "      <th>area (sq. mi)</th>\n",
              "    </tr>\n",
              "  </thead>\n",
              "  <tbody>\n",
              "    <tr>\n",
              "      <th>0</th>\n",
              "      <td>AL</td>\n",
              "      <td>under18</td>\n",
              "      <td>2012</td>\n",
              "      <td>1117489.0</td>\n",
              "      <td>Alabama</td>\n",
              "      <td>52423.0</td>\n",
              "    </tr>\n",
              "    <tr>\n",
              "      <th>1</th>\n",
              "      <td>AL</td>\n",
              "      <td>total</td>\n",
              "      <td>2012</td>\n",
              "      <td>4817528.0</td>\n",
              "      <td>Alabama</td>\n",
              "      <td>52423.0</td>\n",
              "    </tr>\n",
              "    <tr>\n",
              "      <th>2</th>\n",
              "      <td>AL</td>\n",
              "      <td>under18</td>\n",
              "      <td>2010</td>\n",
              "      <td>1130966.0</td>\n",
              "      <td>Alabama</td>\n",
              "      <td>52423.0</td>\n",
              "    </tr>\n",
              "    <tr>\n",
              "      <th>3</th>\n",
              "      <td>AL</td>\n",
              "      <td>total</td>\n",
              "      <td>2010</td>\n",
              "      <td>4785570.0</td>\n",
              "      <td>Alabama</td>\n",
              "      <td>52423.0</td>\n",
              "    </tr>\n",
              "    <tr>\n",
              "      <th>4</th>\n",
              "      <td>AL</td>\n",
              "      <td>under18</td>\n",
              "      <td>2011</td>\n",
              "      <td>1125763.0</td>\n",
              "      <td>Alabama</td>\n",
              "      <td>52423.0</td>\n",
              "    </tr>\n",
              "  </tbody>\n",
              "</table>\n",
              "</div>"
            ],
            "text/plain": [
              "  state/region     ages  year  population    state  area (sq. mi)\n",
              "0           AL  under18  2012   1117489.0  Alabama        52423.0\n",
              "1           AL    total  2012   4817528.0  Alabama        52423.0\n",
              "2           AL  under18  2010   1130966.0  Alabama        52423.0\n",
              "3           AL    total  2010   4785570.0  Alabama        52423.0\n",
              "4           AL  under18  2011   1125763.0  Alabama        52423.0"
            ]
          },
          "metadata": {
            "tags": []
          },
          "execution_count": 27
        }
      ]
    },
    {
      "cell_type": "code",
      "metadata": {
        "id": "Jay35VSnEsdw",
        "colab_type": "code",
        "colab": {
          "base_uri": "https://localhost:8080/",
          "height": 136
        },
        "outputId": "4e34d66d-6504-4536-88ed-6e5078da4f70"
      },
      "source": [
        "final.isnull().any()"
      ],
      "execution_count": null,
      "outputs": [
        {
          "output_type": "execute_result",
          "data": {
            "text/plain": [
              "state/region     False\n",
              "ages             False\n",
              "year             False\n",
              "population        True\n",
              "state            False\n",
              "area (sq. mi)     True\n",
              "dtype: bool"
            ]
          },
          "metadata": {
            "tags": []
          },
          "execution_count": 28
        }
      ]
    },
    {
      "cell_type": "code",
      "metadata": {
        "id": "YUsh8ebtE2Kw",
        "colab_type": "code",
        "colab": {
          "base_uri": "https://localhost:8080/",
          "height": 34
        },
        "outputId": "8680210a-59ca-4645-d1d4-578a6bb0bdbd"
      },
      "source": [
        "# closer look at problem with area\n",
        "final['state'][final['area (sq. mi)'].isnull()].unique()"
      ],
      "execution_count": null,
      "outputs": [
        {
          "output_type": "execute_result",
          "data": {
            "text/plain": [
              "array(['United States'], dtype=object)"
            ]
          },
          "metadata": {
            "tags": []
          },
          "execution_count": 29
        }
      ]
    },
    {
      "cell_type": "code",
      "metadata": {
        "id": "dI8LMSNUFI5A",
        "colab_type": "code",
        "colab": {
          "base_uri": "https://localhost:8080/",
          "height": 204
        },
        "outputId": "1dfd690f-a888-47c1-8c33-7b4616785f56"
      },
      "source": [
        "# we do not need this values anyway, just drop\n",
        "final.dropna(inplace=True)\n",
        "final.head()"
      ],
      "execution_count": null,
      "outputs": [
        {
          "output_type": "execute_result",
          "data": {
            "text/html": [
              "<div>\n",
              "<style scoped>\n",
              "    .dataframe tbody tr th:only-of-type {\n",
              "        vertical-align: middle;\n",
              "    }\n",
              "\n",
              "    .dataframe tbody tr th {\n",
              "        vertical-align: top;\n",
              "    }\n",
              "\n",
              "    .dataframe thead th {\n",
              "        text-align: right;\n",
              "    }\n",
              "</style>\n",
              "<table border=\"1\" class=\"dataframe\">\n",
              "  <thead>\n",
              "    <tr style=\"text-align: right;\">\n",
              "      <th></th>\n",
              "      <th>state/region</th>\n",
              "      <th>ages</th>\n",
              "      <th>year</th>\n",
              "      <th>population</th>\n",
              "      <th>state</th>\n",
              "      <th>area (sq. mi)</th>\n",
              "    </tr>\n",
              "  </thead>\n",
              "  <tbody>\n",
              "    <tr>\n",
              "      <th>0</th>\n",
              "      <td>AL</td>\n",
              "      <td>under18</td>\n",
              "      <td>2012</td>\n",
              "      <td>1117489.0</td>\n",
              "      <td>Alabama</td>\n",
              "      <td>52423.0</td>\n",
              "    </tr>\n",
              "    <tr>\n",
              "      <th>1</th>\n",
              "      <td>AL</td>\n",
              "      <td>total</td>\n",
              "      <td>2012</td>\n",
              "      <td>4817528.0</td>\n",
              "      <td>Alabama</td>\n",
              "      <td>52423.0</td>\n",
              "    </tr>\n",
              "    <tr>\n",
              "      <th>2</th>\n",
              "      <td>AL</td>\n",
              "      <td>under18</td>\n",
              "      <td>2010</td>\n",
              "      <td>1130966.0</td>\n",
              "      <td>Alabama</td>\n",
              "      <td>52423.0</td>\n",
              "    </tr>\n",
              "    <tr>\n",
              "      <th>3</th>\n",
              "      <td>AL</td>\n",
              "      <td>total</td>\n",
              "      <td>2010</td>\n",
              "      <td>4785570.0</td>\n",
              "      <td>Alabama</td>\n",
              "      <td>52423.0</td>\n",
              "    </tr>\n",
              "    <tr>\n",
              "      <th>4</th>\n",
              "      <td>AL</td>\n",
              "      <td>under18</td>\n",
              "      <td>2011</td>\n",
              "      <td>1125763.0</td>\n",
              "      <td>Alabama</td>\n",
              "      <td>52423.0</td>\n",
              "    </tr>\n",
              "  </tbody>\n",
              "</table>\n",
              "</div>"
            ],
            "text/plain": [
              "  state/region     ages  year  population    state  area (sq. mi)\n",
              "0           AL  under18  2012   1117489.0  Alabama        52423.0\n",
              "1           AL    total  2012   4817528.0  Alabama        52423.0\n",
              "2           AL  under18  2010   1130966.0  Alabama        52423.0\n",
              "3           AL    total  2010   4785570.0  Alabama        52423.0\n",
              "4           AL  under18  2011   1125763.0  Alabama        52423.0"
            ]
          },
          "metadata": {
            "tags": []
          },
          "execution_count": 30
        }
      ]
    },
    {
      "cell_type": "code",
      "metadata": {
        "id": "lwYMEJ8nFbNp",
        "colab_type": "code",
        "colab": {
          "base_uri": "https://localhost:8080/",
          "height": 136
        },
        "outputId": "c98f0da0-10ad-4956-8a0f-516ab272d217"
      },
      "source": [
        "final.isnull().any()"
      ],
      "execution_count": null,
      "outputs": [
        {
          "output_type": "execute_result",
          "data": {
            "text/plain": [
              "state/region     False\n",
              "ages             False\n",
              "year             False\n",
              "population       False\n",
              "state            False\n",
              "area (sq. mi)    False\n",
              "dtype: bool"
            ]
          },
          "metadata": {
            "tags": []
          },
          "execution_count": 32
        }
      ]
    },
    {
      "cell_type": "code",
      "metadata": {
        "id": "VKbU4Zv1FWqq",
        "colab_type": "code",
        "colab": {
          "base_uri": "https://localhost:8080/",
          "height": 204
        },
        "outputId": "8e65ce6a-9ba5-4e49-9aea-041bcc431e56"
      },
      "source": [
        "data2010 = final.query(\"year == 2010 & ages == 'total'\")\n",
        "data2010.head()"
      ],
      "execution_count": null,
      "outputs": [
        {
          "output_type": "execute_result",
          "data": {
            "text/html": [
              "<div>\n",
              "<style scoped>\n",
              "    .dataframe tbody tr th:only-of-type {\n",
              "        vertical-align: middle;\n",
              "    }\n",
              "\n",
              "    .dataframe tbody tr th {\n",
              "        vertical-align: top;\n",
              "    }\n",
              "\n",
              "    .dataframe thead th {\n",
              "        text-align: right;\n",
              "    }\n",
              "</style>\n",
              "<table border=\"1\" class=\"dataframe\">\n",
              "  <thead>\n",
              "    <tr style=\"text-align: right;\">\n",
              "      <th></th>\n",
              "      <th>state/region</th>\n",
              "      <th>ages</th>\n",
              "      <th>year</th>\n",
              "      <th>population</th>\n",
              "      <th>state</th>\n",
              "      <th>area (sq. mi)</th>\n",
              "    </tr>\n",
              "  </thead>\n",
              "  <tbody>\n",
              "    <tr>\n",
              "      <th>3</th>\n",
              "      <td>AL</td>\n",
              "      <td>total</td>\n",
              "      <td>2010</td>\n",
              "      <td>4785570.0</td>\n",
              "      <td>Alabama</td>\n",
              "      <td>52423.0</td>\n",
              "    </tr>\n",
              "    <tr>\n",
              "      <th>91</th>\n",
              "      <td>AK</td>\n",
              "      <td>total</td>\n",
              "      <td>2010</td>\n",
              "      <td>713868.0</td>\n",
              "      <td>Alaska</td>\n",
              "      <td>656425.0</td>\n",
              "    </tr>\n",
              "    <tr>\n",
              "      <th>101</th>\n",
              "      <td>AZ</td>\n",
              "      <td>total</td>\n",
              "      <td>2010</td>\n",
              "      <td>6408790.0</td>\n",
              "      <td>Arizona</td>\n",
              "      <td>114006.0</td>\n",
              "    </tr>\n",
              "    <tr>\n",
              "      <th>189</th>\n",
              "      <td>AR</td>\n",
              "      <td>total</td>\n",
              "      <td>2010</td>\n",
              "      <td>2922280.0</td>\n",
              "      <td>Arkansas</td>\n",
              "      <td>53182.0</td>\n",
              "    </tr>\n",
              "    <tr>\n",
              "      <th>197</th>\n",
              "      <td>CA</td>\n",
              "      <td>total</td>\n",
              "      <td>2010</td>\n",
              "      <td>37333601.0</td>\n",
              "      <td>California</td>\n",
              "      <td>163707.0</td>\n",
              "    </tr>\n",
              "  </tbody>\n",
              "</table>\n",
              "</div>"
            ],
            "text/plain": [
              "    state/region   ages  year  population       state  area (sq. mi)\n",
              "3             AL  total  2010   4785570.0     Alabama        52423.0\n",
              "91            AK  total  2010    713868.0      Alaska       656425.0\n",
              "101           AZ  total  2010   6408790.0     Arizona       114006.0\n",
              "189           AR  total  2010   2922280.0    Arkansas        53182.0\n",
              "197           CA  total  2010  37333601.0  California       163707.0"
            ]
          },
          "metadata": {
            "tags": []
          },
          "execution_count": 31
        }
      ]
    },
    {
      "cell_type": "code",
      "metadata": {
        "id": "ZWdk8vbFFeCf",
        "colab_type": "code",
        "colab": {
          "base_uri": "https://localhost:8080/",
          "height": 136
        },
        "outputId": "e493d8a1-af81-4688-a301-9095c51bae58"
      },
      "source": [
        "data2010.set_index('state', inplace=True)\n",
        "density = data2010['population'] / data2010['area (sq. mi)']\n",
        "density.sort_values(ascending=False, inplace=True)\n",
        "density.head()"
      ],
      "execution_count": null,
      "outputs": [
        {
          "output_type": "execute_result",
          "data": {
            "text/plain": [
              "state\n",
              "District of Columbia    8898.897059\n",
              "Puerto Rico             1058.665149\n",
              "New Jersey              1009.253268\n",
              "Rhode Island             681.339159\n",
              "Connecticut              645.600649\n",
              "dtype: float64"
            ]
          },
          "metadata": {
            "tags": []
          },
          "execution_count": 33
        }
      ]
    },
    {
      "cell_type": "code",
      "metadata": {
        "id": "4lNGw_qyF4qO",
        "colab_type": "code",
        "colab": {
          "base_uri": "https://localhost:8080/",
          "height": 136
        },
        "outputId": "4201a7b2-53d1-41de-ed68-c75141c10172"
      },
      "source": [
        "density.tail()"
      ],
      "execution_count": null,
      "outputs": [
        {
          "output_type": "execute_result",
          "data": {
            "text/plain": [
              "state\n",
              "South Dakota    10.583512\n",
              "North Dakota     9.537565\n",
              "Montana          6.736171\n",
              "Wyoming          5.768079\n",
              "Alaska           1.087509\n",
              "dtype: float64"
            ]
          },
          "metadata": {
            "tags": []
          },
          "execution_count": 34
        }
      ]
    },
    {
      "cell_type": "markdown",
      "metadata": {
        "id": "kDX36EkIPs2C",
        "colab_type": "text"
      },
      "source": [
        "##Example: Planets"
      ]
    },
    {
      "cell_type": "code",
      "metadata": {
        "id": "O7gU0VS90LF2",
        "colab_type": "code",
        "colab": {
          "base_uri": "https://localhost:8080/",
          "height": 444
        },
        "outputId": "59ea07e3-35aa-4428-f547-38e3991ec4a5"
      },
      "source": [
        "import seaborn as sns\n",
        "import pandas as pd\n",
        "\n",
        "planets = sns.load_dataset('planets')\n",
        "\n",
        "decade = 10 * (planets['year'] // 10)\n",
        "decade = decade.astype(str) + 's'\n",
        "decade.name = 'decade'\n",
        "planets.groupby(['method', decade])['number'].sum().unstack().fillna(0)"
      ],
      "execution_count": null,
      "outputs": [
        {
          "output_type": "stream",
          "text": [
            "/usr/local/lib/python3.6/dist-packages/statsmodels/tools/_testing.py:19: FutureWarning: pandas.util.testing is deprecated. Use the functions in the public API at pandas.testing instead.\n",
            "  import pandas.util.testing as tm\n"
          ],
          "name": "stderr"
        },
        {
          "output_type": "execute_result",
          "data": {
            "text/html": [
              "<div>\n",
              "<style scoped>\n",
              "    .dataframe tbody tr th:only-of-type {\n",
              "        vertical-align: middle;\n",
              "    }\n",
              "\n",
              "    .dataframe tbody tr th {\n",
              "        vertical-align: top;\n",
              "    }\n",
              "\n",
              "    .dataframe thead th {\n",
              "        text-align: right;\n",
              "    }\n",
              "</style>\n",
              "<table border=\"1\" class=\"dataframe\">\n",
              "  <thead>\n",
              "    <tr style=\"text-align: right;\">\n",
              "      <th>decade</th>\n",
              "      <th>1980s</th>\n",
              "      <th>1990s</th>\n",
              "      <th>2000s</th>\n",
              "      <th>2010s</th>\n",
              "    </tr>\n",
              "    <tr>\n",
              "      <th>method</th>\n",
              "      <th></th>\n",
              "      <th></th>\n",
              "      <th></th>\n",
              "      <th></th>\n",
              "    </tr>\n",
              "  </thead>\n",
              "  <tbody>\n",
              "    <tr>\n",
              "      <th>Astrometry</th>\n",
              "      <td>0.0</td>\n",
              "      <td>0.0</td>\n",
              "      <td>0.0</td>\n",
              "      <td>2.0</td>\n",
              "    </tr>\n",
              "    <tr>\n",
              "      <th>Eclipse Timing Variations</th>\n",
              "      <td>0.0</td>\n",
              "      <td>0.0</td>\n",
              "      <td>5.0</td>\n",
              "      <td>10.0</td>\n",
              "    </tr>\n",
              "    <tr>\n",
              "      <th>Imaging</th>\n",
              "      <td>0.0</td>\n",
              "      <td>0.0</td>\n",
              "      <td>29.0</td>\n",
              "      <td>21.0</td>\n",
              "    </tr>\n",
              "    <tr>\n",
              "      <th>Microlensing</th>\n",
              "      <td>0.0</td>\n",
              "      <td>0.0</td>\n",
              "      <td>12.0</td>\n",
              "      <td>15.0</td>\n",
              "    </tr>\n",
              "    <tr>\n",
              "      <th>Orbital Brightness Modulation</th>\n",
              "      <td>0.0</td>\n",
              "      <td>0.0</td>\n",
              "      <td>0.0</td>\n",
              "      <td>5.0</td>\n",
              "    </tr>\n",
              "    <tr>\n",
              "      <th>Pulsar Timing</th>\n",
              "      <td>0.0</td>\n",
              "      <td>9.0</td>\n",
              "      <td>1.0</td>\n",
              "      <td>1.0</td>\n",
              "    </tr>\n",
              "    <tr>\n",
              "      <th>Pulsation Timing Variations</th>\n",
              "      <td>0.0</td>\n",
              "      <td>0.0</td>\n",
              "      <td>1.0</td>\n",
              "      <td>0.0</td>\n",
              "    </tr>\n",
              "    <tr>\n",
              "      <th>Radial Velocity</th>\n",
              "      <td>1.0</td>\n",
              "      <td>52.0</td>\n",
              "      <td>475.0</td>\n",
              "      <td>424.0</td>\n",
              "    </tr>\n",
              "    <tr>\n",
              "      <th>Transit</th>\n",
              "      <td>0.0</td>\n",
              "      <td>0.0</td>\n",
              "      <td>64.0</td>\n",
              "      <td>712.0</td>\n",
              "    </tr>\n",
              "    <tr>\n",
              "      <th>Transit Timing Variations</th>\n",
              "      <td>0.0</td>\n",
              "      <td>0.0</td>\n",
              "      <td>0.0</td>\n",
              "      <td>9.0</td>\n",
              "    </tr>\n",
              "  </tbody>\n",
              "</table>\n",
              "</div>"
            ],
            "text/plain": [
              "decade                         1980s  1990s  2000s  2010s\n",
              "method                                                   \n",
              "Astrometry                       0.0    0.0    0.0    2.0\n",
              "Eclipse Timing Variations        0.0    0.0    5.0   10.0\n",
              "Imaging                          0.0    0.0   29.0   21.0\n",
              "Microlensing                     0.0    0.0   12.0   15.0\n",
              "Orbital Brightness Modulation    0.0    0.0    0.0    5.0\n",
              "Pulsar Timing                    0.0    9.0    1.0    1.0\n",
              "Pulsation Timing Variations      0.0    0.0    1.0    0.0\n",
              "Radial Velocity                  1.0   52.0  475.0  424.0\n",
              "Transit                          0.0    0.0   64.0  712.0\n",
              "Transit Timing Variations        0.0    0.0    0.0    9.0"
            ]
          },
          "metadata": {
            "tags": []
          },
          "execution_count": 1
        }
      ]
    },
    {
      "cell_type": "markdown",
      "metadata": {
        "id": "nkz1_-zEfFT1",
        "colab_type": "text"
      },
      "source": [
        "##Example: Birthrate Data"
      ]
    },
    {
      "cell_type": "code",
      "metadata": {
        "id": "_PVOPqm3fGrm",
        "colab_type": "code",
        "colab": {
          "base_uri": "https://localhost:8080/",
          "height": 68
        },
        "outputId": "a7b8f423-0735-4e12-b8b7-5cc44f804dd3"
      },
      "source": [
        "!curl -O https://raw.githubusercontent.com/jakevdp/data-CDCbirths/master/births.csv"
      ],
      "execution_count": null,
      "outputs": [
        {
          "output_type": "stream",
          "text": [
            "  % Total    % Received % Xferd  Average Speed   Time    Time     Time  Current\n",
            "                                 Dload  Upload   Total   Spent    Left  Speed\n",
            "\r  0     0    0     0    0     0      0      0 --:--:-- --:--:-- --:--:--     0\r  0     0    0     0    0     0      0      0 --:--:-- --:--:-- --:--:--     0\r100  258k  100  258k    0     0   910k      0 --:--:-- --:--:-- --:--:--  906k\n"
          ],
          "name": "stdout"
        }
      ]
    },
    {
      "cell_type": "code",
      "metadata": {
        "id": "7cb_MJ8mfciH",
        "colab_type": "code",
        "colab": {
          "base_uri": "https://localhost:8080/",
          "height": 204
        },
        "outputId": "fcbcc499-1912-4588-f192-ded998995e7d"
      },
      "source": [
        "births = pd.read_csv('births.csv')\n",
        "births.head()"
      ],
      "execution_count": null,
      "outputs": [
        {
          "output_type": "execute_result",
          "data": {
            "text/html": [
              "<div>\n",
              "<style scoped>\n",
              "    .dataframe tbody tr th:only-of-type {\n",
              "        vertical-align: middle;\n",
              "    }\n",
              "\n",
              "    .dataframe tbody tr th {\n",
              "        vertical-align: top;\n",
              "    }\n",
              "\n",
              "    .dataframe thead th {\n",
              "        text-align: right;\n",
              "    }\n",
              "</style>\n",
              "<table border=\"1\" class=\"dataframe\">\n",
              "  <thead>\n",
              "    <tr style=\"text-align: right;\">\n",
              "      <th></th>\n",
              "      <th>year</th>\n",
              "      <th>month</th>\n",
              "      <th>day</th>\n",
              "      <th>gender</th>\n",
              "      <th>births</th>\n",
              "    </tr>\n",
              "  </thead>\n",
              "  <tbody>\n",
              "    <tr>\n",
              "      <th>0</th>\n",
              "      <td>1969</td>\n",
              "      <td>1</td>\n",
              "      <td>1.0</td>\n",
              "      <td>F</td>\n",
              "      <td>4046</td>\n",
              "    </tr>\n",
              "    <tr>\n",
              "      <th>1</th>\n",
              "      <td>1969</td>\n",
              "      <td>1</td>\n",
              "      <td>1.0</td>\n",
              "      <td>M</td>\n",
              "      <td>4440</td>\n",
              "    </tr>\n",
              "    <tr>\n",
              "      <th>2</th>\n",
              "      <td>1969</td>\n",
              "      <td>1</td>\n",
              "      <td>2.0</td>\n",
              "      <td>F</td>\n",
              "      <td>4454</td>\n",
              "    </tr>\n",
              "    <tr>\n",
              "      <th>3</th>\n",
              "      <td>1969</td>\n",
              "      <td>1</td>\n",
              "      <td>2.0</td>\n",
              "      <td>M</td>\n",
              "      <td>4548</td>\n",
              "    </tr>\n",
              "    <tr>\n",
              "      <th>4</th>\n",
              "      <td>1969</td>\n",
              "      <td>1</td>\n",
              "      <td>3.0</td>\n",
              "      <td>F</td>\n",
              "      <td>4548</td>\n",
              "    </tr>\n",
              "  </tbody>\n",
              "</table>\n",
              "</div>"
            ],
            "text/plain": [
              "   year  month  day gender  births\n",
              "0  1969      1  1.0      F    4046\n",
              "1  1969      1  1.0      M    4440\n",
              "2  1969      1  2.0      F    4454\n",
              "3  1969      1  2.0      M    4548\n",
              "4  1969      1  3.0      F    4548"
            ]
          },
          "metadata": {
            "tags": []
          },
          "execution_count": 12
        }
      ]
    },
    {
      "cell_type": "code",
      "metadata": {
        "id": "__8iSo4KgiIn",
        "colab_type": "code",
        "colab": {
          "base_uri": "https://localhost:8080/",
          "height": 235
        },
        "outputId": "bccdb0ec-ccda-4d65-c642-4f506f2b4c08"
      },
      "source": [
        "# add decade column\n",
        "births['decade'] = 10 * (births['year'] // 10)\n",
        "births.pivot_table('births', index='decade', columns='gender', aggfunc='sum')"
      ],
      "execution_count": null,
      "outputs": [
        {
          "output_type": "execute_result",
          "data": {
            "text/html": [
              "<div>\n",
              "<style scoped>\n",
              "    .dataframe tbody tr th:only-of-type {\n",
              "        vertical-align: middle;\n",
              "    }\n",
              "\n",
              "    .dataframe tbody tr th {\n",
              "        vertical-align: top;\n",
              "    }\n",
              "\n",
              "    .dataframe thead th {\n",
              "        text-align: right;\n",
              "    }\n",
              "</style>\n",
              "<table border=\"1\" class=\"dataframe\">\n",
              "  <thead>\n",
              "    <tr style=\"text-align: right;\">\n",
              "      <th>gender</th>\n",
              "      <th>F</th>\n",
              "      <th>M</th>\n",
              "    </tr>\n",
              "    <tr>\n",
              "      <th>decade</th>\n",
              "      <th></th>\n",
              "      <th></th>\n",
              "    </tr>\n",
              "  </thead>\n",
              "  <tbody>\n",
              "    <tr>\n",
              "      <th>1960</th>\n",
              "      <td>1753634</td>\n",
              "      <td>1846572</td>\n",
              "    </tr>\n",
              "    <tr>\n",
              "      <th>1970</th>\n",
              "      <td>16263075</td>\n",
              "      <td>17121550</td>\n",
              "    </tr>\n",
              "    <tr>\n",
              "      <th>1980</th>\n",
              "      <td>18310351</td>\n",
              "      <td>19243452</td>\n",
              "    </tr>\n",
              "    <tr>\n",
              "      <th>1990</th>\n",
              "      <td>19479454</td>\n",
              "      <td>20420553</td>\n",
              "    </tr>\n",
              "    <tr>\n",
              "      <th>2000</th>\n",
              "      <td>18229309</td>\n",
              "      <td>19106428</td>\n",
              "    </tr>\n",
              "  </tbody>\n",
              "</table>\n",
              "</div>"
            ],
            "text/plain": [
              "gender         F         M\n",
              "decade                    \n",
              "1960     1753634   1846572\n",
              "1970    16263075  17121550\n",
              "1980    18310351  19243452\n",
              "1990    19479454  20420553\n",
              "2000    18229309  19106428"
            ]
          },
          "metadata": {
            "tags": []
          },
          "execution_count": 13
        }
      ]
    },
    {
      "cell_type": "code",
      "metadata": {
        "id": "XJQNPXvpguIp",
        "colab_type": "code",
        "colab": {
          "base_uri": "https://localhost:8080/",
          "height": 291
        },
        "outputId": "d263e67f-6970-4cfe-9bc5-7f643f1340f4"
      },
      "source": [
        "%matplotlib inline\n",
        "import matplotlib.pyplot as plt\n",
        "sns.set() # use Seaborn styles\n",
        "births.pivot_table('births', index='year', columns='gender', aggfunc='sum').plot()\n",
        "plt.ylabel('total births per year');"
      ],
      "execution_count": null,
      "outputs": [
        {
          "output_type": "display_data",
          "data": {
            "image/png": "[encoded data removed]",
            "text/plain": [
              "<Figure size 432x288 with 1 Axes>"
            ]
          },
          "metadata": {
            "tags": []
          }
        }
      ]
    },
    {
      "cell_type": "code",
      "metadata": {
        "id": "QPOfII5ohGSL",
        "colab_type": "code",
        "colab": {
          "base_uri": "https://localhost:8080/",
          "height": 291
        },
        "outputId": "0a4bbf29-e156-40dc-e2e3-8da0656138da"
      },
      "source": [
        "quartiles = np.percentile(births['births'], [25, 50, 75])\n",
        "mu = quartiles[1]\n",
        "sig = 0.74 * (quartiles[2] - quartiles[0])\n",
        "\n",
        "births = births.query('(births > @mu - 5 * @sig) & (births < @mu + 5 * @sig)')\n",
        "\n",
        "# set 'day' column to integer; it originally was a string due to nulls\n",
        "births['day'] = births['day'].astype(int)\n",
        "\n",
        "# create a datetime index from the year, month, day\n",
        "births.index = pd.to_datetime(10000 * births.year + 100 * births.month + births.day, format='%Y%m%d')\n",
        "births['dayofweek'] = births.index.dayofweek\n",
        "\n",
        "import matplotlib.pyplot as plt\n",
        "import matplotlib as mpl\n",
        "\n",
        "births.pivot_table('births', index='dayofweek', columns='decade', aggfunc='mean').plot()\n",
        "plt.gca().set_xticklabels(['Mon', 'Tues', 'Wed', 'Thurs', 'Fri', 'Sat', 'Sun'])\n",
        "plt.ylabel('mean births by day');\n",
        "\n",
        "#Apparently births are slightly less common on weekends than on weekdays"
      ],
      "execution_count": null,
      "outputs": [
        {
          "output_type": "display_data",
          "data": {
            "image/png": "[encoded data removed]",
            "text/plain": [
              "<Figure size 432x288 with 1 Axes>"
            ]
          },
          "metadata": {
            "tags": []
          }
        }
      ]
    },
    {
      "cell_type": "code",
      "metadata": {
        "id": "QT4D3h76hsW1",
        "colab_type": "code",
        "colab": {
          "base_uri": "https://localhost:8080/",
          "height": 204
        },
        "outputId": "b6846182-8324-4198-8688-402f0bfe0c4e"
      },
      "source": [
        "# births by day of the year\n",
        "births_by_date = births.pivot_table('births', [births.index.month, births.index.day])\n",
        "births_by_date.head()"
      ],
      "execution_count": null,
      "outputs": [
        {
          "output_type": "execute_result",
          "data": {
            "text/html": [
              "<div>\n",
              "<style scoped>\n",
              "    .dataframe tbody tr th:only-of-type {\n",
              "        vertical-align: middle;\n",
              "    }\n",
              "\n",
              "    .dataframe tbody tr th {\n",
              "        vertical-align: top;\n",
              "    }\n",
              "\n",
              "    .dataframe thead th {\n",
              "        text-align: right;\n",
              "    }\n",
              "</style>\n",
              "<table border=\"1\" class=\"dataframe\">\n",
              "  <thead>\n",
              "    <tr style=\"text-align: right;\">\n",
              "      <th></th>\n",
              "      <th></th>\n",
              "      <th>births</th>\n",
              "    </tr>\n",
              "  </thead>\n",
              "  <tbody>\n",
              "    <tr>\n",
              "      <th rowspan=\"5\" valign=\"top\">1</th>\n",
              "      <th>1</th>\n",
              "      <td>4009.225</td>\n",
              "    </tr>\n",
              "    <tr>\n",
              "      <th>2</th>\n",
              "      <td>4247.400</td>\n",
              "    </tr>\n",
              "    <tr>\n",
              "      <th>3</th>\n",
              "      <td>4500.900</td>\n",
              "    </tr>\n",
              "    <tr>\n",
              "      <th>4</th>\n",
              "      <td>4571.350</td>\n",
              "    </tr>\n",
              "    <tr>\n",
              "      <th>5</th>\n",
              "      <td>4603.625</td>\n",
              "    </tr>\n",
              "  </tbody>\n",
              "</table>\n",
              "</div>"
            ],
            "text/plain": [
              "       births\n",
              "1 1  4009.225\n",
              "  2  4247.400\n",
              "  3  4500.900\n",
              "  4  4571.350\n",
              "  5  4603.625"
            ]
          },
          "metadata": {
            "tags": []
          },
          "execution_count": 22
        }
      ]
    },
    {
      "cell_type": "code",
      "metadata": {
        "id": "OCg8funZiijR",
        "colab_type": "code",
        "colab": {
          "base_uri": "https://localhost:8080/",
          "height": 204
        },
        "outputId": "2b883701-d715-4c40-98cf-be16fafdfe9f"
      },
      "source": [
        "# associate with dummy year 2012\n",
        "# leap year chosen on purpose\n",
        "births_by_date.index = [pd.datetime(2012, month, day) for (month, day) in births_by_date.index]\n",
        "births_by_date.head()"
      ],
      "execution_count": null,
      "outputs": [
        {
          "output_type": "execute_result",
          "data": {
            "text/html": [
              "<div>\n",
              "<style scoped>\n",
              "    .dataframe tbody tr th:only-of-type {\n",
              "        vertical-align: middle;\n",
              "    }\n",
              "\n",
              "    .dataframe tbody tr th {\n",
              "        vertical-align: top;\n",
              "    }\n",
              "\n",
              "    .dataframe thead th {\n",
              "        text-align: right;\n",
              "    }\n",
              "</style>\n",
              "<table border=\"1\" class=\"dataframe\">\n",
              "  <thead>\n",
              "    <tr style=\"text-align: right;\">\n",
              "      <th></th>\n",
              "      <th>births</th>\n",
              "    </tr>\n",
              "  </thead>\n",
              "  <tbody>\n",
              "    <tr>\n",
              "      <th>2012-01-01</th>\n",
              "      <td>4009.225</td>\n",
              "    </tr>\n",
              "    <tr>\n",
              "      <th>2012-01-02</th>\n",
              "      <td>4247.400</td>\n",
              "    </tr>\n",
              "    <tr>\n",
              "      <th>2012-01-03</th>\n",
              "      <td>4500.900</td>\n",
              "    </tr>\n",
              "    <tr>\n",
              "      <th>2012-01-04</th>\n",
              "      <td>4571.350</td>\n",
              "    </tr>\n",
              "    <tr>\n",
              "      <th>2012-01-05</th>\n",
              "      <td>4603.625</td>\n",
              "    </tr>\n",
              "  </tbody>\n",
              "</table>\n",
              "</div>"
            ],
            "text/plain": [
              "              births\n",
              "2012-01-01  4009.225\n",
              "2012-01-02  4247.400\n",
              "2012-01-03  4500.900\n",
              "2012-01-04  4571.350\n",
              "2012-01-05  4603.625"
            ]
          },
          "metadata": {
            "tags": []
          },
          "execution_count": 23
        }
      ]
    },
    {
      "cell_type": "code",
      "metadata": {
        "id": "zI-ZBAeniyg9",
        "colab_type": "code",
        "colab": {
          "base_uri": "https://localhost:8080/",
          "height": 285
        },
        "outputId": "e89ed9a1-c825-4afe-9819-01cec74e3147"
      },
      "source": [
        "# Plot the results\n",
        "fig, ax = plt.subplots(figsize=(12, 4))\n",
        "births_by_date.plot(ax=ax);\n",
        "# blogpost on the effect: https://statmodeling.stat.columbia.edu/2012/06/14/cool-ass-signal-processing-using-gaussian-processes/"
      ],
      "execution_count": null,
      "outputs": [
        {
          "output_type": "display_data",
          "data": {
            "image/png": "[encoded data removed]",
            "text/plain": [
              "<Figure size 864x288 with 1 Axes>"
            ]
          },
          "metadata": {
            "tags": []
          }
        }
      ]
    },
    {
      "cell_type": "markdown",
      "metadata": {
        "id": "QPujSK22NtQ1",
        "colab_type": "text"
      },
      "source": [
        "##Example: Visualizing Seattle Bicycle Counts"
      ]
    },
    {
      "cell_type": "markdown",
      "metadata": {
        "id": "ttEHtif2xeEK",
        "colab_type": "text"
      },
      "source": [
        "![fremont](https://raw.githubusercontent.com/fbeilstein/machine_learning/master/lecture_04_pandas/map_fremont.png)\n",
        "![fremont bridge](https://raw.githubusercontent.com/fbeilstein/machine_learning/master/lecture_09_linear_regression/fremont_bridge.jpg)"
      ]
    },
    {
      "cell_type": "code",
      "metadata": {
        "id": "1H997wEYNugG",
        "colab_type": "code",
        "colab": {
          "base_uri": "https://localhost:8080/",
          "height": 68
        },
        "outputId": "0ce493e0-b436-485a-c41c-863089738c6d"
      },
      "source": [
        "!curl -o FremontBridge.csv https://data.seattle.gov/api/views/65db-xm6k/rows.csv?accessType=DOWNLOAD"
      ],
      "execution_count": null,
      "outputs": [
        {
          "output_type": "stream",
          "text": [
            "  % Total    % Received % Xferd  Average Speed   Time    Time     Time  Current\n",
            "                                 Dload  Upload   Total   Spent    Left  Speed\n",
            "100 1637k    0 1637k    0     0  1146k      0 --:--:--  0:00:01 --:--:-- 1146k\n"
          ],
          "name": "stdout"
        }
      ]
    },
    {
      "cell_type": "code",
      "metadata": {
        "id": "bXoT01TQN1-L",
        "colab_type": "code",
        "colab": {
          "base_uri": "https://localhost:8080/",
          "height": 235
        },
        "outputId": "4078afda-58c1-492c-afe2-beedff15a12e"
      },
      "source": [
        "data = pd.read_csv('FremontBridge.csv', index_col='Date', parse_dates=True)\n",
        "data.head()"
      ],
      "execution_count": null,
      "outputs": [
        {
          "output_type": "execute_result",
          "data": {
            "text/html": [
              "<div>\n",
              "<style scoped>\n",
              "    .dataframe tbody tr th:only-of-type {\n",
              "        vertical-align: middle;\n",
              "    }\n",
              "\n",
              "    .dataframe tbody tr th {\n",
              "        vertical-align: top;\n",
              "    }\n",
              "\n",
              "    .dataframe thead th {\n",
              "        text-align: right;\n",
              "    }\n",
              "</style>\n",
              "<table border=\"1\" class=\"dataframe\">\n",
              "  <thead>\n",
              "    <tr style=\"text-align: right;\">\n",
              "      <th></th>\n",
              "      <th>Fremont Bridge East Sidewalk</th>\n",
              "      <th>Fremont Bridge West Sidewalk</th>\n",
              "    </tr>\n",
              "    <tr>\n",
              "      <th>Date</th>\n",
              "      <th></th>\n",
              "      <th></th>\n",
              "    </tr>\n",
              "  </thead>\n",
              "  <tbody>\n",
              "    <tr>\n",
              "      <th>2019-05-31 23:00:00</th>\n",
              "      <td>22.0</td>\n",
              "      <td>35.0</td>\n",
              "    </tr>\n",
              "    <tr>\n",
              "      <th>2019-05-31 22:00:00</th>\n",
              "      <td>29.0</td>\n",
              "      <td>52.0</td>\n",
              "    </tr>\n",
              "    <tr>\n",
              "      <th>2019-05-31 21:00:00</th>\n",
              "      <td>46.0</td>\n",
              "      <td>57.0</td>\n",
              "    </tr>\n",
              "    <tr>\n",
              "      <th>2019-05-31 20:00:00</th>\n",
              "      <td>48.0</td>\n",
              "      <td>92.0</td>\n",
              "    </tr>\n",
              "    <tr>\n",
              "      <th>2019-05-31 19:00:00</th>\n",
              "      <td>97.0</td>\n",
              "      <td>151.0</td>\n",
              "    </tr>\n",
              "  </tbody>\n",
              "</table>\n",
              "</div>"
            ],
            "text/plain": [
              "                     Fremont Bridge East Sidewalk  Fremont Bridge West Sidewalk\n",
              "Date                                                                           \n",
              "2019-05-31 23:00:00                          22.0                          35.0\n",
              "2019-05-31 22:00:00                          29.0                          52.0\n",
              "2019-05-31 21:00:00                          46.0                          57.0\n",
              "2019-05-31 20:00:00                          48.0                          92.0\n",
              "2019-05-31 19:00:00                          97.0                         151.0"
            ]
          },
          "metadata": {
            "tags": []
          },
          "execution_count": 132
        }
      ]
    },
    {
      "cell_type": "code",
      "metadata": {
        "id": "XOP5yAJSN9XY",
        "colab_type": "code",
        "colab": {}
      },
      "source": [
        "data.columns = ['West', 'East']\n",
        "data['Total'] = data.eval('West + East')"
      ],
      "execution_count": null,
      "outputs": []
    },
    {
      "cell_type": "code",
      "metadata": {
        "id": "BNIMxWfHOBL6",
        "colab_type": "code",
        "colab": {
          "base_uri": "https://localhost:8080/",
          "height": 297
        },
        "outputId": "aa4ff0ef-e625-457f-f753-c1c31002b329"
      },
      "source": [
        "data.dropna().describe()"
      ],
      "execution_count": null,
      "outputs": [
        {
          "output_type": "execute_result",
          "data": {
            "text/html": [
              "<div>\n",
              "<style scoped>\n",
              "    .dataframe tbody tr th:only-of-type {\n",
              "        vertical-align: middle;\n",
              "    }\n",
              "\n",
              "    .dataframe tbody tr th {\n",
              "        vertical-align: top;\n",
              "    }\n",
              "\n",
              "    .dataframe thead th {\n",
              "        text-align: right;\n",
              "    }\n",
              "</style>\n",
              "<table border=\"1\" class=\"dataframe\">\n",
              "  <thead>\n",
              "    <tr style=\"text-align: right;\">\n",
              "      <th></th>\n",
              "      <th>West</th>\n",
              "      <th>East</th>\n",
              "      <th>Total</th>\n",
              "    </tr>\n",
              "  </thead>\n",
              "  <tbody>\n",
              "    <tr>\n",
              "      <th>count</th>\n",
              "      <td>58359.000000</td>\n",
              "      <td>58359.000000</td>\n",
              "      <td>58359.000000</td>\n",
              "    </tr>\n",
              "    <tr>\n",
              "      <th>mean</th>\n",
              "      <td>52.138179</td>\n",
              "      <td>58.945304</td>\n",
              "      <td>111.083483</td>\n",
              "    </tr>\n",
              "    <tr>\n",
              "      <th>std</th>\n",
              "      <td>67.516088</td>\n",
              "      <td>85.887864</td>\n",
              "      <td>140.850604</td>\n",
              "    </tr>\n",
              "    <tr>\n",
              "      <th>min</th>\n",
              "      <td>0.000000</td>\n",
              "      <td>0.000000</td>\n",
              "      <td>0.000000</td>\n",
              "    </tr>\n",
              "    <tr>\n",
              "      <th>25%</th>\n",
              "      <td>6.000000</td>\n",
              "      <td>7.000000</td>\n",
              "      <td>14.000000</td>\n",
              "    </tr>\n",
              "    <tr>\n",
              "      <th>50%</th>\n",
              "      <td>28.000000</td>\n",
              "      <td>29.000000</td>\n",
              "      <td>60.000000</td>\n",
              "    </tr>\n",
              "    <tr>\n",
              "      <th>75%</th>\n",
              "      <td>70.000000</td>\n",
              "      <td>71.000000</td>\n",
              "      <td>144.000000</td>\n",
              "    </tr>\n",
              "    <tr>\n",
              "      <th>max</th>\n",
              "      <td>698.000000</td>\n",
              "      <td>745.000000</td>\n",
              "      <td>1004.000000</td>\n",
              "    </tr>\n",
              "  </tbody>\n",
              "</table>\n",
              "</div>"
            ],
            "text/plain": [
              "               West          East         Total\n",
              "count  58359.000000  58359.000000  58359.000000\n",
              "mean      52.138179     58.945304    111.083483\n",
              "std       67.516088     85.887864    140.850604\n",
              "min        0.000000      0.000000      0.000000\n",
              "25%        6.000000      7.000000     14.000000\n",
              "50%       28.000000     29.000000     60.000000\n",
              "75%       70.000000     71.000000    144.000000\n",
              "max      698.000000    745.000000   1004.000000"
            ]
          },
          "metadata": {
            "tags": []
          },
          "execution_count": 134
        }
      ]
    },
    {
      "cell_type": "code",
      "metadata": {
        "id": "rb6RVZGZOFq_",
        "colab_type": "code",
        "colab": {
          "base_uri": "https://localhost:8080/",
          "height": 291
        },
        "outputId": "a70a9467-c662-477c-d2aa-544aea55e41f"
      },
      "source": [
        "%matplotlib inline\n",
        "import seaborn\n",
        "seaborn.set()\n",
        "data.plot()\n",
        "plt.ylabel('Hourly Bicycle Count');"
      ],
      "execution_count": null,
      "outputs": [
        {
          "output_type": "display_data",
          "data": {
            "image/png": "[encoded data removed]",
            "text/plain": [
              "<Figure size 432x288 with 1 Axes>"
            ]
          },
          "metadata": {
            "tags": []
          }
        }
      ]
    },
    {
      "cell_type": "code",
      "metadata": {
        "id": "ngEJfosOOOLq",
        "colab_type": "code",
        "colab": {
          "base_uri": "https://localhost:8080/",
          "height": 308
        },
        "outputId": "595fd755-f05f-43c4-a9dc-127f4d2bf6da"
      },
      "source": [
        "weekly = data.resample('W').sum()\n",
        "weekly.plot(style=[':', '--', '-'])\n",
        "plt.ylabel('Weekly bicycle count')"
      ],
      "execution_count": null,
      "outputs": [
        {
          "output_type": "execute_result",
          "data": {
            "text/plain": [
              "Text(0, 0.5, 'Weekly bicycle count')"
            ]
          },
          "metadata": {
            "tags": []
          },
          "execution_count": 136
        },
        {
          "output_type": "display_data",
          "data": {
            "image/png": "[encoded data removed]",
            "text/plain": [
              "<Figure size 432x288 with 1 Axes>"
            ]
          },
          "metadata": {
            "tags": []
          }
        }
      ]
    },
    {
      "cell_type": "code",
      "metadata": {
        "id": "Ssz96Y-4OTrT",
        "colab_type": "code",
        "colab": {
          "base_uri": "https://localhost:8080/",
          "height": 308
        },
        "outputId": "0b5501ab-ac06-4659-81bf-7e149d14fc13"
      },
      "source": [
        "daily = data.resample('D').sum()\n",
        "daily.rolling(30, center=True).sum().plot(style=[':', '--', '-'])\n",
        "plt.ylabel('mean hourly count')"
      ],
      "execution_count": null,
      "outputs": [
        {
          "output_type": "execute_result",
          "data": {
            "text/plain": [
              "Text(0, 0.5, 'mean hourly count')"
            ]
          },
          "metadata": {
            "tags": []
          },
          "execution_count": 137
        },
        {
          "output_type": "display_data",
          "data": {
            "image/png": "[encoded data removed]",
            "text/plain": [
              "<Figure size 432x288 with 1 Axes>"
            ]
          },
          "metadata": {
            "tags": []
          }
        }
      ]
    },
    {
      "cell_type": "code",
      "metadata": {
        "id": "7Hn6DIZQOWxH",
        "colab_type": "code",
        "colab": {
          "base_uri": "https://localhost:8080/",
          "height": 308
        },
        "outputId": "e585cb7b-6e1a-4c5f-c1ed-89854b5f0792"
      },
      "source": [
        "daily.rolling(50, center=True, win_type='gaussian').sum(std=10).plot(style=[':', '--', '-'])"
      ],
      "execution_count": null,
      "outputs": [
        {
          "output_type": "execute_result",
          "data": {
            "text/plain": [
              "<matplotlib.axes._subplots.AxesSubplot at 0x7fb1e0413b38>"
            ]
          },
          "metadata": {
            "tags": []
          },
          "execution_count": 138
        },
        {
          "output_type": "display_data",
          "data": {
            "image/png": "[encoded data removed]",
            "text/plain": [
              "<Figure size 432x288 with 1 Axes>"
            ]
          },
          "metadata": {
            "tags": []
          }
        }
      ]
    },
    {
      "cell_type": "code",
      "metadata": {
        "id": "eHtmjySAO6Yw",
        "colab_type": "code",
        "colab": {
          "base_uri": "https://localhost:8080/",
          "height": 308
        },
        "outputId": "e8b25a97-b369-43bd-f81f-aed0659f1dd3"
      },
      "source": [
        "by_time = data.groupby(data.index.time).mean()\n",
        "hourly_ticks = 4 * 60 * 60 * np.arange(6)\n",
        "by_time.plot(xticks=hourly_ticks, style=[':', '--', '-'])"
      ],
      "execution_count": null,
      "outputs": [
        {
          "output_type": "execute_result",
          "data": {
            "text/plain": [
              "<matplotlib.axes._subplots.AxesSubplot at 0x7fb1e341acf8>"
            ]
          },
          "metadata": {
            "tags": []
          },
          "execution_count": 139
        },
        {
          "output_type": "display_data",
          "data": {
            "image/png": "[encoded data removed]",
            "text/plain": [
              "<Figure size 432x288 with 1 Axes>"
            ]
          },
          "metadata": {
            "tags": []
          }
        }
      ]
    },
    {
      "cell_type": "code",
      "metadata": {
        "id": "zp26vJG3O766",
        "colab_type": "code",
        "colab": {
          "base_uri": "https://localhost:8080/",
          "height": 291
        },
        "outputId": "41f5e3b9-317c-4a4f-a351-715f6b43544b"
      },
      "source": [
        "by_weekday = data.groupby(data.index.dayofweek).mean()\n",
        "by_weekday.index = ['Mon', 'Tues', 'Wed', 'Thurs', 'Fri', 'Sat', 'Sun']\n",
        "by_weekday.plot(style=[':', '--', '-'])"
      ],
      "execution_count": null,
      "outputs": [
        {
          "output_type": "execute_result",
          "data": {
            "text/plain": [
              "<matplotlib.axes._subplots.AxesSubplot at 0x7fb1e061d898>"
            ]
          },
          "metadata": {
            "tags": []
          },
          "execution_count": 140
        },
        {
          "output_type": "display_data",
          "data": {
            "image/png": "[encoded data removed]",
            "text/plain": [
              "<Figure size 432x288 with 1 Axes>"
            ]
          },
          "metadata": {
            "tags": []
          }
        }
      ]
    },
    {
      "cell_type": "code",
      "metadata": {
        "id": "xBh6LbDKO-NP",
        "colab_type": "code",
        "colab": {}
      },
      "source": [
        "weekend = np.where(data.index.weekday < 5, 'Weekday', 'Weekend')\n",
        "by_time = data.groupby([weekend, data.index.time]).mean()"
      ],
      "execution_count": null,
      "outputs": []
    },
    {
      "cell_type": "code",
      "metadata": {
        "id": "TqbCilUIPIDz",
        "colab_type": "code",
        "colab": {
          "base_uri": "https://localhost:8080/",
          "height": 372
        },
        "outputId": "a2a9effe-1ab4-4518-b80d-e052617c0d6d"
      },
      "source": [
        "import matplotlib.pyplot as plt\n",
        "fig, ax = plt.subplots(1, 2, figsize=(14, 5))\n",
        "by_time.loc['Weekday'].plot(ax=ax[0], title='Weekdays',\n",
        "xticks=hourly_ticks, style=[':', '--', '-'])\n",
        "by_time.loc['Weekend'].plot(ax=ax[1], title='Weekends',\n",
        "xticks=hourly_ticks, style=[':', '--', '-'])"
      ],
      "execution_count": null,
      "outputs": [
        {
          "output_type": "execute_result",
          "data": {
            "text/plain": [
              "<matplotlib.axes._subplots.AxesSubplot at 0x7fb1e0120438>"
            ]
          },
          "metadata": {
            "tags": []
          },
          "execution_count": 143
        },
        {
          "output_type": "display_data",
          "data": {
            "image/png": "[encoded data removed]",
            "text/plain": [
              "<Figure size 1008x360 with 2 Axes>"
            ]
          },
          "metadata": {
            "tags": []
          }
        }
      ]
    },
    {
      "cell_type": "markdown",
      "metadata": {
        "id": "5CuAEIV80Dng",
        "colab_type": "text"
      },
      "source": [
        "##Example: Ukrainian cities"
      ]
    },
    {
      "cell_type": "code",
      "metadata": {
        "id": "0jl0k9zk0DFE",
        "colab_type": "code",
        "colab": {
          "base_uri": "https://localhost:8080/",
          "height": 119
        },
        "outputId": "c99c39c0-dcb4-460f-c4e5-4e87d90ed35b"
      },
      "source": [
        "# originally copypasted from Wikipedia\n",
        "# https://uk.wikipedia.org/wiki/%D0%9C%D1%96%D1%81%D1%82%D0%B0_%D0%A3%D0%BA%D1%80%D0%B0%D1%97%D0%BD%D0%B8_(%D0%B7%D0%B0_%D0%B0%D0%BB%D1%84%D0%B0%D0%B2%D1%96%D1%82%D0%BE%D0%BC)\n",
        "!curl -O https://raw.githubusercontent.com/fbeilstein/machine_learning/master/datasets/cities.csv\n",
        "# originally copypasted from here\n",
        "# https://simplemaps.com/data/ua-cities\n",
        "!curl -O https://raw.githubusercontent.com/fbeilstein/machine_learning/master/datasets/coordinates.csv\n",
        "\n",
        "# using sed\n",
        "# TABs were changed to commas (to get proper csv)\n",
        "# ' and \" were removed (not used in proper transliteration)\n",
        "# \\[.*\\] were removed (citations in Wikipedia)"
      ],
      "execution_count": null,
      "outputs": [
        {
          "output_type": "stream",
          "text": [
            "  % Total    % Received % Xferd  Average Speed   Time    Time     Time  Current\n",
            "                                 Dload  Upload   Total   Spent    Left  Speed\n",
            "100 44543  100 44543    0     0   232k      0 --:--:-- --:--:-- --:--:--  232k\n",
            "  % Total    % Received % Xferd  Average Speed   Time    Time     Time  Current\n",
            "                                 Dload  Upload   Total   Spent    Left  Speed\n",
            "100 35305  100 35305    0     0   192k      0 --:--:-- --:--:-- --:--:--  192k\n"
          ],
          "name": "stdout"
        }
      ]
    },
    {
      "cell_type": "code",
      "metadata": {
        "id": "Vti4xfV_0iIz",
        "colab_type": "code",
        "colab": {
          "base_uri": "https://localhost:8080/",
          "height": 204
        },
        "outputId": "747c49bc-81c6-4911-a166-fb91465add50"
      },
      "source": [
        "import pandas as pd\n",
        "\n",
        "cities = pd.read_csv('cities.csv')\n",
        "cities = cities.drop(labels=['symbol','administrative'], axis=1)\n",
        "cities['city_trlit'] = cities.city.str.lower()\n",
        "l_from = ['a','б','в','г','ґ','д','е','ж','з','и','і','к','л','м','н','о','п','р','с','т','у','ф','х','ц','ч','ш','щ','ь']\n",
        "l_to = ['а','b','v','h','g','d','e','zh','z','y','i','k','l','m','n','o','p','r','s','t','u','f','kh','ts','ch','sh','shch','']\n",
        "cities.city_trlit = cities.city_trlit.replace(regex=l_from, value=l_to)\n",
        "cities.city_trlit = cities.city_trlit.replace(regex=[r'^я',r'^ю',r'^й',r'^ї',r'^є'], value=['ya','yu','y','yi','ye'])\n",
        "cities.city_trlit = cities.city_trlit.replace(regex=['я','ю','й','ї','є'], value=['ia','iu','i','i','ie'])\n",
        "cities.population = cities.population.replace(regex=' ', value='')\n",
        "cities.head()"
      ],
      "execution_count": null,
      "outputs": [
        {
          "output_type": "execute_result",
          "data": {
            "text/html": [
              "<div>\n",
              "<style scoped>\n",
              "    .dataframe tbody tr th:only-of-type {\n",
              "        vertical-align: middle;\n",
              "    }\n",
              "\n",
              "    .dataframe tbody tr th {\n",
              "        vertical-align: top;\n",
              "    }\n",
              "\n",
              "    .dataframe thead th {\n",
              "        text-align: right;\n",
              "    }\n",
              "</style>\n",
              "<table border=\"1\" class=\"dataframe\">\n",
              "  <thead>\n",
              "    <tr style=\"text-align: right;\">\n",
              "      <th></th>\n",
              "      <th>city</th>\n",
              "      <th>population</th>\n",
              "      <th>foundation</th>\n",
              "      <th>area_km2</th>\n",
              "      <th>city_trlit</th>\n",
              "    </tr>\n",
              "  </thead>\n",
              "  <tbody>\n",
              "    <tr>\n",
              "      <th>0</th>\n",
              "      <td>Авдіївка</td>\n",
              "      <td>37210</td>\n",
              "      <td>1778</td>\n",
              "      <td>29.00</td>\n",
              "      <td>аvdiivkа</td>\n",
              "    </tr>\n",
              "    <tr>\n",
              "      <th>1</th>\n",
              "      <td>Алмазна</td>\n",
              "      <td>5061</td>\n",
              "      <td>1870</td>\n",
              "      <td>1.33</td>\n",
              "      <td>аlmаznа</td>\n",
              "    </tr>\n",
              "    <tr>\n",
              "      <th>2</th>\n",
              "      <td>Алупка</td>\n",
              "      <td>9018</td>\n",
              "      <td>X ст.</td>\n",
              "      <td>4.00</td>\n",
              "      <td>аlupkа</td>\n",
              "    </tr>\n",
              "    <tr>\n",
              "      <th>3</th>\n",
              "      <td>Алушта</td>\n",
              "      <td>31440</td>\n",
              "      <td>V ст.</td>\n",
              "      <td>7.00</td>\n",
              "      <td>аlushtа</td>\n",
              "    </tr>\n",
              "    <tr>\n",
              "      <th>4</th>\n",
              "      <td>Алчевськ</td>\n",
              "      <td>119193</td>\n",
              "      <td>1895</td>\n",
              "      <td>50.00</td>\n",
              "      <td>аlchevsk</td>\n",
              "    </tr>\n",
              "  </tbody>\n",
              "</table>\n",
              "</div>"
            ],
            "text/plain": [
              "       city population foundation  area_km2 city_trlit\n",
              "0  Авдіївка      37210       1778     29.00   аvdiivkа\n",
              "1   Алмазна       5061       1870      1.33    аlmаznа\n",
              "2    Алупка       9018      X ст.      4.00     аlupkа\n",
              "3    Алушта      31440      V ст.      7.00    аlushtа\n",
              "4  Алчевськ     119193       1895     50.00   аlchevsk"
            ]
          },
          "metadata": {
            "tags": []
          },
          "execution_count": 3
        }
      ]
    },
    {
      "cell_type": "code",
      "metadata": {
        "id": "qci2fPdJ4rpw",
        "colab_type": "code",
        "colab": {
          "base_uri": "https://localhost:8080/",
          "height": 204
        },
        "outputId": "b9d2d202-fb12-433f-e297-11e178bae2f5"
      },
      "source": [
        "coords = pd.read_csv('coordinates.csv')\n",
        "coords = coords.drop(['country', 'iso2', 'admin', 'capital', 'population_proper','population'], axis=1)\n",
        "coords.city = coords.city.str.lower()\n",
        "coords = coords.dropna(axis='rows')\n",
        "coords.head()"
      ],
      "execution_count": null,
      "outputs": [
        {
          "output_type": "execute_result",
          "data": {
            "text/html": [
              "<div>\n",
              "<style scoped>\n",
              "    .dataframe tbody tr th:only-of-type {\n",
              "        vertical-align: middle;\n",
              "    }\n",
              "\n",
              "    .dataframe tbody tr th {\n",
              "        vertical-align: top;\n",
              "    }\n",
              "\n",
              "    .dataframe thead th {\n",
              "        text-align: right;\n",
              "    }\n",
              "</style>\n",
              "<table border=\"1\" class=\"dataframe\">\n",
              "  <thead>\n",
              "    <tr style=\"text-align: right;\">\n",
              "      <th></th>\n",
              "      <th>city</th>\n",
              "      <th>lat</th>\n",
              "      <th>lng</th>\n",
              "    </tr>\n",
              "  </thead>\n",
              "  <tbody>\n",
              "    <tr>\n",
              "      <th>0</th>\n",
              "      <td>kiev</td>\n",
              "      <td>50.433333</td>\n",
              "      <td>30.516667</td>\n",
              "    </tr>\n",
              "    <tr>\n",
              "      <th>1</th>\n",
              "      <td>kharkiv</td>\n",
              "      <td>49.980814</td>\n",
              "      <td>36.252718</td>\n",
              "    </tr>\n",
              "    <tr>\n",
              "      <th>2</th>\n",
              "      <td>dnipro</td>\n",
              "      <td>48.459298</td>\n",
              "      <td>35.038648</td>\n",
              "    </tr>\n",
              "    <tr>\n",
              "      <th>3</th>\n",
              "      <td>odesa</td>\n",
              "      <td>46.463934</td>\n",
              "      <td>30.738551</td>\n",
              "    </tr>\n",
              "    <tr>\n",
              "      <th>4</th>\n",
              "      <td>donetsk</td>\n",
              "      <td>47.991664</td>\n",
              "      <td>37.775928</td>\n",
              "    </tr>\n",
              "  </tbody>\n",
              "</table>\n",
              "</div>"
            ],
            "text/plain": [
              "      city        lat        lng\n",
              "0     kiev  50.433333  30.516667\n",
              "1  kharkiv  49.980814  36.252718\n",
              "2   dnipro  48.459298  35.038648\n",
              "3    odesa  46.463934  30.738551\n",
              "4  donetsk  47.991664  37.775928"
            ]
          },
          "metadata": {
            "tags": []
          },
          "execution_count": 4
        }
      ]
    },
    {
      "cell_type": "code",
      "metadata": {
        "id": "_WbUtLhe9l_q",
        "colab_type": "code",
        "colab": {
          "base_uri": "https://localhost:8080/",
          "height": 204
        },
        "outputId": "3dafd24b-1b2d-46d3-a537-6cd6b27b6fe9"
      },
      "source": [
        "import difflib\n",
        "import numpy as np\n",
        "\n",
        "arr_for_search = np.array(cities.city_trlit)\n",
        "\n",
        "for index, row in coords.iterrows():\n",
        "  closest = difflib.get_close_matches(row['city'], arr_for_search)\n",
        "  #print(row['city'], ' ?= ', closest)\n",
        "  coords.at[index,'city'] = closest[0] if len(closest) > 0 else None\n",
        "\n",
        "coords.head()"
      ],
      "execution_count": null,
      "outputs": [
        {
          "output_type": "execute_result",
          "data": {
            "text/html": [
              "<div>\n",
              "<style scoped>\n",
              "    .dataframe tbody tr th:only-of-type {\n",
              "        vertical-align: middle;\n",
              "    }\n",
              "\n",
              "    .dataframe tbody tr th {\n",
              "        vertical-align: top;\n",
              "    }\n",
              "\n",
              "    .dataframe thead th {\n",
              "        text-align: right;\n",
              "    }\n",
              "</style>\n",
              "<table border=\"1\" class=\"dataframe\">\n",
              "  <thead>\n",
              "    <tr style=\"text-align: right;\">\n",
              "      <th></th>\n",
              "      <th>city</th>\n",
              "      <th>lat</th>\n",
              "      <th>lng</th>\n",
              "    </tr>\n",
              "  </thead>\n",
              "  <tbody>\n",
              "    <tr>\n",
              "      <th>0</th>\n",
              "      <td>kyiv</td>\n",
              "      <td>50.433333</td>\n",
              "      <td>30.516667</td>\n",
              "    </tr>\n",
              "    <tr>\n",
              "      <th>1</th>\n",
              "      <td>khаrkiv</td>\n",
              "      <td>49.980814</td>\n",
              "      <td>36.252718</td>\n",
              "    </tr>\n",
              "    <tr>\n",
              "      <th>2</th>\n",
              "      <td>dnipro</td>\n",
              "      <td>48.459298</td>\n",
              "      <td>35.038648</td>\n",
              "    </tr>\n",
              "    <tr>\n",
              "      <th>3</th>\n",
              "      <td>odesа</td>\n",
              "      <td>46.463934</td>\n",
              "      <td>30.738551</td>\n",
              "    </tr>\n",
              "    <tr>\n",
              "      <th>4</th>\n",
              "      <td>donetsk</td>\n",
              "      <td>47.991664</td>\n",
              "      <td>37.775928</td>\n",
              "    </tr>\n",
              "  </tbody>\n",
              "</table>\n",
              "</div>"
            ],
            "text/plain": [
              "      city        lat        lng\n",
              "0     kyiv  50.433333  30.516667\n",
              "1  khаrkiv  49.980814  36.252718\n",
              "2   dnipro  48.459298  35.038648\n",
              "3    odesа  46.463934  30.738551\n",
              "4  donetsk  47.991664  37.775928"
            ]
          },
          "metadata": {
            "tags": []
          },
          "execution_count": 5
        }
      ]
    },
    {
      "cell_type": "code",
      "metadata": {
        "id": "imKlNINk9t1K",
        "colab_type": "code",
        "colab": {
          "base_uri": "https://localhost:8080/",
          "height": 204
        },
        "outputId": "fe64e938-7507-4982-f04b-1f7f44dd5bb6"
      },
      "source": [
        "collected = pd.merge(cities, coords, left_on=\"city_trlit\", right_on=\"city\")\n",
        "collected = collected.dropna(axis='rows')\n",
        "collected = collected.drop(['city_trlit', 'city_y'], axis=1)\n",
        "collected = collected.rename(columns={'city_x':'city'})\n",
        "collected = collected.drop_duplicates(subset='city')\n",
        "collected.to_csv(path_or_buf='ukr_cities.csv', index=False)\n",
        "collected.head()"
      ],
      "execution_count": null,
      "outputs": [
        {
          "output_type": "execute_result",
          "data": {
            "text/html": [
              "<div>\n",
              "<style scoped>\n",
              "    .dataframe tbody tr th:only-of-type {\n",
              "        vertical-align: middle;\n",
              "    }\n",
              "\n",
              "    .dataframe tbody tr th {\n",
              "        vertical-align: top;\n",
              "    }\n",
              "\n",
              "    .dataframe thead th {\n",
              "        text-align: right;\n",
              "    }\n",
              "</style>\n",
              "<table border=\"1\" class=\"dataframe\">\n",
              "  <thead>\n",
              "    <tr style=\"text-align: right;\">\n",
              "      <th></th>\n",
              "      <th>city</th>\n",
              "      <th>population</th>\n",
              "      <th>foundation</th>\n",
              "      <th>area_km2</th>\n",
              "      <th>lat</th>\n",
              "      <th>lng</th>\n",
              "    </tr>\n",
              "  </thead>\n",
              "  <tbody>\n",
              "    <tr>\n",
              "      <th>0</th>\n",
              "      <td>Авдіївка</td>\n",
              "      <td>37210</td>\n",
              "      <td>1778</td>\n",
              "      <td>29.0</td>\n",
              "      <td>47.861948</td>\n",
              "      <td>30.591953</td>\n",
              "    </tr>\n",
              "    <tr>\n",
              "      <th>1</th>\n",
              "      <td>Алчевськ</td>\n",
              "      <td>119193</td>\n",
              "      <td>1895</td>\n",
              "      <td>50.0</td>\n",
              "      <td>46.304949</td>\n",
              "      <td>30.654779</td>\n",
              "    </tr>\n",
              "    <tr>\n",
              "      <th>2</th>\n",
              "      <td>Амвросіївка</td>\n",
              "      <td>22130</td>\n",
              "      <td>1869</td>\n",
              "      <td>19.4</td>\n",
              "      <td>47.793485</td>\n",
              "      <td>38.477680</td>\n",
              "    </tr>\n",
              "    <tr>\n",
              "      <th>3</th>\n",
              "      <td>Ананьїв</td>\n",
              "      <td>9476</td>\n",
              "      <td>1753</td>\n",
              "      <td>5.0</td>\n",
              "      <td>47.721061</td>\n",
              "      <td>29.945019</td>\n",
              "    </tr>\n",
              "    <tr>\n",
              "      <th>4</th>\n",
              "      <td>Андрушівка</td>\n",
              "      <td>9890</td>\n",
              "      <td>1683</td>\n",
              "      <td>6.8</td>\n",
              "      <td>50.022878</td>\n",
              "      <td>29.020226</td>\n",
              "    </tr>\n",
              "  </tbody>\n",
              "</table>\n",
              "</div>"
            ],
            "text/plain": [
              "          city population foundation  area_km2        lat        lng\n",
              "0     Авдіївка      37210       1778      29.0  47.861948  30.591953\n",
              "1     Алчевськ     119193       1895      50.0  46.304949  30.654779\n",
              "2  Амвросіївка      22130       1869      19.4  47.793485  38.477680\n",
              "3      Ананьїв       9476       1753       5.0  47.721061  29.945019\n",
              "4   Андрушівка       9890       1683       6.8  50.022878  29.020226"
            ]
          },
          "metadata": {
            "tags": []
          },
          "execution_count": 6
        }
      ]
    },
    {
      "cell_type": "code",
      "metadata": {
        "id": "li53Cp-5TOQp",
        "colab_type": "code",
        "colab": {
          "base_uri": "https://localhost:8080/",
          "height": 204
        },
        "outputId": "07e87d7a-2ab2-497d-c3b6-c48979e6787d"
      },
      "source": [
        "temp = pd.read_csv('ukr_cities.csv')\n",
        "temp.head()"
      ],
      "execution_count": null,
      "outputs": [
        {
          "output_type": "execute_result",
          "data": {
            "text/html": [
              "<div>\n",
              "<style scoped>\n",
              "    .dataframe tbody tr th:only-of-type {\n",
              "        vertical-align: middle;\n",
              "    }\n",
              "\n",
              "    .dataframe tbody tr th {\n",
              "        vertical-align: top;\n",
              "    }\n",
              "\n",
              "    .dataframe thead th {\n",
              "        text-align: right;\n",
              "    }\n",
              "</style>\n",
              "<table border=\"1\" class=\"dataframe\">\n",
              "  <thead>\n",
              "    <tr style=\"text-align: right;\">\n",
              "      <th></th>\n",
              "      <th>city</th>\n",
              "      <th>population</th>\n",
              "      <th>foundation</th>\n",
              "      <th>area_km2</th>\n",
              "      <th>lat</th>\n",
              "      <th>lng</th>\n",
              "    </tr>\n",
              "  </thead>\n",
              "  <tbody>\n",
              "    <tr>\n",
              "      <th>0</th>\n",
              "      <td>Авдіївка</td>\n",
              "      <td>37210</td>\n",
              "      <td>1778</td>\n",
              "      <td>29.0</td>\n",
              "      <td>47.861948</td>\n",
              "      <td>30.591953</td>\n",
              "    </tr>\n",
              "    <tr>\n",
              "      <th>1</th>\n",
              "      <td>Алчевськ</td>\n",
              "      <td>119193</td>\n",
              "      <td>1895</td>\n",
              "      <td>50.0</td>\n",
              "      <td>46.304949</td>\n",
              "      <td>30.654779</td>\n",
              "    </tr>\n",
              "    <tr>\n",
              "      <th>2</th>\n",
              "      <td>Амвросіївка</td>\n",
              "      <td>22130</td>\n",
              "      <td>1869</td>\n",
              "      <td>19.4</td>\n",
              "      <td>47.793485</td>\n",
              "      <td>38.477680</td>\n",
              "    </tr>\n",
              "    <tr>\n",
              "      <th>3</th>\n",
              "      <td>Ананьїв</td>\n",
              "      <td>9476</td>\n",
              "      <td>1753</td>\n",
              "      <td>5.0</td>\n",
              "      <td>47.721061</td>\n",
              "      <td>29.945019</td>\n",
              "    </tr>\n",
              "    <tr>\n",
              "      <th>4</th>\n",
              "      <td>Андрушівка</td>\n",
              "      <td>9890</td>\n",
              "      <td>1683</td>\n",
              "      <td>6.8</td>\n",
              "      <td>50.022878</td>\n",
              "      <td>29.020226</td>\n",
              "    </tr>\n",
              "  </tbody>\n",
              "</table>\n",
              "</div>"
            ],
            "text/plain": [
              "          city  population foundation  area_km2        lat        lng\n",
              "0     Авдіївка       37210       1778      29.0  47.861948  30.591953\n",
              "1     Алчевськ      119193       1895      50.0  46.304949  30.654779\n",
              "2  Амвросіївка       22130       1869      19.4  47.793485  38.477680\n",
              "3      Ананьїв        9476       1753       5.0  47.721061  29.945019\n",
              "4   Андрушівка        9890       1683       6.8  50.022878  29.020226"
            ]
          },
          "metadata": {
            "tags": []
          },
          "execution_count": 7
        }
      ]
    }
  ]
}