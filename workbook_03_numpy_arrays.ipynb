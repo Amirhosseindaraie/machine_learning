{
  "nbformat": 4,
  "nbformat_minor": 0,
  "metadata": {
    "colab": {
      "name": "workbook_03_numpy_arrays.ipynb",
      "provenance": [],
      "toc_visible": true,
      "include_colab_link": true
    },
    "kernelspec": {
      "name": "python3",
      "display_name": "Python 3"
    }
  },
  "cells": [
    {
      "cell_type": "markdown",
      "metadata": {
        "id": "view-in-github",
        "colab_type": "text"
      },
      "source": [
        "<a href=\"https://colab.research.google.com/github/fbeilstein/machine_learning/blob/master/workbook_03_numpy_arrays.ipynb\" target=\"_parent\"><img src=\"https://colab.research.google.com/assets/colab-badge.svg\" alt=\"Open In Colab\"/></a>"
      ]
    },
    {
      "cell_type": "code",
      "metadata": {
        "id": "rKVT7Y-RMYjm",
        "colab_type": "code",
        "cellView": "both",
        "colab": {}
      },
      "source": [
        "#@title Helper Functions\n",
        "\n",
        "str_style = '''\n",
        "<style>\n",
        "table {\n",
        "  border:1px solid black;\n",
        "  border-collapse: collapse;\n",
        "  border: 3px solid black;\n",
        "}\n",
        "\n",
        "td {\n",
        "  border: 3px solid black;\n",
        "  min-width:30px;\n",
        "  height: 30px;\n",
        "  position: relative; \n",
        "  text-align:center; \n",
        "  font-size:20px;\n",
        "  font-weight: bolder;\n",
        "  padding: 19px;\n",
        "  opacity: 0.95;\n",
        "}\n",
        "\n",
        ".up{\n",
        "  position: absolute; \n",
        "  right: 0;\n",
        "  top: 0;\n",
        "  background: white;\n",
        "  text-align: right;\n",
        "  font-size: 16px;\n",
        "  font-family: Courier;\n",
        "  font-weight: bolder;\n",
        "  color: blue;\n",
        "  opacity: 1.0;\n",
        "}\n",
        "\n",
        ".down{\n",
        "  position: absolute; \n",
        "  right: 0;\n",
        "  bottom: 0;\n",
        "  background: white;\n",
        "  text-align: right;\n",
        "  font-size: 16px;\n",
        "  font-family: Courier;\n",
        "  font-weight: bolder;\n",
        "  color: red;\n",
        "  opacity: 0.9;\n",
        "}\n",
        "</style>\n",
        "'''\n",
        "\n",
        "def enclose_element(element, idx_up, idx_down):\n",
        "  return ('\\t<td>' + str(element) + '<span class=\"up\">' \n",
        "                   + str(idx_up)  + '</span><span class=\"down\">' \n",
        "                   + str(idx_down) + '</span></td>')\n",
        "\n",
        "def horizontal_tbl(array):\n",
        "  result = '<table><tr>\\n'\n",
        "  max_count = len(array)\n",
        "  for idx, e in enumerate(array):\n",
        "    result += enclose_element(e, idx, idx - max_count) + '\\n'\n",
        "  result += '</tr></table>\\n'\n",
        "  return result\n",
        "\n",
        "def vertical_tbl(array):\n",
        "  result = '<table>\\n'\n",
        "  max_count = len(array)\n",
        "  for idx, e in enumerate(array):\n",
        "    result += '<tr>' + enclose_element(e, idx, idx - max_count) + '</tr>\\n'\n",
        "  result += '</table>\\n'\n",
        "  return result\n",
        "\n",
        "def recursive_tbl(array, parity):\n",
        "  if len(array.shape) == 1:\n",
        "    return horizontal_tbl(array)\n",
        "  if parity:\n",
        "    return horizontal_tbl([recursive_tbl(x, not parity) for x in array])\n",
        "  else:\n",
        "    return vertical_tbl([recursive_tbl(x, not parity) for x in array])\n",
        "\n",
        "def visualize_array(array):\n",
        "  array_str = recursive_tbl(array, len(array.shape) % 2)\n",
        "  import IPython\n",
        "  from google.colab import output\n",
        "  display(IPython.display.HTML(str_style + array_str))"
      ],
      "execution_count": 0,
      "outputs": []
    },
    {
      "cell_type": "code",
      "metadata": {
        "id": "h-pnxOBMPKOs",
        "colab_type": "code",
        "outputId": "b3132f95-0bc6-48a9-fa18-23aacdfef38e",
        "colab": {
          "base_uri": "https://localhost:8080/",
          "height": 561
        }
      },
      "source": [
        "import numpy as np\n",
        "\n",
        "a = np.array([[[1,2,3,4],[5,6,7,8]], [[1,2,3,4],[5,6,7,8]]])\n",
        "print(\"ORIGINAL ARRAY\")\n",
        "visualize_array(a)\n",
        "\n",
        "b = a.reshape(2,8)\n",
        "print(\"RESHAPED ARRAY\")\n",
        "visualize_array(b)"
      ],
      "execution_count": 51,
      "outputs": [
        {
          "output_type": "stream",
          "text": [
            "ORIGINAL ARRAY\n"
          ],
          "name": "stdout"
        },
        {
          "output_type": "display_data",
          "data": {
            "text/html": [
              "\n",
              "<style>\n",
              "table {\n",
              "  border:1px solid black;\n",
              "  border-collapse: collapse;\n",
              "  border: 3px solid black;\n",
              "}\n",
              "\n",
              "td {\n",
              "  border: 3px solid black;\n",
              "  min-width:30px;\n",
              "  height: 30px;\n",
              "  position: relative; \n",
              "  text-align:center; \n",
              "  font-size:20px;\n",
              "  font-weight: bolder;\n",
              "  padding: 19px;\n",
              "  opacity: 0.95;\n",
              "}\n",
              "\n",
              ".up{\n",
              "  position: absolute; \n",
              "  right: 0;\n",
              "  top: 0;\n",
              "  background: white;\n",
              "  text-align: right;\n",
              "  font-size: 16px;\n",
              "  font-family: Courier;\n",
              "  font-weight: bolder;\n",
              "  color: blue;\n",
              "  opacity: 1.0;\n",
              "}\n",
              "\n",
              ".down{\n",
              "  position: absolute; \n",
              "  right: 0;\n",
              "  bottom: 0;\n",
              "  background: white;\n",
              "  text-align: right;\n",
              "  font-size: 16px;\n",
              "  font-family: Courier;\n",
              "  font-weight: bolder;\n",
              "  color: red;\n",
              "  opacity: 0.9;\n",
              "}\n",
              "</style>\n",
              "<table><tr>\n",
              "\t<td><table>\n",
              "<tr>\t<td><table><tr>\n",
              "\t<td>1<span class=\"up\">0</span><span class=\"down\">-4</span></td>\n",
              "\t<td>2<span class=\"up\">1</span><span class=\"down\">-3</span></td>\n",
              "\t<td>3<span class=\"up\">2</span><span class=\"down\">-2</span></td>\n",
              "\t<td>4<span class=\"up\">3</span><span class=\"down\">-1</span></td>\n",
              "</tr></table>\n",
              "<span class=\"up\">0</span><span class=\"down\">-2</span></td></tr>\n",
              "<tr>\t<td><table><tr>\n",
              "\t<td>5<span class=\"up\">0</span><span class=\"down\">-4</span></td>\n",
              "\t<td>6<span class=\"up\">1</span><span class=\"down\">-3</span></td>\n",
              "\t<td>7<span class=\"up\">2</span><span class=\"down\">-2</span></td>\n",
              "\t<td>8<span class=\"up\">3</span><span class=\"down\">-1</span></td>\n",
              "</tr></table>\n",
              "<span class=\"up\">1</span><span class=\"down\">-1</span></td></tr>\n",
              "</table>\n",
              "<span class=\"up\">0</span><span class=\"down\">-2</span></td>\n",
              "\t<td><table>\n",
              "<tr>\t<td><table><tr>\n",
              "\t<td>1<span class=\"up\">0</span><span class=\"down\">-4</span></td>\n",
              "\t<td>2<span class=\"up\">1</span><span class=\"down\">-3</span></td>\n",
              "\t<td>3<span class=\"up\">2</span><span class=\"down\">-2</span></td>\n",
              "\t<td>4<span class=\"up\">3</span><span class=\"down\">-1</span></td>\n",
              "</tr></table>\n",
              "<span class=\"up\">0</span><span class=\"down\">-2</span></td></tr>\n",
              "<tr>\t<td><table><tr>\n",
              "\t<td>5<span class=\"up\">0</span><span class=\"down\">-4</span></td>\n",
              "\t<td>6<span class=\"up\">1</span><span class=\"down\">-3</span></td>\n",
              "\t<td>7<span class=\"up\">2</span><span class=\"down\">-2</span></td>\n",
              "\t<td>8<span class=\"up\">3</span><span class=\"down\">-1</span></td>\n",
              "</tr></table>\n",
              "<span class=\"up\">1</span><span class=\"down\">-1</span></td></tr>\n",
              "</table>\n",
              "<span class=\"up\">1</span><span class=\"down\">-1</span></td>\n",
              "</tr></table>\n"
            ],
            "text/plain": [
              "<IPython.core.display.HTML object>"
            ]
          },
          "metadata": {
            "tags": []
          }
        },
        {
          "output_type": "stream",
          "text": [
            "RESHAPED ARRAY\n"
          ],
          "name": "stdout"
        },
        {
          "output_type": "display_data",
          "data": {
            "text/html": [
              "\n",
              "<style>\n",
              "table {\n",
              "  border:1px solid black;\n",
              "  border-collapse: collapse;\n",
              "  border: 3px solid black;\n",
              "}\n",
              "\n",
              "td {\n",
              "  border: 3px solid black;\n",
              "  min-width:30px;\n",
              "  height: 30px;\n",
              "  position: relative; \n",
              "  text-align:center; \n",
              "  font-size:20px;\n",
              "  font-weight: bolder;\n",
              "  padding: 19px;\n",
              "  opacity: 0.95;\n",
              "}\n",
              "\n",
              ".up{\n",
              "  position: absolute; \n",
              "  right: 0;\n",
              "  top: 0;\n",
              "  background: white;\n",
              "  text-align: right;\n",
              "  font-size: 16px;\n",
              "  font-family: Courier;\n",
              "  font-weight: bolder;\n",
              "  color: blue;\n",
              "  opacity: 1.0;\n",
              "}\n",
              "\n",
              ".down{\n",
              "  position: absolute; \n",
              "  right: 0;\n",
              "  bottom: 0;\n",
              "  background: white;\n",
              "  text-align: right;\n",
              "  font-size: 16px;\n",
              "  font-family: Courier;\n",
              "  font-weight: bolder;\n",
              "  color: red;\n",
              "  opacity: 0.9;\n",
              "}\n",
              "</style>\n",
              "<table>\n",
              "<tr>\t<td><table><tr>\n",
              "\t<td>1<span class=\"up\">0</span><span class=\"down\">-8</span></td>\n",
              "\t<td>2<span class=\"up\">1</span><span class=\"down\">-7</span></td>\n",
              "\t<td>3<span class=\"up\">2</span><span class=\"down\">-6</span></td>\n",
              "\t<td>4<span class=\"up\">3</span><span class=\"down\">-5</span></td>\n",
              "\t<td>5<span class=\"up\">4</span><span class=\"down\">-4</span></td>\n",
              "\t<td>6<span class=\"up\">5</span><span class=\"down\">-3</span></td>\n",
              "\t<td>7<span class=\"up\">6</span><span class=\"down\">-2</span></td>\n",
              "\t<td>8<span class=\"up\">7</span><span class=\"down\">-1</span></td>\n",
              "</tr></table>\n",
              "<span class=\"up\">0</span><span class=\"down\">-2</span></td></tr>\n",
              "<tr>\t<td><table><tr>\n",
              "\t<td>1<span class=\"up\">0</span><span class=\"down\">-8</span></td>\n",
              "\t<td>2<span class=\"up\">1</span><span class=\"down\">-7</span></td>\n",
              "\t<td>3<span class=\"up\">2</span><span class=\"down\">-6</span></td>\n",
              "\t<td>4<span class=\"up\">3</span><span class=\"down\">-5</span></td>\n",
              "\t<td>5<span class=\"up\">4</span><span class=\"down\">-4</span></td>\n",
              "\t<td>6<span class=\"up\">5</span><span class=\"down\">-3</span></td>\n",
              "\t<td>7<span class=\"up\">6</span><span class=\"down\">-2</span></td>\n",
              "\t<td>8<span class=\"up\">7</span><span class=\"down\">-1</span></td>\n",
              "</tr></table>\n",
              "<span class=\"up\">1</span><span class=\"down\">-1</span></td></tr>\n",
              "</table>\n"
            ],
            "text/plain": [
              "<IPython.core.display.HTML object>"
            ]
          },
          "metadata": {
            "tags": []
          }
        }
      ]
    },
    {
      "cell_type": "markdown",
      "metadata": {
        "id": "tLOmS8llR-UM",
        "colab_type": "text"
      },
      "source": [
        "#Beginner"
      ]
    },
    {
      "cell_type": "markdown",
      "metadata": {
        "id": "WdeAk7T7Gubx",
        "colab_type": "text"
      },
      "source": [
        "##1. Import numpy as np and see the version"
      ]
    },
    {
      "cell_type": "markdown",
      "metadata": {
        "id": "vHCgxwI_HM3Z",
        "colab_type": "text"
      },
      "source": [
        "**Problem:**\n",
        "Import numpy as “np” and print the version number."
      ]
    },
    {
      "cell_type": "code",
      "metadata": {
        "id": "JsYrxTWsGubz",
        "colab_type": "code",
        "colab": {}
      },
      "source": [
        "# Enter your code here"
      ],
      "execution_count": 0,
      "outputs": []
    },
    {
      "cell_type": "markdown",
      "metadata": {
        "id": "dVQBH7mVGub3",
        "colab_type": "text"
      },
      "source": [
        "###Solution:"
      ]
    },
    {
      "cell_type": "code",
      "metadata": {
        "id": "bq7CLWBuGub4",
        "colab_type": "code",
        "colab": {}
      },
      "source": [
        "import numpy as np\n",
        "print(np.__version__)"
      ],
      "execution_count": 0,
      "outputs": []
    },
    {
      "cell_type": "markdown",
      "metadata": {
        "id": "x8_Gd_SOGub7",
        "colab_type": "text"
      },
      "source": [
        "##2. How to create a 1D array?\n"
      ]
    },
    {
      "cell_type": "markdown",
      "metadata": {
        "id": "_yxf32rgHwF5",
        "colab_type": "text"
      },
      "source": [
        "**Problem:**\n",
        "\n",
        "Create a 1D array of numbers from 0 to 9\n",
        "\n",
        "**Expected output:**\n",
        "```\n",
        "array([0, 1, 2, 3, 4, 5, 6, 7, 8, 9])\n",
        "```"
      ]
    },
    {
      "cell_type": "code",
      "metadata": {
        "id": "JuUiYkN9Gub8",
        "colab_type": "code",
        "colab": {}
      },
      "source": [
        "import numpy as np\n",
        "\n",
        "# Enter your code here"
      ],
      "execution_count": 0,
      "outputs": []
    },
    {
      "cell_type": "markdown",
      "metadata": {
        "id": "iPwv8yolGub-",
        "colab_type": "text"
      },
      "source": [
        "###Solution:"
      ]
    },
    {
      "cell_type": "code",
      "metadata": {
        "id": "cuPfPtqFGub_",
        "colab_type": "code",
        "colab": {}
      },
      "source": [
        "import numpy as np\n",
        "\n",
        "# Solution\n",
        "np.arange(10)"
      ],
      "execution_count": 0,
      "outputs": []
    },
    {
      "cell_type": "markdown",
      "metadata": {
        "id": "OtleUkZHGucB",
        "colab_type": "text"
      },
      "source": [
        "##3. How to create a boolean array?"
      ]
    },
    {
      "cell_type": "markdown",
      "metadata": {
        "id": "kTA1WHjHp7EL",
        "colab_type": "text"
      },
      "source": [
        "**Problem:**\n",
        "\n",
        "Create a 3x3 numpy array of all True’s\n",
        "\n",
        "**Expected output:**\n",
        "\n",
        "```\n",
        "array([[ True,  True,  True],\n",
        "       [ True,  True,  True],\n",
        "       [ True,  True,  True]])\n",
        "```"
      ]
    },
    {
      "cell_type": "code",
      "metadata": {
        "id": "ngtPYmVrGucC",
        "colab_type": "code",
        "colab": {}
      },
      "source": [
        "import numpy as np\n",
        "\n",
        "# Enter your code here"
      ],
      "execution_count": 0,
      "outputs": []
    },
    {
      "cell_type": "markdown",
      "metadata": {
        "id": "pCeDPRSDGucE",
        "colab_type": "text"
      },
      "source": [
        "###Solution A:"
      ]
    },
    {
      "cell_type": "code",
      "metadata": {
        "id": "npwUBfk5GucF",
        "colab_type": "code",
        "colab": {}
      },
      "source": [
        "import numpy as np\n",
        "\n",
        "# Solution\n",
        "np.full((3, 3), True, dtype=bool)"
      ],
      "execution_count": 0,
      "outputs": []
    },
    {
      "cell_type": "markdown",
      "metadata": {
        "id": "6kznVyy3pxZ8",
        "colab_type": "text"
      },
      "source": [
        "###Solution B:"
      ]
    },
    {
      "cell_type": "code",
      "metadata": {
        "id": "rDfLd80RpqsC",
        "colab_type": "code",
        "colab": {}
      },
      "source": [
        "import numpy as np\n",
        "\n",
        "# Solution\n",
        "np.ones((3,3), dtype=bool)"
      ],
      "execution_count": 0,
      "outputs": []
    },
    {
      "cell_type": "markdown",
      "metadata": {
        "id": "YjkYxBZdGucH",
        "colab_type": "text"
      },
      "source": [
        "##4. How to extract items that satisfy a given condition from 1D array?"
      ]
    },
    {
      "cell_type": "markdown",
      "metadata": {
        "id": "XaUh5uuZrAUo",
        "colab_type": "text"
      },
      "source": [
        "**Problem:**\n",
        "Extract all odd numbers from numpy.array.\n",
        "\n",
        "**Possible Input:**\n",
        "```python\n",
        "arr = np.array([0, 1, 2, 3, 4, 5, 6, 7, 8, 9])\n",
        "```\n",
        "\n",
        "**Expected Output:**\n",
        "```\n",
        "array([1, 3, 5, 7, 9])\n",
        "```"
      ]
    },
    {
      "cell_type": "code",
      "metadata": {
        "id": "XdYyA1FiGucI",
        "colab_type": "code",
        "colab": {}
      },
      "source": [
        "import numpy as np\n",
        "\n",
        "# Input\n",
        "arr = np.array([0, 1, 2, 3, 4, 5, 6, 7, 8, 9])\n",
        "\n",
        "# Enter your code here"
      ],
      "execution_count": 0,
      "outputs": []
    },
    {
      "cell_type": "markdown",
      "metadata": {
        "id": "QJ3mp0YVGucK",
        "colab_type": "text"
      },
      "source": [
        "###Solution:"
      ]
    },
    {
      "cell_type": "code",
      "metadata": {
        "id": "DiI7owH4GucL",
        "colab_type": "code",
        "colab": {}
      },
      "source": [
        "import numpy as np\n",
        "\n",
        "# Input\n",
        "arr = np.array([0, 1, 2, 3, 4, 5, 6, 7, 8, 9])\n",
        "\n",
        "# Solution\n",
        "arr[arr % 2 == 1]"
      ],
      "execution_count": 0,
      "outputs": []
    },
    {
      "cell_type": "markdown",
      "metadata": {
        "id": "1Xau_-6iGucN",
        "colab_type": "text"
      },
      "source": [
        "##5. How to replace items that satisfy a condition with another value in numpy array?"
      ]
    },
    {
      "cell_type": "markdown",
      "metadata": {
        "id": "V6Cnp9_dwNt0",
        "colab_type": "text"
      },
      "source": [
        "**Problem:**\n",
        "Replace all odd numbers in numpy.array with -1\n",
        "\n",
        "**Possible Input:**\n",
        "```python\n",
        "arr = np.array([0, 1, 2, 3, 4, 5, 6, 7, 8, 9])\n",
        "```\n",
        "\n",
        "**Expected Output:**\n",
        "```\n",
        "array([ 0, -1,  2, -1,  4, -1,  6, -1,  8, -1])\n",
        "```"
      ]
    },
    {
      "cell_type": "code",
      "metadata": {
        "id": "t-K4juTVGucO",
        "colab_type": "code",
        "colab": {}
      },
      "source": [
        "import numpy as np\n",
        "\n",
        "# Input\n",
        "arr = np.array([0, 1, 2, 3, 4, 5, 6, 7, 8, 9])\n",
        "\n",
        "# Enter your code here"
      ],
      "execution_count": 0,
      "outputs": []
    },
    {
      "cell_type": "markdown",
      "metadata": {
        "id": "lFj9GFvCGucP",
        "colab_type": "text"
      },
      "source": [
        "###Solution:"
      ]
    },
    {
      "cell_type": "code",
      "metadata": {
        "id": "bS6AKVIcGucQ",
        "colab_type": "code",
        "colab": {}
      },
      "source": [
        "import numpy as np\n",
        "\n",
        "# Input\n",
        "arr = np.array([0, 1, 2, 3, 4, 5, 6, 7, 8, 9])\n",
        "\n",
        "# Solution\n",
        "arr[arr % 2 == 1] = -1\n",
        "arr"
      ],
      "execution_count": 0,
      "outputs": []
    },
    {
      "cell_type": "markdown",
      "metadata": {
        "id": "Ho98pO7dGucV",
        "colab_type": "text"
      },
      "source": [
        "##6. How to reshape an array?"
      ]
    },
    {
      "cell_type": "markdown",
      "metadata": {
        "id": "YNOXqqfo40GF",
        "colab_type": "text"
      },
      "source": [
        "**Problem:**\n",
        "Convert a 1D array to a 2D array with 2 rows.\n",
        "\n",
        "**Possible Input:**\n",
        "```python\n",
        "arr = np.arange(10)\n",
        "```\n",
        "\n",
        "**Expected Output:**\n",
        "```\n",
        "array([[0, 1, 2, 3, 4],\n",
        "       [5, 6, 7, 8, 9]])\n",
        "```"
      ]
    },
    {
      "cell_type": "code",
      "metadata": {
        "id": "Y0FNzACqGucW",
        "colab_type": "code",
        "colab": {}
      },
      "source": [
        "import numpy as np\n",
        "\n",
        "# Input\n",
        "arr = np.arange(10)\n",
        "\n",
        "# Enter your code here"
      ],
      "execution_count": 0,
      "outputs": []
    },
    {
      "cell_type": "markdown",
      "metadata": {
        "id": "kK7guQzmGucX",
        "colab_type": "text"
      },
      "source": [
        "###Solution:"
      ]
    },
    {
      "cell_type": "code",
      "metadata": {
        "id": "1lhfYR0qGucX",
        "colab_type": "code",
        "colab": {}
      },
      "source": [
        "import numpy as np\n",
        "\n",
        "# Input\n",
        "arr = np.arange(10)\n",
        "\n",
        "# Solution\n",
        "arr.reshape(2, -1) # Setting to -1 automatically decides the number of cols"
      ],
      "execution_count": 0,
      "outputs": []
    },
    {
      "cell_type": "markdown",
      "metadata": {
        "id": "g6zeZXVmGueO",
        "colab_type": "text"
      },
      "source": [
        "##7. How to print only 3 decimal places in python numpy array?"
      ]
    },
    {
      "cell_type": "markdown",
      "metadata": {
        "id": "tcQEIQiIa_SR",
        "colab_type": "text"
      },
      "source": [
        "**Problem:**\n",
        "Print or show only 3 decimal places of the numpy array rand_arr.\n",
        "\n",
        "**Possible Input:**\n",
        "```python\n",
        "rand_arr = np.array([[0.548814, 0.715189, 0.602763],\n",
        "                     [0.544883, 0.423655, 0.645894],\n",
        "                     [0.437587, 0.891773, 0.963663],\n",
        "                     [0.383442, 0.791725, 0.528895],\n",
        "                     [0.568045, 0.925597, 0.071036]])\n",
        "```\n",
        "\n",
        "**Expected Output:**\n",
        "```\n",
        "array([[0.549, 0.715, 0.603],\n",
        "       [0.545, 0.424, 0.646],\n",
        "       [0.438, 0.892, 0.964],\n",
        "       [0.383, 0.792, 0.529],\n",
        "       [0.568, 0.926, 0.071]])\n",
        "```"
      ]
    },
    {
      "cell_type": "code",
      "metadata": {
        "id": "ouF1ggltGueO",
        "colab_type": "code",
        "colab": {}
      },
      "source": [
        "import numpy as np\n",
        "\n",
        "# Input\n",
        "rand_arr = np.array([[0.548814, 0.715189, 0.602763],\n",
        "                     [0.544883, 0.423655, 0.645894],\n",
        "                     [0.437587, 0.891773, 0.963663],\n",
        "                     [0.383442, 0.791725, 0.528895],\n",
        "                     [0.568045, 0.925597, 0.071036]])\n",
        "\n",
        "# Enter your code here"
      ],
      "execution_count": 0,
      "outputs": []
    },
    {
      "cell_type": "markdown",
      "metadata": {
        "id": "w3ouv8r0GueQ",
        "colab_type": "text"
      },
      "source": [
        "###Solution:"
      ]
    },
    {
      "cell_type": "code",
      "metadata": {
        "id": "T5DciI4ZGueQ",
        "colab_type": "code",
        "colab": {}
      },
      "source": [
        "import numpy as np\n",
        "\n",
        "# Input\n",
        "rand_arr = np.array([[0.548814, 0.715189, 0.602763],\n",
        "                     [0.544883, 0.423655, 0.645894],\n",
        "                     [0.437587, 0.891773, 0.963663],\n",
        "                     [0.383442, 0.791725, 0.528895],\n",
        "                     [0.568045, 0.925597, 0.071036]])\n",
        "\n",
        "# Solution\n",
        "np.set_printoptions(precision=3)\n",
        "rand_arr"
      ],
      "execution_count": 0,
      "outputs": []
    },
    {
      "cell_type": "markdown",
      "metadata": {
        "id": "xkqDKmKkGueR",
        "colab_type": "text"
      },
      "source": [
        "##8. How to pretty print a numpy array by suppressing the scientific notation (like 1e10)?"
      ]
    },
    {
      "cell_type": "markdown",
      "metadata": {
        "id": "hHQcgrSDdK0w",
        "colab_type": "text"
      },
      "source": [
        "**Problem:**\n",
        "Pretty print rand_arr by suppressing the scientific notation (like 1e10)\n",
        "\n",
        "**Possible Input:**\n",
        "```python\n",
        "rand_arr = np.array([[5.434e-04, 2.784e-04, 4.245e-04],\n",
        "                     [8.448e-04, 4.719e-06, 1.216e-04],\n",
        "                     [6.707e-04, 8.259e-04, 1.367e-04]])\n",
        "```\n",
        "\n",
        "**Expected Output:**\n",
        "```\n",
        "array([[0.000543, 0.000278, 0.000425],\n",
        "       [0.000845, 0.000005, 0.000122],\n",
        "       [0.000671, 0.000826, 0.000137]])\n",
        "```"
      ]
    },
    {
      "cell_type": "code",
      "metadata": {
        "id": "UBhPKIdIGueS",
        "colab_type": "code",
        "colab": {}
      },
      "source": [
        "import numpy as np\n",
        "\n",
        "# Input\n",
        "rand_arr = np.array([[5.434e-04, 2.784e-04, 4.245e-04],\n",
        "                     [8.448e-04, 4.719e-06, 1.216e-04],\n",
        "                     [6.707e-04, 8.259e-04, 1.367e-04]])\n",
        "\n",
        "# Enter your code here"
      ],
      "execution_count": 0,
      "outputs": []
    },
    {
      "cell_type": "markdown",
      "metadata": {
        "id": "1T3qKqXlGueT",
        "colab_type": "text"
      },
      "source": [
        "###Solution:"
      ]
    },
    {
      "cell_type": "code",
      "metadata": {
        "id": "xArwPDF5GueT",
        "colab_type": "code",
        "colab": {}
      },
      "source": [
        "import numpy as np\n",
        "\n",
        "# Input\n",
        "rand_arr = np.array([[5.434e-04, 2.784e-04, 4.245e-04],\n",
        "                     [8.448e-04, 4.719e-06, 1.216e-04],\n",
        "                     [6.707e-04, 8.259e-04, 1.367e-04]])\n",
        "\n",
        "# Solution\n",
        "np.set_printoptions(suppress=True, precision=6)\n",
        "rand_arr"
      ],
      "execution_count": 0,
      "outputs": []
    },
    {
      "cell_type": "markdown",
      "metadata": {
        "id": "83PntHbxGueU",
        "colab_type": "text"
      },
      "source": [
        "##9. How to limit the number of items printed in output of numpy array?"
      ]
    },
    {
      "cell_type": "markdown",
      "metadata": {
        "id": "16ybC3Q8e7Bx",
        "colab_type": "text"
      },
      "source": [
        "**Problem:**\n",
        "Limit the number of items printed in python numpy array a to a maximum of 6 elements.\n",
        "\n",
        "**Possible Input:**\n",
        "```python\n",
        "a = np.array([ 0,  1,  2,  3,  4,  5,  6,  7,  8,  9, 10, 11, 12, 13, 14])\n",
        "```\n",
        "\n",
        "**Expected Output:**\n",
        "```\n",
        "array([ 0,  1,  2, ..., 12, 13, 14])\n",
        "```"
      ]
    },
    {
      "cell_type": "code",
      "metadata": {
        "id": "zFUJCTzGGueU",
        "colab_type": "code",
        "colab": {}
      },
      "source": [
        "import numpy as np\n",
        "\n",
        "# Input\n",
        "a = np.array([ 0,  1,  2,  3,  4,  5,  6,  7,  8,  9, 10, 11, 12, 13, 14])\n",
        "\n",
        "# Enter your code here"
      ],
      "execution_count": 0,
      "outputs": []
    },
    {
      "cell_type": "markdown",
      "metadata": {
        "id": "lwFAlNW6GueV",
        "colab_type": "text"
      },
      "source": [
        "###Solution:"
      ]
    },
    {
      "cell_type": "code",
      "metadata": {
        "id": "os3_KBXBGueV",
        "colab_type": "code",
        "colab": {}
      },
      "source": [
        "import numpy as np\n",
        "\n",
        "# Input\n",
        "a = np.array([ 0,  1,  2,  3,  4,  5,  6,  7,  8,  9, 10, 11, 12, 13, 14])\n",
        "\n",
        "# Solution\n",
        "np.set_printoptions(threshold=6)\n",
        "a"
      ],
      "execution_count": 0,
      "outputs": []
    },
    {
      "cell_type": "markdown",
      "metadata": {
        "id": "VzDEVk-mGueX",
        "colab_type": "text"
      },
      "source": [
        "##10. How to print the full numpy array without truncating"
      ]
    },
    {
      "cell_type": "markdown",
      "metadata": {
        "id": "fU8Kqcazf8OJ",
        "colab_type": "text"
      },
      "source": [
        "**Problem:**\n",
        "Print the full numpy array a without truncating.\n",
        "\n",
        "**Possible Input:**\n",
        "```python\n",
        "a = np.array([ 0,  1,  2,  3,  4,  5,  6,  7,  8,  9, 10, 11, 12, 13, 14])\n",
        "```\n",
        "\n",
        "**Expected Output:**\n",
        "```\n",
        "array([ 0,  1,  2,  3,  4,  5,  6,  7,  8,  9, 10, 11, 12, 13, 14])\n",
        "```"
      ]
    },
    {
      "cell_type": "code",
      "metadata": {
        "id": "IrgWJHKLGueX",
        "colab_type": "code",
        "colab": {}
      },
      "source": [
        "import numpy as np\n",
        "\n",
        "# Input\n",
        "a = np.array([ 0,  1,  2,  3,  4,  5,  6,  7,  8,  9, 10, 11, 12, 13, 14])\n",
        "\n",
        "# Enter your code here"
      ],
      "execution_count": 0,
      "outputs": []
    },
    {
      "cell_type": "markdown",
      "metadata": {
        "id": "nF7mItm5GueY",
        "colab_type": "text"
      },
      "source": [
        "###Solution:"
      ]
    },
    {
      "cell_type": "code",
      "metadata": {
        "id": "Hi9dAleMGueZ",
        "colab_type": "code",
        "colab": {}
      },
      "source": [
        "import numpy as np\n",
        "\n",
        "# Input\n",
        "a = np.array([ 0,  1,  2,  3,  4,  5,  6,  7,  8,  9, 10, 11, 12, 13, 14])\n",
        "\n",
        "# Solution\n",
        "np.set_printoptions(threshold=np.inf)\n",
        "a"
      ],
      "execution_count": 0,
      "outputs": []
    },
    {
      "cell_type": "markdown",
      "metadata": {
        "id": "j6ADk17mGuei",
        "colab_type": "text"
      },
      "source": [
        "##11. How to compute the mean, median, standard deviation of a numpy array?"
      ]
    },
    {
      "cell_type": "markdown",
      "metadata": {
        "id": "uIBSbhItLV4y",
        "colab_type": "text"
      },
      "source": [
        "**Problem:**\n",
        "Find the mean, median, standard deviation of given 1D array.\n",
        "\n",
        "**Possible input:**\n",
        "```python\n",
        "arr = np.array([1,2,3,4,5,6,7,8,9,10])\n",
        "```\n",
        "\n",
        "**Expected output:**\n",
        "```\n",
        "mean =  5.5 ; median =  5.5 ; deviation =  2.8722813232690143\n",
        "```"
      ]
    },
    {
      "cell_type": "code",
      "metadata": {
        "id": "VGr4TM6eGuej",
        "colab_type": "code",
        "colab": {}
      },
      "source": [
        "import numpy as np\n",
        "\n",
        "# Input\n",
        "arr = np.array([1,2,3,4,5,6,7,8,9,10])\n",
        "\n",
        "# Enter your code here\n",
        "\n",
        "# Output\n",
        "print(\"mean = \", mu, \"; median = \", med, \"; deviation = \", sd)"
      ],
      "execution_count": 0,
      "outputs": []
    },
    {
      "cell_type": "markdown",
      "metadata": {
        "id": "JeXghPBeGuek",
        "colab_type": "text"
      },
      "source": [
        "###Solution:"
      ]
    },
    {
      "cell_type": "code",
      "metadata": {
        "id": "IU4NgOPAGuek",
        "colab_type": "code",
        "colab": {}
      },
      "source": [
        "import numpy as np\n",
        "\n",
        "# Input\n",
        "arr = np.array([1,2,3,4,5,6,7,8,9,10])\n",
        "\n",
        "# Solution\n",
        "mu, med, sd = np.mean(arr), np.median(arr), np.std(arr)\n",
        "\n",
        "# Output\n",
        "print(\"mean = \", mu, \"; median = \", med, \"; deviation = \", sd)"
      ],
      "execution_count": 0,
      "outputs": []
    },
    {
      "cell_type": "markdown",
      "metadata": {
        "id": "O70AdXlmGuer",
        "colab_type": "text"
      },
      "source": [
        "##12. How to find the percentile scores of a numpy array?\n"
      ]
    },
    {
      "cell_type": "markdown",
      "metadata": {
        "id": "xAdWtJB_Vqz5",
        "colab_type": "text"
      },
      "source": [
        "**Problem:**\n",
        "Find the 5th and 95th percentile of given array.\n",
        "\n",
        "**Possible Input:**\n",
        "```python\n",
        "arr = np.array([1,2,3,4,5,6,7,8,9,10])\n",
        "```\n",
        "\n",
        "**Expected Output:**\n",
        "```\n",
        "array([1.45, 9.55])\n",
        "```"
      ]
    },
    {
      "cell_type": "code",
      "metadata": {
        "id": "W2mdKguyGuer",
        "colab_type": "code",
        "colab": {}
      },
      "source": [
        "import numpy as np\n",
        "\n",
        "# Input\n",
        "arr = np.array([1,2,3,4,5,6,7,8,9,10])\n",
        "\n",
        "# Enter your code here"
      ],
      "execution_count": 0,
      "outputs": []
    },
    {
      "cell_type": "markdown",
      "metadata": {
        "id": "-pf_gEq8Gues",
        "colab_type": "text"
      },
      "source": [
        "###Solution:"
      ]
    },
    {
      "cell_type": "code",
      "metadata": {
        "id": "wCp_fOBDGuet",
        "colab_type": "code",
        "colab": {}
      },
      "source": [
        "import numpy as np\n",
        "\n",
        "# Input\n",
        "arr = np.array([1,2,3,4,5,6,7,8,9,10])\n",
        "\n",
        "# Solution\n",
        "np.percentile(arr, q=[5, 95])"
      ],
      "execution_count": 0,
      "outputs": []
    },
    {
      "cell_type": "markdown",
      "metadata": {
        "id": "CZOJ8I5uGufQ",
        "colab_type": "text"
      },
      "source": [
        "##13. How to find the most frequent value in a numpy array?\n",
        "\n",
        "\n"
      ]
    },
    {
      "cell_type": "markdown",
      "metadata": {
        "id": "RZNdworA3end",
        "colab_type": "text"
      },
      "source": [
        "**Problem:**\n",
        "Find the most frequent value in the given array.\n",
        "\n",
        "**Possible Input:**\n",
        "```python\n",
        "arr = np.array([3, 4, 2, 1, 1, 1, 2, 3, 1, 3])\n",
        "```\n",
        "**Expected Output:**\n",
        "```\n",
        "1\n",
        "```"
      ]
    },
    {
      "cell_type": "code",
      "metadata": {
        "id": "_LcR6Uy4GufQ",
        "colab_type": "code",
        "colab": {}
      },
      "source": [
        "import numpy as np\n",
        "\n",
        "# Input:\n",
        "arr = np.array([3, 4, 2, 1, 1, 1, 2, 3, 1, 3])\n",
        "\n",
        "# Enter your code here"
      ],
      "execution_count": 0,
      "outputs": []
    },
    {
      "cell_type": "markdown",
      "metadata": {
        "id": "RVvXVMPwGufQ",
        "colab_type": "text"
      },
      "source": [
        "###Solution:"
      ]
    },
    {
      "cell_type": "code",
      "metadata": {
        "id": "PQzAmgudGufQ",
        "colab_type": "code",
        "colab": {}
      },
      "source": [
        "import numpy as np\n",
        "\n",
        "# Input:\n",
        "arr = np.array([3, 4, 2, 1, 1, 1, 2, 3, 1, 3])\n",
        "\n",
        "# Solution:\n",
        "vals, counts = np.unique(arr, return_counts=True)\n",
        "vals[np.argmax(counts)]"
      ],
      "execution_count": 0,
      "outputs": []
    },
    {
      "cell_type": "markdown",
      "metadata": {
        "id": "YiNMBxl8SAiz",
        "colab_type": "text"
      },
      "source": [
        "#Intermediate"
      ]
    },
    {
      "cell_type": "markdown",
      "metadata": {
        "id": "86EgQATpGucR",
        "colab_type": "text"
      },
      "source": [
        "##1. How to replace items that satisfy a condition without affecting the original array?"
      ]
    },
    {
      "cell_type": "markdown",
      "metadata": {
        "id": "vc0CICWh0m6c",
        "colab_type": "text"
      },
      "source": [
        "**Problem:**\n",
        "Replace all odd numbers in arr with -1 without changing arr\n",
        "\n",
        "**Possible Input:**\n",
        "```python\n",
        "arr = np.array([0, 1, 2, 3, 4, 5, 6, 7, 8, 9])\n",
        "```\n",
        "\n",
        "**Expected Output:**\n",
        "```\n",
        " arr =  [0 1 2 3 4 5 6 7 8 9] \n",
        " out =  [ 0 -1  2 -1  4 -1  6 -1  8 -1]\n",
        "```"
      ]
    },
    {
      "cell_type": "code",
      "metadata": {
        "id": "etsioKd3GucS",
        "colab_type": "code",
        "colab": {}
      },
      "source": [
        "import numpy as np\n",
        "\n",
        "# Input\n",
        "arr = np.array([0, 1, 2, 3, 4, 5, 6, 7, 8, 9])\n",
        "\n",
        "# Enter your code here\n",
        "\n",
        "# Output\n",
        "print(' arr = ', arr, '\\n out = ', out)"
      ],
      "execution_count": 0,
      "outputs": []
    },
    {
      "cell_type": "markdown",
      "metadata": {
        "id": "t8PZIiahGucT",
        "colab_type": "text"
      },
      "source": [
        "###Solution:"
      ]
    },
    {
      "cell_type": "code",
      "metadata": {
        "id": "qdleyALdGucU",
        "colab_type": "code",
        "colab": {}
      },
      "source": [
        "import numpy as np\n",
        "\n",
        "# Input\n",
        "arr = np.array([0, 1, 2, 3, 4, 5, 6, 7, 8, 9])\n",
        "\n",
        "# Solution\n",
        "out = np.where(arr % 2 == 1, -1, arr)\n",
        "\n",
        "# Output\n",
        "print(' arr = ', arr, '\\n out = ', out)"
      ],
      "execution_count": 0,
      "outputs": []
    },
    {
      "cell_type": "markdown",
      "metadata": {
        "id": "myGydaXKGucZ",
        "colab_type": "text"
      },
      "source": [
        "##2. How to stack two arrays vertically?"
      ]
    },
    {
      "cell_type": "markdown",
      "metadata": {
        "id": "UVFPwA_SIxx-",
        "colab_type": "text"
      },
      "source": [
        "**Problem:**\n",
        "Stack arrays a and b vertically\n",
        "\n",
        "**Possible Input:**\n",
        "```python\n",
        "a = np.arange(10).reshape(2,-1)\n",
        "b = np.repeat(1, 10).reshape(2,-1)\n",
        "```\n",
        "\n",
        "**Expected Output:**\n",
        "```\n",
        "array([[0, 1, 2, 3, 4],\n",
        "       [5, 6, 7, 8, 9],\n",
        "       [1, 1, 1, 1, 1],\n",
        "       [1, 1, 1, 1, 1]])\n",
        "```"
      ]
    },
    {
      "cell_type": "code",
      "metadata": {
        "id": "nG07uKoIGucZ",
        "colab_type": "code",
        "colab": {}
      },
      "source": [
        "import numpy as np\n",
        "\n",
        "# Input\n",
        "a = np.arange(10).reshape(2,-1)\n",
        "b = np.repeat(1, 10).reshape(2,-1)\n",
        "\n",
        "# Enter your code here"
      ],
      "execution_count": 0,
      "outputs": []
    },
    {
      "cell_type": "markdown",
      "metadata": {
        "id": "Gz1cJx-_Gucb",
        "colab_type": "text"
      },
      "source": [
        "###Solution A:"
      ]
    },
    {
      "cell_type": "code",
      "metadata": {
        "id": "PImUWMo9Gucc",
        "colab_type": "code",
        "colab": {}
      },
      "source": [
        "import numpy as np\n",
        "\n",
        "# Input\n",
        "a = np.arange(10).reshape(2,-1)\n",
        "b = np.repeat(1, 10).reshape(2,-1)\n",
        "\n",
        "# Solution\n",
        "np.concatenate([a, b], axis=0)"
      ],
      "execution_count": 0,
      "outputs": []
    },
    {
      "cell_type": "markdown",
      "metadata": {
        "id": "CdFT14AdJGLB",
        "colab_type": "text"
      },
      "source": [
        "###Solution B:"
      ]
    },
    {
      "cell_type": "code",
      "metadata": {
        "id": "wgvG1s7TGucf",
        "colab_type": "code",
        "colab": {}
      },
      "source": [
        "import numpy as np\n",
        "\n",
        "# Input\n",
        "a = np.arange(10).reshape(2,-1)\n",
        "b = np.repeat(1, 10).reshape(2,-1)\n",
        "\n",
        "# Solution\n",
        "np.vstack([a, b])"
      ],
      "execution_count": 0,
      "outputs": []
    },
    {
      "cell_type": "markdown",
      "metadata": {
        "id": "rzuh78rjJIpp",
        "colab_type": "text"
      },
      "source": [
        "###Solution C:"
      ]
    },
    {
      "cell_type": "code",
      "metadata": {
        "id": "NXkDu9epGuci",
        "colab_type": "code",
        "colab": {}
      },
      "source": [
        "import numpy as np\n",
        "\n",
        "# Input\n",
        "a = np.arange(10).reshape(2,-1)\n",
        "b = np.repeat(1, 10).reshape(2,-1)\n",
        "\n",
        "# Solution\n",
        "np.r_[a, b]"
      ],
      "execution_count": 0,
      "outputs": []
    },
    {
      "cell_type": "markdown",
      "metadata": {
        "id": "ZKslOAjrGucj",
        "colab_type": "text"
      },
      "source": [
        "##3. How to stack two arrays horizontally?"
      ]
    },
    {
      "cell_type": "markdown",
      "metadata": {
        "id": "atyjuvJj7NVa",
        "colab_type": "text"
      },
      "source": [
        "**Problem:**\n",
        "Stack the arrays a and b horizontally.\n",
        "\n",
        "**Possible Input:**\n",
        "```python\n",
        "a = np.arange(10).reshape(2,-1)\n",
        "b = np.repeat(1, 10).reshape(2,-1)\n",
        "```\n",
        "\n",
        "**Expected Output:**\n",
        "```\n",
        "array([[0, 1, 2, 3, 4, 1, 1, 1, 1, 1],\n",
        "       [5, 6, 7, 8, 9, 1, 1, 1, 1, 1]])\n",
        "```"
      ]
    },
    {
      "cell_type": "code",
      "metadata": {
        "id": "SCuAjmbJGuck",
        "colab_type": "code",
        "colab": {}
      },
      "source": [
        "import numpy as np\n",
        "\n",
        "# Input\n",
        "a = np.arange(10).reshape(2,-1)\n",
        "b = np.repeat(1, 10).reshape(2,-1)\n",
        "\n",
        "# Enter your code here"
      ],
      "execution_count": 0,
      "outputs": []
    },
    {
      "cell_type": "markdown",
      "metadata": {
        "id": "SFowtQdPGucl",
        "colab_type": "text"
      },
      "source": [
        "###Solution A:"
      ]
    },
    {
      "cell_type": "code",
      "metadata": {
        "id": "CapIYtfVGucm",
        "colab_type": "code",
        "colab": {}
      },
      "source": [
        "import numpy as np\n",
        "\n",
        "# Input\n",
        "a = np.arange(10).reshape(2,-1)\n",
        "b = np.repeat(1, 10).reshape(2,-1)\n",
        "\n",
        "# Solution\n",
        "np.concatenate([a, b], axis=1)"
      ],
      "execution_count": 0,
      "outputs": []
    },
    {
      "cell_type": "markdown",
      "metadata": {
        "id": "TqjZbDGV7ZxV",
        "colab_type": "text"
      },
      "source": [
        "###Solution B:"
      ]
    },
    {
      "cell_type": "code",
      "metadata": {
        "id": "OBuBxEjMGucq",
        "colab_type": "code",
        "colab": {}
      },
      "source": [
        "import numpy as np\n",
        "\n",
        "# Input\n",
        "a = np.arange(10).reshape(2,-1)\n",
        "b = np.repeat(1, 10).reshape(2,-1)\n",
        "\n",
        "# Solution\n",
        "np.hstack([a, b])"
      ],
      "execution_count": 0,
      "outputs": []
    },
    {
      "cell_type": "markdown",
      "metadata": {
        "id": "qgJQEm1r7cR5",
        "colab_type": "text"
      },
      "source": [
        "###Solution C:"
      ]
    },
    {
      "cell_type": "code",
      "metadata": {
        "id": "uDrONYKjGucs",
        "colab_type": "code",
        "colab": {}
      },
      "source": [
        "import numpy as np\n",
        "\n",
        "# Input\n",
        "a = np.arange(10).reshape(2,-1)\n",
        "b = np.repeat(1, 10).reshape(2,-1)\n",
        "\n",
        "# Solution\n",
        "np.c_[a, b]"
      ],
      "execution_count": 0,
      "outputs": []
    },
    {
      "cell_type": "markdown",
      "metadata": {
        "id": "7W2jUpLgGucu",
        "colab_type": "text"
      },
      "source": [
        "##4. How to generate custom sequences in numpy without hardcoding?"
      ]
    },
    {
      "cell_type": "markdown",
      "metadata": {
        "id": "ZHsDNyL38miY",
        "colab_type": "text"
      },
      "source": [
        "**Problem:**\n",
        "Create the following pattern without hardcoding. Use only numpy functions and the given array.\n",
        "\n",
        "\n",
        "**Possible Input:**\n",
        "```python\n",
        "a = np.array([1,2,3])\n",
        "```\n",
        "\n",
        "**Expected Output:**\n",
        "```\n",
        "array([1, 1, 1, 2, 2, 2, 3, 3, 3, 1, 2, 3, 1, 2, 3, 1, 2, 3])\n",
        "```"
      ]
    },
    {
      "cell_type": "code",
      "metadata": {
        "id": "7JjnyM8iGucv",
        "colab_type": "code",
        "colab": {}
      },
      "source": [
        "import numpy as np\n",
        "\n",
        "# Input\n",
        "a = np.array([1,2,3])\n",
        "\n",
        "# Enter your code here"
      ],
      "execution_count": 0,
      "outputs": []
    },
    {
      "cell_type": "markdown",
      "metadata": {
        "id": "WR4hxzMTGucx",
        "colab_type": "text"
      },
      "source": [
        "###Solution:"
      ]
    },
    {
      "cell_type": "code",
      "metadata": {
        "id": "i8bkLAD3Gucy",
        "colab_type": "code",
        "colab": {}
      },
      "source": [
        "import numpy as np\n",
        "\n",
        "# Input\n",
        "a = np.array([1,2,3])\n",
        "\n",
        "# Solution\n",
        "np.r_[np.repeat(a, 3), np.tile(a, 3)]"
      ],
      "execution_count": 0,
      "outputs": []
    },
    {
      "cell_type": "markdown",
      "metadata": {
        "id": "rOdQyUlMGuc1",
        "colab_type": "text"
      },
      "source": [
        "##5. How to get the common items between two python numpy arrays?"
      ]
    },
    {
      "cell_type": "markdown",
      "metadata": {
        "id": "3fj14R22_GHJ",
        "colab_type": "text"
      },
      "source": [
        "**Problem:**\n",
        "Get the common items between a and b\n",
        "\n",
        "**Possible Input:**\n",
        "```python\n",
        "a = np.array([1,2,3,2,3,4,3,4,5,6])\n",
        "b = np.array([7,2,10,2,7,4,9,4,9,8])\n",
        "```\n",
        "\n",
        "**Expected Output:**\n",
        "```\n",
        "array([2, 4])\n",
        "```"
      ]
    },
    {
      "cell_type": "code",
      "metadata": {
        "id": "ilc43BS9Gudk",
        "colab_type": "code",
        "colab": {}
      },
      "source": [
        "import numpy as np\n",
        "\n",
        "# Input\n",
        "a = np.array([1,2,3,2,3,4,3,4,5,6])\n",
        "b = np.array([7,2,10,2,7,4,9,4,9,8])\n",
        "\n",
        "# Enter your code here"
      ],
      "execution_count": 0,
      "outputs": []
    },
    {
      "cell_type": "markdown",
      "metadata": {
        "id": "DucvmwtiGudm",
        "colab_type": "text"
      },
      "source": [
        "###Solution:"
      ]
    },
    {
      "cell_type": "code",
      "metadata": {
        "id": "SyDcaBy-Gudm",
        "colab_type": "code",
        "colab": {}
      },
      "source": [
        "import numpy as np\n",
        "\n",
        "# Input\n",
        "a = np.array([1,2,3,2,3,4,3,4,5,6])\n",
        "b = np.array([7,2,10,2,7,4,9,4,9,8])\n",
        "\n",
        "#Solution\n",
        "np.intersect1d(a,b)"
      ],
      "execution_count": 0,
      "outputs": []
    },
    {
      "cell_type": "markdown",
      "metadata": {
        "id": "63s0Eb6WGudo",
        "colab_type": "text"
      },
      "source": [
        "##6. How to remove from one array those items that exist in another?"
      ]
    },
    {
      "cell_type": "markdown",
      "metadata": {
        "id": "M5kZ8w9EB0OV",
        "colab_type": "text"
      },
      "source": [
        "**Problem:**\n",
        "From array a remove all items present in array b.\n",
        "\n",
        "**Possible Input:**\n",
        "```python\n",
        "a = np.array([1,2,3,4,5])\n",
        "b = np.array([5,6,7,8,9])\n",
        "```\n",
        "\n",
        "**Expected Output:**\n",
        "```\n",
        "array([1, 2, 3, 4])\n",
        "```"
      ]
    },
    {
      "cell_type": "code",
      "metadata": {
        "id": "uuxF0PPFGudo",
        "colab_type": "code",
        "colab": {}
      },
      "source": [
        "import numpy as np\n",
        "\n",
        "# Input\n",
        "a = np.array([1,2,3,4,5])\n",
        "b = np.array([5,6,7,8,9])\n",
        "\n",
        "# Enter your code here"
      ],
      "execution_count": 0,
      "outputs": []
    },
    {
      "cell_type": "markdown",
      "metadata": {
        "id": "E42AnZB9Gudp",
        "colab_type": "text"
      },
      "source": [
        "###Solution:"
      ]
    },
    {
      "cell_type": "code",
      "metadata": {
        "id": "hUkzVTioGudq",
        "colab_type": "code",
        "colab": {}
      },
      "source": [
        "import numpy as np\n",
        "\n",
        "# Input\n",
        "a = np.array([1,2,3,4,5])\n",
        "b = np.array([5,6,7,8,9])\n",
        "\n",
        "# Solution\n",
        "np.setdiff1d(a,b)"
      ],
      "execution_count": 0,
      "outputs": []
    },
    {
      "cell_type": "markdown",
      "metadata": {
        "id": "Emot7SyrGudr",
        "colab_type": "text"
      },
      "source": [
        "##7. How to get the positions where elements of two arrays match?"
      ]
    },
    {
      "cell_type": "markdown",
      "metadata": {
        "id": "uef__2XCI5al",
        "colab_type": "text"
      },
      "source": [
        "**Problem:**\n",
        "Get the positions where elements of a and b match.\n",
        "\n",
        "**Possible Input:**\n",
        "```python\n",
        "a = np.array([1,2,3,2,3,4,3,4,5,6])\n",
        "b = np.array([7,2,10,2,7,4,9,4,9,8])\n",
        "```\n",
        "\n",
        "**Expected Output:**\n",
        "```\n",
        "array([1, 3, 5, 7])\n",
        "```"
      ]
    },
    {
      "cell_type": "code",
      "metadata": {
        "id": "-81rB_ryGudr",
        "colab_type": "code",
        "colab": {}
      },
      "source": [
        "import numpy as np\n",
        "\n",
        "# Input\n",
        "a = np.array([1,2,3,2,3,4,3,4,5,6])\n",
        "b = np.array([7,2,10,2,7,4,9,4,9,8])\n",
        "\n",
        "# Enter your code here"
      ],
      "execution_count": 0,
      "outputs": []
    },
    {
      "cell_type": "markdown",
      "metadata": {
        "id": "jQHVxYK5Gudt",
        "colab_type": "text"
      },
      "source": [
        "###Solution A:"
      ]
    },
    {
      "cell_type": "code",
      "metadata": {
        "id": "0p-mVeq6Gudu",
        "colab_type": "code",
        "colab": {}
      },
      "source": [
        "import numpy as np\n",
        "\n",
        "# Input\n",
        "a = np.array([1,2,3,2,3,4,3,4,5,6])\n",
        "b = np.array([7,2,10,2,7,4,9,4,9,8])\n",
        "\n",
        "# Solution\n",
        "np.where(a == b)[0]"
      ],
      "execution_count": 0,
      "outputs": []
    },
    {
      "cell_type": "markdown",
      "metadata": {
        "id": "LeL3voCWIdH3",
        "colab_type": "text"
      },
      "source": [
        "###Solution B:"
      ]
    },
    {
      "cell_type": "code",
      "metadata": {
        "id": "fBUbDYvdIhd8",
        "colab_type": "code",
        "colab": {}
      },
      "source": [
        "import numpy as np\n",
        "\n",
        "# Input\n",
        "a = np.array([1,2,3,2,3,4,3,4,5,6])\n",
        "b = np.array([7,2,10,2,7,4,9,4,9,8])\n",
        "\n",
        "# Solution\n",
        "np.nonzero(a == b)[0]"
      ],
      "execution_count": 0,
      "outputs": []
    },
    {
      "cell_type": "markdown",
      "metadata": {
        "id": "pVUpBUeCGudv",
        "colab_type": "text"
      },
      "source": [
        "##8. How to extract all numbers between a given range from a numpy array?"
      ]
    },
    {
      "cell_type": "markdown",
      "metadata": {
        "id": "ZjAI4JQaKhyQ",
        "colab_type": "text"
      },
      "source": [
        "**Problem:**\n",
        "Get all items between 5 and 10 from a.\n",
        "\n",
        "**Possible Input:**\n",
        "```python\n",
        "a = np.array([2, 6, 1, 9, 10, 3, 27])\n",
        "```\n",
        "\n",
        "**Expected Output:**\n",
        "```\n",
        "array([ 6,  9, 10])\n",
        "```"
      ]
    },
    {
      "cell_type": "code",
      "metadata": {
        "id": "E-sZjxcmGudv",
        "colab_type": "code",
        "colab": {}
      },
      "source": [
        "import numpy as np\n",
        "\n",
        "# Input\n",
        "a = np.array([2, 6, 1, 9, 10, 3, 27])\n",
        "\n",
        "# Enter your code here"
      ],
      "execution_count": 0,
      "outputs": []
    },
    {
      "cell_type": "markdown",
      "metadata": {
        "id": "AiOmlvlxGudw",
        "colab_type": "text"
      },
      "source": [
        "###Solution A:"
      ]
    },
    {
      "cell_type": "code",
      "metadata": {
        "id": "FgbznuYgGudx",
        "colab_type": "code",
        "colab": {}
      },
      "source": [
        "import numpy as np\n",
        "\n",
        "# Input\n",
        "a = np.array([2, 6, 1, 9, 10, 3, 27])\n",
        "\n",
        "# Solution\n",
        "index = np.where((a >= 5) & (a <= 10))\n",
        "a[index]"
      ],
      "execution_count": 0,
      "outputs": []
    },
    {
      "cell_type": "markdown",
      "metadata": {
        "id": "pt7m_u5OKoOo",
        "colab_type": "text"
      },
      "source": [
        "###Solution B:"
      ]
    },
    {
      "cell_type": "code",
      "metadata": {
        "id": "SHJ95noXGudy",
        "colab_type": "code",
        "colab": {}
      },
      "source": [
        "import numpy as np\n",
        "\n",
        "# Input\n",
        "a = np.array([2, 6, 1, 9, 10, 3, 27])\n",
        "\n",
        "# Solution\n",
        "index = np.where(np.logical_and(a >= 5, a <= 10))\n",
        "a[index]"
      ],
      "execution_count": 0,
      "outputs": []
    },
    {
      "cell_type": "markdown",
      "metadata": {
        "id": "VPRMfsPeKqah",
        "colab_type": "text"
      },
      "source": [
        "###Solution C:"
      ]
    },
    {
      "cell_type": "code",
      "metadata": {
        "id": "75gYN5CSGud0",
        "colab_type": "code",
        "colab": {}
      },
      "source": [
        "import numpy as np\n",
        "\n",
        "# Input\n",
        "a = np.array([2, 6, 1, 9, 10, 3, 27])\n",
        "\n",
        "# Solution\n",
        "a[(a >= 5) & (a <= 10)]"
      ],
      "execution_count": 0,
      "outputs": []
    },
    {
      "cell_type": "markdown",
      "metadata": {
        "id": "Ep2gCQJuGud1",
        "colab_type": "text"
      },
      "source": [
        "##9. How to make a python function that handles scalars to work on numpy arrays?"
      ]
    },
    {
      "cell_type": "markdown",
      "metadata": {
        "id": "oOBia_IOPP4a",
        "colab_type": "text"
      },
      "source": [
        "**Problem:**\n",
        "Convert the function maxx that works on two scalars to work on two arrays.\n",
        "\n",
        "**Possible Input:**\n",
        "```python\n",
        "import numpy as np\n",
        "\n",
        "# Input\n",
        "def maxx(x, y):\n",
        "    \"\"\"Get the maximum of two items\"\"\"\n",
        "    if x >= y:\n",
        "        return x\n",
        "    else:\n",
        "        return y\n",
        "\n",
        "a = np.array([5, 7, 9, 8, 6, 4, 5])\n",
        "b = np.array([6, 3, 4, 8, 9, 7, 1])\n",
        "```\n",
        "\n",
        "**Expected Output:**\n",
        "```\n",
        "array([6., 7., 9., 8., 9., 7., 5.])\n",
        "```"
      ]
    },
    {
      "cell_type": "code",
      "metadata": {
        "id": "KOWRdrvuGud2",
        "colab_type": "code",
        "colab": {}
      },
      "source": [
        "import numpy as np\n",
        "\n",
        "# Input\n",
        "def maxx(x, y):\n",
        "    \"\"\"Get the maximum of two items\"\"\"\n",
        "    if x >= y:\n",
        "        return x\n",
        "    else:\n",
        "        return y\n",
        "\n",
        "a = np.array([5, 7, 9, 8, 6, 4, 5])\n",
        "b = np.array([6, 3, 4, 8, 9, 7, 1])\n",
        "\n",
        "# Enter your code here"
      ],
      "execution_count": 0,
      "outputs": []
    },
    {
      "cell_type": "markdown",
      "metadata": {
        "id": "G9beCah1Gud5",
        "colab_type": "text"
      },
      "source": [
        "###Solution:"
      ]
    },
    {
      "cell_type": "code",
      "metadata": {
        "id": "xxQI2RjYGud5",
        "colab_type": "code",
        "colab": {}
      },
      "source": [
        "import numpy as np\n",
        "\n",
        "# Input\n",
        "def maxx(x, y):\n",
        "    \"\"\"Get the maximum of two items\"\"\"\n",
        "    if x >= y:\n",
        "        return x\n",
        "    else:\n",
        "        return y\n",
        "\n",
        "a = np.array([5, 7, 9, 8, 6, 4, 5])\n",
        "b = np.array([6, 3, 4, 8, 9, 7, 1])\n",
        "\n",
        "# Solution      \n",
        "pair_max = np.vectorize(maxx, otypes=[float])\n",
        "pair_max(a, b)"
      ],
      "execution_count": 0,
      "outputs": []
    },
    {
      "cell_type": "markdown",
      "metadata": {
        "id": "0RYLRR33Gud7",
        "colab_type": "text"
      },
      "source": [
        "##10. How to swap two columns in a 2d numpy array?"
      ]
    },
    {
      "cell_type": "markdown",
      "metadata": {
        "id": "OBtlQr5pRjdk",
        "colab_type": "text"
      },
      "source": [
        "**Problem:**\n",
        "Swap columns 1 and 2 in the numpy.array.\n",
        "\n",
        "**Possible Input:**\n",
        "```python\n",
        "arr = np.array([[0, 1, 2],\n",
        "                [3, 4, 5],\n",
        "                [6, 7, 8]])\n",
        "```\n",
        "\n",
        "**Expected Output:**\n",
        "```\n",
        "array([[1, 0, 2],\n",
        "       [4, 3, 5],\n",
        "       [7, 6, 8]])\n",
        "```"
      ]
    },
    {
      "cell_type": "code",
      "metadata": {
        "id": "y_kE68OyGud8",
        "colab_type": "code",
        "colab": {}
      },
      "source": [
        "import numpy as np\n",
        "\n",
        "# Input\n",
        "arr = np.array([[0, 1, 2],\n",
        "                [3, 4, 5],\n",
        "                [6, 7, 8]])\n",
        "\n",
        "# Enter your code here"
      ],
      "execution_count": 0,
      "outputs": []
    },
    {
      "cell_type": "markdown",
      "metadata": {
        "id": "GlW7kXyAGud9",
        "colab_type": "text"
      },
      "source": [
        "###Solution:"
      ]
    },
    {
      "cell_type": "code",
      "metadata": {
        "id": "AQoBFP5lGud-",
        "colab_type": "code",
        "outputId": "224aab4a-0aca-4ed5-8628-174f0a8d7ff8",
        "colab": {
          "base_uri": "https://localhost:8080/",
          "height": 68
        }
      },
      "source": [
        "import numpy as np\n",
        "\n",
        "# Input\n",
        "arr = np.array([[0, 1, 2],\n",
        "                [3, 4, 5],\n",
        "                [6, 7, 8]])\n",
        "\n",
        "# Solution\n",
        "arr[:, [1,0,2]]"
      ],
      "execution_count": 0,
      "outputs": [
        {
          "output_type": "execute_result",
          "data": {
            "text/plain": [
              "array([[1, 0, 2],\n",
              "       [4, 3, 5],\n",
              "       [7, 6, 8]])"
            ]
          },
          "metadata": {
            "tags": []
          },
          "execution_count": 5
        }
      ]
    },
    {
      "cell_type": "markdown",
      "metadata": {
        "id": "XJWnuTcoGueA",
        "colab_type": "text"
      },
      "source": [
        "##11. How to swap two rows in a 2d numpy array?"
      ]
    },
    {
      "cell_type": "markdown",
      "metadata": {
        "id": "eTN9VSZCUDGz",
        "colab_type": "text"
      },
      "source": [
        "**Problem:**\n",
        "Swap rows 1 and 2 in the numpy array.\n",
        "\n",
        "**Possible Input:**\n",
        "```python\n",
        "arr = np.array([[3, 4, 5],\n",
        "                [0, 1, 2],\n",
        "                [6, 7, 8]])\n",
        "```\n",
        "\n",
        "**Expected Output:**\n",
        "```\n",
        "array([[0, 1, 2],\n",
        "       [3, 4, 5],\n",
        "       [6, 7, 8]])\n",
        "```"
      ]
    },
    {
      "cell_type": "code",
      "metadata": {
        "id": "NTxY3FOEGueA",
        "colab_type": "code",
        "colab": {}
      },
      "source": [
        "import numpy as np\n",
        "\n",
        "# Input\n",
        "arr = np.array([[3, 4, 5],\n",
        "                [0, 1, 2],\n",
        "                [6, 7, 8]])\n",
        "\n",
        "# Enter your code here"
      ],
      "execution_count": 0,
      "outputs": []
    },
    {
      "cell_type": "markdown",
      "metadata": {
        "id": "QLcbt3cdGueC",
        "colab_type": "text"
      },
      "source": [
        "###Solution:"
      ]
    },
    {
      "cell_type": "code",
      "metadata": {
        "id": "1Pqq3GX0GueC",
        "colab_type": "code",
        "colab": {}
      },
      "source": [
        "import numpy as np\n",
        "\n",
        "# Input\n",
        "arr = np.array([[3, 4, 5],\n",
        "                [0, 1, 2],\n",
        "                [6, 7, 8]])\n",
        "\n",
        "# Solution\n",
        "arr[[1,0,2], :]"
      ],
      "execution_count": 0,
      "outputs": []
    },
    {
      "cell_type": "markdown",
      "metadata": {
        "id": "_xkBpGZAGueE",
        "colab_type": "text"
      },
      "source": [
        "##12. How to reverse the rows of a 2D array?"
      ]
    },
    {
      "cell_type": "markdown",
      "metadata": {
        "id": "rwpiXk04UMmL",
        "colab_type": "text"
      },
      "source": [
        "**Problem:**\n",
        "Reverse the rows of a 2D array.\n",
        "\n",
        "**Possible Input:**\n",
        "```python\n",
        "arr = np.array([[3, 4, 5],\n",
        "                [0, 1, 2],\n",
        "                [6, 7, 8]])\n",
        "```\n",
        "\n",
        "**Expected Output:**\n",
        "```\n",
        "array([[6, 7, 8],\n",
        "       [0, 1, 2],\n",
        "       [3, 4, 5]])\n",
        "```"
      ]
    },
    {
      "cell_type": "code",
      "metadata": {
        "id": "oyN_X9PiGueF",
        "colab_type": "code",
        "colab": {}
      },
      "source": [
        "import numpy as np\n",
        "\n",
        "# Input\n",
        "arr = np.array([[3, 4, 5],\n",
        "                [0, 1, 2],\n",
        "                [6, 7, 8]])\n",
        "\n",
        "# Enter your code here"
      ],
      "execution_count": 0,
      "outputs": []
    },
    {
      "cell_type": "markdown",
      "metadata": {
        "id": "m31dp0X2GueG",
        "colab_type": "text"
      },
      "source": [
        "###Solution:"
      ]
    },
    {
      "cell_type": "code",
      "metadata": {
        "id": "7GqHXtLvGueH",
        "colab_type": "code",
        "colab": {}
      },
      "source": [
        "import numpy as np\n",
        "\n",
        "# Input\n",
        "arr = np.array([[3, 4, 5],\n",
        "                [0, 1, 2],\n",
        "                [6, 7, 8]])\n",
        "\n",
        "# Solution\n",
        "arr[::-1]\n"
      ],
      "execution_count": 0,
      "outputs": []
    },
    {
      "cell_type": "markdown",
      "metadata": {
        "id": "VlYEyNtLGueI",
        "colab_type": "text"
      },
      "source": [
        "##13. How to reverse the columns of a 2D array?"
      ]
    },
    {
      "cell_type": "markdown",
      "metadata": {
        "id": "Zo4W3niTU5Ac",
        "colab_type": "text"
      },
      "source": [
        "**Problem:**\n",
        "Reverse the columns of a 2D array arr.\n",
        "\n",
        "**Possible Input:**\n",
        "```python\n",
        "arr = np.array([[3, 4, 5],\n",
        "                [0, 1, 2],\n",
        "                [6, 7, 8]])\n",
        "```\n",
        "\n",
        "**Expected Output:**\n",
        "```\n",
        "array([[5, 4, 3],\n",
        "       [2, 1, 0],\n",
        "       [8, 7, 6]])\n",
        "```"
      ]
    },
    {
      "cell_type": "code",
      "metadata": {
        "id": "tZTCf0UVGueI",
        "colab_type": "code",
        "colab": {}
      },
      "source": [
        "import numpy as np\n",
        "\n",
        "# Input\n",
        "arr = np.array([[3, 4, 5],\n",
        "                [0, 1, 2],\n",
        "                [6, 7, 8]])\n",
        "\n",
        "# Enter your code here"
      ],
      "execution_count": 0,
      "outputs": []
    },
    {
      "cell_type": "markdown",
      "metadata": {
        "id": "se6Iy2iWGueJ",
        "colab_type": "text"
      },
      "source": [
        "###Solution:"
      ]
    },
    {
      "cell_type": "code",
      "metadata": {
        "id": "-iyQh8xyGueJ",
        "colab_type": "code",
        "colab": {}
      },
      "source": [
        "import numpy as np\n",
        "\n",
        "# Input\n",
        "arr = np.array([[3, 4, 5],\n",
        "                [0, 1, 2],\n",
        "                [6, 7, 8]])\n",
        "\n",
        "# Solution\n",
        "arr[:, ::-1]"
      ],
      "execution_count": 0,
      "outputs": []
    },
    {
      "cell_type": "markdown",
      "metadata": {
        "id": "2T3lQ1s3GueK",
        "colab_type": "text"
      },
      "source": [
        "##14. How to create a 2D array containing random floats between 5 and 10?"
      ]
    },
    {
      "cell_type": "markdown",
      "metadata": {
        "id": "iopdlb3VZhvW",
        "colab_type": "text"
      },
      "source": [
        "**Problem:**\n",
        "Create a 2D array of shape 5x3 to contain random decimal numbers between 5 and 10.\n",
        "\n",
        "**No input expected**\n",
        "\n",
        "**Expected Output:**\n",
        "Helper function should print \"[OK]\""
      ]
    },
    {
      "cell_type": "code",
      "metadata": {
        "id": "jSTysDv7GueK",
        "colab_type": "code",
        "colab": {}
      },
      "source": [
        "import numpy as np\n",
        "\n",
        "# helper function to check correctness\n",
        "def check_array(arr):\n",
        "  if arr.shape != (5,3):\n",
        "    print(\"[ERROR] Wrong shape\")\n",
        "  elif not np.all((rand_arr <= 10.0) & (rand_arr >= 5.0)):\n",
        "    print(\"[ERROR] Value outside specified interval\")\n",
        "  else:\n",
        "    print(\"[OK]\")\n",
        "########\n",
        "\n",
        "# Enter your code here\n",
        "\n",
        "# Check your result\n",
        "check_array(rand_arr)"
      ],
      "execution_count": 0,
      "outputs": []
    },
    {
      "cell_type": "markdown",
      "metadata": {
        "id": "tLocEf9JGueL",
        "colab_type": "text"
      },
      "source": [
        "###Solution A:"
      ]
    },
    {
      "cell_type": "code",
      "metadata": {
        "id": "kty4crYgGueL",
        "colab_type": "code",
        "colab": {}
      },
      "source": [
        "import numpy as np\n",
        "\n",
        "# Solution\n",
        "rand_arr = np.random.randint(low=5, high=10, size=(5,3)) + np.random.random((5,3))\n",
        "rand_arr"
      ],
      "execution_count": 0,
      "outputs": []
    },
    {
      "cell_type": "markdown",
      "metadata": {
        "id": "zGTlA0LJZau2",
        "colab_type": "text"
      },
      "source": [
        "###Solution B:"
      ]
    },
    {
      "cell_type": "code",
      "metadata": {
        "id": "KO6_EQ9jGueN",
        "colab_type": "code",
        "colab": {}
      },
      "source": [
        "import numpy as np\n",
        "\n",
        "# Solution\n",
        "rand_arr = np.random.uniform(5,10, size=(5,3))\n",
        "rand_arr"
      ],
      "execution_count": 0,
      "outputs": []
    },
    {
      "cell_type": "markdown",
      "metadata": {
        "id": "xcbKfhk_Guea",
        "colab_type": "text"
      },
      "source": [
        "##15. How to import a dataset with numbers and texts keeping the text intact in python numpy?"
      ]
    },
    {
      "cell_type": "markdown",
      "metadata": {
        "id": "bg3rbGUYiM7y",
        "colab_type": "text"
      },
      "source": [
        "**Problem:**\n",
        "Import the iris dataset keeping the text intact.\n",
        "Print first three rows.\n",
        "\n",
        "**Possible Input:**\n",
        "```python\n",
        "url = 'https://archive.ics.uci.edu/ml/machine-learning-databases/iris/iris.data'\n",
        "```\n",
        "\n",
        "**Expected Output:**\n",
        "```\n",
        "array([[b'5.1', b'3.5', b'1.4', b'0.2', b'Iris-setosa'],\n",
        "       [b'4.9', b'3.0', b'1.4', b'0.2', b'Iris-setosa'],\n",
        "       [b'4.7', b'3.2', b'1.3', b'0.2', b'Iris-setosa']], dtype=object)\n",
        "```"
      ]
    },
    {
      "cell_type": "code",
      "metadata": {
        "id": "zkWbicmkGuea",
        "colab_type": "code",
        "colab": {}
      },
      "source": [
        "import numpy as np\n",
        "\n",
        "# Input\n",
        "url = 'https://archive.ics.uci.edu/ml/machine-learning-databases/iris/iris.data'\n",
        "\n",
        "# Enter your code here"
      ],
      "execution_count": 0,
      "outputs": []
    },
    {
      "cell_type": "markdown",
      "metadata": {
        "id": "p4GBk3X-Gueb",
        "colab_type": "text"
      },
      "source": [
        "###Solution:"
      ]
    },
    {
      "cell_type": "code",
      "metadata": {
        "id": "J9CpTcRwGueb",
        "colab_type": "code",
        "colab": {}
      },
      "source": [
        "import numpy as np\n",
        "\n",
        "# Input\n",
        "url = 'https://archive.ics.uci.edu/ml/machine-learning-databases/iris/iris.data'\n",
        "\n",
        "# Solution\n",
        "iris = np.genfromtxt(url, delimiter=',', dtype='object')\n",
        "iris[:3]"
      ],
      "execution_count": 0,
      "outputs": []
    },
    {
      "cell_type": "markdown",
      "metadata": {
        "id": "c9Y0rnkGGuec",
        "colab_type": "text"
      },
      "source": [
        "##16. How to extract a particular column from 2D array?"
      ]
    },
    {
      "cell_type": "markdown",
      "metadata": {
        "id": "DklVpEOgk1kU",
        "colab_type": "text"
      },
      "source": [
        "**Problem:**\n",
        "Given 2D array extract one column with specified index.\n",
        "\n",
        "**Possible Input:**\n",
        "```python\n",
        "arr = np.array([[1,2,3,4,5],\n",
        "                [1,2,3,4,5],\n",
        "                [1,2,3,4,5],\n",
        "                [1,2,3,4,5]])\n",
        "extract_column_idx = 4\n",
        "```\n",
        "\n",
        "**Expected Output**\n",
        "```\n",
        "array([5, 5, 5, 5])\n",
        "```"
      ]
    },
    {
      "cell_type": "code",
      "metadata": {
        "id": "xYpJb_HOGuec",
        "colab_type": "code",
        "colab": {}
      },
      "source": [
        "import numpy as np\n",
        "\n",
        "# Input:\n",
        "arr = np.array([[1,2,3,4,5],\n",
        "                [1,2,3,4,5],\n",
        "                [1,2,3,4,5],\n",
        "                [1,2,3,4,5]])\n",
        "extract_column_idx = 4\n",
        "\n",
        "# Enter your code here"
      ],
      "execution_count": 0,
      "outputs": []
    },
    {
      "cell_type": "markdown",
      "metadata": {
        "id": "8ENn3DD1Gued",
        "colab_type": "text"
      },
      "source": [
        "###Solution:"
      ]
    },
    {
      "cell_type": "code",
      "metadata": {
        "id": "EnY9hvDTGued",
        "colab_type": "code",
        "colab": {}
      },
      "source": [
        "import numpy as np\n",
        "\n",
        "# Input:\n",
        "arr = np.array([[1,2,3,4,5],\n",
        "                [1,2,3,4,5],\n",
        "                [1,2,3,4,5],\n",
        "                [1,2,3,4,5]])\n",
        "extract_column_idx = 4\n",
        "\n",
        "# Solution:\n",
        "extracted = arr[:, extract_column_idx]\n",
        "extracted"
      ],
      "execution_count": 0,
      "outputs": []
    },
    {
      "cell_type": "markdown",
      "metadata": {
        "colab_type": "text",
        "id": "klK4PPt1mYHZ"
      },
      "source": [
        "##17. How to extract a particular column from 1D array of tuples?"
      ]
    },
    {
      "cell_type": "markdown",
      "metadata": {
        "colab_type": "text",
        "id": "id00XRHTmYHj"
      },
      "source": [
        "**Problem:**\n",
        "Given array of tuples extract column specified by given index.\n",
        "\n",
        "**Possible Input:**\n",
        "```python\n",
        "arr = np.array([(1,2,3,4,5),\n",
        "                (1,2,3,4,5),\n",
        "                (1,2,3,4,5),\n",
        "                (1,2,3,4,5)])\n",
        "extract_column_idx = 4\n",
        "```\n",
        "\n",
        "**Expected Output**\n",
        "```\n",
        "array([5, 5, 5, 5])\n",
        "```"
      ]
    },
    {
      "cell_type": "code",
      "metadata": {
        "colab_type": "code",
        "id": "AQxmFfM3mYHl",
        "colab": {}
      },
      "source": [
        "import numpy as np\n",
        "\n",
        "# Input:\n",
        "arr = np.array([(1,2,3,4,5),\n",
        "                (1,2,3,4,5),\n",
        "                (1,2,3,4,5),\n",
        "                (1,2,3,4,5)])\n",
        "extract_column_idx = 4\n",
        "\n",
        "# Enter your code here"
      ],
      "execution_count": 0,
      "outputs": []
    },
    {
      "cell_type": "markdown",
      "metadata": {
        "colab_type": "text",
        "id": "vdXKbE5pmYHw"
      },
      "source": [
        "###Solution:"
      ]
    },
    {
      "cell_type": "code",
      "metadata": {
        "colab_type": "code",
        "id": "AoLPhuGumYHx",
        "colab": {}
      },
      "source": [
        "import numpy as np\n",
        "\n",
        "# Input:\n",
        "arr = np.array([(1,2,3,4,5),\n",
        "                (1,2,3,4,5),\n",
        "                (1,2,3,4,5),\n",
        "                (1,2,3,4,5)])\n",
        "extract_column_idx = 4\n",
        "\n",
        "# Solution:\n",
        "extract = np.array([row[extract_column_idx] for row in arr])\n",
        "extract"
      ],
      "execution_count": 0,
      "outputs": []
    },
    {
      "cell_type": "markdown",
      "metadata": {
        "id": "JNxU-bkjGuef",
        "colab_type": "text"
      },
      "source": [
        "##18. How to convert a 1d array of tuples to a 2d numpy array?"
      ]
    },
    {
      "cell_type": "markdown",
      "metadata": {
        "id": "uLQxT0rCqGyO",
        "colab_type": "text"
      },
      "source": [
        "**Problem:**\n",
        "Convert array of tuples into 2D array.\n",
        "\n",
        "**Possible Input:**\n",
        "```python\n",
        "import numpy as np\n",
        "\n",
        "# Input:\n",
        "arr = np.array([( 1, 2, 3, 4),\n",
        "                ( 5, 6, 7, 8),\n",
        "                ( 9,10,11,12),\n",
        "                (13,14,15,16)])\n",
        "```\n",
        "\n",
        "**Expected Output:**\n",
        "```\n",
        "array([[ 1,  2,  3,  4],\n",
        "       [ 5,  6,  7,  8],\n",
        "       [ 9, 10, 11, 12],\n",
        "       [13, 14, 15, 16]])\n",
        "```"
      ]
    },
    {
      "cell_type": "code",
      "metadata": {
        "id": "Y3zgExA2Guef",
        "colab_type": "code",
        "colab": {}
      },
      "source": [
        "import numpy as np\n",
        "\n",
        "# Input:\n",
        "arr = np.array([( 1, 2, 3, 4),\n",
        "                ( 5, 6, 7, 8),\n",
        "                ( 9,10,11,12),\n",
        "                (13,14,15,16)])\n",
        "\n",
        "# Enter your code here"
      ],
      "execution_count": 0,
      "outputs": []
    },
    {
      "cell_type": "markdown",
      "metadata": {
        "id": "uT85qCMLGueg",
        "colab_type": "text"
      },
      "source": [
        "###Solution:"
      ]
    },
    {
      "cell_type": "code",
      "metadata": {
        "id": "O-F94jJXGueg",
        "colab_type": "code",
        "colab": {}
      },
      "source": [
        "import numpy as np\n",
        "\n",
        "# Input:\n",
        "arr = np.array([( 1, 2, 3, 4),\n",
        "                ( 5, 6, 7, 8),\n",
        "                ( 9,10,11,12),\n",
        "                (13,14,15,16)])\n",
        "\n",
        "# Solution:\n",
        "np.array([row.tolist()[:4] for row in arr])"
      ],
      "execution_count": 0,
      "outputs": []
    },
    {
      "cell_type": "markdown",
      "metadata": {
        "id": "Szc94t4DGuem",
        "colab_type": "text"
      },
      "source": [
        "##19. How to normalize an array so the values range exactly between 0 and 1?"
      ]
    },
    {
      "cell_type": "markdown",
      "metadata": {
        "id": "1B4fcVF4T3Iz",
        "colab_type": "text"
      },
      "source": [
        "**Problem:**\n",
        "Create a normalized form of given array -- new values should range exactly between 0 and 1 so that the former minimum corresponds to value 0 and the former maximum corresponds to 1.\n",
        "Consider appropriate linear trnsformation.\n",
        "\n",
        "**Possible Input:**\n",
        "```python\n",
        "arr = np.array([1, 2, 3, 4, 5, 6, 7, 8, 9, 10])\n",
        "```\n",
        "\n",
        "**Expected Output:**\n",
        "```\n",
        "array([0.        , 0.11111111, 0.22222222, 0.33333333, 0.44444444,\n",
        "       0.55555556, 0.66666667, 0.77777778, 0.88888889, 1.        ])\n",
        "```"
      ]
    },
    {
      "cell_type": "code",
      "metadata": {
        "id": "37Qj4ITWGuem",
        "colab_type": "code",
        "colab": {}
      },
      "source": [
        "import numpy as np\n",
        "\n",
        "# Input\n",
        "arr = np.array([1, 2, 3, 4, 5, 6, 7, 8, 9, 10])\n",
        "\n",
        "# Enter your code here"
      ],
      "execution_count": 0,
      "outputs": []
    },
    {
      "cell_type": "markdown",
      "metadata": {
        "id": "dRG34JkWGuen",
        "colab_type": "text"
      },
      "source": [
        "###Solution A:"
      ]
    },
    {
      "cell_type": "code",
      "metadata": {
        "id": "a25_DNhNSmVh",
        "colab_type": "code",
        "colab": {}
      },
      "source": [
        "import numpy as np\n",
        "\n",
        "# Input\n",
        "arr = np.array([1, 2, 3, 4, 5, 6, 7, 8, 9, 10])\n",
        "\n",
        "# Solution\n",
        "arr_max, arr_min = arr.max(), arr.min()\n",
        "arr_norm = (arr - arr_min)/(arr_max - arr_min)\n",
        "arr_norm"
      ],
      "execution_count": 0,
      "outputs": []
    },
    {
      "cell_type": "markdown",
      "metadata": {
        "id": "jo4NSYUgT82p",
        "colab_type": "text"
      },
      "source": [
        "###Solution B:"
      ]
    },
    {
      "cell_type": "code",
      "metadata": {
        "id": "bVe77UIqGuen",
        "colab_type": "code",
        "colab": {}
      },
      "source": [
        "import numpy as np\n",
        "\n",
        "# Input\n",
        "arr = np.array([1, 2, 3, 4, 5, 6, 7, 8, 9, 10])\n",
        "\n",
        "# Solution\n",
        "arr_max, arr_min = arr.max(), arr.min()\n",
        "arr_norm = (arr - arr_min)/arr.ptp()\n",
        "arr_norm"
      ],
      "execution_count": 0,
      "outputs": []
    },
    {
      "cell_type": "markdown",
      "metadata": {
        "id": "Oi5PU2MVGuev",
        "colab_type": "text"
      },
      "source": [
        "##20. How to insert values at random positions in an array?"
      ]
    },
    {
      "cell_type": "markdown",
      "metadata": {
        "id": "q82r-T2jWpeE",
        "colab_type": "text"
      },
      "source": [
        "**Problem:**\n",
        "Insert np.nan values at 5 random positions in given array.\n",
        "\n",
        "**Possible Input:**\n",
        "```python\n",
        "np.random.seed(0)\n",
        "matr = np.array([[1.,2.,3.,4.,5.],\n",
        "                 [1.,2.,3.,4.,5.],\n",
        "                 [1.,2.,3.,4.,5.],\n",
        "                 [1.,2.,3.,4.,5.],\n",
        "                 [1.,2.,3.,4.,5.]])\n",
        "```\n",
        "\n",
        "**Expected Output:**\n",
        "```\n",
        "[[ 1.  2.  3. nan  5.]\n",
        " [ 1.  2.  3.  4.  5.]\n",
        " [ 1.  2.  3.  4.  5.]\n",
        " [nan  2. nan  4. nan]\n",
        " [ 1. nan  3.  4.  5.]]\n",
        "```"
      ]
    },
    {
      "cell_type": "code",
      "metadata": {
        "id": "bhpQDDgLGuev",
        "colab_type": "code",
        "colab": {}
      },
      "source": [
        "import numpy as np\n",
        "\n",
        "# Input\n",
        "np.random.seed(0)\n",
        "matr = np.array([[1.,2.,3.,4.,5.],\n",
        "                 [1.,2.,3.,4.,5.],\n",
        "                 [1.,2.,3.,4.,5.],\n",
        "                 [1.,2.,3.,4.,5.],\n",
        "                 [1.,2.,3.,4.,5.]])\n",
        "\n",
        "# Enter your code here\n",
        "\n",
        "# Output\n",
        "print(matr)"
      ],
      "execution_count": 0,
      "outputs": []
    },
    {
      "cell_type": "markdown",
      "metadata": {
        "id": "cPrm4N_bGuex",
        "colab_type": "text"
      },
      "source": [
        "###Solution:"
      ]
    },
    {
      "cell_type": "code",
      "metadata": {
        "id": "Gy9L_epJGuex",
        "colab_type": "code",
        "colab": {}
      },
      "source": [
        "import numpy as np\n",
        "\n",
        "# Input\n",
        "np.random.seed(0)\n",
        "matr = np.array([[1.,2.,3.,4.,5.],\n",
        "                 [1.,2.,3.,4.,5.],\n",
        "                 [1.,2.,3.,4.,5.],\n",
        "                 [1.,2.,3.,4.,5.],\n",
        "                 [1.,2.,3.,4.,5.]])\n",
        "\n",
        "# Solution\n",
        "matr[np.random.randint(5, size=5), np.random.randint(5, size=5)] = np.nan\n",
        "\n",
        "# Output\n",
        "print(matr)"
      ],
      "execution_count": 0,
      "outputs": []
    },
    {
      "cell_type": "markdown",
      "metadata": {
        "id": "eC5IgRbjGuez",
        "colab_type": "text"
      },
      "source": [
        "##21. How to find the position of missing values in numpy array?"
      ]
    },
    {
      "cell_type": "markdown",
      "metadata": {
        "id": "-esOYfsNXsRc",
        "colab_type": "text"
      },
      "source": [
        "**Problem:**\n",
        "Find the number and position of missing values in given 2D array.\n",
        "\n",
        "**Possible Input:**\n",
        "```python\n",
        "matr = np.array([[1.,    2., 3.,    4., 5.],\n",
        "                 [1.,    2., 3.,    4., 5.],\n",
        "                 [1.,    2., np.nan,4., 5.],\n",
        "                 [np.nan,2., 3.,    4., 5.],\n",
        "                 [1.,    2., 3.,    4., 5.]])\n",
        "```\n",
        "\n",
        "**Expected Output:**\n",
        "```\n",
        "Number of missing values: \n",
        " 2\n",
        "Position of missing values: \n",
        " (array([2, 3]), array([2, 0]))\n",
        "```"
      ]
    },
    {
      "cell_type": "code",
      "metadata": {
        "id": "8mRuVJSBGuez",
        "colab_type": "code",
        "colab": {}
      },
      "source": [
        "import numpy as np\n",
        "\n",
        "# Input\n",
        "matr = np.array([[1.,    2., 3.,    4., 5.],\n",
        "                 [1.,    2., 3.,    4., 5.],\n",
        "                 [1.,    2., np.nan,4., 5.],\n",
        "                 [np.nan,2., 3.,    4., 5.],\n",
        "                 [1.,    2., 3.,    4., 5.]])\n",
        "\n",
        "# Enter your code here\n",
        "\n",
        "# Output\n",
        "print(\"Number of missing values: \\n\", n_mis)\n",
        "print(\"Position of missing values: \\n\", idx_mis)"
      ],
      "execution_count": 0,
      "outputs": []
    },
    {
      "cell_type": "markdown",
      "metadata": {
        "id": "F7qYDUQHGue0",
        "colab_type": "text"
      },
      "source": [
        "###Solution:"
      ]
    },
    {
      "cell_type": "code",
      "metadata": {
        "id": "D68Y26oiGue0",
        "colab_type": "code",
        "colab": {}
      },
      "source": [
        "import numpy as np\n",
        "\n",
        "# Input\n",
        "matr = np.array([[1.,    2., 3.,    4., 5.],\n",
        "                 [1.,    2., 3.,    4., 5.],\n",
        "                 [1.,    2., np.nan,4., 5.],\n",
        "                 [np.nan,2., 3.,    4., 5.],\n",
        "                 [1.,    2., 3.,    4., 5.]])\n",
        "\n",
        "# Solution\n",
        "n_mis = np.isnan(matr[:, :]).sum()\n",
        "idx_mis = np.where(np.isnan(matr[:, :]))\n",
        "\n",
        "# Output\n",
        "print(\"Number of missing values: \\n\", n_mis)\n",
        "print(\"Position of missing values: \\n\", idx_mis)"
      ],
      "execution_count": 0,
      "outputs": []
    },
    {
      "cell_type": "markdown",
      "metadata": {
        "id": "Q-Ordx57Gue7",
        "colab_type": "text"
      },
      "source": [
        "##22. How to find the correlation between two columns of a numpy array?"
      ]
    },
    {
      "cell_type": "markdown",
      "metadata": {
        "id": "1Yo94ie-mjtZ",
        "colab_type": "text"
      },
      "source": [
        "**Problem:**\n",
        "Find the correlation between 1st column (index 0) and 3rd column (index 2) of given 2D array.\n",
        "\n",
        "**Possible Input:**\n",
        "```python\n",
        "matr = np.array([[0, 0, 0, 2, 2],\n",
        "                 [0, 2, 1, 2, 2],\n",
        "                 [2, 2, 1, 0, 0],\n",
        "                 [0, 0, 2, 0, 1],\n",
        "                 [1, 2, 2, 0, 0]])\n",
        "```\n",
        "\n",
        "**Expected Output:**\n",
        "```\n",
        "0.13363062095621225\n",
        "```\n",
        "\n",
        "**Note:**\n",
        "*   Correlation coef indicates the degree of linear relationship between two numeric variables. It can range between -1 to +1.\n",
        "*   Besides correlation, p-value is often used. The p-value roughly indicates the probability of an uncorrelated system producing datasets that have a correlation at least as extreme as the one computed. The lower the p-value (<0.01), stronger is the significance of the relationship. But do not use as an indicator of the strength."
      ]
    },
    {
      "cell_type": "code",
      "metadata": {
        "id": "7hbZ0a8WGue7",
        "colab_type": "code",
        "colab": {}
      },
      "source": [
        "import numpy as np\n",
        "\n",
        "# Input\n",
        "matr = np.array([[0, 0, 0, 2, 2],\n",
        "                 [0, 2, 1, 2, 2],\n",
        "                 [2, 2, 1, 0, 0],\n",
        "                 [0, 0, 2, 0, 1],\n",
        "                 [1, 2, 2, 0, 0]])\n",
        "\n",
        "# Enter your code here"
      ],
      "execution_count": 0,
      "outputs": []
    },
    {
      "cell_type": "markdown",
      "metadata": {
        "id": "RQDJtK7wGue8",
        "colab_type": "text"
      },
      "source": [
        "###Solution A:"
      ]
    },
    {
      "cell_type": "code",
      "metadata": {
        "id": "M5c5Mu5qGue8",
        "colab_type": "code",
        "colab": {}
      },
      "source": [
        "import numpy as np\n",
        "\n",
        "# Input\n",
        "matr = np.array([[0, 0, 0, 2, 2],\n",
        "                 [0, 2, 1, 2, 2],\n",
        "                 [2, 2, 1, 0, 0],\n",
        "                 [0, 0, 2, 0, 1],\n",
        "                 [1, 2, 2, 0, 0]])\n",
        "\n",
        "# Solution\n",
        "np.corrcoef(matr[:, 0], matr[:, 2])[0, 1]"
      ],
      "execution_count": 0,
      "outputs": []
    },
    {
      "cell_type": "markdown",
      "metadata": {
        "id": "kAhStXxwmc5X",
        "colab_type": "text"
      },
      "source": [
        "###Solution B:"
      ]
    },
    {
      "cell_type": "code",
      "metadata": {
        "id": "d111PPXnGue9",
        "colab_type": "code",
        "colab": {}
      },
      "source": [
        "import numpy as np\n",
        "\n",
        "# Input\n",
        "matr = np.array([[0, 0, 0, 2, 2],\n",
        "                 [0, 2, 1, 2, 2],\n",
        "                 [2, 2, 1, 0, 0],\n",
        "                 [0, 0, 2, 0, 1],\n",
        "                 [1, 2, 2, 0, 0]])\n",
        "\n",
        "# Solution\n",
        "from scipy.stats.stats import pearsonr \n",
        "corr, p_value = pearsonr(matr[:, 0], matr[:, 2])\n",
        "print(corr)"
      ],
      "execution_count": 0,
      "outputs": []
    },
    {
      "cell_type": "markdown",
      "metadata": {
        "id": "I6sUdgC7Gue-",
        "colab_type": "text"
      },
      "source": [
        "##23. How to find if a given array has any null values?\n",
        "\n"
      ]
    },
    {
      "cell_type": "markdown",
      "metadata": {
        "id": "rsVuu9DEnb2E",
        "colab_type": "text"
      },
      "source": [
        "**Problem:**\n",
        "Find out if given array has any missing values (i.e. np.nan are present).\n",
        "\n",
        "**Possible Input:**\n",
        "```python\n",
        "matr = np.array([[1.,    2., 3.,    4., 5.],\n",
        "                 [1.,    2., 3.,    4., 5.],\n",
        "                 [1.,    2., np.nan,4., 5.],\n",
        "                 [np.nan,2., 3.,    4., 5.],\n",
        "                 [1.,    2., 3.,    4., 5.]])\n",
        "```\n",
        "\n",
        "**Expected Output:**\n",
        "```\n",
        "True\n",
        "```"
      ]
    },
    {
      "cell_type": "code",
      "metadata": {
        "id": "lfYV2ug9Gue-",
        "colab_type": "code",
        "colab": {}
      },
      "source": [
        "import numpy as np\n",
        "\n",
        "# Input\n",
        "matr = np.array([[1.,    2., 3.,    4., 5.],\n",
        "                 [1.,    2., 3.,    4., 5.],\n",
        "                 [1.,    2., np.nan,4., 5.],\n",
        "                 [np.nan,2., 3.,    4., 5.],\n",
        "                 [1.,    2., 3.,    4., 5.]])\n",
        "\n",
        "# Enter your code here"
      ],
      "execution_count": 0,
      "outputs": []
    },
    {
      "cell_type": "markdown",
      "metadata": {
        "id": "X7pPZUFRGue_",
        "colab_type": "text"
      },
      "source": [
        "###Solution:"
      ]
    },
    {
      "cell_type": "code",
      "metadata": {
        "id": "P1DJzcmzGue_",
        "colab_type": "code",
        "colab": {}
      },
      "source": [
        "import numpy as np\n",
        "\n",
        "# Input\n",
        "matr = np.array([[1.,    2., 3.,    4., 5.],\n",
        "                 [1.,    2., 3.,    4., 5.],\n",
        "                 [1.,    2., np.nan,4., 5.],\n",
        "                 [np.nan,2., 3.,    4., 5.],\n",
        "                 [1.,    2., 3.,    4., 5.]])\n",
        "\n",
        "# Solution\n",
        "np.isnan(matr).any()"
      ],
      "execution_count": 0,
      "outputs": []
    },
    {
      "cell_type": "markdown",
      "metadata": {
        "id": "URCKwjHJGufA",
        "colab_type": "text"
      },
      "source": [
        "##24. How to replace all missing values with 0 in a numpy array?"
      ]
    },
    {
      "cell_type": "markdown",
      "metadata": {
        "id": "rooXk0s-pLqk",
        "colab_type": "text"
      },
      "source": [
        "**Problem:**\n",
        "Replace all occurrences of np.nan with 0 in 2D array\n",
        "\n",
        "**Possible Input:**\n",
        "```python\n",
        "matr = np.array([[1.,    2., 3.,    4., 5.],\n",
        "                 [1.,    2., 3.,    4., 5.],\n",
        "                 [1.,    2., np.nan,4., 5.],\n",
        "                 [np.nan,2., 3.,    4., 5.],\n",
        "                 [1.,    2., 3.,    4., 5.]])\n",
        "```\n",
        "\n",
        "**Expected Output:**\n",
        "```\n",
        "array([[1., 2., 3., 4., 5.],\n",
        "       [1., 2., 3., 4., 5.],\n",
        "       [1., 2., 0., 4., 5.],\n",
        "       [0., 2., 3., 4., 5.],\n",
        "       [1., 2., 3., 4., 5.]])\n",
        "```"
      ]
    },
    {
      "cell_type": "code",
      "metadata": {
        "id": "Qjz4GP3HGufA",
        "colab_type": "code",
        "colab": {}
      },
      "source": [
        "import numpy as np\n",
        "\n",
        "# Input\n",
        "matr = np.array([[1.,    2., 3.,    4., 5.],\n",
        "                 [1.,    2., 3.,    4., 5.],\n",
        "                 [1.,    2., np.nan,4., 5.],\n",
        "                 [np.nan,2., 3.,    4., 5.],\n",
        "                 [1.,    2., 3.,    4., 5.]])\n",
        "\n",
        "# Enter your code here"
      ],
      "execution_count": 0,
      "outputs": []
    },
    {
      "cell_type": "markdown",
      "metadata": {
        "id": "lpqu64qlGufC",
        "colab_type": "text"
      },
      "source": [
        "###Solution:"
      ]
    },
    {
      "cell_type": "code",
      "metadata": {
        "id": "dlnUdZHqGufC",
        "colab_type": "code",
        "colab": {}
      },
      "source": [
        "import numpy as np\n",
        "\n",
        "# Input\n",
        "matr = np.array([[1.,    2., 3.,    4., 5.],\n",
        "                 [1.,    2., 3.,    4., 5.],\n",
        "                 [1.,    2., np.nan,4., 5.],\n",
        "                 [np.nan,2., 3.,    4., 5.],\n",
        "                 [1.,    2., 3.,    4., 5.]])\n",
        "\n",
        "# Solution\n",
        "matr[np.isnan(matr)] = 0\n",
        "matr[:,:]"
      ],
      "execution_count": 0,
      "outputs": []
    },
    {
      "cell_type": "markdown",
      "metadata": {
        "id": "_wupXncbGufD",
        "colab_type": "text"
      },
      "source": [
        "##25. How to find the count of unique values in a numpy array?"
      ]
    },
    {
      "cell_type": "markdown",
      "metadata": {
        "id": "0J71DcEFp53Q",
        "colab_type": "text"
      },
      "source": [
        "**Problem:**\n",
        "Find the unique values and the count of unique values in given array.\n",
        "\n",
        "**Possible Input:**\n",
        "```python\n",
        "arr = np.array([1,2,3,1,2,4])\n",
        "```\n",
        "\n",
        "**Expected Output:**\n",
        "```\n",
        "(array([1, 2, 3, 4]), array([2, 2, 1, 1]))\n",
        "```"
      ]
    },
    {
      "cell_type": "code",
      "metadata": {
        "id": "igjAzBPHGufD",
        "colab_type": "code",
        "colab": {}
      },
      "source": [
        "import numpy as np\n",
        "\n",
        "# Input \n",
        "arr = np.array([1,2,3,1,2,4])\n",
        "\n",
        "# Enter your code here"
      ],
      "execution_count": 0,
      "outputs": []
    },
    {
      "cell_type": "markdown",
      "metadata": {
        "id": "afISWKqVGufE",
        "colab_type": "text"
      },
      "source": [
        "###Solution:"
      ]
    },
    {
      "cell_type": "code",
      "metadata": {
        "id": "-qYA51XPGufE",
        "colab_type": "code",
        "colab": {}
      },
      "source": [
        "import numpy as np\n",
        "\n",
        "# Input \n",
        "arr = np.array([1,2,3,1,2,4])\n",
        "\n",
        "# Solution\n",
        "np.unique(arr, return_counts=True)"
      ],
      "execution_count": 0,
      "outputs": []
    },
    {
      "cell_type": "markdown",
      "metadata": {
        "id": "88dnQgYdGufF",
        "colab_type": "text"
      },
      "source": [
        "##26. How to convert a numeric to a categorical (text) array?"
      ]
    },
    {
      "cell_type": "markdown",
      "metadata": {
        "id": "FhQU7KXbs31G",
        "colab_type": "text"
      },
      "source": [
        "**Problem:**\n",
        "Bin the persons' height (given as 1D array) with respect to given bins (1D array) and print their text description (given as 1D array).\n",
        "\n",
        "Height, m| Description\n",
        "------------ | -------------\n",
        "0.0 < h <= 1.7 | short\n",
        "1.7 < h <= 1.85 | medium\n",
        "1.85 < h <= 20 | tall\n",
        "otherwise | alien\n",
        "\n",
        "\n",
        "**Possible Input:**\n",
        "```python\n",
        "height_arr = np.array([1.80, 2.10, 1.90, 1.60, 1.70, 1.65, 1.75])\n",
        "bins = [0.0, 1.7, 1.85, 2.0]\n",
        "label_map = ['short', 'medium', 'tall', 'alien']\n",
        "```\n",
        "\n",
        "**Expected Output:**\n",
        "```\n",
        "['medium', 'alien', 'tall', 'short', 'medium', 'short', 'medium']\n",
        "```"
      ]
    },
    {
      "cell_type": "code",
      "metadata": {
        "id": "Ca-kyOsBGufF",
        "colab_type": "code",
        "colab": {}
      },
      "source": [
        "import numpy as np\n",
        "\n",
        "# Input\n",
        "height_arr = np.array([1.80, 2.10, 1.90, 1.60, 1.70, 1.65, 1.75])\n",
        "bins = [0.0, 1.7, 1.85, 2.0]\n",
        "label_map = ['short', 'medium', 'tall', 'alien']\n",
        "\n",
        "# Enter your code here"
      ],
      "execution_count": 0,
      "outputs": []
    },
    {
      "cell_type": "markdown",
      "metadata": {
        "id": "3CUmTAdnGufG",
        "colab_type": "text"
      },
      "source": [
        "###Solution:"
      ]
    },
    {
      "cell_type": "code",
      "metadata": {
        "id": "ms52-oBVGufG",
        "colab_type": "code",
        "colab": {}
      },
      "source": [
        "import numpy as np\n",
        "\n",
        "# Input\n",
        "height_arr = np.array([1.80, 2.10, 1.90, 1.60, 1.70, 1.65, 1.75])\n",
        "bins = [0.0, 1.7, 1.85, 2.0]\n",
        "label_map = ['short', 'medium', 'tall', 'alien']\n",
        "\n",
        "# Solution\n",
        "height_bin = np.digitize(height_arr, bins)\n",
        "[label_map[x-1] for x in height_bin]"
      ],
      "execution_count": 0,
      "outputs": []
    },
    {
      "cell_type": "markdown",
      "metadata": {
        "id": "LvGnTYBzGufH",
        "colab_type": "text"
      },
      "source": [
        "##27. How to create a new column from existing columns of a numpy array?\n",
        "\n"
      ]
    },
    {
      "cell_type": "markdown",
      "metadata": {
        "id": "n1g9NMx3Robp",
        "colab_type": "text"
      },
      "source": [
        "**Problem:**\n",
        "An array that contains width, length, and height of parallelepipedal bars is given.\n",
        "Add one more column to the array that should contain volume of the appropriate bar.\n",
        "\n",
        "**Possible Input:**\n",
        "```python\n",
        "arr = np.array([[5.7, 4.3, 9.8],\n",
        "                [1.0, 2.0, 1.6],\n",
        "                [6.5, 2.5, 4.6],\n",
        "                [2.4, 1.5, 1.1],\n",
        "                [6.5, 1.3, 1.9],\n",
        "                [3.6, 8.2, 0.9],\n",
        "                [8.3, 0.9, 9.7],\n",
        "                [4.6, 9.7, 6.0],\n",
        "                [7.3, 0.3, 2.8],\n",
        "                [1.2, 2.9, 1.1]])\n",
        "```\n",
        "\n",
        "**Expected Output:**\n",
        "```\n",
        "array([[  5.7  ,   4.3  ,   9.8  , 240.198],\n",
        "       [  1.   ,   2.   ,   1.6  ,   3.2  ],\n",
        "       [  6.5  ,   2.5  ,   4.6  ,  74.75 ],\n",
        "       [  2.4  ,   1.5  ,   1.1  ,   3.96 ],\n",
        "       [  6.5  ,   1.3  ,   1.9  ,  16.055],\n",
        "       [  3.6  ,   8.2  ,   0.9  ,  26.568],\n",
        "       [  8.3  ,   0.9  ,   9.7  ,  72.459],\n",
        "       [  4.6  ,   9.7  ,   6.   , 267.72 ],\n",
        "       [  7.3  ,   0.3  ,   2.8  ,   6.132],\n",
        "       [  1.2  ,   2.9  ,   1.1  ,   3.828]])\n",
        "```"
      ]
    },
    {
      "cell_type": "code",
      "metadata": {
        "id": "H8AfTxo3GufI",
        "colab_type": "code",
        "colab": {}
      },
      "source": [
        "import numpy as np\n",
        "\n",
        "# Input\n",
        "arr = np.array([[5.7, 4.3, 9.8],\n",
        "                [1.0, 2.0, 1.6],\n",
        "                [6.5, 2.5, 4.6],\n",
        "                [2.4, 1.5, 1.1],\n",
        "                [6.5, 1.3, 1.9],\n",
        "                [3.6, 8.2, 0.9],\n",
        "                [8.3, 0.9, 9.7],\n",
        "                [4.6, 9.7, 6.0],\n",
        "                [7.3, 0.3, 2.8],\n",
        "                [1.2, 2.9, 1.1]])\n",
        "\n",
        "# Enter your code here"
      ],
      "execution_count": 0,
      "outputs": []
    },
    {
      "cell_type": "markdown",
      "metadata": {
        "id": "SHEGkwgTGufI",
        "colab_type": "text"
      },
      "source": [
        "###Solution:"
      ]
    },
    {
      "cell_type": "code",
      "metadata": {
        "id": "4hSCP6vPGufI",
        "colab_type": "code",
        "colab": {}
      },
      "source": [
        "import numpy as np\n",
        "\n",
        "# Input\n",
        "arr = np.array([[5.7, 4.3, 9.8],\n",
        "                [1.0, 2.0, 1.6],\n",
        "                [6.5, 2.5, 4.6],\n",
        "                [2.4, 1.5, 1.1],\n",
        "                [6.5, 1.3, 1.9],\n",
        "                [3.6, 8.2, 0.9],\n",
        "                [8.3, 0.9, 9.7],\n",
        "                [4.6, 9.7, 6.0],\n",
        "                [7.3, 0.3, 2.8],\n",
        "                [1.2, 2.9, 1.1]])\n",
        "\n",
        "# Solution\n",
        "volume = arr[:, 0] * arr[:, 1] * arr[:, 2]\n",
        "np.hstack([arr, volume[:, np.newaxis]])"
      ],
      "execution_count": 0,
      "outputs": []
    },
    {
      "cell_type": "markdown",
      "metadata": {
        "id": "xjTLPbcQGufL",
        "colab_type": "text"
      },
      "source": [
        "##28. How to get the second largest value of an array when grouped by another array?"
      ]
    },
    {
      "cell_type": "markdown",
      "metadata": {
        "id": "W6RLAwATHybq",
        "colab_type": "text"
      },
      "source": [
        "**Problem:**\n",
        "An array that contains student's name and number of solved problems is given.\n",
        "Find the second largest number of problems that Alice has solved.\n",
        "\n",
        "**Possible Input:**\n",
        "```python\n",
        "arr = np.array([['Alice', 7], \n",
        "                ['Bob', 1], \n",
        "                ['Alice', 3], \n",
        "                ['Alice', 2], \n",
        "                ['Alice', 5], \n",
        "                ['Bob', 9], \n",
        "                ['Bob', 1], \n",
        "                ['Alice', 6],\n",
        "                ['Bob', 6], \n",
        "                ['Alice', 3],\n",
        "                ['Alice', 1]\n",
        "               ])\n",
        "student = 'Alice'\n",
        "```\n",
        "\n",
        "**Expected Output:**\n",
        "```\n",
        "6.0\n",
        "```"
      ]
    },
    {
      "cell_type": "code",
      "metadata": {
        "id": "NxDKPwTFGufL",
        "colab_type": "code",
        "colab": {}
      },
      "source": [
        "import numpy as np\n",
        "\n",
        "# Input\n",
        "arr = np.array([['Alice', 7], \n",
        "                ['Bob', 1], \n",
        "                ['Alice', 3], \n",
        "                ['Alice', 2], \n",
        "                ['Alice', 5], \n",
        "                ['Bob', 9], \n",
        "                ['Bob', 1], \n",
        "                ['Alice', 6],\n",
        "                ['Bob', 6], \n",
        "                ['Alice', 3],\n",
        "                ['Alice', 1]\n",
        "               ])\n",
        "student = 'Alice'\n",
        "\n",
        "# Enter your code here"
      ],
      "execution_count": 0,
      "outputs": []
    },
    {
      "cell_type": "markdown",
      "metadata": {
        "id": "Ir7Dcx8EGufM",
        "colab_type": "text"
      },
      "source": [
        "###Solution:"
      ]
    },
    {
      "cell_type": "code",
      "metadata": {
        "id": "lNAY0dD4GufM",
        "colab_type": "code",
        "colab": {}
      },
      "source": [
        "import numpy as np\n",
        "\n",
        "# Input\n",
        "arr = np.array([['Alice', 7], \n",
        "                ['Bob', 1], \n",
        "                ['Alice', 3], \n",
        "                ['Alice', 2], \n",
        "                ['Alice', 5], \n",
        "                ['Bob', 9], \n",
        "                ['Bob', 1], \n",
        "                ['Alice', 6],\n",
        "                ['Bob', 6], \n",
        "                ['Alice', 3],\n",
        "                ['Alice', 1]\n",
        "               ])\n",
        "student = 'Alice'\n",
        "\n",
        "# Solution\n",
        "filtered = arr[arr[:, 0] == student, [1]].astype('float')\n",
        "np.unique(np.sort(filtered))[-2]"
      ],
      "execution_count": 0,
      "outputs": []
    },
    {
      "cell_type": "markdown",
      "metadata": {
        "id": "yHK3LSteGufO",
        "colab_type": "text"
      },
      "source": [
        "##29. How to sort a 2D array by a column?"
      ]
    },
    {
      "cell_type": "markdown",
      "metadata": {
        "id": "QPZuB7C9CfmU",
        "colab_type": "text"
      },
      "source": [
        "**Problem:**\n",
        "Sort the given dataset that contains student's name, course, and grade with respect to student's name.\n",
        "\n",
        "**Possible Input:**\n",
        "```python\n",
        "arr = np.array([['John',   'English', 4],\n",
        "                ['Paul',   'English', 5],\n",
        "                ['Ringo',  'English', 4],\n",
        "                ['George', 'English', 4],\n",
        "                ['John',   'Math', 3],\n",
        "                ['Paul',   'Math', 4],\n",
        "                ['Ringo',  'Math', 4],\n",
        "                ['George', 'Math', 4],\n",
        "                ['John',   'Music', 5],\n",
        "                ['Paul',   'Music', 5],\n",
        "                ['Ringo',  'Music', 5],\n",
        "                ['George', 'Music', 5]\n",
        "               ])\n",
        "sort_column_idx = 0\n",
        "```\n",
        "\n",
        "**Expected Outut:**\n",
        "```\n",
        "array([['George', 'English', '4'],\n",
        "       ['George', 'Math', '4'],\n",
        "       ['George', 'Music', '5'],\n",
        "       ['John', 'English', '4'],\n",
        "       ['John', 'Math', '3'],\n",
        "       ['John', 'Music', '5'],\n",
        "       ['Paul', 'English', '5'],\n",
        "       ['Paul', 'Math', '4'],\n",
        "       ['Paul', 'Music', '5'],\n",
        "       ['Ringo', 'English', '4'],\n",
        "       ['Ringo', 'Math', '4'],\n",
        "       ['Ringo', 'Music', '5']], dtype='<U7')\n",
        "```"
      ]
    },
    {
      "cell_type": "code",
      "metadata": {
        "id": "XhxnjlvNGufO",
        "colab_type": "code",
        "colab": {}
      },
      "source": [
        "import numpy as np\n",
        "\n",
        "# Input:\n",
        "arr = np.array([['John',   'English', 4],\n",
        "                ['Paul',   'English', 5],\n",
        "                ['Ringo',  'English', 4],\n",
        "                ['George', 'English', 4],\n",
        "                ['John',   'Math', 3],\n",
        "                ['Paul',   'Math', 4],\n",
        "                ['Ringo',  'Math', 4],\n",
        "                ['George', 'Math', 4],\n",
        "                ['John',   'Music', 5],\n",
        "                ['Paul',   'Music', 5],\n",
        "                ['Ringo',  'Music', 5],\n",
        "                ['George', 'Music', 5]\n",
        "               ])\n",
        "sort_column_idx = 0\n",
        "\n",
        "# Enter your code here"
      ],
      "execution_count": 0,
      "outputs": []
    },
    {
      "cell_type": "markdown",
      "metadata": {
        "id": "A_Vv_fzjGufP",
        "colab_type": "text"
      },
      "source": [
        "###Solution:"
      ]
    },
    {
      "cell_type": "code",
      "metadata": {
        "id": "mfJkXFUcGufP",
        "colab_type": "code",
        "colab": {}
      },
      "source": [
        "import numpy as np\n",
        "\n",
        "# Input:\n",
        "arr = np.array([['John',   'English', 4],\n",
        "                ['Paul',   'English', 5],\n",
        "                ['Ringo',  'English', 4],\n",
        "                ['George', 'English', 4],\n",
        "                ['John',   'Math', 3],\n",
        "                ['Paul',   'Math', 4],\n",
        "                ['Ringo',  'Math', 4],\n",
        "                ['George', 'Math', 4],\n",
        "                ['John',   'Music', 5],\n",
        "                ['Paul',   'Music', 5],\n",
        "                ['Ringo',  'Music', 5],\n",
        "                ['George', 'Music', 5]\n",
        "               ])\n",
        "sort_column_idx = 0\n",
        "\n",
        "# Solution:\n",
        "arr[arr[:,sort_column_idx].argsort()]"
      ],
      "execution_count": 0,
      "outputs": []
    },
    {
      "cell_type": "markdown",
      "metadata": {
        "id": "buBi6jVmGufR",
        "colab_type": "text"
      },
      "source": [
        "##30. How to find the position of the first occurrence of a value greater than a given value?"
      ]
    },
    {
      "cell_type": "markdown",
      "metadata": {
        "id": "WXE64rcd09rs",
        "colab_type": "text"
      },
      "source": [
        "**Problem:**\n",
        "Find the position of the first occurrence of a value strictly greater than given threshold.\n",
        "\n",
        "**Possible Input:**\n",
        "```python\n",
        "arr = np.array([8, 5, 2, 7, 5, 9, 0, 9, 8, 6, 2, 0, 5, 3, 10, 2, 3, 6, 4, 1])\n",
        "threshold = 8\n",
        "```\n",
        "\n",
        "**Expected Output:**\n",
        "```\n",
        "5\n",
        "```"
      ]
    },
    {
      "cell_type": "code",
      "metadata": {
        "id": "JMl_rpc3GufR",
        "colab_type": "code",
        "colab": {}
      },
      "source": [
        "import numpy as np\n",
        "\n",
        "# Input:\n",
        "arr = np.array([8, 5, 2, 7, 5, 9, 0, 9, 8, 6, 2, 0, 5, 3, 10, 2, 3, 6, 4, 1])\n",
        "threshold = 8\n",
        "\n",
        "# Enter your code here"
      ],
      "execution_count": 0,
      "outputs": []
    },
    {
      "cell_type": "markdown",
      "metadata": {
        "id": "wizPdNdQGufS",
        "colab_type": "text"
      },
      "source": [
        "###Solution:"
      ]
    },
    {
      "cell_type": "code",
      "metadata": {
        "id": "9A4Es5K3GufS",
        "colab_type": "code",
        "colab": {}
      },
      "source": [
        "import numpy as np\n",
        "\n",
        "# Input:\n",
        "arr = np.array([8, 5, 2, 7, 5, 9, 0, 9, 8, 6, 2, 0, 5, 3, 10, 2, 3, 6, 4, 1])\n",
        "threshold = 8\n",
        "\n",
        "# Solution:\n",
        "np.argwhere(arr > threshold)[0,0]"
      ],
      "execution_count": 0,
      "outputs": []
    },
    {
      "cell_type": "markdown",
      "metadata": {
        "id": "B0iE--mGGufS",
        "colab_type": "text"
      },
      "source": [
        "##31. How to replace all values greater than a given value to a given cutoff?"
      ]
    },
    {
      "cell_type": "markdown",
      "metadata": {
        "id": "_qi9qlyoZipo",
        "colab_type": "text"
      },
      "source": [
        "**Problem:**\n",
        "An array together with two numbers *min* and *max* are given.\n",
        "Replace all values in array less than *min* with *min* and all values greater than *max* with *max*.\n",
        "Suppose that *max* is always greater than *min*.\n",
        "\n",
        "**Possible Input:**\n",
        "```python\n",
        "import numpy as np\n",
        "\n",
        "# Input\n",
        "a = np.array([27.63, 14.64, 21.8, 42.39,  1.23,\n",
        "               6.96, 33.87, 41.47,  7.7,  29.18,\n",
        "              44.67, 11.25, 10.08,  6.31, 11.77, \n",
        "              48.95, 40.77,  9.43, 41.  , 14.43])\n",
        "```\n",
        "\n",
        "**Expected Output:**\n",
        "```\n",
        "array([27.63, 14.64, 21.8 , 30.  , 10.  , 10.  , 30.  , 30.  , 10.  ,\n",
        "       29.18, 30.  , 11.25, 10.08, 10.  , 11.77, 30.  , 30.  , 10.  ,\n",
        "       30.  , 14.43])\n",
        "```"
      ]
    },
    {
      "cell_type": "code",
      "metadata": {
        "id": "_ZDOsdyZGufS",
        "colab_type": "code",
        "colab": {}
      },
      "source": [
        "import numpy as np\n",
        "\n",
        "# Input\n",
        "a = np.array([27.63, 14.64, 21.8, 42.39,  1.23,\n",
        "               6.96, 33.87, 41.47,  7.7,  29.18,\n",
        "              44.67, 11.25, 10.08,  6.31, 11.77, \n",
        "              48.95, 40.77,  9.43, 41.  , 14.43])\n",
        "\n",
        "# Enter your code here"
      ],
      "execution_count": 0,
      "outputs": []
    },
    {
      "cell_type": "markdown",
      "metadata": {
        "id": "bYz-avquGufT",
        "colab_type": "text"
      },
      "source": [
        "###Solution A:"
      ]
    },
    {
      "cell_type": "code",
      "metadata": {
        "id": "yRY7-SaeGufU",
        "colab_type": "code",
        "colab": {}
      },
      "source": [
        "import numpy as np\n",
        "\n",
        "# Input\n",
        "a = np.array([27.63, 14.64, 21.8, 42.39,  1.23,\n",
        "               6.96, 33.87, 41.47,  7.7,  29.18,\n",
        "              44.67, 11.25, 10.08,  6.31, 11.77, \n",
        "              48.95, 40.77,  9.43, 41.  , 14.43])\n",
        "\n",
        "# Solution\n",
        "np.clip(a, a_min=10, a_max=30)"
      ],
      "execution_count": 0,
      "outputs": []
    },
    {
      "cell_type": "markdown",
      "metadata": {
        "id": "vzdCSKj0ZxYj",
        "colab_type": "text"
      },
      "source": [
        "###Solution B:"
      ]
    },
    {
      "cell_type": "code",
      "metadata": {
        "id": "LoYZegVFZlV-",
        "colab_type": "code",
        "colab": {}
      },
      "source": [
        "import numpy as np\n",
        "\n",
        "# Input\n",
        "a = np.array([27.63, 14.64, 21.8, 42.39,  1.23,\n",
        "               6.96, 33.87, 41.47,  7.7,  29.18,\n",
        "              44.67, 11.25, 10.08,  6.31, 11.77, \n",
        "              48.95, 40.77,  9.43, 41.  , 14.43])\n",
        "\n",
        "# Solution\n",
        "np.where(a < 10, 10, np.where(a > 30, 30, a))"
      ],
      "execution_count": 0,
      "outputs": []
    },
    {
      "cell_type": "markdown",
      "metadata": {
        "id": "JUB2O-bkGufU",
        "colab_type": "text"
      },
      "source": [
        "##32. How to get the positions of top n values from a numpy array?"
      ]
    },
    {
      "cell_type": "markdown",
      "metadata": {
        "id": "YwlcVUm_DR-T",
        "colab_type": "text"
      },
      "source": [
        "**Problem:**\n",
        "Get the positions of top 5 maximum values in a given array.\n",
        "\n",
        "**Possible Input:**\n",
        "```python\n",
        "a = np.array([4, 13, 5, 8, 17, 12, 11, 14, 19, 1, 2, 0, 9, 6, 16, 18, 7, 3, 10, 15])\n",
        "```\n",
        "\n",
        "**Expected Output:**\n",
        "```\n",
        "array([ 4, 15,  8, 14, 19])\n",
        "```"
      ]
    },
    {
      "cell_type": "code",
      "metadata": {
        "id": "DBAKzd5nGufV",
        "colab_type": "code",
        "colab": {}
      },
      "source": [
        "import numpy as np\n",
        "\n",
        "# Input\n",
        "a = np.array([4, 13, 5, 8, 17, 12, 11, 14, 19, 1, 2, 0, 9, 6, 16, 18, 7, 3, 10, 15])\n",
        "\n",
        "# Enter your code here"
      ],
      "execution_count": 0,
      "outputs": []
    },
    {
      "cell_type": "markdown",
      "metadata": {
        "id": "MTxXNImzGufV",
        "colab_type": "text"
      },
      "source": [
        "###Solution A:"
      ]
    },
    {
      "cell_type": "code",
      "metadata": {
        "id": "bYNFwblxGufX",
        "colab_type": "code",
        "colab": {}
      },
      "source": [
        "import numpy as np\n",
        "\n",
        "# Input\n",
        "a = np.array([4, 13, 5, 8, 17, 12, 11, 14, 19, 1, 2, 0, 9, 6, 16, 18, 7, 3, 10, 15])\n",
        "\n",
        "# Solution\n",
        "np.argpartition(-a, 5)[:5]"
      ],
      "execution_count": 0,
      "outputs": []
    },
    {
      "cell_type": "markdown",
      "metadata": {
        "id": "mDfVk5HSDX4W",
        "colab_type": "text"
      },
      "source": [
        "###Solution B:"
      ]
    },
    {
      "cell_type": "code",
      "metadata": {
        "id": "7lAybNxuGufX",
        "colab_type": "code",
        "colab": {}
      },
      "source": [
        "import numpy as np\n",
        "\n",
        "# Input\n",
        "a = np.array([4, 13, 5, 8, 17, 12, 11, 14, 19, 1, 2, 0, 9, 6, 16, 18, 7, 3, 10, 15])\n",
        "\n",
        "# Solution\n",
        "a[a.argsort()][-5:]"
      ],
      "execution_count": 0,
      "outputs": []
    },
    {
      "cell_type": "markdown",
      "metadata": {
        "id": "hrYkJAjsDZRR",
        "colab_type": "text"
      },
      "source": [
        "###Solution C:"
      ]
    },
    {
      "cell_type": "code",
      "metadata": {
        "id": "Jzl9KidiGufY",
        "colab_type": "code",
        "colab": {}
      },
      "source": [
        "import numpy as np\n",
        "\n",
        "# Input\n",
        "a = np.array([4, 13, 5, 8, 17, 12, 11, 14, 19, 1, 2, 0, 9, 6, 16, 18, 7, 3, 10, 15])\n",
        "\n",
        "# Solution\n",
        "np.sort(a)[-5:]"
      ],
      "execution_count": 0,
      "outputs": []
    },
    {
      "cell_type": "markdown",
      "metadata": {
        "id": "ZMDnGQhEDadP",
        "colab_type": "text"
      },
      "source": [
        "###Solution D:"
      ]
    },
    {
      "cell_type": "code",
      "metadata": {
        "id": "FWK96_ykGufY",
        "colab_type": "code",
        "colab": {}
      },
      "source": [
        "import numpy as np\n",
        "\n",
        "# Input\n",
        "a = np.array([4, 13, 5, 8, 17, 12, 11, 14, 19, 1, 2, 0, 9, 6, 16, 18, 7, 3, 10, 15])\n",
        "\n",
        "# Solution\n",
        "np.partition(a, kth=-5)[-5:]"
      ],
      "execution_count": 0,
      "outputs": []
    },
    {
      "cell_type": "markdown",
      "metadata": {
        "id": "DDTO0moZDb_S",
        "colab_type": "text"
      },
      "source": [
        "###Solution E:"
      ]
    },
    {
      "cell_type": "code",
      "metadata": {
        "id": "gIC8snwbGufZ",
        "colab_type": "code",
        "colab": {}
      },
      "source": [
        "import numpy as np\n",
        "\n",
        "# Input\n",
        "a = np.array([4, 13, 5, 8, 17, 12, 11, 14, 19, 1, 2, 0, 9, 6, 16, 18, 7, 3, 10, 15])\n",
        "\n",
        "# Solution\n",
        "a[np.argpartition(-a, 5)][:5]"
      ],
      "execution_count": 0,
      "outputs": []
    },
    {
      "cell_type": "markdown",
      "metadata": {
        "id": "_M9WKT_UGufp",
        "colab_type": "text"
      },
      "source": [
        "##33. How to rank items in an array using numpy?"
      ]
    },
    {
      "cell_type": "markdown",
      "metadata": {
        "id": "ypfBsS93Q1RP",
        "colab_type": "text"
      },
      "source": [
        "**Problem:**\n",
        "Create ranks for the given numeric array.\n",
        "\n",
        "**Possible Input:**\n",
        "```python\n",
        "a = np.array([9, 4, 15, 0, 17, 16, 17, 8, 9, 0])\n",
        "```\n",
        "\n",
        "**Expected Output:**\n",
        "```\n",
        "array([4, 2, 6, 0, 8, 7, 9, 3, 5, 1])\n",
        "```\n",
        "\n",
        "**Explanation:**\n",
        "*   Sort initial array [ 0,  0,  4,  8,  9,  9, 15, 16, 17, 17]\n",
        "*   4 has index 2 in the new array\n",
        "*   place 2 instead of 4 into the initial array"
      ]
    },
    {
      "cell_type": "code",
      "metadata": {
        "id": "dsN9-nSZGufp",
        "colab_type": "code",
        "colab": {}
      },
      "source": [
        "import numpy as np\n",
        "\n",
        "# Input\n",
        "a = np.array([9, 4, 15, 0, 17, 16, 17, 8, 9, 0])\n",
        "\n",
        "# Enter your code here"
      ],
      "execution_count": 0,
      "outputs": []
    },
    {
      "cell_type": "markdown",
      "metadata": {
        "id": "qnG3TiVxGufp",
        "colab_type": "text"
      },
      "source": [
        "###Solution:"
      ]
    },
    {
      "cell_type": "code",
      "metadata": {
        "id": "B1UwkMmbGufq",
        "colab_type": "code",
        "colab": {}
      },
      "source": [
        "import numpy as np\n",
        "\n",
        "# Input\n",
        "a = np.array([9, 4, 15, 0, 17, 16, 17, 8, 9, 0])\n",
        "\n",
        "# Solution\n",
        "a.argsort().argsort()"
      ],
      "execution_count": 0,
      "outputs": []
    },
    {
      "cell_type": "markdown",
      "metadata": {
        "id": "-xNETDGLGufr",
        "colab_type": "text"
      },
      "source": [
        "##34. How to find the maximum value in each row of a numpy array 2d?"
      ]
    },
    {
      "cell_type": "markdown",
      "metadata": {
        "id": "W9dPhtg026qa",
        "colab_type": "text"
      },
      "source": [
        "**Problem:**\n",
        "Compute the maximum for each row of the given array.\n",
        "\n",
        "**Possible Input:**\n",
        "```python\n",
        "a = [[9, 9, 4],\n",
        " [8, 8, 1],\n",
        " [5, 3, 6],\n",
        " [3, 3, 3],\n",
        " [2, 1, 9]]\n",
        "```\n",
        "\n",
        "**Expected Output:**\n",
        "```\n",
        "array([9, 8, 6, 3, 9])\n",
        "```"
      ]
    },
    {
      "cell_type": "code",
      "metadata": {
        "id": "nk00z_GbGufs",
        "colab_type": "code",
        "colab": {}
      },
      "source": [
        "import numpy as np\n",
        "\n",
        "# Input\n",
        "a = [[9, 9, 4],\n",
        " [8, 8, 1],\n",
        " [5, 3, 6],\n",
        " [3, 3, 3],\n",
        " [2, 1, 9]]\n",
        "\n",
        "# Enter your code here"
      ],
      "execution_count": 0,
      "outputs": []
    },
    {
      "cell_type": "markdown",
      "metadata": {
        "id": "tHTLyj8KGuft",
        "colab_type": "text"
      },
      "source": [
        "###Solution A:"
      ]
    },
    {
      "cell_type": "code",
      "metadata": {
        "id": "KsU9wH4EGuft",
        "colab_type": "code",
        "colab": {}
      },
      "source": [
        "import numpy as np\n",
        "\n",
        "# Input\n",
        "a = [[9, 9, 4],\n",
        " [8, 8, 1],\n",
        " [5, 3, 6],\n",
        " [3, 3, 3],\n",
        " [2, 1, 9]]\n",
        "\n",
        "# Solution:\n",
        "np.amax(a, axis=1)"
      ],
      "execution_count": 0,
      "outputs": []
    },
    {
      "cell_type": "markdown",
      "metadata": {
        "id": "3ANodbHq3Cug",
        "colab_type": "text"
      },
      "source": [
        "###Solution B:"
      ]
    },
    {
      "cell_type": "code",
      "metadata": {
        "id": "QUI13bqfGufu",
        "colab_type": "code",
        "colab": {}
      },
      "source": [
        "import numpy as np\n",
        "\n",
        "# Input\n",
        "a = [[9, 9, 4],\n",
        " [8, 8, 1],\n",
        " [5, 3, 6],\n",
        " [3, 3, 3],\n",
        " [2, 1, 9]]\n",
        "\n",
        "# Solution:\n",
        "np.apply_along_axis(np.max, arr=a, axis=1)"
      ],
      "execution_count": 0,
      "outputs": []
    },
    {
      "cell_type": "markdown",
      "metadata": {
        "id": "E_CN5pj8Guf0",
        "colab_type": "text"
      },
      "source": [
        "##35. How to drop all missing values from a numpy array?"
      ]
    },
    {
      "cell_type": "markdown",
      "metadata": {
        "id": "I210E6O7n03c",
        "colab_type": "text"
      },
      "source": [
        "**Problem:**\n",
        "Drop all nan values from a 1D numpy array\n",
        "\n",
        "**Possible Input:**\n",
        "```python\n",
        "a = np.array([1,2,3,np.nan,5,6,7,np.nan])\n",
        "```\n",
        "\n",
        "**Expected Output:**\n",
        "```\n",
        "array([1., 2., 3., 5., 6., 7.])\n",
        "```"
      ]
    },
    {
      "cell_type": "code",
      "metadata": {
        "id": "xLbSpnjeGuf1",
        "colab_type": "code",
        "colab": {}
      },
      "source": [
        "import numpy as np\n",
        "\n",
        "# Input\n",
        "a = np.array([1,2,3,np.nan,5,6,7,np.nan])\n",
        "\n",
        "# Enter your code here"
      ],
      "execution_count": 0,
      "outputs": []
    },
    {
      "cell_type": "markdown",
      "metadata": {
        "id": "5BaSongBGuf1",
        "colab_type": "text"
      },
      "source": [
        "###Solution:"
      ]
    },
    {
      "cell_type": "code",
      "metadata": {
        "id": "qWpKes2iGuf1",
        "colab_type": "code",
        "outputId": "cba439e7-a019-4f3b-cb2a-3625f2a94e5a",
        "colab": {
          "base_uri": "https://localhost:8080/",
          "height": 34
        }
      },
      "source": [
        "import numpy as np\n",
        "\n",
        "# Input\n",
        "a = np.array([1,2,3,np.nan,5,6,7,np.nan])\n",
        "\n",
        "# Solution\n",
        "a[~np.isnan(a)]"
      ],
      "execution_count": 0,
      "outputs": [
        {
          "output_type": "execute_result",
          "data": {
            "text/plain": [
              "array([1., 2., 3., 5., 6., 7.])"
            ]
          },
          "metadata": {
            "tags": []
          },
          "execution_count": 6
        }
      ]
    },
    {
      "cell_type": "markdown",
      "metadata": {
        "id": "PjdnOl0kGuf7",
        "colab_type": "text"
      },
      "source": [
        "##36. How to subtract a 1d array from a 2d array, where each item of 1d array subtracts from respective row?\n"
      ]
    },
    {
      "cell_type": "markdown",
      "metadata": {
        "id": "TNS_jQkRaYPw",
        "colab_type": "text"
      },
      "source": [
        "**Problem:**\n",
        "Subtract the 1d array from the 2d array. \n",
        "Each item of b_1d should be subtracted from respective row of a_2d.\n",
        "\n",
        "**Possible Input:**\n",
        "```python\n",
        "a_2d = np.array([[3,3,3],[4,4,4],[5,5,5]])\n",
        "b_1d = np.array([1,2,3])\n",
        "```\n",
        "\n",
        "**Expected Output:**\n",
        "```\n",
        "array([[2, 2, 2],\n",
        "       [2, 2, 2],\n",
        "       [2, 2, 2]])\n",
        "```"
      ]
    },
    {
      "cell_type": "code",
      "metadata": {
        "id": "gpQqDP9QGuf7",
        "colab_type": "code",
        "colab": {}
      },
      "source": [
        "import numpy as np\n",
        "\n",
        "# Input\n",
        "a_2d = np.array([[3,3,3],[4,4,4],[5,5,5]])\n",
        "b_1d = np.array([1,2,3])\n",
        "\n",
        "# Enter your code here"
      ],
      "execution_count": 0,
      "outputs": []
    },
    {
      "cell_type": "markdown",
      "metadata": {
        "id": "HwZBi4IJGuf7",
        "colab_type": "text"
      },
      "source": [
        "###Solution:"
      ]
    },
    {
      "cell_type": "code",
      "metadata": {
        "id": "b4H6We8bGuf7",
        "colab_type": "code",
        "colab": {}
      },
      "source": [
        "import numpy as np\n",
        "\n",
        "# Input\n",
        "a_2d = np.array([[3,3,3],[4,4,4],[5,5,5]])\n",
        "b_1d = np.array([1,2,3])\n",
        "\n",
        "\n",
        "# Solution\n",
        "a_2d - b_1d[:,None]"
      ],
      "execution_count": 0,
      "outputs": []
    },
    {
      "cell_type": "markdown",
      "metadata": {
        "id": "4StEYPrOGuf8",
        "colab_type": "text"
      },
      "source": [
        "##37. How to find the index of n'th repetition of an item in an array"
      ]
    },
    {
      "cell_type": "markdown",
      "metadata": {
        "id": "HH0-Bll3SGtJ",
        "colab_type": "text"
      },
      "source": [
        "**Problem:**\n",
        "Find the index of 5th repetition of number 1 in x.\n",
        "\n",
        "**Possible input:**\n",
        "```\n",
        "import numpy as np\n",
        "\n",
        "# Input:\n",
        "x = np.array([1, 2, 1, 1, 3, 4, 3, 1, 1, 2, 1, 1, 2])\n",
        "n = 5\n",
        "```\n",
        "\n",
        "**Expected output:**\n",
        "```\n",
        "8\n",
        "```"
      ]
    },
    {
      "cell_type": "code",
      "metadata": {
        "id": "Vn9zpTF3Guf8",
        "colab_type": "code",
        "colab": {}
      },
      "source": [
        "import numpy as np\n",
        "\n",
        "# Input:\n",
        "x = np.array([1, 2, 1, 1, 3, 4, 3, 1, 1, 2, 1, 1, 2])\n",
        "n = 5\n",
        "\n",
        "# Enter your code here"
      ],
      "execution_count": 0,
      "outputs": []
    },
    {
      "cell_type": "markdown",
      "metadata": {
        "id": "QaBSEvWvGuf9",
        "colab_type": "text"
      },
      "source": [
        "###Solution A:"
      ]
    },
    {
      "cell_type": "code",
      "metadata": {
        "id": "BzmK3sWJGuf9",
        "colab_type": "code",
        "colab": {}
      },
      "source": [
        "import numpy as np\n",
        "\n",
        "# Input:\n",
        "x = np.array([1, 2, 1, 1, 3, 4, 3, 1, 1, 2, 1, 1, 2])\n",
        "n = 5\n",
        "\n",
        "# Solution:\n",
        "[i for i, v in enumerate(x) if v == 1][n-1]"
      ],
      "execution_count": 0,
      "outputs": []
    },
    {
      "cell_type": "markdown",
      "metadata": {
        "id": "_rV2Q6rVSLv5",
        "colab_type": "text"
      },
      "source": [
        "###Solution B:"
      ]
    },
    {
      "cell_type": "code",
      "metadata": {
        "id": "yJkBjq2KGuf-",
        "colab_type": "code",
        "colab": {}
      },
      "source": [
        "import numpy as np\n",
        "\n",
        "# Input:\n",
        "x = np.array([1, 2, 1, 1, 3, 4, 3, 1, 1, 2, 1, 1, 2])\n",
        "n = 5\n",
        "\n",
        "# Solution:\n",
        "np.where(x == 1)[0][n-1]"
      ],
      "execution_count": 0,
      "outputs": []
    },
    {
      "cell_type": "markdown",
      "metadata": {
        "id": "ZvufDFFmGuf_",
        "colab_type": "text"
      },
      "source": [
        "##38. How to convert numpy's datetime64 object to datetime's datetime object?"
      ]
    },
    {
      "cell_type": "markdown",
      "metadata": {
        "id": "qKmIklqotzWy",
        "colab_type": "text"
      },
      "source": [
        "**Problem:**\n",
        "Convert given numpy's datetime64 object to datetime's datetime object\n",
        "\n",
        "**Possible input:**\n",
        "```python\n",
        "dt64 = np.datetime64('2018-02-25 22:10:10')\n",
        "```\n",
        "\n",
        "**Expected Output:**\n",
        "```\n",
        "datetime.datetime(2018, 2, 25, 22, 10, 10)\n",
        "```"
      ]
    },
    {
      "cell_type": "code",
      "metadata": {
        "id": "k-L6dXQuGuf_",
        "colab_type": "code",
        "colab": {}
      },
      "source": [
        "import numpy as np\n",
        "from datetime import datetime\n",
        "\n",
        "# Input:\n",
        "dt64 = np.datetime64('2018-02-25 22:10:10')\n",
        "\n",
        "# Enter your code here"
      ],
      "execution_count": 0,
      "outputs": []
    },
    {
      "cell_type": "markdown",
      "metadata": {
        "id": "kHF9OFFHGuf_",
        "colab_type": "text"
      },
      "source": [
        "###Solution A:"
      ]
    },
    {
      "cell_type": "code",
      "metadata": {
        "id": "FLM61DUbGuf_",
        "colab_type": "code",
        "colab": {}
      },
      "source": [
        "import numpy as np\n",
        "from datetime import datetime\n",
        "\n",
        "# Input:\n",
        "dt64 = np.datetime64('2018-02-25 22:10:10')\n",
        "\n",
        "# Solution\n",
        "dt64.tolist()"
      ],
      "execution_count": 0,
      "outputs": []
    },
    {
      "cell_type": "markdown",
      "metadata": {
        "id": "Vs3iuKmNt4Va",
        "colab_type": "text"
      },
      "source": [
        "###Solution B:"
      ]
    },
    {
      "cell_type": "code",
      "metadata": {
        "id": "TOt9itonGugA",
        "colab_type": "code",
        "colab": {}
      },
      "source": [
        "import numpy as np\n",
        "from datetime import datetime\n",
        "\n",
        "# Input:\n",
        "dt64 = np.datetime64('2018-02-25 22:10:10')\n",
        "\n",
        "# Solution\n",
        "dt64.astype(datetime)"
      ],
      "execution_count": 0,
      "outputs": []
    },
    {
      "cell_type": "markdown",
      "metadata": {
        "id": "mOlTgouBGugC",
        "colab_type": "text"
      },
      "source": [
        "##39. How to create a numpy array sequence given only the starting point, length and the step?\n",
        "\n",
        "\n"
      ]
    },
    {
      "cell_type": "markdown",
      "metadata": {
        "id": "Ker271OrG0Tv",
        "colab_type": "text"
      },
      "source": [
        "**Problem:**\n",
        "Create a numpy array of given length that starts with given number and has a given step between consecutive numbers.\n",
        "Print the result for length = 10, start = 5, and step = 3.\n",
        "\n",
        "**Possible input:**\n",
        "```\n",
        "length = 10\n",
        "start  = 5\n",
        "step   = 3\n",
        "\n",
        "```\n",
        "\n",
        "**Expected output:**\n",
        "```\n",
        "array([ 5,  8, 11, 14, 17, 20, 23, 26, 29, 32])\n",
        "```"
      ]
    },
    {
      "cell_type": "code",
      "metadata": {
        "id": "wU5n3oz2GugC",
        "colab_type": "code",
        "colab": {}
      },
      "source": [
        "# Input\n",
        "length = 10\n",
        "start  = 5\n",
        "step   = 3\n",
        "\n",
        "# Enter your code here"
      ],
      "execution_count": 0,
      "outputs": []
    },
    {
      "cell_type": "markdown",
      "metadata": {
        "id": "rw0AQhpoGugD",
        "colab_type": "text"
      },
      "source": [
        "###Solution:"
      ]
    },
    {
      "cell_type": "code",
      "metadata": {
        "id": "Z8lqpMPLGugD",
        "colab_type": "code",
        "colab": {}
      },
      "source": [
        "import numpy as np\n",
        "\n",
        "# Input\n",
        "length = 10\n",
        "start  = 5\n",
        "step   = 3\n",
        "\n",
        "# Solution:\n",
        "np.arange(start, start + step * length, step)"
      ],
      "execution_count": 0,
      "outputs": []
    },
    {
      "cell_type": "markdown",
      "metadata": {
        "id": "5k-3N29iSCpf",
        "colab_type": "text"
      },
      "source": [
        "#Pro"
      ]
    },
    {
      "cell_type": "markdown",
      "metadata": {
        "id": "qorRGZnWGuep",
        "colab_type": "text"
      },
      "source": [
        "##1. How to compute the softmax score?"
      ]
    },
    {
      "cell_type": "markdown",
      "metadata": {
        "id": "FHc13ofuU-rg",
        "colab_type": "text"
      },
      "source": [
        "**Problem:**\n",
        "Compute the softmax score of given array.\n",
        "\n",
        "**Possible Input:**\n",
        "```python\n",
        "arr = np.array([1,2,3,4,5,6,7,8,9,10])\n",
        "```\n",
        "\n",
        "**Expected Output:**\n",
        "```\n",
        "array([7.80134161e-05, 2.12062451e-04, 5.76445508e-04, 1.56694135e-03,\n",
        "       4.25938820e-03, 1.15782175e-02, 3.14728583e-02, 8.55520989e-02,\n",
        "       2.32554716e-01, 6.32149258e-01])\n",
        "```"
      ]
    },
    {
      "cell_type": "code",
      "metadata": {
        "id": "AWLJLBB2Guep",
        "colab_type": "code",
        "colab": {}
      },
      "source": [
        "import numpy as np\n",
        "\n",
        "# Input\n",
        "arr = np.array([1,2,3,4,5,6,7,8,9,10])\n",
        "\n",
        "# Enter your code here"
      ],
      "execution_count": 0,
      "outputs": []
    },
    {
      "cell_type": "markdown",
      "metadata": {
        "id": "CtIRTQokGueq",
        "colab_type": "text"
      },
      "source": [
        "###Solution:"
      ]
    },
    {
      "cell_type": "code",
      "metadata": {
        "id": "gM8IzZgUGuer",
        "colab_type": "code",
        "colab": {}
      },
      "source": [
        "import numpy as np\n",
        "\n",
        "# Input\n",
        "arr = np.array([1,2,3,4,5,6,7,8,9,10])\n",
        "\n",
        "# Solution\n",
        "e_arr = np.exp(arr - np.max(arr))\n",
        "e_arr / e_arr.sum(axis=0) # softmax"
      ],
      "execution_count": 0,
      "outputs": []
    },
    {
      "cell_type": "markdown",
      "metadata": {
        "id": "9kQOi4OuGue1",
        "colab_type": "text"
      },
      "source": [
        "##2. How to filter a numpy array based on two or more conditions?"
      ]
    },
    {
      "cell_type": "markdown",
      "metadata": {
        "id": "sCOsCcgoblzD",
        "colab_type": "text"
      },
      "source": [
        "**Problem:**\n",
        "Filter the rows of given array so that value in the 3rd column (index 2) > 1.5 and \n",
        "value in the 1st column (index 0) < 5.0\n",
        "\n",
        "**Possible Input:**\n",
        "```\n",
        "matr = np.array([[8, 8, 3, 7, 7],\n",
        "                 [0, 4, 2, 5, 2],\n",
        "                 [2, 2, 1, 0, 8],\n",
        "                 [4, 0, 9, 6, 2],\n",
        "                 [4, 1, 5, 3, 4]])\n",
        "```\n",
        "\n",
        "**Expected Output:**\n",
        "```\n",
        "array([[0, 4, 2, 5, 2],\n",
        "       [4, 0, 9, 6, 2],\n",
        "       [4, 1, 5, 3, 4]])\n",
        "```"
      ]
    },
    {
      "cell_type": "code",
      "metadata": {
        "id": "a0Oq4vVWGue3",
        "colab_type": "code",
        "colab": {}
      },
      "source": [
        "import numpy as np\n",
        "\n",
        "# Input\n",
        "matr = np.array([[8, 8, 3, 7, 7],\n",
        "                 [0, 4, 2, 5, 2],\n",
        "                 [2, 2, 1, 0, 8],\n",
        "                 [4, 0, 9, 6, 2],\n",
        "                 [4, 1, 5, 3, 4]])\n",
        "\n",
        "# Enter your code here"
      ],
      "execution_count": 0,
      "outputs": []
    },
    {
      "cell_type": "markdown",
      "metadata": {
        "id": "VTh6oQ1mGue4",
        "colab_type": "text"
      },
      "source": [
        "###Solution:"
      ]
    },
    {
      "cell_type": "code",
      "metadata": {
        "id": "3X4wTgEBGue4",
        "colab_type": "code",
        "colab": {}
      },
      "source": [
        "import numpy as np\n",
        "\n",
        "# Input\n",
        "matr = np.array([[8, 8, 3, 7, 7],\n",
        "                 [0, 4, 2, 5, 2],\n",
        "                 [2, 2, 1, 0, 8],\n",
        "                 [4, 0, 9, 6, 2],\n",
        "                 [4, 1, 5, 3, 4]])\n",
        "\n",
        "# Solution\n",
        "condition = (matr[:, 2] > 1) & (matr[:, 0] < 5)\n",
        "matr[condition]"
      ],
      "execution_count": 0,
      "outputs": []
    },
    {
      "cell_type": "markdown",
      "metadata": {
        "id": "kqPnkUvtGue4",
        "colab_type": "text"
      },
      "source": [
        "##3. How to drop rows that contain a missing value from a numpy array?"
      ]
    },
    {
      "cell_type": "markdown",
      "metadata": {
        "id": "7sskEqnJgRw-",
        "colab_type": "text"
      },
      "source": [
        "**Problem:**\n",
        "Select the rows of given 2D array that do not have any nan value.\n",
        "\n",
        "**Possible Input:**\n",
        "```python\n",
        "matr = np.array([[1.,    1., 1.,    1., 1.],\n",
        "                 [2.,    2., 2.,    2., 2.],\n",
        "                 [3.,    3., np.nan,3., 3.],\n",
        "                 [np.nan,4., 4.,    4., 4.],\n",
        "                 [5.,    5., 5.,    5., 5.]])\n",
        "```\n",
        "\n",
        "**Expected Output:**\n",
        "```\n",
        "array([[1., 1., 1., 1., 1.],\n",
        "       [2., 2., 2., 2., 2.],\n",
        "       [5., 5., 5., 5., 5.]])\n",
        "```"
      ]
    },
    {
      "cell_type": "code",
      "metadata": {
        "id": "Tasceh8cGue5",
        "colab_type": "code",
        "colab": {}
      },
      "source": [
        "import numpy as np\n",
        "\n",
        "# Input\n",
        "matr = np.array([[1.,    1., 1.,    1., 1.],\n",
        "                 [2.,    2., 2.,    2., 2.],\n",
        "                 [3.,    3., np.nan,3., 3.],\n",
        "                 [np.nan,4., 4.,    4., 4.],\n",
        "                 [5.,    5., 5.,    5., 5.]])\n",
        "\n",
        "# Enter your code here"
      ],
      "execution_count": 0,
      "outputs": []
    },
    {
      "cell_type": "markdown",
      "metadata": {
        "id": "n0X8MQp8Gue5",
        "colab_type": "text"
      },
      "source": [
        "###Solution A:"
      ]
    },
    {
      "cell_type": "code",
      "metadata": {
        "id": "O5CqDtWsGue6",
        "colab_type": "code",
        "colab": {}
      },
      "source": [
        "import numpy as np\n",
        "\n",
        "# Input\n",
        "matr = np.array([[1.,    1., 1.,    1., 1.],\n",
        "                 [2.,    2., 2.,    2., 2.],\n",
        "                 [3.,    3., np.nan,3., 3.],\n",
        "                 [np.nan,4., 4.,    4., 4.],\n",
        "                 [5.,    5., 5.,    5., 5.]])\n",
        "\n",
        "# Solution\n",
        "any_nan_in_row = np.array([~np.any(np.isnan(row)) for row in matr])\n",
        "matr[any_nan_in_row][:5]"
      ],
      "execution_count": 0,
      "outputs": []
    },
    {
      "cell_type": "markdown",
      "metadata": {
        "id": "mnY0dyAtgYKT",
        "colab_type": "text"
      },
      "source": [
        "###Solution B:"
      ]
    },
    {
      "cell_type": "code",
      "metadata": {
        "id": "3xc9E98hGue6",
        "colab_type": "code",
        "colab": {}
      },
      "source": [
        "import numpy as np\n",
        "\n",
        "# Input\n",
        "matr = np.array([[1.,    1., 1.,    1., 1.],\n",
        "                 [2.,    2., 2.,    2., 2.],\n",
        "                 [3.,    3., np.nan,3., 3.],\n",
        "                 [np.nan,4., 4.,    4., 4.],\n",
        "                 [5.,    5., 5.,    5., 5.]])\n",
        "\n",
        "# Solution\n",
        "matr[np.sum(np.isnan(matr), axis = 1) == 0][:5]"
      ],
      "execution_count": 0,
      "outputs": []
    },
    {
      "cell_type": "markdown",
      "metadata": {
        "id": "dNQ9GskaGufJ",
        "colab_type": "text"
      },
      "source": [
        "##4. How to do probabilistic sampling in numpy?"
      ]
    },
    {
      "cell_type": "markdown",
      "metadata": {
        "id": "R20zbyO5MNQu",
        "colab_type": "text"
      },
      "source": [
        "**Problem:**\n",
        "Alice, Bess, and Cody live in one room in dorm.\n",
        "Every day they randomly choose who will clean the room.\n",
        "But Alice had bad luck in a card game and now she ows to Bess and Cody, thus this month she will clean the room twice as often as any of them.\n",
        "Generate a random schedule \"who cleans the room today\" for 30 days, consider that Alice should clean it twice as often as Bess or Cody.\n",
        "\n",
        "**Possible Input:**\n",
        "```python\n",
        "np.random.seed(0)\n",
        "arr = np.array(['Alice', 'Bess', 'Cody'])\n",
        "days = 30\n",
        "```\n",
        "**Expected Output:**\n",
        "```\n",
        "array(['Bess', 'Bess', 'Bess', 'Bess', 'Alice', 'Bess', 'Alice', 'Cody',\n",
        "       'Cody', 'Alice', 'Cody', 'Bess', 'Bess', 'Cody', 'Alice', 'Alice',\n",
        "       'Alice', 'Cody', 'Cody', 'Cody', 'Cody', 'Cody', 'Alice', 'Cody',\n",
        "       'Alice', 'Bess', 'Alice', 'Cody', 'Bess', 'Alice'], dtype='<U5')\n",
        "```"
      ]
    },
    {
      "cell_type": "code",
      "metadata": {
        "id": "Qh1xSOqJGufJ",
        "colab_type": "code",
        "colab": {}
      },
      "source": [
        "import numpy as np\n",
        "\n",
        "# Input\n",
        "np.random.seed(0)\n",
        "arr = np.array(['Alice', 'Bess', 'Cody'])\n",
        "days = 30\n",
        "\n",
        "# Enter your code here"
      ],
      "execution_count": 0,
      "outputs": []
    },
    {
      "cell_type": "markdown",
      "metadata": {
        "id": "QtxVKNGtGufK",
        "colab_type": "text"
      },
      "source": [
        "###Solution:"
      ]
    },
    {
      "cell_type": "code",
      "metadata": {
        "id": "IqynbvWWGufK",
        "colab_type": "code",
        "colab": {}
      },
      "source": [
        "import numpy as np\n",
        "\n",
        "# Input\n",
        "np.random.seed(0)\n",
        "arr = np.array(['Alice', 'Bess', 'Cody'])\n",
        "days = 30\n",
        "\n",
        "# Solution\n",
        "np.random.choice(arr, days, p=[0.5, 0.25, 0.25])"
      ],
      "execution_count": 0,
      "outputs": []
    },
    {
      "cell_type": "markdown",
      "metadata": {
        "id": "zSkowvWdGufk",
        "colab_type": "text"
      },
      "source": [
        "##5. How to create row numbers grouped by a categorical variable?"
      ]
    },
    {
      "cell_type": "markdown",
      "metadata": {
        "id": "Ie2n3_98e04D",
        "colab_type": "text"
      },
      "source": [
        "**Problem:**\n",
        "Group rows by a categorical variable (student's name).\n",
        "\n",
        "**Possible Input:**\n",
        "```python\n",
        "arr = np.array([['John',   'English', 4],\n",
        "                ['Paul',   'English', 5],\n",
        "                ['Ringo',  'English', 4],\n",
        "                ['George', 'English', 4],\n",
        "                ['John',   'Math', 3],\n",
        "                ['Paul',   'Math', 4],\n",
        "                ['Ringo',  'Math', 4],\n",
        "                ['George', 'Math', 4],\n",
        "                ['John',   'Music', 5],\n",
        "                ['Paul',   'Music', 5],\n",
        "                ['Ringo',  'Music', 5],\n",
        "                ['George', 'Music', 5]\n",
        "               ])\n",
        "group_col_idx = 0\n",
        "```\n",
        "\n",
        "**Expected Output:**\n",
        "```\n",
        "[array([['George', 'English', '4'],\n",
        "        ['George', 'Math', '4'],\n",
        "        ['George', 'Music', '5']], dtype='<U7'),\n",
        " array([['John', 'English', '4'],\n",
        "        ['John', 'Math', '3'],\n",
        "        ['John', 'Music', '5']], dtype='<U7'),\n",
        " array([['Paul', 'English', '5'],\n",
        "        ['Paul', 'Math', '4'],\n",
        "        ['Paul', 'Music', '5']], dtype='<U7'),\n",
        " array([['Ringo', 'English', '4'],\n",
        "        ['Ringo', 'Math', '4'],\n",
        "        ['Ringo', 'Music', '5']], dtype='<U7')]\n",
        "```"
      ]
    },
    {
      "cell_type": "code",
      "metadata": {
        "id": "fRtTnfzHGufk",
        "colab_type": "code",
        "colab": {}
      },
      "source": [
        "import numpy as np\n",
        "\n",
        "# Input:\n",
        "arr = np.array([['John',   'English', 4],\n",
        "                ['Paul',   'English', 5],\n",
        "                ['Ringo',  'English', 4],\n",
        "                ['George', 'English', 4],\n",
        "                ['John',   'Math', 3],\n",
        "                ['Paul',   'Math', 4],\n",
        "                ['Ringo',  'Math', 4],\n",
        "                ['George', 'Math', 4],\n",
        "                ['John',   'Music', 5],\n",
        "                ['Paul',   'Music', 5],\n",
        "                ['Ringo',  'Music', 5],\n",
        "                ['George', 'Music', 5]\n",
        "               ])\n",
        "group_col_idx = 0\n",
        "\n",
        "# Enter your code here"
      ],
      "execution_count": 0,
      "outputs": []
    },
    {
      "cell_type": "markdown",
      "metadata": {
        "id": "eM6ZJkbpGufl",
        "colab_type": "text"
      },
      "source": [
        "###Solution:"
      ]
    },
    {
      "cell_type": "code",
      "metadata": {
        "id": "MYj9xpOyGufm",
        "colab_type": "code",
        "colab": {}
      },
      "source": [
        "import numpy as np\n",
        "\n",
        "# Input:\n",
        "arr = np.array([['John',   'English', 4],\n",
        "                ['Paul',   'English', 5],\n",
        "                ['Ringo',  'English', 4],\n",
        "                ['George', 'English', 4],\n",
        "                ['John',   'Math', 3],\n",
        "                ['Paul',   'Math', 4],\n",
        "                ['Ringo',  'Math', 4],\n",
        "                ['George', 'Math', 4],\n",
        "                ['John',   'Music', 5],\n",
        "                ['Paul',   'Music', 5],\n",
        "                ['Ringo',  'Music', 5],\n",
        "                ['George', 'Music', 5]\n",
        "               ])\n",
        "group_col_idx = 0\n",
        "\n",
        "# Solution:\n",
        "grs = arr[:, group_col_idx]\n",
        "[arr[grs==val] for val in np.unique(grs)]"
      ],
      "execution_count": 0,
      "outputs": []
    },
    {
      "cell_type": "markdown",
      "metadata": {
        "id": "rg9FqXOvGufq",
        "colab_type": "text"
      },
      "source": [
        "##6. How to rank items in a multidimensional array using numpy?"
      ]
    },
    {
      "cell_type": "markdown",
      "metadata": {
        "id": "YI_kqDsT8I9r",
        "colab_type": "text"
      },
      "source": [
        "**Problem:**\n",
        "Create a rank array of the same shape as a given numeric array, i.e. new array should contain numbers that correspond to the position of each item of the initial array if it had been flattened and sorted.\n",
        "\n",
        "\n",
        "**Possible Input:**\n",
        "```python\n",
        "a = np.array([[ 65,  31,  57,  36,  27],\n",
        "              [ 18,  93,  77, 150, 151]])\n",
        "```\n",
        "\n",
        "**Expected Output:**\n",
        "```\n",
        "array([[5, 2, 4, 3, 1],\n",
        "       [0, 7, 6, 8, 9]])\n",
        "```\n",
        "\n",
        "**Explanation:**\n",
        "*   Flatten initial array [ 65,  31,  57,  36,  27,  18,  93,  77, 150, 151]\n",
        "*   Sort it [ 18,  27,  31,  36,  57,  65,  77,  93, 150, 151]\n",
        "*   Consider 18, it has index 0 in the sorted array\n",
        "*   Place 0 instead of 18 into initial array\n",
        "*   Consider all the rest numbers same way"
      ]
    },
    {
      "cell_type": "code",
      "metadata": {
        "id": "B7-cGZJEGufq",
        "colab_type": "code",
        "colab": {}
      },
      "source": [
        "import numpy as np\n",
        "\n",
        "# Input:\n",
        "a = np.array([[ 65,  31,  57,  36,  27],\n",
        "              [ 18,  93,  77, 150, 151]])\n",
        "\n",
        "# Enter your code here"
      ],
      "execution_count": 0,
      "outputs": []
    },
    {
      "cell_type": "markdown",
      "metadata": {
        "id": "XEy1khtUGufr",
        "colab_type": "text"
      },
      "source": [
        "###Solution:"
      ]
    },
    {
      "cell_type": "code",
      "metadata": {
        "id": "wOrC_yz6Gufr",
        "colab_type": "code",
        "colab": {}
      },
      "source": [
        "import numpy as np\n",
        "\n",
        "# Input:\n",
        "a = np.array([[ 65,  31,  57,  36,  27],\n",
        "              [ 18,  93,  77, 150, 151]])\n",
        "\n",
        "# Solution\n",
        "a.ravel().argsort().argsort().reshape(a.shape)"
      ],
      "execution_count": 0,
      "outputs": []
    },
    {
      "cell_type": "markdown",
      "metadata": {
        "id": "uKxqEB2PGufu",
        "colab_type": "text"
      },
      "source": [
        "##7. How to compute the min-by-max for each row for a numpy array 2d?"
      ]
    },
    {
      "cell_type": "markdown",
      "metadata": {
        "id": "S3RXbTTA0Uhg",
        "colab_type": "text"
      },
      "source": [
        "**Problem:**\n",
        "Compute the min divided by max for each row of the given 2d numpy array.\n",
        "\n",
        "**Possible Input:**\n",
        "```python\n",
        "a = [[9, 9, 4],\n",
        "     [8, 8, 1],\n",
        "     [5, 3, 6],\n",
        "     [3, 3, 3],\n",
        "     [2, 1, 9]]\n",
        "```\n",
        "\n",
        "**Expected Output:**\n",
        "```\n",
        "array([0.44444444, 0.125     , 0.5       , 1.        , 0.11111111])\n",
        "```"
      ]
    },
    {
      "cell_type": "code",
      "metadata": {
        "id": "zIdFC7F6Gufu",
        "colab_type": "code",
        "colab": {}
      },
      "source": [
        "import numpy as np\n",
        "\n",
        "# Input\n",
        "a = [[9, 9, 4],\n",
        "     [8, 8, 1],\n",
        "     [5, 3, 6],\n",
        "     [3, 3, 3],\n",
        "     [2, 1, 9]]\n",
        "\n",
        "# Enter your code here"
      ],
      "execution_count": 0,
      "outputs": []
    },
    {
      "cell_type": "markdown",
      "metadata": {
        "id": "XdIRdcFsGufv",
        "colab_type": "text"
      },
      "source": [
        "###Solution:"
      ]
    },
    {
      "cell_type": "code",
      "metadata": {
        "id": "-IPuGdudGufw",
        "colab_type": "code",
        "colab": {}
      },
      "source": [
        "import numpy as np\n",
        "\n",
        "# Input\n",
        "a = [[9, 9, 4],\n",
        "     [8, 8, 1],\n",
        "     [5, 3, 6],\n",
        "     [3, 3, 3],\n",
        "     [2, 1, 9]]\n",
        "\n",
        "# Solution\n",
        "np.apply_along_axis(lambda x: np.min(x)/np.max(x), arr=a, axis=1)"
      ],
      "execution_count": 0,
      "outputs": []
    },
    {
      "cell_type": "markdown",
      "metadata": {
        "id": "JsbODT13Gufw",
        "colab_type": "text"
      },
      "source": [
        "##8. How to find the duplicate records in a numpy array?"
      ]
    },
    {
      "cell_type": "markdown",
      "metadata": {
        "id": "lcFuh49ptL4O",
        "colab_type": "text"
      },
      "source": [
        "**Problem:**\n",
        "Find the duplicate entries (2nd occurrence onwards) in the given numpy array and mark them as True. First time occurrences should be marked as False.\n",
        "\n",
        "**Possible Input:**\n",
        "```python\n",
        "arr = np.array([0, 0, 3, 0, 2, 4, 2, 2, 2, 2])\n",
        "```\n",
        "\n",
        "**Expected Output:**\n",
        "```\n",
        "array([False,  True, False,  True, False, False,  True,  True,  True,\n",
        "        True])\n",
        "```"
      ]
    },
    {
      "cell_type": "code",
      "metadata": {
        "id": "bteDv31VGufw",
        "colab_type": "code",
        "colab": {}
      },
      "source": [
        "import numpy as np\n",
        "\n",
        "# Input\n",
        "arr = np.array([0, 0, 3, 0, 2, 4, 2, 2, 2, 2])\n",
        "\n",
        "# Enter your code here"
      ],
      "execution_count": 0,
      "outputs": []
    },
    {
      "cell_type": "markdown",
      "metadata": {
        "id": "VbR7rNktGufx",
        "colab_type": "text"
      },
      "source": [
        "###Solution:"
      ]
    },
    {
      "cell_type": "code",
      "metadata": {
        "id": "ZfrKPrcUGufy",
        "colab_type": "code",
        "colab": {}
      },
      "source": [
        "import numpy as np\n",
        "\n",
        "# Input\n",
        "arr = np.array([0, 0, 3, 0, 2, 4, 2, 2, 2, 2])\n",
        "\n",
        "# Solution:\n",
        "out = np.full(a.shape[0], True)\n",
        "unique_positions = np.unique(a, return_index=True)[1]\n",
        "out[unique_positions] = False\n",
        "out"
      ],
      "execution_count": 0,
      "outputs": []
    },
    {
      "cell_type": "markdown",
      "metadata": {
        "id": "Vpv0nIEZGufy",
        "colab_type": "text"
      },
      "source": [
        "##9. How to find the grouped mean in numpy?\n"
      ]
    },
    {
      "cell_type": "markdown",
      "metadata": {
        "id": "AXXNmJikQwFU",
        "colab_type": "text"
      },
      "source": [
        "**Problem:**\n",
        "2D array is given.\n",
        "Every row contains student's name, course, and grade.\n",
        "Find mean grade for every student.\n",
        "Think what changes if you were interested in the average group score with respect to particular curse.\n",
        "\n",
        "**Possible Input:**\n",
        "```python\n",
        "arr = np.array([['John',   'English', 4],\n",
        "                ['Paul',   'English', 5],\n",
        "                ['Ringo',  'English', 4],\n",
        "                ['George', 'English', 4],\n",
        "                ['John',   'Math', 3],\n",
        "                ['Paul',   'Math', 4],\n",
        "                ['Ringo',  'Math', 4],\n",
        "                ['George', 'Math', 4],\n",
        "                ['John',   'Music', 5],\n",
        "                ['Paul',   'Music', 5],\n",
        "                ['Ringo',  'Music', 5],\n",
        "                ['George', 'Music', 5]\n",
        "               ])\n",
        "data_col_idx = 2\n",
        "group_col_idx = 0\n",
        "```\n",
        "\n",
        "**Expected Output:**\n",
        "```\n",
        "[['George', 4.333333333333333],\n",
        " ['John', 4.0],\n",
        " ['Paul', 4.666666666666667],\n",
        " ['Ringo', 4.333333333333333]]\n",
        "```"
      ]
    },
    {
      "cell_type": "code",
      "metadata": {
        "id": "PE0oONj6Gufy",
        "colab_type": "code",
        "colab": {}
      },
      "source": [
        "import numpy as np\n",
        "\n",
        "# Input\n",
        "arr = np.array([['John',   'English', 4],\n",
        "                ['Paul',   'English', 5],\n",
        "                ['Ringo',  'English', 4],\n",
        "                ['George', 'English', 4],\n",
        "                ['John',   'Math', 3],\n",
        "                ['Paul',   'Math', 4],\n",
        "                ['Ringo',  'Math', 4],\n",
        "                ['George', 'Math', 4],\n",
        "                ['John',   'Music', 5],\n",
        "                ['Paul',   'Music', 5],\n",
        "                ['Ringo',  'Music', 5],\n",
        "                ['George', 'Music', 5]\n",
        "               ])\n",
        "data_col_idx = 2\n",
        "group_col_idx = 0\n",
        "\n",
        "# Enter your code here"
      ],
      "execution_count": 0,
      "outputs": []
    },
    {
      "cell_type": "markdown",
      "metadata": {
        "id": "UgU8uKXSGufz",
        "colab_type": "text"
      },
      "source": [
        "###Solution A:"
      ]
    },
    {
      "cell_type": "code",
      "metadata": {
        "id": "MBOFT-aWGufz",
        "colab_type": "code",
        "colab": {}
      },
      "source": [
        "import numpy as np\n",
        "\n",
        "# Input\n",
        "arr = np.array([['John',   'English', 4],\n",
        "                ['Paul',   'English', 5],\n",
        "                ['Ringo',  'English', 4],\n",
        "                ['George', 'English', 4],\n",
        "                ['John',   'Math', 3],\n",
        "                ['Paul',   'Math', 4],\n",
        "                ['Ringo',  'Math', 4],\n",
        "                ['George', 'Math', 4],\n",
        "                ['John',   'Music', 5],\n",
        "                ['Paul',   'Music', 5],\n",
        "                ['Ringo',  'Music', 5],\n",
        "                ['George', 'Music', 5]\n",
        "               ])\n",
        "data_col_idx = 2\n",
        "group_col_idx = 0\n",
        "\n",
        "# Solution\n",
        "numeric_column  = arr[:, data_col_idx].astype('float')\n",
        "grouping_column = arr[:, group_col_idx]\n",
        "output = []\n",
        "for group_val in np.unique(grouping_column):\n",
        "  output.append([group_val, numeric_column[grouping_column==group_val].mean()])\n",
        "\n",
        "output"
      ],
      "execution_count": 0,
      "outputs": []
    },
    {
      "cell_type": "markdown",
      "metadata": {
        "id": "gSqNMNjYRFOe",
        "colab_type": "text"
      },
      "source": [
        "###Solution B:"
      ]
    },
    {
      "cell_type": "code",
      "metadata": {
        "id": "zb6d1-8_PG6s",
        "colab_type": "code",
        "colab": {}
      },
      "source": [
        "import numpy as np\n",
        "\n",
        "arr = np.array([['John',   'English', 4],\n",
        "                ['Paul',   'English', 5],\n",
        "                ['Ringo',  'English', 4],\n",
        "                ['George', 'English', 4],\n",
        "                ['John',   'Math', 3],\n",
        "                ['Paul',   'Math', 4],\n",
        "                ['Ringo',  'Math', 4],\n",
        "                ['George', 'Math', 4],\n",
        "                ['John',   'Music', 5],\n",
        "                ['Paul',   'Music', 5],\n",
        "                ['Ringo',  'Music', 5],\n",
        "                ['George', 'Music', 5]\n",
        "               ])\n",
        "data_col_idx = 2\n",
        "group_col_idx = 0\n",
        "\n",
        "# Solution\n",
        "numeric_column = arr[:, data_col_idx].astype('float')\n",
        "grouping_column = arr[:, group_col_idx]\n",
        "[[group_val, numeric_column[grouping_column==group_val].mean()] for group_val in np.unique(grouping_column)]"
      ],
      "execution_count": 0,
      "outputs": []
    },
    {
      "cell_type": "markdown",
      "metadata": {
        "id": "c7FITiK1Gufz",
        "colab_type": "text"
      },
      "source": [
        "##10. How to convert a PIL image to numpy array?"
      ]
    },
    {
      "cell_type": "markdown",
      "metadata": {
        "id": "SKfMRP7JrEOn",
        "colab_type": "text"
      },
      "source": [
        "**Problem:**\n",
        "Given image as numpy array (every pixel is RGB triple, each component varies from 0 to 255) invert colors.\n",
        "\n",
        "**Possible Input:**\n",
        "```python\n",
        "URL = 'https://upload.wikimedia.org/wikipedia/commons/8/8b/Denali_Mt_McKinley.jpg'\n",
        "response = requests.get(URL)\n",
        "I = Image.open(BytesIO(response.content))\n",
        "I = I.resize([150,150])\n",
        "arr = np.asarray(I)\n",
        "```\n",
        "\n",
        "**Expected Output:**\n",
        "Two images, one has inverted colors."
      ]
    },
    {
      "cell_type": "code",
      "metadata": {
        "id": "0bGHwUibGufz",
        "colab_type": "code",
        "colab": {}
      },
      "source": [
        "from io import BytesIO\n",
        "from PIL import Image\n",
        "import PIL, requests\n",
        "from IPython.display import display\n",
        "\n",
        "# Input\n",
        "URL = 'https://upload.wikimedia.org/wikipedia/commons/8/8b/Denali_Mt_McKinley.jpg'\n",
        "response = requests.get(URL)\n",
        "I = Image.open(BytesIO(response.content))\n",
        "I = I.resize([150,150])\n",
        "arr = np.asarray(I)\n",
        "\n",
        "# Enter your code here\n",
        "\n",
        "# Output\n",
        "im = PIL.Image.fromarray(np.uint8(arr))\n",
        "display(im, I)"
      ],
      "execution_count": 0,
      "outputs": []
    },
    {
      "cell_type": "markdown",
      "metadata": {
        "id": "pmnY9122Guf0",
        "colab_type": "text"
      },
      "source": [
        "###Solution:"
      ]
    },
    {
      "cell_type": "code",
      "metadata": {
        "id": "g5w6xb2gGuf0",
        "colab_type": "code",
        "colab": {}
      },
      "source": [
        "from io import BytesIO\n",
        "from PIL import Image\n",
        "import PIL, requests\n",
        "from IPython.display import display\n",
        "\n",
        "# Input\n",
        "URL = 'https://upload.wikimedia.org/wikipedia/commons/8/8b/Denali_Mt_McKinley.jpg'\n",
        "response = requests.get(URL)\n",
        "I = Image.open(BytesIO(response.content))\n",
        "I = I.resize([150,150])\n",
        "arr = np.asarray(I)\n",
        "\n",
        "#Solution\n",
        "arr = 255 - arr\n",
        "\n",
        "# Output\n",
        "im = PIL.Image.fromarray(np.uint8(arr))\n",
        "display(im, I)"
      ],
      "execution_count": 0,
      "outputs": []
    },
    {
      "cell_type": "markdown",
      "metadata": {
        "id": "bHaZarCyGuf2",
        "colab_type": "text"
      },
      "source": [
        "##11. How to compute the euclidean distance between two arrays?"
      ]
    },
    {
      "cell_type": "markdown",
      "metadata": {
        "id": "_SrkTAm2X6NE",
        "colab_type": "text"
      },
      "source": [
        "**Problem:**\n",
        "Compute the euclidean distance between two arrays.\n",
        "\n",
        "\n",
        "**Possible Input:**\n",
        "```python\n",
        "a = np.array([1,2,3,4,5])\n",
        "b = np.array([4,5,6,7,8])\n",
        "```\n",
        "\n",
        "**Expected Output:**\n",
        "```\n",
        "6.708203932499369\n",
        "```"
      ]
    },
    {
      "cell_type": "code",
      "metadata": {
        "id": "Nl75OrQ3Guf2",
        "colab_type": "code",
        "colab": {}
      },
      "source": [
        "import numpy as np\n",
        "\n",
        "# Input\n",
        "a = np.array([1,2,3,4,5])\n",
        "b = np.array([4,5,6,7,8])\n",
        "\n",
        "# Enter your code here"
      ],
      "execution_count": 0,
      "outputs": []
    },
    {
      "cell_type": "markdown",
      "metadata": {
        "id": "rNNpruyBGuf2",
        "colab_type": "text"
      },
      "source": [
        "###Solution:"
      ]
    },
    {
      "cell_type": "code",
      "metadata": {
        "id": "t5WWK9TnGuf2",
        "colab_type": "code",
        "outputId": "6b19b11d-2e56-41a2-83ba-2beda99762de",
        "colab": {
          "base_uri": "https://localhost:8080/",
          "height": 34
        }
      },
      "source": [
        "import numpy as np\n",
        "\n",
        "# Input\n",
        "a = np.array([1,2,3,4,5])\n",
        "b = np.array([4,5,6,7,8])\n",
        "\n",
        "# Solution\n",
        "np.linalg.norm(a-b)"
      ],
      "execution_count": 0,
      "outputs": [
        {
          "output_type": "execute_result",
          "data": {
            "text/plain": [
              "6.708203932499369"
            ]
          },
          "metadata": {
            "tags": []
          },
          "execution_count": 2
        }
      ]
    },
    {
      "cell_type": "markdown",
      "metadata": {
        "id": "H_7_9ryIGugA",
        "colab_type": "text"
      },
      "source": [
        "##12. How to compute the moving average of a numpy array?"
      ]
    },
    {
      "cell_type": "markdown",
      "metadata": {
        "id": "lhnE_wmZqpmy",
        "colab_type": "text"
      },
      "source": [
        "**Problem:**\n",
        "Compute the moving average.\n",
        "Window size and 1D array are given.\n",
        "\n",
        "**Possible Input:**\n",
        "```python\n",
        "import numpy as np\n",
        "\n",
        "# Input\n",
        "arr = np.array([8, 8, 3, 7, 7, 0, 4, 2, 5, 2])\n",
        "wnd = 3\n",
        "```\n",
        "\n",
        "**Expected Output:**\n",
        "```\n",
        "array([6.33, 6.  , 5.67, 4.67, 3.67, 2.  , 3.67, 3.  ])\n",
        "```"
      ]
    },
    {
      "cell_type": "code",
      "metadata": {
        "id": "B_EtmOPaGugA",
        "colab_type": "code",
        "colab": {}
      },
      "source": [
        "import numpy as np\n",
        "\n",
        "# Input\n",
        "arr = np.array([8, 8, 3, 7, 7, 0, 4, 2, 5, 2])\n",
        "wnd = 3\n",
        "\n",
        "# Enter your code here"
      ],
      "execution_count": 0,
      "outputs": []
    },
    {
      "cell_type": "markdown",
      "metadata": {
        "id": "HrJfYf9iGugB",
        "colab_type": "text"
      },
      "source": [
        "###Solution A:"
      ]
    },
    {
      "cell_type": "code",
      "metadata": {
        "id": "4lNSuKyOGugB",
        "colab_type": "code",
        "colab": {}
      },
      "source": [
        "import numpy as np\n",
        "\n",
        "# Input\n",
        "arr = np.array([8, 8, 3, 7, 7, 0, 4, 2, 5, 2])\n",
        "wnd = 3\n",
        "\n",
        "# Solution\n",
        "avg = np.cumsum(arr, dtype=float)\n",
        "avg[wnd:] = avg[wnd:] - avg[:-wnd]\n",
        "avg = avg[wnd-1:]/wnd\n",
        "avg.round(2)"
      ],
      "execution_count": 0,
      "outputs": []
    },
    {
      "cell_type": "markdown",
      "metadata": {
        "id": "oMyxbjbarJUY",
        "colab_type": "text"
      },
      "source": [
        "###Solution B:"
      ]
    },
    {
      "cell_type": "code",
      "metadata": {
        "id": "bFKOZQUMGugC",
        "colab_type": "code",
        "colab": {}
      },
      "source": [
        "import numpy as np\n",
        "\n",
        "# Input\n",
        "arr = np.array([8, 8, 3, 7, 7, 0, 4, 2, 5, 2])\n",
        "wnd = 3\n",
        "\n",
        "# Solution\n",
        "np.convolve(arr, np.ones(wnd)/wnd, mode='valid').round(2)"
      ],
      "execution_count": 0,
      "outputs": []
    },
    {
      "cell_type": "markdown",
      "metadata": {
        "colab_type": "text",
        "id": "Lzc7Yh5wJDAd"
      },
      "source": [
        "##13. How to create a numpy array sequence of dates?\n",
        "\n",
        "\n"
      ]
    },
    {
      "cell_type": "markdown",
      "metadata": {
        "colab_type": "text",
        "id": "87I2KUFAJDAk"
      },
      "source": [
        "**Problem:**\n",
        "Create a numpy array that contains dates of every other day between 2019-02-01 and 2019-02-25.\n",
        "\n",
        "**Possible input:**\n",
        "```\n",
        "start = '2019-02-01'\n",
        "end   = '2019-02-25'\n",
        "step  = 2\n",
        "```\n",
        "\n",
        "**Expected output:**\n",
        "```\n",
        "array(['2019-02-01', '2019-02-03', '2019-02-05', '2019-02-07',\n",
        "       '2019-02-09', '2019-02-11', '2019-02-13', '2019-02-15',\n",
        "       '2019-02-17', '2019-02-19', '2019-02-21', '2019-02-23'],\n",
        "      dtype='datetime64[D]')\n",
        "```"
      ]
    },
    {
      "cell_type": "code",
      "metadata": {
        "colab_type": "code",
        "id": "jeYBH-F8K_-8",
        "colab": {}
      },
      "source": [
        "import numpy as np\n",
        "\n",
        "# Input\n",
        "start = '2019-02-01'\n",
        "end   = '2019-02-25'\n",
        "step  = 2\n",
        "\n",
        "# Enter your code here"
      ],
      "execution_count": 0,
      "outputs": []
    },
    {
      "cell_type": "markdown",
      "metadata": {
        "colab_type": "text",
        "id": "XvVvv9TuLNcy"
      },
      "source": [
        "###Solution:"
      ]
    },
    {
      "cell_type": "code",
      "metadata": {
        "id": "iYMeT-REKZVv",
        "colab_type": "code",
        "colab": {}
      },
      "source": [
        "import numpy as np\n",
        "\n",
        "# Input\n",
        "start = '2019-02-01'\n",
        "end   = '2019-02-25'\n",
        "step  = 2\n",
        "\n",
        "# Solution:\n",
        "dates = np.arange(np.datetime64(start), np.datetime64(end), step)\n",
        "dates"
      ],
      "execution_count": 0,
      "outputs": []
    },
    {
      "cell_type": "markdown",
      "metadata": {
        "id": "v0KgZYH7GugD",
        "colab_type": "text"
      },
      "source": [
        "##14. How to fill in missing dates in an irregular series of numpy dates?\n"
      ]
    },
    {
      "cell_type": "markdown",
      "metadata": {
        "id": "B4KEfl-9M8qK",
        "colab_type": "text"
      },
      "source": [
        "**Problem:**\n",
        "Given an array of a non-continuous sequence of dates. Make it a continuous sequence of dates by filling in the missing dates.\n",
        "\n",
        "**Possible Input:**\n",
        "```python\n",
        "dates = np.array(['2019-02-01', '2019-02-03', '2019-02-05', '2019-02-07',\n",
        "                  '2019-02-09', '2019-02-11', '2019-02-13', '2019-02-15',\n",
        "                  '2019-02-17', '2019-02-19', '2019-02-21', '2019-02-23'],\n",
        "                 dtype='datetime64[D]')\n",
        "```\n",
        "\n",
        "**Expeced output:**\n",
        "```\n",
        "array(['2019-02-01', '2019-02-02', '2019-02-03', '2019-02-04',\n",
        "       '2019-02-05', '2019-02-06', '2019-02-07', '2019-02-08',\n",
        "       '2019-02-09', '2019-02-10', '2019-02-11', '2019-02-12',\n",
        "       '2019-02-13', '2019-02-14', '2019-02-15', '2019-02-16',\n",
        "       '2019-02-17', '2019-02-18', '2019-02-19', '2019-02-20',\n",
        "       '2019-02-21', '2019-02-22', '2019-02-23'], dtype='datetime64[D]')\n",
        "```"
      ]
    },
    {
      "cell_type": "code",
      "metadata": {
        "colab_type": "code",
        "id": "crG_Zjs3JDAk",
        "colab": {}
      },
      "source": [
        "import numpy as np\n",
        "\n",
        "# Input\n",
        "dates = np.array(['2019-02-01', '2019-02-03', '2019-02-05', '2019-02-07',\n",
        "                  '2019-02-09', '2019-02-11', '2019-02-13', '2019-02-15',\n",
        "                  '2019-02-17', '2019-02-19', '2019-02-21', '2019-02-23'],\n",
        "                 dtype='datetime64[D]')\n",
        "\n",
        "# Enter your code here"
      ],
      "execution_count": 0,
      "outputs": []
    },
    {
      "cell_type": "markdown",
      "metadata": {
        "colab_type": "text",
        "id": "zt4rRTyRJDAn"
      },
      "source": [
        "###Solution A:"
      ]
    },
    {
      "cell_type": "code",
      "metadata": {
        "colab_type": "code",
        "id": "m7HtfipoJDAo",
        "colab": {}
      },
      "source": [
        "import numpy as np\n",
        "\n",
        "# Input\n",
        "dates = np.array(['2019-02-01', '2019-02-03', '2019-02-05', '2019-02-07',\n",
        "                  '2019-02-09', '2019-02-11', '2019-02-13', '2019-02-15',\n",
        "                  '2019-02-17', '2019-02-19', '2019-02-21', '2019-02-23'],\n",
        "                 dtype='datetime64[D]')\n",
        "\n",
        "# Solution:\n",
        "filled_in = np.array([np.arange(date, (date+d)) for date, d in zip(dates, np.diff(dates))]).reshape(-1)\n",
        "output = np.hstack([filled_in, dates[-1]])\n",
        "output\n"
      ],
      "execution_count": 0,
      "outputs": []
    },
    {
      "cell_type": "markdown",
      "metadata": {
        "id": "B-34xnDrGugD",
        "colab_type": "text"
      },
      "source": [
        "###Solution B:"
      ]
    },
    {
      "cell_type": "code",
      "metadata": {
        "id": "_Vg0plnXGugD",
        "colab_type": "code",
        "colab": {}
      },
      "source": [
        "import numpy as np\n",
        "\n",
        "# Input\n",
        "dates = np.array(['2019-02-01', '2019-02-03', '2019-02-05', '2019-02-07',\n",
        "                  '2019-02-09', '2019-02-11', '2019-02-13', '2019-02-15',\n",
        "                  '2019-02-17', '2019-02-19', '2019-02-21', '2019-02-23'],\n",
        "                 dtype='datetime64[D]')\n",
        "\n",
        "# Solution:\n",
        "out = []\n",
        "for date, d in zip(dates, np.diff(dates)):\n",
        "  out.append(np.arange(date, (date+d)))\n",
        "\n",
        "filled_in = np.array(out).reshape(-1)\n",
        "output = np.hstack([filled_in, dates[-1]])\n",
        "output"
      ],
      "execution_count": 0,
      "outputs": []
    },
    {
      "cell_type": "markdown",
      "metadata": {
        "id": "wNWN0JX8SD4e",
        "colab_type": "text"
      },
      "source": [
        "#Expert"
      ]
    },
    {
      "cell_type": "markdown",
      "metadata": {
        "id": "kMUA3EFPGufZ",
        "colab_type": "text"
      },
      "source": [
        "##1. How to compute the row wise counts of all possible values in an array?"
      ]
    },
    {
      "cell_type": "markdown",
      "metadata": {
        "id": "ZHT4NQpbhqbi",
        "colab_type": "text"
      },
      "source": [
        "**Problem:**\n",
        "Compute the counts of unique values row-wise.\n",
        "\n",
        "**Possible Input:**\n",
        "```python\n",
        "arr = np.array([[ 3,  3, -2,  2,  2, -5, -1, -3,  0, -3],\n",
        "                [-3, -3, -4, -5,  3, -1, -5,  4,  1, -3],\n",
        "                [-1, -4,  0, -2, -1, -1, -2,  2, -4, -4],\n",
        "                [ 2,  2, -5, -3,  4,  4, -2, -3,  0,  3],\n",
        "                [-4, -5,  2,  1, -3, -5,  3, -3,  0, -4],\n",
        "                [ 3, -4,  0, -1, -3,  3, -2,  0, -5,  4]])\n",
        "```\n",
        "\n",
        "**Expected Output:** given only for reference, do not bother with formatting. All appropriate formatting is alrady encoded.\n",
        "\n",
        "| | unique value|\n",
        "|---|---|\n",
        "|**row**|   -5   -4   -3   -2   -1\t0\t1\t2\t3\t4|\n",
        "0  |\t$~$1\t$~$0\t$~$2\t$~$1\t1\t1\t0\t2\t2\t0\n",
        "1  |\t$~$2\t$~$1\t$~$3\t$~$0\t1\t0\t1\t0\t1\t1\n",
        "2  |\t$~$0\t$~$3\t$~$0\t$~$2\t3\t1\t0\t1\t0\t0\n",
        "3  |\t$~$1\t$~$0\t$~$2\t$~$1\t0\t1\t0\t2\t1\t2\n",
        "4  |\t$~$2\t$~$2\t$~$2\t$~$0\t0\t1\t1\t1\t1\t0\n",
        "5  |\t$~$1\t$~$1\t$~$1\t$~$1\t1\t2\t0\t0\t2\t1"
      ]
    },
    {
      "cell_type": "code",
      "metadata": {
        "id": "dpOxD1o5Gufa",
        "colab_type": "code",
        "colab": {}
      },
      "source": [
        "import numpy as np\n",
        "\n",
        "# Input:\n",
        "arr = np.array([[ 3,  3, -2,  2,  2, -5, -1, -3,  0, -3],\n",
        "                [-3, -3, -4, -5,  3, -1, -5,  4,  1, -3],\n",
        "                [-1, -4,  0, -2, -1, -1, -2,  2, -4, -4],\n",
        "                [ 2,  2, -5, -3,  4,  4, -2, -3,  0,  3],\n",
        "                [-4, -5,  2,  1, -3, -5,  3, -3,  0, -4],\n",
        "                [ 3, -4,  0, -1, -3,  3, -2,  0, -5,  4]])\n",
        "\n",
        "# Enter your code here\n",
        "\n",
        "# Output\n",
        "import pandas as pd\n",
        "pd.DataFrame(a_count, columns=np.unique(arr), index=range(len(arr)))"
      ],
      "execution_count": 0,
      "outputs": []
    },
    {
      "cell_type": "markdown",
      "metadata": {
        "id": "R6LGDuQqGufa",
        "colab_type": "text"
      },
      "source": [
        "###Solution:"
      ]
    },
    {
      "cell_type": "code",
      "metadata": {
        "id": "NZknJNVFGufb",
        "colab_type": "code",
        "colab": {}
      },
      "source": [
        "import numpy as np\n",
        "\n",
        "# Input:\n",
        "arr = np.array([[ 3,  3, -2,  2,  2, -5, -1, -3,  0, -3],\n",
        "                [-3, -3, -4, -5,  3, -1, -5,  4,  1, -3],\n",
        "                [-1, -4,  0, -2, -1, -1, -2,  2, -4, -4],\n",
        "                [ 2,  2, -5, -3,  4,  4, -2, -3,  0,  3],\n",
        "                [-4, -5,  2,  1, -3, -5,  3, -3,  0, -4],\n",
        "                [ 3, -4,  0, -1, -3,  3, -2,  0, -5,  4]])\n",
        "\n",
        "# Solution\n",
        "num_counts_array = [np.unique(row, return_counts=True) for row in arr]\n",
        "a_count = [[b[a==i][0] if i in a else 0 for i in np.unique(arr)] for a, b in num_counts_array]\n",
        "\n",
        "# Output\n",
        "import pandas as pd\n",
        "pd.DataFrame(a_count, columns=np.unique(arr), index=range(len(arr)))"
      ],
      "execution_count": 0,
      "outputs": []
    },
    {
      "cell_type": "markdown",
      "metadata": {
        "id": "puuk3pFsGufe",
        "colab_type": "text"
      },
      "source": [
        "##2. How to convert an array of arrays into a flat 1d array?"
      ]
    },
    {
      "cell_type": "markdown",
      "metadata": {
        "id": "x7bHuD87idVY",
        "colab_type": "text"
      },
      "source": [
        "**Problem:**\n",
        "Convert array of arrays into a flat linear 1d array.\n",
        "\n",
        "**Possible Input:**\n",
        "```python\n",
        "import numpy as np\n",
        "\n",
        "# Input:\n",
        "array_2d = np.array([np.array([0, 1, 2]), \n",
        "                     np.array([3, 4, 5, 6]), \n",
        "                     np.array([7, 8, 9])])\n",
        "```\n",
        "\n",
        "**Expected Output:**\n",
        "```\n",
        "array([0, 1, 2, 3, 4, 5, 6, 7, 8, 9])\n",
        "```"
      ]
    },
    {
      "cell_type": "code",
      "metadata": {
        "id": "kB-r5mvmGufe",
        "colab_type": "code",
        "colab": {}
      },
      "source": [
        "import numpy as np\n",
        "\n",
        "# Input:\n",
        "array_2d = np.array([np.array([0, 1, 2]), \n",
        "                     np.array([3, 4, 5, 6]), \n",
        "                     np.array([7, 8, 9])])\n",
        "\n",
        "# Enter your code here"
      ],
      "execution_count": 0,
      "outputs": []
    },
    {
      "cell_type": "markdown",
      "metadata": {
        "id": "uvTg2jsoGuff",
        "colab_type": "text"
      },
      "source": [
        "###Solution A:"
      ]
    },
    {
      "cell_type": "code",
      "metadata": {
        "id": "m2npcaPlGuff",
        "colab_type": "code",
        "colab": {}
      },
      "source": [
        "import numpy as np\n",
        "\n",
        "# Input:\n",
        "array_2d = np.array([np.array([0, 1, 2]), \n",
        "                     np.array([3, 4, 5, 6]), \n",
        "                     np.array([7, 8, 9])])\n",
        "\n",
        "# Solution:\n",
        "np.array([a for arr in array_2d for a in arr])"
      ],
      "execution_count": 0,
      "outputs": []
    },
    {
      "cell_type": "markdown",
      "metadata": {
        "id": "meZbImXciXjA",
        "colab_type": "text"
      },
      "source": [
        "###Solution B:"
      ]
    },
    {
      "cell_type": "code",
      "metadata": {
        "id": "3LubR2GUGufg",
        "colab_type": "code",
        "colab": {}
      },
      "source": [
        "import numpy as np\n",
        "\n",
        "# Input:\n",
        "array_2d = np.array([np.array([0, 1, 2]), \n",
        "                     np.array([3, 4, 5, 6]), \n",
        "                     np.array([7, 8, 9])])\n",
        "\n",
        "# Solution:\n",
        "np.concatenate(array_2d)"
      ],
      "execution_count": 0,
      "outputs": []
    },
    {
      "cell_type": "markdown",
      "metadata": {
        "id": "l9joSlfHGufh",
        "colab_type": "text"
      },
      "source": [
        "##3. How to generate one-hot encodings for an array in numpy?"
      ]
    },
    {
      "cell_type": "markdown",
      "metadata": {
        "id": "e0dCoNFPg5PT",
        "colab_type": "text"
      },
      "source": [
        "**Problem:**\n",
        "Compute the one-hot encodings (dummy binary variables for each unique value in the array)\n",
        "\n",
        "\n",
        "**Possible Input:**\n",
        "```python\n",
        "arr = np.array([4, 2, 6, 4, 2, 6])\n",
        "```\n",
        "\n",
        "**Expected Output:**\n",
        "```\n",
        "array([[0, 1, 0],\n",
        "       [1, 0, 0],\n",
        "       [0, 0, 1],\n",
        "       [0, 1, 0],\n",
        "       [1, 0, 0],\n",
        "       [0, 0, 1]], dtype=int8)\n",
        "```\n",
        "\n",
        "**Explanation:**\n",
        "Every unique value should have its corresponding \"bit\".\n",
        "Set it to 1 when the value occurs, 0 otherwise.\n",
        "As a result you should get array of arrays, every subarray should contain one 1 and many 0-s.\n",
        "\n",
        "**Note:**\n",
        "This encoding is used in ML to deal with categorical variables."
      ]
    },
    {
      "cell_type": "code",
      "metadata": {
        "id": "hPeNvdXvGufh",
        "colab_type": "code",
        "colab": {}
      },
      "source": [
        "import numpy as np\n",
        "\n",
        "# Input:\n",
        "arr = np.array([4, 2, 6, 4, 2, 6])\n",
        "\n",
        "# Enter your code here"
      ],
      "execution_count": 0,
      "outputs": []
    },
    {
      "cell_type": "markdown",
      "metadata": {
        "id": "gSW1TV23Gufi",
        "colab_type": "text"
      },
      "source": [
        "###Solution A:"
      ]
    },
    {
      "cell_type": "code",
      "metadata": {
        "id": "4lC-gH-TGufi",
        "colab_type": "code",
        "colab": {}
      },
      "source": [
        "import numpy as np\n",
        "\n",
        "# Input:\n",
        "arr = np.array([4, 2, 6, 4, 2, 6])\n",
        "\n",
        "# Solution:\n",
        "uniques = np.unique(arr)\n",
        "out = np.zeros((arr.shape[0], uniqs.shape[0]), dtype=np.int8)\n",
        "for i, k in enumerate(arr):\n",
        "  out[i, np.where(uniques == k)] = 1\n",
        "out"
      ],
      "execution_count": 0,
      "outputs": []
    },
    {
      "cell_type": "markdown",
      "metadata": {
        "id": "1tgvGb-dg8Gu",
        "colab_type": "text"
      },
      "source": [
        "###Solution B:"
      ]
    },
    {
      "cell_type": "code",
      "metadata": {
        "id": "VNJYYfdQGufj",
        "colab_type": "code",
        "colab": {}
      },
      "source": [
        "import numpy as np\n",
        "\n",
        "# Input:\n",
        "arr = np.array([4, 2, 6, 4, 2, 6])\n",
        "\n",
        "# Solution:\n",
        "(arr[:, None] == np.unique(arr)).view(np.int8)"
      ],
      "execution_count": 0,
      "outputs": []
    },
    {
      "cell_type": "markdown",
      "metadata": {
        "id": "4WfRAX6VGufm",
        "colab_type": "text"
      },
      "source": [
        "##4. How to create group id-s based on a given categorical variable?\n",
        "\n"
      ]
    },
    {
      "cell_type": "markdown",
      "metadata": {
        "id": "KTV2jBqUbhw5",
        "colab_type": "text"
      },
      "source": [
        "**Problem:**\n",
        "Create group id-s based on a given categorical variable.\n",
        "Add generated id-s to the initial array as the first column.\n",
        "\n",
        "**Possible Input:**\n",
        "```python\n",
        "arr = np.array([['John',   'English', 4],\n",
        "                ['Paul',   'English', 5],\n",
        "                ['Ringo',  'English', 4],\n",
        "                ['George', 'English', 4],\n",
        "                ['John',   'Math', 3],\n",
        "                ['Paul',   'Math', 4],\n",
        "                ['Ringo',  'Math', 4],\n",
        "                ['George', 'Math', 4],\n",
        "                ['John',   'Music', 5],\n",
        "                ['Paul',   'Music', 5],\n",
        "                ['Ringo',  'Music', 5],\n",
        "                ['George', 'Music', 5]\n",
        "               ])\n",
        "group_col_idx = 0\n",
        "\n",
        "```\n",
        "\n",
        "**Expected Output:**\n",
        "```\n",
        "array([['1', 'John', 'English', '4'],\n",
        "       ['2', 'Paul', 'English', '5'],\n",
        "       ['3', 'Ringo', 'English', '4'],\n",
        "       ['0', 'George', 'English', '4'],\n",
        "       ['1', 'John', 'Math', '3'],\n",
        "       ['2', 'Paul', 'Math', '4'],\n",
        "       ['3', 'Ringo', 'Math', '4'],\n",
        "       ['0', 'George', 'Math', '4'],\n",
        "       ['1', 'John', 'Music', '5'],\n",
        "       ['2', 'Paul', 'Music', '5'],\n",
        "       ['3', 'Ringo', 'Music', '5'],\n",
        "       ['0', 'George', 'Music', '5']], dtype='<U21')\n",
        "```"
      ]
    },
    {
      "cell_type": "code",
      "metadata": {
        "id": "uPhG96evGufn",
        "colab_type": "code",
        "colab": {}
      },
      "source": [
        "import numpy as np\n",
        "\n",
        "# Input:\n",
        "arr = np.array([['John',   'English', 4],\n",
        "                ['Paul',   'English', 5],\n",
        "                ['Ringo',  'English', 4],\n",
        "                ['George', 'English', 4],\n",
        "                ['John',   'Math', 3],\n",
        "                ['Paul',   'Math', 4],\n",
        "                ['Ringo',  'Math', 4],\n",
        "                ['George', 'Math', 4],\n",
        "                ['John',   'Music', 5],\n",
        "                ['Paul',   'Music', 5],\n",
        "                ['Ringo',  'Music', 5],\n",
        "                ['George', 'Music', 5]\n",
        "               ])\n",
        "group_col_idx = 0\n",
        "\n",
        "# Enter your code here"
      ],
      "execution_count": 0,
      "outputs": []
    },
    {
      "cell_type": "markdown",
      "metadata": {
        "id": "wVbx71_4Gufo",
        "colab_type": "text"
      },
      "source": [
        "###Solution A:"
      ]
    },
    {
      "cell_type": "code",
      "metadata": {
        "id": "oIS4N1AWGufo",
        "colab_type": "code",
        "colab": {}
      },
      "source": [
        "import numpy as np\n",
        "\n",
        "# Input:\n",
        "arr = np.array([['John',   'English', 4],\n",
        "                ['Paul',   'English', 5],\n",
        "                ['Ringo',  'English', 4],\n",
        "                ['George', 'English', 4],\n",
        "                ['John',   'Math', 3],\n",
        "                ['Paul',   'Math', 4],\n",
        "                ['Ringo',  'Math', 4],\n",
        "                ['George', 'Math', 4],\n",
        "                ['John',   'Music', 5],\n",
        "                ['Paul',   'Music', 5],\n",
        "                ['Ringo',  'Music', 5],\n",
        "                ['George', 'Music', 5]\n",
        "               ])\n",
        "group_col_idx = 0\n",
        "\n",
        "# Solution:\n",
        "grs = arr[:, group_col_idx]\n",
        "output = [np.argwhere(np.unique(grs) == e).tolist()[0][0] for e in grs]\n",
        "np.vstack((output, arr.T)).T"
      ],
      "execution_count": 0,
      "outputs": []
    },
    {
      "cell_type": "markdown",
      "metadata": {
        "id": "62OTRYivaOuH",
        "colab_type": "text"
      },
      "source": [
        "###Solution B:"
      ]
    },
    {
      "cell_type": "code",
      "metadata": {
        "id": "2bsD5lZdaP1q",
        "colab_type": "code",
        "colab": {}
      },
      "source": [
        "import numpy as np\n",
        "\n",
        "# Input:\n",
        "arr = np.array([['John',   'English', 4],\n",
        "                ['Paul',   'English', 5],\n",
        "                ['Ringo',  'English', 4],\n",
        "                ['George', 'English', 4],\n",
        "                ['John',   'Math', 3],\n",
        "                ['Paul',   'Math', 4],\n",
        "                ['Ringo',  'Math', 4],\n",
        "                ['George', 'Math', 4],\n",
        "                ['John',   'Music', 5],\n",
        "                ['Paul',   'Music', 5],\n",
        "                ['Ringo',  'Music', 5],\n",
        "                ['George', 'Music', 5]\n",
        "               ])\n",
        "group_col_idx = 0\n",
        "\n",
        "# Solution:\n",
        "grs = arr[:, group_col_idx]\n",
        "output = []\n",
        "uniqs = np.unique(grs)\n",
        "\n",
        "for e in grs:\n",
        "  group_id = np.argwhere(uniqs == e).tolist()[0][0]\n",
        "  output.append(group_id)\n",
        "\n",
        "np.vstack((output, arr.T)).T"
      ],
      "execution_count": 0,
      "outputs": []
    },
    {
      "cell_type": "markdown",
      "metadata": {
        "id": "WNmo-OttGuf3",
        "colab_type": "text"
      },
      "source": [
        "##5. How to find all the local maxima (or peaks) in a 1d array?"
      ]
    },
    {
      "cell_type": "markdown",
      "metadata": {
        "id": "FbmhsuLNdAFf",
        "colab_type": "text"
      },
      "source": [
        "**Problem:**\n",
        "Find all the peaks in a 1D numpy array.\n",
        "Peaks are points surrounded by smaller values on both sides.\n",
        "\n",
        "**Possible Input:**\n",
        "```python\n",
        "import numpy as np\n",
        "\n",
        "# Input\n",
        "a = np.array([1, 3, 7, 1, 2, 6, 0, 1])\n",
        "```\n",
        "\n",
        "**Expected Output:**\n",
        "```\n",
        "array([2, 5])\n",
        "```"
      ]
    },
    {
      "cell_type": "code",
      "metadata": {
        "id": "zMBZaa68Guf3",
        "colab_type": "code",
        "colab": {}
      },
      "source": [
        "import numpy as np\n",
        "\n",
        "# Input\n",
        "a = np.array([1, 3, 7, 1, 2, 6, 0, 1])\n",
        "\n",
        "# Enter your code here"
      ],
      "execution_count": 0,
      "outputs": []
    },
    {
      "cell_type": "markdown",
      "metadata": {
        "id": "XvNMgmPrGuf3",
        "colab_type": "text"
      },
      "source": [
        "###Solution:"
      ]
    },
    {
      "cell_type": "code",
      "metadata": {
        "id": "DHLW0mF1Guf4",
        "colab_type": "code",
        "colab": {}
      },
      "source": [
        "import numpy as np\n",
        "\n",
        "# Input\n",
        "a = np.array([1, 3, 7, 1, 2, 6, 0, 1])\n",
        "\n",
        "# Solution\n",
        "doublediff = np.diff(np.sign(np.diff(a)))\n",
        "peak_locations = np.where(doublediff == -2)[0] + 1\n",
        "peak_locations"
      ],
      "execution_count": 0,
      "outputs": []
    },
    {
      "cell_type": "markdown",
      "metadata": {
        "id": "oVqGc-WpGugE",
        "colab_type": "text"
      },
      "source": [
        "##6. How to create strides from a given 1D array?\n"
      ]
    },
    {
      "cell_type": "markdown",
      "metadata": {
        "id": "KhgRyooIw847",
        "colab_type": "text"
      },
      "source": [
        "**Problem:**\n",
        "Implement function that generates 1D array by given 2D matrix.\n",
        "Rows of matrix should represent window of given size (wnd) copied for 1D array with stride (strd).\n",
        "Print result for 1D array [1,2,3,...,14], wnd=4, and strd=2.\n",
        "\n",
        "**Possible Input:**\n",
        "```python\n",
        "arr = np.array([ 0,  1,  2,  3,  4,  5,  6,  7,  8,  9, 10, 11, 12, 13, 14])\n",
        "window_sz = 4\n",
        "stride = 2\n",
        "```\n",
        "\n",
        "**Expected Output:**\n",
        "```\n",
        "array([[ 0,  1,  2,  3],\n",
        "       [ 2,  3,  4,  5],\n",
        "       [ 4,  5,  6,  7],\n",
        "       [ 6,  7,  8,  9],\n",
        "       [ 8,  9, 10, 11],\n",
        "       [10, 11, 12, 13]])\n",
        "```"
      ]
    },
    {
      "cell_type": "code",
      "metadata": {
        "id": "1yTQdQ3oGugE",
        "colab_type": "code",
        "colab": {}
      },
      "source": [
        "import numpy as np\n",
        "\n",
        "def gen_strides(a, strd, wnd):\n",
        "  # Enter your code here\n",
        "\n",
        "\n",
        "# Input:\n",
        "arr = np.array([ 0,  1,  2,  3,  4,  5,  6,  7,  8,  9, 10, 11, 12, 13, 14])\n",
        "window_sz = 4\n",
        "stride = 2\n",
        "\n",
        "# Output:\n",
        "gen_strides(arr, stride, window_sz)"
      ],
      "execution_count": 0,
      "outputs": []
    },
    {
      "cell_type": "markdown",
      "metadata": {
        "id": "rK0VvaJ0GugF",
        "colab_type": "text"
      },
      "source": [
        "\n",
        "###Solution:"
      ]
    },
    {
      "cell_type": "code",
      "metadata": {
        "id": "rYjt252pGugF",
        "colab_type": "code",
        "colab": {}
      },
      "source": [
        "import numpy as np\n",
        "\n",
        "def gen_strides(a, strd, wnd):\n",
        "  # Solution:\n",
        "  n_strides = 1 + (a.size - wnd) // strd\n",
        "  return np.array([a[s:(s+wnd)] for s in np.arange(0, n_strides*strd, strd)])\n",
        "\n",
        "# Input:\n",
        "arr = np.array([ 0,  1,  2,  3,  4,  5,  6,  7,  8,  9, 10, 11, 12, 13, 14])\n",
        "window_sz = 4\n",
        "stride = 2\n",
        "\n",
        "# Output:\n",
        "gen_strides(arr, stride, window_sz)"
      ],
      "execution_count": 0,
      "outputs": []
    },
    {
      "cell_type": "markdown",
      "metadata": {
        "id": "HVRcza403G8p",
        "colab_type": "text"
      },
      "source": [
        "#7. Minesweeper."
      ]
    },
    {
      "cell_type": "markdown",
      "metadata": {
        "id": "9f6xhTnQDaqG",
        "colab_type": "text"
      },
      "source": [
        "## 1. Generate field of given size containing zeros and ones (\"mines\")"
      ]
    },
    {
      "cell_type": "markdown",
      "metadata": {
        "id": "XoCPMWc7Hzyc",
        "colab_type": "text"
      },
      "source": [
        "**Problem:**\n",
        "Create numpy array `field_mask`.\n",
        "Size of the array is given as tuple `field_m_n`.\n",
        "Set all entries equal to zero except few randomly chosen that you should set to 1.\n",
        "Number of ones is given as `num_mines`.\n",
        "\n",
        "**Possible Input:**\n",
        "```python\n",
        "field_m_n = (5, 5)\n",
        "num_mines = 3\n",
        "```\n",
        "\n",
        "**Possible Output:**\n",
        "```\n",
        "array([[0, 0, 0, 0, 0],\n",
        "       [0, 0, 0, 0, 1],\n",
        "       [0, 0, 0, 0, 1],\n",
        "       [0, 0, 0, 0, 0],\n",
        "       [0, 1, 0, 0, 0]], dtype=uint8)\n",
        "```"
      ]
    },
    {
      "cell_type": "code",
      "metadata": {
        "id": "o4Orvk2GEqhf",
        "colab_type": "code",
        "colab": {}
      },
      "source": [
        "import numpy as np\n",
        "\n",
        "# Input\n",
        "field_m_n = (5, 5)\n",
        "num_mines = 3\n",
        "\n",
        "# Enter your code here\n",
        "\n",
        "# Output\n",
        "field_mask"
      ],
      "execution_count": 0,
      "outputs": []
    },
    {
      "cell_type": "markdown",
      "metadata": {
        "id": "Avqtd7CEEyot",
        "colab_type": "text"
      },
      "source": [
        "### Solution"
      ]
    },
    {
      "cell_type": "code",
      "metadata": {
        "id": "aVrBFkkgBT2N",
        "colab_type": "code",
        "colab": {}
      },
      "source": [
        "import numpy as np\n",
        "\n",
        "# Input\n",
        "field_m_n = (5, 5)\n",
        "num_mines = 3\n",
        "\n",
        "# Solution\n",
        "_t = np.arange(0, field_m_n[0] * field_m_n[1], 1)\n",
        "np.random.shuffle(_t)\n",
        "\n",
        "mines_ix = _t[:num_mines]\n",
        "\n",
        "field_mask = np.zeros(shape=field_m_n, dtype=np.uint8)\n",
        "field_mask.ravel()[mines_ix] = 1\n",
        "\n",
        "# Output\n",
        "field_mask"
      ],
      "execution_count": 0,
      "outputs": []
    },
    {
      "cell_type": "markdown",
      "metadata": {
        "id": "v4OeM5HlE_j5",
        "colab_type": "text"
      },
      "source": [
        "## 2. Count neighbours"
      ]
    },
    {
      "cell_type": "markdown",
      "metadata": {
        "id": "guVecFmZHmuQ",
        "colab_type": "text"
      },
      "source": [
        "\n",
        "**Problem:**\n",
        "Given `field_mask` -- array of zeros and ones (0 - no mine, 1 - mine) generate array `mines` that contains number of neighbouring mines. Cells where the actual mines are positioned fill with numpy nan.\n",
        "\n",
        "**Possible Input:**\n",
        "```python\n",
        "field_mask = np.array([[0, 0, 0, 0, 0],\n",
        "                       [0, 0, 0, 0, 1],\n",
        "                       [0, 0, 0, 0, 1],\n",
        "                       [0, 0, 0, 0, 0],\n",
        "                       [0, 1, 0, 0, 0]], dtype=np.uint8)\n",
        "```\n",
        "\n",
        "**Expected Output:**\n",
        "```\n",
        "array([[ 0.,  0.,  0.,  1.,  1.],\n",
        "       [ 0.,  0.,  0.,  2., nan],\n",
        "       [ 0.,  0.,  0.,  2., nan],\n",
        "       [ 1.,  1.,  1.,  1.,  1.],\n",
        "       [ 1., nan,  1.,  0.,  0.]], dtype=float32)\n",
        "```       "
      ]
    },
    {
      "cell_type": "code",
      "metadata": {
        "id": "H7xQpn3wG2Qi",
        "colab_type": "code",
        "colab": {}
      },
      "source": [
        "import numpy as np\n",
        "\n",
        "# Input\n",
        "field_mask = np.array([[0, 0, 0, 0, 0],\n",
        "                       [0, 0, 0, 0, 1],\n",
        "                       [0, 0, 0, 0, 1],\n",
        "                       [0, 0, 0, 0, 0],\n",
        "                       [0, 1, 0, 0, 0]], dtype=np.uint8)\n",
        "\n",
        "# Enter your code here\n",
        "\n",
        "# Output\n",
        "mines"
      ],
      "execution_count": 0,
      "outputs": []
    },
    {
      "cell_type": "markdown",
      "metadata": {
        "id": "H4TpHc1MHVzx",
        "colab_type": "text"
      },
      "source": [
        "### Solution"
      ]
    },
    {
      "cell_type": "code",
      "metadata": {
        "id": "AyT1K0XcC-Qm",
        "colab_type": "code",
        "colab": {}
      },
      "source": [
        "import numpy as np\n",
        "\n",
        "# Input\n",
        "field_mask = np.array([[0, 0, 0, 0, 0],\n",
        "                       [0, 0, 0, 0, 1],\n",
        "                       [0, 0, 0, 0, 1],\n",
        "                       [0, 0, 0, 0, 0],\n",
        "                       [0, 1, 0, 0, 0]], dtype=np.uint8)\n",
        "\n",
        "# Solution\n",
        "padded_field_mask = np.zeros(shape=(field_mask.shape[0] + 2, field_mask.shape[1] + 2), dtype=np.uint8)\n",
        "padded_field_mask[1:-1, 1:-1] = field_mask\n",
        "\n",
        "mines = np.zeros(shape=field_mask.shape, dtype=np.uint8)\n",
        "\n",
        "ker = np.ones(shape=(3, 3), dtype=np.uint8)\n",
        "for i in range(field_mask.shape[0]):\n",
        "  for j in range(field_mask.shape[1]):\n",
        "    mines[i, j] = (padded_field_mask[i:i+3, j:j+3] * ker).sum()\n",
        "    \n",
        "mines = mines.astype(np.float32)\n",
        "mines[field_mask == 1] = np.nan\n",
        "\n",
        "# Output\n",
        "mines"
      ],
      "execution_count": 0,
      "outputs": []
    },
    {
      "cell_type": "markdown",
      "metadata": {
        "id": "RgZh8-L7Hbdf",
        "colab_type": "text"
      },
      "source": [
        "## 3. Collect everything together"
      ]
    },
    {
      "cell_type": "markdown",
      "metadata": {
        "id": "K3ZrGju_H8Ya",
        "colab_type": "text"
      },
      "source": [
        "**Problem:**\n",
        "complete given code by copy-pasting you previous solutions to marked places"
      ]
    },
    {
      "cell_type": "code",
      "metadata": {
        "id": "FUm31-BHIrJG",
        "colab_type": "code",
        "colab": {}
      },
      "source": [
        "import numpy as np\n",
        "\n",
        "field_m_n = (5, 5)\n",
        "num_mines = 3\n",
        "\n",
        "# Put solution to problem 1 here\n",
        "\n",
        "# Put solution to problem 2 here\n",
        "\n",
        "\n",
        "style_str = '''\n",
        "<style>\n",
        "   div.general { \n",
        "    font-size: 120%; \n",
        "    font-family: Verdana, Arial, Helvetica, sans-serif; \n",
        "    color: #333366; \n",
        "    width:  30px;\n",
        "    height: 30px;\n",
        "    cursor: default;\n",
        "    vertical-align: middle;\n",
        "    text-align: center;\n",
        "   }\n",
        "   div.closed { \n",
        "    background-color: RGB(50, 0, 50);\n",
        "   }\n",
        "   div.open { \n",
        "    background-color: RGB(255, 255, 255);\n",
        "   }\n",
        "</style>\\n\\n\n",
        "'''\n",
        "\n",
        "\n",
        "import IPython\n",
        "from google.colab import output\n",
        "\n",
        "def generate_grid_html(fld):\n",
        "  w, h = fld.shape\n",
        "  s = style_str\n",
        "  s += '<table>\\n'\n",
        "  for y in range(h):\n",
        "    s += '\\t<tr>\\n'\n",
        "    for x in range(w):\n",
        "      s += '\\t\\t<td>'\n",
        "      if fld[y, x] < 0.0:\n",
        "        s += '<div class=\\\"general closed\\\"'\n",
        "        s += 'onclick=\\\"google.colab.kernel.invokeFunction(\\'notebook.FieldClick\\', ['\n",
        "        s += str(x) + ',' + str(y) \n",
        "        s += ' ], {})\\\"></div>'\n",
        "      elif np.isnan(fld[y, x]):\n",
        "        s += '<div class=\\\"general open\\\">'\n",
        "        s += '*'\n",
        "        s += '</div>'        \n",
        "      else:\n",
        "        s += '<div class=\\\"general open\\\">'\n",
        "        s += str(int(fld[y, x])) \n",
        "        s += '</div>'\n",
        "      s += '</td>\\n'\n",
        "    s += '\\t</tr>\\n'\n",
        "  s += '</table>'\n",
        "  #print(s)\n",
        "  return s\n",
        "  \n",
        "field = np.repeat(-1.0, mines.size).reshape(mines.shape)\n",
        "display(IPython.display.HTML(generate_grid_html(field)))\n",
        "\n",
        "def recursive_open(mines, x, y, mask):\n",
        "  w, h = mines.shape\n",
        "  x = np.clip(x, 0, w - 1)\n",
        "  y = np.clip(y, 0, h - 1)\n",
        "  if mask[y,x] == 1:\n",
        "    return\n",
        "  mask[y,x] = 1\n",
        "  if mines[y,x] != 0:\n",
        "    return\n",
        "  for dx in [-1, 0, 1]:\n",
        "    for dy in [-1, 0, 1]:\n",
        "      recursive_open(mines, x + dx, y + dy, mask)\n",
        "\n",
        "def field_click(x, y):\n",
        "  global field\n",
        "  global mines\n",
        "  if np.isnan(mines[y][x]):\n",
        "    field = mines\n",
        "  opened = np.repeat(0, mines.size).reshape(mines.shape)\n",
        "  recursive_open(mines, x, y, opened)\n",
        "  field[opened == 1] = mines[opened == 1]\n",
        "  output.clear(wait=False)\n",
        "  display(IPython.display.HTML(generate_grid_html(field)))\n",
        "  if np.isnan(mines[y,x]):\n",
        "    print(\"BOOM!!\")\n",
        "  elif np.sum(field > -1.0) == np.count_nonzero(~np.isnan(mines)):\n",
        "    print(\"WINNER!!!\")\n",
        "    \n",
        "    \n",
        "output.register_callback('notebook.FieldClick', field_click)"
      ],
      "execution_count": 0,
      "outputs": []
    },
    {
      "cell_type": "markdown",
      "metadata": {
        "id": "T8XOaFJJI4aL",
        "colab_type": "text"
      },
      "source": [
        "### Solution"
      ]
    },
    {
      "cell_type": "code",
      "metadata": {
        "id": "P9Bm_x9D3LMk",
        "colab_type": "code",
        "outputId": "1c60676c-726f-437b-a3b5-412347c127f4",
        "colab": {
          "base_uri": "https://localhost:8080/",
          "height": 206
        }
      },
      "source": [
        "import numpy as np\n",
        "\n",
        "field_m_n = (5, 5)\n",
        "num_mines = 3\n",
        "\n",
        "_t = np.arange(0, field_m_n[0] * field_m_n[1], 1)\n",
        "np.random.shuffle(_t)\n",
        "\n",
        "mines_ix = _t[:num_mines]\n",
        "\n",
        "field_mask = np.zeros(shape=field_m_n, dtype=np.uint8)\n",
        "field_mask.ravel()[mines_ix] = 1\n",
        "\n",
        "padded_field_mask = np.zeros(shape=(field_mask.shape[0] + 2, field_mask.shape[1] + 2), dtype=np.uint8)\n",
        "padded_field_mask[1:-1, 1:-1] = field_mask\n",
        "\n",
        "mines = np.zeros(shape=field_mask.shape, dtype=np.uint8)\n",
        "\n",
        "ker = np.ones(shape=(3, 3), dtype=np.uint8)\n",
        "for i in range(field_mask.shape[0]):\n",
        "  for j in range(field_mask.shape[1]):\n",
        "    mines[i, j] = (padded_field_mask[i:i+3, j:j+3] * ker).sum()\n",
        "    \n",
        "mines = mines.astype(np.float32)\n",
        "mines[field_mask == 1] = np.nan\n",
        "\n",
        "\n",
        "style_str = '''\n",
        "<style>\n",
        "   div.general { \n",
        "    font-size: 120%; \n",
        "    font-family: Verdana, Arial, Helvetica, sans-serif; \n",
        "    color: #333366; \n",
        "    width:  30px;\n",
        "    height: 30px;\n",
        "    cursor: default;\n",
        "    vertical-align: middle;\n",
        "    text-align: center;\n",
        "   }\n",
        "   div.closed { \n",
        "    background-color: RGB(50, 0, 50);\n",
        "   }\n",
        "   div.open { \n",
        "    background-color: RGB(255, 255, 255);\n",
        "   }\n",
        "</style>\\n\\n\n",
        "'''\n",
        "\n",
        "\n",
        "import IPython\n",
        "from google.colab import output\n",
        "\n",
        "def generate_grid_html(fld):\n",
        "  w, h = fld.shape\n",
        "  s = style_str\n",
        "  s += '<table>\\n'\n",
        "  for y in range(h):\n",
        "    s += '\\t<tr>\\n'\n",
        "    for x in range(w):\n",
        "      s += '\\t\\t<td>'\n",
        "      if fld[y, x] < 0.0:\n",
        "        s += '<div class=\\\"general closed\\\"'\n",
        "        s += 'onclick=\\\"google.colab.kernel.invokeFunction(\\'notebook.FieldClick\\', ['\n",
        "        s += str(x) + ',' + str(y) \n",
        "        s += ' ], {})\\\"></div>'\n",
        "      elif np.isnan(fld[y, x]):\n",
        "        s += '<div class=\\\"general open\\\">'\n",
        "        s += '*'\n",
        "        s += '</div>'        \n",
        "      else:\n",
        "        s += '<div class=\\\"general open\\\">'\n",
        "        s += str(int(fld[y, x]))\n",
        "        s += '</div>'\n",
        "      s += '</td>\\n'\n",
        "    s += '\\t</tr>\\n'\n",
        "  s += '</table>'\n",
        "  #print(s)\n",
        "  return s\n",
        "  \n",
        "field = np.repeat(-1.0, mines.size).reshape(mines.shape)\n",
        "display(IPython.display.HTML(generate_grid_html(field)))\n",
        "\n",
        "def recursive_open(mines, x, y, mask):\n",
        "  w, h = mines.shape\n",
        "  x = np.clip(x, 0, w - 1)\n",
        "  y = np.clip(y, 0, h - 1)\n",
        "  if mask[y,x] == 1:\n",
        "    return\n",
        "  mask[y,x] = 1\n",
        "  if mines[y,x] != 0:\n",
        "    return\n",
        "  for dx in [-1, 0, 1]:\n",
        "    for dy in [-1, 0, 1]:\n",
        "      recursive_open(mines, x + dx, y + dy, mask)\n",
        "\n",
        "def field_click(x, y):\n",
        "  global field\n",
        "  global mines\n",
        "  if np.isnan(mines[y][x]):\n",
        "    field = mines\n",
        "  opened = np.repeat(0, mines.size).reshape(mines.shape)\n",
        "  recursive_open(mines, x, y, opened)\n",
        "  field[opened == 1] = mines[opened == 1]\n",
        "  output.clear(wait=False)\n",
        "  display(IPython.display.HTML(generate_grid_html(field)))\n",
        "  if np.isnan(mines[y,x]):\n",
        "    print(\"BOOM!!\")\n",
        "  elif np.sum(field > -1.0) == np.count_nonzero(~np.isnan(mines)):\n",
        "    print(\"WINNER!!!\")\n",
        "    \n",
        "    \n",
        "output.register_callback('notebook.FieldClick', field_click)"
      ],
      "execution_count": 0,
      "outputs": [
        {
          "output_type": "display_data",
          "data": {
            "text/html": [
              "\n",
              "<style>\n",
              "   div.general { \n",
              "    font-size: 120%; \n",
              "    font-family: Verdana, Arial, Helvetica, sans-serif; \n",
              "    color: #333366; \n",
              "    width:  30px;\n",
              "    height: 30px;\n",
              "    cursor: default;\n",
              "    vertical-align: middle;\n",
              "    text-align: center;\n",
              "   }\n",
              "   div.closed { \n",
              "    background-color: RGB(50, 0, 50);\n",
              "   }\n",
              "   div.open { \n",
              "    background-color: RGB(255, 255, 255);\n",
              "   }\n",
              "</style>\n",
              "\n",
              "\n",
              "<table>\n",
              "\t<tr>\n",
              "\t\t<td><div class=\"general open\">0</div></td>\n",
              "\t\t<td><div class=\"general open\">0</div></td>\n",
              "\t\t<td><div class=\"general open\">1</div></td>\n",
              "\t\t<td><div class=\"general open\">1</div></td>\n",
              "\t\t<td><div class=\"general open\">1</div></td>\n",
              "\t</tr>\n",
              "\t<tr>\n",
              "\t\t<td><div class=\"general open\">1</div></td>\n",
              "\t\t<td><div class=\"general open\">1</div></td>\n",
              "\t\t<td><div class=\"general open\">1</div></td>\n",
              "\t\t<td><div class=\"general closed\"onclick=\"google.colab.kernel.invokeFunction('notebook.FieldClick', [3,1 ], {})\"></div></td>\n",
              "\t\t<td><div class=\"general open\">2</div></td>\n",
              "\t</tr>\n",
              "\t<tr>\n",
              "\t\t<td><div class=\"general closed\"onclick=\"google.colab.kernel.invokeFunction('notebook.FieldClick', [0,2 ], {})\"></div></td>\n",
              "\t\t<td><div class=\"general open\">1</div></td>\n",
              "\t\t<td><div class=\"general open\">1</div></td>\n",
              "\t\t<td><div class=\"general open\">2</div></td>\n",
              "\t\t<td><div class=\"general closed\"onclick=\"google.colab.kernel.invokeFunction('notebook.FieldClick', [4,2 ], {})\"></div></td>\n",
              "\t</tr>\n",
              "\t<tr>\n",
              "\t\t<td><div class=\"general open\">1</div></td>\n",
              "\t\t<td><div class=\"general open\">1</div></td>\n",
              "\t\t<td><div class=\"general open\">0</div></td>\n",
              "\t\t<td><div class=\"general open\">1</div></td>\n",
              "\t\t<td><div class=\"general open\">1</div></td>\n",
              "\t</tr>\n",
              "\t<tr>\n",
              "\t\t<td><div class=\"general open\">0</div></td>\n",
              "\t\t<td><div class=\"general open\">0</div></td>\n",
              "\t\t<td><div class=\"general open\">0</div></td>\n",
              "\t\t<td><div class=\"general open\">0</div></td>\n",
              "\t\t<td><div class=\"general open\">0</div></td>\n",
              "\t</tr>\n",
              "</table>"
            ],
            "text/plain": [
              "<IPython.core.display.HTML object>"
            ]
          },
          "metadata": {
            "tags": []
          }
        },
        {
          "output_type": "stream",
          "text": [
            "WINNER!!!\n"
          ],
          "name": "stdout"
        }
      ]
    }
  ]
}