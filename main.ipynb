{
  "nbformat": 4,
  "nbformat_minor": 0,
  "metadata": {
    "colab": {
      "name": "main.ipynb",
      "version": "0.3.2",
      "provenance": [],
      "include_colab_link": true
    },
    "kernelspec": {
      "name": "python3",
      "display_name": "Python 3"
    }
  },
  "cells": [
    {
      "cell_type": "markdown",
      "metadata": {
        "id": "view-in-github",
        "colab_type": "text"
      },
      "source": [
        "<a href=\"https://colab.research.google.com/github/fbeilstein/machine_learning/blob/master/main.ipynb\" target=\"_parent\"><img src=\"https://colab.research.google.com/assets/colab-badge.svg\" alt=\"Open In Colab\"/></a>"
      ]
    },
    {
      "cell_type": "code",
      "metadata": {
        "id": "asM9sHw6cNkS",
        "colab_type": "code",
        "colab": {}
      },
      "source": [
        ""
      ],
      "execution_count": 0,
      "outputs": []
    },
    {
      "cell_type": "markdown",
      "metadata": {
        "id": "g6oJTNvdcTvj",
        "colab_type": "text"
      },
      "source": [
        "1.   Naive Bayes Classification\n",
        "2.   Linear Regression\n",
        "3.   Support Vector Machines\n",
        "4.   Decision Trees and Random Forests\n",
        "5.   Principal Component Analysis\n",
        "6.   Manifold Learning\n",
        "7.   k-Means Clustering\n",
        "8.   Gaussian Mixture Models\n",
        "9.   Kernel Density Estimation\n",
        "10.    Getting in touch with TF\n",
        "11.    Simple NN\n",
        "\n"
      ]
    },
    {
      "cell_type": "markdown",
      "metadata": {
        "id": "wsYC4nXxcWy9",
        "colab_type": "text"
      },
      "source": [
        "Python problems\n",
        "[all problems](https://www.hackerrank.com/domains/python)"
      ]
    }
  ]
}